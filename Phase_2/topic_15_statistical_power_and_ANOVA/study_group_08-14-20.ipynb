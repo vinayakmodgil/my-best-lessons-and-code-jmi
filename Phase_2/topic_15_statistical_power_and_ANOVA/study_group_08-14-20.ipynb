{
 "cells": [
  {
   "cell_type": "markdown",
   "metadata": {},
   "source": [
    "# Study Group 08/14/20"
   ]
  },
  {
   "cell_type": "markdown",
   "metadata": {},
   "source": [
    "- online-ds-ft-070620"
   ]
  },
  {
   "cell_type": "markdown",
   "metadata": {},
   "source": [
    "## Announcements"
   ]
  },
  {
   "cell_type": "markdown",
   "metadata": {},
   "source": [
    "- We will finish covering sect 15-16 + remaining questions at Tuesday's (08/18) Study Group"
   ]
  },
  {
   "cell_type": "markdown",
   "metadata": {},
   "source": [
    "### Mod 2 Project + Related Lessons"
   ]
  },
  {
   "cell_type": "markdown",
   "metadata": {},
   "source": [
    "- Next week is last week of content before the Mod 2 Project.\n",
    "- Mod 2 Project week is 08/24 to 8/28.\n",
    "    \n",
    "\n",
    "> To focus on the Mod 2 project-related sections, we are making some adjustments to the schedule:\n",
    "- **Two Sections (17 & 20) will be moved to Mod 3 (and covered with related material).**\n",
    "    - Sect 17: Bayesian Statistics will be covered with Sect 28: Naive Bayes Classifiers.- Mod 3 Week Two\n",
    "    - Sect 20: Extensions to Linear Models will be covered with Sect 24: Regularization. - Mod 3 Week One  \n",
    "- **We will be covering an Appendix section: Multiple Linear Regression Project**"
   ]
  },
  {
   "cell_type": "code",
   "execution_count": null,
   "metadata": {},
   "outputs": [],
   "source": []
  }
 ],
 "metadata": {
  "kernelspec": {
   "display_name": "learn-env",
   "language": "python",
   "name": "learn-env"
  },
  "language_info": {
   "codemirror_mode": {
    "name": "ipython",
    "version": 3
   },
   "file_extension": ".py",
   "mimetype": "text/x-python",
   "name": "python",
   "nbconvert_exporter": "python",
   "pygments_lexer": "ipython3",
   "version": "3.6.11"
  },
  "toc": {
   "base_numbering": 1,
   "nav_menu": {},
   "number_sections": false,
   "sideBar": true,
   "skip_h1_title": false,
   "title_cell": "Table of Contents",
   "title_sidebar": "Contents",
   "toc_cell": false,
   "toc_position": {},
   "toc_section_display": true,
   "toc_window_display": false
  }
 },
 "nbformat": 4,
 "nbformat_minor": 4
}

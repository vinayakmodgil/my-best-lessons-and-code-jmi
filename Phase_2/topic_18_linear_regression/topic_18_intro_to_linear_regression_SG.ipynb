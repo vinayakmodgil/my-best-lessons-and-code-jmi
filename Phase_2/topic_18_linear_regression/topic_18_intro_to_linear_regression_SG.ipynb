{
 "cells": [
  {
   "cell_type": "markdown",
   "metadata": {
    "colab_type": "text",
    "id": "aLOekNHb6bKc"
   },
   "source": [
    "# Topic 18: Intro to Linear Regression"
   ]
  },
  {
   "cell_type": "markdown",
   "metadata": {},
   "source": [
    "- onl01-dtsc-xt-xxxxxx\n",
    "- xx/xx/xx"
   ]
  },
  {
   "cell_type": "markdown",
   "metadata": {},
   "source": [
    "## ANNOUNCEMENTS"
   ]
  },
  {
   "cell_type": "markdown",
   "metadata": {},
   "source": [
    "- **Mod 2 Project Kicks off this Friday**\n",
    "    - No groups for this mod project (but can group again on mod 3 project).\n",
    "    \n",
    "- **Reminder: we will be covering the appendix Multiple Regression project lesson** on Friday."
   ]
  },
  {
   "cell_type": "markdown",
   "metadata": {},
   "source": [
    "## Questions?"
   ]
  },
  {
   "cell_type": "markdown",
   "metadata": {},
   "source": [
    "- "
   ]
  },
  {
   "cell_type": "markdown",
   "metadata": {},
   "source": [
    "#  Intro to Statistical Learning"
   ]
  },
  {
   "cell_type": "markdown",
   "metadata": {
    "colab_type": "text",
    "id": "BBt-l4rOvtaa"
   },
   "source": [
    "## Types of Data in Statistical Learning "
   ]
  },
  {
   "cell_type": "markdown",
   "metadata": {
    "colab_type": "text",
    "id": "BBt-l4rOvtaa"
   },
   "source": [
    "In the context of Statistical learning, there are two main types of data:\n",
    "\n",
    "* **Dependent variables**: data that can be controlled directly (other names: outcome variables, target variables, response variables) \n",
    "* **Independent variables**: data that cannot be controlled directly (other names: predictor variables, input variables, explanatory variables, features)\n",
    "\n",
    "$$ y = mx+b $$\n",
    "\n",
    "$$ dependent = m*independent+constant$$\n",
    "\n",
    "$$ income = m*age+constant$$\n",
    "\n",
    "$$ weight = m*height+constant$$"
   ]
  },
  {
   "cell_type": "markdown",
   "metadata": {
    "colab_type": "text",
    "id": "mk7rPgLe2Akn"
   },
   "source": [
    "## Simple Linear Regression "
   ]
  },
  {
   "cell_type": "code",
   "execution_count": 1,
   "metadata": {
    "ExecuteTime": {
     "end_time": "2020-08-19T15:58:41.997037Z",
     "start_time": "2020-08-19T15:58:39.999075Z"
    }
   },
   "outputs": [
    {
     "name": "stdout",
     "output_type": "stream",
     "text": [
      "fsds v0.3.2 loaded.  Read the docs: https://fs-ds.readthedocs.io/en/latest/ \n"
     ]
    },
    {
     "data": {
      "text/html": [
       "<style  type=\"text/css\" >\n",
       "</style><table id=\"T_4ba3a2d2_97c1_11eb_9617_acde48001122\" ><caption>Loaded Packages and Handles</caption><thead>    <tr>        <th class=\"col_heading level0 col0\" >Handle</th>        <th class=\"col_heading level0 col1\" >Package</th>        <th class=\"col_heading level0 col2\" >Description</th>    </tr></thead><tbody>\n",
       "                <tr>\n",
       "                                <td id=\"T_4ba3a2d2_97c1_11eb_9617_acde48001122row0_col0\" class=\"data row0 col0\" >dp</td>\n",
       "                        <td id=\"T_4ba3a2d2_97c1_11eb_9617_acde48001122row0_col1\" class=\"data row0 col1\" >IPython.display</td>\n",
       "                        <td id=\"T_4ba3a2d2_97c1_11eb_9617_acde48001122row0_col2\" class=\"data row0 col2\" >Display modules with helpful display and clearing commands.</td>\n",
       "            </tr>\n",
       "            <tr>\n",
       "                                <td id=\"T_4ba3a2d2_97c1_11eb_9617_acde48001122row1_col0\" class=\"data row1 col0\" >fs</td>\n",
       "                        <td id=\"T_4ba3a2d2_97c1_11eb_9617_acde48001122row1_col1\" class=\"data row1 col1\" >fsds</td>\n",
       "                        <td id=\"T_4ba3a2d2_97c1_11eb_9617_acde48001122row1_col2\" class=\"data row1 col2\" >Custom data science bootcamp student package</td>\n",
       "            </tr>\n",
       "            <tr>\n",
       "                                <td id=\"T_4ba3a2d2_97c1_11eb_9617_acde48001122row2_col0\" class=\"data row2 col0\" >mpl</td>\n",
       "                        <td id=\"T_4ba3a2d2_97c1_11eb_9617_acde48001122row2_col1\" class=\"data row2 col1\" >matplotlib</td>\n",
       "                        <td id=\"T_4ba3a2d2_97c1_11eb_9617_acde48001122row2_col2\" class=\"data row2 col2\" >Matplotlib's base OOP module with formatting artists</td>\n",
       "            </tr>\n",
       "            <tr>\n",
       "                                <td id=\"T_4ba3a2d2_97c1_11eb_9617_acde48001122row3_col0\" class=\"data row3 col0\" >plt</td>\n",
       "                        <td id=\"T_4ba3a2d2_97c1_11eb_9617_acde48001122row3_col1\" class=\"data row3 col1\" >matplotlib.pyplot</td>\n",
       "                        <td id=\"T_4ba3a2d2_97c1_11eb_9617_acde48001122row3_col2\" class=\"data row3 col2\" >Matplotlib's matlab-like plotting module</td>\n",
       "            </tr>\n",
       "            <tr>\n",
       "                                <td id=\"T_4ba3a2d2_97c1_11eb_9617_acde48001122row4_col0\" class=\"data row4 col0\" >np</td>\n",
       "                        <td id=\"T_4ba3a2d2_97c1_11eb_9617_acde48001122row4_col1\" class=\"data row4 col1\" >numpy</td>\n",
       "                        <td id=\"T_4ba3a2d2_97c1_11eb_9617_acde48001122row4_col2\" class=\"data row4 col2\" >scientific computing with Python</td>\n",
       "            </tr>\n",
       "            <tr>\n",
       "                                <td id=\"T_4ba3a2d2_97c1_11eb_9617_acde48001122row5_col0\" class=\"data row5 col0\" >pd</td>\n",
       "                        <td id=\"T_4ba3a2d2_97c1_11eb_9617_acde48001122row5_col1\" class=\"data row5 col1\" >pandas</td>\n",
       "                        <td id=\"T_4ba3a2d2_97c1_11eb_9617_acde48001122row5_col2\" class=\"data row5 col2\" >High performance data structures and tools</td>\n",
       "            </tr>\n",
       "            <tr>\n",
       "                                <td id=\"T_4ba3a2d2_97c1_11eb_9617_acde48001122row6_col0\" class=\"data row6 col0\" >sns</td>\n",
       "                        <td id=\"T_4ba3a2d2_97c1_11eb_9617_acde48001122row6_col1\" class=\"data row6 col1\" >seaborn</td>\n",
       "                        <td id=\"T_4ba3a2d2_97c1_11eb_9617_acde48001122row6_col2\" class=\"data row6 col2\" >High-level data visualization library based on matplotlib</td>\n",
       "            </tr>\n",
       "    </tbody></table>"
      ],
      "text/plain": [
       "<pandas.io.formats.style.Styler at 0x7fd9924dc640>"
      ]
     },
     "metadata": {},
     "output_type": "display_data"
    }
   ],
   "source": [
    "# !pip install -U fsds\n",
    "from fsds.imports import *\n",
    "import warnings\n",
    "warnings.filterwarnings('ignore')\n",
    "\n",
    "pd.set_option('display.max_columns',0)\n",
    "\n",
    "plt.style.use('seaborn-talk')"
   ]
  },
  {
   "cell_type": "code",
   "execution_count": 2,
   "metadata": {
    "ExecuteTime": {
     "end_time": "2020-08-19T16:08:48.218732Z",
     "start_time": "2020-08-19T16:08:47.774168Z"
    }
   },
   "outputs": [],
   "source": [
    "## Load in ames dataset\n",
    "df = fs.datasets.load_ames_train(subset=True)\n",
    "\n",
    "\n",
    "## Preview Dataa\n",
    "# display(df.head());\n",
    "\n",
    "## Save Columns of Interest\n",
    "X = df['GrLivArea'].copy()\n",
    "y = df['SalePrice'].copy()"
   ]
  },
  {
   "cell_type": "code",
   "execution_count": 20,
   "metadata": {},
   "outputs": [
    {
     "data": {
      "text/plain": [
       "Index(['adult', 'backdrop_path', 'belongs_to_collection', 'budget', 'genres',\n",
       "       'homepage', 'id', 'imdb_id', 'original_language', 'original_title',\n",
       "       'overview', 'popularity', 'poster_path', 'production_companies',\n",
       "       'production_countries', 'release_date', 'revenue', 'runtime',\n",
       "       'spoken_languages', 'status', 'tagline', 'title', 'video',\n",
       "       'vote_average', 'vote_count', 'mpaa_rating'],\n",
       "      dtype='object')"
      ]
     },
     "execution_count": 20,
     "metadata": {},
     "output_type": "execute_result"
    }
   ],
   "source": [
    "## Thanks to Johnny Dryma for letting us use his data\n",
    "movie_data_url = \"https://raw.githubusercontent.com/Drymander/dsc-phase-1-project/master/data/2012-2019%20FULL.csv\"\n",
    "dfm = pd.read_csv(movie_data_url,index_col=0)\n",
    "dfm.columns"
   ]
  },
  {
   "cell_type": "code",
   "execution_count": 145,
   "metadata": {},
   "outputs": [
    {
     "data": {
      "text/html": [
       "<div>\n",
       "<style scoped>\n",
       "    .dataframe tbody tr th:only-of-type {\n",
       "        vertical-align: middle;\n",
       "    }\n",
       "\n",
       "    .dataframe tbody tr th {\n",
       "        vertical-align: top;\n",
       "    }\n",
       "\n",
       "    .dataframe thead th {\n",
       "        text-align: right;\n",
       "    }\n",
       "</style>\n",
       "<table border=\"1\" class=\"dataframe\">\n",
       "  <thead>\n",
       "    <tr style=\"text-align: right;\">\n",
       "      <th></th>\n",
       "      <th>id</th>\n",
       "      <th>imdb_id</th>\n",
       "      <th>original_title</th>\n",
       "      <th>title</th>\n",
       "      <th>genres</th>\n",
       "      <th>mpaa_rating</th>\n",
       "      <th>production_companies</th>\n",
       "      <th>release_date</th>\n",
       "      <th>runtime</th>\n",
       "      <th>budget</th>\n",
       "      <th>revenue</th>\n",
       "      <th>vote_count</th>\n",
       "      <th>vote_average</th>\n",
       "      <th>popularity</th>\n",
       "      <th>adult</th>\n",
       "      <th>original_language</th>\n",
       "      <th>profit</th>\n",
       "      <th>ROI</th>\n",
       "    </tr>\n",
       "  </thead>\n",
       "  <tbody>\n",
       "    <tr>\n",
       "      <th>0</th>\n",
       "      <td>24428</td>\n",
       "      <td>tt0848228</td>\n",
       "      <td>The Avengers</td>\n",
       "      <td>The Avengers</td>\n",
       "      <td>[{'id': 878, 'name': 'Science Fiction'}, {'id'...</td>\n",
       "      <td>PG-13</td>\n",
       "      <td>[{'id': 420, 'logo_path': '/hUzeosd33nzE5MCNsZ...</td>\n",
       "      <td>4/25/2012</td>\n",
       "      <td>143.0</td>\n",
       "      <td>220000000</td>\n",
       "      <td>1518815515</td>\n",
       "      <td>24252</td>\n",
       "      <td>7.7</td>\n",
       "      <td>151.095</td>\n",
       "      <td>False</td>\n",
       "      <td>en</td>\n",
       "      <td>1298815515</td>\n",
       "      <td>5.903707</td>\n",
       "    </tr>\n",
       "    <tr>\n",
       "      <th>1</th>\n",
       "      <td>50620</td>\n",
       "      <td>tt1673434</td>\n",
       "      <td>The Twilight Saga: Breaking Dawn - Part 2</td>\n",
       "      <td>The Twilight Saga: Breaking Dawn - Part 2</td>\n",
       "      <td>[{'id': 12, 'name': 'Adventure'}, {'id': 14, '...</td>\n",
       "      <td>PG-13</td>\n",
       "      <td>[{'id': 491, 'logo_path': '/rUp0lLKa1pr4UsPm8f...</td>\n",
       "      <td>11/13/2012</td>\n",
       "      <td>115.0</td>\n",
       "      <td>120000000</td>\n",
       "      <td>829000000</td>\n",
       "      <td>6978</td>\n",
       "      <td>6.5</td>\n",
       "      <td>73.226</td>\n",
       "      <td>False</td>\n",
       "      <td>en</td>\n",
       "      <td>709000000</td>\n",
       "      <td>5.908333</td>\n",
       "    </tr>\n",
       "    <tr>\n",
       "      <th>2</th>\n",
       "      <td>82690</td>\n",
       "      <td>tt1772341</td>\n",
       "      <td>Wreck-It Ralph</td>\n",
       "      <td>Wreck-It Ralph</td>\n",
       "      <td>[{'id': 10751, 'name': 'Family'}, {'id': 16, '...</td>\n",
       "      <td>PG</td>\n",
       "      <td>[{'id': 6125, 'logo_path': '/tVPmo07IHhBs4Huil...</td>\n",
       "      <td>11/1/2012</td>\n",
       "      <td>101.0</td>\n",
       "      <td>165000000</td>\n",
       "      <td>471222889</td>\n",
       "      <td>9690</td>\n",
       "      <td>7.3</td>\n",
       "      <td>70.213</td>\n",
       "      <td>False</td>\n",
       "      <td>en</td>\n",
       "      <td>306222889</td>\n",
       "      <td>1.855896</td>\n",
       "    </tr>\n",
       "    <tr>\n",
       "      <th>3</th>\n",
       "      <td>57214</td>\n",
       "      <td>tt1636826</td>\n",
       "      <td>Project X</td>\n",
       "      <td>Project X</td>\n",
       "      <td>[{'id': 35, 'name': 'Comedy'}]</td>\n",
       "      <td>R</td>\n",
       "      <td>[{'id': 1885, 'logo_path': '/xlvoOZr4s1Pygosrw...</td>\n",
       "      <td>3/1/2012</td>\n",
       "      <td>88.0</td>\n",
       "      <td>12000000</td>\n",
       "      <td>100000000</td>\n",
       "      <td>4399</td>\n",
       "      <td>6.7</td>\n",
       "      <td>67.687</td>\n",
       "      <td>False</td>\n",
       "      <td>en</td>\n",
       "      <td>88000000</td>\n",
       "      <td>7.333333</td>\n",
       "    </tr>\n",
       "    <tr>\n",
       "      <th>4</th>\n",
       "      <td>49051</td>\n",
       "      <td>tt0903624</td>\n",
       "      <td>The Hobbit: An Unexpected Journey</td>\n",
       "      <td>The Hobbit: An Unexpected Journey</td>\n",
       "      <td>[{'id': 12, 'name': 'Adventure'}, {'id': 14, '...</td>\n",
       "      <td>PG-13</td>\n",
       "      <td>[{'id': 21, 'logo_path': '/aOWKh4gkNrfFZ3Ep7n0...</td>\n",
       "      <td>11/26/2012</td>\n",
       "      <td>169.0</td>\n",
       "      <td>250000000</td>\n",
       "      <td>1021103568</td>\n",
       "      <td>14539</td>\n",
       "      <td>7.3</td>\n",
       "      <td>61.052</td>\n",
       "      <td>False</td>\n",
       "      <td>en</td>\n",
       "      <td>771103568</td>\n",
       "      <td>3.084414</td>\n",
       "    </tr>\n",
       "    <tr>\n",
       "      <th>...</th>\n",
       "      <td>...</td>\n",
       "      <td>...</td>\n",
       "      <td>...</td>\n",
       "      <td>...</td>\n",
       "      <td>...</td>\n",
       "      <td>...</td>\n",
       "      <td>...</td>\n",
       "      <td>...</td>\n",
       "      <td>...</td>\n",
       "      <td>...</td>\n",
       "      <td>...</td>\n",
       "      <td>...</td>\n",
       "      <td>...</td>\n",
       "      <td>...</td>\n",
       "      <td>...</td>\n",
       "      <td>...</td>\n",
       "      <td>...</td>\n",
       "      <td>...</td>\n",
       "    </tr>\n",
       "    <tr>\n",
       "      <th>1450</th>\n",
       "      <td>403300</td>\n",
       "      <td>tt5827916</td>\n",
       "      <td>A Hidden Life</td>\n",
       "      <td>A Hidden Life</td>\n",
       "      <td>[{'id': 18, 'name': 'Drama'}, {'id': 10752, 'n...</td>\n",
       "      <td>PG-13</td>\n",
       "      <td>[{'id': 264, 'logo_path': '/fA90qwUKgPhMONqtwY...</td>\n",
       "      <td>12/11/2019</td>\n",
       "      <td>174.0</td>\n",
       "      <td>9000000</td>\n",
       "      <td>4612788</td>\n",
       "      <td>370</td>\n",
       "      <td>7.2</td>\n",
       "      <td>15.434</td>\n",
       "      <td>False</td>\n",
       "      <td>en</td>\n",
       "      <td>-4387212</td>\n",
       "      <td>-0.487468</td>\n",
       "    </tr>\n",
       "    <tr>\n",
       "      <th>1451</th>\n",
       "      <td>520900</td>\n",
       "      <td>tt6439020</td>\n",
       "      <td>The Personal History of David Copperfield</td>\n",
       "      <td>The Personal History of David Copperfield</td>\n",
       "      <td>[{'id': 18, 'name': 'Drama'}, {'id': 35, 'name...</td>\n",
       "      <td>PG</td>\n",
       "      <td>[{'id': 7493, 'logo_path': '/452FO4LcI6lA6bfgl...</td>\n",
       "      <td>11/7/2019</td>\n",
       "      <td>119.0</td>\n",
       "      <td>15600000</td>\n",
       "      <td>11620337</td>\n",
       "      <td>211</td>\n",
       "      <td>6.7</td>\n",
       "      <td>15.076</td>\n",
       "      <td>False</td>\n",
       "      <td>en</td>\n",
       "      <td>-3979663</td>\n",
       "      <td>-0.255107</td>\n",
       "    </tr>\n",
       "    <tr>\n",
       "      <th>1454</th>\n",
       "      <td>616584</td>\n",
       "      <td>tt10521814</td>\n",
       "      <td>K-12</td>\n",
       "      <td>K-12</td>\n",
       "      <td>[{'id': 10402, 'name': 'Music'}, {'id': 27, 'n...</td>\n",
       "      <td>R</td>\n",
       "      <td>[{'id': 65827, 'logo_path': None, 'name': 'Atl...</td>\n",
       "      <td>9/5/2019</td>\n",
       "      <td>92.0</td>\n",
       "      <td>50000</td>\n",
       "      <td>359377</td>\n",
       "      <td>171</td>\n",
       "      <td>7.6</td>\n",
       "      <td>14.822</td>\n",
       "      <td>False</td>\n",
       "      <td>en</td>\n",
       "      <td>309377</td>\n",
       "      <td>6.187540</td>\n",
       "    </tr>\n",
       "    <tr>\n",
       "      <th>1457</th>\n",
       "      <td>619265</td>\n",
       "      <td>tt10555920</td>\n",
       "      <td>The Cabin House</td>\n",
       "      <td>The Cabin House</td>\n",
       "      <td>[{'id': 27, 'name': 'Horror'}, {'id': 53, 'nam...</td>\n",
       "      <td>R</td>\n",
       "      <td>[{'id': 74190, 'logo_path': None, 'name': 'G.P...</td>\n",
       "      <td>10/31/2019</td>\n",
       "      <td>120.0</td>\n",
       "      <td>13000000</td>\n",
       "      <td>13000000</td>\n",
       "      <td>0</td>\n",
       "      <td>0.0</td>\n",
       "      <td>2.071</td>\n",
       "      <td>False</td>\n",
       "      <td>en</td>\n",
       "      <td>0</td>\n",
       "      <td>0.000000</td>\n",
       "    </tr>\n",
       "    <tr>\n",
       "      <th>1460</th>\n",
       "      <td>630331</td>\n",
       "      <td>tt10931434</td>\n",
       "      <td>Cin-Si Bozuk</td>\n",
       "      <td>Cin-Si Bozuk</td>\n",
       "      <td>[{'id': 35, 'name': 'Comedy'}, {'id': 27, 'nam...</td>\n",
       "      <td>NR</td>\n",
       "      <td>[]</td>\n",
       "      <td>9/6/2019</td>\n",
       "      <td>95.0</td>\n",
       "      <td>46</td>\n",
       "      <td>5</td>\n",
       "      <td>0</td>\n",
       "      <td>0.0</td>\n",
       "      <td>0.622</td>\n",
       "      <td>False</td>\n",
       "      <td>en</td>\n",
       "      <td>-41</td>\n",
       "      <td>-0.891304</td>\n",
       "    </tr>\n",
       "  </tbody>\n",
       "</table>\n",
       "<p>1300 rows × 18 columns</p>\n",
       "</div>"
      ],
      "text/plain": [
       "          id     imdb_id  ...      profit       ROI\n",
       "0      24428   tt0848228  ...  1298815515  5.903707\n",
       "1      50620   tt1673434  ...   709000000  5.908333\n",
       "2      82690   tt1772341  ...   306222889  1.855896\n",
       "3      57214   tt1636826  ...    88000000  7.333333\n",
       "4      49051   tt0903624  ...   771103568  3.084414\n",
       "...      ...         ...  ...         ...       ...\n",
       "1450  403300   tt5827916  ...    -4387212 -0.487468\n",
       "1451  520900   tt6439020  ...    -3979663 -0.255107\n",
       "1454  616584  tt10521814  ...      309377  6.187540\n",
       "1457  619265  tt10555920  ...           0  0.000000\n",
       "1460  630331  tt10931434  ...         -41 -0.891304\n",
       "\n",
       "[1300 rows x 18 columns]"
      ]
     },
     "execution_count": 145,
     "metadata": {},
     "output_type": "execute_result"
    }
   ],
   "source": [
    "cols_need_processing=['genres','production_companies',\n",
    "                      'belongs_to_collection']\n",
    "\n",
    "df2 = dfm[['id','imdb_id','original_title','title','genres','mpaa_rating',\n",
    "     'production_companies','release_date','runtime','budget','revenue',\n",
    "     'vote_count','vote_average','popularity','adult','original_language']]\n",
    "\n",
    "df2=df2[(df2['budget']>0) & (df2['revenue']>0)]\n",
    "\n",
    "## Feature Engineering\n",
    "df2['profit'] = df2['revenue'] - df2['budget']\n",
    "df2['ROI'] = df2['profit']/df2['budget']\n",
    "df2.reset_index(inplace=True,drop=True)\n",
    "\n",
    "## Removing Extreme values for class purposes\n",
    "# df2=df2[df2['ROI']<1000]\n",
    "\n",
    "df2.dropna(inplace=True)\n",
    "df2"
   ]
  },
  {
   "cell_type": "code",
   "execution_count": 148,
   "metadata": {},
   "outputs": [],
   "source": [
    "# ## Save Columns of Interest\n",
    "X = df2['budget'].copy()\n",
    "y = df2['revenue'].copy()"
   ]
  },
  {
   "cell_type": "code",
   "execution_count": 149,
   "metadata": {
    "ExecuteTime": {
     "end_time": "2020-08-19T16:08:52.329637Z",
     "start_time": "2020-08-19T16:08:52.078019Z"
    }
   },
   "outputs": [
    {
     "data": {
      "text/plain": [
       "(<Figure size 748.8x514.8 with 1 Axes>,\n",
       " <AxesSubplot:title={'center':'budget vs revenue'}, xlabel='budget', ylabel='revenue'>)"
      ]
     },
     "execution_count": 149,
     "metadata": {},
     "output_type": "execute_result"
    },
    {
     "data": {
      "image/png": "[encoded data removed]",
      "text/plain": [
       "<Figure size 748.8x514.8 with 1 Axes>"
      ]
     },
     "metadata": {
      "needs_background": "light"
     },
     "output_type": "display_data"
    }
   ],
   "source": [
    "## Scatter Plots for Linearity Check\n",
    "# priceFmt = mpl.ticker.StrMethodFormatter(\"${x:,.0f}\")\n",
    "# roiFmt = mpl.ticker.StrMethodFormatter(\"{x:,.2f}%\")\n",
    "def plot_data(X,y,xlabel=None,ylabel=None):\n",
    "    if xlabel is None:\n",
    "        xlabel=X.name\n",
    "    if ylabel is None:\n",
    "        ylabel=y.name\n",
    "    \n",
    "    fig, ax = plt.subplots()\n",
    "    \n",
    "    ax.scatter(X,y,marker='.')\n",
    "    \n",
    "    ax.set(xlabel=xlabel,ylabel=ylabel)\n",
    "    ax.set_title(f'{xlabel} vs {ylabel}')\n",
    "    \n",
    "#     ax.yaxis.set_major_formatter(priceFmt)\n",
    "    return fig,ax\n",
    "\n",
    "plot_data(X,y)"
   ]
  },
  {
   "cell_type": "markdown",
   "metadata": {
    "colab_type": "text",
    "id": "mk7rPgLe2Akn"
   },
   "source": [
    "\n",
    "$$ \\large y = m * x + b $$"
   ]
  },
  {
   "cell_type": "markdown",
   "metadata": {},
   "source": [
    "<img src=\"https://raw.githubusercontent.com/learn-co-students/dsc-simple-linear-regression-online-ds-ft-100719/master/images/linreg.png\" width=500>"
   ]
  },
  {
   "cell_type": "markdown",
   "metadata": {},
   "source": [
    "- The following 3 equations below are all equivalent.\n",
    "\n",
    "$$ \\large y = m * x + b $$\n",
    "\n",
    "$$\\large \\hat{y} = \\hat mx + \\hat c$$\n",
    "\n",
    "$$\\large y =  \\beta_0+ \\beta_1 x $$\n"
   ]
  },
  {
   "cell_type": "markdown",
   "metadata": {},
   "source": [
    "### Our \"worst model\" is using the mean."
   ]
  },
  {
   "cell_type": "code",
   "execution_count": 150,
   "metadata": {
    "ExecuteTime": {
     "end_time": "2020-08-19T16:10:01.512888Z",
     "start_time": "2020-08-19T16:10:01.260654Z"
    },
    "scrolled": false
   },
   "outputs": [
    {
     "data": {
      "text/plain": [
       "<matplotlib.legend.Legend at 0x7fd988a58c70>"
      ]
     },
     "execution_count": 150,
     "metadata": {},
     "output_type": "execute_result"
    },
    {
     "data": {
      "image/png": "[encoded data removed]",
      "text/plain": [
       "<Figure size 748.8x514.8 with 1 Axes>"
      ]
     },
     "metadata": {
      "needs_background": "light"
     },
     "output_type": "display_data"
    }
   ],
   "source": [
    "fig,ax = plot_data(X,y)\n",
    "ax.axhline(y.mean(),color='red',label='mean',ls=':')\n",
    "plt.legend()"
   ]
  },
  {
   "cell_type": "markdown",
   "metadata": {
    "colab_type": "text",
    "id": "lpsNsKOtD2-D"
   },
   "source": [
    "## Judging Our Model"
   ]
  },
  {
   "cell_type": "markdown",
   "metadata": {},
   "source": [
    "### Error/Loss"
   ]
  },
  {
   "cell_type": "markdown",
   "metadata": {},
   "source": [
    "<img src=\"https://raw.githubusercontent.com/learn-co-students/dsc-stat-learning-theory-onl01-dtsc-ft-070620/master/images/new_loss.png\" width=50%>"
   ]
  },
  {
   "cell_type": "markdown",
   "metadata": {
    "colab_type": "text",
    "id": "lpsNsKOtD2-D"
   },
   "source": [
    "### R-Squared"
   ]
  },
  {
   "cell_type": "markdown",
   "metadata": {
    "colab_type": "text",
    "id": "lpsNsKOtD2-D"
   },
   "source": [
    "> **The $R^2$ or Coefficient of determination is a statistical measure that is used to assess the goodness of fit of a regression model**\n",
    "\n",
    "\n",
    "The mathematical formula to calculate R-Squared for a linear regression line is in terms of **squared errors** for the fitted model and the baseline model. It's calculated as :\n",
    "\n",
    "$$ \\large R^2 = 1- \\dfrac{SS_{RES}}{SS_{TOT}} = 1 - \\dfrac{\\sum_i(y_i - \\hat y_i)^2}{\\sum_i(y_i - \\overline y_i)^2} $$\n",
    "\n",
    "\n",
    "> ***85% of the variations in dependent variable $y$ are explained by the independent variable in our model.***"
   ]
  },
  {
   "cell_type": "markdown",
   "metadata": {},
   "source": [
    "<img src=\"https://raw.githubusercontent.com/learn-co-students/dsc-simple-linear-regression-online-ds-ft-100719/master/images/linregall.png\" width=500>"
   ]
  },
  {
   "cell_type": "markdown",
   "metadata": {
    "colab_type": "text",
    "id": "GvTVXUtMdcf8"
   },
   "source": [
    "# Linear Regression Assumptions"
   ]
  },
  {
   "cell_type": "markdown",
   "metadata": {
    "colab_type": "text",
    "id": "GvTVXUtMdcf8"
   },
   "source": [
    "### 1. Linearity\n",
    "\n",
    "> The linearity assumptions requires that there is a **linear relationship** between the response variable (Y) and predictor (X). Linear means that the change in Y by 1-unit change in X, is constant. \n",
    "\n",
    ">The linearity assumption can best be tested with scatter plots \n",
    "\n",
    "\n",
    "**Note: As an extra measure, it is also important to check for outliers as the presence of outliers in the data can have a major impact on the model.**\n",
    "\n",
    "<img src=\"https://raw.githubusercontent.com/learn-co-students/dsc-regression-assumptions-online-ds-ft-100719/master/images/outliers.png\" width=\"600\">"
   ]
  },
  {
   "cell_type": "markdown",
   "metadata": {
    "colab_type": "text",
    "id": "GvTVXUtMdcf8"
   },
   "source": [
    "### 2. Normality \n",
    "\n",
    "\n",
    "> The normality assumption states that the **model residuals** should follow a normal distribution\n",
    "\n",
    "Note that the normality assumption talks about the **model residuals** and _not_ about the distributions of the **variables**! In general, data scientists will often check the distributions of the variables as well.  The easiest way to check for the normality assumption is with histograms or a Q-Q-Plots. "
   ]
  },
  {
   "cell_type": "markdown",
   "metadata": {
    "colab_type": "text",
    "id": "GvTVXUtMdcf8"
   },
   "source": [
    "#### Q-Q Plots\n",
    "\n",
    ">In statistics, a Q–Q (quantile-quantile) plot is a probability plot, which is a graphical method for comparing two probability distributions by plotting their quantiles against each other.\n",
    "<div style=\"display:block;width:70%;margin:auto\">\n",
    "<img src=\"https://raw.githubusercontent.com/learn-co-students/dsc-ols-regression-diagnostics-online-ds-ft-100719/master/images/inhouse_qq_density.png\">\n",
    "</div>\n",
    "<!---\n",
    "<img src=\"https://raw.githubusercontent.com/learn-co-students/dsc-regression-assumptions-online-ds-ft-100719/master/images/inhouse_qq_plots.png\" width=\"500\">--->\n",
    "\n"
   ]
  },
  {
   "cell_type": "markdown",
   "metadata": {
    "colab_type": "text",
    "id": "GvTVXUtMdcf8"
   },
   "source": [
    "### 3. Homoscedasticity \n",
    "\n",
    "> _Heteroscedasticity_ (also spelled heteroskedasticity) refers to the circumstance in which the dependent variable is unequal across the range of values of the predictor(s).\n",
    "\n",
    "<img src=\"https://raw.githubusercontent.com/learn-co-students/dsc-regression-assumptions-online-ds-ft-100719/master/images/homo_2.png\" width=\"700\">\n",
    "\n",
    "\n",
    "As a first check, always looks at plots for the residuals. If you see anything similar to what is shown below, you are violating one or more assumptions and the results will not be reliable.\n",
    "\n",
    "<img src=\"https://raw.githubusercontent.com/learn-co-students/dsc-regression-assumptions-online-ds-ft-100719/master/images/prob_2.png\" width=\"700\">"
   ]
  },
  {
   "cell_type": "markdown",
   "metadata": {},
   "source": [
    "# Linear Regression in Statsmodels"
   ]
  },
  {
   "cell_type": "code",
   "execution_count": 151,
   "metadata": {
    "ExecuteTime": {
     "end_time": "2020-08-19T16:17:42.959005Z",
     "start_time": "2020-08-19T16:17:42.629057Z"
    }
   },
   "outputs": [],
   "source": [
    "import statsmodels.api as sm\n",
    "import statsmodels.formula.api as smf\n",
    "from scipy import stats"
   ]
  },
  {
   "cell_type": "code",
   "execution_count": 152,
   "metadata": {
    "ExecuteTime": {
     "end_time": "2020-08-19T16:17:45.975542Z",
     "start_time": "2020-08-19T16:17:45.757004Z"
    }
   },
   "outputs": [
    {
     "data": {
      "image/png": "[encoded data removed]",
      "text/plain": [
       "<Figure size 748.8x514.8 with 1 Axes>"
      ]
     },
     "metadata": {
      "needs_background": "light"
     },
     "output_type": "display_data"
    }
   ],
   "source": [
    "plot_data(X,y);"
   ]
  },
  {
   "cell_type": "markdown",
   "metadata": {},
   "source": [
    "### Checking the Assumptions"
   ]
  },
  {
   "cell_type": "code",
   "execution_count": null,
   "metadata": {},
   "outputs": [],
   "source": []
  },
  {
   "cell_type": "code",
   "execution_count": 153,
   "metadata": {
    "ExecuteTime": {
     "end_time": "2020-08-19T16:23:13.600018Z",
     "start_time": "2020-08-19T16:23:13.180297Z"
    }
   },
   "outputs": [
    {
     "data": {
      "image/png": "[encoded data removed]",
      "text/plain": [
       "<Figure size 748.8x514.8 with 1 Axes>"
      ]
     },
     "metadata": {
      "needs_background": "light"
     },
     "output_type": "display_data"
    }
   ],
   "source": [
    "## Check Linearity \n",
    "ax= sns.regplot(X,y,line_kws=dict(color='green', ls=\":\"))\n",
    "ax.yaxis.set_major_formatter(priceFmt)"
   ]
  },
  {
   "cell_type": "code",
   "execution_count": 154,
   "metadata": {
    "ExecuteTime": {
     "end_time": "2020-08-19T16:27:39.098837Z",
     "start_time": "2020-08-19T16:27:39.094988Z"
    }
   },
   "outputs": [
    {
     "data": {
      "text/plain": [
       "<module 'scipy.stats' from '/opt/anaconda3/envs/learn-env-new/lib/python3.8/site-packages/scipy/stats/__init__.py'>"
      ]
     },
     "execution_count": 154,
     "metadata": {},
     "output_type": "execute_result"
    }
   ],
   "source": [
    "stats"
   ]
  },
  {
   "cell_type": "code",
   "execution_count": 155,
   "metadata": {
    "ExecuteTime": {
     "end_time": "2020-08-19T16:28:12.602021Z",
     "start_time": "2020-08-19T16:28:12.041387Z"
    }
   },
   "outputs": [
    {
     "name": "stdout",
     "output_type": "stream",
     "text": [
      "X Normality:  NormaltestResult(statistic=484.0039917188565, pvalue=7.940879186763512e-106)\n",
      "y Normality:  NormaltestResult(statistic=987.489340936392, pvalue=3.7103437433591323e-215)\n"
     ]
    },
    {
     "data": {
      "image/png": "[encoded data removed]",
      "text/plain": [
       "<Figure size 720x360 with 2 Axes>"
      ]
     },
     "metadata": {
      "needs_background": "light"
     },
     "output_type": "display_data"
    }
   ],
   "source": [
    "## Visualize Distributions of X and y and Check Normality\n",
    "\n",
    "fig, axes = plt.subplots(ncols=2,figsize=(10,5))\n",
    "\n",
    "sns.distplot(X, ax=axes[0], kde=False,bins='auto')\n",
    "axes[0].set(xlabel='X')\n",
    "\n",
    "sns.distplot(y, ax=axes[1], kde=False,bins='auto',color='orange')\n",
    "axes[1].set(xlabel='y')\n",
    "\n",
    "print(\"X Normality: \",stats.normaltest(X))\n",
    "print(\"y Normality: \",stats.normaltest(y))"
   ]
  },
  {
   "cell_type": "code",
   "execution_count": 156,
   "metadata": {
    "ExecuteTime": {
     "end_time": "2020-08-19T16:29:26.403444Z",
     "start_time": "2020-08-19T16:29:26.399971Z"
    }
   },
   "outputs": [],
   "source": [
    "## Check for outliers\n",
    "from scipy import stats\n",
    "def find_outliers_z(data):\n",
    "    \"\"\"Detects outliers using the Z-score>3 cutoff.\n",
    "    Returns a boolean Series where True=outlier\"\"\"\n",
    "    zFP = np.abs(stats.zscore(data))\n",
    "    zFP = pd.Series(zFP, index=data.index)\n",
    "    idx_outliers = zFP > 3\n",
    "    return idx_outliers\n",
    "\n",
    "def find_outliers_IQR(data):\n",
    "    \"\"\"Detects outliers using the 1.5*IQR thresholds.\n",
    "    Returns a boolean Series where True=outlier\"\"\"\n",
    "    res = data.describe()\n",
    "    q1 = res['25%']\n",
    "    q3 = res['75%']\n",
    "    thresh = 1.5*(q3-q1)\n",
    "    idx_outliers =(data < (q1-thresh)) | (data > (q3+thresh))\n",
    "    return idx_outliers"
   ]
  },
  {
   "cell_type": "code",
   "execution_count": 157,
   "metadata": {
    "ExecuteTime": {
     "end_time": "2020-08-19T16:30:12.003917Z",
     "start_time": "2020-08-19T16:30:11.999025Z"
    }
   },
   "outputs": [
    {
     "data": {
      "text/plain": [
       "24"
      ]
     },
     "execution_count": 157,
     "metadata": {},
     "output_type": "execute_result"
    }
   ],
   "source": [
    "## Get X outliers\n",
    "X_outliers_Z = find_outliers_z(X)\n",
    "X_outliers_Z.sum()"
   ]
  },
  {
   "cell_type": "code",
   "execution_count": 158,
   "metadata": {
    "ExecuteTime": {
     "end_time": "2020-08-19T16:30:26.580896Z",
     "start_time": "2020-08-19T16:30:26.576640Z"
    }
   },
   "outputs": [
    {
     "data": {
      "text/plain": [
       "36"
      ]
     },
     "execution_count": 158,
     "metadata": {},
     "output_type": "execute_result"
    }
   ],
   "source": [
    "## Get y outliers\n",
    "y_outliers_Z = find_outliers_z(y)\n",
    "y_outliers_Z.sum()"
   ]
  },
  {
   "cell_type": "code",
   "execution_count": 159,
   "metadata": {},
   "outputs": [
    {
     "data": {
      "text/plain": [
       "128"
      ]
     },
     "execution_count": 159,
     "metadata": {},
     "output_type": "execute_result"
    }
   ],
   "source": [
    "## Get X outliers\n",
    "X_outliers_IQR = find_outliers_IQR(X)\n",
    "X_outliers_IQR.sum()"
   ]
  },
  {
   "cell_type": "code",
   "execution_count": 160,
   "metadata": {},
   "outputs": [
    {
     "data": {
      "text/plain": [
       "132"
      ]
     },
     "execution_count": 160,
     "metadata": {},
     "output_type": "execute_result"
    }
   ],
   "source": [
    "## Get y outliers\n",
    "y_outliers_IQR = find_outliers_IQR(y)\n",
    "y_outliers_IQR.sum()"
   ]
  },
  {
   "cell_type": "code",
   "execution_count": 161,
   "metadata": {},
   "outputs": [
    {
     "data": {
      "text/plain": [
       "174"
      ]
     },
     "execution_count": 161,
     "metadata": {},
     "output_type": "execute_result"
    }
   ],
   "source": [
    "## Combine all outleirs to one series\n",
    "idx_outliers_IQR = (X_outliers_IQR | y_outliers_IQR)\n",
    "idx_outliers_IQR.sum()"
   ]
  },
  {
   "cell_type": "code",
   "execution_count": 162,
   "metadata": {},
   "outputs": [
    {
     "data": {
      "text/plain": [
       "48"
      ]
     },
     "execution_count": 162,
     "metadata": {},
     "output_type": "execute_result"
    }
   ],
   "source": [
    "idx_outliers_Z = (X_outliers_Z | y_outliers_Z)\n",
    "idx_outliers_Z.sum()"
   ]
  },
  {
   "cell_type": "code",
   "execution_count": 163,
   "metadata": {},
   "outputs": [
    {
     "data": {
      "text/plain": [
       "1       120000000\n",
       "2       165000000\n",
       "3        12000000\n",
       "6        95000000\n",
       "8       145000000\n",
       "          ...    \n",
       "1450      9000000\n",
       "1451     15600000\n",
       "1454        50000\n",
       "1457     13000000\n",
       "1460           46\n",
       "Name: budget, Length: 1252, dtype: int64"
      ]
     },
     "execution_count": 163,
     "metadata": {},
     "output_type": "execute_result"
    }
   ],
   "source": [
    "X[~idx_outliers_Z]"
   ]
  },
  {
   "cell_type": "code",
   "execution_count": 164,
   "metadata": {
    "ExecuteTime": {
     "end_time": "2020-08-19T16:35:39.707035Z",
     "start_time": "2020-08-19T16:35:39.480963Z"
    }
   },
   "outputs": [
    {
     "data": {
      "text/plain": [
       "(<Figure size 748.8x514.8 with 1 Axes>,\n",
       " <AxesSubplot:title={'center':'budget vs revenue'}, xlabel='budget', ylabel='revenue'>)"
      ]
     },
     "execution_count": 164,
     "metadata": {},
     "output_type": "execute_result"
    },
    {
     "data": {
      "image/png": "[encoded data removed]",
      "text/plain": [
       "<Figure size 748.8x514.8 with 1 Axes>"
      ]
     },
     "metadata": {
      "needs_background": "light"
     },
     "output_type": "display_data"
    }
   ],
   "source": [
    "plot_data(X,y)"
   ]
  },
  {
   "cell_type": "code",
   "execution_count": 165,
   "metadata": {
    "ExecuteTime": {
     "end_time": "2020-08-19T16:35:28.099266Z",
     "start_time": "2020-08-19T16:35:27.861128Z"
    }
   },
   "outputs": [
    {
     "data": {
      "text/plain": [
       "(<Figure size 748.8x514.8 with 1 Axes>,\n",
       " <AxesSubplot:title={'center':'budget vs revenue'}, xlabel='budget', ylabel='revenue'>)"
      ]
     },
     "execution_count": 165,
     "metadata": {},
     "output_type": "execute_result"
    },
    {
     "data": {
      "image/png": "[encoded data removed]",
      "text/plain": [
       "<Figure size 748.8x514.8 with 1 Axes>"
      ]
     },
     "metadata": {
      "needs_background": "light"
     },
     "output_type": "display_data"
    }
   ],
   "source": [
    "## Create X_clean and y_clean wihtout outliers\n",
    "X_clean = X[~idx_outliers_IQR].copy()\n",
    "y_clean = y[~idx_outliers_IQR].copy()\n",
    "\n",
    "## Check data with plot_data\n",
    "plot_data(X_clean,y_clean)"
   ]
  },
  {
   "cell_type": "code",
   "execution_count": null,
   "metadata": {},
   "outputs": [],
   "source": []
  },
  {
   "cell_type": "code",
   "execution_count": 166,
   "metadata": {
    "ExecuteTime": {
     "end_time": "2020-08-19T16:37:05.983437Z",
     "start_time": "2020-08-19T16:37:05.978626Z"
    }
   },
   "outputs": [],
   "source": [
    "## Turn code above for checking normality into a function \n",
    "def check_normality(X,y):\n",
    "    ## Visualize Distributions of X and y and Check Normality\n",
    "    fig, axes = plt.subplots(ncols=2,figsize=(10,5))\n",
    "\n",
    "    sns.histplot(X, ax=axes[0], kde=False,bins='auto')\n",
    "    axes[0].set(xlabel='X')\n",
    "\n",
    "    sns.histplot(y, ax=axes[1], kde=False,bins='auto',color='orange')\n",
    "    axes[1].set(xlabel='y')\n",
    "\n",
    "    print(\"X Normality: \",stats.normaltest(X))\n",
    "    print(\"y Normality: \",stats.normaltest(y))\n",
    "    fig.tight_layout()\n",
    "    return fig, axes\n"
   ]
  },
  {
   "cell_type": "code",
   "execution_count": 167,
   "metadata": {
    "ExecuteTime": {
     "end_time": "2020-08-19T16:37:23.399874Z",
     "start_time": "2020-08-19T16:37:22.814844Z"
    }
   },
   "outputs": [
    {
     "name": "stdout",
     "output_type": "stream",
     "text": [
      "X Normality:  NormaltestResult(statistic=484.0039917188565, pvalue=7.940879186763512e-106)\n",
      "y Normality:  NormaltestResult(statistic=987.489340936392, pvalue=3.7103437433591323e-215)\n"
     ]
    },
    {
     "data": {
      "text/plain": [
       "(<Figure size 720x360 with 2 Axes>,\n",
       " array([<AxesSubplot:xlabel='X', ylabel='Count'>,\n",
       "        <AxesSubplot:xlabel='y', ylabel='Count'>], dtype=object))"
      ]
     },
     "execution_count": 167,
     "metadata": {},
     "output_type": "execute_result"
    },
    {
     "data": {
      "image/png": "[encoded data removed]",
      "text/plain": [
       "<Figure size 720x360 with 2 Axes>"
      ]
     },
     "metadata": {
      "needs_background": "light"
     },
     "output_type": "display_data"
    }
   ],
   "source": [
    "check_normality(X,y)"
   ]
  },
  {
   "cell_type": "code",
   "execution_count": 168,
   "metadata": {
    "ExecuteTime": {
     "end_time": "2020-08-19T16:37:28.803191Z",
     "start_time": "2020-08-19T16:37:28.345310Z"
    }
   },
   "outputs": [
    {
     "name": "stdout",
     "output_type": "stream",
     "text": [
      "X Normality:  NormaltestResult(statistic=313.2182524156148, pvalue=9.67209764387155e-69)\n",
      "y Normality:  NormaltestResult(statistic=335.77564742070587, pvalue=1.2224879411306002e-73)\n"
     ]
    },
    {
     "data": {
      "image/png": "[encoded data removed]",
      "text/plain": [
       "<Figure size 720x360 with 2 Axes>"
      ]
     },
     "metadata": {
      "needs_background": "light"
     },
     "output_type": "display_data"
    }
   ],
   "source": [
    "## Use function to check X_clean, y_clean\n",
    "check_normality(X_clean,y_clean);"
   ]
  },
  {
   "cell_type": "markdown",
   "metadata": {},
   "source": [
    "> So... do we need to do anything about this right now?"
   ]
  },
  {
   "cell_type": "markdown",
   "metadata": {},
   "source": [
    "## OLS with Statsmodels (non-formula version)"
   ]
  },
  {
   "cell_type": "code",
   "execution_count": 169,
   "metadata": {
    "ExecuteTime": {
     "end_time": "2020-08-19T16:44:06.419682Z",
     "start_time": "2020-08-19T16:44:06.402402Z"
    }
   },
   "outputs": [
    {
     "data": {
      "text/html": [
       "<div>\n",
       "<style scoped>\n",
       "    .dataframe tbody tr th:only-of-type {\n",
       "        vertical-align: middle;\n",
       "    }\n",
       "\n",
       "    .dataframe tbody tr th {\n",
       "        vertical-align: top;\n",
       "    }\n",
       "\n",
       "    .dataframe thead th {\n",
       "        text-align: right;\n",
       "    }\n",
       "</style>\n",
       "<table border=\"1\" class=\"dataframe\">\n",
       "  <thead>\n",
       "    <tr style=\"text-align: right;\">\n",
       "      <th></th>\n",
       "      <th>const</th>\n",
       "      <th>budget</th>\n",
       "    </tr>\n",
       "  </thead>\n",
       "  <tbody>\n",
       "    <tr>\n",
       "      <th>0</th>\n",
       "      <td>1.0</td>\n",
       "      <td>220000000</td>\n",
       "    </tr>\n",
       "    <tr>\n",
       "      <th>1</th>\n",
       "      <td>1.0</td>\n",
       "      <td>120000000</td>\n",
       "    </tr>\n",
       "    <tr>\n",
       "      <th>2</th>\n",
       "      <td>1.0</td>\n",
       "      <td>165000000</td>\n",
       "    </tr>\n",
       "    <tr>\n",
       "      <th>3</th>\n",
       "      <td>1.0</td>\n",
       "      <td>12000000</td>\n",
       "    </tr>\n",
       "    <tr>\n",
       "      <th>4</th>\n",
       "      <td>1.0</td>\n",
       "      <td>250000000</td>\n",
       "    </tr>\n",
       "    <tr>\n",
       "      <th>...</th>\n",
       "      <td>...</td>\n",
       "      <td>...</td>\n",
       "    </tr>\n",
       "    <tr>\n",
       "      <th>1450</th>\n",
       "      <td>1.0</td>\n",
       "      <td>9000000</td>\n",
       "    </tr>\n",
       "    <tr>\n",
       "      <th>1451</th>\n",
       "      <td>1.0</td>\n",
       "      <td>15600000</td>\n",
       "    </tr>\n",
       "    <tr>\n",
       "      <th>1454</th>\n",
       "      <td>1.0</td>\n",
       "      <td>50000</td>\n",
       "    </tr>\n",
       "    <tr>\n",
       "      <th>1457</th>\n",
       "      <td>1.0</td>\n",
       "      <td>13000000</td>\n",
       "    </tr>\n",
       "    <tr>\n",
       "      <th>1460</th>\n",
       "      <td>1.0</td>\n",
       "      <td>46</td>\n",
       "    </tr>\n",
       "  </tbody>\n",
       "</table>\n",
       "<p>1300 rows × 2 columns</p>\n",
       "</div>"
      ],
      "text/plain": [
       "      const     budget\n",
       "0       1.0  220000000\n",
       "1       1.0  120000000\n",
       "2       1.0  165000000\n",
       "3       1.0   12000000\n",
       "4       1.0  250000000\n",
       "...     ...        ...\n",
       "1450    1.0    9000000\n",
       "1451    1.0   15600000\n",
       "1454    1.0      50000\n",
       "1457    1.0   13000000\n",
       "1460    1.0         46\n",
       "\n",
       "[1300 rows x 2 columns]"
      ]
     },
     "metadata": {},
     "output_type": "display_data"
    }
   ],
   "source": [
    "from statsmodels.regression.linear_model import OLS\n",
    "## Add a constant to X to include an intercept in our regression\n",
    "X = sm.add_constant(X)\n",
    "display(X)"
   ]
  },
  {
   "cell_type": "code",
   "execution_count": 170,
   "metadata": {
    "ExecuteTime": {
     "end_time": "2020-08-19T16:44:19.799957Z",
     "start_time": "2020-08-19T16:44:19.777237Z"
    }
   },
   "outputs": [
    {
     "data": {
      "text/html": [
       "<table class=\"simpletable\">\n",
       "<caption>OLS Regression Results</caption>\n",
       "<tr>\n",
       "  <th>Dep. Variable:</th>         <td>revenue</td>     <th>  R-squared:         </th> <td>   0.621</td> \n",
       "</tr>\n",
       "<tr>\n",
       "  <th>Model:</th>                   <td>OLS</td>       <th>  Adj. R-squared:    </th> <td>   0.621</td> \n",
       "</tr>\n",
       "<tr>\n",
       "  <th>Method:</th>             <td>Least Squares</td>  <th>  F-statistic:       </th> <td>   2127.</td> \n",
       "</tr>\n",
       "<tr>\n",
       "  <th>Date:</th>             <td>Wed, 07 Apr 2021</td> <th>  Prob (F-statistic):</th> <td>9.19e-276</td>\n",
       "</tr>\n",
       "<tr>\n",
       "  <th>Time:</th>                 <td>13:02:25</td>     <th>  Log-Likelihood:    </th> <td> -26440.</td> \n",
       "</tr>\n",
       "<tr>\n",
       "  <th>No. Observations:</th>      <td>  1300</td>      <th>  AIC:               </th> <td>5.288e+04</td>\n",
       "</tr>\n",
       "<tr>\n",
       "  <th>Df Residuals:</th>          <td>  1298</td>      <th>  BIC:               </th> <td>5.289e+04</td>\n",
       "</tr>\n",
       "<tr>\n",
       "  <th>Df Model:</th>              <td>     1</td>      <th>                     </th>     <td> </td>    \n",
       "</tr>\n",
       "<tr>\n",
       "  <th>Covariance Type:</th>      <td>nonrobust</td>    <th>                     </th>     <td> </td>    \n",
       "</tr>\n",
       "</table>\n",
       "<table class=\"simpletable\">\n",
       "<tr>\n",
       "     <td></td>       <th>coef</th>     <th>std err</th>      <th>t</th>      <th>P>|t|</th>  <th>[0.025</th>    <th>0.975]</th>  \n",
       "</tr>\n",
       "<tr>\n",
       "  <th>const</th>  <td>-1.858e+07</td> <td> 5.93e+06</td> <td>   -3.136</td> <td> 0.002</td> <td>-3.02e+07</td> <td>-6.96e+06</td>\n",
       "</tr>\n",
       "<tr>\n",
       "  <th>budget</th> <td>    3.7903</td> <td>    0.082</td> <td>   46.120</td> <td> 0.000</td> <td>    3.629</td> <td>    3.951</td>\n",
       "</tr>\n",
       "</table>\n",
       "<table class=\"simpletable\">\n",
       "<tr>\n",
       "  <th>Omnibus:</th>       <td>708.628</td> <th>  Durbin-Watson:     </th> <td>   1.877</td> \n",
       "</tr>\n",
       "<tr>\n",
       "  <th>Prob(Omnibus):</th> <td> 0.000</td>  <th>  Jarque-Bera (JB):  </th> <td>12328.555</td>\n",
       "</tr>\n",
       "<tr>\n",
       "  <th>Skew:</th>          <td> 2.134</td>  <th>  Prob(JB):          </th> <td>    0.00</td> \n",
       "</tr>\n",
       "<tr>\n",
       "  <th>Kurtosis:</th>      <td>17.470</td>  <th>  Cond. No.          </th> <td>9.35e+07</td> \n",
       "</tr>\n",
       "</table><br/><br/>Notes:<br/>[1] Standard Errors assume that the covariance matrix of the errors is correctly specified.<br/>[2] The condition number is large, 9.35e+07. This might indicate that there are<br/>strong multicollinearity or other numerical problems."
      ],
      "text/plain": [
       "<class 'statsmodels.iolib.summary.Summary'>\n",
       "\"\"\"\n",
       "                            OLS Regression Results                            \n",
       "==============================================================================\n",
       "Dep. Variable:                revenue   R-squared:                       0.621\n",
       "Model:                            OLS   Adj. R-squared:                  0.621\n",
       "Method:                 Least Squares   F-statistic:                     2127.\n",
       "Date:                Wed, 07 Apr 2021   Prob (F-statistic):          9.19e-276\n",
       "Time:                        13:02:25   Log-Likelihood:                -26440.\n",
       "No. Observations:                1300   AIC:                         5.288e+04\n",
       "Df Residuals:                    1298   BIC:                         5.289e+04\n",
       "Df Model:                           1                                         \n",
       "Covariance Type:            nonrobust                                         \n",
       "==============================================================================\n",
       "                 coef    std err          t      P>|t|      [0.025      0.975]\n",
       "------------------------------------------------------------------------------\n",
       "const      -1.858e+07   5.93e+06     -3.136      0.002   -3.02e+07   -6.96e+06\n",
       "budget         3.7903      0.082     46.120      0.000       3.629       3.951\n",
       "==============================================================================\n",
       "Omnibus:                      708.628   Durbin-Watson:                   1.877\n",
       "Prob(Omnibus):                  0.000   Jarque-Bera (JB):            12328.555\n",
       "Skew:                           2.134   Prob(JB):                         0.00\n",
       "Kurtosis:                      17.470   Cond. No.                     9.35e+07\n",
       "==============================================================================\n",
       "\n",
       "Notes:\n",
       "[1] Standard Errors assume that the covariance matrix of the errors is correctly specified.\n",
       "[2] The condition number is large, 9.35e+07. This might indicate that there are\n",
       "strong multicollinearity or other numerical problems.\n",
       "\"\"\""
      ]
     },
     "execution_count": 170,
     "metadata": {},
     "output_type": "execute_result"
    }
   ],
   "source": [
    "## Make an OLS linear model using original X and y\n",
    "model = OLS(y,X).fit()\n",
    "## Check model summary\n",
    "model.summary()"
   ]
  },
  {
   "cell_type": "markdown",
   "metadata": {},
   "source": [
    "### Statsmodels OLS Results - Except From Canvas Lesson"
   ]
  },
  {
   "cell_type": "markdown",
   "metadata": {},
   "source": [
    "- https://learn.co/tracks/module-2-data-science-career-2-1/statistics-ab-testing-and-linear-regression/section-18-introduction-to-linear-regression/ordinary-least-squares-in-statsmodels-ols\n",
    "\n",
    "\n",
    "> **Here is a brief description of these measures:**\n",
    "\n",
    "> The left part of the first table gives some specifics on the data and the model:\n",
    "* **Dep. Variable**: Singular. Which variable is the point of interest of the model\n",
    "* **Model**: Technique used, an abbreviated version of Method (see methods for more).\n",
    "* **Method**: The loss function optimized in the parameter selection process. Least Squares since it picks the parameters that reduce the training error. This is also known as Mean Square Error [MSE].\n",
    "* **No. Observations**: The number of observations used by the model, or size of the training data.\n",
    "* **Degrees of Freedom Residuals**: Degrees of freedom of the residuals, which is the number of observations – number of parameters. Intercept is a parameter. The purpose of Degrees of Freedom is to reflect the impact of descriptive/summarizing statistics in the model, which in regression is the coefficient. Since the observations must \"live up\" to these parameters, they only have so many free observations, and the rest must be reserved to \"live up\" to the parameters' prophecy. This internal mechanism ensures that there are enough observations to match the parameters.\n",
    "* **Degrees of Freedom Model**: The number of parameters in the model (not including the constant/intercept term if present)\n",
    "* **Covariance Type**: Robust regression methods are designed to be not overly affected by violations of assumptions by the underlying data-generating process. Since this model is Ordinary Least Squares, it is non-robust and therefore highly sensitive to outliers.\n",
    "\n",
    "\n",
    "> **The right part of the first table shows the goodness of fit:**\n",
    "* **R-squared**: The coefficient of determination, the Sum Squares of Regression divided by Total Sum Squares. This translates to the percent of variance explained by the model. The remaining percentage represents the variance explained by error, the E term, the part that model and predictors fail to grasp.\n",
    "* **Adj. R-squared**: Version of the R-Squared that penalizes additional independent variables. \n",
    "* **F-statistic**: A measure of how significant the fit is. The mean squared error of the model divided by the mean squared error of the residuals. Feeds into the calculation of the P-Value.\n",
    "* **Prob (F-statistic) or P-Value**: The probability that a sample like this would yield the above statistic, and whether the model's verdict on the null hypothesis will consistently represent the population. Does not measure effect magnitude, instead measures the integrity and consistency of this test on this group of data.\n",
    "* **Log-likelihood**: The log of the likelihood function.\n",
    "* **AIC**: The Akaike Information Criterion. Adjusts the log-likelihood based on the number of observations and the complexity of the model. Penalizes the model selection metrics when more independent variables are added.\n",
    "* **BIC**: The Bayesian Information Criterion. Similar to the AIC, but has a higher penalty for models with more parameters. Penalizes the model selection metrics when more independent variables are added.\n",
    "\n",
    "> The second table shows the coefficient report: \n",
    "* **coef**: The estimated value of the coefficient. By how much the model multiplies the independent value by.\n",
    "* **std err**: The basic standard error of the estimate of the coefficient. Average distance deviation of the points from the model, which offers a unit relevant way to gauge model accuracy.\n",
    "* **t**: The t-statistic value. This is a measure of how statistically significant the coefficient is.\n",
    "* **P > |t|**: P-value that the null-hypothesis that the coefficient = 0 is true. If it is less than the confidence level, often 0.05, it indicates that there is a statistically significant relationship between the term and the response.\n",
    "* **[95.0% Conf. Interval]**: The lower and upper values of the 95% confidence interval. Specific range of the possible coefficient values.\n",
    "\n",
    "> The third table shows information about the residuals, autocorrelation, and multicollinearity: \n",
    "* **Skewness**: A measure of the symmetry of the data about the mean. Normally-distributed errors should be symmetrically distributed about the mean (equal amounts above and below the line). The normal distribution has 0 skew.\n",
    "* **Kurtosis**: A measure of the shape of the distribution. Compares the amount of data close to the mean with those far away from the mean (in the tails), so model \"peakiness\". The normal distribution has a Kurtosis of 3, and the greater the number, the more the curve peaks.\n",
    "* **Omnibus D’Angostino’s test**: Provides a combined statistical test for the presence of skewness and kurtosis.\n",
    "* **Prob(Omnibus)**: The above statistic turned into a probability\n",
    "* **Jarque-Bera**: A different test of the skewness and kurtosis\n",
    "* **Prob (JB)**: The above statistic turned into a probability\n",
    "* **Durbin-Watson**: A test for the presence of autocorrelation (that the errors are not independent), which is often important in time-series analysis\n",
    "* **Cond. No**: A test for multicollinearity (if in a fit with multiple parameters, the parameters are related to each other).\n",
    "\n",
    "The interpretation of some of these measures will be explained in the next lessons. For others, you'll get a better insight into them in the lessons on statistics. "
   ]
  },
  {
   "cell_type": "markdown",
   "metadata": {
    "colab_type": "text",
    "id": "FT5jwCBee2kp"
   },
   "source": [
    "## Diagnosing Regressions in Statsmodels\n"
   ]
  },
  {
   "cell_type": "markdown",
   "metadata": {},
   "source": [
    "* Use Q-Q plots to check for the normality in residual errors\n",
    "* ~~Use the Jarque-Bera test for normal distribution of residuals~~\n",
    "* Check for heteroscedasticity using the Goldfeld-Quandt test to check whether the variance is the same in 2 samples\n"
   ]
  },
  {
   "cell_type": "code",
   "execution_count": 171,
   "metadata": {
    "ExecuteTime": {
     "end_time": "2020-08-19T16:47:26.125190Z",
     "start_time": "2020-08-19T16:47:25.912067Z"
    },
    "scrolled": false
   },
   "outputs": [
    {
     "data": {
      "image/png": "[encoded data removed]",
      "text/plain": [
       "<Figure size 748.8x514.8 with 1 Axes>"
      ]
     },
     "metadata": {
      "needs_background": "light"
     },
     "output_type": "display_data"
    }
   ],
   "source": [
    "## QQ Plot\n",
    "fig = sm.graphics.qqplot(model.resid,dist=stats.norm,fit=True,line='45')"
   ]
  },
  {
   "cell_type": "markdown",
   "metadata": {},
   "source": [
    "### Improve the Model Using Outlier-Removed Data"
   ]
  },
  {
   "cell_type": "code",
   "execution_count": 172,
   "metadata": {
    "ExecuteTime": {
     "end_time": "2020-08-19T16:49:00.799256Z",
     "start_time": "2020-08-19T16:49:00.578905Z"
    }
   },
   "outputs": [
    {
     "data": {
      "text/html": [
       "<table class=\"simpletable\">\n",
       "<caption>OLS Regression Results</caption>\n",
       "<tr>\n",
       "  <th>Dep. Variable:</th>         <td>revenue</td>     <th>  R-squared:         </th> <td>   0.439</td> \n",
       "</tr>\n",
       "<tr>\n",
       "  <th>Model:</th>                   <td>OLS</td>       <th>  Adj. R-squared:    </th> <td>   0.439</td> \n",
       "</tr>\n",
       "<tr>\n",
       "  <th>Method:</th>             <td>Least Squares</td>  <th>  F-statistic:       </th> <td>   881.0</td> \n",
       "</tr>\n",
       "<tr>\n",
       "  <th>Date:</th>             <td>Wed, 07 Apr 2021</td> <th>  Prob (F-statistic):</th> <td>1.98e-143</td>\n",
       "</tr>\n",
       "<tr>\n",
       "  <th>Time:</th>                 <td>13:02:30</td>     <th>  Log-Likelihood:    </th> <td> -21900.</td> \n",
       "</tr>\n",
       "<tr>\n",
       "  <th>No. Observations:</th>      <td>  1126</td>      <th>  AIC:               </th> <td>4.380e+04</td>\n",
       "</tr>\n",
       "<tr>\n",
       "  <th>Df Residuals:</th>          <td>  1124</td>      <th>  BIC:               </th> <td>4.381e+04</td>\n",
       "</tr>\n",
       "<tr>\n",
       "  <th>Df Model:</th>              <td>     1</td>      <th>                     </th>     <td> </td>    \n",
       "</tr>\n",
       "<tr>\n",
       "  <th>Covariance Type:</th>      <td>nonrobust</td>    <th>                     </th>     <td> </td>    \n",
       "</tr>\n",
       "</table>\n",
       "<table class=\"simpletable\">\n",
       "<tr>\n",
       "     <td></td>       <th>coef</th>     <th>std err</th>      <th>t</th>      <th>P>|t|</th>  <th>[0.025</th>    <th>0.975]</th>  \n",
       "</tr>\n",
       "<tr>\n",
       "  <th>const</th>  <td> 1.332e+07</td> <td> 2.86e+06</td> <td>    4.649</td> <td> 0.000</td> <td>  7.7e+06</td> <td> 1.89e+07</td>\n",
       "</tr>\n",
       "<tr>\n",
       "  <th>budget</th> <td>    2.1166</td> <td>    0.071</td> <td>   29.682</td> <td> 0.000</td> <td>    1.977</td> <td>    2.257</td>\n",
       "</tr>\n",
       "</table>\n",
       "<table class=\"simpletable\">\n",
       "<tr>\n",
       "  <th>Omnibus:</th>       <td>290.848</td> <th>  Durbin-Watson:     </th> <td>   1.675</td> \n",
       "</tr>\n",
       "<tr>\n",
       "  <th>Prob(Omnibus):</th> <td> 0.000</td>  <th>  Jarque-Bera (JB):  </th> <td> 825.435</td> \n",
       "</tr>\n",
       "<tr>\n",
       "  <th>Skew:</th>          <td> 1.306</td>  <th>  Prob(JB):          </th> <td>5.74e-180</td>\n",
       "</tr>\n",
       "<tr>\n",
       "  <th>Kurtosis:</th>      <td> 6.282</td>  <th>  Cond. No.          </th> <td>5.70e+07</td> \n",
       "</tr>\n",
       "</table><br/><br/>Notes:<br/>[1] Standard Errors assume that the covariance matrix of the errors is correctly specified.<br/>[2] The condition number is large, 5.7e+07. This might indicate that there are<br/>strong multicollinearity or other numerical problems."
      ],
      "text/plain": [
       "<class 'statsmodels.iolib.summary.Summary'>\n",
       "\"\"\"\n",
       "                            OLS Regression Results                            \n",
       "==============================================================================\n",
       "Dep. Variable:                revenue   R-squared:                       0.439\n",
       "Model:                            OLS   Adj. R-squared:                  0.439\n",
       "Method:                 Least Squares   F-statistic:                     881.0\n",
       "Date:                Wed, 07 Apr 2021   Prob (F-statistic):          1.98e-143\n",
       "Time:                        13:02:30   Log-Likelihood:                -21900.\n",
       "No. Observations:                1126   AIC:                         4.380e+04\n",
       "Df Residuals:                    1124   BIC:                         4.381e+04\n",
       "Df Model:                           1                                         \n",
       "Covariance Type:            nonrobust                                         \n",
       "==============================================================================\n",
       "                 coef    std err          t      P>|t|      [0.025      0.975]\n",
       "------------------------------------------------------------------------------\n",
       "const       1.332e+07   2.86e+06      4.649      0.000     7.7e+06    1.89e+07\n",
       "budget         2.1166      0.071     29.682      0.000       1.977       2.257\n",
       "==============================================================================\n",
       "Omnibus:                      290.848   Durbin-Watson:                   1.675\n",
       "Prob(Omnibus):                  0.000   Jarque-Bera (JB):              825.435\n",
       "Skew:                           1.306   Prob(JB):                    5.74e-180\n",
       "Kurtosis:                       6.282   Cond. No.                     5.70e+07\n",
       "==============================================================================\n",
       "\n",
       "Notes:\n",
       "[1] Standard Errors assume that the covariance matrix of the errors is correctly specified.\n",
       "[2] The condition number is large, 5.7e+07. This might indicate that there are\n",
       "strong multicollinearity or other numerical problems.\n",
       "\"\"\""
      ]
     },
     "metadata": {},
     "output_type": "display_data"
    },
    {
     "data": {
      "image/png": "[encoded data removed]",
      "text/plain": [
       "<Figure size 748.8x514.8 with 1 Axes>"
      ]
     },
     "metadata": {
      "needs_background": "light"
     },
     "output_type": "display_data"
    }
   ],
   "source": [
    "## Repeat the above process with the clean data.\n",
    "X_clean = sm.add_constant(X_clean)\n",
    "model = OLS(y_clean, X_clean,hasconst=True).fit()\n",
    "display(model.summary())\n",
    "fig = sm.graphics.qqplot(model.resid,dist=stats.norm,fit=True,line='45')"
   ]
  },
  {
   "cell_type": "code",
   "execution_count": 173,
   "metadata": {
    "ExecuteTime": {
     "end_time": "2020-08-19T16:51:25.035966Z",
     "start_time": "2020-08-19T16:51:25.031329Z"
    }
   },
   "outputs": [
    {
     "data": {
      "text/plain": [
       "{'const': 13317773.03019375, 'budget': 2.116604190730345}"
      ]
     },
     "execution_count": 173,
     "metadata": {},
     "output_type": "execute_result"
    }
   ],
   "source": [
    "## Get the model params \n",
    "coeffs = dict(model.params)\n",
    "coeffs\n"
   ]
  },
  {
   "cell_type": "code",
   "execution_count": 174,
   "metadata": {
    "ExecuteTime": {
     "end_time": "2020-08-19T16:51:59.068518Z",
     "start_time": "2020-08-19T16:51:59.062617Z"
    }
   },
   "outputs": [
    {
     "data": {
      "text/plain": [
       "3        12000000\n",
       "10      130000000\n",
       "11       85000000\n",
       "14       69000000\n",
       "15       50000000\n",
       "          ...    \n",
       "1450      9000000\n",
       "1451     15600000\n",
       "1454        50000\n",
       "1457     13000000\n",
       "1460           46\n",
       "Name: budget, Length: 1126, dtype: int64"
      ]
     },
     "execution_count": 174,
     "metadata": {},
     "output_type": "execute_result"
    }
   ],
   "source": [
    "X_clean = X_clean.iloc[:,1]\n",
    "X_clean"
   ]
  },
  {
   "cell_type": "code",
   "execution_count": 175,
   "metadata": {
    "ExecuteTime": {
     "end_time": "2020-08-19T16:52:24.832701Z",
     "start_time": "2020-08-19T16:52:24.826911Z"
    }
   },
   "outputs": [
    {
     "data": {
      "text/plain": [
       "3       3.871702e+07\n",
       "10      2.884763e+08\n",
       "11      1.932291e+08\n",
       "14      1.593635e+08\n",
       "15      1.191480e+08\n",
       "            ...     \n",
       "1450    3.236721e+07\n",
       "1451    4.633680e+07\n",
       "1454    1.342360e+07\n",
       "1457    4.083363e+07\n",
       "1460    1.331787e+07\n",
       "Name: budget, Length: 1126, dtype: float64"
      ]
     },
     "execution_count": 175,
     "metadata": {},
     "output_type": "execute_result"
    }
   ],
   "source": [
    "## Calcualte y_hat using the model's coefficients \n",
    "y_hat =  X_clean*coeffs['budget'] +coeffs['const']\n",
    "y_hat"
   ]
  },
  {
   "cell_type": "code",
   "execution_count": 176,
   "metadata": {
    "ExecuteTime": {
     "end_time": "2020-08-19T16:53:48.288581Z",
     "start_time": "2020-08-19T16:53:48.283224Z"
    }
   },
   "outputs": [],
   "source": [
    "X_clean_plot= sm.add_constant(X_clean)\n",
    "y_hat_model = model.predict(X_clean_plot)"
   ]
  },
  {
   "cell_type": "code",
   "execution_count": 177,
   "metadata": {
    "ExecuteTime": {
     "end_time": "2020-08-19T16:54:32.481541Z",
     "start_time": "2020-08-19T16:54:32.222775Z"
    }
   },
   "outputs": [
    {
     "data": {
      "text/plain": [
       "<matplotlib.legend.Legend at 0x7fd96d20f5b0>"
      ]
     },
     "execution_count": 177,
     "metadata": {},
     "output_type": "execute_result"
    },
    {
     "data": {
      "image/png": "[encoded data removed]",
      "text/plain": [
       "<Figure size 748.8x514.8 with 1 Axes>"
      ]
     },
     "metadata": {
      "needs_background": "light"
     },
     "output_type": "display_data"
    }
   ],
   "source": [
    "## Visualize Predictions vs Original Data\n",
    "plt.scatter(X_clean_plot.iloc[:,1], y_clean,label='y')\n",
    "plt.scatter(X_clean_plot.iloc[:,1], y_hat,label='y_hat')\n",
    "plt.scatter(X_clean_plot.iloc[:,1], y_hat_model,label='y_hat_model',\n",
    "            color='green',s=2)\n",
    "plt.legend()"
   ]
  },
  {
   "cell_type": "code",
   "execution_count": 178,
   "metadata": {
    "ExecuteTime": {
     "end_time": "2020-08-19T16:55:08.739289Z",
     "start_time": "2020-08-19T16:55:08.733831Z"
    }
   },
   "outputs": [
    {
     "data": {
      "text/plain": [
       "const     1.331777e+07\n",
       "budget    2.116604e+00\n",
       "dtype: float64"
      ]
     },
     "execution_count": 178,
     "metadata": {},
     "output_type": "execute_result"
    }
   ],
   "source": [
    "model.params"
   ]
  },
  {
   "cell_type": "markdown",
   "metadata": {},
   "source": [
    "### Further attempts to make normal?"
   ]
  },
  {
   "cell_type": "code",
   "execution_count": 179,
   "metadata": {
    "ExecuteTime": {
     "end_time": "2020-08-19T17:01:19.396034Z",
     "start_time": "2020-08-19T17:01:18.917294Z"
    }
   },
   "outputs": [],
   "source": [
    "# X_log = np.log(X_clean.iloc[:,1])\n",
    "# check_normality(X_log,y_clean)"
   ]
  },
  {
   "cell_type": "code",
   "execution_count": 180,
   "metadata": {
    "ExecuteTime": {
     "end_time": "2020-08-19T17:02:07.162094Z",
     "start_time": "2020-08-19T17:02:06.908245Z"
    }
   },
   "outputs": [],
   "source": [
    "# model = OLS(y_clean,sm.add_constant(X_log)).fit()\n",
    "# display(model.summary())\n",
    "# fig = sm.graphics.qqplot(model.resid,dist=stats.norm,fit=True,line='45')"
   ]
  },
  {
   "cell_type": "code",
   "execution_count": null,
   "metadata": {
    "ExecuteTime": {
     "end_time": "2020-08-19T17:02:18.992828Z",
     "start_time": "2020-08-19T17:02:18.987647Z"
    }
   },
   "outputs": [],
   "source": [
    "# model.params"
   ]
  },
  {
   "cell_type": "markdown",
   "metadata": {
    "heading_collapsed": true
   },
   "source": [
    "# APPENDIX"
   ]
  },
  {
   "cell_type": "code",
   "execution_count": null,
   "metadata": {
    "hidden": true
   },
   "outputs": [],
   "source": []
  },
  {
   "cell_type": "code",
   "execution_count": null,
   "metadata": {
    "hidden": true
   },
   "outputs": [],
   "source": []
  },
  {
   "cell_type": "code",
   "execution_count": null,
   "metadata": {
    "hidden": true
   },
   "outputs": [],
   "source": []
  },
  {
   "cell_type": "code",
   "execution_count": null,
   "metadata": {
    "ExecuteTime": {
     "end_time": "2020-08-19T15:50:48.246475Z",
     "start_time": "2020-08-19T15:50:48.244410Z"
    },
    "hidden": true,
    "scrolled": true
   },
   "outputs": [],
   "source": [
    "# fig = sm.graphics.plot_regress_exog(model, \"GrLivArea\", fig=plt.figure(figsize=(12,8)))"
   ]
  },
  {
   "cell_type": "code",
   "execution_count": null,
   "metadata": {
    "ExecuteTime": {
     "end_time": "2020-08-19T15:43:54.708936Z",
     "start_time": "2020-08-19T15:43:54.513293Z"
    },
    "hidden": true
   },
   "outputs": [],
   "source": [
    "## Make our formula-based Regression\n",
    "import statsmodels.formula.api as smf\n",
    "\n",
    "f = \"SalePrice~GrLivArea\"\n",
    "model = smf.ols(f,df).fit()\n",
    "model.summary()\n",
    "sm.graphics.qqplot(model.resid,dist=stats.norm,fit=True, line='45');"
   ]
  },
  {
   "cell_type": "code",
   "execution_count": null,
   "metadata": {
    "hidden": true
   },
   "outputs": [],
   "source": [
    "X.shape,y.shape.y_hat.shape"
   ]
  },
  {
   "cell_type": "code",
   "execution_count": null,
   "metadata": {
    "ExecuteTime": {
     "end_time": "2020-08-19T15:36:14.614331Z",
     "start_time": "2020-08-19T15:36:14.357394Z"
    },
    "hidden": true
   },
   "outputs": [],
   "source": [
    "## Visualzie true data vs predictions\n",
    "plt.scatter(X.iloc[:,1],y)\n",
    "plt.scatter(X.iloc[:,1],y_hat)#model.predict(X))\n",
    "# plt.scatter(X.iloc[:,1],model.predict(X),s=1)"
   ]
  },
  {
   "cell_type": "code",
   "execution_count": null,
   "metadata": {
    "ExecuteTime": {
     "end_time": "2020-08-19T15:36:14.619124Z",
     "start_time": "2020-08-19T15:36:14.615601Z"
    },
    "hidden": true
   },
   "outputs": [],
   "source": [
    "xs = np.linspace(X.iloc[:,1].min(),X.iloc[:,1].max(),num=100)"
   ]
  },
  {
   "cell_type": "code",
   "execution_count": null,
   "metadata": {
    "ExecuteTime": {
     "start_time": "2020-08-19T15:36:11.959Z"
    },
    "hidden": true
   },
   "outputs": [],
   "source": [
    "plt.scatter(X.iloc[:,1],y)\n",
    "plt.plot(xs,model.predict(xs))"
   ]
  },
  {
   "cell_type": "markdown",
   "metadata": {
    "colab_type": "text",
    "hidden": true,
    "id": "6juvsEokuYQw"
   },
   "source": [
    "\n",
    "## Covariance\n",
    "\n",
    "In some cases, you'll want to look at **two variables** to get an idea about how they **change together**. In statistics, when trying to figure out how two variables **vary together**, you can use the **covariance** between these variables.\n",
    "\n",
    "\n",
    "\n",
    "If you have $X$ and $Y$, two variables having $n$ elements each. You can calculate covariance ($\\sigma_{xy}$) between these two variables by using the formula:\n",
    "\n",
    "$$ \\large \\sigma_{XY} = \\dfrac{1}{n}\\displaystyle\\sum_{i=1}^{n}(x_i -\\mu_x)(y_i - \\mu_y)$$\n",
    "\n",
    "- $\\sigma_{XY}$ = Covariance between $X$ and $Y$\n",
    "- $x_i$ = ith element of variable $X$\n",
    "- $y_i$ = ith element of variable $Y$\n",
    "- $n$ = number of data points (__$n$ must be same for $X$ and $Y$__)\n",
    "- $\\mu_x$ = mean of the independent variable $X$\n",
    "- $\\mu_y$ = mean of the dependent variable $Y$\n",
    "\n",
    "\n",
    "> You can see that the formula calculates the variance of $X$ and $Y$ by multiplying the variance of each of their corresponding elements. Hence the term **covariance**.\n",
    "\n",
    "\n",
    "\n",
    "#### Interpreting covariance values \n",
    "\n",
    "Covariance values range from positive infinity to negative infinity. \n",
    "\n",
    "* A **positive covariance** indicates that two variables are **positively related**\n",
    "\n",
    "* A **negative covariance** indicates that two variables are **inversely related**\n",
    "\n",
    "* A **covariance equal or close to 0** indicates that there is **no linear relationship** between two variables\n"
   ]
  },
  {
   "cell_type": "markdown",
   "metadata": {
    "colab_type": "text",
    "hidden": true,
    "id": "OrfSADIXuYO1"
   },
   "source": [
    "\n",
    "## Correlation\n",
    "\n",
    "\n",
    "> Correlation is calculated by **standardizing covariance** by some measure of variability in the data. It produces a quantity that has intuitive interpretations and consistent scale. \n",
    "\n",
    "\n",
    "\n",
    "### Pearson's correlation coefficient ( $r$ )\n",
    "\n",
    "__Pearson Correlation Coefficient__, $r$, also called the __linear correlation coefficient__, measures the strength and the direction of a __linear relationship__ between two variables. This coefficient quantifies the degree to which a relationship between two variables can be described by a line. \n",
    "\n",
    "\n",
    "\n",
    "\n",
    "\n",
    "Pearson Correlation ($r$) is calculated using following formula :\n",
    "\n",
    "$$ \\large r = \\frac{\\sum_{i=1}^{n}(x_i -\\mu_x)(y_i - \\mu_y)} {\\sqrt{\\sum_{i=1}^{n}(x_i - \\mu_x)^2 \\sum_{i=1}^{n}(y_i-\\mu_y)^2}}$$\n",
    "\n",
    "So just like in the case of covariance,  $X$ and $Y$ are two variables having $n$ elements each. \n",
    "\n",
    "\n",
    "- $x_i$ = ith element of variable $X$\n",
    "- $y_i$ = ith element of variable $Y$\n",
    "- $n$ = number of data points (__$n$ must be same for $X$ and $Y$__)\n",
    "- $\\mu_x$ = mean of the independent variable $X$\n",
    "- $\\mu_y$ = mean of the dependent variable $Y$\n",
    "- $r$ = Calculated Pearson Correlation\n",
    "\n",
    "\n",
    "\n",
    "> _The Pearson Correlation formula always gives values in a range between -1 and 1_\n",
    "\n",
    "\n",
    "<img src=\"https://raw.githubusercontent.com/learn-co-students/dsc-correlation-covariance-online-ds-sp-000/master/images/correlation.png\">\n",
    "\n"
   ]
  },
  {
   "cell_type": "markdown",
   "metadata": {
    "colab_type": "text",
    "hidden": true,
    "id": "qGwIwusqvtei"
   },
   "source": [
    "## Correlation is not causation\n",
    "\n",
    "> Causation is when any change in the value of one variable leads to a change in the value of another variable, which means one variable _causes_ the change in another. This is also referred to as __cause and effect__.\n",
    "\n",
    "#### Example 1: Ice cream sales are correlated with the number of homicides in New York \n",
    "\n",
    "\n",
    "<img src=\"https://raw.githubusercontent.com/learn-co-students/dsc-correlation-covariance-online-ds-sp-000/master/images/ice_murder.png\" width=500>"
   ]
  },
  {
   "cell_type": "markdown",
   "metadata": {
    "colab_type": "text",
    "hidden": true,
    "id": "qGwIwusqvtei"
   },
   "source": [
    "### The hidden factor\n",
    "\n",
    "<img src=\"https://raw.githubusercontent.com/learn-co-students/dsc-correlation-covariance-online-ds-sp-000/master/images/hidden_factor.png\">"
   ]
  },
  {
   "cell_type": "markdown",
   "metadata": {
    "colab_type": "text",
    "hidden": true,
    "id": "iBivtEPwvtcr"
   },
   "source": [
    "\n",
    "#### Example 2: Number of Nicholas Cage movie releases correlates with people drowning in pools\n",
    "\n",
    "\n",
    "<img src=\"https://raw.githubusercontent.com/learn-co-students/dsc-correlation-covariance-online-ds-sp-000/master/images/cage.png\">"
   ]
  },
  {
   "cell_type": "markdown",
   "metadata": {
    "colab_type": "text",
    "hidden": true,
    "id": "YlXgMl8m1-K7"
   },
   "source": [
    "\n",
    "## Additional Reference Material:\n",
    "- [Math notation pdf from Learn lesson](https://drive.google.com/file/d/1iu5pj-1q0KX6YmCX1vneS-uTmbaaZXkD/view?usp=sharing)\n",
    "- [Covariance — Different Ways to Explain or Visualize It - Found by Devin](https://stats.seandolinar.com/covariance-different-ways-to-explain/)\n",
    "\n"
   ]
  },
  {
   "cell_type": "code",
   "execution_count": null,
   "metadata": {
    "hidden": true
   },
   "outputs": [],
   "source": []
  }
 ],
 "metadata": {
  "colab": {
   "collapsed_sections": [],
   "name": "linear_regression_review.ipynb",
   "provenance": []
  },
  "kernelspec": {
   "display_name": "learn-env-new",
   "language": "python",
   "name": "learn-env-new"
  },
  "language_info": {
   "codemirror_mode": {
    "name": "ipython",
    "version": 3
   },
   "file_extension": ".py",
   "mimetype": "text/x-python",
   "name": "python",
   "nbconvert_exporter": "python",
   "pygments_lexer": "ipython3",
   "version": "3.8.5"
  },
  "toc": {
   "base_numbering": 1,
   "nav_menu": {},
   "number_sections": false,
   "sideBar": true,
   "skip_h1_title": false,
   "title_cell": "Table of Contents",
   "title_sidebar": "Contents",
   "toc_cell": false,
   "toc_position": {
    "height": "calc(100% - 180px)",
    "left": "10px",
    "top": "150px",
    "width": "284.438px"
   },
   "toc_section_display": true,
   "toc_window_display": true
  },
  "varInspector": {
   "cols": {
    "lenName": 16,
    "lenType": 16,
    "lenVar": 40
   },
   "kernels_config": {
    "python": {
     "delete_cmd_postfix": "",
     "delete_cmd_prefix": "del ",
     "library": "var_list.py",
     "varRefreshCmd": "print(var_dic_list())"
    },
    "r": {
     "delete_cmd_postfix": ") ",
     "delete_cmd_prefix": "rm(",
     "library": "var_list.r",
     "varRefreshCmd": "cat(var_dic_list()) "
    }
   },
   "types_to_exclude": [
    "module",
    "function",
    "builtin_function_or_method",
    "instance",
    "_Feature"
   ],
   "window_display": false
  }
 },
 "nbformat": 4,
 "nbformat_minor": 1
}

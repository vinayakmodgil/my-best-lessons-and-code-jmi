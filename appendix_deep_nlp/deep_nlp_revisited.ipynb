{
 "cells": [
  {
   "cell_type": "markdown",
   "metadata": {},
   "source": [
    "> ## NOTE: You are not allowed to use any propriety functions from this notebook in your projects. "
   ]
  },
  {
   "cell_type": "markdown",
   "metadata": {},
   "source": [
    "# Capstone Office Hours - Deep NLP"
   ]
  },
  {
   "cell_type": "markdown",
   "metadata": {},
   "source": [
    "- 01/06/21\n",
    "- online-ds-ft-081720"
   ]
  },
  {
   "cell_type": "markdown",
   "metadata": {},
   "source": [
    "## Learning Objectives"
   ]
  },
  {
   "cell_type": "markdown",
   "metadata": {},
   "source": [
    "- Discuss word Embeddings and their advantages\n",
    "- Training Word2Vec models\n",
    "- Using pretrained word embeddings\n",
    "\n",
    "\n",
    "- Create a Classification Model for true-trump (\"Twitter for Android\") vs trump-staffer(\"Twitter for iPhone - from period of time when android was still in use)\n",
    "\n",
    "    - Use lesson's W2Vec class in Sci-kit learn models\n",
    "    - Use LSTMs\n",
    "    - Use RNN/GRUs\n",
    "\n",
    "\n",
    "\n",
    "\n",
    "\n",
    "\n",
    "- Compare:\n",
    "    1.  Mean embeddings vs count/tfidf data with scikit learn.\n",
    "    \n",
    "\n",
    "<!-- ## References\n",
    "\n",
    "- My Work-in-Progress Capstone v2.0 Notebook:\n",
    "    - [GitHub Notebook Link](https://github.com/jirvingphd/capstone-project-using-trumps-tweets-to-predict-stock-market/blob/WIP/Capstone%20Restarted%2010-2020.ipynb) -->"
   ]
  },
  {
   "cell_type": "markdown",
   "metadata": {},
   "source": [
    "## NLP & Word Vectorization"
   ]
  },
  {
   "cell_type": "markdown",
   "metadata": {},
   "source": [
    "> **_Natural Language Processing_**, or **_NLP_**, is the study of how computers can interact with humans through the use of human language.  Although this is a field that is quite important to Data Scientists, it does not belong to Data Science alone.  NLP has been around for quite a while, and sits at the intersection of *Computer Science*, *Artificial Intelligence*, *Linguistics*, and *Information Theory*. "
   ]
  },
  {
   "cell_type": "markdown",
   "metadata": {},
   "source": [
    "# Word Embeddings"
   ]
  },
  {
   "cell_type": "markdown",
   "metadata": {},
   "source": [
    "<img src=\"https://raw.githubusercontent.com/jirvingphd/dsc-word-embeddings-online-ds-ft-100719/master/images/embeddings.png\">"
   ]
  },
  {
   "cell_type": "markdown",
   "metadata": {},
   "source": [
    "- Convert words into a vector space\n",
    "    + Mathematical object\n",
    "- It's all about closeness\n",
    "    + Distributional Hypothesis: https://en.wikipedia.org/wiki/Distributional_semantics#Distributional_hypothesis"
   ]
  },
  {
   "cell_type": "markdown",
   "metadata": {},
   "source": [
    "<img src=\"https://raw.githubusercontent.com/jirvingphd/dsc-word-embeddings-online-ds-ft-100719/master/images/vectors.png\">"
   ]
  },
  {
   "cell_type": "markdown",
   "metadata": {},
   "source": [
    "## Resources"
   ]
  },
  {
   "cell_type": "markdown",
   "metadata": {},
   "source": [
    "- Kaggle Tutorial:  https://www.kaggle.com/learn/embeddings\n",
    "- Google Embedding Crash Course: https://developers.google.com/machine-learning/crash-course/embeddings"
   ]
  },
  {
   "cell_type": "markdown",
   "metadata": {},
   "source": [
    "## Word2Vec"
   ]
  },
  {
   "cell_type": "markdown",
   "metadata": {},
   "source": [
    "<img src=\"https://raw.githubusercontent.com/jirvingphd/dsc-using-word2vec-online-ds-ft-100719/master/images/training_data.png\">"
   ]
  },
  {
   "cell_type": "markdown",
   "metadata": {},
   "source": []
  },
  {
   "cell_type": "markdown",
   "metadata": {},
   "source": [
    "### Skip-Gram Model"
   ]
  },
  {
   "cell_type": "markdown",
   "metadata": {},
   "source": [
    "- Train the MLP to find the best weights (context) to map word-to-word\n",
    "- But since words close to another usually contain context, we're _really_ teaching it context in those weights\n",
    "- Gut check: similar contexted words can be exchanged\n",
    "    + EX: \"A fluffy **dog** is a great pet\" <--> \"A fluffy **cat** is a great pet\"\n",
    "\n",
    "- By training a text-generation model, we wind up with a lookup table where each word has its own vector "
   ]
  },
  {
   "cell_type": "markdown",
   "metadata": {},
   "source": [
    "<img src=\"https://raw.githubusercontent.com/jirvingphd/dsc-using-word2vec-online-ds-ft-100719/master/images/new_skip_gram_net_arch.png\">\n",
    "\n",
    "\n",
    "<img src=\"https://raw.githubusercontent.com/learn-co-students/dsc-using-word2vec-online-ds-ft-100719/master/images/new_word2vec_weight_matrix_lookup_table.png\">"
   ]
  },
  {
   "cell_type": "markdown",
   "metadata": {},
   "source": [
    "## GloVe - Global Vectors for Word Representation"
   ]
  },
  {
   "cell_type": "markdown",
   "metadata": {},
   "source": [
    "### Transfer Learning"
   ]
  },
  {
   "cell_type": "markdown",
   "metadata": {},
   "source": [
    "- Usually embeddings are hundreds of dimensions\n",
    "- Just use the word embeddings already learned from before!\n",
    "    + Unless very specific terminology, context will likely carry within language\n",
    "- Comparable to CNN transfer learning"
   ]
  },
  {
   "cell_type": "markdown",
   "metadata": {},
   "source": [
    "# Sequence Models - Recurrent Neural Networks"
   ]
  },
  {
   "cell_type": "markdown",
   "metadata": {},
   "source": [
    "<img src=\"https://raw.githubusercontent.com/jirvingphd/dsc-understanding-recurrent-neural-networks-online-ds-ft-100719/master/images/unrolled.gif\">"
   ]
  },
  {
   "cell_type": "markdown",
   "metadata": {},
   "source": [
    "<img src=\"https://raw.githubusercontent.com/jirvingphd/dsc-sequence-model-use-cases-online-ds-ft-100719/master/images/rnn.gif\">"
   ]
  },
  {
   "cell_type": "markdown",
   "metadata": {},
   "source": [
    "## LSTMs & GRUs"
   ]
  },
  {
   "cell_type": "markdown",
   "metadata": {},
   "source": [
    "- GRU (Gated Recurrent Units (GRUs)\n",
    "    - Reset Gate\n",
    "    - Update Gate\n",
    "    \n",
    "- LSTM (Long Short Term Memory Cells)\n",
    "   - Input Gate\n",
    "   - Forget Gate\n",
    "   - Output Gate"
   ]
  },
  {
   "cell_type": "markdown",
   "metadata": {},
   "source": [
    "<img src=\"https://raw.githubusercontent.com/jirvingphd/dsc-sequence-model-use-cases-online-ds-ft-100719/master/images/RNN-unrolled.png\">"
   ]
  },
  {
   "cell_type": "markdown",
   "metadata": {},
   "source": [
    "Each word will have a vector of contexts: the embeddings!"
   ]
  },
  {
   "cell_type": "markdown",
   "metadata": {},
   "source": [
    "# Activity: Creating Word Embeddings with Trump's Tweets"
   ]
  },
  {
   "cell_type": "code",
   "execution_count": 85,
   "metadata": {
    "ExecuteTime": {
     "end_time": "2021-01-06T19:11:05.634625Z",
     "start_time": "2021-01-06T19:11:05.190367Z"
    }
   },
   "outputs": [],
   "source": [
    "from tensorflow.random import set_seed\n",
    "set_seed(321)\n",
    "\n",
    "import numpy as np \n",
    "np.random.seed(321)"
   ]
  },
  {
   "cell_type": "code",
   "execution_count": 86,
   "metadata": {
    "ExecuteTime": {
     "end_time": "2021-01-06T19:11:06.641629Z",
     "start_time": "2021-01-06T19:11:06.530560Z"
    }
   },
   "outputs": [],
   "source": [
    "# !pip install -U fsds\n",
    "from fsds.imports import *"
   ]
  },
  {
   "cell_type": "code",
   "execution_count": 87,
   "metadata": {
    "ExecuteTime": {
     "end_time": "2021-01-06T19:11:10.397567Z",
     "start_time": "2021-01-06T19:11:08.235702Z"
    }
   },
   "outputs": [
    {
     "data": {
      "text/html": [
       "<div>\n",
       "<style scoped>\n",
       "    .dataframe tbody tr th:only-of-type {\n",
       "        vertical-align: middle;\n",
       "    }\n",
       "\n",
       "    .dataframe tbody tr th {\n",
       "        vertical-align: top;\n",
       "    }\n",
       "\n",
       "    .dataframe thead th {\n",
       "        text-align: right;\n",
       "    }\n",
       "</style>\n",
       "<table border=\"1\" class=\"dataframe\">\n",
       "  <thead>\n",
       "    <tr style=\"text-align: right;\">\n",
       "      <th></th>\n",
       "      <th>source</th>\n",
       "      <th>text</th>\n",
       "      <th>retweet_count</th>\n",
       "      <th>favorite_count</th>\n",
       "      <th>is_retweet</th>\n",
       "      <th>id_str</th>\n",
       "    </tr>\n",
       "    <tr>\n",
       "      <th>created_at</th>\n",
       "      <th></th>\n",
       "      <th></th>\n",
       "      <th></th>\n",
       "      <th></th>\n",
       "      <th></th>\n",
       "      <th></th>\n",
       "    </tr>\n",
       "  </thead>\n",
       "  <tbody>\n",
       "    <tr>\n",
       "      <th>2016-12-01 14:37:57</th>\n",
       "      <td>Twitter for iPhone</td>\n",
       "      <td>My thoughts and prayers are with those affecte...</td>\n",
       "      <td>12077</td>\n",
       "      <td>65724</td>\n",
       "      <td>False</td>\n",
       "      <td>804333718999539712</td>\n",
       "    </tr>\n",
       "    <tr>\n",
       "      <th>2016-12-01 14:38:09</th>\n",
       "      <td>Twitter for Android</td>\n",
       "      <td>Getting ready to leave for the Great State of ...</td>\n",
       "      <td>9834</td>\n",
       "      <td>57249</td>\n",
       "      <td>False</td>\n",
       "      <td>804333771021570048</td>\n",
       "    </tr>\n",
       "    <tr>\n",
       "      <th>2016-12-01 22:52:10</th>\n",
       "      <td>Twitter for iPhone</td>\n",
       "      <td>Heading to U.S. Bank Arena in Cincinnati Ohio ...</td>\n",
       "      <td>5564</td>\n",
       "      <td>31256</td>\n",
       "      <td>False</td>\n",
       "      <td>804458095569158144</td>\n",
       "    </tr>\n",
       "    <tr>\n",
       "      <th>2016-12-02 02:45:18</th>\n",
       "      <td>Twitter for iPhone</td>\n",
       "      <td>Thank you Ohio! Together we made history – and...</td>\n",
       "      <td>17283</td>\n",
       "      <td>72196</td>\n",
       "      <td>False</td>\n",
       "      <td>804516764562374656</td>\n",
       "    </tr>\n",
       "    <tr>\n",
       "      <th>2016-12-03 00:44:20</th>\n",
       "      <td>Twitter for Android</td>\n",
       "      <td>The President of Taiwan CALLED ME today to wis...</td>\n",
       "      <td>24700</td>\n",
       "      <td>111106</td>\n",
       "      <td>False</td>\n",
       "      <td>804848711599882240</td>\n",
       "    </tr>\n",
       "    <tr>\n",
       "      <th>...</th>\n",
       "      <td>...</td>\n",
       "      <td>...</td>\n",
       "      <td>...</td>\n",
       "      <td>...</td>\n",
       "      <td>...</td>\n",
       "      <td>...</td>\n",
       "    </tr>\n",
       "    <tr>\n",
       "      <th>2020-01-01 01:17:43</th>\n",
       "      <td>Twitter for iPhone</td>\n",
       "      <td>RT @SenJohnKennedy: I think Speaker Pelosi is ...</td>\n",
       "      <td>8893</td>\n",
       "      <td>0</td>\n",
       "      <td>True</td>\n",
       "      <td>1212181071988703232</td>\n",
       "    </tr>\n",
       "    <tr>\n",
       "      <th>2020-01-01 01:18:47</th>\n",
       "      <td>Twitter for iPhone</td>\n",
       "      <td>RT @DanScavino: https://t.co/CJRPySkF1Z</td>\n",
       "      <td>10796</td>\n",
       "      <td>0</td>\n",
       "      <td>True</td>\n",
       "      <td>1212181341078458369</td>\n",
       "    </tr>\n",
       "    <tr>\n",
       "      <th>2020-01-01 01:22:28</th>\n",
       "      <td>Twitter for iPhone</td>\n",
       "      <td>Our fantastic First Lady! https://t.co/6iswto4WDI</td>\n",
       "      <td>27567</td>\n",
       "      <td>132633</td>\n",
       "      <td>False</td>\n",
       "      <td>1212182267113680896</td>\n",
       "    </tr>\n",
       "    <tr>\n",
       "      <th>2020-01-01 01:30:35</th>\n",
       "      <td>Twitter for iPhone</td>\n",
       "      <td>HAPPY NEW YEAR!</td>\n",
       "      <td>85409</td>\n",
       "      <td>576045</td>\n",
       "      <td>False</td>\n",
       "      <td>1212184310389850119</td>\n",
       "    </tr>\n",
       "    <tr>\n",
       "      <th>2020-01-01 03:12:07</th>\n",
       "      <td>Twitter Media Studio</td>\n",
       "      <td>https://t.co/EVAEYD1AgV</td>\n",
       "      <td>25016</td>\n",
       "      <td>108830</td>\n",
       "      <td>False</td>\n",
       "      <td>1212209862094012416</td>\n",
       "    </tr>\n",
       "  </tbody>\n",
       "</table>\n",
       "<p>14066 rows × 6 columns</p>\n",
       "</div>"
      ],
      "text/plain": [
       "                                   source  \\\n",
       "created_at                                  \n",
       "2016-12-01 14:37:57    Twitter for iPhone   \n",
       "2016-12-01 14:38:09   Twitter for Android   \n",
       "2016-12-01 22:52:10    Twitter for iPhone   \n",
       "2016-12-02 02:45:18    Twitter for iPhone   \n",
       "2016-12-03 00:44:20   Twitter for Android   \n",
       "...                                   ...   \n",
       "2020-01-01 01:17:43    Twitter for iPhone   \n",
       "2020-01-01 01:18:47    Twitter for iPhone   \n",
       "2020-01-01 01:22:28    Twitter for iPhone   \n",
       "2020-01-01 01:30:35    Twitter for iPhone   \n",
       "2020-01-01 03:12:07  Twitter Media Studio   \n",
       "\n",
       "                                                                  text  \\\n",
       "created_at                                                               \n",
       "2016-12-01 14:37:57  My thoughts and prayers are with those affecte...   \n",
       "2016-12-01 14:38:09  Getting ready to leave for the Great State of ...   \n",
       "2016-12-01 22:52:10  Heading to U.S. Bank Arena in Cincinnati Ohio ...   \n",
       "2016-12-02 02:45:18  Thank you Ohio! Together we made history – and...   \n",
       "2016-12-03 00:44:20  The President of Taiwan CALLED ME today to wis...   \n",
       "...                                                                ...   \n",
       "2020-01-01 01:17:43  RT @SenJohnKennedy: I think Speaker Pelosi is ...   \n",
       "2020-01-01 01:18:47            RT @DanScavino: https://t.co/CJRPySkF1Z   \n",
       "2020-01-01 01:22:28  Our fantastic First Lady! https://t.co/6iswto4WDI   \n",
       "2020-01-01 01:30:35                                    HAPPY NEW YEAR!   \n",
       "2020-01-01 03:12:07                            https://t.co/EVAEYD1AgV   \n",
       "\n",
       "                     retweet_count  favorite_count is_retweet  \\\n",
       "created_at                                                      \n",
       "2016-12-01 14:37:57          12077           65724      False   \n",
       "2016-12-01 14:38:09           9834           57249      False   \n",
       "2016-12-01 22:52:10           5564           31256      False   \n",
       "2016-12-02 02:45:18          17283           72196      False   \n",
       "2016-12-03 00:44:20          24700          111106      False   \n",
       "...                            ...             ...        ...   \n",
       "2020-01-01 01:17:43           8893               0       True   \n",
       "2020-01-01 01:18:47          10796               0       True   \n",
       "2020-01-01 01:22:28          27567          132633      False   \n",
       "2020-01-01 01:30:35          85409          576045      False   \n",
       "2020-01-01 03:12:07          25016          108830      False   \n",
       "\n",
       "                                  id_str  \n",
       "created_at                                \n",
       "2016-12-01 14:37:57   804333718999539712  \n",
       "2016-12-01 14:38:09   804333771021570048  \n",
       "2016-12-01 22:52:10   804458095569158144  \n",
       "2016-12-02 02:45:18   804516764562374656  \n",
       "2016-12-03 00:44:20   804848711599882240  \n",
       "...                                  ...  \n",
       "2020-01-01 01:17:43  1212181071988703232  \n",
       "2020-01-01 01:18:47  1212181341078458369  \n",
       "2020-01-01 01:22:28  1212182267113680896  \n",
       "2020-01-01 01:30:35  1212184310389850119  \n",
       "2020-01-01 03:12:07  1212209862094012416  \n",
       "\n",
       "[14066 rows x 6 columns]"
      ]
     },
     "execution_count": 87,
     "metadata": {},
     "output_type": "execute_result"
    }
   ],
   "source": [
    "df = fs.datasets.load_nlp_finding_trump(read_csv_kwds={'parse_dates':['created_at'],\n",
    "                                                      'index_col':'created_at'})\n",
    "df.sort_index(inplace=True)\n",
    "df"
   ]
  },
  {
   "cell_type": "markdown",
   "metadata": {},
   "source": [
    "## Text Classification - Finding Trump"
   ]
  },
  {
   "cell_type": "code",
   "execution_count": 88,
   "metadata": {
    "ExecuteTime": {
     "end_time": "2021-01-06T19:11:10.542847Z",
     "start_time": "2021-01-06T19:11:10.400183Z"
    }
   },
   "outputs": [
    {
     "data": {
      "text/html": [
       "<div>\n",
       "<style scoped>\n",
       "    .dataframe tbody tr th:only-of-type {\n",
       "        vertical-align: middle;\n",
       "    }\n",
       "\n",
       "    .dataframe tbody tr th {\n",
       "        vertical-align: top;\n",
       "    }\n",
       "\n",
       "    .dataframe thead th {\n",
       "        text-align: right;\n",
       "    }\n",
       "</style>\n",
       "<table border=\"1\" class=\"dataframe\">\n",
       "  <thead>\n",
       "    <tr style=\"text-align: right;\">\n",
       "      <th></th>\n",
       "      <th>source</th>\n",
       "      <th>text</th>\n",
       "      <th>retweet_count</th>\n",
       "      <th>favorite_count</th>\n",
       "      <th>is_retweet</th>\n",
       "      <th>id_str</th>\n",
       "    </tr>\n",
       "    <tr>\n",
       "      <th>created_at</th>\n",
       "      <th></th>\n",
       "      <th></th>\n",
       "      <th></th>\n",
       "      <th></th>\n",
       "      <th></th>\n",
       "      <th></th>\n",
       "    </tr>\n",
       "  </thead>\n",
       "  <tbody>\n",
       "    <tr>\n",
       "      <th>2016-12-01 14:38:09</th>\n",
       "      <td>Twitter for Android</td>\n",
       "      <td>Getting ready to leave for the Great State of ...</td>\n",
       "      <td>9834</td>\n",
       "      <td>57249</td>\n",
       "      <td>False</td>\n",
       "      <td>804333771021570048</td>\n",
       "    </tr>\n",
       "    <tr>\n",
       "      <th>2016-12-01 22:52:10</th>\n",
       "      <td>Twitter for iPhone</td>\n",
       "      <td>Heading to U.S. Bank Arena in Cincinnati Ohio ...</td>\n",
       "      <td>5564</td>\n",
       "      <td>31256</td>\n",
       "      <td>False</td>\n",
       "      <td>804458095569158144</td>\n",
       "    </tr>\n",
       "    <tr>\n",
       "      <th>2016-12-02 02:45:18</th>\n",
       "      <td>Twitter for iPhone</td>\n",
       "      <td>Thank you Ohio! Together we made history – and...</td>\n",
       "      <td>17283</td>\n",
       "      <td>72196</td>\n",
       "      <td>False</td>\n",
       "      <td>804516764562374656</td>\n",
       "    </tr>\n",
       "    <tr>\n",
       "      <th>2016-12-03 00:44:20</th>\n",
       "      <td>Twitter for Android</td>\n",
       "      <td>The President of Taiwan CALLED ME today to wis...</td>\n",
       "      <td>24700</td>\n",
       "      <td>111106</td>\n",
       "      <td>False</td>\n",
       "      <td>804848711599882240</td>\n",
       "    </tr>\n",
       "    <tr>\n",
       "      <th>2016-12-03 01:41:30</th>\n",
       "      <td>Twitter for Android</td>\n",
       "      <td>Interesting how the U.S. sells Taiwan billions...</td>\n",
       "      <td>38805</td>\n",
       "      <td>122905</td>\n",
       "      <td>False</td>\n",
       "      <td>804863098138005504</td>\n",
       "    </tr>\n",
       "    <tr>\n",
       "      <th>...</th>\n",
       "      <td>...</td>\n",
       "      <td>...</td>\n",
       "      <td>...</td>\n",
       "      <td>...</td>\n",
       "      <td>...</td>\n",
       "      <td>...</td>\n",
       "    </tr>\n",
       "    <tr>\n",
       "      <th>2017-03-24 17:03:46</th>\n",
       "      <td>Twitter for iPhone</td>\n",
       "      <td>Today I was pleased to announce the official a...</td>\n",
       "      <td>12933</td>\n",
       "      <td>66692</td>\n",
       "      <td>False</td>\n",
       "      <td>845320243614547968</td>\n",
       "    </tr>\n",
       "    <tr>\n",
       "      <th>2017-03-24 17:59:42</th>\n",
       "      <td>Twitter for iPhone</td>\n",
       "      <td>Today I was thrilled to announce a commitment ...</td>\n",
       "      <td>20212</td>\n",
       "      <td>89339</td>\n",
       "      <td>False</td>\n",
       "      <td>845334323045765121</td>\n",
       "    </tr>\n",
       "    <tr>\n",
       "      <th>2017-03-25 13:29:17</th>\n",
       "      <td>Twitter for iPhone</td>\n",
       "      <td>Happy #MedalOfHonorDay to our heroes! ➡️https:...</td>\n",
       "      <td>14139</td>\n",
       "      <td>68302</td>\n",
       "      <td>False</td>\n",
       "      <td>845628655493677056</td>\n",
       "    </tr>\n",
       "    <tr>\n",
       "      <th>2017-03-25 14:37:52</th>\n",
       "      <td>Twitter for Android</td>\n",
       "      <td>ObamaCare will explode and we will all get tog...</td>\n",
       "      <td>22518</td>\n",
       "      <td>104321</td>\n",
       "      <td>False</td>\n",
       "      <td>845645916732358656</td>\n",
       "    </tr>\n",
       "    <tr>\n",
       "      <th>2017-03-25 14:41:14</th>\n",
       "      <td>Twitter for Android</td>\n",
       "      <td>Watch @JudgeJeanine on @FoxNews tonight at 9:0...</td>\n",
       "      <td>10116</td>\n",
       "      <td>51247</td>\n",
       "      <td>False</td>\n",
       "      <td>845646761704243200</td>\n",
       "    </tr>\n",
       "  </tbody>\n",
       "</table>\n",
       "<p>588 rows × 6 columns</p>\n",
       "</div>"
      ],
      "text/plain": [
       "                                  source  \\\n",
       "created_at                                 \n",
       "2016-12-01 14:38:09  Twitter for Android   \n",
       "2016-12-01 22:52:10   Twitter for iPhone   \n",
       "2016-12-02 02:45:18   Twitter for iPhone   \n",
       "2016-12-03 00:44:20  Twitter for Android   \n",
       "2016-12-03 01:41:30  Twitter for Android   \n",
       "...                                  ...   \n",
       "2017-03-24 17:03:46   Twitter for iPhone   \n",
       "2017-03-24 17:59:42   Twitter for iPhone   \n",
       "2017-03-25 13:29:17   Twitter for iPhone   \n",
       "2017-03-25 14:37:52  Twitter for Android   \n",
       "2017-03-25 14:41:14  Twitter for Android   \n",
       "\n",
       "                                                                  text  \\\n",
       "created_at                                                               \n",
       "2016-12-01 14:38:09  Getting ready to leave for the Great State of ...   \n",
       "2016-12-01 22:52:10  Heading to U.S. Bank Arena in Cincinnati Ohio ...   \n",
       "2016-12-02 02:45:18  Thank you Ohio! Together we made history – and...   \n",
       "2016-12-03 00:44:20  The President of Taiwan CALLED ME today to wis...   \n",
       "2016-12-03 01:41:30  Interesting how the U.S. sells Taiwan billions...   \n",
       "...                                                                ...   \n",
       "2017-03-24 17:03:46  Today I was pleased to announce the official a...   \n",
       "2017-03-24 17:59:42  Today I was thrilled to announce a commitment ...   \n",
       "2017-03-25 13:29:17  Happy #MedalOfHonorDay to our heroes! ➡️https:...   \n",
       "2017-03-25 14:37:52  ObamaCare will explode and we will all get tog...   \n",
       "2017-03-25 14:41:14  Watch @JudgeJeanine on @FoxNews tonight at 9:0...   \n",
       "\n",
       "                     retweet_count  favorite_count is_retweet  \\\n",
       "created_at                                                      \n",
       "2016-12-01 14:38:09           9834           57249      False   \n",
       "2016-12-01 22:52:10           5564           31256      False   \n",
       "2016-12-02 02:45:18          17283           72196      False   \n",
       "2016-12-03 00:44:20          24700          111106      False   \n",
       "2016-12-03 01:41:30          38805          122905      False   \n",
       "...                            ...             ...        ...   \n",
       "2017-03-24 17:03:46          12933           66692      False   \n",
       "2017-03-24 17:59:42          20212           89339      False   \n",
       "2017-03-25 13:29:17          14139           68302      False   \n",
       "2017-03-25 14:37:52          22518          104321      False   \n",
       "2017-03-25 14:41:14          10116           51247      False   \n",
       "\n",
       "                                 id_str  \n",
       "created_at                               \n",
       "2016-12-01 14:38:09  804333771021570048  \n",
       "2016-12-01 22:52:10  804458095569158144  \n",
       "2016-12-02 02:45:18  804516764562374656  \n",
       "2016-12-03 00:44:20  804848711599882240  \n",
       "2016-12-03 01:41:30  804863098138005504  \n",
       "...                                 ...  \n",
       "2017-03-24 17:03:46  845320243614547968  \n",
       "2017-03-24 17:59:42  845334323045765121  \n",
       "2017-03-25 13:29:17  845628655493677056  \n",
       "2017-03-25 14:37:52  845645916732358656  \n",
       "2017-03-25 14:41:14  845646761704243200  \n",
       "\n",
       "[588 rows x 6 columns]"
      ]
     },
     "execution_count": 88,
     "metadata": {},
     "output_type": "execute_result"
    }
   ],
   "source": [
    "## Getting time period with android tweets\n",
    "droid_ts = df[df['source'] == 'Twitter for Android'].index\n",
    "find_trump = df.loc[droid_ts[0]:droid_ts[-1]].copy()\n",
    "\n",
    "## Getting only original-text (not retweets)\n",
    "find_trump = find_trump[find_trump['is_retweet']==False]\n",
    "find_trump"
   ]
  },
  {
   "cell_type": "code",
   "execution_count": 89,
   "metadata": {
    "ExecuteTime": {
     "end_time": "2021-01-06T19:11:20.924817Z",
     "start_time": "2021-01-06T19:11:20.802460Z"
    }
   },
   "outputs": [
    {
     "data": {
      "text/plain": [
       "Trump        0.619048\n",
       "Not Trump    0.380952\n",
       "Name: is_trump, dtype: float64"
      ]
     },
     "execution_count": 89,
     "metadata": {},
     "output_type": "execute_result"
    }
   ],
   "source": [
    "def is_trump(x):\n",
    "    return 'Trump' if x =='Twitter for Android' else 'Not Trump'\n",
    "find_trump['is_trump'] = find_trump['source'].map(is_trump)\n",
    "find_trump['is_trump'].value_counts(dropna=False,normalize=True)"
   ]
  },
  {
   "cell_type": "code",
   "execution_count": 90,
   "metadata": {
    "ExecuteTime": {
     "end_time": "2021-01-06T19:11:21.330515Z",
     "start_time": "2021-01-06T19:11:21.171951Z"
    },
    "scrolled": true
   },
   "outputs": [
    {
     "data": {
      "text/html": [
       "<div>\n",
       "<style scoped>\n",
       "    .dataframe tbody tr th:only-of-type {\n",
       "        vertical-align: middle;\n",
       "    }\n",
       "\n",
       "    .dataframe tbody tr th {\n",
       "        vertical-align: top;\n",
       "    }\n",
       "\n",
       "    .dataframe thead th {\n",
       "        text-align: right;\n",
       "    }\n",
       "</style>\n",
       "<table border=\"1\" class=\"dataframe\">\n",
       "  <thead>\n",
       "    <tr style=\"text-align: right;\">\n",
       "      <th></th>\n",
       "      <th>source</th>\n",
       "      <th>text</th>\n",
       "      <th>retweet_count</th>\n",
       "      <th>favorite_count</th>\n",
       "      <th>is_retweet</th>\n",
       "      <th>id_str</th>\n",
       "      <th>is_trump</th>\n",
       "      <th>target</th>\n",
       "    </tr>\n",
       "    <tr>\n",
       "      <th>created_at</th>\n",
       "      <th></th>\n",
       "      <th></th>\n",
       "      <th></th>\n",
       "      <th></th>\n",
       "      <th></th>\n",
       "      <th></th>\n",
       "      <th></th>\n",
       "      <th></th>\n",
       "    </tr>\n",
       "  </thead>\n",
       "  <tbody>\n",
       "    <tr>\n",
       "      <th>2016-12-01 14:38:09</th>\n",
       "      <td>Twitter for Android</td>\n",
       "      <td>Getting ready to leave for the Great State of ...</td>\n",
       "      <td>9834</td>\n",
       "      <td>57249</td>\n",
       "      <td>False</td>\n",
       "      <td>804333771021570048</td>\n",
       "      <td>Trump</td>\n",
       "      <td>1</td>\n",
       "    </tr>\n",
       "    <tr>\n",
       "      <th>2016-12-01 22:52:10</th>\n",
       "      <td>Twitter for iPhone</td>\n",
       "      <td>Heading to U.S. Bank Arena in Cincinnati Ohio ...</td>\n",
       "      <td>5564</td>\n",
       "      <td>31256</td>\n",
       "      <td>False</td>\n",
       "      <td>804458095569158144</td>\n",
       "      <td>Not Trump</td>\n",
       "      <td>0</td>\n",
       "    </tr>\n",
       "    <tr>\n",
       "      <th>2016-12-02 02:45:18</th>\n",
       "      <td>Twitter for iPhone</td>\n",
       "      <td>Thank you Ohio! Together we made history – and...</td>\n",
       "      <td>17283</td>\n",
       "      <td>72196</td>\n",
       "      <td>False</td>\n",
       "      <td>804516764562374656</td>\n",
       "      <td>Not Trump</td>\n",
       "      <td>0</td>\n",
       "    </tr>\n",
       "    <tr>\n",
       "      <th>2016-12-03 00:44:20</th>\n",
       "      <td>Twitter for Android</td>\n",
       "      <td>The President of Taiwan CALLED ME today to wis...</td>\n",
       "      <td>24700</td>\n",
       "      <td>111106</td>\n",
       "      <td>False</td>\n",
       "      <td>804848711599882240</td>\n",
       "      <td>Trump</td>\n",
       "      <td>1</td>\n",
       "    </tr>\n",
       "    <tr>\n",
       "      <th>2016-12-03 01:41:30</th>\n",
       "      <td>Twitter for Android</td>\n",
       "      <td>Interesting how the U.S. sells Taiwan billions...</td>\n",
       "      <td>38805</td>\n",
       "      <td>122905</td>\n",
       "      <td>False</td>\n",
       "      <td>804863098138005504</td>\n",
       "      <td>Trump</td>\n",
       "      <td>1</td>\n",
       "    </tr>\n",
       "    <tr>\n",
       "      <th>...</th>\n",
       "      <td>...</td>\n",
       "      <td>...</td>\n",
       "      <td>...</td>\n",
       "      <td>...</td>\n",
       "      <td>...</td>\n",
       "      <td>...</td>\n",
       "      <td>...</td>\n",
       "      <td>...</td>\n",
       "    </tr>\n",
       "    <tr>\n",
       "      <th>2017-03-24 17:03:46</th>\n",
       "      <td>Twitter for iPhone</td>\n",
       "      <td>Today I was pleased to announce the official a...</td>\n",
       "      <td>12933</td>\n",
       "      <td>66692</td>\n",
       "      <td>False</td>\n",
       "      <td>845320243614547968</td>\n",
       "      <td>Not Trump</td>\n",
       "      <td>0</td>\n",
       "    </tr>\n",
       "    <tr>\n",
       "      <th>2017-03-24 17:59:42</th>\n",
       "      <td>Twitter for iPhone</td>\n",
       "      <td>Today I was thrilled to announce a commitment ...</td>\n",
       "      <td>20212</td>\n",
       "      <td>89339</td>\n",
       "      <td>False</td>\n",
       "      <td>845334323045765121</td>\n",
       "      <td>Not Trump</td>\n",
       "      <td>0</td>\n",
       "    </tr>\n",
       "    <tr>\n",
       "      <th>2017-03-25 13:29:17</th>\n",
       "      <td>Twitter for iPhone</td>\n",
       "      <td>Happy #MedalOfHonorDay to our heroes! ➡️https:...</td>\n",
       "      <td>14139</td>\n",
       "      <td>68302</td>\n",
       "      <td>False</td>\n",
       "      <td>845628655493677056</td>\n",
       "      <td>Not Trump</td>\n",
       "      <td>0</td>\n",
       "    </tr>\n",
       "    <tr>\n",
       "      <th>2017-03-25 14:37:52</th>\n",
       "      <td>Twitter for Android</td>\n",
       "      <td>ObamaCare will explode and we will all get tog...</td>\n",
       "      <td>22518</td>\n",
       "      <td>104321</td>\n",
       "      <td>False</td>\n",
       "      <td>845645916732358656</td>\n",
       "      <td>Trump</td>\n",
       "      <td>1</td>\n",
       "    </tr>\n",
       "    <tr>\n",
       "      <th>2017-03-25 14:41:14</th>\n",
       "      <td>Twitter for Android</td>\n",
       "      <td>Watch @JudgeJeanine on @FoxNews tonight at 9:0...</td>\n",
       "      <td>10116</td>\n",
       "      <td>51247</td>\n",
       "      <td>False</td>\n",
       "      <td>845646761704243200</td>\n",
       "      <td>Trump</td>\n",
       "      <td>1</td>\n",
       "    </tr>\n",
       "  </tbody>\n",
       "</table>\n",
       "<p>588 rows × 8 columns</p>\n",
       "</div>"
      ],
      "text/plain": [
       "                                  source  \\\n",
       "created_at                                 \n",
       "2016-12-01 14:38:09  Twitter for Android   \n",
       "2016-12-01 22:52:10   Twitter for iPhone   \n",
       "2016-12-02 02:45:18   Twitter for iPhone   \n",
       "2016-12-03 00:44:20  Twitter for Android   \n",
       "2016-12-03 01:41:30  Twitter for Android   \n",
       "...                                  ...   \n",
       "2017-03-24 17:03:46   Twitter for iPhone   \n",
       "2017-03-24 17:59:42   Twitter for iPhone   \n",
       "2017-03-25 13:29:17   Twitter for iPhone   \n",
       "2017-03-25 14:37:52  Twitter for Android   \n",
       "2017-03-25 14:41:14  Twitter for Android   \n",
       "\n",
       "                                                                  text  \\\n",
       "created_at                                                               \n",
       "2016-12-01 14:38:09  Getting ready to leave for the Great State of ...   \n",
       "2016-12-01 22:52:10  Heading to U.S. Bank Arena in Cincinnati Ohio ...   \n",
       "2016-12-02 02:45:18  Thank you Ohio! Together we made history – and...   \n",
       "2016-12-03 00:44:20  The President of Taiwan CALLED ME today to wis...   \n",
       "2016-12-03 01:41:30  Interesting how the U.S. sells Taiwan billions...   \n",
       "...                                                                ...   \n",
       "2017-03-24 17:03:46  Today I was pleased to announce the official a...   \n",
       "2017-03-24 17:59:42  Today I was thrilled to announce a commitment ...   \n",
       "2017-03-25 13:29:17  Happy #MedalOfHonorDay to our heroes! ➡️https:...   \n",
       "2017-03-25 14:37:52  ObamaCare will explode and we will all get tog...   \n",
       "2017-03-25 14:41:14  Watch @JudgeJeanine on @FoxNews tonight at 9:0...   \n",
       "\n",
       "                     retweet_count  favorite_count is_retweet  \\\n",
       "created_at                                                      \n",
       "2016-12-01 14:38:09           9834           57249      False   \n",
       "2016-12-01 22:52:10           5564           31256      False   \n",
       "2016-12-02 02:45:18          17283           72196      False   \n",
       "2016-12-03 00:44:20          24700          111106      False   \n",
       "2016-12-03 01:41:30          38805          122905      False   \n",
       "...                            ...             ...        ...   \n",
       "2017-03-24 17:03:46          12933           66692      False   \n",
       "2017-03-24 17:59:42          20212           89339      False   \n",
       "2017-03-25 13:29:17          14139           68302      False   \n",
       "2017-03-25 14:37:52          22518          104321      False   \n",
       "2017-03-25 14:41:14          10116           51247      False   \n",
       "\n",
       "                                 id_str   is_trump  target  \n",
       "created_at                                                  \n",
       "2016-12-01 14:38:09  804333771021570048      Trump       1  \n",
       "2016-12-01 22:52:10  804458095569158144  Not Trump       0  \n",
       "2016-12-02 02:45:18  804516764562374656  Not Trump       0  \n",
       "2016-12-03 00:44:20  804848711599882240      Trump       1  \n",
       "2016-12-03 01:41:30  804863098138005504      Trump       1  \n",
       "...                                 ...        ...     ...  \n",
       "2017-03-24 17:03:46  845320243614547968  Not Trump       0  \n",
       "2017-03-24 17:59:42  845334323045765121  Not Trump       0  \n",
       "2017-03-25 13:29:17  845628655493677056  Not Trump       0  \n",
       "2017-03-25 14:37:52  845645916732358656      Trump       1  \n",
       "2017-03-25 14:41:14  845646761704243200      Trump       1  \n",
       "\n",
       "[588 rows x 8 columns]"
      ]
     },
     "execution_count": 90,
     "metadata": {},
     "output_type": "execute_result"
    }
   ],
   "source": [
    "target_map = {'Not Trump':0,'Trump':1}\n",
    "\n",
    "find_trump['target'] = find_trump['is_trump'].map(target_map)\n",
    "find_trump"
   ]
  },
  {
   "cell_type": "code",
   "execution_count": 91,
   "metadata": {
    "ExecuteTime": {
     "end_time": "2021-01-06T19:11:24.388108Z",
     "start_time": "2021-01-06T19:11:24.282795Z"
    }
   },
   "outputs": [],
   "source": [
    "# df = find_trump[['text','is_trump','target']]\n",
    "# df"
   ]
  },
  {
   "cell_type": "code",
   "execution_count": null,
   "metadata": {},
   "outputs": [],
   "source": []
  },
  {
   "cell_type": "markdown",
   "metadata": {},
   "source": [
    "## Training Word2Vec"
   ]
  },
  {
   "cell_type": "markdown",
   "metadata": {},
   "source": [
    "### Resources:\n",
    "\n",
    "- Two Part Word2Vec Tutorial  (linked from Learn)\n",
    "    - [Part 1: The Skip-Gram Model](http://mccormickml.com/2016/04/19/word2vec-tutorial-the-skip-gram-model/)\n",
    "    - [Part 2: Negative Sampling](http://mccormickml.com/2017/01/11/word2vec-tutorial-part-2-negative-sampling/)\n"
   ]
  },
  {
   "cell_type": "markdown",
   "metadata": {},
   "source": [
    "- `sentences`: dataset to train on\n",
    "- `size`: how big of a word vector do we want\n",
    "- `window`: how many words around the target word to train with\n",
    "- `min_count`: how many times the word shows up in corpus; we don't want words that are rarely used\n",
    "- `workers`: number of threads (individual task \"workers\")\n",
    "\n",
    "```python\n",
    "from gensim.models import Word2Vec\n",
    "\n",
    "# Let's assume we have our text corpus already tokenized and stored inside the variable 'data'--the regular text preprocessing steps still need to be handled before training a Word2Vec model!\n",
    "\n",
    "model = Word2Vec(data, size=100, window=5, min_count=1, workers=4)\n",
    "\n",
    "model.train(data, total_examples=model.corpus_count)\n",
    "```"
   ]
  },
  {
   "cell_type": "code",
   "execution_count": 92,
   "metadata": {
    "ExecuteTime": {
     "end_time": "2021-01-06T19:11:52.906323Z",
     "start_time": "2021-01-06T19:11:52.783887Z"
    }
   },
   "outputs": [],
   "source": [
    "from nltk import word_tokenize, TweetTokenizer\n",
    "from gensim.utils import simple_preprocess\n",
    "from gensim.models import Word2Vec"
   ]
  },
  {
   "cell_type": "code",
   "execution_count": 93,
   "metadata": {
    "ExecuteTime": {
     "end_time": "2021-01-06T19:12:41.683420Z",
     "start_time": "2021-01-06T19:12:40.370596Z"
    }
   },
   "outputs": [
    {
     "name": "stdout",
     "output_type": "stream",
     "text": [
      "My thoughts and prayers are with those affected by the tragic storms and tornadoes in the Southeastern United States. Stay safe!\n"
     ]
    },
    {
     "data": {
      "text/plain": [
       "['my',\n",
       " 'thoughts',\n",
       " 'and',\n",
       " 'prayers',\n",
       " 'are',\n",
       " 'with',\n",
       " 'those',\n",
       " 'affected',\n",
       " 'by',\n",
       " 'the',\n",
       " 'tragic',\n",
       " 'storms',\n",
       " 'and',\n",
       " 'tornadoes',\n",
       " 'in',\n",
       " 'the',\n",
       " 'southeastern',\n",
       " 'united',\n",
       " 'states',\n",
       " 'stay',\n",
       " 'safe']"
      ]
     },
     "execution_count": 93,
     "metadata": {},
     "output_type": "execute_result"
    }
   ],
   "source": [
    "## TRAINING WORD2VEC FROM FULL DF NOT JUST TARGETS\n",
    "data_lower = df['text'].map(lambda x: simple_preprocess(x.lower(),deacc=True,\n",
    "                                                        max_len=100))\n",
    "print(df.iloc[0]['text'])\n",
    "data_lower[0]"
   ]
  },
  {
   "cell_type": "code",
   "execution_count": 94,
   "metadata": {
    "ExecuteTime": {
     "end_time": "2021-01-06T19:18:01.676661Z",
     "start_time": "2021-01-06T19:17:59.045213Z"
    }
   },
   "outputs": [
    {
     "data": {
      "text/plain": [
       "<gensim.models.word2vec.Word2Vec at 0x7f9111c79978>"
      ]
     },
     "execution_count": 94,
     "metadata": {},
     "output_type": "execute_result"
    }
   ],
   "source": [
    "wv_model = Word2Vec(data_lower,size=100,window=5,min_count=3)#,workers=4)\n",
    "wv_model"
   ]
  },
  {
   "cell_type": "code",
   "execution_count": 96,
   "metadata": {
    "ExecuteTime": {
     "end_time": "2021-01-06T19:18:37.659631Z",
     "start_time": "2021-01-06T19:18:27.825433Z"
    }
   },
   "outputs": [
    {
     "data": {
      "text/plain": [
       "(13572394, 18326300)"
      ]
     },
     "execution_count": 96,
     "metadata": {},
     "output_type": "execute_result"
    }
   ],
   "source": [
    "wv_model.train(data_lower, total_examples=wv_model.corpus_count,epochs=50)"
   ]
  },
  {
   "cell_type": "code",
   "execution_count": 97,
   "metadata": {
    "ExecuteTime": {
     "end_time": "2021-01-06T19:18:41.643443Z",
     "start_time": "2021-01-06T19:18:41.530894Z"
    }
   },
   "outputs": [
    {
     "data": {
      "text/plain": [
       "<gensim.models.keyedvectors.Word2VecKeyedVectors at 0x7f9111c79860>"
      ]
     },
     "execution_count": 97,
     "metadata": {},
     "output_type": "execute_result"
    }
   ],
   "source": [
    "## get the keyed vector\n",
    "wv = wv_model.wv\n",
    "wv"
   ]
  },
  {
   "cell_type": "code",
   "execution_count": null,
   "metadata": {},
   "outputs": [],
   "source": []
  },
  {
   "cell_type": "code",
   "execution_count": 98,
   "metadata": {
    "ExecuteTime": {
     "end_time": "2021-01-06T19:18:50.097837Z",
     "start_time": "2021-01-06T19:18:49.981667Z"
    }
   },
   "outputs": [
    {
     "data": {
      "text/plain": [
       "array([-1.5186056 ,  1.0432038 , -1.6248196 , -0.5963794 , -0.10912094,\n",
       "       -1.3959168 , -0.93438447, -3.0586472 ,  2.0369518 ,  2.6508603 ,\n",
       "       -2.921037  ,  5.8698673 ,  2.4998512 , -1.8337091 ,  1.7159714 ,\n",
       "       -2.8394873 , -2.333745  , -0.28990367, -1.2357205 ,  1.0747035 ,\n",
       "        0.5875254 ,  1.6362019 ,  1.0450835 ,  1.0055666 , -0.791718  ,\n",
       "        2.6869712 , -0.23812768,  0.5108571 , -5.9973717 ,  0.52950597,\n",
       "       -0.6922795 , -3.684372  ,  3.6396863 , -1.7488122 , -1.5429022 ,\n",
       "       -2.3110943 , -3.0220711 ,  0.43749195,  1.0387117 , -2.7570548 ,\n",
       "       -1.5130683 , -1.8573967 ,  1.695199  ,  0.7008838 ,  2.2193706 ,\n",
       "       -1.2039363 ,  1.9542902 ,  0.49366587, -0.7920619 , -4.291762  ,\n",
       "        0.2714777 , -4.622125  , -0.7964699 , -0.6809695 ,  2.1424189 ,\n",
       "       -0.7049987 , -4.1210747 , -1.6962391 ,  1.3691208 , -1.7295369 ,\n",
       "       -3.3603652 ,  1.8647096 , -0.4581001 ,  1.6188774 , -2.6719227 ,\n",
       "        1.9066263 ,  0.43146926,  0.7329808 ,  3.2083356 ,  2.6233766 ,\n",
       "       -3.5650828 , -0.4822399 ,  2.0569708 ,  0.42371047, -5.334321  ,\n",
       "       -0.7933879 ,  2.384581  , -1.5274073 , -3.0359254 ,  1.846948  ,\n",
       "       -1.8304332 ,  1.1399287 , -2.2938986 , -3.4642084 ,  0.94907314,\n",
       "       -0.9335882 , -0.247443  ,  1.9710171 , -0.64955586, -1.8353418 ,\n",
       "       -2.5913339 ,  2.5678918 , -1.8322248 , -2.8613002 , -1.6828859 ,\n",
       "        0.62005955,  0.19599642, -1.7643598 ,  0.1466509 ,  1.1234872 ],\n",
       "      dtype=float32)"
      ]
     },
     "execution_count": 98,
     "metadata": {},
     "output_type": "execute_result"
    }
   ],
   "source": [
    "wv['republican']"
   ]
  },
  {
   "cell_type": "code",
   "execution_count": 99,
   "metadata": {
    "ExecuteTime": {
     "end_time": "2021-01-06T19:19:04.404319Z",
     "start_time": "2021-01-06T19:19:04.281744Z"
    }
   },
   "outputs": [
    {
     "data": {
      "text/plain": [
       "7089"
      ]
     },
     "execution_count": 99,
     "metadata": {},
     "output_type": "execute_result"
    }
   ],
   "source": [
    "len(wv.vocab)"
   ]
  },
  {
   "cell_type": "code",
   "execution_count": 100,
   "metadata": {
    "ExecuteTime": {
     "end_time": "2021-01-06T19:19:31.667102Z",
     "start_time": "2021-01-06T19:19:31.537016Z"
    }
   },
   "outputs": [
    {
     "data": {
      "text/plain": [
       "[('democrat', 0.4990944266319275),\n",
       " ('democratic', 0.49159175157546997),\n",
       " ('republicans', 0.4493952989578247),\n",
       " ('opposition', 0.4251896142959595),\n",
       " ('quitting', 0.37795478105545044),\n",
       " ('opposing', 0.35771575570106506),\n",
       " ('petrified', 0.33704280853271484),\n",
       " ('lame', 0.318926066160202),\n",
       " ('asset', 0.31869572401046753),\n",
       " ('congressmen', 0.3181626796722412)]"
      ]
     },
     "execution_count": 100,
     "metadata": {},
     "output_type": "execute_result"
    }
   ],
   "source": [
    "## Cosine Similarity \n",
    "wv.most_similar('republican')"
   ]
  },
  {
   "cell_type": "code",
   "execution_count": 101,
   "metadata": {
    "ExecuteTime": {
     "end_time": "2021-01-06T19:20:24.604618Z",
     "start_time": "2021-01-06T19:20:24.487987Z"
    }
   },
   "outputs": [
    {
     "data": {
      "text/plain": [
       "[('delivers', 0.414692223072052),\n",
       " ('economist', 0.4114968180656433),\n",
       " ('azar', 0.3969866931438446),\n",
       " ('alex', 0.3676407039165497),\n",
       " ('covering', 0.3628000020980835),\n",
       " ('greet', 0.3527188003063202),\n",
       " ('triumph', 0.3505815863609314),\n",
       " ('iagovernor', 0.34022000432014465),\n",
       " ('scavino', 0.33930230140686035),\n",
       " ('met', 0.33459001779556274)]"
      ]
     },
     "execution_count": 101,
     "metadata": {},
     "output_type": "execute_result"
    }
   ],
   "source": [
    "wv.most_similar(negative=['democrats'])"
   ]
  },
  {
   "cell_type": "code",
   "execution_count": 108,
   "metadata": {
    "ExecuteTime": {
     "end_time": "2021-01-06T19:27:20.182881Z",
     "start_time": "2021-01-06T19:27:20.074527Z"
    }
   },
   "outputs": [
    {
     "name": "stdout",
     "output_type": "stream",
     "text": [
      "Pos words= ['cheat']\tNeg words= []\n",
      "Pos words= ['election']\tNeg words= ['cheat']\n",
      "Pos words= ['election']\tNeg words= ['fraud']\n"
     ]
    }
   ],
   "source": [
    "            ## Pos words. neg words\n",
    "options = [ (['cheat'],  []),\n",
    "           (['election'],['cheat']),\n",
    "          (['election'],['fraud'])]\n",
    "for eqn in options:\n",
    "    print(f\"Pos words= {eqn[0]}\\tNeg words= {eqn[1]}\") "
   ]
  },
  {
   "cell_type": "code",
   "execution_count": 112,
   "metadata": {
    "ExecuteTime": {
     "end_time": "2021-01-06T19:31:30.523487Z",
     "start_time": "2021-01-06T19:31:30.411838Z"
    }
   },
   "outputs": [
    {
     "name": "stdout",
     "output_type": "stream",
     "text": [
      "Pos words= ['cheat']\t\tNeg words= []\n",
      "('columbia', 0.37462949752807617)\n",
      "('behavior', 0.37049365043640137)\n",
      "('nbc', 0.35910871624946594)\n",
      "('anna', 0.3583730161190033)\n",
      "('ballot', 0.35584402084350586)\n",
      "('then', 0.3556467890739441)\n",
      "('griffin', 0.3508838415145874)\n",
      "('expense', 0.3493574261665344)\n",
      "('everybody', 0.3451763391494751)\n",
      "('term', 0.33988821506500244)\n",
      "\n",
      "Pos words= ['election']\t\tNeg words= ['cheat']\n",
      "('humiliating', 0.3256770372390747)\n",
      "('example', 0.3233208656311035)\n",
      "('inaugurated', 0.31980100274086)\n",
      "('points', 0.3133443593978882)\n",
      "('gopchairwoman', 0.3092685639858246)\n",
      "('figured', 0.3078387975692749)\n",
      "('confidence', 0.30351686477661133)\n",
      "('touch', 0.2925059199333191)\n",
      "('washtimes', 0.2837539315223694)\n",
      "('decade', 0.27932703495025635)\n",
      "\n",
      "Pos words= ['election']\t\tNeg words= ['fraud']\n",
      "('washington', 0.36493197083473206)\n",
      "('office', 0.3504166603088379)\n",
      "('elections', 0.318131685256958)\n",
      "('you', 0.28754714131355286)\n",
      "('elect', 0.2865354120731354)\n",
      "('market', 0.28572016954421997)\n",
      "('paris', 0.28151121735572815)\n",
      "('necessary', 0.28064805269241333)\n",
      "('deterrent', 0.2785939574241638)\n",
      "('america', 0.2752317786216736)\n",
      "\n"
     ]
    }
   ],
   "source": [
    "options = [ (['cheat'],  []),\n",
    "           (['election'],['cheat']),\n",
    "          (['election'],['fraud'])]\n",
    "for (pos,neg) in options:\n",
    "    print(f\"Pos words= {pos}\\t\\tNeg words= {neg}\") \n",
    "    results = wv.most_similar(positive=pos,negative=neg)\n",
    "    [print(word) for word in results]\n",
    "    print()"
   ]
  },
  {
   "cell_type": "code",
   "execution_count": 106,
   "metadata": {
    "ExecuteTime": {
     "end_time": "2021-01-06T19:22:53.491797Z",
     "start_time": "2021-01-06T19:22:53.385561Z"
    }
   },
   "outputs": [],
   "source": [
    "wv.most_similar(positive=[],negative=[])"
   ]
  },
  {
   "cell_type": "code",
   "execution_count": null,
   "metadata": {},
   "outputs": [],
   "source": []
  },
  {
   "cell_type": "markdown",
   "metadata": {},
   "source": [
    "#### Word2Vec params"
   ]
  },
  {
   "cell_type": "markdown",
   "metadata": {},
   "source": [
    "```python\n",
    "## For initializing model\n",
    "sentences=None,\n",
    "    size=100,\n",
    "    alpha=0.025,\n",
    "    window=5,\n",
    "    min_count=5,\n",
    "    max_vocab_size=None,\n",
    "    sample=0.001,\n",
    "    seed=1,\n",
    "    workers=3,\n",
    "    min_alpha=0.0001,\n",
    "    sg=0,\n",
    "    hs=0,\n",
    "    negative=5,\n",
    "    cbow_mean=1,\n",
    "    hashfxn=<built-in function hash>,\n",
    "    iter=5,\n",
    "    null_word=0,\n",
    "    trim_rule=None,\n",
    "    sorted_vocab=1,\n",
    "    batch_words=10000,\n",
    "    compute_loss=False,\n",
    "    callbacks=(),\n",
    "    \n",
    "    \n",
    "## For training \n",
    "    sentences,\n",
    "    total_examples=None,\n",
    "    total_words=None,\n",
    "    epochs=None,\n",
    "    start_alpha=None,\n",
    "    end_alpha=None,\n",
    "    word_count=0,\n",
    "    queue_factor=2,\n",
    "    report_delay=1.0,\n",
    "    compute_loss=False,\n",
    "    callbacks=(),\n",
    "    ```"
   ]
  },
  {
   "cell_type": "code",
   "execution_count": 104,
   "metadata": {
    "ExecuteTime": {
     "end_time": "2021-01-06T19:20:51.796122Z",
     "start_time": "2021-01-06T19:20:51.680455Z"
    }
   },
   "outputs": [],
   "source": [
    "# ### USING WORD VECTOR MATH TO GET A FEEL FOR QUALITY OF MODE\n",
    "def word_math(wv,pos_words=['hillary'],neg_words=['bill'],\n",
    "              verbose=True,return_vec=False):\n",
    "    if isinstance(pos_words,str):\n",
    "        pos_words=[pos_words]\n",
    "    if isinstance(neg_words,str):\n",
    "        neg_words=[neg_words]\n",
    "\n",
    "\n",
    "    pos_eqn = '+'.join(pos_words)\n",
    "    neg_eqn = '-'.join(neg_words)\n",
    "\n",
    "    print('---'*15)    \n",
    "    print(f\"[i] Result for:\\t{pos_eqn}{' - '+neg_eqn if len(neg_eqn)>0 else ' '}\")\n",
    "    print('---'*15)\n",
    "\n",
    "    answer = wv.most_similar(positive=pos_words,negative=neg_words)\n",
    "    \n",
    "    if verbose:\n",
    "          [print(f\"- {ans[0]} ({round(ans[1],3)})\") for ans in answer]\n",
    "          print('---'*15,'\\n\\n')\n",
    "\n",
    "    if return_vec: \n",
    "          return answer\n",
    "    "
   ]
  },
  {
   "cell_type": "code",
   "execution_count": 105,
   "metadata": {
    "ExecuteTime": {
     "end_time": "2021-01-06T19:21:19.142978Z",
     "start_time": "2021-01-06T19:21:19.027793Z"
    }
   },
   "outputs": [
    {
     "name": "stdout",
     "output_type": "stream",
     "text": [
      "---------------------------------------------\n",
      "[i] Result for:\tamerica+crime \n",
      "---------------------------------------------\n",
      "- borders (0.457)\n",
      "- criminals (0.365)\n",
      "- taxes (0.36)\n",
      "- your (0.357)\n",
      "- ineffective (0.331)\n",
      "- california (0.326)\n",
      "- amendment (0.322)\n",
      "- our (0.317)\n",
      "- november (0.316)\n",
      "- sanctuary (0.312)\n",
      "--------------------------------------------- \n",
      "\n",
      "\n",
      "---------------------------------------------\n",
      "[i] Result for:\tdemocrats+russia \n",
      "---------------------------------------------\n",
      "- dems (0.648)\n",
      "- they (0.551)\n",
      "- russian (0.495)\n",
      "- facts (0.392)\n",
      "- russians (0.38)\n",
      "- doj (0.373)\n",
      "- obstruction (0.371)\n",
      "- mueller (0.366)\n",
      "- hoax (0.348)\n",
      "- dem (0.347)\n",
      "--------------------------------------------- \n",
      "\n",
      "\n",
      "---------------------------------------------\n",
      "[i] Result for:\trepublican - honor\n",
      "---------------------------------------------\n",
      "- republicans (0.472)\n",
      "- democrat (0.412)\n",
      "- socialists (0.387)\n",
      "- switch (0.374)\n",
      "- obstruct (0.374)\n",
      "- dem (0.374)\n",
      "- democratic (0.366)\n",
      "- extreme (0.358)\n",
      "- weak (0.324)\n",
      "- liberal (0.318)\n",
      "--------------------------------------------- \n",
      "\n",
      "\n",
      "---------------------------------------------\n",
      "[i] Result for:\tman+power \n",
      "---------------------------------------------\n",
      "- impeccable (0.454)\n",
      "- person (0.433)\n",
      "- guy (0.421)\n",
      "- gentleman (0.413)\n",
      "- leader (0.397)\n",
      "- hack (0.363)\n",
      "- talents (0.358)\n",
      "- rourke (0.356)\n",
      "- loser (0.352)\n",
      "- fighter (0.348)\n",
      "--------------------------------------------- \n",
      "\n",
      "\n",
      "---------------------------------------------\n",
      "[i] Result for:\trussia+honor \n",
      "---------------------------------------------\n",
      "- campaign (0.374)\n",
      "- relationship (0.365)\n",
      "- privilege (0.363)\n",
      "- invite (0.356)\n",
      "- russians (0.355)\n",
      "- war (0.349)\n",
      "- spied (0.347)\n",
      "- behalf (0.344)\n",
      "- pleasure (0.34)\n",
      "- writer (0.333)\n",
      "--------------------------------------------- \n",
      "\n",
      "\n",
      "---------------------------------------------\n",
      "[i] Result for:\tchina - tariff\n",
      "---------------------------------------------\n",
      "- putin (0.442)\n",
      "- france (0.372)\n",
      "- tower (0.348)\n",
      "- timeless (0.337)\n",
      "- recession (0.335)\n",
      "- kim (0.324)\n",
      "- impressed (0.319)\n",
      "- direction (0.315)\n",
      "- joe (0.311)\n",
      "- nasa (0.307)\n",
      "--------------------------------------------- \n",
      "\n",
      "\n"
     ]
    }
   ],
   "source": [
    "## [Positive], [negatigve words]\n",
    "equation_list=[(['america','crime'],[]),\n",
    "               \n",
    "               (['democrats','russia'],[]),\n",
    "               (['republican'],['honor']),\n",
    "               (['man','power'],[]),\n",
    "               (['russia','honor'],[]),\n",
    "              (['china','tariff'])]\n",
    "\n",
    "for eqn in equation_list:\n",
    "#     print('\\n\\n')\n",
    "    word_math(wv,*eqn)\n",
    "#     word_math(wv2,*eqn)"
   ]
  },
  {
   "cell_type": "markdown",
   "metadata": {},
   "source": [
    "## Using Embeddings in Classification"
   ]
  },
  {
   "cell_type": "markdown",
   "metadata": {},
   "source": [
    "### Embedding Layers\n",
    "You should make note of a couple caveats that come with using embedding layers in your neural network -- namely:\n",
    "\n",
    "* The embedding layer must always be the first layer of the network, meaning that it should immediately follow the `Input()` layer \n",
    "* All words in the text should be integer-encoded, with each unique word encoded as it's own unique integer  \n",
    "* The size of the embedding layer must always be greater than the total vocabulary size of the dataset! The first parameter denotes the vocabulary size, while the second denotes the size of the actual word vectors\n",
    "* The size of the sequences passed in as data must be set when creating the layer (all data will be converted to padded sequences of the same size during the preprocessing step) \n",
    "\n",
    "\n",
    "[Keras Documentation for Embedding Layers](https://keras.io/layers/embeddings/)."
   ]
  },
  {
   "cell_type": "markdown",
   "metadata": {},
   "source": [
    "### References to Try\n",
    "- https://stackabuse.com/python-for-nlp-word-embeddings-for-deep-learning-in-keras/\n",
    "- https://stackoverflow.com/questions/51492778/how-to-properly-use-get-keras-embedding-in-gensim-s-word2vec\n",
    "- https://gist.github.com/codekansas/15b3c2a2e9bc7a3c345138a32e029969"
   ]
  },
  {
   "cell_type": "markdown",
   "metadata": {},
   "source": [
    "## Using Embedding Layers in ANN"
   ]
  },
  {
   "cell_type": "code",
   "execution_count": 113,
   "metadata": {
    "ExecuteTime": {
     "end_time": "2021-01-06T19:32:14.653773Z",
     "start_time": "2021-01-06T19:32:14.537414Z"
    }
   },
   "outputs": [
    {
     "name": "stdout",
     "output_type": "stream",
     "text": [
      "The autoreload extension is already loaded. To reload it, use:\n",
      "  %reload_ext autoreload\n"
     ]
    }
   ],
   "source": [
    "## IMPORTING PYTHON FILE\n",
    "import os,sys\n",
    "sys.path.append(\"../\")\n",
    "import keras_gridsearch as kg\n",
    "\n",
    "\n",
    "## Auto-reload mpdule \n",
    "%load_ext autoreload\n",
    "%autoreload 2"
   ]
  },
  {
   "cell_type": "code",
   "execution_count": 114,
   "metadata": {
    "ExecuteTime": {
     "end_time": "2021-01-06T19:32:15.491450Z",
     "start_time": "2021-01-06T19:32:15.377868Z"
    }
   },
   "outputs": [],
   "source": [
    "from tensorflow.keras.layers import Input, Dense, LSTM, Embedding\n",
    "from tensorflow.keras.layers import Dropout, Activation, Bidirectional, GlobalMaxPool1D\n",
    "from tensorflow.keras.models import Sequential\n",
    "from tensorflow.keras import initializers, regularizers, constraints, optimizers, layers\n",
    "from tensorflow.keras.callbacks import EarlyStopping,ModelCheckpoint\n",
    "\n",
    "\n",
    "from tensorflow.keras.preprocessing import text, sequence\n",
    "from tensorflow.keras.utils import to_categorical\n",
    "# from keras.preprocessing.sequence import pad_sequences"
   ]
  },
  {
   "cell_type": "code",
   "execution_count": 115,
   "metadata": {
    "ExecuteTime": {
     "end_time": "2021-01-06T19:32:16.686816Z",
     "start_time": "2021-01-06T19:32:16.566466Z"
    }
   },
   "outputs": [
    {
     "data": {
      "text/html": [
       "<div>\n",
       "<style scoped>\n",
       "    .dataframe tbody tr th:only-of-type {\n",
       "        vertical-align: middle;\n",
       "    }\n",
       "\n",
       "    .dataframe tbody tr th {\n",
       "        vertical-align: top;\n",
       "    }\n",
       "\n",
       "    .dataframe thead th {\n",
       "        text-align: right;\n",
       "    }\n",
       "</style>\n",
       "<table border=\"1\" class=\"dataframe\">\n",
       "  <thead>\n",
       "    <tr style=\"text-align: right;\">\n",
       "      <th></th>\n",
       "      <th>text</th>\n",
       "      <th>is_trump</th>\n",
       "      <th>target</th>\n",
       "    </tr>\n",
       "    <tr>\n",
       "      <th>created_at</th>\n",
       "      <th></th>\n",
       "      <th></th>\n",
       "      <th></th>\n",
       "    </tr>\n",
       "  </thead>\n",
       "  <tbody>\n",
       "    <tr>\n",
       "      <th>2016-12-01 14:38:09</th>\n",
       "      <td>Getting ready to leave for the Great State of ...</td>\n",
       "      <td>Trump</td>\n",
       "      <td>1</td>\n",
       "    </tr>\n",
       "    <tr>\n",
       "      <th>2016-12-01 22:52:10</th>\n",
       "      <td>Heading to U.S. Bank Arena in Cincinnati Ohio ...</td>\n",
       "      <td>Not Trump</td>\n",
       "      <td>0</td>\n",
       "    </tr>\n",
       "    <tr>\n",
       "      <th>2016-12-02 02:45:18</th>\n",
       "      <td>Thank you Ohio! Together we made history – and...</td>\n",
       "      <td>Not Trump</td>\n",
       "      <td>0</td>\n",
       "    </tr>\n",
       "    <tr>\n",
       "      <th>2016-12-03 00:44:20</th>\n",
       "      <td>The President of Taiwan CALLED ME today to wis...</td>\n",
       "      <td>Trump</td>\n",
       "      <td>1</td>\n",
       "    </tr>\n",
       "    <tr>\n",
       "      <th>2016-12-03 01:41:30</th>\n",
       "      <td>Interesting how the U.S. sells Taiwan billions...</td>\n",
       "      <td>Trump</td>\n",
       "      <td>1</td>\n",
       "    </tr>\n",
       "    <tr>\n",
       "      <th>...</th>\n",
       "      <td>...</td>\n",
       "      <td>...</td>\n",
       "      <td>...</td>\n",
       "    </tr>\n",
       "    <tr>\n",
       "      <th>2017-03-24 17:03:46</th>\n",
       "      <td>Today I was pleased to announce the official a...</td>\n",
       "      <td>Not Trump</td>\n",
       "      <td>0</td>\n",
       "    </tr>\n",
       "    <tr>\n",
       "      <th>2017-03-24 17:59:42</th>\n",
       "      <td>Today I was thrilled to announce a commitment ...</td>\n",
       "      <td>Not Trump</td>\n",
       "      <td>0</td>\n",
       "    </tr>\n",
       "    <tr>\n",
       "      <th>2017-03-25 13:29:17</th>\n",
       "      <td>Happy #MedalOfHonorDay to our heroes! ➡️https:...</td>\n",
       "      <td>Not Trump</td>\n",
       "      <td>0</td>\n",
       "    </tr>\n",
       "    <tr>\n",
       "      <th>2017-03-25 14:37:52</th>\n",
       "      <td>ObamaCare will explode and we will all get tog...</td>\n",
       "      <td>Trump</td>\n",
       "      <td>1</td>\n",
       "    </tr>\n",
       "    <tr>\n",
       "      <th>2017-03-25 14:41:14</th>\n",
       "      <td>Watch @JudgeJeanine on @FoxNews tonight at 9:0...</td>\n",
       "      <td>Trump</td>\n",
       "      <td>1</td>\n",
       "    </tr>\n",
       "  </tbody>\n",
       "</table>\n",
       "<p>588 rows × 3 columns</p>\n",
       "</div>"
      ],
      "text/plain": [
       "                                                                  text  \\\n",
       "created_at                                                               \n",
       "2016-12-01 14:38:09  Getting ready to leave for the Great State of ...   \n",
       "2016-12-01 22:52:10  Heading to U.S. Bank Arena in Cincinnati Ohio ...   \n",
       "2016-12-02 02:45:18  Thank you Ohio! Together we made history – and...   \n",
       "2016-12-03 00:44:20  The President of Taiwan CALLED ME today to wis...   \n",
       "2016-12-03 01:41:30  Interesting how the U.S. sells Taiwan billions...   \n",
       "...                                                                ...   \n",
       "2017-03-24 17:03:46  Today I was pleased to announce the official a...   \n",
       "2017-03-24 17:59:42  Today I was thrilled to announce a commitment ...   \n",
       "2017-03-25 13:29:17  Happy #MedalOfHonorDay to our heroes! ➡️https:...   \n",
       "2017-03-25 14:37:52  ObamaCare will explode and we will all get tog...   \n",
       "2017-03-25 14:41:14  Watch @JudgeJeanine on @FoxNews tonight at 9:0...   \n",
       "\n",
       "                      is_trump  target  \n",
       "created_at                              \n",
       "2016-12-01 14:38:09      Trump       1  \n",
       "2016-12-01 22:52:10  Not Trump       0  \n",
       "2016-12-02 02:45:18  Not Trump       0  \n",
       "2016-12-03 00:44:20      Trump       1  \n",
       "2016-12-03 01:41:30      Trump       1  \n",
       "...                        ...     ...  \n",
       "2017-03-24 17:03:46  Not Trump       0  \n",
       "2017-03-24 17:59:42  Not Trump       0  \n",
       "2017-03-25 13:29:17  Not Trump       0  \n",
       "2017-03-25 14:37:52      Trump       1  \n",
       "2017-03-25 14:41:14      Trump       1  \n",
       "\n",
       "[588 rows x 3 columns]"
      ]
     },
     "execution_count": 115,
     "metadata": {},
     "output_type": "execute_result"
    }
   ],
   "source": [
    "## Now only using find_trump tweets\n",
    "df = find_trump[['text','is_trump','target']]\n",
    "df"
   ]
  },
  {
   "cell_type": "code",
   "execution_count": 116,
   "metadata": {
    "ExecuteTime": {
     "end_time": "2021-01-06T19:32:21.162466Z",
     "start_time": "2021-01-06T19:32:21.040769Z"
    }
   },
   "outputs": [],
   "source": [
    "from keras.preprocessing import text,sequence\n",
    "from sklearn.model_selection import train_test_split\n",
    "from nltk import word_tokenize\n",
    "from gensim.utils import simple_preprocess\n",
    "from sklearn import metrics"
   ]
  },
  {
   "cell_type": "code",
   "execution_count": 117,
   "metadata": {
    "ExecuteTime": {
     "end_time": "2021-01-06T19:32:22.849494Z",
     "start_time": "2021-01-06T19:32:22.732152Z"
    }
   },
   "outputs": [
    {
     "data": {
      "text/plain": [
       "created_at\n",
       "2016-12-01 14:38:09    1\n",
       "2016-12-01 22:52:10    0\n",
       "2016-12-02 02:45:18    0\n",
       "2016-12-03 00:44:20    1\n",
       "2016-12-03 01:41:30    1\n",
       "                      ..\n",
       "2017-03-24 17:03:46    0\n",
       "2017-03-24 17:59:42    0\n",
       "2017-03-25 13:29:17    0\n",
       "2017-03-25 14:37:52    1\n",
       "2017-03-25 14:41:14    1\n",
       "Name: target, Length: 588, dtype: int64"
      ]
     },
     "execution_count": 117,
     "metadata": {},
     "output_type": "execute_result"
    }
   ],
   "source": [
    "X = df['text']\n",
    "y = df['target']\n",
    "y"
   ]
  },
  {
   "cell_type": "code",
   "execution_count": 118,
   "metadata": {
    "ExecuteTime": {
     "end_time": "2021-01-06T19:32:34.931489Z",
     "start_time": "2021-01-06T19:32:34.809867Z"
    }
   },
   "outputs": [
    {
     "data": {
      "text/plain": [
       "created_at\n",
       "2017-01-20 12:31:53    It all begins today! I will see you at 11:00 A...\n",
       "2016-12-12 13:21:20    Unless you catch \"hackers\" in the act it is ve...\n",
       "2017-03-25 14:41:14    Watch @JudgeJeanine on @FoxNews tonight at 9:0...\n",
       "2017-01-09 11:36:02    Hillary flunky who lost big. For the 100th tim...\n",
       "2017-02-04 23:37:59    Why aren't the lawyers looking at and using th...\n",
       "                                             ...                        \n",
       "2017-01-15 20:04:38    Thank you to Bob Woodward who said \"That is a ...\n",
       "2016-12-13 12:44:06    The thing I like best about Rex Tillerson is t...\n",
       "2017-01-07 03:53:38    Gross negligence by the Democratic National Co...\n",
       "2017-01-04 13:19:09    Thank you to Ford for scrapping a new plant in...\n",
       "2017-01-07 15:10:46    have enough problems around the world without ...\n",
       "Name: text, Length: 147, dtype: object"
      ]
     },
     "execution_count": 118,
     "metadata": {},
     "output_type": "execute_result"
    }
   ],
   "source": [
    "X_train, X_test, y_train, y_test = train_test_split(X,y,random_state=123) \n",
    "X_train.shape,y_test.shape\n",
    "# pd.Series(y_test).value_counts(normalize=True)\n",
    "y_test.shape\n",
    "X_test"
   ]
  },
  {
   "cell_type": "markdown",
   "metadata": {},
   "source": [
    "### Computer Class Weights"
   ]
  },
  {
   "cell_type": "code",
   "execution_count": 32,
   "metadata": {
    "ExecuteTime": {
     "end_time": "2021-01-06T18:46:00.004850Z",
     "start_time": "2021-01-06T18:45:59.897235Z"
    }
   },
   "outputs": [
    {
     "data": {
      "text/plain": [
       "1    0.603175\n",
       "0    0.396825\n",
       "Name: target, dtype: float64"
      ]
     },
     "execution_count": 32,
     "metadata": {},
     "output_type": "execute_result"
    }
   ],
   "source": [
    "## Class imbalance\n",
    "y_train.value_counts(1)"
   ]
  },
  {
   "cell_type": "code",
   "execution_count": 119,
   "metadata": {
    "ExecuteTime": {
     "end_time": "2021-01-06T19:32:49.879869Z",
     "start_time": "2021-01-06T19:32:49.757832Z"
    }
   },
   "outputs": [
    {
     "name": "stderr",
     "output_type": "stream",
     "text": [
      "/opt/anaconda3/envs/learn-env/lib/python3.6/site-packages/sklearn/utils/validation.py:70: FutureWarning:\n",
      "\n",
      "Pass classes=[0 1], y=created_at\n",
      "2016-12-12 13:26:13    1\n",
      "2017-03-10 15:40:53    0\n",
      "2017-01-06 12:05:01    1\n",
      "2017-03-05 11:40:20    1\n",
      "2017-02-20 14:15:42    1\n",
      "                      ..\n",
      "2016-12-22 16:50:30    1\n",
      "2017-01-29 23:28:50    0\n",
      "2017-02-08 15:23:29    0\n",
      "2017-02-05 20:42:33    1\n",
      "2017-03-04 13:19:29    1\n",
      "Name: target, Length: 441, dtype: int64 as keyword args. From version 0.25 passing these as positional arguments will result in an error\n",
      "\n"
     ]
    },
    {
     "data": {
      "text/plain": [
       "{0: 1.26, 1: 0.8289473684210527}"
      ]
     },
     "execution_count": 119,
     "metadata": {},
     "output_type": "execute_result"
    }
   ],
   "source": [
    "from sklearn.utils.class_weight import compute_class_weight\n",
    "\n",
    "weights= compute_class_weight(\n",
    "           'balanced',\n",
    "            np.unique(y_train), \n",
    "            y_train)\n",
    "\n",
    "weights_dict = dict(zip( np.unique(y_train),weights))\n",
    "weights_dict"
   ]
  },
  {
   "cell_type": "code",
   "execution_count": 121,
   "metadata": {
    "ExecuteTime": {
     "end_time": "2021-01-06T19:33:02.076592Z",
     "start_time": "2021-01-06T19:33:01.957169Z"
    }
   },
   "outputs": [
    {
     "data": {
      "text/plain": [
       "array([[0., 1.],\n",
       "       [1., 0.],\n",
       "       [0., 1.],\n",
       "       [0., 1.],\n",
       "       [0., 1.],\n",
       "       [0., 1.],\n",
       "       [1., 0.],\n",
       "       [1., 0.],\n",
       "       [1., 0.],\n",
       "       [1., 0.],\n",
       "       [1., 0.],\n",
       "       [0., 1.],\n",
       "       [0., 1.],\n",
       "       [1., 0.],\n",
       "       [0., 1.],\n",
       "       [0., 1.],\n",
       "       [1., 0.],\n",
       "       [0., 1.],\n",
       "       [0., 1.],\n",
       "       [1., 0.],\n",
       "       [0., 1.],\n",
       "       [0., 1.],\n",
       "       [0., 1.],\n",
       "       [1., 0.],\n",
       "       [0., 1.],\n",
       "       [0., 1.],\n",
       "       [0., 1.],\n",
       "       [0., 1.],\n",
       "       [1., 0.],\n",
       "       [1., 0.],\n",
       "       [1., 0.],\n",
       "       [0., 1.],\n",
       "       [0., 1.],\n",
       "       [0., 1.],\n",
       "       [1., 0.],\n",
       "       [0., 1.],\n",
       "       [1., 0.],\n",
       "       [0., 1.],\n",
       "       [1., 0.],\n",
       "       [0., 1.],\n",
       "       [0., 1.],\n",
       "       [0., 1.],\n",
       "       [1., 0.],\n",
       "       [0., 1.],\n",
       "       [0., 1.],\n",
       "       [1., 0.],\n",
       "       [0., 1.],\n",
       "       [0., 1.],\n",
       "       [1., 0.],\n",
       "       [0., 1.],\n",
       "       [1., 0.],\n",
       "       [1., 0.],\n",
       "       [0., 1.],\n",
       "       [0., 1.],\n",
       "       [0., 1.],\n",
       "       [1., 0.],\n",
       "       [0., 1.],\n",
       "       [0., 1.],\n",
       "       [0., 1.],\n",
       "       [0., 1.],\n",
       "       [1., 0.],\n",
       "       [1., 0.],\n",
       "       [1., 0.],\n",
       "       [1., 0.],\n",
       "       [0., 1.],\n",
       "       [0., 1.],\n",
       "       [0., 1.],\n",
       "       [0., 1.],\n",
       "       [0., 1.],\n",
       "       [1., 0.],\n",
       "       [0., 1.],\n",
       "       [1., 0.],\n",
       "       [1., 0.],\n",
       "       [0., 1.],\n",
       "       [0., 1.],\n",
       "       [1., 0.],\n",
       "       [0., 1.],\n",
       "       [0., 1.],\n",
       "       [0., 1.],\n",
       "       [0., 1.],\n",
       "       [0., 1.],\n",
       "       [0., 1.],\n",
       "       [0., 1.],\n",
       "       [1., 0.],\n",
       "       [0., 1.],\n",
       "       [1., 0.],\n",
       "       [1., 0.],\n",
       "       [1., 0.],\n",
       "       [1., 0.],\n",
       "       [0., 1.],\n",
       "       [0., 1.],\n",
       "       [1., 0.],\n",
       "       [1., 0.],\n",
       "       [0., 1.],\n",
       "       [1., 0.],\n",
       "       [0., 1.],\n",
       "       [0., 1.],\n",
       "       [1., 0.],\n",
       "       [0., 1.],\n",
       "       [1., 0.],\n",
       "       [0., 1.],\n",
       "       [0., 1.],\n",
       "       [0., 1.],\n",
       "       [0., 1.],\n",
       "       [0., 1.],\n",
       "       [0., 1.],\n",
       "       [0., 1.],\n",
       "       [0., 1.],\n",
       "       [1., 0.],\n",
       "       [0., 1.],\n",
       "       [1., 0.],\n",
       "       [0., 1.],\n",
       "       [0., 1.],\n",
       "       [0., 1.],\n",
       "       [0., 1.],\n",
       "       [1., 0.],\n",
       "       [1., 0.],\n",
       "       [0., 1.],\n",
       "       [0., 1.],\n",
       "       [1., 0.],\n",
       "       [0., 1.],\n",
       "       [1., 0.],\n",
       "       [0., 1.],\n",
       "       [0., 1.],\n",
       "       [0., 1.],\n",
       "       [0., 1.],\n",
       "       [1., 0.],\n",
       "       [1., 0.],\n",
       "       [0., 1.],\n",
       "       [0., 1.],\n",
       "       [0., 1.],\n",
       "       [1., 0.],\n",
       "       [1., 0.],\n",
       "       [0., 1.],\n",
       "       [1., 0.],\n",
       "       [0., 1.],\n",
       "       [0., 1.],\n",
       "       [1., 0.],\n",
       "       [0., 1.],\n",
       "       [1., 0.],\n",
       "       [0., 1.],\n",
       "       [0., 1.],\n",
       "       [0., 1.],\n",
       "       [1., 0.],\n",
       "       [1., 0.],\n",
       "       [1., 0.],\n",
       "       [0., 1.],\n",
       "       [1., 0.],\n",
       "       [0., 1.],\n",
       "       [1., 0.],\n",
       "       [0., 1.],\n",
       "       [0., 1.],\n",
       "       [1., 0.],\n",
       "       [0., 1.],\n",
       "       [1., 0.],\n",
       "       [0., 1.],\n",
       "       [0., 1.],\n",
       "       [0., 1.],\n",
       "       [1., 0.],\n",
       "       [1., 0.],\n",
       "       [0., 1.],\n",
       "       [0., 1.],\n",
       "       [0., 1.],\n",
       "       [0., 1.],\n",
       "       [1., 0.],\n",
       "       [0., 1.],\n",
       "       [1., 0.],\n",
       "       [1., 0.],\n",
       "       [1., 0.],\n",
       "       [0., 1.],\n",
       "       [0., 1.],\n",
       "       [0., 1.],\n",
       "       [0., 1.],\n",
       "       [0., 1.],\n",
       "       [0., 1.],\n",
       "       [0., 1.],\n",
       "       [0., 1.],\n",
       "       [1., 0.],\n",
       "       [1., 0.],\n",
       "       [0., 1.],\n",
       "       [1., 0.],\n",
       "       [0., 1.],\n",
       "       [0., 1.],\n",
       "       [0., 1.],\n",
       "       [0., 1.],\n",
       "       [0., 1.],\n",
       "       [0., 1.],\n",
       "       [1., 0.],\n",
       "       [0., 1.],\n",
       "       [0., 1.],\n",
       "       [0., 1.],\n",
       "       [0., 1.],\n",
       "       [1., 0.],\n",
       "       [0., 1.],\n",
       "       [1., 0.],\n",
       "       [0., 1.],\n",
       "       [0., 1.],\n",
       "       [0., 1.],\n",
       "       [1., 0.],\n",
       "       [0., 1.],\n",
       "       [0., 1.],\n",
       "       [0., 1.],\n",
       "       [1., 0.],\n",
       "       [0., 1.],\n",
       "       [0., 1.],\n",
       "       [1., 0.],\n",
       "       [0., 1.],\n",
       "       [1., 0.],\n",
       "       [0., 1.],\n",
       "       [0., 1.],\n",
       "       [1., 0.],\n",
       "       [1., 0.],\n",
       "       [0., 1.],\n",
       "       [0., 1.],\n",
       "       [0., 1.],\n",
       "       [1., 0.],\n",
       "       [1., 0.],\n",
       "       [1., 0.],\n",
       "       [1., 0.],\n",
       "       [0., 1.],\n",
       "       [1., 0.],\n",
       "       [1., 0.],\n",
       "       [1., 0.],\n",
       "       [0., 1.],\n",
       "       [0., 1.],\n",
       "       [0., 1.],\n",
       "       [0., 1.],\n",
       "       [0., 1.],\n",
       "       [0., 1.],\n",
       "       [0., 1.],\n",
       "       [1., 0.],\n",
       "       [1., 0.],\n",
       "       [0., 1.],\n",
       "       [0., 1.],\n",
       "       [1., 0.],\n",
       "       [0., 1.],\n",
       "       [0., 1.],\n",
       "       [0., 1.],\n",
       "       [0., 1.],\n",
       "       [0., 1.],\n",
       "       [0., 1.],\n",
       "       [0., 1.],\n",
       "       [0., 1.],\n",
       "       [1., 0.],\n",
       "       [0., 1.],\n",
       "       [0., 1.],\n",
       "       [0., 1.],\n",
       "       [0., 1.],\n",
       "       [0., 1.],\n",
       "       [0., 1.],\n",
       "       [1., 0.],\n",
       "       [0., 1.],\n",
       "       [1., 0.],\n",
       "       [0., 1.],\n",
       "       [0., 1.],\n",
       "       [0., 1.],\n",
       "       [1., 0.],\n",
       "       [1., 0.],\n",
       "       [1., 0.],\n",
       "       [0., 1.],\n",
       "       [1., 0.],\n",
       "       [0., 1.],\n",
       "       [0., 1.],\n",
       "       [1., 0.],\n",
       "       [1., 0.],\n",
       "       [0., 1.],\n",
       "       [1., 0.],\n",
       "       [1., 0.],\n",
       "       [1., 0.],\n",
       "       [1., 0.],\n",
       "       [1., 0.],\n",
       "       [0., 1.],\n",
       "       [0., 1.],\n",
       "       [1., 0.],\n",
       "       [0., 1.],\n",
       "       [0., 1.],\n",
       "       [1., 0.],\n",
       "       [1., 0.],\n",
       "       [0., 1.],\n",
       "       [0., 1.],\n",
       "       [0., 1.],\n",
       "       [0., 1.],\n",
       "       [0., 1.],\n",
       "       [0., 1.],\n",
       "       [0., 1.],\n",
       "       [0., 1.],\n",
       "       [1., 0.],\n",
       "       [1., 0.],\n",
       "       [1., 0.],\n",
       "       [0., 1.],\n",
       "       [1., 0.],\n",
       "       [0., 1.],\n",
       "       [1., 0.],\n",
       "       [0., 1.],\n",
       "       [1., 0.],\n",
       "       [1., 0.],\n",
       "       [1., 0.],\n",
       "       [0., 1.],\n",
       "       [1., 0.],\n",
       "       [1., 0.],\n",
       "       [0., 1.],\n",
       "       [1., 0.],\n",
       "       [0., 1.],\n",
       "       [0., 1.],\n",
       "       [1., 0.],\n",
       "       [0., 1.],\n",
       "       [0., 1.],\n",
       "       [1., 0.],\n",
       "       [1., 0.],\n",
       "       [0., 1.],\n",
       "       [0., 1.],\n",
       "       [0., 1.],\n",
       "       [0., 1.],\n",
       "       [0., 1.],\n",
       "       [1., 0.],\n",
       "       [1., 0.],\n",
       "       [1., 0.],\n",
       "       [0., 1.],\n",
       "       [1., 0.],\n",
       "       [0., 1.],\n",
       "       [1., 0.],\n",
       "       [0., 1.],\n",
       "       [0., 1.],\n",
       "       [0., 1.],\n",
       "       [0., 1.],\n",
       "       [0., 1.],\n",
       "       [0., 1.],\n",
       "       [0., 1.],\n",
       "       [0., 1.],\n",
       "       [0., 1.],\n",
       "       [0., 1.],\n",
       "       [1., 0.],\n",
       "       [0., 1.],\n",
       "       [1., 0.],\n",
       "       [1., 0.],\n",
       "       [1., 0.],\n",
       "       [0., 1.],\n",
       "       [1., 0.],\n",
       "       [1., 0.],\n",
       "       [1., 0.],\n",
       "       [0., 1.],\n",
       "       [1., 0.],\n",
       "       [0., 1.],\n",
       "       [0., 1.],\n",
       "       [0., 1.],\n",
       "       [1., 0.],\n",
       "       [0., 1.],\n",
       "       [1., 0.],\n",
       "       [0., 1.],\n",
       "       [0., 1.],\n",
       "       [1., 0.],\n",
       "       [0., 1.],\n",
       "       [0., 1.],\n",
       "       [0., 1.],\n",
       "       [1., 0.],\n",
       "       [1., 0.],\n",
       "       [0., 1.],\n",
       "       [0., 1.],\n",
       "       [1., 0.],\n",
       "       [1., 0.],\n",
       "       [0., 1.],\n",
       "       [0., 1.],\n",
       "       [0., 1.],\n",
       "       [1., 0.],\n",
       "       [1., 0.],\n",
       "       [1., 0.],\n",
       "       [0., 1.],\n",
       "       [1., 0.],\n",
       "       [0., 1.],\n",
       "       [0., 1.],\n",
       "       [0., 1.],\n",
       "       [0., 1.],\n",
       "       [0., 1.],\n",
       "       [1., 0.],\n",
       "       [1., 0.],\n",
       "       [0., 1.],\n",
       "       [1., 0.],\n",
       "       [1., 0.],\n",
       "       [0., 1.],\n",
       "       [1., 0.],\n",
       "       [0., 1.],\n",
       "       [0., 1.],\n",
       "       [1., 0.],\n",
       "       [0., 1.],\n",
       "       [0., 1.],\n",
       "       [1., 0.],\n",
       "       [0., 1.],\n",
       "       [1., 0.],\n",
       "       [1., 0.],\n",
       "       [1., 0.],\n",
       "       [0., 1.],\n",
       "       [0., 1.],\n",
       "       [0., 1.],\n",
       "       [1., 0.],\n",
       "       [0., 1.],\n",
       "       [1., 0.],\n",
       "       [1., 0.],\n",
       "       [1., 0.],\n",
       "       [1., 0.],\n",
       "       [0., 1.],\n",
       "       [1., 0.],\n",
       "       [1., 0.],\n",
       "       [0., 1.],\n",
       "       [0., 1.],\n",
       "       [0., 1.],\n",
       "       [0., 1.],\n",
       "       [0., 1.],\n",
       "       [0., 1.],\n",
       "       [0., 1.],\n",
       "       [0., 1.],\n",
       "       [1., 0.],\n",
       "       [0., 1.],\n",
       "       [1., 0.],\n",
       "       [1., 0.],\n",
       "       [1., 0.],\n",
       "       [0., 1.],\n",
       "       [1., 0.],\n",
       "       [0., 1.],\n",
       "       [0., 1.],\n",
       "       [0., 1.],\n",
       "       [1., 0.],\n",
       "       [1., 0.],\n",
       "       [0., 1.],\n",
       "       [0., 1.],\n",
       "       [1., 0.],\n",
       "       [0., 1.],\n",
       "       [1., 0.],\n",
       "       [1., 0.],\n",
       "       [0., 1.],\n",
       "       [0., 1.],\n",
       "       [1., 0.],\n",
       "       [0., 1.],\n",
       "       [1., 0.],\n",
       "       [1., 0.],\n",
       "       [0., 1.],\n",
       "       [0., 1.],\n",
       "       [0., 1.],\n",
       "       [1., 0.],\n",
       "       [1., 0.],\n",
       "       [0., 1.],\n",
       "       [0., 1.]], dtype=float32)"
      ]
     },
     "execution_count": 121,
     "metadata": {},
     "output_type": "execute_result"
    }
   ],
   "source": [
    "## Make OHE y vars\n",
    "y_train_seq = to_categorical(y_train)\n",
    "y_test_seq = to_categorical(y_test)\n",
    "y_train_seq#.shape"
   ]
  },
  {
   "cell_type": "code",
   "execution_count": 125,
   "metadata": {
    "ExecuteTime": {
     "end_time": "2021-01-06T19:35:22.580279Z",
     "start_time": "2021-01-06T19:35:22.431292Z"
    }
   },
   "outputs": [
    {
     "data": {
      "text/plain": [
       "31"
      ]
     },
     "execution_count": 125,
     "metadata": {},
     "output_type": "execute_result"
    }
   ],
   "source": [
    "## TOKENIZE TEXT\n",
    "MAX_WORDS = 25000\n",
    "# MAX_SEQUENCE_LENGTH = 40\n",
    "\n",
    "tokenizer = text.Tokenizer(num_words=MAX_WORDS)\n",
    "\n",
    "tokenizer.fit_on_texts(X_train) #df['text'])\n",
    "train_sequences = tokenizer.texts_to_sequences(X_train)\n",
    "test_sequences = tokenizer.texts_to_sequences(X_test)#df['text'])\n",
    "\n",
    "\n",
    "## Find the longest sequence\n",
    "seq_lenghts = list(map(lambda x: len(x),[*train_sequences,*test_sequences]))\n",
    "max(seq_lenghts)"
   ]
  },
  {
   "cell_type": "code",
   "execution_count": 127,
   "metadata": {
    "ExecuteTime": {
     "end_time": "2021-01-06T19:36:08.070235Z",
     "start_time": "2021-01-06T19:36:07.960571Z"
    }
   },
   "outputs": [
    {
     "data": {
      "text/plain": [
       "[1,\n",
       " 417,\n",
       " 418,\n",
       " 419,\n",
       " 3,\n",
       " 258,\n",
       " 10,\n",
       " 44,\n",
       " 4,\n",
       " 320,\n",
       " 589,\n",
       " 4,\n",
       " 321,\n",
       " 99,\n",
       " 3,\n",
       " 12,\n",
       " 13,\n",
       " 936,\n",
       " 17,\n",
       " 322,\n",
       " 3,\n",
       " 223,\n",
       " 590,\n",
       " 76,\n",
       " 194,\n",
       " 224]"
      ]
     },
     "execution_count": 127,
     "metadata": {},
     "output_type": "execute_result"
    }
   ],
   "source": [
    "train_sequences[0]"
   ]
  },
  {
   "cell_type": "code",
   "execution_count": 124,
   "metadata": {
    "ExecuteTime": {
     "end_time": "2021-01-06T19:34:52.578886Z",
     "start_time": "2021-01-06T19:34:52.469994Z"
    }
   },
   "outputs": [
    {
     "data": {
      "text/plain": [
       "array([[   0,    0,    0, ...,   76,  194,  224],\n",
       "       [   0,    0,    0, ...,    6,    7,  939],\n",
       "       [   0,    0,    0, ...,    5,   14,  327],\n",
       "       ...,\n",
       "       [   0,    0,    0, ...,    6,    7, 2296],\n",
       "       [   0,    0,    0, ...,  191,   32,  878],\n",
       "       [   0,    0,    0, ...,    2,   14,  327]], dtype=int32)"
      ]
     },
     "execution_count": 124,
     "metadata": {},
     "output_type": "execute_result"
    }
   ],
   "source": [
    "## Pad sequences\n",
    "X_train_seq = sequence.pad_sequences(train_sequences, maxlen=MAX_SEQUENCE_LENGTH)\n",
    "\n",
    "X_test_seq = sequence.pad_sequences(test_sequences, maxlen=MAX_SEQUENCE_LENGTH)\n",
    "X_train_seq"
   ]
  },
  {
   "cell_type": "code",
   "execution_count": 37,
   "metadata": {
    "ExecuteTime": {
     "end_time": "2021-01-06T18:46:00.565948Z",
     "start_time": "2021-01-06T18:46:00.468703Z"
    }
   },
   "outputs": [
    {
     "data": {
      "text/plain": [
       "2302"
      ]
     },
     "execution_count": 37,
     "metadata": {},
     "output_type": "execute_result"
    }
   ],
   "source": [
    "len(tokenizer.index_word)"
   ]
  },
  {
   "cell_type": "code",
   "execution_count": 38,
   "metadata": {
    "ExecuteTime": {
     "end_time": "2021-01-06T18:46:00.665321Z",
     "start_time": "2021-01-06T18:46:00.567754Z"
    }
   },
   "outputs": [
    {
     "data": {
      "text/plain": [
       "array([   0,    0,    0,    0,    0,    0,    0,    0,    0,    0,    0,\n",
       "          0,    0,    0,    0,    0,    0, 2300, 2301,  697, 2302,  506,\n",
       "          1,  446,   50,   33,  887,   28,  143,   75,  843,  228,   30,\n",
       "         28,   42,  334,  475,    2,   14,  327], dtype=int32)"
      ]
     },
     "execution_count": 38,
     "metadata": {},
     "output_type": "execute_result"
    }
   ],
   "source": [
    "X_train_seq[-1]"
   ]
  },
  {
   "cell_type": "code",
   "execution_count": 39,
   "metadata": {
    "ExecuteTime": {
     "end_time": "2021-01-06T18:46:00.767594Z",
     "start_time": "2021-01-06T18:46:00.667154Z"
    }
   },
   "outputs": [
    {
     "data": {
      "text/plain": [
       "25000"
      ]
     },
     "execution_count": 39,
     "metadata": {},
     "output_type": "execute_result"
    }
   ],
   "source": [
    "# y_classes = df['target']\n",
    "# y_classes.value_counts(1)\n",
    "MAX_WORDS"
   ]
  },
  {
   "cell_type": "code",
   "execution_count": 151,
   "metadata": {
    "ExecuteTime": {
     "end_time": "2021-01-06T20:00:49.450666Z",
     "start_time": "2021-01-06T20:00:49.325196Z"
    }
   },
   "outputs": [],
   "source": [
    "from tensorflow.keras.callbacks import EarlyStopping\n",
    "\n",
    "def get_earlystop(monitor='val_loss',patience=5, restore_best_weights=False):\n",
    "    \"\"\"\"\"\"\n",
    "    args = locals()\n",
    "    return EarlyStopping(**args)\n",
    "\n",
    "get_earlystop.__doc__+=EarlyStopping.__doc__\n",
    "# get_earlystop"
   ]
  },
  {
   "cell_type": "code",
   "execution_count": 131,
   "metadata": {
    "ExecuteTime": {
     "end_time": "2021-01-06T19:40:49.744692Z",
     "start_time": "2021-01-06T19:40:49.631838Z"
    }
   },
   "outputs": [],
   "source": [
    " #where codealong get this?\n",
    "def make_model1(EMBEDDING_SIZE = 128):\n",
    "    model=Sequential()\n",
    "\n",
    "    model.add(Embedding(MAX_WORDS, EMBEDDING_SIZE))\n",
    "    model.add(LSTM(50,return_sequences=False))\n",
    "#     model.add(GlobalMaxPool1D()) \n",
    "#     model.add(Dropout(0.5))\n",
    "    model.add(Dense(25, activation='relu'))\n",
    "    model.add(Dropout(0.5))\n",
    "    model.add(Dense(2, activation='softmax'))\n",
    "\n",
    "    model.compile(loss='categorical_crossentropy',#'categorical_crossentropy', \n",
    "                  optimizer='adam', \n",
    "                  metrics=['accuracy'])\n",
    "    display(model.summary())\n",
    "    return model"
   ]
  },
  {
   "cell_type": "code",
   "execution_count": 132,
   "metadata": {
    "ExecuteTime": {
     "end_time": "2021-01-06T19:41:13.833008Z",
     "start_time": "2021-01-06T19:41:07.427097Z"
    }
   },
   "outputs": [
    {
     "name": "stdout",
     "output_type": "stream",
     "text": [
      "Model: \"sequential_13\"\n",
      "_________________________________________________________________\n",
      "Layer (type)                 Output Shape              Param #   \n",
      "=================================================================\n",
      "embedding_14 (Embedding)     (None, None, 128)         3200000   \n",
      "_________________________________________________________________\n",
      "lstm_13 (LSTM)               (None, 50)                35800     \n",
      "_________________________________________________________________\n",
      "dense_26 (Dense)             (None, 25)                1275      \n",
      "_________________________________________________________________\n",
      "dropout_8 (Dropout)          (None, 25)                0         \n",
      "_________________________________________________________________\n",
      "dense_27 (Dense)             (None, 2)                 52        \n",
      "=================================================================\n",
      "Total params: 3,237,127\n",
      "Trainable params: 3,237,127\n",
      "Non-trainable params: 0\n",
      "_________________________________________________________________\n"
     ]
    },
    {
     "data": {
      "text/plain": [
       "None"
      ]
     },
     "metadata": {},
     "output_type": "display_data"
    },
    {
     "name": "stdout",
     "output_type": "stream",
     "text": [
      "Epoch 1/50\n",
      "11/11 [==============================] - 4s 241ms/step - loss: 0.6950 - accuracy: 0.5497 - val_loss: 0.6684 - val_accuracy: 0.8876\n",
      "Epoch 2/50\n",
      "11/11 [==============================] - 0s 45ms/step - loss: 0.6550 - accuracy: 0.8271 - val_loss: 0.5863 - val_accuracy: 0.8539\n",
      "Epoch 3/50\n",
      "11/11 [==============================] - 1s 51ms/step - loss: 0.5291 - accuracy: 0.8689 - val_loss: 0.4053 - val_accuracy: 0.8539\n",
      "Epoch 4/50\n",
      "11/11 [==============================] - 1s 53ms/step - loss: 0.3181 - accuracy: 0.9035 - val_loss: 0.4481 - val_accuracy: 0.8090\n"
     ]
    }
   ],
   "source": [
    "model = make_model1()\n",
    "history = model.fit(X_train_seq, y_train_seq, epochs=50,\n",
    "                    batch_size=32, validation_split=0.2,callbacks=get_earlystop(),\n",
    "                   class_weight=weights_dict)"
   ]
  },
  {
   "cell_type": "code",
   "execution_count": 133,
   "metadata": {
    "ExecuteTime": {
     "end_time": "2021-01-06T19:42:40.460805Z",
     "start_time": "2021-01-06T19:42:39.935532Z"
    }
   },
   "outputs": [
    {
     "data": {
      "text/plain": [
       "array([1, 1, 0, 1, 0])"
      ]
     },
     "execution_count": 133,
     "metadata": {},
     "output_type": "execute_result"
    }
   ],
   "source": [
    "y_hat_test = model.predict(X_test_seq).argmax(axis=1)\n",
    "y_hat_test[:5]"
   ]
  },
  {
   "cell_type": "code",
   "execution_count": 134,
   "metadata": {
    "ExecuteTime": {
     "end_time": "2021-01-06T19:42:47.817256Z",
     "start_time": "2021-01-06T19:42:47.704041Z"
    }
   },
   "outputs": [
    {
     "data": {
      "text/plain": [
       "array([1, 1, 1, 1, 1, 0, 0, 1, 0, 0, 1, 1, 0, 0, 1, 1, 1, 0, 1, 1, 0, 0,\n",
       "       1, 1, 0, 1, 0, 1, 0, 1, 1, 1, 1, 1, 1, 0, 1, 1, 1, 1, 1, 0, 1, 0,\n",
       "       1, 0, 1, 1, 1, 1, 1, 0, 1, 0, 1, 1, 0, 0, 1, 0, 1, 0, 1, 1, 1, 0,\n",
       "       0, 1, 1, 1, 1, 1, 1, 1, 1, 0, 1, 1, 1, 1, 1, 0, 1, 0, 0, 1, 1, 1,\n",
       "       1, 1, 0, 1, 1, 1, 1, 0, 1, 1, 1, 1, 1, 1, 1, 0, 1, 0, 0, 1, 0, 0,\n",
       "       0, 1, 0, 0, 1, 1, 0, 0, 1, 1, 1, 0, 1, 1, 1, 1, 0, 1, 1, 0, 1, 1,\n",
       "       0, 0, 1, 0, 0, 1, 1, 0, 0, 1, 1, 1, 1, 1, 1])"
      ]
     },
     "execution_count": 134,
     "metadata": {},
     "output_type": "execute_result"
    }
   ],
   "source": [
    "y_test_seq.argmax(axis=1)"
   ]
  },
  {
   "cell_type": "code",
   "execution_count": 135,
   "metadata": {
    "ExecuteTime": {
     "end_time": "2021-01-06T19:43:02.716249Z",
     "start_time": "2021-01-06T19:43:02.022648Z"
    },
    "scrolled": false
   },
   "outputs": [
    {
     "data": {
      "image/png": "[encoded data removed]",
      "text/plain": [
       "<Figure size 720x288 with 2 Axes>"
      ]
     },
     "metadata": {
      "needs_background": "light"
     },
     "output_type": "display_data"
    },
    {
     "name": "stdout",
     "output_type": "stream",
     "text": [
      "\n",
      "\n",
      "------------------------------------------------------------\n",
      "\tCLASSIFICATION REPORT:\n",
      "------------------------------------------------------------\n",
      "              precision    recall  f1-score   support\n",
      "\n",
      "           0       0.65      0.80      0.72        49\n",
      "           1       0.89      0.79      0.83        98\n",
      "\n",
      "    accuracy                           0.79       147\n",
      "   macro avg       0.77      0.79      0.77       147\n",
      "weighted avg       0.81      0.79      0.79       147\n",
      "\n"
     ]
    },
    {
     "data": {
      "image/png": "[encoded data removed]",
      "text/plain": [
       "<Figure size 504x576 with 2 Axes>"
      ]
     },
     "metadata": {
      "needs_background": "light"
     },
     "output_type": "display_data"
    }
   ],
   "source": [
    "# print(pd.Series(y_hat_test).value_counts())\n",
    "kg.evaluate_model(y_test_seq,y_hat_test,history)"
   ]
  },
  {
   "cell_type": "markdown",
   "metadata": {},
   "source": [
    "# Using Pre-Trained Vectors"
   ]
  },
  {
   "cell_type": "markdown",
   "metadata": {},
   "source": [
    "## Using Our Word2Vec in Keras Embedding "
   ]
  },
  {
   "cell_type": "code",
   "execution_count": null,
   "metadata": {},
   "outputs": [],
   "source": [
    "        \n",
    "# embedding_layer = Embedding(len(total_vocabulary) + 1,\n",
    "#                             EMBEDDING_SIZE,\n",
    "#                             weights=[embedding_matrix],\n",
    "#                             input_length=MAX_SEQUENCE_LENGTH,\n",
    "#                             trainable=True)"
   ]
  },
  {
   "cell_type": "code",
   "execution_count": 136,
   "metadata": {
    "ExecuteTime": {
     "end_time": "2021-01-06T19:44:08.959155Z",
     "start_time": "2021-01-06T19:44:08.805416Z"
    }
   },
   "outputs": [
    {
     "data": {
      "text/plain": [
       "<tensorflow.python.keras.layers.embeddings.Embedding at 0x7f91083a58d0>"
      ]
     },
     "execution_count": 136,
     "metadata": {},
     "output_type": "execute_result"
    }
   ],
   "source": [
    "wv.get_keras_embedding()"
   ]
  },
  {
   "cell_type": "code",
   "execution_count": 146,
   "metadata": {
    "ExecuteTime": {
     "end_time": "2021-01-06T19:51:30.556766Z",
     "start_time": "2021-01-06T19:51:22.035775Z"
    }
   },
   "outputs": [
    {
     "name": "stdout",
     "output_type": "stream",
     "text": [
      "Model: \"sequential_18\"\n",
      "_________________________________________________________________\n",
      "Layer (type)                 Output Shape              Param #   \n",
      "=================================================================\n",
      "embedding_20 (Embedding)     (None, None, 100)         708900    \n",
      "_________________________________________________________________\n",
      "lstm_18 (LSTM)               (None, 50)                30200     \n",
      "_________________________________________________________________\n",
      "dense_36 (Dense)             (None, 25)                1275      \n",
      "_________________________________________________________________\n",
      "dropout_13 (Dropout)         (None, 25)                0         \n",
      "_________________________________________________________________\n",
      "dense_37 (Dense)             (None, 2)                 52        \n",
      "=================================================================\n",
      "Total params: 740,427\n",
      "Trainable params: 31,527\n",
      "Non-trainable params: 708,900\n",
      "_________________________________________________________________\n"
     ]
    },
    {
     "data": {
      "text/plain": [
       "None"
      ]
     },
     "metadata": {},
     "output_type": "display_data"
    },
    {
     "name": "stdout",
     "output_type": "stream",
     "text": [
      "Epoch 1/50\n",
      "11/11 [==============================] - 3s 87ms/step - loss: 0.6899 - accuracy: 0.4773 - val_loss: 0.5855 - val_accuracy: 0.7191\n",
      "Epoch 2/50\n",
      "11/11 [==============================] - 1s 116ms/step - loss: 0.5954 - accuracy: 0.6855 - val_loss: 0.5125 - val_accuracy: 0.7978\n",
      "Epoch 3/50\n",
      "11/11 [==============================] - 0s 21ms/step - loss: 0.5465 - accuracy: 0.7631 - val_loss: 0.4620 - val_accuracy: 0.8202\n",
      "Epoch 4/50\n",
      "11/11 [==============================] - 0s 24ms/step - loss: 0.4510 - accuracy: 0.8103 - val_loss: 0.4233 - val_accuracy: 0.8427\n",
      "Epoch 5/50\n",
      "11/11 [==============================] - 0s 22ms/step - loss: 0.4174 - accuracy: 0.8593 - val_loss: 0.3993 - val_accuracy: 0.8539\n",
      "Epoch 6/50\n",
      "11/11 [==============================] - 0s 21ms/step - loss: 0.3432 - accuracy: 0.9186 - val_loss: 0.3797 - val_accuracy: 0.8652\n",
      "Epoch 7/50\n",
      "11/11 [==============================] - 0s 22ms/step - loss: 0.3192 - accuracy: 0.9031 - val_loss: 0.3622 - val_accuracy: 0.8652\n",
      "Epoch 8/50\n",
      "11/11 [==============================] - 0s 20ms/step - loss: 0.2922 - accuracy: 0.9264 - val_loss: 0.3531 - val_accuracy: 0.8652\n",
      "Epoch 9/50\n",
      "11/11 [==============================] - 0s 21ms/step - loss: 0.2362 - accuracy: 0.9493 - val_loss: 0.3478 - val_accuracy: 0.8764\n",
      "Epoch 10/50\n",
      "11/11 [==============================] - 0s 22ms/step - loss: 0.1946 - accuracy: 0.9606 - val_loss: 0.3432 - val_accuracy: 0.8652\n",
      "Epoch 11/50\n",
      "11/11 [==============================] - 0s 20ms/step - loss: 0.1881 - accuracy: 0.9539 - val_loss: 0.3361 - val_accuracy: 0.8876\n",
      "Epoch 12/50\n",
      "11/11 [==============================] - 0s 20ms/step - loss: 0.1302 - accuracy: 0.9783 - val_loss: 0.3377 - val_accuracy: 0.8764\n",
      "Epoch 13/50\n",
      "11/11 [==============================] - 0s 23ms/step - loss: 0.1039 - accuracy: 0.9800 - val_loss: 0.3491 - val_accuracy: 0.8876\n",
      "Epoch 14/50\n",
      "11/11 [==============================] - 0s 22ms/step - loss: 0.0779 - accuracy: 0.9928 - val_loss: 0.3654 - val_accuracy: 0.8539\n"
     ]
    },
    {
     "data": {
      "image/png": "[encoded data removed]",
      "text/plain": [
       "<Figure size 720x288 with 2 Axes>"
      ]
     },
     "metadata": {
      "needs_background": "light"
     },
     "output_type": "display_data"
    },
    {
     "name": "stdout",
     "output_type": "stream",
     "text": [
      "\n",
      "\n",
      "------------------------------------------------------------\n",
      "\tCLASSIFICATION REPORT:\n",
      "------------------------------------------------------------\n",
      "              precision    recall  f1-score   support\n",
      "\n",
      "           0       0.82      0.73      0.77        49\n",
      "           1       0.87      0.92      0.90        98\n",
      "\n",
      "    accuracy                           0.86       147\n",
      "   macro avg       0.85      0.83      0.83       147\n",
      "weighted avg       0.86      0.86      0.86       147\n",
      "\n"
     ]
    },
    {
     "data": {
      "image/png": "[encoded data removed]",
      "text/plain": [
       "<Figure size 504x576 with 2 Axes>"
      ]
     },
     "metadata": {
      "needs_background": "light"
     },
     "output_type": "display_data"
    }
   ],
   "source": [
    " #where codealong get this?\n",
    "def make_model_wv(wv):\n",
    "    model=Sequential()\n",
    "\n",
    "    model.add(wv.get_keras_embedding())#Embedding(MAX_WORDS, EMBEDDING_SIZE))\n",
    "    model.add(LSTM(50,return_sequences=False))\n",
    "\n",
    "    # model.add(GlobalMaxPool1D()) \n",
    "    # model.add(Dropout(0.5))\n",
    "    model.add(Dense(25, activation='relu'))\n",
    "    model.add(Dropout(0.5))\n",
    "    model.add(Dense(2, activation='softmax'))\n",
    "\n",
    "    model.compile(loss='categorical_crossentropy',#'categorical_crossentropy', \n",
    "                  optimizer='adam', \n",
    "                  metrics=['accuracy'])\n",
    "    display(model.summary())\n",
    "    return model\n",
    "\n",
    "model = make_model_wv(wv)\n",
    "history = model.fit(X_train_seq, y_train_seq, epochs=50,\n",
    "                    batch_size=32, validation_split=0.2,\n",
    "                    callbacks=get_earlystop(),\n",
    "                   class_weight=weights_dict)\n",
    "\n",
    "y_hat_test = model.predict(X_test_seq).argmax(axis=1)\n",
    "kg.evaluate_model(y_test_seq,y_hat_test,history)"
   ]
  },
  {
   "cell_type": "markdown",
   "metadata": {},
   "source": [
    "## Using GLOVE"
   ]
  },
  {
   "cell_type": "code",
   "execution_count": 74,
   "metadata": {
    "ExecuteTime": {
     "end_time": "2021-01-06T18:52:57.427176Z",
     "start_time": "2021-01-06T18:52:57.315501Z"
    }
   },
   "outputs": [
    {
     "name": "stdout",
     "output_type": "stream",
     "text": [
      "/Users/jamesirving/Datasets/glove.6B/glove.6B.50d.txt\n",
      "/Users/jamesirving/Datasets/glove.twitter.27B/glove.twitter.27B.50d.txt\n"
     ]
    }
   ],
   "source": [
    "import os\n",
    "folder = '/Users/jamesirving/Datasets/'#glove.twitter.27B/'\n",
    "# print(os.listdir(folder))\n",
    "glove_file = folder+'glove.6B/glove.6B.50d.txt'#'glove.twitter.27B.50d.txt'\n",
    "glove_twitter_file = folder+'glove.twitter.27B/glove.twitter.27B.50d.txt'\n",
    "print(glove_file)\n",
    "print(glove_twitter_file)"
   ]
  },
  {
   "cell_type": "markdown",
   "metadata": {},
   "source": [
    "#### Keeping only the vectors needed"
   ]
  },
  {
   "cell_type": "code",
   "execution_count": 48,
   "metadata": {
    "ExecuteTime": {
     "end_time": "2021-01-06T18:46:09.356713Z",
     "start_time": "2021-01-06T18:46:09.255905Z"
    }
   },
   "outputs": [],
   "source": [
    "# ## This line of code for getting all words bugs me\n",
    "# total_vocabulary = set(word for tweet in data_lower for word in tweet)\n",
    "# len(total_vocabulary)"
   ]
  },
  {
   "cell_type": "code",
   "execution_count": 49,
   "metadata": {
    "ExecuteTime": {
     "end_time": "2021-01-06T18:46:09.460993Z",
     "start_time": "2021-01-06T18:46:09.358868Z"
    },
    "code_folding": []
   },
   "outputs": [],
   "source": [
    "# glove = {}\n",
    "# with open(glove_file,'rb') as f:#'glove.6B.50d.txt', 'rb') as f:\n",
    "#     for line in f:\n",
    "#         parts = line.split()\n",
    "#         word = parts[0].decode('utf-8')\n",
    "#         if word in total_vocabulary:\n",
    "#             vector = np.array(parts[1:], dtype=np.float32)\n",
    "#             glove[word] = vector"
   ]
  },
  {
   "cell_type": "markdown",
   "metadata": {},
   "source": [
    "### Converting Glove to Word2Vec format"
   ]
  },
  {
   "cell_type": "markdown",
   "metadata": {},
   "source": [
    "- Getting glove into w2vec format:\n",
    "    - https://radimrehurek.com/gensim/scripts/glove2word2vec.html"
   ]
  },
  {
   "cell_type": "code",
   "execution_count": 140,
   "metadata": {
    "ExecuteTime": {
     "end_time": "2021-01-06T19:47:06.115935Z",
     "start_time": "2021-01-06T19:47:05.973166Z"
    }
   },
   "outputs": [
    {
     "data": {
      "text/plain": [
       "['glove.twitter.27B.100d.txt',\n",
       " 'glove.twitter.27B.50d.txt',\n",
       " 'glove_to_w2vec.txt',\n",
       " 'glove.twitter.27B.25d.txt',\n",
       " 'glove.twitter.27B.200d.txt']"
      ]
     },
     "execution_count": 140,
     "metadata": {},
     "output_type": "execute_result"
    }
   ],
   "source": [
    "glove_folder = folder+'glove.twitter.27B'\n",
    "os.listdir(glove_folder)"
   ]
  },
  {
   "cell_type": "code",
   "execution_count": 141,
   "metadata": {
    "ExecuteTime": {
     "end_time": "2021-01-06T19:48:28.616841Z",
     "start_time": "2021-01-06T19:47:20.712343Z"
    }
   },
   "outputs": [],
   "source": [
    "from gensim.test.utils import datapath, get_tmpfile\n",
    "from gensim.models import KeyedVectors\n",
    "from gensim.scripts.glove2word2vec import glove2word2vec\n",
    "\n",
    "glove_file = datapath(glove_twitter_file)\n",
    "tmp_file = get_tmpfile(glove_folder+'glove_to_w2vec.txt')\n",
    "_ = glove2word2vec(glove_file, tmp_file)\n",
    "model_glove = KeyedVectors.load_word2vec_format(tmp_file)"
   ]
  },
  {
   "cell_type": "code",
   "execution_count": 142,
   "metadata": {
    "ExecuteTime": {
     "end_time": "2021-01-06T19:48:28.731328Z",
     "start_time": "2021-01-06T19:48:28.618636Z"
    }
   },
   "outputs": [
    {
     "name": "stderr",
     "output_type": "stream",
     "text": [
      "/opt/anaconda3/envs/learn-env/lib/python3.6/site-packages/ipykernel_launcher.py:1: DeprecationWarning:\n",
      "\n",
      "Call to deprecated `wv` (Attribute will be removed in 4.0.0, use self instead).\n",
      "\n"
     ]
    },
    {
     "data": {
      "text/plain": [
       "<gensim.models.keyedvectors.Word2VecKeyedVectors at 0x7f91083a5f60>"
      ]
     },
     "execution_count": 142,
     "metadata": {},
     "output_type": "execute_result"
    }
   ],
   "source": [
    "model_glove.wv"
   ]
  },
  {
   "cell_type": "code",
   "execution_count": 147,
   "metadata": {
    "ExecuteTime": {
     "end_time": "2021-01-06T19:51:52.978956Z",
     "start_time": "2021-01-06T19:51:52.847756Z"
    }
   },
   "outputs": [
    {
     "data": {
      "text/plain": [
       "array([ 1.6157  , -0.25904 ,  0.72508 ,  1.0425  ,  0.13052 , -0.043748,\n",
       "        0.47838 ,  1.335   ,  0.46798 , -1.0906  , -0.38838 , -1.2271  ,\n",
       "       -2.4627  , -0.31811 ,  1.4408  , -0.30102 , -0.13989 ,  0.38727 ,\n",
       "        1.4973  ,  0.7543  ,  0.17385 ,  0.11997 , -0.48673 , -0.43429 ,\n",
       "        1.041   ,  1.392   ,  0.44031 ,  0.31378 , -0.86916 ,  0.9268  ,\n",
       "        0.81152 ,  0.71418 ,  0.042411,  0.12692 ,  0.67654 ,  1.1624  ,\n",
       "        0.11309 ,  0.92866 , -0.19608 , -1.0142  ,  0.12632 ,  0.39504 ,\n",
       "        0.38305 , -0.062614,  0.6588  , -0.15264 ,  0.3511  ,  0.16505 ,\n",
       "       -0.50478 , -0.10917 ], dtype=float32)"
      ]
     },
     "execution_count": 147,
     "metadata": {},
     "output_type": "execute_result"
    }
   ],
   "source": [
    "model_glove['republican']"
   ]
  },
  {
   "cell_type": "code",
   "execution_count": 143,
   "metadata": {
    "ExecuteTime": {
     "end_time": "2021-01-06T19:48:29.768179Z",
     "start_time": "2021-01-06T19:48:28.736334Z"
    }
   },
   "outputs": [
    {
     "name": "stdout",
     "output_type": "stream",
     "text": [
      "---------------------------------------------\n",
      "[i] Result for:\tamerica+crime \n",
      "---------------------------------------------\n",
      "- american (0.849)\n",
      "- country (0.811)\n",
      "- criminal (0.805)\n",
      "- society (0.8)\n",
      "- africa (0.794)\n",
      "- death (0.793)\n",
      "- the (0.792)\n",
      "- world (0.789)\n",
      "- states (0.788)\n",
      "- attack (0.784)\n",
      "--------------------------------------------- \n",
      "\n",
      "\n",
      "---------------------------------------------\n",
      "[i] Result for:\tdemocrats+russia \n",
      "---------------------------------------------\n",
      "- republicans (0.869)\n",
      "- conservatives (0.841)\n",
      "- ukraine (0.839)\n",
      "- government (0.835)\n",
      "- americans (0.831)\n",
      "- liberals (0.821)\n",
      "- britain (0.816)\n",
      "- u.s. (0.814)\n",
      "- immigration (0.813)\n",
      "- states (0.81)\n",
      "--------------------------------------------- \n",
      "\n",
      "\n",
      "---------------------------------------------\n",
      "[i] Result for:\trepublican - honor\n",
      "---------------------------------------------\n",
      "- tsx (0.656)\n",
      "- trinamool (0.654)\n",
      "- nesunan (0.653)\n",
      "- mantashe (0.639)\n",
      "- mutungan (0.637)\n",
      "- مقدسي (0.634)\n",
      "- nyambungan (0.633)\n",
      "- مسئولون (0.628)\n",
      "- melumelu (0.628)\n",
      "- yeek (0.626)\n",
      "--------------------------------------------- \n",
      "\n",
      "\n",
      "---------------------------------------------\n",
      "[i] Result for:\tman+power \n",
      "---------------------------------------------\n",
      "- the (0.861)\n",
      "- that (0.858)\n",
      "- way (0.846)\n",
      "- bad (0.844)\n",
      "- of (0.841)\n",
      "- it (0.837)\n",
      "- is (0.831)\n",
      "- but (0.829)\n",
      "- will (0.827)\n",
      "- and (0.825)\n",
      "--------------------------------------------- \n",
      "\n",
      "\n",
      "---------------------------------------------\n",
      "[i] Result for:\trussia+honor \n",
      "---------------------------------------------\n",
      "- america (0.841)\n",
      "- national (0.793)\n",
      "- canada (0.789)\n",
      "- union (0.787)\n",
      "- president (0.785)\n",
      "- army (0.773)\n",
      "- us (0.769)\n",
      "- freedom (0.768)\n",
      "- africa (0.766)\n",
      "- world (0.764)\n",
      "--------------------------------------------- \n",
      "\n",
      "\n",
      "---------------------------------------------\n",
      "[i] Result for:\tchina - tariff\n",
      "---------------------------------------------\n",
      "- : (0.654)\n",
      "- “ (0.645)\n",
      "- \" (0.63)\n",
      "- <user> (0.622)\n",
      "- san (0.615)\n",
      "- argentina (0.605)\n",
      "- chico (0.603)\n",
      "- mario (0.595)\n",
      "- rey (0.593)\n",
      "- raja (0.591)\n",
      "--------------------------------------------- \n",
      "\n",
      "\n"
     ]
    }
   ],
   "source": [
    "## Using pre-trained embeddings for math\n",
    "equation_list=[(['america','crime'],[]),\n",
    "               \n",
    "               (['democrats','russia'],[]),\n",
    "               (['republican'],['honor']),\n",
    "               (['man','power'],[]),\n",
    "               (['russia','honor'],[]),\n",
    "              (['china','tariff'])]\n",
    "\n",
    "for eqn in equation_list:\n",
    "#     print('\\n\\n')\n",
    "    word_math(model_glove,*eqn)"
   ]
  },
  {
   "cell_type": "code",
   "execution_count": null,
   "metadata": {},
   "outputs": [],
   "source": []
  },
  {
   "cell_type": "markdown",
   "metadata": {},
   "source": [
    "___ "
   ]
  },
  {
   "cell_type": "markdown",
   "metadata": {},
   "source": [
    "___"
   ]
  },
  {
   "cell_type": "markdown",
   "metadata": {},
   "source": [
    "### Using Glove In Embedding Layer"
   ]
  },
  {
   "cell_type": "code",
   "execution_count": 148,
   "metadata": {
    "ExecuteTime": {
     "end_time": "2021-01-06T19:52:28.146781Z",
     "start_time": "2021-01-06T19:52:22.259367Z"
    },
    "scrolled": false
   },
   "outputs": [
    {
     "name": "stdout",
     "output_type": "stream",
     "text": [
      "Model: \"sequential_19\"\n",
      "_________________________________________________________________\n",
      "Layer (type)                 Output Shape              Param #   \n",
      "=================================================================\n",
      "embedding_21 (Embedding)     (None, None, 50)          59675700  \n",
      "_________________________________________________________________\n",
      "lstm_19 (LSTM)               (None, 50)                20200     \n",
      "_________________________________________________________________\n",
      "dense_38 (Dense)             (None, 25)                1275      \n",
      "_________________________________________________________________\n",
      "dropout_14 (Dropout)         (None, 25)                0         \n",
      "_________________________________________________________________\n",
      "dense_39 (Dense)             (None, 2)                 52        \n",
      "=================================================================\n",
      "Total params: 59,697,227\n",
      "Trainable params: 21,527\n",
      "Non-trainable params: 59,675,700\n",
      "_________________________________________________________________\n"
     ]
    },
    {
     "data": {
      "text/plain": [
       "None"
      ]
     },
     "metadata": {},
     "output_type": "display_data"
    },
    {
     "name": "stdout",
     "output_type": "stream",
     "text": [
      "Epoch 1/50\n",
      "11/11 [==============================] - 3s 71ms/step - loss: 0.7025 - accuracy: 0.5290 - val_loss: 0.6328 - val_accuracy: 0.7303\n",
      "Epoch 2/50\n",
      "11/11 [==============================] - 0s 18ms/step - loss: 0.6314 - accuracy: 0.6679 - val_loss: 0.5638 - val_accuracy: 0.8202\n",
      "Epoch 3/50\n",
      "11/11 [==============================] - 0s 19ms/step - loss: 0.5868 - accuracy: 0.7054 - val_loss: 0.5017 - val_accuracy: 0.8539\n",
      "Epoch 4/50\n",
      "11/11 [==============================] - 0s 22ms/step - loss: 0.5505 - accuracy: 0.7702 - val_loss: 0.4617 - val_accuracy: 0.8315\n",
      "Epoch 5/50\n",
      "11/11 [==============================] - 0s 23ms/step - loss: 0.4914 - accuracy: 0.7725 - val_loss: 0.4320 - val_accuracy: 0.8315\n",
      "Epoch 6/50\n",
      "11/11 [==============================] - 0s 21ms/step - loss: 0.4384 - accuracy: 0.8311 - val_loss: 0.4481 - val_accuracy: 0.7865\n"
     ]
    },
    {
     "data": {
      "image/png": "[encoded data removed]",
      "text/plain": [
       "<Figure size 720x288 with 2 Axes>"
      ]
     },
     "metadata": {
      "needs_background": "light"
     },
     "output_type": "display_data"
    },
    {
     "name": "stdout",
     "output_type": "stream",
     "text": [
      "\n",
      "\n",
      "------------------------------------------------------------\n",
      "\tCLASSIFICATION REPORT:\n",
      "------------------------------------------------------------\n",
      "              precision    recall  f1-score   support\n",
      "\n",
      "           0       0.56      0.86      0.68        49\n",
      "           1       0.90      0.66      0.76        98\n",
      "\n",
      "    accuracy                           0.73       147\n",
      "   macro avg       0.73      0.76      0.72       147\n",
      "weighted avg       0.79      0.73      0.74       147\n",
      "\n"
     ]
    },
    {
     "data": {
      "image/png": "[encoded data removed]",
      "text/plain": [
       "<Figure size 504x576 with 2 Axes>"
      ]
     },
     "metadata": {
      "needs_background": "light"
     },
     "output_type": "display_data"
    }
   ],
   "source": [
    " #where codealong get this?\n",
    "def make_model_glove(wv):\n",
    "    model=Sequential()\n",
    "\n",
    "    model.add(wv.get_keras_embedding())#Embedding(MAX_WORDS, EMBEDDING_SIZE))\n",
    "    model.add(LSTM(50,return_sequences=False))\n",
    "\n",
    "    # model.add(GlobalMaxPool1D()) \n",
    "    # model.add(Dropout(0.5))\n",
    "    model.add(Dense(25, activation='relu'))\n",
    "    model.add(Dropout(0.5))\n",
    "    model.add(Dense(2, activation='softmax'))\n",
    "\n",
    "    model.compile(loss='categorical_crossentropy',#'categorical_crossentropy', \n",
    "                  optimizer='adam', \n",
    "                  metrics=['accuracy'])\n",
    "    display(model.summary())\n",
    "    return model\n",
    "\n",
    "model = make_model_wv(model_glove)\n",
    "history = model.fit(X_train_seq, y_train_seq, epochs=50,\n",
    "                    batch_size=32, validation_split=0.2,\n",
    "                    callbacks=get_earlystop(),\n",
    "                   class_weight=weights_dict)\n",
    "\n",
    "y_hat_test = model.predict(X_test_seq).argmax(axis=1)\n",
    "kg.evaluate_model(y_test_seq,y_hat_test,history)"
   ]
  },
  {
   "cell_type": "markdown",
   "metadata": {},
   "source": [
    "# Multiple LSTM / Bidirectional "
   ]
  },
  {
   "cell_type": "code",
   "execution_count": 158,
   "metadata": {
    "ExecuteTime": {
     "end_time": "2021-01-06T20:06:03.129837Z",
     "start_time": "2021-01-06T20:05:54.571845Z"
    },
    "scrolled": false
   },
   "outputs": [
    {
     "name": "stdout",
     "output_type": "stream",
     "text": [
      "Model: \"sequential_27\"\n",
      "_________________________________________________________________\n",
      "Layer (type)                 Output Shape              Param #   \n",
      "=================================================================\n",
      "embedding_29 (Embedding)     (None, None, 100)         708900    \n",
      "_________________________________________________________________\n",
      "lstm_34 (LSTM)               (None, None, 50)          30200     \n",
      "_________________________________________________________________\n",
      "dropout_24 (Dropout)         (None, None, 50)          0         \n",
      "_________________________________________________________________\n",
      "lstm_35 (LSTM)               (None, 50)                20200     \n",
      "_________________________________________________________________\n",
      "dense_50 (Dense)             (None, 25)                1275      \n",
      "_________________________________________________________________\n",
      "dropout_25 (Dropout)         (None, 25)                0         \n",
      "_________________________________________________________________\n",
      "dense_51 (Dense)             (None, 2)                 52        \n",
      "=================================================================\n",
      "Total params: 760,627\n",
      "Trainable params: 51,727\n",
      "Non-trainable params: 708,900\n",
      "_________________________________________________________________\n"
     ]
    },
    {
     "data": {
      "text/plain": [
       "None"
      ]
     },
     "metadata": {},
     "output_type": "display_data"
    },
    {
     "name": "stdout",
     "output_type": "stream",
     "text": [
      "Epoch 1/50\n",
      "11/11 [==============================] - 4s 98ms/step - loss: 0.6349 - accuracy: 0.5614 - val_loss: 0.5197 - val_accuracy: 0.7865\n",
      "Epoch 2/50\n",
      "11/11 [==============================] - 0s 35ms/step - loss: 0.5226 - accuracy: 0.7926 - val_loss: 0.4383 - val_accuracy: 0.8539\n",
      "Epoch 3/50\n",
      "11/11 [==============================] - 0s 38ms/step - loss: 0.4115 - accuracy: 0.8420 - val_loss: 0.4170 - val_accuracy: 0.8539\n",
      "Epoch 4/50\n",
      "11/11 [==============================] - 0s 36ms/step - loss: 0.4013 - accuracy: 0.8929 - val_loss: 0.4957 - val_accuracy: 0.7753\n",
      "Epoch 5/50\n",
      "11/11 [==============================] - 0s 39ms/step - loss: 0.4278 - accuracy: 0.8291 - val_loss: 0.4015 - val_accuracy: 0.8652\n",
      "Epoch 6/50\n",
      "11/11 [==============================] - 0s 35ms/step - loss: 0.3320 - accuracy: 0.9259 - val_loss: 0.4859 - val_accuracy: 0.8202\n",
      "Epoch 7/50\n",
      "11/11 [==============================] - 0s 38ms/step - loss: 0.2534 - accuracy: 0.9578 - val_loss: 0.4374 - val_accuracy: 0.8539\n",
      "Epoch 8/50\n",
      "11/11 [==============================] - 0s 38ms/step - loss: 0.2050 - accuracy: 0.9660 - val_loss: 0.5091 - val_accuracy: 0.8315\n"
     ]
    },
    {
     "data": {
      "image/png": "[encoded data removed]",
      "text/plain": [
       "<Figure size 720x288 with 2 Axes>"
      ]
     },
     "metadata": {
      "needs_background": "light"
     },
     "output_type": "display_data"
    },
    {
     "name": "stdout",
     "output_type": "stream",
     "text": [
      "\n",
      "\n",
      "------------------------------------------------------------\n",
      "\tCLASSIFICATION REPORT:\n",
      "------------------------------------------------------------\n",
      "              precision    recall  f1-score   support\n",
      "\n",
      "           0       0.80      0.71      0.75        49\n",
      "           1       0.86      0.91      0.89        98\n",
      "\n",
      "    accuracy                           0.84       147\n",
      "   macro avg       0.83      0.81      0.82       147\n",
      "weighted avg       0.84      0.84      0.84       147\n",
      "\n"
     ]
    },
    {
     "data": {
      "image/png": "[encoded data removed]",
      "text/plain": [
       "<Figure size 504x576 with 2 Axes>"
      ]
     },
     "metadata": {
      "needs_background": "light"
     },
     "output_type": "display_data"
    }
   ],
   "source": [
    " #where codealong get this?\n",
    "def make_model_2lstm(wv):\n",
    "    model=Sequential()\n",
    "\n",
    "    model.add(wv.get_keras_embedding())#Embedding(MAX_WORDS, EMBEDDING_SIZE))\n",
    "    model.add(LSTM(50,return_sequences=True))\n",
    "    model.add(Dropout(0.3))\n",
    "    model.add(LSTM(50,return_sequences=False,recurrent_dropout=0.3))\n",
    "\n",
    "    # model.add(GlobalMaxPool1D()) \n",
    "    # model.add(Dropout(0.5))\n",
    "    model.add(Dense(25, activation='relu',activity_regularizer='l2'))\n",
    "    model.add(Dropout(0.5))\n",
    "    model.add(Dense(2, activation='softmax'))\n",
    "\n",
    "    model.compile(loss='categorical_crossentropy',#'categorical_crossentropy', \n",
    "                  optimizer='adam', \n",
    "                  metrics=['accuracy'])\n",
    "    display(model.summary())\n",
    "    return model\n",
    "\n",
    "model = make_model_2lstm(wv)\n",
    "history = model.fit(X_train_seq, y_train_seq, epochs=50,\n",
    "                    batch_size=32, validation_split=0.2,\n",
    "                    callbacks=get_earlystop(patience=3),\n",
    "                   class_weight=weights_dict)\n",
    "\n",
    "y_hat_test = model.predict(X_test_seq).argmax(axis=1)\n",
    "kg.evaluate_model(y_test_seq,y_hat_test,history)"
   ]
  },
  {
   "cell_type": "markdown",
   "metadata": {},
   "source": [
    "## Bidirectional"
   ]
  },
  {
   "cell_type": "code",
   "execution_count": 163,
   "metadata": {
    "ExecuteTime": {
     "end_time": "2021-01-06T20:10:12.900710Z",
     "start_time": "2021-01-06T20:10:05.510407Z"
    },
    "scrolled": false
   },
   "outputs": [
    {
     "name": "stdout",
     "output_type": "stream",
     "text": [
      "Model: \"sequential_31\"\n",
      "_________________________________________________________________\n",
      "Layer (type)                 Output Shape              Param #   \n",
      "=================================================================\n",
      "embedding_33 (Embedding)     (None, None, 100)         708900    \n",
      "_________________________________________________________________\n",
      "bidirectional_3 (Bidirection (None, 100)               60400     \n",
      "_________________________________________________________________\n",
      "dense_58 (Dense)             (None, 25)                2525      \n",
      "_________________________________________________________________\n",
      "dropout_27 (Dropout)         (None, 25)                0         \n",
      "_________________________________________________________________\n",
      "dense_59 (Dense)             (None, 2)                 52        \n",
      "=================================================================\n",
      "Total params: 771,877\n",
      "Trainable params: 62,977\n",
      "Non-trainable params: 708,900\n",
      "_________________________________________________________________\n"
     ]
    },
    {
     "data": {
      "text/plain": [
       "None"
      ]
     },
     "metadata": {},
     "output_type": "display_data"
    },
    {
     "name": "stdout",
     "output_type": "stream",
     "text": [
      "Epoch 1/50\n",
      "11/11 [==============================] - 3s 90ms/step - loss: 0.6739 - accuracy: 0.5213 - val_loss: 0.5341 - val_accuracy: 0.8652\n",
      "Epoch 2/50\n",
      "11/11 [==============================] - 0s 18ms/step - loss: 0.5520 - accuracy: 0.8000 - val_loss: 0.4312 - val_accuracy: 0.8764\n",
      "Epoch 3/50\n",
      "11/11 [==============================] - 0s 22ms/step - loss: 0.4418 - accuracy: 0.8534 - val_loss: 0.3875 - val_accuracy: 0.8764\n",
      "Epoch 4/50\n",
      "11/11 [==============================] - 0s 22ms/step - loss: 0.3707 - accuracy: 0.8809 - val_loss: 0.3787 - val_accuracy: 0.8876\n",
      "Epoch 5/50\n",
      "11/11 [==============================] - 0s 21ms/step - loss: 0.3477 - accuracy: 0.8703 - val_loss: 0.3470 - val_accuracy: 0.8764\n",
      "Epoch 6/50\n",
      "11/11 [==============================] - 0s 22ms/step - loss: 0.2533 - accuracy: 0.9322 - val_loss: 0.3591 - val_accuracy: 0.9101\n",
      "Epoch 7/50\n",
      "11/11 [==============================] - 0s 24ms/step - loss: 0.2125 - accuracy: 0.9477 - val_loss: 0.3368 - val_accuracy: 0.8989\n",
      "Epoch 8/50\n",
      "11/11 [==============================] - 0s 20ms/step - loss: 0.1644 - accuracy: 0.9674 - val_loss: 0.3511 - val_accuracy: 0.8764\n",
      "Epoch 9/50\n",
      "11/11 [==============================] - 0s 23ms/step - loss: 0.0995 - accuracy: 0.9820 - val_loss: 0.3629 - val_accuracy: 0.8876\n",
      "Epoch 10/50\n",
      "11/11 [==============================] - 0s 21ms/step - loss: 0.0996 - accuracy: 0.9801 - val_loss: 0.3825 - val_accuracy: 0.8876\n"
     ]
    },
    {
     "data": {
      "image/png": "[encoded data removed]",
      "text/plain": [
       "<Figure size 720x288 with 2 Axes>"
      ]
     },
     "metadata": {
      "needs_background": "light"
     },
     "output_type": "display_data"
    },
    {
     "name": "stdout",
     "output_type": "stream",
     "text": [
      "\n",
      "\n",
      "------------------------------------------------------------\n",
      "\tCLASSIFICATION REPORT:\n",
      "------------------------------------------------------------\n",
      "              precision    recall  f1-score   support\n",
      "\n",
      "           0       0.80      0.76      0.78        49\n",
      "           1       0.88      0.91      0.89        98\n",
      "\n",
      "    accuracy                           0.86       147\n",
      "   macro avg       0.84      0.83      0.84       147\n",
      "weighted avg       0.86      0.86      0.86       147\n",
      "\n"
     ]
    },
    {
     "data": {
      "image/png": "[encoded data removed]",
      "text/plain": [
       "<Figure size 504x576 with 2 Axes>"
      ]
     },
     "metadata": {
      "needs_background": "light"
     },
     "output_type": "display_data"
    }
   ],
   "source": [
    " #where codealong get this?\n",
    "from tensorflow.keras.layers import Bidirectional\n",
    "def make_model_2lstm(wv):\n",
    "    model=Sequential()\n",
    "\n",
    "    model.add(wv.get_keras_embedding())#Embedding(MAX_WORDS, EMBEDDING_SIZE))\n",
    "    model.add(Bidirectional(LSTM(50)))\n",
    "\n",
    "    model.add(Dense(25, activation='relu'))\n",
    "    model.add(Dropout(0.3))\n",
    "    model.add(Dense(2, activation='softmax'))\n",
    "\n",
    "    model.compile(loss='categorical_crossentropy',#'categorical_crossentropy', \n",
    "                  optimizer='adam', \n",
    "                  metrics=['accuracy'])\n",
    "    display(model.summary())\n",
    "    return model\n",
    "\n",
    "model = make_model_2lstm(wv)\n",
    "history = model.fit(X_train_seq, y_train_seq, epochs=50,\n",
    "                    batch_size=32, validation_split=0.2,\n",
    "                    callbacks=get_earlystop(patience=3),\n",
    "                   class_weight=weights_dict)\n",
    "\n",
    "y_hat_test = model.predict(X_test_seq).argmax(axis=1)\n",
    "kg.evaluate_model(y_test_seq,y_hat_test,history)"
   ]
  },
  {
   "cell_type": "markdown",
   "metadata": {},
   "source": [
    "# APPENDIX"
   ]
  },
  {
   "cell_type": "markdown",
   "metadata": {},
   "source": [
    "### Alternative Approach to Loading in Glove"
   ]
  },
  {
   "cell_type": "code",
   "execution_count": null,
   "metadata": {
    "ExecuteTime": {
     "end_time": "2021-01-06T18:46:34.376144Z",
     "start_time": "2021-01-06T18:45:44.603Z"
    }
   },
   "outputs": [],
   "source": [
    "\n",
    "# EMBEDDING_SIZE = 128 #where codealong get this?\n",
    "\n",
    "# embedding_matrix = np.zeros((len(total_vocabulary) + 1, EMBEDDING_SIZE))\n",
    "# for word, i in enumerate(total_vocabulary):#.items():\n",
    "#     embedding_vector = glove.get(word)\n",
    "#     if embedding_vector is not None:\n",
    "#         # words not found in embedding index will be all-zeros.\n",
    "#         embedding_matrix[i] = embedding_vector\n",
    "        \n",
    "        \n",
    "# embedding_layer = Embedding(len(total_vocabulary) + 1,\n",
    "#                             EMBEDDING_SIZE,\n",
    "#                             weights=[embedding_matrix],\n",
    "#                             input_length=MAX_SEQUENCE_LENGTH,\n",
    "#                             trainable=True)"
   ]
  },
  {
   "cell_type": "markdown",
   "metadata": {
    "ExecuteTime": {
     "end_time": "2020-02-17T00:18:01.708621Z",
     "start_time": "2020-02-17T00:18:00.772373Z"
    }
   },
   "source": [
    "## RNN or GRU"
   ]
  },
  {
   "cell_type": "code",
   "execution_count": 190,
   "metadata": {
    "ExecuteTime": {
     "end_time": "2021-01-06T20:17:20.274115Z",
     "start_time": "2021-01-06T20:17:19.830582Z"
    }
   },
   "outputs": [
    {
     "name": "stdout",
     "output_type": "stream",
     "text": [
      "Model: \"sequential_33\"\n",
      "_________________________________________________________________\n",
      "Layer (type)                 Output Shape              Param #   \n",
      "=================================================================\n",
      "embedding_35 (Embedding)     (None, None, 128)         3200000   \n",
      "_________________________________________________________________\n",
      "bidirectional_5 (Bidirection (None, 200)               138000    \n",
      "_________________________________________________________________\n",
      "dense_61 (Dense)             (None, 2)                 402       \n",
      "=================================================================\n",
      "Total params: 3,338,402\n",
      "Trainable params: 3,338,402\n",
      "Non-trainable params: 0\n",
      "_________________________________________________________________\n"
     ]
    }
   ],
   "source": [
    "## GRU Model\n",
    "from keras import models, layers, optimizers, regularizers\n",
    "modelG = models.Sequential()\n",
    "\n",
    "## Get and add embedding_layer\n",
    "# embedding_layer = ji.make_keras_embedding_layer(wv, X_train)\n",
    "modelG.add(Embedding(MAX_WORDS, EMBEDDING_SIZE))\n",
    "\n",
    "# modelG.add(layers.SpatialDropout1D(0.5))\n",
    "# modelG.add(layers.Bidirectional(layers.GRU(units=100, dropout=0.5, recurrent_dropout=0.2,return_sequences=True)))\n",
    "modelG.add(layers.Bidirectional(layers.GRU(units=100, dropout=0.5, recurrent_dropout=0.2)))\n",
    "modelG.add(layers.Dense(2, activation='softmax'))\n",
    "\n",
    "modelG.compile(loss='categorical_crossentropy',optimizer=\"adam\",metrics=['acc'])#,'val_acc'])#, callbacks=callbacks)\n",
    "modelG.summary()"
   ]
  },
  {
   "cell_type": "code",
   "execution_count": 191,
   "metadata": {
    "ExecuteTime": {
     "end_time": "2021-01-06T20:17:37.753907Z",
     "start_time": "2021-01-06T20:17:20.600178Z"
    },
    "scrolled": false
   },
   "outputs": [
    {
     "name": "stdout",
     "output_type": "stream",
     "text": [
      "Epoch 1/10\n",
      "11/11 [==============================] - 5s 159ms/step - loss: 0.6792 - acc: 0.5621 - val_loss: 0.6830 - val_acc: 0.5506\n",
      "Epoch 2/10\n",
      "11/11 [==============================] - 1s 108ms/step - loss: 0.6330 - acc: 0.6109 - val_loss: 0.5313 - val_acc: 0.8764\n",
      "Epoch 3/10\n",
      "11/11 [==============================] - 1s 109ms/step - loss: 0.4443 - acc: 0.8416 - val_loss: 0.3341 - val_acc: 0.8539\n",
      "Epoch 4/10\n",
      "11/11 [==============================] - 1s 105ms/step - loss: 0.2291 - acc: 0.9060 - val_loss: 0.4489 - val_acc: 0.8315\n",
      "Epoch 5/10\n",
      "11/11 [==============================] - 1s 116ms/step - loss: 0.1663 - acc: 0.9623 - val_loss: 0.3667 - val_acc: 0.8989\n",
      "Epoch 6/10\n",
      "11/11 [==============================] - 1s 116ms/step - loss: 0.0633 - acc: 0.9846 - val_loss: 0.4279 - val_acc: 0.8652\n",
      "Epoch 7/10\n",
      "11/11 [==============================] - 1s 106ms/step - loss: 0.0218 - acc: 0.9914 - val_loss: 0.5903 - val_acc: 0.8652\n",
      "Epoch 8/10\n",
      "11/11 [==============================] - 1s 107ms/step - loss: 0.0076 - acc: 0.9982 - val_loss: 0.8238 - val_acc: 0.8539\n",
      "Epoch 9/10\n",
      "11/11 [==============================] - 1s 106ms/step - loss: 0.0262 - acc: 0.9905 - val_loss: 0.4066 - val_acc: 0.8989\n",
      "Epoch 10/10\n",
      "11/11 [==============================] - 1s 102ms/step - loss: 0.0184 - acc: 1.0000 - val_loss: 0.5356 - val_acc: 0.8764\n"
     ]
    },
    {
     "name": "stderr",
     "output_type": "stream",
     "text": [
      "/opt/anaconda3/envs/learn-env/lib/python3.6/site-packages/tensorflow/python/keras/engine/sequential.py:450: UserWarning:\n",
      "\n",
      "`model.predict_classes()` is deprecated and will be removed after 2021-01-01. Please use instead:* `np.argmax(model.predict(x), axis=-1)`,   if your model does multi-class classification   (e.g. if it uses a `softmax` last-layer activation).* `(model.predict(x) > 0.5).astype(\"int32\")`,   if your model does binary classification   (e.g. if it uses a `sigmoid` last-layer activation).\n",
      "\n"
     ]
    },
    {
     "data": {
      "image/png": "[encoded data removed]",
      "text/plain": [
       "<Figure size 720x288 with 2 Axes>"
      ]
     },
     "metadata": {
      "needs_background": "light"
     },
     "output_type": "display_data"
    },
    {
     "name": "stdout",
     "output_type": "stream",
     "text": [
      "\n",
      "\n",
      "------------------------------------------------------------\n",
      "\tCLASSIFICATION REPORT:\n",
      "------------------------------------------------------------\n",
      "              precision    recall  f1-score   support\n",
      "\n",
      "           0       0.88      0.76      0.81        49\n",
      "           1       0.89      0.95      0.92        98\n",
      "\n",
      "    accuracy                           0.88       147\n",
      "   macro avg       0.88      0.85      0.86       147\n",
      "weighted avg       0.88      0.88      0.88       147\n",
      "\n"
     ]
    },
    {
     "data": {
      "image/png": "[encoded data removed]",
      "text/plain": [
       "<Figure size 504x576 with 2 Axes>"
      ]
     },
     "metadata": {
      "needs_background": "light"
     },
     "output_type": "display_data"
    }
   ],
   "source": [
    "\n",
    "history = modelG.fit(X_train_seq, y_train_seq, epochs=10, batch_size=32, validation_split=0.2)\n",
    "\n",
    "y_hat_test = modelG.predict_classes(X_test_seq)\n",
    "kg.evaluate_model(y_test_seq,y_hat_test,history)"
   ]
  },
  {
   "cell_type": "markdown",
   "metadata": {},
   "source": [
    "## Alternative Dataset"
   ]
  },
  {
   "cell_type": "code",
   "execution_count": 1,
   "metadata": {
    "ExecuteTime": {
     "end_time": "2021-01-06T18:44:34.769325Z",
     "start_time": "2021-01-06T18:44:34.765486Z"
    }
   },
   "outputs": [],
   "source": [
    "# import os\n",
    "# ## New Dataset Option\n",
    "# # import kaggle.api as kaggle\n",
    "# !kaggle datasets download -d akash14/product-sentiment-classification\n",
    "# !unzip product-sentiment-classification.zip\n",
    "# !rm product-sentiment-classification.zip"
   ]
  },
  {
   "cell_type": "markdown",
   "metadata": {},
   "source": [
    "> Class - Represents various sentiments\n",
    "- 0 - Cannot Say\n",
    "- 1 - Negative\n",
    "- 2 - Positive\n",
    "- 3 - No Sentimet"
   ]
  },
  {
   "cell_type": "code",
   "execution_count": 2,
   "metadata": {
    "ExecuteTime": {
     "end_time": "2021-01-06T18:44:34.777126Z",
     "start_time": "2021-01-06T18:44:34.774775Z"
    }
   },
   "outputs": [],
   "source": [
    "# import pandas as pd\n",
    "# folder = 'Participants_Data/'\n",
    "# sorted(os.listdir(folder))\n",
    "# df = pd.read_csv('Participants_Data/Train.csv',index_col=0)\n",
    "# df"
   ]
  },
  {
   "cell_type": "code",
   "execution_count": 3,
   "metadata": {
    "ExecuteTime": {
     "end_time": "2021-01-06T18:44:34.782095Z",
     "start_time": "2021-01-06T18:44:34.779630Z"
    }
   },
   "outputs": [],
   "source": [
    "# mapper = {0: 'Cannot Say', \n",
    "#           1 : 'Negative',\n",
    "#           2 : 'Positive',\n",
    "#           3 : 'No Sentimet'}\n",
    "# mapper"
   ]
  },
  {
   "cell_type": "code",
   "execution_count": 4,
   "metadata": {
    "ExecuteTime": {
     "end_time": "2021-01-06T18:44:34.786685Z",
     "start_time": "2021-01-06T18:44:34.784579Z"
    }
   },
   "outputs": [],
   "source": [
    "# df[\"Sentiment-label\"] = df['Sentiment'].map(mapper)"
   ]
  },
  {
   "cell_type": "code",
   "execution_count": 5,
   "metadata": {
    "ExecuteTime": {
     "end_time": "2021-01-06T18:44:34.791200Z",
     "start_time": "2021-01-06T18:44:34.788937Z"
    }
   },
   "outputs": [],
   "source": [
    "# df['Sentiment-label'].value_counts(1)"
   ]
  },
  {
   "cell_type": "code",
   "execution_count": 6,
   "metadata": {
    "ExecuteTime": {
     "end_time": "2021-01-06T18:44:34.795547Z",
     "start_time": "2021-01-06T18:44:34.793553Z"
    }
   },
   "outputs": [],
   "source": [
    "## Drop Cannot Say \n"
   ]
  }
 ],
 "metadata": {
  "kernelspec": {
   "display_name": "learn-env",
   "language": "python",
   "name": "learn-env"
  },
  "language_info": {
   "codemirror_mode": {
    "name": "ipython",
    "version": 3
   },
   "file_extension": ".py",
   "mimetype": "text/x-python",
   "name": "python",
   "nbconvert_exporter": "python",
   "pygments_lexer": "ipython3",
   "version": "3.6.11"
  },
  "toc": {
   "base_numbering": 1,
   "nav_menu": {},
   "number_sections": false,
   "sideBar": true,
   "skip_h1_title": false,
   "title_cell": "Table of Contents",
   "title_sidebar": "Contents",
   "toc_cell": false,
   "toc_position": {
    "height": "calc(100% - 180px)",
    "left": "10px",
    "top": "150px",
    "width": "225.688px"
   },
   "toc_section_display": true,
   "toc_window_display": true
  }
 },
 "nbformat": 4,
 "nbformat_minor": 2
}

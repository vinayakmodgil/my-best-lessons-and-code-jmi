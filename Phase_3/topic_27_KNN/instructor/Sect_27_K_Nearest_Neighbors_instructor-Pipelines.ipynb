{
 "cells": [
  {
   "cell_type": "markdown",
   "metadata": {},
   "source": [
    "# Sect 27: K-Nearest Neighbors"
   ]
  },
  {
   "cell_type": "markdown",
   "metadata": {},
   "source": [
    "online-ds-pt-041320\n",
    "\n",
    "09/04/20"
   ]
  },
  {
   "cell_type": "markdown",
   "metadata": {},
   "source": [
    "### Learning Objectives:\n"
   ]
  },
  {
   "cell_type": "markdown",
   "metadata": {},
   "source": [
    "- Understand the different distance metrics\n",
    "- Understand how K-Nearest Neighbors works \n",
    "- Use K-Nearest Neighbors to impute missing data\n",
    "- Do the KNN with Scikit Learn Lab together (if time)"
   ]
  },
  {
   "cell_type": "markdown",
   "metadata": {},
   "source": [
    "# Distance Metrics"
   ]
  },
  {
   "cell_type": "markdown",
   "metadata": {},
   "source": [
    "### Manhattan"
   ]
  },
  {
   "cell_type": "markdown",
   "metadata": {},
   "source": [
    "<img src =\"https://raw.githubusercontent.com/learn-co-students/dsc-distance-metrics-online-ds-ft-100719/master/images/manhattan_fs.png\" width=50%>\n"
   ]
  },
  {
   "cell_type": "markdown",
   "metadata": {},
   "source": [
    "$$ \\large d(x,y) = \\sum_{i=1}^{n}|x_i - y_i | $$  \n",
    "> - \"The right side of the equals sign means \"calculate the absolute number of units you move in each distinct dimension, and then sum them all up\".\"\n",
    "- \"The  $\\Sigma$  just means \"the cumulative sum of each step\". In a given step, you take a dimension, and then look at the corresponding values for that dimension on point X and point Y. \n",
    "- You then compute the absolute value of the difference between them by subtracting Y's value for that dimension from X's value for that dimension, and then add it to our total.\""
   ]
  },
  {
   "cell_type": "markdown",
   "metadata": {},
   "source": [
    "### Euclidian"
   ]
  },
  {
   "cell_type": "markdown",
   "metadata": {},
   "source": [
    "<img src=\"https://raw.githubusercontent.com/learn-co-students/dsc-distance-metrics-online-ds-ft-100719/master/images/euclidean_fs.png\" width=20%>"
   ]
  },
  {
   "cell_type": "markdown",
   "metadata": {},
   "source": [
    " The equation at the heart of this one is probably familiar to you: $a^2 + b^2 = c^2$, or the **_Pythagorean theorem_**\n",
    " \n",
    " $$ \\large d(x,y) = \\sqrt{\\sum_{i=1}^{n}(x_i - y_i)^2} $$  \n"
   ]
  },
  {
   "cell_type": "markdown",
   "metadata": {},
   "source": [
    "### Minkowski"
   ]
  },
  {
   "cell_type": "markdown",
   "metadata": {},
   "source": [
    "- A generalized distance metric across a _Normed Vector Space_.\n",
    "> - \"A Normed Vector Space\"= a collection of space where each point has been processed by a function (any function, as long it meets two criteria:) \n",
    "    1. the zero vector (just a vector filled with zeros) will output a length of 0, and \n",
    "    2. every other vector must have a positive length \n",
    "\n",
    "$$\\large d(x, y) = \\left(\\sum_{i=1}^{n}|x_i - y_i|^c\\right)^\\frac{1}{c}$$  \n",
    "\n",
    "\n",
    "> Both the Manhattan and Euclidean distances are actually _special cases of Minkowski distance_. \n"
   ]
  },
  {
   "cell_type": "markdown",
   "metadata": {},
   "source": [
    "# K Nearest Neighbors"
   ]
  },
  {
   "cell_type": "markdown",
   "metadata": {},
   "source": [
    "- Supervised Learning\n",
    "- Classification OR regression.\n"
   ]
  },
  {
   "cell_type": "markdown",
   "metadata": {},
   "source": [
    "### Predicting the Class for the Red Dot\n",
    "<img src=\"https://raw.githubusercontent.com/learn-co-students/dsc-distance-metrics-online-ds-pt-100719/master/images/knn_fs.png\" width=50%>\n"
   ]
  },
  {
   "cell_type": "markdown",
   "metadata": {},
   "source": [
    "## Get the classes of the K closest points to use as predictions\n",
    "\n",
    "<img src=\"https://raw.githubusercontent.com/learn-co-students/dsc-finding-the-best-value-for-k-onl01-dtsc-pt-041320/master/images/best_k_fs.png\" width=50%>"
   ]
  },
  {
   "cell_type": "markdown",
   "metadata": {},
   "source": [
    "### Finding the Best K Using Elbow Plots"
   ]
  },
  {
   "cell_type": "markdown",
   "metadata": {},
   "source": [
    "<img src=\"https://raw.githubusercontent.com/learn-co-students/dsc-finding-the-best-value-for-k-onl01-dtsc-pt-041320/master/images/plot_fs.png\" width=50%>"
   ]
  },
  {
   "cell_type": "markdown",
   "metadata": {},
   "source": [
    "# Activity: KNN with Scikit Learn - Lab\n"
   ]
  },
  {
   "cell_type": "markdown",
   "metadata": {},
   "source": [
    "## Part 1: The Manual/Solution Way"
   ]
  },
  {
   "cell_type": "markdown",
   "metadata": {},
   "source": [
    "> Hop over to \"`KNN with scikit-learn - Lab-SG.ipynb`\"\n",
    "\n",
    "- [Learn Lesson](https://learn.co/tracks/module-3-data-science-career-2-1/machine-learning/section-27-k-nearest-neighbors/knn-with-scikit-learn-lab)"
   ]
  },
  {
   "cell_type": "markdown",
   "metadata": {},
   "source": [
    "## Part 2: The Pipeline + GridSearch Way"
   ]
  },
  {
   "cell_type": "code",
   "execution_count": 1,
   "metadata": {
    "ExecuteTime": {
     "end_time": "2020-09-04T22:41:46.718008Z",
     "start_time": "2020-09-04T22:41:44.951944Z"
    }
   },
   "outputs": [
    {
     "name": "stdout",
     "output_type": "stream",
     "text": [
      "fsds v0.2.23 loaded.  Read the docs: https://fs-ds.readthedocs.io/en/latest/ \n"
     ]
    },
    {
     "data": {
      "text/html": [
       "<style  type=\"text/css\" >\n",
       "</style><table id=\"T_cfe82164_eeff_11ea_97c8_acde48001122\" ><caption>Loaded Packages and Handles</caption><thead>    <tr>        <th class=\"col_heading level0 col0\" >Handle</th>        <th class=\"col_heading level0 col1\" >Package</th>        <th class=\"col_heading level0 col2\" >Description</th>    </tr></thead><tbody>\n",
       "                <tr>\n",
       "                                <td id=\"T_cfe82164_eeff_11ea_97c8_acde48001122row0_col0\" class=\"data row0 col0\" >dp</td>\n",
       "                        <td id=\"T_cfe82164_eeff_11ea_97c8_acde48001122row0_col1\" class=\"data row0 col1\" >IPython.display</td>\n",
       "                        <td id=\"T_cfe82164_eeff_11ea_97c8_acde48001122row0_col2\" class=\"data row0 col2\" >Display modules with helpful display and clearing commands.</td>\n",
       "            </tr>\n",
       "            <tr>\n",
       "                                <td id=\"T_cfe82164_eeff_11ea_97c8_acde48001122row1_col0\" class=\"data row1 col0\" >fs</td>\n",
       "                        <td id=\"T_cfe82164_eeff_11ea_97c8_acde48001122row1_col1\" class=\"data row1 col1\" >fsds</td>\n",
       "                        <td id=\"T_cfe82164_eeff_11ea_97c8_acde48001122row1_col2\" class=\"data row1 col2\" >Custom data science bootcamp student package</td>\n",
       "            </tr>\n",
       "            <tr>\n",
       "                                <td id=\"T_cfe82164_eeff_11ea_97c8_acde48001122row2_col0\" class=\"data row2 col0\" >mpl</td>\n",
       "                        <td id=\"T_cfe82164_eeff_11ea_97c8_acde48001122row2_col1\" class=\"data row2 col1\" >matplotlib</td>\n",
       "                        <td id=\"T_cfe82164_eeff_11ea_97c8_acde48001122row2_col2\" class=\"data row2 col2\" >Matplotlib's base OOP module with formatting artists</td>\n",
       "            </tr>\n",
       "            <tr>\n",
       "                                <td id=\"T_cfe82164_eeff_11ea_97c8_acde48001122row3_col0\" class=\"data row3 col0\" >plt</td>\n",
       "                        <td id=\"T_cfe82164_eeff_11ea_97c8_acde48001122row3_col1\" class=\"data row3 col1\" >matplotlib.pyplot</td>\n",
       "                        <td id=\"T_cfe82164_eeff_11ea_97c8_acde48001122row3_col2\" class=\"data row3 col2\" >Matplotlib's matlab-like plotting module</td>\n",
       "            </tr>\n",
       "            <tr>\n",
       "                                <td id=\"T_cfe82164_eeff_11ea_97c8_acde48001122row4_col0\" class=\"data row4 col0\" >np</td>\n",
       "                        <td id=\"T_cfe82164_eeff_11ea_97c8_acde48001122row4_col1\" class=\"data row4 col1\" >numpy</td>\n",
       "                        <td id=\"T_cfe82164_eeff_11ea_97c8_acde48001122row4_col2\" class=\"data row4 col2\" >scientific computing with Python</td>\n",
       "            </tr>\n",
       "            <tr>\n",
       "                                <td id=\"T_cfe82164_eeff_11ea_97c8_acde48001122row5_col0\" class=\"data row5 col0\" >pd</td>\n",
       "                        <td id=\"T_cfe82164_eeff_11ea_97c8_acde48001122row5_col1\" class=\"data row5 col1\" >pandas</td>\n",
       "                        <td id=\"T_cfe82164_eeff_11ea_97c8_acde48001122row5_col2\" class=\"data row5 col2\" >High performance data structures and tools</td>\n",
       "            </tr>\n",
       "            <tr>\n",
       "                                <td id=\"T_cfe82164_eeff_11ea_97c8_acde48001122row6_col0\" class=\"data row6 col0\" >sns</td>\n",
       "                        <td id=\"T_cfe82164_eeff_11ea_97c8_acde48001122row6_col1\" class=\"data row6 col1\" >seaborn</td>\n",
       "                        <td id=\"T_cfe82164_eeff_11ea_97c8_acde48001122row6_col2\" class=\"data row6 col2\" >High-level data visualization library based on matplotlib</td>\n",
       "            </tr>\n",
       "    </tbody></table>"
      ],
      "text/plain": [
       "<pandas.io.formats.style.Styler at 0x7fdefb0670b8>"
      ]
     },
     "metadata": {},
     "output_type": "display_data"
    },
    {
     "data": {
      "text/html": [
       "        <script type=\"text/javascript\">\n",
       "        window.PlotlyConfig = {MathJaxConfig: 'local'};\n",
       "        if (window.MathJax) {MathJax.Hub.Config({SVG: {font: \"STIX-Web\"}});}\n",
       "        if (typeof require !== 'undefined') {\n",
       "        require.undef(\"plotly\");\n",
       "        requirejs.config({\n",
       "            paths: {\n",
       "                'plotly': ['https://cdn.plot.ly/plotly-latest.min']\n",
       "            }\n",
       "        });\n",
       "        require(['plotly'], function(Plotly) {\n",
       "            window._Plotly = Plotly;\n",
       "        });\n",
       "        }\n",
       "        </script>\n",
       "        "
      ]
     },
     "metadata": {},
     "output_type": "display_data"
    },
    {
     "data": {
      "text/html": [
       "        <script type=\"text/javascript\">\n",
       "        window.PlotlyConfig = {MathJaxConfig: 'local'};\n",
       "        if (window.MathJax) {MathJax.Hub.Config({SVG: {font: \"STIX-Web\"}});}\n",
       "        if (typeof require !== 'undefined') {\n",
       "        require.undef(\"plotly\");\n",
       "        requirejs.config({\n",
       "            paths: {\n",
       "                'plotly': ['https://cdn.plot.ly/plotly-latest.min']\n",
       "            }\n",
       "        });\n",
       "        require(['plotly'], function(Plotly) {\n",
       "            window._Plotly = Plotly;\n",
       "        });\n",
       "        }\n",
       "        </script>\n",
       "        "
      ]
     },
     "metadata": {},
     "output_type": "display_data"
    },
    {
     "name": "stdout",
     "output_type": "stream",
     "text": [
      "[i] Pandas .iplot() method activated.\n"
     ]
    }
   ],
   "source": [
    "# Import pandas and set the standard alias \n",
    "from fsds.imports import *"
   ]
  },
  {
   "cell_type": "code",
   "execution_count": 2,
   "metadata": {
    "ExecuteTime": {
     "end_time": "2020-09-04T22:41:46.924239Z",
     "start_time": "2020-09-04T22:41:46.720030Z"
    }
   },
   "outputs": [
    {
     "data": {
      "text/html": [
       "<div>\n",
       "<style scoped>\n",
       "    .dataframe tbody tr th:only-of-type {\n",
       "        vertical-align: middle;\n",
       "    }\n",
       "\n",
       "    .dataframe tbody tr th {\n",
       "        vertical-align: top;\n",
       "    }\n",
       "\n",
       "    .dataframe thead th {\n",
       "        text-align: right;\n",
       "    }\n",
       "</style>\n",
       "<table border=\"1\" class=\"dataframe\">\n",
       "  <thead>\n",
       "    <tr style=\"text-align: right;\">\n",
       "      <th></th>\n",
       "      <th>Survived</th>\n",
       "      <th>Pclass</th>\n",
       "      <th>Sex</th>\n",
       "      <th>Age</th>\n",
       "      <th>SibSp</th>\n",
       "      <th>Parch</th>\n",
       "      <th>Fare</th>\n",
       "      <th>Embarked</th>\n",
       "    </tr>\n",
       "  </thead>\n",
       "  <tbody>\n",
       "    <tr>\n",
       "      <th>0</th>\n",
       "      <td>0</td>\n",
       "      <td>3</td>\n",
       "      <td>male</td>\n",
       "      <td>22.0</td>\n",
       "      <td>1</td>\n",
       "      <td>0</td>\n",
       "      <td>7.2500</td>\n",
       "      <td>S</td>\n",
       "    </tr>\n",
       "    <tr>\n",
       "      <th>1</th>\n",
       "      <td>1</td>\n",
       "      <td>1</td>\n",
       "      <td>female</td>\n",
       "      <td>38.0</td>\n",
       "      <td>1</td>\n",
       "      <td>0</td>\n",
       "      <td>71.2833</td>\n",
       "      <td>C</td>\n",
       "    </tr>\n",
       "    <tr>\n",
       "      <th>2</th>\n",
       "      <td>1</td>\n",
       "      <td>3</td>\n",
       "      <td>female</td>\n",
       "      <td>26.0</td>\n",
       "      <td>0</td>\n",
       "      <td>0</td>\n",
       "      <td>7.9250</td>\n",
       "      <td>S</td>\n",
       "    </tr>\n",
       "    <tr>\n",
       "      <th>3</th>\n",
       "      <td>1</td>\n",
       "      <td>1</td>\n",
       "      <td>female</td>\n",
       "      <td>35.0</td>\n",
       "      <td>1</td>\n",
       "      <td>0</td>\n",
       "      <td>53.1000</td>\n",
       "      <td>S</td>\n",
       "    </tr>\n",
       "    <tr>\n",
       "      <th>4</th>\n",
       "      <td>0</td>\n",
       "      <td>3</td>\n",
       "      <td>male</td>\n",
       "      <td>35.0</td>\n",
       "      <td>0</td>\n",
       "      <td>0</td>\n",
       "      <td>8.0500</td>\n",
       "      <td>S</td>\n",
       "    </tr>\n",
       "    <tr>\n",
       "      <th>...</th>\n",
       "      <td>...</td>\n",
       "      <td>...</td>\n",
       "      <td>...</td>\n",
       "      <td>...</td>\n",
       "      <td>...</td>\n",
       "      <td>...</td>\n",
       "      <td>...</td>\n",
       "      <td>...</td>\n",
       "    </tr>\n",
       "    <tr>\n",
       "      <th>886</th>\n",
       "      <td>0</td>\n",
       "      <td>2</td>\n",
       "      <td>male</td>\n",
       "      <td>27.0</td>\n",
       "      <td>0</td>\n",
       "      <td>0</td>\n",
       "      <td>13.0000</td>\n",
       "      <td>S</td>\n",
       "    </tr>\n",
       "    <tr>\n",
       "      <th>887</th>\n",
       "      <td>1</td>\n",
       "      <td>1</td>\n",
       "      <td>female</td>\n",
       "      <td>19.0</td>\n",
       "      <td>0</td>\n",
       "      <td>0</td>\n",
       "      <td>30.0000</td>\n",
       "      <td>S</td>\n",
       "    </tr>\n",
       "    <tr>\n",
       "      <th>888</th>\n",
       "      <td>0</td>\n",
       "      <td>?</td>\n",
       "      <td>female</td>\n",
       "      <td>NaN</td>\n",
       "      <td>1</td>\n",
       "      <td>2</td>\n",
       "      <td>23.4500</td>\n",
       "      <td>S</td>\n",
       "    </tr>\n",
       "    <tr>\n",
       "      <th>889</th>\n",
       "      <td>1</td>\n",
       "      <td>1</td>\n",
       "      <td>male</td>\n",
       "      <td>26.0</td>\n",
       "      <td>0</td>\n",
       "      <td>0</td>\n",
       "      <td>30.0000</td>\n",
       "      <td>C</td>\n",
       "    </tr>\n",
       "    <tr>\n",
       "      <th>890</th>\n",
       "      <td>0</td>\n",
       "      <td>3</td>\n",
       "      <td>male</td>\n",
       "      <td>32.0</td>\n",
       "      <td>0</td>\n",
       "      <td>0</td>\n",
       "      <td>7.7500</td>\n",
       "      <td>Q</td>\n",
       "    </tr>\n",
       "  </tbody>\n",
       "</table>\n",
       "<p>891 rows × 8 columns</p>\n",
       "</div>"
      ],
      "text/plain": [
       "     Survived Pclass     Sex   Age  SibSp  Parch     Fare Embarked\n",
       "0           0      3    male  22.0      1      0   7.2500        S\n",
       "1           1      1  female  38.0      1      0  71.2833        C\n",
       "2           1      3  female  26.0      0      0   7.9250        S\n",
       "3           1      1  female  35.0      1      0  53.1000        S\n",
       "4           0      3    male  35.0      0      0   8.0500        S\n",
       "..        ...    ...     ...   ...    ...    ...      ...      ...\n",
       "886         0      2    male  27.0      0      0  13.0000        S\n",
       "887         1      1  female  19.0      0      0  30.0000        S\n",
       "888         0      ?  female   NaN      1      2  23.4500        S\n",
       "889         1      1    male  26.0      0      0  30.0000        C\n",
       "890         0      3    male  32.0      0      0   7.7500        Q\n",
       "\n",
       "[891 rows x 8 columns]"
      ]
     },
     "execution_count": 2,
     "metadata": {},
     "output_type": "execute_result"
    }
   ],
   "source": [
    "# Import the data from 'titanic.csv' and store it in a pandas DataFrame \n",
    "raw_df = fs.datasets.load_titanic(read_csv_kwds={'index_col':0})\n",
    "raw_df.drop(columns= ['PassengerId', 'Name', 'Ticket', 'Cabin'],\n",
    "            inplace=True)\n",
    "\n",
    "# Print the head of the DataFrame to ensure everything loaded correctly \n",
    "df = raw_df.copy()\n",
    "df"
   ]
  },
  {
   "cell_type": "markdown",
   "metadata": {},
   "source": [
    "> ### Create training and test sets\n",
    "* Use `train_test_split()` to split the data into training and test sets, with a `test_size` of `0.25`. Set the `random_state` to 42 "
   ]
  },
  {
   "cell_type": "code",
   "execution_count": 3,
   "metadata": {
    "ExecuteTime": {
     "end_time": "2020-09-04T22:41:46.934788Z",
     "start_time": "2020-09-04T22:41:46.926639Z"
    }
   },
   "outputs": [
    {
     "name": "stdout",
     "output_type": "stream",
     "text": [
      "(668, 7)\n",
      "(223, 7)\n"
     ]
    }
   ],
   "source": [
    "from sklearn.model_selection import train_test_split\n",
    "\n",
    "## Get X, y and train-test-split\n",
    "target = 'Survived'\n",
    "X = df.drop(columns=target).copy()\n",
    "y = df[target].copy()\n",
    "\n",
    "\n",
    "## train tst split\n",
    "X_train, X_test, y_train, y_test = train_test_split(X,y,test_size=.25,\n",
    "                                                    random_state=42)\n",
    "[print(var.shape) for var in [X_train, X_test]];"
   ]
  },
  {
   "cell_type": "markdown",
   "metadata": {},
   "source": [
    "### Required Preprocessing"
   ]
  },
  {
   "cell_type": "markdown",
   "metadata": {},
   "source": [
    "> Since you've done this before, you should be able to do this quite well yourself without much hand holding by now. In the cells below, complete the following steps:\n",
    "1. ~~Remove unnecessary columns (`'PassengerId'`, `'Name'`, `'Ticket'`, and `'Cabin'`) ~~\n",
    "2. Convert `'Sex'` to a binary encoding, where female is `0` and male is `1` \n",
    "3. Detect and deal with any missing values in the dataset:  \n",
    "    * For `'Age'`, replace missing values with the median age for the dataset  \n",
    "    * For `'Embarked'`, drop the rows that contain missing values\n",
    "4. One-hot encode categorical columns such as `'Embarked'` \n",
    "5. Store the target column, `'Survived'`, in a separate variable and remove it from the DataFrame  "
   ]
  },
  {
   "cell_type": "markdown",
   "metadata": {},
   "source": [
    "> #### Normalizing the data \n",
    "* Import and instantiate `StandardScaler` \n",
    "* Use the scaler's `.fit_transform()` method to create a scaled version of the training dataset  \n",
    "* Use the scaler's `.transform()` method to create a scaled version of the test dataset  \n",
    "* The result returned by `.fit_transform()` and `.transform()` methods will be numpy arrays, not a pandas DataFrame. Create a new pandas DataFrame out of this object called `scaled_df`. To set the column names back to their original state, set the `columns` parameter to `one_hot_df.columns` \n",
    "* Print the head of `scaled_df` to ensure everything worked correctly "
   ]
  },
  {
   "cell_type": "markdown",
   "metadata": {},
   "source": [
    "## Preprocessing with Pipelines +  `ColumnTransformer`\n",
    "\n",
    "- [Pipeline Documentation](https://scikit-learn.org/stable/modules/generated/sklearn.pipeline.Pipeline.html)\n",
    "- [ColumnTransformer Documentation](https://scikit-learn.org/stable/auto_examples/compose/plot_column_transformer_mixed_types.html)"
   ]
  },
  {
   "cell_type": "code",
   "execution_count": 4,
   "metadata": {
    "ExecuteTime": {
     "end_time": "2020-09-04T22:41:46.942382Z",
     "start_time": "2020-09-04T22:41:46.937017Z"
    }
   },
   "outputs": [],
   "source": [
    "from sklearn.pipeline import Pipeline"
   ]
  },
  {
   "cell_type": "code",
   "execution_count": 5,
   "metadata": {
    "ExecuteTime": {
     "end_time": "2020-09-04T22:41:46.998181Z",
     "start_time": "2020-09-04T22:41:46.944450Z"
    }
   },
   "outputs": [],
   "source": [
    "from sklearn.impute import SimpleImputer\n",
    "from sklearn.preprocessing import StandardScaler, OneHotEncoder"
   ]
  },
  {
   "cell_type": "markdown",
   "metadata": {},
   "source": [
    "### Preprocess Numeric Columns"
   ]
  },
  {
   "cell_type": "code",
   "execution_count": 6,
   "metadata": {
    "ExecuteTime": {
     "end_time": "2020-09-04T22:41:47.007438Z",
     "start_time": "2020-09-04T22:41:46.999961Z"
    }
   },
   "outputs": [
    {
     "data": {
      "text/plain": [
       "['Age', 'SibSp', 'Parch', 'Fare']"
      ]
     },
     "execution_count": 6,
     "metadata": {},
     "output_type": "execute_result"
    }
   ],
   "source": [
    "## Get list of numeric features to sacle\n",
    "num_cols = X_train.select_dtypes('number').columns.tolist()\n",
    "num_cols"
   ]
  },
  {
   "cell_type": "code",
   "execution_count": 7,
   "metadata": {
    "ExecuteTime": {
     "end_time": "2020-09-04T22:41:47.012273Z",
     "start_time": "2020-09-04T22:41:47.009223Z"
    }
   },
   "outputs": [],
   "source": [
    "## Create a num_trasnformer pipeline \n",
    "## that will impute using median and then calculate z-scores\n",
    "num_transformer = Pipeline(steps=[\n",
    "    ('imputer',SimpleImputer(strategy='median')),\n",
    "    ('scaler',StandardScaler())])"
   ]
  },
  {
   "cell_type": "code",
   "execution_count": 8,
   "metadata": {
    "ExecuteTime": {
     "end_time": "2020-09-04T22:41:47.018087Z",
     "start_time": "2020-09-04T22:41:47.016139Z"
    }
   },
   "outputs": [],
   "source": [
    "## .fit_transform X_train\n",
    "# X_train_tf = num_transformer.fit_transform(X_train)"
   ]
  },
  {
   "cell_type": "code",
   "execution_count": 9,
   "metadata": {
    "ExecuteTime": {
     "end_time": "2020-09-04T22:41:47.036469Z",
     "start_time": "2020-09-04T22:41:47.020944Z"
    }
   },
   "outputs": [
    {
     "data": {
      "text/plain": [
       "array([[-0.08764782, -0.46765956, -0.46887833, -0.0325683 ],\n",
       "       [-0.31820308, -0.46765956, -0.46887833, -0.48733085],\n",
       "       [-0.39505484, -0.46765956,  2.04687047, -0.34285405],\n",
       "       ...,\n",
       "       [ 0.91142501,  1.22097065, -0.46887833, -0.35045024],\n",
       "       [-1.1635724 ,  0.37665554,  2.04687047,  1.7030926 ],\n",
       "       [-0.62561011, -0.46765956,  0.78899607,  0.8747751 ]])"
      ]
     },
     "execution_count": 9,
     "metadata": {},
     "output_type": "execute_result"
    }
   ],
   "source": [
    "X_train_tf_num = num_transformer.fit_transform(X_train[num_cols])\n",
    "X_test_tf_num = num_transformer.transform(X_train[num_cols])\n",
    "X_train_tf_num"
   ]
  },
  {
   "cell_type": "code",
   "execution_count": 10,
   "metadata": {
    "ExecuteTime": {
     "end_time": "2020-09-04T22:41:47.043294Z",
     "start_time": "2020-09-04T22:41:47.038171Z"
    }
   },
   "outputs": [
    {
     "data": {
      "text/plain": [
       "['Pclass', 'Sex', 'Embarked']"
      ]
     },
     "execution_count": 10,
     "metadata": {},
     "output_type": "execute_result"
    }
   ],
   "source": [
    "## Get list of cat features to encode\n",
    "cat_cols = X.select_dtypes('O').columns.tolist()\n",
    "cat_cols"
   ]
  },
  {
   "cell_type": "code",
   "execution_count": 11,
   "metadata": {
    "ExecuteTime": {
     "end_time": "2020-09-04T22:41:47.048509Z",
     "start_time": "2020-09-04T22:41:47.044907Z"
    }
   },
   "outputs": [],
   "source": [
    "## Create a cat_transformer pipeline \n",
    "## that will impute using median and then calculate z-scores\n",
    "cat_transformer = Pipeline(steps=[\n",
    "    ('imputer',SimpleImputer(strategy='constant',fill_value='missing')),\n",
    "    ('encoder',OneHotEncoder(handle_unknown='ignore'))])"
   ]
  },
  {
   "cell_type": "code",
   "execution_count": 12,
   "metadata": {
    "ExecuteTime": {
     "end_time": "2020-09-04T22:41:47.067000Z",
     "start_time": "2020-09-04T22:41:47.050895Z"
    }
   },
   "outputs": [
    {
     "data": {
      "text/plain": [
       "(668, 10)"
      ]
     },
     "execution_count": 12,
     "metadata": {},
     "output_type": "execute_result"
    }
   ],
   "source": [
    "X_train_tf_ohe = cat_transformer.fit_transform(X_train[cat_cols])\n",
    "X_test_tf_ohe = cat_transformer.transform(X_test[cat_cols])\n",
    "X_train_tf_ohe.todense().shape"
   ]
  },
  {
   "cell_type": "markdown",
   "metadata": {},
   "source": [
    "## Putting it all together with ColumnTransformer"
   ]
  },
  {
   "cell_type": "markdown",
   "metadata": {},
   "source": [
    "- Column Transformer DOocumentation: \n",
    "- https://scikit-learn.org/stable/modules/generated/sklearn.compose.ColumnTransformer.html"
   ]
  },
  {
   "cell_type": "code",
   "execution_count": 13,
   "metadata": {
    "ExecuteTime": {
     "end_time": "2020-09-04T22:41:47.073843Z",
     "start_time": "2020-09-04T22:41:47.068945Z"
    }
   },
   "outputs": [],
   "source": [
    "from sklearn.compose import ColumnTransformer\n",
    "from sklearn import set_config\n",
    "set_config(display='text')#'diagram')"
   ]
  },
  {
   "cell_type": "code",
   "execution_count": 14,
   "metadata": {
    "ExecuteTime": {
     "end_time": "2020-09-04T22:41:47.085795Z",
     "start_time": "2020-09-04T22:41:47.075531Z"
    }
   },
   "outputs": [
    {
     "data": {
      "text/plain": [
       "Pipeline(steps=[('imputer', SimpleImputer(strategy='median')),\n",
       "                ('scaler', StandardScaler())])"
      ]
     },
     "metadata": {},
     "output_type": "display_data"
    },
    {
     "data": {
      "text/plain": [
       "Pipeline(steps=[('imputer',\n",
       "                 SimpleImputer(fill_value='missing', strategy='constant')),\n",
       "                ('encoder', OneHotEncoder(handle_unknown='ignore'))])"
      ]
     },
     "metadata": {},
     "output_type": "display_data"
    }
   ],
   "source": [
    "display(num_transformer)\n",
    "display(cat_transformer)"
   ]
  },
  {
   "cell_type": "code",
   "execution_count": 15,
   "metadata": {
    "ExecuteTime": {
     "end_time": "2020-09-04T22:41:47.090116Z",
     "start_time": "2020-09-04T22:41:47.087388Z"
    }
   },
   "outputs": [],
   "source": [
    "## COMBINE BOTH PIPELINES INTO ONE WITH COLUMN TRANSFORMER\n",
    "preprocessing = ColumnTransformer(transformers=[\n",
    "        ('num',num_transformer,num_cols),\n",
    "        ('cat',cat_transformer,cat_cols)], verbose=False)"
   ]
  },
  {
   "cell_type": "markdown",
   "metadata": {},
   "source": [
    "### Viewing Pipeline"
   ]
  },
  {
   "cell_type": "code",
   "execution_count": 16,
   "metadata": {
    "ExecuteTime": {
     "end_time": "2020-09-04T22:41:47.146155Z",
     "start_time": "2020-09-04T22:41:47.092077Z"
    }
   },
   "outputs": [
    {
     "data": {
      "text/html": [
       "<style>div.sk-top-container {color: black;background-color: white;}div.sk-toggleable {background-color: white;}label.sk-toggleable__label {cursor: pointer;display: block;width: 100%;margin-bottom: 0;padding: 0.2em 0.3em;box-sizing: border-box;text-align: center;}div.sk-toggleable__content {max-height: 0;max-width: 0;overflow: hidden;text-align: left;background-color: #f0f8ff;}div.sk-toggleable__content pre {margin: 0.2em;color: black;border-radius: 0.25em;background-color: #f0f8ff;}input.sk-toggleable__control:checked~div.sk-toggleable__content {max-height: 200px;max-width: 100%;overflow: auto;}div.sk-estimator input.sk-toggleable__control:checked~label.sk-toggleable__label {background-color: #d4ebff;}div.sk-label input.sk-toggleable__control:checked~label.sk-toggleable__label {background-color: #d4ebff;}input.sk-hidden--visually {border: 0;clip: rect(1px 1px 1px 1px);clip: rect(1px, 1px, 1px, 1px);height: 1px;margin: -1px;overflow: hidden;padding: 0;position: absolute;width: 1px;}div.sk-estimator {font-family: monospace;background-color: #f0f8ff;margin: 0.25em 0.25em;border: 1px dotted black;border-radius: 0.25em;box-sizing: border-box;}div.sk-estimator:hover {background-color: #d4ebff;}div.sk-parallel-item::after {content: \"\";width: 100%;border-bottom: 1px solid gray;flex-grow: 1;}div.sk-label:hover label.sk-toggleable__label {background-color: #d4ebff;}div.sk-serial::before {content: \"\";position: absolute;border-left: 1px solid gray;box-sizing: border-box;top: 2em;bottom: 0;left: 50%;}div.sk-serial {display: flex;flex-direction: column;align-items: center;background-color: white;}div.sk-item {z-index: 1;}div.sk-parallel {display: flex;align-items: stretch;justify-content: center;background-color: white;}div.sk-parallel-item {display: flex;flex-direction: column;position: relative;background-color: white;}div.sk-parallel-item:first-child::after {align-self: flex-end;width: 50%;}div.sk-parallel-item:last-child::after {align-self: flex-start;width: 50%;}div.sk-parallel-item:only-child::after {width: 0;}div.sk-dashed-wrapped {border: 1px dashed gray;margin: 0.2em;box-sizing: border-box;padding-bottom: 0.1em;background-color: white;position: relative;}div.sk-label label {font-family: monospace;font-weight: bold;background-color: white;display: inline-block;line-height: 1.2em;}div.sk-label-container {position: relative;z-index: 2;text-align: center;}div.sk-container {display: inline-block;position: relative;}</style><div class=\"sk-top-container\"><div class=\"sk-container\"><div class=\"sk-item sk-dashed-wrapped\"><div class=\"sk-label-container\"><div class=\"sk-label sk-toggleable\"><input class=\"sk-toggleable__control sk-hidden--visually\" id=\"2cee4024-eaa0-4980-8412-acd4d12f13c0\" type=\"checkbox\" ><label class=\"sk-toggleable__label\" for=\"2cee4024-eaa0-4980-8412-acd4d12f13c0\">ColumnTransformer</label><div class=\"sk-toggleable__content\"><pre>ColumnTransformer(transformers=[('num',\n",
       "                                 Pipeline(steps=[('imputer',\n",
       "                                                  SimpleImputer(strategy='median')),\n",
       "                                                 ('scaler', StandardScaler())]),\n",
       "                                 ['Age', 'SibSp', 'Parch', 'Fare']),\n",
       "                                ('cat',\n",
       "                                 Pipeline(steps=[('imputer',\n",
       "                                                  SimpleImputer(fill_value='missing',\n",
       "                                                                strategy='constant')),\n",
       "                                                 ('encoder',\n",
       "                                                  OneHotEncoder(handle_unknown='ignore'))]),\n",
       "                                 ['Pclass', 'Sex', 'Embarked'])])</pre></div></div></div><div class=\"sk-parallel\"><div class=\"sk-parallel-item\"><div class=\"sk-item\"><div class=\"sk-label-container\"><div class=\"sk-label sk-toggleable\"><input class=\"sk-toggleable__control sk-hidden--visually\" id=\"96506f17-7b6e-4e22-9bf0-2616fbe30817\" type=\"checkbox\" ><label class=\"sk-toggleable__label\" for=\"96506f17-7b6e-4e22-9bf0-2616fbe30817\">num</label><div class=\"sk-toggleable__content\"><pre>['Age', 'SibSp', 'Parch', 'Fare']</pre></div></div></div><div class=\"sk-serial\"><div class=\"sk-item\"><div class=\"sk-serial\"><div class=\"sk-item\"><div class=\"sk-estimator sk-toggleable\"><input class=\"sk-toggleable__control sk-hidden--visually\" id=\"1b58cb33-f9b1-42ad-b179-c67446fdf217\" type=\"checkbox\" ><label class=\"sk-toggleable__label\" for=\"1b58cb33-f9b1-42ad-b179-c67446fdf217\">SimpleImputer</label><div class=\"sk-toggleable__content\"><pre>SimpleImputer(strategy='median')</pre></div></div></div><div class=\"sk-item\"><div class=\"sk-estimator sk-toggleable\"><input class=\"sk-toggleable__control sk-hidden--visually\" id=\"f2ab44e7-af0d-4c57-b4f2-1f7eb874ed18\" type=\"checkbox\" ><label class=\"sk-toggleable__label\" for=\"f2ab44e7-af0d-4c57-b4f2-1f7eb874ed18\">StandardScaler</label><div class=\"sk-toggleable__content\"><pre>StandardScaler()</pre></div></div></div></div></div></div></div></div><div class=\"sk-parallel-item\"><div class=\"sk-item\"><div class=\"sk-label-container\"><div class=\"sk-label sk-toggleable\"><input class=\"sk-toggleable__control sk-hidden--visually\" id=\"1efc06a3-ea8c-4340-b238-2b5e7168177b\" type=\"checkbox\" ><label class=\"sk-toggleable__label\" for=\"1efc06a3-ea8c-4340-b238-2b5e7168177b\">cat</label><div class=\"sk-toggleable__content\"><pre>['Pclass', 'Sex', 'Embarked']</pre></div></div></div><div class=\"sk-serial\"><div class=\"sk-item\"><div class=\"sk-serial\"><div class=\"sk-item\"><div class=\"sk-estimator sk-toggleable\"><input class=\"sk-toggleable__control sk-hidden--visually\" id=\"c1e5d5b8-eaa4-49f6-9c76-56d7d437cd16\" type=\"checkbox\" ><label class=\"sk-toggleable__label\" for=\"c1e5d5b8-eaa4-49f6-9c76-56d7d437cd16\">SimpleImputer</label><div class=\"sk-toggleable__content\"><pre>SimpleImputer(fill_value='missing', strategy='constant')</pre></div></div></div><div class=\"sk-item\"><div class=\"sk-estimator sk-toggleable\"><input class=\"sk-toggleable__control sk-hidden--visually\" id=\"902b7e90-cbb7-4ac9-8198-0b705b4c89b0\" type=\"checkbox\" ><label class=\"sk-toggleable__label\" for=\"902b7e90-cbb7-4ac9-8198-0b705b4c89b0\">OneHotEncoder</label><div class=\"sk-toggleable__content\"><pre>OneHotEncoder(handle_unknown='ignore')</pre></div></div></div></div></div></div></div></div></div></div></div></div>"
      ],
      "text/plain": [
       "ColumnTransformer(transformers=[('num',\n",
       "                                 Pipeline(steps=[('imputer',\n",
       "                                                  SimpleImputer(strategy='median')),\n",
       "                                                 ('scaler', StandardScaler())]),\n",
       "                                 ['Age', 'SibSp', 'Parch', 'Fare']),\n",
       "                                ('cat',\n",
       "                                 Pipeline(steps=[('imputer',\n",
       "                                                  SimpleImputer(fill_value='missing',\n",
       "                                                                strategy='constant')),\n",
       "                                                 ('encoder',\n",
       "                                                  OneHotEncoder(handle_unknown='ignore'))]),\n",
       "                                 ['Pclass', 'Sex', 'Embarked'])])"
      ]
     },
     "execution_count": 16,
     "metadata": {},
     "output_type": "execute_result"
    }
   ],
   "source": [
    "from sklearn import set_config\n",
    "set_config(display='diagram')\n",
    "\n",
    "preprocessing"
   ]
  },
  {
   "cell_type": "code",
   "execution_count": 17,
   "metadata": {
    "ExecuteTime": {
     "end_time": "2020-09-04T22:41:47.175080Z",
     "start_time": "2020-09-04T22:41:47.148416Z"
    }
   },
   "outputs": [
    {
     "data": {
      "text/plain": [
       "array([[-0.08764782, -0.46765956, -0.46887833, ...,  0.        ,\n",
       "         1.        ,  0.        ],\n",
       "       [-0.31820308, -0.46765956, -0.46887833, ...,  0.        ,\n",
       "         1.        ,  0.        ],\n",
       "       [-0.39505484, -0.46765956,  2.04687047, ...,  0.        ,\n",
       "         1.        ,  0.        ],\n",
       "       ...,\n",
       "       [ 0.91142501,  1.22097065, -0.46887833, ...,  0.        ,\n",
       "         1.        ,  0.        ],\n",
       "       [-1.1635724 ,  0.37665554,  2.04687047, ...,  0.        ,\n",
       "         1.        ,  0.        ],\n",
       "       [-0.62561011, -0.46765956,  0.78899607, ...,  0.        ,\n",
       "         1.        ,  0.        ]])"
      ]
     },
     "execution_count": 17,
     "metadata": {},
     "output_type": "execute_result"
    }
   ],
   "source": [
    "X_train_tf = preprocessing.fit_transform(X_train)\n",
    "X_test_tf = preprocessing.transform(X_test)\n",
    "X_train_tf"
   ]
  },
  {
   "cell_type": "markdown",
   "metadata": {},
   "source": [
    "### Finding Feature Names"
   ]
  },
  {
   "cell_type": "code",
   "execution_count": 18,
   "metadata": {
    "ExecuteTime": {
     "end_time": "2020-09-04T22:41:47.179621Z",
     "start_time": "2020-09-04T22:41:47.177245Z"
    }
   },
   "outputs": [],
   "source": [
    "set_config(display='diagram')"
   ]
  },
  {
   "cell_type": "code",
   "execution_count": 19,
   "metadata": {
    "ExecuteTime": {
     "end_time": "2020-09-04T22:41:47.234767Z",
     "start_time": "2020-09-04T22:41:47.181609Z"
    }
   },
   "outputs": [
    {
     "data": {
      "text/html": [
       "<style>div.sk-top-container {color: black;background-color: white;}div.sk-toggleable {background-color: white;}label.sk-toggleable__label {cursor: pointer;display: block;width: 100%;margin-bottom: 0;padding: 0.2em 0.3em;box-sizing: border-box;text-align: center;}div.sk-toggleable__content {max-height: 0;max-width: 0;overflow: hidden;text-align: left;background-color: #f0f8ff;}div.sk-toggleable__content pre {margin: 0.2em;color: black;border-radius: 0.25em;background-color: #f0f8ff;}input.sk-toggleable__control:checked~div.sk-toggleable__content {max-height: 200px;max-width: 100%;overflow: auto;}div.sk-estimator input.sk-toggleable__control:checked~label.sk-toggleable__label {background-color: #d4ebff;}div.sk-label input.sk-toggleable__control:checked~label.sk-toggleable__label {background-color: #d4ebff;}input.sk-hidden--visually {border: 0;clip: rect(1px 1px 1px 1px);clip: rect(1px, 1px, 1px, 1px);height: 1px;margin: -1px;overflow: hidden;padding: 0;position: absolute;width: 1px;}div.sk-estimator {font-family: monospace;background-color: #f0f8ff;margin: 0.25em 0.25em;border: 1px dotted black;border-radius: 0.25em;box-sizing: border-box;}div.sk-estimator:hover {background-color: #d4ebff;}div.sk-parallel-item::after {content: \"\";width: 100%;border-bottom: 1px solid gray;flex-grow: 1;}div.sk-label:hover label.sk-toggleable__label {background-color: #d4ebff;}div.sk-serial::before {content: \"\";position: absolute;border-left: 1px solid gray;box-sizing: border-box;top: 2em;bottom: 0;left: 50%;}div.sk-serial {display: flex;flex-direction: column;align-items: center;background-color: white;}div.sk-item {z-index: 1;}div.sk-parallel {display: flex;align-items: stretch;justify-content: center;background-color: white;}div.sk-parallel-item {display: flex;flex-direction: column;position: relative;background-color: white;}div.sk-parallel-item:first-child::after {align-self: flex-end;width: 50%;}div.sk-parallel-item:last-child::after {align-self: flex-start;width: 50%;}div.sk-parallel-item:only-child::after {width: 0;}div.sk-dashed-wrapped {border: 1px dashed gray;margin: 0.2em;box-sizing: border-box;padding-bottom: 0.1em;background-color: white;position: relative;}div.sk-label label {font-family: monospace;font-weight: bold;background-color: white;display: inline-block;line-height: 1.2em;}div.sk-label-container {position: relative;z-index: 2;text-align: center;}div.sk-container {display: inline-block;position: relative;}</style><div class=\"sk-top-container\"><div class=\"sk-container\"><div class=\"sk-item sk-dashed-wrapped\"><div class=\"sk-label-container\"><div class=\"sk-label sk-toggleable\"><input class=\"sk-toggleable__control sk-hidden--visually\" id=\"70945063-2479-4dbb-928c-a4e683632922\" type=\"checkbox\" ><label class=\"sk-toggleable__label\" for=\"70945063-2479-4dbb-928c-a4e683632922\">ColumnTransformer</label><div class=\"sk-toggleable__content\"><pre>ColumnTransformer(transformers=[('num',\n",
       "                                 Pipeline(steps=[('imputer',\n",
       "                                                  SimpleImputer(strategy='median')),\n",
       "                                                 ('scaler', StandardScaler())]),\n",
       "                                 ['Age', 'SibSp', 'Parch', 'Fare']),\n",
       "                                ('cat',\n",
       "                                 Pipeline(steps=[('imputer',\n",
       "                                                  SimpleImputer(fill_value='missing',\n",
       "                                                                strategy='constant')),\n",
       "                                                 ('encoder',\n",
       "                                                  OneHotEncoder(handle_unknown='ignore'))]),\n",
       "                                 ['Pclass', 'Sex', 'Embarked'])])</pre></div></div></div><div class=\"sk-parallel\"><div class=\"sk-parallel-item\"><div class=\"sk-item\"><div class=\"sk-label-container\"><div class=\"sk-label sk-toggleable\"><input class=\"sk-toggleable__control sk-hidden--visually\" id=\"c863d94a-c291-4e12-827a-8356f0fca65b\" type=\"checkbox\" ><label class=\"sk-toggleable__label\" for=\"c863d94a-c291-4e12-827a-8356f0fca65b\">num</label><div class=\"sk-toggleable__content\"><pre>['Age', 'SibSp', 'Parch', 'Fare']</pre></div></div></div><div class=\"sk-serial\"><div class=\"sk-item\"><div class=\"sk-serial\"><div class=\"sk-item\"><div class=\"sk-estimator sk-toggleable\"><input class=\"sk-toggleable__control sk-hidden--visually\" id=\"46373a29-6117-4376-bd1d-c6ca37ba8ffe\" type=\"checkbox\" ><label class=\"sk-toggleable__label\" for=\"46373a29-6117-4376-bd1d-c6ca37ba8ffe\">SimpleImputer</label><div class=\"sk-toggleable__content\"><pre>SimpleImputer(strategy='median')</pre></div></div></div><div class=\"sk-item\"><div class=\"sk-estimator sk-toggleable\"><input class=\"sk-toggleable__control sk-hidden--visually\" id=\"14ec3d3c-fa62-41e0-acb8-d29fa100cc37\" type=\"checkbox\" ><label class=\"sk-toggleable__label\" for=\"14ec3d3c-fa62-41e0-acb8-d29fa100cc37\">StandardScaler</label><div class=\"sk-toggleable__content\"><pre>StandardScaler()</pre></div></div></div></div></div></div></div></div><div class=\"sk-parallel-item\"><div class=\"sk-item\"><div class=\"sk-label-container\"><div class=\"sk-label sk-toggleable\"><input class=\"sk-toggleable__control sk-hidden--visually\" id=\"cc226438-cd77-42b1-9f2a-bfa592d7db96\" type=\"checkbox\" ><label class=\"sk-toggleable__label\" for=\"cc226438-cd77-42b1-9f2a-bfa592d7db96\">cat</label><div class=\"sk-toggleable__content\"><pre>['Pclass', 'Sex', 'Embarked']</pre></div></div></div><div class=\"sk-serial\"><div class=\"sk-item\"><div class=\"sk-serial\"><div class=\"sk-item\"><div class=\"sk-estimator sk-toggleable\"><input class=\"sk-toggleable__control sk-hidden--visually\" id=\"162c2ae6-2155-4863-8ae9-2208f6f04599\" type=\"checkbox\" ><label class=\"sk-toggleable__label\" for=\"162c2ae6-2155-4863-8ae9-2208f6f04599\">SimpleImputer</label><div class=\"sk-toggleable__content\"><pre>SimpleImputer(fill_value='missing', strategy='constant')</pre></div></div></div><div class=\"sk-item\"><div class=\"sk-estimator sk-toggleable\"><input class=\"sk-toggleable__control sk-hidden--visually\" id=\"1407d404-c88f-4867-9701-ec07f2f3770c\" type=\"checkbox\" ><label class=\"sk-toggleable__label\" for=\"1407d404-c88f-4867-9701-ec07f2f3770c\">OneHotEncoder</label><div class=\"sk-toggleable__content\"><pre>OneHotEncoder(handle_unknown='ignore')</pre></div></div></div></div></div></div></div></div></div></div></div></div>"
      ],
      "text/plain": [
       "ColumnTransformer(transformers=[('num',\n",
       "                                 Pipeline(steps=[('imputer',\n",
       "                                                  SimpleImputer(strategy='median')),\n",
       "                                                 ('scaler', StandardScaler())]),\n",
       "                                 ['Age', 'SibSp', 'Parch', 'Fare']),\n",
       "                                ('cat',\n",
       "                                 Pipeline(steps=[('imputer',\n",
       "                                                  SimpleImputer(fill_value='missing',\n",
       "                                                                strategy='constant')),\n",
       "                                                 ('encoder',\n",
       "                                                  OneHotEncoder(handle_unknown='ignore'))]),\n",
       "                                 ['Pclass', 'Sex', 'Embarked'])])"
      ]
     },
     "execution_count": 19,
     "metadata": {},
     "output_type": "execute_result"
    }
   ],
   "source": [
    "preprocessing"
   ]
  },
  {
   "cell_type": "code",
   "execution_count": 20,
   "metadata": {
    "ExecuteTime": {
     "end_time": "2020-09-04T22:41:47.247846Z",
     "start_time": "2020-09-04T22:41:47.236753Z"
    }
   },
   "outputs": [
    {
     "data": {
      "text/html": [
       "<style>div.sk-top-container {color: black;background-color: white;}div.sk-toggleable {background-color: white;}label.sk-toggleable__label {cursor: pointer;display: block;width: 100%;margin-bottom: 0;padding: 0.2em 0.3em;box-sizing: border-box;text-align: center;}div.sk-toggleable__content {max-height: 0;max-width: 0;overflow: hidden;text-align: left;background-color: #f0f8ff;}div.sk-toggleable__content pre {margin: 0.2em;color: black;border-radius: 0.25em;background-color: #f0f8ff;}input.sk-toggleable__control:checked~div.sk-toggleable__content {max-height: 200px;max-width: 100%;overflow: auto;}div.sk-estimator input.sk-toggleable__control:checked~label.sk-toggleable__label {background-color: #d4ebff;}div.sk-label input.sk-toggleable__control:checked~label.sk-toggleable__label {background-color: #d4ebff;}input.sk-hidden--visually {border: 0;clip: rect(1px 1px 1px 1px);clip: rect(1px, 1px, 1px, 1px);height: 1px;margin: -1px;overflow: hidden;padding: 0;position: absolute;width: 1px;}div.sk-estimator {font-family: monospace;background-color: #f0f8ff;margin: 0.25em 0.25em;border: 1px dotted black;border-radius: 0.25em;box-sizing: border-box;}div.sk-estimator:hover {background-color: #d4ebff;}div.sk-parallel-item::after {content: \"\";width: 100%;border-bottom: 1px solid gray;flex-grow: 1;}div.sk-label:hover label.sk-toggleable__label {background-color: #d4ebff;}div.sk-serial::before {content: \"\";position: absolute;border-left: 1px solid gray;box-sizing: border-box;top: 2em;bottom: 0;left: 50%;}div.sk-serial {display: flex;flex-direction: column;align-items: center;background-color: white;}div.sk-item {z-index: 1;}div.sk-parallel {display: flex;align-items: stretch;justify-content: center;background-color: white;}div.sk-parallel-item {display: flex;flex-direction: column;position: relative;background-color: white;}div.sk-parallel-item:first-child::after {align-self: flex-end;width: 50%;}div.sk-parallel-item:last-child::after {align-self: flex-start;width: 50%;}div.sk-parallel-item:only-child::after {width: 0;}div.sk-dashed-wrapped {border: 1px dashed gray;margin: 0.2em;box-sizing: border-box;padding-bottom: 0.1em;background-color: white;position: relative;}div.sk-label label {font-family: monospace;font-weight: bold;background-color: white;display: inline-block;line-height: 1.2em;}div.sk-label-container {position: relative;z-index: 2;text-align: center;}div.sk-container {display: inline-block;position: relative;}</style><div class=\"sk-top-container\"><div class=\"sk-container\"><div class=\"sk-item sk-dashed-wrapped\"><div class=\"sk-label-container\"><div class=\"sk-label sk-toggleable\"><input class=\"sk-toggleable__control sk-hidden--visually\" id=\"1479c26c-4054-423a-90c4-6d0d3c271120\" type=\"checkbox\" ><label class=\"sk-toggleable__label\" for=\"1479c26c-4054-423a-90c4-6d0d3c271120\">Pipeline</label><div class=\"sk-toggleable__content\"><pre>Pipeline(steps=[('imputer',\n",
       "                 SimpleImputer(fill_value='missing', strategy='constant')),\n",
       "                ('encoder', OneHotEncoder(handle_unknown='ignore'))])</pre></div></div></div><div class=\"sk-serial\"><div class=\"sk-item\"><div class=\"sk-estimator sk-toggleable\"><input class=\"sk-toggleable__control sk-hidden--visually\" id=\"05a72f72-01c7-4522-9a9d-200755af7540\" type=\"checkbox\" ><label class=\"sk-toggleable__label\" for=\"05a72f72-01c7-4522-9a9d-200755af7540\">SimpleImputer</label><div class=\"sk-toggleable__content\"><pre>SimpleImputer(fill_value='missing', strategy='constant')</pre></div></div></div><div class=\"sk-item\"><div class=\"sk-estimator sk-toggleable\"><input class=\"sk-toggleable__control sk-hidden--visually\" id=\"9bf79729-394e-4c69-8777-360294d7a81f\" type=\"checkbox\" ><label class=\"sk-toggleable__label\" for=\"9bf79729-394e-4c69-8777-360294d7a81f\">OneHotEncoder</label><div class=\"sk-toggleable__content\"><pre>OneHotEncoder(handle_unknown='ignore')</pre></div></div></div></div></div></div></div>"
      ],
      "text/plain": [
       "Pipeline(steps=[('imputer',\n",
       "                 SimpleImputer(fill_value='missing', strategy='constant')),\n",
       "                ('encoder', OneHotEncoder(handle_unknown='ignore'))])"
      ]
     },
     "execution_count": 20,
     "metadata": {},
     "output_type": "execute_result"
    }
   ],
   "source": [
    "preprocessing.named_transformers_['cat']"
   ]
  },
  {
   "cell_type": "code",
   "execution_count": 21,
   "metadata": {
    "ExecuteTime": {
     "end_time": "2020-09-04T22:41:47.254909Z",
     "start_time": "2020-09-04T22:41:47.249987Z"
    }
   },
   "outputs": [
    {
     "data": {
      "text/html": [
       "<style>div.sk-top-container {color: black;background-color: white;}div.sk-toggleable {background-color: white;}label.sk-toggleable__label {cursor: pointer;display: block;width: 100%;margin-bottom: 0;padding: 0.2em 0.3em;box-sizing: border-box;text-align: center;}div.sk-toggleable__content {max-height: 0;max-width: 0;overflow: hidden;text-align: left;background-color: #f0f8ff;}div.sk-toggleable__content pre {margin: 0.2em;color: black;border-radius: 0.25em;background-color: #f0f8ff;}input.sk-toggleable__control:checked~div.sk-toggleable__content {max-height: 200px;max-width: 100%;overflow: auto;}div.sk-estimator input.sk-toggleable__control:checked~label.sk-toggleable__label {background-color: #d4ebff;}div.sk-label input.sk-toggleable__control:checked~label.sk-toggleable__label {background-color: #d4ebff;}input.sk-hidden--visually {border: 0;clip: rect(1px 1px 1px 1px);clip: rect(1px, 1px, 1px, 1px);height: 1px;margin: -1px;overflow: hidden;padding: 0;position: absolute;width: 1px;}div.sk-estimator {font-family: monospace;background-color: #f0f8ff;margin: 0.25em 0.25em;border: 1px dotted black;border-radius: 0.25em;box-sizing: border-box;}div.sk-estimator:hover {background-color: #d4ebff;}div.sk-parallel-item::after {content: \"\";width: 100%;border-bottom: 1px solid gray;flex-grow: 1;}div.sk-label:hover label.sk-toggleable__label {background-color: #d4ebff;}div.sk-serial::before {content: \"\";position: absolute;border-left: 1px solid gray;box-sizing: border-box;top: 2em;bottom: 0;left: 50%;}div.sk-serial {display: flex;flex-direction: column;align-items: center;background-color: white;}div.sk-item {z-index: 1;}div.sk-parallel {display: flex;align-items: stretch;justify-content: center;background-color: white;}div.sk-parallel-item {display: flex;flex-direction: column;position: relative;background-color: white;}div.sk-parallel-item:first-child::after {align-self: flex-end;width: 50%;}div.sk-parallel-item:last-child::after {align-self: flex-start;width: 50%;}div.sk-parallel-item:only-child::after {width: 0;}div.sk-dashed-wrapped {border: 1px dashed gray;margin: 0.2em;box-sizing: border-box;padding-bottom: 0.1em;background-color: white;position: relative;}div.sk-label label {font-family: monospace;font-weight: bold;background-color: white;display: inline-block;line-height: 1.2em;}div.sk-label-container {position: relative;z-index: 2;text-align: center;}div.sk-container {display: inline-block;position: relative;}</style><div class=\"sk-top-container\"><div class=\"sk-container\"><div class=\"sk-item\"><div class=\"sk-estimator sk-toggleable\"><input class=\"sk-toggleable__control sk-hidden--visually\" id=\"59ca0ac1-f440-44ee-81be-778cfdf8f605\" type=\"checkbox\" checked><label class=\"sk-toggleable__label\" for=\"59ca0ac1-f440-44ee-81be-778cfdf8f605\">OneHotEncoder</label><div class=\"sk-toggleable__content\"><pre>OneHotEncoder(handle_unknown='ignore')</pre></div></div></div></div></div>"
      ],
      "text/plain": [
       "OneHotEncoder(handle_unknown='ignore')"
      ]
     },
     "execution_count": 21,
     "metadata": {},
     "output_type": "execute_result"
    }
   ],
   "source": [
    "preprocessing.named_transformers_['cat'].named_steps['encoder']"
   ]
  },
  {
   "cell_type": "code",
   "execution_count": 22,
   "metadata": {
    "ExecuteTime": {
     "end_time": "2020-09-04T22:41:47.262925Z",
     "start_time": "2020-09-04T22:41:47.257222Z"
    }
   },
   "outputs": [
    {
     "data": {
      "text/plain": [
       "['Pclass_1',\n",
       " 'Pclass_2',\n",
       " 'Pclass_3',\n",
       " 'Pclass_?',\n",
       " 'Sex_female',\n",
       " 'Sex_male',\n",
       " 'Embarked_C',\n",
       " 'Embarked_Q',\n",
       " 'Embarked_S',\n",
       " 'Embarked_missing']"
      ]
     },
     "execution_count": 22,
     "metadata": {},
     "output_type": "execute_result"
    }
   ],
   "source": [
    "ohe_cols = preprocessing.named_transformers_['cat'].named_steps['encoder'].get_feature_names(cat_cols)\n",
    "ohe_cols.tolist()"
   ]
  },
  {
   "cell_type": "code",
   "execution_count": 23,
   "metadata": {
    "ExecuteTime": {
     "end_time": "2020-09-04T22:41:47.277082Z",
     "start_time": "2020-09-04T22:41:47.271783Z"
    }
   },
   "outputs": [
    {
     "data": {
      "text/plain": [
       "['Age',\n",
       " 'SibSp',\n",
       " 'Parch',\n",
       " 'Fare',\n",
       " 'Pclass_1',\n",
       " 'Pclass_2',\n",
       " 'Pclass_3',\n",
       " 'Pclass_?',\n",
       " 'Sex_female',\n",
       " 'Sex_male',\n",
       " 'Embarked_C',\n",
       " 'Embarked_Q',\n",
       " 'Embarked_S',\n",
       " 'Embarked_missing']"
      ]
     },
     "execution_count": 23,
     "metadata": {},
     "output_type": "execute_result"
    }
   ],
   "source": [
    "X_columns = num_cols+ohe_cols.tolist()\n",
    "X_columns"
   ]
  },
  {
   "cell_type": "code",
   "execution_count": 24,
   "metadata": {
    "ExecuteTime": {
     "end_time": "2020-09-04T22:41:47.321725Z",
     "start_time": "2020-09-04T22:41:47.281456Z"
    }
   },
   "outputs": [
    {
     "data": {
      "text/html": [
       "<div>\n",
       "<style scoped>\n",
       "    .dataframe tbody tr th:only-of-type {\n",
       "        vertical-align: middle;\n",
       "    }\n",
       "\n",
       "    .dataframe tbody tr th {\n",
       "        vertical-align: top;\n",
       "    }\n",
       "\n",
       "    .dataframe thead th {\n",
       "        text-align: right;\n",
       "    }\n",
       "</style>\n",
       "<table border=\"1\" class=\"dataframe\">\n",
       "  <thead>\n",
       "    <tr style=\"text-align: right;\">\n",
       "      <th></th>\n",
       "      <th>Age</th>\n",
       "      <th>SibSp</th>\n",
       "      <th>Parch</th>\n",
       "      <th>Fare</th>\n",
       "      <th>Pclass_1</th>\n",
       "      <th>Pclass_2</th>\n",
       "      <th>Pclass_3</th>\n",
       "      <th>Pclass_?</th>\n",
       "      <th>Sex_female</th>\n",
       "      <th>Sex_male</th>\n",
       "      <th>Embarked_C</th>\n",
       "      <th>Embarked_Q</th>\n",
       "      <th>Embarked_S</th>\n",
       "      <th>Embarked_missing</th>\n",
       "    </tr>\n",
       "  </thead>\n",
       "  <tbody>\n",
       "    <tr>\n",
       "      <th>0</th>\n",
       "      <td>-0.087648</td>\n",
       "      <td>-0.467660</td>\n",
       "      <td>-0.468878</td>\n",
       "      <td>-0.032568</td>\n",
       "      <td>0.0</td>\n",
       "      <td>0.0</td>\n",
       "      <td>0.0</td>\n",
       "      <td>1.0</td>\n",
       "      <td>0.0</td>\n",
       "      <td>1.0</td>\n",
       "      <td>0.0</td>\n",
       "      <td>0.0</td>\n",
       "      <td>1.0</td>\n",
       "      <td>0.0</td>\n",
       "    </tr>\n",
       "    <tr>\n",
       "      <th>1</th>\n",
       "      <td>-0.318203</td>\n",
       "      <td>-0.467660</td>\n",
       "      <td>-0.468878</td>\n",
       "      <td>-0.487331</td>\n",
       "      <td>0.0</td>\n",
       "      <td>0.0</td>\n",
       "      <td>1.0</td>\n",
       "      <td>0.0</td>\n",
       "      <td>0.0</td>\n",
       "      <td>1.0</td>\n",
       "      <td>0.0</td>\n",
       "      <td>0.0</td>\n",
       "      <td>1.0</td>\n",
       "      <td>0.0</td>\n",
       "    </tr>\n",
       "    <tr>\n",
       "      <th>2</th>\n",
       "      <td>-0.395055</td>\n",
       "      <td>-0.467660</td>\n",
       "      <td>2.046870</td>\n",
       "      <td>-0.342854</td>\n",
       "      <td>0.0</td>\n",
       "      <td>1.0</td>\n",
       "      <td>0.0</td>\n",
       "      <td>0.0</td>\n",
       "      <td>1.0</td>\n",
       "      <td>0.0</td>\n",
       "      <td>0.0</td>\n",
       "      <td>0.0</td>\n",
       "      <td>1.0</td>\n",
       "      <td>0.0</td>\n",
       "    </tr>\n",
       "    <tr>\n",
       "      <th>3</th>\n",
       "      <td>-0.548758</td>\n",
       "      <td>-0.467660</td>\n",
       "      <td>-0.468878</td>\n",
       "      <td>-0.478201</td>\n",
       "      <td>0.0</td>\n",
       "      <td>0.0</td>\n",
       "      <td>1.0</td>\n",
       "      <td>0.0</td>\n",
       "      <td>0.0</td>\n",
       "      <td>1.0</td>\n",
       "      <td>0.0</td>\n",
       "      <td>0.0</td>\n",
       "      <td>1.0</td>\n",
       "      <td>0.0</td>\n",
       "    </tr>\n",
       "    <tr>\n",
       "      <th>4</th>\n",
       "      <td>-2.168793</td>\n",
       "      <td>0.376656</td>\n",
       "      <td>2.046870</td>\n",
       "      <td>2.314937</td>\n",
       "      <td>1.0</td>\n",
       "      <td>0.0</td>\n",
       "      <td>0.0</td>\n",
       "      <td>0.0</td>\n",
       "      <td>0.0</td>\n",
       "      <td>1.0</td>\n",
       "      <td>0.0</td>\n",
       "      <td>0.0</td>\n",
       "      <td>1.0</td>\n",
       "      <td>0.0</td>\n",
       "    </tr>\n",
       "    <tr>\n",
       "      <th>...</th>\n",
       "      <td>...</td>\n",
       "      <td>...</td>\n",
       "      <td>...</td>\n",
       "      <td>...</td>\n",
       "      <td>...</td>\n",
       "      <td>...</td>\n",
       "      <td>...</td>\n",
       "      <td>...</td>\n",
       "      <td>...</td>\n",
       "      <td>...</td>\n",
       "      <td>...</td>\n",
       "      <td>...</td>\n",
       "      <td>...</td>\n",
       "      <td>...</td>\n",
       "    </tr>\n",
       "    <tr>\n",
       "      <th>663</th>\n",
       "      <td>-0.625610</td>\n",
       "      <td>-0.467660</td>\n",
       "      <td>-0.468878</td>\n",
       "      <td>-0.475695</td>\n",
       "      <td>0.0</td>\n",
       "      <td>0.0</td>\n",
       "      <td>1.0</td>\n",
       "      <td>0.0</td>\n",
       "      <td>1.0</td>\n",
       "      <td>0.0</td>\n",
       "      <td>0.0</td>\n",
       "      <td>0.0</td>\n",
       "      <td>1.0</td>\n",
       "      <td>0.0</td>\n",
       "    </tr>\n",
       "    <tr>\n",
       "      <th>664</th>\n",
       "      <td>-0.087648</td>\n",
       "      <td>-0.467660</td>\n",
       "      <td>-0.468878</td>\n",
       "      <td>-0.022872</td>\n",
       "      <td>1.0</td>\n",
       "      <td>0.0</td>\n",
       "      <td>0.0</td>\n",
       "      <td>0.0</td>\n",
       "      <td>0.0</td>\n",
       "      <td>1.0</td>\n",
       "      <td>0.0</td>\n",
       "      <td>0.0</td>\n",
       "      <td>1.0</td>\n",
       "      <td>0.0</td>\n",
       "    </tr>\n",
       "    <tr>\n",
       "      <th>665</th>\n",
       "      <td>0.911425</td>\n",
       "      <td>1.220971</td>\n",
       "      <td>-0.468878</td>\n",
       "      <td>-0.350450</td>\n",
       "      <td>0.0</td>\n",
       "      <td>0.0</td>\n",
       "      <td>1.0</td>\n",
       "      <td>0.0</td>\n",
       "      <td>0.0</td>\n",
       "      <td>1.0</td>\n",
       "      <td>0.0</td>\n",
       "      <td>0.0</td>\n",
       "      <td>1.0</td>\n",
       "      <td>0.0</td>\n",
       "    </tr>\n",
       "    <tr>\n",
       "      <th>666</th>\n",
       "      <td>-1.163572</td>\n",
       "      <td>0.376656</td>\n",
       "      <td>2.046870</td>\n",
       "      <td>1.703093</td>\n",
       "      <td>1.0</td>\n",
       "      <td>0.0</td>\n",
       "      <td>0.0</td>\n",
       "      <td>0.0</td>\n",
       "      <td>1.0</td>\n",
       "      <td>0.0</td>\n",
       "      <td>0.0</td>\n",
       "      <td>0.0</td>\n",
       "      <td>1.0</td>\n",
       "      <td>0.0</td>\n",
       "    </tr>\n",
       "    <tr>\n",
       "      <th>667</th>\n",
       "      <td>-0.625610</td>\n",
       "      <td>-0.467660</td>\n",
       "      <td>0.788996</td>\n",
       "      <td>0.874775</td>\n",
       "      <td>1.0</td>\n",
       "      <td>0.0</td>\n",
       "      <td>0.0</td>\n",
       "      <td>0.0</td>\n",
       "      <td>0.0</td>\n",
       "      <td>1.0</td>\n",
       "      <td>0.0</td>\n",
       "      <td>0.0</td>\n",
       "      <td>1.0</td>\n",
       "      <td>0.0</td>\n",
       "    </tr>\n",
       "  </tbody>\n",
       "</table>\n",
       "<p>668 rows × 14 columns</p>\n",
       "</div>"
      ],
      "text/plain": [
       "          Age     SibSp     Parch      Fare  Pclass_1  Pclass_2  Pclass_3  \\\n",
       "0   -0.087648 -0.467660 -0.468878 -0.032568       0.0       0.0       0.0   \n",
       "1   -0.318203 -0.467660 -0.468878 -0.487331       0.0       0.0       1.0   \n",
       "2   -0.395055 -0.467660  2.046870 -0.342854       0.0       1.0       0.0   \n",
       "3   -0.548758 -0.467660 -0.468878 -0.478201       0.0       0.0       1.0   \n",
       "4   -2.168793  0.376656  2.046870  2.314937       1.0       0.0       0.0   \n",
       "..        ...       ...       ...       ...       ...       ...       ...   \n",
       "663 -0.625610 -0.467660 -0.468878 -0.475695       0.0       0.0       1.0   \n",
       "664 -0.087648 -0.467660 -0.468878 -0.022872       1.0       0.0       0.0   \n",
       "665  0.911425  1.220971 -0.468878 -0.350450       0.0       0.0       1.0   \n",
       "666 -1.163572  0.376656  2.046870  1.703093       1.0       0.0       0.0   \n",
       "667 -0.625610 -0.467660  0.788996  0.874775       1.0       0.0       0.0   \n",
       "\n",
       "     Pclass_?  Sex_female  Sex_male  Embarked_C  Embarked_Q  Embarked_S  \\\n",
       "0         1.0         0.0       1.0         0.0         0.0         1.0   \n",
       "1         0.0         0.0       1.0         0.0         0.0         1.0   \n",
       "2         0.0         1.0       0.0         0.0         0.0         1.0   \n",
       "3         0.0         0.0       1.0         0.0         0.0         1.0   \n",
       "4         0.0         0.0       1.0         0.0         0.0         1.0   \n",
       "..        ...         ...       ...         ...         ...         ...   \n",
       "663       0.0         1.0       0.0         0.0         0.0         1.0   \n",
       "664       0.0         0.0       1.0         0.0         0.0         1.0   \n",
       "665       0.0         0.0       1.0         0.0         0.0         1.0   \n",
       "666       0.0         1.0       0.0         0.0         0.0         1.0   \n",
       "667       0.0         0.0       1.0         0.0         0.0         1.0   \n",
       "\n",
       "     Embarked_missing  \n",
       "0                 0.0  \n",
       "1                 0.0  \n",
       "2                 0.0  \n",
       "3                 0.0  \n",
       "4                 0.0  \n",
       "..                ...  \n",
       "663               0.0  \n",
       "664               0.0  \n",
       "665               0.0  \n",
       "666               0.0  \n",
       "667               0.0  \n",
       "\n",
       "[668 rows x 14 columns]"
      ]
     },
     "execution_count": 24,
     "metadata": {},
     "output_type": "execute_result"
    }
   ],
   "source": [
    "X_train_tf = pd.DataFrame(preprocessing.fit_transform(X_train),\n",
    "                          columns=X_columns)\n",
    "X_train_tf"
   ]
  },
  {
   "cell_type": "code",
   "execution_count": 25,
   "metadata": {
    "ExecuteTime": {
     "end_time": "2020-09-04T22:41:47.355276Z",
     "start_time": "2020-09-04T22:41:47.324044Z"
    }
   },
   "outputs": [
    {
     "data": {
      "text/html": [
       "<div>\n",
       "<style scoped>\n",
       "    .dataframe tbody tr th:only-of-type {\n",
       "        vertical-align: middle;\n",
       "    }\n",
       "\n",
       "    .dataframe tbody tr th {\n",
       "        vertical-align: top;\n",
       "    }\n",
       "\n",
       "    .dataframe thead th {\n",
       "        text-align: right;\n",
       "    }\n",
       "</style>\n",
       "<table border=\"1\" class=\"dataframe\">\n",
       "  <thead>\n",
       "    <tr style=\"text-align: right;\">\n",
       "      <th></th>\n",
       "      <th>Age</th>\n",
       "      <th>SibSp</th>\n",
       "      <th>Parch</th>\n",
       "      <th>Fare</th>\n",
       "      <th>Pclass_1</th>\n",
       "      <th>Pclass_2</th>\n",
       "      <th>Pclass_3</th>\n",
       "      <th>Pclass_?</th>\n",
       "      <th>Sex_female</th>\n",
       "      <th>Sex_male</th>\n",
       "      <th>Embarked_C</th>\n",
       "      <th>Embarked_Q</th>\n",
       "      <th>Embarked_S</th>\n",
       "      <th>Embarked_missing</th>\n",
       "    </tr>\n",
       "  </thead>\n",
       "  <tbody>\n",
       "    <tr>\n",
       "      <th>0</th>\n",
       "      <td>-0.087648</td>\n",
       "      <td>0.376656</td>\n",
       "      <td>0.788996</td>\n",
       "      <td>-0.328391</td>\n",
       "      <td>0.0</td>\n",
       "      <td>0.0</td>\n",
       "      <td>1.0</td>\n",
       "      <td>0.0</td>\n",
       "      <td>0.0</td>\n",
       "      <td>1.0</td>\n",
       "      <td>1.0</td>\n",
       "      <td>0.0</td>\n",
       "      <td>0.0</td>\n",
       "      <td>0.0</td>\n",
       "    </tr>\n",
       "    <tr>\n",
       "      <th>1</th>\n",
       "      <td>0.142907</td>\n",
       "      <td>-0.467660</td>\n",
       "      <td>-0.468878</td>\n",
       "      <td>-0.420425</td>\n",
       "      <td>0.0</td>\n",
       "      <td>1.0</td>\n",
       "      <td>0.0</td>\n",
       "      <td>0.0</td>\n",
       "      <td>0.0</td>\n",
       "      <td>1.0</td>\n",
       "      <td>0.0</td>\n",
       "      <td>0.0</td>\n",
       "      <td>1.0</td>\n",
       "      <td>0.0</td>\n",
       "    </tr>\n",
       "    <tr>\n",
       "      <th>2</th>\n",
       "      <td>-0.702462</td>\n",
       "      <td>-0.467660</td>\n",
       "      <td>-0.468878</td>\n",
       "      <td>-0.470362</td>\n",
       "      <td>0.0</td>\n",
       "      <td>0.0</td>\n",
       "      <td>1.0</td>\n",
       "      <td>0.0</td>\n",
       "      <td>0.0</td>\n",
       "      <td>1.0</td>\n",
       "      <td>0.0</td>\n",
       "      <td>0.0</td>\n",
       "      <td>1.0</td>\n",
       "      <td>0.0</td>\n",
       "    </tr>\n",
       "    <tr>\n",
       "      <th>3</th>\n",
       "      <td>-1.778386</td>\n",
       "      <td>-0.467660</td>\n",
       "      <td>0.788996</td>\n",
       "      <td>0.015914</td>\n",
       "      <td>0.0</td>\n",
       "      <td>1.0</td>\n",
       "      <td>0.0</td>\n",
       "      <td>0.0</td>\n",
       "      <td>1.0</td>\n",
       "      <td>0.0</td>\n",
       "      <td>0.0</td>\n",
       "      <td>0.0</td>\n",
       "      <td>1.0</td>\n",
       "      <td>0.0</td>\n",
       "    </tr>\n",
       "    <tr>\n",
       "      <th>4</th>\n",
       "      <td>-1.163572</td>\n",
       "      <td>0.376656</td>\n",
       "      <td>-0.468878</td>\n",
       "      <td>-0.406042</td>\n",
       "      <td>0.0</td>\n",
       "      <td>0.0</td>\n",
       "      <td>1.0</td>\n",
       "      <td>0.0</td>\n",
       "      <td>1.0</td>\n",
       "      <td>0.0</td>\n",
       "      <td>1.0</td>\n",
       "      <td>0.0</td>\n",
       "      <td>0.0</td>\n",
       "      <td>0.0</td>\n",
       "    </tr>\n",
       "    <tr>\n",
       "      <th>...</th>\n",
       "      <td>...</td>\n",
       "      <td>...</td>\n",
       "      <td>...</td>\n",
       "      <td>...</td>\n",
       "      <td>...</td>\n",
       "      <td>...</td>\n",
       "      <td>...</td>\n",
       "      <td>...</td>\n",
       "      <td>...</td>\n",
       "      <td>...</td>\n",
       "      <td>...</td>\n",
       "      <td>...</td>\n",
       "      <td>...</td>\n",
       "      <td>...</td>\n",
       "    </tr>\n",
       "    <tr>\n",
       "      <th>218</th>\n",
       "      <td>-0.318203</td>\n",
       "      <td>-0.467660</td>\n",
       "      <td>0.788996</td>\n",
       "      <td>-0.119836</td>\n",
       "      <td>0.0</td>\n",
       "      <td>1.0</td>\n",
       "      <td>0.0</td>\n",
       "      <td>0.0</td>\n",
       "      <td>1.0</td>\n",
       "      <td>0.0</td>\n",
       "      <td>0.0</td>\n",
       "      <td>0.0</td>\n",
       "      <td>1.0</td>\n",
       "      <td>0.0</td>\n",
       "    </tr>\n",
       "    <tr>\n",
       "      <th>219</th>\n",
       "      <td>-0.087648</td>\n",
       "      <td>-0.467660</td>\n",
       "      <td>-0.468878</td>\n",
       "      <td>-0.483452</td>\n",
       "      <td>0.0</td>\n",
       "      <td>0.0</td>\n",
       "      <td>1.0</td>\n",
       "      <td>0.0</td>\n",
       "      <td>0.0</td>\n",
       "      <td>1.0</td>\n",
       "      <td>0.0</td>\n",
       "      <td>0.0</td>\n",
       "      <td>1.0</td>\n",
       "      <td>0.0</td>\n",
       "    </tr>\n",
       "    <tr>\n",
       "      <th>220</th>\n",
       "      <td>-0.087648</td>\n",
       "      <td>-0.467660</td>\n",
       "      <td>-0.468878</td>\n",
       "      <td>-0.470928</td>\n",
       "      <td>0.0</td>\n",
       "      <td>0.0</td>\n",
       "      <td>1.0</td>\n",
       "      <td>0.0</td>\n",
       "      <td>0.0</td>\n",
       "      <td>1.0</td>\n",
       "      <td>0.0</td>\n",
       "      <td>0.0</td>\n",
       "      <td>1.0</td>\n",
       "      <td>0.0</td>\n",
       "    </tr>\n",
       "    <tr>\n",
       "      <th>221</th>\n",
       "      <td>-0.395055</td>\n",
       "      <td>-0.467660</td>\n",
       "      <td>-0.468878</td>\n",
       "      <td>-0.371943</td>\n",
       "      <td>0.0</td>\n",
       "      <td>1.0</td>\n",
       "      <td>0.0</td>\n",
       "      <td>0.0</td>\n",
       "      <td>1.0</td>\n",
       "      <td>0.0</td>\n",
       "      <td>0.0</td>\n",
       "      <td>0.0</td>\n",
       "      <td>1.0</td>\n",
       "      <td>0.0</td>\n",
       "    </tr>\n",
       "    <tr>\n",
       "      <th>222</th>\n",
       "      <td>-0.856165</td>\n",
       "      <td>0.376656</td>\n",
       "      <td>0.788996</td>\n",
       "      <td>-0.232072</td>\n",
       "      <td>0.0</td>\n",
       "      <td>0.0</td>\n",
       "      <td>1.0</td>\n",
       "      <td>0.0</td>\n",
       "      <td>0.0</td>\n",
       "      <td>1.0</td>\n",
       "      <td>0.0</td>\n",
       "      <td>0.0</td>\n",
       "      <td>1.0</td>\n",
       "      <td>0.0</td>\n",
       "    </tr>\n",
       "  </tbody>\n",
       "</table>\n",
       "<p>223 rows × 14 columns</p>\n",
       "</div>"
      ],
      "text/plain": [
       "          Age     SibSp     Parch      Fare  Pclass_1  Pclass_2  Pclass_3  \\\n",
       "0   -0.087648  0.376656  0.788996 -0.328391       0.0       0.0       1.0   \n",
       "1    0.142907 -0.467660 -0.468878 -0.420425       0.0       1.0       0.0   \n",
       "2   -0.702462 -0.467660 -0.468878 -0.470362       0.0       0.0       1.0   \n",
       "3   -1.778386 -0.467660  0.788996  0.015914       0.0       1.0       0.0   \n",
       "4   -1.163572  0.376656 -0.468878 -0.406042       0.0       0.0       1.0   \n",
       "..        ...       ...       ...       ...       ...       ...       ...   \n",
       "218 -0.318203 -0.467660  0.788996 -0.119836       0.0       1.0       0.0   \n",
       "219 -0.087648 -0.467660 -0.468878 -0.483452       0.0       0.0       1.0   \n",
       "220 -0.087648 -0.467660 -0.468878 -0.470928       0.0       0.0       1.0   \n",
       "221 -0.395055 -0.467660 -0.468878 -0.371943       0.0       1.0       0.0   \n",
       "222 -0.856165  0.376656  0.788996 -0.232072       0.0       0.0       1.0   \n",
       "\n",
       "     Pclass_?  Sex_female  Sex_male  Embarked_C  Embarked_Q  Embarked_S  \\\n",
       "0         0.0         0.0       1.0         1.0         0.0         0.0   \n",
       "1         0.0         0.0       1.0         0.0         0.0         1.0   \n",
       "2         0.0         0.0       1.0         0.0         0.0         1.0   \n",
       "3         0.0         1.0       0.0         0.0         0.0         1.0   \n",
       "4         0.0         1.0       0.0         1.0         0.0         0.0   \n",
       "..        ...         ...       ...         ...         ...         ...   \n",
       "218       0.0         1.0       0.0         0.0         0.0         1.0   \n",
       "219       0.0         0.0       1.0         0.0         0.0         1.0   \n",
       "220       0.0         0.0       1.0         0.0         0.0         1.0   \n",
       "221       0.0         1.0       0.0         0.0         0.0         1.0   \n",
       "222       0.0         0.0       1.0         0.0         0.0         1.0   \n",
       "\n",
       "     Embarked_missing  \n",
       "0                 0.0  \n",
       "1                 0.0  \n",
       "2                 0.0  \n",
       "3                 0.0  \n",
       "4                 0.0  \n",
       "..                ...  \n",
       "218               0.0  \n",
       "219               0.0  \n",
       "220               0.0  \n",
       "221               0.0  \n",
       "222               0.0  \n",
       "\n",
       "[223 rows x 14 columns]"
      ]
     },
     "execution_count": 25,
     "metadata": {},
     "output_type": "execute_result"
    }
   ],
   "source": [
    "X_test_tf = pd.DataFrame(preprocessing.transform(X_test),\n",
    "                          columns=X_columns)\n",
    "X_test_tf"
   ]
  },
  {
   "cell_type": "markdown",
   "metadata": {},
   "source": [
    "> ## Fit a KNN model\n",
    "Now that you've preprocessed the data it's time to train a KNN classifier and validate its accuracy. \n",
    "In the cells below:\n",
    "* Import `KNeighborsClassifier` from the `sklearn.neighbors` module \n",
    "* Instantiate the classifier. For now, you can just use the default parameters  \n",
    "* Fit the classifier to the training data/labels\n",
    "* Use the classifier to generate predictions on the test data. Store these predictions inside the variable `test_preds` "
   ]
  },
  {
   "cell_type": "code",
   "execution_count": 27,
   "metadata": {
    "ExecuteTime": {
     "end_time": "2020-09-04T22:42:05.480721Z",
     "start_time": "2020-09-04T22:42:05.236117Z"
    }
   },
   "outputs": [
    {
     "data": {
      "text/html": [
       "<style>div.sk-top-container {color: black;background-color: white;}div.sk-toggleable {background-color: white;}label.sk-toggleable__label {cursor: pointer;display: block;width: 100%;margin-bottom: 0;padding: 0.2em 0.3em;box-sizing: border-box;text-align: center;}div.sk-toggleable__content {max-height: 0;max-width: 0;overflow: hidden;text-align: left;background-color: #f0f8ff;}div.sk-toggleable__content pre {margin: 0.2em;color: black;border-radius: 0.25em;background-color: #f0f8ff;}input.sk-toggleable__control:checked~div.sk-toggleable__content {max-height: 200px;max-width: 100%;overflow: auto;}div.sk-estimator input.sk-toggleable__control:checked~label.sk-toggleable__label {background-color: #d4ebff;}div.sk-label input.sk-toggleable__control:checked~label.sk-toggleable__label {background-color: #d4ebff;}input.sk-hidden--visually {border: 0;clip: rect(1px 1px 1px 1px);clip: rect(1px, 1px, 1px, 1px);height: 1px;margin: -1px;overflow: hidden;padding: 0;position: absolute;width: 1px;}div.sk-estimator {font-family: monospace;background-color: #f0f8ff;margin: 0.25em 0.25em;border: 1px dotted black;border-radius: 0.25em;box-sizing: border-box;}div.sk-estimator:hover {background-color: #d4ebff;}div.sk-parallel-item::after {content: \"\";width: 100%;border-bottom: 1px solid gray;flex-grow: 1;}div.sk-label:hover label.sk-toggleable__label {background-color: #d4ebff;}div.sk-serial::before {content: \"\";position: absolute;border-left: 1px solid gray;box-sizing: border-box;top: 2em;bottom: 0;left: 50%;}div.sk-serial {display: flex;flex-direction: column;align-items: center;background-color: white;}div.sk-item {z-index: 1;}div.sk-parallel {display: flex;align-items: stretch;justify-content: center;background-color: white;}div.sk-parallel-item {display: flex;flex-direction: column;position: relative;background-color: white;}div.sk-parallel-item:first-child::after {align-self: flex-end;width: 50%;}div.sk-parallel-item:last-child::after {align-self: flex-start;width: 50%;}div.sk-parallel-item:only-child::after {width: 0;}div.sk-dashed-wrapped {border: 1px dashed gray;margin: 0.2em;box-sizing: border-box;padding-bottom: 0.1em;background-color: white;position: relative;}div.sk-label label {font-family: monospace;font-weight: bold;background-color: white;display: inline-block;line-height: 1.2em;}div.sk-label-container {position: relative;z-index: 2;text-align: center;}div.sk-container {display: inline-block;position: relative;}</style><div class=\"sk-top-container\"><div class=\"sk-container\"><div class=\"sk-item sk-dashed-wrapped\"><div class=\"sk-label-container\"><div class=\"sk-label sk-toggleable\"><input class=\"sk-toggleable__control sk-hidden--visually\" id=\"9603449a-e5ff-4653-ba69-f8875d6c6495\" type=\"checkbox\" ><label class=\"sk-toggleable__label\" for=\"9603449a-e5ff-4653-ba69-f8875d6c6495\">Pipeline</label><div class=\"sk-toggleable__content\"><pre>Pipeline(steps=[('preprocessor',\n",
       "                 ColumnTransformer(transformers=[('num',\n",
       "                                                  Pipeline(steps=[('imputer',\n",
       "                                                                   SimpleImputer(strategy='median')),\n",
       "                                                                  ('scaler',\n",
       "                                                                   StandardScaler())]),\n",
       "                                                  ['Age', 'SibSp', 'Parch',\n",
       "                                                   'Fare']),\n",
       "                                                 ('cat',\n",
       "                                                  Pipeline(steps=[('imputer',\n",
       "                                                                   SimpleImputer(fill_value='missing',\n",
       "                                                                                 strategy='constant')),\n",
       "                                                                  ('encoder',\n",
       "                                                                   OneHotEncoder(handle_unknown='ignore'))]),\n",
       "                                                  ['Pclass', 'Sex',\n",
       "                                                   'Embarked'])])),\n",
       "                ('knn', KNeighborsClassifier())])</pre></div></div></div><div class=\"sk-serial\"><div class=\"sk-item sk-dashed-wrapped\"><div class=\"sk-label-container\"><div class=\"sk-label sk-toggleable\"><input class=\"sk-toggleable__control sk-hidden--visually\" id=\"7510cbc8-f7ec-413f-8a9a-d641a77cd993\" type=\"checkbox\" ><label class=\"sk-toggleable__label\" for=\"7510cbc8-f7ec-413f-8a9a-d641a77cd993\">preprocessor: ColumnTransformer</label><div class=\"sk-toggleable__content\"><pre>ColumnTransformer(transformers=[('num',\n",
       "                                 Pipeline(steps=[('imputer',\n",
       "                                                  SimpleImputer(strategy='median')),\n",
       "                                                 ('scaler', StandardScaler())]),\n",
       "                                 ['Age', 'SibSp', 'Parch', 'Fare']),\n",
       "                                ('cat',\n",
       "                                 Pipeline(steps=[('imputer',\n",
       "                                                  SimpleImputer(fill_value='missing',\n",
       "                                                                strategy='constant')),\n",
       "                                                 ('encoder',\n",
       "                                                  OneHotEncoder(handle_unknown='ignore'))]),\n",
       "                                 ['Pclass', 'Sex', 'Embarked'])])</pre></div></div></div><div class=\"sk-parallel\"><div class=\"sk-parallel-item\"><div class=\"sk-item\"><div class=\"sk-label-container\"><div class=\"sk-label sk-toggleable\"><input class=\"sk-toggleable__control sk-hidden--visually\" id=\"592f0e35-089c-4048-9821-d870bb5f349d\" type=\"checkbox\" ><label class=\"sk-toggleable__label\" for=\"592f0e35-089c-4048-9821-d870bb5f349d\">num</label><div class=\"sk-toggleable__content\"><pre>['Age', 'SibSp', 'Parch', 'Fare']</pre></div></div></div><div class=\"sk-serial\"><div class=\"sk-item\"><div class=\"sk-serial\"><div class=\"sk-item\"><div class=\"sk-estimator sk-toggleable\"><input class=\"sk-toggleable__control sk-hidden--visually\" id=\"d8b8f208-332b-4c92-a9ba-7328563caa6d\" type=\"checkbox\" ><label class=\"sk-toggleable__label\" for=\"d8b8f208-332b-4c92-a9ba-7328563caa6d\">SimpleImputer</label><div class=\"sk-toggleable__content\"><pre>SimpleImputer(strategy='median')</pre></div></div></div><div class=\"sk-item\"><div class=\"sk-estimator sk-toggleable\"><input class=\"sk-toggleable__control sk-hidden--visually\" id=\"5970c433-9bd2-407e-846a-1d0107b37eb3\" type=\"checkbox\" ><label class=\"sk-toggleable__label\" for=\"5970c433-9bd2-407e-846a-1d0107b37eb3\">StandardScaler</label><div class=\"sk-toggleable__content\"><pre>StandardScaler()</pre></div></div></div></div></div></div></div></div><div class=\"sk-parallel-item\"><div class=\"sk-item\"><div class=\"sk-label-container\"><div class=\"sk-label sk-toggleable\"><input class=\"sk-toggleable__control sk-hidden--visually\" id=\"c81f2fc2-d038-4ff8-877a-c6b3f582b69d\" type=\"checkbox\" ><label class=\"sk-toggleable__label\" for=\"c81f2fc2-d038-4ff8-877a-c6b3f582b69d\">cat</label><div class=\"sk-toggleable__content\"><pre>['Pclass', 'Sex', 'Embarked']</pre></div></div></div><div class=\"sk-serial\"><div class=\"sk-item\"><div class=\"sk-serial\"><div class=\"sk-item\"><div class=\"sk-estimator sk-toggleable\"><input class=\"sk-toggleable__control sk-hidden--visually\" id=\"383bd738-a026-4e89-8378-b03f83e32ae6\" type=\"checkbox\" ><label class=\"sk-toggleable__label\" for=\"383bd738-a026-4e89-8378-b03f83e32ae6\">SimpleImputer</label><div class=\"sk-toggleable__content\"><pre>SimpleImputer(fill_value='missing', strategy='constant')</pre></div></div></div><div class=\"sk-item\"><div class=\"sk-estimator sk-toggleable\"><input class=\"sk-toggleable__control sk-hidden--visually\" id=\"469d86cb-85c3-4608-a8ac-8a1430e6baaf\" type=\"checkbox\" ><label class=\"sk-toggleable__label\" for=\"469d86cb-85c3-4608-a8ac-8a1430e6baaf\">OneHotEncoder</label><div class=\"sk-toggleable__content\"><pre>OneHotEncoder(handle_unknown='ignore')</pre></div></div></div></div></div></div></div></div></div></div><div class=\"sk-item\"><div class=\"sk-estimator sk-toggleable\"><input class=\"sk-toggleable__control sk-hidden--visually\" id=\"2794b34a-3c04-4b08-a220-7b508403cfa9\" type=\"checkbox\" ><label class=\"sk-toggleable__label\" for=\"2794b34a-3c04-4b08-a220-7b508403cfa9\">KNeighborsClassifier</label><div class=\"sk-toggleable__content\"><pre>KNeighborsClassifier()</pre></div></div></div></div></div></div></div>"
      ],
      "text/plain": [
       "Pipeline(steps=[('preprocessor',\n",
       "                 ColumnTransformer(transformers=[('num',\n",
       "                                                  Pipeline(steps=[('imputer',\n",
       "                                                                   SimpleImputer(strategy='median')),\n",
       "                                                                  ('scaler',\n",
       "                                                                   StandardScaler())]),\n",
       "                                                  ['Age', 'SibSp', 'Parch',\n",
       "                                                   'Fare']),\n",
       "                                                 ('cat',\n",
       "                                                  Pipeline(steps=[('imputer',\n",
       "                                                                   SimpleImputer(fill_value='missing',\n",
       "                                                                                 strategy='constant')),\n",
       "                                                                  ('encoder',\n",
       "                                                                   OneHotEncoder(handle_unknown='ignore'))]),\n",
       "                                                  ['Pclass', 'Sex',\n",
       "                                                   'Embarked'])])),\n",
       "                ('knn', KNeighborsClassifier())])"
      ]
     },
     "execution_count": 27,
     "metadata": {},
     "output_type": "execute_result"
    }
   ],
   "source": [
    "from sklearn.neighbors import KNeighborsClassifier\n",
    "## Use our preprocessor as the first step in a modeling pipelien\n",
    "pipeline = Pipeline(steps=[('preprocessor',preprocessing),\n",
    "                     ('knn',KNeighborsClassifier())])\n",
    "pipeline"
   ]
  },
  {
   "cell_type": "code",
   "execution_count": 28,
   "metadata": {
    "ExecuteTime": {
     "end_time": "2020-09-04T22:42:06.034055Z",
     "start_time": "2020-09-04T22:42:05.791762Z"
    },
    "scrolled": false
   },
   "outputs": [
    {
     "data": {
      "text/html": [
       "<style>div.sk-top-container {color: black;background-color: white;}div.sk-toggleable {background-color: white;}label.sk-toggleable__label {cursor: pointer;display: block;width: 100%;margin-bottom: 0;padding: 0.2em 0.3em;box-sizing: border-box;text-align: center;}div.sk-toggleable__content {max-height: 0;max-width: 0;overflow: hidden;text-align: left;background-color: #f0f8ff;}div.sk-toggleable__content pre {margin: 0.2em;color: black;border-radius: 0.25em;background-color: #f0f8ff;}input.sk-toggleable__control:checked~div.sk-toggleable__content {max-height: 200px;max-width: 100%;overflow: auto;}div.sk-estimator input.sk-toggleable__control:checked~label.sk-toggleable__label {background-color: #d4ebff;}div.sk-label input.sk-toggleable__control:checked~label.sk-toggleable__label {background-color: #d4ebff;}input.sk-hidden--visually {border: 0;clip: rect(1px 1px 1px 1px);clip: rect(1px, 1px, 1px, 1px);height: 1px;margin: -1px;overflow: hidden;padding: 0;position: absolute;width: 1px;}div.sk-estimator {font-family: monospace;background-color: #f0f8ff;margin: 0.25em 0.25em;border: 1px dotted black;border-radius: 0.25em;box-sizing: border-box;}div.sk-estimator:hover {background-color: #d4ebff;}div.sk-parallel-item::after {content: \"\";width: 100%;border-bottom: 1px solid gray;flex-grow: 1;}div.sk-label:hover label.sk-toggleable__label {background-color: #d4ebff;}div.sk-serial::before {content: \"\";position: absolute;border-left: 1px solid gray;box-sizing: border-box;top: 2em;bottom: 0;left: 50%;}div.sk-serial {display: flex;flex-direction: column;align-items: center;background-color: white;}div.sk-item {z-index: 1;}div.sk-parallel {display: flex;align-items: stretch;justify-content: center;background-color: white;}div.sk-parallel-item {display: flex;flex-direction: column;position: relative;background-color: white;}div.sk-parallel-item:first-child::after {align-self: flex-end;width: 50%;}div.sk-parallel-item:last-child::after {align-self: flex-start;width: 50%;}div.sk-parallel-item:only-child::after {width: 0;}div.sk-dashed-wrapped {border: 1px dashed gray;margin: 0.2em;box-sizing: border-box;padding-bottom: 0.1em;background-color: white;position: relative;}div.sk-label label {font-family: monospace;font-weight: bold;background-color: white;display: inline-block;line-height: 1.2em;}div.sk-label-container {position: relative;z-index: 2;text-align: center;}div.sk-container {display: inline-block;position: relative;}</style><div class=\"sk-top-container\"><div class=\"sk-container\"><div class=\"sk-item sk-dashed-wrapped\"><div class=\"sk-label-container\"><div class=\"sk-label sk-toggleable\"><input class=\"sk-toggleable__control sk-hidden--visually\" id=\"bd48d036-d4e7-4b6e-b77e-c0d48659993e\" type=\"checkbox\" ><label class=\"sk-toggleable__label\" for=\"bd48d036-d4e7-4b6e-b77e-c0d48659993e\">Pipeline</label><div class=\"sk-toggleable__content\"><pre>Pipeline(steps=[('preprocessor',\n",
       "                 ColumnTransformer(transformers=[('num',\n",
       "                                                  Pipeline(steps=[('imputer',\n",
       "                                                                   SimpleImputer(strategy='median')),\n",
       "                                                                  ('scaler',\n",
       "                                                                   StandardScaler())]),\n",
       "                                                  ['Age', 'SibSp', 'Parch',\n",
       "                                                   'Fare']),\n",
       "                                                 ('cat',\n",
       "                                                  Pipeline(steps=[('imputer',\n",
       "                                                                   SimpleImputer(fill_value='missing',\n",
       "                                                                                 strategy='constant')),\n",
       "                                                                  ('encoder',\n",
       "                                                                   OneHotEncoder(handle_unknown='ignore'))]),\n",
       "                                                  ['Pclass', 'Sex',\n",
       "                                                   'Embarked'])])),\n",
       "                ('knn', KNeighborsClassifier())])</pre></div></div></div><div class=\"sk-serial\"><div class=\"sk-item sk-dashed-wrapped\"><div class=\"sk-label-container\"><div class=\"sk-label sk-toggleable\"><input class=\"sk-toggleable__control sk-hidden--visually\" id=\"bdd4a439-6deb-4464-bc0d-bbe1c21b09b9\" type=\"checkbox\" ><label class=\"sk-toggleable__label\" for=\"bdd4a439-6deb-4464-bc0d-bbe1c21b09b9\">preprocessor: ColumnTransformer</label><div class=\"sk-toggleable__content\"><pre>ColumnTransformer(transformers=[('num',\n",
       "                                 Pipeline(steps=[('imputer',\n",
       "                                                  SimpleImputer(strategy='median')),\n",
       "                                                 ('scaler', StandardScaler())]),\n",
       "                                 ['Age', 'SibSp', 'Parch', 'Fare']),\n",
       "                                ('cat',\n",
       "                                 Pipeline(steps=[('imputer',\n",
       "                                                  SimpleImputer(fill_value='missing',\n",
       "                                                                strategy='constant')),\n",
       "                                                 ('encoder',\n",
       "                                                  OneHotEncoder(handle_unknown='ignore'))]),\n",
       "                                 ['Pclass', 'Sex', 'Embarked'])])</pre></div></div></div><div class=\"sk-parallel\"><div class=\"sk-parallel-item\"><div class=\"sk-item\"><div class=\"sk-label-container\"><div class=\"sk-label sk-toggleable\"><input class=\"sk-toggleable__control sk-hidden--visually\" id=\"06bb60a9-13a9-48dc-9025-7412538eea3d\" type=\"checkbox\" ><label class=\"sk-toggleable__label\" for=\"06bb60a9-13a9-48dc-9025-7412538eea3d\">num</label><div class=\"sk-toggleable__content\"><pre>['Age', 'SibSp', 'Parch', 'Fare']</pre></div></div></div><div class=\"sk-serial\"><div class=\"sk-item\"><div class=\"sk-serial\"><div class=\"sk-item\"><div class=\"sk-estimator sk-toggleable\"><input class=\"sk-toggleable__control sk-hidden--visually\" id=\"63037952-70ae-46da-a00a-d82bb8034aa0\" type=\"checkbox\" ><label class=\"sk-toggleable__label\" for=\"63037952-70ae-46da-a00a-d82bb8034aa0\">SimpleImputer</label><div class=\"sk-toggleable__content\"><pre>SimpleImputer(strategy='median')</pre></div></div></div><div class=\"sk-item\"><div class=\"sk-estimator sk-toggleable\"><input class=\"sk-toggleable__control sk-hidden--visually\" id=\"a3d58919-3431-4579-ba4e-81183d762f10\" type=\"checkbox\" ><label class=\"sk-toggleable__label\" for=\"a3d58919-3431-4579-ba4e-81183d762f10\">StandardScaler</label><div class=\"sk-toggleable__content\"><pre>StandardScaler()</pre></div></div></div></div></div></div></div></div><div class=\"sk-parallel-item\"><div class=\"sk-item\"><div class=\"sk-label-container\"><div class=\"sk-label sk-toggleable\"><input class=\"sk-toggleable__control sk-hidden--visually\" id=\"5b0048aa-e1a6-4a60-b6f9-20698c57cc91\" type=\"checkbox\" ><label class=\"sk-toggleable__label\" for=\"5b0048aa-e1a6-4a60-b6f9-20698c57cc91\">cat</label><div class=\"sk-toggleable__content\"><pre>['Pclass', 'Sex', 'Embarked']</pre></div></div></div><div class=\"sk-serial\"><div class=\"sk-item\"><div class=\"sk-serial\"><div class=\"sk-item\"><div class=\"sk-estimator sk-toggleable\"><input class=\"sk-toggleable__control sk-hidden--visually\" id=\"a8615170-2424-4a0b-a3ae-002a98030f31\" type=\"checkbox\" ><label class=\"sk-toggleable__label\" for=\"a8615170-2424-4a0b-a3ae-002a98030f31\">SimpleImputer</label><div class=\"sk-toggleable__content\"><pre>SimpleImputer(fill_value='missing', strategy='constant')</pre></div></div></div><div class=\"sk-item\"><div class=\"sk-estimator sk-toggleable\"><input class=\"sk-toggleable__control sk-hidden--visually\" id=\"82f445a3-c663-41da-b087-d91499fdffbb\" type=\"checkbox\" ><label class=\"sk-toggleable__label\" for=\"82f445a3-c663-41da-b087-d91499fdffbb\">OneHotEncoder</label><div class=\"sk-toggleable__content\"><pre>OneHotEncoder(handle_unknown='ignore')</pre></div></div></div></div></div></div></div></div></div></div><div class=\"sk-item\"><div class=\"sk-estimator sk-toggleable\"><input class=\"sk-toggleable__control sk-hidden--visually\" id=\"f3ff3f4a-b636-4890-8fec-6c99b4859af3\" type=\"checkbox\" ><label class=\"sk-toggleable__label\" for=\"f3ff3f4a-b636-4890-8fec-6c99b4859af3\">KNeighborsClassifier</label><div class=\"sk-toggleable__content\"><pre>KNeighborsClassifier()</pre></div></div></div></div></div></div></div>"
      ],
      "text/plain": [
       "Pipeline(steps=[('preprocessor',\n",
       "                 ColumnTransformer(transformers=[('num',\n",
       "                                                  Pipeline(steps=[('imputer',\n",
       "                                                                   SimpleImputer(strategy='median')),\n",
       "                                                                  ('scaler',\n",
       "                                                                   StandardScaler())]),\n",
       "                                                  ['Age', 'SibSp', 'Parch',\n",
       "                                                   'Fare']),\n",
       "                                                 ('cat',\n",
       "                                                  Pipeline(steps=[('imputer',\n",
       "                                                                   SimpleImputer(fill_value='missing',\n",
       "                                                                                 strategy='constant')),\n",
       "                                                                  ('encoder',\n",
       "                                                                   OneHotEncoder(handle_unknown='ignore'))]),\n",
       "                                                  ['Pclass', 'Sex',\n",
       "                                                   'Embarked'])])),\n",
       "                ('knn', KNeighborsClassifier())])"
      ]
     },
     "execution_count": 28,
     "metadata": {},
     "output_type": "execute_result"
    }
   ],
   "source": [
    "pipeline.fit(X_train,y_train)"
   ]
  },
  {
   "cell_type": "code",
   "execution_count": 29,
   "metadata": {
    "ExecuteTime": {
     "end_time": "2020-09-04T22:42:06.224186Z",
     "start_time": "2020-09-04T22:42:06.187993Z"
    }
   },
   "outputs": [
    {
     "data": {
      "text/plain": [
       "0.7982062780269058"
      ]
     },
     "execution_count": 29,
     "metadata": {},
     "output_type": "execute_result"
    }
   ],
   "source": [
    "y_hat_test = pipeline.predict(X_test)\n",
    "pipeline.score(X_test,y_test)"
   ]
  },
  {
   "cell_type": "code",
   "execution_count": 30,
   "metadata": {
    "ExecuteTime": {
     "end_time": "2020-09-04T22:42:06.564954Z",
     "start_time": "2020-09-04T22:42:06.558196Z"
    }
   },
   "outputs": [
    {
     "data": {
      "text/plain": [
       "0    0.600897\n",
       "1    0.399103\n",
       "Name: Survived, dtype: float64"
      ]
     },
     "execution_count": 30,
     "metadata": {},
     "output_type": "execute_result"
    }
   ],
   "source": [
    "y_test.value_counts(1)"
   ]
  },
  {
   "cell_type": "markdown",
   "metadata": {},
   "source": [
    "> ## Evaluate the model\n",
    "- Here we will deviate and we will use the assignment/challenge function `evaluate_classification` from sect 25-Pt2 s.g."
   ]
  },
  {
   "cell_type": "markdown",
   "metadata": {},
   "source": [
    "### ✅ Activity: Make an `evaluate_classification` function"
   ]
  },
  {
   "cell_type": "markdown",
   "metadata": {
    "ExecuteTime": {
     "end_time": "2020-09-04T22:31:31.131124Z",
     "start_time": "2020-09-04T22:31:31.127290Z"
    }
   },
   "source": [
    "- From last class"
   ]
  },
  {
   "cell_type": "code",
   "execution_count": 31,
   "metadata": {
    "ExecuteTime": {
     "end_time": "2020-09-04T22:42:08.188124Z",
     "start_time": "2020-09-04T22:42:08.179146Z"
    }
   },
   "outputs": [],
   "source": [
    "import sklearn.metrics as metrics\n",
    "\n",
    "def evaluate_classification(model,X_test,y_test,classes=None,\n",
    "                           normalize='true',cmap='Purples',label=''):\n",
    "    \"\"\"Accepts an sklearn-compatible classification model + test data \n",
    "    and displays several sklearn.metrics functions: \n",
    "    - classifciation_report\n",
    "    - plot_confusion_matrix\n",
    "    - plot_roc_curve\n",
    "    \"\"\"\n",
    "     \n",
    "    ## Get Predictions\n",
    "    y_hat_test = model.predict(X_test)\n",
    "    \n",
    "    \n",
    "    ## Classification Report / Scores \n",
    "    table_header = \"[i] CLASSIFICATION REPORT\"\n",
    "    \n",
    "    ## Add Label if given\n",
    "    if len(label)>0:\n",
    "        table_header += f\" {label}\"\n",
    "        \n",
    "    \n",
    "    ## PRINT CLASSIFICATION REPORT\n",
    "    dashes = '---'*20\n",
    "    print(dashes,table_header,dashes,sep='\\n')\n",
    "\n",
    "    print(metrics.classification_report(y_test,y_hat_test,\n",
    "                                    target_names=classes))\n",
    "    \n",
    "    report = metrics.classification_report(y_test,y_hat_test,\n",
    "                                               target_names=classes,\n",
    "                                          output_dict=True)\n",
    "    print(dashes+\"\\n\\n\")\n",
    "    \n",
    "    \n",
    "\n",
    "    ## MAKE FIGURE\n",
    "    fig, axes = plt.subplots(figsize=(10,4),ncols=2)\n",
    "    \n",
    "    ## Plot Confusion Matrix \n",
    "    metrics.plot_confusion_matrix(model, X_test,y_test,\n",
    "                                  display_labels=classes,\n",
    "                                  normalize=normalize,\n",
    "                                 cmap=cmap,ax=axes[0])\n",
    "    axes[0].set(title='Confusion Matrix')\n",
    "    \n",
    "    ## Plot Roc Curve\n",
    "    roc_plot = metrics.plot_roc_curve(model, X_test, y_test,ax=axes[1])\n",
    "    axes[1].legend()\n",
    "    axes[1].plot([0,1],[0,1],ls=':')\n",
    "    axes[1].grid()\n",
    "    axes[1].set_title('Receiving Operator Characteristic (ROC) Curve') \n",
    "    fig.tight_layout()\n",
    "    plt.show()\n",
    "    \n",
    "    return report #fig,axes"
   ]
  },
  {
   "cell_type": "code",
   "execution_count": 32,
   "metadata": {
    "ExecuteTime": {
     "end_time": "2020-09-04T22:42:09.037246Z",
     "start_time": "2020-09-04T22:42:08.676811Z"
    }
   },
   "outputs": [
    {
     "name": "stdout",
     "output_type": "stream",
     "text": [
      "------------------------------------------------------------\n",
      "[i] CLASSIFICATION REPORT\n",
      "------------------------------------------------------------\n",
      "              precision    recall  f1-score   support\n",
      "\n",
      "        Died       0.82      0.86      0.84       134\n",
      "    Survived       0.77      0.71      0.74        89\n",
      "\n",
      "    accuracy                           0.80       223\n",
      "   macro avg       0.79      0.78      0.79       223\n",
      "weighted avg       0.80      0.80      0.80       223\n",
      "\n",
      "------------------------------------------------------------\n",
      "\n",
      "\n"
     ]
    },
    {
     "data": {
      "image/png": "[encoded data removed]",
      "text/plain": [
       "<Figure size 720x288 with 3 Axes>"
      ]
     },
     "metadata": {
      "needs_background": "light"
     },
     "output_type": "display_data"
    }
   ],
   "source": [
    "res = evaluate_classification(pipeline,X_test,y_test,\n",
    "                              classes=['Died','Survived'])"
   ]
  },
  {
   "cell_type": "markdown",
   "metadata": {},
   "source": [
    "> Interpret each of the metrics above, and explain what they tell you about your model's capabilities. If you had to pick one score to best describe the performance of the model, which would you choose? Explain your answer.\n",
    "- Discuss as a group\n"
   ]
  },
  {
   "cell_type": "markdown",
   "metadata": {},
   "source": [
    ">## Improve model performance\n",
    "While your overall model results should be better than random chance, they're probably mediocre at best given that you haven't tuned the model yet. For the remainder of this notebook, you'll focus on improving your model's performance. Remember that modeling is an **_iterative process_**, and developing a baseline out of the box model such as the one above is always a good start. <br>\n",
    "First, try to find the optimal number of neighbors to use for the classifier. To do this, complete the `find_best_k()` function below to iterate over multiple values of K and find the value of K that returns the best overall performance. <br><br>\n",
    "**The function takes in six arguments:**\n",
    "* `X_train`\n",
    "* `y_train`\n",
    "* `X_test`\n",
    "* `y_test`\n",
    "* `min_k` (default is 1)\n",
    "* `max_k` (default is 25)\n",
    "    \n",
    "> **Pseudocode Hint**:\n",
    "1. Create two variables, `best_k` and `best_score`\n",
    "1. Iterate through every **_odd number_** between `min_k` and `max_k + 1`. \n",
    "    1. For each iteration:\n",
    "        1. Create a new `KNN` classifier, and set the `n_neighbors` parameter to the current value for k, as determined by the loop \n",
    "        1. Fit this classifier to the training data \n",
    "        1. Generate predictions for `X_test` using the fitted classifier \n",
    "        1. Calculate the **_F1-score_** for these predictions \n",
    "        1. Compare this F1-score to `best_score`. If better, update `best_score` and `best_k` \n",
    "1. Once all iterations are complete, print the best value for k and the F1-score it achieved "
   ]
  },
  {
   "cell_type": "markdown",
   "metadata": {},
   "source": [
    "### Finding the Best K"
   ]
  },
  {
   "cell_type": "code",
   "execution_count": 33,
   "metadata": {
    "ExecuteTime": {
     "end_time": "2020-09-04T22:42:11.100899Z",
     "start_time": "2020-09-04T22:42:11.098281Z"
    }
   },
   "outputs": [],
   "source": [
    "import warnings\n",
    "warnings.filterwarnings('ignore')\n",
    "\n",
    "set_config(display='diagram')"
   ]
  },
  {
   "cell_type": "markdown",
   "metadata": {},
   "source": [
    "#### Can we GridSearch with a Pipeline?"
   ]
  },
  {
   "cell_type": "markdown",
   "metadata": {},
   "source": [
    "\n",
    "\n",
    "> #### YES! Param Grids for Pipelines:\n",
    "- Add the name of the step plus a dunder `__` as a prefix to the param name."
   ]
  },
  {
   "cell_type": "code",
   "execution_count": 36,
   "metadata": {
    "ExecuteTime": {
     "end_time": "2020-09-04T22:42:21.959737Z",
     "start_time": "2020-09-04T22:42:21.136498Z"
    }
   },
   "outputs": [
    {
     "data": {
      "text/html": [
       "<style>div.sk-top-container {color: black;background-color: white;}div.sk-toggleable {background-color: white;}label.sk-toggleable__label {cursor: pointer;display: block;width: 100%;margin-bottom: 0;padding: 0.2em 0.3em;box-sizing: border-box;text-align: center;}div.sk-toggleable__content {max-height: 0;max-width: 0;overflow: hidden;text-align: left;background-color: #f0f8ff;}div.sk-toggleable__content pre {margin: 0.2em;color: black;border-radius: 0.25em;background-color: #f0f8ff;}input.sk-toggleable__control:checked~div.sk-toggleable__content {max-height: 200px;max-width: 100%;overflow: auto;}div.sk-estimator input.sk-toggleable__control:checked~label.sk-toggleable__label {background-color: #d4ebff;}div.sk-label input.sk-toggleable__control:checked~label.sk-toggleable__label {background-color: #d4ebff;}input.sk-hidden--visually {border: 0;clip: rect(1px 1px 1px 1px);clip: rect(1px, 1px, 1px, 1px);height: 1px;margin: -1px;overflow: hidden;padding: 0;position: absolute;width: 1px;}div.sk-estimator {font-family: monospace;background-color: #f0f8ff;margin: 0.25em 0.25em;border: 1px dotted black;border-radius: 0.25em;box-sizing: border-box;}div.sk-estimator:hover {background-color: #d4ebff;}div.sk-parallel-item::after {content: \"\";width: 100%;border-bottom: 1px solid gray;flex-grow: 1;}div.sk-label:hover label.sk-toggleable__label {background-color: #d4ebff;}div.sk-serial::before {content: \"\";position: absolute;border-left: 1px solid gray;box-sizing: border-box;top: 2em;bottom: 0;left: 50%;}div.sk-serial {display: flex;flex-direction: column;align-items: center;background-color: white;}div.sk-item {z-index: 1;}div.sk-parallel {display: flex;align-items: stretch;justify-content: center;background-color: white;}div.sk-parallel-item {display: flex;flex-direction: column;position: relative;background-color: white;}div.sk-parallel-item:first-child::after {align-self: flex-end;width: 50%;}div.sk-parallel-item:last-child::after {align-self: flex-start;width: 50%;}div.sk-parallel-item:only-child::after {width: 0;}div.sk-dashed-wrapped {border: 1px dashed gray;margin: 0.2em;box-sizing: border-box;padding-bottom: 0.1em;background-color: white;position: relative;}div.sk-label label {font-family: monospace;font-weight: bold;background-color: white;display: inline-block;line-height: 1.2em;}div.sk-label-container {position: relative;z-index: 2;text-align: center;}div.sk-container {display: inline-block;position: relative;}</style><div class=\"sk-top-container\"><div class=\"sk-container\"><div class=\"sk-item sk-dashed-wrapped\"><div class=\"sk-label-container\"><div class=\"sk-label sk-toggleable\"><input class=\"sk-toggleable__control sk-hidden--visually\" id=\"6c6c9884-1d30-4a35-8cd1-81a7fdc65dd0\" type=\"checkbox\" ><label class=\"sk-toggleable__label\" for=\"6c6c9884-1d30-4a35-8cd1-81a7fdc65dd0\">GridSearchCV</label><div class=\"sk-toggleable__content\"><pre>GridSearchCV(estimator=Pipeline(steps=[('preprocessor',\n",
       "                                        ColumnTransformer(transformers=[('num',\n",
       "                                                                         Pipeline(steps=[('imputer',\n",
       "                                                                                          SimpleImputer(strategy='median')),\n",
       "                                                                                         ('scaler',\n",
       "                                                                                          StandardScaler())]),\n",
       "                                                                         ['Age',\n",
       "                                                                          'SibSp',\n",
       "                                                                          'Parch',\n",
       "                                                                          'Fare']),\n",
       "                                                                        ('cat',\n",
       "                                                                         Pipeline(steps=[('imputer',\n",
       "                                                                                          SimpleImputer(fill_value='missing',\n",
       "                                                                                                        strategy='constant')),\n",
       "                                                                                         ('encoder',\n",
       "                                                                                          OneHotEncoder(handle_unknown='ignore'))]),\n",
       "                                                                         ['Pclass',\n",
       "                                                                          'Sex',\n",
       "                                                                          'Embarked'])])),\n",
       "                                       ('knn', KNeighborsClassifier())]),\n",
       "             param_grid={'knn__n_neighbors': [1, 3, 5, 7, 9, 11, 13, 15, 17, 19,\n",
       "                                              21, 23, 25]},\n",
       "             scoring='f1')</pre></div></div></div><div class=\"sk-parallel\"><div class=\"sk-parallel-item\"><div class=\"sk-item\"><div class=\"sk-serial\"><div class=\"sk-item\"><div class=\"sk-serial\"><div class=\"sk-item sk-dashed-wrapped\"><div class=\"sk-label-container\"><div class=\"sk-label sk-toggleable\"><input class=\"sk-toggleable__control sk-hidden--visually\" id=\"16581bbd-7823-46ca-9230-34655ba982ee\" type=\"checkbox\" ><label class=\"sk-toggleable__label\" for=\"16581bbd-7823-46ca-9230-34655ba982ee\">preprocessor: ColumnTransformer</label><div class=\"sk-toggleable__content\"><pre>ColumnTransformer(transformers=[('num',\n",
       "                                 Pipeline(steps=[('imputer',\n",
       "                                                  SimpleImputer(strategy='median')),\n",
       "                                                 ('scaler', StandardScaler())]),\n",
       "                                 ['Age', 'SibSp', 'Parch', 'Fare']),\n",
       "                                ('cat',\n",
       "                                 Pipeline(steps=[('imputer',\n",
       "                                                  SimpleImputer(fill_value='missing',\n",
       "                                                                strategy='constant')),\n",
       "                                                 ('encoder',\n",
       "                                                  OneHotEncoder(handle_unknown='ignore'))]),\n",
       "                                 ['Pclass', 'Sex', 'Embarked'])])</pre></div></div></div><div class=\"sk-parallel\"><div class=\"sk-parallel-item\"><div class=\"sk-item\"><div class=\"sk-label-container\"><div class=\"sk-label sk-toggleable\"><input class=\"sk-toggleable__control sk-hidden--visually\" id=\"f635fd97-611e-485c-a5ea-1d4365879c6c\" type=\"checkbox\" ><label class=\"sk-toggleable__label\" for=\"f635fd97-611e-485c-a5ea-1d4365879c6c\">num</label><div class=\"sk-toggleable__content\"><pre>['Age', 'SibSp', 'Parch', 'Fare']</pre></div></div></div><div class=\"sk-serial\"><div class=\"sk-item\"><div class=\"sk-serial\"><div class=\"sk-item\"><div class=\"sk-estimator sk-toggleable\"><input class=\"sk-toggleable__control sk-hidden--visually\" id=\"a0de876d-410c-433c-b77f-77c86e91e109\" type=\"checkbox\" ><label class=\"sk-toggleable__label\" for=\"a0de876d-410c-433c-b77f-77c86e91e109\">SimpleImputer</label><div class=\"sk-toggleable__content\"><pre>SimpleImputer(strategy='median')</pre></div></div></div><div class=\"sk-item\"><div class=\"sk-estimator sk-toggleable\"><input class=\"sk-toggleable__control sk-hidden--visually\" id=\"504335b0-18e4-47bc-85d4-343919296118\" type=\"checkbox\" ><label class=\"sk-toggleable__label\" for=\"504335b0-18e4-47bc-85d4-343919296118\">StandardScaler</label><div class=\"sk-toggleable__content\"><pre>StandardScaler()</pre></div></div></div></div></div></div></div></div><div class=\"sk-parallel-item\"><div class=\"sk-item\"><div class=\"sk-label-container\"><div class=\"sk-label sk-toggleable\"><input class=\"sk-toggleable__control sk-hidden--visually\" id=\"c0aa4969-e7a0-4a8f-8c17-f49c1af85214\" type=\"checkbox\" ><label class=\"sk-toggleable__label\" for=\"c0aa4969-e7a0-4a8f-8c17-f49c1af85214\">cat</label><div class=\"sk-toggleable__content\"><pre>['Pclass', 'Sex', 'Embarked']</pre></div></div></div><div class=\"sk-serial\"><div class=\"sk-item\"><div class=\"sk-serial\"><div class=\"sk-item\"><div class=\"sk-estimator sk-toggleable\"><input class=\"sk-toggleable__control sk-hidden--visually\" id=\"9e91014c-3c8d-4470-836f-fd5ae1d19e39\" type=\"checkbox\" ><label class=\"sk-toggleable__label\" for=\"9e91014c-3c8d-4470-836f-fd5ae1d19e39\">SimpleImputer</label><div class=\"sk-toggleable__content\"><pre>SimpleImputer(fill_value='missing', strategy='constant')</pre></div></div></div><div class=\"sk-item\"><div class=\"sk-estimator sk-toggleable\"><input class=\"sk-toggleable__control sk-hidden--visually\" id=\"ed7f2a4a-ae86-4eac-8470-66ca5531db32\" type=\"checkbox\" ><label class=\"sk-toggleable__label\" for=\"ed7f2a4a-ae86-4eac-8470-66ca5531db32\">OneHotEncoder</label><div class=\"sk-toggleable__content\"><pre>OneHotEncoder(handle_unknown='ignore')</pre></div></div></div></div></div></div></div></div></div></div><div class=\"sk-item\"><div class=\"sk-estimator sk-toggleable\"><input class=\"sk-toggleable__control sk-hidden--visually\" id=\"f2d1b2a7-98a3-41da-a409-8387e710e0a6\" type=\"checkbox\" ><label class=\"sk-toggleable__label\" for=\"f2d1b2a7-98a3-41da-a409-8387e710e0a6\">KNeighborsClassifier</label><div class=\"sk-toggleable__content\"><pre>KNeighborsClassifier()</pre></div></div></div></div></div></div></div></div></div></div></div></div>"
      ],
      "text/plain": [
       "GridSearchCV(estimator=Pipeline(steps=[('preprocessor',\n",
       "                                        ColumnTransformer(transformers=[('num',\n",
       "                                                                         Pipeline(steps=[('imputer',\n",
       "                                                                                          SimpleImputer(strategy='median')),\n",
       "                                                                                         ('scaler',\n",
       "                                                                                          StandardScaler())]),\n",
       "                                                                         ['Age',\n",
       "                                                                          'SibSp',\n",
       "                                                                          'Parch',\n",
       "                                                                          'Fare']),\n",
       "                                                                        ('cat',\n",
       "                                                                         Pipeline(steps=[('imputer',\n",
       "                                                                                          SimpleImputer(fill_value='missing',\n",
       "                                                                                                        strategy='constant')),\n",
       "                                                                                         ('encoder',\n",
       "                                                                                          OneHotEncoder(handle_unknown='ignore'))]),\n",
       "                                                                         ['Pclass',\n",
       "                                                                          'Sex',\n",
       "                                                                          'Embarked'])])),\n",
       "                                       ('knn', KNeighborsClassifier())]),\n",
       "             param_grid={'knn__n_neighbors': [1, 3, 5, 7, 9, 11, 13, 15, 17, 19,\n",
       "                                              21, 23, 25]},\n",
       "             scoring='f1')"
      ]
     },
     "execution_count": 36,
     "metadata": {},
     "output_type": "execute_result"
    }
   ],
   "source": [
    "from sklearn.model_selection import GridSearchCV\n",
    "## Create Params grid for n_neighbors\n",
    "params =  {'knn__n_neighbors':list(range(1,26,2))} \n",
    "\n",
    "## Score using f1\n",
    "grid = GridSearchCV(pipeline,params,scoring='f1')\n",
    "grid"
   ]
  },
  {
   "cell_type": "code",
   "execution_count": 37,
   "metadata": {
    "ExecuteTime": {
     "end_time": "2020-09-04T22:42:23.533770Z",
     "start_time": "2020-09-04T22:42:21.961902Z"
    }
   },
   "outputs": [
    {
     "name": "stdout",
     "output_type": "stream",
     "text": [
      "{'knn__n_neighbors': 19}\n"
     ]
    }
   ],
   "source": [
    "## Fit and print best params\n",
    "grid.fit(X_train,y_train)\n",
    "print(grid.best_params_)"
   ]
  },
  {
   "cell_type": "code",
   "execution_count": 38,
   "metadata": {
    "ExecuteTime": {
     "end_time": "2020-09-04T22:42:23.953640Z",
     "start_time": "2020-09-04T22:42:23.535503Z"
    }
   },
   "outputs": [
    {
     "name": "stdout",
     "output_type": "stream",
     "text": [
      "------------------------------------------------------------\n",
      "[i] CLASSIFICATION REPORT\n",
      "------------------------------------------------------------\n",
      "              precision    recall  f1-score   support\n",
      "\n",
      "           0       0.81      0.87      0.84       134\n",
      "           1       0.78      0.69      0.73        89\n",
      "\n",
      "    accuracy                           0.80       223\n",
      "   macro avg       0.79      0.78      0.78       223\n",
      "weighted avg       0.80      0.80      0.80       223\n",
      "\n",
      "------------------------------------------------------------\n",
      "\n",
      "\n"
     ]
    },
    {
     "data": {
      "image/png": "[encoded data removed]",
      "text/plain": [
       "<Figure size 720x288 with 3 Axes>"
      ]
     },
     "metadata": {
      "needs_background": "light"
     },
     "output_type": "display_data"
    }
   ],
   "source": [
    "## Evaluate Model\n",
    "evaluate_classification(grid,X_test,y_test);"
   ]
  },
  {
   "cell_type": "markdown",
   "metadata": {
    "ExecuteTime": {
     "end_time": "2020-09-04T22:34:50.951830Z",
     "start_time": "2020-09-04T22:34:50.949681Z"
    }
   },
   "source": [
    "### But how do we see the elbow plot for ks?"
   ]
  },
  {
   "cell_type": "code",
   "execution_count": 39,
   "metadata": {
    "ExecuteTime": {
     "end_time": "2020-09-04T22:42:24.277104Z",
     "start_time": "2020-09-04T22:42:24.255779Z"
    }
   },
   "outputs": [
    {
     "data": {
      "text/html": [
       "<div>\n",
       "<style scoped>\n",
       "    .dataframe tbody tr th:only-of-type {\n",
       "        vertical-align: middle;\n",
       "    }\n",
       "\n",
       "    .dataframe tbody tr th {\n",
       "        vertical-align: top;\n",
       "    }\n",
       "\n",
       "    .dataframe thead th {\n",
       "        text-align: right;\n",
       "    }\n",
       "</style>\n",
       "<table border=\"1\" class=\"dataframe\">\n",
       "  <thead>\n",
       "    <tr style=\"text-align: right;\">\n",
       "      <th></th>\n",
       "      <th>mean_fit_time</th>\n",
       "      <th>std_fit_time</th>\n",
       "      <th>mean_score_time</th>\n",
       "      <th>std_score_time</th>\n",
       "      <th>param_knn__n_neighbors</th>\n",
       "      <th>params</th>\n",
       "      <th>split0_test_score</th>\n",
       "      <th>split1_test_score</th>\n",
       "      <th>split2_test_score</th>\n",
       "      <th>split3_test_score</th>\n",
       "      <th>split4_test_score</th>\n",
       "      <th>mean_test_score</th>\n",
       "      <th>std_test_score</th>\n",
       "      <th>rank_test_score</th>\n",
       "    </tr>\n",
       "  </thead>\n",
       "  <tbody>\n",
       "    <tr>\n",
       "      <th>0</th>\n",
       "      <td>0.012804</td>\n",
       "      <td>0.001249</td>\n",
       "      <td>0.011695</td>\n",
       "      <td>0.001259</td>\n",
       "      <td>1</td>\n",
       "      <td>{'knn__n_neighbors': 1}</td>\n",
       "      <td>0.666667</td>\n",
       "      <td>0.672897</td>\n",
       "      <td>0.604167</td>\n",
       "      <td>0.660194</td>\n",
       "      <td>0.628571</td>\n",
       "      <td>0.646499</td>\n",
       "      <td>0.026094</td>\n",
       "      <td>13</td>\n",
       "    </tr>\n",
       "    <tr>\n",
       "      <th>1</th>\n",
       "      <td>0.014876</td>\n",
       "      <td>0.001261</td>\n",
       "      <td>0.012645</td>\n",
       "      <td>0.000292</td>\n",
       "      <td>3</td>\n",
       "      <td>{'knn__n_neighbors': 3}</td>\n",
       "      <td>0.666667</td>\n",
       "      <td>0.760000</td>\n",
       "      <td>0.659574</td>\n",
       "      <td>0.659574</td>\n",
       "      <td>0.727273</td>\n",
       "      <td>0.694618</td>\n",
       "      <td>0.041421</td>\n",
       "      <td>11</td>\n",
       "    </tr>\n",
       "    <tr>\n",
       "      <th>2</th>\n",
       "      <td>0.012779</td>\n",
       "      <td>0.000458</td>\n",
       "      <td>0.011771</td>\n",
       "      <td>0.000438</td>\n",
       "      <td>5</td>\n",
       "      <td>{'knn__n_neighbors': 5}</td>\n",
       "      <td>0.666667</td>\n",
       "      <td>0.795918</td>\n",
       "      <td>0.659341</td>\n",
       "      <td>0.666667</td>\n",
       "      <td>0.732673</td>\n",
       "      <td>0.704253</td>\n",
       "      <td>0.053015</td>\n",
       "      <td>10</td>\n",
       "    </tr>\n",
       "    <tr>\n",
       "      <th>3</th>\n",
       "      <td>0.025488</td>\n",
       "      <td>0.027156</td>\n",
       "      <td>0.011411</td>\n",
       "      <td>0.001878</td>\n",
       "      <td>7</td>\n",
       "      <td>{'knn__n_neighbors': 7}</td>\n",
       "      <td>0.630435</td>\n",
       "      <td>0.775510</td>\n",
       "      <td>0.652174</td>\n",
       "      <td>0.622222</td>\n",
       "      <td>0.757895</td>\n",
       "      <td>0.687647</td>\n",
       "      <td>0.065524</td>\n",
       "      <td>12</td>\n",
       "    </tr>\n",
       "    <tr>\n",
       "      <th>4</th>\n",
       "      <td>0.009569</td>\n",
       "      <td>0.000256</td>\n",
       "      <td>0.009454</td>\n",
       "      <td>0.000739</td>\n",
       "      <td>9</td>\n",
       "      <td>{'knn__n_neighbors': 9}</td>\n",
       "      <td>0.644444</td>\n",
       "      <td>0.791667</td>\n",
       "      <td>0.681319</td>\n",
       "      <td>0.637363</td>\n",
       "      <td>0.770833</td>\n",
       "      <td>0.705125</td>\n",
       "      <td>0.064261</td>\n",
       "      <td>8</td>\n",
       "    </tr>\n",
       "    <tr>\n",
       "      <th>5</th>\n",
       "      <td>0.010379</td>\n",
       "      <td>0.001434</td>\n",
       "      <td>0.009673</td>\n",
       "      <td>0.001248</td>\n",
       "      <td>11</td>\n",
       "      <td>{'knn__n_neighbors': 11}</td>\n",
       "      <td>0.681319</td>\n",
       "      <td>0.804124</td>\n",
       "      <td>0.681319</td>\n",
       "      <td>0.645161</td>\n",
       "      <td>0.762887</td>\n",
       "      <td>0.714962</td>\n",
       "      <td>0.058962</td>\n",
       "      <td>6</td>\n",
       "    </tr>\n",
       "    <tr>\n",
       "      <th>6</th>\n",
       "      <td>0.009211</td>\n",
       "      <td>0.000162</td>\n",
       "      <td>0.008921</td>\n",
       "      <td>0.000422</td>\n",
       "      <td>13</td>\n",
       "      <td>{'knn__n_neighbors': 13}</td>\n",
       "      <td>0.688889</td>\n",
       "      <td>0.783505</td>\n",
       "      <td>0.711111</td>\n",
       "      <td>0.687500</td>\n",
       "      <td>0.760870</td>\n",
       "      <td>0.726375</td>\n",
       "      <td>0.038995</td>\n",
       "      <td>2</td>\n",
       "    </tr>\n",
       "    <tr>\n",
       "      <th>7</th>\n",
       "      <td>0.008983</td>\n",
       "      <td>0.000157</td>\n",
       "      <td>0.009200</td>\n",
       "      <td>0.000619</td>\n",
       "      <td>15</td>\n",
       "      <td>{'knn__n_neighbors': 15}</td>\n",
       "      <td>0.681818</td>\n",
       "      <td>0.778947</td>\n",
       "      <td>0.689655</td>\n",
       "      <td>0.630435</td>\n",
       "      <td>0.778947</td>\n",
       "      <td>0.711961</td>\n",
       "      <td>0.058356</td>\n",
       "      <td>7</td>\n",
       "    </tr>\n",
       "    <tr>\n",
       "      <th>8</th>\n",
       "      <td>0.009276</td>\n",
       "      <td>0.000284</td>\n",
       "      <td>0.009243</td>\n",
       "      <td>0.000831</td>\n",
       "      <td>17</td>\n",
       "      <td>{'knn__n_neighbors': 17}</td>\n",
       "      <td>0.689655</td>\n",
       "      <td>0.783505</td>\n",
       "      <td>0.704545</td>\n",
       "      <td>0.651685</td>\n",
       "      <td>0.782609</td>\n",
       "      <td>0.722400</td>\n",
       "      <td>0.052441</td>\n",
       "      <td>3</td>\n",
       "    </tr>\n",
       "    <tr>\n",
       "      <th>9</th>\n",
       "      <td>0.009803</td>\n",
       "      <td>0.000858</td>\n",
       "      <td>0.009615</td>\n",
       "      <td>0.000905</td>\n",
       "      <td>19</td>\n",
       "      <td>{'knn__n_neighbors': 19}</td>\n",
       "      <td>0.696629</td>\n",
       "      <td>0.821053</td>\n",
       "      <td>0.703297</td>\n",
       "      <td>0.659091</td>\n",
       "      <td>0.800000</td>\n",
       "      <td>0.736014</td>\n",
       "      <td>0.063031</td>\n",
       "      <td>1</td>\n",
       "    </tr>\n",
       "    <tr>\n",
       "      <th>10</th>\n",
       "      <td>0.009595</td>\n",
       "      <td>0.000497</td>\n",
       "      <td>0.009597</td>\n",
       "      <td>0.000535</td>\n",
       "      <td>21</td>\n",
       "      <td>{'knn__n_neighbors': 21}</td>\n",
       "      <td>0.689655</td>\n",
       "      <td>0.765957</td>\n",
       "      <td>0.711111</td>\n",
       "      <td>0.644444</td>\n",
       "      <td>0.765957</td>\n",
       "      <td>0.715425</td>\n",
       "      <td>0.046536</td>\n",
       "      <td>5</td>\n",
       "    </tr>\n",
       "    <tr>\n",
       "      <th>11</th>\n",
       "      <td>0.010726</td>\n",
       "      <td>0.001521</td>\n",
       "      <td>0.010948</td>\n",
       "      <td>0.001243</td>\n",
       "      <td>23</td>\n",
       "      <td>{'knn__n_neighbors': 23}</td>\n",
       "      <td>0.659091</td>\n",
       "      <td>0.765957</td>\n",
       "      <td>0.719101</td>\n",
       "      <td>0.644444</td>\n",
       "      <td>0.733333</td>\n",
       "      <td>0.704385</td>\n",
       "      <td>0.045804</td>\n",
       "      <td>9</td>\n",
       "    </tr>\n",
       "    <tr>\n",
       "      <th>12</th>\n",
       "      <td>0.011504</td>\n",
       "      <td>0.001103</td>\n",
       "      <td>0.011448</td>\n",
       "      <td>0.001129</td>\n",
       "      <td>25</td>\n",
       "      <td>{'knn__n_neighbors': 25}</td>\n",
       "      <td>0.651163</td>\n",
       "      <td>0.795918</td>\n",
       "      <td>0.733333</td>\n",
       "      <td>0.644444</td>\n",
       "      <td>0.765957</td>\n",
       "      <td>0.718163</td>\n",
       "      <td>0.060801</td>\n",
       "      <td>4</td>\n",
       "    </tr>\n",
       "  </tbody>\n",
       "</table>\n",
       "</div>"
      ],
      "text/plain": [
       "    mean_fit_time  std_fit_time  mean_score_time  std_score_time  \\\n",
       "0        0.012804      0.001249         0.011695        0.001259   \n",
       "1        0.014876      0.001261         0.012645        0.000292   \n",
       "2        0.012779      0.000458         0.011771        0.000438   \n",
       "3        0.025488      0.027156         0.011411        0.001878   \n",
       "4        0.009569      0.000256         0.009454        0.000739   \n",
       "5        0.010379      0.001434         0.009673        0.001248   \n",
       "6        0.009211      0.000162         0.008921        0.000422   \n",
       "7        0.008983      0.000157         0.009200        0.000619   \n",
       "8        0.009276      0.000284         0.009243        0.000831   \n",
       "9        0.009803      0.000858         0.009615        0.000905   \n",
       "10       0.009595      0.000497         0.009597        0.000535   \n",
       "11       0.010726      0.001521         0.010948        0.001243   \n",
       "12       0.011504      0.001103         0.011448        0.001129   \n",
       "\n",
       "   param_knn__n_neighbors                    params  split0_test_score  \\\n",
       "0                       1   {'knn__n_neighbors': 1}           0.666667   \n",
       "1                       3   {'knn__n_neighbors': 3}           0.666667   \n",
       "2                       5   {'knn__n_neighbors': 5}           0.666667   \n",
       "3                       7   {'knn__n_neighbors': 7}           0.630435   \n",
       "4                       9   {'knn__n_neighbors': 9}           0.644444   \n",
       "5                      11  {'knn__n_neighbors': 11}           0.681319   \n",
       "6                      13  {'knn__n_neighbors': 13}           0.688889   \n",
       "7                      15  {'knn__n_neighbors': 15}           0.681818   \n",
       "8                      17  {'knn__n_neighbors': 17}           0.689655   \n",
       "9                      19  {'knn__n_neighbors': 19}           0.696629   \n",
       "10                     21  {'knn__n_neighbors': 21}           0.689655   \n",
       "11                     23  {'knn__n_neighbors': 23}           0.659091   \n",
       "12                     25  {'knn__n_neighbors': 25}           0.651163   \n",
       "\n",
       "    split1_test_score  split2_test_score  split3_test_score  \\\n",
       "0            0.672897           0.604167           0.660194   \n",
       "1            0.760000           0.659574           0.659574   \n",
       "2            0.795918           0.659341           0.666667   \n",
       "3            0.775510           0.652174           0.622222   \n",
       "4            0.791667           0.681319           0.637363   \n",
       "5            0.804124           0.681319           0.645161   \n",
       "6            0.783505           0.711111           0.687500   \n",
       "7            0.778947           0.689655           0.630435   \n",
       "8            0.783505           0.704545           0.651685   \n",
       "9            0.821053           0.703297           0.659091   \n",
       "10           0.765957           0.711111           0.644444   \n",
       "11           0.765957           0.719101           0.644444   \n",
       "12           0.795918           0.733333           0.644444   \n",
       "\n",
       "    split4_test_score  mean_test_score  std_test_score  rank_test_score  \n",
       "0            0.628571         0.646499        0.026094               13  \n",
       "1            0.727273         0.694618        0.041421               11  \n",
       "2            0.732673         0.704253        0.053015               10  \n",
       "3            0.757895         0.687647        0.065524               12  \n",
       "4            0.770833         0.705125        0.064261                8  \n",
       "5            0.762887         0.714962        0.058962                6  \n",
       "6            0.760870         0.726375        0.038995                2  \n",
       "7            0.778947         0.711961        0.058356                7  \n",
       "8            0.782609         0.722400        0.052441                3  \n",
       "9            0.800000         0.736014        0.063031                1  \n",
       "10           0.765957         0.715425        0.046536                5  \n",
       "11           0.733333         0.704385        0.045804                9  \n",
       "12           0.765957         0.718163        0.060801                4  "
      ]
     },
     "execution_count": 39,
     "metadata": {},
     "output_type": "execute_result"
    }
   ],
   "source": [
    "res_df = pd.DataFrame(grid.cv_results_)\n",
    "res_df"
   ]
  },
  {
   "cell_type": "code",
   "execution_count": 40,
   "metadata": {
    "ExecuteTime": {
     "end_time": "2020-09-04T22:42:24.986729Z",
     "start_time": "2020-09-04T22:42:24.830001Z"
    }
   },
   "outputs": [
    {
     "name": "stdout",
     "output_type": "stream",
     "text": [
      "{'knn__n_neighbors': 19}\n"
     ]
    },
    {
     "data": {
      "image/png": "[encoded data removed]",
      "text/plain": [
       "<Figure size 432x288 with 1 Axes>"
      ]
     },
     "metadata": {
      "needs_background": "light"
     },
     "output_type": "display_data"
    }
   ],
   "source": [
    "ax = res_df.plot(x='param_knn__n_neighbors',\n",
    "                 y='mean_test_score',kind='scatter')\n",
    "ax.grid()\n",
    "print(grid.best_params_)"
   ]
  },
  {
   "cell_type": "markdown",
   "metadata": {},
   "source": [
    "> ## ~~(Optional) Level Up:~~ Iterating on the data\n",
    "As an ~~optional (but recommended!)~~ exercise:\n",
    "- think about the decisions you made during the preprocessing steps that could have affected the overall model performance. \n",
    "    - For instance, you were asked to **replace the missing age values with the column median.** Could this have affected the overall performance? \n",
    "    - How might the model have fared if you had just dropped those rows, instead of using the column median? \n",
    "    - What if you reduced the data's dimensionality by ignoring some less important columns altogether?\n",
    "- In the cells below, revisit your preprocessing stage and see if you can improve the overall results of the classifier by doing things differently. \n",
    "    - Consider dropping certain columns, dealing with missing values differently, or using an alternative scaling function. \n",
    "    - Then see how these different preprocessing techniques affect the performance of the model. \n",
    "    - Remember that the `find_best_k()` function handles all of the fitting; use this to iterate quickly as you try different strategies for dealing with data preprocessing! "
   ]
  },
  {
   "cell_type": "markdown",
   "metadata": {},
   "source": [
    "> #### KNN PARAMS:\n",
    "- n_neighbors - 1-25(odd)\n",
    "- weights : uniform/distance\n",
    "- metric: euclidean,minkowski,manhattan\n",
    "\n",
    "> #### Prerocessing Params:\n",
    "    - strategty='median','mean"
   ]
  },
  {
   "cell_type": "code",
   "execution_count": 41,
   "metadata": {
    "ExecuteTime": {
     "end_time": "2020-09-04T22:42:27.887516Z",
     "start_time": "2020-09-04T22:42:27.071222Z"
    }
   },
   "outputs": [
    {
     "data": {
      "text/html": [
       "<style>div.sk-top-container {color: black;background-color: white;}div.sk-toggleable {background-color: white;}label.sk-toggleable__label {cursor: pointer;display: block;width: 100%;margin-bottom: 0;padding: 0.2em 0.3em;box-sizing: border-box;text-align: center;}div.sk-toggleable__content {max-height: 0;max-width: 0;overflow: hidden;text-align: left;background-color: #f0f8ff;}div.sk-toggleable__content pre {margin: 0.2em;color: black;border-radius: 0.25em;background-color: #f0f8ff;}input.sk-toggleable__control:checked~div.sk-toggleable__content {max-height: 200px;max-width: 100%;overflow: auto;}div.sk-estimator input.sk-toggleable__control:checked~label.sk-toggleable__label {background-color: #d4ebff;}div.sk-label input.sk-toggleable__control:checked~label.sk-toggleable__label {background-color: #d4ebff;}input.sk-hidden--visually {border: 0;clip: rect(1px 1px 1px 1px);clip: rect(1px, 1px, 1px, 1px);height: 1px;margin: -1px;overflow: hidden;padding: 0;position: absolute;width: 1px;}div.sk-estimator {font-family: monospace;background-color: #f0f8ff;margin: 0.25em 0.25em;border: 1px dotted black;border-radius: 0.25em;box-sizing: border-box;}div.sk-estimator:hover {background-color: #d4ebff;}div.sk-parallel-item::after {content: \"\";width: 100%;border-bottom: 1px solid gray;flex-grow: 1;}div.sk-label:hover label.sk-toggleable__label {background-color: #d4ebff;}div.sk-serial::before {content: \"\";position: absolute;border-left: 1px solid gray;box-sizing: border-box;top: 2em;bottom: 0;left: 50%;}div.sk-serial {display: flex;flex-direction: column;align-items: center;background-color: white;}div.sk-item {z-index: 1;}div.sk-parallel {display: flex;align-items: stretch;justify-content: center;background-color: white;}div.sk-parallel-item {display: flex;flex-direction: column;position: relative;background-color: white;}div.sk-parallel-item:first-child::after {align-self: flex-end;width: 50%;}div.sk-parallel-item:last-child::after {align-self: flex-start;width: 50%;}div.sk-parallel-item:only-child::after {width: 0;}div.sk-dashed-wrapped {border: 1px dashed gray;margin: 0.2em;box-sizing: border-box;padding-bottom: 0.1em;background-color: white;position: relative;}div.sk-label label {font-family: monospace;font-weight: bold;background-color: white;display: inline-block;line-height: 1.2em;}div.sk-label-container {position: relative;z-index: 2;text-align: center;}div.sk-container {display: inline-block;position: relative;}</style><div class=\"sk-top-container\"><div class=\"sk-container\"><div class=\"sk-item sk-dashed-wrapped\"><div class=\"sk-label-container\"><div class=\"sk-label sk-toggleable\"><input class=\"sk-toggleable__control sk-hidden--visually\" id=\"d39288c1-0a30-4a4d-9f60-e8e7f2288974\" type=\"checkbox\" ><label class=\"sk-toggleable__label\" for=\"d39288c1-0a30-4a4d-9f60-e8e7f2288974\">GridSearchCV</label><div class=\"sk-toggleable__content\"><pre>GridSearchCV(estimator=Pipeline(steps=[('preprocessor',\n",
       "                                        ColumnTransformer(transformers=[('num',\n",
       "                                                                         Pipeline(steps=[('imputer',\n",
       "                                                                                          SimpleImputer(strategy='median')),\n",
       "                                                                                         ('scaler',\n",
       "                                                                                          StandardScaler())]),\n",
       "                                                                         ['Age',\n",
       "                                                                          'SibSp',\n",
       "                                                                          'Parch',\n",
       "                                                                          'Fare']),\n",
       "                                                                        ('cat',\n",
       "                                                                         Pipeline(steps=[('imputer',\n",
       "                                                                                          SimpleImputer(fill_value='missing',\n",
       "                                                                                                        strategy='constant')),\n",
       "                                                                                         ('encoder',\n",
       "                                                                                          OneHotEncoder(handle_unknown='ignore'))]),\n",
       "                                                                         ['Pclass',\n",
       "                                                                          'Sex',\n",
       "                                                                          'Embarked'])])),\n",
       "                                       ('knn', KNeighborsClassifier())]),\n",
       "             param_grid={'knn__metric': ['euclidian', 'minkowski', 'manhattan'],\n",
       "                         'knn__n_neighbors': [1, 3, 5, 7, 9, 11, 13, 15, 17, 19,\n",
       "                                              21, 23, 25, 27, 29, 31, 33, 35,\n",
       "                                              37, 39, 41, 43, 45, 47, 49, 51],\n",
       "                         'preprocessor__num__imputer__strategy': ['mean',\n",
       "                                                                  'median']},\n",
       "             scoring='f1')</pre></div></div></div><div class=\"sk-parallel\"><div class=\"sk-parallel-item\"><div class=\"sk-item\"><div class=\"sk-serial\"><div class=\"sk-item\"><div class=\"sk-serial\"><div class=\"sk-item sk-dashed-wrapped\"><div class=\"sk-label-container\"><div class=\"sk-label sk-toggleable\"><input class=\"sk-toggleable__control sk-hidden--visually\" id=\"a905b367-9b42-412d-9ccf-3f8a59068e60\" type=\"checkbox\" ><label class=\"sk-toggleable__label\" for=\"a905b367-9b42-412d-9ccf-3f8a59068e60\">preprocessor: ColumnTransformer</label><div class=\"sk-toggleable__content\"><pre>ColumnTransformer(transformers=[('num',\n",
       "                                 Pipeline(steps=[('imputer',\n",
       "                                                  SimpleImputer(strategy='median')),\n",
       "                                                 ('scaler', StandardScaler())]),\n",
       "                                 ['Age', 'SibSp', 'Parch', 'Fare']),\n",
       "                                ('cat',\n",
       "                                 Pipeline(steps=[('imputer',\n",
       "                                                  SimpleImputer(fill_value='missing',\n",
       "                                                                strategy='constant')),\n",
       "                                                 ('encoder',\n",
       "                                                  OneHotEncoder(handle_unknown='ignore'))]),\n",
       "                                 ['Pclass', 'Sex', 'Embarked'])])</pre></div></div></div><div class=\"sk-parallel\"><div class=\"sk-parallel-item\"><div class=\"sk-item\"><div class=\"sk-label-container\"><div class=\"sk-label sk-toggleable\"><input class=\"sk-toggleable__control sk-hidden--visually\" id=\"0a9a378f-96ff-44d3-a842-9bee5013f87a\" type=\"checkbox\" ><label class=\"sk-toggleable__label\" for=\"0a9a378f-96ff-44d3-a842-9bee5013f87a\">num</label><div class=\"sk-toggleable__content\"><pre>['Age', 'SibSp', 'Parch', 'Fare']</pre></div></div></div><div class=\"sk-serial\"><div class=\"sk-item\"><div class=\"sk-serial\"><div class=\"sk-item\"><div class=\"sk-estimator sk-toggleable\"><input class=\"sk-toggleable__control sk-hidden--visually\" id=\"3cc70ef3-3b61-4cfc-af2e-d2be5b0b8b29\" type=\"checkbox\" ><label class=\"sk-toggleable__label\" for=\"3cc70ef3-3b61-4cfc-af2e-d2be5b0b8b29\">SimpleImputer</label><div class=\"sk-toggleable__content\"><pre>SimpleImputer(strategy='median')</pre></div></div></div><div class=\"sk-item\"><div class=\"sk-estimator sk-toggleable\"><input class=\"sk-toggleable__control sk-hidden--visually\" id=\"fce09275-06ae-4904-b807-9ab4bbd26c42\" type=\"checkbox\" ><label class=\"sk-toggleable__label\" for=\"fce09275-06ae-4904-b807-9ab4bbd26c42\">StandardScaler</label><div class=\"sk-toggleable__content\"><pre>StandardScaler()</pre></div></div></div></div></div></div></div></div><div class=\"sk-parallel-item\"><div class=\"sk-item\"><div class=\"sk-label-container\"><div class=\"sk-label sk-toggleable\"><input class=\"sk-toggleable__control sk-hidden--visually\" id=\"632102b7-f61c-4291-aa9b-2ea4fb503fa8\" type=\"checkbox\" ><label class=\"sk-toggleable__label\" for=\"632102b7-f61c-4291-aa9b-2ea4fb503fa8\">cat</label><div class=\"sk-toggleable__content\"><pre>['Pclass', 'Sex', 'Embarked']</pre></div></div></div><div class=\"sk-serial\"><div class=\"sk-item\"><div class=\"sk-serial\"><div class=\"sk-item\"><div class=\"sk-estimator sk-toggleable\"><input class=\"sk-toggleable__control sk-hidden--visually\" id=\"a711a105-5f32-428f-b8cc-09176bf45a6d\" type=\"checkbox\" ><label class=\"sk-toggleable__label\" for=\"a711a105-5f32-428f-b8cc-09176bf45a6d\">SimpleImputer</label><div class=\"sk-toggleable__content\"><pre>SimpleImputer(fill_value='missing', strategy='constant')</pre></div></div></div><div class=\"sk-item\"><div class=\"sk-estimator sk-toggleable\"><input class=\"sk-toggleable__control sk-hidden--visually\" id=\"80e3f202-dd10-4cd0-b255-adb3509bac8c\" type=\"checkbox\" ><label class=\"sk-toggleable__label\" for=\"80e3f202-dd10-4cd0-b255-adb3509bac8c\">OneHotEncoder</label><div class=\"sk-toggleable__content\"><pre>OneHotEncoder(handle_unknown='ignore')</pre></div></div></div></div></div></div></div></div></div></div><div class=\"sk-item\"><div class=\"sk-estimator sk-toggleable\"><input class=\"sk-toggleable__control sk-hidden--visually\" id=\"de08da02-5494-401c-a50f-7caa17ddc95a\" type=\"checkbox\" ><label class=\"sk-toggleable__label\" for=\"de08da02-5494-401c-a50f-7caa17ddc95a\">KNeighborsClassifier</label><div class=\"sk-toggleable__content\"><pre>KNeighborsClassifier()</pre></div></div></div></div></div></div></div></div></div></div></div></div>"
      ],
      "text/plain": [
       "GridSearchCV(estimator=Pipeline(steps=[('preprocessor',\n",
       "                                        ColumnTransformer(transformers=[('num',\n",
       "                                                                         Pipeline(steps=[('imputer',\n",
       "                                                                                          SimpleImputer(strategy='median')),\n",
       "                                                                                         ('scaler',\n",
       "                                                                                          StandardScaler())]),\n",
       "                                                                         ['Age',\n",
       "                                                                          'SibSp',\n",
       "                                                                          'Parch',\n",
       "                                                                          'Fare']),\n",
       "                                                                        ('cat',\n",
       "                                                                         Pipeline(steps=[('imputer',\n",
       "                                                                                          SimpleImputer(fill_value='missing',\n",
       "                                                                                                        strategy='constant')),\n",
       "                                                                                         ('encoder',\n",
       "                                                                                          OneHotEncoder(handle_unknown='ignore'))]),\n",
       "                                                                         ['Pclass',\n",
       "                                                                          'Sex',\n",
       "                                                                          'Embarked'])])),\n",
       "                                       ('knn', KNeighborsClassifier())]),\n",
       "             param_grid={'knn__metric': ['euclidian', 'minkowski', 'manhattan'],\n",
       "                         'knn__n_neighbors': [1, 3, 5, 7, 9, 11, 13, 15, 17, 19,\n",
       "                                              21, 23, 25, 27, 29, 31, 33, 35,\n",
       "                                              37, 39, 41, 43, 45, 47, 49, 51],\n",
       "                         'preprocessor__num__imputer__strategy': ['mean',\n",
       "                                                                  'median']},\n",
       "             scoring='f1')"
      ]
     },
     "execution_count": 41,
     "metadata": {},
     "output_type": "execute_result"
    }
   ],
   "source": [
    "params =  {'preprocessor__num__imputer__strategy':['mean','median'],\n",
    "          'knn__n_neighbors':list(range(1,52,2)),\n",
    "          'knn__metric':['euclidian','minkowski','manhattan']}\n",
    "grid = GridSearchCV(pipeline,params,scoring='f1')\n",
    "grid"
   ]
  },
  {
   "cell_type": "code",
   "execution_count": 42,
   "metadata": {
    "ExecuteTime": {
     "end_time": "2020-09-04T22:42:43.105196Z",
     "start_time": "2020-09-04T22:42:28.571427Z"
    }
   },
   "outputs": [
    {
     "name": "stdout",
     "output_type": "stream",
     "text": [
      "{'knn__metric': 'manhattan', 'knn__n_neighbors': 13, 'preprocessor__num__imputer__strategy': 'mean'}\n"
     ]
    }
   ],
   "source": [
    "grid.fit(X_train,y_train)\n",
    "print(grid.best_params_)"
   ]
  },
  {
   "cell_type": "code",
   "execution_count": 43,
   "metadata": {
    "ExecuteTime": {
     "end_time": "2020-09-04T22:42:43.530967Z",
     "start_time": "2020-09-04T22:42:43.106923Z"
    },
    "scrolled": false
   },
   "outputs": [
    {
     "name": "stdout",
     "output_type": "stream",
     "text": [
      "------------------------------------------------------------\n",
      "[i] CLASSIFICATION REPORT\n",
      "------------------------------------------------------------\n",
      "              precision    recall  f1-score   support\n",
      "\n",
      "           0       0.82      0.89      0.85       134\n",
      "           1       0.81      0.71      0.75        89\n",
      "\n",
      "    accuracy                           0.82       223\n",
      "   macro avg       0.81      0.80      0.80       223\n",
      "weighted avg       0.82      0.82      0.81       223\n",
      "\n",
      "------------------------------------------------------------\n",
      "\n",
      "\n"
     ]
    },
    {
     "data": {
      "image/png": "[encoded data removed]",
      "text/plain": [
       "<Figure size 720x288 with 3 Axes>"
      ]
     },
     "metadata": {
      "needs_background": "light"
     },
     "output_type": "display_data"
    }
   ],
   "source": [
    "evaluate_classification(grid,X_test,y_test);"
   ]
  },
  {
   "cell_type": "code",
   "execution_count": 45,
   "metadata": {
    "ExecuteTime": {
     "end_time": "2020-09-04T22:42:43.540701Z",
     "start_time": "2020-09-04T22:42:43.538537Z"
    }
   },
   "outputs": [],
   "source": [
    "# knn_best_params = grid.best_params_\n",
    "# knn_best_params"
   ]
  },
  {
   "cell_type": "markdown",
   "metadata": {},
   "source": [
    "# So why use pipelines?"
   ]
  },
  {
   "cell_type": "markdown",
   "metadata": {},
   "source": [
    "### For one, you Can Easily Add Other Models "
   ]
  },
  {
   "cell_type": "code",
   "execution_count": 46,
   "metadata": {
    "ExecuteTime": {
     "end_time": "2020-09-04T22:42:43.566851Z",
     "start_time": "2020-09-04T22:42:43.542379Z"
    }
   },
   "outputs": [
    {
     "data": {
      "text/html": [
       "<style>div.sk-top-container {color: black;background-color: white;}div.sk-toggleable {background-color: white;}label.sk-toggleable__label {cursor: pointer;display: block;width: 100%;margin-bottom: 0;padding: 0.2em 0.3em;box-sizing: border-box;text-align: center;}div.sk-toggleable__content {max-height: 0;max-width: 0;overflow: hidden;text-align: left;background-color: #f0f8ff;}div.sk-toggleable__content pre {margin: 0.2em;color: black;border-radius: 0.25em;background-color: #f0f8ff;}input.sk-toggleable__control:checked~div.sk-toggleable__content {max-height: 200px;max-width: 100%;overflow: auto;}div.sk-estimator input.sk-toggleable__control:checked~label.sk-toggleable__label {background-color: #d4ebff;}div.sk-label input.sk-toggleable__control:checked~label.sk-toggleable__label {background-color: #d4ebff;}input.sk-hidden--visually {border: 0;clip: rect(1px 1px 1px 1px);clip: rect(1px, 1px, 1px, 1px);height: 1px;margin: -1px;overflow: hidden;padding: 0;position: absolute;width: 1px;}div.sk-estimator {font-family: monospace;background-color: #f0f8ff;margin: 0.25em 0.25em;border: 1px dotted black;border-radius: 0.25em;box-sizing: border-box;}div.sk-estimator:hover {background-color: #d4ebff;}div.sk-parallel-item::after {content: \"\";width: 100%;border-bottom: 1px solid gray;flex-grow: 1;}div.sk-label:hover label.sk-toggleable__label {background-color: #d4ebff;}div.sk-serial::before {content: \"\";position: absolute;border-left: 1px solid gray;box-sizing: border-box;top: 2em;bottom: 0;left: 50%;}div.sk-serial {display: flex;flex-direction: column;align-items: center;background-color: white;}div.sk-item {z-index: 1;}div.sk-parallel {display: flex;align-items: stretch;justify-content: center;background-color: white;}div.sk-parallel-item {display: flex;flex-direction: column;position: relative;background-color: white;}div.sk-parallel-item:first-child::after {align-self: flex-end;width: 50%;}div.sk-parallel-item:last-child::after {align-self: flex-start;width: 50%;}div.sk-parallel-item:only-child::after {width: 0;}div.sk-dashed-wrapped {border: 1px dashed gray;margin: 0.2em;box-sizing: border-box;padding-bottom: 0.1em;background-color: white;position: relative;}div.sk-label label {font-family: monospace;font-weight: bold;background-color: white;display: inline-block;line-height: 1.2em;}div.sk-label-container {position: relative;z-index: 2;text-align: center;}div.sk-container {display: inline-block;position: relative;}</style><div class=\"sk-top-container\"><div class=\"sk-container\"><div class=\"sk-item\"><div class=\"sk-estimator sk-toggleable\"><input class=\"sk-toggleable__control sk-hidden--visually\" id=\"11744298-5b41-473a-80ad-ba387fdb2ee2\" type=\"checkbox\" checked><label class=\"sk-toggleable__label\" for=\"11744298-5b41-473a-80ad-ba387fdb2ee2\">GaussianNB</label><div class=\"sk-toggleable__content\"><pre>GaussianNB()</pre></div></div></div></div></div>"
      ],
      "text/plain": [
       "GaussianNB()"
      ]
     },
     "execution_count": 46,
     "metadata": {},
     "output_type": "execute_result"
    }
   ],
   "source": [
    "from sklearn.ensemble import RandomForestClassifier\n",
    "from sklearn.linear_model import LogisticRegression\n",
    "from sklearn.svm import SVC\n",
    "from sklearn.naive_bayes import GaussianNB\n",
    "from sklearn.linear_model import LogisticRegression\n",
    "from sklearn.neighbors import KNeighborsClassifier\n",
    "GaussianNB()"
   ]
  },
  {
   "cell_type": "code",
   "execution_count": 47,
   "metadata": {
    "ExecuteTime": {
     "end_time": "2020-09-04T22:42:43.854241Z",
     "start_time": "2020-09-04T22:42:43.568955Z"
    }
   },
   "outputs": [
    {
     "data": {
      "text/html": [
       "<style>div.sk-top-container {color: black;background-color: white;}div.sk-toggleable {background-color: white;}label.sk-toggleable__label {cursor: pointer;display: block;width: 100%;margin-bottom: 0;padding: 0.2em 0.3em;box-sizing: border-box;text-align: center;}div.sk-toggleable__content {max-height: 0;max-width: 0;overflow: hidden;text-align: left;background-color: #f0f8ff;}div.sk-toggleable__content pre {margin: 0.2em;color: black;border-radius: 0.25em;background-color: #f0f8ff;}input.sk-toggleable__control:checked~div.sk-toggleable__content {max-height: 200px;max-width: 100%;overflow: auto;}div.sk-estimator input.sk-toggleable__control:checked~label.sk-toggleable__label {background-color: #d4ebff;}div.sk-label input.sk-toggleable__control:checked~label.sk-toggleable__label {background-color: #d4ebff;}input.sk-hidden--visually {border: 0;clip: rect(1px 1px 1px 1px);clip: rect(1px, 1px, 1px, 1px);height: 1px;margin: -1px;overflow: hidden;padding: 0;position: absolute;width: 1px;}div.sk-estimator {font-family: monospace;background-color: #f0f8ff;margin: 0.25em 0.25em;border: 1px dotted black;border-radius: 0.25em;box-sizing: border-box;}div.sk-estimator:hover {background-color: #d4ebff;}div.sk-parallel-item::after {content: \"\";width: 100%;border-bottom: 1px solid gray;flex-grow: 1;}div.sk-label:hover label.sk-toggleable__label {background-color: #d4ebff;}div.sk-serial::before {content: \"\";position: absolute;border-left: 1px solid gray;box-sizing: border-box;top: 2em;bottom: 0;left: 50%;}div.sk-serial {display: flex;flex-direction: column;align-items: center;background-color: white;}div.sk-item {z-index: 1;}div.sk-parallel {display: flex;align-items: stretch;justify-content: center;background-color: white;}div.sk-parallel-item {display: flex;flex-direction: column;position: relative;background-color: white;}div.sk-parallel-item:first-child::after {align-self: flex-end;width: 50%;}div.sk-parallel-item:last-child::after {align-self: flex-start;width: 50%;}div.sk-parallel-item:only-child::after {width: 0;}div.sk-dashed-wrapped {border: 1px dashed gray;margin: 0.2em;box-sizing: border-box;padding-bottom: 0.1em;background-color: white;position: relative;}div.sk-label label {font-family: monospace;font-weight: bold;background-color: white;display: inline-block;line-height: 1.2em;}div.sk-label-container {position: relative;z-index: 2;text-align: center;}div.sk-container {display: inline-block;position: relative;}</style><div class=\"sk-top-container\"><div class=\"sk-container\"><div class=\"sk-item sk-dashed-wrapped\"><div class=\"sk-label-container\"><div class=\"sk-label sk-toggleable\"><input class=\"sk-toggleable__control sk-hidden--visually\" id=\"46f74603-648a-4f55-ba73-3ee8d80b714b\" type=\"checkbox\" ><label class=\"sk-toggleable__label\" for=\"46f74603-648a-4f55-ba73-3ee8d80b714b\">Pipeline</label><div class=\"sk-toggleable__content\"><pre>Pipeline(steps=[('preprocessor',\n",
       "                 ColumnTransformer(transformers=[('num',\n",
       "                                                  Pipeline(steps=[('imputer',\n",
       "                                                                   SimpleImputer(strategy='median')),\n",
       "                                                                  ('scaler',\n",
       "                                                                   StandardScaler())]),\n",
       "                                                  ['Age', 'SibSp', 'Parch',\n",
       "                                                   'Fare']),\n",
       "                                                 ('cat',\n",
       "                                                  Pipeline(steps=[('imputer',\n",
       "                                                                   SimpleImputer(fill_value='missing',\n",
       "                                                                                 strategy='constant')),\n",
       "                                                                  ('encoder',\n",
       "                                                                   OneHotEncoder(handle_unknown='ignore'))]),\n",
       "                                                  ['Pclass', 'Sex',\n",
       "                                                   'Embarked'])])),\n",
       "                ('rf', RandomForestClassifier())])</pre></div></div></div><div class=\"sk-serial\"><div class=\"sk-item sk-dashed-wrapped\"><div class=\"sk-label-container\"><div class=\"sk-label sk-toggleable\"><input class=\"sk-toggleable__control sk-hidden--visually\" id=\"20f3ba12-cf2b-4ade-acfc-61c2fa0fe3c4\" type=\"checkbox\" ><label class=\"sk-toggleable__label\" for=\"20f3ba12-cf2b-4ade-acfc-61c2fa0fe3c4\">preprocessor: ColumnTransformer</label><div class=\"sk-toggleable__content\"><pre>ColumnTransformer(transformers=[('num',\n",
       "                                 Pipeline(steps=[('imputer',\n",
       "                                                  SimpleImputer(strategy='median')),\n",
       "                                                 ('scaler', StandardScaler())]),\n",
       "                                 ['Age', 'SibSp', 'Parch', 'Fare']),\n",
       "                                ('cat',\n",
       "                                 Pipeline(steps=[('imputer',\n",
       "                                                  SimpleImputer(fill_value='missing',\n",
       "                                                                strategy='constant')),\n",
       "                                                 ('encoder',\n",
       "                                                  OneHotEncoder(handle_unknown='ignore'))]),\n",
       "                                 ['Pclass', 'Sex', 'Embarked'])])</pre></div></div></div><div class=\"sk-parallel\"><div class=\"sk-parallel-item\"><div class=\"sk-item\"><div class=\"sk-label-container\"><div class=\"sk-label sk-toggleable\"><input class=\"sk-toggleable__control sk-hidden--visually\" id=\"977529bd-132a-4802-9746-30195ae9d4dd\" type=\"checkbox\" ><label class=\"sk-toggleable__label\" for=\"977529bd-132a-4802-9746-30195ae9d4dd\">num</label><div class=\"sk-toggleable__content\"><pre>['Age', 'SibSp', 'Parch', 'Fare']</pre></div></div></div><div class=\"sk-serial\"><div class=\"sk-item\"><div class=\"sk-serial\"><div class=\"sk-item\"><div class=\"sk-estimator sk-toggleable\"><input class=\"sk-toggleable__control sk-hidden--visually\" id=\"00a4cfdd-c36a-415f-81e6-22b32035c518\" type=\"checkbox\" ><label class=\"sk-toggleable__label\" for=\"00a4cfdd-c36a-415f-81e6-22b32035c518\">SimpleImputer</label><div class=\"sk-toggleable__content\"><pre>SimpleImputer(strategy='median')</pre></div></div></div><div class=\"sk-item\"><div class=\"sk-estimator sk-toggleable\"><input class=\"sk-toggleable__control sk-hidden--visually\" id=\"4369bf93-0194-4d60-8f20-c749c43344bc\" type=\"checkbox\" ><label class=\"sk-toggleable__label\" for=\"4369bf93-0194-4d60-8f20-c749c43344bc\">StandardScaler</label><div class=\"sk-toggleable__content\"><pre>StandardScaler()</pre></div></div></div></div></div></div></div></div><div class=\"sk-parallel-item\"><div class=\"sk-item\"><div class=\"sk-label-container\"><div class=\"sk-label sk-toggleable\"><input class=\"sk-toggleable__control sk-hidden--visually\" id=\"2dc186f6-5ff7-44ff-8525-d0e667a31568\" type=\"checkbox\" ><label class=\"sk-toggleable__label\" for=\"2dc186f6-5ff7-44ff-8525-d0e667a31568\">cat</label><div class=\"sk-toggleable__content\"><pre>['Pclass', 'Sex', 'Embarked']</pre></div></div></div><div class=\"sk-serial\"><div class=\"sk-item\"><div class=\"sk-serial\"><div class=\"sk-item\"><div class=\"sk-estimator sk-toggleable\"><input class=\"sk-toggleable__control sk-hidden--visually\" id=\"5652e117-81a0-4d44-870f-718f8671b06c\" type=\"checkbox\" ><label class=\"sk-toggleable__label\" for=\"5652e117-81a0-4d44-870f-718f8671b06c\">SimpleImputer</label><div class=\"sk-toggleable__content\"><pre>SimpleImputer(fill_value='missing', strategy='constant')</pre></div></div></div><div class=\"sk-item\"><div class=\"sk-estimator sk-toggleable\"><input class=\"sk-toggleable__control sk-hidden--visually\" id=\"86e4cb6f-ed24-4034-9c1d-8b4d0a489736\" type=\"checkbox\" ><label class=\"sk-toggleable__label\" for=\"86e4cb6f-ed24-4034-9c1d-8b4d0a489736\">OneHotEncoder</label><div class=\"sk-toggleable__content\"><pre>OneHotEncoder(handle_unknown='ignore')</pre></div></div></div></div></div></div></div></div></div></div><div class=\"sk-item\"><div class=\"sk-estimator sk-toggleable\"><input class=\"sk-toggleable__control sk-hidden--visually\" id=\"b134ab0c-c4ce-444c-b5f5-5b9d19c19444\" type=\"checkbox\" ><label class=\"sk-toggleable__label\" for=\"b134ab0c-c4ce-444c-b5f5-5b9d19c19444\">RandomForestClassifier</label><div class=\"sk-toggleable__content\"><pre>RandomForestClassifier()</pre></div></div></div></div></div></div></div>"
      ],
      "text/plain": [
       "Pipeline(steps=[('preprocessor',\n",
       "                 ColumnTransformer(transformers=[('num',\n",
       "                                                  Pipeline(steps=[('imputer',\n",
       "                                                                   SimpleImputer(strategy='median')),\n",
       "                                                                  ('scaler',\n",
       "                                                                   StandardScaler())]),\n",
       "                                                  ['Age', 'SibSp', 'Parch',\n",
       "                                                   'Fare']),\n",
       "                                                 ('cat',\n",
       "                                                  Pipeline(steps=[('imputer',\n",
       "                                                                   SimpleImputer(fill_value='missing',\n",
       "                                                                                 strategy='constant')),\n",
       "                                                                  ('encoder',\n",
       "                                                                   OneHotEncoder(handle_unknown='ignore'))]),\n",
       "                                                  ['Pclass', 'Sex',\n",
       "                                                   'Embarked'])])),\n",
       "                ('rf', RandomForestClassifier())])"
      ]
     },
     "execution_count": 47,
     "metadata": {},
     "output_type": "execute_result"
    }
   ],
   "source": [
    "PIPES = {}\n",
    "\n",
    "models = [('knn',KNeighborsClassifier), \n",
    "          ('bayes',GaussianNB),\n",
    "          ('rf',RandomForestClassifier),\n",
    "              ('log',LogisticRegression),\n",
    "              ('svc',SVC)]\n",
    "\n",
    "\n",
    "for name,model in models:\n",
    "    PIPES[name] = Pipeline(steps=[('preprocessor',preprocessing),\n",
    "                                 (name,model())])\n",
    "    \n",
    "PIPES['rf']"
   ]
  },
  {
   "cell_type": "code",
   "execution_count": 48,
   "metadata": {
    "ExecuteTime": {
     "end_time": "2020-09-04T22:42:46.017898Z",
     "start_time": "2020-09-04T22:42:43.855974Z"
    },
    "scrolled": false
   },
   "outputs": [
    {
     "name": "stdout",
     "output_type": "stream",
     "text": [
      "------------------------------------------------------------\n",
      "[i] CLASSIFICATION REPORT knn\n",
      "------------------------------------------------------------\n",
      "              precision    recall  f1-score   support\n",
      "\n",
      "           0       0.82      0.86      0.84       134\n",
      "           1       0.77      0.71      0.74        89\n",
      "\n",
      "    accuracy                           0.80       223\n",
      "   macro avg       0.79      0.78      0.79       223\n",
      "weighted avg       0.80      0.80      0.80       223\n",
      "\n",
      "------------------------------------------------------------\n",
      "\n",
      "\n"
     ]
    },
    {
     "data": {
      "image/png": "[encoded data removed]",
      "text/plain": [
       "<Figure size 720x288 with 3 Axes>"
      ]
     },
     "metadata": {
      "needs_background": "light"
     },
     "output_type": "display_data"
    },
    {
     "name": "stdout",
     "output_type": "stream",
     "text": [
      "------------------------------------------------------------\n",
      "[i] CLASSIFICATION REPORT bayes\n",
      "------------------------------------------------------------\n",
      "              precision    recall  f1-score   support\n",
      "\n",
      "           0       0.65      0.98      0.78       134\n",
      "           1       0.86      0.20      0.33        89\n",
      "\n",
      "    accuracy                           0.67       223\n",
      "   macro avg       0.75      0.59      0.55       223\n",
      "weighted avg       0.73      0.67      0.60       223\n",
      "\n",
      "------------------------------------------------------------\n",
      "\n",
      "\n"
     ]
    },
    {
     "data": {
      "image/png": "[encoded data removed]",
      "text/plain": [
       "<Figure size 720x288 with 3 Axes>"
      ]
     },
     "metadata": {
      "needs_background": "light"
     },
     "output_type": "display_data"
    },
    {
     "name": "stdout",
     "output_type": "stream",
     "text": [
      "------------------------------------------------------------\n",
      "[i] CLASSIFICATION REPORT rf\n",
      "------------------------------------------------------------\n",
      "              precision    recall  f1-score   support\n",
      "\n",
      "           0       0.83      0.81      0.82       134\n",
      "           1       0.73      0.75      0.74        89\n",
      "\n",
      "    accuracy                           0.79       223\n",
      "   macro avg       0.78      0.78      0.78       223\n",
      "weighted avg       0.79      0.79      0.79       223\n",
      "\n",
      "------------------------------------------------------------\n",
      "\n",
      "\n"
     ]
    },
    {
     "data": {
      "image/png": "[encoded data removed]",
      "text/plain": [
       "<Figure size 720x288 with 3 Axes>"
      ]
     },
     "metadata": {
      "needs_background": "light"
     },
     "output_type": "display_data"
    },
    {
     "name": "stdout",
     "output_type": "stream",
     "text": [
      "------------------------------------------------------------\n",
      "[i] CLASSIFICATION REPORT log\n",
      "------------------------------------------------------------\n",
      "              precision    recall  f1-score   support\n",
      "\n",
      "           0       0.82      0.87      0.84       134\n",
      "           1       0.78      0.71      0.74        89\n",
      "\n",
      "    accuracy                           0.80       223\n",
      "   macro avg       0.80      0.79      0.79       223\n",
      "weighted avg       0.80      0.80      0.80       223\n",
      "\n",
      "------------------------------------------------------------\n",
      "\n",
      "\n"
     ]
    },
    {
     "data": {
      "image/png": "[encoded data removed]",
      "text/plain": [
       "<Figure size 720x288 with 3 Axes>"
      ]
     },
     "metadata": {
      "needs_background": "light"
     },
     "output_type": "display_data"
    },
    {
     "name": "stdout",
     "output_type": "stream",
     "text": [
      "------------------------------------------------------------\n",
      "[i] CLASSIFICATION REPORT svc\n",
      "------------------------------------------------------------\n",
      "              precision    recall  f1-score   support\n",
      "\n",
      "           0       0.83      0.88      0.86       134\n",
      "           1       0.80      0.73      0.76        89\n",
      "\n",
      "    accuracy                           0.82       223\n",
      "   macro avg       0.82      0.81      0.81       223\n",
      "weighted avg       0.82      0.82      0.82       223\n",
      "\n",
      "------------------------------------------------------------\n",
      "\n",
      "\n"
     ]
    },
    {
     "data": {
      "image/png": "[encoded data removed]",
      "text/plain": [
       "<Figure size 720x288 with 3 Axes>"
      ]
     },
     "metadata": {
      "needs_background": "light"
     },
     "output_type": "display_data"
    }
   ],
   "source": [
    "RESULTS = {}\n",
    "for name, pipe in PIPES.items():\n",
    "    RESULTS[name] = evaluate_classification(pipe.fit(X_train,y_train),\n",
    "                                            X_test,y_test,label=name)\n"
   ]
  },
  {
   "cell_type": "code",
   "execution_count": 50,
   "metadata": {
    "ExecuteTime": {
     "end_time": "2020-09-04T22:42:51.769549Z",
     "start_time": "2020-09-04T22:42:51.767603Z"
    }
   },
   "outputs": [],
   "source": [
    "# row = '1'#'macro avgx'\n",
    "# col = 'f1-score'\n",
    "# for model,res_df in RESULTS.items():\n",
    "# #     RESULTS['rf']\n",
    "#     print(f\"For {model}: {row} {col} = {res_df.loc[row,col]}\")\n",
    "    "
   ]
  },
  {
   "cell_type": "markdown",
   "metadata": {
    "heading_collapsed": true
   },
   "source": [
    "# APPENDIX"
   ]
  },
  {
   "cell_type": "markdown",
   "metadata": {
    "hidden": true
   },
   "source": [
    "#### Accessing Components of a Pipeline"
   ]
  },
  {
   "cell_type": "code",
   "execution_count": null,
   "metadata": {
    "ExecuteTime": {
     "end_time": "2020-09-04T22:41:47.823777Z",
     "start_time": "2020-09-04T22:41:45.103Z"
    },
    "hidden": true
   },
   "outputs": [],
   "source": [
    "## Accessing contents of a pipeline\n",
    "pipeline.named_steps.keys()"
   ]
  },
  {
   "cell_type": "code",
   "execution_count": null,
   "metadata": {
    "ExecuteTime": {
     "end_time": "2020-09-04T22:41:47.824869Z",
     "start_time": "2020-09-04T22:41:45.106Z"
    },
    "hidden": true
   },
   "outputs": [],
   "source": [
    "print(pipeline.named_steps.keys())\n",
    "print(pipeline.named_steps['preprocessor'])"
   ]
  },
  {
   "cell_type": "code",
   "execution_count": null,
   "metadata": {
    "ExecuteTime": {
     "end_time": "2020-09-04T22:41:47.825824Z",
     "start_time": "2020-09-04T22:41:45.109Z"
    },
    "hidden": true
   },
   "outputs": [],
   "source": [
    "pipeline.named_steps"
   ]
  },
  {
   "cell_type": "code",
   "execution_count": null,
   "metadata": {
    "ExecuteTime": {
     "end_time": "2020-09-04T22:41:47.827047Z",
     "start_time": "2020-09-04T22:41:45.112Z"
    },
    "hidden": true,
    "scrolled": true
   },
   "outputs": [],
   "source": [
    "pipeline.named_steps['preprocessor'].named_transformers_"
   ]
  },
  {
   "cell_type": "code",
   "execution_count": null,
   "metadata": {
    "ExecuteTime": {
     "end_time": "2020-09-04T22:41:47.828158Z",
     "start_time": "2020-09-04T22:41:45.115Z"
    },
    "hidden": true,
    "scrolled": true
   },
   "outputs": [],
   "source": [
    "pipeline.named_steps['knn']\n"
   ]
  },
  {
   "cell_type": "code",
   "execution_count": null,
   "metadata": {
    "ExecuteTime": {
     "end_time": "2020-09-04T22:41:47.829146Z",
     "start_time": "2020-09-04T22:41:45.118Z"
    },
    "hidden": true
   },
   "outputs": [],
   "source": [
    "pipeline.named_steps['knn'].get_params()"
   ]
  },
  {
   "cell_type": "code",
   "execution_count": null,
   "metadata": {
    "ExecuteTime": {
     "end_time": "2020-09-04T22:41:47.830170Z",
     "start_time": "2020-09-04T22:41:45.122Z"
    },
    "hidden": true
   },
   "outputs": [],
   "source": [
    "set_config(display='text')#'diagram')"
   ]
  },
  {
   "cell_type": "markdown",
   "metadata": {
    "heading_collapsed": true,
    "hidden": true
   },
   "source": [
    "## ARCHIVE"
   ]
  },
  {
   "cell_type": "code",
   "execution_count": null,
   "metadata": {
    "ExecuteTime": {
     "end_time": "2020-09-04T22:41:47.831223Z",
     "start_time": "2020-09-04T22:41:45.125Z"
    },
    "hidden": true
   },
   "outputs": [],
   "source": [
    "STOP"
   ]
  },
  {
   "cell_type": "markdown",
   "metadata": {
    "heading_collapsed": true,
    "hidden": true
   },
   "source": [
    "## Overly Complex Versions fo Functions"
   ]
  },
  {
   "cell_type": "code",
   "execution_count": null,
   "metadata": {
    "ExecuteTime": {
     "end_time": "2020-09-04T22:41:47.832288Z",
     "start_time": "2020-09-04T22:41:45.128Z"
    },
    "hidden": true
   },
   "outputs": [],
   "source": [
    "import sklearn.metrics as metrics\n",
    "def classification_report_df(y_test,y_hat_test,classes=None):\n",
    "    report = pd.DataFrame(metrics.classification_report(y_test,y_hat_test,\n",
    "                                                        target_names=classes,\n",
    "                                                        output_dict=True))\n",
    "    report.insert(len(report.columns)-3,' ','')\n",
    "    report = report.T\n",
    "\n",
    "    report.loc['accuracy',['precision','recall','f1-score']] = ''\n",
    "    return report\n",
    "\n",
    "classification_report_df(y_test,y_hat_test,classes=['Died','Survived'])"
   ]
  },
  {
   "cell_type": "code",
   "execution_count": null,
   "metadata": {
    "ExecuteTime": {
     "end_time": "2020-09-04T22:41:47.833413Z",
     "start_time": "2020-09-04T22:41:45.132Z"
    },
    "hidden": true
   },
   "outputs": [],
   "source": [
    "def evaluate_classification(model,X_test,y_test,classes=None,\n",
    "                           normalize='true',cmap='Purples',label='',\n",
    "                           df_report = True):\n",
    "    \"\"\"Accepts an sklearn-compatible classification model + test data \n",
    "    and displays several sklearn.metrics functions: \n",
    "    - classifciation_report\n",
    "    - plot_confusion_matrix\n",
    "    - plot_roc_curve\n",
    "    \"\"\"\n",
    "     \n",
    "    ## Get Predictions\n",
    "    y_hat_test = model.predict(X_test)\n",
    "    \n",
    "    ## Classification Report / Scores \n",
    "    table_header = \"[i] CLASSIFICATION REPORT\"\n",
    "\n",
    "    ## Add Label \n",
    "    if len(label)>0:\n",
    "        table_header += f\" {label}\"\n",
    "        \n",
    "    \n",
    "    ## PRINT TABLE\n",
    "    dashes = '---'*20\n",
    "    print(dashes,table_header,dashes,sep='\\n')\n",
    "    \n",
    "    \n",
    "    ## CLASSIFICATION REPORT\n",
    "    if df_report:\n",
    "        report = classification_report_df(y_test,y_hat_test,classes=classes)\n",
    "        display(report)\n",
    "    else:\n",
    "        print(metrics.classification_report(y_test,y_hat_test,\n",
    "                                        target_names=classes))\n",
    "        report = metrics.classification_report(y_test,y_hat_test,\n",
    "                                               target_names=classes)\n",
    "    print(dashes+\"\\n\\n\")\n",
    "    \n",
    "    \n",
    "    ## MAKE FIGURE\n",
    "    fig, axes = plt.subplots(figsize=(10,4),ncols=2)\n",
    "    \n",
    "    ## Confusion Matrix \n",
    "    metrics.plot_confusion_matrix(model, X_test,y_test,\n",
    "                                  display_labels=classes,\n",
    "                                  normalize=normalize,\n",
    "                                 cmap=cmap,ax=axes[0])\n",
    "    axes[0].set(title='Confusion Matrix')\n",
    "    \n",
    "    ## Roc Curve\n",
    "    roc_plot = metrics.plot_roc_curve(model, X_test, y_test,ax=axes[1])\n",
    "    axes[1].legend()\n",
    "    axes[1].plot([0,1],[0,1],ls=':')\n",
    "    axes[1].grid()\n",
    "    axes[1].set_title('Receiving Operator Characteristic (ROC) Curve') \n",
    "    fig.tight_layout()\n",
    "    plt.show()\n",
    "    \n",
    "    return report #fig,axes"
   ]
  },
  {
   "cell_type": "markdown",
   "metadata": {
    "hidden": true
   },
   "source": [
    "## Yellow Brick Visulizations"
   ]
  },
  {
   "cell_type": "code",
   "execution_count": null,
   "metadata": {
    "ExecuteTime": {
     "end_time": "2020-09-04T22:41:47.834472Z",
     "start_time": "2020-09-04T22:41:45.136Z"
    },
    "hidden": true
   },
   "outputs": [],
   "source": [
    "from sklearn.neighbors import KNeighborsClassifier\n",
    "from yellowbrick.contrib.classifier import DecisionViz\n"
   ]
  },
  {
   "cell_type": "code",
   "execution_count": null,
   "metadata": {
    "hidden": true
   },
   "outputs": [],
   "source": []
  }
 ],
 "metadata": {
  "kernelspec": {
   "display_name": "Python [conda env:learn-env] *",
   "language": "python",
   "name": "conda-env-learn-env-py"
  },
  "language_info": {
   "codemirror_mode": {
    "name": "ipython",
    "version": 3
   },
   "file_extension": ".py",
   "mimetype": "text/x-python",
   "name": "python",
   "nbconvert_exporter": "python",
   "pygments_lexer": "ipython3",
   "version": "3.6.11"
  },
  "toc": {
   "base_numbering": 1,
   "nav_menu": {},
   "number_sections": false,
   "sideBar": true,
   "skip_h1_title": false,
   "title_cell": "Table of Contents",
   "title_sidebar": "Contents",
   "toc_cell": false,
   "toc_position": {
    "height": "calc(100% - 180px)",
    "left": "10px",
    "top": "150px",
    "width": "232.727px"
   },
   "toc_section_display": true,
   "toc_window_display": true
  }
 },
 "nbformat": 4,
 "nbformat_minor": 2
}

{
 "cells": [
  {
   "cell_type": "markdown",
   "metadata": {
    "colab_type": "text",
    "id": "ZM6DyjYckZl2"
   },
   "source": [
    "\n",
    "# Sect 14 - Hypothesis Testing - T-Tests"
   ]
  },
  {
   "cell_type": "markdown",
   "metadata": {
    "colab_type": "text",
    "id": "EM8QVDhSUCa_"
   },
   "source": [
    "- online-ds-ft-070620\n",
    "- 08/11/20\n",
    "\n"
   ]
  },
  {
   "cell_type": "markdown",
   "metadata": {},
   "source": [
    "# Questions"
   ]
  },
  {
   "cell_type": "markdown",
   "metadata": {
    "colab_type": "text",
    "id": "BWefqzWJoc_E"
   },
   "source": [
    "# Topics / Learning Objectives"
   ]
  },
  {
   "cell_type": "markdown",
   "metadata": {
    "colab_type": "text",
    "id": "BWefqzWJoc_E"
   },
   "source": [
    "- Briefly Review: Normal distribution / Z-tests \n",
    "- Discuss Central Limit Theorem & Sampling\n",
    "- The T-Distribution (and degrees of Freedom)\n",
    "- Intro to AB Testing / Big-Picture Hypothesis Testing Workflow"
   ]
  },
  {
   "cell_type": "markdown",
   "metadata": {},
   "source": [
    "# Resources"
   ]
  },
  {
   "cell_type": "markdown",
   "metadata": {},
   "source": [
    "- **My Complete Outline / Resource Repo for Hypothesis Testing**\n",
    "    - URL: https://github.com/jirvingphd/hypothesis_testing_workflow_python\n",
    "    - Includes:\n",
    "        - Practice Hypothesis Testing Project\n",
    "        - [Hypothesis Testing Slide Show (Code Academy)](https://github.com/jirvingphd/hypothesis_testing_workflow_python/blob/master/Hypothesis%20Testing%20with%20SciPy_codeacademy%20slides.pdf)\n",
    "        - [Notebook with Full Hypothesis Testing Outline](https://nbviewer.jupyter.org/github/jirvingphd/hypothesis_testing_workflow_python/blob/master/hypothesis_testing_workflow.ipynb)\n",
    "    \n",
    "    \n",
    "- [Hypothesis Testing Cheat Sheet](https://drive.google.com/file/d/17ePxNQdfM3OdrKEr_v0rVmivv9mNI_6I/view?usp=sharing)\n"
   ]
  },
  {
   "cell_type": "markdown",
   "metadata": {},
   "source": [
    "# Section 14: Hypothesis Testing"
   ]
  },
  {
   "cell_type": "markdown",
   "metadata": {},
   "source": [
    "<img src=\"https://raw.githubusercontent.com/jirvingphd/dsc-experimental-design-onl01-dtsc-ft-030220/master/images/new_the-scientific-method.png\">"
   ]
  },
  {
   "cell_type": "markdown",
   "metadata": {},
   "source": [
    "## Foundations of a Sound Experiment"
   ]
  },
  {
   "cell_type": "markdown",
   "metadata": {},
   "source": [
    "- **Control Group/Random Controlled Trials**\n",
    "\n",
    "- **If humans are administering the experiment and/or grading/recording observations** about the groups, we should ideally use a **double blind** design (though single blind is better than nothing).\n",
    "\n",
    "<img src=\"https://raw.githubusercontent.com/jirvingphd/dsc-experimental-design-online-ds-pt-100719/master/images/new_double_blind.png\" width=60%>"
   ]
  },
  {
   "cell_type": "markdown",
   "metadata": {},
   "source": [
    "- **Sampling Techniques:**\n",
    "    - Sampling is independent\n",
    "    - Sample is collected randomly\n",
    "    - Sample is approximately normally distributed\n",
    "    - Appropriate sample size\n",
    "    \n",
    "- **Reproducibility**"
   ]
  },
  {
   "cell_type": "markdown",
   "metadata": {},
   "source": [
    "## P-Values & Null Hypotheses"
   ]
  },
  {
   "cell_type": "markdown",
   "metadata": {
    "ExecuteTime": {
     "end_time": "2020-01-21T22:27:02.794260Z",
     "start_time": "2020-01-21T22:27:02.789275Z"
    }
   },
   "source": [
    "**_Null Hypothesis_**: There is no relationship between A and B   \n",
    "Example: \"There is no relationship between this flu medication and a reduced recovery time from the flu\".\n",
    "\n",
    "The _Null Hypothesis_ is usually denoted as $H_{0}$\n",
    "\n",
    "**_Alternative Hypothesis_**: The hypothesis traditionally thought of when creating a hypothesis for an experiment  \n",
    "Example: \"This flu medication reduces recovery time for the flu.\"\n",
    "\n",
    "The _Alternative Hypothesis_ is usually denoted as $H_{1}$"
   ]
  },
  {
   "cell_type": "markdown",
   "metadata": {},
   "source": [
    "\n",
    "> **The one-sample $z$-test is used only for tests related to the sample mean.** \n",
    "<img src=\"https://raw.githubusercontent.com/learn-co-students/dsc-z-score-p-value-online-ds-pt-100719/master/images/pvalue.png\" width=70%>\n",
    "\n",
    "\n",
    "<!---<img src=\"https://raw.githubusercontent.com/jirvingphd/dsc-z-score-p-value-online-ds-ft-100719/master/images/cumprob2.png\" width=400--->"
   ]
  },
  {
   "cell_type": "markdown",
   "metadata": {},
   "source": [
    "$\\alpha$ **_(alpha)_**: The marginal threshold at which you're okay with rejecting the null hypothesis. \n",
    "> If you set an alpha value of $\\alpha = 0.05$, you're essentially saying \"I'm okay with accepting my alternative hypothesis as true if there is less than a 5% chance that the results that I'm seeing are actually due to randomness.\""
   ]
  },
  {
   "cell_type": "markdown",
   "metadata": {},
   "source": [
    "**_p-value_**: The probability of observing a test statistic at least as large as the one observed, by random chance, assuming that the null hypothesis is true.\n",
    "\n",
    "If you calculate a p-value and it comes out to 0.03, you can interpret this as saying \"There is a 3% chance of obtaining the results I'm seeing when the null hypothesis is true.\"  \n"
   ]
  },
  {
   "cell_type": "markdown",
   "metadata": {
    "ExecuteTime": {
     "end_time": "2020-01-21T22:28:07.486666Z",
     "start_time": "2020-01-21T22:28:07.482601Z"
    }
   },
   "source": [
    "\n",
    "\n",
    "In simple terms:\n",
    "\n",
    "$p < \\alpha$: Reject the _Null Hypothesis_ and accept the _Alternative Hypothesis_\n",
    "\n",
    "$p >= \\alpha$: Fail to reject the _Null Hypothesis_.  "
   ]
  },
  {
   "cell_type": "markdown",
   "metadata": {},
   "source": [
    "\n",
    "> **_Example One-Tail Hypothesis_**\n",
    "\n",
    "$H_{1} : \\mu_1 < \\mu_2 $ The treatment group given this weight loss drug will lose more weight on average than the control group that was given a competitor's weight loss drug \n",
    "\n",
    "$ H_{0} : \\mu1 >= \\mu_2$  The treatment group given this weight loss drug will not lose more weight on average than the control group that was given a competitor's weight loss drug\". \n",
    "\n",
    "> A **_Two-Tail Test_** is for when you want to test if a parameter falls between (or outside of) a range of two given values. \n",
    "\n",
    "**_Example Two-Tail Hypothesis_**\n",
    "\n",
    "$H_{1} : \\mu_1 \\neq \\mu_2$ \"People in the experimental group that are administered this drug will not lose the same amount of weight as the people in the control group.  They will be heavier or lighter\". \n",
    "\n",
    "$H_{0} : \\mu_1 = \\mu_2$ \"People in the experimental group that are administered this drug will lose the same amount of weight as the people in the control group.\" \n",
    "\n",
    "\n",
    "\n",
    "\n",
    "***When in doubt, do a 2-tailed test***"
   ]
  },
  {
   "cell_type": "code",
   "execution_count": 1,
   "metadata": {
    "ExecuteTime": {
     "end_time": "2020-08-11T23:28:53.467826Z",
     "start_time": "2020-08-11T23:28:48.882094Z"
    }
   },
   "outputs": [
    {
     "name": "stdout",
     "output_type": "stream",
     "text": [
      "fsds v0.2.22 loaded.  Read the docs: https://fs-ds.readthedocs.io/en/latest/ \n"
     ]
    },
    {
     "data": {
      "text/html": [
       "<style  type=\"text/css\" >\n",
       "</style><table id=\"T_6ad7012e_dc2a_11ea_a4eb_acde48001122\" ><caption>Loaded Packages and Handles</caption><thead>    <tr>        <th class=\"col_heading level0 col0\" >Handle</th>        <th class=\"col_heading level0 col1\" >Package</th>        <th class=\"col_heading level0 col2\" >Description</th>    </tr></thead><tbody>\n",
       "                <tr>\n",
       "                                <td id=\"T_6ad7012e_dc2a_11ea_a4eb_acde48001122row0_col0\" class=\"data row0 col0\" >dp</td>\n",
       "                        <td id=\"T_6ad7012e_dc2a_11ea_a4eb_acde48001122row0_col1\" class=\"data row0 col1\" >IPython.display</td>\n",
       "                        <td id=\"T_6ad7012e_dc2a_11ea_a4eb_acde48001122row0_col2\" class=\"data row0 col2\" >Display modules with helpful display and clearing commands.</td>\n",
       "            </tr>\n",
       "            <tr>\n",
       "                                <td id=\"T_6ad7012e_dc2a_11ea_a4eb_acde48001122row1_col0\" class=\"data row1 col0\" >fs</td>\n",
       "                        <td id=\"T_6ad7012e_dc2a_11ea_a4eb_acde48001122row1_col1\" class=\"data row1 col1\" >fsds</td>\n",
       "                        <td id=\"T_6ad7012e_dc2a_11ea_a4eb_acde48001122row1_col2\" class=\"data row1 col2\" >Custom data science bootcamp student package</td>\n",
       "            </tr>\n",
       "            <tr>\n",
       "                                <td id=\"T_6ad7012e_dc2a_11ea_a4eb_acde48001122row2_col0\" class=\"data row2 col0\" >mpl</td>\n",
       "                        <td id=\"T_6ad7012e_dc2a_11ea_a4eb_acde48001122row2_col1\" class=\"data row2 col1\" >matplotlib</td>\n",
       "                        <td id=\"T_6ad7012e_dc2a_11ea_a4eb_acde48001122row2_col2\" class=\"data row2 col2\" >Matplotlib's base OOP module with formatting artists</td>\n",
       "            </tr>\n",
       "            <tr>\n",
       "                                <td id=\"T_6ad7012e_dc2a_11ea_a4eb_acde48001122row3_col0\" class=\"data row3 col0\" >plt</td>\n",
       "                        <td id=\"T_6ad7012e_dc2a_11ea_a4eb_acde48001122row3_col1\" class=\"data row3 col1\" >matplotlib.pyplot</td>\n",
       "                        <td id=\"T_6ad7012e_dc2a_11ea_a4eb_acde48001122row3_col2\" class=\"data row3 col2\" >Matplotlib's matlab-like plotting module</td>\n",
       "            </tr>\n",
       "            <tr>\n",
       "                                <td id=\"T_6ad7012e_dc2a_11ea_a4eb_acde48001122row4_col0\" class=\"data row4 col0\" >np</td>\n",
       "                        <td id=\"T_6ad7012e_dc2a_11ea_a4eb_acde48001122row4_col1\" class=\"data row4 col1\" >numpy</td>\n",
       "                        <td id=\"T_6ad7012e_dc2a_11ea_a4eb_acde48001122row4_col2\" class=\"data row4 col2\" >scientific computing with Python</td>\n",
       "            </tr>\n",
       "            <tr>\n",
       "                                <td id=\"T_6ad7012e_dc2a_11ea_a4eb_acde48001122row5_col0\" class=\"data row5 col0\" >pd</td>\n",
       "                        <td id=\"T_6ad7012e_dc2a_11ea_a4eb_acde48001122row5_col1\" class=\"data row5 col1\" >pandas</td>\n",
       "                        <td id=\"T_6ad7012e_dc2a_11ea_a4eb_acde48001122row5_col2\" class=\"data row5 col2\" >High performance data structures and tools</td>\n",
       "            </tr>\n",
       "            <tr>\n",
       "                                <td id=\"T_6ad7012e_dc2a_11ea_a4eb_acde48001122row6_col0\" class=\"data row6 col0\" >sns</td>\n",
       "                        <td id=\"T_6ad7012e_dc2a_11ea_a4eb_acde48001122row6_col1\" class=\"data row6 col1\" >seaborn</td>\n",
       "                        <td id=\"T_6ad7012e_dc2a_11ea_a4eb_acde48001122row6_col2\" class=\"data row6 col2\" >High-level data visualization library based on matplotlib</td>\n",
       "            </tr>\n",
       "    </tbody></table>"
      ],
      "text/plain": [
       "<pandas.io.formats.style.Styler at 0x1101c54e0>"
      ]
     },
     "metadata": {},
     "output_type": "display_data"
    },
    {
     "data": {
      "text/html": [
       "        <script type=\"text/javascript\">\n",
       "        window.PlotlyConfig = {MathJaxConfig: 'local'};\n",
       "        if (window.MathJax) {MathJax.Hub.Config({SVG: {font: \"STIX-Web\"}});}\n",
       "        if (typeof require !== 'undefined') {\n",
       "        require.undef(\"plotly\");\n",
       "        requirejs.config({\n",
       "            paths: {\n",
       "                'plotly': ['https://cdn.plot.ly/plotly-latest.min']\n",
       "            }\n",
       "        });\n",
       "        require(['plotly'], function(Plotly) {\n",
       "            window._Plotly = Plotly;\n",
       "        });\n",
       "        }\n",
       "        </script>\n",
       "        "
      ]
     },
     "metadata": {},
     "output_type": "display_data"
    },
    {
     "data": {
      "text/html": [
       "        <script type=\"text/javascript\">\n",
       "        window.PlotlyConfig = {MathJaxConfig: 'local'};\n",
       "        if (window.MathJax) {MathJax.Hub.Config({SVG: {font: \"STIX-Web\"}});}\n",
       "        if (typeof require !== 'undefined') {\n",
       "        require.undef(\"plotly\");\n",
       "        requirejs.config({\n",
       "            paths: {\n",
       "                'plotly': ['https://cdn.plot.ly/plotly-latest.min']\n",
       "            }\n",
       "        });\n",
       "        require(['plotly'], function(Plotly) {\n",
       "            window._Plotly = Plotly;\n",
       "        });\n",
       "        }\n",
       "        </script>\n",
       "        "
      ]
     },
     "metadata": {},
     "output_type": "display_data"
    },
    {
     "name": "stdout",
     "output_type": "stream",
     "text": [
      "[i] Pandas .iplot() method activated.\n"
     ]
    }
   ],
   "source": [
    "!pip install -U fsds\n",
    "from fsds.imports import *"
   ]
  },
  {
   "cell_type": "code",
   "execution_count": 2,
   "metadata": {
    "ExecuteTime": {
     "end_time": "2020-08-11T23:28:53.477244Z",
     "start_time": "2020-08-11T23:28:53.469668Z"
    }
   },
   "outputs": [],
   "source": [
    "import scipy.stats as stats\n",
    "x = np.arange(-4,4,.01)\n",
    "y = stats.norm.pdf(x)\n",
    "\n",
    "def plot_normal(x=None,y=None,mean=0,std=1,label='Normal Distribution'):\n",
    "    \"\"\"Plots x,y (normal distrubtion)\"\"\"\n",
    "    \n",
    "    ## Generate Distribution if x and y not provided\n",
    "    if x is None:\n",
    "        x = np.arange(-4,4,.01)\n",
    "    if y is None:\n",
    "        y = stats.norm.pdf(x,loc=mean,scale=std)\n",
    "\n",
    "    ## Plot the distribution \n",
    "    fig,ax = plt.subplots(figsize=(10,6))\n",
    "    ax.plot(x,y,lw=3,label=label)\n",
    "    \n",
    "    ## Plot the mean and std grid\n",
    "    ax.axvline(mean,color='k',label='Mean',lw=2,ls='--',zorder=0)\n",
    "    ax.grid(which='major',axis='x')\n",
    "    \n",
    "    ## Add labels\n",
    "    ax.set(xlabel='Standard Deviation Units (sigma)',\n",
    "           ylabel='Density',\n",
    "           ylim=0,\n",
    "           xlim=(round(min(x)),round(max(x))))\n",
    "    ax.legend()\n",
    "    \n",
    "    return fig,ax"
   ]
  },
  {
   "cell_type": "markdown",
   "metadata": {},
   "source": [
    "## The T-Distribution & T-Tests"
   ]
  },
  {
   "cell_type": "markdown",
   "metadata": {},
   "source": [
    "- To adjust for small sample sizes, statisticians created the T-Distribution for hypothesis testing in lieu of the normal distribution."
   ]
  },
  {
   "cell_type": "code",
   "execution_count": 3,
   "metadata": {
    "ExecuteTime": {
     "end_time": "2020-08-11T23:28:53.793113Z",
     "start_time": "2020-08-11T23:28:53.478955Z"
    }
   },
   "outputs": [
    {
     "data": {
      "text/plain": [
       "<matplotlib.legend.Legend at 0x1322b6240>"
      ]
     },
     "execution_count": 3,
     "metadata": {},
     "output_type": "execute_result"
    },
    {
     "data": {
      "image/png": "[encoded data removed]",
      "text/plain": [
       "<Figure size 720x432 with 1 Axes>"
      ]
     },
     "metadata": {
      "needs_background": "light"
     },
     "output_type": "display_data"
    }
   ],
   "source": [
    "## The T-Distribution\n",
    "x = np.arange(-3,3,.01)\n",
    "y = stats.norm.pdf(x,loc=0,scale=1)\n",
    "\n",
    "## Plot the Normal Distrubtion\n",
    "fig,ax = plot_normal(x,y)#plt.subplots(figsize=(8,4),nrows=1)\n",
    "# ax.plot(x,y,zorder=-1,lw=3,label='Normal Distribution')\n",
    "\n",
    "## Adding T-Distribution \n",
    "for degrees_freedom in [1,2,3,1000]:#,5]:#,10,1000]:\n",
    "#     degrees_freedom=5\n",
    "    y_T = stats.t.pdf(x,df=degrees_freedom)\n",
    "\n",
    "    ax.plot(x,y_T,zorder=-1,ls='--',lw=1,label=f'T Distribution (df={degrees_freedom})')\n",
    "ax.legend()\n"
   ]
  },
  {
   "cell_type": "code",
   "execution_count": 4,
   "metadata": {
    "ExecuteTime": {
     "end_time": "2020-08-11T23:28:54.066402Z",
     "start_time": "2020-08-11T23:28:53.794862Z"
    },
    "scrolled": false
   },
   "outputs": [
    {
     "data": {
      "image/png": "[encoded data removed]",
      "text/plain": [
       "<Figure size 720x432 with 1 Axes>"
      ]
     },
     "execution_count": 4,
     "metadata": {},
     "output_type": "execute_result"
    }
   ],
   "source": [
    "## Confidence Interval\n",
    "ci_low,ci_high = stats.t.interval(alpha = 0.95, # Confidence level\n",
    "                 df= len(x)-1, # Degrees of freedom\n",
    "                 loc = 0,  # Sample mean\n",
    "                 scale = 1) # Standard deviation estimate\n",
    "\n",
    "ax.axvline(ci_low)\n",
    "ax.axvline(ci_high)\n",
    "fig\n"
   ]
  },
  {
   "cell_type": "markdown",
   "metadata": {},
   "source": [
    "# Hypothesis Testing Overview "
   ]
  },
  {
   "cell_type": "markdown",
   "metadata": {},
   "source": [
    "- Complete Hypothesis Testing Workflow Repo + Practice Project:\n",
    "    - https://github.com/jirvingphd/hypothesis_testing_workflow_python"
   ]
  },
  {
   "cell_type": "markdown",
   "metadata": {},
   "source": [
    "Two resource from repo included in this repo.\n",
    "- Open `hypothesis_testing_workflow-v2_WIP.ipynb`\n",
    "- Open `Hypothesis Testing with SciPy_codeacademy slides.pdf`"
   ]
  },
  {
   "cell_type": "markdown",
   "metadata": {},
   "source": [
    "## Hypothesis Testing (summary)"
   ]
  },
  {
   "cell_type": "markdown",
   "metadata": {},
   "source": [
    "- Separate data in group vars.\n",
    "- Visualize data and calculate group n (size)\n",
    "\n",
    "    \n",
    "* Select the appropriate test based on type of comparison being made, the number of groups, the type of data.\n",
    "\n",
    "\n",
    "- For t-tests: test for the assumptions of normality and homogeneity of variance.\n",
    "\n",
    "    1. Check if sample sizes allow us to ignore assumptions, and if not:\n",
    "    2. **Test Assumption Normality**\n",
    "\n",
    "    3. **Test for Homogeneity of Variance**\n",
    "\n",
    "    4. **Choose appropriate test based upon the above** \n",
    "    \n",
    "    \n",
    "* **Perform chosen statistical test, calculate effect size, and any post-hoc tests.**\n",
    "    - To perform post-hoc pairwise comparison testing\n",
    "    - Effect size calculation\n",
    "        - Cohen's d"
   ]
  },
  {
   "cell_type": "markdown",
   "metadata": {},
   "source": [
    "## Statistical Tests Summary Table"
   ]
  },
  {
   "cell_type": "markdown",
   "metadata": {},
   "source": [
    "\n",
    "\n",
    "| Parametric tests (means) | Function | Nonparametric tests (medians) | Function |\n",
    " | --- | --- | --- | --- |\n",
    " | 1-sample t test |`scipy.stats.ttest_1samp()`|  1-sample Wilcoxon |`scipy.stats.wilcoxon`|\n",
    " | 2-sample t test |`scipy.stats.ttest_ind()` | Mann-Whitney U test |`scipy.stats.mannwhitneyu()` |\n",
    " | One-Way ANOVA | `scipy.stats.f_oneway()` | Kruskal-Wallis | `scipy.stats.kruskal` | \n",
    " \n",
    " \n",
    " | Factorial DOE with one factor and one blocking variable |Friedman test  |\n"
   ]
  },
  {
   "cell_type": "markdown",
   "metadata": {},
   "source": [
    "# Hypothesis Testing Applied with Northwind Database"
   ]
  },
  {
   "cell_type": "markdown",
   "metadata": {},
   "source": [
    "<img src =\"../../datasets/Northwind_ERD_updated.png\" width=80%>"
   ]
  },
  {
   "cell_type": "markdown",
   "metadata": {},
   "source": [
    "### Hypothesis 1"
   ]
  },
  {
   "cell_type": "markdown",
   "metadata": {},
   "source": [
    "> Do discounted items sell sell in greater/lesser quantities than full price products?\n",
    "\n",
    "- $H_0$:\n",
    "- $H_A$: "
   ]
  },
  {
   "cell_type": "markdown",
   "metadata": {},
   "source": [
    "## STEP 1: Determine the category/type of test based on your data."
   ]
  },
  {
   "cell_type": "markdown",
   "metadata": {},
   "source": [
    "###  What kind of test?\n",
    "#### Using the answers to the above 2 questions: select the type of test from this table.\n",
    "\n",
    "| What type of comparison? | Numeric Data | Categorical Data|\n",
    "| --- | --- | --- |\n",
    "|Sample vs Known Quantity/Target|1 Sample T-Test| Binomial Test|\n",
    "|2 Samples | 2 Sample T-Test| Chi-Square|\n",
    "|More than 2| ANOVA and/or Tukey | Chi Square|"
   ]
  },
  {
   "cell_type": "markdown",
   "metadata": {},
   "source": [
    "## STEP 2:  Do we meet the assumptions of the chosen test?"
   ]
  },
  {
   "cell_type": "code",
   "execution_count": 1,
   "metadata": {
    "ExecuteTime": {
     "end_time": "2020-08-12T15:31:07.399584Z",
     "start_time": "2020-08-12T15:31:05.809468Z"
    }
   },
   "outputs": [],
   "source": [
    "import sqlite3\n",
    "import pandas as pd\n",
    "import matplotlib.pyplot as plt\n",
    "import seaborn as sns\n",
    "\n",
    "conn = sqlite3.connect(\"../../datasets/Northwind_small.sqlite\")\n",
    "cur = conn.cursor()"
   ]
  },
  {
   "cell_type": "code",
   "execution_count": 2,
   "metadata": {
    "ExecuteTime": {
     "end_time": "2020-08-12T15:31:07.444350Z",
     "start_time": "2020-08-12T15:31:07.401130Z"
    }
   },
   "outputs": [
    {
     "data": {
      "text/html": [
       "<div>\n",
       "<style scoped>\n",
       "    .dataframe tbody tr th:only-of-type {\n",
       "        vertical-align: middle;\n",
       "    }\n",
       "\n",
       "    .dataframe tbody tr th {\n",
       "        vertical-align: top;\n",
       "    }\n",
       "\n",
       "    .dataframe thead th {\n",
       "        text-align: right;\n",
       "    }\n",
       "</style>\n",
       "<table border=\"1\" class=\"dataframe\">\n",
       "  <thead>\n",
       "    <tr style=\"text-align: right;\">\n",
       "      <th></th>\n",
       "      <th>Id</th>\n",
       "      <th>OrderId</th>\n",
       "      <th>ProductId</th>\n",
       "      <th>UnitPrice</th>\n",
       "      <th>Quantity</th>\n",
       "      <th>Discount</th>\n",
       "    </tr>\n",
       "  </thead>\n",
       "  <tbody>\n",
       "    <tr>\n",
       "      <th>0</th>\n",
       "      <td>10248/11</td>\n",
       "      <td>10248</td>\n",
       "      <td>11</td>\n",
       "      <td>14.00</td>\n",
       "      <td>12</td>\n",
       "      <td>0.00</td>\n",
       "    </tr>\n",
       "    <tr>\n",
       "      <th>1</th>\n",
       "      <td>10248/42</td>\n",
       "      <td>10248</td>\n",
       "      <td>42</td>\n",
       "      <td>9.80</td>\n",
       "      <td>10</td>\n",
       "      <td>0.00</td>\n",
       "    </tr>\n",
       "    <tr>\n",
       "      <th>2</th>\n",
       "      <td>10248/72</td>\n",
       "      <td>10248</td>\n",
       "      <td>72</td>\n",
       "      <td>34.80</td>\n",
       "      <td>5</td>\n",
       "      <td>0.00</td>\n",
       "    </tr>\n",
       "    <tr>\n",
       "      <th>3</th>\n",
       "      <td>10249/14</td>\n",
       "      <td>10249</td>\n",
       "      <td>14</td>\n",
       "      <td>18.60</td>\n",
       "      <td>9</td>\n",
       "      <td>0.00</td>\n",
       "    </tr>\n",
       "    <tr>\n",
       "      <th>4</th>\n",
       "      <td>10249/51</td>\n",
       "      <td>10249</td>\n",
       "      <td>51</td>\n",
       "      <td>42.40</td>\n",
       "      <td>40</td>\n",
       "      <td>0.00</td>\n",
       "    </tr>\n",
       "    <tr>\n",
       "      <th>...</th>\n",
       "      <td>...</td>\n",
       "      <td>...</td>\n",
       "      <td>...</td>\n",
       "      <td>...</td>\n",
       "      <td>...</td>\n",
       "      <td>...</td>\n",
       "    </tr>\n",
       "    <tr>\n",
       "      <th>2150</th>\n",
       "      <td>11077/64</td>\n",
       "      <td>11077</td>\n",
       "      <td>64</td>\n",
       "      <td>33.25</td>\n",
       "      <td>2</td>\n",
       "      <td>0.03</td>\n",
       "    </tr>\n",
       "    <tr>\n",
       "      <th>2151</th>\n",
       "      <td>11077/66</td>\n",
       "      <td>11077</td>\n",
       "      <td>66</td>\n",
       "      <td>17.00</td>\n",
       "      <td>1</td>\n",
       "      <td>0.00</td>\n",
       "    </tr>\n",
       "    <tr>\n",
       "      <th>2152</th>\n",
       "      <td>11077/73</td>\n",
       "      <td>11077</td>\n",
       "      <td>73</td>\n",
       "      <td>15.00</td>\n",
       "      <td>2</td>\n",
       "      <td>0.01</td>\n",
       "    </tr>\n",
       "    <tr>\n",
       "      <th>2153</th>\n",
       "      <td>11077/75</td>\n",
       "      <td>11077</td>\n",
       "      <td>75</td>\n",
       "      <td>7.75</td>\n",
       "      <td>4</td>\n",
       "      <td>0.00</td>\n",
       "    </tr>\n",
       "    <tr>\n",
       "      <th>2154</th>\n",
       "      <td>11077/77</td>\n",
       "      <td>11077</td>\n",
       "      <td>77</td>\n",
       "      <td>13.00</td>\n",
       "      <td>2</td>\n",
       "      <td>0.00</td>\n",
       "    </tr>\n",
       "  </tbody>\n",
       "</table>\n",
       "<p>2155 rows × 6 columns</p>\n",
       "</div>"
      ],
      "text/plain": [
       "            Id  OrderId  ProductId  UnitPrice  Quantity  Discount\n",
       "0     10248/11    10248         11      14.00        12      0.00\n",
       "1     10248/42    10248         42       9.80        10      0.00\n",
       "2     10248/72    10248         72      34.80         5      0.00\n",
       "3     10249/14    10249         14      18.60         9      0.00\n",
       "4     10249/51    10249         51      42.40        40      0.00\n",
       "...        ...      ...        ...        ...       ...       ...\n",
       "2150  11077/64    11077         64      33.25         2      0.03\n",
       "2151  11077/66    11077         66      17.00         1      0.00\n",
       "2152  11077/73    11077         73      15.00         2      0.01\n",
       "2153  11077/75    11077         75       7.75         4      0.00\n",
       "2154  11077/77    11077         77      13.00         2      0.00\n",
       "\n",
       "[2155 rows x 6 columns]"
      ]
     },
     "execution_count": 2,
     "metadata": {},
     "output_type": "execute_result"
    }
   ],
   "source": [
    "df = pd.DataFrame(cur.execute('select * from OrderDetail').fetchall(),\n",
    "                  columns=[col[0] for col in cur.description])\n",
    "df"
   ]
  },
  {
   "cell_type": "code",
   "execution_count": 6,
   "metadata": {
    "ExecuteTime": {
     "end_time": "2020-08-11T23:28:54.109350Z",
     "start_time": "2020-08-11T23:28:54.092978Z"
    }
   },
   "outputs": [
    {
     "data": {
      "text/html": [
       "<div>\n",
       "<style scoped>\n",
       "    .dataframe tbody tr th:only-of-type {\n",
       "        vertical-align: middle;\n",
       "    }\n",
       "\n",
       "    .dataframe tbody tr th {\n",
       "        vertical-align: top;\n",
       "    }\n",
       "\n",
       "    .dataframe thead th {\n",
       "        text-align: right;\n",
       "    }\n",
       "</style>\n",
       "<table border=\"1\" class=\"dataframe\">\n",
       "  <thead>\n",
       "    <tr style=\"text-align: right;\">\n",
       "      <th></th>\n",
       "      <th>Id</th>\n",
       "      <th>OrderId</th>\n",
       "      <th>ProductId</th>\n",
       "      <th>UnitPrice</th>\n",
       "      <th>Quantity</th>\n",
       "      <th>Discount</th>\n",
       "      <th>discounted</th>\n",
       "    </tr>\n",
       "  </thead>\n",
       "  <tbody>\n",
       "    <tr>\n",
       "      <th>0</th>\n",
       "      <td>10248/11</td>\n",
       "      <td>10248</td>\n",
       "      <td>11</td>\n",
       "      <td>14.00</td>\n",
       "      <td>12</td>\n",
       "      <td>0.00</td>\n",
       "      <td>Full Price</td>\n",
       "    </tr>\n",
       "    <tr>\n",
       "      <th>1</th>\n",
       "      <td>10248/42</td>\n",
       "      <td>10248</td>\n",
       "      <td>42</td>\n",
       "      <td>9.80</td>\n",
       "      <td>10</td>\n",
       "      <td>0.00</td>\n",
       "      <td>Full Price</td>\n",
       "    </tr>\n",
       "    <tr>\n",
       "      <th>2</th>\n",
       "      <td>10248/72</td>\n",
       "      <td>10248</td>\n",
       "      <td>72</td>\n",
       "      <td>34.80</td>\n",
       "      <td>5</td>\n",
       "      <td>0.00</td>\n",
       "      <td>Full Price</td>\n",
       "    </tr>\n",
       "    <tr>\n",
       "      <th>3</th>\n",
       "      <td>10249/14</td>\n",
       "      <td>10249</td>\n",
       "      <td>14</td>\n",
       "      <td>18.60</td>\n",
       "      <td>9</td>\n",
       "      <td>0.00</td>\n",
       "      <td>Full Price</td>\n",
       "    </tr>\n",
       "    <tr>\n",
       "      <th>4</th>\n",
       "      <td>10249/51</td>\n",
       "      <td>10249</td>\n",
       "      <td>51</td>\n",
       "      <td>42.40</td>\n",
       "      <td>40</td>\n",
       "      <td>0.00</td>\n",
       "      <td>Full Price</td>\n",
       "    </tr>\n",
       "    <tr>\n",
       "      <th>...</th>\n",
       "      <td>...</td>\n",
       "      <td>...</td>\n",
       "      <td>...</td>\n",
       "      <td>...</td>\n",
       "      <td>...</td>\n",
       "      <td>...</td>\n",
       "      <td>...</td>\n",
       "    </tr>\n",
       "    <tr>\n",
       "      <th>2150</th>\n",
       "      <td>11077/64</td>\n",
       "      <td>11077</td>\n",
       "      <td>64</td>\n",
       "      <td>33.25</td>\n",
       "      <td>2</td>\n",
       "      <td>0.03</td>\n",
       "      <td>Discounted</td>\n",
       "    </tr>\n",
       "    <tr>\n",
       "      <th>2151</th>\n",
       "      <td>11077/66</td>\n",
       "      <td>11077</td>\n",
       "      <td>66</td>\n",
       "      <td>17.00</td>\n",
       "      <td>1</td>\n",
       "      <td>0.00</td>\n",
       "      <td>Full Price</td>\n",
       "    </tr>\n",
       "    <tr>\n",
       "      <th>2152</th>\n",
       "      <td>11077/73</td>\n",
       "      <td>11077</td>\n",
       "      <td>73</td>\n",
       "      <td>15.00</td>\n",
       "      <td>2</td>\n",
       "      <td>0.01</td>\n",
       "      <td>Discounted</td>\n",
       "    </tr>\n",
       "    <tr>\n",
       "      <th>2153</th>\n",
       "      <td>11077/75</td>\n",
       "      <td>11077</td>\n",
       "      <td>75</td>\n",
       "      <td>7.75</td>\n",
       "      <td>4</td>\n",
       "      <td>0.00</td>\n",
       "      <td>Full Price</td>\n",
       "    </tr>\n",
       "    <tr>\n",
       "      <th>2154</th>\n",
       "      <td>11077/77</td>\n",
       "      <td>11077</td>\n",
       "      <td>77</td>\n",
       "      <td>13.00</td>\n",
       "      <td>2</td>\n",
       "      <td>0.00</td>\n",
       "      <td>Full Price</td>\n",
       "    </tr>\n",
       "  </tbody>\n",
       "</table>\n",
       "<p>2155 rows × 7 columns</p>\n",
       "</div>"
      ],
      "text/plain": [
       "            Id  OrderId  ProductId  UnitPrice  Quantity  Discount  discounted\n",
       "0     10248/11    10248         11      14.00        12      0.00  Full Price\n",
       "1     10248/42    10248         42       9.80        10      0.00  Full Price\n",
       "2     10248/72    10248         72      34.80         5      0.00  Full Price\n",
       "3     10249/14    10249         14      18.60         9      0.00  Full Price\n",
       "4     10249/51    10249         51      42.40        40      0.00  Full Price\n",
       "...        ...      ...        ...        ...       ...       ...         ...\n",
       "2150  11077/64    11077         64      33.25         2      0.03  Discounted\n",
       "2151  11077/66    11077         66      17.00         1      0.00  Full Price\n",
       "2152  11077/73    11077         73      15.00         2      0.01  Discounted\n",
       "2153  11077/75    11077         75       7.75         4      0.00  Full Price\n",
       "2154  11077/77    11077         77      13.00         2      0.00  Full Price\n",
       "\n",
       "[2155 rows x 7 columns]"
      ]
     },
     "execution_count": 6,
     "metadata": {},
     "output_type": "execute_result"
    }
   ],
   "source": [
    "df['discounted'] = df['Discount'].apply(lambda x: 'Discounted' if x >0 else \"Full Price\")\n",
    "df"
   ]
  },
  {
   "cell_type": "code",
   "execution_count": 7,
   "metadata": {
    "ExecuteTime": {
     "end_time": "2020-08-11T23:28:54.136040Z",
     "start_time": "2020-08-11T23:28:54.110518Z"
    }
   },
   "outputs": [
    {
     "data": {
      "text/html": [
       "<div>\n",
       "<style scoped>\n",
       "    .dataframe tbody tr th:only-of-type {\n",
       "        vertical-align: middle;\n",
       "    }\n",
       "\n",
       "    .dataframe tbody tr th {\n",
       "        vertical-align: top;\n",
       "    }\n",
       "\n",
       "    .dataframe thead th {\n",
       "        text-align: right;\n",
       "    }\n",
       "</style>\n",
       "<table border=\"1\" class=\"dataframe\">\n",
       "  <thead>\n",
       "    <tr style=\"text-align: right;\">\n",
       "      <th></th>\n",
       "      <th>OrderId</th>\n",
       "      <th>ProductId</th>\n",
       "      <th>UnitPrice</th>\n",
       "      <th>Quantity</th>\n",
       "      <th>Discount</th>\n",
       "    </tr>\n",
       "  </thead>\n",
       "  <tbody>\n",
       "    <tr>\n",
       "      <th>count</th>\n",
       "      <td>2155.000000</td>\n",
       "      <td>2155.000000</td>\n",
       "      <td>2155.000000</td>\n",
       "      <td>2155.000000</td>\n",
       "      <td>2155.000000</td>\n",
       "    </tr>\n",
       "    <tr>\n",
       "      <th>mean</th>\n",
       "      <td>10659.375870</td>\n",
       "      <td>40.793039</td>\n",
       "      <td>26.218520</td>\n",
       "      <td>23.812993</td>\n",
       "      <td>0.056167</td>\n",
       "    </tr>\n",
       "    <tr>\n",
       "      <th>std</th>\n",
       "      <td>241.378032</td>\n",
       "      <td>22.159019</td>\n",
       "      <td>29.827418</td>\n",
       "      <td>19.022047</td>\n",
       "      <td>0.083450</td>\n",
       "    </tr>\n",
       "    <tr>\n",
       "      <th>min</th>\n",
       "      <td>10248.000000</td>\n",
       "      <td>1.000000</td>\n",
       "      <td>2.000000</td>\n",
       "      <td>1.000000</td>\n",
       "      <td>0.000000</td>\n",
       "    </tr>\n",
       "    <tr>\n",
       "      <th>25%</th>\n",
       "      <td>10451.000000</td>\n",
       "      <td>22.000000</td>\n",
       "      <td>12.000000</td>\n",
       "      <td>10.000000</td>\n",
       "      <td>0.000000</td>\n",
       "    </tr>\n",
       "    <tr>\n",
       "      <th>50%</th>\n",
       "      <td>10657.000000</td>\n",
       "      <td>41.000000</td>\n",
       "      <td>18.400000</td>\n",
       "      <td>20.000000</td>\n",
       "      <td>0.000000</td>\n",
       "    </tr>\n",
       "    <tr>\n",
       "      <th>75%</th>\n",
       "      <td>10862.500000</td>\n",
       "      <td>60.000000</td>\n",
       "      <td>32.000000</td>\n",
       "      <td>30.000000</td>\n",
       "      <td>0.100000</td>\n",
       "    </tr>\n",
       "    <tr>\n",
       "      <th>max</th>\n",
       "      <td>11077.000000</td>\n",
       "      <td>77.000000</td>\n",
       "      <td>263.500000</td>\n",
       "      <td>130.000000</td>\n",
       "      <td>0.250000</td>\n",
       "    </tr>\n",
       "  </tbody>\n",
       "</table>\n",
       "</div>"
      ],
      "text/plain": [
       "            OrderId    ProductId    UnitPrice     Quantity     Discount\n",
       "count   2155.000000  2155.000000  2155.000000  2155.000000  2155.000000\n",
       "mean   10659.375870    40.793039    26.218520    23.812993     0.056167\n",
       "std      241.378032    22.159019    29.827418    19.022047     0.083450\n",
       "min    10248.000000     1.000000     2.000000     1.000000     0.000000\n",
       "25%    10451.000000    22.000000    12.000000    10.000000     0.000000\n",
       "50%    10657.000000    41.000000    18.400000    20.000000     0.000000\n",
       "75%    10862.500000    60.000000    32.000000    30.000000     0.100000\n",
       "max    11077.000000    77.000000   263.500000   130.000000     0.250000"
      ]
     },
     "execution_count": 7,
     "metadata": {},
     "output_type": "execute_result"
    }
   ],
   "source": [
    "df.describe()"
   ]
  },
  {
   "cell_type": "code",
   "execution_count": 8,
   "metadata": {
    "ExecuteTime": {
     "end_time": "2020-08-11T23:28:54.155060Z",
     "start_time": "2020-08-11T23:28:54.138094Z"
    }
   },
   "outputs": [
    {
     "data": {
      "text/html": [
       "<div>\n",
       "<style scoped>\n",
       "    .dataframe tbody tr th:only-of-type {\n",
       "        vertical-align: middle;\n",
       "    }\n",
       "\n",
       "    .dataframe tbody tr th {\n",
       "        vertical-align: top;\n",
       "    }\n",
       "\n",
       "    .dataframe thead th {\n",
       "        text-align: right;\n",
       "    }\n",
       "</style>\n",
       "<table border=\"1\" class=\"dataframe\">\n",
       "  <thead>\n",
       "    <tr style=\"text-align: right;\">\n",
       "      <th></th>\n",
       "      <th>count</th>\n",
       "      <th>mean</th>\n",
       "      <th>std</th>\n",
       "      <th>min</th>\n",
       "      <th>25%</th>\n",
       "      <th>50%</th>\n",
       "      <th>75%</th>\n",
       "      <th>max</th>\n",
       "    </tr>\n",
       "    <tr>\n",
       "      <th>discounted</th>\n",
       "      <th></th>\n",
       "      <th></th>\n",
       "      <th></th>\n",
       "      <th></th>\n",
       "      <th></th>\n",
       "      <th></th>\n",
       "      <th></th>\n",
       "      <th></th>\n",
       "    </tr>\n",
       "  </thead>\n",
       "  <tbody>\n",
       "    <tr>\n",
       "      <th>Discounted</th>\n",
       "      <td>838.0</td>\n",
       "      <td>27.109785</td>\n",
       "      <td>20.771439</td>\n",
       "      <td>1.0</td>\n",
       "      <td>12.0</td>\n",
       "      <td>20.0</td>\n",
       "      <td>36.0</td>\n",
       "      <td>130.0</td>\n",
       "    </tr>\n",
       "    <tr>\n",
       "      <th>Full Price</th>\n",
       "      <td>1317.0</td>\n",
       "      <td>21.715262</td>\n",
       "      <td>17.507493</td>\n",
       "      <td>1.0</td>\n",
       "      <td>10.0</td>\n",
       "      <td>18.0</td>\n",
       "      <td>30.0</td>\n",
       "      <td>130.0</td>\n",
       "    </tr>\n",
       "  </tbody>\n",
       "</table>\n",
       "</div>"
      ],
      "text/plain": [
       "             count       mean        std  min   25%   50%   75%    max\n",
       "discounted                                                            \n",
       "Discounted   838.0  27.109785  20.771439  1.0  12.0  20.0  36.0  130.0\n",
       "Full Price  1317.0  21.715262  17.507493  1.0  10.0  18.0  30.0  130.0"
      ]
     },
     "execution_count": 8,
     "metadata": {},
     "output_type": "execute_result"
    }
   ],
   "source": [
    "df.groupby('discounted')['Quantity'].describe()"
   ]
  },
  {
   "cell_type": "code",
   "execution_count": 9,
   "metadata": {
    "ExecuteTime": {
     "end_time": "2020-08-11T23:28:54.160979Z",
     "start_time": "2020-08-11T23:28:54.156778Z"
    }
   },
   "outputs": [
    {
     "data": {
      "text/plain": [
       "array(['Full Price', 'Discounted'], dtype=object)"
      ]
     },
     "execution_count": 9,
     "metadata": {},
     "output_type": "execute_result"
    }
   ],
   "source": [
    "groups = df['discounted'].unique()\n",
    "groups"
   ]
  },
  {
   "cell_type": "code",
   "execution_count": 34,
   "metadata": {
    "ExecuteTime": {
     "end_time": "2020-08-11T23:33:10.535128Z",
     "start_time": "2020-08-11T23:33:10.526389Z"
    }
   },
   "outputs": [
    {
     "data": {
      "text/plain": [
       "{'Full Price': 0       12\n",
       " 1       10\n",
       " 2        5\n",
       " 3        9\n",
       " 4       40\n",
       "         ..\n",
       " 2147     2\n",
       " 2148     2\n",
       " 2151     1\n",
       " 2153     4\n",
       " 2154     2\n",
       " Name: Quantity, Length: 1317, dtype: int64,\n",
       " 'Discounted': 6       35\n",
       " 7       15\n",
       " 8        6\n",
       " 9       15\n",
       " 11      40\n",
       "         ..\n",
       " 2144     2\n",
       " 2146     3\n",
       " 2149     2\n",
       " 2150     2\n",
       " 2152     2\n",
       " Name: Quantity, Length: 838, dtype: int64}"
      ]
     },
     "execution_count": 34,
     "metadata": {},
     "output_type": "execute_result"
    }
   ],
   "source": [
    "## Separate group data into separate vars/keys\n",
    "data = {}\n",
    "for grp in groups:\n",
    "    \n",
    "    group_df = df.groupby('discounted').get_group(grp)['Quantity']#.values\n",
    "    data[grp] = group_df\n",
    "    \n",
    "data"
   ]
  },
  {
   "cell_type": "code",
   "execution_count": 35,
   "metadata": {
    "ExecuteTime": {
     "end_time": "2020-08-11T23:33:11.458794Z",
     "start_time": "2020-08-11T23:33:11.128325Z"
    }
   },
   "outputs": [
    {
     "data": {
      "text/plain": [
       "<matplotlib.legend.Legend at 0x1341dce48>"
      ]
     },
     "execution_count": 35,
     "metadata": {},
     "output_type": "execute_result"
    },
    {
     "data": {
      "image/png": "[encoded data removed]",
      "text/plain": [
       "<Figure size 432x288 with 1 Axes>"
      ]
     },
     "metadata": {
      "needs_background": "light"
     },
     "output_type": "display_data"
    }
   ],
   "source": [
    "ax = sns.distplot(data['Discounted'],label='Discounted')\n",
    "ax.axvline(data['Discounted'].mean(),color='blue',ls='--',label='Discounted')\n",
    "\n",
    "sns.distplot(data['Full Price'],label='Full Price')\n",
    "ax.axvline(data['Full Price'].mean(),color='orange',ls='--',label='Full Price')\n",
    "\n",
    "ax.legend()"
   ]
  },
  {
   "cell_type": "code",
   "execution_count": 37,
   "metadata": {
    "ExecuteTime": {
     "end_time": "2020-08-11T23:33:26.669906Z",
     "start_time": "2020-08-11T23:33:26.468665Z"
    }
   },
   "outputs": [
    {
     "data": {
      "image/png": "[encoded data removed]",
      "text/plain": [
       "<Figure size 432x288 with 1 Axes>"
      ]
     },
     "metadata": {
      "needs_background": "light"
     },
     "output_type": "display_data"
    }
   ],
   "source": [
    "for grp,grp_data in data.items():\n",
    "    plt.bar(grp,grp_data.mean(),yerr=stats.sem(grp_data))"
   ]
  },
  {
   "cell_type": "code",
   "execution_count": 38,
   "metadata": {
    "ExecuteTime": {
     "end_time": "2020-08-11T23:33:26.986880Z",
     "start_time": "2020-08-11T23:33:26.815026Z"
    }
   },
   "outputs": [
    {
     "data": {
      "text/plain": [
       "<AxesSubplot:xlabel='discounted', ylabel='Quantity'>"
      ]
     },
     "execution_count": 38,
     "metadata": {},
     "output_type": "execute_result"
    },
    {
     "data": {
      "image/png": "[encoded data removed]",
      "text/plain": [
       "<Figure size 432x288 with 1 Axes>"
      ]
     },
     "metadata": {
      "needs_background": "light"
     },
     "output_type": "display_data"
    }
   ],
   "source": [
    "sns.barplot(data=df,x='discounted',y='Quantity',ci=68)"
   ]
  },
  {
   "cell_type": "code",
   "execution_count": 32,
   "metadata": {
    "ExecuteTime": {
     "end_time": "2020-08-11T23:32:07.671090Z",
     "start_time": "2020-08-11T23:32:07.666910Z"
    }
   },
   "outputs": [
    {
     "data": {
      "text/plain": [
       "12"
      ]
     },
     "execution_count": 32,
     "metadata": {},
     "output_type": "execute_result"
    }
   ],
   "source": [
    "z_data= stats.zscore(data['Discounted'])\n",
    "idx_outlier = np.abs(z_data)>3\n",
    "idx_outlier.sum()"
   ]
  },
  {
   "cell_type": "code",
   "execution_count": 33,
   "metadata": {
    "ExecuteTime": {
     "end_time": "2020-08-11T23:32:09.977030Z",
     "start_time": "2020-08-11T23:32:09.972337Z"
    }
   },
   "outputs": [
    {
     "data": {
      "text/plain": [
       "6       35\n",
       "7       15\n",
       "8        6\n",
       "9       15\n",
       "11      40\n",
       "        ..\n",
       "2144     2\n",
       "2146     3\n",
       "2149     2\n",
       "2150     2\n",
       "2152     2\n",
       "Name: Quantity, Length: 811, dtype: int64"
      ]
     },
     "execution_count": 33,
     "metadata": {},
     "output_type": "execute_result"
    }
   ],
   "source": [
    "data['Discounted'][~idx_outlier]"
   ]
  },
  {
   "cell_type": "markdown",
   "metadata": {},
   "source": [
    "# BOOKMARK"
   ]
  },
  {
   "cell_type": "code",
   "execution_count": null,
   "metadata": {},
   "outputs": [],
   "source": []
  },
  {
   "cell_type": "code",
   "execution_count": 15,
   "metadata": {
    "ExecuteTime": {
     "end_time": "2020-08-11T23:28:54.698410Z",
     "start_time": "2020-08-11T23:28:54.695254Z"
    }
   },
   "outputs": [
    {
     "data": {
      "text/plain": [
       "15"
      ]
     },
     "execution_count": 15,
     "metadata": {},
     "output_type": "execute_result"
    }
   ],
   "source": [
    "idx_outlier.sum()"
   ]
  },
  {
   "cell_type": "code",
   "execution_count": 16,
   "metadata": {
    "ExecuteTime": {
     "end_time": "2020-08-11T23:28:54.705028Z",
     "start_time": "2020-08-11T23:28:54.699827Z"
    }
   },
   "outputs": [
    {
     "name": "stdout",
     "output_type": "stream",
     "text": [
      "There were 20 outliers in Full Price\n",
      "There were 15 outliers in Discounted\n"
     ]
    }
   ],
   "source": [
    "for grp, grp_data in data.items():\n",
    "    z_data= stats.zscore(grp_data)\n",
    "    idx_outlier = np.abs(z_data)>3\n",
    "    print(f\"There were {idx_outlier.sum()} outliers in {grp}\")\n",
    "    data[grp]= grp_data[~idx_outlier]"
   ]
  },
  {
   "cell_type": "code",
   "execution_count": 17,
   "metadata": {
    "ExecuteTime": {
     "end_time": "2020-08-11T23:28:54.888422Z",
     "start_time": "2020-08-11T23:28:54.706287Z"
    }
   },
   "outputs": [
    {
     "data": {
      "text/plain": [
       "<AxesSubplot:>"
      ]
     },
     "execution_count": 17,
     "metadata": {},
     "output_type": "execute_result"
    },
    {
     "data": {
      "image/png": "[encoded data removed]",
      "text/plain": [
       "<Figure size 432x288 with 1 Axes>"
      ]
     },
     "metadata": {
      "needs_background": "light"
     },
     "output_type": "display_data"
    }
   ],
   "source": [
    "data['Discounted'].hist()"
   ]
  },
  {
   "cell_type": "code",
   "execution_count": 41,
   "metadata": {
    "ExecuteTime": {
     "end_time": "2020-08-11T23:38:30.211590Z",
     "start_time": "2020-08-11T23:38:29.857934Z"
    }
   },
   "outputs": [
    {
     "name": "stdout",
     "output_type": "stream",
     "text": [
      "For Full Price, normaltest p = 0.0\n",
      "For Discounted, normaltest p = 0.0\n"
     ]
    },
    {
     "data": {
      "text/plain": [
       "<matplotlib.legend.Legend at 0x1349aeac8>"
      ]
     },
     "execution_count": 41,
     "metadata": {},
     "output_type": "execute_result"
    },
    {
     "data": {
      "image/png": "[encoded data removed]",
      "text/plain": [
       "<Figure size 432x288 with 1 Axes>"
      ]
     },
     "metadata": {
      "needs_background": "light"
     },
     "output_type": "display_data"
    }
   ],
   "source": [
    "for grp, grp_data in data.items():\n",
    "    stat,p =stats.normaltest(grp_data)# test_for_normality(grp_data,label=grp,get_p=True)\n",
    "    print(f\"For {grp}, normaltest p = {round(p,4)}\")\n",
    "    ax = sns.distplot(grp_data, label= f\"{grp} (n={len(grp_data)})\")\n",
    "    ax.axvline(grp_data.mean(),label=f'{grp} Mean')\n",
    "ax.legend()"
   ]
  },
  {
   "cell_type": "code",
   "execution_count": 42,
   "metadata": {
    "ExecuteTime": {
     "end_time": "2020-08-11T23:38:37.334528Z",
     "start_time": "2020-08-11T23:38:37.329142Z"
    }
   },
   "outputs": [
    {
     "data": {
      "text/plain": [
       "[0       12\n",
       " 1       10\n",
       " 2        5\n",
       " 3        9\n",
       " 4       40\n",
       "         ..\n",
       " 2147     2\n",
       " 2148     2\n",
       " 2151     1\n",
       " 2153     4\n",
       " 2154     2\n",
       " Name: Quantity, Length: 1317, dtype: int64,\n",
       " 6       35\n",
       " 7       15\n",
       " 8        6\n",
       " 9       15\n",
       " 11      40\n",
       "         ..\n",
       " 2144     2\n",
       " 2146     3\n",
       " 2149     2\n",
       " 2150     2\n",
       " 2152     2\n",
       " Name: Quantity, Length: 838, dtype: int64]"
      ]
     },
     "execution_count": 42,
     "metadata": {},
     "output_type": "execute_result"
    }
   ],
   "source": [
    "res = [*list(data.values())]\n",
    "res"
   ]
  },
  {
   "cell_type": "code",
   "execution_count": 43,
   "metadata": {
    "ExecuteTime": {
     "end_time": "2020-08-11T23:38:37.874264Z",
     "start_time": "2020-08-11T23:38:37.869182Z"
    }
   },
   "outputs": [
    {
     "data": {
      "text/plain": [
       "LeveneResult(statistic=14.832671704073421, pvalue=0.00012091378376079568)"
      ]
     },
     "execution_count": 43,
     "metadata": {},
     "output_type": "execute_result"
    }
   ],
   "source": [
    "stats.levene(*list(data.values()))"
   ]
  },
  {
   "cell_type": "markdown",
   "metadata": {},
   "source": []
  },
  {
   "cell_type": "code",
   "execution_count": 44,
   "metadata": {
    "ExecuteTime": {
     "end_time": "2020-08-11T23:38:39.077635Z",
     "start_time": "2020-08-11T23:38:39.073350Z"
    },
    "scrolled": true
   },
   "outputs": [
    {
     "data": {
      "text/plain": [
       "Ttest_indResult(statistic=-6.239069142123973, pvalue=5.65641429030433e-10)"
      ]
     },
     "execution_count": 44,
     "metadata": {},
     "output_type": "execute_result"
    }
   ],
   "source": [
    "stats.ttest_ind(*list(data.values()),equal_var=False)"
   ]
  },
  {
   "cell_type": "code",
   "execution_count": null,
   "metadata": {},
   "outputs": [],
   "source": []
  },
  {
   "cell_type": "code",
   "execution_count": null,
   "metadata": {},
   "outputs": [],
   "source": []
  },
  {
   "cell_type": "markdown",
   "metadata": {
    "ExecuteTime": {
     "end_time": "2020-01-21T22:34:50.811862Z",
     "start_time": "2020-01-21T22:34:50.809738Z"
    },
    "heading_collapsed": true
   },
   "source": [
    "# Next Class: Real-World Science / Experimental Design"
   ]
  },
  {
   "cell_type": "markdown",
   "metadata": {
    "hidden": true
   },
   "source": [
    "> ## The Role of Stress Neurons in the Amygdala in Addiction/Binge Drinking"
   ]
  },
  {
   "cell_type": "markdown",
   "metadata": {
    "hidden": true
   },
   "source": [
    "- We will be talking through some of the experiments from my Postdoctoral research on the roll of stress neurons in the escalation of binge drinking.\n",
    "- [James' Neuroscience Research Poster: Society for Neuroscience 2016](https://drive.google.com/open?id=14z2dUdPB_8ei3HA7R1j3ylwEP0kVZhJq)\n",
    "\n",
    "<img src=\"https://raw.githubusercontent.com/jirvingphd/fsds_100719_cohort_notes/master/images/sect_20_neuro_data.png\">\n",
    "\n"
   ]
  },
  {
   "cell_type": "markdown",
   "metadata": {
    "hidden": true
   },
   "source": [
    "#### The Opponent-Process Theory of Addiction \n",
    "\n",
    "\n",
    "<img src=\"https://raw.githubusercontent.com/jirvingphd/fsds_pt_100719_cohort_notes/master/Images/robinson-berridge-fig1.jpg\">"
   ]
  },
  {
   "cell_type": "markdown",
   "metadata": {
    "hidden": true
   },
   "source": [
    "## Hypothesis "
   ]
  },
  {
   "cell_type": "markdown",
   "metadata": {
    "hidden": true
   },
   "source": [
    "- Based on prior evidence in the field, stress neurons in the amygdala are believed to be responsible for the negative emotions that promote binge consumption to relieve negative symptoms"
   ]
  },
  {
   "cell_type": "markdown",
   "metadata": {
    "hidden": true
   },
   "source": [
    "$ H_1$: Increasing the activity of stress neurons (CRF neurons) in the amygdala will increase the amount of alcohol consumed by binge-drinking mice.\n",
    "\n",
    "$H_0$: Stimulation of CRF neurons has no effect on the amount of alcohol consumed.\n",
    "\n",
    "<img src=\"https://raw.githubusercontent.com/jirvingphd/fsds_pt_100719_cohort_notes/master/Images/jmi_poster_preds1.png\" width=60%>"
   ]
  },
  {
   "cell_type": "markdown",
   "metadata": {
    "hidden": true
   },
   "source": [
    "## Experimental Design"
   ]
  },
  {
   "cell_type": "markdown",
   "metadata": {
    "hidden": true
   },
   "source": [
    "<img src=\"https://raw.githubusercontent.com/jirvingphd/fsds_pt_100719_cohort_notes/master/Images/opto_6steps.jpg\">"
   ]
  },
  {
   "cell_type": "markdown",
   "metadata": {
    "hidden": true
   },
   "source": [
    "<img src=\"https://raw.githubusercontent.com/jirvingphd/hypothesis_testing_lessons/master/images/jmi_poster_fig1_no_mouse.png\">\n",
    "\n",
    "<!---\n",
    "<img src=\"https://raw.githubusercontent.com/jirvingphd/hypothesis_testing_lessons/master/images/jmi_poster_fig1.png\">--->"
   ]
  },
  {
   "cell_type": "markdown",
   "metadata": {
    "ExecuteTime": {
     "end_time": "2020-01-21T22:44:58.893416Z",
     "start_time": "2020-01-21T22:44:58.889888Z"
    },
    "hidden": true
   },
   "source": [
    "<img src=\"https://raw.githubusercontent.com/jirvingphd/fsds_pt_100719_cohort_notes/master/Images/jmi_poster_fig2.png\">\n",
    "\n",
    "<!---\n",
    "<img src=\"https://raw.githubusercontent.com/jirvingphd/fsds_100719_cohort_notes/master/images/sect_20_neuro_data.png\">')\n",
    "--->"
   ]
  },
  {
   "cell_type": "markdown",
   "metadata": {
    "hidden": true
   },
   "source": [
    "#### The Opponent-Process Theory of Addiction \n",
    "\n",
    "\n",
    "<img src=\"https://raw.githubusercontent.com/jirvingphd/fsds_pt_100719_cohort_notes/master/Images/robinson-berridge-fig1.jpg\">"
   ]
  },
  {
   "cell_type": "markdown",
   "metadata": {
    "ExecuteTime": {
     "end_time": "2020-01-21T22:44:58.893416Z",
     "start_time": "2020-01-21T22:44:58.889888Z"
    },
    "hidden": true
   },
   "source": [
    "<img src=\"https://raw.githubusercontent.com/jirvingphd/fsds_pt_100719_cohort_notes/master/Images/jmi_poster_fig2.png\">\n",
    "\n",
    "<!---\n",
    "<img src=\"https://raw.githubusercontent.com/jirvingphd/fsds_100719_cohort_notes/master/images/sect_20_neuro_data.png\">')\n",
    "--->"
   ]
  },
  {
   "cell_type": "code",
   "execution_count": null,
   "metadata": {
    "ExecuteTime": {
     "end_time": "2020-08-11T23:28:55.164789Z",
     "start_time": "2020-08-11T23:28:48.985Z"
    },
    "hidden": true
   },
   "outputs": [],
   "source": [
    "from fsds.imports import *"
   ]
  },
  {
   "cell_type": "code",
   "execution_count": null,
   "metadata": {
    "ExecuteTime": {
     "end_time": "2020-08-11T23:28:55.165431Z",
     "start_time": "2020-08-11T23:28:48.989Z"
    },
    "hidden": true
   },
   "outputs": [],
   "source": [
    "plt.style.use('seaborn-notebook')\n",
    "pd.set_option('display.max_columns',0)\n",
    "pd.set_option('display.precision',3)"
   ]
  },
  {
   "cell_type": "code",
   "execution_count": null,
   "metadata": {
    "hidden": true
   },
   "outputs": [],
   "source": []
  },
  {
   "cell_type": "markdown",
   "metadata": {
    "ExecuteTime": {
     "end_time": "2020-01-21T22:44:58.893416Z",
     "start_time": "2020-01-21T22:44:58.889888Z"
    },
    "hidden": true
   },
   "source": [
    "<img src=\"https://raw.githubusercontent.com/jirvingphd/fsds_pt_100719_cohort_notes/master/Images/jmi_poster_fig2.png\">\n",
    "\n",
    "<!---\n",
    "<img src=\"https://raw.githubusercontent.com/jirvingphd/fsds_100719_cohort_notes/master/images/sect_20_neuro_data.png\">')\n",
    "--->"
   ]
  },
  {
   "cell_type": "code",
   "execution_count": null,
   "metadata": {
    "hidden": true
   },
   "outputs": [],
   "source": []
  },
  {
   "cell_type": "code",
   "execution_count": null,
   "metadata": {
    "hidden": true
   },
   "outputs": [],
   "source": []
  },
  {
   "cell_type": "markdown",
   "metadata": {
    "hidden": true
   },
   "source": [
    "## Obtaining/Preprocessing Data"
   ]
  },
  {
   "cell_type": "code",
   "execution_count": null,
   "metadata": {
    "ExecuteTime": {
     "end_time": "2020-08-11T23:28:55.165961Z",
     "start_time": "2020-08-11T23:28:48.999Z"
    },
    "hidden": true
   },
   "outputs": [],
   "source": [
    "import os\n",
    "print(os.getcwd())\n",
    "# os.listdir('../../datasets/')"
   ]
  },
  {
   "cell_type": "code",
   "execution_count": null,
   "metadata": {
    "ExecuteTime": {
     "end_time": "2020-08-11T23:28:55.166705Z",
     "start_time": "2020-08-11T23:28:49.004Z"
    },
    "hidden": true,
    "scrolled": true
   },
   "outputs": [],
   "source": [
    "df = pd.read_csv('../../datasets/mouse_drinking_data_cleaned.csv',#\"../../datasets/mouse_drinking_data_cleaned.csv\")#,\n",
    "                 index_col=0)\n",
    "df.drop('Sex',inplace=True,axis=1)\n",
    "df "
   ]
  },
  {
   "cell_type": "markdown",
   "metadata": {
    "hidden": true
   },
   "source": [
    "#### Laying Out Our Approach\n",
    "\n",
    "1. Make a **dict/lists of the column names** that should be **averaged together** (`col_dict`)\n",
    "\n",
    "2. Make a new df of means using `col_dict`\n",
    "\n",
    "3. Make a grp dict using  `df_means.groupby('Group').groups` \n",
    "\n",
    "- Visualize the two populations\n",
    "\n",
    "- Prepare for hypothesis tests\n",
    "    - Either use `grps` dict to reference the correct columsn to pass into tests\n",
    "\n",
    "<!---\n",
    "**Variables:**\n",
    "\n",
    "- `col_dict` (dict): dict of column names to be grouped together for means\n",
    "- `df_means` (df): df of col_dict column means.\n",
    "- `grps` (dict): groupby dict where keys = 'Group' column and values = row indices\n",
    "\n",
    "- `data` (dict): Dictionary of...\n",
    "    - Series of each phase by group? --->"
   ]
  },
  {
   "cell_type": "code",
   "execution_count": null,
   "metadata": {
    "ExecuteTime": {
     "end_time": "2020-08-11T23:28:55.167342Z",
     "start_time": "2020-08-11T23:28:49.009Z"
    },
    "hidden": true
   },
   "outputs": [],
   "source": [
    "## Loop through the differnet phases of the experiment\n",
    "phases = ['BL','S','PS','R1','R2']\n",
    "\n",
    "## save corresponding column names as values \n",
    "col_dict = {}\n",
    "for phase in phases:\n",
    "    col_dict[phase] = [col for col in df.columns if col.startswith(phase) ]\n",
    "col_dict    "
   ]
  },
  {
   "cell_type": "code",
   "execution_count": null,
   "metadata": {
    "ExecuteTime": {
     "end_time": "2020-08-11T23:28:55.167955Z",
     "start_time": "2020-08-11T23:28:49.014Z"
    },
    "hidden": true,
    "scrolled": true
   },
   "outputs": [],
   "source": [
    "## Get then opposite of col_dict\n",
    "phase_dict = {}\n",
    "for phase,colnames in col_dict.items():\n",
    "    for col in colnames:\n",
    "        phase_dict[col] = phase\n",
    "phase_dict"
   ]
  },
  {
   "cell_type": "code",
   "execution_count": null,
   "metadata": {
    "hidden": true
   },
   "outputs": [],
   "source": []
  },
  {
   "cell_type": "markdown",
   "metadata": {
    "hidden": true
   },
   "source": [
    "### Calculating individual mouse means by phase"
   ]
  },
  {
   "cell_type": "code",
   "execution_count": null,
   "metadata": {
    "ExecuteTime": {
     "end_time": "2020-08-11T23:28:55.168984Z",
     "start_time": "2020-08-11T23:28:49.020Z"
    },
    "hidden": true,
    "scrolled": true
   },
   "outputs": [],
   "source": [
    "cols = col_dict['BL']\n",
    "df[cols].mean(axis=1)"
   ]
  },
  {
   "cell_type": "code",
   "execution_count": null,
   "metadata": {
    "ExecuteTime": {
     "end_time": "2020-08-11T23:28:55.169729Z",
     "start_time": "2020-08-11T23:28:49.024Z"
    },
    "hidden": true,
    "scrolled": false
   },
   "outputs": [],
   "source": [
    "df_means = df.reset_index()[['Mouse_ID','Group']].copy()\n",
    "df_means"
   ]
  },
  {
   "cell_type": "code",
   "execution_count": null,
   "metadata": {
    "ExecuteTime": {
     "end_time": "2020-08-11T23:28:55.170383Z",
     "start_time": "2020-08-11T23:28:49.029Z"
    },
    "hidden": true,
    "scrolled": true
   },
   "outputs": [],
   "source": [
    "## Calculated the means by phase\n",
    "df_means = df.reset_index(drop=False)[['Mouse_ID','Group']].copy()\n",
    "\n",
    "for phase, cols in col_dict.items():\n",
    "    df_means[phase] = df[cols].mean(axis=1)\n",
    "df_means"
   ]
  },
  {
   "cell_type": "code",
   "execution_count": null,
   "metadata": {
    "ExecuteTime": {
     "end_time": "2020-08-11T23:28:55.171012Z",
     "start_time": "2020-08-11T23:28:49.035Z"
    },
    "hidden": true
   },
   "outputs": [],
   "source": [
    "df"
   ]
  },
  {
   "cell_type": "markdown",
   "metadata": {
    "hidden": true
   },
   "source": [
    "### Getting Group Data For EDA & Testing"
   ]
  },
  {
   "cell_type": "code",
   "execution_count": null,
   "metadata": {
    "ExecuteTime": {
     "end_time": "2020-08-11T23:28:55.171625Z",
     "start_time": "2020-08-11T23:28:49.040Z"
    },
    "hidden": true,
    "scrolled": true
   },
   "outputs": [],
   "source": [
    "## Get grps \n",
    "data = {}\n",
    "\n",
    "## Two different ways of using groupby\n",
    "grps = df_means.groupby('Group').groups\n",
    "\n",
    "## For each group\n",
    "for grp in grps:\n",
    "    \n",
    "    ## Save the group df as grp name \n",
    "    data[grp] = df_means.groupby('Group').get_group(grp)\n",
    "    \n",
    "    # Display data\n",
    "    display(data[grp].head().style.set_caption(grp))"
   ]
  },
  {
   "cell_type": "code",
   "execution_count": null,
   "metadata": {
    "ExecuteTime": {
     "end_time": "2020-08-11T23:28:55.172263Z",
     "start_time": "2020-08-11T23:28:49.044Z"
    },
    "hidden": true
   },
   "outputs": [],
   "source": [
    "data.keys()"
   ]
  },
  {
   "cell_type": "code",
   "execution_count": null,
   "metadata": {
    "ExecuteTime": {
     "end_time": "2020-08-11T23:28:55.172942Z",
     "start_time": "2020-08-11T23:28:49.048Z"
    },
    "hidden": true
   },
   "outputs": [],
   "source": [
    "data['Control']"
   ]
  },
  {
   "cell_type": "markdown",
   "metadata": {
    "hidden": true
   },
   "source": [
    "### Plotting Group Means + Standard Error of the Mean"
   ]
  },
  {
   "cell_type": "code",
   "execution_count": null,
   "metadata": {
    "ExecuteTime": {
     "end_time": "2020-08-11T23:28:55.173650Z",
     "start_time": "2020-08-11T23:28:49.052Z"
    },
    "hidden": true
   },
   "outputs": [],
   "source": [
    "from scipy.stats import sem\n",
    "\n",
    "## Create lists for saving x,y, and yerr\n",
    "x = []\n",
    "y = []\n",
    "y_err = []\n",
    "\n",
    "## Select a phase to visualize\n",
    "phase = \"BL\"\n",
    "\n",
    "# For each group\n",
    "for group in data:\n",
    "    \n",
    "    ## grab the correct phasen col from group data\n",
    "    grp_data = data[group][phase]\n",
    "    \n",
    "    ## Save x,y \n",
    "    x.append(group)\n",
    "    y.append(grp_data.mean())\n",
    "    \n",
    "    ## Calc and save error\n",
    "    y_err.append(sem(grp_data))\n",
    "    "
   ]
  },
  {
   "cell_type": "code",
   "execution_count": null,
   "metadata": {
    "ExecuteTime": {
     "end_time": "2020-08-11T23:28:55.174260Z",
     "start_time": "2020-08-11T23:28:49.056Z"
    },
    "hidden": true
   },
   "outputs": [],
   "source": [
    "y_err"
   ]
  },
  {
   "cell_type": "code",
   "execution_count": null,
   "metadata": {
    "ExecuteTime": {
     "end_time": "2020-08-11T23:28:55.174836Z",
     "start_time": "2020-08-11T23:28:49.059Z"
    },
    "hidden": true
   },
   "outputs": [],
   "source": [
    "fig,ax = plt.subplots(figsize=(2,4))\n",
    "plt.bar(x,y,yerr=y_err,color=['b','g'])\n"
   ]
  },
  {
   "cell_type": "code",
   "execution_count": null,
   "metadata": {
    "ExecuteTime": {
     "end_time": "2020-08-11T23:28:55.175453Z",
     "start_time": "2020-08-11T23:28:49.062Z"
    },
    "hidden": true
   },
   "outputs": [],
   "source": [
    "def plot_bars_yerr(data,phase = \"BL\"):\n",
    "    \"\"\"Plots the group means +/- standard error of the mean.\"\"\"\n",
    "    from scipy.stats import sem\n",
    "\n",
    "    ## Save x,y, and yerr\n",
    "    x = []\n",
    "    y = []\n",
    "    y_err = []\n",
    "    \n",
    "    for group in data:\n",
    "        grp_data = data[group][phase]\n",
    "        x.append(f\"{group}\")\n",
    "        y.append(grp_data.mean())\n",
    "        y_err.append(sem(grp_data))\n",
    "        \n",
    "    fig,ax = plt.subplots(figsize=(3,5))\n",
    "    ax.bar(x,y,yerr=y_err,color=['k','b'])\n",
    "    ax.set_title(f\"Phase = {phase}\")\n",
    "    ax.set(ylabel='# of Licks')\n",
    "    \n",
    "    return fig,ax"
   ]
  },
  {
   "cell_type": "markdown",
   "metadata": {
    "ExecuteTime": {
     "end_time": "2020-07-01T21:46:01.331338Z",
     "start_time": "2020-07-01T21:46:01.329075Z"
    },
    "hidden": true
   },
   "source": [
    "### Run 2-sample T-Test on Baseline Days"
   ]
  },
  {
   "cell_type": "code",
   "execution_count": null,
   "metadata": {
    "ExecuteTime": {
     "end_time": "2020-08-11T23:28:55.176005Z",
     "start_time": "2020-08-11T23:28:49.067Z"
    },
    "hidden": true
   },
   "outputs": [],
   "source": [
    "f,a = plot_bars_yerr(data,phase = \"BL\")"
   ]
  },
  {
   "cell_type": "code",
   "execution_count": null,
   "metadata": {
    "ExecuteTime": {
     "end_time": "2020-08-11T23:28:55.176792Z",
     "start_time": "2020-08-11T23:28:49.071Z"
    },
    "hidden": true
   },
   "outputs": [],
   "source": [
    "test_phase = \"BL\"\n",
    "f,a = plot_bars_yerr(data,phase)"
   ]
  },
  {
   "cell_type": "code",
   "execution_count": null,
   "metadata": {
    "ExecuteTime": {
     "end_time": "2020-08-11T23:28:55.177435Z",
     "start_time": "2020-08-11T23:28:49.075Z"
    },
    "hidden": true
   },
   "outputs": [],
   "source": [
    "for grp in data:\n",
    "    pass\n",
    "\n",
    "for grp,grp_df in data.items():\n",
    "    print(grp)\n",
    "#     display(grp_df)\n",
    "grp_df"
   ]
  },
  {
   "cell_type": "code",
   "execution_count": null,
   "metadata": {
    "ExecuteTime": {
     "end_time": "2020-08-11T23:28:55.178125Z",
     "start_time": "2020-08-11T23:28:49.079Z"
    },
    "hidden": true
   },
   "outputs": [],
   "source": [
    "import scipy.stats as st\n",
    "test_phase = 'BL'\n",
    "## Make list of list of headers\n",
    "results = [['Group','n','Normaltest Stat','p','sig?']]\n",
    "\n",
    "## Make an empty list for our group data\n",
    "test_equal_var = []\n",
    "\n",
    "## Loop through the data dictionary \n",
    "for grp,grp_df in data.items():\n",
    "   \n",
    "    ## Grab the correct phase column from the group df\n",
    "    grp_data = grp_df[test_phase].copy()\n",
    "    ## Append group data to list of group data\n",
    "    test_equal_var.append(grp_data)\n",
    "    \n",
    "    ## Test for nomrality and save result \n",
    "    stat,p = st.normaltest(grp_data)\n",
    "    results.append([grp,len(grp_data),stat,p,p<.05])\n",
    "results"
   ]
  },
  {
   "cell_type": "code",
   "execution_count": null,
   "metadata": {
    "ExecuteTime": {
     "end_time": "2020-08-11T23:28:55.178998Z",
     "start_time": "2020-08-11T23:28:49.083Z"
    },
    "hidden": true
   },
   "outputs": [],
   "source": [
    "pd.DataFrame(results[1:],columns=results[0])"
   ]
  },
  {
   "cell_type": "code",
   "execution_count": null,
   "metadata": {
    "hidden": true
   },
   "outputs": [],
   "source": []
  },
  {
   "cell_type": "markdown",
   "metadata": {
    "hidden": true
   },
   "source": [
    "### Adding Levene's Test"
   ]
  },
  {
   "cell_type": "code",
   "execution_count": null,
   "metadata": {
    "ExecuteTime": {
     "end_time": "2020-08-11T23:28:55.179729Z",
     "start_time": "2020-08-11T23:28:49.089Z"
    },
    "hidden": true
   },
   "outputs": [],
   "source": [
    "import scipy.stats as st\n",
    "\n",
    "## Make list of list of headers\n",
    "results = [['Group','n','Normaltest Stat','p','sig?']]\n",
    "\n",
    "## Make an empty list for our group data\n",
    "test_equal_var = []\n",
    "\n",
    "## Loop through the data dictionary \n",
    "for grp,grp_df in data.items():\n",
    "   \n",
    "    ## Grab the correct phase column from the group df\n",
    "    grp_data = grp_df[test_phase].copy()\n",
    "    ## Append group data to list of group data\n",
    "    test_equal_var.append(grp_data)\n",
    "    \n",
    "    ## Test for nomrality and save result \n",
    "    stat,p = st.normaltest(grp_data)\n",
    "    results.append([grp,len(grp_data),stat,p,p<.05])\n",
    "\n",
    "\n",
    "## Test for equal variance\n",
    "stat, p = st.levene(*test_equal_var)\n",
    "results.append(['Equal Variance','all',stat,p,p<.05])\n",
    "    \n",
    "results_df = pd.DataFrame(results[1:],columns=results[0])\n",
    "results_df"
   ]
  },
  {
   "cell_type": "markdown",
   "metadata": {
    "hidden": true
   },
   "source": [
    "### Run Correct Test"
   ]
  },
  {
   "cell_type": "code",
   "execution_count": null,
   "metadata": {
    "ExecuteTime": {
     "end_time": "2020-08-11T23:28:55.180540Z",
     "start_time": "2020-08-11T23:28:49.093Z"
    },
    "hidden": true
   },
   "outputs": [],
   "source": [
    "st.mannwhitneyu(*test_equal_var)"
   ]
  },
  {
   "cell_type": "code",
   "execution_count": null,
   "metadata": {
    "hidden": true
   },
   "outputs": [],
   "source": []
  },
  {
   "cell_type": "code",
   "execution_count": null,
   "metadata": {
    "ExecuteTime": {
     "end_time": "2020-08-11T23:28:55.181727Z",
     "start_time": "2020-08-11T23:28:49.098Z"
    },
    "hidden": true
   },
   "outputs": [],
   "source": [
    "## Functionize code for testing other phases\n",
    "import scipy.stats as st\n",
    "def test_assumptions(data,test_phase):#,plot=True):\n",
    "\n",
    "    ## Make list of list of headers\n",
    "    results = [['Phase','Group','n','Normaltest Stat','p','sig?']]\n",
    "\n",
    "    ## Make an empty list for our group data\n",
    "    test_equal_var = []\n",
    "\n",
    "    ## Loop through the data dictionary \n",
    "    for grp,grp_df in data.items():\n",
    "\n",
    "        ## Grab the correct phase column from the group df\n",
    "        grp_data = grp_df[test_phase].copy()\n",
    "        ## Append group data to list of group data\n",
    "        test_equal_var.append(grp_data)\n",
    "\n",
    "        ## Test for nomrality and save result \n",
    "        stat,p = st.normaltest(grp_data)\n",
    "        results.append([test_phase,grp,len(grp_data),stat,p,p<.05])\n",
    "\n",
    "\n",
    "    ## Test for equal variance\n",
    "    stat, p = st.levene(*test_equal_var)\n",
    "    results.append([test_phase,'Equal Variance','all',stat,p,p<.05])\n",
    "\n",
    "    results_df = pd.DataFrame(results[1:],columns=results[0])\n",
    "    return results_df"
   ]
  },
  {
   "cell_type": "code",
   "execution_count": null,
   "metadata": {
    "ExecuteTime": {
     "end_time": "2020-08-11T23:28:55.182360Z",
     "start_time": "2020-08-11T23:28:49.102Z"
    },
    "hidden": true
   },
   "outputs": [],
   "source": [
    "res_df=  test_assumptions(data,'S')\n",
    "res_df"
   ]
  },
  {
   "cell_type": "code",
   "execution_count": null,
   "metadata": {
    "ExecuteTime": {
     "end_time": "2020-08-11T23:28:55.183213Z",
     "start_time": "2020-08-11T23:28:49.106Z"
    },
    "hidden": true
   },
   "outputs": [],
   "source": [
    "fig,ax = plot_bars_yerr(data,phase='S')"
   ]
  },
  {
   "cell_type": "code",
   "execution_count": null,
   "metadata": {
    "ExecuteTime": {
     "end_time": "2020-08-11T23:28:55.184107Z",
     "start_time": "2020-08-11T23:28:49.110Z"
    },
    "hidden": true
   },
   "outputs": [],
   "source": [
    "## Add Plotting to function\n",
    "import scipy.stats as st\n",
    "def test_assumptions(data,test_phase,plot=True):\n",
    "\n",
    "    if plot:\n",
    "        fig,ax = plot_bars_yerr(data,phase=test_phase)\n",
    "        \n",
    "    ## Make list of list of headers\n",
    "    results = [['Phase','Group','n','Normaltest Stat','p','sig?']]\n",
    "\n",
    "    ## Make an empty list for our group data\n",
    "    test_equal_var = []\n",
    "\n",
    "    ## Loop through the data dictionary \n",
    "    for grp,grp_df in data.items():\n",
    "\n",
    "        ## Grab the correct phase column from the group df\n",
    "        grp_data = grp_df[test_phase].copy()\n",
    "        ## Append group data to list of group data\n",
    "        test_equal_var.append(grp_data)\n",
    "\n",
    "        ## Test for nomrality and save result \n",
    "        stat,p = st.normaltest(grp_data)\n",
    "        results.append([test_phase,grp,len(grp_data),stat,p,p<.05])\n",
    "\n",
    "\n",
    "    ## Test for equal variance\n",
    "    stat, p = st.levene(*test_equal_var)\n",
    "    results.append([test_phase,'Equal Variance','all',stat,p,p<.05])\n",
    "\n",
    "    results_df = pd.DataFrame(results[1:],columns=results[0])\n",
    "    return results_df"
   ]
  },
  {
   "cell_type": "code",
   "execution_count": null,
   "metadata": {
    "ExecuteTime": {
     "end_time": "2020-08-11T23:28:55.186518Z",
     "start_time": "2020-08-11T23:28:49.116Z"
    },
    "hidden": true,
    "scrolled": false
   },
   "outputs": [],
   "source": [
    "RESULTS = {}\n",
    "for phase in phases:\n",
    "    res_df = test_assumptions(data,phase)\n",
    "    \n",
    "    display(res_df)\n",
    "    plt.show()\n",
    "    "
   ]
  },
  {
   "cell_type": "code",
   "execution_count": null,
   "metadata": {
    "ExecuteTime": {
     "end_time": "2020-08-11T23:28:55.187319Z",
     "start_time": "2020-08-11T23:28:49.120Z"
    },
    "hidden": true,
    "scrolled": true
   },
   "outputs": [],
   "source": [
    "df_means"
   ]
  },
  {
   "cell_type": "code",
   "execution_count": null,
   "metadata": {
    "hidden": true
   },
   "outputs": [],
   "source": []
  }
 ],
 "metadata": {
  "colab": {
   "collapsed_sections": [],
   "name": "Sect 18+19  with Titanic.ipynb",
   "provenance": []
  },
  "kernelspec": {
   "display_name": "Python [conda env:learn-env] *",
   "language": "python",
   "name": "conda-env-learn-env-py"
  },
  "language_info": {
   "codemirror_mode": {
    "name": "ipython",
    "version": 3
   },
   "file_extension": ".py",
   "mimetype": "text/x-python",
   "name": "python",
   "nbconvert_exporter": "python",
   "pygments_lexer": "ipython3",
   "version": "3.6.11"
  },
  "toc": {
   "base_numbering": 1,
   "nav_menu": {},
   "number_sections": false,
   "sideBar": true,
   "skip_h1_title": false,
   "title_cell": "Table of Contents",
   "title_sidebar": "Contents",
   "toc_cell": false,
   "toc_position": {
    "height": "calc(100% - 180px)",
    "left": "10px",
    "top": "150px",
    "width": "255.969px"
   },
   "toc_section_display": true,
   "toc_window_display": true
  },
  "varInspector": {
   "cols": {
    "lenName": 16,
    "lenType": 16,
    "lenVar": 40
   },
   "kernels_config": {
    "python": {
     "delete_cmd_postfix": "",
     "delete_cmd_prefix": "del ",
     "library": "var_list.py",
     "varRefreshCmd": "print(var_dic_list())"
    },
    "r": {
     "delete_cmd_postfix": ") ",
     "delete_cmd_prefix": "rm(",
     "library": "var_list.r",
     "varRefreshCmd": "cat(var_dic_list()) "
    }
   },
   "types_to_exclude": [
    "module",
    "function",
    "builtin_function_or_method",
    "instance",
    "_Feature"
   ],
   "window_display": false
  }
 },
 "nbformat": 4,
 "nbformat_minor": 1
}

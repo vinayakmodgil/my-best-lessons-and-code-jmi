{
 "cells": [
  {
   "cell_type": "markdown",
   "metadata": {},
   "source": [
    "# Topic 21: Object-Oriented Programming "
   ]
  },
  {
   "cell_type": "markdown",
   "metadata": {},
   "source": [
    "- onl01-dtsc-ft-022221\n",
    "- 04/27/21"
   ]
  },
  {
   "cell_type": "markdown",
   "metadata": {},
   "source": [
    "## Questions?\n"
   ]
  },
  {
   "cell_type": "markdown",
   "metadata": {},
   "source": [
    "- "
   ]
  },
  {
   "cell_type": "markdown",
   "metadata": {},
   "source": [
    "## Topics"
   ]
  },
  {
   "cell_type": "markdown",
   "metadata": {
    "ExecuteTime": {
     "end_time": "2020-03-04T22:48:55.304853Z",
     "start_time": "2020-03-04T22:48:55.299479Z"
    }
   },
   "source": [
    "- **OOP-Vocabulary**\n",
    "- **Defining/Initializing Classes**\n",
    "- **Inspecting classes:**\n",
    "    - `help(obj)` vs `dir(obj)`\n",
    "    \n",
    "- **Deeper dive into Classes/Objects**\n",
    "    - special methods/properties (`__repr__(),__str__(),__call__(),__version__(),__name__()`)\n",
    "    - Methods: vs Bound Methods vs Static Methods \n",
    "    \n",
    "- **Extended Activity: Building a Deck of PlayingCards**"
   ]
  },
  {
   "cell_type": "markdown",
   "metadata": {},
   "source": [
    "# What does it mean to be 'Object-Oriented'?\n",
    "\n",
    "> ### ___\"Everything is an object.\"___\n",
    "- some Python sensei\n"
   ]
  },
  {
   "cell_type": "markdown",
   "metadata": {},
   "source": [
    "- Any function, method, class, variable are ALL objects. \n",
    "    - Built from a template Class\n",
    "    - Can be stored in memory under any name "
   ]
  },
  {
   "cell_type": "code",
   "execution_count": 26,
   "metadata": {
    "ExecuteTime": {
     "end_time": "2021-04-24T14:51:26.442041Z",
     "start_time": "2021-04-24T14:51:26.438858Z"
    }
   },
   "outputs": [
    {
     "data": {
      "text/plain": [
       "<function print>"
      ]
     },
     "execution_count": 26,
     "metadata": {},
     "output_type": "execute_result"
    }
   ],
   "source": [
    "prove_it = print\n",
    "prove_it"
   ]
  },
  {
   "cell_type": "code",
   "execution_count": 27,
   "metadata": {
    "ExecuteTime": {
     "end_time": "2021-04-24T14:51:42.562502Z",
     "start_time": "2021-04-24T14:51:42.559847Z"
    }
   },
   "outputs": [
    {
     "name": "stdout",
     "output_type": "stream",
     "text": [
      "This is now equal to print.\n"
     ]
    }
   ],
   "source": [
    "prove_it(\"This is now equal to print.\")"
   ]
  },
  {
   "cell_type": "code",
   "execution_count": 30,
   "metadata": {
    "ExecuteTime": {
     "end_time": "2021-04-24T14:51:54.608493Z",
     "start_time": "2021-04-24T14:51:54.605877Z"
    }
   },
   "outputs": [
    {
     "name": "stdout",
     "output_type": "stream",
     "text": [
      "Help on built-in function print in module builtins:\n",
      "\n",
      "print(...)\n",
      "    print(value, ..., sep=' ', end='\\n', file=sys.stdout, flush=False)\n",
      "    \n",
      "    Prints the values to a stream, or to sys.stdout by default.\n",
      "    Optional keyword arguments:\n",
      "    file:  a file-like object (stream); defaults to the current sys.stdout.\n",
      "    sep:   string inserted between values, default a space.\n",
      "    end:   string appended after the last value, default a newline.\n",
      "    flush: whether to forcibly flush the stream.\n",
      "\n"
     ]
    }
   ],
   "source": [
    "help(prove_it)"
   ]
  },
  {
   "cell_type": "code",
   "execution_count": 32,
   "metadata": {
    "ExecuteTime": {
     "end_time": "2021-04-24T14:52:02.942527Z",
     "start_time": "2021-04-24T14:52:02.939302Z"
    }
   },
   "outputs": [
    {
     "data": {
      "text/plain": [
       "'print'"
      ]
     },
     "execution_count": 32,
     "metadata": {},
     "output_type": "execute_result"
    }
   ],
   "source": [
    "prove_it.__name__"
   ]
  },
  {
   "cell_type": "markdown",
   "metadata": {},
   "source": [
    "# OOP VOCABULARY\n"
   ]
  },
  {
   "cell_type": "markdown",
   "metadata": {
    "ExecuteTime": {
     "end_time": "2020-03-04T22:50:13.264632Z",
     "start_time": "2020-03-04T22:50:13.257093Z"
    }
   },
   "source": [
    "#### VOCAB RELATED TO FUNCTIONS:"
   ]
  },
  {
   "cell_type": "markdown",
   "metadata": {
    "ExecuteTime": {
     "end_time": "2020-03-04T22:50:13.264632Z",
     "start_time": "2020-03-04T22:50:13.257093Z"
    }
   },
   "source": [
    "- **Function: A resuable, fleixbile block of code that runs a process**  \n",
    "\n",
    "    - Parameters: inputs that are expected by python/that function\n",
    "    \n",
    "    - Argument: the actual value/variable passed into the function. \n",
    "        - Positional Argument:\n",
    "        - Keyword/default Arguments:\n",
    "\n",
    "- \"Calling\" a function: `( )`"
   ]
  },
  {
   "cell_type": "code",
   "execution_count": 46,
   "metadata": {
    "ExecuteTime": {
     "end_time": "2021-04-24T14:59:14.430979Z",
     "start_time": "2021-04-24T14:59:14.428212Z"
    }
   },
   "outputs": [],
   "source": [
    "def my_func(posarg1,posarg2, kwarg1='example',kwarg2='example2'):\n",
    "    print('positional arguments:')\n",
    "    print(f\"    {posarg1}, {posarg2}\")\n",
    "    \n",
    "    print(\"keyword arguments:\")\n",
    "    print(f\"    kwarg1={kwarg1}\")\n",
    "    print(f\"    kwarg2={kwarg2}\")"
   ]
  },
  {
   "cell_type": "code",
   "execution_count": 47,
   "metadata": {
    "ExecuteTime": {
     "end_time": "2021-04-24T14:59:14.658130Z",
     "start_time": "2021-04-24T14:59:14.654602Z"
    }
   },
   "outputs": [
    {
     "data": {
      "text/plain": [
       "<function __main__.my_func(posarg1, posarg2, kwarg1='example', kwarg2='example2')>"
      ]
     },
     "execution_count": 47,
     "metadata": {},
     "output_type": "execute_result"
    }
   ],
   "source": [
    "my_func"
   ]
  },
  {
   "cell_type": "code",
   "execution_count": 48,
   "metadata": {
    "ExecuteTime": {
     "end_time": "2021-04-24T14:59:14.980333Z",
     "start_time": "2021-04-24T14:59:14.977513Z"
    }
   },
   "outputs": [
    {
     "name": "stdout",
     "output_type": "stream",
     "text": [
      "positional arguments:\n",
      "    1, 2\n",
      "keyword arguments:\n",
      "    kwarg1=example\n",
      "    kwarg2=example2\n"
     ]
    }
   ],
   "source": [
    "my_func(1,2)"
   ]
  },
  {
   "cell_type": "markdown",
   "metadata": {
    "ExecuteTime": {
     "end_time": "2020-03-04T22:50:13.264632Z",
     "start_time": "2020-03-04T22:50:13.257093Z"
    }
   },
   "source": [
    "#### VOCAB RELATED TO CLASSES:"
   ]
  },
  {
   "cell_type": "markdown",
   "metadata": {
    "ExecuteTime": {
     "end_time": "2020-03-04T22:50:13.264632Z",
     "start_time": "2020-03-04T22:50:13.257093Z"
    }
   },
   "source": [
    "- \"Object\": \n",
    "- **Class:** \n",
    "- Instance: \n",
    "- Attribute:\n",
    "- Method:\n",
    "- Private Attributes/Methods: \n",
    "- Getters/Setters:\n",
    "\n",
    "\n",
    "- Object: \n",
    "\n",
    "- \"dunders\" = double underscores __ "
   ]
  },
  {
   "cell_type": "markdown",
   "metadata": {},
   "source": [
    "# Defining and Initializing Classes\n"
   ]
  },
  {
   "cell_type": "markdown",
   "metadata": {},
   "source": [
    "- Use `class NewClassName():` like you use `def function_name():` for functions.\n",
    "    - the `()` are optional for classes. (used to inherit other classes, more on that later)"
   ]
  },
  {
   "cell_type": "markdown",
   "metadata": {},
   "source": [
    "#### Naming Classes\n",
    "    \n",
    "- Convention for naming classes = `UpperCamelCase`\n",
    "- Convention for naming function = `snake_case`"
   ]
  },
  {
   "cell_type": "code",
   "execution_count": null,
   "metadata": {
    "ExecuteTime": {
     "end_time": "2020-08-12T23:16:27.036911Z",
     "start_time": "2020-08-12T23:16:27.034853Z"
    }
   },
   "outputs": [],
   "source": [
    "## Bare minimum to define a class.\n",
    "class Car:\n",
    "    pass"
   ]
  },
  {
   "cell_type": "markdown",
   "metadata": {},
   "source": [
    "## Attributes and Methods"
   ]
  },
  {
   "cell_type": "markdown",
   "metadata": {},
   "source": [
    "- Attribute: a variable is stored inside a class/object\n",
    "\n",
    "- Method: a function that is stored inside of and (usually) operates on the object/class"
   ]
  },
  {
   "cell_type": "code",
   "execution_count": null,
   "metadata": {
    "ExecuteTime": {
     "end_time": "2020-08-12T23:20:29.160409Z",
     "start_time": "2020-08-12T23:20:29.156860Z"
    }
   },
   "outputs": [],
   "source": [
    "class Car:\n",
    "    \"\"\"Automotive object\"\"\"\n",
    "    ## Attributes\n",
    "    wheels = 4                     \n",
    "    moving = False\n",
    "    doors = 2\n",
    "    \n",
    "    ## Methods\n",
    "    def go(self):                  \n",
    "        print('It\\'s going!')\n",
    "        self.moving = True\n",
    "    \n",
    "    def stop(self):\n",
    "        print('Stopped.')\n",
    "        self.moving = False"
   ]
  },
  {
   "cell_type": "markdown",
   "metadata": {},
   "source": [
    "### Know thy `self`\n",
    "- Because Methods are designed to operate on the `object_its.attached_to()`, Python automatically gives every method a copy of instance its attached to, which we call `self`\n",
    "- We have to pass `self` as the first parameter for every method we make.\n",
    "- Otherwise it will think that the first thing we give it is actually itself. This will cause an *existential crisis** and corresponding error."
   ]
  },
  {
   "cell_type": "markdown",
   "metadata": {},
   "source": [
    "## Initialization \n"
   ]
  },
  {
   "cell_type": "markdown",
   "metadata": {},
   "source": [
    "- We create an instance by setting a `instance = ClassName()`\n",
    "-  This uses the template `ClassName` to create an instance of the class ( which we named `instance`)"
   ]
  },
  {
   "cell_type": "code",
   "execution_count": null,
   "metadata": {
    "ExecuteTime": {
     "end_time": "2020-08-12T23:20:29.917367Z",
     "start_time": "2020-08-12T23:20:29.913989Z"
    }
   },
   "outputs": [],
   "source": [
    "lamborghini = Car()\n",
    "lamborghini"
   ]
  },
  {
   "cell_type": "code",
   "execution_count": null,
   "metadata": {
    "ExecuteTime": {
     "end_time": "2020-08-12T23:20:30.420333Z",
     "start_time": "2020-08-12T23:20:30.416757Z"
    }
   },
   "outputs": [],
   "source": [
    "lamborghini.wheels"
   ]
  },
  {
   "cell_type": "code",
   "execution_count": null,
   "metadata": {
    "ExecuteTime": {
     "end_time": "2020-08-12T23:20:30.717705Z",
     "start_time": "2020-08-12T23:20:30.713717Z"
    }
   },
   "outputs": [],
   "source": [
    "lamborghini.doors"
   ]
  },
  {
   "cell_type": "code",
   "execution_count": null,
   "metadata": {
    "ExecuteTime": {
     "end_time": "2020-08-12T23:20:30.946479Z",
     "start_time": "2020-08-12T23:20:30.943298Z"
    }
   },
   "outputs": [],
   "source": [
    "lamborghini.moving"
   ]
  },
  {
   "cell_type": "code",
   "execution_count": null,
   "metadata": {
    "ExecuteTime": {
     "end_time": "2020-08-12T23:20:31.351339Z",
     "start_time": "2020-08-12T23:20:31.348396Z"
    }
   },
   "outputs": [],
   "source": [
    "lamborghini.go()"
   ]
  },
  {
   "cell_type": "code",
   "execution_count": null,
   "metadata": {
    "ExecuteTime": {
     "end_time": "2020-08-12T23:20:33.055192Z",
     "start_time": "2020-08-12T23:20:33.050931Z"
    }
   },
   "outputs": [],
   "source": [
    "lamborghini.moving"
   ]
  },
  {
   "cell_type": "code",
   "execution_count": null,
   "metadata": {
    "ExecuteTime": {
     "end_time": "2020-08-12T23:20:33.968265Z",
     "start_time": "2020-08-12T23:20:33.965685Z"
    }
   },
   "outputs": [],
   "source": [
    "lamborghini.stop()"
   ]
  },
  {
   "cell_type": "code",
   "execution_count": null,
   "metadata": {
    "ExecuteTime": {
     "end_time": "2020-08-12T23:20:34.155712Z",
     "start_time": "2020-08-12T23:20:34.151490Z"
    }
   },
   "outputs": [],
   "source": [
    "lamborghini.moving"
   ]
  },
  {
   "cell_type": "markdown",
   "metadata": {},
   "source": [
    "### `__init__`"
   ]
  },
  {
   "cell_type": "markdown",
   "metadata": {},
   "source": [
    "- What if we don't want to set the attributes in stone for every Car but want to let the programmer determine that whenever a new Car is made?"
   ]
  },
  {
   "cell_type": "markdown",
   "metadata": {},
   "source": [
    "> - When an instance is `initialized`, we `call` it using `()`, which runs a default `__init__()` method."
   ]
  },
  {
   "cell_type": "code",
   "execution_count": null,
   "metadata": {
    "ExecuteTime": {
     "end_time": "2020-08-12T23:22:35.355854Z",
     "start_time": "2020-08-12T23:22:35.351148Z"
    }
   },
   "outputs": [],
   "source": [
    "class Car():\n",
    "    \"\"\"Automotive object\"\"\"\n",
    "    ## Attributes\n",
    "    moving = False\n",
    "\n",
    "    ## Methods\n",
    "    def __init__(self,wheels,doors):\n",
    "        self.wheels = wheels\n",
    "        self.doors = doors\n",
    "    \n",
    "    \n",
    "    def go(self):                   # These are methods we can call on *any* car.\n",
    "        print('It\\'s going!')\n",
    "        self.moving = True\n",
    "    \n",
    "    def stop(self):\n",
    "        print('Stopped.')\n",
    "        self.moving = False"
   ]
  },
  {
   "cell_type": "code",
   "execution_count": null,
   "metadata": {
    "ExecuteTime": {
     "end_time": "2020-08-12T23:22:35.819860Z",
     "start_time": "2020-08-12T23:22:35.813638Z"
    }
   },
   "outputs": [],
   "source": [
    "## We should get an erorr about missing positional arguments\n",
    "lamborghini = Car()"
   ]
  },
  {
   "cell_type": "code",
   "execution_count": null,
   "metadata": {
    "ExecuteTime": {
     "end_time": "2020-08-12T23:23:03.627445Z",
     "start_time": "2020-08-12T23:23:03.623027Z"
    }
   },
   "outputs": [],
   "source": [
    "## We must provide any arguments for __init__ when we create an instance\n",
    "lamborghini = Car(wheels=4,doors=2)\n",
    "print(lamborghini.wheels)\n",
    "lamborghini.doors"
   ]
  },
  {
   "cell_type": "code",
   "execution_count": null,
   "metadata": {
    "ExecuteTime": {
     "end_time": "2020-08-12T23:24:01.439576Z",
     "start_time": "2020-08-12T23:24:01.435041Z"
    }
   },
   "outputs": [],
   "source": [
    "rav4 = Car(4,2)\n",
    "print(rav4.wheels)\n",
    "rav4.doors"
   ]
  },
  {
   "cell_type": "markdown",
   "metadata": {},
   "source": [
    "## Inheritance"
   ]
  },
  {
   "cell_type": "markdown",
   "metadata": {},
   "source": [
    "- Define a Class based on another class by passing the class to inherit from as a parameter:"
   ]
  },
  {
   "cell_type": "code",
   "execution_count": null,
   "metadata": {
    "ExecuteTime": {
     "end_time": "2020-08-12T23:25:05.691620Z",
     "start_time": "2020-08-12T23:25:05.689008Z"
    }
   },
   "outputs": [],
   "source": [
    "class Truck(Car):\n",
    "    \n",
    "    pass"
   ]
  },
  {
   "cell_type": "code",
   "execution_count": null,
   "metadata": {
    "ExecuteTime": {
     "end_time": "2020-08-12T23:25:12.485512Z",
     "start_time": "2020-08-12T23:25:12.481723Z"
    }
   },
   "outputs": [],
   "source": [
    "help(Truck)"
   ]
  },
  {
   "cell_type": "markdown",
   "metadata": {},
   "source": [
    "### What did you inherit?    "
   ]
  },
  {
   "cell_type": "markdown",
   "metadata": {},
   "source": [
    "- To view all of the attributes and methods of a class, **use the help() command**\n",
    "    -  Note: There is often ***information in `help()` that you may not be able to find ANYWHERE else*** and does not show up in documentation."
   ]
  },
  {
   "cell_type": "markdown",
   "metadata": {},
   "source": [
    "#### Peeking Under the Hood: `help` and `dir`"
   ]
  },
  {
   "cell_type": "code",
   "execution_count": null,
   "metadata": {
    "ExecuteTime": {
     "end_time": "2020-08-12T23:26:13.482376Z",
     "start_time": "2020-08-12T23:26:13.478973Z"
    }
   },
   "outputs": [],
   "source": [
    "f150 = Truck(doors=4,wheels=4)\n",
    "help(f150)"
   ]
  },
  {
   "cell_type": "code",
   "execution_count": null,
   "metadata": {
    "ExecuteTime": {
     "end_time": "2020-08-12T23:28:05.424034Z",
     "start_time": "2020-08-12T23:28:05.420198Z"
    }
   },
   "outputs": [],
   "source": [
    "f150"
   ]
  },
  {
   "cell_type": "code",
   "execution_count": null,
   "metadata": {
    "ExecuteTime": {
     "end_time": "2020-08-12T23:26:20.967063Z",
     "start_time": "2020-08-12T23:26:20.962338Z"
    }
   },
   "outputs": [],
   "source": [
    "dir(f150)"
   ]
  },
  {
   "cell_type": "markdown",
   "metadata": {},
   "source": [
    "# Special Class Methods"
   ]
  },
  {
   "cell_type": "markdown",
   "metadata": {},
   "source": [
    "#### Magic Methods\n",
    "\n",
    "It is common for a class to have magic methods. These are identifiable by the \"dunder\" (i.e. **d**ouble **under**score) prefixes and suffixes, such as `__init__()`. These methods will get called **automatically**, as we'll see below.\n",
    "\n",
    "For more on these \"magic methods\", see [here](https://www.geeksforgeeks.org/dunder-magic-methods-python/)."
   ]
  },
  {
   "cell_type": "markdown",
   "metadata": {},
   "source": [
    "## Using special methods to control the output of a class"
   ]
  },
  {
   "cell_type": "code",
   "execution_count": null,
   "metadata": {
    "ExecuteTime": {
     "end_time": "2020-08-12T23:29:18.390958Z",
     "start_time": "2020-08-12T23:29:18.383870Z"
    }
   },
   "outputs": [],
   "source": [
    "display(rav4)\n",
    "rav4"
   ]
  },
  {
   "cell_type": "markdown",
   "metadata": {},
   "source": [
    "### `__repr__()` controls display when final element of a cell (or when display is used)"
   ]
  },
  {
   "cell_type": "code",
   "execution_count": null,
   "metadata": {
    "ExecuteTime": {
     "end_time": "2020-08-12T23:29:52.078130Z",
     "start_time": "2020-08-12T23:29:52.072097Z"
    }
   },
   "outputs": [],
   "source": [
    "class Car():\n",
    "    \"\"\"Automotive object\"\"\"\n",
    "    ## Attributes\n",
    "    moving = False\n",
    "\n",
    "    ## Methods\n",
    "    def __init__(self,wheels=4,doors=4):\n",
    "        self.wheels = wheels\n",
    "        self.doors = doors\n",
    "    \n",
    "    \n",
    "    def go(self):                   # These are methods we can call on *any* car.\n",
    "        print('It\\'s going!')\n",
    "        self.moving = True\n",
    "    \n",
    "    def stop(self):\n",
    "        print('Stopped.')\n",
    "        self.moving = False\n",
    "        \n",
    "    def __repr__(self):\n",
    "        info = [f\"- Wheels: {self.wheels}\"]\n",
    "        info.append(f\"- Doors: {self.doors}\")\n",
    "        info.append(f\"- Moving?: {self.moving}\")\n",
    "        return '\\n'.join(info)"
   ]
  },
  {
   "cell_type": "code",
   "execution_count": null,
   "metadata": {
    "ExecuteTime": {
     "end_time": "2020-08-12T23:29:52.521601Z",
     "start_time": "2020-08-12T23:29:52.518273Z"
    }
   },
   "outputs": [],
   "source": [
    "rav4 = Car()\n",
    "rav4"
   ]
  },
  {
   "cell_type": "code",
   "execution_count": null,
   "metadata": {
    "ExecuteTime": {
     "end_time": "2020-08-12T23:30:03.391805Z",
     "start_time": "2020-08-12T23:30:03.389240Z"
    }
   },
   "outputs": [],
   "source": [
    "rav4.go()"
   ]
  },
  {
   "cell_type": "code",
   "execution_count": null,
   "metadata": {
    "ExecuteTime": {
     "end_time": "2020-08-12T23:30:04.225463Z",
     "start_time": "2020-08-12T23:30:04.221831Z"
    }
   },
   "outputs": [],
   "source": [
    "rav4"
   ]
  },
  {
   "cell_type": "markdown",
   "metadata": {},
   "source": [
    "### `__str__()` controls whats displayed when an object is printed"
   ]
  },
  {
   "cell_type": "code",
   "execution_count": null,
   "metadata": {
    "ExecuteTime": {
     "end_time": "2020-08-12T23:31:40.348916Z",
     "start_time": "2020-08-12T23:31:40.343822Z"
    }
   },
   "outputs": [],
   "source": [
    "class Car():\n",
    "    \"\"\"Automotive object\"\"\"\n",
    "    ## Attributes\n",
    "    moving = False\n",
    "\n",
    "    ## Methods\n",
    "    def __init__(self,wheels=4,doors=4):\n",
    "        self.wheels = wheels\n",
    "        self.doors = doors\n",
    "    \n",
    "    \n",
    "    def go(self):                   # These are methods we can call on *any* car.\n",
    "        print('It\\'s going!')\n",
    "        self.moving = True\n",
    "    \n",
    "    def stop(self):\n",
    "        print('Stopped.')\n",
    "        self.moving = False\n",
    "        \n",
    "    def __repr__(self):\n",
    "        info = [f\"- Wheels: {self.wheels}\"]\n",
    "        info.append(f\"- Doors: {self.doors}\")\n",
    "        info.append(f\"- Moving?: {self.moving}\")\n",
    "        return '\\n'.join(info)\n",
    "    \n",
    "    def __str__(self):\n",
    "        return f\"- This car has {self.wheels} wheels, {self.doors} doors, and moving = {self.moving}\""
   ]
  },
  {
   "cell_type": "code",
   "execution_count": null,
   "metadata": {
    "ExecuteTime": {
     "end_time": "2020-08-12T23:31:40.577385Z",
     "start_time": "2020-08-12T23:31:40.574191Z"
    }
   },
   "outputs": [],
   "source": [
    "rav4=Car()\n",
    "rav4"
   ]
  },
  {
   "cell_type": "code",
   "execution_count": null,
   "metadata": {
    "ExecuteTime": {
     "end_time": "2020-08-12T23:31:40.758798Z",
     "start_time": "2020-08-12T23:31:40.755290Z"
    }
   },
   "outputs": [],
   "source": [
    "print(rav4)"
   ]
  },
  {
   "cell_type": "markdown",
   "metadata": {},
   "source": [
    "### `__repr__()` vs. `__str__()`\n",
    "\n",
    "`__repr__()` and `__str__()` are both designed to return string-representations of the object. But `__repr__()` focuses on minimizing ambiguity while `__str__()` focuses on readability. However, if your class has no `__str__()` method, it will fall back on `__repr__()` (if it exists!). For more on this distinction, see [this post](https://dbader.org/blog/python-repr-vs-str)."
   ]
  },
  {
   "cell_type": "markdown",
   "metadata": {},
   "source": [
    "# Scikit Learn Objects"
   ]
  },
  {
   "cell_type": "code",
   "execution_count": null,
   "metadata": {
    "ExecuteTime": {
     "end_time": "2020-08-12T23:33:30.926980Z",
     "start_time": "2020-08-12T23:33:27.833283Z"
    },
    "scrolled": false
   },
   "outputs": [],
   "source": [
    "## Getting the dataset ready\n",
    "from fsds.imports import *\n",
    "df= fs.datasets.load_iowa_prisoners()\n",
    "\n",
    "df.fillna('MISSING',inplace=True)\n",
    "\n",
    "drop_cols= [col for col in df.columns if 'New' in col]\n",
    "drop_cols.append('Days to Recidivism')\n",
    "df.drop(columns=drop_cols,inplace=True)\n",
    "df.head()\n"
   ]
  },
  {
   "cell_type": "code",
   "execution_count": null,
   "metadata": {
    "ExecuteTime": {
     "end_time": "2020-08-12T23:33:49.780682Z",
     "start_time": "2020-08-12T23:33:49.762733Z"
    }
   },
   "outputs": [],
   "source": [
    "df.describe()"
   ]
  },
  {
   "cell_type": "code",
   "execution_count": null,
   "metadata": {},
   "outputs": [],
   "source": []
  },
  {
   "cell_type": "code",
   "execution_count": null,
   "metadata": {
    "ExecuteTime": {
     "end_time": "2020-08-12T23:34:25.049853Z",
     "start_time": "2020-08-12T23:34:25.047288Z"
    }
   },
   "outputs": [],
   "source": [
    "from sklearn.preprocessing import LabelEncoder, StandardScaler, MinMaxScaler, RobustScaler"
   ]
  },
  {
   "cell_type": "code",
   "execution_count": null,
   "metadata": {
    "ExecuteTime": {
     "end_time": "2020-08-12T23:34:54.570190Z",
     "start_time": "2020-08-12T23:34:54.563288Z"
    }
   },
   "outputs": [],
   "source": [
    "## Standard Scaler\n",
    "scaler = StandardScaler()\n",
    "scaler"
   ]
  },
  {
   "cell_type": "code",
   "execution_count": null,
   "metadata": {
    "ExecuteTime": {
     "end_time": "2020-08-12T23:36:50.948896Z",
     "start_time": "2020-08-12T23:36:50.933719Z"
    }
   },
   "outputs": [],
   "source": [
    "df['scaled_year_released'] = scaler.fit_transform(df[['Fiscal Year Released']])\n",
    "df[['scaled_year_released','Fiscal Year Released']]"
   ]
  },
  {
   "cell_type": "code",
   "execution_count": null,
   "metadata": {
    "ExecuteTime": {
     "end_time": "2020-08-12T23:38:08.597628Z",
     "start_time": "2020-08-12T23:38:08.593605Z"
    }
   },
   "outputs": [],
   "source": [
    "scaler.inverse_transform(df['scaled_year_released'])"
   ]
  },
  {
   "cell_type": "code",
   "execution_count": null,
   "metadata": {
    "ExecuteTime": {
     "end_time": "2020-08-12T23:35:58.340527Z",
     "start_time": "2020-08-12T23:35:58.335423Z"
    }
   },
   "outputs": [],
   "source": [
    "df['Fiscal Year Released']"
   ]
  },
  {
   "cell_type": "code",
   "execution_count": null,
   "metadata": {
    "ExecuteTime": {
     "end_time": "2020-08-12T23:36:10.611200Z",
     "start_time": "2020-08-12T23:36:10.608888Z"
    }
   },
   "outputs": [],
   "source": [
    "# df[['Fiscal Year Released']]"
   ]
  },
  {
   "cell_type": "code",
   "execution_count": null,
   "metadata": {},
   "outputs": [],
   "source": []
  },
  {
   "cell_type": "code",
   "execution_count": null,
   "metadata": {
    "ExecuteTime": {
     "end_time": "2020-08-12T23:38:36.881264Z",
     "start_time": "2020-08-12T23:38:36.873537Z"
    }
   },
   "outputs": [],
   "source": [
    "cat_cols = df.select_dtypes('object').columns\n",
    "cat_cols"
   ]
  },
  {
   "cell_type": "code",
   "execution_count": null,
   "metadata": {
    "ExecuteTime": {
     "end_time": "2020-08-12T23:40:14.697202Z",
     "start_time": "2020-08-12T23:40:14.680942Z"
    }
   },
   "outputs": [],
   "source": [
    "encoders_dict= {}\n",
    "for col in cat_cols:\n",
    "    le = LabelEncoder()\n",
    "    print(col)\n",
    "    \n",
    "    df[col] = le.fit_transform(df[col])\n",
    "    encoders_dict[col] = le"
   ]
  },
  {
   "cell_type": "code",
   "execution_count": null,
   "metadata": {
    "ExecuteTime": {
     "end_time": "2020-08-12T23:40:15.032416Z",
     "start_time": "2020-08-12T23:40:15.015060Z"
    }
   },
   "outputs": [],
   "source": [
    "df"
   ]
  },
  {
   "cell_type": "code",
   "execution_count": null,
   "metadata": {
    "ExecuteTime": {
     "end_time": "2020-08-12T23:40:22.448119Z",
     "start_time": "2020-08-12T23:40:22.443915Z"
    },
    "scrolled": true
   },
   "outputs": [],
   "source": [
    "encoders_dict['Sex'].inverse_transform(df['Sex'])"
   ]
  },
  {
   "cell_type": "markdown",
   "metadata": {},
   "source": [
    "# Activity: Making a Deck of PlayingCards"
   ]
  },
  {
   "cell_type": "markdown",
   "metadata": {},
   "source": [
    "## Overview - Building a Deck of Cards"
   ]
  },
  {
   "cell_type": "markdown",
   "metadata": {},
   "source": [
    "### What makes a PlayingCard?"
   ]
  },
  {
   "cell_type": "markdown",
   "metadata": {},
   "source": [
    "***Card:***\n",
    "- *Strength / Value / Name*:\n",
    "    - 2, 3, 4, 5, 6, 7, 8, 9, 10, J, Q, K, A\n",
    "- *Suit*:\n",
    "    - Hearts (H), Spades(S), Clubs(C), Diamonds(D) \n",
    "- *Color*:\n",
    "    - black or red"
   ]
  },
  {
   "cell_type": "code",
   "execution_count": 1,
   "metadata": {
    "ExecuteTime": {
     "end_time": "2021-04-24T14:09:25.610888Z",
     "start_time": "2021-04-24T14:09:25.607952Z"
    }
   },
   "outputs": [],
   "source": [
    "class PlayingCard:\n",
    "    value = None\n",
    "    suit = None\n",
    "    color = None"
   ]
  },
  {
   "cell_type": "code",
   "execution_count": 3,
   "metadata": {
    "ExecuteTime": {
     "end_time": "2021-04-24T14:09:30.726077Z",
     "start_time": "2021-04-24T14:09:30.717465Z"
    }
   },
   "outputs": [
    {
     "data": {
      "text/plain": [
       "<__main__.PlayingCard at 0x7fa8238a78b0>"
      ]
     },
     "execution_count": 3,
     "metadata": {},
     "output_type": "execute_result"
    }
   ],
   "source": [
    "card = PlayingCard()\n",
    "card.value = 2\n",
    "card.suit = 'S'\n",
    "card"
   ]
  },
  {
   "cell_type": "code",
   "execution_count": 11,
   "metadata": {
    "ExecuteTime": {
     "end_time": "2021-04-24T14:14:30.312331Z",
     "start_time": "2021-04-24T14:14:30.309189Z"
    }
   },
   "outputs": [
    {
     "data": {
      "text/plain": [
       "2"
      ]
     },
     "execution_count": 11,
     "metadata": {},
     "output_type": "execute_result"
    }
   ],
   "source": [
    "card.value"
   ]
  },
  {
   "cell_type": "code",
   "execution_count": 12,
   "metadata": {
    "ExecuteTime": {
     "end_time": "2021-04-24T14:14:33.790401Z",
     "start_time": "2021-04-24T14:14:33.787380Z"
    }
   },
   "outputs": [
    {
     "data": {
      "text/plain": [
       "'S'"
      ]
     },
     "execution_count": 12,
     "metadata": {},
     "output_type": "execute_result"
    }
   ],
   "source": [
    "card.suit"
   ]
  },
  {
   "cell_type": "code",
   "execution_count": 13,
   "metadata": {
    "ExecuteTime": {
     "end_time": "2021-04-24T14:15:05.073861Z",
     "start_time": "2021-04-24T14:15:05.071248Z"
    }
   },
   "outputs": [
    {
     "name": "stdout",
     "output_type": "stream",
     "text": [
      "2 of S\n"
     ]
    }
   ],
   "source": [
    "## Print out both in one statement\n",
    "print(f\"{card.value} of {card.suit}\")"
   ]
  },
  {
   "cell_type": "markdown",
   "metadata": {},
   "source": [
    "> Let's add a `.flip` method that will print the value and suit. \n",
    "- Let's also make `2`,`S`,`black` the default value, suit, and color."
   ]
  },
  {
   "cell_type": "code",
   "execution_count": 15,
   "metadata": {
    "ExecuteTime": {
     "end_time": "2021-04-24T14:16:15.072623Z",
     "start_time": "2021-04-24T14:16:15.069903Z"
    }
   },
   "outputs": [],
   "source": [
    "## clean for sg\n",
    "class PlayingCard:\n",
    "    value = 2\n",
    "    suit = 'S'\n",
    "    color = 'black'\n",
    "    \n",
    "    def flip(self):\n",
    "        print(f\"{self.value} of {self.suit}\")"
   ]
  },
  {
   "cell_type": "code",
   "execution_count": 16,
   "metadata": {
    "ExecuteTime": {
     "end_time": "2021-04-24T14:16:15.430081Z",
     "start_time": "2021-04-24T14:16:15.426568Z"
    }
   },
   "outputs": [
    {
     "data": {
      "text/plain": [
       "<__main__.PlayingCard at 0x7fa8256b47c0>"
      ]
     },
     "execution_count": 16,
     "metadata": {},
     "output_type": "execute_result"
    }
   ],
   "source": [
    "card = PlayingCard()\n",
    "card"
   ]
  },
  {
   "cell_type": "code",
   "execution_count": 17,
   "metadata": {
    "ExecuteTime": {
     "end_time": "2021-04-24T14:16:16.475945Z",
     "start_time": "2021-04-24T14:16:16.472804Z"
    }
   },
   "outputs": [
    {
     "name": "stdout",
     "output_type": "stream",
     "text": [
      "2 of S\n"
     ]
    }
   ],
   "source": [
    "card.flip()"
   ]
  },
  {
   "cell_type": "markdown",
   "metadata": {},
   "source": [
    "#### Moving towards mass-production of cards"
   ]
  },
  {
   "cell_type": "markdown",
   "metadata": {},
   "source": [
    "- Let's add an `init` method that will set the value, suit, and color. "
   ]
  },
  {
   "cell_type": "code",
   "execution_count": 49,
   "metadata": {
    "ExecuteTime": {
     "end_time": "2021-04-24T15:01:07.595615Z",
     "start_time": "2021-04-24T15:01:07.593797Z"
    }
   },
   "outputs": [],
   "source": [
    "### https://stackoverflow.com/questions/287871/how-to-print-colored-text-to-the-terminal\n",
    "# from termcolor import colored\n",
    "# print(colored('S','red'))\n"
   ]
  },
  {
   "cell_type": "code",
   "execution_count": 24,
   "metadata": {
    "ExecuteTime": {
     "end_time": "2021-04-24T14:49:34.693472Z",
     "start_time": "2021-04-24T14:49:34.690302Z"
    }
   },
   "outputs": [],
   "source": [
    "## clean for sg\n",
    "\n",
    "class PlayingCard:\n",
    "    \n",
    "    def __init__(self,value,suit):\n",
    "        self.value = value\n",
    "        self.suit = suit\n",
    "        self.color = 'black' if suit in ['S','C'] else 'red'\n",
    "    \n",
    "    def flip(self):\n",
    "        print(f\"{self.value} of {self.suit}\")"
   ]
  },
  {
   "cell_type": "code",
   "execution_count": 51,
   "metadata": {
    "ExecuteTime": {
     "end_time": "2021-04-24T15:02:06.122334Z",
     "start_time": "2021-04-24T15:02:06.118956Z"
    }
   },
   "outputs": [
    {
     "data": {
      "text/plain": [
       "<__main__.PlayingCard at 0x7fa8258e68e0>"
      ]
     },
     "execution_count": 51,
     "metadata": {},
     "output_type": "execute_result"
    }
   ],
   "source": [
    "card = PlayingCard(3, 'C')\n",
    "card"
   ]
  },
  {
   "cell_type": "code",
   "execution_count": 52,
   "metadata": {
    "ExecuteTime": {
     "end_time": "2021-04-24T15:02:13.853488Z",
     "start_time": "2021-04-24T15:02:13.850714Z"
    }
   },
   "outputs": [
    {
     "name": "stdout",
     "output_type": "stream",
     "text": [
      "3 of C\n"
     ]
    }
   ],
   "source": [
    "card.flip()"
   ]
  },
  {
   "cell_type": "markdown",
   "metadata": {},
   "source": [
    "# BOOKMARK"
   ]
  },
  {
   "cell_type": "code",
   "execution_count": null,
   "metadata": {
    "ExecuteTime": {
     "end_time": "2021-04-22T21:19:08.909923Z",
     "start_time": "2021-04-22T21:19:08.903078Z"
    }
   },
   "outputs": [],
   "source": [
    "## near-final class\n",
    "class PlayingCard:\n",
    "    \"\"\"\n",
    "    Create a Card object.\n",
    "    `name` must be one of ('2', '3', '4', ..., 'J', 'Q', 'K', 'A')\n",
    "    `suit` must be one of ('S', 'C', 'D', 'H')\n",
    "    \"\"\"\n",
    "    \n",
    "    def __init__(self, name, suit):\n",
    "        \n",
    "        # Extracting information from name and suit that are relevant.\n",
    "        name = str(name)\n",
    "        input_suit = suit.upper()\n",
    "        \n",
    "        ## Set teh value and suit\n",
    "        value_dct = {\n",
    "            '2': 2,'3': 3, '4': 4, '5': 5, '6': 6,\n",
    "            '7': 7, '8': 8, '9': 9, '10': 10,\n",
    "            'J': 11,'Q': 12, 'K': 13, 'A': 14\n",
    "            }\n",
    "        suit_lookup = {'S':'Spades',\n",
    "                'C':'Clubs',\n",
    "                'D':'Diamonds',\n",
    "                'H':\"Hearts\"}\n",
    "\n",
    "\n",
    "        if suit not in suit_lookup.keys():\n",
    "            raise Exception('Suit must be one of {}'.format(suit.keys()))\n",
    "\n",
    "        if str(name) not in value_dct.keys():\n",
    "            raise Exception('name must be one of {}'.format(value_dct.keys()))\n",
    "        \n",
    "        ## Setting attributes\n",
    "        self.name = name\n",
    "        self.value = value_dct[name]\n",
    "        self.suit = suit_lookup[input_suit]\n",
    "        self.color = 'Black' if input_suit in ('S', 'C') else 'Red'\n",
    "\n",
    "            \n",
    "    def flip(self):\n",
    "        print(f'{self.name} of {self.suit}')"
   ]
  },
  {
   "cell_type": "code",
   "execution_count": null,
   "metadata": {
    "ExecuteTime": {
     "end_time": "2021-04-22T21:19:09.588252Z",
     "start_time": "2021-04-22T21:19:09.579426Z"
    }
   },
   "outputs": [],
   "source": [
    "card = PlayingCard('A','S')\n",
    "card"
   ]
  },
  {
   "cell_type": "code",
   "execution_count": null,
   "metadata": {
    "ExecuteTime": {
     "end_time": "2021-04-22T21:19:16.596790Z",
     "start_time": "2021-04-22T21:19:16.593662Z"
    }
   },
   "outputs": [],
   "source": [
    "card.flip()"
   ]
  },
  {
   "cell_type": "code",
   "execution_count": null,
   "metadata": {
    "ExecuteTime": {
     "end_time": "2021-04-22T21:01:46.415948Z",
     "start_time": "2021-04-22T21:01:46.412671Z"
    }
   },
   "outputs": [],
   "source": [
    "card"
   ]
  },
  {
   "cell_type": "markdown",
   "metadata": {},
   "source": [
    "## Final PlayingCard class"
   ]
  },
  {
   "cell_type": "code",
   "execution_count": 1,
   "metadata": {
    "ExecuteTime": {
     "end_time": "2021-04-24T20:39:39.447652Z",
     "start_time": "2021-04-24T20:39:39.440896Z"
    },
    "code_folding": []
   },
   "outputs": [
    {
     "name": "stdout",
     "output_type": "stream",
     "text": [
      "┌─────────┐\n",
      "│A        │\n",
      "│         │\n",
      "│         │\n",
      "│    ♠️   │\n",
      "│         │\n",
      "│         │\n",
      "│        A│\n",
      "└─────────┘\n"
     ]
    }
   ],
   "source": [
    "def make_ascii(name, suit):\n",
    "#     rank = self.name\n",
    "#     suit = self.suit_symbol\n",
    "    rank = name\n",
    "    symbols = {'S':'♠️','C':'♣️','D':'♦️','H':'♥️'}\n",
    "    suit_symbol = symbols[suit]\n",
    "    if name == '10':\n",
    "        space=''\n",
    "    else:\n",
    "        space = ' '\n",
    "\n",
    "    tabs = \"\\t\"\n",
    "    ## Ascii Card adapted from: https://codereview.stackexchange.com/questions/82103/ascii-fication-of-playing-cards\n",
    "    # add the individual card on a line by line basis\n",
    "    _ascii=[]\n",
    "    _ascii.append('┌─────────┐')\n",
    "    _ascii.append(f'│{rank}{space}       │')#.format(rank, space))  # use two {} one for char, one for space or char\n",
    "    _ascii.append('│         │')\n",
    "    _ascii.append('│         │')\n",
    "    _ascii.append(f'│    {suit_symbol}   │') #.format(suit))\n",
    "    _ascii.append('│         │')\n",
    "    _ascii.append('│         │')\n",
    "    _ascii.append(f'│       {space}{rank}│')#.format(space, rank))\n",
    "    _ascii.append('└─────────┘')\n",
    "    \n",
    "#     return '\\n'.join(_ascii)\n",
    "    print('\\n'.join(_ascii))\n",
    "\n",
    "\n",
    "make_ascii('A','S')"
   ]
  },
  {
   "cell_type": "code",
   "execution_count": null,
   "metadata": {
    "ExecuteTime": {
     "end_time": "2021-04-22T21:24:49.031701Z",
     "start_time": "2021-04-22T21:24:49.020074Z"
    }
   },
   "outputs": [],
   "source": [
    "import requests\n",
    "from PIL import Image\n",
    "# from tensorflow.keras.preprocessing.image import load_img,array_to_img,img_to_array\n",
    "\n",
    "class PlayingCard:\n",
    "    \"\"\"\n",
    "    Create a Card object.\n",
    "    `name` must be one of ('2', '3', '4', ..., 'J', 'Q', 'K', 'A')\n",
    "    `suit` must be one of ('S', 'C', 'D', 'H')\n",
    "    \"\"\"\n",
    "    \n",
    "\n",
    "    def _make_ascii(self):\n",
    "        rank = self.name\n",
    "        suit = self.suit_symbol\n",
    "        if self.name == '10':\n",
    "            space=''\n",
    "        else:\n",
    "            space = ' '\n",
    "\n",
    "        tabs = \"\\t\"\n",
    "        ## Ascii Card adapted from: https://codereview.stackexchange.com/questions/82103/ascii-fication-of-playing-cards\n",
    "        # add the individual card on a line by line basis\n",
    "        _ascii=[]\n",
    "        _ascii.append('┌─────────┐')\n",
    "        _ascii.append(f'│{rank}{space}       │')#.format(rank, space))  # use two {} one for char, one for space or char\n",
    "        _ascii.append('│         │')\n",
    "        _ascii.append('│         │')\n",
    "        _ascii.append(f'│    {suit}   │') #.format(suit))\n",
    "        _ascii.append('│         │')\n",
    "        _ascii.append('│         │')\n",
    "        _ascii.append(f'│       {space}{rank}│')#.format(space, rank))\n",
    "        _ascii.append('└─────────┘')\n",
    "        return '\\n'.join(_ascii)\n",
    "\n",
    "    def __init__(self, name, suit):\n",
    "        # Extracting information from name and suit that are relevant.\n",
    "        name = str(name)\n",
    "        input_suit = suit.upper()\n",
    "        value_dct = {\n",
    "            '2': 2,'3': 3, '4': 4, '5': 5, '6': 6,\n",
    "            '7': 7, '8': 8, '9': 9, '10': 10,\n",
    "            'J': 11,'Q': 12, 'K': 13, 'A': 14\n",
    "            }\n",
    "        suit_lookup = {'S':'Spades',\n",
    "                'C':'Clubs',\n",
    "                'D':'Diamonds',\n",
    "                'H':\"Hearts\"}\n",
    "\n",
    "        symbols = {'S':'♠️','C':'♣️','D':'♦️','H':'♥️'}\n",
    "        \n",
    "        if suit not in suit_lookup.keys():\n",
    "            raise Exception('Suit must be one of {}'.format(suit.keys()))\n",
    "\n",
    "        if str(name) not in value_dct.keys():\n",
    "            raise Exception('name must be one of {}'.format(value_dct.keys()))\n",
    "        else:\n",
    "            ## Setting attributes\n",
    "            self.name = name\n",
    "            self.value = value_dct[name]\n",
    "            self.suit = suit_lookup[input_suit]\n",
    "            self.suit_symbol = symbols[input_suit]\n",
    "            self.color = 'Black' if input_suit in ('S', 'C') else 'Red'\n",
    "\n",
    "\n",
    "            try:\n",
    "                # Get image to display\n",
    "                url=None#'https://i.pinimg.com/originals/10/80/a4/1080a4bd1a33cec92019fab5efb3995d.png'\n",
    "                img = Image.open(requests.get(url, stream=True).raw)\n",
    "                self.back = img.resize((100,150))\n",
    "                # self.face = f\"{self.name} of {self.symbols[input_suit]}\"\n",
    "                self.face = self._make_ascii()\n",
    "            except Exception as e:\n",
    "#                 print(e)\n",
    "                # print(input_suit)\n",
    "                img = Image.open(\"card_back.png\")\n",
    "                self.back = img.resize((100,150))\n",
    "                self.face = self._make_ascii()\n",
    "\n",
    "    \n",
    "    def __str__(self):\n",
    "        display(self.back)\n",
    "        return ''#self._make_ascii() #'A Card (__str__)'\n",
    "    \n",
    "    def __repr__(self):\n",
    "        \n",
    "        display(self.back)\n",
    "        return ''\n",
    "        \n",
    "    def flip(self):\n",
    "        print(self.face)\n",
    "        return None#self.face #f'{self.name} of {self.suit}'\n",
    "\n",
    "    def __gt__(self,other):\n",
    "        return self.value > other.value\n",
    "\n",
    "    def __lt__(self,other):\n",
    "        return self.value < other.value"
   ]
  },
  {
   "cell_type": "code",
   "execution_count": null,
   "metadata": {
    "ExecuteTime": {
     "end_time": "2021-04-22T21:24:49.446511Z",
     "start_time": "2021-04-22T21:24:49.421424Z"
    }
   },
   "outputs": [],
   "source": [
    "card =  PlayingCard('10', 'H')\n",
    "print(card)\n",
    "card.flip()"
   ]
  },
  {
   "cell_type": "code",
   "execution_count": null,
   "metadata": {
    "ExecuteTime": {
     "end_time": "2021-04-22T21:24:49.880353Z",
     "start_time": "2021-04-22T21:24:49.862070Z"
    }
   },
   "outputs": [],
   "source": [
    "# Create one!\n",
    "card1 = PlayingCard('10', 'H')\n",
    "card1.flip()"
   ]
  },
  {
   "cell_type": "code",
   "execution_count": null,
   "metadata": {
    "ExecuteTime": {
     "end_time": "2021-04-22T21:24:50.090387Z",
     "start_time": "2021-04-22T21:24:50.070150Z"
    }
   },
   "outputs": [],
   "source": [
    "# Create one!\n",
    "card2 = PlayingCard('A', 'S')\n",
    "card2.flip()"
   ]
  },
  {
   "cell_type": "code",
   "execution_count": null,
   "metadata": {
    "ExecuteTime": {
     "end_time": "2021-04-22T21:24:50.216005Z",
     "start_time": "2021-04-22T21:24:50.211850Z"
    }
   },
   "outputs": [],
   "source": [
    "card1 < card2"
   ]
  },
  {
   "cell_type": "markdown",
   "metadata": {},
   "source": [
    "# BOOKMARK"
   ]
  },
  {
   "cell_type": "markdown",
   "metadata": {},
   "source": [
    "## Overview - Whats in a Deck?"
   ]
  },
  {
   "cell_type": "markdown",
   "metadata": {},
   "source": [
    "## Deck\n",
    "\n",
    "***A Deck***\n",
    "- \"a collection of Cards\"\n",
    "- can be shuffled"
   ]
  },
  {
   "cell_type": "code",
   "execution_count": null,
   "metadata": {},
   "outputs": [],
   "source": []
  },
  {
   "cell_type": "code",
   "execution_count": null,
   "metadata": {},
   "outputs": [],
   "source": []
  },
  {
   "cell_type": "markdown",
   "metadata": {},
   "source": [
    "### Final Deck class"
   ]
  },
  {
   "cell_type": "code",
   "execution_count": null,
   "metadata": {
    "ExecuteTime": {
     "end_time": "2021-04-22T21:24:51.882206Z",
     "start_time": "2021-04-22T21:24:51.876975Z"
    }
   },
   "outputs": [],
   "source": [
    "import numpy as np\n",
    "class Deck:\n",
    "    \n",
    "    cards = []\n",
    "    def __init__(self,shuffle=True):\n",
    "        \n",
    "        cards_to_make = [str(i) for i in range(2,11)]\n",
    "        cards_to_make.extend(['A','K','Q','J'])\n",
    "        deck = []\n",
    "        for value in cards_to_make:\n",
    "            for suit in ['H','S','C','D']:\n",
    "                deck.append(PlayingCard(value,suit))\n",
    "        self.cards = deck\n",
    "        self.n = 0\n",
    "\n",
    "        if shuffle==True:\n",
    "            self.shuffle()\n",
    "    \n",
    "    def shuffle(self):\n",
    "        np.random.shuffle(self.cards)\n",
    "\n",
    "    def __str__(self):\n",
    "        return f\"There are {len(self.cards)} cards in the deck.\"\n",
    "\n",
    "    def __repr__(self):\n",
    "        return self.__str__()\n",
    "    \n",
    "    ###__iter__ and __next___ code adapted from:\n",
    "    ## source: https://www.programiz.com/python-programming/iterator\n",
    "#     def __iter__(self):\n",
    "#         self.n = 0\n",
    "#         return self\n",
    "\n",
    "#     def __next__(self):\n",
    "#         if self.n < len(self.cards):\n",
    "#             # result = 2 ** self.n\n",
    "#             result = self.cards[self.n]\n",
    "#             self.n += 1\n",
    "#             return result\n",
    "#         else:\n",
    "#             raise StopIteration\n",
    "\n",
    "    def __getitem__(self, index):\n",
    "        return self.cards[index]\n"
   ]
  },
  {
   "cell_type": "code",
   "execution_count": null,
   "metadata": {},
   "outputs": [],
   "source": []
  },
  {
   "cell_type": "code",
   "execution_count": null,
   "metadata": {
    "ExecuteTime": {
     "end_time": "2021-04-22T21:24:53.324582Z",
     "start_time": "2021-04-22T21:24:52.649746Z"
    }
   },
   "outputs": [],
   "source": [
    "# impo\n",
    "deck = Deck()\n",
    "deck"
   ]
  },
  {
   "cell_type": "code",
   "execution_count": null,
   "metadata": {},
   "outputs": [],
   "source": []
  },
  {
   "cell_type": "code",
   "execution_count": null,
   "metadata": {
    "ExecuteTime": {
     "end_time": "2021-04-22T21:24:54.483178Z",
     "start_time": "2021-04-22T21:24:54.472748Z"
    }
   },
   "outputs": [],
   "source": [
    "deck.cards[0]"
   ]
  },
  {
   "cell_type": "code",
   "execution_count": null,
   "metadata": {
    "ExecuteTime": {
     "end_time": "2021-04-22T21:24:55.692923Z",
     "start_time": "2021-04-22T21:24:55.683127Z"
    }
   },
   "outputs": [],
   "source": [
    "deck[0]"
   ]
  },
  {
   "cell_type": "code",
   "execution_count": null,
   "metadata": {
    "ExecuteTime": {
     "end_time": "2021-04-22T21:24:56.293454Z",
     "start_time": "2021-04-22T21:24:56.290775Z"
    }
   },
   "outputs": [],
   "source": [
    "deck[0].flip()"
   ]
  },
  {
   "cell_type": "code",
   "execution_count": null,
   "metadata": {
    "ExecuteTime": {
     "end_time": "2021-04-22T21:24:59.073383Z",
     "start_time": "2021-04-22T21:24:59.069027Z"
    }
   },
   "outputs": [],
   "source": [
    "for card in deck:\n",
    "    card.flip()"
   ]
  },
  {
   "cell_type": "code",
   "execution_count": null,
   "metadata": {
    "ExecuteTime": {
     "end_time": "2021-04-22T21:25:44.929174Z",
     "start_time": "2021-04-22T21:25:44.925965Z"
    }
   },
   "outputs": [],
   "source": [
    "display(deck)\n",
    "# [card.flip() for card in deck.cards];"
   ]
  },
  {
   "cell_type": "code",
   "execution_count": null,
   "metadata": {
    "ExecuteTime": {
     "end_time": "2021-04-22T21:24:01.902494Z",
     "start_time": "2021-04-22T21:24:01.512356Z"
    }
   },
   "outputs": [],
   "source": [
    "list(deck)"
   ]
  },
  {
   "cell_type": "markdown",
   "metadata": {},
   "source": [
    "# Nice!\n",
    "\n",
    "## To recap, we:\n",
    "\n",
    "1. Built a Card object using `class`.\n",
    "    - Used `__init__(self)` to set attributes and run processes when the object is created.\n",
    "    - Created a method `flip(self)` which \"flips the card over\" (shows the name and suit).\n",
    "    - Experimented with `__str__` and `__repr__`.\n",
    "\n",
    "  \n",
    "2. Built a Deck object that uses `Cards`!\n",
    "    - Decks can `shuffle` and `shuffle_and_deal`.\n",
    "    \n",
    "---\n",
    "\n",
    "There are some points which we missed for the sake of drawing up the example.\n",
    "\n",
    "- We could clean up the Card functions for deciding what to do if a user tries to create a Card without a real `name` or `suit`.\n",
    "\n",
    "- We also don't have a plan for what happens if the Deck uses `shuffle_and_deal` but doesn't have enough cards left!"
   ]
  },
  {
   "cell_type": "markdown",
   "metadata": {
    "heading_collapsed": true
   },
   "source": [
    "# APPENDIX"
   ]
  },
  {
   "cell_type": "code",
   "execution_count": null,
   "metadata": {
    "hidden": true
   },
   "outputs": [],
   "source": []
  },
  {
   "cell_type": "markdown",
   "metadata": {
    "hidden": true
   },
   "source": [
    "## Old Activity: Construct a Timer Class"
   ]
  },
  {
   "cell_type": "code",
   "execution_count": null,
   "metadata": {
    "ExecuteTime": {
     "end_time": "2021-04-22T21:28:32.477941Z",
     "start_time": "2021-04-22T21:28:29.897148Z"
    },
    "hidden": true
   },
   "outputs": [],
   "source": [
    "import tzlocal\n",
    "import datetime as dt\n",
    "tzlocal.get_localzone()"
   ]
  },
  {
   "cell_type": "code",
   "execution_count": null,
   "metadata": {
    "ExecuteTime": {
     "end_time": "2021-04-22T21:28:32.487424Z",
     "start_time": "2021-04-22T21:28:32.482182Z"
    },
    "hidden": true
   },
   "outputs": [],
   "source": [
    "dt.datetime.now()"
   ]
  },
  {
   "cell_type": "code",
   "execution_count": null,
   "metadata": {
    "ExecuteTime": {
     "end_time": "2021-04-22T21:28:32.496362Z",
     "start_time": "2021-04-22T21:28:32.492095Z"
    },
    "hidden": true
   },
   "outputs": [],
   "source": [
    "print(dt.datetime.now().strftime('%m/%d/%Y - %I:%M:%S %p'))"
   ]
  },
  {
   "cell_type": "code",
   "execution_count": null,
   "metadata": {
    "ExecuteTime": {
     "end_time": "2021-04-22T21:28:49.694443Z",
     "start_time": "2021-04-22T21:28:46.436172Z"
    },
    "hidden": true
   },
   "outputs": [],
   "source": [
    "from fsds.imports import *\n",
    "fs.quick_refs.ts_date_str_formatting()"
   ]
  },
  {
   "cell_type": "code",
   "execution_count": null,
   "metadata": {
    "ExecuteTime": {
     "end_time": "2021-04-22T21:28:52.346534Z",
     "start_time": "2021-04-22T21:28:52.339795Z"
    },
    "hidden": true
   },
   "outputs": [],
   "source": [
    "class Timer:\n",
    "    \n",
    "    def __init__(self,fmt='%m/%d/%Y - %I:%M:%S %p',start=True,label=''):\n",
    "        import tzlocal\n",
    "        import datetime as dt\n",
    "        self._tz = tzlocal.get_localzone()\n",
    "        self._fmt = fmt\n",
    "        \n",
    "        if start:\n",
    "            self.start()\n",
    "        \n",
    "        \n",
    "    def _get_time(self):\n",
    "        import datetime as dt\n",
    "        return dt.datetime.now(tz=self._tz)\n",
    "\n",
    "        \n",
    "        \n",
    "    def start(self,label=''):\n",
    "        self._start = self._get_time()\n",
    "        print(f'[i] Timer started at {self._start.strftime(self._fmt)}')\n",
    "\n",
    "    def stop(self,label=''):\n",
    "        self._stop = self._get_time()\n",
    "        elapsed = self._stop - self._start\n",
    "        \n",
    "        print(f'[i] Timer stopped at {self._stop.strftime(self._fmt)}')\n",
    "        print(f\"\\t- The process {label} took {elapsed}.\")\n",
    "\n",
    "    def __call__(self):\n",
    "        print(self._get_time())\n",
    "        \n",
    "    \n"
   ]
  },
  {
   "cell_type": "code",
   "execution_count": null,
   "metadata": {
    "ExecuteTime": {
     "end_time": "2021-04-22T21:28:52.491411Z",
     "start_time": "2021-04-22T21:28:52.487385Z"
    },
    "hidden": true
   },
   "outputs": [],
   "source": [
    "timer = Timer()"
   ]
  },
  {
   "cell_type": "code",
   "execution_count": null,
   "metadata": {
    "ExecuteTime": {
     "end_time": "2021-04-22T21:29:14.546729Z",
     "start_time": "2021-04-22T21:29:14.542994Z"
    },
    "hidden": true
   },
   "outputs": [],
   "source": [
    "timer()"
   ]
  },
  {
   "cell_type": "code",
   "execution_count": null,
   "metadata": {
    "ExecuteTime": {
     "end_time": "2021-04-22T21:28:54.502878Z",
     "start_time": "2021-04-22T21:28:54.498044Z"
    },
    "hidden": true
   },
   "outputs": [],
   "source": [
    "timer.start()\n",
    "# timer._start"
   ]
  },
  {
   "cell_type": "code",
   "execution_count": null,
   "metadata": {
    "ExecuteTime": {
     "end_time": "2021-04-22T21:28:56.400534Z",
     "start_time": "2021-04-22T21:28:56.396595Z"
    },
    "hidden": true
   },
   "outputs": [],
   "source": [
    "# dir(timer)\n",
    "timer.start()#'Testing this thing')"
   ]
  },
  {
   "cell_type": "code",
   "execution_count": null,
   "metadata": {
    "ExecuteTime": {
     "end_time": "2021-04-22T21:28:58.192223Z",
     "start_time": "2021-04-22T21:28:58.188326Z"
    },
    "hidden": true
   },
   "outputs": [],
   "source": [
    "timer.stop()#@'Testing this other thing')"
   ]
  },
  {
   "cell_type": "code",
   "execution_count": null,
   "metadata": {
    "ExecuteTime": {
     "end_time": "2021-04-22T21:28:59.582873Z",
     "start_time": "2021-04-22T21:28:59.579230Z"
    },
    "hidden": true
   },
   "outputs": [],
   "source": [
    "timer()"
   ]
  },
  {
   "cell_type": "markdown",
   "metadata": {
    "ExecuteTime": {
     "end_time": "2020-08-12T22:54:45.944849Z",
     "start_time": "2020-08-12T22:54:45.942801Z"
    },
    "hidden": true
   },
   "source": [
    "### Running the Model with the Timer"
   ]
  },
  {
   "cell_type": "code",
   "execution_count": null,
   "metadata": {
    "ExecuteTime": {
     "end_time": "2021-04-22T21:28:26.987985Z",
     "start_time": "2021-04-22T21:28:24.922626Z"
    },
    "hidden": true
   },
   "outputs": [],
   "source": [
    "from sklearn.model_selection import train_test_split"
   ]
  },
  {
   "cell_type": "code",
   "execution_count": null,
   "metadata": {
    "ExecuteTime": {
     "end_time": "2021-04-22T21:28:27.616618Z",
     "start_time": "2021-04-22T21:28:26.990447Z"
    },
    "hidden": true
   },
   "outputs": [],
   "source": [
    "target='Recidivism - Return to Prison'\n",
    "y = df[target].copy()\n",
    "X = df.drop(target,axis=1).copy()\n",
    "\n",
    "X_train, X_test,y_train,y_test = train_test_split(X,y)"
   ]
  },
  {
   "cell_type": "code",
   "execution_count": null,
   "metadata": {
    "ExecuteTime": {
     "end_time": "2020-08-12T23:53:01.774924Z",
     "start_time": "2020-08-12T23:53:01.685693Z"
    },
    "hidden": true
   },
   "outputs": [],
   "source": [
    "from sklearn.tree import DecisionTreeClassifier\n",
    "from sklearn.ensemble import RandomForestClassifier \n",
    "from sklearn.model_selection import GridSearchCV\n",
    "from sklearn.metrics import accuracy_score\n",
    "import warnings\n",
    "warnings.filterwarnings('ignore')"
   ]
  },
  {
   "cell_type": "code",
   "execution_count": null,
   "metadata": {
    "ExecuteTime": {
     "end_time": "2020-08-12T23:53:13.996538Z",
     "start_time": "2020-08-12T23:53:01.805883Z"
    },
    "hidden": true,
    "scrolled": false
   },
   "outputs": [],
   "source": [
    "tree = RandomForestClassifier()\n",
    "\n",
    "\n",
    "params = {'max_depth':[0,4,6,10,20]}\n",
    "grid = GridSearchCV(tree,params)\n",
    "\n",
    "timer =Timer(start=True)#,label='Training Decision Tree Classifier')\n",
    "\n",
    "grid.fit(X_train, y_train)\n",
    "\n",
    "y_hat_test = grid.predict(X_test)\n",
    "acc = accuracy_score(y_test,y_hat_test)\n",
    "timer.stop()#f'- Training complete. Accuracy = {acc}')\n",
    "acc"
   ]
  },
  {
   "cell_type": "code",
   "execution_count": null,
   "metadata": {
    "ExecuteTime": {
     "end_time": "2020-08-12T23:56:25.271815Z",
     "start_time": "2020-08-12T23:56:25.265639Z"
    },
    "hidden": true,
    "scrolled": false
   },
   "outputs": [],
   "source": [
    "help(GridSearchCV)"
   ]
  },
  {
   "cell_type": "code",
   "execution_count": null,
   "metadata": {
    "ExecuteTime": {
     "end_time": "2020-08-12T23:56:14.825614Z",
     "start_time": "2020-08-12T23:56:14.818654Z"
    },
    "hidden": true
   },
   "outputs": [],
   "source": [
    "help(tree)"
   ]
  },
  {
   "cell_type": "code",
   "execution_count": null,
   "metadata": {
    "ExecuteTime": {
     "end_time": "2020-08-12T23:54:34.636386Z",
     "start_time": "2020-08-12T23:54:34.633051Z"
    },
    "hidden": true
   },
   "outputs": [],
   "source": [
    "grid.best_score_"
   ]
  },
  {
   "cell_type": "markdown",
   "metadata": {
    "hidden": true
   },
   "source": [
    "## Dictionaries & Dictionary Methods"
   ]
  },
  {
   "cell_type": "markdown",
   "metadata": {
    "hidden": true
   },
   "source": [
    "- Iterating throught a dict:\n",
    "    - `dict.items()`\n",
    "    - `dict.keys()`\n",
    "    - `dict.values()`\n",
    "    - `**dict` vs `*dict`\n",
    "\n",
    "- Retrieving Value:\n",
    "    - `dict.get(k)` vs `dict[k]`\n",
    "\n",
    "- Removing / Extracting Entries\n",
    "    - `dict.pop(k)` vs `del dict[k]`\n",
    "    - `dict.clear()`\n",
    "    \n",
    "- Merging Dictionaries:\n",
    "    - `d1.update(d2)`\n",
    "        - for every (k,v) in d2\"\n",
    "            - if k is NOT in d1, insert (k,v) into d1\n",
    "            - if k IS in d1, updates value of k in d1\n",
    "    - Use `**` operator:\n",
    "        - `combined_d = {**d1,**d2}`\n",
    "    \n",
    "- Updating Dictionaries\n",
    "    - `d1.update(key1=new_value1,new_key2=new_value2)`\n",
    "\n",
    "- Setting Dictionary Values\n",
    "    - `dict[k] = 5`\n",
    "    - `dict.setdefault(k,5)`\n"
   ]
  },
  {
   "cell_type": "markdown",
   "metadata": {
    "hidden": true
   },
   "source": []
  },
  {
   "cell_type": "markdown",
   "metadata": {
    "hidden": true
   },
   "source": [
    "## Decorators with Classes\n",
    "#### Some special decorators used in classes.\n",
    "\n",
    "1. `@staticmethod`:\n",
    "    - Defines a method that does not get passed `self` when its called and can act on external code as if it was a function, not a \"`bound method`\"\n",
    "2. `@classmethod`:\n",
    "    - Specifies a method that should always refer to the default method spelled out in the class definition, NOT the version of it that is stored inside the **instance** of a method.\n",
    "3. `@property`: (see example class `EncryptedPassword` below.)\n",
    "    - Specifies that a function is going to determine the value of the `class.property`:\n",
    "    - Essentially replaces the property name with a getter function to determine that value.\n",
    "    - Use '@property.setter' above another function to define it as the setter function. "
   ]
  },
  {
   "cell_type": "markdown",
   "metadata": {
    "hidden": true
   },
   "source": [
    "### Vocab (completed)"
   ]
  },
  {
   "cell_type": "markdown",
   "metadata": {
    "hidden": true
   },
   "source": [
    "- \"Object\" is an instance of a template class that currently exists in memory\n",
    "- \"Calling\" a function: \n",
    "    - When we use `( )` with a function we are calling it.\n",
    "\n",
    "- **Function:**  Codes that maniuplates data in a useful way. \n",
    "\n",
    "- Parameters: the defined data/varaibles that are passed accepted by a function\n",
    "- Argument: the actual variable/value passed in for a parameter\n",
    "- Positional Argument:\n",
    "    - The first arguments required\n",
    "    - their id is determined by their order\n",
    "- Keyword/default Arguments:\n",
    "    - arugments that have a defined default value\n",
    "    - must come after positional arguments\n",
    "\n",
    "<br><br>\n",
    "- **Class:** Template/blue print.\n",
    "- Instance: Ab object built from the class blueprint\n",
    "- Attribute: A variable stored inside an object. \n",
    "- Method: Functions are stored inside an object.\n",
    "    - Objects always pass themselves into a method, so we used `self` to account for this.\n",
    "- Private Attributes/Methods: they start with _ and are hidden from the user. They can be updated using getting and setting functions.\n",
    "- Getters/Setters:\n",
    "    - Methods for retreiving or changing private attributes\n",
    "\n",
    "- Object: \n",
    "\n",
    "- \"dunders\" = double underscores __ "
   ]
  },
  {
   "cell_type": "markdown",
   "metadata": {
    "hidden": true
   },
   "source": [
    "## Completed Timer"
   ]
  },
  {
   "cell_type": "code",
   "execution_count": null,
   "metadata": {
    "ExecuteTime": {
     "end_time": "2020-08-12T22:55:52.036434Z",
     "start_time": "2020-08-12T22:55:52.031311Z"
    },
    "hidden": true
   },
   "outputs": [],
   "source": [
    "class Car():\n",
    "    \"\"\"Automotive object\"\"\"\n",
    "    ## Attributes\n",
    "    moving = False\n",
    "\n",
    "    ## Methods\n",
    "    def __init__(self,wheels=4,doors=4):\n",
    "        self.wheels = wheels\n",
    "        self.doors = doors\n",
    "    \n",
    "    \n",
    "    def go(self):                   # These are methods we can call on *any* car.\n",
    "        print('It\\'s going!')\n",
    "        self.moving = True\n",
    "    \n",
    "    def stop(self):\n",
    "        print('Stopped.')\n",
    "        self.moving = False\n",
    "        \n",
    "    def __repr__(self):\n",
    "        info = [f\"- Wheels: {self.wheels}\"]\n",
    "        info.append(f\"- Doors: {self.doors}\")\n",
    "        info.append(f\"- Moving?: {self.moving}\")\n",
    "        return '\\n'.join(info)\n",
    "    \n",
    "    def __str__(self):\n",
    "        return f\"\"\"- This car has {self.wheels} wheels, {self.doors} doors, and moving = {self.moving}\"\"\""
   ]
  },
  {
   "cell_type": "code",
   "execution_count": null,
   "metadata": {
    "hidden": true
   },
   "outputs": [],
   "source": []
  }
 ],
 "metadata": {
  "kernelspec": {
   "display_name": "learn-env-new",
   "language": "python",
   "name": "learn-env-new"
  },
  "language_info": {
   "codemirror_mode": {
    "name": "ipython",
    "version": 3
   },
   "file_extension": ".py",
   "mimetype": "text/x-python",
   "name": "python",
   "nbconvert_exporter": "python",
   "pygments_lexer": "ipython3",
   "version": "3.8.5"
  },
  "toc": {
   "base_numbering": 1,
   "nav_menu": {},
   "number_sections": false,
   "sideBar": true,
   "skip_h1_title": false,
   "title_cell": "Table of Contents",
   "title_sidebar": "Contents",
   "toc_cell": false,
   "toc_position": {
    "height": "calc(100% - 180px)",
    "left": "10px",
    "top": "150px",
    "width": "256px"
   },
   "toc_section_display": true,
   "toc_window_display": false
  }
 },
 "nbformat": 4,
 "nbformat_minor": 2
}

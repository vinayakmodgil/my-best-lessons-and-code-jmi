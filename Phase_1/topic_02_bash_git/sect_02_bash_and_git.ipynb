{
 "cells": [
  {
   "cell_type": "markdown",
   "metadata": {},
   "source": [
    "# Sect 02:  Bash and Git"
   ]
  },
  {
   "cell_type": "markdown",
   "metadata": {},
   "source": [
    "- online-dtsc-pt-041320\n",
    "- 04/22/20"
   ]
  },
  {
   "cell_type": "markdown",
   "metadata": {},
   "source": [
    "## Questions?"
   ]
  },
  {
   "cell_type": "markdown",
   "metadata": {},
   "source": [
    "- Where changes show up on GitHub?\n",
    "    - Default page == README.md\n",
    "    - We can't change the page at startup\n",
    "    \n",
    "- `git push`\n",
    "- branches?\n",
    "- is `|` == `>>`\n",
    "\n"
   ]
  },
  {
   "cell_type": "markdown",
   "metadata": {},
   "source": [
    "## Learning Objectives"
   ]
  },
  {
   "cell_type": "markdown",
   "metadata": {},
   "source": [
    "    \n",
    "- **Version Control/git/GitHub**\n",
    "    - Learn about what version control is and how git works.\n",
    "    - Review the workflow you will generally be following whenever working with labs.\n",
    "    \n",
    "    \n",
    "- **Bash/Terminal**:\n",
    "    - Learn about bash commands and your terminal\n",
    "    - Bonus: Learn how to customize your bash terminal and build-in some super powers to your terminal.\n",
    "    \n",
    "\n",
    "    \n",
    "- **Bonus Q: Can we only work with git using our terminals?**\n",
    "    - A: No, but employers will expect you to be familiar with the git terminal commands, so once you have those down...\n",
    "        - [GitHub Desktop](https://desktop.github.com/)\n",
    "        "
   ]
  },
  {
   "cell_type": "markdown",
   "metadata": {},
   "source": [
    "# Basic Bash"
   ]
  },
  {
   "cell_type": "markdown",
   "metadata": {},
   "source": [
    "- [25 Top Bash Commands Cheat Sheet/Blog Post](https://www.educative.io/blog/bash-shell-command-cheat-sheet)\n",
    "> \"Bash\" - The name is an acronym for the ‘Bourne-Again SHell’, a pun on Stephen Bourne, the author of the direct ancestor of the current Unix shell sh, which appeared in the Seventh Edition Bell Labs Research version of Unix. - [Bash Reference Manual](https://www.gnu.org/software/bash/manual/bash.html#What-is-Bash_003f)"
   ]
  },
  {
   "cell_type": "markdown",
   "metadata": {},
   "source": [
    "### Common Bash Commands"
   ]
  },
  {
   "cell_type": "markdown",
   "metadata": {},
   "source": [
    "- `cd`: change directory\n",
    "- `pwd`:print working directory\n",
    "- `ls`: lists all files and folders\n",
    "- `echo`: prints to terminal OR to a file `>> file.txt`\n",
    "- `touch`: creates a new file\n",
    "- `mkdir`: Makes a new folder\n",
    "- `mv`: moves file "
   ]
  },
  {
   "cell_type": "markdown",
   "metadata": {},
   "source": [
    "### Different Programs can run commands"
   ]
  },
  {
   "cell_type": "markdown",
   "metadata": {},
   "source": [
    "- `conda` \n",
    "- `python`\n",
    "- `pip`"
   ]
  },
  {
   "cell_type": "markdown",
   "metadata": {},
   "source": [
    "# Version Control"
   ]
  },
  {
   "cell_type": "markdown",
   "metadata": {},
   "source": [
    "## Q: Why do you think version control is important? Can you think of a use case?"
   ]
  },
  {
   "cell_type": "markdown",
   "metadata": {},
   "source": [
    "> ***How many of you have seen a folder like this?***\n",
    "\n",
    "![link example](https://smac-group.github.io/ds/images/bad-version-control.png)"
   ]
  },
  {
   "cell_type": "markdown",
   "metadata": {},
   "source": [
    "- What's wrong with it?\n",
    "\n",
    "\n",
    "- What are you trying to do here?\n",
    "\n",
    "\n",
    "- does it make sense to anyone else that's not you?\n",
    "\n",
    "\n",
    "- be honest, how many of you have DONE this?"
   ]
  },
  {
   "cell_type": "markdown",
   "metadata": {},
   "source": [
    "## Git is Super Common"
   ]
  },
  {
   "cell_type": "markdown",
   "metadata": {},
   "source": [
    "<img src='https://imgs.xkcd.com/comics/git.png'/>"
   ]
  },
  {
   "cell_type": "markdown",
   "metadata": {},
   "source": [
    "# GitHub Workflow"
   ]
  },
  {
   "cell_type": "markdown",
   "metadata": {},
   "source": [
    "## Resources"
   ]
  },
  {
   "cell_type": "markdown",
   "metadata": {},
   "source": [
    "- [Git Cheat Sheet from our Resources Folder](https://drive.google.com/drive/u/0/folders/1IOfGYFFDxWO7Zv8o4WOx0rHIYdyd8fXk)"
   ]
  },
  {
   "cell_type": "markdown",
   "metadata": {},
   "source": [
    "## Working with GitHub "
   ]
  },
  {
   "cell_type": "markdown",
   "metadata": {},
   "source": [
    "<img src=\"http://ironboard-curriculum-content.s3.amazonaws.com/front-end/lab-assets/git-workflow-1.png\" width=80%>\n",
    "\n",
    "<!---<img src='https://res.cloudinary.com/practicaldev/image/fetch/s--Si7ksd-d--/c_limit%2Cf_auto%2Cfl_progressive%2Cq_auto%2Cw_880/https://cdn-images-1.medium.com/max/800/1%2AdiRLm1S5hkVoh5qeArND0Q.png'/>\n",
    "\n",
    "> Source: https://dev.to/sublimegeek/git-staging-area-explained-like-im-five-1anh--->\n"
   ]
  },
  {
   "cell_type": "markdown",
   "metadata": {},
   "source": [
    "## The Basic Git Workflow for Labs"
   ]
  },
  {
   "cell_type": "markdown",
   "metadata": {},
   "source": [
    "1. Fork the lesson/lab that you want to work on locally.\n",
    "    - Copy the URL from your forked repo.\n",
    "    \n",
    "    \n",
    "2. In your terminal, `cd` into the folder where you store your repos.\n",
    "3. Type `git clone` into your terminal and then paste the URL from your forked repo.\n",
    "    - `git clone url_from_github`\n",
    "    \n",
    "    \n",
    "4. cd into the repo's folder.\n",
    "    - `cd dsc-the-name-of-the-repo-you-cloned`\n",
    "    \n",
    "    \n",
    "5. Launch Jupyter Notebook and work on the lab.\n",
    "\n",
    "6. Once completed, in your terminal from the same folder as your repo:\n",
    "    - `git add .`  - this adds all of the files in the folder to the tracked files.\n",
    "    - `git commit -m \"Lab completed.` Will save a snapshot of your files and add the message \"Lab completed\" as your commit message.\n",
    "    - `git push` will push your local changes to your GitHub account.\n",
    "   \n",
    "    \n",
    "    "
   ]
  },
  {
   "cell_type": "markdown",
   "metadata": {},
   "source": [
    "### Walk-through \n",
    "- Let's go through these steps with an upcoming lab. \n",
    "    - https://learn.co/tracks/module-1-data-science-career-2-1/intro-to-data-with-python-and-sql/section-03-control-flow-functions-and-statistics/using-nested-loops-lab\n",
    "\n",
    "- Additional things to demo:\n",
    "    - [ ] `git status`\n",
    "    - [ ] Making changes on GitHub.com and `git pull`\n",
    "    - [ ] Commit messages on GitHub.com "
   ]
  },
  {
   "cell_type": "markdown",
   "metadata": {},
   "source": [
    "## Other GitHub commands"
   ]
  },
  {
   "cell_type": "markdown",
   "metadata": {},
   "source": [
    "- `git status`: what is staged? working directory?\n",
    "- `git diff`: differences between commits or working directory\n",
    "- `git log`: all the changes\n",
    "- `git fetch`: Check for changes to the GitHub repo\n",
    "- `git pull`: Check for changes AND download the changed files."
   ]
  },
  {
   "cell_type": "markdown",
   "metadata": {},
   "source": [
    "### To make a new repo locally"
   ]
  },
  {
   "cell_type": "markdown",
   "metadata": {},
   "source": [
    "- To create a new repo from inside a folder on your computer, in your terminal type `git init`.\n",
    "```bash\n",
    "git init\n",
    "git add .\n",
    "git commit -m \"First commit\"\n",
    "```"
   ]
  },
  {
   "cell_type": "markdown",
   "metadata": {},
   "source": [
    "- Syncing up with GitHub:\n",
    "    - Create a New repo on GitHub.com and copy the repo's URL\n",
    "    - In your terminal, from inside your repo folder: (note replace the_url_for_the_repo with your actual url)\n",
    "```bash\n",
    "git remote add origin the_url_for_the_repo\n",
    "git push\n",
    "```"
   ]
  },
  {
   "cell_type": "markdown",
   "metadata": {},
   "source": [
    "# Collaborating with Git: Branches"
   ]
  },
  {
   "cell_type": "markdown",
   "metadata": {},
   "source": [
    "<img src='https://www.atlassian.com/dam/jcr:746be214-eb99-462c-9319-04a4d2eeebfa/01.svg' width=80%/>\n",
    "\n",
    "> https://www.atlassian.com/git/tutorials/using-branches"
   ]
  },
  {
   "cell_type": "markdown",
   "metadata": {},
   "source": [
    "<!---see the branches\n",
    "```\n",
    "git log --graph --decorate --oneline\n",
    "```\n",
    "--->\n",
    "```\n",
    "git branch\n",
    "```\n",
    "\n",
    "```\n",
    "git checkout -b branch_name\n",
    "```"
   ]
  },
  {
   "cell_type": "markdown",
   "metadata": {},
   "source": [
    "## Merges"
   ]
  },
  {
   "cell_type": "markdown",
   "metadata": {},
   "source": [
    "`git merge other_branch`: Merges the **other_branch** into your current branch you're on "
   ]
  },
  {
   "cell_type": "markdown",
   "metadata": {},
   "source": [
    "<img src='https://www.atlassian.com/dam/jcr:91b1bdf5-fda3-4d20-b108-0bb9eea402b2/08.svg' width=80%/>\n",
    "\n",
    "> https://www.atlassian.com/git/tutorials/using-branches/git-merge\n",
    "\n",
    "#### When There's Conflict\n",
    "\n",
    "https://www.atlassian.com/git/tutorials/using-branches/merge-conflicts"
   ]
  },
  {
   "cell_type": "markdown",
   "metadata": {},
   "source": [
    "# Bash (Bonus)"
   ]
  },
  {
   "cell_type": "markdown",
   "metadata": {},
   "source": [
    "## Hacking Your Terminal AKA Giving Your Terminal Super Powers"
   ]
  },
  {
   "cell_type": "markdown",
   "metadata": {},
   "source": [
    "- When you set up your environment, you created a file called `~/.bash_profile`\n",
    "\n",
    "    - `~/` = your user folder (e.g: C:Users/jamesirving/)\n",
    "    - `.bash_profile` is a hidden file with no real name. Its only an extension. \n",
    "    \n",
    "    \n",
    "- Note to MacOS: Catalina Users\n",
    "    - Catalina changed the default shell from bash to `.zsh`. \n",
    "    - You will want to edit a file called `~/.zshrc` instead of `.bash_profile`"
   ]
  },
  {
   "cell_type": "markdown",
   "metadata": {},
   "source": [
    "### Q1: I can't see this file in my user folder. Why not?"
   ]
  },
  {
   "cell_type": "markdown",
   "metadata": {},
   "source": [
    "- You will need to make sure your Finder/Windows Explorer is showing hidden files.\n",
    "- On a Mac, inside Finder press `Cmd+Shift+.` to reveal hidden files.\n",
    "- On Windows, inside Windows Explorer go \n",
    "    - Select View > Options > Change folder and search options.\n",
    "    - Select the View tab and, in Advanced settings\n",
    "    - select Show hidden files, folders, and drives and OK.\n",
    "    "
   ]
  },
  {
   "cell_type": "markdown",
   "metadata": {},
   "source": [
    "### Inside your `.bash_profile`:\n"
   ]
  },
  {
   "cell_type": "markdown",
   "metadata": {},
   "source": [
    "- Find your .bash_profile file inside your User folder and open it with a text editor (recommend SublimeText3 for tasks like this, but any editor works).\n",
    "\n",
    "\n",
    "- Inside your `.bash_profile` you should see something like the following\n",
    "\n",
    "```shell\n",
    "# added by Anaconda3 2019.07 installer\n",
    "# >>> conda init >>>\n",
    "# !! Contents within this block are managed by 'conda init' !!\n",
    "__conda_setup=\"$(CONDA_REPORT_ERRORS=false '/anaconda3/bin/conda' shell.bash hook 2> /dev/null)\"\n",
    "if [ $? -eq 0 ]; then\n",
    "    \\eval \"$__conda_setup\"\n",
    "else\n",
    "    if [ -f \"/anaconda3/etc/profile.d/conda.sh\" ]; then\n",
    "# . \"/anaconda3/etc/profile.d/conda.sh\"  # commented out by conda initialize\n",
    "        CONDA_CHANGEPS1=false conda activate base\n",
    "    else\n",
    "        \\export PATH=\"/anaconda3/bin:$PATH\"\n",
    "    fi\n",
    "fi\n",
    "unset __conda_setup\n",
    "# <<< conda init <<<\n",
    "```"
   ]
  },
  {
   "cell_type": "markdown",
   "metadata": {},
   "source": [
    "- This was added by Anaconda and is what teaches your terminal about `conda` commands and your Python installation.\n",
    "- The lessons also had you run a command to set your default enviroment:\n",
    "     - For Mac: `echo \"conda activate learn-env\" >> ~/.bash_profile` \n",
    "     - For Windows `echo \"source activate learn-env\" >> ~/.bash_profile` \n",
    "     \n",
    "- This added the `conda activate learn-env` command to your terminal's profile so that it runs automatically every time you start a new terminal.\n",
    "\n",
    "- We can add other commands to our profile as well..."
   ]
  },
  {
   "cell_type": "markdown",
   "metadata": {
    "heading_collapsed": true
   },
   "source": [
    "# Appendix"
   ]
  },
  {
   "cell_type": "markdown",
   "metadata": {
    "hidden": true
   },
   "source": [
    "## Resources from Lessons"
   ]
  },
  {
   "cell_type": "markdown",
   "metadata": {
    "hidden": true
   },
   "source": [
    "#### Git and Markdown Resources\n",
    "\n",
    "* Git Basics ([Gist of Git resources](https://gist.github.com/aviflombaum/0d1c335291350a2e4036))\n",
    "  - [Getting Started 1](http://git-scm.com/book/en/Getting-Started-A-Short-History-of-Git)\n",
    "  - [Getting Started 2](http://git-scm.com/book/en/Getting-Started-About-Version-Control)\n",
    "  - [Git Basics 1](http://git-scm.com/book/en/Git-Basics-Recording-Changes-to-the-Repository)\n",
    "  - [Viewing The Commit History](http://git-scm.com/book/en/Git-Basics-Viewing-the-Commit-History)\n",
    "  - [Remotes](http://git-scm.com/book/en/Git-Basics-Working-with-Remotes)\n",
    "  - [Git Kitchen](http://bloggytoons.com/posts/2013/10/10/git-kitchen-wchef-ramsay)\n",
    "  - [Branches](http://git-scm.com/book/en/Git-Branching-What-a-Branch-Is)\n",
    "  - [Merging](http://git-scm.com/book/en/Git-Branching-Basic-Branching-and-Merging)\n",
    "  - [Branch Management](http://git-scm.com/book/en/Git-Branching-Branch-Management)\n",
    "  - [Workflows](http://git-scm.com/book/en/Git-Branching-Branching-Workflows)\n",
    "  - Additional Resources\n",
    "    - [Git Guide](http://rogerdudler.github.io/git-guide/)\n",
    "    - [Git Branching](http://pcottle.github.io/learnGitBranching/)\n",
    "    - [Visual Git](http://marklodato.github.io/visual-git-guide/index-en.html)\n",
    "    - [Public Private Key Video](http://www.youtube.com/watch?v=3QnD2c4Xovk&feature=plcp)\n",
    "* Markdown\n",
    "  - [GitHub Flavored Markdown](http://github.github.com/github-flavored-markdown)\n",
    "  - [Daring Fireball MD Basics](http://daringfireball.net/projects/markdown/basics)\n",
    "  - [Daring Fireball MD Syntax](http://daringfireball.net/projects/markdown/syntax)\n",
    "  - [Byword MultiMarkdown Guide](http://bywordapp.com/markdown/guide.html)\n",
    "  * Markdown plugins and apps\n",
    "    - [Sublime MD Preview Plugin](https://github.com/revolunet/sublimetext-markdown-preview)\n",
    "    - [Mou MD writer app](http://mouapp.com/)\n",
    "    - [Atom text editor](https://atom.io) has a markdown preview built in.\n"
   ]
  },
  {
   "cell_type": "code",
   "execution_count": null,
   "metadata": {
    "hidden": true
   },
   "outputs": [],
   "source": []
  }
 ],
 "metadata": {
  "kernelspec": {
   "display_name": "learn-env",
   "language": "python",
   "name": "learn-env"
  },
  "language_info": {
   "codemirror_mode": {
    "name": "ipython",
    "version": 3
   },
   "file_extension": ".py",
   "mimetype": "text/x-python",
   "name": "python",
   "nbconvert_exporter": "python",
   "pygments_lexer": "ipython3",
   "version": "3.6.9"
  },
  "toc": {
   "base_numbering": 1,
   "nav_menu": {
    "height": "221px",
    "width": "470px"
   },
   "number_sections": true,
   "sideBar": true,
   "skip_h1_title": false,
   "title_cell": "Table of Contents",
   "title_sidebar": "Contents",
   "toc_cell": false,
   "toc_position": {
    "height": "calc(100% - 180px)",
    "left": "10px",
    "top": "150px",
    "width": "256px"
   },
   "toc_section_display": true,
   "toc_window_display": true
  },
  "varInspector": {
   "cols": {
    "lenName": 16,
    "lenType": 16,
    "lenVar": 40
   },
   "kernels_config": {
    "python": {
     "delete_cmd_postfix": "",
     "delete_cmd_prefix": "del ",
     "library": "var_list.py",
     "varRefreshCmd": "print(var_dic_list())"
    },
    "r": {
     "delete_cmd_postfix": ") ",
     "delete_cmd_prefix": "rm(",
     "library": "var_list.r",
     "varRefreshCmd": "cat(var_dic_list()) "
    }
   },
   "types_to_exclude": [
    "module",
    "function",
    "builtin_function_or_method",
    "instance",
    "_Feature"
   ],
   "window_display": false
  }
 },
 "nbformat": 4,
 "nbformat_minor": 2
}

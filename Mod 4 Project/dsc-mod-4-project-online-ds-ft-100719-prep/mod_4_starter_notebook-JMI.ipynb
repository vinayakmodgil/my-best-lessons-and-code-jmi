{
 "cells": [
  {
   "cell_type": "markdown",
   "metadata": {},
   "source": [
    "# Mod 4 Project - Starter Notebook\n",
    "\n",
    "This notebook has been provided to you so that you can make use of the following starter code to help with the trickier parts of preprocessing the Zillow dataset. \n",
    "\n",
    "The notebook contains a rough outline the general order you'll likely want to take in this project. You'll notice that most of the areas are left blank. This is so that it's more obvious exactly when you should make use of the starter code provided for preprocessing. \n",
    "\n",
    "**_NOTE:_** The number of empty cells are not meant to infer how much or how little code should be involved in any given step--we've just provided a few for your convenience. Add, delete, and change things around in this notebook as needed!\n",
    "\n",
    "# Some Notes Before Starting\n",
    "\n",
    "This project will be one of the more challenging projects you complete in this program. This is because working with Time Series data is a bit different than working with regular datasets. In order to make this a bit less frustrating and help you understand what you need to do (and when you need to do it), we'll quickly review the dataset formats that you'll encounter in this project. \n",
    "\n",
    "## Wide Format vs Long Format\n",
    "\n",
    "If you take a look at the format of the data in `zillow_data.csv`, you'll notice that the actual Time Series values are stored as separate columns. Here's a sample: \n",
    "\n",
    "<img src='~/../images/df_head.png'>\n",
    "\n",
    "You'll notice that the first seven columns look like any other dataset you're used to working with. However, column 8 refers to the median housing sales values for April 1996, column 9 for May 1996, and so on. This This is called **_Wide Format_**, and it makes the dataframe intuitive and easy to read. However, there are problems with this format when it comes to actually learning from the data, because the data only makes sense if you know the name of the column that the data can be found it. Since column names are metadata, our algorithms will miss out on what dates each value is for. This means that before we pass this data to our ARIMA model, we'll need to reshape our dataset to **_Long Format_**. Reshaped into long format, the dataframe above would now look like:\n",
    "\n",
    "<img src='~/../images/melted1.png'>\n",
    "\n",
    "There are now many more rows in this dataset--one for each unique time and zipcode combination in the data! Once our dataset is in this format, we'll be able to train an ARIMA model on it. The method used to convert from Wide to Long is `pd.melt()`, and it is common to refer to our dataset as 'melted' after the transition to denote that it is in long format. \n",
    "\n",
    "# Helper Functions Provided\n",
    "\n",
    "Melting a dataset can be tricky if you've never done it before, so you'll see that we have provided a sample function, `melt_data()`, to help you with this step below. Also provided is:\n",
    "\n",
    "* `get_datetimes()`, a function to deal with converting the column values for datetimes as a pandas series of datetime objects\n",
    "* Some good parameters for matplotlib to help make your visualizations more readable. \n",
    "\n",
    "Good luck!\n",
    "\n",
    "\n",
    "# Step 1: Load the Data/Filtering for Chosen Zipcodes"
   ]
  },
  {
   "cell_type": "code",
   "execution_count": 30,
   "metadata": {
    "ExecuteTime": {
     "end_time": "2019-12-30T21:17:09.324927Z",
     "start_time": "2019-12-30T21:17:09.322217Z"
    },
    "code_folding": []
   },
   "outputs": [],
   "source": [
    "# def melt_data(df): # BAD PROVIDED FUNCTION\n",
    "#     melted = pd.melt(df, id_vars=['RegionName', 'City', 'State', 'Metro', 'CountyName'], var_name='time')\n",
    "#     melted['time'] = pd.to_datetime(melted['time'], infer_datetime_format=True)\n",
    "#     melted = melted.dropna(subset=['value'])\n",
    "#     return melted.groupby('time').aggregate({'value':'mean'})\n",
    "\n",
    "# melt_df = melt_data(df)"
   ]
  },
  {
   "cell_type": "code",
   "execution_count": 31,
   "metadata": {
    "ExecuteTime": {
     "end_time": "2019-12-30T21:17:09.335067Z",
     "start_time": "2019-12-30T21:17:09.331211Z"
    }
   },
   "outputs": [],
   "source": [
    "# !pip install -U fsds_100719\n",
    "from fsds_100719.imports import *\n",
    "from plotly import express as px\n",
    "import plotly.graph_objects as go"
   ]
  },
  {
   "cell_type": "markdown",
   "metadata": {},
   "source": [
    "## Workflow Thoughts\n",
    "\n",
    "1. Start analysis in a state-by-state fashion. \n",
    "    - Groupby state and get groups\n",
    "2. Model each state independently\n",
    "    - start with NY\n",
    "    \n",
    "    - Start with zipcode 12211 (home in ny)\n",
    "\n",
    "3. Train Test Split DF\n",
    "    - Time Block Class for Model Validation? \n",
    "    - Split train/test by integer index based on `len(data)//test_size`\n",
    "    \n",
    "4. Perform seasonal decompositon\n",
    "    - Try both decomposed residuals as well as raw time series (change `stationarity=True` if running resid\n",
    "\n",
    "5. Check for stationarity\n",
    "\n",
    "6. pmdarima\n",
    "    \n",
    "\n"
   ]
  },
  {
   "cell_type": "code",
   "execution_count": 32,
   "metadata": {
    "ExecuteTime": {
     "end_time": "2019-12-30T21:17:11.857746Z",
     "start_time": "2019-12-30T21:17:09.342978Z"
    }
   },
   "outputs": [
    {
     "data": {
      "text/html": [
       "<style  type=\"text/css\" >\n",
       "</style><table id=\"T_bd689e80_2b49_11ea_9253_acde48001122\" ><caption>Original DataFrame</caption><thead>    <tr>        <th class=\"blank level0\" ></th>        <th class=\"col_heading level0 col0\" >RegionID</th>        <th class=\"col_heading level0 col1\" >RegionName</th>        <th class=\"col_heading level0 col2\" >City</th>        <th class=\"col_heading level0 col3\" >State</th>        <th class=\"col_heading level0 col4\" >Metro</th>        <th class=\"col_heading level0 col5\" >CountyName</th>        <th class=\"col_heading level0 col6\" >SizeRank</th>        <th class=\"col_heading level0 col7\" >1996-04</th>        <th class=\"col_heading level0 col8\" >1996-05</th>        <th class=\"col_heading level0 col9\" >1996-06</th>        <th class=\"col_heading level0 col10\" >1996-07</th>        <th class=\"col_heading level0 col11\" >1996-08</th>        <th class=\"col_heading level0 col12\" >1996-09</th>        <th class=\"col_heading level0 col13\" >1996-10</th>        <th class=\"col_heading level0 col14\" >1996-11</th>        <th class=\"col_heading level0 col15\" >1996-12</th>        <th class=\"col_heading level0 col16\" >1997-01</th>        <th class=\"col_heading level0 col17\" >1997-02</th>        <th class=\"col_heading level0 col18\" >1997-03</th>        <th class=\"col_heading level0 col19\" >1997-04</th>        <th class=\"col_heading level0 col20\" >1997-05</th>        <th class=\"col_heading level0 col21\" >1997-06</th>        <th class=\"col_heading level0 col22\" >1997-07</th>        <th class=\"col_heading level0 col23\" >1997-08</th>        <th class=\"col_heading level0 col24\" >1997-09</th>        <th class=\"col_heading level0 col25\" >1997-10</th>        <th class=\"col_heading level0 col26\" >1997-11</th>        <th class=\"col_heading level0 col27\" >1997-12</th>        <th class=\"col_heading level0 col28\" >1998-01</th>        <th class=\"col_heading level0 col29\" >1998-02</th>        <th class=\"col_heading level0 col30\" >1998-03</th>        <th class=\"col_heading level0 col31\" >1998-04</th>        <th class=\"col_heading level0 col32\" >1998-05</th>        <th class=\"col_heading level0 col33\" >1998-06</th>        <th class=\"col_heading level0 col34\" >1998-07</th>        <th class=\"col_heading level0 col35\" >1998-08</th>        <th class=\"col_heading level0 col36\" >1998-09</th>        <th class=\"col_heading level0 col37\" >1998-10</th>        <th class=\"col_heading level0 col38\" >1998-11</th>        <th class=\"col_heading level0 col39\" >1998-12</th>        <th class=\"col_heading level0 col40\" >1999-01</th>        <th class=\"col_heading level0 col41\" >1999-02</th>        <th class=\"col_heading level0 col42\" >1999-03</th>        <th class=\"col_heading level0 col43\" >1999-04</th>        <th class=\"col_heading level0 col44\" >1999-05</th>        <th class=\"col_heading level0 col45\" >1999-06</th>        <th class=\"col_heading level0 col46\" >1999-07</th>        <th class=\"col_heading level0 col47\" >1999-08</th>        <th class=\"col_heading level0 col48\" >1999-09</th>        <th class=\"col_heading level0 col49\" >1999-10</th>        <th class=\"col_heading level0 col50\" >1999-11</th>        <th class=\"col_heading level0 col51\" >1999-12</th>        <th class=\"col_heading level0 col52\" >2000-01</th>        <th class=\"col_heading level0 col53\" >2000-02</th>        <th class=\"col_heading level0 col54\" >2000-03</th>        <th class=\"col_heading level0 col55\" >2000-04</th>        <th class=\"col_heading level0 col56\" >2000-05</th>        <th class=\"col_heading level0 col57\" >2000-06</th>        <th class=\"col_heading level0 col58\" >2000-07</th>        <th class=\"col_heading level0 col59\" >2000-08</th>        <th class=\"col_heading level0 col60\" >2000-09</th>        <th class=\"col_heading level0 col61\" >2000-10</th>        <th class=\"col_heading level0 col62\" >2000-11</th>        <th class=\"col_heading level0 col63\" >2000-12</th>        <th class=\"col_heading level0 col64\" >2001-01</th>        <th class=\"col_heading level0 col65\" >2001-02</th>        <th class=\"col_heading level0 col66\" >2001-03</th>        <th class=\"col_heading level0 col67\" >2001-04</th>        <th class=\"col_heading level0 col68\" >2001-05</th>        <th class=\"col_heading level0 col69\" >2001-06</th>        <th class=\"col_heading level0 col70\" >2001-07</th>        <th class=\"col_heading level0 col71\" >2001-08</th>        <th class=\"col_heading level0 col72\" >2001-09</th>        <th class=\"col_heading level0 col73\" >2001-10</th>        <th class=\"col_heading level0 col74\" >2001-11</th>        <th class=\"col_heading level0 col75\" >2001-12</th>        <th class=\"col_heading level0 col76\" >2002-01</th>        <th class=\"col_heading level0 col77\" >2002-02</th>        <th class=\"col_heading level0 col78\" >2002-03</th>        <th class=\"col_heading level0 col79\" >2002-04</th>        <th class=\"col_heading level0 col80\" >2002-05</th>        <th class=\"col_heading level0 col81\" >2002-06</th>        <th class=\"col_heading level0 col82\" >2002-07</th>        <th class=\"col_heading level0 col83\" >2002-08</th>        <th class=\"col_heading level0 col84\" >2002-09</th>        <th class=\"col_heading level0 col85\" >2002-10</th>        <th class=\"col_heading level0 col86\" >2002-11</th>        <th class=\"col_heading level0 col87\" >2002-12</th>        <th class=\"col_heading level0 col88\" >2003-01</th>        <th class=\"col_heading level0 col89\" >2003-02</th>        <th class=\"col_heading level0 col90\" >2003-03</th>        <th class=\"col_heading level0 col91\" >2003-04</th>        <th class=\"col_heading level0 col92\" >2003-05</th>        <th class=\"col_heading level0 col93\" >2003-06</th>        <th class=\"col_heading level0 col94\" >2003-07</th>        <th class=\"col_heading level0 col95\" >2003-08</th>        <th class=\"col_heading level0 col96\" >2003-09</th>        <th class=\"col_heading level0 col97\" >2003-10</th>        <th class=\"col_heading level0 col98\" >2003-11</th>        <th class=\"col_heading level0 col99\" >2003-12</th>        <th class=\"col_heading level0 col100\" >2004-01</th>        <th class=\"col_heading level0 col101\" >2004-02</th>        <th class=\"col_heading level0 col102\" >2004-03</th>        <th class=\"col_heading level0 col103\" >2004-04</th>        <th class=\"col_heading level0 col104\" >2004-05</th>        <th class=\"col_heading level0 col105\" >2004-06</th>        <th class=\"col_heading level0 col106\" >2004-07</th>        <th class=\"col_heading level0 col107\" >2004-08</th>        <th class=\"col_heading level0 col108\" >2004-09</th>        <th class=\"col_heading level0 col109\" >2004-10</th>        <th class=\"col_heading level0 col110\" >2004-11</th>        <th class=\"col_heading level0 col111\" >2004-12</th>        <th class=\"col_heading level0 col112\" >2005-01</th>        <th class=\"col_heading level0 col113\" >2005-02</th>        <th class=\"col_heading level0 col114\" >2005-03</th>        <th class=\"col_heading level0 col115\" >2005-04</th>        <th class=\"col_heading level0 col116\" >2005-05</th>        <th class=\"col_heading level0 col117\" >2005-06</th>        <th class=\"col_heading level0 col118\" >2005-07</th>        <th class=\"col_heading level0 col119\" >2005-08</th>        <th class=\"col_heading level0 col120\" >2005-09</th>        <th class=\"col_heading level0 col121\" >2005-10</th>        <th class=\"col_heading level0 col122\" >2005-11</th>        <th class=\"col_heading level0 col123\" >2005-12</th>        <th class=\"col_heading level0 col124\" >2006-01</th>        <th class=\"col_heading level0 col125\" >2006-02</th>        <th class=\"col_heading level0 col126\" >2006-03</th>        <th class=\"col_heading level0 col127\" >2006-04</th>        <th class=\"col_heading level0 col128\" >2006-05</th>        <th class=\"col_heading level0 col129\" >2006-06</th>        <th class=\"col_heading level0 col130\" >2006-07</th>        <th class=\"col_heading level0 col131\" >2006-08</th>        <th class=\"col_heading level0 col132\" >2006-09</th>        <th class=\"col_heading level0 col133\" >2006-10</th>        <th class=\"col_heading level0 col134\" >2006-11</th>        <th class=\"col_heading level0 col135\" >2006-12</th>        <th class=\"col_heading level0 col136\" >2007-01</th>        <th class=\"col_heading level0 col137\" >2007-02</th>        <th class=\"col_heading level0 col138\" >2007-03</th>        <th class=\"col_heading level0 col139\" >2007-04</th>        <th class=\"col_heading level0 col140\" >2007-05</th>        <th class=\"col_heading level0 col141\" >2007-06</th>        <th class=\"col_heading level0 col142\" >2007-07</th>        <th class=\"col_heading level0 col143\" >2007-08</th>        <th class=\"col_heading level0 col144\" >2007-09</th>        <th class=\"col_heading level0 col145\" >2007-10</th>        <th class=\"col_heading level0 col146\" >2007-11</th>        <th class=\"col_heading level0 col147\" >2007-12</th>        <th class=\"col_heading level0 col148\" >2008-01</th>        <th class=\"col_heading level0 col149\" >2008-02</th>        <th class=\"col_heading level0 col150\" >2008-03</th>        <th class=\"col_heading level0 col151\" >2008-04</th>        <th class=\"col_heading level0 col152\" >2008-05</th>        <th class=\"col_heading level0 col153\" >2008-06</th>        <th class=\"col_heading level0 col154\" >2008-07</th>        <th class=\"col_heading level0 col155\" >2008-08</th>        <th class=\"col_heading level0 col156\" >2008-09</th>        <th class=\"col_heading level0 col157\" >2008-10</th>        <th class=\"col_heading level0 col158\" >2008-11</th>        <th class=\"col_heading level0 col159\" >2008-12</th>        <th class=\"col_heading level0 col160\" >2009-01</th>        <th class=\"col_heading level0 col161\" >2009-02</th>        <th class=\"col_heading level0 col162\" >2009-03</th>        <th class=\"col_heading level0 col163\" >2009-04</th>        <th class=\"col_heading level0 col164\" >2009-05</th>        <th class=\"col_heading level0 col165\" >2009-06</th>        <th class=\"col_heading level0 col166\" >2009-07</th>        <th class=\"col_heading level0 col167\" >2009-08</th>        <th class=\"col_heading level0 col168\" >2009-09</th>        <th class=\"col_heading level0 col169\" >2009-10</th>        <th class=\"col_heading level0 col170\" >2009-11</th>        <th class=\"col_heading level0 col171\" >2009-12</th>        <th class=\"col_heading level0 col172\" >2010-01</th>        <th class=\"col_heading level0 col173\" >2010-02</th>        <th class=\"col_heading level0 col174\" >2010-03</th>        <th class=\"col_heading level0 col175\" >2010-04</th>        <th class=\"col_heading level0 col176\" >2010-05</th>        <th class=\"col_heading level0 col177\" >2010-06</th>        <th class=\"col_heading level0 col178\" >2010-07</th>        <th class=\"col_heading level0 col179\" >2010-08</th>        <th class=\"col_heading level0 col180\" >2010-09</th>        <th class=\"col_heading level0 col181\" >2010-10</th>        <th class=\"col_heading level0 col182\" >2010-11</th>        <th class=\"col_heading level0 col183\" >2010-12</th>        <th class=\"col_heading level0 col184\" >2011-01</th>        <th class=\"col_heading level0 col185\" >2011-02</th>        <th class=\"col_heading level0 col186\" >2011-03</th>        <th class=\"col_heading level0 col187\" >2011-04</th>        <th class=\"col_heading level0 col188\" >2011-05</th>        <th class=\"col_heading level0 col189\" >2011-06</th>        <th class=\"col_heading level0 col190\" >2011-07</th>        <th class=\"col_heading level0 col191\" >2011-08</th>        <th class=\"col_heading level0 col192\" >2011-09</th>        <th class=\"col_heading level0 col193\" >2011-10</th>        <th class=\"col_heading level0 col194\" >2011-11</th>        <th class=\"col_heading level0 col195\" >2011-12</th>        <th class=\"col_heading level0 col196\" >2012-01</th>        <th class=\"col_heading level0 col197\" >2012-02</th>        <th class=\"col_heading level0 col198\" >2012-03</th>        <th class=\"col_heading level0 col199\" >2012-04</th>        <th class=\"col_heading level0 col200\" >2012-05</th>        <th class=\"col_heading level0 col201\" >2012-06</th>        <th class=\"col_heading level0 col202\" >2012-07</th>        <th class=\"col_heading level0 col203\" >2012-08</th>        <th class=\"col_heading level0 col204\" >2012-09</th>        <th class=\"col_heading level0 col205\" >2012-10</th>        <th class=\"col_heading level0 col206\" >2012-11</th>        <th class=\"col_heading level0 col207\" >2012-12</th>        <th class=\"col_heading level0 col208\" >2013-01</th>        <th class=\"col_heading level0 col209\" >2013-02</th>        <th class=\"col_heading level0 col210\" >2013-03</th>        <th class=\"col_heading level0 col211\" >2013-04</th>        <th class=\"col_heading level0 col212\" >2013-05</th>        <th class=\"col_heading level0 col213\" >2013-06</th>        <th class=\"col_heading level0 col214\" >2013-07</th>        <th class=\"col_heading level0 col215\" >2013-08</th>        <th class=\"col_heading level0 col216\" >2013-09</th>        <th class=\"col_heading level0 col217\" >2013-10</th>        <th class=\"col_heading level0 col218\" >2013-11</th>        <th class=\"col_heading level0 col219\" >2013-12</th>        <th class=\"col_heading level0 col220\" >2014-01</th>        <th class=\"col_heading level0 col221\" >2014-02</th>        <th class=\"col_heading level0 col222\" >2014-03</th>        <th class=\"col_heading level0 col223\" >2014-04</th>        <th class=\"col_heading level0 col224\" >2014-05</th>        <th class=\"col_heading level0 col225\" >2014-06</th>        <th class=\"col_heading level0 col226\" >2014-07</th>        <th class=\"col_heading level0 col227\" >2014-08</th>        <th class=\"col_heading level0 col228\" >2014-09</th>        <th class=\"col_heading level0 col229\" >2014-10</th>        <th class=\"col_heading level0 col230\" >2014-11</th>        <th class=\"col_heading level0 col231\" >2014-12</th>        <th class=\"col_heading level0 col232\" >2015-01</th>        <th class=\"col_heading level0 col233\" >2015-02</th>        <th class=\"col_heading level0 col234\" >2015-03</th>        <th class=\"col_heading level0 col235\" >2015-04</th>        <th class=\"col_heading level0 col236\" >2015-05</th>        <th class=\"col_heading level0 col237\" >2015-06</th>        <th class=\"col_heading level0 col238\" >2015-07</th>        <th class=\"col_heading level0 col239\" >2015-08</th>        <th class=\"col_heading level0 col240\" >2015-09</th>        <th class=\"col_heading level0 col241\" >2015-10</th>        <th class=\"col_heading level0 col242\" >2015-11</th>        <th class=\"col_heading level0 col243\" >2015-12</th>        <th class=\"col_heading level0 col244\" >2016-01</th>        <th class=\"col_heading level0 col245\" >2016-02</th>        <th class=\"col_heading level0 col246\" >2016-03</th>        <th class=\"col_heading level0 col247\" >2016-04</th>        <th class=\"col_heading level0 col248\" >2016-05</th>        <th class=\"col_heading level0 col249\" >2016-06</th>        <th class=\"col_heading level0 col250\" >2016-07</th>        <th class=\"col_heading level0 col251\" >2016-08</th>        <th class=\"col_heading level0 col252\" >2016-09</th>        <th class=\"col_heading level0 col253\" >2016-10</th>        <th class=\"col_heading level0 col254\" >2016-11</th>        <th class=\"col_heading level0 col255\" >2016-12</th>        <th class=\"col_heading level0 col256\" >2017-01</th>        <th class=\"col_heading level0 col257\" >2017-02</th>        <th class=\"col_heading level0 col258\" >2017-03</th>        <th class=\"col_heading level0 col259\" >2017-04</th>        <th class=\"col_heading level0 col260\" >2017-05</th>        <th class=\"col_heading level0 col261\" >2017-06</th>        <th class=\"col_heading level0 col262\" >2017-07</th>        <th class=\"col_heading level0 col263\" >2017-08</th>        <th class=\"col_heading level0 col264\" >2017-09</th>        <th class=\"col_heading level0 col265\" >2017-10</th>        <th class=\"col_heading level0 col266\" >2017-11</th>        <th class=\"col_heading level0 col267\" >2017-12</th>        <th class=\"col_heading level0 col268\" >2018-01</th>        <th class=\"col_heading level0 col269\" >2018-02</th>        <th class=\"col_heading level0 col270\" >2018-03</th>        <th class=\"col_heading level0 col271\" >2018-04</th>    </tr></thead><tbody>\n",
       "                <tr>\n",
       "                        <th id=\"T_bd689e80_2b49_11ea_9253_acde48001122level0_row0\" class=\"row_heading level0 row0\" >0</th>\n",
       "                        <td id=\"T_bd689e80_2b49_11ea_9253_acde48001122row0_col0\" class=\"data row0 col0\" >84654</td>\n",
       "                        <td id=\"T_bd689e80_2b49_11ea_9253_acde48001122row0_col1\" class=\"data row0 col1\" >60657</td>\n",
       "                        <td id=\"T_bd689e80_2b49_11ea_9253_acde48001122row0_col2\" class=\"data row0 col2\" >Chicago</td>\n",
       "                        <td id=\"T_bd689e80_2b49_11ea_9253_acde48001122row0_col3\" class=\"data row0 col3\" >IL</td>\n",
       "                        <td id=\"T_bd689e80_2b49_11ea_9253_acde48001122row0_col4\" class=\"data row0 col4\" >Chicago</td>\n",
       "                        <td id=\"T_bd689e80_2b49_11ea_9253_acde48001122row0_col5\" class=\"data row0 col5\" >Cook</td>\n",
       "                        <td id=\"T_bd689e80_2b49_11ea_9253_acde48001122row0_col6\" class=\"data row0 col6\" >1</td>\n",
       "                        <td id=\"T_bd689e80_2b49_11ea_9253_acde48001122row0_col7\" class=\"data row0 col7\" >334200</td>\n",
       "                        <td id=\"T_bd689e80_2b49_11ea_9253_acde48001122row0_col8\" class=\"data row0 col8\" >335400</td>\n",
       "                        <td id=\"T_bd689e80_2b49_11ea_9253_acde48001122row0_col9\" class=\"data row0 col9\" >336500</td>\n",
       "                        <td id=\"T_bd689e80_2b49_11ea_9253_acde48001122row0_col10\" class=\"data row0 col10\" >337600</td>\n",
       "                        <td id=\"T_bd689e80_2b49_11ea_9253_acde48001122row0_col11\" class=\"data row0 col11\" >338500</td>\n",
       "                        <td id=\"T_bd689e80_2b49_11ea_9253_acde48001122row0_col12\" class=\"data row0 col12\" >339500</td>\n",
       "                        <td id=\"T_bd689e80_2b49_11ea_9253_acde48001122row0_col13\" class=\"data row0 col13\" >340400</td>\n",
       "                        <td id=\"T_bd689e80_2b49_11ea_9253_acde48001122row0_col14\" class=\"data row0 col14\" >341300</td>\n",
       "                        <td id=\"T_bd689e80_2b49_11ea_9253_acde48001122row0_col15\" class=\"data row0 col15\" >342600</td>\n",
       "                        <td id=\"T_bd689e80_2b49_11ea_9253_acde48001122row0_col16\" class=\"data row0 col16\" >344400</td>\n",
       "                        <td id=\"T_bd689e80_2b49_11ea_9253_acde48001122row0_col17\" class=\"data row0 col17\" >345700</td>\n",
       "                        <td id=\"T_bd689e80_2b49_11ea_9253_acde48001122row0_col18\" class=\"data row0 col18\" >346700</td>\n",
       "                        <td id=\"T_bd689e80_2b49_11ea_9253_acde48001122row0_col19\" class=\"data row0 col19\" >347800</td>\n",
       "                        <td id=\"T_bd689e80_2b49_11ea_9253_acde48001122row0_col20\" class=\"data row0 col20\" >349000</td>\n",
       "                        <td id=\"T_bd689e80_2b49_11ea_9253_acde48001122row0_col21\" class=\"data row0 col21\" >350400</td>\n",
       "                        <td id=\"T_bd689e80_2b49_11ea_9253_acde48001122row0_col22\" class=\"data row0 col22\" >352000</td>\n",
       "                        <td id=\"T_bd689e80_2b49_11ea_9253_acde48001122row0_col23\" class=\"data row0 col23\" >353900</td>\n",
       "                        <td id=\"T_bd689e80_2b49_11ea_9253_acde48001122row0_col24\" class=\"data row0 col24\" >356200</td>\n",
       "                        <td id=\"T_bd689e80_2b49_11ea_9253_acde48001122row0_col25\" class=\"data row0 col25\" >358800</td>\n",
       "                        <td id=\"T_bd689e80_2b49_11ea_9253_acde48001122row0_col26\" class=\"data row0 col26\" >361800</td>\n",
       "                        <td id=\"T_bd689e80_2b49_11ea_9253_acde48001122row0_col27\" class=\"data row0 col27\" >365700</td>\n",
       "                        <td id=\"T_bd689e80_2b49_11ea_9253_acde48001122row0_col28\" class=\"data row0 col28\" >370200</td>\n",
       "                        <td id=\"T_bd689e80_2b49_11ea_9253_acde48001122row0_col29\" class=\"data row0 col29\" >374700</td>\n",
       "                        <td id=\"T_bd689e80_2b49_11ea_9253_acde48001122row0_col30\" class=\"data row0 col30\" >378900</td>\n",
       "                        <td id=\"T_bd689e80_2b49_11ea_9253_acde48001122row0_col31\" class=\"data row0 col31\" >383500</td>\n",
       "                        <td id=\"T_bd689e80_2b49_11ea_9253_acde48001122row0_col32\" class=\"data row0 col32\" >388300</td>\n",
       "                        <td id=\"T_bd689e80_2b49_11ea_9253_acde48001122row0_col33\" class=\"data row0 col33\" >393300</td>\n",
       "                        <td id=\"T_bd689e80_2b49_11ea_9253_acde48001122row0_col34\" class=\"data row0 col34\" >398500</td>\n",
       "                        <td id=\"T_bd689e80_2b49_11ea_9253_acde48001122row0_col35\" class=\"data row0 col35\" >403800</td>\n",
       "                        <td id=\"T_bd689e80_2b49_11ea_9253_acde48001122row0_col36\" class=\"data row0 col36\" >409100</td>\n",
       "                        <td id=\"T_bd689e80_2b49_11ea_9253_acde48001122row0_col37\" class=\"data row0 col37\" >414600</td>\n",
       "                        <td id=\"T_bd689e80_2b49_11ea_9253_acde48001122row0_col38\" class=\"data row0 col38\" >420100</td>\n",
       "                        <td id=\"T_bd689e80_2b49_11ea_9253_acde48001122row0_col39\" class=\"data row0 col39\" >426200</td>\n",
       "                        <td id=\"T_bd689e80_2b49_11ea_9253_acde48001122row0_col40\" class=\"data row0 col40\" >432600</td>\n",
       "                        <td id=\"T_bd689e80_2b49_11ea_9253_acde48001122row0_col41\" class=\"data row0 col41\" >438600</td>\n",
       "                        <td id=\"T_bd689e80_2b49_11ea_9253_acde48001122row0_col42\" class=\"data row0 col42\" >444200</td>\n",
       "                        <td id=\"T_bd689e80_2b49_11ea_9253_acde48001122row0_col43\" class=\"data row0 col43\" >450000</td>\n",
       "                        <td id=\"T_bd689e80_2b49_11ea_9253_acde48001122row0_col44\" class=\"data row0 col44\" >455900</td>\n",
       "                        <td id=\"T_bd689e80_2b49_11ea_9253_acde48001122row0_col45\" class=\"data row0 col45\" >462100</td>\n",
       "                        <td id=\"T_bd689e80_2b49_11ea_9253_acde48001122row0_col46\" class=\"data row0 col46\" >468500</td>\n",
       "                        <td id=\"T_bd689e80_2b49_11ea_9253_acde48001122row0_col47\" class=\"data row0 col47\" >475300</td>\n",
       "                        <td id=\"T_bd689e80_2b49_11ea_9253_acde48001122row0_col48\" class=\"data row0 col48\" >482500</td>\n",
       "                        <td id=\"T_bd689e80_2b49_11ea_9253_acde48001122row0_col49\" class=\"data row0 col49\" >490200</td>\n",
       "                        <td id=\"T_bd689e80_2b49_11ea_9253_acde48001122row0_col50\" class=\"data row0 col50\" >498200</td>\n",
       "                        <td id=\"T_bd689e80_2b49_11ea_9253_acde48001122row0_col51\" class=\"data row0 col51\" >507200</td>\n",
       "                        <td id=\"T_bd689e80_2b49_11ea_9253_acde48001122row0_col52\" class=\"data row0 col52\" >516800</td>\n",
       "                        <td id=\"T_bd689e80_2b49_11ea_9253_acde48001122row0_col53\" class=\"data row0 col53\" >526300</td>\n",
       "                        <td id=\"T_bd689e80_2b49_11ea_9253_acde48001122row0_col54\" class=\"data row0 col54\" >535300</td>\n",
       "                        <td id=\"T_bd689e80_2b49_11ea_9253_acde48001122row0_col55\" class=\"data row0 col55\" >544500</td>\n",
       "                        <td id=\"T_bd689e80_2b49_11ea_9253_acde48001122row0_col56\" class=\"data row0 col56\" >553500</td>\n",
       "                        <td id=\"T_bd689e80_2b49_11ea_9253_acde48001122row0_col57\" class=\"data row0 col57\" >562400</td>\n",
       "                        <td id=\"T_bd689e80_2b49_11ea_9253_acde48001122row0_col58\" class=\"data row0 col58\" >571200</td>\n",
       "                        <td id=\"T_bd689e80_2b49_11ea_9253_acde48001122row0_col59\" class=\"data row0 col59\" >579800</td>\n",
       "                        <td id=\"T_bd689e80_2b49_11ea_9253_acde48001122row0_col60\" class=\"data row0 col60\" >588100</td>\n",
       "                        <td id=\"T_bd689e80_2b49_11ea_9253_acde48001122row0_col61\" class=\"data row0 col61\" >596300</td>\n",
       "                        <td id=\"T_bd689e80_2b49_11ea_9253_acde48001122row0_col62\" class=\"data row0 col62\" >604200</td>\n",
       "                        <td id=\"T_bd689e80_2b49_11ea_9253_acde48001122row0_col63\" class=\"data row0 col63\" >612200</td>\n",
       "                        <td id=\"T_bd689e80_2b49_11ea_9253_acde48001122row0_col64\" class=\"data row0 col64\" >620200</td>\n",
       "                        <td id=\"T_bd689e80_2b49_11ea_9253_acde48001122row0_col65\" class=\"data row0 col65\" >627700</td>\n",
       "                        <td id=\"T_bd689e80_2b49_11ea_9253_acde48001122row0_col66\" class=\"data row0 col66\" >634500</td>\n",
       "                        <td id=\"T_bd689e80_2b49_11ea_9253_acde48001122row0_col67\" class=\"data row0 col67\" >641000</td>\n",
       "                        <td id=\"T_bd689e80_2b49_11ea_9253_acde48001122row0_col68\" class=\"data row0 col68\" >647000</td>\n",
       "                        <td id=\"T_bd689e80_2b49_11ea_9253_acde48001122row0_col69\" class=\"data row0 col69\" >652700</td>\n",
       "                        <td id=\"T_bd689e80_2b49_11ea_9253_acde48001122row0_col70\" class=\"data row0 col70\" >658100</td>\n",
       "                        <td id=\"T_bd689e80_2b49_11ea_9253_acde48001122row0_col71\" class=\"data row0 col71\" >663300</td>\n",
       "                        <td id=\"T_bd689e80_2b49_11ea_9253_acde48001122row0_col72\" class=\"data row0 col72\" >668400</td>\n",
       "                        <td id=\"T_bd689e80_2b49_11ea_9253_acde48001122row0_col73\" class=\"data row0 col73\" >673400</td>\n",
       "                        <td id=\"T_bd689e80_2b49_11ea_9253_acde48001122row0_col74\" class=\"data row0 col74\" >678300</td>\n",
       "                        <td id=\"T_bd689e80_2b49_11ea_9253_acde48001122row0_col75\" class=\"data row0 col75\" >683200</td>\n",
       "                        <td id=\"T_bd689e80_2b49_11ea_9253_acde48001122row0_col76\" class=\"data row0 col76\" >688300</td>\n",
       "                        <td id=\"T_bd689e80_2b49_11ea_9253_acde48001122row0_col77\" class=\"data row0 col77\" >693300</td>\n",
       "                        <td id=\"T_bd689e80_2b49_11ea_9253_acde48001122row0_col78\" class=\"data row0 col78\" >698000</td>\n",
       "                        <td id=\"T_bd689e80_2b49_11ea_9253_acde48001122row0_col79\" class=\"data row0 col79\" >702400</td>\n",
       "                        <td id=\"T_bd689e80_2b49_11ea_9253_acde48001122row0_col80\" class=\"data row0 col80\" >706400</td>\n",
       "                        <td id=\"T_bd689e80_2b49_11ea_9253_acde48001122row0_col81\" class=\"data row0 col81\" >710200</td>\n",
       "                        <td id=\"T_bd689e80_2b49_11ea_9253_acde48001122row0_col82\" class=\"data row0 col82\" >714000</td>\n",
       "                        <td id=\"T_bd689e80_2b49_11ea_9253_acde48001122row0_col83\" class=\"data row0 col83\" >717800</td>\n",
       "                        <td id=\"T_bd689e80_2b49_11ea_9253_acde48001122row0_col84\" class=\"data row0 col84\" >721700</td>\n",
       "                        <td id=\"T_bd689e80_2b49_11ea_9253_acde48001122row0_col85\" class=\"data row0 col85\" >725700</td>\n",
       "                        <td id=\"T_bd689e80_2b49_11ea_9253_acde48001122row0_col86\" class=\"data row0 col86\" >729900</td>\n",
       "                        <td id=\"T_bd689e80_2b49_11ea_9253_acde48001122row0_col87\" class=\"data row0 col87\" >733400</td>\n",
       "                        <td id=\"T_bd689e80_2b49_11ea_9253_acde48001122row0_col88\" class=\"data row0 col88\" >735600</td>\n",
       "                        <td id=\"T_bd689e80_2b49_11ea_9253_acde48001122row0_col89\" class=\"data row0 col89\" >737200</td>\n",
       "                        <td id=\"T_bd689e80_2b49_11ea_9253_acde48001122row0_col90\" class=\"data row0 col90\" >739000</td>\n",
       "                        <td id=\"T_bd689e80_2b49_11ea_9253_acde48001122row0_col91\" class=\"data row0 col91\" >740900</td>\n",
       "                        <td id=\"T_bd689e80_2b49_11ea_9253_acde48001122row0_col92\" class=\"data row0 col92\" >742700</td>\n",
       "                        <td id=\"T_bd689e80_2b49_11ea_9253_acde48001122row0_col93\" class=\"data row0 col93\" >744400</td>\n",
       "                        <td id=\"T_bd689e80_2b49_11ea_9253_acde48001122row0_col94\" class=\"data row0 col94\" >746000</td>\n",
       "                        <td id=\"T_bd689e80_2b49_11ea_9253_acde48001122row0_col95\" class=\"data row0 col95\" >747200</td>\n",
       "                        <td id=\"T_bd689e80_2b49_11ea_9253_acde48001122row0_col96\" class=\"data row0 col96\" >748000</td>\n",
       "                        <td id=\"T_bd689e80_2b49_11ea_9253_acde48001122row0_col97\" class=\"data row0 col97\" >749000</td>\n",
       "                        <td id=\"T_bd689e80_2b49_11ea_9253_acde48001122row0_col98\" class=\"data row0 col98\" >750200</td>\n",
       "                        <td id=\"T_bd689e80_2b49_11ea_9253_acde48001122row0_col99\" class=\"data row0 col99\" >752300</td>\n",
       "                        <td id=\"T_bd689e80_2b49_11ea_9253_acde48001122row0_col100\" class=\"data row0 col100\" >755300</td>\n",
       "                        <td id=\"T_bd689e80_2b49_11ea_9253_acde48001122row0_col101\" class=\"data row0 col101\" >759200</td>\n",
       "                        <td id=\"T_bd689e80_2b49_11ea_9253_acde48001122row0_col102\" class=\"data row0 col102\" >764000</td>\n",
       "                        <td id=\"T_bd689e80_2b49_11ea_9253_acde48001122row0_col103\" class=\"data row0 col103\" >769600</td>\n",
       "                        <td id=\"T_bd689e80_2b49_11ea_9253_acde48001122row0_col104\" class=\"data row0 col104\" >775600</td>\n",
       "                        <td id=\"T_bd689e80_2b49_11ea_9253_acde48001122row0_col105\" class=\"data row0 col105\" >781900</td>\n",
       "                        <td id=\"T_bd689e80_2b49_11ea_9253_acde48001122row0_col106\" class=\"data row0 col106\" >787900</td>\n",
       "                        <td id=\"T_bd689e80_2b49_11ea_9253_acde48001122row0_col107\" class=\"data row0 col107\" >793200</td>\n",
       "                        <td id=\"T_bd689e80_2b49_11ea_9253_acde48001122row0_col108\" class=\"data row0 col108\" >798200</td>\n",
       "                        <td id=\"T_bd689e80_2b49_11ea_9253_acde48001122row0_col109\" class=\"data row0 col109\" >803100</td>\n",
       "                        <td id=\"T_bd689e80_2b49_11ea_9253_acde48001122row0_col110\" class=\"data row0 col110\" >807900</td>\n",
       "                        <td id=\"T_bd689e80_2b49_11ea_9253_acde48001122row0_col111\" class=\"data row0 col111\" >812900</td>\n",
       "                        <td id=\"T_bd689e80_2b49_11ea_9253_acde48001122row0_col112\" class=\"data row0 col112\" >818100</td>\n",
       "                        <td id=\"T_bd689e80_2b49_11ea_9253_acde48001122row0_col113\" class=\"data row0 col113\" >823100</td>\n",
       "                        <td id=\"T_bd689e80_2b49_11ea_9253_acde48001122row0_col114\" class=\"data row0 col114\" >828300</td>\n",
       "                        <td id=\"T_bd689e80_2b49_11ea_9253_acde48001122row0_col115\" class=\"data row0 col115\" >834100</td>\n",
       "                        <td id=\"T_bd689e80_2b49_11ea_9253_acde48001122row0_col116\" class=\"data row0 col116\" >839800</td>\n",
       "                        <td id=\"T_bd689e80_2b49_11ea_9253_acde48001122row0_col117\" class=\"data row0 col117\" >845600</td>\n",
       "                        <td id=\"T_bd689e80_2b49_11ea_9253_acde48001122row0_col118\" class=\"data row0 col118\" >851800</td>\n",
       "                        <td id=\"T_bd689e80_2b49_11ea_9253_acde48001122row0_col119\" class=\"data row0 col119\" >858000</td>\n",
       "                        <td id=\"T_bd689e80_2b49_11ea_9253_acde48001122row0_col120\" class=\"data row0 col120\" >864400</td>\n",
       "                        <td id=\"T_bd689e80_2b49_11ea_9253_acde48001122row0_col121\" class=\"data row0 col121\" >870700</td>\n",
       "                        <td id=\"T_bd689e80_2b49_11ea_9253_acde48001122row0_col122\" class=\"data row0 col122\" >876200</td>\n",
       "                        <td id=\"T_bd689e80_2b49_11ea_9253_acde48001122row0_col123\" class=\"data row0 col123\" >880700</td>\n",
       "                        <td id=\"T_bd689e80_2b49_11ea_9253_acde48001122row0_col124\" class=\"data row0 col124\" >884400</td>\n",
       "                        <td id=\"T_bd689e80_2b49_11ea_9253_acde48001122row0_col125\" class=\"data row0 col125\" >887600</td>\n",
       "                        <td id=\"T_bd689e80_2b49_11ea_9253_acde48001122row0_col126\" class=\"data row0 col126\" >890500</td>\n",
       "                        <td id=\"T_bd689e80_2b49_11ea_9253_acde48001122row0_col127\" class=\"data row0 col127\" >893300</td>\n",
       "                        <td id=\"T_bd689e80_2b49_11ea_9253_acde48001122row0_col128\" class=\"data row0 col128\" >895500</td>\n",
       "                        <td id=\"T_bd689e80_2b49_11ea_9253_acde48001122row0_col129\" class=\"data row0 col129\" >897300</td>\n",
       "                        <td id=\"T_bd689e80_2b49_11ea_9253_acde48001122row0_col130\" class=\"data row0 col130\" >899000</td>\n",
       "                        <td id=\"T_bd689e80_2b49_11ea_9253_acde48001122row0_col131\" class=\"data row0 col131\" >900400</td>\n",
       "                        <td id=\"T_bd689e80_2b49_11ea_9253_acde48001122row0_col132\" class=\"data row0 col132\" >902000</td>\n",
       "                        <td id=\"T_bd689e80_2b49_11ea_9253_acde48001122row0_col133\" class=\"data row0 col133\" >904400</td>\n",
       "                        <td id=\"T_bd689e80_2b49_11ea_9253_acde48001122row0_col134\" class=\"data row0 col134\" >907100</td>\n",
       "                        <td id=\"T_bd689e80_2b49_11ea_9253_acde48001122row0_col135\" class=\"data row0 col135\" >909700</td>\n",
       "                        <td id=\"T_bd689e80_2b49_11ea_9253_acde48001122row0_col136\" class=\"data row0 col136\" >911900</td>\n",
       "                        <td id=\"T_bd689e80_2b49_11ea_9253_acde48001122row0_col137\" class=\"data row0 col137\" >913000</td>\n",
       "                        <td id=\"T_bd689e80_2b49_11ea_9253_acde48001122row0_col138\" class=\"data row0 col138\" >913000</td>\n",
       "                        <td id=\"T_bd689e80_2b49_11ea_9253_acde48001122row0_col139\" class=\"data row0 col139\" >912000</td>\n",
       "                        <td id=\"T_bd689e80_2b49_11ea_9253_acde48001122row0_col140\" class=\"data row0 col140\" >909300</td>\n",
       "                        <td id=\"T_bd689e80_2b49_11ea_9253_acde48001122row0_col141\" class=\"data row0 col141\" >905300</td>\n",
       "                        <td id=\"T_bd689e80_2b49_11ea_9253_acde48001122row0_col142\" class=\"data row0 col142\" >901400</td>\n",
       "                        <td id=\"T_bd689e80_2b49_11ea_9253_acde48001122row0_col143\" class=\"data row0 col143\" >897900</td>\n",
       "                        <td id=\"T_bd689e80_2b49_11ea_9253_acde48001122row0_col144\" class=\"data row0 col144\" >895400</td>\n",
       "                        <td id=\"T_bd689e80_2b49_11ea_9253_acde48001122row0_col145\" class=\"data row0 col145\" >893600</td>\n",
       "                        <td id=\"T_bd689e80_2b49_11ea_9253_acde48001122row0_col146\" class=\"data row0 col146\" >891100</td>\n",
       "                        <td id=\"T_bd689e80_2b49_11ea_9253_acde48001122row0_col147\" class=\"data row0 col147\" >887000</td>\n",
       "                        <td id=\"T_bd689e80_2b49_11ea_9253_acde48001122row0_col148\" class=\"data row0 col148\" >881700</td>\n",
       "                        <td id=\"T_bd689e80_2b49_11ea_9253_acde48001122row0_col149\" class=\"data row0 col149\" >875900</td>\n",
       "                        <td id=\"T_bd689e80_2b49_11ea_9253_acde48001122row0_col150\" class=\"data row0 col150\" >870300</td>\n",
       "                        <td id=\"T_bd689e80_2b49_11ea_9253_acde48001122row0_col151\" class=\"data row0 col151\" >865100</td>\n",
       "                        <td id=\"T_bd689e80_2b49_11ea_9253_acde48001122row0_col152\" class=\"data row0 col152\" >859000</td>\n",
       "                        <td id=\"T_bd689e80_2b49_11ea_9253_acde48001122row0_col153\" class=\"data row0 col153\" >851500</td>\n",
       "                        <td id=\"T_bd689e80_2b49_11ea_9253_acde48001122row0_col154\" class=\"data row0 col154\" >843800</td>\n",
       "                        <td id=\"T_bd689e80_2b49_11ea_9253_acde48001122row0_col155\" class=\"data row0 col155\" >836400</td>\n",
       "                        <td id=\"T_bd689e80_2b49_11ea_9253_acde48001122row0_col156\" class=\"data row0 col156\" >830700</td>\n",
       "                        <td id=\"T_bd689e80_2b49_11ea_9253_acde48001122row0_col157\" class=\"data row0 col157\" >827300</td>\n",
       "                        <td id=\"T_bd689e80_2b49_11ea_9253_acde48001122row0_col158\" class=\"data row0 col158\" >824800</td>\n",
       "                        <td id=\"T_bd689e80_2b49_11ea_9253_acde48001122row0_col159\" class=\"data row0 col159\" >821600</td>\n",
       "                        <td id=\"T_bd689e80_2b49_11ea_9253_acde48001122row0_col160\" class=\"data row0 col160\" >818300</td>\n",
       "                        <td id=\"T_bd689e80_2b49_11ea_9253_acde48001122row0_col161\" class=\"data row0 col161\" >814600</td>\n",
       "                        <td id=\"T_bd689e80_2b49_11ea_9253_acde48001122row0_col162\" class=\"data row0 col162\" >809800</td>\n",
       "                        <td id=\"T_bd689e80_2b49_11ea_9253_acde48001122row0_col163\" class=\"data row0 col163\" >803600</td>\n",
       "                        <td id=\"T_bd689e80_2b49_11ea_9253_acde48001122row0_col164\" class=\"data row0 col164\" >795500</td>\n",
       "                        <td id=\"T_bd689e80_2b49_11ea_9253_acde48001122row0_col165\" class=\"data row0 col165\" >786900</td>\n",
       "                        <td id=\"T_bd689e80_2b49_11ea_9253_acde48001122row0_col166\" class=\"data row0 col166\" >780700</td>\n",
       "                        <td id=\"T_bd689e80_2b49_11ea_9253_acde48001122row0_col167\" class=\"data row0 col167\" >776900</td>\n",
       "                        <td id=\"T_bd689e80_2b49_11ea_9253_acde48001122row0_col168\" class=\"data row0 col168\" >774700</td>\n",
       "                        <td id=\"T_bd689e80_2b49_11ea_9253_acde48001122row0_col169\" class=\"data row0 col169\" >774200</td>\n",
       "                        <td id=\"T_bd689e80_2b49_11ea_9253_acde48001122row0_col170\" class=\"data row0 col170\" >774400</td>\n",
       "                        <td id=\"T_bd689e80_2b49_11ea_9253_acde48001122row0_col171\" class=\"data row0 col171\" >774600</td>\n",
       "                        <td id=\"T_bd689e80_2b49_11ea_9253_acde48001122row0_col172\" class=\"data row0 col172\" >775600</td>\n",
       "                        <td id=\"T_bd689e80_2b49_11ea_9253_acde48001122row0_col173\" class=\"data row0 col173\" >777800</td>\n",
       "                        <td id=\"T_bd689e80_2b49_11ea_9253_acde48001122row0_col174\" class=\"data row0 col174\" >775200</td>\n",
       "                        <td id=\"T_bd689e80_2b49_11ea_9253_acde48001122row0_col175\" class=\"data row0 col175\" >767900</td>\n",
       "                        <td id=\"T_bd689e80_2b49_11ea_9253_acde48001122row0_col176\" class=\"data row0 col176\" >764700</td>\n",
       "                        <td id=\"T_bd689e80_2b49_11ea_9253_acde48001122row0_col177\" class=\"data row0 col177\" >766100</td>\n",
       "                        <td id=\"T_bd689e80_2b49_11ea_9253_acde48001122row0_col178\" class=\"data row0 col178\" >764100</td>\n",
       "                        <td id=\"T_bd689e80_2b49_11ea_9253_acde48001122row0_col179\" class=\"data row0 col179\" >759700</td>\n",
       "                        <td id=\"T_bd689e80_2b49_11ea_9253_acde48001122row0_col180\" class=\"data row0 col180\" >754900</td>\n",
       "                        <td id=\"T_bd689e80_2b49_11ea_9253_acde48001122row0_col181\" class=\"data row0 col181\" >746200</td>\n",
       "                        <td id=\"T_bd689e80_2b49_11ea_9253_acde48001122row0_col182\" class=\"data row0 col182\" >737300</td>\n",
       "                        <td id=\"T_bd689e80_2b49_11ea_9253_acde48001122row0_col183\" class=\"data row0 col183\" >730800</td>\n",
       "                        <td id=\"T_bd689e80_2b49_11ea_9253_acde48001122row0_col184\" class=\"data row0 col184\" >729300</td>\n",
       "                        <td id=\"T_bd689e80_2b49_11ea_9253_acde48001122row0_col185\" class=\"data row0 col185\" >730200</td>\n",
       "                        <td id=\"T_bd689e80_2b49_11ea_9253_acde48001122row0_col186\" class=\"data row0 col186\" >730700</td>\n",
       "                        <td id=\"T_bd689e80_2b49_11ea_9253_acde48001122row0_col187\" class=\"data row0 col187\" >730000</td>\n",
       "                        <td id=\"T_bd689e80_2b49_11ea_9253_acde48001122row0_col188\" class=\"data row0 col188\" >730100</td>\n",
       "                        <td id=\"T_bd689e80_2b49_11ea_9253_acde48001122row0_col189\" class=\"data row0 col189\" >730100</td>\n",
       "                        <td id=\"T_bd689e80_2b49_11ea_9253_acde48001122row0_col190\" class=\"data row0 col190\" >731200</td>\n",
       "                        <td id=\"T_bd689e80_2b49_11ea_9253_acde48001122row0_col191\" class=\"data row0 col191\" >733900</td>\n",
       "                        <td id=\"T_bd689e80_2b49_11ea_9253_acde48001122row0_col192\" class=\"data row0 col192\" >735500</td>\n",
       "                        <td id=\"T_bd689e80_2b49_11ea_9253_acde48001122row0_col193\" class=\"data row0 col193\" >735400</td>\n",
       "                        <td id=\"T_bd689e80_2b49_11ea_9253_acde48001122row0_col194\" class=\"data row0 col194\" >734400</td>\n",
       "                        <td id=\"T_bd689e80_2b49_11ea_9253_acde48001122row0_col195\" class=\"data row0 col195\" >737500</td>\n",
       "                        <td id=\"T_bd689e80_2b49_11ea_9253_acde48001122row0_col196\" class=\"data row0 col196\" >737700</td>\n",
       "                        <td id=\"T_bd689e80_2b49_11ea_9253_acde48001122row0_col197\" class=\"data row0 col197\" >733700</td>\n",
       "                        <td id=\"T_bd689e80_2b49_11ea_9253_acde48001122row0_col198\" class=\"data row0 col198\" >734000</td>\n",
       "                        <td id=\"T_bd689e80_2b49_11ea_9253_acde48001122row0_col199\" class=\"data row0 col199\" >740300</td>\n",
       "                        <td id=\"T_bd689e80_2b49_11ea_9253_acde48001122row0_col200\" class=\"data row0 col200\" >744600</td>\n",
       "                        <td id=\"T_bd689e80_2b49_11ea_9253_acde48001122row0_col201\" class=\"data row0 col201\" >750500</td>\n",
       "                        <td id=\"T_bd689e80_2b49_11ea_9253_acde48001122row0_col202\" class=\"data row0 col202\" >760400</td>\n",
       "                        <td id=\"T_bd689e80_2b49_11ea_9253_acde48001122row0_col203\" class=\"data row0 col203\" >771800</td>\n",
       "                        <td id=\"T_bd689e80_2b49_11ea_9253_acde48001122row0_col204\" class=\"data row0 col204\" >780600</td>\n",
       "                        <td id=\"T_bd689e80_2b49_11ea_9253_acde48001122row0_col205\" class=\"data row0 col205\" >787900</td>\n",
       "                        <td id=\"T_bd689e80_2b49_11ea_9253_acde48001122row0_col206\" class=\"data row0 col206\" >794100</td>\n",
       "                        <td id=\"T_bd689e80_2b49_11ea_9253_acde48001122row0_col207\" class=\"data row0 col207\" >798900</td>\n",
       "                        <td id=\"T_bd689e80_2b49_11ea_9253_acde48001122row0_col208\" class=\"data row0 col208\" >802300</td>\n",
       "                        <td id=\"T_bd689e80_2b49_11ea_9253_acde48001122row0_col209\" class=\"data row0 col209\" >806100</td>\n",
       "                        <td id=\"T_bd689e80_2b49_11ea_9253_acde48001122row0_col210\" class=\"data row0 col210\" >810900</td>\n",
       "                        <td id=\"T_bd689e80_2b49_11ea_9253_acde48001122row0_col211\" class=\"data row0 col211\" >817400</td>\n",
       "                        <td id=\"T_bd689e80_2b49_11ea_9253_acde48001122row0_col212\" class=\"data row0 col212\" >826800</td>\n",
       "                        <td id=\"T_bd689e80_2b49_11ea_9253_acde48001122row0_col213\" class=\"data row0 col213\" >837900</td>\n",
       "                        <td id=\"T_bd689e80_2b49_11ea_9253_acde48001122row0_col214\" class=\"data row0 col214\" >848100</td>\n",
       "                        <td id=\"T_bd689e80_2b49_11ea_9253_acde48001122row0_col215\" class=\"data row0 col215\" >853800</td>\n",
       "                        <td id=\"T_bd689e80_2b49_11ea_9253_acde48001122row0_col216\" class=\"data row0 col216\" >856700</td>\n",
       "                        <td id=\"T_bd689e80_2b49_11ea_9253_acde48001122row0_col217\" class=\"data row0 col217\" >856600</td>\n",
       "                        <td id=\"T_bd689e80_2b49_11ea_9253_acde48001122row0_col218\" class=\"data row0 col218\" >854400</td>\n",
       "                        <td id=\"T_bd689e80_2b49_11ea_9253_acde48001122row0_col219\" class=\"data row0 col219\" >853000</td>\n",
       "                        <td id=\"T_bd689e80_2b49_11ea_9253_acde48001122row0_col220\" class=\"data row0 col220\" >856200</td>\n",
       "                        <td id=\"T_bd689e80_2b49_11ea_9253_acde48001122row0_col221\" class=\"data row0 col221\" >859700</td>\n",
       "                        <td id=\"T_bd689e80_2b49_11ea_9253_acde48001122row0_col222\" class=\"data row0 col222\" >863900</td>\n",
       "                        <td id=\"T_bd689e80_2b49_11ea_9253_acde48001122row0_col223\" class=\"data row0 col223\" >872900</td>\n",
       "                        <td id=\"T_bd689e80_2b49_11ea_9253_acde48001122row0_col224\" class=\"data row0 col224\" >883300</td>\n",
       "                        <td id=\"T_bd689e80_2b49_11ea_9253_acde48001122row0_col225\" class=\"data row0 col225\" >889500</td>\n",
       "                        <td id=\"T_bd689e80_2b49_11ea_9253_acde48001122row0_col226\" class=\"data row0 col226\" >892800</td>\n",
       "                        <td id=\"T_bd689e80_2b49_11ea_9253_acde48001122row0_col227\" class=\"data row0 col227\" >893600</td>\n",
       "                        <td id=\"T_bd689e80_2b49_11ea_9253_acde48001122row0_col228\" class=\"data row0 col228\" >891300</td>\n",
       "                        <td id=\"T_bd689e80_2b49_11ea_9253_acde48001122row0_col229\" class=\"data row0 col229\" >889900</td>\n",
       "                        <td id=\"T_bd689e80_2b49_11ea_9253_acde48001122row0_col230\" class=\"data row0 col230\" >891500</td>\n",
       "                        <td id=\"T_bd689e80_2b49_11ea_9253_acde48001122row0_col231\" class=\"data row0 col231\" >893000</td>\n",
       "                        <td id=\"T_bd689e80_2b49_11ea_9253_acde48001122row0_col232\" class=\"data row0 col232\" >893000</td>\n",
       "                        <td id=\"T_bd689e80_2b49_11ea_9253_acde48001122row0_col233\" class=\"data row0 col233\" >895000</td>\n",
       "                        <td id=\"T_bd689e80_2b49_11ea_9253_acde48001122row0_col234\" class=\"data row0 col234\" >901200</td>\n",
       "                        <td id=\"T_bd689e80_2b49_11ea_9253_acde48001122row0_col235\" class=\"data row0 col235\" >909400</td>\n",
       "                        <td id=\"T_bd689e80_2b49_11ea_9253_acde48001122row0_col236\" class=\"data row0 col236\" >915000</td>\n",
       "                        <td id=\"T_bd689e80_2b49_11ea_9253_acde48001122row0_col237\" class=\"data row0 col237\" >916700</td>\n",
       "                        <td id=\"T_bd689e80_2b49_11ea_9253_acde48001122row0_col238\" class=\"data row0 col238\" >917700</td>\n",
       "                        <td id=\"T_bd689e80_2b49_11ea_9253_acde48001122row0_col239\" class=\"data row0 col239\" >919800</td>\n",
       "                        <td id=\"T_bd689e80_2b49_11ea_9253_acde48001122row0_col240\" class=\"data row0 col240\" >925800</td>\n",
       "                        <td id=\"T_bd689e80_2b49_11ea_9253_acde48001122row0_col241\" class=\"data row0 col241\" >937100</td>\n",
       "                        <td id=\"T_bd689e80_2b49_11ea_9253_acde48001122row0_col242\" class=\"data row0 col242\" >948200</td>\n",
       "                        <td id=\"T_bd689e80_2b49_11ea_9253_acde48001122row0_col243\" class=\"data row0 col243\" >951000</td>\n",
       "                        <td id=\"T_bd689e80_2b49_11ea_9253_acde48001122row0_col244\" class=\"data row0 col244\" >952500</td>\n",
       "                        <td id=\"T_bd689e80_2b49_11ea_9253_acde48001122row0_col245\" class=\"data row0 col245\" >958600</td>\n",
       "                        <td id=\"T_bd689e80_2b49_11ea_9253_acde48001122row0_col246\" class=\"data row0 col246\" >966200</td>\n",
       "                        <td id=\"T_bd689e80_2b49_11ea_9253_acde48001122row0_col247\" class=\"data row0 col247\" >970400</td>\n",
       "                        <td id=\"T_bd689e80_2b49_11ea_9253_acde48001122row0_col248\" class=\"data row0 col248\" >973900</td>\n",
       "                        <td id=\"T_bd689e80_2b49_11ea_9253_acde48001122row0_col249\" class=\"data row0 col249\" >974700</td>\n",
       "                        <td id=\"T_bd689e80_2b49_11ea_9253_acde48001122row0_col250\" class=\"data row0 col250\" >972600</td>\n",
       "                        <td id=\"T_bd689e80_2b49_11ea_9253_acde48001122row0_col251\" class=\"data row0 col251\" >974300</td>\n",
       "                        <td id=\"T_bd689e80_2b49_11ea_9253_acde48001122row0_col252\" class=\"data row0 col252\" >980800</td>\n",
       "                        <td id=\"T_bd689e80_2b49_11ea_9253_acde48001122row0_col253\" class=\"data row0 col253\" >988000</td>\n",
       "                        <td id=\"T_bd689e80_2b49_11ea_9253_acde48001122row0_col254\" class=\"data row0 col254\" >994700</td>\n",
       "                        <td id=\"T_bd689e80_2b49_11ea_9253_acde48001122row0_col255\" class=\"data row0 col255\" >998700</td>\n",
       "                        <td id=\"T_bd689e80_2b49_11ea_9253_acde48001122row0_col256\" class=\"data row0 col256\" >997000</td>\n",
       "                        <td id=\"T_bd689e80_2b49_11ea_9253_acde48001122row0_col257\" class=\"data row0 col257\" >993700</td>\n",
       "                        <td id=\"T_bd689e80_2b49_11ea_9253_acde48001122row0_col258\" class=\"data row0 col258\" >991300</td>\n",
       "                        <td id=\"T_bd689e80_2b49_11ea_9253_acde48001122row0_col259\" class=\"data row0 col259\" >989200</td>\n",
       "                        <td id=\"T_bd689e80_2b49_11ea_9253_acde48001122row0_col260\" class=\"data row0 col260\" >991300</td>\n",
       "                        <td id=\"T_bd689e80_2b49_11ea_9253_acde48001122row0_col261\" class=\"data row0 col261\" >999100</td>\n",
       "                        <td id=\"T_bd689e80_2b49_11ea_9253_acde48001122row0_col262\" class=\"data row0 col262\" >1005500</td>\n",
       "                        <td id=\"T_bd689e80_2b49_11ea_9253_acde48001122row0_col263\" class=\"data row0 col263\" >1007500</td>\n",
       "                        <td id=\"T_bd689e80_2b49_11ea_9253_acde48001122row0_col264\" class=\"data row0 col264\" >1007800</td>\n",
       "                        <td id=\"T_bd689e80_2b49_11ea_9253_acde48001122row0_col265\" class=\"data row0 col265\" >1009600</td>\n",
       "                        <td id=\"T_bd689e80_2b49_11ea_9253_acde48001122row0_col266\" class=\"data row0 col266\" >1013300</td>\n",
       "                        <td id=\"T_bd689e80_2b49_11ea_9253_acde48001122row0_col267\" class=\"data row0 col267\" >1018700</td>\n",
       "                        <td id=\"T_bd689e80_2b49_11ea_9253_acde48001122row0_col268\" class=\"data row0 col268\" >1024400</td>\n",
       "                        <td id=\"T_bd689e80_2b49_11ea_9253_acde48001122row0_col269\" class=\"data row0 col269\" >1030700</td>\n",
       "                        <td id=\"T_bd689e80_2b49_11ea_9253_acde48001122row0_col270\" class=\"data row0 col270\" >1033800</td>\n",
       "                        <td id=\"T_bd689e80_2b49_11ea_9253_acde48001122row0_col271\" class=\"data row0 col271\" >1030600</td>\n",
       "            </tr>\n",
       "            <tr>\n",
       "                        <th id=\"T_bd689e80_2b49_11ea_9253_acde48001122level0_row1\" class=\"row_heading level0 row1\" >1</th>\n",
       "                        <td id=\"T_bd689e80_2b49_11ea_9253_acde48001122row1_col0\" class=\"data row1 col0\" >90668</td>\n",
       "                        <td id=\"T_bd689e80_2b49_11ea_9253_acde48001122row1_col1\" class=\"data row1 col1\" >75070</td>\n",
       "                        <td id=\"T_bd689e80_2b49_11ea_9253_acde48001122row1_col2\" class=\"data row1 col2\" >McKinney</td>\n",
       "                        <td id=\"T_bd689e80_2b49_11ea_9253_acde48001122row1_col3\" class=\"data row1 col3\" >TX</td>\n",
       "                        <td id=\"T_bd689e80_2b49_11ea_9253_acde48001122row1_col4\" class=\"data row1 col4\" >Dallas-Fort Worth</td>\n",
       "                        <td id=\"T_bd689e80_2b49_11ea_9253_acde48001122row1_col5\" class=\"data row1 col5\" >Collin</td>\n",
       "                        <td id=\"T_bd689e80_2b49_11ea_9253_acde48001122row1_col6\" class=\"data row1 col6\" >2</td>\n",
       "                        <td id=\"T_bd689e80_2b49_11ea_9253_acde48001122row1_col7\" class=\"data row1 col7\" >235700</td>\n",
       "                        <td id=\"T_bd689e80_2b49_11ea_9253_acde48001122row1_col8\" class=\"data row1 col8\" >236900</td>\n",
       "                        <td id=\"T_bd689e80_2b49_11ea_9253_acde48001122row1_col9\" class=\"data row1 col9\" >236700</td>\n",
       "                        <td id=\"T_bd689e80_2b49_11ea_9253_acde48001122row1_col10\" class=\"data row1 col10\" >235400</td>\n",
       "                        <td id=\"T_bd689e80_2b49_11ea_9253_acde48001122row1_col11\" class=\"data row1 col11\" >233300</td>\n",
       "                        <td id=\"T_bd689e80_2b49_11ea_9253_acde48001122row1_col12\" class=\"data row1 col12\" >230600</td>\n",
       "                        <td id=\"T_bd689e80_2b49_11ea_9253_acde48001122row1_col13\" class=\"data row1 col13\" >227300</td>\n",
       "                        <td id=\"T_bd689e80_2b49_11ea_9253_acde48001122row1_col14\" class=\"data row1 col14\" >223400</td>\n",
       "                        <td id=\"T_bd689e80_2b49_11ea_9253_acde48001122row1_col15\" class=\"data row1 col15\" >219600</td>\n",
       "                        <td id=\"T_bd689e80_2b49_11ea_9253_acde48001122row1_col16\" class=\"data row1 col16\" >215800</td>\n",
       "                        <td id=\"T_bd689e80_2b49_11ea_9253_acde48001122row1_col17\" class=\"data row1 col17\" >211100</td>\n",
       "                        <td id=\"T_bd689e80_2b49_11ea_9253_acde48001122row1_col18\" class=\"data row1 col18\" >205700</td>\n",
       "                        <td id=\"T_bd689e80_2b49_11ea_9253_acde48001122row1_col19\" class=\"data row1 col19\" >200900</td>\n",
       "                        <td id=\"T_bd689e80_2b49_11ea_9253_acde48001122row1_col20\" class=\"data row1 col20\" >196800</td>\n",
       "                        <td id=\"T_bd689e80_2b49_11ea_9253_acde48001122row1_col21\" class=\"data row1 col21\" >193600</td>\n",
       "                        <td id=\"T_bd689e80_2b49_11ea_9253_acde48001122row1_col22\" class=\"data row1 col22\" >191400</td>\n",
       "                        <td id=\"T_bd689e80_2b49_11ea_9253_acde48001122row1_col23\" class=\"data row1 col23\" >190400</td>\n",
       "                        <td id=\"T_bd689e80_2b49_11ea_9253_acde48001122row1_col24\" class=\"data row1 col24\" >190800</td>\n",
       "                        <td id=\"T_bd689e80_2b49_11ea_9253_acde48001122row1_col25\" class=\"data row1 col25\" >192700</td>\n",
       "                        <td id=\"T_bd689e80_2b49_11ea_9253_acde48001122row1_col26\" class=\"data row1 col26\" >196000</td>\n",
       "                        <td id=\"T_bd689e80_2b49_11ea_9253_acde48001122row1_col27\" class=\"data row1 col27\" >201300</td>\n",
       "                        <td id=\"T_bd689e80_2b49_11ea_9253_acde48001122row1_col28\" class=\"data row1 col28\" >207400</td>\n",
       "                        <td id=\"T_bd689e80_2b49_11ea_9253_acde48001122row1_col29\" class=\"data row1 col29\" >212200</td>\n",
       "                        <td id=\"T_bd689e80_2b49_11ea_9253_acde48001122row1_col30\" class=\"data row1 col30\" >214600</td>\n",
       "                        <td id=\"T_bd689e80_2b49_11ea_9253_acde48001122row1_col31\" class=\"data row1 col31\" >215100</td>\n",
       "                        <td id=\"T_bd689e80_2b49_11ea_9253_acde48001122row1_col32\" class=\"data row1 col32\" >213400</td>\n",
       "                        <td id=\"T_bd689e80_2b49_11ea_9253_acde48001122row1_col33\" class=\"data row1 col33\" >210200</td>\n",
       "                        <td id=\"T_bd689e80_2b49_11ea_9253_acde48001122row1_col34\" class=\"data row1 col34\" >206100</td>\n",
       "                        <td id=\"T_bd689e80_2b49_11ea_9253_acde48001122row1_col35\" class=\"data row1 col35\" >202100</td>\n",
       "                        <td id=\"T_bd689e80_2b49_11ea_9253_acde48001122row1_col36\" class=\"data row1 col36\" >198800</td>\n",
       "                        <td id=\"T_bd689e80_2b49_11ea_9253_acde48001122row1_col37\" class=\"data row1 col37\" >196100</td>\n",
       "                        <td id=\"T_bd689e80_2b49_11ea_9253_acde48001122row1_col38\" class=\"data row1 col38\" >194100</td>\n",
       "                        <td id=\"T_bd689e80_2b49_11ea_9253_acde48001122row1_col39\" class=\"data row1 col39\" >193400</td>\n",
       "                        <td id=\"T_bd689e80_2b49_11ea_9253_acde48001122row1_col40\" class=\"data row1 col40\" >193400</td>\n",
       "                        <td id=\"T_bd689e80_2b49_11ea_9253_acde48001122row1_col41\" class=\"data row1 col41\" >193100</td>\n",
       "                        <td id=\"T_bd689e80_2b49_11ea_9253_acde48001122row1_col42\" class=\"data row1 col42\" >192700</td>\n",
       "                        <td id=\"T_bd689e80_2b49_11ea_9253_acde48001122row1_col43\" class=\"data row1 col43\" >193000</td>\n",
       "                        <td id=\"T_bd689e80_2b49_11ea_9253_acde48001122row1_col44\" class=\"data row1 col44\" >193700</td>\n",
       "                        <td id=\"T_bd689e80_2b49_11ea_9253_acde48001122row1_col45\" class=\"data row1 col45\" >194800</td>\n",
       "                        <td id=\"T_bd689e80_2b49_11ea_9253_acde48001122row1_col46\" class=\"data row1 col46\" >196100</td>\n",
       "                        <td id=\"T_bd689e80_2b49_11ea_9253_acde48001122row1_col47\" class=\"data row1 col47\" >197800</td>\n",
       "                        <td id=\"T_bd689e80_2b49_11ea_9253_acde48001122row1_col48\" class=\"data row1 col48\" >199700</td>\n",
       "                        <td id=\"T_bd689e80_2b49_11ea_9253_acde48001122row1_col49\" class=\"data row1 col49\" >201900</td>\n",
       "                        <td id=\"T_bd689e80_2b49_11ea_9253_acde48001122row1_col50\" class=\"data row1 col50\" >204500</td>\n",
       "                        <td id=\"T_bd689e80_2b49_11ea_9253_acde48001122row1_col51\" class=\"data row1 col51\" >207800</td>\n",
       "                        <td id=\"T_bd689e80_2b49_11ea_9253_acde48001122row1_col52\" class=\"data row1 col52\" >211500</td>\n",
       "                        <td id=\"T_bd689e80_2b49_11ea_9253_acde48001122row1_col53\" class=\"data row1 col53\" >214900</td>\n",
       "                        <td id=\"T_bd689e80_2b49_11ea_9253_acde48001122row1_col54\" class=\"data row1 col54\" >217800</td>\n",
       "                        <td id=\"T_bd689e80_2b49_11ea_9253_acde48001122row1_col55\" class=\"data row1 col55\" >221100</td>\n",
       "                        <td id=\"T_bd689e80_2b49_11ea_9253_acde48001122row1_col56\" class=\"data row1 col56\" >224100</td>\n",
       "                        <td id=\"T_bd689e80_2b49_11ea_9253_acde48001122row1_col57\" class=\"data row1 col57\" >226700</td>\n",
       "                        <td id=\"T_bd689e80_2b49_11ea_9253_acde48001122row1_col58\" class=\"data row1 col58\" >228200</td>\n",
       "                        <td id=\"T_bd689e80_2b49_11ea_9253_acde48001122row1_col59\" class=\"data row1 col59\" >228500</td>\n",
       "                        <td id=\"T_bd689e80_2b49_11ea_9253_acde48001122row1_col60\" class=\"data row1 col60\" >227200</td>\n",
       "                        <td id=\"T_bd689e80_2b49_11ea_9253_acde48001122row1_col61\" class=\"data row1 col61\" >224900</td>\n",
       "                        <td id=\"T_bd689e80_2b49_11ea_9253_acde48001122row1_col62\" class=\"data row1 col62\" >221900</td>\n",
       "                        <td id=\"T_bd689e80_2b49_11ea_9253_acde48001122row1_col63\" class=\"data row1 col63\" >219100</td>\n",
       "                        <td id=\"T_bd689e80_2b49_11ea_9253_acde48001122row1_col64\" class=\"data row1 col64\" >216900</td>\n",
       "                        <td id=\"T_bd689e80_2b49_11ea_9253_acde48001122row1_col65\" class=\"data row1 col65\" >215400</td>\n",
       "                        <td id=\"T_bd689e80_2b49_11ea_9253_acde48001122row1_col66\" class=\"data row1 col66\" >214500</td>\n",
       "                        <td id=\"T_bd689e80_2b49_11ea_9253_acde48001122row1_col67\" class=\"data row1 col67\" >214600</td>\n",
       "                        <td id=\"T_bd689e80_2b49_11ea_9253_acde48001122row1_col68\" class=\"data row1 col68\" >215600</td>\n",
       "                        <td id=\"T_bd689e80_2b49_11ea_9253_acde48001122row1_col69\" class=\"data row1 col69\" >217000</td>\n",
       "                        <td id=\"T_bd689e80_2b49_11ea_9253_acde48001122row1_col70\" class=\"data row1 col70\" >218400</td>\n",
       "                        <td id=\"T_bd689e80_2b49_11ea_9253_acde48001122row1_col71\" class=\"data row1 col71\" >219600</td>\n",
       "                        <td id=\"T_bd689e80_2b49_11ea_9253_acde48001122row1_col72\" class=\"data row1 col72\" >220000</td>\n",
       "                        <td id=\"T_bd689e80_2b49_11ea_9253_acde48001122row1_col73\" class=\"data row1 col73\" >219100</td>\n",
       "                        <td id=\"T_bd689e80_2b49_11ea_9253_acde48001122row1_col74\" class=\"data row1 col74\" >216800</td>\n",
       "                        <td id=\"T_bd689e80_2b49_11ea_9253_acde48001122row1_col75\" class=\"data row1 col75\" >213100</td>\n",
       "                        <td id=\"T_bd689e80_2b49_11ea_9253_acde48001122row1_col76\" class=\"data row1 col76\" >208700</td>\n",
       "                        <td id=\"T_bd689e80_2b49_11ea_9253_acde48001122row1_col77\" class=\"data row1 col77\" >204000</td>\n",
       "                        <td id=\"T_bd689e80_2b49_11ea_9253_acde48001122row1_col78\" class=\"data row1 col78\" >199600</td>\n",
       "                        <td id=\"T_bd689e80_2b49_11ea_9253_acde48001122row1_col79\" class=\"data row1 col79\" >195700</td>\n",
       "                        <td id=\"T_bd689e80_2b49_11ea_9253_acde48001122row1_col80\" class=\"data row1 col80\" >192800</td>\n",
       "                        <td id=\"T_bd689e80_2b49_11ea_9253_acde48001122row1_col81\" class=\"data row1 col81\" >190800</td>\n",
       "                        <td id=\"T_bd689e80_2b49_11ea_9253_acde48001122row1_col82\" class=\"data row1 col82\" >189600</td>\n",
       "                        <td id=\"T_bd689e80_2b49_11ea_9253_acde48001122row1_col83\" class=\"data row1 col83\" >189200</td>\n",
       "                        <td id=\"T_bd689e80_2b49_11ea_9253_acde48001122row1_col84\" class=\"data row1 col84\" >189200</td>\n",
       "                        <td id=\"T_bd689e80_2b49_11ea_9253_acde48001122row1_col85\" class=\"data row1 col85\" >189600</td>\n",
       "                        <td id=\"T_bd689e80_2b49_11ea_9253_acde48001122row1_col86\" class=\"data row1 col86\" >190300</td>\n",
       "                        <td id=\"T_bd689e80_2b49_11ea_9253_acde48001122row1_col87\" class=\"data row1 col87\" >190800</td>\n",
       "                        <td id=\"T_bd689e80_2b49_11ea_9253_acde48001122row1_col88\" class=\"data row1 col88\" >191000</td>\n",
       "                        <td id=\"T_bd689e80_2b49_11ea_9253_acde48001122row1_col89\" class=\"data row1 col89\" >190700</td>\n",
       "                        <td id=\"T_bd689e80_2b49_11ea_9253_acde48001122row1_col90\" class=\"data row1 col90\" >190300</td>\n",
       "                        <td id=\"T_bd689e80_2b49_11ea_9253_acde48001122row1_col91\" class=\"data row1 col91\" >189800</td>\n",
       "                        <td id=\"T_bd689e80_2b49_11ea_9253_acde48001122row1_col92\" class=\"data row1 col92\" >189200</td>\n",
       "                        <td id=\"T_bd689e80_2b49_11ea_9253_acde48001122row1_col93\" class=\"data row1 col93\" >188600</td>\n",
       "                        <td id=\"T_bd689e80_2b49_11ea_9253_acde48001122row1_col94\" class=\"data row1 col94\" >188000</td>\n",
       "                        <td id=\"T_bd689e80_2b49_11ea_9253_acde48001122row1_col95\" class=\"data row1 col95\" >187500</td>\n",
       "                        <td id=\"T_bd689e80_2b49_11ea_9253_acde48001122row1_col96\" class=\"data row1 col96\" >187200</td>\n",
       "                        <td id=\"T_bd689e80_2b49_11ea_9253_acde48001122row1_col97\" class=\"data row1 col97\" >187000</td>\n",
       "                        <td id=\"T_bd689e80_2b49_11ea_9253_acde48001122row1_col98\" class=\"data row1 col98\" >186900</td>\n",
       "                        <td id=\"T_bd689e80_2b49_11ea_9253_acde48001122row1_col99\" class=\"data row1 col99\" >187100</td>\n",
       "                        <td id=\"T_bd689e80_2b49_11ea_9253_acde48001122row1_col100\" class=\"data row1 col100\" >187700</td>\n",
       "                        <td id=\"T_bd689e80_2b49_11ea_9253_acde48001122row1_col101\" class=\"data row1 col101\" >188800</td>\n",
       "                        <td id=\"T_bd689e80_2b49_11ea_9253_acde48001122row1_col102\" class=\"data row1 col102\" >190300</td>\n",
       "                        <td id=\"T_bd689e80_2b49_11ea_9253_acde48001122row1_col103\" class=\"data row1 col103\" >191800</td>\n",
       "                        <td id=\"T_bd689e80_2b49_11ea_9253_acde48001122row1_col104\" class=\"data row1 col104\" >193000</td>\n",
       "                        <td id=\"T_bd689e80_2b49_11ea_9253_acde48001122row1_col105\" class=\"data row1 col105\" >193900</td>\n",
       "                        <td id=\"T_bd689e80_2b49_11ea_9253_acde48001122row1_col106\" class=\"data row1 col106\" >194500</td>\n",
       "                        <td id=\"T_bd689e80_2b49_11ea_9253_acde48001122row1_col107\" class=\"data row1 col107\" >195100</td>\n",
       "                        <td id=\"T_bd689e80_2b49_11ea_9253_acde48001122row1_col108\" class=\"data row1 col108\" >195700</td>\n",
       "                        <td id=\"T_bd689e80_2b49_11ea_9253_acde48001122row1_col109\" class=\"data row1 col109\" >196400</td>\n",
       "                        <td id=\"T_bd689e80_2b49_11ea_9253_acde48001122row1_col110\" class=\"data row1 col110\" >197400</td>\n",
       "                        <td id=\"T_bd689e80_2b49_11ea_9253_acde48001122row1_col111\" class=\"data row1 col111\" >198500</td>\n",
       "                        <td id=\"T_bd689e80_2b49_11ea_9253_acde48001122row1_col112\" class=\"data row1 col112\" >199600</td>\n",
       "                        <td id=\"T_bd689e80_2b49_11ea_9253_acde48001122row1_col113\" class=\"data row1 col113\" >200300</td>\n",
       "                        <td id=\"T_bd689e80_2b49_11ea_9253_acde48001122row1_col114\" class=\"data row1 col114\" >200800</td>\n",
       "                        <td id=\"T_bd689e80_2b49_11ea_9253_acde48001122row1_col115\" class=\"data row1 col115\" >201000</td>\n",
       "                        <td id=\"T_bd689e80_2b49_11ea_9253_acde48001122row1_col116\" class=\"data row1 col116\" >201000</td>\n",
       "                        <td id=\"T_bd689e80_2b49_11ea_9253_acde48001122row1_col117\" class=\"data row1 col117\" >201000</td>\n",
       "                        <td id=\"T_bd689e80_2b49_11ea_9253_acde48001122row1_col118\" class=\"data row1 col118\" >200900</td>\n",
       "                        <td id=\"T_bd689e80_2b49_11ea_9253_acde48001122row1_col119\" class=\"data row1 col119\" >200900</td>\n",
       "                        <td id=\"T_bd689e80_2b49_11ea_9253_acde48001122row1_col120\" class=\"data row1 col120\" >200900</td>\n",
       "                        <td id=\"T_bd689e80_2b49_11ea_9253_acde48001122row1_col121\" class=\"data row1 col121\" >201200</td>\n",
       "                        <td id=\"T_bd689e80_2b49_11ea_9253_acde48001122row1_col122\" class=\"data row1 col122\" >201600</td>\n",
       "                        <td id=\"T_bd689e80_2b49_11ea_9253_acde48001122row1_col123\" class=\"data row1 col123\" >202200</td>\n",
       "                        <td id=\"T_bd689e80_2b49_11ea_9253_acde48001122row1_col124\" class=\"data row1 col124\" >202700</td>\n",
       "                        <td id=\"T_bd689e80_2b49_11ea_9253_acde48001122row1_col125\" class=\"data row1 col125\" >203300</td>\n",
       "                        <td id=\"T_bd689e80_2b49_11ea_9253_acde48001122row1_col126\" class=\"data row1 col126\" >203900</td>\n",
       "                        <td id=\"T_bd689e80_2b49_11ea_9253_acde48001122row1_col127\" class=\"data row1 col127\" >204500</td>\n",
       "                        <td id=\"T_bd689e80_2b49_11ea_9253_acde48001122row1_col128\" class=\"data row1 col128\" >205100</td>\n",
       "                        <td id=\"T_bd689e80_2b49_11ea_9253_acde48001122row1_col129\" class=\"data row1 col129\" >205800</td>\n",
       "                        <td id=\"T_bd689e80_2b49_11ea_9253_acde48001122row1_col130\" class=\"data row1 col130\" >206500</td>\n",
       "                        <td id=\"T_bd689e80_2b49_11ea_9253_acde48001122row1_col131\" class=\"data row1 col131\" >207200</td>\n",
       "                        <td id=\"T_bd689e80_2b49_11ea_9253_acde48001122row1_col132\" class=\"data row1 col132\" >207800</td>\n",
       "                        <td id=\"T_bd689e80_2b49_11ea_9253_acde48001122row1_col133\" class=\"data row1 col133\" >208400</td>\n",
       "                        <td id=\"T_bd689e80_2b49_11ea_9253_acde48001122row1_col134\" class=\"data row1 col134\" >208900</td>\n",
       "                        <td id=\"T_bd689e80_2b49_11ea_9253_acde48001122row1_col135\" class=\"data row1 col135\" >209400</td>\n",
       "                        <td id=\"T_bd689e80_2b49_11ea_9253_acde48001122row1_col136\" class=\"data row1 col136\" >209700</td>\n",
       "                        <td id=\"T_bd689e80_2b49_11ea_9253_acde48001122row1_col137\" class=\"data row1 col137\" >210000</td>\n",
       "                        <td id=\"T_bd689e80_2b49_11ea_9253_acde48001122row1_col138\" class=\"data row1 col138\" >210400</td>\n",
       "                        <td id=\"T_bd689e80_2b49_11ea_9253_acde48001122row1_col139\" class=\"data row1 col139\" >211000</td>\n",
       "                        <td id=\"T_bd689e80_2b49_11ea_9253_acde48001122row1_col140\" class=\"data row1 col140\" >211600</td>\n",
       "                        <td id=\"T_bd689e80_2b49_11ea_9253_acde48001122row1_col141\" class=\"data row1 col141\" >212400</td>\n",
       "                        <td id=\"T_bd689e80_2b49_11ea_9253_acde48001122row1_col142\" class=\"data row1 col142\" >213000</td>\n",
       "                        <td id=\"T_bd689e80_2b49_11ea_9253_acde48001122row1_col143\" class=\"data row1 col143\" >213400</td>\n",
       "                        <td id=\"T_bd689e80_2b49_11ea_9253_acde48001122row1_col144\" class=\"data row1 col144\" >213600</td>\n",
       "                        <td id=\"T_bd689e80_2b49_11ea_9253_acde48001122row1_col145\" class=\"data row1 col145\" >213800</td>\n",
       "                        <td id=\"T_bd689e80_2b49_11ea_9253_acde48001122row1_col146\" class=\"data row1 col146\" >213900</td>\n",
       "                        <td id=\"T_bd689e80_2b49_11ea_9253_acde48001122row1_col147\" class=\"data row1 col147\" >214100</td>\n",
       "                        <td id=\"T_bd689e80_2b49_11ea_9253_acde48001122row1_col148\" class=\"data row1 col148\" >213900</td>\n",
       "                        <td id=\"T_bd689e80_2b49_11ea_9253_acde48001122row1_col149\" class=\"data row1 col149\" >213500</td>\n",
       "                        <td id=\"T_bd689e80_2b49_11ea_9253_acde48001122row1_col150\" class=\"data row1 col150\" >212600</td>\n",
       "                        <td id=\"T_bd689e80_2b49_11ea_9253_acde48001122row1_col151\" class=\"data row1 col151\" >211200</td>\n",
       "                        <td id=\"T_bd689e80_2b49_11ea_9253_acde48001122row1_col152\" class=\"data row1 col152\" >209500</td>\n",
       "                        <td id=\"T_bd689e80_2b49_11ea_9253_acde48001122row1_col153\" class=\"data row1 col153\" >207900</td>\n",
       "                        <td id=\"T_bd689e80_2b49_11ea_9253_acde48001122row1_col154\" class=\"data row1 col154\" >206700</td>\n",
       "                        <td id=\"T_bd689e80_2b49_11ea_9253_acde48001122row1_col155\" class=\"data row1 col155\" >205900</td>\n",
       "                        <td id=\"T_bd689e80_2b49_11ea_9253_acde48001122row1_col156\" class=\"data row1 col156\" >205300</td>\n",
       "                        <td id=\"T_bd689e80_2b49_11ea_9253_acde48001122row1_col157\" class=\"data row1 col157\" >204600</td>\n",
       "                        <td id=\"T_bd689e80_2b49_11ea_9253_acde48001122row1_col158\" class=\"data row1 col158\" >203800</td>\n",
       "                        <td id=\"T_bd689e80_2b49_11ea_9253_acde48001122row1_col159\" class=\"data row1 col159\" >203200</td>\n",
       "                        <td id=\"T_bd689e80_2b49_11ea_9253_acde48001122row1_col160\" class=\"data row1 col160\" >202400</td>\n",
       "                        <td id=\"T_bd689e80_2b49_11ea_9253_acde48001122row1_col161\" class=\"data row1 col161\" >201700</td>\n",
       "                        <td id=\"T_bd689e80_2b49_11ea_9253_acde48001122row1_col162\" class=\"data row1 col162\" >201200</td>\n",
       "                        <td id=\"T_bd689e80_2b49_11ea_9253_acde48001122row1_col163\" class=\"data row1 col163\" >200700</td>\n",
       "                        <td id=\"T_bd689e80_2b49_11ea_9253_acde48001122row1_col164\" class=\"data row1 col164\" >200000</td>\n",
       "                        <td id=\"T_bd689e80_2b49_11ea_9253_acde48001122row1_col165\" class=\"data row1 col165\" >199700</td>\n",
       "                        <td id=\"T_bd689e80_2b49_11ea_9253_acde48001122row1_col166\" class=\"data row1 col166\" >199700</td>\n",
       "                        <td id=\"T_bd689e80_2b49_11ea_9253_acde48001122row1_col167\" class=\"data row1 col167\" >199900</td>\n",
       "                        <td id=\"T_bd689e80_2b49_11ea_9253_acde48001122row1_col168\" class=\"data row1 col168\" >200100</td>\n",
       "                        <td id=\"T_bd689e80_2b49_11ea_9253_acde48001122row1_col169\" class=\"data row1 col169\" >200200</td>\n",
       "                        <td id=\"T_bd689e80_2b49_11ea_9253_acde48001122row1_col170\" class=\"data row1 col170\" >200200</td>\n",
       "                        <td id=\"T_bd689e80_2b49_11ea_9253_acde48001122row1_col171\" class=\"data row1 col171\" >200100</td>\n",
       "                        <td id=\"T_bd689e80_2b49_11ea_9253_acde48001122row1_col172\" class=\"data row1 col172\" >201300</td>\n",
       "                        <td id=\"T_bd689e80_2b49_11ea_9253_acde48001122row1_col173\" class=\"data row1 col173\" >202000</td>\n",
       "                        <td id=\"T_bd689e80_2b49_11ea_9253_acde48001122row1_col174\" class=\"data row1 col174\" >202100</td>\n",
       "                        <td id=\"T_bd689e80_2b49_11ea_9253_acde48001122row1_col175\" class=\"data row1 col175\" >202700</td>\n",
       "                        <td id=\"T_bd689e80_2b49_11ea_9253_acde48001122row1_col176\" class=\"data row1 col176\" >203700</td>\n",
       "                        <td id=\"T_bd689e80_2b49_11ea_9253_acde48001122row1_col177\" class=\"data row1 col177\" >203300</td>\n",
       "                        <td id=\"T_bd689e80_2b49_11ea_9253_acde48001122row1_col178\" class=\"data row1 col178\" >203100</td>\n",
       "                        <td id=\"T_bd689e80_2b49_11ea_9253_acde48001122row1_col179\" class=\"data row1 col179\" >202900</td>\n",
       "                        <td id=\"T_bd689e80_2b49_11ea_9253_acde48001122row1_col180\" class=\"data row1 col180\" >202400</td>\n",
       "                        <td id=\"T_bd689e80_2b49_11ea_9253_acde48001122row1_col181\" class=\"data row1 col181\" >202400</td>\n",
       "                        <td id=\"T_bd689e80_2b49_11ea_9253_acde48001122row1_col182\" class=\"data row1 col182\" >202500</td>\n",
       "                        <td id=\"T_bd689e80_2b49_11ea_9253_acde48001122row1_col183\" class=\"data row1 col183\" >202500</td>\n",
       "                        <td id=\"T_bd689e80_2b49_11ea_9253_acde48001122row1_col184\" class=\"data row1 col184\" >202400</td>\n",
       "                        <td id=\"T_bd689e80_2b49_11ea_9253_acde48001122row1_col185\" class=\"data row1 col185\" >202500</td>\n",
       "                        <td id=\"T_bd689e80_2b49_11ea_9253_acde48001122row1_col186\" class=\"data row1 col186\" >202100</td>\n",
       "                        <td id=\"T_bd689e80_2b49_11ea_9253_acde48001122row1_col187\" class=\"data row1 col187\" >201300</td>\n",
       "                        <td id=\"T_bd689e80_2b49_11ea_9253_acde48001122row1_col188\" class=\"data row1 col188\" >200700</td>\n",
       "                        <td id=\"T_bd689e80_2b49_11ea_9253_acde48001122row1_col189\" class=\"data row1 col189\" >200500</td>\n",
       "                        <td id=\"T_bd689e80_2b49_11ea_9253_acde48001122row1_col190\" class=\"data row1 col190\" >200000</td>\n",
       "                        <td id=\"T_bd689e80_2b49_11ea_9253_acde48001122row1_col191\" class=\"data row1 col191\" >199300</td>\n",
       "                        <td id=\"T_bd689e80_2b49_11ea_9253_acde48001122row1_col192\" class=\"data row1 col192\" >199100</td>\n",
       "                        <td id=\"T_bd689e80_2b49_11ea_9253_acde48001122row1_col193\" class=\"data row1 col193\" >199200</td>\n",
       "                        <td id=\"T_bd689e80_2b49_11ea_9253_acde48001122row1_col194\" class=\"data row1 col194\" >199400</td>\n",
       "                        <td id=\"T_bd689e80_2b49_11ea_9253_acde48001122row1_col195\" class=\"data row1 col195\" >199500</td>\n",
       "                        <td id=\"T_bd689e80_2b49_11ea_9253_acde48001122row1_col196\" class=\"data row1 col196\" >199600</td>\n",
       "                        <td id=\"T_bd689e80_2b49_11ea_9253_acde48001122row1_col197\" class=\"data row1 col197\" >200100</td>\n",
       "                        <td id=\"T_bd689e80_2b49_11ea_9253_acde48001122row1_col198\" class=\"data row1 col198\" >200700</td>\n",
       "                        <td id=\"T_bd689e80_2b49_11ea_9253_acde48001122row1_col199\" class=\"data row1 col199\" >201800</td>\n",
       "                        <td id=\"T_bd689e80_2b49_11ea_9253_acde48001122row1_col200\" class=\"data row1 col200\" >202700</td>\n",
       "                        <td id=\"T_bd689e80_2b49_11ea_9253_acde48001122row1_col201\" class=\"data row1 col201\" >203000</td>\n",
       "                        <td id=\"T_bd689e80_2b49_11ea_9253_acde48001122row1_col202\" class=\"data row1 col202\" >203000</td>\n",
       "                        <td id=\"T_bd689e80_2b49_11ea_9253_acde48001122row1_col203\" class=\"data row1 col203\" >203000</td>\n",
       "                        <td id=\"T_bd689e80_2b49_11ea_9253_acde48001122row1_col204\" class=\"data row1 col204\" >203100</td>\n",
       "                        <td id=\"T_bd689e80_2b49_11ea_9253_acde48001122row1_col205\" class=\"data row1 col205\" >203500</td>\n",
       "                        <td id=\"T_bd689e80_2b49_11ea_9253_acde48001122row1_col206\" class=\"data row1 col206\" >204600</td>\n",
       "                        <td id=\"T_bd689e80_2b49_11ea_9253_acde48001122row1_col207\" class=\"data row1 col207\" >205600</td>\n",
       "                        <td id=\"T_bd689e80_2b49_11ea_9253_acde48001122row1_col208\" class=\"data row1 col208\" >205900</td>\n",
       "                        <td id=\"T_bd689e80_2b49_11ea_9253_acde48001122row1_col209\" class=\"data row1 col209\" >206900</td>\n",
       "                        <td id=\"T_bd689e80_2b49_11ea_9253_acde48001122row1_col210\" class=\"data row1 col210\" >208500</td>\n",
       "                        <td id=\"T_bd689e80_2b49_11ea_9253_acde48001122row1_col211\" class=\"data row1 col211\" >209800</td>\n",
       "                        <td id=\"T_bd689e80_2b49_11ea_9253_acde48001122row1_col212\" class=\"data row1 col212\" >211300</td>\n",
       "                        <td id=\"T_bd689e80_2b49_11ea_9253_acde48001122row1_col213\" class=\"data row1 col213\" >214000</td>\n",
       "                        <td id=\"T_bd689e80_2b49_11ea_9253_acde48001122row1_col214\" class=\"data row1 col214\" >217200</td>\n",
       "                        <td id=\"T_bd689e80_2b49_11ea_9253_acde48001122row1_col215\" class=\"data row1 col215\" >220600</td>\n",
       "                        <td id=\"T_bd689e80_2b49_11ea_9253_acde48001122row1_col216\" class=\"data row1 col216\" >223800</td>\n",
       "                        <td id=\"T_bd689e80_2b49_11ea_9253_acde48001122row1_col217\" class=\"data row1 col217\" >226500</td>\n",
       "                        <td id=\"T_bd689e80_2b49_11ea_9253_acde48001122row1_col218\" class=\"data row1 col218\" >228600</td>\n",
       "                        <td id=\"T_bd689e80_2b49_11ea_9253_acde48001122row1_col219\" class=\"data row1 col219\" >230400</td>\n",
       "                        <td id=\"T_bd689e80_2b49_11ea_9253_acde48001122row1_col220\" class=\"data row1 col220\" >231800</td>\n",
       "                        <td id=\"T_bd689e80_2b49_11ea_9253_acde48001122row1_col221\" class=\"data row1 col221\" >233000</td>\n",
       "                        <td id=\"T_bd689e80_2b49_11ea_9253_acde48001122row1_col222\" class=\"data row1 col222\" >234200</td>\n",
       "                        <td id=\"T_bd689e80_2b49_11ea_9253_acde48001122row1_col223\" class=\"data row1 col223\" >235400</td>\n",
       "                        <td id=\"T_bd689e80_2b49_11ea_9253_acde48001122row1_col224\" class=\"data row1 col224\" >236600</td>\n",
       "                        <td id=\"T_bd689e80_2b49_11ea_9253_acde48001122row1_col225\" class=\"data row1 col225\" >238500</td>\n",
       "                        <td id=\"T_bd689e80_2b49_11ea_9253_acde48001122row1_col226\" class=\"data row1 col226\" >240500</td>\n",
       "                        <td id=\"T_bd689e80_2b49_11ea_9253_acde48001122row1_col227\" class=\"data row1 col227\" >242600</td>\n",
       "                        <td id=\"T_bd689e80_2b49_11ea_9253_acde48001122row1_col228\" class=\"data row1 col228\" >244700</td>\n",
       "                        <td id=\"T_bd689e80_2b49_11ea_9253_acde48001122row1_col229\" class=\"data row1 col229\" >246300</td>\n",
       "                        <td id=\"T_bd689e80_2b49_11ea_9253_acde48001122row1_col230\" class=\"data row1 col230\" >247600</td>\n",
       "                        <td id=\"T_bd689e80_2b49_11ea_9253_acde48001122row1_col231\" class=\"data row1 col231\" >249600</td>\n",
       "                        <td id=\"T_bd689e80_2b49_11ea_9253_acde48001122row1_col232\" class=\"data row1 col232\" >251400</td>\n",
       "                        <td id=\"T_bd689e80_2b49_11ea_9253_acde48001122row1_col233\" class=\"data row1 col233\" >253000</td>\n",
       "                        <td id=\"T_bd689e80_2b49_11ea_9253_acde48001122row1_col234\" class=\"data row1 col234\" >255200</td>\n",
       "                        <td id=\"T_bd689e80_2b49_11ea_9253_acde48001122row1_col235\" class=\"data row1 col235\" >258000</td>\n",
       "                        <td id=\"T_bd689e80_2b49_11ea_9253_acde48001122row1_col236\" class=\"data row1 col236\" >261200</td>\n",
       "                        <td id=\"T_bd689e80_2b49_11ea_9253_acde48001122row1_col237\" class=\"data row1 col237\" >264700</td>\n",
       "                        <td id=\"T_bd689e80_2b49_11ea_9253_acde48001122row1_col238\" class=\"data row1 col238\" >268400</td>\n",
       "                        <td id=\"T_bd689e80_2b49_11ea_9253_acde48001122row1_col239\" class=\"data row1 col239\" >271400</td>\n",
       "                        <td id=\"T_bd689e80_2b49_11ea_9253_acde48001122row1_col240\" class=\"data row1 col240\" >273600</td>\n",
       "                        <td id=\"T_bd689e80_2b49_11ea_9253_acde48001122row1_col241\" class=\"data row1 col241\" >275200</td>\n",
       "                        <td id=\"T_bd689e80_2b49_11ea_9253_acde48001122row1_col242\" class=\"data row1 col242\" >276400</td>\n",
       "                        <td id=\"T_bd689e80_2b49_11ea_9253_acde48001122row1_col243\" class=\"data row1 col243\" >277000</td>\n",
       "                        <td id=\"T_bd689e80_2b49_11ea_9253_acde48001122row1_col244\" class=\"data row1 col244\" >277900</td>\n",
       "                        <td id=\"T_bd689e80_2b49_11ea_9253_acde48001122row1_col245\" class=\"data row1 col245\" >280000</td>\n",
       "                        <td id=\"T_bd689e80_2b49_11ea_9253_acde48001122row1_col246\" class=\"data row1 col246\" >282600</td>\n",
       "                        <td id=\"T_bd689e80_2b49_11ea_9253_acde48001122row1_col247\" class=\"data row1 col247\" >285400</td>\n",
       "                        <td id=\"T_bd689e80_2b49_11ea_9253_acde48001122row1_col248\" class=\"data row1 col248\" >288400</td>\n",
       "                        <td id=\"T_bd689e80_2b49_11ea_9253_acde48001122row1_col249\" class=\"data row1 col249\" >290800</td>\n",
       "                        <td id=\"T_bd689e80_2b49_11ea_9253_acde48001122row1_col250\" class=\"data row1 col250\" >292000</td>\n",
       "                        <td id=\"T_bd689e80_2b49_11ea_9253_acde48001122row1_col251\" class=\"data row1 col251\" >292800</td>\n",
       "                        <td id=\"T_bd689e80_2b49_11ea_9253_acde48001122row1_col252\" class=\"data row1 col252\" >293700</td>\n",
       "                        <td id=\"T_bd689e80_2b49_11ea_9253_acde48001122row1_col253\" class=\"data row1 col253\" >295200</td>\n",
       "                        <td id=\"T_bd689e80_2b49_11ea_9253_acde48001122row1_col254\" class=\"data row1 col254\" >297000</td>\n",
       "                        <td id=\"T_bd689e80_2b49_11ea_9253_acde48001122row1_col255\" class=\"data row1 col255\" >299000</td>\n",
       "                        <td id=\"T_bd689e80_2b49_11ea_9253_acde48001122row1_col256\" class=\"data row1 col256\" >300800</td>\n",
       "                        <td id=\"T_bd689e80_2b49_11ea_9253_acde48001122row1_col257\" class=\"data row1 col257\" >301800</td>\n",
       "                        <td id=\"T_bd689e80_2b49_11ea_9253_acde48001122row1_col258\" class=\"data row1 col258\" >302800</td>\n",
       "                        <td id=\"T_bd689e80_2b49_11ea_9253_acde48001122row1_col259\" class=\"data row1 col259\" >304400</td>\n",
       "                        <td id=\"T_bd689e80_2b49_11ea_9253_acde48001122row1_col260\" class=\"data row1 col260\" >306200</td>\n",
       "                        <td id=\"T_bd689e80_2b49_11ea_9253_acde48001122row1_col261\" class=\"data row1 col261\" >307000</td>\n",
       "                        <td id=\"T_bd689e80_2b49_11ea_9253_acde48001122row1_col262\" class=\"data row1 col262\" >308000</td>\n",
       "                        <td id=\"T_bd689e80_2b49_11ea_9253_acde48001122row1_col263\" class=\"data row1 col263\" >310000</td>\n",
       "                        <td id=\"T_bd689e80_2b49_11ea_9253_acde48001122row1_col264\" class=\"data row1 col264\" >312500</td>\n",
       "                        <td id=\"T_bd689e80_2b49_11ea_9253_acde48001122row1_col265\" class=\"data row1 col265\" >314100</td>\n",
       "                        <td id=\"T_bd689e80_2b49_11ea_9253_acde48001122row1_col266\" class=\"data row1 col266\" >315000</td>\n",
       "                        <td id=\"T_bd689e80_2b49_11ea_9253_acde48001122row1_col267\" class=\"data row1 col267\" >316600</td>\n",
       "                        <td id=\"T_bd689e80_2b49_11ea_9253_acde48001122row1_col268\" class=\"data row1 col268\" >318100</td>\n",
       "                        <td id=\"T_bd689e80_2b49_11ea_9253_acde48001122row1_col269\" class=\"data row1 col269\" >319600</td>\n",
       "                        <td id=\"T_bd689e80_2b49_11ea_9253_acde48001122row1_col270\" class=\"data row1 col270\" >321100</td>\n",
       "                        <td id=\"T_bd689e80_2b49_11ea_9253_acde48001122row1_col271\" class=\"data row1 col271\" >321800</td>\n",
       "            </tr>\n",
       "            <tr>\n",
       "                        <th id=\"T_bd689e80_2b49_11ea_9253_acde48001122level0_row2\" class=\"row_heading level0 row2\" >2</th>\n",
       "                        <td id=\"T_bd689e80_2b49_11ea_9253_acde48001122row2_col0\" class=\"data row2 col0\" >91982</td>\n",
       "                        <td id=\"T_bd689e80_2b49_11ea_9253_acde48001122row2_col1\" class=\"data row2 col1\" >77494</td>\n",
       "                        <td id=\"T_bd689e80_2b49_11ea_9253_acde48001122row2_col2\" class=\"data row2 col2\" >Katy</td>\n",
       "                        <td id=\"T_bd689e80_2b49_11ea_9253_acde48001122row2_col3\" class=\"data row2 col3\" >TX</td>\n",
       "                        <td id=\"T_bd689e80_2b49_11ea_9253_acde48001122row2_col4\" class=\"data row2 col4\" >Houston</td>\n",
       "                        <td id=\"T_bd689e80_2b49_11ea_9253_acde48001122row2_col5\" class=\"data row2 col5\" >Harris</td>\n",
       "                        <td id=\"T_bd689e80_2b49_11ea_9253_acde48001122row2_col6\" class=\"data row2 col6\" >3</td>\n",
       "                        <td id=\"T_bd689e80_2b49_11ea_9253_acde48001122row2_col7\" class=\"data row2 col7\" >210400</td>\n",
       "                        <td id=\"T_bd689e80_2b49_11ea_9253_acde48001122row2_col8\" class=\"data row2 col8\" >212200</td>\n",
       "                        <td id=\"T_bd689e80_2b49_11ea_9253_acde48001122row2_col9\" class=\"data row2 col9\" >212200</td>\n",
       "                        <td id=\"T_bd689e80_2b49_11ea_9253_acde48001122row2_col10\" class=\"data row2 col10\" >210700</td>\n",
       "                        <td id=\"T_bd689e80_2b49_11ea_9253_acde48001122row2_col11\" class=\"data row2 col11\" >208300</td>\n",
       "                        <td id=\"T_bd689e80_2b49_11ea_9253_acde48001122row2_col12\" class=\"data row2 col12\" >205500</td>\n",
       "                        <td id=\"T_bd689e80_2b49_11ea_9253_acde48001122row2_col13\" class=\"data row2 col13\" >202500</td>\n",
       "                        <td id=\"T_bd689e80_2b49_11ea_9253_acde48001122row2_col14\" class=\"data row2 col14\" >199800</td>\n",
       "                        <td id=\"T_bd689e80_2b49_11ea_9253_acde48001122row2_col15\" class=\"data row2 col15\" >198300</td>\n",
       "                        <td id=\"T_bd689e80_2b49_11ea_9253_acde48001122row2_col16\" class=\"data row2 col16\" >197300</td>\n",
       "                        <td id=\"T_bd689e80_2b49_11ea_9253_acde48001122row2_col17\" class=\"data row2 col17\" >195400</td>\n",
       "                        <td id=\"T_bd689e80_2b49_11ea_9253_acde48001122row2_col18\" class=\"data row2 col18\" >193000</td>\n",
       "                        <td id=\"T_bd689e80_2b49_11ea_9253_acde48001122row2_col19\" class=\"data row2 col19\" >191800</td>\n",
       "                        <td id=\"T_bd689e80_2b49_11ea_9253_acde48001122row2_col20\" class=\"data row2 col20\" >191800</td>\n",
       "                        <td id=\"T_bd689e80_2b49_11ea_9253_acde48001122row2_col21\" class=\"data row2 col21\" >193000</td>\n",
       "                        <td id=\"T_bd689e80_2b49_11ea_9253_acde48001122row2_col22\" class=\"data row2 col22\" >195200</td>\n",
       "                        <td id=\"T_bd689e80_2b49_11ea_9253_acde48001122row2_col23\" class=\"data row2 col23\" >198400</td>\n",
       "                        <td id=\"T_bd689e80_2b49_11ea_9253_acde48001122row2_col24\" class=\"data row2 col24\" >202800</td>\n",
       "                        <td id=\"T_bd689e80_2b49_11ea_9253_acde48001122row2_col25\" class=\"data row2 col25\" >208000</td>\n",
       "                        <td id=\"T_bd689e80_2b49_11ea_9253_acde48001122row2_col26\" class=\"data row2 col26\" >213800</td>\n",
       "                        <td id=\"T_bd689e80_2b49_11ea_9253_acde48001122row2_col27\" class=\"data row2 col27\" >220700</td>\n",
       "                        <td id=\"T_bd689e80_2b49_11ea_9253_acde48001122row2_col28\" class=\"data row2 col28\" >227500</td>\n",
       "                        <td id=\"T_bd689e80_2b49_11ea_9253_acde48001122row2_col29\" class=\"data row2 col29\" >231800</td>\n",
       "                        <td id=\"T_bd689e80_2b49_11ea_9253_acde48001122row2_col30\" class=\"data row2 col30\" >233400</td>\n",
       "                        <td id=\"T_bd689e80_2b49_11ea_9253_acde48001122row2_col31\" class=\"data row2 col31\" >233900</td>\n",
       "                        <td id=\"T_bd689e80_2b49_11ea_9253_acde48001122row2_col32\" class=\"data row2 col32\" >233500</td>\n",
       "                        <td id=\"T_bd689e80_2b49_11ea_9253_acde48001122row2_col33\" class=\"data row2 col33\" >233300</td>\n",
       "                        <td id=\"T_bd689e80_2b49_11ea_9253_acde48001122row2_col34\" class=\"data row2 col34\" >234300</td>\n",
       "                        <td id=\"T_bd689e80_2b49_11ea_9253_acde48001122row2_col35\" class=\"data row2 col35\" >237400</td>\n",
       "                        <td id=\"T_bd689e80_2b49_11ea_9253_acde48001122row2_col36\" class=\"data row2 col36\" >242800</td>\n",
       "                        <td id=\"T_bd689e80_2b49_11ea_9253_acde48001122row2_col37\" class=\"data row2 col37\" >250200</td>\n",
       "                        <td id=\"T_bd689e80_2b49_11ea_9253_acde48001122row2_col38\" class=\"data row2 col38\" >258600</td>\n",
       "                        <td id=\"T_bd689e80_2b49_11ea_9253_acde48001122row2_col39\" class=\"data row2 col39\" >268000</td>\n",
       "                        <td id=\"T_bd689e80_2b49_11ea_9253_acde48001122row2_col40\" class=\"data row2 col40\" >277000</td>\n",
       "                        <td id=\"T_bd689e80_2b49_11ea_9253_acde48001122row2_col41\" class=\"data row2 col41\" >283600</td>\n",
       "                        <td id=\"T_bd689e80_2b49_11ea_9253_acde48001122row2_col42\" class=\"data row2 col42\" >288500</td>\n",
       "                        <td id=\"T_bd689e80_2b49_11ea_9253_acde48001122row2_col43\" class=\"data row2 col43\" >293900</td>\n",
       "                        <td id=\"T_bd689e80_2b49_11ea_9253_acde48001122row2_col44\" class=\"data row2 col44\" >299200</td>\n",
       "                        <td id=\"T_bd689e80_2b49_11ea_9253_acde48001122row2_col45\" class=\"data row2 col45\" >304300</td>\n",
       "                        <td id=\"T_bd689e80_2b49_11ea_9253_acde48001122row2_col46\" class=\"data row2 col46\" >308600</td>\n",
       "                        <td id=\"T_bd689e80_2b49_11ea_9253_acde48001122row2_col47\" class=\"data row2 col47\" >311400</td>\n",
       "                        <td id=\"T_bd689e80_2b49_11ea_9253_acde48001122row2_col48\" class=\"data row2 col48\" >312300</td>\n",
       "                        <td id=\"T_bd689e80_2b49_11ea_9253_acde48001122row2_col49\" class=\"data row2 col49\" >311900</td>\n",
       "                        <td id=\"T_bd689e80_2b49_11ea_9253_acde48001122row2_col50\" class=\"data row2 col50\" >311100</td>\n",
       "                        <td id=\"T_bd689e80_2b49_11ea_9253_acde48001122row2_col51\" class=\"data row2 col51\" >311700</td>\n",
       "                        <td id=\"T_bd689e80_2b49_11ea_9253_acde48001122row2_col52\" class=\"data row2 col52\" >313500</td>\n",
       "                        <td id=\"T_bd689e80_2b49_11ea_9253_acde48001122row2_col53\" class=\"data row2 col53\" >315000</td>\n",
       "                        <td id=\"T_bd689e80_2b49_11ea_9253_acde48001122row2_col54\" class=\"data row2 col54\" >316700</td>\n",
       "                        <td id=\"T_bd689e80_2b49_11ea_9253_acde48001122row2_col55\" class=\"data row2 col55\" >319800</td>\n",
       "                        <td id=\"T_bd689e80_2b49_11ea_9253_acde48001122row2_col56\" class=\"data row2 col56\" >323700</td>\n",
       "                        <td id=\"T_bd689e80_2b49_11ea_9253_acde48001122row2_col57\" class=\"data row2 col57\" >327500</td>\n",
       "                        <td id=\"T_bd689e80_2b49_11ea_9253_acde48001122row2_col58\" class=\"data row2 col58\" >329900</td>\n",
       "                        <td id=\"T_bd689e80_2b49_11ea_9253_acde48001122row2_col59\" class=\"data row2 col59\" >329800</td>\n",
       "                        <td id=\"T_bd689e80_2b49_11ea_9253_acde48001122row2_col60\" class=\"data row2 col60\" >326400</td>\n",
       "                        <td id=\"T_bd689e80_2b49_11ea_9253_acde48001122row2_col61\" class=\"data row2 col61\" >320100</td>\n",
       "                        <td id=\"T_bd689e80_2b49_11ea_9253_acde48001122row2_col62\" class=\"data row2 col62\" >312200</td>\n",
       "                        <td id=\"T_bd689e80_2b49_11ea_9253_acde48001122row2_col63\" class=\"data row2 col63\" >304700</td>\n",
       "                        <td id=\"T_bd689e80_2b49_11ea_9253_acde48001122row2_col64\" class=\"data row2 col64\" >298700</td>\n",
       "                        <td id=\"T_bd689e80_2b49_11ea_9253_acde48001122row2_col65\" class=\"data row2 col65\" >294300</td>\n",
       "                        <td id=\"T_bd689e80_2b49_11ea_9253_acde48001122row2_col66\" class=\"data row2 col66\" >291400</td>\n",
       "                        <td id=\"T_bd689e80_2b49_11ea_9253_acde48001122row2_col67\" class=\"data row2 col67\" >290800</td>\n",
       "                        <td id=\"T_bd689e80_2b49_11ea_9253_acde48001122row2_col68\" class=\"data row2 col68\" >291600</td>\n",
       "                        <td id=\"T_bd689e80_2b49_11ea_9253_acde48001122row2_col69\" class=\"data row2 col69\" >293000</td>\n",
       "                        <td id=\"T_bd689e80_2b49_11ea_9253_acde48001122row2_col70\" class=\"data row2 col70\" >293600</td>\n",
       "                        <td id=\"T_bd689e80_2b49_11ea_9253_acde48001122row2_col71\" class=\"data row2 col71\" >292900</td>\n",
       "                        <td id=\"T_bd689e80_2b49_11ea_9253_acde48001122row2_col72\" class=\"data row2 col72\" >290500</td>\n",
       "                        <td id=\"T_bd689e80_2b49_11ea_9253_acde48001122row2_col73\" class=\"data row2 col73\" >286700</td>\n",
       "                        <td id=\"T_bd689e80_2b49_11ea_9253_acde48001122row2_col74\" class=\"data row2 col74\" >282200</td>\n",
       "                        <td id=\"T_bd689e80_2b49_11ea_9253_acde48001122row2_col75\" class=\"data row2 col75\" >276900</td>\n",
       "                        <td id=\"T_bd689e80_2b49_11ea_9253_acde48001122row2_col76\" class=\"data row2 col76\" >271000</td>\n",
       "                        <td id=\"T_bd689e80_2b49_11ea_9253_acde48001122row2_col77\" class=\"data row2 col77\" >264200</td>\n",
       "                        <td id=\"T_bd689e80_2b49_11ea_9253_acde48001122row2_col78\" class=\"data row2 col78\" >257000</td>\n",
       "                        <td id=\"T_bd689e80_2b49_11ea_9253_acde48001122row2_col79\" class=\"data row2 col79\" >249700</td>\n",
       "                        <td id=\"T_bd689e80_2b49_11ea_9253_acde48001122row2_col80\" class=\"data row2 col80\" >243100</td>\n",
       "                        <td id=\"T_bd689e80_2b49_11ea_9253_acde48001122row2_col81\" class=\"data row2 col81\" >237000</td>\n",
       "                        <td id=\"T_bd689e80_2b49_11ea_9253_acde48001122row2_col82\" class=\"data row2 col82\" >231700</td>\n",
       "                        <td id=\"T_bd689e80_2b49_11ea_9253_acde48001122row2_col83\" class=\"data row2 col83\" >227100</td>\n",
       "                        <td id=\"T_bd689e80_2b49_11ea_9253_acde48001122row2_col84\" class=\"data row2 col84\" >223300</td>\n",
       "                        <td id=\"T_bd689e80_2b49_11ea_9253_acde48001122row2_col85\" class=\"data row2 col85\" >220300</td>\n",
       "                        <td id=\"T_bd689e80_2b49_11ea_9253_acde48001122row2_col86\" class=\"data row2 col86\" >217300</td>\n",
       "                        <td id=\"T_bd689e80_2b49_11ea_9253_acde48001122row2_col87\" class=\"data row2 col87\" >214700</td>\n",
       "                        <td id=\"T_bd689e80_2b49_11ea_9253_acde48001122row2_col88\" class=\"data row2 col88\" >213800</td>\n",
       "                        <td id=\"T_bd689e80_2b49_11ea_9253_acde48001122row2_col89\" class=\"data row2 col89\" >215100</td>\n",
       "                        <td id=\"T_bd689e80_2b49_11ea_9253_acde48001122row2_col90\" class=\"data row2 col90\" >217300</td>\n",
       "                        <td id=\"T_bd689e80_2b49_11ea_9253_acde48001122row2_col91\" class=\"data row2 col91\" >219600</td>\n",
       "                        <td id=\"T_bd689e80_2b49_11ea_9253_acde48001122row2_col92\" class=\"data row2 col92\" >221400</td>\n",
       "                        <td id=\"T_bd689e80_2b49_11ea_9253_acde48001122row2_col93\" class=\"data row2 col93\" >222300</td>\n",
       "                        <td id=\"T_bd689e80_2b49_11ea_9253_acde48001122row2_col94\" class=\"data row2 col94\" >222700</td>\n",
       "                        <td id=\"T_bd689e80_2b49_11ea_9253_acde48001122row2_col95\" class=\"data row2 col95\" >223000</td>\n",
       "                        <td id=\"T_bd689e80_2b49_11ea_9253_acde48001122row2_col96\" class=\"data row2 col96\" >223700</td>\n",
       "                        <td id=\"T_bd689e80_2b49_11ea_9253_acde48001122row2_col97\" class=\"data row2 col97\" >225100</td>\n",
       "                        <td id=\"T_bd689e80_2b49_11ea_9253_acde48001122row2_col98\" class=\"data row2 col98\" >227200</td>\n",
       "                        <td id=\"T_bd689e80_2b49_11ea_9253_acde48001122row2_col99\" class=\"data row2 col99\" >229600</td>\n",
       "                        <td id=\"T_bd689e80_2b49_11ea_9253_acde48001122row2_col100\" class=\"data row2 col100\" >231800</td>\n",
       "                        <td id=\"T_bd689e80_2b49_11ea_9253_acde48001122row2_col101\" class=\"data row2 col101\" >233100</td>\n",
       "                        <td id=\"T_bd689e80_2b49_11ea_9253_acde48001122row2_col102\" class=\"data row2 col102\" >233500</td>\n",
       "                        <td id=\"T_bd689e80_2b49_11ea_9253_acde48001122row2_col103\" class=\"data row2 col103\" >233000</td>\n",
       "                        <td id=\"T_bd689e80_2b49_11ea_9253_acde48001122row2_col104\" class=\"data row2 col104\" >232100</td>\n",
       "                        <td id=\"T_bd689e80_2b49_11ea_9253_acde48001122row2_col105\" class=\"data row2 col105\" >231300</td>\n",
       "                        <td id=\"T_bd689e80_2b49_11ea_9253_acde48001122row2_col106\" class=\"data row2 col106\" >230700</td>\n",
       "                        <td id=\"T_bd689e80_2b49_11ea_9253_acde48001122row2_col107\" class=\"data row2 col107\" >230800</td>\n",
       "                        <td id=\"T_bd689e80_2b49_11ea_9253_acde48001122row2_col108\" class=\"data row2 col108\" >231500</td>\n",
       "                        <td id=\"T_bd689e80_2b49_11ea_9253_acde48001122row2_col109\" class=\"data row2 col109\" >232700</td>\n",
       "                        <td id=\"T_bd689e80_2b49_11ea_9253_acde48001122row2_col110\" class=\"data row2 col110\" >234000</td>\n",
       "                        <td id=\"T_bd689e80_2b49_11ea_9253_acde48001122row2_col111\" class=\"data row2 col111\" >235400</td>\n",
       "                        <td id=\"T_bd689e80_2b49_11ea_9253_acde48001122row2_col112\" class=\"data row2 col112\" >237000</td>\n",
       "                        <td id=\"T_bd689e80_2b49_11ea_9253_acde48001122row2_col113\" class=\"data row2 col113\" >238800</td>\n",
       "                        <td id=\"T_bd689e80_2b49_11ea_9253_acde48001122row2_col114\" class=\"data row2 col114\" >240700</td>\n",
       "                        <td id=\"T_bd689e80_2b49_11ea_9253_acde48001122row2_col115\" class=\"data row2 col115\" >241800</td>\n",
       "                        <td id=\"T_bd689e80_2b49_11ea_9253_acde48001122row2_col116\" class=\"data row2 col116\" >241700</td>\n",
       "                        <td id=\"T_bd689e80_2b49_11ea_9253_acde48001122row2_col117\" class=\"data row2 col117\" >240700</td>\n",
       "                        <td id=\"T_bd689e80_2b49_11ea_9253_acde48001122row2_col118\" class=\"data row2 col118\" >239300</td>\n",
       "                        <td id=\"T_bd689e80_2b49_11ea_9253_acde48001122row2_col119\" class=\"data row2 col119\" >238000</td>\n",
       "                        <td id=\"T_bd689e80_2b49_11ea_9253_acde48001122row2_col120\" class=\"data row2 col120\" >236800</td>\n",
       "                        <td id=\"T_bd689e80_2b49_11ea_9253_acde48001122row2_col121\" class=\"data row2 col121\" >235700</td>\n",
       "                        <td id=\"T_bd689e80_2b49_11ea_9253_acde48001122row2_col122\" class=\"data row2 col122\" >234700</td>\n",
       "                        <td id=\"T_bd689e80_2b49_11ea_9253_acde48001122row2_col123\" class=\"data row2 col123\" >233400</td>\n",
       "                        <td id=\"T_bd689e80_2b49_11ea_9253_acde48001122row2_col124\" class=\"data row2 col124\" >231700</td>\n",
       "                        <td id=\"T_bd689e80_2b49_11ea_9253_acde48001122row2_col125\" class=\"data row2 col125\" >230200</td>\n",
       "                        <td id=\"T_bd689e80_2b49_11ea_9253_acde48001122row2_col126\" class=\"data row2 col126\" >229100</td>\n",
       "                        <td id=\"T_bd689e80_2b49_11ea_9253_acde48001122row2_col127\" class=\"data row2 col127\" >228400</td>\n",
       "                        <td id=\"T_bd689e80_2b49_11ea_9253_acde48001122row2_col128\" class=\"data row2 col128\" >228700</td>\n",
       "                        <td id=\"T_bd689e80_2b49_11ea_9253_acde48001122row2_col129\" class=\"data row2 col129\" >229400</td>\n",
       "                        <td id=\"T_bd689e80_2b49_11ea_9253_acde48001122row2_col130\" class=\"data row2 col130\" >230400</td>\n",
       "                        <td id=\"T_bd689e80_2b49_11ea_9253_acde48001122row2_col131\" class=\"data row2 col131\" >231600</td>\n",
       "                        <td id=\"T_bd689e80_2b49_11ea_9253_acde48001122row2_col132\" class=\"data row2 col132\" >233000</td>\n",
       "                        <td id=\"T_bd689e80_2b49_11ea_9253_acde48001122row2_col133\" class=\"data row2 col133\" >234700</td>\n",
       "                        <td id=\"T_bd689e80_2b49_11ea_9253_acde48001122row2_col134\" class=\"data row2 col134\" >237100</td>\n",
       "                        <td id=\"T_bd689e80_2b49_11ea_9253_acde48001122row2_col135\" class=\"data row2 col135\" >240100</td>\n",
       "                        <td id=\"T_bd689e80_2b49_11ea_9253_acde48001122row2_col136\" class=\"data row2 col136\" >243000</td>\n",
       "                        <td id=\"T_bd689e80_2b49_11ea_9253_acde48001122row2_col137\" class=\"data row2 col137\" >244800</td>\n",
       "                        <td id=\"T_bd689e80_2b49_11ea_9253_acde48001122row2_col138\" class=\"data row2 col138\" >245400</td>\n",
       "                        <td id=\"T_bd689e80_2b49_11ea_9253_acde48001122row2_col139\" class=\"data row2 col139\" >245100</td>\n",
       "                        <td id=\"T_bd689e80_2b49_11ea_9253_acde48001122row2_col140\" class=\"data row2 col140\" >244900</td>\n",
       "                        <td id=\"T_bd689e80_2b49_11ea_9253_acde48001122row2_col141\" class=\"data row2 col141\" >245600</td>\n",
       "                        <td id=\"T_bd689e80_2b49_11ea_9253_acde48001122row2_col142\" class=\"data row2 col142\" >246800</td>\n",
       "                        <td id=\"T_bd689e80_2b49_11ea_9253_acde48001122row2_col143\" class=\"data row2 col143\" >248600</td>\n",
       "                        <td id=\"T_bd689e80_2b49_11ea_9253_acde48001122row2_col144\" class=\"data row2 col144\" >250600</td>\n",
       "                        <td id=\"T_bd689e80_2b49_11ea_9253_acde48001122row2_col145\" class=\"data row2 col145\" >252500</td>\n",
       "                        <td id=\"T_bd689e80_2b49_11ea_9253_acde48001122row2_col146\" class=\"data row2 col146\" >254000</td>\n",
       "                        <td id=\"T_bd689e80_2b49_11ea_9253_acde48001122row2_col147\" class=\"data row2 col147\" >254600</td>\n",
       "                        <td id=\"T_bd689e80_2b49_11ea_9253_acde48001122row2_col148\" class=\"data row2 col148\" >254100</td>\n",
       "                        <td id=\"T_bd689e80_2b49_11ea_9253_acde48001122row2_col149\" class=\"data row2 col149\" >252700</td>\n",
       "                        <td id=\"T_bd689e80_2b49_11ea_9253_acde48001122row2_col150\" class=\"data row2 col150\" >251100</td>\n",
       "                        <td id=\"T_bd689e80_2b49_11ea_9253_acde48001122row2_col151\" class=\"data row2 col151\" >249500</td>\n",
       "                        <td id=\"T_bd689e80_2b49_11ea_9253_acde48001122row2_col152\" class=\"data row2 col152\" >248300</td>\n",
       "                        <td id=\"T_bd689e80_2b49_11ea_9253_acde48001122row2_col153\" class=\"data row2 col153\" >247800</td>\n",
       "                        <td id=\"T_bd689e80_2b49_11ea_9253_acde48001122row2_col154\" class=\"data row2 col154\" >247600</td>\n",
       "                        <td id=\"T_bd689e80_2b49_11ea_9253_acde48001122row2_col155\" class=\"data row2 col155\" >247800</td>\n",
       "                        <td id=\"T_bd689e80_2b49_11ea_9253_acde48001122row2_col156\" class=\"data row2 col156\" >247900</td>\n",
       "                        <td id=\"T_bd689e80_2b49_11ea_9253_acde48001122row2_col157\" class=\"data row2 col157\" >247800</td>\n",
       "                        <td id=\"T_bd689e80_2b49_11ea_9253_acde48001122row2_col158\" class=\"data row2 col158\" >247600</td>\n",
       "                        <td id=\"T_bd689e80_2b49_11ea_9253_acde48001122row2_col159\" class=\"data row2 col159\" >247300</td>\n",
       "                        <td id=\"T_bd689e80_2b49_11ea_9253_acde48001122row2_col160\" class=\"data row2 col160\" >246700</td>\n",
       "                        <td id=\"T_bd689e80_2b49_11ea_9253_acde48001122row2_col161\" class=\"data row2 col161\" >246100</td>\n",
       "                        <td id=\"T_bd689e80_2b49_11ea_9253_acde48001122row2_col162\" class=\"data row2 col162\" >245800</td>\n",
       "                        <td id=\"T_bd689e80_2b49_11ea_9253_acde48001122row2_col163\" class=\"data row2 col163\" >245900</td>\n",
       "                        <td id=\"T_bd689e80_2b49_11ea_9253_acde48001122row2_col164\" class=\"data row2 col164\" >246200</td>\n",
       "                        <td id=\"T_bd689e80_2b49_11ea_9253_acde48001122row2_col165\" class=\"data row2 col165\" >246800</td>\n",
       "                        <td id=\"T_bd689e80_2b49_11ea_9253_acde48001122row2_col166\" class=\"data row2 col166\" >247200</td>\n",
       "                        <td id=\"T_bd689e80_2b49_11ea_9253_acde48001122row2_col167\" class=\"data row2 col167\" >247600</td>\n",
       "                        <td id=\"T_bd689e80_2b49_11ea_9253_acde48001122row2_col168\" class=\"data row2 col168\" >247900</td>\n",
       "                        <td id=\"T_bd689e80_2b49_11ea_9253_acde48001122row2_col169\" class=\"data row2 col169\" >248000</td>\n",
       "                        <td id=\"T_bd689e80_2b49_11ea_9253_acde48001122row2_col170\" class=\"data row2 col170\" >248000</td>\n",
       "                        <td id=\"T_bd689e80_2b49_11ea_9253_acde48001122row2_col171\" class=\"data row2 col171\" >249000</td>\n",
       "                        <td id=\"T_bd689e80_2b49_11ea_9253_acde48001122row2_col172\" class=\"data row2 col172\" >249200</td>\n",
       "                        <td id=\"T_bd689e80_2b49_11ea_9253_acde48001122row2_col173\" class=\"data row2 col173\" >247800</td>\n",
       "                        <td id=\"T_bd689e80_2b49_11ea_9253_acde48001122row2_col174\" class=\"data row2 col174\" >248100</td>\n",
       "                        <td id=\"T_bd689e80_2b49_11ea_9253_acde48001122row2_col175\" class=\"data row2 col175\" >250800</td>\n",
       "                        <td id=\"T_bd689e80_2b49_11ea_9253_acde48001122row2_col176\" class=\"data row2 col176\" >251700</td>\n",
       "                        <td id=\"T_bd689e80_2b49_11ea_9253_acde48001122row2_col177\" class=\"data row2 col177\" >251200</td>\n",
       "                        <td id=\"T_bd689e80_2b49_11ea_9253_acde48001122row2_col178\" class=\"data row2 col178\" >251100</td>\n",
       "                        <td id=\"T_bd689e80_2b49_11ea_9253_acde48001122row2_col179\" class=\"data row2 col179\" >250500</td>\n",
       "                        <td id=\"T_bd689e80_2b49_11ea_9253_acde48001122row2_col180\" class=\"data row2 col180\" >250000</td>\n",
       "                        <td id=\"T_bd689e80_2b49_11ea_9253_acde48001122row2_col181\" class=\"data row2 col181\" >249900</td>\n",
       "                        <td id=\"T_bd689e80_2b49_11ea_9253_acde48001122row2_col182\" class=\"data row2 col182\" >249700</td>\n",
       "                        <td id=\"T_bd689e80_2b49_11ea_9253_acde48001122row2_col183\" class=\"data row2 col183\" >247900</td>\n",
       "                        <td id=\"T_bd689e80_2b49_11ea_9253_acde48001122row2_col184\" class=\"data row2 col184\" >247400</td>\n",
       "                        <td id=\"T_bd689e80_2b49_11ea_9253_acde48001122row2_col185\" class=\"data row2 col185\" >248800</td>\n",
       "                        <td id=\"T_bd689e80_2b49_11ea_9253_acde48001122row2_col186\" class=\"data row2 col186\" >249700</td>\n",
       "                        <td id=\"T_bd689e80_2b49_11ea_9253_acde48001122row2_col187\" class=\"data row2 col187\" >249100</td>\n",
       "                        <td id=\"T_bd689e80_2b49_11ea_9253_acde48001122row2_col188\" class=\"data row2 col188\" >249200</td>\n",
       "                        <td id=\"T_bd689e80_2b49_11ea_9253_acde48001122row2_col189\" class=\"data row2 col189\" >249500</td>\n",
       "                        <td id=\"T_bd689e80_2b49_11ea_9253_acde48001122row2_col190\" class=\"data row2 col190\" >249400</td>\n",
       "                        <td id=\"T_bd689e80_2b49_11ea_9253_acde48001122row2_col191\" class=\"data row2 col191\" >249400</td>\n",
       "                        <td id=\"T_bd689e80_2b49_11ea_9253_acde48001122row2_col192\" class=\"data row2 col192\" >248900</td>\n",
       "                        <td id=\"T_bd689e80_2b49_11ea_9253_acde48001122row2_col193\" class=\"data row2 col193\" >248000</td>\n",
       "                        <td id=\"T_bd689e80_2b49_11ea_9253_acde48001122row2_col194\" class=\"data row2 col194\" >247100</td>\n",
       "                        <td id=\"T_bd689e80_2b49_11ea_9253_acde48001122row2_col195\" class=\"data row2 col195\" >246800</td>\n",
       "                        <td id=\"T_bd689e80_2b49_11ea_9253_acde48001122row2_col196\" class=\"data row2 col196\" >248600</td>\n",
       "                        <td id=\"T_bd689e80_2b49_11ea_9253_acde48001122row2_col197\" class=\"data row2 col197\" >251600</td>\n",
       "                        <td id=\"T_bd689e80_2b49_11ea_9253_acde48001122row2_col198\" class=\"data row2 col198\" >252800</td>\n",
       "                        <td id=\"T_bd689e80_2b49_11ea_9253_acde48001122row2_col199\" class=\"data row2 col199\" >252400</td>\n",
       "                        <td id=\"T_bd689e80_2b49_11ea_9253_acde48001122row2_col200\" class=\"data row2 col200\" >252600</td>\n",
       "                        <td id=\"T_bd689e80_2b49_11ea_9253_acde48001122row2_col201\" class=\"data row2 col201\" >252700</td>\n",
       "                        <td id=\"T_bd689e80_2b49_11ea_9253_acde48001122row2_col202\" class=\"data row2 col202\" >252300</td>\n",
       "                        <td id=\"T_bd689e80_2b49_11ea_9253_acde48001122row2_col203\" class=\"data row2 col203\" >252500</td>\n",
       "                        <td id=\"T_bd689e80_2b49_11ea_9253_acde48001122row2_col204\" class=\"data row2 col204\" >253400</td>\n",
       "                        <td id=\"T_bd689e80_2b49_11ea_9253_acde48001122row2_col205\" class=\"data row2 col205\" >254200</td>\n",
       "                        <td id=\"T_bd689e80_2b49_11ea_9253_acde48001122row2_col206\" class=\"data row2 col206\" >255200</td>\n",
       "                        <td id=\"T_bd689e80_2b49_11ea_9253_acde48001122row2_col207\" class=\"data row2 col207\" >256400</td>\n",
       "                        <td id=\"T_bd689e80_2b49_11ea_9253_acde48001122row2_col208\" class=\"data row2 col208\" >256900</td>\n",
       "                        <td id=\"T_bd689e80_2b49_11ea_9253_acde48001122row2_col209\" class=\"data row2 col209\" >256800</td>\n",
       "                        <td id=\"T_bd689e80_2b49_11ea_9253_acde48001122row2_col210\" class=\"data row2 col210\" >256700</td>\n",
       "                        <td id=\"T_bd689e80_2b49_11ea_9253_acde48001122row2_col211\" class=\"data row2 col211\" >257100</td>\n",
       "                        <td id=\"T_bd689e80_2b49_11ea_9253_acde48001122row2_col212\" class=\"data row2 col212\" >258300</td>\n",
       "                        <td id=\"T_bd689e80_2b49_11ea_9253_acde48001122row2_col213\" class=\"data row2 col213\" >260700</td>\n",
       "                        <td id=\"T_bd689e80_2b49_11ea_9253_acde48001122row2_col214\" class=\"data row2 col214\" >263900</td>\n",
       "                        <td id=\"T_bd689e80_2b49_11ea_9253_acde48001122row2_col215\" class=\"data row2 col215\" >267000</td>\n",
       "                        <td id=\"T_bd689e80_2b49_11ea_9253_acde48001122row2_col216\" class=\"data row2 col216\" >269200</td>\n",
       "                        <td id=\"T_bd689e80_2b49_11ea_9253_acde48001122row2_col217\" class=\"data row2 col217\" >271000</td>\n",
       "                        <td id=\"T_bd689e80_2b49_11ea_9253_acde48001122row2_col218\" class=\"data row2 col218\" >273100</td>\n",
       "                        <td id=\"T_bd689e80_2b49_11ea_9253_acde48001122row2_col219\" class=\"data row2 col219\" >275600</td>\n",
       "                        <td id=\"T_bd689e80_2b49_11ea_9253_acde48001122row2_col220\" class=\"data row2 col220\" >277600</td>\n",
       "                        <td id=\"T_bd689e80_2b49_11ea_9253_acde48001122row2_col221\" class=\"data row2 col221\" >279800</td>\n",
       "                        <td id=\"T_bd689e80_2b49_11ea_9253_acde48001122row2_col222\" class=\"data row2 col222\" >282100</td>\n",
       "                        <td id=\"T_bd689e80_2b49_11ea_9253_acde48001122row2_col223\" class=\"data row2 col223\" >284200</td>\n",
       "                        <td id=\"T_bd689e80_2b49_11ea_9253_acde48001122row2_col224\" class=\"data row2 col224\" >286000</td>\n",
       "                        <td id=\"T_bd689e80_2b49_11ea_9253_acde48001122row2_col225\" class=\"data row2 col225\" >288300</td>\n",
       "                        <td id=\"T_bd689e80_2b49_11ea_9253_acde48001122row2_col226\" class=\"data row2 col226\" >290700</td>\n",
       "                        <td id=\"T_bd689e80_2b49_11ea_9253_acde48001122row2_col227\" class=\"data row2 col227\" >293300</td>\n",
       "                        <td id=\"T_bd689e80_2b49_11ea_9253_acde48001122row2_col228\" class=\"data row2 col228\" >295900</td>\n",
       "                        <td id=\"T_bd689e80_2b49_11ea_9253_acde48001122row2_col229\" class=\"data row2 col229\" >298300</td>\n",
       "                        <td id=\"T_bd689e80_2b49_11ea_9253_acde48001122row2_col230\" class=\"data row2 col230\" >300200</td>\n",
       "                        <td id=\"T_bd689e80_2b49_11ea_9253_acde48001122row2_col231\" class=\"data row2 col231\" >301300</td>\n",
       "                        <td id=\"T_bd689e80_2b49_11ea_9253_acde48001122row2_col232\" class=\"data row2 col232\" >301700</td>\n",
       "                        <td id=\"T_bd689e80_2b49_11ea_9253_acde48001122row2_col233\" class=\"data row2 col233\" >302400</td>\n",
       "                        <td id=\"T_bd689e80_2b49_11ea_9253_acde48001122row2_col234\" class=\"data row2 col234\" >303600</td>\n",
       "                        <td id=\"T_bd689e80_2b49_11ea_9253_acde48001122row2_col235\" class=\"data row2 col235\" >306200</td>\n",
       "                        <td id=\"T_bd689e80_2b49_11ea_9253_acde48001122row2_col236\" class=\"data row2 col236\" >309100</td>\n",
       "                        <td id=\"T_bd689e80_2b49_11ea_9253_acde48001122row2_col237\" class=\"data row2 col237\" >311900</td>\n",
       "                        <td id=\"T_bd689e80_2b49_11ea_9253_acde48001122row2_col238\" class=\"data row2 col238\" >314100</td>\n",
       "                        <td id=\"T_bd689e80_2b49_11ea_9253_acde48001122row2_col239\" class=\"data row2 col239\" >316300</td>\n",
       "                        <td id=\"T_bd689e80_2b49_11ea_9253_acde48001122row2_col240\" class=\"data row2 col240\" >319000</td>\n",
       "                        <td id=\"T_bd689e80_2b49_11ea_9253_acde48001122row2_col241\" class=\"data row2 col241\" >322000</td>\n",
       "                        <td id=\"T_bd689e80_2b49_11ea_9253_acde48001122row2_col242\" class=\"data row2 col242\" >324300</td>\n",
       "                        <td id=\"T_bd689e80_2b49_11ea_9253_acde48001122row2_col243\" class=\"data row2 col243\" >326100</td>\n",
       "                        <td id=\"T_bd689e80_2b49_11ea_9253_acde48001122row2_col244\" class=\"data row2 col244\" >327300</td>\n",
       "                        <td id=\"T_bd689e80_2b49_11ea_9253_acde48001122row2_col245\" class=\"data row2 col245\" >327000</td>\n",
       "                        <td id=\"T_bd689e80_2b49_11ea_9253_acde48001122row2_col246\" class=\"data row2 col246\" >327200</td>\n",
       "                        <td id=\"T_bd689e80_2b49_11ea_9253_acde48001122row2_col247\" class=\"data row2 col247\" >328500</td>\n",
       "                        <td id=\"T_bd689e80_2b49_11ea_9253_acde48001122row2_col248\" class=\"data row2 col248\" >329800</td>\n",
       "                        <td id=\"T_bd689e80_2b49_11ea_9253_acde48001122row2_col249\" class=\"data row2 col249\" >330000</td>\n",
       "                        <td id=\"T_bd689e80_2b49_11ea_9253_acde48001122row2_col250\" class=\"data row2 col250\" >329000</td>\n",
       "                        <td id=\"T_bd689e80_2b49_11ea_9253_acde48001122row2_col251\" class=\"data row2 col251\" >327800</td>\n",
       "                        <td id=\"T_bd689e80_2b49_11ea_9253_acde48001122row2_col252\" class=\"data row2 col252\" >326700</td>\n",
       "                        <td id=\"T_bd689e80_2b49_11ea_9253_acde48001122row2_col253\" class=\"data row2 col253\" >325500</td>\n",
       "                        <td id=\"T_bd689e80_2b49_11ea_9253_acde48001122row2_col254\" class=\"data row2 col254\" >324700</td>\n",
       "                        <td id=\"T_bd689e80_2b49_11ea_9253_acde48001122row2_col255\" class=\"data row2 col255\" >324500</td>\n",
       "                        <td id=\"T_bd689e80_2b49_11ea_9253_acde48001122row2_col256\" class=\"data row2 col256\" >323700</td>\n",
       "                        <td id=\"T_bd689e80_2b49_11ea_9253_acde48001122row2_col257\" class=\"data row2 col257\" >322300</td>\n",
       "                        <td id=\"T_bd689e80_2b49_11ea_9253_acde48001122row2_col258\" class=\"data row2 col258\" >320700</td>\n",
       "                        <td id=\"T_bd689e80_2b49_11ea_9253_acde48001122row2_col259\" class=\"data row2 col259\" >320000</td>\n",
       "                        <td id=\"T_bd689e80_2b49_11ea_9253_acde48001122row2_col260\" class=\"data row2 col260\" >320000</td>\n",
       "                        <td id=\"T_bd689e80_2b49_11ea_9253_acde48001122row2_col261\" class=\"data row2 col261\" >320900</td>\n",
       "                        <td id=\"T_bd689e80_2b49_11ea_9253_acde48001122row2_col262\" class=\"data row2 col262\" >321000</td>\n",
       "                        <td id=\"T_bd689e80_2b49_11ea_9253_acde48001122row2_col263\" class=\"data row2 col263\" >320600</td>\n",
       "                        <td id=\"T_bd689e80_2b49_11ea_9253_acde48001122row2_col264\" class=\"data row2 col264\" >320200</td>\n",
       "                        <td id=\"T_bd689e80_2b49_11ea_9253_acde48001122row2_col265\" class=\"data row2 col265\" >320400</td>\n",
       "                        <td id=\"T_bd689e80_2b49_11ea_9253_acde48001122row2_col266\" class=\"data row2 col266\" >320800</td>\n",
       "                        <td id=\"T_bd689e80_2b49_11ea_9253_acde48001122row2_col267\" class=\"data row2 col267\" >321200</td>\n",
       "                        <td id=\"T_bd689e80_2b49_11ea_9253_acde48001122row2_col268\" class=\"data row2 col268\" >321200</td>\n",
       "                        <td id=\"T_bd689e80_2b49_11ea_9253_acde48001122row2_col269\" class=\"data row2 col269\" >323000</td>\n",
       "                        <td id=\"T_bd689e80_2b49_11ea_9253_acde48001122row2_col270\" class=\"data row2 col270\" >326900</td>\n",
       "                        <td id=\"T_bd689e80_2b49_11ea_9253_acde48001122row2_col271\" class=\"data row2 col271\" >329900</td>\n",
       "            </tr>\n",
       "            <tr>\n",
       "                        <th id=\"T_bd689e80_2b49_11ea_9253_acde48001122level0_row3\" class=\"row_heading level0 row3\" >3</th>\n",
       "                        <td id=\"T_bd689e80_2b49_11ea_9253_acde48001122row3_col0\" class=\"data row3 col0\" >84616</td>\n",
       "                        <td id=\"T_bd689e80_2b49_11ea_9253_acde48001122row3_col1\" class=\"data row3 col1\" >60614</td>\n",
       "                        <td id=\"T_bd689e80_2b49_11ea_9253_acde48001122row3_col2\" class=\"data row3 col2\" >Chicago</td>\n",
       "                        <td id=\"T_bd689e80_2b49_11ea_9253_acde48001122row3_col3\" class=\"data row3 col3\" >IL</td>\n",
       "                        <td id=\"T_bd689e80_2b49_11ea_9253_acde48001122row3_col4\" class=\"data row3 col4\" >Chicago</td>\n",
       "                        <td id=\"T_bd689e80_2b49_11ea_9253_acde48001122row3_col5\" class=\"data row3 col5\" >Cook</td>\n",
       "                        <td id=\"T_bd689e80_2b49_11ea_9253_acde48001122row3_col6\" class=\"data row3 col6\" >4</td>\n",
       "                        <td id=\"T_bd689e80_2b49_11ea_9253_acde48001122row3_col7\" class=\"data row3 col7\" >498100</td>\n",
       "                        <td id=\"T_bd689e80_2b49_11ea_9253_acde48001122row3_col8\" class=\"data row3 col8\" >500900</td>\n",
       "                        <td id=\"T_bd689e80_2b49_11ea_9253_acde48001122row3_col9\" class=\"data row3 col9\" >503100</td>\n",
       "                        <td id=\"T_bd689e80_2b49_11ea_9253_acde48001122row3_col10\" class=\"data row3 col10\" >504600</td>\n",
       "                        <td id=\"T_bd689e80_2b49_11ea_9253_acde48001122row3_col11\" class=\"data row3 col11\" >505500</td>\n",
       "                        <td id=\"T_bd689e80_2b49_11ea_9253_acde48001122row3_col12\" class=\"data row3 col12\" >505700</td>\n",
       "                        <td id=\"T_bd689e80_2b49_11ea_9253_acde48001122row3_col13\" class=\"data row3 col13\" >505300</td>\n",
       "                        <td id=\"T_bd689e80_2b49_11ea_9253_acde48001122row3_col14\" class=\"data row3 col14\" >504200</td>\n",
       "                        <td id=\"T_bd689e80_2b49_11ea_9253_acde48001122row3_col15\" class=\"data row3 col15\" >503600</td>\n",
       "                        <td id=\"T_bd689e80_2b49_11ea_9253_acde48001122row3_col16\" class=\"data row3 col16\" >503400</td>\n",
       "                        <td id=\"T_bd689e80_2b49_11ea_9253_acde48001122row3_col17\" class=\"data row3 col17\" >502200</td>\n",
       "                        <td id=\"T_bd689e80_2b49_11ea_9253_acde48001122row3_col18\" class=\"data row3 col18\" >500000</td>\n",
       "                        <td id=\"T_bd689e80_2b49_11ea_9253_acde48001122row3_col19\" class=\"data row3 col19\" >497900</td>\n",
       "                        <td id=\"T_bd689e80_2b49_11ea_9253_acde48001122row3_col20\" class=\"data row3 col20\" >496300</td>\n",
       "                        <td id=\"T_bd689e80_2b49_11ea_9253_acde48001122row3_col21\" class=\"data row3 col21\" >495200</td>\n",
       "                        <td id=\"T_bd689e80_2b49_11ea_9253_acde48001122row3_col22\" class=\"data row3 col22\" >494700</td>\n",
       "                        <td id=\"T_bd689e80_2b49_11ea_9253_acde48001122row3_col23\" class=\"data row3 col23\" >494900</td>\n",
       "                        <td id=\"T_bd689e80_2b49_11ea_9253_acde48001122row3_col24\" class=\"data row3 col24\" >496200</td>\n",
       "                        <td id=\"T_bd689e80_2b49_11ea_9253_acde48001122row3_col25\" class=\"data row3 col25\" >498600</td>\n",
       "                        <td id=\"T_bd689e80_2b49_11ea_9253_acde48001122row3_col26\" class=\"data row3 col26\" >502000</td>\n",
       "                        <td id=\"T_bd689e80_2b49_11ea_9253_acde48001122row3_col27\" class=\"data row3 col27\" >507600</td>\n",
       "                        <td id=\"T_bd689e80_2b49_11ea_9253_acde48001122row3_col28\" class=\"data row3 col28\" >514900</td>\n",
       "                        <td id=\"T_bd689e80_2b49_11ea_9253_acde48001122row3_col29\" class=\"data row3 col29\" >522200</td>\n",
       "                        <td id=\"T_bd689e80_2b49_11ea_9253_acde48001122row3_col30\" class=\"data row3 col30\" >529500</td>\n",
       "                        <td id=\"T_bd689e80_2b49_11ea_9253_acde48001122row3_col31\" class=\"data row3 col31\" >537900</td>\n",
       "                        <td id=\"T_bd689e80_2b49_11ea_9253_acde48001122row3_col32\" class=\"data row3 col32\" >546900</td>\n",
       "                        <td id=\"T_bd689e80_2b49_11ea_9253_acde48001122row3_col33\" class=\"data row3 col33\" >556400</td>\n",
       "                        <td id=\"T_bd689e80_2b49_11ea_9253_acde48001122row3_col34\" class=\"data row3 col34\" >566100</td>\n",
       "                        <td id=\"T_bd689e80_2b49_11ea_9253_acde48001122row3_col35\" class=\"data row3 col35\" >575600</td>\n",
       "                        <td id=\"T_bd689e80_2b49_11ea_9253_acde48001122row3_col36\" class=\"data row3 col36\" >584800</td>\n",
       "                        <td id=\"T_bd689e80_2b49_11ea_9253_acde48001122row3_col37\" class=\"data row3 col37\" >593500</td>\n",
       "                        <td id=\"T_bd689e80_2b49_11ea_9253_acde48001122row3_col38\" class=\"data row3 col38\" >601600</td>\n",
       "                        <td id=\"T_bd689e80_2b49_11ea_9253_acde48001122row3_col39\" class=\"data row3 col39\" >610100</td>\n",
       "                        <td id=\"T_bd689e80_2b49_11ea_9253_acde48001122row3_col40\" class=\"data row3 col40\" >618600</td>\n",
       "                        <td id=\"T_bd689e80_2b49_11ea_9253_acde48001122row3_col41\" class=\"data row3 col41\" >625600</td>\n",
       "                        <td id=\"T_bd689e80_2b49_11ea_9253_acde48001122row3_col42\" class=\"data row3 col42\" >631100</td>\n",
       "                        <td id=\"T_bd689e80_2b49_11ea_9253_acde48001122row3_col43\" class=\"data row3 col43\" >636600</td>\n",
       "                        <td id=\"T_bd689e80_2b49_11ea_9253_acde48001122row3_col44\" class=\"data row3 col44\" >642100</td>\n",
       "                        <td id=\"T_bd689e80_2b49_11ea_9253_acde48001122row3_col45\" class=\"data row3 col45\" >647600</td>\n",
       "                        <td id=\"T_bd689e80_2b49_11ea_9253_acde48001122row3_col46\" class=\"data row3 col46\" >653300</td>\n",
       "                        <td id=\"T_bd689e80_2b49_11ea_9253_acde48001122row3_col47\" class=\"data row3 col47\" >659300</td>\n",
       "                        <td id=\"T_bd689e80_2b49_11ea_9253_acde48001122row3_col48\" class=\"data row3 col48\" >665800</td>\n",
       "                        <td id=\"T_bd689e80_2b49_11ea_9253_acde48001122row3_col49\" class=\"data row3 col49\" >672900</td>\n",
       "                        <td id=\"T_bd689e80_2b49_11ea_9253_acde48001122row3_col50\" class=\"data row3 col50\" >680500</td>\n",
       "                        <td id=\"T_bd689e80_2b49_11ea_9253_acde48001122row3_col51\" class=\"data row3 col51\" >689600</td>\n",
       "                        <td id=\"T_bd689e80_2b49_11ea_9253_acde48001122row3_col52\" class=\"data row3 col52\" >699700</td>\n",
       "                        <td id=\"T_bd689e80_2b49_11ea_9253_acde48001122row3_col53\" class=\"data row3 col53\" >709300</td>\n",
       "                        <td id=\"T_bd689e80_2b49_11ea_9253_acde48001122row3_col54\" class=\"data row3 col54\" >718300</td>\n",
       "                        <td id=\"T_bd689e80_2b49_11ea_9253_acde48001122row3_col55\" class=\"data row3 col55\" >727600</td>\n",
       "                        <td id=\"T_bd689e80_2b49_11ea_9253_acde48001122row3_col56\" class=\"data row3 col56\" >737100</td>\n",
       "                        <td id=\"T_bd689e80_2b49_11ea_9253_acde48001122row3_col57\" class=\"data row3 col57\" >746600</td>\n",
       "                        <td id=\"T_bd689e80_2b49_11ea_9253_acde48001122row3_col58\" class=\"data row3 col58\" >756200</td>\n",
       "                        <td id=\"T_bd689e80_2b49_11ea_9253_acde48001122row3_col59\" class=\"data row3 col59\" >765800</td>\n",
       "                        <td id=\"T_bd689e80_2b49_11ea_9253_acde48001122row3_col60\" class=\"data row3 col60\" >775100</td>\n",
       "                        <td id=\"T_bd689e80_2b49_11ea_9253_acde48001122row3_col61\" class=\"data row3 col61\" >784400</td>\n",
       "                        <td id=\"T_bd689e80_2b49_11ea_9253_acde48001122row3_col62\" class=\"data row3 col62\" >793500</td>\n",
       "                        <td id=\"T_bd689e80_2b49_11ea_9253_acde48001122row3_col63\" class=\"data row3 col63\" >803000</td>\n",
       "                        <td id=\"T_bd689e80_2b49_11ea_9253_acde48001122row3_col64\" class=\"data row3 col64\" >812500</td>\n",
       "                        <td id=\"T_bd689e80_2b49_11ea_9253_acde48001122row3_col65\" class=\"data row3 col65\" >821200</td>\n",
       "                        <td id=\"T_bd689e80_2b49_11ea_9253_acde48001122row3_col66\" class=\"data row3 col66\" >829200</td>\n",
       "                        <td id=\"T_bd689e80_2b49_11ea_9253_acde48001122row3_col67\" class=\"data row3 col67\" >837000</td>\n",
       "                        <td id=\"T_bd689e80_2b49_11ea_9253_acde48001122row3_col68\" class=\"data row3 col68\" >844400</td>\n",
       "                        <td id=\"T_bd689e80_2b49_11ea_9253_acde48001122row3_col69\" class=\"data row3 col69\" >851600</td>\n",
       "                        <td id=\"T_bd689e80_2b49_11ea_9253_acde48001122row3_col70\" class=\"data row3 col70\" >858600</td>\n",
       "                        <td id=\"T_bd689e80_2b49_11ea_9253_acde48001122row3_col71\" class=\"data row3 col71\" >865300</td>\n",
       "                        <td id=\"T_bd689e80_2b49_11ea_9253_acde48001122row3_col72\" class=\"data row3 col72\" >871800</td>\n",
       "                        <td id=\"T_bd689e80_2b49_11ea_9253_acde48001122row3_col73\" class=\"data row3 col73\" >878200</td>\n",
       "                        <td id=\"T_bd689e80_2b49_11ea_9253_acde48001122row3_col74\" class=\"data row3 col74\" >884700</td>\n",
       "                        <td id=\"T_bd689e80_2b49_11ea_9253_acde48001122row3_col75\" class=\"data row3 col75\" >891300</td>\n",
       "                        <td id=\"T_bd689e80_2b49_11ea_9253_acde48001122row3_col76\" class=\"data row3 col76\" >898000</td>\n",
       "                        <td id=\"T_bd689e80_2b49_11ea_9253_acde48001122row3_col77\" class=\"data row3 col77\" >904700</td>\n",
       "                        <td id=\"T_bd689e80_2b49_11ea_9253_acde48001122row3_col78\" class=\"data row3 col78\" >911200</td>\n",
       "                        <td id=\"T_bd689e80_2b49_11ea_9253_acde48001122row3_col79\" class=\"data row3 col79\" >917600</td>\n",
       "                        <td id=\"T_bd689e80_2b49_11ea_9253_acde48001122row3_col80\" class=\"data row3 col80\" >923800</td>\n",
       "                        <td id=\"T_bd689e80_2b49_11ea_9253_acde48001122row3_col81\" class=\"data row3 col81\" >929800</td>\n",
       "                        <td id=\"T_bd689e80_2b49_11ea_9253_acde48001122row3_col82\" class=\"data row3 col82\" >935700</td>\n",
       "                        <td id=\"T_bd689e80_2b49_11ea_9253_acde48001122row3_col83\" class=\"data row3 col83\" >941400</td>\n",
       "                        <td id=\"T_bd689e80_2b49_11ea_9253_acde48001122row3_col84\" class=\"data row3 col84\" >947100</td>\n",
       "                        <td id=\"T_bd689e80_2b49_11ea_9253_acde48001122row3_col85\" class=\"data row3 col85\" >952800</td>\n",
       "                        <td id=\"T_bd689e80_2b49_11ea_9253_acde48001122row3_col86\" class=\"data row3 col86\" >958900</td>\n",
       "                        <td id=\"T_bd689e80_2b49_11ea_9253_acde48001122row3_col87\" class=\"data row3 col87\" >965100</td>\n",
       "                        <td id=\"T_bd689e80_2b49_11ea_9253_acde48001122row3_col88\" class=\"data row3 col88\" >971000</td>\n",
       "                        <td id=\"T_bd689e80_2b49_11ea_9253_acde48001122row3_col89\" class=\"data row3 col89\" >976400</td>\n",
       "                        <td id=\"T_bd689e80_2b49_11ea_9253_acde48001122row3_col90\" class=\"data row3 col90\" >981400</td>\n",
       "                        <td id=\"T_bd689e80_2b49_11ea_9253_acde48001122row3_col91\" class=\"data row3 col91\" >985700</td>\n",
       "                        <td id=\"T_bd689e80_2b49_11ea_9253_acde48001122row3_col92\" class=\"data row3 col92\" >989400</td>\n",
       "                        <td id=\"T_bd689e80_2b49_11ea_9253_acde48001122row3_col93\" class=\"data row3 col93\" >992900</td>\n",
       "                        <td id=\"T_bd689e80_2b49_11ea_9253_acde48001122row3_col94\" class=\"data row3 col94\" >996800</td>\n",
       "                        <td id=\"T_bd689e80_2b49_11ea_9253_acde48001122row3_col95\" class=\"data row3 col95\" >1.0008e+06</td>\n",
       "                        <td id=\"T_bd689e80_2b49_11ea_9253_acde48001122row3_col96\" class=\"data row3 col96\" >1.0046e+06</td>\n",
       "                        <td id=\"T_bd689e80_2b49_11ea_9253_acde48001122row3_col97\" class=\"data row3 col97\" >1.008e+06</td>\n",
       "                        <td id=\"T_bd689e80_2b49_11ea_9253_acde48001122row3_col98\" class=\"data row3 col98\" >1.0106e+06</td>\n",
       "                        <td id=\"T_bd689e80_2b49_11ea_9253_acde48001122row3_col99\" class=\"data row3 col99\" >1.0126e+06</td>\n",
       "                        <td id=\"T_bd689e80_2b49_11ea_9253_acde48001122row3_col100\" class=\"data row3 col100\" >1.0145e+06</td>\n",
       "                        <td id=\"T_bd689e80_2b49_11ea_9253_acde48001122row3_col101\" class=\"data row3 col101\" >1.017e+06</td>\n",
       "                        <td id=\"T_bd689e80_2b49_11ea_9253_acde48001122row3_col102\" class=\"data row3 col102\" >1.0205e+06</td>\n",
       "                        <td id=\"T_bd689e80_2b49_11ea_9253_acde48001122row3_col103\" class=\"data row3 col103\" >1.0249e+06</td>\n",
       "                        <td id=\"T_bd689e80_2b49_11ea_9253_acde48001122row3_col104\" class=\"data row3 col104\" >1.0298e+06</td>\n",
       "                        <td id=\"T_bd689e80_2b49_11ea_9253_acde48001122row3_col105\" class=\"data row3 col105\" >1.0351e+06</td>\n",
       "                        <td id=\"T_bd689e80_2b49_11ea_9253_acde48001122row3_col106\" class=\"data row3 col106\" >1.0405e+06</td>\n",
       "                        <td id=\"T_bd689e80_2b49_11ea_9253_acde48001122row3_col107\" class=\"data row3 col107\" >1.046e+06</td>\n",
       "                        <td id=\"T_bd689e80_2b49_11ea_9253_acde48001122row3_col108\" class=\"data row3 col108\" >1.0521e+06</td>\n",
       "                        <td id=\"T_bd689e80_2b49_11ea_9253_acde48001122row3_col109\" class=\"data row3 col109\" >1.0586e+06</td>\n",
       "                        <td id=\"T_bd689e80_2b49_11ea_9253_acde48001122row3_col110\" class=\"data row3 col110\" >1.065e+06</td>\n",
       "                        <td id=\"T_bd689e80_2b49_11ea_9253_acde48001122row3_col111\" class=\"data row3 col111\" >1.0719e+06</td>\n",
       "                        <td id=\"T_bd689e80_2b49_11ea_9253_acde48001122row3_col112\" class=\"data row3 col112\" >1.079e+06</td>\n",
       "                        <td id=\"T_bd689e80_2b49_11ea_9253_acde48001122row3_col113\" class=\"data row3 col113\" >1.086e+06</td>\n",
       "                        <td id=\"T_bd689e80_2b49_11ea_9253_acde48001122row3_col114\" class=\"data row3 col114\" >1.0931e+06</td>\n",
       "                        <td id=\"T_bd689e80_2b49_11ea_9253_acde48001122row3_col115\" class=\"data row3 col115\" >1.1005e+06</td>\n",
       "                        <td id=\"T_bd689e80_2b49_11ea_9253_acde48001122row3_col116\" class=\"data row3 col116\" >1.1074e+06</td>\n",
       "                        <td id=\"T_bd689e80_2b49_11ea_9253_acde48001122row3_col117\" class=\"data row3 col117\" >1.1135e+06</td>\n",
       "                        <td id=\"T_bd689e80_2b49_11ea_9253_acde48001122row3_col118\" class=\"data row3 col118\" >1.1188e+06</td>\n",
       "                        <td id=\"T_bd689e80_2b49_11ea_9253_acde48001122row3_col119\" class=\"data row3 col119\" >1.1237e+06</td>\n",
       "                        <td id=\"T_bd689e80_2b49_11ea_9253_acde48001122row3_col120\" class=\"data row3 col120\" >1.1292e+06</td>\n",
       "                        <td id=\"T_bd689e80_2b49_11ea_9253_acde48001122row3_col121\" class=\"data row3 col121\" >1.1354e+06</td>\n",
       "                        <td id=\"T_bd689e80_2b49_11ea_9253_acde48001122row3_col122\" class=\"data row3 col122\" >1.1419e+06</td>\n",
       "                        <td id=\"T_bd689e80_2b49_11ea_9253_acde48001122row3_col123\" class=\"data row3 col123\" >1.148e+06</td>\n",
       "                        <td id=\"T_bd689e80_2b49_11ea_9253_acde48001122row3_col124\" class=\"data row3 col124\" >1.1528e+06</td>\n",
       "                        <td id=\"T_bd689e80_2b49_11ea_9253_acde48001122row3_col125\" class=\"data row3 col125\" >1.1559e+06</td>\n",
       "                        <td id=\"T_bd689e80_2b49_11ea_9253_acde48001122row3_col126\" class=\"data row3 col126\" >1.1579e+06</td>\n",
       "                        <td id=\"T_bd689e80_2b49_11ea_9253_acde48001122row3_col127\" class=\"data row3 col127\" >1.1595e+06</td>\n",
       "                        <td id=\"T_bd689e80_2b49_11ea_9253_acde48001122row3_col128\" class=\"data row3 col128\" >1.161e+06</td>\n",
       "                        <td id=\"T_bd689e80_2b49_11ea_9253_acde48001122row3_col129\" class=\"data row3 col129\" >1.1628e+06</td>\n",
       "                        <td id=\"T_bd689e80_2b49_11ea_9253_acde48001122row3_col130\" class=\"data row3 col130\" >1.1653e+06</td>\n",
       "                        <td id=\"T_bd689e80_2b49_11ea_9253_acde48001122row3_col131\" class=\"data row3 col131\" >1.1681e+06</td>\n",
       "                        <td id=\"T_bd689e80_2b49_11ea_9253_acde48001122row3_col132\" class=\"data row3 col132\" >1.1713e+06</td>\n",
       "                        <td id=\"T_bd689e80_2b49_11ea_9253_acde48001122row3_col133\" class=\"data row3 col133\" >1.1744e+06</td>\n",
       "                        <td id=\"T_bd689e80_2b49_11ea_9253_acde48001122row3_col134\" class=\"data row3 col134\" >1.1767e+06</td>\n",
       "                        <td id=\"T_bd689e80_2b49_11ea_9253_acde48001122row3_col135\" class=\"data row3 col135\" >1.1784e+06</td>\n",
       "                        <td id=\"T_bd689e80_2b49_11ea_9253_acde48001122row3_col136\" class=\"data row3 col136\" >1.1799e+06</td>\n",
       "                        <td id=\"T_bd689e80_2b49_11ea_9253_acde48001122row3_col137\" class=\"data row3 col137\" >1.1811e+06</td>\n",
       "                        <td id=\"T_bd689e80_2b49_11ea_9253_acde48001122row3_col138\" class=\"data row3 col138\" >1.1828e+06</td>\n",
       "                        <td id=\"T_bd689e80_2b49_11ea_9253_acde48001122row3_col139\" class=\"data row3 col139\" >1.1848e+06</td>\n",
       "                        <td id=\"T_bd689e80_2b49_11ea_9253_acde48001122row3_col140\" class=\"data row3 col140\" >1.1853e+06</td>\n",
       "                        <td id=\"T_bd689e80_2b49_11ea_9253_acde48001122row3_col141\" class=\"data row3 col141\" >1.1837e+06</td>\n",
       "                        <td id=\"T_bd689e80_2b49_11ea_9253_acde48001122row3_col142\" class=\"data row3 col142\" >1.181e+06</td>\n",
       "                        <td id=\"T_bd689e80_2b49_11ea_9253_acde48001122row3_col143\" class=\"data row3 col143\" >1.1779e+06</td>\n",
       "                        <td id=\"T_bd689e80_2b49_11ea_9253_acde48001122row3_col144\" class=\"data row3 col144\" >1.1754e+06</td>\n",
       "                        <td id=\"T_bd689e80_2b49_11ea_9253_acde48001122row3_col145\" class=\"data row3 col145\" >1.1738e+06</td>\n",
       "                        <td id=\"T_bd689e80_2b49_11ea_9253_acde48001122row3_col146\" class=\"data row3 col146\" >1.1717e+06</td>\n",
       "                        <td id=\"T_bd689e80_2b49_11ea_9253_acde48001122row3_col147\" class=\"data row3 col147\" >1.1679e+06</td>\n",
       "                        <td id=\"T_bd689e80_2b49_11ea_9253_acde48001122row3_col148\" class=\"data row3 col148\" >1.163e+06</td>\n",
       "                        <td id=\"T_bd689e80_2b49_11ea_9253_acde48001122row3_col149\" class=\"data row3 col149\" >1.157e+06</td>\n",
       "                        <td id=\"T_bd689e80_2b49_11ea_9253_acde48001122row3_col150\" class=\"data row3 col150\" >1.1508e+06</td>\n",
       "                        <td id=\"T_bd689e80_2b49_11ea_9253_acde48001122row3_col151\" class=\"data row3 col151\" >1.1441e+06</td>\n",
       "                        <td id=\"T_bd689e80_2b49_11ea_9253_acde48001122row3_col152\" class=\"data row3 col152\" >1.1356e+06</td>\n",
       "                        <td id=\"T_bd689e80_2b49_11ea_9253_acde48001122row3_col153\" class=\"data row3 col153\" >1.1254e+06</td>\n",
       "                        <td id=\"T_bd689e80_2b49_11ea_9253_acde48001122row3_col154\" class=\"data row3 col154\" >1.1139e+06</td>\n",
       "                        <td id=\"T_bd689e80_2b49_11ea_9253_acde48001122row3_col155\" class=\"data row3 col155\" >1.102e+06</td>\n",
       "                        <td id=\"T_bd689e80_2b49_11ea_9253_acde48001122row3_col156\" class=\"data row3 col156\" >1.0919e+06</td>\n",
       "                        <td id=\"T_bd689e80_2b49_11ea_9253_acde48001122row3_col157\" class=\"data row3 col157\" >1.0851e+06</td>\n",
       "                        <td id=\"T_bd689e80_2b49_11ea_9253_acde48001122row3_col158\" class=\"data row3 col158\" >1.0792e+06</td>\n",
       "                        <td id=\"T_bd689e80_2b49_11ea_9253_acde48001122row3_col159\" class=\"data row3 col159\" >1.0724e+06</td>\n",
       "                        <td id=\"T_bd689e80_2b49_11ea_9253_acde48001122row3_col160\" class=\"data row3 col160\" >1.0654e+06</td>\n",
       "                        <td id=\"T_bd689e80_2b49_11ea_9253_acde48001122row3_col161\" class=\"data row3 col161\" >1.0578e+06</td>\n",
       "                        <td id=\"T_bd689e80_2b49_11ea_9253_acde48001122row3_col162\" class=\"data row3 col162\" >1.0489e+06</td>\n",
       "                        <td id=\"T_bd689e80_2b49_11ea_9253_acde48001122row3_col163\" class=\"data row3 col163\" >1.0379e+06</td>\n",
       "                        <td id=\"T_bd689e80_2b49_11ea_9253_acde48001122row3_col164\" class=\"data row3 col164\" >1.0243e+06</td>\n",
       "                        <td id=\"T_bd689e80_2b49_11ea_9253_acde48001122row3_col165\" class=\"data row3 col165\" >1.0102e+06</td>\n",
       "                        <td id=\"T_bd689e80_2b49_11ea_9253_acde48001122row3_col166\" class=\"data row3 col166\" >999000</td>\n",
       "                        <td id=\"T_bd689e80_2b49_11ea_9253_acde48001122row3_col167\" class=\"data row3 col167\" >990900</td>\n",
       "                        <td id=\"T_bd689e80_2b49_11ea_9253_acde48001122row3_col168\" class=\"data row3 col168\" >985400</td>\n",
       "                        <td id=\"T_bd689e80_2b49_11ea_9253_acde48001122row3_col169\" class=\"data row3 col169\" >983200</td>\n",
       "                        <td id=\"T_bd689e80_2b49_11ea_9253_acde48001122row3_col170\" class=\"data row3 col170\" >982400</td>\n",
       "                        <td id=\"T_bd689e80_2b49_11ea_9253_acde48001122row3_col171\" class=\"data row3 col171\" >982400</td>\n",
       "                        <td id=\"T_bd689e80_2b49_11ea_9253_acde48001122row3_col172\" class=\"data row3 col172\" >984100</td>\n",
       "                        <td id=\"T_bd689e80_2b49_11ea_9253_acde48001122row3_col173\" class=\"data row3 col173\" >987100</td>\n",
       "                        <td id=\"T_bd689e80_2b49_11ea_9253_acde48001122row3_col174\" class=\"data row3 col174\" >985000</td>\n",
       "                        <td id=\"T_bd689e80_2b49_11ea_9253_acde48001122row3_col175\" class=\"data row3 col175\" >977400</td>\n",
       "                        <td id=\"T_bd689e80_2b49_11ea_9253_acde48001122row3_col176\" class=\"data row3 col176\" >973300</td>\n",
       "                        <td id=\"T_bd689e80_2b49_11ea_9253_acde48001122row3_col177\" class=\"data row3 col177\" >973700</td>\n",
       "                        <td id=\"T_bd689e80_2b49_11ea_9253_acde48001122row3_col178\" class=\"data row3 col178\" >971700</td>\n",
       "                        <td id=\"T_bd689e80_2b49_11ea_9253_acde48001122row3_col179\" class=\"data row3 col179\" >965300</td>\n",
       "                        <td id=\"T_bd689e80_2b49_11ea_9253_acde48001122row3_col180\" class=\"data row3 col180\" >955400</td>\n",
       "                        <td id=\"T_bd689e80_2b49_11ea_9253_acde48001122row3_col181\" class=\"data row3 col181\" >943600</td>\n",
       "                        <td id=\"T_bd689e80_2b49_11ea_9253_acde48001122row3_col182\" class=\"data row3 col182\" >933700</td>\n",
       "                        <td id=\"T_bd689e80_2b49_11ea_9253_acde48001122row3_col183\" class=\"data row3 col183\" >925200</td>\n",
       "                        <td id=\"T_bd689e80_2b49_11ea_9253_acde48001122row3_col184\" class=\"data row3 col184\" >923000</td>\n",
       "                        <td id=\"T_bd689e80_2b49_11ea_9253_acde48001122row3_col185\" class=\"data row3 col185\" >925000</td>\n",
       "                        <td id=\"T_bd689e80_2b49_11ea_9253_acde48001122row3_col186\" class=\"data row3 col186\" >923300</td>\n",
       "                        <td id=\"T_bd689e80_2b49_11ea_9253_acde48001122row3_col187\" class=\"data row3 col187\" >916600</td>\n",
       "                        <td id=\"T_bd689e80_2b49_11ea_9253_acde48001122row3_col188\" class=\"data row3 col188\" >912400</td>\n",
       "                        <td id=\"T_bd689e80_2b49_11ea_9253_acde48001122row3_col189\" class=\"data row3 col189\" >910400</td>\n",
       "                        <td id=\"T_bd689e80_2b49_11ea_9253_acde48001122row3_col190\" class=\"data row3 col190\" >911900</td>\n",
       "                        <td id=\"T_bd689e80_2b49_11ea_9253_acde48001122row3_col191\" class=\"data row3 col191\" >918300</td>\n",
       "                        <td id=\"T_bd689e80_2b49_11ea_9253_acde48001122row3_col192\" class=\"data row3 col192\" >923500</td>\n",
       "                        <td id=\"T_bd689e80_2b49_11ea_9253_acde48001122row3_col193\" class=\"data row3 col193\" >923600</td>\n",
       "                        <td id=\"T_bd689e80_2b49_11ea_9253_acde48001122row3_col194\" class=\"data row3 col194\" >922900</td>\n",
       "                        <td id=\"T_bd689e80_2b49_11ea_9253_acde48001122row3_col195\" class=\"data row3 col195\" >928300</td>\n",
       "                        <td id=\"T_bd689e80_2b49_11ea_9253_acde48001122row3_col196\" class=\"data row3 col196\" >928900</td>\n",
       "                        <td id=\"T_bd689e80_2b49_11ea_9253_acde48001122row3_col197\" class=\"data row3 col197\" >923900</td>\n",
       "                        <td id=\"T_bd689e80_2b49_11ea_9253_acde48001122row3_col198\" class=\"data row3 col198\" >925300</td>\n",
       "                        <td id=\"T_bd689e80_2b49_11ea_9253_acde48001122row3_col199\" class=\"data row3 col199\" >938100</td>\n",
       "                        <td id=\"T_bd689e80_2b49_11ea_9253_acde48001122row3_col200\" class=\"data row3 col200\" >951900</td>\n",
       "                        <td id=\"T_bd689e80_2b49_11ea_9253_acde48001122row3_col201\" class=\"data row3 col201\" >965400</td>\n",
       "                        <td id=\"T_bd689e80_2b49_11ea_9253_acde48001122row3_col202\" class=\"data row3 col202\" >975900</td>\n",
       "                        <td id=\"T_bd689e80_2b49_11ea_9253_acde48001122row3_col203\" class=\"data row3 col203\" >984500</td>\n",
       "                        <td id=\"T_bd689e80_2b49_11ea_9253_acde48001122row3_col204\" class=\"data row3 col204\" >994100</td>\n",
       "                        <td id=\"T_bd689e80_2b49_11ea_9253_acde48001122row3_col205\" class=\"data row3 col205\" >1.0014e+06</td>\n",
       "                        <td id=\"T_bd689e80_2b49_11ea_9253_acde48001122row3_col206\" class=\"data row3 col206\" >1.0031e+06</td>\n",
       "                        <td id=\"T_bd689e80_2b49_11ea_9253_acde48001122row3_col207\" class=\"data row3 col207\" >1.0027e+06</td>\n",
       "                        <td id=\"T_bd689e80_2b49_11ea_9253_acde48001122row3_col208\" class=\"data row3 col208\" >1.0063e+06</td>\n",
       "                        <td id=\"T_bd689e80_2b49_11ea_9253_acde48001122row3_col209\" class=\"data row3 col209\" >1.0137e+06</td>\n",
       "                        <td id=\"T_bd689e80_2b49_11ea_9253_acde48001122row3_col210\" class=\"data row3 col210\" >1.0248e+06</td>\n",
       "                        <td id=\"T_bd689e80_2b49_11ea_9253_acde48001122row3_col211\" class=\"data row3 col211\" >1.0383e+06</td>\n",
       "                        <td id=\"T_bd689e80_2b49_11ea_9253_acde48001122row3_col212\" class=\"data row3 col212\" >1.0539e+06</td>\n",
       "                        <td id=\"T_bd689e80_2b49_11ea_9253_acde48001122row3_col213\" class=\"data row3 col213\" >1.0706e+06</td>\n",
       "                        <td id=\"T_bd689e80_2b49_11ea_9253_acde48001122row3_col214\" class=\"data row3 col214\" >1.0899e+06</td>\n",
       "                        <td id=\"T_bd689e80_2b49_11ea_9253_acde48001122row3_col215\" class=\"data row3 col215\" >1.1081e+06</td>\n",
       "                        <td id=\"T_bd689e80_2b49_11ea_9253_acde48001122row3_col216\" class=\"data row3 col216\" >1.1237e+06</td>\n",
       "                        <td id=\"T_bd689e80_2b49_11ea_9253_acde48001122row3_col217\" class=\"data row3 col217\" >1.1351e+06</td>\n",
       "                        <td id=\"T_bd689e80_2b49_11ea_9253_acde48001122row3_col218\" class=\"data row3 col218\" >1.141e+06</td>\n",
       "                        <td id=\"T_bd689e80_2b49_11ea_9253_acde48001122row3_col219\" class=\"data row3 col219\" >1.1439e+06</td>\n",
       "                        <td id=\"T_bd689e80_2b49_11ea_9253_acde48001122row3_col220\" class=\"data row3 col220\" >1.1458e+06</td>\n",
       "                        <td id=\"T_bd689e80_2b49_11ea_9253_acde48001122row3_col221\" class=\"data row3 col221\" >1.1475e+06</td>\n",
       "                        <td id=\"T_bd689e80_2b49_11ea_9253_acde48001122row3_col222\" class=\"data row3 col222\" >1.1499e+06</td>\n",
       "                        <td id=\"T_bd689e80_2b49_11ea_9253_acde48001122row3_col223\" class=\"data row3 col223\" >1.1552e+06</td>\n",
       "                        <td id=\"T_bd689e80_2b49_11ea_9253_acde48001122row3_col224\" class=\"data row3 col224\" >1.1601e+06</td>\n",
       "                        <td id=\"T_bd689e80_2b49_11ea_9253_acde48001122row3_col225\" class=\"data row3 col225\" >1.1633e+06</td>\n",
       "                        <td id=\"T_bd689e80_2b49_11ea_9253_acde48001122row3_col226\" class=\"data row3 col226\" >1167700</td>\n",
       "                        <td id=\"T_bd689e80_2b49_11ea_9253_acde48001122row3_col227\" class=\"data row3 col227\" >1173900</td>\n",
       "                        <td id=\"T_bd689e80_2b49_11ea_9253_acde48001122row3_col228\" class=\"data row3 col228\" >1175100</td>\n",
       "                        <td id=\"T_bd689e80_2b49_11ea_9253_acde48001122row3_col229\" class=\"data row3 col229\" >1173500</td>\n",
       "                        <td id=\"T_bd689e80_2b49_11ea_9253_acde48001122row3_col230\" class=\"data row3 col230\" >1175500</td>\n",
       "                        <td id=\"T_bd689e80_2b49_11ea_9253_acde48001122row3_col231\" class=\"data row3 col231\" >1178500</td>\n",
       "                        <td id=\"T_bd689e80_2b49_11ea_9253_acde48001122row3_col232\" class=\"data row3 col232\" >1176400</td>\n",
       "                        <td id=\"T_bd689e80_2b49_11ea_9253_acde48001122row3_col233\" class=\"data row3 col233\" >1174600</td>\n",
       "                        <td id=\"T_bd689e80_2b49_11ea_9253_acde48001122row3_col234\" class=\"data row3 col234\" >1178500</td>\n",
       "                        <td id=\"T_bd689e80_2b49_11ea_9253_acde48001122row3_col235\" class=\"data row3 col235\" >1185700</td>\n",
       "                        <td id=\"T_bd689e80_2b49_11ea_9253_acde48001122row3_col236\" class=\"data row3 col236\" >1192900</td>\n",
       "                        <td id=\"T_bd689e80_2b49_11ea_9253_acde48001122row3_col237\" class=\"data row3 col237\" >1198800</td>\n",
       "                        <td id=\"T_bd689e80_2b49_11ea_9253_acde48001122row3_col238\" class=\"data row3 col238\" >1200400</td>\n",
       "                        <td id=\"T_bd689e80_2b49_11ea_9253_acde48001122row3_col239\" class=\"data row3 col239\" >1198900</td>\n",
       "                        <td id=\"T_bd689e80_2b49_11ea_9253_acde48001122row3_col240\" class=\"data row3 col240\" >1200200</td>\n",
       "                        <td id=\"T_bd689e80_2b49_11ea_9253_acde48001122row3_col241\" class=\"data row3 col241\" >1207400</td>\n",
       "                        <td id=\"T_bd689e80_2b49_11ea_9253_acde48001122row3_col242\" class=\"data row3 col242\" >1218600</td>\n",
       "                        <td id=\"T_bd689e80_2b49_11ea_9253_acde48001122row3_col243\" class=\"data row3 col243\" >1226600</td>\n",
       "                        <td id=\"T_bd689e80_2b49_11ea_9253_acde48001122row3_col244\" class=\"data row3 col244\" >1230700</td>\n",
       "                        <td id=\"T_bd689e80_2b49_11ea_9253_acde48001122row3_col245\" class=\"data row3 col245\" >1235400</td>\n",
       "                        <td id=\"T_bd689e80_2b49_11ea_9253_acde48001122row3_col246\" class=\"data row3 col246\" >1241300</td>\n",
       "                        <td id=\"T_bd689e80_2b49_11ea_9253_acde48001122row3_col247\" class=\"data row3 col247\" >1245700</td>\n",
       "                        <td id=\"T_bd689e80_2b49_11ea_9253_acde48001122row3_col248\" class=\"data row3 col248\" >1247000</td>\n",
       "                        <td id=\"T_bd689e80_2b49_11ea_9253_acde48001122row3_col249\" class=\"data row3 col249\" >1246700</td>\n",
       "                        <td id=\"T_bd689e80_2b49_11ea_9253_acde48001122row3_col250\" class=\"data row3 col250\" >1245700</td>\n",
       "                        <td id=\"T_bd689e80_2b49_11ea_9253_acde48001122row3_col251\" class=\"data row3 col251\" >1246000</td>\n",
       "                        <td id=\"T_bd689e80_2b49_11ea_9253_acde48001122row3_col252\" class=\"data row3 col252\" >1247700</td>\n",
       "                        <td id=\"T_bd689e80_2b49_11ea_9253_acde48001122row3_col253\" class=\"data row3 col253\" >1252900</td>\n",
       "                        <td id=\"T_bd689e80_2b49_11ea_9253_acde48001122row3_col254\" class=\"data row3 col254\" >1260900</td>\n",
       "                        <td id=\"T_bd689e80_2b49_11ea_9253_acde48001122row3_col255\" class=\"data row3 col255\" >1267900</td>\n",
       "                        <td id=\"T_bd689e80_2b49_11ea_9253_acde48001122row3_col256\" class=\"data row3 col256\" >1272600</td>\n",
       "                        <td id=\"T_bd689e80_2b49_11ea_9253_acde48001122row3_col257\" class=\"data row3 col257\" >1276600</td>\n",
       "                        <td id=\"T_bd689e80_2b49_11ea_9253_acde48001122row3_col258\" class=\"data row3 col258\" >1280300</td>\n",
       "                        <td id=\"T_bd689e80_2b49_11ea_9253_acde48001122row3_col259\" class=\"data row3 col259\" >1282500</td>\n",
       "                        <td id=\"T_bd689e80_2b49_11ea_9253_acde48001122row3_col260\" class=\"data row3 col260\" >1286000</td>\n",
       "                        <td id=\"T_bd689e80_2b49_11ea_9253_acde48001122row3_col261\" class=\"data row3 col261\" >1289000</td>\n",
       "                        <td id=\"T_bd689e80_2b49_11ea_9253_acde48001122row3_col262\" class=\"data row3 col262\" >1289800</td>\n",
       "                        <td id=\"T_bd689e80_2b49_11ea_9253_acde48001122row3_col263\" class=\"data row3 col263\" >1287700</td>\n",
       "                        <td id=\"T_bd689e80_2b49_11ea_9253_acde48001122row3_col264\" class=\"data row3 col264\" >1287400</td>\n",
       "                        <td id=\"T_bd689e80_2b49_11ea_9253_acde48001122row3_col265\" class=\"data row3 col265\" >1291500</td>\n",
       "                        <td id=\"T_bd689e80_2b49_11ea_9253_acde48001122row3_col266\" class=\"data row3 col266\" >1296600</td>\n",
       "                        <td id=\"T_bd689e80_2b49_11ea_9253_acde48001122row3_col267\" class=\"data row3 col267\" >1299000</td>\n",
       "                        <td id=\"T_bd689e80_2b49_11ea_9253_acde48001122row3_col268\" class=\"data row3 col268\" >1302700</td>\n",
       "                        <td id=\"T_bd689e80_2b49_11ea_9253_acde48001122row3_col269\" class=\"data row3 col269\" >1306400</td>\n",
       "                        <td id=\"T_bd689e80_2b49_11ea_9253_acde48001122row3_col270\" class=\"data row3 col270\" >1308500</td>\n",
       "                        <td id=\"T_bd689e80_2b49_11ea_9253_acde48001122row3_col271\" class=\"data row3 col271\" >1307000</td>\n",
       "            </tr>\n",
       "            <tr>\n",
       "                        <th id=\"T_bd689e80_2b49_11ea_9253_acde48001122level0_row4\" class=\"row_heading level0 row4\" >4</th>\n",
       "                        <td id=\"T_bd689e80_2b49_11ea_9253_acde48001122row4_col0\" class=\"data row4 col0\" >93144</td>\n",
       "                        <td id=\"T_bd689e80_2b49_11ea_9253_acde48001122row4_col1\" class=\"data row4 col1\" >79936</td>\n",
       "                        <td id=\"T_bd689e80_2b49_11ea_9253_acde48001122row4_col2\" class=\"data row4 col2\" >El Paso</td>\n",
       "                        <td id=\"T_bd689e80_2b49_11ea_9253_acde48001122row4_col3\" class=\"data row4 col3\" >TX</td>\n",
       "                        <td id=\"T_bd689e80_2b49_11ea_9253_acde48001122row4_col4\" class=\"data row4 col4\" >El Paso</td>\n",
       "                        <td id=\"T_bd689e80_2b49_11ea_9253_acde48001122row4_col5\" class=\"data row4 col5\" >El Paso</td>\n",
       "                        <td id=\"T_bd689e80_2b49_11ea_9253_acde48001122row4_col6\" class=\"data row4 col6\" >5</td>\n",
       "                        <td id=\"T_bd689e80_2b49_11ea_9253_acde48001122row4_col7\" class=\"data row4 col7\" >77300</td>\n",
       "                        <td id=\"T_bd689e80_2b49_11ea_9253_acde48001122row4_col8\" class=\"data row4 col8\" >77300</td>\n",
       "                        <td id=\"T_bd689e80_2b49_11ea_9253_acde48001122row4_col9\" class=\"data row4 col9\" >77300</td>\n",
       "                        <td id=\"T_bd689e80_2b49_11ea_9253_acde48001122row4_col10\" class=\"data row4 col10\" >77300</td>\n",
       "                        <td id=\"T_bd689e80_2b49_11ea_9253_acde48001122row4_col11\" class=\"data row4 col11\" >77400</td>\n",
       "                        <td id=\"T_bd689e80_2b49_11ea_9253_acde48001122row4_col12\" class=\"data row4 col12\" >77500</td>\n",
       "                        <td id=\"T_bd689e80_2b49_11ea_9253_acde48001122row4_col13\" class=\"data row4 col13\" >77600</td>\n",
       "                        <td id=\"T_bd689e80_2b49_11ea_9253_acde48001122row4_col14\" class=\"data row4 col14\" >77700</td>\n",
       "                        <td id=\"T_bd689e80_2b49_11ea_9253_acde48001122row4_col15\" class=\"data row4 col15\" >77700</td>\n",
       "                        <td id=\"T_bd689e80_2b49_11ea_9253_acde48001122row4_col16\" class=\"data row4 col16\" >77800</td>\n",
       "                        <td id=\"T_bd689e80_2b49_11ea_9253_acde48001122row4_col17\" class=\"data row4 col17\" >77900</td>\n",
       "                        <td id=\"T_bd689e80_2b49_11ea_9253_acde48001122row4_col18\" class=\"data row4 col18\" >77900</td>\n",
       "                        <td id=\"T_bd689e80_2b49_11ea_9253_acde48001122row4_col19\" class=\"data row4 col19\" >77800</td>\n",
       "                        <td id=\"T_bd689e80_2b49_11ea_9253_acde48001122row4_col20\" class=\"data row4 col20\" >77800</td>\n",
       "                        <td id=\"T_bd689e80_2b49_11ea_9253_acde48001122row4_col21\" class=\"data row4 col21\" >77800</td>\n",
       "                        <td id=\"T_bd689e80_2b49_11ea_9253_acde48001122row4_col22\" class=\"data row4 col22\" >77800</td>\n",
       "                        <td id=\"T_bd689e80_2b49_11ea_9253_acde48001122row4_col23\" class=\"data row4 col23\" >77800</td>\n",
       "                        <td id=\"T_bd689e80_2b49_11ea_9253_acde48001122row4_col24\" class=\"data row4 col24\" >77900</td>\n",
       "                        <td id=\"T_bd689e80_2b49_11ea_9253_acde48001122row4_col25\" class=\"data row4 col25\" >78100</td>\n",
       "                        <td id=\"T_bd689e80_2b49_11ea_9253_acde48001122row4_col26\" class=\"data row4 col26\" >78200</td>\n",
       "                        <td id=\"T_bd689e80_2b49_11ea_9253_acde48001122row4_col27\" class=\"data row4 col27\" >78400</td>\n",
       "                        <td id=\"T_bd689e80_2b49_11ea_9253_acde48001122row4_col28\" class=\"data row4 col28\" >78600</td>\n",
       "                        <td id=\"T_bd689e80_2b49_11ea_9253_acde48001122row4_col29\" class=\"data row4 col29\" >78800</td>\n",
       "                        <td id=\"T_bd689e80_2b49_11ea_9253_acde48001122row4_col30\" class=\"data row4 col30\" >79000</td>\n",
       "                        <td id=\"T_bd689e80_2b49_11ea_9253_acde48001122row4_col31\" class=\"data row4 col31\" >79100</td>\n",
       "                        <td id=\"T_bd689e80_2b49_11ea_9253_acde48001122row4_col32\" class=\"data row4 col32\" >79200</td>\n",
       "                        <td id=\"T_bd689e80_2b49_11ea_9253_acde48001122row4_col33\" class=\"data row4 col33\" >79300</td>\n",
       "                        <td id=\"T_bd689e80_2b49_11ea_9253_acde48001122row4_col34\" class=\"data row4 col34\" >79300</td>\n",
       "                        <td id=\"T_bd689e80_2b49_11ea_9253_acde48001122row4_col35\" class=\"data row4 col35\" >79300</td>\n",
       "                        <td id=\"T_bd689e80_2b49_11ea_9253_acde48001122row4_col36\" class=\"data row4 col36\" >79400</td>\n",
       "                        <td id=\"T_bd689e80_2b49_11ea_9253_acde48001122row4_col37\" class=\"data row4 col37\" >79500</td>\n",
       "                        <td id=\"T_bd689e80_2b49_11ea_9253_acde48001122row4_col38\" class=\"data row4 col38\" >79500</td>\n",
       "                        <td id=\"T_bd689e80_2b49_11ea_9253_acde48001122row4_col39\" class=\"data row4 col39\" >79600</td>\n",
       "                        <td id=\"T_bd689e80_2b49_11ea_9253_acde48001122row4_col40\" class=\"data row4 col40\" >79700</td>\n",
       "                        <td id=\"T_bd689e80_2b49_11ea_9253_acde48001122row4_col41\" class=\"data row4 col41\" >79900</td>\n",
       "                        <td id=\"T_bd689e80_2b49_11ea_9253_acde48001122row4_col42\" class=\"data row4 col42\" >80100</td>\n",
       "                        <td id=\"T_bd689e80_2b49_11ea_9253_acde48001122row4_col43\" class=\"data row4 col43\" >80300</td>\n",
       "                        <td id=\"T_bd689e80_2b49_11ea_9253_acde48001122row4_col44\" class=\"data row4 col44\" >80600</td>\n",
       "                        <td id=\"T_bd689e80_2b49_11ea_9253_acde48001122row4_col45\" class=\"data row4 col45\" >80900</td>\n",
       "                        <td id=\"T_bd689e80_2b49_11ea_9253_acde48001122row4_col46\" class=\"data row4 col46\" >81200</td>\n",
       "                        <td id=\"T_bd689e80_2b49_11ea_9253_acde48001122row4_col47\" class=\"data row4 col47\" >81400</td>\n",
       "                        <td id=\"T_bd689e80_2b49_11ea_9253_acde48001122row4_col48\" class=\"data row4 col48\" >81700</td>\n",
       "                        <td id=\"T_bd689e80_2b49_11ea_9253_acde48001122row4_col49\" class=\"data row4 col49\" >82100</td>\n",
       "                        <td id=\"T_bd689e80_2b49_11ea_9253_acde48001122row4_col50\" class=\"data row4 col50\" >82400</td>\n",
       "                        <td id=\"T_bd689e80_2b49_11ea_9253_acde48001122row4_col51\" class=\"data row4 col51\" >82600</td>\n",
       "                        <td id=\"T_bd689e80_2b49_11ea_9253_acde48001122row4_col52\" class=\"data row4 col52\" >82800</td>\n",
       "                        <td id=\"T_bd689e80_2b49_11ea_9253_acde48001122row4_col53\" class=\"data row4 col53\" >82900</td>\n",
       "                        <td id=\"T_bd689e80_2b49_11ea_9253_acde48001122row4_col54\" class=\"data row4 col54\" >83000</td>\n",
       "                        <td id=\"T_bd689e80_2b49_11ea_9253_acde48001122row4_col55\" class=\"data row4 col55\" >83000</td>\n",
       "                        <td id=\"T_bd689e80_2b49_11ea_9253_acde48001122row4_col56\" class=\"data row4 col56\" >82900</td>\n",
       "                        <td id=\"T_bd689e80_2b49_11ea_9253_acde48001122row4_col57\" class=\"data row4 col57\" >82800</td>\n",
       "                        <td id=\"T_bd689e80_2b49_11ea_9253_acde48001122row4_col58\" class=\"data row4 col58\" >82700</td>\n",
       "                        <td id=\"T_bd689e80_2b49_11ea_9253_acde48001122row4_col59\" class=\"data row4 col59\" >82400</td>\n",
       "                        <td id=\"T_bd689e80_2b49_11ea_9253_acde48001122row4_col60\" class=\"data row4 col60\" >82100</td>\n",
       "                        <td id=\"T_bd689e80_2b49_11ea_9253_acde48001122row4_col61\" class=\"data row4 col61\" >81900</td>\n",
       "                        <td id=\"T_bd689e80_2b49_11ea_9253_acde48001122row4_col62\" class=\"data row4 col62\" >81600</td>\n",
       "                        <td id=\"T_bd689e80_2b49_11ea_9253_acde48001122row4_col63\" class=\"data row4 col63\" >81300</td>\n",
       "                        <td id=\"T_bd689e80_2b49_11ea_9253_acde48001122row4_col64\" class=\"data row4 col64\" >81000</td>\n",
       "                        <td id=\"T_bd689e80_2b49_11ea_9253_acde48001122row4_col65\" class=\"data row4 col65\" >80800</td>\n",
       "                        <td id=\"T_bd689e80_2b49_11ea_9253_acde48001122row4_col66\" class=\"data row4 col66\" >80600</td>\n",
       "                        <td id=\"T_bd689e80_2b49_11ea_9253_acde48001122row4_col67\" class=\"data row4 col67\" >80300</td>\n",
       "                        <td id=\"T_bd689e80_2b49_11ea_9253_acde48001122row4_col68\" class=\"data row4 col68\" >80000</td>\n",
       "                        <td id=\"T_bd689e80_2b49_11ea_9253_acde48001122row4_col69\" class=\"data row4 col69\" >79800</td>\n",
       "                        <td id=\"T_bd689e80_2b49_11ea_9253_acde48001122row4_col70\" class=\"data row4 col70\" >79500</td>\n",
       "                        <td id=\"T_bd689e80_2b49_11ea_9253_acde48001122row4_col71\" class=\"data row4 col71\" >79200</td>\n",
       "                        <td id=\"T_bd689e80_2b49_11ea_9253_acde48001122row4_col72\" class=\"data row4 col72\" >78900</td>\n",
       "                        <td id=\"T_bd689e80_2b49_11ea_9253_acde48001122row4_col73\" class=\"data row4 col73\" >78600</td>\n",
       "                        <td id=\"T_bd689e80_2b49_11ea_9253_acde48001122row4_col74\" class=\"data row4 col74\" >78400</td>\n",
       "                        <td id=\"T_bd689e80_2b49_11ea_9253_acde48001122row4_col75\" class=\"data row4 col75\" >78200</td>\n",
       "                        <td id=\"T_bd689e80_2b49_11ea_9253_acde48001122row4_col76\" class=\"data row4 col76\" >78200</td>\n",
       "                        <td id=\"T_bd689e80_2b49_11ea_9253_acde48001122row4_col77\" class=\"data row4 col77\" >78200</td>\n",
       "                        <td id=\"T_bd689e80_2b49_11ea_9253_acde48001122row4_col78\" class=\"data row4 col78\" >78300</td>\n",
       "                        <td id=\"T_bd689e80_2b49_11ea_9253_acde48001122row4_col79\" class=\"data row4 col79\" >78400</td>\n",
       "                        <td id=\"T_bd689e80_2b49_11ea_9253_acde48001122row4_col80\" class=\"data row4 col80\" >78600</td>\n",
       "                        <td id=\"T_bd689e80_2b49_11ea_9253_acde48001122row4_col81\" class=\"data row4 col81\" >78900</td>\n",
       "                        <td id=\"T_bd689e80_2b49_11ea_9253_acde48001122row4_col82\" class=\"data row4 col82\" >79200</td>\n",
       "                        <td id=\"T_bd689e80_2b49_11ea_9253_acde48001122row4_col83\" class=\"data row4 col83\" >79500</td>\n",
       "                        <td id=\"T_bd689e80_2b49_11ea_9253_acde48001122row4_col84\" class=\"data row4 col84\" >79900</td>\n",
       "                        <td id=\"T_bd689e80_2b49_11ea_9253_acde48001122row4_col85\" class=\"data row4 col85\" >80300</td>\n",
       "                        <td id=\"T_bd689e80_2b49_11ea_9253_acde48001122row4_col86\" class=\"data row4 col86\" >80700</td>\n",
       "                        <td id=\"T_bd689e80_2b49_11ea_9253_acde48001122row4_col87\" class=\"data row4 col87\" >81000</td>\n",
       "                        <td id=\"T_bd689e80_2b49_11ea_9253_acde48001122row4_col88\" class=\"data row4 col88\" >81200</td>\n",
       "                        <td id=\"T_bd689e80_2b49_11ea_9253_acde48001122row4_col89\" class=\"data row4 col89\" >81400</td>\n",
       "                        <td id=\"T_bd689e80_2b49_11ea_9253_acde48001122row4_col90\" class=\"data row4 col90\" >81500</td>\n",
       "                        <td id=\"T_bd689e80_2b49_11ea_9253_acde48001122row4_col91\" class=\"data row4 col91\" >81500</td>\n",
       "                        <td id=\"T_bd689e80_2b49_11ea_9253_acde48001122row4_col92\" class=\"data row4 col92\" >81600</td>\n",
       "                        <td id=\"T_bd689e80_2b49_11ea_9253_acde48001122row4_col93\" class=\"data row4 col93\" >81700</td>\n",
       "                        <td id=\"T_bd689e80_2b49_11ea_9253_acde48001122row4_col94\" class=\"data row4 col94\" >81900</td>\n",
       "                        <td id=\"T_bd689e80_2b49_11ea_9253_acde48001122row4_col95\" class=\"data row4 col95\" >82000</td>\n",
       "                        <td id=\"T_bd689e80_2b49_11ea_9253_acde48001122row4_col96\" class=\"data row4 col96\" >82200</td>\n",
       "                        <td id=\"T_bd689e80_2b49_11ea_9253_acde48001122row4_col97\" class=\"data row4 col97\" >82500</td>\n",
       "                        <td id=\"T_bd689e80_2b49_11ea_9253_acde48001122row4_col98\" class=\"data row4 col98\" >82900</td>\n",
       "                        <td id=\"T_bd689e80_2b49_11ea_9253_acde48001122row4_col99\" class=\"data row4 col99\" >83400</td>\n",
       "                        <td id=\"T_bd689e80_2b49_11ea_9253_acde48001122row4_col100\" class=\"data row4 col100\" >84000</td>\n",
       "                        <td id=\"T_bd689e80_2b49_11ea_9253_acde48001122row4_col101\" class=\"data row4 col101\" >84700</td>\n",
       "                        <td id=\"T_bd689e80_2b49_11ea_9253_acde48001122row4_col102\" class=\"data row4 col102\" >85500</td>\n",
       "                        <td id=\"T_bd689e80_2b49_11ea_9253_acde48001122row4_col103\" class=\"data row4 col103\" >86400</td>\n",
       "                        <td id=\"T_bd689e80_2b49_11ea_9253_acde48001122row4_col104\" class=\"data row4 col104\" >87200</td>\n",
       "                        <td id=\"T_bd689e80_2b49_11ea_9253_acde48001122row4_col105\" class=\"data row4 col105\" >88000</td>\n",
       "                        <td id=\"T_bd689e80_2b49_11ea_9253_acde48001122row4_col106\" class=\"data row4 col106\" >88900</td>\n",
       "                        <td id=\"T_bd689e80_2b49_11ea_9253_acde48001122row4_col107\" class=\"data row4 col107\" >89700</td>\n",
       "                        <td id=\"T_bd689e80_2b49_11ea_9253_acde48001122row4_col108\" class=\"data row4 col108\" >90400</td>\n",
       "                        <td id=\"T_bd689e80_2b49_11ea_9253_acde48001122row4_col109\" class=\"data row4 col109\" >91100</td>\n",
       "                        <td id=\"T_bd689e80_2b49_11ea_9253_acde48001122row4_col110\" class=\"data row4 col110\" >91900</td>\n",
       "                        <td id=\"T_bd689e80_2b49_11ea_9253_acde48001122row4_col111\" class=\"data row4 col111\" >92700</td>\n",
       "                        <td id=\"T_bd689e80_2b49_11ea_9253_acde48001122row4_col112\" class=\"data row4 col112\" >93600</td>\n",
       "                        <td id=\"T_bd689e80_2b49_11ea_9253_acde48001122row4_col113\" class=\"data row4 col113\" >94400</td>\n",
       "                        <td id=\"T_bd689e80_2b49_11ea_9253_acde48001122row4_col114\" class=\"data row4 col114\" >95200</td>\n",
       "                        <td id=\"T_bd689e80_2b49_11ea_9253_acde48001122row4_col115\" class=\"data row4 col115\" >95800</td>\n",
       "                        <td id=\"T_bd689e80_2b49_11ea_9253_acde48001122row4_col116\" class=\"data row4 col116\" >96300</td>\n",
       "                        <td id=\"T_bd689e80_2b49_11ea_9253_acde48001122row4_col117\" class=\"data row4 col117\" >96700</td>\n",
       "                        <td id=\"T_bd689e80_2b49_11ea_9253_acde48001122row4_col118\" class=\"data row4 col118\" >97200</td>\n",
       "                        <td id=\"T_bd689e80_2b49_11ea_9253_acde48001122row4_col119\" class=\"data row4 col119\" >97700</td>\n",
       "                        <td id=\"T_bd689e80_2b49_11ea_9253_acde48001122row4_col120\" class=\"data row4 col120\" >98400</td>\n",
       "                        <td id=\"T_bd689e80_2b49_11ea_9253_acde48001122row4_col121\" class=\"data row4 col121\" >99000</td>\n",
       "                        <td id=\"T_bd689e80_2b49_11ea_9253_acde48001122row4_col122\" class=\"data row4 col122\" >99600</td>\n",
       "                        <td id=\"T_bd689e80_2b49_11ea_9253_acde48001122row4_col123\" class=\"data row4 col123\" >100200</td>\n",
       "                        <td id=\"T_bd689e80_2b49_11ea_9253_acde48001122row4_col124\" class=\"data row4 col124\" >101000</td>\n",
       "                        <td id=\"T_bd689e80_2b49_11ea_9253_acde48001122row4_col125\" class=\"data row4 col125\" >102000</td>\n",
       "                        <td id=\"T_bd689e80_2b49_11ea_9253_acde48001122row4_col126\" class=\"data row4 col126\" >103000</td>\n",
       "                        <td id=\"T_bd689e80_2b49_11ea_9253_acde48001122row4_col127\" class=\"data row4 col127\" >104300</td>\n",
       "                        <td id=\"T_bd689e80_2b49_11ea_9253_acde48001122row4_col128\" class=\"data row4 col128\" >105800</td>\n",
       "                        <td id=\"T_bd689e80_2b49_11ea_9253_acde48001122row4_col129\" class=\"data row4 col129\" >107400</td>\n",
       "                        <td id=\"T_bd689e80_2b49_11ea_9253_acde48001122row4_col130\" class=\"data row4 col130\" >109100</td>\n",
       "                        <td id=\"T_bd689e80_2b49_11ea_9253_acde48001122row4_col131\" class=\"data row4 col131\" >111000</td>\n",
       "                        <td id=\"T_bd689e80_2b49_11ea_9253_acde48001122row4_col132\" class=\"data row4 col132\" >113000</td>\n",
       "                        <td id=\"T_bd689e80_2b49_11ea_9253_acde48001122row4_col133\" class=\"data row4 col133\" >115000</td>\n",
       "                        <td id=\"T_bd689e80_2b49_11ea_9253_acde48001122row4_col134\" class=\"data row4 col134\" >117000</td>\n",
       "                        <td id=\"T_bd689e80_2b49_11ea_9253_acde48001122row4_col135\" class=\"data row4 col135\" >118800</td>\n",
       "                        <td id=\"T_bd689e80_2b49_11ea_9253_acde48001122row4_col136\" class=\"data row4 col136\" >120600</td>\n",
       "                        <td id=\"T_bd689e80_2b49_11ea_9253_acde48001122row4_col137\" class=\"data row4 col137\" >122200</td>\n",
       "                        <td id=\"T_bd689e80_2b49_11ea_9253_acde48001122row4_col138\" class=\"data row4 col138\" >124000</td>\n",
       "                        <td id=\"T_bd689e80_2b49_11ea_9253_acde48001122row4_col139\" class=\"data row4 col139\" >126000</td>\n",
       "                        <td id=\"T_bd689e80_2b49_11ea_9253_acde48001122row4_col140\" class=\"data row4 col140\" >128000</td>\n",
       "                        <td id=\"T_bd689e80_2b49_11ea_9253_acde48001122row4_col141\" class=\"data row4 col141\" >129600</td>\n",
       "                        <td id=\"T_bd689e80_2b49_11ea_9253_acde48001122row4_col142\" class=\"data row4 col142\" >130700</td>\n",
       "                        <td id=\"T_bd689e80_2b49_11ea_9253_acde48001122row4_col143\" class=\"data row4 col143\" >131400</td>\n",
       "                        <td id=\"T_bd689e80_2b49_11ea_9253_acde48001122row4_col144\" class=\"data row4 col144\" >132000</td>\n",
       "                        <td id=\"T_bd689e80_2b49_11ea_9253_acde48001122row4_col145\" class=\"data row4 col145\" >132300</td>\n",
       "                        <td id=\"T_bd689e80_2b49_11ea_9253_acde48001122row4_col146\" class=\"data row4 col146\" >132300</td>\n",
       "                        <td id=\"T_bd689e80_2b49_11ea_9253_acde48001122row4_col147\" class=\"data row4 col147\" >132000</td>\n",
       "                        <td id=\"T_bd689e80_2b49_11ea_9253_acde48001122row4_col148\" class=\"data row4 col148\" >131200</td>\n",
       "                        <td id=\"T_bd689e80_2b49_11ea_9253_acde48001122row4_col149\" class=\"data row4 col149\" >130300</td>\n",
       "                        <td id=\"T_bd689e80_2b49_11ea_9253_acde48001122row4_col150\" class=\"data row4 col150\" >129300</td>\n",
       "                        <td id=\"T_bd689e80_2b49_11ea_9253_acde48001122row4_col151\" class=\"data row4 col151\" >128300</td>\n",
       "                        <td id=\"T_bd689e80_2b49_11ea_9253_acde48001122row4_col152\" class=\"data row4 col152\" >127300</td>\n",
       "                        <td id=\"T_bd689e80_2b49_11ea_9253_acde48001122row4_col153\" class=\"data row4 col153\" >126300</td>\n",
       "                        <td id=\"T_bd689e80_2b49_11ea_9253_acde48001122row4_col154\" class=\"data row4 col154\" >125400</td>\n",
       "                        <td id=\"T_bd689e80_2b49_11ea_9253_acde48001122row4_col155\" class=\"data row4 col155\" >124600</td>\n",
       "                        <td id=\"T_bd689e80_2b49_11ea_9253_acde48001122row4_col156\" class=\"data row4 col156\" >123900</td>\n",
       "                        <td id=\"T_bd689e80_2b49_11ea_9253_acde48001122row4_col157\" class=\"data row4 col157\" >123300</td>\n",
       "                        <td id=\"T_bd689e80_2b49_11ea_9253_acde48001122row4_col158\" class=\"data row4 col158\" >122600</td>\n",
       "                        <td id=\"T_bd689e80_2b49_11ea_9253_acde48001122row4_col159\" class=\"data row4 col159\" >122100</td>\n",
       "                        <td id=\"T_bd689e80_2b49_11ea_9253_acde48001122row4_col160\" class=\"data row4 col160\" >121600</td>\n",
       "                        <td id=\"T_bd689e80_2b49_11ea_9253_acde48001122row4_col161\" class=\"data row4 col161\" >121200</td>\n",
       "                        <td id=\"T_bd689e80_2b49_11ea_9253_acde48001122row4_col162\" class=\"data row4 col162\" >120700</td>\n",
       "                        <td id=\"T_bd689e80_2b49_11ea_9253_acde48001122row4_col163\" class=\"data row4 col163\" >120300</td>\n",
       "                        <td id=\"T_bd689e80_2b49_11ea_9253_acde48001122row4_col164\" class=\"data row4 col164\" >119700</td>\n",
       "                        <td id=\"T_bd689e80_2b49_11ea_9253_acde48001122row4_col165\" class=\"data row4 col165\" >119100</td>\n",
       "                        <td id=\"T_bd689e80_2b49_11ea_9253_acde48001122row4_col166\" class=\"data row4 col166\" >118700</td>\n",
       "                        <td id=\"T_bd689e80_2b49_11ea_9253_acde48001122row4_col167\" class=\"data row4 col167\" >118400</td>\n",
       "                        <td id=\"T_bd689e80_2b49_11ea_9253_acde48001122row4_col168\" class=\"data row4 col168\" >118200</td>\n",
       "                        <td id=\"T_bd689e80_2b49_11ea_9253_acde48001122row4_col169\" class=\"data row4 col169\" >117900</td>\n",
       "                        <td id=\"T_bd689e80_2b49_11ea_9253_acde48001122row4_col170\" class=\"data row4 col170\" >117600</td>\n",
       "                        <td id=\"T_bd689e80_2b49_11ea_9253_acde48001122row4_col171\" class=\"data row4 col171\" >117400</td>\n",
       "                        <td id=\"T_bd689e80_2b49_11ea_9253_acde48001122row4_col172\" class=\"data row4 col172\" >117400</td>\n",
       "                        <td id=\"T_bd689e80_2b49_11ea_9253_acde48001122row4_col173\" class=\"data row4 col173\" >117500</td>\n",
       "                        <td id=\"T_bd689e80_2b49_11ea_9253_acde48001122row4_col174\" class=\"data row4 col174\" >117100</td>\n",
       "                        <td id=\"T_bd689e80_2b49_11ea_9253_acde48001122row4_col175\" class=\"data row4 col175\" >116100</td>\n",
       "                        <td id=\"T_bd689e80_2b49_11ea_9253_acde48001122row4_col176\" class=\"data row4 col176\" >115700</td>\n",
       "                        <td id=\"T_bd689e80_2b49_11ea_9253_acde48001122row4_col177\" class=\"data row4 col177\" >116100</td>\n",
       "                        <td id=\"T_bd689e80_2b49_11ea_9253_acde48001122row4_col178\" class=\"data row4 col178\" >116500</td>\n",
       "                        <td id=\"T_bd689e80_2b49_11ea_9253_acde48001122row4_col179\" class=\"data row4 col179\" >116700</td>\n",
       "                        <td id=\"T_bd689e80_2b49_11ea_9253_acde48001122row4_col180\" class=\"data row4 col180\" >117400</td>\n",
       "                        <td id=\"T_bd689e80_2b49_11ea_9253_acde48001122row4_col181\" class=\"data row4 col181\" >118200</td>\n",
       "                        <td id=\"T_bd689e80_2b49_11ea_9253_acde48001122row4_col182\" class=\"data row4 col182\" >118700</td>\n",
       "                        <td id=\"T_bd689e80_2b49_11ea_9253_acde48001122row4_col183\" class=\"data row4 col183\" >118800</td>\n",
       "                        <td id=\"T_bd689e80_2b49_11ea_9253_acde48001122row4_col184\" class=\"data row4 col184\" >119000</td>\n",
       "                        <td id=\"T_bd689e80_2b49_11ea_9253_acde48001122row4_col185\" class=\"data row4 col185\" >118800</td>\n",
       "                        <td id=\"T_bd689e80_2b49_11ea_9253_acde48001122row4_col186\" class=\"data row4 col186\" >118300</td>\n",
       "                        <td id=\"T_bd689e80_2b49_11ea_9253_acde48001122row4_col187\" class=\"data row4 col187\" >118100</td>\n",
       "                        <td id=\"T_bd689e80_2b49_11ea_9253_acde48001122row4_col188\" class=\"data row4 col188\" >117600</td>\n",
       "                        <td id=\"T_bd689e80_2b49_11ea_9253_acde48001122row4_col189\" class=\"data row4 col189\" >116800</td>\n",
       "                        <td id=\"T_bd689e80_2b49_11ea_9253_acde48001122row4_col190\" class=\"data row4 col190\" >116500</td>\n",
       "                        <td id=\"T_bd689e80_2b49_11ea_9253_acde48001122row4_col191\" class=\"data row4 col191\" >116100</td>\n",
       "                        <td id=\"T_bd689e80_2b49_11ea_9253_acde48001122row4_col192\" class=\"data row4 col192\" >114800</td>\n",
       "                        <td id=\"T_bd689e80_2b49_11ea_9253_acde48001122row4_col193\" class=\"data row4 col193\" >113500</td>\n",
       "                        <td id=\"T_bd689e80_2b49_11ea_9253_acde48001122row4_col194\" class=\"data row4 col194\" >112800</td>\n",
       "                        <td id=\"T_bd689e80_2b49_11ea_9253_acde48001122row4_col195\" class=\"data row4 col195\" >112700</td>\n",
       "                        <td id=\"T_bd689e80_2b49_11ea_9253_acde48001122row4_col196\" class=\"data row4 col196\" >112400</td>\n",
       "                        <td id=\"T_bd689e80_2b49_11ea_9253_acde48001122row4_col197\" class=\"data row4 col197\" >112200</td>\n",
       "                        <td id=\"T_bd689e80_2b49_11ea_9253_acde48001122row4_col198\" class=\"data row4 col198\" >112400</td>\n",
       "                        <td id=\"T_bd689e80_2b49_11ea_9253_acde48001122row4_col199\" class=\"data row4 col199\" >112800</td>\n",
       "                        <td id=\"T_bd689e80_2b49_11ea_9253_acde48001122row4_col200\" class=\"data row4 col200\" >113200</td>\n",
       "                        <td id=\"T_bd689e80_2b49_11ea_9253_acde48001122row4_col201\" class=\"data row4 col201\" >113400</td>\n",
       "                        <td id=\"T_bd689e80_2b49_11ea_9253_acde48001122row4_col202\" class=\"data row4 col202\" >113100</td>\n",
       "                        <td id=\"T_bd689e80_2b49_11ea_9253_acde48001122row4_col203\" class=\"data row4 col203\" >112800</td>\n",
       "                        <td id=\"T_bd689e80_2b49_11ea_9253_acde48001122row4_col204\" class=\"data row4 col204\" >112900</td>\n",
       "                        <td id=\"T_bd689e80_2b49_11ea_9253_acde48001122row4_col205\" class=\"data row4 col205\" >112900</td>\n",
       "                        <td id=\"T_bd689e80_2b49_11ea_9253_acde48001122row4_col206\" class=\"data row4 col206\" >112800</td>\n",
       "                        <td id=\"T_bd689e80_2b49_11ea_9253_acde48001122row4_col207\" class=\"data row4 col207\" >112700</td>\n",
       "                        <td id=\"T_bd689e80_2b49_11ea_9253_acde48001122row4_col208\" class=\"data row4 col208\" >113000</td>\n",
       "                        <td id=\"T_bd689e80_2b49_11ea_9253_acde48001122row4_col209\" class=\"data row4 col209\" >113300</td>\n",
       "                        <td id=\"T_bd689e80_2b49_11ea_9253_acde48001122row4_col210\" class=\"data row4 col210\" >113600</td>\n",
       "                        <td id=\"T_bd689e80_2b49_11ea_9253_acde48001122row4_col211\" class=\"data row4 col211\" >113500</td>\n",
       "                        <td id=\"T_bd689e80_2b49_11ea_9253_acde48001122row4_col212\" class=\"data row4 col212\" >113300</td>\n",
       "                        <td id=\"T_bd689e80_2b49_11ea_9253_acde48001122row4_col213\" class=\"data row4 col213\" >113000</td>\n",
       "                        <td id=\"T_bd689e80_2b49_11ea_9253_acde48001122row4_col214\" class=\"data row4 col214\" >113000</td>\n",
       "                        <td id=\"T_bd689e80_2b49_11ea_9253_acde48001122row4_col215\" class=\"data row4 col215\" >112900</td>\n",
       "                        <td id=\"T_bd689e80_2b49_11ea_9253_acde48001122row4_col216\" class=\"data row4 col216\" >112800</td>\n",
       "                        <td id=\"T_bd689e80_2b49_11ea_9253_acde48001122row4_col217\" class=\"data row4 col217\" >112500</td>\n",
       "                        <td id=\"T_bd689e80_2b49_11ea_9253_acde48001122row4_col218\" class=\"data row4 col218\" >112400</td>\n",
       "                        <td id=\"T_bd689e80_2b49_11ea_9253_acde48001122row4_col219\" class=\"data row4 col219\" >112000</td>\n",
       "                        <td id=\"T_bd689e80_2b49_11ea_9253_acde48001122row4_col220\" class=\"data row4 col220\" >111500</td>\n",
       "                        <td id=\"T_bd689e80_2b49_11ea_9253_acde48001122row4_col221\" class=\"data row4 col221\" >111400</td>\n",
       "                        <td id=\"T_bd689e80_2b49_11ea_9253_acde48001122row4_col222\" class=\"data row4 col222\" >112000</td>\n",
       "                        <td id=\"T_bd689e80_2b49_11ea_9253_acde48001122row4_col223\" class=\"data row4 col223\" >112500</td>\n",
       "                        <td id=\"T_bd689e80_2b49_11ea_9253_acde48001122row4_col224\" class=\"data row4 col224\" >112700</td>\n",
       "                        <td id=\"T_bd689e80_2b49_11ea_9253_acde48001122row4_col225\" class=\"data row4 col225\" >113100</td>\n",
       "                        <td id=\"T_bd689e80_2b49_11ea_9253_acde48001122row4_col226\" class=\"data row4 col226\" >113900</td>\n",
       "                        <td id=\"T_bd689e80_2b49_11ea_9253_acde48001122row4_col227\" class=\"data row4 col227\" >114400</td>\n",
       "                        <td id=\"T_bd689e80_2b49_11ea_9253_acde48001122row4_col228\" class=\"data row4 col228\" >114500</td>\n",
       "                        <td id=\"T_bd689e80_2b49_11ea_9253_acde48001122row4_col229\" class=\"data row4 col229\" >114400</td>\n",
       "                        <td id=\"T_bd689e80_2b49_11ea_9253_acde48001122row4_col230\" class=\"data row4 col230\" >114300</td>\n",
       "                        <td id=\"T_bd689e80_2b49_11ea_9253_acde48001122row4_col231\" class=\"data row4 col231\" >114400</td>\n",
       "                        <td id=\"T_bd689e80_2b49_11ea_9253_acde48001122row4_col232\" class=\"data row4 col232\" >114700</td>\n",
       "                        <td id=\"T_bd689e80_2b49_11ea_9253_acde48001122row4_col233\" class=\"data row4 col233\" >115000</td>\n",
       "                        <td id=\"T_bd689e80_2b49_11ea_9253_acde48001122row4_col234\" class=\"data row4 col234\" >115000</td>\n",
       "                        <td id=\"T_bd689e80_2b49_11ea_9253_acde48001122row4_col235\" class=\"data row4 col235\" >115200</td>\n",
       "                        <td id=\"T_bd689e80_2b49_11ea_9253_acde48001122row4_col236\" class=\"data row4 col236\" >115600</td>\n",
       "                        <td id=\"T_bd689e80_2b49_11ea_9253_acde48001122row4_col237\" class=\"data row4 col237\" >115900</td>\n",
       "                        <td id=\"T_bd689e80_2b49_11ea_9253_acde48001122row4_col238\" class=\"data row4 col238\" >115600</td>\n",
       "                        <td id=\"T_bd689e80_2b49_11ea_9253_acde48001122row4_col239\" class=\"data row4 col239\" >115400</td>\n",
       "                        <td id=\"T_bd689e80_2b49_11ea_9253_acde48001122row4_col240\" class=\"data row4 col240\" >115400</td>\n",
       "                        <td id=\"T_bd689e80_2b49_11ea_9253_acde48001122row4_col241\" class=\"data row4 col241\" >115500</td>\n",
       "                        <td id=\"T_bd689e80_2b49_11ea_9253_acde48001122row4_col242\" class=\"data row4 col242\" >115800</td>\n",
       "                        <td id=\"T_bd689e80_2b49_11ea_9253_acde48001122row4_col243\" class=\"data row4 col243\" >116300</td>\n",
       "                        <td id=\"T_bd689e80_2b49_11ea_9253_acde48001122row4_col244\" class=\"data row4 col244\" >116200</td>\n",
       "                        <td id=\"T_bd689e80_2b49_11ea_9253_acde48001122row4_col245\" class=\"data row4 col245\" >115600</td>\n",
       "                        <td id=\"T_bd689e80_2b49_11ea_9253_acde48001122row4_col246\" class=\"data row4 col246\" >115000</td>\n",
       "                        <td id=\"T_bd689e80_2b49_11ea_9253_acde48001122row4_col247\" class=\"data row4 col247\" >114500</td>\n",
       "                        <td id=\"T_bd689e80_2b49_11ea_9253_acde48001122row4_col248\" class=\"data row4 col248\" >114200</td>\n",
       "                        <td id=\"T_bd689e80_2b49_11ea_9253_acde48001122row4_col249\" class=\"data row4 col249\" >114000</td>\n",
       "                        <td id=\"T_bd689e80_2b49_11ea_9253_acde48001122row4_col250\" class=\"data row4 col250\" >114000</td>\n",
       "                        <td id=\"T_bd689e80_2b49_11ea_9253_acde48001122row4_col251\" class=\"data row4 col251\" >113900</td>\n",
       "                        <td id=\"T_bd689e80_2b49_11ea_9253_acde48001122row4_col252\" class=\"data row4 col252\" >114100</td>\n",
       "                        <td id=\"T_bd689e80_2b49_11ea_9253_acde48001122row4_col253\" class=\"data row4 col253\" >114900</td>\n",
       "                        <td id=\"T_bd689e80_2b49_11ea_9253_acde48001122row4_col254\" class=\"data row4 col254\" >115700</td>\n",
       "                        <td id=\"T_bd689e80_2b49_11ea_9253_acde48001122row4_col255\" class=\"data row4 col255\" >116300</td>\n",
       "                        <td id=\"T_bd689e80_2b49_11ea_9253_acde48001122row4_col256\" class=\"data row4 col256\" >116900</td>\n",
       "                        <td id=\"T_bd689e80_2b49_11ea_9253_acde48001122row4_col257\" class=\"data row4 col257\" >117300</td>\n",
       "                        <td id=\"T_bd689e80_2b49_11ea_9253_acde48001122row4_col258\" class=\"data row4 col258\" >117600</td>\n",
       "                        <td id=\"T_bd689e80_2b49_11ea_9253_acde48001122row4_col259\" class=\"data row4 col259\" >118000</td>\n",
       "                        <td id=\"T_bd689e80_2b49_11ea_9253_acde48001122row4_col260\" class=\"data row4 col260\" >118600</td>\n",
       "                        <td id=\"T_bd689e80_2b49_11ea_9253_acde48001122row4_col261\" class=\"data row4 col261\" >118900</td>\n",
       "                        <td id=\"T_bd689e80_2b49_11ea_9253_acde48001122row4_col262\" class=\"data row4 col262\" >119100</td>\n",
       "                        <td id=\"T_bd689e80_2b49_11ea_9253_acde48001122row4_col263\" class=\"data row4 col263\" >119400</td>\n",
       "                        <td id=\"T_bd689e80_2b49_11ea_9253_acde48001122row4_col264\" class=\"data row4 col264\" >120000</td>\n",
       "                        <td id=\"T_bd689e80_2b49_11ea_9253_acde48001122row4_col265\" class=\"data row4 col265\" >120300</td>\n",
       "                        <td id=\"T_bd689e80_2b49_11ea_9253_acde48001122row4_col266\" class=\"data row4 col266\" >120300</td>\n",
       "                        <td id=\"T_bd689e80_2b49_11ea_9253_acde48001122row4_col267\" class=\"data row4 col267\" >120300</td>\n",
       "                        <td id=\"T_bd689e80_2b49_11ea_9253_acde48001122row4_col268\" class=\"data row4 col268\" >120300</td>\n",
       "                        <td id=\"T_bd689e80_2b49_11ea_9253_acde48001122row4_col269\" class=\"data row4 col269\" >120500</td>\n",
       "                        <td id=\"T_bd689e80_2b49_11ea_9253_acde48001122row4_col270\" class=\"data row4 col270\" >121000</td>\n",
       "                        <td id=\"T_bd689e80_2b49_11ea_9253_acde48001122row4_col271\" class=\"data row4 col271\" >121500</td>\n",
       "            </tr>\n",
       "    </tbody></table>"
      ],
      "text/plain": [
       "<pandas.io.formats.style.Styler at 0x1a1829ad68>"
      ]
     },
     "metadata": {},
     "output_type": "display_data"
    },
    {
     "data": {
      "text/html": [
       "<style  type=\"text/css\" >\n",
       "</style><table id=\"T_be992574_2b49_11ea_a494_acde48001122\" ><caption>Melted DataFrame</caption><thead>    <tr>        <th class=\"blank level0\" ></th>        <th class=\"col_heading level0 col0\" >RegionID</th>        <th class=\"col_heading level0 col1\" >RegionName</th>        <th class=\"col_heading level0 col2\" >City</th>        <th class=\"col_heading level0 col3\" >State</th>        <th class=\"col_heading level0 col4\" >Metro</th>        <th class=\"col_heading level0 col5\" >CountyName</th>        <th class=\"col_heading level0 col6\" >SizeRank</th>        <th class=\"col_heading level0 col7\" >Month</th>        <th class=\"col_heading level0 col8\" >MeanValue</th>    </tr></thead><tbody>\n",
       "                <tr>\n",
       "                        <th id=\"T_be992574_2b49_11ea_a494_acde48001122level0_row0\" class=\"row_heading level0 row0\" >0</th>\n",
       "                        <td id=\"T_be992574_2b49_11ea_a494_acde48001122row0_col0\" class=\"data row0 col0\" >84654</td>\n",
       "                        <td id=\"T_be992574_2b49_11ea_a494_acde48001122row0_col1\" class=\"data row0 col1\" >60657</td>\n",
       "                        <td id=\"T_be992574_2b49_11ea_a494_acde48001122row0_col2\" class=\"data row0 col2\" >Chicago</td>\n",
       "                        <td id=\"T_be992574_2b49_11ea_a494_acde48001122row0_col3\" class=\"data row0 col3\" >IL</td>\n",
       "                        <td id=\"T_be992574_2b49_11ea_a494_acde48001122row0_col4\" class=\"data row0 col4\" >Chicago</td>\n",
       "                        <td id=\"T_be992574_2b49_11ea_a494_acde48001122row0_col5\" class=\"data row0 col5\" >Cook</td>\n",
       "                        <td id=\"T_be992574_2b49_11ea_a494_acde48001122row0_col6\" class=\"data row0 col6\" >1</td>\n",
       "                        <td id=\"T_be992574_2b49_11ea_a494_acde48001122row0_col7\" class=\"data row0 col7\" >1996-04-01 00:00:00</td>\n",
       "                        <td id=\"T_be992574_2b49_11ea_a494_acde48001122row0_col8\" class=\"data row0 col8\" >334200</td>\n",
       "            </tr>\n",
       "            <tr>\n",
       "                        <th id=\"T_be992574_2b49_11ea_a494_acde48001122level0_row1\" class=\"row_heading level0 row1\" >1</th>\n",
       "                        <td id=\"T_be992574_2b49_11ea_a494_acde48001122row1_col0\" class=\"data row1 col0\" >90668</td>\n",
       "                        <td id=\"T_be992574_2b49_11ea_a494_acde48001122row1_col1\" class=\"data row1 col1\" >75070</td>\n",
       "                        <td id=\"T_be992574_2b49_11ea_a494_acde48001122row1_col2\" class=\"data row1 col2\" >McKinney</td>\n",
       "                        <td id=\"T_be992574_2b49_11ea_a494_acde48001122row1_col3\" class=\"data row1 col3\" >TX</td>\n",
       "                        <td id=\"T_be992574_2b49_11ea_a494_acde48001122row1_col4\" class=\"data row1 col4\" >Dallas-Fort Worth</td>\n",
       "                        <td id=\"T_be992574_2b49_11ea_a494_acde48001122row1_col5\" class=\"data row1 col5\" >Collin</td>\n",
       "                        <td id=\"T_be992574_2b49_11ea_a494_acde48001122row1_col6\" class=\"data row1 col6\" >2</td>\n",
       "                        <td id=\"T_be992574_2b49_11ea_a494_acde48001122row1_col7\" class=\"data row1 col7\" >1996-04-01 00:00:00</td>\n",
       "                        <td id=\"T_be992574_2b49_11ea_a494_acde48001122row1_col8\" class=\"data row1 col8\" >235700</td>\n",
       "            </tr>\n",
       "            <tr>\n",
       "                        <th id=\"T_be992574_2b49_11ea_a494_acde48001122level0_row2\" class=\"row_heading level0 row2\" >2</th>\n",
       "                        <td id=\"T_be992574_2b49_11ea_a494_acde48001122row2_col0\" class=\"data row2 col0\" >91982</td>\n",
       "                        <td id=\"T_be992574_2b49_11ea_a494_acde48001122row2_col1\" class=\"data row2 col1\" >77494</td>\n",
       "                        <td id=\"T_be992574_2b49_11ea_a494_acde48001122row2_col2\" class=\"data row2 col2\" >Katy</td>\n",
       "                        <td id=\"T_be992574_2b49_11ea_a494_acde48001122row2_col3\" class=\"data row2 col3\" >TX</td>\n",
       "                        <td id=\"T_be992574_2b49_11ea_a494_acde48001122row2_col4\" class=\"data row2 col4\" >Houston</td>\n",
       "                        <td id=\"T_be992574_2b49_11ea_a494_acde48001122row2_col5\" class=\"data row2 col5\" >Harris</td>\n",
       "                        <td id=\"T_be992574_2b49_11ea_a494_acde48001122row2_col6\" class=\"data row2 col6\" >3</td>\n",
       "                        <td id=\"T_be992574_2b49_11ea_a494_acde48001122row2_col7\" class=\"data row2 col7\" >1996-04-01 00:00:00</td>\n",
       "                        <td id=\"T_be992574_2b49_11ea_a494_acde48001122row2_col8\" class=\"data row2 col8\" >210400</td>\n",
       "            </tr>\n",
       "            <tr>\n",
       "                        <th id=\"T_be992574_2b49_11ea_a494_acde48001122level0_row3\" class=\"row_heading level0 row3\" >3</th>\n",
       "                        <td id=\"T_be992574_2b49_11ea_a494_acde48001122row3_col0\" class=\"data row3 col0\" >84616</td>\n",
       "                        <td id=\"T_be992574_2b49_11ea_a494_acde48001122row3_col1\" class=\"data row3 col1\" >60614</td>\n",
       "                        <td id=\"T_be992574_2b49_11ea_a494_acde48001122row3_col2\" class=\"data row3 col2\" >Chicago</td>\n",
       "                        <td id=\"T_be992574_2b49_11ea_a494_acde48001122row3_col3\" class=\"data row3 col3\" >IL</td>\n",
       "                        <td id=\"T_be992574_2b49_11ea_a494_acde48001122row3_col4\" class=\"data row3 col4\" >Chicago</td>\n",
       "                        <td id=\"T_be992574_2b49_11ea_a494_acde48001122row3_col5\" class=\"data row3 col5\" >Cook</td>\n",
       "                        <td id=\"T_be992574_2b49_11ea_a494_acde48001122row3_col6\" class=\"data row3 col6\" >4</td>\n",
       "                        <td id=\"T_be992574_2b49_11ea_a494_acde48001122row3_col7\" class=\"data row3 col7\" >1996-04-01 00:00:00</td>\n",
       "                        <td id=\"T_be992574_2b49_11ea_a494_acde48001122row3_col8\" class=\"data row3 col8\" >498100</td>\n",
       "            </tr>\n",
       "            <tr>\n",
       "                        <th id=\"T_be992574_2b49_11ea_a494_acde48001122level0_row4\" class=\"row_heading level0 row4\" >4</th>\n",
       "                        <td id=\"T_be992574_2b49_11ea_a494_acde48001122row4_col0\" class=\"data row4 col0\" >93144</td>\n",
       "                        <td id=\"T_be992574_2b49_11ea_a494_acde48001122row4_col1\" class=\"data row4 col1\" >79936</td>\n",
       "                        <td id=\"T_be992574_2b49_11ea_a494_acde48001122row4_col2\" class=\"data row4 col2\" >El Paso</td>\n",
       "                        <td id=\"T_be992574_2b49_11ea_a494_acde48001122row4_col3\" class=\"data row4 col3\" >TX</td>\n",
       "                        <td id=\"T_be992574_2b49_11ea_a494_acde48001122row4_col4\" class=\"data row4 col4\" >El Paso</td>\n",
       "                        <td id=\"T_be992574_2b49_11ea_a494_acde48001122row4_col5\" class=\"data row4 col5\" >El Paso</td>\n",
       "                        <td id=\"T_be992574_2b49_11ea_a494_acde48001122row4_col6\" class=\"data row4 col6\" >5</td>\n",
       "                        <td id=\"T_be992574_2b49_11ea_a494_acde48001122row4_col7\" class=\"data row4 col7\" >1996-04-01 00:00:00</td>\n",
       "                        <td id=\"T_be992574_2b49_11ea_a494_acde48001122row4_col8\" class=\"data row4 col8\" >77300</td>\n",
       "            </tr>\n",
       "    </tbody></table>"
      ],
      "text/plain": [
       "<pandas.io.formats.style.Styler at 0x1a1c03b588>"
      ]
     },
     "metadata": {},
     "output_type": "display_data"
    }
   ],
   "source": [
    "pd.set_option('display.max_columns',0)\n",
    "df=pd.read_csv('zillow_data.csv')\n",
    "display(df.head().style.set_caption('Original DataFrame'))\n",
    "\n",
    "## Fixed Melt Function for Project df\n",
    "\n",
    "def melt_data(df): #formerly called it melt_data_student with REED\n",
    "    melted = pd.melt(df, id_vars=['RegionID','RegionName', 'City', 'State', 'Metro', 'CountyName', \n",
    "                                  'SizeRank'], var_name='Month', value_name='MeanValue')\n",
    "    melted['Month'] = pd.to_datetime(melted['Month'], format='%Y-%m')\n",
    "    melted = melted.dropna(subset=['MeanValue'])\n",
    "    return melted\n",
    "\n",
    "df = melt_data(df)\n",
    "display(df.head().style.set_caption('Melted DataFrame'))\n"
   ]
  },
  {
   "cell_type": "code",
   "execution_count": 33,
   "metadata": {
    "ExecuteTime": {
     "end_time": "2019-12-30T21:17:11.866665Z",
     "start_time": "2019-12-30T21:17:11.859165Z"
    }
   },
   "outputs": [],
   "source": [
    "def make_dateindex(df_to_add_index, index_col='Month',index_name = 'date',\n",
    "                   drop=True,freq=None,verbose=True):\n",
    "    \n",
    "    df = df_to_add_index.copy()\n",
    "    df.reset_index(drop=True)\n",
    "    \n",
    "    ## Make datetime column (to make into index)\n",
    "    df[index_name] = pd.to_datetime(df[index_col], errors='coerce')\n",
    "    \n",
    "#     if index_name != df.index.name:\n",
    "    df = df.set_index(index_name,drop=drop)\n",
    "    \n",
    "#     if freq is not None:\n",
    "#         try:\n",
    "#             df = df.resample(freq,fill_method='ffill').mean()\n",
    "#         except Exception as e:\n",
    "#             print(f\"Error: {e}, index.name={df.index.name}\")\n",
    "        \n",
    "    if verbose:\n",
    "        display(df.index)\n",
    "        \n",
    "    return df"
   ]
  },
  {
   "cell_type": "code",
   "execution_count": 34,
   "metadata": {
    "ExecuteTime": {
     "end_time": "2019-12-30T21:17:13.151540Z",
     "start_time": "2019-12-30T21:17:11.868503Z"
    },
    "scrolled": true
   },
   "outputs": [
    {
     "data": {
      "text/plain": [
       "DatetimeIndex(['1996-04-01', '1996-04-01', '1996-04-01', '1996-04-01',\n",
       "               '1996-04-01', '1996-04-01', '1996-04-01', '1996-04-01',\n",
       "               '1996-04-01', '1996-04-01',\n",
       "               ...\n",
       "               '2018-04-01', '2018-04-01', '2018-04-01', '2018-04-01',\n",
       "               '2018-04-01', '2018-04-01', '2018-04-01', '2018-04-01',\n",
       "               '2018-04-01', '2018-04-01'],\n",
       "              dtype='datetime64[ns]', name='date', length=3744704, freq=None)"
      ]
     },
     "metadata": {},
     "output_type": "display_data"
    },
    {
     "data": {
      "text/html": [
       "<div>\n",
       "<style scoped>\n",
       "    .dataframe tbody tr th:only-of-type {\n",
       "        vertical-align: middle;\n",
       "    }\n",
       "\n",
       "    .dataframe tbody tr th {\n",
       "        vertical-align: top;\n",
       "    }\n",
       "\n",
       "    .dataframe thead th {\n",
       "        text-align: right;\n",
       "    }\n",
       "</style>\n",
       "<table border=\"1\" class=\"dataframe\">\n",
       "  <thead>\n",
       "    <tr style=\"text-align: right;\">\n",
       "      <th></th>\n",
       "      <th>RegionID</th>\n",
       "      <th>RegionName</th>\n",
       "      <th>City</th>\n",
       "      <th>State</th>\n",
       "      <th>Metro</th>\n",
       "      <th>CountyName</th>\n",
       "      <th>SizeRank</th>\n",
       "      <th>Month</th>\n",
       "      <th>MeanValue</th>\n",
       "    </tr>\n",
       "    <tr>\n",
       "      <th>date</th>\n",
       "      <th></th>\n",
       "      <th></th>\n",
       "      <th></th>\n",
       "      <th></th>\n",
       "      <th></th>\n",
       "      <th></th>\n",
       "      <th></th>\n",
       "      <th></th>\n",
       "      <th></th>\n",
       "    </tr>\n",
       "  </thead>\n",
       "  <tbody>\n",
       "    <tr>\n",
       "      <td>1996-04-01</td>\n",
       "      <td>84654</td>\n",
       "      <td>60657</td>\n",
       "      <td>Chicago</td>\n",
       "      <td>IL</td>\n",
       "      <td>Chicago</td>\n",
       "      <td>Cook</td>\n",
       "      <td>1</td>\n",
       "      <td>1996-04-01</td>\n",
       "      <td>334200.0</td>\n",
       "    </tr>\n",
       "    <tr>\n",
       "      <td>1996-04-01</td>\n",
       "      <td>90668</td>\n",
       "      <td>75070</td>\n",
       "      <td>McKinney</td>\n",
       "      <td>TX</td>\n",
       "      <td>Dallas-Fort Worth</td>\n",
       "      <td>Collin</td>\n",
       "      <td>2</td>\n",
       "      <td>1996-04-01</td>\n",
       "      <td>235700.0</td>\n",
       "    </tr>\n",
       "    <tr>\n",
       "      <td>1996-04-01</td>\n",
       "      <td>91982</td>\n",
       "      <td>77494</td>\n",
       "      <td>Katy</td>\n",
       "      <td>TX</td>\n",
       "      <td>Houston</td>\n",
       "      <td>Harris</td>\n",
       "      <td>3</td>\n",
       "      <td>1996-04-01</td>\n",
       "      <td>210400.0</td>\n",
       "    </tr>\n",
       "    <tr>\n",
       "      <td>1996-04-01</td>\n",
       "      <td>84616</td>\n",
       "      <td>60614</td>\n",
       "      <td>Chicago</td>\n",
       "      <td>IL</td>\n",
       "      <td>Chicago</td>\n",
       "      <td>Cook</td>\n",
       "      <td>4</td>\n",
       "      <td>1996-04-01</td>\n",
       "      <td>498100.0</td>\n",
       "    </tr>\n",
       "    <tr>\n",
       "      <td>1996-04-01</td>\n",
       "      <td>93144</td>\n",
       "      <td>79936</td>\n",
       "      <td>El Paso</td>\n",
       "      <td>TX</td>\n",
       "      <td>El Paso</td>\n",
       "      <td>El Paso</td>\n",
       "      <td>5</td>\n",
       "      <td>1996-04-01</td>\n",
       "      <td>77300.0</td>\n",
       "    </tr>\n",
       "  </tbody>\n",
       "</table>\n",
       "</div>"
      ],
      "text/plain": [
       "            RegionID  RegionName      City  ... SizeRank      Month MeanValue\n",
       "date                                        ...                              \n",
       "1996-04-01     84654       60657   Chicago  ...        1 1996-04-01  334200.0\n",
       "1996-04-01     90668       75070  McKinney  ...        2 1996-04-01  235700.0\n",
       "1996-04-01     91982       77494      Katy  ...        3 1996-04-01  210400.0\n",
       "1996-04-01     84616       60614   Chicago  ...        4 1996-04-01  498100.0\n",
       "1996-04-01     93144       79936   El Paso  ...        5 1996-04-01   77300.0\n",
       "\n",
       "[5 rows x 9 columns]"
      ]
     },
     "execution_count": 34,
     "metadata": {},
     "output_type": "execute_result"
    }
   ],
   "source": [
    "df = make_dateindex(df,)\n",
    "df.head()"
   ]
  },
  {
   "cell_type": "markdown",
   "metadata": {},
   "source": [
    "### NY"
   ]
  },
  {
   "cell_type": "code",
   "execution_count": 35,
   "metadata": {
    "ExecuteTime": {
     "end_time": "2019-12-30T21:17:13.491810Z",
     "start_time": "2019-12-30T21:17:13.153524Z"
    }
   },
   "outputs": [
    {
     "data": {
      "text/html": [
       "<div>\n",
       "<style scoped>\n",
       "    .dataframe tbody tr th:only-of-type {\n",
       "        vertical-align: middle;\n",
       "    }\n",
       "\n",
       "    .dataframe tbody tr th {\n",
       "        vertical-align: top;\n",
       "    }\n",
       "\n",
       "    .dataframe thead th {\n",
       "        text-align: right;\n",
       "    }\n",
       "</style>\n",
       "<table border=\"1\" class=\"dataframe\">\n",
       "  <thead>\n",
       "    <tr style=\"text-align: right;\">\n",
       "      <th></th>\n",
       "      <th>RegionID</th>\n",
       "      <th>RegionName</th>\n",
       "      <th>City</th>\n",
       "      <th>State</th>\n",
       "      <th>Metro</th>\n",
       "      <th>CountyName</th>\n",
       "      <th>SizeRank</th>\n",
       "      <th>Month</th>\n",
       "      <th>MeanValue</th>\n",
       "    </tr>\n",
       "    <tr>\n",
       "      <th>date</th>\n",
       "      <th></th>\n",
       "      <th></th>\n",
       "      <th></th>\n",
       "      <th></th>\n",
       "      <th></th>\n",
       "      <th></th>\n",
       "      <th></th>\n",
       "      <th></th>\n",
       "      <th></th>\n",
       "    </tr>\n",
       "  </thead>\n",
       "  <tbody>\n",
       "    <tr>\n",
       "      <td>1996-04-01</td>\n",
       "      <td>61807</td>\n",
       "      <td>10467</td>\n",
       "      <td>New York</td>\n",
       "      <td>NY</td>\n",
       "      <td>New York</td>\n",
       "      <td>Bronx</td>\n",
       "      <td>7</td>\n",
       "      <td>1996-04-01</td>\n",
       "      <td>152900.0</td>\n",
       "    </tr>\n",
       "    <tr>\n",
       "      <td>1996-04-01</td>\n",
       "      <td>62037</td>\n",
       "      <td>11226</td>\n",
       "      <td>New York</td>\n",
       "      <td>NY</td>\n",
       "      <td>New York</td>\n",
       "      <td>Kings</td>\n",
       "      <td>11</td>\n",
       "      <td>1996-04-01</td>\n",
       "      <td>162000.0</td>\n",
       "    </tr>\n",
       "    <tr>\n",
       "      <td>1996-04-01</td>\n",
       "      <td>62087</td>\n",
       "      <td>11375</td>\n",
       "      <td>New York</td>\n",
       "      <td>NY</td>\n",
       "      <td>New York</td>\n",
       "      <td>Queens</td>\n",
       "      <td>13</td>\n",
       "      <td>1996-04-01</td>\n",
       "      <td>252400.0</td>\n",
       "    </tr>\n",
       "    <tr>\n",
       "      <td>1996-04-01</td>\n",
       "      <td>62045</td>\n",
       "      <td>11235</td>\n",
       "      <td>New York</td>\n",
       "      <td>NY</td>\n",
       "      <td>New York</td>\n",
       "      <td>Kings</td>\n",
       "      <td>14</td>\n",
       "      <td>1996-04-01</td>\n",
       "      <td>190500.0</td>\n",
       "    </tr>\n",
       "    <tr>\n",
       "      <td>1996-04-01</td>\n",
       "      <td>61703</td>\n",
       "      <td>10128</td>\n",
       "      <td>New York</td>\n",
       "      <td>NY</td>\n",
       "      <td>New York</td>\n",
       "      <td>New York</td>\n",
       "      <td>22</td>\n",
       "      <td>1996-04-01</td>\n",
       "      <td>3676700.0</td>\n",
       "    </tr>\n",
       "    <tr>\n",
       "      <td>...</td>\n",
       "      <td>...</td>\n",
       "      <td>...</td>\n",
       "      <td>...</td>\n",
       "      <td>...</td>\n",
       "      <td>...</td>\n",
       "      <td>...</td>\n",
       "      <td>...</td>\n",
       "      <td>...</td>\n",
       "      <td>...</td>\n",
       "    </tr>\n",
       "    <tr>\n",
       "      <td>2018-04-01</td>\n",
       "      <td>62430</td>\n",
       "      <td>12153</td>\n",
       "      <td>Sand Lake</td>\n",
       "      <td>NY</td>\n",
       "      <td>Albany</td>\n",
       "      <td>Rensselaer</td>\n",
       "      <td>14664</td>\n",
       "      <td>2018-04-01</td>\n",
       "      <td>207300.0</td>\n",
       "    </tr>\n",
       "    <tr>\n",
       "      <td>2018-04-01</td>\n",
       "      <td>62433</td>\n",
       "      <td>12156</td>\n",
       "      <td>Schodack</td>\n",
       "      <td>NY</td>\n",
       "      <td>Albany</td>\n",
       "      <td>Rensselaer</td>\n",
       "      <td>14694</td>\n",
       "      <td>2018-04-01</td>\n",
       "      <td>199400.0</td>\n",
       "    </tr>\n",
       "    <tr>\n",
       "      <td>2018-04-01</td>\n",
       "      <td>62599</td>\n",
       "      <td>12480</td>\n",
       "      <td>Shandaken</td>\n",
       "      <td>NY</td>\n",
       "      <td>Kingston</td>\n",
       "      <td>Ulster</td>\n",
       "      <td>14703</td>\n",
       "      <td>2018-04-01</td>\n",
       "      <td>163700.0</td>\n",
       "    </tr>\n",
       "    <tr>\n",
       "      <td>2018-04-01</td>\n",
       "      <td>62556</td>\n",
       "      <td>12429</td>\n",
       "      <td>Esopus</td>\n",
       "      <td>NY</td>\n",
       "      <td>Kingston</td>\n",
       "      <td>Ulster</td>\n",
       "      <td>14716</td>\n",
       "      <td>2018-04-01</td>\n",
       "      <td>177500.0</td>\n",
       "    </tr>\n",
       "    <tr>\n",
       "      <td>2018-04-01</td>\n",
       "      <td>62697</td>\n",
       "      <td>12720</td>\n",
       "      <td>Bethel</td>\n",
       "      <td>NY</td>\n",
       "      <td>NaN</td>\n",
       "      <td>Sullivan</td>\n",
       "      <td>14718</td>\n",
       "      <td>2018-04-01</td>\n",
       "      <td>117700.0</td>\n",
       "    </tr>\n",
       "  </tbody>\n",
       "</table>\n",
       "<p>265015 rows × 9 columns</p>\n",
       "</div>"
      ],
      "text/plain": [
       "            RegionID  RegionName       City  ... SizeRank      Month  MeanValue\n",
       "date                                         ...                               \n",
       "1996-04-01     61807       10467   New York  ...        7 1996-04-01   152900.0\n",
       "1996-04-01     62037       11226   New York  ...       11 1996-04-01   162000.0\n",
       "1996-04-01     62087       11375   New York  ...       13 1996-04-01   252400.0\n",
       "1996-04-01     62045       11235   New York  ...       14 1996-04-01   190500.0\n",
       "1996-04-01     61703       10128   New York  ...       22 1996-04-01  3676700.0\n",
       "...              ...         ...        ...  ...      ...        ...        ...\n",
       "2018-04-01     62430       12153  Sand Lake  ...    14664 2018-04-01   207300.0\n",
       "2018-04-01     62433       12156   Schodack  ...    14694 2018-04-01   199400.0\n",
       "2018-04-01     62599       12480  Shandaken  ...    14703 2018-04-01   163700.0\n",
       "2018-04-01     62556       12429     Esopus  ...    14716 2018-04-01   177500.0\n",
       "2018-04-01     62697       12720     Bethel  ...    14718 2018-04-01   117700.0\n",
       "\n",
       "[265015 rows x 9 columns]"
      ]
     },
     "execution_count": 35,
     "metadata": {},
     "output_type": "execute_result"
    }
   ],
   "source": [
    "ny= df.loc[df['State']=='NY']\n",
    "ny"
   ]
  },
  {
   "cell_type": "code",
   "execution_count": 36,
   "metadata": {
    "ExecuteTime": {
     "end_time": "2019-12-30T21:17:19.425138Z",
     "start_time": "2019-12-30T21:17:13.493530Z"
    }
   },
   "outputs": [
    {
     "data": {
      "text/html": [
       "<div>\n",
       "<style scoped>\n",
       "    .dataframe tbody tr th:only-of-type {\n",
       "        vertical-align: middle;\n",
       "    }\n",
       "\n",
       "    .dataframe tbody tr th {\n",
       "        vertical-align: top;\n",
       "    }\n",
       "\n",
       "    .dataframe thead th {\n",
       "        text-align: right;\n",
       "    }\n",
       "</style>\n",
       "<table border=\"1\" class=\"dataframe\">\n",
       "  <thead>\n",
       "    <tr style=\"text-align: right;\">\n",
       "      <th></th>\n",
       "      <th></th>\n",
       "      <th>RegionID</th>\n",
       "      <th>RegionName</th>\n",
       "      <th>SizeRank</th>\n",
       "      <th>MeanValue</th>\n",
       "    </tr>\n",
       "    <tr>\n",
       "      <th>RegionName</th>\n",
       "      <th>date</th>\n",
       "      <th></th>\n",
       "      <th></th>\n",
       "      <th></th>\n",
       "      <th></th>\n",
       "    </tr>\n",
       "  </thead>\n",
       "  <tbody>\n",
       "    <tr>\n",
       "      <td rowspan=\"5\" valign=\"top\">10011</td>\n",
       "      <td>2005-01-01</td>\n",
       "      <td>61625</td>\n",
       "      <td>10011</td>\n",
       "      <td>21</td>\n",
       "      <td>3762100.0</td>\n",
       "    </tr>\n",
       "    <tr>\n",
       "      <td>2005-02-01</td>\n",
       "      <td>61625</td>\n",
       "      <td>10011</td>\n",
       "      <td>21</td>\n",
       "      <td>3908800.0</td>\n",
       "    </tr>\n",
       "    <tr>\n",
       "      <td>2005-03-01</td>\n",
       "      <td>61625</td>\n",
       "      <td>10011</td>\n",
       "      <td>21</td>\n",
       "      <td>4023200.0</td>\n",
       "    </tr>\n",
       "    <tr>\n",
       "      <td>2005-04-01</td>\n",
       "      <td>61625</td>\n",
       "      <td>10011</td>\n",
       "      <td>21</td>\n",
       "      <td>4084800.0</td>\n",
       "    </tr>\n",
       "    <tr>\n",
       "      <td>2005-05-01</td>\n",
       "      <td>61625</td>\n",
       "      <td>10011</td>\n",
       "      <td>21</td>\n",
       "      <td>4080800.0</td>\n",
       "    </tr>\n",
       "  </tbody>\n",
       "</table>\n",
       "</div>"
      ],
      "text/plain": [
       "                       RegionID  RegionName  SizeRank  MeanValue\n",
       "RegionName date                                                 \n",
       "10011      2005-01-01     61625       10011        21  3762100.0\n",
       "           2005-02-01     61625       10011        21  3908800.0\n",
       "           2005-03-01     61625       10011        21  4023200.0\n",
       "           2005-04-01     61625       10011        21  4084800.0\n",
       "           2005-05-01     61625       10011        21  4080800.0"
      ]
     },
     "metadata": {},
     "output_type": "display_data"
    }
   ],
   "source": [
    "ny_mean = ny.groupby('RegionName').resample('MS').mean()\n",
    "display(ny_mean.head())\n",
    "\n",
    "ts = ny_mean.loc[(12211), 'MeanValue']"
   ]
  },
  {
   "cell_type": "code",
   "execution_count": 37,
   "metadata": {
    "ExecuteTime": {
     "end_time": "2019-12-30T21:17:20.323560Z",
     "start_time": "2019-12-30T21:17:19.426452Z"
    }
   },
   "outputs": [
    {
     "data": {
      "image/png": "[encoded data removed]",
      "text/plain": [
       "<Figure size 432x288 with 4 Axes>"
      ]
     },
     "metadata": {
      "needs_background": "light"
     },
     "output_type": "display_data"
    }
   ],
   "source": [
    "from statsmodels.tsa.seasonal import seasonal_decompose\n",
    "ts = ts.asfreq('MS')\n",
    "model = seasonal_decompose(ts)\n",
    "model.plot();"
   ]
  },
  {
   "cell_type": "code",
   "execution_count": 38,
   "metadata": {
    "ExecuteTime": {
     "end_time": "2019-12-30T21:17:21.303712Z",
     "start_time": "2019-12-30T21:17:20.325191Z"
    }
   },
   "outputs": [
    {
     "data": {
      "image/png": "[encoded data removed]",
      "text/plain": [
       "<Figure size 864x864 with 4 Axes>"
      ]
     },
     "metadata": {
      "needs_background": "light"
     },
     "output_type": "display_data"
    }
   ],
   "source": [
    "def seasonal_decomp_plot(ts,decomp_kws={},figwidth=12,figheight=12):\n",
    "#     import statsmodels.api as sm\n",
    "    from statsmodels.tsa.seasonal import seasonal_decompose\n",
    "    decomp = seasonal_decompose(ts, **decomp_kws)\n",
    "    # fig,ax = plt.subplots(figsize=(12,12))\n",
    "    fig = decomp.plot()\n",
    "    ax = fig.get_axes()\n",
    "    fig = ax[0].get_figure()\n",
    "    \n",
    "    fig.set_figheight(figheight)\n",
    "    fig.set_figwidth(figwidth)\n",
    "    \n",
    "    return decomp\n",
    "\n",
    "\n",
    "    \n",
    "decomp=seasonal_decomp_plot(ts)\n",
    "# px.line(ts)\n",
    "# decomp.nobs"
   ]
  },
  {
   "cell_type": "code",
   "execution_count": null,
   "metadata": {},
   "outputs": [],
   "source": []
  },
  {
   "cell_type": "code",
   "execution_count": 39,
   "metadata": {
    "ExecuteTime": {
     "end_time": "2019-12-30T21:17:23.116795Z",
     "start_time": "2019-12-30T21:17:21.305632Z"
    }
   },
   "outputs": [
    {
     "data": {
      "text/html": [
       "<div>\n",
       "<style scoped>\n",
       "    .dataframe tbody tr th:only-of-type {\n",
       "        vertical-align: middle;\n",
       "    }\n",
       "\n",
       "    .dataframe tbody tr th {\n",
       "        vertical-align: top;\n",
       "    }\n",
       "\n",
       "    .dataframe thead th {\n",
       "        text-align: right;\n",
       "    }\n",
       "</style>\n",
       "<table border=\"1\" class=\"dataframe\">\n",
       "  <thead>\n",
       "    <tr style=\"text-align: right;\">\n",
       "      <th></th>\n",
       "      <th></th>\n",
       "      <th>RegionID</th>\n",
       "      <th>SizeRank</th>\n",
       "      <th>MeanValue</th>\n",
       "    </tr>\n",
       "    <tr>\n",
       "      <th>date</th>\n",
       "      <th>RegionName</th>\n",
       "      <th></th>\n",
       "      <th></th>\n",
       "      <th></th>\n",
       "    </tr>\n",
       "  </thead>\n",
       "  <tbody>\n",
       "    <tr>\n",
       "      <td rowspan=\"5\" valign=\"top\">1996-04-01</td>\n",
       "      <td>1001</td>\n",
       "      <td>58196</td>\n",
       "      <td>5851</td>\n",
       "      <td>113100.0</td>\n",
       "    </tr>\n",
       "    <tr>\n",
       "      <td>1002</td>\n",
       "      <td>58197</td>\n",
       "      <td>4200</td>\n",
       "      <td>161000.0</td>\n",
       "    </tr>\n",
       "    <tr>\n",
       "      <td>1005</td>\n",
       "      <td>58200</td>\n",
       "      <td>11214</td>\n",
       "      <td>103100.0</td>\n",
       "    </tr>\n",
       "    <tr>\n",
       "      <td>1007</td>\n",
       "      <td>58201</td>\n",
       "      <td>6851</td>\n",
       "      <td>133400.0</td>\n",
       "    </tr>\n",
       "    <tr>\n",
       "      <td>1008</td>\n",
       "      <td>58202</td>\n",
       "      <td>14548</td>\n",
       "      <td>117500.0</td>\n",
       "    </tr>\n",
       "    <tr>\n",
       "      <td>...</td>\n",
       "      <td>...</td>\n",
       "      <td>...</td>\n",
       "      <td>...</td>\n",
       "      <td>...</td>\n",
       "    </tr>\n",
       "    <tr>\n",
       "      <td rowspan=\"5\" valign=\"top\">2018-04-01</td>\n",
       "      <td>99709</td>\n",
       "      <td>100384</td>\n",
       "      <td>4527</td>\n",
       "      <td>262400.0</td>\n",
       "    </tr>\n",
       "    <tr>\n",
       "      <td>99712</td>\n",
       "      <td>100387</td>\n",
       "      <td>8439</td>\n",
       "      <td>274600.0</td>\n",
       "    </tr>\n",
       "    <tr>\n",
       "      <td>99801</td>\n",
       "      <td>100459</td>\n",
       "      <td>4107</td>\n",
       "      <td>413300.0</td>\n",
       "    </tr>\n",
       "    <tr>\n",
       "      <td>99835</td>\n",
       "      <td>100473</td>\n",
       "      <td>8659</td>\n",
       "      <td>404800.0</td>\n",
       "    </tr>\n",
       "    <tr>\n",
       "      <td>99901</td>\n",
       "      <td>100478</td>\n",
       "      <td>7294</td>\n",
       "      <td>305100.0</td>\n",
       "    </tr>\n",
       "  </tbody>\n",
       "</table>\n",
       "<p>3744704 rows × 3 columns</p>\n",
       "</div>"
      ],
      "text/plain": [
       "                       RegionID  SizeRank  MeanValue\n",
       "date       RegionName                               \n",
       "1996-04-01 1001           58196      5851   113100.0\n",
       "           1002           58197      4200   161000.0\n",
       "           1005           58200     11214   103100.0\n",
       "           1007           58201      6851   133400.0\n",
       "           1008           58202     14548   117500.0\n",
       "...                         ...       ...        ...\n",
       "2018-04-01 99709         100384      4527   262400.0\n",
       "           99712         100387      8439   274600.0\n",
       "           99801         100459      4107   413300.0\n",
       "           99835         100473      8659   404800.0\n",
       "           99901         100478      7294   305100.0\n",
       "\n",
       "[3744704 rows x 3 columns]"
      ]
     },
     "execution_count": 39,
     "metadata": {},
     "output_type": "execute_result"
    }
   ],
   "source": [
    "df_res = df.groupby([pd.Grouper(freq='MS'),'RegionName']).mean()\n",
    "df_res"
   ]
  },
  {
   "cell_type": "code",
   "execution_count": null,
   "metadata": {},
   "outputs": [],
   "source": []
  },
  {
   "cell_type": "code",
   "execution_count": 40,
   "metadata": {
    "ExecuteTime": {
     "end_time": "2019-12-30T21:17:23.121946Z",
     "start_time": "2019-12-30T21:17:23.118909Z"
    }
   },
   "outputs": [],
   "source": [
    "# df = df.resample('MS')\n",
    "# df"
   ]
  },
  {
   "cell_type": "markdown",
   "metadata": {},
   "source": [
    "### NY"
   ]
  },
  {
   "cell_type": "code",
   "execution_count": 41,
   "metadata": {
    "ExecuteTime": {
     "end_time": "2019-12-30T21:17:23.126386Z",
     "start_time": "2019-12-30T21:17:23.123720Z"
    }
   },
   "outputs": [],
   "source": [
    "mpl.rcParams['figure.figsize']=12,6"
   ]
  },
  {
   "cell_type": "code",
   "execution_count": 43,
   "metadata": {
    "ExecuteTime": {
     "end_time": "2019-12-30T21:17:29.375429Z",
     "start_time": "2019-12-30T21:17:29.133283Z"
    }
   },
   "outputs": [
    {
     "data": {
      "text/html": [
       "<div>\n",
       "<style scoped>\n",
       "    .dataframe tbody tr th:only-of-type {\n",
       "        vertical-align: middle;\n",
       "    }\n",
       "\n",
       "    .dataframe tbody tr th {\n",
       "        vertical-align: top;\n",
       "    }\n",
       "\n",
       "    .dataframe thead th {\n",
       "        text-align: right;\n",
       "    }\n",
       "</style>\n",
       "<table border=\"1\" class=\"dataframe\">\n",
       "  <thead>\n",
       "    <tr style=\"text-align: right;\">\n",
       "      <th></th>\n",
       "      <th>RegionID</th>\n",
       "      <th>RegionName</th>\n",
       "      <th>City</th>\n",
       "      <th>State</th>\n",
       "      <th>Metro</th>\n",
       "      <th>CountyName</th>\n",
       "      <th>SizeRank</th>\n",
       "      <th>Month</th>\n",
       "      <th>MeanValue</th>\n",
       "    </tr>\n",
       "    <tr>\n",
       "      <th>date</th>\n",
       "      <th></th>\n",
       "      <th></th>\n",
       "      <th></th>\n",
       "      <th></th>\n",
       "      <th></th>\n",
       "      <th></th>\n",
       "      <th></th>\n",
       "      <th></th>\n",
       "      <th></th>\n",
       "    </tr>\n",
       "  </thead>\n",
       "  <tbody>\n",
       "    <tr>\n",
       "      <td>1996-04-01</td>\n",
       "      <td>61807</td>\n",
       "      <td>10467</td>\n",
       "      <td>New York</td>\n",
       "      <td>NY</td>\n",
       "      <td>New York</td>\n",
       "      <td>Bronx</td>\n",
       "      <td>7</td>\n",
       "      <td>1996-04-01</td>\n",
       "      <td>152900.0</td>\n",
       "    </tr>\n",
       "    <tr>\n",
       "      <td>1996-04-01</td>\n",
       "      <td>62037</td>\n",
       "      <td>11226</td>\n",
       "      <td>New York</td>\n",
       "      <td>NY</td>\n",
       "      <td>New York</td>\n",
       "      <td>Kings</td>\n",
       "      <td>11</td>\n",
       "      <td>1996-04-01</td>\n",
       "      <td>162000.0</td>\n",
       "    </tr>\n",
       "    <tr>\n",
       "      <td>1996-04-01</td>\n",
       "      <td>62087</td>\n",
       "      <td>11375</td>\n",
       "      <td>New York</td>\n",
       "      <td>NY</td>\n",
       "      <td>New York</td>\n",
       "      <td>Queens</td>\n",
       "      <td>13</td>\n",
       "      <td>1996-04-01</td>\n",
       "      <td>252400.0</td>\n",
       "    </tr>\n",
       "    <tr>\n",
       "      <td>1996-04-01</td>\n",
       "      <td>62045</td>\n",
       "      <td>11235</td>\n",
       "      <td>New York</td>\n",
       "      <td>NY</td>\n",
       "      <td>New York</td>\n",
       "      <td>Kings</td>\n",
       "      <td>14</td>\n",
       "      <td>1996-04-01</td>\n",
       "      <td>190500.0</td>\n",
       "    </tr>\n",
       "    <tr>\n",
       "      <td>1996-04-01</td>\n",
       "      <td>61703</td>\n",
       "      <td>10128</td>\n",
       "      <td>New York</td>\n",
       "      <td>NY</td>\n",
       "      <td>New York</td>\n",
       "      <td>New York</td>\n",
       "      <td>22</td>\n",
       "      <td>1996-04-01</td>\n",
       "      <td>3676700.0</td>\n",
       "    </tr>\n",
       "  </tbody>\n",
       "</table>\n",
       "</div>"
      ],
      "text/plain": [
       "            RegionID  RegionName      City  ... SizeRank      Month  MeanValue\n",
       "date                                        ...                               \n",
       "1996-04-01     61807       10467  New York  ...        7 1996-04-01   152900.0\n",
       "1996-04-01     62037       11226  New York  ...       11 1996-04-01   162000.0\n",
       "1996-04-01     62087       11375  New York  ...       13 1996-04-01   252400.0\n",
       "1996-04-01     62045       11235  New York  ...       14 1996-04-01   190500.0\n",
       "1996-04-01     61703       10128  New York  ...       22 1996-04-01  3676700.0\n",
       "\n",
       "[5 rows x 9 columns]"
      ]
     },
     "execution_count": 43,
     "metadata": {},
     "output_type": "execute_result"
    }
   ],
   "source": [
    "# states = df.groupby('State').groups\n",
    "\n",
    "# for state,idx in states.items():\n",
    "#     states[state] = df.loc[idx]\n",
    "\n",
    "ny = df.groupby('State').get_group('NY')\n",
    "ny.head()"
   ]
  },
  {
   "cell_type": "code",
   "execution_count": 44,
   "metadata": {
    "ExecuteTime": {
     "end_time": "2019-12-30T21:17:29.954063Z",
     "start_time": "2019-12-30T21:17:29.952257Z"
    }
   },
   "outputs": [],
   "source": [
    "# home = ny.groupby('RegionName').get_group(12211)\n",
    "# home['MeanValue'].plot()"
   ]
  },
  {
   "cell_type": "code",
   "execution_count": 45,
   "metadata": {
    "ExecuteTime": {
     "end_time": "2019-12-30T21:17:37.067075Z",
     "start_time": "2019-12-30T21:17:31.108316Z"
    }
   },
   "outputs": [
    {
     "data": {
      "text/html": [
       "<div>\n",
       "<style scoped>\n",
       "    .dataframe tbody tr th:only-of-type {\n",
       "        vertical-align: middle;\n",
       "    }\n",
       "\n",
       "    .dataframe tbody tr th {\n",
       "        vertical-align: top;\n",
       "    }\n",
       "\n",
       "    .dataframe thead th {\n",
       "        text-align: right;\n",
       "    }\n",
       "</style>\n",
       "<table border=\"1\" class=\"dataframe\">\n",
       "  <thead>\n",
       "    <tr style=\"text-align: right;\">\n",
       "      <th></th>\n",
       "      <th></th>\n",
       "      <th>RegionID</th>\n",
       "      <th>RegionName</th>\n",
       "      <th>SizeRank</th>\n",
       "      <th>MeanValue</th>\n",
       "    </tr>\n",
       "    <tr>\n",
       "      <th>RegionName</th>\n",
       "      <th>date</th>\n",
       "      <th></th>\n",
       "      <th></th>\n",
       "      <th></th>\n",
       "      <th></th>\n",
       "    </tr>\n",
       "  </thead>\n",
       "  <tbody>\n",
       "    <tr>\n",
       "      <td rowspan=\"5\" valign=\"top\">10011</td>\n",
       "      <td>2005-01-01</td>\n",
       "      <td>61625</td>\n",
       "      <td>10011</td>\n",
       "      <td>21</td>\n",
       "      <td>3762100.0</td>\n",
       "    </tr>\n",
       "    <tr>\n",
       "      <td>2005-02-01</td>\n",
       "      <td>61625</td>\n",
       "      <td>10011</td>\n",
       "      <td>21</td>\n",
       "      <td>3908800.0</td>\n",
       "    </tr>\n",
       "    <tr>\n",
       "      <td>2005-03-01</td>\n",
       "      <td>61625</td>\n",
       "      <td>10011</td>\n",
       "      <td>21</td>\n",
       "      <td>4023200.0</td>\n",
       "    </tr>\n",
       "    <tr>\n",
       "      <td>2005-04-01</td>\n",
       "      <td>61625</td>\n",
       "      <td>10011</td>\n",
       "      <td>21</td>\n",
       "      <td>4084800.0</td>\n",
       "    </tr>\n",
       "    <tr>\n",
       "      <td>2005-05-01</td>\n",
       "      <td>61625</td>\n",
       "      <td>10011</td>\n",
       "      <td>21</td>\n",
       "      <td>4080800.0</td>\n",
       "    </tr>\n",
       "  </tbody>\n",
       "</table>\n",
       "</div>"
      ],
      "text/plain": [
       "                       RegionID  RegionName  SizeRank  MeanValue\n",
       "RegionName date                                                 \n",
       "10011      2005-01-01     61625       10011        21  3762100.0\n",
       "           2005-02-01     61625       10011        21  3908800.0\n",
       "           2005-03-01     61625       10011        21  4023200.0\n",
       "           2005-04-01     61625       10011        21  4084800.0\n",
       "           2005-05-01     61625       10011        21  4080800.0"
      ]
     },
     "metadata": {},
     "output_type": "display_data"
    }
   ],
   "source": [
    "ny_mean = ny.groupby('RegionName').resample('MS').mean()\n",
    "display(ny_mean.head())"
   ]
  },
  {
   "cell_type": "code",
   "execution_count": 46,
   "metadata": {
    "ExecuteTime": {
     "end_time": "2019-12-30T21:17:37.074214Z",
     "start_time": "2019-12-30T21:17:37.068677Z"
    }
   },
   "outputs": [
    {
     "data": {
      "text/plain": [
       "MultiIndex([(10011, '2005-01-01'),\n",
       "            (10011, '2005-02-01'),\n",
       "            (10011, '2005-03-01'),\n",
       "            (10011, '2005-04-01'),\n",
       "            (10011, '2005-05-01'),\n",
       "            (10011, '2005-06-01'),\n",
       "            (10011, '2005-07-01'),\n",
       "            (10011, '2005-08-01'),\n",
       "            (10011, '2005-09-01'),\n",
       "            (10011, '2005-10-01'),\n",
       "            ...\n",
       "            (14905, '2017-07-01'),\n",
       "            (14905, '2017-08-01'),\n",
       "            (14905, '2017-09-01'),\n",
       "            (14905, '2017-10-01'),\n",
       "            (14905, '2017-11-01'),\n",
       "            (14905, '2017-12-01'),\n",
       "            (14905, '2018-01-01'),\n",
       "            (14905, '2018-02-01'),\n",
       "            (14905, '2018-03-01'),\n",
       "            (14905, '2018-04-01')],\n",
       "           names=['RegionName', 'date'], length=265015)"
      ]
     },
     "execution_count": 46,
     "metadata": {},
     "output_type": "execute_result"
    }
   ],
   "source": [
    "ny_mean.index"
   ]
  },
  {
   "cell_type": "code",
   "execution_count": 47,
   "metadata": {
    "ExecuteTime": {
     "end_time": "2019-12-30T21:17:37.077788Z",
     "start_time": "2019-12-30T21:17:37.075852Z"
    }
   },
   "outputs": [],
   "source": [
    "# df_orig['RegionName'].loc['90275']"
   ]
  },
  {
   "cell_type": "code",
   "execution_count": 48,
   "metadata": {
    "ExecuteTime": {
     "end_time": "2019-12-30T21:17:37.305370Z",
     "start_time": "2019-12-30T21:17:37.079135Z"
    }
   },
   "outputs": [
    {
     "data": {
      "text/plain": [
       "date\n",
       "1996-04-01    150900.0\n",
       "1996-05-01    150400.0\n",
       "1996-06-01    149900.0\n",
       "1996-07-01    149400.0\n",
       "1996-08-01    149000.0\n",
       "                ...   \n",
       "2017-12-01    286000.0\n",
       "2018-01-01    287700.0\n",
       "2018-02-01    287300.0\n",
       "2018-03-01    291400.0\n",
       "2018-04-01    296300.0\n",
       "Name: MeanValue, Length: 265, dtype: float64"
      ]
     },
     "execution_count": 48,
     "metadata": {},
     "output_type": "execute_result"
    },
    {
     "data": {
      "image/png": "[encoded data removed]",
      "text/plain": [
       "<Figure size 864x432 with 1 Axes>"
      ]
     },
     "metadata": {
      "needs_background": "light"
     },
     "output_type": "display_data"
    }
   ],
   "source": [
    "ts = ny_mean.loc[12211,'MeanValue']\n",
    "ts.plot()\n",
    "ts"
   ]
  },
  {
   "cell_type": "markdown",
   "metadata": {},
   "source": [
    "### Selecting Smaller Time Window"
   ]
  },
  {
   "cell_type": "code",
   "execution_count": 49,
   "metadata": {
    "ExecuteTime": {
     "end_time": "2019-12-30T21:17:37.571785Z",
     "start_time": "2019-12-30T21:17:37.306983Z"
    }
   },
   "outputs": [
    {
     "data": {
      "text/plain": [
       "<matplotlib.axes._subplots.AxesSubplot at 0x1a1872ecc0>"
      ]
     },
     "execution_count": 49,
     "metadata": {},
     "output_type": "execute_result"
    },
    {
     "data": {
      "image/png": "[encoded data removed]",
      "text/plain": [
       "<Figure size 864x432 with 1 Axes>"
      ]
     },
     "metadata": {
      "needs_background": "light"
     },
     "output_type": "display_data"
    }
   ],
   "source": [
    "start_date = '2008'\n",
    "ts = ts.loc[start_date:]\n",
    "ts.plot()"
   ]
  },
  {
   "cell_type": "code",
   "execution_count": 50,
   "metadata": {
    "ExecuteTime": {
     "end_time": "2019-12-30T21:17:38.911293Z",
     "start_time": "2019-12-30T21:17:37.573280Z"
    }
   },
   "outputs": [
    {
     "data": {
      "image/png": "[encoded data removed]",
      "text/plain": [
       "<Figure size 864x432 with 4 Axes>"
      ]
     },
     "metadata": {
      "needs_background": "light"
     },
     "output_type": "display_data"
    }
   ],
   "source": [
    "from statsmodels.tsa.seasonal import seasonal_decompose\n",
    "ts = ts.asfreq('MS')\n",
    "model = seasonal_decompose(ts)\n",
    "model.plot();"
   ]
  },
  {
   "cell_type": "code",
   "execution_count": null,
   "metadata": {
    "ExecuteTime": {
     "end_time": "2019-12-22T01:58:19.093827Z",
     "start_time": "2019-12-22T01:58:19.087004Z"
    }
   },
   "outputs": [],
   "source": []
  },
  {
   "cell_type": "markdown",
   "metadata": {
    "ExecuteTime": {
     "end_time": "2019-12-22T00:54:37.514596Z",
     "start_time": "2019-12-22T00:54:37.374996Z"
    }
   },
   "source": [
    "## stationarity check"
   ]
  },
  {
   "cell_type": "code",
   "execution_count": 51,
   "metadata": {
    "ExecuteTime": {
     "end_time": "2019-12-30T21:17:38.920080Z",
     "start_time": "2019-12-30T21:17:38.912690Z"
    }
   },
   "outputs": [],
   "source": [
    "## Lab Function\n",
    "def stationarity_check(TS,plot=True,col=None,rollwindow=8):\n",
    "    \"\"\"\n",
    "    Performs the Augmented Dickey-Fuller unit root test on a time series.\n",
    "\n",
    "    - The null hypothesis of the Augmented Dickey-Fuller is that there is a unit root, with the alternative that there is no unit root. \n",
    "        - A unit root (also called a unit root process or a difference stationary process) \n",
    "        is a stochastic trend in a time series, sometimes called a “random walk with drift”; \n",
    "        - If a time series has a unit root, it shows a systematic pattern that is unpredictable, and non-stationary.\n",
    "        \n",
    "    From: https://learn.co/tracks/data-science-career-v2/module-4-a-complete-data-science-project-using-multiple-regression/working-with-time-series-data/time-series-decomposition\n",
    "    \"\"\"\n",
    "    # Import adfuller\n",
    "    from statsmodels.tsa.stattools import adfuller\n",
    "\n",
    "    if col is not None:\n",
    "        # Perform the Dickey Fuller Test\n",
    "        dftest = adfuller(TS[col]) # change the passengers column as required \n",
    "    else:\n",
    "        dftest=adfuller(TS)\n",
    " \n",
    "    if plot:\n",
    "        # Calculate rolling statistics\n",
    "        rolmean = TS.rolling(window = rollwindow, center = False).mean()\n",
    "        rolstd = TS.rolling(window = rollwindow, center = False).std()\n",
    "\n",
    "        #Plot rolling statistics:\n",
    "        fig = plt.figure(figsize=(12,6))\n",
    "        orig = plt.plot(TS, color='blue',label='Original')\n",
    "        mean = plt.plot(rolmean, color='red', label='Rolling Mean')\n",
    "        std = plt.plot(rolstd, color='black', label = 'Rolling Std')\n",
    "        plt.legend(loc='best')\n",
    "        plt.title('Rolling Mean & Standard Deviation')\n",
    "#     plt.show(block=False)\n",
    "    \n",
    "    # Print Dickey-Fuller test results\n",
    "    print ('[i] Results of Dickey-Fuller Test:')\n",
    "\n",
    "    dfoutput = pd.Series(dftest[0:4],\n",
    "                         index=['Test Statistic','p-value','# of Lags Used','Number of Observations Used'])\n",
    "    for key,value in dftest[4].items():\n",
    "        dfoutput['Critical Value (%s)'%key] = value\n",
    "        \n",
    "\n",
    "    sig = dfoutput['p-value']<.05\n",
    "    print (dfoutput)\n",
    "    print()\n",
    "    if sig:\n",
    "        print(f\"[i] p-val {dfoutput['p-value'].round(4)} is <.05, so we reject the null hypothesis.\")\n",
    "        print(\"\\tThe time series is NOT stationary.\")\n",
    "    else:\n",
    "        print(f\"[i] p-val {dfoutput['p-value'].round(4)} is >.05, therefore we support the null hypothesis.\")\n",
    "        print('\\tThe time series IS stationary.')\n",
    "    \n",
    "    return dfoutput"
   ]
  },
  {
   "cell_type": "markdown",
   "metadata": {},
   "source": [
    "### EDA/Stationarity"
   ]
  },
  {
   "cell_type": "code",
   "execution_count": 52,
   "metadata": {
    "ExecuteTime": {
     "end_time": "2019-12-30T21:17:39.153983Z",
     "start_time": "2019-12-30T21:17:38.922177Z"
    }
   },
   "outputs": [
    {
     "name": "stdout",
     "output_type": "stream",
     "text": [
      "[i] Results of Dickey-Fuller Test:\n",
      "Test Statistic                   0.310205\n",
      "p-value                          0.977808\n",
      "# of Lags Used                   9.000000\n",
      "Number of Observations Used    114.000000\n",
      "Critical Value (1%)             -3.489058\n",
      "Critical Value (5%)             -2.887246\n",
      "Critical Value (10%)            -2.580481\n",
      "dtype: float64\n",
      "\n",
      "[i] p-val 0.9778 is >.05, therefore we support the null hypothesis.\n",
      "\tThe time series IS stationary.\n"
     ]
    },
    {
     "data": {
      "image/png": "[encoded data removed]",
      "text/plain": [
       "<Figure size 864x432 with 1 Axes>"
      ]
     },
     "metadata": {
      "needs_background": "light"
     },
     "output_type": "display_data"
    }
   ],
   "source": [
    "stationarity_check(ts);"
   ]
  },
  {
   "cell_type": "code",
   "execution_count": null,
   "metadata": {},
   "outputs": [],
   "source": []
  },
  {
   "cell_type": "code",
   "execution_count": 77,
   "metadata": {
    "ExecuteTime": {
     "end_time": "2019-12-30T21:27:52.145019Z",
     "start_time": "2019-12-30T21:27:52.139130Z"
    }
   },
   "outputs": [
    {
     "data": {
      "text/plain": [
       "date\n",
       "2008-01-01              NaN\n",
       "2008-02-01              NaN\n",
       "2008-03-01    272100.000000\n",
       "2008-04-01    271933.333333\n",
       "2008-05-01    272066.666667\n",
       "                  ...      \n",
       "2017-12-01    279066.666667\n",
       "2018-01-01    284166.666667\n",
       "2018-02-01    287000.000000\n",
       "2018-03-01    288800.000000\n",
       "2018-04-01    291666.666667\n",
       "Freq: MS, Name: MeanValue, Length: 124, dtype: float64"
      ]
     },
     "execution_count": 77,
     "metadata": {},
     "output_type": "execute_result"
    }
   ],
   "source": [
    "window=3\n",
    "mean = ts.rolling(window).mean()\n",
    "std = ts.rolling(window).std()\n",
    "mean"
   ]
  },
  {
   "cell_type": "code",
   "execution_count": 135,
   "metadata": {
    "ExecuteTime": {
     "end_time": "2019-12-30T21:45:34.086471Z",
     "start_time": "2019-12-30T21:45:34.078927Z"
    }
   },
   "outputs": [],
   "source": [
    "def calc_bollinger_bands(ts,window=20,col=None):\n",
    "    \"\"\"Calculates Bollinger Bands for time series. If ts is a dataframe, col specifies data.\n",
    "    Normally used for financial/stock market data and uses 20 days for rolling calculations.\"\"\"\n",
    "\n",
    "    bands_df = pd.DataFrame()\n",
    "    if col is not None:\n",
    "        ts=ts[col]\n",
    "\n",
    "    ## Calc rolling Moving Average\n",
    "    mean = ts.rolling(window).mean()\n",
    "    std = ts.rolling(window).std()\n",
    "\n",
    "    ## Calc MA +2*std(window)\n",
    "    upper = mean+ 2*(std)\n",
    "\n",
    "    ## Lower\n",
    "    lower = mean -2*(std)\n",
    "\n",
    "    ## COMBINE DATA INTO 1 DF\n",
    "    bands_df['Raw Data'] = ts\n",
    "    bands_df['Rolling Mean'] = mean\n",
    "    bands_df['Lower Band'] = lower\n",
    "    bands_df['Upper Band'] = upper\n",
    "\n",
    "    return bands_df\n",
    "\n",
    "def calc_bollinger_bands_plot(ts,window=20,col=None,\n",
    "                              figsize=(10,6),\n",
    "                              set_kws=dict(\n",
    "                              ylabel='House Price ($)',\n",
    "                              title=f\"Bollinger Bands (window={window})\")\n",
    "                              ):                           \n",
    "    \"\"\"Calculates Bollinger Bands for time series. If ts is a dataframe, col specifies data.\n",
    "    Normally used for financial/stock market data and uses 20 days for rolling calculations.\n",
    "    \"\"\"\n",
    "    \n",
    "    plot_df = calc_bollinger_bands(ts=ts,window=window,col=col)#,figsize=figsize)\n",
    "    \n",
    "    \n",
    "    ## SPECIFY STYLE PER COLUMN\n",
    "    plot_styles = {}\n",
    "    plot_styles['Raw Data'] = dict(lw=1,ls='-',c='black')\n",
    "    plot_styles['Rolling Mean'] = dict(lw=3,alpha=0.6, c='green')\n",
    "    plot_styles['Lower Band'] = dict(lw=2,ls=':',c='blue')\n",
    "    plot_styles['Upper Band'] = dict(lw=2,ls=':',c='red')    \n",
    "\n",
    "    ## Make figure and loop through columns\n",
    "    fig,ax = plt.subplots(figsize=figsize)\n",
    "    for col in plot_df.columns:\n",
    "        plot_df[col].plot(**plot_styles[col])\n",
    " \n",
    "    ax.legend()\n",
    "    ax.set(**set_kws)\n",
    "#     ax.set(ylabel='House Price ($)', title=f\"Bollinger Bands (window={window})\")\n",
    "\n",
    "    return fig,ax"
   ]
  },
  {
   "cell_type": "code",
   "execution_count": 136,
   "metadata": {
    "ExecuteTime": {
     "end_time": "2019-12-30T21:45:35.851452Z",
     "start_time": "2019-12-30T21:45:35.464126Z"
    }
   },
   "outputs": [
    {
     "data": {
      "text/plain": [
       "(516, 576)"
      ]
     },
     "execution_count": 136,
     "metadata": {},
     "output_type": "execute_result"
    },
    {
     "data": {
      "image/png": "[encoded data removed]",
      "text/plain": [
       "<Figure size 720x432 with 1 Axes>"
      ]
     },
     "metadata": {
      "needs_background": "light"
     },
     "output_type": "display_data"
    }
   ],
   "source": [
    "f,ax= calc_bollinger_bands_plot(ts.resample(rule='MS').asfreq(),\n",
    "                    window=5)\n",
    "ax.set_xlim('2013','2018')"
   ]
  },
  {
   "cell_type": "code",
   "execution_count": null,
   "metadata": {
    "ExecuteTime": {
     "end_time": "2019-12-30T22:01:09.667978Z",
     "start_time": "2019-12-30T22:01:09.658219Z"
    }
   },
   "outputs": [],
   "source": []
  },
  {
   "cell_type": "markdown",
   "metadata": {},
   "source": [
    "### Train-Test-Split"
   ]
  },
  {
   "cell_type": "code",
   "execution_count": 148,
   "metadata": {
    "ExecuteTime": {
     "end_time": "2019-12-30T22:36:31.347588Z",
     "start_time": "2019-12-30T22:36:31.345637Z"
    },
    "scrolled": true
   },
   "outputs": [],
   "source": [
    "# len(ts),len(ts.index)"
   ]
  },
  {
   "cell_type": "code",
   "execution_count": 149,
   "metadata": {
    "ExecuteTime": {
     "end_time": "2019-12-30T22:36:31.631563Z",
     "start_time": "2019-12-30T22:36:31.629052Z"
    }
   },
   "outputs": [],
   "source": [
    "def get_train_test_split_index(ts, TEST_SIZE=0.2):\n",
    "    import math\n",
    "    idx_split = math.floor(len(ts.index)*(1-TEST_SIZE))\n",
    "    return idx_split"
   ]
  },
  {
   "cell_type": "code",
   "execution_count": 150,
   "metadata": {
    "ExecuteTime": {
     "end_time": "2019-12-30T22:36:32.230549Z",
     "start_time": "2019-12-30T22:36:32.225659Z"
    }
   },
   "outputs": [
    {
     "data": {
      "text/plain": [
       "(111,)"
      ]
     },
     "metadata": {},
     "output_type": "display_data"
    },
    {
     "data": {
      "text/plain": [
       "(13,)"
      ]
     },
     "metadata": {},
     "output_type": "display_data"
    }
   ],
   "source": [
    "idx_split = get_train_test_split_index(ts,TEST_SIZE=0.1)\n",
    "\n",
    "ts_train = ts.iloc[:idx_split] \n",
    "ts_test = ts.iloc[idx_split:]\n",
    "\n",
    "display(ts_train.shape)#.style.set_caption('Training Data'))\n",
    "display(ts_test.shape)#.style.set_caption('Test Data'))"
   ]
  },
  {
   "cell_type": "code",
   "execution_count": 151,
   "metadata": {
    "ExecuteTime": {
     "end_time": "2019-12-30T22:36:32.835726Z",
     "start_time": "2019-12-30T22:36:32.831984Z"
    }
   },
   "outputs": [
    {
     "data": {
      "text/plain": [
       "(0, 0)"
      ]
     },
     "execution_count": 151,
     "metadata": {},
     "output_type": "execute_result"
    }
   ],
   "source": [
    "ts_train.isna().sum(), ts_test.isna().sum()"
   ]
  },
  {
   "cell_type": "markdown",
   "metadata": {},
   "source": [
    "### Manual GridSearch for ARIMA (jeff's starter code)"
   ]
  },
  {
   "cell_type": "code",
   "execution_count": 152,
   "metadata": {
    "ExecuteTime": {
     "end_time": "2019-12-30T22:36:34.439054Z",
     "start_time": "2019-12-30T22:36:34.436749Z"
    },
    "code_folding": [
     0
    ]
   },
   "outputs": [],
   "source": [
    "# import warnings\n",
    "# from statsmodels.tsa.arima_model import ARIMA\n",
    "# from sklearn.metrics import mean_squared_error\n",
    "\n",
    "# # evaluate an ARIMA model for a given order (p,d,q)\n",
    "# def evaluate_arima_model(X, arima_order):\n",
    "#     # prepare training dataset\n",
    "#     train_size = int(len(X) * 0.66)\n",
    "#     train, test = X[0:train_size], X[train_size:]\n",
    "#     history = [x for x in train]\n",
    "#     # make predictions\n",
    "#     predictions = list()\n",
    "#     for t in range(len(test)):\n",
    "#         model = ARIMA(history, order=arima_order)\n",
    "#         model_fit = model.fit(disp=0)\n",
    "#         yhat = model_fit.forecast()[0]\n",
    "#         predictions.append(yhat)\n",
    "#         history.append(test[t])\n",
    "#     # calculate out of sample error\n",
    "#     error = mean_squared_error(test, predictions)\n",
    "#     return error\n",
    "\n",
    "# # evaluate combinations of p, d and q values for an ARIMA model\n",
    "# def evaluate_models(dataset, p_values, d_values, q_values):\n",
    "#     results = [['p','d','q','mse']]\n",
    "#     dataset = dataset.astype('float32')\n",
    "#     best_score, best_cfg = float(\"inf\"), None\n",
    "#     for p in p_values:\n",
    "#         for d in d_values:\n",
    "#             for q in q_values:\n",
    "#                 order = (p,d,q)\n",
    "#                 try:\n",
    "#                     mse = evaluate_arima_model(dataset, order)\n",
    "#                     results.append([p,d,q,mse])\n",
    "#                     if mse < best_score:\n",
    "#                         best_score, best_cfg = mse, order\n",
    "#                     print('ARIMA%s MSE=%.3f' % (order,mse))\n",
    "#                 except:\n",
    "#                     continue\n",
    "#     print('Best ARIMA%s MSE=%.3f' % (best_cfg, best_score))\n",
    "#     return results"
   ]
  },
  {
   "cell_type": "code",
   "execution_count": 153,
   "metadata": {
    "ExecuteTime": {
     "end_time": "2019-12-30T22:36:35.117003Z",
     "start_time": "2019-12-30T22:36:35.115250Z"
    },
    "code_folding": [
     0
    ]
   },
   "outputs": [],
   "source": [
    "# # evaluate parameters\n",
    "# p_values = [0, 1, 2, 4]#, 6, 8, 10]\n",
    "# d_values = range(0, 3)\n",
    "# q_values = range(0, 3)\n",
    "# warnings.filterwarnings(\"ignore\")\n",
    "# results = evaluate_models(ts, p_values, d_values, q_values);\n",
    "# # results\n",
    "# # res = fs.list2df(results)"
   ]
  },
  {
   "cell_type": "markdown",
   "metadata": {},
   "source": [
    "## GridSearch with `pmdarima`"
   ]
  },
  {
   "cell_type": "code",
   "execution_count": 154,
   "metadata": {
    "ExecuteTime": {
     "end_time": "2019-12-30T22:36:53.348479Z",
     "start_time": "2019-12-30T22:36:35.925900Z"
    }
   },
   "outputs": [
    {
     "name": "stdout",
     "output_type": "stream",
     "text": [
      "Fit ARIMA: order=(0, 2, 0) seasonal_order=(0, 0, 0, 6); AIC=1770.202, BIC=1772.894, Fit time=0.006 seconds\n",
      "Fit ARIMA: order=(0, 2, 0) seasonal_order=(0, 0, 1, 6); AIC=1773.441, BIC=1778.824, Fit time=0.017 seconds\n",
      "Fit ARIMA: order=(0, 2, 0) seasonal_order=(0, 0, 2, 6); AIC=1777.582, BIC=1785.656, Fit time=0.037 seconds\n",
      "Fit ARIMA: order=(0, 2, 0) seasonal_order=(0, 0, 3, 6); AIC=1783.256, BIC=1794.022, Fit time=0.247 seconds\n",
      "Fit ARIMA: order=(0, 2, 0) seasonal_order=(0, 0, 4, 6); AIC=1782.074, BIC=1795.531, Fit time=0.108 seconds\n",
      "Fit ARIMA: order=(0, 2, 0) seasonal_order=(0, 0, 5, 6); AIC=1785.224, BIC=1801.372, Fit time=0.115 seconds\n",
      "Fit ARIMA: order=(0, 2, 0) seasonal_order=(1, 0, 0, 6); AIC=1772.203, BIC=1777.586, Fit time=0.013 seconds\n",
      "Fit ARIMA: order=(0, 2, 0) seasonal_order=(1, 0, 1, 6); AIC=1775.066, BIC=1783.140, Fit time=0.034 seconds\n",
      "Fit ARIMA: order=(0, 2, 0) seasonal_order=(1, 0, 2, 6); AIC=1778.620, BIC=1789.386, Fit time=0.084 seconds\n",
      "Fit ARIMA: order=(0, 2, 0) seasonal_order=(1, 0, 3, 6); AIC=1783.666, BIC=1797.123, Fit time=0.160 seconds\n",
      "Fit ARIMA: order=(0, 2, 0) seasonal_order=(1, 0, 4, 6); AIC=1780.357, BIC=1796.505, Fit time=0.218 seconds\n",
      "Fit ARIMA: order=(0, 2, 0) seasonal_order=(2, 0, 0, 6); AIC=1774.346, BIC=1782.420, Fit time=0.022 seconds\n",
      "Fit ARIMA: order=(0, 2, 0) seasonal_order=(2, 0, 1, 6); AIC=1777.022, BIC=1787.787, Fit time=0.071 seconds\n",
      "Fit ARIMA: order=(0, 2, 0) seasonal_order=(2, 0, 2, 6); AIC=1780.630, BIC=1794.087, Fit time=0.044 seconds\n",
      "Fit ARIMA: order=(0, 2, 0) seasonal_order=(2, 0, 3, 6); AIC=1785.638, BIC=1801.786, Fit time=0.151 seconds\n",
      "Fit ARIMA: order=(0, 2, 0) seasonal_order=(3, 0, 0, 6); AIC=1776.254, BIC=1787.019, Fit time=0.046 seconds\n",
      "Fit ARIMA: order=(0, 2, 0) seasonal_order=(3, 0, 1, 6); AIC=1778.295, BIC=1791.752, Fit time=0.069 seconds\n",
      "Fit ARIMA: order=(0, 2, 0) seasonal_order=(3, 0, 2, 6); AIC=1780.979, BIC=1797.127, Fit time=0.081 seconds\n",
      "Fit ARIMA: order=(0, 2, 0) seasonal_order=(4, 0, 0, 6); AIC=1778.542, BIC=1791.999, Fit time=0.066 seconds\n",
      "Fit ARIMA: order=(0, 2, 0) seasonal_order=(4, 0, 1, 6); AIC=1780.337, BIC=1796.485, Fit time=1.337 seconds\n",
      "Fit ARIMA: order=(0, 2, 0) seasonal_order=(5, 0, 0, 6); AIC=1780.105, BIC=1796.254, Fit time=0.103 seconds\n",
      "Fit ARIMA: order=(0, 2, 1) seasonal_order=(0, 0, 0, 6); AIC=1774.238, BIC=1779.621, Fit time=0.015 seconds\n",
      "Fit ARIMA: order=(0, 2, 1) seasonal_order=(0, 0, 1, 6); AIC=1776.235, BIC=1784.309, Fit time=0.033 seconds\n",
      "Fit ARIMA: order=(0, 2, 1) seasonal_order=(0, 0, 2, 6); AIC=1776.021, BIC=1786.786, Fit time=0.118 seconds\n",
      "Fit ARIMA: order=(0, 2, 1) seasonal_order=(0, 0, 3, 6); AIC=1780.213, BIC=1793.670, Fit time=0.275 seconds\n",
      "Fit ARIMA: order=(0, 2, 1) seasonal_order=(0, 0, 4, 6); AIC=1782.095, BIC=1798.243, Fit time=0.153 seconds\n",
      "Fit ARIMA: order=(0, 2, 1) seasonal_order=(1, 0, 0, 6); AIC=1776.235, BIC=1784.309, Fit time=0.030 seconds\n",
      "Fit ARIMA: order=(0, 2, 1) seasonal_order=(1, 0, 1, 6); AIC=1778.232, BIC=1788.997, Fit time=0.049 seconds\n",
      "Fit ARIMA: order=(0, 2, 1) seasonal_order=(1, 0, 2, 6); AIC=1780.212, BIC=1793.668, Fit time=0.067 seconds\n",
      "Fit ARIMA: order=(0, 2, 1) seasonal_order=(1, 0, 3, 6); AIC=1782.192, BIC=1798.341, Fit time=0.139 seconds\n",
      "Fit ARIMA: order=(0, 2, 1) seasonal_order=(2, 0, 0, 6); AIC=1778.202, BIC=1788.968, Fit time=0.041 seconds\n",
      "Fit ARIMA: order=(0, 2, 1) seasonal_order=(2, 0, 1, 6); AIC=1780.211, BIC=1793.668, Fit time=0.151 seconds\n",
      "Fit ARIMA: order=(0, 2, 1) seasonal_order=(2, 0, 2, 6); AIC=1782.226, BIC=1798.374, Fit time=0.170 seconds\n",
      "Fit ARIMA: order=(0, 2, 1) seasonal_order=(3, 0, 0, 6); AIC=1780.182, BIC=1793.638, Fit time=0.053 seconds\n",
      "Fit ARIMA: order=(0, 2, 1) seasonal_order=(3, 0, 1, 6); AIC=1782.164, BIC=1798.312, Fit time=0.090 seconds\n",
      "Fit ARIMA: order=(0, 2, 1) seasonal_order=(4, 0, 0, 6); AIC=1782.096, BIC=1798.244, Fit time=0.094 seconds\n",
      "Fit ARIMA: order=(0, 2, 2) seasonal_order=(0, 0, 0, 6); AIC=1779.004, BIC=1787.078, Fit time=0.017 seconds\n",
      "Fit ARIMA: order=(0, 2, 2) seasonal_order=(0, 0, 1, 6); AIC=1780.998, BIC=1791.764, Fit time=0.036 seconds\n",
      "Fit ARIMA: order=(0, 2, 2) seasonal_order=(0, 0, 2, 6); AIC=1782.966, BIC=1796.423, Fit time=0.071 seconds\n",
      "Fit ARIMA: order=(0, 2, 2) seasonal_order=(0, 0, 3, 6); AIC=1785.007, BIC=1801.155, Fit time=0.345 seconds\n",
      "Fit ARIMA: order=(0, 2, 2) seasonal_order=(1, 0, 0, 6); AIC=1780.998, BIC=1791.764, Fit time=0.026 seconds\n",
      "Fit ARIMA: order=(0, 2, 2) seasonal_order=(1, 0, 1, 6); AIC=1782.995, BIC=1796.452, Fit time=0.046 seconds\n",
      "Fit ARIMA: order=(0, 2, 2) seasonal_order=(1, 0, 2, 6); AIC=1779.605, BIC=1795.753, Fit time=0.696 seconds\n",
      "Fit ARIMA: order=(0, 2, 2) seasonal_order=(2, 0, 0, 6); AIC=1782.966, BIC=1796.423, Fit time=0.039 seconds\n",
      "Fit ARIMA: order=(0, 2, 2) seasonal_order=(2, 0, 1, 6); AIC=1784.974, BIC=1801.122, Fit time=0.070 seconds\n",
      "Fit ARIMA: order=(0, 2, 2) seasonal_order=(3, 0, 0, 6); AIC=1779.547, BIC=1795.696, Fit time=0.226 seconds\n",
      "Fit ARIMA: order=(0, 2, 3) seasonal_order=(0, 0, 0, 6); AIC=1788.533, BIC=1799.298, Fit time=0.027 seconds\n",
      "Fit ARIMA: order=(0, 2, 3) seasonal_order=(0, 0, 1, 6); AIC=1790.520, BIC=1803.977, Fit time=0.047 seconds\n",
      "Fit ARIMA: order=(0, 2, 3) seasonal_order=(0, 0, 2, 6); AIC=1779.491, BIC=1795.639, Fit time=0.336 seconds\n",
      "Fit ARIMA: order=(0, 2, 3) seasonal_order=(1, 0, 0, 6); AIC=1790.520, BIC=1803.977, Fit time=0.029 seconds\n",
      "Fit ARIMA: order=(0, 2, 3) seasonal_order=(1, 0, 1, 6); AIC=1792.515, BIC=1808.663, Fit time=0.060 seconds\n",
      "Fit ARIMA: order=(0, 2, 3) seasonal_order=(2, 0, 0, 6); AIC=1792.488, BIC=1808.636, Fit time=0.052 seconds\n",
      "Fit ARIMA: order=(0, 2, 4) seasonal_order=(0, 0, 0, 6); AIC=1777.526, BIC=1790.982, Fit time=0.116 seconds\n",
      "Fit ARIMA: order=(0, 2, 4) seasonal_order=(0, 0, 1, 6); AIC=1794.490, BIC=1810.638, Fit time=0.088 seconds\n",
      "Fit ARIMA: order=(0, 2, 4) seasonal_order=(1, 0, 0, 6); AIC=1794.490, BIC=1810.638, Fit time=0.087 seconds\n",
      "Fit ARIMA: order=(0, 2, 5) seasonal_order=(0, 0, 0, 6); AIC=1797.995, BIC=1814.143, Fit time=0.032 seconds\n",
      "Fit ARIMA: order=(1, 2, 0) seasonal_order=(0, 0, 0, 6); AIC=1773.093, BIC=1778.476, Fit time=0.018 seconds\n",
      "Fit ARIMA: order=(1, 2, 0) seasonal_order=(0, 0, 1, 6); AIC=1775.091, BIC=1783.165, Fit time=0.029 seconds\n",
      "Fit ARIMA: order=(1, 2, 0) seasonal_order=(0, 0, 2, 6); AIC=1777.058, BIC=1787.823, Fit time=0.053 seconds\n",
      "Fit ARIMA: order=(1, 2, 0) seasonal_order=(0, 0, 3, 6); AIC=1779.056, BIC=1792.513, Fit time=0.292 seconds\n",
      "Fit ARIMA: order=(1, 2, 0) seasonal_order=(0, 0, 4, 6); AIC=1780.960, BIC=1797.108, Fit time=0.150 seconds\n",
      "Fit ARIMA: order=(1, 2, 0) seasonal_order=(1, 0, 0, 6); AIC=1775.091, BIC=1783.165, Fit time=0.027 seconds\n",
      "Fit ARIMA: order=(1, 2, 0) seasonal_order=(1, 0, 1, 6); AIC=1777.089, BIC=1787.854, Fit time=0.073 seconds\n",
      "Fit ARIMA: order=(1, 2, 0) seasonal_order=(1, 0, 2, 6); AIC=1779.067, BIC=1792.523, Fit time=0.110 seconds\n",
      "Fit ARIMA: order=(1, 2, 0) seasonal_order=(1, 0, 3, 6); AIC=1781.047, BIC=1797.195, Fit time=0.348 seconds\n",
      "Fit ARIMA: order=(1, 2, 0) seasonal_order=(2, 0, 0, 6); AIC=1777.058, BIC=1787.823, Fit time=0.052 seconds\n",
      "Fit ARIMA: order=(1, 2, 0) seasonal_order=(2, 0, 1, 6); AIC=1779.066, BIC=1792.523, Fit time=0.257 seconds\n",
      "Fit ARIMA: order=(1, 2, 0) seasonal_order=(2, 0, 2, 6); AIC=1781.077, BIC=1797.226, Fit time=0.087 seconds\n",
      "Fit ARIMA: order=(1, 2, 0) seasonal_order=(3, 0, 0, 6); AIC=1779.036, BIC=1792.493, Fit time=0.172 seconds\n",
      "Fit ARIMA: order=(1, 2, 0) seasonal_order=(3, 0, 1, 6); AIC=1781.020, BIC=1797.168, Fit time=0.111 seconds\n",
      "Fit ARIMA: order=(1, 2, 0) seasonal_order=(4, 0, 0, 6); AIC=1780.961, BIC=1797.109, Fit time=0.126 seconds\n",
      "Fit ARIMA: order=(1, 2, 1) seasonal_order=(0, 0, 0, 6); AIC=1775.706, BIC=1783.780, Fit time=0.115 seconds\n",
      "Fit ARIMA: order=(1, 2, 1) seasonal_order=(0, 0, 1, 6); AIC=1777.700, BIC=1788.465, Fit time=0.153 seconds\n",
      "Fit ARIMA: order=(1, 2, 1) seasonal_order=(0, 0, 2, 6); AIC=1779.664, BIC=1793.120, Fit time=0.259 seconds\n",
      "Fit ARIMA: order=(1, 2, 1) seasonal_order=(0, 0, 3, 6); AIC=1781.684, BIC=1797.832, Fit time=0.701 seconds\n",
      "Fit ARIMA: order=(1, 2, 1) seasonal_order=(1, 0, 0, 6); AIC=1778.356, BIC=1789.122, Fit time=0.034 seconds\n",
      "Fit ARIMA: order=(1, 2, 1) seasonal_order=(1, 0, 1, 6); AIC=1780.354, BIC=1793.811, Fit time=0.042 seconds\n",
      "Fit ARIMA: order=(1, 2, 1) seasonal_order=(1, 0, 2, 6); AIC=1782.332, BIC=1798.480, Fit time=0.070 seconds\n",
      "Fit ARIMA: order=(1, 2, 1) seasonal_order=(2, 0, 0, 6); AIC=1780.324, BIC=1793.781, Fit time=0.047 seconds\n"
     ]
    },
    {
     "name": "stdout",
     "output_type": "stream",
     "text": [
      "Fit ARIMA: order=(1, 2, 1) seasonal_order=(2, 0, 1, 6); AIC=1782.332, BIC=1798.480, Fit time=0.081 seconds\n",
      "Fit ARIMA: order=(1, 2, 1) seasonal_order=(3, 0, 0, 6); AIC=1782.301, BIC=1798.450, Fit time=0.092 seconds\n",
      "Fit ARIMA: order=(1, 2, 2) seasonal_order=(0, 0, 0, 6); AIC=1775.899, BIC=1786.664, Fit time=0.189 seconds\n",
      "Fit ARIMA: order=(1, 2, 2) seasonal_order=(0, 0, 1, 6); AIC=1777.909, BIC=1791.366, Fit time=0.278 seconds\n",
      "Fit ARIMA: order=(1, 2, 2) seasonal_order=(0, 0, 2, 6); AIC=1794.432, BIC=1810.580, Fit time=0.156 seconds\n",
      "Fit ARIMA: order=(1, 2, 2) seasonal_order=(1, 0, 0, 6); AIC=1777.940, BIC=1791.397, Fit time=0.265 seconds\n",
      "Fit ARIMA: order=(1, 2, 2) seasonal_order=(1, 0, 1, 6); AIC=1794.428, BIC=1810.576, Fit time=0.233 seconds\n",
      "Fit ARIMA: order=(1, 2, 2) seasonal_order=(2, 0, 0, 6); AIC=1779.890, BIC=1796.038, Fit time=0.325 seconds\n",
      "Fit ARIMA: order=(1, 2, 3) seasonal_order=(0, 0, 0, 6); AIC=1793.371, BIC=1806.828, Fit time=0.041 seconds\n",
      "Fit ARIMA: order=(1, 2, 3) seasonal_order=(0, 0, 1, 6); AIC=1795.356, BIC=1811.504, Fit time=0.066 seconds\n",
      "Fit ARIMA: order=(1, 2, 3) seasonal_order=(1, 0, 0, 6); AIC=1795.356, BIC=1811.504, Fit time=0.059 seconds\n",
      "Fit ARIMA: order=(1, 2, 4) seasonal_order=(0, 0, 0, 6); AIC=1794.955, BIC=1811.103, Fit time=0.082 seconds\n",
      "Fit ARIMA: order=(2, 2, 0) seasonal_order=(0, 0, 0, 6); AIC=1785.430, BIC=1793.504, Fit time=0.021 seconds\n",
      "Fit ARIMA: order=(2, 2, 0) seasonal_order=(0, 0, 1, 6); AIC=1775.608, BIC=1786.374, Fit time=0.139 seconds\n",
      "Fit ARIMA: order=(2, 2, 0) seasonal_order=(0, 0, 2, 6); AIC=1777.575, BIC=1791.031, Fit time=0.150 seconds\n",
      "Fit ARIMA: order=(2, 2, 0) seasonal_order=(0, 0, 3, 6); AIC=1791.478, BIC=1807.626, Fit time=0.368 seconds\n",
      "Fit ARIMA: order=(2, 2, 0) seasonal_order=(1, 0, 0, 6); AIC=1787.418, BIC=1798.183, Fit time=0.032 seconds\n",
      "Fit ARIMA: order=(2, 2, 0) seasonal_order=(1, 0, 1, 6); AIC=1789.413, BIC=1802.870, Fit time=0.037 seconds\n",
      "Fit ARIMA: order=(2, 2, 0) seasonal_order=(1, 0, 2, 6); AIC=1791.395, BIC=1807.543, Fit time=0.069 seconds\n",
      "Fit ARIMA: order=(2, 2, 0) seasonal_order=(2, 0, 0, 6); AIC=1789.386, BIC=1802.843, Fit time=0.043 seconds\n",
      "Fit ARIMA: order=(2, 2, 0) seasonal_order=(2, 0, 1, 6); AIC=1791.396, BIC=1807.544, Fit time=0.073 seconds\n",
      "Fit ARIMA: order=(2, 2, 0) seasonal_order=(3, 0, 0, 6); AIC=1791.371, BIC=1807.519, Fit time=0.070 seconds\n",
      "Fit ARIMA: order=(2, 2, 1) seasonal_order=(0, 0, 0, 6); AIC=1775.898, BIC=1786.663, Fit time=0.181 seconds\n",
      "Fit ARIMA: order=(2, 2, 1) seasonal_order=(0, 0, 1, 6); AIC=1777.531, BIC=1790.988, Fit time=0.207 seconds\n",
      "Fit ARIMA: order=(2, 2, 1) seasonal_order=(0, 0, 2, 6); AIC=1779.492, BIC=1795.640, Fit time=0.319 seconds\n",
      "Fit ARIMA: order=(2, 2, 1) seasonal_order=(1, 0, 0, 6); AIC=1778.016, BIC=1791.473, Fit time=0.204 seconds\n",
      "Fit ARIMA: order=(2, 2, 1) seasonal_order=(1, 0, 1, 6); AIC=1779.529, BIC=1795.677, Fit time=0.291 seconds\n",
      "Fit ARIMA: order=(2, 2, 1) seasonal_order=(2, 0, 0, 6); AIC=1779.995, BIC=1796.143, Fit time=0.344 seconds\n",
      "Fit ARIMA: order=(2, 2, 2) seasonal_order=(0, 0, 0, 6); AIC=1773.644, BIC=1787.100, Fit time=0.212 seconds\n",
      "Fit ARIMA: order=(2, 2, 2) seasonal_order=(0, 0, 1, 6); AIC=1798.156, BIC=1814.304, Fit time=0.162 seconds\n",
      "Fit ARIMA: order=(2, 2, 2) seasonal_order=(1, 0, 0, 6); AIC=1782.519, BIC=1798.668, Fit time=0.351 seconds\n",
      "Fit ARIMA: order=(2, 2, 3) seasonal_order=(0, 0, 0, 6); AIC=1795.308, BIC=1811.456, Fit time=0.107 seconds\n",
      "Fit ARIMA: order=(3, 2, 0) seasonal_order=(0, 0, 0, 6); AIC=1775.527, BIC=1786.293, Fit time=0.063 seconds\n",
      "Fit ARIMA: order=(3, 2, 0) seasonal_order=(0, 0, 1, 6); AIC=1788.664, BIC=1802.121, Fit time=0.034 seconds\n",
      "Fit ARIMA: order=(3, 2, 0) seasonal_order=(0, 0, 2, 6); AIC=1779.493, BIC=1795.641, Fit time=0.184 seconds\n",
      "Fit ARIMA: order=(3, 2, 0) seasonal_order=(1, 0, 0, 6); AIC=1777.527, BIC=1790.984, Fit time=0.148 seconds\n",
      "Fit ARIMA: order=(3, 2, 0) seasonal_order=(1, 0, 1, 6); AIC=1790.659, BIC=1806.807, Fit time=0.059 seconds\n",
      "Fit ARIMA: order=(3, 2, 0) seasonal_order=(2, 0, 0, 6); AIC=1779.493, BIC=1795.641, Fit time=0.270 seconds\n",
      "Fit ARIMA: order=(3, 2, 1) seasonal_order=(0, 0, 0, 6); AIC=1788.039, BIC=1801.495, Fit time=0.078 seconds\n",
      "Fit ARIMA: order=(3, 2, 1) seasonal_order=(0, 0, 1, 6); AIC=1790.168, BIC=1806.316, Fit time=0.049 seconds\n",
      "Fit ARIMA: order=(3, 2, 1) seasonal_order=(1, 0, 0, 6); AIC=1790.168, BIC=1806.316, Fit time=0.044 seconds\n",
      "Fit ARIMA: order=(3, 2, 2) seasonal_order=(0, 0, 0, 6); AIC=1799.371, BIC=1815.519, Fit time=0.147 seconds\n",
      "Fit ARIMA: order=(4, 2, 0) seasonal_order=(0, 0, 0, 6); AIC=1777.527, BIC=1790.984, Fit time=0.117 seconds\n",
      "Fit ARIMA: order=(4, 2, 0) seasonal_order=(0, 0, 1, 6); AIC=1779.527, BIC=1795.675, Fit time=0.155 seconds\n",
      "Fit ARIMA: order=(4, 2, 0) seasonal_order=(1, 0, 0, 6); AIC=1779.527, BIC=1795.675, Fit time=0.148 seconds\n",
      "Fit ARIMA: order=(4, 2, 1) seasonal_order=(0, 0, 0, 6); AIC=1779.527, BIC=1795.675, Fit time=0.169 seconds\n",
      "Fit ARIMA: order=(5, 2, 0) seasonal_order=(0, 0, 0, 6); AIC=1779.477, BIC=1795.625, Fit time=0.128 seconds\n",
      "Total fit time: 17.347 seconds\n"
     ]
    },
    {
     "data": {
      "text/html": [
       "<table class=\"simpletable\">\n",
       "<caption>Statespace Model Results</caption>\n",
       "<tr>\n",
       "  <th>Dep. Variable:</th>           <td>y</td>        <th>  No. Observations:  </th>    <td>111</td>  \n",
       "</tr>\n",
       "<tr>\n",
       "  <th>Model:</th>           <td>SARIMAX(0, 2, 0)</td> <th>  Log Likelihood     </th> <td>-884.101</td>\n",
       "</tr>\n",
       "<tr>\n",
       "  <th>Date:</th>            <td>Mon, 30 Dec 2019</td> <th>  AIC                </th> <td>1770.202</td>\n",
       "</tr>\n",
       "<tr>\n",
       "  <th>Time:</th>                <td>17:36:53</td>     <th>  BIC                </th> <td>1772.894</td>\n",
       "</tr>\n",
       "<tr>\n",
       "  <th>Sample:</th>                  <td>0</td>        <th>  HQIC               </th> <td>1771.294</td>\n",
       "</tr>\n",
       "<tr>\n",
       "  <th></th>                      <td> - 111</td>      <th>                     </th>     <td> </td>   \n",
       "</tr>\n",
       "<tr>\n",
       "  <th>Covariance Type:</th>        <td>opg</td>       <th>                     </th>     <td> </td>   \n",
       "</tr>\n",
       "</table>\n",
       "<table class=\"simpletable\">\n",
       "<tr>\n",
       "     <td></td>       <th>coef</th>     <th>std err</th>      <th>z</th>      <th>P>|z|</th>  <th>[0.025</th>    <th>0.975]</th>  \n",
       "</tr>\n",
       "<tr>\n",
       "  <th>sigma2</th> <td> 6.494e+05</td> <td> 7.61e+04</td> <td>    8.534</td> <td> 0.000</td> <td>    5e+05</td> <td> 7.99e+05</td>\n",
       "</tr>\n",
       "</table>\n",
       "<table class=\"simpletable\">\n",
       "<tr>\n",
       "  <th>Ljung-Box (Q):</th>          <td>114.77</td> <th>  Jarque-Bera (JB):  </th> <td>4.53</td> \n",
       "</tr>\n",
       "<tr>\n",
       "  <th>Prob(Q):</th>                 <td>0.00</td>  <th>  Prob(JB):          </th> <td>0.10</td> \n",
       "</tr>\n",
       "<tr>\n",
       "  <th>Heteroskedasticity (H):</th>  <td>3.54</td>  <th>  Skew:              </th> <td>-0.36</td>\n",
       "</tr>\n",
       "<tr>\n",
       "  <th>Prob(H) (two-sided):</th>     <td>0.00</td>  <th>  Kurtosis:          </th> <td>3.69</td> \n",
       "</tr>\n",
       "</table><br/><br/>Warnings:<br/>[1] Covariance matrix calculated using the outer product of gradients (complex-step)."
      ],
      "text/plain": [
       "<class 'statsmodels.iolib.summary.Summary'>\n",
       "\"\"\"\n",
       "                           Statespace Model Results                           \n",
       "==============================================================================\n",
       "Dep. Variable:                      y   No. Observations:                  111\n",
       "Model:               SARIMAX(0, 2, 0)   Log Likelihood                -884.101\n",
       "Date:                Mon, 30 Dec 2019   AIC                           1770.202\n",
       "Time:                        17:36:53   BIC                           1772.894\n",
       "Sample:                             0   HQIC                          1771.294\n",
       "                                - 111                                         \n",
       "Covariance Type:                  opg                                         \n",
       "==============================================================================\n",
       "                 coef    std err          z      P>|z|      [0.025      0.975]\n",
       "------------------------------------------------------------------------------\n",
       "sigma2      6.494e+05   7.61e+04      8.534      0.000       5e+05    7.99e+05\n",
       "===================================================================================\n",
       "Ljung-Box (Q):                      114.77   Jarque-Bera (JB):                 4.53\n",
       "Prob(Q):                              0.00   Prob(JB):                         0.10\n",
       "Heteroskedasticity (H):               3.54   Skew:                            -0.36\n",
       "Prob(H) (two-sided):                  0.00   Kurtosis:                         3.69\n",
       "===================================================================================\n",
       "\n",
       "Warnings:\n",
       "[1] Covariance matrix calculated using the outer product of gradients (complex-step).\n",
       "\"\"\""
      ]
     },
     "execution_count": 154,
     "metadata": {},
     "output_type": "execute_result"
    }
   ],
   "source": [
    "import pmdarima as pm\n",
    "\n",
    "model = pm.auto_arima(ts_train,\n",
    "                      start_p=0,start_q=0,start_P=0,start_Q=0, \n",
    "                      max_p=5 ,max_q =6 ,max_P= 5,max_Q=5,max_D=3,\n",
    "                      suppress_warnings=True, stepwise=False, trace=True,\n",
    "                      m=6,seasonal=True, with_intercept=False,\n",
    "                      stionarity=False)\n",
    "model.summary()"
   ]
  },
  {
   "cell_type": "code",
   "execution_count": 155,
   "metadata": {
    "ExecuteTime": {
     "end_time": "2019-12-30T22:36:53.367709Z",
     "start_time": "2019-12-30T22:36:53.349859Z"
    }
   },
   "outputs": [
    {
     "data": {
      "text/html": [
       "<table class=\"simpletable\">\n",
       "<caption>Statespace Model Results</caption>\n",
       "<tr>\n",
       "  <th>Dep. Variable:</th>       <td>MeanValue</td>    <th>  No. Observations:  </th>    <td>111</td>  \n",
       "</tr>\n",
       "<tr>\n",
       "  <th>Model:</th>           <td>SARIMAX(0, 2, 0)</td> <th>  Log Likelihood     </th> <td>-884.101</td>\n",
       "</tr>\n",
       "<tr>\n",
       "  <th>Date:</th>            <td>Mon, 30 Dec 2019</td> <th>  AIC                </th> <td>1770.202</td>\n",
       "</tr>\n",
       "<tr>\n",
       "  <th>Time:</th>                <td>17:36:53</td>     <th>  BIC                </th> <td>1772.894</td>\n",
       "</tr>\n",
       "<tr>\n",
       "  <th>Sample:</th>             <td>01-01-2008</td>    <th>  HQIC               </th> <td>1771.294</td>\n",
       "</tr>\n",
       "<tr>\n",
       "  <th></th>                   <td>- 03-01-2017</td>   <th>                     </th>     <td> </td>   \n",
       "</tr>\n",
       "<tr>\n",
       "  <th>Covariance Type:</th>        <td>opg</td>       <th>                     </th>     <td> </td>   \n",
       "</tr>\n",
       "</table>\n",
       "<table class=\"simpletable\">\n",
       "<tr>\n",
       "     <td></td>       <th>coef</th>     <th>std err</th>      <th>z</th>      <th>P>|z|</th>  <th>[0.025</th>    <th>0.975]</th>  \n",
       "</tr>\n",
       "<tr>\n",
       "  <th>sigma2</th> <td> 6.494e+05</td> <td> 7.61e+04</td> <td>    8.534</td> <td> 0.000</td> <td>    5e+05</td> <td> 7.99e+05</td>\n",
       "</tr>\n",
       "</table>\n",
       "<table class=\"simpletable\">\n",
       "<tr>\n",
       "  <th>Ljung-Box (Q):</th>          <td>114.77</td> <th>  Jarque-Bera (JB):  </th> <td>4.53</td> \n",
       "</tr>\n",
       "<tr>\n",
       "  <th>Prob(Q):</th>                 <td>0.00</td>  <th>  Prob(JB):          </th> <td>0.10</td> \n",
       "</tr>\n",
       "<tr>\n",
       "  <th>Heteroskedasticity (H):</th>  <td>3.54</td>  <th>  Skew:              </th> <td>-0.36</td>\n",
       "</tr>\n",
       "<tr>\n",
       "  <th>Prob(H) (two-sided):</th>     <td>0.00</td>  <th>  Kurtosis:          </th> <td>3.69</td> \n",
       "</tr>\n",
       "</table><br/><br/>Warnings:<br/>[1] Covariance matrix calculated using the outer product of gradients (complex-step)."
      ],
      "text/plain": [
       "<class 'statsmodels.iolib.summary.Summary'>\n",
       "\"\"\"\n",
       "                           Statespace Model Results                           \n",
       "==============================================================================\n",
       "Dep. Variable:              MeanValue   No. Observations:                  111\n",
       "Model:               SARIMAX(0, 2, 0)   Log Likelihood                -884.101\n",
       "Date:                Mon, 30 Dec 2019   AIC                           1770.202\n",
       "Time:                        17:36:53   BIC                           1772.894\n",
       "Sample:                    01-01-2008   HQIC                          1771.294\n",
       "                         - 03-01-2017                                         \n",
       "Covariance Type:                  opg                                         \n",
       "==============================================================================\n",
       "                 coef    std err          z      P>|z|      [0.025      0.975]\n",
       "------------------------------------------------------------------------------\n",
       "sigma2      6.494e+05   7.61e+04      8.534      0.000       5e+05    7.99e+05\n",
       "===================================================================================\n",
       "Ljung-Box (Q):                      114.77   Jarque-Bera (JB):                 4.53\n",
       "Prob(Q):                              0.00   Prob(JB):                         0.10\n",
       "Heteroskedasticity (H):               3.54   Skew:                            -0.36\n",
       "Prob(H) (two-sided):                  0.00   Kurtosis:                         3.69\n",
       "===================================================================================\n",
       "\n",
       "Warnings:\n",
       "[1] Covariance matrix calculated using the outer product of gradients (complex-step).\n",
       "\"\"\""
      ]
     },
     "execution_count": 155,
     "metadata": {},
     "output_type": "execute_result"
    }
   ],
   "source": [
    "from statsmodels.tsa.statespace.sarimax import SARIMAX\n",
    "model_sarimax = SARIMAX(ts_train,\n",
    "                        **model.get_params()).fit()\n",
    "model_sarimax.summary()"
   ]
  },
  {
   "cell_type": "code",
   "execution_count": 159,
   "metadata": {
    "ExecuteTime": {
     "end_time": "2019-12-30T22:37:22.846998Z",
     "start_time": "2019-12-30T22:37:22.841099Z"
    },
    "code_folding": []
   },
   "outputs": [],
   "source": [
    "def thiels_U(ys_true=None, ys_pred=None,display_equation=True,display_table=True):\n",
    "    \"\"\"Calculate's Thiel's U metric for forecasting accuracy.\n",
    "    Accepts true values and predicted values.\n",
    "    Returns Thiel's U\"\"\"\n",
    "\n",
    "\n",
    "    from IPython.display import Markdown, Latex, display\n",
    "    import numpy as np\n",
    "    display(Markdown(\"\"))\n",
    "    eqn=\" $$U = \\\\sqrt{\\\\frac{ \\\\sum_{t=1 }^{n-1}\\\\left(\\\\frac{\\\\bar{Y}_{t+1} - Y_{t+1}}{Y_t}\\\\right)^2}{\\\\sum_{t=1 }^{n-1}\\\\left(\\\\frac{Y_{t+1} - Y_{t}}{Y_t}\\\\right)^2}}$$\"\n",
    "\n",
    "    # url=\"['Explanation'](https://docs.oracle.com/cd/E57185_01/CBREG/ch06s02s03s04.html)\"\n",
    "    markdown_explanation =\"|Thiel's U Value | Interpretation |\\n\\\n",
    "    | --- | --- |\\n\\\n",
    "    | <1 | Forecasting is better than guessing| \\n\\\n",
    "    | 1 | Forecasting is about as good as guessing| \\n\\\n",
    "    |>1 | Forecasting is worse than guessing| \\n\"\n",
    "\n",
    "\n",
    "    if display_equation and display_table:\n",
    "        display(Latex(eqn),Markdown(markdown_explanation))#, Latex(eqn))\n",
    "    elif display_equation:\n",
    "        display(Latex(eqn))\n",
    "    elif display_table:\n",
    "        display(Markdown(markdown_explanation))\n",
    "\n",
    "    if ys_true is None and ys_pred is None:\n",
    "        return\n",
    "\n",
    "    # sum_list = []\n",
    "    num_list=[]\n",
    "    denom_list=[]\n",
    "    for t in range(len(ys_true)-1):\n",
    "        num_exp = (ys_pred[t+1] - ys_true[t+1])/ys_true[t]\n",
    "        num_list.append([num_exp**2])\n",
    "        denom_exp = (ys_true[t+1] - ys_true[t])/ys_true[t]\n",
    "        denom_list.append([denom_exp**2])\n",
    "    U = np.sqrt( np.sum(num_list) / np.sum(denom_list))\n",
    "    return U\n"
   ]
  },
  {
   "cell_type": "code",
   "execution_count": 162,
   "metadata": {
    "ExecuteTime": {
     "end_time": "2019-12-30T22:37:44.119589Z",
     "start_time": "2019-12-30T22:37:44.112873Z"
    }
   },
   "outputs": [],
   "source": [
    "def get_model_metrics(true,preds,train,explain_U=False):\n",
    "    from sklearn.metrics import r2_score, mean_squared_error\n",
    "    \n",
    "    results = [['Metric','Value']]\n",
    "    r2 = r2_score(true,preds)\n",
    "    results.append(['R^2',r2])\n",
    "    \n",
    "    rmse = np.sqrt(mean_squared_error(true,preds))\n",
    "    results.append(['RMSE',rmse])\n",
    "    \n",
    "    if explain_U:\n",
    "         U_kws = dict(display_equation=True, display_table=True)\n",
    "    else:\n",
    "         U_kws = dict(display_equation=False, display_table=False)\n",
    "    U = thiels_U(true,preds,**U_kws)\n",
    "    results.append([\"Thiel's U\",U])\n",
    "    \n",
    "    \n",
    "    fig,axes=plt.subplots(ncols=2,figsize=(12,6))\n",
    "\n",
    "    ax=axes[0]\n",
    "    ax.plot(true,label='Test Data')\n",
    "    ax.plot(preds, label='Model Forecast')\n",
    "    ax.plot(train,label='Training Data')\n",
    "\n",
    "    ax.legend()\n",
    "    \n",
    "    ax=axes[1]\n",
    "    ax.scatter(x=true.index,y=true.values,label='Test Data')\n",
    "    ax.scatter(x=preds.index,y=preds.values,label='Training Data')\n",
    "\n",
    "    \n",
    "    res = fs.list2df(results)#,index_col='Metric')\n",
    "    plt.tight_layout()\n",
    "    \n",
    "    return res\n",
    "    \n",
    "    \n",
    "# get_model_metrics(ts_test,preds,ts_train)    \n",
    "    "
   ]
  },
  {
   "cell_type": "code",
   "execution_count": 165,
   "metadata": {
    "ExecuteTime": {
     "end_time": "2019-12-30T22:38:21.280149Z",
     "start_time": "2019-12-30T22:38:20.970648Z"
    }
   },
   "outputs": [
    {
     "data": {
      "text/markdown": [],
      "text/plain": [
       "<IPython.core.display.Markdown object>"
      ]
     },
     "metadata": {},
     "output_type": "display_data"
    },
    {
     "data": {
      "text/html": [
       "<div>\n",
       "<style scoped>\n",
       "    .dataframe tbody tr th:only-of-type {\n",
       "        vertical-align: middle;\n",
       "    }\n",
       "\n",
       "    .dataframe tbody tr th {\n",
       "        vertical-align: top;\n",
       "    }\n",
       "\n",
       "    .dataframe thead th {\n",
       "        text-align: right;\n",
       "    }\n",
       "</style>\n",
       "<table border=\"1\" class=\"dataframe\">\n",
       "  <thead>\n",
       "    <tr style=\"text-align: right;\">\n",
       "      <th></th>\n",
       "      <th>Metric</th>\n",
       "      <th>Value</th>\n",
       "    </tr>\n",
       "  </thead>\n",
       "  <tbody>\n",
       "    <tr>\n",
       "      <td>0</td>\n",
       "      <td>R^2</td>\n",
       "      <td>0.372282</td>\n",
       "    </tr>\n",
       "    <tr>\n",
       "      <td>1</td>\n",
       "      <td>RMSE</td>\n",
       "      <td>6495.086901</td>\n",
       "    </tr>\n",
       "    <tr>\n",
       "      <td>2</td>\n",
       "      <td>Thiel's U</td>\n",
       "      <td>1.917891</td>\n",
       "    </tr>\n",
       "  </tbody>\n",
       "</table>\n",
       "</div>"
      ],
      "text/plain": [
       "      Metric        Value\n",
       "0        R^2     0.372282\n",
       "1       RMSE  6495.086901\n",
       "2  Thiel's U     1.917891"
      ]
     },
     "execution_count": 165,
     "metadata": {},
     "output_type": "execute_result"
    },
    {
     "data": {
      "image/png": "[encoded data removed]",
      "text/plain": [
       "<Figure size 864x432 with 2 Axes>"
      ]
     },
     "metadata": {
      "needs_background": "light"
     },
     "output_type": "display_data"
    }
   ],
   "source": [
    "preds = model_sarimax.predict(start=ts_test.index[0],end=ts_test.index[-1])\n",
    "get_model_metrics(ts_test,preds,ts_train,explain_U=False)    \n"
   ]
  },
  {
   "cell_type": "code",
   "execution_count": 166,
   "metadata": {
    "ExecuteTime": {
     "end_time": "2019-12-30T22:38:21.283599Z",
     "start_time": "2019-12-30T22:38:21.281505Z"
    }
   },
   "outputs": [],
   "source": [
    "# from statsmodels.graphics.tsaplots import plot_acf,plot_pacf\n",
    "# plot_acf(ts);\n",
    "# plot_pacf(ts);"
   ]
  },
  {
   "cell_type": "code",
   "execution_count": 167,
   "metadata": {
    "ExecuteTime": {
     "end_time": "2019-12-30T22:38:21.852737Z",
     "start_time": "2019-12-30T22:38:21.849066Z"
    }
   },
   "outputs": [
    {
     "data": {
      "text/plain": [
       "0.3722818095853576"
      ]
     },
     "execution_count": 167,
     "metadata": {},
     "output_type": "execute_result"
    }
   ],
   "source": [
    "from sklearn.metrics import r2_score\n",
    "r2_score(ts_test.values,preds)"
   ]
  },
  {
   "cell_type": "code",
   "execution_count": 168,
   "metadata": {
    "ExecuteTime": {
     "end_time": "2019-12-30T22:38:22.519470Z",
     "start_time": "2019-12-30T22:38:22.512713Z"
    }
   },
   "outputs": [
    {
     "data": {
      "text/markdown": [],
      "text/plain": [
       "<IPython.core.display.Markdown object>"
      ]
     },
     "metadata": {},
     "output_type": "display_data"
    },
    {
     "data": {
      "text/latex": [
       " $$U = \\sqrt{\\frac{ \\sum_{t=1 }^{n-1}\\left(\\frac{\\bar{Y}_{t+1} - Y_{t+1}}{Y_t}\\right)^2}{\\sum_{t=1 }^{n-1}\\left(\\frac{Y_{t+1} - Y_{t}}{Y_t}\\right)^2}}$$"
      ],
      "text/plain": [
       "<IPython.core.display.Latex object>"
      ]
     },
     "metadata": {},
     "output_type": "display_data"
    },
    {
     "data": {
      "text/markdown": [
       "|Thiel's U Value | Interpretation |\n",
       "    | --- | --- |\n",
       "    | <1 | Forecasting is better than guessing| \n",
       "    | 1 | Forecasting is about as good as guessing| \n",
       "    |>1 | Forecasting is worse than guessing| \n"
      ],
      "text/plain": [
       "<IPython.core.display.Markdown object>"
      ]
     },
     "metadata": {},
     "output_type": "display_data"
    },
    {
     "data": {
      "text/plain": [
       "1.9178907349603882"
      ]
     },
     "execution_count": 168,
     "metadata": {},
     "output_type": "execute_result"
    }
   ],
   "source": [
    "thiels_U(ts_test, preds)"
   ]
  },
  {
   "cell_type": "markdown",
   "metadata": {},
   "source": [
    "## BOOKMARK: Meta-Function to Run Everything"
   ]
  },
  {
   "cell_type": "code",
   "execution_count": 169,
   "metadata": {
    "ExecuteTime": {
     "end_time": "2019-12-30T22:38:23.697480Z",
     "start_time": "2019-12-30T22:38:23.691294Z"
    }
   },
   "outputs": [],
   "source": [
    "def meta_grid_search(ts, TEST_SIZE=0.2,model_kws={},verbose=True,return_kws=False):\n",
    "    import pmdarima as pm\n",
    "    from statsmodels.tsa.statespace.sarimax import SARIMAX\n",
    "\n",
    "    ## Train Test Split\n",
    "    idx_split = get_train_test_split_index(ts,TEST_SIZE=TEST_SIZE)\n",
    "\n",
    "    ts_train = ts.iloc[:idx_split].copy()\n",
    "    ts_test = ts.iloc[idx_split:].copy()\n",
    "    \n",
    "    \n",
    "    ## Combine Default kwargs and model_kws\n",
    "    model_kwargs = dict(start_p=0,start_q=0,start_P=0,start_Q=0, \n",
    "                          max_p=5 ,max_q =6 ,max_P= 5,max_Q=5,max_D=3,\n",
    "                          suppress_warnings=True, stepwise=False, trace=False,\n",
    "                          m=6,seasonal=True, with_intercept=True,\n",
    "                          stionarity=False)\n",
    "    \n",
    "    for k,v in model_kws.items():\n",
    "        model_kwargs[k]=v\n",
    "    \n",
    "    if verbose:\n",
    "        print(\"pm.auto_arima args:\")\n",
    "        print(model_kwargs)\n",
    "\n",
    "    model = pm.auto_arima(ts_train,**model_kwargs)\n",
    "    display(model.summary())\n",
    "    \n",
    "    \n",
    "    model_sarimax = SARIMAX(ts_train,\n",
    "                            **model.get_params()).fit()\n",
    "    \n",
    "    preds = model_sarimax.predict(ts_test.index[0],ts_test.index[-1])\n",
    "    res = get_model_metrics(ts_test,preds,ts_train)\n",
    "    display(res)\n",
    "    \n",
    "    return model_sarimax\n",
    "    \n",
    "#     model_sarimax.summary()\n"
   ]
  },
  {
   "cell_type": "code",
   "execution_count": 170,
   "metadata": {
    "ExecuteTime": {
     "end_time": "2019-12-30T22:38:45.528512Z",
     "start_time": "2019-12-30T22:38:24.531643Z"
    }
   },
   "outputs": [
    {
     "name": "stdout",
     "output_type": "stream",
     "text": [
      "pm.auto_arima args:\n",
      "{'start_p': 0, 'start_q': 0, 'start_P': 0, 'start_Q': 0, 'max_p': 5, 'max_q': 6, 'max_P': 5, 'max_Q': 5, 'max_D': 3, 'suppress_warnings': True, 'stepwise': False, 'trace': False, 'm': 6, 'seasonal': True, 'with_intercept': True, 'stionarity': False}\n"
     ]
    },
    {
     "data": {
      "text/html": [
       "<table class=\"simpletable\">\n",
       "<caption>Statespace Model Results</caption>\n",
       "<tr>\n",
       "  <th>Dep. Variable:</th>           <td>y</td>        <th>  No. Observations:  </th>    <td>99</td>   \n",
       "</tr>\n",
       "<tr>\n",
       "  <th>Model:</th>           <td>SARIMAX(0, 2, 0)</td> <th>  Log Likelihood     </th> <td>-786.126</td>\n",
       "</tr>\n",
       "<tr>\n",
       "  <th>Date:</th>            <td>Mon, 30 Dec 2019</td> <th>  AIC                </th> <td>1576.253</td>\n",
       "</tr>\n",
       "<tr>\n",
       "  <th>Time:</th>                <td>17:38:45</td>     <th>  BIC                </th> <td>1581.402</td>\n",
       "</tr>\n",
       "<tr>\n",
       "  <th>Sample:</th>                  <td>0</td>        <th>  HQIC               </th> <td>1578.335</td>\n",
       "</tr>\n",
       "<tr>\n",
       "  <th></th>                       <td> - 99</td>      <th>                     </th>     <td> </td>   \n",
       "</tr>\n",
       "<tr>\n",
       "  <th>Covariance Type:</th>        <td>opg</td>       <th>                     </th>     <td> </td>   \n",
       "</tr>\n",
       "</table>\n",
       "<table class=\"simpletable\">\n",
       "<tr>\n",
       "      <td></td>         <th>coef</th>     <th>std err</th>      <th>z</th>      <th>P>|z|</th>  <th>[0.025</th>    <th>0.975]</th>  \n",
       "</tr>\n",
       "<tr>\n",
       "  <th>intercept</th> <td>   12.3711</td> <td>   82.882</td> <td>    0.149</td> <td> 0.881</td> <td> -150.075</td> <td>  174.818</td>\n",
       "</tr>\n",
       "<tr>\n",
       "  <th>sigma2</th>    <td> 6.411e+05</td> <td> 8.07e+04</td> <td>    7.940</td> <td> 0.000</td> <td> 4.83e+05</td> <td> 7.99e+05</td>\n",
       "</tr>\n",
       "</table>\n",
       "<table class=\"simpletable\">\n",
       "<tr>\n",
       "  <th>Ljung-Box (Q):</th>          <td>138.56</td> <th>  Jarque-Bera (JB):  </th> <td>3.65</td> \n",
       "</tr>\n",
       "<tr>\n",
       "  <th>Prob(Q):</th>                 <td>0.00</td>  <th>  Prob(JB):          </th> <td>0.16</td> \n",
       "</tr>\n",
       "<tr>\n",
       "  <th>Heteroskedasticity (H):</th>  <td>4.27</td>  <th>  Skew:              </th> <td>-0.32</td>\n",
       "</tr>\n",
       "<tr>\n",
       "  <th>Prob(H) (two-sided):</th>     <td>0.00</td>  <th>  Kurtosis:          </th> <td>3.70</td> \n",
       "</tr>\n",
       "</table><br/><br/>Warnings:<br/>[1] Covariance matrix calculated using the outer product of gradients (complex-step)."
      ],
      "text/plain": [
       "<class 'statsmodels.iolib.summary.Summary'>\n",
       "\"\"\"\n",
       "                           Statespace Model Results                           \n",
       "==============================================================================\n",
       "Dep. Variable:                      y   No. Observations:                   99\n",
       "Model:               SARIMAX(0, 2, 0)   Log Likelihood                -786.126\n",
       "Date:                Mon, 30 Dec 2019   AIC                           1576.253\n",
       "Time:                        17:38:45   BIC                           1581.402\n",
       "Sample:                             0   HQIC                          1578.335\n",
       "                                 - 99                                         \n",
       "Covariance Type:                  opg                                         \n",
       "==============================================================================\n",
       "                 coef    std err          z      P>|z|      [0.025      0.975]\n",
       "------------------------------------------------------------------------------\n",
       "intercept     12.3711     82.882      0.149      0.881    -150.075     174.818\n",
       "sigma2      6.411e+05   8.07e+04      7.940      0.000    4.83e+05    7.99e+05\n",
       "===================================================================================\n",
       "Ljung-Box (Q):                      138.56   Jarque-Bera (JB):                 3.65\n",
       "Prob(Q):                              0.00   Prob(JB):                         0.16\n",
       "Heteroskedasticity (H):               4.27   Skew:                            -0.32\n",
       "Prob(H) (two-sided):                  0.00   Kurtosis:                         3.70\n",
       "===================================================================================\n",
       "\n",
       "Warnings:\n",
       "[1] Covariance matrix calculated using the outer product of gradients (complex-step).\n",
       "\"\"\""
      ]
     },
     "metadata": {},
     "output_type": "display_data"
    },
    {
     "data": {
      "text/markdown": [],
      "text/plain": [
       "<IPython.core.display.Markdown object>"
      ]
     },
     "metadata": {},
     "output_type": "display_data"
    },
    {
     "data": {
      "text/html": [
       "<div>\n",
       "<style scoped>\n",
       "    .dataframe tbody tr th:only-of-type {\n",
       "        vertical-align: middle;\n",
       "    }\n",
       "\n",
       "    .dataframe tbody tr th {\n",
       "        vertical-align: top;\n",
       "    }\n",
       "\n",
       "    .dataframe thead th {\n",
       "        text-align: right;\n",
       "    }\n",
       "</style>\n",
       "<table border=\"1\" class=\"dataframe\">\n",
       "  <thead>\n",
       "    <tr style=\"text-align: right;\">\n",
       "      <th></th>\n",
       "      <th>Metric</th>\n",
       "      <th>Value</th>\n",
       "    </tr>\n",
       "  </thead>\n",
       "  <tbody>\n",
       "    <tr>\n",
       "      <td>0</td>\n",
       "      <td>R^2</td>\n",
       "      <td>0.254478</td>\n",
       "    </tr>\n",
       "    <tr>\n",
       "      <td>1</td>\n",
       "      <td>RMSE</td>\n",
       "      <td>5480.109488</td>\n",
       "    </tr>\n",
       "    <tr>\n",
       "      <td>2</td>\n",
       "      <td>Thiel's U</td>\n",
       "      <td>2.182521</td>\n",
       "    </tr>\n",
       "  </tbody>\n",
       "</table>\n",
       "</div>"
      ],
      "text/plain": [
       "      Metric        Value\n",
       "0        R^2     0.254478\n",
       "1       RMSE  5480.109488\n",
       "2  Thiel's U     2.182521"
      ]
     },
     "metadata": {},
     "output_type": "display_data"
    },
    {
     "data": {
      "text/plain": [
       "<statsmodels.tsa.statespace.sarimax.SARIMAXResultsWrapper at 0x1a1c08e3c8>"
      ]
     },
     "execution_count": 170,
     "metadata": {},
     "output_type": "execute_result"
    },
    {
     "data": {
      "image/png": "[encoded data removed]",
      "text/plain": [
       "<Figure size 864x432 with 2 Axes>"
      ]
     },
     "metadata": {
      "needs_background": "light"
     },
     "output_type": "display_data"
    }
   ],
   "source": [
    "meta_grid_search(ts)"
   ]
  },
  {
   "cell_type": "markdown",
   "metadata": {},
   "source": [
    "# EARLIER EDA / INVESTIGATION"
   ]
  },
  {
   "cell_type": "code",
   "execution_count": null,
   "metadata": {
    "ExecuteTime": {
     "end_time": "2019-12-22T02:00:48.639940Z",
     "start_time": "2019-12-22T02:00:48.600669Z"
    }
   },
   "outputs": [],
   "source": [
    "zip_list = list(df['RegionID'].unique())\n",
    "zip_list[0]"
   ]
  },
  {
   "cell_type": "code",
   "execution_count": null,
   "metadata": {
    "ExecuteTime": {
     "end_time": "2019-12-22T02:00:49.778936Z",
     "start_time": "2019-12-22T02:00:49.103949Z"
    }
   },
   "outputs": [],
   "source": [
    "mpl.rcParams['figure.figsize'] = (12,6)\n",
    "df_small = df.loc[df['RegionID'].isin(zip_list[:1000])]\n",
    "df_small['datetime'] = df_small.index.to_series()\n",
    "df_small"
   ]
  },
  {
   "cell_type": "code",
   "execution_count": null,
   "metadata": {
    "ExecuteTime": {
     "end_time": "2019-12-22T02:12:21.464229Z",
     "start_time": "2019-12-22T02:11:43.077154Z"
    }
   },
   "outputs": [],
   "source": [
    "# def plotly_timeseries(df,x='datetime',y='MeanValue',color='RegionID',\n",
    "#                   line_group='State'):\n",
    "#     from plotly import express as px\n",
    "#     import plotly.graph_objects as go\n",
    "\n",
    "#     pfig = px.line(data_frame=df,x=x,y=y,color=color,\n",
    "#                   line_group=line_group)\n",
    "\n",
    "#     pfig.update_layout(title_text='Time Series with Rangeslider',\n",
    "#                       xaxis_rangeslider_visible=True)\n",
    "\n",
    "#     # Add range slider\n",
    "#     pfig.update_layout(\n",
    "#         xaxis=go.layout.XAxis(\n",
    "#             rangeselector=dict(\n",
    "#                 buttons=list([\n",
    "#                     dict(count=1,\n",
    "#                          label=\"1m\",\n",
    "#                          step=\"month\",\n",
    "#                          stepmode=\"backward\"),\n",
    "#                     dict(count=6,\n",
    "#                          label=\"6m\",\n",
    "#                          step=\"month\",\n",
    "#                          stepmode=\"backward\"),\n",
    "#                     dict(count=1,\n",
    "#                          label=\"YTD\",\n",
    "#                          step=\"year\",\n",
    "#                          stepmode=\"todate\"),\n",
    "#                     dict(count=1,\n",
    "#                          label=\"1y\",\n",
    "#                          step=\"year\",\n",
    "#                          stepmode=\"backward\"),\n",
    "#                     dict(step=\"all\")\n",
    "#                 ])\n",
    "#             ),\n",
    "#             rangeslider=dict(\n",
    "#                 visible=True\n",
    "#             ),\n",
    "#             type=\"date\"\n",
    "#         )\n",
    "#     )\n",
    "#     return pfig\n",
    "pfig= plotly_timeseries(df_small)\n",
    "pfig\n"
   ]
  },
  {
   "cell_type": "code",
   "execution_count": null,
   "metadata": {
    "ExecuteTime": {
     "end_time": "2019-12-22T02:07:23.013522Z",
     "start_time": "2019-12-22T02:07:23.010944Z"
    },
    "code_folding": [
     0
    ]
   },
   "outputs": [],
   "source": [
    "# from plotly import express as px\n",
    "# import plotly.graph_objects as go\n",
    "\n",
    "# pfig = px.line(data_frame=df_small,x='datetime',y='MeanValue',color='RegionID',\n",
    "#               line_group='State')\n",
    "# # pfig.update_layout({''})\n",
    "\n",
    "# pfig.update_layout(title_text='Time Series with Rangeslider',\n",
    "#                   xaxis_rangeslider_visible=True)\n",
    "\n",
    "# # Add range slider\n",
    "# pfig.update_layout(\n",
    "#     xaxis=go.layout.XAxis(\n",
    "#         rangeselector=dict(\n",
    "#             buttons=list([\n",
    "#                 dict(count=1,\n",
    "#                      label=\"1m\",\n",
    "#                      step=\"month\",\n",
    "#                      stepmode=\"backward\"),\n",
    "#                 dict(count=6,\n",
    "#                      label=\"6m\",\n",
    "#                      step=\"month\",\n",
    "#                      stepmode=\"backward\"),\n",
    "#                 dict(count=1,\n",
    "#                      label=\"YTD\",\n",
    "#                      step=\"year\",\n",
    "#                      stepmode=\"todate\"),\n",
    "#                 dict(count=1,\n",
    "#                      label=\"1y\",\n",
    "#                      step=\"year\",\n",
    "#                      stepmode=\"backward\"),\n",
    "#                 dict(step=\"all\")\n",
    "#             ])\n",
    "#         ),\n",
    "#         rangeslider=dict(\n",
    "#             visible=True\n",
    "#         ),\n",
    "#         type=\"date\"\n",
    "#     )\n",
    "# )"
   ]
  },
  {
   "cell_type": "code",
   "execution_count": null,
   "metadata": {},
   "outputs": [],
   "source": []
  },
  {
   "cell_type": "markdown",
   "metadata": {},
   "source": [
    "### Grabbing only 40 zips"
   ]
  },
  {
   "cell_type": "code",
   "execution_count": null,
   "metadata": {
    "ExecuteTime": {
     "end_time": "2019-12-22T02:14:57.601872Z",
     "start_time": "2019-12-22T02:14:52.363755Z"
    }
   },
   "outputs": [],
   "source": [
    "for i in range(0,40):\n",
    "    df.groupby('RegionID').get_group(zip_list[i])['MeanValue'].plot(label=zip_list[i])\n",
    "# plt.legend()"
   ]
  },
  {
   "cell_type": "code",
   "execution_count": null,
   "metadata": {
    "ExecuteTime": {
     "end_time": "2019-12-22T02:14:57.605693Z",
     "start_time": "2019-12-22T02:14:57.603866Z"
    },
    "scrolled": false
   },
   "outputs": [],
   "source": [
    "# i=0\n",
    "# df.groupby('RegionID').get_group(zip_list[i])['MeanValue'].plot(label=zip_list[i])\n",
    "# i+=1\n",
    "# df.groupby('RegionID').get_group(zip_list[i])['MeanValue'].plot(label=zip_list[i])\n",
    "# plt.legend()"
   ]
  },
  {
   "cell_type": "markdown",
   "metadata": {},
   "source": [
    "### By State: IL"
   ]
  },
  {
   "cell_type": "code",
   "execution_count": null,
   "metadata": {
    "ExecuteTime": {
     "end_time": "2019-12-22T02:15:24.422010Z",
     "start_time": "2019-12-22T02:14:57.607122Z"
    }
   },
   "outputs": [],
   "source": [
    "df_IL = df.groupby('State').get_group('IL')\n",
    "\n",
    "il_grps = df_IL.groupby('RegionID').groups\n",
    "# il_grps.keys()\n",
    "for grp,rows in il_grps.items():\n",
    "    plt.plot(df_IL.loc[rows,'MeanValue'].mean())"
   ]
  },
  {
   "cell_type": "code",
   "execution_count": null,
   "metadata": {
    "ExecuteTime": {
     "end_time": "2019-12-22T02:15:24.606349Z",
     "start_time": "2019-12-22T02:15:24.423168Z"
    }
   },
   "outputs": [],
   "source": [
    "df.loc[df['RegionID']==zip_list[0],'MeanValue'].plot()"
   ]
  },
  {
   "cell_type": "code",
   "execution_count": null,
   "metadata": {},
   "outputs": [],
   "source": [
    "fs.jmi.in"
   ]
  },
  {
   "cell_type": "code",
   "execution_count": null,
   "metadata": {
    "ExecuteTime": {
     "end_time": "2019-12-22T02:03:56.149169Z",
     "start_time": "2019-12-22T02:03:56.147255Z"
    }
   },
   "outputs": [],
   "source": [
    "# state_zips = df.groupby(['State','RegionID']).groups"
   ]
  },
  {
   "cell_type": "code",
   "execution_count": null,
   "metadata": {
    "ExecuteTime": {
     "end_time": "2019-12-22T02:01:23.718548Z",
     "start_time": "2019-12-22T02:00:53.188Z"
    }
   },
   "outputs": [],
   "source": [
    "# zips = df.groupby('RegionID').groups #pd.Grouper(freq='MS')]).groups\n",
    "# len(zips.keys())\n",
    "\n",
    "# list_zips = list(zips.keys())\n",
    "# list_zips[:10]"
   ]
  },
  {
   "cell_type": "code",
   "execution_count": null,
   "metadata": {
    "ExecuteTime": {
     "end_time": "2019-12-22T02:01:23.719214Z",
     "start_time": "2019-12-22T02:00:53.695Z"
    }
   },
   "outputs": [],
   "source": [
    "# zip_dict={}\n",
    "# for zipcode in list_zips[:10]:\n",
    "#     zip_dict[zipcode] = df.loc[zips[zipcode]]"
   ]
  },
  {
   "cell_type": "code",
   "execution_count": null,
   "metadata": {},
   "outputs": [],
   "source": []
  },
  {
   "cell_type": "code",
   "execution_count": null,
   "metadata": {
    "ExecuteTime": {
     "end_time": "2019-12-22T02:01:23.720075Z",
     "start_time": "2019-12-22T02:00:54.412Z"
    }
   },
   "outputs": [],
   "source": [
    "mpl.rcParams['figure.figsize'] = (12,6)\n",
    "ax = zip_dict[58196]['MeanValue'].loc['2012':'2016'].resample('MS').plot();"
   ]
  },
  {
   "cell_type": "code",
   "execution_count": null,
   "metadata": {
    "ExecuteTime": {
     "end_time": "2019-12-22T02:01:23.720804Z",
     "start_time": "2019-12-22T02:00:55.127Z"
    }
   },
   "outputs": [],
   "source": [
    "df.info()"
   ]
  },
  {
   "cell_type": "code",
   "execution_count": null,
   "metadata": {
    "ExecuteTime": {
     "end_time": "2019-12-22T01:57:28.134032Z",
     "start_time": "2019-12-22T01:57:17.296Z"
    }
   },
   "outputs": [],
   "source": [
    "from pandas_profiling import ProfileReport\n",
    "ProfileReport(df)"
   ]
  },
  {
   "cell_type": "code",
   "execution_count": null,
   "metadata": {
    "ExecuteTime": {
     "end_time": "2019-12-22T01:57:28.134912Z",
     "start_time": "2019-12-22T01:57:17.299Z"
    },
    "scrolled": true
   },
   "outputs": [],
   "source": [
    "# def melt_data(df): # BAD PROVIDED FUNCTION\n",
    "#     melted = pd.melt(df, id_vars=['RegionName', 'City', 'State', 'Metro', 'CountyName'], var_name='time')\n",
    "#     melted['time'] = pd.to_datetime(melted['time'], infer_datetime_format=True)\n",
    "#     melted = melted.dropna(subset=['value'])\n",
    "#     return melted.groupby('time').aggregate({'value':'mean'})\n",
    "\n",
    "# melt_df = melt_data(df)"
   ]
  },
  {
   "cell_type": "markdown",
   "metadata": {},
   "source": [
    "# Step 2: Data Preprocessing"
   ]
  },
  {
   "cell_type": "code",
   "execution_count": null,
   "metadata": {
    "ExecuteTime": {
     "end_time": "2019-12-22T01:57:28.135832Z",
     "start_time": "2019-12-22T01:57:17.305Z"
    }
   },
   "outputs": [],
   "source": [
    "def get_datetimes(df):\n",
    "    return pd.to_datetime(df.columns.values[1:], format='%Y-%m')"
   ]
  },
  {
   "cell_type": "code",
   "execution_count": null,
   "metadata": {
    "ExecuteTime": {
     "end_time": "2019-12-22T01:57:28.136642Z",
     "start_time": "2019-12-22T01:57:17.308Z"
    }
   },
   "outputs": [],
   "source": [
    "date_cols =  df.columns.values[7:]\n",
    "date_cols = pd.to_datetime(date_cols,format='%Y-%m')\n",
    "\n",
    "new_cols_names = list(df.columns)[:7]\n",
    "new_cols_names.extend(date_cols)\n",
    "df.columns = new_cols_names\n",
    "df"
   ]
  },
  {
   "cell_type": "code",
   "execution_count": null,
   "metadata": {},
   "outputs": [],
   "source": []
  },
  {
   "cell_type": "code",
   "execution_count": null,
   "metadata": {
    "ExecuteTime": {
     "end_time": "2019-12-22T01:57:28.137523Z",
     "start_time": "2019-12-22T01:57:17.313Z"
    }
   },
   "outputs": [],
   "source": [
    "melted = pd.melt(df, id_vars=['RegionName', 'City', 'State', 'Metro', 'CountyName'], var_name='time')\n",
    "melted\n",
    "# melted['time'] = pd.to_datetime(melted['time'], infer_datetime_format=True)\n"
   ]
  },
  {
   "cell_type": "code",
   "execution_count": null,
   "metadata": {
    "ExecuteTime": {
     "end_time": "2019-12-22T01:57:28.138379Z",
     "start_time": "2019-12-22T01:57:17.317Z"
    }
   },
   "outputs": [],
   "source": [
    "df\n"
   ]
  },
  {
   "cell_type": "code",
   "execution_count": null,
   "metadata": {},
   "outputs": [],
   "source": []
  },
  {
   "cell_type": "code",
   "execution_count": null,
   "metadata": {},
   "outputs": [],
   "source": []
  },
  {
   "cell_type": "code",
   "execution_count": null,
   "metadata": {},
   "outputs": [],
   "source": []
  },
  {
   "cell_type": "markdown",
   "metadata": {},
   "source": [
    "# Step 3: EDA and Visualization"
   ]
  },
  {
   "cell_type": "code",
   "execution_count": null,
   "metadata": {
    "ExecuteTime": {
     "end_time": "2019-12-22T01:57:28.139260Z",
     "start_time": "2019-12-22T01:57:17.327Z"
    }
   },
   "outputs": [],
   "source": [
    "font = {'family' : 'normal',\n",
    "        'weight' : 'bold',\n",
    "        'size'   : 22}\n",
    "\n",
    "matplotlib.rc('font', **font)\n",
    "\n",
    "# NOTE: if you visualizations are too cluttered to read, try calling 'plt.gcf().autofmt_xdate()'!"
   ]
  },
  {
   "cell_type": "code",
   "execution_count": null,
   "metadata": {},
   "outputs": [],
   "source": []
  },
  {
   "cell_type": "code",
   "execution_count": null,
   "metadata": {},
   "outputs": [],
   "source": []
  },
  {
   "cell_type": "code",
   "execution_count": null,
   "metadata": {},
   "outputs": [],
   "source": []
  },
  {
   "cell_type": "markdown",
   "metadata": {},
   "source": [
    "# Step 4: Reshape from Wide to Long Format"
   ]
  },
  {
   "cell_type": "code",
   "execution_count": null,
   "metadata": {
    "ExecuteTime": {
     "end_time": "2019-12-22T01:57:28.140073Z",
     "start_time": "2019-12-22T01:57:17.336Z"
    }
   },
   "outputs": [],
   "source": [
    "def melt_data(df):\n",
    "    melted = pd.melt(df, id_vars=['RegionName', 'City', 'State', 'Metro', 'CountyName'], var_name='time')\n",
    "    melted['time'] = pd.to_datetime(melted['time'], infer_datetime_format=True)\n",
    "    melted = melted.dropna(subset=['value'])\n",
    "    return melted.groupby('time').aggregate({'value':'mean'})"
   ]
  },
  {
   "cell_type": "code",
   "execution_count": null,
   "metadata": {},
   "outputs": [],
   "source": []
  },
  {
   "cell_type": "code",
   "execution_count": null,
   "metadata": {},
   "outputs": [],
   "source": []
  },
  {
   "cell_type": "code",
   "execution_count": null,
   "metadata": {},
   "outputs": [],
   "source": []
  },
  {
   "cell_type": "code",
   "execution_count": null,
   "metadata": {},
   "outputs": [],
   "source": []
  },
  {
   "cell_type": "markdown",
   "metadata": {},
   "source": [
    "# Step 5: ARIMA Modeling"
   ]
  },
  {
   "cell_type": "code",
   "execution_count": null,
   "metadata": {},
   "outputs": [],
   "source": []
  },
  {
   "cell_type": "code",
   "execution_count": null,
   "metadata": {},
   "outputs": [],
   "source": []
  },
  {
   "cell_type": "code",
   "execution_count": null,
   "metadata": {},
   "outputs": [],
   "source": []
  },
  {
   "cell_type": "code",
   "execution_count": null,
   "metadata": {},
   "outputs": [],
   "source": []
  },
  {
   "cell_type": "code",
   "execution_count": null,
   "metadata": {},
   "outputs": [],
   "source": []
  },
  {
   "cell_type": "code",
   "execution_count": null,
   "metadata": {},
   "outputs": [],
   "source": []
  },
  {
   "cell_type": "markdown",
   "metadata": {},
   "source": [
    "# Step 6: Interpreting Results"
   ]
  },
  {
   "cell_type": "code",
   "execution_count": null,
   "metadata": {},
   "outputs": [],
   "source": []
  },
  {
   "cell_type": "code",
   "execution_count": null,
   "metadata": {},
   "outputs": [],
   "source": []
  },
  {
   "cell_type": "code",
   "execution_count": null,
   "metadata": {},
   "outputs": [],
   "source": []
  }
 ],
 "metadata": {
  "kernelspec": {
   "display_name": "Python [conda env:learn-env] *",
   "language": "python",
   "name": "conda-env-learn-env-py"
  },
  "language_info": {
   "codemirror_mode": {
    "name": "ipython",
    "version": 3
   },
   "file_extension": ".py",
   "mimetype": "text/x-python",
   "name": "python",
   "nbconvert_exporter": "python",
   "pygments_lexer": "ipython3",
   "version": "3.6.9"
  },
  "toc": {
   "base_numbering": 1,
   "nav_menu": {},
   "number_sections": false,
   "sideBar": true,
   "skip_h1_title": false,
   "title_cell": "Table of Contents",
   "title_sidebar": "Contents",
   "toc_cell": false,
   "toc_position": {},
   "toc_section_display": true,
   "toc_window_display": true
  },
  "widgets": {
   "application/vnd.jupyter.widget-state+json": {
    "state": {},
    "version_major": 2,
    "version_minor": 0
   }
  }
 },
 "nbformat": 4,
 "nbformat_minor": 2
}

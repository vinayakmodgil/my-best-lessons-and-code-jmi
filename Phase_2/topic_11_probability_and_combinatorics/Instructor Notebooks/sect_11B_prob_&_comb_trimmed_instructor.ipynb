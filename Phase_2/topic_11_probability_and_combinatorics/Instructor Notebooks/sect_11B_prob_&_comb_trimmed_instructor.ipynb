{
 "cells": [
  {
   "cell_type": "markdown",
   "metadata": {
    "ExecuteTime": {
     "end_time": "2020-01-09T21:44:03.999140Z",
     "start_time": "2020-01-09T21:44:03.996502Z"
    }
   },
   "source": [
    "# Sect 11B: Conditional Probability & Law of Total Probability\n"
   ]
  },
  {
   "cell_type": "markdown",
   "metadata": {},
   "source": [
    "- date\n",
    "- cohort"
   ]
  },
  {
   "cell_type": "markdown",
   "metadata": {},
   "source": [
    "### QUESTIONS?\n",
    "- \n",
    "\n"
   ]
  },
  {
   "cell_type": "markdown",
   "metadata": {},
   "source": [
    "## Learning Objectives"
   ]
  },
  {
   "cell_type": "markdown",
   "metadata": {},
   "source": [
    "- We will review Independent, Dependent, vs Disjointed Events before diving deeper into conditional probability.\n",
    "- We will cover conditional probability and its theorems.\n",
    "- We will discuss the Law of Total Probability.\n",
    "\n",
    "\n",
    "\n",
    "- **Activity: We will extend our dinner party activity to a house party to explore conditional probability and the Law of Total Probability**\n",
    "- **Demo: Teaser for Sect 12 (if theres time)**"
   ]
  },
  {
   "cell_type": "markdown",
   "metadata": {},
   "source": [
    "# PROBABILITY REVIEW\n"
   ]
  },
  {
   "cell_type": "markdown",
   "metadata": {},
   "source": [
    "## What is probability?\n",
    "\n",
    "> **Probability is the likelihood of a specific outcome/event occuring out of all possible outcomes, expressed as a fraction between 0 and 1.**\n",
    "<!---\n",
    "Example Probability Qs:\n",
    "- How likely is it to end up with heads when flipping a coin once? (the answer here is 50% - not very surprising)\n",
    "\n",
    "- How likely is it to end up with exactly 2 x heads and 3 x tails when flipping a coin 5 times?\n",
    "\n",
    "- How likely is it to throw tails first, then heads, then tails, then heads, then tails when flipping a coin 5 times?\n",
    "\n",
    "- If you throw 5 dice, what is the probability of throwing a [\"full house\"](http://grail.sourceforge.net/demo/yahtzee/rules.html)?\n",
    "\n",
    "- What is the probability of drawing 2 consecutive aces from a standard deck of cards?\n",
    "\n",
    "> But how do we calculate it? ..._to be continued_...\n",
    "\n",
    "--->"
   ]
  },
  {
   "cell_type": "markdown",
   "metadata": {
    "colab_type": "text",
    "id": "5yI4j_L6XcBp"
   },
   "source": [
    "### Sample Space & Event Space\n",
    "\n",
    "- **Sample space** ($\\Omega$) - all possible outcomes\n",
    "-   The **event space** is a subset of the sample space. \n",
    "    - It is the **desired outcome** of the experiment.\n"
   ]
  },
  {
   "cell_type": "markdown",
   "metadata": {},
   "source": [
    "### Probability of an Event\n",
    "\n",
    "$$\\large P(E) = \\frac{|E|}{|S|} $$\n"
   ]
  },
  {
   "cell_type": "markdown",
   "metadata": {
    "colab_type": "text",
    "id": "5yI4j_L6XcBp"
   },
   "source": [
    "#### Law of relative frequency\n",
    "\n",
    "- Limit of large infinite outcomes produce fixed numbers .\n",
    "$$ \\large P(E) = \\lim_{n\\to\\infty}\\frac{S(n)}{n}$$\n",
    "    - Probability of Event E having Successful(S) outcomes for $n$ trials\n",
    "    "
   ]
  },
  {
   "cell_type": "markdown",
   "metadata": {
    "colab_type": "text",
    "id": "5yI4j_L6XcBp"
   },
   "source": [
    "### Addition law of probability "
   ]
  },
  {
   "cell_type": "markdown",
   "metadata": {
    "colab_type": "text",
    "id": "5yI4j_L6XcBp"
   },
   "source": [
    "-   Prob of union of A and B is individual P minus intersection\n",
    "\n",
    "$$ \\large P(A\\cup B) = P(A) + P(B) - P(A \\cap B)$$"
   ]
  },
  {
   "cell_type": "markdown",
   "metadata": {
    "heading_collapsed": true
   },
   "source": [
    "# CONDITIONAL PROBABILITIES"
   ]
  },
  {
   "cell_type": "markdown",
   "metadata": {
    "hidden": true
   },
   "source": [
    "## Types of Events"
   ]
  },
  {
   "cell_type": "markdown",
   "metadata": {
    "hidden": true
   },
   "source": [
    "### Indepdent Events"
   ]
  },
  {
   "cell_type": "markdown",
   "metadata": {
    "hidden": true
   },
   "source": [
    "**Events $A$ and $B$ are independent when the occurrence of $A$ has no effect on whether $B$ will occur (or not).**\n",
    "\n",
    "- A and B are independent if:\n",
    "    - $P(A \\cap B) = P(A)\\cdot P(B)$\n",
    "\n",
    " <img src=\"https://raw.githubusercontent.com/jirvingphd/dsc-conditional-probability-online-ds-ft-100719/master/images/Image_67_independent.png\" width=30%>\n",
    "\n",
    "- Probability of A or B occurring:\n",
    "    - $P (A \\cup B) = P(A) + P(B) - P(A \\cap B)$\n",
    "\n",
    "\n"
   ]
  },
  {
   "cell_type": "markdown",
   "metadata": {
    "hidden": true
   },
   "source": [
    "### Disjoint Events\n"
   ]
  },
  {
   "cell_type": "markdown",
   "metadata": {
    "hidden": true
   },
   "source": [
    "\n",
    "\n",
    "**Events $A$ and $B$ are disjoint if $A$ occurring means that $B$ cannot occur.**\n",
    "\n",
    "Disjoint events are **mutually exclusive**. $P (A \\cap B)$ is **empty**.\n",
    "\n",
    "<img src=\"https://raw.githubusercontent.com/jirvingphd/dsc-conditional-probability-online-ds-ft-100719/master/images/Image_68Disjoint.png\" width=30%>\n",
    "\n"
   ]
  },
  {
   "cell_type": "markdown",
   "metadata": {
    "hidden": true
   },
   "source": [
    "### Dependent Events"
   ]
  },
  {
   "cell_type": "markdown",
   "metadata": {
    "hidden": true
   },
   "source": [
    "**Events $A$ and $B$ are dependent when the occurrence of $A$ somehow has an effect on whether $B$ will occur (or not).**\n",
    "\n",
    "<img src=\"https://raw.githubusercontent.com/learn-co-students/dsc-conditional-probability-onl01-dtsc-ft-070620/master/images/Image_69_Marb.png\" width=50%>\n",
    "\n"
   ]
  },
  {
   "cell_type": "markdown",
   "metadata": {
    "hidden": true
   },
   "source": [
    "## Conditional Probability - Definition"
   ]
  },
  {
   "cell_type": "markdown",
   "metadata": {
    "hidden": true
   },
   "source": [
    "**Conditional probability emerges when the outcome a trial may influence the results of the upcoming trials (when we have dependent events)**\n",
    "\n",
    "\n",
    "<img src=\"https://raw.githubusercontent.com/jirvingphd/dsc-conditional-probability-online-ds-ft-100719/master/images/Image_71_TreeDiag.png\" width = 500>\n",
    "\n",
    "$$ P (A \\mid B) = \\dfrac{P(A \\cap B)}{P(B)}$$\n",
    "\n",
    "$P(A|B)$, is the probability A **given** that $B$ has just happened. "
   ]
  },
  {
   "cell_type": "markdown",
   "metadata": {
    "hidden": true
   },
   "source": [
    "## Laws & Theorems Based on Conditional Probability\n"
   ]
  },
  {
   "cell_type": "markdown",
   "metadata": {
    "hidden": true
   },
   "source": [
    "#### Theorem 1: Product Rule\n",
    "\n",
    "The intersection of events $A$ and $B$ can be given by\n",
    "\n",
    "\\begin{align}\n",
    "    \\large P(A \\cap B) = P(B) P(A \\mid B) = P(A) P(B \\mid A)\n",
    "\\end{align}\n",
    "\n",
    "\n"
   ]
  },
  {
   "cell_type": "markdown",
   "metadata": {
    "hidden": true
   },
   "source": [
    "#### Theorem 2: Chain Rule AKA \"General Product Rule\"\n",
    "\n",
    "- Allows calculation of any member of the joint distribution of a set of random variables using _only_ conditional probabilities.\n",
    "\n",
    "- Builds upon the product rule: \n",
    "$$P(A \\cap B) = P(A \\mid B) P(B)$$\n",
    "\n",
    "- When applied to 3 variables, becomes:\n",
    "\n",
    "\n",
    "$$P(A\\cap B \\cap C) = P(A\\cap( B \\cap C))$$\n",
    "$$ = P(A\\mid B \\cap C) P(B \\cap C)$$\n",
    "$$ = P(A \\mid B \\cap C) P(B \\mid C) P(C)$$\n",
    "\n",
    "And you can keep extending this to $n$ variables.\n",
    "\n"
   ]
  },
  {
   "cell_type": "markdown",
   "metadata": {
    "hidden": true
   },
   "source": [
    "#### Theorem 3 - Bayes Theorem"
   ]
  },
  {
   "cell_type": "markdown",
   "metadata": {
    "hidden": true
   },
   "source": [
    "\n",
    "\n",
    "The **Bayes theorem**, which is the outcome of this section. Below is the formula that we will dig deeper into in upcoming lessons.\n",
    "\n",
    "$$ P(A|B) = \\frac{P(B|A)P(A)}{P(B)} $$\n",
    "\n",
    "- It uses that $P(A \\cap B) = P(B) P(A \\mid B) = P(A) P(B \\mid A)$. \n",
    "- Note that, using Bayes theorem, you **can compute conditional probabilities without explicitly needing to know $P(A \\cap B)$!** "
   ]
  },
  {
   "cell_type": "markdown",
   "metadata": {
    "hidden": true
   },
   "source": [
    "\n",
    "#### Additional note: the complement of an event\n",
    "- Basic complements:\n",
    "$$P(A) + P(A') = 1$$\n",
    "with A' being the complement of A.\n",
    "\n",
    "- Conditional Probability Complements\n",
    "\n",
    "$$P(A|B) + P(A'|B) = 1$$"
   ]
  },
  {
   "cell_type": "markdown",
   "metadata": {},
   "source": [
    "# LAW OF TOTAL PROBABILITY"
   ]
  },
  {
   "cell_type": "markdown",
   "metadata": {},
   "source": [
    "\n",
    "<img src=\"https://raw.githubusercontent.com/jirvingphd/dsc-law-of-total-probability-online-ds-ft-100719/master/images/Image_55_TotProb.png\" width=50%>\n",
    "\n",
    "$$\\large P(B)= \\sum_i P(B \\cap A_i)= \\sum_i P(B \\mid A_i)P(A_i)$$\n",
    "\n",
    "\n",
    "- This law allows us to calculate $P(B)$ from partial/conditional probabilitie of subsets ($A_n$).\n",
    "- Requires that the different $A$'s that make up sample space $S$ be disjointed events.\n",
    "\n",
    "\n",
    "S $A_1, A_2, \\dots, A_n$ partition sample space $S$ into disjoint regions that sum up to $S$.\n",
    "\n",
    "\n",
    "\n",
    "\n",
    "<img src=\"https://raw.githubusercontent.com/learn-co-students/dsc-law-of-total-probability-onl01-dtsc-ft-070620/master/images/Image_56_vent.png\" width=50%>\n",
    "\n",
    "\n",
    "\n"
   ]
  },
  {
   "cell_type": "markdown",
   "metadata": {},
   "source": [
    "# 🕹 Activity Pt 3: Dinner Party Playlist - Conditional Probabilities"
   ]
  },
  {
   "cell_type": "markdown",
   "metadata": {},
   "source": [
    "- Loading in the Data and Adding the Recommendations of a last minute invitee (Carla)"
   ]
  },
  {
   "cell_type": "code",
   "execution_count": 1,
   "metadata": {
    "ExecuteTime": {
     "end_time": "2020-08-06T15:29:37.757630Z",
     "start_time": "2020-08-06T15:29:32.145225Z"
    },
    "colab": {},
    "colab_type": "code",
    "id": "HhbtNsyeXQIm",
    "scrolled": true
   },
   "outputs": [
    {
     "name": "stdout",
     "output_type": "stream",
     "text": [
      "fsds v0.2.22 loaded.  Read the docs: https://fs-ds.readthedocs.io/en/latest/ \n"
     ]
    },
    {
     "data": {
      "text/html": [
       "<style  type=\"text/css\" >\n",
       "</style><table id=\"T_a2b493d4_d7f9_11ea_add4_4865ee12e626\" ><caption>Loaded Packages and Handles</caption><thead>    <tr>        <th class=\"col_heading level0 col0\" >Handle</th>        <th class=\"col_heading level0 col1\" >Package</th>        <th class=\"col_heading level0 col2\" >Description</th>    </tr></thead><tbody>\n",
       "                <tr>\n",
       "                                <td id=\"T_a2b493d4_d7f9_11ea_add4_4865ee12e626row0_col0\" class=\"data row0 col0\" >dp</td>\n",
       "                        <td id=\"T_a2b493d4_d7f9_11ea_add4_4865ee12e626row0_col1\" class=\"data row0 col1\" >IPython.display</td>\n",
       "                        <td id=\"T_a2b493d4_d7f9_11ea_add4_4865ee12e626row0_col2\" class=\"data row0 col2\" >Display modules with helpful display and clearing commands.</td>\n",
       "            </tr>\n",
       "            <tr>\n",
       "                                <td id=\"T_a2b493d4_d7f9_11ea_add4_4865ee12e626row1_col0\" class=\"data row1 col0\" >fs</td>\n",
       "                        <td id=\"T_a2b493d4_d7f9_11ea_add4_4865ee12e626row1_col1\" class=\"data row1 col1\" >fsds</td>\n",
       "                        <td id=\"T_a2b493d4_d7f9_11ea_add4_4865ee12e626row1_col2\" class=\"data row1 col2\" >Custom data science bootcamp student package</td>\n",
       "            </tr>\n",
       "            <tr>\n",
       "                                <td id=\"T_a2b493d4_d7f9_11ea_add4_4865ee12e626row2_col0\" class=\"data row2 col0\" >mpl</td>\n",
       "                        <td id=\"T_a2b493d4_d7f9_11ea_add4_4865ee12e626row2_col1\" class=\"data row2 col1\" >matplotlib</td>\n",
       "                        <td id=\"T_a2b493d4_d7f9_11ea_add4_4865ee12e626row2_col2\" class=\"data row2 col2\" >Matplotlib's base OOP module with formatting artists</td>\n",
       "            </tr>\n",
       "            <tr>\n",
       "                                <td id=\"T_a2b493d4_d7f9_11ea_add4_4865ee12e626row3_col0\" class=\"data row3 col0\" >plt</td>\n",
       "                        <td id=\"T_a2b493d4_d7f9_11ea_add4_4865ee12e626row3_col1\" class=\"data row3 col1\" >matplotlib.pyplot</td>\n",
       "                        <td id=\"T_a2b493d4_d7f9_11ea_add4_4865ee12e626row3_col2\" class=\"data row3 col2\" >Matplotlib's matlab-like plotting module</td>\n",
       "            </tr>\n",
       "            <tr>\n",
       "                                <td id=\"T_a2b493d4_d7f9_11ea_add4_4865ee12e626row4_col0\" class=\"data row4 col0\" >np</td>\n",
       "                        <td id=\"T_a2b493d4_d7f9_11ea_add4_4865ee12e626row4_col1\" class=\"data row4 col1\" >numpy</td>\n",
       "                        <td id=\"T_a2b493d4_d7f9_11ea_add4_4865ee12e626row4_col2\" class=\"data row4 col2\" >scientific computing with Python</td>\n",
       "            </tr>\n",
       "            <tr>\n",
       "                                <td id=\"T_a2b493d4_d7f9_11ea_add4_4865ee12e626row5_col0\" class=\"data row5 col0\" >pd</td>\n",
       "                        <td id=\"T_a2b493d4_d7f9_11ea_add4_4865ee12e626row5_col1\" class=\"data row5 col1\" >pandas</td>\n",
       "                        <td id=\"T_a2b493d4_d7f9_11ea_add4_4865ee12e626row5_col2\" class=\"data row5 col2\" >High performance data structures and tools</td>\n",
       "            </tr>\n",
       "            <tr>\n",
       "                                <td id=\"T_a2b493d4_d7f9_11ea_add4_4865ee12e626row6_col0\" class=\"data row6 col0\" >sns</td>\n",
       "                        <td id=\"T_a2b493d4_d7f9_11ea_add4_4865ee12e626row6_col1\" class=\"data row6 col1\" >seaborn</td>\n",
       "                        <td id=\"T_a2b493d4_d7f9_11ea_add4_4865ee12e626row6_col2\" class=\"data row6 col2\" >High-level data visualization library based on matplotlib</td>\n",
       "            </tr>\n",
       "    </tbody></table>"
      ],
      "text/plain": [
       "<pandas.io.formats.style.Styler at 0x1078c8f28>"
      ]
     },
     "metadata": {},
     "output_type": "display_data"
    },
    {
     "data": {
      "text/html": [
       "        <script type=\"text/javascript\">\n",
       "        window.PlotlyConfig = {MathJaxConfig: 'local'};\n",
       "        if (window.MathJax) {MathJax.Hub.Config({SVG: {font: \"STIX-Web\"}});}\n",
       "        if (typeof require !== 'undefined') {\n",
       "        require.undef(\"plotly\");\n",
       "        requirejs.config({\n",
       "            paths: {\n",
       "                'plotly': ['https://cdn.plot.ly/plotly-latest.min']\n",
       "            }\n",
       "        });\n",
       "        require(['plotly'], function(Plotly) {\n",
       "            window._Plotly = Plotly;\n",
       "        });\n",
       "        }\n",
       "        </script>\n",
       "        "
      ]
     },
     "metadata": {},
     "output_type": "display_data"
    },
    {
     "data": {
      "text/html": [
       "        <script type=\"text/javascript\">\n",
       "        window.PlotlyConfig = {MathJaxConfig: 'local'};\n",
       "        if (window.MathJax) {MathJax.Hub.Config({SVG: {font: \"STIX-Web\"}});}\n",
       "        if (typeof require !== 'undefined') {\n",
       "        require.undef(\"plotly\");\n",
       "        requirejs.config({\n",
       "            paths: {\n",
       "                'plotly': ['https://cdn.plot.ly/plotly-latest.min']\n",
       "            }\n",
       "        });\n",
       "        require(['plotly'], function(Plotly) {\n",
       "            window._Plotly = Plotly;\n",
       "        });\n",
       "        }\n",
       "        </script>\n",
       "        "
      ]
     },
     "metadata": {},
     "output_type": "display_data"
    },
    {
     "name": "stdout",
     "output_type": "stream",
     "text": [
      "[i] Pandas .iplot() method activated.\n"
     ]
    }
   ],
   "source": [
    "# !pip install -U fsds\n",
    "from fsds.imports import *\n",
    "from math import factorial"
   ]
  },
  {
   "cell_type": "code",
   "execution_count": 2,
   "metadata": {
    "ExecuteTime": {
     "end_time": "2020-08-06T15:29:37.781431Z",
     "start_time": "2020-08-06T15:29:37.758943Z"
    }
   },
   "outputs": [
    {
     "data": {
      "text/plain": [
       "dict_keys(['joe', 'james', 'anne', 'john', 'samantha'])"
      ]
     },
     "execution_count": 2,
     "metadata": {},
     "output_type": "execute_result"
    }
   ],
   "source": [
    "import os,glob\n",
    "datafolder = \"../probability_playlists/\" ## student filepath\n",
    "rec_files = glob.glob(datafolder+\"*.csv\")\n",
    "\n",
    "playlists = {}\n",
    "for file in rec_files:\n",
    "    key = os.path.basename(file).replace('_recs.csv','')\n",
    "    playlists[key] = pd.read_csv(file)\n",
    "playlists.keys()"
   ]
  },
  {
   "cell_type": "code",
   "execution_count": 3,
   "metadata": {
    "ExecuteTime": {
     "end_time": "2020-08-06T15:29:37.807197Z",
     "start_time": "2020-08-06T15:29:37.783379Z"
    }
   },
   "outputs": [
    {
     "data": {
      "text/html": [
       "<div>\n",
       "<style scoped>\n",
       "    .dataframe tbody tr th:only-of-type {\n",
       "        vertical-align: middle;\n",
       "    }\n",
       "\n",
       "    .dataframe tbody tr th {\n",
       "        vertical-align: top;\n",
       "    }\n",
       "\n",
       "    .dataframe thead th {\n",
       "        text-align: right;\n",
       "    }\n",
       "</style>\n",
       "<table border=\"1\" class=\"dataframe\">\n",
       "  <thead>\n",
       "    <tr style=\"text-align: right;\">\n",
       "      <th></th>\n",
       "      <th>artist</th>\n",
       "      <th>track</th>\n",
       "      <th>Recommended By</th>\n",
       "    </tr>\n",
       "  </thead>\n",
       "  <tbody>\n",
       "    <tr>\n",
       "      <th>0</th>\n",
       "      <td>Green Day</td>\n",
       "      <td>Time of your Life</td>\n",
       "      <td>Joe</td>\n",
       "    </tr>\n",
       "    <tr>\n",
       "      <th>1</th>\n",
       "      <td>B-52s</td>\n",
       "      <td>Rock Lobster</td>\n",
       "      <td>Joe</td>\n",
       "    </tr>\n",
       "    <tr>\n",
       "      <th>2</th>\n",
       "      <td>Lady GaGa</td>\n",
       "      <td>Poker Face</td>\n",
       "      <td>Joe</td>\n",
       "    </tr>\n",
       "    <tr>\n",
       "      <th>3</th>\n",
       "      <td>John Lennon</td>\n",
       "      <td>Imagine</td>\n",
       "      <td>Joe</td>\n",
       "    </tr>\n",
       "    <tr>\n",
       "      <th>4</th>\n",
       "      <td>Eve 6</td>\n",
       "      <td>Here's to the Night</td>\n",
       "      <td>James</td>\n",
       "    </tr>\n",
       "    <tr>\n",
       "      <th>5</th>\n",
       "      <td>Neutral Milk Hotel</td>\n",
       "      <td>Into the Aeroplane Over the Sea</td>\n",
       "      <td>James</td>\n",
       "    </tr>\n",
       "    <tr>\n",
       "      <th>6</th>\n",
       "      <td>Rilo Kiley</td>\n",
       "      <td>With Arms Outstretched</td>\n",
       "      <td>James</td>\n",
       "    </tr>\n",
       "    <tr>\n",
       "      <th>7</th>\n",
       "      <td>Red Hot Chili Peppers</td>\n",
       "      <td>Otherside</td>\n",
       "      <td>James</td>\n",
       "    </tr>\n",
       "    <tr>\n",
       "      <th>8</th>\n",
       "      <td>Smashing Pumpkins</td>\n",
       "      <td>Tonight, Tonight</td>\n",
       "      <td>Anne</td>\n",
       "    </tr>\n",
       "    <tr>\n",
       "      <th>9</th>\n",
       "      <td>Black Eyed Peas</td>\n",
       "      <td>Let's Get it Started</td>\n",
       "      <td>Anne</td>\n",
       "    </tr>\n",
       "    <tr>\n",
       "      <th>10</th>\n",
       "      <td>Green Day</td>\n",
       "      <td>Time of your Life</td>\n",
       "      <td>Anne</td>\n",
       "    </tr>\n",
       "    <tr>\n",
       "      <th>11</th>\n",
       "      <td>Black Eyed Peas</td>\n",
       "      <td>Let's Get it Started</td>\n",
       "      <td>John</td>\n",
       "    </tr>\n",
       "    <tr>\n",
       "      <th>12</th>\n",
       "      <td>Lady GaGa</td>\n",
       "      <td>Poker Face</td>\n",
       "      <td>John</td>\n",
       "    </tr>\n",
       "    <tr>\n",
       "      <th>13</th>\n",
       "      <td>Lady GaGa</td>\n",
       "      <td>Bad Romance</td>\n",
       "      <td>John</td>\n",
       "    </tr>\n",
       "    <tr>\n",
       "      <th>14</th>\n",
       "      <td>Lady GaGa</td>\n",
       "      <td>Just Dance</td>\n",
       "      <td>John</td>\n",
       "    </tr>\n",
       "    <tr>\n",
       "      <th>15</th>\n",
       "      <td>Black Eyed Peas</td>\n",
       "      <td>Let's Get it Started</td>\n",
       "      <td>Samantha</td>\n",
       "    </tr>\n",
       "    <tr>\n",
       "      <th>16</th>\n",
       "      <td>Panic at the Disco</td>\n",
       "      <td>Hallelujah</td>\n",
       "      <td>Samantha</td>\n",
       "    </tr>\n",
       "    <tr>\n",
       "      <th>17</th>\n",
       "      <td>Adele</td>\n",
       "      <td>Set Fire to the Rain</td>\n",
       "      <td>Samantha</td>\n",
       "    </tr>\n",
       "    <tr>\n",
       "      <th>18</th>\n",
       "      <td>Cartman (South Park)</td>\n",
       "      <td>Poker Face</td>\n",
       "      <td>Carla</td>\n",
       "    </tr>\n",
       "    <tr>\n",
       "      <th>19</th>\n",
       "      <td>Nicki Minaj</td>\n",
       "      <td>Right By My Side</td>\n",
       "      <td>Carla</td>\n",
       "    </tr>\n",
       "    <tr>\n",
       "      <th>20</th>\n",
       "      <td>Kelly Clarkson</td>\n",
       "      <td>Since You've Been Gone</td>\n",
       "      <td>Carla</td>\n",
       "    </tr>\n",
       "    <tr>\n",
       "      <th>21</th>\n",
       "      <td>Nicki Minaj</td>\n",
       "      <td>Marilyn Monroe</td>\n",
       "      <td>Carla</td>\n",
       "    </tr>\n",
       "    <tr>\n",
       "      <th>22</th>\n",
       "      <td>Kelly Clarkson</td>\n",
       "      <td>Never Again</td>\n",
       "      <td>Carla</td>\n",
       "    </tr>\n",
       "    <tr>\n",
       "      <th>23</th>\n",
       "      <td>Green Day</td>\n",
       "      <td>Minority</td>\n",
       "      <td>Carla</td>\n",
       "    </tr>\n",
       "  </tbody>\n",
       "</table>\n",
       "</div>"
      ],
      "text/plain": [
       "                   artist                            track Recommended By\n",
       "0               Green Day                Time of your Life            Joe\n",
       "1                   B-52s                     Rock Lobster            Joe\n",
       "2               Lady GaGa                       Poker Face            Joe\n",
       "3             John Lennon                          Imagine            Joe\n",
       "4                   Eve 6              Here's to the Night          James\n",
       "5      Neutral Milk Hotel  Into the Aeroplane Over the Sea          James\n",
       "6              Rilo Kiley           With Arms Outstretched          James\n",
       "7   Red Hot Chili Peppers                        Otherside          James\n",
       "8       Smashing Pumpkins                 Tonight, Tonight           Anne\n",
       "9         Black Eyed Peas             Let's Get it Started           Anne\n",
       "10              Green Day                Time of your Life           Anne\n",
       "11        Black Eyed Peas             Let's Get it Started           John\n",
       "12              Lady GaGa                       Poker Face           John\n",
       "13              Lady GaGa                      Bad Romance           John\n",
       "14              Lady GaGa                       Just Dance           John\n",
       "15        Black Eyed Peas             Let's Get it Started       Samantha\n",
       "16     Panic at the Disco                       Hallelujah       Samantha\n",
       "17                  Adele             Set Fire to the Rain       Samantha\n",
       "18   Cartman (South Park)                       Poker Face          Carla\n",
       "19            Nicki Minaj                 Right By My Side          Carla\n",
       "20         Kelly Clarkson           Since You've Been Gone          Carla\n",
       "21            Nicki Minaj                   Marilyn Monroe          Carla\n",
       "22         Kelly Clarkson                      Never Again          Carla\n",
       "23              Green Day                         Minority          Carla"
      ]
     },
     "execution_count": 3,
     "metadata": {},
     "output_type": "execute_result"
    }
   ],
   "source": [
    "# New Atendee Carla's Recs:\n",
    "carla_recs = [['artist','track'],\n",
    "              ['Cartman (South Park)','Poker Face'], \n",
    "              ['Nicki Minaj','Right By My Side'],\n",
    "              ['Kelly Clarkson',\"Since You've Been Gone\"],\n",
    "              ['Nicki Minaj',\"Marilyn Monroe\"],\n",
    "              ['Kelly Clarkson',\"Never Again\"],\n",
    "              ['Green Day',\"Minority\"]]\n",
    "\n",
    "carla_recs = pd.DataFrame(carla_recs[1:],columns=carla_recs[0])\n",
    "carla_recs['Recommended By'] ='Carla'\n",
    "playlists['carla'] = carla_recs\n",
    "\n",
    "\n",
    "df = pd.concat(playlists).reset_index(drop=True)\n",
    "df"
   ]
  },
  {
   "cell_type": "markdown",
   "metadata": {},
   "source": [
    "## Basic Probability Revisited"
   ]
  },
  {
   "cell_type": "markdown",
   "metadata": {},
   "source": [
    "$$P(E) = |E| / |S|  $$"
   ]
  },
  {
   "cell_type": "markdown",
   "metadata": {},
   "source": [
    "#### **Q: What is the probability of hearing \"Let's Get it started\"?**"
   ]
  },
  {
   "cell_type": "code",
   "execution_count": 4,
   "metadata": {
    "ExecuteTime": {
     "end_time": "2020-08-06T15:29:55.061952Z",
     "start_time": "2020-08-06T15:29:55.055797Z"
    }
   },
   "outputs": [
    {
     "data": {
      "text/plain": [
       "Let's Get it Started               3\n",
       "Poker Face                         3\n",
       "Time of your Life                  2\n",
       "Minority                           1\n",
       "Marilyn Monroe                     1\n",
       "Imagine                            1\n",
       "Hallelujah                         1\n",
       "With Arms Outstretched             1\n",
       "Here's to the Night                1\n",
       "Into the Aeroplane Over the Sea    1\n",
       "Since You've Been Gone             1\n",
       "Rock Lobster                       1\n",
       "Just Dance                         1\n",
       "Bad Romance                        1\n",
       "Never Again                        1\n",
       "Set Fire to the Rain               1\n",
       "Otherside                          1\n",
       "Right By My Side                   1\n",
       "Tonight, Tonight                   1\n",
       "Name: track, dtype: int64"
      ]
     },
     "execution_count": 4,
     "metadata": {},
     "output_type": "execute_result"
    }
   ],
   "source": [
    "## Get sample space\n",
    "sample_space = df['track'].value_counts()\n",
    "sample_space"
   ]
  },
  {
   "cell_type": "code",
   "execution_count": 5,
   "metadata": {
    "ExecuteTime": {
     "end_time": "2020-08-06T15:29:55.067080Z",
     "start_time": "2020-08-06T15:29:55.063420Z"
    }
   },
   "outputs": [
    {
     "data": {
      "text/plain": [
       "3"
      ]
     },
     "execution_count": 5,
     "metadata": {},
     "output_type": "execute_result"
    }
   ],
   "source": [
    "## Get event space\n",
    "E = sample_space[\"Let's Get it Started\"]\n",
    "E"
   ]
  },
  {
   "cell_type": "code",
   "execution_count": 6,
   "metadata": {
    "ExecuteTime": {
     "end_time": "2020-08-06T15:29:55.071962Z",
     "start_time": "2020-08-06T15:29:55.068508Z"
    }
   },
   "outputs": [
    {
     "data": {
      "text/plain": [
       "24"
      ]
     },
     "execution_count": 6,
     "metadata": {},
     "output_type": "execute_result"
    }
   ],
   "source": [
    "S = sample_space.sum()\n",
    "S"
   ]
  },
  {
   "cell_type": "code",
   "execution_count": 7,
   "metadata": {
    "ExecuteTime": {
     "end_time": "2020-08-06T15:29:55.077178Z",
     "start_time": "2020-08-06T15:29:55.073481Z"
    }
   },
   "outputs": [
    {
     "data": {
      "text/plain": [
       "0.125"
      ]
     },
     "execution_count": 7,
     "metadata": {},
     "output_type": "execute_result"
    }
   ],
   "source": [
    "## Get Event Space\n",
    "P_lets_get_it = E/S\n",
    "P_lets_get_it"
   ]
  },
  {
   "cell_type": "markdown",
   "metadata": {},
   "source": [
    "## Conditional Probabilities"
   ]
  },
  {
   "cell_type": "markdown",
   "metadata": {},
   "source": [
    "$$ P (A \\mid B) = \\dfrac{P(A \\cap B)}{P(B)}$$\n"
   ]
  },
  {
   "cell_type": "markdown",
   "metadata": {},
   "source": [
    "#### Q: what is the probability of hearing the song \"Poker Face\" given that the song is by Lady GaGa?"
   ]
  },
  {
   "cell_type": "markdown",
   "metadata": {},
   "source": [
    "- **What would be the formula to calculate $P(\\text{PokerFace}|\\text{LadyGaga})$  ?**"
   ]
  },
  {
   "cell_type": "markdown",
   "metadata": {},
   "source": [
    "A:\n",
    "\n",
    "$$ \\large P(\\text{PokerFace}|\\text{LadyGaga}) =\\frac{P(\\text{Track:\"Poker Face\" & Artist:\"Lady Gaga\"})}{ P(\\text{Lady GaGa})} $$"
   ]
  },
  {
   "cell_type": "code",
   "execution_count": 8,
   "metadata": {
    "ExecuteTime": {
     "end_time": "2020-08-06T15:29:55.086973Z",
     "start_time": "2020-08-06T15:29:55.078714Z"
    }
   },
   "outputs": [
    {
     "data": {
      "text/plain": [
       "Poker Face     2\n",
       "Bad Romance    1\n",
       "Just Dance     1\n",
       "Name: track, dtype: int64"
      ]
     },
     "execution_count": 8,
     "metadata": {},
     "output_type": "execute_result"
    }
   ],
   "source": [
    "## Get Value Counts for all Lady GaGa tracks\n",
    "sample_space = df.groupby('artist').get_group('Lady GaGa')['track'].value_counts()\n",
    "sample_space"
   ]
  },
  {
   "cell_type": "code",
   "execution_count": 9,
   "metadata": {
    "ExecuteTime": {
     "end_time": "2020-08-06T15:29:55.091669Z",
     "start_time": "2020-08-06T15:29:55.088336Z"
    }
   },
   "outputs": [
    {
     "data": {
      "text/plain": [
       "2"
      ]
     },
     "execution_count": 9,
     "metadata": {},
     "output_type": "execute_result"
    }
   ],
   "source": [
    "E = sample_space['Poker Face']\n",
    "E "
   ]
  },
  {
   "cell_type": "code",
   "execution_count": 10,
   "metadata": {
    "ExecuteTime": {
     "end_time": "2020-08-06T15:29:55.096312Z",
     "start_time": "2020-08-06T15:29:55.092957Z"
    }
   },
   "outputs": [
    {
     "data": {
      "text/plain": [
       "4"
      ]
     },
     "execution_count": 10,
     "metadata": {},
     "output_type": "execute_result"
    }
   ],
   "source": [
    "S = sample_space.sum()\n",
    "S"
   ]
  },
  {
   "cell_type": "code",
   "execution_count": 11,
   "metadata": {
    "ExecuteTime": {
     "end_time": "2020-08-06T15:29:55.101237Z",
     "start_time": "2020-08-06T15:29:55.097965Z"
    }
   },
   "outputs": [
    {
     "data": {
      "text/plain": [
       "0.5"
      ]
     },
     "execution_count": 11,
     "metadata": {},
     "output_type": "execute_result"
    }
   ],
   "source": [
    "E/S"
   ]
  },
  {
   "cell_type": "markdown",
   "metadata": {},
   "source": [
    "#### Q: What is the prob of the song by Lady GaGa given that it is Poker Face?"
   ]
  },
  {
   "cell_type": "code",
   "execution_count": 12,
   "metadata": {
    "ExecuteTime": {
     "end_time": "2020-08-06T15:29:55.109496Z",
     "start_time": "2020-08-06T15:29:55.102633Z"
    }
   },
   "outputs": [
    {
     "data": {
      "text/plain": [
       "0.6666666666666666"
      ]
     },
     "execution_count": 12,
     "metadata": {},
     "output_type": "execute_result"
    }
   ],
   "source": [
    "## Show how groupby and value_counts gives same answer\n",
    "poker_face_space = df.groupby('track').get_group('Poker Face')\n",
    "sample_space = poker_face_space['artist'].value_counts()\n",
    "\n",
    "E = sample_space['Lady GaGa']\n",
    "S = sample_space.sum()\n",
    "E/S\n"
   ]
  },
  {
   "cell_type": "markdown",
   "metadata": {
    "ExecuteTime": {
     "end_time": "2020-01-09T21:50:32.639351Z",
     "start_time": "2020-01-09T21:50:32.637220Z"
    }
   },
   "source": [
    "# 🕹 Activity Pt 4: Law of Total House Party Playlists"
   ]
  },
  {
   "cell_type": "markdown",
   "metadata": {
    "ExecuteTime": {
     "end_time": "2020-01-09T21:51:53.081763Z",
     "start_time": "2020-01-09T21:51:53.077870Z"
    }
   },
   "source": [
    "- We've decided to be a little more adventurous and turn our dinner party into a larger house party.\n",
    "    - The House party spread across 4 rooms that we assume people will spread their time evenly across the various rooms:\n",
    "        - living room\n",
    "        - basement\n",
    "        - back patio\n",
    "        - kitchen\n",
    "        \n",
    "- We have separate play lists playing at each location that were constructed with our dinner party recommendations.\n"
   ]
  },
  {
   "cell_type": "markdown",
   "metadata": {},
   "source": [
    "#### OUR HOUSE PARTY & LAW OF TOTAL PROB\n",
    "- Our House Party = space $S$\n",
    "- The 4 rooms in the house are A1,A2,A3,A4\n",
    "- B represents the probability of hearing a specific song or artist as you wander the house.\n",
    "\n",
    "<img src=\"https://raw.githubusercontent.com/jirvingphd/dsc-law-of-total-probability-online-ds-ft-100719/master/images/Image_55_TotProb.png\" width=50%>\n",
    "\n",
    "$$P(B)= \\sum_i P(B \\cap A_i)= \\sum_i P(B \\mid A_i)P(A_i)$$\n",
    "\n",
    "\n"
   ]
  },
  {
   "cell_type": "code",
   "execution_count": 13,
   "metadata": {
    "ExecuteTime": {
     "end_time": "2020-08-06T15:29:55.171497Z",
     "start_time": "2020-08-06T15:29:55.110963Z"
    }
   },
   "outputs": [
    {
     "data": {
      "text/html": [
       "<style  type=\"text/css\" >\n",
       "</style><table id=\"T_add61bac_d7f9_11ea_a3e3_4865ee12e626\" ><caption>Playlist for living_room</caption><thead>    <tr>        <th class=\"blank level0\" ></th>        <th class=\"col_heading level0 col0\" >artist</th>        <th class=\"col_heading level0 col1\" >track</th>        <th class=\"col_heading level0 col2\" >Recommended By</th>        <th class=\"col_heading level0 col3\" >Room</th>    </tr></thead><tbody>\n",
       "                <tr>\n",
       "                        <th id=\"T_add61bac_d7f9_11ea_a3e3_4865ee12e626level0_row0\" class=\"row_heading level0 row0\" >0</th>\n",
       "                        <td id=\"T_add61bac_d7f9_11ea_a3e3_4865ee12e626row0_col0\" class=\"data row0 col0\" >Cartman (South Park)</td>\n",
       "                        <td id=\"T_add61bac_d7f9_11ea_a3e3_4865ee12e626row0_col1\" class=\"data row0 col1\" >Poker Face</td>\n",
       "                        <td id=\"T_add61bac_d7f9_11ea_a3e3_4865ee12e626row0_col2\" class=\"data row0 col2\" >Carla</td>\n",
       "                        <td id=\"T_add61bac_d7f9_11ea_a3e3_4865ee12e626row0_col3\" class=\"data row0 col3\" >living_room</td>\n",
       "            </tr>\n",
       "            <tr>\n",
       "                        <th id=\"T_add61bac_d7f9_11ea_a3e3_4865ee12e626level0_row1\" class=\"row_heading level0 row1\" >1</th>\n",
       "                        <td id=\"T_add61bac_d7f9_11ea_a3e3_4865ee12e626row1_col0\" class=\"data row1 col0\" >Green Day</td>\n",
       "                        <td id=\"T_add61bac_d7f9_11ea_a3e3_4865ee12e626row1_col1\" class=\"data row1 col1\" >Minority</td>\n",
       "                        <td id=\"T_add61bac_d7f9_11ea_a3e3_4865ee12e626row1_col2\" class=\"data row1 col2\" >Carla</td>\n",
       "                        <td id=\"T_add61bac_d7f9_11ea_a3e3_4865ee12e626row1_col3\" class=\"data row1 col3\" >living_room</td>\n",
       "            </tr>\n",
       "            <tr>\n",
       "                        <th id=\"T_add61bac_d7f9_11ea_a3e3_4865ee12e626level0_row2\" class=\"row_heading level0 row2\" >2</th>\n",
       "                        <td id=\"T_add61bac_d7f9_11ea_a3e3_4865ee12e626row2_col0\" class=\"data row2 col0\" >Red Hot Chili Peppers</td>\n",
       "                        <td id=\"T_add61bac_d7f9_11ea_a3e3_4865ee12e626row2_col1\" class=\"data row2 col1\" >Otherside</td>\n",
       "                        <td id=\"T_add61bac_d7f9_11ea_a3e3_4865ee12e626row2_col2\" class=\"data row2 col2\" >James</td>\n",
       "                        <td id=\"T_add61bac_d7f9_11ea_a3e3_4865ee12e626row2_col3\" class=\"data row2 col3\" >living_room</td>\n",
       "            </tr>\n",
       "            <tr>\n",
       "                        <th id=\"T_add61bac_d7f9_11ea_a3e3_4865ee12e626level0_row3\" class=\"row_heading level0 row3\" >3</th>\n",
       "                        <td id=\"T_add61bac_d7f9_11ea_a3e3_4865ee12e626row3_col0\" class=\"data row3 col0\" >Lady GaGa</td>\n",
       "                        <td id=\"T_add61bac_d7f9_11ea_a3e3_4865ee12e626row3_col1\" class=\"data row3 col1\" >Just Dance</td>\n",
       "                        <td id=\"T_add61bac_d7f9_11ea_a3e3_4865ee12e626row3_col2\" class=\"data row3 col2\" >John</td>\n",
       "                        <td id=\"T_add61bac_d7f9_11ea_a3e3_4865ee12e626row3_col3\" class=\"data row3 col3\" >living_room</td>\n",
       "            </tr>\n",
       "            <tr>\n",
       "                        <th id=\"T_add61bac_d7f9_11ea_a3e3_4865ee12e626level0_row4\" class=\"row_heading level0 row4\" >4</th>\n",
       "                        <td id=\"T_add61bac_d7f9_11ea_a3e3_4865ee12e626row4_col0\" class=\"data row4 col0\" >Green Day</td>\n",
       "                        <td id=\"T_add61bac_d7f9_11ea_a3e3_4865ee12e626row4_col1\" class=\"data row4 col1\" >Time of your Life</td>\n",
       "                        <td id=\"T_add61bac_d7f9_11ea_a3e3_4865ee12e626row4_col2\" class=\"data row4 col2\" >Anne</td>\n",
       "                        <td id=\"T_add61bac_d7f9_11ea_a3e3_4865ee12e626row4_col3\" class=\"data row4 col3\" >living_room</td>\n",
       "            </tr>\n",
       "            <tr>\n",
       "                        <th id=\"T_add61bac_d7f9_11ea_a3e3_4865ee12e626level0_row5\" class=\"row_heading level0 row5\" >5</th>\n",
       "                        <td id=\"T_add61bac_d7f9_11ea_a3e3_4865ee12e626row5_col0\" class=\"data row5 col0\" >Lady GaGa</td>\n",
       "                        <td id=\"T_add61bac_d7f9_11ea_a3e3_4865ee12e626row5_col1\" class=\"data row5 col1\" >Bad Romance</td>\n",
       "                        <td id=\"T_add61bac_d7f9_11ea_a3e3_4865ee12e626row5_col2\" class=\"data row5 col2\" >John</td>\n",
       "                        <td id=\"T_add61bac_d7f9_11ea_a3e3_4865ee12e626row5_col3\" class=\"data row5 col3\" >living_room</td>\n",
       "            </tr>\n",
       "            <tr>\n",
       "                        <th id=\"T_add61bac_d7f9_11ea_a3e3_4865ee12e626level0_row6\" class=\"row_heading level0 row6\" >6</th>\n",
       "                        <td id=\"T_add61bac_d7f9_11ea_a3e3_4865ee12e626row6_col0\" class=\"data row6 col0\" >Smashing Pumpkins</td>\n",
       "                        <td id=\"T_add61bac_d7f9_11ea_a3e3_4865ee12e626row6_col1\" class=\"data row6 col1\" >Tonight, Tonight</td>\n",
       "                        <td id=\"T_add61bac_d7f9_11ea_a3e3_4865ee12e626row6_col2\" class=\"data row6 col2\" >Anne</td>\n",
       "                        <td id=\"T_add61bac_d7f9_11ea_a3e3_4865ee12e626row6_col3\" class=\"data row6 col3\" >living_room</td>\n",
       "            </tr>\n",
       "            <tr>\n",
       "                        <th id=\"T_add61bac_d7f9_11ea_a3e3_4865ee12e626level0_row7\" class=\"row_heading level0 row7\" >7</th>\n",
       "                        <td id=\"T_add61bac_d7f9_11ea_a3e3_4865ee12e626row7_col0\" class=\"data row7 col0\" >Nicki Minaj</td>\n",
       "                        <td id=\"T_add61bac_d7f9_11ea_a3e3_4865ee12e626row7_col1\" class=\"data row7 col1\" >Marilyn Monroe</td>\n",
       "                        <td id=\"T_add61bac_d7f9_11ea_a3e3_4865ee12e626row7_col2\" class=\"data row7 col2\" >Carla</td>\n",
       "                        <td id=\"T_add61bac_d7f9_11ea_a3e3_4865ee12e626row7_col3\" class=\"data row7 col3\" >living_room</td>\n",
       "            </tr>\n",
       "            <tr>\n",
       "                        <th id=\"T_add61bac_d7f9_11ea_a3e3_4865ee12e626level0_row8\" class=\"row_heading level0 row8\" >8</th>\n",
       "                        <td id=\"T_add61bac_d7f9_11ea_a3e3_4865ee12e626row8_col0\" class=\"data row8 col0\" >Green Day</td>\n",
       "                        <td id=\"T_add61bac_d7f9_11ea_a3e3_4865ee12e626row8_col1\" class=\"data row8 col1\" >Time of your Life</td>\n",
       "                        <td id=\"T_add61bac_d7f9_11ea_a3e3_4865ee12e626row8_col2\" class=\"data row8 col2\" >Joe</td>\n",
       "                        <td id=\"T_add61bac_d7f9_11ea_a3e3_4865ee12e626row8_col3\" class=\"data row8 col3\" >living_room</td>\n",
       "            </tr>\n",
       "            <tr>\n",
       "                        <th id=\"T_add61bac_d7f9_11ea_a3e3_4865ee12e626level0_row9\" class=\"row_heading level0 row9\" >9</th>\n",
       "                        <td id=\"T_add61bac_d7f9_11ea_a3e3_4865ee12e626row9_col0\" class=\"data row9 col0\" >Black Eyed Peas</td>\n",
       "                        <td id=\"T_add61bac_d7f9_11ea_a3e3_4865ee12e626row9_col1\" class=\"data row9 col1\" >Let's Get it Started</td>\n",
       "                        <td id=\"T_add61bac_d7f9_11ea_a3e3_4865ee12e626row9_col2\" class=\"data row9 col2\" >Samantha</td>\n",
       "                        <td id=\"T_add61bac_d7f9_11ea_a3e3_4865ee12e626row9_col3\" class=\"data row9 col3\" >living_room</td>\n",
       "            </tr>\n",
       "            <tr>\n",
       "                        <th id=\"T_add61bac_d7f9_11ea_a3e3_4865ee12e626level0_row10\" class=\"row_heading level0 row10\" >10</th>\n",
       "                        <td id=\"T_add61bac_d7f9_11ea_a3e3_4865ee12e626row10_col0\" class=\"data row10 col0\" >Kelly Clarkson</td>\n",
       "                        <td id=\"T_add61bac_d7f9_11ea_a3e3_4865ee12e626row10_col1\" class=\"data row10 col1\" >Since You've Been Gone</td>\n",
       "                        <td id=\"T_add61bac_d7f9_11ea_a3e3_4865ee12e626row10_col2\" class=\"data row10 col2\" >Carla</td>\n",
       "                        <td id=\"T_add61bac_d7f9_11ea_a3e3_4865ee12e626row10_col3\" class=\"data row10 col3\" >living_room</td>\n",
       "            </tr>\n",
       "            <tr>\n",
       "                        <th id=\"T_add61bac_d7f9_11ea_a3e3_4865ee12e626level0_row11\" class=\"row_heading level0 row11\" >11</th>\n",
       "                        <td id=\"T_add61bac_d7f9_11ea_a3e3_4865ee12e626row11_col0\" class=\"data row11 col0\" >Black Eyed Peas</td>\n",
       "                        <td id=\"T_add61bac_d7f9_11ea_a3e3_4865ee12e626row11_col1\" class=\"data row11 col1\" >Let's Get it Started</td>\n",
       "                        <td id=\"T_add61bac_d7f9_11ea_a3e3_4865ee12e626row11_col2\" class=\"data row11 col2\" >Anne</td>\n",
       "                        <td id=\"T_add61bac_d7f9_11ea_a3e3_4865ee12e626row11_col3\" class=\"data row11 col3\" >living_room</td>\n",
       "            </tr>\n",
       "    </tbody></table>"
      ],
      "text/plain": [
       "<pandas.io.formats.style.Styler at 0x1078d7128>"
      ]
     },
     "metadata": {},
     "output_type": "display_data"
    },
    {
     "data": {
      "text/html": [
       "<style  type=\"text/css\" >\n",
       "</style><table id=\"T_add6d75e_d7f9_11ea_a7aa_4865ee12e626\" ><caption>Playlist for basement</caption><thead>    <tr>        <th class=\"blank level0\" ></th>        <th class=\"col_heading level0 col0\" >artist</th>        <th class=\"col_heading level0 col1\" >track</th>        <th class=\"col_heading level0 col2\" >Recommended By</th>        <th class=\"col_heading level0 col3\" >Room</th>    </tr></thead><tbody>\n",
       "                <tr>\n",
       "                        <th id=\"T_add6d75e_d7f9_11ea_a7aa_4865ee12e626level0_row0\" class=\"row_heading level0 row0\" >0</th>\n",
       "                        <td id=\"T_add6d75e_d7f9_11ea_a7aa_4865ee12e626row0_col0\" class=\"data row0 col0\" >Lady GaGa</td>\n",
       "                        <td id=\"T_add6d75e_d7f9_11ea_a7aa_4865ee12e626row0_col1\" class=\"data row0 col1\" >Bad Romance</td>\n",
       "                        <td id=\"T_add6d75e_d7f9_11ea_a7aa_4865ee12e626row0_col2\" class=\"data row0 col2\" >John</td>\n",
       "                        <td id=\"T_add6d75e_d7f9_11ea_a7aa_4865ee12e626row0_col3\" class=\"data row0 col3\" >basement</td>\n",
       "            </tr>\n",
       "            <tr>\n",
       "                        <th id=\"T_add6d75e_d7f9_11ea_a7aa_4865ee12e626level0_row1\" class=\"row_heading level0 row1\" >1</th>\n",
       "                        <td id=\"T_add6d75e_d7f9_11ea_a7aa_4865ee12e626row1_col0\" class=\"data row1 col0\" >Green Day</td>\n",
       "                        <td id=\"T_add6d75e_d7f9_11ea_a7aa_4865ee12e626row1_col1\" class=\"data row1 col1\" >Time of your Life</td>\n",
       "                        <td id=\"T_add6d75e_d7f9_11ea_a7aa_4865ee12e626row1_col2\" class=\"data row1 col2\" >Joe</td>\n",
       "                        <td id=\"T_add6d75e_d7f9_11ea_a7aa_4865ee12e626row1_col3\" class=\"data row1 col3\" >basement</td>\n",
       "            </tr>\n",
       "            <tr>\n",
       "                        <th id=\"T_add6d75e_d7f9_11ea_a7aa_4865ee12e626level0_row2\" class=\"row_heading level0 row2\" >2</th>\n",
       "                        <td id=\"T_add6d75e_d7f9_11ea_a7aa_4865ee12e626row2_col0\" class=\"data row2 col0\" >Kelly Clarkson</td>\n",
       "                        <td id=\"T_add6d75e_d7f9_11ea_a7aa_4865ee12e626row2_col1\" class=\"data row2 col1\" >Never Again</td>\n",
       "                        <td id=\"T_add6d75e_d7f9_11ea_a7aa_4865ee12e626row2_col2\" class=\"data row2 col2\" >Carla</td>\n",
       "                        <td id=\"T_add6d75e_d7f9_11ea_a7aa_4865ee12e626row2_col3\" class=\"data row2 col3\" >basement</td>\n",
       "            </tr>\n",
       "            <tr>\n",
       "                        <th id=\"T_add6d75e_d7f9_11ea_a7aa_4865ee12e626level0_row3\" class=\"row_heading level0 row3\" >3</th>\n",
       "                        <td id=\"T_add6d75e_d7f9_11ea_a7aa_4865ee12e626row3_col0\" class=\"data row3 col0\" >Panic at the Disco</td>\n",
       "                        <td id=\"T_add6d75e_d7f9_11ea_a7aa_4865ee12e626row3_col1\" class=\"data row3 col1\" >Hallelujah</td>\n",
       "                        <td id=\"T_add6d75e_d7f9_11ea_a7aa_4865ee12e626row3_col2\" class=\"data row3 col2\" >Samantha</td>\n",
       "                        <td id=\"T_add6d75e_d7f9_11ea_a7aa_4865ee12e626row3_col3\" class=\"data row3 col3\" >basement</td>\n",
       "            </tr>\n",
       "            <tr>\n",
       "                        <th id=\"T_add6d75e_d7f9_11ea_a7aa_4865ee12e626level0_row4\" class=\"row_heading level0 row4\" >4</th>\n",
       "                        <td id=\"T_add6d75e_d7f9_11ea_a7aa_4865ee12e626row4_col0\" class=\"data row4 col0\" >John Lennon</td>\n",
       "                        <td id=\"T_add6d75e_d7f9_11ea_a7aa_4865ee12e626row4_col1\" class=\"data row4 col1\" >Imagine</td>\n",
       "                        <td id=\"T_add6d75e_d7f9_11ea_a7aa_4865ee12e626row4_col2\" class=\"data row4 col2\" >Joe</td>\n",
       "                        <td id=\"T_add6d75e_d7f9_11ea_a7aa_4865ee12e626row4_col3\" class=\"data row4 col3\" >basement</td>\n",
       "            </tr>\n",
       "            <tr>\n",
       "                        <th id=\"T_add6d75e_d7f9_11ea_a7aa_4865ee12e626level0_row5\" class=\"row_heading level0 row5\" >5</th>\n",
       "                        <td id=\"T_add6d75e_d7f9_11ea_a7aa_4865ee12e626row5_col0\" class=\"data row5 col0\" >Lady GaGa</td>\n",
       "                        <td id=\"T_add6d75e_d7f9_11ea_a7aa_4865ee12e626row5_col1\" class=\"data row5 col1\" >Poker Face</td>\n",
       "                        <td id=\"T_add6d75e_d7f9_11ea_a7aa_4865ee12e626row5_col2\" class=\"data row5 col2\" >John</td>\n",
       "                        <td id=\"T_add6d75e_d7f9_11ea_a7aa_4865ee12e626row5_col3\" class=\"data row5 col3\" >basement</td>\n",
       "            </tr>\n",
       "            <tr>\n",
       "                        <th id=\"T_add6d75e_d7f9_11ea_a7aa_4865ee12e626level0_row6\" class=\"row_heading level0 row6\" >6</th>\n",
       "                        <td id=\"T_add6d75e_d7f9_11ea_a7aa_4865ee12e626row6_col0\" class=\"data row6 col0\" >Lady GaGa</td>\n",
       "                        <td id=\"T_add6d75e_d7f9_11ea_a7aa_4865ee12e626row6_col1\" class=\"data row6 col1\" >Poker Face</td>\n",
       "                        <td id=\"T_add6d75e_d7f9_11ea_a7aa_4865ee12e626row6_col2\" class=\"data row6 col2\" >Joe</td>\n",
       "                        <td id=\"T_add6d75e_d7f9_11ea_a7aa_4865ee12e626row6_col3\" class=\"data row6 col3\" >basement</td>\n",
       "            </tr>\n",
       "            <tr>\n",
       "                        <th id=\"T_add6d75e_d7f9_11ea_a7aa_4865ee12e626level0_row7\" class=\"row_heading level0 row7\" >7</th>\n",
       "                        <td id=\"T_add6d75e_d7f9_11ea_a7aa_4865ee12e626row7_col0\" class=\"data row7 col0\" >Green Day</td>\n",
       "                        <td id=\"T_add6d75e_d7f9_11ea_a7aa_4865ee12e626row7_col1\" class=\"data row7 col1\" >Minority</td>\n",
       "                        <td id=\"T_add6d75e_d7f9_11ea_a7aa_4865ee12e626row7_col2\" class=\"data row7 col2\" >Carla</td>\n",
       "                        <td id=\"T_add6d75e_d7f9_11ea_a7aa_4865ee12e626row7_col3\" class=\"data row7 col3\" >basement</td>\n",
       "            </tr>\n",
       "            <tr>\n",
       "                        <th id=\"T_add6d75e_d7f9_11ea_a7aa_4865ee12e626level0_row8\" class=\"row_heading level0 row8\" >8</th>\n",
       "                        <td id=\"T_add6d75e_d7f9_11ea_a7aa_4865ee12e626row8_col0\" class=\"data row8 col0\" >Red Hot Chili Peppers</td>\n",
       "                        <td id=\"T_add6d75e_d7f9_11ea_a7aa_4865ee12e626row8_col1\" class=\"data row8 col1\" >Otherside</td>\n",
       "                        <td id=\"T_add6d75e_d7f9_11ea_a7aa_4865ee12e626row8_col2\" class=\"data row8 col2\" >James</td>\n",
       "                        <td id=\"T_add6d75e_d7f9_11ea_a7aa_4865ee12e626row8_col3\" class=\"data row8 col3\" >basement</td>\n",
       "            </tr>\n",
       "            <tr>\n",
       "                        <th id=\"T_add6d75e_d7f9_11ea_a7aa_4865ee12e626level0_row9\" class=\"row_heading level0 row9\" >9</th>\n",
       "                        <td id=\"T_add6d75e_d7f9_11ea_a7aa_4865ee12e626row9_col0\" class=\"data row9 col0\" >Cartman (South Park)</td>\n",
       "                        <td id=\"T_add6d75e_d7f9_11ea_a7aa_4865ee12e626row9_col1\" class=\"data row9 col1\" >Poker Face</td>\n",
       "                        <td id=\"T_add6d75e_d7f9_11ea_a7aa_4865ee12e626row9_col2\" class=\"data row9 col2\" >Carla</td>\n",
       "                        <td id=\"T_add6d75e_d7f9_11ea_a7aa_4865ee12e626row9_col3\" class=\"data row9 col3\" >basement</td>\n",
       "            </tr>\n",
       "    </tbody></table>"
      ],
      "text/plain": [
       "<pandas.io.formats.style.Styler at 0x129a25978>"
      ]
     },
     "metadata": {},
     "output_type": "display_data"
    },
    {
     "data": {
      "text/html": [
       "<style  type=\"text/css\" >\n",
       "</style><table id=\"T_add77952_d7f9_11ea_adfa_4865ee12e626\" ><caption>Playlist for back_patio</caption><thead>    <tr>        <th class=\"blank level0\" ></th>        <th class=\"col_heading level0 col0\" >artist</th>        <th class=\"col_heading level0 col1\" >track</th>        <th class=\"col_heading level0 col2\" >Recommended By</th>        <th class=\"col_heading level0 col3\" >Room</th>    </tr></thead><tbody>\n",
       "                <tr>\n",
       "                        <th id=\"T_add77952_d7f9_11ea_adfa_4865ee12e626level0_row0\" class=\"row_heading level0 row0\" >0</th>\n",
       "                        <td id=\"T_add77952_d7f9_11ea_adfa_4865ee12e626row0_col0\" class=\"data row0 col0\" >Smashing Pumpkins</td>\n",
       "                        <td id=\"T_add77952_d7f9_11ea_adfa_4865ee12e626row0_col1\" class=\"data row0 col1\" >Tonight, Tonight</td>\n",
       "                        <td id=\"T_add77952_d7f9_11ea_adfa_4865ee12e626row0_col2\" class=\"data row0 col2\" >Anne</td>\n",
       "                        <td id=\"T_add77952_d7f9_11ea_adfa_4865ee12e626row0_col3\" class=\"data row0 col3\" >back_patio</td>\n",
       "            </tr>\n",
       "            <tr>\n",
       "                        <th id=\"T_add77952_d7f9_11ea_adfa_4865ee12e626level0_row1\" class=\"row_heading level0 row1\" >1</th>\n",
       "                        <td id=\"T_add77952_d7f9_11ea_adfa_4865ee12e626row1_col0\" class=\"data row1 col0\" >Panic at the Disco</td>\n",
       "                        <td id=\"T_add77952_d7f9_11ea_adfa_4865ee12e626row1_col1\" class=\"data row1 col1\" >Hallelujah</td>\n",
       "                        <td id=\"T_add77952_d7f9_11ea_adfa_4865ee12e626row1_col2\" class=\"data row1 col2\" >Samantha</td>\n",
       "                        <td id=\"T_add77952_d7f9_11ea_adfa_4865ee12e626row1_col3\" class=\"data row1 col3\" >back_patio</td>\n",
       "            </tr>\n",
       "            <tr>\n",
       "                        <th id=\"T_add77952_d7f9_11ea_adfa_4865ee12e626level0_row2\" class=\"row_heading level0 row2\" >2</th>\n",
       "                        <td id=\"T_add77952_d7f9_11ea_adfa_4865ee12e626row2_col0\" class=\"data row2 col0\" >Green Day</td>\n",
       "                        <td id=\"T_add77952_d7f9_11ea_adfa_4865ee12e626row2_col1\" class=\"data row2 col1\" >Time of your Life</td>\n",
       "                        <td id=\"T_add77952_d7f9_11ea_adfa_4865ee12e626row2_col2\" class=\"data row2 col2\" >Joe</td>\n",
       "                        <td id=\"T_add77952_d7f9_11ea_adfa_4865ee12e626row2_col3\" class=\"data row2 col3\" >back_patio</td>\n",
       "            </tr>\n",
       "            <tr>\n",
       "                        <th id=\"T_add77952_d7f9_11ea_adfa_4865ee12e626level0_row3\" class=\"row_heading level0 row3\" >3</th>\n",
       "                        <td id=\"T_add77952_d7f9_11ea_adfa_4865ee12e626row3_col0\" class=\"data row3 col0\" >Cartman (South Park)</td>\n",
       "                        <td id=\"T_add77952_d7f9_11ea_adfa_4865ee12e626row3_col1\" class=\"data row3 col1\" >Poker Face</td>\n",
       "                        <td id=\"T_add77952_d7f9_11ea_adfa_4865ee12e626row3_col2\" class=\"data row3 col2\" >Carla</td>\n",
       "                        <td id=\"T_add77952_d7f9_11ea_adfa_4865ee12e626row3_col3\" class=\"data row3 col3\" >back_patio</td>\n",
       "            </tr>\n",
       "            <tr>\n",
       "                        <th id=\"T_add77952_d7f9_11ea_adfa_4865ee12e626level0_row4\" class=\"row_heading level0 row4\" >4</th>\n",
       "                        <td id=\"T_add77952_d7f9_11ea_adfa_4865ee12e626row4_col0\" class=\"data row4 col0\" >Black Eyed Peas</td>\n",
       "                        <td id=\"T_add77952_d7f9_11ea_adfa_4865ee12e626row4_col1\" class=\"data row4 col1\" >Let's Get it Started</td>\n",
       "                        <td id=\"T_add77952_d7f9_11ea_adfa_4865ee12e626row4_col2\" class=\"data row4 col2\" >John</td>\n",
       "                        <td id=\"T_add77952_d7f9_11ea_adfa_4865ee12e626row4_col3\" class=\"data row4 col3\" >back_patio</td>\n",
       "            </tr>\n",
       "            <tr>\n",
       "                        <th id=\"T_add77952_d7f9_11ea_adfa_4865ee12e626level0_row5\" class=\"row_heading level0 row5\" >5</th>\n",
       "                        <td id=\"T_add77952_d7f9_11ea_adfa_4865ee12e626row5_col0\" class=\"data row5 col0\" >Black Eyed Peas</td>\n",
       "                        <td id=\"T_add77952_d7f9_11ea_adfa_4865ee12e626row5_col1\" class=\"data row5 col1\" >Let's Get it Started</td>\n",
       "                        <td id=\"T_add77952_d7f9_11ea_adfa_4865ee12e626row5_col2\" class=\"data row5 col2\" >Anne</td>\n",
       "                        <td id=\"T_add77952_d7f9_11ea_adfa_4865ee12e626row5_col3\" class=\"data row5 col3\" >back_patio</td>\n",
       "            </tr>\n",
       "            <tr>\n",
       "                        <th id=\"T_add77952_d7f9_11ea_adfa_4865ee12e626level0_row6\" class=\"row_heading level0 row6\" >6</th>\n",
       "                        <td id=\"T_add77952_d7f9_11ea_adfa_4865ee12e626row6_col0\" class=\"data row6 col0\" >Lady GaGa</td>\n",
       "                        <td id=\"T_add77952_d7f9_11ea_adfa_4865ee12e626row6_col1\" class=\"data row6 col1\" >Bad Romance</td>\n",
       "                        <td id=\"T_add77952_d7f9_11ea_adfa_4865ee12e626row6_col2\" class=\"data row6 col2\" >John</td>\n",
       "                        <td id=\"T_add77952_d7f9_11ea_adfa_4865ee12e626row6_col3\" class=\"data row6 col3\" >back_patio</td>\n",
       "            </tr>\n",
       "            <tr>\n",
       "                        <th id=\"T_add77952_d7f9_11ea_adfa_4865ee12e626level0_row7\" class=\"row_heading level0 row7\" >7</th>\n",
       "                        <td id=\"T_add77952_d7f9_11ea_adfa_4865ee12e626row7_col0\" class=\"data row7 col0\" >B-52s</td>\n",
       "                        <td id=\"T_add77952_d7f9_11ea_adfa_4865ee12e626row7_col1\" class=\"data row7 col1\" >Rock Lobster</td>\n",
       "                        <td id=\"T_add77952_d7f9_11ea_adfa_4865ee12e626row7_col2\" class=\"data row7 col2\" >Joe</td>\n",
       "                        <td id=\"T_add77952_d7f9_11ea_adfa_4865ee12e626row7_col3\" class=\"data row7 col3\" >back_patio</td>\n",
       "            </tr>\n",
       "            <tr>\n",
       "                        <th id=\"T_add77952_d7f9_11ea_adfa_4865ee12e626level0_row8\" class=\"row_heading level0 row8\" >8</th>\n",
       "                        <td id=\"T_add77952_d7f9_11ea_adfa_4865ee12e626row8_col0\" class=\"data row8 col0\" >Nicki Minaj</td>\n",
       "                        <td id=\"T_add77952_d7f9_11ea_adfa_4865ee12e626row8_col1\" class=\"data row8 col1\" >Marilyn Monroe</td>\n",
       "                        <td id=\"T_add77952_d7f9_11ea_adfa_4865ee12e626row8_col2\" class=\"data row8 col2\" >Carla</td>\n",
       "                        <td id=\"T_add77952_d7f9_11ea_adfa_4865ee12e626row8_col3\" class=\"data row8 col3\" >back_patio</td>\n",
       "            </tr>\n",
       "    </tbody></table>"
      ],
      "text/plain": [
       "<pandas.io.formats.style.Styler at 0x129a259b0>"
      ]
     },
     "metadata": {},
     "output_type": "display_data"
    },
    {
     "data": {
      "text/html": [
       "<style  type=\"text/css\" >\n",
       "</style><table id=\"T_add8166e_d7f9_11ea_ba15_4865ee12e626\" ><caption>Playlist for kitchen</caption><thead>    <tr>        <th class=\"blank level0\" ></th>        <th class=\"col_heading level0 col0\" >artist</th>        <th class=\"col_heading level0 col1\" >track</th>        <th class=\"col_heading level0 col2\" >Recommended By</th>        <th class=\"col_heading level0 col3\" >Room</th>    </tr></thead><tbody>\n",
       "                <tr>\n",
       "                        <th id=\"T_add8166e_d7f9_11ea_ba15_4865ee12e626level0_row0\" class=\"row_heading level0 row0\" >0</th>\n",
       "                        <td id=\"T_add8166e_d7f9_11ea_ba15_4865ee12e626row0_col0\" class=\"data row0 col0\" >Red Hot Chili Peppers</td>\n",
       "                        <td id=\"T_add8166e_d7f9_11ea_ba15_4865ee12e626row0_col1\" class=\"data row0 col1\" >Otherside</td>\n",
       "                        <td id=\"T_add8166e_d7f9_11ea_ba15_4865ee12e626row0_col2\" class=\"data row0 col2\" >James</td>\n",
       "                        <td id=\"T_add8166e_d7f9_11ea_ba15_4865ee12e626row0_col3\" class=\"data row0 col3\" >kitchen</td>\n",
       "            </tr>\n",
       "            <tr>\n",
       "                        <th id=\"T_add8166e_d7f9_11ea_ba15_4865ee12e626level0_row1\" class=\"row_heading level0 row1\" >1</th>\n",
       "                        <td id=\"T_add8166e_d7f9_11ea_ba15_4865ee12e626row1_col0\" class=\"data row1 col0\" >Cartman (South Park)</td>\n",
       "                        <td id=\"T_add8166e_d7f9_11ea_ba15_4865ee12e626row1_col1\" class=\"data row1 col1\" >Poker Face</td>\n",
       "                        <td id=\"T_add8166e_d7f9_11ea_ba15_4865ee12e626row1_col2\" class=\"data row1 col2\" >Carla</td>\n",
       "                        <td id=\"T_add8166e_d7f9_11ea_ba15_4865ee12e626row1_col3\" class=\"data row1 col3\" >kitchen</td>\n",
       "            </tr>\n",
       "            <tr>\n",
       "                        <th id=\"T_add8166e_d7f9_11ea_ba15_4865ee12e626level0_row2\" class=\"row_heading level0 row2\" >2</th>\n",
       "                        <td id=\"T_add8166e_d7f9_11ea_ba15_4865ee12e626row2_col0\" class=\"data row2 col0\" >Nicki Minaj</td>\n",
       "                        <td id=\"T_add8166e_d7f9_11ea_ba15_4865ee12e626row2_col1\" class=\"data row2 col1\" >Marilyn Monroe</td>\n",
       "                        <td id=\"T_add8166e_d7f9_11ea_ba15_4865ee12e626row2_col2\" class=\"data row2 col2\" >Carla</td>\n",
       "                        <td id=\"T_add8166e_d7f9_11ea_ba15_4865ee12e626row2_col3\" class=\"data row2 col3\" >kitchen</td>\n",
       "            </tr>\n",
       "            <tr>\n",
       "                        <th id=\"T_add8166e_d7f9_11ea_ba15_4865ee12e626level0_row3\" class=\"row_heading level0 row3\" >3</th>\n",
       "                        <td id=\"T_add8166e_d7f9_11ea_ba15_4865ee12e626row3_col0\" class=\"data row3 col0\" >Nicki Minaj</td>\n",
       "                        <td id=\"T_add8166e_d7f9_11ea_ba15_4865ee12e626row3_col1\" class=\"data row3 col1\" >Right By My Side</td>\n",
       "                        <td id=\"T_add8166e_d7f9_11ea_ba15_4865ee12e626row3_col2\" class=\"data row3 col2\" >Carla</td>\n",
       "                        <td id=\"T_add8166e_d7f9_11ea_ba15_4865ee12e626row3_col3\" class=\"data row3 col3\" >kitchen</td>\n",
       "            </tr>\n",
       "            <tr>\n",
       "                        <th id=\"T_add8166e_d7f9_11ea_ba15_4865ee12e626level0_row4\" class=\"row_heading level0 row4\" >4</th>\n",
       "                        <td id=\"T_add8166e_d7f9_11ea_ba15_4865ee12e626row4_col0\" class=\"data row4 col0\" >Lady GaGa</td>\n",
       "                        <td id=\"T_add8166e_d7f9_11ea_ba15_4865ee12e626row4_col1\" class=\"data row4 col1\" >Poker Face</td>\n",
       "                        <td id=\"T_add8166e_d7f9_11ea_ba15_4865ee12e626row4_col2\" class=\"data row4 col2\" >John</td>\n",
       "                        <td id=\"T_add8166e_d7f9_11ea_ba15_4865ee12e626row4_col3\" class=\"data row4 col3\" >kitchen</td>\n",
       "            </tr>\n",
       "            <tr>\n",
       "                        <th id=\"T_add8166e_d7f9_11ea_ba15_4865ee12e626level0_row5\" class=\"row_heading level0 row5\" >5</th>\n",
       "                        <td id=\"T_add8166e_d7f9_11ea_ba15_4865ee12e626row5_col0\" class=\"data row5 col0\" >Rilo Kiley</td>\n",
       "                        <td id=\"T_add8166e_d7f9_11ea_ba15_4865ee12e626row5_col1\" class=\"data row5 col1\" >With Arms Outstretched</td>\n",
       "                        <td id=\"T_add8166e_d7f9_11ea_ba15_4865ee12e626row5_col2\" class=\"data row5 col2\" >James</td>\n",
       "                        <td id=\"T_add8166e_d7f9_11ea_ba15_4865ee12e626row5_col3\" class=\"data row5 col3\" >kitchen</td>\n",
       "            </tr>\n",
       "            <tr>\n",
       "                        <th id=\"T_add8166e_d7f9_11ea_ba15_4865ee12e626level0_row6\" class=\"row_heading level0 row6\" >6</th>\n",
       "                        <td id=\"T_add8166e_d7f9_11ea_ba15_4865ee12e626row6_col0\" class=\"data row6 col0\" >Lady GaGa</td>\n",
       "                        <td id=\"T_add8166e_d7f9_11ea_ba15_4865ee12e626row6_col1\" class=\"data row6 col1\" >Poker Face</td>\n",
       "                        <td id=\"T_add8166e_d7f9_11ea_ba15_4865ee12e626row6_col2\" class=\"data row6 col2\" >Joe</td>\n",
       "                        <td id=\"T_add8166e_d7f9_11ea_ba15_4865ee12e626row6_col3\" class=\"data row6 col3\" >kitchen</td>\n",
       "            </tr>\n",
       "            <tr>\n",
       "                        <th id=\"T_add8166e_d7f9_11ea_ba15_4865ee12e626level0_row7\" class=\"row_heading level0 row7\" >7</th>\n",
       "                        <td id=\"T_add8166e_d7f9_11ea_ba15_4865ee12e626row7_col0\" class=\"data row7 col0\" >Lady GaGa</td>\n",
       "                        <td id=\"T_add8166e_d7f9_11ea_ba15_4865ee12e626row7_col1\" class=\"data row7 col1\" >Bad Romance</td>\n",
       "                        <td id=\"T_add8166e_d7f9_11ea_ba15_4865ee12e626row7_col2\" class=\"data row7 col2\" >John</td>\n",
       "                        <td id=\"T_add8166e_d7f9_11ea_ba15_4865ee12e626row7_col3\" class=\"data row7 col3\" >kitchen</td>\n",
       "            </tr>\n",
       "    </tbody></table>"
      ],
      "text/plain": [
       "<pandas.io.formats.style.Styler at 0x129a25c50>"
      ]
     },
     "metadata": {},
     "output_type": "display_data"
    }
   ],
   "source": [
    "import os\n",
    "os.makedirs('../probability_playlists/house_party/',exist_ok=True)\n",
    "\n",
    "house_party = dict(living_room = df.sample(12,random_state=12).reset_index(drop=True).copy(),\n",
    "                   basement = df.sample(10,random_state=321).reset_index(drop=True).copy(), \n",
    "                   back_patio = df.sample(9,random_state=42).reset_index(drop=True).copy(),\n",
    "                  kitchen=df.sample(8,random_state=3210).reset_index(drop=True).copy())\n",
    "\n",
    "## Save for later\n",
    "folder = \"../probability_playlists/house_party/\"\n",
    "for room,room_df in house_party.items():\n",
    "    room_df.to_csv(f\"{folder}/{room}.csv\",index=False)\n",
    "    \n",
    "\n",
    "## Preview\n",
    "for k,df_ in house_party.items():\n",
    "    df_['Room'] = k \n",
    "    display(df_.style.set_caption(f\"Playlist for {k}\"))\n",
    "    "
   ]
  },
  {
   "cell_type": "markdown",
   "metadata": {},
   "source": [
    "## Q1: What is the probability of hearing a Green Day song at the house party at any given moment?"
   ]
  },
  {
   "cell_type": "markdown",
   "metadata": {},
   "source": [
    "####  To Calculate $P(GD)$ for a Room\n",
    "\n",
    "$$ P(\\text{Green Day})=\\sum_i P(\\text{Green Day} \\mid \\text{Room}_i)P(\\text{Room}_i)$$\n",
    "\n",
    "- Q: **With our 4 rooms, what would our equation look like?**\n",
    "    - What is the probability of being in each room?"
   ]
  },
  {
   "cell_type": "markdown",
   "metadata": {},
   "source": [
    "- A:\n",
    "$$P(\\text{Green Day})= P(GD|Room1)\\times \\frac{1}{4} + P(GD|Room2)\\times \\frac{1}{4} + P(GD|Room3)\\times \\frac{1}{4} + P(GD|Room4)\\times \\frac{1}{4} $$"
   ]
  },
  {
   "cell_type": "code",
   "execution_count": 14,
   "metadata": {
    "ExecuteTime": {
     "end_time": "2020-08-06T15:29:55.176748Z",
     "start_time": "2020-08-06T15:29:55.172807Z"
    }
   },
   "outputs": [
    {
     "data": {
      "text/plain": [
       "{'living_room': 0.25, 'basement': 0.25, 'back_patio': 0.25, 'kitchen': 0.25}"
      ]
     },
     "execution_count": 14,
     "metadata": {},
     "output_type": "execute_result"
    }
   ],
   "source": [
    "## Make a dictionary of prob of being in each room\n",
    "room_probs = {'living_room':0.25, \n",
    "              'basement':0.25,\n",
    "              'back_patio':0.25,\n",
    "              'kitchen':0.25}#]\n",
    "room_probs"
   ]
  },
  {
   "cell_type": "code",
   "execution_count": 15,
   "metadata": {
    "ExecuteTime": {
     "end_time": "2020-08-06T15:29:55.184227Z",
     "start_time": "2020-08-06T15:29:55.178842Z"
    }
   },
   "outputs": [
    {
     "data": {
      "text/plain": [
       "0.25"
      ]
     },
     "execution_count": 15,
     "metadata": {},
     "output_type": "execute_result"
    }
   ],
   "source": [
    "## Lets do 1 example room - living room\n",
    "room_df = house_party['living_room']\n",
    "\n",
    "## Get room sample space\n",
    "room_space = room_df['artist'].value_counts()\n",
    "\n",
    "## Get P_gd_given_room\n",
    "p_gd_given_room = room_space.loc['Green Day']/room_space.sum()\n",
    "p_gd_given_room"
   ]
  },
  {
   "cell_type": "code",
   "execution_count": 16,
   "metadata": {
    "ExecuteTime": {
     "end_time": "2020-08-06T15:29:55.189228Z",
     "start_time": "2020-08-06T15:29:55.185894Z"
    }
   },
   "outputs": [
    {
     "data": {
      "text/plain": [
       "0.0625"
      ]
     },
     "execution_count": 16,
     "metadata": {},
     "output_type": "execute_result"
    }
   ],
   "source": [
    "## Multiply cond prob by prob being in the room\n",
    "p_gd_given_room * room_probs['living_room']"
   ]
  },
  {
   "cell_type": "markdown",
   "metadata": {},
   "source": [
    "#### Let's turn that process into a function"
   ]
  },
  {
   "cell_type": "code",
   "execution_count": 17,
   "metadata": {
    "ExecuteTime": {
     "end_time": "2020-08-06T15:29:55.195156Z",
     "start_time": "2020-08-06T15:29:55.190549Z"
    }
   },
   "outputs": [],
   "source": [
    "def prob_event_given_room(room, sample_space='artist', \n",
    "                          event='Green Day',party_dict=house_party,\n",
    "                          verbose=False):\n",
    "    \n",
    "    ## Pull out current room_df from dict\n",
    "    room_df = party_dict[room]\n",
    "    \n",
    "    ## Define the sample space\n",
    "    room_space = room_df[sample_space].value_counts()\n",
    "    \n",
    "    try:\n",
    "        ## Calcualte Probability if event exists\n",
    "        P = room_space.loc[event]/room_space.sum()\n",
    "    \n",
    "    except KeyError:\n",
    "        ## Set prob=0 if event does not exist.\n",
    "        P = 0\n",
    " \n",
    "    ## Print the Prob event given room (if verbose==True)\n",
    "    if verbose:\n",
    "        print(f\"P({event} | {room}) = {round(P,3)}\")\n",
    "    return P"
   ]
  },
  {
   "cell_type": "code",
   "execution_count": 18,
   "metadata": {
    "ExecuteTime": {
     "end_time": "2020-08-06T15:29:55.201184Z",
     "start_time": "2020-08-06T15:29:55.196696Z"
    }
   },
   "outputs": [
    {
     "name": "stdout",
     "output_type": "stream",
     "text": [
      "P(Green Day | back_patio) = 0.111\n"
     ]
    }
   ],
   "source": [
    "## Let's try out the function for Green Day on the back patio\n",
    "\n",
    "prob_event_given_room('back_patio',sample_space='artist',event='Green Day',\n",
    "              verbose=True);"
   ]
  },
  {
   "cell_type": "code",
   "execution_count": 19,
   "metadata": {
    "ExecuteTime": {
     "end_time": "2020-08-06T15:29:55.211308Z",
     "start_time": "2020-08-06T15:29:55.202574Z"
    }
   },
   "outputs": [
    {
     "name": "stdout",
     "output_type": "stream",
     "text": [
      "P(Green Day | living_room) = 0.25\n",
      "P(Green Day | basement) = 0.2\n",
      "P(Green Day | back_patio) = 0.111\n",
      "P(Green Day | kitchen) = 0\n",
      "\n",
      "P(Green Day) = 0.14027777777777778\n"
     ]
    }
   ],
   "source": [
    "## Calculate Total Probability using a for loop\n",
    "TOTAL_PROB = []\n",
    "\n",
    "## Get room\n",
    "for room in house_party.keys():\n",
    "    \n",
    "    ## Get conditional prob for room\n",
    "    p_gd_given_room = prob_event_given_room(room,sample_space='artist',\n",
    "                                    event='Green Day',verbose=True)\n",
    "    \n",
    "    ## Get the prob of being in that room\n",
    "    p_room = room_probs[room]\n",
    "    \n",
    "    ## Append p_gd_given_room * p_room\n",
    "    TOTAL_PROB.append(p_gd_given_room * p_room)\n",
    "print()\n",
    "print(f\"P(Green Day) = {sum(TOTAL_PROB)}\")"
   ]
  },
  {
   "cell_type": "code",
   "execution_count": 20,
   "metadata": {
    "ExecuteTime": {
     "end_time": "2020-08-06T15:29:55.224380Z",
     "start_time": "2020-08-06T15:29:55.212820Z"
    }
   },
   "outputs": [
    {
     "data": {
      "text/plain": [
       "Lady GaGa                0.230769\n",
       "Green Day                0.153846\n",
       "Cartman (South Park)     0.102564\n",
       "Black Eyed Peas          0.102564\n",
       "Nicki Minaj              0.102564\n",
       "Red Hot Chili Peppers    0.076923\n",
       "Panic at the Disco       0.051282\n",
       "Smashing Pumpkins        0.051282\n",
       "Kelly Clarkson           0.051282\n",
       "B-52s                    0.025641\n",
       "John Lennon              0.025641\n",
       "Rilo Kiley               0.025641\n",
       "Name: artist, dtype: float64"
      ]
     },
     "execution_count": 20,
     "metadata": {},
     "output_type": "execute_result"
    }
   ],
   "source": [
    "## Checking against actual values\n",
    "counts = pd.concat(house_party)['artist'].value_counts(normalize=True)\n",
    "counts"
   ]
  },
  {
   "cell_type": "markdown",
   "metadata": {},
   "source": [
    "### Q1B: But wait...what if we have unequal probabilties for being in each room?\n",
    "\n"
   ]
  },
  {
   "cell_type": "markdown",
   "metadata": {},
   "source": [
    "- The True prob of people being in each room is determined by what is going on in that room.\n",
    "    - The snacks are in the kitchen (prob=0.4)\n",
    "    - The drinks/bar is on the back patio (prob=0.3).\n",
    "    - The living room and basement have no special amenities. (prob=0.15 each)"
   ]
  },
  {
   "cell_type": "code",
   "execution_count": 21,
   "metadata": {
    "ExecuteTime": {
     "end_time": "2020-08-06T15:29:55.230358Z",
     "start_time": "2020-08-06T15:29:55.225627Z"
    }
   },
   "outputs": [
    {
     "data": {
      "text/plain": [
       "{'living_room': 0.15, 'basement': 0.15, 'back_patio': 0.3, 'kitchen': 0.4}"
      ]
     },
     "execution_count": 21,
     "metadata": {},
     "output_type": "execute_result"
    }
   ],
   "source": [
    "## Update house_party_room_odds\n",
    "room_probs['kitchen'] = 0.4\n",
    "room_probs['back_patio'] = 0.3\n",
    "room_probs['living_room'] =0.15\n",
    "room_probs['basement'] =0.15\n",
    "room_probs"
   ]
  },
  {
   "cell_type": "markdown",
   "metadata": {},
   "source": [
    "## Q2: What is the probability of hearing a Lady GaGa song at the house party at any given moment with the new room probabilities?"
   ]
  },
  {
   "cell_type": "markdown",
   "metadata": {},
   "source": [
    "> The **easiest way** to do this would be to copy the for loop above and paste it below, then modify all of the variables to match the new question...\n",
    "\n",
    "> So INSTEAD of that, **let's do it a better more programmatic way**: take the code we produced above to calculate TOTAL_PROB and lets turn it into a function."
   ]
  },
  {
   "cell_type": "code",
   "execution_count": 22,
   "metadata": {
    "ExecuteTime": {
     "end_time": "2020-08-06T15:29:55.240323Z",
     "start_time": "2020-08-06T15:29:55.231913Z"
    }
   },
   "outputs": [
    {
     "name": "stdout",
     "output_type": "stream",
     "text": [
      "P(Green Day | living_room) = 0.25\n",
      "P(Green Day | basement) = 0.2\n",
      "P(Green Day | back_patio) = 0.111\n",
      "P(Green Day | kitchen) = 0\n",
      "\n",
      "P(Green Day) = 0.10083333333333333\n"
     ]
    }
   ],
   "source": [
    "## Paste your loop from Green Day question below for reference\n",
    "TOTAL_PROB = []\n",
    "\n",
    "for room in house_party.keys():\n",
    "    \n",
    "    p_gd_given_room = prob_event_given_room(room,sample_space='artist',\n",
    "                                    event='Green Day',verbose=True)\n",
    "    p_room = room_probs[room]\n",
    "\n",
    "#     print(f\"\\tP({room})={p_room}\")\n",
    "    \n",
    "    TOTAL_PROB.append(p_gd_given_room * p_room)\n",
    "print()\n",
    "print(f\"P(Green Day) = {sum(TOTAL_PROB)}\")"
   ]
  },
  {
   "cell_type": "code",
   "execution_count": 23,
   "metadata": {
    "ExecuteTime": {
     "end_time": "2020-08-06T15:29:55.245934Z",
     "start_time": "2020-08-06T15:29:55.241606Z"
    }
   },
   "outputs": [],
   "source": [
    "## Now how can we make that process flexible?\n",
    "\n",
    "def law_of_total_probability(room_prob,house_party, sample_space='artist',\n",
    "                                        event='Green Day',verbose=True):\n",
    "    TOTAL_PROB = []\n",
    "    for room in house_party.keys():\n",
    "\n",
    "        P_e_given_room = prob_event_given_room(room,sample_space=sample_space,\n",
    "                                        event=event,verbose=verbose)\n",
    "        p_room = room_probs[room]\n",
    "        \n",
    "        TOTAL_PROB.append(P_e_given_room * p_room)\n",
    "    print()\n",
    "    print(f\"The Total Probability of P({event}) = {round(sum(TOTAL_PROB),3)}\")\n",
    "    return sum(TOTAL_PROB)"
   ]
  },
  {
   "cell_type": "code",
   "execution_count": 24,
   "metadata": {
    "ExecuteTime": {
     "end_time": "2020-08-06T15:29:55.256336Z",
     "start_time": "2020-08-06T15:29:55.247338Z"
    }
   },
   "outputs": [
    {
     "name": "stdout",
     "output_type": "stream",
     "text": [
      "P(Lady GaGa | living_room) = 0.167\n",
      "P(Lady GaGa | basement) = 0.3\n",
      "P(Lady GaGa | back_patio) = 0.111\n",
      "P(Lady GaGa | kitchen) = 0.375\n",
      "\n",
      "The Total Probability of P(Lady GaGa) = 0.253\n"
     ]
    },
    {
     "data": {
      "text/plain": [
       "0.25333333333333335"
      ]
     },
     "execution_count": 24,
     "metadata": {},
     "output_type": "execute_result"
    }
   ],
   "source": [
    "law_of_total_probability(room_probs,house_party,'artist','Lady GaGa')"
   ]
  },
  {
   "cell_type": "markdown",
   "metadata": {},
   "source": [
    "### Q: what is the probability of hearing a song recommend by Anne?"
   ]
  },
  {
   "cell_type": "markdown",
   "metadata": {},
   "source": [
    "$$ P(AnneRec)=\\sum_i P(AnneRec \\mid Room_i)P(Room_i)$$\n",
    "- Since we made our function flexible, we can easily calculate this. \n"
   ]
  },
  {
   "cell_type": "code",
   "execution_count": 25,
   "metadata": {
    "ExecuteTime": {
     "end_time": "2020-08-06T15:29:55.267426Z",
     "start_time": "2020-08-06T15:29:55.258783Z"
    }
   },
   "outputs": [
    {
     "name": "stdout",
     "output_type": "stream",
     "text": [
      "P(Anne | living_room) = 0.25\n",
      "P(Anne | basement) = 0\n",
      "P(Anne | back_patio) = 0.222\n",
      "P(Anne | kitchen) = 0\n",
      "\n",
      "The Total Probability of P(Anne) = 0.104\n"
     ]
    },
    {
     "data": {
      "text/plain": [
       "0.10416666666666666"
      ]
     },
     "execution_count": 25,
     "metadata": {},
     "output_type": "execute_result"
    }
   ],
   "source": [
    "law_of_total_probability(room_probs,house_party,\n",
    "                         sample_space='Recommended By', event='Anne')"
   ]
  },
  {
   "cell_type": "code",
   "execution_count": 26,
   "metadata": {
    "ExecuteTime": {
     "end_time": "2020-08-06T15:29:55.276720Z",
     "start_time": "2020-08-06T15:29:55.268687Z"
    }
   },
   "outputs": [
    {
     "data": {
      "text/plain": [
       "Carla       0.307692\n",
       "John        0.205128\n",
       "Joe         0.179487\n",
       "Anne        0.128205\n",
       "James       0.102564\n",
       "Samantha    0.076923\n",
       "Name: Recommended By, dtype: float64"
      ]
     },
     "execution_count": 26,
     "metadata": {},
     "output_type": "execute_result"
    }
   ],
   "source": [
    "## Compare that to getting val counts from whole df\n",
    "counts = pd.concat(house_party)['Recommended By'].value_counts(normalize=True)\n",
    "counts"
   ]
  },
  {
   "cell_type": "markdown",
   "metadata": {
    "heading_collapsed": true
   },
   "source": [
    "# APPENDIX"
   ]
  },
  {
   "cell_type": "markdown",
   "metadata": {
    "hidden": true
   },
   "source": [
    "### Derivation of Conditional Probability\n",
    "Understanding this formula may be easier if you look at two simple Venn Diagrams and use the multiplication rule. Here's how to derive this formula:\n",
    "<img src=\"https://raw.githubusercontent.com/jirvingphd/dsc-conditional-probability-online-ds-ft-100719/master/images/Image_72_Cond4.png\" width=\"300\">\n",
    "\n",
    "\n",
    "\n",
    "Step 1: Write out the multiplication rule:\n",
    "* $P(A \\cap B)= P(B)*P(A\\mid B)$\n",
    "\n",
    "Step 2: Divide both sides of the equation by P(B):\n",
    "* $\\dfrac{P(A \\cap B)}{ P(B)} = \\dfrac{P(B)*P(A\\mid B)}{P(B)}$\n",
    "\n",
    "Step 3: Cancel P(B) on the right side of the equation:\n",
    "* $\\dfrac{P(A \\cap B)}{P(B)} = P(A \\mid B)$\n",
    "\n",
    "Step 4: This is of course equal to:\n",
    "* $ P(A \\mid B)=\\dfrac{P(A \\cap B)}{P(B)} $\n",
    "\n",
    "And this is our conditional probability formula. \n",
    "\n"
   ]
  },
  {
   "cell_type": "code",
   "execution_count": null,
   "metadata": {
    "hidden": true
   },
   "outputs": [],
   "source": []
  }
 ],
 "metadata": {
  "colab": {
   "collapsed_sections": [],
   "name": "sect_17_prob_&_comb.ipynb",
   "provenance": []
  },
  "kernelspec": {
   "display_name": "Python [conda env:learn-env] *",
   "language": "python",
   "name": "conda-env-learn-env-py"
  },
  "language_info": {
   "codemirror_mode": {
    "name": "ipython",
    "version": 3
   },
   "file_extension": ".py",
   "mimetype": "text/x-python",
   "name": "python",
   "nbconvert_exporter": "python",
   "pygments_lexer": "ipython3",
   "version": "3.6.11"
  },
  "toc": {
   "base_numbering": 1,
   "nav_menu": {},
   "number_sections": true,
   "sideBar": true,
   "skip_h1_title": false,
   "title_cell": "Table of Contents",
   "title_sidebar": "Contents",
   "toc_cell": false,
   "toc_position": {
    "height": "508px",
    "left": "54px",
    "top": "110px",
    "width": "256px"
   },
   "toc_section_display": true,
   "toc_window_display": true
  },
  "varInspector": {
   "cols": {
    "lenName": 16,
    "lenType": 16,
    "lenVar": 40
   },
   "kernels_config": {
    "python": {
     "delete_cmd_postfix": "",
     "delete_cmd_prefix": "del ",
     "library": "var_list.py",
     "varRefreshCmd": "print(var_dic_list())"
    },
    "r": {
     "delete_cmd_postfix": ") ",
     "delete_cmd_prefix": "rm(",
     "library": "var_list.r",
     "varRefreshCmd": "cat(var_dic_list()) "
    }
   },
   "types_to_exclude": [
    "module",
    "function",
    "builtin_function_or_method",
    "instance",
    "_Feature"
   ],
   "window_display": false
  }
 },
 "nbformat": 4,
 "nbformat_minor": 1
}

{
 "cells": [
  {
   "cell_type": "markdown",
   "metadata": {
    "colab_type": "text",
    "id": "GKw2nWdMDKR6"
   },
   "source": [
    "# Section 42: Tuning Neural Networks"
   ]
  },
  {
   "cell_type": "markdown",
   "metadata": {},
   "source": [
    "- xx/xx/xx\n",
    "- online-ds-xx-xxxx"
   ]
  },
  {
   "cell_type": "markdown",
   "metadata": {},
   "source": [
    "> NOTE: YOU MAY **NOT** USE THE FUNCTIONS FROM THIS NOTEBOOK IN YOUR PROJECTS"
   ]
  },
  {
   "cell_type": "markdown",
   "metadata": {},
   "source": [
    "## Learning Objectives"
   ]
  },
  {
   "cell_type": "markdown",
   "metadata": {},
   "source": [
    "- Discuss the different options available for tuning neural networks\n",
    "- Discuss some rules of thumb for tuning Neural Networks\n",
    "\n",
    "- **ACTIVITY: Use a computer vision task to walk-through hyperparameter tuning (cats vs dogs)**\n",
    "    - [Zip File on Google Drive](https://drive.google.com/open?id=1WQ0fdJrNs5qVinJ_6rmVIIinOJD3p-n4)\n",
    "\n",
    "- **Learn how to use GridSearchCV with Keras neural neural networks.**\n",
    "\n",
    "    - Learn how to examine the other parameter results from a GridSearchCV object.\n",
    "\n",
    "    - Learn how to create your own custom scorer for sklearn (and why you'd want to)\n",
    "- Learn how to set up email notifications via Python (for gridsearch results)\n"
   ]
  },
  {
   "cell_type": "markdown",
   "metadata": {},
   "source": [
    "## Questions/Comments?\n",
    "-"
   ]
  },
  {
   "cell_type": "markdown",
   "metadata": {},
   "source": [
    "## Helpful Resources"
   ]
  },
  {
   "cell_type": "markdown",
   "metadata": {},
   "source": [
    "- [Medium: Simple Guide to Hyperparameter Tuning in Neural Networks](https://towardsdatascience.com/simple-guide-to-hyperparameter-tuning-in-neural-networks-3fe03dad8594)\n",
    "- [Medium: A guide to an efficient way to build neural network architectures- Part I:](https://towardsdatascience.com/a-guide-to-an-efficient-way-to-build-neural-network-architectures-part-i-hyper-parameter-8129009f131b)\n",
    "- [Medium: Optimizers for Neural Networks](https://medium.com/@sdoshi579/optimizers-for-training-neural-network-59450d71caf6)"
   ]
  },
  {
   "cell_type": "markdown",
   "metadata": {},
   "source": [
    "# Overview  - Neural Network Tuning "
   ]
  },
  {
   "cell_type": "markdown",
   "metadata": {},
   "source": [
    "## Rules of Thumb for Training Neural Networks"
   ]
  },
  {
   "cell_type": "markdown",
   "metadata": {},
   "source": [
    "- **Always use a train-test-validation split.**\n",
    "    - **Train-test-val splits:**\n",
    "        - Training set: for training the algorithm\n",
    "        - Validation set: used during training\n",
    "        - Testing set: after choosing the final model, use the test set for an unbiased estimate of performance.\n",
    "    - **Set sizes:**\n",
    "        - With big data, your val and test sets don't necessarily need to be 20-30% of all the data. \n",
    "        - You can choose test and hold-out sets that are of size 1-5%. \n",
    "            - eg. 96% train, 2% hold-out, 2% test set.\n",
    "            \n",
    "            \n",
    "- Consider using a `np.random.seed` for reproducibility/comparing models\n",
    "\n",
    "\n",
    "- **Use cross validation of some sort to compare Networks**\n",
    "\n",
    "\n",
    "- Normalize/Standardize features\n",
    "    \n",
    "    \n",
    "- **Add EarlyStopping and ModelCheckpoint [callbacks](https://keras.io/api/callbacks/)**\n",
    "\n",
    "    "
   ]
  },
  {
   "cell_type": "markdown",
   "metadata": {
    "colab_type": "text",
    "id": "lbzweQKTDPTl"
   },
   "source": [
    "#### Dealing with Bias/Variance\n",
    "\n",
    "- Balancing Bias/Variance:\n",
    "    - High Bias models are **underfit**\n",
    "    - High Variance models are **overfit**\n",
    "\n",
    "\n",
    "\n",
    "- **Rules of thumb re: bias/variance trade-off:**\n",
    "\n",
    "| High Bias? (training performance) | high variance? (validation performance)  |\n",
    "|---------------|-------------|\n",
    "| Use a bigger network|    More data     |\n",
    "| Train longer | Regularization   |\n",
    "| Look for other existing NN architextures |Look for other existing NN architextures |\n"
   ]
  },
  {
   "cell_type": "markdown",
   "metadata": {},
   "source": [
    "## Rules of Thumb - Hyperparameters to Tune \n"
   ]
  },
  {
   "cell_type": "markdown",
   "metadata": {},
   "source": [
    "- This section is roughly laid out in order of importance/what-to-tune-first\n",
    "    - [Blog Post](https://towardsdatascience.com/a-guide-to-an-efficient-way-to-build-neural-network-architectures-part-i-hyper-parameter-8129009f131b)"
   ]
  },
  {
   "cell_type": "markdown",
   "metadata": {},
   "source": [
    "### Hyperparameters (For Dense layers)"
   ]
  },
  {
   "cell_type": "markdown",
   "metadata": {},
   "source": [
    "1. Number of layers (depends on the size of training data)\n",
    "\n",
    "\n",
    "2. Number of neurons(depends on the size of training data)\n",
    "\n",
    "\n",
    "3. Activation functions\n",
    "    - Popular choices:\n",
    "        - relu / leaky-relu\n",
    "        - sigmoid / tanh (for shallow networks)\n",
    "        \n",
    "        \n",
    "4. Optimizer:\n",
    "    - Popular choices:\n",
    "        - SGD (works well for shallow but gets stuck in local minima/saddle-points - if so use RMSProp)\n",
    "        - RMSProp\n",
    "        - Adam (general favorite)\n",
    "        \n",
    "        \n",
    "5. Learning Rate\n",
    "    - Try in powers of 10 (0.001,0.01,.1,1.0)\n",
    "    - Which optimizer changes which l.r. is best (but try the others too).\n",
    "        - SGD: 0.1\n",
    "        - Adam: 0.001/0.01\n",
    "    - Can use the `decay` parameter to reduce learning (though it is better to use adaptive optimizer than to adjust this)/.\n",
    "    \n",
    "    \n",
    "6. Initialization\n",
    "    - Not as important as defaults (glorot-uniform) work well, but:\n",
    "        - Use He-normal/uniform initialization when using ReLu\n",
    "        - Use Glorot-normal/uniform when using Sigmoid\n",
    "    - Avoid using all zeros or any constant for all neurons\n",
    "\n",
    "\n",
    "7. Batch Size\n",
    "    - Finding the \"right\" size is important\n",
    "        - Too small = weights update too quickly and convergence is difficult\n",
    "        - Too large = weights update too slowly (plus PC RAM issues)\n",
    "    - Try batch sizes that are powers of 2 (for memory optimization)\n",
    "    - Larger is better than smaller.\n",
    "    \n",
    "    \n",
    "8. Number of Epochs:\n",
    "    - Important parameter to tune\n",
    "    - Use EarlyStopping callback to prevent overfitting\n",
    "    \n",
    "\n",
    "9. Adding Dropout\n",
    "    - Usually use dropout rate of 0.2 to 0.5\n",
    "    \n",
    "    \n",
    "\n",
    "10. Adding regularization (L1,L2)\n",
    "    - Use when the model continues to over-fit even after adding Dropout"
   ]
  },
  {
   "cell_type": "markdown",
   "metadata": {},
   "source": [
    "### Hyperparameter Details"
   ]
  },
  {
   "cell_type": "markdown",
   "metadata": {},
   "source": [
    "#### Kernel Initialization\n",
    "- Kernel Initializers\n",
    "```python\n",
    "# define the grid search parameters\n",
    "init_mode = ['uniform', 'lecun_uniform', 'normal', 'zero', \n",
    "             'glorot_normal', 'glorot_uniform', 'he_normal', 'he_uniform']```\n",
    "\n",
    "\n",
    "#### Loss Functions\n",
    "- MSE (regression)\n",
    "- categorical cross-entropy (classification with 2D labels )\n",
    "    - sparse categorical cross entropy (classification with 1D labels)\n",
    "- binary cross-entropy (classification)\n",
    "    - 2 categories\n",
    "- **can also uses custom scoring functions**"
   ]
  },
  {
   "cell_type": "markdown",
   "metadata": {},
   "source": [
    "## Using Regularization"
   ]
  },
  {
   "cell_type": "markdown",
   "metadata": {},
   "source": [
    "### L1 & L2 Regularlization\n",
    "- These methods of regularizaiton do so by penalizing coefficients(regression) or weights(neural networks),\n",
    "    - L1 & L2 exist in regression models as well. There, L1='Lasso Regressions' , L2='Ridge regression'\n",
    "    \n",
    "    \n",
    "\n",
    "- **L1 & L2 regularization add a term to the cost function.**\n",
    "\n",
    "$$Cost function = Loss (say, binary cross entropy) + Regularization term$$\n",
    "\n",
    "$$ J (w^{[1]},b^{[1]},...,w^{[L]},b^{[L]}) = \\dfrac{1}{m} \\sum^m_{i=1}\\mathcal{L}(\\hat y^{(i)}, y^{(i)})+ \\dfrac{\\lambda}{2m}\\sum^L_{l=1}||w^{[l]}||^2$$\n",
    "- where $\\lambda$ is the regularization parameter. \n",
    "\n",
    "- **The difference between  L1 vs L2 is that L1 is just the sum of the weights whereas L2 is the sum of the _square_of the weights.**  \n",
    "\n",
    "\n",
    "<br><br>\n",
    "- **L1 Regularization:**\n",
    "    $$ Cost function = Loss + \\frac{\\lambda}{2m} * \\sum ||w||$$\n",
    "    - Uses the absolute value of weights and may reduce the weights down to 0. \n",
    "    \n",
    "        \n",
    "- **L2 Regularization:**:\n",
    "    $$ Cost function = Loss + \\frac{\\lambda}{2m} * \\sum ||w||^2$$\n",
    "    - Also known as weight decay, as it forces weights to decay towards zero, but never exactly 0.. "
   ]
  },
  {
   "cell_type": "markdown",
   "metadata": {},
   "source": [
    "#### L1/L2 Regularization\n",
    "\n",
    "- **CHOOSING L1 OR L2:**\n",
    "    - L1 is very useful when trying to compress a model. (since weights can decreae to 0)\n",
    "    - L2 is generally preferred otherwise.\n",
    "    \n",
    "    \n",
    "- **USING L1/L2 IN KERAS:**\n",
    "    - Add a kernel_regulaizer to a  layer.\n",
    "```python \n",
    "from keras import regularizers\n",
    "model.add(Dense(64, input_dim=64, kernel_regularizer=regularizers.l2(0.01))\n",
    "```\n",
    "    - here 0.01 = $\\lambda$"
   ]
  },
  {
   "cell_type": "markdown",
   "metadata": {},
   "source": [
    "### Additional Options"
   ]
  },
  {
   "cell_type": "markdown",
   "metadata": {},
   "source": [
    "#### Dropout "
   ]
  },
  {
   "cell_type": "markdown",
   "metadata": {
    "colab_type": "text",
    "id": "BlPs5Wd8GrNg"
   },
   "source": [
    "#### Early Stopping"
   ]
  },
  {
   "cell_type": "markdown",
   "metadata": {
    "colab_type": "text",
    "id": "BlPs5Wd8GrNg"
   },
   "source": [
    "- Monitor performance for decrease or plateau in performance, terminate process when given criteria is reached.\n",
    "\n",
    "- **In Keras:**\n",
    "    - Can be applied using the [callbacks function](https://keras.io/callbacks/)\n",
    "```python    \n",
    "from keras.callbacks import EarlyStopping\n",
    "EarlyStopping(monitor='val_err', patience=5)\n",
    "```\n",
    "    - 'Monitor' denotes quanitity to check\n",
    "    - 'val_err' denotes validation error\n",
    "    - 'pateience' denotes # of epochs without improvement before stopping.\n",
    "        - Be careful, as sometimes models _will_ continue to improve after a stagnant period\n"
   ]
  },
  {
   "cell_type": "markdown",
   "metadata": {},
   "source": [
    "# Activity: Dogs vs Cats"
   ]
  },
  {
   "cell_type": "markdown",
   "metadata": {},
   "source": [
    "- Build an image classification model to detect cats vs dogs"
   ]
  },
  {
   "cell_type": "markdown",
   "metadata": {
    "colab_type": "text",
    "id": "8qbS0lSrghaO"
   },
   "source": [
    "## Installs, Imports, & Functions"
   ]
  },
  {
   "cell_type": "code",
   "execution_count": 1,
   "metadata": {
    "ExecuteTime": {
     "end_time": "2020-12-04T16:30:58.122581Z",
     "start_time": "2020-12-04T16:30:46.408540Z"
    }
   },
   "outputs": [
    {
     "data": {
      "text/plain": [
       "'2.3.1'"
      ]
     },
     "execution_count": 1,
     "metadata": {},
     "output_type": "execute_result"
    }
   ],
   "source": [
    "# !pip install -U tensorflow\n",
    "from tensorflow.random import set_seed\n",
    "set_seed(321)\n",
    "\n",
    "import numpy as np\n",
    "np.random.seed(321)\n",
    "\n",
    "import tensorflow as tf\n",
    "from tensorflow import keras\n",
    "tf.__version__"
   ]
  },
  {
   "cell_type": "code",
   "execution_count": 2,
   "metadata": {
    "ExecuteTime": {
     "end_time": "2020-12-04T16:31:04.783511Z",
     "start_time": "2020-12-04T16:30:58.124297Z"
    },
    "colab": {
     "base_uri": "https://localhost:8080/",
     "height": 238
    },
    "colab_type": "code",
    "id": "KHc94KpTlbRj",
    "outputId": "f71ccce3-f23d-4b8e-d4f7-c4736cbe1e76",
    "scrolled": true
   },
   "outputs": [
    {
     "name": "stdout",
     "output_type": "stream",
     "text": [
      "fsds v0.2.27 loaded.  Read the docs: https://fs-ds.readthedocs.io/en/latest/ \n"
     ]
    },
    {
     "data": {
      "text/html": [
       "<style  type=\"text/css\" >\n",
       "</style><table id=\"T_1981f918_364e_11eb_a3cc_acde48001122\" ><caption>Loaded Packages and Handles</caption><thead>    <tr>        <th class=\"col_heading level0 col0\" >Handle</th>        <th class=\"col_heading level0 col1\" >Package</th>        <th class=\"col_heading level0 col2\" >Description</th>    </tr></thead><tbody>\n",
       "                <tr>\n",
       "                                <td id=\"T_1981f918_364e_11eb_a3cc_acde48001122row0_col0\" class=\"data row0 col0\" >dp</td>\n",
       "                        <td id=\"T_1981f918_364e_11eb_a3cc_acde48001122row0_col1\" class=\"data row0 col1\" >IPython.display</td>\n",
       "                        <td id=\"T_1981f918_364e_11eb_a3cc_acde48001122row0_col2\" class=\"data row0 col2\" >Display modules with helpful display and clearing commands.</td>\n",
       "            </tr>\n",
       "            <tr>\n",
       "                                <td id=\"T_1981f918_364e_11eb_a3cc_acde48001122row1_col0\" class=\"data row1 col0\" >fs</td>\n",
       "                        <td id=\"T_1981f918_364e_11eb_a3cc_acde48001122row1_col1\" class=\"data row1 col1\" >fsds</td>\n",
       "                        <td id=\"T_1981f918_364e_11eb_a3cc_acde48001122row1_col2\" class=\"data row1 col2\" >Custom data science bootcamp student package</td>\n",
       "            </tr>\n",
       "            <tr>\n",
       "                                <td id=\"T_1981f918_364e_11eb_a3cc_acde48001122row2_col0\" class=\"data row2 col0\" >mpl</td>\n",
       "                        <td id=\"T_1981f918_364e_11eb_a3cc_acde48001122row2_col1\" class=\"data row2 col1\" >matplotlib</td>\n",
       "                        <td id=\"T_1981f918_364e_11eb_a3cc_acde48001122row2_col2\" class=\"data row2 col2\" >Matplotlib's base OOP module with formatting artists</td>\n",
       "            </tr>\n",
       "            <tr>\n",
       "                                <td id=\"T_1981f918_364e_11eb_a3cc_acde48001122row3_col0\" class=\"data row3 col0\" >plt</td>\n",
       "                        <td id=\"T_1981f918_364e_11eb_a3cc_acde48001122row3_col1\" class=\"data row3 col1\" >matplotlib.pyplot</td>\n",
       "                        <td id=\"T_1981f918_364e_11eb_a3cc_acde48001122row3_col2\" class=\"data row3 col2\" >Matplotlib's matlab-like plotting module</td>\n",
       "            </tr>\n",
       "            <tr>\n",
       "                                <td id=\"T_1981f918_364e_11eb_a3cc_acde48001122row4_col0\" class=\"data row4 col0\" >np</td>\n",
       "                        <td id=\"T_1981f918_364e_11eb_a3cc_acde48001122row4_col1\" class=\"data row4 col1\" >numpy</td>\n",
       "                        <td id=\"T_1981f918_364e_11eb_a3cc_acde48001122row4_col2\" class=\"data row4 col2\" >scientific computing with Python</td>\n",
       "            </tr>\n",
       "            <tr>\n",
       "                                <td id=\"T_1981f918_364e_11eb_a3cc_acde48001122row5_col0\" class=\"data row5 col0\" >pd</td>\n",
       "                        <td id=\"T_1981f918_364e_11eb_a3cc_acde48001122row5_col1\" class=\"data row5 col1\" >pandas</td>\n",
       "                        <td id=\"T_1981f918_364e_11eb_a3cc_acde48001122row5_col2\" class=\"data row5 col2\" >High performance data structures and tools</td>\n",
       "            </tr>\n",
       "            <tr>\n",
       "                                <td id=\"T_1981f918_364e_11eb_a3cc_acde48001122row6_col0\" class=\"data row6 col0\" >sns</td>\n",
       "                        <td id=\"T_1981f918_364e_11eb_a3cc_acde48001122row6_col1\" class=\"data row6 col1\" >seaborn</td>\n",
       "                        <td id=\"T_1981f918_364e_11eb_a3cc_acde48001122row6_col2\" class=\"data row6 col2\" >High-level data visualization library based on matplotlib</td>\n",
       "            </tr>\n",
       "    </tbody></table>"
      ],
      "text/plain": [
       "<pandas.io.formats.style.Styler at 0x7fb6b7063588>"
      ]
     },
     "metadata": {},
     "output_type": "display_data"
    },
    {
     "data": {
      "text/html": [
       "        <script type=\"text/javascript\">\n",
       "        window.PlotlyConfig = {MathJaxConfig: 'local'};\n",
       "        if (window.MathJax) {MathJax.Hub.Config({SVG: {font: \"STIX-Web\"}});}\n",
       "        if (typeof require !== 'undefined') {\n",
       "        require.undef(\"plotly\");\n",
       "        requirejs.config({\n",
       "            paths: {\n",
       "                'plotly': ['https://cdn.plot.ly/plotly-latest.min']\n",
       "            }\n",
       "        });\n",
       "        require(['plotly'], function(Plotly) {\n",
       "            window._Plotly = Plotly;\n",
       "        });\n",
       "        }\n",
       "        </script>\n",
       "        "
      ]
     },
     "metadata": {},
     "output_type": "display_data"
    },
    {
     "data": {
      "text/html": [
       "        <script type=\"text/javascript\">\n",
       "        window.PlotlyConfig = {MathJaxConfig: 'local'};\n",
       "        if (window.MathJax) {MathJax.Hub.Config({SVG: {font: \"STIX-Web\"}});}\n",
       "        if (typeof require !== 'undefined') {\n",
       "        require.undef(\"plotly\");\n",
       "        requirejs.config({\n",
       "            paths: {\n",
       "                'plotly': ['https://cdn.plot.ly/plotly-latest.min']\n",
       "            }\n",
       "        });\n",
       "        require(['plotly'], function(Plotly) {\n",
       "            window._Plotly = Plotly;\n",
       "        });\n",
       "        }\n",
       "        </script>\n",
       "        "
      ]
     },
     "metadata": {},
     "output_type": "display_data"
    },
    {
     "name": "stdout",
     "output_type": "stream",
     "text": [
      "[i] Pandas .iplot() method activated.\n"
     ]
    }
   ],
   "source": [
    "!pip install -U fsds\n",
    "from fsds.imports import *"
   ]
  },
  {
   "cell_type": "code",
   "execution_count": 3,
   "metadata": {
    "ExecuteTime": {
     "end_time": "2020-12-04T16:31:04.788448Z",
     "start_time": "2020-12-04T16:31:04.786204Z"
    },
    "colab": {
     "base_uri": "https://localhost:8080/",
     "height": 34
    },
    "colab_type": "code",
    "id": "2yML_wHNlbRn",
    "outputId": "50fed474-f35a-477d-8b5e-b448e76c97a8",
    "scrolled": true
   },
   "outputs": [],
   "source": [
    "# from skimage.transform import resize\n",
    "# from imageio import imread\n",
    "# from PIL import Image\n",
    "\n",
    "# import cv2\n",
    "# from tqdm import tqdm\n"
   ]
  },
  {
   "cell_type": "markdown",
   "metadata": {
    "colab_type": "text",
    "id": "E7D1Ks2mhJim"
   },
   "source": [
    "## Loading in the data"
   ]
  },
  {
   "cell_type": "markdown",
   "metadata": {},
   "source": [
    "- Download the zip file \n",
    "    - [DATASET: Zip File for Dog vs Cats](https://drive.google.com/open?id=1WQ0fdJrNs5qVinJ_6rmVIIinOJD3p-n4)\n",
    "- Extract zip file contents to the a folder on your computer.\n",
    "    - I am using my user folder > Datasets > cats-vs-dogs\n",
    "    "
   ]
  },
  {
   "cell_type": "code",
   "execution_count": 4,
   "metadata": {
    "ExecuteTime": {
     "end_time": "2020-12-04T16:31:04.801349Z",
     "start_time": "2020-12-04T16:31:04.791815Z"
    }
   },
   "outputs": [
    {
     "name": "stdout",
     "output_type": "stream",
     "text": [
      "/Users/jamesirving/Documents/GitHub/_COHORT_NOTES/my-best-lessons-and-code-jmi/sect_42_tuning_neural_networks/instructor\n"
     ]
    }
   ],
   "source": [
    "import os,glob\n",
    "print(os.path.abspath(os.curdir))"
   ]
  },
  {
   "cell_type": "code",
   "execution_count": 5,
   "metadata": {
    "ExecuteTime": {
     "end_time": "2020-12-04T16:31:04.808897Z",
     "start_time": "2020-12-04T16:31:04.803458Z"
    }
   },
   "outputs": [
    {
     "data": {
      "text/plain": [
       "['single_prediction', '.DS_Store', 'Models', 'training_set', 'test_set']"
      ]
     },
     "execution_count": 5,
     "metadata": {},
     "output_type": "execute_result"
    }
   ],
   "source": [
    "# change dataset_folder to match where you stored the files\n",
    "base_folder = \"/Users/jamesirving/Datasets/dogs-vs-cats-sorted/\"\n",
    "os.makedirs(base_folder,exist_ok=True)\n",
    "os.listdir(base_folder)"
   ]
  },
  {
   "cell_type": "code",
   "execution_count": 6,
   "metadata": {
    "ExecuteTime": {
     "end_time": "2020-12-04T16:31:04.816539Z",
     "start_time": "2020-12-04T16:31:04.811660Z"
    }
   },
   "outputs": [
    {
     "name": "stdout",
     "output_type": "stream",
     "text": [
      "['dogs', 'cats', '.DS_Store']\n"
     ]
    }
   ],
   "source": [
    "train_folder = base_folder+\"training_set/\"\n",
    "test_folder = base_folder+\"test_set/\"\n",
    "# val_folder = base_folder+\"val/\"\n",
    "\n",
    "print(os.listdir(train_folder))"
   ]
  },
  {
   "cell_type": "markdown",
   "metadata": {},
   "source": [
    "## Using ImageDataGenerator.flow_from_directory"
   ]
  },
  {
   "cell_type": "code",
   "execution_count": 7,
   "metadata": {
    "ExecuteTime": {
     "end_time": "2020-12-04T16:31:04.821806Z",
     "start_time": "2020-12-04T16:31:04.818502Z"
    }
   },
   "outputs": [],
   "source": [
    "from tensorflow.keras.preprocessing import image\n",
    "from tensorflow.keras.preprocessing.image import ImageDataGenerator, array_to_img, img_to_array, load_img\n",
    "from tensorflow.keras.utils import to_categorical\n",
    "import tensorflow as tf"
   ]
  },
  {
   "cell_type": "markdown",
   "metadata": {},
   "source": [
    "> Train-Test-Val Split: https://medium.com/@olagokeibrahim165/split-train-data-into-training-and-validation-when-using-imagedatagenerator-in-keras-ffdc88bbf6f3"
   ]
  },
  {
   "cell_type": "code",
   "execution_count": 8,
   "metadata": {
    "ExecuteTime": {
     "end_time": "2020-12-04T16:31:04.832490Z",
     "start_time": "2020-12-04T16:31:04.827396Z"
    }
   },
   "outputs": [],
   "source": [
    "## get num images\n",
    "import os,glob\n",
    "def get_num_images(train_folder,folders=['dogs','cats'],verbose=True):\n",
    "    \"\"\"Gets the total number of images from all folders listed\"\"\"\n",
    "    num_images = 0\n",
    "    for folder in folders:\n",
    "        num_in_folder = len(os.listdir(train_folder+folder))\n",
    "        \n",
    "        if verbose:\n",
    "            print(f\"- There are {num_in_folder} images in {folder} folder.\")\n",
    "        num_images+=num_in_folder\n",
    "    return num_images"
   ]
  },
  {
   "cell_type": "code",
   "execution_count": 9,
   "metadata": {
    "ExecuteTime": {
     "end_time": "2020-12-04T16:31:04.883845Z",
     "start_time": "2020-12-04T16:31:04.836599Z"
    }
   },
   "outputs": [
    {
     "name": "stdout",
     "output_type": "stream",
     "text": [
      "Training images: 8002\n",
      "Test & Val images: 2002\n"
     ]
    },
    {
     "data": {
      "text/plain": [
       "(8002, 1602, 400)"
      ]
     },
     "execution_count": 9,
     "metadata": {},
     "output_type": "execute_result"
    }
   ],
   "source": [
    "## Get the Number of total images for batch size \n",
    "BATCH_SIZE_TRAIN = get_num_images(train_folder,verbose=0)\n",
    "BATCH_SIZE_TEST_VAL = get_num_images(test_folder,verbose=0)\n",
    "print(f\"Training images: {BATCH_SIZE_TRAIN}\")\n",
    "print(f\"Test & Val images: {BATCH_SIZE_TEST_VAL}\")\n",
    "\n",
    "\n",
    "## Make validation split\n",
    "VAL_SPLIT = 0.2\n",
    "BATCH_SIZE_VAL = round(BATCH_SIZE_TEST_VAL*VAL_SPLIT)\n",
    "BATCH_SIZE_TEST = round(BATCH_SIZE_TEST_VAL*(1-VAL_SPLIT))\n",
    "\n",
    "BATCH_SIZE_TRAIN,BATCH_SIZE_TEST,BATCH_SIZE_VAL"
   ]
  },
  {
   "cell_type": "code",
   "execution_count": 10,
   "metadata": {
    "ExecuteTime": {
     "end_time": "2020-12-04T16:31:04.888070Z",
     "start_time": "2020-12-04T16:31:04.885203Z"
    }
   },
   "outputs": [],
   "source": [
    "## MAKING IMAGE DATA GENERATORS FOR TRAIN TEST VAL\n",
    "IMG_SIZE = (64,64)\n",
    "\n",
    "## Create ImageDataGenerators\n",
    "train_datagen = ImageDataGenerator(rescale = 1./255)#,\n",
    "#                                    shear_range = 0.2, zoom_range = 0.2,\n",
    "#                                    horizontal_flip = True)\n",
    "\n",
    "test_val_datagen = ImageDataGenerator(rescale = 1./255,\n",
    "                                      validation_split=VAL_SPLIT)\n",
    "\n"
   ]
  },
  {
   "cell_type": "code",
   "execution_count": 11,
   "metadata": {
    "ExecuteTime": {
     "end_time": "2020-12-04T16:31:05.327286Z",
     "start_time": "2020-12-04T16:31:04.889767Z"
    }
   },
   "outputs": [
    {
     "name": "stdout",
     "output_type": "stream",
     "text": [
      "Found 8000 images belonging to 2 classes.\n",
      "Found 1600 images belonging to 2 classes.\n",
      "Found 400 images belonging to 2 classes.\n"
     ]
    }
   ],
   "source": [
    "## Make Training Sets With All Images\n",
    "training_set_full = train_datagen.flow_from_directory(train_folder,\n",
    "                                                 target_size=IMG_SIZE,\n",
    "                                                   batch_size=BATCH_SIZE_TRAIN,\n",
    "                                                      class_mode='binary')                                                  \n",
    "                                                      \n",
    "\n",
    "test_set_full = test_val_datagen.flow_from_directory(test_folder,\n",
    "                                                     target_size=IMG_SIZE,\n",
    "                                                     subset='training',\n",
    "                                                     batch_size=BATCH_SIZE_TEST,\n",
    "                                                    class_mode='binary')\n",
    "\n",
    "val_set_full = test_val_datagen.flow_from_directory(test_folder,target_size=IMG_SIZE,\n",
    "                                                   subset='validation',\n",
    "                                                    batch_size=BATCH_SIZE_VAL,\n",
    "                                                   class_mode='binary')"
   ]
  },
  {
   "cell_type": "code",
   "execution_count": 12,
   "metadata": {
    "ExecuteTime": {
     "end_time": "2020-12-04T16:31:24.882712Z",
     "start_time": "2020-12-04T16:31:05.329227Z"
    }
   },
   "outputs": [
    {
     "data": {
      "text/plain": [
       "array([0., 1., 1., ..., 1., 1., 1.], dtype=float32)"
      ]
     },
     "execution_count": 12,
     "metadata": {},
     "output_type": "execute_result"
    }
   ],
   "source": [
    "## MAKE X and YS FROM GENERATORS\n",
    "X_train, y_train=next(training_set_full)\n",
    "y_train"
   ]
  },
  {
   "cell_type": "code",
   "execution_count": 13,
   "metadata": {
    "ExecuteTime": {
     "end_time": "2020-12-04T16:31:29.779868Z",
     "start_time": "2020-12-04T16:31:24.885324Z"
    }
   },
   "outputs": [],
   "source": [
    "# TEST AND VAL SETS\n",
    "X_test, y_test=next(test_set_full)\n",
    "X_val,y_val = next(val_set_full)"
   ]
  },
  {
   "cell_type": "code",
   "execution_count": 14,
   "metadata": {
    "ExecuteTime": {
     "end_time": "2020-12-04T16:31:29.785283Z",
     "start_time": "2020-12-04T16:31:29.781313Z"
    }
   },
   "outputs": [
    {
     "data": {
      "text/plain": [
       "(8000, 64, 64, 3)"
      ]
     },
     "execution_count": 14,
     "metadata": {},
     "output_type": "execute_result"
    }
   ],
   "source": [
    "X_train.shape"
   ]
  },
  {
   "cell_type": "code",
   "execution_count": 15,
   "metadata": {
    "ExecuteTime": {
     "end_time": "2020-12-04T16:31:29.791300Z",
     "start_time": "2020-12-04T16:31:29.786920Z"
    }
   },
   "outputs": [
    {
     "data": {
      "text/plain": [
       "(8000, 12288)"
      ]
     },
     "execution_count": 15,
     "metadata": {},
     "output_type": "execute_result"
    }
   ],
   "source": [
    "## UNROW IMAGES FOR SEQUENTIAL MODEL\n",
    "X_train_unrow = X_train.reshape(X_train.shape[0],-1)\n",
    "X_test_unrow = X_test.reshape(X_test.shape[0],-1)\n",
    "X_val_unrow = X_val.reshape(X_val.shape[0],-1)\n",
    "X_train_unrow.shape"
   ]
  },
  {
   "cell_type": "code",
   "execution_count": 16,
   "metadata": {
    "ExecuteTime": {
     "end_time": "2020-12-04T16:31:29.801422Z",
     "start_time": "2020-12-04T16:31:29.793439Z"
    }
   },
   "outputs": [
    {
     "data": {
      "text/plain": [
       "1.0"
      ]
     },
     "metadata": {},
     "output_type": "display_data"
    },
    {
     "data": {
      "image/png": "[encoded data removed]",
      "text/plain": [
       "<PIL.Image.Image image mode=RGB size=64x64 at 0x7FB691B1CD68>"
      ]
     },
     "metadata": {},
     "output_type": "display_data"
    }
   ],
   "source": [
    "i = np.random.choice(range(len(y_train)))\n",
    "display(y_train[i])\n",
    "display(array_to_img(X_train[i]))#.reshape(32,32,3)))"
   ]
  },
  {
   "cell_type": "markdown",
   "metadata": {},
   "source": [
    "# Using Dense Networks"
   ]
  },
  {
   "cell_type": "code",
   "execution_count": 17,
   "metadata": {
    "ExecuteTime": {
     "end_time": "2020-12-04T16:31:29.805949Z",
     "start_time": "2020-12-04T16:31:29.803090Z"
    }
   },
   "outputs": [],
   "source": [
    "from tensorflow.keras.models import Sequential\n",
    "from tensorflow.keras.layers import Dense\n",
    "from tensorflow.keras import optimizers,regularizers\n",
    "from tensorflow.keras import models,layers,optimizers,regularizers,activations\n",
    "from tensorflow.keras.layers import Conv2D, MaxPooling2D,Flatten,Dense,Dropout"
   ]
  },
  {
   "cell_type": "code",
   "execution_count": 18,
   "metadata": {
    "ExecuteTime": {
     "end_time": "2020-12-04T16:31:29.883310Z",
     "start_time": "2020-12-04T16:31:29.807517Z"
    }
   },
   "outputs": [
    {
     "name": "stdout",
     "output_type": "stream",
     "text": [
      "Model: \"sequential\"\n",
      "_________________________________________________________________\n",
      "Layer (type)                 Output Shape              Param #   \n",
      "=================================================================\n",
      "dense (Dense)                (None, 64)                786496    \n",
      "_________________________________________________________________\n",
      "dense_1 (Dense)              (None, 1)                 65        \n",
      "=================================================================\n",
      "Total params: 786,561\n",
      "Trainable params: 786,561\n",
      "Non-trainable params: 0\n",
      "_________________________________________________________________\n"
     ]
    }
   ],
   "source": [
    "model_1 = Sequential()\n",
    "model_1.add(Dense(64,activation='relu',input_shape=(X_train_unrow.shape[1],)))\n",
    "model_1.add(Dense(1,activation='sigmoid'))\n",
    "model_1.compile(optimizer='adam',loss='binary_crossentropy',\n",
    "                metrics=['accuracy',tf.keras.metrics.Recall()])\n",
    "model_1.summary()"
   ]
  },
  {
   "cell_type": "code",
   "execution_count": 19,
   "metadata": {
    "ExecuteTime": {
     "end_time": "2020-12-04T16:31:29.888214Z",
     "start_time": "2020-12-04T16:31:29.885102Z"
    }
   },
   "outputs": [
    {
     "data": {
      "text/plain": [
       "array([1., 0., 0., 1., 1.], dtype=float32)"
      ]
     },
     "execution_count": 19,
     "metadata": {},
     "output_type": "execute_result"
    }
   ],
   "source": [
    "y_val[:5]"
   ]
  },
  {
   "cell_type": "code",
   "execution_count": 20,
   "metadata": {
    "ExecuteTime": {
     "end_time": "2020-12-04T16:31:46.074276Z",
     "start_time": "2020-12-04T16:31:29.889616Z"
    }
   },
   "outputs": [
    {
     "name": "stdout",
     "output_type": "stream",
     "text": [
      "Epoch 1/20\n",
      "250/250 [==============================] - 1s 4ms/step - loss: 0.7724 - accuracy: 0.5464 - recall: 0.5502 - val_loss: 0.6812 - val_accuracy: 0.5475 - val_recall: 0.3500\n",
      "Epoch 2/20\n",
      "250/250 [==============================] - 1s 3ms/step - loss: 0.6917 - accuracy: 0.5711 - recall: 0.5660 - val_loss: 0.6692 - val_accuracy: 0.5625 - val_recall: 0.4400\n",
      "Epoch 3/20\n",
      "250/250 [==============================] - 1s 3ms/step - loss: 0.6808 - accuracy: 0.5726 - recall: 0.5725 - val_loss: 0.7302 - val_accuracy: 0.5450 - val_recall: 0.1750\n",
      "Epoch 4/20\n",
      "250/250 [==============================] - 1s 3ms/step - loss: 0.6706 - accuracy: 0.5950 - recall: 0.5900 - val_loss: 0.8283 - val_accuracy: 0.5225 - val_recall: 0.9850\n",
      "Epoch 5/20\n",
      "250/250 [==============================] - 1s 3ms/step - loss: 0.6574 - accuracy: 0.6125 - recall: 0.6125 - val_loss: 0.6704 - val_accuracy: 0.5600 - val_recall: 0.6000\n",
      "Epoch 6/20\n",
      "250/250 [==============================] - 1s 3ms/step - loss: 0.6498 - accuracy: 0.6183 - recall: 0.6165 - val_loss: 0.6778 - val_accuracy: 0.5825 - val_recall: 0.7350\n",
      "Epoch 7/20\n",
      "250/250 [==============================] - 1s 3ms/step - loss: 0.6513 - accuracy: 0.6246 - recall: 0.6258 - val_loss: 0.6763 - val_accuracy: 0.5900 - val_recall: 0.8200\n",
      "Epoch 8/20\n",
      "250/250 [==============================] - 1s 3ms/step - loss: 0.6418 - accuracy: 0.6345 - recall: 0.6263 - val_loss: 0.7284 - val_accuracy: 0.5650 - val_recall: 0.9200\n",
      "Epoch 9/20\n",
      "250/250 [==============================] - 1s 3ms/step - loss: 0.6276 - accuracy: 0.6471 - recall: 0.6550 - val_loss: 0.6744 - val_accuracy: 0.5925 - val_recall: 0.7300\n",
      "Epoch 10/20\n",
      "250/250 [==============================] - 1s 3ms/step - loss: 0.6304 - accuracy: 0.6456 - recall: 0.6438 - val_loss: 0.6718 - val_accuracy: 0.6050 - val_recall: 0.4500\n",
      "Epoch 11/20\n",
      "250/250 [==============================] - 1s 3ms/step - loss: 0.6373 - accuracy: 0.6261 - recall: 0.7023 - val_loss: 0.7400 - val_accuracy: 0.5550 - val_recall: 0.2100\n",
      "Epoch 12/20\n",
      "250/250 [==============================] - 1s 3ms/step - loss: 0.6213 - accuracy: 0.6436 - recall: 0.6995 - val_loss: 0.6605 - val_accuracy: 0.5950 - val_recall: 0.6000\n",
      "Epoch 13/20\n",
      "250/250 [==============================] - 1s 3ms/step - loss: 0.6349 - accuracy: 0.6329 - recall: 0.6737 - val_loss: 0.6593 - val_accuracy: 0.6025 - val_recall: 0.6000\n",
      "Epoch 14/20\n",
      "250/250 [==============================] - 1s 3ms/step - loss: 0.6142 - accuracy: 0.6530 - recall: 0.6683 - val_loss: 0.6606 - val_accuracy: 0.6050 - val_recall: 0.6550\n",
      "Epoch 15/20\n",
      "250/250 [==============================] - 1s 3ms/step - loss: 0.6062 - accuracy: 0.6725 - recall: 0.6693 - val_loss: 0.6685 - val_accuracy: 0.5950 - val_recall: 0.6100\n",
      "Epoch 16/20\n",
      "250/250 [==============================] - 1s 3ms/step - loss: 0.5981 - accuracy: 0.6693 - recall: 0.6773 - val_loss: 0.6782 - val_accuracy: 0.5825 - val_recall: 0.7800\n",
      "Epoch 17/20\n",
      "250/250 [==============================] - 1s 3ms/step - loss: 0.6033 - accuracy: 0.6653 - recall: 0.6900 - val_loss: 0.6907 - val_accuracy: 0.5800 - val_recall: 0.3800\n",
      "Epoch 18/20\n",
      "250/250 [==============================] - 1s 3ms/step - loss: 0.6180 - accuracy: 0.6611 - recall: 0.6780 - val_loss: 0.6647 - val_accuracy: 0.5875 - val_recall: 0.5450\n",
      "Epoch 19/20\n",
      "250/250 [==============================] - 1s 3ms/step - loss: 0.6147 - accuracy: 0.6541 - recall: 0.6618 - val_loss: 0.6816 - val_accuracy: 0.6050 - val_recall: 0.4100\n",
      "Epoch 20/20\n",
      "250/250 [==============================] - 1s 3ms/step - loss: 0.6129 - accuracy: 0.6631 - recall: 0.6823 - val_loss: 0.7002 - val_accuracy: 0.6000 - val_recall: 0.3550\n"
     ]
    }
   ],
   "source": [
    "history = model_1.fit(X_train_unrow,y_train,epochs=20,\n",
    "                      validation_data=(X_val_unrow,y_val),\n",
    "                     )"
   ]
  },
  {
   "cell_type": "code",
   "execution_count": 21,
   "metadata": {
    "ExecuteTime": {
     "end_time": "2020-12-04T16:31:46.102105Z",
     "start_time": "2020-12-04T16:31:46.076670Z"
    }
   },
   "outputs": [
    {
     "data": {
      "text/html": [
       "<div>\n",
       "<style scoped>\n",
       "    .dataframe tbody tr th:only-of-type {\n",
       "        vertical-align: middle;\n",
       "    }\n",
       "\n",
       "    .dataframe tbody tr th {\n",
       "        vertical-align: top;\n",
       "    }\n",
       "\n",
       "    .dataframe thead th {\n",
       "        text-align: right;\n",
       "    }\n",
       "</style>\n",
       "<table border=\"1\" class=\"dataframe\">\n",
       "  <thead>\n",
       "    <tr style=\"text-align: right;\">\n",
       "      <th></th>\n",
       "      <th>loss</th>\n",
       "      <th>accuracy</th>\n",
       "      <th>recall</th>\n",
       "      <th>val_loss</th>\n",
       "      <th>val_accuracy</th>\n",
       "      <th>val_recall</th>\n",
       "    </tr>\n",
       "  </thead>\n",
       "  <tbody>\n",
       "    <tr>\n",
       "      <th>0</th>\n",
       "      <td>0.772393</td>\n",
       "      <td>0.546375</td>\n",
       "      <td>0.55025</td>\n",
       "      <td>0.681239</td>\n",
       "      <td>0.5475</td>\n",
       "      <td>0.350</td>\n",
       "    </tr>\n",
       "    <tr>\n",
       "      <th>1</th>\n",
       "      <td>0.691668</td>\n",
       "      <td>0.571125</td>\n",
       "      <td>0.56600</td>\n",
       "      <td>0.669159</td>\n",
       "      <td>0.5625</td>\n",
       "      <td>0.440</td>\n",
       "    </tr>\n",
       "    <tr>\n",
       "      <th>2</th>\n",
       "      <td>0.680773</td>\n",
       "      <td>0.572625</td>\n",
       "      <td>0.57250</td>\n",
       "      <td>0.730168</td>\n",
       "      <td>0.5450</td>\n",
       "      <td>0.175</td>\n",
       "    </tr>\n",
       "    <tr>\n",
       "      <th>3</th>\n",
       "      <td>0.670621</td>\n",
       "      <td>0.595000</td>\n",
       "      <td>0.59000</td>\n",
       "      <td>0.828261</td>\n",
       "      <td>0.5225</td>\n",
       "      <td>0.985</td>\n",
       "    </tr>\n",
       "    <tr>\n",
       "      <th>4</th>\n",
       "      <td>0.657364</td>\n",
       "      <td>0.612500</td>\n",
       "      <td>0.61250</td>\n",
       "      <td>0.670410</td>\n",
       "      <td>0.5600</td>\n",
       "      <td>0.600</td>\n",
       "    </tr>\n",
       "    <tr>\n",
       "      <th>5</th>\n",
       "      <td>0.649772</td>\n",
       "      <td>0.618250</td>\n",
       "      <td>0.61650</td>\n",
       "      <td>0.677816</td>\n",
       "      <td>0.5825</td>\n",
       "      <td>0.735</td>\n",
       "    </tr>\n",
       "    <tr>\n",
       "      <th>6</th>\n",
       "      <td>0.651326</td>\n",
       "      <td>0.624625</td>\n",
       "      <td>0.62575</td>\n",
       "      <td>0.676275</td>\n",
       "      <td>0.5900</td>\n",
       "      <td>0.820</td>\n",
       "    </tr>\n",
       "    <tr>\n",
       "      <th>7</th>\n",
       "      <td>0.641761</td>\n",
       "      <td>0.634500</td>\n",
       "      <td>0.62625</td>\n",
       "      <td>0.728407</td>\n",
       "      <td>0.5650</td>\n",
       "      <td>0.920</td>\n",
       "    </tr>\n",
       "    <tr>\n",
       "      <th>8</th>\n",
       "      <td>0.627624</td>\n",
       "      <td>0.647125</td>\n",
       "      <td>0.65500</td>\n",
       "      <td>0.674440</td>\n",
       "      <td>0.5925</td>\n",
       "      <td>0.730</td>\n",
       "    </tr>\n",
       "    <tr>\n",
       "      <th>9</th>\n",
       "      <td>0.630359</td>\n",
       "      <td>0.645625</td>\n",
       "      <td>0.64375</td>\n",
       "      <td>0.671786</td>\n",
       "      <td>0.6050</td>\n",
       "      <td>0.450</td>\n",
       "    </tr>\n",
       "    <tr>\n",
       "      <th>10</th>\n",
       "      <td>0.637328</td>\n",
       "      <td>0.626125</td>\n",
       "      <td>0.70225</td>\n",
       "      <td>0.740002</td>\n",
       "      <td>0.5550</td>\n",
       "      <td>0.210</td>\n",
       "    </tr>\n",
       "    <tr>\n",
       "      <th>11</th>\n",
       "      <td>0.621272</td>\n",
       "      <td>0.643625</td>\n",
       "      <td>0.69950</td>\n",
       "      <td>0.660462</td>\n",
       "      <td>0.5950</td>\n",
       "      <td>0.600</td>\n",
       "    </tr>\n",
       "    <tr>\n",
       "      <th>12</th>\n",
       "      <td>0.634855</td>\n",
       "      <td>0.632875</td>\n",
       "      <td>0.67375</td>\n",
       "      <td>0.659323</td>\n",
       "      <td>0.6025</td>\n",
       "      <td>0.600</td>\n",
       "    </tr>\n",
       "    <tr>\n",
       "      <th>13</th>\n",
       "      <td>0.614229</td>\n",
       "      <td>0.653000</td>\n",
       "      <td>0.66825</td>\n",
       "      <td>0.660588</td>\n",
       "      <td>0.6050</td>\n",
       "      <td>0.655</td>\n",
       "    </tr>\n",
       "    <tr>\n",
       "      <th>14</th>\n",
       "      <td>0.606151</td>\n",
       "      <td>0.672500</td>\n",
       "      <td>0.66925</td>\n",
       "      <td>0.668545</td>\n",
       "      <td>0.5950</td>\n",
       "      <td>0.610</td>\n",
       "    </tr>\n",
       "    <tr>\n",
       "      <th>15</th>\n",
       "      <td>0.598099</td>\n",
       "      <td>0.669250</td>\n",
       "      <td>0.67725</td>\n",
       "      <td>0.678223</td>\n",
       "      <td>0.5825</td>\n",
       "      <td>0.780</td>\n",
       "    </tr>\n",
       "    <tr>\n",
       "      <th>16</th>\n",
       "      <td>0.603283</td>\n",
       "      <td>0.665250</td>\n",
       "      <td>0.69000</td>\n",
       "      <td>0.690731</td>\n",
       "      <td>0.5800</td>\n",
       "      <td>0.380</td>\n",
       "    </tr>\n",
       "    <tr>\n",
       "      <th>17</th>\n",
       "      <td>0.618023</td>\n",
       "      <td>0.661125</td>\n",
       "      <td>0.67800</td>\n",
       "      <td>0.664747</td>\n",
       "      <td>0.5875</td>\n",
       "      <td>0.545</td>\n",
       "    </tr>\n",
       "    <tr>\n",
       "      <th>18</th>\n",
       "      <td>0.614744</td>\n",
       "      <td>0.654125</td>\n",
       "      <td>0.66175</td>\n",
       "      <td>0.681640</td>\n",
       "      <td>0.6050</td>\n",
       "      <td>0.410</td>\n",
       "    </tr>\n",
       "    <tr>\n",
       "      <th>19</th>\n",
       "      <td>0.612918</td>\n",
       "      <td>0.663125</td>\n",
       "      <td>0.68225</td>\n",
       "      <td>0.700181</td>\n",
       "      <td>0.6000</td>\n",
       "      <td>0.355</td>\n",
       "    </tr>\n",
       "  </tbody>\n",
       "</table>\n",
       "</div>"
      ],
      "text/plain": [
       "        loss  accuracy   recall  val_loss  val_accuracy  val_recall\n",
       "0   0.772393  0.546375  0.55025  0.681239        0.5475       0.350\n",
       "1   0.691668  0.571125  0.56600  0.669159        0.5625       0.440\n",
       "2   0.680773  0.572625  0.57250  0.730168        0.5450       0.175\n",
       "3   0.670621  0.595000  0.59000  0.828261        0.5225       0.985\n",
       "4   0.657364  0.612500  0.61250  0.670410        0.5600       0.600\n",
       "5   0.649772  0.618250  0.61650  0.677816        0.5825       0.735\n",
       "6   0.651326  0.624625  0.62575  0.676275        0.5900       0.820\n",
       "7   0.641761  0.634500  0.62625  0.728407        0.5650       0.920\n",
       "8   0.627624  0.647125  0.65500  0.674440        0.5925       0.730\n",
       "9   0.630359  0.645625  0.64375  0.671786        0.6050       0.450\n",
       "10  0.637328  0.626125  0.70225  0.740002        0.5550       0.210\n",
       "11  0.621272  0.643625  0.69950  0.660462        0.5950       0.600\n",
       "12  0.634855  0.632875  0.67375  0.659323        0.6025       0.600\n",
       "13  0.614229  0.653000  0.66825  0.660588        0.6050       0.655\n",
       "14  0.606151  0.672500  0.66925  0.668545        0.5950       0.610\n",
       "15  0.598099  0.669250  0.67725  0.678223        0.5825       0.780\n",
       "16  0.603283  0.665250  0.69000  0.690731        0.5800       0.380\n",
       "17  0.618023  0.661125  0.67800  0.664747        0.5875       0.545\n",
       "18  0.614744  0.654125  0.66175  0.681640        0.6050       0.410\n",
       "19  0.612918  0.663125  0.68225  0.700181        0.6000       0.355"
      ]
     },
     "execution_count": 21,
     "metadata": {},
     "output_type": "execute_result"
    }
   ],
   "source": [
    "## Get History \n",
    "history_df = pd.DataFrame(history.history)\n",
    "history_df"
   ]
  },
  {
   "cell_type": "code",
   "execution_count": 22,
   "metadata": {
    "ExecuteTime": {
     "end_time": "2020-12-04T16:31:46.561144Z",
     "start_time": "2020-12-04T16:31:46.103876Z"
    }
   },
   "outputs": [
    {
     "data": {
      "image/png": "[encoded data removed]",
      "text/plain": [
       "<Figure size 432x288 with 1 Axes>"
      ]
     },
     "metadata": {
      "needs_background": "light"
     },
     "output_type": "display_data"
    },
    {
     "data": {
      "image/png": "[encoded data removed]",
      "text/plain": [
       "<Figure size 432x288 with 1 Axes>"
      ]
     },
     "metadata": {
      "needs_background": "light"
     },
     "output_type": "display_data"
    },
    {
     "data": {
      "image/png": "[encoded data removed]",
      "text/plain": [
       "<Figure size 432x288 with 1 Axes>"
      ]
     },
     "metadata": {
      "needs_background": "light"
     },
     "output_type": "display_data"
    }
   ],
   "source": [
    "metrics = ['recall','loss','accuracy']\n",
    "for metric in metrics:\n",
    "    plot_metrics = history_df[[col for col in history_df.columns if metric in col]]\n",
    "    plot_metrics.plot(marker='o')"
   ]
  },
  {
   "cell_type": "code",
   "execution_count": 23,
   "metadata": {
    "ExecuteTime": {
     "end_time": "2020-12-04T16:31:46.713055Z",
     "start_time": "2020-12-04T16:31:46.570201Z"
    }
   },
   "outputs": [
    {
     "data": {
      "text/plain": [
       "array([[0.],\n",
       "       [0.],\n",
       "       [0.],\n",
       "       ...,\n",
       "       [0.],\n",
       "       [0.],\n",
       "       [0.]], dtype=float32)"
      ]
     },
     "execution_count": 23,
     "metadata": {},
     "output_type": "execute_result"
    }
   ],
   "source": [
    "## Get PRedictions\n",
    "y_hat_test = model_1.predict(X_test_unrow).round()\n",
    "y_hat_test"
   ]
  },
  {
   "cell_type": "code",
   "execution_count": 24,
   "metadata": {
    "ExecuteTime": {
     "end_time": "2020-12-04T16:31:46.726687Z",
     "start_time": "2020-12-04T16:31:46.716330Z"
    }
   },
   "outputs": [
    {
     "name": "stdout",
     "output_type": "stream",
     "text": [
      "              precision    recall  f1-score   support\n",
      "\n",
      "         0.0       0.58      0.86      0.69       800\n",
      "         1.0       0.72      0.37      0.49       800\n",
      "\n",
      "    accuracy                           0.61      1600\n",
      "   macro avg       0.65      0.61      0.59      1600\n",
      "weighted avg       0.65      0.61      0.59      1600\n",
      "\n"
     ]
    }
   ],
   "source": [
    "from sklearn import metrics\n",
    "print(metrics.classification_report(y_test,y_hat_test))"
   ]
  },
  {
   "cell_type": "markdown",
   "metadata": {},
   "source": [
    "### Functionize Model Creation & Plotting"
   ]
  },
  {
   "cell_type": "code",
   "execution_count": 25,
   "metadata": {
    "ExecuteTime": {
     "end_time": "2020-12-04T16:31:46.733012Z",
     "start_time": "2020-12-04T16:31:46.728645Z"
    }
   },
   "outputs": [],
   "source": [
    "def make_model():\n",
    "    model_1 = Sequential()\n",
    "    model_1.add(Dense(64,activation='relu',\n",
    "                      input_shape=(X_train_unrow.shape[1],)))\n",
    "    \n",
    "    model_1.add(Dense(32,activation='relu'))\n",
    "    \n",
    "    model_1.add(Dense(1,activation='sigmoid'))\n",
    "    model_1.compile(optimizer='adam',loss='binary_crossentropy',\n",
    "                    metrics=['accuracy'])#,tf.keras.metrics.Recall()])\n",
    "    display(model_1.summary())\n",
    "    return model_1"
   ]
  },
  {
   "cell_type": "code",
   "execution_count": 26,
   "metadata": {
    "ExecuteTime": {
     "end_time": "2020-12-04T16:31:46.739472Z",
     "start_time": "2020-12-04T16:31:46.735303Z"
    }
   },
   "outputs": [],
   "source": [
    "def plot_history(history_df,metrics = ['loss','accuracy']):\n",
    "    if isinstance(history_df, pd.DataFrame)==False:\n",
    "        history_df = pd.DataFrame(history_df.history)\n",
    "        \n",
    "    \n",
    "    for metric in metrics:\n",
    "        plot_metrics = history_df[[col for col in history_df.columns if metric in col]]\n",
    "        plot_metrics.plot(marker='o')\n",
    "        "
   ]
  },
  {
   "cell_type": "code",
   "execution_count": 27,
   "metadata": {
    "ExecuteTime": {
     "end_time": "2020-12-04T16:32:03.509474Z",
     "start_time": "2020-12-04T16:31:46.742208Z"
    },
    "scrolled": false
   },
   "outputs": [
    {
     "name": "stdout",
     "output_type": "stream",
     "text": [
      "Model: \"sequential_1\"\n",
      "_________________________________________________________________\n",
      "Layer (type)                 Output Shape              Param #   \n",
      "=================================================================\n",
      "dense_2 (Dense)              (None, 64)                786496    \n",
      "_________________________________________________________________\n",
      "dense_3 (Dense)              (None, 32)                2080      \n",
      "_________________________________________________________________\n",
      "dense_4 (Dense)              (None, 1)                 33        \n",
      "=================================================================\n",
      "Total params: 788,609\n",
      "Trainable params: 788,609\n",
      "Non-trainable params: 0\n",
      "_________________________________________________________________\n"
     ]
    },
    {
     "data": {
      "text/plain": [
       "None"
      ]
     },
     "metadata": {},
     "output_type": "display_data"
    },
    {
     "name": "stdout",
     "output_type": "stream",
     "text": [
      "Epoch 1/20\n",
      "250/250 [==============================] - 1s 4ms/step - loss: 0.7248 - accuracy: 0.5249 - val_loss: 0.6884 - val_accuracy: 0.5400\n",
      "Epoch 2/20\n",
      "250/250 [==============================] - 1s 3ms/step - loss: 0.6821 - accuracy: 0.5651 - val_loss: 0.6948 - val_accuracy: 0.5150\n",
      "Epoch 3/20\n",
      "250/250 [==============================] - 1s 4ms/step - loss: 0.6747 - accuracy: 0.5786 - val_loss: 0.6797 - val_accuracy: 0.5525\n",
      "Epoch 4/20\n",
      "250/250 [==============================] - 1s 4ms/step - loss: 0.6730 - accuracy: 0.5865 - val_loss: 0.6761 - val_accuracy: 0.5950\n",
      "Epoch 5/20\n",
      "250/250 [==============================] - 1s 4ms/step - loss: 0.6618 - accuracy: 0.6008 - val_loss: 0.6726 - val_accuracy: 0.5950\n",
      "Epoch 6/20\n",
      "250/250 [==============================] - 1s 3ms/step - loss: 0.6609 - accuracy: 0.6118 - val_loss: 0.6891 - val_accuracy: 0.5775\n",
      "Epoch 7/20\n",
      "250/250 [==============================] - 1s 3ms/step - loss: 0.6559 - accuracy: 0.6068 - val_loss: 0.6656 - val_accuracy: 0.5875\n",
      "Epoch 8/20\n",
      "250/250 [==============================] - 1s 3ms/step - loss: 0.6458 - accuracy: 0.6260 - val_loss: 0.6797 - val_accuracy: 0.5700\n",
      "Epoch 9/20\n",
      "250/250 [==============================] - 1s 3ms/step - loss: 0.6402 - accuracy: 0.6280 - val_loss: 0.6763 - val_accuracy: 0.5925\n",
      "Epoch 10/20\n",
      "250/250 [==============================] - 1s 3ms/step - loss: 0.6360 - accuracy: 0.6391 - val_loss: 0.6803 - val_accuracy: 0.5850\n",
      "Epoch 11/20\n",
      "250/250 [==============================] - 1s 3ms/step - loss: 0.6326 - accuracy: 0.6429 - val_loss: 0.7006 - val_accuracy: 0.5500\n",
      "Epoch 12/20\n",
      "250/250 [==============================] - 1s 3ms/step - loss: 0.6249 - accuracy: 0.6455 - val_loss: 0.6704 - val_accuracy: 0.5775\n",
      "Epoch 13/20\n",
      "250/250 [==============================] - 1s 3ms/step - loss: 0.6264 - accuracy: 0.6478 - val_loss: 0.6600 - val_accuracy: 0.6300\n",
      "Epoch 14/20\n",
      "250/250 [==============================] - 1s 3ms/step - loss: 0.6251 - accuracy: 0.6407 - val_loss: 0.6659 - val_accuracy: 0.5650\n",
      "Epoch 15/20\n",
      "250/250 [==============================] - 1s 3ms/step - loss: 0.6112 - accuracy: 0.6616 - val_loss: 0.6832 - val_accuracy: 0.5950\n",
      "Epoch 16/20\n",
      "250/250 [==============================] - 1s 3ms/step - loss: 0.6049 - accuracy: 0.6601 - val_loss: 0.6551 - val_accuracy: 0.6100\n",
      "Epoch 17/20\n",
      "250/250 [==============================] - 1s 3ms/step - loss: 0.6080 - accuracy: 0.6559 - val_loss: 0.7007 - val_accuracy: 0.5800\n",
      "Epoch 18/20\n",
      "250/250 [==============================] - 1s 3ms/step - loss: 0.6185 - accuracy: 0.6596 - val_loss: 0.6888 - val_accuracy: 0.5650\n",
      "Epoch 19/20\n",
      "250/250 [==============================] - 1s 3ms/step - loss: 0.6374 - accuracy: 0.6385 - val_loss: 0.6598 - val_accuracy: 0.6075\n",
      "Epoch 20/20\n",
      "250/250 [==============================] - 1s 3ms/step - loss: 0.6204 - accuracy: 0.6582 - val_loss: 0.7104 - val_accuracy: 0.5725\n"
     ]
    },
    {
     "data": {
      "image/png": "[encoded data removed]",
      "text/plain": [
       "<Figure size 432x288 with 1 Axes>"
      ]
     },
     "metadata": {
      "needs_background": "light"
     },
     "output_type": "display_data"
    },
    {
     "data": {
      "image/png": "[encoded data removed]",
      "text/plain": [
       "<Figure size 432x288 with 1 Axes>"
      ]
     },
     "metadata": {
      "needs_background": "light"
     },
     "output_type": "display_data"
    }
   ],
   "source": [
    "model_2 = make_model()\n",
    "history_2 = model_2.fit(X_train_unrow,y_train,epochs=20,\n",
    "                      validation_data=(X_val_unrow,y_val),\n",
    "                     )\n",
    "plot_history(history_2)"
   ]
  },
  {
   "cell_type": "markdown",
   "metadata": {},
   "source": [
    "### Combine the Whole Process Into One Func"
   ]
  },
  {
   "cell_type": "code",
   "execution_count": 28,
   "metadata": {
    "ExecuteTime": {
     "end_time": "2020-12-04T16:32:03.516809Z",
     "start_time": "2020-12-04T16:32:03.511675Z"
    }
   },
   "outputs": [],
   "source": [
    "def make_fit_plot_model(build_fn=make_model,epochs=10,fit_kws={'batch_size':32}):\n",
    "    model_1 = build_fn()\n",
    "    history = model_1.fit(X_train_unrow,y_train,epochs=epochs,**fit_kws,\n",
    "                          validation_data=(X_val_unrow,y_val),\n",
    "                         )\n",
    "    plot_history(history)\n",
    "    plt.show()\n",
    "    \n",
    "    y_hat_test = model_1.predict(X_test_unrow).round()\n",
    "    print(metrics.classification_report(y_test,y_hat_test))\n",
    "    \n",
    "    ## Get and PLot the confusion matrix\n",
    "    cm = metrics.confusion_matrix(y_test, y_hat_test,\n",
    "                                normalize='true')\n",
    "\n",
    "    ax = sns.heatmap(cm, cmap='Blues',annot=True,square=True)\n",
    "    ax.set(xlabel='Predicted Class',ylabel='True Class')    \n",
    "    return model_1\n"
   ]
  },
  {
   "cell_type": "code",
   "execution_count": 29,
   "metadata": {
    "ExecuteTime": {
     "end_time": "2020-12-04T16:32:19.978437Z",
     "start_time": "2020-12-04T16:32:03.518837Z"
    },
    "scrolled": false
   },
   "outputs": [
    {
     "name": "stdout",
     "output_type": "stream",
     "text": [
      "Model: \"sequential_2\"\n",
      "_________________________________________________________________\n",
      "Layer (type)                 Output Shape              Param #   \n",
      "=================================================================\n",
      "dense_5 (Dense)              (None, 64)                786496    \n",
      "_________________________________________________________________\n",
      "dense_6 (Dense)              (None, 32)                2080      \n",
      "_________________________________________________________________\n",
      "dense_7 (Dense)              (None, 1)                 33        \n",
      "=================================================================\n",
      "Total params: 788,609\n",
      "Trainable params: 788,609\n",
      "Non-trainable params: 0\n",
      "_________________________________________________________________\n"
     ]
    },
    {
     "data": {
      "text/plain": [
       "None"
      ]
     },
     "metadata": {},
     "output_type": "display_data"
    },
    {
     "name": "stdout",
     "output_type": "stream",
     "text": [
      "Epoch 1/20\n",
      "250/250 [==============================] - 1s 3ms/step - loss: 0.7506 - accuracy: 0.5389 - val_loss: 0.6786 - val_accuracy: 0.5775\n",
      "Epoch 2/20\n",
      "250/250 [==============================] - 1s 3ms/step - loss: 0.6779 - accuracy: 0.5727 - val_loss: 0.6756 - val_accuracy: 0.5625\n",
      "Epoch 3/20\n",
      "250/250 [==============================] - 1s 3ms/step - loss: 0.6719 - accuracy: 0.5935 - val_loss: 0.6763 - val_accuracy: 0.5500\n",
      "Epoch 4/20\n",
      "250/250 [==============================] - 1s 3ms/step - loss: 0.6706 - accuracy: 0.5905 - val_loss: 0.6735 - val_accuracy: 0.5625\n",
      "Epoch 5/20\n",
      "250/250 [==============================] - 1s 3ms/step - loss: 0.6677 - accuracy: 0.5882 - val_loss: 0.6798 - val_accuracy: 0.5525\n",
      "Epoch 6/20\n",
      "250/250 [==============================] - 1s 3ms/step - loss: 0.6605 - accuracy: 0.6061 - val_loss: 0.6692 - val_accuracy: 0.5675\n",
      "Epoch 7/20\n",
      "250/250 [==============================] - 1s 3ms/step - loss: 0.6651 - accuracy: 0.5979 - val_loss: 0.6809 - val_accuracy: 0.5725\n",
      "Epoch 8/20\n",
      "250/250 [==============================] - 1s 3ms/step - loss: 0.6447 - accuracy: 0.6284 - val_loss: 0.7620 - val_accuracy: 0.5200\n",
      "Epoch 9/20\n",
      "250/250 [==============================] - 1s 3ms/step - loss: 0.6458 - accuracy: 0.6189 - val_loss: 0.6703 - val_accuracy: 0.5800\n",
      "Epoch 10/20\n",
      "250/250 [==============================] - 1s 3ms/step - loss: 0.6438 - accuracy: 0.6220 - val_loss: 0.6721 - val_accuracy: 0.5825\n",
      "Epoch 11/20\n",
      "250/250 [==============================] - 1s 3ms/step - loss: 0.6438 - accuracy: 0.6335 - val_loss: 0.7143 - val_accuracy: 0.5475\n",
      "Epoch 12/20\n",
      "250/250 [==============================] - 1s 3ms/step - loss: 0.6226 - accuracy: 0.6510 - val_loss: 0.6680 - val_accuracy: 0.5800\n",
      "Epoch 13/20\n",
      "250/250 [==============================] - 1s 3ms/step - loss: 0.6441 - accuracy: 0.6250 - val_loss: 0.6705 - val_accuracy: 0.5850\n",
      "Epoch 14/20\n",
      "250/250 [==============================] - 1s 3ms/step - loss: 0.6382 - accuracy: 0.6292 - val_loss: 0.6694 - val_accuracy: 0.6000\n",
      "Epoch 15/20\n",
      "250/250 [==============================] - 1s 3ms/step - loss: 0.6191 - accuracy: 0.6568 - val_loss: 0.6634 - val_accuracy: 0.6025\n",
      "Epoch 16/20\n",
      "250/250 [==============================] - 1s 3ms/step - loss: 0.6128 - accuracy: 0.6616 - val_loss: 0.6595 - val_accuracy: 0.6200\n",
      "Epoch 17/20\n",
      "250/250 [==============================] - 1s 3ms/step - loss: 0.6146 - accuracy: 0.6562 - val_loss: 0.7246 - val_accuracy: 0.5675\n",
      "Epoch 18/20\n",
      "250/250 [==============================] - 1s 3ms/step - loss: 0.6212 - accuracy: 0.6559 - val_loss: 0.7045 - val_accuracy: 0.5850\n",
      "Epoch 19/20\n",
      "250/250 [==============================] - 1s 3ms/step - loss: 0.5998 - accuracy: 0.6678 - val_loss: 0.6601 - val_accuracy: 0.6125\n",
      "Epoch 20/20\n",
      "250/250 [==============================] - 1s 3ms/step - loss: 0.5958 - accuracy: 0.6755 - val_loss: 0.6930 - val_accuracy: 0.5950\n"
     ]
    },
    {
     "data": {
      "image/png": "[encoded data removed]",
      "text/plain": [
       "<Figure size 432x288 with 1 Axes>"
      ]
     },
     "metadata": {
      "needs_background": "light"
     },
     "output_type": "display_data"
    },
    {
     "data": {
      "image/png": "[encoded data removed]",
      "text/plain": [
       "<Figure size 432x288 with 1 Axes>"
      ]
     },
     "metadata": {
      "needs_background": "light"
     },
     "output_type": "display_data"
    },
    {
     "name": "stdout",
     "output_type": "stream",
     "text": [
      "              precision    recall  f1-score   support\n",
      "\n",
      "         0.0       0.57      0.89      0.70       800\n",
      "         1.0       0.75      0.34      0.46       800\n",
      "\n",
      "    accuracy                           0.61      1600\n",
      "   macro avg       0.66      0.61      0.58      1600\n",
      "weighted avg       0.66      0.61      0.58      1600\n",
      "\n"
     ]
    },
    {
     "data": {
      "image/png": "[encoded data removed]",
      "text/plain": [
       "<Figure size 432x288 with 2 Axes>"
      ]
     },
     "metadata": {
      "needs_background": "light"
     },
     "output_type": "display_data"
    }
   ],
   "source": [
    "def make_model():\n",
    "    model_1 = Sequential()\n",
    "    model_1.add(Dense(64,activation='relu',\n",
    "                      input_shape=(X_train_unrow.shape[1],)))\n",
    "    \n",
    "    model_1.add(Dense(32,activation='relu'))\n",
    "    \n",
    "    model_1.add(Dense(1,activation='sigmoid'))\n",
    "    model_1.compile(optimizer='adam',loss='binary_crossentropy',\n",
    "                    metrics=['accuracy'])#,tf.keras.metrics.Recall()])\n",
    "    display(model_1.summary())\n",
    "    return model_1\n",
    "\n",
    "\n",
    "model = make_fit_plot_model(make_model,epochs=20)"
   ]
  },
  {
   "cell_type": "code",
   "execution_count": 30,
   "metadata": {
    "ExecuteTime": {
     "end_time": "2020-12-04T16:32:19.989394Z",
     "start_time": "2020-12-04T16:32:19.980599Z"
    }
   },
   "outputs": [
    {
     "data": {
      "text/plain": [
       "1.0    0.5\n",
       "0.0    0.5\n",
       "dtype: float64"
      ]
     },
     "execution_count": 30,
     "metadata": {},
     "output_type": "execute_result"
    }
   ],
   "source": [
    "pd.Series(y_train).value_counts(1)"
   ]
  },
  {
   "cell_type": "markdown",
   "metadata": {},
   "source": [
    "## Activity: Ok...so now what??"
   ]
  },
  {
   "cell_type": "markdown",
   "metadata": {},
   "source": [
    "> Using the rules of thumb and your own knowledge/research, attempt several methods to improve the results of the model. "
   ]
  },
  {
   "cell_type": "code",
   "execution_count": 31,
   "metadata": {
    "ExecuteTime": {
     "end_time": "2020-12-04T16:32:48.537474Z",
     "start_time": "2020-12-04T16:32:19.991075Z"
    },
    "scrolled": false
   },
   "outputs": [
    {
     "name": "stdout",
     "output_type": "stream",
     "text": [
      "Model: \"sequential_3\"\n",
      "_________________________________________________________________\n",
      "Layer (type)                 Output Shape              Param #   \n",
      "=================================================================\n",
      "dense_8 (Dense)              (None, 64)                786496    \n",
      "_________________________________________________________________\n",
      "dense_9 (Dense)              (None, 32)                2080      \n",
      "_________________________________________________________________\n",
      "dense_10 (Dense)             (None, 16)                528       \n",
      "_________________________________________________________________\n",
      "dropout (Dropout)            (None, 16)                0         \n",
      "_________________________________________________________________\n",
      "dense_11 (Dense)             (None, 1)                 17        \n",
      "=================================================================\n",
      "Total params: 789,121\n",
      "Trainable params: 789,121\n",
      "Non-trainable params: 0\n",
      "_________________________________________________________________\n"
     ]
    },
    {
     "data": {
      "text/plain": [
       "None"
      ]
     },
     "metadata": {},
     "output_type": "display_data"
    },
    {
     "name": "stdout",
     "output_type": "stream",
     "text": [
      "Epoch 1/20\n",
      "250/250 [==============================] - 1s 5ms/step - loss: 0.7825 - accuracy: 0.5023 - val_loss: 0.6933 - val_accuracy: 0.5000\n",
      "Epoch 2/20\n",
      "250/250 [==============================] - 1s 5ms/step - loss: 0.6987 - accuracy: 0.5316 - val_loss: 0.7210 - val_accuracy: 0.5200\n",
      "Epoch 3/20\n",
      "250/250 [==============================] - 1s 5ms/step - loss: 0.6895 - accuracy: 0.5546 - val_loss: 0.6913 - val_accuracy: 0.5250\n",
      "Epoch 4/20\n",
      "250/250 [==============================] - 1s 5ms/step - loss: 0.6884 - accuracy: 0.5443 - val_loss: 0.6902 - val_accuracy: 0.5250\n",
      "Epoch 5/20\n",
      "250/250 [==============================] - 1s 5ms/step - loss: 0.6824 - accuracy: 0.5661 - val_loss: 0.6877 - val_accuracy: 0.5275\n",
      "Epoch 6/20\n",
      "250/250 [==============================] - 1s 5ms/step - loss: 0.6763 - accuracy: 0.5707 - val_loss: 0.6935 - val_accuracy: 0.5500\n",
      "Epoch 7/20\n",
      "250/250 [==============================] - 1s 5ms/step - loss: 0.6711 - accuracy: 0.5894 - val_loss: 0.6915 - val_accuracy: 0.5700\n",
      "Epoch 8/20\n",
      "250/250 [==============================] - 1s 6ms/step - loss: 0.6667 - accuracy: 0.5969 - val_loss: 0.7036 - val_accuracy: 0.5375\n",
      "Epoch 9/20\n",
      "250/250 [==============================] - 1s 6ms/step - loss: 0.6627 - accuracy: 0.6022 - val_loss: 0.6875 - val_accuracy: 0.5675\n",
      "Epoch 10/20\n",
      "250/250 [==============================] - 2s 6ms/step - loss: 0.6601 - accuracy: 0.6018 - val_loss: 0.7000 - val_accuracy: 0.5825\n",
      "Epoch 11/20\n",
      "250/250 [==============================] - 2s 6ms/step - loss: 0.6584 - accuracy: 0.6021 - val_loss: 0.6850 - val_accuracy: 0.5775\n",
      "Epoch 12/20\n",
      "250/250 [==============================] - 1s 6ms/step - loss: 0.6554 - accuracy: 0.6116 - val_loss: 0.6885 - val_accuracy: 0.5925\n",
      "Epoch 13/20\n",
      "250/250 [==============================] - 1s 5ms/step - loss: 0.6518 - accuracy: 0.6169 - val_loss: 0.7081 - val_accuracy: 0.5950\n",
      "Epoch 14/20\n",
      "250/250 [==============================] - 1s 6ms/step - loss: 0.6511 - accuracy: 0.6176 - val_loss: 0.6886 - val_accuracy: 0.6050\n",
      "Epoch 15/20\n",
      "250/250 [==============================] - 1s 6ms/step - loss: 0.6476 - accuracy: 0.6187 - val_loss: 0.6986 - val_accuracy: 0.6000\n",
      "Epoch 16/20\n",
      "250/250 [==============================] - 1s 5ms/step - loss: 0.6424 - accuracy: 0.6265 - val_loss: 0.7075 - val_accuracy: 0.5925\n",
      "Epoch 17/20\n",
      "250/250 [==============================] - 1s 6ms/step - loss: 0.6453 - accuracy: 0.6325 - val_loss: 0.6914 - val_accuracy: 0.6050\n",
      "Epoch 18/20\n",
      "250/250 [==============================] - 1s 5ms/step - loss: 0.6432 - accuracy: 0.6291 - val_loss: 0.6782 - val_accuracy: 0.6050\n",
      "Epoch 19/20\n",
      "250/250 [==============================] - 1s 6ms/step - loss: 0.6413 - accuracy: 0.6281 - val_loss: 0.6869 - val_accuracy: 0.6000\n",
      "Epoch 20/20\n",
      "250/250 [==============================] - 1s 5ms/step - loss: 0.6355 - accuracy: 0.6330 - val_loss: 0.6882 - val_accuracy: 0.5800\n"
     ]
    },
    {
     "data": {
      "image/png": "[encoded data removed]",
      "text/plain": [
       "<Figure size 432x288 with 1 Axes>"
      ]
     },
     "metadata": {
      "needs_background": "light"
     },
     "output_type": "display_data"
    },
    {
     "data": {
      "image/png": "[encoded data removed]",
      "text/plain": [
       "<Figure size 432x288 with 1 Axes>"
      ]
     },
     "metadata": {
      "needs_background": "light"
     },
     "output_type": "display_data"
    },
    {
     "name": "stdout",
     "output_type": "stream",
     "text": [
      "              precision    recall  f1-score   support\n",
      "\n",
      "         0.0       0.69      0.39      0.50       800\n",
      "         1.0       0.58      0.83      0.68       800\n",
      "\n",
      "    accuracy                           0.61      1600\n",
      "   macro avg       0.63      0.61      0.59      1600\n",
      "weighted avg       0.63      0.61      0.59      1600\n",
      "\n"
     ]
    },
    {
     "data": {
      "image/png": "[encoded data removed]",
      "text/plain": [
       "<Figure size 432x288 with 2 Axes>"
      ]
     },
     "metadata": {
      "needs_background": "light"
     },
     "output_type": "display_data"
    }
   ],
   "source": [
    "def make_model():\n",
    "    model_1 = Sequential()\n",
    "    model_1.add(Dense(64,activation='relu',\n",
    "                      input_shape=(X_train_unrow.shape[1],)))\n",
    "    model_1.add(Dense(32,activation='relu'))\n",
    "    model_1.add(layers.Dense(16,activation='relu'))\n",
    "    model_1.add(layers.Dropout(0.3))\n",
    "\n",
    "    model_1.add(Dense(1,activation='sigmoid'))\n",
    "    model_1.compile(optimizer='rmsprop',loss='binary_crossentropy',\n",
    "                    metrics=['accuracy'])#,tf.keras.metrics.Recall()])\n",
    "    display(model_1.summary())\n",
    "    return model_1\n",
    "\n",
    "model_3 = make_fit_plot_model(make_model,epochs=20)"
   ]
  },
  {
   "cell_type": "code",
   "execution_count": 32,
   "metadata": {
    "ExecuteTime": {
     "end_time": "2020-12-04T16:32:48.541372Z",
     "start_time": "2020-12-04T16:32:48.539171Z"
    }
   },
   "outputs": [],
   "source": [
    "# def make_model4():\n",
    "#     model = Sequential()\n",
    "#     model.add(Dense(64,activation='relu',\n",
    "#                       input_shape=(X_train_unrow.shape[1],)))\n",
    "    \n",
    "#     model.add(Dense(32,activation='relu'))\n",
    "    \n",
    "\n",
    "#     model.add(Dense(1,activation='sigmoid'))\n",
    "#     model.compile(optimizer='rmsprop',loss='binary_crossentropy',\n",
    "#                     metrics=['accuracy',tf.keras.metrics.Recall()])\n",
    "#     display(model.summary())\n",
    "#     return model\n",
    "\n",
    "# model_4 = make_fit_plot_model(make_model4)"
   ]
  },
  {
   "cell_type": "code",
   "execution_count": 33,
   "metadata": {
    "ExecuteTime": {
     "end_time": "2020-12-04T16:33:05.171866Z",
     "start_time": "2020-12-04T16:32:48.543518Z"
    }
   },
   "outputs": [
    {
     "name": "stdout",
     "output_type": "stream",
     "text": [
      "Model: \"sequential_4\"\n",
      "_________________________________________________________________\n",
      "Layer (type)                 Output Shape              Param #   \n",
      "=================================================================\n",
      "dense_12 (Dense)             (None, 64)                786496    \n",
      "_________________________________________________________________\n",
      "dense_13 (Dense)             (None, 32)                2080      \n",
      "_________________________________________________________________\n",
      "dense_14 (Dense)             (None, 16)                528       \n",
      "_________________________________________________________________\n",
      "dense_15 (Dense)             (None, 1)                 17        \n",
      "=================================================================\n",
      "Total params: 789,121\n",
      "Trainable params: 789,121\n",
      "Non-trainable params: 0\n",
      "_________________________________________________________________\n"
     ]
    },
    {
     "data": {
      "text/plain": [
       "None"
      ]
     },
     "metadata": {},
     "output_type": "display_data"
    },
    {
     "name": "stdout",
     "output_type": "stream",
     "text": [
      "Epoch 1/20\n",
      "250/250 [==============================] - 1s 3ms/step - loss: 0.7023 - accuracy: 0.5056 - val_loss: 0.6932 - val_accuracy: 0.5000\n",
      "Epoch 2/20\n",
      "250/250 [==============================] - 1s 3ms/step - loss: 0.6932 - accuracy: 0.4967 - val_loss: 0.6931 - val_accuracy: 0.5000\n",
      "Epoch 3/20\n",
      "250/250 [==============================] - 1s 3ms/step - loss: 0.6932 - accuracy: 0.4930 - val_loss: 0.6931 - val_accuracy: 0.5000\n",
      "Epoch 4/20\n",
      "250/250 [==============================] - 1s 3ms/step - loss: 0.6932 - accuracy: 0.5000 - val_loss: 0.6931 - val_accuracy: 0.5000\n",
      "Epoch 5/20\n",
      "250/250 [==============================] - 1s 3ms/step - loss: 0.6932 - accuracy: 0.4960 - val_loss: 0.6931 - val_accuracy: 0.5000\n",
      "Epoch 6/20\n",
      "250/250 [==============================] - 1s 3ms/step - loss: 0.6932 - accuracy: 0.4965 - val_loss: 0.6932 - val_accuracy: 0.5000\n",
      "Epoch 7/20\n",
      "250/250 [==============================] - 1s 3ms/step - loss: 0.6932 - accuracy: 0.5000 - val_loss: 0.6931 - val_accuracy: 0.5000\n",
      "Epoch 8/20\n",
      "250/250 [==============================] - 1s 3ms/step - loss: 0.6932 - accuracy: 0.5000 - val_loss: 0.6932 - val_accuracy: 0.5000\n",
      "Epoch 9/20\n",
      "250/250 [==============================] - 1s 3ms/step - loss: 0.6932 - accuracy: 0.4972 - val_loss: 0.6931 - val_accuracy: 0.5000\n",
      "Epoch 10/20\n",
      "250/250 [==============================] - 1s 3ms/step - loss: 0.6932 - accuracy: 0.4952 - val_loss: 0.6931 - val_accuracy: 0.5000\n",
      "Epoch 11/20\n",
      "250/250 [==============================] - 1s 3ms/step - loss: 0.6932 - accuracy: 0.4935 - val_loss: 0.6931 - val_accuracy: 0.5000\n",
      "Epoch 12/20\n",
      "250/250 [==============================] - 1s 3ms/step - loss: 0.6932 - accuracy: 0.4895 - val_loss: 0.6931 - val_accuracy: 0.5000\n",
      "Epoch 13/20\n",
      "250/250 [==============================] - 1s 3ms/step - loss: 0.6932 - accuracy: 0.4955 - val_loss: 0.6931 - val_accuracy: 0.5000\n",
      "Epoch 14/20\n",
      "250/250 [==============================] - 1s 3ms/step - loss: 0.6932 - accuracy: 0.4988 - val_loss: 0.6931 - val_accuracy: 0.5000\n",
      "Epoch 15/20\n",
      "250/250 [==============================] - 1s 3ms/step - loss: 0.6932 - accuracy: 0.4905 - val_loss: 0.6931 - val_accuracy: 0.5000\n",
      "Epoch 16/20\n",
      "250/250 [==============================] - 1s 3ms/step - loss: 0.6932 - accuracy: 0.4978 - val_loss: 0.6931 - val_accuracy: 0.5000\n",
      "Epoch 17/20\n",
      "250/250 [==============================] - 1s 3ms/step - loss: 0.6932 - accuracy: 0.4942 - val_loss: 0.6931 - val_accuracy: 0.5000\n",
      "Epoch 18/20\n",
      "250/250 [==============================] - 1s 3ms/step - loss: 0.6932 - accuracy: 0.4952 - val_loss: 0.6931 - val_accuracy: 0.5000\n",
      "Epoch 19/20\n",
      "250/250 [==============================] - 1s 3ms/step - loss: 0.6932 - accuracy: 0.4995 - val_loss: 0.6931 - val_accuracy: 0.5000\n",
      "Epoch 20/20\n",
      "250/250 [==============================] - 1s 3ms/step - loss: 0.6932 - accuracy: 0.4990 - val_loss: 0.6931 - val_accuracy: 0.5000\n"
     ]
    },
    {
     "data": {
      "image/png": "[encoded data removed]",
      "text/plain": [
       "<Figure size 432x288 with 1 Axes>"
      ]
     },
     "metadata": {
      "needs_background": "light"
     },
     "output_type": "display_data"
    },
    {
     "data": {
      "image/png": "[encoded data removed]",
      "text/plain": [
       "<Figure size 432x288 with 1 Axes>"
      ]
     },
     "metadata": {
      "needs_background": "light"
     },
     "output_type": "display_data"
    },
    {
     "name": "stdout",
     "output_type": "stream",
     "text": [
      "              precision    recall  f1-score   support\n",
      "\n",
      "         0.0       0.00      0.00      0.00       800\n",
      "         1.0       0.50      1.00      0.67       800\n",
      "\n",
      "    accuracy                           0.50      1600\n",
      "   macro avg       0.25      0.50      0.33      1600\n",
      "weighted avg       0.25      0.50      0.33      1600\n",
      "\n"
     ]
    },
    {
     "name": "stderr",
     "output_type": "stream",
     "text": [
      "/opt/anaconda3/envs/learn-env/lib/python3.6/site-packages/sklearn/metrics/_classification.py:1221: UndefinedMetricWarning:\n",
      "\n",
      "Precision and F-score are ill-defined and being set to 0.0 in labels with no predicted samples. Use `zero_division` parameter to control this behavior.\n",
      "\n"
     ]
    },
    {
     "data": {
      "image/png": "[encoded data removed]",
      "text/plain": [
       "<Figure size 432x288 with 2 Axes>"
      ]
     },
     "metadata": {
      "needs_background": "light"
     },
     "output_type": "display_data"
    }
   ],
   "source": [
    "def make_model(activation='relu'):#tf.keras.layers.LeakyReLU()):\n",
    "    model_1 = Sequential()\n",
    "    model_1.add(Dense(64,activation=activation,\n",
    "                      input_shape=(X_train_unrow.shape[1],)))\n",
    "    model_1.add(Dense(32,activation=activation))\n",
    "#     model_1.add(layers.Dropout(0.3))\n",
    "\n",
    "    model_1.add(layers.Dense(16,activation=activation))\n",
    "\n",
    "    model_1.add(Dense(1,activation='sigmoid'))\n",
    "    model_1.compile(optimizer='adam',loss='binary_crossentropy',\n",
    "                    metrics=['accuracy'])#,tf.keras.metrics.Recall()])\n",
    "    display(model_1.summary())\n",
    "    return model_1\n",
    "\n",
    "model_3 = make_fit_plot_model(make_model,epochs=20)"
   ]
  },
  {
   "cell_type": "markdown",
   "metadata": {},
   "source": [
    "# APPENDIX/FOR TOMORROW"
   ]
  },
  {
   "cell_type": "markdown",
   "metadata": {
    "heading_collapsed": true
   },
   "source": [
    "## HyperParameter Tuning with GridSearchCV & Keras"
   ]
  },
  {
   "cell_type": "markdown",
   "metadata": {
    "hidden": true
   },
   "source": [
    "Original Source: https://chrisalbon.com/deep_learning/keras/tuning_neural_network_hyperparameters/\n",
    "<br><br>\n",
    "\n",
    "- To use `GridSearchCV` or other similar functions in scikit-learn with a Keras neural network, we need to wrap our keras model in `keras.wrappers.scikit_learn`'s `KerasClassifier` and `KerasRegressor`.\n",
    "\n",
    "1. To do this, we need to write a build function(`build_fn`) that creates our model such as `create_model`.\n",
    "    - This function must accept whatever parameters you wish to tune. \n",
    "    - It also must have a default argument for each parameter.\n",
    "    - This function must Return the model (and only the model)\n",
    "    \n",
    "\n",
    "```python\n",
    "\n",
    "## Define the build function\n",
    "def create_model(n_units=(50,25,7), activation='relu',final_activation='softmax',\n",
    "                optimizer='adam'):\n",
    "    \n",
    "    ## Pro tip:save the local variables now so you can print out the parameters used to create the model.\n",
    "    params_used = locals()\n",
    "    print('Parameters for model:\\n',params_used)\n",
    "    \n",
    "   \n",
    "    from keras.models import Sequential\n",
    "    from keras import layers\n",
    "    \n",
    "    model=Sequential()\n",
    "    model.add(layers.Dense(n_units[0], activation=activation, input_shape=(2000,)))\n",
    "    model.add(layers.Dense(n_units[1], activation=activation))\n",
    "    model.add(layers.Dense(n_units[2], activation=final_activation))\n",
    "    model.compile(optimizer=optimizer, loss='categorical_crossentropy',metrics=['accuracy'])\n",
    "    \n",
    "    display(model.summary())\n",
    "    return model \n",
    "```    \n",
    "\n",
    "2. We then create out model using the Keras wrapper:\n",
    "\n",
    "```python\n",
    "from keras.wrappers.scikit_learn import KerasClassifier\n",
    "neural_network =  KerasClassifier(build_fn=create_model,verbose=1)\n",
    "```\n",
    "\n",
    "3. Now, set up the hyperparameter space for grid search. (Remember, your `create_model` function must accept the parameter you want to tune)\n",
    "\n",
    "```python\n",
    "params_to_test = {'n_units':[(50,25,7),(100,50,7)],\n",
    "                  'optimizer':['adam','rmsprop','adadelta'],\n",
    "                  'activation':['linear','relu','tanh'],\n",
    "                  'final_activation':['softmax']}\n",
    "```\n",
    "\n",
    "4. Now instantiate your GridSearch function\n",
    "\n",
    "```python\n",
    "from sklearn.model_selection import GridSearchCV\n",
    "\n",
    "grid = GridSearchCV(estimator=neural_network,param_grid=params_to_test)\n",
    "grid_result = grid.fit(X_train, y_train)\n",
    "best_params = grid_result.best_params_\n",
    "```\n",
    "5. And thats it!"
   ]
  },
  {
   "cell_type": "code",
   "execution_count": 34,
   "metadata": {
    "ExecuteTime": {
     "end_time": "2020-12-04T16:33:05.193344Z",
     "start_time": "2020-12-04T16:33:05.174304Z"
    },
    "hidden": true
   },
   "outputs": [],
   "source": [
    "# class Timer():\n",
    "#     ## def init\n",
    "#     def __init__(self,format_=\"%m/%d/%y - %I:%M %p\"):\n",
    "#         import tzlocal\n",
    "#         self.tz = tzlocal.get_localzone()\n",
    "#         self.fmt = format_\n",
    "        \n",
    "#         self.created_at = self.get_time()# get time\n",
    "        \n",
    "    \n",
    "#     ## def get time method\n",
    "#     def get_time(self):\n",
    "#         import datetime as dt\n",
    "#         return dt.datetime.now(self.tz)\n",
    "\n",
    "#     ## def start\n",
    "#     def start(self):\n",
    "#         time = self.get_time()\n",
    "#         self.start = time\n",
    "#         print(f\"[i] Timer started at{self.start.strftime(self.fmt)}\")\n",
    "\n",
    "        \n",
    "\n",
    "#     ## def stop\n",
    "#     def stop(self):\n",
    "#         time = self.get_time()\n",
    "#         self.end = time\n",
    "#         print(f\"[i] Timer ended at {self.end.strftime(self.fmt)}\")\n",
    "#         print(f\"- Total time = {self.end-self.start}\")\n",
    "\n",
    "        \n",
    "        \n",
    "def plot_confusion_matrix(conf_matrix, classes = None, normalize=True,\n",
    "                          title='Confusion Matrix', cmap=\"Blues\",\n",
    "                          print_raw_matrix=False,\n",
    "                          fig_size=(4,4)):\n",
    "    \"\"\"Check if Normalization Option is Set to True. \n",
    "    If so, normalize the raw confusion matrix before visualizing\n",
    "    #Other code should be equivalent to your previous function.\n",
    "    Note: Taken from bs_ds and modified\n",
    "    - Can pass a tuple of (y_true,y_pred) instead of conf matrix.\n",
    "    \"\"\"\n",
    "    import itertools\n",
    "    import numpy as np\n",
    "    import matplotlib.pyplot as plt\n",
    "    import sklearn.metrics as metrics\n",
    "    \n",
    "    ## make confusion matrix if given tuple of y_true,y_pred\n",
    "    if isinstance(conf_matrix, tuple):\n",
    "        y_true = conf_matrix[0].copy()\n",
    "        y_pred = conf_matrix[1].copy()\n",
    "        \n",
    "        if y_true.ndim>1:\n",
    "            y_true = y_true.argmax(axis=1)\n",
    "        if y_pred.ndim>1:\n",
    "            y_pred = y_pred.argmax(axis=1)\n",
    "        cm = metrics.confusion_matrix(y_true,y_pred)\n",
    "    else:\n",
    "        cm = conf_matrix\n",
    "        \n",
    "    ## Generate integer labels for classes\n",
    "    if classes is None:\n",
    "        classes = list(range(len(cm)))  \n",
    "        \n",
    "    ## Normalize data\n",
    "    if normalize:\n",
    "        cm = cm.astype('float') / cm.sum(axis=1)[:, np.newaxis]\n",
    "        fmt='.2f'\n",
    "    else:\n",
    "        fmt= 'd'\n",
    "        \n",
    "        \n",
    "    fontDict = {\n",
    "        'title':{\n",
    "            'fontsize':16,\n",
    "            'fontweight':'semibold',\n",
    "            'ha':'center',\n",
    "            },\n",
    "        'xlabel':{\n",
    "            'fontsize':14,\n",
    "            'fontweight':'normal',\n",
    "            },\n",
    "        'ylabel':{\n",
    "            'fontsize':14,\n",
    "            'fontweight':'normal',\n",
    "            },\n",
    "        'xtick_labels':{\n",
    "            'fontsize':10,\n",
    "            'fontweight':'normal',\n",
    "    #             'rotation':45,\n",
    "            'ha':'right',\n",
    "            },\n",
    "        'ytick_labels':{\n",
    "            'fontsize':10,\n",
    "            'fontweight':'normal',\n",
    "            'rotation':0,\n",
    "            'ha':'right',\n",
    "            },\n",
    "        'data_labels':{\n",
    "            'ha':'center',\n",
    "            'fontweight':'semibold',\n",
    "\n",
    "        }\n",
    "    }\n",
    "\n",
    "    # Create plot\n",
    "    fig,ax = plt.subplots(figsize=fig_size)\n",
    "\n",
    "    plt.imshow(cm, interpolation='nearest', cmap=cmap)\n",
    "    plt.title(title,**fontDict['title'])\n",
    "    plt.colorbar()\n",
    "\n",
    "    tick_marks = classes#np.arange(len(classes))\n",
    "\n",
    "\n",
    "    plt.xticks(tick_marks, classes, **fontDict['xtick_labels'])\n",
    "    plt.yticks(tick_marks, classes,**fontDict['ytick_labels'])\n",
    "\n",
    "    # Determine threshold for b/w text\n",
    "    thresh = cm.max() / 2.\n",
    "\n",
    "    # fig,ax = plt.subplots()\n",
    "    for i, j in itertools.product(range(cm.shape[0]), range(cm.shape[1])):\n",
    "        plt.text(j, i, format(cm[i, j], fmt),\n",
    "                 color='darkgray',**fontDict['data_labels']) #color=\"white\" if cm[i, j] > thresh else \"black\"\n",
    "\n",
    "    plt.tight_layout()\n",
    "    plt.ylabel('True label',**fontDict['ylabel'])\n",
    "    plt.xlabel('Predicted label',**fontDict['xlabel'])\n",
    "\n",
    "    if print_raw_matrix:\n",
    "        print_title = 'Raw Confusion Matrix Counts:'\n",
    "        print('\\n',print_title)\n",
    "        print(conf_matrix)\n",
    "\n",
    "\n",
    "    fig = plt.gcf()\n",
    "    return fig\n",
    "\n",
    "\n",
    "\n",
    "def plot_keras_history(history,figsize_1=(6,4),\n",
    "    figsize_2=(8,6)):\n",
    "    \"\"\"Plots keras history and returns fig\"\"\"\n",
    "    ## Make a df from history\n",
    "    plot_df = pd.DataFrame(history.history)\n",
    "    plot_df['Epoch'] = range(1,len(plot_df)+1)\n",
    "    plot_df.set_index('Epoch',inplace=True)\n",
    "    ## Get cols for acc vs loss\n",
    "    acc_cols = list(filter(lambda x: 'acc' in x, plot_df.columns))\n",
    "    loss_cols = list(filter(lambda x: 'loss' in x, plot_df.columns))   \n",
    "    \n",
    "    ## Set figsizes based on number of keys\n",
    "    if len(acc_cols)>1:\n",
    "        figsize=figsize_2\n",
    "    else:\n",
    "        figsize=figsize_1\n",
    "\n",
    "    ## Make figure and axes\n",
    "    fig,ax = plt.subplots(nrows=2,figsize=figsize,sharex=True)\n",
    "    \n",
    "    ## Plot Accuracy cols in plot 1\n",
    "    plot_df[acc_cols].plot(ax=ax[0])\n",
    "    ax[0].set(ylabel='Accuracy')\n",
    "    ax[0].set_title('Training Results')\n",
    "\n",
    "    ## Plot loss cols in plot 2\n",
    "    plot_df[loss_cols].plot(ax=ax[1])\n",
    "    ax[1].set(ylabel='Loss')\n",
    "    ax[1].set_xlabel('Epoch #')\n",
    "\n",
    "\n",
    "    ## Change xaxis locators \n",
    "    [a.xaxis.set_major_locator(mpl.ticker.MaxNLocator(len(plot_df),integer=True)) for a in ax]\n",
    "    [a.set_xlim((1,len(plot_df)+1)) for a in ax]\n",
    "    plt.tight_layout()\n",
    "    \n",
    "    return fig"
   ]
  },
  {
   "cell_type": "code",
   "execution_count": 35,
   "metadata": {
    "ExecuteTime": {
     "end_time": "2020-12-04T16:33:05.223754Z",
     "start_time": "2020-12-04T16:33:05.195057Z"
    },
    "hidden": true
   },
   "outputs": [],
   "source": [
    "from keras.models import Sequential\n",
    "from keras.layers import Dense"
   ]
  },
  {
   "cell_type": "code",
   "execution_count": 36,
   "metadata": {
    "ExecuteTime": {
     "end_time": "2020-12-04T16:33:05.849932Z",
     "start_time": "2020-12-04T16:33:05.225149Z"
    },
    "hidden": true
   },
   "outputs": [
    {
     "ename": "NameError",
     "evalue": "name 'X_train_img' is not defined",
     "output_type": "error",
     "traceback": [
      "\u001b[0;31m---------------------------------------------------------------------------\u001b[0m",
      "\u001b[0;31mNameError\u001b[0m                                 Traceback (most recent call last)",
      "\u001b[0;32m<ipython-input-36-bc2746c79fd6>\u001b[0m in \u001b[0;36m<module>\u001b[0;34m\u001b[0m\n\u001b[0;32m----> 1\u001b[0;31m \u001b[0mX_train_img\u001b[0m\u001b[0;34m[\u001b[0m\u001b[0;36m0\u001b[0m\u001b[0;34m]\u001b[0m\u001b[0;34m.\u001b[0m\u001b[0mshape\u001b[0m\u001b[0;34m\u001b[0m\u001b[0;34m\u001b[0m\u001b[0m\n\u001b[0m",
      "\u001b[0;31mNameError\u001b[0m: name 'X_train_img' is not defined"
     ]
    }
   ],
   "source": [
    "X_train_img[0].shape"
   ]
  },
  {
   "cell_type": "code",
   "execution_count": null,
   "metadata": {
    "ExecuteTime": {
     "end_time": "2020-12-04T16:33:05.852028Z",
     "start_time": "2020-12-04T16:30:46.533Z"
    },
    "hidden": true
   },
   "outputs": [],
   "source": [
    "X_train_img.shape, y_train.shape"
   ]
  },
  {
   "cell_type": "code",
   "execution_count": null,
   "metadata": {
    "ExecuteTime": {
     "end_time": "2020-12-04T16:33:05.853518Z",
     "start_time": "2020-12-04T16:30:46.536Z"
    },
    "hidden": true
   },
   "outputs": [],
   "source": [
    "from keras.wrappers.scikit_learn import KerasClassifier"
   ]
  },
  {
   "cell_type": "code",
   "execution_count": null,
   "metadata": {
    "ExecuteTime": {
     "end_time": "2020-12-04T16:33:05.855145Z",
     "start_time": "2020-12-04T16:30:46.542Z"
    },
    "hidden": true
   },
   "outputs": [],
   "source": [
    "from keras.callbacks import ModelCheckpoint, EarlyStopping, CSVLogger\n",
    "\n",
    "def create_checkpoint(monitor,model_subfolder=\"\"):#='Datasets/Models/cat_vs_dog/'):\n",
    "    filepath=model_subfolder+\"weights-improvement-{epoch:02d}-{\"+monitor+\":.2f}.hdf5\"\n",
    "    checkpoint = ModelCheckpoint(filepath, monitor=monitor, verbose=1, save_best_only=True, mode='max')\n",
    "    return checkpoint\n",
    "\n",
    "def create_early_stopping(monitor = 'val_accuracy',min_delta = 0.05, patience = 3,\n",
    "                          verbose = 1, restore_best_weights = True):\n",
    "\n",
    "    args = locals()\n",
    "    earlystop = EarlyStopping(**args)\n",
    "    return earlystop\n",
    "\n",
    "\n",
    "def get_callbacks(early_stop_kws={}, checkpoint_kws={}):\n",
    "    model_subfolder=base_folder+'Models/'\n",
    "    os.makedirs(model_subfolder,exist_ok=True)\n",
    "\n",
    "    callbacks_list = [create_checkpoint('val_accuracy',\n",
    "                                        model_subfolder=model_subfolder,**checkpoint_kws),\n",
    "                      create_early_stopping(**early_stop_kws)]\n",
    "    return callbacks_list"
   ]
  },
  {
   "cell_type": "code",
   "execution_count": null,
   "metadata": {
    "hidden": true
   },
   "outputs": [],
   "source": []
  },
  {
   "cell_type": "code",
   "execution_count": null,
   "metadata": {
    "ExecuteTime": {
     "end_time": "2020-12-04T16:33:05.856677Z",
     "start_time": "2020-12-04T16:30:46.547Z"
    },
    "hidden": true
   },
   "outputs": [],
   "source": [
    "def make_model():\n",
    "    model = Sequential()\n",
    "    model.add(Dense(64,activation='relu',input_shape=(X_train_img.shape[1],)))\n",
    "    model.add(Dense(2, activation='softmax'))\n",
    "    model.compile(loss='binary_crossentropy', optimizer='sgd', metrics=['accuracy'])\n",
    "    return model"
   ]
  },
  {
   "cell_type": "code",
   "execution_count": null,
   "metadata": {
    "ExecuteTime": {
     "end_time": "2020-12-04T16:33:05.858096Z",
     "start_time": "2020-12-04T16:30:46.550Z"
    },
    "hidden": true,
    "scrolled": true
   },
   "outputs": [],
   "source": [
    "model = KerasClassifier(make_model)\n",
    "model"
   ]
  },
  {
   "cell_type": "code",
   "execution_count": null,
   "metadata": {
    "ExecuteTime": {
     "end_time": "2020-12-04T16:33:05.859382Z",
     "start_time": "2020-12-04T16:30:46.553Z"
    },
    "hidden": true,
    "scrolled": true
   },
   "outputs": [],
   "source": [
    "## Fit baseline model\n",
    "timer = Timer()\n",
    "\n",
    "timer.start()\n",
    "history = model.fit(X_train_img, y_train, epochs=100, batch_size=64, \n",
    "                      validation_data=(X_val_img, y_val))\n",
    "timer.stop()"
   ]
  },
  {
   "cell_type": "code",
   "execution_count": null,
   "metadata": {
    "ExecuteTime": {
     "end_time": "2020-12-04T16:33:05.860651Z",
     "start_time": "2020-12-04T16:30:46.557Z"
    },
    "hidden": true
   },
   "outputs": [],
   "source": [
    "history"
   ]
  },
  {
   "cell_type": "code",
   "execution_count": null,
   "metadata": {
    "hidden": true
   },
   "outputs": [],
   "source": []
  },
  {
   "cell_type": "code",
   "execution_count": null,
   "metadata": {
    "ExecuteTime": {
     "end_time": "2020-12-04T16:33:05.862290Z",
     "start_time": "2020-12-04T16:30:46.562Z"
    },
    "hidden": true
   },
   "outputs": [],
   "source": [
    "        \n",
    "def evaluate_model(y_true, y_pred,history=None):\n",
    "    \"\"\"Evaluates neural network using sklearn metrics\"\"\"\n",
    "    from sklearn import metrics\n",
    "    if y_true.ndim>1:\n",
    "        y_true = y_true.argmax(axis=1)\n",
    "    if y_pred.ndim>1:\n",
    "        y_pred = y_pred.argmax(axis=1)   \n",
    "#     try:    \n",
    "    if history is not None:\n",
    "        plot_keras_history(history)\n",
    "#     except:\n",
    "#         pass\n",
    "    \n",
    "    num_dashes=20\n",
    "    print('\\n')\n",
    "    print('---'*num_dashes)\n",
    "    print('\\tCLASSIFICATION REPORT:')\n",
    "    print('---'*num_dashes)\n",
    "    try:\n",
    "        print(metrics.classification_report(y_true,y_pred))\n",
    "        \n",
    "        fig = plot_confusion_matrix((y_true,y_pred))\n",
    "        plt.show()\n",
    "    except Exception as e:\n",
    "        print(f\"[!] Error during model evaluation:\\n\\t{e}\")\n",
    "\n",
    "        \n",
    "        "
   ]
  },
  {
   "cell_type": "code",
   "execution_count": null,
   "metadata": {
    "ExecuteTime": {
     "end_time": "2020-12-04T16:33:05.863702Z",
     "start_time": "2020-12-04T16:30:46.566Z"
    },
    "hidden": true
   },
   "outputs": [],
   "source": [
    "y_hat_test = model.predict(X_test_img)\n",
    "\n",
    "evaluate_model(y_test,y_hat_test,history)"
   ]
  },
  {
   "cell_type": "code",
   "execution_count": null,
   "metadata": {
    "ExecuteTime": {
     "end_time": "2020-12-04T16:33:05.864949Z",
     "start_time": "2020-12-04T16:30:46.569Z"
    },
    "hidden": true
   },
   "outputs": [],
   "source": [
    "def make_fit_evaluate_model(build_fn, fit_params = dict(epochs=100,\n",
    "                                                        batch_size=64)):\n",
    "    model = build_fn()\n",
    "    \n",
    "    timer = Timer()\n",
    "    model.summary()\n",
    "    timer.start()\n",
    "    \n",
    "    history = model.fit(X_train_img, y_train,**fit_params,\n",
    "                          validation_data=(X_val_img, y_val))\n",
    "    timer.stop()\n",
    "    \n",
    "    y_hat_test = model.predict(X_test_img)\n",
    "    evaluate_model(y_test,y_hat_test,history)\n",
    "    return model,y_hat_test"
   ]
  },
  {
   "cell_type": "code",
   "execution_count": null,
   "metadata": {
    "ExecuteTime": {
     "end_time": "2020-12-04T16:33:05.866052Z",
     "start_time": "2020-12-04T16:30:46.573Z"
    },
    "hidden": true,
    "scrolled": true
   },
   "outputs": [],
   "source": [
    "fit_model,model_preds = make_fit_evaluate_model(make_model)"
   ]
  },
  {
   "cell_type": "markdown",
   "metadata": {
    "heading_collapsed": true
   },
   "source": [
    "## APPENDIX/HOW-TOs:"
   ]
  },
  {
   "cell_type": "markdown",
   "metadata": {},
   "source": [
    "## How to Make a Custom Scoring Function"
   ]
  },
  {
   "cell_type": "markdown",
   "metadata": {},
   "source": [
    "1. **Why would you do this?**\n",
    "    1. You may want to use a metric that isn't available in sklearn. \n",
    "        - In the included `my_custom_scorer` function, I take the accuracy of each class's predictions from the diagonal of a normalized confusion matrix. \n",
    "        - I then calculate the mean of those 3 class accuracies, which is the `score` that is returned to the gridsearch. \n",
    "        \n",
    "    2. You may want to add a printout or display to the scoring function so you can see the results as the search is going.\n",
    "<br><br>\n",
    "2. **How do you do write your own?**\n",
    "    1. Define your custom scoring function.\n",
    "        - It must accept `y_true`,`y_pred`\n",
    "        - It must return a value to maximize. (like accuracy)\n",
    "    2. You can add print or display commands to have the scoring function report the current results as the gridsearch is still going.\n",
    "        - If you combine this with the example `create_model` function above that includes the `vars=locals(); print(vars)` command, then gridsearch will display:\n",
    "            1. the parameters of each model (each time the `create_model` function is called.\n",
    "            2. The score of each model, including a confusion matrix figure (each time it calls `my_custom_scorer`).\n",
    "        \n",
    "```python\n",
    "def my_custom_scorer(y_true,y_pred):\n",
    "    \"\"\"My custom score function to use with sklearn's GridSearchCV\n",
    "    Maximizes the average accuracy per class using a normalized confusion matrix\"\"\"\n",
    "    from sklearn.metrics import confusion_matrix\n",
    "    import numpy as np\n",
    "    import functions_combined_BEST as ji    \n",
    "\n",
    "    ## Flatten one-hot encoded target columns into 1 column for sklearn functions\n",
    "    if y_true.ndim>1 or y_pred.ndim>1:\n",
    "        \n",
    "        ## reduce dimensions of y_train and y_test\n",
    "        if y_true.ndim>1:            \n",
    "            y_true = y_true.argmax(axis=1)\n",
    "        \n",
    "        if y_pred.ndim>1:\n",
    "            y_pred = y_pred.argmax(axis=1)\n",
    "\n",
    "    \n",
    "     # Get confusion matrx\n",
    "    cm = confusion_matrix(y_true, y_pred)\n",
    "\n",
    "    # Normalize confusion matrix\n",
    "    cm_norm = cm.astype('float')/cm.sum(axis=1)[:,np.newaxis]\n",
    "\n",
    "    ## Get diagonals for class accuracy\n",
    "    diag = cm_norm.diagonal()\n",
    "    \n",
    "    # Get the mean of the diagonal values\n",
    "    score = np.mean(diag)\n",
    "    \n",
    "    ## Display Results for the User\n",
    "    print(f'Mean Class Accuracy = {score}')\n",
    "    print(f'Class Accuracy Values:')\n",
    "    print(diag)    \n",
    "\n",
    "    ## Plot the confusion matrix.\n",
    "    ji.plot_confusion_matrix(cm,normalize=True)\n",
    "\n",
    "    # return the score \n",
    "    return score\n",
    "```        \n",
    "        \n",
    "        \n",
    "3. **How do you use it?**\n",
    "    - When instantiating GridSearchCV pass your function as the `scoring=` parameter, wrapped in the  `sklearn.metrics.make_scorer` function.\n",
    "  \n",
    "\n",
    "```python\n",
    "## Using custom scoring function\n",
    "from sklearn.metrics import make_scorer\n",
    "\n",
    "grid = GridSearchCV(estimator=neural_network, \n",
    "                    param_grid=params_to_test,\n",
    "                   scoring=make_scorer(my_custom_scorer))\n",
    "                    \n",
    "grid_result = grid.fit(X_train, y_train)\n",
    "```"
   ]
  },
  {
   "cell_type": "code",
   "execution_count": null,
   "metadata": {},
   "outputs": [],
   "source": []
  }
 ],
 "metadata": {
  "colab": {
   "collapsed_sections": [],
   "name": "Copy of James' Study Group Notes - Section 41-42 (condensed version).ipynb",
   "provenance": []
  },
  "kernelspec": {
   "display_name": "Python [conda env:learn-env] *",
   "language": "python",
   "name": "conda-env-learn-env-py"
  },
  "language_info": {
   "codemirror_mode": {
    "name": "ipython",
    "version": 3
   },
   "file_extension": ".py",
   "mimetype": "text/x-python",
   "name": "python",
   "nbconvert_exporter": "python",
   "pygments_lexer": "ipython3",
   "version": "3.6.11"
  },
  "toc": {
   "base_numbering": 1,
   "nav_menu": {},
   "number_sections": false,
   "sideBar": true,
   "skip_h1_title": false,
   "title_cell": "Table of Contents",
   "title_sidebar": "Contents",
   "toc_cell": false,
   "toc_position": {
    "height": "calc(100% - 180px)",
    "left": "10px",
    "top": "150px",
    "width": "256px"
   },
   "toc_section_display": true,
   "toc_window_display": true
  }
 },
 "nbformat": 4,
 "nbformat_minor": 1
}

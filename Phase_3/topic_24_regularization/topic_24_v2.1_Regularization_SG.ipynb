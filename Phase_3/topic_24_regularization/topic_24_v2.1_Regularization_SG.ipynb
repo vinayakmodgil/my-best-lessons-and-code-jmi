{
 "cells": [
  {
   "cell_type": "markdown",
   "metadata": {},
   "source": [
    "# Sect 24 (v2.1): Regularization\n",
    "\n",
    "- online-ds-pt-100719\n",
    "- 03/19/2020\n"
   ]
  },
  {
   "cell_type": "markdown",
   "metadata": {},
   "source": [
    "## Questions"
   ]
  },
  {
   "cell_type": "markdown",
   "metadata": {},
   "source": [
    "- Higher level concepts\n",
    "    - \"Why did I just do this?\"\n",
    "    \n",
    "- "
   ]
  },
  {
   "cell_type": "markdown",
   "metadata": {},
   "source": [
    "## Objectives"
   ]
  },
  {
   "cell_type": "markdown",
   "metadata": {},
   "source": [
    "**DISCUSSION:**\n",
    "- Discuss Regularization Techniques\n",
    "    - Ridge Regression (L2 normalization)\n",
    "    - Lasso Regression (L1 normalization)\n",
    "- AIC/BIC\n",
    "- Compare Feature Selection methods\n",
    "\n",
    "**APPLICATION:**\n",
    "- Practice turning repetitive code into flexible functions/loops\n"
   ]
  },
  {
   "cell_type": "markdown",
   "metadata": {},
   "source": [
    "# Regularization techniques"
   ]
  },
  {
   "cell_type": "markdown",
   "metadata": {},
   "source": [
    "We can \"shrink down\" prediction variables effects instead of deleting/zeroing them"
   ]
  },
  {
   "cell_type": "markdown",
   "metadata": {},
   "source": [
    "## Linear Regression Cost Function Previously Used (RSS)"
   ]
  },
  {
   "cell_type": "markdown",
   "metadata": {},
   "source": [
    "- ### For a single predictor (X)\n",
    "$$ \\large \\text{cost_function}= \\sum_{i=1}^n(y_i - \\hat{y})^2 = \\sum_{i=1}^n(y_i - (mx_i + b))^2$$\n"
   ]
  },
  {
   "cell_type": "markdown",
   "metadata": {},
   "source": [
    "- ###  multiple predictors, the equation becomes:\n",
    "$$ \\large \\text{cost_function}= \\sum_{i=1}^n(y_i - \\hat{y})^2 = \\sum_{i=1}^n(y_i - \\sum_{j=1}^k(m_jx_{ij} ) -b )^2$$\n",
    "- where $k$ is the number of predictors\n",
    "- and $j$ is each individual predictor."
   ]
  },
  {
   "cell_type": "markdown",
   "metadata": {},
   "source": [
    "# Penalized Estimation"
   ]
  },
  {
   "cell_type": "markdown",
   "metadata": {},
   "source": [
    "> ***You've seen that when the number of predictors increases, your model complexity increases, with a higher chance of overfitting as a result.***  \n",
    "\n",
    "> Now, instead of completely \"deleting\" certain predictors from a model (which is equal to setting coefficients equal to zero) we can reduce the values of the coefficients to make them less sensitive to noise in the data. \n",
    "\n",
    "> This is called **penalized estimation**.\n",
    "\n",
    "> **Ridge and Lasso regression** are two examples of penalized estimation.<br>There are multiple advantages to using these methods:\n",
    "- They reduce model complexity\n",
    "- The may prevent from overfitting\n",
    "- Some of them may perform variable selection at the same time (when coefficients are set to 0)\n",
    "- They can be used to counter multicollinearity\n",
    "\n",
    "> Lasso and Ridge are two commonly used so-called **regularization techniques**. (Regularization is a general term used when one tries to battle overfitting.)\n"
   ]
  },
  {
   "cell_type": "markdown",
   "metadata": {},
   "source": [
    "## Ridge Regression - L2 Norm Regularization"
   ]
  },
  {
   "cell_type": "markdown",
   "metadata": {},
   "source": [
    "Define a penalty ***hyperparameter*** $\\lambda$ for extra terms (large $m$)"
   ]
  },
  {
   "cell_type": "markdown",
   "metadata": {},
   "source": [
    "<!-- $$ =\\sum_{i=1}^n(y_i - \\hat{y})^2= \\sum_{i=1}^n(y_i - \\sum_{j=1}^k(m_jx_{ij} + b))^2 + \\lambda \\sum_{i=1}^n m_i^2$$/-->\n",
    "\n",
    "$$\\large J_{\\text{ridge}}=\\sum_{i=1}^n(y_i - \\hat{y})^2 = \\sum_{i=1}^n(y_i - \\sum_{j=1}^k(m_jx_{ij})-b)^2 + \\lambda \\sum_{j=1}^p m_j^2$$\n",
    "\n",
    "- **By adding the penalty term $\\lambda$, ridge regression puts a constraint on the coefficients $m$.**\n",
    "- Therefore, large coefficients will penalize the optimization function. \n",
    "    - This shrinks the coefficients and helps to reduce model complexity and multicollinearity."
   ]
  },
  {
   "cell_type": "markdown",
   "metadata": {},
   "source": [
    "- **Error term added to cost function** \n",
    "    - $\\large ...  +   \\lambda \\sum_{i=1}^n m_i^2$\n",
    "    - Notice that  $m_i^2$ is squared, hence \"L***2*** norm regularization\""
   ]
  },
  {
   "cell_type": "markdown",
   "metadata": {},
   "source": [
    "- With two predictors there is a penalty term m for each predictor.\n",
    "$$\\large J_\\text{ridge}= \\sum_{i=1}^n(y_i - \\hat{y})^2 = $$\n",
    "\n",
    "$$\\large  \\sum_{i=1}^n(y_i - ((m_1x_{1i})-b)^2 + \\lambda m_1^2 + (m_2x_{2i})-b)^2 + \\lambda m_2^2)$$"
   ]
  },
  {
   "cell_type": "markdown",
   "metadata": {},
   "source": [
    "### Uses"
   ]
  },
  {
   "cell_type": "markdown",
   "metadata": {},
   "source": [
    "- Used mostly to prevent overfitting (but since includes all features it can be computationally expensive (for many variables))"
   ]
  },
  {
   "cell_type": "markdown",
   "metadata": {},
   "source": [
    "## Lasso Regression - L1 Norm Regularization\n",
    "\n",
    "\"Least Absolute Shrinkage and Selection Operator\""
   ]
  },
  {
   "cell_type": "markdown",
   "metadata": {},
   "source": [
    "$$\\large J_\\text{lasso}= \\sum_{i=1}^n(y_i - \\hat{y})^2 = \\sum_{i=1}^n(y_i - \\sum_{j=1}^k(m_jx_{ij})-b)^2 + \\lambda \\sum_{j=1}^p \\mid m_j \\mid$$"
   ]
  },
  {
   "cell_type": "markdown",
   "metadata": {},
   "source": [
    "- **Error term added to cost function** \n",
    "    - $ \\large ... + \\lambda \\sum_{j=1}^p \\mid m_j \\mid$\n",
    "    - Notice that  $m$ has no exponent (meaning its actually $m^1$, hence \"L***1*** norm regularization\"\n",
    "\n"
   ]
  },
  {
   "cell_type": "markdown",
   "metadata": {},
   "source": [
    "If you have two predictors the full equation would look like this (notice that there is a penalty term `m` for each predictor in the model - in this case, two): \n",
    "$$ \\text{cost_function_lasso}= \\sum_{i=1}^n(y_i - \\hat{y})^2 = $$\n",
    "\n",
    "$$\\sum_{i=1}^n(y_i - ((m_1x_{1i})-b)^2 + \\lambda \\mid m_1 \\mid) + ((m_2x_{2i})-b)^2 + \\lambda \\mid m_2 \\mid) $$"
   ]
  },
  {
   "cell_type": "markdown",
   "metadata": {},
   "source": [
    "### Uses"
   ]
  },
  {
   "cell_type": "markdown",
   "metadata": {},
   "source": [
    "- Lasso also helps with over fitting \n",
    "- **Lasso shrinks the less important features' coefficients to zero**, removing them altogether. \n",
    "    - Therefore, Lasso regression can be used for **feature selection**"
   ]
  },
  {
   "cell_type": "markdown",
   "metadata": {},
   "source": [
    "### Using Regularization"
   ]
  },
  {
   "cell_type": "markdown",
   "metadata": {},
   "source": [
    "- ***Make sure to standardize the data before performing ridge or lasso regression***, otherwise features with large values/units will be unfairly penalized.\n",
    "- **Fit-transform the training data, only transform the test data**\n",
    "\n",
    "```python\n",
    "from sklearn.preprocessing import MinMaxScaler\n",
    "from sklearn.linear_model import Lasso, Ridge, LinearRegression\n",
    "```"
   ]
  },
  {
   "cell_type": "markdown",
   "metadata": {},
   "source": [
    "## Ridge & Lasson Regression Summary:"
   ]
  },
  {
   "cell_type": "markdown",
   "metadata": {},
   "source": [
    "In Ridge regression, the cost function is changed by adding a penalty term to the square of the magnitude of the coefficients.\n",
    "\n",
    "$$ \\text{cost_function_ridge}= \\sum_{i=1}^n(y_i - \\hat{y})^2 = \\sum_{i=1}^n(y_i - \\sum_{j=1}^k(m_jx_{ij})-b)^2 + \\lambda \\sum_{j=1}^p m_j^2$$\n",
    "\n",
    "Lasso regression is very similar to Ridge regression, except that the magnitude of the coefficients are not squared in the penalty term.\n",
    "\n",
    "$$ \\text{cost_function_lasso}= \\sum_{i=1}^n(y_i - \\hat{y})^2 = \\sum_{i=1}^n(y_i - \\sum_{j=1}^k(m_jx_{ij})-b)^2 + \\lambda \\sum_{j=1}^p \\mid m_j \\mid$$\n"
   ]
  },
  {
   "cell_type": "markdown",
   "metadata": {},
   "source": [
    "## Applying Ridge and Lasso Regression with Scikit-Learn"
   ]
  },
  {
   "cell_type": "code",
   "execution_count": 1,
   "metadata": {
    "ExecuteTime": {
     "end_time": "2021-05-03T22:58:40.021818Z",
     "start_time": "2021-05-03T22:58:38.713415Z"
    }
   },
   "outputs": [],
   "source": [
    "import pandas as pd\n",
    "import numpy as np\n",
    "import matplotlib.pyplot as plt\n",
    "import seaborn as sns\n",
    "plt.style.use('seaborn-poster')"
   ]
  },
  {
   "cell_type": "code",
   "execution_count": 2,
   "metadata": {
    "ExecuteTime": {
     "end_time": "2021-05-03T22:58:40.622862Z",
     "start_time": "2021-05-03T22:58:40.023833Z"
    }
   },
   "outputs": [],
   "source": [
    "from sklearn.preprocessing import MinMaxScaler,StandardScaler,OneHotEncoder\n",
    "from sklearn.impute import SimpleImputer, KNNImputer\n",
    "\n",
    "from sklearn.linear_model import Lasso, Ridge, LinearRegression\n",
    "from sklearn.linear_model import LassoCV, RidgeCV\n",
    "from sklearn.model_selection import train_test_split"
   ]
  },
  {
   "cell_type": "code",
   "execution_count": 3,
   "metadata": {
    "ExecuteTime": {
     "end_time": "2021-05-03T22:58:41.846814Z",
     "start_time": "2021-05-03T22:58:40.624865Z"
    }
   },
   "outputs": [
    {
     "data": {
      "text/html": [
       "<div>\n",
       "<style scoped>\n",
       "    .dataframe tbody tr th:only-of-type {\n",
       "        vertical-align: middle;\n",
       "    }\n",
       "\n",
       "    .dataframe tbody tr th {\n",
       "        vertical-align: top;\n",
       "    }\n",
       "\n",
       "    .dataframe thead th {\n",
       "        text-align: right;\n",
       "    }\n",
       "</style>\n",
       "<table border=\"1\" class=\"dataframe\">\n",
       "  <thead>\n",
       "    <tr style=\"text-align: right;\">\n",
       "      <th></th>\n",
       "      <th>price</th>\n",
       "      <th>bedrooms</th>\n",
       "      <th>bathrooms</th>\n",
       "      <th>sqft_living</th>\n",
       "      <th>sqft_lot</th>\n",
       "      <th>floors</th>\n",
       "      <th>waterfront</th>\n",
       "      <th>view</th>\n",
       "      <th>condition</th>\n",
       "      <th>grade</th>\n",
       "      <th>sqft_above</th>\n",
       "      <th>sqft_basement</th>\n",
       "      <th>zipcode</th>\n",
       "      <th>sqft_living15</th>\n",
       "      <th>sqft_lot15</th>\n",
       "    </tr>\n",
       "  </thead>\n",
       "  <tbody>\n",
       "    <tr>\n",
       "      <th>0</th>\n",
       "      <td>221900.0</td>\n",
       "      <td>3</td>\n",
       "      <td>1.00</td>\n",
       "      <td>1180</td>\n",
       "      <td>5650</td>\n",
       "      <td>1.0</td>\n",
       "      <td>NaN</td>\n",
       "      <td>0.0</td>\n",
       "      <td>3</td>\n",
       "      <td>7</td>\n",
       "      <td>1180</td>\n",
       "      <td>0.0</td>\n",
       "      <td>98178</td>\n",
       "      <td>1340</td>\n",
       "      <td>5650</td>\n",
       "    </tr>\n",
       "    <tr>\n",
       "      <th>1</th>\n",
       "      <td>538000.0</td>\n",
       "      <td>3</td>\n",
       "      <td>2.25</td>\n",
       "      <td>2570</td>\n",
       "      <td>7242</td>\n",
       "      <td>2.0</td>\n",
       "      <td>0.0</td>\n",
       "      <td>0.0</td>\n",
       "      <td>3</td>\n",
       "      <td>7</td>\n",
       "      <td>2170</td>\n",
       "      <td>400.0</td>\n",
       "      <td>98125</td>\n",
       "      <td>1690</td>\n",
       "      <td>7639</td>\n",
       "    </tr>\n",
       "    <tr>\n",
       "      <th>2</th>\n",
       "      <td>180000.0</td>\n",
       "      <td>2</td>\n",
       "      <td>1.00</td>\n",
       "      <td>770</td>\n",
       "      <td>10000</td>\n",
       "      <td>1.0</td>\n",
       "      <td>0.0</td>\n",
       "      <td>0.0</td>\n",
       "      <td>3</td>\n",
       "      <td>6</td>\n",
       "      <td>770</td>\n",
       "      <td>0.0</td>\n",
       "      <td>98028</td>\n",
       "      <td>2720</td>\n",
       "      <td>8062</td>\n",
       "    </tr>\n",
       "    <tr>\n",
       "      <th>3</th>\n",
       "      <td>604000.0</td>\n",
       "      <td>4</td>\n",
       "      <td>3.00</td>\n",
       "      <td>1960</td>\n",
       "      <td>5000</td>\n",
       "      <td>1.0</td>\n",
       "      <td>0.0</td>\n",
       "      <td>0.0</td>\n",
       "      <td>5</td>\n",
       "      <td>7</td>\n",
       "      <td>1050</td>\n",
       "      <td>910.0</td>\n",
       "      <td>98136</td>\n",
       "      <td>1360</td>\n",
       "      <td>5000</td>\n",
       "    </tr>\n",
       "    <tr>\n",
       "      <th>4</th>\n",
       "      <td>510000.0</td>\n",
       "      <td>3</td>\n",
       "      <td>2.00</td>\n",
       "      <td>1680</td>\n",
       "      <td>8080</td>\n",
       "      <td>1.0</td>\n",
       "      <td>0.0</td>\n",
       "      <td>0.0</td>\n",
       "      <td>3</td>\n",
       "      <td>8</td>\n",
       "      <td>1680</td>\n",
       "      <td>0.0</td>\n",
       "      <td>98074</td>\n",
       "      <td>1800</td>\n",
       "      <td>7503</td>\n",
       "    </tr>\n",
       "    <tr>\n",
       "      <th>...</th>\n",
       "      <td>...</td>\n",
       "      <td>...</td>\n",
       "      <td>...</td>\n",
       "      <td>...</td>\n",
       "      <td>...</td>\n",
       "      <td>...</td>\n",
       "      <td>...</td>\n",
       "      <td>...</td>\n",
       "      <td>...</td>\n",
       "      <td>...</td>\n",
       "      <td>...</td>\n",
       "      <td>...</td>\n",
       "      <td>...</td>\n",
       "      <td>...</td>\n",
       "      <td>...</td>\n",
       "    </tr>\n",
       "    <tr>\n",
       "      <th>21592</th>\n",
       "      <td>360000.0</td>\n",
       "      <td>3</td>\n",
       "      <td>2.50</td>\n",
       "      <td>1530</td>\n",
       "      <td>1131</td>\n",
       "      <td>3.0</td>\n",
       "      <td>0.0</td>\n",
       "      <td>0.0</td>\n",
       "      <td>3</td>\n",
       "      <td>8</td>\n",
       "      <td>1530</td>\n",
       "      <td>0.0</td>\n",
       "      <td>98103</td>\n",
       "      <td>1530</td>\n",
       "      <td>1509</td>\n",
       "    </tr>\n",
       "    <tr>\n",
       "      <th>21593</th>\n",
       "      <td>400000.0</td>\n",
       "      <td>4</td>\n",
       "      <td>2.50</td>\n",
       "      <td>2310</td>\n",
       "      <td>5813</td>\n",
       "      <td>2.0</td>\n",
       "      <td>0.0</td>\n",
       "      <td>0.0</td>\n",
       "      <td>3</td>\n",
       "      <td>8</td>\n",
       "      <td>2310</td>\n",
       "      <td>0.0</td>\n",
       "      <td>98146</td>\n",
       "      <td>1830</td>\n",
       "      <td>7200</td>\n",
       "    </tr>\n",
       "    <tr>\n",
       "      <th>21594</th>\n",
       "      <td>402101.0</td>\n",
       "      <td>2</td>\n",
       "      <td>0.75</td>\n",
       "      <td>1020</td>\n",
       "      <td>1350</td>\n",
       "      <td>2.0</td>\n",
       "      <td>0.0</td>\n",
       "      <td>0.0</td>\n",
       "      <td>3</td>\n",
       "      <td>7</td>\n",
       "      <td>1020</td>\n",
       "      <td>0.0</td>\n",
       "      <td>98144</td>\n",
       "      <td>1020</td>\n",
       "      <td>2007</td>\n",
       "    </tr>\n",
       "    <tr>\n",
       "      <th>21595</th>\n",
       "      <td>400000.0</td>\n",
       "      <td>3</td>\n",
       "      <td>2.50</td>\n",
       "      <td>1600</td>\n",
       "      <td>2388</td>\n",
       "      <td>2.0</td>\n",
       "      <td>NaN</td>\n",
       "      <td>0.0</td>\n",
       "      <td>3</td>\n",
       "      <td>8</td>\n",
       "      <td>1600</td>\n",
       "      <td>0.0</td>\n",
       "      <td>98027</td>\n",
       "      <td>1410</td>\n",
       "      <td>1287</td>\n",
       "    </tr>\n",
       "    <tr>\n",
       "      <th>21596</th>\n",
       "      <td>325000.0</td>\n",
       "      <td>2</td>\n",
       "      <td>0.75</td>\n",
       "      <td>1020</td>\n",
       "      <td>1076</td>\n",
       "      <td>2.0</td>\n",
       "      <td>0.0</td>\n",
       "      <td>0.0</td>\n",
       "      <td>3</td>\n",
       "      <td>7</td>\n",
       "      <td>1020</td>\n",
       "      <td>0.0</td>\n",
       "      <td>98144</td>\n",
       "      <td>1020</td>\n",
       "      <td>1357</td>\n",
       "    </tr>\n",
       "  </tbody>\n",
       "</table>\n",
       "<p>21597 rows × 15 columns</p>\n",
       "</div>"
      ],
      "text/plain": [
       "          price  bedrooms  bathrooms  sqft_living  sqft_lot  floors  \\\n",
       "0      221900.0         3       1.00         1180      5650     1.0   \n",
       "1      538000.0         3       2.25         2570      7242     2.0   \n",
       "2      180000.0         2       1.00          770     10000     1.0   \n",
       "3      604000.0         4       3.00         1960      5000     1.0   \n",
       "4      510000.0         3       2.00         1680      8080     1.0   \n",
       "...         ...       ...        ...          ...       ...     ...   \n",
       "21592  360000.0         3       2.50         1530      1131     3.0   \n",
       "21593  400000.0         4       2.50         2310      5813     2.0   \n",
       "21594  402101.0         2       0.75         1020      1350     2.0   \n",
       "21595  400000.0         3       2.50         1600      2388     2.0   \n",
       "21596  325000.0         2       0.75         1020      1076     2.0   \n",
       "\n",
       "       waterfront  view  condition  grade  sqft_above  sqft_basement  zipcode  \\\n",
       "0             NaN   0.0          3      7        1180            0.0    98178   \n",
       "1             0.0   0.0          3      7        2170          400.0    98125   \n",
       "2             0.0   0.0          3      6         770            0.0    98028   \n",
       "3             0.0   0.0          5      7        1050          910.0    98136   \n",
       "4             0.0   0.0          3      8        1680            0.0    98074   \n",
       "...           ...   ...        ...    ...         ...            ...      ...   \n",
       "21592         0.0   0.0          3      8        1530            0.0    98103   \n",
       "21593         0.0   0.0          3      8        2310            0.0    98146   \n",
       "21594         0.0   0.0          3      7        1020            0.0    98144   \n",
       "21595         NaN   0.0          3      8        1600            0.0    98027   \n",
       "21596         0.0   0.0          3      7        1020            0.0    98144   \n",
       "\n",
       "       sqft_living15  sqft_lot15  \n",
       "0               1340        5650  \n",
       "1               1690        7639  \n",
       "2               2720        8062  \n",
       "3               1360        5000  \n",
       "4               1800        7503  \n",
       "...              ...         ...  \n",
       "21592           1530        1509  \n",
       "21593           1830        7200  \n",
       "21594           1020        2007  \n",
       "21595           1410        1287  \n",
       "21596           1020        1357  \n",
       "\n",
       "[21597 rows x 15 columns]"
      ]
     },
     "execution_count": 3,
     "metadata": {},
     "output_type": "execute_result"
    }
   ],
   "source": [
    "## load_project data \n",
    "usecols = ['price', 'bedrooms', 'bathrooms', 'sqft_living',\n",
    "       'sqft_lot', 'floors', 'waterfront', 'view', 'condition', 'grade',\n",
    "       'sqft_above', 'sqft_basement', 'zipcode',\n",
    "       'sqft_living15', 'sqft_lot15']\n",
    "\n",
    "kc_data= 'https://raw.githubusercontent.com/learn-co-curriculum/dsc-phase-2-project/main/data/kc_house_data.csv'\n",
    "df = pd.read_csv(kc_data,usecols=usecols,na_values=['?'])\n",
    "df"
   ]
  },
  {
   "cell_type": "code",
   "execution_count": 4,
   "metadata": {
    "ExecuteTime": {
     "end_time": "2021-05-03T22:58:41.858560Z",
     "start_time": "2021-05-03T22:58:41.849076Z"
    }
   },
   "outputs": [
    {
     "name": "stdout",
     "output_type": "stream",
     "text": [
      "<class 'pandas.core.frame.DataFrame'>\n",
      "RangeIndex: 21597 entries, 0 to 21596\n",
      "Data columns (total 15 columns):\n",
      " #   Column         Non-Null Count  Dtype  \n",
      "---  ------         --------------  -----  \n",
      " 0   price          21597 non-null  float64\n",
      " 1   bedrooms       21597 non-null  int64  \n",
      " 2   bathrooms      21597 non-null  float64\n",
      " 3   sqft_living    21597 non-null  int64  \n",
      " 4   sqft_lot       21597 non-null  int64  \n",
      " 5   floors         21597 non-null  float64\n",
      " 6   waterfront     19221 non-null  float64\n",
      " 7   view           21534 non-null  float64\n",
      " 8   condition      21597 non-null  int64  \n",
      " 9   grade          21597 non-null  int64  \n",
      " 10  sqft_above     21597 non-null  int64  \n",
      " 11  sqft_basement  21143 non-null  float64\n",
      " 12  zipcode        21597 non-null  int64  \n",
      " 13  sqft_living15  21597 non-null  int64  \n",
      " 14  sqft_lot15     21597 non-null  int64  \n",
      "dtypes: float64(6), int64(9)\n",
      "memory usage: 2.5 MB\n"
     ]
    }
   ],
   "source": [
    "df.info()"
   ]
  },
  {
   "cell_type": "code",
   "execution_count": 5,
   "metadata": {
    "ExecuteTime": {
     "end_time": "2021-05-03T22:58:41.870237Z",
     "start_time": "2021-05-03T22:58:41.860458Z"
    }
   },
   "outputs": [
    {
     "data": {
      "text/plain": [
       "[(15117, 14), (6480, 14), (15117,), (6480,)]"
      ]
     },
     "execution_count": 5,
     "metadata": {},
     "output_type": "execute_result"
    }
   ],
   "source": [
    "## train test split\n",
    "target = 'price'\n",
    "\n",
    "y = df[target]\n",
    "X = df.drop(target, axis=1)\n",
    "\n",
    "# Perform test train split\n",
    "X_train , X_test, y_train, y_test = train_test_split(X, y, test_size=0.3,)\n",
    "#                                                      random_state=12)\n",
    "[var.shape for var in [X_train , X_test, y_train, y_test]]"
   ]
  },
  {
   "cell_type": "code",
   "execution_count": 6,
   "metadata": {
    "ExecuteTime": {
     "end_time": "2021-05-03T22:58:41.877098Z",
     "start_time": "2021-05-03T22:58:41.871964Z"
    }
   },
   "outputs": [
    {
     "data": {
      "text/plain": [
       "bedrooms            0\n",
       "bathrooms           0\n",
       "sqft_living         0\n",
       "sqft_lot            0\n",
       "floors              0\n",
       "waterfront       1675\n",
       "view               48\n",
       "condition           0\n",
       "grade               0\n",
       "sqft_above          0\n",
       "sqft_basement     328\n",
       "zipcode             0\n",
       "sqft_living15       0\n",
       "sqft_lot15          0\n",
       "dtype: int64"
      ]
     },
     "execution_count": 6,
     "metadata": {},
     "output_type": "execute_result"
    }
   ],
   "source": [
    "## Check for nulls in training set\n",
    "X_train.isna().sum()"
   ]
  },
  {
   "cell_type": "code",
   "execution_count": 7,
   "metadata": {
    "ExecuteTime": {
     "end_time": "2021-05-03T22:58:41.881819Z",
     "start_time": "2021-05-03T22:58:41.879759Z"
    }
   },
   "outputs": [],
   "source": [
    "## Specify which values to impute with which method\n",
    "\n",
    "## Most frequent\n",
    "mode_cols = ['waterfront','view']\n",
    "## Fill with 0's\n",
    "zero_cols = ['sqft_basement']"
   ]
  },
  {
   "cell_type": "code",
   "execution_count": 8,
   "metadata": {
    "ExecuteTime": {
     "end_time": "2021-05-03T22:58:43.006387Z",
     "start_time": "2021-05-03T22:58:43.002762Z"
    }
   },
   "outputs": [],
   "source": [
    "## Copying X_train and X_test as start of X_train_tf,X_test_tf\n",
    "X_train_tf = X_train.copy()\n",
    "X_test_tf = X_test.copy()"
   ]
  },
  {
   "cell_type": "code",
   "execution_count": 9,
   "metadata": {
    "ExecuteTime": {
     "end_time": "2021-05-03T22:58:48.626827Z",
     "start_time": "2021-05-03T22:58:48.605546Z"
    }
   },
   "outputs": [
    {
     "data": {
      "text/plain": [
       "bedrooms           0\n",
       "bathrooms          0\n",
       "sqft_living        0\n",
       "sqft_lot           0\n",
       "floors             0\n",
       "waterfront         0\n",
       "view               0\n",
       "condition          0\n",
       "grade              0\n",
       "sqft_above         0\n",
       "sqft_basement    328\n",
       "zipcode            0\n",
       "sqft_living15      0\n",
       "sqft_lot15         0\n",
       "dtype: int64"
      ]
     },
     "execution_count": 9,
     "metadata": {},
     "output_type": "execute_result"
    }
   ],
   "source": [
    "## Impute the columns with most-frequent value\n",
    "imputer_mode = SimpleImputer(strategy='most_frequent')\n",
    "\n",
    "X_train_tf[mode_cols] = imputer_mode.fit_transform(X_train_tf[mode_cols].copy())\n",
    "X_test_tf[mode_cols] = imputer_mode.transform(X_test_tf[mode_cols].copy())\n",
    "\n",
    "## Verify it worked\n",
    "X_train_tf.isna().sum()"
   ]
  },
  {
   "cell_type": "code",
   "execution_count": 10,
   "metadata": {
    "ExecuteTime": {
     "end_time": "2021-05-03T22:58:48.888418Z",
     "start_time": "2021-05-03T22:58:48.869874Z"
    }
   },
   "outputs": [
    {
     "name": "stdout",
     "output_type": "stream",
     "text": [
      "bedrooms         0\n",
      "bathrooms        0\n",
      "sqft_living      0\n",
      "sqft_lot         0\n",
      "floors           0\n",
      "waterfront       0\n",
      "view             0\n",
      "condition        0\n",
      "grade            0\n",
      "sqft_above       0\n",
      "sqft_basement    0\n",
      "zipcode          0\n",
      "sqft_living15    0\n",
      "sqft_lot15       0\n",
      "dtype: int64\n"
     ]
    },
    {
     "data": {
      "text/plain": [
       "bedrooms         0\n",
       "bathrooms        0\n",
       "sqft_living      0\n",
       "sqft_lot         0\n",
       "floors           0\n",
       "waterfront       0\n",
       "view             0\n",
       "condition        0\n",
       "grade            0\n",
       "sqft_above       0\n",
       "sqft_basement    0\n",
       "zipcode          0\n",
       "sqft_living15    0\n",
       "sqft_lot15       0\n",
       "dtype: int64"
      ]
     },
     "execution_count": 10,
     "metadata": {},
     "output_type": "execute_result"
    }
   ],
   "source": [
    "## Impute cols with 0s\n",
    "imputer_zero = SimpleImputer(strategy='constant',fill_value=0)\n",
    "\n",
    "X_train_tf[zero_cols] = imputer_zero.fit_transform(X_train_tf[zero_cols])\n",
    "X_test_tf[zero_cols] = imputer_zero.transform(X_test_tf[zero_cols])\n",
    "\n",
    "## Verify it worked\n",
    "print(X_train_tf.isna().sum())\n",
    "X_test_tf.isna().sum()"
   ]
  },
  {
   "cell_type": "code",
   "execution_count": 11,
   "metadata": {
    "ExecuteTime": {
     "end_time": "2021-05-03T22:58:49.728278Z",
     "start_time": "2021-05-03T22:58:49.722256Z"
    }
   },
   "outputs": [
    {
     "data": {
      "text/plain": [
       "Index(['bedrooms', 'bathrooms', 'sqft_living', 'sqft_lot', 'floors',\n",
       "       'waterfront', 'view', 'condition', 'grade', 'sqft_above',\n",
       "       'sqft_basement', 'sqft_living15', 'sqft_lot15'],\n",
       "      dtype='object')"
      ]
     },
     "execution_count": 11,
     "metadata": {},
     "output_type": "execute_result"
    }
   ],
   "source": [
    "## Specifing which cols to encode and which to scale. \n",
    "cat_cols = ['zipcode'] \n",
    "num_cols = df.drop(columns=[target,*cat_cols]).columns\n",
    "num_cols"
   ]
  },
  {
   "cell_type": "code",
   "execution_count": 13,
   "metadata": {
    "ExecuteTime": {
     "end_time": "2021-05-03T22:59:07.499243Z",
     "start_time": "2021-05-03T22:59:07.460041Z"
    }
   },
   "outputs": [
    {
     "data": {
      "text/html": [
       "<div>\n",
       "<style scoped>\n",
       "    .dataframe tbody tr th:only-of-type {\n",
       "        vertical-align: middle;\n",
       "    }\n",
       "\n",
       "    .dataframe tbody tr th {\n",
       "        vertical-align: top;\n",
       "    }\n",
       "\n",
       "    .dataframe thead th {\n",
       "        text-align: right;\n",
       "    }\n",
       "</style>\n",
       "<table border=\"1\" class=\"dataframe\">\n",
       "  <thead>\n",
       "    <tr style=\"text-align: right;\">\n",
       "      <th></th>\n",
       "      <th>zipcode_98001</th>\n",
       "      <th>zipcode_98002</th>\n",
       "      <th>zipcode_98003</th>\n",
       "      <th>zipcode_98004</th>\n",
       "      <th>zipcode_98005</th>\n",
       "      <th>zipcode_98006</th>\n",
       "      <th>zipcode_98007</th>\n",
       "      <th>zipcode_98008</th>\n",
       "      <th>zipcode_98010</th>\n",
       "      <th>zipcode_98011</th>\n",
       "      <th>...</th>\n",
       "      <th>zipcode_98146</th>\n",
       "      <th>zipcode_98148</th>\n",
       "      <th>zipcode_98155</th>\n",
       "      <th>zipcode_98166</th>\n",
       "      <th>zipcode_98168</th>\n",
       "      <th>zipcode_98177</th>\n",
       "      <th>zipcode_98178</th>\n",
       "      <th>zipcode_98188</th>\n",
       "      <th>zipcode_98198</th>\n",
       "      <th>zipcode_98199</th>\n",
       "    </tr>\n",
       "  </thead>\n",
       "  <tbody>\n",
       "    <tr>\n",
       "      <th>2756</th>\n",
       "      <td>0.0</td>\n",
       "      <td>0.0</td>\n",
       "      <td>0.0</td>\n",
       "      <td>0.0</td>\n",
       "      <td>0.0</td>\n",
       "      <td>0.0</td>\n",
       "      <td>0.0</td>\n",
       "      <td>0.0</td>\n",
       "      <td>0.0</td>\n",
       "      <td>0.0</td>\n",
       "      <td>...</td>\n",
       "      <td>0.0</td>\n",
       "      <td>0.0</td>\n",
       "      <td>0.0</td>\n",
       "      <td>0.0</td>\n",
       "      <td>0.0</td>\n",
       "      <td>0.0</td>\n",
       "      <td>0.0</td>\n",
       "      <td>0.0</td>\n",
       "      <td>0.0</td>\n",
       "      <td>0.0</td>\n",
       "    </tr>\n",
       "    <tr>\n",
       "      <th>15458</th>\n",
       "      <td>0.0</td>\n",
       "      <td>0.0</td>\n",
       "      <td>0.0</td>\n",
       "      <td>0.0</td>\n",
       "      <td>0.0</td>\n",
       "      <td>0.0</td>\n",
       "      <td>0.0</td>\n",
       "      <td>0.0</td>\n",
       "      <td>0.0</td>\n",
       "      <td>0.0</td>\n",
       "      <td>...</td>\n",
       "      <td>0.0</td>\n",
       "      <td>0.0</td>\n",
       "      <td>0.0</td>\n",
       "      <td>0.0</td>\n",
       "      <td>0.0</td>\n",
       "      <td>0.0</td>\n",
       "      <td>0.0</td>\n",
       "      <td>0.0</td>\n",
       "      <td>0.0</td>\n",
       "      <td>0.0</td>\n",
       "    </tr>\n",
       "    <tr>\n",
       "      <th>6563</th>\n",
       "      <td>0.0</td>\n",
       "      <td>0.0</td>\n",
       "      <td>0.0</td>\n",
       "      <td>0.0</td>\n",
       "      <td>0.0</td>\n",
       "      <td>0.0</td>\n",
       "      <td>0.0</td>\n",
       "      <td>0.0</td>\n",
       "      <td>0.0</td>\n",
       "      <td>0.0</td>\n",
       "      <td>...</td>\n",
       "      <td>0.0</td>\n",
       "      <td>0.0</td>\n",
       "      <td>0.0</td>\n",
       "      <td>0.0</td>\n",
       "      <td>0.0</td>\n",
       "      <td>0.0</td>\n",
       "      <td>0.0</td>\n",
       "      <td>0.0</td>\n",
       "      <td>0.0</td>\n",
       "      <td>0.0</td>\n",
       "    </tr>\n",
       "    <tr>\n",
       "      <th>4404</th>\n",
       "      <td>0.0</td>\n",
       "      <td>0.0</td>\n",
       "      <td>0.0</td>\n",
       "      <td>0.0</td>\n",
       "      <td>0.0</td>\n",
       "      <td>0.0</td>\n",
       "      <td>0.0</td>\n",
       "      <td>0.0</td>\n",
       "      <td>0.0</td>\n",
       "      <td>0.0</td>\n",
       "      <td>...</td>\n",
       "      <td>0.0</td>\n",
       "      <td>0.0</td>\n",
       "      <td>0.0</td>\n",
       "      <td>0.0</td>\n",
       "      <td>0.0</td>\n",
       "      <td>0.0</td>\n",
       "      <td>0.0</td>\n",
       "      <td>0.0</td>\n",
       "      <td>0.0</td>\n",
       "      <td>0.0</td>\n",
       "    </tr>\n",
       "    <tr>\n",
       "      <th>13877</th>\n",
       "      <td>0.0</td>\n",
       "      <td>0.0</td>\n",
       "      <td>0.0</td>\n",
       "      <td>0.0</td>\n",
       "      <td>0.0</td>\n",
       "      <td>0.0</td>\n",
       "      <td>0.0</td>\n",
       "      <td>0.0</td>\n",
       "      <td>0.0</td>\n",
       "      <td>0.0</td>\n",
       "      <td>...</td>\n",
       "      <td>0.0</td>\n",
       "      <td>0.0</td>\n",
       "      <td>0.0</td>\n",
       "      <td>0.0</td>\n",
       "      <td>0.0</td>\n",
       "      <td>0.0</td>\n",
       "      <td>0.0</td>\n",
       "      <td>0.0</td>\n",
       "      <td>0.0</td>\n",
       "      <td>0.0</td>\n",
       "    </tr>\n",
       "    <tr>\n",
       "      <th>...</th>\n",
       "      <td>...</td>\n",
       "      <td>...</td>\n",
       "      <td>...</td>\n",
       "      <td>...</td>\n",
       "      <td>...</td>\n",
       "      <td>...</td>\n",
       "      <td>...</td>\n",
       "      <td>...</td>\n",
       "      <td>...</td>\n",
       "      <td>...</td>\n",
       "      <td>...</td>\n",
       "      <td>...</td>\n",
       "      <td>...</td>\n",
       "      <td>...</td>\n",
       "      <td>...</td>\n",
       "      <td>...</td>\n",
       "      <td>...</td>\n",
       "      <td>...</td>\n",
       "      <td>...</td>\n",
       "      <td>...</td>\n",
       "      <td>...</td>\n",
       "    </tr>\n",
       "    <tr>\n",
       "      <th>3395</th>\n",
       "      <td>0.0</td>\n",
       "      <td>0.0</td>\n",
       "      <td>0.0</td>\n",
       "      <td>0.0</td>\n",
       "      <td>0.0</td>\n",
       "      <td>0.0</td>\n",
       "      <td>0.0</td>\n",
       "      <td>0.0</td>\n",
       "      <td>0.0</td>\n",
       "      <td>0.0</td>\n",
       "      <td>...</td>\n",
       "      <td>0.0</td>\n",
       "      <td>0.0</td>\n",
       "      <td>0.0</td>\n",
       "      <td>0.0</td>\n",
       "      <td>0.0</td>\n",
       "      <td>0.0</td>\n",
       "      <td>0.0</td>\n",
       "      <td>0.0</td>\n",
       "      <td>0.0</td>\n",
       "      <td>0.0</td>\n",
       "    </tr>\n",
       "    <tr>\n",
       "      <th>17207</th>\n",
       "      <td>0.0</td>\n",
       "      <td>0.0</td>\n",
       "      <td>0.0</td>\n",
       "      <td>0.0</td>\n",
       "      <td>0.0</td>\n",
       "      <td>1.0</td>\n",
       "      <td>0.0</td>\n",
       "      <td>0.0</td>\n",
       "      <td>0.0</td>\n",
       "      <td>0.0</td>\n",
       "      <td>...</td>\n",
       "      <td>0.0</td>\n",
       "      <td>0.0</td>\n",
       "      <td>0.0</td>\n",
       "      <td>0.0</td>\n",
       "      <td>0.0</td>\n",
       "      <td>0.0</td>\n",
       "      <td>0.0</td>\n",
       "      <td>0.0</td>\n",
       "      <td>0.0</td>\n",
       "      <td>0.0</td>\n",
       "    </tr>\n",
       "    <tr>\n",
       "      <th>20547</th>\n",
       "      <td>0.0</td>\n",
       "      <td>0.0</td>\n",
       "      <td>0.0</td>\n",
       "      <td>0.0</td>\n",
       "      <td>0.0</td>\n",
       "      <td>1.0</td>\n",
       "      <td>0.0</td>\n",
       "      <td>0.0</td>\n",
       "      <td>0.0</td>\n",
       "      <td>0.0</td>\n",
       "      <td>...</td>\n",
       "      <td>0.0</td>\n",
       "      <td>0.0</td>\n",
       "      <td>0.0</td>\n",
       "      <td>0.0</td>\n",
       "      <td>0.0</td>\n",
       "      <td>0.0</td>\n",
       "      <td>0.0</td>\n",
       "      <td>0.0</td>\n",
       "      <td>0.0</td>\n",
       "      <td>0.0</td>\n",
       "    </tr>\n",
       "    <tr>\n",
       "      <th>10822</th>\n",
       "      <td>0.0</td>\n",
       "      <td>0.0</td>\n",
       "      <td>0.0</td>\n",
       "      <td>0.0</td>\n",
       "      <td>0.0</td>\n",
       "      <td>0.0</td>\n",
       "      <td>0.0</td>\n",
       "      <td>0.0</td>\n",
       "      <td>0.0</td>\n",
       "      <td>0.0</td>\n",
       "      <td>...</td>\n",
       "      <td>0.0</td>\n",
       "      <td>0.0</td>\n",
       "      <td>0.0</td>\n",
       "      <td>0.0</td>\n",
       "      <td>0.0</td>\n",
       "      <td>0.0</td>\n",
       "      <td>0.0</td>\n",
       "      <td>0.0</td>\n",
       "      <td>0.0</td>\n",
       "      <td>1.0</td>\n",
       "    </tr>\n",
       "    <tr>\n",
       "      <th>2996</th>\n",
       "      <td>0.0</td>\n",
       "      <td>0.0</td>\n",
       "      <td>0.0</td>\n",
       "      <td>0.0</td>\n",
       "      <td>0.0</td>\n",
       "      <td>0.0</td>\n",
       "      <td>0.0</td>\n",
       "      <td>0.0</td>\n",
       "      <td>0.0</td>\n",
       "      <td>0.0</td>\n",
       "      <td>...</td>\n",
       "      <td>0.0</td>\n",
       "      <td>0.0</td>\n",
       "      <td>0.0</td>\n",
       "      <td>0.0</td>\n",
       "      <td>0.0</td>\n",
       "      <td>0.0</td>\n",
       "      <td>0.0</td>\n",
       "      <td>1.0</td>\n",
       "      <td>0.0</td>\n",
       "      <td>0.0</td>\n",
       "    </tr>\n",
       "  </tbody>\n",
       "</table>\n",
       "<p>15117 rows × 70 columns</p>\n",
       "</div>"
      ],
      "text/plain": [
       "       zipcode_98001  zipcode_98002  zipcode_98003  zipcode_98004  \\\n",
       "2756             0.0            0.0            0.0            0.0   \n",
       "15458            0.0            0.0            0.0            0.0   \n",
       "6563             0.0            0.0            0.0            0.0   \n",
       "4404             0.0            0.0            0.0            0.0   \n",
       "13877            0.0            0.0            0.0            0.0   \n",
       "...              ...            ...            ...            ...   \n",
       "3395             0.0            0.0            0.0            0.0   \n",
       "17207            0.0            0.0            0.0            0.0   \n",
       "20547            0.0            0.0            0.0            0.0   \n",
       "10822            0.0            0.0            0.0            0.0   \n",
       "2996             0.0            0.0            0.0            0.0   \n",
       "\n",
       "       zipcode_98005  zipcode_98006  zipcode_98007  zipcode_98008  \\\n",
       "2756             0.0            0.0            0.0            0.0   \n",
       "15458            0.0            0.0            0.0            0.0   \n",
       "6563             0.0            0.0            0.0            0.0   \n",
       "4404             0.0            0.0            0.0            0.0   \n",
       "13877            0.0            0.0            0.0            0.0   \n",
       "...              ...            ...            ...            ...   \n",
       "3395             0.0            0.0            0.0            0.0   \n",
       "17207            0.0            1.0            0.0            0.0   \n",
       "20547            0.0            1.0            0.0            0.0   \n",
       "10822            0.0            0.0            0.0            0.0   \n",
       "2996             0.0            0.0            0.0            0.0   \n",
       "\n",
       "       zipcode_98010  zipcode_98011  ...  zipcode_98146  zipcode_98148  \\\n",
       "2756             0.0            0.0  ...            0.0            0.0   \n",
       "15458            0.0            0.0  ...            0.0            0.0   \n",
       "6563             0.0            0.0  ...            0.0            0.0   \n",
       "4404             0.0            0.0  ...            0.0            0.0   \n",
       "13877            0.0            0.0  ...            0.0            0.0   \n",
       "...              ...            ...  ...            ...            ...   \n",
       "3395             0.0            0.0  ...            0.0            0.0   \n",
       "17207            0.0            0.0  ...            0.0            0.0   \n",
       "20547            0.0            0.0  ...            0.0            0.0   \n",
       "10822            0.0            0.0  ...            0.0            0.0   \n",
       "2996             0.0            0.0  ...            0.0            0.0   \n",
       "\n",
       "       zipcode_98155  zipcode_98166  zipcode_98168  zipcode_98177  \\\n",
       "2756             0.0            0.0            0.0            0.0   \n",
       "15458            0.0            0.0            0.0            0.0   \n",
       "6563             0.0            0.0            0.0            0.0   \n",
       "4404             0.0            0.0            0.0            0.0   \n",
       "13877            0.0            0.0            0.0            0.0   \n",
       "...              ...            ...            ...            ...   \n",
       "3395             0.0            0.0            0.0            0.0   \n",
       "17207            0.0            0.0            0.0            0.0   \n",
       "20547            0.0            0.0            0.0            0.0   \n",
       "10822            0.0            0.0            0.0            0.0   \n",
       "2996             0.0            0.0            0.0            0.0   \n",
       "\n",
       "       zipcode_98178  zipcode_98188  zipcode_98198  zipcode_98199  \n",
       "2756             0.0            0.0            0.0            0.0  \n",
       "15458            0.0            0.0            0.0            0.0  \n",
       "6563             0.0            0.0            0.0            0.0  \n",
       "4404             0.0            0.0            0.0            0.0  \n",
       "13877            0.0            0.0            0.0            0.0  \n",
       "...              ...            ...            ...            ...  \n",
       "3395             0.0            0.0            0.0            0.0  \n",
       "17207            0.0            0.0            0.0            0.0  \n",
       "20547            0.0            0.0            0.0            0.0  \n",
       "10822            0.0            0.0            0.0            1.0  \n",
       "2996             0.0            1.0            0.0            0.0  \n",
       "\n",
       "[15117 rows x 70 columns]"
      ]
     },
     "execution_count": 13,
     "metadata": {},
     "output_type": "execute_result"
    }
   ],
   "source": [
    "## Encode cat_cols\n",
    "encoder = OneHotEncoder(sparse=False, handle_unknown='ignore', drop=None)\n",
    "encoder.fit(X_train_tf[cat_cols])\n",
    "\n",
    "train_cat_cols = pd.DataFrame(encoder.transform(X_train_tf[cat_cols]),\n",
    "                              columns=encoder.get_feature_names(cat_cols),\n",
    "                              index=X_train_tf.index)\n",
    "\n",
    "test_cat_cols = pd.DataFrame(encoder.transform(X_test_tf[cat_cols]),\n",
    "                              columns=encoder.get_feature_names(cat_cols),\n",
    "                              index=X_test_tf.index)\n",
    "\n",
    "train_cat_cols"
   ]
  },
  {
   "cell_type": "code",
   "execution_count": 14,
   "metadata": {
    "ExecuteTime": {
     "end_time": "2021-05-03T22:59:18.455896Z",
     "start_time": "2021-05-03T22:59:18.426075Z"
    }
   },
   "outputs": [
    {
     "data": {
      "text/html": [
       "<div>\n",
       "<style scoped>\n",
       "    .dataframe tbody tr th:only-of-type {\n",
       "        vertical-align: middle;\n",
       "    }\n",
       "\n",
       "    .dataframe tbody tr th {\n",
       "        vertical-align: top;\n",
       "    }\n",
       "\n",
       "    .dataframe thead th {\n",
       "        text-align: right;\n",
       "    }\n",
       "</style>\n",
       "<table border=\"1\" class=\"dataframe\">\n",
       "  <thead>\n",
       "    <tr style=\"text-align: right;\">\n",
       "      <th></th>\n",
       "      <th>bedrooms</th>\n",
       "      <th>bathrooms</th>\n",
       "      <th>sqft_living</th>\n",
       "      <th>sqft_lot</th>\n",
       "      <th>floors</th>\n",
       "      <th>waterfront</th>\n",
       "      <th>view</th>\n",
       "      <th>condition</th>\n",
       "      <th>grade</th>\n",
       "      <th>sqft_above</th>\n",
       "      <th>sqft_basement</th>\n",
       "      <th>sqft_living15</th>\n",
       "      <th>sqft_lot15</th>\n",
       "    </tr>\n",
       "  </thead>\n",
       "  <tbody>\n",
       "    <tr>\n",
       "      <th>2756</th>\n",
       "      <td>0.03125</td>\n",
       "      <td>0.200000</td>\n",
       "      <td>0.086626</td>\n",
       "      <td>0.002720</td>\n",
       "      <td>0.0</td>\n",
       "      <td>0.0</td>\n",
       "      <td>0.00</td>\n",
       "      <td>0.50</td>\n",
       "      <td>0.4</td>\n",
       "      <td>0.126246</td>\n",
       "      <td>0.000000</td>\n",
       "      <td>0.087657</td>\n",
       "      <td>0.005042</td>\n",
       "    </tr>\n",
       "    <tr>\n",
       "      <th>15458</th>\n",
       "      <td>0.06250</td>\n",
       "      <td>0.300000</td>\n",
       "      <td>0.228723</td>\n",
       "      <td>0.003925</td>\n",
       "      <td>0.0</td>\n",
       "      <td>0.0</td>\n",
       "      <td>0.75</td>\n",
       "      <td>0.75</td>\n",
       "      <td>0.5</td>\n",
       "      <td>0.150609</td>\n",
       "      <td>0.342324</td>\n",
       "      <td>0.205725</td>\n",
       "      <td>0.006719</td>\n",
       "    </tr>\n",
       "    <tr>\n",
       "      <th>6563</th>\n",
       "      <td>0.09375</td>\n",
       "      <td>0.133333</td>\n",
       "      <td>0.106383</td>\n",
       "      <td>0.002774</td>\n",
       "      <td>0.0</td>\n",
       "      <td>0.0</td>\n",
       "      <td>0.00</td>\n",
       "      <td>0.50</td>\n",
       "      <td>0.4</td>\n",
       "      <td>0.104097</td>\n",
       "      <td>0.000000</td>\n",
       "      <td>0.225403</td>\n",
       "      <td>0.005111</td>\n",
       "    </tr>\n",
       "    <tr>\n",
       "      <th>4404</th>\n",
       "      <td>0.06250</td>\n",
       "      <td>0.333333</td>\n",
       "      <td>0.160334</td>\n",
       "      <td>0.016466</td>\n",
       "      <td>0.4</td>\n",
       "      <td>1.0</td>\n",
       "      <td>1.00</td>\n",
       "      <td>0.50</td>\n",
       "      <td>0.7</td>\n",
       "      <td>0.233666</td>\n",
       "      <td>0.000000</td>\n",
       "      <td>0.350626</td>\n",
       "      <td>0.013173</td>\n",
       "    </tr>\n",
       "    <tr>\n",
       "      <th>13877</th>\n",
       "      <td>0.09375</td>\n",
       "      <td>0.266667</td>\n",
       "      <td>0.199088</td>\n",
       "      <td>0.004592</td>\n",
       "      <td>0.4</td>\n",
       "      <td>0.0</td>\n",
       "      <td>0.00</td>\n",
       "      <td>0.50</td>\n",
       "      <td>0.5</td>\n",
       "      <td>0.290144</td>\n",
       "      <td>0.000000</td>\n",
       "      <td>0.166369</td>\n",
       "      <td>0.008557</td>\n",
       "    </tr>\n",
       "    <tr>\n",
       "      <th>...</th>\n",
       "      <td>...</td>\n",
       "      <td>...</td>\n",
       "      <td>...</td>\n",
       "      <td>...</td>\n",
       "      <td>...</td>\n",
       "      <td>...</td>\n",
       "      <td>...</td>\n",
       "      <td>...</td>\n",
       "      <td>...</td>\n",
       "      <td>...</td>\n",
       "      <td>...</td>\n",
       "      <td>...</td>\n",
       "      <td>...</td>\n",
       "    </tr>\n",
       "    <tr>\n",
       "      <th>3395</th>\n",
       "      <td>0.09375</td>\n",
       "      <td>0.200000</td>\n",
       "      <td>0.155775</td>\n",
       "      <td>0.120799</td>\n",
       "      <td>0.0</td>\n",
       "      <td>0.0</td>\n",
       "      <td>0.00</td>\n",
       "      <td>0.50</td>\n",
       "      <td>0.5</td>\n",
       "      <td>0.102990</td>\n",
       "      <td>0.232365</td>\n",
       "      <td>0.286225</td>\n",
       "      <td>0.171881</td>\n",
       "    </tr>\n",
       "    <tr>\n",
       "      <th>17207</th>\n",
       "      <td>0.09375</td>\n",
       "      <td>0.233333</td>\n",
       "      <td>0.161094</td>\n",
       "      <td>0.004834</td>\n",
       "      <td>0.4</td>\n",
       "      <td>0.0</td>\n",
       "      <td>0.00</td>\n",
       "      <td>0.75</td>\n",
       "      <td>0.5</td>\n",
       "      <td>0.234773</td>\n",
       "      <td>0.000000</td>\n",
       "      <td>0.330948</td>\n",
       "      <td>0.009705</td>\n",
       "    </tr>\n",
       "    <tr>\n",
       "      <th>20547</th>\n",
       "      <td>0.12500</td>\n",
       "      <td>0.366667</td>\n",
       "      <td>0.411094</td>\n",
       "      <td>0.008000</td>\n",
       "      <td>0.4</td>\n",
       "      <td>0.0</td>\n",
       "      <td>0.75</td>\n",
       "      <td>0.50</td>\n",
       "      <td>0.7</td>\n",
       "      <td>0.448505</td>\n",
       "      <td>0.282158</td>\n",
       "      <td>0.924866</td>\n",
       "      <td>0.015019</td>\n",
       "    </tr>\n",
       "    <tr>\n",
       "      <th>10822</th>\n",
       "      <td>0.09375</td>\n",
       "      <td>0.200000</td>\n",
       "      <td>0.151976</td>\n",
       "      <td>0.003393</td>\n",
       "      <td>0.0</td>\n",
       "      <td>0.0</td>\n",
       "      <td>0.50</td>\n",
       "      <td>0.75</td>\n",
       "      <td>0.5</td>\n",
       "      <td>0.102990</td>\n",
       "      <td>0.221992</td>\n",
       "      <td>0.212880</td>\n",
       "      <td>0.005228</td>\n",
       "    </tr>\n",
       "    <tr>\n",
       "      <th>2996</th>\n",
       "      <td>0.06250</td>\n",
       "      <td>0.166667</td>\n",
       "      <td>0.096505</td>\n",
       "      <td>0.007165</td>\n",
       "      <td>0.0</td>\n",
       "      <td>0.0</td>\n",
       "      <td>0.00</td>\n",
       "      <td>0.50</td>\n",
       "      <td>0.4</td>\n",
       "      <td>0.140642</td>\n",
       "      <td>0.000000</td>\n",
       "      <td>0.152057</td>\n",
       "      <td>0.011616</td>\n",
       "    </tr>\n",
       "  </tbody>\n",
       "</table>\n",
       "<p>15117 rows × 13 columns</p>\n",
       "</div>"
      ],
      "text/plain": [
       "       bedrooms  bathrooms  sqft_living  sqft_lot  floors  waterfront  view  \\\n",
       "2756    0.03125   0.200000     0.086626  0.002720     0.0         0.0  0.00   \n",
       "15458   0.06250   0.300000     0.228723  0.003925     0.0         0.0  0.75   \n",
       "6563    0.09375   0.133333     0.106383  0.002774     0.0         0.0  0.00   \n",
       "4404    0.06250   0.333333     0.160334  0.016466     0.4         1.0  1.00   \n",
       "13877   0.09375   0.266667     0.199088  0.004592     0.4         0.0  0.00   \n",
       "...         ...        ...          ...       ...     ...         ...   ...   \n",
       "3395    0.09375   0.200000     0.155775  0.120799     0.0         0.0  0.00   \n",
       "17207   0.09375   0.233333     0.161094  0.004834     0.4         0.0  0.00   \n",
       "20547   0.12500   0.366667     0.411094  0.008000     0.4         0.0  0.75   \n",
       "10822   0.09375   0.200000     0.151976  0.003393     0.0         0.0  0.50   \n",
       "2996    0.06250   0.166667     0.096505  0.007165     0.0         0.0  0.00   \n",
       "\n",
       "       condition  grade  sqft_above  sqft_basement  sqft_living15  sqft_lot15  \n",
       "2756        0.50    0.4    0.126246       0.000000       0.087657    0.005042  \n",
       "15458       0.75    0.5    0.150609       0.342324       0.205725    0.006719  \n",
       "6563        0.50    0.4    0.104097       0.000000       0.225403    0.005111  \n",
       "4404        0.50    0.7    0.233666       0.000000       0.350626    0.013173  \n",
       "13877       0.50    0.5    0.290144       0.000000       0.166369    0.008557  \n",
       "...          ...    ...         ...            ...            ...         ...  \n",
       "3395        0.50    0.5    0.102990       0.232365       0.286225    0.171881  \n",
       "17207       0.75    0.5    0.234773       0.000000       0.330948    0.009705  \n",
       "20547       0.50    0.7    0.448505       0.282158       0.924866    0.015019  \n",
       "10822       0.75    0.5    0.102990       0.221992       0.212880    0.005228  \n",
       "2996        0.50    0.4    0.140642       0.000000       0.152057    0.011616  \n",
       "\n",
       "[15117 rows x 13 columns]"
      ]
     },
     "execution_count": 14,
     "metadata": {},
     "output_type": "execute_result"
    }
   ],
   "source": [
    "## Scaling Num_cols\n",
    "scaler = MinMaxScaler()\n",
    "train_num_cols = pd.DataFrame(scaler.fit_transform(X_train_tf[num_cols]),\n",
    "                              columns=num_cols,index=X_train_tf.index)\n",
    "\n",
    "test_num_cols = pd.DataFrame(scaler.transform(X_test_tf[num_cols]),\n",
    "                             columns=num_cols, index=X_test_tf.index)\n",
    "train_num_cols"
   ]
  },
  {
   "cell_type": "code",
   "execution_count": 15,
   "metadata": {
    "ExecuteTime": {
     "end_time": "2021-05-03T22:59:34.541445Z",
     "start_time": "2021-05-03T22:59:34.502847Z"
    }
   },
   "outputs": [
    {
     "data": {
      "text/html": [
       "<div>\n",
       "<style scoped>\n",
       "    .dataframe tbody tr th:only-of-type {\n",
       "        vertical-align: middle;\n",
       "    }\n",
       "\n",
       "    .dataframe tbody tr th {\n",
       "        vertical-align: top;\n",
       "    }\n",
       "\n",
       "    .dataframe thead th {\n",
       "        text-align: right;\n",
       "    }\n",
       "</style>\n",
       "<table border=\"1\" class=\"dataframe\">\n",
       "  <thead>\n",
       "    <tr style=\"text-align: right;\">\n",
       "      <th></th>\n",
       "      <th>bedrooms</th>\n",
       "      <th>bathrooms</th>\n",
       "      <th>sqft_living</th>\n",
       "      <th>sqft_lot</th>\n",
       "      <th>floors</th>\n",
       "      <th>waterfront</th>\n",
       "      <th>view</th>\n",
       "      <th>condition</th>\n",
       "      <th>grade</th>\n",
       "      <th>sqft_above</th>\n",
       "      <th>...</th>\n",
       "      <th>zipcode_98146</th>\n",
       "      <th>zipcode_98148</th>\n",
       "      <th>zipcode_98155</th>\n",
       "      <th>zipcode_98166</th>\n",
       "      <th>zipcode_98168</th>\n",
       "      <th>zipcode_98177</th>\n",
       "      <th>zipcode_98178</th>\n",
       "      <th>zipcode_98188</th>\n",
       "      <th>zipcode_98198</th>\n",
       "      <th>zipcode_98199</th>\n",
       "    </tr>\n",
       "  </thead>\n",
       "  <tbody>\n",
       "    <tr>\n",
       "      <th>2756</th>\n",
       "      <td>0.03125</td>\n",
       "      <td>0.200000</td>\n",
       "      <td>0.086626</td>\n",
       "      <td>0.002720</td>\n",
       "      <td>0.0</td>\n",
       "      <td>0.0</td>\n",
       "      <td>0.00</td>\n",
       "      <td>0.50</td>\n",
       "      <td>0.4</td>\n",
       "      <td>0.126246</td>\n",
       "      <td>...</td>\n",
       "      <td>0.0</td>\n",
       "      <td>0.0</td>\n",
       "      <td>0.0</td>\n",
       "      <td>0.0</td>\n",
       "      <td>0.0</td>\n",
       "      <td>0.0</td>\n",
       "      <td>0.0</td>\n",
       "      <td>0.0</td>\n",
       "      <td>0.0</td>\n",
       "      <td>0.0</td>\n",
       "    </tr>\n",
       "    <tr>\n",
       "      <th>15458</th>\n",
       "      <td>0.06250</td>\n",
       "      <td>0.300000</td>\n",
       "      <td>0.228723</td>\n",
       "      <td>0.003925</td>\n",
       "      <td>0.0</td>\n",
       "      <td>0.0</td>\n",
       "      <td>0.75</td>\n",
       "      <td>0.75</td>\n",
       "      <td>0.5</td>\n",
       "      <td>0.150609</td>\n",
       "      <td>...</td>\n",
       "      <td>0.0</td>\n",
       "      <td>0.0</td>\n",
       "      <td>0.0</td>\n",
       "      <td>0.0</td>\n",
       "      <td>0.0</td>\n",
       "      <td>0.0</td>\n",
       "      <td>0.0</td>\n",
       "      <td>0.0</td>\n",
       "      <td>0.0</td>\n",
       "      <td>0.0</td>\n",
       "    </tr>\n",
       "    <tr>\n",
       "      <th>6563</th>\n",
       "      <td>0.09375</td>\n",
       "      <td>0.133333</td>\n",
       "      <td>0.106383</td>\n",
       "      <td>0.002774</td>\n",
       "      <td>0.0</td>\n",
       "      <td>0.0</td>\n",
       "      <td>0.00</td>\n",
       "      <td>0.50</td>\n",
       "      <td>0.4</td>\n",
       "      <td>0.104097</td>\n",
       "      <td>...</td>\n",
       "      <td>0.0</td>\n",
       "      <td>0.0</td>\n",
       "      <td>0.0</td>\n",
       "      <td>0.0</td>\n",
       "      <td>0.0</td>\n",
       "      <td>0.0</td>\n",
       "      <td>0.0</td>\n",
       "      <td>0.0</td>\n",
       "      <td>0.0</td>\n",
       "      <td>0.0</td>\n",
       "    </tr>\n",
       "    <tr>\n",
       "      <th>4404</th>\n",
       "      <td>0.06250</td>\n",
       "      <td>0.333333</td>\n",
       "      <td>0.160334</td>\n",
       "      <td>0.016466</td>\n",
       "      <td>0.4</td>\n",
       "      <td>1.0</td>\n",
       "      <td>1.00</td>\n",
       "      <td>0.50</td>\n",
       "      <td>0.7</td>\n",
       "      <td>0.233666</td>\n",
       "      <td>...</td>\n",
       "      <td>0.0</td>\n",
       "      <td>0.0</td>\n",
       "      <td>0.0</td>\n",
       "      <td>0.0</td>\n",
       "      <td>0.0</td>\n",
       "      <td>0.0</td>\n",
       "      <td>0.0</td>\n",
       "      <td>0.0</td>\n",
       "      <td>0.0</td>\n",
       "      <td>0.0</td>\n",
       "    </tr>\n",
       "    <tr>\n",
       "      <th>13877</th>\n",
       "      <td>0.09375</td>\n",
       "      <td>0.266667</td>\n",
       "      <td>0.199088</td>\n",
       "      <td>0.004592</td>\n",
       "      <td>0.4</td>\n",
       "      <td>0.0</td>\n",
       "      <td>0.00</td>\n",
       "      <td>0.50</td>\n",
       "      <td>0.5</td>\n",
       "      <td>0.290144</td>\n",
       "      <td>...</td>\n",
       "      <td>0.0</td>\n",
       "      <td>0.0</td>\n",
       "      <td>0.0</td>\n",
       "      <td>0.0</td>\n",
       "      <td>0.0</td>\n",
       "      <td>0.0</td>\n",
       "      <td>0.0</td>\n",
       "      <td>0.0</td>\n",
       "      <td>0.0</td>\n",
       "      <td>0.0</td>\n",
       "    </tr>\n",
       "    <tr>\n",
       "      <th>...</th>\n",
       "      <td>...</td>\n",
       "      <td>...</td>\n",
       "      <td>...</td>\n",
       "      <td>...</td>\n",
       "      <td>...</td>\n",
       "      <td>...</td>\n",
       "      <td>...</td>\n",
       "      <td>...</td>\n",
       "      <td>...</td>\n",
       "      <td>...</td>\n",
       "      <td>...</td>\n",
       "      <td>...</td>\n",
       "      <td>...</td>\n",
       "      <td>...</td>\n",
       "      <td>...</td>\n",
       "      <td>...</td>\n",
       "      <td>...</td>\n",
       "      <td>...</td>\n",
       "      <td>...</td>\n",
       "      <td>...</td>\n",
       "      <td>...</td>\n",
       "    </tr>\n",
       "    <tr>\n",
       "      <th>3395</th>\n",
       "      <td>0.09375</td>\n",
       "      <td>0.200000</td>\n",
       "      <td>0.155775</td>\n",
       "      <td>0.120799</td>\n",
       "      <td>0.0</td>\n",
       "      <td>0.0</td>\n",
       "      <td>0.00</td>\n",
       "      <td>0.50</td>\n",
       "      <td>0.5</td>\n",
       "      <td>0.102990</td>\n",
       "      <td>...</td>\n",
       "      <td>0.0</td>\n",
       "      <td>0.0</td>\n",
       "      <td>0.0</td>\n",
       "      <td>0.0</td>\n",
       "      <td>0.0</td>\n",
       "      <td>0.0</td>\n",
       "      <td>0.0</td>\n",
       "      <td>0.0</td>\n",
       "      <td>0.0</td>\n",
       "      <td>0.0</td>\n",
       "    </tr>\n",
       "    <tr>\n",
       "      <th>17207</th>\n",
       "      <td>0.09375</td>\n",
       "      <td>0.233333</td>\n",
       "      <td>0.161094</td>\n",
       "      <td>0.004834</td>\n",
       "      <td>0.4</td>\n",
       "      <td>0.0</td>\n",
       "      <td>0.00</td>\n",
       "      <td>0.75</td>\n",
       "      <td>0.5</td>\n",
       "      <td>0.234773</td>\n",
       "      <td>...</td>\n",
       "      <td>0.0</td>\n",
       "      <td>0.0</td>\n",
       "      <td>0.0</td>\n",
       "      <td>0.0</td>\n",
       "      <td>0.0</td>\n",
       "      <td>0.0</td>\n",
       "      <td>0.0</td>\n",
       "      <td>0.0</td>\n",
       "      <td>0.0</td>\n",
       "      <td>0.0</td>\n",
       "    </tr>\n",
       "    <tr>\n",
       "      <th>20547</th>\n",
       "      <td>0.12500</td>\n",
       "      <td>0.366667</td>\n",
       "      <td>0.411094</td>\n",
       "      <td>0.008000</td>\n",
       "      <td>0.4</td>\n",
       "      <td>0.0</td>\n",
       "      <td>0.75</td>\n",
       "      <td>0.50</td>\n",
       "      <td>0.7</td>\n",
       "      <td>0.448505</td>\n",
       "      <td>...</td>\n",
       "      <td>0.0</td>\n",
       "      <td>0.0</td>\n",
       "      <td>0.0</td>\n",
       "      <td>0.0</td>\n",
       "      <td>0.0</td>\n",
       "      <td>0.0</td>\n",
       "      <td>0.0</td>\n",
       "      <td>0.0</td>\n",
       "      <td>0.0</td>\n",
       "      <td>0.0</td>\n",
       "    </tr>\n",
       "    <tr>\n",
       "      <th>10822</th>\n",
       "      <td>0.09375</td>\n",
       "      <td>0.200000</td>\n",
       "      <td>0.151976</td>\n",
       "      <td>0.003393</td>\n",
       "      <td>0.0</td>\n",
       "      <td>0.0</td>\n",
       "      <td>0.50</td>\n",
       "      <td>0.75</td>\n",
       "      <td>0.5</td>\n",
       "      <td>0.102990</td>\n",
       "      <td>...</td>\n",
       "      <td>0.0</td>\n",
       "      <td>0.0</td>\n",
       "      <td>0.0</td>\n",
       "      <td>0.0</td>\n",
       "      <td>0.0</td>\n",
       "      <td>0.0</td>\n",
       "      <td>0.0</td>\n",
       "      <td>0.0</td>\n",
       "      <td>0.0</td>\n",
       "      <td>1.0</td>\n",
       "    </tr>\n",
       "    <tr>\n",
       "      <th>2996</th>\n",
       "      <td>0.06250</td>\n",
       "      <td>0.166667</td>\n",
       "      <td>0.096505</td>\n",
       "      <td>0.007165</td>\n",
       "      <td>0.0</td>\n",
       "      <td>0.0</td>\n",
       "      <td>0.00</td>\n",
       "      <td>0.50</td>\n",
       "      <td>0.4</td>\n",
       "      <td>0.140642</td>\n",
       "      <td>...</td>\n",
       "      <td>0.0</td>\n",
       "      <td>0.0</td>\n",
       "      <td>0.0</td>\n",
       "      <td>0.0</td>\n",
       "      <td>0.0</td>\n",
       "      <td>0.0</td>\n",
       "      <td>0.0</td>\n",
       "      <td>1.0</td>\n",
       "      <td>0.0</td>\n",
       "      <td>0.0</td>\n",
       "    </tr>\n",
       "  </tbody>\n",
       "</table>\n",
       "<p>15117 rows × 83 columns</p>\n",
       "</div>"
      ],
      "text/plain": [
       "       bedrooms  bathrooms  sqft_living  sqft_lot  floors  waterfront  view  \\\n",
       "2756    0.03125   0.200000     0.086626  0.002720     0.0         0.0  0.00   \n",
       "15458   0.06250   0.300000     0.228723  0.003925     0.0         0.0  0.75   \n",
       "6563    0.09375   0.133333     0.106383  0.002774     0.0         0.0  0.00   \n",
       "4404    0.06250   0.333333     0.160334  0.016466     0.4         1.0  1.00   \n",
       "13877   0.09375   0.266667     0.199088  0.004592     0.4         0.0  0.00   \n",
       "...         ...        ...          ...       ...     ...         ...   ...   \n",
       "3395    0.09375   0.200000     0.155775  0.120799     0.0         0.0  0.00   \n",
       "17207   0.09375   0.233333     0.161094  0.004834     0.4         0.0  0.00   \n",
       "20547   0.12500   0.366667     0.411094  0.008000     0.4         0.0  0.75   \n",
       "10822   0.09375   0.200000     0.151976  0.003393     0.0         0.0  0.50   \n",
       "2996    0.06250   0.166667     0.096505  0.007165     0.0         0.0  0.00   \n",
       "\n",
       "       condition  grade  sqft_above  ...  zipcode_98146  zipcode_98148  \\\n",
       "2756        0.50    0.4    0.126246  ...            0.0            0.0   \n",
       "15458       0.75    0.5    0.150609  ...            0.0            0.0   \n",
       "6563        0.50    0.4    0.104097  ...            0.0            0.0   \n",
       "4404        0.50    0.7    0.233666  ...            0.0            0.0   \n",
       "13877       0.50    0.5    0.290144  ...            0.0            0.0   \n",
       "...          ...    ...         ...  ...            ...            ...   \n",
       "3395        0.50    0.5    0.102990  ...            0.0            0.0   \n",
       "17207       0.75    0.5    0.234773  ...            0.0            0.0   \n",
       "20547       0.50    0.7    0.448505  ...            0.0            0.0   \n",
       "10822       0.75    0.5    0.102990  ...            0.0            0.0   \n",
       "2996        0.50    0.4    0.140642  ...            0.0            0.0   \n",
       "\n",
       "       zipcode_98155  zipcode_98166  zipcode_98168  zipcode_98177  \\\n",
       "2756             0.0            0.0            0.0            0.0   \n",
       "15458            0.0            0.0            0.0            0.0   \n",
       "6563             0.0            0.0            0.0            0.0   \n",
       "4404             0.0            0.0            0.0            0.0   \n",
       "13877            0.0            0.0            0.0            0.0   \n",
       "...              ...            ...            ...            ...   \n",
       "3395             0.0            0.0            0.0            0.0   \n",
       "17207            0.0            0.0            0.0            0.0   \n",
       "20547            0.0            0.0            0.0            0.0   \n",
       "10822            0.0            0.0            0.0            0.0   \n",
       "2996             0.0            0.0            0.0            0.0   \n",
       "\n",
       "       zipcode_98178  zipcode_98188  zipcode_98198  zipcode_98199  \n",
       "2756             0.0            0.0            0.0            0.0  \n",
       "15458            0.0            0.0            0.0            0.0  \n",
       "6563             0.0            0.0            0.0            0.0  \n",
       "4404             0.0            0.0            0.0            0.0  \n",
       "13877            0.0            0.0            0.0            0.0  \n",
       "...              ...            ...            ...            ...  \n",
       "3395             0.0            0.0            0.0            0.0  \n",
       "17207            0.0            0.0            0.0            0.0  \n",
       "20547            0.0            0.0            0.0            0.0  \n",
       "10822            0.0            0.0            0.0            1.0  \n",
       "2996             0.0            1.0            0.0            0.0  \n",
       "\n",
       "[15117 rows x 83 columns]"
      ]
     },
     "execution_count": 15,
     "metadata": {},
     "output_type": "execute_result"
    }
   ],
   "source": [
    "## Combine Num and Cat Cols\n",
    "\n",
    "X_train_tf = pd.concat([train_num_cols,train_cat_cols],axis=1)\n",
    "X_test_tf = pd.concat([test_num_cols,test_cat_cols],axis=1)\n",
    "\n",
    "X_train_tf"
   ]
  },
  {
   "cell_type": "code",
   "execution_count": 16,
   "metadata": {
    "ExecuteTime": {
     "end_time": "2021-05-03T22:59:46.419825Z",
     "start_time": "2021-05-03T22:59:46.394795Z"
    }
   },
   "outputs": [
    {
     "data": {
      "text/plain": [
       "1.0000000000000002"
      ]
     },
     "execution_count": 16,
     "metadata": {},
     "output_type": "execute_result"
    }
   ],
   "source": [
    "## confirming no values above 1\n",
    "X_train_tf.max().max()"
   ]
  },
  {
   "cell_type": "markdown",
   "metadata": {},
   "source": [
    "### Exhibit A: The case for functions and dictionaries"
   ]
  },
  {
   "cell_type": "markdown",
   "metadata": {},
   "source": [
    "- Code From [Ridge And Lasso Regression Lesson](https://learn.co/tracks/module-3-data-science-career-2-1/machine-learning/section-24-feature-selection-ridge-and-lasso/ridge-and-lasso-regression)\n",
    "\n",
    "- The following code is from the Learn.co lesson and its goal is to create,fit and evaluate 3 different models to compare the results."
   ]
  },
  {
   "cell_type": "code",
   "execution_count": 17,
   "metadata": {
    "ExecuteTime": {
     "end_time": "2021-05-03T23:00:00.299926Z",
     "start_time": "2021-05-03T23:00:00.296480Z"
    }
   },
   "outputs": [
    {
     "data": {
      "text/plain": [
       "((15117,), (6480,))"
      ]
     },
     "execution_count": 17,
     "metadata": {},
     "output_type": "execute_result"
    }
   ],
   "source": [
    "y_train.shape, y_test.shape"
   ]
  },
  {
   "cell_type": "code",
   "execution_count": 18,
   "metadata": {
    "ExecuteTime": {
     "end_time": "2021-05-03T23:00:02.710682Z",
     "start_time": "2021-05-03T23:00:01.568680Z"
    }
   },
   "outputs": [
    {
     "name": "stdout",
     "output_type": "stream",
     "text": [
      "Train Error Ridge Model 389906874192751.1\n",
      "Test Error Ridge Model 179709256633007.75\n",
      "\n",
      "\n",
      "Train Error Lasso Model 389821113009745.06\n",
      "Test Error Lasso Model 179444839891936.2\n",
      "\n",
      "\n",
      "Train Error Unpenalized Linear Model 389821815759466.0\n",
      "Test Error Unpenalized Linear Model 179433570280896.0\n",
      "\n",
      "\n",
      "\n",
      "\n",
      "Ridge parameter coefficients:\n",
      " [-7.31146901e+05  7.83422169e+04  1.09554082e+06  4.22841871e+05\n",
      " -1.45845004e+05  6.24553044e+05  2.30098353e+05  1.35203733e+05\n",
      "  5.32805796e+05  1.19069404e+06  2.32296794e+05  7.36954124e+04\n",
      " -1.32280784e+05 -2.05322658e+05 -1.77659460e+05 -2.27631346e+05\n",
      "  5.61672292e+05  9.04062013e+04  5.97846548e+04  3.84708154e+04\n",
      "  3.41626548e+04 -1.44897721e+05 -9.92893602e+04 -9.11815945e+04\n",
      " -1.10446615e+05 -2.17984656e+05 -2.40262865e+05 -4.37840123e+04\n",
      " -3.78472996e+04 -7.48665490e+04  1.13277933e+03 -1.97896659e+05\n",
      " -1.95944884e+05 -1.91143958e+05  1.42529588e+05 -1.68694557e+03\n",
      " -1.76953253e+05  1.00447052e+06  3.07588633e+05 -2.02117478e+05\n",
      " -1.13326832e+05  2.11289747e+04 -1.88107201e+04 -1.50857530e+05\n",
      " -1.12160074e+05 -1.78948651e+05 -1.32725688e+05 -1.28648211e+05\n",
      " -1.83336076e+05 -6.49465477e+04 -3.71760619e+04 -4.57329561e+04\n",
      " -9.91024993e+04 -2.48244976e+05  3.63707166e+05  1.65241030e+05\n",
      "  3.04914414e+05 -4.27888448e+04  1.66514425e+05 -6.43706044e+04\n",
      "  3.06635077e+05  4.58411534e+05  1.49700137e+05  1.15051165e+05\n",
      "  1.37768195e+05 -1.48590022e+04  3.04634841e+05  1.65308115e+05\n",
      "  8.41016490e+03  1.46452507e+04 -2.63544259e+04  6.47256692e+04\n",
      "  8.88295139e+04 -7.85005428e+04 -1.16678791e+05 -5.10158106e+04\n",
      " -1.36166638e+05 -1.13386552e+05  2.43649229e+04 -1.49944071e+05\n",
      " -1.63073321e+05 -1.91106622e+05  1.98970634e+05]\n",
      "Lasso parameter coefficients:\n",
      " [-791725.12724113   74212.357133   1311904.37098899  469559.05129623\n",
      " -146555.23906303  627511.27091114  228807.96849358  134962.0419065\n",
      "  525544.78049579 1073947.93281867  165762.85559922   66912.66012218\n",
      " -166852.90845509 -195537.8316159  -168275.14997674 -217863.98937338\n",
      "  573222.3904643   101235.21370921   70497.2753926    49473.82542836\n",
      "   45065.43040734 -136133.15198862  -89356.14225556  -82549.42111768\n",
      " -100559.73133981 -208692.84144222 -230411.88365225  -34862.07461246\n",
      "  -27813.63829521  -64971.02621969   11636.93333732 -188036.24842845\n",
      " -186208.96109003 -181737.45686075  153084.8517482     8784.27221708\n",
      " -167080.90971471 1027771.83352742  319022.9541482  -192131.21054586\n",
      " -103818.31660253   31583.18971404   -9763.29461174 -141106.9522942\n",
      " -102207.82552732 -169107.77350553 -122598.74166255 -119237.32750677\n",
      " -174599.30039204  -55041.20371531  -26950.87138666  -35477.79705213\n",
      "  -89476.69567636 -238322.79355655  376417.65482419  175611.67195958\n",
      "  316259.29089052  -32696.07648996  177423.22633998  -54387.79530393\n",
      "  318646.63783233  469603.16593072  159879.39077064  125264.43967826\n",
      "  147761.87578339   -4943.02358295  316104.0508681   176368.4791557\n",
      "   18429.25431109   24112.97296895  -16107.46725482   74627.589464\n",
      "   99177.12152448  -68955.54810332 -107895.17469027  -40887.23718287\n",
      " -126761.10117188 -104181.35908303   34473.34672177 -140412.63130959\n",
      " -153736.5776454  -181559.98775882  209563.70508681]\n",
      "Linear model parameter coefficients:\n",
      " [-7.93518879e+05  7.46933087e+04  1.30911427e+06  4.71640203e+05\n",
      " -1.46550758e+05  6.27608397e+05  2.28577755e+05  1.35032814e+05\n",
      "  5.25220914e+05  1.07596948e+06  1.66936967e+05  6.71836888e+04\n",
      " -1.67616390e+05 -1.84548198e+17 -1.84548198e+17 -1.84548198e+17\n",
      " -1.84548198e+17 -1.84548198e+17 -1.84548198e+17 -1.84548198e+17\n",
      " -1.84548198e+17 -1.84548198e+17 -1.84548198e+17 -1.84548198e+17\n",
      " -1.84548198e+17 -1.84548198e+17 -1.84548198e+17 -1.84548198e+17\n",
      " -1.84548198e+17 -1.84548198e+17 -1.84548198e+17 -1.84548198e+17\n",
      " -1.84548198e+17 -1.84548198e+17 -1.84548198e+17 -1.84548198e+17\n",
      " -1.84548198e+17 -1.84548198e+17 -1.84548198e+17 -1.84548198e+17\n",
      " -1.84548198e+17 -1.84548198e+17 -1.84548198e+17 -1.84548198e+17\n",
      " -1.84548198e+17 -1.84548198e+17 -1.84548198e+17 -1.84548198e+17\n",
      " -1.84548198e+17 -1.84548198e+17 -1.84548198e+17 -1.84548198e+17\n",
      " -1.84548198e+17 -1.84548198e+17 -1.84548198e+17 -1.84548198e+17\n",
      " -1.84548198e+17 -1.84548198e+17 -1.84548198e+17 -1.84548198e+17\n",
      " -1.84548198e+17 -1.84548198e+17 -1.84548198e+17 -1.84548198e+17\n",
      " -1.84548198e+17 -1.84548198e+17 -1.84548198e+17 -1.84548198e+17\n",
      " -1.84548198e+17 -1.84548198e+17 -1.84548198e+17 -1.84548198e+17\n",
      " -1.84548198e+17 -1.84548198e+17 -1.84548198e+17 -1.84548198e+17\n",
      " -1.84548198e+17 -1.84548198e+17 -1.84548198e+17 -1.84548198e+17\n",
      " -1.84548198e+17 -1.84548198e+17 -1.84548198e+17]\n"
     ]
    },
    {
     "name": "stderr",
     "output_type": "stream",
     "text": [
      "/opt/anaconda3/envs/learn-env-new/lib/python3.8/site-packages/sklearn/linear_model/_coordinate_descent.py:529: ConvergenceWarning: Objective did not converge. You might want to increase the number of iterations. Duality gap: 28839243458591.312, tolerance: 198657598979.65356\n",
      "  model = cd_fast.enet_coordinate_descent(\n"
     ]
    }
   ],
   "source": [
    "# Build a Ridge, Lasso and regular linear regression model  \n",
    "# Note that in scikit-learn, the regularization parameter is denoted by alpha (and not lambda)\n",
    "ridge = Ridge(alpha=0.5)\n",
    "ridge.fit(X_train_tf, y_train)\n",
    "\n",
    "lasso = Lasso(alpha=0.5)\n",
    "lasso.fit(X_train_tf, y_train)\n",
    "\n",
    "lin = LinearRegression()\n",
    "lin.fit(X_train_tf, y_train)\n",
    "\n",
    "\n",
    "# Generate preditions for training and test sets\n",
    "y_h_ridge_train = ridge.predict(X_train_tf)\n",
    "y_h_ridge_test = ridge.predict(X_test_tf)\n",
    "\n",
    "y_h_lasso_train = np.reshape(lasso.predict(X_train_tf), y_train.shape)\n",
    "y_h_lasso_test = np.reshape(lasso.predict(X_test_tf),  y_test.shape)\n",
    "\n",
    "y_h_lin_train = lin.predict(X_train_tf)\n",
    "y_h_lin_test = lin.predict(X_test_tf)\n",
    "\n",
    "\n",
    "print('Train Error Ridge Model', np.sum((y_train - y_h_ridge_train)**2))\n",
    "print('Test Error Ridge Model', np.sum((y_test - y_h_ridge_test)**2))\n",
    "print('\\n')\n",
    "\n",
    "print('Train Error Lasso Model', np.sum((y_train - y_h_lasso_train)**2))\n",
    "print('Test Error Lasso Model', np.sum((y_test - y_h_lasso_test)**2))\n",
    "print('\\n')\n",
    "\n",
    "print('Train Error Unpenalized Linear Model', np.sum((y_train - lin.predict(X_train_tf))**2))\n",
    "print('Test Error Unpenalized Linear Model', np.sum((y_test - lin.predict(X_test_tf))**2))\n",
    "print('\\n'*3)\n",
    "print('Ridge parameter coefficients:\\n', ridge.coef_)\n",
    "print('Lasso parameter coefficients:\\n', lasso.coef_)\n",
    "print('Linear model parameter coefficients:\\n', lin.coef_)"
   ]
  },
  {
   "cell_type": "markdown",
   "metadata": {},
   "source": [
    "### Q1: What are the issues/limitations of the way we tested/compared the 3 different types of models? \n",
    "-  A: If we wanted to add another model type, we'd have to copy a lot and edit a lot."
   ]
  },
  {
   "cell_type": "markdown",
   "metadata": {},
   "source": [
    "### Q2: What other limitation does the above code have? (what is inflexible?)\n",
    "\n",
    "- A: hard coded values for data shapes"
   ]
  },
  {
   "cell_type": "markdown",
   "metadata": {},
   "source": [
    "### Whats the solution? \n",
    "- Functions and dictionaries!"
   ]
  },
  {
   "cell_type": "code",
   "execution_count": 19,
   "metadata": {
    "ExecuteTime": {
     "end_time": "2021-05-03T23:00:09.433001Z",
     "start_time": "2021-05-03T23:00:09.427711Z"
    }
   },
   "outputs": [],
   "source": [
    "from sklearn.metrics import r2_score, mean_squared_error\n",
    "def make_model(model, X_train , X_test, y_train, y_test ):\n",
    "    \"\"\"Takes a sklearn model and train/test data to fit model, \n",
    "    get R2 and RMSE for both the training and test data.\n",
    "    \n",
    "    Returns:\n",
    "        DataFrame: results as a df\n",
    "        model: fit scikit-learn model itself\"\"\"\n",
    "    \n",
    "  \n",
    "    model.fit(X_train, y_train)\n",
    "    # Generate preditions for training and test sets\n",
    "    y_hat_train = model.predict(X_train)\n",
    "    y_hat_test = model.predict(X_test)\n",
    "    \n",
    "    r2_train = r2_score(y_train,y_hat_train)\n",
    "    r2_test = r2_score(y_test,y_hat_test)\n",
    "    \n",
    "    rmse_train = np.sqrt(mean_squared_error(y_train,y_hat_train))\n",
    "    rmse_test = np.sqrt(mean_squared_error(y_test,y_hat_test))\n",
    "    \n",
    "    res= [['Data','R2','RMSE']]\n",
    "    res.append(['Train', r2_train, rmse_train] )\n",
    "    res.append(['Test', r2_test, rmse_test] )\n",
    "    \n",
    "    res_df = pd.DataFrame(res[1:], columns=res[0]).round(4)\n",
    "    \n",
    "    return res_df, model\n",
    "    "
   ]
  },
  {
   "cell_type": "code",
   "execution_count": 21,
   "metadata": {
    "ExecuteTime": {
     "end_time": "2021-05-03T23:00:20.348124Z",
     "start_time": "2021-05-03T23:00:20.232065Z"
    }
   },
   "outputs": [
    {
     "data": {
      "text/html": [
       "<div>\n",
       "<style scoped>\n",
       "    .dataframe tbody tr th:only-of-type {\n",
       "        vertical-align: middle;\n",
       "    }\n",
       "\n",
       "    .dataframe tbody tr th {\n",
       "        vertical-align: top;\n",
       "    }\n",
       "\n",
       "    .dataframe thead th {\n",
       "        text-align: right;\n",
       "    }\n",
       "</style>\n",
       "<table border=\"1\" class=\"dataframe\">\n",
       "  <thead>\n",
       "    <tr style=\"text-align: right;\">\n",
       "      <th></th>\n",
       "      <th>Data</th>\n",
       "      <th>R2</th>\n",
       "      <th>RMSE</th>\n",
       "    </tr>\n",
       "  </thead>\n",
       "  <tbody>\n",
       "    <tr>\n",
       "      <th>0</th>\n",
       "      <td>Train</td>\n",
       "      <td>0.804</td>\n",
       "      <td>160583.258</td>\n",
       "    </tr>\n",
       "    <tr>\n",
       "      <th>1</th>\n",
       "      <td>Test</td>\n",
       "      <td>0.807</td>\n",
       "      <td>166404.224</td>\n",
       "    </tr>\n",
       "  </tbody>\n",
       "</table>\n",
       "</div>"
      ],
      "text/plain": [
       "    Data     R2        RMSE\n",
       "0  Train  0.804  160583.258\n",
       "1   Test  0.807  166404.224"
      ]
     },
     "metadata": {},
     "output_type": "display_data"
    }
   ],
   "source": [
    "## Test our function\n",
    "df_res, model = make_model(LinearRegression(),\n",
    "                           X_train_tf, X_test_tf, y_train, y_test  )\n",
    "display(df_res.round(3))"
   ]
  },
  {
   "cell_type": "code",
   "execution_count": 22,
   "metadata": {
    "ExecuteTime": {
     "end_time": "2021-05-03T23:00:24.246993Z",
     "start_time": "2021-05-03T23:00:24.244728Z"
    }
   },
   "outputs": [],
   "source": [
    "## Use a dictionary to store our models\n",
    "models_to_make = dict( linear=LinearRegression(),\n",
    "                     ridge=Ridge(alpha=0.5),\n",
    "                     lasso = Lasso(alpha=0.5))"
   ]
  },
  {
   "cell_type": "code",
   "execution_count": 23,
   "metadata": {
    "ExecuteTime": {
     "end_time": "2021-05-03T23:00:25.260263Z",
     "start_time": "2021-05-03T23:00:25.254216Z"
    }
   },
   "outputs": [
    {
     "data": {
      "text/plain": [
       "LinearRegression()"
      ]
     },
     "execution_count": 23,
     "metadata": {},
     "output_type": "execute_result"
    }
   ],
   "source": [
    "## Test our dictionary and function together to make a linear regression.\n",
    "models_to_make['linear']"
   ]
  },
  {
   "cell_type": "code",
   "execution_count": 24,
   "metadata": {
    "ExecuteTime": {
     "end_time": "2021-05-03T23:00:25.605069Z",
     "start_time": "2021-05-03T23:00:25.599986Z"
    }
   },
   "outputs": [
    {
     "data": {
      "text/plain": [
       "{'linear': LinearRegression(),\n",
       " 'ridge': Ridge(alpha=0.5),\n",
       " 'lasso': Lasso(alpha=0.5)}"
      ]
     },
     "execution_count": 24,
     "metadata": {},
     "output_type": "execute_result"
    }
   ],
   "source": [
    "models_to_make"
   ]
  },
  {
   "cell_type": "code",
   "execution_count": 25,
   "metadata": {
    "ExecuteTime": {
     "end_time": "2021-05-03T23:00:36.612770Z",
     "start_time": "2021-05-03T23:00:35.208734Z"
    }
   },
   "outputs": [
    {
     "data": {
      "text/html": [
       "<div>\n",
       "<style scoped>\n",
       "    .dataframe tbody tr th:only-of-type {\n",
       "        vertical-align: middle;\n",
       "    }\n",
       "\n",
       "    .dataframe tbody tr th {\n",
       "        vertical-align: top;\n",
       "    }\n",
       "\n",
       "    .dataframe thead th {\n",
       "        text-align: right;\n",
       "    }\n",
       "</style>\n",
       "<table border=\"1\" class=\"dataframe\">\n",
       "  <thead>\n",
       "    <tr style=\"text-align: right;\">\n",
       "      <th></th>\n",
       "      <th>Data</th>\n",
       "      <th>R2</th>\n",
       "      <th>RMSE</th>\n",
       "      <th>Type</th>\n",
       "    </tr>\n",
       "  </thead>\n",
       "  <tbody>\n",
       "    <tr>\n",
       "      <th>0</th>\n",
       "      <td>Train</td>\n",
       "      <td>0.8038</td>\n",
       "      <td>160583.2575</td>\n",
       "      <td>linear</td>\n",
       "    </tr>\n",
       "    <tr>\n",
       "      <th>1</th>\n",
       "      <td>Test</td>\n",
       "      <td>0.8066</td>\n",
       "      <td>166404.2241</td>\n",
       "      <td>linear</td>\n",
       "    </tr>\n",
       "  </tbody>\n",
       "</table>\n",
       "</div>"
      ],
      "text/plain": [
       "    Data      R2         RMSE    Type\n",
       "0  Train  0.8038  160583.2575  linear\n",
       "1   Test  0.8066  166404.2241  linear"
      ]
     },
     "metadata": {},
     "output_type": "display_data"
    },
    {
     "data": {
      "text/html": [
       "<div>\n",
       "<style scoped>\n",
       "    .dataframe tbody tr th:only-of-type {\n",
       "        vertical-align: middle;\n",
       "    }\n",
       "\n",
       "    .dataframe tbody tr th {\n",
       "        vertical-align: top;\n",
       "    }\n",
       "\n",
       "    .dataframe thead th {\n",
       "        text-align: right;\n",
       "    }\n",
       "</style>\n",
       "<table border=\"1\" class=\"dataframe\">\n",
       "  <thead>\n",
       "    <tr style=\"text-align: right;\">\n",
       "      <th></th>\n",
       "      <th>Data</th>\n",
       "      <th>R2</th>\n",
       "      <th>RMSE</th>\n",
       "      <th>Type</th>\n",
       "    </tr>\n",
       "  </thead>\n",
       "  <tbody>\n",
       "    <tr>\n",
       "      <th>0</th>\n",
       "      <td>Train</td>\n",
       "      <td>0.8037</td>\n",
       "      <td>160600.7760</td>\n",
       "      <td>ridge</td>\n",
       "    </tr>\n",
       "    <tr>\n",
       "      <th>1</th>\n",
       "      <td>Test</td>\n",
       "      <td>0.8063</td>\n",
       "      <td>166532.0089</td>\n",
       "      <td>ridge</td>\n",
       "    </tr>\n",
       "  </tbody>\n",
       "</table>\n",
       "</div>"
      ],
      "text/plain": [
       "    Data      R2         RMSE   Type\n",
       "0  Train  0.8037  160600.7760  ridge\n",
       "1   Test  0.8063  166532.0089  ridge"
      ]
     },
     "metadata": {},
     "output_type": "display_data"
    },
    {
     "name": "stderr",
     "output_type": "stream",
     "text": [
      "/opt/anaconda3/envs/learn-env-new/lib/python3.8/site-packages/sklearn/linear_model/_coordinate_descent.py:529: ConvergenceWarning: Objective did not converge. You might want to increase the number of iterations. Duality gap: 28839243458591.312, tolerance: 198657598979.65356\n",
      "  model = cd_fast.enet_coordinate_descent(\n"
     ]
    },
    {
     "data": {
      "text/html": [
       "<div>\n",
       "<style scoped>\n",
       "    .dataframe tbody tr th:only-of-type {\n",
       "        vertical-align: middle;\n",
       "    }\n",
       "\n",
       "    .dataframe tbody tr th {\n",
       "        vertical-align: top;\n",
       "    }\n",
       "\n",
       "    .dataframe thead th {\n",
       "        text-align: right;\n",
       "    }\n",
       "</style>\n",
       "<table border=\"1\" class=\"dataframe\">\n",
       "  <thead>\n",
       "    <tr style=\"text-align: right;\">\n",
       "      <th></th>\n",
       "      <th>Data</th>\n",
       "      <th>R2</th>\n",
       "      <th>RMSE</th>\n",
       "      <th>Type</th>\n",
       "    </tr>\n",
       "  </thead>\n",
       "  <tbody>\n",
       "    <tr>\n",
       "      <th>0</th>\n",
       "      <td>Train</td>\n",
       "      <td>0.8038</td>\n",
       "      <td>160583.1127</td>\n",
       "      <td>lasso</td>\n",
       "    </tr>\n",
       "    <tr>\n",
       "      <th>1</th>\n",
       "      <td>Test</td>\n",
       "      <td>0.8066</td>\n",
       "      <td>166409.4496</td>\n",
       "      <td>lasso</td>\n",
       "    </tr>\n",
       "  </tbody>\n",
       "</table>\n",
       "</div>"
      ],
      "text/plain": [
       "    Data      R2         RMSE   Type\n",
       "0  Train  0.8038  160583.1127  lasso\n",
       "1   Test  0.8066  166409.4496  lasso"
      ]
     },
     "metadata": {},
     "output_type": "display_data"
    }
   ],
   "source": [
    "## Loop through models_to_make and save all results\n",
    "\n",
    "## Create an empty list to store result dfs\n",
    "results = []\n",
    "## Create an empty dict to store fit models\n",
    "fit_models={}\n",
    "\n",
    "for model_type,mod in models_to_make.items():\n",
    "\n",
    "    ## get model results and fit model using make_model\n",
    "    res, mod = make_model(mod, X_train_tf , X_test_tf, y_train, y_test)\n",
    "    ## Add model type as column to res\n",
    "    res['Type'] = model_type\n",
    "    \n",
    "    # Display results\n",
    "    display(res)\n",
    "    \n",
    "    ## Save fit model to models dict \n",
    "    fit_models[model_type] = mod\n",
    "    ## Save df to list \n",
    "    results.append(res)\n",
    "    \n",
    "## Concatenate results \n",
    "df_res = pd.concat(results)\n",
    "df_res.set_index(['Type',\"Data\"],inplace=True)"
   ]
  },
  {
   "cell_type": "code",
   "execution_count": 26,
   "metadata": {
    "ExecuteTime": {
     "end_time": "2021-05-03T23:00:40.330060Z",
     "start_time": "2021-05-03T23:00:40.206242Z"
    }
   },
   "outputs": [
    {
     "data": {
      "text/html": [
       "<style  type=\"text/css\" >\n",
       "#T_618c65e6_ac63_11eb_8eae_acde48001122row0_col0,#T_618c65e6_ac63_11eb_8eae_acde48001122row4_col0{\n",
       "            background-color:  #faf3f9;\n",
       "            color:  #000000;\n",
       "        }#T_618c65e6_ac63_11eb_8eae_acde48001122row1_col0,#T_618c65e6_ac63_11eb_8eae_acde48001122row5_col0{\n",
       "            background-color:  #023858;\n",
       "            color:  #f1f1f1;\n",
       "        }#T_618c65e6_ac63_11eb_8eae_acde48001122row2_col0{\n",
       "            background-color:  #fff7fb;\n",
       "            color:  #000000;\n",
       "        }#T_618c65e6_ac63_11eb_8eae_acde48001122row3_col0{\n",
       "            background-color:  #045483;\n",
       "            color:  #f1f1f1;\n",
       "        }</style><table id=\"T_618c65e6_ac63_11eb_8eae_acde48001122\" ><thead>    <tr>        <th class=\"blank\" ></th>        <th class=\"blank level0\" ></th>        <th class=\"col_heading level0 col0\" >R2</th>        <th class=\"col_heading level0 col1\" >RMSE</th>    </tr>    <tr>        <th class=\"index_name level0\" >Type</th>        <th class=\"index_name level1\" >Data</th>        <th class=\"blank\" ></th>        <th class=\"blank\" ></th>    </tr></thead><tbody>\n",
       "                <tr>\n",
       "                        <th id=\"T_618c65e6_ac63_11eb_8eae_acde48001122level0_row0\" class=\"row_heading level0 row0\" rowspan=2>linear</th>\n",
       "                        <th id=\"T_618c65e6_ac63_11eb_8eae_acde48001122level1_row0\" class=\"row_heading level1 row0\" >Train</th>\n",
       "                        <td id=\"T_618c65e6_ac63_11eb_8eae_acde48001122row0_col0\" class=\"data row0 col0\" >0.803800</td>\n",
       "                        <td id=\"T_618c65e6_ac63_11eb_8eae_acde48001122row0_col1\" class=\"data row0 col1\" >160583.257500</td>\n",
       "            </tr>\n",
       "            <tr>\n",
       "                                <th id=\"T_618c65e6_ac63_11eb_8eae_acde48001122level1_row1\" class=\"row_heading level1 row1\" >Test</th>\n",
       "                        <td id=\"T_618c65e6_ac63_11eb_8eae_acde48001122row1_col0\" class=\"data row1 col0\" >0.806600</td>\n",
       "                        <td id=\"T_618c65e6_ac63_11eb_8eae_acde48001122row1_col1\" class=\"data row1 col1\" >166404.224100</td>\n",
       "            </tr>\n",
       "            <tr>\n",
       "                        <th id=\"T_618c65e6_ac63_11eb_8eae_acde48001122level0_row2\" class=\"row_heading level0 row2\" rowspan=2>ridge</th>\n",
       "                        <th id=\"T_618c65e6_ac63_11eb_8eae_acde48001122level1_row2\" class=\"row_heading level1 row2\" >Train</th>\n",
       "                        <td id=\"T_618c65e6_ac63_11eb_8eae_acde48001122row2_col0\" class=\"data row2 col0\" >0.803700</td>\n",
       "                        <td id=\"T_618c65e6_ac63_11eb_8eae_acde48001122row2_col1\" class=\"data row2 col1\" >160600.776000</td>\n",
       "            </tr>\n",
       "            <tr>\n",
       "                                <th id=\"T_618c65e6_ac63_11eb_8eae_acde48001122level1_row3\" class=\"row_heading level1 row3\" >Test</th>\n",
       "                        <td id=\"T_618c65e6_ac63_11eb_8eae_acde48001122row3_col0\" class=\"data row3 col0\" >0.806300</td>\n",
       "                        <td id=\"T_618c65e6_ac63_11eb_8eae_acde48001122row3_col1\" class=\"data row3 col1\" >166532.008900</td>\n",
       "            </tr>\n",
       "            <tr>\n",
       "                        <th id=\"T_618c65e6_ac63_11eb_8eae_acde48001122level0_row4\" class=\"row_heading level0 row4\" rowspan=2>lasso</th>\n",
       "                        <th id=\"T_618c65e6_ac63_11eb_8eae_acde48001122level1_row4\" class=\"row_heading level1 row4\" >Train</th>\n",
       "                        <td id=\"T_618c65e6_ac63_11eb_8eae_acde48001122row4_col0\" class=\"data row4 col0\" >0.803800</td>\n",
       "                        <td id=\"T_618c65e6_ac63_11eb_8eae_acde48001122row4_col1\" class=\"data row4 col1\" >160583.112700</td>\n",
       "            </tr>\n",
       "            <tr>\n",
       "                                <th id=\"T_618c65e6_ac63_11eb_8eae_acde48001122level1_row5\" class=\"row_heading level1 row5\" >Test</th>\n",
       "                        <td id=\"T_618c65e6_ac63_11eb_8eae_acde48001122row5_col0\" class=\"data row5 col0\" >0.806600</td>\n",
       "                        <td id=\"T_618c65e6_ac63_11eb_8eae_acde48001122row5_col1\" class=\"data row5 col1\" >166409.449600</td>\n",
       "            </tr>\n",
       "    </tbody></table>"
      ],
      "text/plain": [
       "<pandas.io.formats.style.Styler at 0x7f99456c6b80>"
      ]
     },
     "execution_count": 26,
     "metadata": {},
     "output_type": "execute_result"
    }
   ],
   "source": [
    "## Use styling to make it easier to find the best scores.\n",
    "df_res.style.background_gradient(subset=['R2'])#.highlight_max('R2')"
   ]
  },
  {
   "cell_type": "code",
   "execution_count": 27,
   "metadata": {
    "ExecuteTime": {
     "end_time": "2021-05-03T23:00:49.654699Z",
     "start_time": "2021-05-03T23:00:49.651335Z"
    }
   },
   "outputs": [
    {
     "data": {
      "text/plain": [
       "(83,)"
      ]
     },
     "execution_count": 27,
     "metadata": {},
     "output_type": "execute_result"
    }
   ],
   "source": [
    "## Now examine the coefficients of one of the fit models\n",
    "fit_models['lasso'].coef_.shape"
   ]
  },
  {
   "cell_type": "markdown",
   "metadata": {},
   "source": [
    "> #### Sidebar: You've heard of List Comprehensions but did you that there are Dictionary Comprehensions too?!"
   ]
  },
  {
   "cell_type": "code",
   "execution_count": 28,
   "metadata": {
    "ExecuteTime": {
     "end_time": "2021-05-03T23:00:53.996644Z",
     "start_time": "2021-05-03T23:00:53.990122Z"
    }
   },
   "outputs": [
    {
     "data": {
      "text/plain": [
       "{'linear': array([-7.93518879e+05,  7.46933087e+04,  1.30911427e+06,  4.71640203e+05,\n",
       "        -1.46550758e+05,  6.27608397e+05,  2.28577755e+05,  1.35032814e+05,\n",
       "         5.25220914e+05,  1.07596948e+06,  1.66936967e+05,  6.71836888e+04,\n",
       "        -1.67616390e+05, -1.84548198e+17, -1.84548198e+17, -1.84548198e+17,\n",
       "        -1.84548198e+17, -1.84548198e+17, -1.84548198e+17, -1.84548198e+17,\n",
       "        -1.84548198e+17, -1.84548198e+17, -1.84548198e+17, -1.84548198e+17,\n",
       "        -1.84548198e+17, -1.84548198e+17, -1.84548198e+17, -1.84548198e+17,\n",
       "        -1.84548198e+17, -1.84548198e+17, -1.84548198e+17, -1.84548198e+17,\n",
       "        -1.84548198e+17, -1.84548198e+17, -1.84548198e+17, -1.84548198e+17,\n",
       "        -1.84548198e+17, -1.84548198e+17, -1.84548198e+17, -1.84548198e+17,\n",
       "        -1.84548198e+17, -1.84548198e+17, -1.84548198e+17, -1.84548198e+17,\n",
       "        -1.84548198e+17, -1.84548198e+17, -1.84548198e+17, -1.84548198e+17,\n",
       "        -1.84548198e+17, -1.84548198e+17, -1.84548198e+17, -1.84548198e+17,\n",
       "        -1.84548198e+17, -1.84548198e+17, -1.84548198e+17, -1.84548198e+17,\n",
       "        -1.84548198e+17, -1.84548198e+17, -1.84548198e+17, -1.84548198e+17,\n",
       "        -1.84548198e+17, -1.84548198e+17, -1.84548198e+17, -1.84548198e+17,\n",
       "        -1.84548198e+17, -1.84548198e+17, -1.84548198e+17, -1.84548198e+17,\n",
       "        -1.84548198e+17, -1.84548198e+17, -1.84548198e+17, -1.84548198e+17,\n",
       "        -1.84548198e+17, -1.84548198e+17, -1.84548198e+17, -1.84548198e+17,\n",
       "        -1.84548198e+17, -1.84548198e+17, -1.84548198e+17, -1.84548198e+17,\n",
       "        -1.84548198e+17, -1.84548198e+17, -1.84548198e+17]),\n",
       " 'ridge': array([-7.31146901e+05,  7.83422169e+04,  1.09554082e+06,  4.22841871e+05,\n",
       "        -1.45845004e+05,  6.24553044e+05,  2.30098353e+05,  1.35203733e+05,\n",
       "         5.32805796e+05,  1.19069404e+06,  2.32296794e+05,  7.36954124e+04,\n",
       "        -1.32280784e+05, -2.05322658e+05, -1.77659460e+05, -2.27631346e+05,\n",
       "         5.61672292e+05,  9.04062013e+04,  5.97846548e+04,  3.84708154e+04,\n",
       "         3.41626548e+04, -1.44897721e+05, -9.92893602e+04, -9.11815945e+04,\n",
       "        -1.10446615e+05, -2.17984656e+05, -2.40262865e+05, -4.37840123e+04,\n",
       "        -3.78472996e+04, -7.48665490e+04,  1.13277933e+03, -1.97896659e+05,\n",
       "        -1.95944884e+05, -1.91143958e+05,  1.42529588e+05, -1.68694557e+03,\n",
       "        -1.76953253e+05,  1.00447052e+06,  3.07588633e+05, -2.02117478e+05,\n",
       "        -1.13326832e+05,  2.11289747e+04, -1.88107201e+04, -1.50857530e+05,\n",
       "        -1.12160074e+05, -1.78948651e+05, -1.32725688e+05, -1.28648211e+05,\n",
       "        -1.83336076e+05, -6.49465477e+04, -3.71760619e+04, -4.57329561e+04,\n",
       "        -9.91024993e+04, -2.48244976e+05,  3.63707166e+05,  1.65241030e+05,\n",
       "         3.04914414e+05, -4.27888448e+04,  1.66514425e+05, -6.43706044e+04,\n",
       "         3.06635077e+05,  4.58411534e+05,  1.49700137e+05,  1.15051165e+05,\n",
       "         1.37768195e+05, -1.48590022e+04,  3.04634841e+05,  1.65308115e+05,\n",
       "         8.41016490e+03,  1.46452507e+04, -2.63544259e+04,  6.47256692e+04,\n",
       "         8.88295139e+04, -7.85005428e+04, -1.16678791e+05, -5.10158106e+04,\n",
       "        -1.36166638e+05, -1.13386552e+05,  2.43649229e+04, -1.49944071e+05,\n",
       "        -1.63073321e+05, -1.91106622e+05,  1.98970634e+05]),\n",
       " 'lasso': array([-791725.12724113,   74212.357133  , 1311904.37098899,\n",
       "         469559.05129623, -146555.23906303,  627511.27091114,\n",
       "         228807.96849358,  134962.0419065 ,  525544.78049579,\n",
       "        1073947.93281867,  165762.85559922,   66912.66012218,\n",
       "        -166852.90845509, -195537.8316159 , -168275.14997674,\n",
       "        -217863.98937338,  573222.3904643 ,  101235.21370921,\n",
       "          70497.2753926 ,   49473.82542836,   45065.43040734,\n",
       "        -136133.15198862,  -89356.14225556,  -82549.42111768,\n",
       "        -100559.73133981, -208692.84144222, -230411.88365225,\n",
       "         -34862.07461246,  -27813.63829521,  -64971.02621969,\n",
       "          11636.93333732, -188036.24842845, -186208.96109003,\n",
       "        -181737.45686075,  153084.8517482 ,    8784.27221708,\n",
       "        -167080.90971471, 1027771.83352742,  319022.9541482 ,\n",
       "        -192131.21054586, -103818.31660253,   31583.18971404,\n",
       "          -9763.29461174, -141106.9522942 , -102207.82552732,\n",
       "        -169107.77350553, -122598.74166255, -119237.32750677,\n",
       "        -174599.30039204,  -55041.20371531,  -26950.87138666,\n",
       "         -35477.79705213,  -89476.69567636, -238322.79355655,\n",
       "         376417.65482419,  175611.67195958,  316259.29089052,\n",
       "         -32696.07648996,  177423.22633998,  -54387.79530393,\n",
       "         318646.63783233,  469603.16593072,  159879.39077064,\n",
       "         125264.43967826,  147761.87578339,   -4943.02358295,\n",
       "         316104.0508681 ,  176368.4791557 ,   18429.25431109,\n",
       "          24112.97296895,  -16107.46725482,   74627.589464  ,\n",
       "          99177.12152448,  -68955.54810332, -107895.17469027,\n",
       "         -40887.23718287, -126761.10117188, -104181.35908303,\n",
       "          34473.34672177, -140412.63130959, -153736.5776454 ,\n",
       "        -181559.98775882,  209563.70508681])}"
      ]
     },
     "execution_count": 28,
     "metadata": {},
     "output_type": "execute_result"
    }
   ],
   "source": [
    "## Get the coefficients of every model in a dictionary using a dict comprehension\n",
    "dict_comp= {k:mod.coef_ for k,mod in fit_models.items() }\n",
    "dict_comp"
   ]
  },
  {
   "cell_type": "code",
   "execution_count": 29,
   "metadata": {
    "ExecuteTime": {
     "end_time": "2021-05-03T23:00:54.634085Z",
     "start_time": "2021-05-03T23:00:54.622524Z"
    }
   },
   "outputs": [
    {
     "name": "stdout",
     "output_type": "stream",
     "text": [
      "linear shape = (83,)\n",
      "ridge shape = (83,)\n",
      "lasso shape = (83,)\n"
     ]
    },
    {
     "data": {
      "text/html": [
       "<div>\n",
       "<style scoped>\n",
       "    .dataframe tbody tr th:only-of-type {\n",
       "        vertical-align: middle;\n",
       "    }\n",
       "\n",
       "    .dataframe tbody tr th {\n",
       "        vertical-align: top;\n",
       "    }\n",
       "\n",
       "    .dataframe thead th {\n",
       "        text-align: right;\n",
       "    }\n",
       "</style>\n",
       "<table border=\"1\" class=\"dataframe\">\n",
       "  <thead>\n",
       "    <tr style=\"text-align: right;\">\n",
       "      <th></th>\n",
       "      <th>linear</th>\n",
       "      <th>ridge</th>\n",
       "      <th>lasso</th>\n",
       "    </tr>\n",
       "  </thead>\n",
       "  <tbody>\n",
       "    <tr>\n",
       "      <th>0</th>\n",
       "      <td>-7.935189e+05</td>\n",
       "      <td>-7.311469e+05</td>\n",
       "      <td>-7.917251e+05</td>\n",
       "    </tr>\n",
       "    <tr>\n",
       "      <th>1</th>\n",
       "      <td>7.469331e+04</td>\n",
       "      <td>7.834222e+04</td>\n",
       "      <td>7.421236e+04</td>\n",
       "    </tr>\n",
       "    <tr>\n",
       "      <th>2</th>\n",
       "      <td>1.309114e+06</td>\n",
       "      <td>1.095541e+06</td>\n",
       "      <td>1.311904e+06</td>\n",
       "    </tr>\n",
       "    <tr>\n",
       "      <th>3</th>\n",
       "      <td>4.716402e+05</td>\n",
       "      <td>4.228419e+05</td>\n",
       "      <td>4.695591e+05</td>\n",
       "    </tr>\n",
       "    <tr>\n",
       "      <th>4</th>\n",
       "      <td>-1.465508e+05</td>\n",
       "      <td>-1.458450e+05</td>\n",
       "      <td>-1.465552e+05</td>\n",
       "    </tr>\n",
       "    <tr>\n",
       "      <th>...</th>\n",
       "      <td>...</td>\n",
       "      <td>...</td>\n",
       "      <td>...</td>\n",
       "    </tr>\n",
       "    <tr>\n",
       "      <th>78</th>\n",
       "      <td>-1.845482e+17</td>\n",
       "      <td>2.436492e+04</td>\n",
       "      <td>3.447335e+04</td>\n",
       "    </tr>\n",
       "    <tr>\n",
       "      <th>79</th>\n",
       "      <td>-1.845482e+17</td>\n",
       "      <td>-1.499441e+05</td>\n",
       "      <td>-1.404126e+05</td>\n",
       "    </tr>\n",
       "    <tr>\n",
       "      <th>80</th>\n",
       "      <td>-1.845482e+17</td>\n",
       "      <td>-1.630733e+05</td>\n",
       "      <td>-1.537366e+05</td>\n",
       "    </tr>\n",
       "    <tr>\n",
       "      <th>81</th>\n",
       "      <td>-1.845482e+17</td>\n",
       "      <td>-1.911066e+05</td>\n",
       "      <td>-1.815600e+05</td>\n",
       "    </tr>\n",
       "    <tr>\n",
       "      <th>82</th>\n",
       "      <td>-1.845482e+17</td>\n",
       "      <td>1.989706e+05</td>\n",
       "      <td>2.095637e+05</td>\n",
       "    </tr>\n",
       "  </tbody>\n",
       "</table>\n",
       "<p>83 rows × 3 columns</p>\n",
       "</div>"
      ],
      "text/plain": [
       "          linear         ridge         lasso\n",
       "0  -7.935189e+05 -7.311469e+05 -7.917251e+05\n",
       "1   7.469331e+04  7.834222e+04  7.421236e+04\n",
       "2   1.309114e+06  1.095541e+06  1.311904e+06\n",
       "3   4.716402e+05  4.228419e+05  4.695591e+05\n",
       "4  -1.465508e+05 -1.458450e+05 -1.465552e+05\n",
       "..           ...           ...           ...\n",
       "78 -1.845482e+17  2.436492e+04  3.447335e+04\n",
       "79 -1.845482e+17 -1.499441e+05 -1.404126e+05\n",
       "80 -1.845482e+17 -1.630733e+05 -1.537366e+05\n",
       "81 -1.845482e+17 -1.911066e+05 -1.815600e+05\n",
       "82 -1.845482e+17  1.989706e+05  2.095637e+05\n",
       "\n",
       "[83 rows x 3 columns]"
      ]
     },
     "execution_count": 29,
     "metadata": {},
     "output_type": "execute_result"
    }
   ],
   "source": [
    "## Notice the shapes of the arrays are not the same\n",
    "# Print out the shapes of each dict value\n",
    "for k,v in dict_comp.items():\n",
    "    print(f\"{k} shape = {v.shape}\")\n",
    "## Try making it a dataframe (error)\n",
    "pd.DataFrame(dict_comp)"
   ]
  },
  {
   "cell_type": "markdown",
   "metadata": {},
   "source": [
    "#### The solution: `.flatten()`"
   ]
  },
  {
   "cell_type": "code",
   "execution_count": 30,
   "metadata": {
    "ExecuteTime": {
     "end_time": "2021-05-03T23:00:56.426935Z",
     "start_time": "2021-05-03T23:00:56.415778Z"
    }
   },
   "outputs": [
    {
     "name": "stdout",
     "output_type": "stream",
     "text": [
      "linear shape = (83,)\n",
      "ridge shape = (83,)\n",
      "lasso shape = (83,)\n"
     ]
    },
    {
     "data": {
      "text/html": [
       "<div>\n",
       "<style scoped>\n",
       "    .dataframe tbody tr th:only-of-type {\n",
       "        vertical-align: middle;\n",
       "    }\n",
       "\n",
       "    .dataframe tbody tr th {\n",
       "        vertical-align: top;\n",
       "    }\n",
       "\n",
       "    .dataframe thead th {\n",
       "        text-align: right;\n",
       "    }\n",
       "</style>\n",
       "<table border=\"1\" class=\"dataframe\">\n",
       "  <thead>\n",
       "    <tr style=\"text-align: right;\">\n",
       "      <th></th>\n",
       "      <th>linear</th>\n",
       "      <th>ridge</th>\n",
       "      <th>lasso</th>\n",
       "    </tr>\n",
       "  </thead>\n",
       "  <tbody>\n",
       "    <tr>\n",
       "      <th>0</th>\n",
       "      <td>-7.935189e+05</td>\n",
       "      <td>-7.311469e+05</td>\n",
       "      <td>-7.917251e+05</td>\n",
       "    </tr>\n",
       "    <tr>\n",
       "      <th>1</th>\n",
       "      <td>7.469331e+04</td>\n",
       "      <td>7.834222e+04</td>\n",
       "      <td>7.421236e+04</td>\n",
       "    </tr>\n",
       "    <tr>\n",
       "      <th>2</th>\n",
       "      <td>1.309114e+06</td>\n",
       "      <td>1.095541e+06</td>\n",
       "      <td>1.311904e+06</td>\n",
       "    </tr>\n",
       "    <tr>\n",
       "      <th>3</th>\n",
       "      <td>4.716402e+05</td>\n",
       "      <td>4.228419e+05</td>\n",
       "      <td>4.695591e+05</td>\n",
       "    </tr>\n",
       "    <tr>\n",
       "      <th>4</th>\n",
       "      <td>-1.465508e+05</td>\n",
       "      <td>-1.458450e+05</td>\n",
       "      <td>-1.465552e+05</td>\n",
       "    </tr>\n",
       "    <tr>\n",
       "      <th>...</th>\n",
       "      <td>...</td>\n",
       "      <td>...</td>\n",
       "      <td>...</td>\n",
       "    </tr>\n",
       "    <tr>\n",
       "      <th>78</th>\n",
       "      <td>-1.845482e+17</td>\n",
       "      <td>2.436492e+04</td>\n",
       "      <td>3.447335e+04</td>\n",
       "    </tr>\n",
       "    <tr>\n",
       "      <th>79</th>\n",
       "      <td>-1.845482e+17</td>\n",
       "      <td>-1.499441e+05</td>\n",
       "      <td>-1.404126e+05</td>\n",
       "    </tr>\n",
       "    <tr>\n",
       "      <th>80</th>\n",
       "      <td>-1.845482e+17</td>\n",
       "      <td>-1.630733e+05</td>\n",
       "      <td>-1.537366e+05</td>\n",
       "    </tr>\n",
       "    <tr>\n",
       "      <th>81</th>\n",
       "      <td>-1.845482e+17</td>\n",
       "      <td>-1.911066e+05</td>\n",
       "      <td>-1.815600e+05</td>\n",
       "    </tr>\n",
       "    <tr>\n",
       "      <th>82</th>\n",
       "      <td>-1.845482e+17</td>\n",
       "      <td>1.989706e+05</td>\n",
       "      <td>2.095637e+05</td>\n",
       "    </tr>\n",
       "  </tbody>\n",
       "</table>\n",
       "<p>83 rows × 3 columns</p>\n",
       "</div>"
      ],
      "text/plain": [
       "          linear         ridge         lasso\n",
       "0  -7.935189e+05 -7.311469e+05 -7.917251e+05\n",
       "1   7.469331e+04  7.834222e+04  7.421236e+04\n",
       "2   1.309114e+06  1.095541e+06  1.311904e+06\n",
       "3   4.716402e+05  4.228419e+05  4.695591e+05\n",
       "4  -1.465508e+05 -1.458450e+05 -1.465552e+05\n",
       "..           ...           ...           ...\n",
       "78 -1.845482e+17  2.436492e+04  3.447335e+04\n",
       "79 -1.845482e+17 -1.499441e+05 -1.404126e+05\n",
       "80 -1.845482e+17 -1.630733e+05 -1.537366e+05\n",
       "81 -1.845482e+17 -1.911066e+05 -1.815600e+05\n",
       "82 -1.845482e+17  1.989706e+05  2.095637e+05\n",
       "\n",
       "[83 rows x 3 columns]"
      ]
     },
     "execution_count": 30,
     "metadata": {},
     "output_type": "execute_result"
    }
   ],
   "source": [
    "## Use .flatten() to make coefs 1D\n",
    "dict_comp= {k:mod.coef_.flatten() for k,mod in fit_models.items() }\n",
    "\n",
    "## Notice the shapes of the arrays are not the same\n",
    "\n",
    "for k,v in dict_comp.items():\n",
    "    print(f\"{k} shape = {v.shape}\")\n",
    "## Try making it a dataframe (error)\n",
    "pd.DataFrame(dict_comp)\n",
    "## make it into a df"
   ]
  },
  {
   "cell_type": "code",
   "execution_count": 33,
   "metadata": {
    "ExecuteTime": {
     "end_time": "2021-05-03T23:01:02.580208Z",
     "start_time": "2021-05-03T23:01:02.554621Z"
    }
   },
   "outputs": [
    {
     "data": {
      "text/html": [
       "<div>\n",
       "<style scoped>\n",
       "    .dataframe tbody tr th:only-of-type {\n",
       "        vertical-align: middle;\n",
       "    }\n",
       "\n",
       "    .dataframe tbody tr th {\n",
       "        vertical-align: top;\n",
       "    }\n",
       "\n",
       "    .dataframe thead th {\n",
       "        text-align: right;\n",
       "    }\n",
       "</style>\n",
       "<table border=\"1\" class=\"dataframe\">\n",
       "  <thead>\n",
       "    <tr style=\"text-align: right;\">\n",
       "      <th></th>\n",
       "      <th>bedrooms</th>\n",
       "      <th>bathrooms</th>\n",
       "      <th>sqft_living</th>\n",
       "      <th>sqft_lot</th>\n",
       "      <th>floors</th>\n",
       "      <th>waterfront</th>\n",
       "      <th>view</th>\n",
       "      <th>condition</th>\n",
       "      <th>grade</th>\n",
       "      <th>sqft_above</th>\n",
       "      <th>...</th>\n",
       "      <th>zipcode_98146</th>\n",
       "      <th>zipcode_98148</th>\n",
       "      <th>zipcode_98155</th>\n",
       "      <th>zipcode_98166</th>\n",
       "      <th>zipcode_98168</th>\n",
       "      <th>zipcode_98177</th>\n",
       "      <th>zipcode_98178</th>\n",
       "      <th>zipcode_98188</th>\n",
       "      <th>zipcode_98198</th>\n",
       "      <th>zipcode_98199</th>\n",
       "    </tr>\n",
       "  </thead>\n",
       "  <tbody>\n",
       "    <tr>\n",
       "      <th>2756</th>\n",
       "      <td>0.03125</td>\n",
       "      <td>0.200000</td>\n",
       "      <td>0.086626</td>\n",
       "      <td>0.002720</td>\n",
       "      <td>0.0</td>\n",
       "      <td>0.0</td>\n",
       "      <td>0.00</td>\n",
       "      <td>0.50</td>\n",
       "      <td>0.4</td>\n",
       "      <td>0.126246</td>\n",
       "      <td>...</td>\n",
       "      <td>0.0</td>\n",
       "      <td>0.0</td>\n",
       "      <td>0.0</td>\n",
       "      <td>0.0</td>\n",
       "      <td>0.0</td>\n",
       "      <td>0.0</td>\n",
       "      <td>0.0</td>\n",
       "      <td>0.0</td>\n",
       "      <td>0.0</td>\n",
       "      <td>0.0</td>\n",
       "    </tr>\n",
       "    <tr>\n",
       "      <th>15458</th>\n",
       "      <td>0.06250</td>\n",
       "      <td>0.300000</td>\n",
       "      <td>0.228723</td>\n",
       "      <td>0.003925</td>\n",
       "      <td>0.0</td>\n",
       "      <td>0.0</td>\n",
       "      <td>0.75</td>\n",
       "      <td>0.75</td>\n",
       "      <td>0.5</td>\n",
       "      <td>0.150609</td>\n",
       "      <td>...</td>\n",
       "      <td>0.0</td>\n",
       "      <td>0.0</td>\n",
       "      <td>0.0</td>\n",
       "      <td>0.0</td>\n",
       "      <td>0.0</td>\n",
       "      <td>0.0</td>\n",
       "      <td>0.0</td>\n",
       "      <td>0.0</td>\n",
       "      <td>0.0</td>\n",
       "      <td>0.0</td>\n",
       "    </tr>\n",
       "    <tr>\n",
       "      <th>6563</th>\n",
       "      <td>0.09375</td>\n",
       "      <td>0.133333</td>\n",
       "      <td>0.106383</td>\n",
       "      <td>0.002774</td>\n",
       "      <td>0.0</td>\n",
       "      <td>0.0</td>\n",
       "      <td>0.00</td>\n",
       "      <td>0.50</td>\n",
       "      <td>0.4</td>\n",
       "      <td>0.104097</td>\n",
       "      <td>...</td>\n",
       "      <td>0.0</td>\n",
       "      <td>0.0</td>\n",
       "      <td>0.0</td>\n",
       "      <td>0.0</td>\n",
       "      <td>0.0</td>\n",
       "      <td>0.0</td>\n",
       "      <td>0.0</td>\n",
       "      <td>0.0</td>\n",
       "      <td>0.0</td>\n",
       "      <td>0.0</td>\n",
       "    </tr>\n",
       "    <tr>\n",
       "      <th>4404</th>\n",
       "      <td>0.06250</td>\n",
       "      <td>0.333333</td>\n",
       "      <td>0.160334</td>\n",
       "      <td>0.016466</td>\n",
       "      <td>0.4</td>\n",
       "      <td>1.0</td>\n",
       "      <td>1.00</td>\n",
       "      <td>0.50</td>\n",
       "      <td>0.7</td>\n",
       "      <td>0.233666</td>\n",
       "      <td>...</td>\n",
       "      <td>0.0</td>\n",
       "      <td>0.0</td>\n",
       "      <td>0.0</td>\n",
       "      <td>0.0</td>\n",
       "      <td>0.0</td>\n",
       "      <td>0.0</td>\n",
       "      <td>0.0</td>\n",
       "      <td>0.0</td>\n",
       "      <td>0.0</td>\n",
       "      <td>0.0</td>\n",
       "    </tr>\n",
       "    <tr>\n",
       "      <th>13877</th>\n",
       "      <td>0.09375</td>\n",
       "      <td>0.266667</td>\n",
       "      <td>0.199088</td>\n",
       "      <td>0.004592</td>\n",
       "      <td>0.4</td>\n",
       "      <td>0.0</td>\n",
       "      <td>0.00</td>\n",
       "      <td>0.50</td>\n",
       "      <td>0.5</td>\n",
       "      <td>0.290144</td>\n",
       "      <td>...</td>\n",
       "      <td>0.0</td>\n",
       "      <td>0.0</td>\n",
       "      <td>0.0</td>\n",
       "      <td>0.0</td>\n",
       "      <td>0.0</td>\n",
       "      <td>0.0</td>\n",
       "      <td>0.0</td>\n",
       "      <td>0.0</td>\n",
       "      <td>0.0</td>\n",
       "      <td>0.0</td>\n",
       "    </tr>\n",
       "    <tr>\n",
       "      <th>...</th>\n",
       "      <td>...</td>\n",
       "      <td>...</td>\n",
       "      <td>...</td>\n",
       "      <td>...</td>\n",
       "      <td>...</td>\n",
       "      <td>...</td>\n",
       "      <td>...</td>\n",
       "      <td>...</td>\n",
       "      <td>...</td>\n",
       "      <td>...</td>\n",
       "      <td>...</td>\n",
       "      <td>...</td>\n",
       "      <td>...</td>\n",
       "      <td>...</td>\n",
       "      <td>...</td>\n",
       "      <td>...</td>\n",
       "      <td>...</td>\n",
       "      <td>...</td>\n",
       "      <td>...</td>\n",
       "      <td>...</td>\n",
       "      <td>...</td>\n",
       "    </tr>\n",
       "    <tr>\n",
       "      <th>3395</th>\n",
       "      <td>0.09375</td>\n",
       "      <td>0.200000</td>\n",
       "      <td>0.155775</td>\n",
       "      <td>0.120799</td>\n",
       "      <td>0.0</td>\n",
       "      <td>0.0</td>\n",
       "      <td>0.00</td>\n",
       "      <td>0.50</td>\n",
       "      <td>0.5</td>\n",
       "      <td>0.102990</td>\n",
       "      <td>...</td>\n",
       "      <td>0.0</td>\n",
       "      <td>0.0</td>\n",
       "      <td>0.0</td>\n",
       "      <td>0.0</td>\n",
       "      <td>0.0</td>\n",
       "      <td>0.0</td>\n",
       "      <td>0.0</td>\n",
       "      <td>0.0</td>\n",
       "      <td>0.0</td>\n",
       "      <td>0.0</td>\n",
       "    </tr>\n",
       "    <tr>\n",
       "      <th>17207</th>\n",
       "      <td>0.09375</td>\n",
       "      <td>0.233333</td>\n",
       "      <td>0.161094</td>\n",
       "      <td>0.004834</td>\n",
       "      <td>0.4</td>\n",
       "      <td>0.0</td>\n",
       "      <td>0.00</td>\n",
       "      <td>0.75</td>\n",
       "      <td>0.5</td>\n",
       "      <td>0.234773</td>\n",
       "      <td>...</td>\n",
       "      <td>0.0</td>\n",
       "      <td>0.0</td>\n",
       "      <td>0.0</td>\n",
       "      <td>0.0</td>\n",
       "      <td>0.0</td>\n",
       "      <td>0.0</td>\n",
       "      <td>0.0</td>\n",
       "      <td>0.0</td>\n",
       "      <td>0.0</td>\n",
       "      <td>0.0</td>\n",
       "    </tr>\n",
       "    <tr>\n",
       "      <th>20547</th>\n",
       "      <td>0.12500</td>\n",
       "      <td>0.366667</td>\n",
       "      <td>0.411094</td>\n",
       "      <td>0.008000</td>\n",
       "      <td>0.4</td>\n",
       "      <td>0.0</td>\n",
       "      <td>0.75</td>\n",
       "      <td>0.50</td>\n",
       "      <td>0.7</td>\n",
       "      <td>0.448505</td>\n",
       "      <td>...</td>\n",
       "      <td>0.0</td>\n",
       "      <td>0.0</td>\n",
       "      <td>0.0</td>\n",
       "      <td>0.0</td>\n",
       "      <td>0.0</td>\n",
       "      <td>0.0</td>\n",
       "      <td>0.0</td>\n",
       "      <td>0.0</td>\n",
       "      <td>0.0</td>\n",
       "      <td>0.0</td>\n",
       "    </tr>\n",
       "    <tr>\n",
       "      <th>10822</th>\n",
       "      <td>0.09375</td>\n",
       "      <td>0.200000</td>\n",
       "      <td>0.151976</td>\n",
       "      <td>0.003393</td>\n",
       "      <td>0.0</td>\n",
       "      <td>0.0</td>\n",
       "      <td>0.50</td>\n",
       "      <td>0.75</td>\n",
       "      <td>0.5</td>\n",
       "      <td>0.102990</td>\n",
       "      <td>...</td>\n",
       "      <td>0.0</td>\n",
       "      <td>0.0</td>\n",
       "      <td>0.0</td>\n",
       "      <td>0.0</td>\n",
       "      <td>0.0</td>\n",
       "      <td>0.0</td>\n",
       "      <td>0.0</td>\n",
       "      <td>0.0</td>\n",
       "      <td>0.0</td>\n",
       "      <td>1.0</td>\n",
       "    </tr>\n",
       "    <tr>\n",
       "      <th>2996</th>\n",
       "      <td>0.06250</td>\n",
       "      <td>0.166667</td>\n",
       "      <td>0.096505</td>\n",
       "      <td>0.007165</td>\n",
       "      <td>0.0</td>\n",
       "      <td>0.0</td>\n",
       "      <td>0.00</td>\n",
       "      <td>0.50</td>\n",
       "      <td>0.4</td>\n",
       "      <td>0.140642</td>\n",
       "      <td>...</td>\n",
       "      <td>0.0</td>\n",
       "      <td>0.0</td>\n",
       "      <td>0.0</td>\n",
       "      <td>0.0</td>\n",
       "      <td>0.0</td>\n",
       "      <td>0.0</td>\n",
       "      <td>0.0</td>\n",
       "      <td>1.0</td>\n",
       "      <td>0.0</td>\n",
       "      <td>0.0</td>\n",
       "    </tr>\n",
       "  </tbody>\n",
       "</table>\n",
       "<p>15117 rows × 83 columns</p>\n",
       "</div>"
      ],
      "text/plain": [
       "       bedrooms  bathrooms  sqft_living  sqft_lot  floors  waterfront  view  \\\n",
       "2756    0.03125   0.200000     0.086626  0.002720     0.0         0.0  0.00   \n",
       "15458   0.06250   0.300000     0.228723  0.003925     0.0         0.0  0.75   \n",
       "6563    0.09375   0.133333     0.106383  0.002774     0.0         0.0  0.00   \n",
       "4404    0.06250   0.333333     0.160334  0.016466     0.4         1.0  1.00   \n",
       "13877   0.09375   0.266667     0.199088  0.004592     0.4         0.0  0.00   \n",
       "...         ...        ...          ...       ...     ...         ...   ...   \n",
       "3395    0.09375   0.200000     0.155775  0.120799     0.0         0.0  0.00   \n",
       "17207   0.09375   0.233333     0.161094  0.004834     0.4         0.0  0.00   \n",
       "20547   0.12500   0.366667     0.411094  0.008000     0.4         0.0  0.75   \n",
       "10822   0.09375   0.200000     0.151976  0.003393     0.0         0.0  0.50   \n",
       "2996    0.06250   0.166667     0.096505  0.007165     0.0         0.0  0.00   \n",
       "\n",
       "       condition  grade  sqft_above  ...  zipcode_98146  zipcode_98148  \\\n",
       "2756        0.50    0.4    0.126246  ...            0.0            0.0   \n",
       "15458       0.75    0.5    0.150609  ...            0.0            0.0   \n",
       "6563        0.50    0.4    0.104097  ...            0.0            0.0   \n",
       "4404        0.50    0.7    0.233666  ...            0.0            0.0   \n",
       "13877       0.50    0.5    0.290144  ...            0.0            0.0   \n",
       "...          ...    ...         ...  ...            ...            ...   \n",
       "3395        0.50    0.5    0.102990  ...            0.0            0.0   \n",
       "17207       0.75    0.5    0.234773  ...            0.0            0.0   \n",
       "20547       0.50    0.7    0.448505  ...            0.0            0.0   \n",
       "10822       0.75    0.5    0.102990  ...            0.0            0.0   \n",
       "2996        0.50    0.4    0.140642  ...            0.0            0.0   \n",
       "\n",
       "       zipcode_98155  zipcode_98166  zipcode_98168  zipcode_98177  \\\n",
       "2756             0.0            0.0            0.0            0.0   \n",
       "15458            0.0            0.0            0.0            0.0   \n",
       "6563             0.0            0.0            0.0            0.0   \n",
       "4404             0.0            0.0            0.0            0.0   \n",
       "13877            0.0            0.0            0.0            0.0   \n",
       "...              ...            ...            ...            ...   \n",
       "3395             0.0            0.0            0.0            0.0   \n",
       "17207            0.0            0.0            0.0            0.0   \n",
       "20547            0.0            0.0            0.0            0.0   \n",
       "10822            0.0            0.0            0.0            0.0   \n",
       "2996             0.0            0.0            0.0            0.0   \n",
       "\n",
       "       zipcode_98178  zipcode_98188  zipcode_98198  zipcode_98199  \n",
       "2756             0.0            0.0            0.0            0.0  \n",
       "15458            0.0            0.0            0.0            0.0  \n",
       "6563             0.0            0.0            0.0            0.0  \n",
       "4404             0.0            0.0            0.0            0.0  \n",
       "13877            0.0            0.0            0.0            0.0  \n",
       "...              ...            ...            ...            ...  \n",
       "3395             0.0            0.0            0.0            0.0  \n",
       "17207            0.0            0.0            0.0            0.0  \n",
       "20547            0.0            0.0            0.0            0.0  \n",
       "10822            0.0            0.0            0.0            1.0  \n",
       "2996             0.0            1.0            0.0            0.0  \n",
       "\n",
       "[15117 rows x 83 columns]"
      ]
     },
     "execution_count": 33,
     "metadata": {},
     "output_type": "execute_result"
    }
   ],
   "source": [
    "X_train_tf"
   ]
  },
  {
   "cell_type": "code",
   "execution_count": 35,
   "metadata": {
    "ExecuteTime": {
     "end_time": "2021-05-03T23:01:46.832919Z",
     "start_time": "2021-05-03T23:01:46.822180Z"
    }
   },
   "outputs": [
    {
     "data": {
      "text/html": [
       "<div>\n",
       "<style scoped>\n",
       "    .dataframe tbody tr th:only-of-type {\n",
       "        vertical-align: middle;\n",
       "    }\n",
       "\n",
       "    .dataframe tbody tr th {\n",
       "        vertical-align: top;\n",
       "    }\n",
       "\n",
       "    .dataframe thead th {\n",
       "        text-align: right;\n",
       "    }\n",
       "</style>\n",
       "<table border=\"1\" class=\"dataframe\">\n",
       "  <thead>\n",
       "    <tr style=\"text-align: right;\">\n",
       "      <th></th>\n",
       "      <th>linear</th>\n",
       "      <th>ridge</th>\n",
       "      <th>lasso</th>\n",
       "    </tr>\n",
       "  </thead>\n",
       "  <tbody>\n",
       "    <tr>\n",
       "      <th>bedrooms</th>\n",
       "      <td>-7.935189e+05</td>\n",
       "      <td>-7.311469e+05</td>\n",
       "      <td>-7.917251e+05</td>\n",
       "    </tr>\n",
       "    <tr>\n",
       "      <th>bathrooms</th>\n",
       "      <td>7.469331e+04</td>\n",
       "      <td>7.834222e+04</td>\n",
       "      <td>7.421236e+04</td>\n",
       "    </tr>\n",
       "    <tr>\n",
       "      <th>sqft_living</th>\n",
       "      <td>1.309114e+06</td>\n",
       "      <td>1.095541e+06</td>\n",
       "      <td>1.311904e+06</td>\n",
       "    </tr>\n",
       "    <tr>\n",
       "      <th>sqft_lot</th>\n",
       "      <td>4.716402e+05</td>\n",
       "      <td>4.228419e+05</td>\n",
       "      <td>4.695591e+05</td>\n",
       "    </tr>\n",
       "    <tr>\n",
       "      <th>floors</th>\n",
       "      <td>-1.465508e+05</td>\n",
       "      <td>-1.458450e+05</td>\n",
       "      <td>-1.465552e+05</td>\n",
       "    </tr>\n",
       "    <tr>\n",
       "      <th>...</th>\n",
       "      <td>...</td>\n",
       "      <td>...</td>\n",
       "      <td>...</td>\n",
       "    </tr>\n",
       "    <tr>\n",
       "      <th>zipcode_98177</th>\n",
       "      <td>-1.845482e+17</td>\n",
       "      <td>2.436492e+04</td>\n",
       "      <td>3.447335e+04</td>\n",
       "    </tr>\n",
       "    <tr>\n",
       "      <th>zipcode_98178</th>\n",
       "      <td>-1.845482e+17</td>\n",
       "      <td>-1.499441e+05</td>\n",
       "      <td>-1.404126e+05</td>\n",
       "    </tr>\n",
       "    <tr>\n",
       "      <th>zipcode_98188</th>\n",
       "      <td>-1.845482e+17</td>\n",
       "      <td>-1.630733e+05</td>\n",
       "      <td>-1.537366e+05</td>\n",
       "    </tr>\n",
       "    <tr>\n",
       "      <th>zipcode_98198</th>\n",
       "      <td>-1.845482e+17</td>\n",
       "      <td>-1.911066e+05</td>\n",
       "      <td>-1.815600e+05</td>\n",
       "    </tr>\n",
       "    <tr>\n",
       "      <th>zipcode_98199</th>\n",
       "      <td>-1.845482e+17</td>\n",
       "      <td>1.989706e+05</td>\n",
       "      <td>2.095637e+05</td>\n",
       "    </tr>\n",
       "  </tbody>\n",
       "</table>\n",
       "<p>83 rows × 3 columns</p>\n",
       "</div>"
      ],
      "text/plain": [
       "                     linear         ridge         lasso\n",
       "bedrooms      -7.935189e+05 -7.311469e+05 -7.917251e+05\n",
       "bathrooms      7.469331e+04  7.834222e+04  7.421236e+04\n",
       "sqft_living    1.309114e+06  1.095541e+06  1.311904e+06\n",
       "sqft_lot       4.716402e+05  4.228419e+05  4.695591e+05\n",
       "floors        -1.465508e+05 -1.458450e+05 -1.465552e+05\n",
       "...                     ...           ...           ...\n",
       "zipcode_98177 -1.845482e+17  2.436492e+04  3.447335e+04\n",
       "zipcode_98178 -1.845482e+17 -1.499441e+05 -1.404126e+05\n",
       "zipcode_98188 -1.845482e+17 -1.630733e+05 -1.537366e+05\n",
       "zipcode_98198 -1.845482e+17 -1.911066e+05 -1.815600e+05\n",
       "zipcode_98199 -1.845482e+17  1.989706e+05  2.095637e+05\n",
       "\n",
       "[83 rows x 3 columns]"
      ]
     },
     "execution_count": 35,
     "metadata": {},
     "output_type": "execute_result"
    }
   ],
   "source": [
    "### Put it all together  into 1 line of code\n",
    "df_coeffs = pd.DataFrame({k:mod.coef_.flatten() for k,mod in fit_models.items()},\n",
    "                        index=X_train_tf.columns)\n",
    "df_coeffs"
   ]
  },
  {
   "cell_type": "code",
   "execution_count": 37,
   "metadata": {
    "ExecuteTime": {
     "end_time": "2021-05-03T23:02:00.355417Z",
     "start_time": "2021-05-03T23:02:00.321872Z"
    }
   },
   "outputs": [
    {
     "data": {
      "text/html": [
       "<div>\n",
       "<style scoped>\n",
       "    .dataframe tbody tr th:only-of-type {\n",
       "        vertical-align: middle;\n",
       "    }\n",
       "\n",
       "    .dataframe tbody tr th {\n",
       "        vertical-align: top;\n",
       "    }\n",
       "\n",
       "    .dataframe thead th {\n",
       "        text-align: right;\n",
       "    }\n",
       "</style>\n",
       "<table border=\"1\" class=\"dataframe\">\n",
       "  <thead>\n",
       "    <tr style=\"text-align: right;\">\n",
       "      <th></th>\n",
       "      <th>bedrooms</th>\n",
       "      <th>bathrooms</th>\n",
       "      <th>sqft_living</th>\n",
       "      <th>sqft_lot</th>\n",
       "      <th>floors</th>\n",
       "      <th>waterfront</th>\n",
       "      <th>view</th>\n",
       "      <th>condition</th>\n",
       "      <th>grade</th>\n",
       "      <th>sqft_above</th>\n",
       "      <th>...</th>\n",
       "      <th>zipcode_98146</th>\n",
       "      <th>zipcode_98148</th>\n",
       "      <th>zipcode_98155</th>\n",
       "      <th>zipcode_98166</th>\n",
       "      <th>zipcode_98168</th>\n",
       "      <th>zipcode_98177</th>\n",
       "      <th>zipcode_98178</th>\n",
       "      <th>zipcode_98188</th>\n",
       "      <th>zipcode_98198</th>\n",
       "      <th>zipcode_98199</th>\n",
       "    </tr>\n",
       "  </thead>\n",
       "  <tbody>\n",
       "    <tr>\n",
       "      <th>linear</th>\n",
       "      <td>-793518.88</td>\n",
       "      <td>74693.31</td>\n",
       "      <td>1309114.27</td>\n",
       "      <td>471640.20</td>\n",
       "      <td>-146550.76</td>\n",
       "      <td>627608.40</td>\n",
       "      <td>228577.75</td>\n",
       "      <td>135032.81</td>\n",
       "      <td>525220.91</td>\n",
       "      <td>1075969.48</td>\n",
       "      <td>...</td>\n",
       "      <td>-1.845482e+17</td>\n",
       "      <td>-1.845482e+17</td>\n",
       "      <td>-1.845482e+17</td>\n",
       "      <td>-1.845482e+17</td>\n",
       "      <td>-1.845482e+17</td>\n",
       "      <td>-1.845482e+17</td>\n",
       "      <td>-1.845482e+17</td>\n",
       "      <td>-1.845482e+17</td>\n",
       "      <td>-1.845482e+17</td>\n",
       "      <td>-1.845482e+17</td>\n",
       "    </tr>\n",
       "    <tr>\n",
       "      <th>ridge</th>\n",
       "      <td>-731146.90</td>\n",
       "      <td>78342.22</td>\n",
       "      <td>1095540.82</td>\n",
       "      <td>422841.87</td>\n",
       "      <td>-145845.00</td>\n",
       "      <td>624553.04</td>\n",
       "      <td>230098.35</td>\n",
       "      <td>135203.73</td>\n",
       "      <td>532805.80</td>\n",
       "      <td>1190694.04</td>\n",
       "      <td>...</td>\n",
       "      <td>-7.850054e+04</td>\n",
       "      <td>-1.166788e+05</td>\n",
       "      <td>-5.101581e+04</td>\n",
       "      <td>-1.361666e+05</td>\n",
       "      <td>-1.133866e+05</td>\n",
       "      <td>2.436492e+04</td>\n",
       "      <td>-1.499441e+05</td>\n",
       "      <td>-1.630733e+05</td>\n",
       "      <td>-1.911066e+05</td>\n",
       "      <td>1.989706e+05</td>\n",
       "    </tr>\n",
       "    <tr>\n",
       "      <th>lasso</th>\n",
       "      <td>-791725.13</td>\n",
       "      <td>74212.36</td>\n",
       "      <td>1311904.37</td>\n",
       "      <td>469559.05</td>\n",
       "      <td>-146555.24</td>\n",
       "      <td>627511.27</td>\n",
       "      <td>228807.97</td>\n",
       "      <td>134962.04</td>\n",
       "      <td>525544.78</td>\n",
       "      <td>1073947.93</td>\n",
       "      <td>...</td>\n",
       "      <td>-6.895555e+04</td>\n",
       "      <td>-1.078952e+05</td>\n",
       "      <td>-4.088724e+04</td>\n",
       "      <td>-1.267611e+05</td>\n",
       "      <td>-1.041814e+05</td>\n",
       "      <td>3.447335e+04</td>\n",
       "      <td>-1.404126e+05</td>\n",
       "      <td>-1.537366e+05</td>\n",
       "      <td>-1.815600e+05</td>\n",
       "      <td>2.095637e+05</td>\n",
       "    </tr>\n",
       "  </tbody>\n",
       "</table>\n",
       "<p>3 rows × 83 columns</p>\n",
       "</div>"
      ],
      "text/plain": [
       "         bedrooms  bathrooms  sqft_living   sqft_lot     floors  waterfront  \\\n",
       "linear -793518.88   74693.31   1309114.27  471640.20 -146550.76   627608.40   \n",
       "ridge  -731146.90   78342.22   1095540.82  422841.87 -145845.00   624553.04   \n",
       "lasso  -791725.13   74212.36   1311904.37  469559.05 -146555.24   627511.27   \n",
       "\n",
       "             view  condition      grade  sqft_above  ...  zipcode_98146  \\\n",
       "linear  228577.75  135032.81  525220.91  1075969.48  ...  -1.845482e+17   \n",
       "ridge   230098.35  135203.73  532805.80  1190694.04  ...  -7.850054e+04   \n",
       "lasso   228807.97  134962.04  525544.78  1073947.93  ...  -6.895555e+04   \n",
       "\n",
       "        zipcode_98148  zipcode_98155  zipcode_98166  zipcode_98168  \\\n",
       "linear  -1.845482e+17  -1.845482e+17  -1.845482e+17  -1.845482e+17   \n",
       "ridge   -1.166788e+05  -5.101581e+04  -1.361666e+05  -1.133866e+05   \n",
       "lasso   -1.078952e+05  -4.088724e+04  -1.267611e+05  -1.041814e+05   \n",
       "\n",
       "        zipcode_98177  zipcode_98178  zipcode_98188  zipcode_98198  \\\n",
       "linear  -1.845482e+17  -1.845482e+17  -1.845482e+17  -1.845482e+17   \n",
       "ridge    2.436492e+04  -1.499441e+05  -1.630733e+05  -1.911066e+05   \n",
       "lasso    3.447335e+04  -1.404126e+05  -1.537366e+05  -1.815600e+05   \n",
       "\n",
       "        zipcode_98199  \n",
       "linear  -1.845482e+17  \n",
       "ridge    1.989706e+05  \n",
       "lasso    2.095637e+05  \n",
       "\n",
       "[3 rows x 83 columns]"
      ]
     },
     "execution_count": 37,
     "metadata": {},
     "output_type": "execute_result"
    }
   ],
   "source": [
    "## Tanspose df and round\n",
    "df_coeffs.T.round(2)"
   ]
  },
  {
   "cell_type": "markdown",
   "metadata": {},
   "source": [
    "## Discussion: what was the result of the different regressions on the coefficients?"
   ]
  },
  {
   "cell_type": "markdown",
   "metadata": {},
   "source": [
    "-  lasso regression shrunk some of the coefficients down to 0"
   ]
  },
  {
   "cell_type": "markdown",
   "metadata": {},
   "source": [
    "# Akaike Information Criterion (AIC) and Bayesian Information Criterion (BIC)"
   ]
  },
  {
   "cell_type": "markdown",
   "metadata": {},
   "source": [
    "## Uses of AIC and BIC"
   ]
  },
  {
   "cell_type": "markdown",
   "metadata": {},
   "source": [
    "- Performing feature selection: comparing models with only a few variables and more variables, computing the AIC/BIC and select the features that generated the lowest AIC or BIC\n",
    "- Similarly, selecting or not selecting interactions/polynomial features depending on whether or not the AIC/BIC decreases when adding them in\n",
    "- Computing the AIC and BIC for several values of the regularization parameter in Ridge/Lasso models and selecting the best regularization parameter, and many more! "
   ]
  },
  {
   "cell_type": "markdown",
   "metadata": {},
   "source": [
    "### Akaike's Information Criterion (AIC)\n"
   ]
  },
  {
   "cell_type": "markdown",
   "metadata": {},
   "source": [
    "The formula for the AIC, invented by Hirotugu Akaike in 1973 and short for \"Akaike's Information Criterion\" is given by:\n",
    "\n",
    "$$ \\large \\text{AIC} = -2\\ln(\\hat{L}) + 2k $$\n",
    "\n",
    "Where:\n",
    "* $k$ : length of the parameter space (i.e. the number of features)\n",
    "* $\\hat{L}$ : the maximum value of the likelihood function for the model\n",
    "\n",
    "Another way to phrase the equation is:\n",
    "\n",
    "$$ \n",
    "\\large \\text{AIC(model)} =  - 2 * \\text{log-likelihood(model)} + 2 * \\text{length of the parameter space} $$\n",
    "\n",
    "\n",
    "- AIC used to **compare** models with unbounded units not independently interpretable\n",
    "\n",
    "- If model uses Maximum Likelihood Estimation, log-likelihood is automatically computed, so AIC is easy to calculate.\n",
    "- AIC acts like penalized log-likelihood criterion, balancing good fit and complexity\n",
    "\n",
    "- In Python, the AIC is built into `statsmodels` and in `sklearn` (such as `LassoLarsIC`, which you'll use in the upcoming lab). "
   ]
  },
  {
   "cell_type": "markdown",
   "metadata": {},
   "source": [
    "### Bayesian Information Criterion (BIC)"
   ]
  },
  {
   "cell_type": "markdown",
   "metadata": {},
   "source": [
    "- Bayesian alternative to AIC, used the same way.\n",
    "\n",
    " $$\\large \\text{BIC} = -2\\ln(\\hat L) + \\ln(n)*k $$\n",
    "\n",
    "\n",
    "where:\n",
    "\n",
    "* $\\hat{L}$ and $k$ are the same as in AIC\n",
    "* $n$ : the number of data points (the sample size)\n",
    "\n",
    "Another way to phrase the equation is:\n",
    "\n",
    "$$ \\text{BIC(model)} = -2 * \\text{log-likelihood(model)} + \\text{log(number of observations)} * \\text{(length of the parameter space)} $$"
   ]
  },
  {
   "cell_type": "code",
   "execution_count": 40,
   "metadata": {
    "ExecuteTime": {
     "end_time": "2021-05-03T23:02:25.133957Z",
     "start_time": "2021-05-03T23:02:25.073370Z"
    }
   },
   "outputs": [
    {
     "data": {
      "text/plain": [
       "4.850374933197425"
      ]
     },
     "execution_count": 40,
     "metadata": {},
     "output_type": "execute_result"
    }
   ],
   "source": [
    "from sklearn.linear_model import LassoCV, LassoLarsCV, LassoLarsIC\n",
    "# alphas = np.arange(0.1,100,0.1)\n",
    "\n",
    "lasso_cvA = LassoLarsIC(criterion='aic')\n",
    "lasso_cvA.fit(X_train_tf,y_train);\n",
    "lasso_cvA.alpha_"
   ]
  },
  {
   "cell_type": "code",
   "execution_count": 41,
   "metadata": {
    "ExecuteTime": {
     "end_time": "2021-05-03T23:02:25.380221Z",
     "start_time": "2021-05-03T23:02:25.321696Z"
    }
   },
   "outputs": [
    {
     "data": {
      "text/plain": [
       "4.850374933197425"
      ]
     },
     "execution_count": 41,
     "metadata": {},
     "output_type": "execute_result"
    }
   ],
   "source": [
    "lasso_cvB = LassoLarsIC(criterion='bic')\n",
    "lasso_cvB.fit(X_train_tf,y_train);\n",
    "lasso_cvB.alpha_"
   ]
  },
  {
   "cell_type": "code",
   "execution_count": 42,
   "metadata": {
    "ExecuteTime": {
     "end_time": "2021-05-03T23:02:29.042226Z",
     "start_time": "2021-05-03T23:02:28.774662Z"
    }
   },
   "outputs": [
    {
     "data": {
      "text/plain": [
       "<matplotlib.legend.Legend at 0x7f992bda34f0>"
      ]
     },
     "execution_count": 42,
     "metadata": {},
     "output_type": "execute_result"
    },
    {
     "data": {
      "image/png": "[encoded data removed]",
      "text/plain": [
       "<Figure size 921.6x633.6 with 1 Axes>"
      ]
     },
     "metadata": {
      "needs_background": "light"
     },
     "output_type": "display_data"
    }
   ],
   "source": [
    "def plot_ic_criterion(model, name, color):\n",
    "    \"\"\"Taken from:\n",
    "    https://scikit-learn.org/stable/auto_examples/linear_model/plot_lasso_model_selection.html\"\"\"\n",
    "    # This is to avoid division by zero while doing np.log10\n",
    "    EPSILON = 1e-4\n",
    "    alpha_ = model.alpha_ + EPSILON\n",
    "    alphas_ = model.alphas_ + EPSILON\n",
    "    criterion_ = model.criterion_\n",
    "    plt.plot(-np.log10(alphas_), criterion_, '--', color=color,\n",
    "             linewidth=3, label='%s criterion' % name)\n",
    "    \n",
    "    plt.axvline(-np.log10(alpha_), color=color, linewidth=3,\n",
    "                label=f'alpha: {name} estimate (alpha={round(alpha_,5)})')\n",
    "    plt.xlabel('-log(alpha)')\n",
    "    plt.ylabel('criterion')\n",
    "\n",
    "plot_ic_criterion(lasso_cvA,'AIC','blue')\n",
    "plot_ic_criterion(lasso_cvB,'BIC','green')#,'BIC' )\n",
    "plt.legend(bbox_to_anchor=[1,1],loc='upper left')"
   ]
  },
  {
   "cell_type": "markdown",
   "metadata": {},
   "source": [
    "# Feature Selection\n",
    "[Lesson](https://learn.co/tracks/module-3-data-science-career-2-1/machine-learning/section-24-feature-selection-ridge-and-lasso/feature-selection-methods)"
   ]
  },
  {
   "cell_type": "markdown",
   "metadata": {},
   "source": [
    "## Types of Feature Selection "
   ]
  },
  {
   "cell_type": "markdown",
   "metadata": {},
   "source": [
    "* Domain knowledge\n",
    "* Wrapper methods\n",
    "* Filter methods\n",
    "* Embedded methods\n",
    "\n",
    "> ### Wrapper Methods\n",
    "<img src=\"https://raw.githubusercontent.com/jirvingphd/dsc-feature-selection-methods-online-ds-pt-100719/master/images/new_wrapper.png\">\n",
    "\n",
    "\n",
    "> ### Filter Methods\n",
    "<img src=\"https://raw.githubusercontent.com/jirvingphd/dsc-feature-selection-methods-online-ds-pt-100719/master/images/new_filter.png\">\n",
    "\n",
    "\n",
    "> ### Embed Methods\n",
    "<img src=\"https://raw.githubusercontent.com/jirvingphd/dsc-feature-selection-methods-online-ds-pt-100719/master/images/new_embedded.png\">"
   ]
  },
  {
   "cell_type": "markdown",
   "metadata": {},
   "source": [
    "# ACTIVITY"
   ]
  },
  {
   "cell_type": "markdown",
   "metadata": {},
   "source": [
    "[**Rewrite Feature Selection Methods Lesson to easily capture and compare results across methods.**](https://learn.co/tracks/module-3-data-science-career-2-1/machine-learning/section-24-feature-selection-ridge-and-lasso/feature-selection-methods)\n"
   ]
  },
  {
   "cell_type": "code",
   "execution_count": null,
   "metadata": {
    "ExecuteTime": {
     "end_time": "2020-03-20T00:12:12.341885Z",
     "start_time": "2020-03-20T00:12:12.079020Z"
    }
   },
   "outputs": [],
   "source": [
    "## Feature Selection Dataset\n",
    "data= \"https://raw.githubusercontent.com/learn-co-students/dsc-feature-selection-methods-online-ds-pt-100719/master/diabetes.tab.txt\"\n",
    "df = pd.read_csv(data,sep='\\t')"
   ]
  },
  {
   "cell_type": "code",
   "execution_count": null,
   "metadata": {
    "ExecuteTime": {
     "end_time": "2020-03-20T00:12:13.411649Z",
     "start_time": "2020-03-20T00:12:13.405410Z"
    }
   },
   "outputs": [],
   "source": [
    "## Make a new version of make_model that also adds a note column to results\n",
    "def run_model(model,X_train,X_test,y_train,y_test,note=''):\n",
    "    \"\"\"Takes a sklearn model and train/test data to fit model, \n",
    "    get R2 and RMSE for both the training and test data.\n",
    "    \n",
    "    Returns:\n",
    "        DataFrame: results as a df\n",
    "        model: fit scikit-learn model itself\"\"\"\n",
    "    \n",
    "    res= [['Data','R2','RMSE']]\n",
    "    model.fit(X_train, y_train)\n",
    "    # Generate preditions for training and test sets\n",
    "    y_hat_train = model.predict(X_train)\n",
    "    y_hat_test = model.predict(X_test)\n",
    "    \n",
    "    r2_train = r2_score(y_train,y_hat_train)\n",
    "    r2_test = r2_score(y_test,y_hat_test)\n",
    "    \n",
    "    rmse_train = np.sqrt(mean_squared_error(y_train,y_hat_train))\n",
    "    rmse_test = np.sqrt(mean_squared_error(y_test,y_hat_test))\n",
    "    res.append(['Train', r2_train, rmse_train] )\n",
    "    res.append(['Test', r2_test, rmse_test] )\n",
    "    \n",
    "    res_df = pd.DataFrame(res[1:], columns=res[0]).round(4)\n",
    "    res_df['Note'] = note\n",
    "    return res_df#, model\n",
    "    "
   ]
  },
  {
   "cell_type": "code",
   "execution_count": null,
   "metadata": {
    "ExecuteTime": {
     "end_time": "2020-03-20T00:12:14.107432Z",
     "start_time": "2020-03-20T00:12:14.087271Z"
    }
   },
   "outputs": [],
   "source": [
    "from sklearn.model_selection import train_test_split\n",
    "from sklearn import metrics\n",
    "from sklearn.linear_model import LinearRegression\n",
    "\n",
    "# Obtain the target and features from the DataFrame\n",
    "target = df['Y']\n",
    "features = df.drop(columns='Y')\n",
    "\n",
    "# Create dummy variable for sex\n",
    "features['female'] = pd.get_dummies(features['SEX'], drop_first=True)\n",
    "features.drop(columns=['SEX'], inplace=True)\n",
    "features.head()"
   ]
  },
  {
   "cell_type": "code",
   "execution_count": null,
   "metadata": {
    "ExecuteTime": {
     "end_time": "2020-03-20T00:12:18.668345Z",
     "start_time": "2020-03-20T00:12:18.643152Z"
    }
   },
   "outputs": [],
   "source": [
    "from sklearn.preprocessing import StandardScaler\n",
    "\n",
    "# Split the data\n",
    "X_train, X_test, y_train, y_test = train_test_split(features, target, random_state=20, test_size=0.2)\n",
    "X_train"
   ]
  },
  {
   "cell_type": "code",
   "execution_count": null,
   "metadata": {
    "ExecuteTime": {
     "end_time": "2020-03-20T00:12:23.487072Z",
     "start_time": "2020-03-20T00:12:23.480696Z"
    }
   },
   "outputs": [],
   "source": [
    "# Initialize the scaler\n",
    "scaler = StandardScaler()\n",
    "# Scale every feature except the binary column - female\n",
    "scale_cols = X_train.drop('female',axis=1).columns\n",
    "scale_cols"
   ]
  },
  {
   "cell_type": "code",
   "execution_count": null,
   "metadata": {
    "ExecuteTime": {
     "end_time": "2020-03-20T00:13:41.769493Z",
     "start_time": "2020-03-20T00:13:41.753588Z"
    }
   },
   "outputs": [],
   "source": [
    "X_train[scale_cols] = scaler.fit_transform(X_train[scale_cols])\n",
    "X_test[scale_cols] = scaler.transform(X_test[scale_cols])"
   ]
  },
  {
   "cell_type": "code",
   "execution_count": null,
   "metadata": {
    "ExecuteTime": {
     "end_time": "2020-03-20T00:14:01.758052Z",
     "start_time": "2020-03-20T00:14:01.744585Z"
    }
   },
   "outputs": [],
   "source": [
    "## Make an empty RESULTS list\n",
    "RESULTS = []\n",
    "## Run our baseline regression and append to RESULTS\n",
    "RESULTS.append(run_model(LinearRegression(),\n",
    "                         X_train,X_test,y_train,y_test,'Baseline'))"
   ]
  },
  {
   "cell_type": "code",
   "execution_count": null,
   "metadata": {
    "ExecuteTime": {
     "end_time": "2020-03-20T00:14:03.133676Z",
     "start_time": "2020-03-20T00:14:03.120747Z"
    }
   },
   "outputs": [],
   "source": [
    "def show_results(RESULTS,style_kws={'subset':['R2']}):\n",
    "    res = pd.concat(RESULTS).set_index('Note').groupby(\"Data\").get_group('Test')   \n",
    "    try:\n",
    "        display(res.style.background_gradient(**style_kws))\n",
    "    except:\n",
    "        display(res)\n",
    "show_results(RESULTS)"
   ]
  },
  {
   "cell_type": "code",
   "execution_count": null,
   "metadata": {
    "ExecuteTime": {
     "end_time": "2020-03-20T00:14:08.487669Z",
     "start_time": "2020-03-20T00:14:08.456558Z"
    }
   },
   "outputs": [],
   "source": [
    "from sklearn.preprocessing import PolynomialFeatures\n",
    "poly = PolynomialFeatures(degree=2, interaction_only=False, include_bias=False)\n",
    "\n",
    "X_poly_train = pd.DataFrame(poly.fit_transform(X_train),\n",
    "                            columns=poly.get_feature_tfmes(features.columns))\n",
    "\n",
    "X_poly_test = pd.DataFrame(poly.transform(X_test),\n",
    "                           columns=poly.get_feature_tfmes(features.columns))\n",
    "\n",
    "X_poly_train.head()"
   ]
  },
  {
   "cell_type": "code",
   "execution_count": null,
   "metadata": {
    "ExecuteTime": {
     "end_time": "2020-03-20T00:14:14.792236Z",
     "start_time": "2020-03-20T00:14:14.756925Z"
    }
   },
   "outputs": [],
   "source": [
    "## Make a linear regression with our X_poly data and append to RESULTS\n",
    "RESULTS.append(run_model(LinearRegression(),\n",
    "                         X_poly_train,X_poly_test,y_train,y_test,'Poly'))\n",
    "\n",
    "## Show resuls\n",
    "show_results(RESULTS)"
   ]
  },
  {
   "cell_type": "markdown",
   "metadata": {},
   "source": [
    "### Filter Methods"
   ]
  },
  {
   "cell_type": "markdown",
   "metadata": {},
   "source": [
    ">\"The benefit of filter methods is that they can provide us with some useful visualizations for helping us gain an understanding about the characteristics of our data. To begin with, let's use a simple variance threshold to eliminate the features with low variance.\""
   ]
  },
  {
   "cell_type": "code",
   "execution_count": null,
   "metadata": {
    "ExecuteTime": {
     "end_time": "2020-03-20T00:14:52.241210Z",
     "start_time": "2020-03-20T00:14:52.111464Z"
    }
   },
   "outputs": [],
   "source": [
    "## Filter Methods\n",
    "from sklearn.feature_selection import VarianceThreshold\n",
    "\n",
    "threshold_ranges = np.linspace(0, 2, num=6)\n",
    "\n",
    "results = []\n",
    "for thresh in threshold_ranges:\n",
    "#     print(thresh)\n",
    "    selector = VarianceThreshold(thresh)\n",
    "    reduced_feature_train = selector.fit_transform(X_poly_train)\n",
    "    reduced_feature_test = selector.transform(X_poly_test)\n",
    "    lr = LinearRegression()\n",
    "    lr.fit(reduced_feature_train, y_train)\n",
    "    res = run_model(lr, reduced_feature_train, reduced_feature_test,\n",
    "                    y_train, y_test,f\"VarThresh={round(thresh,3)}\")\n",
    "    \n",
    "    results.append(res)\n",
    "\n",
    "res_df = pd.concat(results)\n",
    "RESULTS.append(res_df)\n",
    "show_results(RESULTS)"
   ]
  },
  {
   "cell_type": "markdown",
   "metadata": {},
   "source": [
    "> Well, that did not seem to eliminate the features very well. It only does a little better than the base polynomial. "
   ]
  },
  {
   "cell_type": "code",
   "execution_count": null,
   "metadata": {
    "ExecuteTime": {
     "end_time": "2020-03-20T00:15:16.377354Z",
     "start_time": "2020-03-20T00:15:16.360915Z"
    }
   },
   "outputs": [],
   "source": [
    "from sklearn.feature_selection import f_regression, mutual_info_regression, SelectKBest\n",
    "selector = SelectKBest(score_func=f_regression)\n",
    "X_k_best_train = selector.fit_transform(X_poly_train, y_train)\n",
    "X_k_best_test= selector.transform(X_poly_test)\n",
    "lr = LinearRegression()\n",
    "lr.fit(X_k_best_train ,y_train)\n",
    "RESULTS.append(run_model(lr,X_k_best_train,X_k_best_test,y_train,y_test,'KBest-f_regr'))"
   ]
  },
  {
   "cell_type": "code",
   "execution_count": null,
   "metadata": {
    "ExecuteTime": {
     "end_time": "2020-03-20T00:15:19.311399Z",
     "start_time": "2020-03-20T00:15:18.993149Z"
    }
   },
   "outputs": [],
   "source": [
    "selector = SelectKBest(score_func=mutual_info_regression)\n",
    "X_k_best_train = selector.fit_transform(X_poly_train, y_train)\n",
    "X_k_best_test= selector.transform(X_poly_test)\n",
    "lr = LinearRegression()\n",
    "lr.fit(X_k_best_train ,y_train)\n",
    "RESULTS.append(run_model(lr,X_k_best_train,X_k_best_test,y_train,y_test,'KBest-mutual_info'))"
   ]
  },
  {
   "cell_type": "code",
   "execution_count": null,
   "metadata": {
    "ExecuteTime": {
     "end_time": "2020-03-20T00:15:24.488091Z",
     "start_time": "2020-03-20T00:15:24.467025Z"
    }
   },
   "outputs": [],
   "source": [
    "show_results(RESULTS)"
   ]
  },
  {
   "cell_type": "markdown",
   "metadata": {},
   "source": [
    "> Well, that did not seem to eliminate the features very well. It only does a little better than the base polynomial. "
   ]
  },
  {
   "cell_type": "markdown",
   "metadata": {},
   "source": [
    "### Wrapper methods\n",
    "\n",
    "> Now let's use Recursive Feature elimination (RFE) to try out a wrapper method. You'll notice that scikit-learn has a built in `RFECV()` function, which automatically determines the optimal number of features to keep when it is run based off the estimator that is passed into it. Here it is in action: "
   ]
  },
  {
   "cell_type": "code",
   "execution_count": null,
   "metadata": {
    "ExecuteTime": {
     "end_time": "2020-03-20T00:15:48.125967Z",
     "start_time": "2020-03-20T00:15:47.554910Z"
    }
   },
   "outputs": [],
   "source": [
    "from sklearn.feature_selection import RFE, RFECV\n",
    "from sklearn.linear_model import LinearRegression\n",
    "\n",
    "rfe = RFECV(LinearRegression(),cv=5)\n",
    "X_rfe_train = rfe.fit_transform(X_poly_train, y_train)\n",
    "X_rfe_test = rfe.transform(X_poly_test)\n",
    "lm = LinearRegression().fit(X_rfe_train, y_train)\n",
    "RESULTS.append(run_model(lm, X_rfe_train, X_rfe_test, y_train, y_test,f'RFE w. {rfe.n_features_} feats'))\n",
    "# print ('The optimal number of features is: ', rfe.n_features_)"
   ]
  },
  {
   "cell_type": "markdown",
   "metadata": {},
   "source": [
    "## Embedded methods  \n",
    "> To compare to our other methods, we will use Lasso as the embedded method of feature selection. Luckily for us, sklearn has a built-in method to help us find the optimal features! It performs cross validation to determine the correct regularization parameter (how much to penalize our function)."
   ]
  },
  {
   "cell_type": "code",
   "execution_count": null,
   "metadata": {
    "ExecuteTime": {
     "end_time": "2020-03-20T00:16:29.213713Z",
     "start_time": "2020-03-20T00:16:29.053399Z"
    }
   },
   "outputs": [],
   "source": [
    "from sklearn.linear_model import LassoCV\n",
    "lasso = LassoCV(max_iter=100000, cv=5)\n",
    "lasso.fit(X_train, y_train)\n",
    "RESULTS.append(run_model(lasso,X_train, X_test, y_train, y_test,f'Lasso - X data'))\n",
    "# print('The optimal alpha for the Lasso Regression is: ', lasso.alpha_)"
   ]
  },
  {
   "cell_type": "markdown",
   "metadata": {},
   "source": [
    "> Let's compare this to a model with all of the polynomial features included."
   ]
  },
  {
   "cell_type": "code",
   "execution_count": null,
   "metadata": {
    "ExecuteTime": {
     "end_time": "2020-03-20T00:16:31.650971Z",
     "start_time": "2020-03-20T00:16:30.973906Z"
    }
   },
   "outputs": [],
   "source": [
    "lasso2 = LassoCV(max_iter=100000, cv=5)\n",
    "lasso2.fit(X_poly_train, y_train)\n",
    "\n",
    "RESULTS.append(run_model(lasso2, X_poly_train, X_poly_test, y_train, y_test,f'Lasso Poly '))\n",
    "# print('The optimal alpha for the Lasso Regression is: ', lasso2.alpha_)"
   ]
  },
  {
   "cell_type": "code",
   "execution_count": null,
   "metadata": {
    "ExecuteTime": {
     "end_time": "2020-03-20T00:18:05.555200Z",
     "start_time": "2020-03-20T00:18:05.533217Z"
    }
   },
   "outputs": [],
   "source": [
    "res_df = pd.concat(RESULTS)\n",
    "test_res = res_df.groupby('Data').get_group('Test')\n",
    "test_res.set_index(['Note']).style.highlight_max('R2')#.sort_values('MSE',ascending=True)#.groupby('Data').get_group('Test')\n"
   ]
  },
  {
   "cell_type": "code",
   "execution_count": null,
   "metadata": {
    "ExecuteTime": {
     "end_time": "2020-03-20T00:16:32.504590Z",
     "start_time": "2020-03-20T00:16:32.478599Z"
    }
   },
   "outputs": [],
   "source": [
    "show_results(RESULTS,style_kws=dict(subset=['RMSE'],\n",
    "                                   cmap = plt.cm.get_cmap('Greens').reversed()))"
   ]
  },
  {
   "cell_type": "markdown",
   "metadata": {},
   "source": [
    "> As we can see, the regularization had minimal effect on the performance of the model, but it did improve the RMSE for the test set ever so slightly! There are no set steps someone should take in order to determine the optimal feature set. In fact, now there are automated machine learning pipelines that will determine the optimal subset of features for a given problem. One of the most important and often overlooked methods of feature selection is using domain knowledge about a given area to either eliminate features or create new ones."
   ]
  }
 ],
 "metadata": {
  "kernelspec": {
   "display_name": "learn-env-new",
   "language": "python",
   "name": "learn-env-new"
  },
  "language_info": {
   "codemirror_mode": {
    "name": "ipython",
    "version": 3
   },
   "file_extension": ".py",
   "mimetype": "text/x-python",
   "name": "python",
   "nbconvert_exporter": "python",
   "pygments_lexer": "ipython3",
   "version": "3.8.5"
  },
  "toc": {
   "base_numbering": 1,
   "nav_menu": {},
   "number_sections": true,
   "sideBar": true,
   "skip_h1_title": false,
   "title_cell": "Table of Contents",
   "title_sidebar": "Contents",
   "toc_cell": false,
   "toc_position": {
    "height": "calc(100% - 180px)",
    "left": "10px",
    "top": "150px",
    "width": "320px"
   },
   "toc_section_display": true,
   "toc_window_display": true
  },
  "varInspector": {
   "cols": {
    "lenName": 16,
    "lenType": 16,
    "lenVar": 40
   },
   "kernels_config": {
    "python": {
     "delete_cmd_postfix": "",
     "delete_cmd_prefix": "del ",
     "library": "var_list.py",
     "varRefreshCmd": "print(var_dic_list())"
    },
    "r": {
     "delete_cmd_postfix": ") ",
     "delete_cmd_prefix": "rm(",
     "library": "var_list.r",
     "varRefreshCmd": "cat(var_dic_list()) "
    }
   },
   "types_to_exclude": [
    "module",
    "function",
    "builtin_function_or_method",
    "instance",
    "_Feature"
   ],
   "window_display": false
  }
 },
 "nbformat": 4,
 "nbformat_minor": 2
}

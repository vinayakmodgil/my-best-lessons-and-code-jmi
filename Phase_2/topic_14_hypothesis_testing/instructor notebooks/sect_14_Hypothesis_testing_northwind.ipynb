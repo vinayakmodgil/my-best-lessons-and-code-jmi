{
 "cells": [
  {
   "cell_type": "markdown",
   "metadata": {
    "colab_type": "text",
    "id": "ZM6DyjYckZl2"
   },
   "source": [
    "\n",
    "# Sect 14 - Hypothesis Testing - T-Tests"
   ]
  },
  {
   "cell_type": "markdown",
   "metadata": {
    "colab_type": "text",
    "id": "EM8QVDhSUCa_"
   },
   "source": [
    "- ~~online-ds-ft-070620~~\n",
    "- 08/11/20\n",
    "\n"
   ]
  },
  {
   "cell_type": "markdown",
   "metadata": {},
   "source": [
    "# Questions"
   ]
  },
  {
   "cell_type": "markdown",
   "metadata": {
    "colab_type": "text",
    "id": "BWefqzWJoc_E"
   },
   "source": [
    "# Topics / Learning Objectives"
   ]
  },
  {
   "cell_type": "markdown",
   "metadata": {
    "colab_type": "text",
    "id": "BWefqzWJoc_E"
   },
   "source": [
    "- Briefly Review: Normal distribution / Z-tests \n",
    "- Discuss Central Limit Theorem & Sampling\n",
    "- The T-Distribution (and degrees of Freedom)\n",
    "- Intro to AB Testing / Big-Picture Hypothesis Testing Workflow"
   ]
  },
  {
   "cell_type": "markdown",
   "metadata": {},
   "source": [
    "# Resources"
   ]
  },
  {
   "cell_type": "markdown",
   "metadata": {},
   "source": [
    "- **My Complete Outline / Resource Repo for Hypothesis Testing**\n",
    "    - URL: https://github.com/jirvingphd/hypothesis_testing_workflow_python\n",
    "    - Includes:\n",
    "        - [Hypothesis Testing Slide Show (Code Academy)](https://github.com/jirvingphd/hypothesis_testing_workflow_python/blob/master/Hypothesis%20Testing%20with%20SciPy_codeacademy%20slides.pdf)\n",
    "        - [Notebook with Full Hypothesis Testing Outline](https://nbviewer.jupyter.org/github/jirvingphd/hypothesis_testing_workflow_python/blob/master/hypothesis_testing_workflow.ipynb)\n",
    "    \n",
    "    \n",
    "- [Hypothesis Testing Cheat Sheet](https://drive.google.com/file/d/17ePxNQdfM3OdrKEr_v0rVmivv9mNI_6I/view?usp=sharing)\n"
   ]
  },
  {
   "cell_type": "markdown",
   "metadata": {},
   "source": [
    "# Section 14: Hypothesis Testing"
   ]
  },
  {
   "cell_type": "markdown",
   "metadata": {},
   "source": [
    "<img src=\"https://raw.githubusercontent.com/jirvingphd/dsc-experimental-design-onl01-dtsc-ft-030220/master/images/new_the-scientific-method.png\">"
   ]
  },
  {
   "cell_type": "markdown",
   "metadata": {},
   "source": [
    "## Foundations of a Sound Experiment"
   ]
  },
  {
   "cell_type": "markdown",
   "metadata": {},
   "source": [
    "- **Control Group/Random Controlled Trials**\n",
    "\n",
    "- **If humans are administering the experiment and/or grading/recording observations** about the groups, we should ideally use a **double blind** design (though single blind is better than nothing).\n",
    "\n",
    "<img src=\"https://raw.githubusercontent.com/jirvingphd/dsc-experimental-design-online-ds-pt-100719/master/images/new_double_blind.png\" width=60%>"
   ]
  },
  {
   "cell_type": "markdown",
   "metadata": {},
   "source": [
    "- **Sampling Techniques:**\n",
    "    - Sampling is independent\n",
    "    - Sample is collected randomly\n",
    "    - Sample is approximately normally distributed\n",
    "    - Appropriate sample size\n",
    "    \n",
    "- **Reproducibility**"
   ]
  },
  {
   "cell_type": "markdown",
   "metadata": {},
   "source": [
    "## P-Values & Null Hypotheses"
   ]
  },
  {
   "cell_type": "markdown",
   "metadata": {
    "ExecuteTime": {
     "end_time": "2020-01-21T22:27:02.794260Z",
     "start_time": "2020-01-21T22:27:02.789275Z"
    }
   },
   "source": [
    "**_Null Hypothesis_**: There is no relationship between A and B   \n",
    "Example: \"There is no relationship between this flu medication and a reduced recovery time from the flu\".\n",
    "\n",
    "The _Null Hypothesis_ is usually denoted as $H_{0}$\n",
    "\n",
    "**_Alternative Hypothesis_**: The hypothesis traditionally thought of when creating a hypothesis for an experiment  \n",
    "Example: \"This flu medication reduces recovery time for the flu.\"\n",
    "\n",
    "The _Alternative Hypothesis_ is usually denoted as $H_{1}$"
   ]
  },
  {
   "cell_type": "markdown",
   "metadata": {},
   "source": [
    "\n",
    "> **The one-sample $z$-test is used only for tests related to the sample mean.** \n",
    "<img src=\"https://raw.githubusercontent.com/learn-co-students/dsc-z-score-p-value-online-ds-pt-100719/master/images/pvalue.png\" width=70%>\n",
    "\n",
    "\n",
    "<!---<img src=\"https://raw.githubusercontent.com/jirvingphd/dsc-z-score-p-value-online-ds-ft-100719/master/images/cumprob2.png\" width=400--->"
   ]
  },
  {
   "cell_type": "markdown",
   "metadata": {},
   "source": [
    "$\\alpha$ **_(alpha)_**: The marginal threshold at which you're okay with rejecting the null hypothesis. \n",
    "> If you set an alpha value of $\\alpha = 0.05$, you're essentially saying \"I'm okay with accepting my alternative hypothesis as true if there is less than a 5% chance that the results that I'm seeing are actually due to randomness.\""
   ]
  },
  {
   "cell_type": "markdown",
   "metadata": {},
   "source": [
    "**_p-value_**: The probability of observing a test statistic at least as large as the one observed, by random chance, assuming that the null hypothesis is true.\n",
    "\n",
    "If you calculate a p-value and it comes out to 0.03, you can interpret this as saying \"There is a 3% chance of obtaining the results I'm seeing when the null hypothesis is true.\"  \n"
   ]
  },
  {
   "cell_type": "markdown",
   "metadata": {
    "ExecuteTime": {
     "end_time": "2020-01-21T22:28:07.486666Z",
     "start_time": "2020-01-21T22:28:07.482601Z"
    }
   },
   "source": [
    "\n",
    "\n",
    "In simple terms:\n",
    "\n",
    "$p < \\alpha$: Reject the _Null Hypothesis_ and accept the _Alternative Hypothesis_\n",
    "\n",
    "$p >= \\alpha$: Fail to reject the _Null Hypothesis_.  "
   ]
  },
  {
   "cell_type": "markdown",
   "metadata": {},
   "source": [
    "\n",
    "> **_Example One-Tail Hypothesis_**\n",
    "\n",
    "$H_{1} : \\mu_1 < \\mu_2 $ The treatment group given this weight loss drug will lose more weight on average than the control group that was given a competitor's weight loss drug \n",
    "\n",
    "$ H_{0} : \\mu1 >= \\mu_2$  The treatment group given this weight loss drug will not lose more weight on average than the control group that was given a competitor's weight loss drug\". \n",
    "\n",
    "> A **_Two-Tail Test_** is for when you want to test if a parameter falls between (or outside of) a range of two given values. \n",
    "\n",
    "**_Example Two-Tail Hypothesis_**\n",
    "\n",
    "$H_{1} : \\mu_1 \\neq \\mu_2$ \"People in the experimental group that are administered this drug will not lose the same amount of weight as the people in the control group.  They will be heavier or lighter\". \n",
    "\n",
    "$H_{0} : \\mu_1 = \\mu_2$ \"People in the experimental group that are administered this drug will lose the same amount of weight as the people in the control group.\" \n",
    "\n",
    "\n",
    "\n",
    "\n",
    "***When in doubt, do a 2-tailed test***"
   ]
  },
  {
   "cell_type": "code",
   "execution_count": 1,
   "metadata": {
    "ExecuteTime": {
     "end_time": "2020-08-10T23:11:51.341212Z",
     "start_time": "2020-08-10T23:11:44.605208Z"
    }
   },
   "outputs": [
    {
     "name": "stdout",
     "output_type": "stream",
     "text": [
      "fsds v0.2.22 loaded.  Read the docs: https://fs-ds.readthedocs.io/en/latest/ \n"
     ]
    },
    {
     "data": {
      "text/html": [
       "<style  type=\"text/css\" >\n",
       "</style><table id=\"T_decd3fde_db5e_11ea_baed_acde48001122\" ><caption>Loaded Packages and Handles</caption><thead>    <tr>        <th class=\"col_heading level0 col0\" >Handle</th>        <th class=\"col_heading level0 col1\" >Package</th>        <th class=\"col_heading level0 col2\" >Description</th>    </tr></thead><tbody>\n",
       "                <tr>\n",
       "                                <td id=\"T_decd3fde_db5e_11ea_baed_acde48001122row0_col0\" class=\"data row0 col0\" >dp</td>\n",
       "                        <td id=\"T_decd3fde_db5e_11ea_baed_acde48001122row0_col1\" class=\"data row0 col1\" >IPython.display</td>\n",
       "                        <td id=\"T_decd3fde_db5e_11ea_baed_acde48001122row0_col2\" class=\"data row0 col2\" >Display modules with helpful display and clearing commands.</td>\n",
       "            </tr>\n",
       "            <tr>\n",
       "                                <td id=\"T_decd3fde_db5e_11ea_baed_acde48001122row1_col0\" class=\"data row1 col0\" >fs</td>\n",
       "                        <td id=\"T_decd3fde_db5e_11ea_baed_acde48001122row1_col1\" class=\"data row1 col1\" >fsds</td>\n",
       "                        <td id=\"T_decd3fde_db5e_11ea_baed_acde48001122row1_col2\" class=\"data row1 col2\" >Custom data science bootcamp student package</td>\n",
       "            </tr>\n",
       "            <tr>\n",
       "                                <td id=\"T_decd3fde_db5e_11ea_baed_acde48001122row2_col0\" class=\"data row2 col0\" >mpl</td>\n",
       "                        <td id=\"T_decd3fde_db5e_11ea_baed_acde48001122row2_col1\" class=\"data row2 col1\" >matplotlib</td>\n",
       "                        <td id=\"T_decd3fde_db5e_11ea_baed_acde48001122row2_col2\" class=\"data row2 col2\" >Matplotlib's base OOP module with formatting artists</td>\n",
       "            </tr>\n",
       "            <tr>\n",
       "                                <td id=\"T_decd3fde_db5e_11ea_baed_acde48001122row3_col0\" class=\"data row3 col0\" >plt</td>\n",
       "                        <td id=\"T_decd3fde_db5e_11ea_baed_acde48001122row3_col1\" class=\"data row3 col1\" >matplotlib.pyplot</td>\n",
       "                        <td id=\"T_decd3fde_db5e_11ea_baed_acde48001122row3_col2\" class=\"data row3 col2\" >Matplotlib's matlab-like plotting module</td>\n",
       "            </tr>\n",
       "            <tr>\n",
       "                                <td id=\"T_decd3fde_db5e_11ea_baed_acde48001122row4_col0\" class=\"data row4 col0\" >np</td>\n",
       "                        <td id=\"T_decd3fde_db5e_11ea_baed_acde48001122row4_col1\" class=\"data row4 col1\" >numpy</td>\n",
       "                        <td id=\"T_decd3fde_db5e_11ea_baed_acde48001122row4_col2\" class=\"data row4 col2\" >scientific computing with Python</td>\n",
       "            </tr>\n",
       "            <tr>\n",
       "                                <td id=\"T_decd3fde_db5e_11ea_baed_acde48001122row5_col0\" class=\"data row5 col0\" >pd</td>\n",
       "                        <td id=\"T_decd3fde_db5e_11ea_baed_acde48001122row5_col1\" class=\"data row5 col1\" >pandas</td>\n",
       "                        <td id=\"T_decd3fde_db5e_11ea_baed_acde48001122row5_col2\" class=\"data row5 col2\" >High performance data structures and tools</td>\n",
       "            </tr>\n",
       "            <tr>\n",
       "                                <td id=\"T_decd3fde_db5e_11ea_baed_acde48001122row6_col0\" class=\"data row6 col0\" >sns</td>\n",
       "                        <td id=\"T_decd3fde_db5e_11ea_baed_acde48001122row6_col1\" class=\"data row6 col1\" >seaborn</td>\n",
       "                        <td id=\"T_decd3fde_db5e_11ea_baed_acde48001122row6_col2\" class=\"data row6 col2\" >High-level data visualization library based on matplotlib</td>\n",
       "            </tr>\n",
       "    </tbody></table>"
      ],
      "text/plain": [
       "<pandas.io.formats.style.Styler at 0x10a5913c8>"
      ]
     },
     "metadata": {},
     "output_type": "display_data"
    },
    {
     "data": {
      "text/html": [
       "        <script type=\"text/javascript\">\n",
       "        window.PlotlyConfig = {MathJaxConfig: 'local'};\n",
       "        if (window.MathJax) {MathJax.Hub.Config({SVG: {font: \"STIX-Web\"}});}\n",
       "        if (typeof require !== 'undefined') {\n",
       "        require.undef(\"plotly\");\n",
       "        requirejs.config({\n",
       "            paths: {\n",
       "                'plotly': ['https://cdn.plot.ly/plotly-latest.min']\n",
       "            }\n",
       "        });\n",
       "        require(['plotly'], function(Plotly) {\n",
       "            window._Plotly = Plotly;\n",
       "        });\n",
       "        }\n",
       "        </script>\n",
       "        "
      ]
     },
     "metadata": {},
     "output_type": "display_data"
    },
    {
     "data": {
      "text/html": [
       "        <script type=\"text/javascript\">\n",
       "        window.PlotlyConfig = {MathJaxConfig: 'local'};\n",
       "        if (window.MathJax) {MathJax.Hub.Config({SVG: {font: \"STIX-Web\"}});}\n",
       "        if (typeof require !== 'undefined') {\n",
       "        require.undef(\"plotly\");\n",
       "        requirejs.config({\n",
       "            paths: {\n",
       "                'plotly': ['https://cdn.plot.ly/plotly-latest.min']\n",
       "            }\n",
       "        });\n",
       "        require(['plotly'], function(Plotly) {\n",
       "            window._Plotly = Plotly;\n",
       "        });\n",
       "        }\n",
       "        </script>\n",
       "        "
      ]
     },
     "metadata": {},
     "output_type": "display_data"
    },
    {
     "name": "stdout",
     "output_type": "stream",
     "text": [
      "[i] Pandas .iplot() method activated.\n"
     ]
    }
   ],
   "source": [
    "!pip install -U fsds\n",
    "from fsds.imports import *"
   ]
  },
  {
   "cell_type": "code",
   "execution_count": 2,
   "metadata": {
    "ExecuteTime": {
     "end_time": "2020-08-10T23:11:51.350601Z",
     "start_time": "2020-08-10T23:11:51.342933Z"
    }
   },
   "outputs": [],
   "source": [
    "import scipy.stats as stats\n",
    "x = np.arange(-4,4,.01)\n",
    "y = stats.norm.pdf(x)\n",
    "\n",
    "def plot_normal(x=None,y=None,mean=0,std=1,label='Normal Distribution'):\n",
    "    \"\"\"Plots x,y (normal distrubtion)\"\"\"\n",
    "    \n",
    "    ## Generate Distribution if x and y not provided\n",
    "    if x is None:\n",
    "        x = np.arange(-4,4,.01)\n",
    "    if y is None:\n",
    "        y = stats.norm.pdf(x,loc=mean,scale=std)\n",
    "\n",
    "    ## Plot the distribution \n",
    "    fig,ax = plt.subplots(figsize=(10,6))\n",
    "    ax.plot(x,y,lw=3,label=label)\n",
    "    \n",
    "    ## Plot the mean and std grid\n",
    "    ax.axvline(mean,color='k',label='Mean',lw=2,ls='--',zorder=0)\n",
    "    ax.grid(which='major',axis='x')\n",
    "    \n",
    "    ## Add labels\n",
    "    ax.set(xlabel='Standard Deviation Units (sigma)',\n",
    "           ylabel='Density',\n",
    "           ylim=0,\n",
    "           xlim=(round(min(x)),round(max(x))))\n",
    "    ax.legend()\n",
    "    \n",
    "    return fig,ax"
   ]
  },
  {
   "cell_type": "markdown",
   "metadata": {},
   "source": [
    "## The T-Distribution & T-Tests"
   ]
  },
  {
   "cell_type": "markdown",
   "metadata": {},
   "source": [
    "- To adjust for small sample sizes, statisticians created the T-Distribution for hypothesis testing in lieu of the normal distribution."
   ]
  },
  {
   "cell_type": "code",
   "execution_count": 24,
   "metadata": {
    "ExecuteTime": {
     "end_time": "2020-06-26T23:42:48.399639Z",
     "start_time": "2020-06-26T23:42:48.107407Z"
    }
   },
   "outputs": [
    {
     "data": {
      "text/plain": [
       "<matplotlib.legend.Legend at 0x1c1ccabda0>"
      ]
     },
     "execution_count": 24,
     "metadata": {},
     "output_type": "execute_result"
    },
    {
     "data": {
      "image/png": "[encoded data removed]",
      "text/plain": [
       "<Figure size 720x432 with 1 Axes>"
      ]
     },
     "metadata": {
      "needs_background": "light"
     },
     "output_type": "display_data"
    }
   ],
   "source": [
    "## The T-Distribution\n",
    "x = np.arange(-3,3,.01)\n",
    "y = stats.norm.pdf(x,loc=0,scale=1)\n",
    "\n",
    "## Plot the Normal Distrubtion\n",
    "fig,ax = plot_normal(x,y)#plt.subplots(figsize=(8,4),nrows=1)\n",
    "# ax.plot(x,y,zorder=-1,lw=3,label='Normal Distribution')\n",
    "\n",
    "## Adding T-Distribution \n",
    "for degrees_freedom in [1,2,3,1000]:#,5]:#,10,1000]:\n",
    "#     degrees_freedom=5\n",
    "    y_T = stats.t.pdf(x,df=degrees_freedom)\n",
    "\n",
    "    ax.plot(x,y_T,zorder=-1,ls='--',lw=1,label=f'T Distribution (df={degrees_freedom})')\n",
    "ax.legend()\n"
   ]
  },
  {
   "cell_type": "code",
   "execution_count": 23,
   "metadata": {
    "ExecuteTime": {
     "end_time": "2020-06-26T23:40:35.167567Z",
     "start_time": "2020-06-26T23:40:34.883714Z"
    },
    "scrolled": false
   },
   "outputs": [
    {
     "data": {
      "image/png": "[encoded data removed]",
      "text/plain": [
       "<Figure size 720x432 with 1 Axes>"
      ]
     },
     "execution_count": 23,
     "metadata": {},
     "output_type": "execute_result"
    }
   ],
   "source": [
    "## Confidence Interval\n",
    "ci_low,ci_high = stats.t.interval(alpha = 0.95, # Confidence level\n",
    "                 df= len(x)-1, # Degrees of freedom\n",
    "                 loc = 0,  # Sample mean\n",
    "                 scale = 1) # Standard deviation estimate\n",
    "\n",
    "ax.axvline(ci_low)\n",
    "ax.axvline(ci_high)\n",
    "fig\n"
   ]
  },
  {
   "cell_type": "markdown",
   "metadata": {},
   "source": [
    "# Hypothesis Testing Overview (not in notebook)"
   ]
  },
  {
   "cell_type": "markdown",
   "metadata": {},
   "source": [
    "- Review Code Academy Slideshow pdf\n",
    "- Review Hypothesis Testing Workflow README"
   ]
  },
  {
   "cell_type": "markdown",
   "metadata": {},
   "source": [
    "## Hypothesis Testing Applied: Northwind's Discounts "
   ]
  },
  {
   "cell_type": "markdown",
   "metadata": {},
   "source": [
    "### Hypothesis 1"
   ]
  },
  {
   "cell_type": "markdown",
   "metadata": {},
   "source": [
    "> Do discounted items sell sell in greater/lesser quantities than full price products?\n",
    "\n",
    "- $H_0$: Discounted items sell in similar quantities as full price items?\n",
    "- $H_A$: Discounted items sell in different quantities vs full price items."
   ]
  },
  {
   "cell_type": "code",
   "execution_count": null,
   "metadata": {
    "collapsed": true
   },
   "outputs": [],
   "source": []
  },
  {
   "cell_type": "code",
   "execution_count": 26,
   "metadata": {
    "ExecuteTime": {
     "end_time": "2020-06-27T00:01:34.843620Z",
     "start_time": "2020-06-27T00:01:34.821749Z"
    }
   },
   "outputs": [
    {
     "data": {
      "text/html": [
       "<div>\n",
       "<style scoped>\n",
       "    .dataframe tbody tr th:only-of-type {\n",
       "        vertical-align: middle;\n",
       "    }\n",
       "\n",
       "    .dataframe tbody tr th {\n",
       "        vertical-align: top;\n",
       "    }\n",
       "\n",
       "    .dataframe thead th {\n",
       "        text-align: right;\n",
       "    }\n",
       "</style>\n",
       "<table border=\"1\" class=\"dataframe\">\n",
       "  <thead>\n",
       "    <tr style=\"text-align: right;\">\n",
       "      <th></th>\n",
       "      <th>Id</th>\n",
       "      <th>OrderId</th>\n",
       "      <th>ProductId</th>\n",
       "      <th>UnitPrice</th>\n",
       "      <th>Quantity</th>\n",
       "      <th>Discount</th>\n",
       "      <th>discounted</th>\n",
       "    </tr>\n",
       "  </thead>\n",
       "  <tbody>\n",
       "    <tr>\n",
       "      <td>0</td>\n",
       "      <td>10248/11</td>\n",
       "      <td>10248</td>\n",
       "      <td>11</td>\n",
       "      <td>14.00</td>\n",
       "      <td>12</td>\n",
       "      <td>0.00</td>\n",
       "      <td>Full Price</td>\n",
       "    </tr>\n",
       "    <tr>\n",
       "      <td>1</td>\n",
       "      <td>10248/42</td>\n",
       "      <td>10248</td>\n",
       "      <td>42</td>\n",
       "      <td>9.80</td>\n",
       "      <td>10</td>\n",
       "      <td>0.00</td>\n",
       "      <td>Full Price</td>\n",
       "    </tr>\n",
       "    <tr>\n",
       "      <td>2</td>\n",
       "      <td>10248/72</td>\n",
       "      <td>10248</td>\n",
       "      <td>72</td>\n",
       "      <td>34.80</td>\n",
       "      <td>5</td>\n",
       "      <td>0.00</td>\n",
       "      <td>Full Price</td>\n",
       "    </tr>\n",
       "    <tr>\n",
       "      <td>3</td>\n",
       "      <td>10249/14</td>\n",
       "      <td>10249</td>\n",
       "      <td>14</td>\n",
       "      <td>18.60</td>\n",
       "      <td>9</td>\n",
       "      <td>0.00</td>\n",
       "      <td>Full Price</td>\n",
       "    </tr>\n",
       "    <tr>\n",
       "      <td>4</td>\n",
       "      <td>10249/51</td>\n",
       "      <td>10249</td>\n",
       "      <td>51</td>\n",
       "      <td>42.40</td>\n",
       "      <td>40</td>\n",
       "      <td>0.00</td>\n",
       "      <td>Full Price</td>\n",
       "    </tr>\n",
       "    <tr>\n",
       "      <td>...</td>\n",
       "      <td>...</td>\n",
       "      <td>...</td>\n",
       "      <td>...</td>\n",
       "      <td>...</td>\n",
       "      <td>...</td>\n",
       "      <td>...</td>\n",
       "      <td>...</td>\n",
       "    </tr>\n",
       "    <tr>\n",
       "      <td>2150</td>\n",
       "      <td>11077/64</td>\n",
       "      <td>11077</td>\n",
       "      <td>64</td>\n",
       "      <td>33.25</td>\n",
       "      <td>2</td>\n",
       "      <td>0.03</td>\n",
       "      <td>Discounted</td>\n",
       "    </tr>\n",
       "    <tr>\n",
       "      <td>2151</td>\n",
       "      <td>11077/66</td>\n",
       "      <td>11077</td>\n",
       "      <td>66</td>\n",
       "      <td>17.00</td>\n",
       "      <td>1</td>\n",
       "      <td>0.00</td>\n",
       "      <td>Full Price</td>\n",
       "    </tr>\n",
       "    <tr>\n",
       "      <td>2152</td>\n",
       "      <td>11077/73</td>\n",
       "      <td>11077</td>\n",
       "      <td>73</td>\n",
       "      <td>15.00</td>\n",
       "      <td>2</td>\n",
       "      <td>0.01</td>\n",
       "      <td>Discounted</td>\n",
       "    </tr>\n",
       "    <tr>\n",
       "      <td>2153</td>\n",
       "      <td>11077/75</td>\n",
       "      <td>11077</td>\n",
       "      <td>75</td>\n",
       "      <td>7.75</td>\n",
       "      <td>4</td>\n",
       "      <td>0.00</td>\n",
       "      <td>Full Price</td>\n",
       "    </tr>\n",
       "    <tr>\n",
       "      <td>2154</td>\n",
       "      <td>11077/77</td>\n",
       "      <td>11077</td>\n",
       "      <td>77</td>\n",
       "      <td>13.00</td>\n",
       "      <td>2</td>\n",
       "      <td>0.00</td>\n",
       "      <td>Full Price</td>\n",
       "    </tr>\n",
       "  </tbody>\n",
       "</table>\n",
       "<p>2155 rows × 7 columns</p>\n",
       "</div>"
      ],
      "text/plain": [
       "            Id  OrderId  ProductId  UnitPrice  Quantity  Discount  discounted\n",
       "0     10248/11    10248         11      14.00        12      0.00  Full Price\n",
       "1     10248/42    10248         42       9.80        10      0.00  Full Price\n",
       "2     10248/72    10248         72      34.80         5      0.00  Full Price\n",
       "3     10249/14    10249         14      18.60         9      0.00  Full Price\n",
       "4     10249/51    10249         51      42.40        40      0.00  Full Price\n",
       "...        ...      ...        ...        ...       ...       ...         ...\n",
       "2150  11077/64    11077         64      33.25         2      0.03  Discounted\n",
       "2151  11077/66    11077         66      17.00         1      0.00  Full Price\n",
       "2152  11077/73    11077         73      15.00         2      0.01  Discounted\n",
       "2153  11077/75    11077         75       7.75         4      0.00  Full Price\n",
       "2154  11077/77    11077         77      13.00         2      0.00  Full Price\n",
       "\n",
       "[2155 rows x 7 columns]"
      ]
     },
     "execution_count": 26,
     "metadata": {},
     "output_type": "execute_result"
    }
   ],
   "source": [
    "df['discounted'] = df['Discount'].apply(lambda x: 'Discounted' if x >0 else \"Full Price\")\n",
    "df"
   ]
  },
  {
   "cell_type": "code",
   "execution_count": 27,
   "metadata": {
    "ExecuteTime": {
     "end_time": "2020-06-27T00:03:42.195592Z",
     "start_time": "2020-06-27T00:03:42.166457Z"
    }
   },
   "outputs": [
    {
     "data": {
      "text/html": [
       "<div>\n",
       "<style scoped>\n",
       "    .dataframe tbody tr th:only-of-type {\n",
       "        vertical-align: middle;\n",
       "    }\n",
       "\n",
       "    .dataframe tbody tr th {\n",
       "        vertical-align: top;\n",
       "    }\n",
       "\n",
       "    .dataframe thead th {\n",
       "        text-align: right;\n",
       "    }\n",
       "</style>\n",
       "<table border=\"1\" class=\"dataframe\">\n",
       "  <thead>\n",
       "    <tr style=\"text-align: right;\">\n",
       "      <th></th>\n",
       "      <th>OrderId</th>\n",
       "      <th>ProductId</th>\n",
       "      <th>UnitPrice</th>\n",
       "      <th>Quantity</th>\n",
       "      <th>Discount</th>\n",
       "    </tr>\n",
       "  </thead>\n",
       "  <tbody>\n",
       "    <tr>\n",
       "      <td>count</td>\n",
       "      <td>2155.000000</td>\n",
       "      <td>2155.000000</td>\n",
       "      <td>2155.000000</td>\n",
       "      <td>2155.000000</td>\n",
       "      <td>2155.000000</td>\n",
       "    </tr>\n",
       "    <tr>\n",
       "      <td>mean</td>\n",
       "      <td>10659.375870</td>\n",
       "      <td>40.793039</td>\n",
       "      <td>26.218520</td>\n",
       "      <td>23.812993</td>\n",
       "      <td>0.056167</td>\n",
       "    </tr>\n",
       "    <tr>\n",
       "      <td>std</td>\n",
       "      <td>241.378032</td>\n",
       "      <td>22.159019</td>\n",
       "      <td>29.827418</td>\n",
       "      <td>19.022047</td>\n",
       "      <td>0.083450</td>\n",
       "    </tr>\n",
       "    <tr>\n",
       "      <td>min</td>\n",
       "      <td>10248.000000</td>\n",
       "      <td>1.000000</td>\n",
       "      <td>2.000000</td>\n",
       "      <td>1.000000</td>\n",
       "      <td>0.000000</td>\n",
       "    </tr>\n",
       "    <tr>\n",
       "      <td>25%</td>\n",
       "      <td>10451.000000</td>\n",
       "      <td>22.000000</td>\n",
       "      <td>12.000000</td>\n",
       "      <td>10.000000</td>\n",
       "      <td>0.000000</td>\n",
       "    </tr>\n",
       "    <tr>\n",
       "      <td>50%</td>\n",
       "      <td>10657.000000</td>\n",
       "      <td>41.000000</td>\n",
       "      <td>18.400000</td>\n",
       "      <td>20.000000</td>\n",
       "      <td>0.000000</td>\n",
       "    </tr>\n",
       "    <tr>\n",
       "      <td>75%</td>\n",
       "      <td>10862.500000</td>\n",
       "      <td>60.000000</td>\n",
       "      <td>32.000000</td>\n",
       "      <td>30.000000</td>\n",
       "      <td>0.100000</td>\n",
       "    </tr>\n",
       "    <tr>\n",
       "      <td>max</td>\n",
       "      <td>11077.000000</td>\n",
       "      <td>77.000000</td>\n",
       "      <td>263.500000</td>\n",
       "      <td>130.000000</td>\n",
       "      <td>0.250000</td>\n",
       "    </tr>\n",
       "  </tbody>\n",
       "</table>\n",
       "</div>"
      ],
      "text/plain": [
       "            OrderId    ProductId    UnitPrice     Quantity     Discount\n",
       "count   2155.000000  2155.000000  2155.000000  2155.000000  2155.000000\n",
       "mean   10659.375870    40.793039    26.218520    23.812993     0.056167\n",
       "std      241.378032    22.159019    29.827418    19.022047     0.083450\n",
       "min    10248.000000     1.000000     2.000000     1.000000     0.000000\n",
       "25%    10451.000000    22.000000    12.000000    10.000000     0.000000\n",
       "50%    10657.000000    41.000000    18.400000    20.000000     0.000000\n",
       "75%    10862.500000    60.000000    32.000000    30.000000     0.100000\n",
       "max    11077.000000    77.000000   263.500000   130.000000     0.250000"
      ]
     },
     "execution_count": 27,
     "metadata": {},
     "output_type": "execute_result"
    }
   ],
   "source": [
    "df.describe()"
   ]
  },
  {
   "cell_type": "code",
   "execution_count": 28,
   "metadata": {
    "ExecuteTime": {
     "end_time": "2020-06-27T00:06:44.525928Z",
     "start_time": "2020-06-27T00:06:44.508304Z"
    }
   },
   "outputs": [
    {
     "data": {
      "text/html": [
       "<div>\n",
       "<style scoped>\n",
       "    .dataframe tbody tr th:only-of-type {\n",
       "        vertical-align: middle;\n",
       "    }\n",
       "\n",
       "    .dataframe tbody tr th {\n",
       "        vertical-align: top;\n",
       "    }\n",
       "\n",
       "    .dataframe thead th {\n",
       "        text-align: right;\n",
       "    }\n",
       "</style>\n",
       "<table border=\"1\" class=\"dataframe\">\n",
       "  <thead>\n",
       "    <tr style=\"text-align: right;\">\n",
       "      <th></th>\n",
       "      <th>Id</th>\n",
       "      <th>OrderId</th>\n",
       "      <th>ProductId</th>\n",
       "      <th>UnitPrice</th>\n",
       "      <th>Quantity</th>\n",
       "      <th>Discount</th>\n",
       "      <th>discounted</th>\n",
       "    </tr>\n",
       "  </thead>\n",
       "  <tbody>\n",
       "    <tr>\n",
       "      <td>0</td>\n",
       "      <td>10248/11</td>\n",
       "      <td>10248</td>\n",
       "      <td>11</td>\n",
       "      <td>14.00</td>\n",
       "      <td>12</td>\n",
       "      <td>0.00</td>\n",
       "      <td>Full Price</td>\n",
       "    </tr>\n",
       "    <tr>\n",
       "      <td>1</td>\n",
       "      <td>10248/42</td>\n",
       "      <td>10248</td>\n",
       "      <td>42</td>\n",
       "      <td>9.80</td>\n",
       "      <td>10</td>\n",
       "      <td>0.00</td>\n",
       "      <td>Full Price</td>\n",
       "    </tr>\n",
       "    <tr>\n",
       "      <td>2</td>\n",
       "      <td>10248/72</td>\n",
       "      <td>10248</td>\n",
       "      <td>72</td>\n",
       "      <td>34.80</td>\n",
       "      <td>5</td>\n",
       "      <td>0.00</td>\n",
       "      <td>Full Price</td>\n",
       "    </tr>\n",
       "    <tr>\n",
       "      <td>3</td>\n",
       "      <td>10249/14</td>\n",
       "      <td>10249</td>\n",
       "      <td>14</td>\n",
       "      <td>18.60</td>\n",
       "      <td>9</td>\n",
       "      <td>0.00</td>\n",
       "      <td>Full Price</td>\n",
       "    </tr>\n",
       "    <tr>\n",
       "      <td>4</td>\n",
       "      <td>10249/51</td>\n",
       "      <td>10249</td>\n",
       "      <td>51</td>\n",
       "      <td>42.40</td>\n",
       "      <td>40</td>\n",
       "      <td>0.00</td>\n",
       "      <td>Full Price</td>\n",
       "    </tr>\n",
       "    <tr>\n",
       "      <td>...</td>\n",
       "      <td>...</td>\n",
       "      <td>...</td>\n",
       "      <td>...</td>\n",
       "      <td>...</td>\n",
       "      <td>...</td>\n",
       "      <td>...</td>\n",
       "      <td>...</td>\n",
       "    </tr>\n",
       "    <tr>\n",
       "      <td>2150</td>\n",
       "      <td>11077/64</td>\n",
       "      <td>11077</td>\n",
       "      <td>64</td>\n",
       "      <td>33.25</td>\n",
       "      <td>2</td>\n",
       "      <td>0.03</td>\n",
       "      <td>Discounted</td>\n",
       "    </tr>\n",
       "    <tr>\n",
       "      <td>2151</td>\n",
       "      <td>11077/66</td>\n",
       "      <td>11077</td>\n",
       "      <td>66</td>\n",
       "      <td>17.00</td>\n",
       "      <td>1</td>\n",
       "      <td>0.00</td>\n",
       "      <td>Full Price</td>\n",
       "    </tr>\n",
       "    <tr>\n",
       "      <td>2152</td>\n",
       "      <td>11077/73</td>\n",
       "      <td>11077</td>\n",
       "      <td>73</td>\n",
       "      <td>15.00</td>\n",
       "      <td>2</td>\n",
       "      <td>0.01</td>\n",
       "      <td>Discounted</td>\n",
       "    </tr>\n",
       "    <tr>\n",
       "      <td>2153</td>\n",
       "      <td>11077/75</td>\n",
       "      <td>11077</td>\n",
       "      <td>75</td>\n",
       "      <td>7.75</td>\n",
       "      <td>4</td>\n",
       "      <td>0.00</td>\n",
       "      <td>Full Price</td>\n",
       "    </tr>\n",
       "    <tr>\n",
       "      <td>2154</td>\n",
       "      <td>11077/77</td>\n",
       "      <td>11077</td>\n",
       "      <td>77</td>\n",
       "      <td>13.00</td>\n",
       "      <td>2</td>\n",
       "      <td>0.00</td>\n",
       "      <td>Full Price</td>\n",
       "    </tr>\n",
       "  </tbody>\n",
       "</table>\n",
       "<p>2155 rows × 7 columns</p>\n",
       "</div>"
      ],
      "text/plain": [
       "            Id  OrderId  ProductId  UnitPrice  Quantity  Discount  discounted\n",
       "0     10248/11    10248         11      14.00        12      0.00  Full Price\n",
       "1     10248/42    10248         42       9.80        10      0.00  Full Price\n",
       "2     10248/72    10248         72      34.80         5      0.00  Full Price\n",
       "3     10249/14    10249         14      18.60         9      0.00  Full Price\n",
       "4     10249/51    10249         51      42.40        40      0.00  Full Price\n",
       "...        ...      ...        ...        ...       ...       ...         ...\n",
       "2150  11077/64    11077         64      33.25         2      0.03  Discounted\n",
       "2151  11077/66    11077         66      17.00         1      0.00  Full Price\n",
       "2152  11077/73    11077         73      15.00         2      0.01  Discounted\n",
       "2153  11077/75    11077         75       7.75         4      0.00  Full Price\n",
       "2154  11077/77    11077         77      13.00         2      0.00  Full Price\n",
       "\n",
       "[2155 rows x 7 columns]"
      ]
     },
     "execution_count": 28,
     "metadata": {},
     "output_type": "execute_result"
    }
   ],
   "source": [
    "df"
   ]
  },
  {
   "cell_type": "code",
   "execution_count": 30,
   "metadata": {
    "ExecuteTime": {
     "end_time": "2020-06-27T00:07:37.426910Z",
     "start_time": "2020-06-27T00:07:37.421318Z"
    }
   },
   "outputs": [
    {
     "data": {
      "text/plain": [
       "array(['Full Price', 'Discounted'], dtype=object)"
      ]
     },
     "execution_count": 30,
     "metadata": {},
     "output_type": "execute_result"
    }
   ],
   "source": [
    "groups = df['discounted'].unique()\n",
    "groups"
   ]
  },
  {
   "cell_type": "code",
   "execution_count": 33,
   "metadata": {
    "ExecuteTime": {
     "end_time": "2020-06-27T00:08:35.262498Z",
     "start_time": "2020-06-27T00:08:35.253197Z"
    }
   },
   "outputs": [
    {
     "data": {
      "text/plain": [
       "{'Full Price': 0       12\n",
       " 1       10\n",
       " 2        5\n",
       " 3        9\n",
       " 4       40\n",
       "         ..\n",
       " 2147     2\n",
       " 2148     2\n",
       " 2151     1\n",
       " 2153     4\n",
       " 2154     2\n",
       " Name: Quantity, Length: 1317, dtype: int64, 'Discounted': 6       35\n",
       " 7       15\n",
       " 8        6\n",
       " 9       15\n",
       " 11      40\n",
       "         ..\n",
       " 2144     2\n",
       " 2146     3\n",
       " 2149     2\n",
       " 2150     2\n",
       " 2152     2\n",
       " Name: Quantity, Length: 838, dtype: int64}"
      ]
     },
     "execution_count": 33,
     "metadata": {},
     "output_type": "execute_result"
    }
   ],
   "source": [
    "data = {}\n",
    "for grp in groups:\n",
    "    \n",
    "    group_df = df.groupby('discounted').get_group(grp)['Quantity']\n",
    "    data[grp] = group_df\n",
    "data"
   ]
  },
  {
   "cell_type": "code",
   "execution_count": 36,
   "metadata": {
    "ExecuteTime": {
     "end_time": "2020-06-27T00:10:10.374021Z",
     "start_time": "2020-06-27T00:10:10.172946Z"
    }
   },
   "outputs": [
    {
     "data": {
      "text/plain": [
       "<matplotlib.axes._subplots.AxesSubplot at 0x1c1dcd4748>"
      ]
     },
     "execution_count": 36,
     "metadata": {},
     "output_type": "execute_result"
    },
    {
     "data": {
      "image/png": "[encoded data removed]",
      "text/plain": [
       "<Figure size 432x288 with 1 Axes>"
      ]
     },
     "metadata": {
      "needs_background": "light"
     },
     "output_type": "display_data"
    }
   ],
   "source": [
    "data['Discounted'].hist()"
   ]
  },
  {
   "cell_type": "code",
   "execution_count": 35,
   "metadata": {
    "ExecuteTime": {
     "end_time": "2020-06-27T00:09:55.476822Z",
     "start_time": "2020-06-27T00:09:55.293809Z"
    }
   },
   "outputs": [
    {
     "data": {
      "text/plain": [
       "(array([218., 290., 129., 112.,  41.,  21.,  15.,   6.,   0.,   6.]),\n",
       " array([-1.25775482, -0.63633886, -0.0149229 ,  0.60649305,  1.22790901,\n",
       "         1.84932497,  2.47074092,  3.09215688,  3.71357284,  4.3349888 ,\n",
       "         4.95640475]),\n",
       " <a list of 10 Patch objects>)"
      ]
     },
     "execution_count": 35,
     "metadata": {},
     "output_type": "execute_result"
    },
    {
     "data": {
      "image/png": "[encoded data removed]",
      "text/plain": [
       "<Figure size 432x288 with 1 Axes>"
      ]
     },
     "metadata": {
      "needs_background": "light"
     },
     "output_type": "display_data"
    }
   ],
   "source": [
    "plt.hist(stats.zscore(data['Discounted']))"
   ]
  },
  {
   "cell_type": "code",
   "execution_count": 40,
   "metadata": {
    "ExecuteTime": {
     "end_time": "2020-06-27T00:12:04.658014Z",
     "start_time": "2020-06-27T00:12:04.654840Z"
    }
   },
   "outputs": [],
   "source": [
    "z_data= stats.zscore(data['Discounted'])\n",
    "idx_outlier = np.abs(z_data)>3"
   ]
  },
  {
   "cell_type": "code",
   "execution_count": 42,
   "metadata": {
    "ExecuteTime": {
     "end_time": "2020-06-27T00:12:23.448440Z",
     "start_time": "2020-06-27T00:12:23.440111Z"
    }
   },
   "outputs": [
    {
     "data": {
      "text/plain": [
       "6       35\n",
       "7       15\n",
       "8        6\n",
       "9       15\n",
       "11      40\n",
       "        ..\n",
       "2144     2\n",
       "2146     3\n",
       "2149     2\n",
       "2150     2\n",
       "2152     2\n",
       "Name: Quantity, Length: 823, dtype: int64"
      ]
     },
     "execution_count": 42,
     "metadata": {},
     "output_type": "execute_result"
    }
   ],
   "source": [
    "data['Discounted'][~idx_outlier]"
   ]
  },
  {
   "cell_type": "code",
   "execution_count": 43,
   "metadata": {
    "ExecuteTime": {
     "end_time": "2020-06-27T00:14:10.357382Z",
     "start_time": "2020-06-27T00:14:10.353808Z"
    }
   },
   "outputs": [
    {
     "data": {
      "text/plain": [
       "15"
      ]
     },
     "execution_count": 43,
     "metadata": {},
     "output_type": "execute_result"
    }
   ],
   "source": [
    "idx_outlier.sum()"
   ]
  },
  {
   "cell_type": "code",
   "execution_count": 44,
   "metadata": {
    "ExecuteTime": {
     "end_time": "2020-06-27T00:14:27.712516Z",
     "start_time": "2020-06-27T00:14:27.705445Z"
    }
   },
   "outputs": [
    {
     "name": "stdout",
     "output_type": "stream",
     "text": [
      "There were 20 outliers in Full Price\n",
      "There were 15 outliers in Discounted\n"
     ]
    }
   ],
   "source": [
    "for grp, grp_data in data.items():\n",
    "    z_data= stats.zscore(grp_data)\n",
    "    idx_outlier = np.abs(z_data)>3\n",
    "    print(f\"There were {idx_outlier.sum()} outliers in {grp}\")\n",
    "    data[grp]= grp_data[~idx_outlier]"
   ]
  },
  {
   "cell_type": "code",
   "execution_count": 45,
   "metadata": {
    "ExecuteTime": {
     "end_time": "2020-06-27T00:14:36.599813Z",
     "start_time": "2020-06-27T00:14:36.413969Z"
    }
   },
   "outputs": [
    {
     "data": {
      "text/plain": [
       "<matplotlib.axes._subplots.AxesSubplot at 0x1c1e11cb70>"
      ]
     },
     "execution_count": 45,
     "metadata": {},
     "output_type": "execute_result"
    },
    {
     "data": {
      "image/png": "[encoded data removed]",
      "text/plain": [
       "<Figure size 432x288 with 1 Axes>"
      ]
     },
     "metadata": {
      "needs_background": "light"
     },
     "output_type": "display_data"
    }
   ],
   "source": [
    "data['Discounted'].hist()"
   ]
  },
  {
   "cell_type": "code",
   "execution_count": 61,
   "metadata": {
    "ExecuteTime": {
     "end_time": "2020-06-27T00:21:22.011528Z",
     "start_time": "2020-06-27T00:21:21.694009Z"
    }
   },
   "outputs": [
    {
     "name": "stdout",
     "output_type": "stream",
     "text": [
      "Results for Full Price:\n",
      " - NormaltestResult(statistic=189.4399007344143, pvalue=7.305471139042015e-42)\n",
      " - The sample is NOT normal (p<.05)\n",
      "Results for Discounted:\n",
      " - NormaltestResult(statistic=113.8793478809513, pvalue=1.86815887001002e-25)\n",
      " - The sample is NOT normal (p<.05)\n"
     ]
    },
    {
     "data": {
      "text/plain": [
       "<matplotlib.legend.Legend at 0x1c1e961208>"
      ]
     },
     "execution_count": 61,
     "metadata": {},
     "output_type": "execute_result"
    },
    {
     "data": {
      "image/png": "[encoded data removed]",
      "text/plain": [
       "<Figure size 432x288 with 1 Axes>"
      ]
     },
     "metadata": {
      "needs_background": "light"
     },
     "output_type": "display_data"
    }
   ],
   "source": [
    "for grp, grp_data in data.items():\n",
    "    p = test_for_normality(grp_data,label=grp,get_p=True)\n",
    "    ax = sns.distplot(grp_data, label= f\"{grp} (n={len(grp_data)})\")\n",
    "    ax.axvline(grp_data.mean(),label=f'{grp} Mean')\n",
    "ax.legend()"
   ]
  },
  {
   "cell_type": "code",
   "execution_count": 57,
   "metadata": {
    "ExecuteTime": {
     "end_time": "2020-06-27T00:18:49.387749Z",
     "start_time": "2020-06-27T00:18:49.381772Z"
    }
   },
   "outputs": [
    {
     "data": {
      "text/plain": [
       "[0       12\n",
       " 1       10\n",
       " 2        5\n",
       " 3        9\n",
       " 4       40\n",
       "         ..\n",
       " 2147     2\n",
       " 2148     2\n",
       " 2151     1\n",
       " 2153     4\n",
       " 2154     2\n",
       " Name: Quantity, Length: 1297, dtype: int64, 6       35\n",
       " 7       15\n",
       " 8        6\n",
       " 9       15\n",
       " 11      40\n",
       "         ..\n",
       " 2144     2\n",
       " 2146     3\n",
       " 2149     2\n",
       " 2150     2\n",
       " 2152     2\n",
       " Name: Quantity, Length: 823, dtype: int64]"
      ]
     },
     "execution_count": 57,
     "metadata": {},
     "output_type": "execute_result"
    }
   ],
   "source": [
    "res = [*list(data.values())]\n",
    "res"
   ]
  },
  {
   "cell_type": "code",
   "execution_count": 53,
   "metadata": {
    "ExecuteTime": {
     "end_time": "2020-06-27T00:18:02.691026Z",
     "start_time": "2020-06-27T00:18:02.684491Z"
    }
   },
   "outputs": [
    {
     "data": {
      "text/plain": [
       "LeveneResult(statistic=19.187113832590878, pvalue=1.2429073348187694e-05)"
      ]
     },
     "execution_count": 53,
     "metadata": {},
     "output_type": "execute_result"
    }
   ],
   "source": [
    "stats.levene(*list(data.values()))"
   ]
  },
  {
   "cell_type": "code",
   "execution_count": 59,
   "metadata": {
    "ExecuteTime": {
     "end_time": "2020-06-27T00:20:25.757385Z",
     "start_time": "2020-06-27T00:20:25.752364Z"
    }
   },
   "outputs": [
    {
     "data": {
      "text/plain": [
       "Ttest_indResult(statistic=-6.879197143670148, pvalue=8.799308355281152e-12)"
      ]
     },
     "execution_count": 59,
     "metadata": {},
     "output_type": "execute_result"
    }
   ],
   "source": [
    "stats.ttest_ind(*list(data.values()),equal_var=False)"
   ]
  },
  {
   "cell_type": "code",
   "execution_count": null,
   "metadata": {},
   "outputs": [],
   "source": []
  }
 ],
 "metadata": {
  "colab": {
   "collapsed_sections": [],
   "name": "Sect 18+19  with Titanic.ipynb",
   "provenance": []
  },
  "kernelspec": {
   "display_name": "Python [conda env:learn-env] *",
   "language": "python",
   "name": "conda-env-learn-env-py"
  },
  "language_info": {
   "codemirror_mode": {
    "name": "ipython",
    "version": 3
   },
   "file_extension": ".py",
   "mimetype": "text/x-python",
   "name": "python",
   "nbconvert_exporter": "python",
   "pygments_lexer": "ipython3",
   "version": "3.6.11"
  },
  "toc": {
   "base_numbering": 1,
   "nav_menu": {},
   "number_sections": false,
   "sideBar": true,
   "skip_h1_title": false,
   "title_cell": "Table of Contents",
   "title_sidebar": "Contents",
   "toc_cell": false,
   "toc_position": {
    "height": "calc(100% - 180px)",
    "left": "10px",
    "top": "150px",
    "width": "255.969px"
   },
   "toc_section_display": true,
   "toc_window_display": true
  },
  "varInspector": {
   "cols": {
    "lenName": 16,
    "lenType": 16,
    "lenVar": 40
   },
   "kernels_config": {
    "python": {
     "delete_cmd_postfix": "",
     "delete_cmd_prefix": "del ",
     "library": "var_list.py",
     "varRefreshCmd": "print(var_dic_list())"
    },
    "r": {
     "delete_cmd_postfix": ") ",
     "delete_cmd_prefix": "rm(",
     "library": "var_list.r",
     "varRefreshCmd": "cat(var_dic_list()) "
    }
   },
   "types_to_exclude": [
    "module",
    "function",
    "builtin_function_or_method",
    "instance",
    "_Feature"
   ],
   "window_display": false
  }
 },
 "nbformat": 4,
 "nbformat_minor": 1
}

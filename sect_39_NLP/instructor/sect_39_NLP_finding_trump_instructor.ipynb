{
 "cells": [
  {
   "cell_type": "markdown",
   "metadata": {},
   "source": [
    "# Section 39: Foundations of Natural Language Processing"
   ]
  },
  {
   "cell_type": "markdown",
   "metadata": {},
   "source": [
    "## Learning Objectives"
   ]
  },
  {
   "cell_type": "markdown",
   "metadata": {},
   "source": [
    "- Introduce the field of Natural Language Processing\n",
    "- Learn about the extensive preprocessing involved with text data\n",
    "- Walk through text classification - Finding Trump \n"
   ]
  },
  {
   "cell_type": "markdown",
   "metadata": {},
   "source": [
    "## Questions"
   ]
  },
  {
   "cell_type": "markdown",
   "metadata": {},
   "source": [
    "### Questions from Gdoc"
   ]
  },
  {
   "cell_type": "markdown",
   "metadata": {},
   "source": [
    "### Additional Questions?\n"
   ]
  },
  {
   "cell_type": "markdown",
   "metadata": {},
   "source": []
  },
  {
   "cell_type": "markdown",
   "metadata": {},
   "source": [
    "# Natural Language Processing"
   ]
  },
  {
   "cell_type": "markdown",
   "metadata": {},
   "source": [
    "> **_Natural Language Processing_**, or **_NLP_**, is the study of how computers can interact with humans through the use of human language.  Although this is a field that is quite important to Data Scientists, it does not belong to Data Science alone.  NLP has been around for quite a while, and sits at the intersection of *Computer Science*, *Artificial Intelligence*, *Linguistics*, and *Information Theory*. "
   ]
  },
  {
   "cell_type": "markdown",
   "metadata": {},
   "source": [
    "## Where is NLP Used?\n",
    "- Reviews (i.e. Amazon)\n",
    "- Stock market trading\n",
    "- AI Assistants\n",
    "- Spam Detection"
   ]
  },
  {
   "cell_type": "markdown",
   "metadata": {},
   "source": [
    "- **Demonstration:**\n",
    "    - [Google Duplex AI Assistant](https://youtu.be/D5VN56jQMWM)"
   ]
  },
  {
   "cell_type": "markdown",
   "metadata": {},
   "source": [
    "# Working with Text Data"
   ]
  },
  {
   "cell_type": "markdown",
   "metadata": {},
   "source": [
    "## Preprocessing"
   ]
  },
  {
   "cell_type": "markdown",
   "metadata": {},
   "source": [
    "**Preparing text data requires more processing than normal data.**\n",
    "1. We must remove things like:\n",
    "    - punctuation\n",
    "    - numbers\n",
    "    - upper vs lowercase letters\n",
    "    \n",
    "    \n",
    "2. It is always recommended that go a step beyond this and remove **commonly used words that contain little information (called \"stopwords\")** for our machine learning algorithms. Words like: the,was,he,she, it,etc.\n",
    "\n",
    "\n",
    "3. Additionally, most analyses **need the text tokenzied** into a list of words and not in a natural sentence format. Instead, they are a list of words (**tokens**) separated by \"`,`\", which tells the algorithm what should be considered one word.\n",
    "\n",
    "\n",
    "4. While not always required, it is often a good idea to reduce similar words down to a shared core.\n",
    "There are often **multiple variants of the same word with the same/simiar meaning**,<br> but one may plural **(i.e. \"democrat\" and \"democrats\")**, or form of words is different **(i.e. run, running).**<br> Simplifying words down to the basic core word (or word *stem*) is referred to as **\"stemming\"**. <br><br> A more advanced form of this also understands things like words that are just in a **different tense** such as  i.e.  **\"ran\", \"run\", \"running\"**. This process is called  **\"lemmatization**, where the words are reduced to their simplest form, called \"**lemmas**\"<br>  \n",
    "    - Stemming<br><img src=\"https://raw.githubusercontent.com/learn-co-students/dsc-nlp-and-word-vectorization-online-ds-ft-100719/master/images/new_stemming.png\" width=40%>\n",
    "    - Lemmatization\n",
    "    \n",
    "|   Word   |  Stem | Lemma |\n",
    "|:--------:|:-----:|:-----:|\n",
    "|  Studies | Studi | Study |\n",
    "| Studying | Study | Study |\n",
    "\n",
    "5. Finally, we have to convert our text data into numeric form for our machine learning models to analyze, a process called **vectorization**."
   ]
  },
  {
   "cell_type": "markdown",
   "metadata": {},
   "source": [
    "## Vectorization"
   ]
  },
  {
   "cell_type": "markdown",
   "metadata": {},
   "source": [
    "- For computers to process text it needs to be converted to a numerical representation of the text.\n",
    "\n",
    "- There are several different ways we can vectorize our text:\n",
    "\n",
    "    - Count vectorization\n",
    "    - Term Frequency-Inverse Document Frequency (TF-IDF)\n",
    "        -  Used for multiple texts\n",
    "    \n",
    "    \n",
    ">- **_Term Frequency_** is calculated with the following formula:\n",
    "$$ \\text{Term Frequency}(t) = \\frac{\\text{number of times it appears in a document}} {\\text{total number of terms in the document}} $$ \n",
    "\n",
    "> - **_Inverse Document Frequency_** is calculated with the following formula:\n",
    "$$ IDF(t) = log_e(\\frac{\\text{Total Number of Documents}}{\\text{Number of Documents with it in it}})$$\n",
    "\n",
    "> The **_TF-IDF_** value for a given word in a given document is just found by multiplying the two!\n",
    "\n",
    "- There are additional ways to vectorize using Deep Neural Networks to create Word Embeddings (see Module 4 > Appendix: Deep NLP)"
   ]
  },
  {
   "cell_type": "markdown",
   "metadata": {},
   "source": [
    "## Feature Engineering for Text Data"
   ]
  },
  {
   "cell_type": "markdown",
   "metadata": {},
   "source": [
    "\n",
    "* Do we remove stop words or not?    \n",
    "* Do we stem or lemmatize our text data, or leave the words as is?   \n",
    "* Is basic tokenization enough, or do we need to support special edge cases through the use of regex?  \n",
    "* Do we use the entire vocabulary, or just limit the model to a subset of the most frequently used words? If so, how many?  \n",
    "* Do we engineer other features, such as bigrams, or POS tags, or Mutual Information Scores?   \n",
    "* What sort of vectorization should we use in our model? Boolean Vectorization? Count Vectorization? TF-IDF? More advanced vectorization strategies such as Word2Vec?  \n"
   ]
  },
  {
   "cell_type": "markdown",
   "metadata": {},
   "source": [
    "# Practicing Text Preprocessing with Trump's Tweets"
   ]
  },
  {
   "cell_type": "markdown",
   "metadata": {},
   "source": [
    "## Tweet Natural Language Processing"
   ]
  },
  {
   "cell_type": "markdown",
   "metadata": {},
   "source": [
    "To prepare Donal Trump's tweets for modeling, **it is essential to preprocess the text** and simplify its contents.\n",
    "<br><br>\n",
    "1. **At a minimum, things like:**\n",
    "    - punctuation\n",
    "    - numbers\n",
    "    - upper vs lowercase letters<br>\n",
    "    ***must*** be addressed before any initial analyses. I refer tho this initial cleaning as **\"minimal cleaning\"** of the text content<br>\n",
    "    \n",
    "> Version 1 of the tweet processing removes these items, as well as the removal of any urls in a tweet. The resulting data column is referred to here as \"content_min_clean\".\n",
    "\n",
    "<br><br>\n",
    "2. It is **always recommended** that go a step beyond this and<br> remove **commonly used words that contain little information** <br>for our machine learning algorithms. Words like: (the,was,he,she, it,etc.)<br> are called **\"stopwords\"**, and it is critical to address them as well.\n",
    "\n",
    "> Version 2 of the tweet processing removes these items and the resulting data column is referred here as `cleaned_stopped_content`\n",
    "\n",
    "<br>\n",
    "\n",
    "3. Additionally, many analyses **need the text tokenzied** into a list of words<br> and not in a natural sentence format. Instead, they are a list of words (**tokens**) separated by \",\", which tells the algorithm what should be considered one word.<br><br>For the tweet processing, I used a version of tokenization, called `regexp_tokenziation` <br>which uses pattern of letters and symbols (the `expression`) <br>that indicate what combination of alpha numeric characters should be considered a single token.<br><br>The pattern I used was `\"([a-zA-Z]+(?:'[a-z]+)?)\"`, which allows for words such as \"can't\" that contain \"'\" in the middle of word. This processes was actually applied in order to process Version 1 and 2 of the Tweets, but the resulting text was put back into sentence form. \n",
    "\n",
    "> Version 3 of the tweets keeps the text in their regexp-tokenized form and is reffered to as `cleaned_stopped_tokens`\n",
    "<br>\n",
    "\n",
    "4. While not always required, it is often a good idea to reduce similar words down to a shared core.\n",
    "There are often **multiple variants of the same word with the same/simiar meaning**,<br> but one may plural **(i.e. \"democrat\" and \"democrats\")**, or form of words is different **(i.e. run, running).**<br> Simplifying words down to the basic core word (or word *stem*) is referred to as **\"stemming\"**. <br><br> A more advanced form of this also understands things like words that are just in a **different tense** such as  i.e.  **\"ran\", \"run\", \"running\"**. This process is called  **\"lemmatization**, where the words are reduced to their simplest form, called \"**lemmas**\"<br>  \n",
    "\n",
    "> Version 4 of the tweets are all reduced down to their word lemmas, futher aiding the algorithm in learning the meaning of the texts.\n",
    "<!-- \n",
    "\n",
    "#### EXAMPLE TWEETS AND PROCESSING STEPS:\n",
    "\n",
    "**TWEET FROM 08-25-2017 12:25:10:**\n",
    "* **[\"content\"] column:**<p><blockquote>***\"Strange statement by Bob Corker considering that he is constantly asking me whether or not he should run again in '18. Tennessee not happy!\"***\n",
    "    \n",
    "    \n",
    "* **[\"content_min_clean\"] column:**<p><blockquote>***\"strange statement by bob corker considering that he is constantly asking me whether or not he should run again in  18  tennessee not happy \"***\n",
    "    \n",
    "    \n",
    "* **[\"cleaned_stopped_content\"] column:**<p><blockquote>***\"strange statement bob corker considering constantly asking whether run tennessee happy\"***\n",
    "    \n",
    "    \n",
    "* **[\"cleaned_stopped_tokens\"] column:**<p><blockquote>***\"['strange', 'statement', 'bob', 'corker', 'considering', 'constantly', 'asking', 'whether', 'run', 'tennessee', 'happy']\"***\n",
    "    \n",
    "    \n",
    "* **[\"cleaned_stopped_lemmas\"] column:**<p><blockquote>***\"strange statement bob corker considering constantly asking whether run tennessee happy\"*** -->"
   ]
  },
  {
   "cell_type": "code",
   "execution_count": 1,
   "metadata": {
    "ExecuteTime": {
     "end_time": "2020-10-17T22:51:58.296932Z",
     "start_time": "2020-10-17T22:51:52.393661Z"
    }
   },
   "outputs": [
    {
     "name": "stdout",
     "output_type": "stream",
     "text": [
      "fsds v0.2.27 loaded.  Read the docs: https://fs-ds.readthedocs.io/en/latest/ \n"
     ]
    },
    {
     "data": {
      "text/html": [
       "<style  type=\"text/css\" >\n",
       "</style><table id=\"T_5becc0b0_10cb_11eb_960e_acde48001122\" ><caption>Loaded Packages and Handles</caption><thead>    <tr>        <th class=\"col_heading level0 col0\" >Handle</th>        <th class=\"col_heading level0 col1\" >Package</th>        <th class=\"col_heading level0 col2\" >Description</th>    </tr></thead><tbody>\n",
       "                <tr>\n",
       "                                <td id=\"T_5becc0b0_10cb_11eb_960e_acde48001122row0_col0\" class=\"data row0 col0\" >dp</td>\n",
       "                        <td id=\"T_5becc0b0_10cb_11eb_960e_acde48001122row0_col1\" class=\"data row0 col1\" >IPython.display</td>\n",
       "                        <td id=\"T_5becc0b0_10cb_11eb_960e_acde48001122row0_col2\" class=\"data row0 col2\" >Display modules with helpful display and clearing commands.</td>\n",
       "            </tr>\n",
       "            <tr>\n",
       "                                <td id=\"T_5becc0b0_10cb_11eb_960e_acde48001122row1_col0\" class=\"data row1 col0\" >fs</td>\n",
       "                        <td id=\"T_5becc0b0_10cb_11eb_960e_acde48001122row1_col1\" class=\"data row1 col1\" >fsds</td>\n",
       "                        <td id=\"T_5becc0b0_10cb_11eb_960e_acde48001122row1_col2\" class=\"data row1 col2\" >Custom data science bootcamp student package</td>\n",
       "            </tr>\n",
       "            <tr>\n",
       "                                <td id=\"T_5becc0b0_10cb_11eb_960e_acde48001122row2_col0\" class=\"data row2 col0\" >mpl</td>\n",
       "                        <td id=\"T_5becc0b0_10cb_11eb_960e_acde48001122row2_col1\" class=\"data row2 col1\" >matplotlib</td>\n",
       "                        <td id=\"T_5becc0b0_10cb_11eb_960e_acde48001122row2_col2\" class=\"data row2 col2\" >Matplotlib's base OOP module with formatting artists</td>\n",
       "            </tr>\n",
       "            <tr>\n",
       "                                <td id=\"T_5becc0b0_10cb_11eb_960e_acde48001122row3_col0\" class=\"data row3 col0\" >plt</td>\n",
       "                        <td id=\"T_5becc0b0_10cb_11eb_960e_acde48001122row3_col1\" class=\"data row3 col1\" >matplotlib.pyplot</td>\n",
       "                        <td id=\"T_5becc0b0_10cb_11eb_960e_acde48001122row3_col2\" class=\"data row3 col2\" >Matplotlib's matlab-like plotting module</td>\n",
       "            </tr>\n",
       "            <tr>\n",
       "                                <td id=\"T_5becc0b0_10cb_11eb_960e_acde48001122row4_col0\" class=\"data row4 col0\" >np</td>\n",
       "                        <td id=\"T_5becc0b0_10cb_11eb_960e_acde48001122row4_col1\" class=\"data row4 col1\" >numpy</td>\n",
       "                        <td id=\"T_5becc0b0_10cb_11eb_960e_acde48001122row4_col2\" class=\"data row4 col2\" >scientific computing with Python</td>\n",
       "            </tr>\n",
       "            <tr>\n",
       "                                <td id=\"T_5becc0b0_10cb_11eb_960e_acde48001122row5_col0\" class=\"data row5 col0\" >pd</td>\n",
       "                        <td id=\"T_5becc0b0_10cb_11eb_960e_acde48001122row5_col1\" class=\"data row5 col1\" >pandas</td>\n",
       "                        <td id=\"T_5becc0b0_10cb_11eb_960e_acde48001122row5_col2\" class=\"data row5 col2\" >High performance data structures and tools</td>\n",
       "            </tr>\n",
       "            <tr>\n",
       "                                <td id=\"T_5becc0b0_10cb_11eb_960e_acde48001122row6_col0\" class=\"data row6 col0\" >sns</td>\n",
       "                        <td id=\"T_5becc0b0_10cb_11eb_960e_acde48001122row6_col1\" class=\"data row6 col1\" >seaborn</td>\n",
       "                        <td id=\"T_5becc0b0_10cb_11eb_960e_acde48001122row6_col2\" class=\"data row6 col2\" >High-level data visualization library based on matplotlib</td>\n",
       "            </tr>\n",
       "    </tbody></table>"
      ],
      "text/plain": [
       "<pandas.io.formats.style.Styler at 0x7ff4670bac18>"
      ]
     },
     "metadata": {},
     "output_type": "display_data"
    },
    {
     "data": {
      "text/html": [
       "        <script type=\"text/javascript\">\n",
       "        window.PlotlyConfig = {MathJaxConfig: 'local'};\n",
       "        if (window.MathJax) {MathJax.Hub.Config({SVG: {font: \"STIX-Web\"}});}\n",
       "        if (typeof require !== 'undefined') {\n",
       "        require.undef(\"plotly\");\n",
       "        requirejs.config({\n",
       "            paths: {\n",
       "                'plotly': ['https://cdn.plot.ly/plotly-latest.min']\n",
       "            }\n",
       "        });\n",
       "        require(['plotly'], function(Plotly) {\n",
       "            window._Plotly = Plotly;\n",
       "        });\n",
       "        }\n",
       "        </script>\n",
       "        "
      ]
     },
     "metadata": {},
     "output_type": "display_data"
    },
    {
     "data": {
      "text/html": [
       "        <script type=\"text/javascript\">\n",
       "        window.PlotlyConfig = {MathJaxConfig: 'local'};\n",
       "        if (window.MathJax) {MathJax.Hub.Config({SVG: {font: \"STIX-Web\"}});}\n",
       "        if (typeof require !== 'undefined') {\n",
       "        require.undef(\"plotly\");\n",
       "        requirejs.config({\n",
       "            paths: {\n",
       "                'plotly': ['https://cdn.plot.ly/plotly-latest.min']\n",
       "            }\n",
       "        });\n",
       "        require(['plotly'], function(Plotly) {\n",
       "            window._Plotly = Plotly;\n",
       "        });\n",
       "        }\n",
       "        </script>\n",
       "        "
      ]
     },
     "metadata": {},
     "output_type": "display_data"
    },
    {
     "name": "stdout",
     "output_type": "stream",
     "text": [
      "[i] Pandas .iplot() method activated.\n"
     ]
    }
   ],
   "source": [
    "!pip install -U fsds\n",
    "from fsds.imports import *"
   ]
  },
  {
   "cell_type": "code",
   "execution_count": 2,
   "metadata": {
    "ExecuteTime": {
     "end_time": "2020-10-17T22:51:58.357769Z",
     "start_time": "2020-10-17T22:51:58.298835Z"
    }
   },
   "outputs": [
    {
     "data": {
      "text/html": [
       "<div>\n",
       "<style scoped>\n",
       "    .dataframe tbody tr th:only-of-type {\n",
       "        vertical-align: middle;\n",
       "    }\n",
       "\n",
       "    .dataframe tbody tr th {\n",
       "        vertical-align: top;\n",
       "    }\n",
       "\n",
       "    .dataframe thead th {\n",
       "        text-align: right;\n",
       "    }\n",
       "</style>\n",
       "<table border=\"1\" class=\"dataframe\">\n",
       "  <thead>\n",
       "    <tr style=\"text-align: right;\">\n",
       "      <th></th>\n",
       "      <th>source</th>\n",
       "      <th>text</th>\n",
       "      <th>created_at</th>\n",
       "      <th>retweet_count</th>\n",
       "      <th>favorite_count</th>\n",
       "      <th>is_retweet</th>\n",
       "      <th>id_str</th>\n",
       "    </tr>\n",
       "  </thead>\n",
       "  <tbody>\n",
       "    <tr>\n",
       "      <th>0</th>\n",
       "      <td>Twitter Media Studio</td>\n",
       "      <td>https://t.co/EVAEYD1AgV</td>\n",
       "      <td>01-01-2020 03:12:07</td>\n",
       "      <td>25016</td>\n",
       "      <td>108830</td>\n",
       "      <td>False</td>\n",
       "      <td>1212209862094012416</td>\n",
       "    </tr>\n",
       "    <tr>\n",
       "      <th>1</th>\n",
       "      <td>Twitter for iPhone</td>\n",
       "      <td>HAPPY NEW YEAR!</td>\n",
       "      <td>01-01-2020 01:30:35</td>\n",
       "      <td>85409</td>\n",
       "      <td>576045</td>\n",
       "      <td>False</td>\n",
       "      <td>1212184310389850119</td>\n",
       "    </tr>\n",
       "    <tr>\n",
       "      <th>2</th>\n",
       "      <td>Twitter for iPhone</td>\n",
       "      <td>Our fantastic First Lady! https://t.co/6iswto4WDI</td>\n",
       "      <td>01-01-2020 01:22:28</td>\n",
       "      <td>27567</td>\n",
       "      <td>132633</td>\n",
       "      <td>False</td>\n",
       "      <td>1212182267113680896</td>\n",
       "    </tr>\n",
       "    <tr>\n",
       "      <th>3</th>\n",
       "      <td>Twitter for iPhone</td>\n",
       "      <td>RT @DanScavino: https://t.co/CJRPySkF1Z</td>\n",
       "      <td>01-01-2020 01:18:47</td>\n",
       "      <td>10796</td>\n",
       "      <td>0</td>\n",
       "      <td>True</td>\n",
       "      <td>1212181341078458369</td>\n",
       "    </tr>\n",
       "    <tr>\n",
       "      <th>4</th>\n",
       "      <td>Twitter for iPhone</td>\n",
       "      <td>RT @SenJohnKennedy: I think Speaker Pelosi is ...</td>\n",
       "      <td>01-01-2020 01:17:43</td>\n",
       "      <td>8893</td>\n",
       "      <td>0</td>\n",
       "      <td>True</td>\n",
       "      <td>1212181071988703232</td>\n",
       "    </tr>\n",
       "  </tbody>\n",
       "</table>\n",
       "</div>"
      ],
      "text/plain": [
       "                 source                                               text  \\\n",
       "0  Twitter Media Studio                            https://t.co/EVAEYD1AgV   \n",
       "1    Twitter for iPhone                                    HAPPY NEW YEAR!   \n",
       "2    Twitter for iPhone  Our fantastic First Lady! https://t.co/6iswto4WDI   \n",
       "3    Twitter for iPhone            RT @DanScavino: https://t.co/CJRPySkF1Z   \n",
       "4    Twitter for iPhone  RT @SenJohnKennedy: I think Speaker Pelosi is ...   \n",
       "\n",
       "            created_at  retweet_count  favorite_count is_retweet  \\\n",
       "0  01-01-2020 03:12:07          25016          108830      False   \n",
       "1  01-01-2020 01:30:35          85409          576045      False   \n",
       "2  01-01-2020 01:22:28          27567          132633      False   \n",
       "3  01-01-2020 01:18:47          10796               0       True   \n",
       "4  01-01-2020 01:17:43           8893               0       True   \n",
       "\n",
       "                id_str  \n",
       "0  1212209862094012416  \n",
       "1  1212184310389850119  \n",
       "2  1212182267113680896  \n",
       "3  1212181341078458369  \n",
       "4  1212181071988703232  "
      ]
     },
     "execution_count": 2,
     "metadata": {},
     "output_type": "execute_result"
    }
   ],
   "source": [
    "import pandas as pd\n",
    "finding_trump = '../finding-trump.csv'\n",
    "# finding_trump = 'https://raw.githubusercontent.com/jirvingphd/online-ds-pt-1007109-text-classification-finding-trump/master/finding-trump.csv'\n",
    "df = pd.read_csv(finding_trump)#'https://raw.githubusercontent.com/jirvingphd/capstone-project-using-trumps-tweets-to-predict-stock-market/master/data/trump_tweets_12012016_to_01012020.csv')\n",
    "df.head()"
   ]
  },
  {
   "cell_type": "code",
   "execution_count": 3,
   "metadata": {
    "ExecuteTime": {
     "end_time": "2020-10-17T22:51:58.364726Z",
     "start_time": "2020-10-17T22:51:58.360348Z"
    }
   },
   "outputs": [
    {
     "data": {
      "text/plain": [
       "['https://t.co/EVAEYD1AgV',\n",
       " 'HAPPY NEW YEAR!',\n",
       " 'Our fantastic First Lady! https://t.co/6iswto4WDI',\n",
       " 'RT @DanScavino: https://t.co/CJRPySkF1Z',\n",
       " 'RT @SenJohnKennedy: I think Speaker Pelosi is having 2nd thoughts about impeaching the President. The Senate should get back to work on USM…',\n",
       " 'Thank you Steve. The greatest Witch Hunt in U.S. history! https://t.co/I3bSNVp6gC',\n",
       " 'RT @ThisWeekABC: Sen. Ron Johnson says charges against Pres. Trump are \"pretty thin gruel\" and Speaker Nancy Pelosi\\'s decision to withhold…',\n",
       " \"RT @SenJohnKennedy: The Senate needs to reauthorize the Violence Against Women Act and I am proud to cosponsor @SenJoniErnst's bill that g…\",\n",
       " 'RT @LindseyGrahamSC: To our Iraqi allies:This is your moment to convince the American people the US-Iraq relationship is meaningful to yo…',\n",
       " 'RT @LindseyGrahamSC: President Trump unlike President Obama will hold you accountable for threats against Americans and hit you where it…']"
      ]
     },
     "execution_count": 3,
     "metadata": {},
     "output_type": "execute_result"
    }
   ],
   "source": [
    "## Create a variable \"corpus\" containing all text\n",
    "corpus = df['text'].to_list()\n",
    "corpus[:10]"
   ]
  },
  {
   "cell_type": "markdown",
   "metadata": {},
   "source": [
    "### Make a Bag-of-Words Frequency Distribution "
   ]
  },
  {
   "cell_type": "markdown",
   "metadata": {},
   "source": [
    "- \"bag-of-words\": collection of all words from a corpus and their frequencies\n"
   ]
  },
  {
   "cell_type": "code",
   "execution_count": 4,
   "metadata": {
    "ExecuteTime": {
     "end_time": "2020-10-17T22:51:58.758315Z",
     "start_time": "2020-10-17T22:51:58.367059Z"
    }
   },
   "outputs": [
    {
     "data": {
      "text/plain": [
       "'https://t.co/EVAEYD1AgV'"
      ]
     },
     "execution_count": 4,
     "metadata": {},
     "output_type": "execute_result"
    }
   ],
   "source": [
    "from nltk import FreqDist\n",
    "corpus[0]"
   ]
  },
  {
   "cell_type": "code",
   "execution_count": 5,
   "metadata": {
    "ExecuteTime": {
     "end_time": "2020-10-17T22:52:00.069379Z",
     "start_time": "2020-10-17T22:51:58.760200Z"
    }
   },
   "outputs": [
    {
     "data": {
      "text/plain": [
       "[(' ', 355279),\n",
       " ('e', 193636),\n",
       " ('t', 151004),\n",
       " ('a', 133814),\n",
       " ('o', 132306),\n",
       " ('n', 115782),\n",
       " ('i', 111789),\n",
       " ('r', 107277),\n",
       " ('s', 97228),\n",
       " ('h', 76548),\n",
       " ('l', 67415),\n",
       " ('d', 57543),\n",
       " ('u', 46550),\n",
       " ('c', 45746),\n",
       " ('m', 43554),\n",
       " ('p', 37247),\n",
       " ('g', 35477),\n",
       " ('y', 33375),\n",
       " ('.', 32244),\n",
       " ('w', 30005),\n",
       " ('f', 29211),\n",
       " ('b', 22246),\n",
       " ('T', 19911),\n",
       " ('v', 17186),\n",
       " (',', 14545),\n",
       " ('k', 13783),\n",
       " ('/', 13588),\n",
       " ('S', 12999),\n",
       " ('A', 12922),\n",
       " ('R', 12294),\n",
       " ('C', 10866),\n",
       " ('I', 10743),\n",
       " (':', 9821),\n",
       " ('N', 9009),\n",
       " ('!', 8861),\n",
       " ('D', 8787),\n",
       " ('@', 8646),\n",
       " ('M', 8063),\n",
       " ('E', 8008),\n",
       " ('P', 7726),\n",
       " ('W', 7249),\n",
       " ('O', 6828),\n",
       " ('H', 6614),\n",
       " ('B', 6115),\n",
       " ('G', 5937),\n",
       " ('F', 5701),\n",
       " ('L', 4774),\n",
       " ('U', 4765),\n",
       " ('0', 4659),\n",
       " ('x', 4068),\n",
       " ('J', 4060),\n",
       " ('’', 3445),\n",
       " ('1', 3191),\n",
       " ('j', 3084),\n",
       " ('…', 2956),\n",
       " ('2', 2812),\n",
       " ('-', 2672),\n",
       " ('K', 2622),\n",
       " ('V', 2460),\n",
       " ('Y', 2194),\n",
       " (';', 2105),\n",
       " ('z', 2082),\n",
       " ('&', 2079),\n",
       " ('“', 1993),\n",
       " ('”', 1890),\n",
       " ('5', 1848),\n",
       " ('#', 1785),\n",
       " ('3', 1730),\n",
       " ('4', 1620),\n",
       " ('7', 1534),\n",
       " ('6', 1491),\n",
       " ('8', 1468),\n",
       " ('9', 1437),\n",
       " ('q', 1346),\n",
       " ('(', 1181),\n",
       " (')', 1174),\n",
       " (\"'\", 1145),\n",
       " ('?', 1007),\n",
       " ('Z', 922),\n",
       " ('X', 862),\n",
       " ('Q', 828),\n",
       " ('\"', 797),\n",
       " ('%', 487),\n",
       " ('_', 469),\n",
       " ('🇺', 308),\n",
       " ('🇸', 305),\n",
       " ('$', 257),\n",
       " ('–', 166),\n",
       " ('—', 148),\n",
       " ('️', 131),\n",
       " ('\\n', 80),\n",
       " ('‘', 60),\n",
       " ('➡', 59),\n",
       " ('\\u2066', 52),\n",
       " ('\\u2069', 47),\n",
       " ('🚨', 45),\n",
       " ('*', 43),\n",
       " ('✅', 36),\n",
       " ('+', 33),\n",
       " ('、', 30)]"
      ]
     },
     "execution_count": 5,
     "metadata": {},
     "output_type": "execute_result"
    }
   ],
   "source": [
    "## Make a FreqDist from the corpus\n",
    "freq= FreqDist(','.join(corpus))\n",
    "\n",
    "## Display 100 most common words\n",
    "freq.most_common(100)"
   ]
  },
  {
   "cell_type": "markdown",
   "metadata": {},
   "source": [
    "> That's not quite right..."
   ]
  },
  {
   "cell_type": "code",
   "execution_count": 6,
   "metadata": {
    "ExecuteTime": {
     "end_time": "2020-10-17T22:52:03.435723Z",
     "start_time": "2020-10-17T22:52:00.071026Z"
    }
   },
   "outputs": [
    {
     "data": {
      "text/plain": [
       "[('the', 15560),\n",
       " (',', 14160),\n",
       " ('.', 13708),\n",
       " (':', 9462),\n",
       " ('to', 9308),\n",
       " ('!', 8861),\n",
       " ('@', 8646),\n",
       " ('and', 8497),\n",
       " ('of', 7176),\n",
       " ('a', 5658),\n",
       " ('is', 5096),\n",
       " ('in', 4996),\n",
       " ('https', 4265),\n",
       " ('for', 4081),\n",
       " ('RT', 3819),\n",
       " ('’', 3445),\n",
       " ('on', 3150),\n",
       " ('I', 3132),\n",
       " ('that', 3031),\n",
       " ('are', 2825),\n",
       " ('with', 2650),\n",
       " ('...', 2620),\n",
       " ('be', 2501),\n",
       " ('will', 2486),\n",
       " ('our', 2418),\n",
       " ('The', 2367),\n",
       " ('have', 2116),\n",
       " (';', 2105),\n",
       " ('&', 2079),\n",
       " ('amp', 2070),\n",
       " ('“', 1993),\n",
       " ('it', 1932),\n",
       " ('”', 1890),\n",
       " ('you', 1834),\n",
       " ('was', 1789),\n",
       " ('#', 1785),\n",
       " ('at', 1621),\n",
       " ('has', 1600),\n",
       " ('they', 1553),\n",
       " ('s', 1517),\n",
       " ('great', 1501),\n",
       " ('President', 1492),\n",
       " ('not', 1415),\n",
       " ('we', 1389),\n",
       " ('by', 1375),\n",
       " ('this', 1336),\n",
       " ('all', 1304),\n",
       " ('t', 1289),\n",
       " ('(', 1181),\n",
       " (')', 1174),\n",
       " ('Trump', 1154),\n",
       " ('Democrats', 1145),\n",
       " ('people', 1124),\n",
       " ('very', 1084),\n",
       " ('-', 1079),\n",
       " ('We', 1072),\n",
       " ('who', 1040),\n",
       " ('?', 1007),\n",
       " ('realDonaldTrump', 996),\n",
       " ('from', 979),\n",
       " ('my', 966),\n",
       " ('as', 956),\n",
       " ('he', 943),\n",
       " ('their', 918),\n",
       " ('been', 838),\n",
       " ('so', 833),\n",
       " ('more', 824),\n",
       " ('about', 801),\n",
       " ('his', 796),\n",
       " ('but', 787),\n",
       " ('now', 784),\n",
       " ('do', 784),\n",
       " ('or', 776),\n",
       " ('out', 769),\n",
       " ('just', 762),\n",
       " ('It', 737),\n",
       " ('an', 736),\n",
       " ('no', 733),\n",
       " ('Thank', 715),\n",
       " ('They', 692),\n",
       " ('up', 686),\n",
       " ('than', 681),\n",
       " ('me', 680),\n",
       " ('would', 678),\n",
       " ('Fake', 653),\n",
       " ('many', 645),\n",
       " ('get', 637),\n",
       " ('Great', 636),\n",
       " ('News', 628),\n",
       " ('U.S.', 625),\n",
       " ('can', 619),\n",
       " ('He', 613),\n",
       " ('time', 612),\n",
       " ('This', 603),\n",
       " ('should', 589),\n",
       " ('what', 583),\n",
       " ('Border', 578),\n",
       " ('there', 576),\n",
       " ('American', 571),\n",
       " ('want', 570)]"
      ]
     },
     "execution_count": 6,
     "metadata": {},
     "output_type": "execute_result"
    }
   ],
   "source": [
    "## Tokenize corpus then generate FreqDist\n",
    "from nltk import word_tokenize\n",
    "tokens = word_tokenize(','.join(corpus))\n",
    "freq=FreqDist(tokens)\n",
    "freq.most_common(100)"
   ]
  },
  {
   "cell_type": "markdown",
   "metadata": {},
   "source": [
    "> Better...but what's our next issue?"
   ]
  },
  {
   "cell_type": "code",
   "execution_count": 7,
   "metadata": {
    "ExecuteTime": {
     "end_time": "2020-10-17T22:52:03.439733Z",
     "start_time": "2020-10-17T22:52:03.437330Z"
    }
   },
   "outputs": [],
   "source": [
    "## Make a list of stopwords to remove\n",
    "from nltk.corpus import stopwords\n",
    "import string"
   ]
  },
  {
   "cell_type": "code",
   "execution_count": 8,
   "metadata": {
    "ExecuteTime": {
     "end_time": "2020-10-17T22:52:03.445255Z",
     "start_time": "2020-10-17T22:52:03.442896Z"
    }
   },
   "outputs": [],
   "source": [
    "additional_punc = ['“','”','...']"
   ]
  },
  {
   "cell_type": "code",
   "execution_count": 9,
   "metadata": {
    "ExecuteTime": {
     "end_time": "2020-10-17T22:52:03.453194Z",
     "start_time": "2020-10-17T22:52:03.447718Z"
    }
   },
   "outputs": [
    {
     "name": "stdout",
     "output_type": "stream",
     "text": [
      "['i', 'me', 'my', 'myself', 'we', 'our', 'ours', 'ourselves', 'you', \"you're\", \"you've\", \"you'll\", \"you'd\", 'your', 'yours', 'yourself', 'yourselves', 'he', 'him', 'his', 'himself', 'she', \"she's\", 'her', 'hers', 'herself', 'it', \"it's\", 'its', 'itself', 'they', 'them', 'their', 'theirs', 'themselves', 'what', 'which', 'who', 'whom', 'this', 'that', \"that'll\", 'these', 'those', 'am', 'is', 'are', 'was', 'were', 'be', 'been', 'being', 'have', 'has', 'had', 'having', 'do', 'does', 'did', 'doing', 'a', 'an', 'the', 'and', 'but', 'if', 'or', 'because', 'as', 'until', 'while', 'of', 'at', 'by', 'for', 'with', 'about', 'against', 'between', 'into', 'through', 'during', 'before', 'after', 'above', 'below', 'to', 'from', 'up', 'down', 'in', 'out', 'on', 'off', 'over', 'under', 'again', 'further', 'then', 'once', 'here', 'there', 'when', 'where', 'why', 'how', 'all', 'any', 'both', 'each', 'few', 'more', 'most', 'other', 'some', 'such', 'no', 'nor', 'not', 'only', 'own', 'same', 'so', 'than', 'too', 'very', 's', 't', 'can', 'will', 'just', 'don', \"don't\", 'should', \"should've\", 'now', 'd', 'll', 'm', 'o', 're', 've', 'y', 'ain', 'aren', \"aren't\", 'couldn', \"couldn't\", 'didn', \"didn't\", 'doesn', \"doesn't\", 'hadn', \"hadn't\", 'hasn', \"hasn't\", 'haven', \"haven't\", 'isn', \"isn't\", 'ma', 'mightn', \"mightn't\", 'mustn', \"mustn't\", 'needn', \"needn't\", 'shan', \"shan't\", 'shouldn', \"shouldn't\", 'wasn', \"wasn't\", 'weren', \"weren't\", 'won', \"won't\", 'wouldn', \"wouldn't\", '!', '\"', '#', '$', '%', '&', \"'\", '(', ')', '*', '+', ',', '-', '.', '/', ':', ';', '<', '=', '>', '?', '@', '[', '\\\\', ']', '^', '_', '`', '{', '|', '}', '~']\n"
     ]
    }
   ],
   "source": [
    "# Get all the stop words in the English language\n",
    "stopwords_list = stopwords.words('english')\n",
    "\n",
    "## Add punctuation to stopwords_list\n",
    "stopwords_list+=string.punctuation\n",
    "print(stopwords_list)\n",
    "\n",
    "stopwords_list.extend(additional_punc)#['“','”'])#'...'"
   ]
  },
  {
   "cell_type": "code",
   "execution_count": 10,
   "metadata": {
    "ExecuteTime": {
     "end_time": "2020-10-17T22:52:03.457354Z",
     "start_time": "2020-10-17T22:52:03.454777Z"
    }
   },
   "outputs": [
    {
     "name": "stdout",
     "output_type": "stream",
     "text": [
      "True\n",
      "False\n"
     ]
    }
   ],
   "source": [
    "## Commentary on not always accepting what is or isn't in stopwords\n",
    "print('until' in stopwords_list)\n",
    "\n",
    "stopwords_list.remove('until')\n",
    "print('until' in stopwords_list)"
   ]
  },
  {
   "cell_type": "code",
   "execution_count": 11,
   "metadata": {
    "ExecuteTime": {
     "end_time": "2020-10-17T22:52:04.658863Z",
     "start_time": "2020-10-17T22:52:03.458940Z"
    }
   },
   "outputs": [
    {
     "data": {
      "text/plain": [
       "[('https', 4265),\n",
       " ('rt', 3819),\n",
       " ('’', 3445),\n",
       " ('great', 2552),\n",
       " ('amp', 2070),\n",
       " ('president', 1605),\n",
       " ('people', 1309),\n",
       " ('trump', 1193),\n",
       " ('democrats', 1166),\n",
       " ('realdonaldtrump', 1045),\n",
       " ('country', 947),\n",
       " ('news', 931),\n",
       " ('thank', 929),\n",
       " ('big', 832),\n",
       " ('fake', 802),\n",
       " ('new', 791),\n",
       " ('many', 749),\n",
       " ('today', 747),\n",
       " ('get', 741),\n",
       " ('would', 714),\n",
       " ('border', 711),\n",
       " ('america', 699),\n",
       " ('never', 676),\n",
       " ('time', 666),\n",
       " ('u.s.', 625),\n",
       " ('american', 611),\n",
       " ('much', 594),\n",
       " ('want', 591),\n",
       " ('one', 588),\n",
       " ('years', 587),\n",
       " ('media', 582),\n",
       " ('good', 567),\n",
       " ('united', 543),\n",
       " ('even', 525),\n",
       " ('house', 523),\n",
       " ('states', 509),\n",
       " ('back', 492),\n",
       " ('``', 491),\n",
       " ('done', 485),\n",
       " (\"'s\", 479),\n",
       " ('must', 478),\n",
       " ('make', 478),\n",
       " ('china', 474),\n",
       " ('like', 465),\n",
       " ('going', 460),\n",
       " ('vote', 458),\n",
       " ('nothing', 455),\n",
       " ('dems', 452),\n",
       " ('job', 440),\n",
       " ('impeachment', 435),\n",
       " ('jobs', 431),\n",
       " ('state', 413),\n",
       " ('day', 407),\n",
       " ('first', 406),\n",
       " ('us', 404),\n",
       " ('bad', 402),\n",
       " ('whitehouse', 398),\n",
       " ('made', 391),\n",
       " ('military', 386),\n",
       " ('deal', 386),\n",
       " ('election', 382),\n",
       " ('ever', 377),\n",
       " ('trade', 375),\n",
       " ('said', 373),\n",
       " ('way', 366),\n",
       " ('see', 365),\n",
       " ('republican', 362),\n",
       " ('crime', 359),\n",
       " ('fbi', 352),\n",
       " ('win', 351),\n",
       " ('wall', 348),\n",
       " ('working', 344),\n",
       " ('republicans', 342),\n",
       " ('world', 337),\n",
       " ('witch', 336),\n",
       " ('history', 333),\n",
       " ('hunt', 332),\n",
       " ('collusion', 331),\n",
       " ('know', 330),\n",
       " ('russia', 329),\n",
       " ('security', 327),\n",
       " ('also', 323),\n",
       " ('strong', 322),\n",
       " ('work', 320),\n",
       " ('last', 320),\n",
       " ('congress', 319),\n",
       " ('go', 318),\n",
       " ('obama', 314),\n",
       " ('hard', 312),\n",
       " ('year', 311),\n",
       " ('economy', 311),\n",
       " ('north', 310),\n",
       " (\"''\", 307),\n",
       " ('foxnews', 304),\n",
       " ('really', 301),\n",
       " ('two', 300),\n",
       " ('tax', 299),\n",
       " ('look', 295),\n",
       " ('democrat', 291),\n",
       " ('far', 289)]"
      ]
     },
     "execution_count": 11,
     "metadata": {},
     "output_type": "execute_result"
    }
   ],
   "source": [
    "## Remove stopwords and then re-product the FreqDist\n",
    "stopped_tokens = [w.lower() for w in tokens if w.lower() not in stopwords_list]\n",
    "freq = FreqDist(stopped_tokens)\n",
    "freq.most_common(100)"
   ]
  },
  {
   "cell_type": "code",
   "execution_count": 12,
   "metadata": {
    "ExecuteTime": {
     "end_time": "2020-10-17T22:52:04.663068Z",
     "start_time": "2020-10-17T22:52:04.660619Z"
    }
   },
   "outputs": [],
   "source": [
    "## Sometimes we need to add more punctuation ourselves\n",
    "add_punc= [\"''\",'’','``']\n",
    "stopwords_list.extend(add_punc)"
   ]
  },
  {
   "cell_type": "code",
   "execution_count": 13,
   "metadata": {
    "ExecuteTime": {
     "end_time": "2020-10-17T22:52:05.906646Z",
     "start_time": "2020-10-17T22:52:04.664888Z"
    }
   },
   "outputs": [
    {
     "data": {
      "text/plain": [
       "[('https', 4265),\n",
       " ('rt', 3819),\n",
       " ('great', 2552),\n",
       " ('amp', 2070),\n",
       " ('president', 1605),\n",
       " ('people', 1309),\n",
       " ('trump', 1193),\n",
       " ('democrats', 1166),\n",
       " ('realdonaldtrump', 1045),\n",
       " ('country', 947),\n",
       " ('news', 931),\n",
       " ('thank', 929),\n",
       " ('big', 832),\n",
       " ('fake', 802),\n",
       " ('new', 791),\n",
       " ('many', 749),\n",
       " ('today', 747),\n",
       " ('get', 741),\n",
       " ('would', 714),\n",
       " ('border', 711),\n",
       " ('america', 699),\n",
       " ('never', 676),\n",
       " ('time', 666),\n",
       " ('u.s.', 625),\n",
       " ('american', 611),\n",
       " ('much', 594),\n",
       " ('want', 591),\n",
       " ('one', 588),\n",
       " ('years', 587),\n",
       " ('media', 582),\n",
       " ('good', 567),\n",
       " ('united', 543),\n",
       " ('even', 525),\n",
       " ('house', 523),\n",
       " ('states', 509),\n",
       " ('back', 492),\n",
       " ('done', 485),\n",
       " (\"'s\", 479),\n",
       " ('must', 478),\n",
       " ('make', 478),\n",
       " ('china', 474),\n",
       " ('like', 465),\n",
       " ('going', 460),\n",
       " ('vote', 458),\n",
       " ('nothing', 455),\n",
       " ('dems', 452),\n",
       " ('job', 440),\n",
       " ('impeachment', 435),\n",
       " ('jobs', 431),\n",
       " ('state', 413),\n",
       " ('day', 407),\n",
       " ('first', 406),\n",
       " ('us', 404),\n",
       " ('bad', 402),\n",
       " ('whitehouse', 398),\n",
       " ('made', 391),\n",
       " ('military', 386),\n",
       " ('deal', 386),\n",
       " ('election', 382),\n",
       " ('ever', 377),\n",
       " ('trade', 375),\n",
       " ('said', 373),\n",
       " ('way', 366),\n",
       " ('see', 365),\n",
       " ('republican', 362),\n",
       " ('crime', 359),\n",
       " ('fbi', 352),\n",
       " ('win', 351),\n",
       " ('wall', 348),\n",
       " ('working', 344),\n",
       " ('republicans', 342),\n",
       " ('world', 337),\n",
       " ('witch', 336),\n",
       " ('history', 333),\n",
       " ('hunt', 332),\n",
       " ('collusion', 331),\n",
       " ('know', 330),\n",
       " ('russia', 329),\n",
       " ('security', 327),\n",
       " ('also', 323),\n",
       " ('strong', 322),\n",
       " ('work', 320),\n",
       " ('last', 320),\n",
       " ('congress', 319),\n",
       " ('go', 318),\n",
       " ('obama', 314),\n",
       " ('hard', 312),\n",
       " ('year', 311),\n",
       " ('economy', 311),\n",
       " ('north', 310),\n",
       " ('foxnews', 304),\n",
       " ('really', 301),\n",
       " ('two', 300),\n",
       " ('tax', 299),\n",
       " ('look', 295),\n",
       " ('democrat', 291),\n",
       " ('far', 289),\n",
       " ('mueller', 286),\n",
       " ('report', 281),\n",
       " ('senate', 279)]"
      ]
     },
     "execution_count": 13,
     "metadata": {},
     "output_type": "execute_result"
    }
   ],
   "source": [
    "## Let's try that one last time\n",
    "stopped_tokens = [w.lower() for w in tokens if w.lower() not in stopwords_list]\n",
    "freq = FreqDist(stopped_tokens)\n",
    "freq.most_common(100)"
   ]
  },
  {
   "cell_type": "markdown",
   "metadata": {},
   "source": [
    "### Additional Ways to Show Frequency"
   ]
  },
  {
   "cell_type": "markdown",
   "metadata": {},
   "source": [
    "- [Word Clouds](https://www.geeksforgeeks.org/generating-word-cloud-python/)"
   ]
  },
  {
   "cell_type": "code",
   "execution_count": 14,
   "metadata": {
    "ExecuteTime": {
     "end_time": "2020-10-17T22:52:06.769813Z",
     "start_time": "2020-10-17T22:52:05.908799Z"
    }
   },
   "outputs": [
    {
     "data": {
      "text/plain": [
       "(-0.5, 399.5, 199.5, -0.5)"
      ]
     },
     "execution_count": 14,
     "metadata": {},
     "output_type": "execute_result"
    },
    {
     "data": {
      "image/png": "[encoded data removed]",
      "text/plain": [
       "<Figure size 864x864 with 1 Axes>"
      ]
     },
     "metadata": {
      "needs_background": "light"
     },
     "output_type": "display_data"
    }
   ],
   "source": [
    "from wordcloud import WordCloud\n",
    "wordcloud = WordCloud(stopwords=stopwords_list,collocations=False)\n",
    "wordcloud.generate(','.join(stopped_tokens))\n",
    "plt.figure(figsize = (12, 12), facecolor = None) \n",
    "plt.imshow(wordcloud) \n",
    "plt.axis('off')"
   ]
  },
  {
   "cell_type": "markdown",
   "metadata": {},
   "source": [
    "### Comparing Phases of Proprocessing/Tokenization"
   ]
  },
  {
   "cell_type": "code",
   "execution_count": 15,
   "metadata": {
    "ExecuteTime": {
     "end_time": "2020-10-17T22:52:06.800285Z",
     "start_time": "2020-10-17T22:52:06.771804Z"
    }
   },
   "outputs": [
    {
     "data": {
      "application/vnd.jupyter.widget-view+json": {
       "model_id": "3212c4b3cbd5415bb3cb189fc6c7168c",
       "version_major": 2,
       "version_minor": 0
      },
      "text/plain": [
       "interactive(children=(IntSlider(value=7032, description='i', max=14065), Output()), _dom_classes=('widget-inte…"
      ]
     },
     "metadata": {},
     "output_type": "display_data"
    }
   ],
   "source": [
    "from nltk import word_tokenize\n",
    "from ipywidgets import interact\n",
    "\n",
    "@interact\n",
    "def tokenize_tweet(i=(0,len(corpus)-1)):\n",
    "    from nltk.corpus import stopwords\n",
    "    import string\n",
    "    from nltk import word_tokenize,regexp_tokenize\n",
    "    \n",
    "    print(f\"- Tweet #{i}:\\n\")\n",
    "    print(corpus[i],'\\n')\n",
    "    tokens = word_tokenize(corpus[i])\n",
    "\n",
    "    # Get all the stop words in the English language\n",
    "    stopwords_list = stopwords.words('english')\n",
    "    stopwords_list += string.punctuation\n",
    "    stopped_tokens = [w.lower() for w in tokens if w not in stopwords_list]\n",
    "    \n",
    "    print(tokens,end='\\n\\n')\n",
    "    print(stopped_tokens)"
   ]
  },
  {
   "cell_type": "markdown",
   "metadata": {},
   "source": [
    "> What recognizable pattern of characters is high on the frequency list?"
   ]
  },
  {
   "cell_type": "markdown",
   "metadata": {},
   "source": [
    "## Other Bag of Words Statistics"
   ]
  },
  {
   "cell_type": "markdown",
   "metadata": {},
   "source": [
    "### Bigrams"
   ]
  },
  {
   "cell_type": "code",
   "execution_count": 16,
   "metadata": {
    "ExecuteTime": {
     "end_time": "2020-10-17T22:52:08.299729Z",
     "start_time": "2020-10-17T22:52:06.802065Z"
    }
   },
   "outputs": [
    {
     "data": {
      "text/html": [
       "<div>\n",
       "<style scoped>\n",
       "    .dataframe tbody tr th:only-of-type {\n",
       "        vertical-align: middle;\n",
       "    }\n",
       "\n",
       "    .dataframe tbody tr th {\n",
       "        vertical-align: top;\n",
       "    }\n",
       "\n",
       "    .dataframe thead th {\n",
       "        text-align: right;\n",
       "    }\n",
       "</style>\n",
       "<table border=\"1\" class=\"dataframe\">\n",
       "  <thead>\n",
       "    <tr style=\"text-align: right;\">\n",
       "      <th></th>\n",
       "      <th>Words</th>\n",
       "      <th>Frequency</th>\n",
       "    </tr>\n",
       "  </thead>\n",
       "  <tbody>\n",
       "    <tr>\n",
       "      <th>0</th>\n",
       "      <td>(fake, news)</td>\n",
       "      <td>0.002831</td>\n",
       "    </tr>\n",
       "    <tr>\n",
       "      <th>1</th>\n",
       "      <td>(united, states)</td>\n",
       "      <td>0.001992</td>\n",
       "    </tr>\n",
       "    <tr>\n",
       "      <th>2</th>\n",
       "      <td>(rt, realdonaldtrump)</td>\n",
       "      <td>0.001878</td>\n",
       "    </tr>\n",
       "    <tr>\n",
       "      <th>3</th>\n",
       "      <td>(witch, hunt)</td>\n",
       "      <td>0.001488</td>\n",
       "    </tr>\n",
       "    <tr>\n",
       "      <th>4</th>\n",
       "      <td>(president, trump)</td>\n",
       "      <td>0.001397</td>\n",
       "    </tr>\n",
       "    <tr>\n",
       "      <th>5</th>\n",
       "      <td>(rt, whitehouse)</td>\n",
       "      <td>0.001143</td>\n",
       "    </tr>\n",
       "    <tr>\n",
       "      <th>6</th>\n",
       "      <td>(america, great)</td>\n",
       "      <td>0.001021</td>\n",
       "    </tr>\n",
       "    <tr>\n",
       "      <th>7</th>\n",
       "      <td>(white, house)</td>\n",
       "      <td>0.000998</td>\n",
       "    </tr>\n",
       "    <tr>\n",
       "      <th>8</th>\n",
       "      <td>(news, media)</td>\n",
       "      <td>0.000930</td>\n",
       "    </tr>\n",
       "    <tr>\n",
       "      <th>9</th>\n",
       "      <td>(president, realdonaldtrump)</td>\n",
       "      <td>0.000894</td>\n",
       "    </tr>\n",
       "    <tr>\n",
       "      <th>10</th>\n",
       "      <td>(north, korea)</td>\n",
       "      <td>0.000835</td>\n",
       "    </tr>\n",
       "    <tr>\n",
       "      <th>11</th>\n",
       "      <td>(new, york)</td>\n",
       "      <td>0.000789</td>\n",
       "    </tr>\n",
       "    <tr>\n",
       "      <th>12</th>\n",
       "      <td>(make, america)</td>\n",
       "      <td>0.000730</td>\n",
       "    </tr>\n",
       "    <tr>\n",
       "      <th>13</th>\n",
       "      <td>(great, job)</td>\n",
       "      <td>0.000708</td>\n",
       "    </tr>\n",
       "    <tr>\n",
       "      <th>14</th>\n",
       "      <td>(border, security)</td>\n",
       "      <td>0.000662</td>\n",
       "    </tr>\n",
       "    <tr>\n",
       "      <th>15</th>\n",
       "      <td>(great, state)</td>\n",
       "      <td>0.000653</td>\n",
       "    </tr>\n",
       "    <tr>\n",
       "      <th>16</th>\n",
       "      <td>(nancy, pelosi)</td>\n",
       "      <td>0.000649</td>\n",
       "    </tr>\n",
       "    <tr>\n",
       "      <th>17</th>\n",
       "      <td>(crooked, hillary)</td>\n",
       "      <td>0.000640</td>\n",
       "    </tr>\n",
       "    <tr>\n",
       "      <th>18</th>\n",
       "      <td>(southern, border)</td>\n",
       "      <td>0.000631</td>\n",
       "    </tr>\n",
       "    <tr>\n",
       "      <th>19</th>\n",
       "      <td>(american, people)</td>\n",
       "      <td>0.000617</td>\n",
       "    </tr>\n",
       "  </tbody>\n",
       "</table>\n",
       "</div>"
      ],
      "text/plain": [
       "                           Words  Frequency\n",
       "0                   (fake, news)   0.002831\n",
       "1               (united, states)   0.001992\n",
       "2          (rt, realdonaldtrump)   0.001878\n",
       "3                  (witch, hunt)   0.001488\n",
       "4             (president, trump)   0.001397\n",
       "5               (rt, whitehouse)   0.001143\n",
       "6               (america, great)   0.001021\n",
       "7                 (white, house)   0.000998\n",
       "8                  (news, media)   0.000930\n",
       "9   (president, realdonaldtrump)   0.000894\n",
       "10                (north, korea)   0.000835\n",
       "11                   (new, york)   0.000789\n",
       "12               (make, america)   0.000730\n",
       "13                  (great, job)   0.000708\n",
       "14            (border, security)   0.000662\n",
       "15                (great, state)   0.000653\n",
       "16               (nancy, pelosi)   0.000649\n",
       "17            (crooked, hillary)   0.000640\n",
       "18            (southern, border)   0.000631\n",
       "19            (american, people)   0.000617"
      ]
     },
     "execution_count": 16,
     "metadata": {},
     "output_type": "execute_result"
    }
   ],
   "source": [
    "import nltk\n",
    "bigram_measures = nltk.collocations.BigramAssocMeasures()\n",
    "tweet_finder = nltk.BigramCollocationFinder.from_words(stopped_tokens)\n",
    "\n",
    "tweets_scored = tweet_finder.score_ngrams(bigram_measures.raw_freq)\n",
    "pd.DataFrame.from_records(tweets_scored,columns=['Words','Frequency']).head(20)"
   ]
  },
  {
   "cell_type": "markdown",
   "metadata": {},
   "source": [
    "### Mutual Information Scores"
   ]
  },
  {
   "cell_type": "code",
   "execution_count": 17,
   "metadata": {
    "ExecuteTime": {
     "end_time": "2020-10-17T22:52:08.966270Z",
     "start_time": "2020-10-17T22:52:08.301749Z"
    }
   },
   "outputs": [
    {
     "data": {
      "text/html": [
       "<div>\n",
       "<style scoped>\n",
       "    .dataframe tbody tr th:only-of-type {\n",
       "        vertical-align: middle;\n",
       "    }\n",
       "\n",
       "    .dataframe tbody tr th {\n",
       "        vertical-align: top;\n",
       "    }\n",
       "\n",
       "    .dataframe thead th {\n",
       "        text-align: right;\n",
       "    }\n",
       "</style>\n",
       "<table border=\"1\" class=\"dataframe\">\n",
       "  <thead>\n",
       "    <tr style=\"text-align: right;\">\n",
       "      <th></th>\n",
       "      <th>Words</th>\n",
       "      <th>PMI</th>\n",
       "    </tr>\n",
       "  </thead>\n",
       "  <tbody>\n",
       "    <tr>\n",
       "      <th>0</th>\n",
       "      <td>(da, nang)</td>\n",
       "      <td>15.427994</td>\n",
       "    </tr>\n",
       "    <tr>\n",
       "      <th>1</th>\n",
       "      <td>(idlib, province)</td>\n",
       "      <td>15.427994</td>\n",
       "    </tr>\n",
       "    <tr>\n",
       "      <th>2</th>\n",
       "      <td>(madame, peng)</td>\n",
       "      <td>15.427994</td>\n",
       "    </tr>\n",
       "    <tr>\n",
       "      <th>3</th>\n",
       "      <td>(peng, liyuan)</td>\n",
       "      <td>15.427994</td>\n",
       "    </tr>\n",
       "    <tr>\n",
       "      <th>4</th>\n",
       "      <td>(catherine, herridge)</td>\n",
       "      <td>15.164959</td>\n",
       "    </tr>\n",
       "    <tr>\n",
       "      <th>5</th>\n",
       "      <td>(sri, lanka)</td>\n",
       "      <td>15.164959</td>\n",
       "    </tr>\n",
       "    <tr>\n",
       "      <th>6</th>\n",
       "      <td>(fred, keller)</td>\n",
       "      <td>14.942567</td>\n",
       "    </tr>\n",
       "    <tr>\n",
       "      <th>7</th>\n",
       "      <td>(hong, kong)</td>\n",
       "      <td>14.942567</td>\n",
       "    </tr>\n",
       "    <tr>\n",
       "      <th>8</th>\n",
       "      <td>(jonathan, turley)</td>\n",
       "      <td>14.942567</td>\n",
       "    </tr>\n",
       "    <tr>\n",
       "      <th>9</th>\n",
       "      <td>(jimhagedornmn, petestauber)</td>\n",
       "      <td>14.749922</td>\n",
       "    </tr>\n",
       "    <tr>\n",
       "      <th>10</th>\n",
       "      <td>(401, k)</td>\n",
       "      <td>14.749922</td>\n",
       "    </tr>\n",
       "    <tr>\n",
       "      <th>11</th>\n",
       "      <td>(gina, haspel)</td>\n",
       "      <td>14.749922</td>\n",
       "    </tr>\n",
       "    <tr>\n",
       "      <th>12</th>\n",
       "      <td>(kimberley, strassel)</td>\n",
       "      <td>14.679532</td>\n",
       "    </tr>\n",
       "    <tr>\n",
       "      <th>13</th>\n",
       "      <td>(susan, rice)</td>\n",
       "      <td>14.679532</td>\n",
       "    </tr>\n",
       "    <tr>\n",
       "      <th>14</th>\n",
       "      <td>(davis, hanson)</td>\n",
       "      <td>14.579997</td>\n",
       "    </tr>\n",
       "    <tr>\n",
       "      <th>15</th>\n",
       "      <td>(easter, egg)</td>\n",
       "      <td>14.579997</td>\n",
       "    </tr>\n",
       "    <tr>\n",
       "      <th>16</th>\n",
       "      <td>(egg, roll)</td>\n",
       "      <td>14.579997</td>\n",
       "    </tr>\n",
       "    <tr>\n",
       "      <th>17</th>\n",
       "      <td>(jesse, watters)</td>\n",
       "      <td>14.486887</td>\n",
       "    </tr>\n",
       "    <tr>\n",
       "      <th>18</th>\n",
       "      <td>(ballot, box)</td>\n",
       "      <td>14.427994</td>\n",
       "    </tr>\n",
       "    <tr>\n",
       "      <th>19</th>\n",
       "      <td>(derangement, syndrome)</td>\n",
       "      <td>14.427994</td>\n",
       "    </tr>\n",
       "  </tbody>\n",
       "</table>\n",
       "</div>"
      ],
      "text/plain": [
       "                           Words        PMI\n",
       "0                     (da, nang)  15.427994\n",
       "1              (idlib, province)  15.427994\n",
       "2                 (madame, peng)  15.427994\n",
       "3                 (peng, liyuan)  15.427994\n",
       "4          (catherine, herridge)  15.164959\n",
       "5                   (sri, lanka)  15.164959\n",
       "6                 (fred, keller)  14.942567\n",
       "7                   (hong, kong)  14.942567\n",
       "8             (jonathan, turley)  14.942567\n",
       "9   (jimhagedornmn, petestauber)  14.749922\n",
       "10                      (401, k)  14.749922\n",
       "11                (gina, haspel)  14.749922\n",
       "12         (kimberley, strassel)  14.679532\n",
       "13                 (susan, rice)  14.679532\n",
       "14               (davis, hanson)  14.579997\n",
       "15                 (easter, egg)  14.579997\n",
       "16                   (egg, roll)  14.579997\n",
       "17              (jesse, watters)  14.486887\n",
       "18                 (ballot, box)  14.427994\n",
       "19       (derangement, syndrome)  14.427994"
      ]
     },
     "execution_count": 17,
     "metadata": {},
     "output_type": "execute_result"
    }
   ],
   "source": [
    "import nltk\n",
    "bigram_measures = nltk.collocations.BigramAssocMeasures()\n",
    "\n",
    "tweet_pmi_finder = nltk.BigramCollocationFinder.from_words(stopped_tokens)\n",
    "tweet_pmi_finder.apply_freq_filter(5)\n",
    "\n",
    "tweet_pmi_scored = tweet_pmi_finder.score_ngrams(bigram_measures.pmi)\n",
    "pd.DataFrame.from_records(tweet_pmi_scored,columns=['Words','PMI']).head(20)"
   ]
  },
  {
   "cell_type": "markdown",
   "metadata": {},
   "source": [
    "# Regular Expressions"
   ]
  },
  {
   "cell_type": "markdown",
   "metadata": {},
   "source": [
    "- Regular expressions can help us capture/remove complicated patterns in our text.\n",
    "- Best regexp resource and tester: https://regex101.com/\n",
    "\n",
    "    - Make sure to check \"Python\" under Flavor menu on left side.\n",
    "    \n",
    "    \n",
    "- Let's use regular expressions to remove URLs"
   ]
  },
  {
   "cell_type": "code",
   "execution_count": 18,
   "metadata": {
    "ExecuteTime": {
     "end_time": "2020-10-17T22:52:08.971454Z",
     "start_time": "2020-10-17T22:52:08.968081Z"
    }
   },
   "outputs": [
    {
     "data": {
      "text/plain": [
       "'I will be in Green Bay Wisconsin on Saturday April 27th at the Resch Center — 7:00pm (CDT). Big crowd expected! #MAGA https://t.co/BPYK8PF0O8'"
      ]
     },
     "execution_count": 18,
     "metadata": {},
     "output_type": "execute_result"
    }
   ],
   "source": [
    "## Select an example tweet\n",
    "text =  corpus[6615]\n",
    "text"
   ]
  },
  {
   "cell_type": "code",
   "execution_count": 19,
   "metadata": {
    "ExecuteTime": {
     "end_time": "2020-10-17T22:52:08.977894Z",
     "start_time": "2020-10-17T22:52:08.973269Z"
    }
   },
   "outputs": [
    {
     "data": {
      "text/plain": [
       "'RT @real_defender: @realDonaldTrump Protecting America and putting Americans first. Thank you Mr. President!'"
      ]
     },
     "execution_count": 19,
     "metadata": {},
     "output_type": "execute_result"
    }
   ],
   "source": [
    "## Select a second example tweet\n",
    "text2=corpus[7347]\n",
    "text2"
   ]
  },
  {
   "cell_type": "code",
   "execution_count": 20,
   "metadata": {
    "ExecuteTime": {
     "end_time": "2020-10-17T22:52:08.984851Z",
     "start_time": "2020-10-17T22:52:08.979857Z"
    }
   },
   "outputs": [
    {
     "data": {
      "text/plain": [
       "['I',\n",
       " 'will',\n",
       " 'be',\n",
       " 'in',\n",
       " 'Green',\n",
       " 'Bay',\n",
       " 'Wisconsin',\n",
       " 'on',\n",
       " 'Saturday',\n",
       " 'April',\n",
       " 'th',\n",
       " 'at',\n",
       " 'the',\n",
       " 'Resch',\n",
       " 'Center',\n",
       " 'pm',\n",
       " 'CDT',\n",
       " 'Big',\n",
       " 'crowd',\n",
       " 'expected',\n",
       " 'MAGA',\n",
       " 'https',\n",
       " 't',\n",
       " 'co',\n",
       " 'BPYK',\n",
       " 'PF',\n",
       " 'O']"
      ]
     },
     "execution_count": 20,
     "metadata": {},
     "output_type": "execute_result"
    }
   ],
   "source": [
    "## From tjhe lessons\n",
    "from nltk import regexp_tokenize\n",
    "pattern = r\"([a-zA-Z]+(?:'[a-z]+)?)\"\n",
    "regexp_tokenize(text,pattern)"
   ]
  },
  {
   "cell_type": "markdown",
   "metadata": {},
   "source": [
    "### Let's use regex to find/remove URLS"
   ]
  },
  {
   "cell_type": "markdown",
   "metadata": {},
   "source": [
    "- www.regex101.com\n",
    "    - Copy and paste example text to search\n",
    "    - Test out regular expressions and see what they pick up"
   ]
  },
  {
   "cell_type": "code",
   "execution_count": 21,
   "metadata": {
    "ExecuteTime": {
     "end_time": "2020-10-17T22:52:08.989571Z",
     "start_time": "2020-10-17T22:52:08.986955Z"
    }
   },
   "outputs": [
    {
     "name": "stdout",
     "output_type": "stream",
     "text": [
      "I will be in Green Bay Wisconsin on Saturday April 27th at the Resch Center — 7:00pm (CDT). Big crowd expected! #MAGA https://t.co/BPYK8PF0O8 RT @real_defender: @realDonaldTrump Protecting America and putting Americans first. Thank you Mr. President!\n"
     ]
    }
   ],
   "source": [
    "print(text,text2)"
   ]
  },
  {
   "cell_type": "code",
   "execution_count": 22,
   "metadata": {
    "ExecuteTime": {
     "end_time": "2020-10-17T22:52:08.996207Z",
     "start_time": "2020-10-17T22:52:08.991781Z"
    }
   },
   "outputs": [
    {
     "data": {
      "text/plain": [
       "['https://t.co/BPYK8PF0O8']"
      ]
     },
     "execution_count": 22,
     "metadata": {},
     "output_type": "execute_result"
    }
   ],
   "source": [
    "import re\n",
    "re.findall(r\"(https://\\w*\\.\\w*/+\\w+)\",text)"
   ]
  },
  {
   "cell_type": "code",
   "execution_count": 23,
   "metadata": {
    "ExecuteTime": {
     "end_time": "2020-10-17T22:52:09.008531Z",
     "start_time": "2020-10-17T22:52:09.004040Z"
    }
   },
   "outputs": [],
   "source": [
    "def clean_text(text,regex=True):\n",
    "    from nltk.corpus import stopwords\n",
    "    import string\n",
    "    from nltk import word_tokenize,regexp_tokenize\n",
    "\n",
    "    ## tokenize text\n",
    "    if regex:\n",
    "        pattern = r\"([a-zA-Z]+(?:'[a-z]+)?)\"\n",
    "        tokens= regexp_tokenize(text,pattern)\n",
    "    else:\n",
    "        tokens = word_tokenize(text)\n",
    "        \n",
    "    # Get all the stop words in the English language\n",
    "    stopwords_list = stopwords.words('english')\n",
    "    stopwords_list += string.punctuation\n",
    "    \n",
    "    stopped_tokens = [w.lower() for w in tokens if w not in stopwords_list]\n",
    "    \n",
    "    return stopped_tokens"
   ]
  },
  {
   "cell_type": "code",
   "execution_count": 24,
   "metadata": {
    "ExecuteTime": {
     "end_time": "2020-10-17T22:52:09.017555Z",
     "start_time": "2020-10-17T22:52:09.013455Z"
    }
   },
   "outputs": [],
   "source": [
    "## Other uses of RegEx for Tweet preprocessing\n",
    "import re\n",
    "\n",
    "def find_urls(string): \n",
    "    return re.findall(r\"(http[s]?://\\w*\\.\\w*/+\\w+)\",string)\n",
    "\n",
    "def find_hashtags(string):\n",
    "    return re.findall(r'\\#\\w*',string)\n",
    "\n",
    "def find_retweets(string):\n",
    "    return re.findall(r'RT [@]?\\w*:',string)\n",
    "\n",
    "def find_mentions(string):\n",
    "    return re.findall(r'\\@\\w*',string)"
   ]
  },
  {
   "cell_type": "code",
   "execution_count": 25,
   "metadata": {
    "ExecuteTime": {
     "end_time": "2020-10-17T22:52:09.022996Z",
     "start_time": "2020-10-17T22:52:09.019622Z"
    }
   },
   "outputs": [
    {
     "data": {
      "text/plain": [
       "['https://t.co/BPYK8PF0O8']"
      ]
     },
     "execution_count": 25,
     "metadata": {},
     "output_type": "execute_result"
    }
   ],
   "source": [
    "find_urls(text)"
   ]
  },
  {
   "cell_type": "code",
   "execution_count": 26,
   "metadata": {
    "ExecuteTime": {
     "end_time": "2020-10-17T22:52:09.027922Z",
     "start_time": "2020-10-17T22:52:09.024762Z"
    }
   },
   "outputs": [
    {
     "data": {
      "text/plain": [
       "['@real_defender', '@realDonaldTrump']"
      ]
     },
     "execution_count": 26,
     "metadata": {},
     "output_type": "execute_result"
    }
   ],
   "source": [
    "find_mentions(text2)"
   ]
  },
  {
   "cell_type": "markdown",
   "metadata": {},
   "source": [
    "## Stemming/Lemmatization"
   ]
  },
  {
   "cell_type": "code",
   "execution_count": 27,
   "metadata": {
    "ExecuteTime": {
     "end_time": "2020-10-17T22:52:10.845868Z",
     "start_time": "2020-10-17T22:52:09.029313Z"
    }
   },
   "outputs": [
    {
     "name": "stdout",
     "output_type": "stream",
     "text": [
      "foot\n",
      "running\n"
     ]
    }
   ],
   "source": [
    "from nltk.stem.wordnet import WordNetLemmatizer\n",
    "\n",
    "lemmatizer = WordNetLemmatizer()\n",
    "\n",
    "print(lemmatizer.lemmatize('feet')) # foot\n",
    "print(lemmatizer.lemmatize('running')) # run [?!] Does not match expected output"
   ]
  },
  {
   "cell_type": "code",
   "execution_count": 28,
   "metadata": {
    "ExecuteTime": {
     "end_time": "2020-10-17T22:52:10.853543Z",
     "start_time": "2020-10-17T22:52:10.847568Z"
    }
   },
   "outputs": [],
   "source": [
    "text_in =  corpus[6615]\n",
    "\n",
    "def process_tweet(text,as_lemmas=False,as_tokens=True):\n",
    "#     text=text.copy()\n",
    "    for x in find_urls(text):\n",
    "        text = text.replace(x,'')\n",
    "        \n",
    "    for x in find_retweets(text):\n",
    "        text = text.replace(x,'')    \n",
    "        \n",
    "    for x in find_hashtags(text):\n",
    "        text = text.replace(x,'')    \n",
    "\n",
    "    if as_lemmas:\n",
    "        from nltk.stem.wordnet import WordNetLemmatizer\n",
    "        lemmatizer = WordNetLemmatizer()\n",
    "        text = lemmatizer.lemmatize(text)\n",
    "    \n",
    "    if as_tokens:\n",
    "        text = clean_text(text)\n",
    "    \n",
    "    if len(text)==0:\n",
    "        text=''\n",
    "            \n",
    "    return text"
   ]
  },
  {
   "cell_type": "code",
   "execution_count": 29,
   "metadata": {
    "ExecuteTime": {
     "end_time": "2020-10-17T22:52:10.884830Z",
     "start_time": "2020-10-17T22:52:10.856093Z"
    }
   },
   "outputs": [
    {
     "data": {
      "application/vnd.jupyter.widget-view+json": {
       "model_id": "e7e5522d9e2a4d6db156ba0540634b0a",
       "version_major": 2,
       "version_minor": 0
      },
      "text/plain": [
       "interactive(children=(IntSlider(value=7032, description='i', max=14065), Output()), _dom_classes=('widget-inte…"
      ]
     },
     "metadata": {},
     "output_type": "display_data"
    }
   ],
   "source": [
    "@interact\n",
    "def show_processed_text(i=(0,len(corpus)-1)):\n",
    "    text_in = corpus[i]#.copy()\n",
    "    print(text_in)\n",
    "    text_out = process_tweet(text_in)\n",
    "    print(text_out)\n",
    "    text_out2 = process_tweet(text_in,as_lemmas=True)\n",
    "    print(text_out2)"
   ]
  },
  {
   "cell_type": "code",
   "execution_count": 30,
   "metadata": {
    "ExecuteTime": {
     "end_time": "2020-10-17T22:52:10.891529Z",
     "start_time": "2020-10-17T22:52:10.887549Z"
    }
   },
   "outputs": [
    {
     "data": {
      "text/plain": [
       "['https://t.co/EVAEYD1AgV',\n",
       " 'HAPPY NEW YEAR!',\n",
       " 'Our fantastic First Lady! https://t.co/6iswto4WDI',\n",
       " 'RT @DanScavino: https://t.co/CJRPySkF1Z',\n",
       " 'RT @SenJohnKennedy: I think Speaker Pelosi is having 2nd thoughts about impeaching the President. The Senate should get back to work on USM…',\n",
       " 'Thank you Steve. The greatest Witch Hunt in U.S. history! https://t.co/I3bSNVp6gC']"
      ]
     },
     "execution_count": 30,
     "metadata": {},
     "output_type": "execute_result"
    }
   ],
   "source": [
    "corpus[:6]"
   ]
  },
  {
   "cell_type": "markdown",
   "metadata": {},
   "source": []
  },
  {
   "cell_type": "markdown",
   "metadata": {},
   "source": [
    "# Text Classification - Finding Trump"
   ]
  },
  {
   "cell_type": "markdown",
   "metadata": {},
   "source": [
    "## Finding Trump with Sklearn"
   ]
  },
  {
   "cell_type": "code",
   "execution_count": 31,
   "metadata": {
    "ExecuteTime": {
     "end_time": "2020-10-17T22:52:10.896115Z",
     "start_time": "2020-10-17T22:52:10.893440Z"
    }
   },
   "outputs": [],
   "source": [
    "finding_trump = 'https://raw.githubusercontent.com/jirvingphd/online-ds-pt-1007109-text-classification-finding-trump/master/finding-trump.csv'"
   ]
  },
  {
   "cell_type": "code",
   "execution_count": 32,
   "metadata": {
    "ExecuteTime": {
     "end_time": "2020-10-17T22:52:13.878644Z",
     "start_time": "2020-10-17T22:52:10.898481Z"
    }
   },
   "outputs": [
    {
     "data": {
      "text/html": [
       "<div>\n",
       "<style scoped>\n",
       "    .dataframe tbody tr th:only-of-type {\n",
       "        vertical-align: middle;\n",
       "    }\n",
       "\n",
       "    .dataframe tbody tr th {\n",
       "        vertical-align: top;\n",
       "    }\n",
       "\n",
       "    .dataframe thead th {\n",
       "        text-align: right;\n",
       "    }\n",
       "</style>\n",
       "<table border=\"1\" class=\"dataframe\">\n",
       "  <thead>\n",
       "    <tr style=\"text-align: right;\">\n",
       "      <th></th>\n",
       "      <th>source</th>\n",
       "      <th>text</th>\n",
       "      <th>retweet_count</th>\n",
       "      <th>favorite_count</th>\n",
       "      <th>is_retweet</th>\n",
       "      <th>id_str</th>\n",
       "    </tr>\n",
       "    <tr>\n",
       "      <th>created_at</th>\n",
       "      <th></th>\n",
       "      <th></th>\n",
       "      <th></th>\n",
       "      <th></th>\n",
       "      <th></th>\n",
       "      <th></th>\n",
       "    </tr>\n",
       "  </thead>\n",
       "  <tbody>\n",
       "    <tr>\n",
       "      <th>2020-01-01 03:12:07</th>\n",
       "      <td>Twitter Media Studio</td>\n",
       "      <td>https://t.co/EVAEYD1AgV</td>\n",
       "      <td>25016</td>\n",
       "      <td>108830</td>\n",
       "      <td>False</td>\n",
       "      <td>1212209862094012416</td>\n",
       "    </tr>\n",
       "    <tr>\n",
       "      <th>2020-01-01 01:30:35</th>\n",
       "      <td>Twitter for iPhone</td>\n",
       "      <td>HAPPY NEW YEAR!</td>\n",
       "      <td>85409</td>\n",
       "      <td>576045</td>\n",
       "      <td>False</td>\n",
       "      <td>1212184310389850119</td>\n",
       "    </tr>\n",
       "    <tr>\n",
       "      <th>2020-01-01 01:22:28</th>\n",
       "      <td>Twitter for iPhone</td>\n",
       "      <td>Our fantastic First Lady! https://t.co/6iswto4WDI</td>\n",
       "      <td>27567</td>\n",
       "      <td>132633</td>\n",
       "      <td>False</td>\n",
       "      <td>1212182267113680896</td>\n",
       "    </tr>\n",
       "    <tr>\n",
       "      <th>2020-01-01 01:18:47</th>\n",
       "      <td>Twitter for iPhone</td>\n",
       "      <td>RT @DanScavino: https://t.co/CJRPySkF1Z</td>\n",
       "      <td>10796</td>\n",
       "      <td>0</td>\n",
       "      <td>True</td>\n",
       "      <td>1212181341078458369</td>\n",
       "    </tr>\n",
       "    <tr>\n",
       "      <th>2020-01-01 01:17:43</th>\n",
       "      <td>Twitter for iPhone</td>\n",
       "      <td>RT @SenJohnKennedy: I think Speaker Pelosi is ...</td>\n",
       "      <td>8893</td>\n",
       "      <td>0</td>\n",
       "      <td>True</td>\n",
       "      <td>1212181071988703232</td>\n",
       "    </tr>\n",
       "  </tbody>\n",
       "</table>\n",
       "</div>"
      ],
      "text/plain": [
       "                                   source  \\\n",
       "created_at                                  \n",
       "2020-01-01 03:12:07  Twitter Media Studio   \n",
       "2020-01-01 01:30:35    Twitter for iPhone   \n",
       "2020-01-01 01:22:28    Twitter for iPhone   \n",
       "2020-01-01 01:18:47    Twitter for iPhone   \n",
       "2020-01-01 01:17:43    Twitter for iPhone   \n",
       "\n",
       "                                                                  text  \\\n",
       "created_at                                                               \n",
       "2020-01-01 03:12:07                            https://t.co/EVAEYD1AgV   \n",
       "2020-01-01 01:30:35                                    HAPPY NEW YEAR!   \n",
       "2020-01-01 01:22:28  Our fantastic First Lady! https://t.co/6iswto4WDI   \n",
       "2020-01-01 01:18:47            RT @DanScavino: https://t.co/CJRPySkF1Z   \n",
       "2020-01-01 01:17:43  RT @SenJohnKennedy: I think Speaker Pelosi is ...   \n",
       "\n",
       "                     retweet_count  favorite_count is_retweet  \\\n",
       "created_at                                                      \n",
       "2020-01-01 03:12:07          25016          108830      False   \n",
       "2020-01-01 01:30:35          85409          576045      False   \n",
       "2020-01-01 01:22:28          27567          132633      False   \n",
       "2020-01-01 01:18:47          10796               0       True   \n",
       "2020-01-01 01:17:43           8893               0       True   \n",
       "\n",
       "                                  id_str  \n",
       "created_at                                \n",
       "2020-01-01 03:12:07  1212209862094012416  \n",
       "2020-01-01 01:30:35  1212184310389850119  \n",
       "2020-01-01 01:22:28  1212182267113680896  \n",
       "2020-01-01 01:18:47  1212181341078458369  \n",
       "2020-01-01 01:17:43  1212181071988703232  "
      ]
     },
     "execution_count": 32,
     "metadata": {},
     "output_type": "execute_result"
    }
   ],
   "source": [
    "df = pd.read_csv(finding_trump,#'https://raw.githubusercontent.com/jirvingphd/capstone-project-using-trumps-tweets-to-predict-stock-market/master/data/trump_tweets_12012016_to_01012020.csv',\n",
    "                index_col='created_at',parse_dates=['created_at'])\n",
    "df.head()"
   ]
  },
  {
   "cell_type": "code",
   "execution_count": 33,
   "metadata": {
    "ExecuteTime": {
     "end_time": "2020-10-17T22:52:13.903442Z",
     "start_time": "2020-10-17T22:52:13.880501Z"
    }
   },
   "outputs": [
    {
     "data": {
      "text/html": [
       "<div>\n",
       "<style scoped>\n",
       "    .dataframe tbody tr th:only-of-type {\n",
       "        vertical-align: middle;\n",
       "    }\n",
       "\n",
       "    .dataframe tbody tr th {\n",
       "        vertical-align: top;\n",
       "    }\n",
       "\n",
       "    .dataframe thead th {\n",
       "        text-align: right;\n",
       "    }\n",
       "</style>\n",
       "<table border=\"1\" class=\"dataframe\">\n",
       "  <thead>\n",
       "    <tr style=\"text-align: right;\">\n",
       "      <th></th>\n",
       "      <th>source</th>\n",
       "      <th>text</th>\n",
       "      <th>retweet_count</th>\n",
       "      <th>favorite_count</th>\n",
       "      <th>is_retweet</th>\n",
       "      <th>id_str</th>\n",
       "    </tr>\n",
       "    <tr>\n",
       "      <th>created_at</th>\n",
       "      <th></th>\n",
       "      <th></th>\n",
       "      <th></th>\n",
       "      <th></th>\n",
       "      <th></th>\n",
       "      <th></th>\n",
       "    </tr>\n",
       "  </thead>\n",
       "  <tbody>\n",
       "    <tr>\n",
       "      <th>2017-03-25 14:41:14</th>\n",
       "      <td>Twitter for Android</td>\n",
       "      <td>Watch @JudgeJeanine on @FoxNews tonight at 9:0...</td>\n",
       "      <td>10116</td>\n",
       "      <td>51247</td>\n",
       "      <td>False</td>\n",
       "      <td>845646761704243200</td>\n",
       "    </tr>\n",
       "    <tr>\n",
       "      <th>2017-03-25 14:37:52</th>\n",
       "      <td>Twitter for Android</td>\n",
       "      <td>ObamaCare will explode and we will all get tog...</td>\n",
       "      <td>22518</td>\n",
       "      <td>104321</td>\n",
       "      <td>False</td>\n",
       "      <td>845645916732358656</td>\n",
       "    </tr>\n",
       "    <tr>\n",
       "      <th>2017-03-25 13:29:17</th>\n",
       "      <td>Twitter for iPhone</td>\n",
       "      <td>Happy #MedalOfHonorDay to our heroes! ➡️https:...</td>\n",
       "      <td>14139</td>\n",
       "      <td>68302</td>\n",
       "      <td>False</td>\n",
       "      <td>845628655493677056</td>\n",
       "    </tr>\n",
       "    <tr>\n",
       "      <th>2017-03-24 17:59:42</th>\n",
       "      <td>Twitter for iPhone</td>\n",
       "      <td>Today I was thrilled to announce a commitment ...</td>\n",
       "      <td>20212</td>\n",
       "      <td>89339</td>\n",
       "      <td>False</td>\n",
       "      <td>845334323045765121</td>\n",
       "    </tr>\n",
       "    <tr>\n",
       "      <th>2017-03-24 17:03:46</th>\n",
       "      <td>Twitter for iPhone</td>\n",
       "      <td>Today I was pleased to announce the official a...</td>\n",
       "      <td>12933</td>\n",
       "      <td>66692</td>\n",
       "      <td>False</td>\n",
       "      <td>845320243614547968</td>\n",
       "    </tr>\n",
       "    <tr>\n",
       "      <th>...</th>\n",
       "      <td>...</td>\n",
       "      <td>...</td>\n",
       "      <td>...</td>\n",
       "      <td>...</td>\n",
       "      <td>...</td>\n",
       "      <td>...</td>\n",
       "    </tr>\n",
       "    <tr>\n",
       "      <th>2016-12-03 01:41:30</th>\n",
       "      <td>Twitter for Android</td>\n",
       "      <td>Interesting how the U.S. sells Taiwan billions...</td>\n",
       "      <td>38805</td>\n",
       "      <td>122905</td>\n",
       "      <td>False</td>\n",
       "      <td>804863098138005504</td>\n",
       "    </tr>\n",
       "    <tr>\n",
       "      <th>2016-12-03 00:44:20</th>\n",
       "      <td>Twitter for Android</td>\n",
       "      <td>The President of Taiwan CALLED ME today to wis...</td>\n",
       "      <td>24700</td>\n",
       "      <td>111106</td>\n",
       "      <td>False</td>\n",
       "      <td>804848711599882240</td>\n",
       "    </tr>\n",
       "    <tr>\n",
       "      <th>2016-12-02 02:45:18</th>\n",
       "      <td>Twitter for iPhone</td>\n",
       "      <td>Thank you Ohio! Together we made history – and...</td>\n",
       "      <td>17283</td>\n",
       "      <td>72196</td>\n",
       "      <td>False</td>\n",
       "      <td>804516764562374656</td>\n",
       "    </tr>\n",
       "    <tr>\n",
       "      <th>2016-12-01 22:52:10</th>\n",
       "      <td>Twitter for iPhone</td>\n",
       "      <td>Heading to U.S. Bank Arena in Cincinnati Ohio ...</td>\n",
       "      <td>5564</td>\n",
       "      <td>31256</td>\n",
       "      <td>False</td>\n",
       "      <td>804458095569158144</td>\n",
       "    </tr>\n",
       "    <tr>\n",
       "      <th>2016-12-01 14:38:09</th>\n",
       "      <td>Twitter for Android</td>\n",
       "      <td>Getting ready to leave for the Great State of ...</td>\n",
       "      <td>9834</td>\n",
       "      <td>57249</td>\n",
       "      <td>False</td>\n",
       "      <td>804333771021570048</td>\n",
       "    </tr>\n",
       "  </tbody>\n",
       "</table>\n",
       "<p>617 rows × 6 columns</p>\n",
       "</div>"
      ],
      "text/plain": [
       "                                  source  \\\n",
       "created_at                                 \n",
       "2017-03-25 14:41:14  Twitter for Android   \n",
       "2017-03-25 14:37:52  Twitter for Android   \n",
       "2017-03-25 13:29:17   Twitter for iPhone   \n",
       "2017-03-24 17:59:42   Twitter for iPhone   \n",
       "2017-03-24 17:03:46   Twitter for iPhone   \n",
       "...                                  ...   \n",
       "2016-12-03 01:41:30  Twitter for Android   \n",
       "2016-12-03 00:44:20  Twitter for Android   \n",
       "2016-12-02 02:45:18   Twitter for iPhone   \n",
       "2016-12-01 22:52:10   Twitter for iPhone   \n",
       "2016-12-01 14:38:09  Twitter for Android   \n",
       "\n",
       "                                                                  text  \\\n",
       "created_at                                                               \n",
       "2017-03-25 14:41:14  Watch @JudgeJeanine on @FoxNews tonight at 9:0...   \n",
       "2017-03-25 14:37:52  ObamaCare will explode and we will all get tog...   \n",
       "2017-03-25 13:29:17  Happy #MedalOfHonorDay to our heroes! ➡️https:...   \n",
       "2017-03-24 17:59:42  Today I was thrilled to announce a commitment ...   \n",
       "2017-03-24 17:03:46  Today I was pleased to announce the official a...   \n",
       "...                                                                ...   \n",
       "2016-12-03 01:41:30  Interesting how the U.S. sells Taiwan billions...   \n",
       "2016-12-03 00:44:20  The President of Taiwan CALLED ME today to wis...   \n",
       "2016-12-02 02:45:18  Thank you Ohio! Together we made history – and...   \n",
       "2016-12-01 22:52:10  Heading to U.S. Bank Arena in Cincinnati Ohio ...   \n",
       "2016-12-01 14:38:09  Getting ready to leave for the Great State of ...   \n",
       "\n",
       "                     retweet_count  favorite_count is_retweet  \\\n",
       "created_at                                                      \n",
       "2017-03-25 14:41:14          10116           51247      False   \n",
       "2017-03-25 14:37:52          22518          104321      False   \n",
       "2017-03-25 13:29:17          14139           68302      False   \n",
       "2017-03-24 17:59:42          20212           89339      False   \n",
       "2017-03-24 17:03:46          12933           66692      False   \n",
       "...                            ...             ...        ...   \n",
       "2016-12-03 01:41:30          38805          122905      False   \n",
       "2016-12-03 00:44:20          24700          111106      False   \n",
       "2016-12-02 02:45:18          17283           72196      False   \n",
       "2016-12-01 22:52:10           5564           31256      False   \n",
       "2016-12-01 14:38:09           9834           57249      False   \n",
       "\n",
       "                                 id_str  \n",
       "created_at                               \n",
       "2017-03-25 14:41:14  845646761704243200  \n",
       "2017-03-25 14:37:52  845645916732358656  \n",
       "2017-03-25 13:29:17  845628655493677056  \n",
       "2017-03-24 17:59:42  845334323045765121  \n",
       "2017-03-24 17:03:46  845320243614547968  \n",
       "...                                 ...  \n",
       "2016-12-03 01:41:30  804863098138005504  \n",
       "2016-12-03 00:44:20  804848711599882240  \n",
       "2016-12-02 02:45:18  804516764562374656  \n",
       "2016-12-01 22:52:10  804458095569158144  \n",
       "2016-12-01 14:38:09  804333771021570048  \n",
       "\n",
       "[617 rows x 6 columns]"
      ]
     },
     "execution_count": 33,
     "metadata": {},
     "output_type": "execute_result"
    }
   ],
   "source": [
    "## Get time period where Trump still had his personal Android\n",
    "start_ts = df[ df['source'] == 'Twitter for Android'].index[0]\n",
    "end_ts = df[ df['source'] == 'Twitter for Android'].index[-1]\n",
    "df = df.loc[start_ts:end_ts]\n",
    "df"
   ]
  },
  {
   "cell_type": "code",
   "execution_count": 34,
   "metadata": {
    "ExecuteTime": {
     "end_time": "2020-10-17T22:52:13.911109Z",
     "start_time": "2020-10-17T22:52:13.905560Z"
    }
   },
   "outputs": [
    {
     "data": {
      "text/plain": [
       "Twitter for Android    364\n",
       "Twitter for iPhone     239\n",
       "Twitter Web Client      14\n",
       "Name: source, dtype: int64"
      ]
     },
     "execution_count": 34,
     "metadata": {},
     "output_type": "execute_result"
    }
   ],
   "source": [
    "df['source'].value_counts()"
   ]
  },
  {
   "cell_type": "code",
   "execution_count": 35,
   "metadata": {
    "ExecuteTime": {
     "end_time": "2020-10-17T22:52:13.926306Z",
     "start_time": "2020-10-17T22:52:13.913398Z"
    }
   },
   "outputs": [
    {
     "data": {
      "text/html": [
       "<div>\n",
       "<style scoped>\n",
       "    .dataframe tbody tr th:only-of-type {\n",
       "        vertical-align: middle;\n",
       "    }\n",
       "\n",
       "    .dataframe tbody tr th {\n",
       "        vertical-align: top;\n",
       "    }\n",
       "\n",
       "    .dataframe thead th {\n",
       "        text-align: right;\n",
       "    }\n",
       "</style>\n",
       "<table border=\"1\" class=\"dataframe\">\n",
       "  <thead>\n",
       "    <tr style=\"text-align: right;\">\n",
       "      <th></th>\n",
       "      <th>source</th>\n",
       "      <th>text</th>\n",
       "      <th>retweet_count</th>\n",
       "      <th>favorite_count</th>\n",
       "      <th>is_retweet</th>\n",
       "      <th>id_str</th>\n",
       "    </tr>\n",
       "    <tr>\n",
       "      <th>created_at</th>\n",
       "      <th></th>\n",
       "      <th></th>\n",
       "      <th></th>\n",
       "      <th></th>\n",
       "      <th></th>\n",
       "      <th></th>\n",
       "    </tr>\n",
       "  </thead>\n",
       "  <tbody>\n",
       "    <tr>\n",
       "      <th>2017-01-26 00:03:33</th>\n",
       "      <td>Twitter Web Client</td>\n",
       "      <td>Beginning today the United States of America g...</td>\n",
       "      <td>23095</td>\n",
       "      <td>109885</td>\n",
       "      <td>False</td>\n",
       "      <td>824407390674157568</td>\n",
       "    </tr>\n",
       "    <tr>\n",
       "      <th>2017-01-18 22:21:02</th>\n",
       "      <td>Twitter Web Client</td>\n",
       "      <td>Looking forward to a speedy recovery for Georg...</td>\n",
       "      <td>21141</td>\n",
       "      <td>135864</td>\n",
       "      <td>False</td>\n",
       "      <td>821844875268255744</td>\n",
       "    </tr>\n",
       "    <tr>\n",
       "      <th>2017-01-17 19:58:10</th>\n",
       "      <td>Twitter Web Client</td>\n",
       "      <td>RT @EricTrump: Thank you to @GolfDigest for th...</td>\n",
       "      <td>9066</td>\n",
       "      <td>0</td>\n",
       "      <td>True</td>\n",
       "      <td>821446536278274050</td>\n",
       "    </tr>\n",
       "    <tr>\n",
       "      <th>2017-01-17 19:36:21</th>\n",
       "      <td>Twitter Web Client</td>\n",
       "      <td>RT @MoskowitzEva: .@BetsyDeVos has the talent ...</td>\n",
       "      <td>6856</td>\n",
       "      <td>0</td>\n",
       "      <td>True</td>\n",
       "      <td>821441044097224704</td>\n",
       "    </tr>\n",
       "    <tr>\n",
       "      <th>2017-01-17 17:55:38</th>\n",
       "      <td>Twitter Web Client</td>\n",
       "      <td>Thank you to General Motors and Walmart for st...</td>\n",
       "      <td>21503</td>\n",
       "      <td>103996</td>\n",
       "      <td>False</td>\n",
       "      <td>821415698278875137</td>\n",
       "    </tr>\n",
       "    <tr>\n",
       "      <th>2017-01-17 17:36:45</th>\n",
       "      <td>Twitter Web Client</td>\n",
       "      <td>How Trump Won--And How The Media Missed It htt...</td>\n",
       "      <td>11434</td>\n",
       "      <td>42827</td>\n",
       "      <td>False</td>\n",
       "      <td>821410947864653825</td>\n",
       "    </tr>\n",
       "    <tr>\n",
       "      <th>2017-01-13 17:42:42</th>\n",
       "      <td>Twitter Web Client</td>\n",
       "      <td>A beautiful funeral today for a real NYC hero ...</td>\n",
       "      <td>21197</td>\n",
       "      <td>109424</td>\n",
       "      <td>False</td>\n",
       "      <td>819962894616064001</td>\n",
       "    </tr>\n",
       "    <tr>\n",
       "      <th>2017-01-06 19:30:09</th>\n",
       "      <td>Twitter Web Client</td>\n",
       "      <td>Monitoring the terrible situation in Florida. ...</td>\n",
       "      <td>22189</td>\n",
       "      <td>96091</td>\n",
       "      <td>False</td>\n",
       "      <td>817453219613917185</td>\n",
       "    </tr>\n",
       "    <tr>\n",
       "      <th>2017-01-04 18:52:09</th>\n",
       "      <td>Twitter Web Client</td>\n",
       "      <td>Jackie Evancho's album sales have skyrocketed ...</td>\n",
       "      <td>17093</td>\n",
       "      <td>79498</td>\n",
       "      <td>False</td>\n",
       "      <td>816718880731234304</td>\n",
       "    </tr>\n",
       "    <tr>\n",
       "      <th>2016-12-16 16:03:09</th>\n",
       "      <td>Twitter Web Client</td>\n",
       "      <td>Well we all did it together! I hope the \"MOVEM...</td>\n",
       "      <td>18146</td>\n",
       "      <td>70675</td>\n",
       "      <td>False</td>\n",
       "      <td>809790978332786689</td>\n",
       "    </tr>\n",
       "    <tr>\n",
       "      <th>2016-12-14 18:07:55</th>\n",
       "      <td>Twitter Web Client</td>\n",
       "      <td>.@BillGates and @JimBrownNFL32 in my Trump Tow...</td>\n",
       "      <td>14126</td>\n",
       "      <td>57955</td>\n",
       "      <td>False</td>\n",
       "      <td>809097603010981888</td>\n",
       "    </tr>\n",
       "    <tr>\n",
       "      <th>2016-12-06 19:10:27</th>\n",
       "      <td>Twitter Web Client</td>\n",
       "      <td>Masa said he would never do this had we (Trump...</td>\n",
       "      <td>13140</td>\n",
       "      <td>48486</td>\n",
       "      <td>False</td>\n",
       "      <td>806214236053667842</td>\n",
       "    </tr>\n",
       "    <tr>\n",
       "      <th>2016-12-06 19:09:49</th>\n",
       "      <td>Twitter Web Client</td>\n",
       "      <td>Masa (SoftBank) of Japan has agreed to invest ...</td>\n",
       "      <td>28709</td>\n",
       "      <td>88915</td>\n",
       "      <td>False</td>\n",
       "      <td>806214078465245185</td>\n",
       "    </tr>\n",
       "    <tr>\n",
       "      <th>2016-12-05 16:00:27</th>\n",
       "      <td>Twitter Web Client</td>\n",
       "      <td>If the press would cover me accurately &amp;amp; h...</td>\n",
       "      <td>38653</td>\n",
       "      <td>141203</td>\n",
       "      <td>False</td>\n",
       "      <td>805804034309427200</td>\n",
       "    </tr>\n",
       "  </tbody>\n",
       "</table>\n",
       "</div>"
      ],
      "text/plain": [
       "                                 source  \\\n",
       "created_at                                \n",
       "2017-01-26 00:03:33  Twitter Web Client   \n",
       "2017-01-18 22:21:02  Twitter Web Client   \n",
       "2017-01-17 19:58:10  Twitter Web Client   \n",
       "2017-01-17 19:36:21  Twitter Web Client   \n",
       "2017-01-17 17:55:38  Twitter Web Client   \n",
       "2017-01-17 17:36:45  Twitter Web Client   \n",
       "2017-01-13 17:42:42  Twitter Web Client   \n",
       "2017-01-06 19:30:09  Twitter Web Client   \n",
       "2017-01-04 18:52:09  Twitter Web Client   \n",
       "2016-12-16 16:03:09  Twitter Web Client   \n",
       "2016-12-14 18:07:55  Twitter Web Client   \n",
       "2016-12-06 19:10:27  Twitter Web Client   \n",
       "2016-12-06 19:09:49  Twitter Web Client   \n",
       "2016-12-05 16:00:27  Twitter Web Client   \n",
       "\n",
       "                                                                  text  \\\n",
       "created_at                                                               \n",
       "2017-01-26 00:03:33  Beginning today the United States of America g...   \n",
       "2017-01-18 22:21:02  Looking forward to a speedy recovery for Georg...   \n",
       "2017-01-17 19:58:10  RT @EricTrump: Thank you to @GolfDigest for th...   \n",
       "2017-01-17 19:36:21  RT @MoskowitzEva: .@BetsyDeVos has the talent ...   \n",
       "2017-01-17 17:55:38  Thank you to General Motors and Walmart for st...   \n",
       "2017-01-17 17:36:45  How Trump Won--And How The Media Missed It htt...   \n",
       "2017-01-13 17:42:42  A beautiful funeral today for a real NYC hero ...   \n",
       "2017-01-06 19:30:09  Monitoring the terrible situation in Florida. ...   \n",
       "2017-01-04 18:52:09  Jackie Evancho's album sales have skyrocketed ...   \n",
       "2016-12-16 16:03:09  Well we all did it together! I hope the \"MOVEM...   \n",
       "2016-12-14 18:07:55  .@BillGates and @JimBrownNFL32 in my Trump Tow...   \n",
       "2016-12-06 19:10:27  Masa said he would never do this had we (Trump...   \n",
       "2016-12-06 19:09:49  Masa (SoftBank) of Japan has agreed to invest ...   \n",
       "2016-12-05 16:00:27  If the press would cover me accurately &amp; h...   \n",
       "\n",
       "                     retweet_count  favorite_count is_retweet  \\\n",
       "created_at                                                      \n",
       "2017-01-26 00:03:33          23095          109885      False   \n",
       "2017-01-18 22:21:02          21141          135864      False   \n",
       "2017-01-17 19:58:10           9066               0       True   \n",
       "2017-01-17 19:36:21           6856               0       True   \n",
       "2017-01-17 17:55:38          21503          103996      False   \n",
       "2017-01-17 17:36:45          11434           42827      False   \n",
       "2017-01-13 17:42:42          21197          109424      False   \n",
       "2017-01-06 19:30:09          22189           96091      False   \n",
       "2017-01-04 18:52:09          17093           79498      False   \n",
       "2016-12-16 16:03:09          18146           70675      False   \n",
       "2016-12-14 18:07:55          14126           57955      False   \n",
       "2016-12-06 19:10:27          13140           48486      False   \n",
       "2016-12-06 19:09:49          28709           88915      False   \n",
       "2016-12-05 16:00:27          38653          141203      False   \n",
       "\n",
       "                                 id_str  \n",
       "created_at                               \n",
       "2017-01-26 00:03:33  824407390674157568  \n",
       "2017-01-18 22:21:02  821844875268255744  \n",
       "2017-01-17 19:58:10  821446536278274050  \n",
       "2017-01-17 19:36:21  821441044097224704  \n",
       "2017-01-17 17:55:38  821415698278875137  \n",
       "2017-01-17 17:36:45  821410947864653825  \n",
       "2017-01-13 17:42:42  819962894616064001  \n",
       "2017-01-06 19:30:09  817453219613917185  \n",
       "2017-01-04 18:52:09  816718880731234304  \n",
       "2016-12-16 16:03:09  809790978332786689  \n",
       "2016-12-14 18:07:55  809097603010981888  \n",
       "2016-12-06 19:10:27  806214236053667842  \n",
       "2016-12-06 19:09:49  806214078465245185  \n",
       "2016-12-05 16:00:27  805804034309427200  "
      ]
     },
     "execution_count": 35,
     "metadata": {},
     "output_type": "execute_result"
    }
   ],
   "source": [
    "df[df['source'].str.contains('Web')]"
   ]
  },
  {
   "cell_type": "code",
   "execution_count": 36,
   "metadata": {
    "ExecuteTime": {
     "end_time": "2020-10-17T22:52:13.946549Z",
     "start_time": "2020-10-17T22:52:13.928653Z"
    }
   },
   "outputs": [
    {
     "data": {
      "text/html": [
       "<div>\n",
       "<style scoped>\n",
       "    .dataframe tbody tr th:only-of-type {\n",
       "        vertical-align: middle;\n",
       "    }\n",
       "\n",
       "    .dataframe tbody tr th {\n",
       "        vertical-align: top;\n",
       "    }\n",
       "\n",
       "    .dataframe thead th {\n",
       "        text-align: right;\n",
       "    }\n",
       "</style>\n",
       "<table border=\"1\" class=\"dataframe\">\n",
       "  <thead>\n",
       "    <tr style=\"text-align: right;\">\n",
       "      <th></th>\n",
       "      <th>source</th>\n",
       "      <th>text</th>\n",
       "      <th>retweet_count</th>\n",
       "      <th>favorite_count</th>\n",
       "      <th>is_retweet</th>\n",
       "      <th>id_str</th>\n",
       "    </tr>\n",
       "    <tr>\n",
       "      <th>created_at</th>\n",
       "      <th></th>\n",
       "      <th></th>\n",
       "      <th></th>\n",
       "      <th></th>\n",
       "      <th></th>\n",
       "      <th></th>\n",
       "    </tr>\n",
       "  </thead>\n",
       "  <tbody>\n",
       "    <tr>\n",
       "      <th>2017-03-25 14:41:14</th>\n",
       "      <td>Twitter for Android</td>\n",
       "      <td>Watch @JudgeJeanine on @FoxNews tonight at 9:0...</td>\n",
       "      <td>10116</td>\n",
       "      <td>51247</td>\n",
       "      <td>False</td>\n",
       "      <td>845646761704243200</td>\n",
       "    </tr>\n",
       "    <tr>\n",
       "      <th>2017-03-25 14:37:52</th>\n",
       "      <td>Twitter for Android</td>\n",
       "      <td>ObamaCare will explode and we will all get tog...</td>\n",
       "      <td>22518</td>\n",
       "      <td>104321</td>\n",
       "      <td>False</td>\n",
       "      <td>845645916732358656</td>\n",
       "    </tr>\n",
       "    <tr>\n",
       "      <th>2017-03-25 13:29:17</th>\n",
       "      <td>Twitter for iPhone</td>\n",
       "      <td>Happy #MedalOfHonorDay to our heroes! ➡️https:...</td>\n",
       "      <td>14139</td>\n",
       "      <td>68302</td>\n",
       "      <td>False</td>\n",
       "      <td>845628655493677056</td>\n",
       "    </tr>\n",
       "    <tr>\n",
       "      <th>2017-03-24 17:59:42</th>\n",
       "      <td>Twitter for iPhone</td>\n",
       "      <td>Today I was thrilled to announce a commitment ...</td>\n",
       "      <td>20212</td>\n",
       "      <td>89339</td>\n",
       "      <td>False</td>\n",
       "      <td>845334323045765121</td>\n",
       "    </tr>\n",
       "    <tr>\n",
       "      <th>2017-03-24 17:03:46</th>\n",
       "      <td>Twitter for iPhone</td>\n",
       "      <td>Today I was pleased to announce the official a...</td>\n",
       "      <td>12933</td>\n",
       "      <td>66692</td>\n",
       "      <td>False</td>\n",
       "      <td>845320243614547968</td>\n",
       "    </tr>\n",
       "    <tr>\n",
       "      <th>...</th>\n",
       "      <td>...</td>\n",
       "      <td>...</td>\n",
       "      <td>...</td>\n",
       "      <td>...</td>\n",
       "      <td>...</td>\n",
       "      <td>...</td>\n",
       "    </tr>\n",
       "    <tr>\n",
       "      <th>2016-12-03 01:41:30</th>\n",
       "      <td>Twitter for Android</td>\n",
       "      <td>Interesting how the U.S. sells Taiwan billions...</td>\n",
       "      <td>38805</td>\n",
       "      <td>122905</td>\n",
       "      <td>False</td>\n",
       "      <td>804863098138005504</td>\n",
       "    </tr>\n",
       "    <tr>\n",
       "      <th>2016-12-03 00:44:20</th>\n",
       "      <td>Twitter for Android</td>\n",
       "      <td>The President of Taiwan CALLED ME today to wis...</td>\n",
       "      <td>24700</td>\n",
       "      <td>111106</td>\n",
       "      <td>False</td>\n",
       "      <td>804848711599882240</td>\n",
       "    </tr>\n",
       "    <tr>\n",
       "      <th>2016-12-02 02:45:18</th>\n",
       "      <td>Twitter for iPhone</td>\n",
       "      <td>Thank you Ohio! Together we made history – and...</td>\n",
       "      <td>17283</td>\n",
       "      <td>72196</td>\n",
       "      <td>False</td>\n",
       "      <td>804516764562374656</td>\n",
       "    </tr>\n",
       "    <tr>\n",
       "      <th>2016-12-01 22:52:10</th>\n",
       "      <td>Twitter for iPhone</td>\n",
       "      <td>Heading to U.S. Bank Arena in Cincinnati Ohio ...</td>\n",
       "      <td>5564</td>\n",
       "      <td>31256</td>\n",
       "      <td>False</td>\n",
       "      <td>804458095569158144</td>\n",
       "    </tr>\n",
       "    <tr>\n",
       "      <th>2016-12-01 14:38:09</th>\n",
       "      <td>Twitter for Android</td>\n",
       "      <td>Getting ready to leave for the Great State of ...</td>\n",
       "      <td>9834</td>\n",
       "      <td>57249</td>\n",
       "      <td>False</td>\n",
       "      <td>804333771021570048</td>\n",
       "    </tr>\n",
       "  </tbody>\n",
       "</table>\n",
       "<p>603 rows × 6 columns</p>\n",
       "</div>"
      ],
      "text/plain": [
       "                                  source  \\\n",
       "created_at                                 \n",
       "2017-03-25 14:41:14  Twitter for Android   \n",
       "2017-03-25 14:37:52  Twitter for Android   \n",
       "2017-03-25 13:29:17   Twitter for iPhone   \n",
       "2017-03-24 17:59:42   Twitter for iPhone   \n",
       "2017-03-24 17:03:46   Twitter for iPhone   \n",
       "...                                  ...   \n",
       "2016-12-03 01:41:30  Twitter for Android   \n",
       "2016-12-03 00:44:20  Twitter for Android   \n",
       "2016-12-02 02:45:18   Twitter for iPhone   \n",
       "2016-12-01 22:52:10   Twitter for iPhone   \n",
       "2016-12-01 14:38:09  Twitter for Android   \n",
       "\n",
       "                                                                  text  \\\n",
       "created_at                                                               \n",
       "2017-03-25 14:41:14  Watch @JudgeJeanine on @FoxNews tonight at 9:0...   \n",
       "2017-03-25 14:37:52  ObamaCare will explode and we will all get tog...   \n",
       "2017-03-25 13:29:17  Happy #MedalOfHonorDay to our heroes! ➡️https:...   \n",
       "2017-03-24 17:59:42  Today I was thrilled to announce a commitment ...   \n",
       "2017-03-24 17:03:46  Today I was pleased to announce the official a...   \n",
       "...                                                                ...   \n",
       "2016-12-03 01:41:30  Interesting how the U.S. sells Taiwan billions...   \n",
       "2016-12-03 00:44:20  The President of Taiwan CALLED ME today to wis...   \n",
       "2016-12-02 02:45:18  Thank you Ohio! Together we made history – and...   \n",
       "2016-12-01 22:52:10  Heading to U.S. Bank Arena in Cincinnati Ohio ...   \n",
       "2016-12-01 14:38:09  Getting ready to leave for the Great State of ...   \n",
       "\n",
       "                     retweet_count  favorite_count is_retweet  \\\n",
       "created_at                                                      \n",
       "2017-03-25 14:41:14          10116           51247      False   \n",
       "2017-03-25 14:37:52          22518          104321      False   \n",
       "2017-03-25 13:29:17          14139           68302      False   \n",
       "2017-03-24 17:59:42          20212           89339      False   \n",
       "2017-03-24 17:03:46          12933           66692      False   \n",
       "...                            ...             ...        ...   \n",
       "2016-12-03 01:41:30          38805          122905      False   \n",
       "2016-12-03 00:44:20          24700          111106      False   \n",
       "2016-12-02 02:45:18          17283           72196      False   \n",
       "2016-12-01 22:52:10           5564           31256      False   \n",
       "2016-12-01 14:38:09           9834           57249      False   \n",
       "\n",
       "                                 id_str  \n",
       "created_at                               \n",
       "2017-03-25 14:41:14  845646761704243200  \n",
       "2017-03-25 14:37:52  845645916732358656  \n",
       "2017-03-25 13:29:17  845628655493677056  \n",
       "2017-03-24 17:59:42  845334323045765121  \n",
       "2017-03-24 17:03:46  845320243614547968  \n",
       "...                                 ...  \n",
       "2016-12-03 01:41:30  804863098138005504  \n",
       "2016-12-03 00:44:20  804848711599882240  \n",
       "2016-12-02 02:45:18  804516764562374656  \n",
       "2016-12-01 22:52:10  804458095569158144  \n",
       "2016-12-01 14:38:09  804333771021570048  \n",
       "\n",
       "[603 rows x 6 columns]"
      ]
     },
     "execution_count": 36,
     "metadata": {},
     "output_type": "execute_result"
    }
   ],
   "source": [
    "df = df[~df['source'].str.contains('Web')]\n",
    "df"
   ]
  },
  {
   "cell_type": "code",
   "execution_count": 37,
   "metadata": {
    "ExecuteTime": {
     "end_time": "2020-10-17T22:52:13.957031Z",
     "start_time": "2020-10-17T22:52:13.948430Z"
    }
   },
   "outputs": [
    {
     "data": {
      "text/plain": [
       "Twitter for Android    0.603648\n",
       "Twitter for iPhone     0.396352\n",
       "Name: source, dtype: float64"
      ]
     },
     "execution_count": 37,
     "metadata": {},
     "output_type": "execute_result"
    }
   ],
   "source": [
    "df['source'].value_counts(normalize=True)"
   ]
  },
  {
   "cell_type": "code",
   "execution_count": 38,
   "metadata": {
    "ExecuteTime": {
     "end_time": "2020-10-17T22:52:13.967162Z",
     "start_time": "2020-10-17T22:52:13.958862Z"
    }
   },
   "outputs": [
    {
     "data": {
      "text/plain": [
       "1    0.603648\n",
       "0    0.396352\n",
       "Name: trump_tweet, dtype: float64"
      ]
     },
     "execution_count": 38,
     "metadata": {},
     "output_type": "execute_result"
    }
   ],
   "source": [
    "df['trump_tweet'] = (df['source'] == 'Twitter for Android').astype(int)\n",
    "df['trump_tweet'].value_counts(normalize=True)"
   ]
  },
  {
   "cell_type": "code",
   "execution_count": 39,
   "metadata": {
    "ExecuteTime": {
     "end_time": "2020-10-17T22:52:13.974583Z",
     "start_time": "2020-10-17T22:52:13.969115Z"
    }
   },
   "outputs": [
    {
     "data": {
      "text/plain": [
       "1    364\n",
       "0    239\n",
       "Name: trump_tweet, dtype: int64"
      ]
     },
     "execution_count": 39,
     "metadata": {},
     "output_type": "execute_result"
    }
   ],
   "source": [
    "y = df['trump_tweet']\n",
    "y.value_counts()"
   ]
  },
  {
   "cell_type": "code",
   "execution_count": 40,
   "metadata": {
    "ExecuteTime": {
     "end_time": "2020-10-17T22:52:13.983405Z",
     "start_time": "2020-10-17T22:52:13.977621Z"
    }
   },
   "outputs": [
    {
     "data": {
      "text/plain": [
       "created_at\n",
       "2017-03-25 14:41:14    Watch @JudgeJeanine on @FoxNews tonight at 9:0...\n",
       "2017-03-25 14:37:52    ObamaCare will explode and we will all get tog...\n",
       "2017-03-25 13:29:17    Happy #MedalOfHonorDay to our heroes! ➡️https:...\n",
       "2017-03-24 17:59:42    Today I was thrilled to announce a commitment ...\n",
       "2017-03-24 17:03:46    Today I was pleased to announce the official a...\n",
       "Name: text, dtype: object"
      ]
     },
     "execution_count": 40,
     "metadata": {},
     "output_type": "execute_result"
    }
   ],
   "source": [
    "X = df['text']#.apply(tokenizer.tokenize)\n",
    "X.head()"
   ]
  },
  {
   "cell_type": "code",
   "execution_count": 41,
   "metadata": {
    "ExecuteTime": {
     "end_time": "2020-10-17T22:52:13.991634Z",
     "start_time": "2020-10-17T22:52:13.985456Z"
    }
   },
   "outputs": [],
   "source": [
    "from sklearn.model_selection import train_test_split\n",
    "X_train,X_test,y_train,y_test = train_test_split(X,y,stratify=y,test_size=0.3,random_state=42)"
   ]
  },
  {
   "cell_type": "code",
   "execution_count": 42,
   "metadata": {
    "ExecuteTime": {
     "end_time": "2020-10-17T22:52:13.999194Z",
     "start_time": "2020-10-17T22:52:13.993875Z"
    }
   },
   "outputs": [
    {
     "data": {
      "text/plain": [
       "1    0.604265\n",
       "0    0.395735\n",
       "Name: trump_tweet, dtype: float64"
      ]
     },
     "execution_count": 42,
     "metadata": {},
     "output_type": "execute_result"
    }
   ],
   "source": [
    "y_train.value_counts(normalize=True)"
   ]
  },
  {
   "cell_type": "code",
   "execution_count": 43,
   "metadata": {
    "ExecuteTime": {
     "end_time": "2020-10-17T22:52:14.007585Z",
     "start_time": "2020-10-17T22:52:14.001294Z"
    }
   },
   "outputs": [
    {
     "data": {
      "text/plain": [
       "1    0.60221\n",
       "0    0.39779\n",
       "Name: trump_tweet, dtype: float64"
      ]
     },
     "execution_count": 43,
     "metadata": {},
     "output_type": "execute_result"
    }
   ],
   "source": [
    "y_test.value_counts(normalize=True)"
   ]
  },
  {
   "cell_type": "code",
   "execution_count": 44,
   "metadata": {
    "ExecuteTime": {
     "end_time": "2020-10-17T22:52:14.017766Z",
     "start_time": "2020-10-17T22:52:14.009605Z"
    }
   },
   "outputs": [
    {
     "data": {
      "text/plain": [
       "created_at\n",
       "2017-03-13 20:57:02    Proud to welcome our great Cabinet this aftern...\n",
       "2017-02-07 02:33:55    The failing @nytimes was forced to apologize t...\n",
       "2017-01-19 20:21:36    Join me at 4pm over at the Lincoln Memorial wi...\n",
       "2017-01-29 13:00:32    Somebody with aptitude and conviction should b...\n",
       "2016-12-14 00:52:40    RT @DanScavino: Join #PEOTUS Trump &amp; #VPEO...\n",
       "                                             ...                        \n",
       "2016-12-30 19:46:55    Join @AmerIcan32 founded by Hall of Fame legen...\n",
       "2017-02-09 13:26:07    Sen. McCain should not be talking about the su...\n",
       "2017-01-25 22:05:59    I will be interviewed by @DavidMuir tonight at...\n",
       "2017-01-31 11:21:52    Nancy Pelosi and Fake Tears Chuck Schumer held...\n",
       "2017-01-25 12:13:46    even those registered to vote who are dead (an...\n",
       "Name: text, Length: 422, dtype: object"
      ]
     },
     "execution_count": 44,
     "metadata": {},
     "output_type": "execute_result"
    }
   ],
   "source": [
    "X_train"
   ]
  },
  {
   "cell_type": "markdown",
   "metadata": {},
   "source": [
    "### Tokenization & Vectorization "
   ]
  },
  {
   "cell_type": "code",
   "execution_count": 45,
   "metadata": {
    "ExecuteTime": {
     "end_time": "2020-10-17T22:52:14.022429Z",
     "start_time": "2020-10-17T22:52:14.019688Z"
    }
   },
   "outputs": [],
   "source": [
    "import nltk\n",
    "tokenizer = nltk.tokenize.TweetTokenizer(preserve_case=False,)"
   ]
  },
  {
   "cell_type": "code",
   "execution_count": 46,
   "metadata": {
    "ExecuteTime": {
     "end_time": "2020-10-17T22:52:14.325591Z",
     "start_time": "2020-10-17T22:52:14.024796Z"
    }
   },
   "outputs": [
    {
     "data": {
      "text/plain": [
       "<422x2147 sparse matrix of type '<class 'numpy.float64'>'\n",
       "\twith 4812 stored elements in Compressed Sparse Row format>"
      ]
     },
     "execution_count": 46,
     "metadata": {},
     "output_type": "execute_result"
    }
   ],
   "source": [
    "from sklearn.feature_extraction.text import TfidfVectorizer,CountVectorizer\n",
    "from sklearn.ensemble import RandomForestClassifier\n",
    "from sklearn.naive_bayes import MultinomialNB\n",
    "\n",
    "vectorizer = TfidfVectorizer(tokenizer=tokenizer.tokenize,stop_words=stopwords_list)\n",
    "# vectorizer = CountVectorizer(tokenizer=tokenizer.tokenize,stop_words=stopwords_list)\n",
    "\n",
    "X_train_tfidf = vectorizer.fit_transform(X_train)\n",
    "X_test_tfidf = vectorizer.transform(X_test)\n",
    "X_train_tfidf"
   ]
  },
  {
   "cell_type": "code",
   "execution_count": 47,
   "metadata": {
    "ExecuteTime": {
     "end_time": "2020-10-17T22:52:14.558743Z",
     "start_time": "2020-10-17T22:52:14.327461Z"
    }
   },
   "outputs": [
    {
     "data": {
      "text/plain": [
       "RandomForestClassifier(class_weight='balanced')"
      ]
     },
     "execution_count": 47,
     "metadata": {},
     "output_type": "execute_result"
    }
   ],
   "source": [
    "rf = RandomForestClassifier(class_weight='balanced')\n",
    "rf.fit(X_train_tfidf,y_train)"
   ]
  },
  {
   "cell_type": "code",
   "execution_count": null,
   "metadata": {},
   "outputs": [],
   "source": []
  },
  {
   "cell_type": "code",
   "execution_count": 48,
   "metadata": {
    "ExecuteTime": {
     "end_time": "2020-10-17T22:52:14.603435Z",
     "start_time": "2020-10-17T22:52:14.560653Z"
    }
   },
   "outputs": [],
   "source": [
    "y_hat_test = rf.predict(X_test_tfidf)\n",
    "y_hat_train = rf.predict(X_train_tfidf)"
   ]
  },
  {
   "cell_type": "code",
   "execution_count": 49,
   "metadata": {
    "ExecuteTime": {
     "end_time": "2020-10-17T22:52:14.610256Z",
     "start_time": "2020-10-17T22:52:14.605376Z"
    }
   },
   "outputs": [],
   "source": [
    "from sklearn import metrics\n",
    "import matplotlib.pyplot as plt\n",
    "# my_scorer = metrics.make_scorer(evaluate_model,)\n",
    "\n",
    "def evaluate_model(y_test,y_hat_test,X_test,clf=None,\n",
    "                  scoring=metrics.recall_score,verbose=False,\n",
    "                  scorer=False):\n",
    "\n",
    "    print(metrics.classification_report(y_test,y_hat_test))\n",
    "    metrics.plot_confusion_matrix(clf,X_test,y_test,normalize='true',\n",
    "                                 cmap='Blues')\n",
    "    plt.show()\n",
    "    if verbose:\n",
    "        print(\"MODEL PARAMETERS:\")\n",
    "        print(pd.Series(rf.get_params()))\n",
    "        \n",
    "    if scorer:\n",
    "        \n",
    "        return scoring(y_test,y_hat_test)\n",
    "    \n",
    "    "
   ]
  },
  {
   "cell_type": "code",
   "execution_count": 50,
   "metadata": {
    "ExecuteTime": {
     "end_time": "2020-10-17T22:52:14.619349Z",
     "start_time": "2020-10-17T22:52:14.612539Z"
    }
   },
   "outputs": [
    {
     "data": {
      "text/plain": [
       "bootstrap                       True\n",
       "ccp_alpha                          0\n",
       "class_weight                balanced\n",
       "criterion                       gini\n",
       "max_depth                       None\n",
       "max_features                    auto\n",
       "max_leaf_nodes                  None\n",
       "max_samples                     None\n",
       "min_impurity_decrease              0\n",
       "min_impurity_split              None\n",
       "min_samples_leaf                   1\n",
       "min_samples_split                  2\n",
       "min_weight_fraction_leaf           0\n",
       "n_estimators                     100\n",
       "n_jobs                          None\n",
       "oob_score                      False\n",
       "random_state                    None\n",
       "verbose                            0\n",
       "warm_start                     False\n",
       "dtype: object"
      ]
     },
     "execution_count": 50,
     "metadata": {},
     "output_type": "execute_result"
    }
   ],
   "source": [
    "pd.Series(rf.get_params())"
   ]
  },
  {
   "cell_type": "code",
   "execution_count": 51,
   "metadata": {
    "ExecuteTime": {
     "end_time": "2020-10-17T22:52:14.832296Z",
     "start_time": "2020-10-17T22:52:14.621738Z"
    }
   },
   "outputs": [
    {
     "name": "stdout",
     "output_type": "stream",
     "text": [
      "              precision    recall  f1-score   support\n",
      "\n",
      "           0       1.00      1.00      1.00       167\n",
      "           1       1.00      1.00      1.00       255\n",
      "\n",
      "    accuracy                           1.00       422\n",
      "   macro avg       1.00      1.00      1.00       422\n",
      "weighted avg       1.00      1.00      1.00       422\n",
      "\n"
     ]
    },
    {
     "data": {
      "image/png": "[encoded data removed]",
      "text/plain": [
       "<Figure size 432x288 with 2 Axes>"
      ]
     },
     "metadata": {
      "needs_background": "light"
     },
     "output_type": "display_data"
    }
   ],
   "source": [
    "evaluate_model(y_train,y_hat_train,X_train_tfidf,rf)"
   ]
  },
  {
   "cell_type": "code",
   "execution_count": 52,
   "metadata": {
    "ExecuteTime": {
     "end_time": "2020-10-17T22:52:15.035517Z",
     "start_time": "2020-10-17T22:52:14.834177Z"
    }
   },
   "outputs": [
    {
     "name": "stdout",
     "output_type": "stream",
     "text": [
      "              precision    recall  f1-score   support\n",
      "\n",
      "           0       0.79      0.68      0.73        72\n",
      "           1       0.81      0.88      0.84       109\n",
      "\n",
      "    accuracy                           0.80       181\n",
      "   macro avg       0.80      0.78      0.79       181\n",
      "weighted avg       0.80      0.80      0.80       181\n",
      "\n"
     ]
    },
    {
     "data": {
      "image/png": "[encoded data removed]",
      "text/plain": [
       "<Figure size 432x288 with 2 Axes>"
      ]
     },
     "metadata": {
      "needs_background": "light"
     },
     "output_type": "display_data"
    }
   ],
   "source": [
    "evaluate_model(y_test,y_hat_test,X_test_tfidf,rf)"
   ]
  },
  {
   "cell_type": "code",
   "execution_count": 53,
   "metadata": {
    "ExecuteTime": {
     "end_time": "2020-10-17T22:52:15.039186Z",
     "start_time": "2020-10-17T22:52:15.037230Z"
    }
   },
   "outputs": [],
   "source": [
    "# help(rf.estimators_[0].get_depth)"
   ]
  },
  {
   "cell_type": "code",
   "execution_count": 54,
   "metadata": {
    "ExecuteTime": {
     "end_time": "2020-10-17T22:52:15.044098Z",
     "start_time": "2020-10-17T22:52:15.040926Z"
    }
   },
   "outputs": [
    {
     "data": {
      "text/plain": [
       "74"
      ]
     },
     "execution_count": 54,
     "metadata": {},
     "output_type": "execute_result"
    }
   ],
   "source": [
    "rf.estimators_[0].get_depth()"
   ]
  },
  {
   "cell_type": "markdown",
   "metadata": {},
   "source": [
    "### Get feature importances as text"
   ]
  },
  {
   "cell_type": "code",
   "execution_count": 55,
   "metadata": {
    "ExecuteTime": {
     "end_time": "2020-10-17T22:52:15.049325Z",
     "start_time": "2020-10-17T22:52:15.045905Z"
    }
   },
   "outputs": [
    {
     "data": {
      "text/plain": [
       "(422, 2147)"
      ]
     },
     "execution_count": 55,
     "metadata": {},
     "output_type": "execute_result"
    }
   ],
   "source": [
    "X_train_tfidf.shape"
   ]
  },
  {
   "cell_type": "code",
   "execution_count": 56,
   "metadata": {
    "ExecuteTime": {
     "end_time": "2020-10-17T22:52:15.053925Z",
     "start_time": "2020-10-17T22:52:15.050944Z"
    }
   },
   "outputs": [
    {
     "data": {
      "text/plain": [
       "2147"
      ]
     },
     "execution_count": 56,
     "metadata": {},
     "output_type": "execute_result"
    }
   ],
   "source": [
    "len(vectorizer.vocabulary_)"
   ]
  },
  {
   "cell_type": "code",
   "execution_count": 57,
   "metadata": {
    "ExecuteTime": {
     "end_time": "2020-10-17T22:52:15.060410Z",
     "start_time": "2020-10-17T22:52:15.055479Z"
    }
   },
   "outputs": [
    {
     "data": {
      "text/plain": [
       "['#1in',\n",
       " '#ahca',\n",
       " '#americafirst',\n",
       " '#draintheswam',\n",
       " '#dts',\n",
       " '#facebook',\n",
       " '#fakenews',\n",
       " '#family',\n",
       " '#familytime',\n",
       " '#godblesstheusa']"
      ]
     },
     "execution_count": 57,
     "metadata": {},
     "output_type": "execute_result"
    }
   ],
   "source": [
    "vectorizer.get_feature_names()[:10]"
   ]
  },
  {
   "cell_type": "code",
   "execution_count": 58,
   "metadata": {
    "ExecuteTime": {
     "end_time": "2020-10-17T22:52:15.409004Z",
     "start_time": "2020-10-17T22:52:15.062167Z"
    }
   },
   "outputs": [
    {
     "name": "stderr",
     "output_type": "stream",
     "text": [
      "/opt/anaconda3/envs/learn-env/lib/python3.6/site-packages/matplotlib/backends/backend_agg.py:238: RuntimeWarning:\n",
      "\n",
      "Glyph 127482 missing from current font.\n",
      "\n",
      "/opt/anaconda3/envs/learn-env/lib/python3.6/site-packages/matplotlib/backends/backend_agg.py:238: RuntimeWarning:\n",
      "\n",
      "Glyph 127480 missing from current font.\n",
      "\n",
      "/opt/anaconda3/envs/learn-env/lib/python3.6/site-packages/matplotlib/backends/backend_agg.py:201: RuntimeWarning:\n",
      "\n",
      "Glyph 127482 missing from current font.\n",
      "\n",
      "/opt/anaconda3/envs/learn-env/lib/python3.6/site-packages/matplotlib/backends/backend_agg.py:201: RuntimeWarning:\n",
      "\n",
      "Glyph 127480 missing from current font.\n",
      "\n"
     ]
    },
    {
     "data": {
      "image/png": "[encoded data removed]",
      "text/plain": [
       "<Figure size 748.8x514.8 with 1 Axes>"
      ]
     },
     "metadata": {
      "needs_background": "light"
     },
     "output_type": "display_data"
    }
   ],
   "source": [
    "# vectorizer.get_feature_names()\n",
    "with plt.style.context('seaborn-talk'):\n",
    "    importance = pd.Series(rf.feature_importances_,index= vectorizer.get_feature_names())\n",
    "    importance.sort_values(inplace=True)\n",
    "\n",
    "    importance.sort_values().tail(30).plot(kind='barh')"
   ]
  },
  {
   "cell_type": "code",
   "execution_count": 59,
   "metadata": {
    "ExecuteTime": {
     "end_time": "2020-10-17T22:52:15.417960Z",
     "start_time": "2020-10-17T22:52:15.410855Z"
    }
   },
   "outputs": [
    {
     "data": {
      "text/plain": [
       "Twitter for Android    0.865672\n",
       "Twitter for iPhone     0.134328\n",
       "Name: source, dtype: float64"
      ]
     },
     "execution_count": 59,
     "metadata": {},
     "output_type": "execute_result"
    }
   ],
   "source": [
    "df[df['text'].str.contains('...',regex=False)]['source'].value_counts(normalize=True)"
   ]
  },
  {
   "cell_type": "code",
   "execution_count": 60,
   "metadata": {
    "ExecuteTime": {
     "end_time": "2020-10-17T22:52:15.464178Z",
     "start_time": "2020-10-17T22:52:15.419937Z"
    },
    "scrolled": false
   },
   "outputs": [],
   "source": [
    "top_word_probs = {}\n",
    "for word in importance.tail(20).index:\n",
    "    rows = df['text'].str.contains(word,regex=False,case=False)\n",
    "    val_count= df[rows]['source'].value_counts(normalize=True)\n",
    "    top_word_probs[word] = val_count\n",
    "#     print(f'\\n\\n{word}:\\n{val_count}')"
   ]
  },
  {
   "cell_type": "code",
   "execution_count": 61,
   "metadata": {
    "ExecuteTime": {
     "end_time": "2020-10-17T22:52:15.467729Z",
     "start_time": "2020-10-17T22:52:15.465927Z"
    }
   },
   "outputs": [],
   "source": [
    "# top_word_probs"
   ]
  },
  {
   "cell_type": "code",
   "execution_count": 62,
   "metadata": {
    "ExecuteTime": {
     "end_time": "2020-10-17T22:52:15.501930Z",
     "start_time": "2020-10-17T22:52:15.469392Z"
    }
   },
   "outputs": [
    {
     "data": {
      "text/html": [
       "<style  type=\"text/css\" >\n",
       "#T_66daff50_10cb_11eb_b025_acde48001122row0_col0,#T_66daff50_10cb_11eb_b025_acde48001122row1_col0,#T_66daff50_10cb_11eb_b025_acde48001122row2_col1,#T_66daff50_10cb_11eb_b025_acde48001122row3_col0,#T_66daff50_10cb_11eb_b025_acde48001122row4_col0,#T_66daff50_10cb_11eb_b025_acde48001122row5_col1,#T_66daff50_10cb_11eb_b025_acde48001122row8_col1,#T_66daff50_10cb_11eb_b025_acde48001122row9_col1,#T_66daff50_10cb_11eb_b025_acde48001122row11_col1,#T_66daff50_10cb_11eb_b025_acde48001122row12_col0,#T_66daff50_10cb_11eb_b025_acde48001122row13_col0,#T_66daff50_10cb_11eb_b025_acde48001122row14_col1,#T_66daff50_10cb_11eb_b025_acde48001122row15_col0,#T_66daff50_10cb_11eb_b025_acde48001122row16_col1,#T_66daff50_10cb_11eb_b025_acde48001122row17_col0,#T_66daff50_10cb_11eb_b025_acde48001122row18_col0,#T_66daff50_10cb_11eb_b025_acde48001122row19_col1{\n",
       "            background-color:  #023858;\n",
       "            color:  #f1f1f1;\n",
       "        }#T_66daff50_10cb_11eb_b025_acde48001122row0_col1,#T_66daff50_10cb_11eb_b025_acde48001122row1_col1,#T_66daff50_10cb_11eb_b025_acde48001122row2_col0,#T_66daff50_10cb_11eb_b025_acde48001122row3_col1,#T_66daff50_10cb_11eb_b025_acde48001122row4_col1,#T_66daff50_10cb_11eb_b025_acde48001122row5_col0,#T_66daff50_10cb_11eb_b025_acde48001122row6_col0,#T_66daff50_10cb_11eb_b025_acde48001122row6_col1,#T_66daff50_10cb_11eb_b025_acde48001122row7_col0,#T_66daff50_10cb_11eb_b025_acde48001122row7_col1,#T_66daff50_10cb_11eb_b025_acde48001122row8_col0,#T_66daff50_10cb_11eb_b025_acde48001122row9_col0,#T_66daff50_10cb_11eb_b025_acde48001122row10_col0,#T_66daff50_10cb_11eb_b025_acde48001122row10_col1,#T_66daff50_10cb_11eb_b025_acde48001122row11_col0,#T_66daff50_10cb_11eb_b025_acde48001122row12_col1,#T_66daff50_10cb_11eb_b025_acde48001122row13_col1,#T_66daff50_10cb_11eb_b025_acde48001122row14_col0,#T_66daff50_10cb_11eb_b025_acde48001122row15_col1,#T_66daff50_10cb_11eb_b025_acde48001122row16_col0,#T_66daff50_10cb_11eb_b025_acde48001122row17_col1,#T_66daff50_10cb_11eb_b025_acde48001122row18_col1,#T_66daff50_10cb_11eb_b025_acde48001122row19_col0{\n",
       "            background-color:  #fff7fb;\n",
       "            color:  #000000;\n",
       "        }</style><table id=\"T_66daff50_10cb_11eb_b025_acde48001122\" ><thead>    <tr>        <th class=\"blank level0\" ></th>        <th class=\"col_heading level0 col0\" >Twitter for Android</th>        <th class=\"col_heading level0 col1\" >Twitter for iPhone</th>    </tr></thead><tbody>\n",
       "                <tr>\n",
       "                        <th id=\"T_66daff50_10cb_11eb_b025_acde48001122level0_row0\" class=\"row_heading level0 row0\" >big</th>\n",
       "                        <td id=\"T_66daff50_10cb_11eb_b025_acde48001122row0_col0\" class=\"data row0 col0\" >0.820513</td>\n",
       "                        <td id=\"T_66daff50_10cb_11eb_b025_acde48001122row0_col1\" class=\"data row0 col1\" >0.179487</td>\n",
       "            </tr>\n",
       "            <tr>\n",
       "                        <th id=\"T_66daff50_10cb_11eb_b025_acde48001122level0_row1\" class=\"row_heading level0 row1\" >u</th>\n",
       "                        <td id=\"T_66daff50_10cb_11eb_b025_acde48001122row1_col0\" class=\"data row1 col0\" >0.602170</td>\n",
       "                        <td id=\"T_66daff50_10cb_11eb_b025_acde48001122row1_col1\" class=\"data row1 col1\" >0.397830</td>\n",
       "            </tr>\n",
       "            <tr>\n",
       "                        <th id=\"T_66daff50_10cb_11eb_b025_acde48001122level0_row2\" class=\"row_heading level0 row2\" >congratulations</th>\n",
       "                        <td id=\"T_66daff50_10cb_11eb_b025_acde48001122row2_col0\" class=\"data row2 col0\" >0.333333</td>\n",
       "                        <td id=\"T_66daff50_10cb_11eb_b025_acde48001122row2_col1\" class=\"data row2 col1\" >0.666667</td>\n",
       "            </tr>\n",
       "            <tr>\n",
       "                        <th id=\"T_66daff50_10cb_11eb_b025_acde48001122level0_row3\" class=\"row_heading level0 row3\" >time</th>\n",
       "                        <td id=\"T_66daff50_10cb_11eb_b025_acde48001122row3_col0\" class=\"data row3 col0\" >0.813953</td>\n",
       "                        <td id=\"T_66daff50_10cb_11eb_b025_acde48001122row3_col1\" class=\"data row3 col1\" >0.186047</td>\n",
       "            </tr>\n",
       "            <tr>\n",
       "                        <th id=\"T_66daff50_10cb_11eb_b025_acde48001122level0_row4\" class=\"row_heading level0 row4\" >country</th>\n",
       "                        <td id=\"T_66daff50_10cb_11eb_b025_acde48001122row4_col0\" class=\"data row4 col0\" >0.862069</td>\n",
       "                        <td id=\"T_66daff50_10cb_11eb_b025_acde48001122row4_col1\" class=\"data row4 col1\" >0.137931</td>\n",
       "            </tr>\n",
       "            <tr>\n",
       "                        <th id=\"T_66daff50_10cb_11eb_b025_acde48001122level0_row5\" class=\"row_heading level0 row5\" >jobs</th>\n",
       "                        <td id=\"T_66daff50_10cb_11eb_b025_acde48001122row5_col0\" class=\"data row5 col0\" >0.468750</td>\n",
       "                        <td id=\"T_66daff50_10cb_11eb_b025_acde48001122row5_col1\" class=\"data row5 col1\" >0.531250</td>\n",
       "            </tr>\n",
       "            <tr>\n",
       "                        <th id=\"T_66daff50_10cb_11eb_b025_acde48001122level0_row6\" class=\"row_heading level0 row6\" >@whitehouse</th>\n",
       "                        <td id=\"T_66daff50_10cb_11eb_b025_acde48001122row6_col0\" class=\"data row6 col0\" >nan</td>\n",
       "                        <td id=\"T_66daff50_10cb_11eb_b025_acde48001122row6_col1\" class=\"data row6 col1\" >1.000000</td>\n",
       "            </tr>\n",
       "            <tr>\n",
       "                        <th id=\"T_66daff50_10cb_11eb_b025_acde48001122level0_row7\" class=\"row_heading level0 row7\" >🇺</th>\n",
       "                        <td id=\"T_66daff50_10cb_11eb_b025_acde48001122row7_col0\" class=\"data row7 col0\" >nan</td>\n",
       "                        <td id=\"T_66daff50_10cb_11eb_b025_acde48001122row7_col1\" class=\"data row7 col1\" >1.000000</td>\n",
       "            </tr>\n",
       "            <tr>\n",
       "                        <th id=\"T_66daff50_10cb_11eb_b025_acde48001122level0_row8\" class=\"row_heading level0 row8\" >:/</th>\n",
       "                        <td id=\"T_66daff50_10cb_11eb_b025_acde48001122row8_col0\" class=\"data row8 col0\" >0.023952</td>\n",
       "                        <td id=\"T_66daff50_10cb_11eb_b025_acde48001122row8_col1\" class=\"data row8 col1\" >0.976048</td>\n",
       "            </tr>\n",
       "            <tr>\n",
       "                        <th id=\"T_66daff50_10cb_11eb_b025_acde48001122level0_row9\" class=\"row_heading level0 row9\" >thank</th>\n",
       "                        <td id=\"T_66daff50_10cb_11eb_b025_acde48001122row9_col0\" class=\"data row9 col0\" >0.360656</td>\n",
       "                        <td id=\"T_66daff50_10cb_11eb_b025_acde48001122row9_col1\" class=\"data row9 col1\" >0.639344</td>\n",
       "            </tr>\n",
       "            <tr>\n",
       "                        <th id=\"T_66daff50_10cb_11eb_b025_acde48001122level0_row10\" class=\"row_heading level0 row10\" >🇸</th>\n",
       "                        <td id=\"T_66daff50_10cb_11eb_b025_acde48001122row10_col0\" class=\"data row10 col0\" >nan</td>\n",
       "                        <td id=\"T_66daff50_10cb_11eb_b025_acde48001122row10_col1\" class=\"data row10 col1\" >1.000000</td>\n",
       "            </tr>\n",
       "            <tr>\n",
       "                        <th id=\"T_66daff50_10cb_11eb_b025_acde48001122level0_row11\" class=\"row_heading level0 row11\" >today</th>\n",
       "                        <td id=\"T_66daff50_10cb_11eb_b025_acde48001122row11_col0\" class=\"data row11 col0\" >0.421053</td>\n",
       "                        <td id=\"T_66daff50_10cb_11eb_b025_acde48001122row11_col1\" class=\"data row11 col1\" >0.578947</td>\n",
       "            </tr>\n",
       "            <tr>\n",
       "                        <th id=\"T_66daff50_10cb_11eb_b025_acde48001122level0_row12\" class=\"row_heading level0 row12\" >election</th>\n",
       "                        <td id=\"T_66daff50_10cb_11eb_b025_acde48001122row12_col0\" class=\"data row12 col0\" >0.870968</td>\n",
       "                        <td id=\"T_66daff50_10cb_11eb_b025_acde48001122row12_col1\" class=\"data row12 col1\" >0.129032</td>\n",
       "            </tr>\n",
       "            <tr>\n",
       "                        <th id=\"T_66daff50_10cb_11eb_b025_acde48001122level0_row13\" class=\"row_heading level0 row13\" >media</th>\n",
       "                        <td id=\"T_66daff50_10cb_11eb_b025_acde48001122row13_col0\" class=\"data row13 col0\" >0.885714</td>\n",
       "                        <td id=\"T_66daff50_10cb_11eb_b025_acde48001122row13_col1\" class=\"data row13 col1\" >0.114286</td>\n",
       "            </tr>\n",
       "            <tr>\n",
       "                        <th id=\"T_66daff50_10cb_11eb_b025_acde48001122level0_row14\" class=\"row_heading level0 row14\" >join</th>\n",
       "                        <td id=\"T_66daff50_10cb_11eb_b025_acde48001122row14_col0\" class=\"data row14 col0\" >0.035714</td>\n",
       "                        <td id=\"T_66daff50_10cb_11eb_b025_acde48001122row14_col1\" class=\"data row14 col1\" >0.964286</td>\n",
       "            </tr>\n",
       "            <tr>\n",
       "                        <th id=\"T_66daff50_10cb_11eb_b025_acde48001122level0_row15\" class=\"row_heading level0 row15\" >great</th>\n",
       "                        <td id=\"T_66daff50_10cb_11eb_b025_acde48001122row15_col0\" class=\"data row15 col0\" >0.572917</td>\n",
       "                        <td id=\"T_66daff50_10cb_11eb_b025_acde48001122row15_col1\" class=\"data row15 col1\" >0.427083</td>\n",
       "            </tr>\n",
       "            <tr>\n",
       "                        <th id=\"T_66daff50_10cb_11eb_b025_acde48001122level0_row16\" class=\"row_heading level0 row16\" >trump</th>\n",
       "                        <td id=\"T_66daff50_10cb_11eb_b025_acde48001122row16_col0\" class=\"data row16 col0\" >0.303571</td>\n",
       "                        <td id=\"T_66daff50_10cb_11eb_b025_acde48001122row16_col1\" class=\"data row16 col1\" >0.696429</td>\n",
       "            </tr>\n",
       "            <tr>\n",
       "                        <th id=\"T_66daff50_10cb_11eb_b025_acde48001122level0_row17\" class=\"row_heading level0 row17\" >people</th>\n",
       "                        <td id=\"T_66daff50_10cb_11eb_b025_acde48001122row17_col0\" class=\"data row17 col0\" >0.880000</td>\n",
       "                        <td id=\"T_66daff50_10cb_11eb_b025_acde48001122row17_col1\" class=\"data row17 col1\" >0.120000</td>\n",
       "            </tr>\n",
       "            <tr>\n",
       "                        <th id=\"T_66daff50_10cb_11eb_b025_acde48001122level0_row18\" class=\"row_heading level0 row18\" >rt</th>\n",
       "                        <td id=\"T_66daff50_10cb_11eb_b025_acde48001122row18_col0\" class=\"data row18 col0\" >0.527559</td>\n",
       "                        <td id=\"T_66daff50_10cb_11eb_b025_acde48001122row18_col1\" class=\"data row18 col1\" >0.472441</td>\n",
       "            </tr>\n",
       "            <tr>\n",
       "                        <th id=\"T_66daff50_10cb_11eb_b025_acde48001122level0_row19\" class=\"row_heading level0 row19\" >…</th>\n",
       "                        <td id=\"T_66daff50_10cb_11eb_b025_acde48001122row19_col0\" class=\"data row19 col0\" >0.015873</td>\n",
       "                        <td id=\"T_66daff50_10cb_11eb_b025_acde48001122row19_col1\" class=\"data row19 col1\" >0.984127</td>\n",
       "            </tr>\n",
       "    </tbody></table>"
      ],
      "text/plain": [
       "<pandas.io.formats.style.Styler at 0x7ff456e5ae80>"
      ]
     },
     "execution_count": 62,
     "metadata": {},
     "output_type": "execute_result"
    }
   ],
   "source": [
    "top_probs = pd.DataFrame(top_word_probs).T\n",
    "top_probs.style.background_gradient(axis=1)"
   ]
  },
  {
   "cell_type": "code",
   "execution_count": 63,
   "metadata": {
    "ExecuteTime": {
     "end_time": "2020-10-17T22:52:15.506803Z",
     "start_time": "2020-10-17T22:52:15.503504Z"
    }
   },
   "outputs": [
    {
     "data": {
      "text/plain": [
       "Index(['Twitter for Android', 'Twitter for iPhone'], dtype='object')"
      ]
     },
     "execution_count": 63,
     "metadata": {},
     "output_type": "execute_result"
    }
   ],
   "source": [
    "top_probs.columns"
   ]
  },
  {
   "cell_type": "code",
   "execution_count": null,
   "metadata": {},
   "outputs": [],
   "source": []
  },
  {
   "cell_type": "code",
   "execution_count": 64,
   "metadata": {
    "ExecuteTime": {
     "end_time": "2020-10-17T22:52:15.512128Z",
     "start_time": "2020-10-17T22:52:15.508384Z"
    }
   },
   "outputs": [
    {
     "data": {
      "text/plain": [
       "Index(['big', 'u', 'congratulations', 'time', 'country', 'jobs', '@whitehouse',\n",
       "       '🇺', ':/', 'thank', '🇸', 'today', 'election', 'media', 'join', 'great',\n",
       "       'trump', 'people', 'rt', '…'],\n",
       "      dtype='object')"
      ]
     },
     "execution_count": 64,
     "metadata": {},
     "output_type": "execute_result"
    }
   ],
   "source": [
    "top_probs.index"
   ]
  },
  {
   "cell_type": "code",
   "execution_count": 65,
   "metadata": {
    "ExecuteTime": {
     "end_time": "2020-10-17T22:52:15.515674Z",
     "start_time": "2020-10-17T22:52:15.513801Z"
    }
   },
   "outputs": [],
   "source": [
    "# vectorizer.inverse_transform(vectorizer.idf_)"
   ]
  },
  {
   "cell_type": "markdown",
   "metadata": {},
   "source": [
    "## Other Classifiers - Naive Bayes"
   ]
  },
  {
   "cell_type": "code",
   "execution_count": 66,
   "metadata": {
    "ExecuteTime": {
     "end_time": "2020-10-17T22:52:15.694048Z",
     "start_time": "2020-10-17T22:52:15.517438Z"
    },
    "scrolled": false
   },
   "outputs": [
    {
     "name": "stdout",
     "output_type": "stream",
     "text": [
      "              precision    recall  f1-score   support\n",
      "\n",
      "           0       0.96      0.62      0.76        72\n",
      "           1       0.80      0.98      0.88       109\n",
      "\n",
      "    accuracy                           0.84       181\n",
      "   macro avg       0.88      0.80      0.82       181\n",
      "weighted avg       0.86      0.84      0.83       181\n",
      "\n"
     ]
    },
    {
     "data": {
      "image/png": "[encoded data removed]",
      "text/plain": [
       "<Figure size 432x288 with 2 Axes>"
      ]
     },
     "metadata": {
      "needs_background": "light"
     },
     "output_type": "display_data"
    }
   ],
   "source": [
    "nb_classifier = MultinomialNB()#alpha = 1.0e-08)\n",
    "nb_classifier.fit(X_train_tfidf,y_train)\n",
    "y_hat_test = nb_classifier.predict(X_test_tfidf)\n",
    "evaluate_model(y_test,y_hat_test,X_test_tfidf,nb_classifier)"
   ]
  },
  {
   "cell_type": "code",
   "execution_count": 67,
   "metadata": {
    "ExecuteTime": {
     "end_time": "2020-10-17T22:52:15.698362Z",
     "start_time": "2020-10-17T22:52:15.695934Z"
    }
   },
   "outputs": [],
   "source": [
    "# nb_classifier.class_count_"
   ]
  },
  {
   "cell_type": "markdown",
   "metadata": {},
   "source": [
    "## GridSearch Random Forest"
   ]
  },
  {
   "cell_type": "code",
   "execution_count": 68,
   "metadata": {
    "ExecuteTime": {
     "end_time": "2020-10-17T22:52:46.840736Z",
     "start_time": "2020-10-17T22:52:15.711609Z"
    }
   },
   "outputs": [
    {
     "name": "stdout",
     "output_type": "stream",
     "text": [
      "0.7986274509803921\n"
     ]
    },
    {
     "data": {
      "text/plain": [
       "{'bootstrap': False,\n",
       " 'class_weight': 'balanced',\n",
       " 'criterion': 'entropy',\n",
       " 'max_depth': 5,\n",
       " 'min_samples_leaf': 3}"
      ]
     },
     "execution_count": 68,
     "metadata": {},
     "output_type": "execute_result"
    }
   ],
   "source": [
    "from sklearn.model_selection import GridSearchCV\n",
    "params  = {'criterion':['gini','entropy'],\n",
    "           'max_depth':[3,5,10,50,100,None],\n",
    "          'class_weight':['balanced',None],\n",
    "           'bootstrap':[True ,False],\n",
    "          'min_samples_leaf':[1,2,3,4],\n",
    "          }\n",
    "rf_clf = RandomForestClassifier()\n",
    "grid = GridSearchCV(rf_clf,params,return_train_score=False,\n",
    "                    scoring='recall_weighted',n_jobs=-1)\n",
    "grid.fit(X_train_tfidf,y_train)\n",
    "print(grid.best_score_)\n",
    "grid.best_params_"
   ]
  },
  {
   "cell_type": "code",
   "execution_count": null,
   "metadata": {},
   "outputs": [],
   "source": []
  },
  {
   "cell_type": "code",
   "execution_count": 69,
   "metadata": {
    "ExecuteTime": {
     "end_time": "2020-10-17T22:52:46.968780Z",
     "start_time": "2020-10-17T22:52:46.842988Z"
    }
   },
   "outputs": [],
   "source": [
    "best_rf = grid.best_estimator_\n",
    "best_rf.fit(X_train_tfidf, y_train)\n",
    "\n",
    "y_hat_test = best_rf.predict(X_test_tfidf)"
   ]
  },
  {
   "cell_type": "code",
   "execution_count": 70,
   "metadata": {
    "ExecuteTime": {
     "end_time": "2020-10-17T22:52:47.165495Z",
     "start_time": "2020-10-17T22:52:46.970754Z"
    }
   },
   "outputs": [
    {
     "name": "stdout",
     "output_type": "stream",
     "text": [
      "              precision    recall  f1-score   support\n",
      "\n",
      "           0       0.72      0.65      0.69        72\n",
      "           1       0.78      0.83      0.81       109\n",
      "\n",
      "    accuracy                           0.76       181\n",
      "   macro avg       0.75      0.74      0.75       181\n",
      "weighted avg       0.76      0.76      0.76       181\n",
      "\n"
     ]
    },
    {
     "data": {
      "image/png": "[encoded data removed]",
      "text/plain": [
       "<Figure size 432x288 with 2 Axes>"
      ]
     },
     "metadata": {
      "needs_background": "light"
     },
     "output_type": "display_data"
    }
   ],
   "source": [
    "evaluate_model(y_test,y_hat_test,X_test_tfidf,best_rf)"
   ]
  },
  {
   "cell_type": "code",
   "execution_count": 71,
   "metadata": {
    "ExecuteTime": {
     "end_time": "2020-10-17T22:52:47.415213Z",
     "start_time": "2020-10-17T22:52:47.167376Z"
    }
   },
   "outputs": [
    {
     "data": {
      "text/plain": [
       "<AxesSubplot:>"
      ]
     },
     "execution_count": 71,
     "metadata": {},
     "output_type": "execute_result"
    },
    {
     "name": "stderr",
     "output_type": "stream",
     "text": [
      "/opt/anaconda3/envs/learn-env/lib/python3.6/site-packages/matplotlib/backends/backend_agg.py:238: RuntimeWarning:\n",
      "\n",
      "Glyph 127480 missing from current font.\n",
      "\n",
      "/opt/anaconda3/envs/learn-env/lib/python3.6/site-packages/matplotlib/backends/backend_agg.py:201: RuntimeWarning:\n",
      "\n",
      "Glyph 127480 missing from current font.\n",
      "\n"
     ]
    },
    {
     "data": {
      "image/png": "[encoded data removed]",
      "text/plain": [
       "<Figure size 432x288 with 1 Axes>"
      ]
     },
     "metadata": {
      "needs_background": "light"
     },
     "output_type": "display_data"
    }
   ],
   "source": [
    "importance = pd.Series(best_rf.feature_importances_,index= vectorizer.get_feature_names())\n",
    "importance.sort_values().tail(20).plot(kind='barh')"
   ]
  },
  {
   "cell_type": "markdown",
   "metadata": {},
   "source": [
    "# APPENDIX"
   ]
  },
  {
   "cell_type": "markdown",
   "metadata": {},
   "source": [
    "## BOOKMARK: EMOJIS"
   ]
  },
  {
   "cell_type": "markdown",
   "metadata": {},
   "source": [
    "> https://medium.com/towards-artificial-intelligence/emoticon-and-emoji-in-text-mining-7392c49f596a"
   ]
  },
  {
   "cell_type": "code",
   "execution_count": null,
   "metadata": {},
   "outputs": [],
   "source": []
  },
  {
   "cell_type": "markdown",
   "metadata": {},
   "source": [
    "## Excluded Code"
   ]
  },
  {
   "cell_type": "markdown",
   "metadata": {},
   "source": [
    "### Summary table from Finding Trump"
   ]
  },
  {
   "cell_type": "code",
   "execution_count": 72,
   "metadata": {
    "ExecuteTime": {
     "end_time": "2020-10-17T22:52:47.456390Z",
     "start_time": "2020-10-17T22:52:47.417051Z"
    }
   },
   "outputs": [
    {
     "data": {
      "text/html": [
       "<style  type=\"text/css\" >\n",
       "#T_79e60054_10cb_11eb_8145_acde48001122row0_col1,#T_79e60054_10cb_11eb_8145_acde48001122row1_col0,#T_79e60054_10cb_11eb_8145_acde48001122row2_col1,#T_79e60054_10cb_11eb_8145_acde48001122row3_col0,#T_79e60054_10cb_11eb_8145_acde48001122row4_col1,#T_79e60054_10cb_11eb_8145_acde48001122row5_col0,#T_79e60054_10cb_11eb_8145_acde48001122row6_col1,#T_79e60054_10cb_11eb_8145_acde48001122row7_col0,#T_79e60054_10cb_11eb_8145_acde48001122row8_col1,#T_79e60054_10cb_11eb_8145_acde48001122row9_col1,#T_79e60054_10cb_11eb_8145_acde48001122row10_col1,#T_79e60054_10cb_11eb_8145_acde48001122row11_col1,#T_79e60054_10cb_11eb_8145_acde48001122row12_col1,#T_79e60054_10cb_11eb_8145_acde48001122row13_col0,#T_79e60054_10cb_11eb_8145_acde48001122row14_col1,#T_79e60054_10cb_11eb_8145_acde48001122row15_col1,#T_79e60054_10cb_11eb_8145_acde48001122row16_col0,#T_79e60054_10cb_11eb_8145_acde48001122row17_col0,#T_79e60054_10cb_11eb_8145_acde48001122row18_col0,#T_79e60054_10cb_11eb_8145_acde48001122row19_col0{\n",
       "            background-color:  lightgreen;\n",
       "        }#T_79e60054_10cb_11eb_8145_acde48001122row0_col2{\n",
       "            width:  10em;\n",
       "             height:  80%;\n",
       "            background:  linear-gradient(90deg,#d65f5f 100.0%, transparent 100.0%);\n",
       "        }#T_79e60054_10cb_11eb_8145_acde48001122row0_col3{\n",
       "            background-color:  #034165;\n",
       "            color:  #f1f1f1;\n",
       "        }#T_79e60054_10cb_11eb_8145_acde48001122row1_col2{\n",
       "            width:  10em;\n",
       "             height:  80%;\n",
       "            background:  linear-gradient(90deg,#d65f5f 87.2%, transparent 87.2%);\n",
       "        }#T_79e60054_10cb_11eb_8145_acde48001122row1_col3{\n",
       "            background-color:  #fff7fb;\n",
       "            color:  #000000;\n",
       "        }#T_79e60054_10cb_11eb_8145_acde48001122row2_col2{\n",
       "            width:  10em;\n",
       "             height:  80%;\n",
       "            background:  linear-gradient(90deg,#d65f5f 79.8%, transparent 79.8%);\n",
       "        }#T_79e60054_10cb_11eb_8145_acde48001122row2_col3{\n",
       "            background-color:  #034c78;\n",
       "            color:  #f1f1f1;\n",
       "        }#T_79e60054_10cb_11eb_8145_acde48001122row3_col2{\n",
       "            width:  10em;\n",
       "             height:  80%;\n",
       "            background:  linear-gradient(90deg,#d65f5f 50.0%, transparent 50.0%);\n",
       "        }#T_79e60054_10cb_11eb_8145_acde48001122row3_col3{\n",
       "            background-color:  #056ead;\n",
       "            color:  #f1f1f1;\n",
       "        }#T_79e60054_10cb_11eb_8145_acde48001122row4_col2{\n",
       "            width:  10em;\n",
       "             height:  80%;\n",
       "            background:  linear-gradient(90deg,#d65f5f 47.7%, transparent 47.7%);\n",
       "        }#T_79e60054_10cb_11eb_8145_acde48001122row4_col3{\n",
       "            background-color:  #efe9f3;\n",
       "            color:  #000000;\n",
       "        }#T_79e60054_10cb_11eb_8145_acde48001122row5_col2{\n",
       "            width:  10em;\n",
       "             height:  80%;\n",
       "            background:  linear-gradient(90deg,#d65f5f 45.4%, transparent 45.4%);\n",
       "        }#T_79e60054_10cb_11eb_8145_acde48001122row5_col3{\n",
       "            background-color:  #0771b1;\n",
       "            color:  #f1f1f1;\n",
       "        }#T_79e60054_10cb_11eb_8145_acde48001122row6_col2{\n",
       "            width:  10em;\n",
       "             height:  80%;\n",
       "            background:  linear-gradient(90deg,#d65f5f 35.5%, transparent 35.5%);\n",
       "        }#T_79e60054_10cb_11eb_8145_acde48001122row6_col3,#T_79e60054_10cb_11eb_8145_acde48001122row10_col3,#T_79e60054_10cb_11eb_8145_acde48001122row11_col3{\n",
       "            background-color:  #023858;\n",
       "            color:  #f1f1f1;\n",
       "        }#T_79e60054_10cb_11eb_8145_acde48001122row7_col2{\n",
       "            width:  10em;\n",
       "             height:  80%;\n",
       "            background:  linear-gradient(90deg,#d65f5f 34.1%, transparent 34.1%);\n",
       "        }#T_79e60054_10cb_11eb_8145_acde48001122row7_col3{\n",
       "            background-color:  #0d75b3;\n",
       "            color:  #f1f1f1;\n",
       "        }#T_79e60054_10cb_11eb_8145_acde48001122row8_col2{\n",
       "            width:  10em;\n",
       "             height:  80%;\n",
       "            background:  linear-gradient(90deg,#d65f5f 32.3%, transparent 32.3%);\n",
       "        }#T_79e60054_10cb_11eb_8145_acde48001122row8_col3{\n",
       "            background-color:  #acc0dd;\n",
       "            color:  #000000;\n",
       "        }#T_79e60054_10cb_11eb_8145_acde48001122row9_col2{\n",
       "            width:  10em;\n",
       "             height:  80%;\n",
       "            background:  linear-gradient(90deg,#d65f5f 27.6%, transparent 27.6%);\n",
       "        }#T_79e60054_10cb_11eb_8145_acde48001122row9_col3{\n",
       "            background-color:  #03456c;\n",
       "            color:  #f1f1f1;\n",
       "        }#T_79e60054_10cb_11eb_8145_acde48001122row10_col2{\n",
       "            width:  10em;\n",
       "             height:  80%;\n",
       "            background:  linear-gradient(90deg,#d65f5f 23.7%, transparent 23.7%);\n",
       "        }#T_79e60054_10cb_11eb_8145_acde48001122row11_col2{\n",
       "            width:  10em;\n",
       "             height:  80%;\n",
       "            background:  linear-gradient(90deg,#d65f5f 21.2%, transparent 21.2%);\n",
       "        }#T_79e60054_10cb_11eb_8145_acde48001122row12_col2{\n",
       "            width:  10em;\n",
       "             height:  80%;\n",
       "            background:  linear-gradient(90deg,#d65f5f 20.4%, transparent 20.4%);\n",
       "        }#T_79e60054_10cb_11eb_8145_acde48001122row12_col3{\n",
       "            background-color:  #fef6fa;\n",
       "            color:  #000000;\n",
       "        }#T_79e60054_10cb_11eb_8145_acde48001122row13_col2{\n",
       "            width:  10em;\n",
       "             height:  80%;\n",
       "            background:  linear-gradient(90deg,#d65f5f 12.6%, transparent 12.6%);\n",
       "        }#T_79e60054_10cb_11eb_8145_acde48001122row13_col3{\n",
       "            background-color:  #e5e1ef;\n",
       "            color:  #000000;\n",
       "        }#T_79e60054_10cb_11eb_8145_acde48001122row14_col2{\n",
       "            width:  10em;\n",
       "             height:  80%;\n",
       "            background:  linear-gradient(90deg,#d65f5f 11.5%, transparent 11.5%);\n",
       "        }#T_79e60054_10cb_11eb_8145_acde48001122row14_col3{\n",
       "            background-color:  #d3d4e7;\n",
       "            color:  #000000;\n",
       "        }#T_79e60054_10cb_11eb_8145_acde48001122row15_col2{\n",
       "            width:  10em;\n",
       "             height:  80%;\n",
       "            background:  linear-gradient(90deg,#d65f5f 6.1%, transparent 6.1%);\n",
       "        }#T_79e60054_10cb_11eb_8145_acde48001122row15_col3{\n",
       "            background-color:  #c1cae2;\n",
       "            color:  #000000;\n",
       "        }#T_79e60054_10cb_11eb_8145_acde48001122row16_col2{\n",
       "            width:  10em;\n",
       "             height:  80%;\n",
       "            background:  linear-gradient(90deg,#d65f5f 1.5%, transparent 1.5%);\n",
       "        }#T_79e60054_10cb_11eb_8145_acde48001122row16_col3{\n",
       "            background-color:  #157ab5;\n",
       "            color:  #000000;\n",
       "        }#T_79e60054_10cb_11eb_8145_acde48001122row17_col2{\n",
       "            width:  10em;\n",
       "             height:  80%;\n",
       "            background:  linear-gradient(90deg,#d65f5f 0.3%, transparent 0.3%);\n",
       "        }#T_79e60054_10cb_11eb_8145_acde48001122row17_col3{\n",
       "            background-color:  #f1ebf4;\n",
       "            color:  #000000;\n",
       "        }#T_79e60054_10cb_11eb_8145_acde48001122row18_col2,#T_79e60054_10cb_11eb_8145_acde48001122row19_col2{\n",
       "            width:  10em;\n",
       "             height:  80%;\n",
       "        }#T_79e60054_10cb_11eb_8145_acde48001122row18_col3{\n",
       "            background-color:  #3f93c2;\n",
       "            color:  #000000;\n",
       "        }#T_79e60054_10cb_11eb_8145_acde48001122row19_col3{\n",
       "            background-color:  #3991c1;\n",
       "            color:  #000000;\n",
       "        }</style><table id=\"T_79e60054_10cb_11eb_8145_acde48001122\" ><thead>    <tr>        <th class=\"blank level0\" ></th>        <th class=\"col_heading level0 col0\" >Twitter for Android</th>        <th class=\"col_heading level0 col1\" >Twitter for iPhone</th>        <th class=\"col_heading level0 col2\" >importance</th>        <th class=\"col_heading level0 col3\" >max_prob</th>        <th class=\"col_heading level0 col4\" >Max Prob Class</th>    </tr></thead><tbody>\n",
       "                <tr>\n",
       "                        <th id=\"T_79e60054_10cb_11eb_8145_acde48001122level0_row0\" class=\"row_heading level0 row0\" >…</th>\n",
       "                        <td id=\"T_79e60054_10cb_11eb_8145_acde48001122row0_col0\" class=\"data row0 col0\" >0.015873</td>\n",
       "                        <td id=\"T_79e60054_10cb_11eb_8145_acde48001122row0_col1\" class=\"data row0 col1\" >0.984127</td>\n",
       "                        <td id=\"T_79e60054_10cb_11eb_8145_acde48001122row0_col2\" class=\"data row0 col2\" >0.056960</td>\n",
       "                        <td id=\"T_79e60054_10cb_11eb_8145_acde48001122row0_col3\" class=\"data row0 col3\" >0.984127</td>\n",
       "                        <td id=\"T_79e60054_10cb_11eb_8145_acde48001122row0_col4\" class=\"data row0 col4\" >Twitter for iPhone</td>\n",
       "            </tr>\n",
       "            <tr>\n",
       "                        <th id=\"T_79e60054_10cb_11eb_8145_acde48001122level0_row1\" class=\"row_heading level0 row1\" >rt</th>\n",
       "                        <td id=\"T_79e60054_10cb_11eb_8145_acde48001122row1_col0\" class=\"data row1 col0\" >0.527559</td>\n",
       "                        <td id=\"T_79e60054_10cb_11eb_8145_acde48001122row1_col1\" class=\"data row1 col1\" >0.472441</td>\n",
       "                        <td id=\"T_79e60054_10cb_11eb_8145_acde48001122row1_col2\" class=\"data row1 col2\" >0.049645</td>\n",
       "                        <td id=\"T_79e60054_10cb_11eb_8145_acde48001122row1_col3\" class=\"data row1 col3\" >0.527559</td>\n",
       "                        <td id=\"T_79e60054_10cb_11eb_8145_acde48001122row1_col4\" class=\"data row1 col4\" >Twitter for Android</td>\n",
       "            </tr>\n",
       "            <tr>\n",
       "                        <th id=\"T_79e60054_10cb_11eb_8145_acde48001122level0_row2\" class=\"row_heading level0 row2\" >join</th>\n",
       "                        <td id=\"T_79e60054_10cb_11eb_8145_acde48001122row2_col0\" class=\"data row2 col0\" >0.035714</td>\n",
       "                        <td id=\"T_79e60054_10cb_11eb_8145_acde48001122row2_col1\" class=\"data row2 col1\" >0.964286</td>\n",
       "                        <td id=\"T_79e60054_10cb_11eb_8145_acde48001122row2_col2\" class=\"data row2 col2\" >0.045449</td>\n",
       "                        <td id=\"T_79e60054_10cb_11eb_8145_acde48001122row2_col3\" class=\"data row2 col3\" >0.964286</td>\n",
       "                        <td id=\"T_79e60054_10cb_11eb_8145_acde48001122row2_col4\" class=\"data row2 col4\" >Twitter for iPhone</td>\n",
       "            </tr>\n",
       "            <tr>\n",
       "                        <th id=\"T_79e60054_10cb_11eb_8145_acde48001122level0_row3\" class=\"row_heading level0 row3\" >media</th>\n",
       "                        <td id=\"T_79e60054_10cb_11eb_8145_acde48001122row3_col0\" class=\"data row3 col0\" >0.885714</td>\n",
       "                        <td id=\"T_79e60054_10cb_11eb_8145_acde48001122row3_col1\" class=\"data row3 col1\" >0.114286</td>\n",
       "                        <td id=\"T_79e60054_10cb_11eb_8145_acde48001122row3_col2\" class=\"data row3 col2\" >0.028492</td>\n",
       "                        <td id=\"T_79e60054_10cb_11eb_8145_acde48001122row3_col3\" class=\"data row3 col3\" >0.885714</td>\n",
       "                        <td id=\"T_79e60054_10cb_11eb_8145_acde48001122row3_col4\" class=\"data row3 col4\" >Twitter for Android</td>\n",
       "            </tr>\n",
       "            <tr>\n",
       "                        <th id=\"T_79e60054_10cb_11eb_8145_acde48001122level0_row4\" class=\"row_heading level0 row4\" >today</th>\n",
       "                        <td id=\"T_79e60054_10cb_11eb_8145_acde48001122row4_col0\" class=\"data row4 col0\" >0.421053</td>\n",
       "                        <td id=\"T_79e60054_10cb_11eb_8145_acde48001122row4_col1\" class=\"data row4 col1\" >0.578947</td>\n",
       "                        <td id=\"T_79e60054_10cb_11eb_8145_acde48001122row4_col2\" class=\"data row4 col2\" >0.027159</td>\n",
       "                        <td id=\"T_79e60054_10cb_11eb_8145_acde48001122row4_col3\" class=\"data row4 col3\" >0.578947</td>\n",
       "                        <td id=\"T_79e60054_10cb_11eb_8145_acde48001122row4_col4\" class=\"data row4 col4\" >Twitter for iPhone</td>\n",
       "            </tr>\n",
       "            <tr>\n",
       "                        <th id=\"T_79e60054_10cb_11eb_8145_acde48001122level0_row5\" class=\"row_heading level0 row5\" >people</th>\n",
       "                        <td id=\"T_79e60054_10cb_11eb_8145_acde48001122row5_col0\" class=\"data row5 col0\" >0.880000</td>\n",
       "                        <td id=\"T_79e60054_10cb_11eb_8145_acde48001122row5_col1\" class=\"data row5 col1\" >0.120000</td>\n",
       "                        <td id=\"T_79e60054_10cb_11eb_8145_acde48001122row5_col2\" class=\"data row5 col2\" >0.025838</td>\n",
       "                        <td id=\"T_79e60054_10cb_11eb_8145_acde48001122row5_col3\" class=\"data row5 col3\" >0.880000</td>\n",
       "                        <td id=\"T_79e60054_10cb_11eb_8145_acde48001122row5_col4\" class=\"data row5 col4\" >Twitter for Android</td>\n",
       "            </tr>\n",
       "            <tr>\n",
       "                        <th id=\"T_79e60054_10cb_11eb_8145_acde48001122level0_row6\" class=\"row_heading level0 row6\" >🇸</th>\n",
       "                        <td id=\"T_79e60054_10cb_11eb_8145_acde48001122row6_col0\" class=\"data row6 col0\" >nan</td>\n",
       "                        <td id=\"T_79e60054_10cb_11eb_8145_acde48001122row6_col1\" class=\"data row6 col1\" >1.000000</td>\n",
       "                        <td id=\"T_79e60054_10cb_11eb_8145_acde48001122row6_col2\" class=\"data row6 col2\" >0.020245</td>\n",
       "                        <td id=\"T_79e60054_10cb_11eb_8145_acde48001122row6_col3\" class=\"data row6 col3\" >1.000000</td>\n",
       "                        <td id=\"T_79e60054_10cb_11eb_8145_acde48001122row6_col4\" class=\"data row6 col4\" >Twitter for iPhone</td>\n",
       "            </tr>\n",
       "            <tr>\n",
       "                        <th id=\"T_79e60054_10cb_11eb_8145_acde48001122level0_row7\" class=\"row_heading level0 row7\" >election</th>\n",
       "                        <td id=\"T_79e60054_10cb_11eb_8145_acde48001122row7_col0\" class=\"data row7 col0\" >0.870968</td>\n",
       "                        <td id=\"T_79e60054_10cb_11eb_8145_acde48001122row7_col1\" class=\"data row7 col1\" >0.129032</td>\n",
       "                        <td id=\"T_79e60054_10cb_11eb_8145_acde48001122row7_col2\" class=\"data row7 col2\" >0.019426</td>\n",
       "                        <td id=\"T_79e60054_10cb_11eb_8145_acde48001122row7_col3\" class=\"data row7 col3\" >0.870968</td>\n",
       "                        <td id=\"T_79e60054_10cb_11eb_8145_acde48001122row7_col4\" class=\"data row7 col4\" >Twitter for Android</td>\n",
       "            </tr>\n",
       "            <tr>\n",
       "                        <th id=\"T_79e60054_10cb_11eb_8145_acde48001122level0_row8\" class=\"row_heading level0 row8\" >trump</th>\n",
       "                        <td id=\"T_79e60054_10cb_11eb_8145_acde48001122row8_col0\" class=\"data row8 col0\" >0.303571</td>\n",
       "                        <td id=\"T_79e60054_10cb_11eb_8145_acde48001122row8_col1\" class=\"data row8 col1\" >0.696429</td>\n",
       "                        <td id=\"T_79e60054_10cb_11eb_8145_acde48001122row8_col2\" class=\"data row8 col2\" >0.018401</td>\n",
       "                        <td id=\"T_79e60054_10cb_11eb_8145_acde48001122row8_col3\" class=\"data row8 col3\" >0.696429</td>\n",
       "                        <td id=\"T_79e60054_10cb_11eb_8145_acde48001122row8_col4\" class=\"data row8 col4\" >Twitter for iPhone</td>\n",
       "            </tr>\n",
       "            <tr>\n",
       "                        <th id=\"T_79e60054_10cb_11eb_8145_acde48001122level0_row9\" class=\"row_heading level0 row9\" >:/</th>\n",
       "                        <td id=\"T_79e60054_10cb_11eb_8145_acde48001122row9_col0\" class=\"data row9 col0\" >0.023952</td>\n",
       "                        <td id=\"T_79e60054_10cb_11eb_8145_acde48001122row9_col1\" class=\"data row9 col1\" >0.976048</td>\n",
       "                        <td id=\"T_79e60054_10cb_11eb_8145_acde48001122row9_col2\" class=\"data row9 col2\" >0.015710</td>\n",
       "                        <td id=\"T_79e60054_10cb_11eb_8145_acde48001122row9_col3\" class=\"data row9 col3\" >0.976048</td>\n",
       "                        <td id=\"T_79e60054_10cb_11eb_8145_acde48001122row9_col4\" class=\"data row9 col4\" >Twitter for iPhone</td>\n",
       "            </tr>\n",
       "            <tr>\n",
       "                        <th id=\"T_79e60054_10cb_11eb_8145_acde48001122level0_row10\" class=\"row_heading level0 row10\" >@whitehouse</th>\n",
       "                        <td id=\"T_79e60054_10cb_11eb_8145_acde48001122row10_col0\" class=\"data row10 col0\" >nan</td>\n",
       "                        <td id=\"T_79e60054_10cb_11eb_8145_acde48001122row10_col1\" class=\"data row10 col1\" >1.000000</td>\n",
       "                        <td id=\"T_79e60054_10cb_11eb_8145_acde48001122row10_col2\" class=\"data row10 col2\" >0.013524</td>\n",
       "                        <td id=\"T_79e60054_10cb_11eb_8145_acde48001122row10_col3\" class=\"data row10 col3\" >1.000000</td>\n",
       "                        <td id=\"T_79e60054_10cb_11eb_8145_acde48001122row10_col4\" class=\"data row10 col4\" >Twitter for iPhone</td>\n",
       "            </tr>\n",
       "            <tr>\n",
       "                        <th id=\"T_79e60054_10cb_11eb_8145_acde48001122level0_row11\" class=\"row_heading level0 row11\" >🇺</th>\n",
       "                        <td id=\"T_79e60054_10cb_11eb_8145_acde48001122row11_col0\" class=\"data row11 col0\" >nan</td>\n",
       "                        <td id=\"T_79e60054_10cb_11eb_8145_acde48001122row11_col1\" class=\"data row11 col1\" >1.000000</td>\n",
       "                        <td id=\"T_79e60054_10cb_11eb_8145_acde48001122row11_col2\" class=\"data row11 col2\" >0.012103</td>\n",
       "                        <td id=\"T_79e60054_10cb_11eb_8145_acde48001122row11_col3\" class=\"data row11 col3\" >1.000000</td>\n",
       "                        <td id=\"T_79e60054_10cb_11eb_8145_acde48001122row11_col4\" class=\"data row11 col4\" >Twitter for iPhone</td>\n",
       "            </tr>\n",
       "            <tr>\n",
       "                        <th id=\"T_79e60054_10cb_11eb_8145_acde48001122level0_row12\" class=\"row_heading level0 row12\" >jobs</th>\n",
       "                        <td id=\"T_79e60054_10cb_11eb_8145_acde48001122row12_col0\" class=\"data row12 col0\" >0.468750</td>\n",
       "                        <td id=\"T_79e60054_10cb_11eb_8145_acde48001122row12_col1\" class=\"data row12 col1\" >0.531250</td>\n",
       "                        <td id=\"T_79e60054_10cb_11eb_8145_acde48001122row12_col2\" class=\"data row12 col2\" >0.011603</td>\n",
       "                        <td id=\"T_79e60054_10cb_11eb_8145_acde48001122row12_col3\" class=\"data row12 col3\" >0.531250</td>\n",
       "                        <td id=\"T_79e60054_10cb_11eb_8145_acde48001122row12_col4\" class=\"data row12 col4\" >Twitter for iPhone</td>\n",
       "            </tr>\n",
       "            <tr>\n",
       "                        <th id=\"T_79e60054_10cb_11eb_8145_acde48001122level0_row13\" class=\"row_heading level0 row13\" >u</th>\n",
       "                        <td id=\"T_79e60054_10cb_11eb_8145_acde48001122row13_col0\" class=\"data row13 col0\" >0.602170</td>\n",
       "                        <td id=\"T_79e60054_10cb_11eb_8145_acde48001122row13_col1\" class=\"data row13 col1\" >0.397830</td>\n",
       "                        <td id=\"T_79e60054_10cb_11eb_8145_acde48001122row13_col2\" class=\"data row13 col2\" >0.007165</td>\n",
       "                        <td id=\"T_79e60054_10cb_11eb_8145_acde48001122row13_col3\" class=\"data row13 col3\" >0.602170</td>\n",
       "                        <td id=\"T_79e60054_10cb_11eb_8145_acde48001122row13_col4\" class=\"data row13 col4\" >Twitter for Android</td>\n",
       "            </tr>\n",
       "            <tr>\n",
       "                        <th id=\"T_79e60054_10cb_11eb_8145_acde48001122level0_row14\" class=\"row_heading level0 row14\" >thank</th>\n",
       "                        <td id=\"T_79e60054_10cb_11eb_8145_acde48001122row14_col0\" class=\"data row14 col0\" >0.360656</td>\n",
       "                        <td id=\"T_79e60054_10cb_11eb_8145_acde48001122row14_col1\" class=\"data row14 col1\" >0.639344</td>\n",
       "                        <td id=\"T_79e60054_10cb_11eb_8145_acde48001122row14_col2\" class=\"data row14 col2\" >0.006575</td>\n",
       "                        <td id=\"T_79e60054_10cb_11eb_8145_acde48001122row14_col3\" class=\"data row14 col3\" >0.639344</td>\n",
       "                        <td id=\"T_79e60054_10cb_11eb_8145_acde48001122row14_col4\" class=\"data row14 col4\" >Twitter for iPhone</td>\n",
       "            </tr>\n",
       "            <tr>\n",
       "                        <th id=\"T_79e60054_10cb_11eb_8145_acde48001122level0_row15\" class=\"row_heading level0 row15\" >congratulations</th>\n",
       "                        <td id=\"T_79e60054_10cb_11eb_8145_acde48001122row15_col0\" class=\"data row15 col0\" >0.333333</td>\n",
       "                        <td id=\"T_79e60054_10cb_11eb_8145_acde48001122row15_col1\" class=\"data row15 col1\" >0.666667</td>\n",
       "                        <td id=\"T_79e60054_10cb_11eb_8145_acde48001122row15_col2\" class=\"data row15 col2\" >0.003490</td>\n",
       "                        <td id=\"T_79e60054_10cb_11eb_8145_acde48001122row15_col3\" class=\"data row15 col3\" >0.666667</td>\n",
       "                        <td id=\"T_79e60054_10cb_11eb_8145_acde48001122row15_col4\" class=\"data row15 col4\" >Twitter for iPhone</td>\n",
       "            </tr>\n",
       "            <tr>\n",
       "                        <th id=\"T_79e60054_10cb_11eb_8145_acde48001122level0_row16\" class=\"row_heading level0 row16\" >country</th>\n",
       "                        <td id=\"T_79e60054_10cb_11eb_8145_acde48001122row16_col0\" class=\"data row16 col0\" >0.862069</td>\n",
       "                        <td id=\"T_79e60054_10cb_11eb_8145_acde48001122row16_col1\" class=\"data row16 col1\" >0.137931</td>\n",
       "                        <td id=\"T_79e60054_10cb_11eb_8145_acde48001122row16_col2\" class=\"data row16 col2\" >0.000853</td>\n",
       "                        <td id=\"T_79e60054_10cb_11eb_8145_acde48001122row16_col3\" class=\"data row16 col3\" >0.862069</td>\n",
       "                        <td id=\"T_79e60054_10cb_11eb_8145_acde48001122row16_col4\" class=\"data row16 col4\" >Twitter for Android</td>\n",
       "            </tr>\n",
       "            <tr>\n",
       "                        <th id=\"T_79e60054_10cb_11eb_8145_acde48001122level0_row17\" class=\"row_heading level0 row17\" >great</th>\n",
       "                        <td id=\"T_79e60054_10cb_11eb_8145_acde48001122row17_col0\" class=\"data row17 col0\" >0.572917</td>\n",
       "                        <td id=\"T_79e60054_10cb_11eb_8145_acde48001122row17_col1\" class=\"data row17 col1\" >0.427083</td>\n",
       "                        <td id=\"T_79e60054_10cb_11eb_8145_acde48001122row17_col2\" class=\"data row17 col2\" >0.000172</td>\n",
       "                        <td id=\"T_79e60054_10cb_11eb_8145_acde48001122row17_col3\" class=\"data row17 col3\" >0.572917</td>\n",
       "                        <td id=\"T_79e60054_10cb_11eb_8145_acde48001122row17_col4\" class=\"data row17 col4\" >Twitter for Android</td>\n",
       "            </tr>\n",
       "            <tr>\n",
       "                        <th id=\"T_79e60054_10cb_11eb_8145_acde48001122level0_row18\" class=\"row_heading level0 row18\" >time</th>\n",
       "                        <td id=\"T_79e60054_10cb_11eb_8145_acde48001122row18_col0\" class=\"data row18 col0\" >0.813953</td>\n",
       "                        <td id=\"T_79e60054_10cb_11eb_8145_acde48001122row18_col1\" class=\"data row18 col1\" >0.186047</td>\n",
       "                        <td id=\"T_79e60054_10cb_11eb_8145_acde48001122row18_col2\" class=\"data row18 col2\" >0.000000</td>\n",
       "                        <td id=\"T_79e60054_10cb_11eb_8145_acde48001122row18_col3\" class=\"data row18 col3\" >0.813953</td>\n",
       "                        <td id=\"T_79e60054_10cb_11eb_8145_acde48001122row18_col4\" class=\"data row18 col4\" >Twitter for Android</td>\n",
       "            </tr>\n",
       "            <tr>\n",
       "                        <th id=\"T_79e60054_10cb_11eb_8145_acde48001122level0_row19\" class=\"row_heading level0 row19\" >big</th>\n",
       "                        <td id=\"T_79e60054_10cb_11eb_8145_acde48001122row19_col0\" class=\"data row19 col0\" >0.820513</td>\n",
       "                        <td id=\"T_79e60054_10cb_11eb_8145_acde48001122row19_col1\" class=\"data row19 col1\" >0.179487</td>\n",
       "                        <td id=\"T_79e60054_10cb_11eb_8145_acde48001122row19_col2\" class=\"data row19 col2\" >0.000000</td>\n",
       "                        <td id=\"T_79e60054_10cb_11eb_8145_acde48001122row19_col3\" class=\"data row19 col3\" >0.820513</td>\n",
       "                        <td id=\"T_79e60054_10cb_11eb_8145_acde48001122row19_col4\" class=\"data row19 col4\" >Twitter for Android</td>\n",
       "            </tr>\n",
       "    </tbody></table>"
      ],
      "text/plain": [
       "<pandas.io.formats.style.Styler at 0x7ff45b0c1f98>"
      ]
     },
     "execution_count": 72,
     "metadata": {},
     "output_type": "execute_result"
    }
   ],
   "source": [
    "## Summary Table with Most Frequent Words \n",
    "prob_cols =['Twitter for Android','Twitter for iPhone']\n",
    "top_probs['importance'] = importance.loc[top_probs.index]\n",
    "\n",
    "top_probs['max_prob'] = top_probs[prob_cols].max(axis=1)\n",
    "top_probs['Max Prob Class'] = top_probs[prob_cols].idxmax(axis=1)\n",
    "top_probs.sort_values('importance',0,0,inplace=True)\n",
    "top_probs.style.bar('importance')\\\n",
    "                    .background_gradient(subset=['max_prob'])\\\n",
    "                    .highlight_max(subset=prob_cols,axis=1,color='lightgreen')\n",
    "#.background_gradient(subset=prob_cols,axis=1,cmap='Reds')"
   ]
  },
  {
   "cell_type": "code",
   "execution_count": null,
   "metadata": {},
   "outputs": [],
   "source": []
  },
  {
   "cell_type": "code",
   "execution_count": 73,
   "metadata": {
    "ExecuteTime": {
     "end_time": "2020-10-17T22:52:47.481561Z",
     "start_time": "2020-10-17T22:52:47.458342Z"
    }
   },
   "outputs": [
    {
     "data": {
      "text/html": [
       "<style  type=\"text/css\" >\n",
       "#T_79e99b1a_10cb_11eb_831c_acde48001122row0_col1{\n",
       "            background-color:  #034165;\n",
       "            color:  #f1f1f1;\n",
       "        }#T_79e99b1a_10cb_11eb_831c_acde48001122row0_col2{\n",
       "            width:  10em;\n",
       "             height:  80%;\n",
       "            background:  linear-gradient(90deg,#d65f5f 100.0%, transparent 100.0%);\n",
       "        }#T_79e99b1a_10cb_11eb_831c_acde48001122row1_col1{\n",
       "            background-color:  #fff7fb;\n",
       "            color:  #000000;\n",
       "        }#T_79e99b1a_10cb_11eb_831c_acde48001122row1_col2{\n",
       "            width:  10em;\n",
       "             height:  80%;\n",
       "            background:  linear-gradient(90deg,#d65f5f 87.2%, transparent 87.2%);\n",
       "        }#T_79e99b1a_10cb_11eb_831c_acde48001122row2_col1{\n",
       "            background-color:  #034c78;\n",
       "            color:  #f1f1f1;\n",
       "        }#T_79e99b1a_10cb_11eb_831c_acde48001122row2_col2{\n",
       "            width:  10em;\n",
       "             height:  80%;\n",
       "            background:  linear-gradient(90deg,#d65f5f 79.8%, transparent 79.8%);\n",
       "        }#T_79e99b1a_10cb_11eb_831c_acde48001122row3_col1{\n",
       "            background-color:  #056ead;\n",
       "            color:  #f1f1f1;\n",
       "        }#T_79e99b1a_10cb_11eb_831c_acde48001122row3_col2{\n",
       "            width:  10em;\n",
       "             height:  80%;\n",
       "            background:  linear-gradient(90deg,#d65f5f 50.0%, transparent 50.0%);\n",
       "        }#T_79e99b1a_10cb_11eb_831c_acde48001122row4_col1{\n",
       "            background-color:  #efe9f3;\n",
       "            color:  #000000;\n",
       "        }#T_79e99b1a_10cb_11eb_831c_acde48001122row4_col2{\n",
       "            width:  10em;\n",
       "             height:  80%;\n",
       "            background:  linear-gradient(90deg,#d65f5f 47.7%, transparent 47.7%);\n",
       "        }#T_79e99b1a_10cb_11eb_831c_acde48001122row5_col1{\n",
       "            background-color:  #0771b1;\n",
       "            color:  #f1f1f1;\n",
       "        }#T_79e99b1a_10cb_11eb_831c_acde48001122row5_col2{\n",
       "            width:  10em;\n",
       "             height:  80%;\n",
       "            background:  linear-gradient(90deg,#d65f5f 45.4%, transparent 45.4%);\n",
       "        }#T_79e99b1a_10cb_11eb_831c_acde48001122row6_col1,#T_79e99b1a_10cb_11eb_831c_acde48001122row10_col1,#T_79e99b1a_10cb_11eb_831c_acde48001122row11_col1{\n",
       "            background-color:  #023858;\n",
       "            color:  #f1f1f1;\n",
       "        }#T_79e99b1a_10cb_11eb_831c_acde48001122row6_col2{\n",
       "            width:  10em;\n",
       "             height:  80%;\n",
       "            background:  linear-gradient(90deg,#d65f5f 35.5%, transparent 35.5%);\n",
       "        }#T_79e99b1a_10cb_11eb_831c_acde48001122row7_col1{\n",
       "            background-color:  #0d75b3;\n",
       "            color:  #f1f1f1;\n",
       "        }#T_79e99b1a_10cb_11eb_831c_acde48001122row7_col2{\n",
       "            width:  10em;\n",
       "             height:  80%;\n",
       "            background:  linear-gradient(90deg,#d65f5f 34.1%, transparent 34.1%);\n",
       "        }#T_79e99b1a_10cb_11eb_831c_acde48001122row8_col1{\n",
       "            background-color:  #acc0dd;\n",
       "            color:  #000000;\n",
       "        }#T_79e99b1a_10cb_11eb_831c_acde48001122row8_col2{\n",
       "            width:  10em;\n",
       "             height:  80%;\n",
       "            background:  linear-gradient(90deg,#d65f5f 32.3%, transparent 32.3%);\n",
       "        }#T_79e99b1a_10cb_11eb_831c_acde48001122row9_col1{\n",
       "            background-color:  #03456c;\n",
       "            color:  #f1f1f1;\n",
       "        }#T_79e99b1a_10cb_11eb_831c_acde48001122row9_col2{\n",
       "            width:  10em;\n",
       "             height:  80%;\n",
       "            background:  linear-gradient(90deg,#d65f5f 27.6%, transparent 27.6%);\n",
       "        }#T_79e99b1a_10cb_11eb_831c_acde48001122row10_col2{\n",
       "            width:  10em;\n",
       "             height:  80%;\n",
       "            background:  linear-gradient(90deg,#d65f5f 23.7%, transparent 23.7%);\n",
       "        }#T_79e99b1a_10cb_11eb_831c_acde48001122row11_col2{\n",
       "            width:  10em;\n",
       "             height:  80%;\n",
       "            background:  linear-gradient(90deg,#d65f5f 21.2%, transparent 21.2%);\n",
       "        }#T_79e99b1a_10cb_11eb_831c_acde48001122row12_col1{\n",
       "            background-color:  #fef6fa;\n",
       "            color:  #000000;\n",
       "        }#T_79e99b1a_10cb_11eb_831c_acde48001122row12_col2{\n",
       "            width:  10em;\n",
       "             height:  80%;\n",
       "            background:  linear-gradient(90deg,#d65f5f 20.4%, transparent 20.4%);\n",
       "        }#T_79e99b1a_10cb_11eb_831c_acde48001122row13_col1{\n",
       "            background-color:  #e5e1ef;\n",
       "            color:  #000000;\n",
       "        }#T_79e99b1a_10cb_11eb_831c_acde48001122row13_col2{\n",
       "            width:  10em;\n",
       "             height:  80%;\n",
       "            background:  linear-gradient(90deg,#d65f5f 12.6%, transparent 12.6%);\n",
       "        }#T_79e99b1a_10cb_11eb_831c_acde48001122row14_col1{\n",
       "            background-color:  #d3d4e7;\n",
       "            color:  #000000;\n",
       "        }#T_79e99b1a_10cb_11eb_831c_acde48001122row14_col2{\n",
       "            width:  10em;\n",
       "             height:  80%;\n",
       "            background:  linear-gradient(90deg,#d65f5f 11.5%, transparent 11.5%);\n",
       "        }#T_79e99b1a_10cb_11eb_831c_acde48001122row15_col1{\n",
       "            background-color:  #c1cae2;\n",
       "            color:  #000000;\n",
       "        }#T_79e99b1a_10cb_11eb_831c_acde48001122row15_col2{\n",
       "            width:  10em;\n",
       "             height:  80%;\n",
       "            background:  linear-gradient(90deg,#d65f5f 6.1%, transparent 6.1%);\n",
       "        }#T_79e99b1a_10cb_11eb_831c_acde48001122row16_col1{\n",
       "            background-color:  #157ab5;\n",
       "            color:  #000000;\n",
       "        }#T_79e99b1a_10cb_11eb_831c_acde48001122row16_col2{\n",
       "            width:  10em;\n",
       "             height:  80%;\n",
       "            background:  linear-gradient(90deg,#d65f5f 1.5%, transparent 1.5%);\n",
       "        }#T_79e99b1a_10cb_11eb_831c_acde48001122row17_col1{\n",
       "            background-color:  #f1ebf4;\n",
       "            color:  #000000;\n",
       "        }#T_79e99b1a_10cb_11eb_831c_acde48001122row17_col2{\n",
       "            width:  10em;\n",
       "             height:  80%;\n",
       "            background:  linear-gradient(90deg,#d65f5f 0.3%, transparent 0.3%);\n",
       "        }#T_79e99b1a_10cb_11eb_831c_acde48001122row18_col1{\n",
       "            background-color:  #3f93c2;\n",
       "            color:  #000000;\n",
       "        }#T_79e99b1a_10cb_11eb_831c_acde48001122row18_col2,#T_79e99b1a_10cb_11eb_831c_acde48001122row19_col2{\n",
       "            width:  10em;\n",
       "             height:  80%;\n",
       "        }#T_79e99b1a_10cb_11eb_831c_acde48001122row19_col1{\n",
       "            background-color:  #3991c1;\n",
       "            color:  #000000;\n",
       "        }</style><table id=\"T_79e99b1a_10cb_11eb_831c_acde48001122\" ><thead>    <tr>        <th class=\"blank level0\" ></th>        <th class=\"col_heading level0 col0\" >Max Prob Class</th>        <th class=\"col_heading level0 col1\" >max_prob</th>        <th class=\"col_heading level0 col2\" >importance</th>    </tr></thead><tbody>\n",
       "                <tr>\n",
       "                        <th id=\"T_79e99b1a_10cb_11eb_831c_acde48001122level0_row0\" class=\"row_heading level0 row0\" >…</th>\n",
       "                        <td id=\"T_79e99b1a_10cb_11eb_831c_acde48001122row0_col0\" class=\"data row0 col0\" >Twitter for iPhone</td>\n",
       "                        <td id=\"T_79e99b1a_10cb_11eb_831c_acde48001122row0_col1\" class=\"data row0 col1\" >0.984127</td>\n",
       "                        <td id=\"T_79e99b1a_10cb_11eb_831c_acde48001122row0_col2\" class=\"data row0 col2\" >0.056960</td>\n",
       "            </tr>\n",
       "            <tr>\n",
       "                        <th id=\"T_79e99b1a_10cb_11eb_831c_acde48001122level0_row1\" class=\"row_heading level0 row1\" >rt</th>\n",
       "                        <td id=\"T_79e99b1a_10cb_11eb_831c_acde48001122row1_col0\" class=\"data row1 col0\" >Twitter for Android</td>\n",
       "                        <td id=\"T_79e99b1a_10cb_11eb_831c_acde48001122row1_col1\" class=\"data row1 col1\" >0.527559</td>\n",
       "                        <td id=\"T_79e99b1a_10cb_11eb_831c_acde48001122row1_col2\" class=\"data row1 col2\" >0.049645</td>\n",
       "            </tr>\n",
       "            <tr>\n",
       "                        <th id=\"T_79e99b1a_10cb_11eb_831c_acde48001122level0_row2\" class=\"row_heading level0 row2\" >join</th>\n",
       "                        <td id=\"T_79e99b1a_10cb_11eb_831c_acde48001122row2_col0\" class=\"data row2 col0\" >Twitter for iPhone</td>\n",
       "                        <td id=\"T_79e99b1a_10cb_11eb_831c_acde48001122row2_col1\" class=\"data row2 col1\" >0.964286</td>\n",
       "                        <td id=\"T_79e99b1a_10cb_11eb_831c_acde48001122row2_col2\" class=\"data row2 col2\" >0.045449</td>\n",
       "            </tr>\n",
       "            <tr>\n",
       "                        <th id=\"T_79e99b1a_10cb_11eb_831c_acde48001122level0_row3\" class=\"row_heading level0 row3\" >media</th>\n",
       "                        <td id=\"T_79e99b1a_10cb_11eb_831c_acde48001122row3_col0\" class=\"data row3 col0\" >Twitter for Android</td>\n",
       "                        <td id=\"T_79e99b1a_10cb_11eb_831c_acde48001122row3_col1\" class=\"data row3 col1\" >0.885714</td>\n",
       "                        <td id=\"T_79e99b1a_10cb_11eb_831c_acde48001122row3_col2\" class=\"data row3 col2\" >0.028492</td>\n",
       "            </tr>\n",
       "            <tr>\n",
       "                        <th id=\"T_79e99b1a_10cb_11eb_831c_acde48001122level0_row4\" class=\"row_heading level0 row4\" >today</th>\n",
       "                        <td id=\"T_79e99b1a_10cb_11eb_831c_acde48001122row4_col0\" class=\"data row4 col0\" >Twitter for iPhone</td>\n",
       "                        <td id=\"T_79e99b1a_10cb_11eb_831c_acde48001122row4_col1\" class=\"data row4 col1\" >0.578947</td>\n",
       "                        <td id=\"T_79e99b1a_10cb_11eb_831c_acde48001122row4_col2\" class=\"data row4 col2\" >0.027159</td>\n",
       "            </tr>\n",
       "            <tr>\n",
       "                        <th id=\"T_79e99b1a_10cb_11eb_831c_acde48001122level0_row5\" class=\"row_heading level0 row5\" >people</th>\n",
       "                        <td id=\"T_79e99b1a_10cb_11eb_831c_acde48001122row5_col0\" class=\"data row5 col0\" >Twitter for Android</td>\n",
       "                        <td id=\"T_79e99b1a_10cb_11eb_831c_acde48001122row5_col1\" class=\"data row5 col1\" >0.880000</td>\n",
       "                        <td id=\"T_79e99b1a_10cb_11eb_831c_acde48001122row5_col2\" class=\"data row5 col2\" >0.025838</td>\n",
       "            </tr>\n",
       "            <tr>\n",
       "                        <th id=\"T_79e99b1a_10cb_11eb_831c_acde48001122level0_row6\" class=\"row_heading level0 row6\" >🇸</th>\n",
       "                        <td id=\"T_79e99b1a_10cb_11eb_831c_acde48001122row6_col0\" class=\"data row6 col0\" >Twitter for iPhone</td>\n",
       "                        <td id=\"T_79e99b1a_10cb_11eb_831c_acde48001122row6_col1\" class=\"data row6 col1\" >1.000000</td>\n",
       "                        <td id=\"T_79e99b1a_10cb_11eb_831c_acde48001122row6_col2\" class=\"data row6 col2\" >0.020245</td>\n",
       "            </tr>\n",
       "            <tr>\n",
       "                        <th id=\"T_79e99b1a_10cb_11eb_831c_acde48001122level0_row7\" class=\"row_heading level0 row7\" >election</th>\n",
       "                        <td id=\"T_79e99b1a_10cb_11eb_831c_acde48001122row7_col0\" class=\"data row7 col0\" >Twitter for Android</td>\n",
       "                        <td id=\"T_79e99b1a_10cb_11eb_831c_acde48001122row7_col1\" class=\"data row7 col1\" >0.870968</td>\n",
       "                        <td id=\"T_79e99b1a_10cb_11eb_831c_acde48001122row7_col2\" class=\"data row7 col2\" >0.019426</td>\n",
       "            </tr>\n",
       "            <tr>\n",
       "                        <th id=\"T_79e99b1a_10cb_11eb_831c_acde48001122level0_row8\" class=\"row_heading level0 row8\" >trump</th>\n",
       "                        <td id=\"T_79e99b1a_10cb_11eb_831c_acde48001122row8_col0\" class=\"data row8 col0\" >Twitter for iPhone</td>\n",
       "                        <td id=\"T_79e99b1a_10cb_11eb_831c_acde48001122row8_col1\" class=\"data row8 col1\" >0.696429</td>\n",
       "                        <td id=\"T_79e99b1a_10cb_11eb_831c_acde48001122row8_col2\" class=\"data row8 col2\" >0.018401</td>\n",
       "            </tr>\n",
       "            <tr>\n",
       "                        <th id=\"T_79e99b1a_10cb_11eb_831c_acde48001122level0_row9\" class=\"row_heading level0 row9\" >:/</th>\n",
       "                        <td id=\"T_79e99b1a_10cb_11eb_831c_acde48001122row9_col0\" class=\"data row9 col0\" >Twitter for iPhone</td>\n",
       "                        <td id=\"T_79e99b1a_10cb_11eb_831c_acde48001122row9_col1\" class=\"data row9 col1\" >0.976048</td>\n",
       "                        <td id=\"T_79e99b1a_10cb_11eb_831c_acde48001122row9_col2\" class=\"data row9 col2\" >0.015710</td>\n",
       "            </tr>\n",
       "            <tr>\n",
       "                        <th id=\"T_79e99b1a_10cb_11eb_831c_acde48001122level0_row10\" class=\"row_heading level0 row10\" >@whitehouse</th>\n",
       "                        <td id=\"T_79e99b1a_10cb_11eb_831c_acde48001122row10_col0\" class=\"data row10 col0\" >Twitter for iPhone</td>\n",
       "                        <td id=\"T_79e99b1a_10cb_11eb_831c_acde48001122row10_col1\" class=\"data row10 col1\" >1.000000</td>\n",
       "                        <td id=\"T_79e99b1a_10cb_11eb_831c_acde48001122row10_col2\" class=\"data row10 col2\" >0.013524</td>\n",
       "            </tr>\n",
       "            <tr>\n",
       "                        <th id=\"T_79e99b1a_10cb_11eb_831c_acde48001122level0_row11\" class=\"row_heading level0 row11\" >🇺</th>\n",
       "                        <td id=\"T_79e99b1a_10cb_11eb_831c_acde48001122row11_col0\" class=\"data row11 col0\" >Twitter for iPhone</td>\n",
       "                        <td id=\"T_79e99b1a_10cb_11eb_831c_acde48001122row11_col1\" class=\"data row11 col1\" >1.000000</td>\n",
       "                        <td id=\"T_79e99b1a_10cb_11eb_831c_acde48001122row11_col2\" class=\"data row11 col2\" >0.012103</td>\n",
       "            </tr>\n",
       "            <tr>\n",
       "                        <th id=\"T_79e99b1a_10cb_11eb_831c_acde48001122level0_row12\" class=\"row_heading level0 row12\" >jobs</th>\n",
       "                        <td id=\"T_79e99b1a_10cb_11eb_831c_acde48001122row12_col0\" class=\"data row12 col0\" >Twitter for iPhone</td>\n",
       "                        <td id=\"T_79e99b1a_10cb_11eb_831c_acde48001122row12_col1\" class=\"data row12 col1\" >0.531250</td>\n",
       "                        <td id=\"T_79e99b1a_10cb_11eb_831c_acde48001122row12_col2\" class=\"data row12 col2\" >0.011603</td>\n",
       "            </tr>\n",
       "            <tr>\n",
       "                        <th id=\"T_79e99b1a_10cb_11eb_831c_acde48001122level0_row13\" class=\"row_heading level0 row13\" >u</th>\n",
       "                        <td id=\"T_79e99b1a_10cb_11eb_831c_acde48001122row13_col0\" class=\"data row13 col0\" >Twitter for Android</td>\n",
       "                        <td id=\"T_79e99b1a_10cb_11eb_831c_acde48001122row13_col1\" class=\"data row13 col1\" >0.602170</td>\n",
       "                        <td id=\"T_79e99b1a_10cb_11eb_831c_acde48001122row13_col2\" class=\"data row13 col2\" >0.007165</td>\n",
       "            </tr>\n",
       "            <tr>\n",
       "                        <th id=\"T_79e99b1a_10cb_11eb_831c_acde48001122level0_row14\" class=\"row_heading level0 row14\" >thank</th>\n",
       "                        <td id=\"T_79e99b1a_10cb_11eb_831c_acde48001122row14_col0\" class=\"data row14 col0\" >Twitter for iPhone</td>\n",
       "                        <td id=\"T_79e99b1a_10cb_11eb_831c_acde48001122row14_col1\" class=\"data row14 col1\" >0.639344</td>\n",
       "                        <td id=\"T_79e99b1a_10cb_11eb_831c_acde48001122row14_col2\" class=\"data row14 col2\" >0.006575</td>\n",
       "            </tr>\n",
       "            <tr>\n",
       "                        <th id=\"T_79e99b1a_10cb_11eb_831c_acde48001122level0_row15\" class=\"row_heading level0 row15\" >congratulations</th>\n",
       "                        <td id=\"T_79e99b1a_10cb_11eb_831c_acde48001122row15_col0\" class=\"data row15 col0\" >Twitter for iPhone</td>\n",
       "                        <td id=\"T_79e99b1a_10cb_11eb_831c_acde48001122row15_col1\" class=\"data row15 col1\" >0.666667</td>\n",
       "                        <td id=\"T_79e99b1a_10cb_11eb_831c_acde48001122row15_col2\" class=\"data row15 col2\" >0.003490</td>\n",
       "            </tr>\n",
       "            <tr>\n",
       "                        <th id=\"T_79e99b1a_10cb_11eb_831c_acde48001122level0_row16\" class=\"row_heading level0 row16\" >country</th>\n",
       "                        <td id=\"T_79e99b1a_10cb_11eb_831c_acde48001122row16_col0\" class=\"data row16 col0\" >Twitter for Android</td>\n",
       "                        <td id=\"T_79e99b1a_10cb_11eb_831c_acde48001122row16_col1\" class=\"data row16 col1\" >0.862069</td>\n",
       "                        <td id=\"T_79e99b1a_10cb_11eb_831c_acde48001122row16_col2\" class=\"data row16 col2\" >0.000853</td>\n",
       "            </tr>\n",
       "            <tr>\n",
       "                        <th id=\"T_79e99b1a_10cb_11eb_831c_acde48001122level0_row17\" class=\"row_heading level0 row17\" >great</th>\n",
       "                        <td id=\"T_79e99b1a_10cb_11eb_831c_acde48001122row17_col0\" class=\"data row17 col0\" >Twitter for Android</td>\n",
       "                        <td id=\"T_79e99b1a_10cb_11eb_831c_acde48001122row17_col1\" class=\"data row17 col1\" >0.572917</td>\n",
       "                        <td id=\"T_79e99b1a_10cb_11eb_831c_acde48001122row17_col2\" class=\"data row17 col2\" >0.000172</td>\n",
       "            </tr>\n",
       "            <tr>\n",
       "                        <th id=\"T_79e99b1a_10cb_11eb_831c_acde48001122level0_row18\" class=\"row_heading level0 row18\" >time</th>\n",
       "                        <td id=\"T_79e99b1a_10cb_11eb_831c_acde48001122row18_col0\" class=\"data row18 col0\" >Twitter for Android</td>\n",
       "                        <td id=\"T_79e99b1a_10cb_11eb_831c_acde48001122row18_col1\" class=\"data row18 col1\" >0.813953</td>\n",
       "                        <td id=\"T_79e99b1a_10cb_11eb_831c_acde48001122row18_col2\" class=\"data row18 col2\" >0.000000</td>\n",
       "            </tr>\n",
       "            <tr>\n",
       "                        <th id=\"T_79e99b1a_10cb_11eb_831c_acde48001122level0_row19\" class=\"row_heading level0 row19\" >big</th>\n",
       "                        <td id=\"T_79e99b1a_10cb_11eb_831c_acde48001122row19_col0\" class=\"data row19 col0\" >Twitter for Android</td>\n",
       "                        <td id=\"T_79e99b1a_10cb_11eb_831c_acde48001122row19_col1\" class=\"data row19 col1\" >0.820513</td>\n",
       "                        <td id=\"T_79e99b1a_10cb_11eb_831c_acde48001122row19_col2\" class=\"data row19 col2\" >0.000000</td>\n",
       "            </tr>\n",
       "    </tbody></table>"
      ],
      "text/plain": [
       "<pandas.io.formats.style.Styler at 0x7ff45b63c438>"
      ]
     },
     "metadata": {},
     "output_type": "display_data"
    },
    {
     "data": {
      "text/plain": [
       "Twitter for iPhone     0.55\n",
       "Twitter for Android    0.45\n",
       "Name: Max Prob Class, dtype: float64"
      ]
     },
     "execution_count": 73,
     "metadata": {},
     "output_type": "execute_result"
    }
   ],
   "source": [
    "results = top_probs[['Max Prob Class','max_prob','importance']]\n",
    "display(results.style.bar('importance').background_gradient(subset=['max_prob']))\n",
    "results['Max Prob Class'].value_counts(1)\n"
   ]
  },
  {
   "cell_type": "markdown",
   "metadata": {},
   "source": [
    "### Interactive Tokenizer Example"
   ]
  },
  {
   "cell_type": "code",
   "execution_count": 74,
   "metadata": {
    "ExecuteTime": {
     "end_time": "2020-10-17T22:52:47.509434Z",
     "start_time": "2020-10-17T22:52:47.483975Z"
    }
   },
   "outputs": [
    {
     "data": {
      "application/vnd.jupyter.widget-view+json": {
       "model_id": "0b6c91b7ab5946bd9bc4a3aef5b86d07",
       "version_major": 2,
       "version_minor": 0
      },
      "text/plain": [
       "interactive(children=(IntSlider(value=7032, description='i', max=14065), Output()), _dom_classes=('widget-inte…"
      ]
     },
     "metadata": {},
     "output_type": "display_data"
    }
   ],
   "source": [
    "from nltk import word_tokenize\n",
    "from ipywidgets import interact\n",
    "\n",
    "@interact\n",
    "def tokenize_tweet(i=(0,len(corpus)-1)):\n",
    "    from nltk.corpus import stopwords\n",
    "    import string\n",
    "    from nltk import word_tokenize,regexp_tokenize\n",
    "    \n",
    "    print(f\"- Tweet #{i}:\\n\")\n",
    "    print(corpus[i],'\\n')\n",
    "    tokens = word_tokenize(corpus[i])\n",
    "\n",
    "    # Get all the stop words in the English language\n",
    "    stopwords_list = stopwords.words('english')\n",
    "    stopwords_list += string.punctuation\n",
    "    stopped_tokens = [w.lower() for w in tokens if w not in stopwords_list]\n",
    "    \n",
    "    print(tokens,end='\\n\\n')\n",
    "    print(stopped_tokens)"
   ]
  },
  {
   "cell_type": "markdown",
   "metadata": {},
   "source": [
    "### NLP Vocabulary\n",
    "- Corpus\n",
    "    - Body of text\n",
    "    \n",
    "- Bag of Words\n",
    "    - Collection of all words from a corpus.\n"
   ]
  },
  {
   "cell_type": "markdown",
   "metadata": {},
   "source": [
    "## Regular Expressions"
   ]
  },
  {
   "cell_type": "markdown",
   "metadata": {},
   "source": [
    "- Use https://regex101.com/ to test out regular expressions"
   ]
  },
  {
   "cell_type": "markdown",
   "metadata": {},
   "source": [
    "## Context-Free Grammers and POS Tagging"
   ]
  },
  {
   "cell_type": "markdown",
   "metadata": {},
   "source": [
    "<img src=\"https://raw.githubusercontent.com/jirvingphd/dsc-context-free-grammars-and-POS-tagging-online-ds-ft-100719/master/images/new_LevelsOfLanguage-Graph.png\">"
   ]
  },
  {
   "cell_type": "markdown",
   "metadata": {},
   "source": [
    "#### Syntax and Meaning Can be Difficult for Computers \n",
    "\n",
    "In English, sentences consist of a **_Noun Phrase_** followed by a **_Verb Phrase_**, which may optionally be followed by a **_Prepositional Phrase_**.\n",
    "\n",
    "This ***seems simple, but it gets more tricky*** when we realize that there is a recursive structure to these phrases.\n",
    "\n",
    "- A noun phrase may consist of multiple smaller noun phrases, and in some cases, even a verb phrase. \n",
    "- Similarly, a verb phrase can consist of multiple smaller verb phrases and noun phrases, which can themselves be made up of smaller noun phrases and verb phrases. \n",
    "\n",
    "\n",
    "This leads levels of **_ambiguity_** that can be troublesome for computers. NLTK's documentation explains this by examining the classic Groucho Marx joke:\n",
    "\n",
    "> ***\"While hunting in Africa, I shot an elephant in my pajamas. How he got into my pajamas, I don't know.\"***\n",
    "\n"
   ]
  },
  {
   "cell_type": "markdown",
   "metadata": {},
   "source": [
    "<img src=\"https://raw.githubusercontent.com/jirvingphd/dsc-context-free-grammars-and-POS-tagging-online-ds-ft-100719/master/images/parse_tree.png\">"
   ]
  },
  {
   "cell_type": "code",
   "execution_count": null,
   "metadata": {},
   "outputs": [],
   "source": [
    "\n"
   ]
  },
  {
   "cell_type": "code",
   "execution_count": null,
   "metadata": {},
   "outputs": [],
   "source": []
  }
 ],
 "metadata": {
  "kernelspec": {
   "display_name": "learn-env",
   "language": "python",
   "name": "learn-env"
  },
  "language_info": {
   "codemirror_mode": {
    "name": "ipython",
    "version": 3
   },
   "file_extension": ".py",
   "mimetype": "text/x-python",
   "name": "python",
   "nbconvert_exporter": "python",
   "pygments_lexer": "ipython3",
   "version": "3.6.11"
  },
  "toc": {
   "base_numbering": 1,
   "nav_menu": {},
   "number_sections": true,
   "sideBar": true,
   "skip_h1_title": false,
   "title_cell": "Table of Contents",
   "title_sidebar": "Contents",
   "toc_cell": false,
   "toc_position": {
    "height": "calc(100% - 180px)",
    "left": "10px",
    "top": "150px",
    "width": "320px"
   },
   "toc_section_display": true,
   "toc_window_display": true
  }
 },
 "nbformat": 4,
 "nbformat_minor": 2
}

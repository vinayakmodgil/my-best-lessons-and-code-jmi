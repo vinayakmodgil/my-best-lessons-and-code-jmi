{
 "cells": [
  {
   "cell_type": "markdown",
   "metadata": {},
   "source": [
    "# Making a Local Python Package/Module with Sub-Modules"
   ]
  },
  {
   "cell_type": "markdown",
   "metadata": {},
   "source": [
    "- online-ds-ft-081720\n",
    "- 01/14/21"
   ]
  },
  {
   "cell_type": "markdown",
   "metadata": {},
   "source": [
    "## Structuring Packages"
   ]
  },
  {
   "cell_type": "markdown",
   "metadata": {},
   "source": [
    "### Use folders & `__init__.py` to define package"
   ]
  },
  {
   "cell_type": "markdown",
   "metadata": {},
   "source": [
    "#### [Official Packaging Tutorial](https://packaging.python.org/tutorials/packaging-projects/)\n",
    "- Our module is structure like this:\n",
    "```\n",
    "capstone_functions\n",
    "    └── __init__.py\n",
    "    └── my_functions.py\n",
    "    └── lz.py\n",
    "```"
   ]
  },
  {
   "cell_type": "markdown",
   "metadata": {},
   "source": [
    "- The folder can contain other py files as well, but its needs an __init__.py to be recognized as a package. \n",
    "- The other py files can be import inside of __init__.py to make them part of the namespace"
   ]
  },
  {
   "cell_type": "markdown",
   "metadata": {},
   "source": [
    "#### [Packaging Namespaces/Submodules](https://packaging.python.org/guides/packaging-namespace-packages/#packaging-namespace-packages)_\n",
    "\n",
    "- Contents of our __init__.py\n",
    "\n",
    "```python\n",
    "\"\"\"A collection of example functions for 081720FT cohort\n",
    "- James M. Irving, Ph.D.\n",
    "- james.irving.phd@gmail.com\"\"\"\n",
    "\n",
    "from capstone_functions import my_functions\n",
    "from capstone_functions import lz\n",
    "```"
   ]
  },
  {
   "cell_type": "code",
   "execution_count": 1,
   "metadata": {
    "ExecuteTime": {
     "end_time": "2021-01-14T19:31:49.642554Z",
     "start_time": "2021-01-14T19:31:48.113739Z"
    }
   },
   "outputs": [],
   "source": [
    "%load_ext autoreload\n",
    "%autoreload 2\n",
    "\n",
    "import capstone_functions as cf"
   ]
  },
  {
   "cell_type": "code",
   "execution_count": 2,
   "metadata": {
    "ExecuteTime": {
     "end_time": "2021-01-14T19:31:52.059531Z",
     "start_time": "2021-01-14T19:31:52.020170Z"
    }
   },
   "outputs": [
    {
     "name": "stdout",
     "output_type": "stream",
     "text": [
      "Help on package capstone_functions:\n",
      "\n",
      "NAME\n",
      "    capstone_functions\n",
      "\n",
      "DESCRIPTION\n",
      "    A collection of example functions for 081720FT cohort\n",
      "    - James M. Irving, Ph.D.\n",
      "    - james.irving.phd@gmail.com\n",
      "\n",
      "PACKAGE CONTENTS\n",
      "    lz\n",
      "    my_functions\n",
      "\n",
      "FILE\n",
      "    /Users/jamesirving/Documents/GitHub/_COHORT_NOTES/081720FT/aug-ds-ft-2020-notebooks/capstone/moving_functions_to_py_files/capstone_functions/__init__.py\n",
      "\n",
      "\n"
     ]
    }
   ],
   "source": [
    "help(cf)"
   ]
  },
  {
   "cell_type": "code",
   "execution_count": null,
   "metadata": {},
   "outputs": [],
   "source": [
    "cf."
   ]
  },
  {
   "cell_type": "code",
   "execution_count": 3,
   "metadata": {
    "ExecuteTime": {
     "end_time": "2021-01-14T19:31:59.704316Z",
     "start_time": "2021-01-14T19:31:59.670798Z"
    }
   },
   "outputs": [
    {
     "name": "stdout",
     "output_type": "stream",
     "text": [
      "Help on module capstone_functions.my_functions in capstone_functions:\n",
      "\n",
      "NAME\n",
      "    capstone_functions.my_functions\n",
      "\n",
      "FUNCTIONS\n",
      "    print_xy(X, y)\n",
      "        Example function to print 2 things\n",
      "        \n",
      "        Args:\n",
      "            X (list): First thing printed\n",
      "            y (list): Second thing printed\n",
      "        Ex:\n",
      "        >> X = []..\n",
      "        >> print(X,y)\n",
      "    \n",
      "    print_xy2(X, y)\n",
      "    \n",
      "    series_xy_file(X, y)\n",
      "\n",
      "FILE\n",
      "    /Users/jamesirving/Documents/GitHub/_COHORT_NOTES/081720FT/aug-ds-ft-2020-notebooks/capstone/moving_functions_to_py_files/capstone_functions/my_functions.py\n",
      "\n",
      "\n"
     ]
    }
   ],
   "source": [
    "help(cf.my_functions)"
   ]
  },
  {
   "cell_type": "code",
   "execution_count": null,
   "metadata": {
    "ExecuteTime": {
     "end_time": "2021-01-14T18:27:30.402318Z",
     "start_time": "2021-01-14T18:27:30.369566Z"
    }
   },
   "outputs": [],
   "source": [
    "help(cf.easy)"
   ]
  },
  {
   "cell_type": "code",
   "execution_count": 4,
   "metadata": {
    "ExecuteTime": {
     "end_time": "2021-01-14T19:33:00.717017Z",
     "start_time": "2021-01-14T19:33:00.685723Z"
    }
   },
   "outputs": [
    {
     "data": {
      "text/plain": [
       "<function sklearn.metrics._regression.r2_score(y_true, y_pred, *, sample_weight=None, multioutput='uniform_average')>"
      ]
     },
     "execution_count": 4,
     "metadata": {},
     "output_type": "execute_result"
    }
   ],
   "source": [
    "cf.lz.metrics.r2_score"
   ]
  },
  {
   "cell_type": "code",
   "execution_count": 5,
   "metadata": {
    "ExecuteTime": {
     "end_time": "2021-01-14T19:33:32.210166Z",
     "start_time": "2021-01-14T19:33:32.176257Z"
    }
   },
   "outputs": [
    {
     "data": {
      "text/plain": [
       "pandas.core.frame.DataFrame"
      ]
     },
     "execution_count": 5,
     "metadata": {},
     "output_type": "execute_result"
    }
   ],
   "source": [
    "cf.lz.pd.DataFrame"
   ]
  },
  {
   "cell_type": "code",
   "execution_count": 6,
   "metadata": {
    "ExecuteTime": {
     "end_time": "2021-01-14T19:33:40.400599Z",
     "start_time": "2021-01-14T19:33:40.363191Z"
    }
   },
   "outputs": [
    {
     "name": "stdout",
     "output_type": "stream",
     "text": [
      "[3]\n",
      "cheese\n"
     ]
    }
   ],
   "source": [
    "X = [3]\n",
    "y = 'cheese'\n",
    "cf.my_functions.print_xy(X,y)"
   ]
  },
  {
   "cell_type": "code",
   "execution_count": 8,
   "metadata": {
    "ExecuteTime": {
     "end_time": "2021-01-14T19:35:42.546112Z",
     "start_time": "2021-01-14T19:35:42.510857Z"
    }
   },
   "outputs": [
    {
     "data": {
      "text/plain": [
       "<module 'capstone_functions' from '/Users/jamesirving/Documents/GitHub/_COHORT_NOTES/081720FT/aug-ds-ft-2020-notebooks/capstone/moving_functions_to_py_files/capstone_functions/__init__.py'>"
      ]
     },
     "execution_count": 8,
     "metadata": {},
     "output_type": "execute_result"
    }
   ],
   "source": [
    "cf.mf.print_xy2"
   ]
  },
  {
   "cell_type": "markdown",
   "metadata": {},
   "source": [
    "# Appendix: Publishing on PyPi"
   ]
  },
  {
   "cell_type": "markdown",
   "metadata": {},
   "source": [
    "#### The Manual Way\n",
    "- The official tutorial for packaging and publishing on pypi \n",
    "    - [Official Packaging Tutorial](https://packaging.python.org/tutorials/packaging-projects/)\n",
    "    \n",
    "#### The Template/Automation/Fancy Way   \n",
    "- [My Blog Post (as a student) on Using Cookiecutter template packages](https://jirvingphd.github.io/i_published_my_own_python_package_and_you_can_too)\n",
    "    - [Companion Official Tutorial to reference during my tutorial](https://cookiecutter-pypackage.readthedocs.io/en/latest/tutorial.html)"
   ]
  },
  {
   "cell_type": "code",
   "execution_count": null,
   "metadata": {},
   "outputs": [],
   "source": []
  }
 ],
 "metadata": {
  "kernelspec": {
   "display_name": "learn-env",
   "language": "python",
   "name": "learn-env"
  },
  "language_info": {
   "codemirror_mode": {
    "name": "ipython",
    "version": 3
   },
   "file_extension": ".py",
   "mimetype": "text/x-python",
   "name": "python",
   "nbconvert_exporter": "python",
   "pygments_lexer": "ipython3",
   "version": "3.6.11"
  },
  "toc": {
   "base_numbering": 1,
   "nav_menu": {},
   "number_sections": true,
   "sideBar": true,
   "skip_h1_title": false,
   "title_cell": "Table of Contents",
   "title_sidebar": "Contents",
   "toc_cell": false,
   "toc_position": {},
   "toc_section_display": true,
   "toc_window_display": false
  }
 },
 "nbformat": 4,
 "nbformat_minor": 4
}

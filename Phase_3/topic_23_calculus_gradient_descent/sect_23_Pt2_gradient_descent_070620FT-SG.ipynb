{
 "cells": [
  {
   "cell_type": "markdown",
   "metadata": {},
   "source": [
    "# 🗓 Section 23 - Pt2: Cost Functions, and Gradient Descent"
   ]
  },
  {
   "cell_type": "markdown",
   "metadata": {},
   "source": [
    "- online-ds-ft-070620\n",
    "- 09/16/20"
   ]
  },
  {
   "cell_type": "markdown",
   "metadata": {},
   "source": [
    "## Learning Objectives"
   ]
  },
  {
   "cell_type": "markdown",
   "metadata": {},
   "source": [
    "- Review how we can use derivatives to find minima/maxima\n",
    "- Introduce the terminology of Cost/Loss functions\n",
    "- Attempt to guess a linear regression model on our own using derivatives, but without gradient descent.\n",
    "- Learn what gradient descent is and what step sizes are.\n",
    "- **Activity: Step Sizes Lab.**\n",
    "- Define what a gradient really is in multiple dimensions.\n",
    "- Demonstrate Gradient Descent using a Linear Regression model with Residual Sum of Squares.\n",
    "- **Activity: Applying Gradient Descent Lab**"
   ]
  },
  {
   "cell_type": "markdown",
   "metadata": {},
   "source": [
    "## Questions?"
   ]
  },
  {
   "cell_type": "markdown",
   "metadata": {},
   "source": [
    "https://docs.google.com/document/d/1FJ6rvuq4n-FUuYa60kCgXzT-x6wvYi3VlwVlwwcUY7w/edit?usp=sharing"
   ]
  },
  {
   "cell_type": "markdown",
   "metadata": {},
   "source": [
    "## Previously on...\n"
   ]
  },
  {
   "cell_type": "markdown",
   "metadata": {},
   "source": [
    "### Using Derivatives to Find the Minimum of Function"
   ]
  },
  {
   "cell_type": "code",
   "execution_count": 1,
   "metadata": {
    "ExecuteTime": {
     "end_time": "2020-08-26T23:32:35.535277Z",
     "start_time": "2020-08-26T23:32:32.472473Z"
    }
   },
   "outputs": [
    {
     "name": "stdout",
     "output_type": "stream",
     "text": [
      "fsds v0.2.23 loaded.  Read the docs: https://fs-ds.readthedocs.io/en/latest/ \n"
     ]
    },
    {
     "data": {
      "text/html": [
       "<style  type=\"text/css\" >\n",
       "</style><table id=\"T_6b2591ba_e7f4_11ea_887e_4865ee12e626\" ><caption>Loaded Packages and Handles</caption><thead>    <tr>        <th class=\"col_heading level0 col0\" >Handle</th>        <th class=\"col_heading level0 col1\" >Package</th>        <th class=\"col_heading level0 col2\" >Description</th>    </tr></thead><tbody>\n",
       "                <tr>\n",
       "                                <td id=\"T_6b2591ba_e7f4_11ea_887e_4865ee12e626row0_col0\" class=\"data row0 col0\" >dp</td>\n",
       "                        <td id=\"T_6b2591ba_e7f4_11ea_887e_4865ee12e626row0_col1\" class=\"data row0 col1\" >IPython.display</td>\n",
       "                        <td id=\"T_6b2591ba_e7f4_11ea_887e_4865ee12e626row0_col2\" class=\"data row0 col2\" >Display modules with helpful display and clearing commands.</td>\n",
       "            </tr>\n",
       "            <tr>\n",
       "                                <td id=\"T_6b2591ba_e7f4_11ea_887e_4865ee12e626row1_col0\" class=\"data row1 col0\" >fs</td>\n",
       "                        <td id=\"T_6b2591ba_e7f4_11ea_887e_4865ee12e626row1_col1\" class=\"data row1 col1\" >fsds</td>\n",
       "                        <td id=\"T_6b2591ba_e7f4_11ea_887e_4865ee12e626row1_col2\" class=\"data row1 col2\" >Custom data science bootcamp student package</td>\n",
       "            </tr>\n",
       "            <tr>\n",
       "                                <td id=\"T_6b2591ba_e7f4_11ea_887e_4865ee12e626row2_col0\" class=\"data row2 col0\" >mpl</td>\n",
       "                        <td id=\"T_6b2591ba_e7f4_11ea_887e_4865ee12e626row2_col1\" class=\"data row2 col1\" >matplotlib</td>\n",
       "                        <td id=\"T_6b2591ba_e7f4_11ea_887e_4865ee12e626row2_col2\" class=\"data row2 col2\" >Matplotlib's base OOP module with formatting artists</td>\n",
       "            </tr>\n",
       "            <tr>\n",
       "                                <td id=\"T_6b2591ba_e7f4_11ea_887e_4865ee12e626row3_col0\" class=\"data row3 col0\" >plt</td>\n",
       "                        <td id=\"T_6b2591ba_e7f4_11ea_887e_4865ee12e626row3_col1\" class=\"data row3 col1\" >matplotlib.pyplot</td>\n",
       "                        <td id=\"T_6b2591ba_e7f4_11ea_887e_4865ee12e626row3_col2\" class=\"data row3 col2\" >Matplotlib's matlab-like plotting module</td>\n",
       "            </tr>\n",
       "            <tr>\n",
       "                                <td id=\"T_6b2591ba_e7f4_11ea_887e_4865ee12e626row4_col0\" class=\"data row4 col0\" >np</td>\n",
       "                        <td id=\"T_6b2591ba_e7f4_11ea_887e_4865ee12e626row4_col1\" class=\"data row4 col1\" >numpy</td>\n",
       "                        <td id=\"T_6b2591ba_e7f4_11ea_887e_4865ee12e626row4_col2\" class=\"data row4 col2\" >scientific computing with Python</td>\n",
       "            </tr>\n",
       "            <tr>\n",
       "                                <td id=\"T_6b2591ba_e7f4_11ea_887e_4865ee12e626row5_col0\" class=\"data row5 col0\" >pd</td>\n",
       "                        <td id=\"T_6b2591ba_e7f4_11ea_887e_4865ee12e626row5_col1\" class=\"data row5 col1\" >pandas</td>\n",
       "                        <td id=\"T_6b2591ba_e7f4_11ea_887e_4865ee12e626row5_col2\" class=\"data row5 col2\" >High performance data structures and tools</td>\n",
       "            </tr>\n",
       "            <tr>\n",
       "                                <td id=\"T_6b2591ba_e7f4_11ea_887e_4865ee12e626row6_col0\" class=\"data row6 col0\" >sns</td>\n",
       "                        <td id=\"T_6b2591ba_e7f4_11ea_887e_4865ee12e626row6_col1\" class=\"data row6 col1\" >seaborn</td>\n",
       "                        <td id=\"T_6b2591ba_e7f4_11ea_887e_4865ee12e626row6_col2\" class=\"data row6 col2\" >High-level data visualization library based on matplotlib</td>\n",
       "            </tr>\n",
       "    </tbody></table>"
      ],
      "text/plain": [
       "<pandas.io.formats.style.Styler at 0x114d0d630>"
      ]
     },
     "metadata": {},
     "output_type": "display_data"
    },
    {
     "data": {
      "text/html": [
       "        <script type=\"text/javascript\">\n",
       "        window.PlotlyConfig = {MathJaxConfig: 'local'};\n",
       "        if (window.MathJax) {MathJax.Hub.Config({SVG: {font: \"STIX-Web\"}});}\n",
       "        if (typeof require !== 'undefined') {\n",
       "        require.undef(\"plotly\");\n",
       "        requirejs.config({\n",
       "            paths: {\n",
       "                'plotly': ['https://cdn.plot.ly/plotly-latest.min']\n",
       "            }\n",
       "        });\n",
       "        require(['plotly'], function(Plotly) {\n",
       "            window._Plotly = Plotly;\n",
       "        });\n",
       "        }\n",
       "        </script>\n",
       "        "
      ]
     },
     "metadata": {},
     "output_type": "display_data"
    },
    {
     "data": {
      "text/html": [
       "        <script type=\"text/javascript\">\n",
       "        window.PlotlyConfig = {MathJaxConfig: 'local'};\n",
       "        if (window.MathJax) {MathJax.Hub.Config({SVG: {font: \"STIX-Web\"}});}\n",
       "        if (typeof require !== 'undefined') {\n",
       "        require.undef(\"plotly\");\n",
       "        requirejs.config({\n",
       "            paths: {\n",
       "                'plotly': ['https://cdn.plot.ly/plotly-latest.min']\n",
       "            }\n",
       "        });\n",
       "        require(['plotly'], function(Plotly) {\n",
       "            window._Plotly = Plotly;\n",
       "        });\n",
       "        }\n",
       "        </script>\n",
       "        "
      ]
     },
     "metadata": {},
     "output_type": "display_data"
    },
    {
     "name": "stdout",
     "output_type": "stream",
     "text": [
      "[i] Pandas .iplot() method activated.\n"
     ]
    }
   ],
   "source": [
    "from fsds.imports import *"
   ]
  },
  {
   "cell_type": "code",
   "execution_count": 2,
   "metadata": {
    "ExecuteTime": {
     "end_time": "2020-08-26T23:32:35.540076Z",
     "start_time": "2020-08-26T23:32:35.536953Z"
    }
   },
   "outputs": [],
   "source": [
    "## https://learn.co/tracks/module-3-data-science-career-2-1/machine-learning/section-23-calculus/derivatives-conclusion\n",
    "from derivatives import *"
   ]
  },
  {
   "cell_type": "code",
   "execution_count": 3,
   "metadata": {
    "ExecuteTime": {
     "end_time": "2020-08-26T23:32:35.548273Z",
     "start_time": "2020-08-26T23:32:35.541888Z"
    }
   },
   "outputs": [],
   "source": [
    "import numpy as np\n",
    "tuple_sq_pos  = np.array([[2, 2], [-8, 1]])\n",
    "x_values = np.linspace(-6, 10, 100)\n",
    "function_values = list(map(lambda x: output_at(tuple_sq_pos, x), x_values))\n",
    "derivative_values = list(map(lambda x: derivative_at(tuple_sq_pos, x),x_values))"
   ]
  },
  {
   "cell_type": "code",
   "execution_count": 4,
   "metadata": {
    "ExecuteTime": {
     "end_time": "2020-08-26T23:32:36.040929Z",
     "start_time": "2020-08-26T23:32:35.549911Z"
    }
   },
   "outputs": [
    {
     "data": {
      "image/png": "[encoded data removed]",
      "text/plain": [
       "<Figure size 864x360 with 2 Axes>"
      ]
     },
     "metadata": {
      "needs_background": "light"
     },
     "output_type": "display_data"
    }
   ],
   "source": [
    "import matplotlib.pyplot as plt\n",
    "%matplotlib inline\n",
    "\n",
    "fig, ax = plt.subplots(figsize=(12,5))\n",
    "\n",
    "# plot 1\n",
    "plt.subplot(121)\n",
    "plt.axhline(y=0, color='lightgrey', )\n",
    "plt.axvline(x=0, color='lightgrey')\n",
    "plt.plot(x_values, function_values, label = \"f (x) = 2x^2−8x \")\n",
    "\n",
    "plt.legend(loc=\"upper left\", bbox_to_anchor=[0, 1], ncol=2, fancybox=True)\n",
    "\n",
    "# plot 2\n",
    "plt.subplot(122)\n",
    "plt.axhline(y=0, color='lightgrey')\n",
    "plt.axvline(x=0, color='lightgrey')\n",
    "plt.plot(x_values, derivative_values,color=\"darkorange\", label = \"f '(x) = 4x-8\")\n",
    "\n",
    "ax.grid(True, which='both')\n",
    "\n",
    "plt.legend(loc=\"upper left\");"
   ]
  },
  {
   "cell_type": "code",
   "execution_count": 5,
   "metadata": {
    "ExecuteTime": {
     "end_time": "2020-08-26T23:32:36.438182Z",
     "start_time": "2020-08-26T23:32:36.042560Z"
    }
   },
   "outputs": [
    {
     "data": {
      "image/png": "[encoded data removed]",
      "text/plain": [
       "<Figure size 864x360 with 2 Axes>"
      ]
     },
     "execution_count": 5,
     "metadata": {},
     "output_type": "execute_result"
    }
   ],
   "source": [
    "func_values_series = pd.Series(function_values,index=x_values)#.min()\n",
    "deriv_values_series = pd.Series(derivative_values,index=x_values)\n",
    "\n",
    "(ax1,ax2) = fig.get_axes()\n",
    "ax1.axvline(func_values_series.idxmin(),\n",
    "            ls=':',c='red',label='Function Minimum')\n",
    "ax2.axvline(func_values_series.idxmin(),\n",
    "            ls=':',c='red',label='Function Minimum')\n",
    "[a.legend() for a in [ax1,ax2]]\n",
    "fig"
   ]
  },
  {
   "cell_type": "markdown",
   "metadata": {},
   "source": [
    "- The minimum of a function has an instanteous rate of change = 0\n",
    "    - Therefore the value of x that produces a derivative=0 is the minimum of a function"
   ]
  },
  {
   "cell_type": "markdown",
   "metadata": {},
   "source": [
    ">  This is fundamental concept behind gradient descent (which will discuss in-depth next study group), using derivatives with cost/loss functions to find the best values with the lowest error.\n",
    "\n",
    "\n",
    "<img src=\"https://raw.githubusercontent.com/jirvingphd/dsc-gradient-descent-step-sizes-online-ds-ft-100719/master/images/snowboard.png\" width=50%>"
   ]
  },
  {
   "cell_type": "markdown",
   "metadata": {},
   "source": [
    "- **So how can we use this fact in Machine Learning?**\n",
    "    - We can use the derivatives of our cost functions for our models to determine what parameters would be best for your model/"
   ]
  },
  {
   "cell_type": "markdown",
   "metadata": {},
   "source": [
    "## Cost Functions \n"
   ]
  },
  {
   "cell_type": "markdown",
   "metadata": {},
   "source": [
    "> - A cost function is a function that calculates the error of our models predictions vs ground truth.\n",
    "    - \"Cost function\" = \"Loss function\" = \"Error\""
   ]
  },
  {
   "cell_type": "markdown",
   "metadata": {},
   "source": [
    "- **Multiple notations/names:**\n",
    "\n",
    "    - Loss Function: $L(y,t)$\n",
    "\n",
    "    - Cost Function: $C(y,t)$\n",
    "\n",
    "    - Error: $E(y,t)$\n",
    "    \n"
   ]
  },
  {
   "cell_type": "markdown",
   "metadata": {},
   "source": [
    "### Cost Functions You've Already Seen"
   ]
  },
  {
   "cell_type": "markdown",
   "metadata": {},
   "source": [
    "- Error terms we used for linear regression back in Module 1 included Mean Squared Error and Root Mean Squared Error"
   ]
  },
  {
   "cell_type": "markdown",
   "metadata": {},
   "source": [
    "#### Residual Sum of Squares\n",
    "\n",
    "$ \\large RSS = \\sum_{i=1}^n(actual - expected)^2 = \\sum_{i=1}^n(y_i - \\hat{y})^2 $\n",
    "\n",
    "\n",
    "#### Mean Squared Error\n",
    "\n",
    "$ \\large MSE = \\frac{1}{n}\\sum_{i=1}^{n}(y_{i} - \\hat y_{i})^2$\n",
    "\n",
    "- Note that MSE is just RSS divided by the number of data points. So its the *mean* of the residual sum of squares (AKA squared error)\n",
    "\n",
    "#### Root Mean Squared Error\n",
    "$ \\large  RMSE = \\sqrt{\\frac{1}{n}\\sum_{i=1}^{n}(y_{i} - \\hat y_{i})^2}$\n",
    "- Note that RMSE is just the square root of MSE."
   ]
  },
  {
   "cell_type": "markdown",
   "metadata": {},
   "source": [
    "## Intro to Gradient Descent Using Linear Regression"
   ]
  },
  {
   "cell_type": "markdown",
   "metadata": {
    "ExecuteTime": {
     "end_time": "2020-03-11T18:28:02.572470Z",
     "start_time": "2020-03-11T18:28:02.570338Z"
    }
   },
   "source": [
    "### Linear Regression Example"
   ]
  },
  {
   "cell_type": "code",
   "execution_count": 6,
   "metadata": {
    "ExecuteTime": {
     "end_time": "2020-08-26T23:34:31.657266Z",
     "start_time": "2020-08-26T23:34:31.278491Z"
    }
   },
   "outputs": [
    {
     "data": {
      "text/html": [
       "<div>\n",
       "<style scoped>\n",
       "    .dataframe tbody tr th:only-of-type {\n",
       "        vertical-align: middle;\n",
       "    }\n",
       "\n",
       "    .dataframe tbody tr th {\n",
       "        vertical-align: top;\n",
       "    }\n",
       "\n",
       "    .dataframe thead th {\n",
       "        text-align: right;\n",
       "    }\n",
       "</style>\n",
       "<table border=\"1\" class=\"dataframe\">\n",
       "  <thead>\n",
       "    <tr style=\"text-align: right;\">\n",
       "      <th></th>\n",
       "      <th>Id</th>\n",
       "      <th>MSSubClass</th>\n",
       "      <th>MSZoning</th>\n",
       "      <th>LotFrontage</th>\n",
       "      <th>LotArea</th>\n",
       "      <th>Street</th>\n",
       "      <th>Alley</th>\n",
       "      <th>LotShape</th>\n",
       "      <th>LandContour</th>\n",
       "      <th>Utilities</th>\n",
       "      <th>...</th>\n",
       "      <th>PoolArea</th>\n",
       "      <th>PoolQC</th>\n",
       "      <th>Fence</th>\n",
       "      <th>MiscFeature</th>\n",
       "      <th>MiscVal</th>\n",
       "      <th>MoSold</th>\n",
       "      <th>YrSold</th>\n",
       "      <th>SaleType</th>\n",
       "      <th>SaleCondition</th>\n",
       "      <th>SalePrice</th>\n",
       "    </tr>\n",
       "  </thead>\n",
       "  <tbody>\n",
       "    <tr>\n",
       "      <th>0</th>\n",
       "      <td>1</td>\n",
       "      <td>60</td>\n",
       "      <td>RL</td>\n",
       "      <td>65.0</td>\n",
       "      <td>8450</td>\n",
       "      <td>Pave</td>\n",
       "      <td>NaN</td>\n",
       "      <td>Reg</td>\n",
       "      <td>Lvl</td>\n",
       "      <td>AllPub</td>\n",
       "      <td>...</td>\n",
       "      <td>0</td>\n",
       "      <td>NaN</td>\n",
       "      <td>NaN</td>\n",
       "      <td>NaN</td>\n",
       "      <td>0</td>\n",
       "      <td>2</td>\n",
       "      <td>2008</td>\n",
       "      <td>WD</td>\n",
       "      <td>Normal</td>\n",
       "      <td>208500</td>\n",
       "    </tr>\n",
       "    <tr>\n",
       "      <th>1</th>\n",
       "      <td>2</td>\n",
       "      <td>20</td>\n",
       "      <td>RL</td>\n",
       "      <td>80.0</td>\n",
       "      <td>9600</td>\n",
       "      <td>Pave</td>\n",
       "      <td>NaN</td>\n",
       "      <td>Reg</td>\n",
       "      <td>Lvl</td>\n",
       "      <td>AllPub</td>\n",
       "      <td>...</td>\n",
       "      <td>0</td>\n",
       "      <td>NaN</td>\n",
       "      <td>NaN</td>\n",
       "      <td>NaN</td>\n",
       "      <td>0</td>\n",
       "      <td>5</td>\n",
       "      <td>2007</td>\n",
       "      <td>WD</td>\n",
       "      <td>Normal</td>\n",
       "      <td>181500</td>\n",
       "    </tr>\n",
       "    <tr>\n",
       "      <th>2</th>\n",
       "      <td>3</td>\n",
       "      <td>60</td>\n",
       "      <td>RL</td>\n",
       "      <td>68.0</td>\n",
       "      <td>11250</td>\n",
       "      <td>Pave</td>\n",
       "      <td>NaN</td>\n",
       "      <td>IR1</td>\n",
       "      <td>Lvl</td>\n",
       "      <td>AllPub</td>\n",
       "      <td>...</td>\n",
       "      <td>0</td>\n",
       "      <td>NaN</td>\n",
       "      <td>NaN</td>\n",
       "      <td>NaN</td>\n",
       "      <td>0</td>\n",
       "      <td>9</td>\n",
       "      <td>2008</td>\n",
       "      <td>WD</td>\n",
       "      <td>Normal</td>\n",
       "      <td>223500</td>\n",
       "    </tr>\n",
       "    <tr>\n",
       "      <th>3</th>\n",
       "      <td>4</td>\n",
       "      <td>70</td>\n",
       "      <td>RL</td>\n",
       "      <td>60.0</td>\n",
       "      <td>9550</td>\n",
       "      <td>Pave</td>\n",
       "      <td>NaN</td>\n",
       "      <td>IR1</td>\n",
       "      <td>Lvl</td>\n",
       "      <td>AllPub</td>\n",
       "      <td>...</td>\n",
       "      <td>0</td>\n",
       "      <td>NaN</td>\n",
       "      <td>NaN</td>\n",
       "      <td>NaN</td>\n",
       "      <td>0</td>\n",
       "      <td>2</td>\n",
       "      <td>2006</td>\n",
       "      <td>WD</td>\n",
       "      <td>Abnorml</td>\n",
       "      <td>140000</td>\n",
       "    </tr>\n",
       "    <tr>\n",
       "      <th>4</th>\n",
       "      <td>5</td>\n",
       "      <td>60</td>\n",
       "      <td>RL</td>\n",
       "      <td>84.0</td>\n",
       "      <td>14260</td>\n",
       "      <td>Pave</td>\n",
       "      <td>NaN</td>\n",
       "      <td>IR1</td>\n",
       "      <td>Lvl</td>\n",
       "      <td>AllPub</td>\n",
       "      <td>...</td>\n",
       "      <td>0</td>\n",
       "      <td>NaN</td>\n",
       "      <td>NaN</td>\n",
       "      <td>NaN</td>\n",
       "      <td>0</td>\n",
       "      <td>12</td>\n",
       "      <td>2008</td>\n",
       "      <td>WD</td>\n",
       "      <td>Normal</td>\n",
       "      <td>250000</td>\n",
       "    </tr>\n",
       "  </tbody>\n",
       "</table>\n",
       "<p>5 rows × 81 columns</p>\n",
       "</div>"
      ],
      "text/plain": [
       "   Id  MSSubClass MSZoning  LotFrontage  LotArea Street Alley LotShape  \\\n",
       "0   1          60       RL         65.0     8450   Pave   NaN      Reg   \n",
       "1   2          20       RL         80.0     9600   Pave   NaN      Reg   \n",
       "2   3          60       RL         68.0    11250   Pave   NaN      IR1   \n",
       "3   4          70       RL         60.0     9550   Pave   NaN      IR1   \n",
       "4   5          60       RL         84.0    14260   Pave   NaN      IR1   \n",
       "\n",
       "  LandContour Utilities  ... PoolArea PoolQC Fence MiscFeature MiscVal MoSold  \\\n",
       "0         Lvl    AllPub  ...        0    NaN   NaN         NaN       0      2   \n",
       "1         Lvl    AllPub  ...        0    NaN   NaN         NaN       0      5   \n",
       "2         Lvl    AllPub  ...        0    NaN   NaN         NaN       0      9   \n",
       "3         Lvl    AllPub  ...        0    NaN   NaN         NaN       0      2   \n",
       "4         Lvl    AllPub  ...        0    NaN   NaN         NaN       0     12   \n",
       "\n",
       "  YrSold  SaleType  SaleCondition  SalePrice  \n",
       "0   2008        WD         Normal     208500  \n",
       "1   2007        WD         Normal     181500  \n",
       "2   2008        WD         Normal     223500  \n",
       "3   2006        WD        Abnorml     140000  \n",
       "4   2008        WD         Normal     250000  \n",
       "\n",
       "[5 rows x 81 columns]"
      ]
     },
     "execution_count": 6,
     "metadata": {},
     "output_type": "execute_result"
    }
   ],
   "source": [
    "from fsds.imports import *\n",
    "\n",
    "## Kaggle Dataset https://www.kaggle.com/c/house-prices-advanced-regression-techniques/data\n",
    "url = \"https://raw.githubusercontent.com/jirvingphd/fsds_100719_cohort_notes/master/datasets/house-prices-advanced-regression-techniques/train.csv\"\n",
    "\n",
    "df = pd.read_csv(url)\n",
    "# display(df.head())\n",
    "df.head()"
   ]
  },
  {
   "cell_type": "code",
   "execution_count": 7,
   "metadata": {
    "ExecuteTime": {
     "end_time": "2020-08-26T23:34:33.586497Z",
     "start_time": "2020-08-26T23:34:33.578968Z"
    }
   },
   "outputs": [],
   "source": [
    "## convert target to $1000 of dollars\n",
    "df['SalePrice ($K)']=df['SalePrice']/1000\n",
    "\n",
    "X = df['GrLivArea'].copy()\n",
    "y = df['SalePrice ($K)'].copy()"
   ]
  },
  {
   "cell_type": "code",
   "execution_count": 8,
   "metadata": {
    "ExecuteTime": {
     "end_time": "2020-08-26T23:34:39.884903Z",
     "start_time": "2020-08-26T23:34:39.687855Z"
    }
   },
   "outputs": [
    {
     "data": {
      "image/png": "[encoded data removed]",
      "text/plain": [
       "<Figure size 720x432 with 1 Axes>"
      ]
     },
     "metadata": {
      "needs_background": "light"
     },
     "output_type": "display_data"
    }
   ],
   "source": [
    "fig, ax = plt.subplots(figsize=(10,6))\n",
    "\n",
    "ax.scatter(X, y, s=3,\n",
    "          alpha=0.7, label=\"raw data\")\n",
    "\n",
    "ax.set(title=f\"{X.name} vs {y.name}\",\n",
    "       ylabel=y.name,\n",
    "       xlabel=X.name);"
   ]
  },
  {
   "cell_type": "markdown",
   "metadata": {},
   "source": [
    "\n",
    "**in Linear Regression, we predict $y$ using 2 parameters, m (slope) + b(intercept/constant):**\n",
    "\n",
    "$$ \\large y = mx+b $$\n",
    "where: \n",
    "    \n",
    "- $x$ = input data for modeling\n",
    "- $y$ = model predictions\n",
    "- $m$ = slope\n",
    "- $b$ = intercept\n",
    "\n",
    "\n",
    "- Since our regression equation is our model, $y$ is really our model's prediction, which we represent as $\\hat{y}$\n",
    "\n",
    "$$ \\large \\hat{y} = mx+b $$\n"
   ]
  },
  {
   "cell_type": "code",
   "execution_count": 9,
   "metadata": {
    "ExecuteTime": {
     "end_time": "2020-08-26T23:35:07.829284Z",
     "start_time": "2020-08-26T23:35:07.595627Z"
    }
   },
   "outputs": [
    {
     "data": {
      "image/png": "[encoded data removed]",
      "text/plain": [
       "<Figure size 720x432 with 1 Axes>"
      ]
     },
     "metadata": {
      "needs_background": "light"
     },
     "output_type": "display_data"
    }
   ],
   "source": [
    "def scatter_plot(X,y):\n",
    "    \"\"\"Plots 2 pandas Series.\"\"\"\n",
    "    fig, ax = plt.subplots(figsize=(10,6))\n",
    "\n",
    "    ax.scatter(X, y, s=3,\n",
    "              alpha=0.7, label=\"raw data\")\n",
    "\n",
    "    ax.set(title=f\"{X.name} vs {y.name}\",\n",
    "           ylabel=y.name,\n",
    "           xlabel=X.name);\n",
    "    return fig,ax\n",
    "fig,ax = scatter_plot(X,y)\n",
    "ax.grid()\n"
   ]
  },
  {
   "cell_type": "markdown",
   "metadata": {},
   "source": [
    "### Activity: Let's Attempt to Guess Our Best-Fit Regression Line"
   ]
  },
  {
   "cell_type": "markdown",
   "metadata": {},
   "source": [
    "- Pick an initial starting value for the slope and intercept (take a guess as to what they may be from examining the figure)"
   ]
  },
  {
   "cell_type": "code",
   "execution_count": 12,
   "metadata": {
    "ExecuteTime": {
     "end_time": "2020-08-26T23:36:22.599963Z",
     "start_time": "2020-08-26T23:36:22.596411Z"
    }
   },
   "outputs": [],
   "source": [
    "## guess slope:\n",
    "slope = \n",
    "## guess intercept:\n",
    "intercept = \n",
    "\n",
    "def regression_model(x,m,b):\n",
    "    return m*x+b\n",
    "\n",
    "def regression_formula(m,b):    \n",
    "    formula = f\"y = {round(m,2)}*x + {round(b,2)}\"\n",
    "    return formula"
   ]
  },
  {
   "cell_type": "code",
   "execution_count": 13,
   "metadata": {
    "ExecuteTime": {
     "end_time": "2020-08-26T23:36:23.213302Z",
     "start_time": "2020-08-26T23:36:22.938445Z"
    }
   },
   "outputs": [
    {
     "data": {
      "image/png": "[encoded data removed]",
      "text/plain": [
       "<Figure size 720x432 with 1 Axes>"
      ]
     },
     "metadata": {
      "needs_background": "light"
     },
     "output_type": "display_data"
    }
   ],
   "source": [
    "## Get Predictions from model\n",
    "y_pred = regression_model(X,slope,intercept)\n",
    "\n",
    "## Plot Raw Data\n",
    "fig,ax = scatter_plot(X,y)\n",
    "\n",
    "## Plot Predicted Values\n",
    "ax.plot(X,y_pred,c='red',ls=':', label = regression_formula(slope,intercept))\n",
    "ax.legend()\n",
    "ax.grid()"
   ]
  },
  {
   "cell_type": "markdown",
   "metadata": {},
   "source": [
    "### Let's Calculate our Models' Erorr/Cost using RSS"
   ]
  },
  {
   "cell_type": "code",
   "execution_count": 14,
   "metadata": {
    "ExecuteTime": {
     "end_time": "2020-08-26T23:37:06.520843Z",
     "start_time": "2020-08-26T23:37:06.513991Z"
    }
   },
   "outputs": [],
   "source": [
    "import math\n",
    "from sklearn.metrics import r2_score\n",
    "\n",
    "def errors(x_values, y_values, m, b):\n",
    "    \"\"\"(y_i - y_hat_i)\"\"\"\n",
    "    y_line = regression_model(x_values,m,b)#(b + m*x_values)\n",
    "    return (y_values - y_line)\n",
    "\n",
    "def squared_errors(x_values, y_values, m, b):\n",
    "    \"\"\"(y_i - y_hat_i)**2\"\"\"\n",
    "    err_squared = errors(x_values, y_values, m, b)**2\n",
    "    return np.round(err_squared, 2)\n",
    "\n",
    "def residual_sum_squares(x_values, y_values, m, b):\n",
    "    \"\"\"sum((y_i - y_hat_i)**2)\"\"\"\n",
    "    rss =sum(squared_errors(x_values, y_values, m, b))\n",
    "    return round(rss, 2)\n",
    "\n",
    "def root_mean_squared_error(x_values, y_values, m, b):\n",
    "    rmse = math.sqrt(sum(squared_errors(x_values, y_values, m, b)))/len(x_values)\n",
    "    return round(rmse, 2)"
   ]
  },
  {
   "cell_type": "code",
   "execution_count": 15,
   "metadata": {
    "ExecuteTime": {
     "end_time": "2020-08-26T23:37:44.527855Z",
     "start_time": "2020-08-26T23:37:44.517942Z"
    }
   },
   "outputs": [
    {
     "name": "stdout",
     "output_type": "stream",
     "text": [
      "RSS = 2926026548.91\n",
      "RMSE = 37.05\n",
      "R2 = -316.77\n"
     ]
    },
    {
     "data": {
      "text/plain": [
       "[None, None, None]"
      ]
     },
     "execution_count": 15,
     "metadata": {},
     "output_type": "execute_result"
    }
   ],
   "source": [
    "## Make a dictionary to collect results\n",
    "res = {}\n",
    "\n",
    "## Calculate RSS\n",
    "res['RSS'] = round(residual_sum_squares(X,y,slope,intercept),2)\n",
    "\n",
    "## Calculate RMSE\n",
    "res['RMSE'] = round(root_mean_squared_error(X,y,slope,intercept),2)\n",
    "\n",
    "## Calculate R2\n",
    "y_pred = regression_model(X,slope,intercept)\n",
    "res['R2'] = round(r2_score(y,y_pred),2)\n",
    "\n",
    "## Print Results\n",
    "[print(f\"{k} = {v}\") for k,v in res.items()]"
   ]
  },
  {
   "cell_type": "code",
   "execution_count": 16,
   "metadata": {
    "ExecuteTime": {
     "end_time": "2020-08-26T23:38:28.107867Z",
     "start_time": "2020-08-26T23:38:27.815069Z"
    }
   },
   "outputs": [
    {
     "name": "stdout",
     "output_type": "stream",
     "text": [
      "RSS = 2926026548.91\n",
      "RMSE = 37.05\n",
      "R2 = -316.77\n"
     ]
    },
    {
     "data": {
      "image/png": "[encoded data removed]",
      "text/plain": [
       "<Figure size 720x432 with 1 Axes>"
      ]
     },
     "metadata": {
      "needs_background": "light"
     },
     "output_type": "display_data"
    }
   ],
   "source": [
    "## Combine into function\n",
    "def evaluate_model(X,y,slope,intercept, show=False, plot=False):\n",
    "    ## Make a dictionary to collect results\n",
    "    res = {}\n",
    "\n",
    "    ## Calculate RSS\n",
    "    res['RSS'] = round(residual_sum_squares(X,y,slope,intercept),2)\n",
    "    ## Calculate RMSE\n",
    "    res['RMSE'] = round(root_mean_squared_error(X,y,slope,intercept),2)\n",
    "\n",
    "    ## Calculate R2\n",
    "    y_pred = regression_model(X,slope,intercept)\n",
    "    res['R2'] = round(r2_score(y,y_pred),2)\n",
    "\n",
    "    ## Add optional print statement\n",
    "    if show:\n",
    "        [print(f\"{k} = {v}\") for k,v in res.items()]\n",
    "    \n",
    "    ## Add Optional Plot using plotting code from above \n",
    "    if plot:\n",
    "        ## Plot Raw Data\n",
    "        fig,ax = scatter_plot(X,y)\n",
    "\n",
    "        ## Plot Predicted Values\n",
    "        ax.plot(X,y_pred,c='red',ls=':', label = regression_formula(slope,intercept))\n",
    "        ax.legend()\n",
    "        ax.grid()\n",
    "        \n",
    "    ## Return the res dict and y_preds\n",
    "    return res,y_pred\n",
    "\n",
    "## Use our function below\n",
    "res, _ = evaluate_model(X,y,slope,intercept,True,True)"
   ]
  },
  {
   "cell_type": "markdown",
   "metadata": {},
   "source": [
    "### Moving towards gradient descent"
   ]
  },
  {
   "cell_type": "markdown",
   "metadata": {},
   "source": [
    "So this will be our technique for finding our \"best fit\" line:\n",
    "\n",
    "> * Choose a regression line with a guess of values for $m$ and $b$\n",
    "> * Calculate the RSS\n",
    "> * Adjust $m$ and $b$, as these are the only things that can vary in a single-variable regression line.\n",
    "> * Again calculate the RSS \n",
    "> * Repeat this process\n",
    "> * The regression line (that is, the values of $b$ and $m$) with the smallest RSS is our **best fit line**\n"
   ]
  },
  {
   "cell_type": "markdown",
   "metadata": {},
   "source": [
    "#### Using Loss Function to Find the Optimal Value of $m$"
   ]
  },
  {
   "cell_type": "markdown",
   "metadata": {},
   "source": [
    "- Let's set a fixed value for our intercept and then lets try a list of possible $m$ values and plot the cost curve"
   ]
  },
  {
   "cell_type": "code",
   "execution_count": 18,
   "metadata": {
    "ExecuteTime": {
     "end_time": "2020-08-26T23:39:12.596047Z",
     "start_time": "2020-08-26T23:39:12.590971Z"
    }
   },
   "outputs": [
    {
     "data": {
      "text/plain": [
       "array([-2.  , -1.99, -1.98, -1.97, -1.96, -1.95, -1.94, -1.93, -1.92,\n",
       "       -1.91])"
      ]
     },
     "execution_count": 18,
     "metadata": {},
     "output_type": "execute_result"
    }
   ],
   "source": [
    "INTERCEPT = 0\n",
    "delta_M = .01\n",
    "\n",
    "## Generate a list of all slopes to try\n",
    "slope_list = np.arange(-2, 2,delta_M)\n",
    "slope_list[:10]"
   ]
  },
  {
   "cell_type": "code",
   "execution_count": 19,
   "metadata": {
    "ExecuteTime": {
     "end_time": "2020-08-26T23:39:35.126661Z",
     "start_time": "2020-08-26T23:39:33.977995Z"
    }
   },
   "outputs": [
    {
     "data": {
      "text/plain": [
       "[['m', 'RSS', 'R2'],\n",
       " [-2.0, 16854658448.45, -1829.45],\n",
       " [-1.99, 16695926672.77, -1812.22],\n",
       " [-1.98, 16537946088.3, -1795.06],\n",
       " [-1.97, 16380716693.87, -1777.98],\n",
       " [-1.96, 16224238490.59, -1760.99],\n",
       " [-1.95, 16068511476.79, -1744.08],\n",
       " [-1.94, 15913535655.65, -1727.25],\n",
       " [-1.93, 15759311023.76, -1710.5],\n",
       " [-1.92, 15605837583.09, -1693.83],\n",
       " [-1.91, 15453115332.62, -1677.24],\n",
       " [-1.9, 15301144273.34, -1660.74],\n",
       " [-1.89, 15149924404.14, -1644.32],\n",
       " [-1.88, 14999455726.14, -1627.97],\n",
       " [-1.8699999999999999, 14849738238.18, -1611.72],\n",
       " [-1.8599999999999999, 14700771941.54, -1595.54],\n",
       " [-1.8499999999999999, 14552556834.26, -1579.44],\n",
       " [-1.8399999999999999, 14405092919.66, -1563.43],\n",
       " [-1.8299999999999998, 14258380194.22, -1547.49],\n",
       " [-1.8199999999999998, 14112418660.29, -1531.64],\n",
       " [-1.8099999999999998, 13967208316.11, -1515.87],\n",
       " [-1.7999999999999998, 13822749163.42, -1500.18],\n",
       " [-1.7899999999999998, 13679041200.78, -1484.57],\n",
       " [-1.7799999999999998, 13536084429.33, -1469.05],\n",
       " [-1.7699999999999998, 13393878847.97, -1453.61],\n",
       " [-1.7599999999999998, 13252424457.8, -1438.24],\n",
       " [-1.7499999999999998, 13111721256.96, -1422.96],\n",
       " [-1.7399999999999998, 12971769248.78, -1407.76],\n",
       " [-1.7299999999999998, 12832568430.01, -1392.65],\n",
       " [-1.7199999999999998, 12694118802.48, -1377.61],\n",
       " [-1.7099999999999997, 12556420364.96, -1362.66],\n",
       " [-1.6999999999999997, 12419473118.75, -1347.78],\n",
       " [-1.6899999999999997, 12283277062.46, -1332.99],\n",
       " [-1.6799999999999997, 12147832197.55, -1318.28],\n",
       " [-1.6699999999999997, 12013138522.57, -1303.65],\n",
       " [-1.6599999999999997, 11879196039.15, -1289.11],\n",
       " [-1.6499999999999997, 11746004744.79, -1274.64],\n",
       " [-1.6399999999999997, 11613564643.12, -1260.26],\n",
       " [-1.6299999999999997, 11481875730.75, -1245.96],\n",
       " [-1.6199999999999997, 11350938009.84, -1231.74],\n",
       " [-1.6099999999999997, 11220751478.87, -1217.6],\n",
       " [-1.5999999999999996, 11091316139.12, -1203.54],\n",
       " [-1.5899999999999996, 10962631989.44, -1189.57],\n",
       " [-1.5799999999999996, 10834699031.11, -1175.67],\n",
       " [-1.5699999999999996, 10707517262.82, -1161.86],\n",
       " [-1.5599999999999996, 10581086685.68, -1148.13],\n",
       " [-1.5499999999999996, 10455407297.75, -1134.48],\n",
       " [-1.5399999999999996, 10330479102.74, -1120.91],\n",
       " [-1.5299999999999996, 10206302096.98, -1107.43],\n",
       " [-1.5199999999999996, 10082876282.6, -1094.02],\n",
       " [-1.5099999999999996, 9960201658.05, -1080.7],\n",
       " [-1.4999999999999996, 9838278224.74, -1067.46],\n",
       " [-1.4899999999999995, 9717105981.68, -1054.3],\n",
       " [-1.4799999999999995, 9596684929.83, -1041.22],\n",
       " [-1.4699999999999995, 9477015067.91, -1028.23],\n",
       " [-1.4599999999999995, 9358096397.24, -1015.31],\n",
       " [-1.4499999999999995, 9239928916.01, -1002.48],\n",
       " [-1.4399999999999995, 9122512627.54, -989.73],\n",
       " [-1.4299999999999995, 9005847528.18, -977.06],\n",
       " [-1.4199999999999995, 8889933620.2, -964.47],\n",
       " [-1.4099999999999995, 8774770902.24, -951.96],\n",
       " [-1.3999999999999995, 8660359375.61, -939.53],\n",
       " [-1.3899999999999995, 8546699039.0, -927.19],\n",
       " [-1.3799999999999994, 8433789893.54, -914.93],\n",
       " [-1.3699999999999994, 8321631938.17, -902.75],\n",
       " [-1.3599999999999994, 8210225174.13, -890.65],\n",
       " [-1.3499999999999994, 8099569599.4, -878.63],\n",
       " [-1.3399999999999994, 7989665217.43, -866.7],\n",
       " [-1.3299999999999994, 7880512024.61, -854.84],\n",
       " [-1.3199999999999994, 7772110023.31, -843.07],\n",
       " [-1.3099999999999994, 7664459211.64, -831.38],\n",
       " [-1.2999999999999994, 7557559591.5, -819.77],\n",
       " [-1.2899999999999994, 7451411161.47, -808.24],\n",
       " [-1.2799999999999994, 7346013922.61, -796.79],\n",
       " [-1.2699999999999994, 7241367873.89, -785.43],\n",
       " [-1.2599999999999993, 7137473016.31, -774.15],\n",
       " [-1.2499999999999993, 7034329348.05, -762.94],\n",
       " [-1.2399999999999993, 6931936872.55, -751.82],\n",
       " [-1.2299999999999993, 6830295586.27, -740.79],\n",
       " [-1.2199999999999993, 6729405491.4, -729.83],\n",
       " [-1.2099999999999993, 6629266586.45, -718.95],\n",
       " [-1.1999999999999993, 6529878872.76, -708.16],\n",
       " [-1.1899999999999993, 6431242349.07, -697.45],\n",
       " [-1.1799999999999993, 6333357016.8, -686.82],\n",
       " [-1.1699999999999993, 6236222874.34, -676.27],\n",
       " [-1.1599999999999993, 6139839923.55, -665.8],\n",
       " [-1.1499999999999992, 6044208161.76, -655.41],\n",
       " [-1.1399999999999992, 5949327592.71, -645.11],\n",
       " [-1.1299999999999992, 5855198212.93, -634.89],\n",
       " [-1.1199999999999992, 5761820024.56, -624.75],\n",
       " [-1.1099999999999992, 5669193026.2, -614.69],\n",
       " [-1.0999999999999992, 5577317219.1, -604.71],\n",
       " [-1.0899999999999992, 5486192601.97, -594.81],\n",
       " [-1.0799999999999992, 5395819176.2, -585.0],\n",
       " [-1.0699999999999992, 5306196940.47, -575.26],\n",
       " [-1.0599999999999992, 5217325896.01, -565.61],\n",
       " [-1.0499999999999992, 5129206040.67, -556.04],\n",
       " [-1.0399999999999991, 5041837378.26, -546.55],\n",
       " [-1.0299999999999991, 4955219905.1, -537.15],\n",
       " [-1.0199999999999991, 4869353623.27, -527.82],\n",
       " [-1.0099999999999991, 4784238531.31, -518.58],\n",
       " [-0.9999999999999991, 4699874630.62, -509.42],\n",
       " [-0.9899999999999991, 4616261920.08, -500.34],\n",
       " [-0.9799999999999991, 4533400400.84, -491.34],\n",
       " [-0.9699999999999991, 4451290071.48, -482.42],\n",
       " [-0.9599999999999991, 4369930933.39, -473.58],\n",
       " [-0.9499999999999991, 4289322984.82, -464.83],\n",
       " [-0.9399999999999991, 4209466228.96, -456.16],\n",
       " [-0.929999999999999, 4130360662.2, -447.57],\n",
       " [-0.919999999999999, 4052006286.68, -439.06],\n",
       " [-0.909999999999999, 3974403101.4, -430.63],\n",
       " [-0.899999999999999, 3897551107.28, -422.28],\n",
       " [-0.889999999999999, 3821450303.29, -414.02],\n",
       " [-0.879999999999999, 3746100690.41, -405.84],\n",
       " [-0.869999999999999, 3671502267.69, -397.73],\n",
       " [-0.859999999999999, 3597655036.2, -389.71],\n",
       " [-0.849999999999999, 3524558994.07, -381.78],\n",
       " [-0.839999999999999, 3452214144.72, -373.92],\n",
       " [-0.829999999999999, 3380620484.46, -366.14],\n",
       " [-0.819999999999999, 3309778015.71, -358.45],\n",
       " [-0.8099999999999989, 3239686736.72, -350.84],\n",
       " [-0.7999999999999989, 3170346649.15, -343.31],\n",
       " [-0.7899999999999989, 3101757751.71, -335.86],\n",
       " [-0.7799999999999989, 3033920045.49, -328.49],\n",
       " [-0.7699999999999989, 2966833529.28, -321.2],\n",
       " [-0.7599999999999989, 2900498204.28, -314.0],\n",
       " [-0.7499999999999989, 2834914068.6, -306.88],\n",
       " [-0.7399999999999989, 2770081125.68, -299.84],\n",
       " [-0.7299999999999989, 2705999372.03, -292.88],\n",
       " [-0.7199999999999989, 2642668809.78, -286.0],\n",
       " [-0.7099999999999989, 2580089437.36, -279.2],\n",
       " [-0.6999999999999988, 2518261256.28, -272.49],\n",
       " [-0.6899999999999988, 2457184265.2, -265.86],\n",
       " [-0.6799999999999988, 2396858465.48, -259.3],\n",
       " [-0.6699999999999988, 2337283855.67, -252.83],\n",
       " [-0.6599999999999988, 2278460437.48, -246.45],\n",
       " [-0.6499999999999988, 2220388208.23, -240.14],\n",
       " [-0.6399999999999988, 2163067171.75, -233.91],\n",
       " [-0.6299999999999988, 2106497324.61, -227.77],\n",
       " [-0.6199999999999988, 2050678668.84, -221.71],\n",
       " [-0.6099999999999988, 1995611203.06, -215.73],\n",
       " [-0.5999999999999988, 1941294928.52, -209.83],\n",
       " [-0.5899999999999987, 1887729843.99, -204.01],\n",
       " [-0.5799999999999987, 1834915950.77, -198.28],\n",
       " [-0.5699999999999987, 1782853247.71, -192.62],\n",
       " [-0.5599999999999987, 1731541735.76, -187.05],\n",
       " [-0.5499999999999987, 1680981413.03, -181.56],\n",
       " [-0.5399999999999987, 1631172283.18, -176.15],\n",
       " [-0.5299999999999987, 1582114342.66, -170.82],\n",
       " [-0.5199999999999987, 1533807593.4, -165.57],\n",
       " [-0.5099999999999987, 1486252034.06, -160.41],\n",
       " [-0.49999999999999867, 1439447665.98, -155.33],\n",
       " [-0.48999999999999866, 1393394487.98, -150.33],\n",
       " [-0.47999999999999865, 1348092501.32, -145.41],\n",
       " [-0.46999999999999864, 1303541704.59, -140.57],\n",
       " [-0.45999999999999863, 1259742099.17, -135.81],\n",
       " [-0.4499999999999986, 1216693683.11, -131.14],\n",
       " [-0.4399999999999986, 1174396459.78, -126.54],\n",
       " [-0.4299999999999986, 1132850425.61, -122.03],\n",
       " [-0.4199999999999986, 1092055582.72, -117.6],\n",
       " [-0.4099999999999986, 1052011930.01, -113.25],\n",
       " [-0.3999999999999986, 1012719468.56, -108.98],\n",
       " [-0.38999999999999857, 974178197.11, -104.8],\n",
       " [-0.37999999999999856, 936388116.82, -100.69],\n",
       " [-0.36999999999999855, 899349226.7, -96.67],\n",
       " [-0.35999999999999854, 863061527.8, -92.73],\n",
       " [-0.34999999999999853, 827525018.29, -88.87],\n",
       " [-0.3399999999999985, 792739701.48, -85.09],\n",
       " [-0.3299999999999985, 758705573.82, -81.4],\n",
       " [-0.3199999999999985, 725422637.68, -77.78],\n",
       " [-0.3099999999999985, 692890891.23, -74.25],\n",
       " [-0.2999999999999985, 661110336.29, -70.8],\n",
       " [-0.2899999999999985, 630080971.44, -67.43],\n",
       " [-0.2799999999999985, 599802797.79, -64.14],\n",
       " [-0.26999999999999846, 570275814.16, -60.93],\n",
       " [-0.25999999999999845, 541500021.78, -57.81],\n",
       " [-0.24999999999999845, 513475418.66, -54.76],\n",
       " [-0.23999999999999844, 486202008.38, -51.8],\n",
       " [-0.22999999999999843, 459679787.29, -48.92],\n",
       " [-0.21999999999999842, 433908757.61, -46.12],\n",
       " [-0.2099999999999984, 408888917.76, -43.41],\n",
       " [-0.1999999999999984, 384620269.3, -40.77],\n",
       " [-0.1899999999999984, 361102810.82, -38.22],\n",
       " [-0.17999999999999838, 338336543.69, -35.74],\n",
       " [-0.16999999999999837, 316321466.52, -33.35],\n",
       " [-0.15999999999999837, 295057580.84, -31.04],\n",
       " [-0.14999999999999836, 274544884.21, -28.82],\n",
       " [-0.13999999999999835, 254783380.33, -26.67],\n",
       " [-0.12999999999999834, 235773065.78, -24.61],\n",
       " [-0.11999999999999833, 217513942.59, -22.62],\n",
       " [-0.10999999999999832, 200006009.4, -20.72],\n",
       " [-0.09999999999999831, 183249267.43, -18.9],\n",
       " [-0.0899999999999983, 167243715.51, -17.16],\n",
       " [-0.0799999999999983, 151989354.92, -15.51],\n",
       " [-0.06999999999999829, 137486184.43, -13.93],\n",
       " [-0.05999999999999828, 123734205.06, -12.44],\n",
       " [-0.04999999999999827, 110733414.9, -11.03],\n",
       " [-0.03999999999999826, 98483817.63, -9.7],\n",
       " [-0.02999999999999825, 86985409.69, -8.45],\n",
       " [-0.01999999999999824, 76238193.04, -7.28],\n",
       " [-0.009999999999998233, 66242166.33, -6.19],\n",
       " [1.7763568394002505e-15, 56997330.8, -5.19],\n",
       " [0.010000000000001563, 48503685.42, -4.27],\n",
       " [0.020000000000001794, 40761231.31, -3.43],\n",
       " [0.030000000000002025, 33769967.19, -2.67],\n",
       " [0.04000000000000181, 27529894.36, -1.99],\n",
       " [0.0500000000000016, 22041010.9, -1.39],\n",
       " [0.06000000000000183, 17303320.18, -0.88],\n",
       " [0.07000000000000206, 13316818.65, -0.45],\n",
       " [0.08000000000000185, 10081508.29, -0.09],\n",
       " [0.09000000000000163, 7597388.2, 0.17],\n",
       " [0.10000000000000187, 5864459.31, 0.36],\n",
       " [0.1100000000000021, 4882720.45, 0.47],\n",
       " [0.12000000000000188, 4652172.76, 0.49],\n",
       " [0.13000000000000167, 5172815.18, 0.44],\n",
       " [0.1400000000000019, 6444648.9, 0.3],\n",
       " [0.15000000000000213, 8467671.99, 0.08],\n",
       " [0.16000000000000192, 11241887.77, -0.22],\n",
       " [0.1700000000000017, 14767292.69, -0.6],\n",
       " [0.18000000000000194, 19043889.11, -1.07],\n",
       " [0.19000000000000217, 24071675.29, -1.61],\n",
       " [0.20000000000000195, 29850652.93, -2.24],\n",
       " [0.21000000000000174, 36380820.7, -2.95],\n",
       " [0.22000000000000197, 43662179.63, -3.74],\n",
       " [0.2300000000000022, 51694728.56, -4.61],\n",
       " [0.240000000000002, 60478468.76, -5.57],\n",
       " [0.2500000000000018, 70013398.25, -6.6],\n",
       " [0.260000000000002, 80299520.49, -7.72],\n",
       " [0.27000000000000224, 91336832.03, -8.92],\n",
       " [0.280000000000002, 103125334.92, -10.2],\n",
       " [0.2900000000000018, 115665027.69, -11.56],\n",
       " [0.30000000000000204, 128955911.84, -13.0],\n",
       " [0.3100000000000023, 142997985.94, -14.53],\n",
       " [0.32000000000000206, 157791251.39, -16.14],\n",
       " [0.33000000000000185, 173335706.77, -17.82],\n",
       " [0.3400000000000021, 189631353.71, -19.59],\n",
       " [0.3500000000000023, 206678189.7, -21.45],\n",
       " [0.3600000000000021, 224476218.41, -23.38],\n",
       " [0.3700000000000019, 243025436.4, -25.39],\n",
       " [0.3800000000000021, 262325845.85, -27.49],\n",
       " [0.39000000000000234, 282377445.24, -29.67],\n",
       " [0.40000000000000213, 303180235.89, -31.93],\n",
       " [0.4100000000000019, 324734216.53, -34.27],\n",
       " [0.42000000000000215, 347039388.53, -36.69],\n",
       " [0.4300000000000024, 370095750.62, -39.19],\n",
       " [0.44000000000000217, 393903303.86, -41.78],\n",
       " [0.45000000000000195, 418462046.3, -44.45],\n",
       " [0.4600000000000022, 443771981.6, -47.19],\n",
       " [0.4700000000000024, 469833106.28, -50.02],\n",
       " [0.4800000000000022, 496645422.21, -52.94],\n",
       " [0.490000000000002, 524208928.06, -55.93],\n",
       " [0.5000000000000022, 552523625.11, -59.01],\n",
       " [0.5100000000000025, 581589512.36, -62.16],\n",
       " [0.5200000000000022, 611406590.86, -65.4],\n",
       " [0.530000000000002, 641974859.37, -68.72],\n",
       " [0.5400000000000023, 673294319.04, -72.12],\n",
       " [0.5500000000000025, 705364968.19, -75.6],\n",
       " [0.5600000000000023, 738186810.0, -79.17],\n",
       " [0.5700000000000021, 771759841.07, -82.81],\n",
       " [0.5800000000000023, 806084063.36, -86.54],\n",
       " [0.5900000000000025, 841159475.82, -90.35],\n",
       " [0.6000000000000023, 876986079.53, -94.24],\n",
       " [0.6100000000000021, 913563873.25, -98.22],\n",
       " [0.6200000000000023, 950892858.21, -102.27],\n",
       " [0.6300000000000026, 988973033.23, -106.4],\n",
       " [0.6400000000000023, 1027804399.49, -110.62],\n",
       " [0.6500000000000021, 1067386955.15, -114.92],\n",
       " [0.6600000000000024, 1107720703.53, -119.3],\n",
       " [0.6700000000000026, 1148805641.02, -123.76],\n",
       " [0.6800000000000024, 1190641770.05, -128.31],\n",
       " [0.6900000000000022, 1233229088.83, -132.93],\n",
       " [0.7000000000000024, 1276567599.08, -137.64],\n",
       " [0.7100000000000026, 1320657299.38, -142.43],\n",
       " [0.7200000000000024, 1365498190.9, -147.3],\n",
       " [0.7300000000000022, 1411090272.46, -152.25],\n",
       " [0.7400000000000024, 1457433545.26, -157.28],\n",
       " [0.7500000000000027, 1504528007.36, -162.4],\n",
       " [0.7600000000000025, 1552373662.17, -167.59],\n",
       " [0.7700000000000022, 1600970506.34, -172.87],\n",
       " [0.7800000000000025, 1650318541.75, -178.23],\n",
       " [0.7900000000000027, 1700417767.18, -183.67],\n",
       " [0.8000000000000025, 1751268183.92, -189.19],\n",
       " [0.8100000000000023, 1802869790.57, -194.8],\n",
       " [0.8200000000000025, 1855222588.6, -200.48],\n",
       " [0.8300000000000027, 1908326576.59, -206.25],\n",
       " [0.8400000000000025, 1962181756.1, -212.1],\n",
       " [0.8500000000000023, 2016788124.7, -218.03],\n",
       " [0.8600000000000025, 2072145685.97, -224.04],\n",
       " [0.8700000000000028, 2128254436.55, -230.13],\n",
       " [0.8800000000000026, 2185114378.57, -236.31],\n",
       " [0.8900000000000023, 2242725510.55, -242.57],\n",
       " [0.9000000000000026, 2301087833.77, -248.9],\n",
       " [0.9100000000000028, 2360201347.06, -255.32],\n",
       " [0.9200000000000026, 2420066051.65, -261.82],\n",
       " [0.9300000000000024, 2480681946.32, -268.41],\n",
       " [0.9400000000000026, 2542049032.13, -275.07],\n",
       " [0.9500000000000028, 2604167307.17, -281.82],\n",
       " [0.9600000000000026, 2667036775.1, -288.65],\n",
       " [0.9700000000000024, 2730657432.29, -295.56],\n",
       " [0.9800000000000026, 2795029280.88, -302.55],\n",
       " [0.9900000000000029, 2860152319.28, -309.62],\n",
       " [1.0000000000000027, 2926026548.91, -316.77],\n",
       " [1.0100000000000025, 2992651968.82, -324.01],\n",
       " [1.0200000000000027, 3060028579.89, -331.33],\n",
       " [1.030000000000003, 3128156380.91, -338.72],\n",
       " [1.0400000000000027, 3197035373.21, -346.21],\n",
       " [1.0500000000000025, 3266665554.91, -353.77],\n",
       " [1.0600000000000027, 3337046929.4, -361.41],\n",
       " [1.070000000000003, 3408179493.01, -369.14],\n",
       " [1.0800000000000027, 3480063247.94, -376.94],\n",
       " [1.0900000000000025, 3552698192.96, -384.83],\n",
       " [1.1000000000000028, 3626084329.27, -392.8],\n",
       " [1.110000000000003, 3700221655.61, -400.85],\n",
       " [1.1200000000000028, 3775110173.13, -408.99],\n",
       " [1.1300000000000026, 3850749880.66, -417.2],\n",
       " [1.1400000000000028, 3927140779.6, -425.5],\n",
       " [1.150000000000003, 4004282867.81, -433.87],\n",
       " [1.1600000000000028, 4082176148.79, -442.33],\n",
       " [1.1700000000000026, 4160820618.92, -450.87],\n",
       " [1.1800000000000028, 4240216280.56, -459.5],\n",
       " [1.190000000000003, 4320363131.84, -468.2],\n",
       " [1.2000000000000028, 4401261174.68, -476.99],\n",
       " [1.2100000000000026, 4482910407.59, -485.85],\n",
       " [1.2200000000000029, 4565310831.66, -494.8],\n",
       " [1.230000000000003, 4648462445.89, -503.83],\n",
       " [1.2400000000000029, 4732365251.25, -512.95],\n",
       " [1.2500000000000027, 4817019245.97, -522.14],\n",
       " [1.260000000000003, 4902424433.39, -531.41],\n",
       " [1.2700000000000031, 4988580810.07, -540.77],\n",
       " [1.280000000000003, 5075488378.16, -550.21],\n",
       " [1.2900000000000027, 5163147136.14, -559.73],\n",
       " [1.300000000000003, 5251557085.43, -569.33],\n",
       " [1.3100000000000032, 5340718224.7, -579.01],\n",
       " [1.320000000000003, 5430630555.36, -588.78],\n",
       " [1.3300000000000027, 5521294075.86, -598.63],\n",
       " [1.340000000000003, 5612708788.02, -608.55],\n",
       " [1.3500000000000032, 5704874689.17, -618.56],\n",
       " [1.360000000000003, 5797791783.09, -628.65],\n",
       " [1.3700000000000028, 5891460066.24, -638.83],\n",
       " [1.380000000000003, 5985879540.82, -649.08],\n",
       " [1.3900000000000032, 6081050205.44, -659.42],\n",
       " [1.400000000000003, 6176972061.28, -669.83],\n",
       " [1.4100000000000028, 6273645107.11, -680.33],\n",
       " [1.420000000000003, 6371069344.27, -690.91],\n",
       " [1.4300000000000033, 6469244771.47, -701.57],\n",
       " [1.440000000000003, 6568171389.95, -712.32],\n",
       " [1.4500000000000028, 6667849197.58, -723.14],\n",
       " [1.460000000000003, 6768278198.1, -734.05],\n",
       " [1.4700000000000033, 6869458387.91, -745.04],\n",
       " [1.480000000000003, 6971389769.02, -756.11],\n",
       " [1.4900000000000029, 7074072340.02, -767.26],\n",
       " [1.500000000000003, 7177506102.26, -778.49],\n",
       " [1.5100000000000033, 7281691054.7, -789.81],\n",
       " [1.5200000000000031, 7386627198.4, -801.2],\n",
       " [1.530000000000003, 7492314532.01, -812.68],\n",
       " [1.5400000000000031, 7598753056.86, -824.24],\n",
       " [1.5500000000000034, 7705942771.23, -835.88],\n",
       " [1.5600000000000032, 7813883678.3, -847.61],\n",
       " [1.570000000000003, 7922575774.51, -859.41],\n",
       " [1.5800000000000032, 8032019061.96, -871.3],\n",
       " [1.5900000000000034, 8142213539.6, -883.26],\n",
       " [1.6000000000000032, 8253159208.44, -895.31],\n",
       " [1.610000000000003, 8364856067.42, -907.44],\n",
       " [1.6200000000000032, 8477304117.46, -919.65],\n",
       " [1.6300000000000034, 8590503357.71, -931.95],\n",
       " [1.6400000000000032, 8704453789.16, -944.32],\n",
       " [1.650000000000003, 8819155409.99, -956.78],\n",
       " [1.6600000000000033, 8934608223.57, -969.32],\n",
       " [1.6700000000000035, 9050812226.24, -981.94],\n",
       " [1.6800000000000033, 9167767420.46, -994.64],\n",
       " [1.690000000000003, 9285473804.43, -1007.42],\n",
       " [1.7000000000000033, 9403931379.81, -1020.29],\n",
       " [1.7100000000000035, 9523140145.31, -1033.23],\n",
       " [1.7200000000000033, 9643100102.04, -1046.26],\n",
       " [1.730000000000003, 9763811248.8, -1059.37],\n",
       " [1.7400000000000033, 9885273586.73, -1072.56],\n",
       " [1.7500000000000036, 10007487114.01, -1085.84],\n",
       " [1.7600000000000033, 10130451834.06, -1099.19],\n",
       " [1.7700000000000031, 10254167743.34, -1112.63],\n",
       " [1.7800000000000034, 10378634844.05, -1126.14],\n",
       " [1.7900000000000036, 10503853134.58, -1139.74],\n",
       " [1.8000000000000034, 10629822616.47, -1153.42],\n",
       " [1.8100000000000032, 10756543288.3, -1167.18],\n",
       " [1.8200000000000034, 10884015151.54, -1181.03],\n",
       " [1.8300000000000036, 11012238204.69, -1194.95],\n",
       " [1.8400000000000034, 11141212449.43, -1208.96],\n",
       " [1.8500000000000032, 11270937883.15, -1223.05],\n",
       " [1.8600000000000034, 11401414509.59, -1237.22],\n",
       " [1.8700000000000037, 11532642325.43, -1251.47],\n",
       " [1.8800000000000034, 11664621332.58, -1265.8],\n",
       " [1.8900000000000032, 11797351529.74, -1280.22],\n",
       " [1.9000000000000035, 11930832918.18, -1294.72],\n",
       " [1.9100000000000037, 12065065496.59, -1309.29],\n",
       " [1.9200000000000035, 12200049266.34, -1323.95],\n",
       " [1.9300000000000033, 12335784226.2, -1338.69],\n",
       " [1.9400000000000035, 12472270377.23, -1353.52],\n",
       " [1.9500000000000037, 12609507717.46, -1368.42],\n",
       " [1.9600000000000035, 12747496250.55, -1383.41],\n",
       " [1.9700000000000033, 12886235972.98, -1398.47],\n",
       " [1.9800000000000035, 13025726886.68, -1413.62],\n",
       " [1.9900000000000038, 13165968990.29, -1428.85]]"
      ]
     },
     "execution_count": 19,
     "metadata": {},
     "output_type": "execute_result"
    }
   ],
   "source": [
    "## Set up a list to append the m, RSS, and R2 results for each slope\n",
    "res=[['m','RSS','R2']]\n",
    "\n",
    "## For loop trying all possible slopes\n",
    "for m in slope_list:\n",
    "    results, _ = evaluate_model(X,y,m,INTERCEPT)\n",
    "    res.append([m,results['RSS'],results['R2']])\n",
    "res"
   ]
  },
  {
   "cell_type": "code",
   "execution_count": 20,
   "metadata": {
    "ExecuteTime": {
     "end_time": "2020-08-26T23:39:36.278280Z",
     "start_time": "2020-08-26T23:39:36.265881Z"
    }
   },
   "outputs": [
    {
     "data": {
      "text/html": [
       "<div>\n",
       "<style scoped>\n",
       "    .dataframe tbody tr th:only-of-type {\n",
       "        vertical-align: middle;\n",
       "    }\n",
       "\n",
       "    .dataframe tbody tr th {\n",
       "        vertical-align: top;\n",
       "    }\n",
       "\n",
       "    .dataframe thead th {\n",
       "        text-align: right;\n",
       "    }\n",
       "</style>\n",
       "<table border=\"1\" class=\"dataframe\">\n",
       "  <thead>\n",
       "    <tr style=\"text-align: right;\">\n",
       "      <th></th>\n",
       "      <th>m</th>\n",
       "      <th>RSS</th>\n",
       "      <th>R2</th>\n",
       "    </tr>\n",
       "  </thead>\n",
       "  <tbody>\n",
       "    <tr>\n",
       "      <th>0</th>\n",
       "      <td>-2.00</td>\n",
       "      <td>1.685466e+10</td>\n",
       "      <td>-1829.45</td>\n",
       "    </tr>\n",
       "    <tr>\n",
       "      <th>1</th>\n",
       "      <td>-1.99</td>\n",
       "      <td>1.669593e+10</td>\n",
       "      <td>-1812.22</td>\n",
       "    </tr>\n",
       "    <tr>\n",
       "      <th>2</th>\n",
       "      <td>-1.98</td>\n",
       "      <td>1.653795e+10</td>\n",
       "      <td>-1795.06</td>\n",
       "    </tr>\n",
       "    <tr>\n",
       "      <th>3</th>\n",
       "      <td>-1.97</td>\n",
       "      <td>1.638072e+10</td>\n",
       "      <td>-1777.98</td>\n",
       "    </tr>\n",
       "    <tr>\n",
       "      <th>4</th>\n",
       "      <td>-1.96</td>\n",
       "      <td>1.622424e+10</td>\n",
       "      <td>-1760.99</td>\n",
       "    </tr>\n",
       "    <tr>\n",
       "      <th>...</th>\n",
       "      <td>...</td>\n",
       "      <td>...</td>\n",
       "      <td>...</td>\n",
       "    </tr>\n",
       "    <tr>\n",
       "      <th>395</th>\n",
       "      <td>1.95</td>\n",
       "      <td>1.260951e+10</td>\n",
       "      <td>-1368.42</td>\n",
       "    </tr>\n",
       "    <tr>\n",
       "      <th>396</th>\n",
       "      <td>1.96</td>\n",
       "      <td>1.274750e+10</td>\n",
       "      <td>-1383.41</td>\n",
       "    </tr>\n",
       "    <tr>\n",
       "      <th>397</th>\n",
       "      <td>1.97</td>\n",
       "      <td>1.288624e+10</td>\n",
       "      <td>-1398.47</td>\n",
       "    </tr>\n",
       "    <tr>\n",
       "      <th>398</th>\n",
       "      <td>1.98</td>\n",
       "      <td>1.302573e+10</td>\n",
       "      <td>-1413.62</td>\n",
       "    </tr>\n",
       "    <tr>\n",
       "      <th>399</th>\n",
       "      <td>1.99</td>\n",
       "      <td>1.316597e+10</td>\n",
       "      <td>-1428.85</td>\n",
       "    </tr>\n",
       "  </tbody>\n",
       "</table>\n",
       "<p>400 rows × 3 columns</p>\n",
       "</div>"
      ],
      "text/plain": [
       "        m           RSS       R2\n",
       "0   -2.00  1.685466e+10 -1829.45\n",
       "1   -1.99  1.669593e+10 -1812.22\n",
       "2   -1.98  1.653795e+10 -1795.06\n",
       "3   -1.97  1.638072e+10 -1777.98\n",
       "4   -1.96  1.622424e+10 -1760.99\n",
       "..    ...           ...      ...\n",
       "395  1.95  1.260951e+10 -1368.42\n",
       "396  1.96  1.274750e+10 -1383.41\n",
       "397  1.97  1.288624e+10 -1398.47\n",
       "398  1.98  1.302573e+10 -1413.62\n",
       "399  1.99  1.316597e+10 -1428.85\n",
       "\n",
       "[400 rows x 3 columns]"
      ]
     },
     "execution_count": 20,
     "metadata": {},
     "output_type": "execute_result"
    }
   ],
   "source": [
    "res_df = pd.DataFrame(res[1:], columns=res[0])\n",
    "res_df"
   ]
  },
  {
   "cell_type": "code",
   "execution_count": 21,
   "metadata": {
    "ExecuteTime": {
     "end_time": "2020-08-26T23:39:46.475734Z",
     "start_time": "2020-08-26T23:39:46.207978Z"
    }
   },
   "outputs": [
    {
     "data": {
      "text/plain": [
       "[Text(0, 0.5, 'RSS'),\n",
       " Text(0.5, 0, 'Slope Value'),\n",
       " Text(0.5, 1.0, 'Cost Curve for m')]"
      ]
     },
     "execution_count": 21,
     "metadata": {},
     "output_type": "execute_result"
    },
    {
     "data": {
      "image/png": "[encoded data removed]",
      "text/plain": [
       "<Figure size 432x288 with 1 Axes>"
      ]
     },
     "metadata": {
      "needs_background": "light"
     },
     "output_type": "display_data"
    }
   ],
   "source": [
    "ax = res_df.plot('m','RSS',figsize=(6,4))\n",
    "ax.set(ylabel='RSS',xlabel='Slope Value',title='Cost Curve for m')"
   ]
  },
  {
   "cell_type": "code",
   "execution_count": 22,
   "metadata": {
    "ExecuteTime": {
     "end_time": "2020-08-26T23:40:06.631841Z",
     "start_time": "2020-08-26T23:40:06.623536Z"
    }
   },
   "outputs": [
    {
     "data": {
      "text/html": [
       "<div>\n",
       "<style scoped>\n",
       "    .dataframe tbody tr th:only-of-type {\n",
       "        vertical-align: middle;\n",
       "    }\n",
       "\n",
       "    .dataframe tbody tr th {\n",
       "        vertical-align: top;\n",
       "    }\n",
       "\n",
       "    .dataframe thead th {\n",
       "        text-align: right;\n",
       "    }\n",
       "</style>\n",
       "<table border=\"1\" class=\"dataframe\">\n",
       "  <thead>\n",
       "    <tr style=\"text-align: right;\">\n",
       "      <th></th>\n",
       "      <th>m</th>\n",
       "      <th>RSS</th>\n",
       "      <th>R2</th>\n",
       "    </tr>\n",
       "  </thead>\n",
       "  <tbody>\n",
       "    <tr>\n",
       "      <th>212</th>\n",
       "      <td>0.12</td>\n",
       "      <td>4652172.76</td>\n",
       "      <td>0.49</td>\n",
       "    </tr>\n",
       "    <tr>\n",
       "      <th>211</th>\n",
       "      <td>0.11</td>\n",
       "      <td>4882720.45</td>\n",
       "      <td>0.47</td>\n",
       "    </tr>\n",
       "    <tr>\n",
       "      <th>213</th>\n",
       "      <td>0.13</td>\n",
       "      <td>5172815.18</td>\n",
       "      <td>0.44</td>\n",
       "    </tr>\n",
       "    <tr>\n",
       "      <th>210</th>\n",
       "      <td>0.10</td>\n",
       "      <td>5864459.31</td>\n",
       "      <td>0.36</td>\n",
       "    </tr>\n",
       "    <tr>\n",
       "      <th>214</th>\n",
       "      <td>0.14</td>\n",
       "      <td>6444648.90</td>\n",
       "      <td>0.30</td>\n",
       "    </tr>\n",
       "  </tbody>\n",
       "</table>\n",
       "</div>"
      ],
      "text/plain": [
       "        m         RSS    R2\n",
       "212  0.12  4652172.76  0.49\n",
       "211  0.11  4882720.45  0.47\n",
       "213  0.13  5172815.18  0.44\n",
       "210  0.10  5864459.31  0.36\n",
       "214  0.14  6444648.90  0.30"
      ]
     },
     "execution_count": 22,
     "metadata": {},
     "output_type": "execute_result"
    }
   ],
   "source": [
    "res_df.sort_values('RSS').head()"
   ]
  },
  {
   "cell_type": "code",
   "execution_count": 23,
   "metadata": {
    "ExecuteTime": {
     "end_time": "2020-08-26T23:40:23.779918Z",
     "start_time": "2020-08-26T23:40:23.777511Z"
    }
   },
   "outputs": [],
   "source": [
    "best_m = 0.12"
   ]
  },
  {
   "cell_type": "code",
   "execution_count": 24,
   "metadata": {
    "ExecuteTime": {
     "end_time": "2020-08-26T23:40:25.612566Z",
     "start_time": "2020-08-26T23:40:25.331425Z"
    }
   },
   "outputs": [
    {
     "name": "stdout",
     "output_type": "stream",
     "text": [
      "RSS = 4652172.76\n",
      "RMSE = 1.48\n",
      "R2 = 0.49\n"
     ]
    },
    {
     "data": {
      "image/png": "[encoded data removed]",
      "text/plain": [
       "<Figure size 720x432 with 1 Axes>"
      ]
     },
     "metadata": {
      "needs_background": "light"
     },
     "output_type": "display_data"
    }
   ],
   "source": [
    "## Use Best Slope to get final model result using evaluate_model\n",
    "evaluate_model(X,y,best_m,INTERCEPT,True,True);"
   ]
  },
  {
   "cell_type": "markdown",
   "metadata": {},
   "source": [
    "> The bottom of the blue curve displays the $m$ value that produces the lowest RSS.\n",
    "\n",
    "> - ***So why can't we try every possible option all the time? Why can't we just test out every possible value and find the value that minimizes our loss function?***"
   ]
  },
  {
   "cell_type": "markdown",
   "metadata": {},
   "source": [
    "> - ***Because our equations will get more complex and  we will be dealing with more than 1 variable to optimize***"
   ]
  },
  {
   "cell_type": "markdown",
   "metadata": {},
   "source": [
    "## Gradient Descent to Find Optimal Parameters - Step Size"
   ]
  },
  {
   "cell_type": "markdown",
   "metadata": {},
   "source": [
    "### The slope of the cost curve tells us our step size"
   ]
  },
  {
   "cell_type": "markdown",
   "metadata": {},
   "source": [
    "- **The sign (+/-) of the slope indicates if we are approaching the minimum**\n",
    "    * If the slope tilts downwards, then we should walk forward to approach the minimum.  \n",
    "    * And if the slope tilts upwards, then we should point walk backwards to approach the minimum.  \n",
    "* **The steeper the tilt, the further away we are from our cost curve's minimum, so we should take a larger step.**\n",
    "\n",
    "<img src=\"https://raw.githubusercontent.com/jirvingphd/dsc-gradient-descent-step-sizes-online-ds-ft-100719/master/images/snowboard.png\" width=60%>\n"
   ]
  },
  {
   "cell_type": "markdown",
   "metadata": {},
   "source": [
    "## Step Size"
   ]
  },
  {
   "cell_type": "markdown",
   "metadata": {},
   "source": [
    "* We **cannot** simply use the derivative to find the minimum.  Using that approach will be impossible in many scenarios as our regression lines become more complicated.\n",
    "\n",
    "* We **cannot** alter all of the variables of our regression line across all points and calculate the result.  It will take too much time, as we have more variables to alter. \n",
    "\n",
    "\n",
    "> Let's call each of these changes a **step**, and the size of the change our **step size**. \n",
    "\n",
    "Our new task is to find step sizes that bring us to the best RSS quickly without overshooting the mark."
   ]
  },
  {
   "cell_type": "markdown",
   "metadata": {},
   "source": [
    "- True Gradient Descent doesn't just try a fixed number of evenly spaced values.\n",
    "- It uses the size of the slope to indicated **how much** the parameter should change (the **step size**).\n",
    "- We use a parameter called the **learning rate** to control how rapidly we update the parameter.\n"
   ]
  },
  {
   "cell_type": "markdown",
   "metadata": {},
   "source": [
    "## Updating our slope"
   ]
  },
  {
   "cell_type": "markdown",
   "metadata": {},
   "source": [
    "\n",
    "- **We use the following procedure to find the ideal $m$:**\n",
    "\n",
    "$$\\large m_i = m_{i-1} - \\text{LR}* Loss_{m_i}$$\n",
    "\n",
    "- $m_i$ = Updated slope value for the model. \n",
    "- $m_{i-1}$ = the model's prior slope value\n",
    "\n",
    "- LR represents the Learning Rate\n",
    "    - A decimal between 0 and 1 (usually)\n",
    "- $Cost_{m_i}$ = current slope value from cost function's derivative.\n",
    "\n",
    "> Lesson's Version: <br>\"Update $m$ with the formula $ m = (-.02) * slope_{m = i} + m_i$.\"\n",
    "\n",
    "\n",
    "\n"
   ]
  },
  {
   "cell_type": "markdown",
   "metadata": {
    "ExecuteTime": {
     "end_time": "2020-03-16T22:06:20.911894Z",
     "start_time": "2020-03-16T22:06:20.909740Z"
    }
   },
   "source": [
    "## Activity: Gradient Descent Step Sizes Lab"
   ]
  },
  {
   "cell_type": "markdown",
   "metadata": {},
   "source": [
    "- **Notebook:** `fsds_pt_100719_cohort_notes/labs_from_class/sect_23_derivatives/sect_23_gradient_descent_step_size_lab_SG.ipynb`\n",
    "\n",
    "- **Lesson**:\n",
    "    - https://learn.co/tracks/module-3-data-science-career-2-1/machine-learning/section-23-calculus/gradient-descent-step-sizes"
   ]
  },
  {
   "cell_type": "markdown",
   "metadata": {},
   "source": [
    "### Learning Rate"
   ]
  },
  {
   "cell_type": "markdown",
   "metadata": {},
   "source": [
    "1. A small learning rate requires many updates before reaching the minimum \n",
    "2. The optimal learning rate quickly converges to the minimum point \n",
    "3. A learning rate that is too large leads to divergent behavior: you may bounce around the minimum!  \n",
    "\n",
    "<img src=\"https://raw.githubusercontent.com/jirvingphd/dsc-lp-gradient-descent/master/images/learning_rates.png\" width=70%>"
   ]
  },
  {
   "cell_type": "markdown",
   "metadata": {},
   "source": [
    "### Gradient Descent with RSS as a Multivariate Equation\n",
    "\n",
    "\n",
    "- Cost Function $J$ (RSS):\n",
    "\n",
    "$$ \\large RSS =  \\sum_{i=1}^n(y_i - \\hat{y})^2 $$ \n",
    "\n",
    "$$ \\large J(m, b) = \\sum_{i=1}^{n}(y_i - \\hat{y})^2 $$\n",
    "\n",
    "- we know $\\hat{y} = mx + b$, so: \n",
    "\n",
    "$$ J(m, b) = \\sum_{i=1}^{n}(y_i - (mx_i + b))^2 $$\n",
    "\n",
    "\n"
   ]
  },
  {
   "cell_type": "markdown",
   "metadata": {},
   "source": [
    "- Examine our cost curve once it includes both $m$ and $b$\n",
    "\n",
    "<img src=\"https://raw.githubusercontent.com/jirvingphd/dsc-gradient-descent-step-sizes-online-ds-pt-100719/master/images/new_gradientdescent.png\" width=70%>"
   ]
  },
  {
   "cell_type": "markdown",
   "metadata": {},
   "source": [
    "___"
   ]
  },
  {
   "cell_type": "markdown",
   "metadata": {},
   "source": [
    "# 🗓 Section 23 - Pt3: Gradient Descent in 3D\n",
    "- 03/18/20"
   ]
  },
  {
   "cell_type": "markdown",
   "metadata": {},
   "source": [
    "## Questions?\n"
   ]
  },
  {
   "cell_type": "markdown",
   "metadata": {},
   "source": [
    "- "
   ]
  },
  {
   "cell_type": "markdown",
   "metadata": {},
   "source": [
    "## Learning Objectives"
   ]
  },
  {
   "cell_type": "markdown",
   "metadata": {},
   "source": [
    "- ~~Review how we can use derivatives to find minima/maxima~~\n",
    "- ~~Introduce the terminology of Cost/Loss functions~~\n",
    "- ~~Attempt to guess a linear regression model on our own using derivatives, but without gradient descent.~~\n",
    "- ~~Learn what gradient descent is and what step sizes are.~~\n",
    "- ~~Activity: Step Sizes Lab.~~\n",
    "- Define what a gradient really is in multiple dimensions.\n",
    "- Demonstrate Gradient Descent using a Linear Regression model with Residual Sum of Squares.\n",
    "- **Activity: Applying Gradient Descent Lab**"
   ]
  },
  {
   "cell_type": "markdown",
   "metadata": {},
   "source": [
    "## Gradient Descent in 3D"
   ]
  },
  {
   "cell_type": "markdown",
   "metadata": {},
   "source": [
    "- Gradient Descent in 3D will involve tuning multiple parameters simultaneously.\n",
    "\n",
    "- A 3D Gradient ($\\nabla$) uses **partial derivatives** test the best direction and magnitude to adjust both $m$ and $b$ .\n",
    "\n",
    "$$ \\large \\nabla J(m, b) = \\frac{\\delta J}{\\delta m}, \\frac{\\delta J}{\\delta b}$$\n",
    "<img src=\"https://raw.githubusercontent.com/jirvingphd/dsc-gradient-descent-step-sizes-online-ds-pt-100719/master/images/new_gradientdescent.png\" width=70%>\n"
   ]
  },
  {
   "cell_type": "markdown",
   "metadata": {},
   "source": [
    "<!---#### Gradient Descent - Standing on a Rock\n",
    "\n",
    "<img src=\"https://raw.githubusercontent.com/jirvingphd/dsc-gradient-descent-in-3d-online-ds-ft-100719/master/images/traveller-stepping.jpg\" width=100%>\n",
    "\n",
    "> So how does this approach of shifting back and forth translate mathematically?  It means we determine the slope in one dimension, then the other. Then, we move where that slope is steepest downwards.  This moves us towards our minimum.\n",
    "\n",
    "--->\n",
    "\n",
    "#### Gradient Descent Upside Down: Mountain Climbing\n",
    "\n",
    "<img src=\"https://raw.githubusercontent.com/learn-co-students/dsc-the-gradient-in-gradient-descent-online-ds-ft-100719/master/images/Denali.jpg\">\n",
    "\n",
    "\n",
    "> Here, in finding gradient ascent, our task is not to calculate the gain from a move in either the $x$ or $y$ direction.  Instead, our task is to **find some combination of a change in $x$,$y$ that brings the largest change in output**.  \n",
    "\n",
    "\n",
    "- Our function $f(x,y)$ represents the movement of the climbers towards the summit.\n",
    "\n",
    "- So $\\nabla f(x, y) = \\frac{\\delta f}{\\delta y}, \\frac{\\delta f}{\\delta x} $.  \n",
    "\n",
    "<!---\n",
    "- This means that to take the path of greatest ascent, you should move $ \\frac{\\delta f}{\\delta y} $ divided by $ \\frac{\\delta f}{\\delta x} $.  \n",
    "\n",
    "\n",
    "- So for example, when $ \\frac{\\delta f}{\\delta y}f(x, y)  = 3 $ , and $ \\frac{\\delta f}{\\delta x}f(x, y)  = 2$, you traveled in line with a slope of 3/2.\n",
    "\n",
    "- For gradient descent, that is to find the direction of greatest decrease, you simply reverse the direction of your partial derivatives and move in $ - \\frac{\\delta f}{\\delta y}, - \\frac{\\delta f}{\\delta x}$. --->"
   ]
  },
  {
   "cell_type": "markdown",
   "metadata": {},
   "source": [
    "### Gradient Descent with Linear Regression"
   ]
  },
  {
   "cell_type": "markdown",
   "metadata": {},
   "source": [
    "$$ \n",
    "\\begin{align}\n",
    "RSS &= \\sum_{i=1}^n(actual - expected)^2 \\\\\n",
    "&= \\sum_{i=1}^n(y_i - \\hat{y})^2 \\\\\n",
    "&= \\sum_{i=1}^n(y_i - (mx_i + b))^2\n",
    "\\end{align}\n",
    "$$ "
   ]
  },
  {
   "cell_type": "markdown",
   "metadata": {},
   "source": [
    "#### Update Rule:\n"
   ]
  },
  {
   "cell_type": "markdown",
   "metadata": {},
   "source": [
    "### Equation for Calculating RSS Partial Derivatives"
   ]
  },
  {
   "cell_type": "markdown",
   "metadata": {},
   "source": [
    "<img src=\"https://raw.githubusercontent.com/jirvingphd/dsc-gradient-descent-step-sizes-online-ds-pt-100719/master/images/new_gradientdescent.png\" width=40%>"
   ]
  },
  {
   "cell_type": "markdown",
   "metadata": {},
   "source": [
    "$$ \\large J(m, b)= \\sum_{i=1}^n(y_i - (mx_i + b))^2 $$\n",
    "\n",
    "As we know, the gradient of a function is simply the partial derivatives with respect to each of the variables, so:\n",
    "\n",
    "$$ \\large \\nabla J(m, b) = \\frac{\\delta J}{\\delta m}, \\frac{\\delta J}{\\delta b}$$\n",
    "\n",
    "\n",
    "$$\n",
    "\\begin{align}\n",
    "\\frac{\\delta J}{\\delta m}J(m, b) & = \\boldsymbol{\\frac{\\delta J}{\\delta m}}(y - (mx + b))^2  &&\\text{partial derivative with respect to} \\textbf{ m}\\\\\n",
    "\\\\\n",
    "\\frac{\\delta J}{\\delta b}J(m, b) & = \\boldsymbol{\\frac{\\delta J}{\\delta b}}(y - (mx + b))^2  &&\\text{partial derivative with respect to} \\textbf{ b}\\\\\n",
    "\\end{align}\n",
    "$$"
   ]
  },
  {
   "cell_type": "markdown",
   "metadata": {},
   "source": [
    "- **The equations for the partial derivatives of our RSS function with respect to m and b are:**\n",
    "\n",
    "\n",
    "$$ \\frac{dJ}{dm}J(m,b) = -2\\sum_{i = 1}^n x_i(y_i - (mx_i + b)) = -2\\sum_{i = 1}^n x_i*\\epsilon_i$$\n",
    "\n",
    "$$  \\frac{dJ}{db}J(m,b) = -2\\sum_{i = 1}^n(y_i - (mx_i + b)) = -2\\sum_{i = 1}^n \\epsilon_i $$\n",
    "\n",
    "- Our update rules for m and b become:\n",
    "    - `current_m` = `old_m` $ -  (-2*\\sum_{i=1}^n x_i*\\epsilon_i )$\n",
    "\n",
    "    - `current_b` =  `old_b` $ - ( -2*\\sum_{i=1}^n \\epsilon_i )$"
   ]
  },
  {
   "cell_type": "markdown",
   "metadata": {},
   "source": [
    "### Note: Source of these Equations\n",
    "- **These formulas are derived in one of the Appendix lessons for this section that applies the Chain Rule (also an appendix lesson)**\n",
    "    - [Appendix Lesson: The Chain Rule](https://learn.co/tracks/module-3-data-science-career-2-1/appendix/more-on-derivatives/derivatives-the-chain-rule)\n",
    "    - [Appendix Lesson: Gradient to Cost Function](https://learn.co/tracks/module-3-data-science-career-2-1/appendix/more-on-derivatives/gradient-to-cost-function-appendix)\n",
    "    \n",
    "> The chain rule says that we can represent complex equations as multiple equations, and then we can take the derivative of outer and inner equations separately.\n",
    "\n",
    "> $$ \\large F(x) = f(g(x)) $$\n",
    "> $$ \\large F'(x) = f'(g(x))*g'(x) $$\n",
    "\n",
    "\n",
    "\n",
    "- **Applied to our Cost Function:**\n",
    "\n",
    "\n",
    "> \"In calculating the partial derivatives of our function $J(m, b) = \\sum_{i=1}^{n}(y_i - (mx_i + b))^2$, **we won't change the result if we ignore the summation until the very end**.\" \n",
    "\n",
    "$$ J(m, b)= \\sum_{i=1}^n(y_i - (mx_i + b))^2 $$\n",
    "\n",
    "$$ g(m,b) = y - (mx + b)$$ \n",
    "\n",
    "$$ f(g(m,b))= (g(m,b))^2 $$\n",
    "\n",
    "\n"
   ]
  },
  {
   "cell_type": "markdown",
   "metadata": {},
   "source": [
    "## Activity: Apply Gradient Descent Lab"
   ]
  },
  {
   "cell_type": "markdown",
   "metadata": {},
   "source": [
    "- **Notebook:** `Mod 3>sect_23> dsc-applying-gradient-descent-lab-onl01-dtsc-pt-041320-master`\n",
    "\n",
    "- **Lesson**:\n",
    "    - https://learn.co/tracks/module-3-data-science-career-2-1/machine-learning/section-23-calculus/applying-gradient-descent-lab"
   ]
  },
  {
   "cell_type": "markdown",
   "metadata": {},
   "source": [
    "___"
   ]
  },
  {
   "cell_type": "markdown",
   "metadata": {},
   "source": [
    "# APPENDIX"
   ]
  },
  {
   "cell_type": "markdown",
   "metadata": {},
   "source": [
    "### Partial Derivatives"
   ]
  },
  {
   "cell_type": "markdown",
   "metadata": {},
   "source": [
    "$$\\large f(x, y) = y*x^2 $$\n",
    "\n",
    "<img src='https://raw.githubusercontent.com/learn-co-students/dsc-gradient-descent-in-3d-online-ds-pt-100719/master/images/new_parabolayx2.png' width=40%/>\n"
   ]
  },
  {
   "cell_type": "markdown",
   "metadata": {},
   "source": [
    "- To measure the slope in each dimension, one after the other, we'll take the derivative with respect to one variable, and then take the derivative with respect to another variable.  \n",
    "\n",
    "- To take a derivative with respect to $x$ means to ask, how does the output change, as we make a nudge only in the $x$ direction. \n",
    "- To express that we are nudging in the $x$ direction we say $\\frac{\\delta f}{\\delta x}$. \n",
    "    - We fill in a constant for the value of y (the current value) and then take the derivative with respect to x. \n",
    "\n",
    "-  To express we are nudging in the $y$ direction, we say $\\frac{\\delta f}{\\delta y}$. \n",
    "    - We fill in a constant for the value of x and then take the derivative with respect to y\n"
   ]
  },
  {
   "cell_type": "markdown",
   "metadata": {},
   "source": [
    "So what does a derivative $\\frac{\\delta f}{\\delta x}$ look like? How do we think of a partial derivative of a multivariable function?\n",
    "\n",
    "Well, remember how we think of a standard derivative of a one variable function, for example $f(x) = x^2 $. "
   ]
  },
  {
   "cell_type": "markdown",
   "metadata": {},
   "source": [
    "$\\frac{df}{dy}f(x, y)$ where $f(x,y) = (yx^2) $.  "
   ]
  },
  {
   "cell_type": "markdown",
   "metadata": {},
   "source": [
    "## Gradient Descent Notation"
   ]
  },
  {
   "cell_type": "markdown",
   "metadata": {},
   "source": [
    "#### Generalized Gradient Descent  Math Notation\n",
    "\n",
    "- In the below equations: \n",
    "     - x and x_i represent whatever paramater is being tested and updated. \n",
    "     \n",
    " \n",
    "- Multi-dimensional version of a derivative \n",
    "$$-\\nabla = \\sum_i \\dfrac{\\partial}{\\partial x_i}$$\n",
    "\n",
    "$$ x_{i+1} = x_i - \\eta * f'(x_i)$$\n",
    "\n",
    "\n",
    "- When minimum is reached, $ \\eta *f'(x_i) $ becomes 0. \n",
    "$$ x_{i+1} = x_i - 0 $$\n"
   ]
  },
  {
   "cell_type": "code",
   "execution_count": null,
   "metadata": {},
   "outputs": [],
   "source": []
  }
 ],
 "metadata": {
  "colab": {
   "collapsed_sections": [],
   "name": "Walkthrough_Gradient_Descent.ipynb",
   "provenance": []
  },
  "kernelspec": {
   "display_name": "Python [conda env:learn-env] *",
   "language": "python",
   "name": "conda-env-learn-env-py"
  },
  "language_info": {
   "codemirror_mode": {
    "name": "ipython",
    "version": 3
   },
   "file_extension": ".py",
   "mimetype": "text/x-python",
   "name": "python",
   "nbconvert_exporter": "python",
   "pygments_lexer": "ipython3",
   "version": "3.6.11"
  },
  "toc": {
   "base_numbering": 1,
   "nav_menu": {},
   "number_sections": true,
   "sideBar": true,
   "skip_h1_title": false,
   "title_cell": "Table of Contents",
   "title_sidebar": "Contents",
   "toc_cell": false,
   "toc_position": {
    "height": "453.6px",
    "left": "0px",
    "top": "110.833px",
    "width": "230.391px"
   },
   "toc_section_display": true,
   "toc_window_display": true
  },
  "varInspector": {
   "cols": {
    "lenName": 16,
    "lenType": 16,
    "lenVar": 40
   },
   "kernels_config": {
    "python": {
     "delete_cmd_postfix": "",
     "delete_cmd_prefix": "del ",
     "library": "var_list.py",
     "varRefreshCmd": "print(var_dic_list())"
    },
    "r": {
     "delete_cmd_postfix": ") ",
     "delete_cmd_prefix": "rm(",
     "library": "var_list.r",
     "varRefreshCmd": "cat(var_dic_list()) "
    }
   },
   "types_to_exclude": [
    "module",
    "function",
    "builtin_function_or_method",
    "instance",
    "_Feature"
   ],
   "window_display": false
  }
 },
 "nbformat": 4,
 "nbformat_minor": 2
}

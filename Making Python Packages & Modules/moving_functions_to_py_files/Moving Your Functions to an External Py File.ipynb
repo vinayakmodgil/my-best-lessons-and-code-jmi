{
 "cells": [
  {
   "cell_type": "markdown",
   "metadata": {},
   "source": [
    "# Moving Your Functions to an External Py File"
   ]
  },
  {
   "cell_type": "markdown",
   "metadata": {},
   "source": [
    "## Starting Code & Function"
   ]
  },
  {
   "cell_type": "code",
   "execution_count": 1,
   "metadata": {
    "ExecuteTime": {
     "end_time": "2021-01-13T19:11:27.456333Z",
     "start_time": "2021-01-13T19:11:27.445190Z"
    }
   },
   "outputs": [
    {
     "data": {
      "text/plain": [
       "['my x data']"
      ]
     },
     "execution_count": 1,
     "metadata": {},
     "output_type": "execute_result"
    }
   ],
   "source": [
    "X = ['my x data']\n",
    "y = [3]\n",
    "X"
   ]
  },
  {
   "cell_type": "code",
   "execution_count": 19,
   "metadata": {
    "ExecuteTime": {
     "end_time": "2021-01-13T19:21:15.630492Z",
     "start_time": "2021-01-13T19:21:15.604188Z"
    }
   },
   "outputs": [],
   "source": [
    "def print_xy():\n",
    "    print(X)\n",
    "    print(y)"
   ]
  },
  {
   "cell_type": "code",
   "execution_count": 20,
   "metadata": {
    "ExecuteTime": {
     "end_time": "2021-01-13T19:21:18.111333Z",
     "start_time": "2021-01-13T19:21:18.080996Z"
    }
   },
   "outputs": [
    {
     "data": {
      "text/plain": [
       "my x data    3\n",
       "dtype: int64"
      ]
     },
     "execution_count": 20,
     "metadata": {},
     "output_type": "execute_result"
    }
   ],
   "source": [
    "print_xy(X,y)"
   ]
  },
  {
   "cell_type": "markdown",
   "metadata": {},
   "source": [
    "## Move Code To an External File"
   ]
  },
  {
   "cell_type": "markdown",
   "metadata": {},
   "source": [
    "- Create a new py file in the same folder as the notebook (we will call ours `my_functions.py`)\n",
    "- In your notebook, import the file (just drop the `.py`)"
   ]
  },
  {
   "cell_type": "markdown",
   "metadata": {},
   "source": [
    "### Using Auto-Reload \n",
    "- https://ipython.org/ipython-doc/3/config/extensions/autoreload.html"
   ]
  },
  {
   "cell_type": "code",
   "execution_count": 26,
   "metadata": {
    "ExecuteTime": {
     "end_time": "2021-01-13T19:28:04.236145Z",
     "start_time": "2021-01-13T19:28:04.205223Z"
    }
   },
   "outputs": [
    {
     "name": "stdout",
     "output_type": "stream",
     "text": [
      "The autoreload extension is already loaded. To reload it, use:\n",
      "  %reload_ext autoreload\n"
     ]
    }
   ],
   "source": [
    "%load_ext autoreload\n",
    "%autoreload 2"
   ]
  },
  {
   "cell_type": "code",
   "execution_count": 31,
   "metadata": {
    "ExecuteTime": {
     "end_time": "2021-01-13T19:30:51.022809Z",
     "start_time": "2021-01-13T19:30:50.994449Z"
    }
   },
   "outputs": [
    {
     "name": "stdout",
     "output_type": "stream",
     "text": [
      "Help on module my_functions:\n",
      "\n",
      "NAME\n",
      "    my_functions - module(name[, doc])\n",
      "\n",
      "DESCRIPTION\n",
      "    Create a module object.\n",
      "    The name must be a string; the optional doc argument can have any type.\n",
      "\n",
      "FUNCTIONS\n",
      "    print_xy(X, y)\n",
      "        Example function to print 2 things\n",
      "        \n",
      "        Args:\n",
      "            X (list): First thing printed\n",
      "            y (list): Second thing printed\n",
      "        Ex:\n",
      "        >> X = []..\n",
      "        >> print(X,y)\n",
      "    \n",
      "    print_xy2(X, y)\n",
      "    \n",
      "    series_xy_file(X, y)\n",
      "\n",
      "FILE\n",
      "    /Users/jamesirving/Documents/GitHub/_COHORT_NOTES/081720FT/aug-ds-ft-2020-notebooks/capstone/moving_functions_to_py_files/my_functions.py\n",
      "\n",
      "\n"
     ]
    }
   ],
   "source": [
    "## Importing custon functions\n",
    "import my_functions as mf\n",
    "# help(mf)"
   ]
  },
  {
   "cell_type": "markdown",
   "metadata": {},
   "source": [
    "### Next"
   ]
  },
  {
   "cell_type": "markdown",
   "metadata": {
    "ExecuteTime": {
     "end_time": "2021-01-13T18:55:58.685460Z",
     "start_time": "2021-01-13T18:55:58.669919Z"
    }
   },
   "source": [
    "> - [ ] add a function to py file and check if auto-updated\n",
    "- [ ] Move print_xy to py file.\n",
    "- [ ] Deal with new errors and discuss"
   ]
  },
  {
   "cell_type": "code",
   "execution_count": 10,
   "metadata": {
    "ExecuteTime": {
     "end_time": "2021-01-13T19:17:04.773083Z",
     "start_time": "2021-01-13T19:17:04.754467Z"
    }
   },
   "outputs": [
    {
     "name": "stdout",
     "output_type": "stream",
     "text": [
      "['my x data']\n",
      "[3]\n"
     ]
    }
   ],
   "source": [
    "mf.print_xy(X,y)"
   ]
  },
  {
   "cell_type": "code",
   "execution_count": 11,
   "metadata": {
    "ExecuteTime": {
     "end_time": "2021-01-13T19:18:49.207123Z",
     "start_time": "2021-01-13T19:18:49.189852Z"
    }
   },
   "outputs": [],
   "source": [
    "from my_functions import *"
   ]
  },
  {
   "cell_type": "code",
   "execution_count": 13,
   "metadata": {
    "ExecuteTime": {
     "end_time": "2021-01-13T19:19:44.886537Z",
     "start_time": "2021-01-13T19:19:44.869111Z"
    }
   },
   "outputs": [
    {
     "name": "stdout",
     "output_type": "stream",
     "text": [
      "['my x data']\n",
      "[3]\n",
      "not really 2\n"
     ]
    }
   ],
   "source": [
    "print_xy2(X,y)"
   ]
  },
  {
   "cell_type": "markdown",
   "metadata": {},
   "source": [
    "## Using Packages inside of functions"
   ]
  },
  {
   "cell_type": "code",
   "execution_count": 14,
   "metadata": {
    "ExecuteTime": {
     "end_time": "2021-01-13T19:20:28.916111Z",
     "start_time": "2021-01-13T19:20:28.304966Z"
    }
   },
   "outputs": [],
   "source": [
    "import pandas as pd"
   ]
  },
  {
   "cell_type": "code",
   "execution_count": 19,
   "metadata": {
    "ExecuteTime": {
     "end_time": "2021-01-13T19:21:15.630492Z",
     "start_time": "2021-01-13T19:21:15.604188Z"
    }
   },
   "outputs": [],
   "source": [
    "def series_xy(X,y):\n",
    "    return pd.Series(y,index=X)\n"
   ]
  },
  {
   "cell_type": "code",
   "execution_count": 20,
   "metadata": {
    "ExecuteTime": {
     "end_time": "2021-01-13T19:21:18.111333Z",
     "start_time": "2021-01-13T19:21:18.080996Z"
    }
   },
   "outputs": [
    {
     "data": {
      "text/plain": [
       "my x data    3\n",
       "dtype: int64"
      ]
     },
     "execution_count": 20,
     "metadata": {},
     "output_type": "execute_result"
    }
   ],
   "source": [
    "series_xy(X,y)"
   ]
  },
  {
   "cell_type": "code",
   "execution_count": 23,
   "metadata": {
    "ExecuteTime": {
     "end_time": "2021-01-13T19:23:47.821130Z",
     "start_time": "2021-01-13T19:23:47.792096Z"
    }
   },
   "outputs": [
    {
     "data": {
      "text/plain": [
       "my x data    3\n",
       "dtype: int64"
      ]
     },
     "execution_count": 23,
     "metadata": {},
     "output_type": "execute_result"
    }
   ],
   "source": [
    "mf.series_xy_file(X,y)"
   ]
  },
  {
   "cell_type": "code",
   "execution_count": 25,
   "metadata": {
    "ExecuteTime": {
     "end_time": "2021-01-13T19:24:28.296224Z",
     "start_time": "2021-01-13T19:24:28.273064Z"
    }
   },
   "outputs": [],
   "source": [
    "# mf.pd.Series(y,index=X)"
   ]
  },
  {
   "cell_type": "code",
   "execution_count": null,
   "metadata": {},
   "outputs": [],
   "source": [
    "mf.print_xy()"
   ]
  },
  {
   "cell_type": "markdown",
   "metadata": {},
   "source": [
    "### Improting from a sub-folder"
   ]
  },
  {
   "cell_type": "code",
   "execution_count": 29,
   "metadata": {
    "ExecuteTime": {
     "end_time": "2021-01-13T19:30:24.317559Z",
     "start_time": "2021-01-13T19:30:24.295715Z"
    }
   },
   "outputs": [],
   "source": [
    "# import code.my_functions as mf2"
   ]
  },
  {
   "cell_type": "markdown",
   "metadata": {},
   "source": [
    "# using `inspect` to show source code"
   ]
  },
  {
   "cell_type": "code",
   "execution_count": 35,
   "metadata": {
    "ExecuteTime": {
     "end_time": "2021-01-13T19:35:19.344036Z",
     "start_time": "2021-01-13T19:35:19.308542Z"
    }
   },
   "outputs": [
    {
     "data": {
      "text/markdown": [
       "```python\n",
       "def print_xy(X,y):\n",
       "    \"\"\"Example function to print 2 things\n",
       "\n",
       "    Args:\n",
       "        X (list): First thing printed\n",
       "        y (list): Second thing printed\n",
       "    Ex:\n",
       "    >> X = []..\n",
       "    >> print(X,y)\n",
       "    \"\"\"\n",
       "    print(X)\n",
       "    print(y)\n",
       "\n",
       "```"
      ],
      "text/plain": [
       "<IPython.core.display.Markdown object>"
      ]
     },
     "metadata": {},
     "output_type": "display_data"
    }
   ],
   "source": [
    "import inspect\n",
    "from IPython.display import Markdown, display\n",
    "\n",
    "\n",
    "txt = inspect.getsource(mf.print_xy)\n",
    "display(Markdown(\"```python\\n\"+txt+\"\\n```\"))"
   ]
  },
  {
   "cell_type": "markdown",
   "metadata": {},
   "source": [
    "```python \n",
    "this_will_be_code = int(3)\n",
    "```"
   ]
  },
  {
   "cell_type": "code",
   "execution_count": null,
   "metadata": {},
   "outputs": [],
   "source": []
  }
 ],
 "metadata": {
  "kernelspec": {
   "display_name": "learn-env",
   "language": "python",
   "name": "learn-env"
  },
  "language_info": {
   "codemirror_mode": {
    "name": "ipython",
    "version": 3
   },
   "file_extension": ".py",
   "mimetype": "text/x-python",
   "name": "python",
   "nbconvert_exporter": "python",
   "pygments_lexer": "ipython3",
   "version": "3.6.11"
  },
  "toc": {
   "base_numbering": 1,
   "nav_menu": {},
   "number_sections": true,
   "sideBar": true,
   "skip_h1_title": false,
   "title_cell": "Table of Contents",
   "title_sidebar": "Contents",
   "toc_cell": false,
   "toc_position": {},
   "toc_section_display": true,
   "toc_window_display": false
  }
 },
 "nbformat": 4,
 "nbformat_minor": 4
}

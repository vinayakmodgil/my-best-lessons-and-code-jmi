{
 "cells": [
  {
   "cell_type": "markdown",
   "metadata": {},
   "source": [
    "# Sect 24 (v2.1): Regularization\n",
    "\n",
    "- online-ds-pt-100719\n",
    "- 03/19/2020\n"
   ]
  },
  {
   "cell_type": "markdown",
   "metadata": {},
   "source": [
    "## Questions"
   ]
  },
  {
   "cell_type": "markdown",
   "metadata": {},
   "source": [
    "- Higher level concepts\n",
    "    - \"Why did I just do this?\"\n",
    "    \n",
    "- "
   ]
  },
  {
   "cell_type": "markdown",
   "metadata": {},
   "source": [
    "## Objectives"
   ]
  },
  {
   "cell_type": "markdown",
   "metadata": {},
   "source": [
    "**DISCUSSION:**\n",
    "- Discuss Regularization Techniques\n",
    "    - Ridge Regression (L2 normalization)\n",
    "    - Lasso Regression (L1 normalization)\n",
    "- AIC/BIC\n",
    "- Compare Feature Selection methods\n",
    "\n",
    "**APPLICATION:**\n",
    "- Practice turning repetitive code into flexible functions/loops\n"
   ]
  },
  {
   "cell_type": "code",
   "execution_count": 37,
   "metadata": {
    "ExecuteTime": {
     "end_time": "2020-03-19T23:53:49.768123Z",
     "start_time": "2020-03-19T23:53:49.765127Z"
    }
   },
   "outputs": [],
   "source": [
    "# !pip install -U fsds_100719\n",
    "from fsds_100719.imports import *\n",
    "import warnings\n",
    "warnings.filterwarnings('ignore')\n",
    "\n",
    "plt.style.use('seaborn-poster')"
   ]
  },
  {
   "cell_type": "markdown",
   "metadata": {},
   "source": [
    "# Regularization techniques"
   ]
  },
  {
   "cell_type": "markdown",
   "metadata": {},
   "source": [
    "We can \"shrink down\" prediction variables effects instead of deleting/zeroing them"
   ]
  },
  {
   "cell_type": "markdown",
   "metadata": {},
   "source": [
    "## Linear Regression Cost Function Previously Used (RSS)"
   ]
  },
  {
   "cell_type": "markdown",
   "metadata": {},
   "source": [
    "- ### For a single predictor (X)\n",
    "$$ \\large \\text{cost_function}= \\sum_{i=1}^n(y_i - \\hat{y})^2 = \\sum_{i=1}^n(y_i - (mx_i + b))^2$$\n"
   ]
  },
  {
   "cell_type": "markdown",
   "metadata": {},
   "source": [
    "- ###  multiple predictors, the equation becomes:\n",
    "$$ \\large \\text{cost_function}= \\sum_{i=1}^n(y_i - \\hat{y})^2 = \\sum_{i=1}^n(y_i - \\sum_{j=1}^k(m_jx_{ij} ) -b )^2$$\n",
    "- where $k$ is the number of predictors\n",
    "- and $j$ is each individual predictor."
   ]
  },
  {
   "cell_type": "markdown",
   "metadata": {},
   "source": [
    "# Penalized Estimation"
   ]
  },
  {
   "cell_type": "markdown",
   "metadata": {},
   "source": [
    "> ***You've seen that when the number of predictors increases, your model complexity increases, with a higher chance of overfitting as a result.***  \n",
    "\n",
    "> Now, instead of completely \"deleting\" certain predictors from a model (which is equal to setting coefficients equal to zero) we can reduce the values of the coefficients to make them less sensitive to noise in the data. \n",
    "\n",
    "> This is called **penalized estimation**.\n",
    "\n",
    "> **Ridge and Lasso regression** are two examples of penalized estimation.<br>There are multiple advantages to using these methods:\n",
    "- They reduce model complexity\n",
    "- The may prevent from overfitting\n",
    "- Some of them may perform variable selection at the same time (when coefficients are set to 0)\n",
    "- They can be used to counter multicollinearity\n",
    "\n",
    "> Lasso and Ridge are two commonly used so-called **regularization techniques**. (Regularization is a general term used when one tries to battle overfitting.)\n"
   ]
  },
  {
   "cell_type": "markdown",
   "metadata": {},
   "source": [
    "## Ridge Regression - L2 Norm Regularization"
   ]
  },
  {
   "cell_type": "markdown",
   "metadata": {},
   "source": [
    "Define a penalty ***hyperparameter*** $\\lambda$ for extra terms (large $m$)"
   ]
  },
  {
   "cell_type": "markdown",
   "metadata": {},
   "source": [
    "<!-- $$ =\\sum_{i=1}^n(y_i - \\hat{y})^2= \\sum_{i=1}^n(y_i - \\sum_{j=1}^k(m_jx_{ij} + b))^2 + \\lambda \\sum_{i=1}^n m_i^2$$/-->\n",
    "\n",
    "$$\\large J_{\\text{ridge}}=\\sum_{i=1}^n(y_i - \\hat{y})^2 = \\sum_{i=1}^n(y_i - \\sum_{j=1}^k(m_jx_{ij})-b)^2 + \\lambda \\sum_{j=1}^p m_j^2$$\n",
    "\n",
    "- **By adding the penalty term $\\lambda$, ridge regression puts a constraint on the coefficients $m$.**\n",
    "- Therefore, large coefficients will penalize the optimization function. \n",
    "    - This shrinks the coefficients and helps to reduce model complexity and multicollinearity."
   ]
  },
  {
   "cell_type": "markdown",
   "metadata": {},
   "source": [
    "- **Error term added to cost function** \n",
    "    - $\\large ...  +   \\lambda \\sum_{i=1}^n m_i^2$\n",
    "    - Notice that  $m_i^2$ is squared, hence \"L***2*** norm regularization\""
   ]
  },
  {
   "cell_type": "markdown",
   "metadata": {},
   "source": [
    "- With two predictors there is a penalty term m for each predictor.\n",
    "$$\\large J_\\text{ridge}= \\sum_{i=1}^n(y_i - \\hat{y})^2 = $$\n",
    "\n",
    "$$\\large  \\sum_{i=1}^n(y_i - ((m_1x_{1i})-b)^2 + \\lambda m_1^2 + (m_2x_{2i})-b)^2 + \\lambda m_2^2)$$"
   ]
  },
  {
   "cell_type": "markdown",
   "metadata": {},
   "source": [
    "### Uses"
   ]
  },
  {
   "cell_type": "markdown",
   "metadata": {},
   "source": [
    "- Used mostly to prevent overfitting (but since includes all features it can be computationally expensive (for many variables))"
   ]
  },
  {
   "cell_type": "markdown",
   "metadata": {},
   "source": [
    "## Lasso Regression - L1 Norm Regularization\n",
    "\n",
    "\"Least Absolute Shrinkage and Selection Operator\""
   ]
  },
  {
   "cell_type": "markdown",
   "metadata": {},
   "source": [
    "$$\\large J_\\text{lasso}= \\sum_{i=1}^n(y_i - \\hat{y})^2 = \\sum_{i=1}^n(y_i - \\sum_{j=1}^k(m_jx_{ij})-b)^2 + \\lambda \\sum_{j=1}^p \\mid m_j \\mid$$"
   ]
  },
  {
   "cell_type": "markdown",
   "metadata": {},
   "source": [
    "- **Error term added to cost function** \n",
    "    - $ \\large ... + \\lambda \\sum_{j=1}^p \\mid m_j \\mid$\n",
    "    - Notice that  $m$ has no exponent (meaning its actually $m^1$, hence \"L***1*** norm regularization\"\n",
    "\n"
   ]
  },
  {
   "cell_type": "markdown",
   "metadata": {},
   "source": [
    "If you have two predictors the full equation would look like this (notice that there is a penalty term `m` for each predictor in the model - in this case, two): \n",
    "$$ \\text{cost_function_lasso}= \\sum_{i=1}^n(y_i - \\hat{y})^2 = $$\n",
    "\n",
    "$$\\sum_{i=1}^n(y_i - ((m_1x_{1i})-b)^2 + \\lambda \\mid m_1 \\mid) + ((m_2x_{2i})-b)^2 + \\lambda \\mid m_2 \\mid) $$"
   ]
  },
  {
   "cell_type": "markdown",
   "metadata": {},
   "source": [
    "### Uses"
   ]
  },
  {
   "cell_type": "markdown",
   "metadata": {},
   "source": [
    "- Lasso also helps with over fitting \n",
    "- **Lasso shrinks the less important features' coefficients to zero**, removing them altogether. \n",
    "    - Therefore, Lasso regression can be used for **feature selection**"
   ]
  },
  {
   "cell_type": "markdown",
   "metadata": {},
   "source": [
    "### Using Regularization"
   ]
  },
  {
   "cell_type": "markdown",
   "metadata": {},
   "source": [
    "- ***Make sure to standardize the data before performing ridge or lasso regression***, otherwise features with large values/units will be unfairly penalized.\n",
    "- **Fit-transform the training data, only transform the test data**\n",
    "\n",
    "```python\n",
    "from sklearn.preprocessing import MinMaxScaler\n",
    "from sklearn.linear_model import Lasso, Ridge, LinearRegression\n",
    "```"
   ]
  },
  {
   "cell_type": "markdown",
   "metadata": {},
   "source": [
    "## Ridge & Lasson Regression Summary:"
   ]
  },
  {
   "cell_type": "markdown",
   "metadata": {},
   "source": [
    "In Ridge regression, the cost function is changed by adding a penalty term to the square of the magnitude of the coefficients.\n",
    "\n",
    "$$ \\text{cost_function_ridge}= \\sum_{i=1}^n(y_i - \\hat{y})^2 = \\sum_{i=1}^n(y_i - \\sum_{j=1}^k(m_jx_{ij})-b)^2 + \\lambda \\sum_{j=1}^p m_j^2$$\n",
    "\n",
    "Lasso regression is very similar to Ridge regression, except that the magnitude of the coefficients are not squared in the penalty term.\n",
    "\n",
    "$$ \\text{cost_function_lasso}= \\sum_{i=1}^n(y_i - \\hat{y})^2 = \\sum_{i=1}^n(y_i - \\sum_{j=1}^k(m_jx_{ij})-b)^2 + \\lambda \\sum_{j=1}^p \\mid m_j \\mid$$\n"
   ]
  },
  {
   "cell_type": "markdown",
   "metadata": {},
   "source": [
    "## Applying Ridge and Lasso Regression with Scikit-Learn"
   ]
  },
  {
   "cell_type": "code",
   "execution_count": 38,
   "metadata": {
    "ExecuteTime": {
     "end_time": "2020-03-19T23:53:50.040121Z",
     "start_time": "2020-03-19T23:53:49.782915Z"
    }
   },
   "outputs": [
    {
     "name": "stdout",
     "output_type": "stream",
     "text": [
      "[i] Source url with details: https://www.kaggle.com/uciml/autompg-dataset\n"
     ]
    },
    {
     "data": {
      "text/html": [
       "<div>\n",
       "<style scoped>\n",
       "    .dataframe tbody tr th:only-of-type {\n",
       "        vertical-align: middle;\n",
       "    }\n",
       "\n",
       "    .dataframe tbody tr th {\n",
       "        vertical-align: top;\n",
       "    }\n",
       "\n",
       "    .dataframe thead th {\n",
       "        text-align: right;\n",
       "    }\n",
       "</style>\n",
       "<table border=\"1\" class=\"dataframe\">\n",
       "  <thead>\n",
       "    <tr style=\"text-align: right;\">\n",
       "      <th></th>\n",
       "      <th>mpg</th>\n",
       "      <th>cylinders</th>\n",
       "      <th>displacement</th>\n",
       "      <th>horsepower</th>\n",
       "      <th>weight</th>\n",
       "      <th>acceleration</th>\n",
       "      <th>model year</th>\n",
       "      <th>origin</th>\n",
       "      <th>car name</th>\n",
       "    </tr>\n",
       "  </thead>\n",
       "  <tbody>\n",
       "    <tr>\n",
       "      <td>0</td>\n",
       "      <td>18.0</td>\n",
       "      <td>8</td>\n",
       "      <td>307.0</td>\n",
       "      <td>130</td>\n",
       "      <td>3504</td>\n",
       "      <td>12.0</td>\n",
       "      <td>70</td>\n",
       "      <td>1</td>\n",
       "      <td>chevrolet chevelle malibu</td>\n",
       "    </tr>\n",
       "    <tr>\n",
       "      <td>1</td>\n",
       "      <td>15.0</td>\n",
       "      <td>8</td>\n",
       "      <td>350.0</td>\n",
       "      <td>165</td>\n",
       "      <td>3693</td>\n",
       "      <td>11.5</td>\n",
       "      <td>70</td>\n",
       "      <td>1</td>\n",
       "      <td>buick skylark 320</td>\n",
       "    </tr>\n",
       "    <tr>\n",
       "      <td>2</td>\n",
       "      <td>18.0</td>\n",
       "      <td>8</td>\n",
       "      <td>318.0</td>\n",
       "      <td>150</td>\n",
       "      <td>3436</td>\n",
       "      <td>11.0</td>\n",
       "      <td>70</td>\n",
       "      <td>1</td>\n",
       "      <td>plymouth satellite</td>\n",
       "    </tr>\n",
       "    <tr>\n",
       "      <td>3</td>\n",
       "      <td>16.0</td>\n",
       "      <td>8</td>\n",
       "      <td>304.0</td>\n",
       "      <td>150</td>\n",
       "      <td>3433</td>\n",
       "      <td>12.0</td>\n",
       "      <td>70</td>\n",
       "      <td>1</td>\n",
       "      <td>amc rebel sst</td>\n",
       "    </tr>\n",
       "    <tr>\n",
       "      <td>4</td>\n",
       "      <td>17.0</td>\n",
       "      <td>8</td>\n",
       "      <td>302.0</td>\n",
       "      <td>140</td>\n",
       "      <td>3449</td>\n",
       "      <td>10.5</td>\n",
       "      <td>70</td>\n",
       "      <td>1</td>\n",
       "      <td>ford torino</td>\n",
       "    </tr>\n",
       "  </tbody>\n",
       "</table>\n",
       "</div>"
      ],
      "text/plain": [
       "    mpg  cylinders  displacement  horsepower  weight  acceleration  \\\n",
       "0  18.0          8         307.0         130    3504          12.0   \n",
       "1  15.0          8         350.0         165    3693          11.5   \n",
       "2  18.0          8         318.0         150    3436          11.0   \n",
       "3  16.0          8         304.0         150    3433          12.0   \n",
       "4  17.0          8         302.0         140    3449          10.5   \n",
       "\n",
       "   model year  origin                   car name  \n",
       "0          70       1  chevrolet chevelle malibu  \n",
       "1          70       1          buick skylark 320  \n",
       "2          70       1         plymouth satellite  \n",
       "3          70       1              amc rebel sst  \n",
       "4          70       1                ford torino  "
      ]
     },
     "metadata": {},
     "output_type": "display_data"
    },
    {
     "data": {
      "text/plain": [
       "[(274, 6), (118, 6), (274, 1), (118, 1)]"
      ]
     },
     "execution_count": 38,
     "metadata": {},
     "output_type": "execute_result"
    }
   ],
   "source": [
    "from sklearn.preprocessing import MinMaxScaler\n",
    "from sklearn.linear_model import Lasso, Ridge, LinearRegression\n",
    "from sklearn.model_selection import train_test_split\n",
    "\n",
    "## Load the data\n",
    "df = fs.datasets.load_autompg()\n",
    "\n",
    "y = df[['mpg']]\n",
    "X = df.drop(['mpg', 'car name', 'origin'], axis=1)\n",
    "\n",
    "# Perform test train split\n",
    "X_train , X_test, y_train, y_test = train_test_split(X, y, test_size=0.3,\n",
    "                                                     random_state=12)\n",
    "[var.shape for var in [X_train , X_test, y_train, y_test]]"
   ]
  },
  {
   "cell_type": "code",
   "execution_count": 39,
   "metadata": {
    "ExecuteTime": {
     "end_time": "2020-03-19T23:53:50.049838Z",
     "start_time": "2020-03-19T23:53:50.042509Z"
    }
   },
   "outputs": [],
   "source": [
    "scale = MinMaxScaler()\n",
    "X_train_transformed = scale.fit_transform(X_train)\n",
    "X_test_transformed = scale.transform(X_test)"
   ]
  },
  {
   "cell_type": "markdown",
   "metadata": {},
   "source": [
    "### Exhibit A: The case for functions and dictionaries"
   ]
  },
  {
   "cell_type": "markdown",
   "metadata": {},
   "source": [
    "- Code From [Ridge And Lasso Regression Lesson](https://learn.co/tracks/module-3-data-science-career-2-1/machine-learning/section-24-feature-selection-ridge-and-lasso/ridge-and-lasso-regression)\n",
    "\n",
    "- The following code is from the Learn.co lesson and its goal is to create,fit and evaluate 3 different models to compare the results."
   ]
  },
  {
   "cell_type": "code",
   "execution_count": 40,
   "metadata": {
    "ExecuteTime": {
     "end_time": "2020-03-19T23:53:50.057876Z",
     "start_time": "2020-03-19T23:53:50.052728Z"
    }
   },
   "outputs": [
    {
     "data": {
      "text/plain": [
       "((274, 1), (118, 1))"
      ]
     },
     "execution_count": 40,
     "metadata": {},
     "output_type": "execute_result"
    }
   ],
   "source": [
    "y_train.shape, y_test.shape"
   ]
  },
  {
   "cell_type": "code",
   "execution_count": 41,
   "metadata": {
    "ExecuteTime": {
     "end_time": "2020-03-19T23:53:50.104452Z",
     "start_time": "2020-03-19T23:53:50.059979Z"
    }
   },
   "outputs": [
    {
     "name": "stdout",
     "output_type": "stream",
     "text": [
      "Train Error Ridge Model mpg    2684.673787\n",
      "dtype: float64\n",
      "Test Error Ridge Model mpg    2067.795707\n",
      "dtype: float64\n",
      "\n",
      "\n",
      "Train Error Lasso Model mpg    4450.979518\n",
      "dtype: float64\n",
      "Test Error Lasso Model mpg    3544.087085\n",
      "dtype: float64\n",
      "\n",
      "\n",
      "Train Error Unpenalized Linear Model mpg    2658.043444\n",
      "dtype: float64\n",
      "Test Error Unpenalized Linear Model mpg    1976.266987\n",
      "dtype: float64\n",
      "\n",
      "\n",
      "\n",
      "\n",
      "Ridge parameter coefficients:\n",
      " [[ -2.06904445  -2.88593443  -1.81801505 -15.23785349  -1.45594148\n",
      "    8.1440177 ]]\n",
      "Lasso parameter coefficients:\n",
      " [-9.09743525 -0.         -0.         -4.02703963  0.          3.92348219]\n",
      "Linear model parameter coefficients:\n",
      " [[ -1.33790698  -1.05300843  -0.08661412 -19.26724989  -0.37043697\n",
      "    8.56051229]]\n"
     ]
    }
   ],
   "source": [
    "# Build a Ridge, Lasso and regular linear regression model  \n",
    "# Note that in scikit-learn, the regularization parameter is denoted by alpha (and not lambda)\n",
    "ridge = Ridge(alpha=0.5)\n",
    "ridge.fit(X_train_transformed, y_train)\n",
    "\n",
    "lasso = Lasso(alpha=0.5)\n",
    "lasso.fit(X_train_transformed, y_train)\n",
    "\n",
    "lin = LinearRegression()\n",
    "lin.fit(X_train_transformed, y_train)\n",
    "\n",
    "\n",
    "# Generate preditions for training and test sets\n",
    "y_h_ridge_train = ridge.predict(X_train_transformed)\n",
    "y_h_ridge_test = ridge.predict(X_test_transformed)\n",
    "\n",
    "y_h_lasso_train = np.reshape(lasso.predict(X_train_transformed), y_train.shape)\n",
    "y_h_lasso_test = np.reshape(lasso.predict(X_test_transformed),  y_test.shape)\n",
    "\n",
    "y_h_lin_train = lin.predict(X_train_transformed)\n",
    "y_h_lin_test = lin.predict(X_test_transformed)\n",
    "\n",
    "\n",
    "print('Train Error Ridge Model', np.sum((y_train - y_h_ridge_train)**2))\n",
    "print('Test Error Ridge Model', np.sum((y_test - y_h_ridge_test)**2))\n",
    "print('\\n')\n",
    "\n",
    "print('Train Error Lasso Model', np.sum((y_train - y_h_lasso_train)**2))\n",
    "print('Test Error Lasso Model', np.sum((y_test - y_h_lasso_test)**2))\n",
    "print('\\n')\n",
    "\n",
    "print('Train Error Unpenalized Linear Model', np.sum((y_train - lin.predict(X_train_transformed))**2))\n",
    "print('Test Error Unpenalized Linear Model', np.sum((y_test - lin.predict(X_test_transformed))**2))\n",
    "print('\\n'*3)\n",
    "print('Ridge parameter coefficients:\\n', ridge.coef_)\n",
    "print('Lasso parameter coefficients:\\n', lasso.coef_)\n",
    "print('Linear model parameter coefficients:\\n', lin.coef_)"
   ]
  },
  {
   "cell_type": "markdown",
   "metadata": {},
   "source": [
    "### Q1: What are the issues/limitations of the way we tested/compared the 3 different types of models? \n",
    "-  A: If we wanted to add another model type, we'd have to copy a lot and edit a lot."
   ]
  },
  {
   "cell_type": "markdown",
   "metadata": {},
   "source": [
    "### Q2: What other limitation does the above code have? (what is inflexible?)\n",
    "\n",
    "- A: hard coded values for data shapes"
   ]
  },
  {
   "cell_type": "markdown",
   "metadata": {},
   "source": [
    "### Whats the solution? \n",
    "- Functions and dictionaries!"
   ]
  },
  {
   "cell_type": "code",
   "execution_count": 42,
   "metadata": {
    "ExecuteTime": {
     "end_time": "2020-03-19T23:53:50.115994Z",
     "start_time": "2020-03-19T23:53:50.106292Z"
    }
   },
   "outputs": [],
   "source": [
    "from sklearn.metrics import r2_score, mean_squared_error\n",
    "def make_model(model, X_train , X_test, y_train, y_test ):\n",
    "    \"\"\"Takes a sklearn model and train/test data to fit model, \n",
    "    get R2 and RMSE for both the training and test data.\n",
    "    \n",
    "    Returns:\n",
    "        DataFrame: results as a df\n",
    "        model: fit scikit-learn model itself\"\"\"\n",
    "    \n",
    "    res= [['Data','R2','RMSE']]\n",
    "    model.fit(X_train, y_train)\n",
    "    # Generate preditions for training and test sets\n",
    "    y_hat_train = model.predict(X_train)\n",
    "    y_hat_test = model.predict(X_test)\n",
    "    \n",
    "    r2_train = r2_score(y_train,y_hat_train)\n",
    "    r2_test = r2_score(y_test,y_hat_test)\n",
    "    \n",
    "    rmse_train = np.sqrt(mean_squared_error(y_train,y_hat_train))\n",
    "    rmse_test = np.sqrt(mean_squared_error(y_test,y_hat_test))\n",
    "    res.append(['Train', r2_train, rmse_train] )\n",
    "    res.append(['Test', r2_test, rmse_test] )\n",
    "    \n",
    "    res_df = pd.DataFrame(res[1:], columns=res[0]).round(4)\n",
    "    \n",
    "    return res_df, model\n",
    "    "
   ]
  },
  {
   "cell_type": "code",
   "execution_count": 43,
   "metadata": {
    "ExecuteTime": {
     "end_time": "2020-03-19T23:53:50.146426Z",
     "start_time": "2020-03-19T23:53:50.117810Z"
    }
   },
   "outputs": [
    {
     "data": {
      "text/html": [
       "<div>\n",
       "<style scoped>\n",
       "    .dataframe tbody tr th:only-of-type {\n",
       "        vertical-align: middle;\n",
       "    }\n",
       "\n",
       "    .dataframe tbody tr th {\n",
       "        vertical-align: top;\n",
       "    }\n",
       "\n",
       "    .dataframe thead th {\n",
       "        text-align: right;\n",
       "    }\n",
       "</style>\n",
       "<table border=\"1\" class=\"dataframe\">\n",
       "  <thead>\n",
       "    <tr style=\"text-align: right;\">\n",
       "      <th></th>\n",
       "      <th>Data</th>\n",
       "      <th>R2</th>\n",
       "      <th>RMSE</th>\n",
       "    </tr>\n",
       "  </thead>\n",
       "  <tbody>\n",
       "    <tr>\n",
       "      <td>0</td>\n",
       "      <td>Train</td>\n",
       "      <td>0.820</td>\n",
       "      <td>3.115</td>\n",
       "    </tr>\n",
       "    <tr>\n",
       "      <td>1</td>\n",
       "      <td>Test</td>\n",
       "      <td>0.774</td>\n",
       "      <td>4.092</td>\n",
       "    </tr>\n",
       "  </tbody>\n",
       "</table>\n",
       "</div>"
      ],
      "text/plain": [
       "    Data     R2   RMSE\n",
       "0  Train  0.820  3.115\n",
       "1   Test  0.774  4.092"
      ]
     },
     "metadata": {},
     "output_type": "display_data"
    }
   ],
   "source": [
    "## Test our function\n",
    "df_res, model = make_model(LinearRegression(),\n",
    "                           X_train , X_test, y_train, y_test  )\n",
    "display(df_res.round(3))"
   ]
  },
  {
   "cell_type": "code",
   "execution_count": 44,
   "metadata": {
    "ExecuteTime": {
     "end_time": "2020-03-19T23:53:50.153039Z",
     "start_time": "2020-03-19T23:53:50.149050Z"
    }
   },
   "outputs": [],
   "source": [
    "## Use a dictionary to store our models\n",
    "models_to_make = dict( linear=LinearRegression(),\n",
    "                     ridge=Ridge(alpha=0.5),\n",
    "                     lasso = Lasso(alpha=0.5))"
   ]
  },
  {
   "cell_type": "code",
   "execution_count": 45,
   "metadata": {
    "ExecuteTime": {
     "end_time": "2020-03-19T23:53:50.160636Z",
     "start_time": "2020-03-19T23:53:50.156261Z"
    }
   },
   "outputs": [
    {
     "data": {
      "text/plain": [
       "LinearRegression(copy_X=True, fit_intercept=True, n_jobs=None, normalize=False)"
      ]
     },
     "execution_count": 45,
     "metadata": {},
     "output_type": "execute_result"
    }
   ],
   "source": [
    "## Test our dictionary and function together to make a linear regression.\n",
    "models_to_make['linear']"
   ]
  },
  {
   "cell_type": "code",
   "execution_count": 46,
   "metadata": {
    "ExecuteTime": {
     "end_time": "2020-03-19T23:53:50.168159Z",
     "start_time": "2020-03-19T23:53:50.162780Z"
    }
   },
   "outputs": [
    {
     "data": {
      "text/plain": [
       "{'linear': LinearRegression(copy_X=True, fit_intercept=True, n_jobs=None, normalize=False),\n",
       " 'ridge': Ridge(alpha=0.5, copy_X=True, fit_intercept=True, max_iter=None,\n",
       "       normalize=False, random_state=None, solver='auto', tol=0.001),\n",
       " 'lasso': Lasso(alpha=0.5, copy_X=True, fit_intercept=True, max_iter=1000,\n",
       "       normalize=False, positive=False, precompute=False, random_state=None,\n",
       "       selection='cyclic', tol=0.0001, warm_start=False)}"
      ]
     },
     "execution_count": 46,
     "metadata": {},
     "output_type": "execute_result"
    }
   ],
   "source": [
    "models_to_make"
   ]
  },
  {
   "cell_type": "code",
   "execution_count": 47,
   "metadata": {
    "ExecuteTime": {
     "end_time": "2020-03-19T23:53:50.242933Z",
     "start_time": "2020-03-19T23:53:50.170227Z"
    }
   },
   "outputs": [
    {
     "data": {
      "text/html": [
       "<div>\n",
       "<style scoped>\n",
       "    .dataframe tbody tr th:only-of-type {\n",
       "        vertical-align: middle;\n",
       "    }\n",
       "\n",
       "    .dataframe tbody tr th {\n",
       "        vertical-align: top;\n",
       "    }\n",
       "\n",
       "    .dataframe thead th {\n",
       "        text-align: right;\n",
       "    }\n",
       "</style>\n",
       "<table border=\"1\" class=\"dataframe\">\n",
       "  <thead>\n",
       "    <tr style=\"text-align: right;\">\n",
       "      <th></th>\n",
       "      <th>Data</th>\n",
       "      <th>R2</th>\n",
       "      <th>RMSE</th>\n",
       "      <th>Type</th>\n",
       "    </tr>\n",
       "  </thead>\n",
       "  <tbody>\n",
       "    <tr>\n",
       "      <td>0</td>\n",
       "      <td>Train</td>\n",
       "      <td>0.8204</td>\n",
       "      <td>3.1146</td>\n",
       "      <td>linear</td>\n",
       "    </tr>\n",
       "    <tr>\n",
       "      <td>1</td>\n",
       "      <td>Test</td>\n",
       "      <td>0.7735</td>\n",
       "      <td>4.0924</td>\n",
       "      <td>linear</td>\n",
       "    </tr>\n",
       "  </tbody>\n",
       "</table>\n",
       "</div>"
      ],
      "text/plain": [
       "    Data      R2    RMSE    Type\n",
       "0  Train  0.8204  3.1146  linear\n",
       "1   Test  0.7735  4.0924  linear"
      ]
     },
     "metadata": {},
     "output_type": "display_data"
    },
    {
     "data": {
      "text/html": [
       "<div>\n",
       "<style scoped>\n",
       "    .dataframe tbody tr th:only-of-type {\n",
       "        vertical-align: middle;\n",
       "    }\n",
       "\n",
       "    .dataframe tbody tr th {\n",
       "        vertical-align: top;\n",
       "    }\n",
       "\n",
       "    .dataframe thead th {\n",
       "        text-align: right;\n",
       "    }\n",
       "</style>\n",
       "<table border=\"1\" class=\"dataframe\">\n",
       "  <thead>\n",
       "    <tr style=\"text-align: right;\">\n",
       "      <th></th>\n",
       "      <th>Data</th>\n",
       "      <th>R2</th>\n",
       "      <th>RMSE</th>\n",
       "      <th>Type</th>\n",
       "    </tr>\n",
       "  </thead>\n",
       "  <tbody>\n",
       "    <tr>\n",
       "      <td>0</td>\n",
       "      <td>Train</td>\n",
       "      <td>0.8204</td>\n",
       "      <td>3.1146</td>\n",
       "      <td>ridge</td>\n",
       "    </tr>\n",
       "    <tr>\n",
       "      <td>1</td>\n",
       "      <td>Test</td>\n",
       "      <td>0.7734</td>\n",
       "      <td>4.0925</td>\n",
       "      <td>ridge</td>\n",
       "    </tr>\n",
       "  </tbody>\n",
       "</table>\n",
       "</div>"
      ],
      "text/plain": [
       "    Data      R2    RMSE   Type\n",
       "0  Train  0.8204  3.1146  ridge\n",
       "1   Test  0.7734  4.0925  ridge"
      ]
     },
     "metadata": {},
     "output_type": "display_data"
    },
    {
     "data": {
      "text/html": [
       "<div>\n",
       "<style scoped>\n",
       "    .dataframe tbody tr th:only-of-type {\n",
       "        vertical-align: middle;\n",
       "    }\n",
       "\n",
       "    .dataframe tbody tr th {\n",
       "        vertical-align: top;\n",
       "    }\n",
       "\n",
       "    .dataframe thead th {\n",
       "        text-align: right;\n",
       "    }\n",
       "</style>\n",
       "<table border=\"1\" class=\"dataframe\">\n",
       "  <thead>\n",
       "    <tr style=\"text-align: right;\">\n",
       "      <th></th>\n",
       "      <th>Data</th>\n",
       "      <th>R2</th>\n",
       "      <th>RMSE</th>\n",
       "      <th>Type</th>\n",
       "    </tr>\n",
       "  </thead>\n",
       "  <tbody>\n",
       "    <tr>\n",
       "      <td>0</td>\n",
       "      <td>Train</td>\n",
       "      <td>0.8196</td>\n",
       "      <td>3.1215</td>\n",
       "      <td>lasso</td>\n",
       "    </tr>\n",
       "    <tr>\n",
       "      <td>1</td>\n",
       "      <td>Test</td>\n",
       "      <td>0.7717</td>\n",
       "      <td>4.1083</td>\n",
       "      <td>lasso</td>\n",
       "    </tr>\n",
       "  </tbody>\n",
       "</table>\n",
       "</div>"
      ],
      "text/plain": [
       "    Data      R2    RMSE   Type\n",
       "0  Train  0.8196  3.1215  lasso\n",
       "1   Test  0.7717  4.1083  lasso"
      ]
     },
     "metadata": {},
     "output_type": "display_data"
    }
   ],
   "source": [
    "## Loop through models_to_make and save all results\n",
    "\n",
    "## Create an empty list to store result dfs\n",
    "results = []\n",
    "## Create an empty dict to store fit models\n",
    "fit_models={}\n",
    "\n",
    "for model_type,mod in models_to_make.items():\n",
    "\n",
    "    ## get model results and fit model using make_model\n",
    "    res, mod = make_model(mod, X_train , X_test, y_train, y_test)\n",
    "    ## Add model type as column to res\n",
    "    res['Type'] = model_type\n",
    "    \n",
    "    # Display results\n",
    "    display(res)\n",
    "    \n",
    "    ## Save fit model to models dict \n",
    "    fit_models[model_type] = mod\n",
    "    ## Save df to list \n",
    "    results.append(res)\n",
    "    \n",
    "## Concatenate results \n",
    "df_res = pd.concat(results)\n",
    "df_res.set_index(['Type',\"Data\"],inplace=True)"
   ]
  },
  {
   "cell_type": "code",
   "execution_count": 48,
   "metadata": {
    "ExecuteTime": {
     "end_time": "2020-03-19T23:53:50.280597Z",
     "start_time": "2020-03-19T23:53:50.245098Z"
    }
   },
   "outputs": [
    {
     "data": {
      "text/html": [
       "<style  type=\"text/css\" >\n",
       "    #T_e18a62a8_6a3c_11ea_92ba_4865ee12e626row0_col0 {\n",
       "            background-color:  #023858;\n",
       "            color:  #f1f1f1;\n",
       "        }    #T_e18a62a8_6a3c_11ea_92ba_4865ee12e626row1_col0 {\n",
       "            background-color:  #faf2f8;\n",
       "            color:  #000000;\n",
       "        }    #T_e18a62a8_6a3c_11ea_92ba_4865ee12e626row2_col0 {\n",
       "            background-color:  #023858;\n",
       "            color:  #f1f1f1;\n",
       "        }    #T_e18a62a8_6a3c_11ea_92ba_4865ee12e626row3_col0 {\n",
       "            background-color:  #faf3f9;\n",
       "            color:  #000000;\n",
       "        }    #T_e18a62a8_6a3c_11ea_92ba_4865ee12e626row4_col0 {\n",
       "            background-color:  #023c5f;\n",
       "            color:  #f1f1f1;\n",
       "        }    #T_e18a62a8_6a3c_11ea_92ba_4865ee12e626row5_col0 {\n",
       "            background-color:  #fff7fb;\n",
       "            color:  #000000;\n",
       "        }</style><table id=\"T_e18a62a8_6a3c_11ea_92ba_4865ee12e626\" ><thead>    <tr>        <th class=\"blank\" ></th>        <th class=\"blank level0\" ></th>        <th class=\"col_heading level0 col0\" >R2</th>        <th class=\"col_heading level0 col1\" >RMSE</th>    </tr>    <tr>        <th class=\"index_name level0\" >Type</th>        <th class=\"index_name level1\" >Data</th>        <th class=\"blank\" ></th>        <th class=\"blank\" ></th>    </tr></thead><tbody>\n",
       "                <tr>\n",
       "                        <th id=\"T_e18a62a8_6a3c_11ea_92ba_4865ee12e626level0_row0\" class=\"row_heading level0 row0\" rowspan=2>linear</th>\n",
       "                        <th id=\"T_e18a62a8_6a3c_11ea_92ba_4865ee12e626level1_row0\" class=\"row_heading level1 row0\" >Train</th>\n",
       "                        <td id=\"T_e18a62a8_6a3c_11ea_92ba_4865ee12e626row0_col0\" class=\"data row0 col0\" >0.8204</td>\n",
       "                        <td id=\"T_e18a62a8_6a3c_11ea_92ba_4865ee12e626row0_col1\" class=\"data row0 col1\" >3.1146</td>\n",
       "            </tr>\n",
       "            <tr>\n",
       "                                <th id=\"T_e18a62a8_6a3c_11ea_92ba_4865ee12e626level1_row1\" class=\"row_heading level1 row1\" >Test</th>\n",
       "                        <td id=\"T_e18a62a8_6a3c_11ea_92ba_4865ee12e626row1_col0\" class=\"data row1 col0\" >0.7735</td>\n",
       "                        <td id=\"T_e18a62a8_6a3c_11ea_92ba_4865ee12e626row1_col1\" class=\"data row1 col1\" >4.0924</td>\n",
       "            </tr>\n",
       "            <tr>\n",
       "                        <th id=\"T_e18a62a8_6a3c_11ea_92ba_4865ee12e626level0_row2\" class=\"row_heading level0 row2\" rowspan=2>ridge</th>\n",
       "                        <th id=\"T_e18a62a8_6a3c_11ea_92ba_4865ee12e626level1_row2\" class=\"row_heading level1 row2\" >Train</th>\n",
       "                        <td id=\"T_e18a62a8_6a3c_11ea_92ba_4865ee12e626row2_col0\" class=\"data row2 col0\" >0.8204</td>\n",
       "                        <td id=\"T_e18a62a8_6a3c_11ea_92ba_4865ee12e626row2_col1\" class=\"data row2 col1\" >3.1146</td>\n",
       "            </tr>\n",
       "            <tr>\n",
       "                                <th id=\"T_e18a62a8_6a3c_11ea_92ba_4865ee12e626level1_row3\" class=\"row_heading level1 row3\" >Test</th>\n",
       "                        <td id=\"T_e18a62a8_6a3c_11ea_92ba_4865ee12e626row3_col0\" class=\"data row3 col0\" >0.7734</td>\n",
       "                        <td id=\"T_e18a62a8_6a3c_11ea_92ba_4865ee12e626row3_col1\" class=\"data row3 col1\" >4.0925</td>\n",
       "            </tr>\n",
       "            <tr>\n",
       "                        <th id=\"T_e18a62a8_6a3c_11ea_92ba_4865ee12e626level0_row4\" class=\"row_heading level0 row4\" rowspan=2>lasso</th>\n",
       "                        <th id=\"T_e18a62a8_6a3c_11ea_92ba_4865ee12e626level1_row4\" class=\"row_heading level1 row4\" >Train</th>\n",
       "                        <td id=\"T_e18a62a8_6a3c_11ea_92ba_4865ee12e626row4_col0\" class=\"data row4 col0\" >0.8196</td>\n",
       "                        <td id=\"T_e18a62a8_6a3c_11ea_92ba_4865ee12e626row4_col1\" class=\"data row4 col1\" >3.1215</td>\n",
       "            </tr>\n",
       "            <tr>\n",
       "                                <th id=\"T_e18a62a8_6a3c_11ea_92ba_4865ee12e626level1_row5\" class=\"row_heading level1 row5\" >Test</th>\n",
       "                        <td id=\"T_e18a62a8_6a3c_11ea_92ba_4865ee12e626row5_col0\" class=\"data row5 col0\" >0.7717</td>\n",
       "                        <td id=\"T_e18a62a8_6a3c_11ea_92ba_4865ee12e626row5_col1\" class=\"data row5 col1\" >4.1083</td>\n",
       "            </tr>\n",
       "    </tbody></table>"
      ],
      "text/plain": [
       "<pandas.io.formats.style.Styler at 0x1c3a263a90>"
      ]
     },
     "execution_count": 48,
     "metadata": {},
     "output_type": "execute_result"
    }
   ],
   "source": [
    "## Use styling to make it easier to find the best scores.\n",
    "df_res.style.background_gradient(subset=['R2'])#.highlight_max('R2')"
   ]
  },
  {
   "cell_type": "code",
   "execution_count": 51,
   "metadata": {
    "ExecuteTime": {
     "end_time": "2020-03-19T23:55:32.046481Z",
     "start_time": "2020-03-19T23:55:32.043116Z"
    }
   },
   "outputs": [
    {
     "data": {
      "text/plain": [
       "(6,)"
      ]
     },
     "execution_count": 51,
     "metadata": {},
     "output_type": "execute_result"
    }
   ],
   "source": [
    "## Now examine the coefficients of one of the fit models\n",
    "fit_models['lasso'].coef_.shape"
   ]
  },
  {
   "cell_type": "markdown",
   "metadata": {},
   "source": [
    "> #### Sidebar: You've heard of List Comprehensions but did you that there are Dictionary Comprehensions too?!"
   ]
  },
  {
   "cell_type": "code",
   "execution_count": 54,
   "metadata": {
    "ExecuteTime": {
     "end_time": "2020-03-19T23:57:15.471701Z",
     "start_time": "2020-03-19T23:57:15.466766Z"
    }
   },
   "outputs": [
    {
     "data": {
      "text/plain": [
       "{'linear': array([[-2.67581395e-01, -2.72095202e-03, -4.70728934e-04,\n",
       "         -5.69363176e-03, -2.35947111e-02,  7.13376024e-01]]),\n",
       " 'ridge': array([[-2.65807787e-01, -2.74899549e-03, -4.66339114e-04,\n",
       "         -5.69392986e-03, -2.35687913e-02,  7.13268278e-01]]),\n",
       " 'lasso': array([-0.        , -0.00665017,  0.        , -0.00577122, -0.        ,\n",
       "         0.67082491])}"
      ]
     },
     "execution_count": 54,
     "metadata": {},
     "output_type": "execute_result"
    }
   ],
   "source": [
    "## Get the coefficients of every model in a dictionary using a dict comprehension\n",
    "dict_comp= {k:mod.coef_ for k,mod in fit_models.items() }\n",
    "dict_comp"
   ]
  },
  {
   "cell_type": "code",
   "execution_count": 55,
   "metadata": {
    "ExecuteTime": {
     "end_time": "2020-03-19T23:57:16.332710Z",
     "start_time": "2020-03-19T23:57:16.311420Z"
    }
   },
   "outputs": [
    {
     "name": "stdout",
     "output_type": "stream",
     "text": [
      "linear shape = (1, 6)\n",
      "ridge shape = (1, 6)\n",
      "lasso shape = (6,)\n"
     ]
    },
    {
     "ename": "Exception",
     "evalue": "Data must be 1-dimensional",
     "output_type": "error",
     "traceback": [
      "\u001b[0;31m---------------------------------------------------------------------------\u001b[0m",
      "\u001b[0;31mException\u001b[0m                                 Traceback (most recent call last)",
      "\u001b[0;32m<ipython-input-55-5c69bcf1bebb>\u001b[0m in \u001b[0;36m<module>\u001b[0;34m\u001b[0m\n\u001b[1;32m      4\u001b[0m     \u001b[0mprint\u001b[0m\u001b[0;34m(\u001b[0m\u001b[0;34mf\"{k} shape = {v.shape}\"\u001b[0m\u001b[0;34m)\u001b[0m\u001b[0;34m\u001b[0m\u001b[0;34m\u001b[0m\u001b[0m\n\u001b[1;32m      5\u001b[0m \u001b[0;31m## Try making it a dataframe (error)\u001b[0m\u001b[0;34m\u001b[0m\u001b[0;34m\u001b[0m\u001b[0;34m\u001b[0m\u001b[0m\n\u001b[0;32m----> 6\u001b[0;31m \u001b[0mpd\u001b[0m\u001b[0;34m.\u001b[0m\u001b[0mDataFrame\u001b[0m\u001b[0;34m(\u001b[0m\u001b[0mdict_comp\u001b[0m\u001b[0;34m)\u001b[0m\u001b[0;34m\u001b[0m\u001b[0;34m\u001b[0m\u001b[0m\n\u001b[0m",
      "\u001b[0;32m//anaconda3/envs/learn-env/lib/python3.6/site-packages/pandas/core/frame.py\u001b[0m in \u001b[0;36m__init__\u001b[0;34m(self, data, index, columns, dtype, copy)\u001b[0m\n\u001b[1;32m    409\u001b[0m             )\n\u001b[1;32m    410\u001b[0m         \u001b[0;32melif\u001b[0m \u001b[0misinstance\u001b[0m\u001b[0;34m(\u001b[0m\u001b[0mdata\u001b[0m\u001b[0;34m,\u001b[0m \u001b[0mdict\u001b[0m\u001b[0;34m)\u001b[0m\u001b[0;34m:\u001b[0m\u001b[0;34m\u001b[0m\u001b[0;34m\u001b[0m\u001b[0m\n\u001b[0;32m--> 411\u001b[0;31m             \u001b[0mmgr\u001b[0m \u001b[0;34m=\u001b[0m \u001b[0minit_dict\u001b[0m\u001b[0;34m(\u001b[0m\u001b[0mdata\u001b[0m\u001b[0;34m,\u001b[0m \u001b[0mindex\u001b[0m\u001b[0;34m,\u001b[0m \u001b[0mcolumns\u001b[0m\u001b[0;34m,\u001b[0m \u001b[0mdtype\u001b[0m\u001b[0;34m=\u001b[0m\u001b[0mdtype\u001b[0m\u001b[0;34m)\u001b[0m\u001b[0;34m\u001b[0m\u001b[0;34m\u001b[0m\u001b[0m\n\u001b[0m\u001b[1;32m    412\u001b[0m         \u001b[0;32melif\u001b[0m \u001b[0misinstance\u001b[0m\u001b[0;34m(\u001b[0m\u001b[0mdata\u001b[0m\u001b[0;34m,\u001b[0m \u001b[0mma\u001b[0m\u001b[0;34m.\u001b[0m\u001b[0mMaskedArray\u001b[0m\u001b[0;34m)\u001b[0m\u001b[0;34m:\u001b[0m\u001b[0;34m\u001b[0m\u001b[0;34m\u001b[0m\u001b[0m\n\u001b[1;32m    413\u001b[0m             \u001b[0;32mimport\u001b[0m \u001b[0mnumpy\u001b[0m\u001b[0;34m.\u001b[0m\u001b[0mma\u001b[0m\u001b[0;34m.\u001b[0m\u001b[0mmrecords\u001b[0m \u001b[0;32mas\u001b[0m \u001b[0mmrecords\u001b[0m\u001b[0;34m\u001b[0m\u001b[0;34m\u001b[0m\u001b[0m\n",
      "\u001b[0;32m//anaconda3/envs/learn-env/lib/python3.6/site-packages/pandas/core/internals/construction.py\u001b[0m in \u001b[0;36minit_dict\u001b[0;34m(data, index, columns, dtype)\u001b[0m\n\u001b[1;32m    255\u001b[0m             \u001b[0marr\u001b[0m \u001b[0;32mif\u001b[0m \u001b[0;32mnot\u001b[0m \u001b[0mis_datetime64tz_dtype\u001b[0m\u001b[0;34m(\u001b[0m\u001b[0marr\u001b[0m\u001b[0;34m)\u001b[0m \u001b[0;32melse\u001b[0m \u001b[0marr\u001b[0m\u001b[0;34m.\u001b[0m\u001b[0mcopy\u001b[0m\u001b[0;34m(\u001b[0m\u001b[0;34m)\u001b[0m \u001b[0;32mfor\u001b[0m \u001b[0marr\u001b[0m \u001b[0;32min\u001b[0m \u001b[0marrays\u001b[0m\u001b[0;34m\u001b[0m\u001b[0;34m\u001b[0m\u001b[0m\n\u001b[1;32m    256\u001b[0m         ]\n\u001b[0;32m--> 257\u001b[0;31m     \u001b[0;32mreturn\u001b[0m \u001b[0marrays_to_mgr\u001b[0m\u001b[0;34m(\u001b[0m\u001b[0marrays\u001b[0m\u001b[0;34m,\u001b[0m \u001b[0mdata_names\u001b[0m\u001b[0;34m,\u001b[0m \u001b[0mindex\u001b[0m\u001b[0;34m,\u001b[0m \u001b[0mcolumns\u001b[0m\u001b[0;34m,\u001b[0m \u001b[0mdtype\u001b[0m\u001b[0;34m=\u001b[0m\u001b[0mdtype\u001b[0m\u001b[0;34m)\u001b[0m\u001b[0;34m\u001b[0m\u001b[0;34m\u001b[0m\u001b[0m\n\u001b[0m\u001b[1;32m    258\u001b[0m \u001b[0;34m\u001b[0m\u001b[0m\n\u001b[1;32m    259\u001b[0m \u001b[0;34m\u001b[0m\u001b[0m\n",
      "\u001b[0;32m//anaconda3/envs/learn-env/lib/python3.6/site-packages/pandas/core/internals/construction.py\u001b[0m in \u001b[0;36marrays_to_mgr\u001b[0;34m(arrays, arr_names, index, columns, dtype)\u001b[0m\n\u001b[1;32m     80\u001b[0m \u001b[0;34m\u001b[0m\u001b[0m\n\u001b[1;32m     81\u001b[0m     \u001b[0;31m# don't force copy because getting jammed in an ndarray anyway\u001b[0m\u001b[0;34m\u001b[0m\u001b[0;34m\u001b[0m\u001b[0;34m\u001b[0m\u001b[0m\n\u001b[0;32m---> 82\u001b[0;31m     \u001b[0marrays\u001b[0m \u001b[0;34m=\u001b[0m \u001b[0m_homogenize\u001b[0m\u001b[0;34m(\u001b[0m\u001b[0marrays\u001b[0m\u001b[0;34m,\u001b[0m \u001b[0mindex\u001b[0m\u001b[0;34m,\u001b[0m \u001b[0mdtype\u001b[0m\u001b[0;34m)\u001b[0m\u001b[0;34m\u001b[0m\u001b[0;34m\u001b[0m\u001b[0m\n\u001b[0m\u001b[1;32m     83\u001b[0m \u001b[0;34m\u001b[0m\u001b[0m\n\u001b[1;32m     84\u001b[0m     \u001b[0;31m# from BlockManager perspective\u001b[0m\u001b[0;34m\u001b[0m\u001b[0;34m\u001b[0m\u001b[0;34m\u001b[0m\u001b[0m\n",
      "\u001b[0;32m//anaconda3/envs/learn-env/lib/python3.6/site-packages/pandas/core/internals/construction.py\u001b[0m in \u001b[0;36m_homogenize\u001b[0;34m(data, index, dtype)\u001b[0m\n\u001b[1;32m    321\u001b[0m                 \u001b[0mval\u001b[0m \u001b[0;34m=\u001b[0m \u001b[0mlib\u001b[0m\u001b[0;34m.\u001b[0m\u001b[0mfast_multiget\u001b[0m\u001b[0;34m(\u001b[0m\u001b[0mval\u001b[0m\u001b[0;34m,\u001b[0m \u001b[0moindex\u001b[0m\u001b[0;34m.\u001b[0m\u001b[0mvalues\u001b[0m\u001b[0;34m,\u001b[0m \u001b[0mdefault\u001b[0m\u001b[0;34m=\u001b[0m\u001b[0mnp\u001b[0m\u001b[0;34m.\u001b[0m\u001b[0mnan\u001b[0m\u001b[0;34m)\u001b[0m\u001b[0;34m\u001b[0m\u001b[0;34m\u001b[0m\u001b[0m\n\u001b[1;32m    322\u001b[0m             val = sanitize_array(\n\u001b[0;32m--> 323\u001b[0;31m                 \u001b[0mval\u001b[0m\u001b[0;34m,\u001b[0m \u001b[0mindex\u001b[0m\u001b[0;34m,\u001b[0m \u001b[0mdtype\u001b[0m\u001b[0;34m=\u001b[0m\u001b[0mdtype\u001b[0m\u001b[0;34m,\u001b[0m \u001b[0mcopy\u001b[0m\u001b[0;34m=\u001b[0m\u001b[0;32mFalse\u001b[0m\u001b[0;34m,\u001b[0m \u001b[0mraise_cast_failure\u001b[0m\u001b[0;34m=\u001b[0m\u001b[0;32mFalse\u001b[0m\u001b[0;34m\u001b[0m\u001b[0;34m\u001b[0m\u001b[0m\n\u001b[0m\u001b[1;32m    324\u001b[0m             )\n\u001b[1;32m    325\u001b[0m \u001b[0;34m\u001b[0m\u001b[0m\n",
      "\u001b[0;32m//anaconda3/envs/learn-env/lib/python3.6/site-packages/pandas/core/internals/construction.py\u001b[0m in \u001b[0;36msanitize_array\u001b[0;34m(data, index, dtype, copy, raise_cast_failure)\u001b[0m\n\u001b[1;32m    727\u001b[0m     \u001b[0;32melif\u001b[0m \u001b[0msubarr\u001b[0m\u001b[0;34m.\u001b[0m\u001b[0mndim\u001b[0m \u001b[0;34m>\u001b[0m \u001b[0;36m1\u001b[0m\u001b[0;34m:\u001b[0m\u001b[0;34m\u001b[0m\u001b[0;34m\u001b[0m\u001b[0m\n\u001b[1;32m    728\u001b[0m         \u001b[0;32mif\u001b[0m \u001b[0misinstance\u001b[0m\u001b[0;34m(\u001b[0m\u001b[0mdata\u001b[0m\u001b[0;34m,\u001b[0m \u001b[0mnp\u001b[0m\u001b[0;34m.\u001b[0m\u001b[0mndarray\u001b[0m\u001b[0;34m)\u001b[0m\u001b[0;34m:\u001b[0m\u001b[0;34m\u001b[0m\u001b[0;34m\u001b[0m\u001b[0m\n\u001b[0;32m--> 729\u001b[0;31m             \u001b[0;32mraise\u001b[0m \u001b[0mException\u001b[0m\u001b[0;34m(\u001b[0m\u001b[0;34m\"Data must be 1-dimensional\"\u001b[0m\u001b[0;34m)\u001b[0m\u001b[0;34m\u001b[0m\u001b[0;34m\u001b[0m\u001b[0m\n\u001b[0m\u001b[1;32m    730\u001b[0m         \u001b[0;32melse\u001b[0m\u001b[0;34m:\u001b[0m\u001b[0;34m\u001b[0m\u001b[0;34m\u001b[0m\u001b[0m\n\u001b[1;32m    731\u001b[0m             \u001b[0msubarr\u001b[0m \u001b[0;34m=\u001b[0m \u001b[0mcom\u001b[0m\u001b[0;34m.\u001b[0m\u001b[0masarray_tuplesafe\u001b[0m\u001b[0;34m(\u001b[0m\u001b[0mdata\u001b[0m\u001b[0;34m,\u001b[0m \u001b[0mdtype\u001b[0m\u001b[0;34m=\u001b[0m\u001b[0mdtype\u001b[0m\u001b[0;34m)\u001b[0m\u001b[0;34m\u001b[0m\u001b[0;34m\u001b[0m\u001b[0m\n",
      "\u001b[0;31mException\u001b[0m: Data must be 1-dimensional"
     ]
    }
   ],
   "source": [
    "## Notice the shapes of the arrays are not the same\n",
    "# Print out the shapes of each dict value\n",
    "for k,v in dict_comp.items():\n",
    "    print(f\"{k} shape = {v.shape}\")\n",
    "## Try making it a dataframe (error)\n",
    "pd.DataFrame(dict_comp)"
   ]
  },
  {
   "cell_type": "markdown",
   "metadata": {},
   "source": [
    "#### The solution: `.flatten()`"
   ]
  },
  {
   "cell_type": "code",
   "execution_count": 57,
   "metadata": {
    "ExecuteTime": {
     "end_time": "2020-03-19T23:58:29.140199Z",
     "start_time": "2020-03-19T23:58:29.129671Z"
    }
   },
   "outputs": [
    {
     "name": "stdout",
     "output_type": "stream",
     "text": [
      "linear shape = (6,)\n",
      "ridge shape = (6,)\n",
      "lasso shape = (6,)\n"
     ]
    },
    {
     "data": {
      "text/html": [
       "<div>\n",
       "<style scoped>\n",
       "    .dataframe tbody tr th:only-of-type {\n",
       "        vertical-align: middle;\n",
       "    }\n",
       "\n",
       "    .dataframe tbody tr th {\n",
       "        vertical-align: top;\n",
       "    }\n",
       "\n",
       "    .dataframe thead th {\n",
       "        text-align: right;\n",
       "    }\n",
       "</style>\n",
       "<table border=\"1\" class=\"dataframe\">\n",
       "  <thead>\n",
       "    <tr style=\"text-align: right;\">\n",
       "      <th></th>\n",
       "      <th>linear</th>\n",
       "      <th>ridge</th>\n",
       "      <th>lasso</th>\n",
       "    </tr>\n",
       "  </thead>\n",
       "  <tbody>\n",
       "    <tr>\n",
       "      <td>0</td>\n",
       "      <td>-0.267581</td>\n",
       "      <td>-0.265808</td>\n",
       "      <td>-0.000000</td>\n",
       "    </tr>\n",
       "    <tr>\n",
       "      <td>1</td>\n",
       "      <td>-0.002721</td>\n",
       "      <td>-0.002749</td>\n",
       "      <td>-0.006650</td>\n",
       "    </tr>\n",
       "    <tr>\n",
       "      <td>2</td>\n",
       "      <td>-0.000471</td>\n",
       "      <td>-0.000466</td>\n",
       "      <td>0.000000</td>\n",
       "    </tr>\n",
       "    <tr>\n",
       "      <td>3</td>\n",
       "      <td>-0.005694</td>\n",
       "      <td>-0.005694</td>\n",
       "      <td>-0.005771</td>\n",
       "    </tr>\n",
       "    <tr>\n",
       "      <td>4</td>\n",
       "      <td>-0.023595</td>\n",
       "      <td>-0.023569</td>\n",
       "      <td>-0.000000</td>\n",
       "    </tr>\n",
       "    <tr>\n",
       "      <td>5</td>\n",
       "      <td>0.713376</td>\n",
       "      <td>0.713268</td>\n",
       "      <td>0.670825</td>\n",
       "    </tr>\n",
       "  </tbody>\n",
       "</table>\n",
       "</div>"
      ],
      "text/plain": [
       "     linear     ridge     lasso\n",
       "0 -0.267581 -0.265808 -0.000000\n",
       "1 -0.002721 -0.002749 -0.006650\n",
       "2 -0.000471 -0.000466  0.000000\n",
       "3 -0.005694 -0.005694 -0.005771\n",
       "4 -0.023595 -0.023569 -0.000000\n",
       "5  0.713376  0.713268  0.670825"
      ]
     },
     "execution_count": 57,
     "metadata": {},
     "output_type": "execute_result"
    }
   ],
   "source": [
    "## Use .flatten() to make coefs 1D\n",
    "dict_comp= {k:mod.coef_.flatten() for k,mod in fit_models.items() }\n",
    "\n",
    "## Notice the shapes of the arrays are not the same\n",
    "\n",
    "for k,v in dict_comp.items():\n",
    "    print(f\"{k} shape = {v.shape}\")\n",
    "## Try making it a dataframe (error)\n",
    "pd.DataFrame(dict_comp)\n",
    "## make it into a df"
   ]
  },
  {
   "cell_type": "code",
   "execution_count": 58,
   "metadata": {
    "ExecuteTime": {
     "end_time": "2020-03-19T23:59:48.622439Z",
     "start_time": "2020-03-19T23:59:48.606873Z"
    }
   },
   "outputs": [
    {
     "data": {
      "text/html": [
       "<div>\n",
       "<style scoped>\n",
       "    .dataframe tbody tr th:only-of-type {\n",
       "        vertical-align: middle;\n",
       "    }\n",
       "\n",
       "    .dataframe tbody tr th {\n",
       "        vertical-align: top;\n",
       "    }\n",
       "\n",
       "    .dataframe thead th {\n",
       "        text-align: right;\n",
       "    }\n",
       "</style>\n",
       "<table border=\"1\" class=\"dataframe\">\n",
       "  <thead>\n",
       "    <tr style=\"text-align: right;\">\n",
       "      <th></th>\n",
       "      <th>cylinders</th>\n",
       "      <th>displacement</th>\n",
       "      <th>horsepower</th>\n",
       "      <th>weight</th>\n",
       "      <th>acceleration</th>\n",
       "      <th>model year</th>\n",
       "    </tr>\n",
       "  </thead>\n",
       "  <tbody>\n",
       "    <tr>\n",
       "      <td>44</td>\n",
       "      <td>6</td>\n",
       "      <td>258.0</td>\n",
       "      <td>110</td>\n",
       "      <td>2962</td>\n",
       "      <td>13.5</td>\n",
       "      <td>71</td>\n",
       "    </tr>\n",
       "    <tr>\n",
       "      <td>334</td>\n",
       "      <td>4</td>\n",
       "      <td>135.0</td>\n",
       "      <td>84</td>\n",
       "      <td>2490</td>\n",
       "      <td>15.7</td>\n",
       "      <td>81</td>\n",
       "    </tr>\n",
       "    <tr>\n",
       "      <td>224</td>\n",
       "      <td>6</td>\n",
       "      <td>231.0</td>\n",
       "      <td>105</td>\n",
       "      <td>3425</td>\n",
       "      <td>16.9</td>\n",
       "      <td>77</td>\n",
       "    </tr>\n",
       "    <tr>\n",
       "      <td>355</td>\n",
       "      <td>6</td>\n",
       "      <td>145.0</td>\n",
       "      <td>76</td>\n",
       "      <td>3160</td>\n",
       "      <td>19.6</td>\n",
       "      <td>81</td>\n",
       "    </tr>\n",
       "    <tr>\n",
       "      <td>11</td>\n",
       "      <td>8</td>\n",
       "      <td>340.0</td>\n",
       "      <td>160</td>\n",
       "      <td>3609</td>\n",
       "      <td>8.0</td>\n",
       "      <td>70</td>\n",
       "    </tr>\n",
       "    <tr>\n",
       "      <td>...</td>\n",
       "      <td>...</td>\n",
       "      <td>...</td>\n",
       "      <td>...</td>\n",
       "      <td>...</td>\n",
       "      <td>...</td>\n",
       "      <td>...</td>\n",
       "    </tr>\n",
       "    <tr>\n",
       "      <td>130</td>\n",
       "      <td>4</td>\n",
       "      <td>140.0</td>\n",
       "      <td>75</td>\n",
       "      <td>2542</td>\n",
       "      <td>17.0</td>\n",
       "      <td>74</td>\n",
       "    </tr>\n",
       "    <tr>\n",
       "      <td>241</td>\n",
       "      <td>3</td>\n",
       "      <td>80.0</td>\n",
       "      <td>110</td>\n",
       "      <td>2720</td>\n",
       "      <td>13.5</td>\n",
       "      <td>77</td>\n",
       "    </tr>\n",
       "    <tr>\n",
       "      <td>253</td>\n",
       "      <td>4</td>\n",
       "      <td>140.0</td>\n",
       "      <td>88</td>\n",
       "      <td>2720</td>\n",
       "      <td>15.4</td>\n",
       "      <td>78</td>\n",
       "    </tr>\n",
       "    <tr>\n",
       "      <td>155</td>\n",
       "      <td>8</td>\n",
       "      <td>350.0</td>\n",
       "      <td>145</td>\n",
       "      <td>4440</td>\n",
       "      <td>14.0</td>\n",
       "      <td>75</td>\n",
       "    </tr>\n",
       "    <tr>\n",
       "      <td>331</td>\n",
       "      <td>3</td>\n",
       "      <td>70.0</td>\n",
       "      <td>100</td>\n",
       "      <td>2420</td>\n",
       "      <td>12.5</td>\n",
       "      <td>80</td>\n",
       "    </tr>\n",
       "  </tbody>\n",
       "</table>\n",
       "<p>274 rows × 6 columns</p>\n",
       "</div>"
      ],
      "text/plain": [
       "     cylinders  displacement  horsepower  weight  acceleration  model year\n",
       "44           6         258.0         110    2962          13.5          71\n",
       "334          4         135.0          84    2490          15.7          81\n",
       "224          6         231.0         105    3425          16.9          77\n",
       "355          6         145.0          76    3160          19.6          81\n",
       "11           8         340.0         160    3609           8.0          70\n",
       "..         ...           ...         ...     ...           ...         ...\n",
       "130          4         140.0          75    2542          17.0          74\n",
       "241          3          80.0         110    2720          13.5          77\n",
       "253          4         140.0          88    2720          15.4          78\n",
       "155          8         350.0         145    4440          14.0          75\n",
       "331          3          70.0         100    2420          12.5          80\n",
       "\n",
       "[274 rows x 6 columns]"
      ]
     },
     "execution_count": 58,
     "metadata": {},
     "output_type": "execute_result"
    }
   ],
   "source": [
    "X_train"
   ]
  },
  {
   "cell_type": "code",
   "execution_count": 60,
   "metadata": {
    "ExecuteTime": {
     "end_time": "2020-03-20T00:00:38.032936Z",
     "start_time": "2020-03-20T00:00:38.018956Z"
    }
   },
   "outputs": [
    {
     "data": {
      "text/html": [
       "<div>\n",
       "<style scoped>\n",
       "    .dataframe tbody tr th:only-of-type {\n",
       "        vertical-align: middle;\n",
       "    }\n",
       "\n",
       "    .dataframe tbody tr th {\n",
       "        vertical-align: top;\n",
       "    }\n",
       "\n",
       "    .dataframe thead th {\n",
       "        text-align: right;\n",
       "    }\n",
       "</style>\n",
       "<table border=\"1\" class=\"dataframe\">\n",
       "  <thead>\n",
       "    <tr style=\"text-align: right;\">\n",
       "      <th></th>\n",
       "      <th>linear</th>\n",
       "      <th>ridge</th>\n",
       "      <th>lasso</th>\n",
       "    </tr>\n",
       "  </thead>\n",
       "  <tbody>\n",
       "    <tr>\n",
       "      <td>cylinders</td>\n",
       "      <td>-0.267581</td>\n",
       "      <td>-0.265808</td>\n",
       "      <td>-0.000000</td>\n",
       "    </tr>\n",
       "    <tr>\n",
       "      <td>displacement</td>\n",
       "      <td>-0.002721</td>\n",
       "      <td>-0.002749</td>\n",
       "      <td>-0.006650</td>\n",
       "    </tr>\n",
       "    <tr>\n",
       "      <td>horsepower</td>\n",
       "      <td>-0.000471</td>\n",
       "      <td>-0.000466</td>\n",
       "      <td>0.000000</td>\n",
       "    </tr>\n",
       "    <tr>\n",
       "      <td>weight</td>\n",
       "      <td>-0.005694</td>\n",
       "      <td>-0.005694</td>\n",
       "      <td>-0.005771</td>\n",
       "    </tr>\n",
       "    <tr>\n",
       "      <td>acceleration</td>\n",
       "      <td>-0.023595</td>\n",
       "      <td>-0.023569</td>\n",
       "      <td>-0.000000</td>\n",
       "    </tr>\n",
       "    <tr>\n",
       "      <td>model year</td>\n",
       "      <td>0.713376</td>\n",
       "      <td>0.713268</td>\n",
       "      <td>0.670825</td>\n",
       "    </tr>\n",
       "  </tbody>\n",
       "</table>\n",
       "</div>"
      ],
      "text/plain": [
       "                linear     ridge     lasso\n",
       "cylinders    -0.267581 -0.265808 -0.000000\n",
       "displacement -0.002721 -0.002749 -0.006650\n",
       "horsepower   -0.000471 -0.000466  0.000000\n",
       "weight       -0.005694 -0.005694 -0.005771\n",
       "acceleration -0.023595 -0.023569 -0.000000\n",
       "model year    0.713376  0.713268  0.670825"
      ]
     },
     "execution_count": 60,
     "metadata": {},
     "output_type": "execute_result"
    }
   ],
   "source": [
    "### Put it all together  into 1 line of code\n",
    "df_coeffs = pd.DataFrame({k:mod.coef_.flatten() for k,mod in fit_models.items()},\n",
    "                        index=X_train.columns)\n",
    "df_coeffs"
   ]
  },
  {
   "cell_type": "code",
   "execution_count": 61,
   "metadata": {
    "ExecuteTime": {
     "end_time": "2020-03-20T00:00:50.758488Z",
     "start_time": "2020-03-20T00:00:50.745972Z"
    }
   },
   "outputs": [
    {
     "data": {
      "text/html": [
       "<div>\n",
       "<style scoped>\n",
       "    .dataframe tbody tr th:only-of-type {\n",
       "        vertical-align: middle;\n",
       "    }\n",
       "\n",
       "    .dataframe tbody tr th {\n",
       "        vertical-align: top;\n",
       "    }\n",
       "\n",
       "    .dataframe thead th {\n",
       "        text-align: right;\n",
       "    }\n",
       "</style>\n",
       "<table border=\"1\" class=\"dataframe\">\n",
       "  <thead>\n",
       "    <tr style=\"text-align: right;\">\n",
       "      <th></th>\n",
       "      <th>cylinders</th>\n",
       "      <th>displacement</th>\n",
       "      <th>horsepower</th>\n",
       "      <th>weight</th>\n",
       "      <th>acceleration</th>\n",
       "      <th>model year</th>\n",
       "    </tr>\n",
       "  </thead>\n",
       "  <tbody>\n",
       "    <tr>\n",
       "      <td>linear</td>\n",
       "      <td>-0.268</td>\n",
       "      <td>-0.003</td>\n",
       "      <td>-0.0</td>\n",
       "      <td>-0.006</td>\n",
       "      <td>-0.024</td>\n",
       "      <td>0.713</td>\n",
       "    </tr>\n",
       "    <tr>\n",
       "      <td>ridge</td>\n",
       "      <td>-0.266</td>\n",
       "      <td>-0.003</td>\n",
       "      <td>-0.0</td>\n",
       "      <td>-0.006</td>\n",
       "      <td>-0.024</td>\n",
       "      <td>0.713</td>\n",
       "    </tr>\n",
       "    <tr>\n",
       "      <td>lasso</td>\n",
       "      <td>-0.000</td>\n",
       "      <td>-0.007</td>\n",
       "      <td>0.0</td>\n",
       "      <td>-0.006</td>\n",
       "      <td>-0.000</td>\n",
       "      <td>0.671</td>\n",
       "    </tr>\n",
       "  </tbody>\n",
       "</table>\n",
       "</div>"
      ],
      "text/plain": [
       "        cylinders  displacement  horsepower  weight  acceleration  model year\n",
       "linear     -0.268        -0.003        -0.0  -0.006        -0.024       0.713\n",
       "ridge      -0.266        -0.003        -0.0  -0.006        -0.024       0.713\n",
       "lasso      -0.000        -0.007         0.0  -0.006        -0.000       0.671"
      ]
     },
     "execution_count": 61,
     "metadata": {},
     "output_type": "execute_result"
    }
   ],
   "source": [
    "## Tanspose df and round\n",
    "df_coeffs.T.round(3)"
   ]
  },
  {
   "cell_type": "markdown",
   "metadata": {},
   "source": [
    "## Discussion: what was the result of the different regressions on the coefficients?"
   ]
  },
  {
   "cell_type": "markdown",
   "metadata": {},
   "source": [
    "-  lasso regression shrunk some of the coefficients down to 0"
   ]
  },
  {
   "cell_type": "markdown",
   "metadata": {},
   "source": [
    "# Akaike Information Criterion (AIC) and Bayesian Information Criterion (BIC)"
   ]
  },
  {
   "cell_type": "markdown",
   "metadata": {},
   "source": [
    "## Uses of AIC and BIC"
   ]
  },
  {
   "cell_type": "markdown",
   "metadata": {},
   "source": [
    "- Performing feature selection: comparing models with only a few variables and more variables, computing the AIC/BIC and select the features that generated the lowest AIC or BIC\n",
    "- Similarly, selecting or not selecting interactions/polynomial features depending on whether or not the AIC/BIC decreases when adding them in\n",
    "- Computing the AIC and BIC for several values of the regularization parameter in Ridge/Lasso models and selecting the best regularization parameter, and many more! "
   ]
  },
  {
   "cell_type": "markdown",
   "metadata": {},
   "source": [
    "### Akaike's Information Criterion (AIC)\n"
   ]
  },
  {
   "cell_type": "markdown",
   "metadata": {},
   "source": [
    "The formula for the AIC, invented by Hirotugu Akaike in 1973 and short for \"Akaike's Information Criterion\" is given by:\n",
    "\n",
    "$$ \\large \\text{AIC} = -2\\ln(\\hat{L}) + 2k $$\n",
    "\n",
    "Where:\n",
    "* $k$ : length of the parameter space (i.e. the number of features)\n",
    "* $\\hat{L}$ : the maximum value of the likelihood function for the model\n",
    "\n",
    "Another way to phrase the equation is:\n",
    "\n",
    "$$ \n",
    "\\large \\text{AIC(model)} =  - 2 * \\text{log-likelihood(model)} + 2 * \\text{length of the parameter space} $$\n",
    "\n",
    "\n",
    "- AIC used to **compare** models with unbounded units not independently interpretable\n",
    "\n",
    "- If model uses Maximum Likelihood Estimation, log-likelihood is automatically computed, so AIC is easy to calculate.\n",
    "- AIC acts like penalized log-likelihood criterion, balancing good fit and complexity\n",
    "\n",
    "- In Python, the AIC is built into `statsmodels` and in `sklearn` (such as `LassoLarsIC`, which you'll use in the upcoming lab). "
   ]
  },
  {
   "cell_type": "markdown",
   "metadata": {},
   "source": [
    "### Bayesian Information Criterion (BIC)"
   ]
  },
  {
   "cell_type": "markdown",
   "metadata": {},
   "source": [
    "- Bayesian alternative to AIC, used the same way.\n",
    "\n",
    " $$\\large \\text{BIC} = -2\\ln(\\hat L) + \\ln(n)*k $$\n",
    "\n",
    "\n",
    "where:\n",
    "\n",
    "* $\\hat{L}$ and $k$ are the same as in AIC\n",
    "* $n$ : the number of data points (the sample size)\n",
    "\n",
    "Another way to phrase the equation is:\n",
    "\n",
    "$$ \\text{BIC(model)} = -2 * \\text{log-likelihood(model)} + \\text{log(number of observations)} * \\text{(length of the parameter space)} $$"
   ]
  },
  {
   "cell_type": "code",
   "execution_count": 62,
   "metadata": {
    "ExecuteTime": {
     "end_time": "2020-03-20T00:05:02.224782Z",
     "start_time": "2020-03-20T00:05:02.211532Z"
    }
   },
   "outputs": [
    {
     "data": {
      "text/plain": [
       "0.001405403449056324"
      ]
     },
     "execution_count": 62,
     "metadata": {},
     "output_type": "execute_result"
    }
   ],
   "source": [
    "from sklearn.linear_model import LassoCV, LassoLarsCV, LassoLarsIC\n",
    "# alphas = np.arange(0.1,100,0.1)\n",
    "\n",
    "lasso_cvA = LassoLarsIC(criterion='aic')\n",
    "lasso_cvA.fit(X_train,y_train);\n",
    "lasso_cvA.alpha_\n",
    "\n",
    "\n",
    "lasso_cvB = LassoLarsIC(criterion='bic')\n",
    "lasso_cvB.fit(X_train,y_train);\n",
    "lasso_cvB.alpha_"
   ]
  },
  {
   "cell_type": "code",
   "execution_count": 63,
   "metadata": {
    "ExecuteTime": {
     "end_time": "2020-03-20T00:07:08.217240Z",
     "start_time": "2020-03-20T00:07:07.932580Z"
    }
   },
   "outputs": [
    {
     "data": {
      "text/plain": [
       "<matplotlib.legend.Legend at 0x1c39b73e10>"
      ]
     },
     "execution_count": 63,
     "metadata": {},
     "output_type": "execute_result"
    },
    {
     "data": {
      "image/png": "[encoded data removed]",
      "text/plain": [
       "<Figure size 921.6x633.6 with 1 Axes>"
      ]
     },
     "metadata": {
      "needs_background": "light"
     },
     "output_type": "display_data"
    }
   ],
   "source": [
    "def plot_ic_criterion(model, name, color):\n",
    "    \"\"\"Taken from:\n",
    "    https://scikit-learn.org/stable/auto_examples/linear_model/plot_lasso_model_selection.html\"\"\"\n",
    "    # This is to avoid division by zero while doing np.log10\n",
    "    EPSILON = 1e-4\n",
    "    alpha_ = model.alpha_ + EPSILON\n",
    "    alphas_ = model.alphas_ + EPSILON\n",
    "    criterion_ = model.criterion_\n",
    "    plt.plot(-np.log10(alphas_), criterion_, '--', color=color,\n",
    "             linewidth=3, label='%s criterion' % name)\n",
    "    \n",
    "    plt.axvline(-np.log10(alpha_), color=color, linewidth=3,\n",
    "                label=f'alpha: {name} estimate (alpha={round(alpha_,5)})')\n",
    "    plt.xlabel('-log(alpha)')\n",
    "    plt.ylabel('criterion')\n",
    "\n",
    "plot_ic_criterion(lasso_cvA,'AIC','blue')\n",
    "plot_ic_criterion(lasso_cvB,'BIC','green')#,'BIC' )\n",
    "plt.legend(bbox_to_anchor=[1,1],loc='upper left')"
   ]
  },
  {
   "cell_type": "markdown",
   "metadata": {},
   "source": [
    "# Feature Selection\n",
    "[Lesson](https://learn.co/tracks/module-3-data-science-career-2-1/machine-learning/section-24-feature-selection-ridge-and-lasso/feature-selection-methods)"
   ]
  },
  {
   "cell_type": "markdown",
   "metadata": {},
   "source": [
    "## Types of Feature Selection "
   ]
  },
  {
   "cell_type": "markdown",
   "metadata": {},
   "source": [
    "* Domain knowledge\n",
    "* Wrapper methods\n",
    "* Filter methods\n",
    "* Embedded methods\n",
    "\n",
    "> ### Wrapper Methods\n",
    "<img src=\"https://raw.githubusercontent.com/jirvingphd/dsc-feature-selection-methods-online-ds-pt-100719/master/images/new_wrapper.png\">\n",
    "\n",
    "\n",
    "> ### Filter Methods\n",
    "<img src=\"https://raw.githubusercontent.com/jirvingphd/dsc-feature-selection-methods-online-ds-pt-100719/master/images/new_filter.png\">\n",
    "\n",
    "\n",
    "> ### Embed Methods\n",
    "<img src=\"https://raw.githubusercontent.com/jirvingphd/dsc-feature-selection-methods-online-ds-pt-100719/master/images/new_embedded.png\">"
   ]
  },
  {
   "cell_type": "markdown",
   "metadata": {},
   "source": [
    "# ACTIVITY"
   ]
  },
  {
   "cell_type": "markdown",
   "metadata": {},
   "source": [
    "[**Rewrite Feature Selection Methods Lesson to easily capture and compare results across methods.**](https://learn.co/tracks/module-3-data-science-career-2-1/machine-learning/section-24-feature-selection-ridge-and-lasso/feature-selection-methods)\n"
   ]
  },
  {
   "cell_type": "code",
   "execution_count": 66,
   "metadata": {
    "ExecuteTime": {
     "end_time": "2020-03-20T00:12:12.341885Z",
     "start_time": "2020-03-20T00:12:12.079020Z"
    }
   },
   "outputs": [],
   "source": [
    "## Feature Selection Dataset\n",
    "data= \"https://raw.githubusercontent.com/learn-co-students/dsc-feature-selection-methods-online-ds-pt-100719/master/diabetes.tab.txt\"\n",
    "df = pd.read_csv(data,sep='\\t')"
   ]
  },
  {
   "cell_type": "code",
   "execution_count": 67,
   "metadata": {
    "ExecuteTime": {
     "end_time": "2020-03-20T00:12:13.411649Z",
     "start_time": "2020-03-20T00:12:13.405410Z"
    }
   },
   "outputs": [],
   "source": [
    "## Make a new version of make_model that also adds a note column to results\n",
    "def run_model(model,X_train,X_test,y_train,y_test,note=''):\n",
    "    \"\"\"Takes a sklearn model and train/test data to fit model, \n",
    "    get R2 and RMSE for both the training and test data.\n",
    "    \n",
    "    Returns:\n",
    "        DataFrame: results as a df\n",
    "        model: fit scikit-learn model itself\"\"\"\n",
    "    \n",
    "    res= [['Data','R2','RMSE']]\n",
    "    model.fit(X_train, y_train)\n",
    "    # Generate preditions for training and test sets\n",
    "    y_hat_train = model.predict(X_train)\n",
    "    y_hat_test = model.predict(X_test)\n",
    "    \n",
    "    r2_train = r2_score(y_train,y_hat_train)\n",
    "    r2_test = r2_score(y_test,y_hat_test)\n",
    "    \n",
    "    rmse_train = np.sqrt(mean_squared_error(y_train,y_hat_train))\n",
    "    rmse_test = np.sqrt(mean_squared_error(y_test,y_hat_test))\n",
    "    res.append(['Train', r2_train, rmse_train] )\n",
    "    res.append(['Test', r2_test, rmse_test] )\n",
    "    \n",
    "    res_df = pd.DataFrame(res[1:], columns=res[0]).round(4)\n",
    "    res_df['Note'] = note\n",
    "    return res_df#, model\n",
    "    "
   ]
  },
  {
   "cell_type": "code",
   "execution_count": 68,
   "metadata": {
    "ExecuteTime": {
     "end_time": "2020-03-20T00:12:14.107432Z",
     "start_time": "2020-03-20T00:12:14.087271Z"
    }
   },
   "outputs": [
    {
     "data": {
      "text/html": [
       "<div>\n",
       "<style scoped>\n",
       "    .dataframe tbody tr th:only-of-type {\n",
       "        vertical-align: middle;\n",
       "    }\n",
       "\n",
       "    .dataframe tbody tr th {\n",
       "        vertical-align: top;\n",
       "    }\n",
       "\n",
       "    .dataframe thead th {\n",
       "        text-align: right;\n",
       "    }\n",
       "</style>\n",
       "<table border=\"1\" class=\"dataframe\">\n",
       "  <thead>\n",
       "    <tr style=\"text-align: right;\">\n",
       "      <th></th>\n",
       "      <th>AGE</th>\n",
       "      <th>BMI</th>\n",
       "      <th>BP</th>\n",
       "      <th>S1</th>\n",
       "      <th>S2</th>\n",
       "      <th>S3</th>\n",
       "      <th>S4</th>\n",
       "      <th>S5</th>\n",
       "      <th>S6</th>\n",
       "      <th>female</th>\n",
       "    </tr>\n",
       "  </thead>\n",
       "  <tbody>\n",
       "    <tr>\n",
       "      <td>0</td>\n",
       "      <td>59</td>\n",
       "      <td>32.1</td>\n",
       "      <td>101.0</td>\n",
       "      <td>157</td>\n",
       "      <td>93.2</td>\n",
       "      <td>38.0</td>\n",
       "      <td>4.0</td>\n",
       "      <td>4.8598</td>\n",
       "      <td>87</td>\n",
       "      <td>1</td>\n",
       "    </tr>\n",
       "    <tr>\n",
       "      <td>1</td>\n",
       "      <td>48</td>\n",
       "      <td>21.6</td>\n",
       "      <td>87.0</td>\n",
       "      <td>183</td>\n",
       "      <td>103.2</td>\n",
       "      <td>70.0</td>\n",
       "      <td>3.0</td>\n",
       "      <td>3.8918</td>\n",
       "      <td>69</td>\n",
       "      <td>0</td>\n",
       "    </tr>\n",
       "    <tr>\n",
       "      <td>2</td>\n",
       "      <td>72</td>\n",
       "      <td>30.5</td>\n",
       "      <td>93.0</td>\n",
       "      <td>156</td>\n",
       "      <td>93.6</td>\n",
       "      <td>41.0</td>\n",
       "      <td>4.0</td>\n",
       "      <td>4.6728</td>\n",
       "      <td>85</td>\n",
       "      <td>1</td>\n",
       "    </tr>\n",
       "    <tr>\n",
       "      <td>3</td>\n",
       "      <td>24</td>\n",
       "      <td>25.3</td>\n",
       "      <td>84.0</td>\n",
       "      <td>198</td>\n",
       "      <td>131.4</td>\n",
       "      <td>40.0</td>\n",
       "      <td>5.0</td>\n",
       "      <td>4.8903</td>\n",
       "      <td>89</td>\n",
       "      <td>0</td>\n",
       "    </tr>\n",
       "    <tr>\n",
       "      <td>4</td>\n",
       "      <td>50</td>\n",
       "      <td>23.0</td>\n",
       "      <td>101.0</td>\n",
       "      <td>192</td>\n",
       "      <td>125.4</td>\n",
       "      <td>52.0</td>\n",
       "      <td>4.0</td>\n",
       "      <td>4.2905</td>\n",
       "      <td>80</td>\n",
       "      <td>0</td>\n",
       "    </tr>\n",
       "  </tbody>\n",
       "</table>\n",
       "</div>"
      ],
      "text/plain": [
       "   AGE   BMI     BP   S1     S2    S3   S4      S5  S6  female\n",
       "0   59  32.1  101.0  157   93.2  38.0  4.0  4.8598  87       1\n",
       "1   48  21.6   87.0  183  103.2  70.0  3.0  3.8918  69       0\n",
       "2   72  30.5   93.0  156   93.6  41.0  4.0  4.6728  85       1\n",
       "3   24  25.3   84.0  198  131.4  40.0  5.0  4.8903  89       0\n",
       "4   50  23.0  101.0  192  125.4  52.0  4.0  4.2905  80       0"
      ]
     },
     "execution_count": 68,
     "metadata": {},
     "output_type": "execute_result"
    }
   ],
   "source": [
    "from sklearn.model_selection import train_test_split\n",
    "from sklearn import metrics\n",
    "from sklearn.linear_model import LinearRegression\n",
    "\n",
    "# Obtain the target and features from the DataFrame\n",
    "target = df['Y']\n",
    "features = df.drop(columns='Y')\n",
    "\n",
    "# Create dummy variable for sex\n",
    "features['female'] = pd.get_dummies(features['SEX'], drop_first=True)\n",
    "features.drop(columns=['SEX'], inplace=True)\n",
    "features.head()"
   ]
  },
  {
   "cell_type": "code",
   "execution_count": 69,
   "metadata": {
    "ExecuteTime": {
     "end_time": "2020-03-20T00:12:18.668345Z",
     "start_time": "2020-03-20T00:12:18.643152Z"
    }
   },
   "outputs": [
    {
     "data": {
      "text/html": [
       "<div>\n",
       "<style scoped>\n",
       "    .dataframe tbody tr th:only-of-type {\n",
       "        vertical-align: middle;\n",
       "    }\n",
       "\n",
       "    .dataframe tbody tr th {\n",
       "        vertical-align: top;\n",
       "    }\n",
       "\n",
       "    .dataframe thead th {\n",
       "        text-align: right;\n",
       "    }\n",
       "</style>\n",
       "<table border=\"1\" class=\"dataframe\">\n",
       "  <thead>\n",
       "    <tr style=\"text-align: right;\">\n",
       "      <th></th>\n",
       "      <th>AGE</th>\n",
       "      <th>BMI</th>\n",
       "      <th>BP</th>\n",
       "      <th>S1</th>\n",
       "      <th>S2</th>\n",
       "      <th>S3</th>\n",
       "      <th>S4</th>\n",
       "      <th>S5</th>\n",
       "      <th>S6</th>\n",
       "      <th>female</th>\n",
       "    </tr>\n",
       "  </thead>\n",
       "  <tbody>\n",
       "    <tr>\n",
       "      <td>171</td>\n",
       "      <td>43</td>\n",
       "      <td>22.1</td>\n",
       "      <td>66.0</td>\n",
       "      <td>134</td>\n",
       "      <td>77.2</td>\n",
       "      <td>45.0</td>\n",
       "      <td>3.0</td>\n",
       "      <td>4.0775</td>\n",
       "      <td>80</td>\n",
       "      <td>0</td>\n",
       "    </tr>\n",
       "    <tr>\n",
       "      <td>388</td>\n",
       "      <td>63</td>\n",
       "      <td>24.1</td>\n",
       "      <td>111.0</td>\n",
       "      <td>184</td>\n",
       "      <td>112.2</td>\n",
       "      <td>44.0</td>\n",
       "      <td>4.0</td>\n",
       "      <td>4.9345</td>\n",
       "      <td>82</td>\n",
       "      <td>1</td>\n",
       "    </tr>\n",
       "    <tr>\n",
       "      <td>268</td>\n",
       "      <td>66</td>\n",
       "      <td>34.6</td>\n",
       "      <td>115.0</td>\n",
       "      <td>204</td>\n",
       "      <td>139.4</td>\n",
       "      <td>36.0</td>\n",
       "      <td>6.0</td>\n",
       "      <td>4.9628</td>\n",
       "      <td>109</td>\n",
       "      <td>1</td>\n",
       "    </tr>\n",
       "    <tr>\n",
       "      <td>31</td>\n",
       "      <td>42</td>\n",
       "      <td>20.3</td>\n",
       "      <td>71.0</td>\n",
       "      <td>161</td>\n",
       "      <td>81.2</td>\n",
       "      <td>66.0</td>\n",
       "      <td>2.0</td>\n",
       "      <td>4.2341</td>\n",
       "      <td>81</td>\n",
       "      <td>0</td>\n",
       "    </tr>\n",
       "    <tr>\n",
       "      <td>427</td>\n",
       "      <td>39</td>\n",
       "      <td>26.9</td>\n",
       "      <td>93.0</td>\n",
       "      <td>136</td>\n",
       "      <td>75.4</td>\n",
       "      <td>48.0</td>\n",
       "      <td>3.0</td>\n",
       "      <td>4.1431</td>\n",
       "      <td>99</td>\n",
       "      <td>1</td>\n",
       "    </tr>\n",
       "    <tr>\n",
       "      <td>...</td>\n",
       "      <td>...</td>\n",
       "      <td>...</td>\n",
       "      <td>...</td>\n",
       "      <td>...</td>\n",
       "      <td>...</td>\n",
       "      <td>...</td>\n",
       "      <td>...</td>\n",
       "      <td>...</td>\n",
       "      <td>...</td>\n",
       "      <td>...</td>\n",
       "    </tr>\n",
       "    <tr>\n",
       "      <td>218</td>\n",
       "      <td>37</td>\n",
       "      <td>20.3</td>\n",
       "      <td>83.0</td>\n",
       "      <td>185</td>\n",
       "      <td>124.6</td>\n",
       "      <td>38.0</td>\n",
       "      <td>5.0</td>\n",
       "      <td>4.7185</td>\n",
       "      <td>88</td>\n",
       "      <td>0</td>\n",
       "    </tr>\n",
       "    <tr>\n",
       "      <td>412</td>\n",
       "      <td>69</td>\n",
       "      <td>34.3</td>\n",
       "      <td>113.0</td>\n",
       "      <td>200</td>\n",
       "      <td>123.8</td>\n",
       "      <td>54.0</td>\n",
       "      <td>4.0</td>\n",
       "      <td>4.7095</td>\n",
       "      <td>112</td>\n",
       "      <td>0</td>\n",
       "    </tr>\n",
       "    <tr>\n",
       "      <td>223</td>\n",
       "      <td>21</td>\n",
       "      <td>24.2</td>\n",
       "      <td>76.0</td>\n",
       "      <td>147</td>\n",
       "      <td>77.0</td>\n",
       "      <td>53.0</td>\n",
       "      <td>3.0</td>\n",
       "      <td>4.4427</td>\n",
       "      <td>79</td>\n",
       "      <td>0</td>\n",
       "    </tr>\n",
       "    <tr>\n",
       "      <td>271</td>\n",
       "      <td>59</td>\n",
       "      <td>27.2</td>\n",
       "      <td>107.0</td>\n",
       "      <td>158</td>\n",
       "      <td>102.0</td>\n",
       "      <td>39.0</td>\n",
       "      <td>4.0</td>\n",
       "      <td>4.4427</td>\n",
       "      <td>93</td>\n",
       "      <td>1</td>\n",
       "    </tr>\n",
       "    <tr>\n",
       "      <td>355</td>\n",
       "      <td>28</td>\n",
       "      <td>25.5</td>\n",
       "      <td>99.0</td>\n",
       "      <td>162</td>\n",
       "      <td>101.6</td>\n",
       "      <td>46.0</td>\n",
       "      <td>4.0</td>\n",
       "      <td>4.2767</td>\n",
       "      <td>94</td>\n",
       "      <td>1</td>\n",
       "    </tr>\n",
       "  </tbody>\n",
       "</table>\n",
       "<p>353 rows × 10 columns</p>\n",
       "</div>"
      ],
      "text/plain": [
       "     AGE   BMI     BP   S1     S2    S3   S4      S5   S6  female\n",
       "171   43  22.1   66.0  134   77.2  45.0  3.0  4.0775   80       0\n",
       "388   63  24.1  111.0  184  112.2  44.0  4.0  4.9345   82       1\n",
       "268   66  34.6  115.0  204  139.4  36.0  6.0  4.9628  109       1\n",
       "31    42  20.3   71.0  161   81.2  66.0  2.0  4.2341   81       0\n",
       "427   39  26.9   93.0  136   75.4  48.0  3.0  4.1431   99       1\n",
       "..   ...   ...    ...  ...    ...   ...  ...     ...  ...     ...\n",
       "218   37  20.3   83.0  185  124.6  38.0  5.0  4.7185   88       0\n",
       "412   69  34.3  113.0  200  123.8  54.0  4.0  4.7095  112       0\n",
       "223   21  24.2   76.0  147   77.0  53.0  3.0  4.4427   79       0\n",
       "271   59  27.2  107.0  158  102.0  39.0  4.0  4.4427   93       1\n",
       "355   28  25.5   99.0  162  101.6  46.0  4.0  4.2767   94       1\n",
       "\n",
       "[353 rows x 10 columns]"
      ]
     },
     "execution_count": 69,
     "metadata": {},
     "output_type": "execute_result"
    }
   ],
   "source": [
    "from sklearn.preprocessing import StandardScaler\n",
    "\n",
    "# Split the data\n",
    "X_train, X_test, y_train, y_test = train_test_split(features, target, random_state=20, test_size=0.2)\n",
    "X_train"
   ]
  },
  {
   "cell_type": "code",
   "execution_count": 70,
   "metadata": {
    "ExecuteTime": {
     "end_time": "2020-03-20T00:12:23.487072Z",
     "start_time": "2020-03-20T00:12:23.480696Z"
    }
   },
   "outputs": [
    {
     "data": {
      "text/plain": [
       "Index(['AGE', 'BMI', 'BP', 'S1', 'S2', 'S3', 'S4', 'S5', 'S6'], dtype='object')"
      ]
     },
     "execution_count": 70,
     "metadata": {},
     "output_type": "execute_result"
    }
   ],
   "source": [
    "# Initialize the scaler\n",
    "scaler = StandardScaler()\n",
    "# Scale every feature except the binary column - female\n",
    "scale_cols = X_train.drop('female',axis=1).columns\n",
    "scale_cols"
   ]
  },
  {
   "cell_type": "code",
   "execution_count": 71,
   "metadata": {
    "ExecuteTime": {
     "end_time": "2020-03-20T00:13:41.769493Z",
     "start_time": "2020-03-20T00:13:41.753588Z"
    }
   },
   "outputs": [],
   "source": [
    "X_train[scale_cols] = scaler.fit_transform(X_train[scale_cols])\n",
    "X_test[scale_cols] = scaler.transform(X_test[scale_cols])"
   ]
  },
  {
   "cell_type": "code",
   "execution_count": 73,
   "metadata": {
    "ExecuteTime": {
     "end_time": "2020-03-20T00:14:01.758052Z",
     "start_time": "2020-03-20T00:14:01.744585Z"
    }
   },
   "outputs": [],
   "source": [
    "## Make an empty RESULTS list\n",
    "RESULTS = []\n",
    "## Run our baseline regression and append to RESULTS\n",
    "RESULTS.append(run_model(LinearRegression(),\n",
    "                         X_train,X_test,y_train,y_test,'Baseline'))"
   ]
  },
  {
   "cell_type": "code",
   "execution_count": 74,
   "metadata": {
    "ExecuteTime": {
     "end_time": "2020-03-20T00:14:03.133676Z",
     "start_time": "2020-03-20T00:14:03.120747Z"
    }
   },
   "outputs": [
    {
     "data": {
      "text/html": [
       "<style  type=\"text/css\" >\n",
       "    #T_b47574e4_6a3f_11ea_9c79_4865ee12e626row0_col1 {\n",
       "            background-color:  #fff7fb;\n",
       "            color:  #000000;\n",
       "        }</style><table id=\"T_b47574e4_6a3f_11ea_9c79_4865ee12e626\" ><thead>    <tr>        <th class=\"blank level0\" ></th>        <th class=\"col_heading level0 col0\" >Data</th>        <th class=\"col_heading level0 col1\" >R2</th>        <th class=\"col_heading level0 col2\" >RMSE</th>    </tr>    <tr>        <th class=\"index_name level0\" >Note</th>        <th class=\"blank\" ></th>        <th class=\"blank\" ></th>        <th class=\"blank\" ></th>    </tr></thead><tbody>\n",
       "                <tr>\n",
       "                        <th id=\"T_b47574e4_6a3f_11ea_9c79_4865ee12e626level0_row0\" class=\"row_heading level0 row0\" >Baseline</th>\n",
       "                        <td id=\"T_b47574e4_6a3f_11ea_9c79_4865ee12e626row0_col0\" class=\"data row0 col0\" >Test</td>\n",
       "                        <td id=\"T_b47574e4_6a3f_11ea_9c79_4865ee12e626row0_col1\" class=\"data row0 col1\" >0.418</td>\n",
       "                        <td id=\"T_b47574e4_6a3f_11ea_9c79_4865ee12e626row0_col2\" class=\"data row0 col2\" >58.8359</td>\n",
       "            </tr>\n",
       "    </tbody></table>"
      ],
      "text/plain": [
       "<pandas.io.formats.style.Styler at 0x1523b68fd0>"
      ]
     },
     "metadata": {},
     "output_type": "display_data"
    }
   ],
   "source": [
    "def show_results(RESULTS,style_kws={'subset':['R2']}):\n",
    "    res = pd.concat(RESULTS).set_index('Note').groupby(\"Data\").get_group('Test')   \n",
    "    try:\n",
    "        display(res.style.background_gradient(**style_kws))\n",
    "    except:\n",
    "        display(res)\n",
    "show_results(RESULTS)"
   ]
  },
  {
   "cell_type": "code",
   "execution_count": 75,
   "metadata": {
    "ExecuteTime": {
     "end_time": "2020-03-20T00:14:08.487669Z",
     "start_time": "2020-03-20T00:14:08.456558Z"
    }
   },
   "outputs": [
    {
     "data": {
      "text/html": [
       "<div>\n",
       "<style scoped>\n",
       "    .dataframe tbody tr th:only-of-type {\n",
       "        vertical-align: middle;\n",
       "    }\n",
       "\n",
       "    .dataframe tbody tr th {\n",
       "        vertical-align: top;\n",
       "    }\n",
       "\n",
       "    .dataframe thead th {\n",
       "        text-align: right;\n",
       "    }\n",
       "</style>\n",
       "<table border=\"1\" class=\"dataframe\">\n",
       "  <thead>\n",
       "    <tr style=\"text-align: right;\">\n",
       "      <th></th>\n",
       "      <th>AGE</th>\n",
       "      <th>BMI</th>\n",
       "      <th>BP</th>\n",
       "      <th>S1</th>\n",
       "      <th>S2</th>\n",
       "      <th>S3</th>\n",
       "      <th>S4</th>\n",
       "      <th>S5</th>\n",
       "      <th>S6</th>\n",
       "      <th>female</th>\n",
       "      <th>...</th>\n",
       "      <th>S4^2</th>\n",
       "      <th>S4 S5</th>\n",
       "      <th>S4 S6</th>\n",
       "      <th>S4 female</th>\n",
       "      <th>S5^2</th>\n",
       "      <th>S5 S6</th>\n",
       "      <th>S5 female</th>\n",
       "      <th>S6^2</th>\n",
       "      <th>S6 female</th>\n",
       "      <th>female^2</th>\n",
       "    </tr>\n",
       "  </thead>\n",
       "  <tbody>\n",
       "    <tr>\n",
       "      <td>0</td>\n",
       "      <td>-0.433522</td>\n",
       "      <td>-0.967597</td>\n",
       "      <td>-2.067847</td>\n",
       "      <td>-1.623215</td>\n",
       "      <td>-1.280312</td>\n",
       "      <td>-0.347527</td>\n",
       "      <td>-0.852832</td>\n",
       "      <td>-1.095555</td>\n",
       "      <td>-1.006077</td>\n",
       "      <td>0.0</td>\n",
       "      <td>...</td>\n",
       "      <td>0.727322</td>\n",
       "      <td>0.934324</td>\n",
       "      <td>0.858015</td>\n",
       "      <td>-0.000000</td>\n",
       "      <td>1.200240</td>\n",
       "      <td>1.102213</td>\n",
       "      <td>-0.000000</td>\n",
       "      <td>1.012192</td>\n",
       "      <td>-0.000000</td>\n",
       "      <td>0.0</td>\n",
       "    </tr>\n",
       "    <tr>\n",
       "      <td>1</td>\n",
       "      <td>1.117754</td>\n",
       "      <td>-0.516691</td>\n",
       "      <td>1.142458</td>\n",
       "      <td>-0.168101</td>\n",
       "      <td>-0.129601</td>\n",
       "      <td>-0.424950</td>\n",
       "      <td>-0.083651</td>\n",
       "      <td>0.543382</td>\n",
       "      <td>-0.831901</td>\n",
       "      <td>1.0</td>\n",
       "      <td>...</td>\n",
       "      <td>0.006998</td>\n",
       "      <td>-0.045455</td>\n",
       "      <td>0.069589</td>\n",
       "      <td>-0.083651</td>\n",
       "      <td>0.295264</td>\n",
       "      <td>-0.452040</td>\n",
       "      <td>0.543382</td>\n",
       "      <td>0.692060</td>\n",
       "      <td>-0.831901</td>\n",
       "      <td>1.0</td>\n",
       "    </tr>\n",
       "    <tr>\n",
       "      <td>2</td>\n",
       "      <td>1.350445</td>\n",
       "      <td>1.850570</td>\n",
       "      <td>1.427819</td>\n",
       "      <td>0.413945</td>\n",
       "      <td>0.764667</td>\n",
       "      <td>-1.044334</td>\n",
       "      <td>1.454710</td>\n",
       "      <td>0.597504</td>\n",
       "      <td>1.519478</td>\n",
       "      <td>1.0</td>\n",
       "      <td>...</td>\n",
       "      <td>2.116182</td>\n",
       "      <td>0.869195</td>\n",
       "      <td>2.210400</td>\n",
       "      <td>1.454710</td>\n",
       "      <td>0.357011</td>\n",
       "      <td>0.907894</td>\n",
       "      <td>0.597504</td>\n",
       "      <td>2.308813</td>\n",
       "      <td>1.519478</td>\n",
       "      <td>1.0</td>\n",
       "    </tr>\n",
       "    <tr>\n",
       "      <td>3</td>\n",
       "      <td>-0.511086</td>\n",
       "      <td>-1.373413</td>\n",
       "      <td>-1.711146</td>\n",
       "      <td>-0.837453</td>\n",
       "      <td>-1.148802</td>\n",
       "      <td>1.278358</td>\n",
       "      <td>-1.622013</td>\n",
       "      <td>-0.796071</td>\n",
       "      <td>-0.918989</td>\n",
       "      <td>0.0</td>\n",
       "      <td>...</td>\n",
       "      <td>2.630925</td>\n",
       "      <td>1.291237</td>\n",
       "      <td>1.490612</td>\n",
       "      <td>-0.000000</td>\n",
       "      <td>0.633729</td>\n",
       "      <td>0.731581</td>\n",
       "      <td>-0.000000</td>\n",
       "      <td>0.844541</td>\n",
       "      <td>-0.000000</td>\n",
       "      <td>0.0</td>\n",
       "    </tr>\n",
       "    <tr>\n",
       "      <td>4</td>\n",
       "      <td>-0.743778</td>\n",
       "      <td>0.114579</td>\n",
       "      <td>-0.141664</td>\n",
       "      <td>-1.565010</td>\n",
       "      <td>-1.339491</td>\n",
       "      <td>-0.115257</td>\n",
       "      <td>-0.852832</td>\n",
       "      <td>-0.970101</td>\n",
       "      <td>0.648597</td>\n",
       "      <td>1.0</td>\n",
       "      <td>...</td>\n",
       "      <td>0.727322</td>\n",
       "      <td>0.827333</td>\n",
       "      <td>-0.553144</td>\n",
       "      <td>-0.852832</td>\n",
       "      <td>0.941095</td>\n",
       "      <td>-0.629204</td>\n",
       "      <td>-0.970101</td>\n",
       "      <td>0.420678</td>\n",
       "      <td>0.648597</td>\n",
       "      <td>1.0</td>\n",
       "    </tr>\n",
       "  </tbody>\n",
       "</table>\n",
       "<p>5 rows × 65 columns</p>\n",
       "</div>"
      ],
      "text/plain": [
       "        AGE       BMI        BP        S1        S2        S3        S4  \\\n",
       "0 -0.433522 -0.967597 -2.067847 -1.623215 -1.280312 -0.347527 -0.852832   \n",
       "1  1.117754 -0.516691  1.142458 -0.168101 -0.129601 -0.424950 -0.083651   \n",
       "2  1.350445  1.850570  1.427819  0.413945  0.764667 -1.044334  1.454710   \n",
       "3 -0.511086 -1.373413 -1.711146 -0.837453 -1.148802  1.278358 -1.622013   \n",
       "4 -0.743778  0.114579 -0.141664 -1.565010 -1.339491 -0.115257 -0.852832   \n",
       "\n",
       "         S5        S6  female  ...      S4^2     S4 S5     S4 S6  S4 female  \\\n",
       "0 -1.095555 -1.006077     0.0  ...  0.727322  0.934324  0.858015  -0.000000   \n",
       "1  0.543382 -0.831901     1.0  ...  0.006998 -0.045455  0.069589  -0.083651   \n",
       "2  0.597504  1.519478     1.0  ...  2.116182  0.869195  2.210400   1.454710   \n",
       "3 -0.796071 -0.918989     0.0  ...  2.630925  1.291237  1.490612  -0.000000   \n",
       "4 -0.970101  0.648597     1.0  ...  0.727322  0.827333 -0.553144  -0.852832   \n",
       "\n",
       "       S5^2     S5 S6  S5 female      S6^2  S6 female  female^2  \n",
       "0  1.200240  1.102213  -0.000000  1.012192  -0.000000       0.0  \n",
       "1  0.295264 -0.452040   0.543382  0.692060  -0.831901       1.0  \n",
       "2  0.357011  0.907894   0.597504  2.308813   1.519478       1.0  \n",
       "3  0.633729  0.731581  -0.000000  0.844541  -0.000000       0.0  \n",
       "4  0.941095 -0.629204  -0.970101  0.420678   0.648597       1.0  \n",
       "\n",
       "[5 rows x 65 columns]"
      ]
     },
     "execution_count": 75,
     "metadata": {},
     "output_type": "execute_result"
    }
   ],
   "source": [
    "from sklearn.preprocessing import PolynomialFeatures\n",
    "poly = PolynomialFeatures(degree=2, interaction_only=False, include_bias=False)\n",
    "\n",
    "X_poly_train = pd.DataFrame(poly.fit_transform(X_train),\n",
    "                            columns=poly.get_feature_names(features.columns))\n",
    "\n",
    "X_poly_test = pd.DataFrame(poly.transform(X_test),\n",
    "                           columns=poly.get_feature_names(features.columns))\n",
    "\n",
    "X_poly_train.head()"
   ]
  },
  {
   "cell_type": "code",
   "execution_count": 76,
   "metadata": {
    "ExecuteTime": {
     "end_time": "2020-03-20T00:14:14.792236Z",
     "start_time": "2020-03-20T00:14:14.756925Z"
    }
   },
   "outputs": [
    {
     "data": {
      "text/html": [
       "<style  type=\"text/css\" >\n",
       "    #T_bb6840a6_6a3f_11ea_b9c3_4865ee12e626row0_col1 {\n",
       "            background-color:  #023858;\n",
       "            color:  #f1f1f1;\n",
       "        }    #T_bb6840a6_6a3f_11ea_b9c3_4865ee12e626row1_col1 {\n",
       "            background-color:  #fff7fb;\n",
       "            color:  #000000;\n",
       "        }</style><table id=\"T_bb6840a6_6a3f_11ea_b9c3_4865ee12e626\" ><thead>    <tr>        <th class=\"blank level0\" ></th>        <th class=\"col_heading level0 col0\" >Data</th>        <th class=\"col_heading level0 col1\" >R2</th>        <th class=\"col_heading level0 col2\" >RMSE</th>    </tr>    <tr>        <th class=\"index_name level0\" >Note</th>        <th class=\"blank\" ></th>        <th class=\"blank\" ></th>        <th class=\"blank\" ></th>    </tr></thead><tbody>\n",
       "                <tr>\n",
       "                        <th id=\"T_bb6840a6_6a3f_11ea_b9c3_4865ee12e626level0_row0\" class=\"row_heading level0 row0\" >Baseline</th>\n",
       "                        <td id=\"T_bb6840a6_6a3f_11ea_b9c3_4865ee12e626row0_col0\" class=\"data row0 col0\" >Test</td>\n",
       "                        <td id=\"T_bb6840a6_6a3f_11ea_b9c3_4865ee12e626row0_col1\" class=\"data row0 col1\" >0.418</td>\n",
       "                        <td id=\"T_bb6840a6_6a3f_11ea_b9c3_4865ee12e626row0_col2\" class=\"data row0 col2\" >58.8359</td>\n",
       "            </tr>\n",
       "            <tr>\n",
       "                        <th id=\"T_bb6840a6_6a3f_11ea_b9c3_4865ee12e626level0_row1\" class=\"row_heading level0 row1\" >Poly</th>\n",
       "                        <td id=\"T_bb6840a6_6a3f_11ea_b9c3_4865ee12e626row1_col0\" class=\"data row1 col0\" >Test</td>\n",
       "                        <td id=\"T_bb6840a6_6a3f_11ea_b9c3_4865ee12e626row1_col1\" class=\"data row1 col1\" >0.3689</td>\n",
       "                        <td id=\"T_bb6840a6_6a3f_11ea_b9c3_4865ee12e626row1_col2\" class=\"data row1 col2\" >61.2678</td>\n",
       "            </tr>\n",
       "    </tbody></table>"
      ],
      "text/plain": [
       "<pandas.io.formats.style.Styler at 0x1c3aaea080>"
      ]
     },
     "metadata": {},
     "output_type": "display_data"
    }
   ],
   "source": [
    "## Make a linear regression with our X_poly data and append to RESULTS\n",
    "RESULTS.append(run_model(LinearRegression(),\n",
    "                         X_poly_train,X_poly_test,y_train,y_test,'Poly'))\n",
    "\n",
    "## Show resuls\n",
    "show_results(RESULTS)"
   ]
  },
  {
   "cell_type": "markdown",
   "metadata": {},
   "source": [
    "### Filter Methods"
   ]
  },
  {
   "cell_type": "markdown",
   "metadata": {},
   "source": [
    ">\"The benefit of filter methods is that they can provide us with some useful visualizations for helping us gain an understanding about the characteristics of our data. To begin with, let's use a simple variance threshold to eliminate the features with low variance.\""
   ]
  },
  {
   "cell_type": "code",
   "execution_count": 77,
   "metadata": {
    "ExecuteTime": {
     "end_time": "2020-03-20T00:14:52.241210Z",
     "start_time": "2020-03-20T00:14:52.111464Z"
    }
   },
   "outputs": [
    {
     "data": {
      "text/html": [
       "<style  type=\"text/css\" >\n",
       "    #T_d1ba6924_6a3f_11ea_8943_4865ee12e626row0_col1 {\n",
       "            background-color:  #023858;\n",
       "            color:  #f1f1f1;\n",
       "        }    #T_d1ba6924_6a3f_11ea_8943_4865ee12e626row1_col1 {\n",
       "            background-color:  #045a8d;\n",
       "            color:  #f1f1f1;\n",
       "        }    #T_d1ba6924_6a3f_11ea_8943_4865ee12e626row2_col1 {\n",
       "            background-color:  #045a8d;\n",
       "            color:  #f1f1f1;\n",
       "        }    #T_d1ba6924_6a3f_11ea_8943_4865ee12e626row3_col1 {\n",
       "            background-color:  #046096;\n",
       "            color:  #f1f1f1;\n",
       "        }    #T_d1ba6924_6a3f_11ea_8943_4865ee12e626row4_col1 {\n",
       "            background-color:  #045d92;\n",
       "            color:  #f1f1f1;\n",
       "        }    #T_d1ba6924_6a3f_11ea_8943_4865ee12e626row5_col1 {\n",
       "            background-color:  #fff7fb;\n",
       "            color:  #000000;\n",
       "        }    #T_d1ba6924_6a3f_11ea_8943_4865ee12e626row6_col1 {\n",
       "            background-color:  #e7e3f0;\n",
       "            color:  #000000;\n",
       "        }    #T_d1ba6924_6a3f_11ea_8943_4865ee12e626row7_col1 {\n",
       "            background-color:  #fdf5fa;\n",
       "            color:  #000000;\n",
       "        }</style><table id=\"T_d1ba6924_6a3f_11ea_8943_4865ee12e626\" ><thead>    <tr>        <th class=\"blank level0\" ></th>        <th class=\"col_heading level0 col0\" >Data</th>        <th class=\"col_heading level0 col1\" >R2</th>        <th class=\"col_heading level0 col2\" >RMSE</th>    </tr>    <tr>        <th class=\"index_name level0\" >Note</th>        <th class=\"blank\" ></th>        <th class=\"blank\" ></th>        <th class=\"blank\" ></th>    </tr></thead><tbody>\n",
       "                <tr>\n",
       "                        <th id=\"T_d1ba6924_6a3f_11ea_8943_4865ee12e626level0_row0\" class=\"row_heading level0 row0\" >Baseline</th>\n",
       "                        <td id=\"T_d1ba6924_6a3f_11ea_8943_4865ee12e626row0_col0\" class=\"data row0 col0\" >Test</td>\n",
       "                        <td id=\"T_d1ba6924_6a3f_11ea_8943_4865ee12e626row0_col1\" class=\"data row0 col1\" >0.418</td>\n",
       "                        <td id=\"T_d1ba6924_6a3f_11ea_8943_4865ee12e626row0_col2\" class=\"data row0 col2\" >58.8359</td>\n",
       "            </tr>\n",
       "            <tr>\n",
       "                        <th id=\"T_d1ba6924_6a3f_11ea_8943_4865ee12e626level0_row1\" class=\"row_heading level0 row1\" >Poly</th>\n",
       "                        <td id=\"T_d1ba6924_6a3f_11ea_8943_4865ee12e626row1_col0\" class=\"data row1 col0\" >Test</td>\n",
       "                        <td id=\"T_d1ba6924_6a3f_11ea_8943_4865ee12e626row1_col1\" class=\"data row1 col1\" >0.3689</td>\n",
       "                        <td id=\"T_d1ba6924_6a3f_11ea_8943_4865ee12e626row1_col2\" class=\"data row1 col2\" >61.2678</td>\n",
       "            </tr>\n",
       "            <tr>\n",
       "                        <th id=\"T_d1ba6924_6a3f_11ea_8943_4865ee12e626level0_row2\" class=\"row_heading level0 row2\" >VarThresh=0.0</th>\n",
       "                        <td id=\"T_d1ba6924_6a3f_11ea_8943_4865ee12e626row2_col0\" class=\"data row2 col0\" >Test</td>\n",
       "                        <td id=\"T_d1ba6924_6a3f_11ea_8943_4865ee12e626row2_col1\" class=\"data row2 col1\" >0.3689</td>\n",
       "                        <td id=\"T_d1ba6924_6a3f_11ea_8943_4865ee12e626row2_col2\" class=\"data row2 col2\" >61.2678</td>\n",
       "            </tr>\n",
       "            <tr>\n",
       "                        <th id=\"T_d1ba6924_6a3f_11ea_8943_4865ee12e626level0_row3\" class=\"row_heading level0 row3\" >VarThresh=0.4</th>\n",
       "                        <td id=\"T_d1ba6924_6a3f_11ea_8943_4865ee12e626row3_col0\" class=\"data row3 col0\" >Test</td>\n",
       "                        <td id=\"T_d1ba6924_6a3f_11ea_8943_4865ee12e626row3_col1\" class=\"data row3 col1\" >0.3581</td>\n",
       "                        <td id=\"T_d1ba6924_6a3f_11ea_8943_4865ee12e626row3_col2\" class=\"data row3 col2\" >61.7892</td>\n",
       "            </tr>\n",
       "            <tr>\n",
       "                        <th id=\"T_d1ba6924_6a3f_11ea_8943_4865ee12e626level0_row4\" class=\"row_heading level0 row4\" >VarThresh=0.8</th>\n",
       "                        <td id=\"T_d1ba6924_6a3f_11ea_8943_4865ee12e626row4_col0\" class=\"data row4 col0\" >Test</td>\n",
       "                        <td id=\"T_d1ba6924_6a3f_11ea_8943_4865ee12e626row4_col1\" class=\"data row4 col1\" >0.364</td>\n",
       "                        <td id=\"T_d1ba6924_6a3f_11ea_8943_4865ee12e626row4_col2\" class=\"data row4 col2\" >61.5029</td>\n",
       "            </tr>\n",
       "            <tr>\n",
       "                        <th id=\"T_d1ba6924_6a3f_11ea_8943_4865ee12e626level0_row5\" class=\"row_heading level0 row5\" >VarThresh=1.2</th>\n",
       "                        <td id=\"T_d1ba6924_6a3f_11ea_8943_4865ee12e626row5_col0\" class=\"data row5 col0\" >Test</td>\n",
       "                        <td id=\"T_d1ba6924_6a3f_11ea_8943_4865ee12e626row5_col1\" class=\"data row5 col1\" >0.0363</td>\n",
       "                        <td id=\"T_d1ba6924_6a3f_11ea_8943_4865ee12e626row5_col2\" class=\"data row5 col2\" >75.7101</td>\n",
       "            </tr>\n",
       "            <tr>\n",
       "                        <th id=\"T_d1ba6924_6a3f_11ea_8943_4865ee12e626level0_row6\" class=\"row_heading level0 row6\" >VarThresh=1.6</th>\n",
       "                        <td id=\"T_d1ba6924_6a3f_11ea_8943_4865ee12e626row6_col0\" class=\"data row6 col0\" >Test</td>\n",
       "                        <td id=\"T_d1ba6924_6a3f_11ea_8943_4865ee12e626row6_col1\" class=\"data row6 col1\" >0.0927</td>\n",
       "                        <td id=\"T_d1ba6924_6a3f_11ea_8943_4865ee12e626row6_col2\" class=\"data row6 col2\" >73.4593</td>\n",
       "            </tr>\n",
       "            <tr>\n",
       "                        <th id=\"T_d1ba6924_6a3f_11ea_8943_4865ee12e626level0_row7\" class=\"row_heading level0 row7\" >VarThresh=2.0</th>\n",
       "                        <td id=\"T_d1ba6924_6a3f_11ea_8943_4865ee12e626row7_col0\" class=\"data row7 col0\" >Test</td>\n",
       "                        <td id=\"T_d1ba6924_6a3f_11ea_8943_4865ee12e626row7_col1\" class=\"data row7 col1\" >0.042</td>\n",
       "                        <td id=\"T_d1ba6924_6a3f_11ea_8943_4865ee12e626row7_col2\" class=\"data row7 col2\" >75.4839</td>\n",
       "            </tr>\n",
       "    </tbody></table>"
      ],
      "text/plain": [
       "<pandas.io.formats.style.Styler at 0x1c3b41e080>"
      ]
     },
     "metadata": {},
     "output_type": "display_data"
    }
   ],
   "source": [
    "## Filter Methods\n",
    "from sklearn.feature_selection import VarianceThreshold\n",
    "\n",
    "threshold_ranges = np.linspace(0, 2, num=6)\n",
    "\n",
    "results = []\n",
    "for thresh in threshold_ranges:\n",
    "#     print(thresh)\n",
    "    selector = VarianceThreshold(thresh)\n",
    "    reduced_feature_train = selector.fit_transform(X_poly_train)\n",
    "    reduced_feature_test = selector.transform(X_poly_test)\n",
    "    lr = LinearRegression()\n",
    "    lr.fit(reduced_feature_train, y_train)\n",
    "    res = run_model(lr, reduced_feature_train, reduced_feature_test,\n",
    "                    y_train, y_test,f\"VarThresh={round(thresh,3)}\")\n",
    "    \n",
    "    results.append(res)\n",
    "\n",
    "res_df = pd.concat(results)\n",
    "RESULTS.append(res_df)\n",
    "show_results(RESULTS)"
   ]
  },
  {
   "cell_type": "markdown",
   "metadata": {},
   "source": [
    "> Well, that did not seem to eliminate the features very well. It only does a little better than the base polynomial. "
   ]
  },
  {
   "cell_type": "code",
   "execution_count": 78,
   "metadata": {
    "ExecuteTime": {
     "end_time": "2020-03-20T00:15:16.377354Z",
     "start_time": "2020-03-20T00:15:16.360915Z"
    }
   },
   "outputs": [],
   "source": [
    "from sklearn.feature_selection import f_regression, mutual_info_regression, SelectKBest\n",
    "selector = SelectKBest(score_func=f_regression)\n",
    "X_k_best_train = selector.fit_transform(X_poly_train, y_train)\n",
    "X_k_best_test= selector.transform(X_poly_test)\n",
    "lr = LinearRegression()\n",
    "lr.fit(X_k_best_train ,y_train)\n",
    "RESULTS.append(run_model(lr,X_k_best_train,X_k_best_test,y_train,y_test,'KBest-f_regr'))"
   ]
  },
  {
   "cell_type": "code",
   "execution_count": 79,
   "metadata": {
    "ExecuteTime": {
     "end_time": "2020-03-20T00:15:19.311399Z",
     "start_time": "2020-03-20T00:15:18.993149Z"
    }
   },
   "outputs": [],
   "source": [
    "selector = SelectKBest(score_func=mutual_info_regression)\n",
    "X_k_best_train = selector.fit_transform(X_poly_train, y_train)\n",
    "X_k_best_test= selector.transform(X_poly_test)\n",
    "lr = LinearRegression()\n",
    "lr.fit(X_k_best_train ,y_train)\n",
    "RESULTS.append(run_model(lr,X_k_best_train,X_k_best_test,y_train,y_test,'KBest-mutual_info'))"
   ]
  },
  {
   "cell_type": "code",
   "execution_count": 80,
   "metadata": {
    "ExecuteTime": {
     "end_time": "2020-03-20T00:15:24.488091Z",
     "start_time": "2020-03-20T00:15:24.467025Z"
    }
   },
   "outputs": [
    {
     "data": {
      "text/html": [
       "<style  type=\"text/css\" >\n",
       "    #T_e4f2eb4c_6a3f_11ea_8de5_4865ee12e626row0_col1 {\n",
       "            background-color:  #023c5f;\n",
       "            color:  #f1f1f1;\n",
       "        }    #T_e4f2eb4c_6a3f_11ea_8de5_4865ee12e626row1_col1 {\n",
       "            background-color:  #045d92;\n",
       "            color:  #f1f1f1;\n",
       "        }    #T_e4f2eb4c_6a3f_11ea_8de5_4865ee12e626row2_col1 {\n",
       "            background-color:  #045d92;\n",
       "            color:  #f1f1f1;\n",
       "        }    #T_e4f2eb4c_6a3f_11ea_8de5_4865ee12e626row3_col1 {\n",
       "            background-color:  #04629a;\n",
       "            color:  #f1f1f1;\n",
       "        }    #T_e4f2eb4c_6a3f_11ea_8de5_4865ee12e626row4_col1 {\n",
       "            background-color:  #046096;\n",
       "            color:  #f1f1f1;\n",
       "        }    #T_e4f2eb4c_6a3f_11ea_8de5_4865ee12e626row5_col1 {\n",
       "            background-color:  #fff7fb;\n",
       "            color:  #000000;\n",
       "        }    #T_e4f2eb4c_6a3f_11ea_8de5_4865ee12e626row6_col1 {\n",
       "            background-color:  #e7e3f0;\n",
       "            color:  #000000;\n",
       "        }    #T_e4f2eb4c_6a3f_11ea_8de5_4865ee12e626row7_col1 {\n",
       "            background-color:  #fdf5fa;\n",
       "            color:  #000000;\n",
       "        }    #T_e4f2eb4c_6a3f_11ea_8de5_4865ee12e626row8_col1 {\n",
       "            background-color:  #023858;\n",
       "            color:  #f1f1f1;\n",
       "        }    #T_e4f2eb4c_6a3f_11ea_8de5_4865ee12e626row9_col1 {\n",
       "            background-color:  #034e7b;\n",
       "            color:  #f1f1f1;\n",
       "        }</style><table id=\"T_e4f2eb4c_6a3f_11ea_8de5_4865ee12e626\" ><thead>    <tr>        <th class=\"blank level0\" ></th>        <th class=\"col_heading level0 col0\" >Data</th>        <th class=\"col_heading level0 col1\" >R2</th>        <th class=\"col_heading level0 col2\" >RMSE</th>    </tr>    <tr>        <th class=\"index_name level0\" >Note</th>        <th class=\"blank\" ></th>        <th class=\"blank\" ></th>        <th class=\"blank\" ></th>    </tr></thead><tbody>\n",
       "                <tr>\n",
       "                        <th id=\"T_e4f2eb4c_6a3f_11ea_8de5_4865ee12e626level0_row0\" class=\"row_heading level0 row0\" >Baseline</th>\n",
       "                        <td id=\"T_e4f2eb4c_6a3f_11ea_8de5_4865ee12e626row0_col0\" class=\"data row0 col0\" >Test</td>\n",
       "                        <td id=\"T_e4f2eb4c_6a3f_11ea_8de5_4865ee12e626row0_col1\" class=\"data row0 col1\" >0.418</td>\n",
       "                        <td id=\"T_e4f2eb4c_6a3f_11ea_8de5_4865ee12e626row0_col2\" class=\"data row0 col2\" >58.8359</td>\n",
       "            </tr>\n",
       "            <tr>\n",
       "                        <th id=\"T_e4f2eb4c_6a3f_11ea_8de5_4865ee12e626level0_row1\" class=\"row_heading level0 row1\" >Poly</th>\n",
       "                        <td id=\"T_e4f2eb4c_6a3f_11ea_8de5_4865ee12e626row1_col0\" class=\"data row1 col0\" >Test</td>\n",
       "                        <td id=\"T_e4f2eb4c_6a3f_11ea_8de5_4865ee12e626row1_col1\" class=\"data row1 col1\" >0.3689</td>\n",
       "                        <td id=\"T_e4f2eb4c_6a3f_11ea_8de5_4865ee12e626row1_col2\" class=\"data row1 col2\" >61.2678</td>\n",
       "            </tr>\n",
       "            <tr>\n",
       "                        <th id=\"T_e4f2eb4c_6a3f_11ea_8de5_4865ee12e626level0_row2\" class=\"row_heading level0 row2\" >VarThresh=0.0</th>\n",
       "                        <td id=\"T_e4f2eb4c_6a3f_11ea_8de5_4865ee12e626row2_col0\" class=\"data row2 col0\" >Test</td>\n",
       "                        <td id=\"T_e4f2eb4c_6a3f_11ea_8de5_4865ee12e626row2_col1\" class=\"data row2 col1\" >0.3689</td>\n",
       "                        <td id=\"T_e4f2eb4c_6a3f_11ea_8de5_4865ee12e626row2_col2\" class=\"data row2 col2\" >61.2678</td>\n",
       "            </tr>\n",
       "            <tr>\n",
       "                        <th id=\"T_e4f2eb4c_6a3f_11ea_8de5_4865ee12e626level0_row3\" class=\"row_heading level0 row3\" >VarThresh=0.4</th>\n",
       "                        <td id=\"T_e4f2eb4c_6a3f_11ea_8de5_4865ee12e626row3_col0\" class=\"data row3 col0\" >Test</td>\n",
       "                        <td id=\"T_e4f2eb4c_6a3f_11ea_8de5_4865ee12e626row3_col1\" class=\"data row3 col1\" >0.3581</td>\n",
       "                        <td id=\"T_e4f2eb4c_6a3f_11ea_8de5_4865ee12e626row3_col2\" class=\"data row3 col2\" >61.7892</td>\n",
       "            </tr>\n",
       "            <tr>\n",
       "                        <th id=\"T_e4f2eb4c_6a3f_11ea_8de5_4865ee12e626level0_row4\" class=\"row_heading level0 row4\" >VarThresh=0.8</th>\n",
       "                        <td id=\"T_e4f2eb4c_6a3f_11ea_8de5_4865ee12e626row4_col0\" class=\"data row4 col0\" >Test</td>\n",
       "                        <td id=\"T_e4f2eb4c_6a3f_11ea_8de5_4865ee12e626row4_col1\" class=\"data row4 col1\" >0.364</td>\n",
       "                        <td id=\"T_e4f2eb4c_6a3f_11ea_8de5_4865ee12e626row4_col2\" class=\"data row4 col2\" >61.5029</td>\n",
       "            </tr>\n",
       "            <tr>\n",
       "                        <th id=\"T_e4f2eb4c_6a3f_11ea_8de5_4865ee12e626level0_row5\" class=\"row_heading level0 row5\" >VarThresh=1.2</th>\n",
       "                        <td id=\"T_e4f2eb4c_6a3f_11ea_8de5_4865ee12e626row5_col0\" class=\"data row5 col0\" >Test</td>\n",
       "                        <td id=\"T_e4f2eb4c_6a3f_11ea_8de5_4865ee12e626row5_col1\" class=\"data row5 col1\" >0.0363</td>\n",
       "                        <td id=\"T_e4f2eb4c_6a3f_11ea_8de5_4865ee12e626row5_col2\" class=\"data row5 col2\" >75.7101</td>\n",
       "            </tr>\n",
       "            <tr>\n",
       "                        <th id=\"T_e4f2eb4c_6a3f_11ea_8de5_4865ee12e626level0_row6\" class=\"row_heading level0 row6\" >VarThresh=1.6</th>\n",
       "                        <td id=\"T_e4f2eb4c_6a3f_11ea_8de5_4865ee12e626row6_col0\" class=\"data row6 col0\" >Test</td>\n",
       "                        <td id=\"T_e4f2eb4c_6a3f_11ea_8de5_4865ee12e626row6_col1\" class=\"data row6 col1\" >0.0927</td>\n",
       "                        <td id=\"T_e4f2eb4c_6a3f_11ea_8de5_4865ee12e626row6_col2\" class=\"data row6 col2\" >73.4593</td>\n",
       "            </tr>\n",
       "            <tr>\n",
       "                        <th id=\"T_e4f2eb4c_6a3f_11ea_8de5_4865ee12e626level0_row7\" class=\"row_heading level0 row7\" >VarThresh=2.0</th>\n",
       "                        <td id=\"T_e4f2eb4c_6a3f_11ea_8de5_4865ee12e626row7_col0\" class=\"data row7 col0\" >Test</td>\n",
       "                        <td id=\"T_e4f2eb4c_6a3f_11ea_8de5_4865ee12e626row7_col1\" class=\"data row7 col1\" >0.042</td>\n",
       "                        <td id=\"T_e4f2eb4c_6a3f_11ea_8de5_4865ee12e626row7_col2\" class=\"data row7 col2\" >75.4839</td>\n",
       "            </tr>\n",
       "            <tr>\n",
       "                        <th id=\"T_e4f2eb4c_6a3f_11ea_8de5_4865ee12e626level0_row8\" class=\"row_heading level0 row8\" >KBest-f_regr</th>\n",
       "                        <td id=\"T_e4f2eb4c_6a3f_11ea_8de5_4865ee12e626row8_col0\" class=\"data row8 col0\" >Test</td>\n",
       "                        <td id=\"T_e4f2eb4c_6a3f_11ea_8de5_4865ee12e626row8_col1\" class=\"data row8 col1\" >0.425</td>\n",
       "                        <td id=\"T_e4f2eb4c_6a3f_11ea_8de5_4865ee12e626row8_col2\" class=\"data row8 col2\" >58.4799</td>\n",
       "            </tr>\n",
       "            <tr>\n",
       "                        <th id=\"T_e4f2eb4c_6a3f_11ea_8de5_4865ee12e626level0_row9\" class=\"row_heading level0 row9\" >KBest-mutual_info</th>\n",
       "                        <td id=\"T_e4f2eb4c_6a3f_11ea_8de5_4865ee12e626row9_col0\" class=\"data row9 col0\" >Test</td>\n",
       "                        <td id=\"T_e4f2eb4c_6a3f_11ea_8de5_4865ee12e626row9_col1\" class=\"data row9 col1\" >0.3917</td>\n",
       "                        <td id=\"T_e4f2eb4c_6a3f_11ea_8de5_4865ee12e626row9_col2\" class=\"data row9 col2\" >60.1513</td>\n",
       "            </tr>\n",
       "    </tbody></table>"
      ],
      "text/plain": [
       "<pandas.io.formats.style.Styler at 0x1c3b41e2e8>"
      ]
     },
     "metadata": {},
     "output_type": "display_data"
    }
   ],
   "source": [
    "show_results(RESULTS)"
   ]
  },
  {
   "cell_type": "markdown",
   "metadata": {},
   "source": [
    "> Well, that did not seem to eliminate the features very well. It only does a little better than the base polynomial. "
   ]
  },
  {
   "cell_type": "markdown",
   "metadata": {},
   "source": [
    "### Wrapper methods\n",
    "\n",
    "> Now let's use Recursive Feature elimination (RFE) to try out a wrapper method. You'll notice that scikit-learn has a built in `RFECV()` function, which automatically determines the optimal number of features to keep when it is run based off the estimator that is passed into it. Here it is in action: "
   ]
  },
  {
   "cell_type": "code",
   "execution_count": 81,
   "metadata": {
    "ExecuteTime": {
     "end_time": "2020-03-20T00:15:48.125967Z",
     "start_time": "2020-03-20T00:15:47.554910Z"
    }
   },
   "outputs": [],
   "source": [
    "from sklearn.feature_selection import RFE, RFECV\n",
    "from sklearn.linear_model import LinearRegression\n",
    "\n",
    "rfe = RFECV(LinearRegression(),cv=5)\n",
    "X_rfe_train = rfe.fit_transform(X_poly_train, y_train)\n",
    "X_rfe_test = rfe.transform(X_poly_test)\n",
    "lm = LinearRegression().fit(X_rfe_train, y_train)\n",
    "RESULTS.append(run_model(lm, X_rfe_train, X_rfe_test, y_train, y_test,f'RFE w. {rfe.n_features_} feats'))\n",
    "# print ('The optimal number of features is: ', rfe.n_features_)"
   ]
  },
  {
   "cell_type": "markdown",
   "metadata": {},
   "source": [
    "## Embedded methods  \n",
    "> To compare to our other methods, we will use Lasso as the embedded method of feature selection. Luckily for us, sklearn has a built-in method to help us find the optimal features! It performs cross validation to determine the correct regularization parameter (how much to penalize our function)."
   ]
  },
  {
   "cell_type": "code",
   "execution_count": 82,
   "metadata": {
    "ExecuteTime": {
     "end_time": "2020-03-20T00:16:29.213713Z",
     "start_time": "2020-03-20T00:16:29.053399Z"
    }
   },
   "outputs": [],
   "source": [
    "from sklearn.linear_model import LassoCV\n",
    "lasso = LassoCV(max_iter=100000, cv=5)\n",
    "lasso.fit(X_train, y_train)\n",
    "RESULTS.append(run_model(lasso,X_train, X_test, y_train, y_test,f'Lasso - X data'))\n",
    "# print('The optimal alpha for the Lasso Regression is: ', lasso.alpha_)"
   ]
  },
  {
   "cell_type": "markdown",
   "metadata": {},
   "source": [
    "> Let's compare this to a model with all of the polynomial features included."
   ]
  },
  {
   "cell_type": "code",
   "execution_count": 83,
   "metadata": {
    "ExecuteTime": {
     "end_time": "2020-03-20T00:16:31.650971Z",
     "start_time": "2020-03-20T00:16:30.973906Z"
    }
   },
   "outputs": [],
   "source": [
    "lasso2 = LassoCV(max_iter=100000, cv=5)\n",
    "lasso2.fit(X_poly_train, y_train)\n",
    "\n",
    "RESULTS.append(run_model(lasso2, X_poly_train, X_poly_test, y_train, y_test,f'Lasso Poly '))\n",
    "# print('The optimal alpha for the Lasso Regression is: ', lasso2.alpha_)"
   ]
  },
  {
   "cell_type": "code",
   "execution_count": 88,
   "metadata": {
    "ExecuteTime": {
     "end_time": "2020-03-20T00:18:05.555200Z",
     "start_time": "2020-03-20T00:18:05.533217Z"
    }
   },
   "outputs": [
    {
     "data": {
      "text/html": [
       "<style  type=\"text/css\" >\n",
       "    #T_44f3c4ba_6a40_11ea_81d2_4865ee12e626row12_col1 {\n",
       "            background-color:  yellow;\n",
       "        }</style><table id=\"T_44f3c4ba_6a40_11ea_81d2_4865ee12e626\" ><thead>    <tr>        <th class=\"blank level0\" ></th>        <th class=\"col_heading level0 col0\" >Data</th>        <th class=\"col_heading level0 col1\" >R2</th>        <th class=\"col_heading level0 col2\" >RMSE</th>    </tr>    <tr>        <th class=\"index_name level0\" >Note</th>        <th class=\"blank\" ></th>        <th class=\"blank\" ></th>        <th class=\"blank\" ></th>    </tr></thead><tbody>\n",
       "                <tr>\n",
       "                        <th id=\"T_44f3c4ba_6a40_11ea_81d2_4865ee12e626level0_row0\" class=\"row_heading level0 row0\" >Baseline</th>\n",
       "                        <td id=\"T_44f3c4ba_6a40_11ea_81d2_4865ee12e626row0_col0\" class=\"data row0 col0\" >Test</td>\n",
       "                        <td id=\"T_44f3c4ba_6a40_11ea_81d2_4865ee12e626row0_col1\" class=\"data row0 col1\" >0.418</td>\n",
       "                        <td id=\"T_44f3c4ba_6a40_11ea_81d2_4865ee12e626row0_col2\" class=\"data row0 col2\" >58.8359</td>\n",
       "            </tr>\n",
       "            <tr>\n",
       "                        <th id=\"T_44f3c4ba_6a40_11ea_81d2_4865ee12e626level0_row1\" class=\"row_heading level0 row1\" >Poly</th>\n",
       "                        <td id=\"T_44f3c4ba_6a40_11ea_81d2_4865ee12e626row1_col0\" class=\"data row1 col0\" >Test</td>\n",
       "                        <td id=\"T_44f3c4ba_6a40_11ea_81d2_4865ee12e626row1_col1\" class=\"data row1 col1\" >0.3689</td>\n",
       "                        <td id=\"T_44f3c4ba_6a40_11ea_81d2_4865ee12e626row1_col2\" class=\"data row1 col2\" >61.2678</td>\n",
       "            </tr>\n",
       "            <tr>\n",
       "                        <th id=\"T_44f3c4ba_6a40_11ea_81d2_4865ee12e626level0_row2\" class=\"row_heading level0 row2\" >VarThresh=0.0</th>\n",
       "                        <td id=\"T_44f3c4ba_6a40_11ea_81d2_4865ee12e626row2_col0\" class=\"data row2 col0\" >Test</td>\n",
       "                        <td id=\"T_44f3c4ba_6a40_11ea_81d2_4865ee12e626row2_col1\" class=\"data row2 col1\" >0.3689</td>\n",
       "                        <td id=\"T_44f3c4ba_6a40_11ea_81d2_4865ee12e626row2_col2\" class=\"data row2 col2\" >61.2678</td>\n",
       "            </tr>\n",
       "            <tr>\n",
       "                        <th id=\"T_44f3c4ba_6a40_11ea_81d2_4865ee12e626level0_row3\" class=\"row_heading level0 row3\" >VarThresh=0.4</th>\n",
       "                        <td id=\"T_44f3c4ba_6a40_11ea_81d2_4865ee12e626row3_col0\" class=\"data row3 col0\" >Test</td>\n",
       "                        <td id=\"T_44f3c4ba_6a40_11ea_81d2_4865ee12e626row3_col1\" class=\"data row3 col1\" >0.3581</td>\n",
       "                        <td id=\"T_44f3c4ba_6a40_11ea_81d2_4865ee12e626row3_col2\" class=\"data row3 col2\" >61.7892</td>\n",
       "            </tr>\n",
       "            <tr>\n",
       "                        <th id=\"T_44f3c4ba_6a40_11ea_81d2_4865ee12e626level0_row4\" class=\"row_heading level0 row4\" >VarThresh=0.8</th>\n",
       "                        <td id=\"T_44f3c4ba_6a40_11ea_81d2_4865ee12e626row4_col0\" class=\"data row4 col0\" >Test</td>\n",
       "                        <td id=\"T_44f3c4ba_6a40_11ea_81d2_4865ee12e626row4_col1\" class=\"data row4 col1\" >0.364</td>\n",
       "                        <td id=\"T_44f3c4ba_6a40_11ea_81d2_4865ee12e626row4_col2\" class=\"data row4 col2\" >61.5029</td>\n",
       "            </tr>\n",
       "            <tr>\n",
       "                        <th id=\"T_44f3c4ba_6a40_11ea_81d2_4865ee12e626level0_row5\" class=\"row_heading level0 row5\" >VarThresh=1.2</th>\n",
       "                        <td id=\"T_44f3c4ba_6a40_11ea_81d2_4865ee12e626row5_col0\" class=\"data row5 col0\" >Test</td>\n",
       "                        <td id=\"T_44f3c4ba_6a40_11ea_81d2_4865ee12e626row5_col1\" class=\"data row5 col1\" >0.0363</td>\n",
       "                        <td id=\"T_44f3c4ba_6a40_11ea_81d2_4865ee12e626row5_col2\" class=\"data row5 col2\" >75.7101</td>\n",
       "            </tr>\n",
       "            <tr>\n",
       "                        <th id=\"T_44f3c4ba_6a40_11ea_81d2_4865ee12e626level0_row6\" class=\"row_heading level0 row6\" >VarThresh=1.6</th>\n",
       "                        <td id=\"T_44f3c4ba_6a40_11ea_81d2_4865ee12e626row6_col0\" class=\"data row6 col0\" >Test</td>\n",
       "                        <td id=\"T_44f3c4ba_6a40_11ea_81d2_4865ee12e626row6_col1\" class=\"data row6 col1\" >0.0927</td>\n",
       "                        <td id=\"T_44f3c4ba_6a40_11ea_81d2_4865ee12e626row6_col2\" class=\"data row6 col2\" >73.4593</td>\n",
       "            </tr>\n",
       "            <tr>\n",
       "                        <th id=\"T_44f3c4ba_6a40_11ea_81d2_4865ee12e626level0_row7\" class=\"row_heading level0 row7\" >VarThresh=2.0</th>\n",
       "                        <td id=\"T_44f3c4ba_6a40_11ea_81d2_4865ee12e626row7_col0\" class=\"data row7 col0\" >Test</td>\n",
       "                        <td id=\"T_44f3c4ba_6a40_11ea_81d2_4865ee12e626row7_col1\" class=\"data row7 col1\" >0.042</td>\n",
       "                        <td id=\"T_44f3c4ba_6a40_11ea_81d2_4865ee12e626row7_col2\" class=\"data row7 col2\" >75.4839</td>\n",
       "            </tr>\n",
       "            <tr>\n",
       "                        <th id=\"T_44f3c4ba_6a40_11ea_81d2_4865ee12e626level0_row8\" class=\"row_heading level0 row8\" >KBest-f_regr</th>\n",
       "                        <td id=\"T_44f3c4ba_6a40_11ea_81d2_4865ee12e626row8_col0\" class=\"data row8 col0\" >Test</td>\n",
       "                        <td id=\"T_44f3c4ba_6a40_11ea_81d2_4865ee12e626row8_col1\" class=\"data row8 col1\" >0.425</td>\n",
       "                        <td id=\"T_44f3c4ba_6a40_11ea_81d2_4865ee12e626row8_col2\" class=\"data row8 col2\" >58.4799</td>\n",
       "            </tr>\n",
       "            <tr>\n",
       "                        <th id=\"T_44f3c4ba_6a40_11ea_81d2_4865ee12e626level0_row9\" class=\"row_heading level0 row9\" >KBest-mutual_info</th>\n",
       "                        <td id=\"T_44f3c4ba_6a40_11ea_81d2_4865ee12e626row9_col0\" class=\"data row9 col0\" >Test</td>\n",
       "                        <td id=\"T_44f3c4ba_6a40_11ea_81d2_4865ee12e626row9_col1\" class=\"data row9 col1\" >0.3917</td>\n",
       "                        <td id=\"T_44f3c4ba_6a40_11ea_81d2_4865ee12e626row9_col2\" class=\"data row9 col2\" >60.1513</td>\n",
       "            </tr>\n",
       "            <tr>\n",
       "                        <th id=\"T_44f3c4ba_6a40_11ea_81d2_4865ee12e626level0_row10\" class=\"row_heading level0 row10\" >RFE w. 10 feats</th>\n",
       "                        <td id=\"T_44f3c4ba_6a40_11ea_81d2_4865ee12e626row10_col0\" class=\"data row10 col0\" >Test</td>\n",
       "                        <td id=\"T_44f3c4ba_6a40_11ea_81d2_4865ee12e626row10_col1\" class=\"data row10 col1\" >0.3742</td>\n",
       "                        <td id=\"T_44f3c4ba_6a40_11ea_81d2_4865ee12e626row10_col2\" class=\"data row10 col2\" >61.0096</td>\n",
       "            </tr>\n",
       "            <tr>\n",
       "                        <th id=\"T_44f3c4ba_6a40_11ea_81d2_4865ee12e626level0_row11\" class=\"row_heading level0 row11\" >Lasso - X data</th>\n",
       "                        <td id=\"T_44f3c4ba_6a40_11ea_81d2_4865ee12e626row11_col0\" class=\"data row11 col0\" >Test</td>\n",
       "                        <td id=\"T_44f3c4ba_6a40_11ea_81d2_4865ee12e626row11_col1\" class=\"data row11 col1\" >0.4267</td>\n",
       "                        <td id=\"T_44f3c4ba_6a40_11ea_81d2_4865ee12e626row11_col2\" class=\"data row11 col2\" >58.3931</td>\n",
       "            </tr>\n",
       "            <tr>\n",
       "                        <th id=\"T_44f3c4ba_6a40_11ea_81d2_4865ee12e626level0_row12\" class=\"row_heading level0 row12\" >Lasso Poly </th>\n",
       "                        <td id=\"T_44f3c4ba_6a40_11ea_81d2_4865ee12e626row12_col0\" class=\"data row12 col0\" >Test</td>\n",
       "                        <td id=\"T_44f3c4ba_6a40_11ea_81d2_4865ee12e626row12_col1\" class=\"data row12 col1\" >0.4307</td>\n",
       "                        <td id=\"T_44f3c4ba_6a40_11ea_81d2_4865ee12e626row12_col2\" class=\"data row12 col2\" >58.1914</td>\n",
       "            </tr>\n",
       "    </tbody></table>"
      ],
      "text/plain": [
       "<pandas.io.formats.style.Styler at 0x1c3f524588>"
      ]
     },
     "execution_count": 88,
     "metadata": {},
     "output_type": "execute_result"
    }
   ],
   "source": [
    "res_df = pd.concat(RESULTS)\n",
    "test_res = res_df.groupby('Data').get_group('Test')\n",
    "test_res.set_index(['Note']).style.highlight_max('R2')#.sort_values('MSE',ascending=True)#.groupby('Data').get_group('Test')\n"
   ]
  },
  {
   "cell_type": "code",
   "execution_count": 84,
   "metadata": {
    "ExecuteTime": {
     "end_time": "2020-03-20T00:16:32.504590Z",
     "start_time": "2020-03-20T00:16:32.478599Z"
    }
   },
   "outputs": [
    {
     "data": {
      "text/html": [
       "<style  type=\"text/css\" >\n",
       "    #T_0d7d6402_6a40_11ea_b860_4865ee12e626row0_col2 {\n",
       "            background-color:  #005020;\n",
       "            color:  #f1f1f1;\n",
       "        }    #T_0d7d6402_6a40_11ea_b860_4865ee12e626row1_col2 {\n",
       "            background-color:  #0d7836;\n",
       "            color:  #f1f1f1;\n",
       "        }    #T_0d7d6402_6a40_11ea_b860_4865ee12e626row2_col2 {\n",
       "            background-color:  #0d7836;\n",
       "            color:  #f1f1f1;\n",
       "        }    #T_0d7d6402_6a40_11ea_b860_4865ee12e626row3_col2 {\n",
       "            background-color:  #16803c;\n",
       "            color:  #f1f1f1;\n",
       "        }    #T_0d7d6402_6a40_11ea_b860_4865ee12e626row4_col2 {\n",
       "            background-color:  #127c39;\n",
       "            color:  #f1f1f1;\n",
       "        }    #T_0d7d6402_6a40_11ea_b860_4865ee12e626row5_col2 {\n",
       "            background-color:  #f7fcf5;\n",
       "            color:  #000000;\n",
       "        }    #T_0d7d6402_6a40_11ea_b860_4865ee12e626row6_col2 {\n",
       "            background-color:  #e5f5e0;\n",
       "            color:  #000000;\n",
       "        }    #T_0d7d6402_6a40_11ea_b860_4865ee12e626row7_col2 {\n",
       "            background-color:  #f5fbf3;\n",
       "            color:  #000000;\n",
       "        }    #T_0d7d6402_6a40_11ea_b860_4865ee12e626row8_col2 {\n",
       "            background-color:  #00491d;\n",
       "            color:  #f1f1f1;\n",
       "        }    #T_0d7d6402_6a40_11ea_b860_4865ee12e626row9_col2 {\n",
       "            background-color:  #00682a;\n",
       "            color:  #f1f1f1;\n",
       "        }    #T_0d7d6402_6a40_11ea_b860_4865ee12e626row10_col2 {\n",
       "            background-color:  #0a7633;\n",
       "            color:  #f1f1f1;\n",
       "        }    #T_0d7d6402_6a40_11ea_b860_4865ee12e626row11_col2 {\n",
       "            background-color:  #00471c;\n",
       "            color:  #f1f1f1;\n",
       "        }    #T_0d7d6402_6a40_11ea_b860_4865ee12e626row12_col2 {\n",
       "            background-color:  #00441b;\n",
       "            color:  #f1f1f1;\n",
       "        }</style><table id=\"T_0d7d6402_6a40_11ea_b860_4865ee12e626\" ><thead>    <tr>        <th class=\"blank level0\" ></th>        <th class=\"col_heading level0 col0\" >Data</th>        <th class=\"col_heading level0 col1\" >R2</th>        <th class=\"col_heading level0 col2\" >RMSE</th>    </tr>    <tr>        <th class=\"index_name level0\" >Note</th>        <th class=\"blank\" ></th>        <th class=\"blank\" ></th>        <th class=\"blank\" ></th>    </tr></thead><tbody>\n",
       "                <tr>\n",
       "                        <th id=\"T_0d7d6402_6a40_11ea_b860_4865ee12e626level0_row0\" class=\"row_heading level0 row0\" >Baseline</th>\n",
       "                        <td id=\"T_0d7d6402_6a40_11ea_b860_4865ee12e626row0_col0\" class=\"data row0 col0\" >Test</td>\n",
       "                        <td id=\"T_0d7d6402_6a40_11ea_b860_4865ee12e626row0_col1\" class=\"data row0 col1\" >0.418</td>\n",
       "                        <td id=\"T_0d7d6402_6a40_11ea_b860_4865ee12e626row0_col2\" class=\"data row0 col2\" >58.8359</td>\n",
       "            </tr>\n",
       "            <tr>\n",
       "                        <th id=\"T_0d7d6402_6a40_11ea_b860_4865ee12e626level0_row1\" class=\"row_heading level0 row1\" >Poly</th>\n",
       "                        <td id=\"T_0d7d6402_6a40_11ea_b860_4865ee12e626row1_col0\" class=\"data row1 col0\" >Test</td>\n",
       "                        <td id=\"T_0d7d6402_6a40_11ea_b860_4865ee12e626row1_col1\" class=\"data row1 col1\" >0.3689</td>\n",
       "                        <td id=\"T_0d7d6402_6a40_11ea_b860_4865ee12e626row1_col2\" class=\"data row1 col2\" >61.2678</td>\n",
       "            </tr>\n",
       "            <tr>\n",
       "                        <th id=\"T_0d7d6402_6a40_11ea_b860_4865ee12e626level0_row2\" class=\"row_heading level0 row2\" >VarThresh=0.0</th>\n",
       "                        <td id=\"T_0d7d6402_6a40_11ea_b860_4865ee12e626row2_col0\" class=\"data row2 col0\" >Test</td>\n",
       "                        <td id=\"T_0d7d6402_6a40_11ea_b860_4865ee12e626row2_col1\" class=\"data row2 col1\" >0.3689</td>\n",
       "                        <td id=\"T_0d7d6402_6a40_11ea_b860_4865ee12e626row2_col2\" class=\"data row2 col2\" >61.2678</td>\n",
       "            </tr>\n",
       "            <tr>\n",
       "                        <th id=\"T_0d7d6402_6a40_11ea_b860_4865ee12e626level0_row3\" class=\"row_heading level0 row3\" >VarThresh=0.4</th>\n",
       "                        <td id=\"T_0d7d6402_6a40_11ea_b860_4865ee12e626row3_col0\" class=\"data row3 col0\" >Test</td>\n",
       "                        <td id=\"T_0d7d6402_6a40_11ea_b860_4865ee12e626row3_col1\" class=\"data row3 col1\" >0.3581</td>\n",
       "                        <td id=\"T_0d7d6402_6a40_11ea_b860_4865ee12e626row3_col2\" class=\"data row3 col2\" >61.7892</td>\n",
       "            </tr>\n",
       "            <tr>\n",
       "                        <th id=\"T_0d7d6402_6a40_11ea_b860_4865ee12e626level0_row4\" class=\"row_heading level0 row4\" >VarThresh=0.8</th>\n",
       "                        <td id=\"T_0d7d6402_6a40_11ea_b860_4865ee12e626row4_col0\" class=\"data row4 col0\" >Test</td>\n",
       "                        <td id=\"T_0d7d6402_6a40_11ea_b860_4865ee12e626row4_col1\" class=\"data row4 col1\" >0.364</td>\n",
       "                        <td id=\"T_0d7d6402_6a40_11ea_b860_4865ee12e626row4_col2\" class=\"data row4 col2\" >61.5029</td>\n",
       "            </tr>\n",
       "            <tr>\n",
       "                        <th id=\"T_0d7d6402_6a40_11ea_b860_4865ee12e626level0_row5\" class=\"row_heading level0 row5\" >VarThresh=1.2</th>\n",
       "                        <td id=\"T_0d7d6402_6a40_11ea_b860_4865ee12e626row5_col0\" class=\"data row5 col0\" >Test</td>\n",
       "                        <td id=\"T_0d7d6402_6a40_11ea_b860_4865ee12e626row5_col1\" class=\"data row5 col1\" >0.0363</td>\n",
       "                        <td id=\"T_0d7d6402_6a40_11ea_b860_4865ee12e626row5_col2\" class=\"data row5 col2\" >75.7101</td>\n",
       "            </tr>\n",
       "            <tr>\n",
       "                        <th id=\"T_0d7d6402_6a40_11ea_b860_4865ee12e626level0_row6\" class=\"row_heading level0 row6\" >VarThresh=1.6</th>\n",
       "                        <td id=\"T_0d7d6402_6a40_11ea_b860_4865ee12e626row6_col0\" class=\"data row6 col0\" >Test</td>\n",
       "                        <td id=\"T_0d7d6402_6a40_11ea_b860_4865ee12e626row6_col1\" class=\"data row6 col1\" >0.0927</td>\n",
       "                        <td id=\"T_0d7d6402_6a40_11ea_b860_4865ee12e626row6_col2\" class=\"data row6 col2\" >73.4593</td>\n",
       "            </tr>\n",
       "            <tr>\n",
       "                        <th id=\"T_0d7d6402_6a40_11ea_b860_4865ee12e626level0_row7\" class=\"row_heading level0 row7\" >VarThresh=2.0</th>\n",
       "                        <td id=\"T_0d7d6402_6a40_11ea_b860_4865ee12e626row7_col0\" class=\"data row7 col0\" >Test</td>\n",
       "                        <td id=\"T_0d7d6402_6a40_11ea_b860_4865ee12e626row7_col1\" class=\"data row7 col1\" >0.042</td>\n",
       "                        <td id=\"T_0d7d6402_6a40_11ea_b860_4865ee12e626row7_col2\" class=\"data row7 col2\" >75.4839</td>\n",
       "            </tr>\n",
       "            <tr>\n",
       "                        <th id=\"T_0d7d6402_6a40_11ea_b860_4865ee12e626level0_row8\" class=\"row_heading level0 row8\" >KBest-f_regr</th>\n",
       "                        <td id=\"T_0d7d6402_6a40_11ea_b860_4865ee12e626row8_col0\" class=\"data row8 col0\" >Test</td>\n",
       "                        <td id=\"T_0d7d6402_6a40_11ea_b860_4865ee12e626row8_col1\" class=\"data row8 col1\" >0.425</td>\n",
       "                        <td id=\"T_0d7d6402_6a40_11ea_b860_4865ee12e626row8_col2\" class=\"data row8 col2\" >58.4799</td>\n",
       "            </tr>\n",
       "            <tr>\n",
       "                        <th id=\"T_0d7d6402_6a40_11ea_b860_4865ee12e626level0_row9\" class=\"row_heading level0 row9\" >KBest-mutual_info</th>\n",
       "                        <td id=\"T_0d7d6402_6a40_11ea_b860_4865ee12e626row9_col0\" class=\"data row9 col0\" >Test</td>\n",
       "                        <td id=\"T_0d7d6402_6a40_11ea_b860_4865ee12e626row9_col1\" class=\"data row9 col1\" >0.3917</td>\n",
       "                        <td id=\"T_0d7d6402_6a40_11ea_b860_4865ee12e626row9_col2\" class=\"data row9 col2\" >60.1513</td>\n",
       "            </tr>\n",
       "            <tr>\n",
       "                        <th id=\"T_0d7d6402_6a40_11ea_b860_4865ee12e626level0_row10\" class=\"row_heading level0 row10\" >RFE w. 10 feats</th>\n",
       "                        <td id=\"T_0d7d6402_6a40_11ea_b860_4865ee12e626row10_col0\" class=\"data row10 col0\" >Test</td>\n",
       "                        <td id=\"T_0d7d6402_6a40_11ea_b860_4865ee12e626row10_col1\" class=\"data row10 col1\" >0.3742</td>\n",
       "                        <td id=\"T_0d7d6402_6a40_11ea_b860_4865ee12e626row10_col2\" class=\"data row10 col2\" >61.0096</td>\n",
       "            </tr>\n",
       "            <tr>\n",
       "                        <th id=\"T_0d7d6402_6a40_11ea_b860_4865ee12e626level0_row11\" class=\"row_heading level0 row11\" >Lasso - X data</th>\n",
       "                        <td id=\"T_0d7d6402_6a40_11ea_b860_4865ee12e626row11_col0\" class=\"data row11 col0\" >Test</td>\n",
       "                        <td id=\"T_0d7d6402_6a40_11ea_b860_4865ee12e626row11_col1\" class=\"data row11 col1\" >0.4267</td>\n",
       "                        <td id=\"T_0d7d6402_6a40_11ea_b860_4865ee12e626row11_col2\" class=\"data row11 col2\" >58.3931</td>\n",
       "            </tr>\n",
       "            <tr>\n",
       "                        <th id=\"T_0d7d6402_6a40_11ea_b860_4865ee12e626level0_row12\" class=\"row_heading level0 row12\" >Lasso Poly </th>\n",
       "                        <td id=\"T_0d7d6402_6a40_11ea_b860_4865ee12e626row12_col0\" class=\"data row12 col0\" >Test</td>\n",
       "                        <td id=\"T_0d7d6402_6a40_11ea_b860_4865ee12e626row12_col1\" class=\"data row12 col1\" >0.4307</td>\n",
       "                        <td id=\"T_0d7d6402_6a40_11ea_b860_4865ee12e626row12_col2\" class=\"data row12 col2\" >58.1914</td>\n",
       "            </tr>\n",
       "    </tbody></table>"
      ],
      "text/plain": [
       "<pandas.io.formats.style.Styler at 0x1c3b2bef98>"
      ]
     },
     "metadata": {},
     "output_type": "display_data"
    }
   ],
   "source": [
    "show_results(RESULTS,style_kws=dict(subset=['RMSE'],\n",
    "                                   cmap = plt.cm.get_cmap('Greens').reversed()))"
   ]
  },
  {
   "cell_type": "markdown",
   "metadata": {},
   "source": [
    "> As we can see, the regularization had minimal effect on the performance of the model, but it did improve the RMSE for the test set ever so slightly! There are no set steps someone should take in order to determine the optimal feature set. In fact, now there are automated machine learning pipelines that will determine the optimal subset of features for a given problem. One of the most important and often overlooked methods of feature selection is using domain knowledge about a given area to either eliminate features or create new ones."
   ]
  }
 ],
 "metadata": {
  "kernelspec": {
   "display_name": "Python 3",
   "language": "python",
   "name": "python3"
  },
  "language_info": {
   "codemirror_mode": {
    "name": "ipython",
    "version": 3
   },
   "file_extension": ".py",
   "mimetype": "text/x-python",
   "name": "python",
   "nbconvert_exporter": "python",
   "pygments_lexer": "ipython3",
   "version": "3.6.9"
  },
  "toc": {
   "base_numbering": 1,
   "nav_menu": {},
   "number_sections": true,
   "sideBar": true,
   "skip_h1_title": false,
   "title_cell": "Table of Contents",
   "title_sidebar": "Contents",
   "toc_cell": false,
   "toc_position": {
    "height": "calc(100% - 180px)",
    "left": "10px",
    "top": "150px",
    "width": "320px"
   },
   "toc_section_display": true,
   "toc_window_display": true
  },
  "varInspector": {
   "cols": {
    "lenName": 16,
    "lenType": 16,
    "lenVar": 40
   },
   "kernels_config": {
    "python": {
     "delete_cmd_postfix": "",
     "delete_cmd_prefix": "del ",
     "library": "var_list.py",
     "varRefreshCmd": "print(var_dic_list())"
    },
    "r": {
     "delete_cmd_postfix": ") ",
     "delete_cmd_prefix": "rm(",
     "library": "var_list.r",
     "varRefreshCmd": "cat(var_dic_list()) "
    }
   },
   "types_to_exclude": [
    "module",
    "function",
    "builtin_function_or_method",
    "instance",
    "_Feature"
   ],
   "window_display": false
  }
 },
 "nbformat": 4,
 "nbformat_minor": 2
}

{
 "cells": [
  {
   "cell_type": "markdown",
   "metadata": {},
   "source": [
    "<h1 style=\"text-align:center\">Building an API for Your Model</h1>"
   ]
  },
  {
   "cell_type": "markdown",
   "metadata": {
    "ExecuteTime": {
     "end_time": "2020-11-01T17:47:09.481850Z",
     "start_time": "2020-11-01T17:46:24.004Z"
    }
   },
   "source": [
    "- online-ds-ft-0706200\n",
    "- 11/03/20"
   ]
  },
  {
   "cell_type": "markdown",
   "metadata": {},
   "source": [
    "#### What is an API?"
   ]
  },
  {
   "cell_type": "markdown",
   "metadata": {},
   "source": [
    "An API allows you to interact with other computers. It takes a request and based on the information in that request it triggers the computer to run certain tasks and generate a specific output.  "
   ]
  },
  {
   "cell_type": "markdown",
   "metadata": {},
   "source": [
    "<img src='images/api.png' width='400px'/>"
   ]
  },
  {
   "cell_type": "markdown",
   "metadata": {},
   "source": [
    "<b>Example</b>"
   ]
  },
  {
   "cell_type": "markdown",
   "metadata": {},
   "source": [
    "<img style='width:200px' src= 'https://upload.wikimedia.org/wikipedia/commons/thumb/f/fb/Hotdog_-_Evan_Swigart.jpg/1200px-Hotdog_-_Evan_Swigart.jpg' />"
   ]
  },
  {
   "cell_type": "code",
   "execution_count": null,
   "metadata": {
    "ExecuteTime": {
     "end_time": "2020-11-01T17:56:28.614805Z",
     "start_time": "2020-11-01T17:56:28.612210Z"
    }
   },
   "outputs": [],
   "source": [
    "USE_CLOUD = False"
   ]
  },
  {
   "cell_type": "code",
   "execution_count": null,
   "metadata": {
    "ExecuteTime": {
     "end_time": "2020-11-01T17:56:29.844679Z",
     "start_time": "2020-11-01T17:56:29.704742Z"
    }
   },
   "outputs": [],
   "source": [
    "import requests\n",
    "if USE_CLOUD:\n",
    "    try:\n",
    "        url = 'https://upload.wikimedia.org/wikipedia/commons/thumb/f/fb/Hotdog_-_Evan_Swigart.jpg/1200px-Hotdog_-_Evan_Swigart.jpg'\n",
    "        # url = 'http://2.bp.blogspot.com/-kXJaeb6-Zuc/Uz2ZLpl_YeI/AAAAAAAAEFc/fFYzeDAh-SY/s1600/Peanut+Butter+and+Honey+Banana+Dog+002.JPG'\n",
    "        payload = {\"image\": url}\n",
    "        r = requests.post('http://ec2-3-16-164-62.us-east-2.compute.amazonaws.com/predict', data={'image':url}).json()\n",
    "        display(r)\n",
    "    except Exception as e:\n",
    "        print('[!] ERROR: '+str(e))\n",
    "else:\n",
    "    print('[!] Skipping .post command to EC2 model since USE_CLOUD==False')"
   ]
  },
  {
   "cell_type": "markdown",
   "metadata": {},
   "source": [
    "We are sending an image url to a computer (in this case, one of Amazon's). Our api then takes that image url and passes it to our trained model and returns a prediction. "
   ]
  },
  {
   "cell_type": "markdown",
   "metadata": {},
   "source": [
    "### How to build an API in Python"
   ]
  },
  {
   "cell_type": "markdown",
   "metadata": {},
   "source": [
    "#### Flask"
   ]
  },
  {
   "cell_type": "markdown",
   "metadata": {},
   "source": [
    "Goals\n",
    "- Explain the difference between a POST and GET requests\n",
    "- Create an API on our local machine \n",
    "- Send a request to a specific \"route\" and have it return a response"
   ]
  },
  {
   "cell_type": "markdown",
   "metadata": {},
   "source": [
    "GET Methods - GET is the default method in each route. GET Methods recieve a request and return some information. When you type something into your browsers search bar you sending a GET request. "
   ]
  },
  {
   "cell_type": "markdown",
   "metadata": {},
   "source": [
    "<img style='width:300px' src='images/get_rm.gif' /> "
   ]
  },
  {
   "cell_type": "markdown",
   "metadata": {},
   "source": [
    "Flask is a web application framework built in Python. It allows us to set up a server that is listening for a request and when it recieves the request it returns an appropriate response. "
   ]
  },
  {
   "cell_type": "code",
   "execution_count": null,
   "metadata": {
    "ExecuteTime": {
     "end_time": "2020-11-01T17:48:44.394217Z",
     "start_time": "2020-11-01T17:48:00.877731Z"
    },
    "scrolled": true
   },
   "outputs": [],
   "source": [
    "import flask\n",
    "\n",
    "#initalize app\n",
    "app = flask.Flask(__name__)\n",
    "\n",
    "#when the route \"/\" recieves a request the function hello is run\n",
    "@app.route(\"/predict\")\n",
    "def hello():\n",
    "    return \"Hello World!\"\n",
    "\n",
    "#run app\n",
    "if __name__ == \"__main__\":\n",
    "    app.run()"
   ]
  },
  {
   "cell_type": "markdown",
   "metadata": {},
   "source": [
    "<img style='width:300px' src='images/get_rm.gif' /> "
   ]
  },
  {
   "cell_type": "markdown",
   "metadata": {},
   "source": [
    "#### POST Methods"
   ]
  },
  {
   "cell_type": "code",
   "execution_count": null,
   "metadata": {
    "ExecuteTime": {
     "end_time": "2020-11-01T17:49:12.698874Z",
     "start_time": "2020-11-01T17:49:04.864904Z"
    },
    "scrolled": true
   },
   "outputs": [],
   "source": [
    "import flask\n",
    "\n",
    "#initalize app\n",
    "app = flask.Flask(__name__)\n",
    "\n",
    "#when the route \"/\" recieves a request the function hello is run\n",
    "@app.route(\"/\")\n",
    "def hello():\n",
    "    return \"Hello World!\"\n",
    "#'/predict' reutrns 'Request recieved' when it recieves a POST request\n",
    "@app.route(\"/predict\", methods=[\"POST\", \"GET\"])\n",
    "def pred():\n",
    "    if flask.request.method == \"POST\":\n",
    "        years = flask.request.form['years']\n",
    "        return f'Request recieved {years}'\n",
    "    else:\n",
    "        return 'GET'\n",
    "#run app\n",
    "if __name__ == \"__main__\":\n",
    "    app.run()"
   ]
  },
  {
   "cell_type": "markdown",
   "metadata": {},
   "source": [
    "#### Get a prediction from a model"
   ]
  },
  {
   "cell_type": "code",
   "execution_count": null,
   "metadata": {
    "ExecuteTime": {
     "end_time": "2020-11-01T17:49:12.727493Z",
     "start_time": "2020-11-01T17:49:12.700807Z"
    }
   },
   "outputs": [],
   "source": [
    "import requests\n",
    "response = requests.post('http://127.0.0.1:5000/predict')\n",
    "response.content"
   ]
  },
  {
   "cell_type": "code",
   "execution_count": null,
   "metadata": {
    "ExecuteTime": {
     "start_time": "2020-11-03T17:56:06.480Z"
    }
   },
   "outputs": [
    {
     "name": "stdout",
     "output_type": "stream",
     "text": [
      " * Serving Flask app \"__main__\" (lazy loading)\n",
      " * Environment: production\n",
      "\u001b[31m   WARNING: This is a development server. Do not use it in a production deployment.\u001b[0m\n",
      "\u001b[2m   Use a production WSGI server instead.\u001b[0m\n",
      " * Debug mode: off\n"
     ]
    },
    {
     "name": "stderr",
     "output_type": "stream",
     "text": [
      "/opt/anaconda3/envs/learn-env/lib/python3.6/site-packages/sklearn/utils/deprecation.py:143: FutureWarning: The sklearn.linear_model.base module is  deprecated in version 0.22 and will be removed in version 0.24. The corresponding classes / functions should instead be imported from sklearn.linear_model. Anything that cannot be imported from sklearn.linear_model is now part of the private API.\n",
      "  warnings.warn(message, FutureWarning)\n",
      "/opt/anaconda3/envs/learn-env/lib/python3.6/site-packages/sklearn/base.py:334: UserWarning: Trying to unpickle estimator LinearRegression from version 0.20.3 when using version 0.23.2. This might lead to breaking code or invalid results. Use at your own risk.\n",
      "  UserWarning)\n",
      " * Running on http://127.0.0.1:5000/ (Press CTRL+C to quit)\n",
      "127.0.0.1 - - [03/Nov/2020 12:56:37] \"\u001b[37mGET / HTTP/1.1\u001b[0m\" 200 -\n",
      "127.0.0.1 - - [03/Nov/2020 12:56:38] \"\u001b[33mGET /favicon.ico HTTP/1.1\u001b[0m\" 404 -\n",
      "127.0.0.1 - - [03/Nov/2020 12:57:27] \"\u001b[31m\u001b[1mGET /predict HTTP/1.1\u001b[0m\" 405 -\n",
      "127.0.0.1 - - [03/Nov/2020 12:57:58] \"\u001b[37mPOST /predict HTTP/1.1\u001b[0m\" 200 -\n"
     ]
    }
   ],
   "source": [
    "import pickle\n",
    "import flask\n",
    "import json\n",
    "import numpy as np\n",
    "#initalize app\n",
    "app = flask.Flask(__name__)\n",
    "#initialize model outside of route so it doesn't have to load everytime it recieves a request\n",
    "model = pickle.load( open('model.pkl','rb'))\n",
    "\n",
    "#when the route \"/\" recieves a request the function hello is run\n",
    "@app.route(\"/\")\n",
    "def hello():\n",
    "    return \"Hello World!\"\n",
    "\n",
    "\n",
    "@app.route(\"/predict\", methods=[\"POST\"])\n",
    "def pred():\n",
    "    if flask.request.method == \"POST\":\n",
    "        years = np.float(flask.request.form['years'])\n",
    "        prediction = model.predict([[years]])\n",
    "        data = {}\n",
    "        data['predictions'] = prediction[0]\n",
    "        return flask.jsonify(data)\n",
    "#run app\n",
    "if __name__ == \"__main__\":\n",
    "    app.run()"
   ]
  },
  {
   "cell_type": "code",
   "execution_count": null,
   "metadata": {
    "ExecuteTime": {
     "start_time": "2020-11-03T17:57:15.650Z"
    }
   },
   "outputs": [],
   "source": [
    "import requests\n",
    "response = requests.post('http://127.0.0.1:5000/predict', data={'years':1})\n",
    "response.json()['predictions']"
   ]
  },
  {
   "cell_type": "markdown",
   "metadata": {},
   "source": [
    "<b>Resources</b>"
   ]
  },
  {
   "cell_type": "markdown",
   "metadata": {},
   "source": [
    "https://blog.keras.io/building-a-simple-keras-deep-learning-rest-api.html <br/>\n",
    "https://www.pyimagesearch.com/2018/01/29/scalable-keras-deep-learning-rest-api/"
   ]
  },
  {
   "cell_type": "markdown",
   "metadata": {},
   "source": [
    "<h1 style='text-align:center'>Hosting Your API on AWS</h1>"
   ]
  },
  {
   "cell_type": "markdown",
   "metadata": {},
   "source": [
    "Amazon offers services that allow us to use their computers to host our API. This allows other people to access our API at anytime from any computer connected to the internet. "
   ]
  },
  {
   "cell_type": "markdown",
   "metadata": {},
   "source": [
    "### Setting up AWS"
   ]
  },
  {
   "cell_type": "markdown",
   "metadata": {},
   "source": [
    "https://aws.amazon.com/  - Set up an account and log in "
   ]
  },
  {
   "cell_type": "markdown",
   "metadata": {},
   "source": [
    "We will be using Elastic Cloud Compute aka EC2: \n",
    "\n",
    "<b>Steps</b>\n",
    "1. Launch an instance (a virtual server) \n",
    "2. Connect to that instance via SSH (allows you to access the servers terminal from your computer) \n",
    "3. Upload your code onto the server and run it"
   ]
  },
  {
   "cell_type": "markdown",
   "metadata": {},
   "source": [
    "### 1. Launch an Instance"
   ]
  },
  {
   "cell_type": "markdown",
   "metadata": {},
   "source": [
    "<img src='images/select_ec2.png'/>"
   ]
  },
  {
   "cell_type": "markdown",
   "metadata": {},
   "source": [
    "<b> Click \"Launch Instance\" Button</b>"
   ]
  },
  {
   "cell_type": "markdown",
   "metadata": {},
   "source": [
    "1. Select which server OS you want to use. -  Ubuntu Server 18.04 is what I usually use. \n",
    "2. Select instance type (how many CPUs or GPUs) \n",
    "3. Click on Configure Security Group"
   ]
  },
  {
   "cell_type": "markdown",
   "metadata": {},
   "source": [
    "<img src='images/security_groups.png'/>"
   ]
  },
  {
   "cell_type": "markdown",
   "metadata": {},
   "source": [
    "4. Add rule of Type: HTTP, Port Range: 80, Source: Anywhere (SSH should be there by default)\n",
    "3. Click \"Review and Launch\"\n",
    "4. Launch\n",
    "5. Create and download key pair - this is your \"password\" to log into your instance (don't lose this) "
   ]
  },
  {
   "cell_type": "markdown",
   "metadata": {},
   "source": [
    "<img src ='images/key_pair.png' width='600px'/>"
   ]
  },
  {
   "cell_type": "markdown",
   "metadata": {},
   "source": [
    "### 2. Connect to Instance"
   ]
  },
  {
   "cell_type": "markdown",
   "metadata": {},
   "source": [
    "1. Return to EC2 Console via Services -> EC2\n",
    "2. Click on \"Running Instances\" \n",
    "3. Select the instance you created and click \"Connect\" \n",
    "4. Run the commands in your LOCAL terminal in the same directory that your {key_pair}.pem file is located\n"
   ]
  },
  {
   "cell_type": "markdown",
   "metadata": {},
   "source": [
    "<img src='images/connect.png' width='600px'/>"
   ]
  },
  {
   "cell_type": "markdown",
   "metadata": {},
   "source": [
    "<b>You're in! You can now interact with Amazon's server! </b>"
   ]
  },
  {
   "cell_type": "markdown",
   "metadata": {},
   "source": [
    "<img src='images/terminal.png'/>"
   ]
  },
  {
   "cell_type": "markdown",
   "metadata": {},
   "source": [
    "### 3. Upload Your Code and Run Your Server"
   ]
  },
  {
   "cell_type": "markdown",
   "metadata": {},
   "source": [
    "You can git clone your repository into this server or you can upload single files via the terminal. Since we have a simple script we will upload the single file."
   ]
  },
  {
   "cell_type": "markdown",
   "metadata": {},
   "source": [
    "Our server code is pretty much ready to be deployed to AWS but we need to make one small change so when we go to our instances ip address we are routed to the correct port (80). The default HTTP port is 80 so our server needs to be there. "
   ]
  },
  {
   "cell_type": "code",
   "execution_count": null,
   "metadata": {},
   "outputs": [],
   "source": [
    "#replace app.run() in our api file with this\n",
    "app.run(host='0.0.0.0', port=80)"
   ]
  },
  {
   "cell_type": "code",
   "execution_count": null,
   "metadata": {
    "scrolled": true
   },
   "outputs": [],
   "source": [
    "#run this in terminal to transfer your file to a specific folder in your server\n",
    "#run in the same folder as your .pem file and the file you want to transfer\n",
    "scp -i aws-lecture.pem api.py ubuntu@ec2-52-14-97-73.us-east-2.compute.amazonaws.com:~/"
   ]
  },
  {
   "cell_type": "markdown",
   "metadata": {},
   "source": [
    "Before running our server we need install the neccesary dependencies. Python 3 is install by default on Ubunutu but we need to install pip first and then the other dependencies (flask, numpy, etc.) "
   ]
  },
  {
   "cell_type": "code",
   "execution_count": null,
   "metadata": {},
   "outputs": [],
   "source": [
    "#code to run in terminal\n",
    "#install pip, dependencies and run server\n",
    "sudo apt-get update\n",
    "sudo apt install python3-pip\n",
    "pip3 install Flask numpy sklearn\n",
    "sudo python3 api.py"
   ]
  },
  {
   "cell_type": "markdown",
   "metadata": {},
   "source": [
    "Now we can send requests to our server. To find our server's domain look for the \"Public DNS (IPv4)\""
   ]
  },
  {
   "cell_type": "markdown",
   "metadata": {},
   "source": [
    "<img src='images/ip.png'/>"
   ]
  },
  {
   "cell_type": "code",
   "execution_count": null,
   "metadata": {},
   "outputs": [],
   "source": [
    "import requests\n",
    "response = requests.post('http://ec2-52-14-97-73.us-east-2.compute.amazonaws.com/predict', data={'years':1})"
   ]
  },
  {
   "cell_type": "code",
   "execution_count": null,
   "metadata": {},
   "outputs": [],
   "source": [
    "response.json()"
   ]
  },
  {
   "cell_type": "code",
   "execution_count": null,
   "metadata": {},
   "outputs": [],
   "source": [
    "import requests\n",
    "response = requests.post('http://127.0.0.1:5000/predict', data={'years':100})\n",
    "response.content"
   ]
  },
  {
   "cell_type": "code",
   "execution_count": null,
   "metadata": {},
   "outputs": [],
   "source": []
  }
 ],
 "metadata": {
  "kernelspec": {
   "display_name": "learn-env",
   "language": "python",
   "name": "learn-env"
  },
  "language_info": {
   "codemirror_mode": {
    "name": "ipython",
    "version": 3
   },
   "file_extension": ".py",
   "mimetype": "text/x-python",
   "name": "python",
   "nbconvert_exporter": "python",
   "pygments_lexer": "ipython3",
   "version": "3.6.11"
  },
  "toc": {
   "base_numbering": 1,
   "nav_menu": {},
   "number_sections": true,
   "sideBar": true,
   "skip_h1_title": false,
   "title_cell": "Table of Contents",
   "title_sidebar": "Contents",
   "toc_cell": false,
   "toc_position": {},
   "toc_section_display": true,
   "toc_window_display": false
  }
 },
 "nbformat": 4,
 "nbformat_minor": 2
}

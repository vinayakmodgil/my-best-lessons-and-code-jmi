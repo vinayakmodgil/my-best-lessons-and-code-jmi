{
 "cells": [
  {
   "cell_type": "markdown",
   "metadata": {},
   "source": [
    "# Section 39: Foundations of Natural Language Processing"
   ]
  },
  {
   "cell_type": "markdown",
   "metadata": {},
   "source": [
    "- xx/xx/xx\n",
    "- my-best-lesson-plans"
   ]
  },
  {
   "cell_type": "markdown",
   "metadata": {},
   "source": [
    "## Learning Objectives"
   ]
  },
  {
   "cell_type": "markdown",
   "metadata": {},
   "source": [
    "- Introduce the field of Natural Language Processing\n",
    "- Learn about the extensive preprocessing involved with text data\n",
    "- Walk through text classification - Finding Trump \n"
   ]
  },
  {
   "cell_type": "markdown",
   "metadata": {},
   "source": [
    "## Questions"
   ]
  },
  {
   "cell_type": "markdown",
   "metadata": {},
   "source": [
    "### Questions from Gdoc"
   ]
  },
  {
   "cell_type": "markdown",
   "metadata": {},
   "source": [
    "### Additional Questions?\n"
   ]
  },
  {
   "cell_type": "markdown",
   "metadata": {},
   "source": []
  },
  {
   "cell_type": "markdown",
   "metadata": {},
   "source": [
    "# Natural Language Processing"
   ]
  },
  {
   "cell_type": "markdown",
   "metadata": {},
   "source": [
    "> **_Natural Language Processing_**, or **_NLP_**, is the study of how computers can interact with humans through the use of human language.  Although this is a field that is quite important to Data Scientists, it does not belong to Data Science alone.  NLP has been around for quite a while, and sits at the intersection of *Computer Science*, *Artificial Intelligence*, *Linguistics*, and *Information Theory*. "
   ]
  },
  {
   "cell_type": "markdown",
   "metadata": {},
   "source": [
    "## Where is NLP Used?"
   ]
  },
  {
   "cell_type": "markdown",
   "metadata": {},
   "source": [
    "\n",
    "- Reviews (i.e. Amazon)\n",
    "- Stock market trading\n",
    "- AI Assistants\n",
    "- Spam Detection"
   ]
  },
  {
   "cell_type": "markdown",
   "metadata": {},
   "source": [
    "- **Demonstration:**\n",
    "    - [Google Duplex AI Assistant](https://youtu.be/D5VN56jQMWM)"
   ]
  },
  {
   "cell_type": "markdown",
   "metadata": {},
   "source": [
    "# Working with Text Data"
   ]
  },
  {
   "cell_type": "markdown",
   "metadata": {},
   "source": [
    "## Preprocessing"
   ]
  },
  {
   "cell_type": "markdown",
   "metadata": {},
   "source": [
    "**Preparing text data requires more processing than normal data.**\n",
    "1. We must remove things like:\n",
    "    - punctuation\n",
    "    - numbers\n",
    "    - upper vs lowercase letters\n",
    "    \n",
    "    \n",
    "2. It is always recommended that go a step beyond this and remove **commonly used words that contain little information (called \"stopwords\")** for our machine learning algorithms. Words like: the,was,he,she, it,etc.\n",
    "\n",
    "\n",
    "3. Additionally, most analyses **need the text tokenzied** into a list of words and not in a natural sentence format. Instead, they are a list of words (**tokens**) separated by \"`,`\", which tells the algorithm what should be considered one word.\n",
    "\n",
    "\n",
    "4. While not always required, it is often a good idea to reduce similar words down to a shared core.\n",
    "There are often **multiple variants of the same word with the same/simiar meaning**,<br> but one may plural **(i.e. \"democrat\" and \"democrats\")**, or form of words is different **(i.e. run, running).**<br> Simplifying words down to the basic core word (or word *stem*) is referred to as **\"stemming\"**. <br><br> A more advanced form of this also understands things like words that are just in a **different tense** such as  i.e.  **\"ran\", \"run\", \"running\"**. This process is called  **\"lemmatization**, where the words are reduced to their simplest form, called \"**lemmas**\"<br>  \n",
    "    - Stemming<br><img src=\"https://raw.githubusercontent.com/learn-co-students/dsc-nlp-and-word-vectorization-online-ds-ft-100719/master/images/new_stemming.png\" width=40%>\n",
    "    - Lemmatization\n",
    "    \n",
    "|   Word   |  Stem | Lemma |\n",
    "|:--------:|:-----:|:-----:|\n",
    "|  Studies | Studi | Study |\n",
    "| Studying | Study | Study |\n",
    "\n",
    "5. Finally, we have to convert our text data into numeric form for our machine learning models to analyze, a process called **vectorization**."
   ]
  },
  {
   "cell_type": "markdown",
   "metadata": {},
   "source": [
    "## Vectorization"
   ]
  },
  {
   "cell_type": "markdown",
   "metadata": {},
   "source": [
    "- For computers to process text it needs to be converted to a numerical representation of the text.\n",
    "- **There are several different ways we can vectorize our text:**\n",
    "    - Count vectorization\n",
    "    - Term Frequency-Inverse Document Frequency (TF-IDF)\n",
    "        -  Used for multiple texts\n",
    "    - Word Embeddings (Deep NLP)\n",
    "    \n",
    "    \n",
    ">- **_Term Frequency_** is calculated with the following formula:\n",
    "$$ \\text{Term Frequency}(t) = \\frac{\\text{number of times it appears in a document}} {\\text{total number of terms in the document}} $$ <br>\n",
    "- Which can also be represented as:\n",
    "$$\\begin{align}\n",
    " \\text{tf}_{i,j} = \\dfrac{n_{i,j}}{\\displaystyle \\sum_k n_{i,j} }\n",
    "\\end{align} $$\n",
    "\n",
    "> - **_Inverse Document Frequency_** is calculated with the following formula:\n",
    "$$ IDF(t) = log_e(\\frac{\\text{Total Number of Documents}}{\\text{Number of Documents with it in it}})$$<br>\n",
    "- Which can also be represented as: \n",
    "$$\\begin{align}\n",
    "idf(w) = \\log \\dfrac{N}{df_t}\n",
    "\\end{align} $$\n",
    "\n",
    "> The **_TF-IDF_** value for a given word in a given document is just found by multiplying the two!\n",
    "$$ \\begin{align}\n",
    "w_{i,j} = tf_{i,j} \\times \\log \\dfrac{N}{df_i} \\\\\n",
    "tf_{i,j} = \\text{number of occurences of } i \\text{ in} j \\\\\n",
    "df_i = \\text{number of documents containing } i \\\\\n",
    "N = \\text{total number of documents}\n",
    "\\end{align} $$\n",
    "\n",
    "- There are additional ways to vectorize using Deep Neural Networks to create Word Embeddings (see Module 4 > Appendix: Deep NLP)"
   ]
  },
  {
   "cell_type": "markdown",
   "metadata": {},
   "source": [
    "## Feature Engineering for Text Data"
   ]
  },
  {
   "cell_type": "markdown",
   "metadata": {},
   "source": [
    "\n",
    "* Do we remove stop words or not?    \n",
    "* Do we stem or lemmatize our text data, or leave the words as is?   \n",
    "* Is basic tokenization enough, or do we need to support special edge cases through the use of regex?  \n",
    "* Do we use the entire vocabulary, or just limit the model to a subset of the most frequently used words? If so, how many?  \n",
    "* Do we engineer other features, such as bigrams, or POS tags, or Mutual Information Scores?   \n",
    "* What sort of vectorization should we use in our model? Boolean Vectorization? Count Vectorization? TF-IDF? More advanced vectorization strategies such as Word2Vec?  \n"
   ]
  },
  {
   "cell_type": "markdown",
   "metadata": {},
   "source": [
    "# Practicing Text Preprocessing - Finding Trump "
   ]
  },
  {
   "cell_type": "markdown",
   "metadata": {},
   "source": [
    "## Tweet Natural Language Processing Overview"
   ]
  },
  {
   "cell_type": "markdown",
   "metadata": {},
   "source": [
    "To prepare Donal Trump's tweets for modeling, **it is essential to preprocess the text** and simplify its contents.\n",
    "<br><br>\n",
    "1. **At a minimum, things like:**\n",
    "    - punctuation\n",
    "    - numbers\n",
    "    - upper vs lowercase letters<br>\n",
    "    ***must*** be addressed before any initial analyses. I refer tho this initial cleaning as **\"minimal cleaning\"** of the text content<br>\n",
    "    \n",
    "> Version 1 of the tweet processing removes these items, as well as the removal of any urls in a tweet. The resulting data column is referred to here as \"content_min_clean\".\n",
    "\n",
    "<br><br>\n",
    "2. It is **always recommended** that go a step beyond this and<br> remove **commonly used words that contain little information** <br>for our machine learning algorithms. Words like: (the,was,he,she, it,etc.)<br> are called **\"stopwords\"**, and it is critical to address them as well.\n",
    "\n",
    "> Version 2 of the tweet processing removes these items and the resulting data column is referred here as `cleaned_stopped_content`\n",
    "\n",
    "<br>\n",
    "\n",
    "3. Additionally, many analyses **need the text tokenzied** into a list of words<br> and not in a natural sentence format. Instead, they are a list of words (**tokens**) separated by \",\", which tells the algorithm what should be considered one word.<br><br>For the tweet processing, I used a version of tokenization, called `regexp_tokenziation` <br>which uses pattern of letters and symbols (the `expression`) <br>that indicate what combination of alpha numeric characters should be considered a single token.<br><br>The pattern I used was `\"([a-zA-Z]+(?:'[a-z]+)?)\"`, which allows for words such as \"can't\" that contain \"'\" in the middle of word. This processes was actually applied in order to process Version 1 and 2 of the Tweets, but the resulting text was put back into sentence form. \n",
    "\n",
    "> Version 3 of the tweets keeps the text in their regexp-tokenized form and is reffered to as `cleaned_stopped_tokens`\n",
    "<br>\n",
    "\n",
    "4. While not always required, it is often a good idea to reduce similar words down to a shared core.\n",
    "There are often **multiple variants of the same word with the same/simiar meaning**,<br> but one may plural **(i.e. \"democrat\" and \"democrats\")**, or form of words is different **(i.e. run, running).**<br> Simplifying words down to the basic core word (or word *stem*) is referred to as **\"stemming\"**. <br><br> A more advanced form of this also understands things like words that are just in a **different tense** such as  i.e.  **\"ran\", \"run\", \"running\"**. This process is called  **\"lemmatization**, where the words are reduced to their simplest form, called \"**lemmas**\"<br>  \n",
    "\n",
    "> Version 4 of the tweets are all reduced down to their word lemmas, futher aiding the algorithm in learning the meaning of the texts.\n",
    "<!-- \n",
    "\n",
    "#### EXAMPLE TWEETS AND PROCESSING STEPS:\n",
    "\n",
    "**TWEET FROM 08-25-2017 12:25:10:**\n",
    "* **[\"content\"] column:**<p><blockquote>***\"Strange statement by Bob Corker considering that he is constantly asking me whether or not he should run again in '18. Tennessee not happy!\"***\n",
    "    \n",
    "    \n",
    "* **[\"content_min_clean\"] column:**<p><blockquote>***\"strange statement by bob corker considering that he is constantly asking me whether or not he should run again in  18  tennessee not happy \"***\n",
    "    \n",
    "    \n",
    "* **[\"cleaned_stopped_content\"] column:**<p><blockquote>***\"strange statement bob corker considering constantly asking whether run tennessee happy\"***\n",
    "    \n",
    "    \n",
    "* **[\"cleaned_stopped_tokens\"] column:**<p><blockquote>***\"['strange', 'statement', 'bob', 'corker', 'considering', 'constantly', 'asking', 'whether', 'run', 'tennessee', 'happy']\"***\n",
    "    \n",
    "    \n",
    "* **[\"cleaned_stopped_lemmas\"] column:**<p><blockquote>***\"strange statement bob corker considering constantly asking whether run tennessee happy\"*** -->"
   ]
  },
  {
   "cell_type": "markdown",
   "metadata": {},
   "source": [
    "## Finding Trump - Code"
   ]
  },
  {
   "cell_type": "code",
   "execution_count": 167,
   "metadata": {
    "ExecuteTime": {
     "end_time": "2020-10-19T15:16:25.431325Z",
     "start_time": "2020-10-19T15:16:22.389612Z"
    }
   },
   "outputs": [
    {
     "name": "stdout",
     "output_type": "stream",
     "text": [
      "Requirement already up-to-date: fsds in /opt/anaconda3/envs/learn-env/lib/python3.6/site-packages (0.2.27)\n",
      "Requirement already satisfied, skipping upgrade: cufflinks>=0.17.0 in /opt/anaconda3/envs/learn-env/lib/python3.6/site-packages (from fsds) (0.17.3)\n",
      "Requirement already satisfied, skipping upgrade: tzlocal in /opt/anaconda3/envs/learn-env/lib/python3.6/site-packages (from fsds) (2.1)\n",
      "Requirement already satisfied, skipping upgrade: pandas>=1.0.0 in /opt/anaconda3/envs/learn-env/lib/python3.6/site-packages (from fsds) (1.1.1)\n",
      "Requirement already satisfied, skipping upgrade: missingno in /opt/anaconda3/envs/learn-env/lib/python3.6/site-packages (from fsds) (0.4.2)\n",
      "Requirement already satisfied, skipping upgrade: scikit-learn>=0.23.1 in /opt/anaconda3/envs/learn-env/lib/python3.6/site-packages (from fsds) (0.23.2)\n",
      "Requirement already satisfied, skipping upgrade: pyperclip in /opt/anaconda3/envs/learn-env/lib/python3.6/site-packages (from fsds) (1.8.0)\n",
      "Requirement already satisfied, skipping upgrade: scipy in /Users/jamesirving/.local/lib/python3.6/site-packages (from fsds) (1.5.1)\n",
      "Requirement already satisfied, skipping upgrade: matplotlib>=3.3.2 in /opt/anaconda3/envs/learn-env/lib/python3.6/site-packages (from fsds) (3.3.2)\n",
      "Requirement already satisfied, skipping upgrade: IPython in /opt/anaconda3/envs/learn-env/lib/python3.6/site-packages (from fsds) (7.16.1)\n",
      "Requirement already satisfied, skipping upgrade: ipywidgets in /opt/anaconda3/envs/learn-env/lib/python3.6/site-packages (from fsds) (7.5.1)\n",
      "Requirement already satisfied, skipping upgrade: numpy>=1.18 in /Users/jamesirving/.local/lib/python3.6/site-packages (from fsds) (1.19.1)\n",
      "Requirement already satisfied, skipping upgrade: seaborn>=0.10.0 in /opt/anaconda3/envs/learn-env/lib/python3.6/site-packages (from fsds) (0.11.0)\n",
      "Requirement already satisfied, skipping upgrade: six>=1.9.0 in /opt/anaconda3/envs/learn-env/lib/python3.6/site-packages (from cufflinks>=0.17.0->fsds) (1.15.0)\n",
      "Requirement already satisfied, skipping upgrade: plotly>=4.1.1 in /opt/anaconda3/envs/learn-env/lib/python3.6/site-packages (from cufflinks>=0.17.0->fsds) (4.11.0)\n",
      "Requirement already satisfied, skipping upgrade: colorlover>=0.2.1 in /opt/anaconda3/envs/learn-env/lib/python3.6/site-packages (from cufflinks>=0.17.0->fsds) (0.3.0)\n",
      "Requirement already satisfied, skipping upgrade: setuptools>=34.4.1 in /Users/jamesirving/.local/lib/python3.6/site-packages (from cufflinks>=0.17.0->fsds) (46.1.2)\n",
      "Requirement already satisfied, skipping upgrade: pytz in /opt/anaconda3/envs/learn-env/lib/python3.6/site-packages (from tzlocal->fsds) (2020.1)\n",
      "Requirement already satisfied, skipping upgrade: python-dateutil>=2.7.3 in /opt/anaconda3/envs/learn-env/lib/python3.6/site-packages (from pandas>=1.0.0->fsds) (2.8.1)\n",
      "Requirement already satisfied, skipping upgrade: threadpoolctl>=2.0.0 in /opt/anaconda3/envs/learn-env/lib/python3.6/site-packages (from scikit-learn>=0.23.1->fsds) (2.1.0)\n",
      "Requirement already satisfied, skipping upgrade: joblib>=0.11 in /opt/anaconda3/envs/learn-env/lib/python3.6/site-packages (from scikit-learn>=0.23.1->fsds) (0.16.0)\n",
      "Requirement already satisfied, skipping upgrade: pyparsing!=2.0.4,!=2.1.2,!=2.1.6,>=2.0.3 in /opt/anaconda3/envs/learn-env/lib/python3.6/site-packages (from matplotlib>=3.3.2->fsds) (2.4.7)\n",
      "Requirement already satisfied, skipping upgrade: certifi>=2020.06.20 in /opt/anaconda3/envs/learn-env/lib/python3.6/site-packages (from matplotlib>=3.3.2->fsds) (2020.6.20)\n",
      "Requirement already satisfied, skipping upgrade: kiwisolver>=1.0.1 in /opt/anaconda3/envs/learn-env/lib/python3.6/site-packages (from matplotlib>=3.3.2->fsds) (1.2.0)\n",
      "Requirement already satisfied, skipping upgrade: cycler>=0.10 in /opt/anaconda3/envs/learn-env/lib/python3.6/site-packages (from matplotlib>=3.3.2->fsds) (0.10.0)\n",
      "Requirement already satisfied, skipping upgrade: pillow>=6.2.0 in /opt/anaconda3/envs/learn-env/lib/python3.6/site-packages (from matplotlib>=3.3.2->fsds) (7.2.0)\n",
      "Requirement already satisfied, skipping upgrade: traitlets>=4.2 in /opt/anaconda3/envs/learn-env/lib/python3.6/site-packages (from IPython->fsds) (4.3.3)\n",
      "Requirement already satisfied, skipping upgrade: backcall in /opt/anaconda3/envs/learn-env/lib/python3.6/site-packages (from IPython->fsds) (0.2.0)\n",
      "Requirement already satisfied, skipping upgrade: jedi>=0.10 in /opt/anaconda3/envs/learn-env/lib/python3.6/site-packages (from IPython->fsds) (0.17.2)\n",
      "Requirement already satisfied, skipping upgrade: pickleshare in /opt/anaconda3/envs/learn-env/lib/python3.6/site-packages (from IPython->fsds) (0.7.5)\n",
      "Requirement already satisfied, skipping upgrade: pexpect; sys_platform != \"win32\" in /opt/anaconda3/envs/learn-env/lib/python3.6/site-packages (from IPython->fsds) (4.8.0)\n",
      "Requirement already satisfied, skipping upgrade: prompt-toolkit!=3.0.0,!=3.0.1,<3.1.0,>=2.0.0 in /opt/anaconda3/envs/learn-env/lib/python3.6/site-packages (from IPython->fsds) (3.0.5)\n",
      "Requirement already satisfied, skipping upgrade: appnope; sys_platform == \"darwin\" in /opt/anaconda3/envs/learn-env/lib/python3.6/site-packages (from IPython->fsds) (0.1.0)\n",
      "Requirement already satisfied, skipping upgrade: pygments in /opt/anaconda3/envs/learn-env/lib/python3.6/site-packages (from IPython->fsds) (2.6.1)\n",
      "Requirement already satisfied, skipping upgrade: decorator in /opt/anaconda3/envs/learn-env/lib/python3.6/site-packages (from IPython->fsds) (4.4.2)\n",
      "Requirement already satisfied, skipping upgrade: ipykernel>=4.5.1 in /opt/anaconda3/envs/learn-env/lib/python3.6/site-packages (from ipywidgets->fsds) (5.3.4)\n",
      "Requirement already satisfied, skipping upgrade: widgetsnbextension~=3.5.0 in /opt/anaconda3/envs/learn-env/lib/python3.6/site-packages (from ipywidgets->fsds) (3.5.1)\n",
      "Requirement already satisfied, skipping upgrade: nbformat>=4.2.0 in /opt/anaconda3/envs/learn-env/lib/python3.6/site-packages (from ipywidgets->fsds) (5.0.7)\n",
      "Requirement already satisfied, skipping upgrade: retrying>=1.3.3 in /opt/anaconda3/envs/learn-env/lib/python3.6/site-packages (from plotly>=4.1.1->cufflinks>=0.17.0->fsds) (1.3.3)\n",
      "Requirement already satisfied, skipping upgrade: ipython-genutils in /opt/anaconda3/envs/learn-env/lib/python3.6/site-packages (from traitlets>=4.2->IPython->fsds) (0.2.0)\n",
      "Requirement already satisfied, skipping upgrade: parso<0.8.0,>=0.7.0 in /opt/anaconda3/envs/learn-env/lib/python3.6/site-packages (from jedi>=0.10->IPython->fsds) (0.7.1)\n",
      "Requirement already satisfied, skipping upgrade: ptyprocess>=0.5 in /opt/anaconda3/envs/learn-env/lib/python3.6/site-packages (from pexpect; sys_platform != \"win32\"->IPython->fsds) (0.6.0)\n",
      "Requirement already satisfied, skipping upgrade: wcwidth in /opt/anaconda3/envs/learn-env/lib/python3.6/site-packages (from prompt-toolkit!=3.0.0,!=3.0.1,<3.1.0,>=2.0.0->IPython->fsds) (0.2.5)\n",
      "Requirement already satisfied, skipping upgrade: tornado>=4.2 in /opt/anaconda3/envs/learn-env/lib/python3.6/site-packages (from ipykernel>=4.5.1->ipywidgets->fsds) (6.0.4)\n",
      "Requirement already satisfied, skipping upgrade: jupyter-client in /opt/anaconda3/envs/learn-env/lib/python3.6/site-packages (from ipykernel>=4.5.1->ipywidgets->fsds) (6.1.6)\n",
      "Requirement already satisfied, skipping upgrade: notebook>=4.4.1 in /opt/anaconda3/envs/learn-env/lib/python3.6/site-packages (from widgetsnbextension~=3.5.0->ipywidgets->fsds) (6.0.3)\n",
      "Requirement already satisfied, skipping upgrade: jupyter-core in /opt/anaconda3/envs/learn-env/lib/python3.6/site-packages (from nbformat>=4.2.0->ipywidgets->fsds) (4.6.3)\n",
      "Requirement already satisfied, skipping upgrade: jsonschema!=2.5.0,>=2.4 in /opt/anaconda3/envs/learn-env/lib/python3.6/site-packages (from nbformat>=4.2.0->ipywidgets->fsds) (3.2.0)\n",
      "Requirement already satisfied, skipping upgrade: pyzmq>=13 in /opt/anaconda3/envs/learn-env/lib/python3.6/site-packages (from jupyter-client->ipykernel>=4.5.1->ipywidgets->fsds) (19.0.1)\n",
      "Requirement already satisfied, skipping upgrade: terminado>=0.8.1 in /opt/anaconda3/envs/learn-env/lib/python3.6/site-packages (from notebook>=4.4.1->widgetsnbextension~=3.5.0->ipywidgets->fsds) (0.8.3)\n",
      "Requirement already satisfied, skipping upgrade: nbconvert in /opt/anaconda3/envs/learn-env/lib/python3.6/site-packages (from notebook>=4.4.1->widgetsnbextension~=3.5.0->ipywidgets->fsds) (5.6.1)\n"
     ]
    },
    {
     "name": "stdout",
     "output_type": "stream",
     "text": [
      "Requirement already satisfied, skipping upgrade: prometheus-client in /opt/anaconda3/envs/learn-env/lib/python3.6/site-packages (from notebook>=4.4.1->widgetsnbextension~=3.5.0->ipywidgets->fsds) (0.8.0)\n",
      "Requirement already satisfied, skipping upgrade: jinja2 in /opt/anaconda3/envs/learn-env/lib/python3.6/site-packages (from notebook>=4.4.1->widgetsnbextension~=3.5.0->ipywidgets->fsds) (2.11.2)\n",
      "Requirement already satisfied, skipping upgrade: Send2Trash in /opt/anaconda3/envs/learn-env/lib/python3.6/site-packages (from notebook>=4.4.1->widgetsnbextension~=3.5.0->ipywidgets->fsds) (1.5.0)\n",
      "Requirement already satisfied, skipping upgrade: attrs>=17.4.0 in /opt/anaconda3/envs/learn-env/lib/python3.6/site-packages (from jsonschema!=2.5.0,>=2.4->nbformat>=4.2.0->ipywidgets->fsds) (19.3.0)\n",
      "Requirement already satisfied, skipping upgrade: importlib-metadata; python_version < \"3.8\" in /opt/anaconda3/envs/learn-env/lib/python3.6/site-packages (from jsonschema!=2.5.0,>=2.4->nbformat>=4.2.0->ipywidgets->fsds) (0.23)\n",
      "Requirement already satisfied, skipping upgrade: pyrsistent>=0.14.0 in /opt/anaconda3/envs/learn-env/lib/python3.6/site-packages (from jsonschema!=2.5.0,>=2.4->nbformat>=4.2.0->ipywidgets->fsds) (0.16.0)\n",
      "Requirement already satisfied, skipping upgrade: pandocfilters>=1.4.1 in /opt/anaconda3/envs/learn-env/lib/python3.6/site-packages (from nbconvert->notebook>=4.4.1->widgetsnbextension~=3.5.0->ipywidgets->fsds) (1.4.2)\n",
      "Requirement already satisfied, skipping upgrade: mistune<2,>=0.8.1 in /opt/anaconda3/envs/learn-env/lib/python3.6/site-packages (from nbconvert->notebook>=4.4.1->widgetsnbextension~=3.5.0->ipywidgets->fsds) (0.8.4)\n",
      "Requirement already satisfied, skipping upgrade: testpath in /opt/anaconda3/envs/learn-env/lib/python3.6/site-packages (from nbconvert->notebook>=4.4.1->widgetsnbextension~=3.5.0->ipywidgets->fsds) (0.4.4)\n",
      "Requirement already satisfied, skipping upgrade: bleach in /opt/anaconda3/envs/learn-env/lib/python3.6/site-packages (from nbconvert->notebook>=4.4.1->widgetsnbextension~=3.5.0->ipywidgets->fsds) (3.1.5)\n",
      "Requirement already satisfied, skipping upgrade: defusedxml in /opt/anaconda3/envs/learn-env/lib/python3.6/site-packages (from nbconvert->notebook>=4.4.1->widgetsnbextension~=3.5.0->ipywidgets->fsds) (0.6.0)\n",
      "Requirement already satisfied, skipping upgrade: entrypoints>=0.2.2 in /opt/anaconda3/envs/learn-env/lib/python3.6/site-packages (from nbconvert->notebook>=4.4.1->widgetsnbextension~=3.5.0->ipywidgets->fsds) (0.3)\n",
      "Requirement already satisfied, skipping upgrade: MarkupSafe>=0.23 in /opt/anaconda3/envs/learn-env/lib/python3.6/site-packages (from jinja2->notebook>=4.4.1->widgetsnbextension~=3.5.0->ipywidgets->fsds) (1.1.1)\n",
      "Requirement already satisfied, skipping upgrade: zipp>=0.5 in /opt/anaconda3/envs/learn-env/lib/python3.6/site-packages (from importlib-metadata; python_version < \"3.8\"->jsonschema!=2.5.0,>=2.4->nbformat>=4.2.0->ipywidgets->fsds) (3.3.0)\n",
      "Requirement already satisfied, skipping upgrade: webencodings in /opt/anaconda3/envs/learn-env/lib/python3.6/site-packages (from bleach->nbconvert->notebook>=4.4.1->widgetsnbextension~=3.5.0->ipywidgets->fsds) (0.5.1)\n",
      "Requirement already satisfied, skipping upgrade: packaging in /opt/anaconda3/envs/learn-env/lib/python3.6/site-packages (from bleach->nbconvert->notebook>=4.4.1->widgetsnbextension~=3.5.0->ipywidgets->fsds) (20.4)\n"
     ]
    }
   ],
   "source": [
    "!pip install -U fsds\n",
    "from fsds.imports import *"
   ]
  },
  {
   "cell_type": "code",
   "execution_count": 168,
   "metadata": {
    "ExecuteTime": {
     "end_time": "2020-10-19T15:16:25.499427Z",
     "start_time": "2020-10-19T15:16:25.433694Z"
    }
   },
   "outputs": [
    {
     "data": {
      "text/html": [
       "<div>\n",
       "<style scoped>\n",
       "    .dataframe tbody tr th:only-of-type {\n",
       "        vertical-align: middle;\n",
       "    }\n",
       "\n",
       "    .dataframe tbody tr th {\n",
       "        vertical-align: top;\n",
       "    }\n",
       "\n",
       "    .dataframe thead th {\n",
       "        text-align: right;\n",
       "    }\n",
       "</style>\n",
       "<table border=\"1\" class=\"dataframe\">\n",
       "  <thead>\n",
       "    <tr style=\"text-align: right;\">\n",
       "      <th></th>\n",
       "      <th>source</th>\n",
       "      <th>text</th>\n",
       "      <th>created_at</th>\n",
       "      <th>retweet_count</th>\n",
       "      <th>favorite_count</th>\n",
       "      <th>is_retweet</th>\n",
       "      <th>id_str</th>\n",
       "    </tr>\n",
       "  </thead>\n",
       "  <tbody>\n",
       "    <tr>\n",
       "      <th>0</th>\n",
       "      <td>Twitter Media Studio</td>\n",
       "      <td>https://t.co/EVAEYD1AgV</td>\n",
       "      <td>01-01-2020 03:12:07</td>\n",
       "      <td>25016</td>\n",
       "      <td>108830</td>\n",
       "      <td>False</td>\n",
       "      <td>1212209862094012416</td>\n",
       "    </tr>\n",
       "    <tr>\n",
       "      <th>1</th>\n",
       "      <td>Twitter for iPhone</td>\n",
       "      <td>HAPPY NEW YEAR!</td>\n",
       "      <td>01-01-2020 01:30:35</td>\n",
       "      <td>85409</td>\n",
       "      <td>576045</td>\n",
       "      <td>False</td>\n",
       "      <td>1212184310389850119</td>\n",
       "    </tr>\n",
       "    <tr>\n",
       "      <th>2</th>\n",
       "      <td>Twitter for iPhone</td>\n",
       "      <td>Our fantastic First Lady! https://t.co/6iswto4WDI</td>\n",
       "      <td>01-01-2020 01:22:28</td>\n",
       "      <td>27567</td>\n",
       "      <td>132633</td>\n",
       "      <td>False</td>\n",
       "      <td>1212182267113680896</td>\n",
       "    </tr>\n",
       "    <tr>\n",
       "      <th>3</th>\n",
       "      <td>Twitter for iPhone</td>\n",
       "      <td>RT @DanScavino: https://t.co/CJRPySkF1Z</td>\n",
       "      <td>01-01-2020 01:18:47</td>\n",
       "      <td>10796</td>\n",
       "      <td>0</td>\n",
       "      <td>True</td>\n",
       "      <td>1212181341078458369</td>\n",
       "    </tr>\n",
       "    <tr>\n",
       "      <th>4</th>\n",
       "      <td>Twitter for iPhone</td>\n",
       "      <td>RT @SenJohnKennedy: I think Speaker Pelosi is ...</td>\n",
       "      <td>01-01-2020 01:17:43</td>\n",
       "      <td>8893</td>\n",
       "      <td>0</td>\n",
       "      <td>True</td>\n",
       "      <td>1212181071988703232</td>\n",
       "    </tr>\n",
       "  </tbody>\n",
       "</table>\n",
       "</div>"
      ],
      "text/plain": [
       "                 source                                               text  \\\n",
       "0  Twitter Media Studio                            https://t.co/EVAEYD1AgV   \n",
       "1    Twitter for iPhone                                    HAPPY NEW YEAR!   \n",
       "2    Twitter for iPhone  Our fantastic First Lady! https://t.co/6iswto4WDI   \n",
       "3    Twitter for iPhone            RT @DanScavino: https://t.co/CJRPySkF1Z   \n",
       "4    Twitter for iPhone  RT @SenJohnKennedy: I think Speaker Pelosi is ...   \n",
       "\n",
       "            created_at  retweet_count  favorite_count is_retweet  \\\n",
       "0  01-01-2020 03:12:07          25016          108830      False   \n",
       "1  01-01-2020 01:30:35          85409          576045      False   \n",
       "2  01-01-2020 01:22:28          27567          132633      False   \n",
       "3  01-01-2020 01:18:47          10796               0       True   \n",
       "4  01-01-2020 01:17:43           8893               0       True   \n",
       "\n",
       "                id_str  \n",
       "0  1212209862094012416  \n",
       "1  1212184310389850119  \n",
       "2  1212182267113680896  \n",
       "3  1212181341078458369  \n",
       "4  1212181071988703232  "
      ]
     },
     "execution_count": 168,
     "metadata": {},
     "output_type": "execute_result"
    }
   ],
   "source": [
    "import pandas as pd\n",
    "finding_trump = '../finding-trump.csv'\n",
    "# finding_trump = 'https://raw.githubusercontent.com/jirvingphd/online-ds-pt-1007109-text-classification-finding-trump/master/finding-trump.csv'\n",
    "df = pd.read_csv(finding_trump)#'https://raw.githubusercontent.com/jirvingphd/capstone-project-using-trumps-tweets-to-predict-stock-market/master/data/trump_tweets_12012016_to_01012020.csv')\n",
    "df.head()"
   ]
  },
  {
   "cell_type": "code",
   "execution_count": 169,
   "metadata": {
    "ExecuteTime": {
     "end_time": "2020-10-19T15:16:25.506821Z",
     "start_time": "2020-10-19T15:16:25.502385Z"
    }
   },
   "outputs": [
    {
     "data": {
      "text/plain": [
       "['https://t.co/EVAEYD1AgV',\n",
       " 'HAPPY NEW YEAR!',\n",
       " 'Our fantastic First Lady! https://t.co/6iswto4WDI',\n",
       " 'RT @DanScavino: https://t.co/CJRPySkF1Z',\n",
       " 'RT @SenJohnKennedy: I think Speaker Pelosi is having 2nd thoughts about impeaching the President. The Senate should get back to work on USM…',\n",
       " 'Thank you Steve. The greatest Witch Hunt in U.S. history! https://t.co/I3bSNVp6gC',\n",
       " 'RT @ThisWeekABC: Sen. Ron Johnson says charges against Pres. Trump are \"pretty thin gruel\" and Speaker Nancy Pelosi\\'s decision to withhold…',\n",
       " \"RT @SenJohnKennedy: The Senate needs to reauthorize the Violence Against Women Act and I am proud to cosponsor @SenJoniErnst's bill that g…\",\n",
       " 'RT @LindseyGrahamSC: To our Iraqi allies:This is your moment to convince the American people the US-Iraq relationship is meaningful to yo…',\n",
       " 'RT @LindseyGrahamSC: President Trump unlike President Obama will hold you accountable for threats against Americans and hit you where it…']"
      ]
     },
     "execution_count": 169,
     "metadata": {},
     "output_type": "execute_result"
    }
   ],
   "source": [
    "## Create a variable \"corpus\" containing all text\n",
    "corpus = df['text'].to_list()\n",
    "corpus[:10]"
   ]
  },
  {
   "cell_type": "markdown",
   "metadata": {},
   "source": [
    "### Make a Bag-of-Words Frequency Distribution "
   ]
  },
  {
   "cell_type": "markdown",
   "metadata": {},
   "source": [
    "- \"bag-of-words\": collection of all words from a corpus and their frequencies\n"
   ]
  },
  {
   "cell_type": "code",
   "execution_count": 170,
   "metadata": {
    "ExecuteTime": {
     "end_time": "2020-10-19T15:16:25.512296Z",
     "start_time": "2020-10-19T15:16:25.508960Z"
    }
   },
   "outputs": [
    {
     "data": {
      "text/plain": [
       "'https://t.co/EVAEYD1AgV'"
      ]
     },
     "execution_count": 170,
     "metadata": {},
     "output_type": "execute_result"
    }
   ],
   "source": [
    "from nltk import FreqDist\n",
    "corpus[0]"
   ]
  },
  {
   "cell_type": "code",
   "execution_count": 171,
   "metadata": {
    "ExecuteTime": {
     "end_time": "2020-10-19T15:16:26.912227Z",
     "start_time": "2020-10-19T15:16:25.513881Z"
    }
   },
   "outputs": [
    {
     "data": {
      "text/plain": [
       "[(' ', 355279),\n",
       " ('e', 193636),\n",
       " ('t', 151004),\n",
       " ('a', 133814),\n",
       " ('o', 132306),\n",
       " ('n', 115782),\n",
       " ('i', 111789),\n",
       " ('r', 107277),\n",
       " ('s', 97228),\n",
       " ('h', 76548),\n",
       " ('l', 67415),\n",
       " ('d', 57543),\n",
       " ('u', 46550),\n",
       " ('c', 45746),\n",
       " ('m', 43554),\n",
       " ('p', 37247),\n",
       " ('g', 35477),\n",
       " ('y', 33375),\n",
       " ('.', 32244),\n",
       " ('w', 30005),\n",
       " ('f', 29211),\n",
       " ('b', 22246),\n",
       " ('T', 19911),\n",
       " ('v', 17186),\n",
       " (',', 14545),\n",
       " ('k', 13783),\n",
       " ('/', 13588),\n",
       " ('S', 12999),\n",
       " ('A', 12922),\n",
       " ('R', 12294),\n",
       " ('C', 10866),\n",
       " ('I', 10743),\n",
       " (':', 9821),\n",
       " ('N', 9009),\n",
       " ('!', 8861),\n",
       " ('D', 8787),\n",
       " ('@', 8646),\n",
       " ('M', 8063),\n",
       " ('E', 8008),\n",
       " ('P', 7726),\n",
       " ('W', 7249),\n",
       " ('O', 6828),\n",
       " ('H', 6614),\n",
       " ('B', 6115),\n",
       " ('G', 5937),\n",
       " ('F', 5701),\n",
       " ('L', 4774),\n",
       " ('U', 4765),\n",
       " ('0', 4659),\n",
       " ('x', 4068),\n",
       " ('J', 4060),\n",
       " ('’', 3445),\n",
       " ('1', 3191),\n",
       " ('j', 3084),\n",
       " ('…', 2956),\n",
       " ('2', 2812),\n",
       " ('-', 2672),\n",
       " ('K', 2622),\n",
       " ('V', 2460),\n",
       " ('Y', 2194),\n",
       " (';', 2105),\n",
       " ('z', 2082),\n",
       " ('&', 2079),\n",
       " ('“', 1993),\n",
       " ('”', 1890),\n",
       " ('5', 1848),\n",
       " ('#', 1785),\n",
       " ('3', 1730),\n",
       " ('4', 1620),\n",
       " ('7', 1534),\n",
       " ('6', 1491),\n",
       " ('8', 1468),\n",
       " ('9', 1437),\n",
       " ('q', 1346),\n",
       " ('(', 1181),\n",
       " (')', 1174),\n",
       " (\"'\", 1145),\n",
       " ('?', 1007),\n",
       " ('Z', 922),\n",
       " ('X', 862),\n",
       " ('Q', 828),\n",
       " ('\"', 797),\n",
       " ('%', 487),\n",
       " ('_', 469),\n",
       " ('🇺', 308),\n",
       " ('🇸', 305),\n",
       " ('$', 257),\n",
       " ('–', 166),\n",
       " ('—', 148),\n",
       " ('️', 131),\n",
       " ('\\n', 80),\n",
       " ('‘', 60),\n",
       " ('➡', 59),\n",
       " ('\\u2066', 52),\n",
       " ('\\u2069', 47),\n",
       " ('🚨', 45),\n",
       " ('*', 43),\n",
       " ('✅', 36),\n",
       " ('+', 33),\n",
       " ('、', 30)]"
      ]
     },
     "execution_count": 171,
     "metadata": {},
     "output_type": "execute_result"
    }
   ],
   "source": [
    "## Make a FreqDist from the corpus\n",
    "freq= FreqDist(','.join(corpus))\n",
    "\n",
    "## Display 100 most common words\n",
    "freq.most_common(100)"
   ]
  },
  {
   "cell_type": "markdown",
   "metadata": {},
   "source": [
    "> That's not quite right..."
   ]
  },
  {
   "cell_type": "code",
   "execution_count": 172,
   "metadata": {
    "ExecuteTime": {
     "end_time": "2020-10-19T15:16:29.920077Z",
     "start_time": "2020-10-19T15:16:26.913805Z"
    }
   },
   "outputs": [
    {
     "data": {
      "text/plain": [
       "[('the', 15560),\n",
       " (',', 14160),\n",
       " ('.', 13708),\n",
       " (':', 9462),\n",
       " ('to', 9308),\n",
       " ('!', 8861),\n",
       " ('@', 8646),\n",
       " ('and', 8497),\n",
       " ('of', 7176),\n",
       " ('a', 5658),\n",
       " ('is', 5096),\n",
       " ('in', 4996),\n",
       " ('https', 4265),\n",
       " ('for', 4081),\n",
       " ('RT', 3819),\n",
       " ('’', 3445),\n",
       " ('on', 3150),\n",
       " ('I', 3132),\n",
       " ('that', 3031),\n",
       " ('are', 2825),\n",
       " ('with', 2650),\n",
       " ('...', 2620),\n",
       " ('be', 2501),\n",
       " ('will', 2486),\n",
       " ('our', 2418),\n",
       " ('The', 2367),\n",
       " ('have', 2116),\n",
       " (';', 2105),\n",
       " ('&', 2079),\n",
       " ('amp', 2070),\n",
       " ('“', 1993),\n",
       " ('it', 1932),\n",
       " ('”', 1890),\n",
       " ('you', 1834),\n",
       " ('was', 1789),\n",
       " ('#', 1785),\n",
       " ('at', 1621),\n",
       " ('has', 1600),\n",
       " ('they', 1553),\n",
       " ('s', 1517),\n",
       " ('great', 1501),\n",
       " ('President', 1492),\n",
       " ('not', 1415),\n",
       " ('we', 1389),\n",
       " ('by', 1375),\n",
       " ('this', 1336),\n",
       " ('all', 1304),\n",
       " ('t', 1289),\n",
       " ('(', 1181),\n",
       " (')', 1174),\n",
       " ('Trump', 1154),\n",
       " ('Democrats', 1145),\n",
       " ('people', 1124),\n",
       " ('very', 1084),\n",
       " ('-', 1079),\n",
       " ('We', 1072),\n",
       " ('who', 1040),\n",
       " ('?', 1007),\n",
       " ('realDonaldTrump', 996),\n",
       " ('from', 979),\n",
       " ('my', 966),\n",
       " ('as', 956),\n",
       " ('he', 943),\n",
       " ('their', 918),\n",
       " ('been', 838),\n",
       " ('so', 833),\n",
       " ('more', 824),\n",
       " ('about', 801),\n",
       " ('his', 796),\n",
       " ('but', 787),\n",
       " ('now', 784),\n",
       " ('do', 784),\n",
       " ('or', 776),\n",
       " ('out', 769),\n",
       " ('just', 762),\n",
       " ('It', 737),\n",
       " ('an', 736),\n",
       " ('no', 733),\n",
       " ('Thank', 715),\n",
       " ('They', 692),\n",
       " ('up', 686),\n",
       " ('than', 681),\n",
       " ('me', 680),\n",
       " ('would', 678),\n",
       " ('Fake', 653),\n",
       " ('many', 645),\n",
       " ('get', 637),\n",
       " ('Great', 636),\n",
       " ('News', 628),\n",
       " ('U.S.', 625),\n",
       " ('can', 619),\n",
       " ('He', 613),\n",
       " ('time', 612),\n",
       " ('This', 603),\n",
       " ('should', 589),\n",
       " ('what', 583),\n",
       " ('Border', 578),\n",
       " ('there', 576),\n",
       " ('American', 571),\n",
       " ('want', 570)]"
      ]
     },
     "execution_count": 172,
     "metadata": {},
     "output_type": "execute_result"
    }
   ],
   "source": [
    "## Tokenize corpus then generate FreqDist\n",
    "from nltk import word_tokenize\n",
    "tokens = word_tokenize(','.join(corpus))\n",
    "freq=FreqDist(tokens)\n",
    "freq.most_common(100)"
   ]
  },
  {
   "cell_type": "markdown",
   "metadata": {},
   "source": [
    "> Better...but what's our next issue?"
   ]
  },
  {
   "cell_type": "code",
   "execution_count": 173,
   "metadata": {
    "ExecuteTime": {
     "end_time": "2020-10-19T15:16:29.923785Z",
     "start_time": "2020-10-19T15:16:29.921705Z"
    }
   },
   "outputs": [],
   "source": [
    "## Make a list of stopwords to remove\n",
    "from nltk.corpus import stopwords\n",
    "import string"
   ]
  },
  {
   "cell_type": "code",
   "execution_count": 174,
   "metadata": {
    "ExecuteTime": {
     "end_time": "2020-10-19T15:16:29.929446Z",
     "start_time": "2020-10-19T15:16:29.927191Z"
    }
   },
   "outputs": [],
   "source": [
    "additional_punc = ['“','”','...']"
   ]
  },
  {
   "cell_type": "code",
   "execution_count": 175,
   "metadata": {
    "ExecuteTime": {
     "end_time": "2020-10-19T15:16:29.936228Z",
     "start_time": "2020-10-19T15:16:29.931901Z"
    }
   },
   "outputs": [
    {
     "name": "stdout",
     "output_type": "stream",
     "text": [
      "['i', 'me', 'my', 'myself', 'we', 'our', 'ours', 'ourselves', 'you', \"you're\", \"you've\", \"you'll\", \"you'd\", 'your', 'yours', 'yourself', 'yourselves', 'he', 'him', 'his', 'himself', 'she', \"she's\", 'her', 'hers', 'herself', 'it', \"it's\", 'its', 'itself', 'they', 'them', 'their', 'theirs', 'themselves', 'what', 'which', 'who', 'whom', 'this', 'that', \"that'll\", 'these', 'those', 'am', 'is', 'are', 'was', 'were', 'be', 'been', 'being', 'have', 'has', 'had', 'having', 'do', 'does', 'did', 'doing', 'a', 'an', 'the', 'and', 'but', 'if', 'or', 'because', 'as', 'until', 'while', 'of', 'at', 'by', 'for', 'with', 'about', 'against', 'between', 'into', 'through', 'during', 'before', 'after', 'above', 'below', 'to', 'from', 'up', 'down', 'in', 'out', 'on', 'off', 'over', 'under', 'again', 'further', 'then', 'once', 'here', 'there', 'when', 'where', 'why', 'how', 'all', 'any', 'both', 'each', 'few', 'more', 'most', 'other', 'some', 'such', 'no', 'nor', 'not', 'only', 'own', 'same', 'so', 'than', 'too', 'very', 's', 't', 'can', 'will', 'just', 'don', \"don't\", 'should', \"should've\", 'now', 'd', 'll', 'm', 'o', 're', 've', 'y', 'ain', 'aren', \"aren't\", 'couldn', \"couldn't\", 'didn', \"didn't\", 'doesn', \"doesn't\", 'hadn', \"hadn't\", 'hasn', \"hasn't\", 'haven', \"haven't\", 'isn', \"isn't\", 'ma', 'mightn', \"mightn't\", 'mustn', \"mustn't\", 'needn', \"needn't\", 'shan', \"shan't\", 'shouldn', \"shouldn't\", 'wasn', \"wasn't\", 'weren', \"weren't\", 'won', \"won't\", 'wouldn', \"wouldn't\", '!', '\"', '#', '$', '%', '&', \"'\", '(', ')', '*', '+', ',', '-', '.', '/', ':', ';', '<', '=', '>', '?', '@', '[', '\\\\', ']', '^', '_', '`', '{', '|', '}', '~']\n"
     ]
    }
   ],
   "source": [
    "# Get all the stop words in the English language\n",
    "stopwords_list = stopwords.words('english')\n",
    "\n",
    "## Add punctuation to stopwords_list\n",
    "stopwords_list+=string.punctuation\n",
    "print(stopwords_list)\n",
    "\n",
    "stopwords_list.extend(additional_punc)#['“','”'])#'...'"
   ]
  },
  {
   "cell_type": "code",
   "execution_count": 176,
   "metadata": {
    "ExecuteTime": {
     "end_time": "2020-10-19T15:16:29.941148Z",
     "start_time": "2020-10-19T15:16:29.938242Z"
    }
   },
   "outputs": [
    {
     "name": "stdout",
     "output_type": "stream",
     "text": [
      "True\n",
      "False\n"
     ]
    }
   ],
   "source": [
    "## Commentary on not always accepting what is or isn't in stopwords\n",
    "print('until' in stopwords_list)\n",
    "\n",
    "stopwords_list.remove('until')\n",
    "print('until' in stopwords_list)"
   ]
  },
  {
   "cell_type": "code",
   "execution_count": 177,
   "metadata": {
    "ExecuteTime": {
     "end_time": "2020-10-19T15:16:31.123754Z",
     "start_time": "2020-10-19T15:16:29.943307Z"
    }
   },
   "outputs": [
    {
     "data": {
      "text/plain": [
       "[('https', 4265),\n",
       " ('rt', 3819),\n",
       " ('’', 3445),\n",
       " ('great', 2552),\n",
       " ('amp', 2070),\n",
       " ('president', 1605),\n",
       " ('people', 1309),\n",
       " ('trump', 1193),\n",
       " ('democrats', 1166),\n",
       " ('realdonaldtrump', 1045),\n",
       " ('country', 947),\n",
       " ('news', 931),\n",
       " ('thank', 929),\n",
       " ('big', 832),\n",
       " ('fake', 802),\n",
       " ('new', 791),\n",
       " ('many', 749),\n",
       " ('today', 747),\n",
       " ('get', 741),\n",
       " ('would', 714),\n",
       " ('border', 711),\n",
       " ('america', 699),\n",
       " ('never', 676),\n",
       " ('time', 666),\n",
       " ('u.s.', 625),\n",
       " ('american', 611),\n",
       " ('much', 594),\n",
       " ('want', 591),\n",
       " ('one', 588),\n",
       " ('years', 587),\n",
       " ('media', 582),\n",
       " ('good', 567),\n",
       " ('united', 543),\n",
       " ('even', 525),\n",
       " ('house', 523),\n",
       " ('states', 509),\n",
       " ('back', 492),\n",
       " ('``', 491),\n",
       " ('done', 485),\n",
       " (\"'s\", 479),\n",
       " ('must', 478),\n",
       " ('make', 478),\n",
       " ('china', 474),\n",
       " ('like', 465),\n",
       " ('going', 460),\n",
       " ('vote', 458),\n",
       " ('nothing', 455),\n",
       " ('dems', 452),\n",
       " ('job', 440),\n",
       " ('impeachment', 435),\n",
       " ('jobs', 431),\n",
       " ('state', 413),\n",
       " ('day', 407),\n",
       " ('first', 406),\n",
       " ('us', 404),\n",
       " ('bad', 402),\n",
       " ('whitehouse', 398),\n",
       " ('made', 391),\n",
       " ('military', 386),\n",
       " ('deal', 386),\n",
       " ('election', 382),\n",
       " ('ever', 377),\n",
       " ('trade', 375),\n",
       " ('said', 373),\n",
       " ('way', 366),\n",
       " ('see', 365),\n",
       " ('republican', 362),\n",
       " ('crime', 359),\n",
       " ('fbi', 352),\n",
       " ('win', 351),\n",
       " ('wall', 348),\n",
       " ('working', 344),\n",
       " ('republicans', 342),\n",
       " ('world', 337),\n",
       " ('witch', 336),\n",
       " ('history', 333),\n",
       " ('hunt', 332),\n",
       " ('collusion', 331),\n",
       " ('know', 330),\n",
       " ('russia', 329),\n",
       " ('security', 327),\n",
       " ('also', 323),\n",
       " ('strong', 322),\n",
       " ('work', 320),\n",
       " ('last', 320),\n",
       " ('congress', 319),\n",
       " ('go', 318),\n",
       " ('obama', 314),\n",
       " ('hard', 312),\n",
       " ('year', 311),\n",
       " ('economy', 311),\n",
       " ('north', 310),\n",
       " (\"''\", 307),\n",
       " ('foxnews', 304),\n",
       " ('really', 301),\n",
       " ('two', 300),\n",
       " ('tax', 299),\n",
       " ('look', 295),\n",
       " ('democrat', 291),\n",
       " ('far', 289)]"
      ]
     },
     "execution_count": 177,
     "metadata": {},
     "output_type": "execute_result"
    }
   ],
   "source": [
    "## Remove stopwords and then re-product the FreqDist\n",
    "stopped_tokens = [w.lower() for w in tokens if w.lower() not in stopwords_list]\n",
    "freq = FreqDist(stopped_tokens)\n",
    "freq.most_common(100)"
   ]
  },
  {
   "cell_type": "code",
   "execution_count": 178,
   "metadata": {
    "ExecuteTime": {
     "end_time": "2020-10-19T15:16:31.127655Z",
     "start_time": "2020-10-19T15:16:31.125418Z"
    }
   },
   "outputs": [],
   "source": [
    "## Sometimes we need to add more punctuation ourselves\n",
    "add_punc= [\"''\",'’','``']\n",
    "stopwords_list.extend(add_punc)"
   ]
  },
  {
   "cell_type": "code",
   "execution_count": 179,
   "metadata": {
    "ExecuteTime": {
     "end_time": "2020-10-19T15:16:32.325379Z",
     "start_time": "2020-10-19T15:16:31.129257Z"
    }
   },
   "outputs": [
    {
     "data": {
      "text/plain": [
       "[('https', 4265),\n",
       " ('rt', 3819),\n",
       " ('great', 2552),\n",
       " ('amp', 2070),\n",
       " ('president', 1605),\n",
       " ('people', 1309),\n",
       " ('trump', 1193),\n",
       " ('democrats', 1166),\n",
       " ('realdonaldtrump', 1045),\n",
       " ('country', 947),\n",
       " ('news', 931),\n",
       " ('thank', 929),\n",
       " ('big', 832),\n",
       " ('fake', 802),\n",
       " ('new', 791),\n",
       " ('many', 749),\n",
       " ('today', 747),\n",
       " ('get', 741),\n",
       " ('would', 714),\n",
       " ('border', 711),\n",
       " ('america', 699),\n",
       " ('never', 676),\n",
       " ('time', 666),\n",
       " ('u.s.', 625),\n",
       " ('american', 611),\n",
       " ('much', 594),\n",
       " ('want', 591),\n",
       " ('one', 588),\n",
       " ('years', 587),\n",
       " ('media', 582),\n",
       " ('good', 567),\n",
       " ('united', 543),\n",
       " ('even', 525),\n",
       " ('house', 523),\n",
       " ('states', 509),\n",
       " ('back', 492),\n",
       " ('done', 485),\n",
       " (\"'s\", 479),\n",
       " ('must', 478),\n",
       " ('make', 478),\n",
       " ('china', 474),\n",
       " ('like', 465),\n",
       " ('going', 460),\n",
       " ('vote', 458),\n",
       " ('nothing', 455),\n",
       " ('dems', 452),\n",
       " ('job', 440),\n",
       " ('impeachment', 435),\n",
       " ('jobs', 431),\n",
       " ('state', 413),\n",
       " ('day', 407),\n",
       " ('first', 406),\n",
       " ('us', 404),\n",
       " ('bad', 402),\n",
       " ('whitehouse', 398),\n",
       " ('made', 391),\n",
       " ('military', 386),\n",
       " ('deal', 386),\n",
       " ('election', 382),\n",
       " ('ever', 377),\n",
       " ('trade', 375),\n",
       " ('said', 373),\n",
       " ('way', 366),\n",
       " ('see', 365),\n",
       " ('republican', 362),\n",
       " ('crime', 359),\n",
       " ('fbi', 352),\n",
       " ('win', 351),\n",
       " ('wall', 348),\n",
       " ('working', 344),\n",
       " ('republicans', 342),\n",
       " ('world', 337),\n",
       " ('witch', 336),\n",
       " ('history', 333),\n",
       " ('hunt', 332),\n",
       " ('collusion', 331),\n",
       " ('know', 330),\n",
       " ('russia', 329),\n",
       " ('security', 327),\n",
       " ('also', 323),\n",
       " ('strong', 322),\n",
       " ('work', 320),\n",
       " ('last', 320),\n",
       " ('congress', 319),\n",
       " ('go', 318),\n",
       " ('obama', 314),\n",
       " ('hard', 312),\n",
       " ('year', 311),\n",
       " ('economy', 311),\n",
       " ('north', 310),\n",
       " ('foxnews', 304),\n",
       " ('really', 301),\n",
       " ('two', 300),\n",
       " ('tax', 299),\n",
       " ('look', 295),\n",
       " ('democrat', 291),\n",
       " ('far', 289),\n",
       " ('mueller', 286),\n",
       " ('report', 281),\n",
       " ('senate', 279)]"
      ]
     },
     "execution_count": 179,
     "metadata": {},
     "output_type": "execute_result"
    }
   ],
   "source": [
    "## Let's try that one last time\n",
    "stopped_tokens = [w.lower() for w in tokens if w.lower() not in stopwords_list]\n",
    "freq = FreqDist(stopped_tokens)\n",
    "freq.most_common(100)"
   ]
  },
  {
   "cell_type": "markdown",
   "metadata": {},
   "source": [
    "### Additional Ways to Show Frequency"
   ]
  },
  {
   "cell_type": "markdown",
   "metadata": {},
   "source": [
    "- [Word Clouds](https://www.geeksforgeeks.org/generating-word-cloud-python/)"
   ]
  },
  {
   "cell_type": "code",
   "execution_count": 180,
   "metadata": {
    "ExecuteTime": {
     "end_time": "2020-10-19T15:16:32.979255Z",
     "start_time": "2020-10-19T15:16:32.326746Z"
    }
   },
   "outputs": [
    {
     "data": {
      "text/plain": [
       "(-0.5, 399.5, 199.5, -0.5)"
      ]
     },
     "execution_count": 180,
     "metadata": {},
     "output_type": "execute_result"
    },
    {
     "data": {
      "image/png": "[encoded data removed]",
      "text/plain": [
       "<Figure size 864x864 with 1 Axes>"
      ]
     },
     "metadata": {
      "needs_background": "light"
     },
     "output_type": "display_data"
    }
   ],
   "source": [
    "from wordcloud import WordCloud\n",
    "wordcloud = WordCloud(stopwords=stopwords_list,collocations=False)\n",
    "wordcloud.generate(','.join(stopped_tokens))\n",
    "plt.figure(figsize = (12, 12), facecolor = None) \n",
    "plt.imshow(wordcloud) \n",
    "plt.axis('off')"
   ]
  },
  {
   "cell_type": "markdown",
   "metadata": {},
   "source": [
    "### Comparing Phases of Proprocessing/Tokenization"
   ]
  },
  {
   "cell_type": "code",
   "execution_count": 181,
   "metadata": {
    "ExecuteTime": {
     "end_time": "2020-10-19T15:16:33.001826Z",
     "start_time": "2020-10-19T15:16:32.980540Z"
    }
   },
   "outputs": [
    {
     "data": {
      "application/vnd.jupyter.widget-view+json": {
       "model_id": "1113978d64d44854859158941c64ac91",
       "version_major": 2,
       "version_minor": 0
      },
      "text/plain": [
       "interactive(children=(IntSlider(value=7032, description='i', max=14065), Output()), _dom_classes=('widget-inte…"
      ]
     },
     "metadata": {},
     "output_type": "display_data"
    }
   ],
   "source": [
    "from nltk import word_tokenize\n",
    "from ipywidgets import interact\n",
    "\n",
    "@interact\n",
    "def tokenize_tweet(i=(0,len(corpus)-1)):\n",
    "    from nltk.corpus import stopwords\n",
    "    import string\n",
    "    from nltk import word_tokenize,regexp_tokenize\n",
    "    \n",
    "    print(f\"- Tweet #{i}:\\n\")\n",
    "    print(corpus[i],'\\n')\n",
    "    tokens = word_tokenize(corpus[i])\n",
    "\n",
    "    # Get all the stop words in the English language\n",
    "    stopwords_list = stopwords.words('english')\n",
    "    stopwords_list += string.punctuation\n",
    "    stopped_tokens = [w.lower() for w in tokens if w not in stopwords_list]\n",
    "    \n",
    "    print(tokens,end='\\n\\n')\n",
    "    print(stopped_tokens)"
   ]
  },
  {
   "cell_type": "markdown",
   "metadata": {},
   "source": [
    "> What recognizable pattern of characters is high on the frequency list?"
   ]
  },
  {
   "cell_type": "markdown",
   "metadata": {},
   "source": [
    "## Other Bag of Words Statistics"
   ]
  },
  {
   "cell_type": "markdown",
   "metadata": {},
   "source": [
    "### Bigrams"
   ]
  },
  {
   "cell_type": "code",
   "execution_count": 182,
   "metadata": {
    "ExecuteTime": {
     "end_time": "2020-10-19T15:16:34.193708Z",
     "start_time": "2020-10-19T15:16:33.003886Z"
    }
   },
   "outputs": [
    {
     "data": {
      "text/html": [
       "<div>\n",
       "<style scoped>\n",
       "    .dataframe tbody tr th:only-of-type {\n",
       "        vertical-align: middle;\n",
       "    }\n",
       "\n",
       "    .dataframe tbody tr th {\n",
       "        vertical-align: top;\n",
       "    }\n",
       "\n",
       "    .dataframe thead th {\n",
       "        text-align: right;\n",
       "    }\n",
       "</style>\n",
       "<table border=\"1\" class=\"dataframe\">\n",
       "  <thead>\n",
       "    <tr style=\"text-align: right;\">\n",
       "      <th></th>\n",
       "      <th>Words</th>\n",
       "      <th>Frequency</th>\n",
       "    </tr>\n",
       "  </thead>\n",
       "  <tbody>\n",
       "    <tr>\n",
       "      <th>0</th>\n",
       "      <td>(fake, news)</td>\n",
       "      <td>0.002831</td>\n",
       "    </tr>\n",
       "    <tr>\n",
       "      <th>1</th>\n",
       "      <td>(united, states)</td>\n",
       "      <td>0.001992</td>\n",
       "    </tr>\n",
       "    <tr>\n",
       "      <th>2</th>\n",
       "      <td>(rt, realdonaldtrump)</td>\n",
       "      <td>0.001878</td>\n",
       "    </tr>\n",
       "    <tr>\n",
       "      <th>3</th>\n",
       "      <td>(witch, hunt)</td>\n",
       "      <td>0.001488</td>\n",
       "    </tr>\n",
       "    <tr>\n",
       "      <th>4</th>\n",
       "      <td>(president, trump)</td>\n",
       "      <td>0.001397</td>\n",
       "    </tr>\n",
       "    <tr>\n",
       "      <th>5</th>\n",
       "      <td>(rt, whitehouse)</td>\n",
       "      <td>0.001143</td>\n",
       "    </tr>\n",
       "    <tr>\n",
       "      <th>6</th>\n",
       "      <td>(america, great)</td>\n",
       "      <td>0.001021</td>\n",
       "    </tr>\n",
       "    <tr>\n",
       "      <th>7</th>\n",
       "      <td>(white, house)</td>\n",
       "      <td>0.000998</td>\n",
       "    </tr>\n",
       "    <tr>\n",
       "      <th>8</th>\n",
       "      <td>(news, media)</td>\n",
       "      <td>0.000930</td>\n",
       "    </tr>\n",
       "    <tr>\n",
       "      <th>9</th>\n",
       "      <td>(president, realdonaldtrump)</td>\n",
       "      <td>0.000894</td>\n",
       "    </tr>\n",
       "    <tr>\n",
       "      <th>10</th>\n",
       "      <td>(north, korea)</td>\n",
       "      <td>0.000835</td>\n",
       "    </tr>\n",
       "    <tr>\n",
       "      <th>11</th>\n",
       "      <td>(new, york)</td>\n",
       "      <td>0.000789</td>\n",
       "    </tr>\n",
       "    <tr>\n",
       "      <th>12</th>\n",
       "      <td>(make, america)</td>\n",
       "      <td>0.000730</td>\n",
       "    </tr>\n",
       "    <tr>\n",
       "      <th>13</th>\n",
       "      <td>(great, job)</td>\n",
       "      <td>0.000708</td>\n",
       "    </tr>\n",
       "    <tr>\n",
       "      <th>14</th>\n",
       "      <td>(border, security)</td>\n",
       "      <td>0.000662</td>\n",
       "    </tr>\n",
       "    <tr>\n",
       "      <th>15</th>\n",
       "      <td>(great, state)</td>\n",
       "      <td>0.000653</td>\n",
       "    </tr>\n",
       "    <tr>\n",
       "      <th>16</th>\n",
       "      <td>(nancy, pelosi)</td>\n",
       "      <td>0.000649</td>\n",
       "    </tr>\n",
       "    <tr>\n",
       "      <th>17</th>\n",
       "      <td>(crooked, hillary)</td>\n",
       "      <td>0.000640</td>\n",
       "    </tr>\n",
       "    <tr>\n",
       "      <th>18</th>\n",
       "      <td>(southern, border)</td>\n",
       "      <td>0.000631</td>\n",
       "    </tr>\n",
       "    <tr>\n",
       "      <th>19</th>\n",
       "      <td>(american, people)</td>\n",
       "      <td>0.000617</td>\n",
       "    </tr>\n",
       "  </tbody>\n",
       "</table>\n",
       "</div>"
      ],
      "text/plain": [
       "                           Words  Frequency\n",
       "0                   (fake, news)   0.002831\n",
       "1               (united, states)   0.001992\n",
       "2          (rt, realdonaldtrump)   0.001878\n",
       "3                  (witch, hunt)   0.001488\n",
       "4             (president, trump)   0.001397\n",
       "5               (rt, whitehouse)   0.001143\n",
       "6               (america, great)   0.001021\n",
       "7                 (white, house)   0.000998\n",
       "8                  (news, media)   0.000930\n",
       "9   (president, realdonaldtrump)   0.000894\n",
       "10                (north, korea)   0.000835\n",
       "11                   (new, york)   0.000789\n",
       "12               (make, america)   0.000730\n",
       "13                  (great, job)   0.000708\n",
       "14            (border, security)   0.000662\n",
       "15                (great, state)   0.000653\n",
       "16               (nancy, pelosi)   0.000649\n",
       "17            (crooked, hillary)   0.000640\n",
       "18            (southern, border)   0.000631\n",
       "19            (american, people)   0.000617"
      ]
     },
     "execution_count": 182,
     "metadata": {},
     "output_type": "execute_result"
    }
   ],
   "source": [
    "import nltk\n",
    "bigram_measures = nltk.collocations.BigramAssocMeasures()\n",
    "tweet_finder = nltk.BigramCollocationFinder.from_words(stopped_tokens)\n",
    "\n",
    "tweets_scored = tweet_finder.score_ngrams(bigram_measures.raw_freq)\n",
    "pd.DataFrame.from_records(tweets_scored,columns=['Words','Frequency']).head(20)"
   ]
  },
  {
   "cell_type": "markdown",
   "metadata": {},
   "source": [
    "### Mutual Information Scores"
   ]
  },
  {
   "cell_type": "code",
   "execution_count": 183,
   "metadata": {
    "ExecuteTime": {
     "end_time": "2020-10-19T15:16:34.695409Z",
     "start_time": "2020-10-19T15:16:34.195379Z"
    }
   },
   "outputs": [
    {
     "data": {
      "text/html": [
       "<div>\n",
       "<style scoped>\n",
       "    .dataframe tbody tr th:only-of-type {\n",
       "        vertical-align: middle;\n",
       "    }\n",
       "\n",
       "    .dataframe tbody tr th {\n",
       "        vertical-align: top;\n",
       "    }\n",
       "\n",
       "    .dataframe thead th {\n",
       "        text-align: right;\n",
       "    }\n",
       "</style>\n",
       "<table border=\"1\" class=\"dataframe\">\n",
       "  <thead>\n",
       "    <tr style=\"text-align: right;\">\n",
       "      <th></th>\n",
       "      <th>Words</th>\n",
       "      <th>PMI</th>\n",
       "    </tr>\n",
       "  </thead>\n",
       "  <tbody>\n",
       "    <tr>\n",
       "      <th>0</th>\n",
       "      <td>(da, nang)</td>\n",
       "      <td>15.427994</td>\n",
       "    </tr>\n",
       "    <tr>\n",
       "      <th>1</th>\n",
       "      <td>(idlib, province)</td>\n",
       "      <td>15.427994</td>\n",
       "    </tr>\n",
       "    <tr>\n",
       "      <th>2</th>\n",
       "      <td>(madame, peng)</td>\n",
       "      <td>15.427994</td>\n",
       "    </tr>\n",
       "    <tr>\n",
       "      <th>3</th>\n",
       "      <td>(peng, liyuan)</td>\n",
       "      <td>15.427994</td>\n",
       "    </tr>\n",
       "    <tr>\n",
       "      <th>4</th>\n",
       "      <td>(catherine, herridge)</td>\n",
       "      <td>15.164959</td>\n",
       "    </tr>\n",
       "    <tr>\n",
       "      <th>5</th>\n",
       "      <td>(sri, lanka)</td>\n",
       "      <td>15.164959</td>\n",
       "    </tr>\n",
       "    <tr>\n",
       "      <th>6</th>\n",
       "      <td>(fred, keller)</td>\n",
       "      <td>14.942567</td>\n",
       "    </tr>\n",
       "    <tr>\n",
       "      <th>7</th>\n",
       "      <td>(hong, kong)</td>\n",
       "      <td>14.942567</td>\n",
       "    </tr>\n",
       "    <tr>\n",
       "      <th>8</th>\n",
       "      <td>(jonathan, turley)</td>\n",
       "      <td>14.942567</td>\n",
       "    </tr>\n",
       "    <tr>\n",
       "      <th>9</th>\n",
       "      <td>(jimhagedornmn, petestauber)</td>\n",
       "      <td>14.749922</td>\n",
       "    </tr>\n",
       "    <tr>\n",
       "      <th>10</th>\n",
       "      <td>(401, k)</td>\n",
       "      <td>14.749922</td>\n",
       "    </tr>\n",
       "    <tr>\n",
       "      <th>11</th>\n",
       "      <td>(gina, haspel)</td>\n",
       "      <td>14.749922</td>\n",
       "    </tr>\n",
       "    <tr>\n",
       "      <th>12</th>\n",
       "      <td>(kimberley, strassel)</td>\n",
       "      <td>14.679532</td>\n",
       "    </tr>\n",
       "    <tr>\n",
       "      <th>13</th>\n",
       "      <td>(susan, rice)</td>\n",
       "      <td>14.679532</td>\n",
       "    </tr>\n",
       "    <tr>\n",
       "      <th>14</th>\n",
       "      <td>(davis, hanson)</td>\n",
       "      <td>14.579997</td>\n",
       "    </tr>\n",
       "    <tr>\n",
       "      <th>15</th>\n",
       "      <td>(easter, egg)</td>\n",
       "      <td>14.579997</td>\n",
       "    </tr>\n",
       "    <tr>\n",
       "      <th>16</th>\n",
       "      <td>(egg, roll)</td>\n",
       "      <td>14.579997</td>\n",
       "    </tr>\n",
       "    <tr>\n",
       "      <th>17</th>\n",
       "      <td>(jesse, watters)</td>\n",
       "      <td>14.486887</td>\n",
       "    </tr>\n",
       "    <tr>\n",
       "      <th>18</th>\n",
       "      <td>(ballot, box)</td>\n",
       "      <td>14.427994</td>\n",
       "    </tr>\n",
       "    <tr>\n",
       "      <th>19</th>\n",
       "      <td>(derangement, syndrome)</td>\n",
       "      <td>14.427994</td>\n",
       "    </tr>\n",
       "  </tbody>\n",
       "</table>\n",
       "</div>"
      ],
      "text/plain": [
       "                           Words        PMI\n",
       "0                     (da, nang)  15.427994\n",
       "1              (idlib, province)  15.427994\n",
       "2                 (madame, peng)  15.427994\n",
       "3                 (peng, liyuan)  15.427994\n",
       "4          (catherine, herridge)  15.164959\n",
       "5                   (sri, lanka)  15.164959\n",
       "6                 (fred, keller)  14.942567\n",
       "7                   (hong, kong)  14.942567\n",
       "8             (jonathan, turley)  14.942567\n",
       "9   (jimhagedornmn, petestauber)  14.749922\n",
       "10                      (401, k)  14.749922\n",
       "11                (gina, haspel)  14.749922\n",
       "12         (kimberley, strassel)  14.679532\n",
       "13                 (susan, rice)  14.679532\n",
       "14               (davis, hanson)  14.579997\n",
       "15                 (easter, egg)  14.579997\n",
       "16                   (egg, roll)  14.579997\n",
       "17              (jesse, watters)  14.486887\n",
       "18                 (ballot, box)  14.427994\n",
       "19       (derangement, syndrome)  14.427994"
      ]
     },
     "execution_count": 183,
     "metadata": {},
     "output_type": "execute_result"
    }
   ],
   "source": [
    "import nltk\n",
    "bigram_measures = nltk.collocations.BigramAssocMeasures()\n",
    "\n",
    "tweet_pmi_finder = nltk.BigramCollocationFinder.from_words(stopped_tokens)\n",
    "tweet_pmi_finder.apply_freq_filter(5)\n",
    "\n",
    "tweet_pmi_scored = tweet_pmi_finder.score_ngrams(bigram_measures.pmi)\n",
    "pd.DataFrame.from_records(tweet_pmi_scored,columns=['Words','PMI']).head(20)"
   ]
  },
  {
   "cell_type": "markdown",
   "metadata": {},
   "source": [
    "# Regular Expressions"
   ]
  },
  {
   "cell_type": "markdown",
   "metadata": {},
   "source": [
    "- Regular expressions can help us capture/remove complicated patterns in our text.\n",
    "- Best regexp resource and tester: https://regex101.com/\n",
    "\n",
    "    - Make sure to check \"Python\" under Flavor menu on left side.\n",
    "    \n",
    "    \n",
    "- Let's use regular expressions to remove URLs"
   ]
  },
  {
   "cell_type": "code",
   "execution_count": 184,
   "metadata": {
    "ExecuteTime": {
     "end_time": "2020-10-19T15:16:34.700839Z",
     "start_time": "2020-10-19T15:16:34.697304Z"
    }
   },
   "outputs": [
    {
     "data": {
      "text/plain": [
       "'I will be in Green Bay Wisconsin on Saturday April 27th at the Resch Center — 7:00pm (CDT). Big crowd expected! #MAGA https://t.co/BPYK8PF0O8'"
      ]
     },
     "execution_count": 184,
     "metadata": {},
     "output_type": "execute_result"
    }
   ],
   "source": [
    "## Select an example tweet\n",
    "text =  corpus[6615]\n",
    "text"
   ]
  },
  {
   "cell_type": "code",
   "execution_count": 185,
   "metadata": {
    "ExecuteTime": {
     "end_time": "2020-10-19T15:16:34.705483Z",
     "start_time": "2020-10-19T15:16:34.702591Z"
    }
   },
   "outputs": [
    {
     "data": {
      "text/plain": [
       "'RT @real_defender: @realDonaldTrump Protecting America and putting Americans first. Thank you Mr. President!'"
      ]
     },
     "execution_count": 185,
     "metadata": {},
     "output_type": "execute_result"
    }
   ],
   "source": [
    "## Select a second example tweet\n",
    "text2=corpus[7347]\n",
    "text2"
   ]
  },
  {
   "cell_type": "code",
   "execution_count": 186,
   "metadata": {
    "ExecuteTime": {
     "end_time": "2020-10-19T15:16:34.710477Z",
     "start_time": "2020-10-19T15:16:34.706835Z"
    }
   },
   "outputs": [
    {
     "data": {
      "text/plain": [
       "['I',\n",
       " 'will',\n",
       " 'be',\n",
       " 'in',\n",
       " 'Green',\n",
       " 'Bay',\n",
       " 'Wisconsin',\n",
       " 'on',\n",
       " 'Saturday',\n",
       " 'April',\n",
       " 'th',\n",
       " 'at',\n",
       " 'the',\n",
       " 'Resch',\n",
       " 'Center',\n",
       " 'pm',\n",
       " 'CDT',\n",
       " 'Big',\n",
       " 'crowd',\n",
       " 'expected',\n",
       " 'MAGA',\n",
       " 'https',\n",
       " 't',\n",
       " 'co',\n",
       " 'BPYK',\n",
       " 'PF',\n",
       " 'O']"
      ]
     },
     "execution_count": 186,
     "metadata": {},
     "output_type": "execute_result"
    }
   ],
   "source": [
    "## From tjhe lessons\n",
    "from nltk import regexp_tokenize\n",
    "pattern = r\"([a-zA-Z]+(?:'[a-z]+)?)\"\n",
    "regexp_tokenize(text,pattern)"
   ]
  },
  {
   "cell_type": "markdown",
   "metadata": {},
   "source": [
    "### Let's use regex to find/remove URLS"
   ]
  },
  {
   "cell_type": "markdown",
   "metadata": {},
   "source": [
    "- www.regex101.com\n",
    "    - Copy and paste example text to search\n",
    "    - Test out regular expressions and see what they pick up"
   ]
  },
  {
   "cell_type": "code",
   "execution_count": 187,
   "metadata": {
    "ExecuteTime": {
     "end_time": "2020-10-19T15:16:34.714829Z",
     "start_time": "2020-10-19T15:16:34.712367Z"
    }
   },
   "outputs": [
    {
     "name": "stdout",
     "output_type": "stream",
     "text": [
      "I will be in Green Bay Wisconsin on Saturday April 27th at the Resch Center — 7:00pm (CDT). Big crowd expected! #MAGA https://t.co/BPYK8PF0O8 RT @real_defender: @realDonaldTrump Protecting America and putting Americans first. Thank you Mr. President!\n"
     ]
    }
   ],
   "source": [
    "print(text,text2)"
   ]
  },
  {
   "cell_type": "code",
   "execution_count": 188,
   "metadata": {
    "ExecuteTime": {
     "end_time": "2020-10-19T15:16:34.719408Z",
     "start_time": "2020-10-19T15:16:34.716429Z"
    }
   },
   "outputs": [
    {
     "data": {
      "text/plain": [
       "['https://t.co/BPYK8PF0O8']"
      ]
     },
     "execution_count": 188,
     "metadata": {},
     "output_type": "execute_result"
    }
   ],
   "source": [
    "import re\n",
    "re.findall(r\"(https://\\w*\\.\\w*/+\\w+)\",text)"
   ]
  },
  {
   "cell_type": "code",
   "execution_count": 189,
   "metadata": {
    "ExecuteTime": {
     "end_time": "2020-10-19T15:16:34.728427Z",
     "start_time": "2020-10-19T15:16:34.724431Z"
    }
   },
   "outputs": [],
   "source": [
    "def clean_text(text,regex=True):\n",
    "    from nltk.corpus import stopwords\n",
    "    import string\n",
    "    from nltk import word_tokenize,regexp_tokenize\n",
    "\n",
    "    ## tokenize text\n",
    "    if regex:\n",
    "        pattern = r\"([a-zA-Z]+(?:'[a-z]+)?)\"\n",
    "        tokens= regexp_tokenize(text,pattern)\n",
    "    else:\n",
    "        tokens = word_tokenize(text)\n",
    "        \n",
    "    # Get all the stop words in the English language\n",
    "    stopwords_list = stopwords.words('english')\n",
    "    stopwords_list += string.punctuation\n",
    "    \n",
    "    stopped_tokens = [w.lower() for w in tokens if w not in stopwords_list]\n",
    "    \n",
    "    return stopped_tokens"
   ]
  },
  {
   "cell_type": "code",
   "execution_count": 190,
   "metadata": {
    "ExecuteTime": {
     "end_time": "2020-10-19T15:16:34.734437Z",
     "start_time": "2020-10-19T15:16:34.730774Z"
    }
   },
   "outputs": [],
   "source": [
    "## Other uses of RegEx for Tweet preprocessing\n",
    "import re\n",
    "\n",
    "def find_urls(string): \n",
    "    return re.findall(r\"(http[s]?://\\w*\\.\\w*/+\\w+)\",string)\n",
    "\n",
    "def find_hashtags(string):\n",
    "    return re.findall(r'\\#\\w*',string)\n",
    "\n",
    "def find_retweets(string):\n",
    "    return re.findall(r'RT [@]?\\w*:',string)\n",
    "\n",
    "def find_mentions(string):\n",
    "    return re.findall(r'\\@\\w*',string)"
   ]
  },
  {
   "cell_type": "code",
   "execution_count": 191,
   "metadata": {
    "ExecuteTime": {
     "end_time": "2020-10-19T15:16:34.739637Z",
     "start_time": "2020-10-19T15:16:34.736222Z"
    }
   },
   "outputs": [
    {
     "data": {
      "text/plain": [
       "['https://t.co/BPYK8PF0O8']"
      ]
     },
     "execution_count": 191,
     "metadata": {},
     "output_type": "execute_result"
    }
   ],
   "source": [
    "find_urls(text)"
   ]
  },
  {
   "cell_type": "code",
   "execution_count": 192,
   "metadata": {
    "ExecuteTime": {
     "end_time": "2020-10-19T15:16:34.744593Z",
     "start_time": "2020-10-19T15:16:34.741268Z"
    }
   },
   "outputs": [
    {
     "data": {
      "text/plain": [
       "['@real_defender', '@realDonaldTrump']"
      ]
     },
     "execution_count": 192,
     "metadata": {},
     "output_type": "execute_result"
    }
   ],
   "source": [
    "find_mentions(text2)"
   ]
  },
  {
   "cell_type": "markdown",
   "metadata": {},
   "source": [
    "## Stemming/Lemmatization"
   ]
  },
  {
   "cell_type": "code",
   "execution_count": 193,
   "metadata": {
    "ExecuteTime": {
     "end_time": "2020-10-19T15:16:34.749590Z",
     "start_time": "2020-10-19T15:16:34.746240Z"
    }
   },
   "outputs": [
    {
     "name": "stdout",
     "output_type": "stream",
     "text": [
      "foot\n",
      "running\n"
     ]
    }
   ],
   "source": [
    "from nltk.stem.wordnet import WordNetLemmatizer\n",
    "\n",
    "lemmatizer = WordNetLemmatizer()\n",
    "\n",
    "print(lemmatizer.lemmatize('feet')) # foot\n",
    "print(lemmatizer.lemmatize('running')) # run [?!] Does not match expected output"
   ]
  },
  {
   "cell_type": "code",
   "execution_count": 194,
   "metadata": {
    "ExecuteTime": {
     "end_time": "2020-10-19T15:16:34.754736Z",
     "start_time": "2020-10-19T15:16:34.751530Z"
    }
   },
   "outputs": [
    {
     "data": {
      "text/plain": [
       "'I will be in Green Bay Wisconsin on Saturday April 27th at the Resch Center — 7:00pm (CDT). Big crowd expected! #MAGA https://t.co/BPYK8PF0O8'"
      ]
     },
     "execution_count": 194,
     "metadata": {},
     "output_type": "execute_result"
    }
   ],
   "source": [
    "text_in =  corpus[6615]\n",
    "text_in"
   ]
  },
  {
   "cell_type": "code",
   "execution_count": 195,
   "metadata": {
    "ExecuteTime": {
     "end_time": "2020-10-19T15:16:34.761577Z",
     "start_time": "2020-10-19T15:16:34.756580Z"
    }
   },
   "outputs": [],
   "source": [
    "def process_tweet(text,as_lemmas=False,as_tokens=True):\n",
    "#     text=text.copy()\n",
    "    for x in find_urls(text):\n",
    "        text = text.replace(x,'')\n",
    "        \n",
    "    for x in find_retweets(text):\n",
    "        text = text.replace(x,'')    \n",
    "        \n",
    "    for x in find_hashtags(text):\n",
    "        text = text.replace(x,'')    \n",
    "\n",
    "    if as_lemmas:\n",
    "        from nltk.stem.wordnet import WordNetLemmatizer\n",
    "        lemmatizer = WordNetLemmatizer()\n",
    "        text = lemmatizer.lemmatize(text)\n",
    "    \n",
    "    if as_tokens:\n",
    "        text = clean_text(text)\n",
    "    \n",
    "    if len(text)==0:\n",
    "        text=''\n",
    "            \n",
    "    return text"
   ]
  },
  {
   "cell_type": "code",
   "execution_count": 196,
   "metadata": {
    "ExecuteTime": {
     "end_time": "2020-10-19T15:16:34.787884Z",
     "start_time": "2020-10-19T15:16:34.763380Z"
    }
   },
   "outputs": [
    {
     "data": {
      "application/vnd.jupyter.widget-view+json": {
       "model_id": "7b005d6415fc4b25a3825eaef979a310",
       "version_major": 2,
       "version_minor": 0
      },
      "text/plain": [
       "interactive(children=(IntSlider(value=7032, description='i', max=14065), Output()), _dom_classes=('widget-inte…"
      ]
     },
     "metadata": {},
     "output_type": "display_data"
    }
   ],
   "source": [
    "@interact\n",
    "def show_processed_text(i=(0,len(corpus)-1)):\n",
    "    text_in = corpus[i]#.copy()\n",
    "    print(text_in)\n",
    "    text_out = process_tweet(text_in)\n",
    "    print(text_out)\n",
    "    text_out2 = process_tweet(text_in,as_lemmas=True)\n",
    "    print(text_out2)"
   ]
  },
  {
   "cell_type": "code",
   "execution_count": 197,
   "metadata": {
    "ExecuteTime": {
     "end_time": "2020-10-19T15:16:34.793442Z",
     "start_time": "2020-10-19T15:16:34.789649Z"
    }
   },
   "outputs": [
    {
     "data": {
      "text/plain": [
       "['https://t.co/EVAEYD1AgV',\n",
       " 'HAPPY NEW YEAR!',\n",
       " 'Our fantastic First Lady! https://t.co/6iswto4WDI',\n",
       " 'RT @DanScavino: https://t.co/CJRPySkF1Z',\n",
       " 'RT @SenJohnKennedy: I think Speaker Pelosi is having 2nd thoughts about impeaching the President. The Senate should get back to work on USM…',\n",
       " 'Thank you Steve. The greatest Witch Hunt in U.S. history! https://t.co/I3bSNVp6gC']"
      ]
     },
     "execution_count": 197,
     "metadata": {},
     "output_type": "execute_result"
    }
   ],
   "source": [
    "corpus[:6]"
   ]
  },
  {
   "cell_type": "markdown",
   "metadata": {},
   "source": [
    "# ACTIVITY: FINDING TRUMP"
   ]
  },
  {
   "cell_type": "markdown",
   "metadata": {},
   "source": [
    "## Finding Trump with sklearn"
   ]
  },
  {
   "cell_type": "code",
   "execution_count": 198,
   "metadata": {
    "ExecuteTime": {
     "end_time": "2020-10-19T15:16:35.979043Z",
     "start_time": "2020-10-19T15:16:34.795447Z"
    }
   },
   "outputs": [
    {
     "data": {
      "text/html": [
       "<div>\n",
       "<style scoped>\n",
       "    .dataframe tbody tr th:only-of-type {\n",
       "        vertical-align: middle;\n",
       "    }\n",
       "\n",
       "    .dataframe tbody tr th {\n",
       "        vertical-align: top;\n",
       "    }\n",
       "\n",
       "    .dataframe thead th {\n",
       "        text-align: right;\n",
       "    }\n",
       "</style>\n",
       "<table border=\"1\" class=\"dataframe\">\n",
       "  <thead>\n",
       "    <tr style=\"text-align: right;\">\n",
       "      <th></th>\n",
       "      <th>source</th>\n",
       "      <th>text</th>\n",
       "      <th>retweet_count</th>\n",
       "      <th>favorite_count</th>\n",
       "      <th>is_retweet</th>\n",
       "      <th>id_str</th>\n",
       "    </tr>\n",
       "    <tr>\n",
       "      <th>created_at</th>\n",
       "      <th></th>\n",
       "      <th></th>\n",
       "      <th></th>\n",
       "      <th></th>\n",
       "      <th></th>\n",
       "      <th></th>\n",
       "    </tr>\n",
       "  </thead>\n",
       "  <tbody>\n",
       "    <tr>\n",
       "      <th>2020-01-01 03:12:07</th>\n",
       "      <td>Twitter Media Studio</td>\n",
       "      <td>https://t.co/EVAEYD1AgV</td>\n",
       "      <td>25016</td>\n",
       "      <td>108830</td>\n",
       "      <td>False</td>\n",
       "      <td>1212209862094012416</td>\n",
       "    </tr>\n",
       "    <tr>\n",
       "      <th>2020-01-01 01:30:35</th>\n",
       "      <td>Twitter for iPhone</td>\n",
       "      <td>HAPPY NEW YEAR!</td>\n",
       "      <td>85409</td>\n",
       "      <td>576045</td>\n",
       "      <td>False</td>\n",
       "      <td>1212184310389850119</td>\n",
       "    </tr>\n",
       "    <tr>\n",
       "      <th>2020-01-01 01:22:28</th>\n",
       "      <td>Twitter for iPhone</td>\n",
       "      <td>Our fantastic First Lady! https://t.co/6iswto4WDI</td>\n",
       "      <td>27567</td>\n",
       "      <td>132633</td>\n",
       "      <td>False</td>\n",
       "      <td>1212182267113680896</td>\n",
       "    </tr>\n",
       "    <tr>\n",
       "      <th>2020-01-01 01:18:47</th>\n",
       "      <td>Twitter for iPhone</td>\n",
       "      <td>RT @DanScavino: https://t.co/CJRPySkF1Z</td>\n",
       "      <td>10796</td>\n",
       "      <td>0</td>\n",
       "      <td>True</td>\n",
       "      <td>1212181341078458369</td>\n",
       "    </tr>\n",
       "    <tr>\n",
       "      <th>2020-01-01 01:17:43</th>\n",
       "      <td>Twitter for iPhone</td>\n",
       "      <td>RT @SenJohnKennedy: I think Speaker Pelosi is ...</td>\n",
       "      <td>8893</td>\n",
       "      <td>0</td>\n",
       "      <td>True</td>\n",
       "      <td>1212181071988703232</td>\n",
       "    </tr>\n",
       "  </tbody>\n",
       "</table>\n",
       "</div>"
      ],
      "text/plain": [
       "                                   source  \\\n",
       "created_at                                  \n",
       "2020-01-01 03:12:07  Twitter Media Studio   \n",
       "2020-01-01 01:30:35    Twitter for iPhone   \n",
       "2020-01-01 01:22:28    Twitter for iPhone   \n",
       "2020-01-01 01:18:47    Twitter for iPhone   \n",
       "2020-01-01 01:17:43    Twitter for iPhone   \n",
       "\n",
       "                                                                  text  \\\n",
       "created_at                                                               \n",
       "2020-01-01 03:12:07                            https://t.co/EVAEYD1AgV   \n",
       "2020-01-01 01:30:35                                    HAPPY NEW YEAR!   \n",
       "2020-01-01 01:22:28  Our fantastic First Lady! https://t.co/6iswto4WDI   \n",
       "2020-01-01 01:18:47            RT @DanScavino: https://t.co/CJRPySkF1Z   \n",
       "2020-01-01 01:17:43  RT @SenJohnKennedy: I think Speaker Pelosi is ...   \n",
       "\n",
       "                     retweet_count  favorite_count is_retweet  \\\n",
       "created_at                                                      \n",
       "2020-01-01 03:12:07          25016          108830      False   \n",
       "2020-01-01 01:30:35          85409          576045      False   \n",
       "2020-01-01 01:22:28          27567          132633      False   \n",
       "2020-01-01 01:18:47          10796               0       True   \n",
       "2020-01-01 01:17:43           8893               0       True   \n",
       "\n",
       "                                  id_str  \n",
       "created_at                                \n",
       "2020-01-01 03:12:07  1212209862094012416  \n",
       "2020-01-01 01:30:35  1212184310389850119  \n",
       "2020-01-01 01:22:28  1212182267113680896  \n",
       "2020-01-01 01:18:47  1212181341078458369  \n",
       "2020-01-01 01:17:43  1212181071988703232  "
      ]
     },
     "execution_count": 198,
     "metadata": {},
     "output_type": "execute_result"
    }
   ],
   "source": [
    "finding_trump = '../finding-trump.csv'#'https://raw.githubusercontent.com/jirvingphd/online-ds-pt-1007109-text-classification-finding-trump/master/finding-trump.csv'\n",
    "\n",
    "df = pd.read_csv(finding_trump,#'https://raw.githubusercontent.com/jirvingphd/capstone-project-using-trumps-tweets-to-predict-stock-market/master/data/trump_tweets_12012016_to_01012020.csv',\n",
    "                index_col='created_at',parse_dates=['created_at'])\n",
    "df.head()"
   ]
  },
  {
   "cell_type": "markdown",
   "metadata": {},
   "source": [
    "### Early During His Presidency, Trump used an unofficial Android Phone  \n",
    "> During this time period, his staffers were the ones Tweeting from the official iPhone. "
   ]
  },
  {
   "cell_type": "code",
   "execution_count": 199,
   "metadata": {
    "ExecuteTime": {
     "end_time": "2020-10-19T15:16:35.985929Z",
     "start_time": "2020-10-19T15:16:35.980853Z"
    }
   },
   "outputs": [
    {
     "data": {
      "text/plain": [
       "Twitter for iPhone      13277\n",
       "Twitter for Android       364\n",
       "Media Studio              153\n",
       "Twitter Media Studio      136\n",
       "Twitter Web Client         61\n",
       "Twitter for iPad           38\n",
       "Twitter Ads                33\n",
       "Twitter Web App             4\n",
       "Name: source, dtype: int64"
      ]
     },
     "execution_count": 199,
     "metadata": {},
     "output_type": "execute_result"
    }
   ],
   "source": [
    "## Check Value Counts for Source\n",
    "df['source'].value_counts()"
   ]
  },
  {
   "cell_type": "code",
   "execution_count": 200,
   "metadata": {
    "ExecuteTime": {
     "end_time": "2020-10-19T15:16:36.004980Z",
     "start_time": "2020-10-19T15:16:35.987412Z"
    }
   },
   "outputs": [
    {
     "data": {
      "text/html": [
       "<div>\n",
       "<style scoped>\n",
       "    .dataframe tbody tr th:only-of-type {\n",
       "        vertical-align: middle;\n",
       "    }\n",
       "\n",
       "    .dataframe tbody tr th {\n",
       "        vertical-align: top;\n",
       "    }\n",
       "\n",
       "    .dataframe thead th {\n",
       "        text-align: right;\n",
       "    }\n",
       "</style>\n",
       "<table border=\"1\" class=\"dataframe\">\n",
       "  <thead>\n",
       "    <tr style=\"text-align: right;\">\n",
       "      <th></th>\n",
       "      <th>source</th>\n",
       "      <th>text</th>\n",
       "      <th>retweet_count</th>\n",
       "      <th>favorite_count</th>\n",
       "      <th>is_retweet</th>\n",
       "      <th>id_str</th>\n",
       "    </tr>\n",
       "    <tr>\n",
       "      <th>created_at</th>\n",
       "      <th></th>\n",
       "      <th></th>\n",
       "      <th></th>\n",
       "      <th></th>\n",
       "      <th></th>\n",
       "      <th></th>\n",
       "    </tr>\n",
       "  </thead>\n",
       "  <tbody>\n",
       "    <tr>\n",
       "      <th>2017-03-25 14:41:14</th>\n",
       "      <td>Twitter for Android</td>\n",
       "      <td>Watch @JudgeJeanine on @FoxNews tonight at 9:0...</td>\n",
       "      <td>10116</td>\n",
       "      <td>51247</td>\n",
       "      <td>False</td>\n",
       "      <td>845646761704243200</td>\n",
       "    </tr>\n",
       "    <tr>\n",
       "      <th>2017-03-25 14:37:52</th>\n",
       "      <td>Twitter for Android</td>\n",
       "      <td>ObamaCare will explode and we will all get tog...</td>\n",
       "      <td>22518</td>\n",
       "      <td>104321</td>\n",
       "      <td>False</td>\n",
       "      <td>845645916732358656</td>\n",
       "    </tr>\n",
       "    <tr>\n",
       "      <th>2017-03-25 13:29:17</th>\n",
       "      <td>Twitter for iPhone</td>\n",
       "      <td>Happy #MedalOfHonorDay to our heroes! ➡️https:...</td>\n",
       "      <td>14139</td>\n",
       "      <td>68302</td>\n",
       "      <td>False</td>\n",
       "      <td>845628655493677056</td>\n",
       "    </tr>\n",
       "    <tr>\n",
       "      <th>2017-03-24 17:59:42</th>\n",
       "      <td>Twitter for iPhone</td>\n",
       "      <td>Today I was thrilled to announce a commitment ...</td>\n",
       "      <td>20212</td>\n",
       "      <td>89339</td>\n",
       "      <td>False</td>\n",
       "      <td>845334323045765121</td>\n",
       "    </tr>\n",
       "    <tr>\n",
       "      <th>2017-03-24 17:03:46</th>\n",
       "      <td>Twitter for iPhone</td>\n",
       "      <td>Today I was pleased to announce the official a...</td>\n",
       "      <td>12933</td>\n",
       "      <td>66692</td>\n",
       "      <td>False</td>\n",
       "      <td>845320243614547968</td>\n",
       "    </tr>\n",
       "    <tr>\n",
       "      <th>...</th>\n",
       "      <td>...</td>\n",
       "      <td>...</td>\n",
       "      <td>...</td>\n",
       "      <td>...</td>\n",
       "      <td>...</td>\n",
       "      <td>...</td>\n",
       "    </tr>\n",
       "    <tr>\n",
       "      <th>2016-12-03 01:41:30</th>\n",
       "      <td>Twitter for Android</td>\n",
       "      <td>Interesting how the U.S. sells Taiwan billions...</td>\n",
       "      <td>38805</td>\n",
       "      <td>122905</td>\n",
       "      <td>False</td>\n",
       "      <td>804863098138005504</td>\n",
       "    </tr>\n",
       "    <tr>\n",
       "      <th>2016-12-03 00:44:20</th>\n",
       "      <td>Twitter for Android</td>\n",
       "      <td>The President of Taiwan CALLED ME today to wis...</td>\n",
       "      <td>24700</td>\n",
       "      <td>111106</td>\n",
       "      <td>False</td>\n",
       "      <td>804848711599882240</td>\n",
       "    </tr>\n",
       "    <tr>\n",
       "      <th>2016-12-02 02:45:18</th>\n",
       "      <td>Twitter for iPhone</td>\n",
       "      <td>Thank you Ohio! Together we made history – and...</td>\n",
       "      <td>17283</td>\n",
       "      <td>72196</td>\n",
       "      <td>False</td>\n",
       "      <td>804516764562374656</td>\n",
       "    </tr>\n",
       "    <tr>\n",
       "      <th>2016-12-01 22:52:10</th>\n",
       "      <td>Twitter for iPhone</td>\n",
       "      <td>Heading to U.S. Bank Arena in Cincinnati Ohio ...</td>\n",
       "      <td>5564</td>\n",
       "      <td>31256</td>\n",
       "      <td>False</td>\n",
       "      <td>804458095569158144</td>\n",
       "    </tr>\n",
       "    <tr>\n",
       "      <th>2016-12-01 14:38:09</th>\n",
       "      <td>Twitter for Android</td>\n",
       "      <td>Getting ready to leave for the Great State of ...</td>\n",
       "      <td>9834</td>\n",
       "      <td>57249</td>\n",
       "      <td>False</td>\n",
       "      <td>804333771021570048</td>\n",
       "    </tr>\n",
       "  </tbody>\n",
       "</table>\n",
       "<p>617 rows × 6 columns</p>\n",
       "</div>"
      ],
      "text/plain": [
       "                                  source  \\\n",
       "created_at                                 \n",
       "2017-03-25 14:41:14  Twitter for Android   \n",
       "2017-03-25 14:37:52  Twitter for Android   \n",
       "2017-03-25 13:29:17   Twitter for iPhone   \n",
       "2017-03-24 17:59:42   Twitter for iPhone   \n",
       "2017-03-24 17:03:46   Twitter for iPhone   \n",
       "...                                  ...   \n",
       "2016-12-03 01:41:30  Twitter for Android   \n",
       "2016-12-03 00:44:20  Twitter for Android   \n",
       "2016-12-02 02:45:18   Twitter for iPhone   \n",
       "2016-12-01 22:52:10   Twitter for iPhone   \n",
       "2016-12-01 14:38:09  Twitter for Android   \n",
       "\n",
       "                                                                  text  \\\n",
       "created_at                                                               \n",
       "2017-03-25 14:41:14  Watch @JudgeJeanine on @FoxNews tonight at 9:0...   \n",
       "2017-03-25 14:37:52  ObamaCare will explode and we will all get tog...   \n",
       "2017-03-25 13:29:17  Happy #MedalOfHonorDay to our heroes! ➡️https:...   \n",
       "2017-03-24 17:59:42  Today I was thrilled to announce a commitment ...   \n",
       "2017-03-24 17:03:46  Today I was pleased to announce the official a...   \n",
       "...                                                                ...   \n",
       "2016-12-03 01:41:30  Interesting how the U.S. sells Taiwan billions...   \n",
       "2016-12-03 00:44:20  The President of Taiwan CALLED ME today to wis...   \n",
       "2016-12-02 02:45:18  Thank you Ohio! Together we made history – and...   \n",
       "2016-12-01 22:52:10  Heading to U.S. Bank Arena in Cincinnati Ohio ...   \n",
       "2016-12-01 14:38:09  Getting ready to leave for the Great State of ...   \n",
       "\n",
       "                     retweet_count  favorite_count is_retweet  \\\n",
       "created_at                                                      \n",
       "2017-03-25 14:41:14          10116           51247      False   \n",
       "2017-03-25 14:37:52          22518          104321      False   \n",
       "2017-03-25 13:29:17          14139           68302      False   \n",
       "2017-03-24 17:59:42          20212           89339      False   \n",
       "2017-03-24 17:03:46          12933           66692      False   \n",
       "...                            ...             ...        ...   \n",
       "2016-12-03 01:41:30          38805          122905      False   \n",
       "2016-12-03 00:44:20          24700          111106      False   \n",
       "2016-12-02 02:45:18          17283           72196      False   \n",
       "2016-12-01 22:52:10           5564           31256      False   \n",
       "2016-12-01 14:38:09           9834           57249      False   \n",
       "\n",
       "                                 id_str  \n",
       "created_at                               \n",
       "2017-03-25 14:41:14  845646761704243200  \n",
       "2017-03-25 14:37:52  845645916732358656  \n",
       "2017-03-25 13:29:17  845628655493677056  \n",
       "2017-03-24 17:59:42  845334323045765121  \n",
       "2017-03-24 17:03:46  845320243614547968  \n",
       "...                                 ...  \n",
       "2016-12-03 01:41:30  804863098138005504  \n",
       "2016-12-03 00:44:20  804848711599882240  \n",
       "2016-12-02 02:45:18  804516764562374656  \n",
       "2016-12-01 22:52:10  804458095569158144  \n",
       "2016-12-01 14:38:09  804333771021570048  \n",
       "\n",
       "[617 rows x 6 columns]"
      ]
     },
     "execution_count": 200,
     "metadata": {},
     "output_type": "execute_result"
    }
   ],
   "source": [
    "## Get time period where Trump still had his personal Android\n",
    "start_ts = df[ df['source'] == 'Twitter for Android'].index[0]\n",
    "end_ts = df[ df['source'] == 'Twitter for Android'].index[-1]\n",
    "df = df.loc[start_ts:end_ts]\n",
    "df"
   ]
  },
  {
   "cell_type": "code",
   "execution_count": 201,
   "metadata": {
    "ExecuteTime": {
     "end_time": "2020-10-19T15:16:36.011730Z",
     "start_time": "2020-10-19T15:16:36.006361Z"
    }
   },
   "outputs": [
    {
     "data": {
      "text/plain": [
       "Twitter for Android    0.589951\n",
       "Twitter for iPhone     0.387358\n",
       "Twitter Web Client     0.022690\n",
       "Name: source, dtype: float64"
      ]
     },
     "execution_count": 201,
     "metadata": {},
     "output_type": "execute_result"
    }
   ],
   "source": [
    "## Check new value counts \n",
    "df['source'].value_counts(1)"
   ]
  },
  {
   "cell_type": "code",
   "execution_count": 202,
   "metadata": {
    "ExecuteTime": {
     "end_time": "2020-10-19T15:16:36.025175Z",
     "start_time": "2020-10-19T15:16:36.013516Z"
    }
   },
   "outputs": [
    {
     "data": {
      "text/html": [
       "<div>\n",
       "<style scoped>\n",
       "    .dataframe tbody tr th:only-of-type {\n",
       "        vertical-align: middle;\n",
       "    }\n",
       "\n",
       "    .dataframe tbody tr th {\n",
       "        vertical-align: top;\n",
       "    }\n",
       "\n",
       "    .dataframe thead th {\n",
       "        text-align: right;\n",
       "    }\n",
       "</style>\n",
       "<table border=\"1\" class=\"dataframe\">\n",
       "  <thead>\n",
       "    <tr style=\"text-align: right;\">\n",
       "      <th></th>\n",
       "      <th>source</th>\n",
       "      <th>text</th>\n",
       "      <th>retweet_count</th>\n",
       "      <th>favorite_count</th>\n",
       "      <th>is_retweet</th>\n",
       "      <th>id_str</th>\n",
       "    </tr>\n",
       "    <tr>\n",
       "      <th>created_at</th>\n",
       "      <th></th>\n",
       "      <th></th>\n",
       "      <th></th>\n",
       "      <th></th>\n",
       "      <th></th>\n",
       "      <th></th>\n",
       "    </tr>\n",
       "  </thead>\n",
       "  <tbody>\n",
       "    <tr>\n",
       "      <th>2017-01-26 00:03:33</th>\n",
       "      <td>Twitter Web Client</td>\n",
       "      <td>Beginning today the United States of America g...</td>\n",
       "      <td>23095</td>\n",
       "      <td>109885</td>\n",
       "      <td>False</td>\n",
       "      <td>824407390674157568</td>\n",
       "    </tr>\n",
       "    <tr>\n",
       "      <th>2017-01-18 22:21:02</th>\n",
       "      <td>Twitter Web Client</td>\n",
       "      <td>Looking forward to a speedy recovery for Georg...</td>\n",
       "      <td>21141</td>\n",
       "      <td>135864</td>\n",
       "      <td>False</td>\n",
       "      <td>821844875268255744</td>\n",
       "    </tr>\n",
       "    <tr>\n",
       "      <th>2017-01-17 19:58:10</th>\n",
       "      <td>Twitter Web Client</td>\n",
       "      <td>RT @EricTrump: Thank you to @GolfDigest for th...</td>\n",
       "      <td>9066</td>\n",
       "      <td>0</td>\n",
       "      <td>True</td>\n",
       "      <td>821446536278274050</td>\n",
       "    </tr>\n",
       "    <tr>\n",
       "      <th>2017-01-17 19:36:21</th>\n",
       "      <td>Twitter Web Client</td>\n",
       "      <td>RT @MoskowitzEva: .@BetsyDeVos has the talent ...</td>\n",
       "      <td>6856</td>\n",
       "      <td>0</td>\n",
       "      <td>True</td>\n",
       "      <td>821441044097224704</td>\n",
       "    </tr>\n",
       "    <tr>\n",
       "      <th>2017-01-17 17:55:38</th>\n",
       "      <td>Twitter Web Client</td>\n",
       "      <td>Thank you to General Motors and Walmart for st...</td>\n",
       "      <td>21503</td>\n",
       "      <td>103996</td>\n",
       "      <td>False</td>\n",
       "      <td>821415698278875137</td>\n",
       "    </tr>\n",
       "    <tr>\n",
       "      <th>2017-01-17 17:36:45</th>\n",
       "      <td>Twitter Web Client</td>\n",
       "      <td>How Trump Won--And How The Media Missed It htt...</td>\n",
       "      <td>11434</td>\n",
       "      <td>42827</td>\n",
       "      <td>False</td>\n",
       "      <td>821410947864653825</td>\n",
       "    </tr>\n",
       "    <tr>\n",
       "      <th>2017-01-13 17:42:42</th>\n",
       "      <td>Twitter Web Client</td>\n",
       "      <td>A beautiful funeral today for a real NYC hero ...</td>\n",
       "      <td>21197</td>\n",
       "      <td>109424</td>\n",
       "      <td>False</td>\n",
       "      <td>819962894616064001</td>\n",
       "    </tr>\n",
       "    <tr>\n",
       "      <th>2017-01-06 19:30:09</th>\n",
       "      <td>Twitter Web Client</td>\n",
       "      <td>Monitoring the terrible situation in Florida. ...</td>\n",
       "      <td>22189</td>\n",
       "      <td>96091</td>\n",
       "      <td>False</td>\n",
       "      <td>817453219613917185</td>\n",
       "    </tr>\n",
       "    <tr>\n",
       "      <th>2017-01-04 18:52:09</th>\n",
       "      <td>Twitter Web Client</td>\n",
       "      <td>Jackie Evancho's album sales have skyrocketed ...</td>\n",
       "      <td>17093</td>\n",
       "      <td>79498</td>\n",
       "      <td>False</td>\n",
       "      <td>816718880731234304</td>\n",
       "    </tr>\n",
       "    <tr>\n",
       "      <th>2016-12-16 16:03:09</th>\n",
       "      <td>Twitter Web Client</td>\n",
       "      <td>Well we all did it together! I hope the \"MOVEM...</td>\n",
       "      <td>18146</td>\n",
       "      <td>70675</td>\n",
       "      <td>False</td>\n",
       "      <td>809790978332786689</td>\n",
       "    </tr>\n",
       "    <tr>\n",
       "      <th>2016-12-14 18:07:55</th>\n",
       "      <td>Twitter Web Client</td>\n",
       "      <td>.@BillGates and @JimBrownNFL32 in my Trump Tow...</td>\n",
       "      <td>14126</td>\n",
       "      <td>57955</td>\n",
       "      <td>False</td>\n",
       "      <td>809097603010981888</td>\n",
       "    </tr>\n",
       "    <tr>\n",
       "      <th>2016-12-06 19:10:27</th>\n",
       "      <td>Twitter Web Client</td>\n",
       "      <td>Masa said he would never do this had we (Trump...</td>\n",
       "      <td>13140</td>\n",
       "      <td>48486</td>\n",
       "      <td>False</td>\n",
       "      <td>806214236053667842</td>\n",
       "    </tr>\n",
       "    <tr>\n",
       "      <th>2016-12-06 19:09:49</th>\n",
       "      <td>Twitter Web Client</td>\n",
       "      <td>Masa (SoftBank) of Japan has agreed to invest ...</td>\n",
       "      <td>28709</td>\n",
       "      <td>88915</td>\n",
       "      <td>False</td>\n",
       "      <td>806214078465245185</td>\n",
       "    </tr>\n",
       "    <tr>\n",
       "      <th>2016-12-05 16:00:27</th>\n",
       "      <td>Twitter Web Client</td>\n",
       "      <td>If the press would cover me accurately &amp;amp; h...</td>\n",
       "      <td>38653</td>\n",
       "      <td>141203</td>\n",
       "      <td>False</td>\n",
       "      <td>805804034309427200</td>\n",
       "    </tr>\n",
       "  </tbody>\n",
       "</table>\n",
       "</div>"
      ],
      "text/plain": [
       "                                 source  \\\n",
       "created_at                                \n",
       "2017-01-26 00:03:33  Twitter Web Client   \n",
       "2017-01-18 22:21:02  Twitter Web Client   \n",
       "2017-01-17 19:58:10  Twitter Web Client   \n",
       "2017-01-17 19:36:21  Twitter Web Client   \n",
       "2017-01-17 17:55:38  Twitter Web Client   \n",
       "2017-01-17 17:36:45  Twitter Web Client   \n",
       "2017-01-13 17:42:42  Twitter Web Client   \n",
       "2017-01-06 19:30:09  Twitter Web Client   \n",
       "2017-01-04 18:52:09  Twitter Web Client   \n",
       "2016-12-16 16:03:09  Twitter Web Client   \n",
       "2016-12-14 18:07:55  Twitter Web Client   \n",
       "2016-12-06 19:10:27  Twitter Web Client   \n",
       "2016-12-06 19:09:49  Twitter Web Client   \n",
       "2016-12-05 16:00:27  Twitter Web Client   \n",
       "\n",
       "                                                                  text  \\\n",
       "created_at                                                               \n",
       "2017-01-26 00:03:33  Beginning today the United States of America g...   \n",
       "2017-01-18 22:21:02  Looking forward to a speedy recovery for Georg...   \n",
       "2017-01-17 19:58:10  RT @EricTrump: Thank you to @GolfDigest for th...   \n",
       "2017-01-17 19:36:21  RT @MoskowitzEva: .@BetsyDeVos has the talent ...   \n",
       "2017-01-17 17:55:38  Thank you to General Motors and Walmart for st...   \n",
       "2017-01-17 17:36:45  How Trump Won--And How The Media Missed It htt...   \n",
       "2017-01-13 17:42:42  A beautiful funeral today for a real NYC hero ...   \n",
       "2017-01-06 19:30:09  Monitoring the terrible situation in Florida. ...   \n",
       "2017-01-04 18:52:09  Jackie Evancho's album sales have skyrocketed ...   \n",
       "2016-12-16 16:03:09  Well we all did it together! I hope the \"MOVEM...   \n",
       "2016-12-14 18:07:55  .@BillGates and @JimBrownNFL32 in my Trump Tow...   \n",
       "2016-12-06 19:10:27  Masa said he would never do this had we (Trump...   \n",
       "2016-12-06 19:09:49  Masa (SoftBank) of Japan has agreed to invest ...   \n",
       "2016-12-05 16:00:27  If the press would cover me accurately &amp; h...   \n",
       "\n",
       "                     retweet_count  favorite_count is_retweet  \\\n",
       "created_at                                                      \n",
       "2017-01-26 00:03:33          23095          109885      False   \n",
       "2017-01-18 22:21:02          21141          135864      False   \n",
       "2017-01-17 19:58:10           9066               0       True   \n",
       "2017-01-17 19:36:21           6856               0       True   \n",
       "2017-01-17 17:55:38          21503          103996      False   \n",
       "2017-01-17 17:36:45          11434           42827      False   \n",
       "2017-01-13 17:42:42          21197          109424      False   \n",
       "2017-01-06 19:30:09          22189           96091      False   \n",
       "2017-01-04 18:52:09          17093           79498      False   \n",
       "2016-12-16 16:03:09          18146           70675      False   \n",
       "2016-12-14 18:07:55          14126           57955      False   \n",
       "2016-12-06 19:10:27          13140           48486      False   \n",
       "2016-12-06 19:09:49          28709           88915      False   \n",
       "2016-12-05 16:00:27          38653          141203      False   \n",
       "\n",
       "                                 id_str  \n",
       "created_at                               \n",
       "2017-01-26 00:03:33  824407390674157568  \n",
       "2017-01-18 22:21:02  821844875268255744  \n",
       "2017-01-17 19:58:10  821446536278274050  \n",
       "2017-01-17 19:36:21  821441044097224704  \n",
       "2017-01-17 17:55:38  821415698278875137  \n",
       "2017-01-17 17:36:45  821410947864653825  \n",
       "2017-01-13 17:42:42  819962894616064001  \n",
       "2017-01-06 19:30:09  817453219613917185  \n",
       "2017-01-04 18:52:09  816718880731234304  \n",
       "2016-12-16 16:03:09  809790978332786689  \n",
       "2016-12-14 18:07:55  809097603010981888  \n",
       "2016-12-06 19:10:27  806214236053667842  \n",
       "2016-12-06 19:09:49  806214078465245185  \n",
       "2016-12-05 16:00:27  805804034309427200  "
      ]
     },
     "execution_count": 202,
     "metadata": {},
     "output_type": "execute_result"
    }
   ],
   "source": [
    "## What do the \"Web\" tweets look like?\n",
    "df[df['source'].str.contains('Web')]"
   ]
  },
  {
   "cell_type": "code",
   "execution_count": 203,
   "metadata": {
    "ExecuteTime": {
     "end_time": "2020-10-19T15:16:36.043013Z",
     "start_time": "2020-10-19T15:16:36.026699Z"
    }
   },
   "outputs": [
    {
     "data": {
      "text/html": [
       "<div>\n",
       "<style scoped>\n",
       "    .dataframe tbody tr th:only-of-type {\n",
       "        vertical-align: middle;\n",
       "    }\n",
       "\n",
       "    .dataframe tbody tr th {\n",
       "        vertical-align: top;\n",
       "    }\n",
       "\n",
       "    .dataframe thead th {\n",
       "        text-align: right;\n",
       "    }\n",
       "</style>\n",
       "<table border=\"1\" class=\"dataframe\">\n",
       "  <thead>\n",
       "    <tr style=\"text-align: right;\">\n",
       "      <th></th>\n",
       "      <th>source</th>\n",
       "      <th>text</th>\n",
       "      <th>retweet_count</th>\n",
       "      <th>favorite_count</th>\n",
       "      <th>is_retweet</th>\n",
       "      <th>id_str</th>\n",
       "    </tr>\n",
       "    <tr>\n",
       "      <th>created_at</th>\n",
       "      <th></th>\n",
       "      <th></th>\n",
       "      <th></th>\n",
       "      <th></th>\n",
       "      <th></th>\n",
       "      <th></th>\n",
       "    </tr>\n",
       "  </thead>\n",
       "  <tbody>\n",
       "    <tr>\n",
       "      <th>2017-03-25 14:41:14</th>\n",
       "      <td>Twitter for Android</td>\n",
       "      <td>Watch @JudgeJeanine on @FoxNews tonight at 9:0...</td>\n",
       "      <td>10116</td>\n",
       "      <td>51247</td>\n",
       "      <td>False</td>\n",
       "      <td>845646761704243200</td>\n",
       "    </tr>\n",
       "    <tr>\n",
       "      <th>2017-03-25 14:37:52</th>\n",
       "      <td>Twitter for Android</td>\n",
       "      <td>ObamaCare will explode and we will all get tog...</td>\n",
       "      <td>22518</td>\n",
       "      <td>104321</td>\n",
       "      <td>False</td>\n",
       "      <td>845645916732358656</td>\n",
       "    </tr>\n",
       "    <tr>\n",
       "      <th>2017-03-25 13:29:17</th>\n",
       "      <td>Twitter for iPhone</td>\n",
       "      <td>Happy #MedalOfHonorDay to our heroes! ➡️https:...</td>\n",
       "      <td>14139</td>\n",
       "      <td>68302</td>\n",
       "      <td>False</td>\n",
       "      <td>845628655493677056</td>\n",
       "    </tr>\n",
       "    <tr>\n",
       "      <th>2017-03-24 17:59:42</th>\n",
       "      <td>Twitter for iPhone</td>\n",
       "      <td>Today I was thrilled to announce a commitment ...</td>\n",
       "      <td>20212</td>\n",
       "      <td>89339</td>\n",
       "      <td>False</td>\n",
       "      <td>845334323045765121</td>\n",
       "    </tr>\n",
       "    <tr>\n",
       "      <th>2017-03-24 17:03:46</th>\n",
       "      <td>Twitter for iPhone</td>\n",
       "      <td>Today I was pleased to announce the official a...</td>\n",
       "      <td>12933</td>\n",
       "      <td>66692</td>\n",
       "      <td>False</td>\n",
       "      <td>845320243614547968</td>\n",
       "    </tr>\n",
       "    <tr>\n",
       "      <th>...</th>\n",
       "      <td>...</td>\n",
       "      <td>...</td>\n",
       "      <td>...</td>\n",
       "      <td>...</td>\n",
       "      <td>...</td>\n",
       "      <td>...</td>\n",
       "    </tr>\n",
       "    <tr>\n",
       "      <th>2016-12-03 01:41:30</th>\n",
       "      <td>Twitter for Android</td>\n",
       "      <td>Interesting how the U.S. sells Taiwan billions...</td>\n",
       "      <td>38805</td>\n",
       "      <td>122905</td>\n",
       "      <td>False</td>\n",
       "      <td>804863098138005504</td>\n",
       "    </tr>\n",
       "    <tr>\n",
       "      <th>2016-12-03 00:44:20</th>\n",
       "      <td>Twitter for Android</td>\n",
       "      <td>The President of Taiwan CALLED ME today to wis...</td>\n",
       "      <td>24700</td>\n",
       "      <td>111106</td>\n",
       "      <td>False</td>\n",
       "      <td>804848711599882240</td>\n",
       "    </tr>\n",
       "    <tr>\n",
       "      <th>2016-12-02 02:45:18</th>\n",
       "      <td>Twitter for iPhone</td>\n",
       "      <td>Thank you Ohio! Together we made history – and...</td>\n",
       "      <td>17283</td>\n",
       "      <td>72196</td>\n",
       "      <td>False</td>\n",
       "      <td>804516764562374656</td>\n",
       "    </tr>\n",
       "    <tr>\n",
       "      <th>2016-12-01 22:52:10</th>\n",
       "      <td>Twitter for iPhone</td>\n",
       "      <td>Heading to U.S. Bank Arena in Cincinnati Ohio ...</td>\n",
       "      <td>5564</td>\n",
       "      <td>31256</td>\n",
       "      <td>False</td>\n",
       "      <td>804458095569158144</td>\n",
       "    </tr>\n",
       "    <tr>\n",
       "      <th>2016-12-01 14:38:09</th>\n",
       "      <td>Twitter for Android</td>\n",
       "      <td>Getting ready to leave for the Great State of ...</td>\n",
       "      <td>9834</td>\n",
       "      <td>57249</td>\n",
       "      <td>False</td>\n",
       "      <td>804333771021570048</td>\n",
       "    </tr>\n",
       "  </tbody>\n",
       "</table>\n",
       "<p>603 rows × 6 columns</p>\n",
       "</div>"
      ],
      "text/plain": [
       "                                  source  \\\n",
       "created_at                                 \n",
       "2017-03-25 14:41:14  Twitter for Android   \n",
       "2017-03-25 14:37:52  Twitter for Android   \n",
       "2017-03-25 13:29:17   Twitter for iPhone   \n",
       "2017-03-24 17:59:42   Twitter for iPhone   \n",
       "2017-03-24 17:03:46   Twitter for iPhone   \n",
       "...                                  ...   \n",
       "2016-12-03 01:41:30  Twitter for Android   \n",
       "2016-12-03 00:44:20  Twitter for Android   \n",
       "2016-12-02 02:45:18   Twitter for iPhone   \n",
       "2016-12-01 22:52:10   Twitter for iPhone   \n",
       "2016-12-01 14:38:09  Twitter for Android   \n",
       "\n",
       "                                                                  text  \\\n",
       "created_at                                                               \n",
       "2017-03-25 14:41:14  Watch @JudgeJeanine on @FoxNews tonight at 9:0...   \n",
       "2017-03-25 14:37:52  ObamaCare will explode and we will all get tog...   \n",
       "2017-03-25 13:29:17  Happy #MedalOfHonorDay to our heroes! ➡️https:...   \n",
       "2017-03-24 17:59:42  Today I was thrilled to announce a commitment ...   \n",
       "2017-03-24 17:03:46  Today I was pleased to announce the official a...   \n",
       "...                                                                ...   \n",
       "2016-12-03 01:41:30  Interesting how the U.S. sells Taiwan billions...   \n",
       "2016-12-03 00:44:20  The President of Taiwan CALLED ME today to wis...   \n",
       "2016-12-02 02:45:18  Thank you Ohio! Together we made history – and...   \n",
       "2016-12-01 22:52:10  Heading to U.S. Bank Arena in Cincinnati Ohio ...   \n",
       "2016-12-01 14:38:09  Getting ready to leave for the Great State of ...   \n",
       "\n",
       "                     retweet_count  favorite_count is_retweet  \\\n",
       "created_at                                                      \n",
       "2017-03-25 14:41:14          10116           51247      False   \n",
       "2017-03-25 14:37:52          22518          104321      False   \n",
       "2017-03-25 13:29:17          14139           68302      False   \n",
       "2017-03-24 17:59:42          20212           89339      False   \n",
       "2017-03-24 17:03:46          12933           66692      False   \n",
       "...                            ...             ...        ...   \n",
       "2016-12-03 01:41:30          38805          122905      False   \n",
       "2016-12-03 00:44:20          24700          111106      False   \n",
       "2016-12-02 02:45:18          17283           72196      False   \n",
       "2016-12-01 22:52:10           5564           31256      False   \n",
       "2016-12-01 14:38:09           9834           57249      False   \n",
       "\n",
       "                                 id_str  \n",
       "created_at                               \n",
       "2017-03-25 14:41:14  845646761704243200  \n",
       "2017-03-25 14:37:52  845645916732358656  \n",
       "2017-03-25 13:29:17  845628655493677056  \n",
       "2017-03-24 17:59:42  845334323045765121  \n",
       "2017-03-24 17:03:46  845320243614547968  \n",
       "...                                 ...  \n",
       "2016-12-03 01:41:30  804863098138005504  \n",
       "2016-12-03 00:44:20  804848711599882240  \n",
       "2016-12-02 02:45:18  804516764562374656  \n",
       "2016-12-01 22:52:10  804458095569158144  \n",
       "2016-12-01 14:38:09  804333771021570048  \n",
       "\n",
       "[603 rows x 6 columns]"
      ]
     },
     "execution_count": 203,
     "metadata": {},
     "output_type": "execute_result"
    }
   ],
   "source": [
    "## Remove the Web tweets\n",
    "df = df[~df['source'].str.contains('Web')]\n",
    "df"
   ]
  },
  {
   "cell_type": "code",
   "execution_count": 204,
   "metadata": {
    "ExecuteTime": {
     "end_time": "2020-10-19T15:16:36.050081Z",
     "start_time": "2020-10-19T15:16:36.044797Z"
    }
   },
   "outputs": [
    {
     "data": {
      "text/plain": [
       "Twitter for Android    0.603648\n",
       "Twitter for iPhone     0.396352\n",
       "Name: source, dtype: float64"
      ]
     },
     "execution_count": 204,
     "metadata": {},
     "output_type": "execute_result"
    }
   ],
   "source": [
    "df['source'].value_counts(normalize=True)"
   ]
  },
  {
   "cell_type": "code",
   "execution_count": 92,
   "metadata": {
    "ExecuteTime": {
     "end_time": "2020-10-19T14:53:40.873199Z",
     "start_time": "2020-10-19T14:53:40.865720Z"
    }
   },
   "outputs": [
    {
     "data": {
      "text/plain": [
       "1    0.603648\n",
       "0    0.396352\n",
       "Name: trump_tweet, dtype: float64"
      ]
     },
     "execution_count": 92,
     "metadata": {},
     "output_type": "execute_result"
    }
   ],
   "source": [
    "df['trump_tweet'] = (df['source'] == 'Twitter for Android').astype(int)\n",
    "df['trump_tweet'].value_counts(normalize=True)"
   ]
  },
  {
   "cell_type": "code",
   "execution_count": null,
   "metadata": {},
   "outputs": [],
   "source": [
    "## Make X and y\n",
    "y = df['trump_tweet']\n",
    "display(y.value_counts(1))\n",
    "X = df['text']#.apply(tokenizer.tokenize)\n",
    "X.head()"
   ]
  },
  {
   "cell_type": "code",
   "execution_count": 95,
   "metadata": {
    "ExecuteTime": {
     "end_time": "2020-10-19T14:53:40.894149Z",
     "start_time": "2020-10-19T14:53:40.888526Z"
    }
   },
   "outputs": [],
   "source": [
    "from sklearn.model_selection import train_test_split\n",
    "X_train,X_test,y_train,y_test = train_test_split(X,y,stratify=y,test_size=0.3,random_state=42)"
   ]
  },
  {
   "cell_type": "code",
   "execution_count": 96,
   "metadata": {
    "ExecuteTime": {
     "end_time": "2020-10-19T14:53:40.901767Z",
     "start_time": "2020-10-19T14:53:40.895870Z"
    }
   },
   "outputs": [
    {
     "data": {
      "text/plain": [
       "1    0.604265\n",
       "0    0.395735\n",
       "Name: trump_tweet, dtype: float64"
      ]
     },
     "execution_count": 96,
     "metadata": {},
     "output_type": "execute_result"
    }
   ],
   "source": [
    "y_train.value_counts(normalize=True)"
   ]
  },
  {
   "cell_type": "code",
   "execution_count": 97,
   "metadata": {
    "ExecuteTime": {
     "end_time": "2020-10-19T14:53:40.908630Z",
     "start_time": "2020-10-19T14:53:40.903392Z"
    }
   },
   "outputs": [
    {
     "data": {
      "text/plain": [
       "1    0.60221\n",
       "0    0.39779\n",
       "Name: trump_tweet, dtype: float64"
      ]
     },
     "execution_count": 97,
     "metadata": {},
     "output_type": "execute_result"
    }
   ],
   "source": [
    "y_test.value_counts(normalize=True)"
   ]
  },
  {
   "cell_type": "code",
   "execution_count": 98,
   "metadata": {
    "ExecuteTime": {
     "end_time": "2020-10-19T14:53:40.915780Z",
     "start_time": "2020-10-19T14:53:40.910504Z"
    }
   },
   "outputs": [
    {
     "data": {
      "text/plain": [
       "created_at\n",
       "2017-03-13 20:57:02    Proud to welcome our great Cabinet this aftern...\n",
       "2017-02-07 02:33:55    The failing @nytimes was forced to apologize t...\n",
       "2017-01-19 20:21:36    Join me at 4pm over at the Lincoln Memorial wi...\n",
       "2017-01-29 13:00:32    Somebody with aptitude and conviction should b...\n",
       "2016-12-14 00:52:40    RT @DanScavino: Join #PEOTUS Trump &amp; #VPEO...\n",
       "                                             ...                        \n",
       "2016-12-30 19:46:55    Join @AmerIcan32 founded by Hall of Fame legen...\n",
       "2017-02-09 13:26:07    Sen. McCain should not be talking about the su...\n",
       "2017-01-25 22:05:59    I will be interviewed by @DavidMuir tonight at...\n",
       "2017-01-31 11:21:52    Nancy Pelosi and Fake Tears Chuck Schumer held...\n",
       "2017-01-25 12:13:46    even those registered to vote who are dead (an...\n",
       "Name: text, Length: 422, dtype: object"
      ]
     },
     "execution_count": 98,
     "metadata": {},
     "output_type": "execute_result"
    }
   ],
   "source": [
    "X_train"
   ]
  },
  {
   "cell_type": "markdown",
   "metadata": {},
   "source": [
    "### Tokenization & Vectorization "
   ]
  },
  {
   "cell_type": "code",
   "execution_count": 99,
   "metadata": {
    "ExecuteTime": {
     "end_time": "2020-10-19T14:53:40.919840Z",
     "start_time": "2020-10-19T14:53:40.917523Z"
    }
   },
   "outputs": [],
   "source": [
    "import nltk\n",
    "tokenizer = nltk.tokenize.TweetTokenizer(preserve_case=False,)"
   ]
  },
  {
   "cell_type": "code",
   "execution_count": 205,
   "metadata": {
    "ExecuteTime": {
     "end_time": "2020-10-19T15:27:21.495394Z",
     "start_time": "2020-10-19T15:27:21.413309Z"
    }
   },
   "outputs": [
    {
     "data": {
      "text/plain": [
       "<422x2147 sparse matrix of type '<class 'numpy.float64'>'\n",
       "\twith 4812 stored elements in Compressed Sparse Row format>"
      ]
     },
     "execution_count": 205,
     "metadata": {},
     "output_type": "execute_result"
    }
   ],
   "source": [
    "from sklearn.feature_extraction.text import TfidfVectorizer,CountVectorizer\n",
    "from sklearn.ensemble import RandomForestClassifier\n",
    "from sklearn.naive_bayes import MultinomialNB\n",
    "\n",
    "vectorizer = TfidfVectorizer(tokenizer=tokenizer.tokenize,\n",
    "                             stop_words=stopwords_list)\n",
    "\n",
    "X_train_tfidf = vectorizer.fit_transform(X_train)\n",
    "X_test_tfidf = vectorizer.transform(X_test)\n",
    "X_train_tfidf"
   ]
  },
  {
   "cell_type": "markdown",
   "metadata": {},
   "source": [
    "### Modeling Continued"
   ]
  },
  {
   "cell_type": "code",
   "execution_count": 206,
   "metadata": {
    "ExecuteTime": {
     "end_time": "2020-10-19T15:27:34.567281Z",
     "start_time": "2020-10-19T15:27:34.350383Z"
    }
   },
   "outputs": [
    {
     "data": {
      "text/plain": [
       "RandomForestClassifier(class_weight='balanced')"
      ]
     },
     "execution_count": 206,
     "metadata": {},
     "output_type": "execute_result"
    }
   ],
   "source": [
    "rf = RandomForestClassifier(class_weight='balanced')\n",
    "rf.fit(X_train_tfidf,y_train)"
   ]
  },
  {
   "cell_type": "code",
   "execution_count": 207,
   "metadata": {
    "ExecuteTime": {
     "end_time": "2020-10-19T15:27:35.937089Z",
     "start_time": "2020-10-19T15:27:35.897710Z"
    }
   },
   "outputs": [],
   "source": [
    "y_hat_test = rf.predict(X_test_tfidf)\n",
    "y_hat_train = rf.predict(X_train_tfidf)"
   ]
  },
  {
   "cell_type": "code",
   "execution_count": 227,
   "metadata": {
    "ExecuteTime": {
     "end_time": "2020-10-19T15:33:01.112623Z",
     "start_time": "2020-10-19T15:33:00.916952Z"
    }
   },
   "outputs": [
    {
     "name": "stdout",
     "output_type": "stream",
     "text": [
      "              precision    recall  f1-score   support\n",
      "\n",
      "   Not Trump       0.93      0.79      0.86        72\n",
      "       Trump       0.88      0.96      0.92       109\n",
      "\n",
      "    accuracy                           0.90       181\n",
      "   macro avg       0.90      0.88      0.89       181\n",
      "weighted avg       0.90      0.90      0.89       181\n",
      "\n"
     ]
    },
    {
     "data": {
      "image/png": "[encoded data removed]",
      "text/plain": [
       "<Figure size 432x288 with 2 Axes>"
      ]
     },
     "metadata": {
      "needs_background": "light"
     },
     "output_type": "display_data"
    }
   ],
   "source": [
    "from sklearn import metrics\n",
    "import matplotlib.pyplot as plt\n",
    "# my_scorer = metrics.make_scorer(evaluate_model,)\n",
    "\n",
    "def evaluate_model(y_test,y_hat_test,X_test,clf=None,\n",
    "                  scoring=metrics.recall_score,verbose=False,\n",
    "                  scorer=False,classes=['Not Trump','Trump']):\n",
    "\n",
    "    print(metrics.classification_report(y_test,y_hat_test,\n",
    "                                        target_names=classes))\n",
    "    \n",
    "    metrics.plot_confusion_matrix(clf,X_test,y_test,normalize='true',\n",
    "                                 cmap='Blues',display_labels=classes)\n",
    "    plt.show()\n",
    "    if verbose:\n",
    "        print(\"MODEL PARAMETERS:\")\n",
    "        print(pd.Series(rf.get_params()))\n",
    "        \n",
    "    if scorer:\n",
    "        \n",
    "        return scoring(y_test,y_hat_test)\n",
    "    \n",
    "    \n",
    "\n",
    "evaluate_model(y_test,y_hat_test,X_test_tfidf,rf)"
   ]
  },
  {
   "cell_type": "markdown",
   "metadata": {},
   "source": [
    "### Note About Pipelines and GridSearch"
   ]
  },
  {
   "cell_type": "markdown",
   "metadata": {},
   "source": [
    "- You may want to to this process in multiple steps (first Count Vectorize, then transform to TF or TF-IDF.\n",
    "- Can then use these in a Pipeline to be able to GridSearch more aspect of the text preprocessing\n",
    "\n",
    "```python\n",
    "from sklearn.feature_extraction.text import CountVectorizer,TfidfTransformer #TfidfVectorizer\n",
    "from sklearn.pipeline import Pipeline\n",
    "\n",
    "count_vect = CountVectorizer()\n",
    "#X_train_counts = count_vect.fit_transform(twenty_train.data)\n",
    "\n",
    "tf_transformer = TfidfTransformer(use_idf=False)\n",
    "#tf_transformer.fit(X_train_counts)\n",
    "#X_train_tf = tf_transformer.transform(X_train_counts)\n",
    "#X_train_tf.shape\n",
    "\n",
    "\n",
    "text_pipe = Pip\n",
    "\n",
    "```\n"
   ]
  },
  {
   "cell_type": "code",
   "execution_count": 228,
   "metadata": {
    "ExecuteTime": {
     "end_time": "2020-10-19T15:33:14.344783Z",
     "start_time": "2020-10-19T15:33:14.340419Z"
    }
   },
   "outputs": [],
   "source": [
    "from sklearn.pipeline import Pipeline\n",
    "from sklearn.feature_extraction.text import CountVectorizer,TfidfTransformer #TfidfVectorizer\n",
    "from sklearn.ensemble import RandomForestClassifier\n",
    "from sklearn.naive_bayes import MultinomialNB\n",
    "\n",
    "count_vect = CountVectorizer()\n",
    "tf_transform = TfidfTransformer(use_idf=True)\n",
    "\n",
    "text_pipe = Pipeline(steps=[\n",
    "    ('count_vectorizer',count_vect),\n",
    "    ('tf_transformer',tf_transform)])\n",
    "\n",
    "full_pipe = Pipeline(steps=[\n",
    "    ('text_pipe',text_pipe),\n",
    "    ('clf',RandomForestClassifier(class_weight='balanced'))\n",
    "])"
   ]
  },
  {
   "cell_type": "code",
   "execution_count": 229,
   "metadata": {
    "ExecuteTime": {
     "end_time": "2020-10-19T15:33:14.753049Z",
     "start_time": "2020-10-19T15:33:14.748158Z"
    }
   },
   "outputs": [
    {
     "data": {
      "text/plain": [
       "created_at\n",
       "2017-03-13 20:57:02    Proud to welcome our great Cabinet this aftern...\n",
       "2017-02-07 02:33:55    The failing @nytimes was forced to apologize t...\n",
       "2017-01-19 20:21:36    Join me at 4pm over at the Lincoln Memorial wi...\n",
       "2017-01-29 13:00:32    Somebody with aptitude and conviction should b...\n",
       "2016-12-14 00:52:40    RT @DanScavino: Join #PEOTUS Trump &amp; #VPEO...\n",
       "                                             ...                        \n",
       "2016-12-30 19:46:55    Join @AmerIcan32 founded by Hall of Fame legen...\n",
       "2017-02-09 13:26:07    Sen. McCain should not be talking about the su...\n",
       "2017-01-25 22:05:59    I will be interviewed by @DavidMuir tonight at...\n",
       "2017-01-31 11:21:52    Nancy Pelosi and Fake Tears Chuck Schumer held...\n",
       "2017-01-25 12:13:46    even those registered to vote who are dead (an...\n",
       "Name: text, Length: 422, dtype: object"
      ]
     },
     "execution_count": 229,
     "metadata": {},
     "output_type": "execute_result"
    }
   ],
   "source": [
    "X_train"
   ]
  },
  {
   "cell_type": "code",
   "execution_count": 230,
   "metadata": {
    "ExecuteTime": {
     "end_time": "2020-10-19T15:33:15.314551Z",
     "start_time": "2020-10-19T15:33:15.292123Z"
    }
   },
   "outputs": [
    {
     "data": {
      "text/plain": [
       "<422x2179 sparse matrix of type '<class 'numpy.float64'>'\n",
       "\twith 7784 stored elements in Compressed Sparse Row format>"
      ]
     },
     "execution_count": 230,
     "metadata": {},
     "output_type": "execute_result"
    }
   ],
   "source": [
    "X_train_pipe = text_pipe.fit_transform(X_train)\n",
    "X_test_pipe = text_pipe.transform(X_test)\n",
    "X_train_pipe"
   ]
  },
  {
   "cell_type": "code",
   "execution_count": 231,
   "metadata": {
    "ExecuteTime": {
     "end_time": "2020-10-19T15:33:16.371436Z",
     "start_time": "2020-10-19T15:33:16.016726Z"
    }
   },
   "outputs": [
    {
     "name": "stdout",
     "output_type": "stream",
     "text": [
      "              precision    recall  f1-score   support\n",
      "\n",
      "   Not Trump       0.93      0.74      0.82        72\n",
      "       Trump       0.85      0.96      0.90       109\n",
      "\n",
      "    accuracy                           0.87       181\n",
      "   macro avg       0.89      0.85      0.86       181\n",
      "weighted avg       0.88      0.87      0.87       181\n",
      "\n"
     ]
    },
    {
     "data": {
      "image/png": "[encoded data removed]",
      "text/plain": [
       "<Figure size 432x288 with 2 Axes>"
      ]
     },
     "metadata": {
      "needs_background": "light"
     },
     "output_type": "display_data"
    }
   ],
   "source": [
    "full_pipe.fit(X_train,y_train)\n",
    "y_hat_test = full_pipe.predict(X_test)\n",
    "evaluate_model(y_test,y_hat_test,X_test,full_pipe)"
   ]
  },
  {
   "cell_type": "code",
   "execution_count": 235,
   "metadata": {
    "ExecuteTime": {
     "end_time": "2020-10-19T15:35:16.923979Z",
     "start_time": "2020-10-19T15:35:16.921485Z"
    }
   },
   "outputs": [],
   "source": [
    "from sklearn import set_config\n",
    "set_config(display='text')"
   ]
  },
  {
   "cell_type": "code",
   "execution_count": 236,
   "metadata": {
    "ExecuteTime": {
     "end_time": "2020-10-19T15:35:17.197204Z",
     "start_time": "2020-10-19T15:35:17.178145Z"
    }
   },
   "outputs": [
    {
     "data": {
      "text/plain": [
       "Pipeline(steps=[('text_pipe',\n",
       "                 Pipeline(steps=[('count_vectorizer', CountVectorizer()),\n",
       "                                 ('tf_transformer', TfidfTransformer())])),\n",
       "                ('clf', RandomForestClassifier(class_weight='balanced'))])"
      ]
     },
     "execution_count": 236,
     "metadata": {},
     "output_type": "execute_result"
    }
   ],
   "source": [
    "full_pipe"
   ]
  },
  {
   "cell_type": "code",
   "execution_count": 241,
   "metadata": {
    "ExecuteTime": {
     "end_time": "2020-10-19T15:40:15.445354Z",
     "start_time": "2020-10-19T15:40:08.010294Z"
    }
   },
   "outputs": [
    {
     "data": {
      "text/plain": [
       "{'clf__criterion': 'gini',\n",
       " 'text_pipe__count_vectorizer__tokenizer': None,\n",
       " 'text_pipe__tf_transformer__use_idf': True}"
      ]
     },
     "execution_count": 241,
     "metadata": {},
     "output_type": "execute_result"
    }
   ],
   "source": [
    "import nltk\n",
    "from sklearn.model_selection import GridSearchCV\n",
    "\n",
    "tokenizer = nltk.tokenize.TweetTokenizer(preserve_case=False,)\n",
    "\n",
    "params = {'text_pipe__tf_transformer__use_idf':[True,False],\n",
    "         'text_pipe__count_vectorizer__tokenizer':[None,tokenizer.tokenize],\n",
    "         'clf__criterion':['gini','entropy']}\n",
    "grid = GridSearchCV(full_pipe,params)\n",
    "grid.fit(X_train,y_train)\n",
    "grid.best_params_"
   ]
  },
  {
   "cell_type": "code",
   "execution_count": 244,
   "metadata": {
    "ExecuteTime": {
     "end_time": "2020-10-19T15:41:07.355994Z",
     "start_time": "2020-10-19T15:41:07.163877Z"
    }
   },
   "outputs": [
    {
     "name": "stdout",
     "output_type": "stream",
     "text": [
      "              precision    recall  f1-score   support\n",
      "\n",
      "   Not Trump       0.95      0.75      0.84        72\n",
      "       Trump       0.85      0.97      0.91       109\n",
      "\n",
      "    accuracy                           0.88       181\n",
      "   macro avg       0.90      0.86      0.87       181\n",
      "weighted avg       0.89      0.88      0.88       181\n",
      "\n"
     ]
    },
    {
     "data": {
      "image/png": "[encoded data removed]",
      "text/plain": [
       "<Figure size 432x288 with 2 Axes>"
      ]
     },
     "metadata": {
      "needs_background": "light"
     },
     "output_type": "display_data"
    }
   ],
   "source": [
    "best_pipe = grid.best_estimator_\n",
    "y_hat_test = best_pipe.predict(X_test)\n",
    "evaluate_model(y_test,y_hat_test,X_test,clf=best_pipe)"
   ]
  },
  {
   "cell_type": "markdown",
   "metadata": {},
   "source": [
    "### Get feature importances as text"
   ]
  },
  {
   "cell_type": "code",
   "execution_count": 247,
   "metadata": {
    "ExecuteTime": {
     "end_time": "2020-10-19T15:41:43.133237Z",
     "start_time": "2020-10-19T15:41:43.110661Z"
    }
   },
   "outputs": [
    {
     "data": {
      "text/plain": [
       "<422x2179 sparse matrix of type '<class 'numpy.float64'>'\n",
       "\twith 7784 stored elements in Compressed Sparse Row format>"
      ]
     },
     "execution_count": 247,
     "metadata": {},
     "output_type": "execute_result"
    }
   ],
   "source": [
    "X_train_pipe = text_pipe.fit_transform(X_train)\n",
    "X_test_pipe = text_pipe.transform(X_test)\n",
    "X_train_pipe"
   ]
  },
  {
   "cell_type": "code",
   "execution_count": 249,
   "metadata": {
    "ExecuteTime": {
     "end_time": "2020-10-19T15:41:50.588675Z",
     "start_time": "2020-10-19T15:41:50.584466Z"
    }
   },
   "outputs": [
    {
     "data": {
      "text/plain": [
       "(422, 2179)"
      ]
     },
     "execution_count": 249,
     "metadata": {},
     "output_type": "execute_result"
    }
   ],
   "source": [
    "X_train_pipe.shape"
   ]
  },
  {
   "cell_type": "code",
   "execution_count": 254,
   "metadata": {
    "ExecuteTime": {
     "end_time": "2020-10-19T15:42:27.358184Z",
     "start_time": "2020-10-19T15:42:27.353233Z"
    }
   },
   "outputs": [
    {
     "data": {
      "text/plain": [
       "['00',\n",
       " '00am',\n",
       " '00pm',\n",
       " '03e4ybiwr0',\n",
       " '05dtfjaubx',\n",
       " '0dhld5kivc',\n",
       " '10',\n",
       " '100',\n",
       " '10000',\n",
       " '100th']"
      ]
     },
     "execution_count": 254,
     "metadata": {},
     "output_type": "execute_result"
    }
   ],
   "source": [
    "features = text_pipe.named_steps['count_vectorizer'].get_feature_names()\n",
    "features[:10]"
   ]
  },
  {
   "cell_type": "code",
   "execution_count": 255,
   "metadata": {
    "ExecuteTime": {
     "end_time": "2020-10-19T15:42:38.456494Z",
     "start_time": "2020-10-19T15:42:38.453015Z"
    }
   },
   "outputs": [
    {
     "data": {
      "text/plain": [
       "2179"
      ]
     },
     "execution_count": 255,
     "metadata": {},
     "output_type": "execute_result"
    }
   ],
   "source": [
    "len(features)"
   ]
  },
  {
   "cell_type": "code",
   "execution_count": 256,
   "metadata": {
    "ExecuteTime": {
     "end_time": "2020-10-19T15:42:43.507793Z",
     "start_time": "2020-10-19T15:42:43.213226Z"
    }
   },
   "outputs": [
    {
     "name": "stderr",
     "output_type": "stream",
     "text": [
      "/opt/anaconda3/envs/learn-env/lib/python3.6/site-packages/matplotlib/backends/backend_agg.py:238: RuntimeWarning:\n",
      "\n",
      "Glyph 127482 missing from current font.\n",
      "\n",
      "/opt/anaconda3/envs/learn-env/lib/python3.6/site-packages/matplotlib/backends/backend_agg.py:238: RuntimeWarning:\n",
      "\n",
      "Glyph 127480 missing from current font.\n",
      "\n",
      "/opt/anaconda3/envs/learn-env/lib/python3.6/site-packages/matplotlib/backends/backend_agg.py:201: RuntimeWarning:\n",
      "\n",
      "Glyph 127482 missing from current font.\n",
      "\n",
      "/opt/anaconda3/envs/learn-env/lib/python3.6/site-packages/matplotlib/backends/backend_agg.py:201: RuntimeWarning:\n",
      "\n",
      "Glyph 127480 missing from current font.\n",
      "\n"
     ]
    },
    {
     "data": {
      "image/png": "[encoded data removed]",
      "text/plain": [
       "<Figure size 748.8x514.8 with 1 Axes>"
      ]
     },
     "metadata": {
      "needs_background": "light"
     },
     "output_type": "display_data"
    }
   ],
   "source": [
    "# vectorizer.get_feature_names()\n",
    "with plt.style.context('seaborn-talk'):\n",
    "    importance = pd.Series(rf.feature_importances_,index= vectorizer.get_feature_names())\n",
    "    importance.sort_values(inplace=True)\n",
    "\n",
    "    importance.sort_values().tail(30).plot(kind='barh')"
   ]
  },
  {
   "cell_type": "code",
   "execution_count": 257,
   "metadata": {
    "ExecuteTime": {
     "end_time": "2020-10-19T15:42:49.335428Z",
     "start_time": "2020-10-19T15:42:49.327944Z"
    }
   },
   "outputs": [
    {
     "data": {
      "text/plain": [
       "Twitter for Android    0.865672\n",
       "Twitter for iPhone     0.134328\n",
       "Name: source, dtype: float64"
      ]
     },
     "execution_count": 257,
     "metadata": {},
     "output_type": "execute_result"
    }
   ],
   "source": [
    "df[df['text'].str.contains('...',regex=False)]['source'].value_counts(normalize=True)"
   ]
  },
  {
   "cell_type": "code",
   "execution_count": 258,
   "metadata": {
    "ExecuteTime": {
     "end_time": "2020-10-19T15:42:50.159776Z",
     "start_time": "2020-10-19T15:42:50.115372Z"
    },
    "scrolled": false
   },
   "outputs": [],
   "source": [
    "top_word_probs = {}\n",
    "for word in importance.tail(20).index:\n",
    "    rows = df['text'].str.contains(word,regex=False,case=False)\n",
    "    val_count= df[rows]['source'].value_counts(normalize=True)\n",
    "    top_word_probs[word] = val_count\n",
    "#     print(f'\\n\\n{word}:\\n{val_count}')"
   ]
  },
  {
   "cell_type": "code",
   "execution_count": 259,
   "metadata": {
    "ExecuteTime": {
     "end_time": "2020-10-19T15:42:51.621819Z",
     "start_time": "2020-10-19T15:42:51.619737Z"
    }
   },
   "outputs": [],
   "source": [
    "# top_word_probs"
   ]
  },
  {
   "cell_type": "code",
   "execution_count": 260,
   "metadata": {
    "ExecuteTime": {
     "end_time": "2020-10-19T15:42:54.429813Z",
     "start_time": "2020-10-19T15:42:54.399705Z"
    }
   },
   "outputs": [
    {
     "data": {
      "text/html": [
       "<style  type=\"text/css\" >\n",
       "#T_c0e2ba2c_1221_11eb_b273_acde48001122row0_col0,#T_c0e2ba2c_1221_11eb_b273_acde48001122row0_col1,#T_c0e2ba2c_1221_11eb_b273_acde48001122row1_col1,#T_c0e2ba2c_1221_11eb_b273_acde48001122row2_col1,#T_c0e2ba2c_1221_11eb_b273_acde48001122row3_col1,#T_c0e2ba2c_1221_11eb_b273_acde48001122row4_col0,#T_c0e2ba2c_1221_11eb_b273_acde48001122row5_col0,#T_c0e2ba2c_1221_11eb_b273_acde48001122row5_col1,#T_c0e2ba2c_1221_11eb_b273_acde48001122row6_col0,#T_c0e2ba2c_1221_11eb_b273_acde48001122row7_col0,#T_c0e2ba2c_1221_11eb_b273_acde48001122row8_col1,#T_c0e2ba2c_1221_11eb_b273_acde48001122row9_col0,#T_c0e2ba2c_1221_11eb_b273_acde48001122row9_col1,#T_c0e2ba2c_1221_11eb_b273_acde48001122row10_col1,#T_c0e2ba2c_1221_11eb_b273_acde48001122row11_col1,#T_c0e2ba2c_1221_11eb_b273_acde48001122row12_col0,#T_c0e2ba2c_1221_11eb_b273_acde48001122row13_col0,#T_c0e2ba2c_1221_11eb_b273_acde48001122row14_col0,#T_c0e2ba2c_1221_11eb_b273_acde48001122row15_col1,#T_c0e2ba2c_1221_11eb_b273_acde48001122row16_col1,#T_c0e2ba2c_1221_11eb_b273_acde48001122row17_col0,#T_c0e2ba2c_1221_11eb_b273_acde48001122row18_col1,#T_c0e2ba2c_1221_11eb_b273_acde48001122row19_col0{\n",
       "            background-color:  #fff7fb;\n",
       "            color:  #000000;\n",
       "        }#T_c0e2ba2c_1221_11eb_b273_acde48001122row1_col0,#T_c0e2ba2c_1221_11eb_b273_acde48001122row2_col0,#T_c0e2ba2c_1221_11eb_b273_acde48001122row3_col0,#T_c0e2ba2c_1221_11eb_b273_acde48001122row4_col1,#T_c0e2ba2c_1221_11eb_b273_acde48001122row6_col1,#T_c0e2ba2c_1221_11eb_b273_acde48001122row7_col1,#T_c0e2ba2c_1221_11eb_b273_acde48001122row8_col0,#T_c0e2ba2c_1221_11eb_b273_acde48001122row10_col0,#T_c0e2ba2c_1221_11eb_b273_acde48001122row11_col0,#T_c0e2ba2c_1221_11eb_b273_acde48001122row12_col1,#T_c0e2ba2c_1221_11eb_b273_acde48001122row13_col1,#T_c0e2ba2c_1221_11eb_b273_acde48001122row14_col1,#T_c0e2ba2c_1221_11eb_b273_acde48001122row15_col0,#T_c0e2ba2c_1221_11eb_b273_acde48001122row16_col0,#T_c0e2ba2c_1221_11eb_b273_acde48001122row17_col1,#T_c0e2ba2c_1221_11eb_b273_acde48001122row18_col0,#T_c0e2ba2c_1221_11eb_b273_acde48001122row19_col1{\n",
       "            background-color:  #023858;\n",
       "            color:  #f1f1f1;\n",
       "        }</style><table id=\"T_c0e2ba2c_1221_11eb_b273_acde48001122\" ><thead>    <tr>        <th class=\"blank level0\" ></th>        <th class=\"col_heading level0 col0\" >Twitter for Android</th>        <th class=\"col_heading level0 col1\" >Twitter for iPhone</th>    </tr></thead><tbody>\n",
       "                <tr>\n",
       "                        <th id=\"T_c0e2ba2c_1221_11eb_b273_acde48001122level0_row0\" class=\"row_heading level0 row0\" >🇺</th>\n",
       "                        <td id=\"T_c0e2ba2c_1221_11eb_b273_acde48001122row0_col0\" class=\"data row0 col0\" >nan</td>\n",
       "                        <td id=\"T_c0e2ba2c_1221_11eb_b273_acde48001122row0_col1\" class=\"data row0 col1\" >1.000000</td>\n",
       "            </tr>\n",
       "            <tr>\n",
       "                        <th id=\"T_c0e2ba2c_1221_11eb_b273_acde48001122level0_row1\" class=\"row_heading level0 row1\" >big</th>\n",
       "                        <td id=\"T_c0e2ba2c_1221_11eb_b273_acde48001122row1_col0\" class=\"data row1 col0\" >0.820513</td>\n",
       "                        <td id=\"T_c0e2ba2c_1221_11eb_b273_acde48001122row1_col1\" class=\"data row1 col1\" >0.179487</td>\n",
       "            </tr>\n",
       "            <tr>\n",
       "                        <th id=\"T_c0e2ba2c_1221_11eb_b273_acde48001122level0_row2\" class=\"row_heading level0 row2\" >time</th>\n",
       "                        <td id=\"T_c0e2ba2c_1221_11eb_b273_acde48001122row2_col0\" class=\"data row2 col0\" >0.813953</td>\n",
       "                        <td id=\"T_c0e2ba2c_1221_11eb_b273_acde48001122row2_col1\" class=\"data row2 col1\" >0.186047</td>\n",
       "            </tr>\n",
       "            <tr>\n",
       "                        <th id=\"T_c0e2ba2c_1221_11eb_b273_acde48001122level0_row3\" class=\"row_heading level0 row3\" >country</th>\n",
       "                        <td id=\"T_c0e2ba2c_1221_11eb_b273_acde48001122row3_col0\" class=\"data row3 col0\" >0.862069</td>\n",
       "                        <td id=\"T_c0e2ba2c_1221_11eb_b273_acde48001122row3_col1\" class=\"data row3 col1\" >0.137931</td>\n",
       "            </tr>\n",
       "            <tr>\n",
       "                        <th id=\"T_c0e2ba2c_1221_11eb_b273_acde48001122level0_row4\" class=\"row_heading level0 row4\" >tonight</th>\n",
       "                        <td id=\"T_c0e2ba2c_1221_11eb_b273_acde48001122row4_col0\" class=\"data row4 col0\" >0.368421</td>\n",
       "                        <td id=\"T_c0e2ba2c_1221_11eb_b273_acde48001122row4_col1\" class=\"data row4 col1\" >0.631579</td>\n",
       "            </tr>\n",
       "            <tr>\n",
       "                        <th id=\"T_c0e2ba2c_1221_11eb_b273_acde48001122level0_row5\" class=\"row_heading level0 row5\" >🇸</th>\n",
       "                        <td id=\"T_c0e2ba2c_1221_11eb_b273_acde48001122row5_col0\" class=\"data row5 col0\" >nan</td>\n",
       "                        <td id=\"T_c0e2ba2c_1221_11eb_b273_acde48001122row5_col1\" class=\"data row5 col1\" >1.000000</td>\n",
       "            </tr>\n",
       "            <tr>\n",
       "                        <th id=\"T_c0e2ba2c_1221_11eb_b273_acde48001122level0_row6\" class=\"row_heading level0 row6\" >thank</th>\n",
       "                        <td id=\"T_c0e2ba2c_1221_11eb_b273_acde48001122row6_col0\" class=\"data row6 col0\" >0.360656</td>\n",
       "                        <td id=\"T_c0e2ba2c_1221_11eb_b273_acde48001122row6_col1\" class=\"data row6 col1\" >0.639344</td>\n",
       "            </tr>\n",
       "            <tr>\n",
       "                        <th id=\"T_c0e2ba2c_1221_11eb_b273_acde48001122level0_row7\" class=\"row_heading level0 row7\" >congratulations</th>\n",
       "                        <td id=\"T_c0e2ba2c_1221_11eb_b273_acde48001122row7_col0\" class=\"data row7 col0\" >0.333333</td>\n",
       "                        <td id=\"T_c0e2ba2c_1221_11eb_b273_acde48001122row7_col1\" class=\"data row7 col1\" >0.666667</td>\n",
       "            </tr>\n",
       "            <tr>\n",
       "                        <th id=\"T_c0e2ba2c_1221_11eb_b273_acde48001122level0_row8\" class=\"row_heading level0 row8\" >election</th>\n",
       "                        <td id=\"T_c0e2ba2c_1221_11eb_b273_acde48001122row8_col0\" class=\"data row8 col0\" >0.870968</td>\n",
       "                        <td id=\"T_c0e2ba2c_1221_11eb_b273_acde48001122row8_col1\" class=\"data row8 col1\" >0.129032</td>\n",
       "            </tr>\n",
       "            <tr>\n",
       "                        <th id=\"T_c0e2ba2c_1221_11eb_b273_acde48001122level0_row9\" class=\"row_heading level0 row9\" >women</th>\n",
       "                        <td id=\"T_c0e2ba2c_1221_11eb_b273_acde48001122row9_col0\" class=\"data row9 col0\" >nan</td>\n",
       "                        <td id=\"T_c0e2ba2c_1221_11eb_b273_acde48001122row9_col1\" class=\"data row9 col1\" >1.000000</td>\n",
       "            </tr>\n",
       "            <tr>\n",
       "                        <th id=\"T_c0e2ba2c_1221_11eb_b273_acde48001122level0_row10\" class=\"row_heading level0 row10\" >u</th>\n",
       "                        <td id=\"T_c0e2ba2c_1221_11eb_b273_acde48001122row10_col0\" class=\"data row10 col0\" >0.602170</td>\n",
       "                        <td id=\"T_c0e2ba2c_1221_11eb_b273_acde48001122row10_col1\" class=\"data row10 col1\" >0.397830</td>\n",
       "            </tr>\n",
       "            <tr>\n",
       "                        <th id=\"T_c0e2ba2c_1221_11eb_b273_acde48001122level0_row11\" class=\"row_heading level0 row11\" >great</th>\n",
       "                        <td id=\"T_c0e2ba2c_1221_11eb_b273_acde48001122row11_col0\" class=\"data row11 col0\" >0.572917</td>\n",
       "                        <td id=\"T_c0e2ba2c_1221_11eb_b273_acde48001122row11_col1\" class=\"data row11 col1\" >0.427083</td>\n",
       "            </tr>\n",
       "            <tr>\n",
       "                        <th id=\"T_c0e2ba2c_1221_11eb_b273_acde48001122level0_row12\" class=\"row_heading level0 row12\" >:/</th>\n",
       "                        <td id=\"T_c0e2ba2c_1221_11eb_b273_acde48001122row12_col0\" class=\"data row12 col0\" >0.023952</td>\n",
       "                        <td id=\"T_c0e2ba2c_1221_11eb_b273_acde48001122row12_col1\" class=\"data row12 col1\" >0.976048</td>\n",
       "            </tr>\n",
       "            <tr>\n",
       "                        <th id=\"T_c0e2ba2c_1221_11eb_b273_acde48001122level0_row13\" class=\"row_heading level0 row13\" >trump</th>\n",
       "                        <td id=\"T_c0e2ba2c_1221_11eb_b273_acde48001122row13_col0\" class=\"data row13 col0\" >0.303571</td>\n",
       "                        <td id=\"T_c0e2ba2c_1221_11eb_b273_acde48001122row13_col1\" class=\"data row13 col1\" >0.696429</td>\n",
       "            </tr>\n",
       "            <tr>\n",
       "                        <th id=\"T_c0e2ba2c_1221_11eb_b273_acde48001122level0_row14\" class=\"row_heading level0 row14\" >today</th>\n",
       "                        <td id=\"T_c0e2ba2c_1221_11eb_b273_acde48001122row14_col0\" class=\"data row14 col0\" >0.421053</td>\n",
       "                        <td id=\"T_c0e2ba2c_1221_11eb_b273_acde48001122row14_col1\" class=\"data row14 col1\" >0.578947</td>\n",
       "            </tr>\n",
       "            <tr>\n",
       "                        <th id=\"T_c0e2ba2c_1221_11eb_b273_acde48001122level0_row15\" class=\"row_heading level0 row15\" >media</th>\n",
       "                        <td id=\"T_c0e2ba2c_1221_11eb_b273_acde48001122row15_col0\" class=\"data row15 col0\" >0.885714</td>\n",
       "                        <td id=\"T_c0e2ba2c_1221_11eb_b273_acde48001122row15_col1\" class=\"data row15 col1\" >0.114286</td>\n",
       "            </tr>\n",
       "            <tr>\n",
       "                        <th id=\"T_c0e2ba2c_1221_11eb_b273_acde48001122level0_row16\" class=\"row_heading level0 row16\" >people</th>\n",
       "                        <td id=\"T_c0e2ba2c_1221_11eb_b273_acde48001122row16_col0\" class=\"data row16 col0\" >0.880000</td>\n",
       "                        <td id=\"T_c0e2ba2c_1221_11eb_b273_acde48001122row16_col1\" class=\"data row16 col1\" >0.120000</td>\n",
       "            </tr>\n",
       "            <tr>\n",
       "                        <th id=\"T_c0e2ba2c_1221_11eb_b273_acde48001122level0_row17\" class=\"row_heading level0 row17\" >join</th>\n",
       "                        <td id=\"T_c0e2ba2c_1221_11eb_b273_acde48001122row17_col0\" class=\"data row17 col0\" >0.035714</td>\n",
       "                        <td id=\"T_c0e2ba2c_1221_11eb_b273_acde48001122row17_col1\" class=\"data row17 col1\" >0.964286</td>\n",
       "            </tr>\n",
       "            <tr>\n",
       "                        <th id=\"T_c0e2ba2c_1221_11eb_b273_acde48001122level0_row18\" class=\"row_heading level0 row18\" >rt</th>\n",
       "                        <td id=\"T_c0e2ba2c_1221_11eb_b273_acde48001122row18_col0\" class=\"data row18 col0\" >0.527559</td>\n",
       "                        <td id=\"T_c0e2ba2c_1221_11eb_b273_acde48001122row18_col1\" class=\"data row18 col1\" >0.472441</td>\n",
       "            </tr>\n",
       "            <tr>\n",
       "                        <th id=\"T_c0e2ba2c_1221_11eb_b273_acde48001122level0_row19\" class=\"row_heading level0 row19\" >…</th>\n",
       "                        <td id=\"T_c0e2ba2c_1221_11eb_b273_acde48001122row19_col0\" class=\"data row19 col0\" >0.015873</td>\n",
       "                        <td id=\"T_c0e2ba2c_1221_11eb_b273_acde48001122row19_col1\" class=\"data row19 col1\" >0.984127</td>\n",
       "            </tr>\n",
       "    </tbody></table>"
      ],
      "text/plain": [
       "<pandas.io.formats.style.Styler at 0x7ff6a8a2b8d0>"
      ]
     },
     "execution_count": 260,
     "metadata": {},
     "output_type": "execute_result"
    }
   ],
   "source": [
    "top_probs = pd.DataFrame(top_word_probs).T\n",
    "top_probs.style.background_gradient(axis=1)"
   ]
  },
  {
   "cell_type": "code",
   "execution_count": 119,
   "metadata": {
    "ExecuteTime": {
     "end_time": "2020-10-19T14:53:42.336995Z",
     "start_time": "2020-10-19T14:53:42.334092Z"
    }
   },
   "outputs": [],
   "source": [
    "# vectorizer.inverse_transform(vectorizer.idf_)"
   ]
  },
  {
   "cell_type": "markdown",
   "metadata": {},
   "source": [
    "## T-SNE (for Student Question)"
   ]
  },
  {
   "cell_type": "code",
   "execution_count": 262,
   "metadata": {
    "ExecuteTime": {
     "end_time": "2020-10-19T15:43:05.529988Z",
     "start_time": "2020-10-19T15:43:05.523007Z"
    }
   },
   "outputs": [
    {
     "data": {
      "text/plain": [
       "matrix([[0., 0., 0., ..., 0., 0., 0.],\n",
       "        [0., 0., 0., ..., 0., 0., 0.],\n",
       "        [0., 0., 0., ..., 0., 0., 0.],\n",
       "        ...,\n",
       "        [0., 0., 0., ..., 0., 0., 0.],\n",
       "        [0., 0., 0., ..., 0., 0., 0.],\n",
       "        [0., 0., 0., ..., 0., 0., 0.]])"
      ]
     },
     "execution_count": 262,
     "metadata": {},
     "output_type": "execute_result"
    }
   ],
   "source": [
    "X_train_pipe.todense()"
   ]
  },
  {
   "cell_type": "code",
   "execution_count": 123,
   "metadata": {
    "ExecuteTime": {
     "end_time": "2020-10-19T15:00:52.235800Z",
     "start_time": "2020-10-19T15:00:52.225490Z"
    }
   },
   "outputs": [],
   "source": [
    "from sklearn.manifold import TSNE\n",
    "from mpl_toolkits.mplot3d import Axes3D"
   ]
  },
  {
   "cell_type": "code",
   "execution_count": 263,
   "metadata": {
    "ExecuteTime": {
     "end_time": "2020-10-19T15:43:16.366269Z",
     "start_time": "2020-10-19T15:43:14.432839Z"
    }
   },
   "outputs": [
    {
     "data": {
      "text/plain": [
       "array([[ -66.27824   ,   -4.0944395 ,   89.87663   ],\n",
       "       [-239.75862   ,   64.39404   ,  130.94637   ],\n",
       "       [  -0.39738792,   48.83059   ,  -53.496548  ],\n",
       "       ...,\n",
       "       [  70.47691   ,  -20.24793   ,  -32.866184  ],\n",
       "       [ -47.743618  ,   34.415646  ,   92.346016  ],\n",
       "       [  88.63418   ,  -15.284328  , -132.72542   ]], dtype=float32)"
      ]
     },
     "execution_count": 263,
     "metadata": {},
     "output_type": "execute_result"
    }
   ],
   "source": [
    "## TSNE For Visualizing High Dimensional Data\n",
    "t_sne_object_3d = TSNE(n_components=3)\n",
    "transformed_data_3d = t_sne_object_3d.fit_transform(X_train_pipe)\n",
    "transformed_data_3d"
   ]
  },
  {
   "cell_type": "code",
   "execution_count": 264,
   "metadata": {
    "ExecuteTime": {
     "end_time": "2020-10-19T15:43:17.334538Z",
     "start_time": "2020-10-19T15:43:17.331423Z"
    }
   },
   "outputs": [],
   "source": [
    "## Separate into Trump/Not Trump\n",
    "trump = transformed_data_3d[y_train==1]\n",
    "not_trump = transformed_data_3d[y_train==0]"
   ]
  },
  {
   "cell_type": "code",
   "execution_count": 265,
   "metadata": {
    "ExecuteTime": {
     "end_time": "2020-10-19T15:43:17.901760Z",
     "start_time": "2020-10-19T15:43:17.671394Z"
    }
   },
   "outputs": [
    {
     "data": {
      "image/png": "[encoded data removed]",
      "text/plain": [
       "<Figure size 1440x720 with 1 Axes>"
      ]
     },
     "metadata": {
      "needs_background": "light"
     },
     "output_type": "display_data"
    }
   ],
   "source": [
    "fig = plt.figure(figsize=(20,10))\n",
    "ax = fig.add_subplot(projection='3d')\n",
    "ax.scatter(trump[:,0],trump[:,1],\n",
    "           trump[:,2],c='orange',label='Trump')\n",
    "ax.scatter(not_trump[:,0],not_trump[:,1],\n",
    "           not_trump[:,2],c='black',label='Not Trump')\n",
    "ax.legend()\n",
    "ax.view_init(30, 10)\n",
    "\n",
    "\n",
    "fig.tight_layout()"
   ]
  },
  {
   "cell_type": "code",
   "execution_count": 266,
   "metadata": {
    "ExecuteTime": {
     "end_time": "2020-10-19T15:43:23.457339Z",
     "start_time": "2020-10-19T15:43:21.993758Z"
    }
   },
   "outputs": [],
   "source": [
    "## TSNE For Visualizing High Dimensional Data\n",
    "t_sne_object_2d = TSNE(n_components=2)\n",
    "transformed_data_2d = t_sne_object_2d.fit_transform(X_train_pipe)\n",
    "## Separate into Trump/Not Trump\n",
    "trump = transformed_data_2d[y_train==1]\n",
    "not_trump = transformed_data_2d[y_train==0]"
   ]
  },
  {
   "cell_type": "code",
   "execution_count": 267,
   "metadata": {
    "ExecuteTime": {
     "end_time": "2020-10-19T15:43:26.303799Z",
     "start_time": "2020-10-19T15:43:26.061622Z"
    }
   },
   "outputs": [
    {
     "data": {
      "image/png": "[encoded data removed]",
      "text/plain": [
       "<Figure size 1440x720 with 1 Axes>"
      ]
     },
     "metadata": {
      "needs_background": "light"
     },
     "output_type": "display_data"
    }
   ],
   "source": [
    "fig,ax = plt.subplots(figsize=(20,10))\n",
    "ax.scatter(trump[:,0],trump[:,1],c='orange',label='Trump')\n",
    "ax.scatter(not_trump[:,0],not_trump[:,1],c='black',label='Not Trump')\n",
    "ax.legend()\n",
    "\n",
    "fig.tight_layout()"
   ]
  },
  {
   "cell_type": "markdown",
   "metadata": {},
   "source": [
    "## Other Classifiers - Naive Bayes"
   ]
  },
  {
   "cell_type": "code",
   "execution_count": 270,
   "metadata": {
    "ExecuteTime": {
     "end_time": "2020-10-19T15:43:47.122621Z",
     "start_time": "2020-10-19T15:43:46.959235Z"
    },
    "scrolled": false
   },
   "outputs": [
    {
     "name": "stdout",
     "output_type": "stream",
     "text": [
      "              precision    recall  f1-score   support\n",
      "\n",
      "   Not Trump       0.98      0.64      0.77        72\n",
      "       Trump       0.81      0.99      0.89       109\n",
      "\n",
      "    accuracy                           0.85       181\n",
      "   macro avg       0.89      0.81      0.83       181\n",
      "weighted avg       0.87      0.85      0.84       181\n",
      "\n"
     ]
    },
    {
     "data": {
      "image/png": "[encoded data removed]",
      "text/plain": [
       "<Figure size 432x288 with 2 Axes>"
      ]
     },
     "metadata": {
      "needs_background": "light"
     },
     "output_type": "display_data"
    }
   ],
   "source": [
    "nb_classifier = MultinomialNB()#alpha = 1.0e-08)\n",
    "nb_classifier.fit(X_train_pipe,y_train)\n",
    "y_hat_test = nb_classifier.predict(X_test_pipe)\n",
    "evaluate_model(y_test,y_hat_test,X_test_pipe,nb_classifier)"
   ]
  },
  {
   "cell_type": "markdown",
   "metadata": {
    "heading_collapsed": true
   },
   "source": [
    "# APPENDIX"
   ]
  },
  {
   "cell_type": "markdown",
   "metadata": {
    "hidden": true
   },
   "source": [
    "## GridSearch Random Forest"
   ]
  },
  {
   "cell_type": "code",
   "execution_count": 271,
   "metadata": {
    "ExecuteTime": {
     "end_time": "2020-10-19T15:43:53.286265Z",
     "start_time": "2020-10-19T15:43:53.284120Z"
    },
    "hidden": true
   },
   "outputs": [],
   "source": [
    "# from sklearn.model_selection import GridSearchCV\n",
    "# params  = {'criterion':['gini','entropy'],\n",
    "#            'max_depth':[3,5,10,50,100,None],\n",
    "#           'class_weight':['balanced',None],\n",
    "#            'bootstrap':[True ,False],\n",
    "#           'min_samples_leaf':[1,2,3,4],\n",
    "#           }\n",
    "# rf_clf = RandomForestClassifier()\n",
    "# grid = GridSearchCV(rf_clf,params,return_train_score=False,\n",
    "#                     scoring='recall_weighted',n_jobs=-1)\n",
    "# grid.fit(X_train_tfidf,y_train)\n",
    "# print(grid.best_score_)\n",
    "# grid.best_params_"
   ]
  },
  {
   "cell_type": "code",
   "execution_count": 273,
   "metadata": {
    "ExecuteTime": {
     "end_time": "2020-10-19T15:44:00.271561Z",
     "start_time": "2020-10-19T15:44:00.269415Z"
    },
    "hidden": true
   },
   "outputs": [],
   "source": [
    "# best_rf = grid.best_estimator_\n",
    "# best_rf.fit(X_train_tfidf, y_train)\n",
    "\n",
    "# y_hat_test = best_rf.predict(X_test_tfidf)"
   ]
  },
  {
   "cell_type": "code",
   "execution_count": 274,
   "metadata": {
    "ExecuteTime": {
     "end_time": "2020-10-19T15:44:01.950400Z",
     "start_time": "2020-10-19T15:44:01.948246Z"
    },
    "hidden": true
   },
   "outputs": [],
   "source": [
    "# evaluate_model(y_test,y_hat_test,X_test_tfidf,best_rf)"
   ]
  },
  {
   "cell_type": "code",
   "execution_count": 275,
   "metadata": {
    "ExecuteTime": {
     "end_time": "2020-10-19T15:44:04.347386Z",
     "start_time": "2020-10-19T15:44:04.345387Z"
    },
    "hidden": true
   },
   "outputs": [],
   "source": [
    "# importance = pd.Series(best_rf.feature_importances_,index= vectorizer.get_feature_names())\n",
    "# importance.sort_values().tail(20).plot(kind='barh')"
   ]
  },
  {
   "cell_type": "markdown",
   "metadata": {
    "hidden": true
   },
   "source": [
    "## BOOKMARK: Better Handling Emojis"
   ]
  },
  {
   "cell_type": "markdown",
   "metadata": {
    "hidden": true
   },
   "source": [
    "> https://medium.com/towards-artificial-intelligence/emoticon-and-emoji-in-text-mining-7392c49f596a"
   ]
  },
  {
   "cell_type": "code",
   "execution_count": null,
   "metadata": {
    "hidden": true
   },
   "outputs": [],
   "source": []
  },
  {
   "cell_type": "markdown",
   "metadata": {
    "hidden": true
   },
   "source": [
    "## Excluded Code"
   ]
  },
  {
   "cell_type": "markdown",
   "metadata": {
    "hidden": true
   },
   "source": [
    "### Summary table from Finding Trump"
   ]
  },
  {
   "cell_type": "code",
   "execution_count": 72,
   "metadata": {
    "ExecuteTime": {
     "end_time": "2020-10-17T22:52:47.456390Z",
     "start_time": "2020-10-17T22:52:47.417051Z"
    },
    "hidden": true
   },
   "outputs": [
    {
     "data": {
      "text/html": [
       "<style  type=\"text/css\" >\n",
       "#T_79e60054_10cb_11eb_8145_acde48001122row0_col1,#T_79e60054_10cb_11eb_8145_acde48001122row1_col0,#T_79e60054_10cb_11eb_8145_acde48001122row2_col1,#T_79e60054_10cb_11eb_8145_acde48001122row3_col0,#T_79e60054_10cb_11eb_8145_acde48001122row4_col1,#T_79e60054_10cb_11eb_8145_acde48001122row5_col0,#T_79e60054_10cb_11eb_8145_acde48001122row6_col1,#T_79e60054_10cb_11eb_8145_acde48001122row7_col0,#T_79e60054_10cb_11eb_8145_acde48001122row8_col1,#T_79e60054_10cb_11eb_8145_acde48001122row9_col1,#T_79e60054_10cb_11eb_8145_acde48001122row10_col1,#T_79e60054_10cb_11eb_8145_acde48001122row11_col1,#T_79e60054_10cb_11eb_8145_acde48001122row12_col1,#T_79e60054_10cb_11eb_8145_acde48001122row13_col0,#T_79e60054_10cb_11eb_8145_acde48001122row14_col1,#T_79e60054_10cb_11eb_8145_acde48001122row15_col1,#T_79e60054_10cb_11eb_8145_acde48001122row16_col0,#T_79e60054_10cb_11eb_8145_acde48001122row17_col0,#T_79e60054_10cb_11eb_8145_acde48001122row18_col0,#T_79e60054_10cb_11eb_8145_acde48001122row19_col0{\n",
       "            background-color:  lightgreen;\n",
       "        }#T_79e60054_10cb_11eb_8145_acde48001122row0_col2{\n",
       "            width:  10em;\n",
       "             height:  80%;\n",
       "            background:  linear-gradient(90deg,#d65f5f 100.0%, transparent 100.0%);\n",
       "        }#T_79e60054_10cb_11eb_8145_acde48001122row0_col3{\n",
       "            background-color:  #034165;\n",
       "            color:  #f1f1f1;\n",
       "        }#T_79e60054_10cb_11eb_8145_acde48001122row1_col2{\n",
       "            width:  10em;\n",
       "             height:  80%;\n",
       "            background:  linear-gradient(90deg,#d65f5f 87.2%, transparent 87.2%);\n",
       "        }#T_79e60054_10cb_11eb_8145_acde48001122row1_col3{\n",
       "            background-color:  #fff7fb;\n",
       "            color:  #000000;\n",
       "        }#T_79e60054_10cb_11eb_8145_acde48001122row2_col2{\n",
       "            width:  10em;\n",
       "             height:  80%;\n",
       "            background:  linear-gradient(90deg,#d65f5f 79.8%, transparent 79.8%);\n",
       "        }#T_79e60054_10cb_11eb_8145_acde48001122row2_col3{\n",
       "            background-color:  #034c78;\n",
       "            color:  #f1f1f1;\n",
       "        }#T_79e60054_10cb_11eb_8145_acde48001122row3_col2{\n",
       "            width:  10em;\n",
       "             height:  80%;\n",
       "            background:  linear-gradient(90deg,#d65f5f 50.0%, transparent 50.0%);\n",
       "        }#T_79e60054_10cb_11eb_8145_acde48001122row3_col3{\n",
       "            background-color:  #056ead;\n",
       "            color:  #f1f1f1;\n",
       "        }#T_79e60054_10cb_11eb_8145_acde48001122row4_col2{\n",
       "            width:  10em;\n",
       "             height:  80%;\n",
       "            background:  linear-gradient(90deg,#d65f5f 47.7%, transparent 47.7%);\n",
       "        }#T_79e60054_10cb_11eb_8145_acde48001122row4_col3{\n",
       "            background-color:  #efe9f3;\n",
       "            color:  #000000;\n",
       "        }#T_79e60054_10cb_11eb_8145_acde48001122row5_col2{\n",
       "            width:  10em;\n",
       "             height:  80%;\n",
       "            background:  linear-gradient(90deg,#d65f5f 45.4%, transparent 45.4%);\n",
       "        }#T_79e60054_10cb_11eb_8145_acde48001122row5_col3{\n",
       "            background-color:  #0771b1;\n",
       "            color:  #f1f1f1;\n",
       "        }#T_79e60054_10cb_11eb_8145_acde48001122row6_col2{\n",
       "            width:  10em;\n",
       "             height:  80%;\n",
       "            background:  linear-gradient(90deg,#d65f5f 35.5%, transparent 35.5%);\n",
       "        }#T_79e60054_10cb_11eb_8145_acde48001122row6_col3,#T_79e60054_10cb_11eb_8145_acde48001122row10_col3,#T_79e60054_10cb_11eb_8145_acde48001122row11_col3{\n",
       "            background-color:  #023858;\n",
       "            color:  #f1f1f1;\n",
       "        }#T_79e60054_10cb_11eb_8145_acde48001122row7_col2{\n",
       "            width:  10em;\n",
       "             height:  80%;\n",
       "            background:  linear-gradient(90deg,#d65f5f 34.1%, transparent 34.1%);\n",
       "        }#T_79e60054_10cb_11eb_8145_acde48001122row7_col3{\n",
       "            background-color:  #0d75b3;\n",
       "            color:  #f1f1f1;\n",
       "        }#T_79e60054_10cb_11eb_8145_acde48001122row8_col2{\n",
       "            width:  10em;\n",
       "             height:  80%;\n",
       "            background:  linear-gradient(90deg,#d65f5f 32.3%, transparent 32.3%);\n",
       "        }#T_79e60054_10cb_11eb_8145_acde48001122row8_col3{\n",
       "            background-color:  #acc0dd;\n",
       "            color:  #000000;\n",
       "        }#T_79e60054_10cb_11eb_8145_acde48001122row9_col2{\n",
       "            width:  10em;\n",
       "             height:  80%;\n",
       "            background:  linear-gradient(90deg,#d65f5f 27.6%, transparent 27.6%);\n",
       "        }#T_79e60054_10cb_11eb_8145_acde48001122row9_col3{\n",
       "            background-color:  #03456c;\n",
       "            color:  #f1f1f1;\n",
       "        }#T_79e60054_10cb_11eb_8145_acde48001122row10_col2{\n",
       "            width:  10em;\n",
       "             height:  80%;\n",
       "            background:  linear-gradient(90deg,#d65f5f 23.7%, transparent 23.7%);\n",
       "        }#T_79e60054_10cb_11eb_8145_acde48001122row11_col2{\n",
       "            width:  10em;\n",
       "             height:  80%;\n",
       "            background:  linear-gradient(90deg,#d65f5f 21.2%, transparent 21.2%);\n",
       "        }#T_79e60054_10cb_11eb_8145_acde48001122row12_col2{\n",
       "            width:  10em;\n",
       "             height:  80%;\n",
       "            background:  linear-gradient(90deg,#d65f5f 20.4%, transparent 20.4%);\n",
       "        }#T_79e60054_10cb_11eb_8145_acde48001122row12_col3{\n",
       "            background-color:  #fef6fa;\n",
       "            color:  #000000;\n",
       "        }#T_79e60054_10cb_11eb_8145_acde48001122row13_col2{\n",
       "            width:  10em;\n",
       "             height:  80%;\n",
       "            background:  linear-gradient(90deg,#d65f5f 12.6%, transparent 12.6%);\n",
       "        }#T_79e60054_10cb_11eb_8145_acde48001122row13_col3{\n",
       "            background-color:  #e5e1ef;\n",
       "            color:  #000000;\n",
       "        }#T_79e60054_10cb_11eb_8145_acde48001122row14_col2{\n",
       "            width:  10em;\n",
       "             height:  80%;\n",
       "            background:  linear-gradient(90deg,#d65f5f 11.5%, transparent 11.5%);\n",
       "        }#T_79e60054_10cb_11eb_8145_acde48001122row14_col3{\n",
       "            background-color:  #d3d4e7;\n",
       "            color:  #000000;\n",
       "        }#T_79e60054_10cb_11eb_8145_acde48001122row15_col2{\n",
       "            width:  10em;\n",
       "             height:  80%;\n",
       "            background:  linear-gradient(90deg,#d65f5f 6.1%, transparent 6.1%);\n",
       "        }#T_79e60054_10cb_11eb_8145_acde48001122row15_col3{\n",
       "            background-color:  #c1cae2;\n",
       "            color:  #000000;\n",
       "        }#T_79e60054_10cb_11eb_8145_acde48001122row16_col2{\n",
       "            width:  10em;\n",
       "             height:  80%;\n",
       "            background:  linear-gradient(90deg,#d65f5f 1.5%, transparent 1.5%);\n",
       "        }#T_79e60054_10cb_11eb_8145_acde48001122row16_col3{\n",
       "            background-color:  #157ab5;\n",
       "            color:  #000000;\n",
       "        }#T_79e60054_10cb_11eb_8145_acde48001122row17_col2{\n",
       "            width:  10em;\n",
       "             height:  80%;\n",
       "            background:  linear-gradient(90deg,#d65f5f 0.3%, transparent 0.3%);\n",
       "        }#T_79e60054_10cb_11eb_8145_acde48001122row17_col3{\n",
       "            background-color:  #f1ebf4;\n",
       "            color:  #000000;\n",
       "        }#T_79e60054_10cb_11eb_8145_acde48001122row18_col2,#T_79e60054_10cb_11eb_8145_acde48001122row19_col2{\n",
       "            width:  10em;\n",
       "             height:  80%;\n",
       "        }#T_79e60054_10cb_11eb_8145_acde48001122row18_col3{\n",
       "            background-color:  #3f93c2;\n",
       "            color:  #000000;\n",
       "        }#T_79e60054_10cb_11eb_8145_acde48001122row19_col3{\n",
       "            background-color:  #3991c1;\n",
       "            color:  #000000;\n",
       "        }</style><table id=\"T_79e60054_10cb_11eb_8145_acde48001122\" ><thead>    <tr>        <th class=\"blank level0\" ></th>        <th class=\"col_heading level0 col0\" >Twitter for Android</th>        <th class=\"col_heading level0 col1\" >Twitter for iPhone</th>        <th class=\"col_heading level0 col2\" >importance</th>        <th class=\"col_heading level0 col3\" >max_prob</th>        <th class=\"col_heading level0 col4\" >Max Prob Class</th>    </tr></thead><tbody>\n",
       "                <tr>\n",
       "                        <th id=\"T_79e60054_10cb_11eb_8145_acde48001122level0_row0\" class=\"row_heading level0 row0\" >…</th>\n",
       "                        <td id=\"T_79e60054_10cb_11eb_8145_acde48001122row0_col0\" class=\"data row0 col0\" >0.015873</td>\n",
       "                        <td id=\"T_79e60054_10cb_11eb_8145_acde48001122row0_col1\" class=\"data row0 col1\" >0.984127</td>\n",
       "                        <td id=\"T_79e60054_10cb_11eb_8145_acde48001122row0_col2\" class=\"data row0 col2\" >0.056960</td>\n",
       "                        <td id=\"T_79e60054_10cb_11eb_8145_acde48001122row0_col3\" class=\"data row0 col3\" >0.984127</td>\n",
       "                        <td id=\"T_79e60054_10cb_11eb_8145_acde48001122row0_col4\" class=\"data row0 col4\" >Twitter for iPhone</td>\n",
       "            </tr>\n",
       "            <tr>\n",
       "                        <th id=\"T_79e60054_10cb_11eb_8145_acde48001122level0_row1\" class=\"row_heading level0 row1\" >rt</th>\n",
       "                        <td id=\"T_79e60054_10cb_11eb_8145_acde48001122row1_col0\" class=\"data row1 col0\" >0.527559</td>\n",
       "                        <td id=\"T_79e60054_10cb_11eb_8145_acde48001122row1_col1\" class=\"data row1 col1\" >0.472441</td>\n",
       "                        <td id=\"T_79e60054_10cb_11eb_8145_acde48001122row1_col2\" class=\"data row1 col2\" >0.049645</td>\n",
       "                        <td id=\"T_79e60054_10cb_11eb_8145_acde48001122row1_col3\" class=\"data row1 col3\" >0.527559</td>\n",
       "                        <td id=\"T_79e60054_10cb_11eb_8145_acde48001122row1_col4\" class=\"data row1 col4\" >Twitter for Android</td>\n",
       "            </tr>\n",
       "            <tr>\n",
       "                        <th id=\"T_79e60054_10cb_11eb_8145_acde48001122level0_row2\" class=\"row_heading level0 row2\" >join</th>\n",
       "                        <td id=\"T_79e60054_10cb_11eb_8145_acde48001122row2_col0\" class=\"data row2 col0\" >0.035714</td>\n",
       "                        <td id=\"T_79e60054_10cb_11eb_8145_acde48001122row2_col1\" class=\"data row2 col1\" >0.964286</td>\n",
       "                        <td id=\"T_79e60054_10cb_11eb_8145_acde48001122row2_col2\" class=\"data row2 col2\" >0.045449</td>\n",
       "                        <td id=\"T_79e60054_10cb_11eb_8145_acde48001122row2_col3\" class=\"data row2 col3\" >0.964286</td>\n",
       "                        <td id=\"T_79e60054_10cb_11eb_8145_acde48001122row2_col4\" class=\"data row2 col4\" >Twitter for iPhone</td>\n",
       "            </tr>\n",
       "            <tr>\n",
       "                        <th id=\"T_79e60054_10cb_11eb_8145_acde48001122level0_row3\" class=\"row_heading level0 row3\" >media</th>\n",
       "                        <td id=\"T_79e60054_10cb_11eb_8145_acde48001122row3_col0\" class=\"data row3 col0\" >0.885714</td>\n",
       "                        <td id=\"T_79e60054_10cb_11eb_8145_acde48001122row3_col1\" class=\"data row3 col1\" >0.114286</td>\n",
       "                        <td id=\"T_79e60054_10cb_11eb_8145_acde48001122row3_col2\" class=\"data row3 col2\" >0.028492</td>\n",
       "                        <td id=\"T_79e60054_10cb_11eb_8145_acde48001122row3_col3\" class=\"data row3 col3\" >0.885714</td>\n",
       "                        <td id=\"T_79e60054_10cb_11eb_8145_acde48001122row3_col4\" class=\"data row3 col4\" >Twitter for Android</td>\n",
       "            </tr>\n",
       "            <tr>\n",
       "                        <th id=\"T_79e60054_10cb_11eb_8145_acde48001122level0_row4\" class=\"row_heading level0 row4\" >today</th>\n",
       "                        <td id=\"T_79e60054_10cb_11eb_8145_acde48001122row4_col0\" class=\"data row4 col0\" >0.421053</td>\n",
       "                        <td id=\"T_79e60054_10cb_11eb_8145_acde48001122row4_col1\" class=\"data row4 col1\" >0.578947</td>\n",
       "                        <td id=\"T_79e60054_10cb_11eb_8145_acde48001122row4_col2\" class=\"data row4 col2\" >0.027159</td>\n",
       "                        <td id=\"T_79e60054_10cb_11eb_8145_acde48001122row4_col3\" class=\"data row4 col3\" >0.578947</td>\n",
       "                        <td id=\"T_79e60054_10cb_11eb_8145_acde48001122row4_col4\" class=\"data row4 col4\" >Twitter for iPhone</td>\n",
       "            </tr>\n",
       "            <tr>\n",
       "                        <th id=\"T_79e60054_10cb_11eb_8145_acde48001122level0_row5\" class=\"row_heading level0 row5\" >people</th>\n",
       "                        <td id=\"T_79e60054_10cb_11eb_8145_acde48001122row5_col0\" class=\"data row5 col0\" >0.880000</td>\n",
       "                        <td id=\"T_79e60054_10cb_11eb_8145_acde48001122row5_col1\" class=\"data row5 col1\" >0.120000</td>\n",
       "                        <td id=\"T_79e60054_10cb_11eb_8145_acde48001122row5_col2\" class=\"data row5 col2\" >0.025838</td>\n",
       "                        <td id=\"T_79e60054_10cb_11eb_8145_acde48001122row5_col3\" class=\"data row5 col3\" >0.880000</td>\n",
       "                        <td id=\"T_79e60054_10cb_11eb_8145_acde48001122row5_col4\" class=\"data row5 col4\" >Twitter for Android</td>\n",
       "            </tr>\n",
       "            <tr>\n",
       "                        <th id=\"T_79e60054_10cb_11eb_8145_acde48001122level0_row6\" class=\"row_heading level0 row6\" >🇸</th>\n",
       "                        <td id=\"T_79e60054_10cb_11eb_8145_acde48001122row6_col0\" class=\"data row6 col0\" >nan</td>\n",
       "                        <td id=\"T_79e60054_10cb_11eb_8145_acde48001122row6_col1\" class=\"data row6 col1\" >1.000000</td>\n",
       "                        <td id=\"T_79e60054_10cb_11eb_8145_acde48001122row6_col2\" class=\"data row6 col2\" >0.020245</td>\n",
       "                        <td id=\"T_79e60054_10cb_11eb_8145_acde48001122row6_col3\" class=\"data row6 col3\" >1.000000</td>\n",
       "                        <td id=\"T_79e60054_10cb_11eb_8145_acde48001122row6_col4\" class=\"data row6 col4\" >Twitter for iPhone</td>\n",
       "            </tr>\n",
       "            <tr>\n",
       "                        <th id=\"T_79e60054_10cb_11eb_8145_acde48001122level0_row7\" class=\"row_heading level0 row7\" >election</th>\n",
       "                        <td id=\"T_79e60054_10cb_11eb_8145_acde48001122row7_col0\" class=\"data row7 col0\" >0.870968</td>\n",
       "                        <td id=\"T_79e60054_10cb_11eb_8145_acde48001122row7_col1\" class=\"data row7 col1\" >0.129032</td>\n",
       "                        <td id=\"T_79e60054_10cb_11eb_8145_acde48001122row7_col2\" class=\"data row7 col2\" >0.019426</td>\n",
       "                        <td id=\"T_79e60054_10cb_11eb_8145_acde48001122row7_col3\" class=\"data row7 col3\" >0.870968</td>\n",
       "                        <td id=\"T_79e60054_10cb_11eb_8145_acde48001122row7_col4\" class=\"data row7 col4\" >Twitter for Android</td>\n",
       "            </tr>\n",
       "            <tr>\n",
       "                        <th id=\"T_79e60054_10cb_11eb_8145_acde48001122level0_row8\" class=\"row_heading level0 row8\" >trump</th>\n",
       "                        <td id=\"T_79e60054_10cb_11eb_8145_acde48001122row8_col0\" class=\"data row8 col0\" >0.303571</td>\n",
       "                        <td id=\"T_79e60054_10cb_11eb_8145_acde48001122row8_col1\" class=\"data row8 col1\" >0.696429</td>\n",
       "                        <td id=\"T_79e60054_10cb_11eb_8145_acde48001122row8_col2\" class=\"data row8 col2\" >0.018401</td>\n",
       "                        <td id=\"T_79e60054_10cb_11eb_8145_acde48001122row8_col3\" class=\"data row8 col3\" >0.696429</td>\n",
       "                        <td id=\"T_79e60054_10cb_11eb_8145_acde48001122row8_col4\" class=\"data row8 col4\" >Twitter for iPhone</td>\n",
       "            </tr>\n",
       "            <tr>\n",
       "                        <th id=\"T_79e60054_10cb_11eb_8145_acde48001122level0_row9\" class=\"row_heading level0 row9\" >:/</th>\n",
       "                        <td id=\"T_79e60054_10cb_11eb_8145_acde48001122row9_col0\" class=\"data row9 col0\" >0.023952</td>\n",
       "                        <td id=\"T_79e60054_10cb_11eb_8145_acde48001122row9_col1\" class=\"data row9 col1\" >0.976048</td>\n",
       "                        <td id=\"T_79e60054_10cb_11eb_8145_acde48001122row9_col2\" class=\"data row9 col2\" >0.015710</td>\n",
       "                        <td id=\"T_79e60054_10cb_11eb_8145_acde48001122row9_col3\" class=\"data row9 col3\" >0.976048</td>\n",
       "                        <td id=\"T_79e60054_10cb_11eb_8145_acde48001122row9_col4\" class=\"data row9 col4\" >Twitter for iPhone</td>\n",
       "            </tr>\n",
       "            <tr>\n",
       "                        <th id=\"T_79e60054_10cb_11eb_8145_acde48001122level0_row10\" class=\"row_heading level0 row10\" >@whitehouse</th>\n",
       "                        <td id=\"T_79e60054_10cb_11eb_8145_acde48001122row10_col0\" class=\"data row10 col0\" >nan</td>\n",
       "                        <td id=\"T_79e60054_10cb_11eb_8145_acde48001122row10_col1\" class=\"data row10 col1\" >1.000000</td>\n",
       "                        <td id=\"T_79e60054_10cb_11eb_8145_acde48001122row10_col2\" class=\"data row10 col2\" >0.013524</td>\n",
       "                        <td id=\"T_79e60054_10cb_11eb_8145_acde48001122row10_col3\" class=\"data row10 col3\" >1.000000</td>\n",
       "                        <td id=\"T_79e60054_10cb_11eb_8145_acde48001122row10_col4\" class=\"data row10 col4\" >Twitter for iPhone</td>\n",
       "            </tr>\n",
       "            <tr>\n",
       "                        <th id=\"T_79e60054_10cb_11eb_8145_acde48001122level0_row11\" class=\"row_heading level0 row11\" >🇺</th>\n",
       "                        <td id=\"T_79e60054_10cb_11eb_8145_acde48001122row11_col0\" class=\"data row11 col0\" >nan</td>\n",
       "                        <td id=\"T_79e60054_10cb_11eb_8145_acde48001122row11_col1\" class=\"data row11 col1\" >1.000000</td>\n",
       "                        <td id=\"T_79e60054_10cb_11eb_8145_acde48001122row11_col2\" class=\"data row11 col2\" >0.012103</td>\n",
       "                        <td id=\"T_79e60054_10cb_11eb_8145_acde48001122row11_col3\" class=\"data row11 col3\" >1.000000</td>\n",
       "                        <td id=\"T_79e60054_10cb_11eb_8145_acde48001122row11_col4\" class=\"data row11 col4\" >Twitter for iPhone</td>\n",
       "            </tr>\n",
       "            <tr>\n",
       "                        <th id=\"T_79e60054_10cb_11eb_8145_acde48001122level0_row12\" class=\"row_heading level0 row12\" >jobs</th>\n",
       "                        <td id=\"T_79e60054_10cb_11eb_8145_acde48001122row12_col0\" class=\"data row12 col0\" >0.468750</td>\n",
       "                        <td id=\"T_79e60054_10cb_11eb_8145_acde48001122row12_col1\" class=\"data row12 col1\" >0.531250</td>\n",
       "                        <td id=\"T_79e60054_10cb_11eb_8145_acde48001122row12_col2\" class=\"data row12 col2\" >0.011603</td>\n",
       "                        <td id=\"T_79e60054_10cb_11eb_8145_acde48001122row12_col3\" class=\"data row12 col3\" >0.531250</td>\n",
       "                        <td id=\"T_79e60054_10cb_11eb_8145_acde48001122row12_col4\" class=\"data row12 col4\" >Twitter for iPhone</td>\n",
       "            </tr>\n",
       "            <tr>\n",
       "                        <th id=\"T_79e60054_10cb_11eb_8145_acde48001122level0_row13\" class=\"row_heading level0 row13\" >u</th>\n",
       "                        <td id=\"T_79e60054_10cb_11eb_8145_acde48001122row13_col0\" class=\"data row13 col0\" >0.602170</td>\n",
       "                        <td id=\"T_79e60054_10cb_11eb_8145_acde48001122row13_col1\" class=\"data row13 col1\" >0.397830</td>\n",
       "                        <td id=\"T_79e60054_10cb_11eb_8145_acde48001122row13_col2\" class=\"data row13 col2\" >0.007165</td>\n",
       "                        <td id=\"T_79e60054_10cb_11eb_8145_acde48001122row13_col3\" class=\"data row13 col3\" >0.602170</td>\n",
       "                        <td id=\"T_79e60054_10cb_11eb_8145_acde48001122row13_col4\" class=\"data row13 col4\" >Twitter for Android</td>\n",
       "            </tr>\n",
       "            <tr>\n",
       "                        <th id=\"T_79e60054_10cb_11eb_8145_acde48001122level0_row14\" class=\"row_heading level0 row14\" >thank</th>\n",
       "                        <td id=\"T_79e60054_10cb_11eb_8145_acde48001122row14_col0\" class=\"data row14 col0\" >0.360656</td>\n",
       "                        <td id=\"T_79e60054_10cb_11eb_8145_acde48001122row14_col1\" class=\"data row14 col1\" >0.639344</td>\n",
       "                        <td id=\"T_79e60054_10cb_11eb_8145_acde48001122row14_col2\" class=\"data row14 col2\" >0.006575</td>\n",
       "                        <td id=\"T_79e60054_10cb_11eb_8145_acde48001122row14_col3\" class=\"data row14 col3\" >0.639344</td>\n",
       "                        <td id=\"T_79e60054_10cb_11eb_8145_acde48001122row14_col4\" class=\"data row14 col4\" >Twitter for iPhone</td>\n",
       "            </tr>\n",
       "            <tr>\n",
       "                        <th id=\"T_79e60054_10cb_11eb_8145_acde48001122level0_row15\" class=\"row_heading level0 row15\" >congratulations</th>\n",
       "                        <td id=\"T_79e60054_10cb_11eb_8145_acde48001122row15_col0\" class=\"data row15 col0\" >0.333333</td>\n",
       "                        <td id=\"T_79e60054_10cb_11eb_8145_acde48001122row15_col1\" class=\"data row15 col1\" >0.666667</td>\n",
       "                        <td id=\"T_79e60054_10cb_11eb_8145_acde48001122row15_col2\" class=\"data row15 col2\" >0.003490</td>\n",
       "                        <td id=\"T_79e60054_10cb_11eb_8145_acde48001122row15_col3\" class=\"data row15 col3\" >0.666667</td>\n",
       "                        <td id=\"T_79e60054_10cb_11eb_8145_acde48001122row15_col4\" class=\"data row15 col4\" >Twitter for iPhone</td>\n",
       "            </tr>\n",
       "            <tr>\n",
       "                        <th id=\"T_79e60054_10cb_11eb_8145_acde48001122level0_row16\" class=\"row_heading level0 row16\" >country</th>\n",
       "                        <td id=\"T_79e60054_10cb_11eb_8145_acde48001122row16_col0\" class=\"data row16 col0\" >0.862069</td>\n",
       "                        <td id=\"T_79e60054_10cb_11eb_8145_acde48001122row16_col1\" class=\"data row16 col1\" >0.137931</td>\n",
       "                        <td id=\"T_79e60054_10cb_11eb_8145_acde48001122row16_col2\" class=\"data row16 col2\" >0.000853</td>\n",
       "                        <td id=\"T_79e60054_10cb_11eb_8145_acde48001122row16_col3\" class=\"data row16 col3\" >0.862069</td>\n",
       "                        <td id=\"T_79e60054_10cb_11eb_8145_acde48001122row16_col4\" class=\"data row16 col4\" >Twitter for Android</td>\n",
       "            </tr>\n",
       "            <tr>\n",
       "                        <th id=\"T_79e60054_10cb_11eb_8145_acde48001122level0_row17\" class=\"row_heading level0 row17\" >great</th>\n",
       "                        <td id=\"T_79e60054_10cb_11eb_8145_acde48001122row17_col0\" class=\"data row17 col0\" >0.572917</td>\n",
       "                        <td id=\"T_79e60054_10cb_11eb_8145_acde48001122row17_col1\" class=\"data row17 col1\" >0.427083</td>\n",
       "                        <td id=\"T_79e60054_10cb_11eb_8145_acde48001122row17_col2\" class=\"data row17 col2\" >0.000172</td>\n",
       "                        <td id=\"T_79e60054_10cb_11eb_8145_acde48001122row17_col3\" class=\"data row17 col3\" >0.572917</td>\n",
       "                        <td id=\"T_79e60054_10cb_11eb_8145_acde48001122row17_col4\" class=\"data row17 col4\" >Twitter for Android</td>\n",
       "            </tr>\n",
       "            <tr>\n",
       "                        <th id=\"T_79e60054_10cb_11eb_8145_acde48001122level0_row18\" class=\"row_heading level0 row18\" >time</th>\n",
       "                        <td id=\"T_79e60054_10cb_11eb_8145_acde48001122row18_col0\" class=\"data row18 col0\" >0.813953</td>\n",
       "                        <td id=\"T_79e60054_10cb_11eb_8145_acde48001122row18_col1\" class=\"data row18 col1\" >0.186047</td>\n",
       "                        <td id=\"T_79e60054_10cb_11eb_8145_acde48001122row18_col2\" class=\"data row18 col2\" >0.000000</td>\n",
       "                        <td id=\"T_79e60054_10cb_11eb_8145_acde48001122row18_col3\" class=\"data row18 col3\" >0.813953</td>\n",
       "                        <td id=\"T_79e60054_10cb_11eb_8145_acde48001122row18_col4\" class=\"data row18 col4\" >Twitter for Android</td>\n",
       "            </tr>\n",
       "            <tr>\n",
       "                        <th id=\"T_79e60054_10cb_11eb_8145_acde48001122level0_row19\" class=\"row_heading level0 row19\" >big</th>\n",
       "                        <td id=\"T_79e60054_10cb_11eb_8145_acde48001122row19_col0\" class=\"data row19 col0\" >0.820513</td>\n",
       "                        <td id=\"T_79e60054_10cb_11eb_8145_acde48001122row19_col1\" class=\"data row19 col1\" >0.179487</td>\n",
       "                        <td id=\"T_79e60054_10cb_11eb_8145_acde48001122row19_col2\" class=\"data row19 col2\" >0.000000</td>\n",
       "                        <td id=\"T_79e60054_10cb_11eb_8145_acde48001122row19_col3\" class=\"data row19 col3\" >0.820513</td>\n",
       "                        <td id=\"T_79e60054_10cb_11eb_8145_acde48001122row19_col4\" class=\"data row19 col4\" >Twitter for Android</td>\n",
       "            </tr>\n",
       "    </tbody></table>"
      ],
      "text/plain": [
       "<pandas.io.formats.style.Styler at 0x7ff45b0c1f98>"
      ]
     },
     "execution_count": 72,
     "metadata": {},
     "output_type": "execute_result"
    }
   ],
   "source": [
    "## Summary Table with Most Frequent Words \n",
    "prob_cols =['Twitter for Android','Twitter for iPhone']\n",
    "top_probs['importance'] = importance.loc[top_probs.index]\n",
    "\n",
    "top_probs['max_prob'] = top_probs[prob_cols].max(axis=1)\n",
    "top_probs['Max Prob Class'] = top_probs[prob_cols].idxmax(axis=1)\n",
    "top_probs.sort_values('importance',0,0,inplace=True)\n",
    "top_probs.style.bar('importance')\\\n",
    "                    .background_gradient(subset=['max_prob'])\\\n",
    "                    .highlight_max(subset=prob_cols,axis=1,color='lightgreen')\n",
    "#.background_gradient(subset=prob_cols,axis=1,cmap='Reds')"
   ]
  },
  {
   "cell_type": "code",
   "execution_count": null,
   "metadata": {
    "hidden": true
   },
   "outputs": [],
   "source": []
  },
  {
   "cell_type": "code",
   "execution_count": 73,
   "metadata": {
    "ExecuteTime": {
     "end_time": "2020-10-17T22:52:47.481561Z",
     "start_time": "2020-10-17T22:52:47.458342Z"
    },
    "hidden": true
   },
   "outputs": [
    {
     "data": {
      "text/html": [
       "<style  type=\"text/css\" >\n",
       "#T_79e99b1a_10cb_11eb_831c_acde48001122row0_col1{\n",
       "            background-color:  #034165;\n",
       "            color:  #f1f1f1;\n",
       "        }#T_79e99b1a_10cb_11eb_831c_acde48001122row0_col2{\n",
       "            width:  10em;\n",
       "             height:  80%;\n",
       "            background:  linear-gradient(90deg,#d65f5f 100.0%, transparent 100.0%);\n",
       "        }#T_79e99b1a_10cb_11eb_831c_acde48001122row1_col1{\n",
       "            background-color:  #fff7fb;\n",
       "            color:  #000000;\n",
       "        }#T_79e99b1a_10cb_11eb_831c_acde48001122row1_col2{\n",
       "            width:  10em;\n",
       "             height:  80%;\n",
       "            background:  linear-gradient(90deg,#d65f5f 87.2%, transparent 87.2%);\n",
       "        }#T_79e99b1a_10cb_11eb_831c_acde48001122row2_col1{\n",
       "            background-color:  #034c78;\n",
       "            color:  #f1f1f1;\n",
       "        }#T_79e99b1a_10cb_11eb_831c_acde48001122row2_col2{\n",
       "            width:  10em;\n",
       "             height:  80%;\n",
       "            background:  linear-gradient(90deg,#d65f5f 79.8%, transparent 79.8%);\n",
       "        }#T_79e99b1a_10cb_11eb_831c_acde48001122row3_col1{\n",
       "            background-color:  #056ead;\n",
       "            color:  #f1f1f1;\n",
       "        }#T_79e99b1a_10cb_11eb_831c_acde48001122row3_col2{\n",
       "            width:  10em;\n",
       "             height:  80%;\n",
       "            background:  linear-gradient(90deg,#d65f5f 50.0%, transparent 50.0%);\n",
       "        }#T_79e99b1a_10cb_11eb_831c_acde48001122row4_col1{\n",
       "            background-color:  #efe9f3;\n",
       "            color:  #000000;\n",
       "        }#T_79e99b1a_10cb_11eb_831c_acde48001122row4_col2{\n",
       "            width:  10em;\n",
       "             height:  80%;\n",
       "            background:  linear-gradient(90deg,#d65f5f 47.7%, transparent 47.7%);\n",
       "        }#T_79e99b1a_10cb_11eb_831c_acde48001122row5_col1{\n",
       "            background-color:  #0771b1;\n",
       "            color:  #f1f1f1;\n",
       "        }#T_79e99b1a_10cb_11eb_831c_acde48001122row5_col2{\n",
       "            width:  10em;\n",
       "             height:  80%;\n",
       "            background:  linear-gradient(90deg,#d65f5f 45.4%, transparent 45.4%);\n",
       "        }#T_79e99b1a_10cb_11eb_831c_acde48001122row6_col1,#T_79e99b1a_10cb_11eb_831c_acde48001122row10_col1,#T_79e99b1a_10cb_11eb_831c_acde48001122row11_col1{\n",
       "            background-color:  #023858;\n",
       "            color:  #f1f1f1;\n",
       "        }#T_79e99b1a_10cb_11eb_831c_acde48001122row6_col2{\n",
       "            width:  10em;\n",
       "             height:  80%;\n",
       "            background:  linear-gradient(90deg,#d65f5f 35.5%, transparent 35.5%);\n",
       "        }#T_79e99b1a_10cb_11eb_831c_acde48001122row7_col1{\n",
       "            background-color:  #0d75b3;\n",
       "            color:  #f1f1f1;\n",
       "        }#T_79e99b1a_10cb_11eb_831c_acde48001122row7_col2{\n",
       "            width:  10em;\n",
       "             height:  80%;\n",
       "            background:  linear-gradient(90deg,#d65f5f 34.1%, transparent 34.1%);\n",
       "        }#T_79e99b1a_10cb_11eb_831c_acde48001122row8_col1{\n",
       "            background-color:  #acc0dd;\n",
       "            color:  #000000;\n",
       "        }#T_79e99b1a_10cb_11eb_831c_acde48001122row8_col2{\n",
       "            width:  10em;\n",
       "             height:  80%;\n",
       "            background:  linear-gradient(90deg,#d65f5f 32.3%, transparent 32.3%);\n",
       "        }#T_79e99b1a_10cb_11eb_831c_acde48001122row9_col1{\n",
       "            background-color:  #03456c;\n",
       "            color:  #f1f1f1;\n",
       "        }#T_79e99b1a_10cb_11eb_831c_acde48001122row9_col2{\n",
       "            width:  10em;\n",
       "             height:  80%;\n",
       "            background:  linear-gradient(90deg,#d65f5f 27.6%, transparent 27.6%);\n",
       "        }#T_79e99b1a_10cb_11eb_831c_acde48001122row10_col2{\n",
       "            width:  10em;\n",
       "             height:  80%;\n",
       "            background:  linear-gradient(90deg,#d65f5f 23.7%, transparent 23.7%);\n",
       "        }#T_79e99b1a_10cb_11eb_831c_acde48001122row11_col2{\n",
       "            width:  10em;\n",
       "             height:  80%;\n",
       "            background:  linear-gradient(90deg,#d65f5f 21.2%, transparent 21.2%);\n",
       "        }#T_79e99b1a_10cb_11eb_831c_acde48001122row12_col1{\n",
       "            background-color:  #fef6fa;\n",
       "            color:  #000000;\n",
       "        }#T_79e99b1a_10cb_11eb_831c_acde48001122row12_col2{\n",
       "            width:  10em;\n",
       "             height:  80%;\n",
       "            background:  linear-gradient(90deg,#d65f5f 20.4%, transparent 20.4%);\n",
       "        }#T_79e99b1a_10cb_11eb_831c_acde48001122row13_col1{\n",
       "            background-color:  #e5e1ef;\n",
       "            color:  #000000;\n",
       "        }#T_79e99b1a_10cb_11eb_831c_acde48001122row13_col2{\n",
       "            width:  10em;\n",
       "             height:  80%;\n",
       "            background:  linear-gradient(90deg,#d65f5f 12.6%, transparent 12.6%);\n",
       "        }#T_79e99b1a_10cb_11eb_831c_acde48001122row14_col1{\n",
       "            background-color:  #d3d4e7;\n",
       "            color:  #000000;\n",
       "        }#T_79e99b1a_10cb_11eb_831c_acde48001122row14_col2{\n",
       "            width:  10em;\n",
       "             height:  80%;\n",
       "            background:  linear-gradient(90deg,#d65f5f 11.5%, transparent 11.5%);\n",
       "        }#T_79e99b1a_10cb_11eb_831c_acde48001122row15_col1{\n",
       "            background-color:  #c1cae2;\n",
       "            color:  #000000;\n",
       "        }#T_79e99b1a_10cb_11eb_831c_acde48001122row15_col2{\n",
       "            width:  10em;\n",
       "             height:  80%;\n",
       "            background:  linear-gradient(90deg,#d65f5f 6.1%, transparent 6.1%);\n",
       "        }#T_79e99b1a_10cb_11eb_831c_acde48001122row16_col1{\n",
       "            background-color:  #157ab5;\n",
       "            color:  #000000;\n",
       "        }#T_79e99b1a_10cb_11eb_831c_acde48001122row16_col2{\n",
       "            width:  10em;\n",
       "             height:  80%;\n",
       "            background:  linear-gradient(90deg,#d65f5f 1.5%, transparent 1.5%);\n",
       "        }#T_79e99b1a_10cb_11eb_831c_acde48001122row17_col1{\n",
       "            background-color:  #f1ebf4;\n",
       "            color:  #000000;\n",
       "        }#T_79e99b1a_10cb_11eb_831c_acde48001122row17_col2{\n",
       "            width:  10em;\n",
       "             height:  80%;\n",
       "            background:  linear-gradient(90deg,#d65f5f 0.3%, transparent 0.3%);\n",
       "        }#T_79e99b1a_10cb_11eb_831c_acde48001122row18_col1{\n",
       "            background-color:  #3f93c2;\n",
       "            color:  #000000;\n",
       "        }#T_79e99b1a_10cb_11eb_831c_acde48001122row18_col2,#T_79e99b1a_10cb_11eb_831c_acde48001122row19_col2{\n",
       "            width:  10em;\n",
       "             height:  80%;\n",
       "        }#T_79e99b1a_10cb_11eb_831c_acde48001122row19_col1{\n",
       "            background-color:  #3991c1;\n",
       "            color:  #000000;\n",
       "        }</style><table id=\"T_79e99b1a_10cb_11eb_831c_acde48001122\" ><thead>    <tr>        <th class=\"blank level0\" ></th>        <th class=\"col_heading level0 col0\" >Max Prob Class</th>        <th class=\"col_heading level0 col1\" >max_prob</th>        <th class=\"col_heading level0 col2\" >importance</th>    </tr></thead><tbody>\n",
       "                <tr>\n",
       "                        <th id=\"T_79e99b1a_10cb_11eb_831c_acde48001122level0_row0\" class=\"row_heading level0 row0\" >…</th>\n",
       "                        <td id=\"T_79e99b1a_10cb_11eb_831c_acde48001122row0_col0\" class=\"data row0 col0\" >Twitter for iPhone</td>\n",
       "                        <td id=\"T_79e99b1a_10cb_11eb_831c_acde48001122row0_col1\" class=\"data row0 col1\" >0.984127</td>\n",
       "                        <td id=\"T_79e99b1a_10cb_11eb_831c_acde48001122row0_col2\" class=\"data row0 col2\" >0.056960</td>\n",
       "            </tr>\n",
       "            <tr>\n",
       "                        <th id=\"T_79e99b1a_10cb_11eb_831c_acde48001122level0_row1\" class=\"row_heading level0 row1\" >rt</th>\n",
       "                        <td id=\"T_79e99b1a_10cb_11eb_831c_acde48001122row1_col0\" class=\"data row1 col0\" >Twitter for Android</td>\n",
       "                        <td id=\"T_79e99b1a_10cb_11eb_831c_acde48001122row1_col1\" class=\"data row1 col1\" >0.527559</td>\n",
       "                        <td id=\"T_79e99b1a_10cb_11eb_831c_acde48001122row1_col2\" class=\"data row1 col2\" >0.049645</td>\n",
       "            </tr>\n",
       "            <tr>\n",
       "                        <th id=\"T_79e99b1a_10cb_11eb_831c_acde48001122level0_row2\" class=\"row_heading level0 row2\" >join</th>\n",
       "                        <td id=\"T_79e99b1a_10cb_11eb_831c_acde48001122row2_col0\" class=\"data row2 col0\" >Twitter for iPhone</td>\n",
       "                        <td id=\"T_79e99b1a_10cb_11eb_831c_acde48001122row2_col1\" class=\"data row2 col1\" >0.964286</td>\n",
       "                        <td id=\"T_79e99b1a_10cb_11eb_831c_acde48001122row2_col2\" class=\"data row2 col2\" >0.045449</td>\n",
       "            </tr>\n",
       "            <tr>\n",
       "                        <th id=\"T_79e99b1a_10cb_11eb_831c_acde48001122level0_row3\" class=\"row_heading level0 row3\" >media</th>\n",
       "                        <td id=\"T_79e99b1a_10cb_11eb_831c_acde48001122row3_col0\" class=\"data row3 col0\" >Twitter for Android</td>\n",
       "                        <td id=\"T_79e99b1a_10cb_11eb_831c_acde48001122row3_col1\" class=\"data row3 col1\" >0.885714</td>\n",
       "                        <td id=\"T_79e99b1a_10cb_11eb_831c_acde48001122row3_col2\" class=\"data row3 col2\" >0.028492</td>\n",
       "            </tr>\n",
       "            <tr>\n",
       "                        <th id=\"T_79e99b1a_10cb_11eb_831c_acde48001122level0_row4\" class=\"row_heading level0 row4\" >today</th>\n",
       "                        <td id=\"T_79e99b1a_10cb_11eb_831c_acde48001122row4_col0\" class=\"data row4 col0\" >Twitter for iPhone</td>\n",
       "                        <td id=\"T_79e99b1a_10cb_11eb_831c_acde48001122row4_col1\" class=\"data row4 col1\" >0.578947</td>\n",
       "                        <td id=\"T_79e99b1a_10cb_11eb_831c_acde48001122row4_col2\" class=\"data row4 col2\" >0.027159</td>\n",
       "            </tr>\n",
       "            <tr>\n",
       "                        <th id=\"T_79e99b1a_10cb_11eb_831c_acde48001122level0_row5\" class=\"row_heading level0 row5\" >people</th>\n",
       "                        <td id=\"T_79e99b1a_10cb_11eb_831c_acde48001122row5_col0\" class=\"data row5 col0\" >Twitter for Android</td>\n",
       "                        <td id=\"T_79e99b1a_10cb_11eb_831c_acde48001122row5_col1\" class=\"data row5 col1\" >0.880000</td>\n",
       "                        <td id=\"T_79e99b1a_10cb_11eb_831c_acde48001122row5_col2\" class=\"data row5 col2\" >0.025838</td>\n",
       "            </tr>\n",
       "            <tr>\n",
       "                        <th id=\"T_79e99b1a_10cb_11eb_831c_acde48001122level0_row6\" class=\"row_heading level0 row6\" >🇸</th>\n",
       "                        <td id=\"T_79e99b1a_10cb_11eb_831c_acde48001122row6_col0\" class=\"data row6 col0\" >Twitter for iPhone</td>\n",
       "                        <td id=\"T_79e99b1a_10cb_11eb_831c_acde48001122row6_col1\" class=\"data row6 col1\" >1.000000</td>\n",
       "                        <td id=\"T_79e99b1a_10cb_11eb_831c_acde48001122row6_col2\" class=\"data row6 col2\" >0.020245</td>\n",
       "            </tr>\n",
       "            <tr>\n",
       "                        <th id=\"T_79e99b1a_10cb_11eb_831c_acde48001122level0_row7\" class=\"row_heading level0 row7\" >election</th>\n",
       "                        <td id=\"T_79e99b1a_10cb_11eb_831c_acde48001122row7_col0\" class=\"data row7 col0\" >Twitter for Android</td>\n",
       "                        <td id=\"T_79e99b1a_10cb_11eb_831c_acde48001122row7_col1\" class=\"data row7 col1\" >0.870968</td>\n",
       "                        <td id=\"T_79e99b1a_10cb_11eb_831c_acde48001122row7_col2\" class=\"data row7 col2\" >0.019426</td>\n",
       "            </tr>\n",
       "            <tr>\n",
       "                        <th id=\"T_79e99b1a_10cb_11eb_831c_acde48001122level0_row8\" class=\"row_heading level0 row8\" >trump</th>\n",
       "                        <td id=\"T_79e99b1a_10cb_11eb_831c_acde48001122row8_col0\" class=\"data row8 col0\" >Twitter for iPhone</td>\n",
       "                        <td id=\"T_79e99b1a_10cb_11eb_831c_acde48001122row8_col1\" class=\"data row8 col1\" >0.696429</td>\n",
       "                        <td id=\"T_79e99b1a_10cb_11eb_831c_acde48001122row8_col2\" class=\"data row8 col2\" >0.018401</td>\n",
       "            </tr>\n",
       "            <tr>\n",
       "                        <th id=\"T_79e99b1a_10cb_11eb_831c_acde48001122level0_row9\" class=\"row_heading level0 row9\" >:/</th>\n",
       "                        <td id=\"T_79e99b1a_10cb_11eb_831c_acde48001122row9_col0\" class=\"data row9 col0\" >Twitter for iPhone</td>\n",
       "                        <td id=\"T_79e99b1a_10cb_11eb_831c_acde48001122row9_col1\" class=\"data row9 col1\" >0.976048</td>\n",
       "                        <td id=\"T_79e99b1a_10cb_11eb_831c_acde48001122row9_col2\" class=\"data row9 col2\" >0.015710</td>\n",
       "            </tr>\n",
       "            <tr>\n",
       "                        <th id=\"T_79e99b1a_10cb_11eb_831c_acde48001122level0_row10\" class=\"row_heading level0 row10\" >@whitehouse</th>\n",
       "                        <td id=\"T_79e99b1a_10cb_11eb_831c_acde48001122row10_col0\" class=\"data row10 col0\" >Twitter for iPhone</td>\n",
       "                        <td id=\"T_79e99b1a_10cb_11eb_831c_acde48001122row10_col1\" class=\"data row10 col1\" >1.000000</td>\n",
       "                        <td id=\"T_79e99b1a_10cb_11eb_831c_acde48001122row10_col2\" class=\"data row10 col2\" >0.013524</td>\n",
       "            </tr>\n",
       "            <tr>\n",
       "                        <th id=\"T_79e99b1a_10cb_11eb_831c_acde48001122level0_row11\" class=\"row_heading level0 row11\" >🇺</th>\n",
       "                        <td id=\"T_79e99b1a_10cb_11eb_831c_acde48001122row11_col0\" class=\"data row11 col0\" >Twitter for iPhone</td>\n",
       "                        <td id=\"T_79e99b1a_10cb_11eb_831c_acde48001122row11_col1\" class=\"data row11 col1\" >1.000000</td>\n",
       "                        <td id=\"T_79e99b1a_10cb_11eb_831c_acde48001122row11_col2\" class=\"data row11 col2\" >0.012103</td>\n",
       "            </tr>\n",
       "            <tr>\n",
       "                        <th id=\"T_79e99b1a_10cb_11eb_831c_acde48001122level0_row12\" class=\"row_heading level0 row12\" >jobs</th>\n",
       "                        <td id=\"T_79e99b1a_10cb_11eb_831c_acde48001122row12_col0\" class=\"data row12 col0\" >Twitter for iPhone</td>\n",
       "                        <td id=\"T_79e99b1a_10cb_11eb_831c_acde48001122row12_col1\" class=\"data row12 col1\" >0.531250</td>\n",
       "                        <td id=\"T_79e99b1a_10cb_11eb_831c_acde48001122row12_col2\" class=\"data row12 col2\" >0.011603</td>\n",
       "            </tr>\n",
       "            <tr>\n",
       "                        <th id=\"T_79e99b1a_10cb_11eb_831c_acde48001122level0_row13\" class=\"row_heading level0 row13\" >u</th>\n",
       "                        <td id=\"T_79e99b1a_10cb_11eb_831c_acde48001122row13_col0\" class=\"data row13 col0\" >Twitter for Android</td>\n",
       "                        <td id=\"T_79e99b1a_10cb_11eb_831c_acde48001122row13_col1\" class=\"data row13 col1\" >0.602170</td>\n",
       "                        <td id=\"T_79e99b1a_10cb_11eb_831c_acde48001122row13_col2\" class=\"data row13 col2\" >0.007165</td>\n",
       "            </tr>\n",
       "            <tr>\n",
       "                        <th id=\"T_79e99b1a_10cb_11eb_831c_acde48001122level0_row14\" class=\"row_heading level0 row14\" >thank</th>\n",
       "                        <td id=\"T_79e99b1a_10cb_11eb_831c_acde48001122row14_col0\" class=\"data row14 col0\" >Twitter for iPhone</td>\n",
       "                        <td id=\"T_79e99b1a_10cb_11eb_831c_acde48001122row14_col1\" class=\"data row14 col1\" >0.639344</td>\n",
       "                        <td id=\"T_79e99b1a_10cb_11eb_831c_acde48001122row14_col2\" class=\"data row14 col2\" >0.006575</td>\n",
       "            </tr>\n",
       "            <tr>\n",
       "                        <th id=\"T_79e99b1a_10cb_11eb_831c_acde48001122level0_row15\" class=\"row_heading level0 row15\" >congratulations</th>\n",
       "                        <td id=\"T_79e99b1a_10cb_11eb_831c_acde48001122row15_col0\" class=\"data row15 col0\" >Twitter for iPhone</td>\n",
       "                        <td id=\"T_79e99b1a_10cb_11eb_831c_acde48001122row15_col1\" class=\"data row15 col1\" >0.666667</td>\n",
       "                        <td id=\"T_79e99b1a_10cb_11eb_831c_acde48001122row15_col2\" class=\"data row15 col2\" >0.003490</td>\n",
       "            </tr>\n",
       "            <tr>\n",
       "                        <th id=\"T_79e99b1a_10cb_11eb_831c_acde48001122level0_row16\" class=\"row_heading level0 row16\" >country</th>\n",
       "                        <td id=\"T_79e99b1a_10cb_11eb_831c_acde48001122row16_col0\" class=\"data row16 col0\" >Twitter for Android</td>\n",
       "                        <td id=\"T_79e99b1a_10cb_11eb_831c_acde48001122row16_col1\" class=\"data row16 col1\" >0.862069</td>\n",
       "                        <td id=\"T_79e99b1a_10cb_11eb_831c_acde48001122row16_col2\" class=\"data row16 col2\" >0.000853</td>\n",
       "            </tr>\n",
       "            <tr>\n",
       "                        <th id=\"T_79e99b1a_10cb_11eb_831c_acde48001122level0_row17\" class=\"row_heading level0 row17\" >great</th>\n",
       "                        <td id=\"T_79e99b1a_10cb_11eb_831c_acde48001122row17_col0\" class=\"data row17 col0\" >Twitter for Android</td>\n",
       "                        <td id=\"T_79e99b1a_10cb_11eb_831c_acde48001122row17_col1\" class=\"data row17 col1\" >0.572917</td>\n",
       "                        <td id=\"T_79e99b1a_10cb_11eb_831c_acde48001122row17_col2\" class=\"data row17 col2\" >0.000172</td>\n",
       "            </tr>\n",
       "            <tr>\n",
       "                        <th id=\"T_79e99b1a_10cb_11eb_831c_acde48001122level0_row18\" class=\"row_heading level0 row18\" >time</th>\n",
       "                        <td id=\"T_79e99b1a_10cb_11eb_831c_acde48001122row18_col0\" class=\"data row18 col0\" >Twitter for Android</td>\n",
       "                        <td id=\"T_79e99b1a_10cb_11eb_831c_acde48001122row18_col1\" class=\"data row18 col1\" >0.813953</td>\n",
       "                        <td id=\"T_79e99b1a_10cb_11eb_831c_acde48001122row18_col2\" class=\"data row18 col2\" >0.000000</td>\n",
       "            </tr>\n",
       "            <tr>\n",
       "                        <th id=\"T_79e99b1a_10cb_11eb_831c_acde48001122level0_row19\" class=\"row_heading level0 row19\" >big</th>\n",
       "                        <td id=\"T_79e99b1a_10cb_11eb_831c_acde48001122row19_col0\" class=\"data row19 col0\" >Twitter for Android</td>\n",
       "                        <td id=\"T_79e99b1a_10cb_11eb_831c_acde48001122row19_col1\" class=\"data row19 col1\" >0.820513</td>\n",
       "                        <td id=\"T_79e99b1a_10cb_11eb_831c_acde48001122row19_col2\" class=\"data row19 col2\" >0.000000</td>\n",
       "            </tr>\n",
       "    </tbody></table>"
      ],
      "text/plain": [
       "<pandas.io.formats.style.Styler at 0x7ff45b63c438>"
      ]
     },
     "metadata": {},
     "output_type": "display_data"
    },
    {
     "data": {
      "text/plain": [
       "Twitter for iPhone     0.55\n",
       "Twitter for Android    0.45\n",
       "Name: Max Prob Class, dtype: float64"
      ]
     },
     "execution_count": 73,
     "metadata": {},
     "output_type": "execute_result"
    }
   ],
   "source": [
    "results = top_probs[['Max Prob Class','max_prob','importance']]\n",
    "display(results.style.bar('importance').background_gradient(subset=['max_prob']))\n",
    "results['Max Prob Class'].value_counts(1)\n"
   ]
  },
  {
   "cell_type": "markdown",
   "metadata": {
    "hidden": true
   },
   "source": [
    "### Interactive Tokenizer Example"
   ]
  },
  {
   "cell_type": "code",
   "execution_count": 74,
   "metadata": {
    "ExecuteTime": {
     "end_time": "2020-10-17T22:52:47.509434Z",
     "start_time": "2020-10-17T22:52:47.483975Z"
    },
    "hidden": true
   },
   "outputs": [
    {
     "data": {
      "application/vnd.jupyter.widget-view+json": {
       "model_id": "0b6c91b7ab5946bd9bc4a3aef5b86d07",
       "version_major": 2,
       "version_minor": 0
      },
      "text/plain": [
       "interactive(children=(IntSlider(value=7032, description='i', max=14065), Output()), _dom_classes=('widget-inte…"
      ]
     },
     "metadata": {},
     "output_type": "display_data"
    }
   ],
   "source": [
    "from nltk import word_tokenize\n",
    "from ipywidgets import interact\n",
    "\n",
    "@interact\n",
    "def tokenize_tweet(i=(0,len(corpus)-1)):\n",
    "    from nltk.corpus import stopwords\n",
    "    import string\n",
    "    from nltk import word_tokenize,regexp_tokenize\n",
    "    \n",
    "    print(f\"- Tweet #{i}:\\n\")\n",
    "    print(corpus[i],'\\n')\n",
    "    tokens = word_tokenize(corpus[i])\n",
    "\n",
    "    # Get all the stop words in the English language\n",
    "    stopwords_list = stopwords.words('english')\n",
    "    stopwords_list += string.punctuation\n",
    "    stopped_tokens = [w.lower() for w in tokens if w not in stopwords_list]\n",
    "    \n",
    "    print(tokens,end='\\n\\n')\n",
    "    print(stopped_tokens)"
   ]
  },
  {
   "cell_type": "markdown",
   "metadata": {
    "hidden": true
   },
   "source": [
    "### NLP Vocabulary\n",
    "- Corpus\n",
    "    - Body of text\n",
    "    \n",
    "- Bag of Words\n",
    "    - Collection of all words from a corpus.\n"
   ]
  },
  {
   "cell_type": "markdown",
   "metadata": {
    "hidden": true
   },
   "source": [
    "## Regular Expressions"
   ]
  },
  {
   "cell_type": "markdown",
   "metadata": {
    "hidden": true
   },
   "source": [
    "- Use https://regex101.com/ to test out regular expressions"
   ]
  },
  {
   "cell_type": "markdown",
   "metadata": {
    "hidden": true
   },
   "source": [
    "## Context-Free Grammers and POS Tagging"
   ]
  },
  {
   "cell_type": "markdown",
   "metadata": {
    "hidden": true
   },
   "source": [
    "<img src=\"https://raw.githubusercontent.com/jirvingphd/dsc-context-free-grammars-and-POS-tagging-online-ds-ft-100719/master/images/new_LevelsOfLanguage-Graph.png\">"
   ]
  },
  {
   "cell_type": "markdown",
   "metadata": {
    "hidden": true
   },
   "source": [
    "#### Syntax and Meaning Can be Difficult for Computers \n",
    "\n",
    "In English, sentences consist of a **_Noun Phrase_** followed by a **_Verb Phrase_**, which may optionally be followed by a **_Prepositional Phrase_**.\n",
    "\n",
    "This ***seems simple, but it gets more tricky*** when we realize that there is a recursive structure to these phrases.\n",
    "\n",
    "- A noun phrase may consist of multiple smaller noun phrases, and in some cases, even a verb phrase. \n",
    "- Similarly, a verb phrase can consist of multiple smaller verb phrases and noun phrases, which can themselves be made up of smaller noun phrases and verb phrases. \n",
    "\n",
    "\n",
    "This leads levels of **_ambiguity_** that can be troublesome for computers. NLTK's documentation explains this by examining the classic Groucho Marx joke:\n",
    "\n",
    "> ***\"While hunting in Africa, I shot an elephant in my pajamas. How he got into my pajamas, I don't know.\"***\n",
    "\n"
   ]
  },
  {
   "cell_type": "markdown",
   "metadata": {
    "hidden": true
   },
   "source": [
    "<img src=\"https://raw.githubusercontent.com/jirvingphd/dsc-context-free-grammars-and-POS-tagging-online-ds-ft-100719/master/images/parse_tree.png\">"
   ]
  },
  {
   "cell_type": "code",
   "execution_count": null,
   "metadata": {
    "hidden": true
   },
   "outputs": [],
   "source": [
    "\n"
   ]
  },
  {
   "cell_type": "code",
   "execution_count": null,
   "metadata": {
    "hidden": true
   },
   "outputs": [],
   "source": []
  }
 ],
 "metadata": {
  "kernelspec": {
   "display_name": "learn-env",
   "language": "python",
   "name": "learn-env"
  },
  "language_info": {
   "codemirror_mode": {
    "name": "ipython",
    "version": 3
   },
   "file_extension": ".py",
   "mimetype": "text/x-python",
   "name": "python",
   "nbconvert_exporter": "python",
   "pygments_lexer": "ipython3",
   "version": "3.6.11"
  },
  "toc": {
   "base_numbering": 1,
   "nav_menu": {},
   "number_sections": true,
   "sideBar": true,
   "skip_h1_title": false,
   "title_cell": "Table of Contents",
   "title_sidebar": "Contents",
   "toc_cell": false,
   "toc_position": {
    "height": "calc(100% - 180px)",
    "left": "10px",
    "top": "150px",
    "width": "320px"
   },
   "toc_section_display": true,
   "toc_window_display": true
  }
 },
 "nbformat": 4,
 "nbformat_minor": 2
}

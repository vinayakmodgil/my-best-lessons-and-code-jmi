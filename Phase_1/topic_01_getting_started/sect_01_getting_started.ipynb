{
 "cells": [
  {
   "cell_type": "markdown",
   "metadata": {},
   "source": [
    "# Sect 1: Getting Started with Data Science"
   ]
  },
  {
   "cell_type": "markdown",
   "metadata": {},
   "source": [
    "- onl01-dtsc-pt-041320 \n",
    "- 04/17/20"
   ]
  },
  {
   "cell_type": "markdown",
   "metadata": {},
   "source": [
    "## Questions/Comments/Issues?"
   ]
  },
  {
   "cell_type": "markdown",
   "metadata": {},
   "source": [
    "- for loop - and items[1] from Macbeth?\n",
    "- "
   ]
  },
  {
   "cell_type": "markdown",
   "metadata": {},
   "source": [
    "## Learning Objectives"
   ]
  },
  {
   "cell_type": "markdown",
   "metadata": {},
   "source": [
    "- **Discuss where to find resources and highlight important ones**\n",
    "\n",
    "- **Environment setup review/overview**\n",
    "    - Making sure `learn-env` appear in jupyter notebook.\n",
    "    \n",
    "    \n",
    "- **Learn about Jupyter Notebook extensions**\n",
    "    - How to install and why?\n",
    "    - Best extensions and settings to activate/use\n",
    "    \n",
    "    \n",
    "- **Go over the general workflow for tackling Learn labs**\n",
    "    - Forking/cloning repo\n",
    "    - Working with Jupyter Notebooks\n",
    "    - Saving our changes (commits)\n",
    "    - Pushing our changes to GitHub\n",
    "    \n",
    "- ~~How to compose an ideal coding question on/for Slack~~\n",
    "- Disccuss & demonstrate Jupter Nbextensions \n",
    "\n",
    "- How to get the cohort notes\n",
    "- Activity: Tackle one of the labs from section 1 together."
   ]
  },
  {
   "cell_type": "markdown",
   "metadata": {},
   "source": [
    "# Resources"
   ]
  },
  {
   "cell_type": "markdown",
   "metadata": {},
   "source": [
    "## From Learn Homepage\n",
    "\n",
    "- 🗂[Student Resources Folder](https://drive.google.com/drive/folders/1E3JBOl0uhLMRKvl9R5vpl6xaxchiJ6JA?usp=sharing)\n",
    "  - 🎬[Data Science Video Spreadsheet](https://docs.google.com/spreadsheets/d/1mdvxw0nZsPScAxyopVvPNPbUF34dzK6otIRgQvQN_Bc/edit?usp=sharing)\n",
    "  - 🗒 [Master Combined Cheat Sheet PDF](https://drive.google.com/file/d/1PxRAhlaK7ucf0S2F732eJ94ovaPtUSE_/view?usp=sharing)\n"
   ]
  },
  {
   "cell_type": "markdown",
   "metadata": {},
   "source": [
    "## Question to you:\n",
    "\n",
    "- Anyone (especially windows users) getting an error every time their terminal starts about conda init? "
   ]
  },
  {
   "cell_type": "markdown",
   "metadata": {},
   "source": [
    "# Notes on Environment Setup"
   ]
  },
  {
   "cell_type": "markdown",
   "metadata": {},
   "source": [
    "## If \"learn-env\" doesn't show up in your list of jupyter notebook kernels"
   ]
  },
  {
   "cell_type": "markdown",
   "metadata": {},
   "source": [
    "1. Make sure that had activated your `learn-env` before booting up your notebook server.\n",
    "2. Make sure that you had entered the following command in your terminal after installing your learn-env\n",
    "```bash\n",
    "  python -m ipykernel install --user --name=learn-env```"
   ]
  },
  {
   "cell_type": "markdown",
   "metadata": {},
   "source": [
    "## **To set learn-env as your default env** (so you won't have to activate it each time)"
   ]
  },
  {
   "cell_type": "markdown",
   "metadata": {},
   "source": [
    "-  Enter the following command into your terminal (Windows Users replace `conda activate` with `source activate`)<br>\n",
    "```bash\n",
    "echo \"conda activate learn-env\" >> ~/.bash_profile```\n",
    "- **BONUS HACK:** Run this to create a \"jnb\" shortcut that allows you to type `jnb` to open jupyter notebook.\n",
    "  ```echo \"alias jnb='jupyter notebook'\">>~/.bash_profile```\n",
    "  - Note: if you are using a different shell besides bash, you will need to find out its equivalent of `.bash_profile`\n",
    "  \n",
    "\n",
    "- **To manually make edits/corrections to your `.bash_profile`:**\n",
    "  - Launch a new terminal in its default folder (or type `cd ~`)\n",
    "  - Then type `open .bash_profile`"
   ]
  },
  {
   "cell_type": "markdown",
   "metadata": {},
   "source": [
    "## Install Jupyter Notebook Extensions"
   ]
  },
  {
   "cell_type": "markdown",
   "metadata": {},
   "source": [
    "### Jupyter Notebook Extensions Resources"
   ]
  },
  {
   "cell_type": "markdown",
   "metadata": {},
   "source": [
    "- [Documentation](https://jupyter-contrib-nbextensions.readthedocs.io/en/latest/)\n",
    "    \n",
    "-  [Study Group Video](https://youtu.be/Fl7Xwr_kUkw)"
   ]
  },
  {
   "cell_type": "markdown",
   "metadata": {},
   "source": [
    "### Installation & activation"
   ]
  },
  {
   "cell_type": "markdown",
   "metadata": {},
   "source": [
    "- **The best way to install is via `conda`**\n",
    "    0. Open your terminal and make sure learn-env is activated.\n",
    "\n",
    "    1. Install the extensions via conda\n",
    "    ```bash\n",
    "      conda install -c conda-forge jupyter_contrib_nbextensions\n",
    "      ```\n",
    "\n",
    "    2. Activate the extension configurator\n",
    "    ```bash\n",
    "    jupyter nbextension enable jupyter_nbextensions_configurator\n",
    "      ```\n",
    "      "
   ]
  },
  {
   "cell_type": "markdown",
   "metadata": {},
   "source": [
    "### Turning on extensions"
   ]
  },
  {
   "cell_type": "markdown",
   "metadata": {},
   "source": [
    "- **When you boot up jupyter notebook, there should be a new tab at the top called `nbextensions`.** Click on the tab to open the list of available extensions.\n",
    "- This opens a menu of all of the available extensions with checkboxes to activate them; \n",
    "  - ***NOTE: If the list of available notebook extensions is grayed out:***\n",
    "    - Uncheck \"`disable configuration for nbextensions without explicit compatibility (they may break your notebook environment, but can be useful to show for nbextension development)`\" at the top of the page next to the search box.\n",
    "    \n",
    "- **Clicking the name of an extension will load its options menu** below the table of extensions. "
   ]
  },
  {
   "cell_type": "markdown",
   "metadata": {},
   "source": [
    "### Recommended extensions & settings"
   ]
  },
  {
   "cell_type": "markdown",
   "metadata": {},
   "source": [
    "- `Variable Inspector`: \n",
    "    - Lets you see details about all of the variables in your notebook.\n",
    "    - HUGELY helpful for new coders.\n",
    "    - Recommended options:\n",
    "        - `Display window at startup` (for now while you are learning python)\n",
    "\n",
    "\n",
    "- `Table of Contents (2)`: \n",
    "    - Clickable sidebar with markdown headers as bookmarks/links.\n",
    "    - Recommended options:\n",
    "        - Change `Maximum level of nested sections to display on the tables of contents` to 3.\n",
    "        -  Check `Display Table of Contents as a sidebar (otherwise as a floating window)`\n",
    "        - Check `Collapse/uncollapse ToC sections when the collapsible_headings nbextension is used to collapse/uncollapse sections in the notebook. For the inverse behaviour, see collapsible_headings' configuration`\n",
    "\n",
    "\n",
    "- `Collapsible Headings`: Collapse sections of your notebook using markdown headers.\n",
    "    - Recommended options: \n",
    "        -  Check 'Collapse/uncollapse notebook sections when the ToC2 nbextension is used to collapse/uncollapse sections in the table of contents. For the inverse behaviour, see ToC2's configuration' at towards the bottom of the options.\n",
    "\n",
    "\n",
    "- `Codefolding`: Lets you collapse function definitions and blocks of code. \n",
    "\n",
    "\n",
    "- `Live Markdown Preview`: Shows a preview of what the markdown cell you are editing will look like once you render it with Shift+Enter\n",
    "    - Recommended options:\n",
    "        - Check `Show the input & output of markdown cells side-by-side while editing them.`\n",
    "\n",
    "\n",
    "- `spellchecker`"
   ]
  },
  {
   "cell_type": "markdown",
   "metadata": {},
   "source": [
    "# Workflow for Labs"
   ]
  },
  {
   "cell_type": "markdown",
   "metadata": {},
   "source": [
    "- Fork and clone lesson to your PC\n",
    "- cd into the cloned repo's folder.\n",
    "- Launch jupyter notebook.\n",
    "\n",
    "- Complete the lab.\n",
    "- Save & checkpoint notebook\n",
    "- **Close and halt** notebook.\n",
    "- In terminal, commit your changes and push to git\n"
   ]
  },
  {
   "cell_type": "markdown",
   "metadata": {},
   "source": [
    "### Git Commands for saving changes\n",
    "- Note we will cover more of Git next week for the S.G. on section 2"
   ]
  },
  {
   "cell_type": "markdown",
   "metadata": {},
   "source": [
    "- To save your updated repo:\n",
    "\n",
    "```bash\n",
    "## cd to base folder of repo\n",
    "cd path/to/repo\n",
    "\n",
    "## Add changes to commit\n",
    "git add .\n",
    "# Commit the changes with a  message\n",
    "git commit -m \"your message here\"\n",
    "# Push changes to GitHub profile\n",
    "git push\n",
    "```\n",
    "\n",
    "- Note, you can actually accomplish steps 2 and 3 above in one line of code with \n",
    "```bash\n",
    "git commit -am \"message\"\n",
    "git push\n",
    "```"
   ]
  },
  {
   "cell_type": "markdown",
   "metadata": {},
   "source": [
    "# Activity: MacBeth Project"
   ]
  },
  {
   "cell_type": "markdown",
   "metadata": {},
   "source": []
  }
 ],
 "metadata": {
  "kernelspec": {
   "display_name": "learn-env",
   "language": "python",
   "name": "learn-env"
  },
  "language_info": {
   "codemirror_mode": {
    "name": "ipython",
    "version": 3
   },
   "file_extension": ".py",
   "mimetype": "text/x-python",
   "name": "python",
   "nbconvert_exporter": "python",
   "pygments_lexer": "ipython3",
   "version": "3.6.9"
  },
  "toc": {
   "base_numbering": 1,
   "nav_menu": {},
   "number_sections": false,
   "sideBar": true,
   "skip_h1_title": false,
   "title_cell": "Table of Contents",
   "title_sidebar": "Contents",
   "toc_cell": false,
   "toc_position": {
    "height": "calc(100% - 180px)",
    "left": "10px",
    "top": "150px",
    "width": "256px"
   },
   "toc_section_display": true,
   "toc_window_display": true
  },
  "varInspector": {
   "cols": {
    "lenName": 16,
    "lenType": 16,
    "lenVar": 40
   },
   "kernels_config": {
    "python": {
     "delete_cmd_postfix": "",
     "delete_cmd_prefix": "del ",
     "library": "var_list.py",
     "varRefreshCmd": "print(var_dic_list())"
    },
    "r": {
     "delete_cmd_postfix": ") ",
     "delete_cmd_prefix": "rm(",
     "library": "var_list.r",
     "varRefreshCmd": "cat(var_dic_list()) "
    }
   },
   "types_to_exclude": [
    "module",
    "function",
    "builtin_function_or_method",
    "instance",
    "_Feature"
   ],
   "window_display": false
  }
 },
 "nbformat": 4,
 "nbformat_minor": 2
}

{
 "cells": [
  {
   "cell_type": "markdown",
   "metadata": {},
   "source": [
    "# NOTES FROM JAMES:\n",
    "Study Group 01/02/20\n",
    "\n",
    "1. Make sure you **READ, FORK, and CLONE** the official [Mod 4 Project Lesson Repo](https://learn.co/tracks/data-science-career-v2/module-4-a-complete-data-science-project-using-multiple-regression/end-of-module-4-project/module-4-final-project)\n",
    "2. Make sure to replace the original `melt_df` function with fixed version.\n",
    "3. Make sure to consult the [Project Rubric](https://github.com/learn-co-students/dsc-mod-4-project-online-ds-ft-100719/blob/master/module4_project_rubric.pdf)\n",
    "4. For forecasting into the future & using train_test_split:\n",
    "    - First split data into train and test sets.\n",
    "    - After training model, get predictions for test set.\n",
    "    - Get another set of predictions built off of train+test set combined.\n",
    "    \n",
    "5. **If you use this notebook as a starting point, the only function you may use as-is in your personal project notebook is the `melt_data` function.**\n",
    "    - **You MUST either significantly edit and document the functions we wrote together OR (ideally) write your own functions.**"
   ]
  },
  {
   "cell_type": "markdown",
   "metadata": {},
   "source": [
    "___"
   ]
  },
  {
   "cell_type": "markdown",
   "metadata": {},
   "source": [
    "# Mod 4 Project - Starter Notebook\n"
   ]
  },
  {
   "cell_type": "markdown",
   "metadata": {},
   "source": [
    "\n",
    "\n",
    "This notebook has been provided to you so that you can make use of the following starter code to help with the trickier parts of preprocessing the Zillow dataset. \n",
    "\n",
    "The notebook contains a rough outline the general order you'll likely want to take in this project. You'll notice that most of the areas are left blank. This is so that it's more obvious exactly when you should make use of the starter code provided for preprocessing. \n",
    "\n",
    "**_NOTE:_** The number of empty cells are not meant to infer how much or how little code should be involved in any given step--we've just provided a few for your convenience. Add, delete, and change things around in this notebook as needed!\n",
    "\n",
    "# Some Notes Before Starting\n",
    "\n",
    "This project will be one of the more challenging projects you complete in this program. This is because working with Time Series data is a bit different than working with regular datasets. In order to make this a bit less frustrating and help you understand what you need to do (and when you need to do it), we'll quickly review the dataset formats that you'll encounter in this project. \n",
    "\n",
    "## Wide Format vs Long Format\n",
    "\n",
    "If you take a look at the format of the data in `zillow_data.csv`, you'll notice that the actual Time Series values are stored as separate columns. Here's a sample: \n",
    "\n",
    "<img src=\"https://raw.githubusercontent.com/learn-co-students/dsc-mod-4-project-online-ds-ft-100719/master/images/df_head.png\">\n",
    "You'll notice that the first seven columns look like any other dataset you're used to working with. However, column 8 refers to the median housing sales values for April 1996, column 9 for May 1996, and so on. This This is called **_Wide Format_**, and it makes the dataframe intuitive and easy to read. However, there are problems with this format when it comes to actually learning from the data, because the data only makes sense if you know the name of the column that the data can be found it. Since column names are metadata, our algorithms will miss out on what dates each value is for. This means that before we pass this data to our ARIMA model, we'll need to reshape our dataset to **_Long Format_**. Reshaped into long format, the dataframe above would now look like:\n",
    "\n",
    "<img src=\"https://raw.githubusercontent.com/learn-co-students/dsc-mod-4-project-online-ds-ft-100719/master/images/melted1.png\">\n",
    "\n",
    "\n",
    "There are now many more rows in this dataset--one for each unique time and zipcode combination in the data! Once our dataset is in this format, we'll be able to train an ARIMA model on it. The method used to convert from Wide to Long is `pd.melt()`, and it is common to refer to our dataset as 'melted' after the transition to denote that it is in long format. \n",
    "\n",
    "# Helper Functions Provided\n",
    "\n",
    "Melting a dataset can be tricky if you've never done it before, so you'll see that we have provided a sample function, `melt_data()`, to help you with this step below. Also provided is:\n",
    "\n",
    "* `get_datetimes()`, a function to deal with converting the column values for datetimes as a pandas series of datetime objects\n",
    "* Some good parameters for matplotlib to help make your visualizations more readable. \n",
    "\n",
    "Good luck!\n",
    "\n"
   ]
  },
  {
   "cell_type": "markdown",
   "metadata": {},
   "source": [
    "\n",
    "# Step 1: Load the Data/Filtering for Chosen Zipcodes"
   ]
  },
  {
   "cell_type": "code",
   "execution_count": 1,
   "metadata": {
    "ExecuteTime": {
     "end_time": "2020-01-07T16:58:58.856176Z",
     "start_time": "2020-01-07T16:58:57.599860Z"
    },
    "scrolled": true
   },
   "outputs": [
    {
     "name": "stdout",
     "output_type": "stream",
     "text": [
      "fsds_1007219  v0.6.4 loaded.  Read the docs: https://fsds.readthedocs.io/en/latest/ \n"
     ]
    },
    {
     "data": {
      "text/html": [
       "<style  type=\"text/css\" >\n",
       "</style><table id=\"T_ff58c24a_316e_11ea_ba32_acde48001122\" ><caption>Loaded Packages and Handles</caption><thead>    <tr>        <th class=\"col_heading level0 col0\" >Handle</th>        <th class=\"col_heading level0 col1\" >Package</th>        <th class=\"col_heading level0 col2\" >Description</th>    </tr></thead><tbody>\n",
       "                <tr>\n",
       "                                <td id=\"T_ff58c24a_316e_11ea_ba32_acde48001122row0_col0\" class=\"data row0 col0\" >dp</td>\n",
       "                        <td id=\"T_ff58c24a_316e_11ea_ba32_acde48001122row0_col1\" class=\"data row0 col1\" >IPython.display</td>\n",
       "                        <td id=\"T_ff58c24a_316e_11ea_ba32_acde48001122row0_col2\" class=\"data row0 col2\" >Display modules with helpful display and clearing commands.</td>\n",
       "            </tr>\n",
       "            <tr>\n",
       "                                <td id=\"T_ff58c24a_316e_11ea_ba32_acde48001122row1_col0\" class=\"data row1 col0\" >fs</td>\n",
       "                        <td id=\"T_ff58c24a_316e_11ea_ba32_acde48001122row1_col1\" class=\"data row1 col1\" >fsds_100719</td>\n",
       "                        <td id=\"T_ff58c24a_316e_11ea_ba32_acde48001122row1_col2\" class=\"data row1 col2\" >Custom data science bootcamp student package</td>\n",
       "            </tr>\n",
       "            <tr>\n",
       "                                <td id=\"T_ff58c24a_316e_11ea_ba32_acde48001122row2_col0\" class=\"data row2 col0\" >mpl</td>\n",
       "                        <td id=\"T_ff58c24a_316e_11ea_ba32_acde48001122row2_col1\" class=\"data row2 col1\" >matplotlib</td>\n",
       "                        <td id=\"T_ff58c24a_316e_11ea_ba32_acde48001122row2_col2\" class=\"data row2 col2\" >Matplotlib's base OOP module with formatting artists</td>\n",
       "            </tr>\n",
       "            <tr>\n",
       "                                <td id=\"T_ff58c24a_316e_11ea_ba32_acde48001122row3_col0\" class=\"data row3 col0\" >plt</td>\n",
       "                        <td id=\"T_ff58c24a_316e_11ea_ba32_acde48001122row3_col1\" class=\"data row3 col1\" >matplotlib.pyplot</td>\n",
       "                        <td id=\"T_ff58c24a_316e_11ea_ba32_acde48001122row3_col2\" class=\"data row3 col2\" >Matplotlib's matlab-like plotting module</td>\n",
       "            </tr>\n",
       "            <tr>\n",
       "                                <td id=\"T_ff58c24a_316e_11ea_ba32_acde48001122row4_col0\" class=\"data row4 col0\" >np</td>\n",
       "                        <td id=\"T_ff58c24a_316e_11ea_ba32_acde48001122row4_col1\" class=\"data row4 col1\" >numpy</td>\n",
       "                        <td id=\"T_ff58c24a_316e_11ea_ba32_acde48001122row4_col2\" class=\"data row4 col2\" >scientific computing with Python</td>\n",
       "            </tr>\n",
       "            <tr>\n",
       "                                <td id=\"T_ff58c24a_316e_11ea_ba32_acde48001122row5_col0\" class=\"data row5 col0\" >pd</td>\n",
       "                        <td id=\"T_ff58c24a_316e_11ea_ba32_acde48001122row5_col1\" class=\"data row5 col1\" >pandas</td>\n",
       "                        <td id=\"T_ff58c24a_316e_11ea_ba32_acde48001122row5_col2\" class=\"data row5 col2\" >High performance data structures and tools</td>\n",
       "            </tr>\n",
       "            <tr>\n",
       "                                <td id=\"T_ff58c24a_316e_11ea_ba32_acde48001122row6_col0\" class=\"data row6 col0\" >sns</td>\n",
       "                        <td id=\"T_ff58c24a_316e_11ea_ba32_acde48001122row6_col1\" class=\"data row6 col1\" >seaborn</td>\n",
       "                        <td id=\"T_ff58c24a_316e_11ea_ba32_acde48001122row6_col2\" class=\"data row6 col2\" >High-level data visualization library based on matplotlib</td>\n",
       "            </tr>\n",
       "    </tbody></table>"
      ],
      "text/plain": [
       "<pandas.io.formats.style.Styler at 0x106da8c18>"
      ]
     },
     "metadata": {},
     "output_type": "display_data"
    }
   ],
   "source": [
    "# !pip install -U fsds_100719\n",
    "from fsds_100719.imports import *\n",
    "\n",
    "## Project Notebook Settings\n",
    "pd.set_option('display.max_columns',0)\n",
    "\n",
    "import warnings\n",
    "warnings.filterwarnings('ignore')\n",
    "\n",
    "plt.style.use('seaborn-poster')"
   ]
  },
  {
   "cell_type": "code",
   "execution_count": 2,
   "metadata": {
    "ExecuteTime": {
     "end_time": "2020-01-07T16:58:58.861897Z",
     "start_time": "2020-01-07T16:58:58.858133Z"
    }
   },
   "outputs": [],
   "source": [
    "## Import Your Mod 4 Functions (if you have them in a .py file)\n",
    "import instructor_notebooks.functions_mod4proj as ji\n",
    "# help(ji)"
   ]
  },
  {
   "cell_type": "code",
   "execution_count": 3,
   "metadata": {
    "ExecuteTime": {
     "end_time": "2020-01-07T16:59:00.375797Z",
     "start_time": "2020-01-07T16:58:58.864042Z"
    }
   },
   "outputs": [
    {
     "data": {
      "text/html": [
       "<style  type=\"text/css\" >\n",
       "</style><table id=\"T_0039a01c_316f_11ea_9b4b_acde48001122\" ><caption>ORIGINAL WIDE FORMAT</caption><thead>    <tr>        <th class=\"blank level0\" ></th>        <th class=\"col_heading level0 col0\" >RegionID</th>        <th class=\"col_heading level0 col1\" >RegionName</th>        <th class=\"col_heading level0 col2\" >City</th>        <th class=\"col_heading level0 col3\" >State</th>        <th class=\"col_heading level0 col4\" >Metro</th>        <th class=\"col_heading level0 col5\" >CountyName</th>        <th class=\"col_heading level0 col6\" >SizeRank</th>        <th class=\"col_heading level0 col7\" >1996-04</th>        <th class=\"col_heading level0 col8\" >1996-05</th>        <th class=\"col_heading level0 col9\" >1996-06</th>        <th class=\"col_heading level0 col10\" >1996-07</th>        <th class=\"col_heading level0 col11\" >1996-08</th>        <th class=\"col_heading level0 col12\" >1996-09</th>        <th class=\"col_heading level0 col13\" >1996-10</th>        <th class=\"col_heading level0 col14\" >1996-11</th>        <th class=\"col_heading level0 col15\" >1996-12</th>        <th class=\"col_heading level0 col16\" >1997-01</th>        <th class=\"col_heading level0 col17\" >1997-02</th>        <th class=\"col_heading level0 col18\" >1997-03</th>        <th class=\"col_heading level0 col19\" >1997-04</th>        <th class=\"col_heading level0 col20\" >1997-05</th>        <th class=\"col_heading level0 col21\" >1997-06</th>        <th class=\"col_heading level0 col22\" >1997-07</th>        <th class=\"col_heading level0 col23\" >1997-08</th>        <th class=\"col_heading level0 col24\" >1997-09</th>        <th class=\"col_heading level0 col25\" >1997-10</th>        <th class=\"col_heading level0 col26\" >1997-11</th>        <th class=\"col_heading level0 col27\" >1997-12</th>        <th class=\"col_heading level0 col28\" >1998-01</th>        <th class=\"col_heading level0 col29\" >1998-02</th>        <th class=\"col_heading level0 col30\" >1998-03</th>        <th class=\"col_heading level0 col31\" >1998-04</th>        <th class=\"col_heading level0 col32\" >1998-05</th>        <th class=\"col_heading level0 col33\" >1998-06</th>        <th class=\"col_heading level0 col34\" >1998-07</th>        <th class=\"col_heading level0 col35\" >1998-08</th>        <th class=\"col_heading level0 col36\" >1998-09</th>        <th class=\"col_heading level0 col37\" >1998-10</th>        <th class=\"col_heading level0 col38\" >1998-11</th>        <th class=\"col_heading level0 col39\" >1998-12</th>        <th class=\"col_heading level0 col40\" >1999-01</th>        <th class=\"col_heading level0 col41\" >1999-02</th>        <th class=\"col_heading level0 col42\" >1999-03</th>        <th class=\"col_heading level0 col43\" >1999-04</th>        <th class=\"col_heading level0 col44\" >1999-05</th>        <th class=\"col_heading level0 col45\" >1999-06</th>        <th class=\"col_heading level0 col46\" >1999-07</th>        <th class=\"col_heading level0 col47\" >1999-08</th>        <th class=\"col_heading level0 col48\" >1999-09</th>        <th class=\"col_heading level0 col49\" >1999-10</th>        <th class=\"col_heading level0 col50\" >1999-11</th>        <th class=\"col_heading level0 col51\" >1999-12</th>        <th class=\"col_heading level0 col52\" >2000-01</th>        <th class=\"col_heading level0 col53\" >2000-02</th>        <th class=\"col_heading level0 col54\" >2000-03</th>        <th class=\"col_heading level0 col55\" >2000-04</th>        <th class=\"col_heading level0 col56\" >2000-05</th>        <th class=\"col_heading level0 col57\" >2000-06</th>        <th class=\"col_heading level0 col58\" >2000-07</th>        <th class=\"col_heading level0 col59\" >2000-08</th>        <th class=\"col_heading level0 col60\" >2000-09</th>        <th class=\"col_heading level0 col61\" >2000-10</th>        <th class=\"col_heading level0 col62\" >2000-11</th>        <th class=\"col_heading level0 col63\" >2000-12</th>        <th class=\"col_heading level0 col64\" >2001-01</th>        <th class=\"col_heading level0 col65\" >2001-02</th>        <th class=\"col_heading level0 col66\" >2001-03</th>        <th class=\"col_heading level0 col67\" >2001-04</th>        <th class=\"col_heading level0 col68\" >2001-05</th>        <th class=\"col_heading level0 col69\" >2001-06</th>        <th class=\"col_heading level0 col70\" >2001-07</th>        <th class=\"col_heading level0 col71\" >2001-08</th>        <th class=\"col_heading level0 col72\" >2001-09</th>        <th class=\"col_heading level0 col73\" >2001-10</th>        <th class=\"col_heading level0 col74\" >2001-11</th>        <th class=\"col_heading level0 col75\" >2001-12</th>        <th class=\"col_heading level0 col76\" >2002-01</th>        <th class=\"col_heading level0 col77\" >2002-02</th>        <th class=\"col_heading level0 col78\" >2002-03</th>        <th class=\"col_heading level0 col79\" >2002-04</th>        <th class=\"col_heading level0 col80\" >2002-05</th>        <th class=\"col_heading level0 col81\" >2002-06</th>        <th class=\"col_heading level0 col82\" >2002-07</th>        <th class=\"col_heading level0 col83\" >2002-08</th>        <th class=\"col_heading level0 col84\" >2002-09</th>        <th class=\"col_heading level0 col85\" >2002-10</th>        <th class=\"col_heading level0 col86\" >2002-11</th>        <th class=\"col_heading level0 col87\" >2002-12</th>        <th class=\"col_heading level0 col88\" >2003-01</th>        <th class=\"col_heading level0 col89\" >2003-02</th>        <th class=\"col_heading level0 col90\" >2003-03</th>        <th class=\"col_heading level0 col91\" >2003-04</th>        <th class=\"col_heading level0 col92\" >2003-05</th>        <th class=\"col_heading level0 col93\" >2003-06</th>        <th class=\"col_heading level0 col94\" >2003-07</th>        <th class=\"col_heading level0 col95\" >2003-08</th>        <th class=\"col_heading level0 col96\" >2003-09</th>        <th class=\"col_heading level0 col97\" >2003-10</th>        <th class=\"col_heading level0 col98\" >2003-11</th>        <th class=\"col_heading level0 col99\" >2003-12</th>        <th class=\"col_heading level0 col100\" >2004-01</th>        <th class=\"col_heading level0 col101\" >2004-02</th>        <th class=\"col_heading level0 col102\" >2004-03</th>        <th class=\"col_heading level0 col103\" >2004-04</th>        <th class=\"col_heading level0 col104\" >2004-05</th>        <th class=\"col_heading level0 col105\" >2004-06</th>        <th class=\"col_heading level0 col106\" >2004-07</th>        <th class=\"col_heading level0 col107\" >2004-08</th>        <th class=\"col_heading level0 col108\" >2004-09</th>        <th class=\"col_heading level0 col109\" >2004-10</th>        <th class=\"col_heading level0 col110\" >2004-11</th>        <th class=\"col_heading level0 col111\" >2004-12</th>        <th class=\"col_heading level0 col112\" >2005-01</th>        <th class=\"col_heading level0 col113\" >2005-02</th>        <th class=\"col_heading level0 col114\" >2005-03</th>        <th class=\"col_heading level0 col115\" >2005-04</th>        <th class=\"col_heading level0 col116\" >2005-05</th>        <th class=\"col_heading level0 col117\" >2005-06</th>        <th class=\"col_heading level0 col118\" >2005-07</th>        <th class=\"col_heading level0 col119\" >2005-08</th>        <th class=\"col_heading level0 col120\" >2005-09</th>        <th class=\"col_heading level0 col121\" >2005-10</th>        <th class=\"col_heading level0 col122\" >2005-11</th>        <th class=\"col_heading level0 col123\" >2005-12</th>        <th class=\"col_heading level0 col124\" >2006-01</th>        <th class=\"col_heading level0 col125\" >2006-02</th>        <th class=\"col_heading level0 col126\" >2006-03</th>        <th class=\"col_heading level0 col127\" >2006-04</th>        <th class=\"col_heading level0 col128\" >2006-05</th>        <th class=\"col_heading level0 col129\" >2006-06</th>        <th class=\"col_heading level0 col130\" >2006-07</th>        <th class=\"col_heading level0 col131\" >2006-08</th>        <th class=\"col_heading level0 col132\" >2006-09</th>        <th class=\"col_heading level0 col133\" >2006-10</th>        <th class=\"col_heading level0 col134\" >2006-11</th>        <th class=\"col_heading level0 col135\" >2006-12</th>        <th class=\"col_heading level0 col136\" >2007-01</th>        <th class=\"col_heading level0 col137\" >2007-02</th>        <th class=\"col_heading level0 col138\" >2007-03</th>        <th class=\"col_heading level0 col139\" >2007-04</th>        <th class=\"col_heading level0 col140\" >2007-05</th>        <th class=\"col_heading level0 col141\" >2007-06</th>        <th class=\"col_heading level0 col142\" >2007-07</th>        <th class=\"col_heading level0 col143\" >2007-08</th>        <th class=\"col_heading level0 col144\" >2007-09</th>        <th class=\"col_heading level0 col145\" >2007-10</th>        <th class=\"col_heading level0 col146\" >2007-11</th>        <th class=\"col_heading level0 col147\" >2007-12</th>        <th class=\"col_heading level0 col148\" >2008-01</th>        <th class=\"col_heading level0 col149\" >2008-02</th>        <th class=\"col_heading level0 col150\" >2008-03</th>        <th class=\"col_heading level0 col151\" >2008-04</th>        <th class=\"col_heading level0 col152\" >2008-05</th>        <th class=\"col_heading level0 col153\" >2008-06</th>        <th class=\"col_heading level0 col154\" >2008-07</th>        <th class=\"col_heading level0 col155\" >2008-08</th>        <th class=\"col_heading level0 col156\" >2008-09</th>        <th class=\"col_heading level0 col157\" >2008-10</th>        <th class=\"col_heading level0 col158\" >2008-11</th>        <th class=\"col_heading level0 col159\" >2008-12</th>        <th class=\"col_heading level0 col160\" >2009-01</th>        <th class=\"col_heading level0 col161\" >2009-02</th>        <th class=\"col_heading level0 col162\" >2009-03</th>        <th class=\"col_heading level0 col163\" >2009-04</th>        <th class=\"col_heading level0 col164\" >2009-05</th>        <th class=\"col_heading level0 col165\" >2009-06</th>        <th class=\"col_heading level0 col166\" >2009-07</th>        <th class=\"col_heading level0 col167\" >2009-08</th>        <th class=\"col_heading level0 col168\" >2009-09</th>        <th class=\"col_heading level0 col169\" >2009-10</th>        <th class=\"col_heading level0 col170\" >2009-11</th>        <th class=\"col_heading level0 col171\" >2009-12</th>        <th class=\"col_heading level0 col172\" >2010-01</th>        <th class=\"col_heading level0 col173\" >2010-02</th>        <th class=\"col_heading level0 col174\" >2010-03</th>        <th class=\"col_heading level0 col175\" >2010-04</th>        <th class=\"col_heading level0 col176\" >2010-05</th>        <th class=\"col_heading level0 col177\" >2010-06</th>        <th class=\"col_heading level0 col178\" >2010-07</th>        <th class=\"col_heading level0 col179\" >2010-08</th>        <th class=\"col_heading level0 col180\" >2010-09</th>        <th class=\"col_heading level0 col181\" >2010-10</th>        <th class=\"col_heading level0 col182\" >2010-11</th>        <th class=\"col_heading level0 col183\" >2010-12</th>        <th class=\"col_heading level0 col184\" >2011-01</th>        <th class=\"col_heading level0 col185\" >2011-02</th>        <th class=\"col_heading level0 col186\" >2011-03</th>        <th class=\"col_heading level0 col187\" >2011-04</th>        <th class=\"col_heading level0 col188\" >2011-05</th>        <th class=\"col_heading level0 col189\" >2011-06</th>        <th class=\"col_heading level0 col190\" >2011-07</th>        <th class=\"col_heading level0 col191\" >2011-08</th>        <th class=\"col_heading level0 col192\" >2011-09</th>        <th class=\"col_heading level0 col193\" >2011-10</th>        <th class=\"col_heading level0 col194\" >2011-11</th>        <th class=\"col_heading level0 col195\" >2011-12</th>        <th class=\"col_heading level0 col196\" >2012-01</th>        <th class=\"col_heading level0 col197\" >2012-02</th>        <th class=\"col_heading level0 col198\" >2012-03</th>        <th class=\"col_heading level0 col199\" >2012-04</th>        <th class=\"col_heading level0 col200\" >2012-05</th>        <th class=\"col_heading level0 col201\" >2012-06</th>        <th class=\"col_heading level0 col202\" >2012-07</th>        <th class=\"col_heading level0 col203\" >2012-08</th>        <th class=\"col_heading level0 col204\" >2012-09</th>        <th class=\"col_heading level0 col205\" >2012-10</th>        <th class=\"col_heading level0 col206\" >2012-11</th>        <th class=\"col_heading level0 col207\" >2012-12</th>        <th class=\"col_heading level0 col208\" >2013-01</th>        <th class=\"col_heading level0 col209\" >2013-02</th>        <th class=\"col_heading level0 col210\" >2013-03</th>        <th class=\"col_heading level0 col211\" >2013-04</th>        <th class=\"col_heading level0 col212\" >2013-05</th>        <th class=\"col_heading level0 col213\" >2013-06</th>        <th class=\"col_heading level0 col214\" >2013-07</th>        <th class=\"col_heading level0 col215\" >2013-08</th>        <th class=\"col_heading level0 col216\" >2013-09</th>        <th class=\"col_heading level0 col217\" >2013-10</th>        <th class=\"col_heading level0 col218\" >2013-11</th>        <th class=\"col_heading level0 col219\" >2013-12</th>        <th class=\"col_heading level0 col220\" >2014-01</th>        <th class=\"col_heading level0 col221\" >2014-02</th>        <th class=\"col_heading level0 col222\" >2014-03</th>        <th class=\"col_heading level0 col223\" >2014-04</th>        <th class=\"col_heading level0 col224\" >2014-05</th>        <th class=\"col_heading level0 col225\" >2014-06</th>        <th class=\"col_heading level0 col226\" >2014-07</th>        <th class=\"col_heading level0 col227\" >2014-08</th>        <th class=\"col_heading level0 col228\" >2014-09</th>        <th class=\"col_heading level0 col229\" >2014-10</th>        <th class=\"col_heading level0 col230\" >2014-11</th>        <th class=\"col_heading level0 col231\" >2014-12</th>        <th class=\"col_heading level0 col232\" >2015-01</th>        <th class=\"col_heading level0 col233\" >2015-02</th>        <th class=\"col_heading level0 col234\" >2015-03</th>        <th class=\"col_heading level0 col235\" >2015-04</th>        <th class=\"col_heading level0 col236\" >2015-05</th>        <th class=\"col_heading level0 col237\" >2015-06</th>        <th class=\"col_heading level0 col238\" >2015-07</th>        <th class=\"col_heading level0 col239\" >2015-08</th>        <th class=\"col_heading level0 col240\" >2015-09</th>        <th class=\"col_heading level0 col241\" >2015-10</th>        <th class=\"col_heading level0 col242\" >2015-11</th>        <th class=\"col_heading level0 col243\" >2015-12</th>        <th class=\"col_heading level0 col244\" >2016-01</th>        <th class=\"col_heading level0 col245\" >2016-02</th>        <th class=\"col_heading level0 col246\" >2016-03</th>        <th class=\"col_heading level0 col247\" >2016-04</th>        <th class=\"col_heading level0 col248\" >2016-05</th>        <th class=\"col_heading level0 col249\" >2016-06</th>        <th class=\"col_heading level0 col250\" >2016-07</th>        <th class=\"col_heading level0 col251\" >2016-08</th>        <th class=\"col_heading level0 col252\" >2016-09</th>        <th class=\"col_heading level0 col253\" >2016-10</th>        <th class=\"col_heading level0 col254\" >2016-11</th>        <th class=\"col_heading level0 col255\" >2016-12</th>        <th class=\"col_heading level0 col256\" >2017-01</th>        <th class=\"col_heading level0 col257\" >2017-02</th>        <th class=\"col_heading level0 col258\" >2017-03</th>        <th class=\"col_heading level0 col259\" >2017-04</th>        <th class=\"col_heading level0 col260\" >2017-05</th>        <th class=\"col_heading level0 col261\" >2017-06</th>        <th class=\"col_heading level0 col262\" >2017-07</th>        <th class=\"col_heading level0 col263\" >2017-08</th>        <th class=\"col_heading level0 col264\" >2017-09</th>        <th class=\"col_heading level0 col265\" >2017-10</th>        <th class=\"col_heading level0 col266\" >2017-11</th>        <th class=\"col_heading level0 col267\" >2017-12</th>        <th class=\"col_heading level0 col268\" >2018-01</th>        <th class=\"col_heading level0 col269\" >2018-02</th>        <th class=\"col_heading level0 col270\" >2018-03</th>        <th class=\"col_heading level0 col271\" >2018-04</th>    </tr></thead><tbody>\n",
       "                <tr>\n",
       "                        <th id=\"T_0039a01c_316f_11ea_9b4b_acde48001122level0_row0\" class=\"row_heading level0 row0\" >0</th>\n",
       "                        <td id=\"T_0039a01c_316f_11ea_9b4b_acde48001122row0_col0\" class=\"data row0 col0\" >84654</td>\n",
       "                        <td id=\"T_0039a01c_316f_11ea_9b4b_acde48001122row0_col1\" class=\"data row0 col1\" >60657</td>\n",
       "                        <td id=\"T_0039a01c_316f_11ea_9b4b_acde48001122row0_col2\" class=\"data row0 col2\" >Chicago</td>\n",
       "                        <td id=\"T_0039a01c_316f_11ea_9b4b_acde48001122row0_col3\" class=\"data row0 col3\" >IL</td>\n",
       "                        <td id=\"T_0039a01c_316f_11ea_9b4b_acde48001122row0_col4\" class=\"data row0 col4\" >Chicago</td>\n",
       "                        <td id=\"T_0039a01c_316f_11ea_9b4b_acde48001122row0_col5\" class=\"data row0 col5\" >Cook</td>\n",
       "                        <td id=\"T_0039a01c_316f_11ea_9b4b_acde48001122row0_col6\" class=\"data row0 col6\" >1</td>\n",
       "                        <td id=\"T_0039a01c_316f_11ea_9b4b_acde48001122row0_col7\" class=\"data row0 col7\" >334200</td>\n",
       "                        <td id=\"T_0039a01c_316f_11ea_9b4b_acde48001122row0_col8\" class=\"data row0 col8\" >335400</td>\n",
       "                        <td id=\"T_0039a01c_316f_11ea_9b4b_acde48001122row0_col9\" class=\"data row0 col9\" >336500</td>\n",
       "                        <td id=\"T_0039a01c_316f_11ea_9b4b_acde48001122row0_col10\" class=\"data row0 col10\" >337600</td>\n",
       "                        <td id=\"T_0039a01c_316f_11ea_9b4b_acde48001122row0_col11\" class=\"data row0 col11\" >338500</td>\n",
       "                        <td id=\"T_0039a01c_316f_11ea_9b4b_acde48001122row0_col12\" class=\"data row0 col12\" >339500</td>\n",
       "                        <td id=\"T_0039a01c_316f_11ea_9b4b_acde48001122row0_col13\" class=\"data row0 col13\" >340400</td>\n",
       "                        <td id=\"T_0039a01c_316f_11ea_9b4b_acde48001122row0_col14\" class=\"data row0 col14\" >341300</td>\n",
       "                        <td id=\"T_0039a01c_316f_11ea_9b4b_acde48001122row0_col15\" class=\"data row0 col15\" >342600</td>\n",
       "                        <td id=\"T_0039a01c_316f_11ea_9b4b_acde48001122row0_col16\" class=\"data row0 col16\" >344400</td>\n",
       "                        <td id=\"T_0039a01c_316f_11ea_9b4b_acde48001122row0_col17\" class=\"data row0 col17\" >345700</td>\n",
       "                        <td id=\"T_0039a01c_316f_11ea_9b4b_acde48001122row0_col18\" class=\"data row0 col18\" >346700</td>\n",
       "                        <td id=\"T_0039a01c_316f_11ea_9b4b_acde48001122row0_col19\" class=\"data row0 col19\" >347800</td>\n",
       "                        <td id=\"T_0039a01c_316f_11ea_9b4b_acde48001122row0_col20\" class=\"data row0 col20\" >349000</td>\n",
       "                        <td id=\"T_0039a01c_316f_11ea_9b4b_acde48001122row0_col21\" class=\"data row0 col21\" >350400</td>\n",
       "                        <td id=\"T_0039a01c_316f_11ea_9b4b_acde48001122row0_col22\" class=\"data row0 col22\" >352000</td>\n",
       "                        <td id=\"T_0039a01c_316f_11ea_9b4b_acde48001122row0_col23\" class=\"data row0 col23\" >353900</td>\n",
       "                        <td id=\"T_0039a01c_316f_11ea_9b4b_acde48001122row0_col24\" class=\"data row0 col24\" >356200</td>\n",
       "                        <td id=\"T_0039a01c_316f_11ea_9b4b_acde48001122row0_col25\" class=\"data row0 col25\" >358800</td>\n",
       "                        <td id=\"T_0039a01c_316f_11ea_9b4b_acde48001122row0_col26\" class=\"data row0 col26\" >361800</td>\n",
       "                        <td id=\"T_0039a01c_316f_11ea_9b4b_acde48001122row0_col27\" class=\"data row0 col27\" >365700</td>\n",
       "                        <td id=\"T_0039a01c_316f_11ea_9b4b_acde48001122row0_col28\" class=\"data row0 col28\" >370200</td>\n",
       "                        <td id=\"T_0039a01c_316f_11ea_9b4b_acde48001122row0_col29\" class=\"data row0 col29\" >374700</td>\n",
       "                        <td id=\"T_0039a01c_316f_11ea_9b4b_acde48001122row0_col30\" class=\"data row0 col30\" >378900</td>\n",
       "                        <td id=\"T_0039a01c_316f_11ea_9b4b_acde48001122row0_col31\" class=\"data row0 col31\" >383500</td>\n",
       "                        <td id=\"T_0039a01c_316f_11ea_9b4b_acde48001122row0_col32\" class=\"data row0 col32\" >388300</td>\n",
       "                        <td id=\"T_0039a01c_316f_11ea_9b4b_acde48001122row0_col33\" class=\"data row0 col33\" >393300</td>\n",
       "                        <td id=\"T_0039a01c_316f_11ea_9b4b_acde48001122row0_col34\" class=\"data row0 col34\" >398500</td>\n",
       "                        <td id=\"T_0039a01c_316f_11ea_9b4b_acde48001122row0_col35\" class=\"data row0 col35\" >403800</td>\n",
       "                        <td id=\"T_0039a01c_316f_11ea_9b4b_acde48001122row0_col36\" class=\"data row0 col36\" >409100</td>\n",
       "                        <td id=\"T_0039a01c_316f_11ea_9b4b_acde48001122row0_col37\" class=\"data row0 col37\" >414600</td>\n",
       "                        <td id=\"T_0039a01c_316f_11ea_9b4b_acde48001122row0_col38\" class=\"data row0 col38\" >420100</td>\n",
       "                        <td id=\"T_0039a01c_316f_11ea_9b4b_acde48001122row0_col39\" class=\"data row0 col39\" >426200</td>\n",
       "                        <td id=\"T_0039a01c_316f_11ea_9b4b_acde48001122row0_col40\" class=\"data row0 col40\" >432600</td>\n",
       "                        <td id=\"T_0039a01c_316f_11ea_9b4b_acde48001122row0_col41\" class=\"data row0 col41\" >438600</td>\n",
       "                        <td id=\"T_0039a01c_316f_11ea_9b4b_acde48001122row0_col42\" class=\"data row0 col42\" >444200</td>\n",
       "                        <td id=\"T_0039a01c_316f_11ea_9b4b_acde48001122row0_col43\" class=\"data row0 col43\" >450000</td>\n",
       "                        <td id=\"T_0039a01c_316f_11ea_9b4b_acde48001122row0_col44\" class=\"data row0 col44\" >455900</td>\n",
       "                        <td id=\"T_0039a01c_316f_11ea_9b4b_acde48001122row0_col45\" class=\"data row0 col45\" >462100</td>\n",
       "                        <td id=\"T_0039a01c_316f_11ea_9b4b_acde48001122row0_col46\" class=\"data row0 col46\" >468500</td>\n",
       "                        <td id=\"T_0039a01c_316f_11ea_9b4b_acde48001122row0_col47\" class=\"data row0 col47\" >475300</td>\n",
       "                        <td id=\"T_0039a01c_316f_11ea_9b4b_acde48001122row0_col48\" class=\"data row0 col48\" >482500</td>\n",
       "                        <td id=\"T_0039a01c_316f_11ea_9b4b_acde48001122row0_col49\" class=\"data row0 col49\" >490200</td>\n",
       "                        <td id=\"T_0039a01c_316f_11ea_9b4b_acde48001122row0_col50\" class=\"data row0 col50\" >498200</td>\n",
       "                        <td id=\"T_0039a01c_316f_11ea_9b4b_acde48001122row0_col51\" class=\"data row0 col51\" >507200</td>\n",
       "                        <td id=\"T_0039a01c_316f_11ea_9b4b_acde48001122row0_col52\" class=\"data row0 col52\" >516800</td>\n",
       "                        <td id=\"T_0039a01c_316f_11ea_9b4b_acde48001122row0_col53\" class=\"data row0 col53\" >526300</td>\n",
       "                        <td id=\"T_0039a01c_316f_11ea_9b4b_acde48001122row0_col54\" class=\"data row0 col54\" >535300</td>\n",
       "                        <td id=\"T_0039a01c_316f_11ea_9b4b_acde48001122row0_col55\" class=\"data row0 col55\" >544500</td>\n",
       "                        <td id=\"T_0039a01c_316f_11ea_9b4b_acde48001122row0_col56\" class=\"data row0 col56\" >553500</td>\n",
       "                        <td id=\"T_0039a01c_316f_11ea_9b4b_acde48001122row0_col57\" class=\"data row0 col57\" >562400</td>\n",
       "                        <td id=\"T_0039a01c_316f_11ea_9b4b_acde48001122row0_col58\" class=\"data row0 col58\" >571200</td>\n",
       "                        <td id=\"T_0039a01c_316f_11ea_9b4b_acde48001122row0_col59\" class=\"data row0 col59\" >579800</td>\n",
       "                        <td id=\"T_0039a01c_316f_11ea_9b4b_acde48001122row0_col60\" class=\"data row0 col60\" >588100</td>\n",
       "                        <td id=\"T_0039a01c_316f_11ea_9b4b_acde48001122row0_col61\" class=\"data row0 col61\" >596300</td>\n",
       "                        <td id=\"T_0039a01c_316f_11ea_9b4b_acde48001122row0_col62\" class=\"data row0 col62\" >604200</td>\n",
       "                        <td id=\"T_0039a01c_316f_11ea_9b4b_acde48001122row0_col63\" class=\"data row0 col63\" >612200</td>\n",
       "                        <td id=\"T_0039a01c_316f_11ea_9b4b_acde48001122row0_col64\" class=\"data row0 col64\" >620200</td>\n",
       "                        <td id=\"T_0039a01c_316f_11ea_9b4b_acde48001122row0_col65\" class=\"data row0 col65\" >627700</td>\n",
       "                        <td id=\"T_0039a01c_316f_11ea_9b4b_acde48001122row0_col66\" class=\"data row0 col66\" >634500</td>\n",
       "                        <td id=\"T_0039a01c_316f_11ea_9b4b_acde48001122row0_col67\" class=\"data row0 col67\" >641000</td>\n",
       "                        <td id=\"T_0039a01c_316f_11ea_9b4b_acde48001122row0_col68\" class=\"data row0 col68\" >647000</td>\n",
       "                        <td id=\"T_0039a01c_316f_11ea_9b4b_acde48001122row0_col69\" class=\"data row0 col69\" >652700</td>\n",
       "                        <td id=\"T_0039a01c_316f_11ea_9b4b_acde48001122row0_col70\" class=\"data row0 col70\" >658100</td>\n",
       "                        <td id=\"T_0039a01c_316f_11ea_9b4b_acde48001122row0_col71\" class=\"data row0 col71\" >663300</td>\n",
       "                        <td id=\"T_0039a01c_316f_11ea_9b4b_acde48001122row0_col72\" class=\"data row0 col72\" >668400</td>\n",
       "                        <td id=\"T_0039a01c_316f_11ea_9b4b_acde48001122row0_col73\" class=\"data row0 col73\" >673400</td>\n",
       "                        <td id=\"T_0039a01c_316f_11ea_9b4b_acde48001122row0_col74\" class=\"data row0 col74\" >678300</td>\n",
       "                        <td id=\"T_0039a01c_316f_11ea_9b4b_acde48001122row0_col75\" class=\"data row0 col75\" >683200</td>\n",
       "                        <td id=\"T_0039a01c_316f_11ea_9b4b_acde48001122row0_col76\" class=\"data row0 col76\" >688300</td>\n",
       "                        <td id=\"T_0039a01c_316f_11ea_9b4b_acde48001122row0_col77\" class=\"data row0 col77\" >693300</td>\n",
       "                        <td id=\"T_0039a01c_316f_11ea_9b4b_acde48001122row0_col78\" class=\"data row0 col78\" >698000</td>\n",
       "                        <td id=\"T_0039a01c_316f_11ea_9b4b_acde48001122row0_col79\" class=\"data row0 col79\" >702400</td>\n",
       "                        <td id=\"T_0039a01c_316f_11ea_9b4b_acde48001122row0_col80\" class=\"data row0 col80\" >706400</td>\n",
       "                        <td id=\"T_0039a01c_316f_11ea_9b4b_acde48001122row0_col81\" class=\"data row0 col81\" >710200</td>\n",
       "                        <td id=\"T_0039a01c_316f_11ea_9b4b_acde48001122row0_col82\" class=\"data row0 col82\" >714000</td>\n",
       "                        <td id=\"T_0039a01c_316f_11ea_9b4b_acde48001122row0_col83\" class=\"data row0 col83\" >717800</td>\n",
       "                        <td id=\"T_0039a01c_316f_11ea_9b4b_acde48001122row0_col84\" class=\"data row0 col84\" >721700</td>\n",
       "                        <td id=\"T_0039a01c_316f_11ea_9b4b_acde48001122row0_col85\" class=\"data row0 col85\" >725700</td>\n",
       "                        <td id=\"T_0039a01c_316f_11ea_9b4b_acde48001122row0_col86\" class=\"data row0 col86\" >729900</td>\n",
       "                        <td id=\"T_0039a01c_316f_11ea_9b4b_acde48001122row0_col87\" class=\"data row0 col87\" >733400</td>\n",
       "                        <td id=\"T_0039a01c_316f_11ea_9b4b_acde48001122row0_col88\" class=\"data row0 col88\" >735600</td>\n",
       "                        <td id=\"T_0039a01c_316f_11ea_9b4b_acde48001122row0_col89\" class=\"data row0 col89\" >737200</td>\n",
       "                        <td id=\"T_0039a01c_316f_11ea_9b4b_acde48001122row0_col90\" class=\"data row0 col90\" >739000</td>\n",
       "                        <td id=\"T_0039a01c_316f_11ea_9b4b_acde48001122row0_col91\" class=\"data row0 col91\" >740900</td>\n",
       "                        <td id=\"T_0039a01c_316f_11ea_9b4b_acde48001122row0_col92\" class=\"data row0 col92\" >742700</td>\n",
       "                        <td id=\"T_0039a01c_316f_11ea_9b4b_acde48001122row0_col93\" class=\"data row0 col93\" >744400</td>\n",
       "                        <td id=\"T_0039a01c_316f_11ea_9b4b_acde48001122row0_col94\" class=\"data row0 col94\" >746000</td>\n",
       "                        <td id=\"T_0039a01c_316f_11ea_9b4b_acde48001122row0_col95\" class=\"data row0 col95\" >747200</td>\n",
       "                        <td id=\"T_0039a01c_316f_11ea_9b4b_acde48001122row0_col96\" class=\"data row0 col96\" >748000</td>\n",
       "                        <td id=\"T_0039a01c_316f_11ea_9b4b_acde48001122row0_col97\" class=\"data row0 col97\" >749000</td>\n",
       "                        <td id=\"T_0039a01c_316f_11ea_9b4b_acde48001122row0_col98\" class=\"data row0 col98\" >750200</td>\n",
       "                        <td id=\"T_0039a01c_316f_11ea_9b4b_acde48001122row0_col99\" class=\"data row0 col99\" >752300</td>\n",
       "                        <td id=\"T_0039a01c_316f_11ea_9b4b_acde48001122row0_col100\" class=\"data row0 col100\" >755300</td>\n",
       "                        <td id=\"T_0039a01c_316f_11ea_9b4b_acde48001122row0_col101\" class=\"data row0 col101\" >759200</td>\n",
       "                        <td id=\"T_0039a01c_316f_11ea_9b4b_acde48001122row0_col102\" class=\"data row0 col102\" >764000</td>\n",
       "                        <td id=\"T_0039a01c_316f_11ea_9b4b_acde48001122row0_col103\" class=\"data row0 col103\" >769600</td>\n",
       "                        <td id=\"T_0039a01c_316f_11ea_9b4b_acde48001122row0_col104\" class=\"data row0 col104\" >775600</td>\n",
       "                        <td id=\"T_0039a01c_316f_11ea_9b4b_acde48001122row0_col105\" class=\"data row0 col105\" >781900</td>\n",
       "                        <td id=\"T_0039a01c_316f_11ea_9b4b_acde48001122row0_col106\" class=\"data row0 col106\" >787900</td>\n",
       "                        <td id=\"T_0039a01c_316f_11ea_9b4b_acde48001122row0_col107\" class=\"data row0 col107\" >793200</td>\n",
       "                        <td id=\"T_0039a01c_316f_11ea_9b4b_acde48001122row0_col108\" class=\"data row0 col108\" >798200</td>\n",
       "                        <td id=\"T_0039a01c_316f_11ea_9b4b_acde48001122row0_col109\" class=\"data row0 col109\" >803100</td>\n",
       "                        <td id=\"T_0039a01c_316f_11ea_9b4b_acde48001122row0_col110\" class=\"data row0 col110\" >807900</td>\n",
       "                        <td id=\"T_0039a01c_316f_11ea_9b4b_acde48001122row0_col111\" class=\"data row0 col111\" >812900</td>\n",
       "                        <td id=\"T_0039a01c_316f_11ea_9b4b_acde48001122row0_col112\" class=\"data row0 col112\" >818100</td>\n",
       "                        <td id=\"T_0039a01c_316f_11ea_9b4b_acde48001122row0_col113\" class=\"data row0 col113\" >823100</td>\n",
       "                        <td id=\"T_0039a01c_316f_11ea_9b4b_acde48001122row0_col114\" class=\"data row0 col114\" >828300</td>\n",
       "                        <td id=\"T_0039a01c_316f_11ea_9b4b_acde48001122row0_col115\" class=\"data row0 col115\" >834100</td>\n",
       "                        <td id=\"T_0039a01c_316f_11ea_9b4b_acde48001122row0_col116\" class=\"data row0 col116\" >839800</td>\n",
       "                        <td id=\"T_0039a01c_316f_11ea_9b4b_acde48001122row0_col117\" class=\"data row0 col117\" >845600</td>\n",
       "                        <td id=\"T_0039a01c_316f_11ea_9b4b_acde48001122row0_col118\" class=\"data row0 col118\" >851800</td>\n",
       "                        <td id=\"T_0039a01c_316f_11ea_9b4b_acde48001122row0_col119\" class=\"data row0 col119\" >858000</td>\n",
       "                        <td id=\"T_0039a01c_316f_11ea_9b4b_acde48001122row0_col120\" class=\"data row0 col120\" >864400</td>\n",
       "                        <td id=\"T_0039a01c_316f_11ea_9b4b_acde48001122row0_col121\" class=\"data row0 col121\" >870700</td>\n",
       "                        <td id=\"T_0039a01c_316f_11ea_9b4b_acde48001122row0_col122\" class=\"data row0 col122\" >876200</td>\n",
       "                        <td id=\"T_0039a01c_316f_11ea_9b4b_acde48001122row0_col123\" class=\"data row0 col123\" >880700</td>\n",
       "                        <td id=\"T_0039a01c_316f_11ea_9b4b_acde48001122row0_col124\" class=\"data row0 col124\" >884400</td>\n",
       "                        <td id=\"T_0039a01c_316f_11ea_9b4b_acde48001122row0_col125\" class=\"data row0 col125\" >887600</td>\n",
       "                        <td id=\"T_0039a01c_316f_11ea_9b4b_acde48001122row0_col126\" class=\"data row0 col126\" >890500</td>\n",
       "                        <td id=\"T_0039a01c_316f_11ea_9b4b_acde48001122row0_col127\" class=\"data row0 col127\" >893300</td>\n",
       "                        <td id=\"T_0039a01c_316f_11ea_9b4b_acde48001122row0_col128\" class=\"data row0 col128\" >895500</td>\n",
       "                        <td id=\"T_0039a01c_316f_11ea_9b4b_acde48001122row0_col129\" class=\"data row0 col129\" >897300</td>\n",
       "                        <td id=\"T_0039a01c_316f_11ea_9b4b_acde48001122row0_col130\" class=\"data row0 col130\" >899000</td>\n",
       "                        <td id=\"T_0039a01c_316f_11ea_9b4b_acde48001122row0_col131\" class=\"data row0 col131\" >900400</td>\n",
       "                        <td id=\"T_0039a01c_316f_11ea_9b4b_acde48001122row0_col132\" class=\"data row0 col132\" >902000</td>\n",
       "                        <td id=\"T_0039a01c_316f_11ea_9b4b_acde48001122row0_col133\" class=\"data row0 col133\" >904400</td>\n",
       "                        <td id=\"T_0039a01c_316f_11ea_9b4b_acde48001122row0_col134\" class=\"data row0 col134\" >907100</td>\n",
       "                        <td id=\"T_0039a01c_316f_11ea_9b4b_acde48001122row0_col135\" class=\"data row0 col135\" >909700</td>\n",
       "                        <td id=\"T_0039a01c_316f_11ea_9b4b_acde48001122row0_col136\" class=\"data row0 col136\" >911900</td>\n",
       "                        <td id=\"T_0039a01c_316f_11ea_9b4b_acde48001122row0_col137\" class=\"data row0 col137\" >913000</td>\n",
       "                        <td id=\"T_0039a01c_316f_11ea_9b4b_acde48001122row0_col138\" class=\"data row0 col138\" >913000</td>\n",
       "                        <td id=\"T_0039a01c_316f_11ea_9b4b_acde48001122row0_col139\" class=\"data row0 col139\" >912000</td>\n",
       "                        <td id=\"T_0039a01c_316f_11ea_9b4b_acde48001122row0_col140\" class=\"data row0 col140\" >909300</td>\n",
       "                        <td id=\"T_0039a01c_316f_11ea_9b4b_acde48001122row0_col141\" class=\"data row0 col141\" >905300</td>\n",
       "                        <td id=\"T_0039a01c_316f_11ea_9b4b_acde48001122row0_col142\" class=\"data row0 col142\" >901400</td>\n",
       "                        <td id=\"T_0039a01c_316f_11ea_9b4b_acde48001122row0_col143\" class=\"data row0 col143\" >897900</td>\n",
       "                        <td id=\"T_0039a01c_316f_11ea_9b4b_acde48001122row0_col144\" class=\"data row0 col144\" >895400</td>\n",
       "                        <td id=\"T_0039a01c_316f_11ea_9b4b_acde48001122row0_col145\" class=\"data row0 col145\" >893600</td>\n",
       "                        <td id=\"T_0039a01c_316f_11ea_9b4b_acde48001122row0_col146\" class=\"data row0 col146\" >891100</td>\n",
       "                        <td id=\"T_0039a01c_316f_11ea_9b4b_acde48001122row0_col147\" class=\"data row0 col147\" >887000</td>\n",
       "                        <td id=\"T_0039a01c_316f_11ea_9b4b_acde48001122row0_col148\" class=\"data row0 col148\" >881700</td>\n",
       "                        <td id=\"T_0039a01c_316f_11ea_9b4b_acde48001122row0_col149\" class=\"data row0 col149\" >875900</td>\n",
       "                        <td id=\"T_0039a01c_316f_11ea_9b4b_acde48001122row0_col150\" class=\"data row0 col150\" >870300</td>\n",
       "                        <td id=\"T_0039a01c_316f_11ea_9b4b_acde48001122row0_col151\" class=\"data row0 col151\" >865100</td>\n",
       "                        <td id=\"T_0039a01c_316f_11ea_9b4b_acde48001122row0_col152\" class=\"data row0 col152\" >859000</td>\n",
       "                        <td id=\"T_0039a01c_316f_11ea_9b4b_acde48001122row0_col153\" class=\"data row0 col153\" >851500</td>\n",
       "                        <td id=\"T_0039a01c_316f_11ea_9b4b_acde48001122row0_col154\" class=\"data row0 col154\" >843800</td>\n",
       "                        <td id=\"T_0039a01c_316f_11ea_9b4b_acde48001122row0_col155\" class=\"data row0 col155\" >836400</td>\n",
       "                        <td id=\"T_0039a01c_316f_11ea_9b4b_acde48001122row0_col156\" class=\"data row0 col156\" >830700</td>\n",
       "                        <td id=\"T_0039a01c_316f_11ea_9b4b_acde48001122row0_col157\" class=\"data row0 col157\" >827300</td>\n",
       "                        <td id=\"T_0039a01c_316f_11ea_9b4b_acde48001122row0_col158\" class=\"data row0 col158\" >824800</td>\n",
       "                        <td id=\"T_0039a01c_316f_11ea_9b4b_acde48001122row0_col159\" class=\"data row0 col159\" >821600</td>\n",
       "                        <td id=\"T_0039a01c_316f_11ea_9b4b_acde48001122row0_col160\" class=\"data row0 col160\" >818300</td>\n",
       "                        <td id=\"T_0039a01c_316f_11ea_9b4b_acde48001122row0_col161\" class=\"data row0 col161\" >814600</td>\n",
       "                        <td id=\"T_0039a01c_316f_11ea_9b4b_acde48001122row0_col162\" class=\"data row0 col162\" >809800</td>\n",
       "                        <td id=\"T_0039a01c_316f_11ea_9b4b_acde48001122row0_col163\" class=\"data row0 col163\" >803600</td>\n",
       "                        <td id=\"T_0039a01c_316f_11ea_9b4b_acde48001122row0_col164\" class=\"data row0 col164\" >795500</td>\n",
       "                        <td id=\"T_0039a01c_316f_11ea_9b4b_acde48001122row0_col165\" class=\"data row0 col165\" >786900</td>\n",
       "                        <td id=\"T_0039a01c_316f_11ea_9b4b_acde48001122row0_col166\" class=\"data row0 col166\" >780700</td>\n",
       "                        <td id=\"T_0039a01c_316f_11ea_9b4b_acde48001122row0_col167\" class=\"data row0 col167\" >776900</td>\n",
       "                        <td id=\"T_0039a01c_316f_11ea_9b4b_acde48001122row0_col168\" class=\"data row0 col168\" >774700</td>\n",
       "                        <td id=\"T_0039a01c_316f_11ea_9b4b_acde48001122row0_col169\" class=\"data row0 col169\" >774200</td>\n",
       "                        <td id=\"T_0039a01c_316f_11ea_9b4b_acde48001122row0_col170\" class=\"data row0 col170\" >774400</td>\n",
       "                        <td id=\"T_0039a01c_316f_11ea_9b4b_acde48001122row0_col171\" class=\"data row0 col171\" >774600</td>\n",
       "                        <td id=\"T_0039a01c_316f_11ea_9b4b_acde48001122row0_col172\" class=\"data row0 col172\" >775600</td>\n",
       "                        <td id=\"T_0039a01c_316f_11ea_9b4b_acde48001122row0_col173\" class=\"data row0 col173\" >777800</td>\n",
       "                        <td id=\"T_0039a01c_316f_11ea_9b4b_acde48001122row0_col174\" class=\"data row0 col174\" >775200</td>\n",
       "                        <td id=\"T_0039a01c_316f_11ea_9b4b_acde48001122row0_col175\" class=\"data row0 col175\" >767900</td>\n",
       "                        <td id=\"T_0039a01c_316f_11ea_9b4b_acde48001122row0_col176\" class=\"data row0 col176\" >764700</td>\n",
       "                        <td id=\"T_0039a01c_316f_11ea_9b4b_acde48001122row0_col177\" class=\"data row0 col177\" >766100</td>\n",
       "                        <td id=\"T_0039a01c_316f_11ea_9b4b_acde48001122row0_col178\" class=\"data row0 col178\" >764100</td>\n",
       "                        <td id=\"T_0039a01c_316f_11ea_9b4b_acde48001122row0_col179\" class=\"data row0 col179\" >759700</td>\n",
       "                        <td id=\"T_0039a01c_316f_11ea_9b4b_acde48001122row0_col180\" class=\"data row0 col180\" >754900</td>\n",
       "                        <td id=\"T_0039a01c_316f_11ea_9b4b_acde48001122row0_col181\" class=\"data row0 col181\" >746200</td>\n",
       "                        <td id=\"T_0039a01c_316f_11ea_9b4b_acde48001122row0_col182\" class=\"data row0 col182\" >737300</td>\n",
       "                        <td id=\"T_0039a01c_316f_11ea_9b4b_acde48001122row0_col183\" class=\"data row0 col183\" >730800</td>\n",
       "                        <td id=\"T_0039a01c_316f_11ea_9b4b_acde48001122row0_col184\" class=\"data row0 col184\" >729300</td>\n",
       "                        <td id=\"T_0039a01c_316f_11ea_9b4b_acde48001122row0_col185\" class=\"data row0 col185\" >730200</td>\n",
       "                        <td id=\"T_0039a01c_316f_11ea_9b4b_acde48001122row0_col186\" class=\"data row0 col186\" >730700</td>\n",
       "                        <td id=\"T_0039a01c_316f_11ea_9b4b_acde48001122row0_col187\" class=\"data row0 col187\" >730000</td>\n",
       "                        <td id=\"T_0039a01c_316f_11ea_9b4b_acde48001122row0_col188\" class=\"data row0 col188\" >730100</td>\n",
       "                        <td id=\"T_0039a01c_316f_11ea_9b4b_acde48001122row0_col189\" class=\"data row0 col189\" >730100</td>\n",
       "                        <td id=\"T_0039a01c_316f_11ea_9b4b_acde48001122row0_col190\" class=\"data row0 col190\" >731200</td>\n",
       "                        <td id=\"T_0039a01c_316f_11ea_9b4b_acde48001122row0_col191\" class=\"data row0 col191\" >733900</td>\n",
       "                        <td id=\"T_0039a01c_316f_11ea_9b4b_acde48001122row0_col192\" class=\"data row0 col192\" >735500</td>\n",
       "                        <td id=\"T_0039a01c_316f_11ea_9b4b_acde48001122row0_col193\" class=\"data row0 col193\" >735400</td>\n",
       "                        <td id=\"T_0039a01c_316f_11ea_9b4b_acde48001122row0_col194\" class=\"data row0 col194\" >734400</td>\n",
       "                        <td id=\"T_0039a01c_316f_11ea_9b4b_acde48001122row0_col195\" class=\"data row0 col195\" >737500</td>\n",
       "                        <td id=\"T_0039a01c_316f_11ea_9b4b_acde48001122row0_col196\" class=\"data row0 col196\" >737700</td>\n",
       "                        <td id=\"T_0039a01c_316f_11ea_9b4b_acde48001122row0_col197\" class=\"data row0 col197\" >733700</td>\n",
       "                        <td id=\"T_0039a01c_316f_11ea_9b4b_acde48001122row0_col198\" class=\"data row0 col198\" >734000</td>\n",
       "                        <td id=\"T_0039a01c_316f_11ea_9b4b_acde48001122row0_col199\" class=\"data row0 col199\" >740300</td>\n",
       "                        <td id=\"T_0039a01c_316f_11ea_9b4b_acde48001122row0_col200\" class=\"data row0 col200\" >744600</td>\n",
       "                        <td id=\"T_0039a01c_316f_11ea_9b4b_acde48001122row0_col201\" class=\"data row0 col201\" >750500</td>\n",
       "                        <td id=\"T_0039a01c_316f_11ea_9b4b_acde48001122row0_col202\" class=\"data row0 col202\" >760400</td>\n",
       "                        <td id=\"T_0039a01c_316f_11ea_9b4b_acde48001122row0_col203\" class=\"data row0 col203\" >771800</td>\n",
       "                        <td id=\"T_0039a01c_316f_11ea_9b4b_acde48001122row0_col204\" class=\"data row0 col204\" >780600</td>\n",
       "                        <td id=\"T_0039a01c_316f_11ea_9b4b_acde48001122row0_col205\" class=\"data row0 col205\" >787900</td>\n",
       "                        <td id=\"T_0039a01c_316f_11ea_9b4b_acde48001122row0_col206\" class=\"data row0 col206\" >794100</td>\n",
       "                        <td id=\"T_0039a01c_316f_11ea_9b4b_acde48001122row0_col207\" class=\"data row0 col207\" >798900</td>\n",
       "                        <td id=\"T_0039a01c_316f_11ea_9b4b_acde48001122row0_col208\" class=\"data row0 col208\" >802300</td>\n",
       "                        <td id=\"T_0039a01c_316f_11ea_9b4b_acde48001122row0_col209\" class=\"data row0 col209\" >806100</td>\n",
       "                        <td id=\"T_0039a01c_316f_11ea_9b4b_acde48001122row0_col210\" class=\"data row0 col210\" >810900</td>\n",
       "                        <td id=\"T_0039a01c_316f_11ea_9b4b_acde48001122row0_col211\" class=\"data row0 col211\" >817400</td>\n",
       "                        <td id=\"T_0039a01c_316f_11ea_9b4b_acde48001122row0_col212\" class=\"data row0 col212\" >826800</td>\n",
       "                        <td id=\"T_0039a01c_316f_11ea_9b4b_acde48001122row0_col213\" class=\"data row0 col213\" >837900</td>\n",
       "                        <td id=\"T_0039a01c_316f_11ea_9b4b_acde48001122row0_col214\" class=\"data row0 col214\" >848100</td>\n",
       "                        <td id=\"T_0039a01c_316f_11ea_9b4b_acde48001122row0_col215\" class=\"data row0 col215\" >853800</td>\n",
       "                        <td id=\"T_0039a01c_316f_11ea_9b4b_acde48001122row0_col216\" class=\"data row0 col216\" >856700</td>\n",
       "                        <td id=\"T_0039a01c_316f_11ea_9b4b_acde48001122row0_col217\" class=\"data row0 col217\" >856600</td>\n",
       "                        <td id=\"T_0039a01c_316f_11ea_9b4b_acde48001122row0_col218\" class=\"data row0 col218\" >854400</td>\n",
       "                        <td id=\"T_0039a01c_316f_11ea_9b4b_acde48001122row0_col219\" class=\"data row0 col219\" >853000</td>\n",
       "                        <td id=\"T_0039a01c_316f_11ea_9b4b_acde48001122row0_col220\" class=\"data row0 col220\" >856200</td>\n",
       "                        <td id=\"T_0039a01c_316f_11ea_9b4b_acde48001122row0_col221\" class=\"data row0 col221\" >859700</td>\n",
       "                        <td id=\"T_0039a01c_316f_11ea_9b4b_acde48001122row0_col222\" class=\"data row0 col222\" >863900</td>\n",
       "                        <td id=\"T_0039a01c_316f_11ea_9b4b_acde48001122row0_col223\" class=\"data row0 col223\" >872900</td>\n",
       "                        <td id=\"T_0039a01c_316f_11ea_9b4b_acde48001122row0_col224\" class=\"data row0 col224\" >883300</td>\n",
       "                        <td id=\"T_0039a01c_316f_11ea_9b4b_acde48001122row0_col225\" class=\"data row0 col225\" >889500</td>\n",
       "                        <td id=\"T_0039a01c_316f_11ea_9b4b_acde48001122row0_col226\" class=\"data row0 col226\" >892800</td>\n",
       "                        <td id=\"T_0039a01c_316f_11ea_9b4b_acde48001122row0_col227\" class=\"data row0 col227\" >893600</td>\n",
       "                        <td id=\"T_0039a01c_316f_11ea_9b4b_acde48001122row0_col228\" class=\"data row0 col228\" >891300</td>\n",
       "                        <td id=\"T_0039a01c_316f_11ea_9b4b_acde48001122row0_col229\" class=\"data row0 col229\" >889900</td>\n",
       "                        <td id=\"T_0039a01c_316f_11ea_9b4b_acde48001122row0_col230\" class=\"data row0 col230\" >891500</td>\n",
       "                        <td id=\"T_0039a01c_316f_11ea_9b4b_acde48001122row0_col231\" class=\"data row0 col231\" >893000</td>\n",
       "                        <td id=\"T_0039a01c_316f_11ea_9b4b_acde48001122row0_col232\" class=\"data row0 col232\" >893000</td>\n",
       "                        <td id=\"T_0039a01c_316f_11ea_9b4b_acde48001122row0_col233\" class=\"data row0 col233\" >895000</td>\n",
       "                        <td id=\"T_0039a01c_316f_11ea_9b4b_acde48001122row0_col234\" class=\"data row0 col234\" >901200</td>\n",
       "                        <td id=\"T_0039a01c_316f_11ea_9b4b_acde48001122row0_col235\" class=\"data row0 col235\" >909400</td>\n",
       "                        <td id=\"T_0039a01c_316f_11ea_9b4b_acde48001122row0_col236\" class=\"data row0 col236\" >915000</td>\n",
       "                        <td id=\"T_0039a01c_316f_11ea_9b4b_acde48001122row0_col237\" class=\"data row0 col237\" >916700</td>\n",
       "                        <td id=\"T_0039a01c_316f_11ea_9b4b_acde48001122row0_col238\" class=\"data row0 col238\" >917700</td>\n",
       "                        <td id=\"T_0039a01c_316f_11ea_9b4b_acde48001122row0_col239\" class=\"data row0 col239\" >919800</td>\n",
       "                        <td id=\"T_0039a01c_316f_11ea_9b4b_acde48001122row0_col240\" class=\"data row0 col240\" >925800</td>\n",
       "                        <td id=\"T_0039a01c_316f_11ea_9b4b_acde48001122row0_col241\" class=\"data row0 col241\" >937100</td>\n",
       "                        <td id=\"T_0039a01c_316f_11ea_9b4b_acde48001122row0_col242\" class=\"data row0 col242\" >948200</td>\n",
       "                        <td id=\"T_0039a01c_316f_11ea_9b4b_acde48001122row0_col243\" class=\"data row0 col243\" >951000</td>\n",
       "                        <td id=\"T_0039a01c_316f_11ea_9b4b_acde48001122row0_col244\" class=\"data row0 col244\" >952500</td>\n",
       "                        <td id=\"T_0039a01c_316f_11ea_9b4b_acde48001122row0_col245\" class=\"data row0 col245\" >958600</td>\n",
       "                        <td id=\"T_0039a01c_316f_11ea_9b4b_acde48001122row0_col246\" class=\"data row0 col246\" >966200</td>\n",
       "                        <td id=\"T_0039a01c_316f_11ea_9b4b_acde48001122row0_col247\" class=\"data row0 col247\" >970400</td>\n",
       "                        <td id=\"T_0039a01c_316f_11ea_9b4b_acde48001122row0_col248\" class=\"data row0 col248\" >973900</td>\n",
       "                        <td id=\"T_0039a01c_316f_11ea_9b4b_acde48001122row0_col249\" class=\"data row0 col249\" >974700</td>\n",
       "                        <td id=\"T_0039a01c_316f_11ea_9b4b_acde48001122row0_col250\" class=\"data row0 col250\" >972600</td>\n",
       "                        <td id=\"T_0039a01c_316f_11ea_9b4b_acde48001122row0_col251\" class=\"data row0 col251\" >974300</td>\n",
       "                        <td id=\"T_0039a01c_316f_11ea_9b4b_acde48001122row0_col252\" class=\"data row0 col252\" >980800</td>\n",
       "                        <td id=\"T_0039a01c_316f_11ea_9b4b_acde48001122row0_col253\" class=\"data row0 col253\" >988000</td>\n",
       "                        <td id=\"T_0039a01c_316f_11ea_9b4b_acde48001122row0_col254\" class=\"data row0 col254\" >994700</td>\n",
       "                        <td id=\"T_0039a01c_316f_11ea_9b4b_acde48001122row0_col255\" class=\"data row0 col255\" >998700</td>\n",
       "                        <td id=\"T_0039a01c_316f_11ea_9b4b_acde48001122row0_col256\" class=\"data row0 col256\" >997000</td>\n",
       "                        <td id=\"T_0039a01c_316f_11ea_9b4b_acde48001122row0_col257\" class=\"data row0 col257\" >993700</td>\n",
       "                        <td id=\"T_0039a01c_316f_11ea_9b4b_acde48001122row0_col258\" class=\"data row0 col258\" >991300</td>\n",
       "                        <td id=\"T_0039a01c_316f_11ea_9b4b_acde48001122row0_col259\" class=\"data row0 col259\" >989200</td>\n",
       "                        <td id=\"T_0039a01c_316f_11ea_9b4b_acde48001122row0_col260\" class=\"data row0 col260\" >991300</td>\n",
       "                        <td id=\"T_0039a01c_316f_11ea_9b4b_acde48001122row0_col261\" class=\"data row0 col261\" >999100</td>\n",
       "                        <td id=\"T_0039a01c_316f_11ea_9b4b_acde48001122row0_col262\" class=\"data row0 col262\" >1005500</td>\n",
       "                        <td id=\"T_0039a01c_316f_11ea_9b4b_acde48001122row0_col263\" class=\"data row0 col263\" >1007500</td>\n",
       "                        <td id=\"T_0039a01c_316f_11ea_9b4b_acde48001122row0_col264\" class=\"data row0 col264\" >1007800</td>\n",
       "                        <td id=\"T_0039a01c_316f_11ea_9b4b_acde48001122row0_col265\" class=\"data row0 col265\" >1009600</td>\n",
       "                        <td id=\"T_0039a01c_316f_11ea_9b4b_acde48001122row0_col266\" class=\"data row0 col266\" >1013300</td>\n",
       "                        <td id=\"T_0039a01c_316f_11ea_9b4b_acde48001122row0_col267\" class=\"data row0 col267\" >1018700</td>\n",
       "                        <td id=\"T_0039a01c_316f_11ea_9b4b_acde48001122row0_col268\" class=\"data row0 col268\" >1024400</td>\n",
       "                        <td id=\"T_0039a01c_316f_11ea_9b4b_acde48001122row0_col269\" class=\"data row0 col269\" >1030700</td>\n",
       "                        <td id=\"T_0039a01c_316f_11ea_9b4b_acde48001122row0_col270\" class=\"data row0 col270\" >1033800</td>\n",
       "                        <td id=\"T_0039a01c_316f_11ea_9b4b_acde48001122row0_col271\" class=\"data row0 col271\" >1030600</td>\n",
       "            </tr>\n",
       "            <tr>\n",
       "                        <th id=\"T_0039a01c_316f_11ea_9b4b_acde48001122level0_row1\" class=\"row_heading level0 row1\" >1</th>\n",
       "                        <td id=\"T_0039a01c_316f_11ea_9b4b_acde48001122row1_col0\" class=\"data row1 col0\" >90668</td>\n",
       "                        <td id=\"T_0039a01c_316f_11ea_9b4b_acde48001122row1_col1\" class=\"data row1 col1\" >75070</td>\n",
       "                        <td id=\"T_0039a01c_316f_11ea_9b4b_acde48001122row1_col2\" class=\"data row1 col2\" >McKinney</td>\n",
       "                        <td id=\"T_0039a01c_316f_11ea_9b4b_acde48001122row1_col3\" class=\"data row1 col3\" >TX</td>\n",
       "                        <td id=\"T_0039a01c_316f_11ea_9b4b_acde48001122row1_col4\" class=\"data row1 col4\" >Dallas-Fort Worth</td>\n",
       "                        <td id=\"T_0039a01c_316f_11ea_9b4b_acde48001122row1_col5\" class=\"data row1 col5\" >Collin</td>\n",
       "                        <td id=\"T_0039a01c_316f_11ea_9b4b_acde48001122row1_col6\" class=\"data row1 col6\" >2</td>\n",
       "                        <td id=\"T_0039a01c_316f_11ea_9b4b_acde48001122row1_col7\" class=\"data row1 col7\" >235700</td>\n",
       "                        <td id=\"T_0039a01c_316f_11ea_9b4b_acde48001122row1_col8\" class=\"data row1 col8\" >236900</td>\n",
       "                        <td id=\"T_0039a01c_316f_11ea_9b4b_acde48001122row1_col9\" class=\"data row1 col9\" >236700</td>\n",
       "                        <td id=\"T_0039a01c_316f_11ea_9b4b_acde48001122row1_col10\" class=\"data row1 col10\" >235400</td>\n",
       "                        <td id=\"T_0039a01c_316f_11ea_9b4b_acde48001122row1_col11\" class=\"data row1 col11\" >233300</td>\n",
       "                        <td id=\"T_0039a01c_316f_11ea_9b4b_acde48001122row1_col12\" class=\"data row1 col12\" >230600</td>\n",
       "                        <td id=\"T_0039a01c_316f_11ea_9b4b_acde48001122row1_col13\" class=\"data row1 col13\" >227300</td>\n",
       "                        <td id=\"T_0039a01c_316f_11ea_9b4b_acde48001122row1_col14\" class=\"data row1 col14\" >223400</td>\n",
       "                        <td id=\"T_0039a01c_316f_11ea_9b4b_acde48001122row1_col15\" class=\"data row1 col15\" >219600</td>\n",
       "                        <td id=\"T_0039a01c_316f_11ea_9b4b_acde48001122row1_col16\" class=\"data row1 col16\" >215800</td>\n",
       "                        <td id=\"T_0039a01c_316f_11ea_9b4b_acde48001122row1_col17\" class=\"data row1 col17\" >211100</td>\n",
       "                        <td id=\"T_0039a01c_316f_11ea_9b4b_acde48001122row1_col18\" class=\"data row1 col18\" >205700</td>\n",
       "                        <td id=\"T_0039a01c_316f_11ea_9b4b_acde48001122row1_col19\" class=\"data row1 col19\" >200900</td>\n",
       "                        <td id=\"T_0039a01c_316f_11ea_9b4b_acde48001122row1_col20\" class=\"data row1 col20\" >196800</td>\n",
       "                        <td id=\"T_0039a01c_316f_11ea_9b4b_acde48001122row1_col21\" class=\"data row1 col21\" >193600</td>\n",
       "                        <td id=\"T_0039a01c_316f_11ea_9b4b_acde48001122row1_col22\" class=\"data row1 col22\" >191400</td>\n",
       "                        <td id=\"T_0039a01c_316f_11ea_9b4b_acde48001122row1_col23\" class=\"data row1 col23\" >190400</td>\n",
       "                        <td id=\"T_0039a01c_316f_11ea_9b4b_acde48001122row1_col24\" class=\"data row1 col24\" >190800</td>\n",
       "                        <td id=\"T_0039a01c_316f_11ea_9b4b_acde48001122row1_col25\" class=\"data row1 col25\" >192700</td>\n",
       "                        <td id=\"T_0039a01c_316f_11ea_9b4b_acde48001122row1_col26\" class=\"data row1 col26\" >196000</td>\n",
       "                        <td id=\"T_0039a01c_316f_11ea_9b4b_acde48001122row1_col27\" class=\"data row1 col27\" >201300</td>\n",
       "                        <td id=\"T_0039a01c_316f_11ea_9b4b_acde48001122row1_col28\" class=\"data row1 col28\" >207400</td>\n",
       "                        <td id=\"T_0039a01c_316f_11ea_9b4b_acde48001122row1_col29\" class=\"data row1 col29\" >212200</td>\n",
       "                        <td id=\"T_0039a01c_316f_11ea_9b4b_acde48001122row1_col30\" class=\"data row1 col30\" >214600</td>\n",
       "                        <td id=\"T_0039a01c_316f_11ea_9b4b_acde48001122row1_col31\" class=\"data row1 col31\" >215100</td>\n",
       "                        <td id=\"T_0039a01c_316f_11ea_9b4b_acde48001122row1_col32\" class=\"data row1 col32\" >213400</td>\n",
       "                        <td id=\"T_0039a01c_316f_11ea_9b4b_acde48001122row1_col33\" class=\"data row1 col33\" >210200</td>\n",
       "                        <td id=\"T_0039a01c_316f_11ea_9b4b_acde48001122row1_col34\" class=\"data row1 col34\" >206100</td>\n",
       "                        <td id=\"T_0039a01c_316f_11ea_9b4b_acde48001122row1_col35\" class=\"data row1 col35\" >202100</td>\n",
       "                        <td id=\"T_0039a01c_316f_11ea_9b4b_acde48001122row1_col36\" class=\"data row1 col36\" >198800</td>\n",
       "                        <td id=\"T_0039a01c_316f_11ea_9b4b_acde48001122row1_col37\" class=\"data row1 col37\" >196100</td>\n",
       "                        <td id=\"T_0039a01c_316f_11ea_9b4b_acde48001122row1_col38\" class=\"data row1 col38\" >194100</td>\n",
       "                        <td id=\"T_0039a01c_316f_11ea_9b4b_acde48001122row1_col39\" class=\"data row1 col39\" >193400</td>\n",
       "                        <td id=\"T_0039a01c_316f_11ea_9b4b_acde48001122row1_col40\" class=\"data row1 col40\" >193400</td>\n",
       "                        <td id=\"T_0039a01c_316f_11ea_9b4b_acde48001122row1_col41\" class=\"data row1 col41\" >193100</td>\n",
       "                        <td id=\"T_0039a01c_316f_11ea_9b4b_acde48001122row1_col42\" class=\"data row1 col42\" >192700</td>\n",
       "                        <td id=\"T_0039a01c_316f_11ea_9b4b_acde48001122row1_col43\" class=\"data row1 col43\" >193000</td>\n",
       "                        <td id=\"T_0039a01c_316f_11ea_9b4b_acde48001122row1_col44\" class=\"data row1 col44\" >193700</td>\n",
       "                        <td id=\"T_0039a01c_316f_11ea_9b4b_acde48001122row1_col45\" class=\"data row1 col45\" >194800</td>\n",
       "                        <td id=\"T_0039a01c_316f_11ea_9b4b_acde48001122row1_col46\" class=\"data row1 col46\" >196100</td>\n",
       "                        <td id=\"T_0039a01c_316f_11ea_9b4b_acde48001122row1_col47\" class=\"data row1 col47\" >197800</td>\n",
       "                        <td id=\"T_0039a01c_316f_11ea_9b4b_acde48001122row1_col48\" class=\"data row1 col48\" >199700</td>\n",
       "                        <td id=\"T_0039a01c_316f_11ea_9b4b_acde48001122row1_col49\" class=\"data row1 col49\" >201900</td>\n",
       "                        <td id=\"T_0039a01c_316f_11ea_9b4b_acde48001122row1_col50\" class=\"data row1 col50\" >204500</td>\n",
       "                        <td id=\"T_0039a01c_316f_11ea_9b4b_acde48001122row1_col51\" class=\"data row1 col51\" >207800</td>\n",
       "                        <td id=\"T_0039a01c_316f_11ea_9b4b_acde48001122row1_col52\" class=\"data row1 col52\" >211500</td>\n",
       "                        <td id=\"T_0039a01c_316f_11ea_9b4b_acde48001122row1_col53\" class=\"data row1 col53\" >214900</td>\n",
       "                        <td id=\"T_0039a01c_316f_11ea_9b4b_acde48001122row1_col54\" class=\"data row1 col54\" >217800</td>\n",
       "                        <td id=\"T_0039a01c_316f_11ea_9b4b_acde48001122row1_col55\" class=\"data row1 col55\" >221100</td>\n",
       "                        <td id=\"T_0039a01c_316f_11ea_9b4b_acde48001122row1_col56\" class=\"data row1 col56\" >224100</td>\n",
       "                        <td id=\"T_0039a01c_316f_11ea_9b4b_acde48001122row1_col57\" class=\"data row1 col57\" >226700</td>\n",
       "                        <td id=\"T_0039a01c_316f_11ea_9b4b_acde48001122row1_col58\" class=\"data row1 col58\" >228200</td>\n",
       "                        <td id=\"T_0039a01c_316f_11ea_9b4b_acde48001122row1_col59\" class=\"data row1 col59\" >228500</td>\n",
       "                        <td id=\"T_0039a01c_316f_11ea_9b4b_acde48001122row1_col60\" class=\"data row1 col60\" >227200</td>\n",
       "                        <td id=\"T_0039a01c_316f_11ea_9b4b_acde48001122row1_col61\" class=\"data row1 col61\" >224900</td>\n",
       "                        <td id=\"T_0039a01c_316f_11ea_9b4b_acde48001122row1_col62\" class=\"data row1 col62\" >221900</td>\n",
       "                        <td id=\"T_0039a01c_316f_11ea_9b4b_acde48001122row1_col63\" class=\"data row1 col63\" >219100</td>\n",
       "                        <td id=\"T_0039a01c_316f_11ea_9b4b_acde48001122row1_col64\" class=\"data row1 col64\" >216900</td>\n",
       "                        <td id=\"T_0039a01c_316f_11ea_9b4b_acde48001122row1_col65\" class=\"data row1 col65\" >215400</td>\n",
       "                        <td id=\"T_0039a01c_316f_11ea_9b4b_acde48001122row1_col66\" class=\"data row1 col66\" >214500</td>\n",
       "                        <td id=\"T_0039a01c_316f_11ea_9b4b_acde48001122row1_col67\" class=\"data row1 col67\" >214600</td>\n",
       "                        <td id=\"T_0039a01c_316f_11ea_9b4b_acde48001122row1_col68\" class=\"data row1 col68\" >215600</td>\n",
       "                        <td id=\"T_0039a01c_316f_11ea_9b4b_acde48001122row1_col69\" class=\"data row1 col69\" >217000</td>\n",
       "                        <td id=\"T_0039a01c_316f_11ea_9b4b_acde48001122row1_col70\" class=\"data row1 col70\" >218400</td>\n",
       "                        <td id=\"T_0039a01c_316f_11ea_9b4b_acde48001122row1_col71\" class=\"data row1 col71\" >219600</td>\n",
       "                        <td id=\"T_0039a01c_316f_11ea_9b4b_acde48001122row1_col72\" class=\"data row1 col72\" >220000</td>\n",
       "                        <td id=\"T_0039a01c_316f_11ea_9b4b_acde48001122row1_col73\" class=\"data row1 col73\" >219100</td>\n",
       "                        <td id=\"T_0039a01c_316f_11ea_9b4b_acde48001122row1_col74\" class=\"data row1 col74\" >216800</td>\n",
       "                        <td id=\"T_0039a01c_316f_11ea_9b4b_acde48001122row1_col75\" class=\"data row1 col75\" >213100</td>\n",
       "                        <td id=\"T_0039a01c_316f_11ea_9b4b_acde48001122row1_col76\" class=\"data row1 col76\" >208700</td>\n",
       "                        <td id=\"T_0039a01c_316f_11ea_9b4b_acde48001122row1_col77\" class=\"data row1 col77\" >204000</td>\n",
       "                        <td id=\"T_0039a01c_316f_11ea_9b4b_acde48001122row1_col78\" class=\"data row1 col78\" >199600</td>\n",
       "                        <td id=\"T_0039a01c_316f_11ea_9b4b_acde48001122row1_col79\" class=\"data row1 col79\" >195700</td>\n",
       "                        <td id=\"T_0039a01c_316f_11ea_9b4b_acde48001122row1_col80\" class=\"data row1 col80\" >192800</td>\n",
       "                        <td id=\"T_0039a01c_316f_11ea_9b4b_acde48001122row1_col81\" class=\"data row1 col81\" >190800</td>\n",
       "                        <td id=\"T_0039a01c_316f_11ea_9b4b_acde48001122row1_col82\" class=\"data row1 col82\" >189600</td>\n",
       "                        <td id=\"T_0039a01c_316f_11ea_9b4b_acde48001122row1_col83\" class=\"data row1 col83\" >189200</td>\n",
       "                        <td id=\"T_0039a01c_316f_11ea_9b4b_acde48001122row1_col84\" class=\"data row1 col84\" >189200</td>\n",
       "                        <td id=\"T_0039a01c_316f_11ea_9b4b_acde48001122row1_col85\" class=\"data row1 col85\" >189600</td>\n",
       "                        <td id=\"T_0039a01c_316f_11ea_9b4b_acde48001122row1_col86\" class=\"data row1 col86\" >190300</td>\n",
       "                        <td id=\"T_0039a01c_316f_11ea_9b4b_acde48001122row1_col87\" class=\"data row1 col87\" >190800</td>\n",
       "                        <td id=\"T_0039a01c_316f_11ea_9b4b_acde48001122row1_col88\" class=\"data row1 col88\" >191000</td>\n",
       "                        <td id=\"T_0039a01c_316f_11ea_9b4b_acde48001122row1_col89\" class=\"data row1 col89\" >190700</td>\n",
       "                        <td id=\"T_0039a01c_316f_11ea_9b4b_acde48001122row1_col90\" class=\"data row1 col90\" >190300</td>\n",
       "                        <td id=\"T_0039a01c_316f_11ea_9b4b_acde48001122row1_col91\" class=\"data row1 col91\" >189800</td>\n",
       "                        <td id=\"T_0039a01c_316f_11ea_9b4b_acde48001122row1_col92\" class=\"data row1 col92\" >189200</td>\n",
       "                        <td id=\"T_0039a01c_316f_11ea_9b4b_acde48001122row1_col93\" class=\"data row1 col93\" >188600</td>\n",
       "                        <td id=\"T_0039a01c_316f_11ea_9b4b_acde48001122row1_col94\" class=\"data row1 col94\" >188000</td>\n",
       "                        <td id=\"T_0039a01c_316f_11ea_9b4b_acde48001122row1_col95\" class=\"data row1 col95\" >187500</td>\n",
       "                        <td id=\"T_0039a01c_316f_11ea_9b4b_acde48001122row1_col96\" class=\"data row1 col96\" >187200</td>\n",
       "                        <td id=\"T_0039a01c_316f_11ea_9b4b_acde48001122row1_col97\" class=\"data row1 col97\" >187000</td>\n",
       "                        <td id=\"T_0039a01c_316f_11ea_9b4b_acde48001122row1_col98\" class=\"data row1 col98\" >186900</td>\n",
       "                        <td id=\"T_0039a01c_316f_11ea_9b4b_acde48001122row1_col99\" class=\"data row1 col99\" >187100</td>\n",
       "                        <td id=\"T_0039a01c_316f_11ea_9b4b_acde48001122row1_col100\" class=\"data row1 col100\" >187700</td>\n",
       "                        <td id=\"T_0039a01c_316f_11ea_9b4b_acde48001122row1_col101\" class=\"data row1 col101\" >188800</td>\n",
       "                        <td id=\"T_0039a01c_316f_11ea_9b4b_acde48001122row1_col102\" class=\"data row1 col102\" >190300</td>\n",
       "                        <td id=\"T_0039a01c_316f_11ea_9b4b_acde48001122row1_col103\" class=\"data row1 col103\" >191800</td>\n",
       "                        <td id=\"T_0039a01c_316f_11ea_9b4b_acde48001122row1_col104\" class=\"data row1 col104\" >193000</td>\n",
       "                        <td id=\"T_0039a01c_316f_11ea_9b4b_acde48001122row1_col105\" class=\"data row1 col105\" >193900</td>\n",
       "                        <td id=\"T_0039a01c_316f_11ea_9b4b_acde48001122row1_col106\" class=\"data row1 col106\" >194500</td>\n",
       "                        <td id=\"T_0039a01c_316f_11ea_9b4b_acde48001122row1_col107\" class=\"data row1 col107\" >195100</td>\n",
       "                        <td id=\"T_0039a01c_316f_11ea_9b4b_acde48001122row1_col108\" class=\"data row1 col108\" >195700</td>\n",
       "                        <td id=\"T_0039a01c_316f_11ea_9b4b_acde48001122row1_col109\" class=\"data row1 col109\" >196400</td>\n",
       "                        <td id=\"T_0039a01c_316f_11ea_9b4b_acde48001122row1_col110\" class=\"data row1 col110\" >197400</td>\n",
       "                        <td id=\"T_0039a01c_316f_11ea_9b4b_acde48001122row1_col111\" class=\"data row1 col111\" >198500</td>\n",
       "                        <td id=\"T_0039a01c_316f_11ea_9b4b_acde48001122row1_col112\" class=\"data row1 col112\" >199600</td>\n",
       "                        <td id=\"T_0039a01c_316f_11ea_9b4b_acde48001122row1_col113\" class=\"data row1 col113\" >200300</td>\n",
       "                        <td id=\"T_0039a01c_316f_11ea_9b4b_acde48001122row1_col114\" class=\"data row1 col114\" >200800</td>\n",
       "                        <td id=\"T_0039a01c_316f_11ea_9b4b_acde48001122row1_col115\" class=\"data row1 col115\" >201000</td>\n",
       "                        <td id=\"T_0039a01c_316f_11ea_9b4b_acde48001122row1_col116\" class=\"data row1 col116\" >201000</td>\n",
       "                        <td id=\"T_0039a01c_316f_11ea_9b4b_acde48001122row1_col117\" class=\"data row1 col117\" >201000</td>\n",
       "                        <td id=\"T_0039a01c_316f_11ea_9b4b_acde48001122row1_col118\" class=\"data row1 col118\" >200900</td>\n",
       "                        <td id=\"T_0039a01c_316f_11ea_9b4b_acde48001122row1_col119\" class=\"data row1 col119\" >200900</td>\n",
       "                        <td id=\"T_0039a01c_316f_11ea_9b4b_acde48001122row1_col120\" class=\"data row1 col120\" >200900</td>\n",
       "                        <td id=\"T_0039a01c_316f_11ea_9b4b_acde48001122row1_col121\" class=\"data row1 col121\" >201200</td>\n",
       "                        <td id=\"T_0039a01c_316f_11ea_9b4b_acde48001122row1_col122\" class=\"data row1 col122\" >201600</td>\n",
       "                        <td id=\"T_0039a01c_316f_11ea_9b4b_acde48001122row1_col123\" class=\"data row1 col123\" >202200</td>\n",
       "                        <td id=\"T_0039a01c_316f_11ea_9b4b_acde48001122row1_col124\" class=\"data row1 col124\" >202700</td>\n",
       "                        <td id=\"T_0039a01c_316f_11ea_9b4b_acde48001122row1_col125\" class=\"data row1 col125\" >203300</td>\n",
       "                        <td id=\"T_0039a01c_316f_11ea_9b4b_acde48001122row1_col126\" class=\"data row1 col126\" >203900</td>\n",
       "                        <td id=\"T_0039a01c_316f_11ea_9b4b_acde48001122row1_col127\" class=\"data row1 col127\" >204500</td>\n",
       "                        <td id=\"T_0039a01c_316f_11ea_9b4b_acde48001122row1_col128\" class=\"data row1 col128\" >205100</td>\n",
       "                        <td id=\"T_0039a01c_316f_11ea_9b4b_acde48001122row1_col129\" class=\"data row1 col129\" >205800</td>\n",
       "                        <td id=\"T_0039a01c_316f_11ea_9b4b_acde48001122row1_col130\" class=\"data row1 col130\" >206500</td>\n",
       "                        <td id=\"T_0039a01c_316f_11ea_9b4b_acde48001122row1_col131\" class=\"data row1 col131\" >207200</td>\n",
       "                        <td id=\"T_0039a01c_316f_11ea_9b4b_acde48001122row1_col132\" class=\"data row1 col132\" >207800</td>\n",
       "                        <td id=\"T_0039a01c_316f_11ea_9b4b_acde48001122row1_col133\" class=\"data row1 col133\" >208400</td>\n",
       "                        <td id=\"T_0039a01c_316f_11ea_9b4b_acde48001122row1_col134\" class=\"data row1 col134\" >208900</td>\n",
       "                        <td id=\"T_0039a01c_316f_11ea_9b4b_acde48001122row1_col135\" class=\"data row1 col135\" >209400</td>\n",
       "                        <td id=\"T_0039a01c_316f_11ea_9b4b_acde48001122row1_col136\" class=\"data row1 col136\" >209700</td>\n",
       "                        <td id=\"T_0039a01c_316f_11ea_9b4b_acde48001122row1_col137\" class=\"data row1 col137\" >210000</td>\n",
       "                        <td id=\"T_0039a01c_316f_11ea_9b4b_acde48001122row1_col138\" class=\"data row1 col138\" >210400</td>\n",
       "                        <td id=\"T_0039a01c_316f_11ea_9b4b_acde48001122row1_col139\" class=\"data row1 col139\" >211000</td>\n",
       "                        <td id=\"T_0039a01c_316f_11ea_9b4b_acde48001122row1_col140\" class=\"data row1 col140\" >211600</td>\n",
       "                        <td id=\"T_0039a01c_316f_11ea_9b4b_acde48001122row1_col141\" class=\"data row1 col141\" >212400</td>\n",
       "                        <td id=\"T_0039a01c_316f_11ea_9b4b_acde48001122row1_col142\" class=\"data row1 col142\" >213000</td>\n",
       "                        <td id=\"T_0039a01c_316f_11ea_9b4b_acde48001122row1_col143\" class=\"data row1 col143\" >213400</td>\n",
       "                        <td id=\"T_0039a01c_316f_11ea_9b4b_acde48001122row1_col144\" class=\"data row1 col144\" >213600</td>\n",
       "                        <td id=\"T_0039a01c_316f_11ea_9b4b_acde48001122row1_col145\" class=\"data row1 col145\" >213800</td>\n",
       "                        <td id=\"T_0039a01c_316f_11ea_9b4b_acde48001122row1_col146\" class=\"data row1 col146\" >213900</td>\n",
       "                        <td id=\"T_0039a01c_316f_11ea_9b4b_acde48001122row1_col147\" class=\"data row1 col147\" >214100</td>\n",
       "                        <td id=\"T_0039a01c_316f_11ea_9b4b_acde48001122row1_col148\" class=\"data row1 col148\" >213900</td>\n",
       "                        <td id=\"T_0039a01c_316f_11ea_9b4b_acde48001122row1_col149\" class=\"data row1 col149\" >213500</td>\n",
       "                        <td id=\"T_0039a01c_316f_11ea_9b4b_acde48001122row1_col150\" class=\"data row1 col150\" >212600</td>\n",
       "                        <td id=\"T_0039a01c_316f_11ea_9b4b_acde48001122row1_col151\" class=\"data row1 col151\" >211200</td>\n",
       "                        <td id=\"T_0039a01c_316f_11ea_9b4b_acde48001122row1_col152\" class=\"data row1 col152\" >209500</td>\n",
       "                        <td id=\"T_0039a01c_316f_11ea_9b4b_acde48001122row1_col153\" class=\"data row1 col153\" >207900</td>\n",
       "                        <td id=\"T_0039a01c_316f_11ea_9b4b_acde48001122row1_col154\" class=\"data row1 col154\" >206700</td>\n",
       "                        <td id=\"T_0039a01c_316f_11ea_9b4b_acde48001122row1_col155\" class=\"data row1 col155\" >205900</td>\n",
       "                        <td id=\"T_0039a01c_316f_11ea_9b4b_acde48001122row1_col156\" class=\"data row1 col156\" >205300</td>\n",
       "                        <td id=\"T_0039a01c_316f_11ea_9b4b_acde48001122row1_col157\" class=\"data row1 col157\" >204600</td>\n",
       "                        <td id=\"T_0039a01c_316f_11ea_9b4b_acde48001122row1_col158\" class=\"data row1 col158\" >203800</td>\n",
       "                        <td id=\"T_0039a01c_316f_11ea_9b4b_acde48001122row1_col159\" class=\"data row1 col159\" >203200</td>\n",
       "                        <td id=\"T_0039a01c_316f_11ea_9b4b_acde48001122row1_col160\" class=\"data row1 col160\" >202400</td>\n",
       "                        <td id=\"T_0039a01c_316f_11ea_9b4b_acde48001122row1_col161\" class=\"data row1 col161\" >201700</td>\n",
       "                        <td id=\"T_0039a01c_316f_11ea_9b4b_acde48001122row1_col162\" class=\"data row1 col162\" >201200</td>\n",
       "                        <td id=\"T_0039a01c_316f_11ea_9b4b_acde48001122row1_col163\" class=\"data row1 col163\" >200700</td>\n",
       "                        <td id=\"T_0039a01c_316f_11ea_9b4b_acde48001122row1_col164\" class=\"data row1 col164\" >200000</td>\n",
       "                        <td id=\"T_0039a01c_316f_11ea_9b4b_acde48001122row1_col165\" class=\"data row1 col165\" >199700</td>\n",
       "                        <td id=\"T_0039a01c_316f_11ea_9b4b_acde48001122row1_col166\" class=\"data row1 col166\" >199700</td>\n",
       "                        <td id=\"T_0039a01c_316f_11ea_9b4b_acde48001122row1_col167\" class=\"data row1 col167\" >199900</td>\n",
       "                        <td id=\"T_0039a01c_316f_11ea_9b4b_acde48001122row1_col168\" class=\"data row1 col168\" >200100</td>\n",
       "                        <td id=\"T_0039a01c_316f_11ea_9b4b_acde48001122row1_col169\" class=\"data row1 col169\" >200200</td>\n",
       "                        <td id=\"T_0039a01c_316f_11ea_9b4b_acde48001122row1_col170\" class=\"data row1 col170\" >200200</td>\n",
       "                        <td id=\"T_0039a01c_316f_11ea_9b4b_acde48001122row1_col171\" class=\"data row1 col171\" >200100</td>\n",
       "                        <td id=\"T_0039a01c_316f_11ea_9b4b_acde48001122row1_col172\" class=\"data row1 col172\" >201300</td>\n",
       "                        <td id=\"T_0039a01c_316f_11ea_9b4b_acde48001122row1_col173\" class=\"data row1 col173\" >202000</td>\n",
       "                        <td id=\"T_0039a01c_316f_11ea_9b4b_acde48001122row1_col174\" class=\"data row1 col174\" >202100</td>\n",
       "                        <td id=\"T_0039a01c_316f_11ea_9b4b_acde48001122row1_col175\" class=\"data row1 col175\" >202700</td>\n",
       "                        <td id=\"T_0039a01c_316f_11ea_9b4b_acde48001122row1_col176\" class=\"data row1 col176\" >203700</td>\n",
       "                        <td id=\"T_0039a01c_316f_11ea_9b4b_acde48001122row1_col177\" class=\"data row1 col177\" >203300</td>\n",
       "                        <td id=\"T_0039a01c_316f_11ea_9b4b_acde48001122row1_col178\" class=\"data row1 col178\" >203100</td>\n",
       "                        <td id=\"T_0039a01c_316f_11ea_9b4b_acde48001122row1_col179\" class=\"data row1 col179\" >202900</td>\n",
       "                        <td id=\"T_0039a01c_316f_11ea_9b4b_acde48001122row1_col180\" class=\"data row1 col180\" >202400</td>\n",
       "                        <td id=\"T_0039a01c_316f_11ea_9b4b_acde48001122row1_col181\" class=\"data row1 col181\" >202400</td>\n",
       "                        <td id=\"T_0039a01c_316f_11ea_9b4b_acde48001122row1_col182\" class=\"data row1 col182\" >202500</td>\n",
       "                        <td id=\"T_0039a01c_316f_11ea_9b4b_acde48001122row1_col183\" class=\"data row1 col183\" >202500</td>\n",
       "                        <td id=\"T_0039a01c_316f_11ea_9b4b_acde48001122row1_col184\" class=\"data row1 col184\" >202400</td>\n",
       "                        <td id=\"T_0039a01c_316f_11ea_9b4b_acde48001122row1_col185\" class=\"data row1 col185\" >202500</td>\n",
       "                        <td id=\"T_0039a01c_316f_11ea_9b4b_acde48001122row1_col186\" class=\"data row1 col186\" >202100</td>\n",
       "                        <td id=\"T_0039a01c_316f_11ea_9b4b_acde48001122row1_col187\" class=\"data row1 col187\" >201300</td>\n",
       "                        <td id=\"T_0039a01c_316f_11ea_9b4b_acde48001122row1_col188\" class=\"data row1 col188\" >200700</td>\n",
       "                        <td id=\"T_0039a01c_316f_11ea_9b4b_acde48001122row1_col189\" class=\"data row1 col189\" >200500</td>\n",
       "                        <td id=\"T_0039a01c_316f_11ea_9b4b_acde48001122row1_col190\" class=\"data row1 col190\" >200000</td>\n",
       "                        <td id=\"T_0039a01c_316f_11ea_9b4b_acde48001122row1_col191\" class=\"data row1 col191\" >199300</td>\n",
       "                        <td id=\"T_0039a01c_316f_11ea_9b4b_acde48001122row1_col192\" class=\"data row1 col192\" >199100</td>\n",
       "                        <td id=\"T_0039a01c_316f_11ea_9b4b_acde48001122row1_col193\" class=\"data row1 col193\" >199200</td>\n",
       "                        <td id=\"T_0039a01c_316f_11ea_9b4b_acde48001122row1_col194\" class=\"data row1 col194\" >199400</td>\n",
       "                        <td id=\"T_0039a01c_316f_11ea_9b4b_acde48001122row1_col195\" class=\"data row1 col195\" >199500</td>\n",
       "                        <td id=\"T_0039a01c_316f_11ea_9b4b_acde48001122row1_col196\" class=\"data row1 col196\" >199600</td>\n",
       "                        <td id=\"T_0039a01c_316f_11ea_9b4b_acde48001122row1_col197\" class=\"data row1 col197\" >200100</td>\n",
       "                        <td id=\"T_0039a01c_316f_11ea_9b4b_acde48001122row1_col198\" class=\"data row1 col198\" >200700</td>\n",
       "                        <td id=\"T_0039a01c_316f_11ea_9b4b_acde48001122row1_col199\" class=\"data row1 col199\" >201800</td>\n",
       "                        <td id=\"T_0039a01c_316f_11ea_9b4b_acde48001122row1_col200\" class=\"data row1 col200\" >202700</td>\n",
       "                        <td id=\"T_0039a01c_316f_11ea_9b4b_acde48001122row1_col201\" class=\"data row1 col201\" >203000</td>\n",
       "                        <td id=\"T_0039a01c_316f_11ea_9b4b_acde48001122row1_col202\" class=\"data row1 col202\" >203000</td>\n",
       "                        <td id=\"T_0039a01c_316f_11ea_9b4b_acde48001122row1_col203\" class=\"data row1 col203\" >203000</td>\n",
       "                        <td id=\"T_0039a01c_316f_11ea_9b4b_acde48001122row1_col204\" class=\"data row1 col204\" >203100</td>\n",
       "                        <td id=\"T_0039a01c_316f_11ea_9b4b_acde48001122row1_col205\" class=\"data row1 col205\" >203500</td>\n",
       "                        <td id=\"T_0039a01c_316f_11ea_9b4b_acde48001122row1_col206\" class=\"data row1 col206\" >204600</td>\n",
       "                        <td id=\"T_0039a01c_316f_11ea_9b4b_acde48001122row1_col207\" class=\"data row1 col207\" >205600</td>\n",
       "                        <td id=\"T_0039a01c_316f_11ea_9b4b_acde48001122row1_col208\" class=\"data row1 col208\" >205900</td>\n",
       "                        <td id=\"T_0039a01c_316f_11ea_9b4b_acde48001122row1_col209\" class=\"data row1 col209\" >206900</td>\n",
       "                        <td id=\"T_0039a01c_316f_11ea_9b4b_acde48001122row1_col210\" class=\"data row1 col210\" >208500</td>\n",
       "                        <td id=\"T_0039a01c_316f_11ea_9b4b_acde48001122row1_col211\" class=\"data row1 col211\" >209800</td>\n",
       "                        <td id=\"T_0039a01c_316f_11ea_9b4b_acde48001122row1_col212\" class=\"data row1 col212\" >211300</td>\n",
       "                        <td id=\"T_0039a01c_316f_11ea_9b4b_acde48001122row1_col213\" class=\"data row1 col213\" >214000</td>\n",
       "                        <td id=\"T_0039a01c_316f_11ea_9b4b_acde48001122row1_col214\" class=\"data row1 col214\" >217200</td>\n",
       "                        <td id=\"T_0039a01c_316f_11ea_9b4b_acde48001122row1_col215\" class=\"data row1 col215\" >220600</td>\n",
       "                        <td id=\"T_0039a01c_316f_11ea_9b4b_acde48001122row1_col216\" class=\"data row1 col216\" >223800</td>\n",
       "                        <td id=\"T_0039a01c_316f_11ea_9b4b_acde48001122row1_col217\" class=\"data row1 col217\" >226500</td>\n",
       "                        <td id=\"T_0039a01c_316f_11ea_9b4b_acde48001122row1_col218\" class=\"data row1 col218\" >228600</td>\n",
       "                        <td id=\"T_0039a01c_316f_11ea_9b4b_acde48001122row1_col219\" class=\"data row1 col219\" >230400</td>\n",
       "                        <td id=\"T_0039a01c_316f_11ea_9b4b_acde48001122row1_col220\" class=\"data row1 col220\" >231800</td>\n",
       "                        <td id=\"T_0039a01c_316f_11ea_9b4b_acde48001122row1_col221\" class=\"data row1 col221\" >233000</td>\n",
       "                        <td id=\"T_0039a01c_316f_11ea_9b4b_acde48001122row1_col222\" class=\"data row1 col222\" >234200</td>\n",
       "                        <td id=\"T_0039a01c_316f_11ea_9b4b_acde48001122row1_col223\" class=\"data row1 col223\" >235400</td>\n",
       "                        <td id=\"T_0039a01c_316f_11ea_9b4b_acde48001122row1_col224\" class=\"data row1 col224\" >236600</td>\n",
       "                        <td id=\"T_0039a01c_316f_11ea_9b4b_acde48001122row1_col225\" class=\"data row1 col225\" >238500</td>\n",
       "                        <td id=\"T_0039a01c_316f_11ea_9b4b_acde48001122row1_col226\" class=\"data row1 col226\" >240500</td>\n",
       "                        <td id=\"T_0039a01c_316f_11ea_9b4b_acde48001122row1_col227\" class=\"data row1 col227\" >242600</td>\n",
       "                        <td id=\"T_0039a01c_316f_11ea_9b4b_acde48001122row1_col228\" class=\"data row1 col228\" >244700</td>\n",
       "                        <td id=\"T_0039a01c_316f_11ea_9b4b_acde48001122row1_col229\" class=\"data row1 col229\" >246300</td>\n",
       "                        <td id=\"T_0039a01c_316f_11ea_9b4b_acde48001122row1_col230\" class=\"data row1 col230\" >247600</td>\n",
       "                        <td id=\"T_0039a01c_316f_11ea_9b4b_acde48001122row1_col231\" class=\"data row1 col231\" >249600</td>\n",
       "                        <td id=\"T_0039a01c_316f_11ea_9b4b_acde48001122row1_col232\" class=\"data row1 col232\" >251400</td>\n",
       "                        <td id=\"T_0039a01c_316f_11ea_9b4b_acde48001122row1_col233\" class=\"data row1 col233\" >253000</td>\n",
       "                        <td id=\"T_0039a01c_316f_11ea_9b4b_acde48001122row1_col234\" class=\"data row1 col234\" >255200</td>\n",
       "                        <td id=\"T_0039a01c_316f_11ea_9b4b_acde48001122row1_col235\" class=\"data row1 col235\" >258000</td>\n",
       "                        <td id=\"T_0039a01c_316f_11ea_9b4b_acde48001122row1_col236\" class=\"data row1 col236\" >261200</td>\n",
       "                        <td id=\"T_0039a01c_316f_11ea_9b4b_acde48001122row1_col237\" class=\"data row1 col237\" >264700</td>\n",
       "                        <td id=\"T_0039a01c_316f_11ea_9b4b_acde48001122row1_col238\" class=\"data row1 col238\" >268400</td>\n",
       "                        <td id=\"T_0039a01c_316f_11ea_9b4b_acde48001122row1_col239\" class=\"data row1 col239\" >271400</td>\n",
       "                        <td id=\"T_0039a01c_316f_11ea_9b4b_acde48001122row1_col240\" class=\"data row1 col240\" >273600</td>\n",
       "                        <td id=\"T_0039a01c_316f_11ea_9b4b_acde48001122row1_col241\" class=\"data row1 col241\" >275200</td>\n",
       "                        <td id=\"T_0039a01c_316f_11ea_9b4b_acde48001122row1_col242\" class=\"data row1 col242\" >276400</td>\n",
       "                        <td id=\"T_0039a01c_316f_11ea_9b4b_acde48001122row1_col243\" class=\"data row1 col243\" >277000</td>\n",
       "                        <td id=\"T_0039a01c_316f_11ea_9b4b_acde48001122row1_col244\" class=\"data row1 col244\" >277900</td>\n",
       "                        <td id=\"T_0039a01c_316f_11ea_9b4b_acde48001122row1_col245\" class=\"data row1 col245\" >280000</td>\n",
       "                        <td id=\"T_0039a01c_316f_11ea_9b4b_acde48001122row1_col246\" class=\"data row1 col246\" >282600</td>\n",
       "                        <td id=\"T_0039a01c_316f_11ea_9b4b_acde48001122row1_col247\" class=\"data row1 col247\" >285400</td>\n",
       "                        <td id=\"T_0039a01c_316f_11ea_9b4b_acde48001122row1_col248\" class=\"data row1 col248\" >288400</td>\n",
       "                        <td id=\"T_0039a01c_316f_11ea_9b4b_acde48001122row1_col249\" class=\"data row1 col249\" >290800</td>\n",
       "                        <td id=\"T_0039a01c_316f_11ea_9b4b_acde48001122row1_col250\" class=\"data row1 col250\" >292000</td>\n",
       "                        <td id=\"T_0039a01c_316f_11ea_9b4b_acde48001122row1_col251\" class=\"data row1 col251\" >292800</td>\n",
       "                        <td id=\"T_0039a01c_316f_11ea_9b4b_acde48001122row1_col252\" class=\"data row1 col252\" >293700</td>\n",
       "                        <td id=\"T_0039a01c_316f_11ea_9b4b_acde48001122row1_col253\" class=\"data row1 col253\" >295200</td>\n",
       "                        <td id=\"T_0039a01c_316f_11ea_9b4b_acde48001122row1_col254\" class=\"data row1 col254\" >297000</td>\n",
       "                        <td id=\"T_0039a01c_316f_11ea_9b4b_acde48001122row1_col255\" class=\"data row1 col255\" >299000</td>\n",
       "                        <td id=\"T_0039a01c_316f_11ea_9b4b_acde48001122row1_col256\" class=\"data row1 col256\" >300800</td>\n",
       "                        <td id=\"T_0039a01c_316f_11ea_9b4b_acde48001122row1_col257\" class=\"data row1 col257\" >301800</td>\n",
       "                        <td id=\"T_0039a01c_316f_11ea_9b4b_acde48001122row1_col258\" class=\"data row1 col258\" >302800</td>\n",
       "                        <td id=\"T_0039a01c_316f_11ea_9b4b_acde48001122row1_col259\" class=\"data row1 col259\" >304400</td>\n",
       "                        <td id=\"T_0039a01c_316f_11ea_9b4b_acde48001122row1_col260\" class=\"data row1 col260\" >306200</td>\n",
       "                        <td id=\"T_0039a01c_316f_11ea_9b4b_acde48001122row1_col261\" class=\"data row1 col261\" >307000</td>\n",
       "                        <td id=\"T_0039a01c_316f_11ea_9b4b_acde48001122row1_col262\" class=\"data row1 col262\" >308000</td>\n",
       "                        <td id=\"T_0039a01c_316f_11ea_9b4b_acde48001122row1_col263\" class=\"data row1 col263\" >310000</td>\n",
       "                        <td id=\"T_0039a01c_316f_11ea_9b4b_acde48001122row1_col264\" class=\"data row1 col264\" >312500</td>\n",
       "                        <td id=\"T_0039a01c_316f_11ea_9b4b_acde48001122row1_col265\" class=\"data row1 col265\" >314100</td>\n",
       "                        <td id=\"T_0039a01c_316f_11ea_9b4b_acde48001122row1_col266\" class=\"data row1 col266\" >315000</td>\n",
       "                        <td id=\"T_0039a01c_316f_11ea_9b4b_acde48001122row1_col267\" class=\"data row1 col267\" >316600</td>\n",
       "                        <td id=\"T_0039a01c_316f_11ea_9b4b_acde48001122row1_col268\" class=\"data row1 col268\" >318100</td>\n",
       "                        <td id=\"T_0039a01c_316f_11ea_9b4b_acde48001122row1_col269\" class=\"data row1 col269\" >319600</td>\n",
       "                        <td id=\"T_0039a01c_316f_11ea_9b4b_acde48001122row1_col270\" class=\"data row1 col270\" >321100</td>\n",
       "                        <td id=\"T_0039a01c_316f_11ea_9b4b_acde48001122row1_col271\" class=\"data row1 col271\" >321800</td>\n",
       "            </tr>\n",
       "            <tr>\n",
       "                        <th id=\"T_0039a01c_316f_11ea_9b4b_acde48001122level0_row2\" class=\"row_heading level0 row2\" >2</th>\n",
       "                        <td id=\"T_0039a01c_316f_11ea_9b4b_acde48001122row2_col0\" class=\"data row2 col0\" >91982</td>\n",
       "                        <td id=\"T_0039a01c_316f_11ea_9b4b_acde48001122row2_col1\" class=\"data row2 col1\" >77494</td>\n",
       "                        <td id=\"T_0039a01c_316f_11ea_9b4b_acde48001122row2_col2\" class=\"data row2 col2\" >Katy</td>\n",
       "                        <td id=\"T_0039a01c_316f_11ea_9b4b_acde48001122row2_col3\" class=\"data row2 col3\" >TX</td>\n",
       "                        <td id=\"T_0039a01c_316f_11ea_9b4b_acde48001122row2_col4\" class=\"data row2 col4\" >Houston</td>\n",
       "                        <td id=\"T_0039a01c_316f_11ea_9b4b_acde48001122row2_col5\" class=\"data row2 col5\" >Harris</td>\n",
       "                        <td id=\"T_0039a01c_316f_11ea_9b4b_acde48001122row2_col6\" class=\"data row2 col6\" >3</td>\n",
       "                        <td id=\"T_0039a01c_316f_11ea_9b4b_acde48001122row2_col7\" class=\"data row2 col7\" >210400</td>\n",
       "                        <td id=\"T_0039a01c_316f_11ea_9b4b_acde48001122row2_col8\" class=\"data row2 col8\" >212200</td>\n",
       "                        <td id=\"T_0039a01c_316f_11ea_9b4b_acde48001122row2_col9\" class=\"data row2 col9\" >212200</td>\n",
       "                        <td id=\"T_0039a01c_316f_11ea_9b4b_acde48001122row2_col10\" class=\"data row2 col10\" >210700</td>\n",
       "                        <td id=\"T_0039a01c_316f_11ea_9b4b_acde48001122row2_col11\" class=\"data row2 col11\" >208300</td>\n",
       "                        <td id=\"T_0039a01c_316f_11ea_9b4b_acde48001122row2_col12\" class=\"data row2 col12\" >205500</td>\n",
       "                        <td id=\"T_0039a01c_316f_11ea_9b4b_acde48001122row2_col13\" class=\"data row2 col13\" >202500</td>\n",
       "                        <td id=\"T_0039a01c_316f_11ea_9b4b_acde48001122row2_col14\" class=\"data row2 col14\" >199800</td>\n",
       "                        <td id=\"T_0039a01c_316f_11ea_9b4b_acde48001122row2_col15\" class=\"data row2 col15\" >198300</td>\n",
       "                        <td id=\"T_0039a01c_316f_11ea_9b4b_acde48001122row2_col16\" class=\"data row2 col16\" >197300</td>\n",
       "                        <td id=\"T_0039a01c_316f_11ea_9b4b_acde48001122row2_col17\" class=\"data row2 col17\" >195400</td>\n",
       "                        <td id=\"T_0039a01c_316f_11ea_9b4b_acde48001122row2_col18\" class=\"data row2 col18\" >193000</td>\n",
       "                        <td id=\"T_0039a01c_316f_11ea_9b4b_acde48001122row2_col19\" class=\"data row2 col19\" >191800</td>\n",
       "                        <td id=\"T_0039a01c_316f_11ea_9b4b_acde48001122row2_col20\" class=\"data row2 col20\" >191800</td>\n",
       "                        <td id=\"T_0039a01c_316f_11ea_9b4b_acde48001122row2_col21\" class=\"data row2 col21\" >193000</td>\n",
       "                        <td id=\"T_0039a01c_316f_11ea_9b4b_acde48001122row2_col22\" class=\"data row2 col22\" >195200</td>\n",
       "                        <td id=\"T_0039a01c_316f_11ea_9b4b_acde48001122row2_col23\" class=\"data row2 col23\" >198400</td>\n",
       "                        <td id=\"T_0039a01c_316f_11ea_9b4b_acde48001122row2_col24\" class=\"data row2 col24\" >202800</td>\n",
       "                        <td id=\"T_0039a01c_316f_11ea_9b4b_acde48001122row2_col25\" class=\"data row2 col25\" >208000</td>\n",
       "                        <td id=\"T_0039a01c_316f_11ea_9b4b_acde48001122row2_col26\" class=\"data row2 col26\" >213800</td>\n",
       "                        <td id=\"T_0039a01c_316f_11ea_9b4b_acde48001122row2_col27\" class=\"data row2 col27\" >220700</td>\n",
       "                        <td id=\"T_0039a01c_316f_11ea_9b4b_acde48001122row2_col28\" class=\"data row2 col28\" >227500</td>\n",
       "                        <td id=\"T_0039a01c_316f_11ea_9b4b_acde48001122row2_col29\" class=\"data row2 col29\" >231800</td>\n",
       "                        <td id=\"T_0039a01c_316f_11ea_9b4b_acde48001122row2_col30\" class=\"data row2 col30\" >233400</td>\n",
       "                        <td id=\"T_0039a01c_316f_11ea_9b4b_acde48001122row2_col31\" class=\"data row2 col31\" >233900</td>\n",
       "                        <td id=\"T_0039a01c_316f_11ea_9b4b_acde48001122row2_col32\" class=\"data row2 col32\" >233500</td>\n",
       "                        <td id=\"T_0039a01c_316f_11ea_9b4b_acde48001122row2_col33\" class=\"data row2 col33\" >233300</td>\n",
       "                        <td id=\"T_0039a01c_316f_11ea_9b4b_acde48001122row2_col34\" class=\"data row2 col34\" >234300</td>\n",
       "                        <td id=\"T_0039a01c_316f_11ea_9b4b_acde48001122row2_col35\" class=\"data row2 col35\" >237400</td>\n",
       "                        <td id=\"T_0039a01c_316f_11ea_9b4b_acde48001122row2_col36\" class=\"data row2 col36\" >242800</td>\n",
       "                        <td id=\"T_0039a01c_316f_11ea_9b4b_acde48001122row2_col37\" class=\"data row2 col37\" >250200</td>\n",
       "                        <td id=\"T_0039a01c_316f_11ea_9b4b_acde48001122row2_col38\" class=\"data row2 col38\" >258600</td>\n",
       "                        <td id=\"T_0039a01c_316f_11ea_9b4b_acde48001122row2_col39\" class=\"data row2 col39\" >268000</td>\n",
       "                        <td id=\"T_0039a01c_316f_11ea_9b4b_acde48001122row2_col40\" class=\"data row2 col40\" >277000</td>\n",
       "                        <td id=\"T_0039a01c_316f_11ea_9b4b_acde48001122row2_col41\" class=\"data row2 col41\" >283600</td>\n",
       "                        <td id=\"T_0039a01c_316f_11ea_9b4b_acde48001122row2_col42\" class=\"data row2 col42\" >288500</td>\n",
       "                        <td id=\"T_0039a01c_316f_11ea_9b4b_acde48001122row2_col43\" class=\"data row2 col43\" >293900</td>\n",
       "                        <td id=\"T_0039a01c_316f_11ea_9b4b_acde48001122row2_col44\" class=\"data row2 col44\" >299200</td>\n",
       "                        <td id=\"T_0039a01c_316f_11ea_9b4b_acde48001122row2_col45\" class=\"data row2 col45\" >304300</td>\n",
       "                        <td id=\"T_0039a01c_316f_11ea_9b4b_acde48001122row2_col46\" class=\"data row2 col46\" >308600</td>\n",
       "                        <td id=\"T_0039a01c_316f_11ea_9b4b_acde48001122row2_col47\" class=\"data row2 col47\" >311400</td>\n",
       "                        <td id=\"T_0039a01c_316f_11ea_9b4b_acde48001122row2_col48\" class=\"data row2 col48\" >312300</td>\n",
       "                        <td id=\"T_0039a01c_316f_11ea_9b4b_acde48001122row2_col49\" class=\"data row2 col49\" >311900</td>\n",
       "                        <td id=\"T_0039a01c_316f_11ea_9b4b_acde48001122row2_col50\" class=\"data row2 col50\" >311100</td>\n",
       "                        <td id=\"T_0039a01c_316f_11ea_9b4b_acde48001122row2_col51\" class=\"data row2 col51\" >311700</td>\n",
       "                        <td id=\"T_0039a01c_316f_11ea_9b4b_acde48001122row2_col52\" class=\"data row2 col52\" >313500</td>\n",
       "                        <td id=\"T_0039a01c_316f_11ea_9b4b_acde48001122row2_col53\" class=\"data row2 col53\" >315000</td>\n",
       "                        <td id=\"T_0039a01c_316f_11ea_9b4b_acde48001122row2_col54\" class=\"data row2 col54\" >316700</td>\n",
       "                        <td id=\"T_0039a01c_316f_11ea_9b4b_acde48001122row2_col55\" class=\"data row2 col55\" >319800</td>\n",
       "                        <td id=\"T_0039a01c_316f_11ea_9b4b_acde48001122row2_col56\" class=\"data row2 col56\" >323700</td>\n",
       "                        <td id=\"T_0039a01c_316f_11ea_9b4b_acde48001122row2_col57\" class=\"data row2 col57\" >327500</td>\n",
       "                        <td id=\"T_0039a01c_316f_11ea_9b4b_acde48001122row2_col58\" class=\"data row2 col58\" >329900</td>\n",
       "                        <td id=\"T_0039a01c_316f_11ea_9b4b_acde48001122row2_col59\" class=\"data row2 col59\" >329800</td>\n",
       "                        <td id=\"T_0039a01c_316f_11ea_9b4b_acde48001122row2_col60\" class=\"data row2 col60\" >326400</td>\n",
       "                        <td id=\"T_0039a01c_316f_11ea_9b4b_acde48001122row2_col61\" class=\"data row2 col61\" >320100</td>\n",
       "                        <td id=\"T_0039a01c_316f_11ea_9b4b_acde48001122row2_col62\" class=\"data row2 col62\" >312200</td>\n",
       "                        <td id=\"T_0039a01c_316f_11ea_9b4b_acde48001122row2_col63\" class=\"data row2 col63\" >304700</td>\n",
       "                        <td id=\"T_0039a01c_316f_11ea_9b4b_acde48001122row2_col64\" class=\"data row2 col64\" >298700</td>\n",
       "                        <td id=\"T_0039a01c_316f_11ea_9b4b_acde48001122row2_col65\" class=\"data row2 col65\" >294300</td>\n",
       "                        <td id=\"T_0039a01c_316f_11ea_9b4b_acde48001122row2_col66\" class=\"data row2 col66\" >291400</td>\n",
       "                        <td id=\"T_0039a01c_316f_11ea_9b4b_acde48001122row2_col67\" class=\"data row2 col67\" >290800</td>\n",
       "                        <td id=\"T_0039a01c_316f_11ea_9b4b_acde48001122row2_col68\" class=\"data row2 col68\" >291600</td>\n",
       "                        <td id=\"T_0039a01c_316f_11ea_9b4b_acde48001122row2_col69\" class=\"data row2 col69\" >293000</td>\n",
       "                        <td id=\"T_0039a01c_316f_11ea_9b4b_acde48001122row2_col70\" class=\"data row2 col70\" >293600</td>\n",
       "                        <td id=\"T_0039a01c_316f_11ea_9b4b_acde48001122row2_col71\" class=\"data row2 col71\" >292900</td>\n",
       "                        <td id=\"T_0039a01c_316f_11ea_9b4b_acde48001122row2_col72\" class=\"data row2 col72\" >290500</td>\n",
       "                        <td id=\"T_0039a01c_316f_11ea_9b4b_acde48001122row2_col73\" class=\"data row2 col73\" >286700</td>\n",
       "                        <td id=\"T_0039a01c_316f_11ea_9b4b_acde48001122row2_col74\" class=\"data row2 col74\" >282200</td>\n",
       "                        <td id=\"T_0039a01c_316f_11ea_9b4b_acde48001122row2_col75\" class=\"data row2 col75\" >276900</td>\n",
       "                        <td id=\"T_0039a01c_316f_11ea_9b4b_acde48001122row2_col76\" class=\"data row2 col76\" >271000</td>\n",
       "                        <td id=\"T_0039a01c_316f_11ea_9b4b_acde48001122row2_col77\" class=\"data row2 col77\" >264200</td>\n",
       "                        <td id=\"T_0039a01c_316f_11ea_9b4b_acde48001122row2_col78\" class=\"data row2 col78\" >257000</td>\n",
       "                        <td id=\"T_0039a01c_316f_11ea_9b4b_acde48001122row2_col79\" class=\"data row2 col79\" >249700</td>\n",
       "                        <td id=\"T_0039a01c_316f_11ea_9b4b_acde48001122row2_col80\" class=\"data row2 col80\" >243100</td>\n",
       "                        <td id=\"T_0039a01c_316f_11ea_9b4b_acde48001122row2_col81\" class=\"data row2 col81\" >237000</td>\n",
       "                        <td id=\"T_0039a01c_316f_11ea_9b4b_acde48001122row2_col82\" class=\"data row2 col82\" >231700</td>\n",
       "                        <td id=\"T_0039a01c_316f_11ea_9b4b_acde48001122row2_col83\" class=\"data row2 col83\" >227100</td>\n",
       "                        <td id=\"T_0039a01c_316f_11ea_9b4b_acde48001122row2_col84\" class=\"data row2 col84\" >223300</td>\n",
       "                        <td id=\"T_0039a01c_316f_11ea_9b4b_acde48001122row2_col85\" class=\"data row2 col85\" >220300</td>\n",
       "                        <td id=\"T_0039a01c_316f_11ea_9b4b_acde48001122row2_col86\" class=\"data row2 col86\" >217300</td>\n",
       "                        <td id=\"T_0039a01c_316f_11ea_9b4b_acde48001122row2_col87\" class=\"data row2 col87\" >214700</td>\n",
       "                        <td id=\"T_0039a01c_316f_11ea_9b4b_acde48001122row2_col88\" class=\"data row2 col88\" >213800</td>\n",
       "                        <td id=\"T_0039a01c_316f_11ea_9b4b_acde48001122row2_col89\" class=\"data row2 col89\" >215100</td>\n",
       "                        <td id=\"T_0039a01c_316f_11ea_9b4b_acde48001122row2_col90\" class=\"data row2 col90\" >217300</td>\n",
       "                        <td id=\"T_0039a01c_316f_11ea_9b4b_acde48001122row2_col91\" class=\"data row2 col91\" >219600</td>\n",
       "                        <td id=\"T_0039a01c_316f_11ea_9b4b_acde48001122row2_col92\" class=\"data row2 col92\" >221400</td>\n",
       "                        <td id=\"T_0039a01c_316f_11ea_9b4b_acde48001122row2_col93\" class=\"data row2 col93\" >222300</td>\n",
       "                        <td id=\"T_0039a01c_316f_11ea_9b4b_acde48001122row2_col94\" class=\"data row2 col94\" >222700</td>\n",
       "                        <td id=\"T_0039a01c_316f_11ea_9b4b_acde48001122row2_col95\" class=\"data row2 col95\" >223000</td>\n",
       "                        <td id=\"T_0039a01c_316f_11ea_9b4b_acde48001122row2_col96\" class=\"data row2 col96\" >223700</td>\n",
       "                        <td id=\"T_0039a01c_316f_11ea_9b4b_acde48001122row2_col97\" class=\"data row2 col97\" >225100</td>\n",
       "                        <td id=\"T_0039a01c_316f_11ea_9b4b_acde48001122row2_col98\" class=\"data row2 col98\" >227200</td>\n",
       "                        <td id=\"T_0039a01c_316f_11ea_9b4b_acde48001122row2_col99\" class=\"data row2 col99\" >229600</td>\n",
       "                        <td id=\"T_0039a01c_316f_11ea_9b4b_acde48001122row2_col100\" class=\"data row2 col100\" >231800</td>\n",
       "                        <td id=\"T_0039a01c_316f_11ea_9b4b_acde48001122row2_col101\" class=\"data row2 col101\" >233100</td>\n",
       "                        <td id=\"T_0039a01c_316f_11ea_9b4b_acde48001122row2_col102\" class=\"data row2 col102\" >233500</td>\n",
       "                        <td id=\"T_0039a01c_316f_11ea_9b4b_acde48001122row2_col103\" class=\"data row2 col103\" >233000</td>\n",
       "                        <td id=\"T_0039a01c_316f_11ea_9b4b_acde48001122row2_col104\" class=\"data row2 col104\" >232100</td>\n",
       "                        <td id=\"T_0039a01c_316f_11ea_9b4b_acde48001122row2_col105\" class=\"data row2 col105\" >231300</td>\n",
       "                        <td id=\"T_0039a01c_316f_11ea_9b4b_acde48001122row2_col106\" class=\"data row2 col106\" >230700</td>\n",
       "                        <td id=\"T_0039a01c_316f_11ea_9b4b_acde48001122row2_col107\" class=\"data row2 col107\" >230800</td>\n",
       "                        <td id=\"T_0039a01c_316f_11ea_9b4b_acde48001122row2_col108\" class=\"data row2 col108\" >231500</td>\n",
       "                        <td id=\"T_0039a01c_316f_11ea_9b4b_acde48001122row2_col109\" class=\"data row2 col109\" >232700</td>\n",
       "                        <td id=\"T_0039a01c_316f_11ea_9b4b_acde48001122row2_col110\" class=\"data row2 col110\" >234000</td>\n",
       "                        <td id=\"T_0039a01c_316f_11ea_9b4b_acde48001122row2_col111\" class=\"data row2 col111\" >235400</td>\n",
       "                        <td id=\"T_0039a01c_316f_11ea_9b4b_acde48001122row2_col112\" class=\"data row2 col112\" >237000</td>\n",
       "                        <td id=\"T_0039a01c_316f_11ea_9b4b_acde48001122row2_col113\" class=\"data row2 col113\" >238800</td>\n",
       "                        <td id=\"T_0039a01c_316f_11ea_9b4b_acde48001122row2_col114\" class=\"data row2 col114\" >240700</td>\n",
       "                        <td id=\"T_0039a01c_316f_11ea_9b4b_acde48001122row2_col115\" class=\"data row2 col115\" >241800</td>\n",
       "                        <td id=\"T_0039a01c_316f_11ea_9b4b_acde48001122row2_col116\" class=\"data row2 col116\" >241700</td>\n",
       "                        <td id=\"T_0039a01c_316f_11ea_9b4b_acde48001122row2_col117\" class=\"data row2 col117\" >240700</td>\n",
       "                        <td id=\"T_0039a01c_316f_11ea_9b4b_acde48001122row2_col118\" class=\"data row2 col118\" >239300</td>\n",
       "                        <td id=\"T_0039a01c_316f_11ea_9b4b_acde48001122row2_col119\" class=\"data row2 col119\" >238000</td>\n",
       "                        <td id=\"T_0039a01c_316f_11ea_9b4b_acde48001122row2_col120\" class=\"data row2 col120\" >236800</td>\n",
       "                        <td id=\"T_0039a01c_316f_11ea_9b4b_acde48001122row2_col121\" class=\"data row2 col121\" >235700</td>\n",
       "                        <td id=\"T_0039a01c_316f_11ea_9b4b_acde48001122row2_col122\" class=\"data row2 col122\" >234700</td>\n",
       "                        <td id=\"T_0039a01c_316f_11ea_9b4b_acde48001122row2_col123\" class=\"data row2 col123\" >233400</td>\n",
       "                        <td id=\"T_0039a01c_316f_11ea_9b4b_acde48001122row2_col124\" class=\"data row2 col124\" >231700</td>\n",
       "                        <td id=\"T_0039a01c_316f_11ea_9b4b_acde48001122row2_col125\" class=\"data row2 col125\" >230200</td>\n",
       "                        <td id=\"T_0039a01c_316f_11ea_9b4b_acde48001122row2_col126\" class=\"data row2 col126\" >229100</td>\n",
       "                        <td id=\"T_0039a01c_316f_11ea_9b4b_acde48001122row2_col127\" class=\"data row2 col127\" >228400</td>\n",
       "                        <td id=\"T_0039a01c_316f_11ea_9b4b_acde48001122row2_col128\" class=\"data row2 col128\" >228700</td>\n",
       "                        <td id=\"T_0039a01c_316f_11ea_9b4b_acde48001122row2_col129\" class=\"data row2 col129\" >229400</td>\n",
       "                        <td id=\"T_0039a01c_316f_11ea_9b4b_acde48001122row2_col130\" class=\"data row2 col130\" >230400</td>\n",
       "                        <td id=\"T_0039a01c_316f_11ea_9b4b_acde48001122row2_col131\" class=\"data row2 col131\" >231600</td>\n",
       "                        <td id=\"T_0039a01c_316f_11ea_9b4b_acde48001122row2_col132\" class=\"data row2 col132\" >233000</td>\n",
       "                        <td id=\"T_0039a01c_316f_11ea_9b4b_acde48001122row2_col133\" class=\"data row2 col133\" >234700</td>\n",
       "                        <td id=\"T_0039a01c_316f_11ea_9b4b_acde48001122row2_col134\" class=\"data row2 col134\" >237100</td>\n",
       "                        <td id=\"T_0039a01c_316f_11ea_9b4b_acde48001122row2_col135\" class=\"data row2 col135\" >240100</td>\n",
       "                        <td id=\"T_0039a01c_316f_11ea_9b4b_acde48001122row2_col136\" class=\"data row2 col136\" >243000</td>\n",
       "                        <td id=\"T_0039a01c_316f_11ea_9b4b_acde48001122row2_col137\" class=\"data row2 col137\" >244800</td>\n",
       "                        <td id=\"T_0039a01c_316f_11ea_9b4b_acde48001122row2_col138\" class=\"data row2 col138\" >245400</td>\n",
       "                        <td id=\"T_0039a01c_316f_11ea_9b4b_acde48001122row2_col139\" class=\"data row2 col139\" >245100</td>\n",
       "                        <td id=\"T_0039a01c_316f_11ea_9b4b_acde48001122row2_col140\" class=\"data row2 col140\" >244900</td>\n",
       "                        <td id=\"T_0039a01c_316f_11ea_9b4b_acde48001122row2_col141\" class=\"data row2 col141\" >245600</td>\n",
       "                        <td id=\"T_0039a01c_316f_11ea_9b4b_acde48001122row2_col142\" class=\"data row2 col142\" >246800</td>\n",
       "                        <td id=\"T_0039a01c_316f_11ea_9b4b_acde48001122row2_col143\" class=\"data row2 col143\" >248600</td>\n",
       "                        <td id=\"T_0039a01c_316f_11ea_9b4b_acde48001122row2_col144\" class=\"data row2 col144\" >250600</td>\n",
       "                        <td id=\"T_0039a01c_316f_11ea_9b4b_acde48001122row2_col145\" class=\"data row2 col145\" >252500</td>\n",
       "                        <td id=\"T_0039a01c_316f_11ea_9b4b_acde48001122row2_col146\" class=\"data row2 col146\" >254000</td>\n",
       "                        <td id=\"T_0039a01c_316f_11ea_9b4b_acde48001122row2_col147\" class=\"data row2 col147\" >254600</td>\n",
       "                        <td id=\"T_0039a01c_316f_11ea_9b4b_acde48001122row2_col148\" class=\"data row2 col148\" >254100</td>\n",
       "                        <td id=\"T_0039a01c_316f_11ea_9b4b_acde48001122row2_col149\" class=\"data row2 col149\" >252700</td>\n",
       "                        <td id=\"T_0039a01c_316f_11ea_9b4b_acde48001122row2_col150\" class=\"data row2 col150\" >251100</td>\n",
       "                        <td id=\"T_0039a01c_316f_11ea_9b4b_acde48001122row2_col151\" class=\"data row2 col151\" >249500</td>\n",
       "                        <td id=\"T_0039a01c_316f_11ea_9b4b_acde48001122row2_col152\" class=\"data row2 col152\" >248300</td>\n",
       "                        <td id=\"T_0039a01c_316f_11ea_9b4b_acde48001122row2_col153\" class=\"data row2 col153\" >247800</td>\n",
       "                        <td id=\"T_0039a01c_316f_11ea_9b4b_acde48001122row2_col154\" class=\"data row2 col154\" >247600</td>\n",
       "                        <td id=\"T_0039a01c_316f_11ea_9b4b_acde48001122row2_col155\" class=\"data row2 col155\" >247800</td>\n",
       "                        <td id=\"T_0039a01c_316f_11ea_9b4b_acde48001122row2_col156\" class=\"data row2 col156\" >247900</td>\n",
       "                        <td id=\"T_0039a01c_316f_11ea_9b4b_acde48001122row2_col157\" class=\"data row2 col157\" >247800</td>\n",
       "                        <td id=\"T_0039a01c_316f_11ea_9b4b_acde48001122row2_col158\" class=\"data row2 col158\" >247600</td>\n",
       "                        <td id=\"T_0039a01c_316f_11ea_9b4b_acde48001122row2_col159\" class=\"data row2 col159\" >247300</td>\n",
       "                        <td id=\"T_0039a01c_316f_11ea_9b4b_acde48001122row2_col160\" class=\"data row2 col160\" >246700</td>\n",
       "                        <td id=\"T_0039a01c_316f_11ea_9b4b_acde48001122row2_col161\" class=\"data row2 col161\" >246100</td>\n",
       "                        <td id=\"T_0039a01c_316f_11ea_9b4b_acde48001122row2_col162\" class=\"data row2 col162\" >245800</td>\n",
       "                        <td id=\"T_0039a01c_316f_11ea_9b4b_acde48001122row2_col163\" class=\"data row2 col163\" >245900</td>\n",
       "                        <td id=\"T_0039a01c_316f_11ea_9b4b_acde48001122row2_col164\" class=\"data row2 col164\" >246200</td>\n",
       "                        <td id=\"T_0039a01c_316f_11ea_9b4b_acde48001122row2_col165\" class=\"data row2 col165\" >246800</td>\n",
       "                        <td id=\"T_0039a01c_316f_11ea_9b4b_acde48001122row2_col166\" class=\"data row2 col166\" >247200</td>\n",
       "                        <td id=\"T_0039a01c_316f_11ea_9b4b_acde48001122row2_col167\" class=\"data row2 col167\" >247600</td>\n",
       "                        <td id=\"T_0039a01c_316f_11ea_9b4b_acde48001122row2_col168\" class=\"data row2 col168\" >247900</td>\n",
       "                        <td id=\"T_0039a01c_316f_11ea_9b4b_acde48001122row2_col169\" class=\"data row2 col169\" >248000</td>\n",
       "                        <td id=\"T_0039a01c_316f_11ea_9b4b_acde48001122row2_col170\" class=\"data row2 col170\" >248000</td>\n",
       "                        <td id=\"T_0039a01c_316f_11ea_9b4b_acde48001122row2_col171\" class=\"data row2 col171\" >249000</td>\n",
       "                        <td id=\"T_0039a01c_316f_11ea_9b4b_acde48001122row2_col172\" class=\"data row2 col172\" >249200</td>\n",
       "                        <td id=\"T_0039a01c_316f_11ea_9b4b_acde48001122row2_col173\" class=\"data row2 col173\" >247800</td>\n",
       "                        <td id=\"T_0039a01c_316f_11ea_9b4b_acde48001122row2_col174\" class=\"data row2 col174\" >248100</td>\n",
       "                        <td id=\"T_0039a01c_316f_11ea_9b4b_acde48001122row2_col175\" class=\"data row2 col175\" >250800</td>\n",
       "                        <td id=\"T_0039a01c_316f_11ea_9b4b_acde48001122row2_col176\" class=\"data row2 col176\" >251700</td>\n",
       "                        <td id=\"T_0039a01c_316f_11ea_9b4b_acde48001122row2_col177\" class=\"data row2 col177\" >251200</td>\n",
       "                        <td id=\"T_0039a01c_316f_11ea_9b4b_acde48001122row2_col178\" class=\"data row2 col178\" >251100</td>\n",
       "                        <td id=\"T_0039a01c_316f_11ea_9b4b_acde48001122row2_col179\" class=\"data row2 col179\" >250500</td>\n",
       "                        <td id=\"T_0039a01c_316f_11ea_9b4b_acde48001122row2_col180\" class=\"data row2 col180\" >250000</td>\n",
       "                        <td id=\"T_0039a01c_316f_11ea_9b4b_acde48001122row2_col181\" class=\"data row2 col181\" >249900</td>\n",
       "                        <td id=\"T_0039a01c_316f_11ea_9b4b_acde48001122row2_col182\" class=\"data row2 col182\" >249700</td>\n",
       "                        <td id=\"T_0039a01c_316f_11ea_9b4b_acde48001122row2_col183\" class=\"data row2 col183\" >247900</td>\n",
       "                        <td id=\"T_0039a01c_316f_11ea_9b4b_acde48001122row2_col184\" class=\"data row2 col184\" >247400</td>\n",
       "                        <td id=\"T_0039a01c_316f_11ea_9b4b_acde48001122row2_col185\" class=\"data row2 col185\" >248800</td>\n",
       "                        <td id=\"T_0039a01c_316f_11ea_9b4b_acde48001122row2_col186\" class=\"data row2 col186\" >249700</td>\n",
       "                        <td id=\"T_0039a01c_316f_11ea_9b4b_acde48001122row2_col187\" class=\"data row2 col187\" >249100</td>\n",
       "                        <td id=\"T_0039a01c_316f_11ea_9b4b_acde48001122row2_col188\" class=\"data row2 col188\" >249200</td>\n",
       "                        <td id=\"T_0039a01c_316f_11ea_9b4b_acde48001122row2_col189\" class=\"data row2 col189\" >249500</td>\n",
       "                        <td id=\"T_0039a01c_316f_11ea_9b4b_acde48001122row2_col190\" class=\"data row2 col190\" >249400</td>\n",
       "                        <td id=\"T_0039a01c_316f_11ea_9b4b_acde48001122row2_col191\" class=\"data row2 col191\" >249400</td>\n",
       "                        <td id=\"T_0039a01c_316f_11ea_9b4b_acde48001122row2_col192\" class=\"data row2 col192\" >248900</td>\n",
       "                        <td id=\"T_0039a01c_316f_11ea_9b4b_acde48001122row2_col193\" class=\"data row2 col193\" >248000</td>\n",
       "                        <td id=\"T_0039a01c_316f_11ea_9b4b_acde48001122row2_col194\" class=\"data row2 col194\" >247100</td>\n",
       "                        <td id=\"T_0039a01c_316f_11ea_9b4b_acde48001122row2_col195\" class=\"data row2 col195\" >246800</td>\n",
       "                        <td id=\"T_0039a01c_316f_11ea_9b4b_acde48001122row2_col196\" class=\"data row2 col196\" >248600</td>\n",
       "                        <td id=\"T_0039a01c_316f_11ea_9b4b_acde48001122row2_col197\" class=\"data row2 col197\" >251600</td>\n",
       "                        <td id=\"T_0039a01c_316f_11ea_9b4b_acde48001122row2_col198\" class=\"data row2 col198\" >252800</td>\n",
       "                        <td id=\"T_0039a01c_316f_11ea_9b4b_acde48001122row2_col199\" class=\"data row2 col199\" >252400</td>\n",
       "                        <td id=\"T_0039a01c_316f_11ea_9b4b_acde48001122row2_col200\" class=\"data row2 col200\" >252600</td>\n",
       "                        <td id=\"T_0039a01c_316f_11ea_9b4b_acde48001122row2_col201\" class=\"data row2 col201\" >252700</td>\n",
       "                        <td id=\"T_0039a01c_316f_11ea_9b4b_acde48001122row2_col202\" class=\"data row2 col202\" >252300</td>\n",
       "                        <td id=\"T_0039a01c_316f_11ea_9b4b_acde48001122row2_col203\" class=\"data row2 col203\" >252500</td>\n",
       "                        <td id=\"T_0039a01c_316f_11ea_9b4b_acde48001122row2_col204\" class=\"data row2 col204\" >253400</td>\n",
       "                        <td id=\"T_0039a01c_316f_11ea_9b4b_acde48001122row2_col205\" class=\"data row2 col205\" >254200</td>\n",
       "                        <td id=\"T_0039a01c_316f_11ea_9b4b_acde48001122row2_col206\" class=\"data row2 col206\" >255200</td>\n",
       "                        <td id=\"T_0039a01c_316f_11ea_9b4b_acde48001122row2_col207\" class=\"data row2 col207\" >256400</td>\n",
       "                        <td id=\"T_0039a01c_316f_11ea_9b4b_acde48001122row2_col208\" class=\"data row2 col208\" >256900</td>\n",
       "                        <td id=\"T_0039a01c_316f_11ea_9b4b_acde48001122row2_col209\" class=\"data row2 col209\" >256800</td>\n",
       "                        <td id=\"T_0039a01c_316f_11ea_9b4b_acde48001122row2_col210\" class=\"data row2 col210\" >256700</td>\n",
       "                        <td id=\"T_0039a01c_316f_11ea_9b4b_acde48001122row2_col211\" class=\"data row2 col211\" >257100</td>\n",
       "                        <td id=\"T_0039a01c_316f_11ea_9b4b_acde48001122row2_col212\" class=\"data row2 col212\" >258300</td>\n",
       "                        <td id=\"T_0039a01c_316f_11ea_9b4b_acde48001122row2_col213\" class=\"data row2 col213\" >260700</td>\n",
       "                        <td id=\"T_0039a01c_316f_11ea_9b4b_acde48001122row2_col214\" class=\"data row2 col214\" >263900</td>\n",
       "                        <td id=\"T_0039a01c_316f_11ea_9b4b_acde48001122row2_col215\" class=\"data row2 col215\" >267000</td>\n",
       "                        <td id=\"T_0039a01c_316f_11ea_9b4b_acde48001122row2_col216\" class=\"data row2 col216\" >269200</td>\n",
       "                        <td id=\"T_0039a01c_316f_11ea_9b4b_acde48001122row2_col217\" class=\"data row2 col217\" >271000</td>\n",
       "                        <td id=\"T_0039a01c_316f_11ea_9b4b_acde48001122row2_col218\" class=\"data row2 col218\" >273100</td>\n",
       "                        <td id=\"T_0039a01c_316f_11ea_9b4b_acde48001122row2_col219\" class=\"data row2 col219\" >275600</td>\n",
       "                        <td id=\"T_0039a01c_316f_11ea_9b4b_acde48001122row2_col220\" class=\"data row2 col220\" >277600</td>\n",
       "                        <td id=\"T_0039a01c_316f_11ea_9b4b_acde48001122row2_col221\" class=\"data row2 col221\" >279800</td>\n",
       "                        <td id=\"T_0039a01c_316f_11ea_9b4b_acde48001122row2_col222\" class=\"data row2 col222\" >282100</td>\n",
       "                        <td id=\"T_0039a01c_316f_11ea_9b4b_acde48001122row2_col223\" class=\"data row2 col223\" >284200</td>\n",
       "                        <td id=\"T_0039a01c_316f_11ea_9b4b_acde48001122row2_col224\" class=\"data row2 col224\" >286000</td>\n",
       "                        <td id=\"T_0039a01c_316f_11ea_9b4b_acde48001122row2_col225\" class=\"data row2 col225\" >288300</td>\n",
       "                        <td id=\"T_0039a01c_316f_11ea_9b4b_acde48001122row2_col226\" class=\"data row2 col226\" >290700</td>\n",
       "                        <td id=\"T_0039a01c_316f_11ea_9b4b_acde48001122row2_col227\" class=\"data row2 col227\" >293300</td>\n",
       "                        <td id=\"T_0039a01c_316f_11ea_9b4b_acde48001122row2_col228\" class=\"data row2 col228\" >295900</td>\n",
       "                        <td id=\"T_0039a01c_316f_11ea_9b4b_acde48001122row2_col229\" class=\"data row2 col229\" >298300</td>\n",
       "                        <td id=\"T_0039a01c_316f_11ea_9b4b_acde48001122row2_col230\" class=\"data row2 col230\" >300200</td>\n",
       "                        <td id=\"T_0039a01c_316f_11ea_9b4b_acde48001122row2_col231\" class=\"data row2 col231\" >301300</td>\n",
       "                        <td id=\"T_0039a01c_316f_11ea_9b4b_acde48001122row2_col232\" class=\"data row2 col232\" >301700</td>\n",
       "                        <td id=\"T_0039a01c_316f_11ea_9b4b_acde48001122row2_col233\" class=\"data row2 col233\" >302400</td>\n",
       "                        <td id=\"T_0039a01c_316f_11ea_9b4b_acde48001122row2_col234\" class=\"data row2 col234\" >303600</td>\n",
       "                        <td id=\"T_0039a01c_316f_11ea_9b4b_acde48001122row2_col235\" class=\"data row2 col235\" >306200</td>\n",
       "                        <td id=\"T_0039a01c_316f_11ea_9b4b_acde48001122row2_col236\" class=\"data row2 col236\" >309100</td>\n",
       "                        <td id=\"T_0039a01c_316f_11ea_9b4b_acde48001122row2_col237\" class=\"data row2 col237\" >311900</td>\n",
       "                        <td id=\"T_0039a01c_316f_11ea_9b4b_acde48001122row2_col238\" class=\"data row2 col238\" >314100</td>\n",
       "                        <td id=\"T_0039a01c_316f_11ea_9b4b_acde48001122row2_col239\" class=\"data row2 col239\" >316300</td>\n",
       "                        <td id=\"T_0039a01c_316f_11ea_9b4b_acde48001122row2_col240\" class=\"data row2 col240\" >319000</td>\n",
       "                        <td id=\"T_0039a01c_316f_11ea_9b4b_acde48001122row2_col241\" class=\"data row2 col241\" >322000</td>\n",
       "                        <td id=\"T_0039a01c_316f_11ea_9b4b_acde48001122row2_col242\" class=\"data row2 col242\" >324300</td>\n",
       "                        <td id=\"T_0039a01c_316f_11ea_9b4b_acde48001122row2_col243\" class=\"data row2 col243\" >326100</td>\n",
       "                        <td id=\"T_0039a01c_316f_11ea_9b4b_acde48001122row2_col244\" class=\"data row2 col244\" >327300</td>\n",
       "                        <td id=\"T_0039a01c_316f_11ea_9b4b_acde48001122row2_col245\" class=\"data row2 col245\" >327000</td>\n",
       "                        <td id=\"T_0039a01c_316f_11ea_9b4b_acde48001122row2_col246\" class=\"data row2 col246\" >327200</td>\n",
       "                        <td id=\"T_0039a01c_316f_11ea_9b4b_acde48001122row2_col247\" class=\"data row2 col247\" >328500</td>\n",
       "                        <td id=\"T_0039a01c_316f_11ea_9b4b_acde48001122row2_col248\" class=\"data row2 col248\" >329800</td>\n",
       "                        <td id=\"T_0039a01c_316f_11ea_9b4b_acde48001122row2_col249\" class=\"data row2 col249\" >330000</td>\n",
       "                        <td id=\"T_0039a01c_316f_11ea_9b4b_acde48001122row2_col250\" class=\"data row2 col250\" >329000</td>\n",
       "                        <td id=\"T_0039a01c_316f_11ea_9b4b_acde48001122row2_col251\" class=\"data row2 col251\" >327800</td>\n",
       "                        <td id=\"T_0039a01c_316f_11ea_9b4b_acde48001122row2_col252\" class=\"data row2 col252\" >326700</td>\n",
       "                        <td id=\"T_0039a01c_316f_11ea_9b4b_acde48001122row2_col253\" class=\"data row2 col253\" >325500</td>\n",
       "                        <td id=\"T_0039a01c_316f_11ea_9b4b_acde48001122row2_col254\" class=\"data row2 col254\" >324700</td>\n",
       "                        <td id=\"T_0039a01c_316f_11ea_9b4b_acde48001122row2_col255\" class=\"data row2 col255\" >324500</td>\n",
       "                        <td id=\"T_0039a01c_316f_11ea_9b4b_acde48001122row2_col256\" class=\"data row2 col256\" >323700</td>\n",
       "                        <td id=\"T_0039a01c_316f_11ea_9b4b_acde48001122row2_col257\" class=\"data row2 col257\" >322300</td>\n",
       "                        <td id=\"T_0039a01c_316f_11ea_9b4b_acde48001122row2_col258\" class=\"data row2 col258\" >320700</td>\n",
       "                        <td id=\"T_0039a01c_316f_11ea_9b4b_acde48001122row2_col259\" class=\"data row2 col259\" >320000</td>\n",
       "                        <td id=\"T_0039a01c_316f_11ea_9b4b_acde48001122row2_col260\" class=\"data row2 col260\" >320000</td>\n",
       "                        <td id=\"T_0039a01c_316f_11ea_9b4b_acde48001122row2_col261\" class=\"data row2 col261\" >320900</td>\n",
       "                        <td id=\"T_0039a01c_316f_11ea_9b4b_acde48001122row2_col262\" class=\"data row2 col262\" >321000</td>\n",
       "                        <td id=\"T_0039a01c_316f_11ea_9b4b_acde48001122row2_col263\" class=\"data row2 col263\" >320600</td>\n",
       "                        <td id=\"T_0039a01c_316f_11ea_9b4b_acde48001122row2_col264\" class=\"data row2 col264\" >320200</td>\n",
       "                        <td id=\"T_0039a01c_316f_11ea_9b4b_acde48001122row2_col265\" class=\"data row2 col265\" >320400</td>\n",
       "                        <td id=\"T_0039a01c_316f_11ea_9b4b_acde48001122row2_col266\" class=\"data row2 col266\" >320800</td>\n",
       "                        <td id=\"T_0039a01c_316f_11ea_9b4b_acde48001122row2_col267\" class=\"data row2 col267\" >321200</td>\n",
       "                        <td id=\"T_0039a01c_316f_11ea_9b4b_acde48001122row2_col268\" class=\"data row2 col268\" >321200</td>\n",
       "                        <td id=\"T_0039a01c_316f_11ea_9b4b_acde48001122row2_col269\" class=\"data row2 col269\" >323000</td>\n",
       "                        <td id=\"T_0039a01c_316f_11ea_9b4b_acde48001122row2_col270\" class=\"data row2 col270\" >326900</td>\n",
       "                        <td id=\"T_0039a01c_316f_11ea_9b4b_acde48001122row2_col271\" class=\"data row2 col271\" >329900</td>\n",
       "            </tr>\n",
       "            <tr>\n",
       "                        <th id=\"T_0039a01c_316f_11ea_9b4b_acde48001122level0_row3\" class=\"row_heading level0 row3\" >3</th>\n",
       "                        <td id=\"T_0039a01c_316f_11ea_9b4b_acde48001122row3_col0\" class=\"data row3 col0\" >84616</td>\n",
       "                        <td id=\"T_0039a01c_316f_11ea_9b4b_acde48001122row3_col1\" class=\"data row3 col1\" >60614</td>\n",
       "                        <td id=\"T_0039a01c_316f_11ea_9b4b_acde48001122row3_col2\" class=\"data row3 col2\" >Chicago</td>\n",
       "                        <td id=\"T_0039a01c_316f_11ea_9b4b_acde48001122row3_col3\" class=\"data row3 col3\" >IL</td>\n",
       "                        <td id=\"T_0039a01c_316f_11ea_9b4b_acde48001122row3_col4\" class=\"data row3 col4\" >Chicago</td>\n",
       "                        <td id=\"T_0039a01c_316f_11ea_9b4b_acde48001122row3_col5\" class=\"data row3 col5\" >Cook</td>\n",
       "                        <td id=\"T_0039a01c_316f_11ea_9b4b_acde48001122row3_col6\" class=\"data row3 col6\" >4</td>\n",
       "                        <td id=\"T_0039a01c_316f_11ea_9b4b_acde48001122row3_col7\" class=\"data row3 col7\" >498100</td>\n",
       "                        <td id=\"T_0039a01c_316f_11ea_9b4b_acde48001122row3_col8\" class=\"data row3 col8\" >500900</td>\n",
       "                        <td id=\"T_0039a01c_316f_11ea_9b4b_acde48001122row3_col9\" class=\"data row3 col9\" >503100</td>\n",
       "                        <td id=\"T_0039a01c_316f_11ea_9b4b_acde48001122row3_col10\" class=\"data row3 col10\" >504600</td>\n",
       "                        <td id=\"T_0039a01c_316f_11ea_9b4b_acde48001122row3_col11\" class=\"data row3 col11\" >505500</td>\n",
       "                        <td id=\"T_0039a01c_316f_11ea_9b4b_acde48001122row3_col12\" class=\"data row3 col12\" >505700</td>\n",
       "                        <td id=\"T_0039a01c_316f_11ea_9b4b_acde48001122row3_col13\" class=\"data row3 col13\" >505300</td>\n",
       "                        <td id=\"T_0039a01c_316f_11ea_9b4b_acde48001122row3_col14\" class=\"data row3 col14\" >504200</td>\n",
       "                        <td id=\"T_0039a01c_316f_11ea_9b4b_acde48001122row3_col15\" class=\"data row3 col15\" >503600</td>\n",
       "                        <td id=\"T_0039a01c_316f_11ea_9b4b_acde48001122row3_col16\" class=\"data row3 col16\" >503400</td>\n",
       "                        <td id=\"T_0039a01c_316f_11ea_9b4b_acde48001122row3_col17\" class=\"data row3 col17\" >502200</td>\n",
       "                        <td id=\"T_0039a01c_316f_11ea_9b4b_acde48001122row3_col18\" class=\"data row3 col18\" >500000</td>\n",
       "                        <td id=\"T_0039a01c_316f_11ea_9b4b_acde48001122row3_col19\" class=\"data row3 col19\" >497900</td>\n",
       "                        <td id=\"T_0039a01c_316f_11ea_9b4b_acde48001122row3_col20\" class=\"data row3 col20\" >496300</td>\n",
       "                        <td id=\"T_0039a01c_316f_11ea_9b4b_acde48001122row3_col21\" class=\"data row3 col21\" >495200</td>\n",
       "                        <td id=\"T_0039a01c_316f_11ea_9b4b_acde48001122row3_col22\" class=\"data row3 col22\" >494700</td>\n",
       "                        <td id=\"T_0039a01c_316f_11ea_9b4b_acde48001122row3_col23\" class=\"data row3 col23\" >494900</td>\n",
       "                        <td id=\"T_0039a01c_316f_11ea_9b4b_acde48001122row3_col24\" class=\"data row3 col24\" >496200</td>\n",
       "                        <td id=\"T_0039a01c_316f_11ea_9b4b_acde48001122row3_col25\" class=\"data row3 col25\" >498600</td>\n",
       "                        <td id=\"T_0039a01c_316f_11ea_9b4b_acde48001122row3_col26\" class=\"data row3 col26\" >502000</td>\n",
       "                        <td id=\"T_0039a01c_316f_11ea_9b4b_acde48001122row3_col27\" class=\"data row3 col27\" >507600</td>\n",
       "                        <td id=\"T_0039a01c_316f_11ea_9b4b_acde48001122row3_col28\" class=\"data row3 col28\" >514900</td>\n",
       "                        <td id=\"T_0039a01c_316f_11ea_9b4b_acde48001122row3_col29\" class=\"data row3 col29\" >522200</td>\n",
       "                        <td id=\"T_0039a01c_316f_11ea_9b4b_acde48001122row3_col30\" class=\"data row3 col30\" >529500</td>\n",
       "                        <td id=\"T_0039a01c_316f_11ea_9b4b_acde48001122row3_col31\" class=\"data row3 col31\" >537900</td>\n",
       "                        <td id=\"T_0039a01c_316f_11ea_9b4b_acde48001122row3_col32\" class=\"data row3 col32\" >546900</td>\n",
       "                        <td id=\"T_0039a01c_316f_11ea_9b4b_acde48001122row3_col33\" class=\"data row3 col33\" >556400</td>\n",
       "                        <td id=\"T_0039a01c_316f_11ea_9b4b_acde48001122row3_col34\" class=\"data row3 col34\" >566100</td>\n",
       "                        <td id=\"T_0039a01c_316f_11ea_9b4b_acde48001122row3_col35\" class=\"data row3 col35\" >575600</td>\n",
       "                        <td id=\"T_0039a01c_316f_11ea_9b4b_acde48001122row3_col36\" class=\"data row3 col36\" >584800</td>\n",
       "                        <td id=\"T_0039a01c_316f_11ea_9b4b_acde48001122row3_col37\" class=\"data row3 col37\" >593500</td>\n",
       "                        <td id=\"T_0039a01c_316f_11ea_9b4b_acde48001122row3_col38\" class=\"data row3 col38\" >601600</td>\n",
       "                        <td id=\"T_0039a01c_316f_11ea_9b4b_acde48001122row3_col39\" class=\"data row3 col39\" >610100</td>\n",
       "                        <td id=\"T_0039a01c_316f_11ea_9b4b_acde48001122row3_col40\" class=\"data row3 col40\" >618600</td>\n",
       "                        <td id=\"T_0039a01c_316f_11ea_9b4b_acde48001122row3_col41\" class=\"data row3 col41\" >625600</td>\n",
       "                        <td id=\"T_0039a01c_316f_11ea_9b4b_acde48001122row3_col42\" class=\"data row3 col42\" >631100</td>\n",
       "                        <td id=\"T_0039a01c_316f_11ea_9b4b_acde48001122row3_col43\" class=\"data row3 col43\" >636600</td>\n",
       "                        <td id=\"T_0039a01c_316f_11ea_9b4b_acde48001122row3_col44\" class=\"data row3 col44\" >642100</td>\n",
       "                        <td id=\"T_0039a01c_316f_11ea_9b4b_acde48001122row3_col45\" class=\"data row3 col45\" >647600</td>\n",
       "                        <td id=\"T_0039a01c_316f_11ea_9b4b_acde48001122row3_col46\" class=\"data row3 col46\" >653300</td>\n",
       "                        <td id=\"T_0039a01c_316f_11ea_9b4b_acde48001122row3_col47\" class=\"data row3 col47\" >659300</td>\n",
       "                        <td id=\"T_0039a01c_316f_11ea_9b4b_acde48001122row3_col48\" class=\"data row3 col48\" >665800</td>\n",
       "                        <td id=\"T_0039a01c_316f_11ea_9b4b_acde48001122row3_col49\" class=\"data row3 col49\" >672900</td>\n",
       "                        <td id=\"T_0039a01c_316f_11ea_9b4b_acde48001122row3_col50\" class=\"data row3 col50\" >680500</td>\n",
       "                        <td id=\"T_0039a01c_316f_11ea_9b4b_acde48001122row3_col51\" class=\"data row3 col51\" >689600</td>\n",
       "                        <td id=\"T_0039a01c_316f_11ea_9b4b_acde48001122row3_col52\" class=\"data row3 col52\" >699700</td>\n",
       "                        <td id=\"T_0039a01c_316f_11ea_9b4b_acde48001122row3_col53\" class=\"data row3 col53\" >709300</td>\n",
       "                        <td id=\"T_0039a01c_316f_11ea_9b4b_acde48001122row3_col54\" class=\"data row3 col54\" >718300</td>\n",
       "                        <td id=\"T_0039a01c_316f_11ea_9b4b_acde48001122row3_col55\" class=\"data row3 col55\" >727600</td>\n",
       "                        <td id=\"T_0039a01c_316f_11ea_9b4b_acde48001122row3_col56\" class=\"data row3 col56\" >737100</td>\n",
       "                        <td id=\"T_0039a01c_316f_11ea_9b4b_acde48001122row3_col57\" class=\"data row3 col57\" >746600</td>\n",
       "                        <td id=\"T_0039a01c_316f_11ea_9b4b_acde48001122row3_col58\" class=\"data row3 col58\" >756200</td>\n",
       "                        <td id=\"T_0039a01c_316f_11ea_9b4b_acde48001122row3_col59\" class=\"data row3 col59\" >765800</td>\n",
       "                        <td id=\"T_0039a01c_316f_11ea_9b4b_acde48001122row3_col60\" class=\"data row3 col60\" >775100</td>\n",
       "                        <td id=\"T_0039a01c_316f_11ea_9b4b_acde48001122row3_col61\" class=\"data row3 col61\" >784400</td>\n",
       "                        <td id=\"T_0039a01c_316f_11ea_9b4b_acde48001122row3_col62\" class=\"data row3 col62\" >793500</td>\n",
       "                        <td id=\"T_0039a01c_316f_11ea_9b4b_acde48001122row3_col63\" class=\"data row3 col63\" >803000</td>\n",
       "                        <td id=\"T_0039a01c_316f_11ea_9b4b_acde48001122row3_col64\" class=\"data row3 col64\" >812500</td>\n",
       "                        <td id=\"T_0039a01c_316f_11ea_9b4b_acde48001122row3_col65\" class=\"data row3 col65\" >821200</td>\n",
       "                        <td id=\"T_0039a01c_316f_11ea_9b4b_acde48001122row3_col66\" class=\"data row3 col66\" >829200</td>\n",
       "                        <td id=\"T_0039a01c_316f_11ea_9b4b_acde48001122row3_col67\" class=\"data row3 col67\" >837000</td>\n",
       "                        <td id=\"T_0039a01c_316f_11ea_9b4b_acde48001122row3_col68\" class=\"data row3 col68\" >844400</td>\n",
       "                        <td id=\"T_0039a01c_316f_11ea_9b4b_acde48001122row3_col69\" class=\"data row3 col69\" >851600</td>\n",
       "                        <td id=\"T_0039a01c_316f_11ea_9b4b_acde48001122row3_col70\" class=\"data row3 col70\" >858600</td>\n",
       "                        <td id=\"T_0039a01c_316f_11ea_9b4b_acde48001122row3_col71\" class=\"data row3 col71\" >865300</td>\n",
       "                        <td id=\"T_0039a01c_316f_11ea_9b4b_acde48001122row3_col72\" class=\"data row3 col72\" >871800</td>\n",
       "                        <td id=\"T_0039a01c_316f_11ea_9b4b_acde48001122row3_col73\" class=\"data row3 col73\" >878200</td>\n",
       "                        <td id=\"T_0039a01c_316f_11ea_9b4b_acde48001122row3_col74\" class=\"data row3 col74\" >884700</td>\n",
       "                        <td id=\"T_0039a01c_316f_11ea_9b4b_acde48001122row3_col75\" class=\"data row3 col75\" >891300</td>\n",
       "                        <td id=\"T_0039a01c_316f_11ea_9b4b_acde48001122row3_col76\" class=\"data row3 col76\" >898000</td>\n",
       "                        <td id=\"T_0039a01c_316f_11ea_9b4b_acde48001122row3_col77\" class=\"data row3 col77\" >904700</td>\n",
       "                        <td id=\"T_0039a01c_316f_11ea_9b4b_acde48001122row3_col78\" class=\"data row3 col78\" >911200</td>\n",
       "                        <td id=\"T_0039a01c_316f_11ea_9b4b_acde48001122row3_col79\" class=\"data row3 col79\" >917600</td>\n",
       "                        <td id=\"T_0039a01c_316f_11ea_9b4b_acde48001122row3_col80\" class=\"data row3 col80\" >923800</td>\n",
       "                        <td id=\"T_0039a01c_316f_11ea_9b4b_acde48001122row3_col81\" class=\"data row3 col81\" >929800</td>\n",
       "                        <td id=\"T_0039a01c_316f_11ea_9b4b_acde48001122row3_col82\" class=\"data row3 col82\" >935700</td>\n",
       "                        <td id=\"T_0039a01c_316f_11ea_9b4b_acde48001122row3_col83\" class=\"data row3 col83\" >941400</td>\n",
       "                        <td id=\"T_0039a01c_316f_11ea_9b4b_acde48001122row3_col84\" class=\"data row3 col84\" >947100</td>\n",
       "                        <td id=\"T_0039a01c_316f_11ea_9b4b_acde48001122row3_col85\" class=\"data row3 col85\" >952800</td>\n",
       "                        <td id=\"T_0039a01c_316f_11ea_9b4b_acde48001122row3_col86\" class=\"data row3 col86\" >958900</td>\n",
       "                        <td id=\"T_0039a01c_316f_11ea_9b4b_acde48001122row3_col87\" class=\"data row3 col87\" >965100</td>\n",
       "                        <td id=\"T_0039a01c_316f_11ea_9b4b_acde48001122row3_col88\" class=\"data row3 col88\" >971000</td>\n",
       "                        <td id=\"T_0039a01c_316f_11ea_9b4b_acde48001122row3_col89\" class=\"data row3 col89\" >976400</td>\n",
       "                        <td id=\"T_0039a01c_316f_11ea_9b4b_acde48001122row3_col90\" class=\"data row3 col90\" >981400</td>\n",
       "                        <td id=\"T_0039a01c_316f_11ea_9b4b_acde48001122row3_col91\" class=\"data row3 col91\" >985700</td>\n",
       "                        <td id=\"T_0039a01c_316f_11ea_9b4b_acde48001122row3_col92\" class=\"data row3 col92\" >989400</td>\n",
       "                        <td id=\"T_0039a01c_316f_11ea_9b4b_acde48001122row3_col93\" class=\"data row3 col93\" >992900</td>\n",
       "                        <td id=\"T_0039a01c_316f_11ea_9b4b_acde48001122row3_col94\" class=\"data row3 col94\" >996800</td>\n",
       "                        <td id=\"T_0039a01c_316f_11ea_9b4b_acde48001122row3_col95\" class=\"data row3 col95\" >1.0008e+06</td>\n",
       "                        <td id=\"T_0039a01c_316f_11ea_9b4b_acde48001122row3_col96\" class=\"data row3 col96\" >1.0046e+06</td>\n",
       "                        <td id=\"T_0039a01c_316f_11ea_9b4b_acde48001122row3_col97\" class=\"data row3 col97\" >1.008e+06</td>\n",
       "                        <td id=\"T_0039a01c_316f_11ea_9b4b_acde48001122row3_col98\" class=\"data row3 col98\" >1.0106e+06</td>\n",
       "                        <td id=\"T_0039a01c_316f_11ea_9b4b_acde48001122row3_col99\" class=\"data row3 col99\" >1.0126e+06</td>\n",
       "                        <td id=\"T_0039a01c_316f_11ea_9b4b_acde48001122row3_col100\" class=\"data row3 col100\" >1.0145e+06</td>\n",
       "                        <td id=\"T_0039a01c_316f_11ea_9b4b_acde48001122row3_col101\" class=\"data row3 col101\" >1.017e+06</td>\n",
       "                        <td id=\"T_0039a01c_316f_11ea_9b4b_acde48001122row3_col102\" class=\"data row3 col102\" >1.0205e+06</td>\n",
       "                        <td id=\"T_0039a01c_316f_11ea_9b4b_acde48001122row3_col103\" class=\"data row3 col103\" >1.0249e+06</td>\n",
       "                        <td id=\"T_0039a01c_316f_11ea_9b4b_acde48001122row3_col104\" class=\"data row3 col104\" >1.0298e+06</td>\n",
       "                        <td id=\"T_0039a01c_316f_11ea_9b4b_acde48001122row3_col105\" class=\"data row3 col105\" >1.0351e+06</td>\n",
       "                        <td id=\"T_0039a01c_316f_11ea_9b4b_acde48001122row3_col106\" class=\"data row3 col106\" >1.0405e+06</td>\n",
       "                        <td id=\"T_0039a01c_316f_11ea_9b4b_acde48001122row3_col107\" class=\"data row3 col107\" >1.046e+06</td>\n",
       "                        <td id=\"T_0039a01c_316f_11ea_9b4b_acde48001122row3_col108\" class=\"data row3 col108\" >1.0521e+06</td>\n",
       "                        <td id=\"T_0039a01c_316f_11ea_9b4b_acde48001122row3_col109\" class=\"data row3 col109\" >1.0586e+06</td>\n",
       "                        <td id=\"T_0039a01c_316f_11ea_9b4b_acde48001122row3_col110\" class=\"data row3 col110\" >1.065e+06</td>\n",
       "                        <td id=\"T_0039a01c_316f_11ea_9b4b_acde48001122row3_col111\" class=\"data row3 col111\" >1.0719e+06</td>\n",
       "                        <td id=\"T_0039a01c_316f_11ea_9b4b_acde48001122row3_col112\" class=\"data row3 col112\" >1.079e+06</td>\n",
       "                        <td id=\"T_0039a01c_316f_11ea_9b4b_acde48001122row3_col113\" class=\"data row3 col113\" >1.086e+06</td>\n",
       "                        <td id=\"T_0039a01c_316f_11ea_9b4b_acde48001122row3_col114\" class=\"data row3 col114\" >1.0931e+06</td>\n",
       "                        <td id=\"T_0039a01c_316f_11ea_9b4b_acde48001122row3_col115\" class=\"data row3 col115\" >1.1005e+06</td>\n",
       "                        <td id=\"T_0039a01c_316f_11ea_9b4b_acde48001122row3_col116\" class=\"data row3 col116\" >1.1074e+06</td>\n",
       "                        <td id=\"T_0039a01c_316f_11ea_9b4b_acde48001122row3_col117\" class=\"data row3 col117\" >1.1135e+06</td>\n",
       "                        <td id=\"T_0039a01c_316f_11ea_9b4b_acde48001122row3_col118\" class=\"data row3 col118\" >1.1188e+06</td>\n",
       "                        <td id=\"T_0039a01c_316f_11ea_9b4b_acde48001122row3_col119\" class=\"data row3 col119\" >1.1237e+06</td>\n",
       "                        <td id=\"T_0039a01c_316f_11ea_9b4b_acde48001122row3_col120\" class=\"data row3 col120\" >1.1292e+06</td>\n",
       "                        <td id=\"T_0039a01c_316f_11ea_9b4b_acde48001122row3_col121\" class=\"data row3 col121\" >1.1354e+06</td>\n",
       "                        <td id=\"T_0039a01c_316f_11ea_9b4b_acde48001122row3_col122\" class=\"data row3 col122\" >1.1419e+06</td>\n",
       "                        <td id=\"T_0039a01c_316f_11ea_9b4b_acde48001122row3_col123\" class=\"data row3 col123\" >1.148e+06</td>\n",
       "                        <td id=\"T_0039a01c_316f_11ea_9b4b_acde48001122row3_col124\" class=\"data row3 col124\" >1.1528e+06</td>\n",
       "                        <td id=\"T_0039a01c_316f_11ea_9b4b_acde48001122row3_col125\" class=\"data row3 col125\" >1.1559e+06</td>\n",
       "                        <td id=\"T_0039a01c_316f_11ea_9b4b_acde48001122row3_col126\" class=\"data row3 col126\" >1.1579e+06</td>\n",
       "                        <td id=\"T_0039a01c_316f_11ea_9b4b_acde48001122row3_col127\" class=\"data row3 col127\" >1.1595e+06</td>\n",
       "                        <td id=\"T_0039a01c_316f_11ea_9b4b_acde48001122row3_col128\" class=\"data row3 col128\" >1.161e+06</td>\n",
       "                        <td id=\"T_0039a01c_316f_11ea_9b4b_acde48001122row3_col129\" class=\"data row3 col129\" >1.1628e+06</td>\n",
       "                        <td id=\"T_0039a01c_316f_11ea_9b4b_acde48001122row3_col130\" class=\"data row3 col130\" >1.1653e+06</td>\n",
       "                        <td id=\"T_0039a01c_316f_11ea_9b4b_acde48001122row3_col131\" class=\"data row3 col131\" >1.1681e+06</td>\n",
       "                        <td id=\"T_0039a01c_316f_11ea_9b4b_acde48001122row3_col132\" class=\"data row3 col132\" >1.1713e+06</td>\n",
       "                        <td id=\"T_0039a01c_316f_11ea_9b4b_acde48001122row3_col133\" class=\"data row3 col133\" >1.1744e+06</td>\n",
       "                        <td id=\"T_0039a01c_316f_11ea_9b4b_acde48001122row3_col134\" class=\"data row3 col134\" >1.1767e+06</td>\n",
       "                        <td id=\"T_0039a01c_316f_11ea_9b4b_acde48001122row3_col135\" class=\"data row3 col135\" >1.1784e+06</td>\n",
       "                        <td id=\"T_0039a01c_316f_11ea_9b4b_acde48001122row3_col136\" class=\"data row3 col136\" >1.1799e+06</td>\n",
       "                        <td id=\"T_0039a01c_316f_11ea_9b4b_acde48001122row3_col137\" class=\"data row3 col137\" >1.1811e+06</td>\n",
       "                        <td id=\"T_0039a01c_316f_11ea_9b4b_acde48001122row3_col138\" class=\"data row3 col138\" >1.1828e+06</td>\n",
       "                        <td id=\"T_0039a01c_316f_11ea_9b4b_acde48001122row3_col139\" class=\"data row3 col139\" >1.1848e+06</td>\n",
       "                        <td id=\"T_0039a01c_316f_11ea_9b4b_acde48001122row3_col140\" class=\"data row3 col140\" >1.1853e+06</td>\n",
       "                        <td id=\"T_0039a01c_316f_11ea_9b4b_acde48001122row3_col141\" class=\"data row3 col141\" >1.1837e+06</td>\n",
       "                        <td id=\"T_0039a01c_316f_11ea_9b4b_acde48001122row3_col142\" class=\"data row3 col142\" >1.181e+06</td>\n",
       "                        <td id=\"T_0039a01c_316f_11ea_9b4b_acde48001122row3_col143\" class=\"data row3 col143\" >1.1779e+06</td>\n",
       "                        <td id=\"T_0039a01c_316f_11ea_9b4b_acde48001122row3_col144\" class=\"data row3 col144\" >1.1754e+06</td>\n",
       "                        <td id=\"T_0039a01c_316f_11ea_9b4b_acde48001122row3_col145\" class=\"data row3 col145\" >1.1738e+06</td>\n",
       "                        <td id=\"T_0039a01c_316f_11ea_9b4b_acde48001122row3_col146\" class=\"data row3 col146\" >1.1717e+06</td>\n",
       "                        <td id=\"T_0039a01c_316f_11ea_9b4b_acde48001122row3_col147\" class=\"data row3 col147\" >1.1679e+06</td>\n",
       "                        <td id=\"T_0039a01c_316f_11ea_9b4b_acde48001122row3_col148\" class=\"data row3 col148\" >1.163e+06</td>\n",
       "                        <td id=\"T_0039a01c_316f_11ea_9b4b_acde48001122row3_col149\" class=\"data row3 col149\" >1.157e+06</td>\n",
       "                        <td id=\"T_0039a01c_316f_11ea_9b4b_acde48001122row3_col150\" class=\"data row3 col150\" >1.1508e+06</td>\n",
       "                        <td id=\"T_0039a01c_316f_11ea_9b4b_acde48001122row3_col151\" class=\"data row3 col151\" >1.1441e+06</td>\n",
       "                        <td id=\"T_0039a01c_316f_11ea_9b4b_acde48001122row3_col152\" class=\"data row3 col152\" >1.1356e+06</td>\n",
       "                        <td id=\"T_0039a01c_316f_11ea_9b4b_acde48001122row3_col153\" class=\"data row3 col153\" >1.1254e+06</td>\n",
       "                        <td id=\"T_0039a01c_316f_11ea_9b4b_acde48001122row3_col154\" class=\"data row3 col154\" >1.1139e+06</td>\n",
       "                        <td id=\"T_0039a01c_316f_11ea_9b4b_acde48001122row3_col155\" class=\"data row3 col155\" >1.102e+06</td>\n",
       "                        <td id=\"T_0039a01c_316f_11ea_9b4b_acde48001122row3_col156\" class=\"data row3 col156\" >1.0919e+06</td>\n",
       "                        <td id=\"T_0039a01c_316f_11ea_9b4b_acde48001122row3_col157\" class=\"data row3 col157\" >1.0851e+06</td>\n",
       "                        <td id=\"T_0039a01c_316f_11ea_9b4b_acde48001122row3_col158\" class=\"data row3 col158\" >1.0792e+06</td>\n",
       "                        <td id=\"T_0039a01c_316f_11ea_9b4b_acde48001122row3_col159\" class=\"data row3 col159\" >1.0724e+06</td>\n",
       "                        <td id=\"T_0039a01c_316f_11ea_9b4b_acde48001122row3_col160\" class=\"data row3 col160\" >1.0654e+06</td>\n",
       "                        <td id=\"T_0039a01c_316f_11ea_9b4b_acde48001122row3_col161\" class=\"data row3 col161\" >1.0578e+06</td>\n",
       "                        <td id=\"T_0039a01c_316f_11ea_9b4b_acde48001122row3_col162\" class=\"data row3 col162\" >1.0489e+06</td>\n",
       "                        <td id=\"T_0039a01c_316f_11ea_9b4b_acde48001122row3_col163\" class=\"data row3 col163\" >1.0379e+06</td>\n",
       "                        <td id=\"T_0039a01c_316f_11ea_9b4b_acde48001122row3_col164\" class=\"data row3 col164\" >1.0243e+06</td>\n",
       "                        <td id=\"T_0039a01c_316f_11ea_9b4b_acde48001122row3_col165\" class=\"data row3 col165\" >1.0102e+06</td>\n",
       "                        <td id=\"T_0039a01c_316f_11ea_9b4b_acde48001122row3_col166\" class=\"data row3 col166\" >999000</td>\n",
       "                        <td id=\"T_0039a01c_316f_11ea_9b4b_acde48001122row3_col167\" class=\"data row3 col167\" >990900</td>\n",
       "                        <td id=\"T_0039a01c_316f_11ea_9b4b_acde48001122row3_col168\" class=\"data row3 col168\" >985400</td>\n",
       "                        <td id=\"T_0039a01c_316f_11ea_9b4b_acde48001122row3_col169\" class=\"data row3 col169\" >983200</td>\n",
       "                        <td id=\"T_0039a01c_316f_11ea_9b4b_acde48001122row3_col170\" class=\"data row3 col170\" >982400</td>\n",
       "                        <td id=\"T_0039a01c_316f_11ea_9b4b_acde48001122row3_col171\" class=\"data row3 col171\" >982400</td>\n",
       "                        <td id=\"T_0039a01c_316f_11ea_9b4b_acde48001122row3_col172\" class=\"data row3 col172\" >984100</td>\n",
       "                        <td id=\"T_0039a01c_316f_11ea_9b4b_acde48001122row3_col173\" class=\"data row3 col173\" >987100</td>\n",
       "                        <td id=\"T_0039a01c_316f_11ea_9b4b_acde48001122row3_col174\" class=\"data row3 col174\" >985000</td>\n",
       "                        <td id=\"T_0039a01c_316f_11ea_9b4b_acde48001122row3_col175\" class=\"data row3 col175\" >977400</td>\n",
       "                        <td id=\"T_0039a01c_316f_11ea_9b4b_acde48001122row3_col176\" class=\"data row3 col176\" >973300</td>\n",
       "                        <td id=\"T_0039a01c_316f_11ea_9b4b_acde48001122row3_col177\" class=\"data row3 col177\" >973700</td>\n",
       "                        <td id=\"T_0039a01c_316f_11ea_9b4b_acde48001122row3_col178\" class=\"data row3 col178\" >971700</td>\n",
       "                        <td id=\"T_0039a01c_316f_11ea_9b4b_acde48001122row3_col179\" class=\"data row3 col179\" >965300</td>\n",
       "                        <td id=\"T_0039a01c_316f_11ea_9b4b_acde48001122row3_col180\" class=\"data row3 col180\" >955400</td>\n",
       "                        <td id=\"T_0039a01c_316f_11ea_9b4b_acde48001122row3_col181\" class=\"data row3 col181\" >943600</td>\n",
       "                        <td id=\"T_0039a01c_316f_11ea_9b4b_acde48001122row3_col182\" class=\"data row3 col182\" >933700</td>\n",
       "                        <td id=\"T_0039a01c_316f_11ea_9b4b_acde48001122row3_col183\" class=\"data row3 col183\" >925200</td>\n",
       "                        <td id=\"T_0039a01c_316f_11ea_9b4b_acde48001122row3_col184\" class=\"data row3 col184\" >923000</td>\n",
       "                        <td id=\"T_0039a01c_316f_11ea_9b4b_acde48001122row3_col185\" class=\"data row3 col185\" >925000</td>\n",
       "                        <td id=\"T_0039a01c_316f_11ea_9b4b_acde48001122row3_col186\" class=\"data row3 col186\" >923300</td>\n",
       "                        <td id=\"T_0039a01c_316f_11ea_9b4b_acde48001122row3_col187\" class=\"data row3 col187\" >916600</td>\n",
       "                        <td id=\"T_0039a01c_316f_11ea_9b4b_acde48001122row3_col188\" class=\"data row3 col188\" >912400</td>\n",
       "                        <td id=\"T_0039a01c_316f_11ea_9b4b_acde48001122row3_col189\" class=\"data row3 col189\" >910400</td>\n",
       "                        <td id=\"T_0039a01c_316f_11ea_9b4b_acde48001122row3_col190\" class=\"data row3 col190\" >911900</td>\n",
       "                        <td id=\"T_0039a01c_316f_11ea_9b4b_acde48001122row3_col191\" class=\"data row3 col191\" >918300</td>\n",
       "                        <td id=\"T_0039a01c_316f_11ea_9b4b_acde48001122row3_col192\" class=\"data row3 col192\" >923500</td>\n",
       "                        <td id=\"T_0039a01c_316f_11ea_9b4b_acde48001122row3_col193\" class=\"data row3 col193\" >923600</td>\n",
       "                        <td id=\"T_0039a01c_316f_11ea_9b4b_acde48001122row3_col194\" class=\"data row3 col194\" >922900</td>\n",
       "                        <td id=\"T_0039a01c_316f_11ea_9b4b_acde48001122row3_col195\" class=\"data row3 col195\" >928300</td>\n",
       "                        <td id=\"T_0039a01c_316f_11ea_9b4b_acde48001122row3_col196\" class=\"data row3 col196\" >928900</td>\n",
       "                        <td id=\"T_0039a01c_316f_11ea_9b4b_acde48001122row3_col197\" class=\"data row3 col197\" >923900</td>\n",
       "                        <td id=\"T_0039a01c_316f_11ea_9b4b_acde48001122row3_col198\" class=\"data row3 col198\" >925300</td>\n",
       "                        <td id=\"T_0039a01c_316f_11ea_9b4b_acde48001122row3_col199\" class=\"data row3 col199\" >938100</td>\n",
       "                        <td id=\"T_0039a01c_316f_11ea_9b4b_acde48001122row3_col200\" class=\"data row3 col200\" >951900</td>\n",
       "                        <td id=\"T_0039a01c_316f_11ea_9b4b_acde48001122row3_col201\" class=\"data row3 col201\" >965400</td>\n",
       "                        <td id=\"T_0039a01c_316f_11ea_9b4b_acde48001122row3_col202\" class=\"data row3 col202\" >975900</td>\n",
       "                        <td id=\"T_0039a01c_316f_11ea_9b4b_acde48001122row3_col203\" class=\"data row3 col203\" >984500</td>\n",
       "                        <td id=\"T_0039a01c_316f_11ea_9b4b_acde48001122row3_col204\" class=\"data row3 col204\" >994100</td>\n",
       "                        <td id=\"T_0039a01c_316f_11ea_9b4b_acde48001122row3_col205\" class=\"data row3 col205\" >1.0014e+06</td>\n",
       "                        <td id=\"T_0039a01c_316f_11ea_9b4b_acde48001122row3_col206\" class=\"data row3 col206\" >1.0031e+06</td>\n",
       "                        <td id=\"T_0039a01c_316f_11ea_9b4b_acde48001122row3_col207\" class=\"data row3 col207\" >1.0027e+06</td>\n",
       "                        <td id=\"T_0039a01c_316f_11ea_9b4b_acde48001122row3_col208\" class=\"data row3 col208\" >1.0063e+06</td>\n",
       "                        <td id=\"T_0039a01c_316f_11ea_9b4b_acde48001122row3_col209\" class=\"data row3 col209\" >1.0137e+06</td>\n",
       "                        <td id=\"T_0039a01c_316f_11ea_9b4b_acde48001122row3_col210\" class=\"data row3 col210\" >1.0248e+06</td>\n",
       "                        <td id=\"T_0039a01c_316f_11ea_9b4b_acde48001122row3_col211\" class=\"data row3 col211\" >1.0383e+06</td>\n",
       "                        <td id=\"T_0039a01c_316f_11ea_9b4b_acde48001122row3_col212\" class=\"data row3 col212\" >1.0539e+06</td>\n",
       "                        <td id=\"T_0039a01c_316f_11ea_9b4b_acde48001122row3_col213\" class=\"data row3 col213\" >1.0706e+06</td>\n",
       "                        <td id=\"T_0039a01c_316f_11ea_9b4b_acde48001122row3_col214\" class=\"data row3 col214\" >1.0899e+06</td>\n",
       "                        <td id=\"T_0039a01c_316f_11ea_9b4b_acde48001122row3_col215\" class=\"data row3 col215\" >1.1081e+06</td>\n",
       "                        <td id=\"T_0039a01c_316f_11ea_9b4b_acde48001122row3_col216\" class=\"data row3 col216\" >1.1237e+06</td>\n",
       "                        <td id=\"T_0039a01c_316f_11ea_9b4b_acde48001122row3_col217\" class=\"data row3 col217\" >1.1351e+06</td>\n",
       "                        <td id=\"T_0039a01c_316f_11ea_9b4b_acde48001122row3_col218\" class=\"data row3 col218\" >1.141e+06</td>\n",
       "                        <td id=\"T_0039a01c_316f_11ea_9b4b_acde48001122row3_col219\" class=\"data row3 col219\" >1.1439e+06</td>\n",
       "                        <td id=\"T_0039a01c_316f_11ea_9b4b_acde48001122row3_col220\" class=\"data row3 col220\" >1.1458e+06</td>\n",
       "                        <td id=\"T_0039a01c_316f_11ea_9b4b_acde48001122row3_col221\" class=\"data row3 col221\" >1.1475e+06</td>\n",
       "                        <td id=\"T_0039a01c_316f_11ea_9b4b_acde48001122row3_col222\" class=\"data row3 col222\" >1.1499e+06</td>\n",
       "                        <td id=\"T_0039a01c_316f_11ea_9b4b_acde48001122row3_col223\" class=\"data row3 col223\" >1.1552e+06</td>\n",
       "                        <td id=\"T_0039a01c_316f_11ea_9b4b_acde48001122row3_col224\" class=\"data row3 col224\" >1.1601e+06</td>\n",
       "                        <td id=\"T_0039a01c_316f_11ea_9b4b_acde48001122row3_col225\" class=\"data row3 col225\" >1.1633e+06</td>\n",
       "                        <td id=\"T_0039a01c_316f_11ea_9b4b_acde48001122row3_col226\" class=\"data row3 col226\" >1167700</td>\n",
       "                        <td id=\"T_0039a01c_316f_11ea_9b4b_acde48001122row3_col227\" class=\"data row3 col227\" >1173900</td>\n",
       "                        <td id=\"T_0039a01c_316f_11ea_9b4b_acde48001122row3_col228\" class=\"data row3 col228\" >1175100</td>\n",
       "                        <td id=\"T_0039a01c_316f_11ea_9b4b_acde48001122row3_col229\" class=\"data row3 col229\" >1173500</td>\n",
       "                        <td id=\"T_0039a01c_316f_11ea_9b4b_acde48001122row3_col230\" class=\"data row3 col230\" >1175500</td>\n",
       "                        <td id=\"T_0039a01c_316f_11ea_9b4b_acde48001122row3_col231\" class=\"data row3 col231\" >1178500</td>\n",
       "                        <td id=\"T_0039a01c_316f_11ea_9b4b_acde48001122row3_col232\" class=\"data row3 col232\" >1176400</td>\n",
       "                        <td id=\"T_0039a01c_316f_11ea_9b4b_acde48001122row3_col233\" class=\"data row3 col233\" >1174600</td>\n",
       "                        <td id=\"T_0039a01c_316f_11ea_9b4b_acde48001122row3_col234\" class=\"data row3 col234\" >1178500</td>\n",
       "                        <td id=\"T_0039a01c_316f_11ea_9b4b_acde48001122row3_col235\" class=\"data row3 col235\" >1185700</td>\n",
       "                        <td id=\"T_0039a01c_316f_11ea_9b4b_acde48001122row3_col236\" class=\"data row3 col236\" >1192900</td>\n",
       "                        <td id=\"T_0039a01c_316f_11ea_9b4b_acde48001122row3_col237\" class=\"data row3 col237\" >1198800</td>\n",
       "                        <td id=\"T_0039a01c_316f_11ea_9b4b_acde48001122row3_col238\" class=\"data row3 col238\" >1200400</td>\n",
       "                        <td id=\"T_0039a01c_316f_11ea_9b4b_acde48001122row3_col239\" class=\"data row3 col239\" >1198900</td>\n",
       "                        <td id=\"T_0039a01c_316f_11ea_9b4b_acde48001122row3_col240\" class=\"data row3 col240\" >1200200</td>\n",
       "                        <td id=\"T_0039a01c_316f_11ea_9b4b_acde48001122row3_col241\" class=\"data row3 col241\" >1207400</td>\n",
       "                        <td id=\"T_0039a01c_316f_11ea_9b4b_acde48001122row3_col242\" class=\"data row3 col242\" >1218600</td>\n",
       "                        <td id=\"T_0039a01c_316f_11ea_9b4b_acde48001122row3_col243\" class=\"data row3 col243\" >1226600</td>\n",
       "                        <td id=\"T_0039a01c_316f_11ea_9b4b_acde48001122row3_col244\" class=\"data row3 col244\" >1230700</td>\n",
       "                        <td id=\"T_0039a01c_316f_11ea_9b4b_acde48001122row3_col245\" class=\"data row3 col245\" >1235400</td>\n",
       "                        <td id=\"T_0039a01c_316f_11ea_9b4b_acde48001122row3_col246\" class=\"data row3 col246\" >1241300</td>\n",
       "                        <td id=\"T_0039a01c_316f_11ea_9b4b_acde48001122row3_col247\" class=\"data row3 col247\" >1245700</td>\n",
       "                        <td id=\"T_0039a01c_316f_11ea_9b4b_acde48001122row3_col248\" class=\"data row3 col248\" >1247000</td>\n",
       "                        <td id=\"T_0039a01c_316f_11ea_9b4b_acde48001122row3_col249\" class=\"data row3 col249\" >1246700</td>\n",
       "                        <td id=\"T_0039a01c_316f_11ea_9b4b_acde48001122row3_col250\" class=\"data row3 col250\" >1245700</td>\n",
       "                        <td id=\"T_0039a01c_316f_11ea_9b4b_acde48001122row3_col251\" class=\"data row3 col251\" >1246000</td>\n",
       "                        <td id=\"T_0039a01c_316f_11ea_9b4b_acde48001122row3_col252\" class=\"data row3 col252\" >1247700</td>\n",
       "                        <td id=\"T_0039a01c_316f_11ea_9b4b_acde48001122row3_col253\" class=\"data row3 col253\" >1252900</td>\n",
       "                        <td id=\"T_0039a01c_316f_11ea_9b4b_acde48001122row3_col254\" class=\"data row3 col254\" >1260900</td>\n",
       "                        <td id=\"T_0039a01c_316f_11ea_9b4b_acde48001122row3_col255\" class=\"data row3 col255\" >1267900</td>\n",
       "                        <td id=\"T_0039a01c_316f_11ea_9b4b_acde48001122row3_col256\" class=\"data row3 col256\" >1272600</td>\n",
       "                        <td id=\"T_0039a01c_316f_11ea_9b4b_acde48001122row3_col257\" class=\"data row3 col257\" >1276600</td>\n",
       "                        <td id=\"T_0039a01c_316f_11ea_9b4b_acde48001122row3_col258\" class=\"data row3 col258\" >1280300</td>\n",
       "                        <td id=\"T_0039a01c_316f_11ea_9b4b_acde48001122row3_col259\" class=\"data row3 col259\" >1282500</td>\n",
       "                        <td id=\"T_0039a01c_316f_11ea_9b4b_acde48001122row3_col260\" class=\"data row3 col260\" >1286000</td>\n",
       "                        <td id=\"T_0039a01c_316f_11ea_9b4b_acde48001122row3_col261\" class=\"data row3 col261\" >1289000</td>\n",
       "                        <td id=\"T_0039a01c_316f_11ea_9b4b_acde48001122row3_col262\" class=\"data row3 col262\" >1289800</td>\n",
       "                        <td id=\"T_0039a01c_316f_11ea_9b4b_acde48001122row3_col263\" class=\"data row3 col263\" >1287700</td>\n",
       "                        <td id=\"T_0039a01c_316f_11ea_9b4b_acde48001122row3_col264\" class=\"data row3 col264\" >1287400</td>\n",
       "                        <td id=\"T_0039a01c_316f_11ea_9b4b_acde48001122row3_col265\" class=\"data row3 col265\" >1291500</td>\n",
       "                        <td id=\"T_0039a01c_316f_11ea_9b4b_acde48001122row3_col266\" class=\"data row3 col266\" >1296600</td>\n",
       "                        <td id=\"T_0039a01c_316f_11ea_9b4b_acde48001122row3_col267\" class=\"data row3 col267\" >1299000</td>\n",
       "                        <td id=\"T_0039a01c_316f_11ea_9b4b_acde48001122row3_col268\" class=\"data row3 col268\" >1302700</td>\n",
       "                        <td id=\"T_0039a01c_316f_11ea_9b4b_acde48001122row3_col269\" class=\"data row3 col269\" >1306400</td>\n",
       "                        <td id=\"T_0039a01c_316f_11ea_9b4b_acde48001122row3_col270\" class=\"data row3 col270\" >1308500</td>\n",
       "                        <td id=\"T_0039a01c_316f_11ea_9b4b_acde48001122row3_col271\" class=\"data row3 col271\" >1307000</td>\n",
       "            </tr>\n",
       "            <tr>\n",
       "                        <th id=\"T_0039a01c_316f_11ea_9b4b_acde48001122level0_row4\" class=\"row_heading level0 row4\" >4</th>\n",
       "                        <td id=\"T_0039a01c_316f_11ea_9b4b_acde48001122row4_col0\" class=\"data row4 col0\" >93144</td>\n",
       "                        <td id=\"T_0039a01c_316f_11ea_9b4b_acde48001122row4_col1\" class=\"data row4 col1\" >79936</td>\n",
       "                        <td id=\"T_0039a01c_316f_11ea_9b4b_acde48001122row4_col2\" class=\"data row4 col2\" >El Paso</td>\n",
       "                        <td id=\"T_0039a01c_316f_11ea_9b4b_acde48001122row4_col3\" class=\"data row4 col3\" >TX</td>\n",
       "                        <td id=\"T_0039a01c_316f_11ea_9b4b_acde48001122row4_col4\" class=\"data row4 col4\" >El Paso</td>\n",
       "                        <td id=\"T_0039a01c_316f_11ea_9b4b_acde48001122row4_col5\" class=\"data row4 col5\" >El Paso</td>\n",
       "                        <td id=\"T_0039a01c_316f_11ea_9b4b_acde48001122row4_col6\" class=\"data row4 col6\" >5</td>\n",
       "                        <td id=\"T_0039a01c_316f_11ea_9b4b_acde48001122row4_col7\" class=\"data row4 col7\" >77300</td>\n",
       "                        <td id=\"T_0039a01c_316f_11ea_9b4b_acde48001122row4_col8\" class=\"data row4 col8\" >77300</td>\n",
       "                        <td id=\"T_0039a01c_316f_11ea_9b4b_acde48001122row4_col9\" class=\"data row4 col9\" >77300</td>\n",
       "                        <td id=\"T_0039a01c_316f_11ea_9b4b_acde48001122row4_col10\" class=\"data row4 col10\" >77300</td>\n",
       "                        <td id=\"T_0039a01c_316f_11ea_9b4b_acde48001122row4_col11\" class=\"data row4 col11\" >77400</td>\n",
       "                        <td id=\"T_0039a01c_316f_11ea_9b4b_acde48001122row4_col12\" class=\"data row4 col12\" >77500</td>\n",
       "                        <td id=\"T_0039a01c_316f_11ea_9b4b_acde48001122row4_col13\" class=\"data row4 col13\" >77600</td>\n",
       "                        <td id=\"T_0039a01c_316f_11ea_9b4b_acde48001122row4_col14\" class=\"data row4 col14\" >77700</td>\n",
       "                        <td id=\"T_0039a01c_316f_11ea_9b4b_acde48001122row4_col15\" class=\"data row4 col15\" >77700</td>\n",
       "                        <td id=\"T_0039a01c_316f_11ea_9b4b_acde48001122row4_col16\" class=\"data row4 col16\" >77800</td>\n",
       "                        <td id=\"T_0039a01c_316f_11ea_9b4b_acde48001122row4_col17\" class=\"data row4 col17\" >77900</td>\n",
       "                        <td id=\"T_0039a01c_316f_11ea_9b4b_acde48001122row4_col18\" class=\"data row4 col18\" >77900</td>\n",
       "                        <td id=\"T_0039a01c_316f_11ea_9b4b_acde48001122row4_col19\" class=\"data row4 col19\" >77800</td>\n",
       "                        <td id=\"T_0039a01c_316f_11ea_9b4b_acde48001122row4_col20\" class=\"data row4 col20\" >77800</td>\n",
       "                        <td id=\"T_0039a01c_316f_11ea_9b4b_acde48001122row4_col21\" class=\"data row4 col21\" >77800</td>\n",
       "                        <td id=\"T_0039a01c_316f_11ea_9b4b_acde48001122row4_col22\" class=\"data row4 col22\" >77800</td>\n",
       "                        <td id=\"T_0039a01c_316f_11ea_9b4b_acde48001122row4_col23\" class=\"data row4 col23\" >77800</td>\n",
       "                        <td id=\"T_0039a01c_316f_11ea_9b4b_acde48001122row4_col24\" class=\"data row4 col24\" >77900</td>\n",
       "                        <td id=\"T_0039a01c_316f_11ea_9b4b_acde48001122row4_col25\" class=\"data row4 col25\" >78100</td>\n",
       "                        <td id=\"T_0039a01c_316f_11ea_9b4b_acde48001122row4_col26\" class=\"data row4 col26\" >78200</td>\n",
       "                        <td id=\"T_0039a01c_316f_11ea_9b4b_acde48001122row4_col27\" class=\"data row4 col27\" >78400</td>\n",
       "                        <td id=\"T_0039a01c_316f_11ea_9b4b_acde48001122row4_col28\" class=\"data row4 col28\" >78600</td>\n",
       "                        <td id=\"T_0039a01c_316f_11ea_9b4b_acde48001122row4_col29\" class=\"data row4 col29\" >78800</td>\n",
       "                        <td id=\"T_0039a01c_316f_11ea_9b4b_acde48001122row4_col30\" class=\"data row4 col30\" >79000</td>\n",
       "                        <td id=\"T_0039a01c_316f_11ea_9b4b_acde48001122row4_col31\" class=\"data row4 col31\" >79100</td>\n",
       "                        <td id=\"T_0039a01c_316f_11ea_9b4b_acde48001122row4_col32\" class=\"data row4 col32\" >79200</td>\n",
       "                        <td id=\"T_0039a01c_316f_11ea_9b4b_acde48001122row4_col33\" class=\"data row4 col33\" >79300</td>\n",
       "                        <td id=\"T_0039a01c_316f_11ea_9b4b_acde48001122row4_col34\" class=\"data row4 col34\" >79300</td>\n",
       "                        <td id=\"T_0039a01c_316f_11ea_9b4b_acde48001122row4_col35\" class=\"data row4 col35\" >79300</td>\n",
       "                        <td id=\"T_0039a01c_316f_11ea_9b4b_acde48001122row4_col36\" class=\"data row4 col36\" >79400</td>\n",
       "                        <td id=\"T_0039a01c_316f_11ea_9b4b_acde48001122row4_col37\" class=\"data row4 col37\" >79500</td>\n",
       "                        <td id=\"T_0039a01c_316f_11ea_9b4b_acde48001122row4_col38\" class=\"data row4 col38\" >79500</td>\n",
       "                        <td id=\"T_0039a01c_316f_11ea_9b4b_acde48001122row4_col39\" class=\"data row4 col39\" >79600</td>\n",
       "                        <td id=\"T_0039a01c_316f_11ea_9b4b_acde48001122row4_col40\" class=\"data row4 col40\" >79700</td>\n",
       "                        <td id=\"T_0039a01c_316f_11ea_9b4b_acde48001122row4_col41\" class=\"data row4 col41\" >79900</td>\n",
       "                        <td id=\"T_0039a01c_316f_11ea_9b4b_acde48001122row4_col42\" class=\"data row4 col42\" >80100</td>\n",
       "                        <td id=\"T_0039a01c_316f_11ea_9b4b_acde48001122row4_col43\" class=\"data row4 col43\" >80300</td>\n",
       "                        <td id=\"T_0039a01c_316f_11ea_9b4b_acde48001122row4_col44\" class=\"data row4 col44\" >80600</td>\n",
       "                        <td id=\"T_0039a01c_316f_11ea_9b4b_acde48001122row4_col45\" class=\"data row4 col45\" >80900</td>\n",
       "                        <td id=\"T_0039a01c_316f_11ea_9b4b_acde48001122row4_col46\" class=\"data row4 col46\" >81200</td>\n",
       "                        <td id=\"T_0039a01c_316f_11ea_9b4b_acde48001122row4_col47\" class=\"data row4 col47\" >81400</td>\n",
       "                        <td id=\"T_0039a01c_316f_11ea_9b4b_acde48001122row4_col48\" class=\"data row4 col48\" >81700</td>\n",
       "                        <td id=\"T_0039a01c_316f_11ea_9b4b_acde48001122row4_col49\" class=\"data row4 col49\" >82100</td>\n",
       "                        <td id=\"T_0039a01c_316f_11ea_9b4b_acde48001122row4_col50\" class=\"data row4 col50\" >82400</td>\n",
       "                        <td id=\"T_0039a01c_316f_11ea_9b4b_acde48001122row4_col51\" class=\"data row4 col51\" >82600</td>\n",
       "                        <td id=\"T_0039a01c_316f_11ea_9b4b_acde48001122row4_col52\" class=\"data row4 col52\" >82800</td>\n",
       "                        <td id=\"T_0039a01c_316f_11ea_9b4b_acde48001122row4_col53\" class=\"data row4 col53\" >82900</td>\n",
       "                        <td id=\"T_0039a01c_316f_11ea_9b4b_acde48001122row4_col54\" class=\"data row4 col54\" >83000</td>\n",
       "                        <td id=\"T_0039a01c_316f_11ea_9b4b_acde48001122row4_col55\" class=\"data row4 col55\" >83000</td>\n",
       "                        <td id=\"T_0039a01c_316f_11ea_9b4b_acde48001122row4_col56\" class=\"data row4 col56\" >82900</td>\n",
       "                        <td id=\"T_0039a01c_316f_11ea_9b4b_acde48001122row4_col57\" class=\"data row4 col57\" >82800</td>\n",
       "                        <td id=\"T_0039a01c_316f_11ea_9b4b_acde48001122row4_col58\" class=\"data row4 col58\" >82700</td>\n",
       "                        <td id=\"T_0039a01c_316f_11ea_9b4b_acde48001122row4_col59\" class=\"data row4 col59\" >82400</td>\n",
       "                        <td id=\"T_0039a01c_316f_11ea_9b4b_acde48001122row4_col60\" class=\"data row4 col60\" >82100</td>\n",
       "                        <td id=\"T_0039a01c_316f_11ea_9b4b_acde48001122row4_col61\" class=\"data row4 col61\" >81900</td>\n",
       "                        <td id=\"T_0039a01c_316f_11ea_9b4b_acde48001122row4_col62\" class=\"data row4 col62\" >81600</td>\n",
       "                        <td id=\"T_0039a01c_316f_11ea_9b4b_acde48001122row4_col63\" class=\"data row4 col63\" >81300</td>\n",
       "                        <td id=\"T_0039a01c_316f_11ea_9b4b_acde48001122row4_col64\" class=\"data row4 col64\" >81000</td>\n",
       "                        <td id=\"T_0039a01c_316f_11ea_9b4b_acde48001122row4_col65\" class=\"data row4 col65\" >80800</td>\n",
       "                        <td id=\"T_0039a01c_316f_11ea_9b4b_acde48001122row4_col66\" class=\"data row4 col66\" >80600</td>\n",
       "                        <td id=\"T_0039a01c_316f_11ea_9b4b_acde48001122row4_col67\" class=\"data row4 col67\" >80300</td>\n",
       "                        <td id=\"T_0039a01c_316f_11ea_9b4b_acde48001122row4_col68\" class=\"data row4 col68\" >80000</td>\n",
       "                        <td id=\"T_0039a01c_316f_11ea_9b4b_acde48001122row4_col69\" class=\"data row4 col69\" >79800</td>\n",
       "                        <td id=\"T_0039a01c_316f_11ea_9b4b_acde48001122row4_col70\" class=\"data row4 col70\" >79500</td>\n",
       "                        <td id=\"T_0039a01c_316f_11ea_9b4b_acde48001122row4_col71\" class=\"data row4 col71\" >79200</td>\n",
       "                        <td id=\"T_0039a01c_316f_11ea_9b4b_acde48001122row4_col72\" class=\"data row4 col72\" >78900</td>\n",
       "                        <td id=\"T_0039a01c_316f_11ea_9b4b_acde48001122row4_col73\" class=\"data row4 col73\" >78600</td>\n",
       "                        <td id=\"T_0039a01c_316f_11ea_9b4b_acde48001122row4_col74\" class=\"data row4 col74\" >78400</td>\n",
       "                        <td id=\"T_0039a01c_316f_11ea_9b4b_acde48001122row4_col75\" class=\"data row4 col75\" >78200</td>\n",
       "                        <td id=\"T_0039a01c_316f_11ea_9b4b_acde48001122row4_col76\" class=\"data row4 col76\" >78200</td>\n",
       "                        <td id=\"T_0039a01c_316f_11ea_9b4b_acde48001122row4_col77\" class=\"data row4 col77\" >78200</td>\n",
       "                        <td id=\"T_0039a01c_316f_11ea_9b4b_acde48001122row4_col78\" class=\"data row4 col78\" >78300</td>\n",
       "                        <td id=\"T_0039a01c_316f_11ea_9b4b_acde48001122row4_col79\" class=\"data row4 col79\" >78400</td>\n",
       "                        <td id=\"T_0039a01c_316f_11ea_9b4b_acde48001122row4_col80\" class=\"data row4 col80\" >78600</td>\n",
       "                        <td id=\"T_0039a01c_316f_11ea_9b4b_acde48001122row4_col81\" class=\"data row4 col81\" >78900</td>\n",
       "                        <td id=\"T_0039a01c_316f_11ea_9b4b_acde48001122row4_col82\" class=\"data row4 col82\" >79200</td>\n",
       "                        <td id=\"T_0039a01c_316f_11ea_9b4b_acde48001122row4_col83\" class=\"data row4 col83\" >79500</td>\n",
       "                        <td id=\"T_0039a01c_316f_11ea_9b4b_acde48001122row4_col84\" class=\"data row4 col84\" >79900</td>\n",
       "                        <td id=\"T_0039a01c_316f_11ea_9b4b_acde48001122row4_col85\" class=\"data row4 col85\" >80300</td>\n",
       "                        <td id=\"T_0039a01c_316f_11ea_9b4b_acde48001122row4_col86\" class=\"data row4 col86\" >80700</td>\n",
       "                        <td id=\"T_0039a01c_316f_11ea_9b4b_acde48001122row4_col87\" class=\"data row4 col87\" >81000</td>\n",
       "                        <td id=\"T_0039a01c_316f_11ea_9b4b_acde48001122row4_col88\" class=\"data row4 col88\" >81200</td>\n",
       "                        <td id=\"T_0039a01c_316f_11ea_9b4b_acde48001122row4_col89\" class=\"data row4 col89\" >81400</td>\n",
       "                        <td id=\"T_0039a01c_316f_11ea_9b4b_acde48001122row4_col90\" class=\"data row4 col90\" >81500</td>\n",
       "                        <td id=\"T_0039a01c_316f_11ea_9b4b_acde48001122row4_col91\" class=\"data row4 col91\" >81500</td>\n",
       "                        <td id=\"T_0039a01c_316f_11ea_9b4b_acde48001122row4_col92\" class=\"data row4 col92\" >81600</td>\n",
       "                        <td id=\"T_0039a01c_316f_11ea_9b4b_acde48001122row4_col93\" class=\"data row4 col93\" >81700</td>\n",
       "                        <td id=\"T_0039a01c_316f_11ea_9b4b_acde48001122row4_col94\" class=\"data row4 col94\" >81900</td>\n",
       "                        <td id=\"T_0039a01c_316f_11ea_9b4b_acde48001122row4_col95\" class=\"data row4 col95\" >82000</td>\n",
       "                        <td id=\"T_0039a01c_316f_11ea_9b4b_acde48001122row4_col96\" class=\"data row4 col96\" >82200</td>\n",
       "                        <td id=\"T_0039a01c_316f_11ea_9b4b_acde48001122row4_col97\" class=\"data row4 col97\" >82500</td>\n",
       "                        <td id=\"T_0039a01c_316f_11ea_9b4b_acde48001122row4_col98\" class=\"data row4 col98\" >82900</td>\n",
       "                        <td id=\"T_0039a01c_316f_11ea_9b4b_acde48001122row4_col99\" class=\"data row4 col99\" >83400</td>\n",
       "                        <td id=\"T_0039a01c_316f_11ea_9b4b_acde48001122row4_col100\" class=\"data row4 col100\" >84000</td>\n",
       "                        <td id=\"T_0039a01c_316f_11ea_9b4b_acde48001122row4_col101\" class=\"data row4 col101\" >84700</td>\n",
       "                        <td id=\"T_0039a01c_316f_11ea_9b4b_acde48001122row4_col102\" class=\"data row4 col102\" >85500</td>\n",
       "                        <td id=\"T_0039a01c_316f_11ea_9b4b_acde48001122row4_col103\" class=\"data row4 col103\" >86400</td>\n",
       "                        <td id=\"T_0039a01c_316f_11ea_9b4b_acde48001122row4_col104\" class=\"data row4 col104\" >87200</td>\n",
       "                        <td id=\"T_0039a01c_316f_11ea_9b4b_acde48001122row4_col105\" class=\"data row4 col105\" >88000</td>\n",
       "                        <td id=\"T_0039a01c_316f_11ea_9b4b_acde48001122row4_col106\" class=\"data row4 col106\" >88900</td>\n",
       "                        <td id=\"T_0039a01c_316f_11ea_9b4b_acde48001122row4_col107\" class=\"data row4 col107\" >89700</td>\n",
       "                        <td id=\"T_0039a01c_316f_11ea_9b4b_acde48001122row4_col108\" class=\"data row4 col108\" >90400</td>\n",
       "                        <td id=\"T_0039a01c_316f_11ea_9b4b_acde48001122row4_col109\" class=\"data row4 col109\" >91100</td>\n",
       "                        <td id=\"T_0039a01c_316f_11ea_9b4b_acde48001122row4_col110\" class=\"data row4 col110\" >91900</td>\n",
       "                        <td id=\"T_0039a01c_316f_11ea_9b4b_acde48001122row4_col111\" class=\"data row4 col111\" >92700</td>\n",
       "                        <td id=\"T_0039a01c_316f_11ea_9b4b_acde48001122row4_col112\" class=\"data row4 col112\" >93600</td>\n",
       "                        <td id=\"T_0039a01c_316f_11ea_9b4b_acde48001122row4_col113\" class=\"data row4 col113\" >94400</td>\n",
       "                        <td id=\"T_0039a01c_316f_11ea_9b4b_acde48001122row4_col114\" class=\"data row4 col114\" >95200</td>\n",
       "                        <td id=\"T_0039a01c_316f_11ea_9b4b_acde48001122row4_col115\" class=\"data row4 col115\" >95800</td>\n",
       "                        <td id=\"T_0039a01c_316f_11ea_9b4b_acde48001122row4_col116\" class=\"data row4 col116\" >96300</td>\n",
       "                        <td id=\"T_0039a01c_316f_11ea_9b4b_acde48001122row4_col117\" class=\"data row4 col117\" >96700</td>\n",
       "                        <td id=\"T_0039a01c_316f_11ea_9b4b_acde48001122row4_col118\" class=\"data row4 col118\" >97200</td>\n",
       "                        <td id=\"T_0039a01c_316f_11ea_9b4b_acde48001122row4_col119\" class=\"data row4 col119\" >97700</td>\n",
       "                        <td id=\"T_0039a01c_316f_11ea_9b4b_acde48001122row4_col120\" class=\"data row4 col120\" >98400</td>\n",
       "                        <td id=\"T_0039a01c_316f_11ea_9b4b_acde48001122row4_col121\" class=\"data row4 col121\" >99000</td>\n",
       "                        <td id=\"T_0039a01c_316f_11ea_9b4b_acde48001122row4_col122\" class=\"data row4 col122\" >99600</td>\n",
       "                        <td id=\"T_0039a01c_316f_11ea_9b4b_acde48001122row4_col123\" class=\"data row4 col123\" >100200</td>\n",
       "                        <td id=\"T_0039a01c_316f_11ea_9b4b_acde48001122row4_col124\" class=\"data row4 col124\" >101000</td>\n",
       "                        <td id=\"T_0039a01c_316f_11ea_9b4b_acde48001122row4_col125\" class=\"data row4 col125\" >102000</td>\n",
       "                        <td id=\"T_0039a01c_316f_11ea_9b4b_acde48001122row4_col126\" class=\"data row4 col126\" >103000</td>\n",
       "                        <td id=\"T_0039a01c_316f_11ea_9b4b_acde48001122row4_col127\" class=\"data row4 col127\" >104300</td>\n",
       "                        <td id=\"T_0039a01c_316f_11ea_9b4b_acde48001122row4_col128\" class=\"data row4 col128\" >105800</td>\n",
       "                        <td id=\"T_0039a01c_316f_11ea_9b4b_acde48001122row4_col129\" class=\"data row4 col129\" >107400</td>\n",
       "                        <td id=\"T_0039a01c_316f_11ea_9b4b_acde48001122row4_col130\" class=\"data row4 col130\" >109100</td>\n",
       "                        <td id=\"T_0039a01c_316f_11ea_9b4b_acde48001122row4_col131\" class=\"data row4 col131\" >111000</td>\n",
       "                        <td id=\"T_0039a01c_316f_11ea_9b4b_acde48001122row4_col132\" class=\"data row4 col132\" >113000</td>\n",
       "                        <td id=\"T_0039a01c_316f_11ea_9b4b_acde48001122row4_col133\" class=\"data row4 col133\" >115000</td>\n",
       "                        <td id=\"T_0039a01c_316f_11ea_9b4b_acde48001122row4_col134\" class=\"data row4 col134\" >117000</td>\n",
       "                        <td id=\"T_0039a01c_316f_11ea_9b4b_acde48001122row4_col135\" class=\"data row4 col135\" >118800</td>\n",
       "                        <td id=\"T_0039a01c_316f_11ea_9b4b_acde48001122row4_col136\" class=\"data row4 col136\" >120600</td>\n",
       "                        <td id=\"T_0039a01c_316f_11ea_9b4b_acde48001122row4_col137\" class=\"data row4 col137\" >122200</td>\n",
       "                        <td id=\"T_0039a01c_316f_11ea_9b4b_acde48001122row4_col138\" class=\"data row4 col138\" >124000</td>\n",
       "                        <td id=\"T_0039a01c_316f_11ea_9b4b_acde48001122row4_col139\" class=\"data row4 col139\" >126000</td>\n",
       "                        <td id=\"T_0039a01c_316f_11ea_9b4b_acde48001122row4_col140\" class=\"data row4 col140\" >128000</td>\n",
       "                        <td id=\"T_0039a01c_316f_11ea_9b4b_acde48001122row4_col141\" class=\"data row4 col141\" >129600</td>\n",
       "                        <td id=\"T_0039a01c_316f_11ea_9b4b_acde48001122row4_col142\" class=\"data row4 col142\" >130700</td>\n",
       "                        <td id=\"T_0039a01c_316f_11ea_9b4b_acde48001122row4_col143\" class=\"data row4 col143\" >131400</td>\n",
       "                        <td id=\"T_0039a01c_316f_11ea_9b4b_acde48001122row4_col144\" class=\"data row4 col144\" >132000</td>\n",
       "                        <td id=\"T_0039a01c_316f_11ea_9b4b_acde48001122row4_col145\" class=\"data row4 col145\" >132300</td>\n",
       "                        <td id=\"T_0039a01c_316f_11ea_9b4b_acde48001122row4_col146\" class=\"data row4 col146\" >132300</td>\n",
       "                        <td id=\"T_0039a01c_316f_11ea_9b4b_acde48001122row4_col147\" class=\"data row4 col147\" >132000</td>\n",
       "                        <td id=\"T_0039a01c_316f_11ea_9b4b_acde48001122row4_col148\" class=\"data row4 col148\" >131200</td>\n",
       "                        <td id=\"T_0039a01c_316f_11ea_9b4b_acde48001122row4_col149\" class=\"data row4 col149\" >130300</td>\n",
       "                        <td id=\"T_0039a01c_316f_11ea_9b4b_acde48001122row4_col150\" class=\"data row4 col150\" >129300</td>\n",
       "                        <td id=\"T_0039a01c_316f_11ea_9b4b_acde48001122row4_col151\" class=\"data row4 col151\" >128300</td>\n",
       "                        <td id=\"T_0039a01c_316f_11ea_9b4b_acde48001122row4_col152\" class=\"data row4 col152\" >127300</td>\n",
       "                        <td id=\"T_0039a01c_316f_11ea_9b4b_acde48001122row4_col153\" class=\"data row4 col153\" >126300</td>\n",
       "                        <td id=\"T_0039a01c_316f_11ea_9b4b_acde48001122row4_col154\" class=\"data row4 col154\" >125400</td>\n",
       "                        <td id=\"T_0039a01c_316f_11ea_9b4b_acde48001122row4_col155\" class=\"data row4 col155\" >124600</td>\n",
       "                        <td id=\"T_0039a01c_316f_11ea_9b4b_acde48001122row4_col156\" class=\"data row4 col156\" >123900</td>\n",
       "                        <td id=\"T_0039a01c_316f_11ea_9b4b_acde48001122row4_col157\" class=\"data row4 col157\" >123300</td>\n",
       "                        <td id=\"T_0039a01c_316f_11ea_9b4b_acde48001122row4_col158\" class=\"data row4 col158\" >122600</td>\n",
       "                        <td id=\"T_0039a01c_316f_11ea_9b4b_acde48001122row4_col159\" class=\"data row4 col159\" >122100</td>\n",
       "                        <td id=\"T_0039a01c_316f_11ea_9b4b_acde48001122row4_col160\" class=\"data row4 col160\" >121600</td>\n",
       "                        <td id=\"T_0039a01c_316f_11ea_9b4b_acde48001122row4_col161\" class=\"data row4 col161\" >121200</td>\n",
       "                        <td id=\"T_0039a01c_316f_11ea_9b4b_acde48001122row4_col162\" class=\"data row4 col162\" >120700</td>\n",
       "                        <td id=\"T_0039a01c_316f_11ea_9b4b_acde48001122row4_col163\" class=\"data row4 col163\" >120300</td>\n",
       "                        <td id=\"T_0039a01c_316f_11ea_9b4b_acde48001122row4_col164\" class=\"data row4 col164\" >119700</td>\n",
       "                        <td id=\"T_0039a01c_316f_11ea_9b4b_acde48001122row4_col165\" class=\"data row4 col165\" >119100</td>\n",
       "                        <td id=\"T_0039a01c_316f_11ea_9b4b_acde48001122row4_col166\" class=\"data row4 col166\" >118700</td>\n",
       "                        <td id=\"T_0039a01c_316f_11ea_9b4b_acde48001122row4_col167\" class=\"data row4 col167\" >118400</td>\n",
       "                        <td id=\"T_0039a01c_316f_11ea_9b4b_acde48001122row4_col168\" class=\"data row4 col168\" >118200</td>\n",
       "                        <td id=\"T_0039a01c_316f_11ea_9b4b_acde48001122row4_col169\" class=\"data row4 col169\" >117900</td>\n",
       "                        <td id=\"T_0039a01c_316f_11ea_9b4b_acde48001122row4_col170\" class=\"data row4 col170\" >117600</td>\n",
       "                        <td id=\"T_0039a01c_316f_11ea_9b4b_acde48001122row4_col171\" class=\"data row4 col171\" >117400</td>\n",
       "                        <td id=\"T_0039a01c_316f_11ea_9b4b_acde48001122row4_col172\" class=\"data row4 col172\" >117400</td>\n",
       "                        <td id=\"T_0039a01c_316f_11ea_9b4b_acde48001122row4_col173\" class=\"data row4 col173\" >117500</td>\n",
       "                        <td id=\"T_0039a01c_316f_11ea_9b4b_acde48001122row4_col174\" class=\"data row4 col174\" >117100</td>\n",
       "                        <td id=\"T_0039a01c_316f_11ea_9b4b_acde48001122row4_col175\" class=\"data row4 col175\" >116100</td>\n",
       "                        <td id=\"T_0039a01c_316f_11ea_9b4b_acde48001122row4_col176\" class=\"data row4 col176\" >115700</td>\n",
       "                        <td id=\"T_0039a01c_316f_11ea_9b4b_acde48001122row4_col177\" class=\"data row4 col177\" >116100</td>\n",
       "                        <td id=\"T_0039a01c_316f_11ea_9b4b_acde48001122row4_col178\" class=\"data row4 col178\" >116500</td>\n",
       "                        <td id=\"T_0039a01c_316f_11ea_9b4b_acde48001122row4_col179\" class=\"data row4 col179\" >116700</td>\n",
       "                        <td id=\"T_0039a01c_316f_11ea_9b4b_acde48001122row4_col180\" class=\"data row4 col180\" >117400</td>\n",
       "                        <td id=\"T_0039a01c_316f_11ea_9b4b_acde48001122row4_col181\" class=\"data row4 col181\" >118200</td>\n",
       "                        <td id=\"T_0039a01c_316f_11ea_9b4b_acde48001122row4_col182\" class=\"data row4 col182\" >118700</td>\n",
       "                        <td id=\"T_0039a01c_316f_11ea_9b4b_acde48001122row4_col183\" class=\"data row4 col183\" >118800</td>\n",
       "                        <td id=\"T_0039a01c_316f_11ea_9b4b_acde48001122row4_col184\" class=\"data row4 col184\" >119000</td>\n",
       "                        <td id=\"T_0039a01c_316f_11ea_9b4b_acde48001122row4_col185\" class=\"data row4 col185\" >118800</td>\n",
       "                        <td id=\"T_0039a01c_316f_11ea_9b4b_acde48001122row4_col186\" class=\"data row4 col186\" >118300</td>\n",
       "                        <td id=\"T_0039a01c_316f_11ea_9b4b_acde48001122row4_col187\" class=\"data row4 col187\" >118100</td>\n",
       "                        <td id=\"T_0039a01c_316f_11ea_9b4b_acde48001122row4_col188\" class=\"data row4 col188\" >117600</td>\n",
       "                        <td id=\"T_0039a01c_316f_11ea_9b4b_acde48001122row4_col189\" class=\"data row4 col189\" >116800</td>\n",
       "                        <td id=\"T_0039a01c_316f_11ea_9b4b_acde48001122row4_col190\" class=\"data row4 col190\" >116500</td>\n",
       "                        <td id=\"T_0039a01c_316f_11ea_9b4b_acde48001122row4_col191\" class=\"data row4 col191\" >116100</td>\n",
       "                        <td id=\"T_0039a01c_316f_11ea_9b4b_acde48001122row4_col192\" class=\"data row4 col192\" >114800</td>\n",
       "                        <td id=\"T_0039a01c_316f_11ea_9b4b_acde48001122row4_col193\" class=\"data row4 col193\" >113500</td>\n",
       "                        <td id=\"T_0039a01c_316f_11ea_9b4b_acde48001122row4_col194\" class=\"data row4 col194\" >112800</td>\n",
       "                        <td id=\"T_0039a01c_316f_11ea_9b4b_acde48001122row4_col195\" class=\"data row4 col195\" >112700</td>\n",
       "                        <td id=\"T_0039a01c_316f_11ea_9b4b_acde48001122row4_col196\" class=\"data row4 col196\" >112400</td>\n",
       "                        <td id=\"T_0039a01c_316f_11ea_9b4b_acde48001122row4_col197\" class=\"data row4 col197\" >112200</td>\n",
       "                        <td id=\"T_0039a01c_316f_11ea_9b4b_acde48001122row4_col198\" class=\"data row4 col198\" >112400</td>\n",
       "                        <td id=\"T_0039a01c_316f_11ea_9b4b_acde48001122row4_col199\" class=\"data row4 col199\" >112800</td>\n",
       "                        <td id=\"T_0039a01c_316f_11ea_9b4b_acde48001122row4_col200\" class=\"data row4 col200\" >113200</td>\n",
       "                        <td id=\"T_0039a01c_316f_11ea_9b4b_acde48001122row4_col201\" class=\"data row4 col201\" >113400</td>\n",
       "                        <td id=\"T_0039a01c_316f_11ea_9b4b_acde48001122row4_col202\" class=\"data row4 col202\" >113100</td>\n",
       "                        <td id=\"T_0039a01c_316f_11ea_9b4b_acde48001122row4_col203\" class=\"data row4 col203\" >112800</td>\n",
       "                        <td id=\"T_0039a01c_316f_11ea_9b4b_acde48001122row4_col204\" class=\"data row4 col204\" >112900</td>\n",
       "                        <td id=\"T_0039a01c_316f_11ea_9b4b_acde48001122row4_col205\" class=\"data row4 col205\" >112900</td>\n",
       "                        <td id=\"T_0039a01c_316f_11ea_9b4b_acde48001122row4_col206\" class=\"data row4 col206\" >112800</td>\n",
       "                        <td id=\"T_0039a01c_316f_11ea_9b4b_acde48001122row4_col207\" class=\"data row4 col207\" >112700</td>\n",
       "                        <td id=\"T_0039a01c_316f_11ea_9b4b_acde48001122row4_col208\" class=\"data row4 col208\" >113000</td>\n",
       "                        <td id=\"T_0039a01c_316f_11ea_9b4b_acde48001122row4_col209\" class=\"data row4 col209\" >113300</td>\n",
       "                        <td id=\"T_0039a01c_316f_11ea_9b4b_acde48001122row4_col210\" class=\"data row4 col210\" >113600</td>\n",
       "                        <td id=\"T_0039a01c_316f_11ea_9b4b_acde48001122row4_col211\" class=\"data row4 col211\" >113500</td>\n",
       "                        <td id=\"T_0039a01c_316f_11ea_9b4b_acde48001122row4_col212\" class=\"data row4 col212\" >113300</td>\n",
       "                        <td id=\"T_0039a01c_316f_11ea_9b4b_acde48001122row4_col213\" class=\"data row4 col213\" >113000</td>\n",
       "                        <td id=\"T_0039a01c_316f_11ea_9b4b_acde48001122row4_col214\" class=\"data row4 col214\" >113000</td>\n",
       "                        <td id=\"T_0039a01c_316f_11ea_9b4b_acde48001122row4_col215\" class=\"data row4 col215\" >112900</td>\n",
       "                        <td id=\"T_0039a01c_316f_11ea_9b4b_acde48001122row4_col216\" class=\"data row4 col216\" >112800</td>\n",
       "                        <td id=\"T_0039a01c_316f_11ea_9b4b_acde48001122row4_col217\" class=\"data row4 col217\" >112500</td>\n",
       "                        <td id=\"T_0039a01c_316f_11ea_9b4b_acde48001122row4_col218\" class=\"data row4 col218\" >112400</td>\n",
       "                        <td id=\"T_0039a01c_316f_11ea_9b4b_acde48001122row4_col219\" class=\"data row4 col219\" >112000</td>\n",
       "                        <td id=\"T_0039a01c_316f_11ea_9b4b_acde48001122row4_col220\" class=\"data row4 col220\" >111500</td>\n",
       "                        <td id=\"T_0039a01c_316f_11ea_9b4b_acde48001122row4_col221\" class=\"data row4 col221\" >111400</td>\n",
       "                        <td id=\"T_0039a01c_316f_11ea_9b4b_acde48001122row4_col222\" class=\"data row4 col222\" >112000</td>\n",
       "                        <td id=\"T_0039a01c_316f_11ea_9b4b_acde48001122row4_col223\" class=\"data row4 col223\" >112500</td>\n",
       "                        <td id=\"T_0039a01c_316f_11ea_9b4b_acde48001122row4_col224\" class=\"data row4 col224\" >112700</td>\n",
       "                        <td id=\"T_0039a01c_316f_11ea_9b4b_acde48001122row4_col225\" class=\"data row4 col225\" >113100</td>\n",
       "                        <td id=\"T_0039a01c_316f_11ea_9b4b_acde48001122row4_col226\" class=\"data row4 col226\" >113900</td>\n",
       "                        <td id=\"T_0039a01c_316f_11ea_9b4b_acde48001122row4_col227\" class=\"data row4 col227\" >114400</td>\n",
       "                        <td id=\"T_0039a01c_316f_11ea_9b4b_acde48001122row4_col228\" class=\"data row4 col228\" >114500</td>\n",
       "                        <td id=\"T_0039a01c_316f_11ea_9b4b_acde48001122row4_col229\" class=\"data row4 col229\" >114400</td>\n",
       "                        <td id=\"T_0039a01c_316f_11ea_9b4b_acde48001122row4_col230\" class=\"data row4 col230\" >114300</td>\n",
       "                        <td id=\"T_0039a01c_316f_11ea_9b4b_acde48001122row4_col231\" class=\"data row4 col231\" >114400</td>\n",
       "                        <td id=\"T_0039a01c_316f_11ea_9b4b_acde48001122row4_col232\" class=\"data row4 col232\" >114700</td>\n",
       "                        <td id=\"T_0039a01c_316f_11ea_9b4b_acde48001122row4_col233\" class=\"data row4 col233\" >115000</td>\n",
       "                        <td id=\"T_0039a01c_316f_11ea_9b4b_acde48001122row4_col234\" class=\"data row4 col234\" >115000</td>\n",
       "                        <td id=\"T_0039a01c_316f_11ea_9b4b_acde48001122row4_col235\" class=\"data row4 col235\" >115200</td>\n",
       "                        <td id=\"T_0039a01c_316f_11ea_9b4b_acde48001122row4_col236\" class=\"data row4 col236\" >115600</td>\n",
       "                        <td id=\"T_0039a01c_316f_11ea_9b4b_acde48001122row4_col237\" class=\"data row4 col237\" >115900</td>\n",
       "                        <td id=\"T_0039a01c_316f_11ea_9b4b_acde48001122row4_col238\" class=\"data row4 col238\" >115600</td>\n",
       "                        <td id=\"T_0039a01c_316f_11ea_9b4b_acde48001122row4_col239\" class=\"data row4 col239\" >115400</td>\n",
       "                        <td id=\"T_0039a01c_316f_11ea_9b4b_acde48001122row4_col240\" class=\"data row4 col240\" >115400</td>\n",
       "                        <td id=\"T_0039a01c_316f_11ea_9b4b_acde48001122row4_col241\" class=\"data row4 col241\" >115500</td>\n",
       "                        <td id=\"T_0039a01c_316f_11ea_9b4b_acde48001122row4_col242\" class=\"data row4 col242\" >115800</td>\n",
       "                        <td id=\"T_0039a01c_316f_11ea_9b4b_acde48001122row4_col243\" class=\"data row4 col243\" >116300</td>\n",
       "                        <td id=\"T_0039a01c_316f_11ea_9b4b_acde48001122row4_col244\" class=\"data row4 col244\" >116200</td>\n",
       "                        <td id=\"T_0039a01c_316f_11ea_9b4b_acde48001122row4_col245\" class=\"data row4 col245\" >115600</td>\n",
       "                        <td id=\"T_0039a01c_316f_11ea_9b4b_acde48001122row4_col246\" class=\"data row4 col246\" >115000</td>\n",
       "                        <td id=\"T_0039a01c_316f_11ea_9b4b_acde48001122row4_col247\" class=\"data row4 col247\" >114500</td>\n",
       "                        <td id=\"T_0039a01c_316f_11ea_9b4b_acde48001122row4_col248\" class=\"data row4 col248\" >114200</td>\n",
       "                        <td id=\"T_0039a01c_316f_11ea_9b4b_acde48001122row4_col249\" class=\"data row4 col249\" >114000</td>\n",
       "                        <td id=\"T_0039a01c_316f_11ea_9b4b_acde48001122row4_col250\" class=\"data row4 col250\" >114000</td>\n",
       "                        <td id=\"T_0039a01c_316f_11ea_9b4b_acde48001122row4_col251\" class=\"data row4 col251\" >113900</td>\n",
       "                        <td id=\"T_0039a01c_316f_11ea_9b4b_acde48001122row4_col252\" class=\"data row4 col252\" >114100</td>\n",
       "                        <td id=\"T_0039a01c_316f_11ea_9b4b_acde48001122row4_col253\" class=\"data row4 col253\" >114900</td>\n",
       "                        <td id=\"T_0039a01c_316f_11ea_9b4b_acde48001122row4_col254\" class=\"data row4 col254\" >115700</td>\n",
       "                        <td id=\"T_0039a01c_316f_11ea_9b4b_acde48001122row4_col255\" class=\"data row4 col255\" >116300</td>\n",
       "                        <td id=\"T_0039a01c_316f_11ea_9b4b_acde48001122row4_col256\" class=\"data row4 col256\" >116900</td>\n",
       "                        <td id=\"T_0039a01c_316f_11ea_9b4b_acde48001122row4_col257\" class=\"data row4 col257\" >117300</td>\n",
       "                        <td id=\"T_0039a01c_316f_11ea_9b4b_acde48001122row4_col258\" class=\"data row4 col258\" >117600</td>\n",
       "                        <td id=\"T_0039a01c_316f_11ea_9b4b_acde48001122row4_col259\" class=\"data row4 col259\" >118000</td>\n",
       "                        <td id=\"T_0039a01c_316f_11ea_9b4b_acde48001122row4_col260\" class=\"data row4 col260\" >118600</td>\n",
       "                        <td id=\"T_0039a01c_316f_11ea_9b4b_acde48001122row4_col261\" class=\"data row4 col261\" >118900</td>\n",
       "                        <td id=\"T_0039a01c_316f_11ea_9b4b_acde48001122row4_col262\" class=\"data row4 col262\" >119100</td>\n",
       "                        <td id=\"T_0039a01c_316f_11ea_9b4b_acde48001122row4_col263\" class=\"data row4 col263\" >119400</td>\n",
       "                        <td id=\"T_0039a01c_316f_11ea_9b4b_acde48001122row4_col264\" class=\"data row4 col264\" >120000</td>\n",
       "                        <td id=\"T_0039a01c_316f_11ea_9b4b_acde48001122row4_col265\" class=\"data row4 col265\" >120300</td>\n",
       "                        <td id=\"T_0039a01c_316f_11ea_9b4b_acde48001122row4_col266\" class=\"data row4 col266\" >120300</td>\n",
       "                        <td id=\"T_0039a01c_316f_11ea_9b4b_acde48001122row4_col267\" class=\"data row4 col267\" >120300</td>\n",
       "                        <td id=\"T_0039a01c_316f_11ea_9b4b_acde48001122row4_col268\" class=\"data row4 col268\" >120300</td>\n",
       "                        <td id=\"T_0039a01c_316f_11ea_9b4b_acde48001122row4_col269\" class=\"data row4 col269\" >120500</td>\n",
       "                        <td id=\"T_0039a01c_316f_11ea_9b4b_acde48001122row4_col270\" class=\"data row4 col270\" >121000</td>\n",
       "                        <td id=\"T_0039a01c_316f_11ea_9b4b_acde48001122row4_col271\" class=\"data row4 col271\" >121500</td>\n",
       "            </tr>\n",
       "    </tbody></table>"
      ],
      "text/plain": [
       "<pandas.io.formats.style.Styler at 0x103bf5f28>"
      ]
     },
     "execution_count": 3,
     "metadata": {},
     "output_type": "execute_result"
    }
   ],
   "source": [
    "df=pd.read_csv('https://raw.githubusercontent.com/learn-co-students/dsc-mod-4-project-online-ds-ft-100719/master/zillow_data.csv')#'zillow_data.csv')\n",
    "df.head().style.set_caption(\"ORIGINAL WIDE FORMAT\")"
   ]
  },
  {
   "cell_type": "code",
   "execution_count": 4,
   "metadata": {
    "ExecuteTime": {
     "end_time": "2020-01-07T16:59:00.381363Z",
     "start_time": "2020-01-07T16:59:00.377526Z"
    }
   },
   "outputs": [
    {
     "name": "stdout",
     "output_type": "stream",
     "text": [
      "PANDAS TIME FREQUENCY ALIASES\n",
      "[i] Documentation: https://pandas.pydata.org/pandas-docs/stable/user_guide/timeseries.html#timeseries-offset-aliases\n"
     ]
    },
    {
     "data": {
      "text/markdown": [
       "| Alias | Description |\n",
       "    |----|-----|\n",
       "    |B|business day frequency|\n",
       "    |C|custom business day frequency|\n",
       "    |D|calendar day frequency|\n",
       "    |W|weekly frequency|\n",
       "    |M|month end frequency|\n",
       "    |SM|semi-month end frequency (15th and end of month)|\n",
       "    |BM|business month end frequency|\n",
       "    |CBM|custom business month end frequency|\n",
       "    |MS|month start frequency|\n",
       "    |SMS|semi-month start frequency (1st and 15th)|\n",
       "    |BMS|business month start frequency|\n",
       "    |CBMS|custom business month start frequency|\n",
       "    |Q|quarter end frequency|\n",
       "    |BQ|business quarter end frequency|\n",
       "    |QS|quarter start frequency|\n",
       "    |BQS|business quarter start frequency|\n",
       "    |A, Y| year end frequency|\n",
       "    |BA, BY |business year end frequency|\n",
       "    |AS, YS |year start frequency|\n",
       "    |BAS, BYS |business year start frequency|\n",
       "    |BH|business hour frequency|\n",
       "    |H|hourly frequency|\n",
       "    |T, min |minutely frequency|\n",
       "    |S|secondly frequency|\n",
       "    |L, ms|milliseconds|\n",
       "    |U, us |microseconds|\n",
       "    |N|nanoseconds|\n",
       "    "
      ],
      "text/plain": [
       "<IPython.core.display.Markdown object>"
      ]
     },
     "metadata": {},
     "output_type": "display_data"
    }
   ],
   "source": [
    "fs.quick_refs.ts_pandas_freq_aliases()"
   ]
  },
  {
   "cell_type": "code",
   "execution_count": 5,
   "metadata": {
    "ExecuteTime": {
     "end_time": "2020-01-07T16:59:00.387062Z",
     "start_time": "2020-01-07T16:59:00.383291Z"
    }
   },
   "outputs": [],
   "source": [
    "def melt_data(df):\n",
    "    \n",
    "    melted = pd.melt(df, id_vars=['RegionID','RegionName', 'City', 'State', 'Metro', 'CountyName', \n",
    "                                  'SizeRank'], var_name='Month', value_name='MeanValue')\n",
    "    melted['Month'] = pd.to_datetime(melted['Month'], format='%Y-%m')\n",
    "    melted = melted.dropna(subset=['MeanValue'])\n",
    "    return melted"
   ]
  },
  {
   "cell_type": "code",
   "execution_count": 6,
   "metadata": {
    "ExecuteTime": {
     "end_time": "2020-01-07T16:59:02.315675Z",
     "start_time": "2020-01-07T16:59:00.388732Z"
    }
   },
   "outputs": [
    {
     "data": {
      "text/html": [
       "<div>\n",
       "<style scoped>\n",
       "    .dataframe tbody tr th:only-of-type {\n",
       "        vertical-align: middle;\n",
       "    }\n",
       "\n",
       "    .dataframe tbody tr th {\n",
       "        vertical-align: top;\n",
       "    }\n",
       "\n",
       "    .dataframe thead th {\n",
       "        text-align: right;\n",
       "    }\n",
       "</style>\n",
       "<table border=\"1\" class=\"dataframe\">\n",
       "  <thead>\n",
       "    <tr style=\"text-align: right;\">\n",
       "      <th></th>\n",
       "      <th>RegionID</th>\n",
       "      <th>RegionName</th>\n",
       "      <th>City</th>\n",
       "      <th>State</th>\n",
       "      <th>Metro</th>\n",
       "      <th>CountyName</th>\n",
       "      <th>SizeRank</th>\n",
       "      <th>Month</th>\n",
       "      <th>MeanValue</th>\n",
       "    </tr>\n",
       "  </thead>\n",
       "  <tbody>\n",
       "    <tr>\n",
       "      <td>0</td>\n",
       "      <td>84654</td>\n",
       "      <td>60657</td>\n",
       "      <td>Chicago</td>\n",
       "      <td>IL</td>\n",
       "      <td>Chicago</td>\n",
       "      <td>Cook</td>\n",
       "      <td>1</td>\n",
       "      <td>1996-04-01</td>\n",
       "      <td>334200.0</td>\n",
       "    </tr>\n",
       "    <tr>\n",
       "      <td>1</td>\n",
       "      <td>90668</td>\n",
       "      <td>75070</td>\n",
       "      <td>McKinney</td>\n",
       "      <td>TX</td>\n",
       "      <td>Dallas-Fort Worth</td>\n",
       "      <td>Collin</td>\n",
       "      <td>2</td>\n",
       "      <td>1996-04-01</td>\n",
       "      <td>235700.0</td>\n",
       "    </tr>\n",
       "    <tr>\n",
       "      <td>2</td>\n",
       "      <td>91982</td>\n",
       "      <td>77494</td>\n",
       "      <td>Katy</td>\n",
       "      <td>TX</td>\n",
       "      <td>Houston</td>\n",
       "      <td>Harris</td>\n",
       "      <td>3</td>\n",
       "      <td>1996-04-01</td>\n",
       "      <td>210400.0</td>\n",
       "    </tr>\n",
       "    <tr>\n",
       "      <td>3</td>\n",
       "      <td>84616</td>\n",
       "      <td>60614</td>\n",
       "      <td>Chicago</td>\n",
       "      <td>IL</td>\n",
       "      <td>Chicago</td>\n",
       "      <td>Cook</td>\n",
       "      <td>4</td>\n",
       "      <td>1996-04-01</td>\n",
       "      <td>498100.0</td>\n",
       "    </tr>\n",
       "    <tr>\n",
       "      <td>4</td>\n",
       "      <td>93144</td>\n",
       "      <td>79936</td>\n",
       "      <td>El Paso</td>\n",
       "      <td>TX</td>\n",
       "      <td>El Paso</td>\n",
       "      <td>El Paso</td>\n",
       "      <td>5</td>\n",
       "      <td>1996-04-01</td>\n",
       "      <td>77300.0</td>\n",
       "    </tr>\n",
       "  </tbody>\n",
       "</table>\n",
       "</div>"
      ],
      "text/plain": [
       "   RegionID  RegionName      City State              Metro CountyName  SizeRank      Month  MeanValue\n",
       "0     84654       60657   Chicago    IL            Chicago       Cook         1 1996-04-01   334200.0\n",
       "1     90668       75070  McKinney    TX  Dallas-Fort Worth     Collin         2 1996-04-01   235700.0\n",
       "2     91982       77494      Katy    TX            Houston     Harris         3 1996-04-01   210400.0\n",
       "3     84616       60614   Chicago    IL            Chicago       Cook         4 1996-04-01   498100.0\n",
       "4     93144       79936   El Paso    TX            El Paso    El Paso         5 1996-04-01    77300.0"
      ]
     },
     "execution_count": 6,
     "metadata": {},
     "output_type": "execute_result"
    }
   ],
   "source": [
    "df = melt_data(df)\n",
    "df.head()"
   ]
  },
  {
   "cell_type": "code",
   "execution_count": 7,
   "metadata": {
    "ExecuteTime": {
     "end_time": "2020-01-07T16:59:02.323399Z",
     "start_time": "2020-01-07T16:59:02.317234Z"
    }
   },
   "outputs": [],
   "source": [
    "def make_datetimeindex(df,col_to_make_index = 'Month',drop=False,verbose=True):\n",
    "\n",
    "    df[col_to_make_index] = pd.to_datetime(df[col_to_make_index],errors='coerce')\n",
    "    df = df.set_index('Month',drop=drop)\n",
    "    if verbose:\n",
    "        display(df.index)\n",
    "    return df"
   ]
  },
  {
   "cell_type": "code",
   "execution_count": 8,
   "metadata": {
    "ExecuteTime": {
     "end_time": "2020-01-07T16:59:02.696106Z",
     "start_time": "2020-01-07T16:59:02.325710Z"
    }
   },
   "outputs": [
    {
     "data": {
      "text/plain": [
       "DatetimeIndex(['1996-04-01', '1996-04-01', '1996-04-01', '1996-04-01',\n",
       "               '1996-04-01', '1996-04-01', '1996-04-01', '1996-04-01',\n",
       "               '1996-04-01', '1996-04-01',\n",
       "               ...\n",
       "               '2018-04-01', '2018-04-01', '2018-04-01', '2018-04-01',\n",
       "               '2018-04-01', '2018-04-01', '2018-04-01', '2018-04-01',\n",
       "               '2018-04-01', '2018-04-01'],\n",
       "              dtype='datetime64[ns]', name='Month', length=3744704, freq=None)"
      ]
     },
     "metadata": {},
     "output_type": "display_data"
    }
   ],
   "source": [
    "df = make_datetimeindex(df)"
   ]
  },
  {
   "cell_type": "code",
   "execution_count": 9,
   "metadata": {
    "ExecuteTime": {
     "end_time": "2020-01-07T16:59:02.717676Z",
     "start_time": "2020-01-07T16:59:02.698233Z"
    }
   },
   "outputs": [
    {
     "data": {
      "text/html": [
       "<div>\n",
       "<style scoped>\n",
       "    .dataframe tbody tr th:only-of-type {\n",
       "        vertical-align: middle;\n",
       "    }\n",
       "\n",
       "    .dataframe tbody tr th {\n",
       "        vertical-align: top;\n",
       "    }\n",
       "\n",
       "    .dataframe thead th {\n",
       "        text-align: right;\n",
       "    }\n",
       "</style>\n",
       "<table border=\"1\" class=\"dataframe\">\n",
       "  <thead>\n",
       "    <tr style=\"text-align: right;\">\n",
       "      <th></th>\n",
       "      <th>RegionID</th>\n",
       "      <th>RegionName</th>\n",
       "      <th>City</th>\n",
       "      <th>State</th>\n",
       "      <th>Metro</th>\n",
       "      <th>CountyName</th>\n",
       "      <th>SizeRank</th>\n",
       "      <th>Month</th>\n",
       "      <th>MeanValue</th>\n",
       "    </tr>\n",
       "    <tr>\n",
       "      <th>Month</th>\n",
       "      <th></th>\n",
       "      <th></th>\n",
       "      <th></th>\n",
       "      <th></th>\n",
       "      <th></th>\n",
       "      <th></th>\n",
       "      <th></th>\n",
       "      <th></th>\n",
       "      <th></th>\n",
       "    </tr>\n",
       "  </thead>\n",
       "  <tbody>\n",
       "    <tr>\n",
       "      <td>1996-04-01</td>\n",
       "      <td>84654</td>\n",
       "      <td>60657</td>\n",
       "      <td>Chicago</td>\n",
       "      <td>IL</td>\n",
       "      <td>Chicago</td>\n",
       "      <td>Cook</td>\n",
       "      <td>1</td>\n",
       "      <td>1996-04-01</td>\n",
       "      <td>334200.0</td>\n",
       "    </tr>\n",
       "    <tr>\n",
       "      <td>1996-04-01</td>\n",
       "      <td>90668</td>\n",
       "      <td>75070</td>\n",
       "      <td>McKinney</td>\n",
       "      <td>TX</td>\n",
       "      <td>Dallas-Fort Worth</td>\n",
       "      <td>Collin</td>\n",
       "      <td>2</td>\n",
       "      <td>1996-04-01</td>\n",
       "      <td>235700.0</td>\n",
       "    </tr>\n",
       "    <tr>\n",
       "      <td>1996-04-01</td>\n",
       "      <td>91982</td>\n",
       "      <td>77494</td>\n",
       "      <td>Katy</td>\n",
       "      <td>TX</td>\n",
       "      <td>Houston</td>\n",
       "      <td>Harris</td>\n",
       "      <td>3</td>\n",
       "      <td>1996-04-01</td>\n",
       "      <td>210400.0</td>\n",
       "    </tr>\n",
       "    <tr>\n",
       "      <td>1996-04-01</td>\n",
       "      <td>84616</td>\n",
       "      <td>60614</td>\n",
       "      <td>Chicago</td>\n",
       "      <td>IL</td>\n",
       "      <td>Chicago</td>\n",
       "      <td>Cook</td>\n",
       "      <td>4</td>\n",
       "      <td>1996-04-01</td>\n",
       "      <td>498100.0</td>\n",
       "    </tr>\n",
       "    <tr>\n",
       "      <td>1996-04-01</td>\n",
       "      <td>93144</td>\n",
       "      <td>79936</td>\n",
       "      <td>El Paso</td>\n",
       "      <td>TX</td>\n",
       "      <td>El Paso</td>\n",
       "      <td>El Paso</td>\n",
       "      <td>5</td>\n",
       "      <td>1996-04-01</td>\n",
       "      <td>77300.0</td>\n",
       "    </tr>\n",
       "  </tbody>\n",
       "</table>\n",
       "</div>"
      ],
      "text/plain": [
       "            RegionID  RegionName      City State              Metro CountyName  SizeRank      Month  MeanValue\n",
       "Month                                                                                                         \n",
       "1996-04-01     84654       60657   Chicago    IL            Chicago       Cook         1 1996-04-01   334200.0\n",
       "1996-04-01     90668       75070  McKinney    TX  Dallas-Fort Worth     Collin         2 1996-04-01   235700.0\n",
       "1996-04-01     91982       77494      Katy    TX            Houston     Harris         3 1996-04-01   210400.0\n",
       "1996-04-01     84616       60614   Chicago    IL            Chicago       Cook         4 1996-04-01   498100.0\n",
       "1996-04-01     93144       79936   El Paso    TX            El Paso    El Paso         5 1996-04-01    77300.0"
      ]
     },
     "execution_count": 9,
     "metadata": {},
     "output_type": "execute_result"
    }
   ],
   "source": [
    "df.head()"
   ]
  },
  {
   "cell_type": "markdown",
   "metadata": {},
   "source": [
    "# Step 2: Preprocessing"
   ]
  },
  {
   "cell_type": "code",
   "execution_count": 10,
   "metadata": {
    "ExecuteTime": {
     "end_time": "2020-01-07T17:00:09.897306Z",
     "start_time": "2020-01-07T16:59:02.719086Z"
    }
   },
   "outputs": [
    {
     "data": {
      "text/html": [
       "<div>\n",
       "<style scoped>\n",
       "    .dataframe tbody tr th:only-of-type {\n",
       "        vertical-align: middle;\n",
       "    }\n",
       "\n",
       "    .dataframe tbody tr th {\n",
       "        vertical-align: top;\n",
       "    }\n",
       "\n",
       "    .dataframe thead th {\n",
       "        text-align: right;\n",
       "    }\n",
       "</style>\n",
       "<table border=\"1\" class=\"dataframe\">\n",
       "  <thead>\n",
       "    <tr style=\"text-align: right;\">\n",
       "      <th></th>\n",
       "      <th></th>\n",
       "      <th>RegionID</th>\n",
       "      <th>RegionName</th>\n",
       "      <th>City</th>\n",
       "      <th>State</th>\n",
       "      <th>Metro</th>\n",
       "      <th>CountyName</th>\n",
       "      <th>SizeRank</th>\n",
       "      <th>Month</th>\n",
       "      <th>MeanValue</th>\n",
       "    </tr>\n",
       "    <tr>\n",
       "      <th>RegionName</th>\n",
       "      <th>Month</th>\n",
       "      <th></th>\n",
       "      <th></th>\n",
       "      <th></th>\n",
       "      <th></th>\n",
       "      <th></th>\n",
       "      <th></th>\n",
       "      <th></th>\n",
       "      <th></th>\n",
       "      <th></th>\n",
       "    </tr>\n",
       "  </thead>\n",
       "  <tbody>\n",
       "    <tr>\n",
       "      <td rowspan=\"5\" valign=\"top\">1001</td>\n",
       "      <td>1996-04-01</td>\n",
       "      <td>58196</td>\n",
       "      <td>1001</td>\n",
       "      <td>Agawam</td>\n",
       "      <td>MA</td>\n",
       "      <td>Springfield</td>\n",
       "      <td>Hampden</td>\n",
       "      <td>5851</td>\n",
       "      <td>1996-04-01</td>\n",
       "      <td>113100.0</td>\n",
       "    </tr>\n",
       "    <tr>\n",
       "      <td>1996-05-01</td>\n",
       "      <td>58196</td>\n",
       "      <td>1001</td>\n",
       "      <td>Agawam</td>\n",
       "      <td>MA</td>\n",
       "      <td>Springfield</td>\n",
       "      <td>Hampden</td>\n",
       "      <td>5851</td>\n",
       "      <td>1996-05-01</td>\n",
       "      <td>112800.0</td>\n",
       "    </tr>\n",
       "    <tr>\n",
       "      <td>1996-06-01</td>\n",
       "      <td>58196</td>\n",
       "      <td>1001</td>\n",
       "      <td>Agawam</td>\n",
       "      <td>MA</td>\n",
       "      <td>Springfield</td>\n",
       "      <td>Hampden</td>\n",
       "      <td>5851</td>\n",
       "      <td>1996-06-01</td>\n",
       "      <td>112600.0</td>\n",
       "    </tr>\n",
       "    <tr>\n",
       "      <td>1996-07-01</td>\n",
       "      <td>58196</td>\n",
       "      <td>1001</td>\n",
       "      <td>Agawam</td>\n",
       "      <td>MA</td>\n",
       "      <td>Springfield</td>\n",
       "      <td>Hampden</td>\n",
       "      <td>5851</td>\n",
       "      <td>1996-07-01</td>\n",
       "      <td>112300.0</td>\n",
       "    </tr>\n",
       "    <tr>\n",
       "      <td>1996-08-01</td>\n",
       "      <td>58196</td>\n",
       "      <td>1001</td>\n",
       "      <td>Agawam</td>\n",
       "      <td>MA</td>\n",
       "      <td>Springfield</td>\n",
       "      <td>Hampden</td>\n",
       "      <td>5851</td>\n",
       "      <td>1996-08-01</td>\n",
       "      <td>112100.0</td>\n",
       "    </tr>\n",
       "    <tr>\n",
       "      <td>...</td>\n",
       "      <td>...</td>\n",
       "      <td>...</td>\n",
       "      <td>...</td>\n",
       "      <td>...</td>\n",
       "      <td>...</td>\n",
       "      <td>...</td>\n",
       "      <td>...</td>\n",
       "      <td>...</td>\n",
       "      <td>...</td>\n",
       "      <td>...</td>\n",
       "    </tr>\n",
       "    <tr>\n",
       "      <td rowspan=\"5\" valign=\"top\">99901</td>\n",
       "      <td>2017-12-01</td>\n",
       "      <td>100478</td>\n",
       "      <td>99901</td>\n",
       "      <td>Ketchikan</td>\n",
       "      <td>AK</td>\n",
       "      <td>Ketchikan</td>\n",
       "      <td>Ketchikan Gateway</td>\n",
       "      <td>7294</td>\n",
       "      <td>2017-12-01</td>\n",
       "      <td>291900.0</td>\n",
       "    </tr>\n",
       "    <tr>\n",
       "      <td>2018-01-01</td>\n",
       "      <td>100478</td>\n",
       "      <td>99901</td>\n",
       "      <td>Ketchikan</td>\n",
       "      <td>AK</td>\n",
       "      <td>Ketchikan</td>\n",
       "      <td>Ketchikan Gateway</td>\n",
       "      <td>7294</td>\n",
       "      <td>2018-01-01</td>\n",
       "      <td>294200.0</td>\n",
       "    </tr>\n",
       "    <tr>\n",
       "      <td>2018-02-01</td>\n",
       "      <td>100478</td>\n",
       "      <td>99901</td>\n",
       "      <td>Ketchikan</td>\n",
       "      <td>AK</td>\n",
       "      <td>Ketchikan</td>\n",
       "      <td>Ketchikan Gateway</td>\n",
       "      <td>7294</td>\n",
       "      <td>2018-02-01</td>\n",
       "      <td>297500.0</td>\n",
       "    </tr>\n",
       "    <tr>\n",
       "      <td>2018-03-01</td>\n",
       "      <td>100478</td>\n",
       "      <td>99901</td>\n",
       "      <td>Ketchikan</td>\n",
       "      <td>AK</td>\n",
       "      <td>Ketchikan</td>\n",
       "      <td>Ketchikan Gateway</td>\n",
       "      <td>7294</td>\n",
       "      <td>2018-03-01</td>\n",
       "      <td>302100.0</td>\n",
       "    </tr>\n",
       "    <tr>\n",
       "      <td>2018-04-01</td>\n",
       "      <td>100478</td>\n",
       "      <td>99901</td>\n",
       "      <td>Ketchikan</td>\n",
       "      <td>AK</td>\n",
       "      <td>Ketchikan</td>\n",
       "      <td>Ketchikan Gateway</td>\n",
       "      <td>7294</td>\n",
       "      <td>2018-04-01</td>\n",
       "      <td>305100.0</td>\n",
       "    </tr>\n",
       "  </tbody>\n",
       "</table>\n",
       "<p>3744704 rows × 9 columns</p>\n",
       "</div>"
      ],
      "text/plain": [
       "                       RegionID  RegionName       City State        Metro         CountyName  SizeRank      Month  MeanValue\n",
       "RegionName Month                                                                                                            \n",
       "1001       1996-04-01     58196        1001     Agawam    MA  Springfield            Hampden      5851 1996-04-01   113100.0\n",
       "           1996-05-01     58196        1001     Agawam    MA  Springfield            Hampden      5851 1996-05-01   112800.0\n",
       "           1996-06-01     58196        1001     Agawam    MA  Springfield            Hampden      5851 1996-06-01   112600.0\n",
       "           1996-07-01     58196        1001     Agawam    MA  Springfield            Hampden      5851 1996-07-01   112300.0\n",
       "           1996-08-01     58196        1001     Agawam    MA  Springfield            Hampden      5851 1996-08-01   112100.0\n",
       "...                         ...         ...        ...   ...          ...                ...       ...        ...        ...\n",
       "99901      2017-12-01    100478       99901  Ketchikan    AK    Ketchikan  Ketchikan Gateway      7294 2017-12-01   291900.0\n",
       "           2018-01-01    100478       99901  Ketchikan    AK    Ketchikan  Ketchikan Gateway      7294 2018-01-01   294200.0\n",
       "           2018-02-01    100478       99901  Ketchikan    AK    Ketchikan  Ketchikan Gateway      7294 2018-02-01   297500.0\n",
       "           2018-03-01    100478       99901  Ketchikan    AK    Ketchikan  Ketchikan Gateway      7294 2018-03-01   302100.0\n",
       "           2018-04-01    100478       99901  Ketchikan    AK    Ketchikan  Ketchikan Gateway      7294 2018-04-01   305100.0\n",
       "\n",
       "[3744704 rows x 9 columns]"
      ]
     },
     "execution_count": 10,
     "metadata": {},
     "output_type": "execute_result"
    }
   ],
   "source": [
    "df2 = df.groupby('RegionName').resample('MS').asfreq()\n",
    "df2"
   ]
  },
  {
   "cell_type": "code",
   "execution_count": 11,
   "metadata": {
    "ExecuteTime": {
     "end_time": "2020-01-07T17:00:10.433052Z",
     "start_time": "2020-01-07T17:00:09.898704Z"
    }
   },
   "outputs": [
    {
     "data": {
      "text/plain": [
       "RegionID           0\n",
       "RegionName         0\n",
       "City               0\n",
       "State              0\n",
       "Metro         236023\n",
       "CountyName         0\n",
       "SizeRank           0\n",
       "Month              0\n",
       "MeanValue          0\n",
       "dtype: int64"
      ]
     },
     "execution_count": 11,
     "metadata": {},
     "output_type": "execute_result"
    }
   ],
   "source": [
    "df2.isna().sum()"
   ]
  },
  {
   "cell_type": "code",
   "execution_count": 12,
   "metadata": {
    "ExecuteTime": {
     "end_time": "2020-01-07T17:00:11.060745Z",
     "start_time": "2020-01-07T17:00:10.434418Z"
    }
   },
   "outputs": [
    {
     "data": {
      "text/plain": [
       "RegionID      0\n",
       "RegionName    0\n",
       "City          0\n",
       "State         0\n",
       "Metro         0\n",
       "CountyName    0\n",
       "SizeRank      0\n",
       "Month         0\n",
       "MeanValue     0\n",
       "dtype: int64"
      ]
     },
     "execution_count": 12,
     "metadata": {},
     "output_type": "execute_result"
    }
   ],
   "source": [
    "df2['Metro'].fillna('Missing',inplace=True)\n",
    "df2.isna().sum()"
   ]
  },
  {
   "cell_type": "markdown",
   "metadata": {},
   "source": [
    "# Step 3: EDA and Visualization"
   ]
  },
  {
   "cell_type": "code",
   "execution_count": 13,
   "metadata": {
    "ExecuteTime": {
     "end_time": "2020-01-07T17:00:11.066182Z",
     "start_time": "2020-01-07T17:00:11.062362Z"
    }
   },
   "outputs": [
    {
     "data": {
      "text/html": [
       "\n",
       "    Formatting follows the Python datetime <strong><a href='http://strftime.org/'>strftime</a></strong> codes.<br>\n",
       "    The following examples are based on <tt>datetime.datetime(2001, 2, 3, 16, 5, 6)</tt>:\n",
       "    <br><br>\n",
       "\n",
       "    <table style=\"display: inline-block\">  \n",
       "    <tr><th>CODE</th><th>MEANING</th><th>EXAMPLE</th><tr>\n",
       "    <tr><td>%Y</td><td>Year with century as a decimal number.</td><td>2001</td></tr>\n",
       "    <tr><td>%y</td><td>Year without century as a zero-padded decimal number.</td><td>01</td></tr>\n",
       "    <tr><td>%m</td><td>Month as a zero-padded decimal number.</td><td>02</td></tr>\n",
       "    <tr><td>%B</td><td>Month as locale’s full name.</td><td>February</td></tr>\n",
       "    <tr><td>%b</td><td>Month as locale’s abbreviated name.</td><td>Feb</td></tr>\n",
       "    <tr><td>%d</td><td>Day of the month as a zero-padded decimal number.</td><td>03</td></tr>  \n",
       "    <tr><td>%A</td><td>Weekday as locale’s full name.</td><td>Saturday</td></tr>\n",
       "    <tr><td>%a</td><td>Weekday as locale’s abbreviated name.</td><td>Sat</td></tr>\n",
       "    <tr><td>%H</td><td>Hour (24-hour clock) as a zero-padded decimal number.</td><td>16</td></tr>\n",
       "    <tr><td>%I</td><td>Hour (12-hour clock) as a zero-padded decimal number.</td><td>04</td></tr>\n",
       "    <tr><td>%p</td><td>Locale’s equivalent of either AM or PM.</td><td>PM</td></tr>\n",
       "    <tr><td>%M</td><td>Minute as a zero-padded decimal number.</td><td>05</td></tr>\n",
       "    <tr><td>%S</td><td>Second as a zero-padded decimal number.</td><td>06</td></tr>\n",
       "    </table>\n",
       "    <table style=\"display: inline-block\">\n",
       "    <tr><th>CODE</th><th>MEANING</th><th>EXAMPLE</th><tr>\n",
       "    <tr><td>%#m</td><td>Month as a decimal number. (Windows)</td><td>2</td></tr>\n",
       "    <tr><td>%-m</td><td>Month as a decimal number. (Mac/Linux)</td><td>2</td></tr>\n",
       "    <tr><td>%#x</td><td>Long date</td><td>Saturday, February 03, 2001</td></tr>\n",
       "    <tr><td>%#c</td><td>Long date and time</td><td>Saturday, February 03, 2001 16:05:06</td></tr>\n",
       "    </table>  \n",
       "    "
      ],
      "text/plain": [
       "<IPython.core.display.HTML object>"
      ]
     },
     "metadata": {},
     "output_type": "display_data"
    }
   ],
   "source": [
    "fs.quick_refs.ts_date_str_formatting()"
   ]
  },
  {
   "cell_type": "code",
   "execution_count": 14,
   "metadata": {
    "ExecuteTime": {
     "end_time": "2020-01-07T17:00:11.389697Z",
     "start_time": "2020-01-07T17:00:11.067651Z"
    }
   },
   "outputs": [
    {
     "data": {
      "image/png": "[encoded data removed]",
      "text/plain": [
       "<Figure size 864x432 with 1 Axes>"
      ]
     },
     "metadata": {
      "needs_background": "light"
     },
     "output_type": "display_data"
    }
   ],
   "source": [
    "# ts =df2['MeanValue'].loc[21201]\n",
    "def plot_ts(df2,col='MeanValue',zipcodes=[21201]):\n",
    "    \n",
    "    fig,ax = plt.subplots(figsize=(12,6))\n",
    "    \n",
    "    for zc in zipcodes:\n",
    "        ts = df2[col].loc[zc]\n",
    "\n",
    "        ts.plot(label=str(zc),ax=ax)\n",
    "\n",
    "#     max_ = ts.loc['2004':'2010'].idxmax()\n",
    "    crash = '01-2009'\n",
    "#     min_ =ts.loc[crash:].idxmin()\n",
    "\n",
    "#     ax.axvline(max_,label='Max Price',color='green',ls=':')\n",
    "    ax.axvline(crash, label='Housing Index Drops',color='red',ls=':')\n",
    "#     ax.axvline(min_,label=f'Min Price Post-Crash {min_}', color='black')\n",
    "    ax.legend()\n",
    "    return fig,ax \n",
    "fig,ax = plot_ts(df2,zipcodes=[21201,21207,1267,60625])\n"
   ]
  },
  {
   "cell_type": "markdown",
   "metadata": {
    "ExecuteTime": {
     "end_time": "2020-01-02T17:38:29.690253Z",
     "start_time": "2020-01-02T17:38:29.686214Z"
    }
   },
   "source": [
    "### MOVING FORWARD WITH 1267"
   ]
  },
  {
   "cell_type": "code",
   "execution_count": 71,
   "metadata": {
    "ExecuteTime": {
     "end_time": "2020-01-07T17:44:48.506396Z",
     "start_time": "2020-01-07T17:44:48.502855Z"
    }
   },
   "outputs": [],
   "source": [
    "df2.reset_index(inplace=True,level=0,drop=True)\n",
    "df2.set_index(\"Month\",inplace=True)"
   ]
  },
  {
   "cell_type": "code",
   "execution_count": 73,
   "metadata": {
    "ExecuteTime": {
     "end_time": "2020-01-07T17:45:16.318649Z",
     "start_time": "2020-01-07T17:45:16.111599Z"
    }
   },
   "outputs": [
    {
     "data": {
      "text/plain": [
       "<matplotlib.axes._subplots.AxesSubplot at 0x1a1cb8d940>"
      ]
     },
     "execution_count": 73,
     "metadata": {},
     "output_type": "execute_result"
    },
    {
     "data": {
      "image/png": "[encoded data removed]",
      "text/plain": [
       "<Figure size 864x360 with 1 Axes>"
      ]
     },
     "metadata": {
      "needs_background": "light"
     },
     "output_type": "display_data"
    }
   ],
   "source": [
    "ts =df2.loc[df2['RegionName']==1267][\"MeanValue\"].rename(1267)\n",
    "ts.plot()"
   ]
  },
  {
   "cell_type": "code",
   "execution_count": 74,
   "metadata": {
    "ExecuteTime": {
     "end_time": "2020-01-07T17:45:21.957198Z",
     "start_time": "2020-01-07T17:45:21.955154Z"
    }
   },
   "outputs": [],
   "source": [
    "# df = df2.loc[pd.IndexSlice[:,'2014-01-01':],:].copy()\n",
    "# df.head()"
   ]
  },
  {
   "cell_type": "code",
   "execution_count": 16,
   "metadata": {
    "ExecuteTime": {
     "end_time": "2020-01-07T17:00:11.660473Z",
     "start_time": "2020-01-07T17:00:11.640345Z"
    }
   },
   "outputs": [
    {
     "data": {
      "text/html": [
       "<div>\n",
       "<style scoped>\n",
       "    .dataframe tbody tr th:only-of-type {\n",
       "        vertical-align: middle;\n",
       "    }\n",
       "\n",
       "    .dataframe tbody tr th {\n",
       "        vertical-align: top;\n",
       "    }\n",
       "\n",
       "    .dataframe thead th {\n",
       "        text-align: right;\n",
       "    }\n",
       "</style>\n",
       "<table border=\"1\" class=\"dataframe\">\n",
       "  <thead>\n",
       "    <tr style=\"text-align: right;\">\n",
       "      <th></th>\n",
       "      <th>RegionID</th>\n",
       "      <th>RegionName</th>\n",
       "      <th>City</th>\n",
       "      <th>State</th>\n",
       "      <th>Metro</th>\n",
       "      <th>CountyName</th>\n",
       "      <th>SizeRank</th>\n",
       "      <th>Month</th>\n",
       "      <th>MeanValue</th>\n",
       "    </tr>\n",
       "    <tr>\n",
       "      <th>Month</th>\n",
       "      <th></th>\n",
       "      <th></th>\n",
       "      <th></th>\n",
       "      <th></th>\n",
       "      <th></th>\n",
       "      <th></th>\n",
       "      <th></th>\n",
       "      <th></th>\n",
       "      <th></th>\n",
       "    </tr>\n",
       "  </thead>\n",
       "  <tbody>\n",
       "    <tr>\n",
       "      <td>2014-01-01</td>\n",
       "      <td>58196</td>\n",
       "      <td>1001</td>\n",
       "      <td>Agawam</td>\n",
       "      <td>MA</td>\n",
       "      <td>Springfield</td>\n",
       "      <td>Hampden</td>\n",
       "      <td>5851</td>\n",
       "      <td>2014-01-01</td>\n",
       "      <td>185100.0</td>\n",
       "    </tr>\n",
       "    <tr>\n",
       "      <td>2014-02-01</td>\n",
       "      <td>58196</td>\n",
       "      <td>1001</td>\n",
       "      <td>Agawam</td>\n",
       "      <td>MA</td>\n",
       "      <td>Springfield</td>\n",
       "      <td>Hampden</td>\n",
       "      <td>5851</td>\n",
       "      <td>2014-02-01</td>\n",
       "      <td>184800.0</td>\n",
       "    </tr>\n",
       "    <tr>\n",
       "      <td>2014-03-01</td>\n",
       "      <td>58196</td>\n",
       "      <td>1001</td>\n",
       "      <td>Agawam</td>\n",
       "      <td>MA</td>\n",
       "      <td>Springfield</td>\n",
       "      <td>Hampden</td>\n",
       "      <td>5851</td>\n",
       "      <td>2014-03-01</td>\n",
       "      <td>184900.0</td>\n",
       "    </tr>\n",
       "    <tr>\n",
       "      <td>2014-04-01</td>\n",
       "      <td>58196</td>\n",
       "      <td>1001</td>\n",
       "      <td>Agawam</td>\n",
       "      <td>MA</td>\n",
       "      <td>Springfield</td>\n",
       "      <td>Hampden</td>\n",
       "      <td>5851</td>\n",
       "      <td>2014-04-01</td>\n",
       "      <td>184500.0</td>\n",
       "    </tr>\n",
       "    <tr>\n",
       "      <td>2014-05-01</td>\n",
       "      <td>58196</td>\n",
       "      <td>1001</td>\n",
       "      <td>Agawam</td>\n",
       "      <td>MA</td>\n",
       "      <td>Springfield</td>\n",
       "      <td>Hampden</td>\n",
       "      <td>5851</td>\n",
       "      <td>2014-05-01</td>\n",
       "      <td>184500.0</td>\n",
       "    </tr>\n",
       "  </tbody>\n",
       "</table>\n",
       "</div>"
      ],
      "text/plain": [
       "            RegionID  RegionName    City State        Metro CountyName  SizeRank      Month  MeanValue\n",
       "Month                                                                                                 \n",
       "2014-01-01     58196        1001  Agawam    MA  Springfield    Hampden      5851 2014-01-01   185100.0\n",
       "2014-02-01     58196        1001  Agawam    MA  Springfield    Hampden      5851 2014-02-01   184800.0\n",
       "2014-03-01     58196        1001  Agawam    MA  Springfield    Hampden      5851 2014-03-01   184900.0\n",
       "2014-04-01     58196        1001  Agawam    MA  Springfield    Hampden      5851 2014-04-01   184500.0\n",
       "2014-05-01     58196        1001  Agawam    MA  Springfield    Hampden      5851 2014-05-01   184500.0"
      ]
     },
     "execution_count": 16,
     "metadata": {},
     "output_type": "execute_result"
    }
   ],
   "source": [
    "# df.reset_index(inplace=True,level=0,drop=True)\n",
    "# df.head()\n"
   ]
  },
  {
   "cell_type": "code",
   "execution_count": 75,
   "metadata": {
    "ExecuteTime": {
     "end_time": "2020-01-07T17:45:32.386091Z",
     "start_time": "2020-01-07T17:45:32.383917Z"
    }
   },
   "outputs": [],
   "source": [
    "# ts =df.loc[df['RegionName']==1267][\"MeanValue\"].rename(1267)\n",
    "# # ts=ts['MeanValue']\n",
    "# # ts=ts.rename('1267')\n",
    "# ts"
   ]
  },
  {
   "cell_type": "code",
   "execution_count": 76,
   "metadata": {
    "ExecuteTime": {
     "end_time": "2020-01-07T17:45:33.783615Z",
     "start_time": "2020-01-07T17:45:33.779877Z"
    }
   },
   "outputs": [
    {
     "data": {
      "text/plain": [
       "1267"
      ]
     },
     "execution_count": 76,
     "metadata": {},
     "output_type": "execute_result"
    }
   ],
   "source": [
    "ts.name"
   ]
  },
  {
   "cell_type": "code",
   "execution_count": 77,
   "metadata": {
    "ExecuteTime": {
     "end_time": "2020-01-07T17:45:35.263252Z",
     "start_time": "2020-01-07T17:45:35.254368Z"
    }
   },
   "outputs": [],
   "source": [
    "ts = ts.resample('MS').asfreq()"
   ]
  },
  {
   "cell_type": "code",
   "execution_count": 78,
   "metadata": {
    "ExecuteTime": {
     "end_time": "2020-01-07T17:45:36.273432Z",
     "start_time": "2020-01-07T17:45:35.971803Z"
    }
   },
   "outputs": [
    {
     "data": {
      "text/plain": [
       "<matplotlib.axes._subplots.AxesSubplot at 0x1a1f7bb320>"
      ]
     },
     "execution_count": 78,
     "metadata": {},
     "output_type": "execute_result"
    },
    {
     "data": {
      "image/png": "[encoded data removed]",
      "text/plain": [
       "<Figure size 864x360 with 1 Axes>"
      ]
     },
     "metadata": {
      "needs_background": "light"
     },
     "output_type": "display_data"
    }
   ],
   "source": [
    "ts.plot()"
   ]
  },
  {
   "cell_type": "code",
   "execution_count": 79,
   "metadata": {
    "ExecuteTime": {
     "end_time": "2020-01-07T17:45:36.768805Z",
     "start_time": "2020-01-07T17:45:36.765926Z"
    }
   },
   "outputs": [],
   "source": [
    "from statsmodels.tsa.seasonal import seasonal_decompose\n",
    "from  statsmodels.graphics.tsaplots import plot_acf,plot_pacf\n",
    "from pandas.plotting import autocorrelation_plot,lag_plot"
   ]
  },
  {
   "cell_type": "code",
   "execution_count": 81,
   "metadata": {
    "ExecuteTime": {
     "end_time": "2020-01-07T17:45:46.638263Z",
     "start_time": "2020-01-07T17:45:46.224664Z"
    }
   },
   "outputs": [
    {
     "data": {
      "image/png": "[encoded data removed]",
      "text/plain": [
       "<Figure size 720x432 with 2 Axes>"
      ]
     },
     "metadata": {
      "needs_background": "light"
     },
     "output_type": "display_data"
    }
   ],
   "source": [
    "def plot_acf_pacf(ts, figsize=(10,6),lags=20):\n",
    "    fig,ax = plt.subplots(nrows=2,figsize=figsize)\n",
    "    plot_acf(ts,ax=ax[0],lags=lags)\n",
    "    plot_pacf(ts, ax=ax[1],lags=lags) \n",
    "    plt.tight_layout()\n",
    "    \n",
    "    for a in ax:\n",
    "        a.xaxis.set_major_locator(mpl.ticker.MaxNLocator(min_n_ticks=lags, integer=True))\n",
    "        a.xaxis.grid()\n",
    "    \n",
    "plot_acf_pacf(ts)"
   ]
  },
  {
   "cell_type": "markdown",
   "metadata": {},
   "source": [
    "\n",
    "- AR(p):\n",
    "    - ACF for AR(p) would be strong until lag of p, then stagnant, then trail off. \n",
    "    - PACF for AR(p): Generally no correlation for lag values beyond p.\n",
    "- MA(q):\n",
    "    - ACF for MA(q) would show strong correlation up to a lag of q, the immedately delcine to minimal/no correction.\n",
    "    - PACF would show strong relationship to the lag and tailing off to no correlation afterwards.\n",
    "   \n",
    "- Notation is generally ARMA(p,q)\n",
    "- Example: ARMA(2,1) model equation\n",
    "     $$Y_t = \\mu + \\phi_1 Y_{t-1}+\\phi_2 Y_{t-2}+ \\theta \\epsilon_{t-1}+\\epsilon_t$$\n",
    "\n",
    "| Param| AR(p)   |   MA(q)  | ARMA(p,q)|\n",
    "|------|------|------|------|\n",
    "|   ACF | Tails off   |  Cuts off after lag q |  Tails off   |\n",
    "|   PACF | Cuts off after lag p  |   Tails off  |  Tails off  |\n",
    "    "
   ]
  },
  {
   "cell_type": "code",
   "execution_count": 82,
   "metadata": {
    "ExecuteTime": {
     "end_time": "2020-01-07T17:46:52.070210Z",
     "start_time": "2020-01-07T17:46:50.863449Z"
    }
   },
   "outputs": [
    {
     "data": {
      "text/plain": [
       "Text(0.5, 1.0, 'Season Length = 365 days 00:00:00')"
      ]
     },
     "execution_count": 82,
     "metadata": {},
     "output_type": "execute_result"
    },
    {
     "data": {
      "image/png": "[encoded data removed]",
      "text/plain": [
       "<Figure size 864x360 with 4 Axes>"
      ]
     },
     "metadata": {
      "needs_background": "light"
     },
     "output_type": "display_data"
    },
    {
     "data": {
      "image/png": "[encoded data removed]",
      "text/plain": [
       "<Figure size 720x288 with 1 Axes>"
      ]
     },
     "metadata": {
      "needs_background": "light"
     },
     "output_type": "display_data"
    }
   ],
   "source": [
    "decomp = seasonal_decompose(ts)\n",
    "decomp.plot()\n",
    "\n",
    "ts_seas = decomp.seasonal\n",
    "plt.figure()\n",
    "ax = ts_seas.plot()\n",
    "fig = ax.get_figure()\n",
    "fig.set_size_inches(10,4)\n",
    "\n",
    "\n",
    "## Get min and max idx\n",
    "min_ = ts_seas.idxmin()\n",
    "max_ = ts_seas.idxmax()\n",
    "min_2 = ts_seas.loc[max_:].idxmin()\n",
    "\n",
    "ax.axvline(min_,label=min_,c='orange')\n",
    "ax.axvline(max_,c='orange',ls=':')\n",
    "ax.axvline(min_2,c='orange')\n",
    "\n",
    "period = min_2 - min_\n",
    "ax.set_title(f'Season Length = {period}')"
   ]
  },
  {
   "cell_type": "markdown",
   "metadata": {},
   "source": [
    "# Step 5: ARIMA Modeling"
   ]
  },
  {
   "cell_type": "code",
   "execution_count": 83,
   "metadata": {
    "ExecuteTime": {
     "end_time": "2020-01-07T17:46:57.974444Z",
     "start_time": "2020-01-07T17:46:57.481037Z"
    }
   },
   "outputs": [
    {
     "data": {
      "text/plain": [
       "<matplotlib.legend.Legend at 0x1a2011aa90>"
      ]
     },
     "execution_count": 83,
     "metadata": {},
     "output_type": "execute_result"
    },
    {
     "data": {
      "image/png": "[encoded data removed]",
      "text/plain": [
       "<Figure size 864x360 with 1 Axes>"
      ]
     },
     "metadata": {
      "needs_background": "light"
     },
     "output_type": "display_data"
    },
    {
     "data": {
      "image/png": "[encoded data removed]",
      "text/plain": [
       "<Figure size 864x360 with 1 Axes>"
      ]
     },
     "metadata": {
      "needs_background": "light"
     },
     "output_type": "display_data"
    }
   ],
   "source": [
    "mpl.rcParams['figure.figsize']=(12,5)\n",
    "ts.plot( )\n",
    "plt.figure()\n",
    "for i in range(5):\n",
    "    ax = ts.diff(i).plot(label=i)\n",
    "#     ax.set\n",
    "ax.legend()"
   ]
  },
  {
   "cell_type": "code",
   "execution_count": 84,
   "metadata": {
    "ExecuteTime": {
     "end_time": "2020-01-07T17:47:05.404636Z",
     "start_time": "2020-01-07T17:47:05.402522Z"
    }
   },
   "outputs": [],
   "source": [
    "# import itertools\n",
    "\n",
    "# p_range = range(0,10)\n",
    "# q_range = range(0,10)\n",
    "# d_range=range(1,3)\n",
    "# m_range=(0,6,12)\n",
    "\n",
    "# pdq = list(itertools.product(p_range,d_range,q_range))\n",
    "# PDQM = list(itertools.product(p_range,d_range,q_range,m_range))\n",
    "# PDQM[:10]"
   ]
  },
  {
   "cell_type": "code",
   "execution_count": 119,
   "metadata": {
    "ExecuteTime": {
     "end_time": "2020-01-07T17:57:20.080702Z",
     "start_time": "2020-01-07T17:57:20.072499Z"
    }
   },
   "outputs": [
    {
     "name": "stdout",
     "output_type": "stream",
     "text": [
      "dict_keys(['pdq', 'PDQm'])\n",
      "[(0, 1, 0), (0, 1, 1), (0, 1, 2), (0, 1, 3), (0, 1, 6), (0, 1, 10), (1, 1, 0), (1, 1, 1), (1, 1, 2), (1, 1, 3)]\n"
     ]
    },
    {
     "data": {
      "text/plain": [
       "[(0, 1, 0, 12),\n",
       " (0, 1, 1, 12),\n",
       " (0, 1, 2, 12),\n",
       " (0, 1, 3, 12),\n",
       " (0, 1, 6, 12),\n",
       " (0, 1, 10, 12),\n",
       " (1, 1, 0, 12),\n",
       " (1, 1, 1, 12),\n",
       " (1, 1, 2, 12),\n",
       " (1, 1, 3, 12)]"
      ]
     },
     "execution_count": 119,
     "metadata": {},
     "output_type": "execute_result"
    }
   ],
   "source": [
    "def make_pdq_pdqm(ps=[0,1,2,3,6,10],ds=[1], \n",
    "                  qs=[0,1,2,3,6,10],make_seasonal=True,\n",
    "                  m_values=[12]):\n",
    "    import itertools\n",
    "#     ps =range(p_range[0],p_range[1])\n",
    "#     ds =range(d_range[0],d_range[1])\n",
    "#     qs =range(q_range[0],q_range[1])\n",
    "    \n",
    "    params = {}\n",
    "    params['pdq'] = list(itertools.product(ps,ds,qs))\n",
    "    \n",
    "    if make_seasonal:\n",
    "        params['PDQm'] = list(itertools.product(ps,ds,qs,m_values))\n",
    "    return params\n",
    "\n",
    "params = make_pdq_pdqm()\n",
    "print(params.keys())\n",
    "print(params['pdq'][:10])\n",
    "params['PDQm'][:10]"
   ]
  },
  {
   "cell_type": "code",
   "execution_count": 120,
   "metadata": {
    "ExecuteTime": {
     "end_time": "2020-01-07T17:57:20.681494Z",
     "start_time": "2020-01-07T17:57:20.675816Z"
    }
   },
   "outputs": [],
   "source": [
    "# fs.ihelp(ji.get_train_test_split_index,0)\n",
    "def get_train_test_split_index(ts, TEST_SIZE=0.1,min_test_ts=2):\n",
    "    import math\n",
    "    idx_split = math.floor(len(ts.index)*(1-TEST_SIZE))\n",
    "    \n",
    "    num_test_ts=len(ts.iloc[idx_split:])\n",
    "    if num_test_ts<min_test_ts:\n",
    "        print(f'[!] Warning: using TEST_SIZE={TEST_SIZE} produced {num_test_ts} test timestamps.')\n",
    "        print(\"- Overriding TEST_SIZE and using min_test_ts instead.\")\n",
    "        idx_split = len(ts)-min_test_ts\n",
    "    \n",
    "    return idx_split\n",
    "\n",
    "\n",
    "def train_test_split_ts(ts,test_size=0.2,min_test_ts=2):\n",
    "    idx_split = get_train_test_split_index(ts,TEST_SIZE=test_size,\n",
    "                                           min_test_ts=min_test_ts)\n",
    "    ts_train = ts.iloc[:idx_split]\n",
    "    ts_test = ts.iloc[idx_split:]\n",
    "    return ts_train, ts_test\n",
    "\n",
    "    "
   ]
  },
  {
   "cell_type": "code",
   "execution_count": 121,
   "metadata": {
    "ExecuteTime": {
     "end_time": "2020-01-07T17:57:21.129148Z",
     "start_time": "2020-01-07T17:57:21.124027Z"
    }
   },
   "outputs": [
    {
     "data": {
      "text/plain": [
       "(212, 53)"
      ]
     },
     "execution_count": 121,
     "metadata": {},
     "output_type": "execute_result"
    }
   ],
   "source": [
    "ts_train,ts_test = train_test_split_ts(ts,test_size=0.2)\n",
    "\n",
    "len(ts_train),len(ts_test)"
   ]
  },
  {
   "cell_type": "code",
   "execution_count": 122,
   "metadata": {
    "ExecuteTime": {
     "end_time": "2020-01-07T17:57:21.464137Z",
     "start_time": "2020-01-07T17:57:21.458673Z"
    }
   },
   "outputs": [],
   "source": [
    "def get_now(return_dt = True, return_str=True, show=False):\n",
    "    import datetime as dt\n",
    "    import tzlocal as tz\n",
    "    now=dt.datetime.now(tz=tz.get_localzone())\n",
    "    str_time =now.strftime('%m/%d/%Y - %I:%M:%S %p')\n",
    "    if show:\n",
    "        print(str_time)\n",
    "    \n",
    "    output=[]\n",
    "    if return_dt:\n",
    "        output.append(now)\n",
    "        \n",
    "    if return_str:\n",
    "        output.append(str_time)\n",
    "    return output[:]\n"
   ]
  },
  {
   "cell_type": "code",
   "execution_count": 123,
   "metadata": {
    "ExecuteTime": {
     "end_time": "2020-01-07T17:57:21.691914Z",
     "start_time": "2020-01-07T17:57:21.683175Z"
    }
   },
   "outputs": [],
   "source": [
    "from statsmodels.tsa.statespace.sarimax import SARIMAX\n",
    "def grid_search_sarimax(ts_train,pdq=None,pdqm=None,order_dict=None,\n",
    "                        verbose=False, model_kws={}):\n",
    "\n",
    "    from tqdm import trange\n",
    "    \n",
    "    if (pdq is None) & (order_dict is not None):\n",
    "        pdq= order_dict['pdq']\n",
    "    if (pdqm is None) & (order_dict is not None):\n",
    "        pdqm= order_dict['PDQm']\n",
    "\n",
    "#     import tqdm\n",
    "#     from tqdm import trange\n",
    "\n",
    "    start,start_str = get_now(return_dt=True, return_str=True)\n",
    "    print(f'[i] STARTING GRID SEARCH @ {start_str}:')\n",
    "\n",
    "    res = [['pdq','PDQM','AIC']]\n",
    "    for i in trange((len(pdq))):\n",
    "        comb = pdq[i]\n",
    "        \n",
    "        for combs in pdqm:\n",
    "            try: \n",
    "                model = SARIMAX(ts_train, order=comb, \n",
    "                               seasonal_orde =combs,enforce_stationarity=False,\n",
    "                               enforce_invertibility=False,**model_kws)\n",
    "                \n",
    "                output= model.fit()\n",
    "                res.append([comb,combs,output.aic])\n",
    "            except:\n",
    "                if verbose:\n",
    "                    print(f\"[!] Error running ({comb})({combs})\")\n",
    "                continue\n",
    "    end,end_str = get_now(return_dt=True, return_str=True)\n",
    "    elapsed = end-start\n",
    "    print(f\"[i] GRID SEARCH FINISHED AT {end_str}\")\n",
    "    print(f\"\\tTotal Time: {elapsed}\")\n",
    "\n",
    "    try:\n",
    "        df_res =fs.list2df(res)\n",
    "        return df_res\n",
    "    \n",
    "    except:\n",
    "        print('Error converting to df. Returning as list.')\n",
    "        return res "
   ]
  },
  {
   "cell_type": "code",
   "execution_count": 124,
   "metadata": {
    "ExecuteTime": {
     "end_time": "2020-01-07T18:04:35.208946Z",
     "start_time": "2020-01-07T17:57:22.072110Z"
    }
   },
   "outputs": [
    {
     "name": "stderr",
     "output_type": "stream",
     "text": [
      "\r",
      "  0%|          | 0/36 [00:00<?, ?it/s]"
     ]
    },
    {
     "name": "stdout",
     "output_type": "stream",
     "text": [
      "[i] STARTING GRID SEARCH @ 01/07/2020 - 12:57:22 PM:\n"
     ]
    },
    {
     "name": "stderr",
     "output_type": "stream",
     "text": [
      "100%|██████████| 36/36 [07:13<00:00, 12.03s/it]"
     ]
    },
    {
     "name": "stdout",
     "output_type": "stream",
     "text": [
      "[i] GRID SEARCH FINISHED AT 01/07/2020 - 01:04:35 PM\n",
      "\tTotal Time: 0:07:13.111545\n"
     ]
    },
    {
     "name": "stderr",
     "output_type": "stream",
     "text": [
      "\n"
     ]
    },
    {
     "data": {
      "text/html": [
       "<div>\n",
       "<style scoped>\n",
       "    .dataframe tbody tr th:only-of-type {\n",
       "        vertical-align: middle;\n",
       "    }\n",
       "\n",
       "    .dataframe tbody tr th {\n",
       "        vertical-align: top;\n",
       "    }\n",
       "\n",
       "    .dataframe thead th {\n",
       "        text-align: right;\n",
       "    }\n",
       "</style>\n",
       "<table border=\"1\" class=\"dataframe\">\n",
       "  <thead>\n",
       "    <tr style=\"text-align: right;\">\n",
       "      <th></th>\n",
       "      <th>pdq</th>\n",
       "      <th>PDQM</th>\n",
       "      <th>AIC</th>\n",
       "    </tr>\n",
       "  </thead>\n",
       "  <tbody>\n",
       "    <tr>\n",
       "      <td>0</td>\n",
       "      <td>(0, 1, 0)</td>\n",
       "      <td>(0, 1, 0, 12)</td>\n",
       "      <td>3885.461130</td>\n",
       "    </tr>\n",
       "    <tr>\n",
       "      <td>1</td>\n",
       "      <td>(0, 1, 0)</td>\n",
       "      <td>(0, 1, 1, 12)</td>\n",
       "      <td>3885.461130</td>\n",
       "    </tr>\n",
       "    <tr>\n",
       "      <td>2</td>\n",
       "      <td>(0, 1, 0)</td>\n",
       "      <td>(0, 1, 2, 12)</td>\n",
       "      <td>3885.461130</td>\n",
       "    </tr>\n",
       "    <tr>\n",
       "      <td>3</td>\n",
       "      <td>(0, 1, 0)</td>\n",
       "      <td>(0, 1, 3, 12)</td>\n",
       "      <td>3885.461130</td>\n",
       "    </tr>\n",
       "    <tr>\n",
       "      <td>4</td>\n",
       "      <td>(0, 1, 0)</td>\n",
       "      <td>(0, 1, 6, 12)</td>\n",
       "      <td>3885.461130</td>\n",
       "    </tr>\n",
       "    <tr>\n",
       "      <td>...</td>\n",
       "      <td>...</td>\n",
       "      <td>...</td>\n",
       "      <td>...</td>\n",
       "    </tr>\n",
       "    <tr>\n",
       "      <td>1291</td>\n",
       "      <td>(10, 1, 10)</td>\n",
       "      <td>(10, 1, 1, 12)</td>\n",
       "      <td>3350.713565</td>\n",
       "    </tr>\n",
       "    <tr>\n",
       "      <td>1292</td>\n",
       "      <td>(10, 1, 10)</td>\n",
       "      <td>(10, 1, 2, 12)</td>\n",
       "      <td>3350.713565</td>\n",
       "    </tr>\n",
       "    <tr>\n",
       "      <td>1293</td>\n",
       "      <td>(10, 1, 10)</td>\n",
       "      <td>(10, 1, 3, 12)</td>\n",
       "      <td>3350.713565</td>\n",
       "    </tr>\n",
       "    <tr>\n",
       "      <td>1294</td>\n",
       "      <td>(10, 1, 10)</td>\n",
       "      <td>(10, 1, 6, 12)</td>\n",
       "      <td>3350.713565</td>\n",
       "    </tr>\n",
       "    <tr>\n",
       "      <td>1295</td>\n",
       "      <td>(10, 1, 10)</td>\n",
       "      <td>(10, 1, 10, 12)</td>\n",
       "      <td>3350.713565</td>\n",
       "    </tr>\n",
       "  </tbody>\n",
       "</table>\n",
       "<p>1296 rows × 3 columns</p>\n",
       "</div>"
      ],
      "text/plain": [
       "              pdq             PDQM          AIC\n",
       "0       (0, 1, 0)    (0, 1, 0, 12)  3885.461130\n",
       "1       (0, 1, 0)    (0, 1, 1, 12)  3885.461130\n",
       "2       (0, 1, 0)    (0, 1, 2, 12)  3885.461130\n",
       "3       (0, 1, 0)    (0, 1, 3, 12)  3885.461130\n",
       "4       (0, 1, 0)    (0, 1, 6, 12)  3885.461130\n",
       "...           ...              ...          ...\n",
       "1291  (10, 1, 10)   (10, 1, 1, 12)  3350.713565\n",
       "1292  (10, 1, 10)   (10, 1, 2, 12)  3350.713565\n",
       "1293  (10, 1, 10)   (10, 1, 3, 12)  3350.713565\n",
       "1294  (10, 1, 10)   (10, 1, 6, 12)  3350.713565\n",
       "1295  (10, 1, 10)  (10, 1, 10, 12)  3350.713565\n",
       "\n",
       "[1296 rows x 3 columns]"
      ]
     },
     "execution_count": 124,
     "metadata": {},
     "output_type": "execute_result"
    }
   ],
   "source": [
    "res = grid_search_sarimax(ts_train,order_dict=params)#pdq,pdqm)\n",
    "res"
   ]
  },
  {
   "cell_type": "markdown",
   "metadata": {},
   "source": [
    "# Step 6: Interpreting Results"
   ]
  },
  {
   "cell_type": "code",
   "execution_count": 125,
   "metadata": {
    "ExecuteTime": {
     "end_time": "2020-01-07T18:04:35.235665Z",
     "start_time": "2020-01-07T18:04:35.210793Z"
    }
   },
   "outputs": [
    {
     "data": {
      "text/html": [
       "<div>\n",
       "<style scoped>\n",
       "    .dataframe tbody tr th:only-of-type {\n",
       "        vertical-align: middle;\n",
       "    }\n",
       "\n",
       "    .dataframe tbody tr th {\n",
       "        vertical-align: top;\n",
       "    }\n",
       "\n",
       "    .dataframe thead th {\n",
       "        text-align: right;\n",
       "    }\n",
       "</style>\n",
       "<table border=\"1\" class=\"dataframe\">\n",
       "  <thead>\n",
       "    <tr style=\"text-align: right;\">\n",
       "      <th></th>\n",
       "      <th>pdq</th>\n",
       "      <th>PDQM</th>\n",
       "      <th>AIC</th>\n",
       "    </tr>\n",
       "  </thead>\n",
       "  <tbody>\n",
       "    <tr>\n",
       "      <td>863</td>\n",
       "      <td>(3, 1, 10)</td>\n",
       "      <td>(10, 1, 10, 12)</td>\n",
       "      <td>3339.844251</td>\n",
       "    </tr>\n",
       "    <tr>\n",
       "      <td>843</td>\n",
       "      <td>(3, 1, 10)</td>\n",
       "      <td>(2, 1, 3, 12)</td>\n",
       "      <td>3339.844251</td>\n",
       "    </tr>\n",
       "    <tr>\n",
       "      <td>842</td>\n",
       "      <td>(3, 1, 10)</td>\n",
       "      <td>(2, 1, 2, 12)</td>\n",
       "      <td>3339.844251</td>\n",
       "    </tr>\n",
       "    <tr>\n",
       "      <td>841</td>\n",
       "      <td>(3, 1, 10)</td>\n",
       "      <td>(2, 1, 1, 12)</td>\n",
       "      <td>3339.844251</td>\n",
       "    </tr>\n",
       "    <tr>\n",
       "      <td>840</td>\n",
       "      <td>(3, 1, 10)</td>\n",
       "      <td>(2, 1, 0, 12)</td>\n",
       "      <td>3339.844251</td>\n",
       "    </tr>\n",
       "    <tr>\n",
       "      <td>839</td>\n",
       "      <td>(3, 1, 10)</td>\n",
       "      <td>(1, 1, 10, 12)</td>\n",
       "      <td>3339.844251</td>\n",
       "    </tr>\n",
       "    <tr>\n",
       "      <td>838</td>\n",
       "      <td>(3, 1, 10)</td>\n",
       "      <td>(1, 1, 6, 12)</td>\n",
       "      <td>3339.844251</td>\n",
       "    </tr>\n",
       "    <tr>\n",
       "      <td>844</td>\n",
       "      <td>(3, 1, 10)</td>\n",
       "      <td>(2, 1, 6, 12)</td>\n",
       "      <td>3339.844251</td>\n",
       "    </tr>\n",
       "    <tr>\n",
       "      <td>837</td>\n",
       "      <td>(3, 1, 10)</td>\n",
       "      <td>(1, 1, 3, 12)</td>\n",
       "      <td>3339.844251</td>\n",
       "    </tr>\n",
       "    <tr>\n",
       "      <td>835</td>\n",
       "      <td>(3, 1, 10)</td>\n",
       "      <td>(1, 1, 1, 12)</td>\n",
       "      <td>3339.844251</td>\n",
       "    </tr>\n",
       "  </tbody>\n",
       "</table>\n",
       "</div>"
      ],
      "text/plain": [
       "            pdq             PDQM          AIC\n",
       "863  (3, 1, 10)  (10, 1, 10, 12)  3339.844251\n",
       "843  (3, 1, 10)    (2, 1, 3, 12)  3339.844251\n",
       "842  (3, 1, 10)    (2, 1, 2, 12)  3339.844251\n",
       "841  (3, 1, 10)    (2, 1, 1, 12)  3339.844251\n",
       "840  (3, 1, 10)    (2, 1, 0, 12)  3339.844251\n",
       "839  (3, 1, 10)   (1, 1, 10, 12)  3339.844251\n",
       "838  (3, 1, 10)    (1, 1, 6, 12)  3339.844251\n",
       "844  (3, 1, 10)    (2, 1, 6, 12)  3339.844251\n",
       "837  (3, 1, 10)    (1, 1, 3, 12)  3339.844251\n",
       "835  (3, 1, 10)    (1, 1, 1, 12)  3339.844251"
      ]
     },
     "metadata": {},
     "output_type": "display_data"
    },
    {
     "data": {
      "text/plain": [
       "{'order': (3, 1, 10), 'seasonal_order': (10, 1, 10, 12)}"
      ]
     },
     "execution_count": 125,
     "metadata": {},
     "output_type": "execute_result"
    }
   ],
   "source": [
    "top_params = res.sort_values('AIC').head(10)\n",
    "display(top_params)\n",
    "top_params=top_params.loc[top_params['AIC']>0]\n",
    "\n",
    "best_params =  dict(order=top_params.iloc[0].loc['pdq'],\n",
    "             seasonal_order = top_params.iloc[0].loc['PDQM']) \n",
    "# pd.DataFrame.from_dict(best_params)\n",
    "best_params"
   ]
  },
  {
   "cell_type": "code",
   "execution_count": 126,
   "metadata": {
    "ExecuteTime": {
     "end_time": "2020-01-07T18:04:35.241082Z",
     "start_time": "2020-01-07T18:04:35.237519Z"
    }
   },
   "outputs": [
    {
     "data": {
      "text/plain": [
       "212"
      ]
     },
     "execution_count": 126,
     "metadata": {},
     "output_type": "execute_result"
    }
   ],
   "source": [
    "len(ts_train)"
   ]
  },
  {
   "cell_type": "code",
   "execution_count": 127,
   "metadata": {
    "ExecuteTime": {
     "end_time": "2020-01-07T18:04:35.246096Z",
     "start_time": "2020-01-07T18:04:35.242663Z"
    }
   },
   "outputs": [
    {
     "data": {
      "text/plain": [
       "{'order': (3, 1, 10), 'seasonal_order': (10, 1, 10, 12)}"
      ]
     },
     "execution_count": 127,
     "metadata": {},
     "output_type": "execute_result"
    }
   ],
   "source": [
    "best_params"
   ]
  },
  {
   "cell_type": "code",
   "execution_count": 128,
   "metadata": {
    "ExecuteTime": {
     "end_time": "2020-01-07T18:04:35.251787Z",
     "start_time": "2020-01-07T18:04:35.247718Z"
    }
   },
   "outputs": [
    {
     "data": {
      "text/plain": [
       "212"
      ]
     },
     "execution_count": 128,
     "metadata": {},
     "output_type": "execute_result"
    }
   ],
   "source": [
    "len(ts_train)"
   ]
  },
  {
   "cell_type": "code",
   "execution_count": 129,
   "metadata": {
    "ExecuteTime": {
     "end_time": "2020-01-07T18:04:35.255398Z",
     "start_time": "2020-01-07T18:04:35.253350Z"
    }
   },
   "outputs": [],
   "source": [
    "# best_params['seasonal_order'] = (4, 1, 4, 12)\n",
    "# best_params"
   ]
  },
  {
   "cell_type": "code",
   "execution_count": 131,
   "metadata": {
    "ExecuteTime": {
     "end_time": "2020-01-07T18:04:41.998771Z",
     "start_time": "2020-01-07T18:04:41.980270Z"
    }
   },
   "outputs": [
    {
     "ename": "ValueError",
     "evalue": "maxlag should be < nobs",
     "output_type": "error",
     "traceback": [
      "\u001b[0;31m---------------------------------------------------------------------------\u001b[0m",
      "\u001b[0;31mValueError\u001b[0m                                Traceback (most recent call last)",
      "\u001b[0;32m<ipython-input-131-61dc6b7d03fb>\u001b[0m in \u001b[0;36m<module>\u001b[0;34m\u001b[0m\n\u001b[1;32m      1\u001b[0m model_output = SARIMAX(ts_train,**best_params,\n\u001b[1;32m      2\u001b[0m                       \u001b[0menforce_invertibility\u001b[0m\u001b[0;34m=\u001b[0m\u001b[0;32mFalse\u001b[0m\u001b[0;34m,\u001b[0m\u001b[0;34m\u001b[0m\u001b[0;34m\u001b[0m\u001b[0m\n\u001b[0;32m----> 3\u001b[0;31m                       enforce_stationarity=False).fit()\n\u001b[0m",
      "\u001b[0;32m//anaconda3/envs/learn-env/lib/python3.6/site-packages/statsmodels/tsa/statespace/mlemodel.py\u001b[0m in \u001b[0;36mfit\u001b[0;34m(self, start_params, transformed, cov_type, cov_kwds, method, maxiter, full_output, disp, callback, return_params, optim_score, optim_complex_step, optim_hessian, flags, **kwargs)\u001b[0m\n\u001b[1;32m    443\u001b[0m         \"\"\"\n\u001b[1;32m    444\u001b[0m         \u001b[0;32mif\u001b[0m \u001b[0mstart_params\u001b[0m \u001b[0;32mis\u001b[0m \u001b[0;32mNone\u001b[0m\u001b[0;34m:\u001b[0m\u001b[0;34m\u001b[0m\u001b[0;34m\u001b[0m\u001b[0m\n\u001b[0;32m--> 445\u001b[0;31m             \u001b[0mstart_params\u001b[0m \u001b[0;34m=\u001b[0m \u001b[0mself\u001b[0m\u001b[0;34m.\u001b[0m\u001b[0mstart_params\u001b[0m\u001b[0;34m\u001b[0m\u001b[0;34m\u001b[0m\u001b[0m\n\u001b[0m\u001b[1;32m    446\u001b[0m             \u001b[0mtransformed\u001b[0m \u001b[0;34m=\u001b[0m \u001b[0;32mTrue\u001b[0m\u001b[0;34m\u001b[0m\u001b[0;34m\u001b[0m\u001b[0m\n\u001b[1;32m    447\u001b[0m \u001b[0;34m\u001b[0m\u001b[0m\n",
      "\u001b[0;32m//anaconda3/envs/learn-env/lib/python3.6/site-packages/statsmodels/tsa/statespace/sarimax.py\u001b[0m in \u001b[0;36mstart_params\u001b[0;34m(self)\u001b[0m\n\u001b[1;32m    967\u001b[0m             self._conditional_sum_squares(\n\u001b[1;32m    968\u001b[0m                 \u001b[0mendog\u001b[0m\u001b[0;34m,\u001b[0m \u001b[0mself\u001b[0m\u001b[0;34m.\u001b[0m\u001b[0mk_seasonal_ar\u001b[0m\u001b[0;34m,\u001b[0m \u001b[0mself\u001b[0m\u001b[0;34m.\u001b[0m\u001b[0mpolynomial_seasonal_ar\u001b[0m\u001b[0;34m,\u001b[0m\u001b[0;34m\u001b[0m\u001b[0;34m\u001b[0m\u001b[0m\n\u001b[0;32m--> 969\u001b[0;31m                 \u001b[0mself\u001b[0m\u001b[0;34m.\u001b[0m\u001b[0mk_seasonal_ma\u001b[0m\u001b[0;34m,\u001b[0m \u001b[0mself\u001b[0m\u001b[0;34m.\u001b[0m\u001b[0mpolynomial_seasonal_ma\u001b[0m\u001b[0;34m\u001b[0m\u001b[0;34m\u001b[0m\u001b[0m\n\u001b[0m\u001b[1;32m    970\u001b[0m             )\n\u001b[1;32m    971\u001b[0m         )\n",
      "\u001b[0;32m//anaconda3/envs/learn-env/lib/python3.6/site-packages/statsmodels/tsa/statespace/sarimax.py\u001b[0m in \u001b[0;36m_conditional_sum_squares\u001b[0;34m(endog, k_ar, polynomial_ar, k_ma, polynomial_ma, k_trend, trend_data)\u001b[0m\n\u001b[1;32m    843\u001b[0m             \u001b[0;32mif\u001b[0m \u001b[0mk_ma\u001b[0m \u001b[0;34m>\u001b[0m \u001b[0;36m0\u001b[0m\u001b[0;34m:\u001b[0m\u001b[0;34m\u001b[0m\u001b[0;34m\u001b[0m\u001b[0m\n\u001b[1;32m    844\u001b[0m                 \u001b[0mY\u001b[0m \u001b[0;34m=\u001b[0m \u001b[0mendog\u001b[0m\u001b[0;34m[\u001b[0m\u001b[0mk\u001b[0m\u001b[0;34m:\u001b[0m\u001b[0;34m]\u001b[0m\u001b[0;34m\u001b[0m\u001b[0;34m\u001b[0m\u001b[0m\n\u001b[0;32m--> 845\u001b[0;31m                 \u001b[0mX\u001b[0m \u001b[0;34m=\u001b[0m \u001b[0mlagmat\u001b[0m\u001b[0;34m(\u001b[0m\u001b[0mendog\u001b[0m\u001b[0;34m,\u001b[0m \u001b[0mk\u001b[0m\u001b[0;34m,\u001b[0m \u001b[0mtrim\u001b[0m\u001b[0;34m=\u001b[0m\u001b[0;34m'both'\u001b[0m\u001b[0;34m)\u001b[0m\u001b[0;34m\u001b[0m\u001b[0;34m\u001b[0m\u001b[0m\n\u001b[0m\u001b[1;32m    846\u001b[0m                 \u001b[0mparams_ar\u001b[0m \u001b[0;34m=\u001b[0m \u001b[0mnp\u001b[0m\u001b[0;34m.\u001b[0m\u001b[0mlinalg\u001b[0m\u001b[0;34m.\u001b[0m\u001b[0mpinv\u001b[0m\u001b[0;34m(\u001b[0m\u001b[0mX\u001b[0m\u001b[0;34m)\u001b[0m\u001b[0;34m.\u001b[0m\u001b[0mdot\u001b[0m\u001b[0;34m(\u001b[0m\u001b[0mY\u001b[0m\u001b[0;34m)\u001b[0m\u001b[0;34m\u001b[0m\u001b[0;34m\u001b[0m\u001b[0m\n\u001b[1;32m    847\u001b[0m                 \u001b[0mresiduals\u001b[0m \u001b[0;34m=\u001b[0m \u001b[0mY\u001b[0m \u001b[0;34m-\u001b[0m \u001b[0mnp\u001b[0m\u001b[0;34m.\u001b[0m\u001b[0mdot\u001b[0m\u001b[0;34m(\u001b[0m\u001b[0mX\u001b[0m\u001b[0;34m,\u001b[0m \u001b[0mparams_ar\u001b[0m\u001b[0;34m)\u001b[0m\u001b[0;34m\u001b[0m\u001b[0;34m\u001b[0m\u001b[0m\n",
      "\u001b[0;32m//anaconda3/envs/learn-env/lib/python3.6/site-packages/statsmodels/tsa/tsatools.py\u001b[0m in \u001b[0;36mlagmat\u001b[0;34m(x, maxlag, trim, original, use_pandas)\u001b[0m\n\u001b[1;32m    406\u001b[0m         \u001b[0mdropidx\u001b[0m \u001b[0;34m=\u001b[0m \u001b[0mnvar\u001b[0m\u001b[0;34m\u001b[0m\u001b[0;34m\u001b[0m\u001b[0m\n\u001b[1;32m    407\u001b[0m     \u001b[0;32mif\u001b[0m \u001b[0mmaxlag\u001b[0m \u001b[0;34m>=\u001b[0m \u001b[0mnobs\u001b[0m\u001b[0;34m:\u001b[0m\u001b[0;34m\u001b[0m\u001b[0;34m\u001b[0m\u001b[0m\n\u001b[0;32m--> 408\u001b[0;31m         \u001b[0;32mraise\u001b[0m \u001b[0mValueError\u001b[0m\u001b[0;34m(\u001b[0m\u001b[0;34m\"maxlag should be < nobs\"\u001b[0m\u001b[0;34m)\u001b[0m\u001b[0;34m\u001b[0m\u001b[0;34m\u001b[0m\u001b[0m\n\u001b[0m\u001b[1;32m    409\u001b[0m     \u001b[0mlm\u001b[0m \u001b[0;34m=\u001b[0m \u001b[0mnp\u001b[0m\u001b[0;34m.\u001b[0m\u001b[0mzeros\u001b[0m\u001b[0;34m(\u001b[0m\u001b[0;34m(\u001b[0m\u001b[0mnobs\u001b[0m \u001b[0;34m+\u001b[0m \u001b[0mmaxlag\u001b[0m\u001b[0;34m,\u001b[0m \u001b[0mnvar\u001b[0m \u001b[0;34m*\u001b[0m \u001b[0;34m(\u001b[0m\u001b[0mmaxlag\u001b[0m \u001b[0;34m+\u001b[0m \u001b[0;36m1\u001b[0m\u001b[0;34m)\u001b[0m\u001b[0;34m)\u001b[0m\u001b[0;34m)\u001b[0m\u001b[0;34m\u001b[0m\u001b[0;34m\u001b[0m\u001b[0m\n\u001b[1;32m    410\u001b[0m     \u001b[0;32mfor\u001b[0m \u001b[0mk\u001b[0m \u001b[0;32min\u001b[0m \u001b[0mrange\u001b[0m\u001b[0;34m(\u001b[0m\u001b[0;36m0\u001b[0m\u001b[0;34m,\u001b[0m \u001b[0mint\u001b[0m\u001b[0;34m(\u001b[0m\u001b[0mmaxlag\u001b[0m \u001b[0;34m+\u001b[0m \u001b[0;36m1\u001b[0m\u001b[0;34m)\u001b[0m\u001b[0;34m)\u001b[0m\u001b[0;34m:\u001b[0m\u001b[0;34m\u001b[0m\u001b[0;34m\u001b[0m\u001b[0m\n",
      "\u001b[0;31mValueError\u001b[0m: maxlag should be < nobs"
     ]
    }
   ],
   "source": [
    "model_output = SARIMAX(ts_train,**best_params,\n",
    "                      enforce_invertibility=False,\n",
    "                      enforce_stationarity=False).fit()\n"
   ]
  },
  {
   "cell_type": "code",
   "execution_count": null,
   "metadata": {
    "ExecuteTime": {
     "end_time": "2020-01-07T18:04:35.278511Z",
     "start_time": "2020-01-07T17:57:25.068Z"
    }
   },
   "outputs": [],
   "source": [
    "forecast = model_output.forecast(steps=len(ts_test))\n",
    "forecast"
   ]
  },
  {
   "cell_type": "code",
   "execution_count": null,
   "metadata": {
    "ExecuteTime": {
     "end_time": "2020-01-07T18:04:35.279819Z",
     "start_time": "2020-01-07T17:57:25.281Z"
    }
   },
   "outputs": [],
   "source": [
    "model_output.summary()"
   ]
  },
  {
   "cell_type": "code",
   "execution_count": null,
   "metadata": {
    "ExecuteTime": {
     "end_time": "2020-01-07T18:04:35.281186Z",
     "start_time": "2020-01-07T17:57:25.487Z"
    }
   },
   "outputs": [],
   "source": [
    "preds = model_output.predict(start=ts_test.index[0],end=ts_test.index[-1])"
   ]
  },
  {
   "cell_type": "code",
   "execution_count": null,
   "metadata": {
    "ExecuteTime": {
     "end_time": "2020-01-07T18:04:35.282392Z",
     "start_time": "2020-01-07T17:57:25.694Z"
    }
   },
   "outputs": [],
   "source": [
    "preds"
   ]
  },
  {
   "cell_type": "code",
   "execution_count": null,
   "metadata": {
    "ExecuteTime": {
     "end_time": "2020-01-07T18:04:35.283715Z",
     "start_time": "2020-01-07T17:57:25.884Z"
    }
   },
   "outputs": [],
   "source": [
    "f,ax=plt.subplots()\n",
    "ts_train.plot(ax=ax)\n",
    "ts_test.plot(ax=ax)\n",
    "# forecast.plot(ax=ax,ls=':',lw=3)\n",
    "preds.dropna().plot(ax=ax)\n",
    "ax.legend()"
   ]
  },
  {
   "cell_type": "code",
   "execution_count": null,
   "metadata": {},
   "outputs": [],
   "source": []
  },
  {
   "cell_type": "code",
   "execution_count": null,
   "metadata": {
    "ExecuteTime": {
     "end_time": "2020-01-07T18:04:35.284968Z",
     "start_time": "2020-01-07T17:57:26.837Z"
    }
   },
   "outputs": [],
   "source": [
    "from sklearn.metrics import mean_squared_error,r2_score\n",
    "fs.jmi.thiels_U\n",
    "\n",
    "def model_evaluation(ts_true,ts_pred,show=True):\n",
    "    res= [['Metric','Value']]\n",
    "    \n",
    "    res.append(['RMSE', np.sqrt(mean_squared_error(ts_true,ts_pred))])\n",
    "    \n",
    "    res.append(['R2',r2_score(ts_true,ts_pred)])\n",
    "    res.append([\"Thiel's U\",fs.jmi.thiels_U(ts_true,ts_pred)])\n",
    "    res = fs.list2df(res)\n",
    "    if show:\n",
    "        display(res)\n",
    "    return res\n",
    "    \n",
    "def plot_true_test_preds(ts_train,ts_test,ts_preds):\n",
    "    f,ax=plt.subplots()\n",
    "    ts_train.plot(ax=ax)\n",
    "    ts_test.plot(ax=ax)\n",
    "    # forecast.plot(ax=ax,ls=':',lw=3)\n",
    "    preds.dropna().plot(ax=ax)\n",
    "    ax.legend()\n",
    "    return f,ax"
   ]
  },
  {
   "cell_type": "code",
   "execution_count": null,
   "metadata": {
    "ExecuteTime": {
     "end_time": "2020-01-07T18:04:35.286163Z",
     "start_time": "2020-01-07T17:57:27.262Z"
    }
   },
   "outputs": [],
   "source": [
    "model_evaluation(ts_test, preds)\n",
    "plot_true_test_preds(ts_train,ts_test,preds)"
   ]
  },
  {
   "cell_type": "code",
   "execution_count": null,
   "metadata": {},
   "outputs": [],
   "source": []
  }
 ],
 "metadata": {
  "kernelspec": {
   "display_name": "learn-env",
   "language": "python",
   "name": "learn-env"
  },
  "language_info": {
   "codemirror_mode": {
    "name": "ipython",
    "version": 3
   },
   "file_extension": ".py",
   "mimetype": "text/x-python",
   "name": "python",
   "nbconvert_exporter": "python",
   "pygments_lexer": "ipython3",
   "version": "3.6.9"
  },
  "toc": {
   "base_numbering": 1,
   "nav_menu": {},
   "number_sections": false,
   "sideBar": true,
   "skip_h1_title": false,
   "title_cell": "Table of Contents",
   "title_sidebar": "Contents",
   "toc_cell": false,
   "toc_position": {
    "height": "calc(100% - 180px)",
    "left": "10px",
    "top": "150px",
    "width": "256px"
   },
   "toc_section_display": true,
   "toc_window_display": true
  }
 },
 "nbformat": 4,
 "nbformat_minor": 2
}

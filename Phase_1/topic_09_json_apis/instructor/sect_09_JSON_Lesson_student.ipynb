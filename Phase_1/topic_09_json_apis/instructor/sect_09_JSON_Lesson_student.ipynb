{
 "cells": [
  {
   "cell_type": "markdown",
   "metadata": {
    "colab_type": "text",
    "id": "WXhH504TO9c2"
   },
   "source": [
    "# JSON & APIs Activity - Student Activity"
   ]
  },
  {
   "cell_type": "markdown",
   "metadata": {
    "colab_type": "text",
    "id": "WXhH504TO9c2"
   },
   "source": [
    "<img src='https://raw.githubusercontent.com/jirvingphd/Data-Science-Lessons/master/Mod%202/JSON-XML-Recur/old_town.jpg' width=50%> "
   ]
  },
  {
   "cell_type": "markdown",
   "metadata": {
    "colab_type": "text",
    "id": "7dj0CKvgO9eg"
   },
   "source": [
    "# ⏰ Activity - Part 1 (JSON)"
   ]
  },
  {
   "cell_type": "markdown",
   "metadata": {
    "colab_type": "text",
    "id": "VqvfTr6nO9c7"
   },
   "source": [
    "## JSON"
   ]
  },
  {
   "cell_type": "markdown",
   "metadata": {
    "colab_type": "text",
    "id": "Nez3BHtJO9c8"
   },
   "source": [
    "### Reading JSON files"
   ]
  },
  {
   "cell_type": "markdown",
   "metadata": {
    "colab_type": "text",
    "id": "H2hl9vpIO9c9"
   },
   "source": [
    "Import JSON library. Also, import Pandas.\n"
   ]
  },
  {
   "cell_type": "code",
   "execution_count": null,
   "metadata": {},
   "outputs": [],
   "source": []
  },
  {
   "cell_type": "markdown",
   "metadata": {
    "colab_type": "text",
    "id": "eI7sCswbO9dA"
   },
   "source": [
    "Load JSON from file. This file contains song data from Spotify on Old Town Road by Lil Nas X. "
   ]
  },
  {
   "cell_type": "code",
   "execution_count": 1,
   "metadata": {
    "ExecuteTime": {
     "end_time": "2020-05-20T03:32:42.488621Z",
     "start_time": "2020-05-20T03:32:42.486195Z"
    },
    "colab": {},
    "colab_type": "code",
    "id": "JgYFWSF9O9c-"
   },
   "outputs": [],
   "source": [
    "json_file='../../datasets/old_town_road.json'\n",
    "# json_file='datasets/old_town_road.json'\n"
   ]
  },
  {
   "cell_type": "markdown",
   "metadata": {
    "colab_type": "text",
    "id": "BBUX-8B3O9dD"
   },
   "source": [
    "Print out data."
   ]
  },
  {
   "cell_type": "code",
   "execution_count": null,
   "metadata": {
    "ExecuteTime": {
     "end_time": "2020-05-20T02:56:00.812818Z",
     "start_time": "2020-05-20T02:56:00.797461Z"
    }
   },
   "outputs": [],
   "source": []
  },
  {
   "cell_type": "markdown",
   "metadata": {
    "colab_type": "text",
    "id": "8s0qsLWmO9dH"
   },
   "source": [
    "Check type of data, get keys."
   ]
  },
  {
   "cell_type": "code",
   "execution_count": null,
   "metadata": {},
   "outputs": [],
   "source": []
  },
  {
   "cell_type": "code",
   "execution_count": null,
   "metadata": {},
   "outputs": [],
   "source": []
  },
  {
   "cell_type": "markdown",
   "metadata": {
    "colab_type": "text",
    "id": "aQQugu4OO9dM"
   },
   "source": [
    "Explore 'meta' by printing it out, checking its type and keys."
   ]
  },
  {
   "cell_type": "code",
   "execution_count": null,
   "metadata": {
    "colab": {
     "base_uri": "https://localhost:8080/",
     "height": 489
    },
    "colab_type": "code",
    "id": "7dWGUalBO9dM",
    "outputId": "cd6af08d-8c9e-41d8-ae70-0bb75ca88690"
   },
   "outputs": [],
   "source": []
  },
  {
   "cell_type": "code",
   "execution_count": null,
   "metadata": {
    "colab": {
     "base_uri": "https://localhost:8080/",
     "height": 34
    },
    "colab_type": "code",
    "id": "THJBPcXgO9dO",
    "outputId": "a36ffd43-b251-4be0-d767-65f14bb92985"
   },
   "outputs": [],
   "source": []
  },
  {
   "cell_type": "markdown",
   "metadata": {
    "colab_type": "text",
    "id": "KfW9BhSaO9dS"
   },
   "source": [
    "Now use the 'track' key to inspect details about the song.\n",
    "- Print out the keys from `track`"
   ]
  },
  {
   "cell_type": "code",
   "execution_count": null,
   "metadata": {
    "colab": {
     "base_uri": "https://localhost:8080/",
     "height": 54
    },
    "colab_type": "code",
    "id": "9qv6Dvj5O9dQ",
    "outputId": "7b5211c8-3e78-4ea5-d4f0-39043923b388"
   },
   "outputs": [],
   "source": []
  },
  {
   "cell_type": "markdown",
   "metadata": {
    "colab_type": "text",
    "id": "KfW9BhSaO9dS"
   },
   "source": [
    "- What key is the song in?"
   ]
  },
  {
   "cell_type": "markdown",
   "metadata": {
    "colab_type": "text",
    "id": "oyl7eaoBO9dS"
   },
   "source": [
    "| ID | Key   |\n",
    "|------|------|\n",
    "| 0 | C |\n",
    "1 |\tC♯ \n",
    "2  | D \n",
    "3  | D♯\n",
    "4  | E \n",
    "5  | F \n",
    "6  | F♯\n",
    "7  | G\n",
    "8  | G♯\n",
    "9  | A\n",
    "10 | A♯\t\n",
    "11 | B \t"
   ]
  },
  {
   "cell_type": "code",
   "execution_count": null,
   "metadata": {
    "colab": {
     "base_uri": "https://localhost:8080/",
     "height": 34
    },
    "colab_type": "code",
    "id": "vgRo0zWFO9dT",
    "outputId": "09935b44-9f37-4c79-d42d-34304bee2eae"
   },
   "outputs": [],
   "source": []
  },
  {
   "cell_type": "markdown",
   "metadata": {
    "colab_type": "text",
    "id": "0tQ843cvO9dY"
   },
   "source": [
    "How long is the song?"
   ]
  },
  {
   "cell_type": "code",
   "execution_count": null,
   "metadata": {
    "colab": {
     "base_uri": "https://localhost:8080/",
     "height": 34
    },
    "colab_type": "code",
    "id": "yYUtWi4RO9dZ",
    "outputId": "e42edeac-1bab-4e25-fe1e-9f793dbc137e"
   },
   "outputs": [],
   "source": []
  },
  {
   "cell_type": "markdown",
   "metadata": {
    "colab_type": "text",
    "id": "diWiAIU3O9db"
   },
   "source": [
    "Load the 'track' data into a DataFrame."
   ]
  },
  {
   "cell_type": "code",
   "execution_count": null,
   "metadata": {
    "colab": {
     "base_uri": "https://localhost:8080/",
     "height": 865
    },
    "colab_type": "code",
    "id": "KbdNrxPuO9db",
    "outputId": "e0b972d4-3a9e-4f43-f8f8-d72b13d6a862"
   },
   "outputs": [],
   "source": []
  },
  {
   "cell_type": "markdown",
   "metadata": {
    "colab_type": "text",
    "id": "oJ77K3tqO9eh"
   },
   "source": [
    "### Using the 'old_town_road.json' file and what you have learned above, do the following:"
   ]
  },
  {
   "cell_type": "markdown",
   "metadata": {
    "colab_type": "text",
    "id": "7TiVeJcjO9eh"
   },
   "source": [
    "#### Create a DataFrame of the different segments of Old Town Road"
   ]
  },
  {
   "cell_type": "code",
   "execution_count": null,
   "metadata": {
    "ExecuteTime": {
     "end_time": "2020-05-20T02:45:24.140691Z",
     "start_time": "2020-05-20T02:45:24.137358Z"
    }
   },
   "outputs": [],
   "source": []
  },
  {
   "cell_type": "code",
   "execution_count": null,
   "metadata": {
    "ExecuteTime": {
     "end_time": "2020-05-20T02:46:43.524494Z",
     "start_time": "2020-05-20T02:46:43.507431Z"
    }
   },
   "outputs": [],
   "source": []
  },
  {
   "cell_type": "markdown",
   "metadata": {
    "colab_type": "text",
    "id": "WREPZ52gO9ej"
   },
   "source": [
    "#### Find the longest segment and the loudest segment."
   ]
  },
  {
   "cell_type": "code",
   "execution_count": null,
   "metadata": {
    "ExecuteTime": {
     "end_time": "2020-05-20T02:51:23.879121Z",
     "start_time": "2020-05-20T02:51:23.865429Z"
    }
   },
   "outputs": [],
   "source": []
  },
  {
   "cell_type": "code",
   "execution_count": null,
   "metadata": {
    "ExecuteTime": {
     "end_time": "2020-05-20T02:50:15.451028Z",
     "start_time": "2020-05-20T02:50:15.437518Z"
    },
    "colab": {
     "base_uri": "https://localhost:8080/",
     "height": 311
    },
    "colab_type": "code",
    "id": "WAXQ-myoO9ej",
    "outputId": "056595b7-c4a1-4d20-a21f-5b8edd566ac0"
   },
   "outputs": [],
   "source": []
  },
  {
   "cell_type": "markdown",
   "metadata": {
    "colab_type": "text",
    "id": "1jI7bn8FO9ep"
   },
   "source": [
    "#### How many bars are in the song?"
   ]
  },
  {
   "cell_type": "code",
   "execution_count": null,
   "metadata": {
    "ExecuteTime": {
     "end_time": "2020-05-20T02:52:17.220024Z",
     "start_time": "2020-05-20T02:52:17.216593Z"
    },
    "colab": {},
    "colab_type": "code",
    "id": "X90LlqlyO9ep"
   },
   "outputs": [],
   "source": []
  },
  {
   "cell_type": "markdown",
   "metadata": {
    "colab_type": "text",
    "id": "D-erXFoDO9eq"
   },
   "source": [
    "#### What's the average length of a bar?"
   ]
  },
  {
   "cell_type": "code",
   "execution_count": null,
   "metadata": {
    "ExecuteTime": {
     "end_time": "2020-05-20T02:52:30.137279Z",
     "start_time": "2020-05-20T02:52:30.133199Z"
    },
    "colab": {},
    "colab_type": "code",
    "id": "bOZ1Kj13O9eq"
   },
   "outputs": [],
   "source": []
  },
  {
   "cell_type": "markdown",
   "metadata": {},
   "source": [
    "#  ⏰ Activity - Part 2: APIs"
   ]
  },
  {
   "cell_type": "markdown",
   "metadata": {
    "colab_type": "text",
    "id": "ru6tkbHUa8pf"
   },
   "source": [
    "## Connecting to and interacting with an API"
   ]
  },
  {
   "cell_type": "markdown",
   "metadata": {
    "colab_type": "text",
    "id": "I2rX4NuIa8pi"
   },
   "source": [
    "<img src='https://raw.githubusercontent.com/jirvingphd/Data-Science-Lessons/master/Mod%202/APIs/genius.jpeg'>\n",
    "<!-- https://raw.githubusercontent.com/jirvingphd/Data-Science-Lessons/master/Mod%202/APIs/api_client.png -->"
   ]
  },
  {
   "cell_type": "markdown",
   "metadata": {
    "colab_type": "text",
    "id": "JWg265mXa8pj"
   },
   "source": [
    "## Genius API\n",
    "- The world's biggest collection of song lyrics and musical knowledge"
   ]
  },
  {
   "cell_type": "markdown",
   "metadata": {
    "colab_type": "text",
    "id": "NmcFl-Gwa8pj"
   },
   "source": [
    "<center>In this pair programming activity, you will connect to the Genius API in order to obtain song lyric data."
   ]
  },
  {
   "cell_type": "markdown",
   "metadata": {
    "colab_type": "text",
    "id": "11le-hQLa8pk"
   },
   "source": [
    "### Create an account to gain access"
   ]
  },
  {
   "cell_type": "markdown",
   "metadata": {
    "colab_type": "text",
    "id": "lN6yvitua8pk"
   },
   "source": [
    "Go to the developer page at https://genius.com/developers. You will have to create a Genius account if you don't already have one."
   ]
  },
  {
   "cell_type": "markdown",
   "metadata": {
    "colab_type": "text",
    "id": "KH9B7mE3a8pl"
   },
   "source": [
    "Then you will want to create a new API client."
   ]
  },
  {
   "cell_type": "markdown",
   "metadata": {
    "colab_type": "text",
    "id": "HdxOnFB7a8pm"
   },
   "source": [
    "<img src='https://raw.githubusercontent.com/jirvingphd/Data-Science-Lessons/master/Mod%202/APIs/api_client.png'>"
   ]
  },
  {
   "cell_type": "markdown",
   "metadata": {
    "colab_type": "text",
    "id": "9lqIfzZKa8pm"
   },
   "source": [
    "You can choose any name for the app. For the website URL, you could just use your Github page.<br><br>\n",
    "<b>Note</b>: The URL must be a full URL with 'http://' in the front."
   ]
  },
  {
   "cell_type": "markdown",
   "metadata": {
    "colab_type": "text",
    "id": "2HgvuS9ja8pn"
   },
   "source": [
    "<img src='https://raw.githubusercontent.com/jirvingphd/Data-Science-Lessons/master/Mod%202/APIs/api_client2.png'>"
   ]
  },
  {
   "cell_type": "code",
   "execution_count": 38,
   "metadata": {
    "ExecuteTime": {
     "end_time": "2020-05-20T02:56:48.796827Z",
     "start_time": "2020-05-20T02:56:48.791190Z"
    },
    "colab": {},
    "colab_type": "code",
    "id": "Bq_pHi666FFW",
    "outputId": "dcd77501-e543-42e2-9cff-de2bbd1c01fe"
   },
   "outputs": [
    {
     "name": "stdout",
     "output_type": "stream",
     "text": [
      "dict_keys(['client-id', 'client-secret', 'oath-token'])\n"
     ]
    }
   ],
   "source": [
    "# Note: I added a genius_api.json file with my login info inside of my user folder\n",
    "# I used a text editor (SublimeText3)\n",
    "import json\n",
    "## Replace your User folder below:\n",
    "api_info_file = \"/Users/jamesirving/.secret/genius_api.json\"\n",
    "with open(api_info_file,'r') as f:\n",
    "    contents = f.read()\n",
    "    api_info = json.loads(contents)\n",
    "    \n",
    "print(api_info.keys())\n",
    "\n",
    "        \n",
    "api_id = api_info['client-id']\n",
    "api_secret = api_info['client-secret']\n",
    "api_oath_token = api_info['oath-token']"
   ]
  },
  {
   "cell_type": "markdown",
   "metadata": {
    "colab_type": "text",
    "id": "TCVyfSvEa8po"
   },
   "source": [
    "You should see something similar to the above. <br><br>\n",
    "If you click on 'Generate Access Token' you will be provided with a string that you will need to copy to your clipboard. Genius uses OAuth2 for making API calls so you will need to be passing the token into your calls.<br><br>\n",
    "With your token copied, you're now ready to start connecting to the API."
   ]
  },
  {
   "cell_type": "markdown",
   "metadata": {
    "colab_type": "text",
    "id": "EzTCaHZ6a8po"
   },
   "source": [
    "### Check out documentation"
   ]
  },
  {
   "cell_type": "markdown",
   "metadata": {
    "colab_type": "text",
    "id": "rsXlalsba8pp"
   },
   "source": [
    "Take a couple minutes to browse through the documentation found at https://docs.genius.com/. <br> <br>\n",
    "Take note of what kinds of information is available through this API and what header data is needed to make certain calls. <br><br>\n",
    "Keep the documentation open in a separate tab as you'll want to come back to it for reference."
   ]
  },
  {
   "cell_type": "markdown",
   "metadata": {
    "colab_type": "text",
    "id": "tVyLFMP4a8pp"
   },
   "source": [
    "### Preparing for requests"
   ]
  },
  {
   "cell_type": "markdown",
   "metadata": {
    "colab_type": "text",
    "id": "sHzKeLnUa8pq"
   },
   "source": [
    "In the cells below:<br>\n",
    "- Import the <b>requests</b> library\n",
    "- Create a <b>base_url</b> string containing the base URL for the API (https://api.genius.com)\n",
    "- Create a <b>headers</b> dictionary containing the key, <i>Authorization</i> and the value <i>Bearer </i> + your client access token. (Note: There should be a space in between 'Bearer' and the token.)\n",
    "- Replace \"TOKEN\" with the value the API documentation indicates"
   ]
  },
  {
   "cell_type": "code",
   "execution_count": 3,
   "metadata": {
    "ExecuteTime": {
     "end_time": "2020-05-20T03:38:08.003267Z",
     "start_time": "2020-05-20T03:38:07.886586Z"
    },
    "colab": {},
    "colab_type": "code",
    "id": "Wtnuc2saa8pq"
   },
   "outputs": [],
   "source": [
    "import requests\n",
    "\n",
    "#TOKEN below should be the string that the API docs tells you\n",
    "#Clearly I'm not giving mine out here on the internet. That'd be dumb\n",
    "base_url = \"http://api.genius.com\"\n",
    "#Key line below here when, this is how to authorize your request when\n",
    "#using the API\n",
    "headers = {'Authorization': 'Bearer TOKEN'}"
   ]
  },
  {
   "cell_type": "markdown",
   "metadata": {
    "colab_type": "text",
    "id": "JmgejljIa8pw"
   },
   "source": [
    "### Search for \"Old Town Road\" (the song from JSON file)"
   ]
  },
  {
   "cell_type": "markdown",
   "metadata": {
    "colab_type": "text",
    "id": "UKup_El8a8px"
   },
   "source": [
    "Now let's try looking up a specific song and see what kind of info we can get on it."
   ]
  },
  {
   "cell_type": "markdown",
   "metadata": {
    "colab_type": "text",
    "id": "ALKZ1Z5Na8px"
   },
   "source": [
    "If you look at the <b>/songs/</b> endpoint in the documentation, you'll notice that you need the ID for the song. <br><br>\n",
    "In order to get a song ID, we will first need to search for a song and then grab its ID. <br><br>\n",
    "We can do this through the <b>/search</b> endpoint which allows us to enter search terms such as song title, artist, and album.<br><br>\n",
    "Take a look at the documention for the search endpoint - https://docs.genius.com/#/search-h2. <br><br>\n",
    "To make a call to this endpoint, we need to pass in some data: a key called <b>q</b> and our search terms."
   ]
  },
  {
   "cell_type": "markdown",
   "metadata": {
    "colab_type": "text",
    "id": "D7u0reVra8py"
   },
   "source": [
    "In the cells below:<br>\n",
    "- First decide on a song you want to look up\n",
    "- Create a <b>params</b> dictionary containing the key, <b>q</b> and the value the search terms for your song.\n",
    "- Create a search_url by appending the base_url with <b>/search</b>\n",
    "- Make a request to the search_url, passing in the arguments params=params and headers=headers and get the response.\n",
    "- Under the 'response' dictionary, iterate through the 'hits' sub-dictionary until you find the correct song you searched for.\n",
    "- Once you find the correct song, grab and store its ID as song_id."
   ]
  },
  {
   "cell_type": "markdown",
   "metadata": {
    "colab_type": "text",
    "id": "-heLO0p1a8py"
   },
   "source": [
    "<b>Hint:</b> The 'hits' sub-dictionary has a dictionary object called 'result' which contains 'title' (the song title), another dictionary 'primary_artist' (which has a key called 'name' to get the artist's name), and an 'id' value."
   ]
  },
  {
   "cell_type": "code",
   "execution_count": 4,
   "metadata": {
    "ExecuteTime": {
     "end_time": "2020-05-20T03:39:22.056673Z",
     "start_time": "2020-05-20T03:39:22.054072Z"
    },
    "colab": {},
    "colab_type": "code",
    "id": "Wtnuc2saa8pq"
   },
   "outputs": [],
   "source": [
    "search_url = None\n",
    "song_title = None\n",
    "params = None\n",
    "\n",
    "response = None\n"
   ]
  },
  {
   "cell_type": "code",
   "execution_count": null,
   "metadata": {
    "ExecuteTime": {
     "end_time": "2020-05-20T03:08:02.507516Z",
     "start_time": "2020-05-20T03:08:02.503673Z"
    },
    "colab": {},
    "colab_type": "code",
    "id": "34cfnFf8a8pt"
   },
   "outputs": [],
   "source": []
  },
  {
   "cell_type": "code",
   "execution_count": null,
   "metadata": {
    "ExecuteTime": {
     "end_time": "2020-05-20T03:08:03.723547Z",
     "start_time": "2020-05-20T03:08:03.714318Z"
    }
   },
   "outputs": [],
   "source": []
  },
  {
   "cell_type": "code",
   "execution_count": null,
   "metadata": {
    "ExecuteTime": {
     "end_time": "2020-05-20T03:02:36.756220Z",
     "start_time": "2020-05-20T03:02:36.752596Z"
    }
   },
   "outputs": [],
   "source": []
  },
  {
   "cell_type": "code",
   "execution_count": null,
   "metadata": {
    "ExecuteTime": {
     "end_time": "2020-05-20T03:04:08.424715Z",
     "start_time": "2020-05-20T03:04:08.420759Z"
    }
   },
   "outputs": [],
   "source": []
  },
  {
   "cell_type": "code",
   "execution_count": null,
   "metadata": {
    "ExecuteTime": {
     "end_time": "2020-05-20T03:05:15.665546Z",
     "start_time": "2020-05-20T03:05:15.638362Z"
    },
    "colab": {},
    "colab_type": "code",
    "id": "A-NiM4RTa8pu"
   },
   "outputs": [],
   "source": []
  },
  {
   "cell_type": "code",
   "execution_count": null,
   "metadata": {
    "ExecuteTime": {
     "end_time": "2020-05-20T03:09:40.934331Z",
     "start_time": "2020-05-20T03:09:40.930126Z"
    }
   },
   "outputs": [],
   "source": []
  },
  {
   "cell_type": "markdown",
   "metadata": {
    "colab_type": "text",
    "id": "OHnLvoTVa8p-"
   },
   "source": [
    "### Lookup a song"
   ]
  },
  {
   "cell_type": "markdown",
   "metadata": {
    "colab_type": "text",
    "id": "TZcGtDJCa8p_"
   },
   "source": [
    "Now that we have the ID for our song, we can use the '/songs/' endpoint to look it up."
   ]
  },
  {
   "cell_type": "markdown",
   "metadata": {
    "colab_type": "text",
    "id": "i7MLFwENa8qA"
   },
   "source": [
    "In the cells below:<br>\n",
    "- Create a songs_url consisting of the base_url + '/songs/' \n",
    "- Create a query using songs_url + the song_id.\n",
    "- Make a request to the songs_url, passing in the argument headers=headers and get the response.\n",
    "- Explore the 'response' dictionary. What info can we get on a song?\n",
    "- Grab the URL for the lyrics page for the song and store it as lyrics_url."
   ]
  },
  {
   "cell_type": "code",
   "execution_count": 5,
   "metadata": {
    "ExecuteTime": {
     "end_time": "2020-05-20T03:39:50.598732Z",
     "start_time": "2020-05-20T03:39:50.595787Z"
    },
    "colab": {},
    "colab_type": "code",
    "id": "PofZ6KqBa8qA"
   },
   "outputs": [],
   "source": [
    "songs_url =  None\n",
    "songs_query = None\n",
    "songs_query"
   ]
  },
  {
   "cell_type": "code",
   "execution_count": null,
   "metadata": {
    "ExecuteTime": {
     "end_time": "2020-05-20T03:11:12.477873Z",
     "start_time": "2020-05-20T03:11:12.176190Z"
    },
    "colab": {},
    "colab_type": "code",
    "id": "lxhGs4NBa8qB"
   },
   "outputs": [],
   "source": []
  },
  {
   "cell_type": "code",
   "execution_count": null,
   "metadata": {
    "ExecuteTime": {
     "end_time": "2020-05-20T03:11:24.459439Z",
     "start_time": "2020-05-20T03:11:24.454377Z"
    },
    "colab": {},
    "colab_type": "code",
    "id": "wbpOdO4Ra8qD"
   },
   "outputs": [],
   "source": []
  },
  {
   "cell_type": "code",
   "execution_count": null,
   "metadata": {
    "ExecuteTime": {
     "end_time": "2020-05-20T03:11:29.043599Z",
     "start_time": "2020-05-20T03:11:29.040125Z"
    },
    "colab": {},
    "colab_type": "code",
    "id": "mPlPeXs5a8qE"
   },
   "outputs": [],
   "source": []
  },
  {
   "cell_type": "code",
   "execution_count": null,
   "metadata": {
    "ExecuteTime": {
     "end_time": "2020-05-20T03:40:14.694377Z",
     "start_time": "2020-05-20T03:40:14.691179Z"
    },
    "colab": {},
    "colab_type": "code",
    "id": "-KdDEfwza8qG"
   },
   "outputs": [],
   "source": []
  },
  {
   "cell_type": "code",
   "execution_count": null,
   "metadata": {
    "ExecuteTime": {
     "end_time": "2020-05-20T03:13:23.221555Z",
     "start_time": "2020-05-20T03:13:23.218130Z"
    }
   },
   "outputs": [],
   "source": []
  },
  {
   "cell_type": "markdown",
   "metadata": {
    "colab_type": "text",
    "id": "leopPbE3a8qJ"
   },
   "source": [
    "As a preview of what's to come in the next section with web scraping, we can use the lyrics_url you just grabbed to print out the lyrics to the song. <br><br>\n",
    "You don't have to worry too much about what the following cell contains or how it works. It basically is creating a request to the URL for the lyrics, scanning the page for where the lyrics are, and then grabbing the lyrics as text and returning them. <br><br>\n",
    "This uses a library called BeautifulSoup. You may have to install it first by running 'pip install bs4' in your terminal. <br><br>\n",
    "Go ahead and run the cells below. Just something cool to check out!"
   ]
  },
  {
   "cell_type": "code",
   "execution_count": 92,
   "metadata": {
    "ExecuteTime": {
     "end_time": "2020-05-20T03:13:25.854569Z",
     "start_time": "2020-05-20T03:13:25.662203Z"
    },
    "colab": {},
    "colab_type": "code",
    "id": "nPxX0bpoa8qK"
   },
   "outputs": [],
   "source": [
    "from bs4 import BeautifulSoup\n",
    "\n",
    "def scrape_song_url(url):\n",
    "    page = requests.get(url)\n",
    "    html = BeautifulSoup(page.text, 'html.parser')\n",
    "    lyrics = html.find('div', class_='lyrics').get_text()\n",
    "    return lyrics"
   ]
  },
  {
   "cell_type": "code",
   "execution_count": 7,
   "metadata": {
    "ExecuteTime": {
     "end_time": "2020-05-20T03:40:50.187407Z",
     "start_time": "2020-05-20T03:40:50.185387Z"
    },
    "colab": {},
    "colab_type": "code",
    "id": "EyYg2QtGa8qM"
   },
   "outputs": [],
   "source": [
    "## save the scraped lyrics as a new variable, lyrics\n"
   ]
  },
  {
   "cell_type": "code",
   "execution_count": null,
   "metadata": {
    "ExecuteTime": {
     "end_time": "2020-05-20T03:19:21.440155Z",
     "start_time": "2020-05-20T03:19:21.436848Z"
    },
    "colab": {},
    "colab_type": "code",
    "id": "ARtQ_GAFa8qj"
   },
   "outputs": [],
   "source": []
  },
  {
   "cell_type": "markdown",
   "metadata": {},
   "source": [
    "### Saving the data"
   ]
  },
  {
   "cell_type": "markdown",
   "metadata": {},
   "source": [
    "- Save the `response` key from your Genius API response as a new variable called `output`\n",
    "- Add an additional `lyrics` key with the lyrics scraped above\n",
    "- Your final dictionary should have 2 keys: `song` and `lyrics`"
   ]
  },
  {
   "cell_type": "code",
   "execution_count": 9,
   "metadata": {
    "ExecuteTime": {
     "end_time": "2020-05-20T03:41:13.271430Z",
     "start_time": "2020-05-20T03:41:13.269532Z"
    }
   },
   "outputs": [],
   "source": [
    "output= {}"
   ]
  },
  {
   "cell_type": "code",
   "execution_count": null,
   "metadata": {
    "ExecuteTime": {
     "end_time": "2020-05-20T03:22:01.965525Z",
     "start_time": "2020-05-20T03:22:01.963220Z"
    }
   },
   "outputs": [],
   "source": []
  },
  {
   "cell_type": "code",
   "execution_count": null,
   "metadata": {
    "ExecuteTime": {
     "end_time": "2020-05-20T03:22:06.091365Z",
     "start_time": "2020-05-20T03:22:06.087886Z"
    }
   },
   "outputs": [],
   "source": []
  },
  {
   "cell_type": "markdown",
   "metadata": {},
   "source": [
    "### Save `output` to a new json file called \"old_town_road_lyrics.json\""
   ]
  },
  {
   "cell_type": "code",
   "execution_count": null,
   "metadata": {
    "ExecuteTime": {
     "end_time": "2020-05-20T03:24:03.727949Z",
     "start_time": "2020-05-20T03:24:03.714434Z"
    }
   },
   "outputs": [],
   "source": []
  },
  {
   "cell_type": "markdown",
   "metadata": {},
   "source": [
    "### Finally, load back in the json file to confirm it saved correctly"
   ]
  },
  {
   "cell_type": "code",
   "execution_count": null,
   "metadata": {
    "ExecuteTime": {
     "end_time": "2020-05-20T03:24:45.456306Z",
     "start_time": "2020-05-20T03:24:45.451277Z"
    }
   },
   "outputs": [],
   "source": []
  },
  {
   "cell_type": "code",
   "execution_count": null,
   "metadata": {
    "ExecuteTime": {
     "end_time": "2020-05-20T03:25:03.750002Z",
     "start_time": "2020-05-20T03:25:03.746710Z"
    }
   },
   "outputs": [],
   "source": []
  },
  {
   "cell_type": "code",
   "execution_count": null,
   "metadata": {
    "ExecuteTime": {
     "end_time": "2020-05-20T03:25:07.851424Z",
     "start_time": "2020-05-20T03:25:07.847937Z"
    }
   },
   "outputs": [],
   "source": []
  },
  {
   "cell_type": "code",
   "execution_count": null,
   "metadata": {},
   "outputs": [],
   "source": []
  }
 ],
 "metadata": {
  "colab": {
   "collapsed_sections": [
    "1jI7bn8FO9ep",
    "D-erXFoDO9eq",
    "4zvEY-v8O9es",
    "vhZJDtmsO9ey"
   ],
   "name": "JSON, XML, Recursion Lesson - Solution.ipynb",
   "provenance": [],
   "toc_visible": true
  },
  "kernelspec": {
   "display_name": "Python 3",
   "language": "python",
   "name": "python3"
  },
  "language_info": {
   "codemirror_mode": {
    "name": "ipython",
    "version": 3
   },
   "file_extension": ".py",
   "mimetype": "text/x-python",
   "name": "python",
   "nbconvert_exporter": "python",
   "pygments_lexer": "ipython3",
   "version": "3.6.9"
  },
  "toc": {
   "base_numbering": 1,
   "nav_menu": {},
   "number_sections": false,
   "sideBar": true,
   "skip_h1_title": false,
   "title_cell": "Table of Contents",
   "title_sidebar": "Contents",
   "toc_cell": false,
   "toc_position": {
    "height": "calc(100% - 180px)",
    "left": "10px",
    "top": "150px",
    "width": "256px"
   },
   "toc_section_display": true,
   "toc_window_display": true
  },
  "widgets": {
   "application/vnd.jupyter.widget-state+json": {
    "093924e3049643ce90956fe2e14e0354": {
     "model_module": "@jupyter-widgets/base",
     "model_name": "LayoutModel",
     "state": {
      "_model_module": "@jupyter-widgets/base",
      "_model_module_version": "1.2.0",
      "_model_name": "LayoutModel",
      "_view_count": null,
      "_view_module": "@jupyter-widgets/base",
      "_view_module_version": "1.2.0",
      "_view_name": "LayoutView",
      "align_content": null,
      "align_items": null,
      "align_self": null,
      "border": null,
      "bottom": null,
      "display": null,
      "flex": null,
      "flex_flow": null,
      "grid_area": null,
      "grid_auto_columns": null,
      "grid_auto_flow": null,
      "grid_auto_rows": null,
      "grid_column": null,
      "grid_gap": null,
      "grid_row": null,
      "grid_template_areas": null,
      "grid_template_columns": null,
      "grid_template_rows": null,
      "height": null,
      "justify_content": null,
      "justify_items": null,
      "left": null,
      "margin": null,
      "max_height": null,
      "max_width": null,
      "min_height": null,
      "min_width": null,
      "object_fit": null,
      "object_position": null,
      "order": null,
      "overflow": null,
      "overflow_x": null,
      "overflow_y": null,
      "padding": null,
      "right": null,
      "top": null,
      "visibility": null,
      "width": null
     }
    },
    "211ac029094748dd8d8afabb802edb12": {
     "model_module": "@jupyter-widgets/base",
     "model_name": "LayoutModel",
     "state": {
      "_model_module": "@jupyter-widgets/base",
      "_model_module_version": "1.2.0",
      "_model_name": "LayoutModel",
      "_view_count": null,
      "_view_module": "@jupyter-widgets/base",
      "_view_module_version": "1.2.0",
      "_view_name": "LayoutView",
      "align_content": null,
      "align_items": null,
      "align_self": null,
      "border": null,
      "bottom": null,
      "display": null,
      "flex": null,
      "flex_flow": null,
      "grid_area": null,
      "grid_auto_columns": null,
      "grid_auto_flow": null,
      "grid_auto_rows": null,
      "grid_column": null,
      "grid_gap": null,
      "grid_row": null,
      "grid_template_areas": null,
      "grid_template_columns": null,
      "grid_template_rows": null,
      "height": null,
      "justify_content": null,
      "justify_items": null,
      "left": null,
      "margin": null,
      "max_height": null,
      "max_width": null,
      "min_height": null,
      "min_width": null,
      "object_fit": null,
      "object_position": null,
      "order": null,
      "overflow": null,
      "overflow_x": null,
      "overflow_y": null,
      "padding": null,
      "right": null,
      "top": null,
      "visibility": null,
      "width": null
     }
    },
    "2e63f82fda3d4e3684c5e2dd8ef2a875": {
     "model_module": "@jupyter-widgets/output",
     "model_name": "OutputModel",
     "state": {
      "_dom_classes": [],
      "_model_module": "@jupyter-widgets/output",
      "_model_module_version": "1.0.0",
      "_model_name": "OutputModel",
      "_view_count": null,
      "_view_module": "@jupyter-widgets/output",
      "_view_module_version": "1.0.0",
      "_view_name": "OutputView",
      "layout": "IPY_MODEL_9be15768cd9a49ee86abeb7f6971e5a6",
      "msg_id": "",
      "outputs": [
       {
        "metadata": {
         "tags": []
        },
        "output_type": "stream",
        "stream": "stdout",
        "text": "['3JZctpS8BU9gWlIhp4mVMF',\n 'Night',\n 'Jasper Byrne',\n 'Night',\n 'GBKQU1903669',\n '2019-09-29 00:02',\n 'colortheory']\n"
       },
       {
        "metadata": {
         "tags": []
        },
        "output_type": "display_data",
        "text/plain": "None"
       }
      ]
     }
    },
    "4a7392b720674c2db99ed85cc0995fdf": {
     "model_module": "@jupyter-widgets/controls",
     "model_name": "VBoxModel",
     "state": {
      "_dom_classes": [
       "widget-interact"
      ],
      "_model_module": "@jupyter-widgets/controls",
      "_model_module_version": "1.5.0",
      "_model_name": "VBoxModel",
      "_view_count": null,
      "_view_module": "@jupyter-widgets/controls",
      "_view_module_version": "1.5.0",
      "_view_name": "VBoxView",
      "box_style": "",
      "children": [
       "IPY_MODEL_5266c7530a844cae9c884586f9529868",
       "IPY_MODEL_2e63f82fda3d4e3684c5e2dd8ef2a875"
      ],
      "layout": "IPY_MODEL_211ac029094748dd8d8afabb802edb12"
     }
    },
    "5266c7530a844cae9c884586f9529868": {
     "model_module": "@jupyter-widgets/controls",
     "model_name": "DropdownModel",
     "state": {
      "_dom_classes": [],
      "_model_module": "@jupyter-widgets/controls",
      "_model_module_version": "1.5.0",
      "_model_name": "DropdownModel",
      "_options_labels": [
       "['3JZctpS8BU9gWlIhp4mVMF', 'Night', 'Jasper Byrne', 'Night', 'GBKQU1903669', '2019-09-29 00:02', 'colortheory']",
       "['6Xh00IXFAeTkHRVMfLXcAX', 'Final Straw', 'Siamese Youth', 'Electric Dreams', 'TCAEH1964680', '2019-09-29 00:03', 'colortheory']",
       "['1oZTt7uqD3XhRLgVbz3SWn', 'Fires in the Snow', 'ZETA', 'Zeta', 'UK2D51700064', '2019-09-29 00:04', 'colortheory']",
       "['3BPQBRJn4sL6pUpBbOKXOt', 'Planes of Mind', 'Robots With Rayguns, Thought Beings', 'C U L T P O P', 'QZHN41973533', '2019-09-28 03:33', 'colortheory']",
       "['0TV0grlrGvXok97rYGh37P', 'Motorway (Radio Edit)', 'From Apes to Angels', 'Motorway (Radio Edit)', 'ushm81982193', '2019-09-25 23:01', 'colortheory']",
       "['0xe92GsdrKPQ38ynSyh58K', 'Sleepless Nights', 'Fury Weekend, PRIZM', 'Sleepless Nights (feat. PRIZM)', 'QM5LC1900174', '2019-09-24 22:26', 'colortheory']",
       "['157mghjuWiczjxwlxolwQz', 'Golden - Single Edit', 'Parallels, Chris Huggett', 'Golden', 'QZFZ71948494', '2019-09-18 02:38', 'colortheory']",
       "['1Kb3A2vKBl7escS4aMjzCY', 'Better Days', 'Chada', 'Better Days EP', 'QZFZ21997614', '2019-09-18 02:38', 'colortheory']",
       "['3olmUEg6hMJY7XHr26n5y0', 'Gamble', 'DJ Ten, Immortal Girlfriend', 'Gamble', 'TCAEK1974459', '2019-09-18 02:38', 'colortheory']",
       "['76IxZU5Au7NFiF4WfIrimV', 'Call It Safe', 'Canter', 'Call It Safe', 'USLS51950707', '2019-09-18 02:38', 'colortheory']",
       "['4gHB7rrNH8GPNBGnMNUUWB', 'Mountains', 'Bat For Lashes', 'Lost Girls', 'GBWWP1905074', '2019-09-13 05:02', 'colortheory']",
       "['6kwkvjDCg71HR5eWWuHq6D', 'Phobiac (The Alphabet Zero Remix)', 'Color Theory, The Alphabet Zero', 'Phobiac', 'USEMD1900018', '2019-09-13 05:03', 'colortheory']",
       "['2Ksi9aJJz31R75ucU035ri', 'The Visit', 'XENNON, Allie', 'MIAMI COP', 'GBSMU6806542', '2019-09-11 17:49', 'colortheory']",
       "['0OVyRBaX0MswoYWXOovGXg', 'We Were Young', 'PRIZM', 'We Were Young', 'QM5LC1900141', '2019-09-07 01:58', 'colortheory']",
       "['5vQGnYQFRGWK2lid0XUcfW', 'Rabbit Hole Chasing You', 'morgan willis, Kel', 'Rabbit Hole Chasing You', 'GBSMU6746193', '2019-09-07 02:04', 'colortheory']",
       "['4B1ZNrhglIa1GZtGU8jcGH', 'Into the Unknown', 'New Arcades', 'Into the Unknown', 'GBKPL1960110', '2019-09-07 01:58', 'colortheory']",
       "['7Jj8sgWh434DrrwURDPTmv', 'Bully', 'Megan McDuffee, River City Girls', 'River City Girls (Original Video Game Soundtrack)', 'QZFZ71961384', '2019-09-07 01:53', 'colortheory']",
       "['0btDgy72bj0OztCNXlHQj0', 'Georgetown', 'The Bad Dreamers', 'Georgetown', 'QM5LC1900137', '2019-09-07 01:46', 'colortheory']",
       "['5oTl6SQb5eBIy6fJv3W51l', 'No Mind', 'Lucy In Disguise, Fashionista Boyfriend', 'Sunset Radio', 'GBSMU6644025', '2019-08-31 03:37', 'colortheory']",
       "['2IWGKQuGSaitLKNbookCnK', 'Nostalgia', 'Space March', 'Nostalgia', 'ushm81906941', '2019-08-26 02:29', 'colortheory']",
       "['0lvZ61wMuKAR28aIq7VFcO', 'Lady of the Midnight', 'E.M. Watson', 'Lady of the Midnight', 'QZFZ41979421', '2019-08-26 02:27', 'colortheory']",
       "['3pNYy5YorVBDgLx3J4IVdo', 'Evergreen 143', 'Electric Youth', 'Memory Emotion', 'TCAEI1942974', '2019-08-17 00:43', 'colortheory']",
       "['4YYbCuY4HfQoknpPfL5P2C', 'Mixtape', 'W O L F C L U B', 'Frontiers', 'TCAEH1964112', '2019-08-13 01:20', 'colortheory']",
       "['6o88gUa4Q0pcxjR6SQof2n', 'Something Real', 'Let Em Riot', 'Something Real', 'QZFZ21922530', '2019-08-02 22:12', 'colortheory']",
       "['2LhcnGmyfKlSDSbluVmC9S', 'Set Me Free - Sellorekt la Dreams Remix', 'Night Vision, Sellorekt la Dreams', 'Set Me Free', 'QZFZ21949529', '2019-08-03 04:24', 'colortheory']",
       "['57lOqXjgSmwrKOBsGrRmTR', 'Burning Up', 'Korine', 'New Arrangements', 'TCADU1810388', '2019-08-02 22:03', 'colortheory']",
       "['5nus8X6ZOfxuRvESf19FIL', 'Little M00nsters', 'Six Leaves Left, Jennifer Pague', 'We Were Brave', 'QZFYY1959024', '2019-08-02 22:08', 'colortheory']",
       "['6zIpF6K3JjiE5Yc8gaZA2U', 'Overdrive', 'Swayze', 'Overdrive', 'QZDA61977789', '2019-08-02 22:10', 'colortheory']",
       "['5nxt6iquEraB0VbKllspwL', 'Headlights', 'The Less Dead', \"I Didn't Call\", 'QZFYY1998937', '2019-08-02 22:04', 'colortheory']",
       "['6ytmTEK826Dw4P4vrhQuRT', 'Teenage Feeling', 'The Alphabet Zero, Kellie Besch', 'Ghost of You', 'QZFZ21979447', '2019-07-19 16:32', 'colortheory']",
       "['0VtFL77qQHayo65LY0DXsG', \"I'm a Believer\", 'Ollie Wride', 'Thanks in Advance', 'TCAEH1968323', '2019-07-19 15:20', 'colortheory']",
       "['4AIX1HqLT9NsF0pyfM8nX4', 'The Last Picture Show', 'Arcade High', 'New Impressions', 'QZFYY1979580', '2019-07-13 01:32', 'colortheory']",
       "['5XrXUUXpORcaqrvD8emYgn', 'Rewind', 'Starunner, Megan McDuffee', 'Be Kind Rewind', 'QZFYY1959702', '2019-07-08 22:20', 'colortheory']",
       "['66Vx1Kx8jl6QfKpDKuZnoi', 'Holding My Breath (feat. Roniit)', 'Ace Marino, Roniit', 'Summer', 'QM5LC1900097', '2019-06-29 22:15', 'colortheory']",
       "['1k4OFyN29oGaE0CoZmoJYn', 'Eyes', 'Lost Outrider, New Arcades', 'Heart', 'QZFYX1969587', '2019-06-29 22:06', 'colortheory']",
       "['65jYFPppYyYAyQiCQvASQU', 'Under The Bridge', 'Jason Priest, Mecha Maiko', 'Nightmare Boy EP', 'UKGVH1940012', '2019-06-29 22:06', 'colortheory']",
       "['2ByhWgDGlg4sgtc9q9mfje', 'Replicant', 'Chris Keya, MenaK', 'Chaos Theory', 'GBSMU6135420', '2019-06-29 22:10', 'colortheory']",
       "['1phkvwWFskvIXAFrMv1z1G', 'Hearts on Fire', 'Moonrunner83, Josh Dally', 'Hearts on Fire', 'QZES81966084', '2019-06-15 18:36', 'colortheory']",
       "['6paa6GdJDXEIYszZ7NknYX', 'Keep You Whole', 'Lost Nights', 'Rewind', 'QZES91917820', '2019-06-15 18:39', 'colortheory']",
       "['3zdCSu9V1WNyDCoMtW4crA', 'Mixed Emotions', 'FM Attack, Vandal Moon', 'New World', 'TCAEA1846648', '2019-06-09 22:13', 'colortheory']",
       "['58EgLhi7Mk9xg4wJGxDdxV', 'Angel', 'Jessie Frye', 'Angel', 'QZFYW1920325', '2019-06-10 03:13', 'colortheory']",
       "['2sOazpKWYaYufUcpnfgyye', 'Modular Origami', 'Sferro, Mecha Maiko', 'Modular Origami', 'TCAEG1964595', '2019-06-10 03:15', 'colortheory']",
       "['3aH0IoylQIXlKNUCPNlG2h', 'Dangerous', 'Roxi Drive, Juno Dreams', 'Dangerous', 'QZFYW1978410', '2019-06-02 02:00', 'colortheory']",
       "['1RLHHpZTBYksONUtcemFLI', 'Desire', 'Neon Arcadia, Megan McDuffee', 'Desire', 'QZDA71917920', '2019-06-02 02:00', 'colortheory']",
       "['6q6yyevEVn0arB1udpR4Uy', \"Streets - Director's Cut\", 'Moonrunner83, Megan McDuffee', \"Streets (Director's Cut)\", 'GBSMU6377006', '2019-06-10 03:15', 'colortheory']",
       "['4BMIQluXC7mNyYqhDdgpp3', 'Still Your Blues - Night Raptor Remix', 'Joshua Fletcher, Night Raptor', 'Still Your Blues (Night Raptor Remix)', 'QZES61918093', '2019-05-10 16:59', 'colortheory']",
       "['2MnAs40kO1izWTF63MW5uM', 'America Online', 'The Midnight', 'America Online', 'QZES71913763', '2019-05-04 21:42', 'colortheory']",
       "['0m6tkHFv0IqDBaeaGPe8nB', 'My Delorean', 'Timecop1983, Primo', 'My Delorean', 'TCAEE1976758', '2019-05-04 21:43', 'colortheory']",
       "['171YmVvHKBtGPGNze8yCU2', 'Andrea', 'NeverMann, Hilda Denny', 'Andrea', 'NLS6R1821689', '2019-05-20 04:04', 'colortheory']",
       "['3nwwIRNanx0y1FVUG19WK7', 'This Could Be Love', 'Kidburn', 'This Could Be Love', 'TCADY1847450', '2019-05-20 04:05', 'colortheory']",
       "['46tEmI91nriN4GdJryxpRN', 'Phones', 'Mecha Maiko', 'Phones', 'USYBL1900837', '2019-04-27 00:18', 'colortheory']",
       "['0Z6Zq7lJSvrqGdZKrta8hW', 'Summer, 1983 - 7\" Version', '2DCAT', 'Summer, 1983', 'QZ5FN1969707', '2019-04-19 17:28', 'colortheory']",
       "['23LIFZrS0T5TYcFgfxijO1', 'Faces', 'Full Eclipse', 'Faces', 'QZES61951892', '2019-04-12 19:51', 'colortheory']",
       "['6ofpU5Oof4E3wkcUJr7cB0', 'To Be Continued', 'McRoi, Eva', 'To Be Continued', 'QZDA61947219', '2019-04-09 03:49', 'colortheory']",
       "['3gVwvMch9vzzJCEYwldOg9', 'December Rose', 'Dark Smoke Signal', 'December Rose', 'QZDA71998076', '2019-04-09 04:47', 'colortheory']",
       "['4tV5RpJ0dGai4Tb9CTP1sI', 'Impulsex', 'IcoS, SinDie', 'Impulsex', 'GBMA21827633', '2019-04-09 16:49', 'colortheory']",
       "['5zRfZkAbTmVjY8tvW8cHAg', 'Maker', 'Blaqk Audio', 'Only Things We Love', 'QMRSZ1802766', '2019-04-06 19:59', 'colortheory']",
       "['4O6pSwn4xxx8FdBBdqeEin', 'Out of Time', 'Kalax, PYXIS, Jay Diggs', 'III', 'QZDA41941262', '2019-03-28 15:31', 'colortheory']",
       "['3WsClp3ZeL176DP4sLZnhT', 'Shallow', 'Brothertiger', 'Shallow', 'QZ4JJ1971270', '2019-03-24 04:06', 'colortheory']",
       "['5OKbu3w2ius7FegZQb4k5c', 'Perfect Game (Robert Parker Remix)', 'Computer Magic, Robert Parker', 'Remixes, Vol. 1', 'TCAEC1979951', '2019-03-17 21:10', 'colortheory']",
       "['61aw1V0KLPD4XIjqNsGqo9', 'Forever (feat. The Hacker & Electric Youth)', 'Gesaffelstein, The Hacker, Electric Youth', 'Hyperion', 'USQX91803317', '2019-03-09 22:15', 'colortheory']",
       "['1ODjz2SVzahJIB4pE3ZTzn', 'Left Behind', 'Michael Oakley', 'Introspect', 'TCAEB1969240', '2019-03-09 22:12', 'colortheory']",
       "['5sRY5O53N0XfBBgJmb3zga', 'This Moment Forever', 'Futurecop!, Parallels', 'This Moment Forever', 'FR10S1951108', '2019-03-02 05:03', 'colortheory']",
       "['1sCEhIs4QSavD0YMffqvjk', 'The Alarm', 'All Hail The Silence', '‡', 'NLD681602839', '2019-03-01 19:55', 'colortheory']",
       "['1PBMfqfLz4LwSsnPuUF4u0', 'Let Go', 'Kalax, Anton Vic', 'Let Go', 'QZDA71906657', '2019-02-23 00:24', 'colortheory']",
       "['4IoCXKpR6xIZWAIU1o4Utp', 'Bend & Break', 'FM-84', 'Bend & Break', 'QZDA71919648', '2019-02-21 04:41', 'colortheory']",
       "['1XjW7XpnJ4VecD8erCL4TN', 'Clean Eyes - The Midnight Remix', 'SYML, The Midnight', 'Clean Eyes (The Midnight Remix)', 'CAN111800421', '2019-02-11 01:10', 'colortheory']",
       "['46SW9ZWkWN1Xjb3Yho8F1z', 'Reverie', 'Honey Beard', 'Reverie', 'TCADY1817181', '2019-01-30 01:01', 'colortheory']",
       "['44JsImLDyld9Da2vECWt9V', 'Hellbent on You', 'Mellow Fields, Mecha Maiko', 'Hellbent on You', 'QZ4JJ1860419', '2019-01-30 01:01', 'colortheory']",
       "['5Kmald6OVLHBmRlNfmmzF7', 'Be Alright', 'The Night Hour', 'Be Alright', 'QZ4JJ1948375', '2019-01-12 04:00', 'colortheory']"
      ],
      "_view_count": null,
      "_view_module": "@jupyter-widgets/controls",
      "_view_module_version": "1.5.0",
      "_view_name": "DropdownView",
      "description": "dict_to_display",
      "description_tooltip": null,
      "disabled": false,
      "index": 0,
      "layout": "IPY_MODEL_093924e3049643ce90956fe2e14e0354",
      "style": "IPY_MODEL_63d0178c02524de08370e3ea43aa0694"
     }
    },
    "63d0178c02524de08370e3ea43aa0694": {
     "model_module": "@jupyter-widgets/controls",
     "model_name": "DescriptionStyleModel",
     "state": {
      "_model_module": "@jupyter-widgets/controls",
      "_model_module_version": "1.5.0",
      "_model_name": "DescriptionStyleModel",
      "_view_count": null,
      "_view_module": "@jupyter-widgets/base",
      "_view_module_version": "1.2.0",
      "_view_name": "StyleView",
      "description_width": ""
     }
    }
   }
  }
 },
 "nbformat": 4,
 "nbformat_minor": 1
}

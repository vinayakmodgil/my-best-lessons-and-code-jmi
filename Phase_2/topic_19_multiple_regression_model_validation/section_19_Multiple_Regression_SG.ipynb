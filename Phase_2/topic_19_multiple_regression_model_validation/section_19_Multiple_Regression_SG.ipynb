{
 "cells": [
  {
   "cell_type": "markdown",
   "metadata": {
    "colab_type": "text",
    "id": "cJtmZmtMCE55"
   },
   "source": [
    "# SECTION 19: MULTIPLE LINEAR REGRESSION"
   ]
  },
  {
   "cell_type": "markdown",
   "metadata": {},
   "source": [
    "- online-ds-ft-070620\n",
    "- 08/20/20"
   ]
  },
  {
   "cell_type": "markdown",
   "metadata": {},
   "source": [
    "## Announcements"
   ]
  },
  {
   "cell_type": "markdown",
   "metadata": {},
   "source": [
    "- **Questions re: YouTube Playlist Video Changes to reduce delay**\n",
    "    - No title screens (just started)\n",
    "    - 720p Video (have been doing for a while. Has anyone had issues when watching study groups?)\n",
    "    \n",
    "\n",
    "    "
   ]
  },
  {
   "cell_type": "markdown",
   "metadata": {},
   "source": [
    "## Resources:"
   ]
  },
  {
   "cell_type": "markdown",
   "metadata": {},
   "source": [
    "- **[OSEMN Data Science Workflow Notebook](https://github.com/jirvingphd/fsds-osemn-workflow)**\n",
    "    - `student_OSEMN.ipynb`: also included in notes repo"
   ]
  },
  {
   "cell_type": "markdown",
   "metadata": {
    "colab_type": "text",
    "id": "wi_LF1BzrcQ0"
   },
   "source": [
    "## LEARNING OBJECTIVES"
   ]
  },
  {
   "cell_type": "markdown",
   "metadata": {
    "colab_type": "text",
    "id": "wi_LF1BzrcQ0"
   },
   "source": [
    "- Learn how to expand our last lesson to include multiple independent variables.\n",
    "- Learn ways to deal with categorical variables.\n",
    "- Learn about multicollinearity of features\n",
    "- Learn about how to improve a baseline model based on results\n",
    "- Learn how to run a multiple regression using statsmodels\n",
    "\n",
    "<!-- ### TOPICS:\n",
    "\n",
    "#### Part 1 \n",
    "- Multiple Linear Regression\n",
    "- Dealing with Categorical Variables\n",
    "- Multicollinearity of Features\n",
    "- Multiple Linear Regression in Statsmodels\n",
    "\n",
    "#### Part 2\n",
    "- Feature Scaling & Normalization\n",
    "- Model Fit and Validation/Cross Validation -->"
   ]
  },
  {
   "cell_type": "markdown",
   "metadata": {
    "colab_type": "text",
    "id": "GnvMyBX-re5C"
   },
   "source": [
    "## Questions?\n",
    "\n"
   ]
  },
  {
   "cell_type": "markdown",
   "metadata": {},
   "source": [
    "- Introduction to Cross-Validation - Lab - Cross-Validation using Scikit-Learn solution\n",
    "\n",
    "- Multiple Linear Regression in Statsmodels - Lab \n",
    "    - is there a way to easily create the regression equation when there are so many coefficients?\n",
    "\n",
    "\n",
    "- Can we possibly work through a full practical linear regression workflow from start to finish? \n",
    "    - Stats testing the data for assumptions, splitting, training, testing, validation, and inference or prediction results to get a fuller understanding of the realistic linear regression workflow as it pertains to the job.\n"
   ]
  },
  {
   "cell_type": "markdown",
   "metadata": {
    "colab_type": "text",
    "id": "2P7o3jg2zfSC"
   },
   "source": [
    "# PREVIOUSLY ON..."
   ]
  },
  {
   "cell_type": "markdown",
   "metadata": {
    "colab_type": "text",
    "id": "Gf2OdhZ6n9_V"
   },
   "source": [
    "## Single Linear Regression"
   ]
  },
  {
   "cell_type": "markdown",
   "metadata": {
    "colab_type": "text",
    "id": "iiQhSaORoC-f"
   },
   "source": [
    "- We discussed how the mean is our worst model.\n",
    "\n",
    "- We discussed the assumptions for a linear regression:\n",
    "    - Linear relationship between predictor and target variable.\n",
    "    - Predictor (x) and its error terms have a normal distribution\n",
    "    - Homoskedasticity ( variance of residuals is constant)\n",
    "    \n",
    "- We learned how to run a single regession in statsmodels"
   ]
  },
  {
   "cell_type": "code",
   "execution_count": 1,
   "metadata": {
    "ExecuteTime": {
     "end_time": "2020-08-20T17:38:55.994025Z",
     "start_time": "2020-08-20T17:38:48.594054Z"
    }
   },
   "outputs": [
    {
     "name": "stdout",
     "output_type": "stream",
     "text": [
      "fsds v0.2.23 loaded.  Read the docs: https://fs-ds.readthedocs.io/en/latest/ \n"
     ]
    },
    {
     "data": {
      "text/html": [
       "<style  type=\"text/css\" >\n",
       "</style><table id=\"T_05253966_e30c_11ea_a57e_4865ee12e626\" ><caption>Loaded Packages and Handles</caption><thead>    <tr>        <th class=\"col_heading level0 col0\" >Handle</th>        <th class=\"col_heading level0 col1\" >Package</th>        <th class=\"col_heading level0 col2\" >Description</th>    </tr></thead><tbody>\n",
       "                <tr>\n",
       "                                <td id=\"T_05253966_e30c_11ea_a57e_4865ee12e626row0_col0\" class=\"data row0 col0\" >dp</td>\n",
       "                        <td id=\"T_05253966_e30c_11ea_a57e_4865ee12e626row0_col1\" class=\"data row0 col1\" >IPython.display</td>\n",
       "                        <td id=\"T_05253966_e30c_11ea_a57e_4865ee12e626row0_col2\" class=\"data row0 col2\" >Display modules with helpful display and clearing commands.</td>\n",
       "            </tr>\n",
       "            <tr>\n",
       "                                <td id=\"T_05253966_e30c_11ea_a57e_4865ee12e626row1_col0\" class=\"data row1 col0\" >fs</td>\n",
       "                        <td id=\"T_05253966_e30c_11ea_a57e_4865ee12e626row1_col1\" class=\"data row1 col1\" >fsds</td>\n",
       "                        <td id=\"T_05253966_e30c_11ea_a57e_4865ee12e626row1_col2\" class=\"data row1 col2\" >Custom data science bootcamp student package</td>\n",
       "            </tr>\n",
       "            <tr>\n",
       "                                <td id=\"T_05253966_e30c_11ea_a57e_4865ee12e626row2_col0\" class=\"data row2 col0\" >mpl</td>\n",
       "                        <td id=\"T_05253966_e30c_11ea_a57e_4865ee12e626row2_col1\" class=\"data row2 col1\" >matplotlib</td>\n",
       "                        <td id=\"T_05253966_e30c_11ea_a57e_4865ee12e626row2_col2\" class=\"data row2 col2\" >Matplotlib's base OOP module with formatting artists</td>\n",
       "            </tr>\n",
       "            <tr>\n",
       "                                <td id=\"T_05253966_e30c_11ea_a57e_4865ee12e626row3_col0\" class=\"data row3 col0\" >plt</td>\n",
       "                        <td id=\"T_05253966_e30c_11ea_a57e_4865ee12e626row3_col1\" class=\"data row3 col1\" >matplotlib.pyplot</td>\n",
       "                        <td id=\"T_05253966_e30c_11ea_a57e_4865ee12e626row3_col2\" class=\"data row3 col2\" >Matplotlib's matlab-like plotting module</td>\n",
       "            </tr>\n",
       "            <tr>\n",
       "                                <td id=\"T_05253966_e30c_11ea_a57e_4865ee12e626row4_col0\" class=\"data row4 col0\" >np</td>\n",
       "                        <td id=\"T_05253966_e30c_11ea_a57e_4865ee12e626row4_col1\" class=\"data row4 col1\" >numpy</td>\n",
       "                        <td id=\"T_05253966_e30c_11ea_a57e_4865ee12e626row4_col2\" class=\"data row4 col2\" >scientific computing with Python</td>\n",
       "            </tr>\n",
       "            <tr>\n",
       "                                <td id=\"T_05253966_e30c_11ea_a57e_4865ee12e626row5_col0\" class=\"data row5 col0\" >pd</td>\n",
       "                        <td id=\"T_05253966_e30c_11ea_a57e_4865ee12e626row5_col1\" class=\"data row5 col1\" >pandas</td>\n",
       "                        <td id=\"T_05253966_e30c_11ea_a57e_4865ee12e626row5_col2\" class=\"data row5 col2\" >High performance data structures and tools</td>\n",
       "            </tr>\n",
       "            <tr>\n",
       "                                <td id=\"T_05253966_e30c_11ea_a57e_4865ee12e626row6_col0\" class=\"data row6 col0\" >sns</td>\n",
       "                        <td id=\"T_05253966_e30c_11ea_a57e_4865ee12e626row6_col1\" class=\"data row6 col1\" >seaborn</td>\n",
       "                        <td id=\"T_05253966_e30c_11ea_a57e_4865ee12e626row6_col2\" class=\"data row6 col2\" >High-level data visualization library based on matplotlib</td>\n",
       "            </tr>\n",
       "    </tbody></table>"
      ],
      "text/plain": [
       "<pandas.io.formats.style.Styler at 0x11427c898>"
      ]
     },
     "metadata": {},
     "output_type": "display_data"
    },
    {
     "data": {
      "text/html": [
       "        <script type=\"text/javascript\">\n",
       "        window.PlotlyConfig = {MathJaxConfig: 'local'};\n",
       "        if (window.MathJax) {MathJax.Hub.Config({SVG: {font: \"STIX-Web\"}});}\n",
       "        if (typeof require !== 'undefined') {\n",
       "        require.undef(\"plotly\");\n",
       "        requirejs.config({\n",
       "            paths: {\n",
       "                'plotly': ['https://cdn.plot.ly/plotly-latest.min']\n",
       "            }\n",
       "        });\n",
       "        require(['plotly'], function(Plotly) {\n",
       "            window._Plotly = Plotly;\n",
       "        });\n",
       "        }\n",
       "        </script>\n",
       "        "
      ]
     },
     "metadata": {},
     "output_type": "display_data"
    },
    {
     "data": {
      "text/html": [
       "        <script type=\"text/javascript\">\n",
       "        window.PlotlyConfig = {MathJaxConfig: 'local'};\n",
       "        if (window.MathJax) {MathJax.Hub.Config({SVG: {font: \"STIX-Web\"}});}\n",
       "        if (typeof require !== 'undefined') {\n",
       "        require.undef(\"plotly\");\n",
       "        requirejs.config({\n",
       "            paths: {\n",
       "                'plotly': ['https://cdn.plot.ly/plotly-latest.min']\n",
       "            }\n",
       "        });\n",
       "        require(['plotly'], function(Plotly) {\n",
       "            window._Plotly = Plotly;\n",
       "        });\n",
       "        }\n",
       "        </script>\n",
       "        "
      ]
     },
     "metadata": {},
     "output_type": "display_data"
    },
    {
     "name": "stdout",
     "output_type": "stream",
     "text": [
      "[i] Pandas .iplot() method activated.\n"
     ]
    }
   ],
   "source": [
    "!pip install -U fsds\n",
    "from fsds.imports import *"
   ]
  },
  {
   "cell_type": "code",
   "execution_count": 2,
   "metadata": {
    "ExecuteTime": {
     "end_time": "2020-08-20T17:38:55.997903Z",
     "start_time": "2020-08-20T17:38:55.995372Z"
    }
   },
   "outputs": [],
   "source": [
    "plt.style.use('fivethirtyeight')\n",
    "plt.rcParams['figure.figsize'] = [10,6]"
   ]
  },
  {
   "cell_type": "code",
   "execution_count": 3,
   "metadata": {
    "ExecuteTime": {
     "end_time": "2020-08-20T17:38:56.242734Z",
     "start_time": "2020-08-20T17:38:55.999313Z"
    }
   },
   "outputs": [],
   "source": [
    "import statsmodels.api as sm\n",
    "import statsmodels.stats.api as sms\n",
    "import statsmodels.formula.api as smf\n",
    "import scipy.stats as stats\n",
    "\n",
    "import warnings\n",
    "# warnings.filterwarnings('ignore')"
   ]
  },
  {
   "cell_type": "code",
   "execution_count": 4,
   "metadata": {
    "ExecuteTime": {
     "end_time": "2020-08-20T17:38:57.408568Z",
     "start_time": "2020-08-20T17:38:56.244176Z"
    }
   },
   "outputs": [],
   "source": [
    "## Load in ames dataset\n",
    "df = fs.datasets.load_ames_train(subset=True)\n",
    "\n",
    "## Preview Data\n",
    "# display(df.head());\n",
    "\n",
    "## Save Columns of Interest\n",
    "X = df['GrLivArea'].copy()\n",
    "y = df['SalePrice'].copy()"
   ]
  },
  {
   "cell_type": "code",
   "execution_count": 5,
   "metadata": {
    "ExecuteTime": {
     "end_time": "2020-08-20T17:38:57.623802Z",
     "start_time": "2020-08-20T17:38:57.410001Z"
    },
    "scrolled": false
   },
   "outputs": [
    {
     "data": {
      "text/plain": [
       "(<Figure size 720x432 with 1 Axes>,\n",
       " <AxesSubplot:title={'center':'GrLivArea vs SalePrice'}, xlabel='GrLivArea', ylabel='SalePrice'>)"
      ]
     },
     "execution_count": 5,
     "metadata": {},
     "output_type": "execute_result"
    },
    {
     "data": {
      "image/png": "[encoded data removed]",
      "text/plain": [
       "<Figure size 720x432 with 1 Axes>"
      ]
     },
     "metadata": {},
     "output_type": "display_data"
    }
   ],
   "source": [
    "\n",
    "## Formatting \n",
    "priceFmt = mpl.ticker.StrMethodFormatter(\"${x:,.0f}\")\n",
    "\n",
    "## Scatter Plots for Linearity Check\n",
    "def plot_data(X,y,xlabel='GrLivArea',ylabel='SalePrice'):\n",
    "    \n",
    "    fig, ax = plt.subplots()\n",
    "    \n",
    "    ax.scatter(X,y,marker='.')\n",
    "    \n",
    "    ax.set(xlabel=xlabel,ylabel=ylabel)\n",
    "    ax.set_title(f'{xlabel} vs {ylabel}')\n",
    "    \n",
    "    ax.yaxis.set_major_formatter(priceFmt)\n",
    "    return fig,ax\n",
    "\n",
    "plot_data(X,y)"
   ]
  },
  {
   "cell_type": "code",
   "execution_count": 6,
   "metadata": {
    "ExecuteTime": {
     "end_time": "2020-08-20T17:38:57.949882Z",
     "start_time": "2020-08-20T17:38:57.624779Z"
    }
   },
   "outputs": [
    {
     "data": {
      "image/png": "[encoded data removed]",
      "text/plain": [
       "<Figure size 720x432 with 1 Axes>"
      ]
     },
     "metadata": {},
     "output_type": "display_data"
    }
   ],
   "source": [
    "## Check Linearity \n",
    "ax = sns.regplot(X,y,line_kws={'color':'green','ls':'--'})"
   ]
  },
  {
   "cell_type": "code",
   "execution_count": 7,
   "metadata": {
    "ExecuteTime": {
     "end_time": "2020-08-20T17:38:57.955357Z",
     "start_time": "2020-08-20T17:38:57.951264Z"
    }
   },
   "outputs": [
    {
     "data": {
      "text/plain": [
       "214000.0"
      ]
     },
     "execution_count": 7,
     "metadata": {},
     "output_type": "execute_result"
    }
   ],
   "source": [
    "np.quantile(y,.75)"
   ]
  },
  {
   "cell_type": "code",
   "execution_count": null,
   "metadata": {},
   "outputs": [],
   "source": []
  },
  {
   "cell_type": "code",
   "execution_count": 8,
   "metadata": {
    "ExecuteTime": {
     "end_time": "2020-08-20T17:38:58.090004Z",
     "start_time": "2020-08-20T17:38:57.958061Z"
    }
   },
   "outputs": [
    {
     "data": {
      "image/png": "[encoded data removed]",
      "text/plain": [
       "<Figure size 720x432 with 1 Axes>"
      ]
     },
     "metadata": {},
     "output_type": "display_data"
    }
   ],
   "source": [
    "ax = sns.boxplot(y);\n",
    "q3 = np.quantile(y,.75)\n",
    "q1 = np.quantile(y,.25)\n",
    "IQR = q3 - q1\n",
    "ax.axvline(q3)\n",
    "upper_threshold = q3 + 1.5*IQR\n",
    "lower_threshold = q1 - 1.5*IQR\n",
    "\n",
    "# ax.axline(upper_threshold)\n"
   ]
  },
  {
   "cell_type": "code",
   "execution_count": 9,
   "metadata": {
    "ExecuteTime": {
     "end_time": "2020-08-20T17:38:58.095307Z",
     "start_time": "2020-08-20T17:38:58.091953Z"
    }
   },
   "outputs": [],
   "source": [
    "## Check for outliers\n",
    "from scipy import stats\n",
    "def find_outliers_z(data):\n",
    "    zFP = np.abs(stats.zscore(data))\n",
    "    zFP = pd.Series(zFP, index=data.index)\n",
    "    idx_outliers = zFP > 3\n",
    "    return idx_outliers"
   ]
  },
  {
   "cell_type": "code",
   "execution_count": 10,
   "metadata": {
    "ExecuteTime": {
     "end_time": "2020-08-20T17:38:58.103613Z",
     "start_time": "2020-08-20T17:38:58.097012Z"
    }
   },
   "outputs": [
    {
     "data": {
      "text/plain": [
       "16"
      ]
     },
     "execution_count": 10,
     "metadata": {},
     "output_type": "execute_result"
    }
   ],
   "source": [
    "## Get X outliers\n",
    "X_outliers = find_outliers_z(X)\n",
    "X_outliers.sum()"
   ]
  },
  {
   "cell_type": "code",
   "execution_count": 11,
   "metadata": {
    "ExecuteTime": {
     "end_time": "2020-08-20T17:38:58.109927Z",
     "start_time": "2020-08-20T17:38:58.105147Z"
    }
   },
   "outputs": [
    {
     "data": {
      "text/plain": [
       "22"
      ]
     },
     "execution_count": 11,
     "metadata": {},
     "output_type": "execute_result"
    }
   ],
   "source": [
    "## Get y outliers\n",
    "y_outliers = find_outliers_z(y)\n",
    "y_outliers.sum()"
   ]
  },
  {
   "cell_type": "code",
   "execution_count": 12,
   "metadata": {
    "ExecuteTime": {
     "end_time": "2020-08-20T17:38:58.113900Z",
     "start_time": "2020-08-20T17:38:58.111596Z"
    }
   },
   "outputs": [],
   "source": [
    "# ## Make a DataFrame of Outliers\n",
    "# df_outliers = pd.DataFrame({'X':X_outliers,\n",
    "#                            'y':y_outliers})\n",
    "# df_outliers['any'] = df_outliers.any(axis=1)\n",
    "# ## Add column of any outliers\n",
    "# df_outliers['any'].value_counts()\n",
    "\n",
    "# idx_outliers = df_outliers['any'].copy()\n",
    "# ~idx_outliers"
   ]
  },
  {
   "cell_type": "code",
   "execution_count": 13,
   "metadata": {
    "ExecuteTime": {
     "end_time": "2020-08-20T17:38:58.120080Z",
     "start_time": "2020-08-20T17:38:58.116039Z"
    }
   },
   "outputs": [
    {
     "data": {
      "text/plain": [
       "1460"
      ]
     },
     "execution_count": 13,
     "metadata": {},
     "output_type": "execute_result"
    }
   ],
   "source": [
    "len(X)"
   ]
  },
  {
   "cell_type": "code",
   "execution_count": 14,
   "metadata": {
    "ExecuteTime": {
     "end_time": "2020-08-20T17:38:58.126185Z",
     "start_time": "2020-08-20T17:38:58.121680Z"
    }
   },
   "outputs": [
    {
     "data": {
      "text/plain": [
       "(1460,)"
      ]
     },
     "execution_count": 14,
     "metadata": {},
     "output_type": "execute_result"
    }
   ],
   "source": [
    "idx_outliers = np.any(np.stack([X_outliers,y_outliers],axis=1), axis=1)\n",
    "idx_outliers.shape"
   ]
  },
  {
   "cell_type": "code",
   "execution_count": 15,
   "metadata": {
    "ExecuteTime": {
     "end_time": "2020-08-20T17:38:58.368702Z",
     "start_time": "2020-08-20T17:38:58.128154Z"
    }
   },
   "outputs": [
    {
     "data": {
      "text/plain": [
       "(<Figure size 720x432 with 1 Axes>,\n",
       " <AxesSubplot:title={'center':'GrLivArea vs SalePrice'}, xlabel='GrLivArea', ylabel='SalePrice'>)"
      ]
     },
     "execution_count": 15,
     "metadata": {},
     "output_type": "execute_result"
    },
    {
     "data": {
      "image/png": "[encoded data removed]",
      "text/plain": [
       "<Figure size 720x432 with 1 Axes>"
      ]
     },
     "metadata": {},
     "output_type": "display_data"
    }
   ],
   "source": [
    "## Create X_clean and y_clean wihtout outliers\n",
    "X_clean = X[~idx_outliers].copy()\n",
    "y_clean = y[~idx_outliers].copy()\n",
    "\n",
    "## Check data with plot_data\n",
    "plot_data(X_clean,y_clean)"
   ]
  },
  {
   "cell_type": "code",
   "execution_count": 16,
   "metadata": {
    "ExecuteTime": {
     "end_time": "2020-08-20T17:38:58.543030Z",
     "start_time": "2020-08-20T17:38:58.370165Z"
    }
   },
   "outputs": [
    {
     "data": {
      "text/plain": [
       "<AxesSubplot:xlabel='SalePrice'>"
      ]
     },
     "execution_count": 16,
     "metadata": {},
     "output_type": "execute_result"
    },
    {
     "data": {
      "image/png": "[encoded data removed]",
      "text/plain": [
       "<Figure size 720x432 with 1 Axes>"
      ]
     },
     "metadata": {},
     "output_type": "display_data"
    }
   ],
   "source": [
    "sns.boxplot(y_clean)"
   ]
  },
  {
   "cell_type": "code",
   "execution_count": 17,
   "metadata": {
    "ExecuteTime": {
     "end_time": "2020-08-20T17:38:58.549676Z",
     "start_time": "2020-08-20T17:38:58.544474Z"
    }
   },
   "outputs": [],
   "source": [
    "## Turn code above for checking normality into a function \n",
    "def check_normality(X,y):\n",
    "    ## Visualize Distributions of X and y and Check Normality\n",
    "    fig, axes = plt.subplots(ncols=2,figsize=(10,5))\n",
    "\n",
    "    sns.distplot(X, ax=axes[0], kde=False,bins='auto')\n",
    "    axes[0].set(xlabel='X')\n",
    "\n",
    "    sns.distplot(y, ax=axes[1], kde=False,bins='auto',color='orange')\n",
    "    axes[1].set(xlabel='y')\n",
    "\n",
    "    print(\"X Normality: \",stats.normaltest(X))\n",
    "    print(\"y Normality: \",stats.normaltest(y))\n",
    "    return fig, axes\n"
   ]
  },
  {
   "cell_type": "code",
   "execution_count": 18,
   "metadata": {
    "ExecuteTime": {
     "end_time": "2020-08-20T17:38:59.029963Z",
     "start_time": "2020-08-20T17:38:58.551347Z"
    }
   },
   "outputs": [
    {
     "name": "stdout",
     "output_type": "stream",
     "text": [
      "X Normality:  NormaltestResult(statistic=68.09608702296165, pvalue=1.633512955945694e-15)\n",
      "y Normality:  NormaltestResult(statistic=196.11538475675565, pvalue=2.5946888878777677e-43)\n"
     ]
    },
    {
     "data": {
      "text/plain": [
       "(<Figure size 720x360 with 2 Axes>,\n",
       " array([<AxesSubplot:xlabel='X'>, <AxesSubplot:xlabel='y'>], dtype=object))"
      ]
     },
     "execution_count": 18,
     "metadata": {},
     "output_type": "execute_result"
    },
    {
     "data": {
      "image/png": "[encoded data removed]",
      "text/plain": [
       "<Figure size 720x360 with 2 Axes>"
      ]
     },
     "metadata": {},
     "output_type": "display_data"
    }
   ],
   "source": [
    "check_normality(X_clean,y_clean)"
   ]
  },
  {
   "cell_type": "markdown",
   "metadata": {},
   "source": [
    "### OLS with Statsmodels (non-formula version)"
   ]
  },
  {
   "cell_type": "code",
   "execution_count": 19,
   "metadata": {
    "ExecuteTime": {
     "end_time": "2020-08-20T17:38:59.128061Z",
     "start_time": "2020-08-20T17:38:59.031278Z"
    }
   },
   "outputs": [
    {
     "data": {
      "text/html": [
       "<div>\n",
       "<style scoped>\n",
       "    .dataframe tbody tr th:only-of-type {\n",
       "        vertical-align: middle;\n",
       "    }\n",
       "\n",
       "    .dataframe tbody tr th {\n",
       "        vertical-align: top;\n",
       "    }\n",
       "\n",
       "    .dataframe thead th {\n",
       "        text-align: right;\n",
       "    }\n",
       "</style>\n",
       "<table border=\"1\" class=\"dataframe\">\n",
       "  <thead>\n",
       "    <tr style=\"text-align: right;\">\n",
       "      <th></th>\n",
       "      <th>const</th>\n",
       "      <th>GrLivArea</th>\n",
       "    </tr>\n",
       "  </thead>\n",
       "  <tbody>\n",
       "    <tr>\n",
       "      <th>0</th>\n",
       "      <td>1.0</td>\n",
       "      <td>1710</td>\n",
       "    </tr>\n",
       "    <tr>\n",
       "      <th>1</th>\n",
       "      <td>1.0</td>\n",
       "      <td>1262</td>\n",
       "    </tr>\n",
       "    <tr>\n",
       "      <th>2</th>\n",
       "      <td>1.0</td>\n",
       "      <td>1786</td>\n",
       "    </tr>\n",
       "    <tr>\n",
       "      <th>3</th>\n",
       "      <td>1.0</td>\n",
       "      <td>1717</td>\n",
       "    </tr>\n",
       "    <tr>\n",
       "      <th>4</th>\n",
       "      <td>1.0</td>\n",
       "      <td>2198</td>\n",
       "    </tr>\n",
       "    <tr>\n",
       "      <th>...</th>\n",
       "      <td>...</td>\n",
       "      <td>...</td>\n",
       "    </tr>\n",
       "    <tr>\n",
       "      <th>1455</th>\n",
       "      <td>1.0</td>\n",
       "      <td>1647</td>\n",
       "    </tr>\n",
       "    <tr>\n",
       "      <th>1456</th>\n",
       "      <td>1.0</td>\n",
       "      <td>2073</td>\n",
       "    </tr>\n",
       "    <tr>\n",
       "      <th>1457</th>\n",
       "      <td>1.0</td>\n",
       "      <td>2340</td>\n",
       "    </tr>\n",
       "    <tr>\n",
       "      <th>1458</th>\n",
       "      <td>1.0</td>\n",
       "      <td>1078</td>\n",
       "    </tr>\n",
       "    <tr>\n",
       "      <th>1459</th>\n",
       "      <td>1.0</td>\n",
       "      <td>1256</td>\n",
       "    </tr>\n",
       "  </tbody>\n",
       "</table>\n",
       "<p>1429 rows × 2 columns</p>\n",
       "</div>"
      ],
      "text/plain": [
       "      const  GrLivArea\n",
       "0       1.0       1710\n",
       "1       1.0       1262\n",
       "2       1.0       1786\n",
       "3       1.0       1717\n",
       "4       1.0       2198\n",
       "...     ...        ...\n",
       "1455    1.0       1647\n",
       "1456    1.0       2073\n",
       "1457    1.0       2340\n",
       "1458    1.0       1078\n",
       "1459    1.0       1256\n",
       "\n",
       "[1429 rows x 2 columns]"
      ]
     },
     "metadata": {},
     "output_type": "display_data"
    }
   ],
   "source": [
    "from statsmodels.regression.linear_model import OLS\n",
    "## Add a constant to X to include an intercept in our regression\n",
    "X_clean = sm.add_constant(X_clean)\n",
    "display(X_clean)"
   ]
  },
  {
   "cell_type": "code",
   "execution_count": 20,
   "metadata": {
    "ExecuteTime": {
     "end_time": "2020-08-20T17:38:59.154339Z",
     "start_time": "2020-08-20T17:38:59.130025Z"
    }
   },
   "outputs": [
    {
     "data": {
      "text/html": [
       "<table class=\"simpletable\">\n",
       "<caption>OLS Regression Results</caption>\n",
       "<tr>\n",
       "  <th>Dep. Variable:</th>        <td>SalePrice</td>    <th>  R-squared:         </th> <td>   0.483</td> \n",
       "</tr>\n",
       "<tr>\n",
       "  <th>Model:</th>                   <td>OLS</td>       <th>  Adj. R-squared:    </th> <td>   0.482</td> \n",
       "</tr>\n",
       "<tr>\n",
       "  <th>Method:</th>             <td>Least Squares</td>  <th>  F-statistic:       </th> <td>   1331.</td> \n",
       "</tr>\n",
       "<tr>\n",
       "  <th>Date:</th>             <td>Thu, 20 Aug 2020</td> <th>  Prob (F-statistic):</th> <td>1.86e-206</td>\n",
       "</tr>\n",
       "<tr>\n",
       "  <th>Time:</th>                 <td>13:38:59</td>     <th>  Log-Likelihood:    </th> <td> -17432.</td> \n",
       "</tr>\n",
       "<tr>\n",
       "  <th>No. Observations:</th>      <td>  1429</td>      <th>  AIC:               </th> <td>3.487e+04</td>\n",
       "</tr>\n",
       "<tr>\n",
       "  <th>Df Residuals:</th>          <td>  1427</td>      <th>  BIC:               </th> <td>3.488e+04</td>\n",
       "</tr>\n",
       "<tr>\n",
       "  <th>Df Model:</th>              <td>     1</td>      <th>                     </th>     <td> </td>    \n",
       "</tr>\n",
       "<tr>\n",
       "  <th>Covariance Type:</th>      <td>nonrobust</td>    <th>                     </th>     <td> </td>    \n",
       "</tr>\n",
       "</table>\n",
       "<table class=\"simpletable\">\n",
       "<tr>\n",
       "      <td></td>         <th>coef</th>     <th>std err</th>      <th>t</th>      <th>P>|t|</th>  <th>[0.025</th>    <th>0.975]</th>  \n",
       "</tr>\n",
       "<tr>\n",
       "  <th>const</th>     <td> 2.572e+04</td> <td> 4288.726</td> <td>    5.998</td> <td> 0.000</td> <td> 1.73e+04</td> <td> 3.41e+04</td>\n",
       "</tr>\n",
       "<tr>\n",
       "  <th>GrLivArea</th> <td>  100.9178</td> <td>    2.766</td> <td>   36.487</td> <td> 0.000</td> <td>   95.492</td> <td>  106.343</td>\n",
       "</tr>\n",
       "</table>\n",
       "<table class=\"simpletable\">\n",
       "<tr>\n",
       "  <th>Omnibus:</th>       <td>132.385</td> <th>  Durbin-Watson:     </th> <td>   2.054</td>\n",
       "</tr>\n",
       "<tr>\n",
       "  <th>Prob(Omnibus):</th> <td> 0.000</td>  <th>  Jarque-Bera (JB):  </th> <td> 332.546</td>\n",
       "</tr>\n",
       "<tr>\n",
       "  <th>Skew:</th>          <td> 0.522</td>  <th>  Prob(JB):          </th> <td>6.15e-73</td>\n",
       "</tr>\n",
       "<tr>\n",
       "  <th>Kurtosis:</th>      <td> 5.121</td>  <th>  Cond. No.          </th> <td>5.23e+03</td>\n",
       "</tr>\n",
       "</table><br/><br/>Warnings:<br/>[1] Standard Errors assume that the covariance matrix of the errors is correctly specified.<br/>[2] The condition number is large, 5.23e+03. This might indicate that there are<br/>strong multicollinearity or other numerical problems."
      ],
      "text/plain": [
       "<class 'statsmodels.iolib.summary.Summary'>\n",
       "\"\"\"\n",
       "                            OLS Regression Results                            \n",
       "==============================================================================\n",
       "Dep. Variable:              SalePrice   R-squared:                       0.483\n",
       "Model:                            OLS   Adj. R-squared:                  0.482\n",
       "Method:                 Least Squares   F-statistic:                     1331.\n",
       "Date:                Thu, 20 Aug 2020   Prob (F-statistic):          1.86e-206\n",
       "Time:                        13:38:59   Log-Likelihood:                -17432.\n",
       "No. Observations:                1429   AIC:                         3.487e+04\n",
       "Df Residuals:                    1427   BIC:                         3.488e+04\n",
       "Df Model:                           1                                         \n",
       "Covariance Type:            nonrobust                                         \n",
       "==============================================================================\n",
       "                 coef    std err          t      P>|t|      [0.025      0.975]\n",
       "------------------------------------------------------------------------------\n",
       "const       2.572e+04   4288.726      5.998      0.000    1.73e+04    3.41e+04\n",
       "GrLivArea    100.9178      2.766     36.487      0.000      95.492     106.343\n",
       "==============================================================================\n",
       "Omnibus:                      132.385   Durbin-Watson:                   2.054\n",
       "Prob(Omnibus):                  0.000   Jarque-Bera (JB):              332.546\n",
       "Skew:                           0.522   Prob(JB):                     6.15e-73\n",
       "Kurtosis:                       5.121   Cond. No.                     5.23e+03\n",
       "==============================================================================\n",
       "\n",
       "Warnings:\n",
       "[1] Standard Errors assume that the covariance matrix of the errors is correctly specified.\n",
       "[2] The condition number is large, 5.23e+03. This might indicate that there are\n",
       "strong multicollinearity or other numerical problems.\n",
       "\"\"\""
      ]
     },
     "execution_count": 20,
     "metadata": {},
     "output_type": "execute_result"
    }
   ],
   "source": [
    "## Make an OLS linear model using original X and y\n",
    "model = OLS(y_clean,X_clean).fit()\n",
    "## Check model summary\n",
    "model.summary()"
   ]
  },
  {
   "cell_type": "code",
   "execution_count": 21,
   "metadata": {
    "ExecuteTime": {
     "end_time": "2020-08-20T17:38:59.370513Z",
     "start_time": "2020-08-20T17:38:59.156538Z"
    }
   },
   "outputs": [
    {
     "data": {
      "image/png": "[encoded data removed]",
      "text/plain": [
       "<Figure size 720x432 with 1 Axes>"
      ]
     },
     "metadata": {},
     "output_type": "display_data"
    }
   ],
   "source": [
    "fig = sm.graphics.qqplot(model.resid,dist=stats.norm,fit=True,line='45')"
   ]
  },
  {
   "cell_type": "markdown",
   "metadata": {},
   "source": [
    "### Not Covered Previously"
   ]
  },
  {
   "cell_type": "code",
   "execution_count": 22,
   "metadata": {
    "ExecuteTime": {
     "end_time": "2020-08-20T17:39:00.139455Z",
     "start_time": "2020-08-20T17:38:59.372164Z"
    }
   },
   "outputs": [
    {
     "data": {
      "image/png": "[encoded data removed]",
      "text/plain": [
       "<Figure size 864x576 with 4 Axes>"
      ]
     },
     "metadata": {},
     "output_type": "display_data"
    }
   ],
   "source": [
    "fig = sm.graphics.plot_regress_exog(model, \"GrLivArea\", fig=plt.figure(figsize=(12,8)))"
   ]
  },
  {
   "cell_type": "markdown",
   "metadata": {},
   "source": [
    "## Statsmodels OLS - Formula Version"
   ]
  },
  {
   "cell_type": "code",
   "execution_count": 23,
   "metadata": {
    "ExecuteTime": {
     "end_time": "2020-08-20T17:39:00.157776Z",
     "start_time": "2020-08-20T17:39:00.144185Z"
    }
   },
   "outputs": [
    {
     "data": {
      "text/html": [
       "<div>\n",
       "<style scoped>\n",
       "    .dataframe tbody tr th:only-of-type {\n",
       "        vertical-align: middle;\n",
       "    }\n",
       "\n",
       "    .dataframe tbody tr th {\n",
       "        vertical-align: top;\n",
       "    }\n",
       "\n",
       "    .dataframe thead th {\n",
       "        text-align: right;\n",
       "    }\n",
       "</style>\n",
       "<table border=\"1\" class=\"dataframe\">\n",
       "  <thead>\n",
       "    <tr style=\"text-align: right;\">\n",
       "      <th></th>\n",
       "      <th>YrSold</th>\n",
       "      <th>MoSold</th>\n",
       "      <th>Fireplaces</th>\n",
       "      <th>TotRmsAbvGrd</th>\n",
       "      <th>GrLivArea</th>\n",
       "      <th>FullBath</th>\n",
       "      <th>YearRemodAdd</th>\n",
       "      <th>YearBuilt</th>\n",
       "      <th>OverallCond</th>\n",
       "      <th>OverallQual</th>\n",
       "      <th>LotArea</th>\n",
       "      <th>SalePrice</th>\n",
       "    </tr>\n",
       "  </thead>\n",
       "  <tbody>\n",
       "    <tr>\n",
       "      <th>0</th>\n",
       "      <td>2008</td>\n",
       "      <td>2</td>\n",
       "      <td>0</td>\n",
       "      <td>8</td>\n",
       "      <td>1710</td>\n",
       "      <td>2</td>\n",
       "      <td>2003</td>\n",
       "      <td>2003</td>\n",
       "      <td>5</td>\n",
       "      <td>7</td>\n",
       "      <td>8450</td>\n",
       "      <td>208500</td>\n",
       "    </tr>\n",
       "    <tr>\n",
       "      <th>1</th>\n",
       "      <td>2007</td>\n",
       "      <td>5</td>\n",
       "      <td>1</td>\n",
       "      <td>6</td>\n",
       "      <td>1262</td>\n",
       "      <td>2</td>\n",
       "      <td>1976</td>\n",
       "      <td>1976</td>\n",
       "      <td>8</td>\n",
       "      <td>6</td>\n",
       "      <td>9600</td>\n",
       "      <td>181500</td>\n",
       "    </tr>\n",
       "    <tr>\n",
       "      <th>2</th>\n",
       "      <td>2008</td>\n",
       "      <td>9</td>\n",
       "      <td>1</td>\n",
       "      <td>6</td>\n",
       "      <td>1786</td>\n",
       "      <td>2</td>\n",
       "      <td>2002</td>\n",
       "      <td>2001</td>\n",
       "      <td>5</td>\n",
       "      <td>7</td>\n",
       "      <td>11250</td>\n",
       "      <td>223500</td>\n",
       "    </tr>\n",
       "    <tr>\n",
       "      <th>3</th>\n",
       "      <td>2006</td>\n",
       "      <td>2</td>\n",
       "      <td>1</td>\n",
       "      <td>7</td>\n",
       "      <td>1717</td>\n",
       "      <td>1</td>\n",
       "      <td>1970</td>\n",
       "      <td>1915</td>\n",
       "      <td>5</td>\n",
       "      <td>7</td>\n",
       "      <td>9550</td>\n",
       "      <td>140000</td>\n",
       "    </tr>\n",
       "    <tr>\n",
       "      <th>4</th>\n",
       "      <td>2008</td>\n",
       "      <td>12</td>\n",
       "      <td>1</td>\n",
       "      <td>9</td>\n",
       "      <td>2198</td>\n",
       "      <td>2</td>\n",
       "      <td>2000</td>\n",
       "      <td>2000</td>\n",
       "      <td>5</td>\n",
       "      <td>8</td>\n",
       "      <td>14260</td>\n",
       "      <td>250000</td>\n",
       "    </tr>\n",
       "    <tr>\n",
       "      <th>...</th>\n",
       "      <td>...</td>\n",
       "      <td>...</td>\n",
       "      <td>...</td>\n",
       "      <td>...</td>\n",
       "      <td>...</td>\n",
       "      <td>...</td>\n",
       "      <td>...</td>\n",
       "      <td>...</td>\n",
       "      <td>...</td>\n",
       "      <td>...</td>\n",
       "      <td>...</td>\n",
       "      <td>...</td>\n",
       "    </tr>\n",
       "    <tr>\n",
       "      <th>1455</th>\n",
       "      <td>2007</td>\n",
       "      <td>8</td>\n",
       "      <td>1</td>\n",
       "      <td>7</td>\n",
       "      <td>1647</td>\n",
       "      <td>2</td>\n",
       "      <td>2000</td>\n",
       "      <td>1999</td>\n",
       "      <td>5</td>\n",
       "      <td>6</td>\n",
       "      <td>7917</td>\n",
       "      <td>175000</td>\n",
       "    </tr>\n",
       "    <tr>\n",
       "      <th>1456</th>\n",
       "      <td>2010</td>\n",
       "      <td>2</td>\n",
       "      <td>2</td>\n",
       "      <td>7</td>\n",
       "      <td>2073</td>\n",
       "      <td>2</td>\n",
       "      <td>1988</td>\n",
       "      <td>1978</td>\n",
       "      <td>6</td>\n",
       "      <td>6</td>\n",
       "      <td>13175</td>\n",
       "      <td>210000</td>\n",
       "    </tr>\n",
       "    <tr>\n",
       "      <th>1457</th>\n",
       "      <td>2010</td>\n",
       "      <td>5</td>\n",
       "      <td>2</td>\n",
       "      <td>9</td>\n",
       "      <td>2340</td>\n",
       "      <td>2</td>\n",
       "      <td>2006</td>\n",
       "      <td>1941</td>\n",
       "      <td>9</td>\n",
       "      <td>7</td>\n",
       "      <td>9042</td>\n",
       "      <td>266500</td>\n",
       "    </tr>\n",
       "    <tr>\n",
       "      <th>1458</th>\n",
       "      <td>2010</td>\n",
       "      <td>4</td>\n",
       "      <td>0</td>\n",
       "      <td>5</td>\n",
       "      <td>1078</td>\n",
       "      <td>1</td>\n",
       "      <td>1996</td>\n",
       "      <td>1950</td>\n",
       "      <td>6</td>\n",
       "      <td>5</td>\n",
       "      <td>9717</td>\n",
       "      <td>142125</td>\n",
       "    </tr>\n",
       "    <tr>\n",
       "      <th>1459</th>\n",
       "      <td>2008</td>\n",
       "      <td>6</td>\n",
       "      <td>0</td>\n",
       "      <td>6</td>\n",
       "      <td>1256</td>\n",
       "      <td>1</td>\n",
       "      <td>1965</td>\n",
       "      <td>1965</td>\n",
       "      <td>6</td>\n",
       "      <td>5</td>\n",
       "      <td>9937</td>\n",
       "      <td>147500</td>\n",
       "    </tr>\n",
       "  </tbody>\n",
       "</table>\n",
       "<p>1429 rows × 12 columns</p>\n",
       "</div>"
      ],
      "text/plain": [
       "      YrSold  MoSold  Fireplaces  TotRmsAbvGrd  GrLivArea  FullBath  \\\n",
       "0       2008       2           0             8       1710         2   \n",
       "1       2007       5           1             6       1262         2   \n",
       "2       2008       9           1             6       1786         2   \n",
       "3       2006       2           1             7       1717         1   \n",
       "4       2008      12           1             9       2198         2   \n",
       "...      ...     ...         ...           ...        ...       ...   \n",
       "1455    2007       8           1             7       1647         2   \n",
       "1456    2010       2           2             7       2073         2   \n",
       "1457    2010       5           2             9       2340         2   \n",
       "1458    2010       4           0             5       1078         1   \n",
       "1459    2008       6           0             6       1256         1   \n",
       "\n",
       "      YearRemodAdd  YearBuilt  OverallCond  OverallQual  LotArea  SalePrice  \n",
       "0             2003       2003            5            7     8450     208500  \n",
       "1             1976       1976            8            6     9600     181500  \n",
       "2             2002       2001            5            7    11250     223500  \n",
       "3             1970       1915            5            7     9550     140000  \n",
       "4             2000       2000            5            8    14260     250000  \n",
       "...            ...        ...          ...          ...      ...        ...  \n",
       "1455          2000       1999            5            6     7917     175000  \n",
       "1456          1988       1978            6            6    13175     210000  \n",
       "1457          2006       1941            9            7     9042     266500  \n",
       "1458          1996       1950            6            5     9717     142125  \n",
       "1459          1965       1965            6            5     9937     147500  \n",
       "\n",
       "[1429 rows x 12 columns]"
      ]
     },
     "execution_count": 23,
     "metadata": {},
     "output_type": "execute_result"
    }
   ],
   "source": [
    "## Make our formula-based Regression\n",
    "import statsmodels.formula.api as smf\n",
    "df_clean = df[~idx_outliers].copy()\n",
    "df_clean"
   ]
  },
  {
   "cell_type": "code",
   "execution_count": 24,
   "metadata": {
    "ExecuteTime": {
     "end_time": "2020-08-20T17:39:00.924217Z",
     "start_time": "2020-08-20T17:39:00.160118Z"
    }
   },
   "outputs": [
    {
     "data": {
      "text/html": [
       "<table class=\"simpletable\">\n",
       "<caption>OLS Regression Results</caption>\n",
       "<tr>\n",
       "  <th>Dep. Variable:</th>        <td>SalePrice</td>    <th>  R-squared:         </th> <td>   0.483</td> \n",
       "</tr>\n",
       "<tr>\n",
       "  <th>Model:</th>                   <td>OLS</td>       <th>  Adj. R-squared:    </th> <td>   0.482</td> \n",
       "</tr>\n",
       "<tr>\n",
       "  <th>Method:</th>             <td>Least Squares</td>  <th>  F-statistic:       </th> <td>   1331.</td> \n",
       "</tr>\n",
       "<tr>\n",
       "  <th>Date:</th>             <td>Thu, 20 Aug 2020</td> <th>  Prob (F-statistic):</th> <td>1.86e-206</td>\n",
       "</tr>\n",
       "<tr>\n",
       "  <th>Time:</th>                 <td>13:39:00</td>     <th>  Log-Likelihood:    </th> <td> -17432.</td> \n",
       "</tr>\n",
       "<tr>\n",
       "  <th>No. Observations:</th>      <td>  1429</td>      <th>  AIC:               </th> <td>3.487e+04</td>\n",
       "</tr>\n",
       "<tr>\n",
       "  <th>Df Residuals:</th>          <td>  1427</td>      <th>  BIC:               </th> <td>3.488e+04</td>\n",
       "</tr>\n",
       "<tr>\n",
       "  <th>Df Model:</th>              <td>     1</td>      <th>                     </th>     <td> </td>    \n",
       "</tr>\n",
       "<tr>\n",
       "  <th>Covariance Type:</th>      <td>nonrobust</td>    <th>                     </th>     <td> </td>    \n",
       "</tr>\n",
       "</table>\n",
       "<table class=\"simpletable\">\n",
       "<tr>\n",
       "      <td></td>         <th>coef</th>     <th>std err</th>      <th>t</th>      <th>P>|t|</th>  <th>[0.025</th>    <th>0.975]</th>  \n",
       "</tr>\n",
       "<tr>\n",
       "  <th>Intercept</th> <td> 2.572e+04</td> <td> 4288.726</td> <td>    5.998</td> <td> 0.000</td> <td> 1.73e+04</td> <td> 3.41e+04</td>\n",
       "</tr>\n",
       "<tr>\n",
       "  <th>GrLivArea</th> <td>  100.9178</td> <td>    2.766</td> <td>   36.487</td> <td> 0.000</td> <td>   95.492</td> <td>  106.343</td>\n",
       "</tr>\n",
       "</table>\n",
       "<table class=\"simpletable\">\n",
       "<tr>\n",
       "  <th>Omnibus:</th>       <td>132.385</td> <th>  Durbin-Watson:     </th> <td>   2.054</td>\n",
       "</tr>\n",
       "<tr>\n",
       "  <th>Prob(Omnibus):</th> <td> 0.000</td>  <th>  Jarque-Bera (JB):  </th> <td> 332.546</td>\n",
       "</tr>\n",
       "<tr>\n",
       "  <th>Skew:</th>          <td> 0.522</td>  <th>  Prob(JB):          </th> <td>6.15e-73</td>\n",
       "</tr>\n",
       "<tr>\n",
       "  <th>Kurtosis:</th>      <td> 5.121</td>  <th>  Cond. No.          </th> <td>5.23e+03</td>\n",
       "</tr>\n",
       "</table><br/><br/>Warnings:<br/>[1] Standard Errors assume that the covariance matrix of the errors is correctly specified.<br/>[2] The condition number is large, 5.23e+03. This might indicate that there are<br/>strong multicollinearity or other numerical problems."
      ],
      "text/plain": [
       "<class 'statsmodels.iolib.summary.Summary'>\n",
       "\"\"\"\n",
       "                            OLS Regression Results                            \n",
       "==============================================================================\n",
       "Dep. Variable:              SalePrice   R-squared:                       0.483\n",
       "Model:                            OLS   Adj. R-squared:                  0.482\n",
       "Method:                 Least Squares   F-statistic:                     1331.\n",
       "Date:                Thu, 20 Aug 2020   Prob (F-statistic):          1.86e-206\n",
       "Time:                        13:39:00   Log-Likelihood:                -17432.\n",
       "No. Observations:                1429   AIC:                         3.487e+04\n",
       "Df Residuals:                    1427   BIC:                         3.488e+04\n",
       "Df Model:                           1                                         \n",
       "Covariance Type:            nonrobust                                         \n",
       "==============================================================================\n",
       "                 coef    std err          t      P>|t|      [0.025      0.975]\n",
       "------------------------------------------------------------------------------\n",
       "Intercept   2.572e+04   4288.726      5.998      0.000    1.73e+04    3.41e+04\n",
       "GrLivArea    100.9178      2.766     36.487      0.000      95.492     106.343\n",
       "==============================================================================\n",
       "Omnibus:                      132.385   Durbin-Watson:                   2.054\n",
       "Prob(Omnibus):                  0.000   Jarque-Bera (JB):              332.546\n",
       "Skew:                           0.522   Prob(JB):                     6.15e-73\n",
       "Kurtosis:                       5.121   Cond. No.                     5.23e+03\n",
       "==============================================================================\n",
       "\n",
       "Warnings:\n",
       "[1] Standard Errors assume that the covariance matrix of the errors is correctly specified.\n",
       "[2] The condition number is large, 5.23e+03. This might indicate that there are\n",
       "strong multicollinearity or other numerical problems.\n",
       "\"\"\""
      ]
     },
     "metadata": {},
     "output_type": "display_data"
    },
    {
     "data": {
      "image/png": "[encoded data removed]",
      "text/plain": [
       "<Figure size 720x432 with 1 Axes>"
      ]
     },
     "metadata": {},
     "output_type": "display_data"
    },
    {
     "data": {
      "image/png": "[encoded data removed]",
      "text/plain": [
       "<Figure size 864x576 with 4 Axes>"
      ]
     },
     "metadata": {},
     "output_type": "display_data"
    }
   ],
   "source": [
    "f = \"SalePrice~GrLivArea\"\n",
    "model = smf.ols(f,df_clean).fit()\n",
    "display(model.summary())\n",
    "fig = sm.graphics.qqplot(model.resid,dist=stats.norm,fit=True,line='45')\n",
    "fig = sm.graphics.plot_regress_exog(model, \"GrLivArea\", fig=plt.figure(figsize=(12,8)))"
   ]
  },
  {
   "cell_type": "code",
   "execution_count": null,
   "metadata": {
    "ExecuteTime": {
     "end_time": "2020-08-20T00:46:17.113574Z",
     "start_time": "2020-08-20T00:46:16.584126Z"
    }
   },
   "outputs": [],
   "source": []
  },
  {
   "cell_type": "markdown",
   "metadata": {
    "colab_type": "text",
    "id": "3duKbXvPCH76"
   },
   "source": [
    "# Multiple Linear Regression"
   ]
  },
  {
   "cell_type": "markdown",
   "metadata": {
    "colab_type": "text",
    "id": "Mv_UA43ADTwx"
   },
   "source": [
    "## Single Regression\n",
    " $$y=mx+b$$\n",
    "\n",
    " $$y = \\beta_1 x_1 + \\beta_0 $$\n",
    "\n",
    "<br><br>\n",
    "## Multiple Predictor/X Variables\n",
    "\n",
    "$$ y = \\beta_0 + \\beta_1 x_1 + \\beta_2 x_2 +\\ldots + \\beta_n x_n $$\n",
    "\n",
    "<img src=\"https://raw.githubusercontent.com/learn-co-students/dsc-multiple-linear-regression-online-ds-ft-100719/master/images/multiple_reg.png\" width=400>\n",
    "\n",
    "#### $\\hat Y$ vs $Y$\n",
    "\n",
    "\n",
    "- Y: Actual value corresponding to a specific X value\n",
    "\n",
    "- \"Y hat\" ($\\hat Y$): Predicted value predicted fromn a specific X value.\n",
    "\n",
    "\n",
    "$$ \\hat y = \\hat\\beta_0 + \\hat\\beta_1 x_1 + \\hat\\beta_2 x_2 +\\ldots + \\hat\\beta_n x_n $$ \n",
    "\n",
    "where $n$ is the number of predictors, $\\beta_0$ is the intercept, and $\\hat y$ is the so-called \"fitted line\" or the predicted value associated with the dependent variable."
   ]
  },
  {
   "cell_type": "code",
   "execution_count": 25,
   "metadata": {
    "ExecuteTime": {
     "end_time": "2020-08-20T17:39:00.927308Z",
     "start_time": "2020-08-20T17:39:00.925254Z"
    }
   },
   "outputs": [],
   "source": [
    "pd.set_option('display.max_columns',0)\n",
    "pd.set_option('display.float_format', lambda x: '%.3f' % x)"
   ]
  },
  {
   "cell_type": "code",
   "execution_count": 26,
   "metadata": {
    "ExecuteTime": {
     "end_time": "2020-08-20T17:39:01.380837Z",
     "start_time": "2020-08-20T17:39:00.928397Z"
    }
   },
   "outputs": [
    {
     "data": {
      "text/html": [
       "<div>\n",
       "<style scoped>\n",
       "    .dataframe tbody tr th:only-of-type {\n",
       "        vertical-align: middle;\n",
       "    }\n",
       "\n",
       "    .dataframe tbody tr th {\n",
       "        vertical-align: top;\n",
       "    }\n",
       "\n",
       "    .dataframe thead th {\n",
       "        text-align: right;\n",
       "    }\n",
       "</style>\n",
       "<table border=\"1\" class=\"dataframe\">\n",
       "  <thead>\n",
       "    <tr style=\"text-align: right;\">\n",
       "      <th></th>\n",
       "      <th>LotArea</th>\n",
       "      <th>1stFlrSF</th>\n",
       "      <th>GrLivArea</th>\n",
       "      <th>SalePrice</th>\n",
       "      <th>BldgType</th>\n",
       "      <th>KitchenQual</th>\n",
       "      <th>SaleType</th>\n",
       "      <th>MSZoning</th>\n",
       "      <th>Street</th>\n",
       "      <th>Neighborhood</th>\n",
       "    </tr>\n",
       "  </thead>\n",
       "  <tbody>\n",
       "    <tr>\n",
       "      <th>0</th>\n",
       "      <td>8450</td>\n",
       "      <td>856</td>\n",
       "      <td>1710</td>\n",
       "      <td>208500</td>\n",
       "      <td>1Fam</td>\n",
       "      <td>Gd</td>\n",
       "      <td>WD</td>\n",
       "      <td>RL</td>\n",
       "      <td>Pave</td>\n",
       "      <td>CollgCr</td>\n",
       "    </tr>\n",
       "    <tr>\n",
       "      <th>1</th>\n",
       "      <td>9600</td>\n",
       "      <td>1262</td>\n",
       "      <td>1262</td>\n",
       "      <td>181500</td>\n",
       "      <td>1Fam</td>\n",
       "      <td>TA</td>\n",
       "      <td>WD</td>\n",
       "      <td>RL</td>\n",
       "      <td>Pave</td>\n",
       "      <td>Veenker</td>\n",
       "    </tr>\n",
       "    <tr>\n",
       "      <th>2</th>\n",
       "      <td>11250</td>\n",
       "      <td>920</td>\n",
       "      <td>1786</td>\n",
       "      <td>223500</td>\n",
       "      <td>1Fam</td>\n",
       "      <td>Gd</td>\n",
       "      <td>WD</td>\n",
       "      <td>RL</td>\n",
       "      <td>Pave</td>\n",
       "      <td>CollgCr</td>\n",
       "    </tr>\n",
       "    <tr>\n",
       "      <th>3</th>\n",
       "      <td>9550</td>\n",
       "      <td>961</td>\n",
       "      <td>1717</td>\n",
       "      <td>140000</td>\n",
       "      <td>1Fam</td>\n",
       "      <td>Gd</td>\n",
       "      <td>WD</td>\n",
       "      <td>RL</td>\n",
       "      <td>Pave</td>\n",
       "      <td>Crawfor</td>\n",
       "    </tr>\n",
       "    <tr>\n",
       "      <th>4</th>\n",
       "      <td>14260</td>\n",
       "      <td>1145</td>\n",
       "      <td>2198</td>\n",
       "      <td>250000</td>\n",
       "      <td>1Fam</td>\n",
       "      <td>Gd</td>\n",
       "      <td>WD</td>\n",
       "      <td>RL</td>\n",
       "      <td>Pave</td>\n",
       "      <td>NoRidge</td>\n",
       "    </tr>\n",
       "  </tbody>\n",
       "</table>\n",
       "</div>"
      ],
      "text/plain": [
       "   LotArea  1stFlrSF  GrLivArea  ...  MSZoning Street Neighborhood\n",
       "0     8450       856       1710  ...        RL   Pave      CollgCr\n",
       "1     9600      1262       1262  ...        RL   Pave      Veenker\n",
       "2    11250       920       1786  ...        RL   Pave      CollgCr\n",
       "3     9550       961       1717  ...        RL   Pave      Crawfor\n",
       "4    14260      1145       2198  ...        RL   Pave      NoRidge\n",
       "\n",
       "[5 rows x 10 columns]"
      ]
     },
     "execution_count": 26,
     "metadata": {},
     "output_type": "execute_result"
    }
   ],
   "source": [
    "# Load in ames dataset\n",
    "df = fs.datasets.load_ames_train(subset=False)\n",
    "columns = ['LotArea', '1stFlrSF', 'GrLivArea', 'SalePrice',\n",
    "           'BldgType', 'KitchenQual', 'SaleType', 'MSZoning', 'Street', 'Neighborhood']\n",
    "df = df[columns].copy()\n",
    "df.head()"
   ]
  },
  {
   "cell_type": "code",
   "execution_count": 27,
   "metadata": {
    "ExecuteTime": {
     "end_time": "2020-08-20T17:39:01.389474Z",
     "start_time": "2020-08-20T17:39:01.381896Z"
    }
   },
   "outputs": [
    {
     "name": "stdout",
     "output_type": "stream",
     "text": [
      "<class 'pandas.core.frame.DataFrame'>\n",
      "RangeIndex: 1460 entries, 0 to 1459\n",
      "Data columns (total 10 columns):\n",
      " #   Column        Non-Null Count  Dtype \n",
      "---  ------        --------------  ----- \n",
      " 0   LotArea       1460 non-null   int64 \n",
      " 1   1stFlrSF      1460 non-null   int64 \n",
      " 2   GrLivArea     1460 non-null   int64 \n",
      " 3   SalePrice     1460 non-null   int64 \n",
      " 4   BldgType      1460 non-null   object\n",
      " 5   KitchenQual   1460 non-null   object\n",
      " 6   SaleType      1460 non-null   object\n",
      " 7   MSZoning      1460 non-null   object\n",
      " 8   Street        1460 non-null   object\n",
      " 9   Neighborhood  1460 non-null   object\n",
      "dtypes: int64(4), object(6)\n",
      "memory usage: 114.2+ KB\n"
     ]
    }
   ],
   "source": [
    "df.info()"
   ]
  },
  {
   "cell_type": "code",
   "execution_count": 28,
   "metadata": {
    "ExecuteTime": {
     "end_time": "2020-08-20T17:39:01.414524Z",
     "start_time": "2020-08-20T17:39:01.390678Z"
    }
   },
   "outputs": [
    {
     "data": {
      "text/html": [
       "<div>\n",
       "<style scoped>\n",
       "    .dataframe tbody tr th:only-of-type {\n",
       "        vertical-align: middle;\n",
       "    }\n",
       "\n",
       "    .dataframe tbody tr th {\n",
       "        vertical-align: top;\n",
       "    }\n",
       "\n",
       "    .dataframe thead th {\n",
       "        text-align: right;\n",
       "    }\n",
       "</style>\n",
       "<table border=\"1\" class=\"dataframe\">\n",
       "  <thead>\n",
       "    <tr style=\"text-align: right;\">\n",
       "      <th></th>\n",
       "      <th>LotArea</th>\n",
       "      <th>1stFlrSF</th>\n",
       "      <th>GrLivArea</th>\n",
       "      <th>SalePrice</th>\n",
       "    </tr>\n",
       "  </thead>\n",
       "  <tbody>\n",
       "    <tr>\n",
       "      <th>count</th>\n",
       "      <td>1460.000</td>\n",
       "      <td>1460.000</td>\n",
       "      <td>1460.000</td>\n",
       "      <td>1460.000</td>\n",
       "    </tr>\n",
       "    <tr>\n",
       "      <th>mean</th>\n",
       "      <td>10516.828</td>\n",
       "      <td>1162.627</td>\n",
       "      <td>1515.464</td>\n",
       "      <td>180921.196</td>\n",
       "    </tr>\n",
       "    <tr>\n",
       "      <th>std</th>\n",
       "      <td>9981.265</td>\n",
       "      <td>386.588</td>\n",
       "      <td>525.480</td>\n",
       "      <td>79442.503</td>\n",
       "    </tr>\n",
       "    <tr>\n",
       "      <th>min</th>\n",
       "      <td>1300.000</td>\n",
       "      <td>334.000</td>\n",
       "      <td>334.000</td>\n",
       "      <td>34900.000</td>\n",
       "    </tr>\n",
       "    <tr>\n",
       "      <th>25%</th>\n",
       "      <td>7553.500</td>\n",
       "      <td>882.000</td>\n",
       "      <td>1129.500</td>\n",
       "      <td>129975.000</td>\n",
       "    </tr>\n",
       "    <tr>\n",
       "      <th>50%</th>\n",
       "      <td>9478.500</td>\n",
       "      <td>1087.000</td>\n",
       "      <td>1464.000</td>\n",
       "      <td>163000.000</td>\n",
       "    </tr>\n",
       "    <tr>\n",
       "      <th>75%</th>\n",
       "      <td>11601.500</td>\n",
       "      <td>1391.250</td>\n",
       "      <td>1776.750</td>\n",
       "      <td>214000.000</td>\n",
       "    </tr>\n",
       "    <tr>\n",
       "      <th>max</th>\n",
       "      <td>215245.000</td>\n",
       "      <td>4692.000</td>\n",
       "      <td>5642.000</td>\n",
       "      <td>755000.000</td>\n",
       "    </tr>\n",
       "  </tbody>\n",
       "</table>\n",
       "</div>"
      ],
      "text/plain": [
       "         LotArea  1stFlrSF  GrLivArea  SalePrice\n",
       "count   1460.000  1460.000   1460.000   1460.000\n",
       "mean   10516.828  1162.627   1515.464 180921.196\n",
       "std     9981.265   386.588    525.480  79442.503\n",
       "min     1300.000   334.000    334.000  34900.000\n",
       "25%     7553.500   882.000   1129.500 129975.000\n",
       "50%     9478.500  1087.000   1464.000 163000.000\n",
       "75%    11601.500  1391.250   1776.750 214000.000\n",
       "max   215245.000  4692.000   5642.000 755000.000"
      ]
     },
     "execution_count": 28,
     "metadata": {},
     "output_type": "execute_result"
    }
   ],
   "source": [
    "df.describe()"
   ]
  },
  {
   "cell_type": "code",
   "execution_count": 29,
   "metadata": {
    "ExecuteTime": {
     "end_time": "2020-08-20T17:39:02.577657Z",
     "start_time": "2020-08-20T17:39:01.415778Z"
    },
    "scrolled": false
   },
   "outputs": [
    {
     "data": {
      "image/png": "[encoded data removed]",
      "text/plain": [
       "<Figure size 720x432 with 16 Axes>"
      ]
     },
     "metadata": {},
     "output_type": "display_data"
    }
   ],
   "source": [
    "pd.plotting.scatter_matrix(df);"
   ]
  },
  {
   "cell_type": "markdown",
   "metadata": {
    "colab_type": "text",
    "id": "_NZQ0j94C_5W"
   },
   "source": [
    "# DEALING WITH CATEGORICAL VARIABLES"
   ]
  },
  {
   "cell_type": "markdown",
   "metadata": {
    "colab_type": "text",
    "id": "spM2oo60C_uV"
   },
   "source": [
    "- What are categorical variables?\n",
    "- Understand creating dummy variables for predictors.\n",
    "- Use pandas and Scikit-Learn to create dumies\n",
    "- Understand and avoid the \"dummy variable trap\""
   ]
  },
  {
   "cell_type": "markdown",
   "metadata": {
    "colab_type": "text",
    "id": "yXbSihZZC_r5"
   },
   "source": [
    "## What are categorical variables?\n",
    "- Variables that do not represent a continuous/ordinal number. "
   ]
  },
  {
   "cell_type": "markdown",
   "metadata": {
    "colab_type": "text",
    "id": "yXbSihZZC_r5"
   },
   "source": [
    "## Identifying categorical variables:\n",
    "What to look for?\n",
    "1. Column dtype is 'object'\n",
    "2. Use `df.describe()` -  check for min/max. Are they integers?\n",
    "3. Use scatterplots & histograms -  look for columns of datapoints"
   ]
  },
  {
   "cell_type": "code",
   "execution_count": 30,
   "metadata": {
    "ExecuteTime": {
     "end_time": "2020-08-20T17:39:02.584545Z",
     "start_time": "2020-08-20T17:39:02.579218Z"
    }
   },
   "outputs": [
    {
     "data": {
      "text/plain": [
       "Index(['BldgType', 'KitchenQual', 'SaleType', 'MSZoning', 'Street',\n",
       "       'Neighborhood'],\n",
       "      dtype='object')"
      ]
     },
     "execution_count": 30,
     "metadata": {},
     "output_type": "execute_result"
    }
   ],
   "source": [
    "cat_cols = df.select_dtypes('O').columns\n",
    "cat_cols"
   ]
  },
  {
   "cell_type": "code",
   "execution_count": 31,
   "metadata": {
    "ExecuteTime": {
     "end_time": "2020-08-20T17:39:02.595687Z",
     "start_time": "2020-08-20T17:39:02.586311Z"
    }
   },
   "outputs": [
    {
     "name": "stdout",
     "output_type": "stream",
     "text": [
      "<class 'pandas.core.frame.DataFrame'>\n",
      "RangeIndex: 1460 entries, 0 to 1459\n",
      "Data columns (total 10 columns):\n",
      " #   Column        Non-Null Count  Dtype \n",
      "---  ------        --------------  ----- \n",
      " 0   LotArea       1460 non-null   int64 \n",
      " 1   1stFlrSF      1460 non-null   int64 \n",
      " 2   GrLivArea     1460 non-null   int64 \n",
      " 3   SalePrice     1460 non-null   int64 \n",
      " 4   BldgType      1460 non-null   object\n",
      " 5   KitchenQual   1460 non-null   object\n",
      " 6   SaleType      1460 non-null   object\n",
      " 7   MSZoning      1460 non-null   object\n",
      " 8   Street        1460 non-null   object\n",
      " 9   Neighborhood  1460 non-null   object\n",
      "dtypes: int64(4), object(6)\n",
      "memory usage: 114.2+ KB\n"
     ]
    }
   ],
   "source": [
    "df.info()"
   ]
  },
  {
   "cell_type": "code",
   "execution_count": 32,
   "metadata": {
    "ExecuteTime": {
     "end_time": "2020-08-20T17:39:02.603184Z",
     "start_time": "2020-08-20T17:39:02.597746Z"
    }
   },
   "outputs": [
    {
     "data": {
      "text/plain": [
       "['LotArea', '1stFlrSF', 'GrLivArea', 'SalePrice']"
      ]
     },
     "execution_count": 32,
     "metadata": {},
     "output_type": "execute_result"
    }
   ],
   "source": [
    "num_cols =list(df.select_dtypes('number').columns)\n",
    "num_cols"
   ]
  },
  {
   "cell_type": "code",
   "execution_count": null,
   "metadata": {
    "ExecuteTime": {
     "end_time": "2020-08-20T00:46:18.508751Z",
     "start_time": "2020-08-20T00:46:18.506572Z"
    }
   },
   "outputs": [],
   "source": []
  },
  {
   "cell_type": "code",
   "execution_count": 33,
   "metadata": {
    "ExecuteTime": {
     "end_time": "2020-08-20T17:39:02.611220Z",
     "start_time": "2020-08-20T17:39:02.605029Z"
    }
   },
   "outputs": [
    {
     "data": {
      "text/plain": [
       "LotArea         0\n",
       "1stFlrSF        0\n",
       "GrLivArea       0\n",
       "SalePrice       0\n",
       "BldgType        0\n",
       "KitchenQual     0\n",
       "SaleType        0\n",
       "MSZoning        0\n",
       "Street          0\n",
       "Neighborhood    0\n",
       "dtype: int64"
      ]
     },
     "execution_count": 33,
     "metadata": {},
     "output_type": "execute_result"
    }
   ],
   "source": [
    "df.isna().sum()"
   ]
  },
  {
   "cell_type": "code",
   "execution_count": 34,
   "metadata": {
    "ExecuteTime": {
     "end_time": "2020-08-20T17:39:02.634088Z",
     "start_time": "2020-08-20T17:39:02.612765Z"
    },
    "scrolled": false
   },
   "outputs": [
    {
     "data": {
      "text/plain": [
       "1Fam      1220\n",
       "TwnhsE     114\n",
       "Duplex      52\n",
       "Twnhs       43\n",
       "2fmCon      31\n",
       "Name: BldgType, dtype: int64"
      ]
     },
     "metadata": {},
     "output_type": "display_data"
    },
    {
     "name": "stdout",
     "output_type": "stream",
     "text": [
      "\n"
     ]
    },
    {
     "data": {
      "text/plain": [
       "TA    735\n",
       "Gd    586\n",
       "Ex    100\n",
       "Fa     39\n",
       "Name: KitchenQual, dtype: int64"
      ]
     },
     "metadata": {},
     "output_type": "display_data"
    },
    {
     "name": "stdout",
     "output_type": "stream",
     "text": [
      "\n"
     ]
    },
    {
     "data": {
      "text/plain": [
       "WD       1267\n",
       "New       122\n",
       "COD        43\n",
       "ConLD       9\n",
       "ConLI       5\n",
       "ConLw       5\n",
       "CWD         4\n",
       "Oth         3\n",
       "Con         2\n",
       "Name: SaleType, dtype: int64"
      ]
     },
     "metadata": {},
     "output_type": "display_data"
    },
    {
     "name": "stdout",
     "output_type": "stream",
     "text": [
      "\n"
     ]
    },
    {
     "data": {
      "text/plain": [
       "RL         1151\n",
       "RM          218\n",
       "FV           65\n",
       "RH           16\n",
       "C (all)      10\n",
       "Name: MSZoning, dtype: int64"
      ]
     },
     "metadata": {},
     "output_type": "display_data"
    },
    {
     "name": "stdout",
     "output_type": "stream",
     "text": [
      "\n"
     ]
    },
    {
     "data": {
      "text/plain": [
       "Pave    1454\n",
       "Grvl       6\n",
       "Name: Street, dtype: int64"
      ]
     },
     "metadata": {},
     "output_type": "display_data"
    },
    {
     "name": "stdout",
     "output_type": "stream",
     "text": [
      "\n"
     ]
    },
    {
     "data": {
      "text/plain": [
       "NAmes      225\n",
       "CollgCr    150\n",
       "OldTown    113\n",
       "Edwards    100\n",
       "Somerst     86\n",
       "Gilbert     79\n",
       "NridgHt     77\n",
       "Sawyer      74\n",
       "NWAmes      73\n",
       "SawyerW     59\n",
       "BrkSide     58\n",
       "Crawfor     51\n",
       "Mitchel     49\n",
       "NoRidge     41\n",
       "Timber      38\n",
       "IDOTRR      37\n",
       "ClearCr     28\n",
       "SWISU       25\n",
       "StoneBr     25\n",
       "Blmngtn     17\n",
       "MeadowV     17\n",
       "BrDale      16\n",
       "Veenker     11\n",
       "NPkVill      9\n",
       "Blueste      2\n",
       "Name: Neighborhood, dtype: int64"
      ]
     },
     "metadata": {},
     "output_type": "display_data"
    },
    {
     "name": "stdout",
     "output_type": "stream",
     "text": [
      "\n"
     ]
    }
   ],
   "source": [
    "## Inspect the Value Counts for Each Str Col\n",
    "for col in cat_cols:\n",
    "    display(df[col].value_counts(dropna=False))\n",
    "    print()"
   ]
  },
  {
   "cell_type": "markdown",
   "metadata": {
    "colab_type": "text",
    "id": "org3DLv4JH4d"
   },
   "source": [
    "## Transforming Categorical Variables"
   ]
  },
  {
   "cell_type": "markdown",
   "metadata": {
    "colab_type": "text",
    "id": "6YbpSwy9KvKP"
   },
   "source": [
    "To use categorical variables for regression, they must be transformed.\n",
    "There are 2 methods to dealing with them:\n",
    "1. Label Encoding\n",
    "    - Replace string categories with integer values (0 to n)\n",
    "    - Can be done with:\n",
    "        1. Pandas \n",
    "        2. Scikit Learn\n",
    "\n",
    "2. One-hot / dummy encoding\n",
    "    - Turn each category in a categorical variable into its own variable, that is either a 0 or 1. 0 for rows that do not belong to that sub-category. 1 for rows that belong to the sub-category\n",
    "    - Can be done with:\n",
    "        1. Pandas\n",
    "        2. Scikit Learn\n"
   ]
  },
  {
   "cell_type": "markdown",
   "metadata": {
    "colab_type": "text",
    "id": "GaDrcK3xX3Um"
   },
   "source": [
    "### Label Encoding"
   ]
  },
  {
   "cell_type": "code",
   "execution_count": null,
   "metadata": {},
   "outputs": [],
   "source": []
  },
  {
   "cell_type": "code",
   "execution_count": 35,
   "metadata": {
    "ExecuteTime": {
     "end_time": "2020-08-20T17:39:02.641536Z",
     "start_time": "2020-08-20T17:39:02.635571Z"
    }
   },
   "outputs": [
    {
     "data": {
      "text/plain": [
       "1Fam     0.836\n",
       "TwnhsE   0.078\n",
       "Duplex   0.036\n",
       "Twnhs    0.029\n",
       "2fmCon   0.021\n",
       "Name: BldgType, dtype: float64"
      ]
     },
     "execution_count": 35,
     "metadata": {},
     "output_type": "execute_result"
    }
   ],
   "source": [
    "## Check the Value Counts for our test column - \"BldgType\"\n",
    "df['BldgType'].value_counts(normalize=True)"
   ]
  },
  {
   "cell_type": "markdown",
   "metadata": {
    "colab_type": "text",
    "id": "_JPOEQNvX60n"
   },
   "source": [
    "#### Via pandas.cat.codes"
   ]
  },
  {
   "cell_type": "code",
   "execution_count": 36,
   "metadata": {
    "ExecuteTime": {
     "end_time": "2020-08-20T17:39:02.651210Z",
     "start_time": "2020-08-20T17:39:02.643125Z"
    },
    "colab": {
     "base_uri": "https://localhost:8080/",
     "height": 204
    },
    "colab_type": "code",
    "id": "B0AvDDy-2g2q",
    "outputId": "a8732d5a-d247-4c65-c27f-2262e54fdf4e"
   },
   "outputs": [
    {
     "data": {
      "text/plain": [
       "0   0.836\n",
       "4   0.078\n",
       "2   0.036\n",
       "3   0.029\n",
       "1   0.021\n",
       "Name: BldgType_le, dtype: float64"
      ]
     },
     "execution_count": 36,
     "metadata": {},
     "output_type": "execute_result"
    }
   ],
   "source": [
    "## Label Encode with .cat.codesd\n",
    "df['BldgType'] = df['BldgType'].astype('category')\n",
    "df['BldgType_le'] = df['BldgType'].cat.codes\n",
    "df['BldgType_le'].value_counts(normalize=True)"
   ]
  },
  {
   "cell_type": "code",
   "execution_count": null,
   "metadata": {
    "ExecuteTime": {
     "end_time": "2020-08-20T00:46:18.559995Z",
     "start_time": "2020-08-20T00:46:18.555191Z"
    }
   },
   "outputs": [],
   "source": []
  },
  {
   "cell_type": "markdown",
   "metadata": {
    "colab_type": "text",
    "id": "nqzMnlcBYA2J"
   },
   "source": [
    "#### Via Sklearn's LabelEncoder"
   ]
  },
  {
   "cell_type": "code",
   "execution_count": 37,
   "metadata": {
    "ExecuteTime": {
     "end_time": "2020-08-20T17:39:02.681220Z",
     "start_time": "2020-08-20T17:39:02.652998Z"
    },
    "colab": {
     "base_uri": "https://localhost:8080/",
     "height": 34
    },
    "colab_type": "code",
    "id": "DodA8nSGZqSJ",
    "outputId": "9cc13796-a9f0-40a6-f4ca-8c0ae8557104"
   },
   "outputs": [
    {
     "data": {
      "text/html": [
       "<div>\n",
       "<style scoped>\n",
       "    .dataframe tbody tr th:only-of-type {\n",
       "        vertical-align: middle;\n",
       "    }\n",
       "\n",
       "    .dataframe tbody tr th {\n",
       "        vertical-align: top;\n",
       "    }\n",
       "\n",
       "    .dataframe thead th {\n",
       "        text-align: right;\n",
       "    }\n",
       "</style>\n",
       "<table border=\"1\" class=\"dataframe\">\n",
       "  <thead>\n",
       "    <tr style=\"text-align: right;\">\n",
       "      <th></th>\n",
       "      <th>LotArea</th>\n",
       "      <th>1stFlrSF</th>\n",
       "      <th>GrLivArea</th>\n",
       "      <th>SalePrice</th>\n",
       "      <th>BldgType</th>\n",
       "      <th>KitchenQual</th>\n",
       "      <th>SaleType</th>\n",
       "      <th>MSZoning</th>\n",
       "      <th>Street</th>\n",
       "      <th>Neighborhood</th>\n",
       "      <th>BldgType_le</th>\n",
       "      <th>BldgType_le_sk</th>\n",
       "    </tr>\n",
       "  </thead>\n",
       "  <tbody>\n",
       "    <tr>\n",
       "      <th>0</th>\n",
       "      <td>8450</td>\n",
       "      <td>856</td>\n",
       "      <td>1710</td>\n",
       "      <td>208500</td>\n",
       "      <td>1Fam</td>\n",
       "      <td>Gd</td>\n",
       "      <td>WD</td>\n",
       "      <td>RL</td>\n",
       "      <td>Pave</td>\n",
       "      <td>CollgCr</td>\n",
       "      <td>0</td>\n",
       "      <td>0</td>\n",
       "    </tr>\n",
       "    <tr>\n",
       "      <th>1</th>\n",
       "      <td>9600</td>\n",
       "      <td>1262</td>\n",
       "      <td>1262</td>\n",
       "      <td>181500</td>\n",
       "      <td>1Fam</td>\n",
       "      <td>TA</td>\n",
       "      <td>WD</td>\n",
       "      <td>RL</td>\n",
       "      <td>Pave</td>\n",
       "      <td>Veenker</td>\n",
       "      <td>0</td>\n",
       "      <td>0</td>\n",
       "    </tr>\n",
       "    <tr>\n",
       "      <th>2</th>\n",
       "      <td>11250</td>\n",
       "      <td>920</td>\n",
       "      <td>1786</td>\n",
       "      <td>223500</td>\n",
       "      <td>1Fam</td>\n",
       "      <td>Gd</td>\n",
       "      <td>WD</td>\n",
       "      <td>RL</td>\n",
       "      <td>Pave</td>\n",
       "      <td>CollgCr</td>\n",
       "      <td>0</td>\n",
       "      <td>0</td>\n",
       "    </tr>\n",
       "    <tr>\n",
       "      <th>3</th>\n",
       "      <td>9550</td>\n",
       "      <td>961</td>\n",
       "      <td>1717</td>\n",
       "      <td>140000</td>\n",
       "      <td>1Fam</td>\n",
       "      <td>Gd</td>\n",
       "      <td>WD</td>\n",
       "      <td>RL</td>\n",
       "      <td>Pave</td>\n",
       "      <td>Crawfor</td>\n",
       "      <td>0</td>\n",
       "      <td>0</td>\n",
       "    </tr>\n",
       "    <tr>\n",
       "      <th>4</th>\n",
       "      <td>14260</td>\n",
       "      <td>1145</td>\n",
       "      <td>2198</td>\n",
       "      <td>250000</td>\n",
       "      <td>1Fam</td>\n",
       "      <td>Gd</td>\n",
       "      <td>WD</td>\n",
       "      <td>RL</td>\n",
       "      <td>Pave</td>\n",
       "      <td>NoRidge</td>\n",
       "      <td>0</td>\n",
       "      <td>0</td>\n",
       "    </tr>\n",
       "  </tbody>\n",
       "</table>\n",
       "</div>"
      ],
      "text/plain": [
       "   LotArea  1stFlrSF  GrLivArea  ...  Neighborhood BldgType_le BldgType_le_sk\n",
       "0     8450       856       1710  ...       CollgCr           0              0\n",
       "1     9600      1262       1262  ...       Veenker           0              0\n",
       "2    11250       920       1786  ...       CollgCr           0              0\n",
       "3     9550       961       1717  ...       Crawfor           0              0\n",
       "4    14260      1145       2198  ...       NoRidge           0              0\n",
       "\n",
       "[5 rows x 12 columns]"
      ]
     },
     "execution_count": 37,
     "metadata": {},
     "output_type": "execute_result"
    }
   ],
   "source": [
    "## Using sklearn LabelEncoder\n",
    "from sklearn.preprocessing import LabelEncoder\n",
    "\n",
    "encoder = LabelEncoder()\n",
    "df['BldgType_le_sk'] = encoder.fit_transform(df['BldgType'])\n",
    "df.head()"
   ]
  },
  {
   "cell_type": "code",
   "execution_count": 38,
   "metadata": {
    "ExecuteTime": {
     "end_time": "2020-08-20T17:39:02.686794Z",
     "start_time": "2020-08-20T17:39:02.682469Z"
    }
   },
   "outputs": [
    {
     "data": {
      "text/plain": [
       "array(['1Fam', '1Fam', '1Fam', ..., '1Fam', '1Fam', '1Fam'], dtype=object)"
      ]
     },
     "execution_count": 38,
     "metadata": {},
     "output_type": "execute_result"
    }
   ],
   "source": [
    "encoder.inverse_transform(df['BldgType_le_sk'])"
   ]
  },
  {
   "cell_type": "code",
   "execution_count": null,
   "metadata": {
    "ExecuteTime": {
     "end_time": "2020-08-20T00:46:18.578594Z",
     "start_time": "2020-08-20T00:46:18.573586Z"
    },
    "colab": {
     "base_uri": "https://localhost:8080/",
     "height": 85
    },
    "colab_type": "code",
    "id": "LAVjmHQnMHrp",
    "outputId": "89fded6d-a3e1-43ee-c4e2-ed1e32b2ad3e"
   },
   "outputs": [],
   "source": []
  },
  {
   "cell_type": "markdown",
   "metadata": {
    "colab_type": "text",
    "id": "hi98TnOoYMug"
   },
   "source": [
    "### Dummy Encoding / One-Hot Encoding"
   ]
  },
  {
   "cell_type": "markdown",
   "metadata": {
    "colab_type": "text",
    "id": "WCCKfFtxYMqD"
   },
   "source": [
    "#### Via Pandas.get_dummies()"
   ]
  },
  {
   "cell_type": "code",
   "execution_count": 39,
   "metadata": {
    "ExecuteTime": {
     "end_time": "2020-08-20T17:39:02.693689Z",
     "start_time": "2020-08-20T17:39:02.688325Z"
    }
   },
   "outputs": [
    {
     "data": {
      "text/plain": [
       "['1Fam', '2fmCon', 'Duplex', 'TwnhsE', 'Twnhs']\n",
       "Categories (5, object): ['1Fam', '2fmCon', 'Duplex', 'TwnhsE', 'Twnhs']"
      ]
     },
     "execution_count": 39,
     "metadata": {},
     "output_type": "execute_result"
    }
   ],
   "source": [
    "df['BldgType'].unique()"
   ]
  },
  {
   "cell_type": "code",
   "execution_count": 40,
   "metadata": {
    "ExecuteTime": {
     "end_time": "2020-08-20T17:39:02.698049Z",
     "start_time": "2020-08-20T17:39:02.695222Z"
    }
   },
   "outputs": [],
   "source": [
    "df_dummies = df.copy()"
   ]
  },
  {
   "cell_type": "code",
   "execution_count": 41,
   "metadata": {
    "ExecuteTime": {
     "end_time": "2020-08-20T17:39:02.740180Z",
     "start_time": "2020-08-20T17:39:02.699430Z"
    }
   },
   "outputs": [
    {
     "data": {
      "text/html": [
       "<div>\n",
       "<style scoped>\n",
       "    .dataframe tbody tr th:only-of-type {\n",
       "        vertical-align: middle;\n",
       "    }\n",
       "\n",
       "    .dataframe tbody tr th {\n",
       "        vertical-align: top;\n",
       "    }\n",
       "\n",
       "    .dataframe thead th {\n",
       "        text-align: right;\n",
       "    }\n",
       "</style>\n",
       "<table border=\"1\" class=\"dataframe\">\n",
       "  <thead>\n",
       "    <tr style=\"text-align: right;\">\n",
       "      <th></th>\n",
       "      <th>LotArea</th>\n",
       "      <th>1stFlrSF</th>\n",
       "      <th>GrLivArea</th>\n",
       "      <th>SalePrice</th>\n",
       "      <th>KitchenQual</th>\n",
       "      <th>SaleType</th>\n",
       "      <th>MSZoning</th>\n",
       "      <th>Street</th>\n",
       "      <th>Neighborhood</th>\n",
       "      <th>BldgType_le</th>\n",
       "      <th>BldgType_le_sk</th>\n",
       "      <th>ohe_1Fam</th>\n",
       "      <th>ohe_2fmCon</th>\n",
       "      <th>ohe_Duplex</th>\n",
       "      <th>ohe_Twnhs</th>\n",
       "      <th>ohe_TwnhsE</th>\n",
       "    </tr>\n",
       "  </thead>\n",
       "  <tbody>\n",
       "    <tr>\n",
       "      <th>0</th>\n",
       "      <td>8450</td>\n",
       "      <td>856</td>\n",
       "      <td>1710</td>\n",
       "      <td>208500</td>\n",
       "      <td>Gd</td>\n",
       "      <td>WD</td>\n",
       "      <td>RL</td>\n",
       "      <td>Pave</td>\n",
       "      <td>CollgCr</td>\n",
       "      <td>0</td>\n",
       "      <td>0</td>\n",
       "      <td>1</td>\n",
       "      <td>0</td>\n",
       "      <td>0</td>\n",
       "      <td>0</td>\n",
       "      <td>0</td>\n",
       "    </tr>\n",
       "    <tr>\n",
       "      <th>1</th>\n",
       "      <td>9600</td>\n",
       "      <td>1262</td>\n",
       "      <td>1262</td>\n",
       "      <td>181500</td>\n",
       "      <td>TA</td>\n",
       "      <td>WD</td>\n",
       "      <td>RL</td>\n",
       "      <td>Pave</td>\n",
       "      <td>Veenker</td>\n",
       "      <td>0</td>\n",
       "      <td>0</td>\n",
       "      <td>1</td>\n",
       "      <td>0</td>\n",
       "      <td>0</td>\n",
       "      <td>0</td>\n",
       "      <td>0</td>\n",
       "    </tr>\n",
       "    <tr>\n",
       "      <th>2</th>\n",
       "      <td>11250</td>\n",
       "      <td>920</td>\n",
       "      <td>1786</td>\n",
       "      <td>223500</td>\n",
       "      <td>Gd</td>\n",
       "      <td>WD</td>\n",
       "      <td>RL</td>\n",
       "      <td>Pave</td>\n",
       "      <td>CollgCr</td>\n",
       "      <td>0</td>\n",
       "      <td>0</td>\n",
       "      <td>1</td>\n",
       "      <td>0</td>\n",
       "      <td>0</td>\n",
       "      <td>0</td>\n",
       "      <td>0</td>\n",
       "    </tr>\n",
       "    <tr>\n",
       "      <th>3</th>\n",
       "      <td>9550</td>\n",
       "      <td>961</td>\n",
       "      <td>1717</td>\n",
       "      <td>140000</td>\n",
       "      <td>Gd</td>\n",
       "      <td>WD</td>\n",
       "      <td>RL</td>\n",
       "      <td>Pave</td>\n",
       "      <td>Crawfor</td>\n",
       "      <td>0</td>\n",
       "      <td>0</td>\n",
       "      <td>1</td>\n",
       "      <td>0</td>\n",
       "      <td>0</td>\n",
       "      <td>0</td>\n",
       "      <td>0</td>\n",
       "    </tr>\n",
       "    <tr>\n",
       "      <th>4</th>\n",
       "      <td>14260</td>\n",
       "      <td>1145</td>\n",
       "      <td>2198</td>\n",
       "      <td>250000</td>\n",
       "      <td>Gd</td>\n",
       "      <td>WD</td>\n",
       "      <td>RL</td>\n",
       "      <td>Pave</td>\n",
       "      <td>NoRidge</td>\n",
       "      <td>0</td>\n",
       "      <td>0</td>\n",
       "      <td>1</td>\n",
       "      <td>0</td>\n",
       "      <td>0</td>\n",
       "      <td>0</td>\n",
       "      <td>0</td>\n",
       "    </tr>\n",
       "    <tr>\n",
       "      <th>...</th>\n",
       "      <td>...</td>\n",
       "      <td>...</td>\n",
       "      <td>...</td>\n",
       "      <td>...</td>\n",
       "      <td>...</td>\n",
       "      <td>...</td>\n",
       "      <td>...</td>\n",
       "      <td>...</td>\n",
       "      <td>...</td>\n",
       "      <td>...</td>\n",
       "      <td>...</td>\n",
       "      <td>...</td>\n",
       "      <td>...</td>\n",
       "      <td>...</td>\n",
       "      <td>...</td>\n",
       "      <td>...</td>\n",
       "    </tr>\n",
       "    <tr>\n",
       "      <th>1455</th>\n",
       "      <td>7917</td>\n",
       "      <td>953</td>\n",
       "      <td>1647</td>\n",
       "      <td>175000</td>\n",
       "      <td>TA</td>\n",
       "      <td>WD</td>\n",
       "      <td>RL</td>\n",
       "      <td>Pave</td>\n",
       "      <td>Gilbert</td>\n",
       "      <td>0</td>\n",
       "      <td>0</td>\n",
       "      <td>1</td>\n",
       "      <td>0</td>\n",
       "      <td>0</td>\n",
       "      <td>0</td>\n",
       "      <td>0</td>\n",
       "    </tr>\n",
       "    <tr>\n",
       "      <th>1456</th>\n",
       "      <td>13175</td>\n",
       "      <td>2073</td>\n",
       "      <td>2073</td>\n",
       "      <td>210000</td>\n",
       "      <td>TA</td>\n",
       "      <td>WD</td>\n",
       "      <td>RL</td>\n",
       "      <td>Pave</td>\n",
       "      <td>NWAmes</td>\n",
       "      <td>0</td>\n",
       "      <td>0</td>\n",
       "      <td>1</td>\n",
       "      <td>0</td>\n",
       "      <td>0</td>\n",
       "      <td>0</td>\n",
       "      <td>0</td>\n",
       "    </tr>\n",
       "    <tr>\n",
       "      <th>1457</th>\n",
       "      <td>9042</td>\n",
       "      <td>1188</td>\n",
       "      <td>2340</td>\n",
       "      <td>266500</td>\n",
       "      <td>Gd</td>\n",
       "      <td>WD</td>\n",
       "      <td>RL</td>\n",
       "      <td>Pave</td>\n",
       "      <td>Crawfor</td>\n",
       "      <td>0</td>\n",
       "      <td>0</td>\n",
       "      <td>1</td>\n",
       "      <td>0</td>\n",
       "      <td>0</td>\n",
       "      <td>0</td>\n",
       "      <td>0</td>\n",
       "    </tr>\n",
       "    <tr>\n",
       "      <th>1458</th>\n",
       "      <td>9717</td>\n",
       "      <td>1078</td>\n",
       "      <td>1078</td>\n",
       "      <td>142125</td>\n",
       "      <td>Gd</td>\n",
       "      <td>WD</td>\n",
       "      <td>RL</td>\n",
       "      <td>Pave</td>\n",
       "      <td>NAmes</td>\n",
       "      <td>0</td>\n",
       "      <td>0</td>\n",
       "      <td>1</td>\n",
       "      <td>0</td>\n",
       "      <td>0</td>\n",
       "      <td>0</td>\n",
       "      <td>0</td>\n",
       "    </tr>\n",
       "    <tr>\n",
       "      <th>1459</th>\n",
       "      <td>9937</td>\n",
       "      <td>1256</td>\n",
       "      <td>1256</td>\n",
       "      <td>147500</td>\n",
       "      <td>TA</td>\n",
       "      <td>WD</td>\n",
       "      <td>RL</td>\n",
       "      <td>Pave</td>\n",
       "      <td>Edwards</td>\n",
       "      <td>0</td>\n",
       "      <td>0</td>\n",
       "      <td>1</td>\n",
       "      <td>0</td>\n",
       "      <td>0</td>\n",
       "      <td>0</td>\n",
       "      <td>0</td>\n",
       "    </tr>\n",
       "  </tbody>\n",
       "</table>\n",
       "<p>1460 rows × 16 columns</p>\n",
       "</div>"
      ],
      "text/plain": [
       "      LotArea  1stFlrSF  GrLivArea  ...  ohe_Duplex ohe_Twnhs ohe_TwnhsE\n",
       "0        8450       856       1710  ...           0         0          0\n",
       "1        9600      1262       1262  ...           0         0          0\n",
       "2       11250       920       1786  ...           0         0          0\n",
       "3        9550       961       1717  ...           0         0          0\n",
       "4       14260      1145       2198  ...           0         0          0\n",
       "...       ...       ...        ...  ...         ...       ...        ...\n",
       "1455     7917       953       1647  ...           0         0          0\n",
       "1456    13175      2073       2073  ...           0         0          0\n",
       "1457     9042      1188       2340  ...           0         0          0\n",
       "1458     9717      1078       1078  ...           0         0          0\n",
       "1459     9937      1256       1256  ...           0         0          0\n",
       "\n",
       "[1460 rows x 16 columns]"
      ]
     },
     "execution_count": 41,
     "metadata": {},
     "output_type": "execute_result"
    }
   ],
   "source": [
    "df_dummies = pd.get_dummies(df,columns=['BldgType'],prefix=\"ohe\")\n",
    "df_dummies"
   ]
  },
  {
   "cell_type": "code",
   "execution_count": null,
   "metadata": {
    "ExecuteTime": {
     "end_time": "2020-08-20T00:46:18.619676Z",
     "start_time": "2020-08-20T00:46:18.601030Z"
    },
    "colab": {
     "base_uri": "https://localhost:8080/",
     "height": 204
    },
    "colab_type": "code",
    "id": "p8C__4U25FtQ",
    "outputId": "fe91d93f-9c17-40ba-8f71-d8492167e4ae"
   },
   "outputs": [],
   "source": []
  },
  {
   "cell_type": "code",
   "execution_count": null,
   "metadata": {
    "ExecuteTime": {
     "end_time": "2020-07-15T22:10:50.045884Z",
     "start_time": "2020-07-15T22:10:50.029698Z"
    },
    "colab": {
     "base_uri": "https://localhost:8080/",
     "height": 359
    },
    "colab_type": "code",
    "id": "GoMhXAgOhqrD",
    "outputId": "d9227a1c-ae4d-43b3-ef42-58cf97ed3f2a"
   },
   "outputs": [],
   "source": []
  },
  {
   "cell_type": "markdown",
   "metadata": {
    "colab_type": "text",
    "id": "A1o7B3dmaeGM"
   },
   "source": [
    "#### Via Scikit-Learn's LabelBinerizer"
   ]
  },
  {
   "cell_type": "code",
   "execution_count": 42,
   "metadata": {
    "ExecuteTime": {
     "end_time": "2020-08-20T17:39:02.764549Z",
     "start_time": "2020-08-20T17:39:02.741643Z"
    },
    "colab": {
     "base_uri": "https://localhost:8080/",
     "height": 359
    },
    "colab_type": "code",
    "id": "jaTfcvNmYg7y",
    "outputId": "ee2d51c7-3403-4db6-90f2-19aec193de59"
   },
   "outputs": [
    {
     "data": {
      "text/html": [
       "<div>\n",
       "<style scoped>\n",
       "    .dataframe tbody tr th:only-of-type {\n",
       "        vertical-align: middle;\n",
       "    }\n",
       "\n",
       "    .dataframe tbody tr th {\n",
       "        vertical-align: top;\n",
       "    }\n",
       "\n",
       "    .dataframe thead th {\n",
       "        text-align: right;\n",
       "    }\n",
       "</style>\n",
       "<table border=\"1\" class=\"dataframe\">\n",
       "  <thead>\n",
       "    <tr style=\"text-align: right;\">\n",
       "      <th></th>\n",
       "      <th>1Fam</th>\n",
       "      <th>2fmCon</th>\n",
       "      <th>Duplex</th>\n",
       "      <th>Twnhs</th>\n",
       "      <th>TwnhsE</th>\n",
       "    </tr>\n",
       "  </thead>\n",
       "  <tbody>\n",
       "    <tr>\n",
       "      <th>0</th>\n",
       "      <td>1</td>\n",
       "      <td>0</td>\n",
       "      <td>0</td>\n",
       "      <td>0</td>\n",
       "      <td>0</td>\n",
       "    </tr>\n",
       "    <tr>\n",
       "      <th>1</th>\n",
       "      <td>1</td>\n",
       "      <td>0</td>\n",
       "      <td>0</td>\n",
       "      <td>0</td>\n",
       "      <td>0</td>\n",
       "    </tr>\n",
       "    <tr>\n",
       "      <th>2</th>\n",
       "      <td>1</td>\n",
       "      <td>0</td>\n",
       "      <td>0</td>\n",
       "      <td>0</td>\n",
       "      <td>0</td>\n",
       "    </tr>\n",
       "    <tr>\n",
       "      <th>3</th>\n",
       "      <td>1</td>\n",
       "      <td>0</td>\n",
       "      <td>0</td>\n",
       "      <td>0</td>\n",
       "      <td>0</td>\n",
       "    </tr>\n",
       "    <tr>\n",
       "      <th>4</th>\n",
       "      <td>1</td>\n",
       "      <td>0</td>\n",
       "      <td>0</td>\n",
       "      <td>0</td>\n",
       "      <td>0</td>\n",
       "    </tr>\n",
       "    <tr>\n",
       "      <th>...</th>\n",
       "      <td>...</td>\n",
       "      <td>...</td>\n",
       "      <td>...</td>\n",
       "      <td>...</td>\n",
       "      <td>...</td>\n",
       "    </tr>\n",
       "    <tr>\n",
       "      <th>1455</th>\n",
       "      <td>1</td>\n",
       "      <td>0</td>\n",
       "      <td>0</td>\n",
       "      <td>0</td>\n",
       "      <td>0</td>\n",
       "    </tr>\n",
       "    <tr>\n",
       "      <th>1456</th>\n",
       "      <td>1</td>\n",
       "      <td>0</td>\n",
       "      <td>0</td>\n",
       "      <td>0</td>\n",
       "      <td>0</td>\n",
       "    </tr>\n",
       "    <tr>\n",
       "      <th>1457</th>\n",
       "      <td>1</td>\n",
       "      <td>0</td>\n",
       "      <td>0</td>\n",
       "      <td>0</td>\n",
       "      <td>0</td>\n",
       "    </tr>\n",
       "    <tr>\n",
       "      <th>1458</th>\n",
       "      <td>1</td>\n",
       "      <td>0</td>\n",
       "      <td>0</td>\n",
       "      <td>0</td>\n",
       "      <td>0</td>\n",
       "    </tr>\n",
       "    <tr>\n",
       "      <th>1459</th>\n",
       "      <td>1</td>\n",
       "      <td>0</td>\n",
       "      <td>0</td>\n",
       "      <td>0</td>\n",
       "      <td>0</td>\n",
       "    </tr>\n",
       "  </tbody>\n",
       "</table>\n",
       "<p>1460 rows × 5 columns</p>\n",
       "</div>"
      ],
      "text/plain": [
       "      1Fam  2fmCon  Duplex  Twnhs  TwnhsE\n",
       "0        1       0       0      0       0\n",
       "1        1       0       0      0       0\n",
       "2        1       0       0      0       0\n",
       "3        1       0       0      0       0\n",
       "4        1       0       0      0       0\n",
       "...    ...     ...     ...    ...     ...\n",
       "1455     1       0       0      0       0\n",
       "1456     1       0       0      0       0\n",
       "1457     1       0       0      0       0\n",
       "1458     1       0       0      0       0\n",
       "1459     1       0       0      0       0\n",
       "\n",
       "[1460 rows x 5 columns]"
      ]
     },
     "execution_count": 42,
     "metadata": {},
     "output_type": "execute_result"
    }
   ],
   "source": [
    "from sklearn.preprocessing import LabelBinarizer\n",
    "binarizer = LabelBinarizer()\n",
    "ohe_vars = binarizer.fit_transform(df['BldgType'])\n",
    "pd.DataFrame(ohe_vars,columns=binarizer.classes_)"
   ]
  },
  {
   "cell_type": "markdown",
   "metadata": {
    "colab_type": "text",
    "id": "l90fioiAaoMp"
   },
   "source": [
    "### The Dummy Variable Trap\n"
   ]
  },
  {
   "cell_type": "code",
   "execution_count": 43,
   "metadata": {
    "ExecuteTime": {
     "end_time": "2020-08-20T17:39:02.786559Z",
     "start_time": "2020-08-20T17:39:02.765931Z"
    },
    "colab": {
     "base_uri": "https://localhost:8080/",
     "height": 359
    },
    "colab_type": "code",
    "id": "U99sFz-uakSG",
    "outputId": "ee09ba62-7c39-4aff-fa37-3a97875d826d"
   },
   "outputs": [
    {
     "data": {
      "text/html": [
       "<div>\n",
       "<style scoped>\n",
       "    .dataframe tbody tr th:only-of-type {\n",
       "        vertical-align: middle;\n",
       "    }\n",
       "\n",
       "    .dataframe tbody tr th {\n",
       "        vertical-align: top;\n",
       "    }\n",
       "\n",
       "    .dataframe thead th {\n",
       "        text-align: right;\n",
       "    }\n",
       "</style>\n",
       "<table border=\"1\" class=\"dataframe\">\n",
       "  <thead>\n",
       "    <tr style=\"text-align: right;\">\n",
       "      <th></th>\n",
       "      <th>2fmCon</th>\n",
       "      <th>Duplex</th>\n",
       "      <th>Twnhs</th>\n",
       "      <th>TwnhsE</th>\n",
       "    </tr>\n",
       "  </thead>\n",
       "  <tbody>\n",
       "    <tr>\n",
       "      <th>0</th>\n",
       "      <td>0</td>\n",
       "      <td>0</td>\n",
       "      <td>0</td>\n",
       "      <td>0</td>\n",
       "    </tr>\n",
       "    <tr>\n",
       "      <th>1</th>\n",
       "      <td>0</td>\n",
       "      <td>0</td>\n",
       "      <td>0</td>\n",
       "      <td>0</td>\n",
       "    </tr>\n",
       "    <tr>\n",
       "      <th>2</th>\n",
       "      <td>0</td>\n",
       "      <td>0</td>\n",
       "      <td>0</td>\n",
       "      <td>0</td>\n",
       "    </tr>\n",
       "    <tr>\n",
       "      <th>3</th>\n",
       "      <td>0</td>\n",
       "      <td>0</td>\n",
       "      <td>0</td>\n",
       "      <td>0</td>\n",
       "    </tr>\n",
       "    <tr>\n",
       "      <th>4</th>\n",
       "      <td>0</td>\n",
       "      <td>0</td>\n",
       "      <td>0</td>\n",
       "      <td>0</td>\n",
       "    </tr>\n",
       "    <tr>\n",
       "      <th>...</th>\n",
       "      <td>...</td>\n",
       "      <td>...</td>\n",
       "      <td>...</td>\n",
       "      <td>...</td>\n",
       "    </tr>\n",
       "    <tr>\n",
       "      <th>1455</th>\n",
       "      <td>0</td>\n",
       "      <td>0</td>\n",
       "      <td>0</td>\n",
       "      <td>0</td>\n",
       "    </tr>\n",
       "    <tr>\n",
       "      <th>1456</th>\n",
       "      <td>0</td>\n",
       "      <td>0</td>\n",
       "      <td>0</td>\n",
       "      <td>0</td>\n",
       "    </tr>\n",
       "    <tr>\n",
       "      <th>1457</th>\n",
       "      <td>0</td>\n",
       "      <td>0</td>\n",
       "      <td>0</td>\n",
       "      <td>0</td>\n",
       "    </tr>\n",
       "    <tr>\n",
       "      <th>1458</th>\n",
       "      <td>0</td>\n",
       "      <td>0</td>\n",
       "      <td>0</td>\n",
       "      <td>0</td>\n",
       "    </tr>\n",
       "    <tr>\n",
       "      <th>1459</th>\n",
       "      <td>0</td>\n",
       "      <td>0</td>\n",
       "      <td>0</td>\n",
       "      <td>0</td>\n",
       "    </tr>\n",
       "  </tbody>\n",
       "</table>\n",
       "<p>1460 rows × 4 columns</p>\n",
       "</div>"
      ],
      "text/plain": [
       "      2fmCon  Duplex  Twnhs   TwnhsE\n",
       "0          0       0       0       0\n",
       "1          0       0       0       0\n",
       "2          0       0       0       0\n",
       "3          0       0       0       0\n",
       "4          0       0       0       0\n",
       "...      ...     ...     ...     ...\n",
       "1455       0       0       0       0\n",
       "1456       0       0       0       0\n",
       "1457       0       0       0       0\n",
       "1458       0       0       0       0\n",
       "1459       0       0       0       0\n",
       "\n",
       "[1460 rows x 4 columns]"
      ]
     },
     "execution_count": 43,
     "metadata": {},
     "output_type": "execute_result"
    }
   ],
   "source": [
    "df_dummies = pd.get_dummies(df['BldgType'],drop_first=True)#,prefix=\"ohe\")\n",
    "df_dummies"
   ]
  },
  {
   "cell_type": "markdown",
   "metadata": {},
   "source": [
    "## Testing Out Our Model With Encoded Categorical Data"
   ]
  },
  {
   "cell_type": "code",
   "execution_count": 44,
   "metadata": {
    "ExecuteTime": {
     "end_time": "2020-08-20T17:39:02.792279Z",
     "start_time": "2020-08-20T17:39:02.788300Z"
    }
   },
   "outputs": [
    {
     "data": {
      "text/plain": [
       "Index(['BldgType', 'KitchenQual', 'SaleType', 'MSZoning', 'Street',\n",
       "       'Neighborhood'],\n",
       "      dtype='object')"
      ]
     },
     "execution_count": 44,
     "metadata": {},
     "output_type": "execute_result"
    }
   ],
   "source": [
    "cat_cols"
   ]
  },
  {
   "cell_type": "code",
   "execution_count": 45,
   "metadata": {
    "ExecuteTime": {
     "end_time": "2020-08-20T17:39:02.795961Z",
     "start_time": "2020-08-20T17:39:02.793760Z"
    }
   },
   "outputs": [],
   "source": [
    "# df_clean"
   ]
  },
  {
   "cell_type": "code",
   "execution_count": 46,
   "metadata": {
    "ExecuteTime": {
     "end_time": "2020-08-20T17:39:02.883263Z",
     "start_time": "2020-08-20T17:39:02.797536Z"
    }
   },
   "outputs": [
    {
     "data": {
      "text/html": [
       "<div>\n",
       "<style scoped>\n",
       "    .dataframe tbody tr th:only-of-type {\n",
       "        vertical-align: middle;\n",
       "    }\n",
       "\n",
       "    .dataframe tbody tr th {\n",
       "        vertical-align: top;\n",
       "    }\n",
       "\n",
       "    .dataframe thead th {\n",
       "        text-align: right;\n",
       "    }\n",
       "</style>\n",
       "<table border=\"1\" class=\"dataframe\">\n",
       "  <thead>\n",
       "    <tr style=\"text-align: right;\">\n",
       "      <th></th>\n",
       "      <th>LotArea</th>\n",
       "      <th>1stFlrSF</th>\n",
       "      <th>GrLivArea</th>\n",
       "      <th>SalePrice</th>\n",
       "      <th>BldgType_le</th>\n",
       "      <th>BldgType_le_sk</th>\n",
       "      <th>BldgType_2fmCon</th>\n",
       "      <th>BldgType_Duplex</th>\n",
       "      <th>BldgType_Twnhs</th>\n",
       "      <th>BldgType_TwnhsE</th>\n",
       "      <th>KitchenQual_Fa</th>\n",
       "      <th>KitchenQual_Gd</th>\n",
       "      <th>KitchenQual_TA</th>\n",
       "      <th>SaleType_CWD</th>\n",
       "      <th>SaleType_Con</th>\n",
       "      <th>SaleType_ConLD</th>\n",
       "      <th>SaleType_ConLI</th>\n",
       "      <th>SaleType_ConLw</th>\n",
       "      <th>SaleType_New</th>\n",
       "      <th>SaleType_Oth</th>\n",
       "      <th>SaleType_WD</th>\n",
       "      <th>MSZoning_FV</th>\n",
       "      <th>MSZoning_RH</th>\n",
       "      <th>MSZoning_RL</th>\n",
       "      <th>MSZoning_RM</th>\n",
       "      <th>Street_Pave</th>\n",
       "      <th>Neighborhood_Blueste</th>\n",
       "      <th>Neighborhood_BrDale</th>\n",
       "      <th>Neighborhood_BrkSide</th>\n",
       "      <th>Neighborhood_ClearCr</th>\n",
       "      <th>Neighborhood_CollgCr</th>\n",
       "      <th>Neighborhood_Crawfor</th>\n",
       "      <th>Neighborhood_Edwards</th>\n",
       "      <th>Neighborhood_Gilbert</th>\n",
       "      <th>Neighborhood_IDOTRR</th>\n",
       "      <th>Neighborhood_MeadowV</th>\n",
       "      <th>Neighborhood_Mitchel</th>\n",
       "      <th>Neighborhood_NAmes</th>\n",
       "      <th>Neighborhood_NPkVill</th>\n",
       "      <th>Neighborhood_NWAmes</th>\n",
       "      <th>Neighborhood_NoRidge</th>\n",
       "      <th>Neighborhood_NridgHt</th>\n",
       "      <th>Neighborhood_OldTown</th>\n",
       "      <th>Neighborhood_SWISU</th>\n",
       "      <th>Neighborhood_Sawyer</th>\n",
       "      <th>Neighborhood_SawyerW</th>\n",
       "      <th>Neighborhood_Somerst</th>\n",
       "      <th>Neighborhood_StoneBr</th>\n",
       "      <th>Neighborhood_Timber</th>\n",
       "      <th>Neighborhood_Veenker</th>\n",
       "    </tr>\n",
       "  </thead>\n",
       "  <tbody>\n",
       "    <tr>\n",
       "      <th>0</th>\n",
       "      <td>8450</td>\n",
       "      <td>856</td>\n",
       "      <td>1710</td>\n",
       "      <td>208500</td>\n",
       "      <td>0</td>\n",
       "      <td>0</td>\n",
       "      <td>0</td>\n",
       "      <td>0</td>\n",
       "      <td>0</td>\n",
       "      <td>0</td>\n",
       "      <td>0</td>\n",
       "      <td>1</td>\n",
       "      <td>0</td>\n",
       "      <td>0</td>\n",
       "      <td>0</td>\n",
       "      <td>0</td>\n",
       "      <td>0</td>\n",
       "      <td>0</td>\n",
       "      <td>0</td>\n",
       "      <td>0</td>\n",
       "      <td>1</td>\n",
       "      <td>0</td>\n",
       "      <td>0</td>\n",
       "      <td>1</td>\n",
       "      <td>0</td>\n",
       "      <td>1</td>\n",
       "      <td>0</td>\n",
       "      <td>0</td>\n",
       "      <td>0</td>\n",
       "      <td>0</td>\n",
       "      <td>1</td>\n",
       "      <td>0</td>\n",
       "      <td>0</td>\n",
       "      <td>0</td>\n",
       "      <td>0</td>\n",
       "      <td>0</td>\n",
       "      <td>0</td>\n",
       "      <td>0</td>\n",
       "      <td>0</td>\n",
       "      <td>0</td>\n",
       "      <td>0</td>\n",
       "      <td>0</td>\n",
       "      <td>0</td>\n",
       "      <td>0</td>\n",
       "      <td>0</td>\n",
       "      <td>0</td>\n",
       "      <td>0</td>\n",
       "      <td>0</td>\n",
       "      <td>0</td>\n",
       "      <td>0</td>\n",
       "    </tr>\n",
       "    <tr>\n",
       "      <th>1</th>\n",
       "      <td>9600</td>\n",
       "      <td>1262</td>\n",
       "      <td>1262</td>\n",
       "      <td>181500</td>\n",
       "      <td>0</td>\n",
       "      <td>0</td>\n",
       "      <td>0</td>\n",
       "      <td>0</td>\n",
       "      <td>0</td>\n",
       "      <td>0</td>\n",
       "      <td>0</td>\n",
       "      <td>0</td>\n",
       "      <td>1</td>\n",
       "      <td>0</td>\n",
       "      <td>0</td>\n",
       "      <td>0</td>\n",
       "      <td>0</td>\n",
       "      <td>0</td>\n",
       "      <td>0</td>\n",
       "      <td>0</td>\n",
       "      <td>1</td>\n",
       "      <td>0</td>\n",
       "      <td>0</td>\n",
       "      <td>1</td>\n",
       "      <td>0</td>\n",
       "      <td>1</td>\n",
       "      <td>0</td>\n",
       "      <td>0</td>\n",
       "      <td>0</td>\n",
       "      <td>0</td>\n",
       "      <td>0</td>\n",
       "      <td>0</td>\n",
       "      <td>0</td>\n",
       "      <td>0</td>\n",
       "      <td>0</td>\n",
       "      <td>0</td>\n",
       "      <td>0</td>\n",
       "      <td>0</td>\n",
       "      <td>0</td>\n",
       "      <td>0</td>\n",
       "      <td>0</td>\n",
       "      <td>0</td>\n",
       "      <td>0</td>\n",
       "      <td>0</td>\n",
       "      <td>0</td>\n",
       "      <td>0</td>\n",
       "      <td>0</td>\n",
       "      <td>0</td>\n",
       "      <td>0</td>\n",
       "      <td>1</td>\n",
       "    </tr>\n",
       "    <tr>\n",
       "      <th>2</th>\n",
       "      <td>11250</td>\n",
       "      <td>920</td>\n",
       "      <td>1786</td>\n",
       "      <td>223500</td>\n",
       "      <td>0</td>\n",
       "      <td>0</td>\n",
       "      <td>0</td>\n",
       "      <td>0</td>\n",
       "      <td>0</td>\n",
       "      <td>0</td>\n",
       "      <td>0</td>\n",
       "      <td>1</td>\n",
       "      <td>0</td>\n",
       "      <td>0</td>\n",
       "      <td>0</td>\n",
       "      <td>0</td>\n",
       "      <td>0</td>\n",
       "      <td>0</td>\n",
       "      <td>0</td>\n",
       "      <td>0</td>\n",
       "      <td>1</td>\n",
       "      <td>0</td>\n",
       "      <td>0</td>\n",
       "      <td>1</td>\n",
       "      <td>0</td>\n",
       "      <td>1</td>\n",
       "      <td>0</td>\n",
       "      <td>0</td>\n",
       "      <td>0</td>\n",
       "      <td>0</td>\n",
       "      <td>1</td>\n",
       "      <td>0</td>\n",
       "      <td>0</td>\n",
       "      <td>0</td>\n",
       "      <td>0</td>\n",
       "      <td>0</td>\n",
       "      <td>0</td>\n",
       "      <td>0</td>\n",
       "      <td>0</td>\n",
       "      <td>0</td>\n",
       "      <td>0</td>\n",
       "      <td>0</td>\n",
       "      <td>0</td>\n",
       "      <td>0</td>\n",
       "      <td>0</td>\n",
       "      <td>0</td>\n",
       "      <td>0</td>\n",
       "      <td>0</td>\n",
       "      <td>0</td>\n",
       "      <td>0</td>\n",
       "    </tr>\n",
       "    <tr>\n",
       "      <th>3</th>\n",
       "      <td>9550</td>\n",
       "      <td>961</td>\n",
       "      <td>1717</td>\n",
       "      <td>140000</td>\n",
       "      <td>0</td>\n",
       "      <td>0</td>\n",
       "      <td>0</td>\n",
       "      <td>0</td>\n",
       "      <td>0</td>\n",
       "      <td>0</td>\n",
       "      <td>0</td>\n",
       "      <td>1</td>\n",
       "      <td>0</td>\n",
       "      <td>0</td>\n",
       "      <td>0</td>\n",
       "      <td>0</td>\n",
       "      <td>0</td>\n",
       "      <td>0</td>\n",
       "      <td>0</td>\n",
       "      <td>0</td>\n",
       "      <td>1</td>\n",
       "      <td>0</td>\n",
       "      <td>0</td>\n",
       "      <td>1</td>\n",
       "      <td>0</td>\n",
       "      <td>1</td>\n",
       "      <td>0</td>\n",
       "      <td>0</td>\n",
       "      <td>0</td>\n",
       "      <td>0</td>\n",
       "      <td>0</td>\n",
       "      <td>1</td>\n",
       "      <td>0</td>\n",
       "      <td>0</td>\n",
       "      <td>0</td>\n",
       "      <td>0</td>\n",
       "      <td>0</td>\n",
       "      <td>0</td>\n",
       "      <td>0</td>\n",
       "      <td>0</td>\n",
       "      <td>0</td>\n",
       "      <td>0</td>\n",
       "      <td>0</td>\n",
       "      <td>0</td>\n",
       "      <td>0</td>\n",
       "      <td>0</td>\n",
       "      <td>0</td>\n",
       "      <td>0</td>\n",
       "      <td>0</td>\n",
       "      <td>0</td>\n",
       "    </tr>\n",
       "    <tr>\n",
       "      <th>4</th>\n",
       "      <td>14260</td>\n",
       "      <td>1145</td>\n",
       "      <td>2198</td>\n",
       "      <td>250000</td>\n",
       "      <td>0</td>\n",
       "      <td>0</td>\n",
       "      <td>0</td>\n",
       "      <td>0</td>\n",
       "      <td>0</td>\n",
       "      <td>0</td>\n",
       "      <td>0</td>\n",
       "      <td>1</td>\n",
       "      <td>0</td>\n",
       "      <td>0</td>\n",
       "      <td>0</td>\n",
       "      <td>0</td>\n",
       "      <td>0</td>\n",
       "      <td>0</td>\n",
       "      <td>0</td>\n",
       "      <td>0</td>\n",
       "      <td>1</td>\n",
       "      <td>0</td>\n",
       "      <td>0</td>\n",
       "      <td>1</td>\n",
       "      <td>0</td>\n",
       "      <td>1</td>\n",
       "      <td>0</td>\n",
       "      <td>0</td>\n",
       "      <td>0</td>\n",
       "      <td>0</td>\n",
       "      <td>0</td>\n",
       "      <td>0</td>\n",
       "      <td>0</td>\n",
       "      <td>0</td>\n",
       "      <td>0</td>\n",
       "      <td>0</td>\n",
       "      <td>0</td>\n",
       "      <td>0</td>\n",
       "      <td>0</td>\n",
       "      <td>0</td>\n",
       "      <td>1</td>\n",
       "      <td>0</td>\n",
       "      <td>0</td>\n",
       "      <td>0</td>\n",
       "      <td>0</td>\n",
       "      <td>0</td>\n",
       "      <td>0</td>\n",
       "      <td>0</td>\n",
       "      <td>0</td>\n",
       "      <td>0</td>\n",
       "    </tr>\n",
       "    <tr>\n",
       "      <th>...</th>\n",
       "      <td>...</td>\n",
       "      <td>...</td>\n",
       "      <td>...</td>\n",
       "      <td>...</td>\n",
       "      <td>...</td>\n",
       "      <td>...</td>\n",
       "      <td>...</td>\n",
       "      <td>...</td>\n",
       "      <td>...</td>\n",
       "      <td>...</td>\n",
       "      <td>...</td>\n",
       "      <td>...</td>\n",
       "      <td>...</td>\n",
       "      <td>...</td>\n",
       "      <td>...</td>\n",
       "      <td>...</td>\n",
       "      <td>...</td>\n",
       "      <td>...</td>\n",
       "      <td>...</td>\n",
       "      <td>...</td>\n",
       "      <td>...</td>\n",
       "      <td>...</td>\n",
       "      <td>...</td>\n",
       "      <td>...</td>\n",
       "      <td>...</td>\n",
       "      <td>...</td>\n",
       "      <td>...</td>\n",
       "      <td>...</td>\n",
       "      <td>...</td>\n",
       "      <td>...</td>\n",
       "      <td>...</td>\n",
       "      <td>...</td>\n",
       "      <td>...</td>\n",
       "      <td>...</td>\n",
       "      <td>...</td>\n",
       "      <td>...</td>\n",
       "      <td>...</td>\n",
       "      <td>...</td>\n",
       "      <td>...</td>\n",
       "      <td>...</td>\n",
       "      <td>...</td>\n",
       "      <td>...</td>\n",
       "      <td>...</td>\n",
       "      <td>...</td>\n",
       "      <td>...</td>\n",
       "      <td>...</td>\n",
       "      <td>...</td>\n",
       "      <td>...</td>\n",
       "      <td>...</td>\n",
       "      <td>...</td>\n",
       "    </tr>\n",
       "    <tr>\n",
       "      <th>1455</th>\n",
       "      <td>7917</td>\n",
       "      <td>953</td>\n",
       "      <td>1647</td>\n",
       "      <td>175000</td>\n",
       "      <td>0</td>\n",
       "      <td>0</td>\n",
       "      <td>0</td>\n",
       "      <td>0</td>\n",
       "      <td>0</td>\n",
       "      <td>0</td>\n",
       "      <td>0</td>\n",
       "      <td>0</td>\n",
       "      <td>1</td>\n",
       "      <td>0</td>\n",
       "      <td>0</td>\n",
       "      <td>0</td>\n",
       "      <td>0</td>\n",
       "      <td>0</td>\n",
       "      <td>0</td>\n",
       "      <td>0</td>\n",
       "      <td>1</td>\n",
       "      <td>0</td>\n",
       "      <td>0</td>\n",
       "      <td>1</td>\n",
       "      <td>0</td>\n",
       "      <td>1</td>\n",
       "      <td>0</td>\n",
       "      <td>0</td>\n",
       "      <td>0</td>\n",
       "      <td>0</td>\n",
       "      <td>0</td>\n",
       "      <td>0</td>\n",
       "      <td>0</td>\n",
       "      <td>1</td>\n",
       "      <td>0</td>\n",
       "      <td>0</td>\n",
       "      <td>0</td>\n",
       "      <td>0</td>\n",
       "      <td>0</td>\n",
       "      <td>0</td>\n",
       "      <td>0</td>\n",
       "      <td>0</td>\n",
       "      <td>0</td>\n",
       "      <td>0</td>\n",
       "      <td>0</td>\n",
       "      <td>0</td>\n",
       "      <td>0</td>\n",
       "      <td>0</td>\n",
       "      <td>0</td>\n",
       "      <td>0</td>\n",
       "    </tr>\n",
       "    <tr>\n",
       "      <th>1456</th>\n",
       "      <td>13175</td>\n",
       "      <td>2073</td>\n",
       "      <td>2073</td>\n",
       "      <td>210000</td>\n",
       "      <td>0</td>\n",
       "      <td>0</td>\n",
       "      <td>0</td>\n",
       "      <td>0</td>\n",
       "      <td>0</td>\n",
       "      <td>0</td>\n",
       "      <td>0</td>\n",
       "      <td>0</td>\n",
       "      <td>1</td>\n",
       "      <td>0</td>\n",
       "      <td>0</td>\n",
       "      <td>0</td>\n",
       "      <td>0</td>\n",
       "      <td>0</td>\n",
       "      <td>0</td>\n",
       "      <td>0</td>\n",
       "      <td>1</td>\n",
       "      <td>0</td>\n",
       "      <td>0</td>\n",
       "      <td>1</td>\n",
       "      <td>0</td>\n",
       "      <td>1</td>\n",
       "      <td>0</td>\n",
       "      <td>0</td>\n",
       "      <td>0</td>\n",
       "      <td>0</td>\n",
       "      <td>0</td>\n",
       "      <td>0</td>\n",
       "      <td>0</td>\n",
       "      <td>0</td>\n",
       "      <td>0</td>\n",
       "      <td>0</td>\n",
       "      <td>0</td>\n",
       "      <td>0</td>\n",
       "      <td>0</td>\n",
       "      <td>1</td>\n",
       "      <td>0</td>\n",
       "      <td>0</td>\n",
       "      <td>0</td>\n",
       "      <td>0</td>\n",
       "      <td>0</td>\n",
       "      <td>0</td>\n",
       "      <td>0</td>\n",
       "      <td>0</td>\n",
       "      <td>0</td>\n",
       "      <td>0</td>\n",
       "    </tr>\n",
       "    <tr>\n",
       "      <th>1457</th>\n",
       "      <td>9042</td>\n",
       "      <td>1188</td>\n",
       "      <td>2340</td>\n",
       "      <td>266500</td>\n",
       "      <td>0</td>\n",
       "      <td>0</td>\n",
       "      <td>0</td>\n",
       "      <td>0</td>\n",
       "      <td>0</td>\n",
       "      <td>0</td>\n",
       "      <td>0</td>\n",
       "      <td>1</td>\n",
       "      <td>0</td>\n",
       "      <td>0</td>\n",
       "      <td>0</td>\n",
       "      <td>0</td>\n",
       "      <td>0</td>\n",
       "      <td>0</td>\n",
       "      <td>0</td>\n",
       "      <td>0</td>\n",
       "      <td>1</td>\n",
       "      <td>0</td>\n",
       "      <td>0</td>\n",
       "      <td>1</td>\n",
       "      <td>0</td>\n",
       "      <td>1</td>\n",
       "      <td>0</td>\n",
       "      <td>0</td>\n",
       "      <td>0</td>\n",
       "      <td>0</td>\n",
       "      <td>0</td>\n",
       "      <td>1</td>\n",
       "      <td>0</td>\n",
       "      <td>0</td>\n",
       "      <td>0</td>\n",
       "      <td>0</td>\n",
       "      <td>0</td>\n",
       "      <td>0</td>\n",
       "      <td>0</td>\n",
       "      <td>0</td>\n",
       "      <td>0</td>\n",
       "      <td>0</td>\n",
       "      <td>0</td>\n",
       "      <td>0</td>\n",
       "      <td>0</td>\n",
       "      <td>0</td>\n",
       "      <td>0</td>\n",
       "      <td>0</td>\n",
       "      <td>0</td>\n",
       "      <td>0</td>\n",
       "    </tr>\n",
       "    <tr>\n",
       "      <th>1458</th>\n",
       "      <td>9717</td>\n",
       "      <td>1078</td>\n",
       "      <td>1078</td>\n",
       "      <td>142125</td>\n",
       "      <td>0</td>\n",
       "      <td>0</td>\n",
       "      <td>0</td>\n",
       "      <td>0</td>\n",
       "      <td>0</td>\n",
       "      <td>0</td>\n",
       "      <td>0</td>\n",
       "      <td>1</td>\n",
       "      <td>0</td>\n",
       "      <td>0</td>\n",
       "      <td>0</td>\n",
       "      <td>0</td>\n",
       "      <td>0</td>\n",
       "      <td>0</td>\n",
       "      <td>0</td>\n",
       "      <td>0</td>\n",
       "      <td>1</td>\n",
       "      <td>0</td>\n",
       "      <td>0</td>\n",
       "      <td>1</td>\n",
       "      <td>0</td>\n",
       "      <td>1</td>\n",
       "      <td>0</td>\n",
       "      <td>0</td>\n",
       "      <td>0</td>\n",
       "      <td>0</td>\n",
       "      <td>0</td>\n",
       "      <td>0</td>\n",
       "      <td>0</td>\n",
       "      <td>0</td>\n",
       "      <td>0</td>\n",
       "      <td>0</td>\n",
       "      <td>0</td>\n",
       "      <td>1</td>\n",
       "      <td>0</td>\n",
       "      <td>0</td>\n",
       "      <td>0</td>\n",
       "      <td>0</td>\n",
       "      <td>0</td>\n",
       "      <td>0</td>\n",
       "      <td>0</td>\n",
       "      <td>0</td>\n",
       "      <td>0</td>\n",
       "      <td>0</td>\n",
       "      <td>0</td>\n",
       "      <td>0</td>\n",
       "    </tr>\n",
       "    <tr>\n",
       "      <th>1459</th>\n",
       "      <td>9937</td>\n",
       "      <td>1256</td>\n",
       "      <td>1256</td>\n",
       "      <td>147500</td>\n",
       "      <td>0</td>\n",
       "      <td>0</td>\n",
       "      <td>0</td>\n",
       "      <td>0</td>\n",
       "      <td>0</td>\n",
       "      <td>0</td>\n",
       "      <td>0</td>\n",
       "      <td>0</td>\n",
       "      <td>1</td>\n",
       "      <td>0</td>\n",
       "      <td>0</td>\n",
       "      <td>0</td>\n",
       "      <td>0</td>\n",
       "      <td>0</td>\n",
       "      <td>0</td>\n",
       "      <td>0</td>\n",
       "      <td>1</td>\n",
       "      <td>0</td>\n",
       "      <td>0</td>\n",
       "      <td>1</td>\n",
       "      <td>0</td>\n",
       "      <td>1</td>\n",
       "      <td>0</td>\n",
       "      <td>0</td>\n",
       "      <td>0</td>\n",
       "      <td>0</td>\n",
       "      <td>0</td>\n",
       "      <td>0</td>\n",
       "      <td>1</td>\n",
       "      <td>0</td>\n",
       "      <td>0</td>\n",
       "      <td>0</td>\n",
       "      <td>0</td>\n",
       "      <td>0</td>\n",
       "      <td>0</td>\n",
       "      <td>0</td>\n",
       "      <td>0</td>\n",
       "      <td>0</td>\n",
       "      <td>0</td>\n",
       "      <td>0</td>\n",
       "      <td>0</td>\n",
       "      <td>0</td>\n",
       "      <td>0</td>\n",
       "      <td>0</td>\n",
       "      <td>0</td>\n",
       "      <td>0</td>\n",
       "    </tr>\n",
       "  </tbody>\n",
       "</table>\n",
       "<p>1460 rows × 50 columns</p>\n",
       "</div>"
      ],
      "text/plain": [
       "      LotArea  1stFlrSF  ...  Neighborhood_Timber  Neighborhood_Veenker\n",
       "0        8450       856  ...                    0                     0\n",
       "1        9600      1262  ...                    0                     1\n",
       "2       11250       920  ...                    0                     0\n",
       "3        9550       961  ...                    0                     0\n",
       "4       14260      1145  ...                    0                     0\n",
       "...       ...       ...  ...                  ...                   ...\n",
       "1455     7917       953  ...                    0                     0\n",
       "1456    13175      2073  ...                    0                     0\n",
       "1457     9042      1188  ...                    0                     0\n",
       "1458     9717      1078  ...                    0                     0\n",
       "1459     9937      1256  ...                    0                     0\n",
       "\n",
       "[1460 rows x 50 columns]"
      ]
     },
     "execution_count": 46,
     "metadata": {},
     "output_type": "execute_result"
    }
   ],
   "source": [
    "df_dummies = pd.get_dummies(df,columns=cat_cols,drop_first=True)#,prefix=\"ohe\")\n",
    "df_dummies"
   ]
  },
  {
   "cell_type": "code",
   "execution_count": 47,
   "metadata": {
    "ExecuteTime": {
     "end_time": "2020-08-20T17:39:02.890278Z",
     "start_time": "2020-08-20T17:39:02.884787Z"
    }
   },
   "outputs": [
    {
     "data": {
      "text/plain": [
       "Index(['LotArea', 'FirstFlrSF', 'GrLivArea', 'SalePrice', 'BldgType_le',\n",
       "       'BldgType_le_sk', 'BldgType_2fmCon', 'BldgType_Duplex',\n",
       "       'BldgType_Twnhs', 'BldgType_TwnhsE', 'KitchenQual_Fa', 'KitchenQual_Gd',\n",
       "       'KitchenQual_TA', 'SaleType_CWD', 'SaleType_Con', 'SaleType_ConLD',\n",
       "       'SaleType_ConLI', 'SaleType_ConLw', 'SaleType_New', 'SaleType_Oth',\n",
       "       'SaleType_WD', 'MSZoning_FV', 'MSZoning_RH', 'MSZoning_RL',\n",
       "       'MSZoning_RM', 'Street_Pave', 'Neighborhood_Blueste',\n",
       "       'Neighborhood_BrDale', 'Neighborhood_BrkSide', 'Neighborhood_ClearCr',\n",
       "       'Neighborhood_CollgCr', 'Neighborhood_Crawfor', 'Neighborhood_Edwards',\n",
       "       'Neighborhood_Gilbert', 'Neighborhood_IDOTRR', 'Neighborhood_MeadowV',\n",
       "       'Neighborhood_Mitchel', 'Neighborhood_NAmes', 'Neighborhood_NPkVill',\n",
       "       'Neighborhood_NWAmes', 'Neighborhood_NoRidge', 'Neighborhood_NridgHt',\n",
       "       'Neighborhood_OldTown', 'Neighborhood_SWISU', 'Neighborhood_Sawyer',\n",
       "       'Neighborhood_SawyerW', 'Neighborhood_Somerst', 'Neighborhood_StoneBr',\n",
       "       'Neighborhood_Timber', 'Neighborhood_Veenker'],\n",
       "      dtype='object')"
      ]
     },
     "execution_count": 47,
     "metadata": {},
     "output_type": "execute_result"
    }
   ],
   "source": [
    "df_dummies.rename({'1stFlrSF':'FirstFlrSF'},axis=1,inplace=True)\n",
    "df_dummies.columns"
   ]
  },
  {
   "cell_type": "code",
   "execution_count": 48,
   "metadata": {
    "ExecuteTime": {
     "end_time": "2020-08-20T17:39:02.897831Z",
     "start_time": "2020-08-20T17:39:02.891940Z"
    }
   },
   "outputs": [
    {
     "data": {
      "text/plain": [
       "'LotArea + FirstFlrSF + GrLivArea + BldgType_le + BldgType_le_sk + BldgType_2fmCon + BldgType_Duplex + BldgType_Twnhs + BldgType_TwnhsE + KitchenQual_Fa + KitchenQual_Gd + KitchenQual_TA + SaleType_CWD + SaleType_Con + SaleType_ConLD + SaleType_ConLI + SaleType_ConLw + SaleType_New + SaleType_Oth + SaleType_WD + MSZoning_FV + MSZoning_RH + MSZoning_RL + MSZoning_RM + Street_Pave + Neighborhood_Blueste + Neighborhood_BrDale + Neighborhood_BrkSide + Neighborhood_ClearCr + Neighborhood_CollgCr + Neighborhood_Crawfor + Neighborhood_Edwards + Neighborhood_Gilbert + Neighborhood_IDOTRR + Neighborhood_MeadowV + Neighborhood_Mitchel + Neighborhood_NAmes + Neighborhood_NPkVill + Neighborhood_NWAmes + Neighborhood_NoRidge + Neighborhood_NridgHt + Neighborhood_OldTown + Neighborhood_SWISU + Neighborhood_Sawyer + Neighborhood_SawyerW + Neighborhood_Somerst + Neighborhood_StoneBr + Neighborhood_Timber + Neighborhood_Veenker'"
      ]
     },
     "execution_count": 48,
     "metadata": {},
     "output_type": "execute_result"
    }
   ],
   "source": [
    "features = ' + '.join(df_dummies.drop(\"SalePrice\",axis=1).columns)\n",
    "features"
   ]
  },
  {
   "cell_type": "code",
   "execution_count": 49,
   "metadata": {
    "ExecuteTime": {
     "end_time": "2020-08-20T17:39:02.902827Z",
     "start_time": "2020-08-20T17:39:02.899339Z"
    }
   },
   "outputs": [
    {
     "data": {
      "text/plain": [
       "'SalePrice~LotArea + FirstFlrSF + GrLivArea + BldgType_le + BldgType_le_sk + BldgType_2fmCon + BldgType_Duplex + BldgType_Twnhs + BldgType_TwnhsE + KitchenQual_Fa + KitchenQual_Gd + KitchenQual_TA + SaleType_CWD + SaleType_Con + SaleType_ConLD + SaleType_ConLI + SaleType_ConLw + SaleType_New + SaleType_Oth + SaleType_WD + MSZoning_FV + MSZoning_RH + MSZoning_RL + MSZoning_RM + Street_Pave + Neighborhood_Blueste + Neighborhood_BrDale + Neighborhood_BrkSide + Neighborhood_ClearCr + Neighborhood_CollgCr + Neighborhood_Crawfor + Neighborhood_Edwards + Neighborhood_Gilbert + Neighborhood_IDOTRR + Neighborhood_MeadowV + Neighborhood_Mitchel + Neighborhood_NAmes + Neighborhood_NPkVill + Neighborhood_NWAmes + Neighborhood_NoRidge + Neighborhood_NridgHt + Neighborhood_OldTown + Neighborhood_SWISU + Neighborhood_Sawyer + Neighborhood_SawyerW + Neighborhood_Somerst + Neighborhood_StoneBr + Neighborhood_Timber + Neighborhood_Veenker'"
      ]
     },
     "execution_count": 49,
     "metadata": {},
     "output_type": "execute_result"
    }
   ],
   "source": [
    "f = \"SalePrice~\" + features\n",
    "f"
   ]
  },
  {
   "cell_type": "code",
   "execution_count": 50,
   "metadata": {
    "ExecuteTime": {
     "end_time": "2020-08-20T17:39:03.053021Z",
     "start_time": "2020-08-20T17:39:02.904479Z"
    },
    "scrolled": false
   },
   "outputs": [
    {
     "data": {
      "text/html": [
       "<table class=\"simpletable\">\n",
       "<caption>OLS Regression Results</caption>\n",
       "<tr>\n",
       "  <th>Dep. Variable:</th>        <td>SalePrice</td>    <th>  R-squared:         </th> <td>   0.812</td> \n",
       "</tr>\n",
       "<tr>\n",
       "  <th>Model:</th>                   <td>OLS</td>       <th>  Adj. R-squared:    </th> <td>   0.806</td> \n",
       "</tr>\n",
       "<tr>\n",
       "  <th>Method:</th>             <td>Least Squares</td>  <th>  F-statistic:       </th> <td>   129.8</td> \n",
       "</tr>\n",
       "<tr>\n",
       "  <th>Date:</th>             <td>Thu, 20 Aug 2020</td> <th>  Prob (F-statistic):</th>  <td>  0.00</td>  \n",
       "</tr>\n",
       "<tr>\n",
       "  <th>Time:</th>                 <td>13:39:03</td>     <th>  Log-Likelihood:    </th> <td> -17324.</td> \n",
       "</tr>\n",
       "<tr>\n",
       "  <th>No. Observations:</th>      <td>  1460</td>      <th>  AIC:               </th> <td>3.474e+04</td>\n",
       "</tr>\n",
       "<tr>\n",
       "  <th>Df Residuals:</th>          <td>  1412</td>      <th>  BIC:               </th> <td>3.500e+04</td>\n",
       "</tr>\n",
       "<tr>\n",
       "  <th>Df Model:</th>              <td>    47</td>      <th>                     </th>     <td> </td>    \n",
       "</tr>\n",
       "<tr>\n",
       "  <th>Covariance Type:</th>      <td>nonrobust</td>    <th>                     </th>     <td> </td>    \n",
       "</tr>\n",
       "</table>\n",
       "<table class=\"simpletable\">\n",
       "<tr>\n",
       "            <td></td>              <th>coef</th>     <th>std err</th>      <th>t</th>      <th>P>|t|</th>  <th>[0.025</th>    <th>0.975]</th>  \n",
       "</tr>\n",
       "<tr>\n",
       "  <th>Intercept</th>            <td> 1.171e+05</td> <td> 2.34e+04</td> <td>    4.999</td> <td> 0.000</td> <td> 7.12e+04</td> <td> 1.63e+05</td>\n",
       "</tr>\n",
       "<tr>\n",
       "  <th>LotArea</th>              <td>    0.4488</td> <td>    0.109</td> <td>    4.103</td> <td> 0.000</td> <td>    0.234</td> <td>    0.663</td>\n",
       "</tr>\n",
       "<tr>\n",
       "  <th>FirstFlrSF</th>           <td>   26.7057</td> <td>    3.448</td> <td>    7.745</td> <td> 0.000</td> <td>   19.942</td> <td>   33.470</td>\n",
       "</tr>\n",
       "<tr>\n",
       "  <th>GrLivArea</th>            <td>   53.2493</td> <td>    2.538</td> <td>   20.982</td> <td> 0.000</td> <td>   48.271</td> <td>   58.228</td>\n",
       "</tr>\n",
       "<tr>\n",
       "  <th>BldgType_le</th>          <td>-4771.0332</td> <td>  604.062</td> <td>   -7.898</td> <td> 0.000</td> <td>-5955.988</td> <td>-3586.078</td>\n",
       "</tr>\n",
       "<tr>\n",
       "  <th>BldgType_le_sk</th>       <td>-4771.0332</td> <td>  604.062</td> <td>   -7.898</td> <td> 0.000</td> <td>-5955.988</td> <td>-3586.078</td>\n",
       "</tr>\n",
       "<tr>\n",
       "  <th>BldgType_2fmCon</th>      <td>-4382.2763</td> <td> 6676.383</td> <td>   -0.656</td> <td> 0.512</td> <td>-1.75e+04</td> <td> 8714.420</td>\n",
       "</tr>\n",
       "<tr>\n",
       "  <th>BldgType_Duplex</th>      <td>-1.049e+04</td> <td> 5066.153</td> <td>   -2.070</td> <td> 0.039</td> <td>-2.04e+04</td> <td> -550.519</td>\n",
       "</tr>\n",
       "<tr>\n",
       "  <th>BldgType_Twnhs</th>       <td>-8784.2270</td> <td> 4976.863</td> <td>   -1.765</td> <td> 0.078</td> <td>-1.85e+04</td> <td>  978.615</td>\n",
       "</tr>\n",
       "<tr>\n",
       "  <th>BldgType_TwnhsE</th>      <td> 1.174e+04</td> <td> 3365.658</td> <td>    3.487</td> <td> 0.001</td> <td> 5133.010</td> <td> 1.83e+04</td>\n",
       "</tr>\n",
       "<tr>\n",
       "  <th>KitchenQual_Fa</th>       <td>-8.175e+04</td> <td> 7605.762</td> <td>  -10.749</td> <td> 0.000</td> <td>-9.67e+04</td> <td>-6.68e+04</td>\n",
       "</tr>\n",
       "<tr>\n",
       "  <th>KitchenQual_Gd</th>       <td>-5.172e+04</td> <td> 4355.935</td> <td>  -11.874</td> <td> 0.000</td> <td>-6.03e+04</td> <td>-4.32e+04</td>\n",
       "</tr>\n",
       "<tr>\n",
       "  <th>KitchenQual_TA</th>       <td>-6.873e+04</td> <td> 4819.103</td> <td>  -14.262</td> <td> 0.000</td> <td>-7.82e+04</td> <td>-5.93e+04</td>\n",
       "</tr>\n",
       "<tr>\n",
       "  <th>SaleType_CWD</th>         <td>  2.36e+04</td> <td> 1.85e+04</td> <td>    1.278</td> <td> 0.202</td> <td>-1.26e+04</td> <td> 5.98e+04</td>\n",
       "</tr>\n",
       "<tr>\n",
       "  <th>SaleType_Con</th>         <td> 6.148e+04</td> <td> 2.61e+04</td> <td>    2.356</td> <td> 0.019</td> <td> 1.03e+04</td> <td> 1.13e+05</td>\n",
       "</tr>\n",
       "<tr>\n",
       "  <th>SaleType_ConLD</th>       <td> 1.652e+04</td> <td> 1.33e+04</td> <td>    1.239</td> <td> 0.215</td> <td>-9628.110</td> <td> 4.27e+04</td>\n",
       "</tr>\n",
       "<tr>\n",
       "  <th>SaleType_ConLI</th>       <td> 1.141e+04</td> <td> 1.68e+04</td> <td>    0.681</td> <td> 0.496</td> <td>-2.15e+04</td> <td> 4.43e+04</td>\n",
       "</tr>\n",
       "<tr>\n",
       "  <th>SaleType_ConLw</th>       <td> 7098.8153</td> <td> 1.68e+04</td> <td>    0.423</td> <td> 0.672</td> <td>-2.58e+04</td> <td>    4e+04</td>\n",
       "</tr>\n",
       "<tr>\n",
       "  <th>SaleType_New</th>         <td> 2.727e+04</td> <td> 6767.082</td> <td>    4.030</td> <td> 0.000</td> <td>  1.4e+04</td> <td> 4.05e+04</td>\n",
       "</tr>\n",
       "<tr>\n",
       "  <th>SaleType_Oth</th>         <td>  1.12e+04</td> <td> 2.11e+04</td> <td>    0.532</td> <td> 0.595</td> <td>-3.01e+04</td> <td> 5.25e+04</td>\n",
       "</tr>\n",
       "<tr>\n",
       "  <th>SaleType_WD</th>          <td> 1.125e+04</td> <td> 5612.242</td> <td>    2.005</td> <td> 0.045</td> <td>  244.131</td> <td> 2.23e+04</td>\n",
       "</tr>\n",
       "<tr>\n",
       "  <th>MSZoning_FV</th>          <td> 2.548e+04</td> <td> 1.65e+04</td> <td>    1.540</td> <td> 0.124</td> <td>-6975.819</td> <td> 5.79e+04</td>\n",
       "</tr>\n",
       "<tr>\n",
       "  <th>MSZoning_RH</th>          <td> 1.416e+04</td> <td> 1.67e+04</td> <td>    0.849</td> <td> 0.396</td> <td>-1.86e+04</td> <td> 4.69e+04</td>\n",
       "</tr>\n",
       "<tr>\n",
       "  <th>MSZoning_RL</th>          <td> 2.279e+04</td> <td> 1.39e+04</td> <td>    1.639</td> <td> 0.101</td> <td>-4489.458</td> <td> 5.01e+04</td>\n",
       "</tr>\n",
       "<tr>\n",
       "  <th>MSZoning_RM</th>          <td> 3.403e+04</td> <td>  1.3e+04</td> <td>    2.612</td> <td> 0.009</td> <td> 8476.227</td> <td> 5.96e+04</td>\n",
       "</tr>\n",
       "<tr>\n",
       "  <th>Street_Pave</th>          <td>-3805.3061</td> <td> 1.56e+04</td> <td>   -0.244</td> <td> 0.807</td> <td>-3.44e+04</td> <td> 2.68e+04</td>\n",
       "</tr>\n",
       "<tr>\n",
       "  <th>Neighborhood_Blueste</th> <td>-6747.7013</td> <td> 2.72e+04</td> <td>   -0.248</td> <td> 0.804</td> <td>-6.01e+04</td> <td> 4.66e+04</td>\n",
       "</tr>\n",
       "<tr>\n",
       "  <th>Neighborhood_BrDale</th>  <td>-2.764e+04</td> <td> 1.45e+04</td> <td>   -1.906</td> <td> 0.057</td> <td>-5.61e+04</td> <td>  804.179</td>\n",
       "</tr>\n",
       "<tr>\n",
       "  <th>Neighborhood_BrkSide</th> <td>-5.184e+04</td> <td> 1.16e+04</td> <td>   -4.452</td> <td> 0.000</td> <td>-7.47e+04</td> <td> -2.9e+04</td>\n",
       "</tr>\n",
       "<tr>\n",
       "  <th>Neighborhood_ClearCr</th> <td>-2.144e+04</td> <td> 1.21e+04</td> <td>   -1.778</td> <td> 0.076</td> <td>-4.51e+04</td> <td> 2212.359</td>\n",
       "</tr>\n",
       "<tr>\n",
       "  <th>Neighborhood_CollgCr</th> <td>-1.208e+04</td> <td>    1e+04</td> <td>   -1.208</td> <td> 0.227</td> <td>-3.17e+04</td> <td> 7535.598</td>\n",
       "</tr>\n",
       "<tr>\n",
       "  <th>Neighborhood_Crawfor</th> <td>-9751.3503</td> <td> 1.09e+04</td> <td>   -0.897</td> <td> 0.370</td> <td>-3.11e+04</td> <td> 1.16e+04</td>\n",
       "</tr>\n",
       "<tr>\n",
       "  <th>Neighborhood_Edwards</th> <td>-5.642e+04</td> <td> 1.04e+04</td> <td>   -5.409</td> <td> 0.000</td> <td>-7.69e+04</td> <td> -3.6e+04</td>\n",
       "</tr>\n",
       "<tr>\n",
       "  <th>Neighborhood_Gilbert</th> <td>-1.605e+04</td> <td> 1.06e+04</td> <td>   -1.518</td> <td> 0.129</td> <td>-3.68e+04</td> <td> 4689.230</td>\n",
       "</tr>\n",
       "<tr>\n",
       "  <th>Neighborhood_IDOTRR</th>  <td>-6.685e+04</td> <td> 1.35e+04</td> <td>   -4.944</td> <td> 0.000</td> <td>-9.34e+04</td> <td>-4.03e+04</td>\n",
       "</tr>\n",
       "<tr>\n",
       "  <th>Neighborhood_MeadowV</th> <td>-4.215e+04</td> <td> 1.36e+04</td> <td>   -3.110</td> <td> 0.002</td> <td>-6.87e+04</td> <td>-1.56e+04</td>\n",
       "</tr>\n",
       "<tr>\n",
       "  <th>Neighborhood_Mitchel</th> <td> -2.54e+04</td> <td>  1.1e+04</td> <td>   -2.306</td> <td> 0.021</td> <td> -4.7e+04</td> <td>-3797.903</td>\n",
       "</tr>\n",
       "<tr>\n",
       "  <th>Neighborhood_NAmes</th>   <td>-3.934e+04</td> <td> 1.01e+04</td> <td>   -3.884</td> <td> 0.000</td> <td>-5.92e+04</td> <td>-1.95e+04</td>\n",
       "</tr>\n",
       "<tr>\n",
       "  <th>Neighborhood_NPkVill</th> <td>  768.4823</td> <td> 1.49e+04</td> <td>    0.052</td> <td> 0.959</td> <td>-2.84e+04</td> <td> 2.99e+04</td>\n",
       "</tr>\n",
       "<tr>\n",
       "  <th>Neighborhood_NWAmes</th>  <td>-2.779e+04</td> <td> 1.06e+04</td> <td>   -2.616</td> <td> 0.009</td> <td>-4.86e+04</td> <td>-6950.330</td>\n",
       "</tr>\n",
       "<tr>\n",
       "  <th>Neighborhood_NoRidge</th> <td> 5.474e+04</td> <td> 1.13e+04</td> <td>    4.863</td> <td> 0.000</td> <td> 3.27e+04</td> <td> 7.68e+04</td>\n",
       "</tr>\n",
       "<tr>\n",
       "  <th>Neighborhood_NridgHt</th> <td> 4.714e+04</td> <td> 1.01e+04</td> <td>    4.674</td> <td> 0.000</td> <td> 2.74e+04</td> <td> 6.69e+04</td>\n",
       "</tr>\n",
       "<tr>\n",
       "  <th>Neighborhood_OldTown</th> <td> -7.15e+04</td> <td> 1.18e+04</td> <td>   -6.035</td> <td> 0.000</td> <td>-9.47e+04</td> <td>-4.83e+04</td>\n",
       "</tr>\n",
       "<tr>\n",
       "  <th>Neighborhood_SWISU</th>   <td>-6.224e+04</td> <td> 1.23e+04</td> <td>   -5.044</td> <td> 0.000</td> <td>-8.65e+04</td> <td> -3.8e+04</td>\n",
       "</tr>\n",
       "<tr>\n",
       "  <th>Neighborhood_Sawyer</th>  <td>-4.104e+04</td> <td> 1.07e+04</td> <td>   -3.825</td> <td> 0.000</td> <td>-6.21e+04</td> <td>   -2e+04</td>\n",
       "</tr>\n",
       "<tr>\n",
       "  <th>Neighborhood_SawyerW</th> <td>-1.894e+04</td> <td> 1.06e+04</td> <td>   -1.794</td> <td> 0.073</td> <td>-3.96e+04</td> <td> 1772.369</td>\n",
       "</tr>\n",
       "<tr>\n",
       "  <th>Neighborhood_Somerst</th> <td> 6355.5330</td> <td> 1.23e+04</td> <td>    0.518</td> <td> 0.605</td> <td>-1.77e+04</td> <td> 3.04e+04</td>\n",
       "</tr>\n",
       "<tr>\n",
       "  <th>Neighborhood_StoneBr</th> <td> 5.805e+04</td> <td> 1.13e+04</td> <td>    5.147</td> <td> 0.000</td> <td> 3.59e+04</td> <td> 8.02e+04</td>\n",
       "</tr>\n",
       "<tr>\n",
       "  <th>Neighborhood_Timber</th>  <td> -774.2751</td> <td> 1.13e+04</td> <td>   -0.069</td> <td> 0.945</td> <td>-2.29e+04</td> <td> 2.14e+04</td>\n",
       "</tr>\n",
       "<tr>\n",
       "  <th>Neighborhood_Veenker</th> <td> 1.588e+04</td> <td> 1.42e+04</td> <td>    1.115</td> <td> 0.265</td> <td>-1.21e+04</td> <td> 4.38e+04</td>\n",
       "</tr>\n",
       "</table>\n",
       "<table class=\"simpletable\">\n",
       "<tr>\n",
       "  <th>Omnibus:</th>       <td>409.806</td> <th>  Durbin-Watson:     </th> <td>   1.950</td> \n",
       "</tr>\n",
       "<tr>\n",
       "  <th>Prob(Omnibus):</th> <td> 0.000</td>  <th>  Jarque-Bera (JB):  </th> <td>28276.179</td>\n",
       "</tr>\n",
       "<tr>\n",
       "  <th>Skew:</th>          <td>-0.334</td>  <th>  Prob(JB):          </th> <td>    0.00</td> \n",
       "</tr>\n",
       "<tr>\n",
       "  <th>Kurtosis:</th>      <td>24.549</td>  <th>  Cond. No.          </th> <td>1.36e+16</td> \n",
       "</tr>\n",
       "</table><br/><br/>Warnings:<br/>[1] Standard Errors assume that the covariance matrix of the errors is correctly specified.<br/>[2] The smallest eigenvalue is 1.67e-21. This might indicate that there are<br/>strong multicollinearity problems or that the design matrix is singular."
      ],
      "text/plain": [
       "<class 'statsmodels.iolib.summary.Summary'>\n",
       "\"\"\"\n",
       "                            OLS Regression Results                            \n",
       "==============================================================================\n",
       "Dep. Variable:              SalePrice   R-squared:                       0.812\n",
       "Model:                            OLS   Adj. R-squared:                  0.806\n",
       "Method:                 Least Squares   F-statistic:                     129.8\n",
       "Date:                Thu, 20 Aug 2020   Prob (F-statistic):               0.00\n",
       "Time:                        13:39:03   Log-Likelihood:                -17324.\n",
       "No. Observations:                1460   AIC:                         3.474e+04\n",
       "Df Residuals:                    1412   BIC:                         3.500e+04\n",
       "Df Model:                          47                                         \n",
       "Covariance Type:            nonrobust                                         \n",
       "========================================================================================\n",
       "                           coef    std err          t      P>|t|      [0.025      0.975]\n",
       "----------------------------------------------------------------------------------------\n",
       "Intercept             1.171e+05   2.34e+04      4.999      0.000    7.12e+04    1.63e+05\n",
       "LotArea                  0.4488      0.109      4.103      0.000       0.234       0.663\n",
       "FirstFlrSF              26.7057      3.448      7.745      0.000      19.942      33.470\n",
       "GrLivArea               53.2493      2.538     20.982      0.000      48.271      58.228\n",
       "BldgType_le          -4771.0332    604.062     -7.898      0.000   -5955.988   -3586.078\n",
       "BldgType_le_sk       -4771.0332    604.062     -7.898      0.000   -5955.988   -3586.078\n",
       "BldgType_2fmCon      -4382.2763   6676.383     -0.656      0.512   -1.75e+04    8714.420\n",
       "BldgType_Duplex      -1.049e+04   5066.153     -2.070      0.039   -2.04e+04    -550.519\n",
       "BldgType_Twnhs       -8784.2270   4976.863     -1.765      0.078   -1.85e+04     978.615\n",
       "BldgType_TwnhsE       1.174e+04   3365.658      3.487      0.001    5133.010    1.83e+04\n",
       "KitchenQual_Fa       -8.175e+04   7605.762    -10.749      0.000   -9.67e+04   -6.68e+04\n",
       "KitchenQual_Gd       -5.172e+04   4355.935    -11.874      0.000   -6.03e+04   -4.32e+04\n",
       "KitchenQual_TA       -6.873e+04   4819.103    -14.262      0.000   -7.82e+04   -5.93e+04\n",
       "SaleType_CWD           2.36e+04   1.85e+04      1.278      0.202   -1.26e+04    5.98e+04\n",
       "SaleType_Con          6.148e+04   2.61e+04      2.356      0.019    1.03e+04    1.13e+05\n",
       "SaleType_ConLD        1.652e+04   1.33e+04      1.239      0.215   -9628.110    4.27e+04\n",
       "SaleType_ConLI        1.141e+04   1.68e+04      0.681      0.496   -2.15e+04    4.43e+04\n",
       "SaleType_ConLw        7098.8153   1.68e+04      0.423      0.672   -2.58e+04       4e+04\n",
       "SaleType_New          2.727e+04   6767.082      4.030      0.000     1.4e+04    4.05e+04\n",
       "SaleType_Oth           1.12e+04   2.11e+04      0.532      0.595   -3.01e+04    5.25e+04\n",
       "SaleType_WD           1.125e+04   5612.242      2.005      0.045     244.131    2.23e+04\n",
       "MSZoning_FV           2.548e+04   1.65e+04      1.540      0.124   -6975.819    5.79e+04\n",
       "MSZoning_RH           1.416e+04   1.67e+04      0.849      0.396   -1.86e+04    4.69e+04\n",
       "MSZoning_RL           2.279e+04   1.39e+04      1.639      0.101   -4489.458    5.01e+04\n",
       "MSZoning_RM           3.403e+04    1.3e+04      2.612      0.009    8476.227    5.96e+04\n",
       "Street_Pave          -3805.3061   1.56e+04     -0.244      0.807   -3.44e+04    2.68e+04\n",
       "Neighborhood_Blueste -6747.7013   2.72e+04     -0.248      0.804   -6.01e+04    4.66e+04\n",
       "Neighborhood_BrDale  -2.764e+04   1.45e+04     -1.906      0.057   -5.61e+04     804.179\n",
       "Neighborhood_BrkSide -5.184e+04   1.16e+04     -4.452      0.000   -7.47e+04    -2.9e+04\n",
       "Neighborhood_ClearCr -2.144e+04   1.21e+04     -1.778      0.076   -4.51e+04    2212.359\n",
       "Neighborhood_CollgCr -1.208e+04      1e+04     -1.208      0.227   -3.17e+04    7535.598\n",
       "Neighborhood_Crawfor -9751.3503   1.09e+04     -0.897      0.370   -3.11e+04    1.16e+04\n",
       "Neighborhood_Edwards -5.642e+04   1.04e+04     -5.409      0.000   -7.69e+04    -3.6e+04\n",
       "Neighborhood_Gilbert -1.605e+04   1.06e+04     -1.518      0.129   -3.68e+04    4689.230\n",
       "Neighborhood_IDOTRR  -6.685e+04   1.35e+04     -4.944      0.000   -9.34e+04   -4.03e+04\n",
       "Neighborhood_MeadowV -4.215e+04   1.36e+04     -3.110      0.002   -6.87e+04   -1.56e+04\n",
       "Neighborhood_Mitchel  -2.54e+04    1.1e+04     -2.306      0.021    -4.7e+04   -3797.903\n",
       "Neighborhood_NAmes   -3.934e+04   1.01e+04     -3.884      0.000   -5.92e+04   -1.95e+04\n",
       "Neighborhood_NPkVill   768.4823   1.49e+04      0.052      0.959   -2.84e+04    2.99e+04\n",
       "Neighborhood_NWAmes  -2.779e+04   1.06e+04     -2.616      0.009   -4.86e+04   -6950.330\n",
       "Neighborhood_NoRidge  5.474e+04   1.13e+04      4.863      0.000    3.27e+04    7.68e+04\n",
       "Neighborhood_NridgHt  4.714e+04   1.01e+04      4.674      0.000    2.74e+04    6.69e+04\n",
       "Neighborhood_OldTown  -7.15e+04   1.18e+04     -6.035      0.000   -9.47e+04   -4.83e+04\n",
       "Neighborhood_SWISU   -6.224e+04   1.23e+04     -5.044      0.000   -8.65e+04    -3.8e+04\n",
       "Neighborhood_Sawyer  -4.104e+04   1.07e+04     -3.825      0.000   -6.21e+04      -2e+04\n",
       "Neighborhood_SawyerW -1.894e+04   1.06e+04     -1.794      0.073   -3.96e+04    1772.369\n",
       "Neighborhood_Somerst  6355.5330   1.23e+04      0.518      0.605   -1.77e+04    3.04e+04\n",
       "Neighborhood_StoneBr  5.805e+04   1.13e+04      5.147      0.000    3.59e+04    8.02e+04\n",
       "Neighborhood_Timber   -774.2751   1.13e+04     -0.069      0.945   -2.29e+04    2.14e+04\n",
       "Neighborhood_Veenker  1.588e+04   1.42e+04      1.115      0.265   -1.21e+04    4.38e+04\n",
       "==============================================================================\n",
       "Omnibus:                      409.806   Durbin-Watson:                   1.950\n",
       "Prob(Omnibus):                  0.000   Jarque-Bera (JB):            28276.179\n",
       "Skew:                          -0.334   Prob(JB):                         0.00\n",
       "Kurtosis:                      24.549   Cond. No.                     1.36e+16\n",
       "==============================================================================\n",
       "\n",
       "Warnings:\n",
       "[1] Standard Errors assume that the covariance matrix of the errors is correctly specified.\n",
       "[2] The smallest eigenvalue is 1.67e-21. This might indicate that there are\n",
       "strong multicollinearity problems or that the design matrix is singular.\n",
       "\"\"\""
      ]
     },
     "execution_count": 50,
     "metadata": {},
     "output_type": "execute_result"
    }
   ],
   "source": [
    "model = smf.ols(f,df_dummies).fit()\n",
    "model.summary()"
   ]
  },
  {
   "cell_type": "code",
   "execution_count": 51,
   "metadata": {
    "ExecuteTime": {
     "end_time": "2020-08-20T17:39:03.322855Z",
     "start_time": "2020-08-20T17:39:03.055028Z"
    }
   },
   "outputs": [
    {
     "data": {
      "image/png": "[encoded data removed]",
      "text/plain": [
       "<Figure size 720x432 with 1 Axes>"
      ]
     },
     "metadata": {},
     "output_type": "display_data"
    }
   ],
   "source": [
    "fig = sm.graphics.qqplot(model.resid,dist=stats.norm,fit=True,line='45')\n",
    "\n",
    "# fig = sm.graphics.plot_regress_exog(model, \"\", fig=plt.figure(figsize=(12,8)))"
   ]
  },
  {
   "cell_type": "code",
   "execution_count": 52,
   "metadata": {
    "ExecuteTime": {
     "end_time": "2020-08-20T17:39:03.330486Z",
     "start_time": "2020-08-20T17:39:03.325383Z"
    }
   },
   "outputs": [
    {
     "data": {
      "text/plain": [
       "['BldgType_le', 'BldgType_le_sk']"
      ]
     },
     "execution_count": 52,
     "metadata": {},
     "output_type": "execute_result"
    }
   ],
   "source": [
    "[col for col in df.columns if '_le' in col]"
   ]
  },
  {
   "cell_type": "code",
   "execution_count": null,
   "metadata": {},
   "outputs": [],
   "source": []
  },
  {
   "cell_type": "code",
   "execution_count": 53,
   "metadata": {
    "ExecuteTime": {
     "end_time": "2020-08-20T17:39:03.345986Z",
     "start_time": "2020-08-20T17:39:03.332825Z"
    }
   },
   "outputs": [
    {
     "data": {
      "text/plain": [
       "OneFam       1220\n",
       "TwnhsE        114\n",
       "Duplex         52\n",
       "Twnhs          43\n",
       "TwoFamCon      31\n",
       "Name: BldgType, dtype: int64"
      ]
     },
     "execution_count": 53,
     "metadata": {},
     "output_type": "execute_result"
    }
   ],
   "source": [
    "repl_dict = {'1stFlrSF':'FirstFlrSF',\n",
    "                       '1Fam':'OneFam',\n",
    "                       '2fmCon':'TwoFamCon'}\n",
    "df.rename(repl_dict,axis=1, inplace=True)\n",
    "df['BldgType'].replace({'1stFlrSF':'FirstFlrSF',\n",
    "                       '1Fam':'OneFam',\n",
    "                       '2fmCon':'TwoFamCon'},inplace=True)\n",
    "df['BldgType'].value_counts()"
   ]
  },
  {
   "cell_type": "code",
   "execution_count": 54,
   "metadata": {
    "ExecuteTime": {
     "end_time": "2020-08-20T17:39:03.381535Z",
     "start_time": "2020-08-20T17:39:03.347694Z"
    }
   },
   "outputs": [
    {
     "data": {
      "text/html": [
       "<div>\n",
       "<style scoped>\n",
       "    .dataframe tbody tr th:only-of-type {\n",
       "        vertical-align: middle;\n",
       "    }\n",
       "\n",
       "    .dataframe tbody tr th {\n",
       "        vertical-align: top;\n",
       "    }\n",
       "\n",
       "    .dataframe thead th {\n",
       "        text-align: right;\n",
       "    }\n",
       "</style>\n",
       "<table border=\"1\" class=\"dataframe\">\n",
       "  <thead>\n",
       "    <tr style=\"text-align: right;\">\n",
       "      <th></th>\n",
       "      <th>LotArea</th>\n",
       "      <th>FirstFlrSF</th>\n",
       "      <th>GrLivArea</th>\n",
       "      <th>SalePrice</th>\n",
       "      <th>BldgType</th>\n",
       "      <th>KitchenQual</th>\n",
       "      <th>SaleType</th>\n",
       "      <th>MSZoning</th>\n",
       "      <th>Street</th>\n",
       "      <th>Neighborhood</th>\n",
       "      <th>BldgType_le</th>\n",
       "      <th>BldgType_le_sk</th>\n",
       "    </tr>\n",
       "  </thead>\n",
       "  <tbody>\n",
       "    <tr>\n",
       "      <th>0</th>\n",
       "      <td>8450</td>\n",
       "      <td>856</td>\n",
       "      <td>1710</td>\n",
       "      <td>208500</td>\n",
       "      <td>OneFam</td>\n",
       "      <td>Gd</td>\n",
       "      <td>WD</td>\n",
       "      <td>RL</td>\n",
       "      <td>Pave</td>\n",
       "      <td>CollgCr</td>\n",
       "      <td>0</td>\n",
       "      <td>0</td>\n",
       "    </tr>\n",
       "    <tr>\n",
       "      <th>1</th>\n",
       "      <td>9600</td>\n",
       "      <td>1262</td>\n",
       "      <td>1262</td>\n",
       "      <td>181500</td>\n",
       "      <td>OneFam</td>\n",
       "      <td>TA</td>\n",
       "      <td>WD</td>\n",
       "      <td>RL</td>\n",
       "      <td>Pave</td>\n",
       "      <td>Veenker</td>\n",
       "      <td>0</td>\n",
       "      <td>0</td>\n",
       "    </tr>\n",
       "    <tr>\n",
       "      <th>2</th>\n",
       "      <td>11250</td>\n",
       "      <td>920</td>\n",
       "      <td>1786</td>\n",
       "      <td>223500</td>\n",
       "      <td>OneFam</td>\n",
       "      <td>Gd</td>\n",
       "      <td>WD</td>\n",
       "      <td>RL</td>\n",
       "      <td>Pave</td>\n",
       "      <td>CollgCr</td>\n",
       "      <td>0</td>\n",
       "      <td>0</td>\n",
       "    </tr>\n",
       "    <tr>\n",
       "      <th>3</th>\n",
       "      <td>9550</td>\n",
       "      <td>961</td>\n",
       "      <td>1717</td>\n",
       "      <td>140000</td>\n",
       "      <td>OneFam</td>\n",
       "      <td>Gd</td>\n",
       "      <td>WD</td>\n",
       "      <td>RL</td>\n",
       "      <td>Pave</td>\n",
       "      <td>Crawfor</td>\n",
       "      <td>0</td>\n",
       "      <td>0</td>\n",
       "    </tr>\n",
       "    <tr>\n",
       "      <th>4</th>\n",
       "      <td>14260</td>\n",
       "      <td>1145</td>\n",
       "      <td>2198</td>\n",
       "      <td>250000</td>\n",
       "      <td>OneFam</td>\n",
       "      <td>Gd</td>\n",
       "      <td>WD</td>\n",
       "      <td>RL</td>\n",
       "      <td>Pave</td>\n",
       "      <td>NoRidge</td>\n",
       "      <td>0</td>\n",
       "      <td>0</td>\n",
       "    </tr>\n",
       "    <tr>\n",
       "      <th>...</th>\n",
       "      <td>...</td>\n",
       "      <td>...</td>\n",
       "      <td>...</td>\n",
       "      <td>...</td>\n",
       "      <td>...</td>\n",
       "      <td>...</td>\n",
       "      <td>...</td>\n",
       "      <td>...</td>\n",
       "      <td>...</td>\n",
       "      <td>...</td>\n",
       "      <td>...</td>\n",
       "      <td>...</td>\n",
       "    </tr>\n",
       "    <tr>\n",
       "      <th>1455</th>\n",
       "      <td>7917</td>\n",
       "      <td>953</td>\n",
       "      <td>1647</td>\n",
       "      <td>175000</td>\n",
       "      <td>OneFam</td>\n",
       "      <td>TA</td>\n",
       "      <td>WD</td>\n",
       "      <td>RL</td>\n",
       "      <td>Pave</td>\n",
       "      <td>Gilbert</td>\n",
       "      <td>0</td>\n",
       "      <td>0</td>\n",
       "    </tr>\n",
       "    <tr>\n",
       "      <th>1456</th>\n",
       "      <td>13175</td>\n",
       "      <td>2073</td>\n",
       "      <td>2073</td>\n",
       "      <td>210000</td>\n",
       "      <td>OneFam</td>\n",
       "      <td>TA</td>\n",
       "      <td>WD</td>\n",
       "      <td>RL</td>\n",
       "      <td>Pave</td>\n",
       "      <td>NWAmes</td>\n",
       "      <td>0</td>\n",
       "      <td>0</td>\n",
       "    </tr>\n",
       "    <tr>\n",
       "      <th>1457</th>\n",
       "      <td>9042</td>\n",
       "      <td>1188</td>\n",
       "      <td>2340</td>\n",
       "      <td>266500</td>\n",
       "      <td>OneFam</td>\n",
       "      <td>Gd</td>\n",
       "      <td>WD</td>\n",
       "      <td>RL</td>\n",
       "      <td>Pave</td>\n",
       "      <td>Crawfor</td>\n",
       "      <td>0</td>\n",
       "      <td>0</td>\n",
       "    </tr>\n",
       "    <tr>\n",
       "      <th>1458</th>\n",
       "      <td>9717</td>\n",
       "      <td>1078</td>\n",
       "      <td>1078</td>\n",
       "      <td>142125</td>\n",
       "      <td>OneFam</td>\n",
       "      <td>Gd</td>\n",
       "      <td>WD</td>\n",
       "      <td>RL</td>\n",
       "      <td>Pave</td>\n",
       "      <td>NAmes</td>\n",
       "      <td>0</td>\n",
       "      <td>0</td>\n",
       "    </tr>\n",
       "    <tr>\n",
       "      <th>1459</th>\n",
       "      <td>9937</td>\n",
       "      <td>1256</td>\n",
       "      <td>1256</td>\n",
       "      <td>147500</td>\n",
       "      <td>OneFam</td>\n",
       "      <td>TA</td>\n",
       "      <td>WD</td>\n",
       "      <td>RL</td>\n",
       "      <td>Pave</td>\n",
       "      <td>Edwards</td>\n",
       "      <td>0</td>\n",
       "      <td>0</td>\n",
       "    </tr>\n",
       "  </tbody>\n",
       "</table>\n",
       "<p>1460 rows × 12 columns</p>\n",
       "</div>"
      ],
      "text/plain": [
       "      LotArea  FirstFlrSF  GrLivArea  ...  Neighborhood BldgType_le BldgType_le_sk\n",
       "0        8450         856       1710  ...       CollgCr           0              0\n",
       "1        9600        1262       1262  ...       Veenker           0              0\n",
       "2       11250         920       1786  ...       CollgCr           0              0\n",
       "3        9550         961       1717  ...       Crawfor           0              0\n",
       "4       14260        1145       2198  ...       NoRidge           0              0\n",
       "...       ...         ...        ...  ...           ...         ...            ...\n",
       "1455     7917         953       1647  ...       Gilbert           0              0\n",
       "1456    13175        2073       2073  ...        NWAmes           0              0\n",
       "1457     9042        1188       2340  ...       Crawfor           0              0\n",
       "1458     9717        1078       1078  ...         NAmes           0              0\n",
       "1459     9937        1256       1256  ...       Edwards           0              0\n",
       "\n",
       "[1460 rows x 12 columns]"
      ]
     },
     "execution_count": 54,
     "metadata": {},
     "output_type": "execute_result"
    }
   ],
   "source": [
    "df"
   ]
  },
  {
   "cell_type": "code",
   "execution_count": 55,
   "metadata": {
    "ExecuteTime": {
     "end_time": "2020-08-20T17:39:03.415270Z",
     "start_time": "2020-08-20T17:39:03.382916Z"
    }
   },
   "outputs": [
    {
     "data": {
      "text/html": [
       "<div>\n",
       "<style scoped>\n",
       "    .dataframe tbody tr th:only-of-type {\n",
       "        vertical-align: middle;\n",
       "    }\n",
       "\n",
       "    .dataframe tbody tr th {\n",
       "        vertical-align: top;\n",
       "    }\n",
       "\n",
       "    .dataframe thead th {\n",
       "        text-align: right;\n",
       "    }\n",
       "</style>\n",
       "<table border=\"1\" class=\"dataframe\">\n",
       "  <thead>\n",
       "    <tr style=\"text-align: right;\">\n",
       "      <th></th>\n",
       "      <th>LotArea</th>\n",
       "      <th>FirstFlrSF</th>\n",
       "      <th>GrLivArea</th>\n",
       "      <th>SalePrice</th>\n",
       "      <th>BldgType</th>\n",
       "      <th>KitchenQual</th>\n",
       "      <th>SaleType</th>\n",
       "      <th>MSZoning</th>\n",
       "      <th>Street</th>\n",
       "      <th>Neighborhood</th>\n",
       "      <th>BldgType_le</th>\n",
       "      <th>BldgType_le_sk</th>\n",
       "    </tr>\n",
       "  </thead>\n",
       "  <tbody>\n",
       "    <tr>\n",
       "      <th>0</th>\n",
       "      <td>8450</td>\n",
       "      <td>856</td>\n",
       "      <td>1710</td>\n",
       "      <td>208500</td>\n",
       "      <td>OneFam</td>\n",
       "      <td>Gd</td>\n",
       "      <td>WD</td>\n",
       "      <td>RL</td>\n",
       "      <td>Pave</td>\n",
       "      <td>CollgCr</td>\n",
       "      <td>0</td>\n",
       "      <td>0</td>\n",
       "    </tr>\n",
       "    <tr>\n",
       "      <th>1</th>\n",
       "      <td>9600</td>\n",
       "      <td>1262</td>\n",
       "      <td>1262</td>\n",
       "      <td>181500</td>\n",
       "      <td>OneFam</td>\n",
       "      <td>TA</td>\n",
       "      <td>WD</td>\n",
       "      <td>RL</td>\n",
       "      <td>Pave</td>\n",
       "      <td>Veenker</td>\n",
       "      <td>0</td>\n",
       "      <td>0</td>\n",
       "    </tr>\n",
       "    <tr>\n",
       "      <th>2</th>\n",
       "      <td>11250</td>\n",
       "      <td>920</td>\n",
       "      <td>1786</td>\n",
       "      <td>223500</td>\n",
       "      <td>OneFam</td>\n",
       "      <td>Gd</td>\n",
       "      <td>WD</td>\n",
       "      <td>RL</td>\n",
       "      <td>Pave</td>\n",
       "      <td>CollgCr</td>\n",
       "      <td>0</td>\n",
       "      <td>0</td>\n",
       "    </tr>\n",
       "    <tr>\n",
       "      <th>3</th>\n",
       "      <td>9550</td>\n",
       "      <td>961</td>\n",
       "      <td>1717</td>\n",
       "      <td>140000</td>\n",
       "      <td>OneFam</td>\n",
       "      <td>Gd</td>\n",
       "      <td>WD</td>\n",
       "      <td>RL</td>\n",
       "      <td>Pave</td>\n",
       "      <td>Crawfor</td>\n",
       "      <td>0</td>\n",
       "      <td>0</td>\n",
       "    </tr>\n",
       "    <tr>\n",
       "      <th>4</th>\n",
       "      <td>14260</td>\n",
       "      <td>1145</td>\n",
       "      <td>2198</td>\n",
       "      <td>250000</td>\n",
       "      <td>OneFam</td>\n",
       "      <td>Gd</td>\n",
       "      <td>WD</td>\n",
       "      <td>RL</td>\n",
       "      <td>Pave</td>\n",
       "      <td>NoRidge</td>\n",
       "      <td>0</td>\n",
       "      <td>0</td>\n",
       "    </tr>\n",
       "    <tr>\n",
       "      <th>...</th>\n",
       "      <td>...</td>\n",
       "      <td>...</td>\n",
       "      <td>...</td>\n",
       "      <td>...</td>\n",
       "      <td>...</td>\n",
       "      <td>...</td>\n",
       "      <td>...</td>\n",
       "      <td>...</td>\n",
       "      <td>...</td>\n",
       "      <td>...</td>\n",
       "      <td>...</td>\n",
       "      <td>...</td>\n",
       "    </tr>\n",
       "    <tr>\n",
       "      <th>1455</th>\n",
       "      <td>7917</td>\n",
       "      <td>953</td>\n",
       "      <td>1647</td>\n",
       "      <td>175000</td>\n",
       "      <td>OneFam</td>\n",
       "      <td>TA</td>\n",
       "      <td>WD</td>\n",
       "      <td>RL</td>\n",
       "      <td>Pave</td>\n",
       "      <td>Gilbert</td>\n",
       "      <td>0</td>\n",
       "      <td>0</td>\n",
       "    </tr>\n",
       "    <tr>\n",
       "      <th>1456</th>\n",
       "      <td>13175</td>\n",
       "      <td>2073</td>\n",
       "      <td>2073</td>\n",
       "      <td>210000</td>\n",
       "      <td>OneFam</td>\n",
       "      <td>TA</td>\n",
       "      <td>WD</td>\n",
       "      <td>RL</td>\n",
       "      <td>Pave</td>\n",
       "      <td>NWAmes</td>\n",
       "      <td>0</td>\n",
       "      <td>0</td>\n",
       "    </tr>\n",
       "    <tr>\n",
       "      <th>1457</th>\n",
       "      <td>9042</td>\n",
       "      <td>1188</td>\n",
       "      <td>2340</td>\n",
       "      <td>266500</td>\n",
       "      <td>OneFam</td>\n",
       "      <td>Gd</td>\n",
       "      <td>WD</td>\n",
       "      <td>RL</td>\n",
       "      <td>Pave</td>\n",
       "      <td>Crawfor</td>\n",
       "      <td>0</td>\n",
       "      <td>0</td>\n",
       "    </tr>\n",
       "    <tr>\n",
       "      <th>1458</th>\n",
       "      <td>9717</td>\n",
       "      <td>1078</td>\n",
       "      <td>1078</td>\n",
       "      <td>142125</td>\n",
       "      <td>OneFam</td>\n",
       "      <td>Gd</td>\n",
       "      <td>WD</td>\n",
       "      <td>RL</td>\n",
       "      <td>Pave</td>\n",
       "      <td>NAmes</td>\n",
       "      <td>0</td>\n",
       "      <td>0</td>\n",
       "    </tr>\n",
       "    <tr>\n",
       "      <th>1459</th>\n",
       "      <td>9937</td>\n",
       "      <td>1256</td>\n",
       "      <td>1256</td>\n",
       "      <td>147500</td>\n",
       "      <td>OneFam</td>\n",
       "      <td>TA</td>\n",
       "      <td>WD</td>\n",
       "      <td>RL</td>\n",
       "      <td>Pave</td>\n",
       "      <td>Edwards</td>\n",
       "      <td>0</td>\n",
       "      <td>0</td>\n",
       "    </tr>\n",
       "  </tbody>\n",
       "</table>\n",
       "<p>1460 rows × 12 columns</p>\n",
       "</div>"
      ],
      "text/plain": [
       "      LotArea  FirstFlrSF  GrLivArea  ...  Neighborhood BldgType_le BldgType_le_sk\n",
       "0        8450         856       1710  ...       CollgCr           0              0\n",
       "1        9600        1262       1262  ...       Veenker           0              0\n",
       "2       11250         920       1786  ...       CollgCr           0              0\n",
       "3        9550         961       1717  ...       Crawfor           0              0\n",
       "4       14260        1145       2198  ...       NoRidge           0              0\n",
       "...       ...         ...        ...  ...           ...         ...            ...\n",
       "1455     7917         953       1647  ...       Gilbert           0              0\n",
       "1456    13175        2073       2073  ...        NWAmes           0              0\n",
       "1457     9042        1188       2340  ...       Crawfor           0              0\n",
       "1458     9717        1078       1078  ...         NAmes           0              0\n",
       "1459     9937        1256       1256  ...       Edwards           0              0\n",
       "\n",
       "[1460 rows x 12 columns]"
      ]
     },
     "execution_count": 55,
     "metadata": {},
     "output_type": "execute_result"
    }
   ],
   "source": [
    "df"
   ]
  },
  {
   "cell_type": "code",
   "execution_count": 56,
   "metadata": {
    "ExecuteTime": {
     "end_time": "2020-08-20T17:39:03.421401Z",
     "start_time": "2020-08-20T17:39:03.416720Z"
    }
   },
   "outputs": [],
   "source": [
    "df.drop(columns=[col for col in df.columns if '_le' in col],inplace=True,axis=1)"
   ]
  },
  {
   "cell_type": "code",
   "execution_count": 57,
   "metadata": {
    "ExecuteTime": {
     "end_time": "2020-08-20T17:39:03.445918Z",
     "start_time": "2020-08-20T17:39:03.423085Z"
    }
   },
   "outputs": [
    {
     "data": {
      "text/html": [
       "<div>\n",
       "<style scoped>\n",
       "    .dataframe tbody tr th:only-of-type {\n",
       "        vertical-align: middle;\n",
       "    }\n",
       "\n",
       "    .dataframe tbody tr th {\n",
       "        vertical-align: top;\n",
       "    }\n",
       "\n",
       "    .dataframe thead th {\n",
       "        text-align: right;\n",
       "    }\n",
       "</style>\n",
       "<table border=\"1\" class=\"dataframe\">\n",
       "  <thead>\n",
       "    <tr style=\"text-align: right;\">\n",
       "      <th></th>\n",
       "      <th>LotArea</th>\n",
       "      <th>FirstFlrSF</th>\n",
       "      <th>GrLivArea</th>\n",
       "      <th>SalePrice</th>\n",
       "      <th>BldgType</th>\n",
       "      <th>KitchenQual</th>\n",
       "      <th>SaleType</th>\n",
       "      <th>MSZoning</th>\n",
       "      <th>Street</th>\n",
       "      <th>Neighborhood</th>\n",
       "    </tr>\n",
       "  </thead>\n",
       "  <tbody>\n",
       "    <tr>\n",
       "      <th>0</th>\n",
       "      <td>8450</td>\n",
       "      <td>856</td>\n",
       "      <td>1710</td>\n",
       "      <td>208500</td>\n",
       "      <td>OneFam</td>\n",
       "      <td>Gd</td>\n",
       "      <td>WD</td>\n",
       "      <td>RL</td>\n",
       "      <td>Pave</td>\n",
       "      <td>CollgCr</td>\n",
       "    </tr>\n",
       "    <tr>\n",
       "      <th>1</th>\n",
       "      <td>9600</td>\n",
       "      <td>1262</td>\n",
       "      <td>1262</td>\n",
       "      <td>181500</td>\n",
       "      <td>OneFam</td>\n",
       "      <td>TA</td>\n",
       "      <td>WD</td>\n",
       "      <td>RL</td>\n",
       "      <td>Pave</td>\n",
       "      <td>Veenker</td>\n",
       "    </tr>\n",
       "    <tr>\n",
       "      <th>2</th>\n",
       "      <td>11250</td>\n",
       "      <td>920</td>\n",
       "      <td>1786</td>\n",
       "      <td>223500</td>\n",
       "      <td>OneFam</td>\n",
       "      <td>Gd</td>\n",
       "      <td>WD</td>\n",
       "      <td>RL</td>\n",
       "      <td>Pave</td>\n",
       "      <td>CollgCr</td>\n",
       "    </tr>\n",
       "    <tr>\n",
       "      <th>3</th>\n",
       "      <td>9550</td>\n",
       "      <td>961</td>\n",
       "      <td>1717</td>\n",
       "      <td>140000</td>\n",
       "      <td>OneFam</td>\n",
       "      <td>Gd</td>\n",
       "      <td>WD</td>\n",
       "      <td>RL</td>\n",
       "      <td>Pave</td>\n",
       "      <td>Crawfor</td>\n",
       "    </tr>\n",
       "    <tr>\n",
       "      <th>4</th>\n",
       "      <td>14260</td>\n",
       "      <td>1145</td>\n",
       "      <td>2198</td>\n",
       "      <td>250000</td>\n",
       "      <td>OneFam</td>\n",
       "      <td>Gd</td>\n",
       "      <td>WD</td>\n",
       "      <td>RL</td>\n",
       "      <td>Pave</td>\n",
       "      <td>NoRidge</td>\n",
       "    </tr>\n",
       "  </tbody>\n",
       "</table>\n",
       "</div>"
      ],
      "text/plain": [
       "   LotArea  FirstFlrSF  GrLivArea  ...  MSZoning Street Neighborhood\n",
       "0     8450         856       1710  ...        RL   Pave      CollgCr\n",
       "1     9600        1262       1262  ...        RL   Pave      Veenker\n",
       "2    11250         920       1786  ...        RL   Pave      CollgCr\n",
       "3     9550         961       1717  ...        RL   Pave      Crawfor\n",
       "4    14260        1145       2198  ...        RL   Pave      NoRidge\n",
       "\n",
       "[5 rows x 10 columns]"
      ]
     },
     "execution_count": 57,
     "metadata": {},
     "output_type": "execute_result"
    }
   ],
   "source": [
    "df.head()"
   ]
  },
  {
   "cell_type": "code",
   "execution_count": 58,
   "metadata": {
    "ExecuteTime": {
     "end_time": "2020-08-20T17:39:03.451251Z",
     "start_time": "2020-08-20T17:39:03.447648Z"
    }
   },
   "outputs": [
    {
     "data": {
      "text/plain": [
       "Index(['BldgType', 'KitchenQual', 'SaleType', 'MSZoning', 'Street',\n",
       "       'Neighborhood'],\n",
       "      dtype='object')"
      ]
     },
     "execution_count": 58,
     "metadata": {},
     "output_type": "execute_result"
    }
   ],
   "source": [
    "cat_cols"
   ]
  },
  {
   "cell_type": "code",
   "execution_count": 59,
   "metadata": {
    "ExecuteTime": {
     "end_time": "2020-08-20T17:39:03.456882Z",
     "start_time": "2020-08-20T17:39:03.452842Z"
    }
   },
   "outputs": [
    {
     "data": {
      "text/plain": [
       "'Licks ~ C(Group) + C(Phase)'"
      ]
     },
     "execution_count": 59,
     "metadata": {},
     "output_type": "execute_result"
    }
   ],
   "source": [
    "\"Licks ~ C(Group) + C(Phase)\""
   ]
  },
  {
   "cell_type": "code",
   "execution_count": 60,
   "metadata": {
    "ExecuteTime": {
     "end_time": "2020-08-20T17:39:03.462506Z",
     "start_time": "2020-08-20T17:39:03.458604Z"
    }
   },
   "outputs": [
    {
     "data": {
      "text/plain": [
       "'C(BldgType)+C(KitchenQual)+C(SaleType)+C(MSZoning)+C(Street)+C(Neighborhood)'"
      ]
     },
     "execution_count": 60,
     "metadata": {},
     "output_type": "execute_result"
    }
   ],
   "source": [
    "cat_features = '+'.join([f\"C({col})\" for col in cat_cols])\n",
    "cat_features"
   ]
  },
  {
   "cell_type": "code",
   "execution_count": 61,
   "metadata": {
    "ExecuteTime": {
     "end_time": "2020-08-20T17:39:03.469926Z",
     "start_time": "2020-08-20T17:39:03.464162Z"
    }
   },
   "outputs": [
    {
     "data": {
      "text/plain": [
       "['LotArea', 'FirstFlrSF', 'GrLivArea']"
      ]
     },
     "execution_count": 61,
     "metadata": {},
     "output_type": "execute_result"
    }
   ],
   "source": [
    "num_cols = list(df.select_dtypes('number').columns)\n",
    "num_cols.remove('SalePrice')\n",
    "num_cols"
   ]
  },
  {
   "cell_type": "code",
   "execution_count": 62,
   "metadata": {
    "ExecuteTime": {
     "end_time": "2020-08-20T17:39:03.475784Z",
     "start_time": "2020-08-20T17:39:03.471618Z"
    },
    "scrolled": false
   },
   "outputs": [
    {
     "data": {
      "text/plain": [
       "'LotArea+FirstFlrSF+GrLivArea+C(BldgType)+C(KitchenQual)+C(SaleType)+C(MSZoning)+C(Street)+C(Neighborhood)'"
      ]
     },
     "execution_count": 62,
     "metadata": {},
     "output_type": "execute_result"
    }
   ],
   "source": [
    "## EITHER USE FORMULA OLS or normal OLS \n",
    "features = '+'.join(num_cols) + '+' + cat_features\n",
    "features =  features.replace('SalePrice','')\n",
    "features"
   ]
  },
  {
   "cell_type": "code",
   "execution_count": null,
   "metadata": {},
   "outputs": [],
   "source": []
  },
  {
   "cell_type": "code",
   "execution_count": 63,
   "metadata": {
    "ExecuteTime": {
     "end_time": "2020-08-20T17:39:03.480824Z",
     "start_time": "2020-08-20T17:39:03.477408Z"
    }
   },
   "outputs": [
    {
     "data": {
      "text/plain": [
       "'SalePrice ~LotArea+FirstFlrSF+GrLivArea+C(BldgType)+C(KitchenQual)+C(SaleType)+C(MSZoning)+C(Street)+C(Neighborhood)'"
      ]
     },
     "execution_count": 63,
     "metadata": {},
     "output_type": "execute_result"
    }
   ],
   "source": [
    "f = \"SalePrice ~\" + features\n",
    "f"
   ]
  },
  {
   "cell_type": "code",
   "execution_count": 64,
   "metadata": {
    "ExecuteTime": {
     "end_time": "2020-08-20T17:39:03.591294Z",
     "start_time": "2020-08-20T17:39:03.482432Z"
    },
    "scrolled": false
   },
   "outputs": [
    {
     "data": {
      "text/html": [
       "<table class=\"simpletable\">\n",
       "<caption>OLS Regression Results</caption>\n",
       "<tr>\n",
       "  <th>Dep. Variable:</th>        <td>SalePrice</td>    <th>  R-squared:         </th> <td>   0.812</td> \n",
       "</tr>\n",
       "<tr>\n",
       "  <th>Model:</th>                   <td>OLS</td>       <th>  Adj. R-squared:    </th> <td>   0.806</td> \n",
       "</tr>\n",
       "<tr>\n",
       "  <th>Method:</th>             <td>Least Squares</td>  <th>  F-statistic:       </th> <td>   129.8</td> \n",
       "</tr>\n",
       "<tr>\n",
       "  <th>Date:</th>             <td>Thu, 20 Aug 2020</td> <th>  Prob (F-statistic):</th>  <td>  0.00</td>  \n",
       "</tr>\n",
       "<tr>\n",
       "  <th>Time:</th>                 <td>13:39:03</td>     <th>  Log-Likelihood:    </th> <td> -17324.</td> \n",
       "</tr>\n",
       "<tr>\n",
       "  <th>No. Observations:</th>      <td>  1460</td>      <th>  AIC:               </th> <td>3.474e+04</td>\n",
       "</tr>\n",
       "<tr>\n",
       "  <th>Df Residuals:</th>          <td>  1412</td>      <th>  BIC:               </th> <td>3.500e+04</td>\n",
       "</tr>\n",
       "<tr>\n",
       "  <th>Df Model:</th>              <td>    47</td>      <th>                     </th>     <td> </td>    \n",
       "</tr>\n",
       "<tr>\n",
       "  <th>Covariance Type:</th>      <td>nonrobust</td>    <th>                     </th>     <td> </td>    \n",
       "</tr>\n",
       "</table>\n",
       "<table class=\"simpletable\">\n",
       "<tr>\n",
       "               <td></td>                 <th>coef</th>     <th>std err</th>      <th>t</th>      <th>P>|t|</th>  <th>[0.025</th>    <th>0.975]</th>  \n",
       "</tr>\n",
       "<tr>\n",
       "  <th>Intercept</th>                  <td> 8.755e+04</td> <td> 2.38e+04</td> <td>    3.676</td> <td> 0.000</td> <td> 4.08e+04</td> <td> 1.34e+05</td>\n",
       "</tr>\n",
       "<tr>\n",
       "  <th>C(BldgType)[T.OneFam]</th>      <td> 2.957e+04</td> <td> 5264.990</td> <td>    5.617</td> <td> 0.000</td> <td> 1.92e+04</td> <td> 3.99e+04</td>\n",
       "</tr>\n",
       "<tr>\n",
       "  <th>C(BldgType)[T.Twnhs]</th>       <td>-7837.7776</td> <td> 9036.983</td> <td>   -0.867</td> <td> 0.386</td> <td>-2.56e+04</td> <td> 9889.579</td>\n",
       "</tr>\n",
       "<tr>\n",
       "  <th>C(BldgType)[T.TwnhsE]</th>      <td> 3139.6220</td> <td> 7074.089</td> <td>    0.444</td> <td> 0.657</td> <td>-1.07e+04</td> <td>  1.7e+04</td>\n",
       "</tr>\n",
       "<tr>\n",
       "  <th>C(BldgType)[T.TwoFamCon]</th>   <td> 1.565e+04</td> <td> 8387.455</td> <td>    1.866</td> <td> 0.062</td> <td> -804.907</td> <td> 3.21e+04</td>\n",
       "</tr>\n",
       "<tr>\n",
       "  <th>C(KitchenQual)[T.Fa]</th>       <td>-8.175e+04</td> <td> 7605.762</td> <td>  -10.749</td> <td> 0.000</td> <td>-9.67e+04</td> <td>-6.68e+04</td>\n",
       "</tr>\n",
       "<tr>\n",
       "  <th>C(KitchenQual)[T.Gd]</th>       <td>-5.172e+04</td> <td> 4355.935</td> <td>  -11.874</td> <td> 0.000</td> <td>-6.03e+04</td> <td>-4.32e+04</td>\n",
       "</tr>\n",
       "<tr>\n",
       "  <th>C(KitchenQual)[T.TA]</th>       <td>-6.873e+04</td> <td> 4819.103</td> <td>  -14.262</td> <td> 0.000</td> <td>-7.82e+04</td> <td>-5.93e+04</td>\n",
       "</tr>\n",
       "<tr>\n",
       "  <th>C(SaleType)[T.CWD]</th>         <td>  2.36e+04</td> <td> 1.85e+04</td> <td>    1.278</td> <td> 0.202</td> <td>-1.26e+04</td> <td> 5.98e+04</td>\n",
       "</tr>\n",
       "<tr>\n",
       "  <th>C(SaleType)[T.Con]</th>         <td> 6.148e+04</td> <td> 2.61e+04</td> <td>    2.356</td> <td> 0.019</td> <td> 1.03e+04</td> <td> 1.13e+05</td>\n",
       "</tr>\n",
       "<tr>\n",
       "  <th>C(SaleType)[T.ConLD]</th>       <td> 1.652e+04</td> <td> 1.33e+04</td> <td>    1.239</td> <td> 0.215</td> <td>-9628.110</td> <td> 4.27e+04</td>\n",
       "</tr>\n",
       "<tr>\n",
       "  <th>C(SaleType)[T.ConLI]</th>       <td> 1.141e+04</td> <td> 1.68e+04</td> <td>    0.681</td> <td> 0.496</td> <td>-2.15e+04</td> <td> 4.43e+04</td>\n",
       "</tr>\n",
       "<tr>\n",
       "  <th>C(SaleType)[T.ConLw]</th>       <td> 7098.8153</td> <td> 1.68e+04</td> <td>    0.423</td> <td> 0.672</td> <td>-2.58e+04</td> <td>    4e+04</td>\n",
       "</tr>\n",
       "<tr>\n",
       "  <th>C(SaleType)[T.New]</th>         <td> 2.727e+04</td> <td> 6767.082</td> <td>    4.030</td> <td> 0.000</td> <td>  1.4e+04</td> <td> 4.05e+04</td>\n",
       "</tr>\n",
       "<tr>\n",
       "  <th>C(SaleType)[T.Oth]</th>         <td>  1.12e+04</td> <td> 2.11e+04</td> <td>    0.532</td> <td> 0.595</td> <td>-3.01e+04</td> <td> 5.25e+04</td>\n",
       "</tr>\n",
       "<tr>\n",
       "  <th>C(SaleType)[T.WD]</th>          <td> 1.125e+04</td> <td> 5612.242</td> <td>    2.005</td> <td> 0.045</td> <td>  244.131</td> <td> 2.23e+04</td>\n",
       "</tr>\n",
       "<tr>\n",
       "  <th>C(MSZoning)[T.FV]</th>          <td> 2.548e+04</td> <td> 1.65e+04</td> <td>    1.540</td> <td> 0.124</td> <td>-6975.819</td> <td> 5.79e+04</td>\n",
       "</tr>\n",
       "<tr>\n",
       "  <th>C(MSZoning)[T.RH]</th>          <td> 1.416e+04</td> <td> 1.67e+04</td> <td>    0.849</td> <td> 0.396</td> <td>-1.86e+04</td> <td> 4.69e+04</td>\n",
       "</tr>\n",
       "<tr>\n",
       "  <th>C(MSZoning)[T.RL]</th>          <td> 2.279e+04</td> <td> 1.39e+04</td> <td>    1.639</td> <td> 0.101</td> <td>-4489.458</td> <td> 5.01e+04</td>\n",
       "</tr>\n",
       "<tr>\n",
       "  <th>C(MSZoning)[T.RM]</th>          <td> 3.403e+04</td> <td>  1.3e+04</td> <td>    2.612</td> <td> 0.009</td> <td> 8476.227</td> <td> 5.96e+04</td>\n",
       "</tr>\n",
       "<tr>\n",
       "  <th>C(Street)[T.Pave]</th>          <td>-3805.3061</td> <td> 1.56e+04</td> <td>   -0.244</td> <td> 0.807</td> <td>-3.44e+04</td> <td> 2.68e+04</td>\n",
       "</tr>\n",
       "<tr>\n",
       "  <th>C(Neighborhood)[T.Blueste]</th> <td>-6747.7013</td> <td> 2.72e+04</td> <td>   -0.248</td> <td> 0.804</td> <td>-6.01e+04</td> <td> 4.66e+04</td>\n",
       "</tr>\n",
       "<tr>\n",
       "  <th>C(Neighborhood)[T.BrDale]</th>  <td>-2.764e+04</td> <td> 1.45e+04</td> <td>   -1.906</td> <td> 0.057</td> <td>-5.61e+04</td> <td>  804.179</td>\n",
       "</tr>\n",
       "<tr>\n",
       "  <th>C(Neighborhood)[T.BrkSide]</th> <td>-5.184e+04</td> <td> 1.16e+04</td> <td>   -4.452</td> <td> 0.000</td> <td>-7.47e+04</td> <td> -2.9e+04</td>\n",
       "</tr>\n",
       "<tr>\n",
       "  <th>C(Neighborhood)[T.ClearCr]</th> <td>-2.144e+04</td> <td> 1.21e+04</td> <td>   -1.778</td> <td> 0.076</td> <td>-4.51e+04</td> <td> 2212.359</td>\n",
       "</tr>\n",
       "<tr>\n",
       "  <th>C(Neighborhood)[T.CollgCr]</th> <td>-1.208e+04</td> <td>    1e+04</td> <td>   -1.208</td> <td> 0.227</td> <td>-3.17e+04</td> <td> 7535.598</td>\n",
       "</tr>\n",
       "<tr>\n",
       "  <th>C(Neighborhood)[T.Crawfor]</th> <td>-9751.3503</td> <td> 1.09e+04</td> <td>   -0.897</td> <td> 0.370</td> <td>-3.11e+04</td> <td> 1.16e+04</td>\n",
       "</tr>\n",
       "<tr>\n",
       "  <th>C(Neighborhood)[T.Edwards]</th> <td>-5.642e+04</td> <td> 1.04e+04</td> <td>   -5.409</td> <td> 0.000</td> <td>-7.69e+04</td> <td> -3.6e+04</td>\n",
       "</tr>\n",
       "<tr>\n",
       "  <th>C(Neighborhood)[T.Gilbert]</th> <td>-1.605e+04</td> <td> 1.06e+04</td> <td>   -1.518</td> <td> 0.129</td> <td>-3.68e+04</td> <td> 4689.230</td>\n",
       "</tr>\n",
       "<tr>\n",
       "  <th>C(Neighborhood)[T.IDOTRR]</th>  <td>-6.685e+04</td> <td> 1.35e+04</td> <td>   -4.944</td> <td> 0.000</td> <td>-9.34e+04</td> <td>-4.03e+04</td>\n",
       "</tr>\n",
       "<tr>\n",
       "  <th>C(Neighborhood)[T.MeadowV]</th> <td>-4.215e+04</td> <td> 1.36e+04</td> <td>   -3.110</td> <td> 0.002</td> <td>-6.87e+04</td> <td>-1.56e+04</td>\n",
       "</tr>\n",
       "<tr>\n",
       "  <th>C(Neighborhood)[T.Mitchel]</th> <td> -2.54e+04</td> <td>  1.1e+04</td> <td>   -2.306</td> <td> 0.021</td> <td> -4.7e+04</td> <td>-3797.903</td>\n",
       "</tr>\n",
       "<tr>\n",
       "  <th>C(Neighborhood)[T.NAmes]</th>   <td>-3.934e+04</td> <td> 1.01e+04</td> <td>   -3.884</td> <td> 0.000</td> <td>-5.92e+04</td> <td>-1.95e+04</td>\n",
       "</tr>\n",
       "<tr>\n",
       "  <th>C(Neighborhood)[T.NPkVill]</th> <td>  768.4823</td> <td> 1.49e+04</td> <td>    0.052</td> <td> 0.959</td> <td>-2.84e+04</td> <td> 2.99e+04</td>\n",
       "</tr>\n",
       "<tr>\n",
       "  <th>C(Neighborhood)[T.NWAmes]</th>  <td>-2.779e+04</td> <td> 1.06e+04</td> <td>   -2.616</td> <td> 0.009</td> <td>-4.86e+04</td> <td>-6950.330</td>\n",
       "</tr>\n",
       "<tr>\n",
       "  <th>C(Neighborhood)[T.NoRidge]</th> <td> 5.474e+04</td> <td> 1.13e+04</td> <td>    4.863</td> <td> 0.000</td> <td> 3.27e+04</td> <td> 7.68e+04</td>\n",
       "</tr>\n",
       "<tr>\n",
       "  <th>C(Neighborhood)[T.NridgHt]</th> <td> 4.714e+04</td> <td> 1.01e+04</td> <td>    4.674</td> <td> 0.000</td> <td> 2.74e+04</td> <td> 6.69e+04</td>\n",
       "</tr>\n",
       "<tr>\n",
       "  <th>C(Neighborhood)[T.OldTown]</th> <td> -7.15e+04</td> <td> 1.18e+04</td> <td>   -6.035</td> <td> 0.000</td> <td>-9.47e+04</td> <td>-4.83e+04</td>\n",
       "</tr>\n",
       "<tr>\n",
       "  <th>C(Neighborhood)[T.SWISU]</th>   <td>-6.224e+04</td> <td> 1.23e+04</td> <td>   -5.044</td> <td> 0.000</td> <td>-8.65e+04</td> <td> -3.8e+04</td>\n",
       "</tr>\n",
       "<tr>\n",
       "  <th>C(Neighborhood)[T.Sawyer]</th>  <td>-4.104e+04</td> <td> 1.07e+04</td> <td>   -3.825</td> <td> 0.000</td> <td>-6.21e+04</td> <td>   -2e+04</td>\n",
       "</tr>\n",
       "<tr>\n",
       "  <th>C(Neighborhood)[T.SawyerW]</th> <td>-1.894e+04</td> <td> 1.06e+04</td> <td>   -1.794</td> <td> 0.073</td> <td>-3.96e+04</td> <td> 1772.369</td>\n",
       "</tr>\n",
       "<tr>\n",
       "  <th>C(Neighborhood)[T.Somerst]</th> <td> 6355.5330</td> <td> 1.23e+04</td> <td>    0.518</td> <td> 0.605</td> <td>-1.77e+04</td> <td> 3.04e+04</td>\n",
       "</tr>\n",
       "<tr>\n",
       "  <th>C(Neighborhood)[T.StoneBr]</th> <td> 5.805e+04</td> <td> 1.13e+04</td> <td>    5.147</td> <td> 0.000</td> <td> 3.59e+04</td> <td> 8.02e+04</td>\n",
       "</tr>\n",
       "<tr>\n",
       "  <th>C(Neighborhood)[T.Timber]</th>  <td> -774.2751</td> <td> 1.13e+04</td> <td>   -0.069</td> <td> 0.945</td> <td>-2.29e+04</td> <td> 2.14e+04</td>\n",
       "</tr>\n",
       "<tr>\n",
       "  <th>C(Neighborhood)[T.Veenker]</th> <td> 1.588e+04</td> <td> 1.42e+04</td> <td>    1.115</td> <td> 0.265</td> <td>-1.21e+04</td> <td> 4.38e+04</td>\n",
       "</tr>\n",
       "<tr>\n",
       "  <th>LotArea</th>                    <td>    0.4488</td> <td>    0.109</td> <td>    4.103</td> <td> 0.000</td> <td>    0.234</td> <td>    0.663</td>\n",
       "</tr>\n",
       "<tr>\n",
       "  <th>FirstFlrSF</th>                 <td>   26.7057</td> <td>    3.448</td> <td>    7.745</td> <td> 0.000</td> <td>   19.942</td> <td>   33.470</td>\n",
       "</tr>\n",
       "<tr>\n",
       "  <th>GrLivArea</th>                  <td>   53.2493</td> <td>    2.538</td> <td>   20.982</td> <td> 0.000</td> <td>   48.271</td> <td>   58.228</td>\n",
       "</tr>\n",
       "</table>\n",
       "<table class=\"simpletable\">\n",
       "<tr>\n",
       "  <th>Omnibus:</th>       <td>409.806</td> <th>  Durbin-Watson:     </th> <td>   1.950</td> \n",
       "</tr>\n",
       "<tr>\n",
       "  <th>Prob(Omnibus):</th> <td> 0.000</td>  <th>  Jarque-Bera (JB):  </th> <td>28276.179</td>\n",
       "</tr>\n",
       "<tr>\n",
       "  <th>Skew:</th>          <td>-0.334</td>  <th>  Prob(JB):          </th> <td>    0.00</td> \n",
       "</tr>\n",
       "<tr>\n",
       "  <th>Kurtosis:</th>      <td>24.549</td>  <th>  Cond. No.          </th> <td>7.91e+05</td> \n",
       "</tr>\n",
       "</table><br/><br/>Warnings:<br/>[1] Standard Errors assume that the covariance matrix of the errors is correctly specified.<br/>[2] The condition number is large, 7.91e+05. This might indicate that there are<br/>strong multicollinearity or other numerical problems."
      ],
      "text/plain": [
       "<class 'statsmodels.iolib.summary.Summary'>\n",
       "\"\"\"\n",
       "                            OLS Regression Results                            \n",
       "==============================================================================\n",
       "Dep. Variable:              SalePrice   R-squared:                       0.812\n",
       "Model:                            OLS   Adj. R-squared:                  0.806\n",
       "Method:                 Least Squares   F-statistic:                     129.8\n",
       "Date:                Thu, 20 Aug 2020   Prob (F-statistic):               0.00\n",
       "Time:                        13:39:03   Log-Likelihood:                -17324.\n",
       "No. Observations:                1460   AIC:                         3.474e+04\n",
       "Df Residuals:                    1412   BIC:                         3.500e+04\n",
       "Df Model:                          47                                         \n",
       "Covariance Type:            nonrobust                                         \n",
       "==============================================================================================\n",
       "                                 coef    std err          t      P>|t|      [0.025      0.975]\n",
       "----------------------------------------------------------------------------------------------\n",
       "Intercept                   8.755e+04   2.38e+04      3.676      0.000    4.08e+04    1.34e+05\n",
       "C(BldgType)[T.OneFam]       2.957e+04   5264.990      5.617      0.000    1.92e+04    3.99e+04\n",
       "C(BldgType)[T.Twnhs]       -7837.7776   9036.983     -0.867      0.386   -2.56e+04    9889.579\n",
       "C(BldgType)[T.TwnhsE]       3139.6220   7074.089      0.444      0.657   -1.07e+04     1.7e+04\n",
       "C(BldgType)[T.TwoFamCon]    1.565e+04   8387.455      1.866      0.062    -804.907    3.21e+04\n",
       "C(KitchenQual)[T.Fa]       -8.175e+04   7605.762    -10.749      0.000   -9.67e+04   -6.68e+04\n",
       "C(KitchenQual)[T.Gd]       -5.172e+04   4355.935    -11.874      0.000   -6.03e+04   -4.32e+04\n",
       "C(KitchenQual)[T.TA]       -6.873e+04   4819.103    -14.262      0.000   -7.82e+04   -5.93e+04\n",
       "C(SaleType)[T.CWD]           2.36e+04   1.85e+04      1.278      0.202   -1.26e+04    5.98e+04\n",
       "C(SaleType)[T.Con]          6.148e+04   2.61e+04      2.356      0.019    1.03e+04    1.13e+05\n",
       "C(SaleType)[T.ConLD]        1.652e+04   1.33e+04      1.239      0.215   -9628.110    4.27e+04\n",
       "C(SaleType)[T.ConLI]        1.141e+04   1.68e+04      0.681      0.496   -2.15e+04    4.43e+04\n",
       "C(SaleType)[T.ConLw]        7098.8153   1.68e+04      0.423      0.672   -2.58e+04       4e+04\n",
       "C(SaleType)[T.New]          2.727e+04   6767.082      4.030      0.000     1.4e+04    4.05e+04\n",
       "C(SaleType)[T.Oth]           1.12e+04   2.11e+04      0.532      0.595   -3.01e+04    5.25e+04\n",
       "C(SaleType)[T.WD]           1.125e+04   5612.242      2.005      0.045     244.131    2.23e+04\n",
       "C(MSZoning)[T.FV]           2.548e+04   1.65e+04      1.540      0.124   -6975.819    5.79e+04\n",
       "C(MSZoning)[T.RH]           1.416e+04   1.67e+04      0.849      0.396   -1.86e+04    4.69e+04\n",
       "C(MSZoning)[T.RL]           2.279e+04   1.39e+04      1.639      0.101   -4489.458    5.01e+04\n",
       "C(MSZoning)[T.RM]           3.403e+04    1.3e+04      2.612      0.009    8476.227    5.96e+04\n",
       "C(Street)[T.Pave]          -3805.3061   1.56e+04     -0.244      0.807   -3.44e+04    2.68e+04\n",
       "C(Neighborhood)[T.Blueste] -6747.7013   2.72e+04     -0.248      0.804   -6.01e+04    4.66e+04\n",
       "C(Neighborhood)[T.BrDale]  -2.764e+04   1.45e+04     -1.906      0.057   -5.61e+04     804.179\n",
       "C(Neighborhood)[T.BrkSide] -5.184e+04   1.16e+04     -4.452      0.000   -7.47e+04    -2.9e+04\n",
       "C(Neighborhood)[T.ClearCr] -2.144e+04   1.21e+04     -1.778      0.076   -4.51e+04    2212.359\n",
       "C(Neighborhood)[T.CollgCr] -1.208e+04      1e+04     -1.208      0.227   -3.17e+04    7535.598\n",
       "C(Neighborhood)[T.Crawfor] -9751.3503   1.09e+04     -0.897      0.370   -3.11e+04    1.16e+04\n",
       "C(Neighborhood)[T.Edwards] -5.642e+04   1.04e+04     -5.409      0.000   -7.69e+04    -3.6e+04\n",
       "C(Neighborhood)[T.Gilbert] -1.605e+04   1.06e+04     -1.518      0.129   -3.68e+04    4689.230\n",
       "C(Neighborhood)[T.IDOTRR]  -6.685e+04   1.35e+04     -4.944      0.000   -9.34e+04   -4.03e+04\n",
       "C(Neighborhood)[T.MeadowV] -4.215e+04   1.36e+04     -3.110      0.002   -6.87e+04   -1.56e+04\n",
       "C(Neighborhood)[T.Mitchel]  -2.54e+04    1.1e+04     -2.306      0.021    -4.7e+04   -3797.903\n",
       "C(Neighborhood)[T.NAmes]   -3.934e+04   1.01e+04     -3.884      0.000   -5.92e+04   -1.95e+04\n",
       "C(Neighborhood)[T.NPkVill]   768.4823   1.49e+04      0.052      0.959   -2.84e+04    2.99e+04\n",
       "C(Neighborhood)[T.NWAmes]  -2.779e+04   1.06e+04     -2.616      0.009   -4.86e+04   -6950.330\n",
       "C(Neighborhood)[T.NoRidge]  5.474e+04   1.13e+04      4.863      0.000    3.27e+04    7.68e+04\n",
       "C(Neighborhood)[T.NridgHt]  4.714e+04   1.01e+04      4.674      0.000    2.74e+04    6.69e+04\n",
       "C(Neighborhood)[T.OldTown]  -7.15e+04   1.18e+04     -6.035      0.000   -9.47e+04   -4.83e+04\n",
       "C(Neighborhood)[T.SWISU]   -6.224e+04   1.23e+04     -5.044      0.000   -8.65e+04    -3.8e+04\n",
       "C(Neighborhood)[T.Sawyer]  -4.104e+04   1.07e+04     -3.825      0.000   -6.21e+04      -2e+04\n",
       "C(Neighborhood)[T.SawyerW] -1.894e+04   1.06e+04     -1.794      0.073   -3.96e+04    1772.369\n",
       "C(Neighborhood)[T.Somerst]  6355.5330   1.23e+04      0.518      0.605   -1.77e+04    3.04e+04\n",
       "C(Neighborhood)[T.StoneBr]  5.805e+04   1.13e+04      5.147      0.000    3.59e+04    8.02e+04\n",
       "C(Neighborhood)[T.Timber]   -774.2751   1.13e+04     -0.069      0.945   -2.29e+04    2.14e+04\n",
       "C(Neighborhood)[T.Veenker]  1.588e+04   1.42e+04      1.115      0.265   -1.21e+04    4.38e+04\n",
       "LotArea                        0.4488      0.109      4.103      0.000       0.234       0.663\n",
       "FirstFlrSF                    26.7057      3.448      7.745      0.000      19.942      33.470\n",
       "GrLivArea                     53.2493      2.538     20.982      0.000      48.271      58.228\n",
       "==============================================================================\n",
       "Omnibus:                      409.806   Durbin-Watson:                   1.950\n",
       "Prob(Omnibus):                  0.000   Jarque-Bera (JB):            28276.179\n",
       "Skew:                          -0.334   Prob(JB):                         0.00\n",
       "Kurtosis:                      24.549   Cond. No.                     7.91e+05\n",
       "==============================================================================\n",
       "\n",
       "Warnings:\n",
       "[1] Standard Errors assume that the covariance matrix of the errors is correctly specified.\n",
       "[2] The condition number is large, 7.91e+05. This might indicate that there are\n",
       "strong multicollinearity or other numerical problems.\n",
       "\"\"\""
      ]
     },
     "execution_count": 64,
     "metadata": {},
     "output_type": "execute_result"
    }
   ],
   "source": [
    "## Non-Formula OLS\n",
    "model =  smf.ols(f,df).fit()\n",
    "model.summary()"
   ]
  },
  {
   "cell_type": "code",
   "execution_count": 65,
   "metadata": {
    "ExecuteTime": {
     "end_time": "2020-08-20T17:39:03.597388Z",
     "start_time": "2020-08-20T17:39:03.593303Z"
    },
    "scrolled": false
   },
   "outputs": [
    {
     "data": {
      "text/plain": [
       "<statsmodels.regression.linear_model.RegressionResultsWrapper at 0x139336320>"
      ]
     },
     "execution_count": 65,
     "metadata": {},
     "output_type": "execute_result"
    }
   ],
   "source": [
    "## View Model Summary\n",
    "model"
   ]
  },
  {
   "cell_type": "markdown",
   "metadata": {
    "colab_type": "text",
    "id": "iiPVlei9bA7g"
   },
   "source": [
    "# Multicollinearity\n",
    "- An additional concern to check for.\n",
    "- Rule of thumb is if correlation between vars is >0.70 is too high\n"
   ]
  },
  {
   "cell_type": "code",
   "execution_count": 66,
   "metadata": {
    "ExecuteTime": {
     "end_time": "2020-08-20T17:39:03.605945Z",
     "start_time": "2020-08-20T17:39:03.599377Z"
    },
    "colab": {},
    "colab_type": "code",
    "id": "cA9VUoPIa8kE"
   },
   "outputs": [
    {
     "data": {
      "text/plain": [
       "array([[0., 0., 0., 0.],\n",
       "       [0., 0., 0., 0.],\n",
       "       [0., 0., 0., 0.],\n",
       "       [0., 0., 0., 0.]])"
      ]
     },
     "execution_count": 66,
     "metadata": {},
     "output_type": "execute_result"
    }
   ],
   "source": [
    "## Get the correlation matrix for our model_df\n",
    "corr = df.corr()\n",
    "mask = np.zeros_like(corr)\n",
    "mask"
   ]
  },
  {
   "cell_type": "code",
   "execution_count": 67,
   "metadata": {
    "ExecuteTime": {
     "end_time": "2020-08-20T17:39:03.624130Z",
     "start_time": "2020-08-20T17:39:03.608451Z"
    }
   },
   "outputs": [
    {
     "data": {
      "text/plain": [
       "array([[1., 1., 1., 1.],\n",
       "       [0., 1., 1., 1.],\n",
       "       [0., 0., 1., 1.],\n",
       "       [0., 0., 0., 1.]])"
      ]
     },
     "execution_count": 67,
     "metadata": {},
     "output_type": "execute_result"
    }
   ],
   "source": [
    "mask[np.triu_indices_from(mask)] = True\n",
    "mask"
   ]
  },
  {
   "cell_type": "code",
   "execution_count": 68,
   "metadata": {
    "ExecuteTime": {
     "end_time": "2020-08-20T17:39:03.945262Z",
     "start_time": "2020-08-20T17:39:03.639246Z"
    },
    "colab": {},
    "colab_type": "code",
    "id": "cA9VUoPIa8kE"
   },
   "outputs": [
    {
     "data": {
      "text/plain": [
       "<AxesSubplot:>"
      ]
     },
     "execution_count": 68,
     "metadata": {},
     "output_type": "execute_result"
    },
    {
     "data": {
      "image/png": "[encoded data removed]",
      "text/plain": [
       "<Figure size 720x432 with 2 Axes>"
      ]
     },
     "metadata": {},
     "output_type": "display_data"
    }
   ],
   "source": [
    "sns.heatmap(corr, annot=True,cmap=\"Blues\",mask=mask)"
   ]
  },
  {
   "cell_type": "code",
   "execution_count": 69,
   "metadata": {
    "ExecuteTime": {
     "end_time": "2020-08-20T17:39:03.949363Z",
     "start_time": "2020-08-20T17:39:03.946916Z"
    }
   },
   "outputs": [],
   "source": [
    "# Checking Visually \n",
    "\n",
    "def multiplot():\n",
    "\n",
    "    return fig, ax\n"
   ]
  },
  {
   "cell_type": "markdown",
   "metadata": {
    "colab_type": "text",
    "id": "6oMctVCOfbM5"
   },
   "source": []
  },
  {
   "cell_type": "markdown",
   "metadata": {
    "colab_type": "text",
    "id": "EVqW9paafbKE"
   },
   "source": [
    "# "
   ]
  }
 ],
 "metadata": {
  "colab": {
   "collapsed_sections": [],
   "include_colab_link": true,
   "name": "section_08_Multiple_Regression_Part_1.ipynb",
   "provenance": []
  },
  "kernelspec": {
   "display_name": "learn-env",
   "language": "python",
   "name": "learn-env"
  },
  "language_info": {
   "codemirror_mode": {
    "name": "ipython",
    "version": 3
   },
   "file_extension": ".py",
   "mimetype": "text/x-python",
   "name": "python",
   "nbconvert_exporter": "python",
   "pygments_lexer": "ipython3",
   "version": "3.6.11"
  },
  "toc": {
   "base_numbering": 1,
   "nav_menu": {},
   "number_sections": true,
   "sideBar": true,
   "skip_h1_title": false,
   "title_cell": "Table of Contents",
   "title_sidebar": "Contents",
   "toc_cell": false,
   "toc_position": {
    "height": "calc(100% - 180px)",
    "left": "10px",
    "top": "150px",
    "width": "165px"
   },
   "toc_section_display": true,
   "toc_window_display": true
  },
  "varInspector": {
   "cols": {
    "lenName": 16,
    "lenType": 16,
    "lenVar": 40
   },
   "kernels_config": {
    "python": {
     "delete_cmd_postfix": "",
     "delete_cmd_prefix": "del ",
     "library": "var_list.py",
     "varRefreshCmd": "print(var_dic_list())"
    },
    "r": {
     "delete_cmd_postfix": ") ",
     "delete_cmd_prefix": "rm(",
     "library": "var_list.r",
     "varRefreshCmd": "cat(var_dic_list()) "
    }
   },
   "types_to_exclude": [
    "module",
    "function",
    "builtin_function_or_method",
    "instance",
    "_Feature"
   ],
   "window_display": false
  }
 },
 "nbformat": 4,
 "nbformat_minor": 1
}

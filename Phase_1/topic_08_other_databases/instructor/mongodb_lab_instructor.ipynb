{
 "cells": [
  {
   "cell_type": "markdown",
   "metadata": {},
   "source": [
    "# MongoDB - Lab\n",
    "https://github.com/learn-co-students/dsc-mongodb-lab-onl01-dtsc-pt-041320/tree/solution"
   ]
  },
  {
   "cell_type": "markdown",
   "metadata": {},
   "source": [
    "## Introduction\n",
    "\n",
    "In this lesson, we'll get some hands-on experience with MongoDB!\n",
    "\n",
    "## Objectives\n",
    "You will be able to: \n",
    "\n",
    "- Create a MongoDB database   \n",
    "- Insert data into a MongoDB database   \n",
    "- Read data from a MongoDB database   \n",
    "- Update data in a MongoDB database   \n",
    "\n",
    "## Getting Started\n",
    "\n",
    "To begin this lab, make sure that you start up the mongoDB server in your terminal first! **You must do this lab locally on your computer, not in Learn.**\n",
    "\n",
    "\n",
    "## Connecting to the MongoDB Database\n",
    "\n",
    "In the cell below, import the appropriate library and connect to the mongoDB server. Create a new database called `'lab_db'`."
   ]
  },
  {
   "cell_type": "code",
   "execution_count": 1,
   "metadata": {},
   "outputs": [
    {
     "data": {
      "text/plain": [
       "MongoClient(host=['localhost:27017'], document_class=dict, tz_aware=False, connect=True)"
      ]
     },
     "execution_count": 1,
     "metadata": {},
     "output_type": "execute_result"
    }
   ],
   "source": [
    "import pymongo\n",
    "client = pymongo.MongoClient()\n",
    "client"
   ]
  },
  {
   "cell_type": "code",
   "execution_count": 2,
   "metadata": {},
   "outputs": [
    {
     "data": {
      "text/plain": [
       "['admin', 'config', 'example_database', 'lab_db', 'local', 'test']"
      ]
     },
     "execution_count": 2,
     "metadata": {},
     "output_type": "execute_result"
    }
   ],
   "source": [
    "client.list_database_names()"
   ]
  },
  {
   "cell_type": "markdown",
   "metadata": {},
   "source": [
    "## Creating a Collection\n",
    "\n",
    "Now, create a collection called `'lab_collection'` inside `'lab_db'`."
   ]
  },
  {
   "cell_type": "code",
   "execution_count": 3,
   "metadata": {},
   "outputs": [
    {
     "data": {
      "text/plain": [
       "Database(MongoClient(host=['localhost:27017'], document_class=dict, tz_aware=False, connect=True), 'lab_db')"
      ]
     },
     "execution_count": 3,
     "metadata": {},
     "output_type": "execute_result"
    }
   ],
   "source": [
    "db = client['lab_db']\n",
    "db"
   ]
  },
  {
   "cell_type": "code",
   "execution_count": 4,
   "metadata": {},
   "outputs": [
    {
     "data": {
      "text/plain": [
       "['lab_collection']"
      ]
     },
     "execution_count": 4,
     "metadata": {},
     "output_type": "execute_result"
    }
   ],
   "source": [
    "db.list_collection_names()"
   ]
  },
  {
   "cell_type": "code",
   "execution_count": 5,
   "metadata": {},
   "outputs": [
    {
     "data": {
      "text/plain": [
       "<pymongo.results.DeleteResult at 0x10a739b48>"
      ]
     },
     "execution_count": 5,
     "metadata": {},
     "output_type": "execute_result"
    }
   ],
   "source": [
    "collection = db['lab_collection']\n",
    "collection.delete_many({})"
   ]
  },
  {
   "cell_type": "markdown",
   "metadata": {},
   "source": [
    "## Adding Some Data\n",
    "\n",
    "Now, we're going to add some example records into our database. In the cells below, create dictionary representations of the following customer records:\n",
    "\n",
    "\n",
    "|     Name     |            Email           |  Mailing_Address  | Balance |                         Notes                         |\n",
    "|:------------:|:--------------------------:|:-----------------:|:-------:|:-----------------------------------------------------:|\n",
    "|  John Smith  |    j.smith@thesmiths.com   | 123 mulberry lane |   0.0   |    Called technical support, issue not yet resolved   |\n",
    "|  Jane Smith  |  jane_smith@thesmiths.com  |         Null          |  25.00  |                   Null                                    |\n",
    "|  Adam Enbar  | adam@theflatironschool.com |    11 Broadway    |  14.99  |           Set up on recurring billing cycle           |\n",
    "| Avi Flombaum |  avi@theflatironschool.com |    11 Broadway    |   0.0   |                   Null                                    |\n",
    "|   Steven S.  |     steven.s@gmail.net     |         Null          |  -20.23 | Refunded for overpayment due to price match guarantee |\n",
    "\n",
    "\n",
    "Your first challenge is to take all of the data in the table above and create the corresponding documents and add then to our mongo database. Note that fields that contain 'Null' should not be included in the document (recall that since mongo is schema-less, each document can be different). \n",
    "\n",
    "Create the documents from the table listed above, and then use `insert_many()` to insert them into the collection."
   ]
  },
  {
   "cell_type": "markdown",
   "metadata": {},
   "source": [
    "|     Name     |            Email           |  Mailing_Address  | Balance |                         Notes                         |\n",
    "|:------------:|:--------------------------:|:-----------------:|:-------:|:-----------------------------------------------------:|\n",
    "|  John Smith  |    j.smith@thesmiths.com   | 123 mulberry lane |   0.0   |    Called technical support, issue not yet resolved   |\n",
    "|  Jane Smith  |  jane_smith@thesmiths.com  |         Null          |  25.00  |                   Null                                    |\n",
    "|  Adam Enbar  | adam@theflatironschool.com |    11 Broadway    |  14.99  |           Set up on recurring billing cycle           |\n",
    "| Avi Flombaum |  avi@theflatironschool.com |    11 Broadway    |   0.0   |                   Null                                    |\n",
    "|   Steven S.  |     steven.s@gmail.net     |         Null          |  -20.23 | Refunded for overpayment due to price match guarantee |"
   ]
  },
  {
   "cell_type": "code",
   "execution_count": 9,
   "metadata": {},
   "outputs": [
    {
     "data": {
      "text/html": [
       "<div>\n",
       "<style scoped>\n",
       "    .dataframe tbody tr th:only-of-type {\n",
       "        vertical-align: middle;\n",
       "    }\n",
       "\n",
       "    .dataframe tbody tr th {\n",
       "        vertical-align: top;\n",
       "    }\n",
       "\n",
       "    .dataframe thead th {\n",
       "        text-align: right;\n",
       "    }\n",
       "</style>\n",
       "<table border=\"1\" class=\"dataframe\">\n",
       "  <thead>\n",
       "    <tr style=\"text-align: right;\">\n",
       "      <th></th>\n",
       "      <th>Unnamed: 0</th>\n",
       "      <th>Name</th>\n",
       "      <th>Email</th>\n",
       "      <th>Mailing_Address</th>\n",
       "      <th>Balance</th>\n",
       "      <th>Notes</th>\n",
       "      <th>Unnamed: 6</th>\n",
       "    </tr>\n",
       "  </thead>\n",
       "  <tbody>\n",
       "    <tr>\n",
       "      <td>0</td>\n",
       "      <td>NaN</td>\n",
       "      <td>:------------:</td>\n",
       "      <td>:--------------------------:</td>\n",
       "      <td>:-----------------:</td>\n",
       "      <td>:-------:</td>\n",
       "      <td>:---------------------------------------------...</td>\n",
       "      <td>NaN</td>\n",
       "    </tr>\n",
       "    <tr>\n",
       "      <td>1</td>\n",
       "      <td>NaN</td>\n",
       "      <td>John Smith</td>\n",
       "      <td>j.smith@thesmiths.com</td>\n",
       "      <td>123 mulberry lane</td>\n",
       "      <td>0.0</td>\n",
       "      <td>Called technical support, issue not yet re...</td>\n",
       "      <td>NaN</td>\n",
       "    </tr>\n",
       "    <tr>\n",
       "      <td>2</td>\n",
       "      <td>NaN</td>\n",
       "      <td>Jane Smith</td>\n",
       "      <td>jane_smith@thesmiths.com</td>\n",
       "      <td>Null</td>\n",
       "      <td>25.00</td>\n",
       "      <td>Null                       ...</td>\n",
       "      <td>NaN</td>\n",
       "    </tr>\n",
       "    <tr>\n",
       "      <td>3</td>\n",
       "      <td>NaN</td>\n",
       "      <td>Adam Enbar</td>\n",
       "      <td>adam@theflatironschool.com</td>\n",
       "      <td>11 Broadway</td>\n",
       "      <td>14.99</td>\n",
       "      <td>Set up on recurring billing cycle  ...</td>\n",
       "      <td>NaN</td>\n",
       "    </tr>\n",
       "    <tr>\n",
       "      <td>4</td>\n",
       "      <td>NaN</td>\n",
       "      <td>Avi Flombaum</td>\n",
       "      <td>avi@theflatironschool.com</td>\n",
       "      <td>11 Broadway</td>\n",
       "      <td>0.0</td>\n",
       "      <td>Null                       ...</td>\n",
       "      <td>NaN</td>\n",
       "    </tr>\n",
       "    <tr>\n",
       "      <td>5</td>\n",
       "      <td>NaN</td>\n",
       "      <td>Steven S.</td>\n",
       "      <td>steven.s@gmail.net</td>\n",
       "      <td>Null</td>\n",
       "      <td>-20.23</td>\n",
       "      <td>Refunded for overpayment due to price match g...</td>\n",
       "      <td>NaN</td>\n",
       "    </tr>\n",
       "  </tbody>\n",
       "</table>\n",
       "</div>"
      ],
      "text/plain": [
       "   Unnamed: 0       Name                   Email             \\\n",
       "0         NaN  :------------:  :--------------------------:   \n",
       "1         NaN    John Smith        j.smith@thesmiths.com      \n",
       "2         NaN    Jane Smith      jane_smith@thesmiths.com     \n",
       "3         NaN    Adam Enbar     adam@theflatironschool.com    \n",
       "4         NaN   Avi Flombaum     avi@theflatironschool.com    \n",
       "5         NaN     Steven S.         steven.s@gmail.net        \n",
       "\n",
       "         Mailing_Address     Balance   \\\n",
       "0      :-----------------:  :-------:   \n",
       "1       123 mulberry lane      0.0      \n",
       "2           Null              25.00     \n",
       "3          11 Broadway        14.99     \n",
       "4          11 Broadway         0.0      \n",
       "5           Null              -20.23    \n",
       "\n",
       "                           Notes                           Unnamed: 6  \n",
       "0  :---------------------------------------------...              NaN  \n",
       "1      Called technical support, issue not yet re...              NaN  \n",
       "2                     Null                       ...              NaN  \n",
       "3             Set up on recurring billing cycle  ...              NaN  \n",
       "4                     Null                       ...              NaN  \n",
       "5   Refunded for overpayment due to price match g...              NaN  "
      ]
     },
     "execution_count": 9,
     "metadata": {},
     "output_type": "execute_result"
    }
   ],
   "source": [
    "import pandas as pd\n",
    "df = pd.read_clipboard(sep='|')\n",
    "df"
   ]
  },
  {
   "cell_type": "code",
   "execution_count": 10,
   "metadata": {},
   "outputs": [
    {
     "data": {
      "text/plain": [
       "Index(['Unnamed: 0', '     Name     ', '            Email           ',\n",
       "       '  Mailing_Address  ', ' Balance ',\n",
       "       '                         Notes                         ',\n",
       "       'Unnamed: 6'],\n",
       "      dtype='object')"
      ]
     },
     "execution_count": 10,
     "metadata": {},
     "output_type": "execute_result"
    }
   ],
   "source": [
    "df.columns "
   ]
  },
  {
   "cell_type": "code",
   "execution_count": 11,
   "metadata": {},
   "outputs": [
    {
     "data": {
      "text/plain": [
       "['Unnamed: 0', 'Unnamed: 6']"
      ]
     },
     "execution_count": 11,
     "metadata": {},
     "output_type": "execute_result"
    }
   ],
   "source": [
    "drop_cols = [col for col in df.columns if 'Unnamed'in col]\n",
    "drop_cols"
   ]
  },
  {
   "cell_type": "code",
   "execution_count": 12,
   "metadata": {},
   "outputs": [
    {
     "data": {
      "text/plain": [
       "Index(['     Name     ', '            Email           ', '  Mailing_Address  ',\n",
       "       ' Balance ', '                         Notes                         '],\n",
       "      dtype='object')"
      ]
     },
     "execution_count": 12,
     "metadata": {},
     "output_type": "execute_result"
    }
   ],
   "source": [
    "df.drop(columns=drop_cols,inplace=True)\n",
    "df.columns"
   ]
  },
  {
   "cell_type": "code",
   "execution_count": 13,
   "metadata": {},
   "outputs": [
    {
     "data": {
      "text/plain": [
       "['Name', 'Email', 'Mailing_Address', 'Balance', 'Notes']"
      ]
     },
     "execution_count": 13,
     "metadata": {},
     "output_type": "execute_result"
    }
   ],
   "source": [
    "[col.strip() for col in df.columns]"
   ]
  },
  {
   "cell_type": "code",
   "execution_count": 14,
   "metadata": {},
   "outputs": [
    {
     "data": {
      "text/html": [
       "<div>\n",
       "<style scoped>\n",
       "    .dataframe tbody tr th:only-of-type {\n",
       "        vertical-align: middle;\n",
       "    }\n",
       "\n",
       "    .dataframe tbody tr th {\n",
       "        vertical-align: top;\n",
       "    }\n",
       "\n",
       "    .dataframe thead th {\n",
       "        text-align: right;\n",
       "    }\n",
       "</style>\n",
       "<table border=\"1\" class=\"dataframe\">\n",
       "  <thead>\n",
       "    <tr style=\"text-align: right;\">\n",
       "      <th></th>\n",
       "      <th>Name</th>\n",
       "      <th>Email</th>\n",
       "      <th>Mailing_Address</th>\n",
       "      <th>Balance</th>\n",
       "      <th>Notes</th>\n",
       "    </tr>\n",
       "  </thead>\n",
       "  <tbody>\n",
       "    <tr>\n",
       "      <td>0</td>\n",
       "      <td>:------------:</td>\n",
       "      <td>:--------------------------:</td>\n",
       "      <td>:-----------------:</td>\n",
       "      <td>:-------:</td>\n",
       "      <td>:---------------------------------------------...</td>\n",
       "    </tr>\n",
       "    <tr>\n",
       "      <td>1</td>\n",
       "      <td>John Smith</td>\n",
       "      <td>j.smith@thesmiths.com</td>\n",
       "      <td>123 mulberry lane</td>\n",
       "      <td>0.0</td>\n",
       "      <td>Called technical support, issue not yet re...</td>\n",
       "    </tr>\n",
       "    <tr>\n",
       "      <td>2</td>\n",
       "      <td>Jane Smith</td>\n",
       "      <td>jane_smith@thesmiths.com</td>\n",
       "      <td>Null</td>\n",
       "      <td>25.00</td>\n",
       "      <td>Null                       ...</td>\n",
       "    </tr>\n",
       "    <tr>\n",
       "      <td>3</td>\n",
       "      <td>Adam Enbar</td>\n",
       "      <td>adam@theflatironschool.com</td>\n",
       "      <td>11 Broadway</td>\n",
       "      <td>14.99</td>\n",
       "      <td>Set up on recurring billing cycle  ...</td>\n",
       "    </tr>\n",
       "    <tr>\n",
       "      <td>4</td>\n",
       "      <td>Avi Flombaum</td>\n",
       "      <td>avi@theflatironschool.com</td>\n",
       "      <td>11 Broadway</td>\n",
       "      <td>0.0</td>\n",
       "      <td>Null                       ...</td>\n",
       "    </tr>\n",
       "  </tbody>\n",
       "</table>\n",
       "</div>"
      ],
      "text/plain": [
       "             Name                         Email          Mailing_Address  \\\n",
       "0  :------------:  :--------------------------:      :-----------------:   \n",
       "1    John Smith        j.smith@thesmiths.com          123 mulberry lane    \n",
       "2    Jane Smith      jane_smith@thesmiths.com             Null             \n",
       "3    Adam Enbar     adam@theflatironschool.com           11 Broadway       \n",
       "4   Avi Flombaum     avi@theflatironschool.com           11 Broadway       \n",
       "\n",
       "     Balance                                              Notes  \n",
       "0  :-------:  :---------------------------------------------...  \n",
       "1     0.0         Called technical support, issue not yet re...  \n",
       "2    25.00                       Null                       ...  \n",
       "3    14.99               Set up on recurring billing cycle  ...  \n",
       "4     0.0                        Null                       ...  "
      ]
     },
     "execution_count": 14,
     "metadata": {},
     "output_type": "execute_result"
    }
   ],
   "source": [
    "df.columns = [col.strip() for col in df.columns]\n",
    "df.head()"
   ]
  },
  {
   "cell_type": "code",
   "execution_count": 15,
   "metadata": {},
   "outputs": [
    {
     "data": {
      "text/html": [
       "<div>\n",
       "<style scoped>\n",
       "    .dataframe tbody tr th:only-of-type {\n",
       "        vertical-align: middle;\n",
       "    }\n",
       "\n",
       "    .dataframe tbody tr th {\n",
       "        vertical-align: top;\n",
       "    }\n",
       "\n",
       "    .dataframe thead th {\n",
       "        text-align: right;\n",
       "    }\n",
       "</style>\n",
       "<table border=\"1\" class=\"dataframe\">\n",
       "  <thead>\n",
       "    <tr style=\"text-align: right;\">\n",
       "      <th></th>\n",
       "      <th>Name</th>\n",
       "      <th>Email</th>\n",
       "      <th>Mailing_Address</th>\n",
       "      <th>Balance</th>\n",
       "      <th>Notes</th>\n",
       "    </tr>\n",
       "  </thead>\n",
       "  <tbody>\n",
       "    <tr>\n",
       "      <td>1</td>\n",
       "      <td>John Smith</td>\n",
       "      <td>j.smith@thesmiths.com</td>\n",
       "      <td>123 mulberry lane</td>\n",
       "      <td>0.0</td>\n",
       "      <td>Called technical support, issue not yet re...</td>\n",
       "    </tr>\n",
       "    <tr>\n",
       "      <td>2</td>\n",
       "      <td>Jane Smith</td>\n",
       "      <td>jane_smith@thesmiths.com</td>\n",
       "      <td>Null</td>\n",
       "      <td>25.00</td>\n",
       "      <td>Null                       ...</td>\n",
       "    </tr>\n",
       "    <tr>\n",
       "      <td>3</td>\n",
       "      <td>Adam Enbar</td>\n",
       "      <td>adam@theflatironschool.com</td>\n",
       "      <td>11 Broadway</td>\n",
       "      <td>14.99</td>\n",
       "      <td>Set up on recurring billing cycle  ...</td>\n",
       "    </tr>\n",
       "    <tr>\n",
       "      <td>4</td>\n",
       "      <td>Avi Flombaum</td>\n",
       "      <td>avi@theflatironschool.com</td>\n",
       "      <td>11 Broadway</td>\n",
       "      <td>0.0</td>\n",
       "      <td>Null                       ...</td>\n",
       "    </tr>\n",
       "    <tr>\n",
       "      <td>5</td>\n",
       "      <td>Steven S.</td>\n",
       "      <td>steven.s@gmail.net</td>\n",
       "      <td>Null</td>\n",
       "      <td>-20.23</td>\n",
       "      <td>Refunded for overpayment due to price match g...</td>\n",
       "    </tr>\n",
       "  </tbody>\n",
       "</table>\n",
       "</div>"
      ],
      "text/plain": [
       "             Name                         Email          Mailing_Address  \\\n",
       "1    John Smith        j.smith@thesmiths.com          123 mulberry lane    \n",
       "2    Jane Smith      jane_smith@thesmiths.com             Null             \n",
       "3    Adam Enbar     adam@theflatironschool.com           11 Broadway       \n",
       "4   Avi Flombaum     avi@theflatironschool.com           11 Broadway       \n",
       "5     Steven S.         steven.s@gmail.net                Null             \n",
       "\n",
       "     Balance                                              Notes  \n",
       "1     0.0         Called technical support, issue not yet re...  \n",
       "2    25.00                       Null                       ...  \n",
       "3    14.99               Set up on recurring billing cycle  ...  \n",
       "4     0.0                        Null                       ...  \n",
       "5    -20.23    Refunded for overpayment due to price match g...  "
      ]
     },
     "execution_count": 15,
     "metadata": {},
     "output_type": "execute_result"
    }
   ],
   "source": [
    "df.drop(0,inplace=True)\n",
    "df"
   ]
  },
  {
   "cell_type": "code",
   "execution_count": 16,
   "metadata": {},
   "outputs": [
    {
     "data": {
      "text/plain": [
       "'  John Smith  '"
      ]
     },
     "execution_count": 16,
     "metadata": {},
     "output_type": "execute_result"
    }
   ],
   "source": [
    "df['Name'].iloc[0]"
   ]
  },
  {
   "cell_type": "code",
   "execution_count": 17,
   "metadata": {},
   "outputs": [
    {
     "data": {
      "text/plain": [
       "'John Smith'"
      ]
     },
     "execution_count": 17,
     "metadata": {},
     "output_type": "execute_result"
    }
   ],
   "source": [
    "df['Name'].iloc[0].strip()"
   ]
  },
  {
   "cell_type": "code",
   "execution_count": 18,
   "metadata": {},
   "outputs": [
    {
     "data": {
      "text/html": [
       "<div>\n",
       "<style scoped>\n",
       "    .dataframe tbody tr th:only-of-type {\n",
       "        vertical-align: middle;\n",
       "    }\n",
       "\n",
       "    .dataframe tbody tr th {\n",
       "        vertical-align: top;\n",
       "    }\n",
       "\n",
       "    .dataframe thead th {\n",
       "        text-align: right;\n",
       "    }\n",
       "</style>\n",
       "<table border=\"1\" class=\"dataframe\">\n",
       "  <thead>\n",
       "    <tr style=\"text-align: right;\">\n",
       "      <th></th>\n",
       "      <th>Name</th>\n",
       "      <th>Email</th>\n",
       "      <th>Mailing_Address</th>\n",
       "      <th>Balance</th>\n",
       "      <th>Notes</th>\n",
       "    </tr>\n",
       "  </thead>\n",
       "  <tbody>\n",
       "    <tr>\n",
       "      <td>1</td>\n",
       "      <td>John Smith</td>\n",
       "      <td>j.smith@thesmiths.com</td>\n",
       "      <td>123 mulberry lane</td>\n",
       "      <td>0.0</td>\n",
       "      <td>Called technical support, issue not yet resolved</td>\n",
       "    </tr>\n",
       "    <tr>\n",
       "      <td>2</td>\n",
       "      <td>Jane Smith</td>\n",
       "      <td>jane_smith@thesmiths.com</td>\n",
       "      <td>Null</td>\n",
       "      <td>25.00</td>\n",
       "      <td>Null</td>\n",
       "    </tr>\n",
       "    <tr>\n",
       "      <td>3</td>\n",
       "      <td>Adam Enbar</td>\n",
       "      <td>adam@theflatironschool.com</td>\n",
       "      <td>11 Broadway</td>\n",
       "      <td>14.99</td>\n",
       "      <td>Set up on recurring billing cycle</td>\n",
       "    </tr>\n",
       "    <tr>\n",
       "      <td>4</td>\n",
       "      <td>Avi Flombaum</td>\n",
       "      <td>avi@theflatironschool.com</td>\n",
       "      <td>11 Broadway</td>\n",
       "      <td>0.0</td>\n",
       "      <td>Null</td>\n",
       "    </tr>\n",
       "    <tr>\n",
       "      <td>5</td>\n",
       "      <td>Steven S.</td>\n",
       "      <td>steven.s@gmail.net</td>\n",
       "      <td>Null</td>\n",
       "      <td>-20.23</td>\n",
       "      <td>Refunded for overpayment due to price match gu...</td>\n",
       "    </tr>\n",
       "  </tbody>\n",
       "</table>\n",
       "</div>"
      ],
      "text/plain": [
       "           Name                       Email    Mailing_Address Balance  \\\n",
       "1    John Smith       j.smith@thesmiths.com  123 mulberry lane     0.0   \n",
       "2    Jane Smith    jane_smith@thesmiths.com               Null   25.00   \n",
       "3    Adam Enbar  adam@theflatironschool.com        11 Broadway   14.99   \n",
       "4  Avi Flombaum   avi@theflatironschool.com        11 Broadway     0.0   \n",
       "5     Steven S.          steven.s@gmail.net               Null  -20.23   \n",
       "\n",
       "                                               Notes  \n",
       "1   Called technical support, issue not yet resolved  \n",
       "2                                               Null  \n",
       "3                  Set up on recurring billing cycle  \n",
       "4                                               Null  \n",
       "5  Refunded for overpayment due to price match gu...  "
      ]
     },
     "execution_count": 18,
     "metadata": {},
     "output_type": "execute_result"
    }
   ],
   "source": [
    "for col in df.columns:\n",
    "    df[col] = df[col].map(lambda x: x.strip())\n",
    "df"
   ]
  },
  {
   "cell_type": "code",
   "execution_count": 19,
   "metadata": {},
   "outputs": [],
   "source": [
    "df['Balance']=df['Balance'].astype(float)"
   ]
  },
  {
   "cell_type": "code",
   "execution_count": 20,
   "metadata": {},
   "outputs": [
    {
     "data": {
      "text/plain": [
       "[{'Name': 'John Smith',\n",
       "  'Email': 'j.smith@thesmiths.com',\n",
       "  'Mailing_Address': '123 mulberry lane',\n",
       "  'Balance': 0.0,\n",
       "  'Notes': 'Called technical support, issue not yet resolved'},\n",
       " {'Name': 'Jane Smith',\n",
       "  'Email': 'jane_smith@thesmiths.com',\n",
       "  'Mailing_Address': 'Null',\n",
       "  'Balance': 25.0,\n",
       "  'Notes': 'Null'},\n",
       " {'Name': 'Adam Enbar',\n",
       "  'Email': 'adam@theflatironschool.com',\n",
       "  'Mailing_Address': '11 Broadway',\n",
       "  'Balance': 14.99,\n",
       "  'Notes': 'Set up on recurring billing cycle'},\n",
       " {'Name': 'Avi Flombaum',\n",
       "  'Email': 'avi@theflatironschool.com',\n",
       "  'Mailing_Address': '11 Broadway',\n",
       "  'Balance': 0.0,\n",
       "  'Notes': 'Null'},\n",
       " {'Name': 'Steven S.',\n",
       "  'Email': 'steven.s@gmail.net',\n",
       "  'Mailing_Address': 'Null',\n",
       "  'Balance': -20.23,\n",
       "  'Notes': 'Refunded for overpayment due to price match guarantee'}]"
      ]
     },
     "execution_count": 20,
     "metadata": {},
     "output_type": "execute_result"
    }
   ],
   "source": [
    "records = df.to_dict('records')\n",
    "records"
   ]
  },
  {
   "cell_type": "code",
   "execution_count": null,
   "metadata": {},
   "outputs": [],
   "source": []
  },
  {
   "cell_type": "code",
   "execution_count": 21,
   "metadata": {},
   "outputs": [
    {
     "data": {
      "text/plain": [
       "['Name', 'Email', 'Mailing_Address', 'Balance', 'Notes']"
      ]
     },
     "execution_count": 21,
     "metadata": {},
     "output_type": "execute_result"
    }
   ],
   "source": [
    "list(records[0].keys())"
   ]
  },
  {
   "cell_type": "code",
   "execution_count": 22,
   "metadata": {},
   "outputs": [],
   "source": [
    "\n",
    "# customer_1 = None\n",
    "# customer_2 = None\n",
    "# customer_3 = None\n",
    "# customer_4 = None\n",
    "# customer_5 = None\n",
    "\n",
    "# all_records = None\n",
    "\n",
    "insertion_results = collection.insert_many(records)\n"
   ]
  },
  {
   "cell_type": "markdown",
   "metadata": {},
   "source": [
    "Now, access the appropriate attribute from the results object returned from the insertion to see the unique IDs for each record inserted, so that we can confirm each were inserted correctly. "
   ]
  },
  {
   "cell_type": "code",
   "execution_count": 23,
   "metadata": {},
   "outputs": [
    {
     "data": {
      "text/plain": [
       "[ObjectId('5ebc5d8e6457b8a3fe3c83fc'),\n",
       " ObjectId('5ebc5d8e6457b8a3fe3c83fd'),\n",
       " ObjectId('5ebc5d8e6457b8a3fe3c83fe'),\n",
       " ObjectId('5ebc5d8e6457b8a3fe3c83ff'),\n",
       " ObjectId('5ebc5d8e6457b8a3fe3c8400')]"
      ]
     },
     "execution_count": 23,
     "metadata": {},
     "output_type": "execute_result"
    }
   ],
   "source": [
    "insertion_results.inserted_ids"
   ]
  },
  {
   "cell_type": "code",
   "execution_count": null,
   "metadata": {},
   "outputs": [],
   "source": []
  },
  {
   "cell_type": "markdown",
   "metadata": {},
   "source": [
    "## Querying and Filtering\n",
    "\n",
    "In the cell below, return the name and email address for every customer record. Then, print every item from the query to show that it worked correctly. "
   ]
  },
  {
   "cell_type": "code",
   "execution_count": 24,
   "metadata": {},
   "outputs": [
    {
     "name": "stdout",
     "output_type": "stream",
     "text": [
      "{'_id': ObjectId('5ebc5d8e6457b8a3fe3c83fc'), 'Name': 'John Smith', 'Email': 'j.smith@thesmiths.com', 'Mailing_Address': '123 mulberry lane', 'Balance': 0.0, 'Notes': 'Called technical support, issue not yet resolved'}\n",
      "{'_id': ObjectId('5ebc5d8e6457b8a3fe3c83fd'), 'Name': 'Jane Smith', 'Email': 'jane_smith@thesmiths.com', 'Mailing_Address': 'Null', 'Balance': 25.0, 'Notes': 'Null'}\n",
      "{'_id': ObjectId('5ebc5d8e6457b8a3fe3c83fe'), 'Name': 'Adam Enbar', 'Email': 'adam@theflatironschool.com', 'Mailing_Address': '11 Broadway', 'Balance': 14.99, 'Notes': 'Set up on recurring billing cycle'}\n",
      "{'_id': ObjectId('5ebc5d8e6457b8a3fe3c83ff'), 'Name': 'Avi Flombaum', 'Email': 'avi@theflatironschool.com', 'Mailing_Address': '11 Broadway', 'Balance': 0.0, 'Notes': 'Null'}\n",
      "{'_id': ObjectId('5ebc5d8e6457b8a3fe3c8400'), 'Name': 'Steven S.', 'Email': 'steven.s@gmail.net', 'Mailing_Address': 'Null', 'Balance': -20.23, 'Notes': 'Refunded for overpayment due to price match guarantee'}\n"
     ]
    },
    {
     "data": {
      "text/plain": [
       "[None, None, None, None, None]"
      ]
     },
     "execution_count": 24,
     "metadata": {},
     "output_type": "execute_result"
    }
   ],
   "source": [
    "query_1 = collection.find({})\n",
    "[print(x) for x in query_1]"
   ]
  },
  {
   "cell_type": "markdown",
   "metadata": {},
   "source": [
    "#### Removing By ID"
   ]
  },
  {
   "cell_type": "code",
   "execution_count": 25,
   "metadata": {},
   "outputs": [
    {
     "data": {
      "text/plain": [
       "[{'_id': ObjectId('5ebc5d8e6457b8a3fe3c83fc'), 'Name': 'John Smith'}]"
      ]
     },
     "execution_count": 25,
     "metadata": {},
     "output_type": "execute_result"
    }
   ],
   "source": [
    "## https://api.mongodb.com/python/current/api/bson/objectid.html\n",
    "cur = collection.find({'Name':'John Smith'},{\"_id\":1,\"Name\":1})\n",
    "list(cur)"
   ]
  },
  {
   "cell_type": "code",
   "execution_count": 26,
   "metadata": {},
   "outputs": [
    {
     "data": {
      "text/plain": [
       "<pymongo.results.DeleteResult at 0x11a7e7e08>"
      ]
     },
     "execution_count": 26,
     "metadata": {},
     "output_type": "execute_result"
    }
   ],
   "source": [
    "from bson import ObjectId\n",
    "collection.delete_one({\"_id\":ObjectId('5ebc5a5381decc05df4dc872')})"
   ]
  },
  {
   "cell_type": "code",
   "execution_count": 27,
   "metadata": {},
   "outputs": [
    {
     "data": {
      "text/plain": [
       "[{'_id': ObjectId('5ebc5d8e6457b8a3fe3c83fc')}]"
      ]
     },
     "execution_count": 27,
     "metadata": {},
     "output_type": "execute_result"
    }
   ],
   "source": [
    "cur = collection.find({'Name':'John Smith'},{\"_id\":1})\n",
    "list(cur)"
   ]
  },
  {
   "cell_type": "markdown",
   "metadata": {},
   "source": [
    "Great! Now, let's write a query that gets an individual record based on a stored key-value pair a document contains. \n",
    "\n",
    "In the cell below, write a query to get the record for `'John Smith'` by using his name. Then, print the results of the query to demonstrate that it worked correctly.  "
   ]
  },
  {
   "cell_type": "code",
   "execution_count": 28,
   "metadata": {},
   "outputs": [
    {
     "name": "stdout",
     "output_type": "stream",
     "text": [
      "{'_id': ObjectId('5ebc5d8e6457b8a3fe3c83fc'), 'Name': 'John Smith', 'Email': 'j.smith@thesmiths.com', 'Mailing_Address': '123 mulberry lane', 'Balance': 0.0, 'Notes': 'Called technical support, issue not yet resolved'}\n"
     ]
    },
    {
     "data": {
      "text/plain": [
       "[None]"
      ]
     },
     "execution_count": 28,
     "metadata": {},
     "output_type": "execute_result"
    }
   ],
   "source": [
    "query_2 = collection.find({'Name':'John Smith'})\n",
    "[print(x) for x in query_2]"
   ]
  },
  {
   "cell_type": "markdown",
   "metadata": {},
   "source": [
    "Great! Now, write a query to get the names, email addresses, and balances for customers that have a balance greater than 0. Use a modifier to do this. \n",
    "\n",
    "**_HINT_**: In the query below, you'll be passing in two separate dictionaries. The first one defines the logic of the query, while the second tells which fields we want returned. "
   ]
  },
  {
   "cell_type": "code",
   "execution_count": 29,
   "metadata": {},
   "outputs": [
    {
     "name": "stdout",
     "output_type": "stream",
     "text": [
      "{'_id': ObjectId('5ebc5d8e6457b8a3fe3c83fd'), 'Name': 'Jane Smith', 'Email': 'jane_smith@thesmiths.com', 'Balance': 25.0}\n",
      "{'_id': ObjectId('5ebc5d8e6457b8a3fe3c83fe'), 'Name': 'Adam Enbar', 'Email': 'adam@theflatironschool.com', 'Balance': 14.99}\n"
     ]
    },
    {
     "data": {
      "text/plain": [
       "[None, None]"
      ]
     },
     "execution_count": 29,
     "metadata": {},
     "output_type": "execute_result"
    }
   ],
   "source": [
    "query_3 = collection.find({'Balance':{'$gt':0.0}},{'Name':1,'Email':1,'Balance':1})\n",
    "[print(x) for x in query_3]"
   ]
  },
  {
   "cell_type": "markdown",
   "metadata": {},
   "source": [
    "## Updating a Record\n",
    "\n",
    "Now, let's update some records. In the cell below. set the mailing address for `'John Smith'` to `'367 55th St., apt 2A'`."
   ]
  },
  {
   "cell_type": "code",
   "execution_count": 30,
   "metadata": {},
   "outputs": [
    {
     "data": {
      "text/plain": [
       "<pymongo.results.UpdateResult at 0x11a8282c8>"
      ]
     },
     "execution_count": 30,
     "metadata": {},
     "output_type": "execute_result"
    }
   ],
   "source": [
    "record_to_update_1 = {'Name':'John Smith'}\n",
    "update_1 = {'$set':{'Mailing Address':'367 55th St., apt 2A'}}\n",
    "collection.update_one(record_to_update_1,update_1)\n"
   ]
  },
  {
   "cell_type": "markdown",
   "metadata": {},
   "source": [
    "Now, write a query to check that the update worked for this document in the cell below:  "
   ]
  },
  {
   "cell_type": "code",
   "execution_count": 31,
   "metadata": {},
   "outputs": [
    {
     "name": "stdout",
     "output_type": "stream",
     "text": [
      "{'_id': ObjectId('5ebc5d8e6457b8a3fe3c83fc'), 'Name': 'John Smith', 'Email': 'j.smith@thesmiths.com', 'Mailing_Address': '123 mulberry lane', 'Balance': 0.0, 'Notes': 'Called technical support, issue not yet resolved', 'Mailing Address': '367 55th St., apt 2A'}\n"
     ]
    },
    {
     "data": {
      "text/plain": [
       "[None]"
      ]
     },
     "execution_count": 31,
     "metadata": {},
     "output_type": "execute_result"
    }
   ],
   "source": [
    "query_4 = collection.find(record_to_update_1)\n",
    "[print(x) for x in query_4]"
   ]
  },
  {
   "cell_type": "markdown",
   "metadata": {},
   "source": [
    "Now, let's assume that we want to add birthdays for each customer record. Consider the following table:\n",
    "\n",
    "|     Name     |  Birthday  |\n",
    "|:------------:|:----------:|\n",
    "|  John Smith  | 02/20/1986 |\n",
    "|  Jane Smith  | 07/07/1983 |\n",
    "|  Adam Enbar  | 12/02/1982 |\n",
    "| Avi Flombaum | 04/17/1983 |\n",
    "|   Steven S.  | 08/30/1991 |\n",
    "\n",
    "We want to add birthdays for each person, but we want to do so in a way where we don't have to do the same repetitive task over and over again. This seems like a good opportunity to write a function to handle some of the logic for us!\n",
    "\n",
    "In the cell below:\n",
    "\n",
    "* Store the names in the `names_list` variable as a list.\n",
    "* Store the birthdays in the `birthdays_list` variable as a list.\n",
    "* Write a function that takes in the two different lists, and updates each record by adding in the appropriate key-value pair containing that user's birthday.\n",
    "\n",
    "**_Hint:_** There are several ways that you could write this, depending on whether you want to use the `update_one()` method or the `update_many()` method. See if you can figure out both approaches!"
   ]
  },
  {
   "cell_type": "code",
   "execution_count": 32,
   "metadata": {},
   "outputs": [],
   "source": [
    "names_list = list(df['Name'].values)\n",
    "birthday_list = ['02/20/1986' , '07/07/1983' , '12/02/1982' , '04/17/1983' , '08/30/1991' ]"
   ]
  },
  {
   "cell_type": "code",
   "execution_count": 33,
   "metadata": {},
   "outputs": [],
   "source": [
    "# names_list = None\n",
    "# birthdays_list = None\n",
    "\n",
    "def update_birthdays(names, birthdays):\n",
    "    data= list(zip(names, birthdays))\n",
    "    for (name,birthday) in data:\n",
    "        query = {'Name':name}\n",
    "        update = {'$set':{'Birthday':birthday}}\n",
    "        collection.update_many(query,update)\n",
    "        \n",
    "update_birthdays(names_list, birthday_list)"
   ]
  },
  {
   "cell_type": "markdown",
   "metadata": {},
   "source": [
    "Now, write a query to check your work and see that the birthdays were added correctly."
   ]
  },
  {
   "cell_type": "code",
   "execution_count": 34,
   "metadata": {},
   "outputs": [
    {
     "name": "stdout",
     "output_type": "stream",
     "text": [
      "{'_id': ObjectId('5ebc5d8e6457b8a3fe3c83fc'), 'Name': 'John Smith', 'Email': 'j.smith@thesmiths.com', 'Mailing_Address': '123 mulberry lane', 'Balance': 0.0, 'Notes': 'Called technical support, issue not yet resolved', 'Mailing Address': '367 55th St., apt 2A', 'Birthday': '02/20/1986'}\n",
      "\n",
      "\n",
      "\n",
      "\n",
      "{'_id': ObjectId('5ebc5d8e6457b8a3fe3c83fd'), 'Name': 'Jane Smith', 'Email': 'jane_smith@thesmiths.com', 'Mailing_Address': 'Null', 'Balance': 25.0, 'Notes': 'Null', 'Birthday': '07/07/1983'}\n",
      "\n",
      "\n",
      "\n",
      "\n",
      "{'_id': ObjectId('5ebc5d8e6457b8a3fe3c83fe'), 'Name': 'Adam Enbar', 'Email': 'adam@theflatironschool.com', 'Mailing_Address': '11 Broadway', 'Balance': 14.99, 'Notes': 'Set up on recurring billing cycle', 'Birthday': '12/02/1982'}\n",
      "\n",
      "\n",
      "\n",
      "\n",
      "{'_id': ObjectId('5ebc5d8e6457b8a3fe3c83ff'), 'Name': 'Avi Flombaum', 'Email': 'avi@theflatironschool.com', 'Mailing_Address': '11 Broadway', 'Balance': 0.0, 'Notes': 'Null', 'Birthday': '04/17/1983'}\n",
      "\n",
      "\n",
      "\n",
      "\n",
      "{'_id': ObjectId('5ebc5d8e6457b8a3fe3c8400'), 'Name': 'Steven S.', 'Email': 'steven.s@gmail.net', 'Mailing_Address': 'Null', 'Balance': -20.23, 'Notes': 'Refunded for overpayment due to price match guarantee', 'Birthday': '08/30/1991'}\n",
      "\n",
      "\n",
      "\n",
      "\n"
     ]
    }
   ],
   "source": [
    "for name in names_list:\n",
    "    res = collection.find({'Name':name})\n",
    "    [print(r) for r in res]\n",
    "    print('\\n\\n\\n')"
   ]
  },
  {
   "cell_type": "markdown",
   "metadata": {},
   "source": [
    "Great! It looks like the birthdays have been successfully added to every record correctly!\n",
    "\n",
    "## Summary\n",
    "\n",
    "In this lesson, we got some hands-on practice working with MongoDB!"
   ]
  },
  {
   "cell_type": "code",
   "execution_count": null,
   "metadata": {},
   "outputs": [],
   "source": []
  }
 ],
 "metadata": {
  "kernelspec": {
   "display_name": "Python 3",
   "language": "python",
   "name": "python3"
  },
  "language_info": {
   "codemirror_mode": {
    "name": "ipython",
    "version": 3
   },
   "file_extension": ".py",
   "mimetype": "text/x-python",
   "name": "python",
   "nbconvert_exporter": "python",
   "pygments_lexer": "ipython3",
   "version": "3.6.9"
  },
  "toc": {
   "base_numbering": 1,
   "nav_menu": {},
   "number_sections": true,
   "sideBar": true,
   "skip_h1_title": false,
   "title_cell": "Table of Contents",
   "title_sidebar": "Contents",
   "toc_cell": false,
   "toc_position": {},
   "toc_section_display": true,
   "toc_window_display": true
  }
 },
 "nbformat": 4,
 "nbformat_minor": 2
}

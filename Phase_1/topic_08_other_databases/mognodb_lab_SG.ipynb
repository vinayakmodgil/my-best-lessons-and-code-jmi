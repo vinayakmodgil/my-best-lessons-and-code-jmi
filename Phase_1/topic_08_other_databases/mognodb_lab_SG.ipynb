{
 "cells": [
  {
   "cell_type": "markdown",
   "metadata": {},
   "source": [
    "# MongoDB - Lab\n",
    "\n",
    "## Introduction\n",
    "\n",
    "In this lesson, we'll get some hands-on experience with MongoDB!\n",
    "\n",
    "## Objectives\n",
    "You will be able to: \n",
    "\n",
    "- Create a MongoDB database   \n",
    "- Insert data into a MongoDB database   \n",
    "- Read data from a MongoDB database   \n",
    "- Update data in a MongoDB database   \n",
    "\n",
    "## Getting Started\n",
    "\n",
    "To begin this lab, make sure that you start up the mongoDB server in your terminal first! **You must do this lab locally on your computer, not in Learn.**\n",
    "\n",
    "\n",
    "## Connecting to the MongoDB Database\n",
    "\n",
    "In the cell below, import the appropriate library and connect to the mongoDB server. Create a new database called `'lab_db'`."
   ]
  },
  {
   "cell_type": "code",
   "execution_count": 1,
   "metadata": {},
   "outputs": [
    {
     "data": {
      "text/plain": [
       "['admin', 'config', 'example_database', 'lab_db', 'local', 'test']"
      ]
     },
     "execution_count": 1,
     "metadata": {},
     "output_type": "execute_result"
    }
   ],
   "source": [
    "import pymongo\n",
    "myclient = pymongo.MongoClient()\n",
    "myclient.list_database_names()"
   ]
  },
  {
   "cell_type": "markdown",
   "metadata": {},
   "source": [
    "## Creating a Collection\n",
    "\n",
    "Now, create a collection called `'lab_collection'` inside `'lab_db'`."
   ]
  },
  {
   "cell_type": "code",
   "execution_count": 2,
   "metadata": {},
   "outputs": [
    {
     "data": {
      "text/plain": [
       "Database(MongoClient(host=['localhost:27017'], document_class=dict, tz_aware=False, connect=True), 'lab_db')"
      ]
     },
     "execution_count": 2,
     "metadata": {},
     "output_type": "execute_result"
    }
   ],
   "source": [
    "mydb = myclient['lab_db']\n",
    "mydb"
   ]
  },
  {
   "cell_type": "code",
   "execution_count": 3,
   "metadata": {},
   "outputs": [
    {
     "data": {
      "text/plain": [
       "['lab_collection']"
      ]
     },
     "execution_count": 3,
     "metadata": {},
     "output_type": "execute_result"
    }
   ],
   "source": [
    "mydb.list_collection_names()"
   ]
  },
  {
   "cell_type": "code",
   "execution_count": 4,
   "metadata": {},
   "outputs": [
    {
     "data": {
      "text/plain": [
       "Collection(Database(MongoClient(host=['localhost:27017'], document_class=dict, tz_aware=False, connect=True), 'lab_db'), 'lab_collection')"
      ]
     },
     "execution_count": 4,
     "metadata": {},
     "output_type": "execute_result"
    }
   ],
   "source": [
    "mycollection = mydb['lab_collection']\n",
    "mycollection"
   ]
  },
  {
   "cell_type": "markdown",
   "metadata": {},
   "source": [
    "## Adding Some Data\n",
    "\n",
    "Now, we're going to add some example records into our database. In the cells below, create dictionary representations of the following customer records:\n",
    "\n",
    "\n",
    "|     Name     |            Email           |  Mailing_Address  | Balance |                         Notes                         |\n",
    "|:------------:|:--------------------------:|:-----------------:|:-------:|:-----------------------------------------------------:|\n",
    "|  John Smith  |    j.smith@thesmiths.com   | 123 mulberry lane |   0.0   |    Called technical support, issue not yet resolved   |\n",
    "|  Jane Smith  |  jane_smith@thesmiths.com  |         Null          |  25.00  |                   Null                                    |\n",
    "|  Adam Enbar  | adam@theflatironschool.com |    11 Broadway    |  14.99  |           Set up on recurring billing cycle           |\n",
    "| Avi Flombaum |  avi@theflatironschool.com |    11 Broadway    |   0.0   |                   Null                                    |\n",
    "|   Steven S.  |     steven.s@gmail.net     |         Null          |  -20.23 | Refunded for overpayment due to price match guarantee |\n",
    "\n",
    "\n",
    "Your first challenge is to take all of the data in the table above and create the corresponding documents and add then to our mongo database. Note that fields that contain 'Null' should not be included in the document (recall that since mongo is schema-less, each document can be different). \n",
    "\n",
    "Create the documents from the table listed above, and then use `insert_many()` to insert them into the collection."
   ]
  },
  {
   "cell_type": "code",
   "execution_count": 5,
   "metadata": {},
   "outputs": [
    {
     "data": {
      "text/html": [
       "<div>\n",
       "<style scoped>\n",
       "    .dataframe tbody tr th:only-of-type {\n",
       "        vertical-align: middle;\n",
       "    }\n",
       "\n",
       "    .dataframe tbody tr th {\n",
       "        vertical-align: top;\n",
       "    }\n",
       "\n",
       "    .dataframe thead th {\n",
       "        text-align: right;\n",
       "    }\n",
       "</style>\n",
       "<table border=\"1\" class=\"dataframe\">\n",
       "  <thead>\n",
       "    <tr style=\"text-align: right;\">\n",
       "      <th></th>\n",
       "      <th>Unnamed: 0</th>\n",
       "      <th>Name</th>\n",
       "      <th>Email</th>\n",
       "      <th>Mailing_Address</th>\n",
       "      <th>Balance</th>\n",
       "      <th>Notes</th>\n",
       "      <th>Unnamed: 6</th>\n",
       "    </tr>\n",
       "  </thead>\n",
       "  <tbody>\n",
       "    <tr>\n",
       "      <td>0</td>\n",
       "      <td>NaN</td>\n",
       "      <td>:------------:</td>\n",
       "      <td>:--------------------------:</td>\n",
       "      <td>:-----------------:</td>\n",
       "      <td>:-------:</td>\n",
       "      <td>:---------------------------------------------...</td>\n",
       "      <td>NaN</td>\n",
       "    </tr>\n",
       "    <tr>\n",
       "      <td>1</td>\n",
       "      <td>NaN</td>\n",
       "      <td>John Smith</td>\n",
       "      <td>j.smith@thesmiths.com</td>\n",
       "      <td>123 mulberry lane</td>\n",
       "      <td>0.0</td>\n",
       "      <td>Called technical support, issue not yet re...</td>\n",
       "      <td>NaN</td>\n",
       "    </tr>\n",
       "    <tr>\n",
       "      <td>2</td>\n",
       "      <td>NaN</td>\n",
       "      <td>Jane Smith</td>\n",
       "      <td>jane_smith@thesmiths.com</td>\n",
       "      <td>Null</td>\n",
       "      <td>25.00</td>\n",
       "      <td>Null                       ...</td>\n",
       "      <td>NaN</td>\n",
       "    </tr>\n",
       "    <tr>\n",
       "      <td>3</td>\n",
       "      <td>NaN</td>\n",
       "      <td>Adam Enbar</td>\n",
       "      <td>adam@theflatironschool.com</td>\n",
       "      <td>11 Broadway</td>\n",
       "      <td>14.99</td>\n",
       "      <td>Set up on recurring billing cycle  ...</td>\n",
       "      <td>NaN</td>\n",
       "    </tr>\n",
       "    <tr>\n",
       "      <td>4</td>\n",
       "      <td>NaN</td>\n",
       "      <td>Avi Flombaum</td>\n",
       "      <td>avi@theflatironschool.com</td>\n",
       "      <td>11 Broadway</td>\n",
       "      <td>0.0</td>\n",
       "      <td>Null                       ...</td>\n",
       "      <td>NaN</td>\n",
       "    </tr>\n",
       "    <tr>\n",
       "      <td>5</td>\n",
       "      <td>NaN</td>\n",
       "      <td>Steven S.</td>\n",
       "      <td>steven.s@gmail.net</td>\n",
       "      <td>Null</td>\n",
       "      <td>-20.23</td>\n",
       "      <td>Refunded for overpayment due to price match g...</td>\n",
       "      <td>NaN</td>\n",
       "    </tr>\n",
       "  </tbody>\n",
       "</table>\n",
       "</div>"
      ],
      "text/plain": [
       "   Unnamed: 0       Name                   Email             \\\n",
       "0         NaN  :------------:  :--------------------------:   \n",
       "1         NaN    John Smith        j.smith@thesmiths.com      \n",
       "2         NaN    Jane Smith      jane_smith@thesmiths.com     \n",
       "3         NaN    Adam Enbar     adam@theflatironschool.com    \n",
       "4         NaN   Avi Flombaum     avi@theflatironschool.com    \n",
       "5         NaN     Steven S.         steven.s@gmail.net        \n",
       "\n",
       "         Mailing_Address     Balance   \\\n",
       "0      :-----------------:  :-------:   \n",
       "1       123 mulberry lane      0.0      \n",
       "2           Null              25.00     \n",
       "3          11 Broadway        14.99     \n",
       "4          11 Broadway         0.0      \n",
       "5           Null              -20.23    \n",
       "\n",
       "                           Notes                           Unnamed: 6  \n",
       "0  :---------------------------------------------...              NaN  \n",
       "1      Called technical support, issue not yet re...              NaN  \n",
       "2                     Null                       ...              NaN  \n",
       "3             Set up on recurring billing cycle  ...              NaN  \n",
       "4                     Null                       ...              NaN  \n",
       "5   Refunded for overpayment due to price match g...              NaN  "
      ]
     },
     "execution_count": 5,
     "metadata": {},
     "output_type": "execute_result"
    }
   ],
   "source": [
    "import pandas as pd\n",
    "\n",
    "df = pd.read_clipboard(sep='|')\n",
    "df"
   ]
  },
  {
   "cell_type": "code",
   "execution_count": 6,
   "metadata": {},
   "outputs": [
    {
     "data": {
      "text/plain": [
       "Index(['     Name     ', '            Email           ', '  Mailing_Address  ',\n",
       "       ' Balance ', '                         Notes                         '],\n",
       "      dtype='object')"
      ]
     },
     "execution_count": 6,
     "metadata": {},
     "output_type": "execute_result"
    }
   ],
   "source": [
    "df.drop(columns=[col for col in df.columns if 'Unnamed' in col],inplace=True)\n",
    "df.columns"
   ]
  },
  {
   "cell_type": "code",
   "execution_count": 7,
   "metadata": {},
   "outputs": [
    {
     "data": {
      "text/html": [
       "<div>\n",
       "<style scoped>\n",
       "    .dataframe tbody tr th:only-of-type {\n",
       "        vertical-align: middle;\n",
       "    }\n",
       "\n",
       "    .dataframe tbody tr th {\n",
       "        vertical-align: top;\n",
       "    }\n",
       "\n",
       "    .dataframe thead th {\n",
       "        text-align: right;\n",
       "    }\n",
       "</style>\n",
       "<table border=\"1\" class=\"dataframe\">\n",
       "  <thead>\n",
       "    <tr style=\"text-align: right;\">\n",
       "      <th></th>\n",
       "      <th>Name</th>\n",
       "      <th>Email</th>\n",
       "      <th>Mailing_Address</th>\n",
       "      <th>Balance</th>\n",
       "      <th>Notes</th>\n",
       "    </tr>\n",
       "  </thead>\n",
       "  <tbody>\n",
       "    <tr>\n",
       "      <td>0</td>\n",
       "      <td>:------------:</td>\n",
       "      <td>:--------------------------:</td>\n",
       "      <td>:-----------------:</td>\n",
       "      <td>:-------:</td>\n",
       "      <td>:---------------------------------------------...</td>\n",
       "    </tr>\n",
       "    <tr>\n",
       "      <td>1</td>\n",
       "      <td>John Smith</td>\n",
       "      <td>j.smith@thesmiths.com</td>\n",
       "      <td>123 mulberry lane</td>\n",
       "      <td>0.0</td>\n",
       "      <td>Called technical support, issue not yet re...</td>\n",
       "    </tr>\n",
       "    <tr>\n",
       "      <td>2</td>\n",
       "      <td>Jane Smith</td>\n",
       "      <td>jane_smith@thesmiths.com</td>\n",
       "      <td>Null</td>\n",
       "      <td>25.00</td>\n",
       "      <td>Null                       ...</td>\n",
       "    </tr>\n",
       "    <tr>\n",
       "      <td>3</td>\n",
       "      <td>Adam Enbar</td>\n",
       "      <td>adam@theflatironschool.com</td>\n",
       "      <td>11 Broadway</td>\n",
       "      <td>14.99</td>\n",
       "      <td>Set up on recurring billing cycle  ...</td>\n",
       "    </tr>\n",
       "    <tr>\n",
       "      <td>4</td>\n",
       "      <td>Avi Flombaum</td>\n",
       "      <td>avi@theflatironschool.com</td>\n",
       "      <td>11 Broadway</td>\n",
       "      <td>0.0</td>\n",
       "      <td>Null                       ...</td>\n",
       "    </tr>\n",
       "    <tr>\n",
       "      <td>5</td>\n",
       "      <td>Steven S.</td>\n",
       "      <td>steven.s@gmail.net</td>\n",
       "      <td>Null</td>\n",
       "      <td>-20.23</td>\n",
       "      <td>Refunded for overpayment due to price match g...</td>\n",
       "    </tr>\n",
       "  </tbody>\n",
       "</table>\n",
       "</div>"
      ],
      "text/plain": [
       "             Name                         Email          Mailing_Address  \\\n",
       "0  :------------:  :--------------------------:      :-----------------:   \n",
       "1    John Smith        j.smith@thesmiths.com          123 mulberry lane    \n",
       "2    Jane Smith      jane_smith@thesmiths.com             Null             \n",
       "3    Adam Enbar     adam@theflatironschool.com           11 Broadway       \n",
       "4   Avi Flombaum     avi@theflatironschool.com           11 Broadway       \n",
       "5     Steven S.         steven.s@gmail.net                Null             \n",
       "\n",
       "     Balance                                              Notes  \n",
       "0  :-------:  :---------------------------------------------...  \n",
       "1     0.0         Called technical support, issue not yet re...  \n",
       "2    25.00                       Null                       ...  \n",
       "3    14.99               Set up on recurring billing cycle  ...  \n",
       "4     0.0                        Null                       ...  \n",
       "5    -20.23    Refunded for overpayment due to price match g...  "
      ]
     },
     "execution_count": 7,
     "metadata": {},
     "output_type": "execute_result"
    }
   ],
   "source": [
    "df.columns = [col.strip() for col in  df.columns]\n",
    "df"
   ]
  },
  {
   "cell_type": "code",
   "execution_count": 8,
   "metadata": {},
   "outputs": [
    {
     "data": {
      "text/html": [
       "<div>\n",
       "<style scoped>\n",
       "    .dataframe tbody tr th:only-of-type {\n",
       "        vertical-align: middle;\n",
       "    }\n",
       "\n",
       "    .dataframe tbody tr th {\n",
       "        vertical-align: top;\n",
       "    }\n",
       "\n",
       "    .dataframe thead th {\n",
       "        text-align: right;\n",
       "    }\n",
       "</style>\n",
       "<table border=\"1\" class=\"dataframe\">\n",
       "  <thead>\n",
       "    <tr style=\"text-align: right;\">\n",
       "      <th></th>\n",
       "      <th>Name</th>\n",
       "      <th>Email</th>\n",
       "      <th>Mailing_Address</th>\n",
       "      <th>Balance</th>\n",
       "      <th>Notes</th>\n",
       "    </tr>\n",
       "  </thead>\n",
       "  <tbody>\n",
       "    <tr>\n",
       "      <td>1</td>\n",
       "      <td>John Smith</td>\n",
       "      <td>j.smith@thesmiths.com</td>\n",
       "      <td>123 mulberry lane</td>\n",
       "      <td>0.0</td>\n",
       "      <td>Called technical support, issue not yet re...</td>\n",
       "    </tr>\n",
       "    <tr>\n",
       "      <td>2</td>\n",
       "      <td>Jane Smith</td>\n",
       "      <td>jane_smith@thesmiths.com</td>\n",
       "      <td>Null</td>\n",
       "      <td>25.00</td>\n",
       "      <td>Null                       ...</td>\n",
       "    </tr>\n",
       "    <tr>\n",
       "      <td>3</td>\n",
       "      <td>Adam Enbar</td>\n",
       "      <td>adam@theflatironschool.com</td>\n",
       "      <td>11 Broadway</td>\n",
       "      <td>14.99</td>\n",
       "      <td>Set up on recurring billing cycle  ...</td>\n",
       "    </tr>\n",
       "    <tr>\n",
       "      <td>4</td>\n",
       "      <td>Avi Flombaum</td>\n",
       "      <td>avi@theflatironschool.com</td>\n",
       "      <td>11 Broadway</td>\n",
       "      <td>0.0</td>\n",
       "      <td>Null                       ...</td>\n",
       "    </tr>\n",
       "    <tr>\n",
       "      <td>5</td>\n",
       "      <td>Steven S.</td>\n",
       "      <td>steven.s@gmail.net</td>\n",
       "      <td>Null</td>\n",
       "      <td>-20.23</td>\n",
       "      <td>Refunded for overpayment due to price match g...</td>\n",
       "    </tr>\n",
       "  </tbody>\n",
       "</table>\n",
       "</div>"
      ],
      "text/plain": [
       "             Name                         Email          Mailing_Address  \\\n",
       "1    John Smith        j.smith@thesmiths.com          123 mulberry lane    \n",
       "2    Jane Smith      jane_smith@thesmiths.com             Null             \n",
       "3    Adam Enbar     adam@theflatironschool.com           11 Broadway       \n",
       "4   Avi Flombaum     avi@theflatironschool.com           11 Broadway       \n",
       "5     Steven S.         steven.s@gmail.net                Null             \n",
       "\n",
       "     Balance                                              Notes  \n",
       "1     0.0         Called technical support, issue not yet re...  \n",
       "2    25.00                       Null                       ...  \n",
       "3    14.99               Set up on recurring billing cycle  ...  \n",
       "4     0.0                        Null                       ...  \n",
       "5    -20.23    Refunded for overpayment due to price match g...  "
      ]
     },
     "execution_count": 8,
     "metadata": {},
     "output_type": "execute_result"
    }
   ],
   "source": [
    "df.drop(0,inplace=True)\n",
    "df"
   ]
  },
  {
   "cell_type": "code",
   "execution_count": 9,
   "metadata": {},
   "outputs": [
    {
     "data": {
      "text/html": [
       "<div>\n",
       "<style scoped>\n",
       "    .dataframe tbody tr th:only-of-type {\n",
       "        vertical-align: middle;\n",
       "    }\n",
       "\n",
       "    .dataframe tbody tr th {\n",
       "        vertical-align: top;\n",
       "    }\n",
       "\n",
       "    .dataframe thead th {\n",
       "        text-align: right;\n",
       "    }\n",
       "</style>\n",
       "<table border=\"1\" class=\"dataframe\">\n",
       "  <thead>\n",
       "    <tr style=\"text-align: right;\">\n",
       "      <th></th>\n",
       "      <th>Name</th>\n",
       "      <th>Email</th>\n",
       "      <th>Mailing_Address</th>\n",
       "      <th>Balance</th>\n",
       "      <th>Notes</th>\n",
       "    </tr>\n",
       "  </thead>\n",
       "  <tbody>\n",
       "    <tr>\n",
       "      <td>1</td>\n",
       "      <td>John Smith</td>\n",
       "      <td>j.smith@thesmiths.com</td>\n",
       "      <td>123 mulberry lane</td>\n",
       "      <td>0.0</td>\n",
       "      <td>Called technical support, issue not yet resolved</td>\n",
       "    </tr>\n",
       "    <tr>\n",
       "      <td>2</td>\n",
       "      <td>Jane Smith</td>\n",
       "      <td>jane_smith@thesmiths.com</td>\n",
       "      <td>Null</td>\n",
       "      <td>25.00</td>\n",
       "      <td>Null</td>\n",
       "    </tr>\n",
       "    <tr>\n",
       "      <td>3</td>\n",
       "      <td>Adam Enbar</td>\n",
       "      <td>adam@theflatironschool.com</td>\n",
       "      <td>11 Broadway</td>\n",
       "      <td>14.99</td>\n",
       "      <td>Set up on recurring billing cycle</td>\n",
       "    </tr>\n",
       "    <tr>\n",
       "      <td>4</td>\n",
       "      <td>Avi Flombaum</td>\n",
       "      <td>avi@theflatironschool.com</td>\n",
       "      <td>11 Broadway</td>\n",
       "      <td>0.0</td>\n",
       "      <td>Null</td>\n",
       "    </tr>\n",
       "    <tr>\n",
       "      <td>5</td>\n",
       "      <td>Steven S.</td>\n",
       "      <td>steven.s@gmail.net</td>\n",
       "      <td>Null</td>\n",
       "      <td>-20.23</td>\n",
       "      <td>Refunded for overpayment due to price match gu...</td>\n",
       "    </tr>\n",
       "  </tbody>\n",
       "</table>\n",
       "</div>"
      ],
      "text/plain": [
       "           Name                       Email    Mailing_Address Balance  \\\n",
       "1    John Smith       j.smith@thesmiths.com  123 mulberry lane     0.0   \n",
       "2    Jane Smith    jane_smith@thesmiths.com               Null   25.00   \n",
       "3    Adam Enbar  adam@theflatironschool.com        11 Broadway   14.99   \n",
       "4  Avi Flombaum   avi@theflatironschool.com        11 Broadway     0.0   \n",
       "5     Steven S.          steven.s@gmail.net               Null  -20.23   \n",
       "\n",
       "                                               Notes  \n",
       "1   Called technical support, issue not yet resolved  \n",
       "2                                               Null  \n",
       "3                  Set up on recurring billing cycle  \n",
       "4                                               Null  \n",
       "5  Refunded for overpayment due to price match gu...  "
      ]
     },
     "execution_count": 9,
     "metadata": {},
     "output_type": "execute_result"
    }
   ],
   "source": [
    "# df['Name']\n",
    "for col in df.columns:\n",
    "    df[col] = df[col].map(lambda x: x.strip())\n",
    "df"
   ]
  },
  {
   "cell_type": "code",
   "execution_count": 10,
   "metadata": {},
   "outputs": [
    {
     "data": {
      "text/plain": [
       "Name                object\n",
       "Email               object\n",
       "Mailing_Address     object\n",
       "Balance            float64\n",
       "Notes               object\n",
       "dtype: object"
      ]
     },
     "execution_count": 10,
     "metadata": {},
     "output_type": "execute_result"
    }
   ],
   "source": [
    "df['Balance'] = df['Balance'].astype(float)\n",
    "df.dtypes"
   ]
  },
  {
   "cell_type": "code",
   "execution_count": 11,
   "metadata": {},
   "outputs": [
    {
     "data": {
      "text/plain": [
       "'John Smith'"
      ]
     },
     "execution_count": 11,
     "metadata": {},
     "output_type": "execute_result"
    }
   ],
   "source": [
    "df['Name'].iloc[0]"
   ]
  },
  {
   "cell_type": "code",
   "execution_count": 12,
   "metadata": {},
   "outputs": [
    {
     "data": {
      "text/plain": [
       "[{'Name': 'John Smith',\n",
       "  'Email': 'j.smith@thesmiths.com',\n",
       "  'Mailing_Address': '123 mulberry lane',\n",
       "  'Balance': 0.0,\n",
       "  'Notes': 'Called technical support, issue not yet resolved'},\n",
       " {'Name': 'Jane Smith',\n",
       "  'Email': 'jane_smith@thesmiths.com',\n",
       "  'Mailing_Address': 'Null',\n",
       "  'Balance': 25.0,\n",
       "  'Notes': 'Null'},\n",
       " {'Name': 'Adam Enbar',\n",
       "  'Email': 'adam@theflatironschool.com',\n",
       "  'Mailing_Address': '11 Broadway',\n",
       "  'Balance': 14.99,\n",
       "  'Notes': 'Set up on recurring billing cycle'},\n",
       " {'Name': 'Avi Flombaum',\n",
       "  'Email': 'avi@theflatironschool.com',\n",
       "  'Mailing_Address': '11 Broadway',\n",
       "  'Balance': 0.0,\n",
       "  'Notes': 'Null'},\n",
       " {'Name': 'Steven S.',\n",
       "  'Email': 'steven.s@gmail.net',\n",
       "  'Mailing_Address': 'Null',\n",
       "  'Balance': -20.23,\n",
       "  'Notes': 'Refunded for overpayment due to price match guarantee'}]"
      ]
     },
     "execution_count": 12,
     "metadata": {},
     "output_type": "execute_result"
    }
   ],
   "source": [
    "records = df.to_dict('records')\n",
    "records"
   ]
  },
  {
   "cell_type": "code",
   "execution_count": 13,
   "metadata": {},
   "outputs": [
    {
     "data": {
      "text/html": [
       "<div>\n",
       "<style scoped>\n",
       "    .dataframe tbody tr th:only-of-type {\n",
       "        vertical-align: middle;\n",
       "    }\n",
       "\n",
       "    .dataframe tbody tr th {\n",
       "        vertical-align: top;\n",
       "    }\n",
       "\n",
       "    .dataframe thead th {\n",
       "        text-align: right;\n",
       "    }\n",
       "</style>\n",
       "<table border=\"1\" class=\"dataframe\">\n",
       "  <thead>\n",
       "    <tr style=\"text-align: right;\">\n",
       "      <th></th>\n",
       "      <th>Name</th>\n",
       "      <th>Email</th>\n",
       "      <th>Mailing_Address</th>\n",
       "      <th>Balance</th>\n",
       "      <th>Notes</th>\n",
       "    </tr>\n",
       "  </thead>\n",
       "  <tbody>\n",
       "    <tr>\n",
       "      <td>0</td>\n",
       "      <td>John Smith</td>\n",
       "      <td>j.smith@thesmiths.com</td>\n",
       "      <td>123 mulberry lane</td>\n",
       "      <td>0.00</td>\n",
       "      <td>Called technical support, issue not yet resolved</td>\n",
       "    </tr>\n",
       "    <tr>\n",
       "      <td>1</td>\n",
       "      <td>Jane Smith</td>\n",
       "      <td>jane_smith@thesmiths.com</td>\n",
       "      <td>Null</td>\n",
       "      <td>25.00</td>\n",
       "      <td>Null</td>\n",
       "    </tr>\n",
       "    <tr>\n",
       "      <td>2</td>\n",
       "      <td>Adam Enbar</td>\n",
       "      <td>adam@theflatironschool.com</td>\n",
       "      <td>11 Broadway</td>\n",
       "      <td>14.99</td>\n",
       "      <td>Set up on recurring billing cycle</td>\n",
       "    </tr>\n",
       "    <tr>\n",
       "      <td>3</td>\n",
       "      <td>Avi Flombaum</td>\n",
       "      <td>avi@theflatironschool.com</td>\n",
       "      <td>11 Broadway</td>\n",
       "      <td>0.00</td>\n",
       "      <td>Null</td>\n",
       "    </tr>\n",
       "    <tr>\n",
       "      <td>4</td>\n",
       "      <td>Steven S.</td>\n",
       "      <td>steven.s@gmail.net</td>\n",
       "      <td>Null</td>\n",
       "      <td>-20.23</td>\n",
       "      <td>Refunded for overpayment due to price match gu...</td>\n",
       "    </tr>\n",
       "  </tbody>\n",
       "</table>\n",
       "</div>"
      ],
      "text/plain": [
       "           Name                       Email    Mailing_Address  Balance  \\\n",
       "0    John Smith       j.smith@thesmiths.com  123 mulberry lane     0.00   \n",
       "1    Jane Smith    jane_smith@thesmiths.com               Null    25.00   \n",
       "2    Adam Enbar  adam@theflatironschool.com        11 Broadway    14.99   \n",
       "3  Avi Flombaum   avi@theflatironschool.com        11 Broadway     0.00   \n",
       "4     Steven S.          steven.s@gmail.net               Null   -20.23   \n",
       "\n",
       "                                               Notes  \n",
       "0   Called technical support, issue not yet resolved  \n",
       "1                                               Null  \n",
       "2                  Set up on recurring billing cycle  \n",
       "3                                               Null  \n",
       "4  Refunded for overpayment due to price match gu...  "
      ]
     },
     "execution_count": 13,
     "metadata": {},
     "output_type": "execute_result"
    }
   ],
   "source": [
    "pd.DataFrame.from_records(records)"
   ]
  },
  {
   "cell_type": "code",
   "execution_count": 14,
   "metadata": {},
   "outputs": [
    {
     "data": {
      "text/plain": [
       "[ObjectId('5ebc87a3b25f6cbe7ff9ebf5'),\n",
       " ObjectId('5ebc87a3b25f6cbe7ff9ebf6'),\n",
       " ObjectId('5ebc87a3b25f6cbe7ff9ebf7'),\n",
       " ObjectId('5ebc87a3b25f6cbe7ff9ebf8'),\n",
       " ObjectId('5ebc87a3b25f6cbe7ff9ebf9')]"
      ]
     },
     "execution_count": 14,
     "metadata": {},
     "output_type": "execute_result"
    }
   ],
   "source": [
    "# customer_1 = None\n",
    "# customer_2 = None\n",
    "# customer_3 = None\n",
    "# customer_4 = None\n",
    "# customer_5 = None\n",
    "\n",
    "all_records = records\n",
    "\n",
    "insertion_results = mycollection.insert_many(all_records)\n",
    "insertion_results.inserted_ids"
   ]
  },
  {
   "cell_type": "markdown",
   "metadata": {},
   "source": [
    "Now, access the appropriate attribute from the results object returned from the insertion to see the unique IDs for each record inserted, so that we can confirm each were inserted correctly. "
   ]
  },
  {
   "cell_type": "code",
   "execution_count": null,
   "metadata": {},
   "outputs": [],
   "source": []
  },
  {
   "cell_type": "markdown",
   "metadata": {},
   "source": [
    "## Querying and Filtering\n",
    "\n",
    "In the cell below, return the name and email address for every customer record. Then, print every item from the query to show that it worked correctly. "
   ]
  },
  {
   "cell_type": "code",
   "execution_count": 15,
   "metadata": {},
   "outputs": [
    {
     "data": {
      "text/plain": [
       "<pymongo.cursor.Cursor at 0x11ccf2240>"
      ]
     },
     "execution_count": 15,
     "metadata": {},
     "output_type": "execute_result"
    }
   ],
   "source": [
    "query_1 = mycollection.find({},{'Name': 1,'Email':1})\n",
    "query_1"
   ]
  },
  {
   "cell_type": "code",
   "execution_count": 16,
   "metadata": {},
   "outputs": [
    {
     "data": {
      "text/plain": [
       "[{'_id': ObjectId('5ebc5d8e6457b8a3fe3c83fd'),\n",
       "  'Name': 'Jane Smith',\n",
       "  'Email': 'jane_smith@thesmiths.com'},\n",
       " {'_id': ObjectId('5ebc5d8e6457b8a3fe3c83fe'),\n",
       "  'Name': 'Adam Enbar',\n",
       "  'Email': 'adam@theflatironschool.com'},\n",
       " {'_id': ObjectId('5ebc5d8e6457b8a3fe3c83ff'),\n",
       "  'Name': 'Avi Flombaum',\n",
       "  'Email': 'avi@theflatironschool.com'},\n",
       " {'_id': ObjectId('5ebc5d8e6457b8a3fe3c8400'),\n",
       "  'Name': 'Steven S.',\n",
       "  'Email': 'steven.s@gmail.net'},\n",
       " {'_id': ObjectId('5ebc842bbff37c3979cae6e8'),\n",
       "  'Name': 'John Smith',\n",
       "  'Email': 'j.smith@thesmiths.com'},\n",
       " {'_id': ObjectId('5ebc842bbff37c3979cae6e9'),\n",
       "  'Name': 'Jane Smith',\n",
       "  'Email': 'jane_smith@thesmiths.com'},\n",
       " {'_id': ObjectId('5ebc842bbff37c3979cae6ea'),\n",
       "  'Name': 'Adam Enbar',\n",
       "  'Email': 'adam@theflatironschool.com'},\n",
       " {'_id': ObjectId('5ebc842bbff37c3979cae6eb'),\n",
       "  'Name': 'Avi Flombaum',\n",
       "  'Email': 'avi@theflatironschool.com'},\n",
       " {'_id': ObjectId('5ebc842bbff37c3979cae6ec'),\n",
       "  'Name': 'Steven S.',\n",
       "  'Email': 'steven.s@gmail.net'},\n",
       " {'_id': ObjectId('5ebc86c0bff37c3979cae6ed'),\n",
       "  'Name': 'John Smith',\n",
       "  'Email': 'j.smith@thesmiths.com'},\n",
       " {'_id': ObjectId('5ebc86c0bff37c3979cae6ee'),\n",
       "  'Name': 'Jane Smith',\n",
       "  'Email': 'jane_smith@thesmiths.com'},\n",
       " {'_id': ObjectId('5ebc86c0bff37c3979cae6ef'),\n",
       "  'Name': 'Adam Enbar',\n",
       "  'Email': 'adam@theflatironschool.com'},\n",
       " {'_id': ObjectId('5ebc86c0bff37c3979cae6f0'),\n",
       "  'Name': 'Avi Flombaum',\n",
       "  'Email': 'avi@theflatironschool.com'},\n",
       " {'_id': ObjectId('5ebc86c0bff37c3979cae6f1'),\n",
       "  'Name': 'Steven S.',\n",
       "  'Email': 'steven.s@gmail.net'},\n",
       " {'_id': ObjectId('5ebc86f0bff37c3979cae6f3'),\n",
       "  'Name': 'John Smith',\n",
       "  'Email': 'j.smith@thesmiths.com'},\n",
       " {'_id': ObjectId('5ebc86f0bff37c3979cae6f4'),\n",
       "  'Name': 'Jane Smith',\n",
       "  'Email': 'jane_smith@thesmiths.com'},\n",
       " {'_id': ObjectId('5ebc86f0bff37c3979cae6f5'),\n",
       "  'Name': 'Adam Enbar',\n",
       "  'Email': 'adam@theflatironschool.com'},\n",
       " {'_id': ObjectId('5ebc86f0bff37c3979cae6f6'),\n",
       "  'Name': 'Avi Flombaum',\n",
       "  'Email': 'avi@theflatironschool.com'},\n",
       " {'_id': ObjectId('5ebc86f0bff37c3979cae6f7'),\n",
       "  'Name': 'Steven S.',\n",
       "  'Email': 'steven.s@gmail.net'},\n",
       " {'_id': ObjectId('5ebc87a3b25f6cbe7ff9ebf5'),\n",
       "  'Name': 'John Smith',\n",
       "  'Email': 'j.smith@thesmiths.com'},\n",
       " {'_id': ObjectId('5ebc87a3b25f6cbe7ff9ebf6'),\n",
       "  'Name': 'Jane Smith',\n",
       "  'Email': 'jane_smith@thesmiths.com'},\n",
       " {'_id': ObjectId('5ebc87a3b25f6cbe7ff9ebf7'),\n",
       "  'Name': 'Adam Enbar',\n",
       "  'Email': 'adam@theflatironschool.com'},\n",
       " {'_id': ObjectId('5ebc87a3b25f6cbe7ff9ebf8'),\n",
       "  'Name': 'Avi Flombaum',\n",
       "  'Email': 'avi@theflatironschool.com'},\n",
       " {'_id': ObjectId('5ebc87a3b25f6cbe7ff9ebf9'),\n",
       "  'Name': 'Steven S.',\n",
       "  'Email': 'steven.s@gmail.net'}]"
      ]
     },
     "execution_count": 16,
     "metadata": {},
     "output_type": "execute_result"
    }
   ],
   "source": [
    "list(query_1)"
   ]
  },
  {
   "cell_type": "markdown",
   "metadata": {},
   "source": [
    "Great! Now, let's write a query that gets an individual record based on a stored key-value pair a document contains. \n",
    "\n",
    "In the cell below, write a query to get the record for `'John Smith'` by using his name. Then, print the results of the query to demonstrate that it worked correctly.  "
   ]
  },
  {
   "cell_type": "code",
   "execution_count": 17,
   "metadata": {},
   "outputs": [
    {
     "data": {
      "text/plain": [
       "[{'_id': ObjectId('5ebc842bbff37c3979cae6e8'),\n",
       "  'Name': 'John Smith',\n",
       "  'Email': 'j.smith@thesmiths.com',\n",
       "  'Mailing_Address': '123 mulberry lane',\n",
       "  'Balance': '0.0',\n",
       "  'Notes': 'Called technical support, issue not yet resolved',\n",
       "  'Mailing Address': '367 55th St., apt 2A'},\n",
       " {'_id': ObjectId('5ebc86c0bff37c3979cae6ed'),\n",
       "  'Name': 'John Smith',\n",
       "  'Email': 'j.smith@thesmiths.com',\n",
       "  'Mailing_Address': '123 mulberry lane',\n",
       "  'Balance': 0.0,\n",
       "  'Notes': 'Called technical support, issue not yet resolved',\n",
       "  'Mailing Address': '367 55th St., apt 2A'},\n",
       " {'_id': ObjectId('5ebc86f0bff37c3979cae6f3'),\n",
       "  'Name': 'John Smith',\n",
       "  'Email': 'j.smith@thesmiths.com',\n",
       "  'Mailing_Address': '123 mulberry lane',\n",
       "  'Balance': 0.0,\n",
       "  'Notes': 'Called technical support, issue not yet resolved',\n",
       "  'Mailing Address': '367 55th St., apt 2A'},\n",
       " {'_id': ObjectId('5ebc87a3b25f6cbe7ff9ebf5'),\n",
       "  'Name': 'John Smith',\n",
       "  'Email': 'j.smith@thesmiths.com',\n",
       "  'Mailing_Address': '123 mulberry lane',\n",
       "  'Balance': 0.0,\n",
       "  'Notes': 'Called technical support, issue not yet resolved'}]"
      ]
     },
     "execution_count": 17,
     "metadata": {},
     "output_type": "execute_result"
    }
   ],
   "source": [
    "query_2 = mycollection.find({'Name':'John Smith'})\n",
    "list(query_2)\n"
   ]
  },
  {
   "cell_type": "code",
   "execution_count": 18,
   "metadata": {},
   "outputs": [
    {
     "data": {
      "text/plain": [
       "0"
      ]
     },
     "execution_count": 18,
     "metadata": {},
     "output_type": "execute_result"
    }
   ],
   "source": [
    "from bson import ObjectId\n",
    "deleted = mycollection.delete_one({'_id':ObjectId('5ebc5d8e6457b8a3fe3c83fc')})\n",
    "deleted.deleted_count\n"
   ]
  },
  {
   "cell_type": "code",
   "execution_count": 19,
   "metadata": {},
   "outputs": [],
   "source": [
    "query_2 = mycollection.find({'Name':'John Smith'})\n",
    "res2 = list(query_2)\n"
   ]
  },
  {
   "cell_type": "code",
   "execution_count": 20,
   "metadata": {},
   "outputs": [
    {
     "data": {
      "text/plain": [
       "ObjectId('5ebc842bbff37c3979cae6e8')"
      ]
     },
     "execution_count": 20,
     "metadata": {},
     "output_type": "execute_result"
    }
   ],
   "source": [
    "res2[0]['_id']"
   ]
  },
  {
   "cell_type": "markdown",
   "metadata": {},
   "source": [
    "Great! Now, write a query to get the names, email addresses, and balances for customers that have a balance greater than 0. Use a modifier to do this. \n",
    "\n",
    "**_HINT_**: In the query below, you'll be passing in two separate dictionaries. The first one defines the logic of the query, while the second tells which fields we want returned. "
   ]
  },
  {
   "cell_type": "code",
   "execution_count": 21,
   "metadata": {},
   "outputs": [
    {
     "data": {
      "text/plain": [
       "[{'_id': ObjectId('5ebc5d8e6457b8a3fe3c83fd'),\n",
       "  'Name': 'Jane Smith',\n",
       "  'Email': 'jane_smith@thesmiths.com',\n",
       "  'Balance': 25.0},\n",
       " {'_id': ObjectId('5ebc5d8e6457b8a3fe3c83fe'),\n",
       "  'Name': 'Adam Enbar',\n",
       "  'Email': 'adam@theflatironschool.com',\n",
       "  'Balance': 14.99},\n",
       " {'_id': ObjectId('5ebc86c0bff37c3979cae6ee'),\n",
       "  'Name': 'Jane Smith',\n",
       "  'Email': 'jane_smith@thesmiths.com',\n",
       "  'Balance': 25.0},\n",
       " {'_id': ObjectId('5ebc86c0bff37c3979cae6ef'),\n",
       "  'Name': 'Adam Enbar',\n",
       "  'Email': 'adam@theflatironschool.com',\n",
       "  'Balance': 14.99},\n",
       " {'_id': ObjectId('5ebc86f0bff37c3979cae6f4'),\n",
       "  'Name': 'Jane Smith',\n",
       "  'Email': 'jane_smith@thesmiths.com',\n",
       "  'Balance': 25.0},\n",
       " {'_id': ObjectId('5ebc86f0bff37c3979cae6f5'),\n",
       "  'Name': 'Adam Enbar',\n",
       "  'Email': 'adam@theflatironschool.com',\n",
       "  'Balance': 14.99},\n",
       " {'_id': ObjectId('5ebc87a3b25f6cbe7ff9ebf6'),\n",
       "  'Name': 'Jane Smith',\n",
       "  'Email': 'jane_smith@thesmiths.com',\n",
       "  'Balance': 25.0},\n",
       " {'_id': ObjectId('5ebc87a3b25f6cbe7ff9ebf7'),\n",
       "  'Name': 'Adam Enbar',\n",
       "  'Email': 'adam@theflatironschool.com',\n",
       "  'Balance': 14.99}]"
      ]
     },
     "execution_count": 21,
     "metadata": {},
     "output_type": "execute_result"
    }
   ],
   "source": [
    "query_3 = mycollection.find({'Balance':{'$gt':0}},{'Name':1,'Email':1,'Balance':1})\n",
    "list(query_3)\n"
   ]
  },
  {
   "cell_type": "markdown",
   "metadata": {},
   "source": [
    "## Updating a Record\n",
    "\n",
    "Now, let's update some records. In the cell below. set the mailing address for `'John Smith'` to `'367 55th St., apt 2A'`."
   ]
  },
  {
   "cell_type": "code",
   "execution_count": 22,
   "metadata": {},
   "outputs": [
    {
     "data": {
      "text/plain": [
       "<pymongo.results.UpdateResult at 0x11c4f53c8>"
      ]
     },
     "execution_count": 22,
     "metadata": {},
     "output_type": "execute_result"
    }
   ],
   "source": [
    "record_to_update_1 = {'Name':'John Smith'}\n",
    "update_1 = {'$set':{'Mailing_Address':'367 55th St., apt 2A'}}\n",
    "mycollection.update_many(record_to_update_1,update_1)"
   ]
  },
  {
   "cell_type": "markdown",
   "metadata": {},
   "source": [
    "Now, write a query to check that the update worked for this document in the cell below:  "
   ]
  },
  {
   "cell_type": "code",
   "execution_count": 23,
   "metadata": {},
   "outputs": [
    {
     "data": {
      "text/plain": [
       "[{'_id': ObjectId('5ebc842bbff37c3979cae6e8'),\n",
       "  'Name': 'John Smith',\n",
       "  'Email': 'j.smith@thesmiths.com',\n",
       "  'Mailing_Address': '367 55th St., apt 2A',\n",
       "  'Balance': '0.0',\n",
       "  'Notes': 'Called technical support, issue not yet resolved',\n",
       "  'Mailing Address': '367 55th St., apt 2A'},\n",
       " {'_id': ObjectId('5ebc86c0bff37c3979cae6ed'),\n",
       "  'Name': 'John Smith',\n",
       "  'Email': 'j.smith@thesmiths.com',\n",
       "  'Mailing_Address': '367 55th St., apt 2A',\n",
       "  'Balance': 0.0,\n",
       "  'Notes': 'Called technical support, issue not yet resolved',\n",
       "  'Mailing Address': '367 55th St., apt 2A'},\n",
       " {'_id': ObjectId('5ebc86f0bff37c3979cae6f3'),\n",
       "  'Name': 'John Smith',\n",
       "  'Email': 'j.smith@thesmiths.com',\n",
       "  'Mailing_Address': '367 55th St., apt 2A',\n",
       "  'Balance': 0.0,\n",
       "  'Notes': 'Called technical support, issue not yet resolved',\n",
       "  'Mailing Address': '367 55th St., apt 2A'},\n",
       " {'_id': ObjectId('5ebc87a3b25f6cbe7ff9ebf5'),\n",
       "  'Name': 'John Smith',\n",
       "  'Email': 'j.smith@thesmiths.com',\n",
       "  'Mailing_Address': '367 55th St., apt 2A',\n",
       "  'Balance': 0.0,\n",
       "  'Notes': 'Called technical support, issue not yet resolved'}]"
      ]
     },
     "execution_count": 23,
     "metadata": {},
     "output_type": "execute_result"
    }
   ],
   "source": [
    "query_4 = mycollection.find(record_to_update_1)\n",
    "list(query_4)"
   ]
  },
  {
   "cell_type": "markdown",
   "metadata": {},
   "source": [
    "Now, let's assume that we want to add birthdays for each customer record. Consider the following table:\n",
    "\n",
    "|     Name     |  Birthday  |\n",
    "|:------------:|:----------:|\n",
    "|  John Smith  | 02/20/1986 |\n",
    "|  Jane Smith  | 07/07/1983 |\n",
    "|  Adam Enbar  | 12/02/1982 |\n",
    "| Avi Flombaum | 04/17/1983 |\n",
    "|   Steven S.  | 08/30/1991 |\n",
    "\n",
    "We want to add birthdays for each person, but we want to do so in a way where we don't have to do the same repetitive task over and over again. This seems like a good opportunity to write a function to handle some of the logic for us!\n",
    "\n",
    "In the cell below:\n",
    "\n",
    "* Store the names in the `names_list` variable as a list.\n",
    "* Store the birthdays in the `birthdays_list` variable as a list.\n",
    "* Write a function that takes in the two different lists, and updates each record by adding in the appropriate key-value pair containing that user's birthday.\n",
    "\n",
    "**_Hint:_** There are several ways that you could write this, depending on whether you want to use the `update_one()` method or the `update_many()` method. See if you can figure out both approaches!"
   ]
  },
  {
   "cell_type": "code",
   "execution_count": 27,
   "metadata": {},
   "outputs": [
    {
     "data": {
      "text/plain": [
       "('John Smith', '02/20/1986')"
      ]
     },
     "metadata": {},
     "output_type": "display_data"
    },
    {
     "data": {
      "text/plain": [
       "('Jane Smith', '07/07/1983')"
      ]
     },
     "metadata": {},
     "output_type": "display_data"
    },
    {
     "data": {
      "text/plain": [
       "('Adam Enbar', '12/02/1982')"
      ]
     },
     "metadata": {},
     "output_type": "display_data"
    },
    {
     "data": {
      "text/plain": [
       "('Avi Flombaum', '04/17/1983')"
      ]
     },
     "metadata": {},
     "output_type": "display_data"
    }
   ],
   "source": [
    "names_list =  ['John Smith','Jane Smith','Adam Enbar','Avi Flombaum']\n",
    "birthdays_list= ['02/20/1986','07/07/1983','12/02/1982','04/17/1983']\n",
    "data = list(zip(names_list,birthdays_list))\n",
    "for d in data:\n",
    "    display(d)"
   ]
  },
  {
   "cell_type": "code",
   "execution_count": 28,
   "metadata": {},
   "outputs": [],
   "source": [
    "def update_birthdays(names, birthdays):\n",
    "    data = list(zip(names,birthdays))\n",
    "    for (name,birthday) in data:\n",
    "        query = {\"Name\":name}\n",
    "        update  = {'$set':{'Birthday':birthday}}\n",
    "        mycollection.update_many(query,update)\n",
    "        \n",
    "update_birthdays(names_list, birthdays_list)"
   ]
  },
  {
   "cell_type": "code",
   "execution_count": 33,
   "metadata": {},
   "outputs": [
    {
     "name": "stdout",
     "output_type": "stream",
     "text": [
      "John Smith 02/20/1986\n",
      "Jane Smith 07/07/1983\n",
      "Adam Enbar 12/02/1982\n",
      "Avi Flombaum 04/17/1983\n"
     ]
    }
   ],
   "source": [
    "data = dict(zip(names_list,birthdays_list))\n",
    "for name,birthday in data.items():\n",
    "    print(name,birthday)"
   ]
  },
  {
   "cell_type": "markdown",
   "metadata": {},
   "source": [
    "Now, write a query to check your work and see that the birthdays were added correctly."
   ]
  },
  {
   "cell_type": "code",
   "execution_count": 30,
   "metadata": {
    "scrolled": false
   },
   "outputs": [
    {
     "data": {
      "text/plain": [
       "[{'_id': ObjectId('5ebc5d8e6457b8a3fe3c83fd'),\n",
       "  'Name': 'Jane Smith',\n",
       "  'Email': 'jane_smith@thesmiths.com',\n",
       "  'Mailing_Address': 'Null',\n",
       "  'Balance': 25.0,\n",
       "  'Notes': 'Null',\n",
       "  'Birthday': '07/07/1983'},\n",
       " {'_id': ObjectId('5ebc5d8e6457b8a3fe3c83fe'),\n",
       "  'Name': 'Adam Enbar',\n",
       "  'Email': 'adam@theflatironschool.com',\n",
       "  'Mailing_Address': '11 Broadway',\n",
       "  'Balance': 14.99,\n",
       "  'Notes': 'Set up on recurring billing cycle',\n",
       "  'Birthday': '12/02/1982'},\n",
       " {'_id': ObjectId('5ebc5d8e6457b8a3fe3c83ff'),\n",
       "  'Name': 'Avi Flombaum',\n",
       "  'Email': 'avi@theflatironschool.com',\n",
       "  'Mailing_Address': '11 Broadway',\n",
       "  'Balance': 0.0,\n",
       "  'Notes': 'Null',\n",
       "  'Birthday': '04/17/1983'},\n",
       " {'_id': ObjectId('5ebc5d8e6457b8a3fe3c8400'),\n",
       "  'Name': 'Steven S.',\n",
       "  'Email': 'steven.s@gmail.net',\n",
       "  'Mailing_Address': 'Null',\n",
       "  'Balance': -20.23,\n",
       "  'Notes': 'Refunded for overpayment due to price match guarantee',\n",
       "  'Birthday': '08/30/1991'},\n",
       " {'_id': ObjectId('5ebc842bbff37c3979cae6e8'),\n",
       "  'Name': 'John Smith',\n",
       "  'Email': 'j.smith@thesmiths.com',\n",
       "  'Mailing_Address': '367 55th St., apt 2A',\n",
       "  'Balance': '0.0',\n",
       "  'Notes': 'Called technical support, issue not yet resolved',\n",
       "  'Mailing Address': '367 55th St., apt 2A',\n",
       "  'Birthday': '02/20/1986'},\n",
       " {'_id': ObjectId('5ebc842bbff37c3979cae6e9'),\n",
       "  'Name': 'Jane Smith',\n",
       "  'Email': 'jane_smith@thesmiths.com',\n",
       "  'Mailing_Address': 'Null',\n",
       "  'Balance': '25.00',\n",
       "  'Notes': 'Null',\n",
       "  'Birthday': '07/07/1983'},\n",
       " {'_id': ObjectId('5ebc842bbff37c3979cae6ea'),\n",
       "  'Name': 'Adam Enbar',\n",
       "  'Email': 'adam@theflatironschool.com',\n",
       "  'Mailing_Address': '11 Broadway',\n",
       "  'Balance': '14.99',\n",
       "  'Notes': 'Set up on recurring billing cycle',\n",
       "  'Birthday': '12/02/1982'},\n",
       " {'_id': ObjectId('5ebc842bbff37c3979cae6eb'),\n",
       "  'Name': 'Avi Flombaum',\n",
       "  'Email': 'avi@theflatironschool.com',\n",
       "  'Mailing_Address': '11 Broadway',\n",
       "  'Balance': '0.0',\n",
       "  'Notes': 'Null',\n",
       "  'Birthday': '04/17/1983'},\n",
       " {'_id': ObjectId('5ebc842bbff37c3979cae6ec'),\n",
       "  'Name': 'Steven S.',\n",
       "  'Email': 'steven.s@gmail.net',\n",
       "  'Mailing_Address': 'Null',\n",
       "  'Balance': '-20.23',\n",
       "  'Notes': 'Refunded for overpayment due to price match guarantee'},\n",
       " {'_id': ObjectId('5ebc86c0bff37c3979cae6ed'),\n",
       "  'Name': 'John Smith',\n",
       "  'Email': 'j.smith@thesmiths.com',\n",
       "  'Mailing_Address': '367 55th St., apt 2A',\n",
       "  'Balance': 0.0,\n",
       "  'Notes': 'Called technical support, issue not yet resolved',\n",
       "  'Mailing Address': '367 55th St., apt 2A',\n",
       "  'Birthday': '02/20/1986'},\n",
       " {'_id': ObjectId('5ebc86c0bff37c3979cae6ee'),\n",
       "  'Name': 'Jane Smith',\n",
       "  'Email': 'jane_smith@thesmiths.com',\n",
       "  'Mailing_Address': 'Null',\n",
       "  'Balance': 25.0,\n",
       "  'Notes': 'Null',\n",
       "  'Birthday': '07/07/1983'},\n",
       " {'_id': ObjectId('5ebc86c0bff37c3979cae6ef'),\n",
       "  'Name': 'Adam Enbar',\n",
       "  'Email': 'adam@theflatironschool.com',\n",
       "  'Mailing_Address': '11 Broadway',\n",
       "  'Balance': 14.99,\n",
       "  'Notes': 'Set up on recurring billing cycle',\n",
       "  'Birthday': '12/02/1982'},\n",
       " {'_id': ObjectId('5ebc86c0bff37c3979cae6f0'),\n",
       "  'Name': 'Avi Flombaum',\n",
       "  'Email': 'avi@theflatironschool.com',\n",
       "  'Mailing_Address': '11 Broadway',\n",
       "  'Balance': 0.0,\n",
       "  'Notes': 'Null',\n",
       "  'Birthday': '04/17/1983'},\n",
       " {'_id': ObjectId('5ebc86c0bff37c3979cae6f1'),\n",
       "  'Name': 'Steven S.',\n",
       "  'Email': 'steven.s@gmail.net',\n",
       "  'Mailing_Address': 'Null',\n",
       "  'Balance': -20.23,\n",
       "  'Notes': 'Refunded for overpayment due to price match guarantee'},\n",
       " {'_id': ObjectId('5ebc86f0bff37c3979cae6f3'),\n",
       "  'Name': 'John Smith',\n",
       "  'Email': 'j.smith@thesmiths.com',\n",
       "  'Mailing_Address': '367 55th St., apt 2A',\n",
       "  'Balance': 0.0,\n",
       "  'Notes': 'Called technical support, issue not yet resolved',\n",
       "  'Mailing Address': '367 55th St., apt 2A',\n",
       "  'Birthday': '02/20/1986'},\n",
       " {'_id': ObjectId('5ebc86f0bff37c3979cae6f4'),\n",
       "  'Name': 'Jane Smith',\n",
       "  'Email': 'jane_smith@thesmiths.com',\n",
       "  'Mailing_Address': 'Null',\n",
       "  'Balance': 25.0,\n",
       "  'Notes': 'Null',\n",
       "  'Birthday': '07/07/1983'},\n",
       " {'_id': ObjectId('5ebc86f0bff37c3979cae6f5'),\n",
       "  'Name': 'Adam Enbar',\n",
       "  'Email': 'adam@theflatironschool.com',\n",
       "  'Mailing_Address': '11 Broadway',\n",
       "  'Balance': 14.99,\n",
       "  'Notes': 'Set up on recurring billing cycle',\n",
       "  'Birthday': '12/02/1982'},\n",
       " {'_id': ObjectId('5ebc86f0bff37c3979cae6f6'),\n",
       "  'Name': 'Avi Flombaum',\n",
       "  'Email': 'avi@theflatironschool.com',\n",
       "  'Mailing_Address': '11 Broadway',\n",
       "  'Balance': 0.0,\n",
       "  'Notes': 'Null',\n",
       "  'Birthday': '04/17/1983'},\n",
       " {'_id': ObjectId('5ebc86f0bff37c3979cae6f7'),\n",
       "  'Name': 'Steven S.',\n",
       "  'Email': 'steven.s@gmail.net',\n",
       "  'Mailing_Address': 'Null',\n",
       "  'Balance': -20.23,\n",
       "  'Notes': 'Refunded for overpayment due to price match guarantee'},\n",
       " {'_id': ObjectId('5ebc87a3b25f6cbe7ff9ebf5'),\n",
       "  'Name': 'John Smith',\n",
       "  'Email': 'j.smith@thesmiths.com',\n",
       "  'Mailing_Address': '367 55th St., apt 2A',\n",
       "  'Balance': 0.0,\n",
       "  'Notes': 'Called technical support, issue not yet resolved',\n",
       "  'Birthday': '02/20/1986'},\n",
       " {'_id': ObjectId('5ebc87a3b25f6cbe7ff9ebf6'),\n",
       "  'Name': 'Jane Smith',\n",
       "  'Email': 'jane_smith@thesmiths.com',\n",
       "  'Mailing_Address': 'Null',\n",
       "  'Balance': 25.0,\n",
       "  'Notes': 'Null',\n",
       "  'Birthday': '07/07/1983'},\n",
       " {'_id': ObjectId('5ebc87a3b25f6cbe7ff9ebf7'),\n",
       "  'Name': 'Adam Enbar',\n",
       "  'Email': 'adam@theflatironschool.com',\n",
       "  'Mailing_Address': '11 Broadway',\n",
       "  'Balance': 14.99,\n",
       "  'Notes': 'Set up on recurring billing cycle',\n",
       "  'Birthday': '12/02/1982'},\n",
       " {'_id': ObjectId('5ebc87a3b25f6cbe7ff9ebf8'),\n",
       "  'Name': 'Avi Flombaum',\n",
       "  'Email': 'avi@theflatironschool.com',\n",
       "  'Mailing_Address': '11 Broadway',\n",
       "  'Balance': 0.0,\n",
       "  'Notes': 'Null',\n",
       "  'Birthday': '04/17/1983'},\n",
       " {'_id': ObjectId('5ebc87a3b25f6cbe7ff9ebf9'),\n",
       "  'Name': 'Steven S.',\n",
       "  'Email': 'steven.s@gmail.net',\n",
       "  'Mailing_Address': 'Null',\n",
       "  'Balance': -20.23,\n",
       "  'Notes': 'Refunded for overpayment due to price match guarantee'}]"
      ]
     },
     "execution_count": 30,
     "metadata": {},
     "output_type": "execute_result"
    }
   ],
   "source": [
    "list(mycollection.find({}))"
   ]
  },
  {
   "cell_type": "markdown",
   "metadata": {},
   "source": [
    "# Using GitHub Links for Content"
   ]
  },
  {
   "cell_type": "markdown",
   "metadata": {},
   "source": [
    "<img src=\"https://raw.githubusercontent.com/learn-co-students/dsc-nosql-document-stores-v2-1-onl01-dtsc-pt-041320/master/images/mongodb.jpg\" width=200%>\n"
   ]
  },
  {
   "cell_type": "code",
   "execution_count": 34,
   "metadata": {},
   "outputs": [
    {
     "data": {
      "text/html": [
       "<div>\n",
       "<style scoped>\n",
       "    .dataframe tbody tr th:only-of-type {\n",
       "        vertical-align: middle;\n",
       "    }\n",
       "\n",
       "    .dataframe tbody tr th {\n",
       "        vertical-align: top;\n",
       "    }\n",
       "\n",
       "    .dataframe thead th {\n",
       "        text-align: right;\n",
       "    }\n",
       "</style>\n",
       "<table border=\"1\" class=\"dataframe\">\n",
       "  <thead>\n",
       "    <tr style=\"text-align: right;\">\n",
       "      <th></th>\n",
       "      <th>Unnamed: 0</th>\n",
       "      <th>burglary</th>\n",
       "      <th>common assault</th>\n",
       "      <th>larceny</th>\n",
       "      <th>robbery - street</th>\n",
       "      <th>auto theft</th>\n",
       "      <th>agg. assault</th>\n",
       "      <th>larceny from auto</th>\n",
       "      <th>shooting</th>\n",
       "      <th>robbery - residence</th>\n",
       "      <th>robbery - commercial</th>\n",
       "      <th>arson</th>\n",
       "      <th>homicide</th>\n",
       "      <th>robbery - carjacking</th>\n",
       "      <th>rape</th>\n",
       "    </tr>\n",
       "  </thead>\n",
       "  <tbody>\n",
       "    <tr>\n",
       "      <td>0</td>\n",
       "      <td>2014-01-01</td>\n",
       "      <td>3.0</td>\n",
       "      <td>19</td>\n",
       "      <td>34</td>\n",
       "      <td>8</td>\n",
       "      <td>9</td>\n",
       "      <td>22</td>\n",
       "      <td>15</td>\n",
       "      <td>2</td>\n",
       "      <td>1</td>\n",
       "      <td>2</td>\n",
       "      <td>NaN</td>\n",
       "      <td>2.0</td>\n",
       "      <td>NaN</td>\n",
       "      <td>4.0</td>\n",
       "    </tr>\n",
       "    <tr>\n",
       "      <td>1</td>\n",
       "      <td>2014-01-02</td>\n",
       "      <td>NaN</td>\n",
       "      <td>23</td>\n",
       "      <td>26</td>\n",
       "      <td>4</td>\n",
       "      <td>7</td>\n",
       "      <td>6</td>\n",
       "      <td>10</td>\n",
       "      <td>0</td>\n",
       "      <td>1</td>\n",
       "      <td>1</td>\n",
       "      <td>NaN</td>\n",
       "      <td>3.0</td>\n",
       "      <td>1.0</td>\n",
       "      <td>0.0</td>\n",
       "    </tr>\n",
       "    <tr>\n",
       "      <td>2</td>\n",
       "      <td>2014-01-03</td>\n",
       "      <td>NaN</td>\n",
       "      <td>17</td>\n",
       "      <td>16</td>\n",
       "      <td>2</td>\n",
       "      <td>3</td>\n",
       "      <td>11</td>\n",
       "      <td>6</td>\n",
       "      <td>1</td>\n",
       "      <td>1</td>\n",
       "      <td>1</td>\n",
       "      <td>NaN</td>\n",
       "      <td>1.0</td>\n",
       "      <td>0.0</td>\n",
       "      <td>0.0</td>\n",
       "    </tr>\n",
       "    <tr>\n",
       "      <td>3</td>\n",
       "      <td>2014-01-04</td>\n",
       "      <td>NaN</td>\n",
       "      <td>23</td>\n",
       "      <td>23</td>\n",
       "      <td>7</td>\n",
       "      <td>14</td>\n",
       "      <td>14</td>\n",
       "      <td>15</td>\n",
       "      <td>0</td>\n",
       "      <td>1</td>\n",
       "      <td>1</td>\n",
       "      <td>NaN</td>\n",
       "      <td>0.0</td>\n",
       "      <td>0.0</td>\n",
       "      <td>0.0</td>\n",
       "    </tr>\n",
       "    <tr>\n",
       "      <td>4</td>\n",
       "      <td>2014-01-05</td>\n",
       "      <td>NaN</td>\n",
       "      <td>22</td>\n",
       "      <td>19</td>\n",
       "      <td>10</td>\n",
       "      <td>11</td>\n",
       "      <td>9</td>\n",
       "      <td>13</td>\n",
       "      <td>2</td>\n",
       "      <td>1</td>\n",
       "      <td>0</td>\n",
       "      <td>NaN</td>\n",
       "      <td>0.0</td>\n",
       "      <td>2.0</td>\n",
       "      <td>1.0</td>\n",
       "    </tr>\n",
       "    <tr>\n",
       "      <td>...</td>\n",
       "      <td>...</td>\n",
       "      <td>...</td>\n",
       "      <td>...</td>\n",
       "      <td>...</td>\n",
       "      <td>...</td>\n",
       "      <td>...</td>\n",
       "      <td>...</td>\n",
       "      <td>...</td>\n",
       "      <td>...</td>\n",
       "      <td>...</td>\n",
       "      <td>...</td>\n",
       "      <td>...</td>\n",
       "      <td>...</td>\n",
       "      <td>...</td>\n",
       "      <td>...</td>\n",
       "    </tr>\n",
       "    <tr>\n",
       "      <td>2302</td>\n",
       "      <td>2020-04-21</td>\n",
       "      <td>NaN</td>\n",
       "      <td>6</td>\n",
       "      <td>8</td>\n",
       "      <td>5</td>\n",
       "      <td>7</td>\n",
       "      <td>11</td>\n",
       "      <td>8</td>\n",
       "      <td>3</td>\n",
       "      <td>0</td>\n",
       "      <td>1</td>\n",
       "      <td>2.0</td>\n",
       "      <td>1.0</td>\n",
       "      <td>0.0</td>\n",
       "      <td>NaN</td>\n",
       "    </tr>\n",
       "    <tr>\n",
       "      <td>2303</td>\n",
       "      <td>2020-04-22</td>\n",
       "      <td>NaN</td>\n",
       "      <td>15</td>\n",
       "      <td>12</td>\n",
       "      <td>5</td>\n",
       "      <td>6</td>\n",
       "      <td>15</td>\n",
       "      <td>5</td>\n",
       "      <td>5</td>\n",
       "      <td>0</td>\n",
       "      <td>2</td>\n",
       "      <td>0.0</td>\n",
       "      <td>1.0</td>\n",
       "      <td>1.0</td>\n",
       "      <td>NaN</td>\n",
       "    </tr>\n",
       "    <tr>\n",
       "      <td>2304</td>\n",
       "      <td>2020-04-23</td>\n",
       "      <td>NaN</td>\n",
       "      <td>8</td>\n",
       "      <td>13</td>\n",
       "      <td>6</td>\n",
       "      <td>4</td>\n",
       "      <td>6</td>\n",
       "      <td>7</td>\n",
       "      <td>0</td>\n",
       "      <td>2</td>\n",
       "      <td>4</td>\n",
       "      <td>0.0</td>\n",
       "      <td>1.0</td>\n",
       "      <td>NaN</td>\n",
       "      <td>NaN</td>\n",
       "    </tr>\n",
       "    <tr>\n",
       "      <td>2305</td>\n",
       "      <td>2020-04-24</td>\n",
       "      <td>NaN</td>\n",
       "      <td>13</td>\n",
       "      <td>11</td>\n",
       "      <td>6</td>\n",
       "      <td>10</td>\n",
       "      <td>6</td>\n",
       "      <td>9</td>\n",
       "      <td>1</td>\n",
       "      <td>0</td>\n",
       "      <td>0</td>\n",
       "      <td>1.0</td>\n",
       "      <td>NaN</td>\n",
       "      <td>NaN</td>\n",
       "      <td>NaN</td>\n",
       "    </tr>\n",
       "    <tr>\n",
       "      <td>2306</td>\n",
       "      <td>2020-04-25</td>\n",
       "      <td>NaN</td>\n",
       "      <td>15</td>\n",
       "      <td>9</td>\n",
       "      <td>5</td>\n",
       "      <td>9</td>\n",
       "      <td>11</td>\n",
       "      <td>5</td>\n",
       "      <td>1</td>\n",
       "      <td>1</td>\n",
       "      <td>1</td>\n",
       "      <td>NaN</td>\n",
       "      <td>NaN</td>\n",
       "      <td>NaN</td>\n",
       "      <td>NaN</td>\n",
       "    </tr>\n",
       "  </tbody>\n",
       "</table>\n",
       "<p>2307 rows × 15 columns</p>\n",
       "</div>"
      ],
      "text/plain": [
       "      Unnamed: 0  burglary  common assault  larceny  robbery - street  \\\n",
       "0     2014-01-01       3.0              19       34                 8   \n",
       "1     2014-01-02       NaN              23       26                 4   \n",
       "2     2014-01-03       NaN              17       16                 2   \n",
       "3     2014-01-04       NaN              23       23                 7   \n",
       "4     2014-01-05       NaN              22       19                10   \n",
       "...          ...       ...             ...      ...               ...   \n",
       "2302  2020-04-21       NaN               6        8                 5   \n",
       "2303  2020-04-22       NaN              15       12                 5   \n",
       "2304  2020-04-23       NaN               8       13                 6   \n",
       "2305  2020-04-24       NaN              13       11                 6   \n",
       "2306  2020-04-25       NaN              15        9                 5   \n",
       "\n",
       "      auto theft  agg. assault  larceny from auto  shooting  \\\n",
       "0              9            22                 15         2   \n",
       "1              7             6                 10         0   \n",
       "2              3            11                  6         1   \n",
       "3             14            14                 15         0   \n",
       "4             11             9                 13         2   \n",
       "...          ...           ...                ...       ...   \n",
       "2302           7            11                  8         3   \n",
       "2303           6            15                  5         5   \n",
       "2304           4             6                  7         0   \n",
       "2305          10             6                  9         1   \n",
       "2306           9            11                  5         1   \n",
       "\n",
       "      robbery - residence  robbery - commercial  arson  homicide  \\\n",
       "0                       1                     2    NaN       2.0   \n",
       "1                       1                     1    NaN       3.0   \n",
       "2                       1                     1    NaN       1.0   \n",
       "3                       1                     1    NaN       0.0   \n",
       "4                       1                     0    NaN       0.0   \n",
       "...                   ...                   ...    ...       ...   \n",
       "2302                    0                     1    2.0       1.0   \n",
       "2303                    0                     2    0.0       1.0   \n",
       "2304                    2                     4    0.0       1.0   \n",
       "2305                    0                     0    1.0       NaN   \n",
       "2306                    1                     1    NaN       NaN   \n",
       "\n",
       "      robbery - carjacking  rape  \n",
       "0                      NaN   4.0  \n",
       "1                      1.0   0.0  \n",
       "2                      0.0   0.0  \n",
       "3                      0.0   0.0  \n",
       "4                      2.0   1.0  \n",
       "...                    ...   ...  \n",
       "2302                   0.0   NaN  \n",
       "2303                   1.0   NaN  \n",
       "2304                   NaN   NaN  \n",
       "2305                   NaN   NaN  \n",
       "2306                   NaN   NaN  \n",
       "\n",
       "[2307 rows x 15 columns]"
      ]
     },
     "execution_count": 34,
     "metadata": {},
     "output_type": "execute_result"
    }
   ],
   "source": [
    "pd.read_csv('https://raw.githubusercontent.com/jirvingphd/fsds_pt_100719_cohort_notes/master/datasets/baltimore_crime_2020_ts.csv')"
   ]
  },
  {
   "cell_type": "markdown",
   "metadata": {},
   "source": [
    "Great! It looks like the birthdays have been successfully added to every record correctly!\n",
    "\n",
    "## Summary\n",
    "\n",
    "In this lesson, we got some hands-on practice working with MongoDB!"
   ]
  }
 ],
 "metadata": {
  "kernelspec": {
   "display_name": "Python 3",
   "language": "python",
   "name": "python3"
  },
  "language_info": {
   "codemirror_mode": {
    "name": "ipython",
    "version": 3
   },
   "file_extension": ".py",
   "mimetype": "text/x-python",
   "name": "python",
   "nbconvert_exporter": "python",
   "pygments_lexer": "ipython3",
   "version": "3.6.9"
  },
  "toc": {
   "base_numbering": 1,
   "nav_menu": {},
   "number_sections": true,
   "sideBar": true,
   "skip_h1_title": false,
   "title_cell": "Table of Contents",
   "title_sidebar": "Contents",
   "toc_cell": false,
   "toc_position": {},
   "toc_section_display": true,
   "toc_window_display": true
  }
 },
 "nbformat": 4,
 "nbformat_minor": 2
}

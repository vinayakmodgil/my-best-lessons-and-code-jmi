{
 "cells": [
  {
   "cell_type": "markdown",
   "metadata": {},
   "source": [
    "# Sect 25-Pt 2: Intro to Logistic Regression "
   ]
  },
  {
   "cell_type": "markdown",
   "metadata": {},
   "source": [
    "- online-ds-pt-041320\n",
    "- 09/02/20"
   ]
  },
  {
   "cell_type": "markdown",
   "metadata": {},
   "source": [
    "## Questions?"
   ]
  },
  {
   "cell_type": "markdown",
   "metadata": {},
   "source": [
    "### From Last Class/Gdoc"
   ]
  },
  {
   "cell_type": "markdown",
   "metadata": {},
   "source": [
    "- I’m confused about ROC and AUC. \n",
    "    - how are the false positive or false negative percents a parameter for ROC? \n",
    "    - How do you graph one vs the other when they are fixed values?<br>I don’t think I’m understanding what’s going on under the hood with this function…\n",
    "\n",
    "\n",
    "- Pseudo R-squared from Statsmodels Logit summary\n",
    "\n",
    "\n",
    "- Logistic Regression in Scikit Learn  Lab: \n",
    "    - Why didnt they do the get dummies?\n",
    "    - \n",
    "logreg = `LogisticRegression(fit_intercept = False, C = 1e12, solver = 'liblinear')` \n",
    "        - why is the fit_intercept False, and why do we assign large value to C?\n"
   ]
  },
  {
   "cell_type": "markdown",
   "metadata": {
    "heading_collapsed": true
   },
   "source": [
    "### Answers"
   ]
  },
  {
   "cell_type": "markdown",
   "metadata": {
    "hidden": true
   },
   "source": [
    "#### **Pseudo R-Squared: Stack Overflow Discussion:**\n",
    "> \"Those unfamiliar with 𝜌2 should be forewarned that its values tend to be considerably lower than those of the 𝑅2 index...For example, values of 0.2 to 0.4 for 𝜌2 represent EXCELLENT fit.\"\n",
    "<br><br> So basically, 𝜌2 can be interpreted like 𝑅2, but don't expect it to be as big. And values from 0.2-0.4 indicate (in McFadden's words) excellent model fit.\"\n",
    "- Source: https://stats.stackexchange.com/questions/82105/mcfaddens-pseudo-r2-interpretation\n",
    "    \n",
    "    "
   ]
  },
  {
   "cell_type": "markdown",
   "metadata": {
    "hidden": true
   },
   "source": [
    "#### Scikit Learn Logistic Regression parameters:\n",
    "- From the docstring for LogsisticRegression,C:\n",
    "```C : float, default=1.0\n",
    "    Inverse of regularization strength; must be a positive float.\n",
    "    Like in support vector machines, smaller values specify strong```\n",
    "    \n",
    "- Scikit-Learn Logistic Regression User Guide:\n",
    "    - https://scikit-learn.org/stable/modules/linear_model.html#logistic-regression"
   ]
  },
  {
   "cell_type": "markdown",
   "metadata": {},
   "source": [
    "## Topics in Sect 25"
   ]
  },
  {
   "cell_type": "markdown",
   "metadata": {},
   "source": [
    "- Last Class:\n",
    "    - Supervised vs Unsupervised Learning\n",
    "    - Logistic Regression - Theory\n",
    "    - Applying Logistic Regression with `statsmodels`\n",
    "    - Evaluating Classifiers\n",
    "        - Accuracy, Precision, Recall, F1-Score\n",
    "        - Confusion Matrices\n",
    "\n",
    "\n",
    "- Today:\n",
    "    - Applying Logistic Regression with scikit-learn\n",
    "    - Evaluating Classifiers:\n",
    "        - ROC-AUC curve\n",
    "    - Class Imbalance Problems"
   ]
  },
  {
   "cell_type": "markdown",
   "metadata": {},
   "source": [
    "# Previously on..."
   ]
  },
  {
   "cell_type": "markdown",
   "metadata": {},
   "source": [
    "## Implementing Logistic Regression"
   ]
  },
  {
   "cell_type": "markdown",
   "metadata": {},
   "source": [
    "#### Predict Passenger Survival on Titanic"
   ]
  },
  {
   "cell_type": "code",
   "execution_count": 1,
   "metadata": {
    "ExecuteTime": {
     "end_time": "2020-09-02T21:48:38.671643Z",
     "start_time": "2020-09-02T21:48:35.277067Z"
    },
    "scrolled": true
   },
   "outputs": [
    {
     "name": "stdout",
     "output_type": "stream",
     "text": [
      "fsds v0.2.23 loaded.  Read the docs: https://fs-ds.readthedocs.io/en/latest/ \n"
     ]
    },
    {
     "data": {
      "text/html": [
       "<style  type=\"text/css\" >\n",
       "</style><table id=\"T_0e652770_ed66_11ea_9990_acde48001122\" ><caption>Loaded Packages and Handles</caption><thead>    <tr>        <th class=\"col_heading level0 col0\" >Handle</th>        <th class=\"col_heading level0 col1\" >Package</th>        <th class=\"col_heading level0 col2\" >Description</th>    </tr></thead><tbody>\n",
       "                <tr>\n",
       "                                <td id=\"T_0e652770_ed66_11ea_9990_acde48001122row0_col0\" class=\"data row0 col0\" >dp</td>\n",
       "                        <td id=\"T_0e652770_ed66_11ea_9990_acde48001122row0_col1\" class=\"data row0 col1\" >IPython.display</td>\n",
       "                        <td id=\"T_0e652770_ed66_11ea_9990_acde48001122row0_col2\" class=\"data row0 col2\" >Display modules with helpful display and clearing commands.</td>\n",
       "            </tr>\n",
       "            <tr>\n",
       "                                <td id=\"T_0e652770_ed66_11ea_9990_acde48001122row1_col0\" class=\"data row1 col0\" >fs</td>\n",
       "                        <td id=\"T_0e652770_ed66_11ea_9990_acde48001122row1_col1\" class=\"data row1 col1\" >fsds</td>\n",
       "                        <td id=\"T_0e652770_ed66_11ea_9990_acde48001122row1_col2\" class=\"data row1 col2\" >Custom data science bootcamp student package</td>\n",
       "            </tr>\n",
       "            <tr>\n",
       "                                <td id=\"T_0e652770_ed66_11ea_9990_acde48001122row2_col0\" class=\"data row2 col0\" >mpl</td>\n",
       "                        <td id=\"T_0e652770_ed66_11ea_9990_acde48001122row2_col1\" class=\"data row2 col1\" >matplotlib</td>\n",
       "                        <td id=\"T_0e652770_ed66_11ea_9990_acde48001122row2_col2\" class=\"data row2 col2\" >Matplotlib's base OOP module with formatting artists</td>\n",
       "            </tr>\n",
       "            <tr>\n",
       "                                <td id=\"T_0e652770_ed66_11ea_9990_acde48001122row3_col0\" class=\"data row3 col0\" >plt</td>\n",
       "                        <td id=\"T_0e652770_ed66_11ea_9990_acde48001122row3_col1\" class=\"data row3 col1\" >matplotlib.pyplot</td>\n",
       "                        <td id=\"T_0e652770_ed66_11ea_9990_acde48001122row3_col2\" class=\"data row3 col2\" >Matplotlib's matlab-like plotting module</td>\n",
       "            </tr>\n",
       "            <tr>\n",
       "                                <td id=\"T_0e652770_ed66_11ea_9990_acde48001122row4_col0\" class=\"data row4 col0\" >np</td>\n",
       "                        <td id=\"T_0e652770_ed66_11ea_9990_acde48001122row4_col1\" class=\"data row4 col1\" >numpy</td>\n",
       "                        <td id=\"T_0e652770_ed66_11ea_9990_acde48001122row4_col2\" class=\"data row4 col2\" >scientific computing with Python</td>\n",
       "            </tr>\n",
       "            <tr>\n",
       "                                <td id=\"T_0e652770_ed66_11ea_9990_acde48001122row5_col0\" class=\"data row5 col0\" >pd</td>\n",
       "                        <td id=\"T_0e652770_ed66_11ea_9990_acde48001122row5_col1\" class=\"data row5 col1\" >pandas</td>\n",
       "                        <td id=\"T_0e652770_ed66_11ea_9990_acde48001122row5_col2\" class=\"data row5 col2\" >High performance data structures and tools</td>\n",
       "            </tr>\n",
       "            <tr>\n",
       "                                <td id=\"T_0e652770_ed66_11ea_9990_acde48001122row6_col0\" class=\"data row6 col0\" >sns</td>\n",
       "                        <td id=\"T_0e652770_ed66_11ea_9990_acde48001122row6_col1\" class=\"data row6 col1\" >seaborn</td>\n",
       "                        <td id=\"T_0e652770_ed66_11ea_9990_acde48001122row6_col2\" class=\"data row6 col2\" >High-level data visualization library based on matplotlib</td>\n",
       "            </tr>\n",
       "    </tbody></table>"
      ],
      "text/plain": [
       "<pandas.io.formats.style.Styler at 0x7fa0ba9b20b8>"
      ]
     },
     "metadata": {},
     "output_type": "display_data"
    },
    {
     "data": {
      "text/html": [
       "        <script type=\"text/javascript\">\n",
       "        window.PlotlyConfig = {MathJaxConfig: 'local'};\n",
       "        if (window.MathJax) {MathJax.Hub.Config({SVG: {font: \"STIX-Web\"}});}\n",
       "        if (typeof require !== 'undefined') {\n",
       "        require.undef(\"plotly\");\n",
       "        requirejs.config({\n",
       "            paths: {\n",
       "                'plotly': ['https://cdn.plot.ly/plotly-latest.min']\n",
       "            }\n",
       "        });\n",
       "        require(['plotly'], function(Plotly) {\n",
       "            window._Plotly = Plotly;\n",
       "        });\n",
       "        }\n",
       "        </script>\n",
       "        "
      ]
     },
     "metadata": {},
     "output_type": "display_data"
    },
    {
     "data": {
      "text/html": [
       "        <script type=\"text/javascript\">\n",
       "        window.PlotlyConfig = {MathJaxConfig: 'local'};\n",
       "        if (window.MathJax) {MathJax.Hub.Config({SVG: {font: \"STIX-Web\"}});}\n",
       "        if (typeof require !== 'undefined') {\n",
       "        require.undef(\"plotly\");\n",
       "        requirejs.config({\n",
       "            paths: {\n",
       "                'plotly': ['https://cdn.plot.ly/plotly-latest.min']\n",
       "            }\n",
       "        });\n",
       "        require(['plotly'], function(Plotly) {\n",
       "            window._Plotly = Plotly;\n",
       "        });\n",
       "        }\n",
       "        </script>\n",
       "        "
      ]
     },
     "metadata": {},
     "output_type": "display_data"
    },
    {
     "name": "stdout",
     "output_type": "stream",
     "text": [
      "[i] Pandas .iplot() method activated.\n"
     ]
    }
   ],
   "source": [
    "# !pip install fsds\n",
    "from fsds.imports import *"
   ]
  },
  {
   "cell_type": "code",
   "execution_count": 2,
   "metadata": {
    "ExecuteTime": {
     "end_time": "2020-09-02T21:48:39.022378Z",
     "start_time": "2020-09-02T21:48:38.674667Z"
    }
   },
   "outputs": [
    {
     "data": {
      "text/html": [
       "<div>\n",
       "<style scoped>\n",
       "    .dataframe tbody tr th:only-of-type {\n",
       "        vertical-align: middle;\n",
       "    }\n",
       "\n",
       "    .dataframe tbody tr th {\n",
       "        vertical-align: top;\n",
       "    }\n",
       "\n",
       "    .dataframe thead th {\n",
       "        text-align: right;\n",
       "    }\n",
       "</style>\n",
       "<table border=\"1\" class=\"dataframe\">\n",
       "  <thead>\n",
       "    <tr style=\"text-align: right;\">\n",
       "      <th></th>\n",
       "      <th>Pclass</th>\n",
       "      <th>Age</th>\n",
       "      <th>SibSp</th>\n",
       "      <th>Fare</th>\n",
       "      <th>Sex</th>\n",
       "      <th>Embarked</th>\n",
       "      <th>Survived</th>\n",
       "    </tr>\n",
       "  </thead>\n",
       "  <tbody>\n",
       "    <tr>\n",
       "      <th>0</th>\n",
       "      <td>3</td>\n",
       "      <td>22.0</td>\n",
       "      <td>1</td>\n",
       "      <td>7.2500</td>\n",
       "      <td>male</td>\n",
       "      <td>S</td>\n",
       "      <td>0</td>\n",
       "    </tr>\n",
       "    <tr>\n",
       "      <th>1</th>\n",
       "      <td>1</td>\n",
       "      <td>38.0</td>\n",
       "      <td>1</td>\n",
       "      <td>71.2833</td>\n",
       "      <td>female</td>\n",
       "      <td>C</td>\n",
       "      <td>1</td>\n",
       "    </tr>\n",
       "    <tr>\n",
       "      <th>2</th>\n",
       "      <td>3</td>\n",
       "      <td>26.0</td>\n",
       "      <td>0</td>\n",
       "      <td>7.9250</td>\n",
       "      <td>female</td>\n",
       "      <td>S</td>\n",
       "      <td>1</td>\n",
       "    </tr>\n",
       "    <tr>\n",
       "      <th>3</th>\n",
       "      <td>1</td>\n",
       "      <td>35.0</td>\n",
       "      <td>1</td>\n",
       "      <td>53.1000</td>\n",
       "      <td>female</td>\n",
       "      <td>S</td>\n",
       "      <td>1</td>\n",
       "    </tr>\n",
       "    <tr>\n",
       "      <th>4</th>\n",
       "      <td>3</td>\n",
       "      <td>35.0</td>\n",
       "      <td>0</td>\n",
       "      <td>8.0500</td>\n",
       "      <td>male</td>\n",
       "      <td>S</td>\n",
       "      <td>0</td>\n",
       "    </tr>\n",
       "  </tbody>\n",
       "</table>\n",
       "</div>"
      ],
      "text/plain": [
       "  Pclass   Age  SibSp     Fare     Sex Embarked  Survived\n",
       "0      3  22.0      1   7.2500    male        S         0\n",
       "1      1  38.0      1  71.2833  female        C         1\n",
       "2      3  26.0      0   7.9250  female        S         1\n",
       "3      1  35.0      1  53.1000  female        S         1\n",
       "4      3  35.0      0   8.0500    male        S         0"
      ]
     },
     "execution_count": 2,
     "metadata": {},
     "output_type": "execute_result"
    }
   ],
   "source": [
    "df = fs.datasets.load_titanic(read_csv_kwds={'index_col':0})\n",
    "relevant_columns = ['Pclass', 'Age', 'SibSp', 'Fare', 'Sex', 'Embarked', 'Survived']\n",
    "df = df[relevant_columns]\n",
    "df.head()"
   ]
  },
  {
   "cell_type": "code",
   "execution_count": 3,
   "metadata": {
    "ExecuteTime": {
     "end_time": "2020-09-02T21:48:39.037503Z",
     "start_time": "2020-09-02T21:48:39.025324Z"
    }
   },
   "outputs": [
    {
     "name": "stdout",
     "output_type": "stream",
     "text": [
      "<class 'pandas.core.frame.DataFrame'>\n",
      "Int64Index: 891 entries, 0 to 890\n",
      "Data columns (total 7 columns):\n",
      " #   Column    Non-Null Count  Dtype  \n",
      "---  ------    --------------  -----  \n",
      " 0   Pclass    891 non-null    object \n",
      " 1   Age       714 non-null    float64\n",
      " 2   SibSp     891 non-null    int64  \n",
      " 3   Fare      891 non-null    float64\n",
      " 4   Sex       891 non-null    object \n",
      " 5   Embarked  889 non-null    object \n",
      " 6   Survived  891 non-null    int64  \n",
      "dtypes: float64(2), int64(2), object(3)\n",
      "memory usage: 55.7+ KB\n"
     ]
    }
   ],
   "source": [
    "df.info()"
   ]
  },
  {
   "cell_type": "code",
   "execution_count": 4,
   "metadata": {
    "ExecuteTime": {
     "end_time": "2020-09-02T21:48:39.044700Z",
     "start_time": "2020-09-02T21:48:39.040391Z"
    }
   },
   "outputs": [],
   "source": [
    "# Recast Number Cols\n",
    "df['Pclass'] = pd.to_numeric(df['Pclass'],errors='coerce')"
   ]
  },
  {
   "cell_type": "code",
   "execution_count": 5,
   "metadata": {
    "ExecuteTime": {
     "end_time": "2020-09-02T21:48:39.056195Z",
     "start_time": "2020-09-02T21:48:39.047077Z"
    }
   },
   "outputs": [
    {
     "data": {
      "text/plain": [
       "0    0.616162\n",
       "1    0.383838\n",
       "Name: Survived, dtype: float64"
      ]
     },
     "execution_count": 5,
     "metadata": {},
     "output_type": "execute_result"
    }
   ],
   "source": [
    "df['Survived'].value_counts(normalize=True,dropna=False)"
   ]
  },
  {
   "cell_type": "code",
   "execution_count": 6,
   "metadata": {
    "ExecuteTime": {
     "end_time": "2020-09-02T21:48:39.310026Z",
     "start_time": "2020-09-02T21:48:39.059110Z"
    }
   },
   "outputs": [
    {
     "data": {
      "image/png": "[encoded data removed]",
      "text/plain": [
       "<Figure size 432x288 with 1 Axes>"
      ]
     },
     "metadata": {
      "needs_background": "light"
     },
     "output_type": "display_data"
    }
   ],
   "source": [
    "df.plot('Age','Survived',kind='scatter');"
   ]
  },
  {
   "cell_type": "code",
   "execution_count": 7,
   "metadata": {
    "ExecuteTime": {
     "end_time": "2020-09-02T21:48:39.516239Z",
     "start_time": "2020-09-02T21:48:39.312165Z"
    }
   },
   "outputs": [
    {
     "data": {
      "image/png": "[encoded data removed]",
      "text/plain": [
       "<Figure size 432x288 with 1 Axes>"
      ]
     },
     "metadata": {
      "needs_background": "light"
     },
     "output_type": "display_data"
    }
   ],
   "source": [
    "df.plot('Fare','Survived',kind='scatter');"
   ]
  },
  {
   "cell_type": "markdown",
   "metadata": {
    "ExecuteTime": {
     "end_time": "2020-03-24T22:26:15.520827Z",
     "start_time": "2020-03-24T22:26:15.518673Z"
    }
   },
   "source": [
    "### Q: What are the preprocessing steps I need to perform before I create the model?"
   ]
  },
  {
   "cell_type": "markdown",
   "metadata": {},
   "source": [
    "<!-- Fill/drop in missing/null values\n",
    "- Feature Selection / Feature Engineering (interaction terms)\n",
    "- Handling categorial variables\n",
    "    - One Hot Encoding \n",
    "    - Label Encoding\n",
    "- Handling Outliers (maybe apply today)\n",
    "- Normalizing/Standardizing our data\n",
    "\n",
    "- **Multicollinearity (does it still matter as much for Logistic?)**\n",
    "\n",
    "- Train-test-split\n",
    "-->\n",
    "\n",
    "- Train-test-split\n",
    "- Address null values\n",
    "- Encode categorical data\n",
    "- Train Model with train data\n",
    "- Evaluate Model with test data"
   ]
  },
  {
   "cell_type": "markdown",
   "metadata": {},
   "source": [
    "### Preprocessing"
   ]
  },
  {
   "cell_type": "code",
   "execution_count": 8,
   "metadata": {
    "ExecuteTime": {
     "end_time": "2020-09-02T21:48:39.529160Z",
     "start_time": "2020-09-02T21:48:39.521389Z"
    }
   },
   "outputs": [
    {
     "data": {
      "text/plain": [
       "Pclass      0.054994\n",
       "Age         0.198653\n",
       "SibSp       0.000000\n",
       "Fare        0.000000\n",
       "Sex         0.000000\n",
       "Embarked    0.002245\n",
       "Survived    0.000000\n",
       "dtype: float64"
      ]
     },
     "execution_count": 8,
     "metadata": {},
     "output_type": "execute_result"
    }
   ],
   "source": [
    "## Null Values\n",
    "df.isna().sum() / len(df)"
   ]
  },
  {
   "cell_type": "code",
   "execution_count": 9,
   "metadata": {
    "ExecuteTime": {
     "end_time": "2020-09-02T21:48:39.545058Z",
     "start_time": "2020-09-02T21:48:39.535293Z"
    }
   },
   "outputs": [
    {
     "data": {
      "text/plain": [
       "0      0\n",
       "1      1\n",
       "2      1\n",
       "3      1\n",
       "4      0\n",
       "      ..\n",
       "886    0\n",
       "887    1\n",
       "888    0\n",
       "889    1\n",
       "890    0\n",
       "Name: Survived, Length: 891, dtype: int64"
      ]
     },
     "execution_count": 9,
     "metadata": {},
     "output_type": "execute_result"
    }
   ],
   "source": [
    "## Separate X and y\n",
    "target = 'Survived'\n",
    "X = df.drop(columns=target)\n",
    "y = df[target]\n",
    "y"
   ]
  },
  {
   "cell_type": "code",
   "execution_count": 10,
   "metadata": {
    "ExecuteTime": {
     "end_time": "2020-09-02T21:48:39.560258Z",
     "start_time": "2020-09-02T21:48:39.548826Z"
    }
   },
   "outputs": [
    {
     "data": {
      "text/plain": [
       "Index(['Sex', 'Embarked'], dtype='object')"
      ]
     },
     "execution_count": 10,
     "metadata": {},
     "output_type": "execute_result"
    }
   ],
   "source": [
    "## String columns\n",
    "cat_cols = df.drop(columns=target).select_dtypes('O').columns\n",
    "cat_cols"
   ]
  },
  {
   "cell_type": "code",
   "execution_count": 11,
   "metadata": {
    "ExecuteTime": {
     "end_time": "2020-09-02T21:48:39.572226Z",
     "start_time": "2020-09-02T21:48:39.563347Z"
    }
   },
   "outputs": [
    {
     "data": {
      "text/plain": [
       "Index(['Pclass', 'Age', 'SibSp', 'Fare'], dtype='object')"
      ]
     },
     "execution_count": 11,
     "metadata": {},
     "output_type": "execute_result"
    }
   ],
   "source": [
    "## Number cols\n",
    "num_cols = df.drop(columns=target).select_dtypes('number').columns\n",
    "num_cols"
   ]
  },
  {
   "cell_type": "code",
   "execution_count": 12,
   "metadata": {
    "ExecuteTime": {
     "end_time": "2020-09-02T21:48:39.586121Z",
     "start_time": "2020-09-02T21:48:39.575260Z"
    }
   },
   "outputs": [
    {
     "name": "stdout",
     "output_type": "stream",
     "text": [
      "(668, 6) (223,)\n"
     ]
    },
    {
     "data": {
      "text/plain": [
       "0    0.642216\n",
       "1    0.357784\n",
       "Name: Survived, dtype: float64"
      ]
     },
     "execution_count": 12,
     "metadata": {},
     "output_type": "execute_result"
    }
   ],
   "source": [
    "## Train Test Split\n",
    "from sklearn.model_selection import train_test_split\n",
    "X_train, X_test, y_train, y_test = train_test_split(X, y,random_state=221)\n",
    "\n",
    "print(X_train.shape, y_test.shape)\n",
    "pd.Series(y_train).value_counts(1)"
   ]
  },
  {
   "cell_type": "code",
   "execution_count": 13,
   "metadata": {
    "ExecuteTime": {
     "end_time": "2020-09-02T21:48:39.594289Z",
     "start_time": "2020-09-02T21:48:39.588333Z"
    }
   },
   "outputs": [
    {
     "data": {
      "text/plain": [
       "Pclass       29\n",
       "Age         136\n",
       "SibSp         0\n",
       "Fare          0\n",
       "Sex           0\n",
       "Embarked      0\n",
       "dtype: int64"
      ]
     },
     "execution_count": 13,
     "metadata": {},
     "output_type": "execute_result"
    }
   ],
   "source": [
    "X_train.isna().sum()"
   ]
  },
  {
   "cell_type": "code",
   "execution_count": 14,
   "metadata": {
    "ExecuteTime": {
     "end_time": "2020-09-02T21:48:39.602361Z",
     "start_time": "2020-09-02T21:48:39.597536Z"
    }
   },
   "outputs": [],
   "source": [
    "## Saving null value indices\n",
    "train_nulls = X_train.isna().any(axis=1)\n",
    "test_nulls = X_test.isna().any(axis=1)"
   ]
  },
  {
   "cell_type": "code",
   "execution_count": 15,
   "metadata": {
    "ExecuteTime": {
     "end_time": "2020-09-02T21:48:39.611611Z",
     "start_time": "2020-09-02T21:48:39.604592Z"
    }
   },
   "outputs": [],
   "source": [
    "## Dropping Nulls for time\n",
    "X_train = X_train.loc[~train_nulls]\n",
    "y_train = y_train.loc[~train_nulls]\n",
    "\n",
    "X_test = X_test.loc[~test_nulls]\n",
    "y_test = y_test.loc[~test_nulls]\n",
    "# X_train.isna().sum()"
   ]
  },
  {
   "cell_type": "code",
   "execution_count": 16,
   "metadata": {
    "ExecuteTime": {
     "end_time": "2020-09-02T21:48:39.621146Z",
     "start_time": "2020-09-02T21:48:39.613634Z"
    }
   },
   "outputs": [
    {
     "data": {
      "text/plain": [
       "(Pclass      0\n",
       " Age         0\n",
       " SibSp       0\n",
       " Fare        0\n",
       " Sex         0\n",
       " Embarked    0\n",
       " dtype: int64,\n",
       " Pclass      0\n",
       " Age         0\n",
       " SibSp       0\n",
       " Fare        0\n",
       " Sex         0\n",
       " Embarked    0\n",
       " dtype: int64)"
      ]
     },
     "execution_count": 16,
     "metadata": {},
     "output_type": "execute_result"
    }
   ],
   "source": [
    "X_train.isna().sum(), X_test.isna().sum()"
   ]
  },
  {
   "cell_type": "code",
   "execution_count": 17,
   "metadata": {
    "ExecuteTime": {
     "end_time": "2020-09-02T21:48:39.625573Z",
     "start_time": "2020-09-02T21:48:39.623202Z"
    }
   },
   "outputs": [],
   "source": [
    "## REMOVED FROM WORKFLOW\n",
    "# from sklearn.impute import SimpleImputer\n",
    "# imputer_num = SimpleImputer(strategy='median')\n",
    "\n",
    "# X_train[num_cols] = imputer_num.fit_transform(X_train[num_cols])\n",
    "# X_test[num_cols] = imputer_num.transform(X_test[num_cols])\n",
    "\n",
    "# X_train[cat_cols] = imputer_cat.fit_transform(X_train[cat_cols])\n",
    "# X_test[cat_cols] = imputer_cat.transform(X_test[cat_cols])\n"
   ]
  },
  {
   "cell_type": "code",
   "execution_count": 18,
   "metadata": {
    "ExecuteTime": {
     "end_time": "2020-09-02T21:48:39.670007Z",
     "start_time": "2020-09-02T21:48:39.628052Z"
    }
   },
   "outputs": [
    {
     "data": {
      "text/html": [
       "<div>\n",
       "<style scoped>\n",
       "    .dataframe tbody tr th:only-of-type {\n",
       "        vertical-align: middle;\n",
       "    }\n",
       "\n",
       "    .dataframe tbody tr th {\n",
       "        vertical-align: top;\n",
       "    }\n",
       "\n",
       "    .dataframe thead th {\n",
       "        text-align: right;\n",
       "    }\n",
       "</style>\n",
       "<table border=\"1\" class=\"dataframe\">\n",
       "  <thead>\n",
       "    <tr style=\"text-align: right;\">\n",
       "      <th></th>\n",
       "      <th>Pclass</th>\n",
       "      <th>Age</th>\n",
       "      <th>SibSp</th>\n",
       "      <th>Fare</th>\n",
       "      <th>Sex_male</th>\n",
       "      <th>Embarked_Q</th>\n",
       "      <th>Embarked_S</th>\n",
       "    </tr>\n",
       "  </thead>\n",
       "  <tbody>\n",
       "    <tr>\n",
       "      <th>705</th>\n",
       "      <td>2.0</td>\n",
       "      <td>39.0</td>\n",
       "      <td>0</td>\n",
       "      <td>26.0000</td>\n",
       "      <td>1.0</td>\n",
       "      <td>0.0</td>\n",
       "      <td>1.0</td>\n",
       "    </tr>\n",
       "    <tr>\n",
       "      <th>559</th>\n",
       "      <td>3.0</td>\n",
       "      <td>36.0</td>\n",
       "      <td>1</td>\n",
       "      <td>17.4000</td>\n",
       "      <td>0.0</td>\n",
       "      <td>0.0</td>\n",
       "      <td>1.0</td>\n",
       "    </tr>\n",
       "    <tr>\n",
       "      <th>521</th>\n",
       "      <td>3.0</td>\n",
       "      <td>22.0</td>\n",
       "      <td>0</td>\n",
       "      <td>7.8958</td>\n",
       "      <td>1.0</td>\n",
       "      <td>0.0</td>\n",
       "      <td>1.0</td>\n",
       "    </tr>\n",
       "    <tr>\n",
       "      <th>314</th>\n",
       "      <td>2.0</td>\n",
       "      <td>43.0</td>\n",
       "      <td>1</td>\n",
       "      <td>26.2500</td>\n",
       "      <td>1.0</td>\n",
       "      <td>0.0</td>\n",
       "      <td>1.0</td>\n",
       "    </tr>\n",
       "    <tr>\n",
       "      <th>429</th>\n",
       "      <td>3.0</td>\n",
       "      <td>32.0</td>\n",
       "      <td>0</td>\n",
       "      <td>8.0500</td>\n",
       "      <td>1.0</td>\n",
       "      <td>0.0</td>\n",
       "      <td>1.0</td>\n",
       "    </tr>\n",
       "    <tr>\n",
       "      <th>...</th>\n",
       "      <td>...</td>\n",
       "      <td>...</td>\n",
       "      <td>...</td>\n",
       "      <td>...</td>\n",
       "      <td>...</td>\n",
       "      <td>...</td>\n",
       "      <td>...</td>\n",
       "    </tr>\n",
       "    <tr>\n",
       "      <th>483</th>\n",
       "      <td>3.0</td>\n",
       "      <td>63.0</td>\n",
       "      <td>0</td>\n",
       "      <td>9.5875</td>\n",
       "      <td>0.0</td>\n",
       "      <td>0.0</td>\n",
       "      <td>1.0</td>\n",
       "    </tr>\n",
       "    <tr>\n",
       "      <th>885</th>\n",
       "      <td>3.0</td>\n",
       "      <td>39.0</td>\n",
       "      <td>0</td>\n",
       "      <td>29.1250</td>\n",
       "      <td>0.0</td>\n",
       "      <td>1.0</td>\n",
       "      <td>0.0</td>\n",
       "    </tr>\n",
       "    <tr>\n",
       "      <th>882</th>\n",
       "      <td>3.0</td>\n",
       "      <td>22.0</td>\n",
       "      <td>0</td>\n",
       "      <td>10.5167</td>\n",
       "      <td>0.0</td>\n",
       "      <td>0.0</td>\n",
       "      <td>1.0</td>\n",
       "    </tr>\n",
       "    <tr>\n",
       "      <th>742</th>\n",
       "      <td>1.0</td>\n",
       "      <td>21.0</td>\n",
       "      <td>2</td>\n",
       "      <td>262.3750</td>\n",
       "      <td>0.0</td>\n",
       "      <td>0.0</td>\n",
       "      <td>0.0</td>\n",
       "    </tr>\n",
       "    <tr>\n",
       "      <th>844</th>\n",
       "      <td>3.0</td>\n",
       "      <td>17.0</td>\n",
       "      <td>0</td>\n",
       "      <td>8.6625</td>\n",
       "      <td>1.0</td>\n",
       "      <td>0.0</td>\n",
       "      <td>1.0</td>\n",
       "    </tr>\n",
       "  </tbody>\n",
       "</table>\n",
       "<p>511 rows × 7 columns</p>\n",
       "</div>"
      ],
      "text/plain": [
       "     Pclass   Age  SibSp      Fare  Sex_male  Embarked_Q  Embarked_S\n",
       "705     2.0  39.0      0   26.0000       1.0         0.0         1.0\n",
       "559     3.0  36.0      1   17.4000       0.0         0.0         1.0\n",
       "521     3.0  22.0      0    7.8958       1.0         0.0         1.0\n",
       "314     2.0  43.0      1   26.2500       1.0         0.0         1.0\n",
       "429     3.0  32.0      0    8.0500       1.0         0.0         1.0\n",
       "..      ...   ...    ...       ...       ...         ...         ...\n",
       "483     3.0  63.0      0    9.5875       0.0         0.0         1.0\n",
       "885     3.0  39.0      0   29.1250       0.0         1.0         0.0\n",
       "882     3.0  22.0      0   10.5167       0.0         0.0         1.0\n",
       "742     1.0  21.0      2  262.3750       0.0         0.0         0.0\n",
       "844     3.0  17.0      0    8.6625       1.0         0.0         1.0\n",
       "\n",
       "[511 rows x 7 columns]"
      ]
     },
     "execution_count": 18,
     "metadata": {},
     "output_type": "execute_result"
    }
   ],
   "source": [
    "from sklearn.preprocessing import OneHotEncoder\n",
    "\n",
    "encoder = OneHotEncoder(sparse=False,drop='first')#,handle_unknown='ignore')\n",
    "\n",
    "\n",
    "## Copy the numerical columns to new ohe X_train, X_test\n",
    "X_train_ohe = X_train.drop(columns=cat_cols).copy()\n",
    "X_test_ohe = X_test.drop(columns=cat_cols).copy()\n",
    "\n",
    "## Fit the encoder\n",
    "encoder.fit(X_train[cat_cols])\n",
    "ohe_cols = encoder.get_feature_names(cat_cols)\n",
    "\n",
    "## Transform X_train and X_test\n",
    "X_train_ohe[ohe_cols] = encoder.transform(X_train[cat_cols])\n",
    "X_test_ohe[ohe_cols] = encoder.transform(X_test[cat_cols])\n",
    "\n",
    "X_train_ohe"
   ]
  },
  {
   "cell_type": "code",
   "execution_count": 19,
   "metadata": {
    "ExecuteTime": {
     "end_time": "2020-09-02T21:48:39.708865Z",
     "start_time": "2020-09-02T21:48:39.672646Z"
    }
   },
   "outputs": [
    {
     "data": {
      "text/html": [
       "<div>\n",
       "<style scoped>\n",
       "    .dataframe tbody tr th:only-of-type {\n",
       "        vertical-align: middle;\n",
       "    }\n",
       "\n",
       "    .dataframe tbody tr th {\n",
       "        vertical-align: top;\n",
       "    }\n",
       "\n",
       "    .dataframe thead th {\n",
       "        text-align: right;\n",
       "    }\n",
       "</style>\n",
       "<table border=\"1\" class=\"dataframe\">\n",
       "  <thead>\n",
       "    <tr style=\"text-align: right;\">\n",
       "      <th></th>\n",
       "      <th>Pclass</th>\n",
       "      <th>Age</th>\n",
       "      <th>SibSp</th>\n",
       "      <th>Fare</th>\n",
       "      <th>Sex_male</th>\n",
       "      <th>Embarked_Q</th>\n",
       "      <th>Embarked_S</th>\n",
       "    </tr>\n",
       "  </thead>\n",
       "  <tbody>\n",
       "    <tr>\n",
       "      <th>705</th>\n",
       "      <td>-0.280074</td>\n",
       "      <td>0.656961</td>\n",
       "      <td>-0.536520</td>\n",
       "      <td>-0.151087</td>\n",
       "      <td>1.0</td>\n",
       "      <td>0.0</td>\n",
       "      <td>1.0</td>\n",
       "    </tr>\n",
       "    <tr>\n",
       "      <th>559</th>\n",
       "      <td>0.922596</td>\n",
       "      <td>0.448871</td>\n",
       "      <td>0.551423</td>\n",
       "      <td>-0.332941</td>\n",
       "      <td>0.0</td>\n",
       "      <td>0.0</td>\n",
       "      <td>1.0</td>\n",
       "    </tr>\n",
       "    <tr>\n",
       "      <th>521</th>\n",
       "      <td>0.922596</td>\n",
       "      <td>-0.522217</td>\n",
       "      <td>-0.536520</td>\n",
       "      <td>-0.533915</td>\n",
       "      <td>1.0</td>\n",
       "      <td>0.0</td>\n",
       "      <td>1.0</td>\n",
       "    </tr>\n",
       "    <tr>\n",
       "      <th>314</th>\n",
       "      <td>-0.280074</td>\n",
       "      <td>0.934414</td>\n",
       "      <td>0.551423</td>\n",
       "      <td>-0.145800</td>\n",
       "      <td>1.0</td>\n",
       "      <td>0.0</td>\n",
       "      <td>1.0</td>\n",
       "    </tr>\n",
       "    <tr>\n",
       "      <th>429</th>\n",
       "      <td>0.922596</td>\n",
       "      <td>0.171417</td>\n",
       "      <td>-0.536520</td>\n",
       "      <td>-0.530654</td>\n",
       "      <td>1.0</td>\n",
       "      <td>0.0</td>\n",
       "      <td>1.0</td>\n",
       "    </tr>\n",
       "    <tr>\n",
       "      <th>...</th>\n",
       "      <td>...</td>\n",
       "      <td>...</td>\n",
       "      <td>...</td>\n",
       "      <td>...</td>\n",
       "      <td>...</td>\n",
       "      <td>...</td>\n",
       "      <td>...</td>\n",
       "    </tr>\n",
       "    <tr>\n",
       "      <th>483</th>\n",
       "      <td>0.922596</td>\n",
       "      <td>2.321682</td>\n",
       "      <td>-0.536520</td>\n",
       "      <td>-0.498143</td>\n",
       "      <td>0.0</td>\n",
       "      <td>0.0</td>\n",
       "      <td>1.0</td>\n",
       "    </tr>\n",
       "    <tr>\n",
       "      <th>885</th>\n",
       "      <td>0.922596</td>\n",
       "      <td>0.656961</td>\n",
       "      <td>-0.536520</td>\n",
       "      <td>-0.085006</td>\n",
       "      <td>0.0</td>\n",
       "      <td>1.0</td>\n",
       "      <td>0.0</td>\n",
       "    </tr>\n",
       "    <tr>\n",
       "      <th>882</th>\n",
       "      <td>0.922596</td>\n",
       "      <td>-0.522217</td>\n",
       "      <td>-0.536520</td>\n",
       "      <td>-0.478494</td>\n",
       "      <td>0.0</td>\n",
       "      <td>0.0</td>\n",
       "      <td>1.0</td>\n",
       "    </tr>\n",
       "    <tr>\n",
       "      <th>742</th>\n",
       "      <td>-1.482743</td>\n",
       "      <td>-0.591580</td>\n",
       "      <td>1.639367</td>\n",
       "      <td>4.847260</td>\n",
       "      <td>0.0</td>\n",
       "      <td>0.0</td>\n",
       "      <td>0.0</td>\n",
       "    </tr>\n",
       "    <tr>\n",
       "      <th>844</th>\n",
       "      <td>0.922596</td>\n",
       "      <td>-0.869034</td>\n",
       "      <td>-0.536520</td>\n",
       "      <td>-0.517703</td>\n",
       "      <td>1.0</td>\n",
       "      <td>0.0</td>\n",
       "      <td>1.0</td>\n",
       "    </tr>\n",
       "  </tbody>\n",
       "</table>\n",
       "<p>511 rows × 7 columns</p>\n",
       "</div>"
      ],
      "text/plain": [
       "       Pclass       Age     SibSp      Fare  Sex_male  Embarked_Q  Embarked_S\n",
       "705 -0.280074  0.656961 -0.536520 -0.151087       1.0         0.0         1.0\n",
       "559  0.922596  0.448871  0.551423 -0.332941       0.0         0.0         1.0\n",
       "521  0.922596 -0.522217 -0.536520 -0.533915       1.0         0.0         1.0\n",
       "314 -0.280074  0.934414  0.551423 -0.145800       1.0         0.0         1.0\n",
       "429  0.922596  0.171417 -0.536520 -0.530654       1.0         0.0         1.0\n",
       "..        ...       ...       ...       ...       ...         ...         ...\n",
       "483  0.922596  2.321682 -0.536520 -0.498143       0.0         0.0         1.0\n",
       "885  0.922596  0.656961 -0.536520 -0.085006       0.0         1.0         0.0\n",
       "882  0.922596 -0.522217 -0.536520 -0.478494       0.0         0.0         1.0\n",
       "742 -1.482743 -0.591580  1.639367  4.847260       0.0         0.0         0.0\n",
       "844  0.922596 -0.869034 -0.536520 -0.517703       1.0         0.0         1.0\n",
       "\n",
       "[511 rows x 7 columns]"
      ]
     },
     "execution_count": 19,
     "metadata": {},
     "output_type": "execute_result"
    }
   ],
   "source": [
    "## Scale data\n",
    "from sklearn.preprocessing import MinMaxScaler, StandardScaler\n",
    "scaler= StandardScaler()\n",
    "\n",
    "X_train_sca = X_train_ohe.copy()\n",
    "X_test_sca = X_test_ohe.copy()\n",
    "\n",
    "\n",
    "X_train_sca[num_cols] = scaler.fit_transform(X_train_sca[num_cols])\n",
    "X_test_sca[num_cols] = scaler.transform(X_test_sca[num_cols])\n",
    "\n",
    "X_train_sca"
   ]
  },
  {
   "cell_type": "code",
   "execution_count": 20,
   "metadata": {
    "ExecuteTime": {
     "end_time": "2020-09-02T21:48:39.760077Z",
     "start_time": "2020-09-02T21:48:39.711751Z"
    }
   },
   "outputs": [
    {
     "data": {
      "text/html": [
       "<div>\n",
       "<style scoped>\n",
       "    .dataframe tbody tr th:only-of-type {\n",
       "        vertical-align: middle;\n",
       "    }\n",
       "\n",
       "    .dataframe tbody tr th {\n",
       "        vertical-align: top;\n",
       "    }\n",
       "\n",
       "    .dataframe thead th {\n",
       "        text-align: right;\n",
       "    }\n",
       "</style>\n",
       "<table border=\"1\" class=\"dataframe\">\n",
       "  <thead>\n",
       "    <tr style=\"text-align: right;\">\n",
       "      <th></th>\n",
       "      <th>Pclass</th>\n",
       "      <th>Age</th>\n",
       "      <th>SibSp</th>\n",
       "      <th>Fare</th>\n",
       "      <th>Sex_male</th>\n",
       "      <th>Embarked_Q</th>\n",
       "      <th>Embarked_S</th>\n",
       "    </tr>\n",
       "  </thead>\n",
       "  <tbody>\n",
       "    <tr>\n",
       "      <th>count</th>\n",
       "      <td>511.00</td>\n",
       "      <td>511.00</td>\n",
       "      <td>511.00</td>\n",
       "      <td>511.00</td>\n",
       "      <td>511.00</td>\n",
       "      <td>511.00</td>\n",
       "      <td>511.00</td>\n",
       "    </tr>\n",
       "    <tr>\n",
       "      <th>mean</th>\n",
       "      <td>2.23</td>\n",
       "      <td>29.53</td>\n",
       "      <td>0.49</td>\n",
       "      <td>33.14</td>\n",
       "      <td>0.65</td>\n",
       "      <td>0.04</td>\n",
       "      <td>0.78</td>\n",
       "    </tr>\n",
       "    <tr>\n",
       "      <th>std</th>\n",
       "      <td>0.83</td>\n",
       "      <td>14.43</td>\n",
       "      <td>0.92</td>\n",
       "      <td>47.34</td>\n",
       "      <td>0.48</td>\n",
       "      <td>0.19</td>\n",
       "      <td>0.42</td>\n",
       "    </tr>\n",
       "    <tr>\n",
       "      <th>min</th>\n",
       "      <td>1.00</td>\n",
       "      <td>0.42</td>\n",
       "      <td>0.00</td>\n",
       "      <td>0.00</td>\n",
       "      <td>0.00</td>\n",
       "      <td>0.00</td>\n",
       "      <td>0.00</td>\n",
       "    </tr>\n",
       "    <tr>\n",
       "      <th>25%</th>\n",
       "      <td>1.00</td>\n",
       "      <td>20.00</td>\n",
       "      <td>0.00</td>\n",
       "      <td>8.05</td>\n",
       "      <td>0.00</td>\n",
       "      <td>0.00</td>\n",
       "      <td>1.00</td>\n",
       "    </tr>\n",
       "    <tr>\n",
       "      <th>50%</th>\n",
       "      <td>2.00</td>\n",
       "      <td>28.00</td>\n",
       "      <td>0.00</td>\n",
       "      <td>15.50</td>\n",
       "      <td>1.00</td>\n",
       "      <td>0.00</td>\n",
       "      <td>1.00</td>\n",
       "    </tr>\n",
       "    <tr>\n",
       "      <th>75%</th>\n",
       "      <td>3.00</td>\n",
       "      <td>38.00</td>\n",
       "      <td>1.00</td>\n",
       "      <td>33.00</td>\n",
       "      <td>1.00</td>\n",
       "      <td>0.00</td>\n",
       "      <td>1.00</td>\n",
       "    </tr>\n",
       "    <tr>\n",
       "      <th>max</th>\n",
       "      <td>3.00</td>\n",
       "      <td>74.00</td>\n",
       "      <td>5.00</td>\n",
       "      <td>512.33</td>\n",
       "      <td>1.00</td>\n",
       "      <td>1.00</td>\n",
       "      <td>1.00</td>\n",
       "    </tr>\n",
       "  </tbody>\n",
       "</table>\n",
       "</div>"
      ],
      "text/plain": [
       "       Pclass     Age   SibSp    Fare  Sex_male  Embarked_Q  Embarked_S\n",
       "count  511.00  511.00  511.00  511.00    511.00      511.00      511.00\n",
       "mean     2.23   29.53    0.49   33.14      0.65        0.04        0.78\n",
       "std      0.83   14.43    0.92   47.34      0.48        0.19        0.42\n",
       "min      1.00    0.42    0.00    0.00      0.00        0.00        0.00\n",
       "25%      1.00   20.00    0.00    8.05      0.00        0.00        1.00\n",
       "50%      2.00   28.00    0.00   15.50      1.00        0.00        1.00\n",
       "75%      3.00   38.00    1.00   33.00      1.00        0.00        1.00\n",
       "max      3.00   74.00    5.00  512.33      1.00        1.00        1.00"
      ]
     },
     "execution_count": 20,
     "metadata": {},
     "output_type": "execute_result"
    }
   ],
   "source": [
    "## Verify scaling\n",
    "X_train_ohe.describe().round(2)"
   ]
  },
  {
   "cell_type": "code",
   "execution_count": 21,
   "metadata": {
    "ExecuteTime": {
     "end_time": "2020-09-02T21:48:39.809556Z",
     "start_time": "2020-09-02T21:48:39.762423Z"
    }
   },
   "outputs": [
    {
     "data": {
      "text/html": [
       "<div>\n",
       "<style scoped>\n",
       "    .dataframe tbody tr th:only-of-type {\n",
       "        vertical-align: middle;\n",
       "    }\n",
       "\n",
       "    .dataframe tbody tr th {\n",
       "        vertical-align: top;\n",
       "    }\n",
       "\n",
       "    .dataframe thead th {\n",
       "        text-align: right;\n",
       "    }\n",
       "</style>\n",
       "<table border=\"1\" class=\"dataframe\">\n",
       "  <thead>\n",
       "    <tr style=\"text-align: right;\">\n",
       "      <th></th>\n",
       "      <th>Pclass</th>\n",
       "      <th>Age</th>\n",
       "      <th>SibSp</th>\n",
       "      <th>Fare</th>\n",
       "      <th>Sex_male</th>\n",
       "      <th>Embarked_Q</th>\n",
       "      <th>Embarked_S</th>\n",
       "    </tr>\n",
       "  </thead>\n",
       "  <tbody>\n",
       "    <tr>\n",
       "      <th>count</th>\n",
       "      <td>511.00</td>\n",
       "      <td>511.00</td>\n",
       "      <td>511.00</td>\n",
       "      <td>511.00</td>\n",
       "      <td>511.00</td>\n",
       "      <td>511.00</td>\n",
       "      <td>511.00</td>\n",
       "    </tr>\n",
       "    <tr>\n",
       "      <th>mean</th>\n",
       "      <td>-0.00</td>\n",
       "      <td>-0.00</td>\n",
       "      <td>0.00</td>\n",
       "      <td>-0.00</td>\n",
       "      <td>0.65</td>\n",
       "      <td>0.04</td>\n",
       "      <td>0.78</td>\n",
       "    </tr>\n",
       "    <tr>\n",
       "      <th>std</th>\n",
       "      <td>1.00</td>\n",
       "      <td>1.00</td>\n",
       "      <td>1.00</td>\n",
       "      <td>1.00</td>\n",
       "      <td>0.48</td>\n",
       "      <td>0.19</td>\n",
       "      <td>0.42</td>\n",
       "    </tr>\n",
       "    <tr>\n",
       "      <th>min</th>\n",
       "      <td>-1.48</td>\n",
       "      <td>-2.02</td>\n",
       "      <td>-0.54</td>\n",
       "      <td>-0.70</td>\n",
       "      <td>0.00</td>\n",
       "      <td>0.00</td>\n",
       "      <td>0.00</td>\n",
       "    </tr>\n",
       "    <tr>\n",
       "      <th>25%</th>\n",
       "      <td>-1.48</td>\n",
       "      <td>-0.66</td>\n",
       "      <td>-0.54</td>\n",
       "      <td>-0.53</td>\n",
       "      <td>0.00</td>\n",
       "      <td>0.00</td>\n",
       "      <td>1.00</td>\n",
       "    </tr>\n",
       "    <tr>\n",
       "      <th>50%</th>\n",
       "      <td>-0.28</td>\n",
       "      <td>-0.11</td>\n",
       "      <td>-0.54</td>\n",
       "      <td>-0.37</td>\n",
       "      <td>1.00</td>\n",
       "      <td>0.00</td>\n",
       "      <td>1.00</td>\n",
       "    </tr>\n",
       "    <tr>\n",
       "      <th>75%</th>\n",
       "      <td>0.92</td>\n",
       "      <td>0.59</td>\n",
       "      <td>0.55</td>\n",
       "      <td>-0.00</td>\n",
       "      <td>1.00</td>\n",
       "      <td>0.00</td>\n",
       "      <td>1.00</td>\n",
       "    </tr>\n",
       "    <tr>\n",
       "      <th>max</th>\n",
       "      <td>0.92</td>\n",
       "      <td>3.08</td>\n",
       "      <td>4.90</td>\n",
       "      <td>10.13</td>\n",
       "      <td>1.00</td>\n",
       "      <td>1.00</td>\n",
       "      <td>1.00</td>\n",
       "    </tr>\n",
       "  </tbody>\n",
       "</table>\n",
       "</div>"
      ],
      "text/plain": [
       "       Pclass     Age   SibSp    Fare  Sex_male  Embarked_Q  Embarked_S\n",
       "count  511.00  511.00  511.00  511.00    511.00      511.00      511.00\n",
       "mean    -0.00   -0.00    0.00   -0.00      0.65        0.04        0.78\n",
       "std      1.00    1.00    1.00    1.00      0.48        0.19        0.42\n",
       "min     -1.48   -2.02   -0.54   -0.70      0.00        0.00        0.00\n",
       "25%     -1.48   -0.66   -0.54   -0.53      0.00        0.00        1.00\n",
       "50%     -0.28   -0.11   -0.54   -0.37      1.00        0.00        1.00\n",
       "75%      0.92    0.59    0.55   -0.00      1.00        0.00        1.00\n",
       "max      0.92    3.08    4.90   10.13      1.00        1.00        1.00"
      ]
     },
     "execution_count": 21,
     "metadata": {},
     "output_type": "execute_result"
    }
   ],
   "source": [
    "X_train_sca.describe().round(2)"
   ]
  },
  {
   "cell_type": "markdown",
   "metadata": {},
   "source": [
    "## Fitting a Logistic Regression with `statsmodels`"
   ]
  },
  {
   "cell_type": "code",
   "execution_count": 22,
   "metadata": {
    "ExecuteTime": {
     "end_time": "2020-09-02T21:48:40.221919Z",
     "start_time": "2020-09-02T21:48:39.811720Z"
    }
   },
   "outputs": [],
   "source": [
    "import statsmodels.api as sm"
   ]
  },
  {
   "cell_type": "code",
   "execution_count": 23,
   "metadata": {
    "ExecuteTime": {
     "end_time": "2020-09-02T21:48:40.236634Z",
     "start_time": "2020-09-02T21:48:40.231291Z"
    }
   },
   "outputs": [
    {
     "data": {
      "text/plain": [
       "0    321\n",
       "1    190\n",
       "Name: Survived, dtype: int64"
      ]
     },
     "execution_count": 23,
     "metadata": {},
     "output_type": "execute_result"
    }
   ],
   "source": [
    "y_train.value_counts()"
   ]
  },
  {
   "cell_type": "code",
   "execution_count": 24,
   "metadata": {
    "ExecuteTime": {
     "end_time": "2020-09-02T21:48:40.269071Z",
     "start_time": "2020-09-02T21:48:40.242487Z"
    }
   },
   "outputs": [
    {
     "data": {
      "text/html": [
       "<div>\n",
       "<style scoped>\n",
       "    .dataframe tbody tr th:only-of-type {\n",
       "        vertical-align: middle;\n",
       "    }\n",
       "\n",
       "    .dataframe tbody tr th {\n",
       "        vertical-align: top;\n",
       "    }\n",
       "\n",
       "    .dataframe thead th {\n",
       "        text-align: right;\n",
       "    }\n",
       "</style>\n",
       "<table border=\"1\" class=\"dataframe\">\n",
       "  <thead>\n",
       "    <tr style=\"text-align: right;\">\n",
       "      <th></th>\n",
       "      <th>const</th>\n",
       "      <th>Pclass</th>\n",
       "      <th>Age</th>\n",
       "      <th>SibSp</th>\n",
       "      <th>Fare</th>\n",
       "      <th>Sex_male</th>\n",
       "      <th>Embarked_Q</th>\n",
       "      <th>Embarked_S</th>\n",
       "    </tr>\n",
       "  </thead>\n",
       "  <tbody>\n",
       "    <tr>\n",
       "      <th>705</th>\n",
       "      <td>1.0</td>\n",
       "      <td>-0.280074</td>\n",
       "      <td>0.656961</td>\n",
       "      <td>-0.536520</td>\n",
       "      <td>-0.151087</td>\n",
       "      <td>1.0</td>\n",
       "      <td>0.0</td>\n",
       "      <td>1.0</td>\n",
       "    </tr>\n",
       "    <tr>\n",
       "      <th>559</th>\n",
       "      <td>1.0</td>\n",
       "      <td>0.922596</td>\n",
       "      <td>0.448871</td>\n",
       "      <td>0.551423</td>\n",
       "      <td>-0.332941</td>\n",
       "      <td>0.0</td>\n",
       "      <td>0.0</td>\n",
       "      <td>1.0</td>\n",
       "    </tr>\n",
       "    <tr>\n",
       "      <th>521</th>\n",
       "      <td>1.0</td>\n",
       "      <td>0.922596</td>\n",
       "      <td>-0.522217</td>\n",
       "      <td>-0.536520</td>\n",
       "      <td>-0.533915</td>\n",
       "      <td>1.0</td>\n",
       "      <td>0.0</td>\n",
       "      <td>1.0</td>\n",
       "    </tr>\n",
       "    <tr>\n",
       "      <th>314</th>\n",
       "      <td>1.0</td>\n",
       "      <td>-0.280074</td>\n",
       "      <td>0.934414</td>\n",
       "      <td>0.551423</td>\n",
       "      <td>-0.145800</td>\n",
       "      <td>1.0</td>\n",
       "      <td>0.0</td>\n",
       "      <td>1.0</td>\n",
       "    </tr>\n",
       "    <tr>\n",
       "      <th>429</th>\n",
       "      <td>1.0</td>\n",
       "      <td>0.922596</td>\n",
       "      <td>0.171417</td>\n",
       "      <td>-0.536520</td>\n",
       "      <td>-0.530654</td>\n",
       "      <td>1.0</td>\n",
       "      <td>0.0</td>\n",
       "      <td>1.0</td>\n",
       "    </tr>\n",
       "    <tr>\n",
       "      <th>...</th>\n",
       "      <td>...</td>\n",
       "      <td>...</td>\n",
       "      <td>...</td>\n",
       "      <td>...</td>\n",
       "      <td>...</td>\n",
       "      <td>...</td>\n",
       "      <td>...</td>\n",
       "      <td>...</td>\n",
       "    </tr>\n",
       "    <tr>\n",
       "      <th>483</th>\n",
       "      <td>1.0</td>\n",
       "      <td>0.922596</td>\n",
       "      <td>2.321682</td>\n",
       "      <td>-0.536520</td>\n",
       "      <td>-0.498143</td>\n",
       "      <td>0.0</td>\n",
       "      <td>0.0</td>\n",
       "      <td>1.0</td>\n",
       "    </tr>\n",
       "    <tr>\n",
       "      <th>885</th>\n",
       "      <td>1.0</td>\n",
       "      <td>0.922596</td>\n",
       "      <td>0.656961</td>\n",
       "      <td>-0.536520</td>\n",
       "      <td>-0.085006</td>\n",
       "      <td>0.0</td>\n",
       "      <td>1.0</td>\n",
       "      <td>0.0</td>\n",
       "    </tr>\n",
       "    <tr>\n",
       "      <th>882</th>\n",
       "      <td>1.0</td>\n",
       "      <td>0.922596</td>\n",
       "      <td>-0.522217</td>\n",
       "      <td>-0.536520</td>\n",
       "      <td>-0.478494</td>\n",
       "      <td>0.0</td>\n",
       "      <td>0.0</td>\n",
       "      <td>1.0</td>\n",
       "    </tr>\n",
       "    <tr>\n",
       "      <th>742</th>\n",
       "      <td>1.0</td>\n",
       "      <td>-1.482743</td>\n",
       "      <td>-0.591580</td>\n",
       "      <td>1.639367</td>\n",
       "      <td>4.847260</td>\n",
       "      <td>0.0</td>\n",
       "      <td>0.0</td>\n",
       "      <td>0.0</td>\n",
       "    </tr>\n",
       "    <tr>\n",
       "      <th>844</th>\n",
       "      <td>1.0</td>\n",
       "      <td>0.922596</td>\n",
       "      <td>-0.869034</td>\n",
       "      <td>-0.536520</td>\n",
       "      <td>-0.517703</td>\n",
       "      <td>1.0</td>\n",
       "      <td>0.0</td>\n",
       "      <td>1.0</td>\n",
       "    </tr>\n",
       "  </tbody>\n",
       "</table>\n",
       "<p>511 rows × 8 columns</p>\n",
       "</div>"
      ],
      "text/plain": [
       "     const    Pclass       Age     SibSp      Fare  Sex_male  Embarked_Q  \\\n",
       "705    1.0 -0.280074  0.656961 -0.536520 -0.151087       1.0         0.0   \n",
       "559    1.0  0.922596  0.448871  0.551423 -0.332941       0.0         0.0   \n",
       "521    1.0  0.922596 -0.522217 -0.536520 -0.533915       1.0         0.0   \n",
       "314    1.0 -0.280074  0.934414  0.551423 -0.145800       1.0         0.0   \n",
       "429    1.0  0.922596  0.171417 -0.536520 -0.530654       1.0         0.0   \n",
       "..     ...       ...       ...       ...       ...       ...         ...   \n",
       "483    1.0  0.922596  2.321682 -0.536520 -0.498143       0.0         0.0   \n",
       "885    1.0  0.922596  0.656961 -0.536520 -0.085006       0.0         1.0   \n",
       "882    1.0  0.922596 -0.522217 -0.536520 -0.478494       0.0         0.0   \n",
       "742    1.0 -1.482743 -0.591580  1.639367  4.847260       0.0         0.0   \n",
       "844    1.0  0.922596 -0.869034 -0.536520 -0.517703       1.0         0.0   \n",
       "\n",
       "     Embarked_S  \n",
       "705         1.0  \n",
       "559         1.0  \n",
       "521         1.0  \n",
       "314         1.0  \n",
       "429         1.0  \n",
       "..          ...  \n",
       "483         1.0  \n",
       "885         0.0  \n",
       "882         1.0  \n",
       "742         0.0  \n",
       "844         1.0  \n",
       "\n",
       "[511 rows x 8 columns]"
      ]
     },
     "execution_count": 24,
     "metadata": {},
     "output_type": "execute_result"
    }
   ],
   "source": [
    "X_train_sms = sm.add_constant(X_train_sca)\n",
    "X_test_sms = sm.add_constant(X_test_sca)\n",
    "X_train_sms"
   ]
  },
  {
   "cell_type": "code",
   "execution_count": 25,
   "metadata": {
    "ExecuteTime": {
     "end_time": "2020-09-02T21:48:40.303738Z",
     "start_time": "2020-09-02T21:48:40.271548Z"
    },
    "scrolled": false
   },
   "outputs": [
    {
     "name": "stdout",
     "output_type": "stream",
     "text": [
      "Optimization terminated successfully.\n",
      "         Current function value: 0.422151\n",
      "         Iterations 6\n"
     ]
    },
    {
     "data": {
      "text/html": [
       "<table class=\"simpletable\">\n",
       "<caption>Logit Regression Results</caption>\n",
       "<tr>\n",
       "  <th>Dep. Variable:</th>       <td>Survived</td>     <th>  No. Observations:  </th>  <td>   511</td>  \n",
       "</tr>\n",
       "<tr>\n",
       "  <th>Model:</th>                 <td>Logit</td>      <th>  Df Residuals:      </th>  <td>   503</td>  \n",
       "</tr>\n",
       "<tr>\n",
       "  <th>Method:</th>                 <td>MLE</td>       <th>  Df Model:          </th>  <td>     7</td>  \n",
       "</tr>\n",
       "<tr>\n",
       "  <th>Date:</th>            <td>Wed, 02 Sep 2020</td> <th>  Pseudo R-squ.:     </th>  <td>0.3603</td>  \n",
       "</tr>\n",
       "<tr>\n",
       "  <th>Time:</th>                <td>17:48:40</td>     <th>  Log-Likelihood:    </th> <td> -215.72</td> \n",
       "</tr>\n",
       "<tr>\n",
       "  <th>converged:</th>             <td>True</td>       <th>  LL-Null:           </th> <td> -337.22</td> \n",
       "</tr>\n",
       "<tr>\n",
       "  <th>Covariance Type:</th>     <td>nonrobust</td>    <th>  LLR p-value:       </th> <td>8.564e-49</td>\n",
       "</tr>\n",
       "</table>\n",
       "<table class=\"simpletable\">\n",
       "<tr>\n",
       "       <td></td>         <th>coef</th>     <th>std err</th>      <th>z</th>      <th>P>|z|</th>  <th>[0.025</th>    <th>0.975]</th>  \n",
       "</tr>\n",
       "<tr>\n",
       "  <th>const</th>      <td>    1.4746</td> <td>    0.329</td> <td>    4.475</td> <td> 0.000</td> <td>    0.829</td> <td>    2.120</td>\n",
       "</tr>\n",
       "<tr>\n",
       "  <th>Pclass</th>     <td>   -1.0147</td> <td>    0.165</td> <td>   -6.148</td> <td> 0.000</td> <td>   -1.338</td> <td>   -0.691</td>\n",
       "</tr>\n",
       "<tr>\n",
       "  <th>Age</th>        <td>   -0.6972</td> <td>    0.144</td> <td>   -4.854</td> <td> 0.000</td> <td>   -0.979</td> <td>   -0.416</td>\n",
       "</tr>\n",
       "<tr>\n",
       "  <th>SibSp</th>      <td>   -0.2736</td> <td>    0.140</td> <td>   -1.948</td> <td> 0.051</td> <td>   -0.549</td> <td>    0.002</td>\n",
       "</tr>\n",
       "<tr>\n",
       "  <th>Fare</th>       <td>   -0.0272</td> <td>    0.140</td> <td>   -0.195</td> <td> 0.846</td> <td>   -0.301</td> <td>    0.247</td>\n",
       "</tr>\n",
       "<tr>\n",
       "  <th>Sex_male</th>   <td>   -2.7507</td> <td>    0.265</td> <td>  -10.399</td> <td> 0.000</td> <td>   -3.269</td> <td>   -2.232</td>\n",
       "</tr>\n",
       "<tr>\n",
       "  <th>Embarked_Q</th> <td>   -1.6988</td> <td>    0.793</td> <td>   -2.143</td> <td> 0.032</td> <td>   -3.253</td> <td>   -0.145</td>\n",
       "</tr>\n",
       "<tr>\n",
       "  <th>Embarked_S</th> <td>   -0.4827</td> <td>    0.322</td> <td>   -1.497</td> <td> 0.134</td> <td>   -1.115</td> <td>    0.149</td>\n",
       "</tr>\n",
       "</table>"
      ],
      "text/plain": [
       "<class 'statsmodels.iolib.summary.Summary'>\n",
       "\"\"\"\n",
       "                           Logit Regression Results                           \n",
       "==============================================================================\n",
       "Dep. Variable:               Survived   No. Observations:                  511\n",
       "Model:                          Logit   Df Residuals:                      503\n",
       "Method:                           MLE   Df Model:                            7\n",
       "Date:                Wed, 02 Sep 2020   Pseudo R-squ.:                  0.3603\n",
       "Time:                        17:48:40   Log-Likelihood:                -215.72\n",
       "converged:                       True   LL-Null:                       -337.22\n",
       "Covariance Type:            nonrobust   LLR p-value:                 8.564e-49\n",
       "==============================================================================\n",
       "                 coef    std err          z      P>|z|      [0.025      0.975]\n",
       "------------------------------------------------------------------------------\n",
       "const          1.4746      0.329      4.475      0.000       0.829       2.120\n",
       "Pclass        -1.0147      0.165     -6.148      0.000      -1.338      -0.691\n",
       "Age           -0.6972      0.144     -4.854      0.000      -0.979      -0.416\n",
       "SibSp         -0.2736      0.140     -1.948      0.051      -0.549       0.002\n",
       "Fare          -0.0272      0.140     -0.195      0.846      -0.301       0.247\n",
       "Sex_male      -2.7507      0.265    -10.399      0.000      -3.269      -2.232\n",
       "Embarked_Q    -1.6988      0.793     -2.143      0.032      -3.253      -0.145\n",
       "Embarked_S    -0.4827      0.322     -1.497      0.134      -1.115       0.149\n",
       "==============================================================================\n",
       "\"\"\""
      ]
     },
     "execution_count": 25,
     "metadata": {},
     "output_type": "execute_result"
    }
   ],
   "source": [
    "logit = sm.Logit(y_train,X_train_sms).fit()\n",
    "logit.summary()"
   ]
  },
  {
   "cell_type": "code",
   "execution_count": 26,
   "metadata": {
    "ExecuteTime": {
     "end_time": "2020-09-02T21:48:40.319129Z",
     "start_time": "2020-09-02T21:48:40.306472Z"
    }
   },
   "outputs": [
    {
     "data": {
      "text/plain": [
       "705    0.0\n",
       "559    0.0\n",
       "521    0.0\n",
       "314    0.0\n",
       "429    0.0\n",
       "dtype: float64"
      ]
     },
     "metadata": {},
     "output_type": "display_data"
    },
    {
     "data": {
      "text/plain": [
       "705    0\n",
       "559    1\n",
       "521    0\n",
       "314    0\n",
       "429    1\n",
       "Name: Survived, dtype: int64"
      ]
     },
     "metadata": {},
     "output_type": "display_data"
    }
   ],
   "source": [
    "from sklearn import metrics\n",
    "y_hat_train = logit.predict(X_train_sms).round()\n",
    "y_hat_test = logit.predict(X_test_sms).round()\n",
    "display(y_hat_train.head(),y_train.head())"
   ]
  },
  {
   "cell_type": "code",
   "execution_count": 27,
   "metadata": {
    "ExecuteTime": {
     "end_time": "2020-09-02T21:48:40.339806Z",
     "start_time": "2020-09-02T21:48:40.321865Z"
    },
    "code_folding": [
     0,
     5
    ]
   },
   "outputs": [],
   "source": [
    "def remake_df(array,df):\n",
    "    \"\"\"Returns the array as a df with the same columns and index as df\"\"\"\n",
    "    return pd.DataFrame(array, columns=df.columns, index=df.index)\n",
    "\n",
    "\n",
    "def plot_confusion_matrix(y_test,y_hat_test, normalize='true',\n",
    "                          classes=['Died','Survived'],cmap='Blues',\n",
    "                         style='seaborn-notebook'):\n",
    "    \"\"\"Plots Confusion Matrix from sklearn.\"\"\"\n",
    "    \n",
    "    cm = metrics.confusion_matrix(y_test,y_hat_test.round(),\n",
    "                                  normalize=normalize)\n",
    "    \n",
    "    with plt.style.context(style):\n",
    "        ax = sns.heatmap(cm,annot=True,square=True, center=0,cmap=cmap,\n",
    "                   xticklabels=classes,yticklabels=classes)\n",
    "        \n",
    "    if normalize==False:\n",
    "        title = \"Raw Confusion Matrix\"\n",
    "    else:\n",
    "        title = f\"Normalized Confusion Matrix\\n(by {normalize} classes)\"\n",
    "        \n",
    "    ax.set(ylabel='True Classes',xlabel='Predicted Classes',title=title)\n",
    "    fig = ax.get_figure()\n",
    "    \n",
    "    return fig,ax\n",
    "\n",
    "\n",
    "def evaluate_statsmodel(y_test,y_hat_test,classes=['Died','Survived'],\n",
    "                   normalize='true',cmap='Blues'):\n",
    "    \"\"\"Evaluates Classification models by displaying:\n",
    "    - Classification Report\n",
    "    - Normalized Confusion Matrix\"\"\"\n",
    "    dashes = '---'*20\n",
    "    print(dashes)\n",
    "    print(\"[i] CLASSIFICATION REPORT\")\n",
    "    print(dashes)\n",
    "    \n",
    "    print(metrics.classification_report(y_test,y_hat_test.round(),\n",
    "                                        target_names=classes))\n",
    "    print(dashes)\n",
    "    fig,ax = plot_confusion_matrix(y_test,y_hat_test)\n",
    "\n",
    "    \n",
    "def get_model_coeffs(X_df,model, statsmodels=True):\n",
    "        \n",
    "    if statsmodels == False:\n",
    "        coeffs_df = pd.DataFrame({'Coefficients':model.coef_[0]},index=X_df.columns)\n",
    "        coeffs_df.loc['const'] = model.intercept_\n",
    "        coeffs_df\n",
    "        # dict(zip(X_df.col\n",
    "#         coeffs_df = pd.DataFrame(coeffs,index=['Coefficents']).Tx\n",
    "\n",
    "    else:\n",
    "        coeffs_df = pd.DataFrame({\n",
    "            'Coefficents':model.params,\n",
    "            'p-values':model.pvalues.round(4)\n",
    "        })\n",
    "        \n",
    "    return coeffs_df"
   ]
  },
  {
   "cell_type": "code",
   "execution_count": 28,
   "metadata": {
    "ExecuteTime": {
     "end_time": "2020-09-02T21:48:40.634644Z",
     "start_time": "2020-09-02T21:48:40.342843Z"
    }
   },
   "outputs": [
    {
     "name": "stdout",
     "output_type": "stream",
     "text": [
      "Optimization terminated successfully.\n",
      "         Current function value: 0.422151\n",
      "         Iterations 6\n"
     ]
    },
    {
     "data": {
      "text/html": [
       "<table class=\"simpletable\">\n",
       "<caption>Logit Regression Results</caption>\n",
       "<tr>\n",
       "  <th>Dep. Variable:</th>       <td>Survived</td>     <th>  No. Observations:  </th>  <td>   511</td>  \n",
       "</tr>\n",
       "<tr>\n",
       "  <th>Model:</th>                 <td>Logit</td>      <th>  Df Residuals:      </th>  <td>   503</td>  \n",
       "</tr>\n",
       "<tr>\n",
       "  <th>Method:</th>                 <td>MLE</td>       <th>  Df Model:          </th>  <td>     7</td>  \n",
       "</tr>\n",
       "<tr>\n",
       "  <th>Date:</th>            <td>Wed, 02 Sep 2020</td> <th>  Pseudo R-squ.:     </th>  <td>0.3603</td>  \n",
       "</tr>\n",
       "<tr>\n",
       "  <th>Time:</th>                <td>17:48:40</td>     <th>  Log-Likelihood:    </th> <td> -215.72</td> \n",
       "</tr>\n",
       "<tr>\n",
       "  <th>converged:</th>             <td>True</td>       <th>  LL-Null:           </th> <td> -337.22</td> \n",
       "</tr>\n",
       "<tr>\n",
       "  <th>Covariance Type:</th>     <td>nonrobust</td>    <th>  LLR p-value:       </th> <td>8.564e-49</td>\n",
       "</tr>\n",
       "</table>\n",
       "<table class=\"simpletable\">\n",
       "<tr>\n",
       "       <td></td>         <th>coef</th>     <th>std err</th>      <th>z</th>      <th>P>|z|</th>  <th>[0.025</th>    <th>0.975]</th>  \n",
       "</tr>\n",
       "<tr>\n",
       "  <th>const</th>      <td>    1.4746</td> <td>    0.329</td> <td>    4.475</td> <td> 0.000</td> <td>    0.829</td> <td>    2.120</td>\n",
       "</tr>\n",
       "<tr>\n",
       "  <th>Pclass</th>     <td>   -1.0147</td> <td>    0.165</td> <td>   -6.148</td> <td> 0.000</td> <td>   -1.338</td> <td>   -0.691</td>\n",
       "</tr>\n",
       "<tr>\n",
       "  <th>Age</th>        <td>   -0.6972</td> <td>    0.144</td> <td>   -4.854</td> <td> 0.000</td> <td>   -0.979</td> <td>   -0.416</td>\n",
       "</tr>\n",
       "<tr>\n",
       "  <th>SibSp</th>      <td>   -0.2736</td> <td>    0.140</td> <td>   -1.948</td> <td> 0.051</td> <td>   -0.549</td> <td>    0.002</td>\n",
       "</tr>\n",
       "<tr>\n",
       "  <th>Fare</th>       <td>   -0.0272</td> <td>    0.140</td> <td>   -0.195</td> <td> 0.846</td> <td>   -0.301</td> <td>    0.247</td>\n",
       "</tr>\n",
       "<tr>\n",
       "  <th>Sex_male</th>   <td>   -2.7507</td> <td>    0.265</td> <td>  -10.399</td> <td> 0.000</td> <td>   -3.269</td> <td>   -2.232</td>\n",
       "</tr>\n",
       "<tr>\n",
       "  <th>Embarked_Q</th> <td>   -1.6988</td> <td>    0.793</td> <td>   -2.143</td> <td> 0.032</td> <td>   -3.253</td> <td>   -0.145</td>\n",
       "</tr>\n",
       "<tr>\n",
       "  <th>Embarked_S</th> <td>   -0.4827</td> <td>    0.322</td> <td>   -1.497</td> <td> 0.134</td> <td>   -1.115</td> <td>    0.149</td>\n",
       "</tr>\n",
       "</table>"
      ],
      "text/plain": [
       "<class 'statsmodels.iolib.summary.Summary'>\n",
       "\"\"\"\n",
       "                           Logit Regression Results                           \n",
       "==============================================================================\n",
       "Dep. Variable:               Survived   No. Observations:                  511\n",
       "Model:                          Logit   Df Residuals:                      503\n",
       "Method:                           MLE   Df Model:                            7\n",
       "Date:                Wed, 02 Sep 2020   Pseudo R-squ.:                  0.3603\n",
       "Time:                        17:48:40   Log-Likelihood:                -215.72\n",
       "converged:                       True   LL-Null:                       -337.22\n",
       "Covariance Type:            nonrobust   LLR p-value:                 8.564e-49\n",
       "==============================================================================\n",
       "                 coef    std err          z      P>|z|      [0.025      0.975]\n",
       "------------------------------------------------------------------------------\n",
       "const          1.4746      0.329      4.475      0.000       0.829       2.120\n",
       "Pclass        -1.0147      0.165     -6.148      0.000      -1.338      -0.691\n",
       "Age           -0.6972      0.144     -4.854      0.000      -0.979      -0.416\n",
       "SibSp         -0.2736      0.140     -1.948      0.051      -0.549       0.002\n",
       "Fare          -0.0272      0.140     -0.195      0.846      -0.301       0.247\n",
       "Sex_male      -2.7507      0.265    -10.399      0.000      -3.269      -2.232\n",
       "Embarked_Q    -1.6988      0.793     -2.143      0.032      -3.253      -0.145\n",
       "Embarked_S    -0.4827      0.322     -1.497      0.134      -1.115       0.149\n",
       "==============================================================================\n",
       "\"\"\""
      ]
     },
     "metadata": {},
     "output_type": "display_data"
    },
    {
     "name": "stdout",
     "output_type": "stream",
     "text": [
      "------------------------------------------------------------\n",
      "[i] CLASSIFICATION REPORT\n",
      "------------------------------------------------------------\n",
      "              precision    recall  f1-score   support\n",
      "\n",
      "        Died       0.71      0.84      0.77        88\n",
      "    Survived       0.77      0.61      0.68        77\n",
      "\n",
      "    accuracy                           0.73       165\n",
      "   macro avg       0.74      0.73      0.73       165\n",
      "weighted avg       0.74      0.73      0.73       165\n",
      "\n",
      "------------------------------------------------------------\n"
     ]
    },
    {
     "data": {
      "image/png": "[encoded data removed]",
      "text/plain": [
       "<Figure size 576x396 with 2 Axes>"
      ]
     },
     "metadata": {
      "needs_background": "light"
     },
     "output_type": "display_data"
    }
   ],
   "source": [
    "## Putting it all Together\n",
    "logit = sm.Logit(y_train,X_train_sms).fit()\n",
    "display(logit.summary())\n",
    "\n",
    "y_hat_train = logit.predict(X_train_sms).round()\n",
    "y_hat_test = logit.predict(X_test_sms).round()\n",
    "evaluate_statsmodel(y_test,y_hat_test)"
   ]
  },
  {
   "cell_type": "code",
   "execution_count": 29,
   "metadata": {
    "ExecuteTime": {
     "end_time": "2020-09-02T21:48:40.930922Z",
     "start_time": "2020-09-02T21:48:40.636668Z"
    },
    "scrolled": false
   },
   "outputs": [
    {
     "name": "stdout",
     "output_type": "stream",
     "text": [
      "Optimization terminated successfully.\n",
      "         Current function value: 0.422151\n",
      "         Iterations 6\n"
     ]
    },
    {
     "data": {
      "text/html": [
       "<table class=\"simpletable\">\n",
       "<caption>Logit Regression Results</caption>\n",
       "<tr>\n",
       "  <th>Dep. Variable:</th>       <td>Survived</td>     <th>  No. Observations:  </th>  <td>   511</td>  \n",
       "</tr>\n",
       "<tr>\n",
       "  <th>Model:</th>                 <td>Logit</td>      <th>  Df Residuals:      </th>  <td>   503</td>  \n",
       "</tr>\n",
       "<tr>\n",
       "  <th>Method:</th>                 <td>MLE</td>       <th>  Df Model:          </th>  <td>     7</td>  \n",
       "</tr>\n",
       "<tr>\n",
       "  <th>Date:</th>            <td>Wed, 02 Sep 2020</td> <th>  Pseudo R-squ.:     </th>  <td>0.3603</td>  \n",
       "</tr>\n",
       "<tr>\n",
       "  <th>Time:</th>                <td>17:48:40</td>     <th>  Log-Likelihood:    </th> <td> -215.72</td> \n",
       "</tr>\n",
       "<tr>\n",
       "  <th>converged:</th>             <td>True</td>       <th>  LL-Null:           </th> <td> -337.22</td> \n",
       "</tr>\n",
       "<tr>\n",
       "  <th>Covariance Type:</th>     <td>nonrobust</td>    <th>  LLR p-value:       </th> <td>8.564e-49</td>\n",
       "</tr>\n",
       "</table>\n",
       "<table class=\"simpletable\">\n",
       "<tr>\n",
       "       <td></td>         <th>coef</th>     <th>std err</th>      <th>z</th>      <th>P>|z|</th>  <th>[0.025</th>    <th>0.975]</th>  \n",
       "</tr>\n",
       "<tr>\n",
       "  <th>const</th>      <td>    1.4746</td> <td>    0.329</td> <td>    4.475</td> <td> 0.000</td> <td>    0.829</td> <td>    2.120</td>\n",
       "</tr>\n",
       "<tr>\n",
       "  <th>Pclass</th>     <td>   -1.0147</td> <td>    0.165</td> <td>   -6.148</td> <td> 0.000</td> <td>   -1.338</td> <td>   -0.691</td>\n",
       "</tr>\n",
       "<tr>\n",
       "  <th>Age</th>        <td>   -0.6972</td> <td>    0.144</td> <td>   -4.854</td> <td> 0.000</td> <td>   -0.979</td> <td>   -0.416</td>\n",
       "</tr>\n",
       "<tr>\n",
       "  <th>SibSp</th>      <td>   -0.2736</td> <td>    0.140</td> <td>   -1.948</td> <td> 0.051</td> <td>   -0.549</td> <td>    0.002</td>\n",
       "</tr>\n",
       "<tr>\n",
       "  <th>Fare</th>       <td>   -0.0272</td> <td>    0.140</td> <td>   -0.195</td> <td> 0.846</td> <td>   -0.301</td> <td>    0.247</td>\n",
       "</tr>\n",
       "<tr>\n",
       "  <th>Sex_male</th>   <td>   -2.7507</td> <td>    0.265</td> <td>  -10.399</td> <td> 0.000</td> <td>   -3.269</td> <td>   -2.232</td>\n",
       "</tr>\n",
       "<tr>\n",
       "  <th>Embarked_Q</th> <td>   -1.6988</td> <td>    0.793</td> <td>   -2.143</td> <td> 0.032</td> <td>   -3.253</td> <td>   -0.145</td>\n",
       "</tr>\n",
       "<tr>\n",
       "  <th>Embarked_S</th> <td>   -0.4827</td> <td>    0.322</td> <td>   -1.497</td> <td> 0.134</td> <td>   -1.115</td> <td>    0.149</td>\n",
       "</tr>\n",
       "</table>"
      ],
      "text/plain": [
       "<class 'statsmodels.iolib.summary.Summary'>\n",
       "\"\"\"\n",
       "                           Logit Regression Results                           \n",
       "==============================================================================\n",
       "Dep. Variable:               Survived   No. Observations:                  511\n",
       "Model:                          Logit   Df Residuals:                      503\n",
       "Method:                           MLE   Df Model:                            7\n",
       "Date:                Wed, 02 Sep 2020   Pseudo R-squ.:                  0.3603\n",
       "Time:                        17:48:40   Log-Likelihood:                -215.72\n",
       "converged:                       True   LL-Null:                       -337.22\n",
       "Covariance Type:            nonrobust   LLR p-value:                 8.564e-49\n",
       "==============================================================================\n",
       "                 coef    std err          z      P>|z|      [0.025      0.975]\n",
       "------------------------------------------------------------------------------\n",
       "const          1.4746      0.329      4.475      0.000       0.829       2.120\n",
       "Pclass        -1.0147      0.165     -6.148      0.000      -1.338      -0.691\n",
       "Age           -0.6972      0.144     -4.854      0.000      -0.979      -0.416\n",
       "SibSp         -0.2736      0.140     -1.948      0.051      -0.549       0.002\n",
       "Fare          -0.0272      0.140     -0.195      0.846      -0.301       0.247\n",
       "Sex_male      -2.7507      0.265    -10.399      0.000      -3.269      -2.232\n",
       "Embarked_Q    -1.6988      0.793     -2.143      0.032      -3.253      -0.145\n",
       "Embarked_S    -0.4827      0.322     -1.497      0.134      -1.115       0.149\n",
       "==============================================================================\n",
       "\"\"\""
      ]
     },
     "metadata": {},
     "output_type": "display_data"
    },
    {
     "name": "stdout",
     "output_type": "stream",
     "text": [
      "------------------------------------------------------------\n",
      "[i] CLASSIFICATION REPORT\n",
      "------------------------------------------------------------\n",
      "              precision    recall  f1-score   support\n",
      "\n",
      "        Died       0.71      0.84      0.77        88\n",
      "    Survived       0.77      0.61      0.68        77\n",
      "\n",
      "    accuracy                           0.73       165\n",
      "   macro avg       0.74      0.73      0.73       165\n",
      "weighted avg       0.74      0.73      0.73       165\n",
      "\n",
      "------------------------------------------------------------\n"
     ]
    },
    {
     "data": {
      "image/png": "[encoded data removed]",
      "text/plain": [
       "<Figure size 576x396 with 2 Axes>"
      ]
     },
     "metadata": {
      "needs_background": "light"
     },
     "output_type": "display_data"
    }
   ],
   "source": [
    "## Putting it all Together\n",
    "logit = sm.Logit(y_train,X_train_sms).fit()\n",
    "display(logit.summary())\n",
    "\n",
    "y_hat_train = logit.predict(X_train_sms).round()\n",
    "y_hat_test = logit.predict(X_test_sms).round()\n",
    "evaluate_statsmodel(y_test,y_hat_test)"
   ]
  },
  {
   "cell_type": "code",
   "execution_count": 30,
   "metadata": {
    "ExecuteTime": {
     "end_time": "2020-09-02T21:48:40.935879Z",
     "start_time": "2020-09-02T21:48:40.933236Z"
    }
   },
   "outputs": [],
   "source": [
    "# logit.params"
   ]
  },
  {
   "cell_type": "code",
   "execution_count": 31,
   "metadata": {
    "ExecuteTime": {
     "end_time": "2020-09-02T21:48:40.948089Z",
     "start_time": "2020-09-02T21:48:40.938432Z"
    }
   },
   "outputs": [
    {
     "data": {
      "text/html": [
       "<div>\n",
       "<style scoped>\n",
       "    .dataframe tbody tr th:only-of-type {\n",
       "        vertical-align: middle;\n",
       "    }\n",
       "\n",
       "    .dataframe tbody tr th {\n",
       "        vertical-align: top;\n",
       "    }\n",
       "\n",
       "    .dataframe thead th {\n",
       "        text-align: right;\n",
       "    }\n",
       "</style>\n",
       "<table border=\"1\" class=\"dataframe\">\n",
       "  <thead>\n",
       "    <tr style=\"text-align: right;\">\n",
       "      <th></th>\n",
       "      <th>Coefficents</th>\n",
       "      <th>p-values</th>\n",
       "    </tr>\n",
       "  </thead>\n",
       "  <tbody>\n",
       "    <tr>\n",
       "      <th>const</th>\n",
       "      <td>1.474566</td>\n",
       "      <td>0.0000</td>\n",
       "    </tr>\n",
       "    <tr>\n",
       "      <th>Pclass</th>\n",
       "      <td>-1.014705</td>\n",
       "      <td>0.0000</td>\n",
       "    </tr>\n",
       "    <tr>\n",
       "      <th>Age</th>\n",
       "      <td>-0.697198</td>\n",
       "      <td>0.0000</td>\n",
       "    </tr>\n",
       "    <tr>\n",
       "      <th>SibSp</th>\n",
       "      <td>-0.273558</td>\n",
       "      <td>0.0514</td>\n",
       "    </tr>\n",
       "    <tr>\n",
       "      <th>Fare</th>\n",
       "      <td>-0.027249</td>\n",
       "      <td>0.8456</td>\n",
       "    </tr>\n",
       "    <tr>\n",
       "      <th>Sex_male</th>\n",
       "      <td>-2.750685</td>\n",
       "      <td>0.0000</td>\n",
       "    </tr>\n",
       "    <tr>\n",
       "      <th>Embarked_Q</th>\n",
       "      <td>-1.698832</td>\n",
       "      <td>0.0321</td>\n",
       "    </tr>\n",
       "    <tr>\n",
       "      <th>Embarked_S</th>\n",
       "      <td>-0.482682</td>\n",
       "      <td>0.1344</td>\n",
       "    </tr>\n",
       "  </tbody>\n",
       "</table>\n",
       "</div>"
      ],
      "text/plain": [
       "            Coefficents  p-values\n",
       "const          1.474566    0.0000\n",
       "Pclass        -1.014705    0.0000\n",
       "Age           -0.697198    0.0000\n",
       "SibSp         -0.273558    0.0514\n",
       "Fare          -0.027249    0.8456\n",
       "Sex_male      -2.750685    0.0000\n",
       "Embarked_Q    -1.698832    0.0321\n",
       "Embarked_S    -0.482682    0.1344"
      ]
     },
     "execution_count": 31,
     "metadata": {},
     "output_type": "execute_result"
    }
   ],
   "source": [
    "get_model_coeffs(X_train_sms,logit)"
   ]
  },
  {
   "cell_type": "markdown",
   "metadata": {},
   "source": [
    "# NEW -  Logistic Regression with `sklearn`"
   ]
  },
  {
   "cell_type": "markdown",
   "metadata": {},
   "source": [
    "\n",
    "## Fitting a Logistic Regression with `sklearn`"
   ]
  },
  {
   "cell_type": "markdown",
   "metadata": {},
   "source": [
    "> A note on hyperparameters:\n",
    "- C \n",
    "- solver\n",
    "- intercept"
   ]
  },
  {
   "cell_type": "code",
   "execution_count": 69,
   "metadata": {
    "ExecuteTime": {
     "end_time": "2020-09-02T22:00:22.094754Z",
     "start_time": "2020-09-02T22:00:22.081606Z"
    }
   },
   "outputs": [
    {
     "data": {
      "text/plain": [
       "LogisticRegression()"
      ]
     },
     "execution_count": 69,
     "metadata": {},
     "output_type": "execute_result"
    }
   ],
   "source": [
    "from sklearn.linear_model import LogisticRegression\n",
    "\n",
    "## Fit a logistic regression model with defaults\n",
    "log_reg = LogisticRegression()#\n",
    "log_reg.fit(X_train_sca, y_train)"
   ]
  },
  {
   "cell_type": "code",
   "execution_count": 70,
   "metadata": {
    "ExecuteTime": {
     "end_time": "2020-09-02T22:00:28.305667Z",
     "start_time": "2020-09-02T22:00:27.982799Z"
    }
   },
   "outputs": [
    {
     "name": "stdout",
     "output_type": "stream",
     "text": [
      "------------------------------------------------------------\n",
      "[i] CLASSIFICATION REPORT\n",
      "------------------------------------------------------------\n",
      "              precision    recall  f1-score   support\n",
      "\n",
      "        Died       0.73      0.85      0.79        88\n",
      "    Survived       0.79      0.64      0.71        77\n",
      "\n",
      "    accuracy                           0.75       165\n",
      "   macro avg       0.76      0.74      0.75       165\n",
      "weighted avg       0.76      0.75      0.75       165\n",
      "\n",
      "------------------------------------------------------------\n"
     ]
    },
    {
     "data": {
      "image/png": "[encoded data removed]",
      "text/plain": [
       "<Figure size 576x396 with 2 Axes>"
      ]
     },
     "metadata": {
      "needs_background": "light"
     },
     "output_type": "display_data"
    }
   ],
   "source": [
    "## Get Predictions for training and test data\n",
    "y_hat_train = log_reg.predict(X_train_sca)\n",
    "y_hat_test = log_reg.predict(X_test_sca)\n",
    "\n",
    "## Use our evaluation function\n",
    "evaluate_statsmodel(y_test,y_hat_test)"
   ]
  },
  {
   "cell_type": "code",
   "execution_count": 76,
   "metadata": {
    "ExecuteTime": {
     "end_time": "2020-09-02T22:01:12.890739Z",
     "start_time": "2020-09-02T22:01:12.885436Z"
    }
   },
   "outputs": [
    {
     "data": {
      "text/plain": [
       "Pclass       -0.974664\n",
       "Age          -0.663669\n",
       "SibSp        -0.249112\n",
       "Fare         -0.001604\n",
       "Sex_male     -2.542206\n",
       "Embarked_Q   -1.028963\n",
       "Embarked_S   -0.364697\n",
       "dtype: float64"
      ]
     },
     "execution_count": 76,
     "metadata": {},
     "output_type": "execute_result"
    }
   ],
   "source": [
    "## Get the coefficents from the model and make into a series\n",
    "pd.Series(log_reg.coef_[0],index=X_train_sca.columns)"
   ]
  },
  {
   "cell_type": "code",
   "execution_count": 77,
   "metadata": {
    "ExecuteTime": {
     "end_time": "2020-09-02T22:01:45.489803Z",
     "start_time": "2020-09-02T22:01:45.249119Z"
    }
   },
   "outputs": [
    {
     "name": "stdout",
     "output_type": "stream",
     "text": [
      "------------------------------------------------------------\n",
      "[i] CLASSIFICATION REPORT\n",
      "------------------------------------------------------------\n",
      "              precision    recall  f1-score   support\n",
      "\n",
      "        Died       0.71      0.84      0.77        88\n",
      "    Survived       0.77      0.61      0.68        77\n",
      "\n",
      "    accuracy                           0.73       165\n",
      "   macro avg       0.74      0.73      0.73       165\n",
      "weighted avg       0.74      0.73      0.73       165\n",
      "\n",
      "------------------------------------------------------------\n"
     ]
    },
    {
     "data": {
      "image/png": "[encoded data removed]",
      "text/plain": [
       "<Figure size 576x396 with 2 Axes>"
      ]
     },
     "metadata": {
      "needs_background": "light"
     },
     "output_type": "display_data"
    }
   ],
   "source": [
    "## Fit a logistic regression model with C=1e5, solver='liblinear'\n",
    "log_reg = LogisticRegression(C=1e5, solver='liblinear')\n",
    "log_reg.fit(X_train_sca, y_train)\n",
    "\n",
    "\n",
    "y_hat_train = log_reg.predict(X_train_sca)\n",
    "y_hat_test = log_reg.predict(X_test_sca)\n",
    "\n",
    "\n",
    "evaluate_statsmodel(y_test,y_hat_test)"
   ]
  },
  {
   "cell_type": "markdown",
   "metadata": {},
   "source": [
    "# ROC Curve - Receiver Operating Characteristic Curve"
   ]
  },
  {
   "cell_type": "markdown",
   "metadata": {},
   "source": [
    "## Evaluating Our Model"
   ]
  },
  {
   "cell_type": "markdown",
   "metadata": {},
   "source": [
    "### Graph Interpretation"
   ]
  },
  {
   "cell_type": "markdown",
   "metadata": {},
   "source": [
    "False Positive Rate vs True Positive Rate → for each threshold\n",
    "\n",
    "<img src=\"https://raw.githubusercontent.com/jirvingphd/fsds_100719_cohort_notes/master/images/roc_comparison.png\" width=70%>"
   ]
  },
  {
   "cell_type": "markdown",
   "metadata": {},
   "source": [
    "### Looking at Just the Logistic Regression"
   ]
  },
  {
   "cell_type": "markdown",
   "metadata": {},
   "source": [
    "Imagine we have a logistic regression (classifier):\n",
    " - Turn a continuous feature to binary prediction"
   ]
  },
  {
   "cell_type": "markdown",
   "metadata": {},
   "source": [
    "### What Distributions Would Work Well in Classifying?"
   ]
  },
  {
   "cell_type": "markdown",
   "metadata": {},
   "source": [
    "<img src=\"https://raw.githubusercontent.com/jirvingphd/fsds_100719_cohort_notes/master/images/roc_crossover.png\" width=60%>"
   ]
  },
  {
   "cell_type": "markdown",
   "metadata": {},
   "source": [
    "### Defining the Threshold"
   ]
  },
  {
   "cell_type": "markdown",
   "metadata": {},
   "source": [
    "<img src=\"https://raw.githubusercontent.com/jirvingphd/fsds_100719_cohort_notes/master/images/auc_rates.png\" width=60%>"
   ]
  },
  {
   "cell_type": "code",
   "execution_count": 39,
   "metadata": {
    "ExecuteTime": {
     "end_time": "2020-09-02T21:48:41.721308Z",
     "start_time": "2020-09-02T21:48:41.719159Z"
    },
    "scrolled": false
   },
   "outputs": [],
   "source": [
    "# # Interactive ROC curve\n",
    "# from IPython.display import IFrame\n",
    "# IFrame('http://www.navan.name/roc/', width=900, height=600)"
   ]
  },
  {
   "cell_type": "code",
   "execution_count": 78,
   "metadata": {
    "ExecuteTime": {
     "end_time": "2020-09-02T22:02:35.307619Z",
     "start_time": "2020-09-02T22:02:35.299371Z"
    }
   },
   "outputs": [
    {
     "data": {
      "text/plain": [
       "((165,), (165, 2))"
      ]
     },
     "execution_count": 78,
     "metadata": {},
     "output_type": "execute_result"
    }
   ],
   "source": [
    "import sklearn.metrics \n",
    "\n",
    "# Scikit-learn's built in roc_curve method returns the fpr, tpr, and thresholds\n",
    "# for various decision boundaries given the case member probabilites\n",
    "\n",
    "## Get y_score or y_score_prob from the log_reg decision function / predict proba\n",
    "y_score = log_reg.decision_function(X_test_sca)\n",
    "y_score_prob = log_reg.predict_proba(X_test_sca)\n",
    "\n",
    "y_score.shape, y_score_prob.shape"
   ]
  },
  {
   "cell_type": "code",
   "execution_count": 79,
   "metadata": {
    "ExecuteTime": {
     "end_time": "2020-09-02T22:02:43.215732Z",
     "start_time": "2020-09-02T22:02:43.211220Z"
    },
    "scrolled": false
   },
   "outputs": [
    {
     "name": "stdout",
     "output_type": "stream",
     "text": [
      "ROC-area-under-the-curve= 0.826\n"
     ]
    }
   ],
   "source": [
    "## Calculate the FP rate and TP rate\n",
    "fpr,tpr,thresh = metrics.roc_curve(y_test,y_score)\n",
    "\n",
    "## calculate area under the curve\n",
    "print(f\"ROC-area-under-the-curve= {round(metrics.auc(fpr,tpr),3)}\")"
   ]
  },
  {
   "cell_type": "code",
   "execution_count": 80,
   "metadata": {
    "ExecuteTime": {
     "end_time": "2020-09-02T22:02:44.250887Z",
     "start_time": "2020-09-02T22:02:44.056819Z"
    }
   },
   "outputs": [
    {
     "data": {
      "image/png": "[encoded data removed]",
      "text/plain": [
       "<Figure size 432x288 with 1 Axes>"
      ]
     },
     "metadata": {
      "needs_background": "light"
     },
     "output_type": "display_data"
    }
   ],
   "source": [
    "## Plot The ROC Curve\n",
    "fig,ax=plt.subplots()\n",
    "\n",
    "## PLot fpt vs tpr\n",
    "ax.plot(fpr,tpr,color='darkorange',label='ROC Curve')\n",
    "\n",
    "## Plot a diagnonal line to indicate worthless model\n",
    "ax.plot([0,1],[0,1],ls=':',label='worthless')\n",
    "\n",
    "\n",
    "## Properly Label axes and title figure\n",
    "ax.set(ylabel='True Positive Rate',xlabel='False Positive Rate',\n",
    "      title='Receiver operating characteristic (ROC) Curve')\n",
    "\n",
    "## Add legend and grid\n",
    "ax.legend()\n",
    "ax.grid()"
   ]
  },
  {
   "cell_type": "code",
   "execution_count": 81,
   "metadata": {
    "ExecuteTime": {
     "end_time": "2020-09-02T22:02:46.752558Z",
     "start_time": "2020-09-02T22:02:46.556257Z"
    },
    "code_folding": [
     0
    ]
   },
   "outputs": [
    {
     "name": "stdout",
     "output_type": "stream",
     "text": [
      "ROC-area-under-the-curve= 0.826\n"
     ]
    },
    {
     "data": {
      "image/png": "[encoded data removed]",
      "text/plain": [
       "<Figure size 432x288 with 1 Axes>"
      ]
     },
     "metadata": {
      "needs_background": "light"
     },
     "output_type": "display_data"
    }
   ],
   "source": [
    "def plot_roc_curve(y_test,y_score):\n",
    "    # y_score = regr.decision_function(X_test)\n",
    "    fpr,tpr,thresh = metrics.roc_curve(y_test,y_score)\n",
    "    AUC = round(metrics.auc(fpr,tpr),3)\n",
    "    print(f\"ROC-area-under-the-curve= {AUC}\")\n",
    "\n",
    "    fig,ax=plt.subplots()\n",
    "    ax.plot(fpr,tpr,color='darkorange',label=f'ROC Curve AUC: {AUC}')\n",
    "    ax.plot([0,1],[0,1],ls=':')\n",
    "    \n",
    "    ax.set(ylabel='True Positive Rate',xlabel='False Positive Rate',\n",
    "          title='Receiver operating characteristic (ROC) Curve')\n",
    "\n",
    "    \n",
    "    ax.legend()\n",
    "    ax.grid()\n",
    "\n",
    "    \n",
    "plot_roc_curve(y_test,y_score)"
   ]
  },
  {
   "cell_type": "markdown",
   "metadata": {
    "ExecuteTime": {
     "end_time": "2020-09-02T01:45:53.340623Z",
     "start_time": "2020-09-02T01:45:53.336695Z"
    }
   },
   "source": [
    "### But now there's a sklearn tool for that!"
   ]
  },
  {
   "cell_type": "code",
   "execution_count": 82,
   "metadata": {
    "ExecuteTime": {
     "end_time": "2020-09-02T22:02:48.050685Z",
     "start_time": "2020-09-02T22:02:47.750418Z"
    }
   },
   "outputs": [
    {
     "data": {
      "text/plain": [
       "<sklearn.metrics._plot.roc_curve.RocCurveDisplay at 0x7fa0a28cac50>"
      ]
     },
     "execution_count": 82,
     "metadata": {},
     "output_type": "execute_result"
    },
    {
     "data": {
      "image/png": "[encoded data removed]",
      "text/plain": [
       "<Figure size 432x288 with 1 Axes>"
      ]
     },
     "metadata": {
      "needs_background": "light"
     },
     "output_type": "display_data"
    }
   ],
   "source": [
    "metrics.plot_roc_curve(log_reg,X_test_sca,y_test)"
   ]
  },
  {
   "cell_type": "code",
   "execution_count": 83,
   "metadata": {
    "ExecuteTime": {
     "end_time": "2020-09-02T22:02:48.674562Z",
     "start_time": "2020-09-02T22:02:48.456944Z"
    }
   },
   "outputs": [
    {
     "data": {
      "text/plain": [
       "Text(0.5, 1.0, 'Receiving Operator Characteristic (ROC) Curve')"
      ]
     },
     "execution_count": 83,
     "metadata": {},
     "output_type": "execute_result"
    },
    {
     "data": {
      "image/png": "[encoded data removed]",
      "text/plain": [
       "<Figure size 432x288 with 1 Axes>"
      ]
     },
     "metadata": {
      "needs_background": "light"
     },
     "output_type": "display_data"
    }
   ],
   "source": [
    "## Update the sklearn plot to include the diagonal line and grid\n",
    "roc_plot = metrics.plot_roc_curve(log_reg, X_test_sca, y_test,)\n",
    "ax= roc_plot.ax_\n",
    "\n",
    "ax.plot([0,1],[0,1],ls=':')\n",
    "\n",
    "ax.grid()\n",
    "ax.set_title('Receiving Operator Characteristic (ROC) Curve')"
   ]
  },
  {
   "cell_type": "markdown",
   "metadata": {},
   "source": [
    "# Activity: Make an `evaluate_classification` function"
   ]
  },
  {
   "cell_type": "markdown",
   "metadata": {},
   "source": [
    "- Write a function called `evaluate_classification`\n",
    "- It should accept (at minimum): \n",
    "    - model (sklearn model)\n",
    "    - X_test\n",
    "    - y_test\n",
    "    \n",
    "- ***Ideally you should also accept X_train and y_train to compare results to check for overfitting. ?***\n",
    "- It should produce:\n",
    "    - Classification metrics printed\n",
    "    - Confusion Matrix displayed\n",
    "    - roc_auc curve displayed\n",
    "    \n",
    "    \n",
    "- Then revisit some of the questions we had from last class re: scaling, LogisticRegression parameters"
   ]
  },
  {
   "cell_type": "code",
   "execution_count": 64,
   "metadata": {
    "ExecuteTime": {
     "end_time": "2020-09-02T21:57:29.494190Z",
     "start_time": "2020-09-02T21:57:29.486916Z"
    }
   },
   "outputs": [],
   "source": [
    "import sklearn.metrics as metrics\n",
    "\n",
    "def evaluate_classification(model,X_test,y_test,classes=None,\n",
    "                           normalize='true',cmap='Purples',label=''): \n",
    "     \n",
    "    ## Get Predictions\n",
    "    y_hat_test = model.predict(X_test)\n",
    "    \n",
    "    ## Classification Report / Scores \n",
    "    table_header = \"[i] CLASSIFICATION REPORT\"\n",
    "\n",
    "    if len(label)>0:\n",
    "        table_header += f\" {label}\"\n",
    "        \n",
    "    ## PRINT TABLE\n",
    "    dashes = '---'*20\n",
    "    print(dashes,table_header,dashes,sep='\\n')\n",
    "    print(metrics.classification_report(y_test,y_hat_test,\n",
    "                                        target_names=classes))    \n",
    "    print(dashes+\"\\n\\n\")\n",
    "    \n",
    "    \n",
    "    ## MAKE FIGURE\n",
    "    fig, axes = plt.subplots(figsize=(10,4),ncols=2)\n",
    "    \n",
    "    ## Confusion Matrix \n",
    "    metrics.plot_confusion_matrix(model, X_test,y_test,\n",
    "                                  display_labels=classes,\n",
    "                                  normalize=normalize,\n",
    "                                 cmap=cmap,ax=axes[0])\n",
    "    axes[0].set(title='Confusion Matrix')\n",
    "    \n",
    "    ## Roc Curve\n",
    "    roc_plot = metrics.plot_roc_curve(model, X_test, y_test,ax=axes[1])\n",
    "    axes[1].grid()\n",
    "    axes[1].set_title('Receiving Operator Characteristic (ROC) Curve') \n",
    "    fig.tight_layout()\n",
    "    plt.show()\n",
    "    \n",
    "    return fig,ax"
   ]
  },
  {
   "cell_type": "code",
   "execution_count": 84,
   "metadata": {
    "ExecuteTime": {
     "end_time": "2020-09-02T22:03:34.458797Z",
     "start_time": "2020-09-02T22:03:34.040296Z"
    }
   },
   "outputs": [
    {
     "name": "stdout",
     "output_type": "stream",
     "text": [
      "------------------------------------------------------------\n",
      "[i] CLASSIFICATION REPORT {'C': 100000.0, 'solver': 'liblinear'}\n",
      "------------------------------------------------------------\n",
      "              precision    recall  f1-score   support\n",
      "\n",
      "        Died       0.71      0.84      0.77        88\n",
      "    Survived       0.77      0.61      0.68        77\n",
      "\n",
      "    accuracy                           0.73       165\n",
      "   macro avg       0.74      0.73      0.73       165\n",
      "weighted avg       0.74      0.73      0.73       165\n",
      "\n",
      "------------------------------------------------------------\n",
      "\n",
      "\n"
     ]
    },
    {
     "data": {
      "image/png": "[encoded data removed]",
      "text/plain": [
       "<Figure size 720x288 with 3 Axes>"
      ]
     },
     "metadata": {
      "needs_background": "light"
     },
     "output_type": "display_data"
    }
   ],
   "source": [
    "## Fit and evaluate a logistic regression \n",
    "params  = dict(C=1e5, solver='liblinear')\n",
    "log_reg = LogisticRegression(**params)\n",
    "log_reg.fit(X_train_sca, y_train)\n",
    "\n",
    "evaluate_classification(log_reg,X_test_sca,y_test,\n",
    "                        classes=['Died','Survived'],label=str(params));"
   ]
  },
  {
   "cell_type": "code",
   "execution_count": null,
   "metadata": {},
   "outputs": [],
   "source": []
  },
  {
   "cell_type": "markdown",
   "metadata": {},
   "source": [
    "# Hyperparameter Tuning: GridSearchCV "
   ]
  },
  {
   "cell_type": "markdown",
   "metadata": {},
   "source": [
    "### `solver` Parameter\n",
    "https://scikit-learn.org/stable/modules/linear_model.html#logistic-regression\n",
    "\n",
    "- The solvers implemented in the class LogisticRegression are “liblinear”, “newton-cg”, “lbfgs”, “sag” and “saga”:\n",
    "\n",
    "- The solver “liblinear” uses a coordinate descent (CD) algorithm, and relies on the excellent C++ LIBLINEAR library, which is shipped with scikit-learn. However, the CD algorithm implemented in liblinear cannot learn a true multinomial (multiclass) model; instead, the optimization problem is decomposed in a “one-vs-rest” fashion so separate binary classifiers are trained for all classes. This happens under the hood, so LogisticRegression instances using this solver behave as multiclass classifiers.\n",
    "\n",
    "\n",
    "\n"
   ]
  },
  {
   "cell_type": "code",
   "execution_count": 85,
   "metadata": {
    "ExecuteTime": {
     "end_time": "2020-09-02T22:04:12.554176Z",
     "start_time": "2020-09-02T22:04:12.550505Z"
    }
   },
   "outputs": [
    {
     "data": {
      "text/plain": [
       "(1000, 1000, 1000.0)"
      ]
     },
     "execution_count": 85,
     "metadata": {},
     "output_type": "execute_result"
    }
   ],
   "source": [
    "1000,10**3, 1e3"
   ]
  },
  {
   "cell_type": "code",
   "execution_count": 86,
   "metadata": {
    "ExecuteTime": {
     "end_time": "2020-09-02T22:04:13.279382Z",
     "start_time": "2020-09-02T22:04:13.276868Z"
    }
   },
   "outputs": [],
   "source": [
    "import warnings\n",
    "warnings.filterwarnings('ignore')"
   ]
  },
  {
   "cell_type": "code",
   "execution_count": 104,
   "metadata": {
    "ExecuteTime": {
     "end_time": "2020-09-02T22:08:31.907183Z",
     "start_time": "2020-09-02T22:08:31.525105Z"
    }
   },
   "outputs": [
    {
     "name": "stdout",
     "output_type": "stream",
     "text": [
      "BEST RESULTS:\n",
      "0.7105263157894737\n"
     ]
    },
    {
     "data": {
      "text/plain": [
       "{'C': 10}"
      ]
     },
     "execution_count": 104,
     "metadata": {},
     "output_type": "execute_result"
    }
   ],
   "source": [
    "from sklearn.model_selection import GridSearchCV, RandomizedSearchCV\n",
    "model = LogisticRegression(solver='liblinear')\n",
    "\n",
    "params = {'C' : [1.0,5,10,20,100,1e5,1e10,1e16]}\n",
    "\n",
    "gridsearch = GridSearchCV(model,params,scoring='recall',return_train_score=True)\n",
    "gridsearch.fit(X_train_sca,y_train)\n",
    "\n",
    "print('BEST RESULTS:')\n",
    "print(gridsearch.best_score_)\n",
    "gridsearch.best_params_"
   ]
  },
  {
   "cell_type": "code",
   "execution_count": 105,
   "metadata": {
    "ExecuteTime": {
     "end_time": "2020-09-02T22:08:32.220806Z",
     "start_time": "2020-09-02T22:08:32.190429Z"
    }
   },
   "outputs": [
    {
     "data": {
      "text/html": [
       "<div>\n",
       "<style scoped>\n",
       "    .dataframe tbody tr th:only-of-type {\n",
       "        vertical-align: middle;\n",
       "    }\n",
       "\n",
       "    .dataframe tbody tr th {\n",
       "        vertical-align: top;\n",
       "    }\n",
       "\n",
       "    .dataframe thead th {\n",
       "        text-align: right;\n",
       "    }\n",
       "</style>\n",
       "<table border=\"1\" class=\"dataframe\">\n",
       "  <thead>\n",
       "    <tr style=\"text-align: right;\">\n",
       "      <th></th>\n",
       "      <th>mean_fit_time</th>\n",
       "      <th>std_fit_time</th>\n",
       "      <th>mean_score_time</th>\n",
       "      <th>std_score_time</th>\n",
       "      <th>param_C</th>\n",
       "      <th>params</th>\n",
       "      <th>split0_test_score</th>\n",
       "      <th>split1_test_score</th>\n",
       "      <th>split2_test_score</th>\n",
       "      <th>split3_test_score</th>\n",
       "      <th>...</th>\n",
       "      <th>mean_test_score</th>\n",
       "      <th>std_test_score</th>\n",
       "      <th>rank_test_score</th>\n",
       "      <th>split0_train_score</th>\n",
       "      <th>split1_train_score</th>\n",
       "      <th>split2_train_score</th>\n",
       "      <th>split3_train_score</th>\n",
       "      <th>split4_train_score</th>\n",
       "      <th>mean_train_score</th>\n",
       "      <th>std_train_score</th>\n",
       "    </tr>\n",
       "  </thead>\n",
       "  <tbody>\n",
       "    <tr>\n",
       "      <th>0</th>\n",
       "      <td>0.003214</td>\n",
       "      <td>0.000119</td>\n",
       "      <td>0.002832</td>\n",
       "      <td>0.000331</td>\n",
       "      <td>1</td>\n",
       "      <td>{'C': 1.0}</td>\n",
       "      <td>0.657895</td>\n",
       "      <td>0.842105</td>\n",
       "      <td>0.605263</td>\n",
       "      <td>0.684211</td>\n",
       "      <td>...</td>\n",
       "      <td>0.700000</td>\n",
       "      <td>0.079123</td>\n",
       "      <td>8</td>\n",
       "      <td>0.723684</td>\n",
       "      <td>0.664474</td>\n",
       "      <td>0.730263</td>\n",
       "      <td>0.717105</td>\n",
       "      <td>0.710526</td>\n",
       "      <td>0.709211</td>\n",
       "      <td>0.023316</td>\n",
       "    </tr>\n",
       "    <tr>\n",
       "      <th>1</th>\n",
       "      <td>0.003348</td>\n",
       "      <td>0.000185</td>\n",
       "      <td>0.002740</td>\n",
       "      <td>0.000090</td>\n",
       "      <td>5</td>\n",
       "      <td>{'C': 5}</td>\n",
       "      <td>0.684211</td>\n",
       "      <td>0.842105</td>\n",
       "      <td>0.605263</td>\n",
       "      <td>0.684211</td>\n",
       "      <td>...</td>\n",
       "      <td>0.705263</td>\n",
       "      <td>0.076993</td>\n",
       "      <td>7</td>\n",
       "      <td>0.723684</td>\n",
       "      <td>0.677632</td>\n",
       "      <td>0.730263</td>\n",
       "      <td>0.717105</td>\n",
       "      <td>0.717105</td>\n",
       "      <td>0.713158</td>\n",
       "      <td>0.018421</td>\n",
       "    </tr>\n",
       "    <tr>\n",
       "      <th>2</th>\n",
       "      <td>0.003172</td>\n",
       "      <td>0.000049</td>\n",
       "      <td>0.002713</td>\n",
       "      <td>0.000159</td>\n",
       "      <td>10</td>\n",
       "      <td>{'C': 10}</td>\n",
       "      <td>0.684211</td>\n",
       "      <td>0.842105</td>\n",
       "      <td>0.605263</td>\n",
       "      <td>0.684211</td>\n",
       "      <td>...</td>\n",
       "      <td>0.710526</td>\n",
       "      <td>0.078065</td>\n",
       "      <td>1</td>\n",
       "      <td>0.730263</td>\n",
       "      <td>0.671053</td>\n",
       "      <td>0.730263</td>\n",
       "      <td>0.717105</td>\n",
       "      <td>0.717105</td>\n",
       "      <td>0.713158</td>\n",
       "      <td>0.021860</td>\n",
       "    </tr>\n",
       "    <tr>\n",
       "      <th>3</th>\n",
       "      <td>0.003403</td>\n",
       "      <td>0.000181</td>\n",
       "      <td>0.002870</td>\n",
       "      <td>0.000237</td>\n",
       "      <td>20</td>\n",
       "      <td>{'C': 20}</td>\n",
       "      <td>0.684211</td>\n",
       "      <td>0.842105</td>\n",
       "      <td>0.605263</td>\n",
       "      <td>0.684211</td>\n",
       "      <td>...</td>\n",
       "      <td>0.710526</td>\n",
       "      <td>0.078065</td>\n",
       "      <td>1</td>\n",
       "      <td>0.730263</td>\n",
       "      <td>0.671053</td>\n",
       "      <td>0.730263</td>\n",
       "      <td>0.717105</td>\n",
       "      <td>0.717105</td>\n",
       "      <td>0.713158</td>\n",
       "      <td>0.021860</td>\n",
       "    </tr>\n",
       "    <tr>\n",
       "      <th>4</th>\n",
       "      <td>0.003221</td>\n",
       "      <td>0.000229</td>\n",
       "      <td>0.002695</td>\n",
       "      <td>0.000160</td>\n",
       "      <td>100</td>\n",
       "      <td>{'C': 100}</td>\n",
       "      <td>0.684211</td>\n",
       "      <td>0.842105</td>\n",
       "      <td>0.605263</td>\n",
       "      <td>0.684211</td>\n",
       "      <td>...</td>\n",
       "      <td>0.710526</td>\n",
       "      <td>0.078065</td>\n",
       "      <td>1</td>\n",
       "      <td>0.730263</td>\n",
       "      <td>0.677632</td>\n",
       "      <td>0.730263</td>\n",
       "      <td>0.717105</td>\n",
       "      <td>0.717105</td>\n",
       "      <td>0.714474</td>\n",
       "      <td>0.019338</td>\n",
       "    </tr>\n",
       "    <tr>\n",
       "      <th>5</th>\n",
       "      <td>0.003151</td>\n",
       "      <td>0.000123</td>\n",
       "      <td>0.002569</td>\n",
       "      <td>0.000045</td>\n",
       "      <td>100000</td>\n",
       "      <td>{'C': 100000.0}</td>\n",
       "      <td>0.684211</td>\n",
       "      <td>0.842105</td>\n",
       "      <td>0.605263</td>\n",
       "      <td>0.684211</td>\n",
       "      <td>...</td>\n",
       "      <td>0.710526</td>\n",
       "      <td>0.078065</td>\n",
       "      <td>1</td>\n",
       "      <td>0.730263</td>\n",
       "      <td>0.677632</td>\n",
       "      <td>0.730263</td>\n",
       "      <td>0.717105</td>\n",
       "      <td>0.710526</td>\n",
       "      <td>0.713158</td>\n",
       "      <td>0.019338</td>\n",
       "    </tr>\n",
       "    <tr>\n",
       "      <th>6</th>\n",
       "      <td>0.003498</td>\n",
       "      <td>0.000314</td>\n",
       "      <td>0.002800</td>\n",
       "      <td>0.000061</td>\n",
       "      <td>1e+10</td>\n",
       "      <td>{'C': 10000000000.0}</td>\n",
       "      <td>0.684211</td>\n",
       "      <td>0.842105</td>\n",
       "      <td>0.605263</td>\n",
       "      <td>0.684211</td>\n",
       "      <td>...</td>\n",
       "      <td>0.710526</td>\n",
       "      <td>0.078065</td>\n",
       "      <td>1</td>\n",
       "      <td>0.730263</td>\n",
       "      <td>0.677632</td>\n",
       "      <td>0.730263</td>\n",
       "      <td>0.717105</td>\n",
       "      <td>0.710526</td>\n",
       "      <td>0.713158</td>\n",
       "      <td>0.019338</td>\n",
       "    </tr>\n",
       "    <tr>\n",
       "      <th>7</th>\n",
       "      <td>0.003098</td>\n",
       "      <td>0.000049</td>\n",
       "      <td>0.002567</td>\n",
       "      <td>0.000084</td>\n",
       "      <td>1e+16</td>\n",
       "      <td>{'C': 1e+16}</td>\n",
       "      <td>0.684211</td>\n",
       "      <td>0.842105</td>\n",
       "      <td>0.605263</td>\n",
       "      <td>0.684211</td>\n",
       "      <td>...</td>\n",
       "      <td>0.710526</td>\n",
       "      <td>0.078065</td>\n",
       "      <td>1</td>\n",
       "      <td>0.730263</td>\n",
       "      <td>0.677632</td>\n",
       "      <td>0.730263</td>\n",
       "      <td>0.717105</td>\n",
       "      <td>0.710526</td>\n",
       "      <td>0.713158</td>\n",
       "      <td>0.019338</td>\n",
       "    </tr>\n",
       "  </tbody>\n",
       "</table>\n",
       "<p>8 rows × 21 columns</p>\n",
       "</div>"
      ],
      "text/plain": [
       "   mean_fit_time  std_fit_time  mean_score_time  std_score_time param_C  \\\n",
       "0       0.003214      0.000119         0.002832        0.000331       1   \n",
       "1       0.003348      0.000185         0.002740        0.000090       5   \n",
       "2       0.003172      0.000049         0.002713        0.000159      10   \n",
       "3       0.003403      0.000181         0.002870        0.000237      20   \n",
       "4       0.003221      0.000229         0.002695        0.000160     100   \n",
       "5       0.003151      0.000123         0.002569        0.000045  100000   \n",
       "6       0.003498      0.000314         0.002800        0.000061   1e+10   \n",
       "7       0.003098      0.000049         0.002567        0.000084   1e+16   \n",
       "\n",
       "                 params  split0_test_score  split1_test_score  \\\n",
       "0            {'C': 1.0}           0.657895           0.842105   \n",
       "1              {'C': 5}           0.684211           0.842105   \n",
       "2             {'C': 10}           0.684211           0.842105   \n",
       "3             {'C': 20}           0.684211           0.842105   \n",
       "4            {'C': 100}           0.684211           0.842105   \n",
       "5       {'C': 100000.0}           0.684211           0.842105   \n",
       "6  {'C': 10000000000.0}           0.684211           0.842105   \n",
       "7          {'C': 1e+16}           0.684211           0.842105   \n",
       "\n",
       "   split2_test_score  split3_test_score  ...  mean_test_score  std_test_score  \\\n",
       "0           0.605263           0.684211  ...         0.700000        0.079123   \n",
       "1           0.605263           0.684211  ...         0.705263        0.076993   \n",
       "2           0.605263           0.684211  ...         0.710526        0.078065   \n",
       "3           0.605263           0.684211  ...         0.710526        0.078065   \n",
       "4           0.605263           0.684211  ...         0.710526        0.078065   \n",
       "5           0.605263           0.684211  ...         0.710526        0.078065   \n",
       "6           0.605263           0.684211  ...         0.710526        0.078065   \n",
       "7           0.605263           0.684211  ...         0.710526        0.078065   \n",
       "\n",
       "   rank_test_score  split0_train_score  split1_train_score  \\\n",
       "0                8            0.723684            0.664474   \n",
       "1                7            0.723684            0.677632   \n",
       "2                1            0.730263            0.671053   \n",
       "3                1            0.730263            0.671053   \n",
       "4                1            0.730263            0.677632   \n",
       "5                1            0.730263            0.677632   \n",
       "6                1            0.730263            0.677632   \n",
       "7                1            0.730263            0.677632   \n",
       "\n",
       "   split2_train_score  split3_train_score  split4_train_score  \\\n",
       "0            0.730263            0.717105            0.710526   \n",
       "1            0.730263            0.717105            0.717105   \n",
       "2            0.730263            0.717105            0.717105   \n",
       "3            0.730263            0.717105            0.717105   \n",
       "4            0.730263            0.717105            0.717105   \n",
       "5            0.730263            0.717105            0.710526   \n",
       "6            0.730263            0.717105            0.710526   \n",
       "7            0.730263            0.717105            0.710526   \n",
       "\n",
       "   mean_train_score  std_train_score  \n",
       "0          0.709211         0.023316  \n",
       "1          0.713158         0.018421  \n",
       "2          0.713158         0.021860  \n",
       "3          0.713158         0.021860  \n",
       "4          0.714474         0.019338  \n",
       "5          0.713158         0.019338  \n",
       "6          0.713158         0.019338  \n",
       "7          0.713158         0.019338  \n",
       "\n",
       "[8 rows x 21 columns]"
      ]
     },
     "execution_count": 105,
     "metadata": {},
     "output_type": "execute_result"
    }
   ],
   "source": [
    "grid_results = pd.DataFrame(gridsearch.cv_results_)\n",
    "grid_results"
   ]
  },
  {
   "cell_type": "code",
   "execution_count": 107,
   "metadata": {
    "ExecuteTime": {
     "end_time": "2020-09-02T22:09:07.567071Z",
     "start_time": "2020-09-02T22:09:06.953844Z"
    }
   },
   "outputs": [
    {
     "data": {
      "text/plain": [
       "<AxesSubplot:xlabel='param_C'>"
      ]
     },
     "execution_count": 107,
     "metadata": {},
     "output_type": "execute_result"
    },
    {
     "data": {
      "image/png": "[encoded data removed]",
      "text/plain": [
       "<Figure size 432x288 with 1 Axes>"
      ]
     },
     "metadata": {
      "needs_background": "light"
     },
     "output_type": "display_data"
    }
   ],
   "source": [
    "grid_results.plot('param_C','mean_train_score',logx=True)"
   ]
  },
  {
   "cell_type": "code",
   "execution_count": 108,
   "metadata": {
    "ExecuteTime": {
     "end_time": "2020-09-02T22:09:45.378097Z",
     "start_time": "2020-09-02T22:09:26.690415Z"
    }
   },
   "outputs": [
    {
     "name": "stdout",
     "output_type": "stream",
     "text": [
      "BEST RESULTS:\n",
      "0.8604175101214576\n"
     ]
    },
    {
     "data": {
      "text/plain": [
       "{'C': 10,\n",
       " 'class_weight': None,\n",
       " 'fit_intercept': True,\n",
       " 'penalty': 'l2',\n",
       " 'solver': 'newton-cg'}"
      ]
     },
     "execution_count": 108,
     "metadata": {},
     "output_type": "execute_result"
    }
   ],
   "source": [
    "from sklearn.model_selection import GridSearchCV, RandomizedSearchCV\n",
    "model = LogisticRegression()\n",
    "\n",
    "params = {'C' : [0.01,0.1,1.0,10,100,1e5],\n",
    "          'penalty' : ['l1', 'l2', 'elasticnet', 'none'],\n",
    "          'solver':[\"liblinear\", \"newton-cg\", \"lbfgs\", \"sag\",\"saga\"],\n",
    "          'fit_intercept':[True,False],\n",
    "          'class_weight':[None,'balanced']\n",
    "         }\n",
    "\n",
    "gridsearch = GridSearchCV(model,params,scoring='roc_auc',return_train_score=True)\n",
    "gridsearch.fit(X_train_sca,y_train)\n",
    "\n",
    "print('BEST RESULTS:')\n",
    "print(gridsearch.best_score_)\n",
    "gridsearch.best_params_"
   ]
  },
  {
   "cell_type": "code",
   "execution_count": 109,
   "metadata": {
    "ExecuteTime": {
     "end_time": "2020-09-02T22:09:45.385845Z",
     "start_time": "2020-09-02T22:09:45.380775Z"
    }
   },
   "outputs": [
    {
     "data": {
      "text/plain": [
       "{'C': 10,\n",
       " 'class_weight': None,\n",
       " 'fit_intercept': True,\n",
       " 'penalty': 'l2',\n",
       " 'solver': 'newton-cg'}"
      ]
     },
     "execution_count": 109,
     "metadata": {},
     "output_type": "execute_result"
    }
   ],
   "source": [
    "best_params = gridsearch.best_params_\n",
    "best_params"
   ]
  },
  {
   "cell_type": "code",
   "execution_count": 110,
   "metadata": {
    "ExecuteTime": {
     "end_time": "2020-09-02T22:09:45.868636Z",
     "start_time": "2020-09-02T22:09:45.388808Z"
    }
   },
   "outputs": [
    {
     "name": "stdout",
     "output_type": "stream",
     "text": [
      "------------------------------------------------------------\n",
      "[i] CLASSIFICATION REPORT\n",
      "------------------------------------------------------------\n",
      "              precision    recall  f1-score   support\n",
      "\n",
      "           0       0.71      0.84      0.77        88\n",
      "           1       0.77      0.61      0.68        77\n",
      "\n",
      "    accuracy                           0.73       165\n",
      "   macro avg       0.74      0.73      0.73       165\n",
      "weighted avg       0.74      0.73      0.73       165\n",
      "\n",
      "------------------------------------------------------------\n",
      "\n",
      "\n"
     ]
    },
    {
     "data": {
      "image/png": "[encoded data removed]",
      "text/plain": [
       "<Figure size 720x288 with 3 Axes>"
      ]
     },
     "metadata": {
      "needs_background": "light"
     },
     "output_type": "display_data"
    },
    {
     "data": {
      "text/plain": [
       "(<Figure size 720x288 with 3 Axes>,\n",
       " <AxesSubplot:title={'center':'Receiving Operator Characteristic (ROC) Curve'}, xlabel='False Positive Rate', ylabel='True Positive Rate'>)"
      ]
     },
     "execution_count": 110,
     "metadata": {},
     "output_type": "execute_result"
    }
   ],
   "source": [
    "best_model = LogisticRegression(**best_params)\n",
    "best_model.fit(X_train_sca,y_train)\n",
    "evaluate_classification(best_model,X_test_sca,y_test)"
   ]
  },
  {
   "cell_type": "code",
   "execution_count": 111,
   "metadata": {
    "ExecuteTime": {
     "end_time": "2020-09-02T22:09:45.917046Z",
     "start_time": "2020-09-02T22:09:45.871148Z"
    }
   },
   "outputs": [
    {
     "data": {
      "text/html": [
       "<div>\n",
       "<style scoped>\n",
       "    .dataframe tbody tr th:only-of-type {\n",
       "        vertical-align: middle;\n",
       "    }\n",
       "\n",
       "    .dataframe tbody tr th {\n",
       "        vertical-align: top;\n",
       "    }\n",
       "\n",
       "    .dataframe thead th {\n",
       "        text-align: right;\n",
       "    }\n",
       "</style>\n",
       "<table border=\"1\" class=\"dataframe\">\n",
       "  <thead>\n",
       "    <tr style=\"text-align: right;\">\n",
       "      <th></th>\n",
       "      <th>mean_fit_time</th>\n",
       "      <th>std_fit_time</th>\n",
       "      <th>mean_score_time</th>\n",
       "      <th>std_score_time</th>\n",
       "      <th>param_C</th>\n",
       "      <th>param_class_weight</th>\n",
       "      <th>param_fit_intercept</th>\n",
       "      <th>param_penalty</th>\n",
       "      <th>param_solver</th>\n",
       "      <th>params</th>\n",
       "      <th>...</th>\n",
       "      <th>mean_test_score</th>\n",
       "      <th>std_test_score</th>\n",
       "      <th>rank_test_score</th>\n",
       "      <th>split0_train_score</th>\n",
       "      <th>split1_train_score</th>\n",
       "      <th>split2_train_score</th>\n",
       "      <th>split3_train_score</th>\n",
       "      <th>split4_train_score</th>\n",
       "      <th>mean_train_score</th>\n",
       "      <th>std_train_score</th>\n",
       "    </tr>\n",
       "  </thead>\n",
       "  <tbody>\n",
       "    <tr>\n",
       "      <th>0</th>\n",
       "      <td>0.003605</td>\n",
       "      <td>0.000488</td>\n",
       "      <td>0.003476</td>\n",
       "      <td>0.000190</td>\n",
       "      <td>0.01</td>\n",
       "      <td>None</td>\n",
       "      <td>True</td>\n",
       "      <td>l1</td>\n",
       "      <td>liblinear</td>\n",
       "      <td>{'C': 0.01, 'class_weight': None, 'fit_interce...</td>\n",
       "      <td>...</td>\n",
       "      <td>0.5</td>\n",
       "      <td>0.0</td>\n",
       "      <td>257</td>\n",
       "      <td>0.5</td>\n",
       "      <td>0.5</td>\n",
       "      <td>0.5</td>\n",
       "      <td>0.5</td>\n",
       "      <td>0.5</td>\n",
       "      <td>0.5</td>\n",
       "      <td>0.0</td>\n",
       "    </tr>\n",
       "    <tr>\n",
       "      <th>4</th>\n",
       "      <td>0.003840</td>\n",
       "      <td>0.000255</td>\n",
       "      <td>0.003344</td>\n",
       "      <td>0.000406</td>\n",
       "      <td>0.01</td>\n",
       "      <td>None</td>\n",
       "      <td>True</td>\n",
       "      <td>l1</td>\n",
       "      <td>saga</td>\n",
       "      <td>{'C': 0.01, 'class_weight': None, 'fit_interce...</td>\n",
       "      <td>...</td>\n",
       "      <td>0.5</td>\n",
       "      <td>0.0</td>\n",
       "      <td>257</td>\n",
       "      <td>0.5</td>\n",
       "      <td>0.5</td>\n",
       "      <td>0.5</td>\n",
       "      <td>0.5</td>\n",
       "      <td>0.5</td>\n",
       "      <td>0.5</td>\n",
       "      <td>0.0</td>\n",
       "    </tr>\n",
       "    <tr>\n",
       "      <th>64</th>\n",
       "      <td>0.003455</td>\n",
       "      <td>0.000080</td>\n",
       "      <td>0.002652</td>\n",
       "      <td>0.000014</td>\n",
       "      <td>0.01</td>\n",
       "      <td>balanced</td>\n",
       "      <td>False</td>\n",
       "      <td>l1</td>\n",
       "      <td>saga</td>\n",
       "      <td>{'C': 0.01, 'class_weight': 'balanced', 'fit_i...</td>\n",
       "      <td>...</td>\n",
       "      <td>0.5</td>\n",
       "      <td>0.0</td>\n",
       "      <td>257</td>\n",
       "      <td>0.5</td>\n",
       "      <td>0.5</td>\n",
       "      <td>0.5</td>\n",
       "      <td>0.5</td>\n",
       "      <td>0.5</td>\n",
       "      <td>0.5</td>\n",
       "      <td>0.0</td>\n",
       "    </tr>\n",
       "    <tr>\n",
       "      <th>60</th>\n",
       "      <td>0.002745</td>\n",
       "      <td>0.000022</td>\n",
       "      <td>0.002652</td>\n",
       "      <td>0.000023</td>\n",
       "      <td>0.01</td>\n",
       "      <td>balanced</td>\n",
       "      <td>False</td>\n",
       "      <td>l1</td>\n",
       "      <td>liblinear</td>\n",
       "      <td>{'C': 0.01, 'class_weight': 'balanced', 'fit_i...</td>\n",
       "      <td>...</td>\n",
       "      <td>0.5</td>\n",
       "      <td>0.0</td>\n",
       "      <td>257</td>\n",
       "      <td>0.5</td>\n",
       "      <td>0.5</td>\n",
       "      <td>0.5</td>\n",
       "      <td>0.5</td>\n",
       "      <td>0.5</td>\n",
       "      <td>0.5</td>\n",
       "      <td>0.0</td>\n",
       "    </tr>\n",
       "    <tr>\n",
       "      <th>44</th>\n",
       "      <td>0.003486</td>\n",
       "      <td>0.000086</td>\n",
       "      <td>0.002636</td>\n",
       "      <td>0.000025</td>\n",
       "      <td>0.01</td>\n",
       "      <td>balanced</td>\n",
       "      <td>True</td>\n",
       "      <td>l1</td>\n",
       "      <td>saga</td>\n",
       "      <td>{'C': 0.01, 'class_weight': 'balanced', 'fit_i...</td>\n",
       "      <td>...</td>\n",
       "      <td>0.5</td>\n",
       "      <td>0.0</td>\n",
       "      <td>257</td>\n",
       "      <td>0.5</td>\n",
       "      <td>0.5</td>\n",
       "      <td>0.5</td>\n",
       "      <td>0.5</td>\n",
       "      <td>0.5</td>\n",
       "      <td>0.5</td>\n",
       "      <td>0.0</td>\n",
       "    </tr>\n",
       "    <tr>\n",
       "      <th>...</th>\n",
       "      <td>...</td>\n",
       "      <td>...</td>\n",
       "      <td>...</td>\n",
       "      <td>...</td>\n",
       "      <td>...</td>\n",
       "      <td>...</td>\n",
       "      <td>...</td>\n",
       "      <td>...</td>\n",
       "      <td>...</td>\n",
       "      <td>...</td>\n",
       "      <td>...</td>\n",
       "      <td>...</td>\n",
       "      <td>...</td>\n",
       "      <td>...</td>\n",
       "      <td>...</td>\n",
       "      <td>...</td>\n",
       "      <td>...</td>\n",
       "      <td>...</td>\n",
       "      <td>...</td>\n",
       "      <td>...</td>\n",
       "      <td>...</td>\n",
       "    </tr>\n",
       "    <tr>\n",
       "      <th>471</th>\n",
       "      <td>0.000560</td>\n",
       "      <td>0.000010</td>\n",
       "      <td>0.000000</td>\n",
       "      <td>0.000000</td>\n",
       "      <td>100000</td>\n",
       "      <td>balanced</td>\n",
       "      <td>False</td>\n",
       "      <td>elasticnet</td>\n",
       "      <td>newton-cg</td>\n",
       "      <td>{'C': 100000.0, 'class_weight': 'balanced', 'f...</td>\n",
       "      <td>...</td>\n",
       "      <td>NaN</td>\n",
       "      <td>NaN</td>\n",
       "      <td>316</td>\n",
       "      <td>NaN</td>\n",
       "      <td>NaN</td>\n",
       "      <td>NaN</td>\n",
       "      <td>NaN</td>\n",
       "      <td>NaN</td>\n",
       "      <td>NaN</td>\n",
       "      <td>NaN</td>\n",
       "    </tr>\n",
       "    <tr>\n",
       "      <th>472</th>\n",
       "      <td>0.000614</td>\n",
       "      <td>0.000054</td>\n",
       "      <td>0.000000</td>\n",
       "      <td>0.000000</td>\n",
       "      <td>100000</td>\n",
       "      <td>balanced</td>\n",
       "      <td>False</td>\n",
       "      <td>elasticnet</td>\n",
       "      <td>lbfgs</td>\n",
       "      <td>{'C': 100000.0, 'class_weight': 'balanced', 'f...</td>\n",
       "      <td>...</td>\n",
       "      <td>NaN</td>\n",
       "      <td>NaN</td>\n",
       "      <td>317</td>\n",
       "      <td>NaN</td>\n",
       "      <td>NaN</td>\n",
       "      <td>NaN</td>\n",
       "      <td>NaN</td>\n",
       "      <td>NaN</td>\n",
       "      <td>NaN</td>\n",
       "      <td>NaN</td>\n",
       "    </tr>\n",
       "    <tr>\n",
       "      <th>473</th>\n",
       "      <td>0.000540</td>\n",
       "      <td>0.000035</td>\n",
       "      <td>0.000000</td>\n",
       "      <td>0.000000</td>\n",
       "      <td>100000</td>\n",
       "      <td>balanced</td>\n",
       "      <td>False</td>\n",
       "      <td>elasticnet</td>\n",
       "      <td>sag</td>\n",
       "      <td>{'C': 100000.0, 'class_weight': 'balanced', 'f...</td>\n",
       "      <td>...</td>\n",
       "      <td>NaN</td>\n",
       "      <td>NaN</td>\n",
       "      <td>318</td>\n",
       "      <td>NaN</td>\n",
       "      <td>NaN</td>\n",
       "      <td>NaN</td>\n",
       "      <td>NaN</td>\n",
       "      <td>NaN</td>\n",
       "      <td>NaN</td>\n",
       "      <td>NaN</td>\n",
       "    </tr>\n",
       "    <tr>\n",
       "      <th>474</th>\n",
       "      <td>0.000545</td>\n",
       "      <td>0.000029</td>\n",
       "      <td>0.000000</td>\n",
       "      <td>0.000000</td>\n",
       "      <td>100000</td>\n",
       "      <td>balanced</td>\n",
       "      <td>False</td>\n",
       "      <td>elasticnet</td>\n",
       "      <td>saga</td>\n",
       "      <td>{'C': 100000.0, 'class_weight': 'balanced', 'f...</td>\n",
       "      <td>...</td>\n",
       "      <td>NaN</td>\n",
       "      <td>NaN</td>\n",
       "      <td>319</td>\n",
       "      <td>NaN</td>\n",
       "      <td>NaN</td>\n",
       "      <td>NaN</td>\n",
       "      <td>NaN</td>\n",
       "      <td>NaN</td>\n",
       "      <td>NaN</td>\n",
       "      <td>NaN</td>\n",
       "    </tr>\n",
       "    <tr>\n",
       "      <th>475</th>\n",
       "      <td>0.000513</td>\n",
       "      <td>0.000002</td>\n",
       "      <td>0.000000</td>\n",
       "      <td>0.000000</td>\n",
       "      <td>100000</td>\n",
       "      <td>balanced</td>\n",
       "      <td>False</td>\n",
       "      <td>none</td>\n",
       "      <td>liblinear</td>\n",
       "      <td>{'C': 100000.0, 'class_weight': 'balanced', 'f...</td>\n",
       "      <td>...</td>\n",
       "      <td>NaN</td>\n",
       "      <td>NaN</td>\n",
       "      <td>320</td>\n",
       "      <td>NaN</td>\n",
       "      <td>NaN</td>\n",
       "      <td>NaN</td>\n",
       "      <td>NaN</td>\n",
       "      <td>NaN</td>\n",
       "      <td>NaN</td>\n",
       "      <td>NaN</td>\n",
       "    </tr>\n",
       "  </tbody>\n",
       "</table>\n",
       "<p>480 rows × 25 columns</p>\n",
       "</div>"
      ],
      "text/plain": [
       "     mean_fit_time  std_fit_time  mean_score_time  std_score_time param_C  \\\n",
       "0         0.003605      0.000488         0.003476        0.000190    0.01   \n",
       "4         0.003840      0.000255         0.003344        0.000406    0.01   \n",
       "64        0.003455      0.000080         0.002652        0.000014    0.01   \n",
       "60        0.002745      0.000022         0.002652        0.000023    0.01   \n",
       "44        0.003486      0.000086         0.002636        0.000025    0.01   \n",
       "..             ...           ...              ...             ...     ...   \n",
       "471       0.000560      0.000010         0.000000        0.000000  100000   \n",
       "472       0.000614      0.000054         0.000000        0.000000  100000   \n",
       "473       0.000540      0.000035         0.000000        0.000000  100000   \n",
       "474       0.000545      0.000029         0.000000        0.000000  100000   \n",
       "475       0.000513      0.000002         0.000000        0.000000  100000   \n",
       "\n",
       "    param_class_weight param_fit_intercept param_penalty param_solver  \\\n",
       "0                 None                True            l1    liblinear   \n",
       "4                 None                True            l1         saga   \n",
       "64            balanced               False            l1         saga   \n",
       "60            balanced               False            l1    liblinear   \n",
       "44            balanced                True            l1         saga   \n",
       "..                 ...                 ...           ...          ...   \n",
       "471           balanced               False    elasticnet    newton-cg   \n",
       "472           balanced               False    elasticnet        lbfgs   \n",
       "473           balanced               False    elasticnet          sag   \n",
       "474           balanced               False    elasticnet         saga   \n",
       "475           balanced               False          none    liblinear   \n",
       "\n",
       "                                                params  ...  mean_test_score  \\\n",
       "0    {'C': 0.01, 'class_weight': None, 'fit_interce...  ...              0.5   \n",
       "4    {'C': 0.01, 'class_weight': None, 'fit_interce...  ...              0.5   \n",
       "64   {'C': 0.01, 'class_weight': 'balanced', 'fit_i...  ...              0.5   \n",
       "60   {'C': 0.01, 'class_weight': 'balanced', 'fit_i...  ...              0.5   \n",
       "44   {'C': 0.01, 'class_weight': 'balanced', 'fit_i...  ...              0.5   \n",
       "..                                                 ...  ...              ...   \n",
       "471  {'C': 100000.0, 'class_weight': 'balanced', 'f...  ...              NaN   \n",
       "472  {'C': 100000.0, 'class_weight': 'balanced', 'f...  ...              NaN   \n",
       "473  {'C': 100000.0, 'class_weight': 'balanced', 'f...  ...              NaN   \n",
       "474  {'C': 100000.0, 'class_weight': 'balanced', 'f...  ...              NaN   \n",
       "475  {'C': 100000.0, 'class_weight': 'balanced', 'f...  ...              NaN   \n",
       "\n",
       "     std_test_score  rank_test_score  split0_train_score  split1_train_score  \\\n",
       "0               0.0              257                 0.5                 0.5   \n",
       "4               0.0              257                 0.5                 0.5   \n",
       "64              0.0              257                 0.5                 0.5   \n",
       "60              0.0              257                 0.5                 0.5   \n",
       "44              0.0              257                 0.5                 0.5   \n",
       "..              ...              ...                 ...                 ...   \n",
       "471             NaN              316                 NaN                 NaN   \n",
       "472             NaN              317                 NaN                 NaN   \n",
       "473             NaN              318                 NaN                 NaN   \n",
       "474             NaN              319                 NaN                 NaN   \n",
       "475             NaN              320                 NaN                 NaN   \n",
       "\n",
       "     split2_train_score  split3_train_score  split4_train_score  \\\n",
       "0                   0.5                 0.5                 0.5   \n",
       "4                   0.5                 0.5                 0.5   \n",
       "64                  0.5                 0.5                 0.5   \n",
       "60                  0.5                 0.5                 0.5   \n",
       "44                  0.5                 0.5                 0.5   \n",
       "..                  ...                 ...                 ...   \n",
       "471                 NaN                 NaN                 NaN   \n",
       "472                 NaN                 NaN                 NaN   \n",
       "473                 NaN                 NaN                 NaN   \n",
       "474                 NaN                 NaN                 NaN   \n",
       "475                 NaN                 NaN                 NaN   \n",
       "\n",
       "     mean_train_score  std_train_score  \n",
       "0                 0.5              0.0  \n",
       "4                 0.5              0.0  \n",
       "64                0.5              0.0  \n",
       "60                0.5              0.0  \n",
       "44                0.5              0.0  \n",
       "..                ...              ...  \n",
       "471               NaN              NaN  \n",
       "472               NaN              NaN  \n",
       "473               NaN              NaN  \n",
       "474               NaN              NaN  \n",
       "475               NaN              NaN  \n",
       "\n",
       "[480 rows x 25 columns]"
      ]
     },
     "execution_count": 111,
     "metadata": {},
     "output_type": "execute_result"
    }
   ],
   "source": [
    "grid_results = pd.DataFrame(gridsearch.cv_results_)\n",
    "grid_results.sort_values('mean_train_score')"
   ]
  },
  {
   "cell_type": "markdown",
   "metadata": {
    "ExecuteTime": {
     "end_time": "2020-03-25T01:45:43.484160Z",
     "start_time": "2020-03-25T01:45:43.482058Z"
    }
   },
   "source": [
    "# Class Imbalance"
   ]
  },
  {
   "cell_type": "markdown",
   "metadata": {},
   "source": [
    "## Class Imbalance Problems Lab"
   ]
  },
  {
   "cell_type": "code",
   "execution_count": 123,
   "metadata": {
    "ExecuteTime": {
     "end_time": "2020-09-02T22:11:46.997830Z",
     "start_time": "2020-09-02T22:11:46.995646Z"
    }
   },
   "outputs": [],
   "source": [
    "# !pip install -U imblearn"
   ]
  },
  {
   "cell_type": "code",
   "execution_count": 116,
   "metadata": {
    "ExecuteTime": {
     "end_time": "2020-09-02T22:10:21.193767Z",
     "start_time": "2020-09-02T22:10:17.776798Z"
    }
   },
   "outputs": [
    {
     "data": {
      "text/html": [
       "<div>\n",
       "<style scoped>\n",
       "    .dataframe tbody tr th:only-of-type {\n",
       "        vertical-align: middle;\n",
       "    }\n",
       "\n",
       "    .dataframe tbody tr th {\n",
       "        vertical-align: top;\n",
       "    }\n",
       "\n",
       "    .dataframe thead th {\n",
       "        text-align: right;\n",
       "    }\n",
       "</style>\n",
       "<table border=\"1\" class=\"dataframe\">\n",
       "  <thead>\n",
       "    <tr style=\"text-align: right;\">\n",
       "      <th></th>\n",
       "      <th>Time</th>\n",
       "      <th>V1</th>\n",
       "      <th>V2</th>\n",
       "      <th>V3</th>\n",
       "      <th>V4</th>\n",
       "      <th>V5</th>\n",
       "      <th>V6</th>\n",
       "      <th>V7</th>\n",
       "      <th>V8</th>\n",
       "      <th>V9</th>\n",
       "      <th>...</th>\n",
       "      <th>V21</th>\n",
       "      <th>V22</th>\n",
       "      <th>V23</th>\n",
       "      <th>V24</th>\n",
       "      <th>V25</th>\n",
       "      <th>V26</th>\n",
       "      <th>V27</th>\n",
       "      <th>V28</th>\n",
       "      <th>Amount</th>\n",
       "      <th>Class</th>\n",
       "    </tr>\n",
       "  </thead>\n",
       "  <tbody>\n",
       "    <tr>\n",
       "      <th>0</th>\n",
       "      <td>0.0</td>\n",
       "      <td>-1.359807</td>\n",
       "      <td>-0.072781</td>\n",
       "      <td>2.536347</td>\n",
       "      <td>1.378155</td>\n",
       "      <td>-0.338321</td>\n",
       "      <td>0.462388</td>\n",
       "      <td>0.239599</td>\n",
       "      <td>0.098698</td>\n",
       "      <td>0.363787</td>\n",
       "      <td>...</td>\n",
       "      <td>-0.018307</td>\n",
       "      <td>0.277838</td>\n",
       "      <td>-0.110474</td>\n",
       "      <td>0.066928</td>\n",
       "      <td>0.128539</td>\n",
       "      <td>-0.189115</td>\n",
       "      <td>0.133558</td>\n",
       "      <td>-0.021053</td>\n",
       "      <td>149.62</td>\n",
       "      <td>0</td>\n",
       "    </tr>\n",
       "    <tr>\n",
       "      <th>1</th>\n",
       "      <td>0.0</td>\n",
       "      <td>1.191857</td>\n",
       "      <td>0.266151</td>\n",
       "      <td>0.166480</td>\n",
       "      <td>0.448154</td>\n",
       "      <td>0.060018</td>\n",
       "      <td>-0.082361</td>\n",
       "      <td>-0.078803</td>\n",
       "      <td>0.085102</td>\n",
       "      <td>-0.255425</td>\n",
       "      <td>...</td>\n",
       "      <td>-0.225775</td>\n",
       "      <td>-0.638672</td>\n",
       "      <td>0.101288</td>\n",
       "      <td>-0.339846</td>\n",
       "      <td>0.167170</td>\n",
       "      <td>0.125895</td>\n",
       "      <td>-0.008983</td>\n",
       "      <td>0.014724</td>\n",
       "      <td>2.69</td>\n",
       "      <td>0</td>\n",
       "    </tr>\n",
       "    <tr>\n",
       "      <th>2</th>\n",
       "      <td>1.0</td>\n",
       "      <td>-1.358354</td>\n",
       "      <td>-1.340163</td>\n",
       "      <td>1.773209</td>\n",
       "      <td>0.379780</td>\n",
       "      <td>-0.503198</td>\n",
       "      <td>1.800499</td>\n",
       "      <td>0.791461</td>\n",
       "      <td>0.247676</td>\n",
       "      <td>-1.514654</td>\n",
       "      <td>...</td>\n",
       "      <td>0.247998</td>\n",
       "      <td>0.771679</td>\n",
       "      <td>0.909412</td>\n",
       "      <td>-0.689281</td>\n",
       "      <td>-0.327642</td>\n",
       "      <td>-0.139097</td>\n",
       "      <td>-0.055353</td>\n",
       "      <td>-0.059752</td>\n",
       "      <td>378.66</td>\n",
       "      <td>0</td>\n",
       "    </tr>\n",
       "    <tr>\n",
       "      <th>3</th>\n",
       "      <td>1.0</td>\n",
       "      <td>-0.966272</td>\n",
       "      <td>-0.185226</td>\n",
       "      <td>1.792993</td>\n",
       "      <td>-0.863291</td>\n",
       "      <td>-0.010309</td>\n",
       "      <td>1.247203</td>\n",
       "      <td>0.237609</td>\n",
       "      <td>0.377436</td>\n",
       "      <td>-1.387024</td>\n",
       "      <td>...</td>\n",
       "      <td>-0.108300</td>\n",
       "      <td>0.005274</td>\n",
       "      <td>-0.190321</td>\n",
       "      <td>-1.175575</td>\n",
       "      <td>0.647376</td>\n",
       "      <td>-0.221929</td>\n",
       "      <td>0.062723</td>\n",
       "      <td>0.061458</td>\n",
       "      <td>123.50</td>\n",
       "      <td>0</td>\n",
       "    </tr>\n",
       "    <tr>\n",
       "      <th>4</th>\n",
       "      <td>2.0</td>\n",
       "      <td>-1.158233</td>\n",
       "      <td>0.877737</td>\n",
       "      <td>1.548718</td>\n",
       "      <td>0.403034</td>\n",
       "      <td>-0.407193</td>\n",
       "      <td>0.095921</td>\n",
       "      <td>0.592941</td>\n",
       "      <td>-0.270533</td>\n",
       "      <td>0.817739</td>\n",
       "      <td>...</td>\n",
       "      <td>-0.009431</td>\n",
       "      <td>0.798278</td>\n",
       "      <td>-0.137458</td>\n",
       "      <td>0.141267</td>\n",
       "      <td>-0.206010</td>\n",
       "      <td>0.502292</td>\n",
       "      <td>0.219422</td>\n",
       "      <td>0.215153</td>\n",
       "      <td>69.99</td>\n",
       "      <td>0</td>\n",
       "    </tr>\n",
       "    <tr>\n",
       "      <th>...</th>\n",
       "      <td>...</td>\n",
       "      <td>...</td>\n",
       "      <td>...</td>\n",
       "      <td>...</td>\n",
       "      <td>...</td>\n",
       "      <td>...</td>\n",
       "      <td>...</td>\n",
       "      <td>...</td>\n",
       "      <td>...</td>\n",
       "      <td>...</td>\n",
       "      <td>...</td>\n",
       "      <td>...</td>\n",
       "      <td>...</td>\n",
       "      <td>...</td>\n",
       "      <td>...</td>\n",
       "      <td>...</td>\n",
       "      <td>...</td>\n",
       "      <td>...</td>\n",
       "      <td>...</td>\n",
       "      <td>...</td>\n",
       "      <td>...</td>\n",
       "    </tr>\n",
       "    <tr>\n",
       "      <th>284802</th>\n",
       "      <td>172786.0</td>\n",
       "      <td>-11.881118</td>\n",
       "      <td>10.071785</td>\n",
       "      <td>-9.834783</td>\n",
       "      <td>-2.066656</td>\n",
       "      <td>-5.364473</td>\n",
       "      <td>-2.606837</td>\n",
       "      <td>-4.918215</td>\n",
       "      <td>7.305334</td>\n",
       "      <td>1.914428</td>\n",
       "      <td>...</td>\n",
       "      <td>0.213454</td>\n",
       "      <td>0.111864</td>\n",
       "      <td>1.014480</td>\n",
       "      <td>-0.509348</td>\n",
       "      <td>1.436807</td>\n",
       "      <td>0.250034</td>\n",
       "      <td>0.943651</td>\n",
       "      <td>0.823731</td>\n",
       "      <td>0.77</td>\n",
       "      <td>0</td>\n",
       "    </tr>\n",
       "    <tr>\n",
       "      <th>284803</th>\n",
       "      <td>172787.0</td>\n",
       "      <td>-0.732789</td>\n",
       "      <td>-0.055080</td>\n",
       "      <td>2.035030</td>\n",
       "      <td>-0.738589</td>\n",
       "      <td>0.868229</td>\n",
       "      <td>1.058415</td>\n",
       "      <td>0.024330</td>\n",
       "      <td>0.294869</td>\n",
       "      <td>0.584800</td>\n",
       "      <td>...</td>\n",
       "      <td>0.214205</td>\n",
       "      <td>0.924384</td>\n",
       "      <td>0.012463</td>\n",
       "      <td>-1.016226</td>\n",
       "      <td>-0.606624</td>\n",
       "      <td>-0.395255</td>\n",
       "      <td>0.068472</td>\n",
       "      <td>-0.053527</td>\n",
       "      <td>24.79</td>\n",
       "      <td>0</td>\n",
       "    </tr>\n",
       "    <tr>\n",
       "      <th>284804</th>\n",
       "      <td>172788.0</td>\n",
       "      <td>1.919565</td>\n",
       "      <td>-0.301254</td>\n",
       "      <td>-3.249640</td>\n",
       "      <td>-0.557828</td>\n",
       "      <td>2.630515</td>\n",
       "      <td>3.031260</td>\n",
       "      <td>-0.296827</td>\n",
       "      <td>0.708417</td>\n",
       "      <td>0.432454</td>\n",
       "      <td>...</td>\n",
       "      <td>0.232045</td>\n",
       "      <td>0.578229</td>\n",
       "      <td>-0.037501</td>\n",
       "      <td>0.640134</td>\n",
       "      <td>0.265745</td>\n",
       "      <td>-0.087371</td>\n",
       "      <td>0.004455</td>\n",
       "      <td>-0.026561</td>\n",
       "      <td>67.88</td>\n",
       "      <td>0</td>\n",
       "    </tr>\n",
       "    <tr>\n",
       "      <th>284805</th>\n",
       "      <td>172788.0</td>\n",
       "      <td>-0.240440</td>\n",
       "      <td>0.530483</td>\n",
       "      <td>0.702510</td>\n",
       "      <td>0.689799</td>\n",
       "      <td>-0.377961</td>\n",
       "      <td>0.623708</td>\n",
       "      <td>-0.686180</td>\n",
       "      <td>0.679145</td>\n",
       "      <td>0.392087</td>\n",
       "      <td>...</td>\n",
       "      <td>0.265245</td>\n",
       "      <td>0.800049</td>\n",
       "      <td>-0.163298</td>\n",
       "      <td>0.123205</td>\n",
       "      <td>-0.569159</td>\n",
       "      <td>0.546668</td>\n",
       "      <td>0.108821</td>\n",
       "      <td>0.104533</td>\n",
       "      <td>10.00</td>\n",
       "      <td>0</td>\n",
       "    </tr>\n",
       "    <tr>\n",
       "      <th>284806</th>\n",
       "      <td>172792.0</td>\n",
       "      <td>-0.533413</td>\n",
       "      <td>-0.189733</td>\n",
       "      <td>0.703337</td>\n",
       "      <td>-0.506271</td>\n",
       "      <td>-0.012546</td>\n",
       "      <td>-0.649617</td>\n",
       "      <td>1.577006</td>\n",
       "      <td>-0.414650</td>\n",
       "      <td>0.486180</td>\n",
       "      <td>...</td>\n",
       "      <td>0.261057</td>\n",
       "      <td>0.643078</td>\n",
       "      <td>0.376777</td>\n",
       "      <td>0.008797</td>\n",
       "      <td>-0.473649</td>\n",
       "      <td>-0.818267</td>\n",
       "      <td>-0.002415</td>\n",
       "      <td>0.013649</td>\n",
       "      <td>217.00</td>\n",
       "      <td>0</td>\n",
       "    </tr>\n",
       "  </tbody>\n",
       "</table>\n",
       "<p>284807 rows × 31 columns</p>\n",
       "</div>"
      ],
      "text/plain": [
       "            Time         V1         V2        V3        V4        V5  \\\n",
       "0            0.0  -1.359807  -0.072781  2.536347  1.378155 -0.338321   \n",
       "1            0.0   1.191857   0.266151  0.166480  0.448154  0.060018   \n",
       "2            1.0  -1.358354  -1.340163  1.773209  0.379780 -0.503198   \n",
       "3            1.0  -0.966272  -0.185226  1.792993 -0.863291 -0.010309   \n",
       "4            2.0  -1.158233   0.877737  1.548718  0.403034 -0.407193   \n",
       "...          ...        ...        ...       ...       ...       ...   \n",
       "284802  172786.0 -11.881118  10.071785 -9.834783 -2.066656 -5.364473   \n",
       "284803  172787.0  -0.732789  -0.055080  2.035030 -0.738589  0.868229   \n",
       "284804  172788.0   1.919565  -0.301254 -3.249640 -0.557828  2.630515   \n",
       "284805  172788.0  -0.240440   0.530483  0.702510  0.689799 -0.377961   \n",
       "284806  172792.0  -0.533413  -0.189733  0.703337 -0.506271 -0.012546   \n",
       "\n",
       "              V6        V7        V8        V9  ...       V21       V22  \\\n",
       "0       0.462388  0.239599  0.098698  0.363787  ... -0.018307  0.277838   \n",
       "1      -0.082361 -0.078803  0.085102 -0.255425  ... -0.225775 -0.638672   \n",
       "2       1.800499  0.791461  0.247676 -1.514654  ...  0.247998  0.771679   \n",
       "3       1.247203  0.237609  0.377436 -1.387024  ... -0.108300  0.005274   \n",
       "4       0.095921  0.592941 -0.270533  0.817739  ... -0.009431  0.798278   \n",
       "...          ...       ...       ...       ...  ...       ...       ...   \n",
       "284802 -2.606837 -4.918215  7.305334  1.914428  ...  0.213454  0.111864   \n",
       "284803  1.058415  0.024330  0.294869  0.584800  ...  0.214205  0.924384   \n",
       "284804  3.031260 -0.296827  0.708417  0.432454  ...  0.232045  0.578229   \n",
       "284805  0.623708 -0.686180  0.679145  0.392087  ...  0.265245  0.800049   \n",
       "284806 -0.649617  1.577006 -0.414650  0.486180  ...  0.261057  0.643078   \n",
       "\n",
       "             V23       V24       V25       V26       V27       V28  Amount  \\\n",
       "0      -0.110474  0.066928  0.128539 -0.189115  0.133558 -0.021053  149.62   \n",
       "1       0.101288 -0.339846  0.167170  0.125895 -0.008983  0.014724    2.69   \n",
       "2       0.909412 -0.689281 -0.327642 -0.139097 -0.055353 -0.059752  378.66   \n",
       "3      -0.190321 -1.175575  0.647376 -0.221929  0.062723  0.061458  123.50   \n",
       "4      -0.137458  0.141267 -0.206010  0.502292  0.219422  0.215153   69.99   \n",
       "...          ...       ...       ...       ...       ...       ...     ...   \n",
       "284802  1.014480 -0.509348  1.436807  0.250034  0.943651  0.823731    0.77   \n",
       "284803  0.012463 -1.016226 -0.606624 -0.395255  0.068472 -0.053527   24.79   \n",
       "284804 -0.037501  0.640134  0.265745 -0.087371  0.004455 -0.026561   67.88   \n",
       "284805 -0.163298  0.123205 -0.569159  0.546668  0.108821  0.104533   10.00   \n",
       "284806  0.376777  0.008797 -0.473649 -0.818267 -0.002415  0.013649  217.00   \n",
       "\n",
       "        Class  \n",
       "0           0  \n",
       "1           0  \n",
       "2           0  \n",
       "3           0  \n",
       "4           0  \n",
       "...       ...  \n",
       "284802      0  \n",
       "284803      0  \n",
       "284804      0  \n",
       "284805      0  \n",
       "284806      0  \n",
       "\n",
       "[284807 rows x 31 columns]"
      ]
     },
     "execution_count": 116,
     "metadata": {},
     "output_type": "execute_result"
    }
   ],
   "source": [
    "df = pd.read_csv('../creditcard.csv.gz')\n",
    "df"
   ]
  },
  {
   "cell_type": "code",
   "execution_count": 129,
   "metadata": {
    "ExecuteTime": {
     "end_time": "2020-09-02T22:14:04.504246Z",
     "start_time": "2020-09-02T22:14:04.271742Z"
    }
   },
   "outputs": [
    {
     "data": {
      "text/plain": [
       "0    0.998258\n",
       "1    0.001742\n",
       "Name: Class, dtype: float64"
      ]
     },
     "execution_count": 129,
     "metadata": {},
     "output_type": "execute_result"
    }
   ],
   "source": [
    "target = 'Class'\n",
    "y = df[target].copy()\n",
    "X = df.drop(columns=target).copy()\n",
    "\n",
    "X_train, X_test, y_train, y_test = train_test_split(X, y, random_state=0)\n",
    "\n",
    "y_train.value_counts(1)"
   ]
  },
  {
   "cell_type": "markdown",
   "metadata": {
    "ExecuteTime": {
     "end_time": "2020-03-25T01:23:40.070054Z",
     "start_time": "2020-03-25T01:23:39.265821Z"
    }
   },
   "source": [
    "### When metrics can be misleading...\n",
    "- i.e. accuracy\n"
   ]
  },
  {
   "cell_type": "code",
   "execution_count": 137,
   "metadata": {
    "ExecuteTime": {
     "end_time": "2020-09-02T22:15:07.867885Z",
     "start_time": "2020-09-02T22:15:05.287261Z"
    }
   },
   "outputs": [
    {
     "data": {
      "text/plain": [
       "0.9984691441251651"
      ]
     },
     "execution_count": 137,
     "metadata": {},
     "output_type": "execute_result"
    }
   ],
   "source": [
    "# from sklearn\n",
    "regr = LogisticRegression(fit_intercept=False, solver='liblinear')\n",
    "regr.fit(X_train, y_train)\n",
    "\n",
    "regr.score(X_test,y_test)"
   ]
  },
  {
   "cell_type": "markdown",
   "metadata": {},
   "source": [
    "> ### Woohoo! We must have an amazing model!!..."
   ]
  },
  {
   "cell_type": "code",
   "execution_count": 138,
   "metadata": {
    "ExecuteTime": {
     "end_time": "2020-09-02T22:15:25.635088Z",
     "start_time": "2020-09-02T22:15:25.046259Z"
    }
   },
   "outputs": [
    {
     "name": "stdout",
     "output_type": "stream",
     "text": [
      "------------------------------------------------------------\n",
      "[i] CLASSIFICATION REPORT Imbalanced\n",
      "------------------------------------------------------------\n",
      "              precision    recall  f1-score   support\n",
      "\n",
      "           0       1.00      1.00      1.00     71082\n",
      "           1       0.54      0.56      0.55       120\n",
      "\n",
      "    accuracy                           1.00     71202\n",
      "   macro avg       0.77      0.78      0.78     71202\n",
      "weighted avg       1.00      1.00      1.00     71202\n",
      "\n",
      "------------------------------------------------------------\n",
      "\n",
      "\n"
     ]
    },
    {
     "data": {
      "image/png": "[encoded data removed]",
      "text/plain": [
       "<Figure size 720x288 with 3 Axes>"
      ]
     },
     "metadata": {
      "needs_background": "light"
     },
     "output_type": "display_data"
    }
   ],
   "source": [
    "evaluate_classification(regr,X_test, y_test,label='Imbalanced');"
   ]
  },
  {
   "cell_type": "code",
   "execution_count": 140,
   "metadata": {
    "ExecuteTime": {
     "end_time": "2020-09-02T22:15:39.502395Z",
     "start_time": "2020-09-02T22:15:39.495949Z"
    }
   },
   "outputs": [
    {
     "data": {
      "text/plain": [
       "0    0.998315\n",
       "1    0.001685\n",
       "Name: Class, dtype: float64"
      ]
     },
     "execution_count": 140,
     "metadata": {},
     "output_type": "execute_result"
    }
   ],
   "source": [
    "y_test.value_counts(normalize=True)"
   ]
  },
  {
   "cell_type": "markdown",
   "metadata": {},
   "source": [
    "### DummyClassifier for Dummies"
   ]
  },
  {
   "cell_type": "code",
   "execution_count": 145,
   "metadata": {
    "ExecuteTime": {
     "end_time": "2020-09-02T22:16:55.578911Z",
     "start_time": "2020-09-02T22:16:55.563733Z"
    }
   },
   "outputs": [
    {
     "data": {
      "text/plain": [
       "0.9983146540827504"
      ]
     },
     "execution_count": 145,
     "metadata": {},
     "output_type": "execute_result"
    }
   ],
   "source": [
    "from sklearn.dummy import DummyClassifier\n",
    "\n",
    "## Let's guess 0 for every observation\n",
    "dummy = DummyClassifier(strategy='constant',constant=0)\n",
    "\n",
    "preds = dummy.fit(X_train,y_train).predict(X_test)\n",
    "\n",
    "## How did we do?\n",
    "dummy.score(X_test,y_test)"
   ]
  },
  {
   "cell_type": "code",
   "execution_count": 172,
   "metadata": {
    "ExecuteTime": {
     "end_time": "2020-09-02T22:24:59.436526Z",
     "start_time": "2020-09-02T22:24:58.922658Z"
    }
   },
   "outputs": [
    {
     "name": "stdout",
     "output_type": "stream",
     "text": [
      "------------------------------------------------------------\n",
      "[i] CLASSIFICATION REPORT Dummy\n",
      "------------------------------------------------------------\n",
      "              precision    recall  f1-score   support\n",
      "\n",
      "           0       1.00      1.00      1.00     71082\n",
      "           1       0.00      0.00      0.00       120\n",
      "\n",
      "    accuracy                           1.00     71202\n",
      "   macro avg       0.50      0.50      0.50     71202\n",
      "weighted avg       1.00      1.00      1.00     71202\n",
      "\n",
      "------------------------------------------------------------\n",
      "\n",
      "\n"
     ]
    },
    {
     "data": {
      "image/png": "[encoded data removed]",
      "text/plain": [
       "<Figure size 720x288 with 3 Axes>"
      ]
     },
     "metadata": {
      "needs_background": "light"
     },
     "output_type": "display_data"
    }
   ],
   "source": [
    "evaluate_classification(dummy,X_test, y_test,label='Dummy');"
   ]
  },
  {
   "cell_type": "markdown",
   "metadata": {},
   "source": [
    "> So what can we do?"
   ]
  },
  {
   "cell_type": "markdown",
   "metadata": {},
   "source": [
    "## The Possible Solutions"
   ]
  },
  {
   "cell_type": "markdown",
   "metadata": {},
   "source": [
    "- Using `class_weight` parameter \n",
    "- Oversampling the minority class\n",
    "- Undersampling the majority class"
   ]
  },
  {
   "cell_type": "code",
   "execution_count": 173,
   "metadata": {
    "ExecuteTime": {
     "end_time": "2020-09-02T22:25:24.123981Z",
     "start_time": "2020-09-02T22:25:21.122609Z"
    }
   },
   "outputs": [
    {
     "name": "stdout",
     "output_type": "stream",
     "text": [
      "------------------------------------------------------------\n",
      "[i] CLASSIFICATION REPORT BASELINE\n",
      "------------------------------------------------------------\n",
      "              precision    recall  f1-score   support\n",
      "\n",
      "           0       1.00      1.00      1.00     71082\n",
      "           1       0.54      0.56      0.55       120\n",
      "\n",
      "    accuracy                           1.00     71202\n",
      "   macro avg       0.77      0.78      0.78     71202\n",
      "weighted avg       1.00      1.00      1.00     71202\n",
      "\n",
      "------------------------------------------------------------\n",
      "\n",
      "\n"
     ]
    },
    {
     "data": {
      "image/png": "[encoded data removed]",
      "text/plain": [
       "<Figure size 720x288 with 3 Axes>"
      ]
     },
     "metadata": {
      "needs_background": "light"
     },
     "output_type": "display_data"
    },
    {
     "name": "stdout",
     "output_type": "stream",
     "text": [
      "{'fit_intercept': False, 'solver': 'liblinear'}\n"
     ]
    }
   ],
   "source": [
    "## Baseline Model using lesson paras\n",
    "params = dict(fit_intercept=False, solver='liblinear')\n",
    "regr = LogisticRegression(**params)\n",
    "regr.fit(X_train, y_train)\n",
    "evaluate_classification(regr,X_test,y_test,label=\"BASELINE\" )\n",
    "print(params)#str(params))"
   ]
  },
  {
   "cell_type": "markdown",
   "metadata": {},
   "source": [
    "### Solution 1: `class_weight=\"balanced\"`\n"
   ]
  },
  {
   "cell_type": "code",
   "execution_count": 174,
   "metadata": {
    "ExecuteTime": {
     "end_time": "2020-09-02T22:25:40.934161Z",
     "start_time": "2020-09-02T22:25:35.576680Z"
    }
   },
   "outputs": [
    {
     "name": "stdout",
     "output_type": "stream",
     "text": [
      "------------------------------------------------------------\n",
      "[i] CLASSIFICATION REPORT balanced\n",
      "------------------------------------------------------------\n",
      "              precision    recall  f1-score   support\n",
      "\n",
      "           0       1.00      0.97      0.98     71082\n",
      "           1       0.05      0.91      0.09       120\n",
      "\n",
      "    accuracy                           0.97     71202\n",
      "   macro avg       0.52      0.94      0.54     71202\n",
      "weighted avg       1.00      0.97      0.98     71202\n",
      "\n",
      "------------------------------------------------------------\n",
      "\n",
      "\n"
     ]
    },
    {
     "data": {
      "image/png": "[encoded data removed]",
      "text/plain": [
       "<Figure size 720x288 with 3 Axes>"
      ]
     },
     "metadata": {
      "needs_background": "light"
     },
     "output_type": "display_data"
    },
    {
     "data": {
      "text/plain": [
       "(<Figure size 720x288 with 3 Axes>,\n",
       " <AxesSubplot:title={'center':'Receiving Operator Characteristic (ROC) Curve'}, xlabel='False Positive Rate', ylabel='True Positive Rate'>)"
      ]
     },
     "execution_count": 174,
     "metadata": {},
     "output_type": "execute_result"
    }
   ],
   "source": [
    "regr = LogisticRegression(class_weight='balanced',**params)\n",
    "regr.fit(X_train, y_train)\n",
    "evaluate_classification(regr,X_test,y_test,label='balanced')"
   ]
  },
  {
   "cell_type": "markdown",
   "metadata": {},
   "source": [
    "### Solution 2: Oversampling minority class with SMOTE"
   ]
  },
  {
   "cell_type": "code",
   "execution_count": 175,
   "metadata": {
    "ExecuteTime": {
     "end_time": "2020-09-02T22:25:40.942139Z",
     "start_time": "2020-09-02T22:25:40.936251Z"
    }
   },
   "outputs": [
    {
     "data": {
      "text/plain": [
       "0    213233\n",
       "1       372\n",
       "Name: Class, dtype: int64"
      ]
     },
     "execution_count": 175,
     "metadata": {},
     "output_type": "execute_result"
    }
   ],
   "source": [
    "y_train.value_counts(0)"
   ]
  },
  {
   "cell_type": "code",
   "execution_count": 176,
   "metadata": {
    "ExecuteTime": {
     "end_time": "2020-09-02T22:25:41.606098Z",
     "start_time": "2020-09-02T22:25:40.944555Z"
    }
   },
   "outputs": [
    {
     "data": {
      "text/plain": [
       "1    213233\n",
       "0    213233\n",
       "Name: Class, dtype: int64"
      ]
     },
     "execution_count": 176,
     "metadata": {},
     "output_type": "execute_result"
    }
   ],
   "source": [
    "from imblearn.over_sampling import SMOTE\n",
    "smote = SMOTE()\n",
    "\n",
    "X_train_smote, y_train_smote = smote.fit_sample(X_train,y_train)\n",
    "pd.Series(y_train_smote).value_counts()"
   ]
  },
  {
   "cell_type": "code",
   "execution_count": 177,
   "metadata": {
    "ExecuteTime": {
     "end_time": "2020-09-02T22:25:46.905413Z",
     "start_time": "2020-09-02T22:25:41.608614Z"
    }
   },
   "outputs": [
    {
     "name": "stdout",
     "output_type": "stream",
     "text": [
      "------------------------------------------------------------\n",
      "[i] CLASSIFICATION REPORT SMOTE\n",
      "------------------------------------------------------------\n",
      "              precision    recall  f1-score   support\n",
      "\n",
      "           0       1.00      0.98      0.99     71082\n",
      "           1       0.07      0.88      0.13       120\n",
      "\n",
      "    accuracy                           0.98     71202\n",
      "   macro avg       0.53      0.93      0.56     71202\n",
      "weighted avg       1.00      0.98      0.99     71202\n",
      "\n",
      "------------------------------------------------------------\n",
      "\n",
      "\n"
     ]
    },
    {
     "data": {
      "image/png": "[encoded data removed]",
      "text/plain": [
       "<Figure size 720x288 with 3 Axes>"
      ]
     },
     "metadata": {
      "needs_background": "light"
     },
     "output_type": "display_data"
    },
    {
     "data": {
      "text/plain": [
       "(<Figure size 720x288 with 3 Axes>,\n",
       " <AxesSubplot:title={'center':'Receiving Operator Characteristic (ROC) Curve'}, xlabel='False Positive Rate', ylabel='True Positive Rate'>)"
      ]
     },
     "execution_count": 177,
     "metadata": {},
     "output_type": "execute_result"
    }
   ],
   "source": [
    "regr = LogisticRegression(**params)#class_weight='balanced',C=1e5, solver='liblinear')\n",
    "regr.fit(X_train_smote, y_train_smote)\n",
    "evaluate_classification(regr,X_test,y_test,label='SMOTE')"
   ]
  },
  {
   "cell_type": "markdown",
   "metadata": {},
   "source": [
    "### Solution 3: Undersampling majority class"
   ]
  },
  {
   "cell_type": "code",
   "execution_count": 178,
   "metadata": {
    "ExecuteTime": {
     "end_time": "2020-09-02T22:25:47.043736Z",
     "start_time": "2020-09-02T22:25:46.907426Z"
    }
   },
   "outputs": [
    {
     "data": {
      "text/html": [
       "<div>\n",
       "<style scoped>\n",
       "    .dataframe tbody tr th:only-of-type {\n",
       "        vertical-align: middle;\n",
       "    }\n",
       "\n",
       "    .dataframe tbody tr th {\n",
       "        vertical-align: top;\n",
       "    }\n",
       "\n",
       "    .dataframe thead th {\n",
       "        text-align: right;\n",
       "    }\n",
       "</style>\n",
       "<table border=\"1\" class=\"dataframe\">\n",
       "  <thead>\n",
       "    <tr style=\"text-align: right;\">\n",
       "      <th></th>\n",
       "      <th>Time</th>\n",
       "      <th>V1</th>\n",
       "      <th>V2</th>\n",
       "      <th>V3</th>\n",
       "      <th>V4</th>\n",
       "      <th>V5</th>\n",
       "      <th>V6</th>\n",
       "      <th>V7</th>\n",
       "      <th>V8</th>\n",
       "      <th>V9</th>\n",
       "      <th>...</th>\n",
       "      <th>V21</th>\n",
       "      <th>V22</th>\n",
       "      <th>V23</th>\n",
       "      <th>V24</th>\n",
       "      <th>V25</th>\n",
       "      <th>V26</th>\n",
       "      <th>V27</th>\n",
       "      <th>V28</th>\n",
       "      <th>Amount</th>\n",
       "      <th>Class</th>\n",
       "    </tr>\n",
       "  </thead>\n",
       "  <tbody>\n",
       "    <tr>\n",
       "      <th>194763</th>\n",
       "      <td>130747.0</td>\n",
       "      <td>2.047163</td>\n",
       "      <td>0.107987</td>\n",
       "      <td>-1.806515</td>\n",
       "      <td>0.072733</td>\n",
       "      <td>0.248371</td>\n",
       "      <td>-1.744837</td>\n",
       "      <td>0.712448</td>\n",
       "      <td>-0.488842</td>\n",
       "      <td>-0.102709</td>\n",
       "      <td>...</td>\n",
       "      <td>0.241017</td>\n",
       "      <td>0.822618</td>\n",
       "      <td>0.023000</td>\n",
       "      <td>0.549868</td>\n",
       "      <td>0.322173</td>\n",
       "      <td>0.191755</td>\n",
       "      <td>-0.085025</td>\n",
       "      <td>-0.084292</td>\n",
       "      <td>0.77</td>\n",
       "      <td>0</td>\n",
       "    </tr>\n",
       "    <tr>\n",
       "      <th>135660</th>\n",
       "      <td>81344.0</td>\n",
       "      <td>1.282404</td>\n",
       "      <td>0.459864</td>\n",
       "      <td>-0.372286</td>\n",
       "      <td>0.826375</td>\n",
       "      <td>0.463568</td>\n",
       "      <td>-0.466407</td>\n",
       "      <td>0.460867</td>\n",
       "      <td>-0.186469</td>\n",
       "      <td>-0.549700</td>\n",
       "      <td>...</td>\n",
       "      <td>0.013986</td>\n",
       "      <td>0.083896</td>\n",
       "      <td>-0.247504</td>\n",
       "      <td>-0.325527</td>\n",
       "      <td>0.927293</td>\n",
       "      <td>-0.272555</td>\n",
       "      <td>-0.010168</td>\n",
       "      <td>-0.005332</td>\n",
       "      <td>1.79</td>\n",
       "      <td>0</td>\n",
       "    </tr>\n",
       "    <tr>\n",
       "      <th>259186</th>\n",
       "      <td>159004.0</td>\n",
       "      <td>-0.414863</td>\n",
       "      <td>0.012026</td>\n",
       "      <td>1.356386</td>\n",
       "      <td>1.107374</td>\n",
       "      <td>0.813456</td>\n",
       "      <td>-0.156497</td>\n",
       "      <td>-0.372675</td>\n",
       "      <td>0.031095</td>\n",
       "      <td>-0.100143</td>\n",
       "      <td>...</td>\n",
       "      <td>-0.052272</td>\n",
       "      <td>-0.088160</td>\n",
       "      <td>0.062521</td>\n",
       "      <td>-0.680805</td>\n",
       "      <td>-0.641474</td>\n",
       "      <td>-0.159995</td>\n",
       "      <td>0.237628</td>\n",
       "      <td>0.204343</td>\n",
       "      <td>5.95</td>\n",
       "      <td>0</td>\n",
       "    </tr>\n",
       "    <tr>\n",
       "      <th>87387</th>\n",
       "      <td>61662.0</td>\n",
       "      <td>-1.432948</td>\n",
       "      <td>1.478076</td>\n",
       "      <td>0.576724</td>\n",
       "      <td>0.207540</td>\n",
       "      <td>-0.670662</td>\n",
       "      <td>-0.464572</td>\n",
       "      <td>0.221023</td>\n",
       "      <td>-0.099811</td>\n",
       "      <td>1.561896</td>\n",
       "      <td>...</td>\n",
       "      <td>-0.055014</td>\n",
       "      <td>0.364330</td>\n",
       "      <td>0.154670</td>\n",
       "      <td>0.635611</td>\n",
       "      <td>-0.366314</td>\n",
       "      <td>0.163690</td>\n",
       "      <td>-0.750285</td>\n",
       "      <td>-0.275117</td>\n",
       "      <td>9.20</td>\n",
       "      <td>0</td>\n",
       "    </tr>\n",
       "    <tr>\n",
       "      <th>267282</th>\n",
       "      <td>162703.0</td>\n",
       "      <td>2.051016</td>\n",
       "      <td>-0.016765</td>\n",
       "      <td>-2.284865</td>\n",
       "      <td>0.302168</td>\n",
       "      <td>0.786895</td>\n",
       "      <td>-0.998558</td>\n",
       "      <td>0.768990</td>\n",
       "      <td>-0.464383</td>\n",
       "      <td>0.362863</td>\n",
       "      <td>...</td>\n",
       "      <td>0.133331</td>\n",
       "      <td>0.491780</td>\n",
       "      <td>-0.119020</td>\n",
       "      <td>0.527179</td>\n",
       "      <td>0.607105</td>\n",
       "      <td>-0.090453</td>\n",
       "      <td>-0.065787</td>\n",
       "      <td>-0.062680</td>\n",
       "      <td>47.53</td>\n",
       "      <td>0</td>\n",
       "    </tr>\n",
       "    <tr>\n",
       "      <th>...</th>\n",
       "      <td>...</td>\n",
       "      <td>...</td>\n",
       "      <td>...</td>\n",
       "      <td>...</td>\n",
       "      <td>...</td>\n",
       "      <td>...</td>\n",
       "      <td>...</td>\n",
       "      <td>...</td>\n",
       "      <td>...</td>\n",
       "      <td>...</td>\n",
       "      <td>...</td>\n",
       "      <td>...</td>\n",
       "      <td>...</td>\n",
       "      <td>...</td>\n",
       "      <td>...</td>\n",
       "      <td>...</td>\n",
       "      <td>...</td>\n",
       "      <td>...</td>\n",
       "      <td>...</td>\n",
       "      <td>...</td>\n",
       "      <td>...</td>\n",
       "    </tr>\n",
       "    <tr>\n",
       "      <th>211543</th>\n",
       "      <td>138459.0</td>\n",
       "      <td>-1.321976</td>\n",
       "      <td>1.138686</td>\n",
       "      <td>-0.940861</td>\n",
       "      <td>0.154160</td>\n",
       "      <td>0.109802</td>\n",
       "      <td>-0.538822</td>\n",
       "      <td>0.490058</td>\n",
       "      <td>0.513762</td>\n",
       "      <td>-0.493834</td>\n",
       "      <td>...</td>\n",
       "      <td>-0.012778</td>\n",
       "      <td>-0.237503</td>\n",
       "      <td>0.008713</td>\n",
       "      <td>-0.767844</td>\n",
       "      <td>-0.397162</td>\n",
       "      <td>0.316379</td>\n",
       "      <td>-0.463125</td>\n",
       "      <td>-0.010589</td>\n",
       "      <td>49.89</td>\n",
       "      <td>0</td>\n",
       "    </tr>\n",
       "    <tr>\n",
       "      <th>86293</th>\n",
       "      <td>61167.0</td>\n",
       "      <td>-0.627810</td>\n",
       "      <td>0.918729</td>\n",
       "      <td>1.478453</td>\n",
       "      <td>0.213171</td>\n",
       "      <td>0.933695</td>\n",
       "      <td>1.261486</td>\n",
       "      <td>0.504752</td>\n",
       "      <td>0.404286</td>\n",
       "      <td>-0.939740</td>\n",
       "      <td>...</td>\n",
       "      <td>-0.051356</td>\n",
       "      <td>-0.004245</td>\n",
       "      <td>0.090535</td>\n",
       "      <td>-0.964599</td>\n",
       "      <td>-0.522294</td>\n",
       "      <td>0.296733</td>\n",
       "      <td>0.145939</td>\n",
       "      <td>0.110400</td>\n",
       "      <td>24.99</td>\n",
       "      <td>0</td>\n",
       "    </tr>\n",
       "    <tr>\n",
       "      <th>122579</th>\n",
       "      <td>76616.0</td>\n",
       "      <td>1.512602</td>\n",
       "      <td>-0.949435</td>\n",
       "      <td>-0.219062</td>\n",
       "      <td>-1.638850</td>\n",
       "      <td>-0.856348</td>\n",
       "      <td>-0.465996</td>\n",
       "      <td>-0.669193</td>\n",
       "      <td>-0.135566</td>\n",
       "      <td>-2.284345</td>\n",
       "      <td>...</td>\n",
       "      <td>-0.558803</td>\n",
       "      <td>-1.377240</td>\n",
       "      <td>0.080444</td>\n",
       "      <td>-0.579511</td>\n",
       "      <td>0.297851</td>\n",
       "      <td>-0.495367</td>\n",
       "      <td>-0.001415</td>\n",
       "      <td>0.003665</td>\n",
       "      <td>34.90</td>\n",
       "      <td>0</td>\n",
       "    </tr>\n",
       "    <tr>\n",
       "      <th>152315</th>\n",
       "      <td>97253.0</td>\n",
       "      <td>1.798863</td>\n",
       "      <td>-1.699791</td>\n",
       "      <td>-0.142182</td>\n",
       "      <td>-0.619533</td>\n",
       "      <td>-1.570248</td>\n",
       "      <td>0.083268</td>\n",
       "      <td>-1.501980</td>\n",
       "      <td>0.176287</td>\n",
       "      <td>1.755507</td>\n",
       "      <td>...</td>\n",
       "      <td>0.181914</td>\n",
       "      <td>0.351358</td>\n",
       "      <td>0.115638</td>\n",
       "      <td>-0.566188</td>\n",
       "      <td>-0.596200</td>\n",
       "      <td>-0.295152</td>\n",
       "      <td>-0.033616</td>\n",
       "      <td>-0.032471</td>\n",
       "      <td>171.31</td>\n",
       "      <td>0</td>\n",
       "    </tr>\n",
       "    <tr>\n",
       "      <th>117952</th>\n",
       "      <td>74887.0</td>\n",
       "      <td>-0.589400</td>\n",
       "      <td>0.747828</td>\n",
       "      <td>1.784781</td>\n",
       "      <td>0.899612</td>\n",
       "      <td>0.257067</td>\n",
       "      <td>-0.001301</td>\n",
       "      <td>0.122334</td>\n",
       "      <td>0.034736</td>\n",
       "      <td>-0.283998</td>\n",
       "      <td>...</td>\n",
       "      <td>-0.008910</td>\n",
       "      <td>0.000367</td>\n",
       "      <td>-0.238139</td>\n",
       "      <td>-0.463529</td>\n",
       "      <td>-0.243573</td>\n",
       "      <td>-0.370920</td>\n",
       "      <td>0.086592</td>\n",
       "      <td>0.118084</td>\n",
       "      <td>15.99</td>\n",
       "      <td>0</td>\n",
       "    </tr>\n",
       "  </tbody>\n",
       "</table>\n",
       "<p>213605 rows × 31 columns</p>\n",
       "</div>"
      ],
      "text/plain": [
       "            Time        V1        V2        V3        V4        V5        V6  \\\n",
       "194763  130747.0  2.047163  0.107987 -1.806515  0.072733  0.248371 -1.744837   \n",
       "135660   81344.0  1.282404  0.459864 -0.372286  0.826375  0.463568 -0.466407   \n",
       "259186  159004.0 -0.414863  0.012026  1.356386  1.107374  0.813456 -0.156497   \n",
       "87387    61662.0 -1.432948  1.478076  0.576724  0.207540 -0.670662 -0.464572   \n",
       "267282  162703.0  2.051016 -0.016765 -2.284865  0.302168  0.786895 -0.998558   \n",
       "...          ...       ...       ...       ...       ...       ...       ...   \n",
       "211543  138459.0 -1.321976  1.138686 -0.940861  0.154160  0.109802 -0.538822   \n",
       "86293    61167.0 -0.627810  0.918729  1.478453  0.213171  0.933695  1.261486   \n",
       "122579   76616.0  1.512602 -0.949435 -0.219062 -1.638850 -0.856348 -0.465996   \n",
       "152315   97253.0  1.798863 -1.699791 -0.142182 -0.619533 -1.570248  0.083268   \n",
       "117952   74887.0 -0.589400  0.747828  1.784781  0.899612  0.257067 -0.001301   \n",
       "\n",
       "              V7        V8        V9  ...       V21       V22       V23  \\\n",
       "194763  0.712448 -0.488842 -0.102709  ...  0.241017  0.822618  0.023000   \n",
       "135660  0.460867 -0.186469 -0.549700  ...  0.013986  0.083896 -0.247504   \n",
       "259186 -0.372675  0.031095 -0.100143  ... -0.052272 -0.088160  0.062521   \n",
       "87387   0.221023 -0.099811  1.561896  ... -0.055014  0.364330  0.154670   \n",
       "267282  0.768990 -0.464383  0.362863  ...  0.133331  0.491780 -0.119020   \n",
       "...          ...       ...       ...  ...       ...       ...       ...   \n",
       "211543  0.490058  0.513762 -0.493834  ... -0.012778 -0.237503  0.008713   \n",
       "86293   0.504752  0.404286 -0.939740  ... -0.051356 -0.004245  0.090535   \n",
       "122579 -0.669193 -0.135566 -2.284345  ... -0.558803 -1.377240  0.080444   \n",
       "152315 -1.501980  0.176287  1.755507  ...  0.181914  0.351358  0.115638   \n",
       "117952  0.122334  0.034736 -0.283998  ... -0.008910  0.000367 -0.238139   \n",
       "\n",
       "             V24       V25       V26       V27       V28  Amount  Class  \n",
       "194763  0.549868  0.322173  0.191755 -0.085025 -0.084292    0.77      0  \n",
       "135660 -0.325527  0.927293 -0.272555 -0.010168 -0.005332    1.79      0  \n",
       "259186 -0.680805 -0.641474 -0.159995  0.237628  0.204343    5.95      0  \n",
       "87387   0.635611 -0.366314  0.163690 -0.750285 -0.275117    9.20      0  \n",
       "267282  0.527179  0.607105 -0.090453 -0.065787 -0.062680   47.53      0  \n",
       "...          ...       ...       ...       ...       ...     ...    ...  \n",
       "211543 -0.767844 -0.397162  0.316379 -0.463125 -0.010589   49.89      0  \n",
       "86293  -0.964599 -0.522294  0.296733  0.145939  0.110400   24.99      0  \n",
       "122579 -0.579511  0.297851 -0.495367 -0.001415  0.003665   34.90      0  \n",
       "152315 -0.566188 -0.596200 -0.295152 -0.033616 -0.032471  171.31      0  \n",
       "117952 -0.463529 -0.243573 -0.370920  0.086592  0.118084   15.99      0  \n",
       "\n",
       "[213605 rows x 31 columns]"
      ]
     },
     "execution_count": 178,
     "metadata": {},
     "output_type": "execute_result"
    }
   ],
   "source": [
    "df_balance = pd.concat([X_train, y_train],axis=1)\n",
    "df_balance"
   ]
  },
  {
   "cell_type": "code",
   "execution_count": 179,
   "metadata": {
    "ExecuteTime": {
     "end_time": "2020-09-02T22:25:47.052158Z",
     "start_time": "2020-09-02T22:25:47.045714Z"
    }
   },
   "outputs": [
    {
     "data": {
      "text/plain": [
       "372"
      ]
     },
     "execution_count": 179,
     "metadata": {},
     "output_type": "execute_result"
    }
   ],
   "source": [
    "n_samples = df_balance['Class'].value_counts().min()\n",
    "n_samples"
   ]
  },
  {
   "cell_type": "code",
   "execution_count": 180,
   "metadata": {
    "ExecuteTime": {
     "end_time": "2020-09-02T22:25:47.066277Z",
     "start_time": "2020-09-02T22:25:47.054110Z"
    }
   },
   "outputs": [
    {
     "data": {
      "text/plain": [
       "{0: [194763, 135660, 259186, 87387, 267282, 264314, 73653, 279935, 138560, 257460, 68126, 247403, 266224, 224404, 150946, 246192, 62971, 195047, 236277, 103903, 264638, 153129, 11727, 15635, 115187, 275343, 251577, 241619, 103900, 89148, 141826, 42076, 36931, 228539, 118040, 50446, 105645, 186805, 100546, 58526, 164450, 100536, 11962, 86732, 56040, 177041, 250495, 15046, 190705, 24852, 126703, 134266, 102756, 120707, 175560, 201588, 223323, 67486, 5124, 258521, 228291, 48143, 185006, 119187, 102724, 36243, 236299, 24772, 168482, 36030, 34341, 153467, 47322, 162907, 178791, 65916, 6260, 119862, 245195, 253166, 224701, 11045, 177641, 276182, 224409, 77579, 179387, 16938, 58453, 203308, 104967, 244692, 190513, 100137, 6550, 160708, 150952, 79830, 82402, 22296, ...], 1: [53794, 42784, 149869, 17366, 157585, 128479, 6472, 251891, 152019, 235616, 213092, 150667, 237107, 6719, 68633, 144104, 47802, 10204, 272521, 88258, 6329, 274382, 150647, 15781, 153823, 241254, 9179, 41569, 280143, 222419, 234633, 79835, 157871, 143334, 10498, 42887, 43624, 23308, 42473, 111690, 150678, 177195, 6529, 276071, 251866, 81186, 235644, 70589, 15451, 61787, 43773, 15204, 6971, 125342, 163586, 33276, 102443, 77682, 42009, 281674, 93486, 189587, 249239, 151009, 243393, 221018, 42936, 102444, 172787, 150669, 44001, 6338, 83297, 68522, 74496, 245556, 46998, 192687, 59539, 18466, 50537, 150677, 95534, 15225, 254395, 23422, 262560, 195383, 6427, 80760, 18809, 252124, 123270, 10630, 79874, 151196, 93424, 70141, 247673, 152223, ...]}"
      ]
     },
     "execution_count": 180,
     "metadata": {},
     "output_type": "execute_result"
    }
   ],
   "source": [
    "df_balance.groupby('Class').groups"
   ]
  },
  {
   "cell_type": "code",
   "execution_count": 181,
   "metadata": {
    "ExecuteTime": {
     "end_time": "2020-09-02T22:25:47.179531Z",
     "start_time": "2020-09-02T22:25:47.070728Z"
    }
   },
   "outputs": [
    {
     "data": {
      "text/html": [
       "<div>\n",
       "<style scoped>\n",
       "    .dataframe tbody tr th:only-of-type {\n",
       "        vertical-align: middle;\n",
       "    }\n",
       "\n",
       "    .dataframe tbody tr th {\n",
       "        vertical-align: top;\n",
       "    }\n",
       "\n",
       "    .dataframe thead th {\n",
       "        text-align: right;\n",
       "    }\n",
       "</style>\n",
       "<table border=\"1\" class=\"dataframe\">\n",
       "  <thead>\n",
       "    <tr style=\"text-align: right;\">\n",
       "      <th></th>\n",
       "      <th>Time</th>\n",
       "      <th>V1</th>\n",
       "      <th>V2</th>\n",
       "      <th>V3</th>\n",
       "      <th>V4</th>\n",
       "      <th>V5</th>\n",
       "      <th>V6</th>\n",
       "      <th>V7</th>\n",
       "      <th>V8</th>\n",
       "      <th>V9</th>\n",
       "      <th>...</th>\n",
       "      <th>V21</th>\n",
       "      <th>V22</th>\n",
       "      <th>V23</th>\n",
       "      <th>V24</th>\n",
       "      <th>V25</th>\n",
       "      <th>V26</th>\n",
       "      <th>V27</th>\n",
       "      <th>V28</th>\n",
       "      <th>Amount</th>\n",
       "      <th>Class</th>\n",
       "    </tr>\n",
       "  </thead>\n",
       "  <tbody>\n",
       "    <tr>\n",
       "      <th>230178</th>\n",
       "      <td>146225.0</td>\n",
       "      <td>-1.471584</td>\n",
       "      <td>1.048034</td>\n",
       "      <td>-0.121530</td>\n",
       "      <td>0.294235</td>\n",
       "      <td>1.008532</td>\n",
       "      <td>6.129592</td>\n",
       "      <td>-3.153504</td>\n",
       "      <td>-1.929004</td>\n",
       "      <td>1.661659</td>\n",
       "      <td>...</td>\n",
       "      <td>4.157237</td>\n",
       "      <td>0.048731</td>\n",
       "      <td>0.680405</td>\n",
       "      <td>0.668165</td>\n",
       "      <td>-1.277351</td>\n",
       "      <td>-0.467549</td>\n",
       "      <td>0.527242</td>\n",
       "      <td>0.278444</td>\n",
       "      <td>1.00</td>\n",
       "      <td>0</td>\n",
       "    </tr>\n",
       "    <tr>\n",
       "      <th>247695</th>\n",
       "      <td>153661.0</td>\n",
       "      <td>2.096084</td>\n",
       "      <td>-1.376627</td>\n",
       "      <td>0.194561</td>\n",
       "      <td>-0.715901</td>\n",
       "      <td>-1.553168</td>\n",
       "      <td>0.431772</td>\n",
       "      <td>-1.763065</td>\n",
       "      <td>0.331340</td>\n",
       "      <td>0.865917</td>\n",
       "      <td>...</td>\n",
       "      <td>0.151258</td>\n",
       "      <td>0.704155</td>\n",
       "      <td>0.173941</td>\n",
       "      <td>-0.470474</td>\n",
       "      <td>-0.324661</td>\n",
       "      <td>-0.177678</td>\n",
       "      <td>0.055154</td>\n",
       "      <td>-0.053309</td>\n",
       "      <td>3.20</td>\n",
       "      <td>0</td>\n",
       "    </tr>\n",
       "    <tr>\n",
       "      <th>204626</th>\n",
       "      <td>135369.0</td>\n",
       "      <td>1.863445</td>\n",
       "      <td>-0.981573</td>\n",
       "      <td>-0.694210</td>\n",
       "      <td>-0.857710</td>\n",
       "      <td>-0.806651</td>\n",
       "      <td>-0.232154</td>\n",
       "      <td>-0.772867</td>\n",
       "      <td>0.156154</td>\n",
       "      <td>1.461948</td>\n",
       "      <td>...</td>\n",
       "      <td>0.261563</td>\n",
       "      <td>0.644129</td>\n",
       "      <td>0.164242</td>\n",
       "      <td>0.746726</td>\n",
       "      <td>-0.436316</td>\n",
       "      <td>0.651170</td>\n",
       "      <td>-0.064889</td>\n",
       "      <td>-0.045237</td>\n",
       "      <td>80.10</td>\n",
       "      <td>0</td>\n",
       "    </tr>\n",
       "    <tr>\n",
       "      <th>13793</th>\n",
       "      <td>24459.0</td>\n",
       "      <td>-0.888568</td>\n",
       "      <td>1.220439</td>\n",
       "      <td>1.253009</td>\n",
       "      <td>0.741607</td>\n",
       "      <td>0.414096</td>\n",
       "      <td>-0.072251</td>\n",
       "      <td>1.186912</td>\n",
       "      <td>-0.623745</td>\n",
       "      <td>1.231374</td>\n",
       "      <td>...</td>\n",
       "      <td>-0.152703</td>\n",
       "      <td>0.387293</td>\n",
       "      <td>-0.174805</td>\n",
       "      <td>-0.045627</td>\n",
       "      <td>-0.214310</td>\n",
       "      <td>-0.434546</td>\n",
       "      <td>-0.184802</td>\n",
       "      <td>-0.165824</td>\n",
       "      <td>61.81</td>\n",
       "      <td>0</td>\n",
       "    </tr>\n",
       "    <tr>\n",
       "      <th>244902</th>\n",
       "      <td>152535.0</td>\n",
       "      <td>1.973384</td>\n",
       "      <td>-0.235705</td>\n",
       "      <td>-0.453193</td>\n",
       "      <td>0.238827</td>\n",
       "      <td>-0.313211</td>\n",
       "      <td>-0.236997</td>\n",
       "      <td>-0.408025</td>\n",
       "      <td>-0.007399</td>\n",
       "      <td>0.809414</td>\n",
       "      <td>...</td>\n",
       "      <td>-0.187040</td>\n",
       "      <td>-0.377358</td>\n",
       "      <td>0.318120</td>\n",
       "      <td>-0.426956</td>\n",
       "      <td>-0.378039</td>\n",
       "      <td>-0.662360</td>\n",
       "      <td>0.033402</td>\n",
       "      <td>-0.043114</td>\n",
       "      <td>7.81</td>\n",
       "      <td>0</td>\n",
       "    </tr>\n",
       "  </tbody>\n",
       "</table>\n",
       "<p>5 rows × 31 columns</p>\n",
       "</div>"
      ],
      "text/plain": [
       "            Time        V1        V2        V3        V4        V5        V6  \\\n",
       "230178  146225.0 -1.471584  1.048034 -0.121530  0.294235  1.008532  6.129592   \n",
       "247695  153661.0  2.096084 -1.376627  0.194561 -0.715901 -1.553168  0.431772   \n",
       "204626  135369.0  1.863445 -0.981573 -0.694210 -0.857710 -0.806651 -0.232154   \n",
       "13793    24459.0 -0.888568  1.220439  1.253009  0.741607  0.414096 -0.072251   \n",
       "244902  152535.0  1.973384 -0.235705 -0.453193  0.238827 -0.313211 -0.236997   \n",
       "\n",
       "              V7        V8        V9  ...       V21       V22       V23  \\\n",
       "230178 -3.153504 -1.929004  1.661659  ...  4.157237  0.048731  0.680405   \n",
       "247695 -1.763065  0.331340  0.865917  ...  0.151258  0.704155  0.173941   \n",
       "204626 -0.772867  0.156154  1.461948  ...  0.261563  0.644129  0.164242   \n",
       "13793   1.186912 -0.623745  1.231374  ... -0.152703  0.387293 -0.174805   \n",
       "244902 -0.408025 -0.007399  0.809414  ... -0.187040 -0.377358  0.318120   \n",
       "\n",
       "             V24       V25       V26       V27       V28  Amount  Class  \n",
       "230178  0.668165 -1.277351 -0.467549  0.527242  0.278444    1.00      0  \n",
       "247695 -0.470474 -0.324661 -0.177678  0.055154 -0.053309    3.20      0  \n",
       "204626  0.746726 -0.436316  0.651170 -0.064889 -0.045237   80.10      0  \n",
       "13793  -0.045627 -0.214310 -0.434546 -0.184802 -0.165824   61.81      0  \n",
       "244902 -0.426956 -0.378039 -0.662360  0.033402 -0.043114    7.81      0  \n",
       "\n",
       "[5 rows x 31 columns]"
      ]
     },
     "metadata": {},
     "output_type": "display_data"
    },
    {
     "data": {
      "text/plain": [
       "1    372\n",
       "0    372\n",
       "Name: Class, dtype: int64"
      ]
     },
     "metadata": {},
     "output_type": "display_data"
    }
   ],
   "source": [
    "df_resample = pd.DataFrame()\n",
    "for grp,idx in df_balance.groupby('Class').groups.items():\n",
    "    \n",
    "    resample = df_balance.loc[idx].sample(n=n_samples,random_state=123)\n",
    "    df_resample = pd.concat([df_resample,resample],axis=0)\n",
    "    \n",
    "display(df_resample.head(), df_resample[\"Class\"].value_counts())\n",
    "\n"
   ]
  },
  {
   "cell_type": "code",
   "execution_count": 182,
   "metadata": {
    "ExecuteTime": {
     "end_time": "2020-09-02T22:25:47.854876Z",
     "start_time": "2020-09-02T22:25:47.182650Z"
    }
   },
   "outputs": [
    {
     "name": "stdout",
     "output_type": "stream",
     "text": [
      "------------------------------------------------------------\n",
      "[i] CLASSIFICATION REPORT\n",
      "------------------------------------------------------------\n",
      "              precision    recall  f1-score   support\n",
      "\n",
      "           0       1.00      0.96      0.98     71082\n",
      "           1       0.04      0.93      0.07       120\n",
      "\n",
      "    accuracy                           0.96     71202\n",
      "   macro avg       0.52      0.94      0.53     71202\n",
      "weighted avg       1.00      0.96      0.98     71202\n",
      "\n",
      "------------------------------------------------------------\n",
      "\n",
      "\n"
     ]
    },
    {
     "data": {
      "image/png": "[encoded data removed]",
      "text/plain": [
       "<Figure size 720x288 with 3 Axes>"
      ]
     },
     "metadata": {
      "needs_background": "light"
     },
     "output_type": "display_data"
    },
    {
     "data": {
      "text/plain": [
       "(<Figure size 720x288 with 3 Axes>,\n",
       " <AxesSubplot:title={'center':'Receiving Operator Characteristic (ROC) Curve'}, xlabel='False Positive Rate', ylabel='True Positive Rate'>)"
      ]
     },
     "execution_count": 182,
     "metadata": {},
     "output_type": "execute_result"
    }
   ],
   "source": [
    "X_train_under = df_resample.drop('Class',axis=1).copy()\n",
    "y_train_under = df_resample['Class'].copy()\n",
    "\n",
    "regr = LogisticRegression(**params)#C=1e5, solver='liblinear')\n",
    "regr.fit(X_train_under, y_train_under)\n",
    "evaluate_classification(regr,X_test,y_test)"
   ]
  },
  {
   "cell_type": "markdown",
   "metadata": {},
   "source": [
    "# Sect 26: Topics to Discuss"
   ]
  },
  {
   "cell_type": "markdown",
   "metadata": {},
   "source": [
    "- Recommendation: do not get too stressed out about that this module. Its a lot of revisiting concepts that we've discussed before. \n",
    "    - Don't stress about the labs, look at the solutions and digest what they are doing.\n",
    "    \n",
    "- [Terms to remember](https://learn.co/tracks/module-3-data-science-career-2-1/machine-learning/section-26-in-depth-logistic-regression/mle-review)\n",
    "    - \"log-likelihood\"\n",
    "    - \"Maximum Likelihood Estimation\""
   ]
  },
  {
   "cell_type": "markdown",
   "metadata": {},
   "source": [
    "# APPENDIX"
   ]
  },
  {
   "cell_type": "code",
   "execution_count": null,
   "metadata": {
    "ExecuteTime": {
     "end_time": "2020-09-02T21:48:42.394459Z",
     "start_time": "2020-09-02T21:48:35.578Z"
    }
   },
   "outputs": [],
   "source": [
    "## Trying out class balances with different seeds\n",
    "# seed_results = []\n",
    "# for seed in range(321):\n",
    "#     X_train, X_test, y_train, y_test = train_test_split(X, y,random_state=seed)\n",
    "#     percent_class_1 =  y_train.value_counts(1).loc[1]\n",
    "#     seed_results.append({'seed':seed, 'value_counts':percent_class_1})\n",
    "\n",
    "# pd.DataFrame.from_records(seed_results).sort_values('value_counts').head()"
   ]
  },
  {
   "cell_type": "markdown",
   "metadata": {},
   "source": [
    "### Faster GridSearches with Tune Sklearn\n",
    "https://towardsdatascience.com/5x-faster-scikit-learn-parameter-tuning-in-5-lines-of-code-be6bdd21833c"
   ]
  },
  {
   "cell_type": "code",
   "execution_count": null,
   "metadata": {
    "ExecuteTime": {
     "end_time": "2020-09-02T21:48:42.395570Z",
     "start_time": "2020-09-02T21:48:35.582Z"
    }
   },
   "outputs": [],
   "source": [
    "# # !pip install scikit-optimize\n",
    "# !pip install tune-sklearn\n",
    "# !pip install tune-sklearn ray[tune]"
   ]
  },
  {
   "cell_type": "code",
   "execution_count": null,
   "metadata": {
    "ExecuteTime": {
     "end_time": "2020-09-02T21:48:42.396737Z",
     "start_time": "2020-09-02T21:48:35.586Z"
    }
   },
   "outputs": [],
   "source": [
    "# from tune_sklearn import TuneGridSearchCV\n",
    "\n",
    "# model = LogisticRegression()\n",
    "\n",
    "# params = {'C' : [0.01,0.1,1.0,10,100,1e5],\n",
    "#           'penalty' : ['l1', 'l2', 'elasticnet', 'none'],\n",
    "#           'solver':[\"liblinear\", \"newton-cg\", \"lbfgs\", \"sag\",\"saga\"],\n",
    "#           'fit_intercept':[True,False],\n",
    "#           'class_weight':[None,'balanced']\n",
    "#          }\n",
    "\n",
    "# gridsearch = TuneGridSearchCV(model,params,scoring='roc_auc',return_train_score=True)\n",
    "# gridsearch.fit(X_train_sca,y_train)\n",
    "\n",
    "# print('BEST RESULTS:')\n",
    "# print(gridsearch.best_score_)\n",
    "# gridsearch.best_params_"
   ]
  }
 ],
 "metadata": {
  "kernelspec": {
   "display_name": "learn-env",
   "language": "python",
   "name": "learn-env"
  },
  "language_info": {
   "codemirror_mode": {
    "name": "ipython",
    "version": 3
   },
   "file_extension": ".py",
   "mimetype": "text/x-python",
   "name": "python",
   "nbconvert_exporter": "python",
   "pygments_lexer": "ipython3",
   "version": "3.6.11"
  },
  "toc": {
   "base_numbering": 1,
   "nav_menu": {},
   "number_sections": true,
   "sideBar": true,
   "skip_h1_title": false,
   "title_cell": "Table of Contents",
   "title_sidebar": "Contents",
   "toc_cell": false,
   "toc_position": {
    "height": "calc(100% - 180px)",
    "left": "10px",
    "top": "150px",
    "width": "255.98px"
   },
   "toc_section_display": true,
   "toc_window_display": true
  },
  "varInspector": {
   "cols": {
    "lenName": 16,
    "lenType": 16,
    "lenVar": 40
   },
   "kernels_config": {
    "python": {
     "delete_cmd_postfix": "",
     "delete_cmd_prefix": "del ",
     "library": "var_list.py",
     "varRefreshCmd": "print(var_dic_list())"
    },
    "r": {
     "delete_cmd_postfix": ") ",
     "delete_cmd_prefix": "rm(",
     "library": "var_list.r",
     "varRefreshCmd": "cat(var_dic_list()) "
    }
   },
   "types_to_exclude": [
    "module",
    "function",
    "builtin_function_or_method",
    "instance",
    "_Feature"
   ],
   "window_display": false
  }
 },
 "nbformat": 4,
 "nbformat_minor": 2
}

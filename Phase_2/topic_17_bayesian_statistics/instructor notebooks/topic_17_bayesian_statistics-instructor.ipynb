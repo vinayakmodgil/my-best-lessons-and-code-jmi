{
 "cells": [
  {
   "cell_type": "markdown",
   "metadata": {},
   "source": [
    "# Topic 17: Bayesian Statistics"
   ]
  },
  {
   "cell_type": "markdown",
   "metadata": {},
   "source": [
    "- onl01-dtsc-xt-xxxxxx\n",
    "- xx/xx/xxxx study group"
   ]
  },
  {
   "cell_type": "markdown",
   "metadata": {},
   "source": [
    "## Learning Objectives"
   ]
  },
  {
   "cell_type": "markdown",
   "metadata": {},
   "source": [
    "- Review the concept of conditional probability \n",
    "- Learn about Bayes' Theorem\n",
    "- Apply Bayes Theorem - Bayes' Theorem Lab\n",
    "- Discuss maximum likelihood estimation (MLE)\n",
    "- Apply Maximum Likelihood Estimation using a normal distribution"
   ]
  },
  {
   "cell_type": "markdown",
   "metadata": {},
   "source": [
    "## Advice on Approaching This Section\n"
   ]
  },
  {
   "cell_type": "markdown",
   "metadata": {},
   "source": [
    "- Don't let the Monty Hall Problem lab slow you down.\n",
    "- Don't fret too much about the math behind the MLE section (for now). \n",
    "    - If you understand what we do in today's class, that is a better starting point than the lessons\n",
    "    \n",
    "- When we get to calculus & gradient descent we will come back and discuss more of the math from the lessons about MLE/MAP"
   ]
  },
  {
   "cell_type": "markdown",
   "metadata": {},
   "source": [
    "## Additional References"
   ]
  },
  {
   "cell_type": "markdown",
   "metadata": {
    "ExecuteTime": {
     "end_time": "2020-02-25T21:12:25.012751Z",
     "start_time": "2020-02-25T21:12:25.008886Z"
    }
   },
   "source": [
    "- **Videos**\n",
    "    - [Bayesian Stats & MLE YouTube Playlist](https://www.youtube.com/playlist?list=PLFknVelSJiSxKhi_xJIbBUZdIn49hDajE)\n",
    "\n",
    "\n",
    "- **Blog Posts & Articles**\n",
    "    - https://towardsdatascience.com/probability-concepts-explained-maximum-likelihood-estimation-c7b4342fdbb1\n",
    "    - [Star Wars Intro To Bayesian Priors](https://www.countbayesie.com/blog/2015/2/18/hans-solo-and-bayesian-priors)\n"
   ]
  },
  {
   "cell_type": "markdown",
   "metadata": {},
   "source": [
    "## Questions?"
   ]
  },
  {
   "cell_type": "markdown",
   "metadata": {},
   "source": [
    "- \n"
   ]
  },
  {
   "cell_type": "markdown",
   "metadata": {},
   "source": [
    "# Conditional Probability - Review"
   ]
  },
  {
   "cell_type": "markdown",
   "metadata": {},
   "source": [
    "\n",
    "**Conditional probability emerges when the outcome a trial may influence the results of the upcoming trials.**\n",
    "\n",
    "The conditional probability (Probability of $A$ **given** $B$) can be written as:\n",
    "$$ P (A \\mid B) = \\dfrac{P(A \\cap B)}{P(B)}$$\n",
    "\n",
    "\n",
    "\n",
    "$P(A|B)$, is the probability A **given** that $B$ has just happened. \n"
   ]
  },
  {
   "cell_type": "markdown",
   "metadata": {},
   "source": [
    "## Laws & Theorems Based on Conditional Probability\n"
   ]
  },
  {
   "cell_type": "markdown",
   "metadata": {},
   "source": [
    "### Theorem 1: Product Rule\n",
    "\n",
    "The intersection of events $A$ and $B$ can be given by\n",
    "\n",
    "\\begin{align}\n",
    "    P(A \\cap B) = P(B) P(A \\mid B) = P(A) P(B \\mid A)\n",
    "\\end{align}\n",
    "\n"
   ]
  },
  {
   "cell_type": "markdown",
   "metadata": {},
   "source": [
    "### Theorem 2: Chain Rule AKA \"General Product Rule\"\n",
    "\n",
    "- Allows calculation of any member of the join distribution of a set of random variables using _only_ conditional probabilities.\n",
    "\n",
    "- Built on the product rule: \n",
    "$$P(A \\cap B) = P(A \\mid B) P(B)$$\n",
    "\n",
    "\n",
    "\n"
   ]
  },
  {
   "cell_type": "markdown",
   "metadata": {},
   "source": [
    "# Bayes' Theorem"
   ]
  },
  {
   "cell_type": "markdown",
   "metadata": {},
   "source": [
    "- Starts with the formula for conditional probability/likelihood:\n",
    "\n",
    "$$ P(A|B) = \\dfrac{P(A \\cap B)}{P(B)}$$\n",
    "\n",
    "- Substitute $P(B|A)P(A)$ for $P(A \\cap B)$ using the product rule and we get:\n",
    "\n",
    "\n",
    "\n",
    "#### Bayes' Theorem\n",
    "\n",
    "$$ \\large P(A|B) = \\frac{P(B|A)P(A)}{P(B)} $$\n",
    "\n",
    "\n",
    "- Note that, using Bayes theorem, you can compute conditional probabilities without explicitly needing to know $P(A \\cap B)$! "
   ]
  },
  {
   "cell_type": "markdown",
   "metadata": {},
   "source": [
    "# Activity: Bayes' Theorem - lab"
   ]
  },
  {
   "cell_type": "code",
   "execution_count": 1,
   "metadata": {
    "ExecuteTime": {
     "end_time": "2020-07-08T22:54:35.372409Z",
     "start_time": "2020-07-08T22:54:33.936796Z"
    }
   },
   "outputs": [
    {
     "name": "stdout",
     "output_type": "stream",
     "text": [
      "fsds v0.3.2 loaded.  Read the docs: https://fs-ds.readthedocs.io/en/latest/ \n"
     ]
    },
    {
     "data": {
      "text/html": [
       "<style  type=\"text/css\" >\n",
       "</style><table id=\"T_218f3a82_962d_11eb_87f8_acde48001122\" ><caption>Loaded Packages and Handles</caption><thead>    <tr>        <th class=\"col_heading level0 col0\" >Handle</th>        <th class=\"col_heading level0 col1\" >Package</th>        <th class=\"col_heading level0 col2\" >Description</th>    </tr></thead><tbody>\n",
       "                <tr>\n",
       "                                <td id=\"T_218f3a82_962d_11eb_87f8_acde48001122row0_col0\" class=\"data row0 col0\" >dp</td>\n",
       "                        <td id=\"T_218f3a82_962d_11eb_87f8_acde48001122row0_col1\" class=\"data row0 col1\" >IPython.display</td>\n",
       "                        <td id=\"T_218f3a82_962d_11eb_87f8_acde48001122row0_col2\" class=\"data row0 col2\" >Display modules with helpful display and clearing commands.</td>\n",
       "            </tr>\n",
       "            <tr>\n",
       "                                <td id=\"T_218f3a82_962d_11eb_87f8_acde48001122row1_col0\" class=\"data row1 col0\" >fs</td>\n",
       "                        <td id=\"T_218f3a82_962d_11eb_87f8_acde48001122row1_col1\" class=\"data row1 col1\" >fsds</td>\n",
       "                        <td id=\"T_218f3a82_962d_11eb_87f8_acde48001122row1_col2\" class=\"data row1 col2\" >Custom data science bootcamp student package</td>\n",
       "            </tr>\n",
       "            <tr>\n",
       "                                <td id=\"T_218f3a82_962d_11eb_87f8_acde48001122row2_col0\" class=\"data row2 col0\" >mpl</td>\n",
       "                        <td id=\"T_218f3a82_962d_11eb_87f8_acde48001122row2_col1\" class=\"data row2 col1\" >matplotlib</td>\n",
       "                        <td id=\"T_218f3a82_962d_11eb_87f8_acde48001122row2_col2\" class=\"data row2 col2\" >Matplotlib's base OOP module with formatting artists</td>\n",
       "            </tr>\n",
       "            <tr>\n",
       "                                <td id=\"T_218f3a82_962d_11eb_87f8_acde48001122row3_col0\" class=\"data row3 col0\" >plt</td>\n",
       "                        <td id=\"T_218f3a82_962d_11eb_87f8_acde48001122row3_col1\" class=\"data row3 col1\" >matplotlib.pyplot</td>\n",
       "                        <td id=\"T_218f3a82_962d_11eb_87f8_acde48001122row3_col2\" class=\"data row3 col2\" >Matplotlib's matlab-like plotting module</td>\n",
       "            </tr>\n",
       "            <tr>\n",
       "                                <td id=\"T_218f3a82_962d_11eb_87f8_acde48001122row4_col0\" class=\"data row4 col0\" >np</td>\n",
       "                        <td id=\"T_218f3a82_962d_11eb_87f8_acde48001122row4_col1\" class=\"data row4 col1\" >numpy</td>\n",
       "                        <td id=\"T_218f3a82_962d_11eb_87f8_acde48001122row4_col2\" class=\"data row4 col2\" >scientific computing with Python</td>\n",
       "            </tr>\n",
       "            <tr>\n",
       "                                <td id=\"T_218f3a82_962d_11eb_87f8_acde48001122row5_col0\" class=\"data row5 col0\" >pd</td>\n",
       "                        <td id=\"T_218f3a82_962d_11eb_87f8_acde48001122row5_col1\" class=\"data row5 col1\" >pandas</td>\n",
       "                        <td id=\"T_218f3a82_962d_11eb_87f8_acde48001122row5_col2\" class=\"data row5 col2\" >High performance data structures and tools</td>\n",
       "            </tr>\n",
       "            <tr>\n",
       "                                <td id=\"T_218f3a82_962d_11eb_87f8_acde48001122row6_col0\" class=\"data row6 col0\" >sns</td>\n",
       "                        <td id=\"T_218f3a82_962d_11eb_87f8_acde48001122row6_col1\" class=\"data row6 col1\" >seaborn</td>\n",
       "                        <td id=\"T_218f3a82_962d_11eb_87f8_acde48001122row6_col2\" class=\"data row6 col2\" >High-level data visualization library based on matplotlib</td>\n",
       "            </tr>\n",
       "    </tbody></table>"
      ],
      "text/plain": [
       "<pandas.io.formats.style.Styler at 0x7f8e0a658040>"
      ]
     },
     "metadata": {},
     "output_type": "display_data"
    }
   ],
   "source": [
    "# ! pip install -U fsds\n",
    "from fsds.imports import *"
   ]
  },
  {
   "cell_type": "code",
   "execution_count": 2,
   "metadata": {
    "ExecuteTime": {
     "end_time": "2020-07-08T23:12:03.795667Z",
     "start_time": "2020-07-08T23:12:03.792881Z"
    }
   },
   "outputs": [],
   "source": [
    "def bayes(P_a, P_b, P_b_given_a):\n",
    "    # Your code here\n",
    "    P_a_given_b =(P_b_given_a * P_a)/P_b\n",
    "    return P_a_given_b"
   ]
  },
  {
   "cell_type": "markdown",
   "metadata": {},
   "source": [
    "### Skin Cancer"
   ]
  },
  {
   "cell_type": "markdown",
   "metadata": {},
   "source": [
    "After a physical exam, a doctor observes a blemish on a client's arm. The doctor is concerned that the blemish could be cancerous, but tells the patient to be calm and that it's probably benign. Of those with skin cancer, 100% have such blemishes. However, 20% of those without skin cancer also have such blemishes. If 15% of the population has skin cancer, **what's the probability that this patient has skin cancer?**\n",
    "\n",
    "> Hint: Be sure to calculate the overall rate of blemishes across the entire population."
   ]
  },
  {
   "cell_type": "markdown",
   "metadata": {},
   "source": [
    "\n",
    "$$ \\large P(A|B) = \\frac{P(B|A)P(A)}{P(B)} $$\n"
   ]
  },
  {
   "cell_type": "markdown",
   "metadata": {},
   "source": [
    "- Must apply the Law of Total Probability to get P_blemish\n"
   ]
  },
  {
   "cell_type": "code",
   "execution_count": 3,
   "metadata": {
    "ExecuteTime": {
     "end_time": "2020-07-08T23:16:31.130280Z",
     "start_time": "2020-07-08T23:16:31.125415Z"
    }
   },
   "outputs": [
    {
     "data": {
      "text/plain": [
       "0.46875"
      ]
     },
     "execution_count": 3,
     "metadata": {},
     "output_type": "execute_result"
    }
   ],
   "source": [
    "# Your code here \n",
    "P_blemish_given_cancer = 1\n",
    "P_blemish_given_nocancer = 0.2\n",
    "P_cancer = 0.15\n",
    "P_blemish = P_blemish_given_cancer*P_cancer + P_blemish_given_nocancer*(1-P_cancer)\n",
    "\n",
    "\n",
    "\n",
    "P_cancer_given_blemishes = bayes(P_cancer,P_blemish,P_blemish_given_cancer)\n",
    "P_cancer_given_blemishes\n"
   ]
  },
  {
   "cell_type": "markdown",
   "metadata": {},
   "source": [
    "### Children (I) \n",
    " \n",
    "A couple has two children. the younger of which is a boy. What is the probability that they have two boys?"
   ]
  },
  {
   "cell_type": "code",
   "execution_count": 4,
   "metadata": {
    "ExecuteTime": {
     "end_time": "2020-07-08T23:22:08.106330Z",
     "start_time": "2020-07-08T23:22:08.102058Z"
    }
   },
   "outputs": [
    {
     "data": {
      "text/plain": [
       "0.5"
      ]
     },
     "execution_count": 4,
     "metadata": {},
     "output_type": "execute_result"
    }
   ],
   "source": [
    "# Your solution P(2boys|older child is a boy)\n",
    "P_2boys = 0.5*0.5\n",
    "P_younger_boy = 0.5\n",
    "P_older_boy_given_2boys =1\n",
    "P_2boys_given_older_boy = bayes(P_2boys,P_younger_boy,P_older_boy_given_2boys)\n",
    "P_2boys_given_older_boy\n"
   ]
  },
  {
   "cell_type": "markdown",
   "metadata": {},
   "source": [
    "### Children  (II)\n",
    "\n",
    "A couple has two children, one of which is a boy. What is the probability that they have two boys?"
   ]
  },
  {
   "cell_type": "code",
   "execution_count": 5,
   "metadata": {
    "ExecuteTime": {
     "end_time": "2020-07-08T23:27:11.743592Z",
     "start_time": "2020-07-08T23:27:11.738111Z"
    }
   },
   "outputs": [
    {
     "data": {
      "text/plain": [
       "0.3333333333333333"
      ]
     },
     "execution_count": 5,
     "metadata": {},
     "output_type": "execute_result"
    }
   ],
   "source": [
    "# Your solution P(2boys|1 of 2 children is a boy)\n",
    "## GG GB BB\n",
    "P_2boys = 0.25\n",
    "P_1boy =  0.75\n",
    "P_1boy_given_2boys = 1\n",
    "\n",
    "P_2boys_given_1boy = bayes(P_2boys, P_1boy, P_1boy_given_2boys)\n",
    "P_2boys_given_1boy"
   ]
  },
  {
   "cell_type": "markdown",
   "metadata": {},
   "source": [
    "### A diagnostic test\n"
   ]
  },
  {
   "cell_type": "markdown",
   "metadata": {},
   "source": [
    "A diagnostic test is advertised as being 99% accurate \n",
    "\n",
    "* If a patient has the disease, they  will test positive 99% of the time \n",
    "\n",
    "* If they don't have the disease, they will test negative 99% of the time  \n",
    "\n",
    "* 1% of all people have this disease \n",
    "\n",
    "If a patient tests positive, what is the probability that they actually have the disease?"
   ]
  },
  {
   "cell_type": "code",
   "execution_count": 6,
   "metadata": {
    "ExecuteTime": {
     "end_time": "2020-07-08T23:34:29.315416Z",
     "start_time": "2020-07-08T23:34:29.310914Z"
    }
   },
   "outputs": [
    {
     "data": {
      "text/plain": [
       "0.5"
      ]
     },
     "execution_count": 6,
     "metadata": {},
     "output_type": "execute_result"
    }
   ],
   "source": [
    "P_disease  = 1/100\n",
    "P_postive_given_disease = 99/100\n",
    "\n",
    "P_positive_given_no_disease = 1/100\n",
    "\n",
    "\n",
    "P_positive = P_postive_given_disease*P_disease  + (1-P_disease)*P_positive_given_no_disease\n",
    "\n",
    "P_disease_given_positive = bayes(P_disease,P_positive,P_postive_given_disease)\n",
    "P_disease_given_positive"
   ]
  },
  {
   "cell_type": "markdown",
   "metadata": {},
   "source": [
    "# Maximum Likelihood Estimation"
   ]
  },
  {
   "cell_type": "markdown",
   "metadata": {},
   "source": [
    "\n",
    "MLE primarily deals with **determining the parameters ($\\theta$'s)** that **maximize the probability/liklihood of observing the data**. "
   ]
  },
  {
   "cell_type": "markdown",
   "metadata": {
    "ExecuteTime": {
     "end_time": "2020-02-23T00:17:06.189085Z",
     "start_time": "2020-02-23T00:17:06.186800Z"
    }
   },
   "source": [
    "## Parameter Inference"
   ]
  },
  {
   "cell_type": "markdown",
   "metadata": {},
   "source": [
    "> - If we have a number of observations for a phenomenon that we do not know the probability/parameters for, we can use the probability of seeing those observations (the likelihood) for different probabilities/parameters until we find the value for the parameter that maximizes our chances of seeing the observed data.'\n"
   ]
  },
  {
   "cell_type": "markdown",
   "metadata": {},
   "source": [
    "### MLE Assumptions"
   ]
  },
  {
   "cell_type": "markdown",
   "metadata": {},
   "source": [
    "- Observations are independent \n",
    "- Observations are identically distributed\n",
    "\n",
    "\n",
    "> These assumptions are so common they have been given an abbreviation: \"the i.i.d. assumption (independent and identically distributed samples)\n",
    "\n",
    "<!---<img src =\"https://raw.githubusercontent.com/learn-co-students/dsc-mle-online-ds-pt-100719/master/images/der.png\">--->"
   ]
  },
  {
   "cell_type": "markdown",
   "metadata": {
    "ExecuteTime": {
     "end_time": "2020-02-25T21:18:55.524353Z",
     "start_time": "2020-02-25T21:18:55.522341Z"
    }
   },
   "source": [
    "# Activity: Using MLE to find the Mean and Std for Male Height"
   ]
  },
  {
   "cell_type": "markdown",
   "metadata": {},
   "source": [
    "> Use MLE to find find the mean height and standard deviation for males."
   ]
  },
  {
   "cell_type": "code",
   "execution_count": 7,
   "metadata": {
    "ExecuteTime": {
     "end_time": "2020-07-08T22:54:35.682815Z",
     "start_time": "2020-07-08T22:54:35.390102Z"
    }
   },
   "outputs": [
    {
     "data": {
      "text/html": [
       "<div>\n",
       "<style scoped>\n",
       "    .dataframe tbody tr th:only-of-type {\n",
       "        vertical-align: middle;\n",
       "    }\n",
       "\n",
       "    .dataframe tbody tr th {\n",
       "        vertical-align: top;\n",
       "    }\n",
       "\n",
       "    .dataframe thead th {\n",
       "        text-align: right;\n",
       "    }\n",
       "</style>\n",
       "<table border=\"1\" class=\"dataframe\">\n",
       "  <thead>\n",
       "    <tr style=\"text-align: right;\">\n",
       "      <th></th>\n",
       "      <th>Gender</th>\n",
       "      <th>Height</th>\n",
       "      <th>Weight</th>\n",
       "    </tr>\n",
       "  </thead>\n",
       "  <tbody>\n",
       "    <tr>\n",
       "      <th>0</th>\n",
       "      <td>Male</td>\n",
       "      <td>73.847017</td>\n",
       "      <td>241.893563</td>\n",
       "    </tr>\n",
       "    <tr>\n",
       "      <th>1</th>\n",
       "      <td>Male</td>\n",
       "      <td>68.781904</td>\n",
       "      <td>162.310473</td>\n",
       "    </tr>\n",
       "    <tr>\n",
       "      <th>2</th>\n",
       "      <td>Male</td>\n",
       "      <td>74.110105</td>\n",
       "      <td>212.740856</td>\n",
       "    </tr>\n",
       "    <tr>\n",
       "      <th>3</th>\n",
       "      <td>Male</td>\n",
       "      <td>71.730978</td>\n",
       "      <td>220.042470</td>\n",
       "    </tr>\n",
       "    <tr>\n",
       "      <th>4</th>\n",
       "      <td>Male</td>\n",
       "      <td>69.881796</td>\n",
       "      <td>206.349801</td>\n",
       "    </tr>\n",
       "    <tr>\n",
       "      <th>...</th>\n",
       "      <td>...</td>\n",
       "      <td>...</td>\n",
       "      <td>...</td>\n",
       "    </tr>\n",
       "    <tr>\n",
       "      <th>9995</th>\n",
       "      <td>Female</td>\n",
       "      <td>66.172652</td>\n",
       "      <td>136.777454</td>\n",
       "    </tr>\n",
       "    <tr>\n",
       "      <th>9996</th>\n",
       "      <td>Female</td>\n",
       "      <td>67.067155</td>\n",
       "      <td>170.867906</td>\n",
       "    </tr>\n",
       "    <tr>\n",
       "      <th>9997</th>\n",
       "      <td>Female</td>\n",
       "      <td>63.867992</td>\n",
       "      <td>128.475319</td>\n",
       "    </tr>\n",
       "    <tr>\n",
       "      <th>9998</th>\n",
       "      <td>Female</td>\n",
       "      <td>69.034243</td>\n",
       "      <td>163.852461</td>\n",
       "    </tr>\n",
       "    <tr>\n",
       "      <th>9999</th>\n",
       "      <td>Female</td>\n",
       "      <td>61.944246</td>\n",
       "      <td>113.649103</td>\n",
       "    </tr>\n",
       "  </tbody>\n",
       "</table>\n",
       "<p>10000 rows × 3 columns</p>\n",
       "</div>"
      ],
      "text/plain": [
       "      Gender     Height      Weight\n",
       "0       Male  73.847017  241.893563\n",
       "1       Male  68.781904  162.310473\n",
       "2       Male  74.110105  212.740856\n",
       "3       Male  71.730978  220.042470\n",
       "4       Male  69.881796  206.349801\n",
       "...      ...        ...         ...\n",
       "9995  Female  66.172652  136.777454\n",
       "9996  Female  67.067155  170.867906\n",
       "9997  Female  63.867992  128.475319\n",
       "9998  Female  69.034243  163.852461\n",
       "9999  Female  61.944246  113.649103\n",
       "\n",
       "[10000 rows x 3 columns]"
      ]
     },
     "execution_count": 7,
     "metadata": {},
     "output_type": "execute_result"
    }
   ],
   "source": [
    "df = fs.datasets.load_height_weight()\n",
    "df"
   ]
  },
  {
   "cell_type": "code",
   "execution_count": 8,
   "metadata": {
    "ExecuteTime": {
     "end_time": "2020-07-08T22:54:35.692865Z",
     "start_time": "2020-07-08T22:54:35.684129Z"
    }
   },
   "outputs": [
    {
     "data": {
      "text/plain": [
       "2648    69.569235\n",
       "2456    68.035724\n",
       "4557    65.102935\n",
       "4884    64.585263\n",
       "92      70.640530\n",
       "          ...    \n",
       "1182    74.758752\n",
       "1898    72.439501\n",
       "2736    68.929542\n",
       "1003    67.805312\n",
       "3022    68.914623\n",
       "Name: Height, Length: 100, dtype: float64"
      ]
     },
     "execution_count": 8,
     "metadata": {},
     "output_type": "execute_result"
    }
   ],
   "source": [
    "## Separate Out Males' height\n",
    "df_male = df.groupby('Gender').get_group(\"Male\")['Height']\n",
    "\n",
    "## Take a small sample (n=100) using random_state 123\n",
    "male_sample = df_male.sample(100, random_state=123)\n",
    "male_sample"
   ]
  },
  {
   "cell_type": "code",
   "execution_count": 9,
   "metadata": {
    "ExecuteTime": {
     "end_time": "2020-07-08T22:54:35.871132Z",
     "start_time": "2020-07-08T22:54:35.694714Z"
    }
   },
   "outputs": [
    {
     "data": {
      "text/plain": [
       "[Text(0.5, 1.0, 'Observed Male Heights'), Text(0.5, 0, 'Height (inches)')]"
      ]
     },
     "execution_count": 9,
     "metadata": {},
     "output_type": "execute_result"
    },
    {
     "data": {
      "image/png": "[encoded data removed]",
      "text/plain": [
       "<Figure size 720x216 with 1 Axes>"
      ]
     },
     "metadata": {
      "needs_background": "light"
     },
     "output_type": "display_data"
    }
   ],
   "source": [
    "## Rug Plot of Male Heights Sample\n",
    "fig,ax=plt.subplots(figsize=(10,3))\n",
    "ax = sns.rugplot(male_sample,ax=ax,height=0.3)\n",
    "ax.set(title='Observed Male Heights', \n",
    "       xlabel='Height (inches)')"
   ]
  },
  {
   "cell_type": "markdown",
   "metadata": {},
   "source": [
    "## Task: Use MLE to Determine the Most Likely Mean and Std of Male Height"
   ]
  },
  {
   "cell_type": "markdown",
   "metadata": {},
   "source": [
    "- How can we figure out the most likely population mean and std for males?"
   ]
  },
  {
   "cell_type": "code",
   "execution_count": 10,
   "metadata": {
    "ExecuteTime": {
     "end_time": "2020-07-08T23:41:31.282257Z",
     "start_time": "2020-07-08T23:41:31.279622Z"
    }
   },
   "outputs": [],
   "source": [
    "import scipy.stats as st\n",
    "mu=70\n",
    "std=4"
   ]
  },
  {
   "cell_type": "code",
   "execution_count": 11,
   "metadata": {
    "ExecuteTime": {
     "end_time": "2020-07-08T23:42:02.889418Z",
     "start_time": "2020-07-08T23:42:02.884515Z"
    }
   },
   "outputs": [],
   "source": [
    "## Generate 100 data points in the range of male_height (xs)\n",
    "xs = np.linspace(male_sample.min(),male_sample.max(),100)\n",
    "\n",
    "## Generate a normal distribution (ys) using the xs \n",
    "ys = st.norm(loc=mu,scale=std).pdf(xs)"
   ]
  },
  {
   "cell_type": "code",
   "execution_count": 12,
   "metadata": {
    "ExecuteTime": {
     "end_time": "2020-07-08T23:42:04.175386Z",
     "start_time": "2020-07-08T23:42:03.993341Z"
    }
   },
   "outputs": [
    {
     "data": {
      "text/plain": [
       "<AxesSubplot:xlabel='Height'>"
      ]
     },
     "execution_count": 12,
     "metadata": {},
     "output_type": "execute_result"
    },
    {
     "data": {
      "image/png": "[encoded data removed]",
      "text/plain": [
       "<Figure size 432x288 with 1 Axes>"
      ]
     },
     "metadata": {
      "needs_background": "light"
     },
     "output_type": "display_data"
    }
   ],
   "source": [
    "## PLot the male_sample rugplot with the nromal distrubition\n",
    "plt.plot(xs,ys)\n",
    "sns.rugplot(male_sample)"
   ]
  },
  {
   "cell_type": "code",
   "execution_count": 13,
   "metadata": {
    "ExecuteTime": {
     "end_time": "2020-07-08T23:42:20.531095Z",
     "start_time": "2020-07-08T23:42:20.242101Z"
    }
   },
   "outputs": [
    {
     "data": {
      "image/png": "[encoded data removed]",
      "text/plain": [
       "<Figure size 720x216 with 1 Axes>"
      ]
     },
     "metadata": {
      "needs_background": "light"
     },
     "output_type": "display_data"
    }
   ],
   "source": [
    "def plot_male_height(male_sample, mu, std):\n",
    "    \"\"\"Plot a rugplot of the male_sample \n",
    "    vs the normal distribution defined by mu and std.\"\"\"\n",
    "\n",
    "    ## Plot Male Heights\n",
    "    fig,ax=plt.subplots(figsize=(10,3))\n",
    "    ax = sns.rugplot(male_sample,ax=ax,height=0.1)\n",
    "    ax.set(title='Observed Male Heights', xlabel='Height (inches)')\n",
    "    \n",
    "    ## Generate a normal distribution (ys) using the xs \n",
    "    xs = np.linspace(male_sample.min(),male_sample.max(),100)\n",
    "    pop = st.norm(loc=mu,scale=std).pdf(xs)\n",
    "    \n",
    "    ax.plot(xs,pop,label=f\"Generated Dist (mu={mu}, std={std})\")\n",
    "    ax.axvline(mu,c='k',ls=':',label=f\"Mean={mu}\")\n",
    "    ax.legend()\n",
    "    \n",
    "    \n",
    "plot_male_height(male_sample,70,4)    "
   ]
  },
  {
   "cell_type": "markdown",
   "metadata": {},
   "source": [
    "## The Probability Density Function for the Normal Distribution\n",
    "\n",
    "https://towardsdatascience.com/maximum-likelihood-estimation-explained-normal-distribution-6207b322e47f"
   ]
  },
  {
   "cell_type": "markdown",
   "metadata": {},
   "source": [
    "The probability density function equation for the normal distribution is given by the following expression:\n",
    "\n",
    "$$ \\large P(x) = \\dfrac{1}{\\sigma \\sqrt {2\\pi }}e^{-\\dfrac{(x-\\mu)^2}{2\\sigma^2}}$$\n",
    "\n",
    "Here, \n",
    "- $\\mu$ is the mean\n",
    "- $\\sigma$ is the standard deviation\n",
    "- $\\pi \\approx 3.14159 $ \n",
    "- $ e \\approx 2.71828 $\n",
    "\n",
    "> https://nbviewer.jupyter.org/github/learn-co-curriculum/dsc-normal-distribution/blob/master/index.ipynb"
   ]
  },
  {
   "cell_type": "code",
   "execution_count": 14,
   "metadata": {
    "ExecuteTime": {
     "end_time": "2020-07-08T23:48:12.876649Z",
     "start_time": "2020-07-08T23:48:12.870724Z"
    }
   },
   "outputs": [],
   "source": [
    "import math\n",
    "import numpy as np\n",
    "\n",
    "def calc_likelihood(x,mu,std):\n",
    "    \"\"\"Write a function to calculate the expected value at \n",
    "    a particular point using the equation above.\"\"\"\n",
    "    e_num = math.e**(((-1*(x-mu)**2))/(2*std**2))\n",
    "    denom = std * np.sqrt(2*math.pi)\n",
    "    return 1/denom * e_num\n",
    "\n",
    "def calc_total_likelihood(xs,mu,std):\n",
    "    \"\"\"Write a function that will get the likelihood \n",
    "    for each x value so we can get the product of the total probability\"\"\"\n",
    "    likelihoods = []\n",
    "    \n",
    "    for x in xs:\n",
    "        likelihood = calc_likelihood(x,mu, std)\n",
    "        likelihoods.append(likelihood)\n",
    "    return np.array(likelihoods).prod()\n",
    "    \n",
    "    "
   ]
  },
  {
   "cell_type": "code",
   "execution_count": 15,
   "metadata": {},
   "outputs": [
    {
     "data": {
      "text/plain": [
       "7.123494597622488e-114"
      ]
     },
     "execution_count": 15,
     "metadata": {},
     "output_type": "execute_result"
    }
   ],
   "source": [
    "calc_total_likelihood(male_sample, 70,4)"
   ]
  },
  {
   "cell_type": "markdown",
   "metadata": {},
   "source": [
    "## Parameter Inference"
   ]
  },
  {
   "cell_type": "markdown",
   "metadata": {},
   "source": [
    "> We want to infer which of these values best matches the true Mean and Std of male height."
   ]
  },
  {
   "cell_type": "code",
   "execution_count": 16,
   "metadata": {
    "ExecuteTime": {
     "end_time": "2020-07-08T23:50:01.359653Z",
     "start_time": "2020-07-08T23:50:01.351291Z"
    }
   },
   "outputs": [
    {
     "data": {
      "text/plain": [
       "[(40, 0.5),\n",
       " (40, 1.0),\n",
       " (40, 1.5),\n",
       " (40, 2.0),\n",
       " (40, 2.5),\n",
       " (40, 3),\n",
       " (40, 3.5),\n",
       " (40, 4),\n",
       " (40, 4.5),\n",
       " (40, 5),\n",
       " (65, 0.5),\n",
       " (65, 1.0),\n",
       " (65, 1.5),\n",
       " (65, 2.0),\n",
       " (65, 2.5),\n",
       " (65, 3),\n",
       " (65, 3.5),\n",
       " (65, 4),\n",
       " (65, 4.5),\n",
       " (65, 5),\n",
       " (75, 0.5),\n",
       " (75, 1.0),\n",
       " (75, 1.5),\n",
       " (75, 2.0),\n",
       " (75, 2.5),\n",
       " (75, 3),\n",
       " (75, 3.5),\n",
       " (75, 4),\n",
       " (75, 4.5),\n",
       " (75, 5),\n",
       " (66, 0.5),\n",
       " (66, 1.0),\n",
       " (66, 1.5),\n",
       " (66, 2.0),\n",
       " (66, 2.5),\n",
       " (66, 3),\n",
       " (66, 3.5),\n",
       " (66, 4),\n",
       " (66, 4.5),\n",
       " (66, 5),\n",
       " (69, 0.5),\n",
       " (69, 1.0),\n",
       " (69, 1.5),\n",
       " (69, 2.0),\n",
       " (69, 2.5),\n",
       " (69, 3),\n",
       " (69, 3.5),\n",
       " (69, 4),\n",
       " (69, 4.5),\n",
       " (69, 5),\n",
       " (70, 0.5),\n",
       " (70, 1.0),\n",
       " (70, 1.5),\n",
       " (70, 2.0),\n",
       " (70, 2.5),\n",
       " (70, 3),\n",
       " (70, 3.5),\n",
       " (70, 4),\n",
       " (70, 4.5),\n",
       " (70, 5),\n",
       " (72, 0.5),\n",
       " (72, 1.0),\n",
       " (72, 1.5),\n",
       " (72, 2.0),\n",
       " (72, 2.5),\n",
       " (72, 3),\n",
       " (72, 3.5),\n",
       " (72, 4),\n",
       " (72, 4.5),\n",
       " (72, 5),\n",
       " (80, 0.5),\n",
       " (80, 1.0),\n",
       " (80, 1.5),\n",
       " (80, 2.0),\n",
       " (80, 2.5),\n",
       " (80, 3),\n",
       " (80, 3.5),\n",
       " (80, 4),\n",
       " (80, 4.5),\n",
       " (80, 5),\n",
       " (91, 0.5),\n",
       " (91, 1.0),\n",
       " (91, 1.5),\n",
       " (91, 2.0),\n",
       " (91, 2.5),\n",
       " (91, 3),\n",
       " (91, 3.5),\n",
       " (91, 4),\n",
       " (91, 4.5),\n",
       " (91, 5)]"
      ]
     },
     "execution_count": 16,
     "metadata": {},
     "output_type": "execute_result"
    }
   ],
   "source": [
    "\n",
    "import itertools\n",
    "theta_mus = [40,65,75,66,69,70,72, 80,91]\n",
    "theta_stds = [0.5,1.0,1.5,2.0,2.5,3,3.5,4,4.5,5]\n",
    "\n",
    "theta_params = list(itertools.product(theta_mus,theta_stds))\n",
    "theta_params"
   ]
  },
  {
   "cell_type": "code",
   "execution_count": 17,
   "metadata": {
    "ExecuteTime": {
     "end_time": "2020-07-08T23:53:00.894079Z",
     "start_time": "2020-07-08T23:53:00.853829Z"
    }
   },
   "outputs": [
    {
     "data": {
      "text/html": [
       "<div>\n",
       "<style scoped>\n",
       "    .dataframe tbody tr th:only-of-type {\n",
       "        vertical-align: middle;\n",
       "    }\n",
       "\n",
       "    .dataframe tbody tr th {\n",
       "        vertical-align: top;\n",
       "    }\n",
       "\n",
       "    .dataframe thead th {\n",
       "        text-align: right;\n",
       "    }\n",
       "</style>\n",
       "<table border=\"1\" class=\"dataframe\">\n",
       "  <thead>\n",
       "    <tr style=\"text-align: right;\">\n",
       "      <th></th>\n",
       "      <th>Mu</th>\n",
       "      <th>Std</th>\n",
       "      <th>Likelihood</th>\n",
       "    </tr>\n",
       "  </thead>\n",
       "  <tbody>\n",
       "    <tr>\n",
       "      <th>0</th>\n",
       "      <td>69</td>\n",
       "      <td>3.0</td>\n",
       "      <td>1.212437e-109</td>\n",
       "    </tr>\n",
       "    <tr>\n",
       "      <th>1</th>\n",
       "      <td>69</td>\n",
       "      <td>3.5</td>\n",
       "      <td>1.093284e-110</td>\n",
       "    </tr>\n",
       "    <tr>\n",
       "      <th>2</th>\n",
       "      <td>69</td>\n",
       "      <td>2.5</td>\n",
       "      <td>4.284359e-111</td>\n",
       "    </tr>\n",
       "    <tr>\n",
       "      <th>3</th>\n",
       "      <td>70</td>\n",
       "      <td>3.0</td>\n",
       "      <td>1.623014e-111</td>\n",
       "    </tr>\n",
       "    <tr>\n",
       "      <th>4</th>\n",
       "      <td>70</td>\n",
       "      <td>3.5</td>\n",
       "      <td>4.596252e-112</td>\n",
       "    </tr>\n",
       "    <tr>\n",
       "      <th>5</th>\n",
       "      <td>69</td>\n",
       "      <td>4.0</td>\n",
       "      <td>8.062041e-113</td>\n",
       "    </tr>\n",
       "    <tr>\n",
       "      <th>6</th>\n",
       "      <td>70</td>\n",
       "      <td>2.5</td>\n",
       "      <td>8.595695e-114</td>\n",
       "    </tr>\n",
       "    <tr>\n",
       "      <th>7</th>\n",
       "      <td>70</td>\n",
       "      <td>4.0</td>\n",
       "      <td>7.123495e-114</td>\n",
       "    </tr>\n",
       "    <tr>\n",
       "      <th>8</th>\n",
       "      <td>69</td>\n",
       "      <td>4.5</td>\n",
       "      <td>2.019352e-115</td>\n",
       "    </tr>\n",
       "    <tr>\n",
       "      <th>9</th>\n",
       "      <td>70</td>\n",
       "      <td>4.5</td>\n",
       "      <td>2.969053e-116</td>\n",
       "    </tr>\n",
       "  </tbody>\n",
       "</table>\n",
       "</div>"
      ],
      "text/plain": [
       "   Mu  Std     Likelihood\n",
       "0  69  3.0  1.212437e-109\n",
       "1  69  3.5  1.093284e-110\n",
       "2  69  2.5  4.284359e-111\n",
       "3  70  3.0  1.623014e-111\n",
       "4  70  3.5  4.596252e-112\n",
       "5  69  4.0  8.062041e-113\n",
       "6  70  2.5  8.595695e-114\n",
       "7  70  4.0  7.123495e-114\n",
       "8  69  4.5  2.019352e-115\n",
       "9  70  4.5  2.969053e-116"
      ]
     },
     "execution_count": 17,
     "metadata": {},
     "output_type": "execute_result"
    }
   ],
   "source": [
    "## Calculate the most likely parameters for mu, std\n",
    "compare_likelihoods = [['Mu', \"Std\",'Likelihood']]\n",
    "\n",
    "## For each pair of mu,std, calculate total likelihood.\n",
    "for (mu,std) in theta_params:\n",
    "    res = calc_total_likelihood(male_sample,mu,std)\n",
    "    compare_likelihoods.append([mu,std,res])\n",
    "\n",
    "## Turn it into a df for convenience\n",
    "compare = pd.DataFrame(compare_likelihoods[1:],columns=compare_likelihoods[0])\n",
    "compare = compare.sort_values('Likelihood',ascending=False).reset_index(drop=True)\n",
    "compare.head(10)\n"
   ]
  },
  {
   "cell_type": "code",
   "execution_count": 18,
   "metadata": {
    "ExecuteTime": {
     "end_time": "2020-07-08T01:51:15.493136Z",
     "start_time": "2020-07-08T01:51:15.491074Z"
    }
   },
   "outputs": [],
   "source": [
    "## View the 5 params with the highest likelihood"
   ]
  },
  {
   "cell_type": "code",
   "execution_count": 19,
   "metadata": {
    "ExecuteTime": {
     "end_time": "2020-07-08T23:53:24.430602Z",
     "start_time": "2020-07-08T23:53:24.198159Z"
    }
   },
   "outputs": [
    {
     "data": {
      "image/png": "[encoded data removed]",
      "text/plain": [
       "<Figure size 720x216 with 1 Axes>"
      ]
     },
     "metadata": {
      "needs_background": "light"
     },
     "output_type": "display_data"
    }
   ],
   "source": [
    "## Plot the male_sample rugplot vs mu and std with the max likelihood\n",
    "plot_male_height(male_sample,69,3.0)"
   ]
  },
  {
   "cell_type": "code",
   "execution_count": 20,
   "metadata": {
    "ExecuteTime": {
     "end_time": "2020-07-08T23:53:48.278667Z",
     "start_time": "2020-07-08T23:53:48.274033Z"
    }
   },
   "outputs": [
    {
     "data": {
      "text/plain": [
       "(69.02634590621741, 2.863362228660647)"
      ]
     },
     "execution_count": 20,
     "metadata": {},
     "output_type": "execute_result"
    }
   ],
   "source": [
    "## Get the actual mean and std from the full population\n",
    "df_male.mean(), df_male.std()"
   ]
  },
  {
   "cell_type": "markdown",
   "metadata": {
    "heading_collapsed": true
   },
   "source": [
    "# Appendix"
   ]
  },
  {
   "cell_type": "markdown",
   "metadata": {
    "hidden": true
   },
   "source": [
    "\n",
    "\n",
    "### Monotonic function\n",
    "\n",
    "> In mathematics, a [monotonic function](https://en.wikipedia.org/wiki/Monotonic_function) (or monotone function) is a function between ordered sets that preserves or reverses the given order. This concept first arose in calculus, and was later generalized to the more abstract setting of order theory. \n",
    "\n",
    "\n",
    "According to this theory, if you apply a monotonic function to another function, like the one you are trying to optimize above, this application will preserve the critical points (maxima in this case) of the original function. Logarithmic functions are normally used within the domain of machine learning to achieve the functionality of monotonicity. The logarithmic function is described as:\n",
    "\n",
    "> $log_b(x)$\n",
    "\n",
    "* where b is any number such that b > 0, b ≠ 1, and x > 0  \n",
    "* The function is read \"log base b of x\" \n",
    "\n",
    "The logarithm y is the exponent to which b must be raised to get x. The behavior of a log function can be understood from following image.\n",
    "\n",
    "\n",
    "<img src=\"https://raw.githubusercontent.com/jirvingphd/dsc-mle-online-ds-pt-100719/master/images/new_log.png\" width=\"700\">\n",
    "\n",
    "\n",
    "This helps you realize that **log of f(θ) i.e. log(f(θ)) will have the save maxima as the likelihood function f(θ).** This is better known as the **log likelihood**. \n"
   ]
  },
  {
   "cell_type": "code",
   "execution_count": null,
   "metadata": {
    "hidden": true
   },
   "outputs": [],
   "source": []
  }
 ],
 "metadata": {
  "kernelspec": {
   "display_name": "learn-env-new",
   "language": "python",
   "name": "learn-env-new"
  },
  "language_info": {
   "codemirror_mode": {
    "name": "ipython",
    "version": 3
   },
   "file_extension": ".py",
   "mimetype": "text/x-python",
   "name": "python",
   "nbconvert_exporter": "python",
   "pygments_lexer": "ipython3",
   "version": "3.8.5"
  },
  "toc": {
   "base_numbering": 1,
   "nav_menu": {},
   "number_sections": false,
   "sideBar": true,
   "skip_h1_title": false,
   "title_cell": "Table of Contents",
   "title_sidebar": "Contents",
   "toc_cell": false,
   "toc_position": {
    "height": "calc(100% - 180px)",
    "left": "10px",
    "top": "150px",
    "width": "290.906px"
   },
   "toc_section_display": true,
   "toc_window_display": true
  },
  "varInspector": {
   "cols": {
    "lenName": 16,
    "lenType": 16,
    "lenVar": 40
   },
   "kernels_config": {
    "python": {
     "delete_cmd_postfix": "",
     "delete_cmd_prefix": "del ",
     "library": "var_list.py",
     "varRefreshCmd": "print(var_dic_list())"
    },
    "r": {
     "delete_cmd_postfix": ") ",
     "delete_cmd_prefix": "rm(",
     "library": "var_list.r",
     "varRefreshCmd": "cat(var_dic_list()) "
    }
   },
   "types_to_exclude": [
    "module",
    "function",
    "builtin_function_or_method",
    "instance",
    "_Feature"
   ],
   "window_display": false
  }
 },
 "nbformat": 4,
 "nbformat_minor": 2
}

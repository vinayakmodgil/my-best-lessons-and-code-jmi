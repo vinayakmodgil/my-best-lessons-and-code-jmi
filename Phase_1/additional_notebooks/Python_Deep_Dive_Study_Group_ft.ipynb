{
 "cells": [
  {
   "cell_type": "markdown",
   "metadata": {
    "colab_type": "text",
    "id": "Zh_6nDmEe1DC"
   },
   "source": [
    "# PYTHON: DEEP DIVE\n",
    "- Bonus Study Group 01/03/20\n"
   ]
  },
  {
   "cell_type": "markdown",
   "metadata": {
    "colab_type": "text",
    "id": "ZAi2BAmhIDcq"
   },
   "source": [
    "# TOPICS"
   ]
  },
  {
   "cell_type": "markdown",
   "metadata": {
    "colab_type": "text",
    "id": "jvl9Gev3IEjQ"
   },
   "source": [
    "- Review OOP vocabulary from sect 10's SG\n",
    "\n",
    "\n",
    "- **Dictionaries are your friend!**\n",
    "    - Constructing Dictionaries `{k:v}` vs `dict(k=v)`\n",
    "    - Iterating With Dictionaries\n",
    "    - Dictionary Comprehensions\n",
    "    - The `kwargs` and the  `**` operator\n",
    "    \n",
    "- **Unpacking/packing with `*` and **\n",
    "\n",
    "- `filter`,`map` \n",
    "    \n",
    "- **Closures:**\n",
    "    - What is a closure?\n",
    "    - What happens if we return a closure from a function instead of the result?\n",
    "- **Decorators**\n",
    "    - `@interact` example\n",
    "\n",
    "- **ACTIVITY: Writing Decorator Timer**\n",
    "    - Fixing docstrings using `from functools import wraps`\n",
    "    \n",
    "\n",
    "- **Deeper dive into Classes/Objects**\n",
    "    - `help(obj)` vs `dir(obj)`\n",
    "    - special methods/properties (`__repr__(),__str__(),__call__(),__version__(),__name__()`)\n",
    "    - ~~Methods: vs Bound Methods vs Static Methods~~\n",
    "    - Properties vs Attributes \n",
    "    "
   ]
  },
  {
   "cell_type": "code",
   "execution_count": 1,
   "metadata": {
    "ExecuteTime": {
     "end_time": "2020-02-15T21:07:18.762548Z",
     "start_time": "2020-02-15T21:07:13.683453Z"
    }
   },
   "outputs": [
    {
     "name": "stdout",
     "output_type": "stream",
     "text": [
      "fsds_1007219  v0.7.6 loaded.  Read the docs: https://fsds.readthedocs.io/en/latest/ \n"
     ]
    },
    {
     "data": {
      "text/html": [
       "<style  type=\"text/css\" >\n",
       "</style><table id=\"T_261a55b0_5037_11ea_b29c_4865ee12e626\" ><caption>Loaded Packages and Handles</caption><thead>    <tr>        <th class=\"col_heading level0 col0\" >Handle</th>        <th class=\"col_heading level0 col1\" >Package</th>        <th class=\"col_heading level0 col2\" >Description</th>    </tr></thead><tbody>\n",
       "                <tr>\n",
       "                                <td id=\"T_261a55b0_5037_11ea_b29c_4865ee12e626row0_col0\" class=\"data row0 col0\" >dp</td>\n",
       "                        <td id=\"T_261a55b0_5037_11ea_b29c_4865ee12e626row0_col1\" class=\"data row0 col1\" >IPython.display</td>\n",
       "                        <td id=\"T_261a55b0_5037_11ea_b29c_4865ee12e626row0_col2\" class=\"data row0 col2\" >Display modules with helpful display and clearing commands.</td>\n",
       "            </tr>\n",
       "            <tr>\n",
       "                                <td id=\"T_261a55b0_5037_11ea_b29c_4865ee12e626row1_col0\" class=\"data row1 col0\" >fs</td>\n",
       "                        <td id=\"T_261a55b0_5037_11ea_b29c_4865ee12e626row1_col1\" class=\"data row1 col1\" >fsds_100719</td>\n",
       "                        <td id=\"T_261a55b0_5037_11ea_b29c_4865ee12e626row1_col2\" class=\"data row1 col2\" >Custom data science bootcamp student package</td>\n",
       "            </tr>\n",
       "            <tr>\n",
       "                                <td id=\"T_261a55b0_5037_11ea_b29c_4865ee12e626row2_col0\" class=\"data row2 col0\" >mpl</td>\n",
       "                        <td id=\"T_261a55b0_5037_11ea_b29c_4865ee12e626row2_col1\" class=\"data row2 col1\" >matplotlib</td>\n",
       "                        <td id=\"T_261a55b0_5037_11ea_b29c_4865ee12e626row2_col2\" class=\"data row2 col2\" >Matplotlib's base OOP module with formatting artists</td>\n",
       "            </tr>\n",
       "            <tr>\n",
       "                                <td id=\"T_261a55b0_5037_11ea_b29c_4865ee12e626row3_col0\" class=\"data row3 col0\" >plt</td>\n",
       "                        <td id=\"T_261a55b0_5037_11ea_b29c_4865ee12e626row3_col1\" class=\"data row3 col1\" >matplotlib.pyplot</td>\n",
       "                        <td id=\"T_261a55b0_5037_11ea_b29c_4865ee12e626row3_col2\" class=\"data row3 col2\" >Matplotlib's matlab-like plotting module</td>\n",
       "            </tr>\n",
       "            <tr>\n",
       "                                <td id=\"T_261a55b0_5037_11ea_b29c_4865ee12e626row4_col0\" class=\"data row4 col0\" >np</td>\n",
       "                        <td id=\"T_261a55b0_5037_11ea_b29c_4865ee12e626row4_col1\" class=\"data row4 col1\" >numpy</td>\n",
       "                        <td id=\"T_261a55b0_5037_11ea_b29c_4865ee12e626row4_col2\" class=\"data row4 col2\" >scientific computing with Python</td>\n",
       "            </tr>\n",
       "            <tr>\n",
       "                                <td id=\"T_261a55b0_5037_11ea_b29c_4865ee12e626row5_col0\" class=\"data row5 col0\" >pd</td>\n",
       "                        <td id=\"T_261a55b0_5037_11ea_b29c_4865ee12e626row5_col1\" class=\"data row5 col1\" >pandas</td>\n",
       "                        <td id=\"T_261a55b0_5037_11ea_b29c_4865ee12e626row5_col2\" class=\"data row5 col2\" >High performance data structures and tools</td>\n",
       "            </tr>\n",
       "            <tr>\n",
       "                                <td id=\"T_261a55b0_5037_11ea_b29c_4865ee12e626row6_col0\" class=\"data row6 col0\" >sns</td>\n",
       "                        <td id=\"T_261a55b0_5037_11ea_b29c_4865ee12e626row6_col1\" class=\"data row6 col1\" >seaborn</td>\n",
       "                        <td id=\"T_261a55b0_5037_11ea_b29c_4865ee12e626row6_col2\" class=\"data row6 col2\" >High-level data visualization library based on matplotlib</td>\n",
       "            </tr>\n",
       "    </tbody></table>"
      ],
      "text/plain": [
       "<pandas.io.formats.style.Styler at 0x1a189bcbe0>"
      ]
     },
     "metadata": {},
     "output_type": "display_data"
    },
    {
     "data": {
      "text/html": [
       "        <script type=\"text/javascript\">\n",
       "        window.PlotlyConfig = {MathJaxConfig: 'local'};\n",
       "        if (window.MathJax) {MathJax.Hub.Config({SVG: {font: \"STIX-Web\"}});}\n",
       "        if (typeof require !== 'undefined') {\n",
       "        require.undef(\"plotly\");\n",
       "        requirejs.config({\n",
       "            paths: {\n",
       "                'plotly': ['https://cdn.plot.ly/plotly-latest.min']\n",
       "            }\n",
       "        });\n",
       "        require(['plotly'], function(Plotly) {\n",
       "            window._Plotly = Plotly;\n",
       "        });\n",
       "        }\n",
       "        </script>\n",
       "        "
      ]
     },
     "metadata": {},
     "output_type": "display_data"
    },
    {
     "name": "stdout",
     "output_type": "stream",
     "text": [
      "['[i] Pandas .iplot() method activated.']\n"
     ]
    }
   ],
   "source": [
    "!pip install -U fsds_100719\n",
    "from fsds_100719.imports import *"
   ]
  },
  {
   "cell_type": "markdown",
   "metadata": {
    "colab_type": "text",
    "id": "hvv8bIQbck2x"
   },
   "source": [
    "# OOP VOCABULARY\n"
   ]
  },
  {
   "cell_type": "markdown",
   "metadata": {
    "colab_type": "text",
    "id": "6wjOijbeE0kK"
   },
   "source": [
    "- \"Object\" is an instance of a template class that currently exists in memory\n",
    "- \"Calling\" a function: \n",
    "    - When we use `( )` with a function we are calling it.\n",
    "\n",
    "- **Function:**  Codes that works on external data in a useful way. \n",
    "\n",
    "- Parameters: the defined data/varaibles that are passed accepted by a function\n",
    "- Argument: the actual variable/value passed in for a parameter\n",
    "- Positional Argument:\n",
    "    - The first arguments required\n",
    "    - their id is determined by their order\n",
    "- Keyword/default Arguments:\n",
    "    - arugments that have a defined default value\n",
    "    - must come after positional arguments\n",
    "\n",
    "<br><br>\n",
    "- **Class:** Template/blue print.\n",
    "- Instance: An object built from the class blueprint\n",
    "- Attribute: A variable stored inside an object. \n",
    "- Method: Functions are stored inside an object.\n",
    "    - Objects always pass themselves into a method, so we used `self` to account for this.\n",
    "- Private Attributes/Methods: they start with _ and are hidden from the user. They can be updated using getting and setting functions.\n",
    "- Getters/Setters:\n",
    "    - Methods for retreiving or changing private attributes\n",
    "\n",
    "- \"dunders\" = double underscores __ "
   ]
  },
  {
   "cell_type": "markdown",
   "metadata": {
    "colab_type": "text",
    "id": "ZlaNj6IdFEdr"
   },
   "source": [
    "## NEW VOCAB WORDS:\n"
   ]
  },
  {
   "cell_type": "markdown",
   "metadata": {
    "colab_type": "text",
    "id": "AHEs44pwIrzp"
   },
   "source": [
    "- expressions:\n",
    "    - the actual code to be run.\n",
    "\n",
    "- evaluating expressions:\n",
    "    - Python executes the code,grabs the data from memory\n",
    "    \n",
    "\n",
    "- operators: special symbols with assigned functions in python (see bottom section on Operators for examples)\n",
    "\n",
    "\n",
    "- iterables: Any sequence type that we can iterate over (lists, tuples, dictionaries)\n",
    "- iterators: Functions that are used to iterate through a sequence, but do not return an output unless collected by an external function like list(), tuple().\n",
    "    - Examples are `filter`,`map`,`zip`\n",
    "\n",
    "- Packing/unpacking:\n",
    "    - Packing is inserted values into an iterable. \n",
    "    - Unpacking is extracting/slicing the values from an iterable.\n",
    "    \n",
    "\n",
    "\n",
    "- \n",
    "\n",
    "\n"
   ]
  },
  {
   "cell_type": "markdown",
   "metadata": {
    "colab_type": "text",
    "id": "echx_0uzJCPV"
   },
   "source": [
    "# Evaluating Expressions: How objects/variables exist in python\n"
   ]
  },
  {
   "cell_type": "markdown",
   "metadata": {
    "colab_type": "text",
    "id": "bcgMr_9XJIr8"
   },
   "source": [
    "- Each object, variable,function, class is assigned a location in PC's memory and given a name that points to the objects address in memory.\n",
    "\n",
    "- When we create variables/objects from another variable/objects, _sometimes_ an _additional_ memory address is created for the new copy of the object with its own name pointing to its address. \n",
    "\n",
    "- `.copy()` is not just a pandas method, but actually attached to _any_ iterable"
   ]
  },
  {
   "cell_type": "markdown",
   "metadata": {
    "colab_type": "text",
    "id": "CHwgcJtpKADq"
   },
   "source": [
    "- When python **evaluates** a line of code containing a `=`, the variables are **passed as POSITIONAL arguments to a behind-the-scene function** that then spits out the product and assigns it to a new name.\n",
    "\n",
    "\n",
    "\n",
    "- So the **right side of the `=` is evaluated FIRST** before entering the hidden function that produces and assigns the output to the variables on the left of `=`\n",
    "\n",
    "```python\n",
    "\n",
    "## So what does that mean?\n",
    "a = 1\n",
    "b = 3\n",
    "print(f\"a={a},b={b}\")\n",
    "b,a = a,b\n",
    "print(f\"a={a},b={b}\")\n",
    "```\n",
    "\n",
    "- When python **EVALUATES** a line of code, it uses the variable names to load in the actual data stored in memory."
   ]
  },
  {
   "cell_type": "code",
   "execution_count": 1,
   "metadata": {
    "ExecuteTime": {
     "end_time": "2020-01-03T17:12:12.827560Z",
     "start_time": "2020-01-03T17:12:12.824042Z"
    }
   },
   "outputs": [
    {
     "name": "stdout",
     "output_type": "stream",
     "text": [
      "a=1,b=3\n"
     ]
    }
   ],
   "source": [
    "## So what does that mean?\n",
    "a = 1\n",
    "b = 3\n",
    "print(f\"a={a},b={b}\")"
   ]
  },
  {
   "cell_type": "code",
   "execution_count": 2,
   "metadata": {
    "ExecuteTime": {
     "end_time": "2020-01-03T17:12:46.487527Z",
     "start_time": "2020-01-03T17:12:46.483963Z"
    }
   },
   "outputs": [
    {
     "name": "stdout",
     "output_type": "stream",
     "text": [
      "a=3,b=1\n"
     ]
    }
   ],
   "source": [
    "b,a = a,b\n",
    "print(f\"a={a},b={b}\")"
   ]
  },
  {
   "cell_type": "markdown",
   "metadata": {},
   "source": [
    "# DICTIONARIES"
   ]
  },
  {
   "cell_type": "markdown",
   "metadata": {},
   "source": [
    "## Dictionary Methods"
   ]
  },
  {
   "cell_type": "markdown",
   "metadata": {},
   "source": [
    "- Iterating throught a dict:\n",
    "    - `dict.items()`\n",
    "    - `dict.keys()`\n",
    "    - `dict.values()`\n",
    "    - `**dict` vs `*dict`\n",
    "\n"
   ]
  },
  {
   "cell_type": "code",
   "execution_count": 14,
   "metadata": {
    "ExecuteTime": {
     "end_time": "2020-01-03T17:20:02.433770Z",
     "start_time": "2020-01-03T17:20:02.428658Z"
    }
   },
   "outputs": [
    {
     "name": "stdout",
     "output_type": "stream",
     "text": [
      "h 5\n",
      "o 6\n",
      "n 7\n",
      "---------\n",
      "{'p': 1, 'y': 2, 't': 3, 'h': 5, 'o': 6, 'n': 7}\n"
     ]
    }
   ],
   "source": [
    "# Constructing dictionaries\n",
    "d1=dict(p=1,y=2)\n",
    "d2 = {'t':3,'h':4}\n",
    "d3 = {'h':5,'o':6,'n':7}\n",
    "\n",
    "\n",
    "## . Can iterate through the keys and values\n",
    "for k,v in d3.items():\n",
    "    print(k,v)\n",
    "print('---'*3)\n",
    "\n",
    "new_dict = {**d1,**d2,**d3}\n",
    "print(new_dict)"
   ]
  },
  {
   "cell_type": "code",
   "execution_count": 9,
   "metadata": {
    "ExecuteTime": {
     "end_time": "2020-01-03T17:17:25.943559Z",
     "start_time": "2020-01-03T17:17:25.937485Z"
    }
   },
   "outputs": [
    {
     "name": "stdout",
     "output_type": "stream",
     "text": [
      "h\n",
      "o\n",
      "n\n",
      "\n",
      "h\n",
      "o\n",
      "n\n",
      "\n",
      "['h', 'o', 'n']\n"
     ]
    }
   ],
   "source": [
    "## iterate through just the keys\n",
    "for k in d3.keys():\n",
    "    print(k)\n",
    "print()\n",
    "for what in d3:\n",
    "    print(what)\n",
    "print()\n",
    "print([*d3])"
   ]
  },
  {
   "cell_type": "code",
   "execution_count": 8,
   "metadata": {
    "ExecuteTime": {
     "end_time": "2020-01-03T17:16:52.099518Z",
     "start_time": "2020-01-03T17:16:52.096168Z"
    }
   },
   "outputs": [
    {
     "name": "stdout",
     "output_type": "stream",
     "text": [
      "---------\n",
      "5\n",
      "6\n",
      "7\n"
     ]
    }
   ],
   "source": [
    "## Iterate through just the values\n",
    "print('---'*3)\n",
    "for v in d3.values():\n",
    "    print(v)"
   ]
  },
  {
   "cell_type": "markdown",
   "metadata": {},
   "source": [
    "- Setting Values\n",
    "    - `dict[k] = 5`\n",
    "    - `dict.setdefault(k,5)`\n",
    "\n",
    "    "
   ]
  },
  {
   "cell_type": "code",
   "execution_count": 18,
   "metadata": {
    "ExecuteTime": {
     "end_time": "2020-01-03T17:21:21.638304Z",
     "start_time": "2020-01-03T17:21:21.634578Z"
    }
   },
   "outputs": [
    {
     "data": {
      "text/plain": [
       "{'p': 1, 'y': 2, 'b': 6}"
      ]
     },
     "execution_count": 18,
     "metadata": {},
     "output_type": "execute_result"
    }
   ],
   "source": [
    "d1['b']= 6\n",
    "d1"
   ]
  },
  {
   "cell_type": "markdown",
   "metadata": {},
   "source": [
    "#### Setting values for keys ONLY if they do not exist with `.setdefault()`"
   ]
  },
  {
   "cell_type": "code",
   "execution_count": 20,
   "metadata": {
    "ExecuteTime": {
     "end_time": "2020-01-03T17:21:58.877175Z",
     "start_time": "2020-01-03T17:21:58.870498Z"
    }
   },
   "outputs": [
    {
     "ename": "KeyError",
     "evalue": "'k3'",
     "output_type": "error",
     "traceback": [
      "\u001b[0;31m---------------------------------------------------------------------------\u001b[0m",
      "\u001b[0;31mKeyError\u001b[0m                                  Traceback (most recent call last)",
      "\u001b[0;32m<ipython-input-20-89e3d19771f8>\u001b[0m in \u001b[0;36m<module>\u001b[0;34m\u001b[0m\n\u001b[1;32m      1\u001b[0m \u001b[0;31m## Set default will add a key if it is not present\u001b[0m\u001b[0;34m\u001b[0m\u001b[0;34m\u001b[0m\u001b[0;34m\u001b[0m\u001b[0m\n\u001b[1;32m      2\u001b[0m \u001b[0md\u001b[0m \u001b[0;34m=\u001b[0m \u001b[0mdict\u001b[0m\u001b[0;34m(\u001b[0m\u001b[0mk1\u001b[0m\u001b[0;34m=\u001b[0m\u001b[0;36m2\u001b[0m\u001b[0;34m,\u001b[0m\u001b[0mk2\u001b[0m\u001b[0;34m=\u001b[0m\u001b[0;36m6\u001b[0m\u001b[0;34m)\u001b[0m\u001b[0;34m\u001b[0m\u001b[0;34m\u001b[0m\u001b[0m\n\u001b[0;32m----> 3\u001b[0;31m \u001b[0md\u001b[0m\u001b[0;34m[\u001b[0m\u001b[0;34m'k3'\u001b[0m\u001b[0;34m]\u001b[0m\u001b[0;34m\u001b[0m\u001b[0;34m\u001b[0m\u001b[0m\n\u001b[0m",
      "\u001b[0;31mKeyError\u001b[0m: 'k3'"
     ]
    }
   ],
   "source": [
    "## Set default will add a key if it is not present\n",
    "## THIS CELL WILL CASE AN ERROR BECAUSE 'k3' DOESN'T EXIST\n",
    "d = dict(k1=2,k2=6)\n",
    "d['k3']"
   ]
  },
  {
   "cell_type": "code",
   "execution_count": 21,
   "metadata": {
    "ExecuteTime": {
     "end_time": "2020-01-03T17:22:27.934209Z",
     "start_time": "2020-01-03T17:22:27.930308Z"
    }
   },
   "outputs": [
    {
     "data": {
      "text/plain": [
       "7"
      ]
     },
     "execution_count": 21,
     "metadata": {},
     "output_type": "execute_result"
    }
   ],
   "source": [
    "## Set default will NOT override a pre-existing key\n",
    "d = dict(k1=2,k2=6,k3=7)\n",
    "d.setdefault('k3','Return Me')\n",
    "d['k3']"
   ]
  },
  {
   "cell_type": "code",
   "execution_count": 24,
   "metadata": {
    "ExecuteTime": {
     "end_time": "2020-01-03T17:23:56.589216Z",
     "start_time": "2020-01-03T17:23:56.583465Z"
    }
   },
   "outputs": [
    {
     "data": {
      "text/plain": [
       "{'k1': 2, 'k2': 6, 'a': 'Return Me', 'b': 'Return Me', 'c': 'Return Me'}"
      ]
     },
     "execution_count": 24,
     "metadata": {},
     "output_type": "execute_result"
    }
   ],
   "source": [
    "## Set default will NOT override a pre-existing key\n",
    "d = dict(k1=2,k2=6)\n",
    "[d.setdefault(k,'Return Me')  for k in ['a','b','c','k1']]\n",
    "d#['k3']"
   ]
  },
  {
   "cell_type": "markdown",
   "metadata": {},
   "source": [
    "- Retrieving Value:\n",
    "    - `dict.get(k)` vs `dict[k]`\n",
    "\n",
    "- Removing / Extracting Entries\n",
    "    - `dict.pop(k)` vs `del dict[k]`\n",
    "    - `dict.clear()`\n",
    "    \n",
    "- Merging Dictionaries:\n",
    "    - `d1.update(d2)`\n",
    "        - for every (k,v) in d2\"\n",
    "            - if k is NOT in d1, insert (k,v) into d1\n",
    "            - if k IS in d1, updates value of k in d1\n",
    "    - Use `**` operator:\n",
    "        - `combined_d = {**d1,**d2}`\n",
    "    \n",
    "- Updating Dictionaries\n",
    "    - `d1.update(key1=new_value1,new_key2=new_value2)`\n",
    "\n",
    "\n",
    "#### Retrieving Keys that do not exist"
   ]
  },
  {
   "cell_type": "code",
   "execution_count": 25,
   "metadata": {
    "ExecuteTime": {
     "end_time": "2020-01-03T17:24:16.689168Z",
     "start_time": "2020-01-03T17:24:16.682755Z"
    }
   },
   "outputs": [
    {
     "ename": "KeyError",
     "evalue": "'k3'",
     "output_type": "error",
     "traceback": [
      "\u001b[0;31m---------------------------------------------------------------------------\u001b[0m",
      "\u001b[0;31mKeyError\u001b[0m                                  Traceback (most recent call last)",
      "\u001b[0;32m<ipython-input-25-f769e9ac43dc>\u001b[0m in \u001b[0;36m<module>\u001b[0;34m\u001b[0m\n\u001b[1;32m      1\u001b[0m \u001b[0;31m## Slicing a key that doesn't exist throws an error\u001b[0m\u001b[0;34m\u001b[0m\u001b[0;34m\u001b[0m\u001b[0;34m\u001b[0m\u001b[0m\n\u001b[1;32m      2\u001b[0m \u001b[0md\u001b[0m \u001b[0;34m=\u001b[0m \u001b[0mdict\u001b[0m\u001b[0;34m(\u001b[0m\u001b[0mk1\u001b[0m\u001b[0;34m=\u001b[0m\u001b[0;36m2\u001b[0m\u001b[0;34m,\u001b[0m\u001b[0mk2\u001b[0m\u001b[0;34m=\u001b[0m\u001b[0;36m6\u001b[0m\u001b[0;34m)\u001b[0m\u001b[0;34m\u001b[0m\u001b[0;34m\u001b[0m\u001b[0m\n\u001b[0;32m----> 3\u001b[0;31m \u001b[0md\u001b[0m\u001b[0;34m[\u001b[0m\u001b[0;34m'k3'\u001b[0m\u001b[0;34m]\u001b[0m\u001b[0;34m\u001b[0m\u001b[0;34m\u001b[0m\u001b[0m\n\u001b[0m",
      "\u001b[0;31mKeyError\u001b[0m: 'k3'"
     ]
    }
   ],
   "source": [
    "## Slicing a key that doesn't exist throws an error\n",
    "d = dict(k1=2,k2=6)\n",
    "d['k3']"
   ]
  },
  {
   "cell_type": "code",
   "execution_count": 26,
   "metadata": {
    "ExecuteTime": {
     "end_time": "2020-01-03T17:24:26.252610Z",
     "start_time": "2020-01-03T17:24:26.249626Z"
    }
   },
   "outputs": [],
   "source": [
    "## Using dict.get(K) for a key that doesn't exist WON\"T throw an error.\n",
    "d = dict(k1=2,k2=6)\n",
    "## But it also doesn't RETURN anything.\n",
    "d.get('k3')"
   ]
  },
  {
   "cell_type": "code",
   "execution_count": 27,
   "metadata": {
    "ExecuteTime": {
     "end_time": "2020-01-03T17:24:41.257419Z",
     "start_time": "2020-01-03T17:24:41.253754Z"
    }
   },
   "outputs": [
    {
     "data": {
      "text/plain": [
       "'this instead'"
      ]
     },
     "execution_count": 27,
     "metadata": {},
     "output_type": "execute_result"
    }
   ],
   "source": [
    "## We can add a default value to return to .get \n",
    "d = dict(k1=2,k2=6)\n",
    "## But it also doesn't RETURN anything.\n",
    "d.get('k3','this instead')"
   ]
  },
  {
   "cell_type": "code",
   "execution_count": 33,
   "metadata": {
    "ExecuteTime": {
     "end_time": "2020-01-03T17:27:34.765250Z",
     "start_time": "2020-01-03T17:27:34.760564Z"
    }
   },
   "outputs": [
    {
     "name": "stdout",
     "output_type": "stream",
     "text": [
      "{'p': 1, 'y': 2}\n",
      "\n",
      "\n",
      "{'p': 1, 'y': 2, 't': 3, 'h': 4}\n",
      "\n",
      "{'p': 1, 'y': 2, 't': 3, 'h': 5, 'o': 6, 'n': 7}\n"
     ]
    }
   ],
   "source": [
    "# MERGING\n",
    "d1=dict(p=1,y=2)\n",
    "d2 = {'t':3,'h':4}\n",
    "d3 = {'h':5,'o':6,'n':7}\n",
    "print(d1,end='\\n\\n')\n",
    "print()\n",
    "d1.update(d2)\n",
    "\n",
    "print(d1,end='\\n\\n')\n",
    "d1.update(d3)\n",
    "print(d1)"
   ]
  },
  {
   "cell_type": "markdown",
   "metadata": {},
   "source": [
    "# UNPACKING\n"
   ]
  },
  {
   "cell_type": "markdown",
   "metadata": {
    "colab_type": "text",
    "id": "3AVNYAByHk3t"
   },
   "source": [
    "\n",
    "- What objects are *packed*?\n",
    "    - Tuples/lists/strings\n",
    "    - any **iterables**\n",
    "\n",
    "- What is **unpacking**?\n",
    "    - Splitting packed values into invidiual variables\n",
    "\n",
    "- Python Notation for Tuples is based on the `,` moreso than the parentheses`(`,`)`\n",
    "- `1,2,3` is functionally equivalent to `(1,2,3)`\n",
    "- We can unpack on the left side of an `=` operator\n",
    "\n",
    "```python\n",
    "\n",
    "a,b,c = [1,2,3]\n",
    "\n",
    "abc_dict ={'a':1,'b':2,'c':3}\n",
    "val_a, val_b, val_c = abc_dict.values()\n",
    "```"
   ]
  },
  {
   "cell_type": "code",
   "execution_count": 1,
   "metadata": {
    "ExecuteTime": {
     "end_time": "2020-03-27T22:24:40.024833Z",
     "start_time": "2020-03-27T22:24:40.013108Z"
    }
   },
   "outputs": [
    {
     "data": {
      "text/plain": [
       "tuple"
      ]
     },
     "execution_count": 1,
     "metadata": {},
     "output_type": "execute_result"
    }
   ],
   "source": [
    "a=1,2,3\n",
    "type(a)"
   ]
  },
  {
   "cell_type": "code",
   "execution_count": 35,
   "metadata": {
    "ExecuteTime": {
     "end_time": "2020-01-03T17:30:09.984265Z",
     "start_time": "2020-01-03T17:30:09.980862Z"
    },
    "colab": {
     "base_uri": "https://localhost:8080/",
     "height": 51
    },
    "colab_type": "code",
    "id": "IkSCDOVJLpyZ",
    "outputId": "0c8dfe39-76ef-4c24-87a1-a3a2778b3376",
    "scrolled": true
   },
   "outputs": [
    {
     "name": "stdout",
     "output_type": "stream",
     "text": [
      "a=1,b=3\n",
      "a=3,b=1\n"
     ]
    }
   ],
   "source": [
    "## So what does that mean?\n",
    "a = 1\n",
    "b = 3\n",
    "print(f\"a={a},b={b}\")\n",
    "\n",
    "## We can swap variable names \n",
    "b,a = a,b\n",
    "\n",
    "print(f\"a={a},b={b}\")"
   ]
  },
  {
   "cell_type": "markdown",
   "metadata": {
    "colab_type": "text",
    "id": "fOU8wtKyNbPk"
   },
   "source": [
    "## EXTENDED UNPACKING (`*` and `**`)"
   ]
  },
  {
   "cell_type": "markdown",
   "metadata": {
    "colab_type": "text",
    "id": "Ya4kdk7KNdbH"
   },
   "source": [
    "- `*` and `**` operators added python 3.5+\n",
    "\n",
    "- `*` can be used on left AND right of assignment (`=`)\n",
    "\n",
    "- `**` can't be used on the left hand sign of an assignement (`=`)"
   ]
  },
  {
   "cell_type": "markdown",
   "metadata": {},
   "source": [
    "#### using *args on the **left** of an `=`"
   ]
  },
  {
   "cell_type": "code",
   "execution_count": 3,
   "metadata": {
    "ExecuteTime": {
     "end_time": "2020-03-27T22:27:13.025695Z",
     "start_time": "2020-03-27T22:27:13.020570Z"
    },
    "colab": {
     "base_uri": "https://localhost:8080/",
     "height": 85
    },
    "colab_type": "code",
    "id": "sy8r5Ix-NkyW",
    "outputId": "62d6c63c-82e3-470d-95bd-73e815fce8b3"
   },
   "outputs": [
    {
     "name": "stdout",
     "output_type": "stream",
     "text": [
      "[0, 1, 2, 3, 4, 5, 6]\n",
      "------------------------------------------------------------\n",
      "0\n",
      "[1, 2, 3, 4, 5, 6]\n"
     ]
    }
   ],
   "source": [
    "## MAKE EXAMPLE LIST\n",
    "l = list(range(7))\n",
    "print(l,end='\\n'+'---'*20+'\\n')\n",
    "\n",
    "\n",
    "## SLICE FIRST AND ALL ELSE LONG WAY\n",
    "a = l[0]\n",
    "b = l[1:]\n",
    "print(a)\n",
    "print(b);"
   ]
  },
  {
   "cell_type": "code",
   "execution_count": 4,
   "metadata": {
    "ExecuteTime": {
     "end_time": "2020-03-27T22:27:13.204868Z",
     "start_time": "2020-03-27T22:27:13.201139Z"
    },
    "code_folding": [],
    "colab": {
     "base_uri": "https://localhost:8080/",
     "height": 51
    },
    "colab_type": "code",
    "id": "fluo5wE2OEgM",
    "outputId": "5e599ef5-17c8-4474-c105-a3f7f867e34e"
   },
   "outputs": [
    {
     "name": "stdout",
     "output_type": "stream",
     "text": [
      "0\n",
      "[1, 2, 3, 4, 5, 6]\n"
     ]
    }
   ],
   "source": [
    "## USE *b to catch all other outputs\n",
    "a,*b = l\n",
    "print(a)\n",
    "print(b)"
   ]
  },
  {
   "cell_type": "code",
   "execution_count": 5,
   "metadata": {
    "ExecuteTime": {
     "end_time": "2020-03-27T22:27:28.909275Z",
     "start_time": "2020-03-27T22:27:28.905456Z"
    }
   },
   "outputs": [
    {
     "name": "stdout",
     "output_type": "stream",
     "text": [
      "6\n",
      "[0, 1, 2, 3, 4, 5]\n"
     ]
    }
   ],
   "source": [
    "## USE *b to catch all other outputs\n",
    "*b,a = l\n",
    "print(a)\n",
    "print(b)"
   ]
  },
  {
   "cell_type": "code",
   "execution_count": 6,
   "metadata": {
    "ExecuteTime": {
     "end_time": "2020-03-27T22:27:56.028461Z",
     "start_time": "2020-03-27T22:27:56.023399Z"
    },
    "colab": {
     "base_uri": "https://localhost:8080/",
     "height": 119
    },
    "colab_type": "code",
    "id": "aqD0qc3KSl4S",
    "outputId": "a033a750-a474-498c-e780-48d6f8d87279"
   },
   "outputs": [
    {
     "name": "stdout",
     "output_type": "stream",
     "text": [
      "[0, 1, 2, 3, 4, 5, 6]\n",
      "------------------------------------------------------------\n",
      "a:0\n",
      "b:[1, 2, 3, 4]\n",
      "c:5\n",
      "d:6\n"
     ]
    }
   ],
   "source": [
    "## Using *b to catch the outputs in the middle\n",
    "l = list(range(7))\n",
    "\n",
    "print(l,end='\\n'+'---'*20+'\\n')\n",
    "\n",
    "a,*b,c,d= l\n",
    "print(f\"a:{a}\")\n",
    "print(f\"b:{b}\")\n",
    "print(f\"c:{c}\")\n",
    "print(f\"d:{d}\")"
   ]
  },
  {
   "cell_type": "markdown",
   "metadata": {
    "colab_type": "text",
    "id": "mbCj4CQ5TGc6"
   },
   "source": [
    "#### Using `*` on right of `=`\n"
   ]
  },
  {
   "cell_type": "code",
   "execution_count": 8,
   "metadata": {
    "ExecuteTime": {
     "end_time": "2020-03-27T22:28:44.395277Z",
     "start_time": "2020-03-27T22:28:44.391043Z"
    }
   },
   "outputs": [
    {
     "data": {
      "text/plain": [
       "[1, 2, 3, 6, 6, 7, 8, 9]"
      ]
     },
     "execution_count": 8,
     "metadata": {},
     "output_type": "execute_result"
    }
   ],
   "source": [
    "list1=[1,2,3,6]\n",
    "list2=[6,7,8,9]\n",
    "list1.extend(list2)\n",
    "list1"
   ]
  },
  {
   "cell_type": "code",
   "execution_count": 9,
   "metadata": {
    "ExecuteTime": {
     "end_time": "2020-03-27T22:29:04.363136Z",
     "start_time": "2020-03-27T22:29:04.358953Z"
    },
    "colab": {
     "base_uri": "https://localhost:8080/",
     "height": 34
    },
    "colab_type": "code",
    "id": "JwtOv10zTElc",
    "outputId": "3dfa73c9-7707-43e5-c114-d9e1488cf2eb"
   },
   "outputs": [
    {
     "data": {
      "text/plain": [
       "[1, 2, 3, 6, 6, 7, 8, 9]"
      ]
     },
     "execution_count": 9,
     "metadata": {},
     "output_type": "execute_result"
    }
   ],
   "source": [
    "## Unpacking into new list\n",
    "list1=[1,2,3,6]\n",
    "list2=[6,7,8,9]\n",
    "l = [*list1,*list2]\n",
    "l"
   ]
  },
  {
   "cell_type": "markdown",
   "metadata": {
    "colab_type": "text",
    "id": "rQhRvIKWKeqp"
   },
   "source": [
    "## Unpacking Dictionaries/keys"
   ]
  },
  {
   "cell_type": "code",
   "execution_count": 10,
   "metadata": {
    "ExecuteTime": {
     "end_time": "2020-03-27T22:30:00.573372Z",
     "start_time": "2020-03-27T22:30:00.566589Z"
    },
    "colab": {
     "base_uri": "https://localhost:8080/",
     "height": 85
    },
    "colab_type": "code",
    "id": "nHknLdcmTGI1",
    "outputId": "e940d361-7438-48ce-cd04-1110a49f065c"
   },
   "outputs": [
    {
     "name": "stdout",
     "output_type": "stream",
     "text": [
      "h 5\n",
      "o 6\n",
      "n 7\n",
      "---------\n",
      "h\n",
      "o\n",
      "n\n",
      "---------\n",
      "5\n",
      "6\n",
      "7\n"
     ]
    }
   ],
   "source": [
    "# Constructing dictionaries\n",
    "d1=dict(p=1,y=2)\n",
    "d2 = {'t':3,'h':4}\n",
    "d3 = {'h':5,'o':6,'n':7}\n",
    "\n",
    "\n",
    "## . Can iterate through the keys and values\n",
    "for k,v in d3.items():\n",
    "    print(k,v)\n",
    "print('---'*3)\n",
    "\n",
    "## iterate through just the keys\n",
    "for k in d3.keys():\n",
    "    print(k)\n",
    "    \n",
    "    \n",
    "## Iterate through just the values\n",
    "print('---'*3)\n",
    "for v in d3.values():\n",
    "    print(v)\n"
   ]
  },
  {
   "cell_type": "code",
   "execution_count": 42,
   "metadata": {
    "ExecuteTime": {
     "end_time": "2020-01-03T17:33:20.622919Z",
     "start_time": "2020-01-03T17:33:20.619247Z"
    }
   },
   "outputs": [
    {
     "name": "stdout",
     "output_type": "stream",
     "text": [
      "h\n",
      "o\n",
      "n\n"
     ]
    }
   ],
   "source": [
    "## If we don't specify, will iterate through keys\n",
    "for val in d3:\n",
    "    print(val)"
   ]
  },
  {
   "cell_type": "code",
   "execution_count": null,
   "metadata": {},
   "outputs": [],
   "source": []
  },
  {
   "cell_type": "code",
   "execution_count": 43,
   "metadata": {
    "ExecuteTime": {
     "end_time": "2020-01-03T17:33:25.584875Z",
     "start_time": "2020-01-03T17:33:25.581552Z"
    }
   },
   "outputs": [
    {
     "data": {
      "text/plain": [
       "['h', 'o', 'n']"
      ]
     },
     "execution_count": 43,
     "metadata": {},
     "output_type": "execute_result"
    }
   ],
   "source": [
    "## Can unpack dict keys using [*d3]\n",
    "unpacked = [*d3]\n",
    "unpacked"
   ]
  },
  {
   "cell_type": "code",
   "execution_count": 11,
   "metadata": {
    "ExecuteTime": {
     "end_time": "2020-03-27T22:32:36.370543Z",
     "start_time": "2020-03-27T22:32:36.367011Z"
    }
   },
   "outputs": [
    {
     "data": {
      "text/plain": [
       "{'p': 1, 'y': 2, 't': 3, 'h': 5, 'o': 6, 'n': 7}"
      ]
     },
     "execution_count": 11,
     "metadata": {},
     "output_type": "execute_result"
    }
   ],
   "source": [
    "## Can unpack full k:v pairs using **\n",
    "comb_dict = {**d1,**d2,**d3}\n",
    "comb_dict"
   ]
  },
  {
   "cell_type": "markdown",
   "metadata": {},
   "source": [
    "### Using **kwargs inside functions"
   ]
  },
  {
   "cell_type": "code",
   "execution_count": 46,
   "metadata": {
    "ExecuteTime": {
     "end_time": "2020-01-03T17:34:03.287949Z",
     "start_time": "2020-01-03T17:34:01.869679Z"
    }
   },
   "outputs": [
    {
     "name": "stdout",
     "output_type": "stream",
     "text": [
      "fsds_1007219  v0.6.2 loaded.  Read the docs: https://fsds.readthedocs.io/en/latest/ \n"
     ]
    },
    {
     "data": {
      "text/html": [
       "<style  type=\"text/css\" >\n",
       "</style><table id=\"T_3c07f3e6_2e4f_11ea_9f4a_acde48001122\" ><caption>Loaded Packages and Handles</caption><thead>    <tr>        <th class=\"col_heading level0 col0\" >Handle</th>        <th class=\"col_heading level0 col1\" >Package</th>        <th class=\"col_heading level0 col2\" >Description</th>    </tr></thead><tbody>\n",
       "                <tr>\n",
       "                                <td id=\"T_3c07f3e6_2e4f_11ea_9f4a_acde48001122row0_col0\" class=\"data row0 col0\" >dp</td>\n",
       "                        <td id=\"T_3c07f3e6_2e4f_11ea_9f4a_acde48001122row0_col1\" class=\"data row0 col1\" >IPython.display</td>\n",
       "                        <td id=\"T_3c07f3e6_2e4f_11ea_9f4a_acde48001122row0_col2\" class=\"data row0 col2\" >Display modules with helpful display and clearing commands.</td>\n",
       "            </tr>\n",
       "            <tr>\n",
       "                                <td id=\"T_3c07f3e6_2e4f_11ea_9f4a_acde48001122row1_col0\" class=\"data row1 col0\" >fs</td>\n",
       "                        <td id=\"T_3c07f3e6_2e4f_11ea_9f4a_acde48001122row1_col1\" class=\"data row1 col1\" >fsds_100719</td>\n",
       "                        <td id=\"T_3c07f3e6_2e4f_11ea_9f4a_acde48001122row1_col2\" class=\"data row1 col2\" >Custom data science bootcamp student package</td>\n",
       "            </tr>\n",
       "            <tr>\n",
       "                                <td id=\"T_3c07f3e6_2e4f_11ea_9f4a_acde48001122row2_col0\" class=\"data row2 col0\" >mpl</td>\n",
       "                        <td id=\"T_3c07f3e6_2e4f_11ea_9f4a_acde48001122row2_col1\" class=\"data row2 col1\" >matplotlib</td>\n",
       "                        <td id=\"T_3c07f3e6_2e4f_11ea_9f4a_acde48001122row2_col2\" class=\"data row2 col2\" >Matplotlib's base OOP module with formatting artists</td>\n",
       "            </tr>\n",
       "            <tr>\n",
       "                                <td id=\"T_3c07f3e6_2e4f_11ea_9f4a_acde48001122row3_col0\" class=\"data row3 col0\" >plt</td>\n",
       "                        <td id=\"T_3c07f3e6_2e4f_11ea_9f4a_acde48001122row3_col1\" class=\"data row3 col1\" >matplotlib.pyplot</td>\n",
       "                        <td id=\"T_3c07f3e6_2e4f_11ea_9f4a_acde48001122row3_col2\" class=\"data row3 col2\" >Matplotlib's matlab-like plotting module</td>\n",
       "            </tr>\n",
       "            <tr>\n",
       "                                <td id=\"T_3c07f3e6_2e4f_11ea_9f4a_acde48001122row4_col0\" class=\"data row4 col0\" >np</td>\n",
       "                        <td id=\"T_3c07f3e6_2e4f_11ea_9f4a_acde48001122row4_col1\" class=\"data row4 col1\" >numpy</td>\n",
       "                        <td id=\"T_3c07f3e6_2e4f_11ea_9f4a_acde48001122row4_col2\" class=\"data row4 col2\" >scientific computing with Python</td>\n",
       "            </tr>\n",
       "            <tr>\n",
       "                                <td id=\"T_3c07f3e6_2e4f_11ea_9f4a_acde48001122row5_col0\" class=\"data row5 col0\" >pd</td>\n",
       "                        <td id=\"T_3c07f3e6_2e4f_11ea_9f4a_acde48001122row5_col1\" class=\"data row5 col1\" >pandas</td>\n",
       "                        <td id=\"T_3c07f3e6_2e4f_11ea_9f4a_acde48001122row5_col2\" class=\"data row5 col2\" >High performance data structures and tools</td>\n",
       "            </tr>\n",
       "            <tr>\n",
       "                                <td id=\"T_3c07f3e6_2e4f_11ea_9f4a_acde48001122row6_col0\" class=\"data row6 col0\" >sns</td>\n",
       "                        <td id=\"T_3c07f3e6_2e4f_11ea_9f4a_acde48001122row6_col1\" class=\"data row6 col1\" >seaborn</td>\n",
       "                        <td id=\"T_3c07f3e6_2e4f_11ea_9f4a_acde48001122row6_col2\" class=\"data row6 col2\" >High-level data visualization library based on matplotlib</td>\n",
       "            </tr>\n",
       "    </tbody></table>"
      ],
      "text/plain": [
       "<pandas.io.formats.style.Styler at 0x1a1cfd1eb8>"
      ]
     },
     "metadata": {},
     "output_type": "display_data"
    }
   ],
   "source": [
    "from fsds_100719.imports import *"
   ]
  },
  {
   "cell_type": "code",
   "execution_count": 47,
   "metadata": {
    "ExecuteTime": {
     "end_time": "2020-01-03T17:34:04.673165Z",
     "start_time": "2020-01-03T17:34:04.377807Z"
    }
   },
   "outputs": [
    {
     "name": "stdout",
     "output_type": "stream",
     "text": [
      "[i] Source url with details: https://www.kaggle.com/uciml/autompg-dataset\n"
     ]
    },
    {
     "data": {
      "text/html": [
       "<div>\n",
       "<style scoped>\n",
       "    .dataframe tbody tr th:only-of-type {\n",
       "        vertical-align: middle;\n",
       "    }\n",
       "\n",
       "    .dataframe tbody tr th {\n",
       "        vertical-align: top;\n",
       "    }\n",
       "\n",
       "    .dataframe thead th {\n",
       "        text-align: right;\n",
       "    }\n",
       "</style>\n",
       "<table border=\"1\" class=\"dataframe\">\n",
       "  <thead>\n",
       "    <tr style=\"text-align: right;\">\n",
       "      <th></th>\n",
       "      <th>mpg</th>\n",
       "      <th>cylinders</th>\n",
       "      <th>displacement</th>\n",
       "      <th>horsepower</th>\n",
       "      <th>weight</th>\n",
       "      <th>acceleration</th>\n",
       "      <th>model year</th>\n",
       "      <th>origin</th>\n",
       "      <th>car name</th>\n",
       "    </tr>\n",
       "  </thead>\n",
       "  <tbody>\n",
       "    <tr>\n",
       "      <td>0</td>\n",
       "      <td>18.0</td>\n",
       "      <td>8</td>\n",
       "      <td>307.0</td>\n",
       "      <td>130</td>\n",
       "      <td>3504</td>\n",
       "      <td>12.0</td>\n",
       "      <td>70</td>\n",
       "      <td>1</td>\n",
       "      <td>chevrolet chevelle malibu</td>\n",
       "    </tr>\n",
       "    <tr>\n",
       "      <td>1</td>\n",
       "      <td>15.0</td>\n",
       "      <td>8</td>\n",
       "      <td>350.0</td>\n",
       "      <td>165</td>\n",
       "      <td>3693</td>\n",
       "      <td>11.5</td>\n",
       "      <td>70</td>\n",
       "      <td>1</td>\n",
       "      <td>buick skylark 320</td>\n",
       "    </tr>\n",
       "    <tr>\n",
       "      <td>2</td>\n",
       "      <td>18.0</td>\n",
       "      <td>8</td>\n",
       "      <td>318.0</td>\n",
       "      <td>150</td>\n",
       "      <td>3436</td>\n",
       "      <td>11.0</td>\n",
       "      <td>70</td>\n",
       "      <td>1</td>\n",
       "      <td>plymouth satellite</td>\n",
       "    </tr>\n",
       "    <tr>\n",
       "      <td>3</td>\n",
       "      <td>16.0</td>\n",
       "      <td>8</td>\n",
       "      <td>304.0</td>\n",
       "      <td>150</td>\n",
       "      <td>3433</td>\n",
       "      <td>12.0</td>\n",
       "      <td>70</td>\n",
       "      <td>1</td>\n",
       "      <td>amc rebel sst</td>\n",
       "    </tr>\n",
       "    <tr>\n",
       "      <td>4</td>\n",
       "      <td>17.0</td>\n",
       "      <td>8</td>\n",
       "      <td>302.0</td>\n",
       "      <td>140</td>\n",
       "      <td>3449</td>\n",
       "      <td>10.5</td>\n",
       "      <td>70</td>\n",
       "      <td>1</td>\n",
       "      <td>ford torino</td>\n",
       "    </tr>\n",
       "  </tbody>\n",
       "</table>\n",
       "</div>"
      ],
      "text/plain": [
       "    mpg  cylinders  displacement  horsepower  weight  acceleration  \\\n",
       "0  18.0          8         307.0         130    3504          12.0   \n",
       "1  15.0          8         350.0         165    3693          11.5   \n",
       "2  18.0          8         318.0         150    3436          11.0   \n",
       "3  16.0          8         304.0         150    3433          12.0   \n",
       "4  17.0          8         302.0         140    3449          10.5   \n",
       "\n",
       "   model year  origin                   car name  \n",
       "0          70       1  chevrolet chevelle malibu  \n",
       "1          70       1          buick skylark 320  \n",
       "2          70       1         plymouth satellite  \n",
       "3          70       1              amc rebel sst  \n",
       "4          70       1                ford torino  "
      ]
     },
     "metadata": {},
     "output_type": "display_data"
    },
    {
     "data": {
      "text/html": [
       "<div>\n",
       "<style scoped>\n",
       "    .dataframe tbody tr th:only-of-type {\n",
       "        vertical-align: middle;\n",
       "    }\n",
       "\n",
       "    .dataframe tbody tr th {\n",
       "        vertical-align: top;\n",
       "    }\n",
       "\n",
       "    .dataframe thead th {\n",
       "        text-align: right;\n",
       "    }\n",
       "</style>\n",
       "<table border=\"1\" class=\"dataframe\">\n",
       "  <thead>\n",
       "    <tr style=\"text-align: right;\">\n",
       "      <th></th>\n",
       "      <th>mpg</th>\n",
       "      <th>cylinders</th>\n",
       "      <th>displacement</th>\n",
       "      <th>horsepower</th>\n",
       "      <th>weight</th>\n",
       "      <th>acceleration</th>\n",
       "      <th>model year</th>\n",
       "      <th>origin</th>\n",
       "      <th>car name</th>\n",
       "    </tr>\n",
       "  </thead>\n",
       "  <tbody>\n",
       "    <tr>\n",
       "      <td>0</td>\n",
       "      <td>18.0</td>\n",
       "      <td>8</td>\n",
       "      <td>307.0</td>\n",
       "      <td>130</td>\n",
       "      <td>3504</td>\n",
       "      <td>12.0</td>\n",
       "      <td>70</td>\n",
       "      <td>1</td>\n",
       "      <td>chevrolet chevelle malibu</td>\n",
       "    </tr>\n",
       "    <tr>\n",
       "      <td>1</td>\n",
       "      <td>15.0</td>\n",
       "      <td>8</td>\n",
       "      <td>350.0</td>\n",
       "      <td>165</td>\n",
       "      <td>3693</td>\n",
       "      <td>11.5</td>\n",
       "      <td>70</td>\n",
       "      <td>1</td>\n",
       "      <td>buick skylark 320</td>\n",
       "    </tr>\n",
       "    <tr>\n",
       "      <td>2</td>\n",
       "      <td>18.0</td>\n",
       "      <td>8</td>\n",
       "      <td>318.0</td>\n",
       "      <td>150</td>\n",
       "      <td>3436</td>\n",
       "      <td>11.0</td>\n",
       "      <td>70</td>\n",
       "      <td>1</td>\n",
       "      <td>plymouth satellite</td>\n",
       "    </tr>\n",
       "    <tr>\n",
       "      <td>3</td>\n",
       "      <td>16.0</td>\n",
       "      <td>8</td>\n",
       "      <td>304.0</td>\n",
       "      <td>150</td>\n",
       "      <td>3433</td>\n",
       "      <td>12.0</td>\n",
       "      <td>70</td>\n",
       "      <td>1</td>\n",
       "      <td>amc rebel sst</td>\n",
       "    </tr>\n",
       "    <tr>\n",
       "      <td>4</td>\n",
       "      <td>17.0</td>\n",
       "      <td>8</td>\n",
       "      <td>302.0</td>\n",
       "      <td>140</td>\n",
       "      <td>3449</td>\n",
       "      <td>10.5</td>\n",
       "      <td>70</td>\n",
       "      <td>1</td>\n",
       "      <td>ford torino</td>\n",
       "    </tr>\n",
       "    <tr>\n",
       "      <td>...</td>\n",
       "      <td>...</td>\n",
       "      <td>...</td>\n",
       "      <td>...</td>\n",
       "      <td>...</td>\n",
       "      <td>...</td>\n",
       "      <td>...</td>\n",
       "      <td>...</td>\n",
       "      <td>...</td>\n",
       "      <td>...</td>\n",
       "    </tr>\n",
       "    <tr>\n",
       "      <td>387</td>\n",
       "      <td>27.0</td>\n",
       "      <td>4</td>\n",
       "      <td>140.0</td>\n",
       "      <td>86</td>\n",
       "      <td>2790</td>\n",
       "      <td>15.6</td>\n",
       "      <td>82</td>\n",
       "      <td>1</td>\n",
       "      <td>ford mustang gl</td>\n",
       "    </tr>\n",
       "    <tr>\n",
       "      <td>388</td>\n",
       "      <td>44.0</td>\n",
       "      <td>4</td>\n",
       "      <td>97.0</td>\n",
       "      <td>52</td>\n",
       "      <td>2130</td>\n",
       "      <td>24.6</td>\n",
       "      <td>82</td>\n",
       "      <td>2</td>\n",
       "      <td>vw pickup</td>\n",
       "    </tr>\n",
       "    <tr>\n",
       "      <td>389</td>\n",
       "      <td>32.0</td>\n",
       "      <td>4</td>\n",
       "      <td>135.0</td>\n",
       "      <td>84</td>\n",
       "      <td>2295</td>\n",
       "      <td>11.6</td>\n",
       "      <td>82</td>\n",
       "      <td>1</td>\n",
       "      <td>dodge rampage</td>\n",
       "    </tr>\n",
       "    <tr>\n",
       "      <td>390</td>\n",
       "      <td>28.0</td>\n",
       "      <td>4</td>\n",
       "      <td>120.0</td>\n",
       "      <td>79</td>\n",
       "      <td>2625</td>\n",
       "      <td>18.6</td>\n",
       "      <td>82</td>\n",
       "      <td>1</td>\n",
       "      <td>ford ranger</td>\n",
       "    </tr>\n",
       "    <tr>\n",
       "      <td>391</td>\n",
       "      <td>31.0</td>\n",
       "      <td>4</td>\n",
       "      <td>119.0</td>\n",
       "      <td>82</td>\n",
       "      <td>2720</td>\n",
       "      <td>19.4</td>\n",
       "      <td>82</td>\n",
       "      <td>1</td>\n",
       "      <td>chevy s-10</td>\n",
       "    </tr>\n",
       "  </tbody>\n",
       "</table>\n",
       "<p>392 rows × 9 columns</p>\n",
       "</div>"
      ],
      "text/plain": [
       "      mpg  cylinders  displacement  horsepower  weight  acceleration  \\\n",
       "0    18.0          8         307.0         130    3504          12.0   \n",
       "1    15.0          8         350.0         165    3693          11.5   \n",
       "2    18.0          8         318.0         150    3436          11.0   \n",
       "3    16.0          8         304.0         150    3433          12.0   \n",
       "4    17.0          8         302.0         140    3449          10.5   \n",
       "..    ...        ...           ...         ...     ...           ...   \n",
       "387  27.0          4         140.0          86    2790          15.6   \n",
       "388  44.0          4          97.0          52    2130          24.6   \n",
       "389  32.0          4         135.0          84    2295          11.6   \n",
       "390  28.0          4         120.0          79    2625          18.6   \n",
       "391  31.0          4         119.0          82    2720          19.4   \n",
       "\n",
       "     model year  origin                   car name  \n",
       "0            70       1  chevrolet chevelle malibu  \n",
       "1            70       1          buick skylark 320  \n",
       "2            70       1         plymouth satellite  \n",
       "3            70       1              amc rebel sst  \n",
       "4            70       1                ford torino  \n",
       "..          ...     ...                        ...  \n",
       "387          82       1            ford mustang gl  \n",
       "388          82       2                  vw pickup  \n",
       "389          82       1              dodge rampage  \n",
       "390          82       1                ford ranger  \n",
       "391          82       1                 chevy s-10  \n",
       "\n",
       "[392 rows x 9 columns]"
      ]
     },
     "execution_count": 47,
     "metadata": {},
     "output_type": "execute_result"
    }
   ],
   "source": [
    "df = fs.datasets.load_autompg()\n",
    "df"
   ]
  },
  {
   "cell_type": "code",
   "execution_count": 15,
   "metadata": {
    "ExecuteTime": {
     "end_time": "2020-03-27T22:38:58.024892Z",
     "start_time": "2020-03-27T22:38:55.007400Z"
    }
   },
   "outputs": [
    {
     "name": "stdout",
     "output_type": "stream",
     "text": [
      "fsds_1007219  v0.7.17 loaded.  Read the docs: https://fsds.readthedocs.io/en/latest/ \n"
     ]
    },
    {
     "data": {
      "text/html": [
       "<style  type=\"text/css\" >\n",
       "</style><table id=\"T_bebcb346_707b_11ea_85d1_4865ee12e626\" ><caption>Loaded Packages and Handles</caption><thead>    <tr>        <th class=\"col_heading level0 col0\" >Handle</th>        <th class=\"col_heading level0 col1\" >Package</th>        <th class=\"col_heading level0 col2\" >Description</th>    </tr></thead><tbody>\n",
       "                <tr>\n",
       "                                <td id=\"T_bebcb346_707b_11ea_85d1_4865ee12e626row0_col0\" class=\"data row0 col0\" >dp</td>\n",
       "                        <td id=\"T_bebcb346_707b_11ea_85d1_4865ee12e626row0_col1\" class=\"data row0 col1\" >IPython.display</td>\n",
       "                        <td id=\"T_bebcb346_707b_11ea_85d1_4865ee12e626row0_col2\" class=\"data row0 col2\" >Display modules with helpful display and clearing commands.</td>\n",
       "            </tr>\n",
       "            <tr>\n",
       "                                <td id=\"T_bebcb346_707b_11ea_85d1_4865ee12e626row1_col0\" class=\"data row1 col0\" >fs</td>\n",
       "                        <td id=\"T_bebcb346_707b_11ea_85d1_4865ee12e626row1_col1\" class=\"data row1 col1\" >fsds_100719</td>\n",
       "                        <td id=\"T_bebcb346_707b_11ea_85d1_4865ee12e626row1_col2\" class=\"data row1 col2\" >Custom data science bootcamp student package</td>\n",
       "            </tr>\n",
       "            <tr>\n",
       "                                <td id=\"T_bebcb346_707b_11ea_85d1_4865ee12e626row2_col0\" class=\"data row2 col0\" >mpl</td>\n",
       "                        <td id=\"T_bebcb346_707b_11ea_85d1_4865ee12e626row2_col1\" class=\"data row2 col1\" >matplotlib</td>\n",
       "                        <td id=\"T_bebcb346_707b_11ea_85d1_4865ee12e626row2_col2\" class=\"data row2 col2\" >Matplotlib's base OOP module with formatting artists</td>\n",
       "            </tr>\n",
       "            <tr>\n",
       "                                <td id=\"T_bebcb346_707b_11ea_85d1_4865ee12e626row3_col0\" class=\"data row3 col0\" >plt</td>\n",
       "                        <td id=\"T_bebcb346_707b_11ea_85d1_4865ee12e626row3_col1\" class=\"data row3 col1\" >matplotlib.pyplot</td>\n",
       "                        <td id=\"T_bebcb346_707b_11ea_85d1_4865ee12e626row3_col2\" class=\"data row3 col2\" >Matplotlib's matlab-like plotting module</td>\n",
       "            </tr>\n",
       "            <tr>\n",
       "                                <td id=\"T_bebcb346_707b_11ea_85d1_4865ee12e626row4_col0\" class=\"data row4 col0\" >np</td>\n",
       "                        <td id=\"T_bebcb346_707b_11ea_85d1_4865ee12e626row4_col1\" class=\"data row4 col1\" >numpy</td>\n",
       "                        <td id=\"T_bebcb346_707b_11ea_85d1_4865ee12e626row4_col2\" class=\"data row4 col2\" >scientific computing with Python</td>\n",
       "            </tr>\n",
       "            <tr>\n",
       "                                <td id=\"T_bebcb346_707b_11ea_85d1_4865ee12e626row5_col0\" class=\"data row5 col0\" >pd</td>\n",
       "                        <td id=\"T_bebcb346_707b_11ea_85d1_4865ee12e626row5_col1\" class=\"data row5 col1\" >pandas</td>\n",
       "                        <td id=\"T_bebcb346_707b_11ea_85d1_4865ee12e626row5_col2\" class=\"data row5 col2\" >High performance data structures and tools</td>\n",
       "            </tr>\n",
       "            <tr>\n",
       "                                <td id=\"T_bebcb346_707b_11ea_85d1_4865ee12e626row6_col0\" class=\"data row6 col0\" >sns</td>\n",
       "                        <td id=\"T_bebcb346_707b_11ea_85d1_4865ee12e626row6_col1\" class=\"data row6 col1\" >seaborn</td>\n",
       "                        <td id=\"T_bebcb346_707b_11ea_85d1_4865ee12e626row6_col2\" class=\"data row6 col2\" >High-level data visualization library based on matplotlib</td>\n",
       "            </tr>\n",
       "    </tbody></table>"
      ],
      "text/plain": [
       "<pandas.io.formats.style.Styler at 0x1c1a6237f0>"
      ]
     },
     "metadata": {},
     "output_type": "display_data"
    },
    {
     "data": {
      "text/html": [
       "        <script type=\"text/javascript\">\n",
       "        window.PlotlyConfig = {MathJaxConfig: 'local'};\n",
       "        if (window.MathJax) {MathJax.Hub.Config({SVG: {font: \"STIX-Web\"}});}\n",
       "        if (typeof require !== 'undefined') {\n",
       "        require.undef(\"plotly\");\n",
       "        requirejs.config({\n",
       "            paths: {\n",
       "                'plotly': ['https://cdn.plot.ly/plotly-latest.min']\n",
       "            }\n",
       "        });\n",
       "        require(['plotly'], function(Plotly) {\n",
       "            window._Plotly = Plotly;\n",
       "        });\n",
       "        }\n",
       "        </script>\n",
       "        "
      ]
     },
     "metadata": {},
     "output_type": "display_data"
    },
    {
     "name": "stdout",
     "output_type": "stream",
     "text": [
      "[i] Pandas .iplot() method activated.\n"
     ]
    }
   ],
   "source": [
    "from fsds_100719.imports import *\n"
   ]
  },
  {
   "cell_type": "code",
   "execution_count": 42,
   "metadata": {
    "ExecuteTime": {
     "end_time": "2020-03-27T22:43:34.208679Z",
     "start_time": "2020-03-27T22:43:34.189432Z"
    }
   },
   "outputs": [],
   "source": [
    "from fsds_100719.imports import *\n",
    "# and matplotlib.ticker \n",
    "import matplotlib.ticker as mtick\n",
    "# import matplotlib.pyplot as plt\n",
    "\n",
    "import seaborn as sns\n",
    "plt.style.use('dark_background')\n",
    "\n",
    "# Plots histogram and scatter (vs price) side by side \n",
    "def plot_hist_scat_sns(df, target='price',title_kws={}):\n",
    "\n",
    "    \n",
    "    ## ----------- DEFINE AESTHETIC CUSTOMIZATIONS ----------- ##    # Axis Label fonts    \n",
    "    fontTitle = {'fontsize': 16,\n",
    "               'fontweight': 'bold',\n",
    "                'fontfamily':'serif'}\n",
    "    fontTitle.update(title_kws)\n",
    "    fontTitle = {**fontTitle,**title_kws}\n",
    "\n",
    "    fontAxis = {'fontsize': 14,\n",
    "               'fontweight': 'bold',\n",
    "                'fontfamily':'serif'}\n",
    "\n",
    "    fontTicks = {'fontsize': 12,\n",
    "               'fontweight':'bold', \n",
    "                'fontfamily':'serif'}\n",
    "\n",
    "    # Formatting dollar sign labels     \n",
    "    fmtPrice = '${x:,.0f}'\n",
    "    tickPrice = mtick.StrMethodFormatter(fmtPrice)\n",
    "    \n",
    "\n",
    "    ## ----------- PLOTTING ----------- ##     \n",
    "    ## Loop through dataframe to plot     \n",
    "    for column in df.describe():\n",
    "\n",
    "        # Create figure with subplots for current column        \n",
    "        # Note: in order to use identical syntax for large # of subplots (ax[i,j]),         declare an extra row of subplots to be removed later         \n",
    "        fig, ax = plt.subplots(figsize=(12,10), ncols=2, nrows=2)\n",
    "\n",
    "        ## ----- SUBPLOT 1 -----##         \n",
    "        i,j = 0,0\n",
    "        ax[i,j].set_title(column.capitalize(),fontdict=fontTitle)\n",
    "\n",
    "        # Define graphing keyword dictionaries for distplot (Subplot 1)         \n",
    "        hist_kws = {\"linewidth\": 1, \"alpha\": 1, \"color\": 'blue','edgecolor':'w'}\n",
    "        kde_kws = {\"color\": \"white\", \"linewidth\": 1, \"label\": \"KDE\"}\n",
    "\n",
    "        # Plot distplot on ax[i,j] using hist_kws and kde_kws         \n",
    "        sns.distplot(df[column], norm_hist=True, kde=True,\n",
    "                     hist_kws = hist_kws, kde_kws = kde_kws,\n",
    "                     label=column+' histogram', ax=ax[i,j])\n",
    "\n",
    "\n",
    "        # Set x axis label         \n",
    "        ax[i,j].set_xlabel(column.title(),fontdict=fontAxis)\n",
    "\n",
    "        # Get x-ticks, rotate labels, and return         \n",
    "        xticklab1 = ax[i,j].get_xticklabels(which = 'both')\n",
    "        ax[i,j].set_xticklabels(labels=xticklab1, fontdict=fontTicks, rotation=45)\n",
    "        ax[i,j].xaxis.set_major_formatter(mtick.ScalarFormatter())\n",
    "\n",
    "\n",
    "        # Set y-label         \n",
    "        ax[i,j].set_ylabel('Density',fontdict=fontAxis)\n",
    "        yticklab1=ax[i,j].get_yticklabels(which='both')\n",
    "        ax[i,j].set_yticklabels(labels=yticklab1,fontdict=fontTicks)\n",
    "        ax[i,j].yaxis.set_major_formatter(mtick.ScalarFormatter())\n",
    "\n",
    "\n",
    "        # Set y-grid         \n",
    "        ax[i, j].set_axisbelow(True)\n",
    "        ax[i, j].grid(axis='y',ls='--')\n",
    "\n",
    "\n",
    "        ## ----- SUBPLOT 2----- ##         i,j = 0,1\n",
    "        ax[i,j].set_title(column.capitalize(),fontdict=fontTitle)\n",
    "\n",
    "        # Define the ketword dictionaries for scatter plot and regression line (subplot 2)         line_kws={\"color\":\"white\",\"alpha\":0.5,\"lw\":4,\"ls\":\":\"}\n",
    "        scatter_kws={'s': 2, 'alpha': 0.5,'marker':'.','color':'blue'}\n",
    "\n",
    "        # Plot regplot on ax[i,j] using line_kws and scatter_kws        \n",
    "        sns.regplot(df[column], df[target], \n",
    "#                     line_kws = line_kws,\n",
    "                    scatter_kws = scatter_kws,\n",
    "                    ax=ax[i,j])\n",
    "\n",
    "        # Set x-axis label        \n",
    "        ax[i,j].set_xlabel(column.title(),fontdict=fontAxis)\n",
    "\n",
    "         # Get x ticks, rotate labels, and return         \n",
    "        xticklab2=ax[i,j].get_xticklabels(which='both')\n",
    "        ax[i,j].set_xticklabels(labels=xticklab2,fontdict=fontTicks, rotation=45)\n",
    "        ax[i,j].xaxis.set_major_formatter(mtick.ScalarFormatter())\n",
    "\n",
    "        # Set y-axis label         \n",
    "        ax[i,j].set_ylabel('Price',fontdict=fontAxis)\n",
    "\n",
    "        # Get, set, and format y-axis Price labels         \n",
    "        yticklab = ax[i,j].get_yticklabels()\n",
    "        ax[i,j].set_yticklabels(yticklab,fontdict=fontTicks)\n",
    "        ax[i,j].get_yaxis().set_major_formatter(tickPrice) \n",
    "\n",
    "        # Set y-grid         \n",
    "        ax[i, j].set_axisbelow(True)\n",
    "        ax[i, j].grid(axis='y',ls='--')       \n",
    "\n",
    "        ## ---------- Final layout adjustments ----------- ##         # Deleted unused subplots         fig.delaxes(ax[1,1])\n",
    "        fig.delaxes(ax[1,0])\n",
    "\n",
    "        # Optimizing spatial layout         \n",
    "    fig.tight_layout()\n",
    "    return "
   ]
  },
  {
   "cell_type": "code",
   "execution_count": 40,
   "metadata": {
    "ExecuteTime": {
     "end_time": "2020-03-27T22:43:06.359737Z",
     "start_time": "2020-03-27T22:43:06.024914Z"
    }
   },
   "outputs": [
    {
     "data": {
      "text/html": [
       "<div>\n",
       "<style scoped>\n",
       "    .dataframe tbody tr th:only-of-type {\n",
       "        vertical-align: middle;\n",
       "    }\n",
       "\n",
       "    .dataframe tbody tr th {\n",
       "        vertical-align: top;\n",
       "    }\n",
       "\n",
       "    .dataframe thead th {\n",
       "        text-align: right;\n",
       "    }\n",
       "</style>\n",
       "<table border=\"1\" class=\"dataframe\">\n",
       "  <thead>\n",
       "    <tr style=\"text-align: right;\">\n",
       "      <th></th>\n",
       "      <th>id</th>\n",
       "      <th>date</th>\n",
       "      <th>price</th>\n",
       "      <th>bedrooms</th>\n",
       "      <th>bathrooms</th>\n",
       "      <th>sqft_living</th>\n",
       "      <th>sqft_lot</th>\n",
       "      <th>floors</th>\n",
       "      <th>waterfront</th>\n",
       "      <th>view</th>\n",
       "      <th>...</th>\n",
       "      <th>grade</th>\n",
       "      <th>sqft_above</th>\n",
       "      <th>sqft_basement</th>\n",
       "      <th>yr_built</th>\n",
       "      <th>yr_renovated</th>\n",
       "      <th>zipcode</th>\n",
       "      <th>lat</th>\n",
       "      <th>long</th>\n",
       "      <th>sqft_living15</th>\n",
       "      <th>sqft_lot15</th>\n",
       "    </tr>\n",
       "  </thead>\n",
       "  <tbody>\n",
       "    <tr>\n",
       "      <td>0</td>\n",
       "      <td>7129300520</td>\n",
       "      <td>10/13/2014</td>\n",
       "      <td>221900.0</td>\n",
       "      <td>3</td>\n",
       "      <td>1.00</td>\n",
       "      <td>1180</td>\n",
       "      <td>5650</td>\n",
       "      <td>1.0</td>\n",
       "      <td>NaN</td>\n",
       "      <td>0.0</td>\n",
       "      <td>...</td>\n",
       "      <td>7</td>\n",
       "      <td>1180</td>\n",
       "      <td>0.0</td>\n",
       "      <td>1955</td>\n",
       "      <td>0.0</td>\n",
       "      <td>98178</td>\n",
       "      <td>47.5112</td>\n",
       "      <td>-122.257</td>\n",
       "      <td>1340</td>\n",
       "      <td>5650</td>\n",
       "    </tr>\n",
       "    <tr>\n",
       "      <td>1</td>\n",
       "      <td>6414100192</td>\n",
       "      <td>12/9/2014</td>\n",
       "      <td>538000.0</td>\n",
       "      <td>3</td>\n",
       "      <td>2.25</td>\n",
       "      <td>2570</td>\n",
       "      <td>7242</td>\n",
       "      <td>2.0</td>\n",
       "      <td>0.0</td>\n",
       "      <td>0.0</td>\n",
       "      <td>...</td>\n",
       "      <td>7</td>\n",
       "      <td>2170</td>\n",
       "      <td>400.0</td>\n",
       "      <td>1951</td>\n",
       "      <td>1991.0</td>\n",
       "      <td>98125</td>\n",
       "      <td>47.7210</td>\n",
       "      <td>-122.319</td>\n",
       "      <td>1690</td>\n",
       "      <td>7639</td>\n",
       "    </tr>\n",
       "    <tr>\n",
       "      <td>2</td>\n",
       "      <td>5631500400</td>\n",
       "      <td>2/25/2015</td>\n",
       "      <td>180000.0</td>\n",
       "      <td>2</td>\n",
       "      <td>1.00</td>\n",
       "      <td>770</td>\n",
       "      <td>10000</td>\n",
       "      <td>1.0</td>\n",
       "      <td>0.0</td>\n",
       "      <td>0.0</td>\n",
       "      <td>...</td>\n",
       "      <td>6</td>\n",
       "      <td>770</td>\n",
       "      <td>0.0</td>\n",
       "      <td>1933</td>\n",
       "      <td>NaN</td>\n",
       "      <td>98028</td>\n",
       "      <td>47.7379</td>\n",
       "      <td>-122.233</td>\n",
       "      <td>2720</td>\n",
       "      <td>8062</td>\n",
       "    </tr>\n",
       "    <tr>\n",
       "      <td>3</td>\n",
       "      <td>2487200875</td>\n",
       "      <td>12/9/2014</td>\n",
       "      <td>604000.0</td>\n",
       "      <td>4</td>\n",
       "      <td>3.00</td>\n",
       "      <td>1960</td>\n",
       "      <td>5000</td>\n",
       "      <td>1.0</td>\n",
       "      <td>0.0</td>\n",
       "      <td>0.0</td>\n",
       "      <td>...</td>\n",
       "      <td>7</td>\n",
       "      <td>1050</td>\n",
       "      <td>910.0</td>\n",
       "      <td>1965</td>\n",
       "      <td>0.0</td>\n",
       "      <td>98136</td>\n",
       "      <td>47.5208</td>\n",
       "      <td>-122.393</td>\n",
       "      <td>1360</td>\n",
       "      <td>5000</td>\n",
       "    </tr>\n",
       "    <tr>\n",
       "      <td>4</td>\n",
       "      <td>1954400510</td>\n",
       "      <td>2/18/2015</td>\n",
       "      <td>510000.0</td>\n",
       "      <td>3</td>\n",
       "      <td>2.00</td>\n",
       "      <td>1680</td>\n",
       "      <td>8080</td>\n",
       "      <td>1.0</td>\n",
       "      <td>0.0</td>\n",
       "      <td>0.0</td>\n",
       "      <td>...</td>\n",
       "      <td>8</td>\n",
       "      <td>1680</td>\n",
       "      <td>0.0</td>\n",
       "      <td>1987</td>\n",
       "      <td>0.0</td>\n",
       "      <td>98074</td>\n",
       "      <td>47.6168</td>\n",
       "      <td>-122.045</td>\n",
       "      <td>1800</td>\n",
       "      <td>7503</td>\n",
       "    </tr>\n",
       "  </tbody>\n",
       "</table>\n",
       "<p>5 rows × 21 columns</p>\n",
       "</div>"
      ],
      "text/plain": [
       "           id        date     price  bedrooms  bathrooms  sqft_living  \\\n",
       "0  7129300520  10/13/2014  221900.0         3       1.00         1180   \n",
       "1  6414100192   12/9/2014  538000.0         3       2.25         2570   \n",
       "2  5631500400   2/25/2015  180000.0         2       1.00          770   \n",
       "3  2487200875   12/9/2014  604000.0         4       3.00         1960   \n",
       "4  1954400510   2/18/2015  510000.0         3       2.00         1680   \n",
       "\n",
       "   sqft_lot  floors  waterfront  view  ...  grade  sqft_above  sqft_basement  \\\n",
       "0      5650     1.0         NaN   0.0  ...      7        1180            0.0   \n",
       "1      7242     2.0         0.0   0.0  ...      7        2170          400.0   \n",
       "2     10000     1.0         0.0   0.0  ...      6         770            0.0   \n",
       "3      5000     1.0         0.0   0.0  ...      7        1050          910.0   \n",
       "4      8080     1.0         0.0   0.0  ...      8        1680            0.0   \n",
       "\n",
       "  yr_built  yr_renovated  zipcode      lat     long  sqft_living15  sqft_lot15  \n",
       "0     1955           0.0    98178  47.5112 -122.257           1340        5650  \n",
       "1     1951        1991.0    98125  47.7210 -122.319           1690        7639  \n",
       "2     1933           NaN    98028  47.7379 -122.233           2720        8062  \n",
       "3     1965           0.0    98136  47.5208 -122.393           1360        5000  \n",
       "4     1987           0.0    98074  47.6168 -122.045           1800        7503  \n",
       "\n",
       "[5 rows x 21 columns]"
      ]
     },
     "execution_count": 40,
     "metadata": {},
     "output_type": "execute_result"
    }
   ],
   "source": [
    "df = fs.datasets.load_mod1_proj()\n",
    "df.head()"
   ]
  },
  {
   "cell_type": "code",
   "execution_count": 41,
   "metadata": {
    "ExecuteTime": {
     "end_time": "2020-03-27T22:43:07.431793Z",
     "start_time": "2020-03-27T22:43:06.586655Z"
    }
   },
   "outputs": [
    {
     "ename": "NameError",
     "evalue": "name 'line_kws' is not defined",
     "output_type": "error",
     "traceback": [
      "\u001b[0;31m---------------------------------------------------------------------------\u001b[0m",
      "\u001b[0;31mNameError\u001b[0m                                 Traceback (most recent call last)",
      "\u001b[0;32m<ipython-input-41-c9b7cf5e7745>\u001b[0m in \u001b[0;36m<module>\u001b[0;34m\u001b[0m\n\u001b[0;32m----> 1\u001b[0;31m \u001b[0mplot_hist_scat_sns\u001b[0m\u001b[0;34m(\u001b[0m\u001b[0mdf\u001b[0m\u001b[0;34m)\u001b[0m\u001b[0;34m\u001b[0m\u001b[0;34m\u001b[0m\u001b[0m\n\u001b[0m",
      "\u001b[0;32m<ipython-input-39-da7c57f751e1>\u001b[0m in \u001b[0;36mplot_hist_scat_sns\u001b[0;34m(df, target)\u001b[0m\n\u001b[1;32m     80\u001b[0m         \u001b[0;31m# Plot regplot on ax[i,j] using line_kws and scatter_kws\u001b[0m\u001b[0;34m\u001b[0m\u001b[0;34m\u001b[0m\u001b[0;34m\u001b[0m\u001b[0m\n\u001b[1;32m     81\u001b[0m         sns.regplot(df[column], df[target], \n\u001b[0;32m---> 82\u001b[0;31m                     \u001b[0mline_kws\u001b[0m \u001b[0;34m=\u001b[0m \u001b[0mline_kws\u001b[0m\u001b[0;34m,\u001b[0m\u001b[0;34m\u001b[0m\u001b[0;34m\u001b[0m\u001b[0m\n\u001b[0m\u001b[1;32m     83\u001b[0m                     \u001b[0mscatter_kws\u001b[0m \u001b[0;34m=\u001b[0m \u001b[0mscatter_kws\u001b[0m\u001b[0;34m,\u001b[0m\u001b[0;34m\u001b[0m\u001b[0;34m\u001b[0m\u001b[0m\n\u001b[1;32m     84\u001b[0m                     ax=ax[i,j])\n",
      "\u001b[0;31mNameError\u001b[0m: name 'line_kws' is not defined"
     ]
    },
    {
     "data": {
      "image/png": "[encoded data removed]",
      "text/plain": [
       "<Figure size 864x720 with 4 Axes>"
      ]
     },
     "metadata": {},
     "output_type": "display_data"
    }
   ],
   "source": [
    "plot_hist_scat_sns(df)"
   ]
  },
  {
   "cell_type": "code",
   "execution_count": null,
   "metadata": {},
   "outputs": [],
   "source": [
    "def plot_df(df,xcol='weight',ycol='mpg',plot_kws={}):\n",
    "    \"\"\"Used df.plot(xcol,ycol) and unpacks plot_kws \n",
    "    into .plot() method.\"\"\"\n",
    "    ax = df.plot(xcol,ycol,**plot_kws)\n",
    "\n",
    "plot_df(df)"
   ]
  },
  {
   "cell_type": "code",
   "execution_count": 48,
   "metadata": {
    "ExecuteTime": {
     "end_time": "2020-01-03T17:34:38.717616Z",
     "start_time": "2020-01-03T17:34:38.497511Z"
    }
   },
   "outputs": [
    {
     "data": {
      "image/png": "[encoded data removed]",
      "text/plain": [
       "<Figure size 432x288 with 1 Axes>"
      ]
     },
     "metadata": {
      "needs_background": "light"
     },
     "output_type": "display_data"
    }
   ],
   "source": [
    "def plot_df(df,xcol='weight',ycol='mpg',plot_kws={}):\n",
    "    \"\"\"Used df.plot(xcol,ycol) and unpacks plot_kws \n",
    "    into .plot() method.\"\"\"\n",
    "    ax = df.plot(xcol,ycol,**plot_kws)\n",
    "\n",
    "plot_df(df)"
   ]
  },
  {
   "cell_type": "code",
   "execution_count": null,
   "metadata": {},
   "outputs": [],
   "source": [
    "## We can pass in any commands accepted by .plot in our plot_kws\n",
    "kws = dict(kind='scatter',color='red',ls=':')\n",
    "plot_df(df,plot_kws=kws)"
   ]
  },
  {
   "cell_type": "code",
   "execution_count": 49,
   "metadata": {
    "ExecuteTime": {
     "end_time": "2020-01-03T17:35:05.353388Z",
     "start_time": "2020-01-03T17:35:05.147484Z"
    }
   },
   "outputs": [
    {
     "data": {
      "image/png": "[encoded data removed]",
      "text/plain": [
       "<Figure size 432x288 with 1 Axes>"
      ]
     },
     "metadata": {
      "needs_background": "light"
     },
     "output_type": "display_data"
    }
   ],
   "source": [
    "## We can pass in any commands accepted by .plot in our plot_kws\n",
    "kws = dict(kind='scatter',color='red',ls=':')\n",
    "plot_df(df,plot_kws=kws)"
   ]
  },
  {
   "cell_type": "code",
   "execution_count": 50,
   "metadata": {
    "ExecuteTime": {
     "end_time": "2020-01-03T17:36:08.737539Z",
     "start_time": "2020-01-03T17:36:08.543408Z"
    }
   },
   "outputs": [
    {
     "name": "stdout",
     "output_type": "stream",
     "text": [
      "params.keys:\n",
      "\t dict_keys(['df', 'xcol', 'ycol', 'plot_kws'])\n",
      "params['plot_kws'].items:\n",
      "\t dict_items([('kind', 'scatter'), ('color', 'red'), ('ls', ':')])\n"
     ]
    },
    {
     "data": {
      "image/png": "[encoded data removed]",
      "text/plain": [
       "<Figure size 432x288 with 1 Axes>"
      ]
     },
     "metadata": {
      "needs_background": "light"
     },
     "output_type": "display_data"
    }
   ],
   "source": [
    "## We can even nest ALL of our arguments into one dictionary\n",
    "kws = dict(kind='scatter',color='red',ls=':')\n",
    "params = dict(df=df,\n",
    "              xcol='horsepower',\n",
    "              ycol='cylinders',\n",
    "              plot_kws=kws)\n",
    "\n",
    "print(f\"params.keys:\\n\\t\",params.keys())\n",
    "print(f\"params['plot_kws'].items:\\n\\t\",params['plot_kws'].items())\n",
    "plot_df(**params)#_df,plot_kws=kws)"
   ]
  },
  {
   "cell_type": "markdown",
   "metadata": {},
   "source": [
    "### Unpacking dict keys with * "
   ]
  },
  {
   "cell_type": "code",
   "execution_count": 51,
   "metadata": {
    "ExecuteTime": {
     "end_time": "2020-01-03T17:36:49.374904Z",
     "start_time": "2020-01-03T17:36:49.370760Z"
    },
    "colab": {
     "base_uri": "https://localhost:8080/",
     "height": 85
    },
    "colab_type": "code",
    "id": "nHknLdcmTGI1",
    "outputId": "e940d361-7438-48ce-cd04-1110a49f065c"
   },
   "outputs": [
    {
     "name": "stdout",
     "output_type": "stream",
     "text": [
      "list_: ['p', 'y', 't', 'h', 'h', 'o', 'n']\n",
      "\n",
      "set_i: {'p', 'h', 'n', 't', 'o', 'y'}\n",
      "\n"
     ]
    }
   ],
   "source": [
    "# Get keys WITH repition\n",
    "list_ = [*d1,*d2,*d3] \n",
    "\n",
    "# Get keys WITHOUT repition\n",
    "set_ = {*d1,*d2,*d3}\n",
    "print('list_:',list_,end='\\n\\n')\n",
    "print('set_i:',set_,end='\\n\\n')"
   ]
  },
  {
   "cell_type": "markdown",
   "metadata": {
    "colab_type": "text",
    "id": "igI_ANJqU8u_"
   },
   "source": [
    "## Nested Unpacking"
   ]
  },
  {
   "cell_type": "code",
   "execution_count": 52,
   "metadata": {
    "ExecuteTime": {
     "end_time": "2020-01-03T17:37:35.224273Z",
     "start_time": "2020-01-03T17:37:35.221182Z"
    },
    "colab": {
     "base_uri": "https://localhost:8080/",
     "height": 136
    },
    "colab_type": "code",
    "id": "MR2k2yREWQfW",
    "outputId": "8781bee5-fa09-491f-a92a-de1b97fc34b9"
   },
   "outputs": [
    {
     "name": "stdout",
     "output_type": "stream",
     "text": [
      "Startin List= [1, 2, [3, 4]]\n"
     ]
    }
   ],
   "source": [
    "l = [1,2,[3,4]]\n",
    "print('Startin List=',l)"
   ]
  },
  {
   "cell_type": "code",
   "execution_count": 53,
   "metadata": {
    "ExecuteTime": {
     "end_time": "2020-01-03T17:37:48.176538Z",
     "start_time": "2020-01-03T17:37:48.172424Z"
    },
    "colab": {
     "base_uri": "https://localhost:8080/",
     "height": 136
    },
    "colab_type": "code",
    "id": "MR2k2yREWQfW",
    "outputId": "8781bee5-fa09-491f-a92a-de1b97fc34b9"
   },
   "outputs": [
    {
     "name": "stdout",
     "output_type": "stream",
     "text": [
      "a=1\n",
      "b=2\n",
      "c=[3, 4]\n"
     ]
    }
   ],
   "source": [
    "## Without Nested Unpacking:\n",
    "a,b,c = l\n",
    "print(f\"a={a}\\nb={b}\\nc={c}\")#,sep='\\n')"
   ]
  },
  {
   "cell_type": "code",
   "execution_count": 54,
   "metadata": {
    "ExecuteTime": {
     "end_time": "2020-01-03T17:37:58.179153Z",
     "start_time": "2020-01-03T17:37:58.175061Z"
    },
    "colab": {
     "base_uri": "https://localhost:8080/",
     "height": 136
    },
    "colab_type": "code",
    "id": "MR2k2yREWQfW",
    "outputId": "8781bee5-fa09-491f-a92a-de1b97fc34b9"
   },
   "outputs": [
    {
     "name": "stdout",
     "output_type": "stream",
     "text": [
      "\n",
      "e=3\n",
      "d=4\n"
     ]
    }
   ],
   "source": [
    "e,d = c\n",
    "print(f\"\\ne={e}\\nd={d}\")#,sep='\\n')"
   ]
  },
  {
   "cell_type": "code",
   "execution_count": null,
   "metadata": {},
   "outputs": [],
   "source": [
    "fig, (ax1,ax2) = plt.subplots(ncols=2)"
   ]
  },
  {
   "cell_type": "code",
   "execution_count": 55,
   "metadata": {
    "ExecuteTime": {
     "end_time": "2020-01-03T17:38:19.272712Z",
     "start_time": "2020-01-03T17:38:19.269003Z"
    },
    "colab": {
     "base_uri": "https://localhost:8080/",
     "height": 85
    },
    "colab_type": "code",
    "id": "PCZzu-J7V35N",
    "outputId": "f2cfec38-946c-4adc-dc2d-9fe3f5de9496"
   },
   "outputs": [
    {
     "name": "stdout",
     "output_type": "stream",
     "text": [
      "1\n",
      "2\n",
      "3\n",
      "4\n"
     ]
    }
   ],
   "source": [
    "l = [1,2,[3,4]]\n",
    "\n",
    "a,b,(c,d) = [1,2, [3,4]]\n",
    "print(a,b,c,d,sep='\\n')"
   ]
  },
  {
   "cell_type": "markdown",
   "metadata": {
    "colab_type": "text",
    "id": "nBZOKq6hEn_I"
   },
   "source": [
    "# PEEKING UNDER THE HOOD / DEBUGGING"
   ]
  },
  {
   "cell_type": "markdown",
   "metadata": {
    "colab_type": "text",
    "id": "G80Lf1xOExeI"
   },
   "source": [
    "### TOPICS:\n",
    "- `help` vs `dir`\n",
    "- `locals()` vs `globals()`\n",
    "- `inspect` module\n",
    "- debugging with `pdb` (`pdb.set_trace()`)\n"
   ]
  },
  {
   "cell_type": "markdown",
   "metadata": {},
   "source": [
    "### help vs dir"
   ]
  },
  {
   "cell_type": "code",
   "execution_count": 56,
   "metadata": {
    "ExecuteTime": {
     "end_time": "2020-01-03T17:39:23.328652Z",
     "start_time": "2020-01-03T17:39:23.319789Z"
    },
    "colab": {},
    "colab_type": "code",
    "id": "X9yxyycDGiIE",
    "scrolled": true
   },
   "outputs": [
    {
     "name": "stdout",
     "output_type": "stream",
     "text": [
      "Help on StandardScaler in module sklearn.preprocessing.data object:\n",
      "\n",
      "class StandardScaler(sklearn.base.BaseEstimator, sklearn.base.TransformerMixin)\n",
      " |  Standardize features by removing the mean and scaling to unit variance\n",
      " |  \n",
      " |  The standard score of a sample `x` is calculated as:\n",
      " |  \n",
      " |      z = (x - u) / s\n",
      " |  \n",
      " |  where `u` is the mean of the training samples or zero if `with_mean=False`,\n",
      " |  and `s` is the standard deviation of the training samples or one if\n",
      " |  `with_std=False`.\n",
      " |  \n",
      " |  Centering and scaling happen independently on each feature by computing\n",
      " |  the relevant statistics on the samples in the training set. Mean and\n",
      " |  standard deviation are then stored to be used on later data using the\n",
      " |  `transform` method.\n",
      " |  \n",
      " |  Standardization of a dataset is a common requirement for many\n",
      " |  machine learning estimators: they might behave badly if the\n",
      " |  individual features do not more or less look like standard normally\n",
      " |  distributed data (e.g. Gaussian with 0 mean and unit variance).\n",
      " |  \n",
      " |  For instance many elements used in the objective function of\n",
      " |  a learning algorithm (such as the RBF kernel of Support Vector\n",
      " |  Machines or the L1 and L2 regularizers of linear models) assume that\n",
      " |  all features are centered around 0 and have variance in the same\n",
      " |  order. If a feature has a variance that is orders of magnitude larger\n",
      " |  that others, it might dominate the objective function and make the\n",
      " |  estimator unable to learn from other features correctly as expected.\n",
      " |  \n",
      " |  This scaler can also be applied to sparse CSR or CSC matrices by passing\n",
      " |  `with_mean=False` to avoid breaking the sparsity structure of the data.\n",
      " |  \n",
      " |  Read more in the :ref:`User Guide <preprocessing_scaler>`.\n",
      " |  \n",
      " |  Parameters\n",
      " |  ----------\n",
      " |  copy : boolean, optional, default True\n",
      " |      If False, try to avoid a copy and do inplace scaling instead.\n",
      " |      This is not guaranteed to always work inplace; e.g. if the data is\n",
      " |      not a NumPy array or scipy.sparse CSR matrix, a copy may still be\n",
      " |      returned.\n",
      " |  \n",
      " |  with_mean : boolean, True by default\n",
      " |      If True, center the data before scaling.\n",
      " |      This does not work (and will raise an exception) when attempted on\n",
      " |      sparse matrices, because centering them entails building a dense\n",
      " |      matrix which in common use cases is likely to be too large to fit in\n",
      " |      memory.\n",
      " |  \n",
      " |  with_std : boolean, True by default\n",
      " |      If True, scale the data to unit variance (or equivalently,\n",
      " |      unit standard deviation).\n",
      " |  \n",
      " |  Attributes\n",
      " |  ----------\n",
      " |  scale_ : ndarray or None, shape (n_features,)\n",
      " |      Per feature relative scaling of the data. This is calculated using\n",
      " |      `np.sqrt(var_)`. Equal to ``None`` when ``with_std=False``.\n",
      " |  \n",
      " |      .. versionadded:: 0.17\n",
      " |         *scale_*\n",
      " |  \n",
      " |  mean_ : ndarray or None, shape (n_features,)\n",
      " |      The mean value for each feature in the training set.\n",
      " |      Equal to ``None`` when ``with_mean=False``.\n",
      " |  \n",
      " |  var_ : ndarray or None, shape (n_features,)\n",
      " |      The variance for each feature in the training set. Used to compute\n",
      " |      `scale_`. Equal to ``None`` when ``with_std=False``.\n",
      " |  \n",
      " |  n_samples_seen_ : int or array, shape (n_features,)\n",
      " |      The number of samples processed by the estimator for each feature.\n",
      " |      If there are not missing samples, the ``n_samples_seen`` will be an\n",
      " |      integer, otherwise it will be an array.\n",
      " |      Will be reset on new calls to fit, but increments across\n",
      " |      ``partial_fit`` calls.\n",
      " |  \n",
      " |  Examples\n",
      " |  --------\n",
      " |  >>> from sklearn.preprocessing import StandardScaler\n",
      " |  >>> data = [[0, 0], [0, 0], [1, 1], [1, 1]]\n",
      " |  >>> scaler = StandardScaler()\n",
      " |  >>> print(scaler.fit(data))\n",
      " |  StandardScaler(copy=True, with_mean=True, with_std=True)\n",
      " |  >>> print(scaler.mean_)\n",
      " |  [0.5 0.5]\n",
      " |  >>> print(scaler.transform(data))\n",
      " |  [[-1. -1.]\n",
      " |   [-1. -1.]\n",
      " |   [ 1.  1.]\n",
      " |   [ 1.  1.]]\n",
      " |  >>> print(scaler.transform([[2, 2]]))\n",
      " |  [[3. 3.]]\n",
      " |  \n",
      " |  See also\n",
      " |  --------\n",
      " |  scale: Equivalent function without the estimator API.\n",
      " |  \n",
      " |  :class:`sklearn.decomposition.PCA`\n",
      " |      Further removes the linear correlation across features with 'whiten=True'.\n",
      " |  \n",
      " |  Notes\n",
      " |  -----\n",
      " |  NaNs are treated as missing values: disregarded in fit, and maintained in\n",
      " |  transform.\n",
      " |  \n",
      " |  We use a biased estimator for the standard deviation, equivalent to\n",
      " |  `numpy.std(x, ddof=0)`. Note that the choice of `ddof` is unlikely to\n",
      " |  affect model performance.\n",
      " |  \n",
      " |  For a comparison of the different scalers, transformers, and normalizers,\n",
      " |  see :ref:`examples/preprocessing/plot_all_scaling.py\n",
      " |  <sphx_glr_auto_examples_preprocessing_plot_all_scaling.py>`.\n",
      " |  \n",
      " |  Method resolution order:\n",
      " |      StandardScaler\n",
      " |      sklearn.base.BaseEstimator\n",
      " |      sklearn.base.TransformerMixin\n",
      " |      builtins.object\n",
      " |  \n",
      " |  Methods defined here:\n",
      " |  \n",
      " |  __init__(self, copy=True, with_mean=True, with_std=True)\n",
      " |      Initialize self.  See help(type(self)) for accurate signature.\n",
      " |  \n",
      " |  fit(self, X, y=None)\n",
      " |      Compute the mean and std to be used for later scaling.\n",
      " |      \n",
      " |      Parameters\n",
      " |      ----------\n",
      " |      X : {array-like, sparse matrix}, shape [n_samples, n_features]\n",
      " |          The data used to compute the mean and standard deviation\n",
      " |          used for later scaling along the features axis.\n",
      " |      \n",
      " |      y\n",
      " |          Ignored\n",
      " |  \n",
      " |  inverse_transform(self, X, copy=None)\n",
      " |      Scale back the data to the original representation\n",
      " |      \n",
      " |      Parameters\n",
      " |      ----------\n",
      " |      X : array-like, shape [n_samples, n_features]\n",
      " |          The data used to scale along the features axis.\n",
      " |      copy : bool, optional (default: None)\n",
      " |          Copy the input X or not.\n",
      " |      \n",
      " |      Returns\n",
      " |      -------\n",
      " |      X_tr : array-like, shape [n_samples, n_features]\n",
      " |          Transformed array.\n",
      " |  \n",
      " |  partial_fit(self, X, y=None)\n",
      " |      Online computation of mean and std on X for later scaling.\n",
      " |      All of X is processed as a single batch. This is intended for cases\n",
      " |      when `fit` is not feasible due to very large number of `n_samples`\n",
      " |      or because X is read from a continuous stream.\n",
      " |      \n",
      " |      The algorithm for incremental mean and std is given in Equation 1.5a,b\n",
      " |      in Chan, Tony F., Gene H. Golub, and Randall J. LeVeque. \"Algorithms\n",
      " |      for computing the sample variance: Analysis and recommendations.\"\n",
      " |      The American Statistician 37.3 (1983): 242-247:\n",
      " |      \n",
      " |      Parameters\n",
      " |      ----------\n",
      " |      X : {array-like, sparse matrix}, shape [n_samples, n_features]\n",
      " |          The data used to compute the mean and standard deviation\n",
      " |          used for later scaling along the features axis.\n",
      " |      \n",
      " |      y\n",
      " |          Ignored\n",
      " |  \n",
      " |  transform(self, X, copy=None)\n",
      " |      Perform standardization by centering and scaling\n",
      " |      \n",
      " |      Parameters\n",
      " |      ----------\n",
      " |      X : array-like, shape [n_samples, n_features]\n",
      " |          The data used to scale along the features axis.\n",
      " |      copy : bool, optional (default: None)\n",
      " |          Copy the input X or not.\n",
      " |  \n",
      " |  ----------------------------------------------------------------------\n",
      " |  Methods inherited from sklearn.base.BaseEstimator:\n",
      " |  \n",
      " |  __getstate__(self)\n",
      " |  \n",
      " |  __repr__(self, N_CHAR_MAX=700)\n",
      " |      Return repr(self).\n",
      " |  \n",
      " |  __setstate__(self, state)\n",
      " |  \n",
      " |  get_params(self, deep=True)\n",
      " |      Get parameters for this estimator.\n",
      " |      \n",
      " |      Parameters\n",
      " |      ----------\n",
      " |      deep : boolean, optional\n",
      " |          If True, will return the parameters for this estimator and\n",
      " |          contained subobjects that are estimators.\n",
      " |      \n",
      " |      Returns\n",
      " |      -------\n",
      " |      params : mapping of string to any\n",
      " |          Parameter names mapped to their values.\n",
      " |  \n",
      " |  set_params(self, **params)\n",
      " |      Set the parameters of this estimator.\n",
      " |      \n",
      " |      The method works on simple estimators as well as on nested objects\n",
      " |      (such as pipelines). The latter have parameters of the form\n",
      " |      ``<component>__<parameter>`` so that it's possible to update each\n",
      " |      component of a nested object.\n",
      " |      \n",
      " |      Returns\n",
      " |      -------\n",
      " |      self\n",
      " |  \n",
      " |  ----------------------------------------------------------------------\n",
      " |  Data descriptors inherited from sklearn.base.BaseEstimator:\n",
      " |  \n",
      " |  __dict__\n",
      " |      dictionary for instance variables (if defined)\n",
      " |  \n",
      " |  __weakref__\n",
      " |      list of weak references to the object (if defined)\n",
      " |  \n",
      " |  ----------------------------------------------------------------------\n",
      " |  Methods inherited from sklearn.base.TransformerMixin:\n",
      " |  \n",
      " |  fit_transform(self, X, y=None, **fit_params)\n",
      " |      Fit to data, then transform it.\n",
      " |      \n",
      " |      Fits transformer to X and y with optional parameters fit_params\n",
      " |      and returns a transformed version of X.\n",
      " |      \n",
      " |      Parameters\n",
      " |      ----------\n",
      " |      X : numpy array of shape [n_samples, n_features]\n",
      " |          Training set.\n",
      " |      \n",
      " |      y : numpy array of shape [n_samples]\n",
      " |          Target values.\n",
      " |      \n",
      " |      Returns\n",
      " |      -------\n",
      " |      X_new : numpy array of shape [n_samples, n_features_new]\n",
      " |          Transformed array.\n",
      "\n"
     ]
    }
   ],
   "source": [
    "from sklearn.preprocessing import StandardScaler\n",
    "scaler = StandardScaler()\n",
    "help(scaler)"
   ]
  },
  {
   "cell_type": "code",
   "execution_count": 58,
   "metadata": {
    "ExecuteTime": {
     "end_time": "2020-01-03T17:41:47.088438Z",
     "start_time": "2020-01-03T17:41:47.084938Z"
    }
   },
   "outputs": [
    {
     "data": {
      "text/plain": [
       "{'with_mean': True, 'with_std': True, 'copy': True}"
      ]
     },
     "execution_count": 58,
     "metadata": {},
     "output_type": "execute_result"
    }
   ],
   "source": [
    "scaler.__dict__"
   ]
  },
  {
   "cell_type": "code",
   "execution_count": 57,
   "metadata": {
    "ExecuteTime": {
     "end_time": "2020-01-03T17:40:03.847585Z",
     "start_time": "2020-01-03T17:40:03.841570Z"
    }
   },
   "outputs": [
    {
     "data": {
      "text/plain": [
       "['__class__',\n",
       " '__delattr__',\n",
       " '__dict__',\n",
       " '__dir__',\n",
       " '__doc__',\n",
       " '__eq__',\n",
       " '__format__',\n",
       " '__ge__',\n",
       " '__getattribute__',\n",
       " '__getstate__',\n",
       " '__gt__',\n",
       " '__hash__',\n",
       " '__init__',\n",
       " '__init_subclass__',\n",
       " '__le__',\n",
       " '__lt__',\n",
       " '__module__',\n",
       " '__ne__',\n",
       " '__new__',\n",
       " '__reduce__',\n",
       " '__reduce_ex__',\n",
       " '__repr__',\n",
       " '__setattr__',\n",
       " '__setstate__',\n",
       " '__sizeof__',\n",
       " '__str__',\n",
       " '__subclasshook__',\n",
       " '__weakref__',\n",
       " '_get_param_names',\n",
       " '_get_tags',\n",
       " '_more_tags',\n",
       " '_reset',\n",
       " 'copy',\n",
       " 'fit',\n",
       " 'fit_transform',\n",
       " 'get_params',\n",
       " 'inverse_transform',\n",
       " 'partial_fit',\n",
       " 'set_params',\n",
       " 'transform',\n",
       " 'with_mean',\n",
       " 'with_std']"
      ]
     },
     "execution_count": 57,
     "metadata": {},
     "output_type": "execute_result"
    }
   ],
   "source": [
    "dir(scaler)"
   ]
  },
  {
   "cell_type": "markdown",
   "metadata": {},
   "source": [
    "## Using special methods to control the output of a class"
   ]
  },
  {
   "cell_type": "code",
   "execution_count": 62,
   "metadata": {
    "ExecuteTime": {
     "end_time": "2020-01-03T17:44:36.122358Z",
     "start_time": "2020-01-03T17:44:36.118281Z"
    }
   },
   "outputs": [
    {
     "data": {
      "text/plain": [
       "False"
      ]
     },
     "execution_count": 62,
     "metadata": {},
     "output_type": "execute_result"
    }
   ],
   "source": [
    "ic==Example"
   ]
  },
  {
   "cell_type": "code",
   "execution_count": 63,
   "metadata": {
    "ExecuteTime": {
     "end_time": "2020-01-03T17:44:48.812365Z",
     "start_time": "2020-01-03T17:44:48.808783Z"
    }
   },
   "outputs": [
    {
     "data": {
      "text/plain": [
       "True"
      ]
     },
     "execution_count": 63,
     "metadata": {},
     "output_type": "execute_result"
    }
   ],
   "source": [
    "isinstance(ic,Example)"
   ]
  },
  {
   "cell_type": "code",
   "execution_count": 59,
   "metadata": {
    "ExecuteTime": {
     "end_time": "2020-01-03T17:43:13.862044Z",
     "start_time": "2020-01-03T17:43:13.857666Z"
    }
   },
   "outputs": [
    {
     "data": {
      "text/plain": [
       "<__main__.Example at 0x1a1d60f9e8>"
      ]
     },
     "execution_count": 59,
     "metadata": {},
     "output_type": "execute_result"
    }
   ],
   "source": [
    "class Example():\n",
    "    def __init__(self,ice_cream='vanilla'):\n",
    "        self.fav=ice_cream\n",
    "ic= Example()\n",
    "ic"
   ]
  },
  {
   "cell_type": "markdown",
   "metadata": {},
   "source": [
    "### `__repr__()` controls display when final element of a cell"
   ]
  },
  {
   "cell_type": "code",
   "execution_count": 64,
   "metadata": {
    "ExecuteTime": {
     "end_time": "2020-01-03T17:45:22.700411Z",
     "start_time": "2020-01-03T17:45:22.695100Z"
    }
   },
   "outputs": [
    {
     "data": {
      "text/plain": [
       "vanilla"
      ]
     },
     "execution_count": 64,
     "metadata": {},
     "output_type": "execute_result"
    }
   ],
   "source": [
    "class Example():\n",
    "    def __init__(self,ice_cream='vanilla'):\n",
    "        self.fav=ice_cream\n",
    "    def __repr__(self):\n",
    "        return self.fav\n",
    "\n",
    "ic = Example()\n",
    "ic"
   ]
  },
  {
   "cell_type": "markdown",
   "metadata": {},
   "source": [
    "### `__str__()` controls whats displayed when an object is printed"
   ]
  },
  {
   "cell_type": "code",
   "execution_count": 65,
   "metadata": {
    "ExecuteTime": {
     "end_time": "2020-01-03T17:45:47.298359Z",
     "start_time": "2020-01-03T17:45:47.293803Z"
    }
   },
   "outputs": [
    {
     "name": "stdout",
     "output_type": "stream",
     "text": [
      "this is a string\n"
     ]
    }
   ],
   "source": [
    "class Example():\n",
    "    def __init__(self,ice_cream='vanilla'):\n",
    "        self.fav=ice_cream\n",
    "    def __repr__(self):\n",
    "        return self.fav\n",
    "    def __str__(self):\n",
    "        return \"this is a string\"\n",
    "ic = Example()\n",
    "print(ic)"
   ]
  },
  {
   "cell_type": "code",
   "execution_count": 66,
   "metadata": {
    "ExecuteTime": {
     "end_time": "2020-01-03T17:45:52.188668Z",
     "start_time": "2020-01-03T17:45:52.182052Z"
    }
   },
   "outputs": [
    {
     "name": "stdout",
     "output_type": "stream",
     "text": [
      "this is a string\n"
     ]
    },
    {
     "data": {
      "text/plain": [
       "vanilla"
      ]
     },
     "execution_count": 66,
     "metadata": {},
     "output_type": "execute_result"
    }
   ],
   "source": [
    "class Example():\n",
    "    def __init__(self,ice_cream='vanilla'):\n",
    "        self.fav=ice_cream\n",
    "    def __repr__(self):\n",
    "        return self.fav\n",
    "    def __str__(self):\n",
    "        return \"this is a string\"\n",
    "ic = Example()\n",
    "print(ic)\n",
    "ic"
   ]
  },
  {
   "cell_type": "markdown",
   "metadata": {},
   "source": [
    "### Additional Examples of help vs dir"
   ]
  },
  {
   "cell_type": "code",
   "execution_count": 67,
   "metadata": {
    "ExecuteTime": {
     "end_time": "2020-01-03T17:46:33.359572Z",
     "start_time": "2020-01-03T17:46:33.356055Z"
    },
    "colab": {
     "base_uri": "https://localhost:8080/",
     "height": 34
    },
    "colab_type": "code",
    "id": "kRBa8shcGPPj",
    "outputId": "c5b5a7c5-6fbb-4968-93eb-53fbfe4dcea9"
   },
   "outputs": [
    {
     "name": "stdout",
     "output_type": "stream",
     "text": [
      "math\n"
     ]
    }
   ],
   "source": [
    "def my_func(a,b):\n",
    "    return a*b\n",
    "\n",
    "my_func.category = 'math'\n",
    "my_func.sub_category = 'arithmetic'\n",
    "print(my_func.category)"
   ]
  },
  {
   "cell_type": "code",
   "execution_count": 68,
   "metadata": {
    "ExecuteTime": {
     "end_time": "2020-01-03T17:46:33.533882Z",
     "start_time": "2020-01-03T17:46:33.529175Z"
    }
   },
   "outputs": [
    {
     "name": "stdout",
     "output_type": "stream",
     "text": [
      "Help on function my_func in module __main__:\n",
      "\n",
      "my_func(a, b)\n",
      "\n"
     ]
    }
   ],
   "source": [
    "help(my_func)"
   ]
  },
  {
   "cell_type": "code",
   "execution_count": 69,
   "metadata": {
    "ExecuteTime": {
     "end_time": "2020-01-03T17:46:33.793232Z",
     "start_time": "2020-01-03T17:46:33.788862Z"
    },
    "colab": {
     "base_uri": "https://localhost:8080/",
     "height": 646
    },
    "colab_type": "code",
    "id": "FDF-ayzkGPS7",
    "outputId": "afedb589-2334-4737-dc2c-714eae03f567"
   },
   "outputs": [
    {
     "data": {
      "text/plain": [
       "['__annotations__',\n",
       " '__call__',\n",
       " '__class__',\n",
       " '__closure__',\n",
       " '__code__',\n",
       " '__defaults__',\n",
       " '__delattr__',\n",
       " '__dict__',\n",
       " '__dir__',\n",
       " '__doc__',\n",
       " '__eq__',\n",
       " '__format__',\n",
       " '__ge__',\n",
       " '__get__',\n",
       " '__getattribute__',\n",
       " '__globals__',\n",
       " '__gt__',\n",
       " '__hash__',\n",
       " '__init__',\n",
       " '__init_subclass__',\n",
       " '__kwdefaults__',\n",
       " '__le__',\n",
       " '__lt__',\n",
       " '__module__',\n",
       " '__name__',\n",
       " '__ne__',\n",
       " '__new__',\n",
       " '__qualname__',\n",
       " '__reduce__',\n",
       " '__reduce_ex__',\n",
       " '__repr__',\n",
       " '__setattr__',\n",
       " '__sizeof__',\n",
       " '__str__',\n",
       " '__subclasshook__',\n",
       " 'category',\n",
       " 'sub_category']"
      ]
     },
     "execution_count": 69,
     "metadata": {},
     "output_type": "execute_result"
    }
   ],
   "source": [
    "dir(my_func)"
   ]
  },
  {
   "cell_type": "code",
   "execution_count": 70,
   "metadata": {
    "ExecuteTime": {
     "end_time": "2020-01-03T17:46:34.109306Z",
     "start_time": "2020-01-03T17:46:34.105977Z"
    },
    "colab": {},
    "colab_type": "code",
    "id": "cN9nLHqrEwu9"
   },
   "outputs": [],
   "source": [
    "def my_func_with_kws(a,b,defaults='defined parameters',c=4):\n",
    "    return a*b"
   ]
  },
  {
   "cell_type": "code",
   "execution_count": 71,
   "metadata": {
    "ExecuteTime": {
     "end_time": "2020-01-03T17:46:34.620483Z",
     "start_time": "2020-01-03T17:46:34.616700Z"
    },
    "colab": {
     "base_uri": "https://localhost:8080/",
     "height": 612
    },
    "colab_type": "code",
    "id": "to5pybuHaPfB",
    "outputId": "b4973e17-2f3d-4f64-8fb7-dd7917dbbc3a"
   },
   "outputs": [
    {
     "data": {
      "text/plain": [
       "['__annotations__',\n",
       " '__call__',\n",
       " '__class__',\n",
       " '__closure__',\n",
       " '__code__',\n",
       " '__defaults__',\n",
       " '__delattr__',\n",
       " '__dict__',\n",
       " '__dir__',\n",
       " '__doc__',\n",
       " '__eq__',\n",
       " '__format__',\n",
       " '__ge__',\n",
       " '__get__',\n",
       " '__getattribute__',\n",
       " '__globals__',\n",
       " '__gt__',\n",
       " '__hash__',\n",
       " '__init__',\n",
       " '__init_subclass__',\n",
       " '__kwdefaults__',\n",
       " '__le__',\n",
       " '__lt__',\n",
       " '__module__',\n",
       " '__name__',\n",
       " '__ne__',\n",
       " '__new__',\n",
       " '__qualname__',\n",
       " '__reduce__',\n",
       " '__reduce_ex__',\n",
       " '__repr__',\n",
       " '__setattr__',\n",
       " '__sizeof__',\n",
       " '__str__',\n",
       " '__subclasshook__']"
      ]
     },
     "execution_count": 71,
     "metadata": {},
     "output_type": "execute_result"
    }
   ],
   "source": [
    "dir(my_func_with_kws)"
   ]
  },
  {
   "cell_type": "code",
   "execution_count": 74,
   "metadata": {
    "ExecuteTime": {
     "end_time": "2020-01-03T17:47:23.185634Z",
     "start_time": "2020-01-03T17:47:23.182265Z"
    },
    "colab": {
     "base_uri": "https://localhost:8080/",
     "height": 51
    },
    "colab_type": "code",
    "id": "clxUrRm8aS8H",
    "outputId": "11c7b0e1-5343-43a1-dea2-620c6c98d4b4"
   },
   "outputs": [
    {
     "name": "stdout",
     "output_type": "stream",
     "text": [
      "('defined parameters', 4)\n"
     ]
    }
   ],
   "source": [
    "print(my_func_with_kws.__defaults__)"
   ]
  },
  {
   "cell_type": "code",
   "execution_count": 73,
   "metadata": {
    "ExecuteTime": {
     "end_time": "2020-01-03T17:47:21.552622Z",
     "start_time": "2020-01-03T17:47:21.549412Z"
    },
    "colab": {
     "base_uri": "https://localhost:8080/",
     "height": 51
    },
    "colab_type": "code",
    "id": "clxUrRm8aS8H",
    "outputId": "11c7b0e1-5343-43a1-dea2-620c6c98d4b4"
   },
   "outputs": [
    {
     "name": "stdout",
     "output_type": "stream",
     "text": [
      "my_func_with_kws\n"
     ]
    }
   ],
   "source": [
    "print(my_func_with_kws.__name__)"
   ]
  },
  {
   "cell_type": "markdown",
   "metadata": {
    "colab_type": "text",
    "id": "fGuFSoXPabre"
   },
   "source": [
    "### inspect module"
   ]
  },
  {
   "cell_type": "code",
   "execution_count": 43,
   "metadata": {
    "ExecuteTime": {
     "end_time": "2020-03-27T22:53:05.444616Z",
     "start_time": "2020-03-27T22:53:05.437615Z"
    }
   },
   "outputs": [
    {
     "data": {
      "text/plain": [
       "'def plot_hist_scat_sns(df, target=\\'price\\'):\\n\\n    \\n    ## ----------- DEFINE AESTHETIC CUSTOMIZATIONS ----------- ##    # Axis Label fonts    \\n    fontTitle = {\\'fontsize\\': 16,\\n               \\'fontweight\\': \\'bold\\',\\n                \\'fontfamily\\':\\'serif\\'}\\n\\n    fontAxis = {\\'fontsize\\': 14,\\n               \\'fontweight\\': \\'bold\\',\\n                \\'fontfamily\\':\\'serif\\'}\\n\\n    fontTicks = {\\'fontsize\\': 12,\\n               \\'fontweight\\':\\'bold\\', \\n                \\'fontfamily\\':\\'serif\\'}\\n\\n    # Formatting dollar sign labels     \\n    fmtPrice = \\'${x:,.0f}\\'\\n    tickPrice = mtick.StrMethodFormatter(fmtPrice)\\n    \\n\\n    ## ----------- PLOTTING ----------- ##     \\n    ## Loop through dataframe to plot     \\n    for column in df.describe():\\n\\n        # Create figure with subplots for current column        \\n        # Note: in order to use identical syntax for large # of subplots (ax[i,j]),         declare an extra row of subplots to be removed later         \\n        fig, ax = plt.subplots(figsize=(12,10), ncols=2, nrows=2)\\n\\n        ## ----- SUBPLOT 1 -----##         \\n        i,j = 0,0\\n        ax[i,j].set_title(column.capitalize(),fontdict=fontTitle)\\n\\n        # Define graphing keyword dictionaries for distplot (Subplot 1)         \\n        hist_kws = {\"linewidth\": 1, \"alpha\": 1, \"color\": \\'blue\\',\\'edgecolor\\':\\'w\\'}\\n        kde_kws = {\"color\": \"white\", \"linewidth\": 1, \"label\": \"KDE\"}\\n\\n        # Plot distplot on ax[i,j] using hist_kws and kde_kws         \\n        sns.distplot(df[column], norm_hist=True, kde=True,\\n                     hist_kws = hist_kws, kde_kws = kde_kws,\\n                     label=column+\\' histogram\\', ax=ax[i,j])\\n\\n\\n        # Set x axis label         \\n        ax[i,j].set_xlabel(column.title(),fontdict=fontAxis)\\n\\n        # Get x-ticks, rotate labels, and return         \\n        xticklab1 = ax[i,j].get_xticklabels(which = \\'both\\')\\n        ax[i,j].set_xticklabels(labels=xticklab1, fontdict=fontTicks, rotation=45)\\n        ax[i,j].xaxis.set_major_formatter(mtick.ScalarFormatter())\\n\\n\\n        # Set y-label         \\n        ax[i,j].set_ylabel(\\'Density\\',fontdict=fontAxis)\\n        yticklab1=ax[i,j].get_yticklabels(which=\\'both\\')\\n        ax[i,j].set_yticklabels(labels=yticklab1,fontdict=fontTicks)\\n        ax[i,j].yaxis.set_major_formatter(mtick.ScalarFormatter())\\n\\n\\n        # Set y-grid         \\n        ax[i, j].set_axisbelow(True)\\n        ax[i, j].grid(axis=\\'y\\',ls=\\'--\\')\\n\\n\\n        ## ----- SUBPLOT 2----- ##         i,j = 0,1\\n        ax[i,j].set_title(column.capitalize(),fontdict=fontTitle)\\n\\n        # Define the ketword dictionaries for scatter plot and regression line (subplot 2)         line_kws={\"color\":\"white\",\"alpha\":0.5,\"lw\":4,\"ls\":\":\"}\\n        scatter_kws={\\'s\\': 2, \\'alpha\\': 0.5,\\'marker\\':\\'.\\',\\'color\\':\\'blue\\'}\\n\\n        # Plot regplot on ax[i,j] using line_kws and scatter_kws        \\n        sns.regplot(df[column], df[target], \\n#                     line_kws = line_kws,\\n                    scatter_kws = scatter_kws,\\n                    ax=ax[i,j])\\n\\n        # Set x-axis label        \\n        ax[i,j].set_xlabel(column.title(),fontdict=fontAxis)\\n\\n         # Get x ticks, rotate labels, and return         \\n        xticklab2=ax[i,j].get_xticklabels(which=\\'both\\')\\n        ax[i,j].set_xticklabels(labels=xticklab2,fontdict=fontTicks, rotation=45)\\n        ax[i,j].xaxis.set_major_formatter(mtick.ScalarFormatter())\\n\\n        # Set y-axis label         \\n        ax[i,j].set_ylabel(\\'Price\\',fontdict=fontAxis)\\n\\n        # Get, set, and format y-axis Price labels         \\n        yticklab = ax[i,j].get_yticklabels()\\n        ax[i,j].set_yticklabels(yticklab,fontdict=fontTicks)\\n        ax[i,j].get_yaxis().set_major_formatter(tickPrice) \\n\\n        # Set y-grid         \\n        ax[i, j].set_axisbelow(True)\\n        ax[i, j].grid(axis=\\'y\\',ls=\\'--\\')       \\n\\n        ## ---------- Final layout adjustments ----------- ##         # Deleted unused subplots         fig.delaxes(ax[1,1])\\n        fig.delaxes(ax[1,0])\\n\\n        # Optimizing spatial layout         \\n    fig.tight_layout()\\n    return \\n'"
      ]
     },
     "execution_count": 43,
     "metadata": {},
     "output_type": "execute_result"
    }
   ],
   "source": [
    "import inspect\n",
    "\n",
    "inspect.getsource(plot_hist_scat_sns)"
   ]
  },
  {
   "cell_type": "code",
   "execution_count": 75,
   "metadata": {
    "ExecuteTime": {
     "end_time": "2020-01-03T17:48:07.829239Z",
     "start_time": "2020-01-03T17:48:07.824162Z"
    },
    "colab": {
     "base_uri": "https://localhost:8080/",
     "height": 51
    },
    "colab_type": "code",
    "id": "Xa43lTyIabAR",
    "outputId": "3d9acc62-220a-44ba-acba-955a8505295c"
   },
   "outputs": [
    {
     "name": "stdout",
     "output_type": "stream",
     "text": [
      "False\n"
     ]
    },
    {
     "data": {
      "text/plain": [
       "True"
      ]
     },
     "execution_count": 75,
     "metadata": {},
     "output_type": "execute_result"
    }
   ],
   "source": [
    "import inspect\n",
    "print(inspect.ismethod(my_func_with_kws))\n",
    "inspect.isfunction(my_func_with_kws)"
   ]
  },
  {
   "cell_type": "code",
   "execution_count": 76,
   "metadata": {
    "ExecuteTime": {
     "end_time": "2020-01-03T17:48:14.709517Z",
     "start_time": "2020-01-03T17:48:14.705445Z"
    },
    "colab": {
     "base_uri": "https://localhost:8080/",
     "height": 51
    },
    "colab_type": "code",
    "id": "Xa43lTyIabAR",
    "outputId": "3d9acc62-220a-44ba-acba-955a8505295c"
   },
   "outputs": [
    {
     "data": {
      "text/plain": [
       "\"def my_func_with_kws(a,b,defaults='defined parameters',c=4):\\n    return a*b\\n\""
      ]
     },
     "execution_count": 76,
     "metadata": {},
     "output_type": "execute_result"
    }
   ],
   "source": [
    "inspect.getsource(my_func_with_kws)"
   ]
  },
  {
   "cell_type": "code",
   "execution_count": 79,
   "metadata": {
    "ExecuteTime": {
     "end_time": "2020-01-03T17:49:43.660610Z",
     "start_time": "2020-01-03T17:49:43.654150Z"
    }
   },
   "outputs": [
    {
     "name": "stdout",
     "output_type": "stream",
     "text": [
      "------------------------------------------------------------------------------------\n",
      "------ SOURCE ----------------------------------------------------------------------\n"
     ]
    },
    {
     "data": {
      "text/markdown": [
       "```python\n",
       "def ihelp(function_or_mod, show_help=True, show_code=True,return_code=False,markdown=True,file_location=False):\n",
       "    \"\"\"Call on any module or functon to display the object's\n",
       "    help command printout AND/OR soruce code displayed as Markdown\n",
       "    using Python-syntax\"\"\"\n",
       "    import inspect\n",
       "    \n",
       "    try:\n",
       "        from IPython.display import display, Markdown\n",
       "    except:\n",
       "        print('[!] IPython was not found.')\n",
       "        \n",
       "    page_header = '---'*28\n",
       "    # footer = '---'*28+'\\n'\n",
       "    if show_help:\n",
       "        print(page_header)\n",
       "        banner = ''.join([\"---\"*2,' HELP ',\"---\"*24,'\\n'])\n",
       "        print(banner)\n",
       "        help(function_or_mod)\n",
       "        # print(footer)\n",
       "        \n",
       "    import sys\n",
       "    if \"google.colab\" in sys.modules:\n",
       "        markdown=False\n",
       "\n",
       "    if show_code:\n",
       "        print(page_header)\n",
       "\n",
       "        banner = ''.join([\"---\"*2,' SOURCE -',\"---\"*23])\n",
       "        print(banner)\n",
       "        try:\n",
       "            import inspect\n",
       "            source_DF = inspect.getsource(function_or_mod)\n",
       "\n",
       "            if markdown == True:\n",
       "                \n",
       "                output = \"```python\" +'\\n'+source_DF+'\\n'+\"```\"\n",
       "                display(Markdown(output))\n",
       "            else:\n",
       "                print(source_DF)\n",
       "\n",
       "        except TypeError:\n",
       "            pass\n",
       "            # display(Markdown)\n",
       "\n",
       "\n",
       "    if file_location:\n",
       "        file_loc = inspect.getfile(function_or_mod)\n",
       "        banner = ''.join([\"---\"*2,' FILE LOCATION ',\"---\"*21])\n",
       "        print(page_header)\n",
       "        print(banner)\n",
       "        print(file_loc)\n",
       "\n",
       "    # print(footer)\n",
       "\n",
       "    if return_code:\n",
       "        return source_DF\n",
       "\n",
       "```"
      ],
      "text/plain": [
       "<IPython.core.display.Markdown object>"
      ]
     },
     "metadata": {},
     "output_type": "display_data"
    }
   ],
   "source": [
    "fs.ihelp(fs.ihelp,False)"
   ]
  },
  {
   "cell_type": "code",
   "execution_count": null,
   "metadata": {
    "ExecuteTime": {
     "end_time": "2020-01-03T00:45:38.481276Z",
     "start_time": "2020-01-03T00:45:38.477881Z"
    }
   },
   "outputs": [],
   "source": [
    "# def get_methods(obj):\n",
    "#     \"\"\" To see availabe methods in pfig\"\"\"\n",
    "#     method_list = [func for func in dir(obj) if callable(getattr(obj, func))]\n",
    "#     filt_methods = list(filter(lambda x: '_' not in x[0] ,method_list))\n",
    "#     return  filt_methods"
   ]
  },
  {
   "cell_type": "code",
   "execution_count": null,
   "metadata": {
    "ExecuteTime": {
     "end_time": "2020-01-03T00:45:40.036206Z",
     "start_time": "2020-01-03T00:45:40.029362Z"
    }
   },
   "outputs": [],
   "source": [
    "# get_methods(ax)"
   ]
  },
  {
   "cell_type": "markdown",
   "metadata": {},
   "source": [
    "# `filter`,`map`\n"
   ]
  },
  {
   "cell_type": "markdown",
   "metadata": {
    "colab_type": "text",
    "id": "v7yJekbScRjj"
   },
   "source": [
    "- `map` takes a function and then a list of the variables(iterables like lists,arrays,etc) to pass in as positional arguments to the function being passed\n",
    "\n",
    "EXAMPLE:\n",
    " \n",
    "```python\n",
    "\n",
    "def my_func(a,b):\n",
    "    return a*b\n",
    "\n",
    "A = [1,2,3]\n",
    "B = [2,3,4]\n",
    "list(map(my_func,A,))\n",
    "```\n",
    "- filter and map are **iterators**\n",
    "- wrap in a `list` or similar command to get output"
   ]
  },
  {
   "cell_type": "code",
   "execution_count": null,
   "metadata": {
    "ExecuteTime": {
     "end_time": "2020-01-03T00:11:56.345989Z",
     "start_time": "2020-01-03T00:11:56.341933Z"
    },
    "colab": {
     "base_uri": "https://localhost:8080/",
     "height": 198
    },
    "colab_type": "code",
    "id": "y06DXuEobZnm",
    "outputId": "ad076a7d-85c3-4a66-f448-9980d0c68276"
   },
   "outputs": [],
   "source": [
    "A = [1,2,3]\n",
    "B = [2,3,4]\n",
    "list(map(my_func,A,B))"
   ]
  },
  {
   "cell_type": "code",
   "execution_count": null,
   "metadata": {
    "ExecuteTime": {
     "end_time": "2020-01-03T00:12:14.281549Z",
     "start_time": "2020-01-03T00:12:14.277873Z"
    },
    "colab": {},
    "colab_type": "code",
    "id": "6qSyvKTwcckr"
   },
   "outputs": [],
   "source": [
    "def my_str_func(name,color,*args):\n",
    "    print(f\"Hello! My name is {name}.\")\n",
    "    print(f\"My favorite color is {color}\")\n",
    "    print(f\"A list of my favorite things:\")\n",
    "    # print(*args,sep='\\n')\n",
    "    [print('- ',arg) for arg in args]\n",
    "    print('\\n'*3)\n",
    "\n",
    "    # print(args[1])"
   ]
  },
  {
   "cell_type": "code",
   "execution_count": null,
   "metadata": {
    "ExecuteTime": {
     "end_time": "2020-01-03T00:12:16.970393Z",
     "start_time": "2020-01-03T00:12:16.964027Z"
    },
    "colab": {
     "base_uri": "https://localhost:8080/",
     "height": 221
    },
    "colab_type": "code",
    "id": "nr0qcUVed9NH",
    "outputId": "c4cf6680-d373-40e9-ee33-d0ef394f0409"
   },
   "outputs": [],
   "source": [
    "\n",
    "name = 'James'\n",
    "color = 'purple'\n",
    "\n",
    "fav1='Raindrops on roses'\n",
    "fav2='And whiskers on kittens'\n",
    "fav3='Bright copper kettles and warm woolen mittens'\n",
    "fav4='Brown paper packages tied up with string'\n",
    "fav5='These are a few of my favorite things'\n",
    "\n",
    "# my_favorite_things = my_favorite_things.split('\\n')\n",
    "my_str_func(name,color,fav1,fav2,fav3,fav4,fav5)"
   ]
  },
  {
   "cell_type": "code",
   "execution_count": null,
   "metadata": {},
   "outputs": [],
   "source": []
  },
  {
   "cell_type": "code",
   "execution_count": null,
   "metadata": {
    "ExecuteTime": {
     "end_time": "2020-01-03T00:12:45.980878Z",
     "start_time": "2020-01-03T00:12:45.976288Z"
    },
    "colab": {
     "base_uri": "https://localhost:8080/",
     "height": 119
    },
    "colab_type": "code",
    "id": "PhtxahCAeFyW",
    "outputId": "a7da4b0e-52ea-4710-8ad5-88cd55e700ba"
   },
   "outputs": [],
   "source": [
    "names = ['james','ben']\n",
    "colors = ['purple','blue']\n",
    "\n",
    "james_favs= [fav1,fav3,fav5]\n",
    "bens_favs = [fav2,fav5,fav5]\n",
    "\n",
    "favs = [james_favs,bens_favs]\n",
    "favs"
   ]
  },
  {
   "cell_type": "code",
   "execution_count": null,
   "metadata": {
    "ExecuteTime": {
     "end_time": "2020-01-03T00:13:12.776885Z",
     "start_time": "2020-01-03T00:13:12.773130Z"
    },
    "colab": {
     "base_uri": "https://localhost:8080/",
     "height": 34
    },
    "colab_type": "code",
    "id": "ZjFwAVNgg8Hc",
    "outputId": "b0122794-382d-4c81-9b2a-495d7654fcb8"
   },
   "outputs": [],
   "source": [
    "mapper = map(my_str_func,names,colors,*favs)\n",
    "mapper"
   ]
  },
  {
   "cell_type": "code",
   "execution_count": null,
   "metadata": {
    "ExecuteTime": {
     "end_time": "2020-01-03T00:13:26.685588Z",
     "start_time": "2020-01-03T00:13:26.679983Z"
    },
    "colab": {
     "base_uri": "https://localhost:8080/",
     "height": 340
    },
    "colab_type": "code",
    "id": "covlg0dDNaOr",
    "outputId": "bac7b999-4758-4975-fa72-1735661a3be4"
   },
   "outputs": [],
   "source": [
    "list(mapper)"
   ]
  },
  {
   "cell_type": "code",
   "execution_count": null,
   "metadata": {
    "ExecuteTime": {
     "end_time": "2020-01-03T00:15:45.212727Z",
     "start_time": "2020-01-03T00:15:45.208415Z"
    }
   },
   "outputs": [],
   "source": [
    "## filter example\n",
    "roses_things = []\n",
    "for fav in james_favs:\n",
    "    if 'roses' in fav:\n",
    "        roses_things.append(fav)\n",
    "roses_things"
   ]
  },
  {
   "cell_type": "code",
   "execution_count": null,
   "metadata": {
    "ExecuteTime": {
     "end_time": "2020-01-03T00:16:11.995686Z",
     "start_time": "2020-01-03T00:16:11.991634Z"
    }
   },
   "outputs": [],
   "source": [
    "list(filter(lambda x: 'roses' in x, james_favs))"
   ]
  },
  {
   "cell_type": "code",
   "execution_count": null,
   "metadata": {},
   "outputs": [],
   "source": [
    "np.isnan"
   ]
  },
  {
   "cell_type": "markdown",
   "metadata": {},
   "source": [
    "### Sidebar: in pandas, using `.apply` vs `.map`"
   ]
  },
  {
   "cell_type": "code",
   "execution_count": null,
   "metadata": {
    "ExecuteTime": {
     "end_time": "2020-01-03T00:23:32.488877Z",
     "start_time": "2020-01-03T00:23:32.436132Z"
    }
   },
   "outputs": [],
   "source": [
    "# df2=df.copy()\n",
    "def calc_combined(row):\n",
    "    row['combined']= (row['bedrooms']+row['bathrooms']) * row['floors']\n",
    "    return row\n",
    "# df2.apply(calc_combined,axis=1)\n",
    "\n",
    "def fix_yr_reno(x):\n",
    "    \n",
    "    if np.isnan(x):\n",
    "        return 'Missing'\n",
    "    else:\n",
    "        return (str(x))\n",
    "    \n",
    "\n",
    "df['yr_reno_str']  = df['yr_renovated'].apply(fix_yr_reno)\n",
    "df"
   ]
  },
  {
   "cell_type": "code",
   "execution_count": null,
   "metadata": {
    "ExecuteTime": {
     "end_time": "2020-01-03T00:25:14.893311Z",
     "start_time": "2020-01-03T00:25:14.887396Z"
    }
   },
   "outputs": [],
   "source": [
    "vals = df['condition'].unique()\n",
    "new_vals = ['a',3,'6',1,2]\n",
    "mapper = dict(zip(vals,new_vals))\n",
    "mapper"
   ]
  },
  {
   "cell_type": "code",
   "execution_count": null,
   "metadata": {
    "ExecuteTime": {
     "end_time": "2020-01-03T00:26:26.400650Z",
     "start_time": "2020-01-03T00:26:26.385142Z"
    }
   },
   "outputs": [],
   "source": [
    "df['condition'].map(mapper)\n",
    "df['condition'].apply(lambda x: mapper[x])"
   ]
  },
  {
   "cell_type": "code",
   "execution_count": null,
   "metadata": {
    "ExecuteTime": {
     "end_time": "2020-01-03T00:18:26.944503Z",
     "start_time": "2020-01-03T00:18:26.912354Z"
    }
   },
   "outputs": [],
   "source": [
    "def my_func(x):\n",
    "    return str(x)\n",
    "df2.apply(my_func)"
   ]
  },
  {
   "cell_type": "code",
   "execution_count": null,
   "metadata": {},
   "outputs": [],
   "source": []
  },
  {
   "cell_type": "markdown",
   "metadata": {
    "colab_type": "text",
    "id": "gft7vERjm2Bd"
   },
   "source": [
    "# Closures / `__call__()`"
   ]
  },
  {
   "cell_type": "markdown",
   "metadata": {},
   "source": [
    "- What is a closure?\n",
    "    - A closure is a bubble/pen of code that includes any functions and free variables contained therein"
   ]
  },
  {
   "cell_type": "code",
   "execution_count": 81,
   "metadata": {
    "ExecuteTime": {
     "end_time": "2020-01-03T17:51:27.832341Z",
     "start_time": "2020-01-03T17:51:27.829279Z"
    }
   },
   "outputs": [
    {
     "name": "stdout",
     "output_type": "stream",
     "text": [
      "Help on built-in function perf_counter in module time:\n",
      "\n",
      "perf_counter(...)\n",
      "    perf_counter() -> float\n",
      "    \n",
      "    Performance counter for benchmarking.\n",
      "\n"
     ]
    }
   ],
   "source": [
    "from time import perf_counter\n",
    "\n",
    "help(perf_counter)"
   ]
  },
  {
   "cell_type": "code",
   "execution_count": 89,
   "metadata": {
    "ExecuteTime": {
     "end_time": "2020-01-03T17:53:39.185389Z",
     "start_time": "2020-01-03T17:53:39.181664Z"
    },
    "colab": {},
    "colab_type": "code",
    "id": "15Q9msYchip-"
   },
   "outputs": [],
   "source": [
    "from time import perf_counter\n",
    "\n",
    "class Timer:\n",
    "    def __init__(self):\n",
    "        self.start = perf_counter()\n",
    "    def poll(self):\n",
    "        return perf_counter()-self.start\n",
    "    def reset(self):\n",
    "        self.start= perf_counter()\n"
   ]
  },
  {
   "cell_type": "code",
   "execution_count": 83,
   "metadata": {
    "ExecuteTime": {
     "end_time": "2020-01-03T17:52:34.828900Z",
     "start_time": "2020-01-03T17:52:34.826230Z"
    }
   },
   "outputs": [],
   "source": [
    "t1 = Timer()"
   ]
  },
  {
   "cell_type": "code",
   "execution_count": 84,
   "metadata": {
    "ExecuteTime": {
     "end_time": "2020-01-03T17:52:40.353940Z",
     "start_time": "2020-01-03T17:52:40.349866Z"
    }
   },
   "outputs": [
    {
     "data": {
      "text/plain": [
       "5.523788975999196"
      ]
     },
     "execution_count": 84,
     "metadata": {},
     "output_type": "execute_result"
    }
   ],
   "source": [
    "t1.poll()"
   ]
  },
  {
   "cell_type": "code",
   "execution_count": 85,
   "metadata": {
    "ExecuteTime": {
     "end_time": "2020-01-03T17:52:44.057229Z",
     "start_time": "2020-01-03T17:52:44.054001Z"
    }
   },
   "outputs": [
    {
     "data": {
      "text/plain": [
       "9.227449792999323"
      ]
     },
     "execution_count": 85,
     "metadata": {},
     "output_type": "execute_result"
    }
   ],
   "source": [
    "t1.poll()"
   ]
  },
  {
   "cell_type": "code",
   "execution_count": 87,
   "metadata": {
    "ExecuteTime": {
     "end_time": "2020-01-03T17:52:55.185633Z",
     "start_time": "2020-01-03T17:52:55.181754Z"
    }
   },
   "outputs": [
    {
     "data": {
      "text/plain": [
       "3.1304000003729016e-05"
      ]
     },
     "execution_count": 87,
     "metadata": {},
     "output_type": "execute_result"
    }
   ],
   "source": [
    "t1.reset()\n",
    "t1.poll()"
   ]
  },
  {
   "cell_type": "code",
   "execution_count": 95,
   "metadata": {
    "ExecuteTime": {
     "end_time": "2020-01-03T17:54:20.065868Z",
     "start_time": "2020-01-03T17:54:20.061852Z"
    }
   },
   "outputs": [],
   "source": [
    "from time import perf_counter\n",
    "\n",
    "class Timer:\n",
    "    def __init__(self):\n",
    "        self.start = perf_counter()\n",
    "    def poll(self):\n",
    "        return perf_counter()-self.start\n",
    "    def reset(self):\n",
    "        self.start= perf_counter()\n",
    "    def __call__(self):\n",
    "        return self.poll()"
   ]
  },
  {
   "cell_type": "code",
   "execution_count": 96,
   "metadata": {
    "ExecuteTime": {
     "end_time": "2020-01-03T17:54:20.904968Z",
     "start_time": "2020-01-03T17:54:20.901954Z"
    }
   },
   "outputs": [
    {
     "data": {
      "text/plain": [
       "<__main__.Timer at 0x1a1ffc06d8>"
      ]
     },
     "execution_count": 96,
     "metadata": {},
     "output_type": "execute_result"
    }
   ],
   "source": [
    "t2 = Timer()\n",
    "t2"
   ]
  },
  {
   "cell_type": "code",
   "execution_count": 97,
   "metadata": {
    "ExecuteTime": {
     "end_time": "2020-01-03T17:54:21.361448Z",
     "start_time": "2020-01-03T17:54:21.356880Z"
    }
   },
   "outputs": [
    {
     "data": {
      "text/plain": [
       "0.4552398939995328"
      ]
     },
     "execution_count": 97,
     "metadata": {},
     "output_type": "execute_result"
    }
   ],
   "source": [
    "t2()"
   ]
  },
  {
   "cell_type": "code",
   "execution_count": 100,
   "metadata": {
    "ExecuteTime": {
     "end_time": "2020-01-03T17:54:32.282289Z",
     "start_time": "2020-01-03T17:54:32.278687Z"
    }
   },
   "outputs": [
    {
     "data": {
      "text/plain": [
       "11.376860485999714"
      ]
     },
     "execution_count": 100,
     "metadata": {},
     "output_type": "execute_result"
    }
   ],
   "source": [
    "t2()"
   ]
  },
  {
   "cell_type": "code",
   "execution_count": 102,
   "metadata": {
    "ExecuteTime": {
     "end_time": "2020-01-03T17:57:13.800575Z",
     "start_time": "2020-01-03T17:57:13.797452Z"
    },
    "colab": {},
    "colab_type": "code",
    "id": "_VaslkyVonWm"
   },
   "outputs": [],
   "source": [
    "## Closure version\n",
    "def timer():\n",
    "    from time import perf_counter\n",
    "    import time\n",
    "    start = perf_counter()\n",
    "    def poll():\n",
    "        return perf_counter()-start\n",
    "    return poll"
   ]
  },
  {
   "cell_type": "code",
   "execution_count": 103,
   "metadata": {
    "ExecuteTime": {
     "end_time": "2020-01-03T17:57:18.062367Z",
     "start_time": "2020-01-03T17:57:18.059937Z"
    }
   },
   "outputs": [],
   "source": [
    "t3 = timer()"
   ]
  },
  {
   "cell_type": "code",
   "execution_count": 105,
   "metadata": {
    "ExecuteTime": {
     "end_time": "2020-01-03T17:57:32.566822Z",
     "start_time": "2020-01-03T17:57:32.562710Z"
    }
   },
   "outputs": [
    {
     "data": {
      "text/plain": [
       "14.50267983699996"
      ]
     },
     "execution_count": 105,
     "metadata": {},
     "output_type": "execute_result"
    }
   ],
   "source": [
    "t3()"
   ]
  },
  {
   "cell_type": "code",
   "execution_count": 106,
   "metadata": {
    "ExecuteTime": {
     "end_time": "2020-01-03T17:57:36.821291Z",
     "start_time": "2020-01-03T17:57:36.817334Z"
    }
   },
   "outputs": [
    {
     "data": {
      "text/plain": [
       "18.757430502000716"
      ]
     },
     "execution_count": 106,
     "metadata": {},
     "output_type": "execute_result"
    }
   ],
   "source": [
    "t3()"
   ]
  },
  {
   "cell_type": "code",
   "execution_count": 107,
   "metadata": {
    "ExecuteTime": {
     "end_time": "2020-01-03T17:57:44.760303Z",
     "start_time": "2020-01-03T17:57:44.755519Z"
    }
   },
   "outputs": [
    {
     "data": {
      "text/plain": [
       "26.695219622000877"
      ]
     },
     "execution_count": 107,
     "metadata": {},
     "output_type": "execute_result"
    }
   ],
   "source": [
    "t3()"
   ]
  },
  {
   "cell_type": "code",
   "execution_count": 108,
   "metadata": {
    "ExecuteTime": {
     "end_time": "2020-01-03T17:59:00.571487Z",
     "start_time": "2020-01-03T17:59:00.568512Z"
    }
   },
   "outputs": [
    {
     "name": "stdout",
     "output_type": "stream",
     "text": [
      "3.4188999052275904e-05\n",
      "102.50718332799988\n"
     ]
    }
   ],
   "source": [
    "t4=timer()\n",
    "print(t4())\n",
    "print(t3())"
   ]
  },
  {
   "cell_type": "markdown",
   "metadata": {
    "colab_type": "text",
    "id": "y2mAQqz9kX3-"
   },
   "source": [
    "# DECORATORS"
   ]
  },
  {
   "cell_type": "markdown",
   "metadata": {
    "colab_type": "text",
    "id": "OYv6FLsrt220"
   },
   "source": [
    "- Decorator functions:\n",
    "    - take a function as an arugment\n",
    "    - returns a closure\n",
    "    - closure accepts any \n",
    "    - combination of parameters\n",
    "    - closure function calls original function using the arguments passed to closure\n",
    "    - returns whatever is outputed by the function call\n",
    "    \n"
   ]
  },
  {
   "cell_type": "markdown",
   "metadata": {
    "colab_type": "text",
    "id": "TeRpmNgXl1py"
   },
   "source": [
    "`@` is a decorator operator, but you do not technically need to use to do decorator"
   ]
  },
  {
   "cell_type": "markdown",
   "metadata": {},
   "source": [
    "### @interact"
   ]
  },
  {
   "cell_type": "code",
   "execution_count": 109,
   "metadata": {
    "ExecuteTime": {
     "end_time": "2020-01-03T18:00:13.877695Z",
     "start_time": "2020-01-03T18:00:13.284037Z"
    }
   },
   "outputs": [
    {
     "data": {
      "text/html": [
       "<div>\n",
       "<style scoped>\n",
       "    .dataframe tbody tr th:only-of-type {\n",
       "        vertical-align: middle;\n",
       "    }\n",
       "\n",
       "    .dataframe tbody tr th {\n",
       "        vertical-align: top;\n",
       "    }\n",
       "\n",
       "    .dataframe thead th {\n",
       "        text-align: right;\n",
       "    }\n",
       "</style>\n",
       "<table border=\"1\" class=\"dataframe\">\n",
       "  <thead>\n",
       "    <tr style=\"text-align: right;\">\n",
       "      <th></th>\n",
       "      <th>id</th>\n",
       "      <th>date</th>\n",
       "      <th>price</th>\n",
       "      <th>bedrooms</th>\n",
       "      <th>bathrooms</th>\n",
       "      <th>sqft_living</th>\n",
       "      <th>sqft_lot</th>\n",
       "      <th>floors</th>\n",
       "      <th>waterfront</th>\n",
       "      <th>view</th>\n",
       "      <th>...</th>\n",
       "      <th>grade</th>\n",
       "      <th>sqft_above</th>\n",
       "      <th>sqft_basement</th>\n",
       "      <th>yr_built</th>\n",
       "      <th>yr_renovated</th>\n",
       "      <th>zipcode</th>\n",
       "      <th>lat</th>\n",
       "      <th>long</th>\n",
       "      <th>sqft_living15</th>\n",
       "      <th>sqft_lot15</th>\n",
       "    </tr>\n",
       "  </thead>\n",
       "  <tbody>\n",
       "    <tr>\n",
       "      <td>0</td>\n",
       "      <td>7129300520</td>\n",
       "      <td>10/13/2014</td>\n",
       "      <td>221900.0</td>\n",
       "      <td>3</td>\n",
       "      <td>1.00</td>\n",
       "      <td>1180</td>\n",
       "      <td>5650</td>\n",
       "      <td>1.0</td>\n",
       "      <td>NaN</td>\n",
       "      <td>0.0</td>\n",
       "      <td>...</td>\n",
       "      <td>7</td>\n",
       "      <td>1180</td>\n",
       "      <td>0.0</td>\n",
       "      <td>1955</td>\n",
       "      <td>0.0</td>\n",
       "      <td>98178</td>\n",
       "      <td>47.5112</td>\n",
       "      <td>-122.257</td>\n",
       "      <td>1340</td>\n",
       "      <td>5650</td>\n",
       "    </tr>\n",
       "    <tr>\n",
       "      <td>1</td>\n",
       "      <td>6414100192</td>\n",
       "      <td>12/9/2014</td>\n",
       "      <td>538000.0</td>\n",
       "      <td>3</td>\n",
       "      <td>2.25</td>\n",
       "      <td>2570</td>\n",
       "      <td>7242</td>\n",
       "      <td>2.0</td>\n",
       "      <td>0.0</td>\n",
       "      <td>0.0</td>\n",
       "      <td>...</td>\n",
       "      <td>7</td>\n",
       "      <td>2170</td>\n",
       "      <td>400.0</td>\n",
       "      <td>1951</td>\n",
       "      <td>1991.0</td>\n",
       "      <td>98125</td>\n",
       "      <td>47.7210</td>\n",
       "      <td>-122.319</td>\n",
       "      <td>1690</td>\n",
       "      <td>7639</td>\n",
       "    </tr>\n",
       "    <tr>\n",
       "      <td>2</td>\n",
       "      <td>5631500400</td>\n",
       "      <td>2/25/2015</td>\n",
       "      <td>180000.0</td>\n",
       "      <td>2</td>\n",
       "      <td>1.00</td>\n",
       "      <td>770</td>\n",
       "      <td>10000</td>\n",
       "      <td>1.0</td>\n",
       "      <td>0.0</td>\n",
       "      <td>0.0</td>\n",
       "      <td>...</td>\n",
       "      <td>6</td>\n",
       "      <td>770</td>\n",
       "      <td>0.0</td>\n",
       "      <td>1933</td>\n",
       "      <td>NaN</td>\n",
       "      <td>98028</td>\n",
       "      <td>47.7379</td>\n",
       "      <td>-122.233</td>\n",
       "      <td>2720</td>\n",
       "      <td>8062</td>\n",
       "    </tr>\n",
       "    <tr>\n",
       "      <td>3</td>\n",
       "      <td>2487200875</td>\n",
       "      <td>12/9/2014</td>\n",
       "      <td>604000.0</td>\n",
       "      <td>4</td>\n",
       "      <td>3.00</td>\n",
       "      <td>1960</td>\n",
       "      <td>5000</td>\n",
       "      <td>1.0</td>\n",
       "      <td>0.0</td>\n",
       "      <td>0.0</td>\n",
       "      <td>...</td>\n",
       "      <td>7</td>\n",
       "      <td>1050</td>\n",
       "      <td>910.0</td>\n",
       "      <td>1965</td>\n",
       "      <td>0.0</td>\n",
       "      <td>98136</td>\n",
       "      <td>47.5208</td>\n",
       "      <td>-122.393</td>\n",
       "      <td>1360</td>\n",
       "      <td>5000</td>\n",
       "    </tr>\n",
       "    <tr>\n",
       "      <td>4</td>\n",
       "      <td>1954400510</td>\n",
       "      <td>2/18/2015</td>\n",
       "      <td>510000.0</td>\n",
       "      <td>3</td>\n",
       "      <td>2.00</td>\n",
       "      <td>1680</td>\n",
       "      <td>8080</td>\n",
       "      <td>1.0</td>\n",
       "      <td>0.0</td>\n",
       "      <td>0.0</td>\n",
       "      <td>...</td>\n",
       "      <td>8</td>\n",
       "      <td>1680</td>\n",
       "      <td>0.0</td>\n",
       "      <td>1987</td>\n",
       "      <td>0.0</td>\n",
       "      <td>98074</td>\n",
       "      <td>47.6168</td>\n",
       "      <td>-122.045</td>\n",
       "      <td>1800</td>\n",
       "      <td>7503</td>\n",
       "    </tr>\n",
       "  </tbody>\n",
       "</table>\n",
       "<p>5 rows × 21 columns</p>\n",
       "</div>"
      ],
      "text/plain": [
       "           id        date     price  bedrooms  bathrooms  sqft_living  \\\n",
       "0  7129300520  10/13/2014  221900.0         3       1.00         1180   \n",
       "1  6414100192   12/9/2014  538000.0         3       2.25         2570   \n",
       "2  5631500400   2/25/2015  180000.0         2       1.00          770   \n",
       "3  2487200875   12/9/2014  604000.0         4       3.00         1960   \n",
       "4  1954400510   2/18/2015  510000.0         3       2.00         1680   \n",
       "\n",
       "   sqft_lot  floors  waterfront  view  ...  grade  sqft_above  sqft_basement  \\\n",
       "0      5650     1.0         NaN   0.0  ...      7        1180            0.0   \n",
       "1      7242     2.0         0.0   0.0  ...      7        2170          400.0   \n",
       "2     10000     1.0         0.0   0.0  ...      6         770            0.0   \n",
       "3      5000     1.0         0.0   0.0  ...      7        1050          910.0   \n",
       "4      8080     1.0         0.0   0.0  ...      8        1680            0.0   \n",
       "\n",
       "  yr_built  yr_renovated  zipcode      lat     long  sqft_living15  sqft_lot15  \n",
       "0     1955           0.0    98178  47.5112 -122.257           1340        5650  \n",
       "1     1951        1991.0    98125  47.7210 -122.319           1690        7639  \n",
       "2     1933           NaN    98028  47.7379 -122.233           2720        8062  \n",
       "3     1965           0.0    98136  47.5208 -122.393           1360        5000  \n",
       "4     1987           0.0    98074  47.6168 -122.045           1800        7503  \n",
       "\n",
       "[5 rows x 21 columns]"
      ]
     },
     "execution_count": 109,
     "metadata": {},
     "output_type": "execute_result"
    }
   ],
   "source": [
    "df = fs.datasets.load_mod1_proj()\n",
    "df.head()"
   ]
  },
  {
   "cell_type": "code",
   "execution_count": 110,
   "metadata": {
    "ExecuteTime": {
     "end_time": "2020-01-03T18:00:18.953223Z",
     "start_time": "2020-01-03T18:00:18.948403Z"
    }
   },
   "outputs": [],
   "source": [
    "df = df.drop(columns=['date','sqft_basement'])"
   ]
  },
  {
   "cell_type": "code",
   "execution_count": 112,
   "metadata": {
    "ExecuteTime": {
     "end_time": "2020-01-03T18:01:50.504677Z",
     "start_time": "2020-01-03T18:01:50.425091Z"
    }
   },
   "outputs": [
    {
     "data": {
      "application/vnd.jupyter.widget-view+json": {
       "model_id": "ebabc328ee9d4559b7bc61afd9dade97",
       "version_major": 2,
       "version_minor": 0
      },
      "text/plain": [
       "GridBox(box_style='warning', children=(VBox(children=(Label(value='iHelp Menu: View Help and/or Source Code'),…"
      ]
     },
     "metadata": {},
     "output_type": "display_data"
    },
    {
     "data": {
      "application/vnd.jupyter.widget-view+json": {
       "model_id": "95808ae0ba3648e9a14d0d237721caef",
       "version_major": 2,
       "version_minor": 0
      },
      "text/plain": [
       "Output()"
      ]
     },
     "metadata": {},
     "output_type": "display_data"
    }
   ],
   "source": [
    "fs.ihelp_menu(fs.ihelp)"
   ]
  },
  {
   "cell_type": "code",
   "execution_count": 113,
   "metadata": {
    "ExecuteTime": {
     "end_time": "2020-01-03T18:03:19.828141Z",
     "start_time": "2020-01-03T18:03:19.437671Z"
    },
    "scrolled": true
   },
   "outputs": [
    {
     "data": {
      "application/vnd.jupyter.widget-view+json": {
       "model_id": "bc50833ea84e459c9b756133bd8d851f",
       "version_major": 2,
       "version_minor": 0
      },
      "text/plain": [
       "interactive(children=(Dropdown(description='x', options=('id', 'price', 'bedrooms', 'bathrooms', 'sqft_living'…"
      ]
     },
     "metadata": {},
     "output_type": "display_data"
    }
   ],
   "source": [
    "from ipywidgets import interact\n",
    "\n",
    "cols = df.columns\n",
    "\n",
    "@interact\n",
    "def scatter(x=df.columns,y='price',Example=False):\n",
    "    df.plot(kind='scatter',x=x,y=y)"
   ]
  },
  {
   "cell_type": "markdown",
   "metadata": {},
   "source": [
    "## ACTIVITY: Writing a decorator"
   ]
  },
  {
   "cell_type": "code",
   "execution_count": 116,
   "metadata": {
    "ExecuteTime": {
     "end_time": "2020-01-03T18:05:31.088121Z",
     "start_time": "2020-01-03T18:05:31.084749Z"
    }
   },
   "outputs": [
    {
     "name": "stdout",
     "output_type": "stream",
     "text": [
      "4 2\n"
     ]
    }
   ],
   "source": [
    "def inner(*args,**kwargs):\n",
    "    print(len(args),len(kwargs))\n",
    "    \n",
    "inner(3,5,7,8,cat='dog',weird=True)\n"
   ]
  },
  {
   "cell_type": "code",
   "execution_count": 120,
   "metadata": {
    "ExecuteTime": {
     "end_time": "2020-01-03T18:09:20.114530Z",
     "start_time": "2020-01-03T18:09:20.109398Z"
    }
   },
   "outputs": [],
   "source": [
    "def timed(fn):\n",
    "    from time import perf_counter\n",
    "    \n",
    "    def inner(*args,**kwargs):\n",
    "        start = perf_counter()\n",
    "        \n",
    "        result = fn(*args, **kwargs)\n",
    "        \n",
    "        end = perf_counter()\n",
    "        elapsed = end-start\n",
    "        \n",
    "        arg_str = [str(a) for a in args]\n",
    "        kwarg_str = [f\"{k}={v}\" for  k,v in kwargs.items()]\n",
    "        \n",
    "        all_args = arg_str + kwarg_str\n",
    "        args_str_out = ','.join(all_args)\n",
    "        \n",
    "        print(f\"{fn.__name__}({args_str_out}) took {elapsed:.6f}\")\n",
    "        return result\n",
    "    return inner\n"
   ]
  },
  {
   "cell_type": "code",
   "execution_count": 124,
   "metadata": {
    "ExecuteTime": {
     "end_time": "2020-01-03T18:13:24.659171Z",
     "start_time": "2020-01-03T18:13:24.656183Z"
    }
   },
   "outputs": [],
   "source": [
    "# @timed\n",
    "def calc_recursive_fib(n):\n",
    "    \"\"\"Calcs a recursive fib seqeuence based on n\"\"\"\n",
    "    if n<=2:\n",
    "        return 1\n",
    "    else:\n",
    "        return calc_recursive_fib(n-1)+calc_recursive_fib(n-2)"
   ]
  },
  {
   "cell_type": "code",
   "execution_count": 125,
   "metadata": {
    "ExecuteTime": {
     "end_time": "2020-01-03T18:13:30.151485Z",
     "start_time": "2020-01-03T18:13:30.148815Z"
    }
   },
   "outputs": [
    {
     "name": "stdout",
     "output_type": "stream",
     "text": [
      "Help on function calc_recursive_fib in module __main__:\n",
      "\n",
      "calc_recursive_fib(n)\n",
      "    Calcs a recursive fib seqeuence based on n\n",
      "\n"
     ]
    }
   ],
   "source": [
    "help(calc_recursive_fib)"
   ]
  },
  {
   "cell_type": "code",
   "execution_count": 126,
   "metadata": {
    "ExecuteTime": {
     "end_time": "2020-01-03T18:13:48.758966Z",
     "start_time": "2020-01-03T18:13:48.755148Z"
    }
   },
   "outputs": [
    {
     "name": "stdout",
     "output_type": "stream",
     "text": [
      "Help on function inner in module __main__:\n",
      "\n",
      "inner(*args, **kwargs)\n",
      "\n"
     ]
    }
   ],
   "source": [
    "@timed\n",
    "def calc_recursive_fib(n):\n",
    "    \"\"\"Calcs a recursive fib seqeuence based on n\"\"\"\n",
    "    if n<=2:\n",
    "        return 1\n",
    "    else:\n",
    "        return calc_recursive_fib(n-1)+calc_recursive_fib(n-2)\n",
    "help(calc_recursive_fib)"
   ]
  },
  {
   "cell_type": "code",
   "execution_count": 122,
   "metadata": {
    "ExecuteTime": {
     "end_time": "2020-01-03T18:09:22.659393Z",
     "start_time": "2020-01-03T18:09:22.654547Z"
    }
   },
   "outputs": [
    {
     "name": "stdout",
     "output_type": "stream",
     "text": [
      "calc_recursive_fib(2) took 0.000001\n",
      "calc_recursive_fib(1) took 0.000000\n",
      "calc_recursive_fib(3) took 0.000057\n",
      "calc_recursive_fib(2) took 0.000001\n",
      "calc_recursive_fib(4) took 0.001021\n"
     ]
    },
    {
     "data": {
      "text/plain": [
       "3"
      ]
     },
     "execution_count": 122,
     "metadata": {},
     "output_type": "execute_result"
    }
   ],
   "source": [
    "calc_recursive_fib(4)"
   ]
  },
  {
   "cell_type": "markdown",
   "metadata": {
    "colab_type": "text",
    "id": "2YH05NMbwAK9"
   },
   "source": [
    "### `functools.wraps` to solve decorated function identity issues\n"
   ]
  },
  {
   "cell_type": "code",
   "execution_count": 127,
   "metadata": {
    "ExecuteTime": {
     "end_time": "2020-01-03T18:14:38.175662Z",
     "start_time": "2020-01-03T18:14:38.170729Z"
    },
    "colab": {},
    "colab_type": "code",
    "id": "GYCjU0toyRcY"
   },
   "outputs": [],
   "source": [
    "def timed(fn):\n",
    "    from time import perf_counter\n",
    "    from functools import wraps\n",
    "    \n",
    "    @wraps(fn)\n",
    "    def inner(*args,**kwargs):\n",
    "        start = perf_counter()\n",
    "        \n",
    "        result = fn(*args, **kwargs)\n",
    "        \n",
    "        end = perf_counter()\n",
    "        elapsed = end-start\n",
    "        \n",
    "        arg_str = [str(a) for a in args]\n",
    "        kwarg_str = [f\"{k}={v}\" for  k,v in kwargs.items()]\n",
    "        \n",
    "        all_args = arg_str + kwarg_str\n",
    "        args_str_out = ','.join(all_args)\n",
    "        \n",
    "        print(f\"{fn.__name__}({args_str_out}) took {elapsed:.6f}\")\n",
    "        return result\n",
    "    return inner\n"
   ]
  },
  {
   "cell_type": "code",
   "execution_count": 128,
   "metadata": {
    "ExecuteTime": {
     "end_time": "2020-01-03T18:14:46.708028Z",
     "start_time": "2020-01-03T18:14:46.702701Z"
    }
   },
   "outputs": [
    {
     "name": "stdout",
     "output_type": "stream",
     "text": [
      "Help on function calc_recursive_fib in module __main__:\n",
      "\n",
      "calc_recursive_fib(n)\n",
      "    Calcs a recursive fib seqeuence based on n\n",
      "\n"
     ]
    }
   ],
   "source": [
    "@timed\n",
    "def calc_recursive_fib(n):\n",
    "    \"\"\"Calcs a recursive fib seqeuence based on n\"\"\"\n",
    "    if n<=2:\n",
    "        return 1\n",
    "    else:\n",
    "        return calc_recursive_fib(n-1)+calc_recursive_fib(n-2)\n",
    "help(calc_recursive_fib)"
   ]
  },
  {
   "cell_type": "markdown",
   "metadata": {},
   "source": []
  },
  {
   "cell_type": "markdown",
   "metadata": {},
   "source": [
    "# APPENDIX"
   ]
  },
  {
   "cell_type": "markdown",
   "metadata": {},
   "source": [
    "## Special Class Methods  (@staticmethod, @property,etc)\n",
    "- Demo EncryptedPassword class using @property "
   ]
  },
  {
   "cell_type": "markdown",
   "metadata": {},
   "source": [
    "#### Some special decorators used in classes.\n",
    "\n",
    "1. `@staticmethod`:\n",
    "    - Defines a method that does not get passed `self` when its called and can act on external code as if it was a function, not a \"`bound method`\"\n",
    "2. `@classmethod`:\n",
    "    - Specifies a method that should always refer to the default method spelled out in the class definition, NOT the version of it that is stored inside the **instance** of a method.\n",
    "3. `@property`: (see example class `EncryptedPassword` below.)\n",
    "    - Specifies that a function is going to determine the value of the `class.property`:\n",
    "    - Essentially replaces the property name with a getter function to determine that value.\n",
    "    - Use '@property.setter' above another function to define it as the setter function. "
   ]
  },
  {
   "cell_type": "code",
   "execution_count": 129,
   "metadata": {
    "ExecuteTime": {
     "end_time": "2020-01-03T18:17:24.190404Z",
     "start_time": "2020-01-03T18:17:24.167039Z"
    },
    "colab": {},
    "colab_type": "code",
    "id": "HdwS-sj42VSD"
   },
   "outputs": [],
   "source": [
    "class EncryptedPassword():\n",
    "    \"\"\"Class that can be used to either provide a password/username to be encrypted \n",
    "    OR to load a previously encypted password from file.    \n",
    "    NOTE: Once you have encrypted your password and saved to bin files, you do not need to provide the password again. \n",
    "    Make sure to delete your password from the notebook after. \n",
    "    - If encrypting a password, a key file and a password file will be saved to disk. \n",
    "        - Default Key Filename: '..\\\\encryption_key.bin',\n",
    "        - Default Password Filename: '..\\\\encrypted_pwd.bin'\n",
    "        - Default Username Filename: '..\\\\encrypted_username.bin'\n",
    "    \n",
    "    The string representations of the unencrypted password are shielded from displaying, when possible. \n",
    "    \n",
    "\n",
    "\n",
    "    - If opening and decrypting key and password files, pass filenames during initialization. \n",
    "    \n",
    "    \n",
    "    Example Usage:\n",
    "    >> # To Encrypt, with default folders:\n",
    "    >> my_pwd EncryptedPassword('my_password')\n",
    "    \n",
    "    >> # To Encrypt With custom folders\n",
    "    >> my_pwd = EncryptedPassword('my_password',filename_for_key='..\\folder_outside_repo\\key.bin',\n",
    "                                    filename_for_password = '..\\folder_outside_repo\\key.bin')\n",
    "                                    \n",
    "                                    \n",
    "    >> # To open and decrypt files (from default folders):\n",
    "    >> my_pwd = EncryptedPassword(from_file=True)\n",
    "    \n",
    "    >> # To open and decrypt files (from custom folders):\n",
    "    >> my_pwd = EncryptedPassword(from_file=True, \n",
    "                                filename_for_key='..\\folder_outside_repo\\key.bin',\n",
    "                                filename_for_password = '..\\folder_outside_repo\\key.bin')\n",
    "                                    \n",
    "        \n",
    "    \"\"\"\n",
    "    \n",
    "    ## Default username\n",
    "    username = 'NOT PROVIDED'\n",
    "    \n",
    "    ## the .password property is designed so it will not display an unencrypted password. \n",
    "    @property ## password getter \n",
    "    def password(self):\n",
    "        # if the encrypyted password already exists, print the encrypted pwd (unusable without key)\n",
    "        if hasattr(self,'_encrypted_password_'):\n",
    "            print('Encrypted Password:')\n",
    "            return self._encrypted_password_\n",
    "        else:\n",
    "            raise Exception('Password not yet encrypted.')\n",
    "    \n",
    "    ## the .password property cannot be set by a user\n",
    "    @password.setter ## password setter\n",
    "    def password(self,password):\n",
    "        raise Exception('.password is read only.')\n",
    "        \n",
    "               \n",
    "    ## \n",
    "    def __init__(self,username=None,password=None,from_file=False, encrypt=True,\n",
    "                filename_for_key='..\\\\encryption_key.bin',\n",
    "                filename_for_password='..\\\\encrypted_pwd.bin',\n",
    "                filename_for_username = '..\\\\encrypted_username.bin'):\n",
    "        \"\"\"Accepts either a username and password to encyrypt, \n",
    "        or loads a previously encrypyed password from file.\n",
    "        \n",
    "        Args:\n",
    "            username (str): email username.\n",
    "            password (str): email password (note: if have 2-factor authentication on email account, \n",
    "                will need app-specific password).\n",
    "            from_file (bool): whether to load the user credentials from file\n",
    "            encrypt (bool): whether to encrypt provided password. Default=True\n",
    "            \n",
    "            filename_for_key (str): filepath for key.bin (default is'..\\\\encryption_key.bin')\n",
    "            filename_for_password: filepath for password.bin (default is'..\\\\encryption_pwd.bin')\n",
    "            filename_for_username: filepath for username.bin (default is'..\\\\encrypted_username.bin')\n",
    "            \"\"\"\n",
    "        \n",
    "        ## Save filenames \n",
    "        self.filename_for_key = filename_for_key\n",
    "        self.filename_for_password = filename_for_password\n",
    "        self.filename_for_username = filename_for_username\n",
    "        \n",
    "        ## If user passed a username, set username\n",
    "        if username is not None:\n",
    "            self.username = username\n",
    "        \n",
    "        ## If no password is provided:\n",
    "        if (password is None):\n",
    "            \n",
    "            ##  if load from file if `from_file`=True\n",
    "            if (from_file==True):\n",
    "                \n",
    "                try: ## Load in the key, password, username files\n",
    "                    self.load_from_file(key_filename=filename_for_key,\n",
    "                                    password_filename=filename_for_password,\n",
    "                                        username_filename=filename_for_username)\n",
    "                except:\n",
    "                    raise Exception('Something went wrong. Do the key and password files exist?')\n",
    "            \n",
    "            ## If no password provided, and from_file=False, raise error\n",
    "            else:\n",
    "                raise Exception('Must either provide a password to encrypt, or set from_file=True')\n",
    "        \n",
    "        \n",
    "        ## If the user DOES provide a password\n",
    "        else:\n",
    "            self._password_ = password # set the private attribute for password\n",
    "            \n",
    "            ## Encrypt the password\n",
    "            if encrypt:\n",
    "                self.encrypt_password()\n",
    "                \n",
    "                \n",
    "    def encrypt_password(self, show_encrypted_password=False):\n",
    "        \"\"\"Encrypt the key, username, and password and save to external files.\"\"\"\n",
    "         ## Get filenames to use.\n",
    "        filename_for_key= self.filename_for_key\n",
    "        filename_for_password=self.filename_for_password\n",
    "        filename_for_username = self.filename_for_username\n",
    "\n",
    "        ## Import cryptography and generate encryption key\n",
    "        from cryptography.fernet import Fernet\n",
    "        key = Fernet.generate_key()\n",
    "        self._key_ = key\n",
    "\n",
    "        ## Create the cipher_suit from key for encrypting/decrypting\n",
    "        cipher_suite = Fernet(key)\n",
    "        self._cipher_suite_ = cipher_suite\n",
    " \n",
    "        ## ENCRYPT PASSWORD\n",
    "        # Get password and change to byte encoding\n",
    "        password = self._password_\n",
    "        password_to_encrypt = bytes(password,'utf-8') #password must be in bytes format\n",
    "        \n",
    "        # Use the encryption suite to encrypt the password and save to self\n",
    "        ciphered_pwd = cipher_suite.encrypt(password_to_encrypt)\n",
    "        self._encrypted_password_ = bytes(ciphered_pwd).decode('utf-8')\n",
    "        \n",
    "        # Print encrypyted password if true\n",
    "        if show_encrypted_password:\n",
    "            print('Encrypyted Password:')\n",
    "            print(self._encrypted_password_)\n",
    "        \n",
    "        \n",
    "        ## ENCRYPT USERNAME\n",
    "        username = self.username\n",
    "        username_to_encrypt = bytes(username,'utf-8')\n",
    "        ciphered_username = cipher_suite.encrypt(username_to_encrypt)\n",
    "        self._encrypted_username_ = bytes(ciphered_username).decode('utf-8')\n",
    "        \n",
    "        ## TEST DECRYPTION\n",
    "        # decrypt password and username\n",
    "        unciphered_pwd = cipher_suite.decrypt(ciphered_pwd)\n",
    "        unciphered_username = cipher_suite.decrypt(ciphered_username)\n",
    "        \n",
    "        ## Decode from bytes to utf-8\n",
    "        password_decoded = unciphered_pwd.decode('utf-8')\n",
    "        username_decoded = unciphered_username.decode('utf-8')\n",
    "        \n",
    "        # Check if decoded text matches input text\n",
    "        check_pwd = password_decoded==password\n",
    "        check_user = username_decoded==username\n",
    "        \n",
    "        ## If everything matches, warn user to delete their exposed password\n",
    "        if  check_pwd & check_user:\n",
    "            self._password_ = password_decoded \n",
    "            print('[!] Make sure to delete typed password above from class instantiation.')\n",
    "        else:\n",
    "            raise Exception('Decrypted password and input password/username do not match. Something went wrong.')\n",
    "\n",
    "        ## SAVE KEY, PASSWORD, AND USERNAME TO BIN FILES\n",
    "        ## Specify binary files (outside of repo) for storing key and password files\n",
    "        with open(filename_for_key,'wb') as file:\n",
    "            file.write(key)\n",
    "\n",
    "        with open(filename_for_password,'wb') as file:\n",
    "            file.write(ciphered_pwd)\n",
    "            \n",
    "        with open(filename_for_username,'wb') as file:\n",
    "            file.write(ciphered_username)\n",
    "\n",
    "        # Display filepaths for user.\n",
    "        print(f'[io] Encryption Key saved as {filename_for_key}')\n",
    "        print(f'[io] Encrypted Password saved as {filename_for_password}')\n",
    "        print(f'[io] Encrypted Username saved as {filename_for_username}')\n",
    "\n",
    "            \n",
    "    \n",
    "    def load_from_file(self,key_filename,password_filename,\n",
    "                      username_filename):\n",
    "        \"\"\"Load in the encrypted password from file. \"\"\"\n",
    "        \n",
    "        from cryptography.fernet import Fernet\n",
    "        \n",
    "        ## Load Key \n",
    "        with open(key_filename,'rb') as file:\n",
    "            for line in file:\n",
    "                key = line\n",
    "\n",
    "        ## Make ciphere suite from key\n",
    "        cipher_suite = Fernet(key)\n",
    "        self._cipher_suite_ = cipher_suite\n",
    "\n",
    "        ## Load password\n",
    "        with open(password_filename,'rb') as file:\n",
    "            for line in file:\n",
    "                encryptedpwd = line\n",
    "        self._encrypted_password_ = encryptedpwd\n",
    "        \n",
    "        ## Decrypt password\n",
    "        unciphered_text = (cipher_suite.decrypt(encryptedpwd))\n",
    "        plain_text_encrypted_password = bytes(unciphered_text).decode('utf-8')\n",
    "        self._password_ = plain_text_encrypted_password\n",
    "        \n",
    "        ## Load username\n",
    "        with open(username_filename,'rb') as file:\n",
    "            for line in file:\n",
    "                username = line\n",
    "        unciphered_username = (cipher_suite.decrypt(username))\n",
    "        plan_text_username = bytes(unciphered_username).decode('utf-8')\n",
    "        self.username = plan_text_username\n",
    "        \n",
    "    def __repr__(self):\n",
    "        \"\"\"Controls the printout when the object is the final command in a cell.\n",
    "        i.e:\n",
    "        >> pwd =EncrypytedPassword(username='me',password='secret')\n",
    "        >> pwd\n",
    "        \"\"\"\n",
    "        password = self._password_\n",
    "        msg = f'[i] Password is {len(password)} chars long.'\n",
    "        return msg\n",
    "\n",
    "    def __str__(self):\n",
    "        \"\"\"Controls the printout when the object is printed.\n",
    "        i.e:\n",
    "        >> pwd =EncrypytedPassword(username='me',password='secret')\n",
    "        >> print(pwd)\n",
    "        \"\"\"\n",
    "        password = self._password_\n",
    "        msg = f'[i] Password is {len(password)} chars long.'\n",
    "        return msg "
   ]
  },
  {
   "cell_type": "code",
   "execution_count": 130,
   "metadata": {
    "ExecuteTime": {
     "end_time": "2020-01-03T18:17:25.979072Z",
     "start_time": "2020-01-03T18:17:25.843514Z"
    }
   },
   "outputs": [
    {
     "name": "stdout",
     "output_type": "stream",
     "text": [
      "[!] Make sure to delete typed password above from class instantiation.\n",
      "[io] Encryption Key saved as ..\\encryption_key.bin\n",
      "[io] Encrypted Password saved as ..\\encrypted_pwd.bin\n",
      "[io] Encrypted Username saved as ..\\encrypted_username.bin\n",
      "Encrypted Password:\n"
     ]
    },
    {
     "data": {
      "text/plain": [
       "'gAAAAABeD4U1_uIf-dnhmb6wE_uvH8erL4R50E289YU4uTJBg7dZrrrEF8lIs2WTdqh0DxLhsBNhJh34vxNJLEx4WwiNgLy95Q=='"
      ]
     },
     "execution_count": 130,
     "metadata": {},
     "output_type": "execute_result"
    }
   ],
   "source": [
    "enc = EncryptedPassword('','')\n",
    "enc.password"
   ]
  },
  {
   "cell_type": "code",
   "execution_count": 131,
   "metadata": {
    "ExecuteTime": {
     "end_time": "2020-01-03T18:17:41.429164Z",
     "start_time": "2020-01-03T18:17:41.402737Z"
    }
   },
   "outputs": [
    {
     "ename": "Exception",
     "evalue": ".password is read only.",
     "output_type": "error",
     "traceback": [
      "\u001b[0;31m---------------------------------------------------------------------------\u001b[0m",
      "\u001b[0;31mException\u001b[0m                                 Traceback (most recent call last)",
      "\u001b[0;32m<ipython-input-131-5504df4b15dd>\u001b[0m in \u001b[0;36m<module>\u001b[0;34m\u001b[0m\n\u001b[0;32m----> 1\u001b[0;31m \u001b[0menc\u001b[0m\u001b[0;34m.\u001b[0m\u001b[0mpassword\u001b[0m \u001b[0;34m=\u001b[0m \u001b[0;34m'bob'\u001b[0m\u001b[0;34m\u001b[0m\u001b[0;34m\u001b[0m\u001b[0m\n\u001b[0m",
      "\u001b[0;32m<ipython-input-129-cd717dde308c>\u001b[0m in \u001b[0;36mpassword\u001b[0;34m(self, password)\u001b[0m\n\u001b[1;32m     52\u001b[0m     \u001b[0;34m@\u001b[0m\u001b[0mpassword\u001b[0m\u001b[0;34m.\u001b[0m\u001b[0msetter\u001b[0m \u001b[0;31m## password setter\u001b[0m\u001b[0;34m\u001b[0m\u001b[0;34m\u001b[0m\u001b[0m\n\u001b[1;32m     53\u001b[0m     \u001b[0;32mdef\u001b[0m \u001b[0mpassword\u001b[0m\u001b[0;34m(\u001b[0m\u001b[0mself\u001b[0m\u001b[0;34m,\u001b[0m\u001b[0mpassword\u001b[0m\u001b[0;34m)\u001b[0m\u001b[0;34m:\u001b[0m\u001b[0;34m\u001b[0m\u001b[0;34m\u001b[0m\u001b[0m\n\u001b[0;32m---> 54\u001b[0;31m         \u001b[0;32mraise\u001b[0m \u001b[0mException\u001b[0m\u001b[0;34m(\u001b[0m\u001b[0;34m'.password is read only.'\u001b[0m\u001b[0;34m)\u001b[0m\u001b[0;34m\u001b[0m\u001b[0;34m\u001b[0m\u001b[0m\n\u001b[0m\u001b[1;32m     55\u001b[0m \u001b[0;34m\u001b[0m\u001b[0m\n\u001b[1;32m     56\u001b[0m \u001b[0;34m\u001b[0m\u001b[0m\n",
      "\u001b[0;31mException\u001b[0m: .password is read only."
     ]
    }
   ],
   "source": [
    "enc.password = 'bob'"
   ]
  },
  {
   "cell_type": "markdown",
   "metadata": {
    "colab_type": "text",
    "id": "BKSo4VocGnWz"
   },
   "source": [
    "## Operators"
   ]
  },
  {
   "cell_type": "code",
   "execution_count": null,
   "metadata": {},
   "outputs": [],
   "source": []
  },
  {
   "cell_type": "markdown",
   "metadata": {
    "colab_type": "text",
    "id": "Asbo3Is7GIxQ"
   },
   "source": [
    "- Table extracted from https://www.programiz.com/python-programming/operators\n",
    "\n",
    "|Operator|Meaning | \tExample|\n",
    "| --- | --- | --- |\n",
    "|+ |\tAdd two operands | x + y|\n",
    "|-\t| Subtract right operand from the left |\tx - y|\n",
    "|*\t| Multiply two operands\t| x * y|\n",
    "|/ |\tDivide left operand by the right one (always results into float) |\tx / y|\n",
    "|%\t| Modulus - remainder of the division of left operand by the right\t| x % y (remainder of x/y)|\n",
    "|//\t| Floor division - division that results into whole number adjusted to the left in the number line\tx |// y|\n",
    "|**\t| Exponent - left operand raised to the power of right|\tx**y (x to the power y)|\n",
    "|>\t| Greater than - True if left operand is greater than the right|\tx > y|\n",
    "|<\t| Less than - True if left operand is less than the right\t|x < y|\n",
    "|== |\tEqual to - True if both operands are equal|\tx == y|\n",
    "|!= |\tNot equal to - True if operands are not equal\t|x != y|\n",
    "|>=\t| Greater than or equal to - True if left operand is greater than or equal to the right\t|x >= y|\n",
    "|<=\t| Less than or equal to - True if left operand is less than or equal to the right|\tx <= y|"
   ]
  },
  {
   "cell_type": "markdown",
   "metadata": {
    "colab_type": "text",
    "id": "lIDORdDugCQ9"
   },
   "source": [
    "## NOTES RE WRITING FUNCTIONS\n"
   ]
  },
  {
   "cell_type": "markdown",
   "metadata": {},
   "source": [
    "- We did not have as much of a structured example for this secrtion, but we did spend some time going over parts of this [colab notebook on functions and classes](https://colab.research.google.com/drive/1yFxbdbNGdG2iVCyd52Wg8RADa7g9KzZ3#scrollTo=UzoyQIMRlKQL)"
   ]
  },
  {
   "cell_type": "markdown",
   "metadata": {
    "colab_type": "text",
    "id": "Hv8-aE7u9Zw3"
   },
   "source": [
    "**Functions**:\n",
    "- try,except,finally\n",
    "- raising Exceptions\n",
    "- assertions\n",
    "\n",
    "\n",
    "- Using `verbose` to control outputs:\n",
    "    - `verbose=0,1,2`\n",
    "    - `if verbose: display(...)`\n",
    "- Using `isinstance` vs `type`\n"
   ]
  },
  {
   "cell_type": "markdown",
   "metadata": {
    "colab_type": "text",
    "id": "v0x9rCC0NUK9"
   },
   "source": []
  },
  {
   "cell_type": "markdown",
   "metadata": {
    "colab_type": "text",
    "id": "Uj75FwZZyRPW"
   },
   "source": [
    "**1. `try,except,finally`**\n",
    "```python\n",
    "try:\n",
    "    some_func_that_may_error(inputs)\n",
    "except:\n",
    "    what_to_do_when_error_happens\n",
    "    # note: good place to print type, shape, etc. to help diagnose errors\n",
    "finally: #optional\n",
    "    run_this_code_no_matter_what\n",
    "```\n",
    "- Note: **if you don't want anything to happen** if there's an error, then just make `except:` be a `pass` command.\n",
    "    \n",
    "```python\n",
    "try:\n",
    "    some_func_that_may_error(inputs)\n",
    "except:\n",
    "    \n",
    "    msg = f\"the shape was {inputs.shape}\"\n",
    "    raise Exception(msg)\n",
    "    pass\n",
    "\n",
    "```\n",
    "- Additionally, you can specify what TYPE of errors to handle:\n",
    "    \n",
    "```python\n",
    "try: \n",
    "    function_that_calls_a_var(data=my_var) # if my_var doesn't exist, will raise a `NameError`\n",
    "except NameError:\n",
    "    my_var = func_to_create_var()\n",
    "```"
   ]
  },
  {
   "cell_type": "code",
   "execution_count": null,
   "metadata": {
    "ExecuteTime": {
     "end_time": "2020-01-02T23:21:21.717282Z",
     "start_time": "2020-01-02T23:21:21.712038Z"
    }
   },
   "outputs": [],
   "source": [
    "a=1\n",
    "b='c'\n",
    "try:\n",
    "    b>a\n",
    "except Exception as e:\n",
    "    print(e)\n",
    "finally:\n",
    "    print(\"see it worked!\")"
   ]
  },
  {
   "cell_type": "markdown",
   "metadata": {
    "colab_type": "text",
    "id": "Uj75FwZZyRPW"
   },
   "source": [
    "**2. raising Exceptions:**\n",
    "    - You can write your own errors + error msgs in your function\n",
    "    - This is helpful for giving the user specific information as to how to resolve the error.\n",
    "    \n",
    "    \n",
    "```python\n",
    "def my_func(arg1, arg2,option_1=True, option_2=False, option_3=False):\n",
    "    \"\"\"Function takes arg1, arg2 and then processes it according to which\n",
    "    option==True. \"\"\"\n",
    "    \n",
    "    # check if >1 parameter is True:\n",
    "    if np.sum([option_1, option_2,option_3])>1: \n",
    "        raise Exception('Only 1 of option_1,option_2,option_3 may be True')\n",
    "    ...\n",
    "```\n",
    "\n",
    "**3. Using verbose**\n",
    "\n",
    "    - a general practice is to specify verbosity as 0,1,2.\n",
    "        - 0 being little-to-no details, 1 being more, 2 being the most details.\n",
    "    - Can be very good for troubleshooting or for print outs that provde/demonstrate what the function did/generated.\n",
    "    \n",
    "```python\n",
    "def my_func(arg1,arg2,verbose=1):\n",
    "   if verbose: # if verbose==either 1 or 2\n",
    "        print(arg1.shape,arg2.shape)\n",
    "    ...\n",
    "    \n",
    "```\n",
    "\n",
    "**4. Using `isinstance` instead of `type==`:**\n",
    "\n",
    "- Using `type(var)==class_you_want` is not very helpful\n",
    "    - There's a lot of types that it will not recognize\n",
    "    - There's an entire `types` module you could import into Python\n",
    "- What's better is using `isinstance(var_youre_checking,'list')`\n",
    "\n",
    "```python\n",
    "if isinstance(my_var,'list'):\n",
    "    do_this_stuff...\n",
    "\n",
    "# Note, for types from outside packages, you will need to reference the class in the library.\n",
    "\n",
    "import pandas as pd\n",
    "if isinstance(my_var, pd.DataFrame):\n",
    "    do_this_stuff...\n",
    "```\n",
    "- What nice about using this in your functions is that **you can code-in the correct way of handling the input to make it compatible** with the rest of your function, instead of just raising an Error.\n",
    "\n",
    "i.e. User inputs a single string or a Series instead of a list of strings:\n",
    "```python\n",
    "import pandas as pd\n",
    "if isinstance(input_var,'list') == False:\n",
    "    \n",
    "    if isinstance(input_var,'str'):\n",
    "        input_var = [input_var]\n",
    "    elif isinstance(input_var, pd.Series):\n",
    "        input_var=list(input_var)\n",
    "        \n",
    "    ## Now input_var should be in list form and you can loop like normal\n",
    "    for entry in input_var:\n",
    "        ...\n",
    "```"
   ]
  },
  {
   "cell_type": "markdown",
   "metadata": {},
   "source": [
    "### Warning Re: Functions & Inplace Operations"
   ]
  },
  {
   "cell_type": "markdown",
   "metadata": {},
   "source": [
    "- Avoid performing `inplace` operations if you are planing to `return` the output of the inplace operation.\n",
    "\n",
    "- The returned object will be exactly the same one as your input object. It will NOT be a copy."
   ]
  },
  {
   "cell_type": "code",
   "execution_count": null,
   "metadata": {},
   "outputs": [],
   "source": []
  },
  {
   "cell_type": "code",
   "execution_count": null,
   "metadata": {},
   "outputs": [],
   "source": []
  }
 ],
 "metadata": {
  "colab": {
   "collapsed_sections": [],
   "name": "Python Deep Dive Study Group Prep",
   "provenance": [],
   "toc_visible": true
  },
  "kernelspec": {
   "display_name": "Python 3",
   "language": "python",
   "name": "python3"
  },
  "language_info": {
   "codemirror_mode": {
    "name": "ipython",
    "version": 3
   },
   "file_extension": ".py",
   "mimetype": "text/x-python",
   "name": "python",
   "nbconvert_exporter": "python",
   "pygments_lexer": "ipython3",
   "version": "3.6.11"
  },
  "toc": {
   "base_numbering": 1,
   "nav_menu": {},
   "number_sections": false,
   "sideBar": true,
   "skip_h1_title": false,
   "title_cell": "Table of Contents",
   "title_sidebar": "Contents",
   "toc_cell": false,
   "toc_position": {
    "height": "calc(100% - 180px)",
    "left": "10px",
    "top": "150px",
    "width": "367px"
   },
   "toc_section_display": true,
   "toc_window_display": true
  }
 },
 "nbformat": 4,
 "nbformat_minor": 1
}

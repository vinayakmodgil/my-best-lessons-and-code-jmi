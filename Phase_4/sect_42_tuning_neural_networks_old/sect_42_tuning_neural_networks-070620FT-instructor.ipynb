{
 "cells": [
  {
   "cell_type": "markdown",
   "metadata": {
    "colab_type": "text",
    "id": "GKw2nWdMDKR6"
   },
   "source": [
    "# Section 42: Tuning Neural Networks"
   ]
  },
  {
   "cell_type": "markdown",
   "metadata": {},
   "source": [
    "- 10/22/20\n",
    "- online-ds-ft-070620"
   ]
  },
  {
   "cell_type": "markdown",
   "metadata": {},
   "source": [
    "> NOTE: YOU MAY **NOT** USE THE FUNCTIONS FROM THIS NOTEBOOK IN YOUR PROJECTS"
   ]
  },
  {
   "cell_type": "markdown",
   "metadata": {},
   "source": [
    "## Learning Objectives"
   ]
  },
  {
   "cell_type": "markdown",
   "metadata": {},
   "source": [
    "- Discuss the different options available for tuning neural networks\n",
    "- Discuss some rules of thumb for tuning Neural Networks\n",
    "\n",
    "- **ACTIVITY: Use a computer vision task to walk-through hyperparameter tuning (cats vs dogs)**\n",
    "    - [Zip File on Google Drive](https://drive.google.com/open?id=1WQ0fdJrNs5qVinJ_6rmVIIinOJD3p-n4)\n",
    "\n",
    "- **Learn how to use GridSearchCV with Keras neural neural networks.**\n",
    "\n",
    "    - Learn how to examine the other parameter results from a GridSearchCV object.\n",
    "\n",
    "    - Learn how to create your own custom scorer for sklearn (and why you'd want to)\n",
    "- Learn how to set up email notifications via Python (for gridsearch results)\n"
   ]
  },
  {
   "cell_type": "markdown",
   "metadata": {},
   "source": [
    "## Questions/Comments?\n",
    "-"
   ]
  },
  {
   "cell_type": "markdown",
   "metadata": {},
   "source": [
    "## Helpful Resources"
   ]
  },
  {
   "cell_type": "markdown",
   "metadata": {},
   "source": [
    "- [Medium: Simple Guide to Hyperparameter Tuning in Neural Networks](https://towardsdatascience.com/simple-guide-to-hyperparameter-tuning-in-neural-networks-3fe03dad8594)\n",
    "- [Medium: A guide to an efficient way to build neural network architectures- Part I:](https://towardsdatascience.com/a-guide-to-an-efficient-way-to-build-neural-network-architectures-part-i-hyper-parameter-8129009f131b)\n",
    "- [Medium: Optimizers for Neural Networks](https://medium.com/@sdoshi579/optimizers-for-training-neural-network-59450d71caf6)"
   ]
  },
  {
   "cell_type": "markdown",
   "metadata": {},
   "source": [
    "# Overview  - Neural Network Tuning "
   ]
  },
  {
   "cell_type": "markdown",
   "metadata": {},
   "source": [
    "## Rules of Thumb for Training Neural Networks"
   ]
  },
  {
   "cell_type": "markdown",
   "metadata": {},
   "source": [
    "- **Always use a train-test-validation split.**\n",
    "    - **Train-test-val splits:**\n",
    "        - Training set: for training the algorithm\n",
    "        - Validation set: used during training\n",
    "        - Testing set: after choosing the final model, use the test set for an unbiased estimate of performance.\n",
    "    - **Set sizes:**\n",
    "        - With big data, your val and test sets don't necessarily need to be 20-30% of all the data. \n",
    "        - You can choose test and hold-out sets that are of size 1-5%. \n",
    "            - eg. 96% train, 2% hold-out, 2% test set.\n",
    "            \n",
    "            \n",
    "- Consider using a `np.random.seed` for reproducibility/comparing models\n",
    "\n",
    "\n",
    "- **Use cross validation of some sort to compare Networks**\n",
    "\n",
    "\n",
    "- Normalize/Standardize features\n",
    "    \n",
    "    \n",
    "- **Add EarlyStopping and ModelCheckpoint [callbacks](https://keras.io/api/callbacks/)**\n",
    "\n",
    "    "
   ]
  },
  {
   "cell_type": "markdown",
   "metadata": {
    "colab_type": "text",
    "id": "lbzweQKTDPTl"
   },
   "source": [
    "#### Dealing with Bias/Variance\n",
    "\n",
    "- Balancing Bias/Variance:\n",
    "    - High Bias models are **underfit**\n",
    "    - High Variance models are **overfit**\n",
    "\n",
    "\n",
    "\n",
    "- **Rules of thumb re: bias/variance trade-off:**\n",
    "\n",
    "| High Bias? (training performance) | high variance? (validation performance)  |\n",
    "|---------------|-------------|\n",
    "| Use a bigger network|    More data     |\n",
    "| Train longer | Regularization   |\n",
    "| Look for other existing NN architextures |Look for other existing NN architextures |\n"
   ]
  },
  {
   "cell_type": "markdown",
   "metadata": {},
   "source": [
    "## Rules of Thumb - Hyperparameters to Tune \n"
   ]
  },
  {
   "cell_type": "markdown",
   "metadata": {},
   "source": [
    "- This section is roughly laid out in order of importance/what-to-tune-first\n",
    "    - [Blog Post](https://towardsdatascience.com/a-guide-to-an-efficient-way-to-build-neural-network-architectures-part-i-hyper-parameter-8129009f131b)"
   ]
  },
  {
   "cell_type": "markdown",
   "metadata": {},
   "source": [
    "### Hyperparameters (For Dense layers)"
   ]
  },
  {
   "cell_type": "markdown",
   "metadata": {},
   "source": [
    "1. Number of layers (depends on the size of training data)\n",
    "\n",
    "\n",
    "2. Number of neurons(depends on the size of training data)\n",
    "\n",
    "\n",
    "3. Activation functions\n",
    "    - Popular choices:\n",
    "        - relu / leaky-relu\n",
    "        - sigmoid / tanh (for shallow networks)\n",
    "        \n",
    "        \n",
    "4. Optimizer:\n",
    "    - Popular choices:\n",
    "        - SGD (works well for shallow but gets stuck in local minima/saddle-points - if so use RMSProp)\n",
    "        - RMSProp\n",
    "        - Adam (general favorite)\n",
    "        \n",
    "        \n",
    "5. Learning Rate\n",
    "    - Try in powers of 10 (0.001,0.01,.1,1.0)\n",
    "    - Which optimizer changes which l.r. is best (but try the others too).\n",
    "        - SGD: 0.1\n",
    "        - Adam: 0.001/0.01\n",
    "    - Can use the `decay` parameter to reduce learning (though it is better to use adaptive optimizer than to adjust this)/.\n",
    "    \n",
    "    \n",
    "6. Initialization\n",
    "    - Not as important as defaults (glorot-uniform) work well, but:\n",
    "        - Use He-normal/uniform initialization when using ReLu\n",
    "        - Use Glorot-normal/uniform when using Sigmoid\n",
    "    - Avoid using all zeros or any constant for all neurons\n",
    "\n",
    "\n",
    "7. Batch Size\n",
    "    - Finding the \"right\" size is important\n",
    "        - Too small = weights update too quickly and convergence is difficult\n",
    "        - Too large = weights update too slowly (plus PC RAM issues)\n",
    "    - Try batch sizes that are powers of 2 (for memory optimization)\n",
    "    - Larger is better than smaller.\n",
    "    \n",
    "    \n",
    "8. Number of Epochs:\n",
    "    - Important parameter to tune\n",
    "    - Use EarlyStopping callback to prevent overfitting\n",
    "    \n",
    "\n",
    "9. Adding Dropout\n",
    "    - Usually use dropout rate of 0.2 to 0.5\n",
    "    \n",
    "    \n",
    "\n",
    "10. Adding regularization (L1,L2)\n",
    "    - Use when the model continues to over-fit even after adding Dropout"
   ]
  },
  {
   "cell_type": "markdown",
   "metadata": {},
   "source": [
    "### Hyperparameter Details"
   ]
  },
  {
   "cell_type": "markdown",
   "metadata": {},
   "source": [
    "#### Kernel Initialization\n",
    "- Kernel Initializers\n",
    "```python\n",
    "# define the grid search parameters\n",
    "init_mode = ['uniform', 'lecun_uniform', 'normal', 'zero', \n",
    "             'glorot_normal', 'glorot_uniform', 'he_normal', 'he_uniform']```\n",
    "\n",
    "\n",
    "#### Loss Functions\n",
    "- MSE (regression)\n",
    "- categorical cross-entropy (classification with 2D labels )\n",
    "    - sparse categorical cross entropy (classification with 1D labels)\n",
    "- binary cross-entropy (classification)\n",
    "    - 2 categories\n",
    "- **can also uses custom scoring functions**"
   ]
  },
  {
   "cell_type": "markdown",
   "metadata": {},
   "source": [
    "## Using Regularization"
   ]
  },
  {
   "cell_type": "markdown",
   "metadata": {},
   "source": [
    "### L1 & L2 Regularlization\n",
    "- These methods of regularizaiton do so by penalizing coefficients(regression) or weights(neural networks),\n",
    "    - L1 & L2 exist in regression models as well. There, L1='Lasso Regressions' , L2='Ridge regression'\n",
    "    \n",
    "    \n",
    "\n",
    "- **L1 & L2 regularization add a term to the cost function.**\n",
    "\n",
    "$$Cost function = Loss (say, binary cross entropy) + Regularization term$$\n",
    "\n",
    "$$ J (w^{[1]},b^{[1]},...,w^{[L]},b^{[L]}) = \\dfrac{1}{m} \\sum^m_{i=1}\\mathcal{L}(\\hat y^{(i)}, y^{(i)})+ \\dfrac{\\lambda}{2m}\\sum^L_{l=1}||w^{[l]}||^2$$\n",
    "- where $\\lambda$ is the regularization parameter. \n",
    "\n",
    "- **The difference between  L1 vs L2 is that L1 is just the sum of the weights whereas L2 is the sum of the _square_of the weights.**  \n",
    "\n",
    "\n",
    "<br><br>\n",
    "- **L1 Regularization:**\n",
    "    $$ Cost function = Loss + \\frac{\\lambda}{2m} * \\sum ||w||$$\n",
    "    - Uses the absolute value of weights and may reduce the weights down to 0. \n",
    "    \n",
    "        \n",
    "- **L2 Regularization:**:\n",
    "    $$ Cost function = Loss + \\frac{\\lambda}{2m} * \\sum ||w||^2$$\n",
    "    - Also known as weight decay, as it forces weights to decay towards zero, but never exactly 0.. "
   ]
  },
  {
   "cell_type": "markdown",
   "metadata": {},
   "source": [
    "#### L1/L2 Regularization\n",
    "\n",
    "- **CHOOSING L1 OR L2:**\n",
    "    - L1 is very useful when trying to compress a model. (since weights can decreae to 0)\n",
    "    - L2 is generally preferred otherwise.\n",
    "    \n",
    "    \n",
    "- **USING L1/L2 IN KERAS:**\n",
    "    - Add a kernel_regulaizer to a  layer.\n",
    "```python \n",
    "from keras import regularizers\n",
    "model.add(Dense(64, input_dim=64, kernel_regularizer=regularizers.l2(0.01))\n",
    "```\n",
    "    - here 0.01 = $\\lambda$"
   ]
  },
  {
   "cell_type": "markdown",
   "metadata": {},
   "source": [
    "### Additional Options"
   ]
  },
  {
   "cell_type": "markdown",
   "metadata": {},
   "source": [
    "#### Dropout "
   ]
  },
  {
   "cell_type": "markdown",
   "metadata": {
    "colab_type": "text",
    "id": "BlPs5Wd8GrNg"
   },
   "source": [
    "#### Early Stopping"
   ]
  },
  {
   "cell_type": "markdown",
   "metadata": {
    "colab_type": "text",
    "id": "BlPs5Wd8GrNg"
   },
   "source": [
    "- Monitor performance for decrease or plateau in performance, terminate process when given criteria is reached.\n",
    "\n",
    "- **In Keras:**\n",
    "    - Can be applied using the [callbacks function](https://keras.io/callbacks/)\n",
    "```python    \n",
    "from keras.callbacks import EarlyStopping\n",
    "EarlyStopping(monitor='val_err', patience=5)\n",
    "```\n",
    "    - 'Monitor' denotes quanitity to check\n",
    "    - 'val_err' denotes validation error\n",
    "    - 'pateience' denotes # of epochs without improvement before stopping.\n",
    "        - Be careful, as sometimes models _will_ continue to improve after a stagnant period\n"
   ]
  },
  {
   "cell_type": "markdown",
   "metadata": {},
   "source": [
    "# Activity: Dogs vs Cats"
   ]
  },
  {
   "cell_type": "markdown",
   "metadata": {},
   "source": [
    "- Build an image classification model to detect cats vs dogs"
   ]
  },
  {
   "cell_type": "markdown",
   "metadata": {
    "colab_type": "text",
    "id": "8qbS0lSrghaO"
   },
   "source": [
    "## Installs, Imports, & Functions"
   ]
  },
  {
   "cell_type": "code",
   "execution_count": 1,
   "metadata": {
    "ExecuteTime": {
     "end_time": "2020-10-22T15:36:06.328415Z",
     "start_time": "2020-10-22T15:36:06.326003Z"
    }
   },
   "outputs": [],
   "source": [
    "# !pip install -U imageio\n",
    "# !pip install -U scikit-image\n",
    "\n",
    "# !pip install pillow\n",
    "# !pip install opencv-contrib-python\n",
    "# !pip install -U tensorflow"
   ]
  },
  {
   "cell_type": "code",
   "execution_count": 2,
   "metadata": {
    "ExecuteTime": {
     "end_time": "2020-10-22T15:36:08.007151Z",
     "start_time": "2020-10-22T15:36:06.332982Z"
    },
    "colab": {
     "base_uri": "https://localhost:8080/",
     "height": 238
    },
    "colab_type": "code",
    "id": "KHc94KpTlbRj",
    "outputId": "f71ccce3-f23d-4b8e-d4f7-c4736cbe1e76",
    "scrolled": true
   },
   "outputs": [
    {
     "name": "stdout",
     "output_type": "stream",
     "text": [
      "fsds v0.2.27 loaded.  Read the docs: https://fs-ds.readthedocs.io/en/latest/ \n"
     ]
    },
    {
     "data": {
      "text/html": [
       "<style  type=\"text/css\" >\n",
       "</style><table id=\"T_4d88064c_147c_11eb_8177_acde48001122\" ><caption>Loaded Packages and Handles</caption><thead>    <tr>        <th class=\"col_heading level0 col0\" >Handle</th>        <th class=\"col_heading level0 col1\" >Package</th>        <th class=\"col_heading level0 col2\" >Description</th>    </tr></thead><tbody>\n",
       "                <tr>\n",
       "                                <td id=\"T_4d88064c_147c_11eb_8177_acde48001122row0_col0\" class=\"data row0 col0\" >dp</td>\n",
       "                        <td id=\"T_4d88064c_147c_11eb_8177_acde48001122row0_col1\" class=\"data row0 col1\" >IPython.display</td>\n",
       "                        <td id=\"T_4d88064c_147c_11eb_8177_acde48001122row0_col2\" class=\"data row0 col2\" >Display modules with helpful display and clearing commands.</td>\n",
       "            </tr>\n",
       "            <tr>\n",
       "                                <td id=\"T_4d88064c_147c_11eb_8177_acde48001122row1_col0\" class=\"data row1 col0\" >fs</td>\n",
       "                        <td id=\"T_4d88064c_147c_11eb_8177_acde48001122row1_col1\" class=\"data row1 col1\" >fsds</td>\n",
       "                        <td id=\"T_4d88064c_147c_11eb_8177_acde48001122row1_col2\" class=\"data row1 col2\" >Custom data science bootcamp student package</td>\n",
       "            </tr>\n",
       "            <tr>\n",
       "                                <td id=\"T_4d88064c_147c_11eb_8177_acde48001122row2_col0\" class=\"data row2 col0\" >mpl</td>\n",
       "                        <td id=\"T_4d88064c_147c_11eb_8177_acde48001122row2_col1\" class=\"data row2 col1\" >matplotlib</td>\n",
       "                        <td id=\"T_4d88064c_147c_11eb_8177_acde48001122row2_col2\" class=\"data row2 col2\" >Matplotlib's base OOP module with formatting artists</td>\n",
       "            </tr>\n",
       "            <tr>\n",
       "                                <td id=\"T_4d88064c_147c_11eb_8177_acde48001122row3_col0\" class=\"data row3 col0\" >plt</td>\n",
       "                        <td id=\"T_4d88064c_147c_11eb_8177_acde48001122row3_col1\" class=\"data row3 col1\" >matplotlib.pyplot</td>\n",
       "                        <td id=\"T_4d88064c_147c_11eb_8177_acde48001122row3_col2\" class=\"data row3 col2\" >Matplotlib's matlab-like plotting module</td>\n",
       "            </tr>\n",
       "            <tr>\n",
       "                                <td id=\"T_4d88064c_147c_11eb_8177_acde48001122row4_col0\" class=\"data row4 col0\" >np</td>\n",
       "                        <td id=\"T_4d88064c_147c_11eb_8177_acde48001122row4_col1\" class=\"data row4 col1\" >numpy</td>\n",
       "                        <td id=\"T_4d88064c_147c_11eb_8177_acde48001122row4_col2\" class=\"data row4 col2\" >scientific computing with Python</td>\n",
       "            </tr>\n",
       "            <tr>\n",
       "                                <td id=\"T_4d88064c_147c_11eb_8177_acde48001122row5_col0\" class=\"data row5 col0\" >pd</td>\n",
       "                        <td id=\"T_4d88064c_147c_11eb_8177_acde48001122row5_col1\" class=\"data row5 col1\" >pandas</td>\n",
       "                        <td id=\"T_4d88064c_147c_11eb_8177_acde48001122row5_col2\" class=\"data row5 col2\" >High performance data structures and tools</td>\n",
       "            </tr>\n",
       "            <tr>\n",
       "                                <td id=\"T_4d88064c_147c_11eb_8177_acde48001122row6_col0\" class=\"data row6 col0\" >sns</td>\n",
       "                        <td id=\"T_4d88064c_147c_11eb_8177_acde48001122row6_col1\" class=\"data row6 col1\" >seaborn</td>\n",
       "                        <td id=\"T_4d88064c_147c_11eb_8177_acde48001122row6_col2\" class=\"data row6 col2\" >High-level data visualization library based on matplotlib</td>\n",
       "            </tr>\n",
       "    </tbody></table>"
      ],
      "text/plain": [
       "<pandas.io.formats.style.Styler at 0x7ff5a6f1e588>"
      ]
     },
     "metadata": {},
     "output_type": "display_data"
    },
    {
     "data": {
      "text/html": [
       "        <script type=\"text/javascript\">\n",
       "        window.PlotlyConfig = {MathJaxConfig: 'local'};\n",
       "        if (window.MathJax) {MathJax.Hub.Config({SVG: {font: \"STIX-Web\"}});}\n",
       "        if (typeof require !== 'undefined') {\n",
       "        require.undef(\"plotly\");\n",
       "        requirejs.config({\n",
       "            paths: {\n",
       "                'plotly': ['https://cdn.plot.ly/plotly-latest.min']\n",
       "            }\n",
       "        });\n",
       "        require(['plotly'], function(Plotly) {\n",
       "            window._Plotly = Plotly;\n",
       "        });\n",
       "        }\n",
       "        </script>\n",
       "        "
      ]
     },
     "metadata": {},
     "output_type": "display_data"
    },
    {
     "data": {
      "text/html": [
       "        <script type=\"text/javascript\">\n",
       "        window.PlotlyConfig = {MathJaxConfig: 'local'};\n",
       "        if (window.MathJax) {MathJax.Hub.Config({SVG: {font: \"STIX-Web\"}});}\n",
       "        if (typeof require !== 'undefined') {\n",
       "        require.undef(\"plotly\");\n",
       "        requirejs.config({\n",
       "            paths: {\n",
       "                'plotly': ['https://cdn.plot.ly/plotly-latest.min']\n",
       "            }\n",
       "        });\n",
       "        require(['plotly'], function(Plotly) {\n",
       "            window._Plotly = Plotly;\n",
       "        });\n",
       "        }\n",
       "        </script>\n",
       "        "
      ]
     },
     "metadata": {},
     "output_type": "display_data"
    },
    {
     "name": "stdout",
     "output_type": "stream",
     "text": [
      "[i] Pandas .iplot() method activated.\n"
     ]
    }
   ],
   "source": [
    "# !pip install -U fsds\n",
    "from fsds.imports import *"
   ]
  },
  {
   "cell_type": "code",
   "execution_count": 3,
   "metadata": {
    "ExecuteTime": {
     "end_time": "2020-10-22T15:36:08.120149Z",
     "start_time": "2020-10-22T15:36:08.009017Z"
    },
    "colab": {
     "base_uri": "https://localhost:8080/",
     "height": 34
    },
    "colab_type": "code",
    "id": "2yML_wHNlbRn",
    "outputId": "50fed474-f35a-477d-8b5e-b448e76c97a8",
    "scrolled": true
   },
   "outputs": [],
   "source": [
    "from skimage.transform import resize\n",
    "from imageio import imread\n",
    "from PIL import Image\n",
    "\n",
    "import cv2\n",
    "from tqdm import tqdm\n"
   ]
  },
  {
   "cell_type": "markdown",
   "metadata": {
    "colab_type": "text",
    "id": "E7D1Ks2mhJim"
   },
   "source": [
    "## Loading in the data"
   ]
  },
  {
   "cell_type": "markdown",
   "metadata": {},
   "source": [
    "- Download the zip file \n",
    "    - [DATASET: Zip File for Dog vs Cats](https://drive.google.com/open?id=1WQ0fdJrNs5qVinJ_6rmVIIinOJD3p-n4)\n",
    "- Extract zip file contents to the a folder on your computer.\n",
    "    - I am using my user folder > Datasets > cats-vs-dogs\n",
    "    "
   ]
  },
  {
   "cell_type": "code",
   "execution_count": 4,
   "metadata": {
    "ExecuteTime": {
     "end_time": "2020-10-22T15:36:08.125719Z",
     "start_time": "2020-10-22T15:36:08.122611Z"
    }
   },
   "outputs": [
    {
     "name": "stdout",
     "output_type": "stream",
     "text": [
      "/Users/jamesirving/Documents/GitHub/_STUDY GROUP PREP/_ED REPOS/jirving/my-best-lessons-and-code-jmi/sect_42_tuning_neural_networks\n"
     ]
    }
   ],
   "source": [
    "import os,glob\n",
    "print(os.path.abspath(os.curdir))"
   ]
  },
  {
   "cell_type": "code",
   "execution_count": 5,
   "metadata": {
    "ExecuteTime": {
     "end_time": "2020-10-22T15:36:08.133715Z",
     "start_time": "2020-10-22T15:36:08.127678Z"
    }
   },
   "outputs": [
    {
     "data": {
      "text/plain": [
       "['single_prediction', '.DS_Store', 'Models', 'training_set', 'test_set']"
      ]
     },
     "execution_count": 5,
     "metadata": {},
     "output_type": "execute_result"
    }
   ],
   "source": [
    "# change dataset_folder to match where you stored the files\n",
    "base_folder = \"/Users/jamesirving/Datasets/dogs-vs-cats-sorted/\"\n",
    "os.makedirs(base_folder,exist_ok=True)\n",
    "os.listdir(base_folder)"
   ]
  },
  {
   "cell_type": "code",
   "execution_count": 6,
   "metadata": {
    "ExecuteTime": {
     "end_time": "2020-10-22T15:36:08.138876Z",
     "start_time": "2020-10-22T15:36:08.137091Z"
    }
   },
   "outputs": [],
   "source": [
    "# base_folder = dataset_folder\n",
    "# base_folder"
   ]
  },
  {
   "cell_type": "code",
   "execution_count": 7,
   "metadata": {
    "ExecuteTime": {
     "end_time": "2020-10-22T15:36:08.146391Z",
     "start_time": "2020-10-22T15:36:08.142204Z"
    }
   },
   "outputs": [
    {
     "name": "stdout",
     "output_type": "stream",
     "text": [
      "['dogs', 'cats', '.DS_Store']\n"
     ]
    }
   ],
   "source": [
    "train_folder = base_folder+\"training_set/\"\n",
    "test_folder = base_folder+\"test_set/\"\n",
    "# val_folder = base_folder+\"val/\"\n",
    "\n",
    "print(os.listdir(train_folder))"
   ]
  },
  {
   "cell_type": "markdown",
   "metadata": {
    "heading_collapsed": true
   },
   "source": [
    "### Preparing Images Using .flow instead of flow_from_directory\n",
    "- https://discuss.analyticsvidhya.com/t/keras-image-preprocessing-using-flow-and-not-flow-from-directory/69460/2\n"
   ]
  },
  {
   "cell_type": "code",
   "execution_count": 8,
   "metadata": {
    "ExecuteTime": {
     "end_time": "2020-10-22T15:36:08.150483Z",
     "start_time": "2020-10-22T15:36:08.148032Z"
    },
    "hidden": true
   },
   "outputs": [],
   "source": [
    "# import shutil,glob\n",
    "# # ## DOG VS CAT\n",
    "# train_base_dir = base_folder+'training_set/'\n",
    "# test_base_dir =base_folder+'test_set/' \n",
    "\n",
    "# train_dogs = train_base_dir+'dogs/'\n",
    "# train_cats = train_base_dir+'cats/'\n",
    "\n",
    "# test_dogs = test_base_dir+'dogs/'\n",
    "# test_cats = test_base_dir+'cats/'\n",
    "\n",
    "\n",
    "# dog_train_files = glob.glob(train_dogs+'*.jpg')\n",
    "# cat_train_files = glob.glob(train_cats+'*.jpg')\n",
    "# all_train_files = [*dog_train_files,*cat_train_files]\n",
    "\n",
    "# dog_test_files = glob.glob(test_dogs+'*.jpg')\n",
    "# cat_test_files = glob.glob(test_cats+'*.jpg')\n",
    "# all_test_files = [*dog_test_files,*cat_test_files]\n",
    "\n",
    "# # print(len(img_filenames))\n",
    "# # img_filenames[:10]\n",
    "\n",
    "# all_filename_vars = [dog_train_files, cat_train_files,\n",
    "#                                              dog_test_files,cat_test_files]"
   ]
  },
  {
   "cell_type": "markdown",
   "metadata": {
    "hidden": true
   },
   "source": [
    "#### Functions"
   ]
  },
  {
   "cell_type": "code",
   "execution_count": 9,
   "metadata": {
    "ExecuteTime": {
     "end_time": "2020-10-22T15:36:08.159620Z",
     "start_time": "2020-10-22T15:36:08.155325Z"
    },
    "hidden": true
   },
   "outputs": [],
   "source": [
    "# def load_image_cv2(filename, RGB=True):\n",
    "#     \"\"\"Loads image using cv2 and converts to either matplotlib-RGB (default)\n",
    "#     or grayscale.\"\"\"\n",
    "#     import cv2\n",
    "\n",
    "#     IMG = cv2.imread(filename)\n",
    "#     if RGB: cmap = cv2.COLOR_BGR2RGB\n",
    "#     else: cmap=cv2.COLOR_BGR2GRAY\n",
    "#     return cv2.cvtColor(IMG,cmap)\n",
    "\n",
    "\n",
    "\n",
    "# # defining a function to read images\n",
    "# def read_img(img_path,target_size=(32,32,3)):#(64, 64, 3)):\n",
    "#     img = image.load_img(img_path, target_size=target_size)\n",
    "#     img = image.img_to_array(img)\n",
    "\n",
    "#     return img\n",
    "\n",
    "# def load_train_test_val(dog_training_filenames, cat_training_filenames,\n",
    "#                         dog_test_filenames,cat_test_filenames,\n",
    "#                         img_size=(32,32,3),val_size=0.1):\n",
    "#     \"\"\"Reads in training and test filenames to produce X and y data splits.\n",
    "#     The validation set is intended to be used during training and is created\n",
    "#     from the training images using train test split.\n",
    "\n",
    "#     ylabels are encoded as 0=cat, 1=dog\n",
    "#     Returns:  X_train, X_test, X_val, y_train, y_test,y_val\"\"\"\n",
    "#     # \n",
    "    \n",
    "#     display('[i] LOADING IMAGES')\n",
    " \n",
    "#     train_img = []\n",
    "#     train_label = []\n",
    "\n",
    "#     for img_path in tqdm(dog_training_filenames):\n",
    "#         train_img.append(read_img(img_path,target_size=img_size))\n",
    "#         train_label.append(1)\n",
    "\n",
    "#     for img_path in tqdm(cat_training_filenames):\n",
    "#         train_img.append(read_img(img_path,target_size=img_size))\n",
    "#         train_label.append(0)\n",
    "\n",
    "\n",
    "#     test_img = []\n",
    "#     test_label = []\n",
    "\n",
    "#     for img_path in tqdm(dog_test_files):\n",
    "#         test_img.append(read_img(img_path,target_size=img_size))\n",
    "#         test_label.append(1)\n",
    "\n",
    "#     for img_path in tqdm(dog_test_files):\n",
    "#         test_img.append(read_img(img_path,target_size=img_size))\n",
    "#         test_label.append(0)\n",
    "#     # print('\\n',pd.Series(train_label).value_counts())\n",
    "\n",
    "\n",
    "#     from sklearn.model_selection import train_test_split\n",
    "#     X = np.array(train_img, np.float32)\n",
    "#     y = np.array(train_label)\n",
    "#     y = to_categorical(y)\n",
    "    \n",
    "#     X_test = np.array(test_img, np.float32)\n",
    "#     y_test = to_categorical(np.array(test_label))\n",
    "#     X_train,X_val,y_train,y_val = train_test_split(X,y,test_size=0.1)\n",
    "#     print('\\n[i] Length of Splits:')\n",
    "#     print(f\"X_train={len(X_train)}, X_test={len(X_test)}, X_val={len(X_val)}\")\n",
    "#     return X_train, X_test, X_val, y_train, y_test,y_val \n",
    "\n",
    "\n",
    "# def train_test_val_datagens(X_train,X_test,X_val,y_train,y_test,y_val,\n",
    "#                             BATCH_SIZE = 32, train_datagen_kws= dict(\n",
    "#                                 shear_range = 0.2, \n",
    "#                                 zoom_range = 0.2,\n",
    "#                                 horizontal_flip = True)):\n",
    "#     \"\"\"Creates ImageDataGenerators for train,test,val data.\n",
    "#     Returns: training_set,test_set,val_set\"\"\"\n",
    "#     ## Create training and test data\n",
    "#     from keras.preprocessing.image import ImageDataGenerator\n",
    "\n",
    "#     train_datagen = ImageDataGenerator(rescale = 1./255,**train_datagen_kws)\n",
    "\n",
    "#     test_datagen = ImageDataGenerator(rescale = 1./255)\n",
    "#     val_datagen = ImageDataGenerator(rescale = 1./255)\n",
    "\n",
    "#     training_set = train_datagen.flow(X_train,y=y_train,batch_size=BATCH_SIZE)\n",
    "#     test_set = test_datagen.flow(X_test,y=y_test,batch_size=BATCH_SIZE)\n",
    "#     val_set = val_datagen.flow(X_val,y=y_val,batch_size=BATCH_SIZE)\n",
    "\n",
    "#     return training_set,test_set,val_set\n",
    "\n",
    "\n",
    "\n",
    "# def get_shapes_dict(training_set,verbose=False):\n",
    "#     shapes = [\"Batchsize\", \"img_width\",\"img_height\",\"img_dim\"]\n",
    "#     SHAPES = dict(zip(shapes, training_set[0][0].shape))\n",
    "#     if verbose:\n",
    "#         print('SHAPES DICT:')\n",
    "#         print(SHAPES)\n",
    "#         print(training_set[0][0].shape)\n",
    "#         print('\\n[i] Labels for batch (0=cat,1=dog)')\n",
    "#         print(training_set[0][1])\n",
    "#     return SHAPES\n",
    "      "
   ]
  },
  {
   "cell_type": "code",
   "execution_count": 10,
   "metadata": {
    "ExecuteTime": {
     "end_time": "2020-10-22T15:36:08.164492Z",
     "start_time": "2020-10-22T15:36:08.162585Z"
    },
    "hidden": true
   },
   "outputs": [],
   "source": [
    "# ## USING FUNCTIONS TO LOAD IN IMAGES \n",
    "# X_train,X_test,X_val,y_train,y_test,y_val = load_train_test_val(*all_filename_vars,\n",
    "#                                                   val_size=0.1,img_size=(32,32,3))#(64,64,3))\n",
    "\n",
    "# train_test_val_vars = [X_train,X_test,X_val,y_train,y_test,y_val ]\n"
   ]
  },
  {
   "cell_type": "code",
   "execution_count": 11,
   "metadata": {
    "ExecuteTime": {
     "end_time": "2020-10-22T15:36:08.169183Z",
     "start_time": "2020-10-22T15:36:08.167064Z"
    },
    "hidden": true
   },
   "outputs": [],
   "source": [
    "# y_train"
   ]
  },
  {
   "cell_type": "code",
   "execution_count": 12,
   "metadata": {
    "ExecuteTime": {
     "end_time": "2020-10-22T15:36:08.172649Z",
     "start_time": "2020-10-22T15:36:08.170879Z"
    },
    "hidden": true
   },
   "outputs": [],
   "source": [
    "# ## display example img/label\n",
    "# ex_img = X_train[0]\n",
    "# ex_img.shape\n",
    "# ex_img.shape[0] *ex_img.shape[1]*ex_img.shape[2]"
   ]
  },
  {
   "cell_type": "code",
   "execution_count": 13,
   "metadata": {
    "ExecuteTime": {
     "end_time": "2020-10-22T15:36:08.176665Z",
     "start_time": "2020-10-22T15:36:08.174405Z"
    },
    "hidden": true
   },
   "outputs": [],
   "source": [
    "# ex_img = X_train[0]\n",
    "# num_images = X_train.shape[0]\n",
    "# num_images_test = X_test.shape[0]\n",
    "# len_unrowed = ex_img.shape[0] *ex_img.shape[1]*ex_img.shape[2]\n",
    "# num_images,num_images_test, len_unrowed"
   ]
  },
  {
   "cell_type": "code",
   "execution_count": 14,
   "metadata": {
    "ExecuteTime": {
     "end_time": "2020-10-22T15:36:08.179983Z",
     "start_time": "2020-10-22T15:36:08.178259Z"
    },
    "hidden": true
   },
   "outputs": [],
   "source": [
    "# X_train_img  = X_train.reshape(num_images,len_unrowed).astype('float32')/255\n",
    "# X_train_img.shape"
   ]
  },
  {
   "cell_type": "code",
   "execution_count": 15,
   "metadata": {
    "ExecuteTime": {
     "end_time": "2020-10-22T15:36:08.183403Z",
     "start_time": "2020-10-22T15:36:08.181668Z"
    },
    "hidden": true
   },
   "outputs": [],
   "source": [
    "# X_val_img  = X_val.reshape(X_val.shape[0],len_unrowed).astype('float32')/255\n",
    "# X_val_img.shape"
   ]
  },
  {
   "cell_type": "code",
   "execution_count": 16,
   "metadata": {
    "ExecuteTime": {
     "end_time": "2020-10-22T15:36:08.186903Z",
     "start_time": "2020-10-22T15:36:08.184951Z"
    },
    "hidden": true
   },
   "outputs": [],
   "source": [
    "# X_test_img = X_test.reshape(num_images_test,len_unrowed).astype('float32')/255\n",
    "# X_test_img.shape"
   ]
  },
  {
   "cell_type": "markdown",
   "metadata": {},
   "source": [
    "## Using ImageDataGenerator.flow_from_directory"
   ]
  },
  {
   "cell_type": "code",
   "execution_count": 17,
   "metadata": {
    "ExecuteTime": {
     "end_time": "2020-10-22T15:36:11.580745Z",
     "start_time": "2020-10-22T15:36:08.188576Z"
    }
   },
   "outputs": [],
   "source": [
    "from tensorflow.keras.preprocessing import image\n",
    "from tensorflow.keras.preprocessing.image import ImageDataGenerator, array_to_img, img_to_array, load_img\n",
    "from tensorflow.keras.utils import to_categorical\n",
    "import tensorflow as tf\n"
   ]
  },
  {
   "cell_type": "markdown",
   "metadata": {},
   "source": [
    "> Train-Test-Val Split: https://medium.com/@olagokeibrahim165/split-train-data-into-training-and-validation-when-using-imagedatagenerator-in-keras-ffdc88bbf6f3"
   ]
  },
  {
   "cell_type": "code",
   "execution_count": 18,
   "metadata": {
    "ExecuteTime": {
     "end_time": "2020-10-22T15:36:11.590112Z",
     "start_time": "2020-10-22T15:36:11.582160Z"
    }
   },
   "outputs": [],
   "source": [
    "## get num images\n",
    "import os,glob\n",
    "def get_num_images(train_folder,folders=['dogs','cats'],verbose=True):\n",
    "    \"\"\"Gets the total number of images from all folders listed\"\"\"\n",
    "    num_images = 0\n",
    "    for folder in folders:\n",
    "        num_in_folder = len(os.listdir(train_folder+folder))\n",
    "        \n",
    "        if verbose:\n",
    "            print(f\"- There are {num_in_folder} images in {folder} folder.\")\n",
    "        num_images+=num_in_folder\n",
    "    return num_images"
   ]
  },
  {
   "cell_type": "code",
   "execution_count": 19,
   "metadata": {
    "ExecuteTime": {
     "end_time": "2020-10-22T15:36:11.608536Z",
     "start_time": "2020-10-22T15:36:11.591820Z"
    }
   },
   "outputs": [
    {
     "name": "stdout",
     "output_type": "stream",
     "text": [
      "Training images: 8002\n",
      "Test & Val images: 2002\n"
     ]
    },
    {
     "data": {
      "text/plain": [
       "(8002, 1602, 400)"
      ]
     },
     "execution_count": 19,
     "metadata": {},
     "output_type": "execute_result"
    }
   ],
   "source": [
    "## Get the Number of total images for batch size \n",
    "BATCH_SIZE_TRAIN = get_num_images(train_folder,verbose=0)\n",
    "BATCH_SIZE_TEST_VAL = get_num_images(test_folder,verbose=0)\n",
    "print(f\"Training images: {BATCH_SIZE_TRAIN}\")\n",
    "print(f\"Test & Val images: {BATCH_SIZE_TEST_VAL}\")\n",
    "\n",
    "\n",
    "## Make validation split\n",
    "VAL_SPLIT = 0.2\n",
    "BATCH_SIZE_VAL = round(BATCH_SIZE_TEST_VAL*VAL_SPLIT)\n",
    "BATCH_SIZE_TEST = round(BATCH_SIZE_TEST_VAL*(1-VAL_SPLIT))\n",
    "\n",
    "BATCH_SIZE_TRAIN,BATCH_SIZE_TEST,BATCH_SIZE_VAL"
   ]
  },
  {
   "cell_type": "code",
   "execution_count": 20,
   "metadata": {
    "ExecuteTime": {
     "end_time": "2020-10-22T15:36:11.614424Z",
     "start_time": "2020-10-22T15:36:11.610776Z"
    }
   },
   "outputs": [],
   "source": [
    "## MAKING IMAGE DATA GENERATORS FOR TRAIN TEST VAL\n",
    "IMG_SIZE = (64,64)\n",
    "\n",
    "## Create ImageDataGenerators\n",
    "train_datagen = ImageDataGenerator(rescale = 1./255)#,\n",
    "#                                    shear_range = 0.2, zoom_range = 0.2,\n",
    "#                                    horizontal_flip = True)\n",
    "\n",
    "test_val_datagen = ImageDataGenerator(rescale = 1./255,\n",
    "                                      validation_split=VAL_SPLIT)\n",
    "\n"
   ]
  },
  {
   "cell_type": "code",
   "execution_count": 21,
   "metadata": {
    "ExecuteTime": {
     "end_time": "2020-10-22T15:36:12.051610Z",
     "start_time": "2020-10-22T15:36:11.616229Z"
    }
   },
   "outputs": [
    {
     "name": "stdout",
     "output_type": "stream",
     "text": [
      "Found 8000 images belonging to 2 classes.\n",
      "Found 1600 images belonging to 2 classes.\n",
      "Found 400 images belonging to 2 classes.\n"
     ]
    }
   ],
   "source": [
    "## Make Training Sets With All Images\n",
    "training_set_full = train_datagen.flow_from_directory(train_folder,\n",
    "                                                 target_size=IMG_SIZE,\n",
    "                                                   batch_size=BATCH_SIZE_TRAIN,\n",
    "                                                      class_mode='binary')                                                  \n",
    "                                                      \n",
    "\n",
    "test_set_full = test_val_datagen.flow_from_directory(test_folder,\n",
    "                                                     target_size=IMG_SIZE,\n",
    "                                                     subset='training',\n",
    "                                                     batch_size=BATCH_SIZE_TEST,\n",
    "                                                    class_mode='binary')\n",
    "\n",
    "val_set_full = test_val_datagen.flow_from_directory(test_folder,target_size=IMG_SIZE,\n",
    "                                                   subset='validation',\n",
    "                                                    batch_size=BATCH_SIZE_VAL,\n",
    "                                                   class_mode='binary')"
   ]
  },
  {
   "cell_type": "code",
   "execution_count": 22,
   "metadata": {
    "ExecuteTime": {
     "end_time": "2020-10-22T15:36:26.926290Z",
     "start_time": "2020-10-22T15:36:12.053310Z"
    }
   },
   "outputs": [
    {
     "data": {
      "text/plain": [
       "array([1., 0., 0., ..., 1., 0., 1.], dtype=float32)"
      ]
     },
     "execution_count": 22,
     "metadata": {},
     "output_type": "execute_result"
    }
   ],
   "source": [
    "## MAKE X and YS FROM GENERATORS\n",
    "X_train, y_train=next(training_set_full)\n",
    "y_train"
   ]
  },
  {
   "cell_type": "code",
   "execution_count": 23,
   "metadata": {
    "ExecuteTime": {
     "end_time": "2020-10-22T15:36:31.101797Z",
     "start_time": "2020-10-22T15:36:26.927665Z"
    }
   },
   "outputs": [],
   "source": [
    "# TEST AND VAL SETS\n",
    "X_test, y_test=next(test_set_full)\n",
    "X_val,y_val = next(val_set_full)"
   ]
  },
  {
   "cell_type": "code",
   "execution_count": 24,
   "metadata": {
    "ExecuteTime": {
     "end_time": "2020-10-22T15:36:31.110285Z",
     "start_time": "2020-10-22T15:36:31.107346Z"
    }
   },
   "outputs": [
    {
     "data": {
      "text/plain": [
       "(8000, 64, 64, 3)"
      ]
     },
     "execution_count": 24,
     "metadata": {},
     "output_type": "execute_result"
    }
   ],
   "source": [
    "X_train.shape"
   ]
  },
  {
   "cell_type": "code",
   "execution_count": 25,
   "metadata": {
    "ExecuteTime": {
     "end_time": "2020-10-22T15:36:31.116326Z",
     "start_time": "2020-10-22T15:36:31.112407Z"
    }
   },
   "outputs": [
    {
     "data": {
      "text/plain": [
       "(8000, 12288)"
      ]
     },
     "execution_count": 25,
     "metadata": {},
     "output_type": "execute_result"
    }
   ],
   "source": [
    "## UNROW IMAGES FOR SEQUENTIAL MODEL\n",
    "X_train_unrow = X_train.reshape(X_train.shape[0],-1)\n",
    "X_test_unrow = X_test.reshape(X_test.shape[0],-1)\n",
    "X_val_unrow = X_val.reshape(X_val.shape[0],-1)\n",
    "X_train_unrow.shape"
   ]
  },
  {
   "cell_type": "code",
   "execution_count": 26,
   "metadata": {
    "ExecuteTime": {
     "end_time": "2020-10-22T15:36:31.124250Z",
     "start_time": "2020-10-22T15:36:31.117826Z"
    }
   },
   "outputs": [
    {
     "data": {
      "text/plain": [
       "1.0"
      ]
     },
     "metadata": {},
     "output_type": "display_data"
    },
    {
     "data": {
      "image/png": "[encoded data removed]",
      "text/plain": [
       "<PIL.Image.Image image mode=RGB size=64x64 at 0x7FF5AB185198>"
      ]
     },
     "metadata": {},
     "output_type": "display_data"
    }
   ],
   "source": [
    "i = np.random.choice(range(len(y_train)))\n",
    "display(y_train[i])\n",
    "display(array_to_img(X_train[i]))#.reshape(32,32,3)))"
   ]
  },
  {
   "cell_type": "markdown",
   "metadata": {},
   "source": [
    "# Using Dense Networks"
   ]
  },
  {
   "cell_type": "code",
   "execution_count": 27,
   "metadata": {
    "ExecuteTime": {
     "end_time": "2020-10-22T15:36:31.128493Z",
     "start_time": "2020-10-22T15:36:31.125634Z"
    }
   },
   "outputs": [],
   "source": [
    "from tensorflow.keras.models import Sequential\n",
    "from tensorflow.keras.layers import Dense\n",
    "from tensorflow.keras import optimizers,regularizers\n",
    "from tensorflow.keras import models,layers,optimizers,regularizers,activations\n",
    "from tensorflow.keras.layers import Conv2D, MaxPooling2D,Flatten,Dense,Dropout"
   ]
  },
  {
   "cell_type": "code",
   "execution_count": 28,
   "metadata": {
    "ExecuteTime": {
     "end_time": "2020-10-22T15:36:31.208352Z",
     "start_time": "2020-10-22T15:36:31.129951Z"
    }
   },
   "outputs": [
    {
     "name": "stdout",
     "output_type": "stream",
     "text": [
      "Model: \"sequential\"\n",
      "_________________________________________________________________\n",
      "Layer (type)                 Output Shape              Param #   \n",
      "=================================================================\n",
      "dense (Dense)                (None, 64)                786496    \n",
      "_________________________________________________________________\n",
      "dense_1 (Dense)              (None, 1)                 65        \n",
      "=================================================================\n",
      "Total params: 786,561\n",
      "Trainable params: 786,561\n",
      "Non-trainable params: 0\n",
      "_________________________________________________________________\n"
     ]
    }
   ],
   "source": [
    "model_1 = Sequential()\n",
    "model_1.add(Dense(64,activation='relu',input_shape=(X_train_unrow.shape[1],)))\n",
    "model_1.add(Dense(1,activation='sigmoid'))\n",
    "model_1.compile(optimizer='adam',loss='binary_crossentropy',\n",
    "                metrics=['accuracy',tf.keras.metrics.Recall()])\n",
    "model_1.summary()"
   ]
  },
  {
   "cell_type": "code",
   "execution_count": 29,
   "metadata": {
    "ExecuteTime": {
     "end_time": "2020-10-22T15:36:31.213816Z",
     "start_time": "2020-10-22T15:36:31.210297Z"
    }
   },
   "outputs": [
    {
     "data": {
      "text/plain": [
       "array([0., 1., 1., 0., 0.], dtype=float32)"
      ]
     },
     "execution_count": 29,
     "metadata": {},
     "output_type": "execute_result"
    }
   ],
   "source": [
    "y_val[:5]"
   ]
  },
  {
   "cell_type": "code",
   "execution_count": 30,
   "metadata": {
    "ExecuteTime": {
     "end_time": "2020-10-22T15:36:48.159958Z",
     "start_time": "2020-10-22T15:36:31.215525Z"
    }
   },
   "outputs": [
    {
     "name": "stdout",
     "output_type": "stream",
     "text": [
      "Epoch 1/20\n",
      "250/250 [==============================] - 1s 4ms/step - loss: 0.8941 - accuracy: 0.5293 - recall: 0.5325 - val_loss: 0.7839 - val_accuracy: 0.5250 - val_recall: 0.1650\n",
      "Epoch 2/20\n",
      "250/250 [==============================] - 1s 3ms/step - loss: 0.7403 - accuracy: 0.5658 - recall: 0.5725 - val_loss: 0.8372 - val_accuracy: 0.5325 - val_recall: 0.0800\n",
      "Epoch 3/20\n",
      "250/250 [==============================] - 1s 3ms/step - loss: 0.6969 - accuracy: 0.5934 - recall: 0.5918 - val_loss: 0.7620 - val_accuracy: 0.5300 - val_recall: 0.9600\n",
      "Epoch 4/20\n",
      "250/250 [==============================] - 1s 3ms/step - loss: 0.7013 - accuracy: 0.5875 - recall: 0.5842 - val_loss: 0.7195 - val_accuracy: 0.5325 - val_recall: 0.1750\n",
      "Epoch 5/20\n",
      "250/250 [==============================] - 1s 3ms/step - loss: 0.6620 - accuracy: 0.6106 - recall: 0.6118 - val_loss: 0.6981 - val_accuracy: 0.5500 - val_recall: 0.9000\n",
      "Epoch 6/20\n",
      "250/250 [==============================] - 1s 3ms/step - loss: 0.6896 - accuracy: 0.5889 - recall: 0.5990 - val_loss: 0.6899 - val_accuracy: 0.5500 - val_recall: 0.2200\n",
      "Epoch 7/20\n",
      "250/250 [==============================] - 1s 3ms/step - loss: 0.6764 - accuracy: 0.5845 - recall: 0.5840 - val_loss: 0.6764 - val_accuracy: 0.6000 - val_recall: 0.8150\n",
      "Epoch 8/20\n",
      "250/250 [==============================] - 1s 3ms/step - loss: 0.6632 - accuracy: 0.5954 - recall: 0.6030 - val_loss: 0.6731 - val_accuracy: 0.5825 - val_recall: 0.8200\n",
      "Epoch 9/20\n",
      "250/250 [==============================] - 1s 3ms/step - loss: 0.6632 - accuracy: 0.6006 - recall: 0.6102 - val_loss: 0.6927 - val_accuracy: 0.5525 - val_recall: 0.8850\n",
      "Epoch 10/20\n",
      "250/250 [==============================] - 1s 3ms/step - loss: 0.6461 - accuracy: 0.6160 - recall: 0.6425 - val_loss: 0.6780 - val_accuracy: 0.5825 - val_recall: 0.3550\n",
      "Epoch 11/20\n",
      "250/250 [==============================] - 1s 3ms/step - loss: 0.6524 - accuracy: 0.6090 - recall: 0.6675 - val_loss: 0.6701 - val_accuracy: 0.5925 - val_recall: 0.7500\n",
      "Epoch 12/20\n",
      "250/250 [==============================] - 1s 3ms/step - loss: 0.6415 - accuracy: 0.6367 - recall: 0.6612 - val_loss: 0.6868 - val_accuracy: 0.5850 - val_recall: 0.6050\n",
      "Epoch 13/20\n",
      "250/250 [==============================] - 1s 3ms/step - loss: 0.6524 - accuracy: 0.6196 - recall: 0.6538 - val_loss: 0.6684 - val_accuracy: 0.6025 - val_recall: 0.5350\n",
      "Epoch 14/20\n",
      "250/250 [==============================] - 1s 3ms/step - loss: 0.6303 - accuracy: 0.6423 - recall: 0.6658 - val_loss: 0.6964 - val_accuracy: 0.5850 - val_recall: 0.3550\n",
      "Epoch 15/20\n",
      "250/250 [==============================] - 1s 3ms/step - loss: 0.6268 - accuracy: 0.6414 - recall: 0.6610 - val_loss: 0.6716 - val_accuracy: 0.5950 - val_recall: 0.4850\n",
      "Epoch 16/20\n",
      "250/250 [==============================] - 1s 3ms/step - loss: 0.6189 - accuracy: 0.6532 - recall: 0.6655 - val_loss: 0.6652 - val_accuracy: 0.6100 - val_recall: 0.5850\n",
      "Epoch 17/20\n",
      "250/250 [==============================] - 1s 3ms/step - loss: 0.6178 - accuracy: 0.6534 - recall: 0.6740 - val_loss: 0.6864 - val_accuracy: 0.5375 - val_recall: 0.7900\n",
      "Epoch 18/20\n",
      "250/250 [==============================] - 1s 3ms/step - loss: 0.6236 - accuracy: 0.6490 - recall: 0.6965 - val_loss: 0.6704 - val_accuracy: 0.5850 - val_recall: 0.6550\n",
      "Epoch 19/20\n",
      "250/250 [==============================] - 1s 3ms/step - loss: 0.6116 - accuracy: 0.6562 - recall: 0.6815 - val_loss: 0.6920 - val_accuracy: 0.5900 - val_recall: 0.4000\n",
      "Epoch 20/20\n",
      "250/250 [==============================] - 1s 3ms/step - loss: 0.6098 - accuracy: 0.6596 - recall: 0.6835 - val_loss: 0.6693 - val_accuracy: 0.5850 - val_recall: 0.7150\n"
     ]
    }
   ],
   "source": [
    "history = model_1.fit(X_train_unrow,y_train,epochs=20,\n",
    "                      validation_data=(X_val_unrow,y_val),\n",
    "                     )"
   ]
  },
  {
   "cell_type": "code",
   "execution_count": 31,
   "metadata": {
    "ExecuteTime": {
     "end_time": "2020-10-22T15:36:48.183518Z",
     "start_time": "2020-10-22T15:36:48.161693Z"
    }
   },
   "outputs": [
    {
     "data": {
      "text/html": [
       "<div>\n",
       "<style scoped>\n",
       "    .dataframe tbody tr th:only-of-type {\n",
       "        vertical-align: middle;\n",
       "    }\n",
       "\n",
       "    .dataframe tbody tr th {\n",
       "        vertical-align: top;\n",
       "    }\n",
       "\n",
       "    .dataframe thead th {\n",
       "        text-align: right;\n",
       "    }\n",
       "</style>\n",
       "<table border=\"1\" class=\"dataframe\">\n",
       "  <thead>\n",
       "    <tr style=\"text-align: right;\">\n",
       "      <th></th>\n",
       "      <th>loss</th>\n",
       "      <th>accuracy</th>\n",
       "      <th>recall</th>\n",
       "      <th>val_loss</th>\n",
       "      <th>val_accuracy</th>\n",
       "      <th>val_recall</th>\n",
       "    </tr>\n",
       "  </thead>\n",
       "  <tbody>\n",
       "    <tr>\n",
       "      <th>0</th>\n",
       "      <td>0.894124</td>\n",
       "      <td>0.529250</td>\n",
       "      <td>0.53250</td>\n",
       "      <td>0.783946</td>\n",
       "      <td>0.5250</td>\n",
       "      <td>0.165</td>\n",
       "    </tr>\n",
       "    <tr>\n",
       "      <th>1</th>\n",
       "      <td>0.740292</td>\n",
       "      <td>0.565750</td>\n",
       "      <td>0.57250</td>\n",
       "      <td>0.837238</td>\n",
       "      <td>0.5325</td>\n",
       "      <td>0.080</td>\n",
       "    </tr>\n",
       "    <tr>\n",
       "      <th>2</th>\n",
       "      <td>0.696889</td>\n",
       "      <td>0.593375</td>\n",
       "      <td>0.59175</td>\n",
       "      <td>0.762013</td>\n",
       "      <td>0.5300</td>\n",
       "      <td>0.960</td>\n",
       "    </tr>\n",
       "    <tr>\n",
       "      <th>3</th>\n",
       "      <td>0.701251</td>\n",
       "      <td>0.587500</td>\n",
       "      <td>0.58425</td>\n",
       "      <td>0.719533</td>\n",
       "      <td>0.5325</td>\n",
       "      <td>0.175</td>\n",
       "    </tr>\n",
       "    <tr>\n",
       "      <th>4</th>\n",
       "      <td>0.661993</td>\n",
       "      <td>0.610625</td>\n",
       "      <td>0.61175</td>\n",
       "      <td>0.698096</td>\n",
       "      <td>0.5500</td>\n",
       "      <td>0.900</td>\n",
       "    </tr>\n",
       "    <tr>\n",
       "      <th>5</th>\n",
       "      <td>0.689639</td>\n",
       "      <td>0.588875</td>\n",
       "      <td>0.59900</td>\n",
       "      <td>0.689898</td>\n",
       "      <td>0.5500</td>\n",
       "      <td>0.220</td>\n",
       "    </tr>\n",
       "    <tr>\n",
       "      <th>6</th>\n",
       "      <td>0.676356</td>\n",
       "      <td>0.584500</td>\n",
       "      <td>0.58400</td>\n",
       "      <td>0.676443</td>\n",
       "      <td>0.6000</td>\n",
       "      <td>0.815</td>\n",
       "    </tr>\n",
       "    <tr>\n",
       "      <th>7</th>\n",
       "      <td>0.663218</td>\n",
       "      <td>0.595375</td>\n",
       "      <td>0.60300</td>\n",
       "      <td>0.673123</td>\n",
       "      <td>0.5825</td>\n",
       "      <td>0.820</td>\n",
       "    </tr>\n",
       "    <tr>\n",
       "      <th>8</th>\n",
       "      <td>0.663188</td>\n",
       "      <td>0.600625</td>\n",
       "      <td>0.61025</td>\n",
       "      <td>0.692719</td>\n",
       "      <td>0.5525</td>\n",
       "      <td>0.885</td>\n",
       "    </tr>\n",
       "    <tr>\n",
       "      <th>9</th>\n",
       "      <td>0.646075</td>\n",
       "      <td>0.616000</td>\n",
       "      <td>0.64250</td>\n",
       "      <td>0.678042</td>\n",
       "      <td>0.5825</td>\n",
       "      <td>0.355</td>\n",
       "    </tr>\n",
       "    <tr>\n",
       "      <th>10</th>\n",
       "      <td>0.652428</td>\n",
       "      <td>0.609000</td>\n",
       "      <td>0.66750</td>\n",
       "      <td>0.670084</td>\n",
       "      <td>0.5925</td>\n",
       "      <td>0.750</td>\n",
       "    </tr>\n",
       "    <tr>\n",
       "      <th>11</th>\n",
       "      <td>0.641485</td>\n",
       "      <td>0.636750</td>\n",
       "      <td>0.66125</td>\n",
       "      <td>0.686845</td>\n",
       "      <td>0.5850</td>\n",
       "      <td>0.605</td>\n",
       "    </tr>\n",
       "    <tr>\n",
       "      <th>12</th>\n",
       "      <td>0.652426</td>\n",
       "      <td>0.619625</td>\n",
       "      <td>0.65375</td>\n",
       "      <td>0.668393</td>\n",
       "      <td>0.6025</td>\n",
       "      <td>0.535</td>\n",
       "    </tr>\n",
       "    <tr>\n",
       "      <th>13</th>\n",
       "      <td>0.630340</td>\n",
       "      <td>0.642250</td>\n",
       "      <td>0.66575</td>\n",
       "      <td>0.696368</td>\n",
       "      <td>0.5850</td>\n",
       "      <td>0.355</td>\n",
       "    </tr>\n",
       "    <tr>\n",
       "      <th>14</th>\n",
       "      <td>0.626835</td>\n",
       "      <td>0.641375</td>\n",
       "      <td>0.66100</td>\n",
       "      <td>0.671626</td>\n",
       "      <td>0.5950</td>\n",
       "      <td>0.485</td>\n",
       "    </tr>\n",
       "    <tr>\n",
       "      <th>15</th>\n",
       "      <td>0.618927</td>\n",
       "      <td>0.653250</td>\n",
       "      <td>0.66550</td>\n",
       "      <td>0.665178</td>\n",
       "      <td>0.6100</td>\n",
       "      <td>0.585</td>\n",
       "    </tr>\n",
       "    <tr>\n",
       "      <th>16</th>\n",
       "      <td>0.617830</td>\n",
       "      <td>0.653375</td>\n",
       "      <td>0.67400</td>\n",
       "      <td>0.686361</td>\n",
       "      <td>0.5375</td>\n",
       "      <td>0.790</td>\n",
       "    </tr>\n",
       "    <tr>\n",
       "      <th>17</th>\n",
       "      <td>0.623556</td>\n",
       "      <td>0.649000</td>\n",
       "      <td>0.69650</td>\n",
       "      <td>0.670414</td>\n",
       "      <td>0.5850</td>\n",
       "      <td>0.655</td>\n",
       "    </tr>\n",
       "    <tr>\n",
       "      <th>18</th>\n",
       "      <td>0.611621</td>\n",
       "      <td>0.656250</td>\n",
       "      <td>0.68150</td>\n",
       "      <td>0.691970</td>\n",
       "      <td>0.5900</td>\n",
       "      <td>0.400</td>\n",
       "    </tr>\n",
       "    <tr>\n",
       "      <th>19</th>\n",
       "      <td>0.609779</td>\n",
       "      <td>0.659625</td>\n",
       "      <td>0.68350</td>\n",
       "      <td>0.669324</td>\n",
       "      <td>0.5850</td>\n",
       "      <td>0.715</td>\n",
       "    </tr>\n",
       "  </tbody>\n",
       "</table>\n",
       "</div>"
      ],
      "text/plain": [
       "        loss  accuracy   recall  val_loss  val_accuracy  val_recall\n",
       "0   0.894124  0.529250  0.53250  0.783946        0.5250       0.165\n",
       "1   0.740292  0.565750  0.57250  0.837238        0.5325       0.080\n",
       "2   0.696889  0.593375  0.59175  0.762013        0.5300       0.960\n",
       "3   0.701251  0.587500  0.58425  0.719533        0.5325       0.175\n",
       "4   0.661993  0.610625  0.61175  0.698096        0.5500       0.900\n",
       "5   0.689639  0.588875  0.59900  0.689898        0.5500       0.220\n",
       "6   0.676356  0.584500  0.58400  0.676443        0.6000       0.815\n",
       "7   0.663218  0.595375  0.60300  0.673123        0.5825       0.820\n",
       "8   0.663188  0.600625  0.61025  0.692719        0.5525       0.885\n",
       "9   0.646075  0.616000  0.64250  0.678042        0.5825       0.355\n",
       "10  0.652428  0.609000  0.66750  0.670084        0.5925       0.750\n",
       "11  0.641485  0.636750  0.66125  0.686845        0.5850       0.605\n",
       "12  0.652426  0.619625  0.65375  0.668393        0.6025       0.535\n",
       "13  0.630340  0.642250  0.66575  0.696368        0.5850       0.355\n",
       "14  0.626835  0.641375  0.66100  0.671626        0.5950       0.485\n",
       "15  0.618927  0.653250  0.66550  0.665178        0.6100       0.585\n",
       "16  0.617830  0.653375  0.67400  0.686361        0.5375       0.790\n",
       "17  0.623556  0.649000  0.69650  0.670414        0.5850       0.655\n",
       "18  0.611621  0.656250  0.68150  0.691970        0.5900       0.400\n",
       "19  0.609779  0.659625  0.68350  0.669324        0.5850       0.715"
      ]
     },
     "execution_count": 31,
     "metadata": {},
     "output_type": "execute_result"
    }
   ],
   "source": [
    "## Get History \n",
    "history_df = pd.DataFrame(history.history)\n",
    "history_df"
   ]
  },
  {
   "cell_type": "code",
   "execution_count": 32,
   "metadata": {
    "ExecuteTime": {
     "end_time": "2020-10-22T15:36:48.786390Z",
     "start_time": "2020-10-22T15:36:48.185264Z"
    }
   },
   "outputs": [
    {
     "data": {
      "image/png": "[encoded data removed]",
      "text/plain": [
       "<Figure size 432x288 with 1 Axes>"
      ]
     },
     "metadata": {
      "needs_background": "light"
     },
     "output_type": "display_data"
    },
    {
     "data": {
      "image/png": "[encoded data removed]",
      "text/plain": [
       "<Figure size 432x288 with 1 Axes>"
      ]
     },
     "metadata": {
      "needs_background": "light"
     },
     "output_type": "display_data"
    },
    {
     "data": {
      "image/png": "[encoded data removed]",
      "text/plain": [
       "<Figure size 432x288 with 1 Axes>"
      ]
     },
     "metadata": {
      "needs_background": "light"
     },
     "output_type": "display_data"
    }
   ],
   "source": [
    "metrics = ['recall','loss','accuracy']\n",
    "for metric in metrics:\n",
    "    plot_metrics = history_df[[col for col in history_df.columns if metric in col]]\n",
    "    plot_metrics.plot()"
   ]
  },
  {
   "cell_type": "code",
   "execution_count": 33,
   "metadata": {
    "ExecuteTime": {
     "end_time": "2020-10-22T15:36:48.929337Z",
     "start_time": "2020-10-22T15:36:48.788279Z"
    }
   },
   "outputs": [
    {
     "data": {
      "text/plain": [
       "array([[0.],\n",
       "       [1.],\n",
       "       [1.],\n",
       "       ...,\n",
       "       [1.],\n",
       "       [0.],\n",
       "       [1.]], dtype=float32)"
      ]
     },
     "execution_count": 33,
     "metadata": {},
     "output_type": "execute_result"
    }
   ],
   "source": [
    "## Get PRedictions\n",
    "y_hat_test = model_1.predict(X_test_unrow).round()\n",
    "y_hat_test"
   ]
  },
  {
   "cell_type": "code",
   "execution_count": 34,
   "metadata": {
    "ExecuteTime": {
     "end_time": "2020-10-22T15:36:48.942263Z",
     "start_time": "2020-10-22T15:36:48.931323Z"
    }
   },
   "outputs": [
    {
     "name": "stdout",
     "output_type": "stream",
     "text": [
      "              precision    recall  f1-score   support\n",
      "\n",
      "         0.0       0.66      0.49      0.56       800\n",
      "         1.0       0.59      0.74      0.66       800\n",
      "\n",
      "    accuracy                           0.62      1600\n",
      "   macro avg       0.62      0.62      0.61      1600\n",
      "weighted avg       0.62      0.62      0.61      1600\n",
      "\n"
     ]
    }
   ],
   "source": [
    "from sklearn import metrics\n",
    "print(metrics.classification_report(y_test,y_hat_test))"
   ]
  },
  {
   "cell_type": "markdown",
   "metadata": {},
   "source": [
    "### Functionize Model Creation & Plotting"
   ]
  },
  {
   "cell_type": "code",
   "execution_count": 35,
   "metadata": {
    "ExecuteTime": {
     "end_time": "2020-10-22T15:36:48.950527Z",
     "start_time": "2020-10-22T15:36:48.944693Z"
    }
   },
   "outputs": [],
   "source": [
    "def make_model():\n",
    "    model_1 = Sequential()\n",
    "    model_1.add(Dense(64,activation='relu',\n",
    "                      input_shape=(X_train_unrow.shape[1],)))\n",
    "    \n",
    "    model_1.add(Dense(32,activation='relu'))\n",
    "    \n",
    "    model_1.add(Dense(1,activation='sigmoid'))\n",
    "    model_1.compile(optimizer='adam',loss='binary_crossentropy',\n",
    "                    metrics=['accuracy',tf.keras.metrics.Recall()])\n",
    "    display(model_1.summary())\n",
    "    return model_1"
   ]
  },
  {
   "cell_type": "code",
   "execution_count": 36,
   "metadata": {
    "ExecuteTime": {
     "end_time": "2020-10-22T15:36:48.956721Z",
     "start_time": "2020-10-22T15:36:48.952696Z"
    }
   },
   "outputs": [],
   "source": [
    "def plot_history(history_df):\n",
    "    if isinstance(history_df, pd.DataFrame)==False:\n",
    "        history_df = pd.DataFrame(history_df.history)\n",
    "        \n",
    "    metrics = ['recall','loss','accuracy']\n",
    "    for metric in metrics:\n",
    "        plot_metrics = history_df[[col for col in history_df.columns if metric in col]]\n",
    "        plot_metrics.plot()\n",
    "        "
   ]
  },
  {
   "cell_type": "code",
   "execution_count": 37,
   "metadata": {
    "ExecuteTime": {
     "end_time": "2020-10-22T15:37:05.677089Z",
     "start_time": "2020-10-22T15:36:48.959199Z"
    },
    "scrolled": false
   },
   "outputs": [
    {
     "name": "stdout",
     "output_type": "stream",
     "text": [
      "Model: \"sequential_1\"\n",
      "_________________________________________________________________\n",
      "Layer (type)                 Output Shape              Param #   \n",
      "=================================================================\n",
      "dense_2 (Dense)              (None, 64)                786496    \n",
      "_________________________________________________________________\n",
      "dense_3 (Dense)              (None, 32)                2080      \n",
      "_________________________________________________________________\n",
      "dense_4 (Dense)              (None, 1)                 33        \n",
      "=================================================================\n",
      "Total params: 788,609\n",
      "Trainable params: 788,609\n",
      "Non-trainable params: 0\n",
      "_________________________________________________________________\n"
     ]
    },
    {
     "data": {
      "text/plain": [
       "None"
      ]
     },
     "metadata": {},
     "output_type": "display_data"
    },
    {
     "name": "stdout",
     "output_type": "stream",
     "text": [
      "Epoch 1/20\n",
      "250/250 [==============================] - 1s 4ms/step - loss: 0.8047 - accuracy: 0.5346 - recall_1: 0.5418 - val_loss: 0.6948 - val_accuracy: 0.5150 - val_recall_1: 0.2250\n",
      "Epoch 2/20\n",
      "250/250 [==============================] - 1s 3ms/step - loss: 0.6933 - accuracy: 0.5679 - recall_1: 0.5648 - val_loss: 0.6709 - val_accuracy: 0.5800 - val_recall_1: 0.5550\n",
      "Epoch 3/20\n",
      "250/250 [==============================] - 1s 3ms/step - loss: 0.6779 - accuracy: 0.5799 - recall_1: 0.5795 - val_loss: 0.6969 - val_accuracy: 0.5500 - val_recall_1: 0.8500\n",
      "Epoch 4/20\n",
      "250/250 [==============================] - 1s 3ms/step - loss: 0.6756 - accuracy: 0.5865 - recall_1: 0.6127 - val_loss: 0.6747 - val_accuracy: 0.5575 - val_recall_1: 0.8300\n",
      "Epoch 5/20\n",
      "250/250 [==============================] - 1s 3ms/step - loss: 0.6619 - accuracy: 0.5944 - recall_1: 0.5857 - val_loss: 0.6690 - val_accuracy: 0.5775 - val_recall_1: 0.4950\n",
      "Epoch 6/20\n",
      "250/250 [==============================] - 1s 3ms/step - loss: 0.6630 - accuracy: 0.5999 - recall_1: 0.6020 - val_loss: 0.6821 - val_accuracy: 0.5700 - val_recall_1: 0.8250\n",
      "Epoch 7/20\n",
      "250/250 [==============================] - 1s 4ms/step - loss: 0.6485 - accuracy: 0.6176 - recall_1: 0.6432 - val_loss: 0.6666 - val_accuracy: 0.5850 - val_recall_1: 0.7550\n",
      "Epoch 8/20\n",
      "250/250 [==============================] - 1s 3ms/step - loss: 0.6594 - accuracy: 0.5940 - recall_1: 0.6270 - val_loss: 0.6777 - val_accuracy: 0.5800 - val_recall_1: 0.4450\n",
      "Epoch 9/20\n",
      "250/250 [==============================] - 1s 3ms/step - loss: 0.6466 - accuracy: 0.6265 - recall_1: 0.6258 - val_loss: 0.6816 - val_accuracy: 0.5900 - val_recall_1: 0.7700\n",
      "Epoch 10/20\n",
      "250/250 [==============================] - 1s 3ms/step - loss: 0.6405 - accuracy: 0.6302 - recall_1: 0.6457 - val_loss: 0.6723 - val_accuracy: 0.6050 - val_recall_1: 0.4950\n",
      "Epoch 11/20\n",
      "250/250 [==============================] - 1s 3ms/step - loss: 0.6437 - accuracy: 0.6245 - recall_1: 0.6380 - val_loss: 0.6697 - val_accuracy: 0.5975 - val_recall_1: 0.6750\n",
      "Epoch 12/20\n",
      "250/250 [==============================] - 1s 3ms/step - loss: 0.6376 - accuracy: 0.6365 - recall_1: 0.6432 - val_loss: 0.6945 - val_accuracy: 0.5600 - val_recall_1: 0.2800\n",
      "Epoch 13/20\n",
      "250/250 [==============================] - 1s 3ms/step - loss: 0.6270 - accuracy: 0.6501 - recall_1: 0.6410 - val_loss: 0.6671 - val_accuracy: 0.5925 - val_recall_1: 0.6100\n",
      "Epoch 14/20\n",
      "250/250 [==============================] - 1s 3ms/step - loss: 0.6215 - accuracy: 0.6470 - recall_1: 0.6538 - val_loss: 0.6922 - val_accuracy: 0.5700 - val_recall_1: 0.3800\n",
      "Epoch 15/20\n",
      "250/250 [==============================] - 1s 3ms/step - loss: 0.6209 - accuracy: 0.6516 - recall_1: 0.6357 - val_loss: 0.7353 - val_accuracy: 0.5275 - val_recall_1: 0.1050\n",
      "Epoch 16/20\n",
      "250/250 [==============================] - 1s 3ms/step - loss: 0.6249 - accuracy: 0.6451 - recall_1: 0.6500 - val_loss: 0.6691 - val_accuracy: 0.5925 - val_recall_1: 0.5600\n",
      "Epoch 17/20\n",
      "250/250 [==============================] - 1s 3ms/step - loss: 0.6105 - accuracy: 0.6545 - recall_1: 0.6407 - val_loss: 0.6851 - val_accuracy: 0.6025 - val_recall_1: 0.4650\n",
      "Epoch 18/20\n",
      "250/250 [==============================] - 1s 3ms/step - loss: 0.6115 - accuracy: 0.6605 - recall_1: 0.6515 - val_loss: 0.8416 - val_accuracy: 0.5350 - val_recall_1: 0.1000\n",
      "Epoch 19/20\n",
      "250/250 [==============================] - 1s 3ms/step - loss: 0.6151 - accuracy: 0.6591 - recall_1: 0.6352 - val_loss: 0.6802 - val_accuracy: 0.5725 - val_recall_1: 0.3450\n",
      "Epoch 20/20\n",
      "250/250 [==============================] - 1s 3ms/step - loss: 0.6016 - accuracy: 0.6691 - recall_1: 0.6545 - val_loss: 0.6746 - val_accuracy: 0.5725 - val_recall_1: 0.4200\n"
     ]
    },
    {
     "data": {
      "image/png": "[encoded data removed]",
      "text/plain": [
       "<Figure size 432x288 with 1 Axes>"
      ]
     },
     "metadata": {
      "needs_background": "light"
     },
     "output_type": "display_data"
    },
    {
     "data": {
      "image/png": "[encoded data removed]",
      "text/plain": [
       "<Figure size 432x288 with 1 Axes>"
      ]
     },
     "metadata": {
      "needs_background": "light"
     },
     "output_type": "display_data"
    },
    {
     "data": {
      "image/png": "[encoded data removed]",
      "text/plain": [
       "<Figure size 432x288 with 1 Axes>"
      ]
     },
     "metadata": {
      "needs_background": "light"
     },
     "output_type": "display_data"
    }
   ],
   "source": [
    "model_2 = make_model()\n",
    "history_2 = model_2.fit(X_train_unrow,y_train,epochs=20,\n",
    "                      validation_data=(X_val_unrow,y_val),\n",
    "                     )\n",
    "plot_history(history_2)"
   ]
  },
  {
   "cell_type": "markdown",
   "metadata": {},
   "source": [
    "### Combine the Whole Process Into One Func"
   ]
  },
  {
   "cell_type": "code",
   "execution_count": 40,
   "metadata": {
    "ExecuteTime": {
     "end_time": "2020-10-22T15:40:54.892327Z",
     "start_time": "2020-10-22T15:40:54.888361Z"
    }
   },
   "outputs": [],
   "source": [
    "def make_fit_plot_model(build_fn=make_model,fit_kws=dict(epochs=10)):\n",
    "    model_1 = build_fn()\n",
    "    history = model_1.fit(X_train_unrow,y_train,**fit_kws,\n",
    "                          validation_data=(X_val_unrow,y_val),\n",
    "                         )\n",
    "    plot_history(history)\n",
    "    \n",
    "    y_hat_test = model_1.predict(X_test_unrow).round()\n",
    "    print(metrics.classification_report(y_test,y_hat_test))\n",
    "    return model_1\n"
   ]
  },
  {
   "cell_type": "code",
   "execution_count": 41,
   "metadata": {
    "ExecuteTime": {
     "end_time": "2020-10-22T15:41:04.188270Z",
     "start_time": "2020-10-22T15:40:55.266892Z"
    }
   },
   "outputs": [
    {
     "name": "stdout",
     "output_type": "stream",
     "text": [
      "Model: \"sequential_3\"\n",
      "_________________________________________________________________\n",
      "Layer (type)                 Output Shape              Param #   \n",
      "=================================================================\n",
      "dense_8 (Dense)              (None, 64)                786496    \n",
      "_________________________________________________________________\n",
      "dense_9 (Dense)              (None, 32)                2080      \n",
      "_________________________________________________________________\n",
      "dense_10 (Dense)             (None, 1)                 33        \n",
      "=================================================================\n",
      "Total params: 788,609\n",
      "Trainable params: 788,609\n",
      "Non-trainable params: 0\n",
      "_________________________________________________________________\n"
     ]
    },
    {
     "data": {
      "text/plain": [
       "None"
      ]
     },
     "metadata": {},
     "output_type": "display_data"
    },
    {
     "name": "stdout",
     "output_type": "stream",
     "text": [
      "Epoch 1/10\n",
      "250/250 [==============================] - 1s 4ms/step - loss: 0.7191 - accuracy: 0.5361 - recall_3: 0.5300 - val_loss: 0.7064 - val_accuracy: 0.5275 - val_recall_3: 0.9400\n",
      "Epoch 2/10\n",
      "250/250 [==============================] - 1s 3ms/step - loss: 0.6942 - accuracy: 0.5583 - recall_3: 0.5635 - val_loss: 0.6749 - val_accuracy: 0.5625 - val_recall_3: 0.5600\n",
      "Epoch 3/10\n",
      "250/250 [==============================] - 1s 3ms/step - loss: 0.6749 - accuracy: 0.5814 - recall_3: 0.5993 - val_loss: 0.6636 - val_accuracy: 0.6000 - val_recall_3: 0.6200\n",
      "Epoch 4/10\n",
      "250/250 [==============================] - 1s 3ms/step - loss: 0.6767 - accuracy: 0.5799 - recall_3: 0.6085 - val_loss: 0.6742 - val_accuracy: 0.5575 - val_recall_3: 0.7950\n",
      "Epoch 5/10\n",
      "250/250 [==============================] - 1s 3ms/step - loss: 0.6781 - accuracy: 0.5804 - recall_3: 0.5997 - val_loss: 0.6722 - val_accuracy: 0.5675 - val_recall_3: 0.6900\n",
      "Epoch 6/10\n",
      "250/250 [==============================] - 1s 3ms/step - loss: 0.6632 - accuracy: 0.5969 - recall_3: 0.6315 - val_loss: 0.7050 - val_accuracy: 0.5625 - val_recall_3: 0.7450\n",
      "Epoch 7/10\n",
      "250/250 [==============================] - 1s 3ms/step - loss: 0.6628 - accuracy: 0.6059 - recall_3: 0.6180 - val_loss: 0.6663 - val_accuracy: 0.6050 - val_recall_3: 0.5050\n",
      "Epoch 8/10\n",
      "250/250 [==============================] - 1s 3ms/step - loss: 0.6641 - accuracy: 0.6064 - recall_3: 0.6463 - val_loss: 0.6731 - val_accuracy: 0.6100 - val_recall_3: 0.7000\n",
      "Epoch 9/10\n",
      "250/250 [==============================] - 1s 3ms/step - loss: 0.6574 - accuracy: 0.6077 - recall_3: 0.6407 - val_loss: 0.6673 - val_accuracy: 0.5925 - val_recall_3: 0.5850\n",
      "Epoch 10/10\n",
      "250/250 [==============================] - 1s 3ms/step - loss: 0.6554 - accuracy: 0.6089 - recall_3: 0.6705 - val_loss: 0.6693 - val_accuracy: 0.6150 - val_recall_3: 0.5800\n",
      "              precision    recall  f1-score   support\n",
      "\n",
      "         0.0       0.62      0.63      0.62       800\n",
      "         1.0       0.62      0.61      0.62       800\n",
      "\n",
      "    accuracy                           0.62      1600\n",
      "   macro avg       0.62      0.62      0.62      1600\n",
      "weighted avg       0.62      0.62      0.62      1600\n",
      "\n"
     ]
    },
    {
     "data": {
      "image/png": "[encoded data removed]",
      "text/plain": [
       "<Figure size 432x288 with 1 Axes>"
      ]
     },
     "metadata": {
      "needs_background": "light"
     },
     "output_type": "display_data"
    },
    {
     "data": {
      "image/png": "[encoded data removed]",
      "text/plain": [
       "<Figure size 432x288 with 1 Axes>"
      ]
     },
     "metadata": {
      "needs_background": "light"
     },
     "output_type": "display_data"
    },
    {
     "data": {
      "image/png": "[encoded data removed]",
      "text/plain": [
       "<Figure size 432x288 with 1 Axes>"
      ]
     },
     "metadata": {
      "needs_background": "light"
     },
     "output_type": "display_data"
    }
   ],
   "source": [
    "model_3 = make_fit_plot_model(make_model)"
   ]
  },
  {
   "cell_type": "markdown",
   "metadata": {},
   "source": [
    "## Activity: Ok...so now what??"
   ]
  },
  {
   "cell_type": "markdown",
   "metadata": {},
   "source": [
    "> Using the rules of thumb and your own knowledge/research, attempt several methods to improve the results of the model. "
   ]
  },
  {
   "cell_type": "code",
   "execution_count": null,
   "metadata": {},
   "outputs": [],
   "source": []
  },
  {
   "cell_type": "code",
   "execution_count": null,
   "metadata": {},
   "outputs": [],
   "source": []
  },
  {
   "cell_type": "code",
   "execution_count": null,
   "metadata": {},
   "outputs": [],
   "source": []
  },
  {
   "cell_type": "markdown",
   "metadata": {
    "heading_collapsed": true
   },
   "source": [
    "# APPENDIX/FOR TOMORROW"
   ]
  },
  {
   "cell_type": "markdown",
   "metadata": {
    "heading_collapsed": true,
    "hidden": true
   },
   "source": [
    "## HyperParameter Tuning with GridSearchCV & Keras"
   ]
  },
  {
   "cell_type": "markdown",
   "metadata": {
    "hidden": true
   },
   "source": [
    "Original Source: https://chrisalbon.com/deep_learning/keras/tuning_neural_network_hyperparameters/\n",
    "<br><br>\n",
    "\n",
    "- To use `GridSearchCV` or other similar functions in scikit-learn with a Keras neural network, we need to wrap our keras model in `keras.wrappers.scikit_learn`'s `KerasClassifier` and `KerasRegressor`.\n",
    "\n",
    "1. To do this, we need to write a build function(`build_fn`) that creates our model such as `create_model`.\n",
    "    - This function must accept whatever parameters you wish to tune. \n",
    "    - It also must have a default argument for each parameter.\n",
    "    - This function must Return the model (and only the model)\n",
    "    \n",
    "\n",
    "```python\n",
    "\n",
    "## Define the build function\n",
    "def create_model(n_units=(50,25,7), activation='relu',final_activation='softmax',\n",
    "                optimizer='adam'):\n",
    "    \n",
    "    ## Pro tip:save the local variables now so you can print out the parameters used to create the model.\n",
    "    params_used = locals()\n",
    "    print('Parameters for model:\\n',params_used)\n",
    "    \n",
    "   \n",
    "    from keras.models import Sequential\n",
    "    from keras import layers\n",
    "    \n",
    "    model=Sequential()\n",
    "    model.add(layers.Dense(n_units[0], activation=activation, input_shape=(2000,)))\n",
    "    model.add(layers.Dense(n_units[1], activation=activation))\n",
    "    model.add(layers.Dense(n_units[2], activation=final_activation))\n",
    "    model.compile(optimizer=optimizer, loss='categorical_crossentropy',metrics=['accuracy'])\n",
    "    \n",
    "    display(model.summary())\n",
    "    return model \n",
    "```    \n",
    "\n",
    "2. We then create out model using the Keras wrapper:\n",
    "\n",
    "```python\n",
    "from keras.wrappers.scikit_learn import KerasClassifier\n",
    "neural_network =  KerasClassifier(build_fn=create_model,verbose=1)\n",
    "```\n",
    "\n",
    "3. Now, set up the hyperparameter space for grid search. (Remember, your `create_model` function must accept the parameter you want to tune)\n",
    "\n",
    "```python\n",
    "params_to_test = {'n_units':[(50,25,7),(100,50,7)],\n",
    "                  'optimizer':['adam','rmsprop','adadelta'],\n",
    "                  'activation':['linear','relu','tanh'],\n",
    "                  'final_activation':['softmax']}\n",
    "```\n",
    "\n",
    "4. Now instantiate your GridSearch function\n",
    "\n",
    "```python\n",
    "from sklearn.model_selection import GridSearchCV\n",
    "\n",
    "grid = GridSearchCV(estimator=neural_network,param_grid=params_to_test)\n",
    "grid_result = grid.fit(X_train, y_train)\n",
    "best_params = grid_result.best_params_\n",
    "```\n",
    "5. And thats it!"
   ]
  },
  {
   "cell_type": "code",
   "execution_count": null,
   "metadata": {
    "ExecuteTime": {
     "end_time": "2020-10-22T15:15:30.969021Z",
     "start_time": "2020-10-22T15:15:28.099Z"
    },
    "hidden": true
   },
   "outputs": [],
   "source": [
    "# class Timer():\n",
    "#     ## def init\n",
    "#     def __init__(self,format_=\"%m/%d/%y - %I:%M %p\"):\n",
    "#         import tzlocal\n",
    "#         self.tz = tzlocal.get_localzone()\n",
    "#         self.fmt = format_\n",
    "        \n",
    "#         self.created_at = self.get_time()# get time\n",
    "        \n",
    "    \n",
    "#     ## def get time method\n",
    "#     def get_time(self):\n",
    "#         import datetime as dt\n",
    "#         return dt.datetime.now(self.tz)\n",
    "\n",
    "#     ## def start\n",
    "#     def start(self):\n",
    "#         time = self.get_time()\n",
    "#         self.start = time\n",
    "#         print(f\"[i] Timer started at{self.start.strftime(self.fmt)}\")\n",
    "\n",
    "        \n",
    "\n",
    "#     ## def stop\n",
    "#     def stop(self):\n",
    "#         time = self.get_time()\n",
    "#         self.end = time\n",
    "#         print(f\"[i] Timer ended at {self.end.strftime(self.fmt)}\")\n",
    "#         print(f\"- Total time = {self.end-self.start}\")\n",
    "\n",
    "        \n",
    "        \n",
    "def plot_confusion_matrix(conf_matrix, classes = None, normalize=True,\n",
    "                          title='Confusion Matrix', cmap=\"Blues\",\n",
    "                          print_raw_matrix=False,\n",
    "                          fig_size=(4,4)):\n",
    "    \"\"\"Check if Normalization Option is Set to True. \n",
    "    If so, normalize the raw confusion matrix before visualizing\n",
    "    #Other code should be equivalent to your previous function.\n",
    "    Note: Taken from bs_ds and modified\n",
    "    - Can pass a tuple of (y_true,y_pred) instead of conf matrix.\n",
    "    \"\"\"\n",
    "    import itertools\n",
    "    import numpy as np\n",
    "    import matplotlib.pyplot as plt\n",
    "    import sklearn.metrics as metrics\n",
    "    \n",
    "    ## make confusion matrix if given tuple of y_true,y_pred\n",
    "    if isinstance(conf_matrix, tuple):\n",
    "        y_true = conf_matrix[0].copy()\n",
    "        y_pred = conf_matrix[1].copy()\n",
    "        \n",
    "        if y_true.ndim>1:\n",
    "            y_true = y_true.argmax(axis=1)\n",
    "        if y_pred.ndim>1:\n",
    "            y_pred = y_pred.argmax(axis=1)\n",
    "        cm = metrics.confusion_matrix(y_true,y_pred)\n",
    "    else:\n",
    "        cm = conf_matrix\n",
    "        \n",
    "    ## Generate integer labels for classes\n",
    "    if classes is None:\n",
    "        classes = list(range(len(cm)))  \n",
    "        \n",
    "    ## Normalize data\n",
    "    if normalize:\n",
    "        cm = cm.astype('float') / cm.sum(axis=1)[:, np.newaxis]\n",
    "        fmt='.2f'\n",
    "    else:\n",
    "        fmt= 'd'\n",
    "        \n",
    "        \n",
    "    fontDict = {\n",
    "        'title':{\n",
    "            'fontsize':16,\n",
    "            'fontweight':'semibold',\n",
    "            'ha':'center',\n",
    "            },\n",
    "        'xlabel':{\n",
    "            'fontsize':14,\n",
    "            'fontweight':'normal',\n",
    "            },\n",
    "        'ylabel':{\n",
    "            'fontsize':14,\n",
    "            'fontweight':'normal',\n",
    "            },\n",
    "        'xtick_labels':{\n",
    "            'fontsize':10,\n",
    "            'fontweight':'normal',\n",
    "    #             'rotation':45,\n",
    "            'ha':'right',\n",
    "            },\n",
    "        'ytick_labels':{\n",
    "            'fontsize':10,\n",
    "            'fontweight':'normal',\n",
    "            'rotation':0,\n",
    "            'ha':'right',\n",
    "            },\n",
    "        'data_labels':{\n",
    "            'ha':'center',\n",
    "            'fontweight':'semibold',\n",
    "\n",
    "        }\n",
    "    }\n",
    "\n",
    "    # Create plot\n",
    "    fig,ax = plt.subplots(figsize=fig_size)\n",
    "\n",
    "    plt.imshow(cm, interpolation='nearest', cmap=cmap)\n",
    "    plt.title(title,**fontDict['title'])\n",
    "    plt.colorbar()\n",
    "\n",
    "    tick_marks = classes#np.arange(len(classes))\n",
    "\n",
    "\n",
    "    plt.xticks(tick_marks, classes, **fontDict['xtick_labels'])\n",
    "    plt.yticks(tick_marks, classes,**fontDict['ytick_labels'])\n",
    "\n",
    "    # Determine threshold for b/w text\n",
    "    thresh = cm.max() / 2.\n",
    "\n",
    "    # fig,ax = plt.subplots()\n",
    "    for i, j in itertools.product(range(cm.shape[0]), range(cm.shape[1])):\n",
    "        plt.text(j, i, format(cm[i, j], fmt),\n",
    "                 color='darkgray',**fontDict['data_labels']) #color=\"white\" if cm[i, j] > thresh else \"black\"\n",
    "\n",
    "    plt.tight_layout()\n",
    "    plt.ylabel('True label',**fontDict['ylabel'])\n",
    "    plt.xlabel('Predicted label',**fontDict['xlabel'])\n",
    "\n",
    "    if print_raw_matrix:\n",
    "        print_title = 'Raw Confusion Matrix Counts:'\n",
    "        print('\\n',print_title)\n",
    "        print(conf_matrix)\n",
    "\n",
    "\n",
    "    fig = plt.gcf()\n",
    "    return fig\n",
    "\n",
    "\n",
    "\n",
    "def plot_keras_history(history,figsize_1=(6,4),\n",
    "    figsize_2=(8,6)):\n",
    "    \"\"\"Plots keras history and returns fig\"\"\"\n",
    "    ## Make a df from history\n",
    "    plot_df = pd.DataFrame(history.history)\n",
    "    plot_df['Epoch'] = range(1,len(plot_df)+1)\n",
    "    plot_df.set_index('Epoch',inplace=True)\n",
    "    ## Get cols for acc vs loss\n",
    "    acc_cols = list(filter(lambda x: 'acc' in x, plot_df.columns))\n",
    "    loss_cols = list(filter(lambda x: 'loss' in x, plot_df.columns))   \n",
    "    \n",
    "    ## Set figsizes based on number of keys\n",
    "    if len(acc_cols)>1:\n",
    "        figsize=figsize_2\n",
    "    else:\n",
    "        figsize=figsize_1\n",
    "\n",
    "    ## Make figure and axes\n",
    "    fig,ax = plt.subplots(nrows=2,figsize=figsize,sharex=True)\n",
    "    \n",
    "    ## Plot Accuracy cols in plot 1\n",
    "    plot_df[acc_cols].plot(ax=ax[0])\n",
    "    ax[0].set(ylabel='Accuracy')\n",
    "    ax[0].set_title('Training Results')\n",
    "\n",
    "    ## Plot loss cols in plot 2\n",
    "    plot_df[loss_cols].plot(ax=ax[1])\n",
    "    ax[1].set(ylabel='Loss')\n",
    "    ax[1].set_xlabel('Epoch #')\n",
    "\n",
    "\n",
    "    ## Change xaxis locators \n",
    "    [a.xaxis.set_major_locator(mpl.ticker.MaxNLocator(len(plot_df),integer=True)) for a in ax]\n",
    "    [a.set_xlim((1,len(plot_df)+1)) for a in ax]\n",
    "    plt.tight_layout()\n",
    "    \n",
    "    return fig"
   ]
  },
  {
   "cell_type": "code",
   "execution_count": null,
   "metadata": {
    "ExecuteTime": {
     "end_time": "2020-06-02T00:50:17.048737Z",
     "start_time": "2020-06-02T00:50:17.046232Z"
    },
    "hidden": true
   },
   "outputs": [],
   "source": [
    "from keras.models import Sequential\n",
    "from keras.layers import Dense"
   ]
  },
  {
   "cell_type": "code",
   "execution_count": null,
   "metadata": {
    "ExecuteTime": {
     "end_time": "2020-06-02T00:50:17.390107Z",
     "start_time": "2020-06-02T00:50:17.386474Z"
    },
    "hidden": true
   },
   "outputs": [],
   "source": [
    "X_train_img[0].shape"
   ]
  },
  {
   "cell_type": "code",
   "execution_count": null,
   "metadata": {
    "ExecuteTime": {
     "end_time": "2020-06-02T00:50:17.579462Z",
     "start_time": "2020-06-02T00:50:17.575488Z"
    },
    "hidden": true
   },
   "outputs": [],
   "source": [
    "X_train_img.shape, y_train.shape"
   ]
  },
  {
   "cell_type": "code",
   "execution_count": null,
   "metadata": {
    "ExecuteTime": {
     "end_time": "2020-06-02T00:50:17.720641Z",
     "start_time": "2020-06-02T00:50:17.718168Z"
    },
    "hidden": true
   },
   "outputs": [],
   "source": [
    "from keras.wrappers.scikit_learn import KerasClassifier"
   ]
  },
  {
   "cell_type": "code",
   "execution_count": null,
   "metadata": {
    "ExecuteTime": {
     "end_time": "2020-10-22T15:23:53.651266Z",
     "start_time": "2020-10-22T15:23:53.644885Z"
    },
    "hidden": true
   },
   "outputs": [],
   "source": [
    "from keras.callbacks import ModelCheckpoint, EarlyStopping, CSVLogger\n",
    "\n",
    "def create_checkpoint(monitor,model_subfolder=\"\"):#='Datasets/Models/cat_vs_dog/'):\n",
    "    filepath=model_subfolder+\"weights-improvement-{epoch:02d}-{\"+monitor+\":.2f}.hdf5\"\n",
    "    checkpoint = ModelCheckpoint(filepath, monitor=monitor, verbose=1, save_best_only=True, mode='max')\n",
    "    return checkpoint\n",
    "\n",
    "def create_early_stopping(monitor = 'val_accuracy',min_delta = 0.05, patience = 3,\n",
    "                          verbose = 1, restore_best_weights = True):\n",
    "\n",
    "    args = locals()\n",
    "    earlystop = EarlyStopping(**args)\n",
    "    return earlystop\n",
    "\n",
    "\n",
    "def get_callbacks(early_stop_kws={}, checkpoint_kws={}):\n",
    "    model_subfolder=base_folder+'Models/'\n",
    "    os.makedirs(model_subfolder,exist_ok=True)\n",
    "\n",
    "    callbacks_list = [create_checkpoint('val_accuracy',\n",
    "                                        model_subfolder=model_subfolder,**checkpoint_kws),\n",
    "                      create_early_stopping(**early_stop_kws)]\n",
    "    return callbacks_list"
   ]
  },
  {
   "cell_type": "code",
   "execution_count": null,
   "metadata": {
    "hidden": true
   },
   "outputs": [],
   "source": []
  },
  {
   "cell_type": "code",
   "execution_count": null,
   "metadata": {
    "ExecuteTime": {
     "end_time": "2020-06-02T00:50:18.130732Z",
     "start_time": "2020-06-02T00:50:18.127114Z"
    },
    "hidden": true
   },
   "outputs": [],
   "source": [
    "def make_model():\n",
    "    model = Sequential()\n",
    "    model.add(Dense(64,activation='relu',input_shape=(X_train_img.shape[1],)))\n",
    "    model.add(Dense(2, activation='softmax'))\n",
    "    model.compile(loss='binary_crossentropy', optimizer='sgd', metrics=['accuracy'])\n",
    "    return model"
   ]
  },
  {
   "cell_type": "code",
   "execution_count": null,
   "metadata": {
    "ExecuteTime": {
     "end_time": "2020-06-02T00:50:18.370706Z",
     "start_time": "2020-06-02T00:50:18.367274Z"
    },
    "hidden": true,
    "scrolled": true
   },
   "outputs": [],
   "source": [
    "model = KerasClassifier(make_model)\n",
    "model"
   ]
  },
  {
   "cell_type": "code",
   "execution_count": null,
   "metadata": {
    "ExecuteTime": {
     "end_time": "2020-06-02T00:50:35.514989Z",
     "start_time": "2020-06-02T00:50:18.666739Z"
    },
    "hidden": true,
    "scrolled": true
   },
   "outputs": [],
   "source": [
    "## Fit baseline model\n",
    "timer = Timer()\n",
    "\n",
    "timer.start()\n",
    "history = model.fit(X_train_img, y_train, epochs=100, batch_size=64, \n",
    "                      validation_data=(X_val_img, y_val))\n",
    "timer.stop()"
   ]
  },
  {
   "cell_type": "code",
   "execution_count": null,
   "metadata": {
    "ExecuteTime": {
     "end_time": "2020-06-02T00:50:35.519283Z",
     "start_time": "2020-06-02T00:50:35.516311Z"
    },
    "hidden": true
   },
   "outputs": [],
   "source": [
    "history"
   ]
  },
  {
   "cell_type": "code",
   "execution_count": null,
   "metadata": {
    "hidden": true
   },
   "outputs": [],
   "source": []
  },
  {
   "cell_type": "code",
   "execution_count": null,
   "metadata": {
    "ExecuteTime": {
     "end_time": "2020-06-02T00:50:35.525845Z",
     "start_time": "2020-06-02T00:50:35.520925Z"
    },
    "hidden": true
   },
   "outputs": [],
   "source": [
    "        \n",
    "def evaluate_model(y_true, y_pred,history=None):\n",
    "    \"\"\"Evaluates neural network using sklearn metrics\"\"\"\n",
    "    from sklearn import metrics\n",
    "    if y_true.ndim>1:\n",
    "        y_true = y_true.argmax(axis=1)\n",
    "    if y_pred.ndim>1:\n",
    "        y_pred = y_pred.argmax(axis=1)   \n",
    "#     try:    \n",
    "    if history is not None:\n",
    "        plot_keras_history(history)\n",
    "#     except:\n",
    "#         pass\n",
    "    \n",
    "    num_dashes=20\n",
    "    print('\\n')\n",
    "    print('---'*num_dashes)\n",
    "    print('\\tCLASSIFICATION REPORT:')\n",
    "    print('---'*num_dashes)\n",
    "    try:\n",
    "        print(metrics.classification_report(y_true,y_pred))\n",
    "        \n",
    "        fig = plot_confusion_matrix((y_true,y_pred))\n",
    "        plt.show()\n",
    "    except Exception as e:\n",
    "        print(f\"[!] Error during model evaluation:\\n\\t{e}\")\n",
    "\n",
    "        \n",
    "        "
   ]
  },
  {
   "cell_type": "code",
   "execution_count": null,
   "metadata": {
    "ExecuteTime": {
     "end_time": "2020-06-02T00:50:37.056329Z",
     "start_time": "2020-06-02T00:50:35.527046Z"
    },
    "hidden": true
   },
   "outputs": [],
   "source": [
    "y_hat_test = model.predict(X_test_img)\n",
    "\n",
    "evaluate_model(y_test,y_hat_test,history)"
   ]
  },
  {
   "cell_type": "code",
   "execution_count": null,
   "metadata": {
    "ExecuteTime": {
     "end_time": "2020-06-02T00:50:37.062082Z",
     "start_time": "2020-06-02T00:50:37.057812Z"
    },
    "hidden": true
   },
   "outputs": [],
   "source": [
    "def make_fit_evaluate_model(build_fn, fit_params = dict(epochs=100,\n",
    "                                                        batch_size=64)):\n",
    "    model = build_fn()\n",
    "    \n",
    "    timer = Timer()\n",
    "    model.summary()\n",
    "    timer.start()\n",
    "    \n",
    "    history = model.fit(X_train_img, y_train,**fit_params,\n",
    "                          validation_data=(X_val_img, y_val))\n",
    "    timer.stop()\n",
    "    \n",
    "    y_hat_test = model.predict(X_test_img)\n",
    "    evaluate_model(y_test,y_hat_test,history)\n",
    "    return model,y_hat_test"
   ]
  },
  {
   "cell_type": "code",
   "execution_count": null,
   "metadata": {
    "ExecuteTime": {
     "end_time": "2020-06-02T00:50:58.622377Z",
     "start_time": "2020-06-02T00:50:37.063810Z"
    },
    "hidden": true,
    "scrolled": true
   },
   "outputs": [],
   "source": [
    "fit_model,model_preds = make_fit_evaluate_model(make_model)"
   ]
  },
  {
   "cell_type": "markdown",
   "metadata": {
    "heading_collapsed": true,
    "hidden": true
   },
   "source": [
    "## APPENDIX/HOW-TOs:"
   ]
  },
  {
   "cell_type": "markdown",
   "metadata": {
    "hidden": true
   },
   "source": [
    "## How to Make a Custom Scoring Function"
   ]
  },
  {
   "cell_type": "markdown",
   "metadata": {
    "hidden": true
   },
   "source": [
    "1. **Why would you do this?**\n",
    "    1. You may want to use a metric that isn't available in sklearn. \n",
    "        - In the included `my_custom_scorer` function, I take the accuracy of each class's predictions from the diagonal of a normalized confusion matrix. \n",
    "        - I then calculate the mean of those 3 class accuracies, which is the `score` that is returned to the gridsearch. \n",
    "        \n",
    "    2. You may want to add a printout or display to the scoring function so you can see the results as the search is going.\n",
    "<br><br>\n",
    "2. **How do you do write your own?**\n",
    "    1. Define your custom scoring function.\n",
    "        - It must accept `y_true`,`y_pred`\n",
    "        - It must return a value to maximize. (like accuracy)\n",
    "    2. You can add print or display commands to have the scoring function report the current results as the gridsearch is still going.\n",
    "        - If you combine this with the example `create_model` function above that includes the `vars=locals(); print(vars)` command, then gridsearch will display:\n",
    "            1. the parameters of each model (each time the `create_model` function is called.\n",
    "            2. The score of each model, including a confusion matrix figure (each time it calls `my_custom_scorer`).\n",
    "        \n",
    "```python\n",
    "def my_custom_scorer(y_true,y_pred):\n",
    "    \"\"\"My custom score function to use with sklearn's GridSearchCV\n",
    "    Maximizes the average accuracy per class using a normalized confusion matrix\"\"\"\n",
    "    from sklearn.metrics import confusion_matrix\n",
    "    import numpy as np\n",
    "    import functions_combined_BEST as ji    \n",
    "\n",
    "    ## Flatten one-hot encoded target columns into 1 column for sklearn functions\n",
    "    if y_true.ndim>1 or y_pred.ndim>1:\n",
    "        \n",
    "        ## reduce dimensions of y_train and y_test\n",
    "        if y_true.ndim>1:            \n",
    "            y_true = y_true.argmax(axis=1)\n",
    "        \n",
    "        if y_pred.ndim>1:\n",
    "            y_pred = y_pred.argmax(axis=1)\n",
    "\n",
    "    \n",
    "     # Get confusion matrx\n",
    "    cm = confusion_matrix(y_true, y_pred)\n",
    "\n",
    "    # Normalize confusion matrix\n",
    "    cm_norm = cm.astype('float')/cm.sum(axis=1)[:,np.newaxis]\n",
    "\n",
    "    ## Get diagonals for class accuracy\n",
    "    diag = cm_norm.diagonal()\n",
    "    \n",
    "    # Get the mean of the diagonal values\n",
    "    score = np.mean(diag)\n",
    "    \n",
    "    ## Display Results for the User\n",
    "    print(f'Mean Class Accuracy = {score}')\n",
    "    print(f'Class Accuracy Values:')\n",
    "    print(diag)    \n",
    "\n",
    "    ## Plot the confusion matrix.\n",
    "    ji.plot_confusion_matrix(cm,normalize=True)\n",
    "\n",
    "    # return the score \n",
    "    return score\n",
    "```        \n",
    "        \n",
    "        \n",
    "3. **How do you use it?**\n",
    "    - When instantiating GridSearchCV pass your function as the `scoring=` parameter, wrapped in the  `sklearn.metrics.make_scorer` function.\n",
    "  \n",
    "\n",
    "```python\n",
    "## Using custom scoring function\n",
    "from sklearn.metrics import make_scorer\n",
    "\n",
    "grid = GridSearchCV(estimator=neural_network, \n",
    "                    param_grid=params_to_test,\n",
    "                   scoring=make_scorer(my_custom_scorer))\n",
    "                    \n",
    "grid_result = grid.fit(X_train, y_train)\n",
    "```"
   ]
  },
  {
   "cell_type": "code",
   "execution_count": null,
   "metadata": {
    "hidden": true
   },
   "outputs": [],
   "source": []
  }
 ],
 "metadata": {
  "colab": {
   "collapsed_sections": [],
   "name": "Copy of James' Study Group Notes - Section 41-42 (condensed version).ipynb",
   "provenance": []
  },
  "kernelspec": {
   "display_name": "Python [conda env:learn-env] *",
   "language": "python",
   "name": "conda-env-learn-env-py"
  },
  "language_info": {
   "codemirror_mode": {
    "name": "ipython",
    "version": 3
   },
   "file_extension": ".py",
   "mimetype": "text/x-python",
   "name": "python",
   "nbconvert_exporter": "python",
   "pygments_lexer": "ipython3",
   "version": "3.6.11"
  },
  "toc": {
   "base_numbering": 1,
   "nav_menu": {},
   "number_sections": false,
   "sideBar": true,
   "skip_h1_title": false,
   "title_cell": "Table of Contents",
   "title_sidebar": "Contents",
   "toc_cell": false,
   "toc_position": {
    "height": "calc(100% - 180px)",
    "left": "10px",
    "top": "150px",
    "width": "256px"
   },
   "toc_section_display": true,
   "toc_window_display": true
  }
 },
 "nbformat": 4,
 "nbformat_minor": 1
}

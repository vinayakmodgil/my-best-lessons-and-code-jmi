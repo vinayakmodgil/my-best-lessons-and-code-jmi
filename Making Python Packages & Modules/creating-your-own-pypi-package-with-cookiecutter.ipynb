{
 "cells": [
  {
   "cell_type": "markdown",
   "metadata": {},
   "source": [
    "# \"I published my own Python package and you can too!\""
   ]
  },
  {
   "cell_type": "markdown",
   "metadata": {},
   "source": [
    "> ### *A.K.A. Professional-quality Python packages made easy with cookiecutter*\n",
    "- James M. Irving, Ph.D.\n",
    "- Original Blog: 05/20/2019\n",
    "- Updated: 02/19/2021\n"
   ]
  },
  {
   "cell_type": "markdown",
   "metadata": {},
   "source": [
    "> <img src=\"https://raw.githubusercontent.com/jirvingphd/dsc-3-final-project-online-ds-ft-021119/master/blog_post/cookiecutter_medium.png\" width=\"200\"><br>\n",
    "> <img src = \"https://raw.githubusercontent.com/jirvingphd/dsc-3-final-project-online-ds-ft-021119/master/blog_post/cookie%20cutter%20-%20cutting%20code.png\" width=\"150\">\n",
    "\n",
    "<img src=\"https://raw.githubusercontent.com/jirvingphd/dsc-3-final-project-online-ds-ft-021119/master/blog_post/big%20blog%20header_728%20x%2090.jpg\" width=\"400\">"
   ]
  },
  {
   "cell_type": "markdown",
   "metadata": {},
   "source": [
    "___\n",
    "\n",
    "## In this notebook, we will\n",
    "\n",
    "> - **Discuss why you would want to create and publish your own Python package.** \n",
    "> - **Review the tools I use for editing and publishing bs_ds**\n",
    "> - **Provide step-by-step instructions for using cookiecutter to create professional infrastructure for your package.**\n",
    "    - Including [auto-generated documentation with Sphinx](https://bs-ds.readthedocs.io/en/latest/)\n",
    "    - and automated build-testing and deployment with [travis-ci.org.](https://travis-ci.org/)\n",
    "\n",
    "___"
   ]
  },
  {
   "cell_type": "markdown",
   "metadata": {},
   "source": [
    "# \"But...*why would I bother?*\", you may be wondering..."
   ]
  },
  {
   "cell_type": "markdown",
   "metadata": {},
   "source": [
    "## **Lots of reasons!** (*mostly convenience*),<br>But also...\n",
    "1. Because you're *sick* of having to copy and paste your favorite functions into every new notebook or to sync them across computers..\n",
    "\n",
    "2. Because you collaborate with others and want to ensure you all have the same toolkit at your disposal.\n",
    "\n",
    "\n",
    "3. Because you're instructor tells you that your notebook has WAY too many functions up front, and its distracting...\n",
    "\n",
    "4. Because you're a little OCD and like having ALL of your notebook's settings JUST THE RIGHT WAY.\n",
    "    - pandas.set_options()\n",
    "    - HTML/CSS styling, etc.)\n",
    "    - Matplotlib Params\n",
    "\n",
    "5. **Finally, becuase you're lazy** and just want all of your tools imported for you and ready to use where ever you go with as little effort as possible.\n",
    "> **I'm a big believer in exerting extra up-front-effort in the name of future-laziness-convenience.**\n",
    "\n",
    "\n",
    "___"
   ]
  },
  {
   "cell_type": "markdown",
   "metadata": {},
   "source": [
    "# \"OK, I'm on board,\" you're (hopefully) thinking... \"So, *how?*\""
   ]
  },
  {
   "cell_type": "markdown",
   "metadata": {},
   "source": [
    "### *How I created BroadSteel_DataScience (bs_ds)*‡"
   ]
  },
  {
   "cell_type": "markdown",
   "metadata": {},
   "source": [
    "> <img src=\"https://raw.githubusercontent.com/jirvingphd/dsc-3-final-project-online-ds-ft-021119/master/blog_post/bs_ds_logo.png\" width =\"200\">\n",
    "\n",
    "- [https://bs-ds.readthedocs.io/en/latest/](https://bs-ds.readthedocs.io/en/latest/)<br>\n",
    "- [https://pypi.org/project/bs-ds/](https://pypi.org/project/bs-ds/)<br>\n",
    "\n",
    "‡ *Note: BroadSteel DataScience is: inspired by, an homage to, legally distinct from, and in no way representative of <br>Flatiron School's Online [Data Science bootcamp program.](https://flatironschool.com/career-courses/data-science-bootcamp/online/)* <br> "
   ]
  },
  {
   "cell_type": "markdown",
   "metadata": {},
   "source": [
    "## THE TOOLS I USE:"
   ]
  },
  {
   "cell_type": "markdown",
   "metadata": {},
   "source": [
    ">* Please note: there are simpler ways to go about creating your first Python module, but I am going to show you the exact tools and instructions I used to allow me to have a totally automated workflow and package deployment.\n",
    "\n",
    "- [Anaconda-installed Python](https://www.anaconda.com/)\n",
    "- [Microsoft's Visual Studio Code](https://code.visualstudio.com/docs/introvideos/basics)\n",
    "    - Its optionally installed with Anaconda and has quickly become my favorite editor.   *(Sorry, SublimeText3... It's not you! Its me.<br>  I still love you..I'm just not as ***in love*** with you as I used to be. But we can still be friends, right?!)*\n",
    "- [GitHub Desktop](https://desktop.github.com/)\n",
    "    - Its SO convenient and simplifies the workflow and collaboration immensely.\n",
    "-  [Cookiecutter](https://cookiecutter-pypackage.readthedocs.io/en/latest/) python package\n",
    "    - For the total package infrastructure, with the opton of setting up automation and documentation generation. \n",
    "- [Google Colab]( ), [Microsoft Azure Notebooks]( ) \n",
    "    - For testing the package in cloud Jupyter notebooks. Just add an '!' to the pip install command in any cloud-notebook <br> ```!pip install bs_ds```"
   ]
  },
  {
   "cell_type": "markdown",
   "metadata": {},
   "source": [
    "# 3. HOW TO CREATE A PROFESSIONAL INFRASTRUCTURE USING COOKIECUTTER"
   ]
  },
  {
   "cell_type": "markdown",
   "metadata": {},
   "source": [
    "> <img src=\"https://raw.githubusercontent.com/jirvingphd/dsc-3-final-project-online-ds-ft-021119/master/blog_post/cookiecutter_medium.png\" width=\"200\"><br>\n",
    "\n",
    "### PLEASE OPEN THE OFFICIAL COOKIECUTTER TUTORIAL:\n",
    "- [ ] **Open Cookiecutter's [official tutorial from their documentation.](https://cookiecutter-pypackage.readthedocs.io/en/latest/tutorial.html)**\n",
    "    - Its very good overall but I suggest doing a few steps a little differently. My suggested steps will start with \"REC'D\" to indicate deviations from the official steps.\n",
    "- [ ] **Make sure to reference BOTH my instructions beklow as well as the official tutorial.**\n",
    "    - Make **read my recommended steps first,** as I suggest doing some steps earlier than the tutorial does. "
   ]
  },
  {
   "cell_type": "markdown",
   "metadata": {},
   "source": [
    "## MY RECOMMENDED STEPS FOR CUTTING YOUR FIRST COOKIES:"
   ]
  },
  {
   "cell_type": "markdown",
   "metadata": {},
   "source": [
    "### STEP 0: BEFORE GETTING STARTED,  CREATE ACCOUNTS FOR REQUIRED/DESIRED SERVICES:"
   ]
  },
  {
   "cell_type": "markdown",
   "metadata": {},
   "source": [
    " 1. [ ]  **Go to PyPi.org and \"Register\" a new account. [REQUIRED]** \n",
    "     - PyPi.org is the offical service that hosts pip-installable packages. \n",
    "        - You will need your account name very soon, during the initial cookie-cutting step below. \n",
    "        - You will need your password later,  when you are ready to upload your package to PyPi.\n",
    "        \n",
    ">    - To simplify logging into PyPi, **I recommend saving your login credentials in `.pypirc` file.**\n",
    "        - [See the official Python tutorial.](https://packaging.python.org/specifications/pypirc/)\n",
    "    \n",
    "    \n",
    "2. [ ] **Register your github account with www.travis-ci.com. for automated build testing and auto-deployment to PyPi. [OPTIONAL, BUT RECOMMENDED FOR DEVELOPMENT-MINDED STUDENTS]**<br> \n",
    "    - NOTE: Make sure to go to **www.travis-ci.com** (**NOT** travis-ci.**org**, which is the older legacy version of travis-ci-.com that will be shutting down in the future. <br><br>\n",
    "    > - **Suggestion: This is worth it if you plan on updating your package frequently.**  \n",
    "    - It adds a good amount of complexity to the cookie-cutting set up process, but it:\n",
    "        - makes updating your package a breeze.\n",
    "        - makes it easier for others to contribute to your package \n",
    "        -  it will pre-test any Pull Requests so you will already know if the code is functional before you merge their code with yours.<br><br>\n",
    "3. [ ] **Register an account on [readthedocs.org](https://readthedocs.org/) [OPTIONAL, BUT REC'D IF SHARING YOUR WORK]**\n",
    "    - Readthedocs will host your generated user documentation for your package.\n",
    "    - Note: Cookiecutter will fill in a lot of the documentation basics for you.\n",
    "    - Note: There is an additional advanced method to auto-generate all documentation from docstrings, which I will mention in the tutorial below.\n",
    "\n",
    "___"
   ]
  },
  {
   "cell_type": "markdown",
   "metadata": {},
   "source": [
    "### STEP 1. Clone your conda environment and install cookiecutter"
   ]
  },
  {
   "cell_type": "markdown",
   "metadata": {},
   "source": [
    "- [ ] **Create a new virtual environment**, preferably by cloning your current one."
   ]
  },
  {
   "cell_type": "markdown",
   "metadata": {},
   "source": [
    "#### To Clone Your Environment Via the Terminal"
   ]
  },
  {
   "cell_type": "markdown",
   "metadata": {},
   "source": [
    "\n",
    "```bash\n",
    "conda create --clone <environment to clone>  --name <new enviroment name>\n",
    "```\n",
    "So if you wanted to clone your `learn-env` and same it as `learn-env-dev` you would run:\n",
    "```\n",
    "conda create --clone learn-env --name learn-env-dev\n",
    "```"
   ]
  },
  {
   "cell_type": "markdown",
   "metadata": {},
   "source": [
    "#### To Clone Your Environment via  a GUI"
   ]
  },
  {
   "cell_type": "markdown",
   "metadata": {},
   "source": [
    "- Anaconda Navigator makes the cloning process easy. \n",
    "    - In Navigator, click on the ```Environments``` tab in the sidebar. \n",
    "    - Click on your current enivornment of choice, then click the Clone button, and give it a new name.\n",
    "    "
   ]
  },
  {
   "cell_type": "markdown",
   "metadata": {},
   "source": [
    "#### Note: you may need to run the follow command for this env to appear in Jupyter\n",
    "\n",
    "```bash\n",
    "python -m ipykernel install --user --name myenv\n",
    "```"
   ]
  },
  {
   "cell_type": "markdown",
   "metadata": {},
   "source": [
    "### **Official Step 1: Install cookiecutter into your new environment.**\n",
    "- Tutorial \"Step 1: Install Cookiecutter\": Install Cookie Cutter and cookie-cut the default template cookiecuter repo.\n",
    "    - [x] You may ignore the first part of Step 1 (using virtualenv to create an env). <br><br>\n",
    "    - [ ] Install cookiecutter via pip:<br>\n",
    "    ```pip install cookiecutter```<br><br>\n",
    "    "
   ]
  },
  {
   "cell_type": "markdown",
   "metadata": {},
   "source": [
    "### **OFFICIAL STEP #2.  Generate your package infrastructure using cookiecutter command**"
   ]
  },
  {
   "cell_type": "markdown",
   "metadata": {},
   "source": [
    "* [ ] Activate cloned environment from step #1, `cd`into your  repo's folder.\n",
    "\n",
    "\n",
    "* [ ] Enter the following command to create the template infrastructure:\n",
    "\n",
    "\n",
    " > ```cookiecutter https://github.com/audreyr/cookiecutter-pypackage.git```<br>\n",
    " \n",
    " \n",
    "> - Cookiecutter will then ask you a series of questions about what name and features your package should have. **Some of these are NOT obvious, so I've explained them below:**"
   ]
  },
  {
   "cell_type": "markdown",
   "metadata": {},
   "source": [
    "#### Cookiecutter Prompts and recommended answers:\n",
    "\n",
    "- **Cookiecutter will ask you several questions during the cookie-cutting process, [check this resouce to see the descriptions for each prompt.](https://cookiecutter-pypackage.readthedocs.io/en/latest/prompts.html)**"
   ]
  },
  {
   "cell_type": "markdown",
   "metadata": {},
   "source": [
    "#### The cookiecutter options I selected for bs_ds were as follows:\n",
    "- **\"project_slug\"** \n",
    "    - This will be the package name and needs to be a valid repository name.\n",
    "    - It should be something terminal-syntax friendly(no -'s or spaces, etc.)\n",
    "    \n",
    "- **\"project_name\"**\n",
    "    - Descriptive name that will appears in all of the generated documentation. \n",
    "    - It can have spaces and any characters that you wish. \n",
    "- **\"use_pytest\"**:\n",
    "    - whether to use pytest for unittests\n",
    "    - use default 'n'\n",
    "    \n",
    "- **\"use_pypi_deployment_with_travis\"**:\n",
    "    - use 'y' for auto-deployment with travis-ci.org (will need an account, as described above)\n",
    "    - use 'n' for a simple non-automated package deployment workflow.\n",
    "    \n",
    "- **\"add_pyup_badge\"**:\n",
    "    - use default 'n'\n",
    "- **\"Select command_line_interface:\"**\n",
    "    - I suggest option 2 for No command-line interface. \n",
    "- **\"Select open source license\"**\n",
    "    - This is an important choice that determines what people are allowed to do with your code with or without your permission. \n",
    "        - Consult https://choosealicense.com/ (github website explaining licenses) for information.\n",
    "    - Note: bs_ds is published using option 5 - GNU General Public License v3, which choosealicense.com defines as:\n",
    ">\"The GNU GPLv3 also lets people do almost anything they want with your project, except to distribute closed source versions.\"\n",
    "\n",
    "- **Cookiecutter will then create a new folder  inside of your main repo folder, whose name is determined by the \"project_slug\" entered above.**\n",
    "\n",
    "<br><br>\n",
    "    "
   ]
  },
  {
   "cell_type": "markdown",
   "metadata": {},
   "source": [
    "### **STEP 2: Create a new GitHub repo for your package**\n",
    "\n",
    "- [ ] Log into your your GitHub profile on github.com and Create a New Repository <br>by clicking the + sign next to your account picture on the top-right of the page. \n",
    "    - [ ] Create a New Repository, using the `slug_name` you entered during the cookiecutter process.\n",
    "    - Do not add a gitignore or license or README (they will be overwritten anyway).\n",
    "    \n",
    "    \n",
    "- Follow the instructions that appear on the new empty repository for attaching a local repo to this one. Below is copy-pasted from a new empty repo\n",
    "\n",
    "````\n",
    "echo \"# demo-package-041320pt\" >> README.md\n",
    "git init\n",
    "git add README.md\n",
    "git commit -m \"first commit\"\n",
    "git branch -M main\n",
    "git remote add origin https://github.com/jirvingphd/demo-package-041320pt.git\n",
    "git push -u origin main\n",
    "```\n",
    "\n",
    "- But you will need to run \n",
    "`git add .` and then do another commit to get all of the package contents added to the repo.\n",
    "\n",
    "```\n",
    "git add .\n",
    "git commit -m \"Initial package skeleton\"\n",
    "git push\n",
    "```\n",
    " "
   ]
  },
  {
   "cell_type": "markdown",
   "metadata": {},
   "source": [
    "### **Official Step 4: Install Dev Requirements**\n",
    "- In your terminal, make sure you are still located in the main repo folder, which contains **requirements-dev.txt**\n",
    "- Make sure you are still using your newly cloned environment, then enter:<br><br>\n",
    "```pip install -r requirements_dev.txt```\n",
    "\n",
    "___\n",
    "\n",
    "> - [ ] This is a decent place to take a moment to commit your changes and push to  your github repo. \n",
    "\n",
    "___"
   ]
  },
  {
   "cell_type": "markdown",
   "metadata": {},
   "source": [
    "## We will be skipping Steps 5,6, and 7 today\n",
    "\n",
    "- Step 5, the automated deployment with travis-CI section due to the complexity and extensive troubleshooting involved.\n",
    "- Step 6 is for generating the documentation, which we wont be doing today. \n",
    "- Step 7 is for tracking changes in dependencies for your package. "
   ]
  },
  {
   "cell_type": "markdown",
   "metadata": {},
   "source": [
    "### ~~**Official Step 5: Set Up Travis CI**~~\n",
    "\n",
    "- [ ] **In order to follow the offical step 5, you will need to install Travis CLI tool, which requires Ruby.**<br> [Instructions are located here and are OS-specific](https://cookiecutter-pypackage.readthedocs.io/en/latest/travis_pypi_setup.html#travis-pypi-setup), \n",
    "    - For MacOS, they recommend using the Homebrew travis package:\n",
    "        - ```brew install travis```<br><br>\n",
    "    - For windows, you will need to install ruby and then use ```gem install``` to install travis.\n",
    "        - [ ] [Install Ruby](http://www.ruby-lang.org/en/downloads/) (if not already installed on your system)\n",
    "        - [ ] Install Travis CLI tool: (See the OS-specifc instructions directly above)\n",
    "            - After Ruby is installed, enter the following command to install Travis CLI tool. <br> ```gem install travis -v 1.8.10 --no-rdoc --no-ri```<br><br>\n",
    "        \n",
    "- [ ] **Once Travis CLI is installed,  you may continue to follow the [official tutorial instructions for step #5](https://cookiecutter-pypackage.readthedocs.io/en/latest/tutorial.html#step-5-set-up-travis-ci)**\n",
    "    - NOTE: Here is where you will need to have your password for PyPi available. \n",
    "        - **CAUTION:**<br> When entering your PyPi username and  password in the terminal, there will be **NO VISUAL INDICATOR that you have typed your password.** <br><br>\n",
    "        - There are no characters displayed and no dots or placeholders to indicated the # of characters entered, so **carefully enter your password when prompted and press enter.**<br><br>\n",
    "    - **TROUBLESHOOTING NOTE: If Travis doesn't does not ask for your password after entering username:**\n",
    "        - I experienced an issue when attempting to follow step #5, after entering the ```travis encrypt --add deploy.password``` command, you should first be prompted for your username, then your password. \n",
    "        - I use Git Bash for my main terminal on Windows and for some reason **Travis would hang after I entered my username and would never ask me for password.**\n",
    "            - I got around the issue by **using the normal windows cmd prompt for this step instead of using GitBash.**  (This is a one-time step that will encrypt your password and store it in a config file so you never have to enter it again.)"
   ]
  },
  {
   "cell_type": "markdown",
   "metadata": {},
   "source": [
    "### ~~**Official Step 6: Set Up ReadTheDocs**~~\n",
    "- [ ] Follow the [official tutorial step 6](https://cookiecutter-pypackage.readthedocs.io/en/latest/tutorial.html#step-6-set-up-readthedocs) for setting up documentation on readthedocs.org."
   ]
  },
  {
   "cell_type": "markdown",
   "metadata": {},
   "source": [
    "### ~~Official Step 7:Set Up pyup.io~~\n",
    "- **Short Version: This is an added level of complexity that I chose to skip for myself and recommend you do the same for now.**\n",
    "- I recommended skipping setting up pyup.io during the cookiecutter prompt responses above. \n",
    "    - This service would alert you when any of the required python packages that are your package needs to run have been updated, so that you can update the versions in your installation requirements  \n",
    "___\n",
    "\n",
    "\n",
    "> **SIDEBAR: As of now, you may realize that you have not actually added any code to your python package, and yet the next official step is to release on PyPi.**\n",
    "\n",
    "> - If you'd like to add some of your code before submitting your package to PyPi, jump down to the \"Adding Your Code / Editing your package\" section ( after the official instructions).\n",
    "\n",
    "___"
   ]
  },
  {
   "cell_type": "markdown",
   "metadata": {},
   "source": [
    "## **Official Step 8: Release on PyPi**"
   ]
  },
  {
   "cell_type": "markdown",
   "metadata": {},
   "source": [
    "#### ~~One last annoying, first-time-only hurdle and then you're on your way to automated deployment for the future!~~\n",
    "\n",
    "- ~~Travis-CI will automate the process for generating the distribution files for your package and uploading them to PyPi, BUT it cannot CREATE a NEW package that doesn't already exist on PyPi's servers.~~\n",
    "\n",
    "#### Created your package's distribution files. \n",
    "- [ ] To *register* your new package with PyPi for the very first version, you must **manually create and upload the very first version** of your package. \n",
    "- [Official Python instructions for \"generating distribution archives\", summarized below](https://packaging.python.org/tutorials/packaging-projects/#generating-distribution-archives)\n",
    "    \n",
    "    \n",
    "> From inside the main folder of your repo (that contains the setup.py file):\n",
    "1. [ ] In your terminal (in your cloned environment), make sure you have the current setuptools installed:<br>\n",
    "\n",
    "\n",
    "```python3 -m pip install --user --upgrade setuptools wheel```\n",
    "\n",
    "2. [ ] Build the current version of your package \n",
    "\n",
    "```python3 setup.py sdist bdist_wheel```\n",
    "\n",
    "\n",
    "3. [ ] Install the tool for uploading to pypi, twine:\n",
    "\n",
    "    ```python3 -m pip install --user --upgrade twine```\n",
    "    \n",
    "4. [ ] Upload the distribution files created above (inside a new folder called dist/)\n",
    "    ```twine upload dist/*```\n",
    "    \n",
    "    - When prompted, enter your PyPi.org username and password. \n",
    ">    - To simplify logging into PyPi, **I recommend saving your login credentials in `.pypirc` file.**\n",
    "        - [See the official Python tutorial.](https://packaging.python.org/specifications/pypirc/)\n",
    "    \n",
    "    \n",
    "5. Thats it! You can go to PyPi.org, log into your account and you should see your package appear under \"Your Projects\"  \n",
    "    - **After a couple moments, your package should be available on pip.<br>\n",
    "    ```pip install my_package_name``` to install locally or <br>\n",
    "    ```!pip install my_package_name``` to install in a cloud notebook. "
   ]
  },
  {
   "cell_type": "markdown",
   "metadata": {},
   "source": [
    "- TROUBLESHOOTING NOTE: \n",
    "    - For me, using ```python3``` for the above commnads did not work. I simply had to change ```python3``` to just  ```python```<br>\n",
    "     - Example:<br>\n",
    "       ```python -m pip install --user --upgrade setuptools wheel```\n",
    "        - If this doesn't fix it for you, you may need to update your systems Path variable (basically a list that tells your computer all of the locations on your PC where you may have scripts/functions saved to run from your terminal).\n",
    "            - For Windows, [check this article](https://geek-university.com/python/add-python-to-the-windows-path/) for instructions on how to add python to your system path. \n",
    "            - For Mac, [try this article's suggestions](https://programwithus.com/learn-to-code/install-python3-mac/)\n",
    "\n",
    "\n",
    "___"
   ]
  },
  {
   "cell_type": "markdown",
   "metadata": {},
   "source": [
    "# Adding Your Code / Editing your package/modules"
   ]
  },
  {
   "cell_type": "markdown",
   "metadata": {},
   "source": [
    "- When working on your package/modules, I highly recommend using **Microsoft Visual Studio Code.**\n",
    "    - Visual Studio was likely installed with Anaconda, but if it wasn't. Open Anaconda Navigator, and look for Visual Studio code on the Home tab, in the same section as Jupyter Lab and Jupyter Notebooks.\n",
    "\n",
    "- **The easiest way to manage all of your package's setup files and modules is to the the File > Open Folder option and select your repo's main folder.**\n",
    "\n",
    "## Important Files You Will Want to Edit:"
   ]
  },
  {
   "cell_type": "markdown",
   "metadata": {},
   "source": [
    "### The files we will discuss below:\n",
    "-  **Module/submodule files (where your put your code)**\n",
    "     -  init.py\n",
    "     -  module.py\n",
    "-  **Package creation/installation requirement settings:**\n",
    "     -  setup.py\n",
    "- **Documentation creation settings:**\n",
    "     -  conf.py\n",
    "- **Versioning and Automated deployment**\n",
    "     - setup.cfg\n",
    "     - travis.yml\n",
    "\n",
    "\n",
    "#### Your package __init__ and module .py files:\n",
    "- Inside of your main repo folder, you should have your project_slug folder (where project_slug = your package's name)\n",
    "- **There should be 2 files inside that folder:  __init__.py, and project_slug.py**\n",
    "     - **init.py is the most critical file of your package.**  When you import your package, you are actually running the init.py file and importing the functions inside it.\n",
    "        - **The simplest way to add your own functions is to add them to the __init__.py file.**\n",
    "            - When you use ```import package_name```:\n",
    "                - The functions and commands contained in your __init__.py file will be imported under your package's name. \n",
    "                - Example:<br>```package_name.some_function()```\n",
    "            -  As with all python packages, you can assign it a short handle to make accessing your functions less tedious:\n",
    "                - Example<br>  ```import package_name as pn\n",
    "                pn.some_function()```\n",
    "                    \n",
    "            - If you use ```from package_name import *```:\n",
    "                - All of the functions inside of the init file will be available without needing to specify the package.  \n",
    "\n",
    "                - Example:<br>\n",
    "                ```from package_name import *```<br>```some_function()```\n",
    "        - **The more advanced way to add your own functions is to add them as a sub-module.**\n",
    "            - The project_slug.py file is actually a submodule of your package, but shares the same name.\n",
    "                - For bs_ds, we have many functions stored inside of the package submodule:\n",
    "                    - Which is accessed by bs_ds.bs_ds which is the (package_name).(submodule_name)\n",
    "                    - The package name is essentially the project_slug folder and then the submodule name is specifying which .py file (INSIDE of that folder) should be imported.\n",
    "            - See the screenshot below of bs_ds's init file and how it imports submodules. \n",
    "   <img src=\"\n",
    "        \n",
    "#### Setup.py\n",
    "- [ ]  Adding dependencies to be installed with your package:\n",
    "    - At the top of the file, you will see an empty list called requirements<br>\n",
    "    ```requirements = [ ]```\n",
    "    - Add any packages that you would like to be installed with your package. \n",
    "        -  If the user is missing any of these pip will install them as well. <br>\n",
    "    ```requirements = ['numpy','pandas','scikit-learn','matplotlib','scipy','pprint']```\n",
    "\t\t\n",
    "#### Controlling Documentation Generation - conf.py\n",
    "- Documentation generation is done using [Sphinx](http://www.sphinx-doc.org/en/master/index.html)\n",
    "\n",
    "- **conf.py** controls the settings for the creation of your documentation.\n",
    "     - [Sphinx's help page on conf.py](http://www.sphinx-doc.org/en/master/usage/quickstart.html#basic-configuration)\n",
    "\n",
    "- [Read how to create documentation from your functions' docstrings using \"sphinx.ext.autodoc\" works](http://www.sphinx-doc.org/en/master/usage/extensions/autodoc.html) \n",
    "     - Add this function to the end of conf.py for auto-generated of help from docstrings. \n",
    "\n",
    "```python\n",
    "def run_apidoc(_):\n",
    "\tfrom sphinx.ext.apidoc import main\n",
    "\timport os\n",
    "\timport sys\n",
    "\tsys.path.append(os.path.join(os.path.dirname(__file__), '..'))\n",
    "\tcur_dir = os.path.abspath(os.path.dirname(__file__))\n",
    "\tmodule = os.path.join(cur_dir,\"..\",\"bs_ds\")\n",
    "\tmain(['-o', cur_dir, module,'-M','--force'])\n",
    "\n",
    "def setup(app):\n",
    "\tapp.connect('builder-inited', run_apidoc)\n",
    "```\n",
    "\n",
    "### travis.yml\n",
    "**travis.yml controls the build testing and deployment process.**\n",
    "- At the top of the file, there is a list of python versions (3.6, 3.5, etc.)\n",
    "    - [ ] You may want to remove versions of python that your package cannot support. \n",
    "        - For example, f-string formatting wasn't added until Python 3.6 <br> ```\n",
    "        print(f\"Print the {variable_contents}')```\n",
    "    - Otherwise, your build will fail when travis tests the older version of python, since you used functions that were not compatible with old versions.\n",
    "    - bs_ds only supports 3.6 at the moment. \n",
    "- At the bottom of the file, there is a ```deploy:``` section. \n",
    "    - I personally had difficult using ```--tags``` in order to trigger the deployment of bs_ds.\n",
    "    - I removed the ```tags:true``` line under `on:`, which is at the bottom of the ```deploy:``` section.\n",
    "    \n",
    "\n",
    "### setup.cfg\n",
    "\n",
    "- [ ] If you removed the ```tags:true``` line from travis.yml, you should also remove:\n",
    "```tag = True```under [bumpversion]\n",
    "```python\n",
    "[bumpversion]\n",
    "current_version = 0.1.0\n",
    "commit = True\n",
    "tag = True\n",
    " ```\n",
    "    - This means that instead of waiting for a special --tagged commit to initiate build testing, doc generation, and deployment, the process will be triggered by any commit.\n",
    "[!]\n",
    "___"
   ]
  },
  {
   "cell_type": "markdown",
   "metadata": {},
   "source": [
    "# Updating and Deploying Your Package\n",
    "\n",
    "## To deploy an updated version of your package:\n",
    "\n",
    "1. [ ] Debug your modules locally to save time.\n",
    "\n",
    "\n",
    "2. [ ] Save all updated files and commit them to your repo. \n",
    "\n",
    "\n",
    "3. [ ] Bump the version number and commit again. \n",
    "\n",
    "\n",
    "4. [ ] Push the repo back to git.\n",
    "\n",
    "\n",
    "5. [ ] Check travis-ci.org and readthedocs.org for the package and documentation build test results. \n",
    "\n",
    "\n",
    "\n",
    "- For the official cookiecutter checklist of steps to deploy an updated version of your package, [see this file.](https://gist.github.com/audreyr/5990987)\n",
    "\n",
    "### 1. Debug your modules before committing (to save time instead of waiting for Travis-CI)\n",
    "- Visual Studio Code has a very handy Debug feature, which you can access from the sidebar (its the symbol with the bug on it). \n",
    "- On the top of the sidebar that appears, there is a dropdown menu with a green play button. \n",
    "    - Open the file you want to test (testing __init__.py is always recommended, but you should test any modules that have been updated. \n",
    "    - From this menu, select Python Module.\n",
    "\n",
    "### 2. Make sure you've saved all changes to the finalized files.\n",
    "\n",
    "\n",
    "### 3. Increment the version number for your package.\n",
    "- PyPi.org will only accept new versions of your package if it has a unique version number.\n",
    "     - It does not matter if your code has changed, PyPi will not publish it if the version number already exists.\n",
    "\n",
    "#### Using *bumpversion* to increment version #:\n",
    "- The version number for your package is located in 3 file locations:\n",
    "    - setup.cfg\n",
    "    - setup.py\n",
    "    - init.py\n",
    "\n",
    "-  **bumpversion** will increment all 3 locations when you enter a bumpversion command in your terminal.\n",
    "    - bumpversion has understands 3 types of updates: major, minor, and patch.\n",
    "        - For example, let's say your package is currently v 0.1.0\n",
    "            - ```bumpversion major``` \n",
    "                - Increment version #'s by 1's \n",
    "                - v 0.1.0 is bumped to v 1.0.0<br>\n",
    "            - ```bumpversion minor```\n",
    "                - increments version by 0.1\n",
    "                - v 0.1.0 is bumped to v 0.2.0<br>\n",
    "            - ```bumpversion patch```\n",
    "                - increments version by 0.0.1\n",
    "                - v 0.1.0 is bumped to v 0.1.1<br>\n",
    "    - **Before entering the bumpversion command, you must commit any changes you've made to your repo.**\n",
    "        - bumpversion will return an error if you try to bump without committing first.\n",
    "    - [ ] To increment your package's version #: \n",
    "        - Commit any changes you've made for your new version. (note: you do not need to ```git push``` yet. Committing the changes is sufficient to appease bumpversion).\n",
    "    - [ ]  Enter the appropriate bumpversion command depending on how much you'd like to increase the version #.\n",
    "    - [ ] Push the updated repo. If you removed the tags:true entries as suggested above, Travis-CI will automatically build test and attempt to deploy any commits to your package.\n",
    "\n",
    "- ***NOTE: While this may sound risky, its actually not, since PyPi will not deploy any packages with the same version number.*** \n",
    "    -  As long as you do not bumpversion, Travis will  _test_ your updated package, but it will _fail to deploy it_, since PyPi already has a pre-existing distribution for that version***\n",
    "   - Documentation Note:\n",
    "        - Readthedocs.org will test and update your documentation for ANY commit. So if you only need to update an aspect of the doc's, you can simply change the settings and push your repo _without_ having to bumpversion.\n",
    "\n",
    "### 4. Commit all changes and push your repo back to git\n",
    "\n",
    "- As long as your removed the suggested edits regardings \"tags\" described above, your commit will automatically be send to travis-ci and readthedocs for build testing and deployment. \n",
    "\n",
    "\n",
    "### 5. To check on the status of your package:\n",
    "- [ ] **Log into travis-ci.org to see the latest build results and any errors that were found during testing.**<br>\n",
    "     - If you spent time to debug locally first, you won't be needing the error log nearly as much.  \n",
    "     - NOTE: Travis-CI will indicate an failed build if it cannot be deployed to PyPi (usually because you did not increment the version #), even if the package itself is fine. Look at the build log to see the error code to determine if this is the case.  <br><br>\n",
    "- [ ] **Checking documentation creation on readthedocs.org** <br>\n",
    "     - Log into your accout on readthedocs.org, click on your package and then the green \"View Docs\" button.\n",
    "     - Note: Even if Travis fails to deploy your package update to PyPi, readthedocs will still generate new documentation. \n",
    "\n",
    "## That's it! (for now)"
   ]
  },
  {
   "cell_type": "markdown",
   "metadata": {},
   "source": [
    "# Congratulations! You did it!\n",
    "<img src=https://raw.githubusercontent.com/jirvingphd/dsc-3-final-project-online-ds-ft-021119/master/blog_post/celebrate-311709_1280.png width=\"400\">\n",
    "\n",
    "- While the process certainly is not _easy_ to set up, once everything has been configured you will be able to easily and automatically deploy all updates to your package/modules.\n",
    "\n",
    "- There was more I originally wished to describe, such as detailed explanation of controlling your documentation structure, and setting up collaboration with others, but that will have to wait until next time. \n",
    "\n",
    "- If you have any questions please feel free to email me at james.irving.phd@outlook.com and I will help you resolve what I can or at least be able to point you in the right direction to find an answer (if I don't know it myself)."
   ]
  },
  {
   "cell_type": "markdown",
   "metadata": {},
   "source": [
    "# APPENDIX"
   ]
  },
  {
   "cell_type": "markdown",
   "metadata": {},
   "source": [
    "## Backup Env Instead of Cloning it"
   ]
  },
  {
   "cell_type": "markdown",
   "metadata": {},
   "source": [
    "- [ ] **Backup and export your current enviornment** to a .yml file, which you can use to re-install your env, if need be. \n",
    "    - For Anaconda environments, open your terminal and activate your environment before exporting: <br><br>```source activate env-name```<br> ```conda env export > my_environment.yml``` <br><br>\n",
    "        - *where \"env-name\" is the name of the environment you'd like to clone and \"my_environment\".yml is any-name-you'd-like.yml*\n",
    "        \n",
    "        \n",
    "    - This will save the .yml into your current  directory that can be used to install your environment in the future using:<br>```conda env create -f my_environment.yml```\n",
    "> - **DO NOT SKIP THIS STEP.** I have warned you and I am not responsible for any broken environments.<br>While nothing *should* break, it's always a GOOD idea to create a new environment for creating and installing test packages. Really, I should say  its a DUMB idea not to. <br><br><br>\n",
    "  "
   ]
  },
  {
   "cell_type": "code",
   "execution_count": null,
   "metadata": {},
   "outputs": [],
   "source": []
  }
 ],
 "metadata": {
  "kernelspec": {
   "display_name": "learn-env",
   "language": "python",
   "name": "learn-env"
  },
  "language_info": {
   "codemirror_mode": {
    "name": "ipython",
    "version": 3
   },
   "file_extension": ".py",
   "mimetype": "text/x-python",
   "name": "python",
   "nbconvert_exporter": "python",
   "pygments_lexer": "ipython3",
   "version": "3.6.11"
  },
  "toc": {
   "base_numbering": 1,
   "nav_menu": {},
   "number_sections": false,
   "sideBar": true,
   "skip_h1_title": false,
   "title_cell": "Table of Contents",
   "title_sidebar": "Contents",
   "toc_cell": false,
   "toc_position": {
    "height": "calc(100% - 180px)",
    "left": "10px",
    "top": "150px",
    "width": "320px"
   },
   "toc_section_display": true,
   "toc_window_display": true
  }
 },
 "nbformat": 4,
 "nbformat_minor": 4
}

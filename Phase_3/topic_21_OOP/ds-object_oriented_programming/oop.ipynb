{
 "cells": [
  {
   "cell_type": "markdown",
   "metadata": {
    "toc": true
   },
   "source": [
    "<h1>Table of Contents<span class=\"tocSkip\"></span></h1>\n",
    "<div class=\"toc\"><ul class=\"toc-item\"><li><span><a href=\"#Objectives\" data-toc-modified-id=\"Objectives-1\"><span class=\"toc-item-num\">1&nbsp;&nbsp;</span>Objectives</a></span></li><li><span><a href=\"#Why-a-Data-Scientist-Should-Learn-about-OOP\" data-toc-modified-id=\"Why-a-Data-Scientist-Should-Learn-about-OOP-2\"><span class=\"toc-item-num\">2&nbsp;&nbsp;</span>Why a Data Scientist Should Learn about OOP</a></span></li><li><span><a href=\"#&quot;Everything-in-Python-is-an-object&quot;\" data-toc-modified-id=\"&quot;Everything-in-Python-is-an-object&quot;-3\"><span class=\"toc-item-num\">3&nbsp;&nbsp;</span>\"Everything in Python is an object\"</a></span><ul class=\"toc-item\"><li><span><a href=\"#Side-Note-about-Variables\" data-toc-modified-id=\"Side-Note-about-Variables-3.1\"><span class=\"toc-item-num\">3.1&nbsp;&nbsp;</span>Side Note about Variables</a></span></li></ul></li><li><span><a href=\"#Define-Attributes,-Methods,-and-Dot-Notation\" data-toc-modified-id=\"Define-Attributes,-Methods,-and-Dot-Notation-4\"><span class=\"toc-item-num\">4&nbsp;&nbsp;</span>Define Attributes, Methods, and Dot Notation</a></span><ul class=\"toc-item\"><li><span><a href=\"#Exercise\" data-toc-modified-id=\"Exercise-4.1\"><span class=\"toc-item-num\">4.1&nbsp;&nbsp;</span>Exercise</a></span></li></ul></li><li><span><a href=\"#Describe-the-Relationship-of-Classes-to-Objects,-and-Learn-to-Code-Classes\" data-toc-modified-id=\"Describe-the-Relationship-of-Classes-to-Objects,-and-Learn-to-Code-Classes-5\"><span class=\"toc-item-num\">5&nbsp;&nbsp;</span>Describe the Relationship of Classes to Objects, and Learn to Code Classes</a></span><ul class=\"toc-item\"><li><span><a href=\"#Classes\" data-toc-modified-id=\"Classes-5.1\"><span class=\"toc-item-num\">5.1&nbsp;&nbsp;</span>Classes</a></span></li><li><span><a href=\"#Methods\" data-toc-modified-id=\"Methods-5.2\"><span class=\"toc-item-num\">5.2&nbsp;&nbsp;</span>Methods</a></span></li></ul></li></ul></div>"
   ]
  },
  {
   "cell_type": "markdown",
   "metadata": {},
   "source": [
    "![fvo](https://cdn.educba.com/academy/wp-content/uploads/2018/07/Functional-Programming-vs-OOP-1.png)"
   ]
  },
  {
   "cell_type": "code",
   "execution_count": 1,
   "metadata": {
    "ExecuteTime": {
     "end_time": "2021-04-24T15:07:26.804413Z",
     "start_time": "2021-04-24T15:07:26.313794Z"
    }
   },
   "outputs": [],
   "source": [
    "import pandas as pd\n",
    "import inspect"
   ]
  },
  {
   "cell_type": "markdown",
   "metadata": {},
   "source": [
    "# Objectives"
   ]
  },
  {
   "cell_type": "markdown",
   "metadata": {},
   "source": [
    "- Explain the meaning and relevance of object orientation\n",
    "- Explain the idea that \"everything in Python is an object\"\n",
    "- Define the notions of attribute, method, and dot notation\n",
    "- Describe the relationship of classes and objects, and to code classes\n",
    "- Explain the notion of inheritance"
   ]
  },
  {
   "cell_type": "markdown",
   "metadata": {},
   "source": [
    "# Why a Data Scientist Should Learn about OOP"
   ]
  },
  {
   "cell_type": "markdown",
   "metadata": {},
   "source": [
    "  - By becoming familiar with the principles of OOP, you will increase your knowledge of what's possible.  Much of what you might think you need to code by hand is already built into the objects.\n",
    "  - With a knowledge of classes and how objects store information, you will develop a better sense of when the learning in machine learning occurs in the code, and after that learning occurs, how to access the information gained.\n",
    "  - You become comfortable reading other people's code, which will improve your own code.\n",
    "  - You will develop knowledge of the OOP family of programming languages, the strengths and weakness of Python, and the strengths and weaknesses of other language families."
   ]
  },
  {
   "cell_type": "markdown",
   "metadata": {},
   "source": [
    "Let's begin by taking a look at the source code for `sklearn`'s [StandardScaler](https://github.com/scikit-learn/scikit-learn/blob/fd237278e/sklearn/preprocessing/_data.py#L517)\n",
    "\n",
    "Take a minute to peruse the source code on your own. What do you notice?"
   ]
  },
  {
   "cell_type": "code",
   "execution_count": null,
   "metadata": {},
   "outputs": [],
   "source": [
    "\n",
    "\n"
   ]
  },
  {
   "cell_type": "markdown",
   "metadata": {},
   "source": [
    "# \"Everything in Python is an object\""
   ]
  },
  {
   "cell_type": "markdown",
   "metadata": {},
   "source": [
    "Python is an object-oriented programming language. You'll hear people say that \"everything is an object\" in Python. What does this mean?\n",
    "\n",
    "Go back to the idea of a function for a moment. A function is a kind of abstraction whereby an algorithm is made repeatable. So instead of coding:"
   ]
  },
  {
   "cell_type": "code",
   "execution_count": 2,
   "metadata": {
    "ExecuteTime": {
     "end_time": "2021-04-24T15:07:26.809455Z",
     "start_time": "2021-04-24T15:07:26.806302Z"
    }
   },
   "outputs": [
    {
     "name": "stdout",
     "output_type": "stream",
     "text": [
      "19\n",
      "26\n",
      "35\n"
     ]
    }
   ],
   "source": [
    "print(3**2 + 10)\n",
    "print(4**2 + 10)\n",
    "print(5**2 + 10)"
   ]
  },
  {
   "cell_type": "markdown",
   "metadata": {},
   "source": [
    "or even:"
   ]
  },
  {
   "cell_type": "code",
   "execution_count": 3,
   "metadata": {
    "ExecuteTime": {
     "end_time": "2021-04-24T15:07:26.817404Z",
     "start_time": "2021-04-24T15:07:26.814683Z"
    }
   },
   "outputs": [
    {
     "name": "stdout",
     "output_type": "stream",
     "text": [
      "19\n",
      "26\n",
      "35\n"
     ]
    }
   ],
   "source": [
    "for x in range(3, 6):\n",
    "    print(x**2 + 10)"
   ]
  },
  {
   "cell_type": "markdown",
   "metadata": {},
   "source": [
    "I can write:"
   ]
  },
  {
   "cell_type": "code",
   "execution_count": 4,
   "metadata": {
    "ExecuteTime": {
     "end_time": "2021-04-24T15:07:26.821337Z",
     "start_time": "2021-04-24T15:07:26.819032Z"
    }
   },
   "outputs": [],
   "source": [
    "def square_and_add_ten(x):\n",
    "    return x**2 + 10"
   ]
  },
  {
   "cell_type": "markdown",
   "metadata": {},
   "source": [
    "Now imagine a further abstraction: Before, creating a function was about making a certain algorithm available to different inputs. Now I want to make that function available to different **objects**.\n",
    "\n",
    "Even Python integers are objects. Consider:"
   ]
  },
  {
   "cell_type": "code",
   "execution_count": 5,
   "metadata": {
    "ExecuteTime": {
     "end_time": "2021-04-24T15:07:26.824901Z",
     "start_time": "2021-04-24T15:07:26.822954Z"
    }
   },
   "outputs": [],
   "source": [
    "x = 3"
   ]
  },
  {
   "cell_type": "markdown",
   "metadata": {},
   "source": [
    "We can see what type of object a variable is with the built-in type operator:"
   ]
  },
  {
   "cell_type": "code",
   "execution_count": 6,
   "metadata": {
    "ExecuteTime": {
     "end_time": "2021-04-24T15:07:26.833459Z",
     "start_time": "2021-04-24T15:07:26.826145Z"
    }
   },
   "outputs": [
    {
     "data": {
      "text/plain": [
       "int"
      ]
     },
     "execution_count": 6,
     "metadata": {},
     "output_type": "execute_result"
    }
   ],
   "source": [
    "type(x)"
   ]
  },
  {
   "cell_type": "markdown",
   "metadata": {},
   "source": [
    "By setting x equal to an integer, I'm imbuing x with the methods of the integer class."
   ]
  },
  {
   "cell_type": "code",
   "execution_count": 7,
   "metadata": {
    "ExecuteTime": {
     "end_time": "2021-04-24T15:07:26.839423Z",
     "start_time": "2021-04-24T15:07:26.836795Z"
    }
   },
   "outputs": [
    {
     "data": {
      "text/plain": [
       "2"
      ]
     },
     "execution_count": 7,
     "metadata": {},
     "output_type": "execute_result"
    }
   ],
   "source": [
    "x.bit_length()"
   ]
  },
  {
   "cell_type": "code",
   "execution_count": 8,
   "metadata": {
    "ExecuteTime": {
     "end_time": "2021-04-24T15:07:26.844600Z",
     "start_time": "2021-04-24T15:07:26.841840Z"
    }
   },
   "outputs": [
    {
     "data": {
      "text/plain": [
       "3"
      ]
     },
     "execution_count": 8,
     "metadata": {},
     "output_type": "execute_result"
    }
   ],
   "source": [
    "y = 4\n",
    "y.bit_length()"
   ]
  },
  {
   "cell_type": "code",
   "execution_count": 9,
   "metadata": {
    "ExecuteTime": {
     "end_time": "2021-04-24T15:07:26.848958Z",
     "start_time": "2021-04-24T15:07:26.845943Z"
    }
   },
   "outputs": [
    {
     "data": {
      "text/plain": [
       "3.0"
      ]
     },
     "execution_count": 9,
     "metadata": {},
     "output_type": "execute_result"
    }
   ],
   "source": [
    "x.__float__()"
   ]
  },
  {
   "cell_type": "markdown",
   "metadata": {},
   "source": [
    "Python is dynamically typed, meaning you don't have to instruct it as to what type of object your variable is.  \n",
    "A variable is a pointer to where an object is stored in memory."
   ]
  },
  {
   "cell_type": "markdown",
   "metadata": {},
   "source": [
    "## Side Note about Variables"
   ]
  },
  {
   "cell_type": "code",
   "execution_count": 10,
   "metadata": {
    "ExecuteTime": {
     "end_time": "2021-04-24T15:07:26.854514Z",
     "start_time": "2021-04-24T15:07:26.851125Z"
    }
   },
   "outputs": [
    {
     "data": {
      "text/plain": [
       "4494154144"
      ]
     },
     "execution_count": 10,
     "metadata": {},
     "output_type": "execute_result"
    }
   ],
   "source": [
    "id(x)"
   ]
  },
  {
   "cell_type": "code",
   "execution_count": 11,
   "metadata": {
    "ExecuteTime": {
     "end_time": "2021-04-24T15:07:26.859697Z",
     "start_time": "2021-04-24T15:07:26.856155Z"
    }
   },
   "outputs": [
    {
     "data": {
      "text/plain": [
       "'0x10bdf59a0'"
      ]
     },
     "execution_count": 11,
     "metadata": {},
     "output_type": "execute_result"
    }
   ],
   "source": [
    "hex(id(x))"
   ]
  },
  {
   "cell_type": "code",
   "execution_count": 12,
   "metadata": {
    "ExecuteTime": {
     "end_time": "2021-04-24T15:07:26.863350Z",
     "start_time": "2021-04-24T15:07:26.861440Z"
    }
   },
   "outputs": [],
   "source": [
    "y = 3"
   ]
  },
  {
   "cell_type": "code",
   "execution_count": 13,
   "metadata": {
    "ExecuteTime": {
     "end_time": "2021-04-24T15:07:26.868634Z",
     "start_time": "2021-04-24T15:07:26.865627Z"
    }
   },
   "outputs": [
    {
     "data": {
      "text/plain": [
       "'0x10bdf59a0'"
      ]
     },
     "execution_count": 13,
     "metadata": {},
     "output_type": "execute_result"
    }
   ],
   "source": [
    "hex(id(y))"
   ]
  },
  {
   "cell_type": "code",
   "execution_count": 14,
   "metadata": {
    "ExecuteTime": {
     "end_time": "2021-04-24T15:07:26.873247Z",
     "start_time": "2021-04-24T15:07:26.870020Z"
    }
   },
   "outputs": [
    {
     "data": {
      "text/plain": [
       "True"
      ]
     },
     "execution_count": 14,
     "metadata": {},
     "output_type": "execute_result"
    }
   ],
   "source": [
    "x is y"
   ]
  },
  {
   "cell_type": "code",
   "execution_count": 15,
   "metadata": {
    "ExecuteTime": {
     "end_time": "2021-04-24T15:07:26.877761Z",
     "start_time": "2021-04-24T15:07:26.874888Z"
    }
   },
   "outputs": [
    {
     "name": "stdout",
     "output_type": "stream",
     "text": [
      "[1, 2, 3]\n",
      "[1, 2, 3]\n"
     ]
    }
   ],
   "source": [
    "# this can have implications \n",
    "\n",
    "x_list = [1,2,3,4]\n",
    "y_list = x_list\n",
    "\n",
    "x_list.pop()\n",
    "print(x_list)\n",
    "print(y_list)"
   ]
  },
  {
   "cell_type": "code",
   "execution_count": 16,
   "metadata": {
    "ExecuteTime": {
     "end_time": "2021-04-24T15:07:26.881449Z",
     "start_time": "2021-04-24T15:07:26.879451Z"
    }
   },
   "outputs": [],
   "source": [
    "# when you use copy(), you create a shallow copy of the object\n",
    "\n",
    "z_list = y_list.copy()"
   ]
  },
  {
   "cell_type": "code",
   "execution_count": 17,
   "metadata": {
    "ExecuteTime": {
     "end_time": "2021-04-24T15:07:26.886122Z",
     "start_time": "2021-04-24T15:07:26.883235Z"
    }
   },
   "outputs": [
    {
     "data": {
      "text/plain": [
       "140188800184448"
      ]
     },
     "execution_count": 17,
     "metadata": {},
     "output_type": "execute_result"
    }
   ],
   "source": [
    "id(z_list)"
   ]
  },
  {
   "cell_type": "code",
   "execution_count": 18,
   "metadata": {
    "ExecuteTime": {
     "end_time": "2021-04-24T15:07:26.890675Z",
     "start_time": "2021-04-24T15:07:26.887640Z"
    }
   },
   "outputs": [
    {
     "data": {
      "text/plain": [
       "140188800231168"
      ]
     },
     "execution_count": 18,
     "metadata": {},
     "output_type": "execute_result"
    }
   ],
   "source": [
    "id(y_list)"
   ]
  },
  {
   "cell_type": "code",
   "execution_count": 19,
   "metadata": {
    "ExecuteTime": {
     "end_time": "2021-04-24T15:07:26.895185Z",
     "start_time": "2021-04-24T15:07:26.892575Z"
    }
   },
   "outputs": [
    {
     "name": "stdout",
     "output_type": "stream",
     "text": [
      "[1, 2]\n",
      "[1, 2, 3]\n"
     ]
    }
   ],
   "source": [
    "y_list.pop()\n",
    "print(y_list)\n",
    "print(z_list)"
   ]
  },
  {
   "cell_type": "code",
   "execution_count": 20,
   "metadata": {
    "ExecuteTime": {
     "end_time": "2021-04-24T15:07:26.901588Z",
     "start_time": "2021-04-24T15:07:26.897482Z"
    }
   },
   "outputs": [
    {
     "data": {
      "text/plain": [
       "[['z', 2, 3], [4, 5, 6]]"
      ]
     },
     "execution_count": 20,
     "metadata": {},
     "output_type": "execute_result"
    }
   ],
   "source": [
    "a_list = [[1,2,3], [4,5,6]]\n",
    "b_list = a_list.copy()\n",
    "a_list[0][0] ='z'\n",
    "b_list"
   ]
  },
  {
   "cell_type": "code",
   "execution_count": 21,
   "metadata": {
    "ExecuteTime": {
     "end_time": "2021-04-24T15:07:26.907415Z",
     "start_time": "2021-04-24T15:07:26.903420Z"
    }
   },
   "outputs": [
    {
     "data": {
      "text/plain": [
       "[[1, 2, 3], [4, 5, 6]]"
      ]
     },
     "execution_count": 21,
     "metadata": {},
     "output_type": "execute_result"
    }
   ],
   "source": [
    "import copy\n",
    "\n",
    "# deepcopy is needed for mutable objects\n",
    "\n",
    "a_list = [[1,2,3], [4,5,6]]\n",
    "b_list = copy.deepcopy(a_list)\n",
    "a_list[0][0] ='z'\n",
    "b_list"
   ]
  },
  {
   "cell_type": "markdown",
   "metadata": {},
   "source": [
    "For more details on this general feature of Python, see [here](https://jakevdp.github.io/WhirlwindTourOfPython/03-semantics-variables.html).\n",
    "For more on shallow and deep copying, go [here](https://docs.python.org/3/library/copy.html#copy.deepcopy)."
   ]
  },
  {
   "cell_type": "markdown",
   "metadata": {},
   "source": [
    "# Define Attributes, Methods, and Dot Notation"
   ]
  },
  {
   "cell_type": "markdown",
   "metadata": {},
   "source": [
    "Dot notation is used to access both attributes and methods.\n",
    "\n",
    "Take for example our familiar friend, the [`Pandas` DataFrame](https://pandas.pydata.org/pandas-docs/stable/reference/api/pandas.DataFrame.html)."
   ]
  },
  {
   "cell_type": "code",
   "execution_count": 22,
   "metadata": {
    "ExecuteTime": {
     "end_time": "2021-04-24T15:07:26.918878Z",
     "start_time": "2021-04-24T15:07:26.915588Z"
    }
   },
   "outputs": [],
   "source": [
    "# Dataframes are another type of object.\n",
    "\n",
    "df = pd.DataFrame({'price': [50, 40, 30],'sqft': [1000, 950, 500]})"
   ]
  },
  {
   "cell_type": "code",
   "execution_count": 23,
   "metadata": {
    "ExecuteTime": {
     "end_time": "2021-04-24T15:07:26.939993Z",
     "start_time": "2021-04-24T15:07:26.922466Z"
    }
   },
   "outputs": [
    {
     "data": {
      "text/html": [
       "<div>\n",
       "<style scoped>\n",
       "    .dataframe tbody tr th:only-of-type {\n",
       "        vertical-align: middle;\n",
       "    }\n",
       "\n",
       "    .dataframe tbody tr th {\n",
       "        vertical-align: top;\n",
       "    }\n",
       "\n",
       "    .dataframe thead th {\n",
       "        text-align: right;\n",
       "    }\n",
       "</style>\n",
       "<table border=\"1\" class=\"dataframe\">\n",
       "  <thead>\n",
       "    <tr style=\"text-align: right;\">\n",
       "      <th></th>\n",
       "      <th>price</th>\n",
       "      <th>sqft</th>\n",
       "    </tr>\n",
       "  </thead>\n",
       "  <tbody>\n",
       "    <tr>\n",
       "      <th>0</th>\n",
       "      <td>50</td>\n",
       "      <td>1000</td>\n",
       "    </tr>\n",
       "    <tr>\n",
       "      <th>1</th>\n",
       "      <td>40</td>\n",
       "      <td>950</td>\n",
       "    </tr>\n",
       "    <tr>\n",
       "      <th>2</th>\n",
       "      <td>30</td>\n",
       "      <td>500</td>\n",
       "    </tr>\n",
       "  </tbody>\n",
       "</table>\n",
       "</div>"
      ],
      "text/plain": [
       "   price  sqft\n",
       "0     50  1000\n",
       "1     40   950\n",
       "2     30   500"
      ]
     },
     "execution_count": 23,
     "metadata": {},
     "output_type": "execute_result"
    }
   ],
   "source": [
    "df"
   ]
  },
  {
   "cell_type": "code",
   "execution_count": 24,
   "metadata": {
    "ExecuteTime": {
     "end_time": "2021-04-24T15:07:26.945498Z",
     "start_time": "2021-04-24T15:07:26.941946Z"
    }
   },
   "outputs": [
    {
     "data": {
      "text/plain": [
       "pandas.core.frame.DataFrame"
      ]
     },
     "execution_count": 24,
     "metadata": {},
     "output_type": "execute_result"
    }
   ],
   "source": [
    "type(df)"
   ]
  },
  {
   "cell_type": "markdown",
   "metadata": {},
   "source": [
    "Instance attributes are associated with each unique object.\n",
    "They describe characteristics of the object, and are accessed with dot notation like so:"
   ]
  },
  {
   "cell_type": "code",
   "execution_count": 25,
   "metadata": {
    "ExecuteTime": {
     "end_time": "2021-04-24T15:07:26.950910Z",
     "start_time": "2021-04-24T15:07:26.947332Z"
    }
   },
   "outputs": [
    {
     "data": {
      "text/plain": [
       "(3, 2)"
      ]
     },
     "execution_count": 25,
     "metadata": {},
     "output_type": "execute_result"
    }
   ],
   "source": [
    "df.shape"
   ]
  },
  {
   "cell_type": "markdown",
   "metadata": {},
   "source": [
    "What are some other DataFrame attributes we know?:"
   ]
  },
  {
   "cell_type": "code",
   "execution_count": 26,
   "metadata": {
    "ExecuteTime": {
     "end_time": "2021-04-24T15:07:26.954364Z",
     "start_time": "2021-04-24T15:07:26.952586Z"
    }
   },
   "outputs": [],
   "source": [
    "# Other df attributes\n",
    "\n"
   ]
  },
  {
   "cell_type": "markdown",
   "metadata": {},
   "source": [
    "A **method** is a function attached to an object:"
   ]
  },
  {
   "cell_type": "code",
   "execution_count": 27,
   "metadata": {
    "ExecuteTime": {
     "end_time": "2021-04-24T15:07:26.962748Z",
     "start_time": "2021-04-24T15:07:26.956099Z"
    }
   },
   "outputs": [
    {
     "name": "stdout",
     "output_type": "stream",
     "text": [
      "<class 'pandas.core.frame.DataFrame'>\n",
      "RangeIndex: 3 entries, 0 to 2\n",
      "Data columns (total 2 columns):\n",
      " #   Column  Non-Null Count  Dtype\n",
      "---  ------  --------------  -----\n",
      " 0   price   3 non-null      int64\n",
      " 1   sqft    3 non-null      int64\n",
      "dtypes: int64(2)\n",
      "memory usage: 176.0 bytes\n"
     ]
    }
   ],
   "source": [
    "df.info()"
   ]
  },
  {
   "cell_type": "code",
   "execution_count": 28,
   "metadata": {
    "ExecuteTime": {
     "end_time": "2021-04-24T15:07:26.971919Z",
     "start_time": "2021-04-24T15:07:26.964652Z"
    }
   },
   "outputs": [
    {
     "name": "stdout",
     "output_type": "stream",
     "text": [
      "<class 'pandas.core.frame.DataFrame'>\n",
      "RangeIndex: 3 entries, 0 to 2\n",
      "Data columns (total 2 columns):\n",
      " #   Column  Non-Null Count  Dtype\n",
      "---  ------  --------------  -----\n",
      " 0   price   3 non-null      int64\n",
      " 1   sqft    3 non-null      int64\n",
      "dtypes: int64(2)\n",
      "memory usage: 176.0 bytes\n"
     ]
    },
    {
     "data": {
      "text/plain": [
       "NoneType"
      ]
     },
     "execution_count": 28,
     "metadata": {},
     "output_type": "execute_result"
    }
   ],
   "source": [
    "type(df.info())"
   ]
  },
  {
   "cell_type": "code",
   "execution_count": 29,
   "metadata": {
    "ExecuteTime": {
     "end_time": "2021-04-24T15:07:26.978984Z",
     "start_time": "2021-04-24T15:07:26.973547Z"
    }
   },
   "outputs": [
    {
     "data": {
      "text/html": [
       "<div>\n",
       "<style scoped>\n",
       "    .dataframe tbody tr th:only-of-type {\n",
       "        vertical-align: middle;\n",
       "    }\n",
       "\n",
       "    .dataframe tbody tr th {\n",
       "        vertical-align: top;\n",
       "    }\n",
       "\n",
       "    .dataframe thead th {\n",
       "        text-align: right;\n",
       "    }\n",
       "</style>\n",
       "<table border=\"1\" class=\"dataframe\">\n",
       "  <thead>\n",
       "    <tr style=\"text-align: right;\">\n",
       "      <th></th>\n",
       "      <th>price</th>\n",
       "      <th>sqft</th>\n",
       "    </tr>\n",
       "  </thead>\n",
       "  <tbody>\n",
       "    <tr>\n",
       "      <th>0</th>\n",
       "      <td>False</td>\n",
       "      <td>False</td>\n",
       "    </tr>\n",
       "    <tr>\n",
       "      <th>1</th>\n",
       "      <td>False</td>\n",
       "      <td>False</td>\n",
       "    </tr>\n",
       "    <tr>\n",
       "      <th>2</th>\n",
       "      <td>False</td>\n",
       "      <td>False</td>\n",
       "    </tr>\n",
       "  </tbody>\n",
       "</table>\n",
       "</div>"
      ],
      "text/plain": [
       "   price   sqft\n",
       "0  False  False\n",
       "1  False  False\n",
       "2  False  False"
      ]
     },
     "execution_count": 29,
     "metadata": {},
     "output_type": "execute_result"
    }
   ],
   "source": [
    "# isna() is a method that comes along with the DataFrame object\n",
    "\n",
    "df.isna()"
   ]
  },
  {
   "cell_type": "markdown",
   "metadata": {},
   "source": [
    "What other DataFrame methods do we know?"
   ]
  },
  {
   "cell_type": "code",
   "execution_count": 30,
   "metadata": {
    "ExecuteTime": {
     "end_time": "2021-04-24T15:07:26.982521Z",
     "start_time": "2021-04-24T15:07:26.980782Z"
    }
   },
   "outputs": [],
   "source": [
    "# Other df methods\n",
    "\n"
   ]
  },
  {
   "cell_type": "markdown",
   "metadata": {},
   "source": [
    "## Exercise"
   ]
  },
  {
   "cell_type": "markdown",
   "metadata": {},
   "source": [
    "Let's practice accessing the methods associated with the built in `str` class.  \n",
    "You are given a string below: "
   ]
  },
  {
   "cell_type": "code",
   "execution_count": 31,
   "metadata": {
    "ExecuteTime": {
     "end_time": "2021-04-24T15:07:26.986261Z",
     "start_time": "2021-04-24T15:07:26.984319Z"
    }
   },
   "outputs": [],
   "source": [
    "example = '   hELL0, w0RLD?   '"
   ]
  },
  {
   "cell_type": "markdown",
   "metadata": {},
   "source": [
    "Your task is to fix is so it reads `Hello, World!` using string methods.  To practice chaining methods, try to do it in one line.\n",
    "\n",
    "Use the [documentation](https://docs.python.org/3/library/stdtypes.html#string-methods), and use the inspect library to see the names of methods.\n",
    "\n",
    "We can chain methods together because the **result of applying a method to an object is another object**."
   ]
  },
  {
   "cell_type": "code",
   "execution_count": 32,
   "metadata": {
    "ExecuteTime": {
     "end_time": "2021-04-24T15:07:27.006018Z",
     "start_time": "2021-04-24T15:07:26.987623Z"
    },
    "jupyter": {
     "outputs_hidden": true
    }
   },
   "outputs": [
    {
     "data": {
      "text/plain": [
       "[('__add__', <method-wrapper '__add__' of str object at 0x7f803fa82e40>),\n",
       " ('__class__', str),\n",
       " ('__contains__',\n",
       "  <method-wrapper '__contains__' of str object at 0x7f803fa82e40>),\n",
       " ('__delattr__',\n",
       "  <method-wrapper '__delattr__' of str object at 0x7f803fa82e40>),\n",
       " ('__dir__', <function str.__dir__()>),\n",
       " ('__doc__',\n",
       "  \"str(object='') -> str\\nstr(bytes_or_buffer[, encoding[, errors]]) -> str\\n\\nCreate a new string object from the given object. If encoding or\\nerrors is specified, then the object must expose a data buffer\\nthat will be decoded using the given encoding and error handler.\\nOtherwise, returns the result of object.__str__() (if defined)\\nor repr(object).\\nencoding defaults to sys.getdefaultencoding().\\nerrors defaults to 'strict'.\"),\n",
       " ('__eq__', <method-wrapper '__eq__' of str object at 0x7f803fa82e40>),\n",
       " ('__format__', <function str.__format__(format_spec, /)>),\n",
       " ('__ge__', <method-wrapper '__ge__' of str object at 0x7f803fa82e40>),\n",
       " ('__getattribute__',\n",
       "  <method-wrapper '__getattribute__' of str object at 0x7f803fa82e40>),\n",
       " ('__getitem__',\n",
       "  <method-wrapper '__getitem__' of str object at 0x7f803fa82e40>),\n",
       " ('__getnewargs__', <function str.__getnewargs__>),\n",
       " ('__gt__', <method-wrapper '__gt__' of str object at 0x7f803fa82e40>),\n",
       " ('__hash__', <method-wrapper '__hash__' of str object at 0x7f803fa82e40>),\n",
       " ('__init__', <method-wrapper '__init__' of str object at 0x7f803fa82e40>),\n",
       " ('__init_subclass__', <function str.__init_subclass__>),\n",
       " ('__iter__', <method-wrapper '__iter__' of str object at 0x7f803fa82e40>),\n",
       " ('__le__', <method-wrapper '__le__' of str object at 0x7f803fa82e40>),\n",
       " ('__len__', <method-wrapper '__len__' of str object at 0x7f803fa82e40>),\n",
       " ('__lt__', <method-wrapper '__lt__' of str object at 0x7f803fa82e40>),\n",
       " ('__mod__', <method-wrapper '__mod__' of str object at 0x7f803fa82e40>),\n",
       " ('__mul__', <method-wrapper '__mul__' of str object at 0x7f803fa82e40>),\n",
       " ('__ne__', <method-wrapper '__ne__' of str object at 0x7f803fa82e40>),\n",
       " ('__new__', <function str.__new__(*args, **kwargs)>),\n",
       " ('__reduce__', <function str.__reduce__()>),\n",
       " ('__reduce_ex__', <function str.__reduce_ex__(protocol, /)>),\n",
       " ('__repr__', <method-wrapper '__repr__' of str object at 0x7f803fa82e40>),\n",
       " ('__rmod__', <method-wrapper '__rmod__' of str object at 0x7f803fa82e40>),\n",
       " ('__rmul__', <method-wrapper '__rmul__' of str object at 0x7f803fa82e40>),\n",
       " ('__setattr__',\n",
       "  <method-wrapper '__setattr__' of str object at 0x7f803fa82e40>),\n",
       " ('__sizeof__', <function str.__sizeof__()>),\n",
       " ('__str__', <method-wrapper '__str__' of str object at 0x7f803fa82e40>),\n",
       " ('__subclasshook__', <function str.__subclasshook__>),\n",
       " ('capitalize', <function str.capitalize()>),\n",
       " ('casefold', <function str.casefold()>),\n",
       " ('center', <function str.center(width, fillchar=' ', /)>),\n",
       " ('count', <function str.count>),\n",
       " ('encode', <function str.encode(encoding='utf-8', errors='strict')>),\n",
       " ('endswith', <function str.endswith>),\n",
       " ('expandtabs', <function str.expandtabs(tabsize=8)>),\n",
       " ('find', <function str.find>),\n",
       " ('format', <function str.format>),\n",
       " ('format_map', <function str.format_map>),\n",
       " ('index', <function str.index>),\n",
       " ('isalnum', <function str.isalnum()>),\n",
       " ('isalpha', <function str.isalpha()>),\n",
       " ('isascii', <function str.isascii()>),\n",
       " ('isdecimal', <function str.isdecimal()>),\n",
       " ('isdigit', <function str.isdigit()>),\n",
       " ('isidentifier', <function str.isidentifier()>),\n",
       " ('islower', <function str.islower()>),\n",
       " ('isnumeric', <function str.isnumeric()>),\n",
       " ('isprintable', <function str.isprintable()>),\n",
       " ('isspace', <function str.isspace()>),\n",
       " ('istitle', <function str.istitle()>),\n",
       " ('isupper', <function str.isupper()>),\n",
       " ('join', <function str.join(iterable, /)>),\n",
       " ('ljust', <function str.ljust(width, fillchar=' ', /)>),\n",
       " ('lower', <function str.lower()>),\n",
       " ('lstrip', <function str.lstrip(chars=None, /)>),\n",
       " ('maketrans', <function str.maketrans>),\n",
       " ('partition', <function str.partition(sep, /)>),\n",
       " ('replace', <function str.replace(old, new, count=-1, /)>),\n",
       " ('rfind', <function str.rfind>),\n",
       " ('rindex', <function str.rindex>),\n",
       " ('rjust', <function str.rjust(width, fillchar=' ', /)>),\n",
       " ('rpartition', <function str.rpartition(sep, /)>),\n",
       " ('rsplit', <function str.rsplit(sep=None, maxsplit=-1)>),\n",
       " ('rstrip', <function str.rstrip(chars=None, /)>),\n",
       " ('split', <function str.split(sep=None, maxsplit=-1)>),\n",
       " ('splitlines', <function str.splitlines(keepends=False)>),\n",
       " ('startswith', <function str.startswith>),\n",
       " ('strip', <function str.strip(chars=None, /)>),\n",
       " ('swapcase', <function str.swapcase()>),\n",
       " ('title', <function str.title()>),\n",
       " ('translate', <function str.translate(table, /)>),\n",
       " ('upper', <function str.upper()>),\n",
       " ('zfill', <function str.zfill(width, /)>)]"
      ]
     },
     "execution_count": 32,
     "metadata": {},
     "output_type": "execute_result"
    }
   ],
   "source": [
    "inspect.getmembers(example)"
   ]
  },
  {
   "cell_type": "code",
   "execution_count": 33,
   "metadata": {
    "ExecuteTime": {
     "end_time": "2021-04-24T15:07:27.013623Z",
     "start_time": "2021-04-24T15:07:27.008016Z"
    },
    "jupyter": {
     "outputs_hidden": true
    }
   },
   "outputs": [
    {
     "data": {
      "text/plain": [
       "['__add__',\n",
       " '__class__',\n",
       " '__contains__',\n",
       " '__delattr__',\n",
       " '__dir__',\n",
       " '__doc__',\n",
       " '__eq__',\n",
       " '__format__',\n",
       " '__ge__',\n",
       " '__getattribute__',\n",
       " '__getitem__',\n",
       " '__getnewargs__',\n",
       " '__gt__',\n",
       " '__hash__',\n",
       " '__init__',\n",
       " '__init_subclass__',\n",
       " '__iter__',\n",
       " '__le__',\n",
       " '__len__',\n",
       " '__lt__',\n",
       " '__mod__',\n",
       " '__mul__',\n",
       " '__ne__',\n",
       " '__new__',\n",
       " '__reduce__',\n",
       " '__reduce_ex__',\n",
       " '__repr__',\n",
       " '__rmod__',\n",
       " '__rmul__',\n",
       " '__setattr__',\n",
       " '__sizeof__',\n",
       " '__str__',\n",
       " '__subclasshook__',\n",
       " 'capitalize',\n",
       " 'casefold',\n",
       " 'center',\n",
       " 'count',\n",
       " 'encode',\n",
       " 'endswith',\n",
       " 'expandtabs',\n",
       " 'find',\n",
       " 'format',\n",
       " 'format_map',\n",
       " 'index',\n",
       " 'isalnum',\n",
       " 'isalpha',\n",
       " 'isascii',\n",
       " 'isdecimal',\n",
       " 'isdigit',\n",
       " 'isidentifier',\n",
       " 'islower',\n",
       " 'isnumeric',\n",
       " 'isprintable',\n",
       " 'isspace',\n",
       " 'istitle',\n",
       " 'isupper',\n",
       " 'join',\n",
       " 'ljust',\n",
       " 'lower',\n",
       " 'lstrip',\n",
       " 'maketrans',\n",
       " 'partition',\n",
       " 'replace',\n",
       " 'rfind',\n",
       " 'rindex',\n",
       " 'rjust',\n",
       " 'rpartition',\n",
       " 'rsplit',\n",
       " 'rstrip',\n",
       " 'split',\n",
       " 'splitlines',\n",
       " 'startswith',\n",
       " 'strip',\n",
       " 'swapcase',\n",
       " 'title',\n",
       " 'translate',\n",
       " 'upper',\n",
       " 'zfill']"
      ]
     },
     "execution_count": 33,
     "metadata": {},
     "output_type": "execute_result"
    }
   ],
   "source": [
    "# we can also use the built-in dir() method\n",
    "\n",
    "dir(example)"
   ]
  },
  {
   "cell_type": "code",
   "execution_count": null,
   "metadata": {},
   "outputs": [],
   "source": []
  },
  {
   "cell_type": "markdown",
   "metadata": {},
   "source": [
    "<details>\n",
    "    <summary>\n",
    "        Answer here\n",
    "    </summary>\n",
    "<code>example.swapcase().replace('0', 'o').strip().replace('?', '!')</code>\n",
    "    </details>"
   ]
  },
  {
   "cell_type": "markdown",
   "metadata": {},
   "source": [
    "# Describe the Relationship of Classes to Objects, and Learn to Code Classes"
   ]
  },
  {
   "cell_type": "markdown",
   "metadata": {},
   "source": [
    "Each object is an instance of a **class** that defines a bundle of attributes and functions (now, as proprietary to the object type, called *methods*), the point being that **every object of that class will automatically have those proprietary attributes and methods**."
   ]
  },
  {
   "cell_type": "markdown",
   "metadata": {},
   "source": [
    "A class is like a blueprint that describes how to create a specific type of object.\n",
    "\n",
    "![blueprint](img/blueprint.jpeg)"
   ]
  },
  {
   "cell_type": "markdown",
   "metadata": {},
   "source": [
    "## Classes"
   ]
  },
  {
   "cell_type": "markdown",
   "metadata": {},
   "source": [
    "We can define **new** classes of objects altogether by using the keyword `class`:"
   ]
  },
  {
   "cell_type": "code",
   "execution_count": 34,
   "metadata": {
    "ExecuteTime": {
     "end_time": "2021-04-24T15:07:27.018587Z",
     "start_time": "2021-04-24T15:07:27.015716Z"
    }
   },
   "outputs": [],
   "source": [
    "class Car:\n",
    "    \"\"\"Automotive object\"\"\"\n",
    "    pass # This is called a stub."
   ]
  },
  {
   "cell_type": "code",
   "execution_count": 35,
   "metadata": {
    "ExecuteTime": {
     "end_time": "2021-04-24T15:07:27.024140Z",
     "start_time": "2021-04-24T15:07:27.020612Z"
    }
   },
   "outputs": [
    {
     "data": {
      "text/plain": [
       "__main__.Car"
      ]
     },
     "execution_count": 35,
     "metadata": {},
     "output_type": "execute_result"
    }
   ],
   "source": [
    "# Instantiate a car object\n",
    "\n",
    "ferrari = Car()\n",
    "type(ferrari)"
   ]
  },
  {
   "cell_type": "code",
   "execution_count": 36,
   "metadata": {
    "ExecuteTime": {
     "end_time": "2021-04-24T15:07:27.029525Z",
     "start_time": "2021-04-24T15:07:27.026158Z"
    }
   },
   "outputs": [
    {
     "data": {
      "text/plain": [
       "4"
      ]
     },
     "execution_count": 36,
     "metadata": {},
     "output_type": "execute_result"
    }
   ],
   "source": [
    "# We can give the Ferrari four wheels\n",
    "\n",
    "ferrari.wheels = 4\n",
    "ferrari.wheels"
   ]
  },
  {
   "cell_type": "markdown",
   "metadata": {},
   "source": [
    "But wouldn't it be nice not to have to do that every time? We'll just include the 4-wheels specification in the blueprint!"
   ]
  },
  {
   "cell_type": "code",
   "execution_count": 37,
   "metadata": {
    "ExecuteTime": {
     "end_time": "2021-04-24T15:07:27.033591Z",
     "start_time": "2021-04-24T15:07:27.031388Z"
    }
   },
   "outputs": [],
   "source": [
    "class Car:\n",
    "    \"\"\"Automotive object\"\"\"\n",
    "    \n",
    "    wheels = 4                      # These are attributes of *every* car."
   ]
  },
  {
   "cell_type": "code",
   "execution_count": 38,
   "metadata": {
    "ExecuteTime": {
     "end_time": "2021-04-24T15:07:27.039012Z",
     "start_time": "2021-04-24T15:07:27.035583Z"
    }
   },
   "outputs": [
    {
     "data": {
      "text/plain": [
       "4"
      ]
     },
     "execution_count": 38,
     "metadata": {},
     "output_type": "execute_result"
    }
   ],
   "source": [
    "civic = Car()\n",
    "civic.wheels"
   ]
  },
  {
   "cell_type": "code",
   "execution_count": 39,
   "metadata": {
    "ExecuteTime": {
     "end_time": "2021-04-24T15:07:27.043310Z",
     "start_time": "2021-04-24T15:07:27.040772Z"
    }
   },
   "outputs": [],
   "source": [
    "#  Then we can add more attributes\n",
    "class Car:\n",
    "    \"\"\"Automotive object\"\"\"\n",
    "    \n",
    "    wheels = 4                      # These are attributes of *every* car.\n",
    "    doors = 4"
   ]
  },
  {
   "cell_type": "code",
   "execution_count": 40,
   "metadata": {
    "ExecuteTime": {
     "end_time": "2021-04-24T15:07:27.048537Z",
     "start_time": "2021-04-24T15:07:27.045234Z"
    }
   },
   "outputs": [
    {
     "data": {
      "text/plain": [
       "4"
      ]
     },
     "execution_count": 40,
     "metadata": {},
     "output_type": "execute_result"
    }
   ],
   "source": [
    "ferrari = Car()\n",
    "ferrari.doors"
   ]
  },
  {
   "cell_type": "code",
   "execution_count": 41,
   "metadata": {
    "ExecuteTime": {
     "end_time": "2021-04-24T15:07:27.053152Z",
     "start_time": "2021-04-24T15:07:27.049990Z"
    }
   },
   "outputs": [
    {
     "data": {
      "text/plain": [
       "4"
      ]
     },
     "execution_count": 41,
     "metadata": {},
     "output_type": "execute_result"
    }
   ],
   "source": [
    "ferrari.wheels"
   ]
  },
  {
   "cell_type": "code",
   "execution_count": 42,
   "metadata": {
    "ExecuteTime": {
     "end_time": "2021-04-24T15:07:27.057856Z",
     "start_time": "2021-04-24T15:07:27.054948Z"
    }
   },
   "outputs": [
    {
     "data": {
      "text/plain": [
       "2"
      ]
     },
     "execution_count": 42,
     "metadata": {},
     "output_type": "execute_result"
    }
   ],
   "source": [
    "# Does your Ferrari have only 2 doors? \n",
    "# These attributes can be overwritten.\n",
    "\n",
    "ferrari.doors = 2\n",
    "ferrari.doors"
   ]
  },
  {
   "cell_type": "markdown",
   "metadata": {},
   "source": [
    "## Methods"
   ]
  },
  {
   "cell_type": "markdown",
   "metadata": {},
   "source": [
    "We can also write functions that are associated with each class.  \n",
    "As said above, a function associated with a class is called a method."
   ]
  },
  {
   "cell_type": "code",
   "execution_count": 43,
   "metadata": {
    "ExecuteTime": {
     "end_time": "2021-04-24T15:07:27.062580Z",
     "start_time": "2021-04-24T15:07:27.059691Z"
    }
   },
   "outputs": [],
   "source": [
    "#  Then we can add more attributes\n",
    "class Car:\n",
    "    \"\"\"Automotive object\"\"\"\n",
    "    \n",
    "    wheels = 4                      # These are attributes of *every* car.\n",
    "    doors = 4\n",
    "\n",
    "    def honk(self):                   # These are methods we can call on *any* car.\n",
    "        print('Beep beep')"
   ]
  },
  {
   "cell_type": "code",
   "execution_count": 44,
   "metadata": {
    "ExecuteTime": {
     "end_time": "2021-04-24T15:07:27.067229Z",
     "start_time": "2021-04-24T15:07:27.064577Z"
    }
   },
   "outputs": [
    {
     "name": "stdout",
     "output_type": "stream",
     "text": [
      "Beep beep\n",
      "Beep beep\n"
     ]
    }
   ],
   "source": [
    "ferrari = civic = Car()\n",
    "ferrari.honk()\n",
    "civic.honk()"
   ]
  },
  {
   "cell_type": "code",
   "execution_count": 45,
   "metadata": {
    "ExecuteTime": {
     "end_time": "2021-04-24T15:07:27.072332Z",
     "start_time": "2021-04-24T15:07:27.069086Z"
    }
   },
   "outputs": [
    {
     "data": {
      "text/plain": [
       "int"
      ]
     },
     "execution_count": 45,
     "metadata": {},
     "output_type": "execute_result"
    }
   ],
   "source": [
    "type(ferrari.wheels)"
   ]
  },
  {
   "cell_type": "code",
   "execution_count": 46,
   "metadata": {
    "ExecuteTime": {
     "end_time": "2021-04-24T15:07:27.077931Z",
     "start_time": "2021-04-24T15:07:27.074067Z"
    }
   },
   "outputs": [
    {
     "name": "stdout",
     "output_type": "stream",
     "text": [
      "Beep beep\n"
     ]
    },
    {
     "data": {
      "text/plain": [
       "NoneType"
      ]
     },
     "execution_count": 46,
     "metadata": {},
     "output_type": "execute_result"
    }
   ],
   "source": [
    "type(ferrari.honk())"
   ]
  },
  {
   "cell_type": "markdown",
   "metadata": {},
   "source": [
    "Wait a second, what's that `self` doing? <br/> Every method should include `self` as its first parameter, **which refers to the individual object, i.e. to the instance of the class**."
   ]
  }
 ],
 "metadata": {
  "kernelspec": {
   "display_name": "Python 3",
   "language": "python",
   "name": "python3"
  },
  "language_info": {
   "codemirror_mode": {
    "name": "ipython",
    "version": 3
   },
   "file_extension": ".py",
   "mimetype": "text/x-python",
   "name": "python",
   "nbconvert_exporter": "python",
   "pygments_lexer": "ipython3",
   "version": "3.8.5"
  },
  "toc": {
   "base_numbering": 1,
   "nav_menu": {},
   "number_sections": true,
   "sideBar": true,
   "skip_h1_title": false,
   "title_cell": "Table of Contents",
   "title_sidebar": "TOC",
   "toc_cell": true,
   "toc_position": {
    "height": "439px",
    "left": "10px",
    "top": "150px",
    "width": "363px"
   },
   "toc_section_display": true,
   "toc_window_display": true
  }
 },
 "nbformat": 4,
 "nbformat_minor": 4
}

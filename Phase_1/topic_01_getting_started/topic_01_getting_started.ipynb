{
 "cells": [
  {
   "cell_type": "markdown",
   "metadata": {},
   "source": [
    "# Topic 1: Getting Started with Data Science"
   ]
  },
  {
   "cell_type": "markdown",
   "metadata": {},
   "source": [
    "- 022221FT\n",
    "- 02/23/21\n"
   ]
  },
  {
   "cell_type": "markdown",
   "metadata": {},
   "source": [
    "## Learning Objectives"
   ]
  },
  {
   "cell_type": "markdown",
   "metadata": {},
   "source": [
    "- **Discuss where to find resources and highlight important ones**\n",
    "    - Walk through Homepage resources \n",
    "        - [ ] Cohort Folder\n",
    "        - [ ] Cheatsheets\n",
    "        - [ ] Student Resources Spreadsheet\n",
    "\n",
    "\n",
    "- **Environment setup review/overview**\n",
    "    - Making sure `learn-env` appear in jupyter notebook.\n",
    "    \n",
    "    \n",
    "- **Learn about Jupyter Notebook extensions**\n",
    "    - How to install and why?\n",
    "    - Best extensions and settings to activate/use\n",
    "\n",
    "- **Installing a code editor like SublimeText or VSCode**\n",
    "    \n",
    "- **Go over the general workflow for tackling Learn labs**\n",
    "\n",
    "    \n",
    "- How to compose an ideal coding question on/for Slack.\n",
    "\n"
   ]
  },
  {
   "cell_type": "markdown",
   "metadata": {},
   "source": [
    "### Questions/Comments/Issues?"
   ]
  },
  {
   "cell_type": "markdown",
   "metadata": {},
   "source": [
    "- "
   ]
  },
  {
   "cell_type": "markdown",
   "metadata": {},
   "source": [
    "## Question to the group:"
   ]
  },
  {
   "cell_type": "markdown",
   "metadata": {},
   "source": [
    "- Who has already taken a stab at installing their environment?\n",
    "    - Success?\n",
    "    - Errors?\n",
    "\n",
    "- Anyone (especially windows users) getting an error every time their terminal starts about conda init? "
   ]
  },
  {
   "cell_type": "markdown",
   "metadata": {},
   "source": [
    "# Environment Setup"
   ]
  },
  {
   "cell_type": "markdown",
   "metadata": {},
   "source": [
    "- [ ] Walk through \"IllumiDesk and your Local DS Environment.pdf\""
   ]
  },
  {
   "cell_type": "markdown",
   "metadata": {},
   "source": [
    "## What if..."
   ]
  },
  {
   "cell_type": "markdown",
   "metadata": {},
   "source": [
    "### \"learn-env\" doesn't show up in your list of jupyter notebook kernels"
   ]
  },
  {
   "cell_type": "markdown",
   "metadata": {},
   "source": [
    "1. Make sure that had activated your `learn-env` before booting up your notebook server.\n",
    "2. Make sure that you had entered the following command in your terminal after installing your learn-env\n",
    "```bash\n",
    "  python -m ipykernel install --user --name=learn-env```"
   ]
  },
  {
   "cell_type": "markdown",
   "metadata": {},
   "source": [
    "### **Your terminal doesn't activate learn-env automatically**\n"
   ]
  },
  {
   "cell_type": "markdown",
   "metadata": {},
   "source": [
    "-  Enter the following command into your terminal (Windows Users replace `conda activate` with `source activate`)<br>\n",
    "```bash\n",
    "echo \"conda activate learn-env\" >> ~/.bash_profile```\n",
    "- **BONUS HACK:** Run this to create a \"jnb\" shortcut that allows you to type `jnb` to open jupyter notebook.\n",
    "  ```echo \"alias jnb='jupyter notebook'\">>~/.bash_profile```\n",
    "  - Note: if you are using a different shell besides bash, you will need to find out its equivalent of `.bash_profile`\n",
    "  \n",
    "\n",
    "- **To manually make edits/corrections to your `.bash_profile`:**\n",
    "  - Launch a new terminal in its default folder (or type `cd ~`)\n",
    "  - Then type `open .bash_profile`"
   ]
  },
  {
   "cell_type": "markdown",
   "metadata": {},
   "source": [
    "# ✅ Install a Code Editor"
   ]
  },
  {
   "cell_type": "markdown",
   "metadata": {},
   "source": [
    "- When dealing with code, the default text editing applications included in Windows and MacOS are not ideal (especially on Mac).\n",
    "\n",
    "#### You should install one or the other (or both!) of the following:\n",
    "- [ ] [SublimeText](https://www.sublimetext.com/)\n",
    "    - Great lightweight text editor with some convenient features. \n",
    "    - [Official Anaconda Guide on setting up SublimeText](https://docs.anaconda.com/anaconda/user-guide/tasks/integration/sublime/)\n",
    "- [ ] [VSCode](https://code.visualstudio.com/)\n",
    "    - Great more full-featured text editor that is bordering on being an IDE (integrated development environment)\n",
    "    - [Official Anaconda Guide on setting up VSCode](https://docs.anaconda.com/anaconda/user-guide/tasks/integration/python-vsc/)"
   ]
  },
  {
   "cell_type": "markdown",
   "metadata": {},
   "source": [
    "#### Once you've installed a code editor:"
   ]
  },
  {
   "cell_type": "markdown",
   "metadata": {},
   "source": [
    "- [ ] Check out your ~/.bash_profile"
   ]
  },
  {
   "cell_type": "markdown",
   "metadata": {},
   "source": [
    "# ✅ Install Jupyter Notebook Extensions"
   ]
  },
  {
   "cell_type": "markdown",
   "metadata": {},
   "source": [
    "### Jupyter Notebook Extensions Resources"
   ]
  },
  {
   "cell_type": "markdown",
   "metadata": {},
   "source": [
    "- [Documentation](https://jupyter-contrib-nbextensions.readthedocs.io/en/latest/)\n",
    "    \n",
    "-  [Study Group Video](https://youtu.be/Fl7Xwr_kUkw)"
   ]
  },
  {
   "cell_type": "markdown",
   "metadata": {},
   "source": [
    "###  Installation & activation\n",
    "\n",
    "- **The best way to install is via `conda`**\n",
    "    0. Open your terminal and make sure learn-env is activated.\n",
    "\n",
    "    1. Install the extensions via conda\n",
    "    ```bash\n",
    "      conda install -c conda-forge jupyter_contrib_nbextensions\n",
    "      ```\n",
    "\n",
    "    2. Activate the extension configurator\n",
    "    ```bash\n",
    "    jupyter nbextension enable jupyter_nbextensions_configurator\n",
    "      ```\n",
    "      "
   ]
  },
  {
   "cell_type": "markdown",
   "metadata": {},
   "source": [
    "### Turning on extensions\n",
    "\n",
    "- **When you boot up jupyter notebook, there should be a new tab at the top called `nbextensions`.** Click on the tab to open the list of available extensions.\n",
    "\n",
    "\n",
    "- This opens a menu of all of the available extensions with checkboxes to activate them; \n",
    "  - ***NOTE: If the list of available notebook extensions is grayed out:***\n",
    "    - Uncheck \"`disable configuration for nbextensions without explicit compatibility (they may break your notebook environment, but can be useful to show for nbextension development)`\" at the top of the page next to the search box.\n",
    "    \n",
    "    \n",
    "    \n",
    "- **Clicking the name of an extension will load its options menu** below the table of extensions. "
   ]
  },
  {
   "cell_type": "markdown",
   "metadata": {},
   "source": [
    "### Recommended extensions & settings"
   ]
  },
  {
   "cell_type": "markdown",
   "metadata": {},
   "source": [
    "- `Variable Inspector`: \n",
    "    - Lets you see details about all of the variables in your notebook.\n",
    "    - HUGELY helpful for new coders.\n",
    "    - Recommended options:\n",
    "        - `Display window at startup` (for now while you are learning python)\n",
    "\n",
    "\n",
    "- `Table of Contents (2)`: \n",
    "    - Clickable sidebar with markdown headers as bookmarks/links.\n",
    "    - Recommended options:\n",
    "        - Change `Maximum level of nested sections to display on the tables of contents` to 3.\n",
    "        -  Check `Display Table of Contents as a sidebar (otherwise as a floating window)`\n",
    "        - Check `Collapse/uncollapse ToC sections when the collapsible_headings nbextension is used to collapse/uncollapse sections in the notebook. For the inverse behaviour, see collapsible_headings' configuration`\n",
    "\n",
    "\n",
    "- `Collapsible Headings`: Collapse sections of your notebook using markdown headers.\n",
    "    - Recommended options: \n",
    "        -  Check 'Collapse/uncollapse notebook sections when the ToC2 nbextension is used to collapse/uncollapse sections in the table of contents. For the inverse behaviour, see ToC2's configuration' at towards the bottom of the options.\n",
    "\n",
    "\n",
    "- `Codefolding`: Lets you collapse function definitions and blocks of code. \n",
    "\n",
    "\n",
    "- `Live Markdown Preview`: Shows a preview of what the markdown cell you are editing will look like once you render it with Shift+Enter\n",
    "    - Recommended options:\n",
    "        - Check `Show the input & output of markdown cells side-by-side while editing them.`\n",
    "\n",
    "\n",
    "- `spellchecker`"
   ]
  },
  {
   "cell_type": "markdown",
   "metadata": {},
   "source": [
    "# Workflow for Labs "
   ]
  },
  {
   "cell_type": "markdown",
   "metadata": {},
   "source": [
    "## Locally"
   ]
  },
  {
   "cell_type": "markdown",
   "metadata": {},
   "source": [
    "- Fork and clone lesson to your PC\n",
    "- From your termional, cd into the cloned repo's folder.\n",
    "- Launch jupyter notebook with terminal.\n",
    "\n",
    "- Complete the lab.\n",
    "- Save & checkpoint notebook\n",
    "- In a new terminal, commit your changes and push to git\n",
    "    - You can use the SAME terminal, but only if you shut down Jupyter Notebook completely (the `Quit` button) "
   ]
  },
  {
   "cell_type": "markdown",
   "metadata": {},
   "source": [
    "## On Illumidesk"
   ]
  },
  {
   "cell_type": "markdown",
   "metadata": {},
   "source": [
    "- Any code done on Illumidesk will be saved to Illumidesk ONLY.\n",
    "- In order to save your labs, you will need to follow the instructions on this repo's README: \n",
    "    - https://github.com/learn-co-curriculum/dsc-saving-illumidesk-work-to-github\n",
    "    \n"
   ]
  },
  {
   "cell_type": "markdown",
   "metadata": {},
   "source": [
    "### Git Commands for saving changes\n",
    "- Note we will cover more of Git next week for the S.G. on section 2"
   ]
  },
  {
   "cell_type": "markdown",
   "metadata": {},
   "source": [
    "- To save your updated repo:\n",
    "\n",
    "```bash\n",
    "## cd to base folder of repo\n",
    "cd path/to/repo\n",
    "\n",
    "## Add changes to commit\n",
    "git add .\n",
    "# Commit the changes with a  message\n",
    "git commit -m \"your message here\"\n",
    "# Push changes to GitHub profile\n",
    "git push\n",
    "```\n",
    "\n",
    "- Note, you can actually accomplish steps 2 and 3 above in one line of code with \n",
    "```bash\n",
    "git commit -am \"message\"\n",
    "git push\n",
    "```"
   ]
  },
  {
   "cell_type": "markdown",
   "metadata": {
    "heading_collapsed": true
   },
   "source": [
    "# ~~Activity: ...~~\n",
    "- MacBeth Project?\n",
    "- Bento Boxes?"
   ]
  },
  {
   "cell_type": "markdown",
   "metadata": {
    "hidden": true
   },
   "source": []
  }
 ],
 "metadata": {
  "kernelspec": {
   "display_name": "learn-env",
   "language": "python",
   "name": "learn-env"
  },
  "language_info": {
   "codemirror_mode": {
    "name": "ipython",
    "version": 3
   },
   "file_extension": ".py",
   "mimetype": "text/x-python",
   "name": "python",
   "nbconvert_exporter": "python",
   "pygments_lexer": "ipython3",
   "version": "3.6.11"
  },
  "toc": {
   "base_numbering": 1,
   "nav_menu": {},
   "number_sections": false,
   "sideBar": true,
   "skip_h1_title": false,
   "title_cell": "Table of Contents",
   "title_sidebar": "Contents",
   "toc_cell": false,
   "toc_position": {
    "height": "calc(100% - 180px)",
    "left": "10px",
    "top": "150px",
    "width": "256px"
   },
   "toc_section_display": true,
   "toc_window_display": true
  },
  "varInspector": {
   "cols": {
    "lenName": 16,
    "lenType": 16,
    "lenVar": 40
   },
   "kernels_config": {
    "python": {
     "delete_cmd_postfix": "",
     "delete_cmd_prefix": "del ",
     "library": "var_list.py",
     "varRefreshCmd": "print(var_dic_list())"
    },
    "r": {
     "delete_cmd_postfix": ") ",
     "delete_cmd_prefix": "rm(",
     "library": "var_list.r",
     "varRefreshCmd": "cat(var_dic_list()) "
    }
   },
   "types_to_exclude": [
    "module",
    "function",
    "builtin_function_or_method",
    "instance",
    "_Feature"
   ],
   "window_display": false
  }
 },
 "nbformat": 4,
 "nbformat_minor": 2
}

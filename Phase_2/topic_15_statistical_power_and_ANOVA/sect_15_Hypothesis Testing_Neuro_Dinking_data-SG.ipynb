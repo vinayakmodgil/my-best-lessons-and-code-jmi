{
 "cells": [
  {
   "cell_type": "markdown",
   "metadata": {
    "colab_type": "text",
    "id": "ZM6DyjYckZl2"
   },
   "source": [
    "# Sect 15/16: Hypothesis Testing with Neuro Data "
   ]
  },
  {
   "cell_type": "markdown",
   "metadata": {
    "colab_type": "text",
    "id": "ZM6DyjYckZl2"
   },
   "source": [
    "- online-ds-ft-070620\n",
    "- 08/18/20"
   ]
  },
  {
   "cell_type": "markdown",
   "metadata": {},
   "source": [
    "## Learning Objectives"
   ]
  },
  {
   "cell_type": "markdown",
   "metadata": {},
   "source": [
    "- Discuss A/B Testing/Experimental Design using my neuroscience research data.\n",
    "- Discuss the multiple comparison problem.\n",
    "- Discuss ANOVAs\n",
    "- Discuss Repeated-Measures/Paired T-Tests"
   ]
  },
  {
   "cell_type": "markdown",
   "metadata": {},
   "source": [
    "# Questions "
   ]
  },
  {
   "cell_type": "markdown",
   "metadata": {},
   "source": [
    "- [Resampling Methods  Lab](https://github.com/jirvingphd/dsc-resampling-methods-lab-onl01-dtsc-ft-070620/tree/solution)\n",
    "    - What is the solution code doing for section 1.5 and section 1.6? \n",
    "    - Also is the math in the explanation for 1.6 wrong? For example, it says 5/3 - 2 = ½ but 5/3 - 2 should equal ⅓. \n",
    "\n",
    "\n",
    "- Not essential, but if time could we do the bonus to find effect size on 1 sample t-test lab.\n",
    "\n",
    "- Statistical Power (will def cover tomorrow if not today)\n",
    "\n",
    "    -  When do we think/worry about this?\n",
    "    \n",
    "\n",
    "- **When, if ever, is it appropriate to use SciPy ANOVA over OLS?**\n",
    "\n",
    "- **KS Test Lab**\n",
    "    - I second this. \n",
    "\n",
    "\n",
    "- [A/B testing lab](https://learn.co/tracks/module-2-data-science-career-2-1/statistics-ab-testing-and-linear-regression/section-16-ab-testing/ab-testing-lab\n",
    "):\n",
    "can we talk through the final question of what experimental design parameters would be appropriate to propose?\n"
   ]
  },
  {
   "cell_type": "markdown",
   "metadata": {},
   "source": [
    "# REFERENCES\n"
   ]
  },
  {
   "cell_type": "markdown",
   "metadata": {},
   "source": [
    "- Hypothesis Testing Workflow:\n",
    "    - https://github.com/jirvingphd/hypothesis_testing_workflow_python"
   ]
  },
  {
   "cell_type": "markdown",
   "metadata": {},
   "source": [
    "- **Two-Way and RM ANOVA Resources**\n",
    "    - [RM ANOVA IN Python with Statsmodels](https://www.marsja.se/repeated-measures-anova-in-python-using-statsmodels/)\n",
    "    - One-way RM ANOVA (other packages): https://www.marsja.se/repeated-measures-anova-using-python/\n",
    "    - Two-Way: https://marsja.se/two-way-anova-repeated-measures-using-python/\n"
   ]
  },
  {
   "cell_type": "markdown",
   "metadata": {},
   "source": [
    "## Statistical Tests Summary Table"
   ]
  },
  {
   "cell_type": "markdown",
   "metadata": {},
   "source": [
    "\n",
    "\n",
    "| Parametric tests (means) | Function | Nonparametric tests (medians) | Function |\n",
    " | --- | --- | --- | --- |\n",
    " | 1-sample t test |`scipy.stats.ttest_1samp()`|  1-sample Wilcoxon |`scipy.stats.wilcoxon`|\n",
    " | 2-sample t test |`scipy.stats.ttest_ind()` | Mann-Whitney U test |`scipy.stats.mannwhitneyu()` |\n",
    " | One-Way ANOVA | `scipy.stats.f_oneway()` | Kruskal-Wallis | `scipy.stats.kruskal` | \n",
    " \n",
    " \n",
    " | Factorial DOE with one factor and one blocking variable |Friedman test  |\n"
   ]
  },
  {
   "cell_type": "markdown",
   "metadata": {
    "ExecuteTime": {
     "end_time": "2020-01-21T22:34:50.811862Z",
     "start_time": "2020-01-21T22:34:50.809738Z"
    }
   },
   "source": [
    "# Real-World Science / Experimental Design"
   ]
  },
  {
   "cell_type": "markdown",
   "metadata": {},
   "source": [
    "> ## The Role of Stress Neurons in the Amygdala in Addiction/Binge Drinking"
   ]
  },
  {
   "cell_type": "markdown",
   "metadata": {},
   "source": [
    "- We will be talking through some of the experiments from my Postdoctoral research on the roll of stress neurons in the escalation of binge drinking.\n",
    "- [James' Neuroscience Research Poster: Society for Neuroscience 2016](https://drive.google.com/open?id=14z2dUdPB_8ei3HA7R1j3ylwEP0kVZhJq)\n",
    "\n",
    "<img src=\"https://raw.githubusercontent.com/jirvingphd/fsds_100719_cohort_notes/master/images/sect_20_neuro_data.png\">\n",
    "\n"
   ]
  },
  {
   "cell_type": "markdown",
   "metadata": {},
   "source": [
    "#### The Opponent-Process Theory of Addiction \n",
    "\n",
    "\n",
    "<img src=\"https://raw.githubusercontent.com/jirvingphd/fsds_pt_100719_cohort_notes/master/Images/robinson-berridge-fig1.jpg\">"
   ]
  },
  {
   "cell_type": "markdown",
   "metadata": {},
   "source": [
    "## Hypothesis "
   ]
  },
  {
   "cell_type": "markdown",
   "metadata": {},
   "source": [
    "- Based on prior evidence in the field, stress neurons in the amygdala are believed to be responsible for the negative emotions that promote binge consumption to relieve negative symptoms"
   ]
  },
  {
   "cell_type": "markdown",
   "metadata": {},
   "source": [
    "$ H_1$: Increasing the activity of stress neurons (CRF neurons) in the amygdala will increase the amount of alcohol consumed by binge-drinking mice.\n",
    "\n",
    "$H_0$: Stimulation of CRF neurons has no effect on the amount of alcohol consumed.\n",
    "\n",
    "<img src=\"https://raw.githubusercontent.com/jirvingphd/fsds_pt_100719_cohort_notes/master/Images/jmi_poster_preds1.png\" width=60%>"
   ]
  },
  {
   "cell_type": "markdown",
   "metadata": {},
   "source": [
    "## Experimental Design"
   ]
  },
  {
   "cell_type": "markdown",
   "metadata": {},
   "source": [
    "<img src=\"https://raw.githubusercontent.com/jirvingphd/fsds_pt_100719_cohort_notes/master/Images/opto_6steps.jpg\">"
   ]
  },
  {
   "cell_type": "markdown",
   "metadata": {},
   "source": [
    "<img src=\"https://raw.githubusercontent.com/jirvingphd/hypothesis_testing_lessons/master/images/jmi_poster_fig1_no_mouse.png\">\n",
    "\n",
    "<!---\n",
    "<img src=\"https://raw.githubusercontent.com/jirvingphd/hypothesis_testing_lessons/master/images/jmi_poster_fig1.png\">--->"
   ]
  },
  {
   "cell_type": "markdown",
   "metadata": {
    "ExecuteTime": {
     "end_time": "2020-01-21T22:44:58.893416Z",
     "start_time": "2020-01-21T22:44:58.889888Z"
    }
   },
   "source": [
    "<img src=\"https://raw.githubusercontent.com/jirvingphd/fsds_pt_100719_cohort_notes/master/Images/jmi_poster_fig2.png\">\n",
    "\n",
    "<!---\n",
    "<img src=\"https://raw.githubusercontent.com/jirvingphd/fsds_100719_cohort_notes/master/images/sect_20_neuro_data.png\">')\n",
    "--->"
   ]
  },
  {
   "cell_type": "markdown",
   "metadata": {},
   "source": [
    "## Hypothesis Testing: Mouse Data"
   ]
  },
  {
   "cell_type": "markdown",
   "metadata": {},
   "source": [
    "### Hypothesis\n",
    "> Question: does stimulation of CRF Neurons in the central amygdala increase alcohol consumption?\n",
    "\n",
    "- Metric:\n",
    "- Groups:\n",
    "\n",
    "\n",
    "- $H_1$: \n",
    "\n",
    "- $H_0$: \n",
    "\n",
    "$\\alpha$=0.05\n"
   ]
  },
  {
   "cell_type": "markdown",
   "metadata": {},
   "source": [
    "### Step 1: which type of test?"
   ]
  },
  {
   "cell_type": "markdown",
   "metadata": {},
   "source": [
    "- What type of data?\n",
    "    -  Numerical (# of licks)\n",
    "- How many groups?\n",
    "    -  Control vs Experimental\n",
    "    - Training Phases (BL,S,PS,R)"
   ]
  },
  {
   "cell_type": "markdown",
   "metadata": {},
   "source": [
    "#### Let's First Try to Treat this as 2-sample T-Tests (one for each phase)"
   ]
  },
  {
   "cell_type": "code",
   "execution_count": 1,
   "metadata": {
    "ExecuteTime": {
     "end_time": "2020-08-18T16:11:25.672895Z",
     "start_time": "2020-08-18T16:11:20.239728Z"
    },
    "colab": {
     "base_uri": "https://localhost:8080/",
     "height": 221
    },
    "colab_type": "code",
    "id": "soGUgJ9RRJOp",
    "outputId": "e919e060-8aae-48d4-ed29-3b4637408f13"
   },
   "outputs": [
    {
     "name": "stdout",
     "output_type": "stream",
     "text": [
      "fsds v0.2.22 loaded.  Read the docs: https://fs-ds.readthedocs.io/en/latest/ \n"
     ]
    },
    {
     "data": {
      "text/html": [
       "<style  type=\"text/css\" >\n",
       "</style><table id=\"T_7692c1ae_e16d_11ea_bf7c_4865ee12e626\" ><caption>Loaded Packages and Handles</caption><thead>    <tr>        <th class=\"col_heading level0 col0\" >Handle</th>        <th class=\"col_heading level0 col1\" >Package</th>        <th class=\"col_heading level0 col2\" >Description</th>    </tr></thead><tbody>\n",
       "                <tr>\n",
       "                                <td id=\"T_7692c1ae_e16d_11ea_bf7c_4865ee12e626row0_col0\" class=\"data row0 col0\" >dp</td>\n",
       "                        <td id=\"T_7692c1ae_e16d_11ea_bf7c_4865ee12e626row0_col1\" class=\"data row0 col1\" >IPython.display</td>\n",
       "                        <td id=\"T_7692c1ae_e16d_11ea_bf7c_4865ee12e626row0_col2\" class=\"data row0 col2\" >Display modules with helpful display and clearing commands.</td>\n",
       "            </tr>\n",
       "            <tr>\n",
       "                                <td id=\"T_7692c1ae_e16d_11ea_bf7c_4865ee12e626row1_col0\" class=\"data row1 col0\" >fs</td>\n",
       "                        <td id=\"T_7692c1ae_e16d_11ea_bf7c_4865ee12e626row1_col1\" class=\"data row1 col1\" >fsds</td>\n",
       "                        <td id=\"T_7692c1ae_e16d_11ea_bf7c_4865ee12e626row1_col2\" class=\"data row1 col2\" >Custom data science bootcamp student package</td>\n",
       "            </tr>\n",
       "            <tr>\n",
       "                                <td id=\"T_7692c1ae_e16d_11ea_bf7c_4865ee12e626row2_col0\" class=\"data row2 col0\" >mpl</td>\n",
       "                        <td id=\"T_7692c1ae_e16d_11ea_bf7c_4865ee12e626row2_col1\" class=\"data row2 col1\" >matplotlib</td>\n",
       "                        <td id=\"T_7692c1ae_e16d_11ea_bf7c_4865ee12e626row2_col2\" class=\"data row2 col2\" >Matplotlib's base OOP module with formatting artists</td>\n",
       "            </tr>\n",
       "            <tr>\n",
       "                                <td id=\"T_7692c1ae_e16d_11ea_bf7c_4865ee12e626row3_col0\" class=\"data row3 col0\" >plt</td>\n",
       "                        <td id=\"T_7692c1ae_e16d_11ea_bf7c_4865ee12e626row3_col1\" class=\"data row3 col1\" >matplotlib.pyplot</td>\n",
       "                        <td id=\"T_7692c1ae_e16d_11ea_bf7c_4865ee12e626row3_col2\" class=\"data row3 col2\" >Matplotlib's matlab-like plotting module</td>\n",
       "            </tr>\n",
       "            <tr>\n",
       "                                <td id=\"T_7692c1ae_e16d_11ea_bf7c_4865ee12e626row4_col0\" class=\"data row4 col0\" >np</td>\n",
       "                        <td id=\"T_7692c1ae_e16d_11ea_bf7c_4865ee12e626row4_col1\" class=\"data row4 col1\" >numpy</td>\n",
       "                        <td id=\"T_7692c1ae_e16d_11ea_bf7c_4865ee12e626row4_col2\" class=\"data row4 col2\" >scientific computing with Python</td>\n",
       "            </tr>\n",
       "            <tr>\n",
       "                                <td id=\"T_7692c1ae_e16d_11ea_bf7c_4865ee12e626row5_col0\" class=\"data row5 col0\" >pd</td>\n",
       "                        <td id=\"T_7692c1ae_e16d_11ea_bf7c_4865ee12e626row5_col1\" class=\"data row5 col1\" >pandas</td>\n",
       "                        <td id=\"T_7692c1ae_e16d_11ea_bf7c_4865ee12e626row5_col2\" class=\"data row5 col2\" >High performance data structures and tools</td>\n",
       "            </tr>\n",
       "            <tr>\n",
       "                                <td id=\"T_7692c1ae_e16d_11ea_bf7c_4865ee12e626row6_col0\" class=\"data row6 col0\" >sns</td>\n",
       "                        <td id=\"T_7692c1ae_e16d_11ea_bf7c_4865ee12e626row6_col1\" class=\"data row6 col1\" >seaborn</td>\n",
       "                        <td id=\"T_7692c1ae_e16d_11ea_bf7c_4865ee12e626row6_col2\" class=\"data row6 col2\" >High-level data visualization library based on matplotlib</td>\n",
       "            </tr>\n",
       "    </tbody></table>"
      ],
      "text/plain": [
       "<pandas.io.formats.style.Styler at 0x10e094908>"
      ]
     },
     "metadata": {},
     "output_type": "display_data"
    },
    {
     "data": {
      "text/html": [
       "        <script type=\"text/javascript\">\n",
       "        window.PlotlyConfig = {MathJaxConfig: 'local'};\n",
       "        if (window.MathJax) {MathJax.Hub.Config({SVG: {font: \"STIX-Web\"}});}\n",
       "        if (typeof require !== 'undefined') {\n",
       "        require.undef(\"plotly\");\n",
       "        requirejs.config({\n",
       "            paths: {\n",
       "                'plotly': ['https://cdn.plot.ly/plotly-latest.min']\n",
       "            }\n",
       "        });\n",
       "        require(['plotly'], function(Plotly) {\n",
       "            window._Plotly = Plotly;\n",
       "        });\n",
       "        }\n",
       "        </script>\n",
       "        "
      ]
     },
     "metadata": {},
     "output_type": "display_data"
    },
    {
     "data": {
      "text/html": [
       "        <script type=\"text/javascript\">\n",
       "        window.PlotlyConfig = {MathJaxConfig: 'local'};\n",
       "        if (window.MathJax) {MathJax.Hub.Config({SVG: {font: \"STIX-Web\"}});}\n",
       "        if (typeof require !== 'undefined') {\n",
       "        require.undef(\"plotly\");\n",
       "        requirejs.config({\n",
       "            paths: {\n",
       "                'plotly': ['https://cdn.plot.ly/plotly-latest.min']\n",
       "            }\n",
       "        });\n",
       "        require(['plotly'], function(Plotly) {\n",
       "            window._Plotly = Plotly;\n",
       "        });\n",
       "        }\n",
       "        </script>\n",
       "        "
      ]
     },
     "metadata": {},
     "output_type": "display_data"
    },
    {
     "name": "stdout",
     "output_type": "stream",
     "text": [
      "[i] Pandas .iplot() method activated.\n"
     ]
    }
   ],
   "source": [
    "!pip install -U fsds\n",
    "from fsds.imports import *\n",
    "\n",
    "plt.style.use('seaborn-notebook')\n",
    "pd.set_option('display.max_columns',0)\n",
    "pd.set_option('display.precision',3)"
   ]
  },
  {
   "cell_type": "markdown",
   "metadata": {},
   "source": [
    "# Obtaining/Preprocessing Data"
   ]
  },
  {
   "cell_type": "code",
   "execution_count": 2,
   "metadata": {
    "ExecuteTime": {
     "end_time": "2020-08-18T16:11:25.680581Z",
     "start_time": "2020-08-18T16:11:25.677850Z"
    }
   },
   "outputs": [
    {
     "name": "stdout",
     "output_type": "stream",
     "text": [
      "/Users/jamesirving/Documents/GitHub/_STUDY GROUP PREP/fsds_070620_FT_cohort_notes/Mod_2/sect_15\n"
     ]
    }
   ],
   "source": [
    "import os\n",
    "print(os.getcwd())"
   ]
  },
  {
   "cell_type": "code",
   "execution_count": 4,
   "metadata": {
    "ExecuteTime": {
     "end_time": "2020-08-18T16:12:40.504062Z",
     "start_time": "2020-08-18T16:12:40.458537Z"
    }
   },
   "outputs": [
    {
     "data": {
      "text/html": [
       "<div>\n",
       "<style scoped>\n",
       "    .dataframe tbody tr th:only-of-type {\n",
       "        vertical-align: middle;\n",
       "    }\n",
       "\n",
       "    .dataframe tbody tr th {\n",
       "        vertical-align: top;\n",
       "    }\n",
       "\n",
       "    .dataframe thead th {\n",
       "        text-align: right;\n",
       "    }\n",
       "</style>\n",
       "<table border=\"1\" class=\"dataframe\">\n",
       "  <thead>\n",
       "    <tr style=\"text-align: right;\">\n",
       "      <th></th>\n",
       "      <th>Group</th>\n",
       "      <th>BL1</th>\n",
       "      <th>BL2</th>\n",
       "      <th>BL3</th>\n",
       "      <th>BL4</th>\n",
       "      <th>S1</th>\n",
       "      <th>S2</th>\n",
       "      <th>S3</th>\n",
       "      <th>S4</th>\n",
       "      <th>PS1</th>\n",
       "      <th>PS2</th>\n",
       "      <th>PS3</th>\n",
       "      <th>PS4</th>\n",
       "      <th>R1_1</th>\n",
       "      <th>R1_2</th>\n",
       "      <th>R1_3</th>\n",
       "      <th>R1_4</th>\n",
       "      <th>R2_1</th>\n",
       "      <th>R2_2</th>\n",
       "      <th>R2_3</th>\n",
       "      <th>R2_4</th>\n",
       "    </tr>\n",
       "    <tr>\n",
       "      <th>Mouse_ID</th>\n",
       "      <th></th>\n",
       "      <th></th>\n",
       "      <th></th>\n",
       "      <th></th>\n",
       "      <th></th>\n",
       "      <th></th>\n",
       "      <th></th>\n",
       "      <th></th>\n",
       "      <th></th>\n",
       "      <th></th>\n",
       "      <th></th>\n",
       "      <th></th>\n",
       "      <th></th>\n",
       "      <th></th>\n",
       "      <th></th>\n",
       "      <th></th>\n",
       "      <th></th>\n",
       "      <th></th>\n",
       "      <th></th>\n",
       "      <th></th>\n",
       "      <th></th>\n",
       "    </tr>\n",
       "  </thead>\n",
       "  <tbody>\n",
       "    <tr>\n",
       "      <th>1</th>\n",
       "      <td>Control</td>\n",
       "      <td>665</td>\n",
       "      <td>863</td>\n",
       "      <td>631</td>\n",
       "      <td>629</td>\n",
       "      <td>583</td>\n",
       "      <td>801</td>\n",
       "      <td>723</td>\n",
       "      <td>707</td>\n",
       "      <td>732</td>\n",
       "      <td>680</td>\n",
       "      <td>684</td>\n",
       "      <td>485</td>\n",
       "      <td>65</td>\n",
       "      <td>301</td>\n",
       "      <td>351</td>\n",
       "      <td>441</td>\n",
       "      <td>675</td>\n",
       "      <td>554</td>\n",
       "      <td>541</td>\n",
       "      <td>545</td>\n",
       "    </tr>\n",
       "    <tr>\n",
       "      <th>2</th>\n",
       "      <td>Control</td>\n",
       "      <td>859</td>\n",
       "      <td>849</td>\n",
       "      <td>685</td>\n",
       "      <td>731</td>\n",
       "      <td>854</td>\n",
       "      <td>1103</td>\n",
       "      <td>645</td>\n",
       "      <td>633</td>\n",
       "      <td>733</td>\n",
       "      <td>662</td>\n",
       "      <td>605</td>\n",
       "      <td>623</td>\n",
       "      <td>128</td>\n",
       "      <td>268</td>\n",
       "      <td>462</td>\n",
       "      <td>569</td>\n",
       "      <td>988</td>\n",
       "      <td>728</td>\n",
       "      <td>933</td>\n",
       "      <td>564</td>\n",
       "    </tr>\n",
       "    <tr>\n",
       "      <th>3</th>\n",
       "      <td>Control</td>\n",
       "      <td>589</td>\n",
       "      <td>507</td>\n",
       "      <td>635</td>\n",
       "      <td>902</td>\n",
       "      <td>699</td>\n",
       "      <td>743</td>\n",
       "      <td>761</td>\n",
       "      <td>949</td>\n",
       "      <td>872</td>\n",
       "      <td>952</td>\n",
       "      <td>828</td>\n",
       "      <td>806</td>\n",
       "      <td>129</td>\n",
       "      <td>311</td>\n",
       "      <td>669</td>\n",
       "      <td>666</td>\n",
       "      <td>516</td>\n",
       "      <td>579</td>\n",
       "      <td>913</td>\n",
       "      <td>736</td>\n",
       "    </tr>\n",
       "    <tr>\n",
       "      <th>4</th>\n",
       "      <td>Control</td>\n",
       "      <td>939</td>\n",
       "      <td>909</td>\n",
       "      <td>850</td>\n",
       "      <td>756</td>\n",
       "      <td>807</td>\n",
       "      <td>617</td>\n",
       "      <td>526</td>\n",
       "      <td>736</td>\n",
       "      <td>743</td>\n",
       "      <td>625</td>\n",
       "      <td>690</td>\n",
       "      <td>759</td>\n",
       "      <td>281</td>\n",
       "      <td>357</td>\n",
       "      <td>386</td>\n",
       "      <td>585</td>\n",
       "      <td>565</td>\n",
       "      <td>550</td>\n",
       "      <td>806</td>\n",
       "      <td>732</td>\n",
       "    </tr>\n",
       "    <tr>\n",
       "      <th>5</th>\n",
       "      <td>Experimental</td>\n",
       "      <td>710</td>\n",
       "      <td>505</td>\n",
       "      <td>494</td>\n",
       "      <td>596</td>\n",
       "      <td>620</td>\n",
       "      <td>589</td>\n",
       "      <td>676</td>\n",
       "      <td>537</td>\n",
       "      <td>779</td>\n",
       "      <td>537</td>\n",
       "      <td>581</td>\n",
       "      <td>515</td>\n",
       "      <td>477</td>\n",
       "      <td>659</td>\n",
       "      <td>737</td>\n",
       "      <td>606</td>\n",
       "      <td>713</td>\n",
       "      <td>682</td>\n",
       "      <td>709</td>\n",
       "      <td>759</td>\n",
       "    </tr>\n",
       "    <tr>\n",
       "      <th>6</th>\n",
       "      <td>Experimental</td>\n",
       "      <td>564</td>\n",
       "      <td>808</td>\n",
       "      <td>589</td>\n",
       "      <td>596</td>\n",
       "      <td>591</td>\n",
       "      <td>580</td>\n",
       "      <td>419</td>\n",
       "      <td>463</td>\n",
       "      <td>707</td>\n",
       "      <td>625</td>\n",
       "      <td>547</td>\n",
       "      <td>595</td>\n",
       "      <td>532</td>\n",
       "      <td>951</td>\n",
       "      <td>901</td>\n",
       "      <td>851</td>\n",
       "      <td>807</td>\n",
       "      <td>858</td>\n",
       "      <td>802</td>\n",
       "      <td>803</td>\n",
       "    </tr>\n",
       "    <tr>\n",
       "      <th>7</th>\n",
       "      <td>Experimental</td>\n",
       "      <td>722</td>\n",
       "      <td>732</td>\n",
       "      <td>783</td>\n",
       "      <td>946</td>\n",
       "      <td>882</td>\n",
       "      <td>723</td>\n",
       "      <td>764</td>\n",
       "      <td>892</td>\n",
       "      <td>621</td>\n",
       "      <td>764</td>\n",
       "      <td>720</td>\n",
       "      <td>478</td>\n",
       "      <td>297</td>\n",
       "      <td>558</td>\n",
       "      <td>803</td>\n",
       "      <td>694</td>\n",
       "      <td>855</td>\n",
       "      <td>797</td>\n",
       "      <td>938</td>\n",
       "      <td>878</td>\n",
       "    </tr>\n",
       "    <tr>\n",
       "      <th>8</th>\n",
       "      <td>Experimental</td>\n",
       "      <td>497</td>\n",
       "      <td>649</td>\n",
       "      <td>586</td>\n",
       "      <td>506</td>\n",
       "      <td>546</td>\n",
       "      <td>493</td>\n",
       "      <td>456</td>\n",
       "      <td>601</td>\n",
       "      <td>437</td>\n",
       "      <td>462</td>\n",
       "      <td>704</td>\n",
       "      <td>498</td>\n",
       "      <td>10</td>\n",
       "      <td>44</td>\n",
       "      <td>86</td>\n",
       "      <td>284</td>\n",
       "      <td>212</td>\n",
       "      <td>133</td>\n",
       "      <td>141</td>\n",
       "      <td>274</td>\n",
       "    </tr>\n",
       "    <tr>\n",
       "      <th>9</th>\n",
       "      <td>Experimental</td>\n",
       "      <td>741</td>\n",
       "      <td>668</td>\n",
       "      <td>778</td>\n",
       "      <td>638</td>\n",
       "      <td>759</td>\n",
       "      <td>791</td>\n",
       "      <td>568</td>\n",
       "      <td>664</td>\n",
       "      <td>390</td>\n",
       "      <td>346</td>\n",
       "      <td>773</td>\n",
       "      <td>682</td>\n",
       "      <td>3</td>\n",
       "      <td>212</td>\n",
       "      <td>417</td>\n",
       "      <td>443</td>\n",
       "      <td>486</td>\n",
       "      <td>444</td>\n",
       "      <td>533</td>\n",
       "      <td>578</td>\n",
       "    </tr>\n",
       "    <tr>\n",
       "      <th>10</th>\n",
       "      <td>Experimental</td>\n",
       "      <td>953</td>\n",
       "      <td>988</td>\n",
       "      <td>579</td>\n",
       "      <td>706</td>\n",
       "      <td>1106</td>\n",
       "      <td>812</td>\n",
       "      <td>902</td>\n",
       "      <td>835</td>\n",
       "      <td>829</td>\n",
       "      <td>801</td>\n",
       "      <td>1011</td>\n",
       "      <td>919</td>\n",
       "      <td>274</td>\n",
       "      <td>559</td>\n",
       "      <td>840</td>\n",
       "      <td>890</td>\n",
       "      <td>724</td>\n",
       "      <td>793</td>\n",
       "      <td>559</td>\n",
       "      <td>700</td>\n",
       "    </tr>\n",
       "    <tr>\n",
       "      <th>11</th>\n",
       "      <td>Experimental</td>\n",
       "      <td>753</td>\n",
       "      <td>613</td>\n",
       "      <td>573</td>\n",
       "      <td>642</td>\n",
       "      <td>820</td>\n",
       "      <td>752</td>\n",
       "      <td>759</td>\n",
       "      <td>564</td>\n",
       "      <td>635</td>\n",
       "      <td>641</td>\n",
       "      <td>706</td>\n",
       "      <td>763</td>\n",
       "      <td>287</td>\n",
       "      <td>526</td>\n",
       "      <td>841</td>\n",
       "      <td>838</td>\n",
       "      <td>691</td>\n",
       "      <td>657</td>\n",
       "      <td>680</td>\n",
       "      <td>781</td>\n",
       "    </tr>\n",
       "    <tr>\n",
       "      <th>12</th>\n",
       "      <td>Control</td>\n",
       "      <td>494</td>\n",
       "      <td>602</td>\n",
       "      <td>570</td>\n",
       "      <td>530</td>\n",
       "      <td>570</td>\n",
       "      <td>396</td>\n",
       "      <td>403</td>\n",
       "      <td>380</td>\n",
       "      <td>362</td>\n",
       "      <td>467</td>\n",
       "      <td>491</td>\n",
       "      <td>557</td>\n",
       "      <td>98</td>\n",
       "      <td>262</td>\n",
       "      <td>344</td>\n",
       "      <td>388</td>\n",
       "      <td>435</td>\n",
       "      <td>551</td>\n",
       "      <td>552</td>\n",
       "      <td>537</td>\n",
       "    </tr>\n",
       "    <tr>\n",
       "      <th>13</th>\n",
       "      <td>Control</td>\n",
       "      <td>587</td>\n",
       "      <td>630</td>\n",
       "      <td>564</td>\n",
       "      <td>627</td>\n",
       "      <td>572</td>\n",
       "      <td>419</td>\n",
       "      <td>369</td>\n",
       "      <td>416</td>\n",
       "      <td>403</td>\n",
       "      <td>552</td>\n",
       "      <td>575</td>\n",
       "      <td>589</td>\n",
       "      <td>172</td>\n",
       "      <td>298</td>\n",
       "      <td>422</td>\n",
       "      <td>596</td>\n",
       "      <td>447</td>\n",
       "      <td>589</td>\n",
       "      <td>463</td>\n",
       "      <td>364</td>\n",
       "    </tr>\n",
       "    <tr>\n",
       "      <th>14</th>\n",
       "      <td>Control</td>\n",
       "      <td>917</td>\n",
       "      <td>680</td>\n",
       "      <td>737</td>\n",
       "      <td>596</td>\n",
       "      <td>699</td>\n",
       "      <td>484</td>\n",
       "      <td>452</td>\n",
       "      <td>438</td>\n",
       "      <td>547</td>\n",
       "      <td>729</td>\n",
       "      <td>830</td>\n",
       "      <td>411</td>\n",
       "      <td>71</td>\n",
       "      <td>386</td>\n",
       "      <td>581</td>\n",
       "      <td>832</td>\n",
       "      <td>586</td>\n",
       "      <td>610</td>\n",
       "      <td>634</td>\n",
       "      <td>716</td>\n",
       "    </tr>\n",
       "    <tr>\n",
       "      <th>15</th>\n",
       "      <td>Control</td>\n",
       "      <td>440</td>\n",
       "      <td>767</td>\n",
       "      <td>642</td>\n",
       "      <td>623</td>\n",
       "      <td>532</td>\n",
       "      <td>663</td>\n",
       "      <td>601</td>\n",
       "      <td>553</td>\n",
       "      <td>315</td>\n",
       "      <td>434</td>\n",
       "      <td>543</td>\n",
       "      <td>619</td>\n",
       "      <td>115</td>\n",
       "      <td>101</td>\n",
       "      <td>356</td>\n",
       "      <td>457</td>\n",
       "      <td>412</td>\n",
       "      <td>582</td>\n",
       "      <td>549</td>\n",
       "      <td>696</td>\n",
       "    </tr>\n",
       "    <tr>\n",
       "      <th>16</th>\n",
       "      <td>Experimental</td>\n",
       "      <td>715</td>\n",
       "      <td>469</td>\n",
       "      <td>392</td>\n",
       "      <td>333</td>\n",
       "      <td>492</td>\n",
       "      <td>594</td>\n",
       "      <td>695</td>\n",
       "      <td>568</td>\n",
       "      <td>916</td>\n",
       "      <td>675</td>\n",
       "      <td>669</td>\n",
       "      <td>895</td>\n",
       "      <td>98</td>\n",
       "      <td>558</td>\n",
       "      <td>977</td>\n",
       "      <td>956</td>\n",
       "      <td>974</td>\n",
       "      <td>1049</td>\n",
       "      <td>1366</td>\n",
       "      <td>942</td>\n",
       "    </tr>\n",
       "    <tr>\n",
       "      <th>17</th>\n",
       "      <td>Experimental</td>\n",
       "      <td>184</td>\n",
       "      <td>250</td>\n",
       "      <td>373</td>\n",
       "      <td>457</td>\n",
       "      <td>505</td>\n",
       "      <td>475</td>\n",
       "      <td>519</td>\n",
       "      <td>578</td>\n",
       "      <td>542</td>\n",
       "      <td>477</td>\n",
       "      <td>601</td>\n",
       "      <td>390</td>\n",
       "      <td>131</td>\n",
       "      <td>656</td>\n",
       "      <td>845</td>\n",
       "      <td>699</td>\n",
       "      <td>494</td>\n",
       "      <td>920</td>\n",
       "      <td>431</td>\n",
       "      <td>521</td>\n",
       "    </tr>\n",
       "    <tr>\n",
       "      <th>18</th>\n",
       "      <td>Experimental</td>\n",
       "      <td>934</td>\n",
       "      <td>1237</td>\n",
       "      <td>354</td>\n",
       "      <td>705</td>\n",
       "      <td>646</td>\n",
       "      <td>619</td>\n",
       "      <td>885</td>\n",
       "      <td>626</td>\n",
       "      <td>496</td>\n",
       "      <td>954</td>\n",
       "      <td>718</td>\n",
       "      <td>821</td>\n",
       "      <td>170</td>\n",
       "      <td>909</td>\n",
       "      <td>1049</td>\n",
       "      <td>994</td>\n",
       "      <td>675</td>\n",
       "      <td>803</td>\n",
       "      <td>866</td>\n",
       "      <td>880</td>\n",
       "    </tr>\n",
       "    <tr>\n",
       "      <th>19</th>\n",
       "      <td>Experimental</td>\n",
       "      <td>578</td>\n",
       "      <td>548</td>\n",
       "      <td>556</td>\n",
       "      <td>479</td>\n",
       "      <td>533</td>\n",
       "      <td>721</td>\n",
       "      <td>651</td>\n",
       "      <td>546</td>\n",
       "      <td>537</td>\n",
       "      <td>564</td>\n",
       "      <td>519</td>\n",
       "      <td>446</td>\n",
       "      <td>601</td>\n",
       "      <td>565</td>\n",
       "      <td>450</td>\n",
       "      <td>684</td>\n",
       "      <td>1675</td>\n",
       "      <td>976</td>\n",
       "      <td>1249</td>\n",
       "      <td>1047</td>\n",
       "    </tr>\n",
       "    <tr>\n",
       "      <th>20</th>\n",
       "      <td>Experimental</td>\n",
       "      <td>400</td>\n",
       "      <td>193</td>\n",
       "      <td>188</td>\n",
       "      <td>350</td>\n",
       "      <td>232</td>\n",
       "      <td>34</td>\n",
       "      <td>65</td>\n",
       "      <td>158</td>\n",
       "      <td>89</td>\n",
       "      <td>175</td>\n",
       "      <td>186</td>\n",
       "      <td>319</td>\n",
       "      <td>14</td>\n",
       "      <td>60</td>\n",
       "      <td>118</td>\n",
       "      <td>149</td>\n",
       "      <td>133</td>\n",
       "      <td>270</td>\n",
       "      <td>472</td>\n",
       "      <td>293</td>\n",
       "    </tr>\n",
       "    <tr>\n",
       "      <th>21</th>\n",
       "      <td>Experimental</td>\n",
       "      <td>448</td>\n",
       "      <td>221</td>\n",
       "      <td>505</td>\n",
       "      <td>459</td>\n",
       "      <td>483</td>\n",
       "      <td>491</td>\n",
       "      <td>394</td>\n",
       "      <td>673</td>\n",
       "      <td>593</td>\n",
       "      <td>444</td>\n",
       "      <td>430</td>\n",
       "      <td>630</td>\n",
       "      <td>176</td>\n",
       "      <td>611</td>\n",
       "      <td>680</td>\n",
       "      <td>552</td>\n",
       "      <td>652</td>\n",
       "      <td>879</td>\n",
       "      <td>990</td>\n",
       "      <td>900</td>\n",
       "    </tr>\n",
       "    <tr>\n",
       "      <th>22</th>\n",
       "      <td>Control</td>\n",
       "      <td>270</td>\n",
       "      <td>132</td>\n",
       "      <td>250</td>\n",
       "      <td>192</td>\n",
       "      <td>364</td>\n",
       "      <td>229</td>\n",
       "      <td>219</td>\n",
       "      <td>329</td>\n",
       "      <td>120</td>\n",
       "      <td>147</td>\n",
       "      <td>186</td>\n",
       "      <td>337</td>\n",
       "      <td>8</td>\n",
       "      <td>70</td>\n",
       "      <td>18</td>\n",
       "      <td>175</td>\n",
       "      <td>232</td>\n",
       "      <td>238</td>\n",
       "      <td>209</td>\n",
       "      <td>200</td>\n",
       "    </tr>\n",
       "  </tbody>\n",
       "</table>\n",
       "</div>"
      ],
      "text/plain": [
       "                 Group  BL1   BL2  BL3  BL4    S1    S2   S3   S4  PS1  PS2   PS3  PS4  R1_1  R1_2  R1_3  R1_4  R2_1  R2_2  R2_3  R2_4\n",
       "Mouse_ID                                                                                                                              \n",
       "1              Control  665   863  631  629   583   801  723  707  732  680   684  485    65   301   351   441   675   554   541   545\n",
       "2              Control  859   849  685  731   854  1103  645  633  733  662   605  623   128   268   462   569   988   728   933   564\n",
       "3              Control  589   507  635  902   699   743  761  949  872  952   828  806   129   311   669   666   516   579   913   736\n",
       "4              Control  939   909  850  756   807   617  526  736  743  625   690  759   281   357   386   585   565   550   806   732\n",
       "5         Experimental  710   505  494  596   620   589  676  537  779  537   581  515   477   659   737   606   713   682   709   759\n",
       "6         Experimental  564   808  589  596   591   580  419  463  707  625   547  595   532   951   901   851   807   858   802   803\n",
       "7         Experimental  722   732  783  946   882   723  764  892  621  764   720  478   297   558   803   694   855   797   938   878\n",
       "8         Experimental  497   649  586  506   546   493  456  601  437  462   704  498    10    44    86   284   212   133   141   274\n",
       "9         Experimental  741   668  778  638   759   791  568  664  390  346   773  682     3   212   417   443   486   444   533   578\n",
       "10        Experimental  953   988  579  706  1106   812  902  835  829  801  1011  919   274   559   840   890   724   793   559   700\n",
       "11        Experimental  753   613  573  642   820   752  759  564  635  641   706  763   287   526   841   838   691   657   680   781\n",
       "12             Control  494   602  570  530   570   396  403  380  362  467   491  557    98   262   344   388   435   551   552   537\n",
       "13             Control  587   630  564  627   572   419  369  416  403  552   575  589   172   298   422   596   447   589   463   364\n",
       "14             Control  917   680  737  596   699   484  452  438  547  729   830  411    71   386   581   832   586   610   634   716\n",
       "15             Control  440   767  642  623   532   663  601  553  315  434   543  619   115   101   356   457   412   582   549   696\n",
       "16        Experimental  715   469  392  333   492   594  695  568  916  675   669  895    98   558   977   956   974  1049  1366   942\n",
       "17        Experimental  184   250  373  457   505   475  519  578  542  477   601  390   131   656   845   699   494   920   431   521\n",
       "18        Experimental  934  1237  354  705   646   619  885  626  496  954   718  821   170   909  1049   994   675   803   866   880\n",
       "19        Experimental  578   548  556  479   533   721  651  546  537  564   519  446   601   565   450   684  1675   976  1249  1047\n",
       "20        Experimental  400   193  188  350   232    34   65  158   89  175   186  319    14    60   118   149   133   270   472   293\n",
       "21        Experimental  448   221  505  459   483   491  394  673  593  444   430  630   176   611   680   552   652   879   990   900\n",
       "22             Control  270   132  250  192   364   229  219  329  120  147   186  337     8    70    18   175   232   238   209   200"
      ]
     },
     "execution_count": 4,
     "metadata": {},
     "output_type": "execute_result"
    }
   ],
   "source": [
    "df = pd.read_csv('../../datasets/mouse_drinking_data_cleaned.csv',#\"../../datasets/mouse_drinking_data_cleaned.csv\")#,\n",
    "                 index_col=0)\n",
    "df.drop('Sex',axis=1,inplace=True)\n",
    "df "
   ]
  },
  {
   "cell_type": "markdown",
   "metadata": {},
   "source": [
    "#### Laying Out Our Approach\n",
    "\n",
    "1. Make a **dict/lists of the column names** that should be **averaged together** (`col_dict`)\n",
    "\n",
    "2. Make a new df of means using `col_dict`\n",
    "\n",
    "3. Make a grp dict using  `df_means.groupby('Group').groups` \n",
    "\n",
    "- Visualize the two populations\n",
    "\n",
    "- Prepare for hypothesis tests\n",
    "    - Either use `grps` dict to reference the correct columsn to pass into tests\n",
    "\n",
    "<!---\n",
    "**Variables:**\n",
    "\n",
    "- `col_dict` (dict): dict of column names to be grouped together for means\n",
    "- `df_means` (df): df of col_dict column means.\n",
    "- `grps` (dict): groupby dict where keys = 'Group' column and values = row indices\n",
    "\n",
    "- `data` (dict): Dictionary of...\n",
    "    - Series of each phase by group? --->"
   ]
  },
  {
   "cell_type": "code",
   "execution_count": 8,
   "metadata": {
    "ExecuteTime": {
     "end_time": "2020-08-18T16:18:28.743413Z",
     "start_time": "2020-08-18T16:18:28.738235Z"
    }
   },
   "outputs": [
    {
     "data": {
      "text/plain": [
       "{'BL': ['BL1', 'BL2', 'BL3', 'BL4'],\n",
       " 'S': ['S1', 'S2', 'S3', 'S4'],\n",
       " 'PS': ['PS1', 'PS2', 'PS3', 'PS4'],\n",
       " 'R1': ['R1_1', 'R1_2', 'R1_3', 'R1_4'],\n",
       " 'R2': ['R2_1', 'R2_2', 'R2_3', 'R2_4']}"
      ]
     },
     "execution_count": 8,
     "metadata": {},
     "output_type": "execute_result"
    }
   ],
   "source": [
    "## Loop through the differnet phases of the experiment\n",
    "phases = ['BL','S','PS','R1','R2']\n",
    "\n",
    "## save corresponding column names as values \n",
    "col_dict ={}\n",
    "for phase in phases:\n",
    "    list_cols = [col for col in df.columns if col.startswith(phase)]\n",
    "    col_dict[phase] = list_cols\n",
    "col_dict"
   ]
  },
  {
   "cell_type": "code",
   "execution_count": 11,
   "metadata": {
    "ExecuteTime": {
     "end_time": "2020-08-18T16:21:01.418106Z",
     "start_time": "2020-08-18T16:21:01.413312Z"
    },
    "scrolled": true
   },
   "outputs": [
    {
     "data": {
      "text/plain": [
       "{'BL1': 'BL',\n",
       " 'BL2': 'BL',\n",
       " 'BL3': 'BL',\n",
       " 'BL4': 'BL',\n",
       " 'S1': 'S',\n",
       " 'S2': 'S',\n",
       " 'S3': 'S',\n",
       " 'S4': 'S',\n",
       " 'PS1': 'PS',\n",
       " 'PS2': 'PS',\n",
       " 'PS3': 'PS',\n",
       " 'PS4': 'PS',\n",
       " 'R1_1': 'R1',\n",
       " 'R1_2': 'R1',\n",
       " 'R1_3': 'R1',\n",
       " 'R1_4': 'R1',\n",
       " 'R2_1': 'R2',\n",
       " 'R2_2': 'R2',\n",
       " 'R2_3': 'R2',\n",
       " 'R2_4': 'R2'}"
      ]
     },
     "execution_count": 11,
     "metadata": {},
     "output_type": "execute_result"
    }
   ],
   "source": [
    "## Get then opposite of col_dict\n",
    "phase_dict = {}\n",
    "\n",
    "for phase, colnames in col_dict.items():\n",
    "    for col in colnames:\n",
    "        phase_dict[col]= phase\n",
    "phase_dict"
   ]
  },
  {
   "cell_type": "markdown",
   "metadata": {},
   "source": [
    "### Calculating individual mouse means by phase"
   ]
  },
  {
   "cell_type": "code",
   "execution_count": 17,
   "metadata": {
    "ExecuteTime": {
     "end_time": "2020-08-18T16:25:25.564353Z",
     "start_time": "2020-08-18T16:25:25.529955Z"
    }
   },
   "outputs": [
    {
     "data": {
      "text/html": [
       "<div>\n",
       "<style scoped>\n",
       "    .dataframe tbody tr th:only-of-type {\n",
       "        vertical-align: middle;\n",
       "    }\n",
       "\n",
       "    .dataframe tbody tr th {\n",
       "        vertical-align: top;\n",
       "    }\n",
       "\n",
       "    .dataframe thead th {\n",
       "        text-align: right;\n",
       "    }\n",
       "</style>\n",
       "<table border=\"1\" class=\"dataframe\">\n",
       "  <thead>\n",
       "    <tr style=\"text-align: right;\">\n",
       "      <th></th>\n",
       "      <th>Group</th>\n",
       "      <th>BL1</th>\n",
       "      <th>BL2</th>\n",
       "      <th>BL3</th>\n",
       "      <th>BL4</th>\n",
       "      <th>S1</th>\n",
       "      <th>S2</th>\n",
       "      <th>S3</th>\n",
       "      <th>S4</th>\n",
       "      <th>PS1</th>\n",
       "      <th>PS2</th>\n",
       "      <th>PS3</th>\n",
       "      <th>PS4</th>\n",
       "      <th>R1_1</th>\n",
       "      <th>R1_2</th>\n",
       "      <th>R1_3</th>\n",
       "      <th>R1_4</th>\n",
       "      <th>R2_1</th>\n",
       "      <th>R2_2</th>\n",
       "      <th>R2_3</th>\n",
       "      <th>R2_4</th>\n",
       "    </tr>\n",
       "    <tr>\n",
       "      <th>Mouse_ID</th>\n",
       "      <th></th>\n",
       "      <th></th>\n",
       "      <th></th>\n",
       "      <th></th>\n",
       "      <th></th>\n",
       "      <th></th>\n",
       "      <th></th>\n",
       "      <th></th>\n",
       "      <th></th>\n",
       "      <th></th>\n",
       "      <th></th>\n",
       "      <th></th>\n",
       "      <th></th>\n",
       "      <th></th>\n",
       "      <th></th>\n",
       "      <th></th>\n",
       "      <th></th>\n",
       "      <th></th>\n",
       "      <th></th>\n",
       "      <th></th>\n",
       "      <th></th>\n",
       "    </tr>\n",
       "  </thead>\n",
       "  <tbody>\n",
       "    <tr>\n",
       "      <th>1</th>\n",
       "      <td>Control</td>\n",
       "      <td>665</td>\n",
       "      <td>863</td>\n",
       "      <td>631</td>\n",
       "      <td>629</td>\n",
       "      <td>583</td>\n",
       "      <td>801</td>\n",
       "      <td>723</td>\n",
       "      <td>707</td>\n",
       "      <td>732</td>\n",
       "      <td>680</td>\n",
       "      <td>684</td>\n",
       "      <td>485</td>\n",
       "      <td>65</td>\n",
       "      <td>301</td>\n",
       "      <td>351</td>\n",
       "      <td>441</td>\n",
       "      <td>675</td>\n",
       "      <td>554</td>\n",
       "      <td>541</td>\n",
       "      <td>545</td>\n",
       "    </tr>\n",
       "    <tr>\n",
       "      <th>2</th>\n",
       "      <td>Control</td>\n",
       "      <td>859</td>\n",
       "      <td>849</td>\n",
       "      <td>685</td>\n",
       "      <td>731</td>\n",
       "      <td>854</td>\n",
       "      <td>1103</td>\n",
       "      <td>645</td>\n",
       "      <td>633</td>\n",
       "      <td>733</td>\n",
       "      <td>662</td>\n",
       "      <td>605</td>\n",
       "      <td>623</td>\n",
       "      <td>128</td>\n",
       "      <td>268</td>\n",
       "      <td>462</td>\n",
       "      <td>569</td>\n",
       "      <td>988</td>\n",
       "      <td>728</td>\n",
       "      <td>933</td>\n",
       "      <td>564</td>\n",
       "    </tr>\n",
       "    <tr>\n",
       "      <th>3</th>\n",
       "      <td>Control</td>\n",
       "      <td>589</td>\n",
       "      <td>507</td>\n",
       "      <td>635</td>\n",
       "      <td>902</td>\n",
       "      <td>699</td>\n",
       "      <td>743</td>\n",
       "      <td>761</td>\n",
       "      <td>949</td>\n",
       "      <td>872</td>\n",
       "      <td>952</td>\n",
       "      <td>828</td>\n",
       "      <td>806</td>\n",
       "      <td>129</td>\n",
       "      <td>311</td>\n",
       "      <td>669</td>\n",
       "      <td>666</td>\n",
       "      <td>516</td>\n",
       "      <td>579</td>\n",
       "      <td>913</td>\n",
       "      <td>736</td>\n",
       "    </tr>\n",
       "    <tr>\n",
       "      <th>4</th>\n",
       "      <td>Control</td>\n",
       "      <td>939</td>\n",
       "      <td>909</td>\n",
       "      <td>850</td>\n",
       "      <td>756</td>\n",
       "      <td>807</td>\n",
       "      <td>617</td>\n",
       "      <td>526</td>\n",
       "      <td>736</td>\n",
       "      <td>743</td>\n",
       "      <td>625</td>\n",
       "      <td>690</td>\n",
       "      <td>759</td>\n",
       "      <td>281</td>\n",
       "      <td>357</td>\n",
       "      <td>386</td>\n",
       "      <td>585</td>\n",
       "      <td>565</td>\n",
       "      <td>550</td>\n",
       "      <td>806</td>\n",
       "      <td>732</td>\n",
       "    </tr>\n",
       "    <tr>\n",
       "      <th>12</th>\n",
       "      <td>Control</td>\n",
       "      <td>494</td>\n",
       "      <td>602</td>\n",
       "      <td>570</td>\n",
       "      <td>530</td>\n",
       "      <td>570</td>\n",
       "      <td>396</td>\n",
       "      <td>403</td>\n",
       "      <td>380</td>\n",
       "      <td>362</td>\n",
       "      <td>467</td>\n",
       "      <td>491</td>\n",
       "      <td>557</td>\n",
       "      <td>98</td>\n",
       "      <td>262</td>\n",
       "      <td>344</td>\n",
       "      <td>388</td>\n",
       "      <td>435</td>\n",
       "      <td>551</td>\n",
       "      <td>552</td>\n",
       "      <td>537</td>\n",
       "    </tr>\n",
       "    <tr>\n",
       "      <th>13</th>\n",
       "      <td>Control</td>\n",
       "      <td>587</td>\n",
       "      <td>630</td>\n",
       "      <td>564</td>\n",
       "      <td>627</td>\n",
       "      <td>572</td>\n",
       "      <td>419</td>\n",
       "      <td>369</td>\n",
       "      <td>416</td>\n",
       "      <td>403</td>\n",
       "      <td>552</td>\n",
       "      <td>575</td>\n",
       "      <td>589</td>\n",
       "      <td>172</td>\n",
       "      <td>298</td>\n",
       "      <td>422</td>\n",
       "      <td>596</td>\n",
       "      <td>447</td>\n",
       "      <td>589</td>\n",
       "      <td>463</td>\n",
       "      <td>364</td>\n",
       "    </tr>\n",
       "    <tr>\n",
       "      <th>14</th>\n",
       "      <td>Control</td>\n",
       "      <td>917</td>\n",
       "      <td>680</td>\n",
       "      <td>737</td>\n",
       "      <td>596</td>\n",
       "      <td>699</td>\n",
       "      <td>484</td>\n",
       "      <td>452</td>\n",
       "      <td>438</td>\n",
       "      <td>547</td>\n",
       "      <td>729</td>\n",
       "      <td>830</td>\n",
       "      <td>411</td>\n",
       "      <td>71</td>\n",
       "      <td>386</td>\n",
       "      <td>581</td>\n",
       "      <td>832</td>\n",
       "      <td>586</td>\n",
       "      <td>610</td>\n",
       "      <td>634</td>\n",
       "      <td>716</td>\n",
       "    </tr>\n",
       "    <tr>\n",
       "      <th>15</th>\n",
       "      <td>Control</td>\n",
       "      <td>440</td>\n",
       "      <td>767</td>\n",
       "      <td>642</td>\n",
       "      <td>623</td>\n",
       "      <td>532</td>\n",
       "      <td>663</td>\n",
       "      <td>601</td>\n",
       "      <td>553</td>\n",
       "      <td>315</td>\n",
       "      <td>434</td>\n",
       "      <td>543</td>\n",
       "      <td>619</td>\n",
       "      <td>115</td>\n",
       "      <td>101</td>\n",
       "      <td>356</td>\n",
       "      <td>457</td>\n",
       "      <td>412</td>\n",
       "      <td>582</td>\n",
       "      <td>549</td>\n",
       "      <td>696</td>\n",
       "    </tr>\n",
       "    <tr>\n",
       "      <th>22</th>\n",
       "      <td>Control</td>\n",
       "      <td>270</td>\n",
       "      <td>132</td>\n",
       "      <td>250</td>\n",
       "      <td>192</td>\n",
       "      <td>364</td>\n",
       "      <td>229</td>\n",
       "      <td>219</td>\n",
       "      <td>329</td>\n",
       "      <td>120</td>\n",
       "      <td>147</td>\n",
       "      <td>186</td>\n",
       "      <td>337</td>\n",
       "      <td>8</td>\n",
       "      <td>70</td>\n",
       "      <td>18</td>\n",
       "      <td>175</td>\n",
       "      <td>232</td>\n",
       "      <td>238</td>\n",
       "      <td>209</td>\n",
       "      <td>200</td>\n",
       "    </tr>\n",
       "  </tbody>\n",
       "</table>\n",
       "</div>"
      ],
      "text/plain": [
       "            Group  BL1  BL2  BL3  BL4   S1    S2   S3   S4  PS1  PS2  PS3  PS4  R1_1  R1_2  R1_3  R1_4  R2_1  R2_2  R2_3  R2_4\n",
       "Mouse_ID                                                                                                                      \n",
       "1         Control  665  863  631  629  583   801  723  707  732  680  684  485    65   301   351   441   675   554   541   545\n",
       "2         Control  859  849  685  731  854  1103  645  633  733  662  605  623   128   268   462   569   988   728   933   564\n",
       "3         Control  589  507  635  902  699   743  761  949  872  952  828  806   129   311   669   666   516   579   913   736\n",
       "4         Control  939  909  850  756  807   617  526  736  743  625  690  759   281   357   386   585   565   550   806   732\n",
       "12        Control  494  602  570  530  570   396  403  380  362  467  491  557    98   262   344   388   435   551   552   537\n",
       "13        Control  587  630  564  627  572   419  369  416  403  552  575  589   172   298   422   596   447   589   463   364\n",
       "14        Control  917  680  737  596  699   484  452  438  547  729  830  411    71   386   581   832   586   610   634   716\n",
       "15        Control  440  767  642  623  532   663  601  553  315  434  543  619   115   101   356   457   412   582   549   696\n",
       "22        Control  270  132  250  192  364   229  219  329  120  147  186  337     8    70    18   175   232   238   209   200"
      ]
     },
     "execution_count": 17,
     "metadata": {},
     "output_type": "execute_result"
    }
   ],
   "source": [
    "df[ df['Group'] == 'Control']"
   ]
  },
  {
   "cell_type": "code",
   "execution_count": 20,
   "metadata": {
    "ExecuteTime": {
     "end_time": "2020-08-18T16:25:49.265980Z",
     "start_time": "2020-08-18T16:25:49.230172Z"
    }
   },
   "outputs": [
    {
     "data": {
      "text/html": [
       "<div>\n",
       "<style scoped>\n",
       "    .dataframe tbody tr th:only-of-type {\n",
       "        vertical-align: middle;\n",
       "    }\n",
       "\n",
       "    .dataframe tbody tr th {\n",
       "        vertical-align: top;\n",
       "    }\n",
       "\n",
       "    .dataframe thead th {\n",
       "        text-align: right;\n",
       "    }\n",
       "</style>\n",
       "<table border=\"1\" class=\"dataframe\">\n",
       "  <thead>\n",
       "    <tr style=\"text-align: right;\">\n",
       "      <th></th>\n",
       "      <th>Group</th>\n",
       "      <th>BL1</th>\n",
       "      <th>BL2</th>\n",
       "      <th>BL3</th>\n",
       "      <th>BL4</th>\n",
       "      <th>S1</th>\n",
       "      <th>S2</th>\n",
       "      <th>S3</th>\n",
       "      <th>S4</th>\n",
       "      <th>PS1</th>\n",
       "      <th>PS2</th>\n",
       "      <th>PS3</th>\n",
       "      <th>PS4</th>\n",
       "      <th>R1_1</th>\n",
       "      <th>R1_2</th>\n",
       "      <th>R1_3</th>\n",
       "      <th>R1_4</th>\n",
       "      <th>R2_1</th>\n",
       "      <th>R2_2</th>\n",
       "      <th>R2_3</th>\n",
       "      <th>R2_4</th>\n",
       "    </tr>\n",
       "    <tr>\n",
       "      <th>Mouse_ID</th>\n",
       "      <th></th>\n",
       "      <th></th>\n",
       "      <th></th>\n",
       "      <th></th>\n",
       "      <th></th>\n",
       "      <th></th>\n",
       "      <th></th>\n",
       "      <th></th>\n",
       "      <th></th>\n",
       "      <th></th>\n",
       "      <th></th>\n",
       "      <th></th>\n",
       "      <th></th>\n",
       "      <th></th>\n",
       "      <th></th>\n",
       "      <th></th>\n",
       "      <th></th>\n",
       "      <th></th>\n",
       "      <th></th>\n",
       "      <th></th>\n",
       "      <th></th>\n",
       "    </tr>\n",
       "  </thead>\n",
       "  <tbody>\n",
       "    <tr>\n",
       "      <th>1</th>\n",
       "      <td>Control</td>\n",
       "      <td>665</td>\n",
       "      <td>863</td>\n",
       "      <td>631</td>\n",
       "      <td>629</td>\n",
       "      <td>583</td>\n",
       "      <td>801</td>\n",
       "      <td>723</td>\n",
       "      <td>707</td>\n",
       "      <td>732</td>\n",
       "      <td>680</td>\n",
       "      <td>684</td>\n",
       "      <td>485</td>\n",
       "      <td>65</td>\n",
       "      <td>301</td>\n",
       "      <td>351</td>\n",
       "      <td>441</td>\n",
       "      <td>675</td>\n",
       "      <td>554</td>\n",
       "      <td>541</td>\n",
       "      <td>545</td>\n",
       "    </tr>\n",
       "    <tr>\n",
       "      <th>2</th>\n",
       "      <td>Control</td>\n",
       "      <td>859</td>\n",
       "      <td>849</td>\n",
       "      <td>685</td>\n",
       "      <td>731</td>\n",
       "      <td>854</td>\n",
       "      <td>1103</td>\n",
       "      <td>645</td>\n",
       "      <td>633</td>\n",
       "      <td>733</td>\n",
       "      <td>662</td>\n",
       "      <td>605</td>\n",
       "      <td>623</td>\n",
       "      <td>128</td>\n",
       "      <td>268</td>\n",
       "      <td>462</td>\n",
       "      <td>569</td>\n",
       "      <td>988</td>\n",
       "      <td>728</td>\n",
       "      <td>933</td>\n",
       "      <td>564</td>\n",
       "    </tr>\n",
       "    <tr>\n",
       "      <th>3</th>\n",
       "      <td>Control</td>\n",
       "      <td>589</td>\n",
       "      <td>507</td>\n",
       "      <td>635</td>\n",
       "      <td>902</td>\n",
       "      <td>699</td>\n",
       "      <td>743</td>\n",
       "      <td>761</td>\n",
       "      <td>949</td>\n",
       "      <td>872</td>\n",
       "      <td>952</td>\n",
       "      <td>828</td>\n",
       "      <td>806</td>\n",
       "      <td>129</td>\n",
       "      <td>311</td>\n",
       "      <td>669</td>\n",
       "      <td>666</td>\n",
       "      <td>516</td>\n",
       "      <td>579</td>\n",
       "      <td>913</td>\n",
       "      <td>736</td>\n",
       "    </tr>\n",
       "    <tr>\n",
       "      <th>4</th>\n",
       "      <td>Control</td>\n",
       "      <td>939</td>\n",
       "      <td>909</td>\n",
       "      <td>850</td>\n",
       "      <td>756</td>\n",
       "      <td>807</td>\n",
       "      <td>617</td>\n",
       "      <td>526</td>\n",
       "      <td>736</td>\n",
       "      <td>743</td>\n",
       "      <td>625</td>\n",
       "      <td>690</td>\n",
       "      <td>759</td>\n",
       "      <td>281</td>\n",
       "      <td>357</td>\n",
       "      <td>386</td>\n",
       "      <td>585</td>\n",
       "      <td>565</td>\n",
       "      <td>550</td>\n",
       "      <td>806</td>\n",
       "      <td>732</td>\n",
       "    </tr>\n",
       "    <tr>\n",
       "      <th>12</th>\n",
       "      <td>Control</td>\n",
       "      <td>494</td>\n",
       "      <td>602</td>\n",
       "      <td>570</td>\n",
       "      <td>530</td>\n",
       "      <td>570</td>\n",
       "      <td>396</td>\n",
       "      <td>403</td>\n",
       "      <td>380</td>\n",
       "      <td>362</td>\n",
       "      <td>467</td>\n",
       "      <td>491</td>\n",
       "      <td>557</td>\n",
       "      <td>98</td>\n",
       "      <td>262</td>\n",
       "      <td>344</td>\n",
       "      <td>388</td>\n",
       "      <td>435</td>\n",
       "      <td>551</td>\n",
       "      <td>552</td>\n",
       "      <td>537</td>\n",
       "    </tr>\n",
       "    <tr>\n",
       "      <th>13</th>\n",
       "      <td>Control</td>\n",
       "      <td>587</td>\n",
       "      <td>630</td>\n",
       "      <td>564</td>\n",
       "      <td>627</td>\n",
       "      <td>572</td>\n",
       "      <td>419</td>\n",
       "      <td>369</td>\n",
       "      <td>416</td>\n",
       "      <td>403</td>\n",
       "      <td>552</td>\n",
       "      <td>575</td>\n",
       "      <td>589</td>\n",
       "      <td>172</td>\n",
       "      <td>298</td>\n",
       "      <td>422</td>\n",
       "      <td>596</td>\n",
       "      <td>447</td>\n",
       "      <td>589</td>\n",
       "      <td>463</td>\n",
       "      <td>364</td>\n",
       "    </tr>\n",
       "    <tr>\n",
       "      <th>14</th>\n",
       "      <td>Control</td>\n",
       "      <td>917</td>\n",
       "      <td>680</td>\n",
       "      <td>737</td>\n",
       "      <td>596</td>\n",
       "      <td>699</td>\n",
       "      <td>484</td>\n",
       "      <td>452</td>\n",
       "      <td>438</td>\n",
       "      <td>547</td>\n",
       "      <td>729</td>\n",
       "      <td>830</td>\n",
       "      <td>411</td>\n",
       "      <td>71</td>\n",
       "      <td>386</td>\n",
       "      <td>581</td>\n",
       "      <td>832</td>\n",
       "      <td>586</td>\n",
       "      <td>610</td>\n",
       "      <td>634</td>\n",
       "      <td>716</td>\n",
       "    </tr>\n",
       "    <tr>\n",
       "      <th>15</th>\n",
       "      <td>Control</td>\n",
       "      <td>440</td>\n",
       "      <td>767</td>\n",
       "      <td>642</td>\n",
       "      <td>623</td>\n",
       "      <td>532</td>\n",
       "      <td>663</td>\n",
       "      <td>601</td>\n",
       "      <td>553</td>\n",
       "      <td>315</td>\n",
       "      <td>434</td>\n",
       "      <td>543</td>\n",
       "      <td>619</td>\n",
       "      <td>115</td>\n",
       "      <td>101</td>\n",
       "      <td>356</td>\n",
       "      <td>457</td>\n",
       "      <td>412</td>\n",
       "      <td>582</td>\n",
       "      <td>549</td>\n",
       "      <td>696</td>\n",
       "    </tr>\n",
       "    <tr>\n",
       "      <th>22</th>\n",
       "      <td>Control</td>\n",
       "      <td>270</td>\n",
       "      <td>132</td>\n",
       "      <td>250</td>\n",
       "      <td>192</td>\n",
       "      <td>364</td>\n",
       "      <td>229</td>\n",
       "      <td>219</td>\n",
       "      <td>329</td>\n",
       "      <td>120</td>\n",
       "      <td>147</td>\n",
       "      <td>186</td>\n",
       "      <td>337</td>\n",
       "      <td>8</td>\n",
       "      <td>70</td>\n",
       "      <td>18</td>\n",
       "      <td>175</td>\n",
       "      <td>232</td>\n",
       "      <td>238</td>\n",
       "      <td>209</td>\n",
       "      <td>200</td>\n",
       "    </tr>\n",
       "  </tbody>\n",
       "</table>\n",
       "</div>"
      ],
      "text/plain": [
       "            Group  BL1  BL2  BL3  BL4   S1    S2   S3   S4  PS1  PS2  PS3  PS4  R1_1  R1_2  R1_3  R1_4  R2_1  R2_2  R2_3  R2_4\n",
       "Mouse_ID                                                                                                                      \n",
       "1         Control  665  863  631  629  583   801  723  707  732  680  684  485    65   301   351   441   675   554   541   545\n",
       "2         Control  859  849  685  731  854  1103  645  633  733  662  605  623   128   268   462   569   988   728   933   564\n",
       "3         Control  589  507  635  902  699   743  761  949  872  952  828  806   129   311   669   666   516   579   913   736\n",
       "4         Control  939  909  850  756  807   617  526  736  743  625  690  759   281   357   386   585   565   550   806   732\n",
       "12        Control  494  602  570  530  570   396  403  380  362  467  491  557    98   262   344   388   435   551   552   537\n",
       "13        Control  587  630  564  627  572   419  369  416  403  552  575  589   172   298   422   596   447   589   463   364\n",
       "14        Control  917  680  737  596  699   484  452  438  547  729  830  411    71   386   581   832   586   610   634   716\n",
       "15        Control  440  767  642  623  532   663  601  553  315  434  543  619   115   101   356   457   412   582   549   696\n",
       "22        Control  270  132  250  192  364   229  219  329  120  147  186  337     8    70    18   175   232   238   209   200"
      ]
     },
     "execution_count": 20,
     "metadata": {},
     "output_type": "execute_result"
    }
   ],
   "source": [
    "df.groupby('Group').get_group('Control')"
   ]
  },
  {
   "cell_type": "code",
   "execution_count": 25,
   "metadata": {
    "ExecuteTime": {
     "end_time": "2020-08-18T16:27:43.059801Z",
     "start_time": "2020-08-18T16:27:43.054343Z"
    }
   },
   "outputs": [
    {
     "data": {
      "text/plain": [
       "{'Control': [1, 2, 3, 4, 12, 13, 14, 15, 22], 'Experimental': [5, 6, 7, 8, 9, 10, 11, 16, 17, 18, 19, 20, 21]}"
      ]
     },
     "execution_count": 25,
     "metadata": {},
     "output_type": "execute_result"
    }
   ],
   "source": [
    "df.groupby('Group').groups"
   ]
  },
  {
   "cell_type": "markdown",
   "metadata": {},
   "source": [
    "### Analyzing Stim Days"
   ]
  },
  {
   "cell_type": "code",
   "execution_count": 26,
   "metadata": {
    "ExecuteTime": {
     "end_time": "2020-08-18T16:28:14.160763Z",
     "start_time": "2020-08-18T16:28:14.156296Z"
    }
   },
   "outputs": [
    {
     "data": {
      "text/plain": [
       "array(['Control', 'Experimental'], dtype=object)"
      ]
     },
     "execution_count": 26,
     "metadata": {},
     "output_type": "execute_result"
    }
   ],
   "source": [
    "## Dict data\n",
    "groups_list = df['Group'].unique()\n",
    "groups_list"
   ]
  },
  {
   "cell_type": "code",
   "execution_count": 80,
   "metadata": {
    "ExecuteTime": {
     "end_time": "2020-08-18T16:52:55.350981Z",
     "start_time": "2020-08-18T16:52:55.343289Z"
    }
   },
   "outputs": [],
   "source": [
    "phase = \"R1\"\n",
    "data = {}\n",
    "\n",
    "for group in groups_list:\n",
    "    grp_df  = df[ df['Group']==group][col_dict[phase]].copy()\n",
    "    data[group] = grp_df.mean(axis=1)"
   ]
  },
  {
   "cell_type": "code",
   "execution_count": 81,
   "metadata": {
    "ExecuteTime": {
     "end_time": "2020-08-18T16:52:55.837683Z",
     "start_time": "2020-08-18T16:52:55.833029Z"
    }
   },
   "outputs": [
    {
     "data": {
      "text/plain": [
       "Mouse_ID\n",
       "1     289.50\n",
       "2     356.75\n",
       "3     443.75\n",
       "4     402.25\n",
       "12    273.00\n",
       "13    372.00\n",
       "14    467.50\n",
       "15    257.25\n",
       "22     67.75\n",
       "dtype: float64"
      ]
     },
     "execution_count": 81,
     "metadata": {},
     "output_type": "execute_result"
    }
   ],
   "source": [
    "data['Control']#mean(axis=1)"
   ]
  },
  {
   "cell_type": "code",
   "execution_count": 82,
   "metadata": {
    "ExecuteTime": {
     "end_time": "2020-08-18T16:52:56.340616Z",
     "start_time": "2020-08-18T16:52:56.336671Z"
    }
   },
   "outputs": [
    {
     "data": {
      "text/plain": [
       "dict_keys(['Control', 'Experimental'])"
      ]
     },
     "execution_count": 82,
     "metadata": {},
     "output_type": "execute_result"
    }
   ],
   "source": [
    "data.keys()"
   ]
  },
  {
   "cell_type": "code",
   "execution_count": 83,
   "metadata": {
    "ExecuteTime": {
     "end_time": "2020-08-18T16:52:57.591884Z",
     "start_time": "2020-08-18T16:52:57.588612Z"
    }
   },
   "outputs": [],
   "source": [
    "from scipy import stats\n",
    "def find_outliers_z(fullprice_products):\n",
    "    zFP = np.abs(stats.zscore(fullprice_products))\n",
    "    \n",
    "    zFP = pd.Series(zFP, index=fullprice_products.index)\n",
    "    idx_outliers = zFP > 3\n",
    "    return idx_outliers"
   ]
  },
  {
   "cell_type": "code",
   "execution_count": 84,
   "metadata": {
    "ExecuteTime": {
     "end_time": "2020-08-18T16:52:57.929747Z",
     "start_time": "2020-08-18T16:52:57.925207Z"
    }
   },
   "outputs": [],
   "source": [
    "clean_data = {}\n",
    "for grp,grp_df in data.items():\n",
    "    \n",
    "    idx_outs = find_outliers_z(grp_df)\n",
    "\n",
    "    clean_data[grp] = grp_df[~idx_outs]\n",
    "    "
   ]
  },
  {
   "cell_type": "code",
   "execution_count": 85,
   "metadata": {
    "ExecuteTime": {
     "end_time": "2020-08-18T16:52:58.257474Z",
     "start_time": "2020-08-18T16:52:58.250229Z"
    }
   },
   "outputs": [
    {
     "data": {
      "text/plain": [
       "{'Control': Mouse_ID\n",
       " 1     289.50\n",
       " 2     356.75\n",
       " 3     443.75\n",
       " 4     402.25\n",
       " 12    273.00\n",
       " 13    372.00\n",
       " 14    467.50\n",
       " 15    257.25\n",
       " 22     67.75\n",
       " dtype: float64,\n",
       " 'Experimental': Mouse_ID\n",
       " 5     619.75\n",
       " 6     808.75\n",
       " 7     588.00\n",
       " 8     106.00\n",
       " 9     268.75\n",
       " 10    640.75\n",
       " 11    623.00\n",
       " 16    647.25\n",
       " 17    582.75\n",
       " 18    780.50\n",
       " 19    575.00\n",
       " 20     85.25\n",
       " 21    504.75\n",
       " dtype: float64}"
      ]
     },
     "execution_count": 85,
     "metadata": {},
     "output_type": "execute_result"
    }
   ],
   "source": [
    "clean_data"
   ]
  },
  {
   "cell_type": "code",
   "execution_count": 86,
   "metadata": {
    "ExecuteTime": {
     "end_time": "2020-08-18T16:52:58.597308Z",
     "start_time": "2020-08-18T16:52:58.592264Z"
    }
   },
   "outputs": [
    {
     "data": {
      "text/plain": [
       "Mouse_ID\n",
       "5     False\n",
       "6     False\n",
       "7     False\n",
       "8     False\n",
       "9     False\n",
       "10    False\n",
       "11    False\n",
       "16    False\n",
       "17    False\n",
       "18    False\n",
       "19    False\n",
       "20    False\n",
       "21    False\n",
       "dtype: bool"
      ]
     },
     "execution_count": 86,
     "metadata": {},
     "output_type": "execute_result"
    }
   ],
   "source": [
    "idx_outs = find_outliers_z(data['Experimental'])\n",
    "idx_outs"
   ]
  },
  {
   "cell_type": "code",
   "execution_count": 87,
   "metadata": {
    "ExecuteTime": {
     "end_time": "2020-08-18T16:52:59.039246Z",
     "start_time": "2020-08-18T16:52:59.033668Z"
    }
   },
   "outputs": [
    {
     "data": {
      "text/plain": [
       "Mouse_ID\n",
       "5     619.75\n",
       "6     808.75\n",
       "7     588.00\n",
       "8     106.00\n",
       "9     268.75\n",
       "10    640.75\n",
       "11    623.00\n",
       "16    647.25\n",
       "17    582.75\n",
       "18    780.50\n",
       "19    575.00\n",
       "20     85.25\n",
       "21    504.75\n",
       "dtype: float64"
      ]
     },
     "execution_count": 87,
     "metadata": {},
     "output_type": "execute_result"
    }
   ],
   "source": [
    "data['Experimental'][~idx_outs]"
   ]
  },
  {
   "cell_type": "markdown",
   "metadata": {},
   "source": [
    "### Getting Group Data For EDA & Testing"
   ]
  },
  {
   "cell_type": "code",
   "execution_count": 88,
   "metadata": {
    "ExecuteTime": {
     "end_time": "2020-08-18T16:53:00.203052Z",
     "start_time": "2020-08-18T16:53:00.178803Z"
    }
   },
   "outputs": [
    {
     "name": "stderr",
     "output_type": "stream",
     "text": [
      "/Users/jamesirving/.local/lib/python3.6/site-packages/scipy/stats/stats.py:1604: UserWarning:\n",
      "\n",
      "kurtosistest only valid for n>=20 ... continuing anyway, n=9\n",
      "\n",
      "/Users/jamesirving/.local/lib/python3.6/site-packages/scipy/stats/stats.py:1604: UserWarning:\n",
      "\n",
      "kurtosistest only valid for n>=20 ... continuing anyway, n=13\n",
      "\n"
     ]
    },
    {
     "data": {
      "text/html": [
       "<div>\n",
       "<style scoped>\n",
       "    .dataframe tbody tr th:only-of-type {\n",
       "        vertical-align: middle;\n",
       "    }\n",
       "\n",
       "    .dataframe tbody tr th {\n",
       "        vertical-align: top;\n",
       "    }\n",
       "\n",
       "    .dataframe thead th {\n",
       "        text-align: right;\n",
       "    }\n",
       "</style>\n",
       "<table border=\"1\" class=\"dataframe\">\n",
       "  <thead>\n",
       "    <tr style=\"text-align: right;\">\n",
       "      <th></th>\n",
       "      <th>Group</th>\n",
       "      <th>Assumption</th>\n",
       "      <th>n</th>\n",
       "      <th>p</th>\n",
       "      <th>p&lt;.05</th>\n",
       "    </tr>\n",
       "  </thead>\n",
       "  <tbody>\n",
       "    <tr>\n",
       "      <th>0</th>\n",
       "      <td>Control</td>\n",
       "      <td>Normality</td>\n",
       "      <td>9</td>\n",
       "      <td>0.140</td>\n",
       "      <td>False</td>\n",
       "    </tr>\n",
       "    <tr>\n",
       "      <th>1</th>\n",
       "      <td>Experimental</td>\n",
       "      <td>Normality</td>\n",
       "      <td>13</td>\n",
       "      <td>0.215</td>\n",
       "      <td>False</td>\n",
       "    </tr>\n",
       "    <tr>\n",
       "      <th>2</th>\n",
       "      <td>All</td>\n",
       "      <td>Equal Variance</td>\n",
       "      <td>-</td>\n",
       "      <td>0.323</td>\n",
       "      <td>False</td>\n",
       "    </tr>\n",
       "  </tbody>\n",
       "</table>\n",
       "</div>"
      ],
      "text/plain": [
       "          Group      Assumption   n      p  p<.05\n",
       "0       Control       Normality   9  0.140  False\n",
       "1  Experimental       Normality  13  0.215  False\n",
       "2           All  Equal Variance   -  0.323  False"
      ]
     },
     "execution_count": 88,
     "metadata": {},
     "output_type": "execute_result"
    }
   ],
   "source": [
    "results = [['Group','Assumption','n','p','p<.05']]\n",
    "\n",
    "test_equal_var = []\n",
    "for grp, grp_df in clean_data.items():\n",
    "    \n",
    "    test_equal_var.append(grp_df)\n",
    "    stat,p = stats.normaltest(grp_df)\n",
    "    \n",
    "    results.append([grp, 'Normality', len(grp_df),p, p<.05])\n",
    "\n",
    "stat,p = stats.levene(*test_equal_var)\n",
    "results.append(['All','Equal Variance','-',p, p<.05])\n",
    "\n",
    "    \n",
    "\n",
    "res_df = pd.DataFrame(results[1:],columns=results[0])\n",
    "res_df"
   ]
  },
  {
   "cell_type": "code",
   "execution_count": 89,
   "metadata": {
    "ExecuteTime": {
     "end_time": "2020-08-18T16:53:03.219085Z",
     "start_time": "2020-08-18T16:53:03.213759Z"
    }
   },
   "outputs": [
    {
     "data": {
      "text/plain": [
       "0.02788240296608544"
      ]
     },
     "execution_count": 89,
     "metadata": {},
     "output_type": "execute_result"
    }
   ],
   "source": [
    "tstats,tp = stats.ttest_ind(*test_equal_var)\n",
    "tp"
   ]
  },
  {
   "cell_type": "code",
   "execution_count": 90,
   "metadata": {
    "ExecuteTime": {
     "end_time": "2020-08-18T16:53:04.367485Z",
     "start_time": "2020-08-18T16:53:04.362883Z"
    }
   },
   "outputs": [
    {
     "data": {
      "text/plain": [
       "0.009713562803228349"
      ]
     },
     "execution_count": 90,
     "metadata": {},
     "output_type": "execute_result"
    }
   ],
   "source": [
    "ustat,up = stats.mannwhitneyu(*test_equal_var)\n",
    "up"
   ]
  },
  {
   "cell_type": "code",
   "execution_count": 78,
   "metadata": {
    "ExecuteTime": {
     "end_time": "2020-08-18T16:52:11.907344Z",
     "start_time": "2020-08-18T16:52:11.750198Z"
    }
   },
   "outputs": [
    {
     "data": {
      "text/plain": [
       "<BarContainer object of 1 artists>"
      ]
     },
     "execution_count": 78,
     "metadata": {},
     "output_type": "execute_result"
    },
    {
     "data": {
      "image/png": "[encoded data removed]",
      "text/plain": [
       "<Figure size 576x396 with 1 Axes>"
      ]
     },
     "metadata": {
      "needs_background": "light"
     },
     "output_type": "display_data"
    }
   ],
   "source": [
    "plt.bar('Contol',data['Control'].mean(),yerr= stats.sem(data['Control']))\n",
    "plt.bar('Experimental',data['Experimental'].mean(),yerr= stats.sem(data['Experimental']))"
   ]
  },
  {
   "cell_type": "code",
   "execution_count": 92,
   "metadata": {
    "ExecuteTime": {
     "end_time": "2020-08-18T16:56:07.010891Z",
     "start_time": "2020-08-18T16:56:06.968285Z"
    }
   },
   "outputs": [
    {
     "data": {
      "text/html": [
       "<div>\n",
       "<style scoped>\n",
       "    .dataframe tbody tr th:only-of-type {\n",
       "        vertical-align: middle;\n",
       "    }\n",
       "\n",
       "    .dataframe tbody tr th {\n",
       "        vertical-align: top;\n",
       "    }\n",
       "\n",
       "    .dataframe thead th {\n",
       "        text-align: right;\n",
       "    }\n",
       "</style>\n",
       "<table border=\"1\" class=\"dataframe\">\n",
       "  <thead>\n",
       "    <tr style=\"text-align: right;\">\n",
       "      <th></th>\n",
       "      <th>Mouse_ID</th>\n",
       "      <th>Group</th>\n",
       "      <th>BL1</th>\n",
       "      <th>BL2</th>\n",
       "      <th>BL3</th>\n",
       "      <th>BL4</th>\n",
       "      <th>S1</th>\n",
       "      <th>S2</th>\n",
       "      <th>S3</th>\n",
       "      <th>S4</th>\n",
       "      <th>PS1</th>\n",
       "      <th>PS2</th>\n",
       "      <th>PS3</th>\n",
       "      <th>PS4</th>\n",
       "      <th>R1_1</th>\n",
       "      <th>R1_2</th>\n",
       "      <th>R1_3</th>\n",
       "      <th>R1_4</th>\n",
       "      <th>R2_1</th>\n",
       "      <th>R2_2</th>\n",
       "      <th>R2_3</th>\n",
       "      <th>R2_4</th>\n",
       "    </tr>\n",
       "  </thead>\n",
       "  <tbody>\n",
       "    <tr>\n",
       "      <th>0</th>\n",
       "      <td>1</td>\n",
       "      <td>Control</td>\n",
       "      <td>665</td>\n",
       "      <td>863</td>\n",
       "      <td>631</td>\n",
       "      <td>629</td>\n",
       "      <td>583</td>\n",
       "      <td>801</td>\n",
       "      <td>723</td>\n",
       "      <td>707</td>\n",
       "      <td>732</td>\n",
       "      <td>680</td>\n",
       "      <td>684</td>\n",
       "      <td>485</td>\n",
       "      <td>65</td>\n",
       "      <td>301</td>\n",
       "      <td>351</td>\n",
       "      <td>441</td>\n",
       "      <td>675</td>\n",
       "      <td>554</td>\n",
       "      <td>541</td>\n",
       "      <td>545</td>\n",
       "    </tr>\n",
       "    <tr>\n",
       "      <th>1</th>\n",
       "      <td>2</td>\n",
       "      <td>Control</td>\n",
       "      <td>859</td>\n",
       "      <td>849</td>\n",
       "      <td>685</td>\n",
       "      <td>731</td>\n",
       "      <td>854</td>\n",
       "      <td>1103</td>\n",
       "      <td>645</td>\n",
       "      <td>633</td>\n",
       "      <td>733</td>\n",
       "      <td>662</td>\n",
       "      <td>605</td>\n",
       "      <td>623</td>\n",
       "      <td>128</td>\n",
       "      <td>268</td>\n",
       "      <td>462</td>\n",
       "      <td>569</td>\n",
       "      <td>988</td>\n",
       "      <td>728</td>\n",
       "      <td>933</td>\n",
       "      <td>564</td>\n",
       "    </tr>\n",
       "    <tr>\n",
       "      <th>2</th>\n",
       "      <td>3</td>\n",
       "      <td>Control</td>\n",
       "      <td>589</td>\n",
       "      <td>507</td>\n",
       "      <td>635</td>\n",
       "      <td>902</td>\n",
       "      <td>699</td>\n",
       "      <td>743</td>\n",
       "      <td>761</td>\n",
       "      <td>949</td>\n",
       "      <td>872</td>\n",
       "      <td>952</td>\n",
       "      <td>828</td>\n",
       "      <td>806</td>\n",
       "      <td>129</td>\n",
       "      <td>311</td>\n",
       "      <td>669</td>\n",
       "      <td>666</td>\n",
       "      <td>516</td>\n",
       "      <td>579</td>\n",
       "      <td>913</td>\n",
       "      <td>736</td>\n",
       "    </tr>\n",
       "    <tr>\n",
       "      <th>3</th>\n",
       "      <td>4</td>\n",
       "      <td>Control</td>\n",
       "      <td>939</td>\n",
       "      <td>909</td>\n",
       "      <td>850</td>\n",
       "      <td>756</td>\n",
       "      <td>807</td>\n",
       "      <td>617</td>\n",
       "      <td>526</td>\n",
       "      <td>736</td>\n",
       "      <td>743</td>\n",
       "      <td>625</td>\n",
       "      <td>690</td>\n",
       "      <td>759</td>\n",
       "      <td>281</td>\n",
       "      <td>357</td>\n",
       "      <td>386</td>\n",
       "      <td>585</td>\n",
       "      <td>565</td>\n",
       "      <td>550</td>\n",
       "      <td>806</td>\n",
       "      <td>732</td>\n",
       "    </tr>\n",
       "    <tr>\n",
       "      <th>4</th>\n",
       "      <td>5</td>\n",
       "      <td>Experimental</td>\n",
       "      <td>710</td>\n",
       "      <td>505</td>\n",
       "      <td>494</td>\n",
       "      <td>596</td>\n",
       "      <td>620</td>\n",
       "      <td>589</td>\n",
       "      <td>676</td>\n",
       "      <td>537</td>\n",
       "      <td>779</td>\n",
       "      <td>537</td>\n",
       "      <td>581</td>\n",
       "      <td>515</td>\n",
       "      <td>477</td>\n",
       "      <td>659</td>\n",
       "      <td>737</td>\n",
       "      <td>606</td>\n",
       "      <td>713</td>\n",
       "      <td>682</td>\n",
       "      <td>709</td>\n",
       "      <td>759</td>\n",
       "    </tr>\n",
       "    <tr>\n",
       "      <th>5</th>\n",
       "      <td>6</td>\n",
       "      <td>Experimental</td>\n",
       "      <td>564</td>\n",
       "      <td>808</td>\n",
       "      <td>589</td>\n",
       "      <td>596</td>\n",
       "      <td>591</td>\n",
       "      <td>580</td>\n",
       "      <td>419</td>\n",
       "      <td>463</td>\n",
       "      <td>707</td>\n",
       "      <td>625</td>\n",
       "      <td>547</td>\n",
       "      <td>595</td>\n",
       "      <td>532</td>\n",
       "      <td>951</td>\n",
       "      <td>901</td>\n",
       "      <td>851</td>\n",
       "      <td>807</td>\n",
       "      <td>858</td>\n",
       "      <td>802</td>\n",
       "      <td>803</td>\n",
       "    </tr>\n",
       "    <tr>\n",
       "      <th>6</th>\n",
       "      <td>7</td>\n",
       "      <td>Experimental</td>\n",
       "      <td>722</td>\n",
       "      <td>732</td>\n",
       "      <td>783</td>\n",
       "      <td>946</td>\n",
       "      <td>882</td>\n",
       "      <td>723</td>\n",
       "      <td>764</td>\n",
       "      <td>892</td>\n",
       "      <td>621</td>\n",
       "      <td>764</td>\n",
       "      <td>720</td>\n",
       "      <td>478</td>\n",
       "      <td>297</td>\n",
       "      <td>558</td>\n",
       "      <td>803</td>\n",
       "      <td>694</td>\n",
       "      <td>855</td>\n",
       "      <td>797</td>\n",
       "      <td>938</td>\n",
       "      <td>878</td>\n",
       "    </tr>\n",
       "    <tr>\n",
       "      <th>7</th>\n",
       "      <td>8</td>\n",
       "      <td>Experimental</td>\n",
       "      <td>497</td>\n",
       "      <td>649</td>\n",
       "      <td>586</td>\n",
       "      <td>506</td>\n",
       "      <td>546</td>\n",
       "      <td>493</td>\n",
       "      <td>456</td>\n",
       "      <td>601</td>\n",
       "      <td>437</td>\n",
       "      <td>462</td>\n",
       "      <td>704</td>\n",
       "      <td>498</td>\n",
       "      <td>10</td>\n",
       "      <td>44</td>\n",
       "      <td>86</td>\n",
       "      <td>284</td>\n",
       "      <td>212</td>\n",
       "      <td>133</td>\n",
       "      <td>141</td>\n",
       "      <td>274</td>\n",
       "    </tr>\n",
       "    <tr>\n",
       "      <th>8</th>\n",
       "      <td>9</td>\n",
       "      <td>Experimental</td>\n",
       "      <td>741</td>\n",
       "      <td>668</td>\n",
       "      <td>778</td>\n",
       "      <td>638</td>\n",
       "      <td>759</td>\n",
       "      <td>791</td>\n",
       "      <td>568</td>\n",
       "      <td>664</td>\n",
       "      <td>390</td>\n",
       "      <td>346</td>\n",
       "      <td>773</td>\n",
       "      <td>682</td>\n",
       "      <td>3</td>\n",
       "      <td>212</td>\n",
       "      <td>417</td>\n",
       "      <td>443</td>\n",
       "      <td>486</td>\n",
       "      <td>444</td>\n",
       "      <td>533</td>\n",
       "      <td>578</td>\n",
       "    </tr>\n",
       "    <tr>\n",
       "      <th>9</th>\n",
       "      <td>10</td>\n",
       "      <td>Experimental</td>\n",
       "      <td>953</td>\n",
       "      <td>988</td>\n",
       "      <td>579</td>\n",
       "      <td>706</td>\n",
       "      <td>1106</td>\n",
       "      <td>812</td>\n",
       "      <td>902</td>\n",
       "      <td>835</td>\n",
       "      <td>829</td>\n",
       "      <td>801</td>\n",
       "      <td>1011</td>\n",
       "      <td>919</td>\n",
       "      <td>274</td>\n",
       "      <td>559</td>\n",
       "      <td>840</td>\n",
       "      <td>890</td>\n",
       "      <td>724</td>\n",
       "      <td>793</td>\n",
       "      <td>559</td>\n",
       "      <td>700</td>\n",
       "    </tr>\n",
       "    <tr>\n",
       "      <th>10</th>\n",
       "      <td>11</td>\n",
       "      <td>Experimental</td>\n",
       "      <td>753</td>\n",
       "      <td>613</td>\n",
       "      <td>573</td>\n",
       "      <td>642</td>\n",
       "      <td>820</td>\n",
       "      <td>752</td>\n",
       "      <td>759</td>\n",
       "      <td>564</td>\n",
       "      <td>635</td>\n",
       "      <td>641</td>\n",
       "      <td>706</td>\n",
       "      <td>763</td>\n",
       "      <td>287</td>\n",
       "      <td>526</td>\n",
       "      <td>841</td>\n",
       "      <td>838</td>\n",
       "      <td>691</td>\n",
       "      <td>657</td>\n",
       "      <td>680</td>\n",
       "      <td>781</td>\n",
       "    </tr>\n",
       "    <tr>\n",
       "      <th>11</th>\n",
       "      <td>12</td>\n",
       "      <td>Control</td>\n",
       "      <td>494</td>\n",
       "      <td>602</td>\n",
       "      <td>570</td>\n",
       "      <td>530</td>\n",
       "      <td>570</td>\n",
       "      <td>396</td>\n",
       "      <td>403</td>\n",
       "      <td>380</td>\n",
       "      <td>362</td>\n",
       "      <td>467</td>\n",
       "      <td>491</td>\n",
       "      <td>557</td>\n",
       "      <td>98</td>\n",
       "      <td>262</td>\n",
       "      <td>344</td>\n",
       "      <td>388</td>\n",
       "      <td>435</td>\n",
       "      <td>551</td>\n",
       "      <td>552</td>\n",
       "      <td>537</td>\n",
       "    </tr>\n",
       "    <tr>\n",
       "      <th>12</th>\n",
       "      <td>13</td>\n",
       "      <td>Control</td>\n",
       "      <td>587</td>\n",
       "      <td>630</td>\n",
       "      <td>564</td>\n",
       "      <td>627</td>\n",
       "      <td>572</td>\n",
       "      <td>419</td>\n",
       "      <td>369</td>\n",
       "      <td>416</td>\n",
       "      <td>403</td>\n",
       "      <td>552</td>\n",
       "      <td>575</td>\n",
       "      <td>589</td>\n",
       "      <td>172</td>\n",
       "      <td>298</td>\n",
       "      <td>422</td>\n",
       "      <td>596</td>\n",
       "      <td>447</td>\n",
       "      <td>589</td>\n",
       "      <td>463</td>\n",
       "      <td>364</td>\n",
       "    </tr>\n",
       "    <tr>\n",
       "      <th>13</th>\n",
       "      <td>14</td>\n",
       "      <td>Control</td>\n",
       "      <td>917</td>\n",
       "      <td>680</td>\n",
       "      <td>737</td>\n",
       "      <td>596</td>\n",
       "      <td>699</td>\n",
       "      <td>484</td>\n",
       "      <td>452</td>\n",
       "      <td>438</td>\n",
       "      <td>547</td>\n",
       "      <td>729</td>\n",
       "      <td>830</td>\n",
       "      <td>411</td>\n",
       "      <td>71</td>\n",
       "      <td>386</td>\n",
       "      <td>581</td>\n",
       "      <td>832</td>\n",
       "      <td>586</td>\n",
       "      <td>610</td>\n",
       "      <td>634</td>\n",
       "      <td>716</td>\n",
       "    </tr>\n",
       "    <tr>\n",
       "      <th>14</th>\n",
       "      <td>15</td>\n",
       "      <td>Control</td>\n",
       "      <td>440</td>\n",
       "      <td>767</td>\n",
       "      <td>642</td>\n",
       "      <td>623</td>\n",
       "      <td>532</td>\n",
       "      <td>663</td>\n",
       "      <td>601</td>\n",
       "      <td>553</td>\n",
       "      <td>315</td>\n",
       "      <td>434</td>\n",
       "      <td>543</td>\n",
       "      <td>619</td>\n",
       "      <td>115</td>\n",
       "      <td>101</td>\n",
       "      <td>356</td>\n",
       "      <td>457</td>\n",
       "      <td>412</td>\n",
       "      <td>582</td>\n",
       "      <td>549</td>\n",
       "      <td>696</td>\n",
       "    </tr>\n",
       "    <tr>\n",
       "      <th>15</th>\n",
       "      <td>16</td>\n",
       "      <td>Experimental</td>\n",
       "      <td>715</td>\n",
       "      <td>469</td>\n",
       "      <td>392</td>\n",
       "      <td>333</td>\n",
       "      <td>492</td>\n",
       "      <td>594</td>\n",
       "      <td>695</td>\n",
       "      <td>568</td>\n",
       "      <td>916</td>\n",
       "      <td>675</td>\n",
       "      <td>669</td>\n",
       "      <td>895</td>\n",
       "      <td>98</td>\n",
       "      <td>558</td>\n",
       "      <td>977</td>\n",
       "      <td>956</td>\n",
       "      <td>974</td>\n",
       "      <td>1049</td>\n",
       "      <td>1366</td>\n",
       "      <td>942</td>\n",
       "    </tr>\n",
       "    <tr>\n",
       "      <th>16</th>\n",
       "      <td>17</td>\n",
       "      <td>Experimental</td>\n",
       "      <td>184</td>\n",
       "      <td>250</td>\n",
       "      <td>373</td>\n",
       "      <td>457</td>\n",
       "      <td>505</td>\n",
       "      <td>475</td>\n",
       "      <td>519</td>\n",
       "      <td>578</td>\n",
       "      <td>542</td>\n",
       "      <td>477</td>\n",
       "      <td>601</td>\n",
       "      <td>390</td>\n",
       "      <td>131</td>\n",
       "      <td>656</td>\n",
       "      <td>845</td>\n",
       "      <td>699</td>\n",
       "      <td>494</td>\n",
       "      <td>920</td>\n",
       "      <td>431</td>\n",
       "      <td>521</td>\n",
       "    </tr>\n",
       "    <tr>\n",
       "      <th>17</th>\n",
       "      <td>18</td>\n",
       "      <td>Experimental</td>\n",
       "      <td>934</td>\n",
       "      <td>1237</td>\n",
       "      <td>354</td>\n",
       "      <td>705</td>\n",
       "      <td>646</td>\n",
       "      <td>619</td>\n",
       "      <td>885</td>\n",
       "      <td>626</td>\n",
       "      <td>496</td>\n",
       "      <td>954</td>\n",
       "      <td>718</td>\n",
       "      <td>821</td>\n",
       "      <td>170</td>\n",
       "      <td>909</td>\n",
       "      <td>1049</td>\n",
       "      <td>994</td>\n",
       "      <td>675</td>\n",
       "      <td>803</td>\n",
       "      <td>866</td>\n",
       "      <td>880</td>\n",
       "    </tr>\n",
       "    <tr>\n",
       "      <th>18</th>\n",
       "      <td>19</td>\n",
       "      <td>Experimental</td>\n",
       "      <td>578</td>\n",
       "      <td>548</td>\n",
       "      <td>556</td>\n",
       "      <td>479</td>\n",
       "      <td>533</td>\n",
       "      <td>721</td>\n",
       "      <td>651</td>\n",
       "      <td>546</td>\n",
       "      <td>537</td>\n",
       "      <td>564</td>\n",
       "      <td>519</td>\n",
       "      <td>446</td>\n",
       "      <td>601</td>\n",
       "      <td>565</td>\n",
       "      <td>450</td>\n",
       "      <td>684</td>\n",
       "      <td>1675</td>\n",
       "      <td>976</td>\n",
       "      <td>1249</td>\n",
       "      <td>1047</td>\n",
       "    </tr>\n",
       "    <tr>\n",
       "      <th>19</th>\n",
       "      <td>20</td>\n",
       "      <td>Experimental</td>\n",
       "      <td>400</td>\n",
       "      <td>193</td>\n",
       "      <td>188</td>\n",
       "      <td>350</td>\n",
       "      <td>232</td>\n",
       "      <td>34</td>\n",
       "      <td>65</td>\n",
       "      <td>158</td>\n",
       "      <td>89</td>\n",
       "      <td>175</td>\n",
       "      <td>186</td>\n",
       "      <td>319</td>\n",
       "      <td>14</td>\n",
       "      <td>60</td>\n",
       "      <td>118</td>\n",
       "      <td>149</td>\n",
       "      <td>133</td>\n",
       "      <td>270</td>\n",
       "      <td>472</td>\n",
       "      <td>293</td>\n",
       "    </tr>\n",
       "    <tr>\n",
       "      <th>20</th>\n",
       "      <td>21</td>\n",
       "      <td>Experimental</td>\n",
       "      <td>448</td>\n",
       "      <td>221</td>\n",
       "      <td>505</td>\n",
       "      <td>459</td>\n",
       "      <td>483</td>\n",
       "      <td>491</td>\n",
       "      <td>394</td>\n",
       "      <td>673</td>\n",
       "      <td>593</td>\n",
       "      <td>444</td>\n",
       "      <td>430</td>\n",
       "      <td>630</td>\n",
       "      <td>176</td>\n",
       "      <td>611</td>\n",
       "      <td>680</td>\n",
       "      <td>552</td>\n",
       "      <td>652</td>\n",
       "      <td>879</td>\n",
       "      <td>990</td>\n",
       "      <td>900</td>\n",
       "    </tr>\n",
       "    <tr>\n",
       "      <th>21</th>\n",
       "      <td>22</td>\n",
       "      <td>Control</td>\n",
       "      <td>270</td>\n",
       "      <td>132</td>\n",
       "      <td>250</td>\n",
       "      <td>192</td>\n",
       "      <td>364</td>\n",
       "      <td>229</td>\n",
       "      <td>219</td>\n",
       "      <td>329</td>\n",
       "      <td>120</td>\n",
       "      <td>147</td>\n",
       "      <td>186</td>\n",
       "      <td>337</td>\n",
       "      <td>8</td>\n",
       "      <td>70</td>\n",
       "      <td>18</td>\n",
       "      <td>175</td>\n",
       "      <td>232</td>\n",
       "      <td>238</td>\n",
       "      <td>209</td>\n",
       "      <td>200</td>\n",
       "    </tr>\n",
       "  </tbody>\n",
       "</table>\n",
       "</div>"
      ],
      "text/plain": [
       "    Mouse_ID         Group  BL1   BL2  BL3  BL4    S1    S2   S3   S4  PS1  PS2   PS3  PS4  R1_1  R1_2  R1_3  R1_4  R2_1  R2_2  R2_3  R2_4\n",
       "0          1       Control  665   863  631  629   583   801  723  707  732  680   684  485    65   301   351   441   675   554   541   545\n",
       "1          2       Control  859   849  685  731   854  1103  645  633  733  662   605  623   128   268   462   569   988   728   933   564\n",
       "2          3       Control  589   507  635  902   699   743  761  949  872  952   828  806   129   311   669   666   516   579   913   736\n",
       "3          4       Control  939   909  850  756   807   617  526  736  743  625   690  759   281   357   386   585   565   550   806   732\n",
       "4          5  Experimental  710   505  494  596   620   589  676  537  779  537   581  515   477   659   737   606   713   682   709   759\n",
       "5          6  Experimental  564   808  589  596   591   580  419  463  707  625   547  595   532   951   901   851   807   858   802   803\n",
       "6          7  Experimental  722   732  783  946   882   723  764  892  621  764   720  478   297   558   803   694   855   797   938   878\n",
       "7          8  Experimental  497   649  586  506   546   493  456  601  437  462   704  498    10    44    86   284   212   133   141   274\n",
       "8          9  Experimental  741   668  778  638   759   791  568  664  390  346   773  682     3   212   417   443   486   444   533   578\n",
       "9         10  Experimental  953   988  579  706  1106   812  902  835  829  801  1011  919   274   559   840   890   724   793   559   700\n",
       "10        11  Experimental  753   613  573  642   820   752  759  564  635  641   706  763   287   526   841   838   691   657   680   781\n",
       "11        12       Control  494   602  570  530   570   396  403  380  362  467   491  557    98   262   344   388   435   551   552   537\n",
       "12        13       Control  587   630  564  627   572   419  369  416  403  552   575  589   172   298   422   596   447   589   463   364\n",
       "13        14       Control  917   680  737  596   699   484  452  438  547  729   830  411    71   386   581   832   586   610   634   716\n",
       "14        15       Control  440   767  642  623   532   663  601  553  315  434   543  619   115   101   356   457   412   582   549   696\n",
       "15        16  Experimental  715   469  392  333   492   594  695  568  916  675   669  895    98   558   977   956   974  1049  1366   942\n",
       "16        17  Experimental  184   250  373  457   505   475  519  578  542  477   601  390   131   656   845   699   494   920   431   521\n",
       "17        18  Experimental  934  1237  354  705   646   619  885  626  496  954   718  821   170   909  1049   994   675   803   866   880\n",
       "18        19  Experimental  578   548  556  479   533   721  651  546  537  564   519  446   601   565   450   684  1675   976  1249  1047\n",
       "19        20  Experimental  400   193  188  350   232    34   65  158   89  175   186  319    14    60   118   149   133   270   472   293\n",
       "20        21  Experimental  448   221  505  459   483   491  394  673  593  444   430  630   176   611   680   552   652   879   990   900\n",
       "21        22       Control  270   132  250  192   364   229  219  329  120  147   186  337     8    70    18   175   232   238   209   200"
      ]
     },
     "execution_count": 92,
     "metadata": {},
     "output_type": "execute_result"
    }
   ],
   "source": [
    "df.reset_index(drop=False,inplace=True)\n",
    "df"
   ]
  },
  {
   "cell_type": "markdown",
   "metadata": {},
   "source": [
    "### Plotting Group Means + Standard Error of the Mean"
   ]
  },
  {
   "cell_type": "code",
   "execution_count": 96,
   "metadata": {
    "ExecuteTime": {
     "end_time": "2020-08-18T16:57:15.651123Z",
     "start_time": "2020-08-18T16:57:15.624203Z"
    }
   },
   "outputs": [
    {
     "data": {
      "text/html": [
       "<div>\n",
       "<style scoped>\n",
       "    .dataframe tbody tr th:only-of-type {\n",
       "        vertical-align: middle;\n",
       "    }\n",
       "\n",
       "    .dataframe tbody tr th {\n",
       "        vertical-align: top;\n",
       "    }\n",
       "\n",
       "    .dataframe thead th {\n",
       "        text-align: right;\n",
       "    }\n",
       "</style>\n",
       "<table border=\"1\" class=\"dataframe\">\n",
       "  <thead>\n",
       "    <tr style=\"text-align: right;\">\n",
       "      <th></th>\n",
       "      <th>Mouse_ID</th>\n",
       "      <th>Group</th>\n",
       "      <th>Day</th>\n",
       "      <th>Licks</th>\n",
       "    </tr>\n",
       "  </thead>\n",
       "  <tbody>\n",
       "    <tr>\n",
       "      <th>0</th>\n",
       "      <td>1</td>\n",
       "      <td>Control</td>\n",
       "      <td>BL1</td>\n",
       "      <td>665</td>\n",
       "    </tr>\n",
       "    <tr>\n",
       "      <th>1</th>\n",
       "      <td>2</td>\n",
       "      <td>Control</td>\n",
       "      <td>BL1</td>\n",
       "      <td>859</td>\n",
       "    </tr>\n",
       "    <tr>\n",
       "      <th>2</th>\n",
       "      <td>3</td>\n",
       "      <td>Control</td>\n",
       "      <td>BL1</td>\n",
       "      <td>589</td>\n",
       "    </tr>\n",
       "    <tr>\n",
       "      <th>3</th>\n",
       "      <td>4</td>\n",
       "      <td>Control</td>\n",
       "      <td>BL1</td>\n",
       "      <td>939</td>\n",
       "    </tr>\n",
       "    <tr>\n",
       "      <th>4</th>\n",
       "      <td>5</td>\n",
       "      <td>Experimental</td>\n",
       "      <td>BL1</td>\n",
       "      <td>710</td>\n",
       "    </tr>\n",
       "    <tr>\n",
       "      <th>...</th>\n",
       "      <td>...</td>\n",
       "      <td>...</td>\n",
       "      <td>...</td>\n",
       "      <td>...</td>\n",
       "    </tr>\n",
       "    <tr>\n",
       "      <th>435</th>\n",
       "      <td>18</td>\n",
       "      <td>Experimental</td>\n",
       "      <td>R2_4</td>\n",
       "      <td>880</td>\n",
       "    </tr>\n",
       "    <tr>\n",
       "      <th>436</th>\n",
       "      <td>19</td>\n",
       "      <td>Experimental</td>\n",
       "      <td>R2_4</td>\n",
       "      <td>1047</td>\n",
       "    </tr>\n",
       "    <tr>\n",
       "      <th>437</th>\n",
       "      <td>20</td>\n",
       "      <td>Experimental</td>\n",
       "      <td>R2_4</td>\n",
       "      <td>293</td>\n",
       "    </tr>\n",
       "    <tr>\n",
       "      <th>438</th>\n",
       "      <td>21</td>\n",
       "      <td>Experimental</td>\n",
       "      <td>R2_4</td>\n",
       "      <td>900</td>\n",
       "    </tr>\n",
       "    <tr>\n",
       "      <th>439</th>\n",
       "      <td>22</td>\n",
       "      <td>Control</td>\n",
       "      <td>R2_4</td>\n",
       "      <td>200</td>\n",
       "    </tr>\n",
       "  </tbody>\n",
       "</table>\n",
       "<p>440 rows × 4 columns</p>\n",
       "</div>"
      ],
      "text/plain": [
       "     Mouse_ID         Group   Day  Licks\n",
       "0           1       Control   BL1    665\n",
       "1           2       Control   BL1    859\n",
       "2           3       Control   BL1    589\n",
       "3           4       Control   BL1    939\n",
       "4           5  Experimental   BL1    710\n",
       "..        ...           ...   ...    ...\n",
       "435        18  Experimental  R2_4    880\n",
       "436        19  Experimental  R2_4   1047\n",
       "437        20  Experimental  R2_4    293\n",
       "438        21  Experimental  R2_4    900\n",
       "439        22       Control  R2_4    200\n",
       "\n",
       "[440 rows x 4 columns]"
      ]
     },
     "execution_count": 96,
     "metadata": {},
     "output_type": "execute_result"
    }
   ],
   "source": [
    "df2 = pd.melt(df, id_vars=['Mouse_ID','Group'], value_name='Licks',var_name='Day')\n",
    "df2"
   ]
  },
  {
   "cell_type": "code",
   "execution_count": 97,
   "metadata": {
    "ExecuteTime": {
     "end_time": "2020-08-18T16:57:24.264070Z",
     "start_time": "2020-08-18T16:57:24.259882Z"
    }
   },
   "outputs": [
    {
     "data": {
      "text/plain": [
       "{'BL1': 'BL',\n",
       " 'BL2': 'BL',\n",
       " 'BL3': 'BL',\n",
       " 'BL4': 'BL',\n",
       " 'S1': 'S',\n",
       " 'S2': 'S',\n",
       " 'S3': 'S',\n",
       " 'S4': 'S',\n",
       " 'PS1': 'PS',\n",
       " 'PS2': 'PS',\n",
       " 'PS3': 'PS',\n",
       " 'PS4': 'PS',\n",
       " 'R1_1': 'R1',\n",
       " 'R1_2': 'R1',\n",
       " 'R1_3': 'R1',\n",
       " 'R1_4': 'R1',\n",
       " 'R2_1': 'R2',\n",
       " 'R2_2': 'R2',\n",
       " 'R2_3': 'R2',\n",
       " 'R2_4': 'R2'}"
      ]
     },
     "execution_count": 97,
     "metadata": {},
     "output_type": "execute_result"
    }
   ],
   "source": [
    "phase_dict"
   ]
  },
  {
   "cell_type": "code",
   "execution_count": 99,
   "metadata": {
    "ExecuteTime": {
     "end_time": "2020-08-18T16:57:51.066674Z",
     "start_time": "2020-08-18T16:57:51.041997Z"
    }
   },
   "outputs": [
    {
     "data": {
      "text/html": [
       "<div>\n",
       "<style scoped>\n",
       "    .dataframe tbody tr th:only-of-type {\n",
       "        vertical-align: middle;\n",
       "    }\n",
       "\n",
       "    .dataframe tbody tr th {\n",
       "        vertical-align: top;\n",
       "    }\n",
       "\n",
       "    .dataframe thead th {\n",
       "        text-align: right;\n",
       "    }\n",
       "</style>\n",
       "<table border=\"1\" class=\"dataframe\">\n",
       "  <thead>\n",
       "    <tr style=\"text-align: right;\">\n",
       "      <th></th>\n",
       "      <th>Mouse_ID</th>\n",
       "      <th>Group</th>\n",
       "      <th>Day</th>\n",
       "      <th>Licks</th>\n",
       "      <th>Phase</th>\n",
       "    </tr>\n",
       "  </thead>\n",
       "  <tbody>\n",
       "    <tr>\n",
       "      <th>0</th>\n",
       "      <td>1</td>\n",
       "      <td>Control</td>\n",
       "      <td>BL1</td>\n",
       "      <td>665</td>\n",
       "      <td>BL</td>\n",
       "    </tr>\n",
       "    <tr>\n",
       "      <th>1</th>\n",
       "      <td>2</td>\n",
       "      <td>Control</td>\n",
       "      <td>BL1</td>\n",
       "      <td>859</td>\n",
       "      <td>BL</td>\n",
       "    </tr>\n",
       "    <tr>\n",
       "      <th>2</th>\n",
       "      <td>3</td>\n",
       "      <td>Control</td>\n",
       "      <td>BL1</td>\n",
       "      <td>589</td>\n",
       "      <td>BL</td>\n",
       "    </tr>\n",
       "    <tr>\n",
       "      <th>3</th>\n",
       "      <td>4</td>\n",
       "      <td>Control</td>\n",
       "      <td>BL1</td>\n",
       "      <td>939</td>\n",
       "      <td>BL</td>\n",
       "    </tr>\n",
       "    <tr>\n",
       "      <th>4</th>\n",
       "      <td>5</td>\n",
       "      <td>Experimental</td>\n",
       "      <td>BL1</td>\n",
       "      <td>710</td>\n",
       "      <td>BL</td>\n",
       "    </tr>\n",
       "    <tr>\n",
       "      <th>...</th>\n",
       "      <td>...</td>\n",
       "      <td>...</td>\n",
       "      <td>...</td>\n",
       "      <td>...</td>\n",
       "      <td>...</td>\n",
       "    </tr>\n",
       "    <tr>\n",
       "      <th>435</th>\n",
       "      <td>18</td>\n",
       "      <td>Experimental</td>\n",
       "      <td>R2_4</td>\n",
       "      <td>880</td>\n",
       "      <td>R2</td>\n",
       "    </tr>\n",
       "    <tr>\n",
       "      <th>436</th>\n",
       "      <td>19</td>\n",
       "      <td>Experimental</td>\n",
       "      <td>R2_4</td>\n",
       "      <td>1047</td>\n",
       "      <td>R2</td>\n",
       "    </tr>\n",
       "    <tr>\n",
       "      <th>437</th>\n",
       "      <td>20</td>\n",
       "      <td>Experimental</td>\n",
       "      <td>R2_4</td>\n",
       "      <td>293</td>\n",
       "      <td>R2</td>\n",
       "    </tr>\n",
       "    <tr>\n",
       "      <th>438</th>\n",
       "      <td>21</td>\n",
       "      <td>Experimental</td>\n",
       "      <td>R2_4</td>\n",
       "      <td>900</td>\n",
       "      <td>R2</td>\n",
       "    </tr>\n",
       "    <tr>\n",
       "      <th>439</th>\n",
       "      <td>22</td>\n",
       "      <td>Control</td>\n",
       "      <td>R2_4</td>\n",
       "      <td>200</td>\n",
       "      <td>R2</td>\n",
       "    </tr>\n",
       "  </tbody>\n",
       "</table>\n",
       "<p>440 rows × 5 columns</p>\n",
       "</div>"
      ],
      "text/plain": [
       "     Mouse_ID         Group   Day  Licks Phase\n",
       "0           1       Control   BL1    665    BL\n",
       "1           2       Control   BL1    859    BL\n",
       "2           3       Control   BL1    589    BL\n",
       "3           4       Control   BL1    939    BL\n",
       "4           5  Experimental   BL1    710    BL\n",
       "..        ...           ...   ...    ...   ...\n",
       "435        18  Experimental  R2_4    880    R2\n",
       "436        19  Experimental  R2_4   1047    R2\n",
       "437        20  Experimental  R2_4    293    R2\n",
       "438        21  Experimental  R2_4    900    R2\n",
       "439        22       Control  R2_4    200    R2\n",
       "\n",
       "[440 rows x 5 columns]"
      ]
     },
     "execution_count": 99,
     "metadata": {},
     "output_type": "execute_result"
    }
   ],
   "source": [
    "## Add phase\n",
    "df2['Phase'] = df2['Day'].map(phase_dict)\n",
    "df2"
   ]
  },
  {
   "cell_type": "code",
   "execution_count": 101,
   "metadata": {
    "ExecuteTime": {
     "end_time": "2020-08-18T16:57:57.705754Z",
     "start_time": "2020-08-18T16:57:57.678216Z"
    }
   },
   "outputs": [
    {
     "data": {
      "text/html": [
       "<div>\n",
       "<style scoped>\n",
       "    .dataframe tbody tr th:only-of-type {\n",
       "        vertical-align: middle;\n",
       "    }\n",
       "\n",
       "    .dataframe tbody tr th {\n",
       "        vertical-align: top;\n",
       "    }\n",
       "\n",
       "    .dataframe thead th {\n",
       "        text-align: right;\n",
       "    }\n",
       "</style>\n",
       "<table border=\"1\" class=\"dataframe\">\n",
       "  <thead>\n",
       "    <tr style=\"text-align: right;\">\n",
       "      <th></th>\n",
       "      <th>Mouse_ID</th>\n",
       "      <th>Group</th>\n",
       "      <th>Day</th>\n",
       "      <th>Licks</th>\n",
       "      <th>Phase</th>\n",
       "      <th>Day_of_Phase</th>\n",
       "    </tr>\n",
       "  </thead>\n",
       "  <tbody>\n",
       "    <tr>\n",
       "      <th>0</th>\n",
       "      <td>1</td>\n",
       "      <td>Control</td>\n",
       "      <td>BL1</td>\n",
       "      <td>665</td>\n",
       "      <td>BL</td>\n",
       "      <td>1</td>\n",
       "    </tr>\n",
       "    <tr>\n",
       "      <th>1</th>\n",
       "      <td>2</td>\n",
       "      <td>Control</td>\n",
       "      <td>BL1</td>\n",
       "      <td>859</td>\n",
       "      <td>BL</td>\n",
       "      <td>1</td>\n",
       "    </tr>\n",
       "    <tr>\n",
       "      <th>2</th>\n",
       "      <td>3</td>\n",
       "      <td>Control</td>\n",
       "      <td>BL1</td>\n",
       "      <td>589</td>\n",
       "      <td>BL</td>\n",
       "      <td>1</td>\n",
       "    </tr>\n",
       "    <tr>\n",
       "      <th>3</th>\n",
       "      <td>4</td>\n",
       "      <td>Control</td>\n",
       "      <td>BL1</td>\n",
       "      <td>939</td>\n",
       "      <td>BL</td>\n",
       "      <td>1</td>\n",
       "    </tr>\n",
       "    <tr>\n",
       "      <th>4</th>\n",
       "      <td>5</td>\n",
       "      <td>Experimental</td>\n",
       "      <td>BL1</td>\n",
       "      <td>710</td>\n",
       "      <td>BL</td>\n",
       "      <td>1</td>\n",
       "    </tr>\n",
       "    <tr>\n",
       "      <th>...</th>\n",
       "      <td>...</td>\n",
       "      <td>...</td>\n",
       "      <td>...</td>\n",
       "      <td>...</td>\n",
       "      <td>...</td>\n",
       "      <td>...</td>\n",
       "    </tr>\n",
       "    <tr>\n",
       "      <th>435</th>\n",
       "      <td>18</td>\n",
       "      <td>Experimental</td>\n",
       "      <td>R2_4</td>\n",
       "      <td>880</td>\n",
       "      <td>R2</td>\n",
       "      <td>4</td>\n",
       "    </tr>\n",
       "    <tr>\n",
       "      <th>436</th>\n",
       "      <td>19</td>\n",
       "      <td>Experimental</td>\n",
       "      <td>R2_4</td>\n",
       "      <td>1047</td>\n",
       "      <td>R2</td>\n",
       "      <td>4</td>\n",
       "    </tr>\n",
       "    <tr>\n",
       "      <th>437</th>\n",
       "      <td>20</td>\n",
       "      <td>Experimental</td>\n",
       "      <td>R2_4</td>\n",
       "      <td>293</td>\n",
       "      <td>R2</td>\n",
       "      <td>4</td>\n",
       "    </tr>\n",
       "    <tr>\n",
       "      <th>438</th>\n",
       "      <td>21</td>\n",
       "      <td>Experimental</td>\n",
       "      <td>R2_4</td>\n",
       "      <td>900</td>\n",
       "      <td>R2</td>\n",
       "      <td>4</td>\n",
       "    </tr>\n",
       "    <tr>\n",
       "      <th>439</th>\n",
       "      <td>22</td>\n",
       "      <td>Control</td>\n",
       "      <td>R2_4</td>\n",
       "      <td>200</td>\n",
       "      <td>R2</td>\n",
       "      <td>4</td>\n",
       "    </tr>\n",
       "  </tbody>\n",
       "</table>\n",
       "<p>440 rows × 6 columns</p>\n",
       "</div>"
      ],
      "text/plain": [
       "     Mouse_ID         Group   Day  Licks Phase Day_of_Phase\n",
       "0           1       Control   BL1    665    BL            1\n",
       "1           2       Control   BL1    859    BL            1\n",
       "2           3       Control   BL1    589    BL            1\n",
       "3           4       Control   BL1    939    BL            1\n",
       "4           5  Experimental   BL1    710    BL            1\n",
       "..        ...           ...   ...    ...   ...          ...\n",
       "435        18  Experimental  R2_4    880    R2            4\n",
       "436        19  Experimental  R2_4   1047    R2            4\n",
       "437        20  Experimental  R2_4    293    R2            4\n",
       "438        21  Experimental  R2_4    900    R2            4\n",
       "439        22       Control  R2_4    200    R2            4\n",
       "\n",
       "[440 rows x 6 columns]"
      ]
     },
     "execution_count": 101,
     "metadata": {},
     "output_type": "execute_result"
    }
   ],
   "source": [
    "## Getting Day of Phase\n",
    "df2['Day_of_Phase'] = df2['Day'].apply(lambda x: x[-1])\n",
    "df2"
   ]
  },
  {
   "cell_type": "code",
   "execution_count": 102,
   "metadata": {
    "ExecuteTime": {
     "end_time": "2020-08-18T16:58:56.536715Z",
     "start_time": "2020-08-18T16:58:56.007434Z"
    }
   },
   "outputs": [],
   "source": [
    "import statsmodels.api as sm\n",
    "from statsmodels.formula.api import ols"
   ]
  },
  {
   "cell_type": "code",
   "execution_count": 114,
   "metadata": {
    "ExecuteTime": {
     "end_time": "2020-08-18T17:10:09.920821Z",
     "start_time": "2020-08-18T17:10:09.903578Z"
    }
   },
   "outputs": [
    {
     "data": {
      "text/html": [
       "<div>\n",
       "<style scoped>\n",
       "    .dataframe tbody tr th:only-of-type {\n",
       "        vertical-align: middle;\n",
       "    }\n",
       "\n",
       "    .dataframe tbody tr th {\n",
       "        vertical-align: top;\n",
       "    }\n",
       "\n",
       "    .dataframe thead th {\n",
       "        text-align: right;\n",
       "    }\n",
       "</style>\n",
       "<table border=\"1\" class=\"dataframe\">\n",
       "  <thead>\n",
       "    <tr style=\"text-align: right;\">\n",
       "      <th></th>\n",
       "      <th>Mouse_ID</th>\n",
       "      <th>Group</th>\n",
       "      <th>Day</th>\n",
       "      <th>Licks</th>\n",
       "      <th>Phase</th>\n",
       "      <th>Day_of_Phase</th>\n",
       "    </tr>\n",
       "  </thead>\n",
       "  <tbody>\n",
       "    <tr>\n",
       "      <th>0</th>\n",
       "      <td>1</td>\n",
       "      <td>Control</td>\n",
       "      <td>BL1</td>\n",
       "      <td>665</td>\n",
       "      <td>BL</td>\n",
       "      <td>1</td>\n",
       "    </tr>\n",
       "    <tr>\n",
       "      <th>1</th>\n",
       "      <td>2</td>\n",
       "      <td>Control</td>\n",
       "      <td>BL1</td>\n",
       "      <td>859</td>\n",
       "      <td>BL</td>\n",
       "      <td>1</td>\n",
       "    </tr>\n",
       "    <tr>\n",
       "      <th>2</th>\n",
       "      <td>3</td>\n",
       "      <td>Control</td>\n",
       "      <td>BL1</td>\n",
       "      <td>589</td>\n",
       "      <td>BL</td>\n",
       "      <td>1</td>\n",
       "    </tr>\n",
       "    <tr>\n",
       "      <th>3</th>\n",
       "      <td>4</td>\n",
       "      <td>Control</td>\n",
       "      <td>BL1</td>\n",
       "      <td>939</td>\n",
       "      <td>BL</td>\n",
       "      <td>1</td>\n",
       "    </tr>\n",
       "    <tr>\n",
       "      <th>4</th>\n",
       "      <td>5</td>\n",
       "      <td>Experimental</td>\n",
       "      <td>BL1</td>\n",
       "      <td>710</td>\n",
       "      <td>BL</td>\n",
       "      <td>1</td>\n",
       "    </tr>\n",
       "  </tbody>\n",
       "</table>\n",
       "</div>"
      ],
      "text/plain": [
       "   Mouse_ID         Group  Day  Licks Phase Day_of_Phase\n",
       "0         1       Control  BL1    665    BL            1\n",
       "1         2       Control  BL1    859    BL            1\n",
       "2         3       Control  BL1    589    BL            1\n",
       "3         4       Control  BL1    939    BL            1\n",
       "4         5  Experimental  BL1    710    BL            1"
      ]
     },
     "execution_count": 114,
     "metadata": {},
     "output_type": "execute_result"
    }
   ],
   "source": [
    "df2.head()"
   ]
  },
  {
   "cell_type": "code",
   "execution_count": 115,
   "metadata": {
    "ExecuteTime": {
     "end_time": "2020-08-18T17:11:12.794378Z",
     "start_time": "2020-08-18T17:11:12.749839Z"
    }
   },
   "outputs": [
    {
     "data": {
      "text/html": [
       "<div>\n",
       "<style scoped>\n",
       "    .dataframe tbody tr th:only-of-type {\n",
       "        vertical-align: middle;\n",
       "    }\n",
       "\n",
       "    .dataframe tbody tr th {\n",
       "        vertical-align: top;\n",
       "    }\n",
       "\n",
       "    .dataframe thead th {\n",
       "        text-align: right;\n",
       "    }\n",
       "</style>\n",
       "<table border=\"1\" class=\"dataframe\">\n",
       "  <thead>\n",
       "    <tr style=\"text-align: right;\">\n",
       "      <th></th>\n",
       "      <th>sum_sq</th>\n",
       "      <th>df</th>\n",
       "      <th>F</th>\n",
       "      <th>PR(&gt;F)</th>\n",
       "      <th>sig</th>\n",
       "    </tr>\n",
       "  </thead>\n",
       "  <tbody>\n",
       "    <tr>\n",
       "      <th>C(Group)</th>\n",
       "      <td>4.951e+05</td>\n",
       "      <td>1.0</td>\n",
       "      <td>9.240</td>\n",
       "      <td>2.512e-03</td>\n",
       "      <td>True</td>\n",
       "    </tr>\n",
       "    <tr>\n",
       "      <th>C(Phase)</th>\n",
       "      <td>2.254e+06</td>\n",
       "      <td>4.0</td>\n",
       "      <td>10.516</td>\n",
       "      <td>3.892e-08</td>\n",
       "      <td>True</td>\n",
       "    </tr>\n",
       "    <tr>\n",
       "      <th>C(Group):C(Phase)</th>\n",
       "      <td>9.140e+05</td>\n",
       "      <td>4.0</td>\n",
       "      <td>4.264</td>\n",
       "      <td>2.147e-03</td>\n",
       "      <td>True</td>\n",
       "    </tr>\n",
       "    <tr>\n",
       "      <th>Residual</th>\n",
       "      <td>2.304e+07</td>\n",
       "      <td>430.0</td>\n",
       "      <td>NaN</td>\n",
       "      <td>NaN</td>\n",
       "      <td>False</td>\n",
       "    </tr>\n",
       "  </tbody>\n",
       "</table>\n",
       "</div>"
      ],
      "text/plain": [
       "                      sum_sq     df       F     PR(>F)    sig\n",
       "C(Group)           4.951e+05    1.0   9.240  2.512e-03   True\n",
       "C(Phase)           2.254e+06    4.0  10.516  3.892e-08   True\n",
       "C(Group):C(Phase)  9.140e+05    4.0   4.264  2.147e-03   True\n",
       "Residual           2.304e+07  430.0     NaN        NaN  False"
      ]
     },
     "execution_count": 115,
     "metadata": {},
     "output_type": "execute_result"
    }
   ],
   "source": [
    "formula= 'Licks~C(Group)*C(Phase)'\n",
    "lm = ols(formula,df2).fit()\n",
    "\n",
    "table = sm.stats.anova_lm(lm,typ=2)\n",
    "table['sig'] = table['PR(>F)'] <.05\n",
    "table"
   ]
  },
  {
   "cell_type": "code",
   "execution_count": 107,
   "metadata": {
    "ExecuteTime": {
     "end_time": "2020-08-18T17:01:58.843880Z",
     "start_time": "2020-08-18T17:01:58.277734Z"
    }
   },
   "outputs": [
    {
     "data": {
      "text/plain": [
       "<AxesSubplot:xlabel='Phase', ylabel='Licks'>"
      ]
     },
     "execution_count": 107,
     "metadata": {},
     "output_type": "execute_result"
    },
    {
     "data": {
      "image/png": "[encoded data removed]",
      "text/plain": [
       "<Figure size 576x396 with 1 Axes>"
      ]
     },
     "metadata": {
      "needs_background": "light"
     },
     "output_type": "display_data"
    }
   ],
   "source": [
    "sns.barplot('Phase','Licks',data=df2, hue='Group',ci=68)"
   ]
  },
  {
   "cell_type": "code",
   "execution_count": 111,
   "metadata": {
    "ExecuteTime": {
     "end_time": "2020-08-18T17:03:55.005529Z",
     "start_time": "2020-08-18T17:03:54.934965Z"
    }
   },
   "outputs": [
    {
     "data": {
      "text/html": [
       "<table class=\"simpletable\">\n",
       "<caption>Multiple Comparison of Means - Tukey HSD, FWER=0.05</caption>\n",
       "<tr>\n",
       "  <th>group1</th> <th>group2</th> <th>meandiff</th>   <th>p-adj</th>   <th>lower</th>     <th>upper</th>  <th>reject</th>\n",
       "</tr>\n",
       "<tr>\n",
       "    <td>BL</td>     <td>PS</td>   <td>-14.1705</td>    <td>0.9</td>  <td>-112.0762</td>  <td>83.7353</td>  <td>False</td>\n",
       "</tr>\n",
       "<tr>\n",
       "    <td>BL</td>     <td>R1</td>   <td>-159.6705</td>  <td>0.001</td> <td>-257.5762</td> <td>-61.7647</td>  <td>True</td> \n",
       "</tr>\n",
       "<tr>\n",
       "    <td>BL</td>     <td>R2</td>    <td>55.4432</td>  <td>0.5256</td> <td>-42.4626</td>  <td>153.3489</td>  <td>False</td>\n",
       "</tr>\n",
       "<tr>\n",
       "    <td>BL</td>      <td>S</td>     <td>-8.75</td>     <td>0.9</td>  <td>-106.6557</td>  <td>89.1557</td>  <td>False</td>\n",
       "</tr>\n",
       "<tr>\n",
       "    <td>PS</td>     <td>R1</td>    <td>-145.5</td>    <td>0.001</td> <td>-243.4057</td> <td>-47.5943</td>  <td>True</td> \n",
       "</tr>\n",
       "<tr>\n",
       "    <td>PS</td>     <td>R2</td>    <td>69.6136</td>  <td>0.2939</td> <td>-28.2921</td>  <td>167.5194</td>  <td>False</td>\n",
       "</tr>\n",
       "<tr>\n",
       "    <td>PS</td>      <td>S</td>    <td>5.4205</td>     <td>0.9</td>  <td>-92.4853</td>  <td>103.3262</td>  <td>False</td>\n",
       "</tr>\n",
       "<tr>\n",
       "    <td>R1</td>     <td>R2</td>   <td>215.1136</td>   <td>0.001</td> <td>117.2079</td>  <td>313.0194</td>  <td>True</td> \n",
       "</tr>\n",
       "<tr>\n",
       "    <td>R1</td>      <td>S</td>   <td>150.9205</td>   <td>0.001</td>  <td>53.0147</td>  <td>248.8262</td>  <td>True</td> \n",
       "</tr>\n",
       "<tr>\n",
       "    <td>R2</td>      <td>S</td>   <td>-64.1932</td>  <td>0.3782</td> <td>-162.0989</td>  <td>33.7126</td>  <td>False</td>\n",
       "</tr>\n",
       "</table>"
      ],
      "text/plain": [
       "<class 'statsmodels.iolib.table.SimpleTable'>"
      ]
     },
     "execution_count": 111,
     "metadata": {},
     "output_type": "execute_result"
    }
   ],
   "source": [
    "from statsmodels.stats.multicomp import  pairwise_tukeyhsd\n",
    "res = pairwise_tukeyhsd(df2['Licks'],df2['Phase'])\n",
    "res.summary()"
   ]
  },
  {
   "cell_type": "code",
   "execution_count": null,
   "metadata": {
    "ExecuteTime": {
     "end_time": "2020-08-08T01:10:41.601784Z",
     "start_time": "2020-08-08T01:10:41.582789Z"
    }
   },
   "outputs": [],
   "source": []
  },
  {
   "cell_type": "code",
   "execution_count": 113,
   "metadata": {
    "ExecuteTime": {
     "end_time": "2020-08-18T17:08:32.216291Z",
     "start_time": "2020-08-18T17:08:32.198994Z"
    }
   },
   "outputs": [
    {
     "ename": "NotImplementedError",
     "evalue": "Between subject effect not yet supported!",
     "output_type": "error",
     "traceback": [
      "\u001b[0;31m---------------------------------------------------------------------------\u001b[0m",
      "\u001b[0;31mNotImplementedError\u001b[0m                       Traceback (most recent call last)",
      "\u001b[0;32m<ipython-input-113-acc2ee1ae8f5>\u001b[0m in \u001b[0;36m<module>\u001b[0;34m\u001b[0m\n\u001b[1;32m      3\u001b[0m \u001b[0;31m# df2.groupby('Group').get_group('Experimental')\u001b[0m\u001b[0;34m\u001b[0m\u001b[0;34m\u001b[0m\u001b[0;34m\u001b[0m\u001b[0m\n\u001b[1;32m      4\u001b[0m aovrm = AnovaRM(df2,#.groupby('Group').get_group('Experimental'),\n\u001b[0;32m----> 5\u001b[0;31m                 'Licks', 'Mouse_ID', within=['Phase'],between='Groups')#,#aggregate_func=np.nanmean)#,between=['Group'])\n\u001b[0m\u001b[1;32m      6\u001b[0m \u001b[0mres\u001b[0m \u001b[0;34m=\u001b[0m \u001b[0maovrm\u001b[0m\u001b[0;34m.\u001b[0m\u001b[0mfit\u001b[0m\u001b[0;34m(\u001b[0m\u001b[0;34m)\u001b[0m\u001b[0;34m\u001b[0m\u001b[0;34m\u001b[0m\u001b[0m\n\u001b[1;32m      7\u001b[0m \u001b[0;34m\u001b[0m\u001b[0m\n",
      "\u001b[0;32m/opt/anaconda3/envs/learn-env/lib/python3.6/site-packages/statsmodels/stats/anova.py\u001b[0m in \u001b[0;36m__init__\u001b[0;34m(self, data, depvar, subject, within, between, aggregate_func)\u001b[0m\n\u001b[1;32m    485\u001b[0m         \u001b[0mself\u001b[0m\u001b[0;34m.\u001b[0m\u001b[0mbetween\u001b[0m \u001b[0;34m=\u001b[0m \u001b[0mbetween\u001b[0m\u001b[0;34m\u001b[0m\u001b[0;34m\u001b[0m\u001b[0m\n\u001b[1;32m    486\u001b[0m         \u001b[0;32mif\u001b[0m \u001b[0mbetween\u001b[0m \u001b[0;32mis\u001b[0m \u001b[0;32mnot\u001b[0m \u001b[0;32mNone\u001b[0m\u001b[0;34m:\u001b[0m\u001b[0;34m\u001b[0m\u001b[0;34m\u001b[0m\u001b[0m\n\u001b[0;32m--> 487\u001b[0;31m             raise NotImplementedError('Between subject effect not '\n\u001b[0m\u001b[1;32m    488\u001b[0m                                       'yet supported!')\n\u001b[1;32m    489\u001b[0m         \u001b[0mself\u001b[0m\u001b[0;34m.\u001b[0m\u001b[0msubject\u001b[0m \u001b[0;34m=\u001b[0m \u001b[0msubject\u001b[0m\u001b[0;34m\u001b[0m\u001b[0;34m\u001b[0m\u001b[0m\n",
      "\u001b[0;31mNotImplementedError\u001b[0m: Between subject effect not yet supported!"
     ]
    }
   ],
   "source": [
    "from statsmodels.stats.anova import AnovaRM\n",
    "\n",
    "# df2.groupby('Group').get_group('Experimental')\n",
    "aovrm = AnovaRM(df2,#.groupby('Group').get_group('Experimental'),\n",
    "                'Licks', 'Mouse_ID', within=['Phase'],between='Groups')#,#aggregate_func=np.nanmean)#,between=['Group'])\n",
    "res = aovrm.fit()\n",
    "\n",
    "print(res)"
   ]
  },
  {
   "cell_type": "code",
   "execution_count": null,
   "metadata": {
    "ExecuteTime": {
     "end_time": "2020-08-08T01:10:42.708902Z",
     "start_time": "2020-08-08T01:10:42.694033Z"
    }
   },
   "outputs": [],
   "source": []
  },
  {
   "cell_type": "code",
   "execution_count": null,
   "metadata": {},
   "outputs": [],
   "source": []
  },
  {
   "cell_type": "markdown",
   "metadata": {},
   "source": [
    "### Adding Levene's Test"
   ]
  },
  {
   "cell_type": "code",
   "execution_count": null,
   "metadata": {
    "ExecuteTime": {
     "end_time": "2020-08-08T01:10:43.822870Z",
     "start_time": "2020-08-08T01:10:43.801427Z"
    }
   },
   "outputs": [],
   "source": []
  },
  {
   "cell_type": "markdown",
   "metadata": {},
   "source": [
    "### Run Correct Test"
   ]
  },
  {
   "cell_type": "code",
   "execution_count": null,
   "metadata": {
    "ExecuteTime": {
     "end_time": "2020-08-08T01:10:44.479259Z",
     "start_time": "2020-08-08T01:10:44.475229Z"
    }
   },
   "outputs": [],
   "source": []
  },
  {
   "cell_type": "code",
   "execution_count": null,
   "metadata": {},
   "outputs": [],
   "source": []
  },
  {
   "cell_type": "code",
   "execution_count": null,
   "metadata": {
    "ExecuteTime": {
     "end_time": "2020-08-08T01:10:45.298332Z",
     "start_time": "2020-08-08T01:10:45.292741Z"
    }
   },
   "outputs": [],
   "source": []
  },
  {
   "cell_type": "code",
   "execution_count": null,
   "metadata": {
    "ExecuteTime": {
     "end_time": "2020-08-08T01:10:45.692536Z",
     "start_time": "2020-08-08T01:10:45.672575Z"
    }
   },
   "outputs": [],
   "source": []
  },
  {
   "cell_type": "code",
   "execution_count": null,
   "metadata": {
    "ExecuteTime": {
     "end_time": "2020-08-08T01:10:46.468270Z",
     "start_time": "2020-08-08T01:10:46.264971Z"
    }
   },
   "outputs": [],
   "source": []
  },
  {
   "cell_type": "code",
   "execution_count": null,
   "metadata": {
    "ExecuteTime": {
     "end_time": "2020-08-08T01:10:46.664437Z",
     "start_time": "2020-08-08T01:10:46.658228Z"
    }
   },
   "outputs": [],
   "source": []
  },
  {
   "cell_type": "code",
   "execution_count": null,
   "metadata": {
    "ExecuteTime": {
     "end_time": "2020-08-08T01:10:47.892565Z",
     "start_time": "2020-08-08T01:10:47.198570Z"
    },
    "scrolled": false
   },
   "outputs": [],
   "source": []
  },
  {
   "cell_type": "code",
   "execution_count": null,
   "metadata": {
    "ExecuteTime": {
     "end_time": "2020-08-08T01:10:47.915610Z",
     "start_time": "2020-08-08T01:10:47.894255Z"
    }
   },
   "outputs": [],
   "source": []
  },
  {
   "cell_type": "markdown",
   "metadata": {},
   "source": [
    "## RM ANOVA Melting DF"
   ]
  },
  {
   "cell_type": "code",
   "execution_count": null,
   "metadata": {
    "ExecuteTime": {
     "end_time": "2020-08-08T01:10:48.652014Z",
     "start_time": "2020-08-08T01:10:48.617953Z"
    }
   },
   "outputs": [],
   "source": []
  },
  {
   "cell_type": "code",
   "execution_count": null,
   "metadata": {
    "ExecuteTime": {
     "end_time": "2020-08-08T01:10:49.289351Z",
     "start_time": "2020-08-08T01:10:49.268716Z"
    }
   },
   "outputs": [],
   "source": []
  },
  {
   "cell_type": "code",
   "execution_count": null,
   "metadata": {
    "ExecuteTime": {
     "end_time": "2020-08-08T01:11:47.625526Z",
     "start_time": "2020-08-08T01:11:47.623423Z"
    }
   },
   "outputs": [],
   "source": []
  },
  {
   "cell_type": "code",
   "execution_count": null,
   "metadata": {
    "ExecuteTime": {
     "end_time": "2020-08-08T01:11:51.623364Z",
     "start_time": "2020-08-08T01:11:51.600111Z"
    },
    "scrolled": false
   },
   "outputs": [],
   "source": []
  },
  {
   "cell_type": "code",
   "execution_count": null,
   "metadata": {
    "ExecuteTime": {
     "end_time": "2020-08-13T15:54:41.543684Z",
     "start_time": "2020-08-13T15:54:41.541367Z"
    }
   },
   "outputs": [],
   "source": []
  },
  {
   "cell_type": "code",
   "execution_count": null,
   "metadata": {},
   "outputs": [],
   "source": []
  },
  {
   "cell_type": "code",
   "execution_count": null,
   "metadata": {
    "ExecuteTime": {
     "end_time": "2020-08-08T01:11:52.676765Z",
     "start_time": "2020-08-08T01:11:52.485627Z"
    }
   },
   "outputs": [],
   "source": []
  },
  {
   "cell_type": "code",
   "execution_count": null,
   "metadata": {
    "ExecuteTime": {
     "end_time": "2020-08-08T01:11:53.587433Z",
     "start_time": "2020-08-08T01:11:53.584981Z"
    }
   },
   "outputs": [],
   "source": []
  },
  {
   "cell_type": "code",
   "execution_count": null,
   "metadata": {
    "ExecuteTime": {
     "end_time": "2020-08-08T01:10:52.326621Z",
     "start_time": "2020-08-08T01:10:52.323128Z"
    }
   },
   "outputs": [],
   "source": []
  },
  {
   "cell_type": "code",
   "execution_count": null,
   "metadata": {
    "ExecuteTime": {
     "end_time": "2020-08-08T01:10:52.491579Z",
     "start_time": "2020-08-08T01:10:52.478606Z"
    }
   },
   "outputs": [],
   "source": []
  },
  {
   "cell_type": "code",
   "execution_count": null,
   "metadata": {
    "ExecuteTime": {
     "end_time": "2020-08-08T01:10:52.616061Z",
     "start_time": "2020-08-08T01:10:52.594765Z"
    }
   },
   "outputs": [],
   "source": []
  },
  {
   "cell_type": "code",
   "execution_count": null,
   "metadata": {
    "ExecuteTime": {
     "end_time": "2020-08-08T01:10:52.762817Z",
     "start_time": "2020-08-08T01:10:52.758997Z"
    }
   },
   "outputs": [],
   "source": []
  },
  {
   "cell_type": "code",
   "execution_count": null,
   "metadata": {
    "ExecuteTime": {
     "end_time": "2020-08-08T01:10:53.350665Z",
     "start_time": "2020-08-08T01:10:53.292991Z"
    }
   },
   "outputs": [],
   "source": []
  },
  {
   "cell_type": "code",
   "execution_count": null,
   "metadata": {
    "ExecuteTime": {
     "end_time": "2020-08-08T01:10:53.883803Z",
     "start_time": "2020-08-08T01:10:53.741664Z"
    }
   },
   "outputs": [],
   "source": []
  },
  {
   "cell_type": "code",
   "execution_count": null,
   "metadata": {
    "ExecuteTime": {
     "end_time": "2020-08-08T01:10:54.025432Z",
     "start_time": "2020-08-08T01:10:53.892020Z"
    }
   },
   "outputs": [],
   "source": []
  },
  {
   "cell_type": "code",
   "execution_count": null,
   "metadata": {
    "ExecuteTime": {
     "end_time": "2020-08-13T15:55:14.154115Z",
     "start_time": "2020-08-13T15:55:13.854774Z"
    },
    "scrolled": false
   },
   "outputs": [],
   "source": []
  },
  {
   "cell_type": "markdown",
   "metadata": {},
   "source": [
    "## CONCLUSION\n",
    "- Running the correct test according to the assumptions of normality and equal variance will ensure you can get the correct test result.\n",
    "\n",
    "- Notice how the last phase (R) did NOT come back as significant when we ran the t-test, but DID come back significant when we performed the Mann Whitney U instead. \n",
    "\n"
   ]
  },
  {
   "cell_type": "markdown",
   "metadata": {},
   "source": [
    "(https://www.statsmodels.org/stable/generated/statsmodels.stats.multicomp.pairwise_tukeyhsd.html)"
   ]
  },
  {
   "cell_type": "markdown",
   "metadata": {
    "colab": {},
    "colab_type": "code",
    "id": "bvV8Knq8JVk7"
   },
   "source": [
    "## Effect Size Visual\n",
    "- https://rpsychologist.com/d3/NHST/\n"
   ]
  },
  {
   "cell_type": "markdown",
   "metadata": {},
   "source": [
    "## Ephys Figure\n",
    "<img src=\"https://raw.githubusercontent.com/jirvingphd/fsds_pt_100719_cohort_notes/master/Images/jmi_fig1.png\">"
   ]
  },
  {
   "cell_type": "code",
   "execution_count": null,
   "metadata": {},
   "outputs": [],
   "source": []
  },
  {
   "cell_type": "markdown",
   "metadata": {},
   "source": [
    "## Statistical Analysis Pipeline\n",
    "\n",
    "1. **Test for Normality**\n",
    "    - D'Agostino-Pearson's normality test<br>\n",
    "    ```scipy.stats.normaltest```\n",
    "    - Shapiro-Wilik Test<br>\n",
    "    ```scipy.stats.shapiro```<br>\n",
    "    \n",
    "    \n",
    "2. **Test for Homogeneity of Variance**\n",
    "\n",
    "    - Levene's Test<br>\n",
    "    ```scipy.stats.levene```\n",
    "\n",
    "\n",
    "3. **Choose appropriate test based upon 1. and 2.** <br> \n",
    "    - T Test (1-sample)\n",
    "        - `stats.ttest_1samp()`\n",
    "    - T Test (2-sample)\n",
    "        - `stats.ttest_ind()`\n",
    "        - [docs](https://docs.scipy.org/doc/scipy/reference/generated/scipy.stats.ttest_ind.html)\n",
    "    - Welch's T-Test (2-sample)\n",
    "        - `stats.ttest_ind(equal_var=False)`\n",
    "        - [docs](https://docs.scipy.org/doc/scipy/reference/generated/scipy.stats.ttest_ind.html)\n",
    "        \n",
    "    - Mann Whitney U\n",
    "        - `stats.mannwhitneyu()`\n",
    "        - [docs](https://docs.scipy.org/doc/scipy/reference/generated/scipy.stats.mannwhitneyu.html)\n",
    "    - ANOVA \n",
    "        - `stats.f_oneway()`\n",
    "        - [docs](https://docs.scipy.org/doc/scipy/reference/generated/scipy.stats.f_oneway.html)\n",
    "    - Tukey's\n",
    "     - `statsmodels.stats.multicomp.pairwise_tukeyhsd`\n",
    "     -[docs](https://www.statsmodels.org/stable/generated/statsmodels.stats.multicomp.pairwise_tukeyhsd.html)\n",
    "    \n",
    "\n",
    "4. **Calculate effect size for significant results.**\n",
    "    - Effect size: [cohen's d](https://stackoverflow.com/questions/21532471/how-to-calculate-cohens-d-in-python)\n",
    "    - Interpretation:\n",
    "        - Small effect = 0.2 ( cannot be seen by naked eye)\n",
    "        - Medium effect  = 0.5\n",
    "        - Large Effect = 0.8 (can be seen by naked eye)\n",
    "        \n",
    "5. **If significant, follow up with post-hoc tests (if have more than 2 groups)**\n",
    "    - [Tukey's](https://www.statsmodels.org/stable/generated/statsmodels.stats.multicomp.pairwise_tukeyhsd.html)\n"
   ]
  }
 ],
 "metadata": {
  "colab": {
   "collapsed_sections": [],
   "name": "Sect 18+19  with Titanic.ipynb",
   "provenance": []
  },
  "kernelspec": {
   "display_name": "Python [conda env:learn-env] *",
   "language": "python",
   "name": "conda-env-learn-env-py"
  },
  "language_info": {
   "codemirror_mode": {
    "name": "ipython",
    "version": 3
   },
   "file_extension": ".py",
   "mimetype": "text/x-python",
   "name": "python",
   "nbconvert_exporter": "python",
   "pygments_lexer": "ipython3",
   "version": "3.6.11"
  },
  "toc": {
   "base_numbering": 1,
   "nav_menu": {},
   "number_sections": false,
   "sideBar": true,
   "skip_h1_title": false,
   "title_cell": "Table of Contents",
   "title_sidebar": "Contents",
   "toc_cell": false,
   "toc_position": {
    "height": "calc(100% - 180px)",
    "left": "10px",
    "top": "150px",
    "width": "320px"
   },
   "toc_section_display": true,
   "toc_window_display": true
  },
  "varInspector": {
   "cols": {
    "lenName": 16,
    "lenType": 16,
    "lenVar": 40
   },
   "kernels_config": {
    "python": {
     "delete_cmd_postfix": "",
     "delete_cmd_prefix": "del ",
     "library": "var_list.py",
     "varRefreshCmd": "print(var_dic_list())"
    },
    "r": {
     "delete_cmd_postfix": ") ",
     "delete_cmd_prefix": "rm(",
     "library": "var_list.r",
     "varRefreshCmd": "cat(var_dic_list()) "
    }
   },
   "position": {
    "height": "360.85px",
    "left": "630px",
    "right": "20px",
    "top": "38px",
    "width": "480px"
   },
   "types_to_exclude": [
    "module",
    "function",
    "builtin_function_or_method",
    "instance",
    "_Feature"
   ],
   "window_display": false
  }
 },
 "nbformat": 4,
 "nbformat_minor": 1
}
